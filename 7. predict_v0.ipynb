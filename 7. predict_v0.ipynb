{
 "cells": [
  {
   "cell_type": "markdown",
   "metadata": {
    "colab_type": "text",
    "id": "view-in-github"
   },
   "source": [
    "<a href=\"https://colab.research.google.com/github/fasthill/ML-DL-study-alone/blob/main/5-1%20%EA%B2%B0%EC%A0%95%20%ED%8A%B8%EB%A6%AC.ipynb\" target=\"_parent\"><img src=\"https://colab.research.google.com/assets/colab-badge.svg\" alt=\"Open In Colab\"/></a>"
   ]
  },
  {
   "cell_type": "markdown",
   "metadata": {
    "id": "5uA_6TRHEMHV"
   },
   "source": [
    "## Testing with real world data"
   ]
  },
  {
   "cell_type": "markdown",
   "metadata": {
    "id": "26KAIfzEEMHc"
   },
   "source": [
    "<table align=\"left\">\n",
    "  <td>\n",
    "    <a target=\"_blank\" href=\"https://colab.research.google.com/github/rickiepark/hg-mldl/blob/master/5-1.ipynb\"><img src=\"https://www.tensorflow.org/images/colab_logo_32px.png\" />구글 코랩에서 실행하기</a>\n",
    "  </td>\n",
    "</table>"
   ]
  },
  {
   "cell_type": "code",
   "execution_count": 1,
   "metadata": {
    "id": "rIXeXBVTfZrS"
   },
   "outputs": [],
   "source": [
    "import numpy as np\n",
    "import pandas as pd\n",
    "import matplotlib.pyplot as plt\n",
    "from functools import reduce\n",
    "import datetime\n",
    "import os, re"
   ]
  },
  {
   "cell_type": "code",
   "execution_count": 2,
   "metadata": {},
   "outputs": [],
   "source": [
    "from xgboost import XGBClassifier\n",
    "import xgboost\n",
    "from lightgbm import LGBMClassifier\n",
    "import lightgbm\n",
    "import joblib"
   ]
  },
  {
   "cell_type": "code",
   "execution_count": 3,
   "metadata": {},
   "outputs": [],
   "source": [
    "from sklearn.linear_model import LogisticRegression, SGDClassifier, SGDRegressor\n",
    "from sklearn.model_selection import cross_validate, train_test_split\n",
    "from sklearn.preprocessing import StandardScaler\n",
    "from sklearn.tree import DecisionTreeClassifier, plot_tree\n",
    "from sklearn.model_selection import GridSearchCV\n",
    "from sklearn.model_selection import StratifiedKFold\n",
    "\n",
    "from sklearn.metrics import f1_score\n",
    "from sklearn.metrics import confusion_matrix\n",
    "from sklearn.metrics import roc_auc_score\n",
    "from sklearn.metrics import precision_score, recall_score\n",
    "from sklearn.metrics import mean_squared_error\n",
    "from sklearn.metrics import accuracy_score\n",
    "\n",
    "from tensorflow import keras\n",
    "from tensorflow.keras import Sequential\n",
    "from tensorflow.keras.layers import Dense, Flatten, Dropout\n",
    "from tensorflow.keras.models import load_model\n",
    "from tensorflow.keras.callbacks import ModelCheckpoint, EarlyStopping"
   ]
  },
  {
   "cell_type": "code",
   "execution_count": 4,
   "metadata": {},
   "outputs": [],
   "source": [
    "import pickle\n",
    "\n",
    "# write list, dictionary to pickle\n",
    "def save_to_pickle(path, filename):\n",
    "    open_file = open(path, \"wb\")\n",
    "    pickle.dump(filename, open_file)\n",
    "    open_file.close()\n",
    "\n",
    "# read list, dictionary from pickle\n",
    "def load_from_pickle(path):\n",
    "    open_file = open(path, \"rb\")\n",
    "    loaded_file = pickle.load(open_file)\n",
    "    open_file.close()\n",
    "    return loaded_file"
   ]
  },
  {
   "cell_type": "code",
   "execution_count": 5,
   "metadata": {},
   "outputs": [],
   "source": [
    "import csv\n",
    "\n",
    "# write list, dictionary to csv\n",
    "# path = './xxx/', my_dict = filename\n",
    "\n",
    "def save_dict_to_csv(path, my_dict):\n",
    "    df = pd.DataFrame.from_dict(my_dict, orient='index') \n",
    "    df.to_csv (path, index=False, header=True)  \n",
    "    \n",
    "def save_list_to_csv(path, my_list):\n",
    "    df = pd.DataFrame(my_list, columns=['columns'])\n",
    "    df.to_csv (path, index=False, header=True) "
   ]
  },
  {
   "cell_type": "code",
   "execution_count": 6,
   "metadata": {},
   "outputs": [],
   "source": [
    "def to_df(date, com_name, precision, y_predict, weight):\n",
    "    dict_temp = {}\n",
    "    dict_temp['date'] = date\n",
    "    dict_temp[f'{com_name}_precision'] = f'{precision:.2f}'\n",
    "    dict_temp[f'{com_name}_predict'] = f'{y_predict[0]}'\n",
    "    dict_temp[f'{com_name}_yes'] = f'{weight[0,1]:.2f}'\n",
    "    dict_temp[f'{com_name}_no'] = f'{weight[0,0]:.2f}'\n",
    "    df_t = pd.DataFrame.from_dict(dict_temp, orient='index').T\n",
    "    df_t.set_index('date', inplace=True)\n",
    "    return df_t"
   ]
  },
  {
   "cell_type": "code",
   "execution_count": 7,
   "metadata": {},
   "outputs": [],
   "source": [
    "def to_df_todays(date, com_name, result, y_predict, weight, cr, yes_no):\n",
    "    if yes_no:\n",
    "        precision = result.loc['test_precision'].iloc[-1] \n",
    "        tn = result.loc['test_tn'].iloc[-1]\n",
    "        fp = result.loc['test_fp'].iloc[-1]\n",
    "        fn = result.loc['test_fn'].iloc[-1]\n",
    "        tp = result.loc['test_tp'].iloc[-1]\n",
    "    else:\n",
    "        precision = result.loc['precision'].iloc[-1]\n",
    "        tn = result.loc['tn'].iloc[-1]\n",
    "        fp = result.loc['fp'].iloc[-1]\n",
    "        fn = result.loc['fn'].iloc[-1]\n",
    "        tp = result.loc['tp'].iloc[-1]\n",
    "    \n",
    "    dict_temp = {}\n",
    "    dict_temp['name'] = com_name\n",
    "    dict_temp[f'precision'] = f'{precision:.2f}'\n",
    "    dict_temp[f'predict'] = f'{y_predict[0]}'\n",
    "    dict_temp[f'yes'] = f'{weight[0,1]:.2f}'\n",
    "    dict_temp[f'no'] = f'{weight[0,0]:.2f}'\n",
    "    dict_temp[f'tn'] = f'{tn:.1f}'\n",
    "    dict_temp[f'fp'] = f'{fp:.1f}'\n",
    "    dict_temp[f'fn'] = f'{fn:.1f}'\n",
    "    dict_temp[f'tp'] = f'{tp:.1f}'\n",
    "    if ((y_predict[0] == 1) & (cr > 0)):\n",
    "        result = 'right'\n",
    "    elif ((y_predict[0] == 1) & (cr <= 0)):\n",
    "        result = 'wrong'\n",
    "    else:\n",
    "        result = 'draw'\n",
    "    dict_temp[f'result'] = result\n",
    "    \n",
    "    df_t = pd.DataFrame.from_dict(dict_temp, orient='index').T\n",
    "    df_t.set_index('name', inplace=True)\n",
    "    return df_t"
   ]
  },
  {
   "cell_type": "code",
   "execution_count": 8,
   "metadata": {},
   "outputs": [],
   "source": [
    "def is_new_format(f_name): #5월 16일 이전 생성 데이터 확인\n",
    "    mon = int(f_name[11:13])\n",
    "    day = int(f_name[13:15])\n",
    "    if (mon < 5):\n",
    "        return False\n",
    "    elif (mon == 5) & (day < 16) :\n",
    "        return False\n",
    "    else:\n",
    "        return True"
   ]
  },
  {
   "cell_type": "code",
   "execution_count": 9,
   "metadata": {},
   "outputs": [],
   "source": [
    "def find_filename(dir): # find a filename in a directory\n",
    "    p = re.compile('lgbm_bs_df_(.{9}).*csv')\n",
    "    dir_list = os.listdir(dir)\n",
    "    for fname in dir_list:\n",
    "        aa = p.search(fname)\n",
    "        if aa is None:\n",
    "            continue\n",
    "        else:\n",
    "            return aa.group()"
   ]
  },
  {
   "cell_type": "code",
   "execution_count": 10,
   "metadata": {},
   "outputs": [],
   "source": [
    "# get stock market opening days\n",
    "base_data_directory = './data/base_data/stock_market_holydays/'\n",
    "opening_days_kor = pd.read_pickle(base_data_directory+'opening_days_kor.pkl') # 한국 개장일 데이터 \n",
    "opening_days_usa = pd.read_pickle(base_data_directory+'opening_days_usa.pkl') # 미국 개장일 데이터 "
   ]
  },
  {
   "cell_type": "code",
   "execution_count": 11,
   "metadata": {
    "scrolled": true
   },
   "outputs": [],
   "source": [
    "import sys, os\n",
    "\n",
    "module_path = os.path.abspath(os.path.join('.')) # 현재 폴더로 이동\n",
    "if module_path+\"\\\\data\\\\base_data\\\\common_data\" not in sys.path:\n",
    "    sys.path.append(module_path+\"\\\\data\\\\base_data\\\\common_data\") #  공통으로 사용하는 각종 리스트, 코드 등 \n",
    "    \n",
    "import common_data as cd"
   ]
  },
  {
   "cell_type": "code",
   "execution_count": 12,
   "metadata": {},
   "outputs": [],
   "source": [
    "# cd.code_all"
   ]
  },
  {
   "cell_type": "code",
   "execution_count": 13,
   "metadata": {},
   "outputs": [],
   "source": [
    "code = cd.code_all # 전체 회사 코드\n",
    "\n",
    "code_mid = {'373220': ['LG에너지솔루션', 'lgenergy'], '207940': ['삼성바이오로직스', 'ssbio'],\n",
    "            '000270': ['기아', 'kia'], '028260': ['삼성물산', 'sscnt'],\n",
    "            '015760': ['한국전력', 'koreaelec'], '034020': ['두산에너빌리티', 'doosanener'],\n",
    "            '051900': ['LG생활건강', 'lglife'], '259960': ['크래프톤', 'crafton'],\n",
    "            '361610': ['SK아이이테크놀로지', 'skietech'], '086280': ['현대글로비스', 'glovis'],\n",
    "            '302440': ['SK바이오사이언스', 'skbio'],\n",
    "            }\n",
    "\n",
    "code_bad = {'051910': ['LG화학', 'lgchemical'], '033780': ['KT&G', 'ktng'],\n",
    "            '005490': ['POSCO홀딩스', 'poscoholding'], '068270': ['셀트리온', 'celltrion'],\n",
    "            '066570': ['LG전자', 'lgelec'],  '096770': ['SK이노베이션', 'skinnovation'],\n",
    "            '030200': ['KT', 'kt'], '003550': ['LG', 'lg'],\n",
    "            '329180': ['현대중공업', 'hhi'], '003490': ['대한항공', 'koreanair'],\n",
    "            '036570': ['엔씨소프트', 'ncsoft'], '009830': ['한화솔루션', 'hanhwasol'],\n",
    "            '090430': ['아모레퍼시픽', 'amore'], '011170': ['롯데케미칼', 'lottechem'],\n",
    "            '138040': ['메리츠금융지주', 'meritz'], '011070': ['LG이노텍', 'lginnotek'],\n",
    "           }\n",
    "\n",
    "code_good = {'005930': ['삼성전자', 'sec'], '035420': ['NAVER', 'naver'],\n",
    "             '005380': ['현대차', 'hyunmotor'], '035720': ['카카오', 'kakao'],\n",
    "             '000660': ['SK하이닉스', 'skhynix'], '006400': ['삼성SDI', 'sdi'],\n",
    "             '005935': ['삼성전자우', 'secpre'], '105560': ['KB금융', 'kbbank'],\n",
    "             '012330': ['현대모비스', 'mobis'],  '055550': ['신한지주', 'shgroup'],\n",
    "             '003670': ['포스코퓨처엠', 'poscochemical'], '034730': ['SK', 'sk'], \n",
    "             '032830': ['삼성생명', 'sslife'], '086790': ['하나금융지주', 'hana'],\n",
    "             '009150': ['삼성전기', 'sselec'], '017670': ['SK텔레콤', 'sktelecom'],\n",
    "             '011200': ['HMM', 'hmm'], '000810': ['삼성화재', 'ssfire'], \n",
    "             '010950': ['S-Oil', 'soil'], '018260': ['삼성에스디에스', 'sds'],\n",
    "             '316140': ['우리금융지주', 'woorifg'], '024110': ['기업은행', 'ibk'], \n",
    "             '377300': ['카카오페이', 'kakaopay'], '028050': ['삼성엔지니어링', 'ssengineering'],\n",
    "            }"
   ]
  },
  {
   "cell_type": "code",
   "execution_count": null,
   "metadata": {},
   "outputs": [],
   "source": []
  },
  {
   "cell_type": "code",
   "execution_count": 14,
   "metadata": {},
   "outputs": [],
   "source": [
    "directory_for_predict = './data/data_for_ml/predict/'\n",
    "directory_for_data = './data/company_pkl/'\n",
    "directory_for_common = './data/common_pkl/'"
   ]
  },
  {
   "cell_type": "code",
   "execution_count": 15,
   "metadata": {},
   "outputs": [],
   "source": [
    "df_dji = pd.read_pickle(directory_for_common+'dji.pkl')\n",
    "df_sec = pd.read_pickle(directory_for_data+'sec_investors.pkl')\n",
    "df_common = pd.read_pickle(directory_for_predict+'0_df_common.pkl')\n",
    "df_company = pd.read_pickle(directory_for_predict+'df_sec_company.pkl')\n",
    "df_combine = pd.read_pickle(directory_for_predict+'df_sec_combine.pkl')"
   ]
  },
  {
   "cell_type": "code",
   "execution_count": 16,
   "metadata": {},
   "outputs": [],
   "source": [
    "if not os.path.exists(directory_for_predict+ 'prediction/prediction_list.pkl'):\n",
    "    os.makedirs(directory_for_predict+'prediction')\n",
    "    prediction_list=pd.DataFrame()\n",
    "    fname_p = 'prediction_list.pkl'\n",
    "    path_p = directory_for_predict+'prediction/' + fname_p\n",
    "    prediction_list.to_pickle(path_p)"
   ]
  },
  {
   "cell_type": "code",
   "execution_count": 17,
   "metadata": {},
   "outputs": [],
   "source": [
    "prediction_list = pd.read_pickle(directory_for_predict+ 'prediction/prediction_list.pkl')"
   ]
  },
  {
   "cell_type": "code",
   "execution_count": 18,
   "metadata": {},
   "outputs": [],
   "source": [
    "prediction_date = datetime.date.today()\n",
    "# prediction_date = datetime.date(2023, 5, 10) # 예측을 필요로 하는 일자"
   ]
  },
  {
   "cell_type": "code",
   "execution_count": 19,
   "metadata": {},
   "outputs": [
    {
     "name": "stdout",
     "output_type": "stream",
     "text": [
      "오늘 2023-06-20은 개장일입니다.\n",
      "미국 dji   마지막 기록 일자 : 2023-06-16 (거래일자)\n",
      "     미국 다음 개장일은 2023-06-20 입니다.\n",
      "한국 주식  마지막 기록 일자 : 2023-06-19 (거래일자)\n",
      "     한국 다음 개장일은 2023-06-20 입니다.\n",
      "df_common  마지막 기록 일자 : 2023-06-21 (예측일자)\n",
      "df_company 마지막 기록 일자 : 2023-06-20 (예측일자)\n",
      "df_combine 마지막 기록 일자 : 2023-06-19 (예측일자)\n"
     ]
    },
    {
     "ename": "Exception",
     "evalue": "예측을 위한 최근 데이터가 준비가 되어 있지 않음. 혹은 한국, 미국 주식 휴장, kosdaq,,kospi 등. 예측 당일 최신자료로 진행하도록...",
     "output_type": "error",
     "traceback": [
      "\u001b[1;31m---------------------------------------------------------------------------\u001b[0m",
      "\u001b[1;31mException\u001b[0m                                 Traceback (most recent call last)",
      "Cell \u001b[1;32mIn[19], line 36\u001b[0m\n\u001b[0;32m     34\u001b[0m         \u001b[38;5;28mprint\u001b[39m(\u001b[38;5;124mf\u001b[39m\u001b[38;5;124m\"\u001b[39m\u001b[38;5;124mdf_company 마지막 기록 일자 : \u001b[39m\u001b[38;5;132;01m{\u001b[39;00mdf_company\u001b[38;5;241m.\u001b[39mindex[\u001b[38;5;241m-\u001b[39m\u001b[38;5;241m1\u001b[39m]\u001b[38;5;241m.\u001b[39misoformat()\u001b[38;5;132;01m}\u001b[39;00m\u001b[38;5;124m (예측일자)\u001b[39m\u001b[38;5;124m\"\u001b[39m)\n\u001b[0;32m     35\u001b[0m         \u001b[38;5;28mprint\u001b[39m(\u001b[38;5;124mf\u001b[39m\u001b[38;5;124m\"\u001b[39m\u001b[38;5;124mdf_combine 마지막 기록 일자 : \u001b[39m\u001b[38;5;132;01m{\u001b[39;00mdf_combine\u001b[38;5;241m.\u001b[39mindex[\u001b[38;5;241m-\u001b[39m\u001b[38;5;241m1\u001b[39m]\u001b[38;5;241m.\u001b[39misoformat()\u001b[38;5;132;01m}\u001b[39;00m\u001b[38;5;124m (예측일자)\u001b[39m\u001b[38;5;124m\"\u001b[39m)  \n\u001b[1;32m---> 36\u001b[0m         \u001b[38;5;28;01mraise\u001b[39;00m \u001b[38;5;167;01mException\u001b[39;00m(\u001b[38;5;124mf\u001b[39m\u001b[38;5;124m\"\u001b[39m\u001b[38;5;124m예측을 위한 최근 데이터가 준비가 되어 있지 않음. 혹은 한국, 미국 주식 휴장, kosdaq,,kospi 등. 예측 당일 최신자료로 진행하도록...\u001b[39m\u001b[38;5;124m\"\u001b[39m)\n\u001b[0;32m     38\u001b[0m     com_row \u001b[38;5;241m=\u001b[39m com_data[com_data[\u001b[38;5;124m'\u001b[39m\u001b[38;5;124mdate\u001b[39m\u001b[38;5;124m'\u001b[39m]  \u001b[38;5;241m==\u001b[39m prediction_date]\n\u001b[0;32m     39\u001b[0m \u001b[38;5;66;03m#     com_row = com_data[com_data['date'].apply(lambda x: x.date())  == prediction_date]\u001b[39;00m\n\u001b[0;32m     40\u001b[0m \u001b[38;5;66;03m#     com_data['date'].apply(lambda x: x.date()) <  prediction_date\u001b[39;00m\n",
      "\u001b[1;31mException\u001b[0m: 예측을 위한 최근 데이터가 준비가 되어 있지 않음. 혹은 한국, 미국 주식 휴장, kosdaq,,kospi 등. 예측 당일 최신자료로 진행하도록..."
     ]
    }
   ],
   "source": [
    "df_base = pd.DataFrame()\n",
    "df_todays = pd.DataFrame()\n",
    "\n",
    "if prediction_date not in list(opening_days_kor):\n",
    "    print(f'오늘 {prediction_date}은 휴장일입니다.')\n",
    "else:\n",
    "    print(f'오늘 {prediction_date}은 개장일입니다.')\n",
    "\n",
    "for key, val in code_good.items():\n",
    " \n",
    "    com_name = val[1]\n",
    "    \n",
    "    fname = f'df_{com_name}_combine.pkl'\n",
    "    f_name = directory_for_predict + fname\n",
    "    df_o = pd.read_pickle(f_name) \n",
    "    com_fname = f'{com_name}_historical.pkl'  # 실제와 예측을 비교하기 위하여 실제데이터을 불러 옴\n",
    "    f_com_name = directory_for_data + com_fname\n",
    "    com_data = pd.read_pickle(f_com_name)\n",
    "\n",
    "    current_data = df_o.loc[:, 'retail_1':'weekday'] # select columns except targets columns\n",
    "    \n",
    "    prediction_row = current_data[current_data.index == prediction_date]\n",
    "        \n",
    "    if(len(prediction_row) == 0):\n",
    "        # 데이터 최종 기록일 확인\n",
    "        print(f\"미국 dji   마지막 기록 일자 : {df_dji['date'].iloc[-1].isoformat()} (거래일자)\")\n",
    "        lf1_index = list(opening_days_usa).index(df_dji['date'].iloc[-1]) + 1 # 현재 개장일 이후에 오는 개장일 날짜 index (+1 index)\n",
    "        print(f\"     미국 다음 개장일은 {list(opening_days_usa)[lf1_index]} 입니다.\")\n",
    "        print(f\"한국 주식  마지막 기록 일자 : {df_sec['date'].iloc[-1].isoformat()[:10]} (거래일자)\")\n",
    "        lf1_index = list(opening_days_kor).index(df_sec['date'].iloc[-1].date()) + 1 # 현재 개장일 이후에 오는 개장일 날짜 index (+1 index)\n",
    "#         lf1_index = l_index + 1 # 현재 개장일 이후에 오는 개장일 날짜 index (+1 index)\n",
    "        print(f\"     한국 다음 개장일은 {list(opening_days_kor)[lf1_index]} 입니다.\")\n",
    "        print(f\"df_common  마지막 기록 일자 : {df_common.index[-1].isoformat()} (예측일자)\")\n",
    "        print(f\"df_company 마지막 기록 일자 : {df_company.index[-1].isoformat()} (예측일자)\")\n",
    "        print(f\"df_combine 마지막 기록 일자 : {df_combine.index[-1].isoformat()} (예측일자)\")  \n",
    "        raise Exception(f\"예측을 위한 최근 데이터가 준비가 되어 있지 않음. 혹은 한국, 미국 주식 휴장, kosdaq,,kospi 등. 예측 당일 최신자료로 진행하도록...\")\n",
    "    \n",
    "    com_row = com_data[com_data['date']  == prediction_date]\n",
    "#     com_row = com_data[com_data['date'].apply(lambda x: x.date())  == prediction_date]\n",
    "#     com_data['date'].apply(lambda x: x.date()) <  prediction_date\n",
    "\n",
    "    try:\n",
    "        cr = com_row['close_cr'].values[0] # 실제의 등락을 확인\n",
    "    except:\n",
    "        cr = -1  # 예측 당일 아침 실제 결과가 없을시 임시 지정\n",
    "        \n",
    "        #**************************************************************\n",
    "\n",
    "    # locate the model data directory\n",
    "    directory_model_data = f'./data/data_for_ml/model/model/{com_name}/'\n",
    "\n",
    "    # get the model data filepath\n",
    "    columns_pkl = directory_model_data + 'best_columns.pkl'\n",
    "    scaler_pkl = directory_model_data + 'best_scaler.pkl'\n",
    "    scaler_p_pkl = directory_model_data + 'best_scaler_p.pkl'\n",
    "    model_pkl = directory_model_data + 'best_model.pkl'\n",
    "    model_p_pkl = directory_model_data + 'best_model_p.pkl'\n",
    "    result_pkl = directory_model_data + 'best_result.pkl'\n",
    "    \n",
    "    # load result data\n",
    "#     result = load_from_pickle(result_pkl)[:-5] \n",
    "    result = load_from_pickle(result_pkl)\n",
    "    \n",
    "    yes_no = is_new_format(find_filename(directory_model_data))\n",
    "    if yes_no:\n",
    "        precision = result.loc['test_precision'].iloc[-1]\n",
    "    else:\n",
    "        precision = result.loc['precision'].iloc[-1]\n",
    "    \n",
    "    # load columns data\n",
    "    real_columns = load_from_pickle(columns_pkl)[:-5] # column 읽기. target columns 5개는 제외\n",
    "    real_data_df = prediction_row[real_columns] # select necessary columns\n",
    "    \n",
    "    # scale the data\n",
    "    scaler = joblib.load(scaler_pkl) # scaler 읽기\n",
    "#     scaler = load_from_pickle(scaler_p_pkl) # scaler 읽기\n",
    "    real_scaled = scaler.transform(real_data_df)\n",
    "    \n",
    "    # apply the scaled real_data to the model\n",
    "    model = joblib.load(model_pkl) # model 읽기\n",
    "#     model = load_from_pickle(model_p_pkl) # model made with pickle 읽기\n",
    "\n",
    "    y_predict = model.predict(real_scaled)\n",
    "    weight = model.predict_proba(real_scaled)\n",
    "\n",
    "    df_temp = to_df(prediction_row.index[-1], com_name, precision, y_predict, weight)\n",
    "    df_base = pd.concat([df_base, df_temp],axis=1)\n",
    "    df_temp_todays = to_df_todays(prediction_row.index[-1], com_name, result, y_predict, weight, cr, yes_no)\n",
    "    df_todays = pd.concat([df_todays, df_temp_todays],axis=0)\n",
    "    \n",
    "#     print(f'**date: {prediction_row.index[-1].date()}, {precision:.2f}, {com_name}, 예측: {y_predict}, 가능성:{weight}')\n",
    "df_todays"
   ]
  },
  {
   "cell_type": "code",
   "execution_count": 20,
   "metadata": {},
   "outputs": [
    {
     "data": {
      "text/html": [
       "<div>\n",
       "<style scoped>\n",
       "    .dataframe tbody tr th:only-of-type {\n",
       "        vertical-align: middle;\n",
       "    }\n",
       "\n",
       "    .dataframe tbody tr th {\n",
       "        vertical-align: top;\n",
       "    }\n",
       "\n",
       "    .dataframe thead th {\n",
       "        text-align: right;\n",
       "    }\n",
       "</style>\n",
       "<table border=\"1\" class=\"dataframe\">\n",
       "  <thead>\n",
       "    <tr style=\"text-align: right;\">\n",
       "      <th></th>\n",
       "      <th>retail_1</th>\n",
       "      <th>foreigner_1</th>\n",
       "      <th>institution_1</th>\n",
       "      <th>financial_1</th>\n",
       "      <th>invtrust_1</th>\n",
       "      <th>pension_1</th>\n",
       "      <th>privequity_1</th>\n",
       "      <th>bank_1</th>\n",
       "      <th>insurance_1</th>\n",
       "      <th>financeetc_1</th>\n",
       "      <th>...</th>\n",
       "      <th>ixtr_cr_2</th>\n",
       "      <th>ixut_cr_2</th>\n",
       "      <th>nbi_cr_2</th>\n",
       "      <th>bkx_cr_2</th>\n",
       "      <th>open_2</th>\n",
       "      <th>high_2</th>\n",
       "      <th>low_2</th>\n",
       "      <th>close_2</th>\n",
       "      <th>vol_2</th>\n",
       "      <th>weekday</th>\n",
       "    </tr>\n",
       "  </thead>\n",
       "  <tbody>\n",
       "  </tbody>\n",
       "</table>\n",
       "<p>0 rows × 109 columns</p>\n",
       "</div>"
      ],
      "text/plain": [
       "Empty DataFrame\n",
       "Columns: [retail_1, foreigner_1, institution_1, financial_1, invtrust_1, pension_1, privequity_1, bank_1, insurance_1, financeetc_1, corporateetc_1, foreigneretc_1, dji_cr, dji_f_cr, dxy_cr, ixic_f_cr, bond_kor_10_cr, bond_kor_2_cr, kosdaq_cr, kospi_cr, krw_cr, ixic_cr, spx_f_cr, sox_cr, spx_cr, bond_usa_10_cr, bond_usa_2_cr, bond_usa_3m_cr, vix_cr, wti_cr, spsy_cr, spny_cr, spxhc_cr, splrcd_cr, splrci_cr, splrcu_cr, splrcs_cr, splrct_cr, splrcl_cr, splrcm_cr, ixbk_cr, ixfn_cr, ixid_cr, ixis_cr, ixk_cr, ixtr_cr, ixut_cr, nbi_cr, bkx_cr, open_1, high_1, low_1, close_1, vol_1, retail_2, foreigner_2, institution_2, financial_2, invtrust_2, pension_2, privequity_2, bank_2, insurance_2, financeetc_2, corporateetc_2, foreigneretc_2, dji_cr_2, dji_f_cr_2, dxy_cr_2, ixic_f_cr_2, bond_kor_10_cr_2, bond_kor_2_cr_2, kosdaq_cr_2, kospi_cr_2, krw_cr_2, ixic_cr_2, spx_f_cr_2, sox_cr_2, spx_cr_2, bond_usa_10_cr_2, bond_usa_2_cr_2, bond_usa_3m_cr_2, vix_cr_2, wti_cr_2, spsy_cr_2, spny_cr_2, spxhc_cr_2, splrcd_cr_2, splrci_cr_2, splrcu_cr_2, splrcs_cr_2, splrct_cr_2, splrcl_cr_2, splrcm_cr_2, ixbk_cr_2, ixfn_cr_2, ixid_cr_2, ixis_cr_2, ixk_cr_2, ixtr_cr_2, ...]\n",
       "Index: []\n",
       "\n",
       "[0 rows x 109 columns]"
      ]
     },
     "execution_count": 20,
     "metadata": {},
     "output_type": "execute_result"
    }
   ],
   "source": [
    "prediction_row"
   ]
  },
  {
   "cell_type": "code",
   "execution_count": 21,
   "metadata": {},
   "outputs": [
    {
     "ename": "NameError",
     "evalue": "name 'result' is not defined",
     "output_type": "error",
     "traceback": [
      "\u001b[1;31m---------------------------------------------------------------------------\u001b[0m",
      "\u001b[1;31mNameError\u001b[0m                                 Traceback (most recent call last)",
      "Cell \u001b[1;32mIn[21], line 1\u001b[0m\n\u001b[1;32m----> 1\u001b[0m \u001b[43mresult\u001b[49m\u001b[38;5;241m.\u001b[39mtail()\n",
      "\u001b[1;31mNameError\u001b[0m: name 'result' is not defined"
     ]
    }
   ],
   "source": [
    "result.tail()"
   ]
  },
  {
   "cell_type": "code",
   "execution_count": 22,
   "metadata": {},
   "outputs": [
    {
     "ename": "NameError",
     "evalue": "name 'result_pkl' is not defined",
     "output_type": "error",
     "traceback": [
      "\u001b[1;31m---------------------------------------------------------------------------\u001b[0m",
      "\u001b[1;31mNameError\u001b[0m                                 Traceback (most recent call last)",
      "Cell \u001b[1;32mIn[22], line 1\u001b[0m\n\u001b[1;32m----> 1\u001b[0m load_from_pickle(\u001b[43mresult_pkl\u001b[49m)\n",
      "\u001b[1;31mNameError\u001b[0m: name 'result_pkl' is not defined"
     ]
    }
   ],
   "source": [
    "load_from_pickle(result_pkl)"
   ]
  },
  {
   "cell_type": "code",
   "execution_count": 23,
   "metadata": {},
   "outputs": [
    {
     "data": {
      "text/plain": [
       "True"
      ]
     },
     "execution_count": 23,
     "metadata": {},
     "output_type": "execute_result"
    }
   ],
   "source": [
    "prediction_date in list(opening_days_kor)"
   ]
  },
  {
   "cell_type": "code",
   "execution_count": 24,
   "metadata": {
    "scrolled": true
   },
   "outputs": [],
   "source": [
    "# save current prediction data\n",
    "\n",
    "prediction_list = pd.concat([prediction_list, df_base], axis=0)\n",
    "prediction_list = prediction_list[~prediction_list.index.duplicated(keep='last')]\n",
    "\n",
    "directory_for_predict = './data/data_for_ml/predict/'\n",
    "fname_p = 'prediction_list.pkl'\n",
    "fname_c = 'prediction_list.csv'\n",
    "path_p = directory_for_predict+'prediction/' + fname_p\n",
    "path_c = directory_for_predict+'prediction/' + fname_c\n",
    "prediction_list.to_pickle(path_p)\n",
    "prediction_list.to_csv(path_c)"
   ]
  },
  {
   "cell_type": "code",
   "execution_count": 25,
   "metadata": {},
   "outputs": [
    {
     "name": "stdout",
     "output_type": "stream",
     "text": [
      "*** 0 005930 ['삼성전자', 'sec']\n",
      "*** 1 035420 ['NAVER', 'naver']\n",
      "*** 2 005380 ['현대차', 'hyunmotor']\n",
      "*** 3 035720 ['카카오', 'kakao']\n",
      "*** 4 000660 ['SK하이닉스', 'skhynix']\n",
      "*** 5 006400 ['삼성SDI', 'sdi']\n",
      "*** 6 005935 ['삼성전자우', 'secpre']\n",
      "*** 7 105560 ['KB금융', 'kbbank']\n",
      "*** 8 012330 ['현대모비스', 'mobis']\n",
      "*** 9 055550 ['신한지주', 'shgroup']\n",
      "*** 10 003670 ['포스코퓨처엠', 'poscochemical']\n",
      "*** 11 034730 ['SK', 'sk']\n",
      "*** 12 032830 ['삼성생명', 'sslife']\n",
      "*** 13 086790 ['하나금융지주', 'hana']\n",
      "*** 14 009150 ['삼성전기', 'sselec']\n",
      "*** 15 017670 ['SK텔레콤', 'sktelecom']\n",
      "*** 16 011200 ['HMM', 'hmm']\n",
      "*** 17 000810 ['삼성화재', 'ssfire']\n",
      "*** 18 010950 ['S-Oil', 'soil']\n",
      "*** 19 018260 ['삼성에스디에스', 'sds']\n",
      "*** 20 316140 ['우리금융지주', 'woorifg']\n",
      "*** 21 024110 ['기업은행', 'ibk']\n",
      "*** 22 377300 ['카카오페이', 'kakaopay']\n",
      "*** 23 028050 ['삼성엔지니어링', 'ssengineering']\n"
     ]
    }
   ],
   "source": [
    "# 결과를 회사별로 확인하기\n",
    "directory_for_predict = './data/data_for_ml/predict/'\n",
    "fname_p = 'prediction_list.pkl'\n",
    "predict_list = pd.read_pickle(directory_for_predict+'prediction/' + fname_p)\n",
    "\n",
    "for i, (key, val) in enumerate(code_good.items()):\n",
    "    print(\"***\", i, key, val)\n",
    "    k =  i * 4\n",
    "    globals()[f'{val[1]}_df'] = predict_list.iloc[:, k:k+4]"
   ]
  },
  {
   "cell_type": "code",
   "execution_count": null,
   "metadata": {},
   "outputs": [],
   "source": [
    "secpre_df"
   ]
  },
  {
   "cell_type": "code",
   "execution_count": null,
   "metadata": {},
   "outputs": [],
   "source": []
  },
  {
   "cell_type": "code",
   "execution_count": null,
   "metadata": {},
   "outputs": [],
   "source": []
  }
 ],
 "metadata": {
  "colab": {
   "collapsed_sections": [],
   "include_colab_link": true,
   "name": "5-1 결정 트리.ipynb",
   "provenance": []
  },
  "kernelspec": {
   "display_name": "Python 3 (ipykernel)",
   "language": "python",
   "name": "python3"
  },
  "language_info": {
   "codemirror_mode": {
    "name": "ipython",
    "version": 3
   },
   "file_extension": ".py",
   "mimetype": "text/x-python",
   "name": "python",
   "nbconvert_exporter": "python",
   "pygments_lexer": "ipython3",
   "version": "3.9.1"
  }
 },
 "nbformat": 4,
 "nbformat_minor": 1
}
