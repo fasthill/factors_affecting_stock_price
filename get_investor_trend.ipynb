{
 "cells": [
  {
   "cell_type": "code",
   "execution_count": 1,
   "id": "c4660474",
   "metadata": {},
   "outputs": [],
   "source": [
    "from selenium import webdriver as wd\n",
    "from bs4 import BeautifulSoup as bs\n",
    "import requests\n",
    "import datetime, time\n",
    "from datetime import date\n",
    "\n",
    "import pandas as pd\n",
    "import re\n",
    "import os, sys"
   ]
  },
  {
   "cell_type": "code",
   "execution_count": 2,
   "id": "6e5789a5",
   "metadata": {},
   "outputs": [],
   "source": [
    "# 삼성전자 005930, 현대차 005830, 네이버 035420, KT&G 033780, \n",
    "code = {'sec': '005930', 'hyunmotor': '005830', 'naver': '035420', 'ktng': '033780'}"
   ]
  },
  {
   "cell_type": "code",
   "execution_count": 3,
   "id": "6ff8087d",
   "metadata": {},
   "outputs": [],
   "source": [
    "today = datetime.date.today()\n",
    "today = today.strftime('%Y%m%d')"
   ]
  },
  {
   "cell_type": "code",
   "execution_count": 4,
   "id": "e91592ac",
   "metadata": {},
   "outputs": [],
   "source": [
    "for key, val in code.items():\n",
    "    filename = '{}{}{}{}.csv'.format('data/investor/', key, '_investor_', today)\n",
    "    url = '{}{}'.format('https://open.shinhaninvest.com/goodicyber/mk/1206.jsp?code=',val)\n",
    "    df = pd.read_html(url)\n",
    "    df[7].columns = df[7].iloc[1] # column 명 변경\n",
    "    df[7] = df[7].drop([0,1]) # 필요없는 row 제거\n",
    "    df[7].to_csv(filename, index=False)"
   ]
  },
  {
   "cell_type": "code",
   "execution_count": null,
   "id": "painted-chain",
   "metadata": {},
   "outputs": [],
   "source": [
    "reindex = np.arange(1,len(df_inv)+1) # index를 일련번호로 대체하기 위하여 index 생성\n",
    "reindex"
   ]
  },
  {
   "cell_type": "code",
   "execution_count": null,
   "id": "foster-tyler",
   "metadata": {},
   "outputs": [],
   "source": [
    "df[7].index = reindex # 새로운 인덱스로 대체\n",
    "df_inv.head()"
   ]
  }
 ],
 "metadata": {
  "kernelspec": {
   "display_name": "Python 3",
   "language": "python",
   "name": "python3"
  },
  "language_info": {
   "codemirror_mode": {
    "name": "ipython",
    "version": 3
   },
   "file_extension": ".py",
   "mimetype": "text/x-python",
   "name": "python",
   "nbconvert_exporter": "python",
   "pygments_lexer": "ipython3",
   "version": "3.9.1"
  }
 },
 "nbformat": 4,
 "nbformat_minor": 5
}
