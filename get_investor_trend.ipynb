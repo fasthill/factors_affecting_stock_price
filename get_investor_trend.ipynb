{
 "cells": [
  {
   "cell_type": "code",
   "execution_count": null,
   "id": "c4660474",
   "metadata": {},
   "outputs": [],
   "source": [
    "from bs4 import BeautifulSoup as bs\n",
    "import datetime, time\n",
    "from datetime import date\n",
    "\n",
    "import pandas as pd\n",
    "import numpy as np"
   ]
  },
  {
   "cell_type": "code",
   "execution_count": null,
   "id": "6e5789a5",
   "metadata": {},
   "outputs": [],
   "source": [
    "# 삼성전자 005930, 현대차 005830, 네이버 035420, KT&G 033780, \n",
    "code = {'sec': '005930', 'hyunmotor': '005830', 'naver': '035420', 'ktng': '033780'}"
   ]
  },
  {
   "cell_type": "code",
   "execution_count": null,
   "id": "6ff8087d",
   "metadata": {},
   "outputs": [],
   "source": [
    "today = datetime.date.today()\n",
    "today = today.strftime('%Y%m%d')"
   ]
  },
  {
   "cell_type": "code",
   "execution_count": null,
   "id": "ideal-salon",
   "metadata": {},
   "outputs": [],
   "source": [
    "column_eng = ['date', 'retail', 'foreigner', 'institutional', \n",
    "               'security', 'investment_trust', 'bank', 'investment_bank', 'insurance', 'pension', 'others']\n",
    "column_kor = ['날짜', '개인', '외국인계', '기관계', '증권', '투신', '은행', '종금', '보험', '기금', '기타']"
   ]
  },
  {
   "cell_type": "code",
   "execution_count": null,
   "id": "e91592ac",
   "metadata": {},
   "outputs": [],
   "source": [
    "for key, val in code.items():\n",
    "    filename = '{}{}_{}{}{}.csv'.format('data/stocks/investor/', val, key, '_investor_', today)\n",
    "    url = '{}{}'.format('https://open.shinhaninvest.com/goodicyber/mk/1206.jsp?code=',val)\n",
    "    df = pd.read_html(url, attrs={\"class\": \"content1\"}, flavor=[\"lxml\", \"bs4\"])[0]\n",
    "    df.columns = df.iloc[1] # column 명 변경\n",
    "    df = df.drop([0,1]) # 필요없는 row 제거\n",
    "    df.columns = column_eng # replace with english column name\n",
    "    reindex = np.arange(1,len(df)+1) # index를 일련번호로 대체하기 위하여 index 생성\n",
    "    df.index = reindex # 새로운 인덱스로 대체\n",
    "    df.to_csv(filename, index=False)"
   ]
  },
  {
   "cell_type": "markdown",
   "id": "supposed-rubber",
   "metadata": {},
   "source": [
    "### 데이터를 읽고 date 형식(str) 을 datetime type으로 변환하여 작업 시작"
   ]
  },
  {
   "cell_type": "code",
   "execution_count": null,
   "id": "extreme-franchise",
   "metadata": {},
   "outputs": [],
   "source": [
    "df = pd.read_csv(filename)\n",
    "df['date'] = df[\"date\"].apply(lambda x: datetime.datetime.strptime(x, \"%Y/%m/%d\").date()) #datetime 형식으로 변환"
   ]
  },
  {
   "cell_type": "code",
   "execution_count": null,
   "id": "immune-destiny",
   "metadata": {},
   "outputs": [],
   "source": []
  }
 ],
 "metadata": {
  "kernelspec": {
   "display_name": "Python 3 (ipykernel)",
   "language": "python",
   "name": "python3"
  },
  "language_info": {
   "codemirror_mode": {
    "name": "ipython",
    "version": 3
   },
   "file_extension": ".py",
   "mimetype": "text/x-python",
   "name": "python",
   "nbconvert_exporter": "python",
   "pygments_lexer": "ipython3",
   "version": "3.9.1"
  }
 },
 "nbformat": 4,
 "nbformat_minor": 5
}
