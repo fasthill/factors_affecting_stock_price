{
 "cells": [
  {
   "cell_type": "markdown",
   "metadata": {
    "colab_type": "text",
    "id": "view-in-github"
   },
   "source": [
    "<a href=\"https://colab.research.google.com/github/fasthill/ML-DL-study-alone/blob/main/5-3%20%ED%8A%B8%EB%A6%AC%EC%9D%98%20%EC%95%99%EC%83%81%EB%B8%94.ipynb\" target=\"_parent\"><img src=\"https://colab.research.google.com/assets/colab-badge.svg\" alt=\"Open In Colab\"/></a>"
   ]
  },
  {
   "cell_type": "markdown",
   "metadata": {
    "id": "zp6fW8MP-mrO"
   },
   "source": [
    "# 트리의 앙상블"
   ]
  },
  {
   "cell_type": "markdown",
   "metadata": {
    "id": "dIaIAizcRSG-"
   },
   "source": [
    "## 랜덤포레스트"
   ]
  },
  {
   "cell_type": "code",
   "execution_count": 1,
   "metadata": {},
   "outputs": [],
   "source": [
    "import numpy as np\n",
    "import pandas as pd\n",
    "import matplotlib.pyplot as plt"
   ]
  },
  {
   "cell_type": "code",
   "execution_count": 2,
   "metadata": {
    "id": "k-gL103AoPWx"
   },
   "outputs": [],
   "source": [
    "from sklearn.model_selection import train_test_split, cross_validate, cross_val_score\n",
    "from sklearn.inspection import permutation_importance # .feature_importances_ 대체용으로 사용 추천\n",
    "from xgboost import XGBClassifier\n",
    "from lightgbm import LGBMClassifier"
   ]
  },
  {
   "cell_type": "code",
   "execution_count": 3,
   "metadata": {},
   "outputs": [],
   "source": [
    "from sklearn.ensemble import RandomForestClassifier, ExtraTreesClassifier, GradientBoostingClassifier\n",
    "\n",
    "from sklearn.experimental import enable_hist_gradient_boosting\n",
    "from sklearn.ensemble import HistGradientBoostingRegressor"
   ]
  },
  {
   "cell_type": "code",
   "execution_count": null,
   "metadata": {
    "colab": {
     "base_uri": "https://localhost:8080/",
     "height": 206
    },
    "id": "Wutj3vrNoPdT",
    "outputId": "d8d50583-ad20-478f-a23d-15c9a6bba37e"
   },
   "outputs": [],
   "source": [
    "# wine = pd.read_csv('https://bit.ly/wine_csv_data')\n",
    "# wine.head()"
   ]
  },
  {
   "cell_type": "code",
   "execution_count": 18,
   "metadata": {},
   "outputs": [],
   "source": [
    "dir_name = '../data/analysis/'\n",
    "company = 'hyunmotor_ml.csv'\n",
    "df = pd.read_csv(dir_name+company)"
   ]
  },
  {
   "cell_type": "code",
   "execution_count": 19,
   "metadata": {},
   "outputs": [
    {
     "data": {
      "text/html": [
       "<div>\n",
       "<style scoped>\n",
       "    .dataframe tbody tr th:only-of-type {\n",
       "        vertical-align: middle;\n",
       "    }\n",
       "\n",
       "    .dataframe tbody tr th {\n",
       "        vertical-align: top;\n",
       "    }\n",
       "\n",
       "    .dataframe thead th {\n",
       "        text-align: right;\n",
       "    }\n",
       "</style>\n",
       "<table border=\"1\" class=\"dataframe\">\n",
       "  <thead>\n",
       "    <tr style=\"text-align: right;\">\n",
       "      <th></th>\n",
       "      <th>ixic</th>\n",
       "      <th>ixic_cr</th>\n",
       "      <th>ixic_f</th>\n",
       "      <th>ixic_f_cr</th>\n",
       "      <th>dji</th>\n",
       "      <th>dji_cr</th>\n",
       "      <th>dji_f</th>\n",
       "      <th>dji_f_cr</th>\n",
       "      <th>spx</th>\n",
       "      <th>spx_cr</th>\n",
       "      <th>...</th>\n",
       "      <th>institution_ratio</th>\n",
       "      <th>financial_ratio</th>\n",
       "      <th>invtrust_ratio</th>\n",
       "      <th>pension_ratio</th>\n",
       "      <th>privequity_ratio</th>\n",
       "      <th>bank_ratio</th>\n",
       "      <th>insurance_ratio</th>\n",
       "      <th>financeetc_ratio</th>\n",
       "      <th>corporateetc_ratio</th>\n",
       "      <th>foreigneretc_ratio</th>\n",
       "    </tr>\n",
       "  </thead>\n",
       "  <tbody>\n",
       "    <tr>\n",
       "      <th>count</th>\n",
       "      <td>637.000000</td>\n",
       "      <td>637.000000</td>\n",
       "      <td>637.000000</td>\n",
       "      <td>637.000000</td>\n",
       "      <td>637.000000</td>\n",
       "      <td>637.000000</td>\n",
       "      <td>637.000000</td>\n",
       "      <td>637.000000</td>\n",
       "      <td>637.000000</td>\n",
       "      <td>637.000000</td>\n",
       "      <td>...</td>\n",
       "      <td>637.000000</td>\n",
       "      <td>637.000000</td>\n",
       "      <td>637.000000</td>\n",
       "      <td>637.000000</td>\n",
       "      <td>637.000000</td>\n",
       "      <td>637.000000</td>\n",
       "      <td>637.000000</td>\n",
       "      <td>637.000000</td>\n",
       "      <td>637.000000</td>\n",
       "      <td>637.000000</td>\n",
       "    </tr>\n",
       "    <tr>\n",
       "      <th>mean</th>\n",
       "      <td>12419.621115</td>\n",
       "      <td>0.084082</td>\n",
       "      <td>12613.913595</td>\n",
       "      <td>0.083956</td>\n",
       "      <td>31122.783187</td>\n",
       "      <td>0.048681</td>\n",
       "      <td>31053.605526</td>\n",
       "      <td>0.044804</td>\n",
       "      <td>3853.891962</td>\n",
       "      <td>0.067049</td>\n",
       "      <td>...</td>\n",
       "      <td>-0.362583</td>\n",
       "      <td>0.007440</td>\n",
       "      <td>-0.053475</td>\n",
       "      <td>-0.237357</td>\n",
       "      <td>-0.026860</td>\n",
       "      <td>0.002991</td>\n",
       "      <td>-0.053001</td>\n",
       "      <td>-0.002313</td>\n",
       "      <td>0.215288</td>\n",
       "      <td>0.005900</td>\n",
       "    </tr>\n",
       "    <tr>\n",
       "      <th>std</th>\n",
       "      <td>2227.553532</td>\n",
       "      <td>1.842249</td>\n",
       "      <td>2327.847756</td>\n",
       "      <td>1.836820</td>\n",
       "      <td>3949.557961</td>\n",
       "      <td>1.628632</td>\n",
       "      <td>3944.277083</td>\n",
       "      <td>1.597511</td>\n",
       "      <td>590.192591</td>\n",
       "      <td>1.613176</td>\n",
       "      <td>...</td>\n",
       "      <td>2.756478</td>\n",
       "      <td>1.662021</td>\n",
       "      <td>0.670048</td>\n",
       "      <td>1.362449</td>\n",
       "      <td>0.597673</td>\n",
       "      <td>0.091886</td>\n",
       "      <td>0.432451</td>\n",
       "      <td>0.054430</td>\n",
       "      <td>0.677896</td>\n",
       "      <td>0.046140</td>\n",
       "    </tr>\n",
       "    <tr>\n",
       "      <th>min</th>\n",
       "      <td>6860.670000</td>\n",
       "      <td>-12.320000</td>\n",
       "      <td>6984.500000</td>\n",
       "      <td>-10.840000</td>\n",
       "      <td>18591.930000</td>\n",
       "      <td>-12.930000</td>\n",
       "      <td>18497.000000</td>\n",
       "      <td>-11.260000</td>\n",
       "      <td>2237.400000</td>\n",
       "      <td>-11.980000</td>\n",
       "      <td>...</td>\n",
       "      <td>-5.000214</td>\n",
       "      <td>-4.824011</td>\n",
       "      <td>-3.030923</td>\n",
       "      <td>-4.115868</td>\n",
       "      <td>-3.249186</td>\n",
       "      <td>-0.482756</td>\n",
       "      <td>-4.082900</td>\n",
       "      <td>-0.705176</td>\n",
       "      <td>-2.357686</td>\n",
       "      <td>-0.237098</td>\n",
       "    </tr>\n",
       "    <tr>\n",
       "      <th>25%</th>\n",
       "      <td>10911.590000</td>\n",
       "      <td>-0.720000</td>\n",
       "      <td>11124.750000</td>\n",
       "      <td>-0.770000</td>\n",
       "      <td>28308.460000</td>\n",
       "      <td>-0.520000</td>\n",
       "      <td>28196.000000</td>\n",
       "      <td>-0.500000</td>\n",
       "      <td>3357.750000</td>\n",
       "      <td>-0.540000</td>\n",
       "      <td>...</td>\n",
       "      <td>-2.615745</td>\n",
       "      <td>-0.995236</td>\n",
       "      <td>-0.361855</td>\n",
       "      <td>-1.092216</td>\n",
       "      <td>-0.244661</td>\n",
       "      <td>-0.009089</td>\n",
       "      <td>-0.212562</td>\n",
       "      <td>-0.005790</td>\n",
       "      <td>-0.072306</td>\n",
       "      <td>-0.010183</td>\n",
       "    </tr>\n",
       "    <tr>\n",
       "      <th>50%</th>\n",
       "      <td>12850.220000</td>\n",
       "      <td>0.190000</td>\n",
       "      <td>12841.000000</td>\n",
       "      <td>0.190000</td>\n",
       "      <td>31730.040000</td>\n",
       "      <td>0.090000</td>\n",
       "      <td>31652.000000</td>\n",
       "      <td>0.080000</td>\n",
       "      <td>3911.740000</td>\n",
       "      <td>0.140000</td>\n",
       "      <td>...</td>\n",
       "      <td>-0.494814</td>\n",
       "      <td>-0.095668</td>\n",
       "      <td>-0.059984</td>\n",
       "      <td>-0.263737</td>\n",
       "      <td>-0.035142</td>\n",
       "      <td>-0.000686</td>\n",
       "      <td>-0.043020</td>\n",
       "      <td>0.000000</td>\n",
       "      <td>0.060612</td>\n",
       "      <td>0.005195</td>\n",
       "    </tr>\n",
       "    <tr>\n",
       "      <th>75%</th>\n",
       "      <td>14154.020000</td>\n",
       "      <td>1.010000</td>\n",
       "      <td>14512.500000</td>\n",
       "      <td>1.050000</td>\n",
       "      <td>34575.310000</td>\n",
       "      <td>0.680000</td>\n",
       "      <td>34490.000000</td>\n",
       "      <td>0.700000</td>\n",
       "      <td>4373.790000</td>\n",
       "      <td>0.820000</td>\n",
       "      <td>...</td>\n",
       "      <td>1.913331</td>\n",
       "      <td>0.989113</td>\n",
       "      <td>0.275699</td>\n",
       "      <td>0.624311</td>\n",
       "      <td>0.191357</td>\n",
       "      <td>0.008212</td>\n",
       "      <td>0.124658</td>\n",
       "      <td>0.004516</td>\n",
       "      <td>0.423250</td>\n",
       "      <td>0.017222</td>\n",
       "    </tr>\n",
       "    <tr>\n",
       "      <th>max</th>\n",
       "      <td>16057.440000</td>\n",
       "      <td>9.350000</td>\n",
       "      <td>16575.000000</td>\n",
       "      <td>9.710000</td>\n",
       "      <td>36799.650000</td>\n",
       "      <td>11.370000</td>\n",
       "      <td>36675.000000</td>\n",
       "      <td>11.410000</td>\n",
       "      <td>4796.560000</td>\n",
       "      <td>9.380000</td>\n",
       "      <td>...</td>\n",
       "      <td>5.000102</td>\n",
       "      <td>4.969100</td>\n",
       "      <td>2.733967</td>\n",
       "      <td>4.233113</td>\n",
       "      <td>2.738536</td>\n",
       "      <td>0.791975</td>\n",
       "      <td>3.748117</td>\n",
       "      <td>0.263841</td>\n",
       "      <td>4.671757</td>\n",
       "      <td>0.393953</td>\n",
       "    </tr>\n",
       "  </tbody>\n",
       "</table>\n",
       "<p>8 rows × 118 columns</p>\n",
       "</div>"
      ],
      "text/plain": [
       "               ixic     ixic_cr        ixic_f   ixic_f_cr           dji  \\\n",
       "count    637.000000  637.000000    637.000000  637.000000    637.000000   \n",
       "mean   12419.621115    0.084082  12613.913595    0.083956  31122.783187   \n",
       "std     2227.553532    1.842249   2327.847756    1.836820   3949.557961   \n",
       "min     6860.670000  -12.320000   6984.500000  -10.840000  18591.930000   \n",
       "25%    10911.590000   -0.720000  11124.750000   -0.770000  28308.460000   \n",
       "50%    12850.220000    0.190000  12841.000000    0.190000  31730.040000   \n",
       "75%    14154.020000    1.010000  14512.500000    1.050000  34575.310000   \n",
       "max    16057.440000    9.350000  16575.000000    9.710000  36799.650000   \n",
       "\n",
       "           dji_cr         dji_f    dji_f_cr          spx      spx_cr  ...  \\\n",
       "count  637.000000    637.000000  637.000000   637.000000  637.000000  ...   \n",
       "mean     0.048681  31053.605526    0.044804  3853.891962    0.067049  ...   \n",
       "std      1.628632   3944.277083    1.597511   590.192591    1.613176  ...   \n",
       "min    -12.930000  18497.000000  -11.260000  2237.400000  -11.980000  ...   \n",
       "25%     -0.520000  28196.000000   -0.500000  3357.750000   -0.540000  ...   \n",
       "50%      0.090000  31652.000000    0.080000  3911.740000    0.140000  ...   \n",
       "75%      0.680000  34490.000000    0.700000  4373.790000    0.820000  ...   \n",
       "max     11.370000  36675.000000   11.410000  4796.560000    9.380000  ...   \n",
       "\n",
       "       institution_ratio  financial_ratio  invtrust_ratio  pension_ratio  \\\n",
       "count         637.000000       637.000000      637.000000     637.000000   \n",
       "mean           -0.362583         0.007440       -0.053475      -0.237357   \n",
       "std             2.756478         1.662021        0.670048       1.362449   \n",
       "min            -5.000214        -4.824011       -3.030923      -4.115868   \n",
       "25%            -2.615745        -0.995236       -0.361855      -1.092216   \n",
       "50%            -0.494814        -0.095668       -0.059984      -0.263737   \n",
       "75%             1.913331         0.989113        0.275699       0.624311   \n",
       "max             5.000102         4.969100        2.733967       4.233113   \n",
       "\n",
       "       privequity_ratio  bank_ratio  insurance_ratio  financeetc_ratio  \\\n",
       "count        637.000000  637.000000       637.000000        637.000000   \n",
       "mean          -0.026860    0.002991        -0.053001         -0.002313   \n",
       "std            0.597673    0.091886         0.432451          0.054430   \n",
       "min           -3.249186   -0.482756        -4.082900         -0.705176   \n",
       "25%           -0.244661   -0.009089        -0.212562         -0.005790   \n",
       "50%           -0.035142   -0.000686        -0.043020          0.000000   \n",
       "75%            0.191357    0.008212         0.124658          0.004516   \n",
       "max            2.738536    0.791975         3.748117          0.263841   \n",
       "\n",
       "       corporateetc_ratio  foreigneretc_ratio  \n",
       "count          637.000000          637.000000  \n",
       "mean             0.215288            0.005900  \n",
       "std              0.677896            0.046140  \n",
       "min             -2.357686           -0.237098  \n",
       "25%             -0.072306           -0.010183  \n",
       "50%              0.060612            0.005195  \n",
       "75%              0.423250            0.017222  \n",
       "max              4.671757            0.393953  \n",
       "\n",
       "[8 rows x 118 columns]"
      ]
     },
     "execution_count": 19,
     "metadata": {},
     "output_type": "execute_result"
    }
   ],
   "source": [
    "df.describe()"
   ]
  },
  {
   "cell_type": "code",
   "execution_count": 20,
   "metadata": {},
   "outputs": [],
   "source": [
    "list1 = df.columns[:60]"
   ]
  },
  {
   "cell_type": "code",
   "execution_count": 21,
   "metadata": {},
   "outputs": [
    {
     "data": {
      "text/plain": [
       "Index(['date', 'ixic', 'ixic_cr', 'ixic_f', 'ixic_f_cr', 'dji', 'dji_cr',\n",
       "       'dji_f', 'dji_f_cr', 'spx', 'spx_cr', 'spx_f', 'spx_f_cr', 'kospi',\n",
       "       'kospi_cr', 'kosdaq', 'kosdaq_cr', 'wti', 'wti_cr', 'dxy', 'dxy_cr',\n",
       "       'krw', 'krw_cr', 'bond_usa_10', 'bond_usa_10_cr', 'bond_usa_2',\n",
       "       'bond_usa_2_cr', 'bond_usa_3m', 'bond_usa_3m_cr', 'bond_kor_10',\n",
       "       'bond_kor_10_cr', 'bond_kor_2', 'bond_kor_2_cr', 'vix', 'vix_cr', 'sox',\n",
       "       'sox_cr', 'cpi', 'cpi_anticipated', 'cpi_previous', 'gold', 'gold_cr',\n",
       "       'fed_rate', 'fed_rate_fore', 'fed_rate_prev', 'fed_rate_ann',\n",
       "       'fed_rate_imp', 'bok_rate', 'fu_usa_date', 'op_usa_date', 'qw_usa_day',\n",
       "       'fu_kor_date', 'op_kor_date', 'dw_kor_day', 'dayofweek', 'retail',\n",
       "       'retail_class', 'retail_cr', 'retail_days', 'foreigner'],\n",
       "      dtype='object')"
      ]
     },
     "execution_count": 21,
     "metadata": {},
     "output_type": "execute_result"
    }
   ],
   "source": [
    "list1"
   ]
  },
  {
   "cell_type": "code",
   "execution_count": 23,
   "metadata": {},
   "outputs": [
    {
     "data": {
      "text/plain": [
       "Index(['foreigner_class', 'foreigner_cr', 'foreigner_days', 'institution',\n",
       "       'institution_class', 'institution_cr', 'institution_days', 'financial',\n",
       "       'financial_class', 'financial_cr', 'financial_days', 'invtrust',\n",
       "       'invtrust_class', 'invtrust_days', 'pension', 'pension_class',\n",
       "       'pension_cr', 'pension_days', 'privequity', 'privequity_class',\n",
       "       'privequity_cr', 'privequity_days', 'bank', 'bank_class', 'bank_days',\n",
       "       'insurance', 'insurance_class', 'insurance_days', 'financeetc',\n",
       "       'financeetc_class', 'financeetc_days', 'corporateetc',\n",
       "       'corporateetc_class', 'corporateetc_cr', 'corporateetc_days',\n",
       "       'foreigneretc', 'foreigneretc_class', 'foreigneretc_days', 'open',\n",
       "       'high', 'low', 'close', 'close_cr', 'close_cr_class', 'vol',\n",
       "       'vol_percent', 'total', 'retail_ratio', 'foreigner_ratio',\n",
       "       'institution_ratio', 'financial_ratio', 'invtrust_ratio',\n",
       "       'pension_ratio', 'privequity_ratio', 'bank_ratio', 'insurance_ratio',\n",
       "       'financeetc_ratio', 'corporateetc_ratio', 'foreigneretc_ratio'],\n",
       "      dtype='object')"
      ]
     },
     "execution_count": 23,
     "metadata": {},
     "output_type": "execute_result"
    }
   ],
   "source": [
    "list2 = df.columns[60:120]\n",
    "list2"
   ]
  },
  {
   "cell_type": "code",
   "execution_count": 9,
   "metadata": {},
   "outputs": [],
   "source": [
    "sel_column = ['date', 'ixic_cr', 'dji_cr', 'spx_cr', 'kospi_cr', 'kosdaq_cr', \n",
    "              'wti_cr', 'dxy_cr', 'dayofweek', 'retail_cr', 'retail_days', \n",
    "              'foreigner_cr', 'foreigner_days', 'institution_cr', 'institution_days', 'close_cr_class']"
   ]
  },
  {
   "cell_type": "code",
   "execution_count": 10,
   "metadata": {},
   "outputs": [
    {
     "data": {
      "text/html": [
       "<div>\n",
       "<style scoped>\n",
       "    .dataframe tbody tr th:only-of-type {\n",
       "        vertical-align: middle;\n",
       "    }\n",
       "\n",
       "    .dataframe tbody tr th {\n",
       "        vertical-align: top;\n",
       "    }\n",
       "\n",
       "    .dataframe thead th {\n",
       "        text-align: right;\n",
       "    }\n",
       "</style>\n",
       "<table border=\"1\" class=\"dataframe\">\n",
       "  <thead>\n",
       "    <tr style=\"text-align: right;\">\n",
       "      <th></th>\n",
       "      <th>date</th>\n",
       "      <th>ixic_cr</th>\n",
       "      <th>dji_cr</th>\n",
       "      <th>spx_cr</th>\n",
       "      <th>kospi_cr</th>\n",
       "      <th>kosdaq_cr</th>\n",
       "      <th>wti_cr</th>\n",
       "      <th>dxy_cr</th>\n",
       "      <th>dayofweek</th>\n",
       "      <th>retail_cr</th>\n",
       "      <th>retail_days</th>\n",
       "      <th>foreigner_cr</th>\n",
       "      <th>foreigner_days</th>\n",
       "      <th>institution_cr</th>\n",
       "      <th>institution_days</th>\n",
       "      <th>close_cr_class</th>\n",
       "    </tr>\n",
       "  </thead>\n",
       "  <tbody>\n",
       "    <tr>\n",
       "      <th>0</th>\n",
       "      <td>2020-01-03</td>\n",
       "      <td>-0.79</td>\n",
       "      <td>-0.81</td>\n",
       "      <td>-0.71</td>\n",
       "      <td>0.06</td>\n",
       "      <td>-0.61</td>\n",
       "      <td>3.06</td>\n",
       "      <td>0.00</td>\n",
       "      <td>5</td>\n",
       "      <td>0.940446</td>\n",
       "      <td>2</td>\n",
       "      <td>0.988541</td>\n",
       "      <td>-2</td>\n",
       "      <td>0.687669</td>\n",
       "      <td>-2</td>\n",
       "      <td>4</td>\n",
       "    </tr>\n",
       "    <tr>\n",
       "      <th>1</th>\n",
       "      <td>2020-01-06</td>\n",
       "      <td>0.56</td>\n",
       "      <td>0.24</td>\n",
       "      <td>0.35</td>\n",
       "      <td>-0.98</td>\n",
       "      <td>-2.18</td>\n",
       "      <td>0.35</td>\n",
       "      <td>-0.18</td>\n",
       "      <td>1</td>\n",
       "      <td>-0.937680</td>\n",
       "      <td>3</td>\n",
       "      <td>-0.959054</td>\n",
       "      <td>-3</td>\n",
       "      <td>-0.760630</td>\n",
       "      <td>-3</td>\n",
       "      <td>5</td>\n",
       "    </tr>\n",
       "    <tr>\n",
       "      <th>2</th>\n",
       "      <td>2020-01-07</td>\n",
       "      <td>-0.03</td>\n",
       "      <td>-0.42</td>\n",
       "      <td>-0.28</td>\n",
       "      <td>0.95</td>\n",
       "      <td>1.24</td>\n",
       "      <td>-0.90</td>\n",
       "      <td>0.37</td>\n",
       "      <td>2</td>\n",
       "      <td>4.091046</td>\n",
       "      <td>4</td>\n",
       "      <td>4.084790</td>\n",
       "      <td>-4</td>\n",
       "      <td>1.245963</td>\n",
       "      <td>-4</td>\n",
       "      <td>5</td>\n",
       "    </tr>\n",
       "    <tr>\n",
       "      <th>3</th>\n",
       "      <td>2020-01-08</td>\n",
       "      <td>0.67</td>\n",
       "      <td>0.56</td>\n",
       "      <td>0.49</td>\n",
       "      <td>-1.11</td>\n",
       "      <td>-3.39</td>\n",
       "      <td>-4.93</td>\n",
       "      <td>0.30</td>\n",
       "      <td>3</td>\n",
       "      <td>0.318948</td>\n",
       "      <td>5</td>\n",
       "      <td>-0.756747</td>\n",
       "      <td>-5</td>\n",
       "      <td>0.840947</td>\n",
       "      <td>-5</td>\n",
       "      <td>3</td>\n",
       "    </tr>\n",
       "    <tr>\n",
       "      <th>4</th>\n",
       "      <td>2020-01-09</td>\n",
       "      <td>0.81</td>\n",
       "      <td>0.74</td>\n",
       "      <td>0.67</td>\n",
       "      <td>1.63</td>\n",
       "      <td>3.92</td>\n",
       "      <td>-0.08</td>\n",
       "      <td>0.17</td>\n",
       "      <td>4</td>\n",
       "      <td>0.459043</td>\n",
       "      <td>6</td>\n",
       "      <td>-6.697527</td>\n",
       "      <td>1</td>\n",
       "      <td>0.797866</td>\n",
       "      <td>-6</td>\n",
       "      <td>5</td>\n",
       "    </tr>\n",
       "  </tbody>\n",
       "</table>\n",
       "</div>"
      ],
      "text/plain": [
       "         date  ixic_cr  dji_cr  spx_cr  kospi_cr  kosdaq_cr  wti_cr  dxy_cr  \\\n",
       "0  2020-01-03    -0.79   -0.81   -0.71      0.06      -0.61    3.06    0.00   \n",
       "1  2020-01-06     0.56    0.24    0.35     -0.98      -2.18    0.35   -0.18   \n",
       "2  2020-01-07    -0.03   -0.42   -0.28      0.95       1.24   -0.90    0.37   \n",
       "3  2020-01-08     0.67    0.56    0.49     -1.11      -3.39   -4.93    0.30   \n",
       "4  2020-01-09     0.81    0.74    0.67      1.63       3.92   -0.08    0.17   \n",
       "\n",
       "   dayofweek  retail_cr  retail_days  foreigner_cr  foreigner_days  \\\n",
       "0          5   0.940446            2      0.988541              -2   \n",
       "1          1  -0.937680            3     -0.959054              -3   \n",
       "2          2   4.091046            4      4.084790              -4   \n",
       "3          3   0.318948            5     -0.756747              -5   \n",
       "4          4   0.459043            6     -6.697527               1   \n",
       "\n",
       "   institution_cr  institution_days  close_cr_class  \n",
       "0        0.687669                -2               4  \n",
       "1       -0.760630                -3               5  \n",
       "2        1.245963                -4               5  \n",
       "3        0.840947                -5               3  \n",
       "4        0.797866                -6               5  "
      ]
     },
     "execution_count": 10,
     "metadata": {},
     "output_type": "execute_result"
    }
   ],
   "source": [
    "df = df[sel_column]\n",
    "df.head()"
   ]
  },
  {
   "cell_type": "code",
   "execution_count": 12,
   "metadata": {},
   "outputs": [
    {
     "data": {
      "text/plain": [
       "5    345\n",
       "4    100\n",
       "6     67\n",
       "3     49\n",
       "7     41\n",
       "9     13\n",
       "2     10\n",
       "8      9\n",
       "1      3\n",
       "Name: close_cr_class, dtype: int64"
      ]
     },
     "execution_count": 12,
     "metadata": {},
     "output_type": "execute_result"
    }
   ],
   "source": [
    "df['close_cr_class'].value_counts()"
   ]
  },
  {
   "cell_type": "code",
   "execution_count": 13,
   "metadata": {},
   "outputs": [
    {
     "data": {
      "text/plain": [
       "(array([  3.,  10.,  49., 100.,   0., 345.,  67.,  41.,   9.,  13.]),\n",
       " array([1. , 1.8, 2.6, 3.4, 4.2, 5. , 5.8, 6.6, 7.4, 8.2, 9. ]),\n",
       " <BarContainer object of 10 artists>)"
      ]
     },
     "execution_count": 13,
     "metadata": {},
     "output_type": "execute_result"
    },
    {
     "data": {
      "image/png": "[encoded data removed]",
      "text/plain": [
       "<Figure size 432x288 with 1 Axes>"
      ]
     },
     "metadata": {
      "needs_background": "light"
     },
     "output_type": "display_data"
    }
   ],
   "source": [
    "plt.hist(df['close_cr_class'])"
   ]
  },
  {
   "cell_type": "code",
   "execution_count": 25,
   "metadata": {},
   "outputs": [
    {
     "data": {
      "text/plain": [
       "(array([  3.,  12., 118., 387.,  91.,  13.,  10.,   1.,   1.,   1.]),\n",
       " array([-10.34 ,  -7.364,  -4.388,  -1.412,   1.564,   4.54 ,   7.516,\n",
       "         10.492,  13.468,  16.444,  19.42 ]),\n",
       " <BarContainer object of 10 artists>)"
      ]
     },
     "execution_count": 25,
     "metadata": {},
     "output_type": "execute_result"
    },
    {
     "data": {
      "image/png": "[encoded data removed]",
      "text/plain": [
       "<Figure size 432x288 with 1 Axes>"
      ]
     },
     "metadata": {
      "needs_background": "light"
     },
     "output_type": "display_data"
    }
   ],
   "source": [
    "plt.hist(df['close_cr'])"
   ]
  },
  {
   "cell_type": "code",
   "execution_count": null,
   "metadata": {
    "id": "uZwr9iaLpJPw"
   },
   "outputs": [],
   "source": [
    "# data =df.iloc[:, :3].values\n",
    "# target = wine.iloc[:, -1]"
   ]
  },
  {
   "cell_type": "code",
   "execution_count": null,
   "metadata": {},
   "outputs": [],
   "source": [
    "data =df.loc[:, sel_column].values\n",
    "target = df.loc[:, 'close_cr_class']"
   ]
  },
  {
   "cell_type": "code",
   "execution_count": null,
   "metadata": {
    "id": "cfZ69vXtoPhp"
   },
   "outputs": [],
   "source": [
    "train_input, test_input, train_target, test_target = train_test_split(data, target, test_size=0.2, random_state=42)"
   ]
  },
  {
   "cell_type": "code",
   "execution_count": null,
   "metadata": {
    "id": "EDypj-t7plDb"
   },
   "outputs": [],
   "source": [
    "rf = RandomForestClassifier(random_state=42, n_jobs=-1, )"
   ]
  },
  {
   "cell_type": "code",
   "execution_count": null,
   "metadata": {
    "id": "NANtdpa7oPl3"
   },
   "outputs": [],
   "source": [
    "scores = cross_validate(rf,\n",
    "                        X= train_input, y=train_target,\n",
    "                        return_train_score=True,  # 훈련데이터 결과도 리턴\n",
    "#                         cv=3,\n",
    "                        n_jobs=-1)"
   ]
  },
  {
   "cell_type": "code",
   "execution_count": null,
   "metadata": {
    "colab": {
     "base_uri": "https://localhost:8080/"
    },
    "id": "2h1DQ56doPpy",
    "outputId": "22cc211f-9287-43b3-e07c-be7c960611cc"
   },
   "outputs": [],
   "source": [
    "scores"
   ]
  },
  {
   "cell_type": "code",
   "execution_count": null,
   "metadata": {
    "colab": {
     "base_uri": "https://localhost:8080/"
    },
    "id": "LZ_SjKl5sg2Z",
    "outputId": "adf61dd5-51ae-44df-ff7d-8818e6900313"
   },
   "outputs": [],
   "source": [
    "print('test score : {} \\ntrain score: {}'.format(scores['test_score'].mean(), scores['train_score'].mean() ))"
   ]
  },
  {
   "cell_type": "code",
   "execution_count": null,
   "metadata": {
    "id": "inR5hMgAqwme"
   },
   "outputs": [],
   "source": [
    "scores_v = cross_val_score(rf,\n",
    "                        X= train_input, y=train_target,\n",
    "                        cv=5,\n",
    "                        n_jobs=-1)"
   ]
  },
  {
   "cell_type": "code",
   "execution_count": null,
   "metadata": {
    "colab": {
     "base_uri": "https://localhost:8080/"
    },
    "id": "7iFNFNinqwpc",
    "outputId": "36b1c57a-c7ff-4d23-c4be-bf341b7c4570"
   },
   "outputs": [],
   "source": [
    "scores_v"
   ]
  },
  {
   "cell_type": "markdown",
   "metadata": {
    "id": "5guCuGR0sD2g"
   },
   "source": [
    "cross_val_score, cross_validate의 차이는 test_score만 공통으로 갖고 있음."
   ]
  },
  {
   "cell_type": "code",
   "execution_count": null,
   "metadata": {
    "colab": {
     "base_uri": "https://localhost:8080/"
    },
    "id": "szpiXmMwsBI6",
    "outputId": "7eb17395-a52a-48f2-b6a9-fb1853ae7430"
   },
   "outputs": [],
   "source": [
    "rf.fit(train_input, train_target)\n",
    "rf.score(test_input, test_target)"
   ]
  },
  {
   "cell_type": "code",
   "execution_count": null,
   "metadata": {
    "colab": {
     "base_uri": "https://localhost:8080/"
    },
    "id": "I_f1bWfEqwsh",
    "outputId": "5dc76f84-2f04-45a0-a724-73e4b0ae45bd"
   },
   "outputs": [],
   "source": [
    "rf.feature_importances_"
   ]
  },
  {
   "cell_type": "markdown",
   "metadata": {
    "id": "2aUO1KT5HbMK"
   },
   "source": [
    "OOB(out of bag): 부트스트랩 샘플에 포함되지 않는 샘플. <br> 이것을 검증세트로 이용하여 평가할 수 있음(아래에서 oob_score_True 지정)"
   ]
  },
  {
   "cell_type": "code",
   "execution_count": null,
   "metadata": {
    "colab": {
     "base_uri": "https://localhost:8080/"
    },
    "id": "nUEtjEYfqwvk",
    "outputId": "fde6c5d4-e424-415f-f0b1-e0c3d16036d5"
   },
   "outputs": [],
   "source": [
    "rf_oob = RandomForestClassifier(oob_score=True, n_jobs=-1, random_state=42)\n",
    "rf_oob.fit(train_input, train_target)"
   ]
  },
  {
   "cell_type": "code",
   "execution_count": null,
   "metadata": {
    "colab": {
     "base_uri": "https://localhost:8080/"
    },
    "id": "mGI7NBFYvdWl",
    "outputId": "292f23dc-1014-4bfc-b5f4-ecc05b82f038"
   },
   "outputs": [],
   "source": [
    "rf_oob.oob_score_  #위의 test score와 결과가 비슷함"
   ]
  },
  {
   "cell_type": "markdown",
   "metadata": {
    "id": "KdrVoeQZRU14"
   },
   "source": [
    "## 엑스트라트리"
   ]
  },
  {
   "cell_type": "markdown",
   "metadata": {
    "id": "Arrufwo-JTIr"
   },
   "source": [
    "부트스트랩 샘플 사용하지 않고 즉 결정트리를 만들때 전체 데이터를 사용 <br> 결정트리에서처럼 불순도 게산하지 않고, random으로 feature를 선정하여 무작위로 분할함. <br> 속도가 빠름 == DecisionTreeClassifier 매개변수 splitter='random'로 선정한 트리와 동일"
   ]
  },
  {
   "cell_type": "code",
   "execution_count": null,
   "metadata": {
    "id": "e9qg4f09IZAm"
   },
   "outputs": [],
   "source": [
    "from sklearn.ensemble import ExtraTreesClassifier"
   ]
  },
  {
   "cell_type": "code",
   "execution_count": null,
   "metadata": {
    "id": "hEYoSc6dvdaU"
   },
   "outputs": [],
   "source": [
    "et = ExtraTreesClassifier(n_jobs=-1, random_state=42)\n",
    "scores = cross_validate(et,\n",
    "                        X=train_input, y=train_target,\n",
    "                        cv=5,\n",
    "                        return_train_score=True, n_jobs=-1)"
   ]
  },
  {
   "cell_type": "code",
   "execution_count": null,
   "metadata": {
    "colab": {
     "base_uri": "https://localhost:8080/"
    },
    "id": "w8PXEy3ZvddM",
    "outputId": "1a4c5419-91dd-4a12-9bc7-489060453877"
   },
   "outputs": [],
   "source": [
    "print('train score: {} \\n test score: {}'.format(scores['train_score'].mean(), scores['test_score'].mean()))"
   ]
  },
  {
   "cell_type": "code",
   "execution_count": null,
   "metadata": {
    "colab": {
     "base_uri": "https://localhost:8080/"
    },
    "id": "WOt_kHI1LMBt",
    "outputId": "efa49bac-6e47-4ec4-a4eb-018752bca78d"
   },
   "outputs": [],
   "source": [
    "et.fit(train_input, train_target)\n",
    "et.feature_importances_"
   ]
  },
  {
   "cell_type": "markdown",
   "metadata": {
    "id": "csKxnaxeRX8s"
   },
   "source": [
    "## 그레이디언트 부스팅"
   ]
  },
  {
   "cell_type": "markdown",
   "metadata": {
    "id": "UTI2y3EyNwkq"
   },
   "source": [
    "로지스틱 손실함수, 평균제곱오차 손실함수의 오차를 줄이기 위하여 회귀트리를 계속 추가하여 사용. Learning rate를 조정하여 최저점을 벗어나지 않도록 진행. 최초 max_depth=3을 지정하여 정확도가 떨어지나 계속 회귀트리를 추가하여 끌어 올림."
   ]
  },
  {
   "cell_type": "code",
   "execution_count": null,
   "metadata": {
    "id": "D198IzKfOXHD"
   },
   "outputs": [],
   "source": [
    "from sklearn.ensemble import GradientBoostingClassifier"
   ]
  },
  {
   "cell_type": "code",
   "execution_count": null,
   "metadata": {
    "id": "uSPNkV9uOXKd"
   },
   "outputs": [],
   "source": [
    "gb = GradientBoostingClassifier(random_state=42)\n",
    "scores = cross_validate(gb,\n",
    "                        X=train_input, y=train_target,\n",
    "                        return_train_score=True,\n",
    "                        n_jobs=-1)"
   ]
  },
  {
   "cell_type": "code",
   "execution_count": null,
   "metadata": {
    "colab": {
     "base_uri": "https://localhost:8080/"
    },
    "id": "xgqUw1PKOXN4",
    "outputId": "e2055a1b-8e37-48d6-b40c-e6d017e48542"
   },
   "outputs": [],
   "source": [
    "print('train score: {} \\n test score: {}'.format(scores['train_score'].mean(), scores['test_score'].mean()))"
   ]
  },
  {
   "cell_type": "code",
   "execution_count": null,
   "metadata": {
    "id": "liOEra0IPDJ8"
   },
   "outputs": [],
   "source": [
    "gb = GradientBoostingClassifier(n_estimators=500, learning_rate=0.2, random_state=42)\n",
    "scores = cross_validate(gb,\n",
    "                        X=train_input, y=train_target,\n",
    "                        return_train_score=True,\n",
    "                        n_jobs=-1)"
   ]
  },
  {
   "cell_type": "code",
   "execution_count": null,
   "metadata": {
    "colab": {
     "base_uri": "https://localhost:8080/"
    },
    "id": "s2-6PmRIPDNZ",
    "outputId": "48b42be7-cf2a-4fc0-a186-40590c0f0cb8"
   },
   "outputs": [],
   "source": [
    "print('train score: {} \\n test score: {}'.format(scores['train_score'].mean(), scores['test_score'].mean()))"
   ]
  },
  {
   "cell_type": "code",
   "execution_count": null,
   "metadata": {
    "colab": {
     "base_uri": "https://localhost:8080/"
    },
    "id": "KbP1ED8qPfBc",
    "outputId": "fa75e20f-b3b4-406e-b34d-28860923d061"
   },
   "outputs": [],
   "source": [
    "gb.fit(train_input, train_target)\n",
    "gb.feature_importances_"
   ]
  },
  {
   "cell_type": "code",
   "execution_count": null,
   "metadata": {
    "colab": {
     "base_uri": "https://localhost:8080/"
    },
    "id": "kVnhv6wxPfMv",
    "outputId": "ea543ff7-3bb8-45d0-89d1-bf2c41a83201"
   },
   "outputs": [],
   "source": [
    "gb.score(train_input, train_target)"
   ]
  },
  {
   "cell_type": "markdown",
   "metadata": {
    "id": "BthW_II9RbLa"
   },
   "source": [
    "## 히스토그램 기반 부스팅"
   ]
  },
  {
   "cell_type": "markdown",
   "metadata": {
    "id": "-a8FTiDaQhgq"
   },
   "source": [
    "255구간으로 나누어 진행. 1개의 빈칸을 준비하고 있는데, 이 곳은 결측치 이상치등을 모아서 진행함. 따라서 결측치 등이 있는 자료를 그대로 사용해도 됨."
   ]
  },
  {
   "cell_type": "code",
   "execution_count": null,
   "metadata": {
    "id": "PtiEIbmDQgVi"
   },
   "outputs": [],
   "source": [
    "from sklearn.ensemble import HistGradientBoostingClassifier"
   ]
  },
  {
   "cell_type": "code",
   "execution_count": null,
   "metadata": {
    "id": "Cl5dOMZnQgfb"
   },
   "outputs": [],
   "source": [
    "hgb = HistGradientBoostingClassifier(random_state=42)\n",
    "scores = cross_validate(hgb, train_input, train_target, return_train_score=True, n_jobs=-1)"
   ]
  },
  {
   "cell_type": "code",
   "execution_count": null,
   "metadata": {
    "colab": {
     "base_uri": "https://localhost:8080/"
    },
    "id": "biB9uXW5QgsB",
    "outputId": "52b5ea12-abe3-42a4-9cbd-47d84afb723d"
   },
   "outputs": [],
   "source": [
    "print('train score: {} \\n test score: {}'.format(scores['train_score'].mean(), scores['test_score'].mean()))"
   ]
  },
  {
   "cell_type": "markdown",
   "metadata": {
    "id": "c6qgS-KkTk8R"
   },
   "source": [
    "### Permutation Importance <br>\n",
    "추천하는 feature 중요도 확인 방법"
   ]
  },
  {
   "cell_type": "code",
   "execution_count": null,
   "metadata": {
    "id": "wFyi75DdRsiE"
   },
   "outputs": [],
   "source": [
    "from sklearn.inspection import permutation_importance"
   ]
  },
  {
   "cell_type": "code",
   "execution_count": null,
   "metadata": {
    "colab": {
     "base_uri": "https://localhost:8080/"
    },
    "id": "ktaqxhWKT3rZ",
    "outputId": "8eda2386-af21-4ee4-c9d0-b0a914799658"
   },
   "outputs": [],
   "source": [
    "hgb = HistGradientBoostingClassifier()\n",
    "hgb.fit(train_input, train_target)"
   ]
  },
  {
   "cell_type": "code",
   "execution_count": null,
   "metadata": {
    "id": "00oxE9YWT3yJ"
   },
   "outputs": [],
   "source": [
    "result = permutation_importance(hgb,\n",
    "                                X=train_input, y=train_target,\n",
    "                                n_repeats=10, random_state=42, n_jobs=-1)"
   ]
  },
  {
   "cell_type": "code",
   "execution_count": null,
   "metadata": {
    "colab": {
     "base_uri": "https://localhost:8080/"
    },
    "id": "l_oKKLiVT31x",
    "outputId": "2eb2470f-4d0e-4c97-cada-e2c58c8f55e8"
   },
   "outputs": [],
   "source": [
    "result"
   ]
  },
  {
   "cell_type": "code",
   "execution_count": null,
   "metadata": {
    "colab": {
     "base_uri": "https://localhost:8080/"
    },
    "id": "8DKTNt9iVkap",
    "outputId": "b3277374-8a5b-4ce7-b8bc-757c731a9abf"
   },
   "outputs": [],
   "source": [
    "result['importances_mean']"
   ]
  },
  {
   "cell_type": "code",
   "execution_count": null,
   "metadata": {
    "id": "aKoBJyRYVklN"
   },
   "outputs": [],
   "source": [
    "result_test = permutation_importance(hgb,\n",
    "                                X=test_input, y=test_target,\n",
    "                                n_repeats=10, random_state=42, n_jobs=-1)"
   ]
  },
  {
   "cell_type": "code",
   "execution_count": null,
   "metadata": {
    "colab": {
     "base_uri": "https://localhost:8080/"
    },
    "id": "66z01sO1Vxvl",
    "outputId": "e000d006-d470-47fc-d065-dfc6c9dff1f5"
   },
   "outputs": [],
   "source": [
    "result['importances_mean']"
   ]
  },
  {
   "cell_type": "markdown",
   "metadata": {
    "id": "8fz_FrezBezR"
   },
   "source": [
    "#### XGBoost"
   ]
  },
  {
   "cell_type": "code",
   "execution_count": null,
   "metadata": {
    "colab": {
     "base_uri": "https://localhost:8080/"
    },
    "id": "YBYLvOiV6rga",
    "outputId": "8d1e3dea-ef20-4f5a-ca00-66c510a95c36"
   },
   "outputs": [],
   "source": [
    "from xgboost import XGBClassifier\n",
    "\n",
    "xgb = XGBClassifier(tree_method='hist', random_state=42) # 'hist': HistGradientBoostingClassifier와 동일한 결과\n",
    "scores = cross_validate(xgb, train_input, train_target, return_train_score=True, n_jobs=-1)\n",
    "\n",
    "print(np.mean(scores['train_score']), np.mean(scores['test_score']))"
   ]
  },
  {
   "cell_type": "markdown",
   "metadata": {
    "id": "zl6nh6DOBd-B"
   },
   "source": [
    "#### LightGBM"
   ]
  },
  {
   "cell_type": "code",
   "execution_count": null,
   "metadata": {
    "colab": {
     "base_uri": "https://localhost:8080/"
    },
    "id": "maihlDMP7lmY",
    "outputId": "65beb7df-cb22-4482-f4d0-2aa107825efa"
   },
   "outputs": [],
   "source": [
    "from lightgbm import LGBMClassifier\n",
    "\n",
    "lgb = LGBMClassifier(random_state=42)\n",
    "scores = cross_validate(lgb, train_input, train_target, return_train_score=True, n_jobs=-1)\n",
    "\n",
    "print(np.mean(scores['train_score']), np.mean(scores['test_score']))"
   ]
  }
 ],
 "metadata": {
  "colab": {
   "collapsed_sections": [],
   "include_colab_link": true,
   "name": "5-3 트리의 앙상블.ipynb",
   "provenance": []
  },
  "kernelspec": {
   "display_name": "Python 3 (ipykernel)",
   "language": "python",
   "name": "python3"
  },
  "language_info": {
   "codemirror_mode": {
    "name": "ipython",
    "version": 3
   },
   "file_extension": ".py",
   "mimetype": "text/x-python",
   "name": "python",
   "nbconvert_exporter": "python",
   "pygments_lexer": "ipython3",
   "version": "3.9.1"
  }
 },
 "nbformat": 4,
 "nbformat_minor": 1
}
