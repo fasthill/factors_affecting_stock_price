{
 "cells": [
  {
   "cell_type": "markdown",
   "metadata": {
    "colab_type": "text",
    "id": "view-in-github"
   },
   "source": [
    "<a href=\"https://colab.research.google.com/github/fasthill/ML-DL-study-alone/blob/main/5-3%20%ED%8A%B8%EB%A6%AC%EC%9D%98%20%EC%95%99%EC%83%81%EB%B8%94.ipynb\" target=\"_parent\"><img src=\"https://colab.research.google.com/assets/colab-badge.svg\" alt=\"Open In Colab\"/></a>"
   ]
  },
  {
   "cell_type": "markdown",
   "metadata": {
    "id": "zp6fW8MP-mrO"
   },
   "source": [
    "# 트리의 앙상블"
   ]
  },
  {
   "cell_type": "markdown",
   "metadata": {
    "id": "dIaIAizcRSG-"
   },
   "source": [
    "## 랜덤포레스트"
   ]
  },
  {
   "cell_type": "code",
   "execution_count": 8,
   "metadata": {},
   "outputs": [],
   "source": [
    "import numpy as np\n",
    "import pandas as pd\n",
    "import matplotlib.pyplot as plt"
   ]
  },
  {
   "cell_type": "code",
   "execution_count": 11,
   "metadata": {
    "id": "k-gL103AoPWx"
   },
   "outputs": [],
   "source": [
    "from sklearn.model_selection import train_test_split, cross_validate, cross_val_score\n",
    "from sklearn.inspection import permutation_importance # .feature_importances_ 대체용으로 사용 추천\n",
    "from xgboost import XGBClassifier\n",
    "from lightgbm import LGBMClassifier"
   ]
  },
  {
   "cell_type": "code",
   "execution_count": 12,
   "metadata": {},
   "outputs": [],
   "source": [
    "from sklearn.ensemble import RandomForestClassifier, ExtraTreesClassifier, GradientBoostingClassifier\n",
    "\n",
    "from sklearn.experimental import enable_hist_gradient_boosting\n",
    "from sklearn.ensemble import HistGradientBoostingRegressor"
   ]
  },
  {
   "cell_type": "code",
   "execution_count": 13,
   "metadata": {
    "colab": {
     "base_uri": "https://localhost:8080/",
     "height": 206
    },
    "id": "Wutj3vrNoPdT",
    "outputId": "d8d50583-ad20-478f-a23d-15c9a6bba37e"
   },
   "outputs": [],
   "source": [
    "# wine = pd.read_csv('https://bit.ly/wine_csv_data')\n",
    "# wine.head()"
   ]
  },
  {
   "cell_type": "code",
   "execution_count": 14,
   "metadata": {
    "collapsed": true
   },
   "outputs": [
    {
     "ename": "AttributeError",
     "evalue": "'DataFrame' object has no attribute 'heaed'",
     "output_type": "error",
     "traceback": [
      "\u001b[1;31m---------------------------------------------------------------------------\u001b[0m",
      "\u001b[1;31mAttributeError\u001b[0m                            Traceback (most recent call last)",
      "Input \u001b[1;32mIn [14]\u001b[0m, in \u001b[0;36m<module>\u001b[1;34m\u001b[0m\n\u001b[0;32m      2\u001b[0m company \u001b[38;5;241m=\u001b[39m \u001b[38;5;124m'\u001b[39m\u001b[38;5;124mhyunmotor_ml.csv\u001b[39m\u001b[38;5;124m'\u001b[39m\n\u001b[0;32m      3\u001b[0m df \u001b[38;5;241m=\u001b[39m pd\u001b[38;5;241m.\u001b[39mread_csv(dir_name\u001b[38;5;241m+\u001b[39mcompany)\n\u001b[1;32m----> 4\u001b[0m df\u001b[38;5;241m.\u001b[39mheaed()\n",
      "File \u001b[1;32mc:\\users\\user\\appdata\\local\\programs\\python\\python39\\lib\\site-packages\\pandas\\core\\generic.py:5487\u001b[0m, in \u001b[0;36mNDFrame.__getattr__\u001b[1;34m(self, name)\u001b[0m\n\u001b[0;32m   5480\u001b[0m \u001b[38;5;28;01mif\u001b[39;00m (\n\u001b[0;32m   5481\u001b[0m     name \u001b[38;5;129;01mnot\u001b[39;00m \u001b[38;5;129;01min\u001b[39;00m \u001b[38;5;28mself\u001b[39m\u001b[38;5;241m.\u001b[39m_internal_names_set\n\u001b[0;32m   5482\u001b[0m     \u001b[38;5;129;01mand\u001b[39;00m name \u001b[38;5;129;01mnot\u001b[39;00m \u001b[38;5;129;01min\u001b[39;00m \u001b[38;5;28mself\u001b[39m\u001b[38;5;241m.\u001b[39m_metadata\n\u001b[0;32m   5483\u001b[0m     \u001b[38;5;129;01mand\u001b[39;00m name \u001b[38;5;129;01mnot\u001b[39;00m \u001b[38;5;129;01min\u001b[39;00m \u001b[38;5;28mself\u001b[39m\u001b[38;5;241m.\u001b[39m_accessors\n\u001b[0;32m   5484\u001b[0m     \u001b[38;5;129;01mand\u001b[39;00m \u001b[38;5;28mself\u001b[39m\u001b[38;5;241m.\u001b[39m_info_axis\u001b[38;5;241m.\u001b[39m_can_hold_identifiers_and_holds_name(name)\n\u001b[0;32m   5485\u001b[0m ):\n\u001b[0;32m   5486\u001b[0m     \u001b[38;5;28;01mreturn\u001b[39;00m \u001b[38;5;28mself\u001b[39m[name]\n\u001b[1;32m-> 5487\u001b[0m \u001b[38;5;28;01mreturn\u001b[39;00m \u001b[38;5;28;43mobject\u001b[39;49m\u001b[38;5;241;43m.\u001b[39;49m\u001b[38;5;21;43m__getattribute__\u001b[39;49m\u001b[43m(\u001b[49m\u001b[38;5;28;43mself\u001b[39;49m\u001b[43m,\u001b[49m\u001b[43m \u001b[49m\u001b[43mname\u001b[49m\u001b[43m)\u001b[49m\n",
      "\u001b[1;31mAttributeError\u001b[0m: 'DataFrame' object has no attribute 'heaed'"
     ]
    }
   ],
   "source": [
    "dir_name = '../data/analysis/'\n",
    "company = 'hyunmotor_ml.csv'\n",
    "df = pd.read_csv(dir_name+company)"
   ]
  },
  {
   "cell_type": "code",
   "execution_count": 15,
   "metadata": {},
   "outputs": [
    {
     "data": {
      "text/html": [
       "<div>\n",
       "<style scoped>\n",
       "    .dataframe tbody tr th:only-of-type {\n",
       "        vertical-align: middle;\n",
       "    }\n",
       "\n",
       "    .dataframe tbody tr th {\n",
       "        vertical-align: top;\n",
       "    }\n",
       "\n",
       "    .dataframe thead th {\n",
       "        text-align: right;\n",
       "    }\n",
       "</style>\n",
       "<table border=\"1\" class=\"dataframe\">\n",
       "  <thead>\n",
       "    <tr style=\"text-align: right;\">\n",
       "      <th></th>\n",
       "      <th>date</th>\n",
       "      <th>ixic</th>\n",
       "      <th>ixic_cr</th>\n",
       "      <th>ixic_f</th>\n",
       "      <th>ixic_f_cr</th>\n",
       "      <th>dji</th>\n",
       "      <th>dji_cr</th>\n",
       "      <th>dji_f</th>\n",
       "      <th>dji_f_cr</th>\n",
       "      <th>spx</th>\n",
       "      <th>...</th>\n",
       "      <th>institution_ratio</th>\n",
       "      <th>financial_ratio</th>\n",
       "      <th>invtrust_ratio</th>\n",
       "      <th>pension_ratio</th>\n",
       "      <th>privequity_ratio</th>\n",
       "      <th>bank_ratio</th>\n",
       "      <th>insurance_ratio</th>\n",
       "      <th>financeetc_ratio</th>\n",
       "      <th>corporateetc_ratio</th>\n",
       "      <th>foreigneretc_ratio</th>\n",
       "    </tr>\n",
       "  </thead>\n",
       "  <tbody>\n",
       "    <tr>\n",
       "      <th>0</th>\n",
       "      <td>2020-01-03</td>\n",
       "      <td>9020.77</td>\n",
       "      <td>-0.79</td>\n",
       "      <td>8810.0</td>\n",
       "      <td>-0.92</td>\n",
       "      <td>28634.88</td>\n",
       "      <td>-0.81</td>\n",
       "      <td>28602.0</td>\n",
       "      <td>-0.83</td>\n",
       "      <td>3234.85</td>\n",
       "      <td>...</td>\n",
       "      <td>-2.157890</td>\n",
       "      <td>-1.375459</td>\n",
       "      <td>-0.069882</td>\n",
       "      <td>-0.372194</td>\n",
       "      <td>-0.176484</td>\n",
       "      <td>-0.004374</td>\n",
       "      <td>-0.157971</td>\n",
       "      <td>-0.001729</td>\n",
       "      <td>0.646228</td>\n",
       "      <td>0.015258</td>\n",
       "    </tr>\n",
       "    <tr>\n",
       "      <th>1</th>\n",
       "      <td>2020-01-06</td>\n",
       "      <td>9071.47</td>\n",
       "      <td>0.56</td>\n",
       "      <td>8847.5</td>\n",
       "      <td>0.43</td>\n",
       "      <td>28703.38</td>\n",
       "      <td>0.24</td>\n",
       "      <td>28642.0</td>\n",
       "      <td>0.14</td>\n",
       "      <td>3246.28</td>\n",
       "      <td>...</td>\n",
       "      <td>-2.315127</td>\n",
       "      <td>-4.214006</td>\n",
       "      <td>-0.256679</td>\n",
       "      <td>0.613659</td>\n",
       "      <td>0.057901</td>\n",
       "      <td>0.000000</td>\n",
       "      <td>1.489012</td>\n",
       "      <td>-0.004103</td>\n",
       "      <td>1.628066</td>\n",
       "      <td>-0.003191</td>\n",
       "    </tr>\n",
       "    <tr>\n",
       "      <th>2</th>\n",
       "      <td>2020-01-07</td>\n",
       "      <td>9068.58</td>\n",
       "      <td>-0.03</td>\n",
       "      <td>8853.0</td>\n",
       "      <td>0.06</td>\n",
       "      <td>28583.68</td>\n",
       "      <td>-0.42</td>\n",
       "      <td>28526.0</td>\n",
       "      <td>-0.40</td>\n",
       "      <td>3237.18</td>\n",
       "      <td>...</td>\n",
       "      <td>-3.285418</td>\n",
       "      <td>-0.779225</td>\n",
       "      <td>-0.500663</td>\n",
       "      <td>-1.812237</td>\n",
       "      <td>0.023334</td>\n",
       "      <td>0.000864</td>\n",
       "      <td>-0.217492</td>\n",
       "      <td>0.000000</td>\n",
       "      <td>1.077663</td>\n",
       "      <td>-0.014691</td>\n",
       "    </tr>\n",
       "    <tr>\n",
       "      <th>3</th>\n",
       "      <td>2020-01-08</td>\n",
       "      <td>9129.24</td>\n",
       "      <td>0.67</td>\n",
       "      <td>8944.5</td>\n",
       "      <td>1.03</td>\n",
       "      <td>28745.09</td>\n",
       "      <td>0.56</td>\n",
       "      <td>28770.0</td>\n",
       "      <td>0.86</td>\n",
       "      <td>3253.05</td>\n",
       "      <td>...</td>\n",
       "      <td>-4.211582</td>\n",
       "      <td>-1.227007</td>\n",
       "      <td>-0.203398</td>\n",
       "      <td>-3.273825</td>\n",
       "      <td>0.504283</td>\n",
       "      <td>0.000401</td>\n",
       "      <td>-0.000602</td>\n",
       "      <td>-0.011434</td>\n",
       "      <td>0.915090</td>\n",
       "      <td>0.000000</td>\n",
       "    </tr>\n",
       "    <tr>\n",
       "      <th>4</th>\n",
       "      <td>2020-01-09</td>\n",
       "      <td>9203.43</td>\n",
       "      <td>0.81</td>\n",
       "      <td>9009.0</td>\n",
       "      <td>0.72</td>\n",
       "      <td>28956.90</td>\n",
       "      <td>0.74</td>\n",
       "      <td>28929.0</td>\n",
       "      <td>0.55</td>\n",
       "      <td>3274.70</td>\n",
       "      <td>...</td>\n",
       "      <td>-4.984682</td>\n",
       "      <td>-4.448025</td>\n",
       "      <td>-0.210094</td>\n",
       "      <td>0.015186</td>\n",
       "      <td>-0.009640</td>\n",
       "      <td>-0.007395</td>\n",
       "      <td>-0.322602</td>\n",
       "      <td>-0.002245</td>\n",
       "      <td>0.476310</td>\n",
       "      <td>0.005150</td>\n",
       "    </tr>\n",
       "  </tbody>\n",
       "</table>\n",
       "<p>5 rows × 119 columns</p>\n",
       "</div>"
      ],
      "text/plain": [
       "         date     ixic  ixic_cr  ixic_f  ixic_f_cr       dji  dji_cr    dji_f  \\\n",
       "0  2020-01-03  9020.77    -0.79  8810.0      -0.92  28634.88   -0.81  28602.0   \n",
       "1  2020-01-06  9071.47     0.56  8847.5       0.43  28703.38    0.24  28642.0   \n",
       "2  2020-01-07  9068.58    -0.03  8853.0       0.06  28583.68   -0.42  28526.0   \n",
       "3  2020-01-08  9129.24     0.67  8944.5       1.03  28745.09    0.56  28770.0   \n",
       "4  2020-01-09  9203.43     0.81  9009.0       0.72  28956.90    0.74  28929.0   \n",
       "\n",
       "   dji_f_cr      spx  ...  institution_ratio  financial_ratio  invtrust_ratio  \\\n",
       "0     -0.83  3234.85  ...          -2.157890        -1.375459       -0.069882   \n",
       "1      0.14  3246.28  ...          -2.315127        -4.214006       -0.256679   \n",
       "2     -0.40  3237.18  ...          -3.285418        -0.779225       -0.500663   \n",
       "3      0.86  3253.05  ...          -4.211582        -1.227007       -0.203398   \n",
       "4      0.55  3274.70  ...          -4.984682        -4.448025       -0.210094   \n",
       "\n",
       "   pension_ratio  privequity_ratio  bank_ratio  insurance_ratio  \\\n",
       "0      -0.372194         -0.176484   -0.004374        -0.157971   \n",
       "1       0.613659          0.057901    0.000000         1.489012   \n",
       "2      -1.812237          0.023334    0.000864        -0.217492   \n",
       "3      -3.273825          0.504283    0.000401        -0.000602   \n",
       "4       0.015186         -0.009640   -0.007395        -0.322602   \n",
       "\n",
       "   financeetc_ratio  corporateetc_ratio  foreigneretc_ratio  \n",
       "0         -0.001729            0.646228            0.015258  \n",
       "1         -0.004103            1.628066           -0.003191  \n",
       "2          0.000000            1.077663           -0.014691  \n",
       "3         -0.011434            0.915090            0.000000  \n",
       "4         -0.002245            0.476310            0.005150  \n",
       "\n",
       "[5 rows x 119 columns]"
      ]
     },
     "execution_count": 15,
     "metadata": {},
     "output_type": "execute_result"
    }
   ],
   "source": [
    "df.head()"
   ]
  },
  {
   "cell_type": "code",
   "execution_count": 16,
   "metadata": {},
   "outputs": [
    {
     "data": {
      "text/plain": [
       "Index(['date', 'ixic', 'ixic_cr', 'ixic_f', 'ixic_f_cr', 'dji', 'dji_cr',\n",
       "       'dji_f', 'dji_f_cr', 'spx', 'spx_cr', 'spx_f', 'spx_f_cr', 'kospi',\n",
       "       'kospi_cr', 'kosdaq', 'kosdaq_cr', 'wti', 'wti_cr', 'dxy', 'dxy_cr',\n",
       "       'krw', 'krw_cr', 'bond_usa_10', 'bond_usa_10_cr', 'bond_usa_2',\n",
       "       'bond_usa_2_cr', 'bond_usa_3m', 'bond_usa_3m_cr', 'bond_kor_10',\n",
       "       'bond_kor_10_cr', 'bond_kor_2', 'bond_kor_2_cr', 'vix', 'vix_cr', 'sox',\n",
       "       'sox_cr', 'cpi', 'cpi_anticipated', 'cpi_previous', 'gold', 'gold_cr',\n",
       "       'fed_rate', 'fed_rate_fore', 'fed_rate_prev', 'fed_rate_ann',\n",
       "       'fed_rate_imp', 'bok_rate', 'fu_usa_date', 'op_usa_date', 'qw_usa_day',\n",
       "       'fu_kor_date', 'op_kor_date', 'dw_kor_day', 'dayofweek', 'retail',\n",
       "       'retail_class', 'retail_cr', 'retail_days', 'foreigner'],\n",
       "      dtype='object')"
      ]
     },
     "execution_count": 16,
     "metadata": {},
     "output_type": "execute_result"
    }
   ],
   "source": [
    "list1 = df.columns[:60]"
   ]
  },
  {
   "cell_type": "code",
   "execution_count": 17,
   "metadata": {},
   "outputs": [
    {
     "data": {
      "text/plain": [
       "Index(['foreigner_class', 'foreigner_cr', 'foreigner_days', 'institution',\n",
       "       'institution_class', 'institution_cr', 'institution_days', 'financial',\n",
       "       'financial_class', 'financial_cr', 'financial_days', 'invtrust',\n",
       "       'invtrust_class', 'invtrust_days', 'pension', 'pension_class',\n",
       "       'pension_cr', 'pension_days', 'privequity', 'privequity_class',\n",
       "       'privequity_cr', 'privequity_days', 'bank', 'bank_class', 'bank_days',\n",
       "       'insurance', 'insurance_class', 'insurance_days', 'financeetc',\n",
       "       'financeetc_class', 'financeetc_days', 'corporateetc',\n",
       "       'corporateetc_class', 'corporateetc_cr', 'corporateetc_days',\n",
       "       'foreigneretc', 'foreigneretc_class', 'foreigneretc_days', 'open',\n",
       "       'high', 'low', 'close', 'close_cr', 'close_cr_class', 'vol',\n",
       "       'vol_percent', 'total', 'retail_ratio', 'foreigner_ratio',\n",
       "       'institution_ratio', 'financial_ratio', 'invtrust_ratio',\n",
       "       'pension_ratio', 'privequity_ratio', 'bank_ratio', 'insurance_ratio',\n",
       "       'financeetc_ratio', 'corporateetc_ratio', 'foreigneretc_ratio'],\n",
       "      dtype='object')"
      ]
     },
     "execution_count": 17,
     "metadata": {},
     "output_type": "execute_result"
    }
   ],
   "source": [
    "list2 = df.columns[60:120]"
   ]
  },
  {
   "cell_type": "code",
   "execution_count": 19,
   "metadata": {},
   "outputs": [],
   "source": [
    "sel_column = ['date', 'ixic_cr', 'dji_cr', 'spx_cr', 'kospi_cr', 'kosdaq_cr', \n",
    "              'wti_cr', 'dxy_cr', 'dayofweek', 'retail_cr', 'retail_days', \n",
    "              'foreigner_cr', 'foreigner_days', 'institution_cr', 'institution_days', 'close_cr_class']"
   ]
  },
  {
   "cell_type": "code",
   "execution_count": 3,
   "metadata": {
    "id": "uZwr9iaLpJPw"
   },
   "outputs": [],
   "source": [
    "# data =df.iloc[:, :3].values\n",
    "# target = wine.iloc[:, -1]"
   ]
  },
  {
   "cell_type": "code",
   "execution_count": 24,
   "metadata": {},
   "outputs": [],
   "source": [
    "data =df.loc[:, sel_column].values\n",
    "target = df.loc[:, 'close_cr_class']"
   ]
  },
  {
   "cell_type": "code",
   "execution_count": 26,
   "metadata": {
    "id": "cfZ69vXtoPhp"
   },
   "outputs": [],
   "source": [
    "train_input, test_input, train_target, test_target = train_test_split(data, target, test_size=0.2, random_state=42)"
   ]
  },
  {
   "cell_type": "code",
   "execution_count": 32,
   "metadata": {
    "id": "EDypj-t7plDb"
   },
   "outputs": [],
   "source": [
    "rf = RandomForestClassifier(random_state=42, n_jobs=-1, )"
   ]
  },
  {
   "cell_type": "code",
   "execution_count": 33,
   "metadata": {
    "id": "NANtdpa7oPl3"
   },
   "outputs": [
    {
     "name": "stderr",
     "output_type": "stream",
     "text": [
      "c:\\users\\user\\appdata\\local\\programs\\python\\python39\\lib\\site-packages\\sklearn\\model_selection\\_split.py:666: UserWarning: The least populated class in y has only 3 members, which is less than n_splits=5.\n",
      "  warnings.warn((\"The least populated class in y has only %d\"\n"
     ]
    }
   ],
   "source": [
    "scores = cross_validate(rf,\n",
    "                        X= train_input, y=train_target,\n",
    "                        return_train_score=True,  # 훈련데이터 결과도 리턴\n",
    "#                         cv=3,\n",
    "                        n_jobs=-1)"
   ]
  },
  {
   "cell_type": "code",
   "execution_count": 34,
   "metadata": {
    "colab": {
     "base_uri": "https://localhost:8080/"
    },
    "id": "2h1DQ56doPpy",
    "outputId": "22cc211f-9287-43b3-e07c-be7c960611cc"
   },
   "outputs": [
    {
     "data": {
      "text/plain": [
       "{'fit_time': array([0.00199866, 0.00199962, 0.00099921, 0.00200129, 0.00099659]),\n",
       " 'score_time': array([0., 0., 0., 0., 0.]),\n",
       " 'test_score': array([nan, nan, nan, nan, nan]),\n",
       " 'train_score': array([nan, nan, nan, nan, nan])}"
      ]
     },
     "execution_count": 34,
     "metadata": {},
     "output_type": "execute_result"
    }
   ],
   "source": [
    "scores"
   ]
  },
  {
   "cell_type": "code",
   "execution_count": 35,
   "metadata": {
    "colab": {
     "base_uri": "https://localhost:8080/"
    },
    "id": "LZ_SjKl5sg2Z",
    "outputId": "adf61dd5-51ae-44df-ff7d-8818e6900313"
   },
   "outputs": [
    {
     "name": "stdout",
     "output_type": "stream",
     "text": [
      "test score : nan \n",
      "train score: nan\n"
     ]
    }
   ],
   "source": [
    "print('test score : {} \\ntrain score: {}'.format(scores['test_score'].mean(), scores['train_score'].mean() ))"
   ]
  },
  {
   "cell_type": "code",
   "execution_count": 9,
   "metadata": {
    "id": "inR5hMgAqwme"
   },
   "outputs": [],
   "source": [
    "scores_v = cross_val_score(rf,\n",
    "                        X= train_input, y=train_target,\n",
    "                        cv=5,\n",
    "                        n_jobs=-1)"
   ]
  },
  {
   "cell_type": "code",
   "execution_count": 10,
   "metadata": {
    "colab": {
     "base_uri": "https://localhost:8080/"
    },
    "id": "7iFNFNinqwpc",
    "outputId": "36b1c57a-c7ff-4d23-c4be-bf341b7c4570"
   },
   "outputs": [
    {
     "data": {
      "text/plain": [
       "array([0.88461538, 0.88942308, 0.90279115, 0.88931665, 0.88642926])"
      ]
     },
     "execution_count": 10,
     "metadata": {},
     "output_type": "execute_result"
    }
   ],
   "source": [
    "scores_v"
   ]
  },
  {
   "cell_type": "markdown",
   "metadata": {
    "id": "5guCuGR0sD2g"
   },
   "source": [
    "cross_val_score, cross_validate의 차이는 test_score만 공통으로 갖고 있음."
   ]
  },
  {
   "cell_type": "code",
   "execution_count": 11,
   "metadata": {
    "colab": {
     "base_uri": "https://localhost:8080/"
    },
    "id": "szpiXmMwsBI6",
    "outputId": "7eb17395-a52a-48f2-b6a9-fb1853ae7430"
   },
   "outputs": [
    {
     "data": {
      "text/plain": [
       "0.8892307692307693"
      ]
     },
     "execution_count": 11,
     "metadata": {},
     "output_type": "execute_result"
    }
   ],
   "source": [
    "rf.fit(train_input, train_target)\n",
    "rf.score(test_input, test_target)"
   ]
  },
  {
   "cell_type": "code",
   "execution_count": 12,
   "metadata": {
    "colab": {
     "base_uri": "https://localhost:8080/"
    },
    "id": "I_f1bWfEqwsh",
    "outputId": "5dc76f84-2f04-45a0-a724-73e4b0ae45bd"
   },
   "outputs": [
    {
     "data": {
      "text/plain": [
       "array([0.23167441, 0.50039841, 0.26792718])"
      ]
     },
     "execution_count": 12,
     "metadata": {},
     "output_type": "execute_result"
    }
   ],
   "source": [
    "rf.feature_importances_"
   ]
  },
  {
   "cell_type": "markdown",
   "metadata": {
    "id": "2aUO1KT5HbMK"
   },
   "source": [
    "OOB(out of bag): 부트스트랩 샘플에 포함되지 않는 샘플. <br> 이것을 검증세트로 이용하여 평가할 수 있음(아래에서 oob_score_True 지정)"
   ]
  },
  {
   "cell_type": "code",
   "execution_count": 13,
   "metadata": {
    "colab": {
     "base_uri": "https://localhost:8080/"
    },
    "id": "nUEtjEYfqwvk",
    "outputId": "fde6c5d4-e424-415f-f0b1-e0c3d16036d5"
   },
   "outputs": [
    {
     "data": {
      "text/plain": [
       "RandomForestClassifier(n_jobs=-1, oob_score=True, random_state=42)"
      ]
     },
     "execution_count": 13,
     "metadata": {},
     "output_type": "execute_result"
    }
   ],
   "source": [
    "rf_oob = RandomForestClassifier(oob_score=True, n_jobs=-1, random_state=42)\n",
    "rf_oob.fit(train_input, train_target)"
   ]
  },
  {
   "cell_type": "code",
   "execution_count": 14,
   "metadata": {
    "colab": {
     "base_uri": "https://localhost:8080/"
    },
    "id": "mGI7NBFYvdWl",
    "outputId": "292f23dc-1014-4bfc-b5f4-ecc05b82f038"
   },
   "outputs": [
    {
     "data": {
      "text/plain": [
       "0.8934000384837406"
      ]
     },
     "execution_count": 14,
     "metadata": {},
     "output_type": "execute_result"
    }
   ],
   "source": [
    "rf_oob.oob_score_  #위의 test score와 결과가 비슷함"
   ]
  },
  {
   "cell_type": "markdown",
   "metadata": {
    "id": "KdrVoeQZRU14"
   },
   "source": [
    "## 엑스트라트리"
   ]
  },
  {
   "cell_type": "markdown",
   "metadata": {
    "id": "Arrufwo-JTIr"
   },
   "source": [
    "부트스트랩 샘플 사용하지 않고 즉 결정트리를 만들때 전체 데이터를 사용 <br> 결정트리에서처럼 불순도 게산하지 않고, random으로 feature를 선정하여 무작위로 분할함. <br> 속도가 빠름 == DecisionTreeClassifier 매개변수 splitter='random'로 선정한 트리와 동일"
   ]
  },
  {
   "cell_type": "code",
   "execution_count": 15,
   "metadata": {
    "id": "e9qg4f09IZAm"
   },
   "outputs": [],
   "source": [
    "from sklearn.ensemble import ExtraTreesClassifier"
   ]
  },
  {
   "cell_type": "code",
   "execution_count": 16,
   "metadata": {
    "id": "hEYoSc6dvdaU"
   },
   "outputs": [],
   "source": [
    "et = ExtraTreesClassifier(n_jobs=-1, random_state=42)\n",
    "scores = cross_validate(et,\n",
    "                        X=train_input, y=train_target,\n",
    "                        cv=5,\n",
    "                        return_train_score=True, n_jobs=-1)"
   ]
  },
  {
   "cell_type": "code",
   "execution_count": 17,
   "metadata": {
    "colab": {
     "base_uri": "https://localhost:8080/"
    },
    "id": "w8PXEy3ZvddM",
    "outputId": "1a4c5419-91dd-4a12-9bc7-489060453877"
   },
   "outputs": [
    {
     "name": "stdout",
     "output_type": "stream",
     "text": [
      "train score: 0.9974503966084433 \n",
      " test score: 0.8887848893166506\n"
     ]
    }
   ],
   "source": [
    "print('train score: {} \\n test score: {}'.format(scores['train_score'].mean(), scores['test_score'].mean()))"
   ]
  },
  {
   "cell_type": "code",
   "execution_count": 18,
   "metadata": {
    "colab": {
     "base_uri": "https://localhost:8080/"
    },
    "id": "WOt_kHI1LMBt",
    "outputId": "efa49bac-6e47-4ec4-a4eb-018752bca78d"
   },
   "outputs": [
    {
     "data": {
      "text/plain": [
       "array([0.20183568, 0.52242907, 0.27573525])"
      ]
     },
     "execution_count": 18,
     "metadata": {},
     "output_type": "execute_result"
    }
   ],
   "source": [
    "et.fit(train_input, train_target)\n",
    "et.feature_importances_"
   ]
  },
  {
   "cell_type": "markdown",
   "metadata": {
    "id": "csKxnaxeRX8s"
   },
   "source": [
    "## 그레이디언트 부스팅"
   ]
  },
  {
   "cell_type": "markdown",
   "metadata": {
    "id": "UTI2y3EyNwkq"
   },
   "source": [
    "로지스틱 손실함수, 평균제곱오차 손실함수의 오차를 줄이기 위하여 회귀트리를 계속 추가하여 사용. Learning rate를 조정하여 최저점을 벗어나지 않도록 진행. 최초 max_depth=3을 지정하여 정확도가 떨어지나 계속 회귀트리를 추가하여 끌어 올림."
   ]
  },
  {
   "cell_type": "code",
   "execution_count": 19,
   "metadata": {
    "id": "D198IzKfOXHD"
   },
   "outputs": [],
   "source": [
    "from sklearn.ensemble import GradientBoostingClassifier"
   ]
  },
  {
   "cell_type": "code",
   "execution_count": 20,
   "metadata": {
    "id": "uSPNkV9uOXKd"
   },
   "outputs": [],
   "source": [
    "gb = GradientBoostingClassifier(random_state=42)\n",
    "scores = cross_validate(gb,\n",
    "                        X=train_input, y=train_target,\n",
    "                        return_train_score=True,\n",
    "                        n_jobs=-1)"
   ]
  },
  {
   "cell_type": "code",
   "execution_count": 21,
   "metadata": {
    "colab": {
     "base_uri": "https://localhost:8080/"
    },
    "id": "xgqUw1PKOXN4",
    "outputId": "e2055a1b-8e37-48d6-b40c-e6d017e48542"
   },
   "outputs": [
    {
     "name": "stdout",
     "output_type": "stream",
     "text": [
      "train score: 0.8881086892152563 \n",
      " test score: 0.8720430147331015\n"
     ]
    }
   ],
   "source": [
    "print('train score: {} \\n test score: {}'.format(scores['train_score'].mean(), scores['test_score'].mean()))"
   ]
  },
  {
   "cell_type": "code",
   "execution_count": 22,
   "metadata": {
    "id": "liOEra0IPDJ8"
   },
   "outputs": [],
   "source": [
    "gb = GradientBoostingClassifier(n_estimators=500, learning_rate=0.2, random_state=42)\n",
    "scores = cross_validate(gb,\n",
    "                        X=train_input, y=train_target,\n",
    "                        return_train_score=True,\n",
    "                        n_jobs=-1)"
   ]
  },
  {
   "cell_type": "code",
   "execution_count": 23,
   "metadata": {
    "colab": {
     "base_uri": "https://localhost:8080/"
    },
    "id": "s2-6PmRIPDNZ",
    "outputId": "48b42be7-cf2a-4fc0-a186-40590c0f0cb8"
   },
   "outputs": [
    {
     "name": "stdout",
     "output_type": "stream",
     "text": [
      "train score: 0.9464595437171814 \n",
      " test score: 0.8780082549788999\n"
     ]
    }
   ],
   "source": [
    "print('train score: {} \\n test score: {}'.format(scores['train_score'].mean(), scores['test_score'].mean()))"
   ]
  },
  {
   "cell_type": "code",
   "execution_count": 24,
   "metadata": {
    "colab": {
     "base_uri": "https://localhost:8080/"
    },
    "id": "KbP1ED8qPfBc",
    "outputId": "fa75e20f-b3b4-406e-b34d-28860923d061"
   },
   "outputs": [
    {
     "data": {
      "text/plain": [
       "array([0.15872278, 0.68010884, 0.16116839])"
      ]
     },
     "execution_count": 24,
     "metadata": {},
     "output_type": "execute_result"
    }
   ],
   "source": [
    "gb.fit(train_input, train_target)\n",
    "gb.feature_importances_"
   ]
  },
  {
   "cell_type": "code",
   "execution_count": 25,
   "metadata": {
    "colab": {
     "base_uri": "https://localhost:8080/"
    },
    "id": "kVnhv6wxPfMv",
    "outputId": "ea543ff7-3bb8-45d0-89d1-bf2c41a83201"
   },
   "outputs": [
    {
     "data": {
      "text/plain": [
       "0.9382335963055609"
      ]
     },
     "execution_count": 25,
     "metadata": {},
     "output_type": "execute_result"
    }
   ],
   "source": [
    "gb.score(train_input, train_target)"
   ]
  },
  {
   "cell_type": "markdown",
   "metadata": {
    "id": "BthW_II9RbLa"
   },
   "source": [
    "## 히스토그램 기반 부스팅"
   ]
  },
  {
   "cell_type": "markdown",
   "metadata": {
    "id": "-a8FTiDaQhgq"
   },
   "source": [
    "255구간으로 나누어 진행. 1개의 빈칸을 준비하고 있는데, 이 곳은 결측치 이상치등을 모아서 진행함. 따라서 결측치 등이 있는 자료를 그대로 사용해도 됨."
   ]
  },
  {
   "cell_type": "code",
   "execution_count": 26,
   "metadata": {
    "id": "PtiEIbmDQgVi"
   },
   "outputs": [],
   "source": [
    "from sklearn.ensemble import HistGradientBoostingClassifier"
   ]
  },
  {
   "cell_type": "code",
   "execution_count": 27,
   "metadata": {
    "id": "Cl5dOMZnQgfb"
   },
   "outputs": [],
   "source": [
    "hgb = HistGradientBoostingClassifier(random_state=42)\n",
    "scores = cross_validate(hgb, train_input, train_target, return_train_score=True, n_jobs=-1)"
   ]
  },
  {
   "cell_type": "code",
   "execution_count": 28,
   "metadata": {
    "colab": {
     "base_uri": "https://localhost:8080/"
    },
    "id": "biB9uXW5QgsB",
    "outputId": "52b5ea12-abe3-42a4-9cbd-47d84afb723d"
   },
   "outputs": [
    {
     "name": "stdout",
     "output_type": "stream",
     "text": [
      "train score: 0.9321723946453317 \n",
      " test score: 0.8801241948619236\n"
     ]
    }
   ],
   "source": [
    "print('train score: {} \\n test score: {}'.format(scores['train_score'].mean(), scores['test_score'].mean()))"
   ]
  },
  {
   "cell_type": "markdown",
   "metadata": {
    "id": "c6qgS-KkTk8R"
   },
   "source": [
    "### Permutation Importance <br>\n",
    "추천하는 feature 중요도 확인 방법"
   ]
  },
  {
   "cell_type": "code",
   "execution_count": 29,
   "metadata": {
    "id": "wFyi75DdRsiE"
   },
   "outputs": [],
   "source": [
    "from sklearn.inspection import permutation_importance"
   ]
  },
  {
   "cell_type": "code",
   "execution_count": 30,
   "metadata": {
    "colab": {
     "base_uri": "https://localhost:8080/"
    },
    "id": "ktaqxhWKT3rZ",
    "outputId": "8eda2386-af21-4ee4-c9d0-b0a914799658"
   },
   "outputs": [
    {
     "data": {
      "text/plain": [
       "HistGradientBoostingClassifier()"
      ]
     },
     "execution_count": 30,
     "metadata": {},
     "output_type": "execute_result"
    }
   ],
   "source": [
    "hgb = HistGradientBoostingClassifier()\n",
    "hgb.fit(train_input, train_target)"
   ]
  },
  {
   "cell_type": "code",
   "execution_count": 31,
   "metadata": {
    "id": "00oxE9YWT3yJ"
   },
   "outputs": [],
   "source": [
    "result = permutation_importance(hgb,\n",
    "                                X=train_input, y=train_target,\n",
    "                                n_repeats=10, random_state=42, n_jobs=-1)"
   ]
  },
  {
   "cell_type": "code",
   "execution_count": 32,
   "metadata": {
    "colab": {
     "base_uri": "https://localhost:8080/"
    },
    "id": "l_oKKLiVT31x",
    "outputId": "2eb2470f-4d0e-4c97-cada-e2c58c8f55e8"
   },
   "outputs": [
    {
     "data": {
      "text/plain": [
       "{'importances': array([[0.08793535, 0.08350972, 0.08908986, 0.08312488, 0.09274581,\n",
       "         0.08755051, 0.08601116, 0.09601693, 0.09082163, 0.09082163],\n",
       "        [0.22782374, 0.23590533, 0.23936887, 0.23436598, 0.23725226,\n",
       "         0.23436598, 0.23359631, 0.23398114, 0.23994612, 0.22724649],\n",
       "        [0.08581874, 0.08601116, 0.08062344, 0.07504329, 0.08427939,\n",
       "         0.07792957, 0.07234943, 0.07465846, 0.08139311, 0.08466423]]),\n",
       " 'importances_mean': array([0.08876275, 0.23438522, 0.08027708]),\n",
       " 'importances_std': array([0.00382333, 0.00401363, 0.00477012])}"
      ]
     },
     "execution_count": 32,
     "metadata": {},
     "output_type": "execute_result"
    }
   ],
   "source": [
    "result"
   ]
  },
  {
   "cell_type": "code",
   "execution_count": 33,
   "metadata": {
    "colab": {
     "base_uri": "https://localhost:8080/"
    },
    "id": "8DKTNt9iVkap",
    "outputId": "b3277374-8a5b-4ce7-b8bc-757c731a9abf"
   },
   "outputs": [
    {
     "data": {
      "text/plain": [
       "array([0.08876275, 0.23438522, 0.08027708])"
      ]
     },
     "execution_count": 33,
     "metadata": {},
     "output_type": "execute_result"
    }
   ],
   "source": [
    "result['importances_mean']"
   ]
  },
  {
   "cell_type": "code",
   "execution_count": 34,
   "metadata": {
    "id": "aKoBJyRYVklN"
   },
   "outputs": [],
   "source": [
    "result_test = permutation_importance(hgb,\n",
    "                                X=test_input, y=test_target,\n",
    "                                n_repeats=10, random_state=42, n_jobs=-1)"
   ]
  },
  {
   "cell_type": "code",
   "execution_count": 35,
   "metadata": {
    "colab": {
     "base_uri": "https://localhost:8080/"
    },
    "id": "66z01sO1Vxvl",
    "outputId": "e000d006-d470-47fc-d065-dfc6c9dff1f5"
   },
   "outputs": [
    {
     "data": {
      "text/plain": [
       "array([0.08876275, 0.23438522, 0.08027708])"
      ]
     },
     "execution_count": 35,
     "metadata": {},
     "output_type": "execute_result"
    }
   ],
   "source": [
    "result['importances_mean']"
   ]
  },
  {
   "cell_type": "markdown",
   "metadata": {
    "id": "8fz_FrezBezR"
   },
   "source": [
    "#### XGBoost"
   ]
  },
  {
   "cell_type": "code",
   "execution_count": 36,
   "metadata": {
    "colab": {
     "base_uri": "https://localhost:8080/"
    },
    "id": "YBYLvOiV6rga",
    "outputId": "8d1e3dea-ef20-4f5a-ca00-66c510a95c36"
   },
   "outputs": [
    {
     "name": "stdout",
     "output_type": "stream",
     "text": [
      "0.8824322471423747 0.8726214185237284\n"
     ]
    }
   ],
   "source": [
    "from xgboost import XGBClassifier\n",
    "\n",
    "xgb = XGBClassifier(tree_method='hist', random_state=42) # 'hist': HistGradientBoostingClassifier와 동일한 결과\n",
    "scores = cross_validate(xgb, train_input, train_target, return_train_score=True, n_jobs=-1)\n",
    "\n",
    "print(np.mean(scores['train_score']), np.mean(scores['test_score']))"
   ]
  },
  {
   "cell_type": "markdown",
   "metadata": {
    "id": "zl6nh6DOBd-B"
   },
   "source": [
    "#### LightGBM"
   ]
  },
  {
   "cell_type": "code",
   "execution_count": 37,
   "metadata": {
    "colab": {
     "base_uri": "https://localhost:8080/"
    },
    "id": "maihlDMP7lmY",
    "outputId": "65beb7df-cb22-4482-f4d0-2aa107825efa"
   },
   "outputs": [
    {
     "name": "stdout",
     "output_type": "stream",
     "text": [
      "0.9338079582727165 0.8789710890649293\n"
     ]
    }
   ],
   "source": [
    "from lightgbm import LGBMClassifier\n",
    "\n",
    "lgb = LGBMClassifier(random_state=42)\n",
    "scores = cross_validate(lgb, train_input, train_target, return_train_score=True, n_jobs=-1)\n",
    "\n",
    "print(np.mean(scores['train_score']), np.mean(scores['test_score']))"
   ]
  }
 ],
 "metadata": {
  "colab": {
   "collapsed_sections": [],
   "include_colab_link": true,
   "name": "5-3 트리의 앙상블.ipynb",
   "provenance": []
  },
  "kernelspec": {
   "display_name": "Python 3 (ipykernel)",
   "language": "python",
   "name": "python3"
  },
  "language_info": {
   "codemirror_mode": {
    "name": "ipython",
    "version": 3
   },
   "file_extension": ".py",
   "mimetype": "text/x-python",
   "name": "python",
   "nbconvert_exporter": "python",
   "pygments_lexer": "ipython3",
   "version": "3.9.1"
  }
 },
 "nbformat": 4,
 "nbformat_minor": 1
}
