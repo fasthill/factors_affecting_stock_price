{
 "cells": [
  {
   "cell_type": "code",
   "execution_count": 91,
   "id": "f40214f8",
   "metadata": {},
   "outputs": [],
   "source": [
    "import numpy as np\n",
    "import pandas as pd\n",
    "import matplotlib.pyplot as plt\n",
    "from functools import reduce\n",
    "\n",
    "import joblib\n",
    "\n",
    "from tensorflow.keras.models import load_model\n",
    "\n",
    "import os, sys\n",
    "import datetime"
   ]
  },
  {
   "cell_type": "code",
   "execution_count": 88,
   "id": "4f18a0c5",
   "metadata": {},
   "outputs": [],
   "source": [
    "import pickle\n",
    "\n",
    "def save_to_pickle(path, filename):\n",
    "    open_file = open(path, \"wb\")\n",
    "    pickle.dump(filename, open_file)\n",
    "    open_file.close()\n",
    "\n",
    "def load_from_pickle(path):\n",
    "    open_file = open(path, \"rb\")\n",
    "    loaded_list = pickle.load(open_file)\n",
    "    open_file.close()\n",
    "    return loaded_list"
   ]
  },
  {
   "cell_type": "code",
   "execution_count": 8,
   "id": "c4522b1c",
   "metadata": {},
   "outputs": [],
   "source": [
    "directory = './'\n",
    "param1 = pd.read_pickle(directory + 'mobis_params_ver1.pkl')\n",
    "param2 = pd.read_pickle(directory + 'mobis_params_ver2.pkl')\n",
    "param3 = pd.read_pickle(directory + 'mobis_params_ver3.pkl')"
   ]
  },
  {
   "cell_type": "code",
   "execution_count": 9,
   "id": "68740e6f",
   "metadata": {},
   "outputs": [
    {
     "data": {
      "text/plain": [
       "({'boosting_type': ['gbdt'],\n",
       "  'num_iterations': [50, 100, 150, 200],\n",
       "  'learning_rate': [0.030000000000000006,\n",
       "   0.05,\n",
       "   0.07,\n",
       "   0.09000000000000001,\n",
       "   0.11000000000000001],\n",
       "  'max_depth': [None, 2, 3, 4],\n",
       "  'num_leaves': [2, 3, 4, 5, 6],\n",
       "  'subsample': [None, 0.001, 0.002, 0.003],\n",
       "  'colsample_bytree': [0.25, 0.3, 0.35, 0.4, 0.45],\n",
       "  'objective': ['binary'],\n",
       "  'metric': ['binary_logloss'],\n",
       "  'n_estimators': [None, 3, 4, 5],\n",
       "  'max_delta_step': [0.5, 0.6, 0.7, 0.8, 0.9],\n",
       "  'scale_pos_weight': [10]},\n",
       " {'boosting_type': ['gbdt'],\n",
       "  'num_iterations': [150, 200, 300],\n",
       "  'learning_rate': [0.06000000000000001,\n",
       "   0.08000000000000002,\n",
       "   0.11000000000000001,\n",
       "   0.31000000000000005,\n",
       "   0.51],\n",
       "  'max_depth': [None, 2, 3, 4],\n",
       "  'num_leaves': [2, 3, 4, 5, 6],\n",
       "  'subsample': [None, 0.001, 0.002, 0.003],\n",
       "  'colsample_bytree': [0.25, 0.3, 0.35, 0.4, 0.45],\n",
       "  'objective': ['binary'],\n",
       "  'metric': ['binary_logloss'],\n",
       "  'n_estimators': [None, 3, 4, 5],\n",
       "  'max_delta_step': [0.5, 0.6, 0.7, 0.8, 0.9],\n",
       "  'scale_pos_weight': [10]},\n",
       " {'boosting_type': ['gbdt'],\n",
       "  'num_iterations': [200, 300, 400],\n",
       "  'learning_rate': [0.10999999999999999, 0.31, 0.51, 0.71, 0.91],\n",
       "  'max_depth': [None, 2, 3, 4],\n",
       "  'num_leaves': [2, 3, 4],\n",
       "  'subsample': [None, 0.001, 0.002, 0.003],\n",
       "  'colsample_bytree': [0.25, 0.3, 0.35, 0.4, 0.45],\n",
       "  'objective': ['binary'],\n",
       "  'metric': ['binary_logloss'],\n",
       "  'n_estimators': [None, 3, 4, 5],\n",
       "  'max_delta_step': [0.5, 0.6, 0.7, 0.8, 0.9],\n",
       "  'scale_pos_weight': [10]})"
      ]
     },
     "execution_count": 9,
     "metadata": {},
     "output_type": "execute_result"
    }
   ],
   "source": [
    "param1, param2, param3"
   ]
  },
  {
   "cell_type": "code",
   "execution_count": 95,
   "id": "0c16b036",
   "metadata": {},
   "outputs": [],
   "source": [
    "df4 = pd.read_pickle(directory + 'sec_params_ver4_03112313.pkl')\n",
    "df3 = pd.read_pickle(directory + 'sec_params_ver3_03112208.pkl')\n",
    "df1 = pd.read_pickle(directory + 'sec_params_ver1_03112030.pkl')\n",
    "df2 = pd.read_pickle(directory + 'sec_params_ver2_03112104.pkl')"
   ]
  },
  {
   "cell_type": "code",
   "execution_count": 96,
   "id": "99906f2e",
   "metadata": {},
   "outputs": [
    {
     "data": {
      "text/plain": [
       "({'boosting_type': ['gbdt'],\n",
       "  'num_iterations': [150, 200, 300],\n",
       "  'learning_rate': [0.04, 0.06, 0.08, 0.1, 0.12],\n",
       "  'max_depth': [1, 2, 3, 4],\n",
       "  'num_leaves': [4, 5, 6, 7, 8],\n",
       "  'subsample': [0.001, 0.002, 0.003],\n",
       "  'colsample_bytree': [0.25, 0.3, 0.35, 0.4, 0.45],\n",
       "  'objective': ['binary'],\n",
       "  'metric': ['binary_logloss'],\n",
       "  'n_estimators': [2, 3, 4],\n",
       "  'max_delta_step': [0.5, 0.6, 0.7, 0.8, 0.9],\n",
       "  'scale_pos_weight': [3, 10, 20]},\n",
       " {'boosting_type': ['gbdt'],\n",
       "  'num_iterations': [150, 200, 300],\n",
       "  'learning_rate': [0.060000000000000005,\n",
       "   0.08,\n",
       "   0.1,\n",
       "   0.12000000000000001,\n",
       "   0.14],\n",
       "  'max_depth': [2, 3, 4, 5, 6],\n",
       "  'num_leaves': [4, 5, 6, 7, 8],\n",
       "  'subsample': [0.001, 0.002, 0.003],\n",
       "  'colsample_bytree': [0.25, 0.3, 0.35, 0.4, 0.45],\n",
       "  'objective': ['binary'],\n",
       "  'metric': ['binary_logloss'],\n",
       "  'n_estimators': [2, 3, 4, 5],\n",
       "  'max_delta_step': [0.5, 0.6, 0.7, 0.8, 0.9],\n",
       "  'scale_pos_weight': [3, 10, 20]},\n",
       " {'boosting_type': ['gbdt'],\n",
       "  'num_iterations': [150, 200, 300],\n",
       "  'learning_rate': [0.060000000000000005,\n",
       "   0.08,\n",
       "   0.1,\n",
       "   0.12000000000000001,\n",
       "   0.14],\n",
       "  'max_depth': [2, 3, 4, 5, 6],\n",
       "  'num_leaves': [4, 5, 6, 7, 8],\n",
       "  'subsample': [0.001, 0.002, 0.003],\n",
       "  'colsample_bytree': [0.25, 0.3, 0.35, 0.4, 0.45],\n",
       "  'objective': ['binary'],\n",
       "  'metric': ['binary_logloss'],\n",
       "  'n_estimators': [2, 3, 4, 5],\n",
       "  'max_delta_step': [0.5, 0.6, 0.7, 0.8, 0.9],\n",
       "  'scale_pos_weight': [3, 10, 20]},\n",
       " {'boosting_type': ['gbdt'],\n",
       "  'num_iterations': [150, 200, 300],\n",
       "  'learning_rate': [0.060000000000000005,\n",
       "   0.08,\n",
       "   0.1,\n",
       "   0.12000000000000001,\n",
       "   0.14],\n",
       "  'max_depth': [2, 3, 4, 5, 6],\n",
       "  'num_leaves': [4, 5, 6, 7, 8],\n",
       "  'subsample': [0.001, 0.002, 0.003],\n",
       "  'colsample_bytree': [0.25, 0.3, 0.35, 0.4, 0.45],\n",
       "  'objective': ['binary'],\n",
       "  'metric': ['binary_logloss'],\n",
       "  'n_estimators': [2, 3, 4, 5],\n",
       "  'max_delta_step': [0.5, 0.6, 0.7, 0.8, 0.9],\n",
       "  'scale_pos_weight': [3, 10, 20]})"
      ]
     },
     "execution_count": 96,
     "metadata": {},
     "output_type": "execute_result"
    }
   ],
   "source": [
    "df1, df2, df3, df4"
   ]
  },
  {
   "cell_type": "code",
   "execution_count": 24,
   "id": "623e6f41",
   "metadata": {},
   "outputs": [
    {
     "name": "stdout",
     "output_type": "stream",
     "text": [
      "2023-03-11T16:08\n"
     ]
    }
   ],
   "source": [
    "stamp = datetime.datetime.today().isoformat()[:16]\n"
   ]
  },
  {
   "cell_type": "code",
   "execution_count": 25,
   "id": "45e14f70",
   "metadata": {},
   "outputs": [
    {
     "name": "stdout",
     "output_type": "stream",
     "text": [
      "filename_2023-03-11T16:08.pkl\n"
     ]
    }
   ],
   "source": [
    "print(f'filename_{stamp}.pkl')"
   ]
  },
  {
   "cell_type": "code",
   "execution_count": null,
   "id": "b3538619",
   "metadata": {},
   "outputs": [],
   "source": [
    "df_sel = pd.DataFrame(model.feature_importances_, index=data.columns, columns=['importance']).sort_values(by='importance', ascending=False)\n",
    "df_sel"
   ]
  },
  {
   "cell_type": "code",
   "execution_count": null,
   "id": "72e56d7d",
   "metadata": {},
   "outputs": [],
   "source": [
    "model.booster_.feature_importance(importance_type='gain')"
   ]
  },
  {
   "cell_type": "code",
   "execution_count": null,
   "id": "af2b2daf",
   "metadata": {},
   "outputs": [],
   "source": [
    "df_sel = pd.DataFrame(model.booster_.feature_importance(importance_type='gain'), \n",
    "                      index=data.columns, columns=['importance']).sort_values(by='importance', \n",
    "                                                                              ascending=False)\n",
    "df_sel"
   ]
  },
  {
   "cell_type": "code",
   "execution_count": null,
   "id": "25ad57b2",
   "metadata": {},
   "outputs": [],
   "source": [
    "model.booster_.feature_importance(importance_type='split')\n",
    "# 큰 특징을 가지는 feature는 tree상위레벨에서 적게 사용됨."
   ]
  },
  {
   "cell_type": "code",
   "execution_count": 89,
   "id": "726b31e0",
   "metadata": {},
   "outputs": [
    {
     "data": {
      "text/plain": [
       "['.ipynb_checkpoints',\n",
       " '03_classification - 복사본.ipynb',\n",
       " '03_classification.ipynb',\n",
       " '07_ensemble_learning_and_random_forests.ipynb',\n",
       " '5-1 결정 트리.ipynb',\n",
       " '5-3 트리의 앙상블.ipynb',\n",
       " '7-1 인공 신경망.ipynb',\n",
       " '7-2 심층 신경망.ipynb',\n",
       " '7-3 신경망 모델 훈련.ipynb',\n",
       " 'best_model',\n",
       " 'best_model.h5',\n",
       " 'best_model_mobis',\n",
       " 'best_model_naver',\n",
       " 'best_model_sec',\n",
       " 'best_model_skhinix',\n",
       " 'data_columns.pkl',\n",
       " 'decisiontree.ipynb',\n",
       " 'decisiontree1.ipynb',\n",
       " 'df_mobis_lgbm.csv',\n",
       " 'df_mobis_lgbm.pkl',\n",
       " 'Ensemble.ipynb',\n",
       " 'fearure_selection.ipynb',\n",
       " 'fearure_selection_DecisionTree-com.ipynb',\n",
       " 'fearure_selection_DecisionTree.ipynb',\n",
       " 'fearure_selection_using_3_tools.ipynb',\n",
       " 'find_accuracy.ipynb',\n",
       " 'find_accuracy_6months.ipynb',\n",
       " 'find_accuracy_update_data.ipynb',\n",
       " 'lightgbm-base.ipynb',\n",
       " 'lightgbm-mobis.ipynb',\n",
       " 'lightgbm-naver.ipynb',\n",
       " 'lightgbm-sec.ipynb',\n",
       " 'lightgbm-skhinix.ipynb',\n",
       " 'mobis',\n",
       " 'mobis_lgbm_0000.pkl',\n",
       " 'mobis_lgbm_1111.pkl',\n",
       " 'mobis_lgbm_ver000_df.csv',\n",
       " 'mobis_lgbm_ver000_df.pkl',\n",
       " 'mobis_lgbm_ver1.pkl',\n",
       " 'mobis_lgbm_ver2.pkl',\n",
       " 'mobis_lgbm_ver3.pkl',\n",
       " 'mobis_lgbm_ver4.pkl',\n",
       " 'mobis_lgbm_ver4_df.csv',\n",
       " 'mobis_lgbm_ver4_df.pkl',\n",
       " 'mobis_lgbm_ver7_.pkl',\n",
       " 'mobis_lgbm_vVV.pkl',\n",
       " 'mobis_params_ver1.pkl',\n",
       " 'mobis_params_ver2.pkl',\n",
       " 'mobis_params_ver3.pkl',\n",
       " 'predict_market.ipynb',\n",
       " 'read_pickle.ipynb',\n",
       " 'sec',\n",
       " 'sec_params_ver1_03112030.pkl',\n",
       " 'sec_params_ver2_03112104.pkl',\n",
       " 'sec_params_ver3_03112208.pkl',\n",
       " 'sec_params_ver4_03112313.pkl',\n",
       " 'select_best_fit_features.ipynb',\n",
       " 'testmodel.pkl',\n",
       " 'xgboost-sec.ipynb']"
      ]
     },
     "execution_count": 89,
     "metadata": {},
     "output_type": "execute_result"
    }
   ],
   "source": [
    "os.listdir()"
   ]
  },
  {
   "cell_type": "code",
   "execution_count": 50,
   "id": "2a3081d5",
   "metadata": {},
   "outputs": [],
   "source": [
    "stamp = datetime.datetime.today().isoformat()[5:16] # 파일명 끝에 생성날짜 시간 추가"
   ]
  },
  {
   "cell_type": "code",
   "execution_count": 51,
   "id": "b6731f05",
   "metadata": {},
   "outputs": [
    {
     "data": {
      "text/plain": [
       "'03-11T17:40'"
      ]
     },
     "execution_count": 51,
     "metadata": {},
     "output_type": "execute_result"
    }
   ],
   "source": [
    "stamp"
   ]
  },
  {
   "cell_type": "code",
   "execution_count": 59,
   "id": "28244a6c",
   "metadata": {},
   "outputs": [
    {
     "ename": "EOFError",
     "evalue": "",
     "output_type": "error",
     "traceback": [
      "\u001b[1;31m---------------------------------------------------------------------------\u001b[0m",
      "\u001b[1;31mEOFError\u001b[0m                                  Traceback (most recent call last)",
      "Cell \u001b[1;32mIn [59], line 2\u001b[0m\n\u001b[0;32m      1\u001b[0m directory \u001b[38;5;241m=\u001b[39m \u001b[38;5;124m'\u001b[39m\u001b[38;5;124m./\u001b[39m\u001b[38;5;124m'\u001b[39m\n\u001b[1;32m----> 2\u001b[0m param1 \u001b[38;5;241m=\u001b[39m \u001b[43mjoblib\u001b[49m\u001b[38;5;241;43m.\u001b[39;49m\u001b[43mload\u001b[49m\u001b[43m(\u001b[49m\u001b[43mdirectory\u001b[49m\u001b[43m \u001b[49m\u001b[38;5;241;43m+\u001b[39;49m\u001b[43m \u001b[49m\u001b[38;5;124;43m'\u001b[39;49m\u001b[38;5;124;43mmobis_lgbm_ver2_2023-03-11T17\u001b[39;49m\u001b[38;5;124;43m'\u001b[39;49m\u001b[43m)\u001b[49m\n\u001b[0;32m      3\u001b[0m param2 \u001b[38;5;241m=\u001b[39m joblib\u001b[38;5;241m.\u001b[39mload(directory \u001b[38;5;241m+\u001b[39m \u001b[38;5;124m'\u001b[39m\u001b[38;5;124mmobis_lgbm_ver3.pkl\u001b[39m\u001b[38;5;124m'\u001b[39m)\n",
      "File \u001b[1;32m~\\AppData\\Local\\Programs\\Python\\Python310\\lib\\site-packages\\joblib\\numpy_pickle.py:587\u001b[0m, in \u001b[0;36mload\u001b[1;34m(filename, mmap_mode)\u001b[0m\n\u001b[0;32m    581\u001b[0m             \u001b[38;5;28;01mif\u001b[39;00m \u001b[38;5;28misinstance\u001b[39m(fobj, \u001b[38;5;28mstr\u001b[39m):\n\u001b[0;32m    582\u001b[0m                 \u001b[38;5;66;03m# if the returned file object is a string, this means we\u001b[39;00m\n\u001b[0;32m    583\u001b[0m                 \u001b[38;5;66;03m# try to load a pickle file generated with an version of\u001b[39;00m\n\u001b[0;32m    584\u001b[0m                 \u001b[38;5;66;03m# Joblib so we load it with joblib compatibility function.\u001b[39;00m\n\u001b[0;32m    585\u001b[0m                 \u001b[38;5;28;01mreturn\u001b[39;00m load_compatibility(fobj)\n\u001b[1;32m--> 587\u001b[0m             obj \u001b[38;5;241m=\u001b[39m \u001b[43m_unpickle\u001b[49m\u001b[43m(\u001b[49m\u001b[43mfobj\u001b[49m\u001b[43m,\u001b[49m\u001b[43m \u001b[49m\u001b[43mfilename\u001b[49m\u001b[43m,\u001b[49m\u001b[43m \u001b[49m\u001b[43mmmap_mode\u001b[49m\u001b[43m)\u001b[49m\n\u001b[0;32m    588\u001b[0m \u001b[38;5;28;01mreturn\u001b[39;00m obj\n",
      "File \u001b[1;32m~\\AppData\\Local\\Programs\\Python\\Python310\\lib\\site-packages\\joblib\\numpy_pickle.py:506\u001b[0m, in \u001b[0;36m_unpickle\u001b[1;34m(fobj, filename, mmap_mode)\u001b[0m\n\u001b[0;32m    504\u001b[0m obj \u001b[38;5;241m=\u001b[39m \u001b[38;5;28;01mNone\u001b[39;00m\n\u001b[0;32m    505\u001b[0m \u001b[38;5;28;01mtry\u001b[39;00m:\n\u001b[1;32m--> 506\u001b[0m     obj \u001b[38;5;241m=\u001b[39m \u001b[43munpickler\u001b[49m\u001b[38;5;241;43m.\u001b[39;49m\u001b[43mload\u001b[49m\u001b[43m(\u001b[49m\u001b[43m)\u001b[49m\n\u001b[0;32m    507\u001b[0m     \u001b[38;5;28;01mif\u001b[39;00m unpickler\u001b[38;5;241m.\u001b[39mcompat_mode:\n\u001b[0;32m    508\u001b[0m         warnings\u001b[38;5;241m.\u001b[39mwarn(\u001b[38;5;124m\"\u001b[39m\u001b[38;5;124mThe file \u001b[39m\u001b[38;5;124m'\u001b[39m\u001b[38;5;132;01m%s\u001b[39;00m\u001b[38;5;124m'\u001b[39m\u001b[38;5;124m has been generated with a \u001b[39m\u001b[38;5;124m\"\u001b[39m\n\u001b[0;32m    509\u001b[0m                       \u001b[38;5;124m\"\u001b[39m\u001b[38;5;124mjoblib version less than 0.10. \u001b[39m\u001b[38;5;124m\"\u001b[39m\n\u001b[0;32m    510\u001b[0m                       \u001b[38;5;124m\"\u001b[39m\u001b[38;5;124mPlease regenerate this pickle file.\u001b[39m\u001b[38;5;124m\"\u001b[39m\n\u001b[0;32m    511\u001b[0m                       \u001b[38;5;241m%\u001b[39m filename,\n\u001b[0;32m    512\u001b[0m                       \u001b[38;5;167;01mDeprecationWarning\u001b[39;00m, stacklevel\u001b[38;5;241m=\u001b[39m\u001b[38;5;241m3\u001b[39m)\n",
      "File \u001b[1;32m~\\AppData\\Local\\Programs\\Python\\Python310\\lib\\pickle.py:1211\u001b[0m, in \u001b[0;36m_Unpickler.load\u001b[1;34m(self)\u001b[0m\n\u001b[0;32m   1209\u001b[0m key \u001b[38;5;241m=\u001b[39m read(\u001b[38;5;241m1\u001b[39m)\n\u001b[0;32m   1210\u001b[0m \u001b[38;5;28;01mif\u001b[39;00m \u001b[38;5;129;01mnot\u001b[39;00m key:\n\u001b[1;32m-> 1211\u001b[0m     \u001b[38;5;28;01mraise\u001b[39;00m \u001b[38;5;167;01mEOFError\u001b[39;00m\n\u001b[0;32m   1212\u001b[0m \u001b[38;5;28;01massert\u001b[39;00m \u001b[38;5;28misinstance\u001b[39m(key, bytes_types)\n\u001b[0;32m   1213\u001b[0m dispatch[key[\u001b[38;5;241m0\u001b[39m]](\u001b[38;5;28mself\u001b[39m)\n",
      "\u001b[1;31mEOFError\u001b[0m: "
     ]
    }
   ],
   "source": [
    "directory = './'\n",
    "param1 = joblib.load(directory + 'mobis_lgbm_ver2_2023-03-11T17')\n",
    "param2 = joblib.load(directory + 'mobis_lgbm_ver3.pkl')"
   ]
  },
  {
   "cell_type": "code",
   "execution_count": 56,
   "id": "3e82824b",
   "metadata": {},
   "outputs": [
    {
     "data": {
      "text/plain": [
       "'./comname_lgbm_ver10_03-11T17:40.pkl'"
      ]
     },
     "execution_count": 56,
     "metadata": {},
     "output_type": "execute_result"
    }
   ],
   "source": [
    "com_name = 'comname'\n",
    "iter= 10\n",
    "f'./{com_name}_lgbm_ver{iter}_{stamp}.pkl'"
   ]
  },
  {
   "cell_type": "code",
   "execution_count": 83,
   "id": "f7ba66a5",
   "metadata": {},
   "outputs": [
    {
     "data": {
      "text/plain": [
       "'2023-03-11T19:33:35.853687'"
      ]
     },
     "execution_count": 83,
     "metadata": {},
     "output_type": "execute_result"
    }
   ],
   "source": [
    "stamp = datetime.datetime.today().isoformat()\n",
    "stamp"
   ]
  },
  {
   "cell_type": "code",
   "execution_count": 86,
   "id": "07e5e1d5",
   "metadata": {},
   "outputs": [
    {
     "data": {
      "text/plain": [
       "'03-11T19:33'"
      ]
     },
     "execution_count": 86,
     "metadata": {},
     "output_type": "execute_result"
    }
   ],
   "source": [
    "stamp[5:16]"
   ]
  },
  {
   "cell_type": "code",
   "execution_count": null,
   "id": "447e8759",
   "metadata": {},
   "outputs": [],
   "source": []
  },
  {
   "cell_type": "code",
   "execution_count": 60,
   "id": "1edf58a1",
   "metadata": {},
   "outputs": [
    {
     "data": {
      "text/plain": [
       "{'boosting_type': ['gbdt'],\n",
       " 'num_iterations': [150, 200, 300],\n",
       " 'learning_rate': [0.06000000000000001,\n",
       "  0.08000000000000002,\n",
       "  0.11000000000000001,\n",
       "  0.31000000000000005,\n",
       "  0.51],\n",
       " 'max_depth': [None, 2, 3, 4],\n",
       " 'num_leaves': [2, 3, 4, 5, 6],\n",
       " 'subsample': [None, 0.001, 0.002, 0.003],\n",
       " 'colsample_bytree': [0.25, 0.3, 0.35, 0.4, 0.45],\n",
       " 'objective': ['binary'],\n",
       " 'metric': ['binary_logloss'],\n",
       " 'n_estimators': [None, 3, 4, 5],\n",
       " 'max_delta_step': [0.5, 0.6, 0.7, 0.8, 0.9],\n",
       " 'scale_pos_weight': [10]}"
      ]
     },
     "execution_count": 60,
     "metadata": {},
     "output_type": "execute_result"
    }
   ],
   "source": [
    "param2"
   ]
  },
  {
   "cell_type": "code",
   "execution_count": 68,
   "id": "5bb8b372",
   "metadata": {},
   "outputs": [],
   "source": [
    "ddd = joblib.load(directory + 'mobis_lgbm_ver4.pkl')"
   ]
  },
  {
   "cell_type": "code",
   "execution_count": 69,
   "id": "f17e8cbc",
   "metadata": {},
   "outputs": [],
   "source": [
    "model = ddd.best_estimator_"
   ]
  },
  {
   "cell_type": "code",
   "execution_count": 70,
   "id": "978afd99",
   "metadata": {},
   "outputs": [
    {
     "data": {
      "text/plain": [
       "array([4.51738035e+01, 8.49704885e+00, 1.76477676e+01, 6.78797081e+00,\n",
       "       5.79749001e+00, 2.29660045e+00, 1.42772755e-01, 5.15909811e+00,\n",
       "       3.20167397e+00, 9.83118510e+00, 1.64204599e+01, 1.43067985e+00,\n",
       "       3.36480914e-01, 7.71855498e-01, 3.35723340e+00, 6.87346810e-01,\n",
       "       0.00000000e+00, 1.01957870e+00, 3.21522724e+00, 8.65191482e+00,\n",
       "       2.53470450e+00, 5.29490064e+01, 1.21109560e+01, 6.19227556e+00,\n",
       "       1.74866223e+01, 7.85997119e+00, 1.02373142e-01, 2.59281313e+00,\n",
       "       8.95245665e+00, 2.04948147e+01, 2.03436263e+01, 6.25309442e+01,\n",
       "       4.16109883e+01, 1.68604797e+01, 1.96209500e-02])"
      ]
     },
     "execution_count": 70,
     "metadata": {},
     "output_type": "execute_result"
    }
   ],
   "source": [
    "model.booster_.feature_importance(importance_type='gain')"
   ]
  },
  {
   "cell_type": "code",
   "execution_count": 71,
   "id": "15082dd5",
   "metadata": {},
   "outputs": [
    {
     "ename": "NameError",
     "evalue": "name 'data' is not defined",
     "output_type": "error",
     "traceback": [
      "\u001b[1;31m---------------------------------------------------------------------------\u001b[0m",
      "\u001b[1;31mNameError\u001b[0m                                 Traceback (most recent call last)",
      "Cell \u001b[1;32mIn [71], line 2\u001b[0m\n\u001b[0;32m      1\u001b[0m df_sel \u001b[38;5;241m=\u001b[39m pd\u001b[38;5;241m.\u001b[39mDataFrame(model\u001b[38;5;241m.\u001b[39mbooster_\u001b[38;5;241m.\u001b[39mfeature_importance(importance_type\u001b[38;5;241m=\u001b[39m\u001b[38;5;124m'\u001b[39m\u001b[38;5;124mgain\u001b[39m\u001b[38;5;124m'\u001b[39m), \n\u001b[1;32m----> 2\u001b[0m                       index\u001b[38;5;241m=\u001b[39m\u001b[43mdata\u001b[49m\u001b[38;5;241m.\u001b[39mcolumns, columns\u001b[38;5;241m=\u001b[39m[\u001b[38;5;124m'\u001b[39m\u001b[38;5;124mimportance\u001b[39m\u001b[38;5;124m'\u001b[39m])\u001b[38;5;241m.\u001b[39msort_values(by\u001b[38;5;241m=\u001b[39m\u001b[38;5;124m'\u001b[39m\u001b[38;5;124mimportance\u001b[39m\u001b[38;5;124m'\u001b[39m, \n\u001b[0;32m      3\u001b[0m                                                                               ascending\u001b[38;5;241m=\u001b[39m\u001b[38;5;28;01mFalse\u001b[39;00m)\n",
      "\u001b[1;31mNameError\u001b[0m: name 'data' is not defined"
     ]
    }
   ],
   "source": [
    "df_sel = pd.DataFrame(model.booster_.feature_importance(importance_type='gain'), \n",
    "                      index=data.columns, columns=['importance']).sort_values(by='importance', \n",
    "                                                                              ascending=False)"
   ]
  },
  {
   "cell_type": "code",
   "execution_count": 72,
   "id": "c64b33cb",
   "metadata": {},
   "outputs": [],
   "source": [
    "aa = './comname_lgbm_ver10_03-11T17:40.pkl'"
   ]
  },
  {
   "cell_type": "code",
   "execution_count": 78,
   "id": "1d00bc14",
   "metadata": {},
   "outputs": [
    {
     "data": {
      "text/plain": [
       "('comn', '_lg')"
      ]
     },
     "execution_count": 78,
     "metadata": {},
     "output_type": "execute_result"
    }
   ],
   "source": [
    "aa[2:6], aa[9:12]"
   ]
  },
  {
   "cell_type": "code",
   "execution_count": 79,
   "id": "7b2c0c4e",
   "metadata": {},
   "outputs": [
    {
     "ename": "TypeError",
     "evalue": "string indices must be integers",
     "output_type": "error",
     "traceback": [
      "\u001b[1;31m---------------------------------------------------------------------------\u001b[0m",
      "\u001b[1;31mTypeError\u001b[0m                                 Traceback (most recent call last)",
      "Cell \u001b[1;32mIn [79], line 1\u001b[0m\n\u001b[1;32m----> 1\u001b[0m \u001b[43maa\u001b[49m\u001b[43m[\u001b[49m\u001b[38;5;241;43m2\u001b[39;49m\u001b[43m:\u001b[49m\u001b[38;5;241;43m6\u001b[39;49m\u001b[43m,\u001b[49m\u001b[43m \u001b[49m\u001b[38;5;241;43m9\u001b[39;49m\u001b[43m:\u001b[49m\u001b[38;5;241;43m12\u001b[39;49m\u001b[43m]\u001b[49m\n",
      "\u001b[1;31mTypeError\u001b[0m: string indices must be integers"
     ]
    }
   ],
   "source": [
    "aa[2:6, 9:12]"
   ]
  },
  {
   "cell_type": "code",
   "execution_count": null,
   "id": "6032cd73",
   "metadata": {},
   "outputs": [],
   "source": []
  }
 ],
 "metadata": {
  "kernelspec": {
   "display_name": "Python 3 (ipykernel)",
   "language": "python",
   "name": "python3"
  },
  "language_info": {
   "codemirror_mode": {
    "name": "ipython",
    "version": 3
   },
   "file_extension": ".py",
   "mimetype": "text/x-python",
   "name": "python",
   "nbconvert_exporter": "python",
   "pygments_lexer": "ipython3",
   "version": "3.10.7"
  }
 },
 "nbformat": 4,
 "nbformat_minor": 5
}
