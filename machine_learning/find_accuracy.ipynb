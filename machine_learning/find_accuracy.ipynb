{
 "cells": [
  {
   "cell_type": "markdown",
   "metadata": {
    "id": "LlS4gyYqJVpn"
   },
   "source": [
    "# 예측이 가능한 종목 추리기"
   ]
  },
  {
   "cell_type": "markdown",
   "metadata": {
    "id": "tQBDVUjBbIsL"
   },
   "source": [
    "## 가장 좋은 결과를 낼 수 있는 feature항목 추출\n",
    "## 모든 feature를 사용한 결과와, 선택 추출된 feature만 사용한 결과 정확도에 차이가 남\n",
    "#### logistic 회귀 이용하여 coef_ 항목에서 영향력이 높은 feature를 선택. 최적의 갯수 선택"
   ]
  },
  {
   "cell_type": "markdown",
   "metadata": {
    "id": "ILi_LPl9JVpw"
   },
   "source": [
    "### 데이터 준비하기"
   ]
  },
  {
   "cell_type": "code",
   "execution_count": 1,
   "metadata": {
    "id": "EwImyTS9S3QQ"
   },
   "outputs": [],
   "source": [
    "import pandas as pd\n",
    "import numpy as np\n",
    "import matplotlib.pyplot as plt\n",
    "\n",
    "from sklearn.preprocessing import StandardScaler\n",
    "from sklearn.model_selection import train_test_split\n",
    "from sklearn.neighbors import KNeighborsClassifier\n",
    "from sklearn.linear_model import LogisticRegression"
   ]
  },
  {
   "cell_type": "code",
   "execution_count": 2,
   "metadata": {},
   "outputs": [],
   "source": [
    "from sklearn.linear_model import SGDClassifier\n",
    "from sklearn.model_selection import cross_validate, train_test_split\n",
    "from tensorflow import keras\n",
    "from tensorflow.keras.datasets import fashion_mnist\n",
    "from tensorflow.keras import Sequential\n",
    "from tensorflow.keras.layers import Dense, Flatten, Dropout\n",
    "from tensorflow.keras.models import load_model\n",
    "from tensorflow.keras.callbacks import ModelCheckpoint, EarlyStopping\n",
    "from sklearn.model_selection import train_test_split\n",
    "from sklearn.metrics import precision_score, recall_score, f1_score, confusion_matrix\n",
    "from sklearn.metrics import roc_auc_score"
   ]
  },
  {
   "cell_type": "code",
   "execution_count": 3,
   "metadata": {},
   "outputs": [],
   "source": [
    "# 로지스틱회귀후에 .coef_ 항목에서 기준(criteria, 계수)보다 높은 영향력을 미치는 feature column 선택\n",
    "def select_features(df, coef, criteria):\n",
    "    sel_num = np.where(np.abs(coef) > criteria )[1]\n",
    "    sel_col = df.columns[sel_num]\n",
    "    return sel_col"
   ]
  },
  {
   "cell_type": "code",
   "execution_count": 4,
   "metadata": {},
   "outputs": [],
   "source": [
    "def get_scores(data, target):\n",
    "    train_input, test_input, train_target, test_target = train_test_split(data, target, random_state=42, test_size=0.2, stratify=target)\n",
    "\n",
    "    ss = StandardScaler()\n",
    "    ss.fit(train_input)\n",
    "    train_scaled = ss.transform(train_input)\n",
    "    test_scaled = ss.transform(test_input)\n",
    "\n",
    "    lr = LogisticRegression(C=20, max_iter=4000) # max_iter default 100, \n",
    "#     lr = LogisticRegression(C=1, solver='newton_cg', max_iter=1000) # max_iter default 100, \n",
    "    lr.fit(train_scaled, train_target)\n",
    "\n",
    "    train_score = lr.score(train_scaled, train_target)\n",
    "    test_score = lr.score(test_scaled, test_target)\n",
    "#     print(f'train score: {train_score:.4f} \\n test score; {test_score:.4f}')\n",
    "    return train_score, test_score, lr.coef_, lr.intercept_"
   ]
  },
  {
   "cell_type": "code",
   "execution_count": 5,
   "metadata": {},
   "outputs": [],
   "source": [
    "def find_best_result(data, target):\n",
    "# min을 하나씩 제거하면서 최고의 결과를 가져오는 feature갯수(항목) 선택\n",
    "\n",
    "    train_score_list= []\n",
    "    test_score_list = []\n",
    "#     data_columns = []\n",
    "#     data_coef = []\n",
    "    test_s = 0\n",
    "    train_score, test_score, coef, intercept = get_scores(data, target)\n",
    "    for _ in range(len(data.columns)-1):\n",
    "        criteria = np.abs(coef).min()\n",
    "        sel_col = select_features(data, coef, criteria)\n",
    "        data = df[sel_col]\n",
    "        train_score, test_score, coef, intercept = get_scores(data, target)\n",
    "\n",
    "        if test_score > test_s:\n",
    "            test_s = test_score\n",
    "            data_columns = sel_col\n",
    "            data_coef = coef\n",
    "\n",
    "        train_score_list.append(train_score)\n",
    "        test_score_list.append(test_score)\n",
    "    \n",
    "    return train_score_list, test_score_list, data_columns, data_coef"
   ]
  },
  {
   "cell_type": "code",
   "execution_count": 6,
   "metadata": {},
   "outputs": [],
   "source": [
    "def model_fn(inp_num, a_layer=None):\n",
    "    model = Sequential()\n",
    "    model.add(Dense(12, activation='sigmoid', input_shape=(inp_num,)))\n",
    "#     model.add(Dropout(0.1))\n",
    "    model.add(Dense(6, activation='sigmoid'))\n",
    "#     model.add(Dropout(0.1))\n",
    "    if a_layer:\n",
    "        model.add(a_layer)\n",
    "    model.add(Dense(1, activation='sigmoid'))\n",
    "    \n",
    "    return model"
   ]
  },
  {
   "cell_type": "code",
   "execution_count": 7,
   "metadata": {},
   "outputs": [],
   "source": [
    "code = {'005930' : ['삼성전자', 'sec'], '373220' : ['LG에너지솔루션', 'lgenergy'], \n",
    "        '000660' : ['SK하이닉스', 'skhinix'], '207940' : ['삼성바이오로직스', 'ssbio'],\n",
    "        '006400' : ['삼성SDI', 'sdi'], '051910' : ['LG화학', 'lgchemical'],\n",
    "        '005935' : ['삼성전자우', 'secpre'], '005380' : ['현대차', 'hyunmotor'],\n",
    "        '035420' : ['NAVER', 'naver'], '000270' : ['기아','kia'],\n",
    "        '035720' : ['카카오', 'kakao'], '005490' : ['POSCO홀딩스', 'poscoholding'],\n",
    "        '105560' : ['KB금융', 'kbbank'], '028260' : ['삼성물산', 'sscnt'],\n",
    "        '068270' : ['셀트리온', 'celltrion'], '012330' : ['현대모비스', 'mobis'],\n",
    "        '055550' : ['신한지주', 'shgroup'], '066570' : ['LG전자', 'lgelec'],\n",
    "        '003670' : ['포스코케미칼', 'poscochemical'], '096770' : ['SK이노베이션', 'skinnovation'],\n",
    "        '033780' : ['KT&G', 'ktng']}\n",
    "\n",
    "# code = {'005930' : ['삼성전자', 'sec'], '373220' : ['LG에너지솔루션', 'lgenergy']}"
   ]
  },
  {
   "cell_type": "code",
   "execution_count": 8,
   "metadata": {},
   "outputs": [
    {
     "name": "stdout",
     "output_type": "stream",
     "text": [
      "2/2 [==============================] - 0s 7ms/step\n",
      "2/2 [==============================] - 0s 15ms/step - loss: 0.3368 - accuracy: 0.9091\n",
      "1/1 [==============================] - 0s 31ms/step\n",
      "1/1 [==============================] - 0s 14ms/step - loss: 0.6702 - accuracy: 0.6452\n",
      "1/1 [==============================] - 0s 27ms/step\n",
      "1/1 [==============================] - 0s 14ms/step - loss: 0.3298 - accuracy: 0.8438\n",
      "1/1 [==============================] - 0s 32ms/step\n",
      "1/1 [==============================] - 0s 15ms/step - loss: 0.6281 - accuracy: 0.6786\n",
      "WARNING:tensorflow:5 out of the last 6 calls to <function Model.make_predict_function.<locals>.predict_function at 0x0000021A77F0A830> triggered tf.function retracing. Tracing is expensive and the excessive number of tracings could be due to (1) creating @tf.function repeatedly in a loop, (2) passing tensors with different shapes, (3) passing Python objects instead of tensors. For (1), please define your @tf.function outside of the loop. For (2), @tf.function has reduce_retracing=True option that can avoid unnecessary retracing. For (3), please refer to https://www.tensorflow.org/guide/function#controlling_retracing and https://www.tensorflow.org/api_docs/python/tf/function for  more details.\n",
      "1/1 [==============================] - 0s 32ms/step\n",
      "1/1 [==============================] - 0s 5ms/step - loss: 0.6762 - accuracy: 0.5938\n",
      "WARNING:tensorflow:6 out of the last 7 calls to <function Model.make_predict_function.<locals>.predict_function at 0x0000021A7A1F8430> triggered tf.function retracing. Tracing is expensive and the excessive number of tracings could be due to (1) creating @tf.function repeatedly in a loop, (2) passing tensors with different shapes, (3) passing Python objects instead of tensors. For (1), please define your @tf.function outside of the loop. For (2), @tf.function has reduce_retracing=True option that can avoid unnecessary retracing. For (3), please refer to https://www.tensorflow.org/guide/function#controlling_retracing and https://www.tensorflow.org/api_docs/python/tf/function for  more details.\n",
      "1/1 [==============================] - 0s 30ms/step\n",
      "1/1 [==============================] - 0s 15ms/step - loss: 0.5036 - accuracy: 0.7333\n",
      "1/1 [==============================] - 0s 26ms/step\n",
      "1/1 [==============================] - 0s 2ms/step - loss: 0.5196 - accuracy: 0.7000\n",
      "1/1 [==============================] - 0s 19ms/step\n",
      "1/1 [==============================] - 0s 1ms/step - loss: 0.6360 - accuracy: 0.6000\n",
      "1/1 [==============================] - 0s 32ms/step\n",
      "1/1 [==============================] - 0s 2ms/step - loss: 0.4451 - accuracy: 0.8000\n",
      "1/1 [==============================] - 0s 32ms/step\n",
      "1/1 [==============================] - 0s 16ms/step - loss: 0.6089 - accuracy: 0.7407\n",
      "1/1 [==============================] - 0s 32ms/step\n",
      "1/1 [==============================] - 0s 10ms/step - loss: 0.5869 - accuracy: 0.6897\n",
      "1/1 [==============================] - 0s 31ms/step\n",
      "1/1 [==============================] - 0s 5ms/step - loss: 0.4564 - accuracy: 0.7419\n",
      "1/1 [==============================] - 0s 31ms/step\n",
      "1/1 [==============================] - 0s 14ms/step - loss: 0.5311 - accuracy: 0.7600\n",
      "1/1 [==============================] - 0s 34ms/step\n",
      "1/1 [==============================] - 0s 10ms/step - loss: 0.5325 - accuracy: 0.7273\n",
      "1/1 [==============================] - 0s 31ms/step\n",
      "1/1 [==============================] - 0s 9ms/step - loss: 0.6528 - accuracy: 0.5000\n",
      "1/1 [==============================] - 0s 18ms/step\n",
      "1/1 [==============================] - 0s 11ms/step - loss: 0.5495 - accuracy: 0.8261\n",
      "1/1 [==============================] - 0s 34ms/step\n",
      "1/1 [==============================] - 0s 14ms/step - loss: 0.6767 - accuracy: 0.7273\n",
      "1/1 [==============================] - 0s 32ms/step\n",
      "1/1 [==============================] - 0s 3ms/step - loss: 0.6107 - accuracy: 0.7200\n",
      "1/1 [==============================] - 0s 32ms/step\n",
      "1/1 [==============================] - 0s 15ms/step - loss: 0.6633 - accuracy: 0.7368\n",
      "1/1 [==============================] - 0s 29ms/step\n",
      "1/1 [==============================] - 0s 15ms/step - loss: 0.4265 - accuracy: 0.7500\n",
      "1/1 [==============================] - 0s 31ms/step\n",
      "1/1 [==============================] - 0s 15ms/step - loss: 0.6313 - accuracy: 0.6400\n"
     ]
    }
   ],
   "source": [
    "# 분석용 데이터 입력\n",
    "directory_for_ml = '../data/data_for_ml/'\n",
    "logi_accuracy = []\n",
    "sgd_accuracy = []\n",
    "deep_accuracy = []\n",
    "confu_matrix = []\n",
    "for key, val in code.items():\n",
    "    f_name= 'df_{}_{}.pkl'.format(val[1], 'sel')\n",
    "    fname = directory_for_ml + f_name\n",
    "    df = pd.read_pickle(fname)\n",
    "    \n",
    "    data = df.iloc[:, :-5]\n",
    "    target = df.iloc[:, -4]\n",
    "    \n",
    "    # logisticregression 결과 모으기\n",
    "    train_score_list, test_score_list, data_columns, data_coef = find_best_result(data, target)\n",
    "    logi_accuracy.append([f_name, max(train_score_list), max(test_score_list)])\n",
    "    \n",
    "    # SGDregressor 결과 모으기\n",
    "    data_new = data[data_columns] # 선택된 주요 column (feature) 만으로 정확도 계산하기\n",
    "    train_input, test_input, train_target, test_target \\\n",
    "        = train_test_split(data_new, target, random_state=42, test_size=0.2, stratify=target)\n",
    "    \n",
    "    ss = StandardScaler()\n",
    "    ss.fit(train_input)\n",
    "    train_scaled = ss.transform(train_input)\n",
    "    test_scaled = ss.transform(test_input)\n",
    "    \n",
    "    sgd_value = []\n",
    "    for iter in range(5, 50, 1):\n",
    "        sc = SGDClassifier(loss='log', max_iter=iter, random_state=42)\n",
    "        scores = cross_validate(sc, X=train_scaled, y=train_target, n_jobs=-1)\n",
    "        sgd_value.append(scores['test_score'].mean())\n",
    "        \n",
    "    sgd_accuracy.append([f_name, max(sgd_value)])\n",
    "    \n",
    "    # 인공신경망\n",
    "    try :\n",
    "        model = None\n",
    "    except:\n",
    "        pass\n",
    "    \n",
    "    model = model_fn(len(data_new.columns))\n",
    "    model.compile(optimizer='adam', loss='binary_crossentropy', metrics=['accuracy'])\n",
    "\n",
    "    # checkpoint_cb = ModelCheckpoint('best_model.h5', save_best_only=True)\n",
    "    # checkpoint_cb = ModelCheckpoint(filepath='best_model_{epoch:02d}-{val_loss:.2f}-{val_accuracy:.2f}.h5', \\\n",
    "#                                                 monitor='val_accuracy', mode='max', save_best_only=True)\n",
    "    checkpoint_cb = ModelCheckpoint(filepath='best_model.h5', save_best_only=True)\n",
    "# earlystopping_cb = EarlyStopping(patience=100, monitor='val_accuracy', mode='max', restore_best_weights=True)\n",
    "    earlystopping_cb = EarlyStopping(patience=100, monitor='val_loss', mode='min', restore_best_weights=True)\n",
    "    \n",
    "    history = model.fit(train_scaled, train_target, epochs=2000, verbose=0,\n",
    "                        callbacks=[checkpoint_cb, earlystopping_cb],\n",
    "                        validation_data=(test_scaled, test_target))\n",
    "    \n",
    "    y_predict = model.predict(np.array(test_scaled))\n",
    "    y_predict_list = [1 if i > 0.5 else 0 for i in y_predict[:, 0]]\n",
    "    \n",
    "# 정밀도 : 양성으로 예측된 것(TP+FP) 중 얼마나 많은 샘플이 진짜 양성(TP)인지 측정\n",
    "#     precision_score(test_target, y_predict_list)  # 정밀도, 입력값의 순서 중요힘. (실제값, 예측값)\n",
    "    \n",
    "#     precision_score(test_target, y_predict_list)  # 정밀도, 입력값의 순서 중요힘. (실제값, 예측값)\n",
    "#     recall_score(test_target, y_predict_list)  # 재현율, 입력값의 순서 중요힘. (실제값, 예측값)\n",
    "#     f1_score(test_target, y_predict_list)\n",
    "#     roc_auc_score(test_target, y_predict_list)  \n",
    "    \n",
    "    deep_accuracy.append([f_name, model.evaluate(test_scaled, test_target),\n",
    "                          precision_score(test_target, y_predict_list),\n",
    "                          precision_score(test_target, y_predict_list),\n",
    "                          recall_score(test_target, y_predict_list),\n",
    "                          f1_score(test_target, y_predict_list),\n",
    "                          roc_auc_score(test_target, y_predict_list)  \n",
    "                         ]) \n",
    "    \n",
    "    confu_matrix.append([f_name, confusion_matrix(test_target, y_predict_list)])\n"
   ]
  },
  {
   "cell_type": "code",
   "execution_count": 9,
   "metadata": {},
   "outputs": [
    {
     "data": {
      "text/plain": [
       "array([[8, 5],\n",
       "       [4, 8]], dtype=int64)"
      ]
     },
     "execution_count": 9,
     "metadata": {},
     "output_type": "execute_result"
    }
   ],
   "source": [
    "confusion_matrix(test_target, y_predict_list)"
   ]
  },
  {
   "cell_type": "code",
   "execution_count": 10,
   "metadata": {},
   "outputs": [
    {
     "data": {
      "text/plain": [
       "[['df_sec_sel.pkl', 0.8778625954198473, 0.9090909090909091],\n",
       " ['df_lgenergy_sel.pkl', 0.8, 0.6451612903225806],\n",
       " ['df_skhinix_sel.pkl', 0.8984375, 0.84375],\n",
       " ['df_ssbio_sel.pkl', 0.8272727272727273, 0.7142857142857143],\n",
       " ['df_sdi_sel.pkl', 0.8582677165354331, 0.65625],\n",
       " ['df_lgchemical_sel.pkl', 0.8916666666666667, 0.8333333333333334],\n",
       " ['df_secpre_sel.pkl', 1.0, 0.8],\n",
       " ['df_hyunmotor_sel.pkl', 0.8166666666666667, 0.7],\n",
       " ['df_naver_sel.pkl', 0.940677966101695, 0.8333333333333334],\n",
       " ['df_kia_sel.pkl', 0.8333333333333334, 0.7407407407407407],\n",
       " ['df_kakao_sel.pkl', 0.9137931034482759, 0.7586206896551724],\n",
       " ['df_poscoholding_sel.pkl', 0.8333333333333334, 0.7741935483870968],\n",
       " ['df_kbbank_sel.pkl', 0.8125, 0.76],\n",
       " ['df_sscnt_sel.pkl', 0.9302325581395349, 0.7727272727272727],\n",
       " ['df_celltrion_sel.pkl', 0.8125, 0.8],\n",
       " ['df_mobis_sel.pkl', 0.9230769230769231, 0.782608695652174],\n",
       " ['df_shgroup_sel.pkl', 0.8837209302325582, 0.6818181818181818],\n",
       " ['df_lgelec_sel.pkl', 0.898989898989899, 0.72],\n",
       " ['df_poscochemical_sel.pkl', 0.8666666666666667, 0.7368421052631579],\n",
       " ['df_skinnovation_sel.pkl', 0.8148148148148148, 0.75],\n",
       " ['df_ktng_sel.pkl', 0.7835051546391752, 0.76]]"
      ]
     },
     "execution_count": 10,
     "metadata": {},
     "output_type": "execute_result"
    }
   ],
   "source": [
    "logi_accuracy"
   ]
  },
  {
   "cell_type": "code",
   "execution_count": 11,
   "metadata": {},
   "outputs": [
    {
     "data": {
      "text/plain": [
       "[['df_sec_sel.pkl', 0.754985754985755],\n",
       " ['df_lgenergy_sel.pkl', 0.625],\n",
       " ['df_skhinix_sel.pkl', 0.7504615384615384],\n",
       " ['df_ssbio_sel.pkl', 0.7],\n",
       " ['df_sdi_sel.pkl', 0.7396923076923076],\n",
       " ['df_lgchemical_sel.pkl', 0.7333333333333333],\n",
       " ['df_secpre_sel.pkl', 0.8964285714285716],\n",
       " ['df_hyunmotor_sel.pkl', 0.7166666666666667],\n",
       " ['df_naver_sel.pkl', 0.7967391304347825],\n",
       " ['df_kia_sel.pkl', 0.7415584415584415],\n",
       " ['df_kakao_sel.pkl', 0.7594202898550725],\n",
       " ['df_poscoholding_sel.pkl', 0.6833333333333333],\n",
       " ['df_kbbank_sel.pkl', 0.6757894736842105],\n",
       " ['df_sscnt_sel.pkl', 0.7320261437908497],\n",
       " ['df_celltrion_sel.pkl', 0.55],\n",
       " ['df_mobis_sel.pkl', 0.7029239766081872],\n",
       " ['df_shgroup_sel.pkl', 0.6509803921568627],\n",
       " ['df_lgelec_sel.pkl', 0.7078947368421054],\n",
       " ['df_poscochemical_sel.pkl', 0.6399999999999999],\n",
       " ['df_skinnovation_sel.pkl', 0.6666666666666667],\n",
       " ['df_ktng_sel.pkl', 0.5878947368421052]]"
      ]
     },
     "execution_count": 11,
     "metadata": {},
     "output_type": "execute_result"
    }
   ],
   "source": [
    "sgd_accuracy"
   ]
  },
  {
   "cell_type": "code",
   "execution_count": 12,
   "metadata": {},
   "outputs": [
    {
     "data": {
      "text/plain": [
       "[['df_sec_sel.pkl',\n",
       "  [0.33678552508354187, 0.9090909361839294],\n",
       "  0.8823529411764706,\n",
       "  0.8823529411764706,\n",
       "  0.9375,\n",
       "  0.9090909090909091,\n",
       "  0.9099264705882353],\n",
       " ['df_lgenergy_sel.pkl',\n",
       "  [0.6701975464820862, 0.6451612710952759],\n",
       "  0.6875,\n",
       "  0.6875,\n",
       "  0.6470588235294118,\n",
       "  0.6666666666666667,\n",
       "  0.6449579831932772],\n",
       " ['df_skhinix_sel.pkl',\n",
       "  [0.3298147916793823, 0.84375],\n",
       "  0.8461538461538461,\n",
       "  0.8461538461538461,\n",
       "  0.7857142857142857,\n",
       "  0.8148148148148148,\n",
       "  0.8373015873015871],\n",
       " ['df_ssbio_sel.pkl',\n",
       "  [0.6280768513679504, 0.6785714030265808],\n",
       "  0.7,\n",
       "  0.7,\n",
       "  0.5384615384615384,\n",
       "  0.608695652173913,\n",
       "  0.6692307692307693],\n",
       " ['df_sdi_sel.pkl',\n",
       "  [0.6762300729751587, 0.59375],\n",
       "  0.5714285714285714,\n",
       "  0.5714285714285714,\n",
       "  0.75,\n",
       "  0.6486486486486486,\n",
       "  0.59375],\n",
       " ['df_lgchemical_sel.pkl',\n",
       "  [0.5036324858665466, 0.7333333492279053],\n",
       "  0.6470588235294118,\n",
       "  0.6470588235294118,\n",
       "  0.8461538461538461,\n",
       "  0.7333333333333334,\n",
       "  0.746606334841629],\n",
       " ['df_secpre_sel.pkl',\n",
       "  [0.5195909142494202, 0.699999988079071],\n",
       "  0.6666666666666666,\n",
       "  0.6666666666666666,\n",
       "  0.5,\n",
       "  0.5714285714285715,\n",
       "  0.6666666666666666],\n",
       " ['df_hyunmotor_sel.pkl',\n",
       "  [0.6359509229660034, 0.6000000238418579],\n",
       "  0.5833333333333334,\n",
       "  0.5833333333333334,\n",
       "  0.5,\n",
       "  0.5384615384615384,\n",
       "  0.59375],\n",
       " ['df_naver_sel.pkl',\n",
       "  [0.4450737237930298, 0.800000011920929],\n",
       "  0.8181818181818182,\n",
       "  0.8181818181818182,\n",
       "  0.6923076923076923,\n",
       "  0.7500000000000001,\n",
       "  0.7873303167420814],\n",
       " ['df_kia_sel.pkl',\n",
       "  [0.6088855266571045, 0.7407407164573669],\n",
       "  0.6666666666666666,\n",
       "  0.6666666666666666,\n",
       "  0.9230769230769231,\n",
       "  0.7741935483870968,\n",
       "  0.7472527472527472],\n",
       " ['df_kakao_sel.pkl',\n",
       "  [0.5868862867355347, 0.6896551847457886],\n",
       "  0.6363636363636364,\n",
       "  0.6363636363636364,\n",
       "  0.5833333333333334,\n",
       "  0.6086956521739131,\n",
       "  0.6740196078431373],\n",
       " ['df_poscoholding_sel.pkl',\n",
       "  [0.4564172029495239, 0.7419354915618896],\n",
       "  0.6875,\n",
       "  0.6875,\n",
       "  0.7857142857142857,\n",
       "  0.7333333333333334,\n",
       "  0.745798319327731],\n",
       " ['df_kbbank_sel.pkl',\n",
       "  [0.5310803651809692, 0.7599999904632568],\n",
       "  0.75,\n",
       "  0.75,\n",
       "  0.75,\n",
       "  0.75,\n",
       "  0.7596153846153846],\n",
       " ['df_sscnt_sel.pkl',\n",
       "  [0.5324588418006897, 0.7272727489471436],\n",
       "  0.7777777777777778,\n",
       "  0.7777777777777778,\n",
       "  0.6363636363636364,\n",
       "  0.7000000000000001,\n",
       "  0.7272727272727272],\n",
       " ['df_celltrion_sel.pkl', [0.6527942419052124, 0.5], 0.5, 0.5, 0.5, 0.5, 0.5],\n",
       " ['df_mobis_sel.pkl',\n",
       "  [0.5494682192802429, 0.8260869383811951],\n",
       "  0.8,\n",
       "  0.8,\n",
       "  0.8,\n",
       "  0.8000000000000002,\n",
       "  0.823076923076923],\n",
       " ['df_shgroup_sel.pkl',\n",
       "  [0.6767408847808838, 0.7272727489471436],\n",
       "  0.7272727272727273,\n",
       "  0.7272727272727273,\n",
       "  0.7272727272727273,\n",
       "  0.7272727272727273,\n",
       "  0.7272727272727273],\n",
       " ['df_lgelec_sel.pkl',\n",
       "  [0.6107215285301208, 0.7200000286102295],\n",
       "  0.6666666666666666,\n",
       "  0.6666666666666666,\n",
       "  0.9230769230769231,\n",
       "  0.7741935483870968,\n",
       "  0.7115384615384616],\n",
       " ['df_poscochemical_sel.pkl',\n",
       "  [0.6632774472236633, 0.7368420958518982],\n",
       "  0.6923076923076923,\n",
       "  0.6923076923076923,\n",
       "  0.9,\n",
       "  0.7826086956521738,\n",
       "  0.7277777777777777],\n",
       " ['df_skinnovation_sel.pkl',\n",
       "  [0.42649585008621216, 0.75],\n",
       "  0.6923076923076923,\n",
       "  0.6923076923076923,\n",
       "  0.75,\n",
       "  0.7199999999999999,\n",
       "  0.75],\n",
       " ['df_ktng_sel.pkl',\n",
       "  [0.631343424320221, 0.6399999856948853],\n",
       "  0.6153846153846154,\n",
       "  0.6153846153846154,\n",
       "  0.6666666666666666,\n",
       "  0.64,\n",
       "  0.641025641025641]]"
      ]
     },
     "execution_count": 12,
     "metadata": {},
     "output_type": "execute_result"
    }
   ],
   "source": [
    "deep_accuracy"
   ]
  },
  {
   "cell_type": "markdown",
   "metadata": {},
   "source": [
    "1. 정밀도, f1-score, \n",
    "2. confusion matrix ((1,1), (2,2), 두개가 큰 비중이면 good, (2,1)은 진을 부로 구분, (1,2)는 부를 진으로 결정하는 항목) \"ㄴ\" 형태\n",
    "    (2,2) -> (1,1) -> (2,1)로 확인. (1,2)가 크면 모델 제외\n",
    "    \n",
    "<img src=\"https://raw.githubusercontent.com/fasthill/My-gist/main/data/picture/confusion_matrix.png\" width=\"800\"/> <br>"
   ]
  },
  {
   "cell_type": "markdown",
   "metadata": {},
   "source": [
    "수수료: 주식거래수수료 0.015%. 유관기관수수료 0.0036%, 증권거래세 0.08, 농어촌 특별세 0.15%\n",
    "수수료 : (0.015+0.0036 ) * 2 (사고팔때), 증권거래세 : 0.08 + 0.15 (팔때)\n",
    "전체 지출 금액율: 0.2672%"
   ]
  }
 ],
 "metadata": {
  "colab": {
   "collapsed_sections": [],
   "name": "4-1 로지스틱 회귀.ipynb",
   "provenance": []
  },
  "kernelspec": {
   "display_name": "Python 3 (ipykernel)",
   "language": "python",
   "name": "python3"
  },
  "language_info": {
   "codemirror_mode": {
    "name": "ipython",
    "version": 3
   },
   "file_extension": ".py",
   "mimetype": "text/x-python",
   "name": "python",
   "nbconvert_exporter": "python",
   "pygments_lexer": "ipython3",
   "version": "3.10.7"
  }
 },
 "nbformat": 4,
 "nbformat_minor": 1
}
