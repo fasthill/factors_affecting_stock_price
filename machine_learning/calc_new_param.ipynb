{
 "cells": [
  {
   "cell_type": "code",
   "execution_count": 8,
   "id": "consolidated-professional",
   "metadata": {},
   "outputs": [],
   "source": [
    "import pandas as pd\n",
    "import numpy as np\n",
    "import random"
   ]
  },
  {
   "cell_type": "code",
   "execution_count": 27,
   "id": "8791678a",
   "metadata": {},
   "outputs": [],
   "source": [
    "def make_new_param_int(item, sel):\n",
    "    item = sorted(item)\n",
    "    interval = np.rint((max(item) - min(item))/len(item))\n",
    "    \n",
    "    if interval < 1 :  # 원소값의 10%미만일 경우는 10%로 interval 설정\n",
    "        interval = 1\n",
    "    print(\"****interval*** : \", interval)\n",
    "    loc = item.index(sel) # 선정된 위치에 따라 다음 리스트 구성 기준 차이 \n",
    "    # 가장 큰 쪽의 요소가 선정되었을 경우, sel, [sel+interval/2, sel+interval*2, sel+interval*3]\n",
    "    # 가장 작은 쪽의 요소가 선정되었을 경우, sel-interval*3, sel-interval*2, sel-interval/2]\n",
    "    #              if sel-interval*3 < 0 : [sel*0.25, sel*0.5, sel*0.75]\n",
    "    # 가장 가운데 요소가 선정되었을 경우, 세분화 시킴 [ sel-int*0.5, sel, sel+int*0.5]\n",
    "    print(\"sel\", sel)\n",
    "    if loc == len(item)-1 : #가장 큰 쪽의 요소가 선정\n",
    "        print(\"right\")\n",
    "        new_param = [sel-interval, sel+interval, sel+interval*2, sel+interval*3, sel+interval*4]\n",
    "    elif loc == 0: # 가장 작은 쪽의 요소가 선정\n",
    "        print(\"left\")\n",
    "        if (sel-interval*4) <= 0 :\n",
    "            if sel <= 3:\n",
    "                new_param = [1, 2, 3, 4]\n",
    "            elif sel <= 4:\n",
    "                new_param = [2, 3, 4, 5]\n",
    "            elif sel <= 5:\n",
    "                new_param = [3, 4, 5, 6]\n",
    "            else:\n",
    "                new_param = [sel-interval, sel-interval/2, sel+interval/2, sel+interval]   \n",
    "        else:\n",
    "            new_param = [sel-interval*4, sel-interval*3, sel-interval*2, sel-interval*0.5, sel+interval*0.5]\n",
    "    else:\n",
    "        print(\"center\")\n",
    "        if (sel-interval*4) <= 0 :\n",
    "            if sel <= 3:\n",
    "                new_param = [2, 4]\n",
    "            elif sel <= 4:\n",
    "                new_param = [3, 5]\n",
    "            elif sel <= 5:\n",
    "                new_param = [4, 6]\n",
    "            else: \n",
    "                if interval <= 1 :\n",
    "                    new_param = [sel-interval*2, sel-interval, sel+interval, sel+interval*2]\n",
    "                else  :\n",
    "                    new_param = [sel-interval, sel-interval*0.5, sel+interval*0.5, sel+interval]\n",
    "                    new_param = [sel-interval*0.9, sel-interval*0.5, sel+interval*0.5, sel+interval]\n",
    "        else:\n",
    "            if interval <= 1 :\n",
    "                new_param = [sel-interval*2, sel-interval, sel+interval, sel+interval*2]\n",
    "            else  :\n",
    "                new_param = [sel-interval, sel-interval*0.5, sel+interval*0.5, sel+interval]\n",
    "\n",
    "    \n",
    "    return sorted(np.int32(np.rint(n)))"
   ]
  },
  {
   "cell_type": "code",
   "execution_count": 28,
   "id": "39e1a473",
   "metadata": {},
   "outputs": [
    {
     "name": "stdout",
     "output_type": "stream",
     "text": [
      "**0**  [10, 30, 50, 70]\n",
      "****interval*** :  15.0\n",
      "sel 10\n",
      "left\n",
      "**0** [82, 84, 85, 86, 87]\n",
      "****interval*** :  1.0\n",
      "sel 87\n",
      "right\n",
      "**1** [82, 84, 85, 86, 87]\n",
      "****interval*** :  1.0\n",
      "sel 85\n",
      "center\n",
      "**2** [82, 84, 85, 86, 87]\n",
      "****interval*** :  1.0\n",
      "sel 84\n",
      "center\n",
      "**3** [82, 84, 85, 86, 87]\n",
      "****interval*** :  1.0\n",
      "sel 82\n",
      "left\n",
      "**4** [82, 84, 85, 86, 87]\n",
      "****interval*** :  1.0\n",
      "sel 84\n",
      "center\n",
      "**5** [82, 84, 85, 86, 87]\n",
      "****interval*** :  1.0\n",
      "sel 86\n",
      "center\n",
      "**6** [82, 84, 85, 86, 87]\n",
      "****interval*** :  1.0\n",
      "sel 85\n",
      "center\n",
      "**7** [82, 84, 85, 86, 87]\n",
      "****interval*** :  1.0\n",
      "sel 85\n",
      "center\n",
      "**8** [82, 84, 85, 86, 87]\n",
      "****interval*** :  1.0\n",
      "sel 82\n",
      "left\n",
      "**9** [82, 84, 85, 86, 87]\n",
      "****interval*** :  1.0\n",
      "sel 86\n",
      "center\n",
      "**10** [82, 84, 85, 86, 87]\n",
      "****interval*** :  1.0\n",
      "sel 84\n",
      "center\n",
      "**11** [82, 84, 85, 86, 87]\n",
      "****interval*** :  1.0\n",
      "sel 84\n",
      "center\n",
      "**12** [82, 84, 85, 86, 87]\n",
      "****interval*** :  1.0\n",
      "sel 84\n",
      "center\n",
      "**13** [82, 84, 85, 86, 87]\n",
      "****interval*** :  1.0\n",
      "sel 84\n",
      "center\n",
      "**14** [82, 84, 85, 86, 87]\n",
      "****interval*** :  1.0\n",
      "sel 82\n",
      "left\n",
      "**15** [82, 84, 85, 86, 87]\n",
      "****interval*** :  1.0\n",
      "sel 84\n",
      "center\n",
      "**16** [82, 84, 85, 86, 87]\n",
      "****interval*** :  1.0\n",
      "sel 87\n",
      "right\n",
      "**17** [82, 84, 85, 86, 87]\n",
      "****interval*** :  1.0\n",
      "sel 82\n",
      "left\n",
      "**18** [82, 84, 85, 86, 87]\n",
      "****interval*** :  1.0\n",
      "sel 87\n",
      "right\n",
      "**19** [82, 84, 85, 86, 87]\n"
     ]
    }
   ],
   "source": [
    "item = [5, 10, 20] \n",
    "item = [10, 30, 50, 70]\n",
    "# item = [60, 80, 100, 120]\n",
    "# item = [0.01, 0.02, 0.04, 0.045, 0.05] \n",
    "print(\"**0** \", item)\n",
    "for i in range(20):\n",
    "    sel = random.choice(item)\n",
    "    n = make_new_param_int(item, sel)\n",
    "    print(f'**{i}** {n}')\n",
    "    item = n"
   ]
  },
  {
   "cell_type": "code",
   "execution_count": null,
   "id": "e990cacf",
   "metadata": {},
   "outputs": [],
   "source": [
    "### 정수와 소수별로 나누어서 작업해야 함."
   ]
  },
  {
   "cell_type": "code",
   "execution_count": 108,
   "id": "1ae36bfe",
   "metadata": {},
   "outputs": [],
   "source": [
    "def decimal_p (x):\n",
    "    if (x//10) <= 9:\n",
    "        cut_d = 0\n",
    "    elif (x//100) <= 9:\n",
    "        cut_d = 1\n",
    "    elif (x//1000) <= 9:\n",
    "        cut_d = 2\n",
    "    else:\n",
    "        cut_d = 3\n",
    "    return cut_d"
   ]
  },
  {
   "cell_type": "code",
   "execution_count": 109,
   "id": "14ae2b92",
   "metadata": {},
   "outputs": [
    {
     "data": {
      "text/plain": [
       "0"
      ]
     },
     "execution_count": 109,
     "metadata": {},
     "output_type": "execute_result"
    }
   ],
   "source": [
    "decimal_p(19)"
   ]
  },
  {
   "cell_type": "code",
   "execution_count": 5,
   "id": "41f7c965",
   "metadata": {},
   "outputs": [
    {
     "data": {
      "text/plain": [
       "1.0"
      ]
     },
     "execution_count": 5,
     "metadata": {},
     "output_type": "execute_result"
    }
   ],
   "source": [
    "np.rint(0.6)"
   ]
  },
  {
   "cell_type": "code",
   "execution_count": 2,
   "id": "90de706c",
   "metadata": {},
   "outputs": [],
   "source": [
    "import numpy as np"
   ]
  },
  {
   "cell_type": "code",
   "execution_count": 15,
   "id": "0b080186",
   "metadata": {},
   "outputs": [
    {
     "data": {
      "text/plain": [
       "[82.0, 84.0, 85.0, 86.0, 87.0]"
      ]
     },
     "execution_count": 15,
     "metadata": {},
     "output_type": "execute_result"
    }
   ],
   "source": [
    "n"
   ]
  },
  {
   "cell_type": "code",
   "execution_count": 17,
   "id": "1ce93882",
   "metadata": {},
   "outputs": [
    {
     "data": {
      "text/plain": [
       "array([82, 84, 85, 86, 87])"
      ]
     },
     "execution_count": 17,
     "metadata": {},
     "output_type": "execute_result"
    }
   ],
   "source": [
    "np.int32(np.rint(n))"
   ]
  },
  {
   "cell_type": "code",
   "execution_count": null,
   "id": "bf74e275",
   "metadata": {},
   "outputs": [],
   "source": []
  },
  {
   "cell_type": "code",
   "execution_count": 5,
   "id": "5f7f57be",
   "metadata": {},
   "outputs": [],
   "source": [
    "def make_new_param_float(item, sel, int_flo):\n",
    "    item = sorted(item)\n",
    "    interval = (max(item) - min(item))/len(item)\n",
    "    if (interval < 0.00001):\n",
    "        cut_r = 6\n",
    "    elif (interval < 0.0001):\n",
    "        cut_r = 5\n",
    "    elif (interval < 0.001):\n",
    "        cut_r = 4\n",
    "    elif (interval < 0.01):\n",
    "        cut_r = 3\n",
    "    elif (interval < 0.1):\n",
    "        cut_r = 2\n",
    "    elif (interval < 1):\n",
    "        cut_r = 1\n",
    "    else:\n",
    "        cut_r = 0\n",
    "    \n",
    "    interval = round(((max(item) - min(item))/len(item)), cut_r)\n",
    "    if interval < sel*0.1 :  # 원소값의 10%미만일 경우는 10%로 interval 설정\n",
    "        interval = sel * 0.1\n",
    "    loc = item.index(sel) # 선정된 위치에 따라 다음 리스트 구성 기준 차이 \n",
    "    # 가장 큰 쪽의 요소가 선정되었을 경우, sel, [sel+interval/2, sel+interval*2, sel+interval*3]\n",
    "    # 가장 작은 쪽의 요소가 선정되었을 경우, sel-interval*3, sel-interval*2, sel-interval/2]\n",
    "    #              if sel-interval*3 < 0 : [sel*0.25, sel*0.5, sel*0.75]\n",
    "    # 가장 가운데 요소가 선정되었을 경우, 세분화 시킴 [ sel-int*0.5, sel, sel+int*0.5]\n",
    "    print(\"sel\", sel)\n",
    "    if loc == len(item)-1 : #가장 큰 쪽의 요소가 선정\n",
    "        new_param = [sel-interval*0.5, sel+interval*0.5, sel+interval*2, sel+interval*3, sel+interval*4]\n",
    "    elif loc == 0: # 가장 작은 쪽의 요소가 선정\n",
    "        if (sel-interval*4) <= 0 :\n",
    "            new_param = [sel*0.2, sel*0.4, sel*0.6, sel*0.8, sel*1.2]\n",
    "        else:\n",
    "            new_param = [sel-interval*4, sel-interval*3, sel-interval*2, sel-interval*0.5, sel+interval*0.5]\n",
    "    else:\n",
    "        if (sel-interval) <= 0 :\n",
    "            new_param = [sel-interval*0.9, sel-interval*0.5, sel+interval*0.5, sel+interval]\n",
    "        else:\n",
    "            new_param = [sel-interval, sel-interval*0.5, sel+interval*0.5, sel+interval]\n",
    "\n",
    "    if int_flo == 0: # 0: integer, 1: flaot\n",
    "        setp = np.int32(np.rint(new_param))\n",
    "        new_list_nonzero = [i for i in list(set(setp)) if i != 0] # 0이 있으면 삭제\n",
    "        if len(new_list_nonzero) <= 2 :\n",
    "            new_list_nonzero = [1, 2, 3, 4]\n",
    "        return sorted(new_list_nonzero)\n",
    "        \n",
    "    return list(np.round(new_param, 5))\n"
   ]
  }
 ],
 "metadata": {
  "kernelspec": {
   "display_name": "Python 3 (ipykernel)",
   "language": "python",
   "name": "python3"
  },
  "language_info": {
   "codemirror_mode": {
    "name": "ipython",
    "version": 3
   },
   "file_extension": ".py",
   "mimetype": "text/x-python",
   "name": "python",
   "nbconvert_exporter": "python",
   "pygments_lexer": "ipython3",
   "version": "3.9.1"
  }
 },
 "nbformat": 4,
 "nbformat_minor": 5
}
