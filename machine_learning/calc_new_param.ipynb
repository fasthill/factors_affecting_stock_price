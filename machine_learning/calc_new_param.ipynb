{
 "cells": [
  {
   "cell_type": "code",
   "execution_count": 4,
   "id": "consolidated-professional",
   "metadata": {},
   "outputs": [],
   "source": [
    "import pandas as pd\n",
    "import numpy as np\n",
    "import random"
   ]
  },
  {
   "cell_type": "code",
   "execution_count": 5,
   "id": "5f7f57be",
   "metadata": {},
   "outputs": [],
   "source": [
    "def make_new_param(item, sel, int_flo):\n",
    "    item = sorted(item)\n",
    "    interval = (max(item) - min(item))/len(item)\n",
    "    if (interval < 0.00001):\n",
    "        cut_r = 6\n",
    "    elif (interval < 0.0001):\n",
    "        cut_r = 5\n",
    "    elif (interval < 0.001):\n",
    "        cut_r = 4\n",
    "    elif (interval < 0.01):\n",
    "        cut_r = 3\n",
    "    elif (interval < 0.1):\n",
    "        cut_r = 2\n",
    "    elif (interval < 1):\n",
    "        cut_r = 1\n",
    "    else:\n",
    "        cut_r = 0\n",
    "    \n",
    "    interval = round(((max(item) - min(item))/len(item)), cut_r)\n",
    "    if interval < sel*0.1 :  # 원소값의 10%미만일 경우는 10%로 interval 설정\n",
    "        interval = sel * 0.1\n",
    "    loc = item.index(sel) # 선정된 위치에 따라 다음 리스트 구성 기준 차이 \n",
    "    # 가장 큰 쪽의 요소가 선정되었을 경우, sel, [sel+interval/2, sel+interval*2, sel+interval*3]\n",
    "    # 가장 작은 쪽의 요소가 선정되었을 경우, sel-interval*3, sel-interval*2, sel-interval/2]\n",
    "    #              if sel-interval*3 < 0 : [sel*0.25, sel*0.5, sel*0.75]\n",
    "    # 가장 가운데 요소가 선정되었을 경우, 세분화 시킴 [ sel-int*0.5, sel, sel+int*0.5]\n",
    "    print(\"sel\", sel)\n",
    "    if loc == len(item)-1 : #가장 큰 쪽의 요소가 선정\n",
    "        new_param = [sel-interval*0.5, sel+interval*0.5, sel+interval*2, sel+interval*3, sel+interval*4]\n",
    "    elif loc == 0: # 가장 작은 쪽의 요소가 선정\n",
    "        if (sel-interval*4) <= 0 :\n",
    "            new_param = [sel*0.2, sel*0.4, sel*0.6, sel*0.8, sel*1.2]\n",
    "        else:\n",
    "            new_param = [sel-interval*4, sel-interval*3, sel-interval*2, sel-interval*0.5, sel+interval*0.5]\n",
    "    else:\n",
    "        if (sel-interval) <= 0 :\n",
    "            new_param = [sel-interval*0.9, sel-interval*0.5, sel+interval*0.5, sel+interval]\n",
    "        else:\n",
    "            new_param = [sel-interval, sel-interval*0.5, sel+interval*0.5, sel+interval]\n",
    "\n",
    "    if int_flo == 0: # 0: integer, 1: flaot\n",
    "        setp = np.int32(np.rint(new_param))\n",
    "        new_list_nonzero = [i for i in list(set(setp)) if i != 0] # 0이 있으면 삭제\n",
    "        if len(new_list_nonzero) <= 2 :\n",
    "            new_list_nonzero = [1, 2, 3, 4]\n",
    "        return sorted(new_list_nonzero)\n",
    "        \n",
    "    return list(np.round(new_param, 5))\n"
   ]
  },
  {
   "cell_type": "code",
   "execution_count": 18,
   "id": "39e1a473",
   "metadata": {},
   "outputs": [
    {
     "name": "stdout",
     "output_type": "stream",
     "text": [
      "**0**  [10, 30, 50, 70]\n",
      "sel 50\n",
      "**0** [35, 42, 58, 65]\n",
      "sel 42\n",
      "**1** [34, 38, 46, 50]\n",
      "sel 34\n",
      "**2** [18, 22, 26, 32, 36]\n",
      "sel 26\n",
      "**3** [22, 24, 28, 30]\n",
      "sel 24\n",
      "**4** [22, 23, 25, 26]\n",
      "sel 25\n",
      "**5** [22, 24, 26, 28]\n",
      "sel 24\n",
      "**6** [22, 23, 25, 26]\n",
      "sel 22\n",
      "**7** [13, 15, 18, 21, 23]\n",
      "sel 13\n",
      "**8** [5, 7, 9, 12, 14]\n",
      "sel 12\n",
      "**9** [10, 11, 13, 14]\n",
      "sel 11\n",
      "**10** [1, 2, 3, 4]\n",
      "sel 4\n",
      "**11** [4, 6, 7]\n",
      "sel 6\n",
      "**12** [5, 6, 7]\n",
      "sel 7\n",
      "**13** [7, 8, 9, 10]\n",
      "sel 8\n",
      "**14** [7, 8, 9]\n",
      "sel 9\n",
      "**15** [9, 11, 12, 13]\n",
      "sel 9\n",
      "**16** [5, 6, 7, 8, 10]\n",
      "sel 10\n",
      "**17** [10, 12, 13, 14]\n",
      "sel 13\n",
      "**18** [1, 2, 3, 4]\n",
      "sel 1\n",
      "**19** [1, 2, 3, 4]\n"
     ]
    }
   ],
   "source": [
    "item = [5, 10, 20] \n",
    "item = [10, 30, 50, 70]\n",
    "# item = [60, 80, 100, 120]\n",
    "# item = [0.01, 0.02, 0.04, 0.045, 0.05] \n",
    "print(\"**0** \", item)\n",
    "for i in range(20):\n",
    "    sel = random.choice(item)\n",
    "    n = make_new_param(item, sel, 0)\n",
    "    print(f'**{i}** {n}')\n",
    "    item = n"
   ]
  },
  {
   "cell_type": "code",
   "execution_count": 108,
   "id": "1ae36bfe",
   "metadata": {},
   "outputs": [],
   "source": [
    "def decimal_p (x):\n",
    "    if (x//10) <= 9:\n",
    "        cut_d = 0\n",
    "    elif (x//100) <= 9:\n",
    "        cut_d = 1\n",
    "    elif (x//1000) <= 9:\n",
    "        cut_d = 2\n",
    "    else:\n",
    "        cut_d = 3\n",
    "    return cut_d"
   ]
  },
  {
   "cell_type": "code",
   "execution_count": 109,
   "id": "14ae2b92",
   "metadata": {},
   "outputs": [
    {
     "data": {
      "text/plain": [
       "0"
      ]
     },
     "execution_count": 109,
     "metadata": {},
     "output_type": "execute_result"
    }
   ],
   "source": [
    "decimal_p(19)"
   ]
  },
  {
   "cell_type": "code",
   "execution_count": null,
   "id": "e990cacf",
   "metadata": {},
   "outputs": [],
   "source": []
  }
 ],
 "metadata": {
  "kernelspec": {
   "display_name": "Python 3 (ipykernel)",
   "language": "python",
   "name": "python3"
  },
  "language_info": {
   "codemirror_mode": {
    "name": "ipython",
    "version": 3
   },
   "file_extension": ".py",
   "mimetype": "text/x-python",
   "name": "python",
   "nbconvert_exporter": "python",
   "pygments_lexer": "ipython3",
   "version": "3.10.7"
  }
 },
 "nbformat": 4,
 "nbformat_minor": 5
}
