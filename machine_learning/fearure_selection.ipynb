{
 "cells": [
  {
   "cell_type": "markdown",
   "metadata": {
    "colab_type": "text",
    "id": "view-in-github"
   },
   "source": [
    "<a href=\"https://colab.research.google.com/github/fasthill/ML-DL-study-alone/blob/main/5-1%20%EA%B2%B0%EC%A0%95%20%ED%8A%B8%EB%A6%AC.ipynb\" target=\"_parent\"><img src=\"https://colab.research.google.com/assets/colab-badge.svg\" alt=\"Open In Colab\"/></a>"
   ]
  },
  {
   "cell_type": "markdown",
   "metadata": {
    "id": "5uA_6TRHEMHV"
   },
   "source": [
    "# Feature selection을 위한 결정 트리"
   ]
  },
  {
   "cell_type": "markdown",
   "metadata": {
    "id": "26KAIfzEEMHc"
   },
   "source": [
    "<table align=\"left\">\n",
    "  <td>\n",
    "    <a target=\"_blank\" href=\"https://colab.research.google.com/github/rickiepark/hg-mldl/blob/master/5-1.ipynb\"><img src=\"https://www.tensorflow.org/images/colab_logo_32px.png\" />구글 코랩에서 실행하기</a>\n",
    "  </td>\n",
    "</table>"
   ]
  },
  {
   "cell_type": "markdown",
   "metadata": {
    "id": "gdF762MWpLDx"
   },
   "source": [
    "## 결정트리를 사용하여 feature selection하기\n",
    "### feature_importances_ 이용"
   ]
  },
  {
   "cell_type": "code",
   "execution_count": 1,
   "metadata": {
    "id": "rIXeXBVTfZrS"
   },
   "outputs": [],
   "source": [
    "import numpy as np\n",
    "import pandas as pd\n",
    "import matplotlib.pyplot as plt\n",
    "\n",
    "from sklearn.preprocessing import StandardScaler\n",
    "from sklearn.linear_model import LogisticRegression\n",
    "from sklearn.model_selection import train_test_split\n",
    "from sklearn.tree import DecisionTreeClassifier, plot_tree"
   ]
  },
  {
   "cell_type": "code",
   "execution_count": 2,
   "metadata": {},
   "outputs": [],
   "source": [
    "# 분석용 데이터 입력\n",
    "stock_name = 'sec'\n",
    "directory_for_ml = '../data/data_for_ml/'\n",
    "fname = f'df_{stock_name}_sel.pkl'\n",
    "f_name = directory_for_ml + fname\n",
    "df = pd.read_pickle(f_name)"
   ]
  },
  {
   "cell_type": "code",
   "execution_count": 3,
   "metadata": {},
   "outputs": [],
   "source": [
    "data = df.iloc[:240, :-5]\n",
    "target = df.iloc[:240, -4]"
   ]
  },
  {
   "cell_type": "code",
   "execution_count": null,
   "metadata": {},
   "outputs": [],
   "source": [
    "plt_title2 = 'close_cr_5'"
   ]
  },
  {
   "cell_type": "code",
   "execution_count": 9,
   "metadata": {
    "colab": {
     "base_uri": "https://localhost:8080/"
    },
    "id": "5XM1tfbpfaO3",
    "outputId": "a92a2b8a-c016-461d-dee7-63653d30fecc"
   },
   "outputs": [
    {
     "name": "stdout",
     "output_type": "stream",
     "text": [
      "<class 'pandas.core.series.Series'>\n",
      "DatetimeIndex: 240 entries, 2022-01-11 to 2023-01-18\n",
      "Series name: cr_05\n",
      "Non-Null Count  Dtype\n",
      "--------------  -----\n",
      "240 non-null    int64\n",
      "dtypes: int64(1)\n",
      "memory usage: 3.8 KB\n"
     ]
    }
   ],
   "source": [
    "target.info()"
   ]
  },
  {
   "cell_type": "code",
   "execution_count": 10,
   "metadata": {
    "colab": {
     "base_uri": "https://localhost:8080/",
     "height": 300
    },
    "id": "TX4V7csvfaSI",
    "outputId": "f6fe54eb-52b0-4b72-dc67-bfb12b61912a"
   },
   "outputs": [
    {
     "data": {
      "text/html": [
       "<div>\n",
       "<style scoped>\n",
       "    .dataframe tbody tr th:only-of-type {\n",
       "        vertical-align: middle;\n",
       "    }\n",
       "\n",
       "    .dataframe tbody tr th {\n",
       "        vertical-align: top;\n",
       "    }\n",
       "\n",
       "    .dataframe thead th {\n",
       "        text-align: right;\n",
       "    }\n",
       "</style>\n",
       "<table border=\"1\" class=\"dataframe\">\n",
       "  <thead>\n",
       "    <tr style=\"text-align: right;\">\n",
       "      <th></th>\n",
       "      <th>retail</th>\n",
       "      <th>foreigner</th>\n",
       "      <th>institution</th>\n",
       "      <th>financial</th>\n",
       "      <th>invtrust</th>\n",
       "      <th>pension</th>\n",
       "      <th>privequity</th>\n",
       "      <th>bank</th>\n",
       "      <th>insurance</th>\n",
       "      <th>financeetc</th>\n",
       "      <th>...</th>\n",
       "      <th>kospi_cr</th>\n",
       "      <th>krw_cr</th>\n",
       "      <th>sox_cr</th>\n",
       "      <th>vix_cr</th>\n",
       "      <th>wti_cr</th>\n",
       "      <th>open</th>\n",
       "      <th>high</th>\n",
       "      <th>low</th>\n",
       "      <th>vol</th>\n",
       "      <th>weekday</th>\n",
       "    </tr>\n",
       "  </thead>\n",
       "  <tbody>\n",
       "    <tr>\n",
       "      <th>count</th>\n",
       "      <td>240.000000</td>\n",
       "      <td>240.000000</td>\n",
       "      <td>240.000000</td>\n",
       "      <td>240.000000</td>\n",
       "      <td>240.000000</td>\n",
       "      <td>240.000000</td>\n",
       "      <td>240.000000</td>\n",
       "      <td>240.000000</td>\n",
       "      <td>240.000000</td>\n",
       "      <td>240.000000</td>\n",
       "      <td>...</td>\n",
       "      <td>240.000000</td>\n",
       "      <td>240.000000</td>\n",
       "      <td>240.000000</td>\n",
       "      <td>240.000000</td>\n",
       "      <td>240.000000</td>\n",
       "      <td>240.000000</td>\n",
       "      <td>240.000000</td>\n",
       "      <td>240.000000</td>\n",
       "      <td>240.000000</td>\n",
       "      <td>240.000000</td>\n",
       "    </tr>\n",
       "    <tr>\n",
       "      <th>mean</th>\n",
       "      <td>-4.088960</td>\n",
       "      <td>-1.643905</td>\n",
       "      <td>-9.204509</td>\n",
       "      <td>-1.979598</td>\n",
       "      <td>-0.879832</td>\n",
       "      <td>1.437446</td>\n",
       "      <td>2.027869</td>\n",
       "      <td>16.771095</td>\n",
       "      <td>-1.952861</td>\n",
       "      <td>-3.110280</td>\n",
       "      <td>...</td>\n",
       "      <td>-0.085000</td>\n",
       "      <td>0.030167</td>\n",
       "      <td>-0.103417</td>\n",
       "      <td>0.102750</td>\n",
       "      <td>-0.030792</td>\n",
       "      <td>-0.000795</td>\n",
       "      <td>-0.000929</td>\n",
       "      <td>-0.000828</td>\n",
       "      <td>0.051242</td>\n",
       "      <td>2.083333</td>\n",
       "    </tr>\n",
       "    <tr>\n",
       "      <th>std</th>\n",
       "      <td>50.203231</td>\n",
       "      <td>16.689300</td>\n",
       "      <td>162.906738</td>\n",
       "      <td>22.548362</td>\n",
       "      <td>20.665609</td>\n",
       "      <td>25.553940</td>\n",
       "      <td>40.098488</td>\n",
       "      <td>298.445621</td>\n",
       "      <td>21.989742</td>\n",
       "      <td>26.006436</td>\n",
       "      <td>...</td>\n",
       "      <td>1.167759</td>\n",
       "      <td>0.661384</td>\n",
       "      <td>2.718119</td>\n",
       "      <td>6.653607</td>\n",
       "      <td>2.972412</td>\n",
       "      <td>0.015210</td>\n",
       "      <td>0.012852</td>\n",
       "      <td>0.013261</td>\n",
       "      <td>0.352367</td>\n",
       "      <td>1.375721</td>\n",
       "    </tr>\n",
       "    <tr>\n",
       "      <th>min</th>\n",
       "      <td>-759.655574</td>\n",
       "      <td>-170.161290</td>\n",
       "      <td>-2475.512605</td>\n",
       "      <td>-321.409524</td>\n",
       "      <td>-121.291667</td>\n",
       "      <td>-105.085714</td>\n",
       "      <td>-55.940789</td>\n",
       "      <td>-789.666667</td>\n",
       "      <td>-183.303030</td>\n",
       "      <td>-249.000000</td>\n",
       "      <td>...</td>\n",
       "      <td>-3.520000</td>\n",
       "      <td>-1.790000</td>\n",
       "      <td>-6.240000</td>\n",
       "      <td>-13.090000</td>\n",
       "      <td>-9.870000</td>\n",
       "      <td>-0.037139</td>\n",
       "      <td>-0.032841</td>\n",
       "      <td>-0.030498</td>\n",
       "      <td>-0.655365</td>\n",
       "      <td>0.000000</td>\n",
       "    </tr>\n",
       "    <tr>\n",
       "      <th>25%</th>\n",
       "      <td>-1.599927</td>\n",
       "      <td>-1.148336</td>\n",
       "      <td>-1.798263</td>\n",
       "      <td>-1.944746</td>\n",
       "      <td>-1.439958</td>\n",
       "      <td>-1.366766</td>\n",
       "      <td>-1.484406</td>\n",
       "      <td>-2.020421</td>\n",
       "      <td>-1.640175</td>\n",
       "      <td>-1.697913</td>\n",
       "      <td>...</td>\n",
       "      <td>-0.872500</td>\n",
       "      <td>-0.402500</td>\n",
       "      <td>-2.082500</td>\n",
       "      <td>-4.237500</td>\n",
       "      <td>-1.970000</td>\n",
       "      <td>-0.010528</td>\n",
       "      <td>-0.010114</td>\n",
       "      <td>-0.010280</td>\n",
       "      <td>-0.177909</td>\n",
       "      <td>1.000000</td>\n",
       "    </tr>\n",
       "    <tr>\n",
       "      <th>50%</th>\n",
       "      <td>-0.747867</td>\n",
       "      <td>-0.494372</td>\n",
       "      <td>-0.867549</td>\n",
       "      <td>-0.911871</td>\n",
       "      <td>-0.729971</td>\n",
       "      <td>-0.439956</td>\n",
       "      <td>-0.711318</td>\n",
       "      <td>-1.000000</td>\n",
       "      <td>-0.774582</td>\n",
       "      <td>-1.000000</td>\n",
       "      <td>...</td>\n",
       "      <td>-0.010000</td>\n",
       "      <td>0.090000</td>\n",
       "      <td>-0.195000</td>\n",
       "      <td>-1.310000</td>\n",
       "      <td>0.245000</td>\n",
       "      <td>-0.002812</td>\n",
       "      <td>-0.002231</td>\n",
       "      <td>-0.001576</td>\n",
       "      <td>-0.010794</td>\n",
       "      <td>2.000000</td>\n",
       "    </tr>\n",
       "    <tr>\n",
       "      <th>75%</th>\n",
       "      <td>0.169460</td>\n",
       "      <td>0.440255</td>\n",
       "      <td>0.109888</td>\n",
       "      <td>0.041446</td>\n",
       "      <td>0.306093</td>\n",
       "      <td>0.579879</td>\n",
       "      <td>0.260288</td>\n",
       "      <td>-0.243750</td>\n",
       "      <td>0.087066</td>\n",
       "      <td>0.018983</td>\n",
       "      <td>...</td>\n",
       "      <td>0.705000</td>\n",
       "      <td>0.472500</td>\n",
       "      <td>1.800000</td>\n",
       "      <td>3.442500</td>\n",
       "      <td>2.002500</td>\n",
       "      <td>0.007499</td>\n",
       "      <td>0.006612</td>\n",
       "      <td>0.006766</td>\n",
       "      <td>0.199856</td>\n",
       "      <td>3.000000</td>\n",
       "    </tr>\n",
       "    <tr>\n",
       "      <th>max</th>\n",
       "      <td>97.771324</td>\n",
       "      <td>84.403557</td>\n",
       "      <td>472.778281</td>\n",
       "      <td>108.223973</td>\n",
       "      <td>246.691489</td>\n",
       "      <td>347.889908</td>\n",
       "      <td>605.428571</td>\n",
       "      <td>4467.423453</td>\n",
       "      <td>183.050000</td>\n",
       "      <td>100.000000</td>\n",
       "      <td>...</td>\n",
       "      <td>2.740000</td>\n",
       "      <td>1.780000</td>\n",
       "      <td>10.210000</td>\n",
       "      <td>24.380000</td>\n",
       "      <td>8.350000</td>\n",
       "      <td>0.057361</td>\n",
       "      <td>0.037234</td>\n",
       "      <td>0.052124</td>\n",
       "      <td>2.001584</td>\n",
       "      <td>4.000000</td>\n",
       "    </tr>\n",
       "  </tbody>\n",
       "</table>\n",
       "<p>8 rows × 35 columns</p>\n",
       "</div>"
      ],
      "text/plain": [
       "           retail   foreigner  institution   financial    invtrust  \\\n",
       "count  240.000000  240.000000   240.000000  240.000000  240.000000   \n",
       "mean    -4.088960   -1.643905    -9.204509   -1.979598   -0.879832   \n",
       "std     50.203231   16.689300   162.906738   22.548362   20.665609   \n",
       "min   -759.655574 -170.161290 -2475.512605 -321.409524 -121.291667   \n",
       "25%     -1.599927   -1.148336    -1.798263   -1.944746   -1.439958   \n",
       "50%     -0.747867   -0.494372    -0.867549   -0.911871   -0.729971   \n",
       "75%      0.169460    0.440255     0.109888    0.041446    0.306093   \n",
       "max     97.771324   84.403557   472.778281  108.223973  246.691489   \n",
       "\n",
       "          pension  privequity         bank   insurance  financeetc  ...  \\\n",
       "count  240.000000  240.000000   240.000000  240.000000  240.000000  ...   \n",
       "mean     1.437446    2.027869    16.771095   -1.952861   -3.110280  ...   \n",
       "std     25.553940   40.098488   298.445621   21.989742   26.006436  ...   \n",
       "min   -105.085714  -55.940789  -789.666667 -183.303030 -249.000000  ...   \n",
       "25%     -1.366766   -1.484406    -2.020421   -1.640175   -1.697913  ...   \n",
       "50%     -0.439956   -0.711318    -1.000000   -0.774582   -1.000000  ...   \n",
       "75%      0.579879    0.260288    -0.243750    0.087066    0.018983  ...   \n",
       "max    347.889908  605.428571  4467.423453  183.050000  100.000000  ...   \n",
       "\n",
       "         kospi_cr      krw_cr      sox_cr      vix_cr      wti_cr        open  \\\n",
       "count  240.000000  240.000000  240.000000  240.000000  240.000000  240.000000   \n",
       "mean    -0.085000    0.030167   -0.103417    0.102750   -0.030792   -0.000795   \n",
       "std      1.167759    0.661384    2.718119    6.653607    2.972412    0.015210   \n",
       "min     -3.520000   -1.790000   -6.240000  -13.090000   -9.870000   -0.037139   \n",
       "25%     -0.872500   -0.402500   -2.082500   -4.237500   -1.970000   -0.010528   \n",
       "50%     -0.010000    0.090000   -0.195000   -1.310000    0.245000   -0.002812   \n",
       "75%      0.705000    0.472500    1.800000    3.442500    2.002500    0.007499   \n",
       "max      2.740000    1.780000   10.210000   24.380000    8.350000    0.057361   \n",
       "\n",
       "             high         low         vol     weekday  \n",
       "count  240.000000  240.000000  240.000000  240.000000  \n",
       "mean    -0.000929   -0.000828    0.051242    2.083333  \n",
       "std      0.012852    0.013261    0.352367    1.375721  \n",
       "min     -0.032841   -0.030498   -0.655365    0.000000  \n",
       "25%     -0.010114   -0.010280   -0.177909    1.000000  \n",
       "50%     -0.002231   -0.001576   -0.010794    2.000000  \n",
       "75%      0.006612    0.006766    0.199856    3.000000  \n",
       "max      0.037234    0.052124    2.001584    4.000000  \n",
       "\n",
       "[8 rows x 35 columns]"
      ]
     },
     "execution_count": 10,
     "metadata": {},
     "output_type": "execute_result"
    }
   ],
   "source": [
    "data.describe(include='all')"
   ]
  },
  {
   "cell_type": "code",
   "execution_count": 11,
   "metadata": {
    "id": "j8aXHngqiLsR"
   },
   "outputs": [],
   "source": [
    "train_input, test_input, train_target, test_target = train_test_split(data, target, random_state=42, test_size=0.2, stratify=target)"
   ]
  },
  {
   "cell_type": "code",
   "execution_count": 12,
   "metadata": {
    "colab": {
     "base_uri": "https://localhost:8080/"
    },
    "id": "2FzD6Wi6mr4u",
    "outputId": "8f57e978-907e-4e76-ea75-be312f680491"
   },
   "outputs": [
    {
     "name": "stdout",
     "output_type": "stream",
     "text": [
      "(192, 35) (48, 35)\n"
     ]
    }
   ],
   "source": [
    "print(train_input.shape, test_input.shape)"
   ]
  },
  {
   "cell_type": "markdown",
   "metadata": {
    "id": "c65Uq0Vq15wc"
   },
   "source": [
    "### 결정 트리는 스케일을 조정할 필요가 없음 <br>\n",
    "선형함수를 훈련하는 알고리즘이 아니기 때문에 가중치를 계산하지 않고 진행해도 됨."
   ]
  },
  {
   "cell_type": "code",
   "execution_count": null,
   "metadata": {
    "colab": {
     "base_uri": "https://localhost:8080/"
    },
    "id": "fWs6sDywfaVQ",
    "outputId": "891cd2b4-5556-4f73-b863-ac78e8047b76"
   },
   "outputs": [],
   "source": [
    "ss = StandardScaler()\n",
    "ss.fit(train_input)"
   ]
  },
  {
   "cell_type": "code",
   "execution_count": null,
   "metadata": {
    "id": "gzyM1rHMjPB2"
   },
   "outputs": [],
   "source": [
    "train_scaled = ss.transform(train_input)\n",
    "test_scaled = ss.transform(test_input)"
   ]
  },
  {
   "cell_type": "code",
   "execution_count": null,
   "metadata": {
    "colab": {
     "base_uri": "https://localhost:8080/"
    },
    "id": "1I4lnzrth7J5",
    "outputId": "c41a223c-f7ea-488d-868c-02e9c1d68433"
   },
   "outputs": [],
   "source": [
    "lr = LogisticRegression()\n",
    "lr.fit(train_scaled, train_target)"
   ]
  },
  {
   "cell_type": "code",
   "execution_count": null,
   "metadata": {
    "colab": {
     "base_uri": "https://localhost:8080/"
    },
    "id": "CP0S3242h7NG",
    "outputId": "c7db9da7-33e7-4677-c915-116c16f0112d"
   },
   "outputs": [],
   "source": [
    "train_score = lr.score(train_scaled, train_target)\n",
    "test_score = lr.score(test_scaled, test_target)\n",
    "print('train score: {} \\n test score: {}'.format(train_score, test_score))"
   ]
  },
  {
   "cell_type": "markdown",
   "metadata": {
    "id": "Huyjgx02sS1v"
   },
   "source": [
    "### 설명하기 쉬운 모델과 어려운 모델"
   ]
  },
  {
   "cell_type": "code",
   "execution_count": null,
   "metadata": {
    "colab": {
     "base_uri": "https://localhost:8080/"
    },
    "id": "68cwlgeVkKs7",
    "outputId": "79f6d3ef-32e7-48dd-8df6-a947a65429bc"
   },
   "outputs": [],
   "source": [
    "lr.coef_, lr.intercept_"
   ]
  },
  {
   "cell_type": "markdown",
   "metadata": {
    "id": "kfL8p3L5_T-B"
   },
   "source": [
    "## 결정 트리 <br>\n",
    "트리를 구분하는 기준은 gini 계수로 하고 있음"
   ]
  },
  {
   "cell_type": "code",
   "execution_count": null,
   "metadata": {
    "colab": {
     "base_uri": "https://localhost:8080/"
    },
    "id": "z4vATIQ2m7gN",
    "outputId": "d5dc1511-6a7f-4623-a5b7-e6598a625716"
   },
   "outputs": [],
   "source": [
    "dt = DecisionTreeClassifier(random_state=42)\n",
    "dt.fit(train_scaled, train_target)"
   ]
  },
  {
   "cell_type": "code",
   "execution_count": null,
   "metadata": {
    "colab": {
     "base_uri": "https://localhost:8080/"
    },
    "id": "xZ2kgD8rm7jc",
    "outputId": "8987242c-b168-4733-a4e9-f3d858f406e0"
   },
   "outputs": [],
   "source": [
    "train_score = dt.score(train_scaled, train_target)\n",
    "test_score = dt.score(test_scaled, test_target)\n",
    "print('train score: {} \\n test score: {}'.format(train_score, test_score))"
   ]
  },
  {
   "cell_type": "code",
   "execution_count": null,
   "metadata": {
    "colab": {
     "base_uri": "https://localhost:8080/",
     "height": 411
    },
    "id": "i5ajXR5Em7mt",
    "outputId": "370c7fdd-afc1-4ca1-c5dd-c6564dd3a8e1"
   },
   "outputs": [],
   "source": [
    "plt.figure(figsize=(10,7))\n",
    "plot_tree(dt)\n",
    "plt.show() # colab, notebook에서는 plt.show없이도 가능하나 그림 그리기 전의 데이터 print를 보이지 않게 함."
   ]
  },
  {
   "cell_type": "code",
   "execution_count": null,
   "metadata": {
    "colab": {
     "base_uri": "https://localhost:8080/",
     "height": 411
    },
    "id": "7AyY2wLim7p1",
    "outputId": "cf5dfa82-6d7e-412c-a832-cf80d741f057"
   },
   "outputs": [],
   "source": [
    "classes = data.columns\n",
    "plt.figure(figsize=(10,7))\n",
    "plot_tree(dt, max_depth=1, filled=True, rounded=True, feature_names=classes)\n",
    "plt.show()"
   ]
  },
  {
   "cell_type": "code",
   "execution_count": null,
   "metadata": {
    "colab": {
     "base_uri": "https://localhost:8080/"
    },
    "id": "J2mEQSZCm7s9",
    "outputId": "f6acb9b4-72a3-4ca6-fa28-c09e98a5235a"
   },
   "outputs": [],
   "source": [
    "classes = data.columns\n",
    "classes"
   ]
  },
  {
   "cell_type": "markdown",
   "metadata": {
    "id": "uw9MwzTmRAuN"
   },
   "source": [
    "### 가지치기 <br>\n",
    "대표적인 과대적합 방지 방법 in  결정트리 방법 <br>\n",
    "가중치를 학습하는 방법이 아니기 때문에 L1, L2 규제 등을 적용할 수 없음."
   ]
  },
  {
   "cell_type": "code",
   "execution_count": null,
   "metadata": {
    "colab": {
     "base_uri": "https://localhost:8080/"
    },
    "id": "tp5_mHb60EyQ",
    "outputId": "f490e70e-312a-4815-9114-75914a575ed3"
   },
   "outputs": [],
   "source": [
    "dt = DecisionTreeClassifier(max_depth=3, random_state=42)\n",
    "dt.fit(train_scaled, train_target)"
   ]
  },
  {
   "cell_type": "code",
   "execution_count": null,
   "metadata": {
    "colab": {
     "base_uri": "https://localhost:8080/"
    },
    "id": "o32K-x3S0E1B",
    "outputId": "45e0e2c3-bf99-4125-8fcc-54c02c51df0c"
   },
   "outputs": [],
   "source": [
    "train_score = dt.score(train_scaled, train_target)\n",
    "test_score = dt.score(test_scaled, test_target)\n",
    "print('train score: {} \\n test score: {}'.format(train_score, test_score))"
   ]
  },
  {
   "cell_type": "code",
   "execution_count": null,
   "metadata": {
    "colab": {
     "base_uri": "https://localhost:8080/",
     "height": 805
    },
    "id": "XL4jRC1R0E4A",
    "outputId": "71c0878f-89e3-4ce4-b0d4-86ab68da0474"
   },
   "outputs": [],
   "source": [
    "classes = target\n",
    "plt.figure(figsize=(20,15))\n",
    "plot_tree(dt, filled=True, rounded=True, feature_names=classes)\n",
    "plt.show()"
   ]
  },
  {
   "cell_type": "markdown",
   "metadata": {
    "id": "XOC45fzv2biA"
   },
   "source": [
    "위 그림에서 설탕 당도가 음수로 표시된 이유는 표준화 과정을 거쳤기 때문에 나타나는 현상으로 표준화 과정을 거치지 않으면 더 설명하기가 좋을 것임."
   ]
  },
  {
   "cell_type": "markdown",
   "metadata": {
    "id": "6fIPro3-24IH"
   },
   "source": [
    "## 전처리 없이 수행"
   ]
  },
  {
   "cell_type": "code",
   "execution_count": 13,
   "metadata": {
    "colab": {
     "base_uri": "https://localhost:8080/"
    },
    "id": "QkSIFFgd0UcZ",
    "outputId": "0a565202-1715-4050-c13d-4bc0bebd73c0"
   },
   "outputs": [
    {
     "data": {
      "text/html": [
       "<style>#sk-container-id-1 {color: black;background-color: white;}#sk-container-id-1 pre{padding: 0;}#sk-container-id-1 div.sk-toggleable {background-color: white;}#sk-container-id-1 label.sk-toggleable__label {cursor: pointer;display: block;width: 100%;margin-bottom: 0;padding: 0.3em;box-sizing: border-box;text-align: center;}#sk-container-id-1 label.sk-toggleable__label-arrow:before {content: \"▸\";float: left;margin-right: 0.25em;color: #696969;}#sk-container-id-1 label.sk-toggleable__label-arrow:hover:before {color: black;}#sk-container-id-1 div.sk-estimator:hover label.sk-toggleable__label-arrow:before {color: black;}#sk-container-id-1 div.sk-toggleable__content {max-height: 0;max-width: 0;overflow: hidden;text-align: left;background-color: #f0f8ff;}#sk-container-id-1 div.sk-toggleable__content pre {margin: 0.2em;color: black;border-radius: 0.25em;background-color: #f0f8ff;}#sk-container-id-1 input.sk-toggleable__control:checked~div.sk-toggleable__content {max-height: 200px;max-width: 100%;overflow: auto;}#sk-container-id-1 input.sk-toggleable__control:checked~label.sk-toggleable__label-arrow:before {content: \"▾\";}#sk-container-id-1 div.sk-estimator input.sk-toggleable__control:checked~label.sk-toggleable__label {background-color: #d4ebff;}#sk-container-id-1 div.sk-label input.sk-toggleable__control:checked~label.sk-toggleable__label {background-color: #d4ebff;}#sk-container-id-1 input.sk-hidden--visually {border: 0;clip: rect(1px 1px 1px 1px);clip: rect(1px, 1px, 1px, 1px);height: 1px;margin: -1px;overflow: hidden;padding: 0;position: absolute;width: 1px;}#sk-container-id-1 div.sk-estimator {font-family: monospace;background-color: #f0f8ff;border: 1px dotted black;border-radius: 0.25em;box-sizing: border-box;margin-bottom: 0.5em;}#sk-container-id-1 div.sk-estimator:hover {background-color: #d4ebff;}#sk-container-id-1 div.sk-parallel-item::after {content: \"\";width: 100%;border-bottom: 1px solid gray;flex-grow: 1;}#sk-container-id-1 div.sk-label:hover label.sk-toggleable__label {background-color: #d4ebff;}#sk-container-id-1 div.sk-serial::before {content: \"\";position: absolute;border-left: 1px solid gray;box-sizing: border-box;top: 0;bottom: 0;left: 50%;z-index: 0;}#sk-container-id-1 div.sk-serial {display: flex;flex-direction: column;align-items: center;background-color: white;padding-right: 0.2em;padding-left: 0.2em;position: relative;}#sk-container-id-1 div.sk-item {position: relative;z-index: 1;}#sk-container-id-1 div.sk-parallel {display: flex;align-items: stretch;justify-content: center;background-color: white;position: relative;}#sk-container-id-1 div.sk-item::before, #sk-container-id-1 div.sk-parallel-item::before {content: \"\";position: absolute;border-left: 1px solid gray;box-sizing: border-box;top: 0;bottom: 0;left: 50%;z-index: -1;}#sk-container-id-1 div.sk-parallel-item {display: flex;flex-direction: column;z-index: 1;position: relative;background-color: white;}#sk-container-id-1 div.sk-parallel-item:first-child::after {align-self: flex-end;width: 50%;}#sk-container-id-1 div.sk-parallel-item:last-child::after {align-self: flex-start;width: 50%;}#sk-container-id-1 div.sk-parallel-item:only-child::after {width: 0;}#sk-container-id-1 div.sk-dashed-wrapped {border: 1px dashed gray;margin: 0 0.4em 0.5em 0.4em;box-sizing: border-box;padding-bottom: 0.4em;background-color: white;}#sk-container-id-1 div.sk-label label {font-family: monospace;font-weight: bold;display: inline-block;line-height: 1.2em;}#sk-container-id-1 div.sk-label-container {text-align: center;}#sk-container-id-1 div.sk-container {/* jupyter's `normalize.less` sets `[hidden] { display: none; }` but bootstrap.min.css set `[hidden] { display: none !important; }` so we also need the `!important` here to be able to override the default hidden behavior on the sphinx rendered scikit-learn.org. See: https://github.com/scikit-learn/scikit-learn/issues/21755 */display: inline-block !important;position: relative;}#sk-container-id-1 div.sk-text-repr-fallback {display: none;}</style><div id=\"sk-container-id-1\" class=\"sk-top-container\"><div class=\"sk-text-repr-fallback\"><pre>DecisionTreeClassifier(max_depth=3, random_state=42)</pre><b>In a Jupyter environment, please rerun this cell to show the HTML representation or trust the notebook. <br />On GitHub, the HTML representation is unable to render, please try loading this page with nbviewer.org.</b></div><div class=\"sk-container\" hidden><div class=\"sk-item\"><div class=\"sk-estimator sk-toggleable\"><input class=\"sk-toggleable__control sk-hidden--visually\" id=\"sk-estimator-id-1\" type=\"checkbox\" checked><label for=\"sk-estimator-id-1\" class=\"sk-toggleable__label sk-toggleable__label-arrow\">DecisionTreeClassifier</label><div class=\"sk-toggleable__content\"><pre>DecisionTreeClassifier(max_depth=3, random_state=42)</pre></div></div></div></div></div>"
      ],
      "text/plain": [
       "DecisionTreeClassifier(max_depth=3, random_state=42)"
      ]
     },
     "execution_count": 13,
     "metadata": {},
     "output_type": "execute_result"
    }
   ],
   "source": [
    "dt = DecisionTreeClassifier(max_depth=3, random_state=42)\n",
    "dt.fit(train_input, train_target)"
   ]
  },
  {
   "cell_type": "code",
   "execution_count": 14,
   "metadata": {
    "colab": {
     "base_uri": "https://localhost:8080/"
    },
    "id": "EvdGb9-G0Ufg",
    "outputId": "f3313469-fd7d-4a3e-80c8-415f798a9178"
   },
   "outputs": [
    {
     "name": "stdout",
     "output_type": "stream",
     "text": [
      "train score: 0.9166666666666666 \n",
      " test score: 0.75\n"
     ]
    }
   ],
   "source": [
    "train_score = dt.score(train_input, train_target)\n",
    "test_score = dt.score(test_input, test_target)\n",
    "print('train score: {} \\n test score: {}'.format(train_score, test_score))"
   ]
  },
  {
   "cell_type": "markdown",
   "metadata": {
    "id": "7mC866CV3T-x"
   },
   "source": [
    "표준화한 후의 결과와 동일함."
   ]
  },
  {
   "cell_type": "code",
   "execution_count": 15,
   "metadata": {
    "colab": {
     "base_uri": "https://localhost:8080/",
     "height": 805
    },
    "id": "9r1npBap0Uik",
    "outputId": "4092168a-50fd-4095-b162-e5d067ecca74"
   },
   "outputs": [
    {
     "data": {
      "image/png": "[encoded data removed]",
      "text/plain": [
       "<Figure size 2000x1500 with 1 Axes>"
      ]
     },
     "metadata": {},
     "output_type": "display_data"
    }
   ],
   "source": [
    "classes = target\n",
    "plt.figure(figsize=(20,15))\n",
    "plot_tree(dt, filled=True, rounded=True, feature_names=classes)\n",
    "plt.show()"
   ]
  },
  {
   "cell_type": "code",
   "execution_count": 16,
   "metadata": {
    "colab": {
     "base_uri": "https://localhost:8080/"
    },
    "id": "C4ud5XAQ3uMH",
    "outputId": "db4d8ed7-6cc8-474c-c8af-0cee5be0c716"
   },
   "outputs": [
    {
     "name": "stdout",
     "output_type": "stream",
     "text": [
      "[0.         0.         0.         0.         0.         0.\n",
      " 0.         0.         0.06504096 0.0686505  0.         0.\n",
      " 0.         0.03387874 0.         0.         0.         0.\n",
      " 0.         0.         0.         0.         0.         0.\n",
      " 0.         0.55467096 0.         0.         0.         0.\n",
      " 0.         0.19206484 0.05549642 0.         0.03019759]\n"
     ]
    }
   ],
   "source": [
    "print(dt.feature_importances_) # 두번째 설탕이 중요도가 가장 높음. 트리 기반의 모델에서 제공함."
   ]
  },
  {
   "cell_type": "code",
   "execution_count": 17,
   "metadata": {},
   "outputs": [
    {
     "data": {
      "text/plain": [
       "array([0.        , 0.        , 0.        , 0.        , 0.        ,\n",
       "       0.        , 0.        , 0.        , 0.06504096, 0.0686505 ,\n",
       "       0.        , 0.        , 0.        , 0.03387874, 0.        ,\n",
       "       0.        , 0.        , 0.        , 0.        , 0.        ,\n",
       "       0.        , 0.        , 0.        , 0.        , 0.        ,\n",
       "       0.55467096, 0.        , 0.        , 0.        , 0.        ,\n",
       "       0.        , 0.19206484, 0.05549642, 0.        , 0.03019759])"
      ]
     },
     "execution_count": 17,
     "metadata": {},
     "output_type": "execute_result"
    }
   ],
   "source": [
    "dt.feature_importances_"
   ]
  },
  {
   "cell_type": "code",
   "execution_count": 18,
   "metadata": {},
   "outputs": [],
   "source": [
    "df_sel = pd.DataFrame(dt.feature_importances_, index=data.columns, columns=['importance']).sort_values(by='importance', ascending=False)"
   ]
  },
  {
   "cell_type": "code",
   "execution_count": 19,
   "metadata": {},
   "outputs": [
    {
     "data": {
      "text/html": [
       "<div>\n",
       "<style scoped>\n",
       "    .dataframe tbody tr th:only-of-type {\n",
       "        vertical-align: middle;\n",
       "    }\n",
       "\n",
       "    .dataframe tbody tr th {\n",
       "        vertical-align: top;\n",
       "    }\n",
       "\n",
       "    .dataframe thead th {\n",
       "        text-align: right;\n",
       "    }\n",
       "</style>\n",
       "<table border=\"1\" class=\"dataframe\">\n",
       "  <thead>\n",
       "    <tr style=\"text-align: right;\">\n",
       "      <th></th>\n",
       "      <th>importance</th>\n",
       "    </tr>\n",
       "  </thead>\n",
       "  <tbody>\n",
       "    <tr>\n",
       "      <th>kospi_cr</th>\n",
       "      <td>0.554671</td>\n",
       "    </tr>\n",
       "    <tr>\n",
       "      <th>high</th>\n",
       "      <td>0.192065</td>\n",
       "    </tr>\n",
       "    <tr>\n",
       "      <th>financeetc</th>\n",
       "      <td>0.068650</td>\n",
       "    </tr>\n",
       "    <tr>\n",
       "      <th>insurance</th>\n",
       "      <td>0.065041</td>\n",
       "    </tr>\n",
       "    <tr>\n",
       "      <th>low</th>\n",
       "      <td>0.055496</td>\n",
       "    </tr>\n",
       "    <tr>\n",
       "      <th>dji_f_cr</th>\n",
       "      <td>0.033879</td>\n",
       "    </tr>\n",
       "    <tr>\n",
       "      <th>weekday</th>\n",
       "      <td>0.030198</td>\n",
       "    </tr>\n",
       "    <tr>\n",
       "      <th>vix_cr</th>\n",
       "      <td>0.000000</td>\n",
       "    </tr>\n",
       "    <tr>\n",
       "      <th>wti_cr</th>\n",
       "      <td>0.000000</td>\n",
       "    </tr>\n",
       "    <tr>\n",
       "      <th>bond_kor_2_cr</th>\n",
       "      <td>0.000000</td>\n",
       "    </tr>\n",
       "    <tr>\n",
       "      <th>sox_cr</th>\n",
       "      <td>0.000000</td>\n",
       "    </tr>\n",
       "    <tr>\n",
       "      <th>krw_cr</th>\n",
       "      <td>0.000000</td>\n",
       "    </tr>\n",
       "    <tr>\n",
       "      <th>open</th>\n",
       "      <td>0.000000</td>\n",
       "    </tr>\n",
       "    <tr>\n",
       "      <th>vol</th>\n",
       "      <td>0.000000</td>\n",
       "    </tr>\n",
       "    <tr>\n",
       "      <th>kosdaq_cr</th>\n",
       "      <td>0.000000</td>\n",
       "    </tr>\n",
       "    <tr>\n",
       "      <th>bond_usa_3m_cr</th>\n",
       "      <td>0.000000</td>\n",
       "    </tr>\n",
       "    <tr>\n",
       "      <th>bond_usa_2_cr</th>\n",
       "      <td>0.000000</td>\n",
       "    </tr>\n",
       "    <tr>\n",
       "      <th>bond_usa_10_cr</th>\n",
       "      <td>0.000000</td>\n",
       "    </tr>\n",
       "    <tr>\n",
       "      <th>dxy_cr</th>\n",
       "      <td>0.000000</td>\n",
       "    </tr>\n",
       "    <tr>\n",
       "      <th>retail</th>\n",
       "      <td>0.000000</td>\n",
       "    </tr>\n",
       "    <tr>\n",
       "      <th>bond_kor_10_cr</th>\n",
       "      <td>0.000000</td>\n",
       "    </tr>\n",
       "    <tr>\n",
       "      <th>foreigner</th>\n",
       "      <td>0.000000</td>\n",
       "    </tr>\n",
       "    <tr>\n",
       "      <th>spx_cr</th>\n",
       "      <td>0.000000</td>\n",
       "    </tr>\n",
       "    <tr>\n",
       "      <th>ixic_f_cr</th>\n",
       "      <td>0.000000</td>\n",
       "    </tr>\n",
       "    <tr>\n",
       "      <th>ixic_cr</th>\n",
       "      <td>0.000000</td>\n",
       "    </tr>\n",
       "    <tr>\n",
       "      <th>dji_cr</th>\n",
       "      <td>0.000000</td>\n",
       "    </tr>\n",
       "    <tr>\n",
       "      <th>foreigneretc</th>\n",
       "      <td>0.000000</td>\n",
       "    </tr>\n",
       "    <tr>\n",
       "      <th>corporateetc</th>\n",
       "      <td>0.000000</td>\n",
       "    </tr>\n",
       "    <tr>\n",
       "      <th>bank</th>\n",
       "      <td>0.000000</td>\n",
       "    </tr>\n",
       "    <tr>\n",
       "      <th>privequity</th>\n",
       "      <td>0.000000</td>\n",
       "    </tr>\n",
       "    <tr>\n",
       "      <th>pension</th>\n",
       "      <td>0.000000</td>\n",
       "    </tr>\n",
       "    <tr>\n",
       "      <th>invtrust</th>\n",
       "      <td>0.000000</td>\n",
       "    </tr>\n",
       "    <tr>\n",
       "      <th>financial</th>\n",
       "      <td>0.000000</td>\n",
       "    </tr>\n",
       "    <tr>\n",
       "      <th>institution</th>\n",
       "      <td>0.000000</td>\n",
       "    </tr>\n",
       "    <tr>\n",
       "      <th>spx_f_cr</th>\n",
       "      <td>0.000000</td>\n",
       "    </tr>\n",
       "  </tbody>\n",
       "</table>\n",
       "</div>"
      ],
      "text/plain": [
       "                importance\n",
       "kospi_cr          0.554671\n",
       "high              0.192065\n",
       "financeetc        0.068650\n",
       "insurance         0.065041\n",
       "low               0.055496\n",
       "dji_f_cr          0.033879\n",
       "weekday           0.030198\n",
       "vix_cr            0.000000\n",
       "wti_cr            0.000000\n",
       "bond_kor_2_cr     0.000000\n",
       "sox_cr            0.000000\n",
       "krw_cr            0.000000\n",
       "open              0.000000\n",
       "vol               0.000000\n",
       "kosdaq_cr         0.000000\n",
       "bond_usa_3m_cr    0.000000\n",
       "bond_usa_2_cr     0.000000\n",
       "bond_usa_10_cr    0.000000\n",
       "dxy_cr            0.000000\n",
       "retail            0.000000\n",
       "bond_kor_10_cr    0.000000\n",
       "foreigner         0.000000\n",
       "spx_cr            0.000000\n",
       "ixic_f_cr         0.000000\n",
       "ixic_cr           0.000000\n",
       "dji_cr            0.000000\n",
       "foreigneretc      0.000000\n",
       "corporateetc      0.000000\n",
       "bank              0.000000\n",
       "privequity        0.000000\n",
       "pension           0.000000\n",
       "invtrust          0.000000\n",
       "financial         0.000000\n",
       "institution       0.000000\n",
       "spx_f_cr          0.000000"
      ]
     },
     "execution_count": 19,
     "metadata": {},
     "output_type": "execute_result"
    }
   ],
   "source": [
    "df_sel"
   ]
  },
  {
   "cell_type": "code",
   "execution_count": 20,
   "metadata": {},
   "outputs": [
    {
     "data": {
      "text/plain": [
       "Index(['kospi_cr', 'high', 'financeetc', 'insurance', 'low', 'dji_f_cr',\n",
       "       'weekday', 'vix_cr', 'wti_cr', 'bond_kor_2_cr'],\n",
       "      dtype='object')"
      ]
     },
     "execution_count": 20,
     "metadata": {},
     "output_type": "execute_result"
    }
   ],
   "source": [
    "df_sel.index[:10]"
   ]
  },
  {
   "cell_type": "code",
   "execution_count": null,
   "metadata": {},
   "outputs": [],
   "source": []
  },
  {
   "cell_type": "markdown",
   "metadata": {
    "id": "eDAXu9g61MD5"
   },
   "source": [
    "## 확인문제"
   ]
  },
  {
   "cell_type": "code",
   "execution_count": null,
   "metadata": {
    "colab": {
     "base_uri": "https://localhost:8080/"
    },
    "id": "t_rqSrgS1OZI",
    "outputId": "9fcf00d1-1148-4b2b-900a-99da48b73fca"
   },
   "outputs": [],
   "source": [
    "dt = DecisionTreeClassifier(min_impurity_decrease=0.001, random_state=42)\n",
    "dt.fit(train_input, train_target)\n",
    "\n",
    "print(dt.score(train_input, train_target))\n",
    "print(dt.score(test_input, test_target))"
   ]
  },
  {
   "cell_type": "code",
   "execution_count": null,
   "metadata": {
    "colab": {
     "base_uri": "https://localhost:8080/",
     "height": 805
    },
    "id": "7BIdDPsv2AOA",
    "outputId": "fc5d8b18-7192-447f-cd9d-83d63feac524",
    "scrolled": false
   },
   "outputs": [],
   "source": [
    "plt.figure(figsize=(20,15))\n",
    "plot_tree(dt, filled=True, feature_names=data.columns)\n",
    "plt.show()"
   ]
  },
  {
   "cell_type": "code",
   "execution_count": null,
   "metadata": {},
   "outputs": [],
   "source": [
    "pd.DataFrame(dt.feature_importances_, index=data.columns, columns=['value']).sort_values(by='value', ascending=False)"
   ]
  },
  {
   "cell_type": "code",
   "execution_count": null,
   "metadata": {},
   "outputs": [],
   "source": []
  }
 ],
 "metadata": {
  "colab": {
   "collapsed_sections": [],
   "include_colab_link": true,
   "name": "5-1 결정 트리.ipynb",
   "provenance": []
  },
  "kernelspec": {
   "display_name": "Python 3 (ipykernel)",
   "language": "python",
   "name": "python3"
  },
  "language_info": {
   "codemirror_mode": {
    "name": "ipython",
    "version": 3
   },
   "file_extension": ".py",
   "mimetype": "text/x-python",
   "name": "python",
   "nbconvert_exporter": "python",
   "pygments_lexer": "ipython3",
   "version": "3.9.1"
  }
 },
 "nbformat": 4,
 "nbformat_minor": 1
}
