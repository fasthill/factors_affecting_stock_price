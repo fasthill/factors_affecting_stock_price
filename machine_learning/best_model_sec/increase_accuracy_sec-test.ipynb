{
 "cells": [
  {
   "cell_type": "markdown",
   "metadata": {
    "id": "LlS4gyYqJVpn"
   },
   "source": [
    "# 가장 좋은 결과를 낼 수 있는 feature항목 추출"
   ]
  },
  {
   "cell_type": "markdown",
   "metadata": {
    "id": "tQBDVUjBbIsL"
   },
   "source": [
    "## 모든 feature를 사용한 결과와, 선택 추출된 feature만 사용한 결과 정확도에 차이가 남\n",
    "#### logistic 회귀 이용하여 coef_ 항목에서 영향력이 높은 feature를 선택. 최적의 갯수 선택"
   ]
  },
  {
   "cell_type": "markdown",
   "metadata": {
    "id": "ILi_LPl9JVpw"
   },
   "source": [
    "### 데이터 준비하기"
   ]
  },
  {
   "cell_type": "code",
   "execution_count": 1,
   "metadata": {
    "id": "EwImyTS9S3QQ"
   },
   "outputs": [],
   "source": [
    "import pandas as pd\n",
    "import numpy as np\n",
    "import matplotlib.pyplot as plt\n",
    "import datetime\n",
    "\n",
    "from sklearn.preprocessing import StandardScaler\n",
    "from sklearn.model_selection import train_test_split\n",
    "from sklearn.neighbors import KNeighborsClassifier\n",
    "from sklearn.linear_model import LogisticRegression"
   ]
  },
  {
   "cell_type": "code",
   "execution_count": 2,
   "metadata": {},
   "outputs": [],
   "source": [
    "# 로지스틱회귀후에 .coef_ 항목에서 기준(criteria, 계수)보다 높은 영향력을 미치는 feature column 선택\n",
    "def select_features(df, coef, criteria):\n",
    "    sel_num = np.where(np.abs(coef) > criteria )[1]\n",
    "    sel_col = df.columns[sel_num]\n",
    "    return sel_col"
   ]
  },
  {
   "cell_type": "code",
   "execution_count": 3,
   "metadata": {},
   "outputs": [],
   "source": [
    "def get_scores(data, target):\n",
    "    train_input, test_input, train_target, test_target = train_test_split(data, target, random_state=42, test_size=0.2, stratify=target)\n",
    "\n",
    "    ss = StandardScaler()\n",
    "    ss.fit(train_input)\n",
    "    train_scaled = ss.transform(train_input)\n",
    "    test_scaled = ss.transform(test_input)\n",
    "\n",
    "    lr = LogisticRegression(C=20, max_iter=4000) # max_iter default 100, \n",
    "#     lr = LogisticRegression(C=1, solver='newton_cg', max_iter=1000) # max_iter default 100, \n",
    "    lr.fit(train_scaled, train_target)\n",
    "\n",
    "    train_score = lr.score(train_scaled, train_target)\n",
    "    test_score = lr.score(test_scaled, test_target)\n",
    "#     print(f'train score: {train_score:.4f} \\n test score; {test_score:.4f}')\n",
    "    return train_score, test_score, lr.coef_, lr.intercept_"
   ]
  },
  {
   "cell_type": "code",
   "execution_count": 4,
   "metadata": {},
   "outputs": [],
   "source": [
    "def find_best_result(data, target):\n",
    "# min을 하나씩 제거하면서 최고의 결과를 가져오는 feature갯수(항목) 선택\n",
    "\n",
    "    train_score_list= []\n",
    "    test_score_list = []\n",
    "#     data_columns = []\n",
    "#     data_coef = []\n",
    "    test_s = 0\n",
    "    train_score, test_score, coef, intercept = get_scores(data, target)\n",
    "    for _ in range(len(data.columns)-1):\n",
    "        criteria = np.abs(coef).min()\n",
    "        sel_col = select_features(data, coef, criteria)\n",
    "        data = df[sel_col]\n",
    "        train_score, test_score, coef, intercept = get_scores(data, target)\n",
    "\n",
    "        if test_score > test_s:\n",
    "            test_s = test_score\n",
    "            data_columns = sel_col\n",
    "            data_coef = coef\n",
    "\n",
    "        train_score_list.append(train_score)\n",
    "        test_score_list.append(test_score)\n",
    "    \n",
    "    return train_score_list, test_score_list, data_columns, data_coef"
   ]
  },
  {
   "cell_type": "code",
   "execution_count": 5,
   "metadata": {},
   "outputs": [],
   "source": [
    "import pickle\n",
    "def list_to_pickle(filename, listname):\n",
    "    open_file = open(filename, \"wb\")\n",
    "    pickle.dump(listname, open_file)\n",
    "    open_file.close()\n",
    "\n",
    "def list_from_pickle(filename):\n",
    "    open_file = open(filename, \"rb\")\n",
    "    loaded_list = pickle.load(open_file)\n",
    "    open_file.close()\n",
    "    return loaded_list"
   ]
  },
  {
   "cell_type": "code",
   "execution_count": 6,
   "metadata": {},
   "outputs": [],
   "source": [
    "from sklearn.linear_model import SGDClassifier\n",
    "from sklearn.model_selection import cross_validate, train_test_split\n",
    "\n",
    "import tensorflow as tf\n",
    "from tensorflow import keras\n",
    "from tensorflow.keras.datasets import fashion_mnist\n",
    "from tensorflow.keras import Sequential\n",
    "from tensorflow.keras.layers import Dense, Flatten, Dropout\n",
    "from tensorflow.keras.models import load_model\n",
    "from tensorflow.keras.callbacks import ModelCheckpoint, EarlyStopping, ReduceLROnPlateau, LearningRateScheduler\n",
    "from sklearn.model_selection import train_test_split\n",
    "\n",
    "from sklearn.metrics import f1_score\n",
    "from sklearn.metrics import confusion_matrix\n",
    "from sklearn.metrics import roc_auc_score\n",
    "from sklearn.metrics import precision_score, recall_score"
   ]
  },
  {
   "cell_type": "code",
   "execution_count": 66,
   "metadata": {},
   "outputs": [],
   "source": [
    "# 분석용 데이터 입력\n",
    "stock_name = 'sec'\n",
    "directory_for_ml = '../data/data_for_ml/'\n",
    "fname = f'df_{stock_name}_sel.pkl'\n",
    "f_name = directory_for_ml + fname\n",
    "df = pd.read_pickle(f_name)\n",
    "plt_title ='sec'"
   ]
  },
  {
   "cell_type": "code",
   "execution_count": 67,
   "metadata": {},
   "outputs": [],
   "source": [
    "df.drop(columns=['value', 'r_open_high_5', 'close_cr_5', 'r_open_high_1'], inplace=True )"
   ]
  },
  {
   "cell_type": "code",
   "execution_count": 68,
   "metadata": {},
   "outputs": [],
   "source": [
    "new_columns = ['kospi_cr', 'krw_cr', 'corporateetc', 'dxy_cr', 'open', 'retail', 'bond_usa_10_cr', 'spx_cr', 'spx_f_cr', 'bond_kor_10_cr', 'close_cr_1']"
   ]
  },
  {
   "cell_type": "code",
   "execution_count": 69,
   "metadata": {},
   "outputs": [],
   "source": [
    "df_new = df[new_columns]"
   ]
  },
  {
   "cell_type": "code",
   "execution_count": 70,
   "metadata": {},
   "outputs": [],
   "source": [
    "data = df_new.iloc[:240, :-1]\n",
    "data_test = df_new.iloc[240:, :-1]\n",
    "target = df_new.iloc[:240, -1]\n",
    "# df_sel.tail()\n",
    "# df_test.head()"
   ]
  },
  {
   "cell_type": "code",
   "execution_count": 71,
   "metadata": {},
   "outputs": [],
   "source": [
    "train_input, test_input, train_target, test_target = train_test_split(data, target, random_state=42, test_size=0.2, stratify=target)"
   ]
  },
  {
   "cell_type": "code",
   "execution_count": 72,
   "metadata": {},
   "outputs": [],
   "source": [
    "ss = StandardScaler()\n",
    "ss.fit(train_input)\n",
    "train_scaled = ss.transform(train_input)\n",
    "test_scaled = ss.transform(test_input)\n",
    "data_test_scaled = ss.transform(data_test)"
   ]
  },
  {
   "cell_type": "markdown",
   "metadata": {},
   "source": [
    "### 인공신경망"
   ]
  },
  {
   "cell_type": "markdown",
   "metadata": {},
   "source": [
    "0. feature 갯수 최적화 (?) 수렴이나 overfit 방지?\n",
    "1. train이 수렴할 정도로 model 구성\n",
    "2. train 수렴과 overfit이 관계가 있나?"
   ]
  },
  {
   "cell_type": "code",
   "execution_count": 73,
   "metadata": {},
   "outputs": [],
   "source": [
    "def model_fn(inp_num, a_layer=None):\n",
    "    model = Sequential()\n",
    "    model.add(Dense(12, activation='relu', input_shape=(inp_num,)))\n",
    "#     model.add(Dropout(0.1))\n",
    "    model.add(Dense(6, activation='sigmoid'))\n",
    "#     model.add(Dropout(0.1))\n",
    "    model.add(Dense(3, activation='sigmoid'))\n",
    "    model.add(Dense(1, activation='sigmoid'))\n",
    "    \n",
    "    return model"
   ]
  },
  {
   "cell_type": "code",
   "execution_count": 74,
   "metadata": {},
   "outputs": [],
   "source": [
    "d_rate = 1e-7 # default value\n",
    "adam_custom = tf.keras.optimizers.Adam(\n",
    "    learning_rate=0.000005, # default  0.001 , best fit 0.0001 for skhinix\n",
    "    beta_1=0.9, beta_2=0.999, epsilon=d_rate, amsgrad=False,  # default\n",
    "    weight_decay=None, clipnorm=None, clipvalue=None, global_clipnorm=None, use_ema=False, ema_momentum=0.99,\n",
    "    ema_overwrite_frequency=None, jit_compile=True, name='Adam' )"
   ]
  },
  {
   "cell_type": "code",
   "execution_count": 75,
   "metadata": {},
   "outputs": [],
   "source": [
    "# model = model_fn(10, len(data_new.columns), 2, Dropout(0.3))\n",
    "try :\n",
    "    model = None\n",
    "except:\n",
    "    pass\n",
    "\n",
    "model = model_fn(len(data.columns))\n",
    "# model.compile(optimizer='adam', loss='binary_crossentropy', \n",
    "#               metrics=['accuracy'])\n",
    "model.compile(optimizer=adam_custom , loss='binary_crossentropy', \n",
    "              metrics=['accuracy'])\n",
    "# model.summary()"
   ]
  },
  {
   "cell_type": "code",
   "execution_count": 76,
   "metadata": {},
   "outputs": [],
   "source": [
    "# checkpoint_cb = ModelCheckpoint('best_model.h5', save_best_only=True)\n",
    "checkpoint_cb = keras.callbacks.ModelCheckpoint(\n",
    "    filepath='best_model/best_model_{epoch:02d}-{val_loss:.2f}-{val_accuracy:.2f}.h5', \\\n",
    "     save_best_only=True)\n",
    "# checkpoint_cb = keras.callbacks.ModelCheckpoint(filepath='best_model/skhinix_model.h5', \\\n",
    "#                                                 monitor='val_accuracy', mode='max', save_best_only=True)\n",
    "# checkpoint_cb = keras.callbacks.ModelCheckpoint(filepath='best_model/skhinix_model.h5', save_best_only=True)\n",
    "# earlystopping_cb = keras.callbacks.EarlyStopping(patience=100, monitor='val_accuracy', mode='max', restore_best_weights=True)\n",
    "earlystopping_cb = keras.callbacks.EarlyStopping(patience=200, monitor='val_loss', mode='min', restore_best_weights=True)\n",
    "# earlystopping_cb = keras.callbacks.EarlyStopping(patience=100, restore_best_weights=True)\n",
    "\n",
    "reducelr = tf.keras.callbacks.ReduceLROnPlateau( monitor='val_loss', factor=0.9,  \n",
    "                                                patience=100, verbose=0, mode='auto', min_delta=0.0001, #0.0001\n",
    "                                                cooldown=0, min_lr=0 )\n",
    "\n",
    "def scheduler(epoch, lr):\n",
    "    if epoch < 1000:\n",
    "        print(\"epoch, m, lr\", epoch, m, lr)\n",
    "        return lr\n",
    "    else:\n",
    "        print(\"epoch, m, lr\", epoch, m, lr)\n",
    "        return lr * tf.math.exp(-0.01)\n",
    "\n",
    "lrscheduler = tf.keras.callbacks.LearningRateScheduler(scheduler, verbose=0)"
   ]
  },
  {
   "cell_type": "code",
   "execution_count": 77,
   "metadata": {},
   "outputs": [],
   "source": [
    "history = model.fit(train_scaled, train_target, epochs=30000, verbose=0, batch_size=20,\n",
    "#                     callbacks=[checkpoint_cb, earlystopping_cb, reducelr],\n",
    "                    callbacks=[earlystopping_cb, reducelr],\n",
    "                    validation_data=(test_scaled, test_target))\n",
    "\n",
    "# loss 가 최저로 내려가지 않거나 큰 상태에서 머무르면 adam (optimizer)의 learning rate를 줄이면서 loss가 작아지는지 시도해 볼 것\n",
    "# batch size 도 조절\n",
    "# layer를 추가하면서 진행도 많이 도움됨.(mobis 경우에 적용) -> 과대적합이 됨.\n",
    "# batch_size를 늘리거나 줄이면 val_loss의 꺽이는 영역이 위아래로 바뀌니 lr을 고정하고 조금씩 조정하면서 최적의 사이즈를 찾아야 함.\n",
    "# --> 이후 lr을 아주 조금씩 줄이면서 시도함. (0.0001 -> 0.00009 -> 0.00008 )"
   ]
  },
  {
   "cell_type": "code",
   "execution_count": 78,
   "metadata": {},
   "outputs": [
    {
     "data": {
      "image/png": "[encoded data removed]",
      "text/plain": [
       "<Figure size 640x480 with 1 Axes>"
      ]
     },
     "metadata": {},
     "output_type": "display_data"
    }
   ],
   "source": [
    "plt.plot(history.history['loss'])\n",
    "plt.plot(history.history['val_loss'])\n",
    "plt.xlabel('epoch')\n",
    "plt.ylabel('loss')\n",
    "plt.legend(['train', 'val'])\n",
    "plt.title(plt_title)\n",
    "plt.show()"
   ]
  },
  {
   "cell_type": "code",
   "execution_count": 79,
   "metadata": {
    "scrolled": false
   },
   "outputs": [
    {
     "data": {
      "image/png": "[encoded data removed]",
      "text/plain": [
       "<Figure size 640x480 with 1 Axes>"
      ]
     },
     "metadata": {},
     "output_type": "display_data"
    }
   ],
   "source": [
    "plt.plot(history.history['accuracy'])\n",
    "plt.plot(history.history['val_accuracy'])\n",
    "plt.xlabel('epoch')\n",
    "plt.ylabel('accuracy')\n",
    "plt.legend(['accuracy', 'val_accuracy'])\n",
    "plt.title(plt_title)\n",
    "plt.show()"
   ]
  },
  {
   "cell_type": "code",
   "execution_count": 80,
   "metadata": {},
   "outputs": [
    {
     "name": "stdout",
     "output_type": "stream",
     "text": [
      "2/2 [==============================] - 0s 3ms/step - loss: 0.4877 - accuracy: 0.8125\n",
      "2/2 [==============================] - 0s 2ms/step\n",
      "정밀도 0.7894736842105263\n",
      "재현율 0.75\n",
      "f1_acore 0.7692307692307692\n",
      "roc_auc_score 0.8035714285714286\n",
      "confusion matrix [[24  4]\n",
      " [ 5 15]]\n"
     ]
    }
   ],
   "source": [
    "# 정밀도 : 양성으로 예측된 것(TP+FP) 중 얼마나 많은 샘플이 진짜 양성(TP)인지 측정\n",
    "model.evaluate(test_scaled, test_target)\n",
    "y_predict = model.predict(np.array(test_scaled))\n",
    "y_predict_list = [1 if i > 0.5 else 0 for i in y_predict[:, 0]]\n",
    "print(\"정밀도\", precision_score(test_target, y_predict_list)) \n",
    "print(\"재현율\", recall_score(test_target, y_predict_list))\n",
    "print(\"f1_acore\", f1_score(test_target, y_predict_list))\n",
    "print(\"roc_auc_score\", roc_auc_score(test_target, y_predict_list))\n",
    "\n",
    "print(\"confusion matrix\", confusion_matrix(test_target, y_predict_list))"
   ]
  },
  {
   "cell_type": "code",
   "execution_count": 81,
   "metadata": {},
   "outputs": [
    {
     "name": "stdout",
     "output_type": "stream",
     "text": [
      "1/1 [==============================] - 0s 17ms/step - loss: 0.4619 - accuracy: 0.8214\n",
      "1/1 [==============================] - 0s 15ms/step\n",
      "정밀도 1.0\n",
      "재현율 0.6875\n",
      "f1_acore 0.8148148148148148\n",
      "roc_auc_score 0.84375\n",
      "confusion matrix [[12  0]\n",
      " [ 5 11]]\n"
     ]
    }
   ],
   "source": [
    "data_test_target = df_new.iloc[240:, -1]\n",
    "model.evaluate(data_test_scaled, data_test_target)\n",
    "y_predict = model.predict(np.array(data_test_scaled))\n",
    "y_predict_list = [1 if i > 0.5 else 0 for i in y_predict[:, 0]]\n",
    "print(\"정밀도\", precision_score(data_test_target, y_predict_list)) \n",
    "print(\"재현율\", recall_score(data_test_target, y_predict_list))\n",
    "print(\"f1_acore\", f1_score(data_test_target, y_predict_list))\n",
    "print(\"roc_auc_score\", roc_auc_score(data_test_target, y_predict_list))\n",
    "\n",
    "print(\"confusion matrix\", confusion_matrix(data_test_target, y_predict_list))"
   ]
  },
  {
   "cell_type": "code",
   "execution_count": 82,
   "metadata": {},
   "outputs": [
    {
     "data": {
      "text/plain": [
       "[[0, array([0.3367064], dtype=float32)],\n",
       " [1, array([0.7426586], dtype=float32)],\n",
       " [1, array([0.5612608], dtype=float32)],\n",
       " [1, array([0.76346767], dtype=float32)],\n",
       " [1, array([0.7597178], dtype=float32)],\n",
       " [1, array([0.4982327], dtype=float32)],\n",
       " [0, array([0.13982785], dtype=float32)],\n",
       " [0, array([0.13967623], dtype=float32)],\n",
       " [1, array([0.7725481], dtype=float32)],\n",
       " [1, array([0.66395986], dtype=float32)],\n",
       " [1, array([0.23308164], dtype=float32)],\n",
       " [0, array([0.13436125], dtype=float32)],\n",
       " [1, array([0.6942699], dtype=float32)],\n",
       " [1, array([0.75925684], dtype=float32)],\n",
       " [0, array([0.25375473], dtype=float32)],\n",
       " [0, array([0.14842649], dtype=float32)],\n",
       " [1, array([0.14123891], dtype=float32)],\n",
       " [1, array([0.6767369], dtype=float32)],\n",
       " [0, array([0.1348637], dtype=float32)],\n",
       " [1, array([0.7649683], dtype=float32)],\n",
       " [0, array([0.13668679], dtype=float32)],\n",
       " [0, array([0.3180636], dtype=float32)],\n",
       " [0, array([0.13516393], dtype=float32)],\n",
       " [1, array([0.7734346], dtype=float32)],\n",
       " [0, array([0.15152493], dtype=float32)],\n",
       " [0, array([0.14398107], dtype=float32)],\n",
       " [1, array([0.20887136], dtype=float32)],\n",
       " [1, array([0.31222335], dtype=float32)]]"
      ]
     },
     "execution_count": 82,
     "metadata": {},
     "output_type": "execute_result"
    }
   ],
   "source": [
    "compare = [ [x, y] for x, y in zip(data_test_target, y_predict)]\n",
    "# compare = [ [x, y] for x, y in zip(test_target, y_predict_list)]\n",
    "compare # 실제값. 예측값"
   ]
  },
  {
   "cell_type": "code",
   "execution_count": 83,
   "metadata": {},
   "outputs": [
    {
     "data": {
      "text/plain": [
       "2023-01-18    0\n",
       "2023-01-19    1\n",
       "2023-01-20    1\n",
       "2023-01-25    1\n",
       "2023-01-26    1\n",
       "2023-01-27    1\n",
       "2023-01-30    0\n",
       "2023-01-31    0\n",
       "2023-02-01    1\n",
       "2023-02-02    1\n",
       "2023-02-03    1\n",
       "2023-02-06    0\n",
       "2023-02-07    1\n",
       "2023-02-08    1\n",
       "2023-02-09    0\n",
       "2023-02-10    0\n",
       "2023-02-13    1\n",
       "2023-02-14    1\n",
       "2023-02-15    0\n",
       "2023-02-16    1\n",
       "2023-02-17    0\n",
       "2023-02-21    0\n",
       "2023-02-22    0\n",
       "2023-02-23    1\n",
       "2023-02-24    0\n",
       "2023-02-27    0\n",
       "2023-02-28    1\n",
       "2023-03-02    1\n",
       "Name: close_cr_1, dtype: int64"
      ]
     },
     "execution_count": 83,
     "metadata": {},
     "output_type": "execute_result"
    }
   ],
   "source": [
    "df_new.iloc[240:, -1]"
   ]
  },
  {
   "cell_type": "code",
   "execution_count": 61,
   "metadata": {},
   "outputs": [
    {
     "data": {
      "text/plain": [
       "array([[-3.50784510e-01,  2.77703792e-02, -8.90450586e-02,\n",
       "        -9.37081310e-02, -1.12206335e-01, -1.08605319e-02,\n",
       "        -1.86273202e+00, -9.96408142e-01, -1.02419784e+00,\n",
       "        -1.57586626e+00],\n",
       "       [ 4.84281449e-01, -6.74190130e-01, -5.26381823e-02,\n",
       "        -4.94643199e-01, -5.46781386e-01, -1.36066940e-01,\n",
       "         2.37554273e-01, -4.82961112e-01, -4.91334724e-01,\n",
       "        -2.08727297e+00],\n",
       "       [ 5.86534423e-01, -4.20289520e-01, -7.28550355e-02,\n",
       "        -1.27119387e-01, -2.22772086e-01, -4.28606200e-01,\n",
       "         8.66536684e-01,  1.21783217e+00,  1.21772625e+00,\n",
       "         1.09836466e+00],\n",
       "       [ 1.23413660e+00, -1.70356108e-02, -7.82411033e-02,\n",
       "        -4.61231943e-01,  1.75391190e+00,  1.14154663e-02,\n",
       "        -7.87760622e-02, -8.02260984e-03, -3.95992028e-03,\n",
       "        -6.96885977e-01],\n",
       "       [ 1.45568471e+00, -1.06647591e-01, -8.05193234e-02,\n",
       "         3.23932564e-01,  1.49457392e+00,  3.50610575e-01,\n",
       "         5.46528089e-01,  7.10803232e-01,  7.10856459e-01,\n",
       "         9.71095641e-04],\n",
       "       [ 5.78013342e-01, -2.85871551e-01, -5.29757335e+00,\n",
       "         9.00537749e-02,  3.10213822e-01,  7.40865266e-03,\n",
       "        -2.36021665e-02,  1.65265763e-01,  1.45501686e-01,\n",
       "         8.42661306e-01],\n",
       "       [-1.10063966e+00,  2.06994339e-01, -6.66279247e-02,\n",
       "         5.57811354e-01,  6.21258710e-01,  1.16248798e-01,\n",
       "         2.89049909e-01, -8.29537857e-01, -8.16251260e-01,\n",
       "        -7.92774736e-01],\n",
       "       [-8.36486139e-01,  2.06994339e-01, -1.17670037e-02,\n",
       "        -3.27586920e-01,  5.12232105e-01, -3.01438433e-02,\n",
       "        -3.65680320e-01,  9.41854395e-01,  9.38298034e-01,\n",
       "         1.28481502e+00],\n",
       "       [ 9.18856591e-01, -1.34627998e+00, -8.06480111e-02,\n",
       "        -1.49698087e+00, -1.43749786e+00,  5.23930945e+00,\n",
       "        -1.02041055e+00,  6.78712792e-01,  6.78364805e-01,\n",
       "        -1.28287283e+00],\n",
       "       [ 7.14350641e-01,  2.81670989e-01, -5.94333983e-02,\n",
       "         8.58512654e-01, -9.45777559e-01, -2.36612433e-02,\n",
       "        -1.96480373e-01,  9.48272483e-01,  9.38298034e-01,\n",
       "        -5.42398534e-01],\n",
       "       [ 4.50197124e-01,  2.74600044e+00,  2.70633959e-02,\n",
       "         1.89426158e+00,  6.33240360e-01, -1.14494097e+00,\n",
       "         1.23068440e+00, -6.62667573e-01, -6.66789654e-01,\n",
       "        -9.95206558e-01],\n",
       "       [-1.39887750e+00,  1.52130338e+00, -8.08631771e-02,\n",
       "         1.15921395e+00,  7.32355440e-01,  1.49915032e-04,\n",
       "         8.07684528e-01, -3.86689794e-01, -3.67866441e-01,\n",
       "         2.11052377e+00],\n",
       "       [ 5.18365774e-01, -5.54707490e-01, -9.07227038e-02,\n",
       "        -3.60998176e-01, -1.14790241e+00, -2.08760631e-01,\n",
       "         3.22154246e-01,  8.32746901e-01,  8.34324743e-01,\n",
       "         3.41908902e-01],\n",
       "       [ 1.15744686e+00,  5.50506929e-01, -8.51618062e-02,\n",
       "        -9.37081310e-02, -9.56277487e-01, -1.91180234e-02,\n",
       "        -6.74654135e-01, -7.07594188e-01, -6.92782977e-01,\n",
       "         2.93964523e-01],\n",
       "       [-2.69834238e-02,  4.60894949e-01, -5.61429426e-02,\n",
       "        -3.10881293e-01,  9.62558296e-01, -3.91405039e-01,\n",
       "         4.50893336e-01, -5.59978167e-01, -6.01806346e-01,\n",
       "         6.24248024e-01],\n",
       "       [-3.59305591e-01,  3.41412309e-01, -7.32081740e-02,\n",
       "         6.58045121e-01,  2.07881191e-01, -2.23368083e-02,\n",
       "         7.63545412e-01,  1.46011499e-01,  1.39003356e-01,\n",
       "         8.08783941e-02],\n",
       "       [-5.38248296e-01,  6.25183579e-01, -8.45292722e-02,\n",
       "        -5.11348826e-01, -4.25770545e-01, -2.06356429e-01,\n",
       "        -4.13497696e-01,  7.36475583e-01,  7.62843105e-01,\n",
       "         1.22088919e+00],\n",
       "       [ 5.01323611e-01, -6.18416007e-02, -1.29345305e-01,\n",
       "        -2.44058781e-01,  3.14728168e-01, -7.05228211e-02,\n",
       "         4.54571596e-01, -1.44406977e-02, -1.69565817e-02,\n",
       "        -5.58379993e-01],\n",
       "       [-1.25401912e+00,  1.28233810e+00, -7.91724956e-02,\n",
       "         1.10909707e+00,  7.35866439e-01,  6.27688386e-01,\n",
       "         4.50893336e-01,  1.84520026e-01,  2.10484993e-01,\n",
       "         9.86494443e-01],\n",
       "       [ 1.71983822e+00,  6.84924899e-01, -8.46458191e-02,\n",
       "        -1.27119387e-01,  3.09720115e-01, -1.23384802e-01,\n",
       "         5.42849829e-01, -8.80882560e-01, -9.07227890e-01,\n",
       "         1.98075765e-01],\n",
       "       [-7.85359652e-01,  7.14795559e-01, -1.02771331e-01,\n",
       "        -6.02968754e-02, -1.45993470e+00, -1.99420610e-01,\n",
       "        -4.76028111e-01, -1.74892894e-01, -1.85913180e-01,\n",
       "         2.29697414e+00],\n",
       "       [ 1.86043606e-01,  1.10311414e+00, -7.76602672e-02,\n",
       "         4.90988842e-01, -3.78402303e-03, -1.56342905e-02,\n",
       "         9.47458397e-01, -1.27880401e+00, -1.12167280e+00,\n",
       "        -3.23985251e-01],\n",
       "       [-1.38183534e+00, -3.75483530e-01, -9.33719855e-02,\n",
       "         6.07928237e-01, -2.15112727e-01,  5.57712697e-01,\n",
       "        -2.92115125e-01, -9.78758400e-02, -1.01434881e-01,\n",
       "         6.66865249e-01],\n",
       "       [ 8.08082535e-01, -5.69642820e-01, -1.22638809e-01,\n",
       "        -1.01799919e-02, -1.27580081e+00,  1.03994847e-01,\n",
       "        -3.84071618e-01,  3.44972223e-01,  3.27454946e-01,\n",
       "        -8.62027728e-01],\n",
       "       [-4.87121809e-01,  1.89468663e+00, -8.18950316e-02,\n",
       "         9.42040793e-01,  2.12355415e-01, -9.00214823e-02,\n",
       "         4.98710713e-01, -6.69085660e-01, -6.86284646e-01,\n",
       "        -8.19410502e-01],\n",
       "       [-6.91627758e-01,  3.11541649e-01, -6.62348694e-02,\n",
       "        -8.95578266e-01,  6.42532449e-01, -7.15945297e-02,\n",
       "        -1.63376036e-01,  2.03774290e-01,  2.10484993e-01,\n",
       "         1.31677794e+00],\n",
       "       [ 4.07591718e-01,  6.25183579e-01, -1.14023649e-01,\n",
       "         2.73815681e-01, -1.60401381e+00,  1.80260218e-01,\n",
       "         1.68586903e-02, -1.87729070e-01, -1.92411511e-01,\n",
       "         2.09454231e+00],\n",
       "       [ 5.78013342e-01,  6.25183579e-01, -8.45966315e-02,\n",
       "         8.58512654e-01, -3.78402303e-03, -4.93930708e-02,\n",
       "         5.79632426e-01,  4.92588244e-01,  4.70418222e-01,\n",
       "         1.11967327e+00]])"
      ]
     },
     "execution_count": 61,
     "metadata": {},
     "output_type": "execute_result"
    }
   ],
   "source": [
    "data_test_scaled"
   ]
  },
  {
   "cell_type": "code",
   "execution_count": 59,
   "metadata": {},
   "outputs": [
    {
     "data": {
      "text/plain": [
       "0"
      ]
     },
     "execution_count": 59,
     "metadata": {},
     "output_type": "execute_result"
    }
   ],
   "source": [
    "earlystopping_cb.stopped_epoch"
   ]
  },
  {
   "cell_type": "code",
   "execution_count": null,
   "metadata": {
    "scrolled": true
   },
   "outputs": [],
   "source": [
    "# model_val = load_model('best_model/best_model_1736-0.26-0.88.h5')\n",
    "# model_val.evaluate(test_scaled, test_target)"
   ]
  },
  {
   "cell_type": "markdown",
   "metadata": {},
   "source": [
    "1. 정밀도, f1-score, \n",
    "2. confusion matrix ((1,1), (2,2), 두개가 큰 비중이면 good, (1,2)은 틀린것을 맞다라고 구분, (2,1)은 맞는 것을 틀린 것이다 라고 결정하는 항목) 따라서\n",
    "    (2,2) -> (1,2) -> (1,1)로 확인하고. <br>\n",
    "    (1,2)가 크면 모델 제외 (정밀도(precision = TP / (TP + FP) )가 높아야 함. 낮으면 손해를 보게 됨.), <br>\n",
    "    재현율(Recall = TP / (TP + FN) ) 은 손해를 끼치지는 않음.\n",
    "    \n",
    "<img src=\"https://raw.githubusercontent.com/fasthill/My-gist/main/data/picture/confusion_matrix.png\" width=\"800\"/> <br>"
   ]
  },
  {
   "cell_type": "code",
   "execution_count": null,
   "metadata": {},
   "outputs": [],
   "source": [
    "def scheduler(epoch, lr):\n",
    "    m = epoch//500\n",
    "    return lr * tf.math.exp(-0.05*m)\n",
    "#     if epoch < 500:\n",
    "#         return lr\n",
    "#     else:\n",
    "#         return lr * tf.math.exp(-0.1)"
   ]
  },
  {
   "cell_type": "code",
   "execution_count": null,
   "metadata": {},
   "outputs": [],
   "source": [
    "scheduler(500, 1)\n"
   ]
  },
  {
   "cell_type": "code",
   "execution_count": null,
   "metadata": {},
   "outputs": [],
   "source": [
    "m= 1//2\n",
    "m"
   ]
  },
  {
   "cell_type": "code",
   "execution_count": null,
   "metadata": {},
   "outputs": [],
   "source": [
    "m"
   ]
  },
  {
   "cell_type": "code",
   "execution_count": null,
   "metadata": {},
   "outputs": [],
   "source": []
  }
 ],
 "metadata": {
  "colab": {
   "collapsed_sections": [],
   "name": "4-1 로지스틱 회귀.ipynb",
   "provenance": []
  },
  "kernelspec": {
   "display_name": "Python 3 (ipykernel)",
   "language": "python",
   "name": "python3"
  },
  "language_info": {
   "codemirror_mode": {
    "name": "ipython",
    "version": 3
   },
   "file_extension": ".py",
   "mimetype": "text/x-python",
   "name": "python",
   "nbconvert_exporter": "python",
   "pygments_lexer": "ipython3",
   "version": "3.9.1"
  }
 },
 "nbformat": 4,
 "nbformat_minor": 1
}
