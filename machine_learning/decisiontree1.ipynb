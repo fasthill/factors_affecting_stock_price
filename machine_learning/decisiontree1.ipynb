{
 "cells": [
  {
   "cell_type": "markdown",
   "metadata": {
    "colab_type": "text",
    "id": "view-in-github"
   },
   "source": [
    "<a href=\"https://colab.research.google.com/github/fasthill/ML-DL-study-alone/blob/main/5-2%20%EA%B5%90%EC%B0%A8%20%EA%B2%80%EC%A6%9D%EA%B3%BC%20%EA%B7%B8%EB%A6%AC%EB%93%9C%20%EC%84%9C%EC%B9%98.ipynb\" target=\"_parent\"><img src=\"https://colab.research.google.com/assets/colab-badge.svg\" alt=\"Open In Colab\"/></a>"
   ]
  },
  {
   "cell_type": "markdown",
   "metadata": {
    "id": "rOafwFRXG7fb"
   },
   "source": [
    "# 교차 검증과 그리드 서치"
   ]
  },
  {
   "cell_type": "markdown",
   "metadata": {
    "id": "dVNF7yZjyvoO"
   },
   "source": [
    "## 검증 세트"
   ]
  },
  {
   "cell_type": "code",
   "execution_count": 116,
   "metadata": {
    "id": "2QcCN4pyKqPa"
   },
   "outputs": [],
   "source": [
    "import numpy as np\n",
    "import pandas as pd\n",
    "import matplotlib.pyplot as plt\n",
    "import multiprocessing\n",
    "import random\n",
    "\n",
    "from sklearn.preprocessing import StandardScaler\n",
    "from sklearn.model_selection import train_test_split, cross_validate, GridSearchCV, RandomizedSearchCV\n",
    "from sklearn.tree import DecisionTreeClassifier\n",
    "\n",
    "import matplotlib.pyplot as plt\n",
    "import seaborn as sns"
   ]
  },
  {
   "cell_type": "code",
   "execution_count": 3,
   "metadata": {},
   "outputs": [],
   "source": [
    "# 분석용 데이터 입력\n",
    "directory_for_ml = '../data/data_for_ml/'\n",
    "fname = 'df_sec_sel.pkl'\n",
    "f_name = directory_for_ml + fname\n",
    "df = pd.read_pickle(f_name)"
   ]
  },
  {
   "cell_type": "code",
   "execution_count": 132,
   "metadata": {},
   "outputs": [],
   "source": [
    "data = df.iloc[:, :-2]\n",
    "target = df.iloc[:, -1]"
   ]
  },
  {
   "cell_type": "code",
   "execution_count": 71,
   "metadata": {},
   "outputs": [],
   "source": [
    "data = df.iloc[:, [7,8,9,10,11,17]]\n",
    "target = df.iloc[:, -1]"
   ]
  },
  {
   "cell_type": "code",
   "execution_count": 118,
   "metadata": {},
   "outputs": [],
   "source": [
    "data = df.iloc[:, [4, 5, 7,8,9,10, 12,13,14,15,16]]\n",
    "target = df.iloc[:, -1]"
   ]
  },
  {
   "cell_type": "code",
   "execution_count": 7,
   "metadata": {},
   "outputs": [],
   "source": [
    "cc = data.columns[:-3]"
   ]
  },
  {
   "cell_type": "code",
   "execution_count": 44,
   "metadata": {},
   "outputs": [
    {
     "data": {
      "text/plain": [
       "Index(['retail', 'foreigner', 'institution', 'financial', 'invtrust',\n",
       "       'pension', 'privequity', 'open', 'high', 'low', 'close', 'vol',\n",
       "       'dji_cr', 'ixic_cr', 'spx_cr'],\n",
       "      dtype='object')"
      ]
     },
     "execution_count": 44,
     "metadata": {},
     "output_type": "execute_result"
    }
   ],
   "source": [
    "cc"
   ]
  },
  {
   "cell_type": "code",
   "execution_count": 106,
   "metadata": {},
   "outputs": [
    {
     "data": {
      "text/html": [
       "<div>\n",
       "<style scoped>\n",
       "    .dataframe tbody tr th:only-of-type {\n",
       "        vertical-align: middle;\n",
       "    }\n",
       "\n",
       "    .dataframe tbody tr th {\n",
       "        vertical-align: top;\n",
       "    }\n",
       "\n",
       "    .dataframe thead th {\n",
       "        text-align: right;\n",
       "    }\n",
       "</style>\n",
       "<table border=\"1\" class=\"dataframe\">\n",
       "  <thead>\n",
       "    <tr style=\"text-align: right;\">\n",
       "      <th></th>\n",
       "      <th>retail</th>\n",
       "      <th>foreigner</th>\n",
       "      <th>institution</th>\n",
       "      <th>financial</th>\n",
       "      <th>invtrust</th>\n",
       "      <th>pension</th>\n",
       "      <th>privequity</th>\n",
       "      <th>dji_cr</th>\n",
       "      <th>ixic_cr</th>\n",
       "      <th>spx_cr</th>\n",
       "      <th>weekday</th>\n",
       "    </tr>\n",
       "  </thead>\n",
       "  <tbody>\n",
       "    <tr>\n",
       "      <th>2022-06-21</th>\n",
       "      <td>-0.674957</td>\n",
       "      <td>-0.407361</td>\n",
       "      <td>2.593047</td>\n",
       "      <td>0.295068</td>\n",
       "      <td>-0.938927</td>\n",
       "      <td>-0.883900</td>\n",
       "      <td>-0.821502</td>\n",
       "      <td>2.16</td>\n",
       "      <td>2.51</td>\n",
       "      <td>2.45</td>\n",
       "      <td>0</td>\n",
       "    </tr>\n",
       "    <tr>\n",
       "      <th>2022-06-22</th>\n",
       "      <td>-0.226413</td>\n",
       "      <td>-0.166064</td>\n",
       "      <td>-0.135501</td>\n",
       "      <td>0.034853</td>\n",
       "      <td>3.990909</td>\n",
       "      <td>4.034743</td>\n",
       "      <td>-0.044910</td>\n",
       "      <td>-0.16</td>\n",
       "      <td>-0.15</td>\n",
       "      <td>-0.13</td>\n",
       "      <td>1</td>\n",
       "    </tr>\n",
       "    <tr>\n",
       "      <th>2022-06-23</th>\n",
       "      <td>-0.115765</td>\n",
       "      <td>-0.743679</td>\n",
       "      <td>-1.316192</td>\n",
       "      <td>-1.102356</td>\n",
       "      <td>-0.227930</td>\n",
       "      <td>0.236304</td>\n",
       "      <td>-4.804075</td>\n",
       "      <td>0.64</td>\n",
       "      <td>1.62</td>\n",
       "      <td>0.95</td>\n",
       "      <td>2</td>\n",
       "    </tr>\n",
       "    <tr>\n",
       "      <th>2022-06-24</th>\n",
       "      <td>-1.523278</td>\n",
       "      <td>3.064922</td>\n",
       "      <td>-8.766880</td>\n",
       "      <td>-20.769609</td>\n",
       "      <td>-2.370714</td>\n",
       "      <td>-0.040771</td>\n",
       "      <td>-0.727922</td>\n",
       "      <td>2.69</td>\n",
       "      <td>3.34</td>\n",
       "      <td>3.06</td>\n",
       "      <td>3</td>\n",
       "    </tr>\n",
       "    <tr>\n",
       "      <th>2022-06-27</th>\n",
       "      <td>0.124675</td>\n",
       "      <td>-0.502665</td>\n",
       "      <td>-0.416763</td>\n",
       "      <td>-0.363348</td>\n",
       "      <td>-0.698910</td>\n",
       "      <td>0.104842</td>\n",
       "      <td>2.208481</td>\n",
       "      <td>-0.20</td>\n",
       "      <td>-0.72</td>\n",
       "      <td>-0.30</td>\n",
       "      <td>4</td>\n",
       "    </tr>\n",
       "  </tbody>\n",
       "</table>\n",
       "</div>"
      ],
      "text/plain": [
       "              retail  foreigner  institution  financial  invtrust   pension  \\\n",
       "2022-06-21 -0.674957  -0.407361     2.593047   0.295068 -0.938927 -0.883900   \n",
       "2022-06-22 -0.226413  -0.166064    -0.135501   0.034853  3.990909  4.034743   \n",
       "2022-06-23 -0.115765  -0.743679    -1.316192  -1.102356 -0.227930  0.236304   \n",
       "2022-06-24 -1.523278   3.064922    -8.766880 -20.769609 -2.370714 -0.040771   \n",
       "2022-06-27  0.124675  -0.502665    -0.416763  -0.363348 -0.698910  0.104842   \n",
       "\n",
       "            privequity  dji_cr  ixic_cr  spx_cr  weekday  \n",
       "2022-06-21   -0.821502    2.16     2.51    2.45        0  \n",
       "2022-06-22   -0.044910   -0.16    -0.15   -0.13        1  \n",
       "2022-06-23   -4.804075    0.64     1.62    0.95        2  \n",
       "2022-06-24   -0.727922    2.69     3.34    3.06        3  \n",
       "2022-06-27    2.208481   -0.20    -0.72   -0.30        4  "
      ]
     },
     "execution_count": 106,
     "metadata": {},
     "output_type": "execute_result"
    }
   ],
   "source": [
    "data.head()"
   ]
  },
  {
   "cell_type": "code",
   "execution_count": 41,
   "metadata": {},
   "outputs": [],
   "source": [
    "sample_list = np.random.choice(15, 6, replace=False) # 중복허용하지 않음."
   ]
  },
  {
   "cell_type": "code",
   "execution_count": 42,
   "metadata": {},
   "outputs": [
    {
     "data": {
      "text/plain": [
       "array([ 2,  3,  8,  9, 10, 13])"
      ]
     },
     "execution_count": 42,
     "metadata": {},
     "output_type": "execute_result"
    }
   ],
   "source": [
    "aa = np.sort(sample_list)\n",
    "aa"
   ]
  },
  {
   "cell_type": "code",
   "execution_count": 43,
   "metadata": {},
   "outputs": [
    {
     "name": "stdout",
     "output_type": "stream",
     "text": [
      "[ 2  6  7  8 11 14]\n",
      "[ 3  5  7  8  9 12]\n",
      "[ 0  1  3  6 10 13]\n",
      "[ 1  5  8  9 10 13]\n",
      "[ 0  4  8 12 13 14]\n",
      "[ 1  2  5  6  9 13]\n",
      "[ 2  3  6  8  9 13]\n",
      "[ 4  6  7  8 10 13]\n",
      "[ 2  3  4  5  8 11]\n",
      "[ 2  4  5  6  9 12]\n"
     ]
    }
   ],
   "source": [
    "for i in range(10):\n",
    "    sample_list = np.random.choice(15, 6, replace=False)\n",
    "    aa = np.sort(sample_list)\n",
    "    print(aa)\n",
    "    "
   ]
  },
  {
   "cell_type": "code",
   "execution_count": null,
   "metadata": {},
   "outputs": [],
   "source": [
    "data = df.iloc[:, :-2]\n",
    "target = df.iloc[:, -1]"
   ]
  },
  {
   "cell_type": "code",
   "execution_count": 117,
   "metadata": {},
   "outputs": [
    {
     "data": {
      "text/plain": [
       "<AxesSubplot:>"
      ]
     },
     "execution_count": 117,
     "metadata": {},
     "output_type": "execute_result"
    },
    {
     "data": {
      "image/png": "[encoded data removed]",
      "text/plain": [
       "<Figure size 640x480 with 2 Axes>"
      ]
     },
     "metadata": {},
     "output_type": "display_data"
    }
   ],
   "source": [
    "sns.heatmap(df.corr())"
   ]
  },
  {
   "cell_type": "code",
   "execution_count": null,
   "metadata": {},
   "outputs": [],
   "source": [
    "[4, 5, 7,8,9,10, 12,13,14,15,16]"
   ]
  },
  {
   "cell_type": "code",
   "execution_count": null,
   "metadata": {},
   "outputs": [],
   "source": []
  },
  {
   "cell_type": "code",
   "execution_count": null,
   "metadata": {},
   "outputs": [],
   "source": []
  },
  {
   "cell_type": "code",
   "execution_count": 133,
   "metadata": {},
   "outputs": [],
   "source": [
    "rand_num = 42\n",
    "train_input, test_input, train_target, test_target = train_test_split(data, target, test_size=0.2, random_state=rand_num, stratify=target)"
   ]
  },
  {
   "cell_type": "code",
   "execution_count": 134,
   "metadata": {},
   "outputs": [],
   "source": [
    "sts = StandardScaler()\n",
    "sts.fit(train_input)\n",
    "train_scaled = sts.transform(train_input)\n",
    "test_scaled = sts.transform(test_input)"
   ]
  },
  {
   "cell_type": "markdown",
   "metadata": {
    "id": "CIjh8RhrcJKB"
   },
   "source": [
    "훈련세트가 2만이 넘는다면 훈련세트로만 전체를 사용하고 val set는 없어도 되고, 데이터가 충분히 많다면 val set는 5~ 10%만 지정해서 사용해도 됨"
   ]
  },
  {
   "cell_type": "code",
   "execution_count": 135,
   "metadata": {
    "colab": {
     "base_uri": "https://localhost:8080/"
    },
    "id": "KPv-cYw0KqZE",
    "outputId": "8f7fa052-4810-4a4e-f006-389c29d8b83d"
   },
   "outputs": [
    {
     "name": "stdout",
     "output_type": "stream",
     "text": [
      "(127, 18) (32, 18)\n"
     ]
    }
   ],
   "source": [
    "print(train_input.shape, test_input.shape)"
   ]
  },
  {
   "cell_type": "code",
   "execution_count": 136,
   "metadata": {
    "colab": {
     "base_uri": "https://localhost:8080/"
    },
    "id": "zbkilkarbP75",
    "outputId": "01608c37-db4a-4923-bc1a-20f7518f7907"
   },
   "outputs": [
    {
     "data": {
      "text/html": [
       "<style>#sk-container-id-10 {color: black;background-color: white;}#sk-container-id-10 pre{padding: 0;}#sk-container-id-10 div.sk-toggleable {background-color: white;}#sk-container-id-10 label.sk-toggleable__label {cursor: pointer;display: block;width: 100%;margin-bottom: 0;padding: 0.3em;box-sizing: border-box;text-align: center;}#sk-container-id-10 label.sk-toggleable__label-arrow:before {content: \"▸\";float: left;margin-right: 0.25em;color: #696969;}#sk-container-id-10 label.sk-toggleable__label-arrow:hover:before {color: black;}#sk-container-id-10 div.sk-estimator:hover label.sk-toggleable__label-arrow:before {color: black;}#sk-container-id-10 div.sk-toggleable__content {max-height: 0;max-width: 0;overflow: hidden;text-align: left;background-color: #f0f8ff;}#sk-container-id-10 div.sk-toggleable__content pre {margin: 0.2em;color: black;border-radius: 0.25em;background-color: #f0f8ff;}#sk-container-id-10 input.sk-toggleable__control:checked~div.sk-toggleable__content {max-height: 200px;max-width: 100%;overflow: auto;}#sk-container-id-10 input.sk-toggleable__control:checked~label.sk-toggleable__label-arrow:before {content: \"▾\";}#sk-container-id-10 div.sk-estimator input.sk-toggleable__control:checked~label.sk-toggleable__label {background-color: #d4ebff;}#sk-container-id-10 div.sk-label input.sk-toggleable__control:checked~label.sk-toggleable__label {background-color: #d4ebff;}#sk-container-id-10 input.sk-hidden--visually {border: 0;clip: rect(1px 1px 1px 1px);clip: rect(1px, 1px, 1px, 1px);height: 1px;margin: -1px;overflow: hidden;padding: 0;position: absolute;width: 1px;}#sk-container-id-10 div.sk-estimator {font-family: monospace;background-color: #f0f8ff;border: 1px dotted black;border-radius: 0.25em;box-sizing: border-box;margin-bottom: 0.5em;}#sk-container-id-10 div.sk-estimator:hover {background-color: #d4ebff;}#sk-container-id-10 div.sk-parallel-item::after {content: \"\";width: 100%;border-bottom: 1px solid gray;flex-grow: 1;}#sk-container-id-10 div.sk-label:hover label.sk-toggleable__label {background-color: #d4ebff;}#sk-container-id-10 div.sk-serial::before {content: \"\";position: absolute;border-left: 1px solid gray;box-sizing: border-box;top: 0;bottom: 0;left: 50%;z-index: 0;}#sk-container-id-10 div.sk-serial {display: flex;flex-direction: column;align-items: center;background-color: white;padding-right: 0.2em;padding-left: 0.2em;position: relative;}#sk-container-id-10 div.sk-item {position: relative;z-index: 1;}#sk-container-id-10 div.sk-parallel {display: flex;align-items: stretch;justify-content: center;background-color: white;position: relative;}#sk-container-id-10 div.sk-item::before, #sk-container-id-10 div.sk-parallel-item::before {content: \"\";position: absolute;border-left: 1px solid gray;box-sizing: border-box;top: 0;bottom: 0;left: 50%;z-index: -1;}#sk-container-id-10 div.sk-parallel-item {display: flex;flex-direction: column;z-index: 1;position: relative;background-color: white;}#sk-container-id-10 div.sk-parallel-item:first-child::after {align-self: flex-end;width: 50%;}#sk-container-id-10 div.sk-parallel-item:last-child::after {align-self: flex-start;width: 50%;}#sk-container-id-10 div.sk-parallel-item:only-child::after {width: 0;}#sk-container-id-10 div.sk-dashed-wrapped {border: 1px dashed gray;margin: 0 0.4em 0.5em 0.4em;box-sizing: border-box;padding-bottom: 0.4em;background-color: white;}#sk-container-id-10 div.sk-label label {font-family: monospace;font-weight: bold;display: inline-block;line-height: 1.2em;}#sk-container-id-10 div.sk-label-container {text-align: center;}#sk-container-id-10 div.sk-container {/* jupyter's `normalize.less` sets `[hidden] { display: none; }` but bootstrap.min.css set `[hidden] { display: none !important; }` so we also need the `!important` here to be able to override the default hidden behavior on the sphinx rendered scikit-learn.org. See: https://github.com/scikit-learn/scikit-learn/issues/21755 */display: inline-block !important;position: relative;}#sk-container-id-10 div.sk-text-repr-fallback {display: none;}</style><div id=\"sk-container-id-10\" class=\"sk-top-container\"><div class=\"sk-text-repr-fallback\"><pre>DecisionTreeClassifier(random_state=42)</pre><b>In a Jupyter environment, please rerun this cell to show the HTML representation or trust the notebook. <br />On GitHub, the HTML representation is unable to render, please try loading this page with nbviewer.org.</b></div><div class=\"sk-container\" hidden><div class=\"sk-item\"><div class=\"sk-estimator sk-toggleable\"><input class=\"sk-toggleable__control sk-hidden--visually\" id=\"sk-estimator-id-10\" type=\"checkbox\" checked><label for=\"sk-estimator-id-10\" class=\"sk-toggleable__label sk-toggleable__label-arrow\">DecisionTreeClassifier</label><div class=\"sk-toggleable__content\"><pre>DecisionTreeClassifier(random_state=42)</pre></div></div></div></div></div>"
      ],
      "text/plain": [
       "DecisionTreeClassifier(random_state=42)"
      ]
     },
     "execution_count": 136,
     "metadata": {},
     "output_type": "execute_result"
    }
   ],
   "source": [
    "dt = DecisionTreeClassifier(random_state=rand_num)\n",
    "dt.fit(train_scaled, train_target)"
   ]
  },
  {
   "cell_type": "code",
   "execution_count": 137,
   "metadata": {
    "colab": {
     "base_uri": "https://localhost:8080/"
    },
    "id": "lVI2IWG9bP_L",
    "outputId": "54420a9b-2402-4ef7-fc7f-0e5bbe462d0b"
   },
   "outputs": [
    {
     "name": "stdout",
     "output_type": "stream",
     "text": [
      "train_score : 1.0 \n",
      "test_score : 0.8125\n"
     ]
    }
   ],
   "source": [
    "train_score = dt.score(train_scaled, train_target)\n",
    "test_score = dt.score(test_scaled, test_target)\n",
    "print('train_score : {} \\ntest_score : {}'.format(train_score, test_score))"
   ]
  },
  {
   "cell_type": "markdown",
   "metadata": {
    "id": "Z4gRXnK6y2Pt"
   },
   "source": [
    "## 교차 검증 <br>\n",
    "ML에서는 샘플수가 충분히 많지 않기 때문에 교차검증을 시행하여 최적의 파마미터을 찾게 되지만, 딥러닝에서는 샘플 수가 충분하여 교차검증을 하지 않고, 훈련세트와 검증세트로만 나누어 사용함 <br>\n",
    "따라서, tensorflow, keras같은 경우는 gridsearchcv와 같은 기능이 그렇게 많지 않음. tensorflow, keras는 데이터을 읽어들이는 도구들이 많이 발달되어 있음."
   ]
  },
  {
   "cell_type": "code",
   "execution_count": 143,
   "metadata": {
    "id": "p5Y44bWyfHzU"
   },
   "outputs": [],
   "source": [
    "from sklearn.model_selection import cross_validate"
   ]
  },
  {
   "cell_type": "code",
   "execution_count": 144,
   "metadata": {
    "id": "935elhlFfX8Z"
   },
   "outputs": [],
   "source": [
    "dt = DecisionTreeClassifier(random_state=rand_num)"
   ]
  },
  {
   "cell_type": "code",
   "execution_count": 145,
   "metadata": {
    "colab": {
     "base_uri": "https://localhost:8080/"
    },
    "id": "eguYNhoCfH2i",
    "outputId": "2276b96e-3b22-4a8c-c15f-0252122de1f1"
   },
   "outputs": [
    {
     "name": "stderr",
     "output_type": "stream",
     "text": [
      "[Parallel(n_jobs=16)]: Using backend LokyBackend with 16 concurrent workers.\n",
      "[Parallel(n_jobs=16)]: Done  10 out of  10 | elapsed:    0.0s finished\n"
     ]
    }
   ],
   "source": [
    "scores = cross_validate(dt,\n",
    "                        X = train_scaled, y=train_target,\n",
    "                        cv=10, n_jobs=multiprocessing.cpu_count(),\n",
    "                        verbose=1)"
   ]
  },
  {
   "cell_type": "code",
   "execution_count": 146,
   "metadata": {
    "colab": {
     "base_uri": "https://localhost:8080/"
    },
    "id": "AYQfIIM9fH5g",
    "outputId": "2e753893-89b8-450a-ecdb-a5c59777dc94"
   },
   "outputs": [
    {
     "data": {
      "text/plain": [
       "{'fit_time': array([0.00100017, 0.00150871, 0.00099993, 0.00099993, 0.00200009,\n",
       "        0.00199986, 0.00199986, 0.00099969, 0.00100064, 0.00100064]),\n",
       " 'score_time': array([0.        , 0.        , 0.        , 0.00100017, 0.        ,\n",
       "        0.        , 0.        , 0.        , 0.        , 0.        ]),\n",
       " 'test_score': array([0.53846154, 0.76923077, 0.76923077, 0.61538462, 0.61538462,\n",
       "        0.61538462, 0.61538462, 0.83333333, 0.66666667, 0.66666667])}"
      ]
     },
     "execution_count": 146,
     "metadata": {},
     "output_type": "execute_result"
    }
   ],
   "source": [
    "scores"
   ]
  },
  {
   "cell_type": "code",
   "execution_count": 147,
   "metadata": {
    "colab": {
     "base_uri": "https://localhost:8080/"
    },
    "id": "8hYUXO3QfH8_",
    "outputId": "3608bf99-6967-4e64-bef6-8a2ecf154062"
   },
   "outputs": [
    {
     "name": "stdout",
     "output_type": "stream",
     "text": [
      "test score : 0.6705128205128206 (+/- 0.08696239939544421\n"
     ]
    }
   ],
   "source": [
    "print(\"test score : {} (+/- {}\".format(scores['test_score'].mean(), scores['test_score'].std()))"
   ]
  },
  {
   "cell_type": "markdown",
   "metadata": {
    "id": "3NXvvjSmCr_o"
   },
   "source": [
    "'# dt.score(test_input, test_target) <br>\n",
    "cross_validate에서의 fit기능은 무엇인가? <br>\n",
    ".fit는 언제하는가?"
   ]
  },
  {
   "cell_type": "markdown",
   "metadata": {
    "id": "CUEXzX4Ys4o9"
   },
   "source": [
    "#### 분류기(splitter) 사용 <br>\n",
    "클라스가 고르게 섞이게 하기 위하여 사용 <br>\n",
    "회귀모델에서는 KFold() 객체, 분류모델에서는 StratifiedKFold() 사용 <br>\n",
    "cross_validate method에서는 estimator에 따라 분류인지, 회귀인지를 확인하고, cv를 StratifiedKFlod()를 사용할지 KFold를 사용할 지 자동으로 결정하여 진행함."
   ]
  },
  {
   "cell_type": "code",
   "execution_count": 148,
   "metadata": {
    "colab": {
     "base_uri": "https://localhost:8080/"
    },
    "id": "gR5WDm4kfICl",
    "outputId": "fd82e35c-fac5-4480-a2a3-003cd144c9d7"
   },
   "outputs": [
    {
     "name": "stderr",
     "output_type": "stream",
     "text": [
      "[Parallel(n_jobs=16)]: Using backend LokyBackend with 16 concurrent workers.\n",
      "[Parallel(n_jobs=16)]: Done  10 out of  10 | elapsed:    0.0s finished\n"
     ]
    }
   ],
   "source": [
    "from sklearn.model_selection import StratifiedKFold\n",
    "scores = cross_validate(dt,\n",
    "                        X = train_scaled, y=train_target,\n",
    "                        cv=StratifiedKFold(10), \n",
    "                        n_jobs=multiprocessing.cpu_count(),\n",
    "                        verbose=1)"
   ]
  },
  {
   "cell_type": "code",
   "execution_count": 149,
   "metadata": {
    "colab": {
     "base_uri": "https://localhost:8080/"
    },
    "id": "QwKvxtaAlYe4",
    "outputId": "00284d3e-d4c2-4ae9-e586-521c7a5f2c12"
   },
   "outputs": [
    {
     "name": "stdout",
     "output_type": "stream",
     "text": [
      "test score : 0.6705128205128206 (+/- 0.08696239939544421\n"
     ]
    }
   ],
   "source": [
    "print(\"test score : {} (+/- {}\".format(scores['test_score'].mean(), scores['test_score'].std()))"
   ]
  },
  {
   "cell_type": "markdown",
   "metadata": {
    "id": "u0OKUmO-u0VL"
   },
   "source": [
    "위에서 cv=5를 적용한 cross_validate결과와 동일한 결과가 나옴.<br>\n",
    "아래 splitter를 사용하여 상세하게 파라미터를 구성하여 사용"
   ]
  },
  {
   "cell_type": "code",
   "execution_count": 150,
   "metadata": {
    "colab": {
     "base_uri": "https://localhost:8080/"
    },
    "id": "5tp8rqq1lYio",
    "outputId": "b732bd78-d6b0-472a-c375-f41e55d30564"
   },
   "outputs": [
    {
     "name": "stdout",
     "output_type": "stream",
     "text": [
      "test score : 0.7076923076923077 (+/- 0.11243377771881367\n"
     ]
    }
   ],
   "source": [
    "splitter = StratifiedKFold(n_splits=10, shuffle=True, random_state=rand_num)\n",
    "scores = cross_validate(dt, train_scaled, train_target, cv=splitter)\n",
    "print(\"test score : {} (+/- {}\".format(scores['test_score'].mean(), scores['test_score'].std()))"
   ]
  },
  {
   "cell_type": "markdown",
   "metadata": {
    "id": "Q21W8RsqDsDV"
   },
   "source": [
    "## 하이퍼파라미터 튜닝 <br>\n",
    "최적의 파라미터를 찾기 위한 loop실행"
   ]
  },
  {
   "cell_type": "code",
   "execution_count": null,
   "metadata": {
    "id": "RQrmFc8gxXZh"
   },
   "outputs": [],
   "source": [
    "from sklearn.model_selection import GridSearchCV"
   ]
  },
  {
   "cell_type": "code",
   "execution_count": null,
   "metadata": {
    "id": "vnieO1e1xXdC"
   },
   "outputs": [],
   "source": [
    "params = {'min_impurity_decrease': [0.0001, 0.0002, 0.0003, 0.0004, 0.0005]}"
   ]
  },
  {
   "cell_type": "code",
   "execution_count": null,
   "metadata": {
    "colab": {
     "base_uri": "https://localhost:8080/"
    },
    "id": "SsXDiIlPxXgU",
    "outputId": "6226265c-d17d-4d6e-af77-8eb1e0cecbc0"
   },
   "outputs": [],
   "source": [
    "# dt = DecisionTreeClassifier(random_state=42)\n",
    "gs = GridSearchCV(DecisionTreeClassifier(random_state=42),\n",
    "                  params,\n",
    "                  n_jobs=-1) # -1:모든 cpu core를 사용\n",
    "gs.fit(train_input, train_target)"
   ]
  },
  {
   "cell_type": "code",
   "execution_count": null,
   "metadata": {
    "colab": {
     "base_uri": "https://localhost:8080/"
    },
    "id": "nlW0tQNXxXlG",
    "outputId": "c2526477-c159-4454-c246-e48eb8ea7e71"
   },
   "outputs": [],
   "source": [
    "dt = gs.best_estimator_\n",
    "dt_score = dt.score(train_input, train_target)\n",
    "print('best estimator score: {}'.format(dt_score))"
   ]
  },
  {
   "cell_type": "code",
   "execution_count": null,
   "metadata": {
    "colab": {
     "base_uri": "https://localhost:8080/"
    },
    "id": "SjLZjIug0QgL",
    "outputId": "c8e7a6fc-49c2-4dd5-8f9a-212ec6c26adf"
   },
   "outputs": [],
   "source": [
    "print(gs.best_params_)"
   ]
  },
  {
   "cell_type": "code",
   "execution_count": null,
   "metadata": {
    "colab": {
     "base_uri": "https://localhost:8080/"
    },
    "id": "-hmnn8W60Qjc",
    "outputId": "06181f40-0bc4-4f1b-9793-45b617871263"
   },
   "outputs": [],
   "source": [
    "for k, v in gs.cv_results_.items():\n",
    "  if k == 'params':\n",
    "    print('params')\n",
    "    for k, v in params.items():\n",
    "      print(k, v)\n",
    "    continue\n",
    "  print('{}: {}'.format(k, v))"
   ]
  },
  {
   "cell_type": "code",
   "execution_count": null,
   "metadata": {
    "colab": {
     "base_uri": "https://localhost:8080/"
    },
    "id": "hjT0wlSd0QmS",
    "outputId": "c2af68c7-3408-4a6c-c1c7-06c8dd1e8008"
   },
   "outputs": [],
   "source": [
    "gs.cv_results_['mean_test_score']"
   ]
  },
  {
   "cell_type": "code",
   "execution_count": null,
   "metadata": {
    "id": "8jHxZ7XmVU11"
   },
   "outputs": [],
   "source": [
    "params = {'min_impurity_decrease': np.arange(0.0001, 0.001, 0.0001),\n",
    "          'max_depth': range(5, 20, 1),\n",
    "          'min_samples_split': range(2, 100, 10)\n",
    "          }"
   ]
  },
  {
   "cell_type": "code",
   "execution_count": null,
   "metadata": {
    "colab": {
     "base_uri": "https://localhost:8080/"
    },
    "id": "KnP3GA6MVsVH",
    "outputId": "db093e55-820a-4461-bc8b-b596ff914e31"
   },
   "outputs": [],
   "source": [
    "gs = GridSearchCV(DecisionTreeClassifier(random_state=42), params, n_jobs=-1)\n",
    "gs.fit(train_input, train_target)"
   ]
  },
  {
   "cell_type": "code",
   "execution_count": null,
   "metadata": {
    "colab": {
     "base_uri": "https://localhost:8080/"
    },
    "id": "qi9-O_VGV0Ho",
    "outputId": "938fa583-c313-48b5-96e6-d27f8cc9af47"
   },
   "outputs": [],
   "source": [
    "print(gs.best_params_)"
   ]
  },
  {
   "cell_type": "code",
   "execution_count": null,
   "metadata": {
    "colab": {
     "base_uri": "https://localhost:8080/"
    },
    "id": "ZnJjLATAV2Sq",
    "outputId": "db1c7f6e-6783-4fef-85dc-4e6e110954b0"
   },
   "outputs": [],
   "source": [
    "print(np.max(gs.cv_results_['mean_test_score']))"
   ]
  },
  {
   "cell_type": "markdown",
   "metadata": {
    "id": "d0k9DQTNlaD6"
   },
   "source": [
    "### 랜덤 서치"
   ]
  },
  {
   "cell_type": "code",
   "execution_count": null,
   "metadata": {
    "id": "_T9KTEk1GBcY"
   },
   "outputs": [],
   "source": [
    "from scipy.stats import uniform, randint\n",
    "# from numpy.random import uniform, randint # 기능은 같고 모양은 틀리나, 객체를 생성하지 못함.(아래 예 참조)"
   ]
  },
  {
   "cell_type": "code",
   "execution_count": null,
   "metadata": {
    "colab": {
     "base_uri": "https://localhost:8080/"
    },
    "id": "fd0UJpCGGDhz",
    "outputId": "0292439c-37d3-4741-c712-28ef15daa0e2"
   },
   "outputs": [],
   "source": [
    "rgen = randint(0, 10)\n",
    "rgen.rvs(10)"
   ]
  },
  {
   "cell_type": "code",
   "execution_count": null,
   "metadata": {
    "colab": {
     "base_uri": "https://localhost:8080/"
    },
    "id": "ch3zTUohIJR6",
    "outputId": "5a24e2a5-7697-4d31-f7ee-9f8a72b54565"
   },
   "outputs": [],
   "source": [
    "np.unique(rgen.rvs(1000), return_counts=True)"
   ]
  },
  {
   "cell_type": "code",
   "execution_count": null,
   "metadata": {
    "colab": {
     "base_uri": "https://localhost:8080/"
    },
    "id": "bGhshTn0IjkI",
    "outputId": "fcffff1c-0834-43bc-b57e-04e938186299"
   },
   "outputs": [],
   "source": [
    "ugen = uniform(0, 1)\n",
    "ugen.rvs(10)"
   ]
  },
  {
   "cell_type": "code",
   "execution_count": null,
   "metadata": {
    "id": "irDX9e6WYTIH"
   },
   "outputs": [],
   "source": [
    "params = {'min_impurity_decrease': uniform(0.0001, 0.001),\n",
    "          'max_depth': randint(20, 50),\n",
    "          'min_samples_split': randint(2, 25),\n",
    "          'min_samples_leaf': randint(1, 25),\n",
    "          }"
   ]
  },
  {
   "cell_type": "code",
   "execution_count": null,
   "metadata": {
    "colab": {
     "base_uri": "https://localhost:8080/"
    },
    "id": "Wc4OIingWQCK",
    "outputId": "b5fd0eae-55f9-4af8-ccb6-7f74b36e81fb"
   },
   "outputs": [],
   "source": [
    "from sklearn.model_selection import RandomizedSearchCV\n",
    "\n",
    "gs = RandomizedSearchCV(DecisionTreeClassifier(random_state=42), params, \n",
    "                        n_iter=100, n_jobs=-1, random_state=42) #n_iter: params 의 임의변수를 100번 시행\n",
    "gs.fit(train_input, train_target)"
   ]
  },
  {
   "cell_type": "code",
   "execution_count": null,
   "metadata": {
    "colab": {
     "base_uri": "https://localhost:8080/"
    },
    "id": "p7IbsGH3ZSv-",
    "outputId": "e344fab2-7b36-43ce-f031-b8e162bcdb43"
   },
   "outputs": [],
   "source": [
    "print(gs.best_params_)"
   ]
  },
  {
   "cell_type": "code",
   "execution_count": null,
   "metadata": {
    "colab": {
     "base_uri": "https://localhost:8080/"
    },
    "id": "dYI3HwMQbtnr",
    "outputId": "c4838aaa-adf5-4be9-f81f-849add88c254"
   },
   "outputs": [],
   "source": [
    "print(np.max(gs.cv_results_['mean_test_score']))"
   ]
  },
  {
   "cell_type": "code",
   "execution_count": null,
   "metadata": {
    "colab": {
     "base_uri": "https://localhost:8080/"
    },
    "id": "3QV7yRpidByf",
    "outputId": "cc194ea6-d9f1-43a9-ca89-4b12a2027ea2"
   },
   "outputs": [],
   "source": [
    "dt = gs.best_estimator_\n",
    "\n",
    "print(dt.score(test_input, test_target))"
   ]
  },
  {
   "cell_type": "markdown",
   "metadata": {
    "id": "cA42IsMdhgE7"
   },
   "source": [
    "## 확인문제"
   ]
  },
  {
   "cell_type": "code",
   "execution_count": null,
   "metadata": {
    "colab": {
     "base_uri": "https://localhost:8080/"
    },
    "id": "8qxg36iThiUm",
    "outputId": "e88a04fc-4175-48d2-e48f-2145fa68c65e"
   },
   "outputs": [],
   "source": [
    "gs = RandomizedSearchCV(DecisionTreeClassifier(splitter='random', random_state=42), params, \n",
    "                        n_iter=100, n_jobs=-1, random_state=42)\n",
    "gs.fit(train_input, train_target)"
   ]
  },
  {
   "cell_type": "code",
   "execution_count": null,
   "metadata": {
    "colab": {
     "base_uri": "https://localhost:8080/"
    },
    "id": "CMZ4UE8ihqwg",
    "outputId": "a3d6323a-68c9-4caf-aba2-dc71a4c6245f"
   },
   "outputs": [],
   "source": [
    "print(gs.best_params_)\n",
    "print(np.max(gs.cv_results_['mean_test_score']))\n",
    "\n",
    "dt = gs.best_estimator_\n",
    "print(dt.score(test_input, test_target))"
   ]
  }
 ],
 "metadata": {
  "colab": {
   "collapsed_sections": [],
   "include_colab_link": true,
   "name": "5-2 교차 검증과 그리드 서치.ipynb",
   "provenance": []
  },
  "kernelspec": {
   "display_name": "Python 3 (ipykernel)",
   "language": "python",
   "name": "python3"
  },
  "language_info": {
   "codemirror_mode": {
    "name": "ipython",
    "version": 3
   },
   "file_extension": ".py",
   "mimetype": "text/x-python",
   "name": "python",
   "nbconvert_exporter": "python",
   "pygments_lexer": "ipython3",
   "version": "3.10.7"
  }
 },
 "nbformat": 4,
 "nbformat_minor": 1
}
