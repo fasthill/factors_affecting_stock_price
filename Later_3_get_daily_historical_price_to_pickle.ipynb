{
 "cells": [
  {
   "cell_type": "code",
   "execution_count": 1,
   "id": "single-chick",
   "metadata": {},
   "outputs": [],
   "source": [
    "from selenium import webdriver as wd\n",
    "from bs4 import BeautifulSoup as bs\n",
    "import requests\n",
    "import datetime, time\n",
    "from datetime import date\n",
    "\n",
    "import pandas as pd\n",
    "import re\n",
    "import os, sys"
   ]
  },
  {
   "cell_type": "code",
   "execution_count": 2,
   "id": "0cd88395",
   "metadata": {},
   "outputs": [],
   "source": [
    "import cfscrape  # Forbidden 403 발생시 requests 대신 사용\n",
    "scraper = cfscrape.create_scraper()\n",
    "\n",
    "headers = {'User-Agent': 'Mozilla/5.0 (Macintosh; Intel Mac OS X 10_11_5) \\\n",
    "           AppleWebKit/537.36 (KHTML, like Gecko) Chrome/50.0.2661.102 Safari/537.36'}"
   ]
  },
  {
   "cell_type": "code",
   "execution_count": 3,
   "id": "49476ecc",
   "metadata": {},
   "outputs": [],
   "source": [
    "# 삼성전자 005930, 현대차 005380, 네이버 035420, KT&G 033780, \n",
    "# code = {'sec': '005930', 'hyunmotor': '005380', 'naver': '035420', 'ktng': '033780'}\n",
    "code = {'sec': 'KR7005930003', 'hyunmotor': 'KR7005380001', 'naver': 'KR7035420009', 'ktng': 'KR7033780008'}\n",
    "# code = {'sec': 'KR7005930003'}"
   ]
  },
  {
   "cell_type": "code",
   "execution_count": 4,
   "id": "53a396d1",
   "metadata": {},
   "outputs": [],
   "source": [
    "today_o = datetime.date.today()\n",
    "today = today_o.strftime('%Y%m%d')\n",
    "today_stock = today_o.strftime('%Y-%m-%d')"
   ]
  },
  {
   "cell_type": "code",
   "execution_count": 5,
   "id": "fcaeec0d",
   "metadata": {},
   "outputs": [],
   "source": [
    "def get_data(ticker, today):\n",
    "    url_base = 'https://stock.mk.co.kr/price/hourly?stock_code='\n",
    "#     url_base = 'https://stock.mk.co.kr/price/hourly?stock_code=KR7005930003&day=2023-01-25&page=2'\n",
    "    for i in range(8):\n",
    "        str1 = str(i+1)\n",
    "        url = '{}{}{}{}{}{}'.format(url_base, ticker, '&day=', today, '&page=', str1)    \n",
    "        r = scraper.get(url, headers=headers)  \n",
    "        html = r.content\n",
    "        df1 = pd.read_html(html, attrs={\"class\": \"table-stock line\"}, flavor=[\"lxml\", \"bs4\"])[0]\n",
    "#         print(\"*********url***\", url)\n",
    "#         print(df1.head())\n",
    "        if i == 0 :\n",
    "            df = df1\n",
    "        else:\n",
    "#             df = df.append(df1) # append will be depreciated\n",
    "            df=pd.concat([df,df1], ignore_index=True)\n",
    "    return df"
   ]
  },
  {
   "cell_type": "code",
   "execution_count": 6,
   "id": "governing-summit",
   "metadata": {},
   "outputs": [],
   "source": [
    "column_eng = ['date', 'price', 'change', 'change(%)', 'amount', 'volume']\n",
    "column_kor = ['날짜', '현재가', '등락', '등락률(%)', '체결량', '거래량']"
   ]
  },
  {
   "cell_type": "code",
   "execution_count": 7,
   "id": "1b8cbd4e",
   "metadata": {},
   "outputs": [],
   "source": [
    "dir_name = 'data/company_daily_price_pkl/'\n",
    "f_name = '_10min_price_'"
   ]
  },
  {
   "cell_type": "code",
   "execution_count": 8,
   "id": "6da47183",
   "metadata": {},
   "outputs": [],
   "source": [
    "for key, val in code.items():\n",
    "    df = get_data(val, today_stock)\n",
    "    df.columns = column_eng\n",
    "    df_temp = df['date']\n",
    "    yr = today[:4]\n",
    "    df['date'] = df_temp.apply(lambda x : datetime.datetime.strptime(yr+x[:5], \"%Y%m/%d\"))\n",
    "    df.insert(1, 'time', df_temp.apply(lambda x : datetime.datetime.strptime(x[-5:], \"%H:%M\").time()))\n",
    "    filename = '{}{}{}{}.pkl'.format(dir_name, key, f_name, today) # code만 기입\n",
    "    df.to_pickle(filename)\n",
    "    filename = '{}{}{}{}.csv'.format(dir_name, key, f_name, today) # code만 기입\n",
    "    df.to_csv(filename)"
   ]
  },
  {
   "cell_type": "code",
   "execution_count": null,
   "id": "94c618c7",
   "metadata": {},
   "outputs": [],
   "source": [
    "# aa = pd.read_pickle(dir_name+'hyunmotor_10min_price_20230207.pkl') # 저장 내용 확인\n",
    "# aa.tail()"
   ]
  },
  {
   "cell_type": "code",
   "execution_count": null,
   "id": "c2720d5c",
   "metadata": {},
   "outputs": [],
   "source": []
  }
 ],
 "metadata": {
  "kernelspec": {
   "display_name": "Python 3 (ipykernel)",
   "language": "python",
   "name": "python3"
  },
  "language_info": {
   "codemirror_mode": {
    "name": "ipython",
    "version": 3
   },
   "file_extension": ".py",
   "mimetype": "text/x-python",
   "name": "python",
   "nbconvert_exporter": "python",
   "pygments_lexer": "ipython3",
   "version": "3.10.7"
  }
 },
 "nbformat": 4,
 "nbformat_minor": 5
}
