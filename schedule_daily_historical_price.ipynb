{
 "cells": [
  {
   "cell_type": "markdown",
   "id": "209cabe9",
   "metadata": {},
   "source": [
    "https://schedule.readthedocs.io/en/stable/examples.html\n",
    "schedule 설명"
   ]
  },
  {
   "cell_type": "code",
   "execution_count": null,
   "id": "07a125d0",
   "metadata": {},
   "outputs": [],
   "source": [
    "import schedule\n",
    "import datetime, time\n",
    "import pandas as pd\n",
    "\n",
    "def get_data(ticker):\n",
    "    for i in range(3):\n",
    "        str1 = str(i+1)\n",
    "        url = '{}{}{}{}'.format('https://vip.mk.co.kr/newSt/price/minprice.php?type=10&stCode=', ticker, '&p_page=', str1)\n",
    "        df = pd.read_html(url)\n",
    "        if i == 0 :\n",
    "            df1 = df[10]\n",
    "        else:\n",
    "            df1 = df1.append(df[10])\n",
    "    return df1\n",
    "\n",
    "def get_investor_every_day():\n",
    "    code = {'sec': '005930', 'hyunmotor': '005830', 'naver': '035420', 'ktng': '033780'}\n",
    "    today = datetime.date.today()\n",
    "    today = today.strftime('%Y%m%d')\n",
    "    for key, val in code.items():\n",
    "        df = get_data(val)\n",
    "        filename = '{}{}{}{}.csv'.format('data/daily_price/',key, '_10min_price_', today)\n",
    "        df.to_csv(filename, index=False)\n",
    "        \n",
    "    return schedule.CancelJob\n",
    "\n",
    "schedule.every().day.at(\"16:25\").do(get_investor_every_day)\n",
    "\n",
    "while True:\n",
    "    schedule.run_pending()\n",
    "    if not schedule.jobs:  # while을 벗어나기 위한 check  <- schedule.CancelJob 으로 false\n",
    "        break\n",
    "    time.sleep(1)"
   ]
  },
  {
   "cell_type": "markdown",
   "id": "64a0295e",
   "metadata": {},
   "source": [
    "#### 실행파일 만들기\n",
    "pyinstaller -F schedule_daily_historical_price.py -n get_daily_data\n",
    "\n",
    "https://developer-mistive.tistory.com/59\n",
    "\n",
    "시작프로그램: Win+R 실행창에서 shell:startup 실행 (C:\\Users\\user\\AppData\\Roaming\\Microsoft\\Windows\\Start Menu\\Programs\\Startup)로 이동.\n",
    "이 폴더(시작프로그램폴더)에 실행프로그램(.exe) 삽입"
   ]
  },
  {
   "cell_type": "code",
   "execution_count": null,
   "id": "afb05e67",
   "metadata": {},
   "outputs": [],
   "source": []
  }
 ],
 "metadata": {
  "kernelspec": {
   "display_name": "Python 3",
   "language": "python",
   "name": "python3"
  },
  "language_info": {
   "codemirror_mode": {
    "name": "ipython",
    "version": 3
   },
   "file_extension": ".py",
   "mimetype": "text/x-python",
   "name": "python",
   "nbconvert_exporter": "python",
   "pygments_lexer": "ipython3",
   "version": "3.9.1"
  }
 },
 "nbformat": 4,
 "nbformat_minor": 5
}
