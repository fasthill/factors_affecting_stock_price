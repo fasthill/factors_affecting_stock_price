{
 "cells": [
  {
   "cell_type": "markdown",
   "id": "209cabe9",
   "metadata": {},
   "source": [
    "https://schedule.readthedocs.io/en/stable/examples.html\n",
    "schedule 설명"
   ]
  },
  {
   "cell_type": "code",
   "execution_count": null,
   "id": "337166a4",
   "metadata": {},
   "outputs": [],
   "source": [
    "# !pip install schedule"
   ]
  },
  {
   "cell_type": "code",
   "execution_count": null,
   "id": "c26a008d",
   "metadata": {},
   "outputs": [],
   "source": [
    "import schedule\n",
    "import time\n",
    "import datetime\n",
    "import sys"
   ]
  },
  {
   "cell_type": "code",
   "execution_count": null,
   "id": "379bd6cd",
   "metadata": {},
   "outputs": [],
   "source": [
    "# 삼성전자 005930, 현대차 005830, 네이버 035420, KT&G 033780, \n",
    "code = {'sec': '005930', 'hyunmotor': '005830', 'naver': '035420', 'ktng': '033780'}"
   ]
  },
  {
   "cell_type": "code",
   "execution_count": null,
   "id": "ddb8accb",
   "metadata": {},
   "outputs": [],
   "source": [
    "today = datetime.date.today()\n",
    "today = today.strftime('%Y%m%d')"
   ]
  },
  {
   "cell_type": "code",
   "execution_count": null,
   "id": "89c7cd02",
   "metadata": {},
   "outputs": [],
   "source": [
    "for key, val in code.items():\n",
    "    filename = '{}{}{}{}.csv'.format('data/investor/', key, '_investor_', today)\n",
    "    url = '{}{}'.format('https://open.shinhaninvest.com/goodicyber/mk/1206.jsp?code=',val)\n",
    "    df = pd.read_html(url)\n",
    "    df[7].columns = df[7].iloc[1] # column 명 변경\n",
    "    df[7] = df[7].drop([0,1]) # 필요없는 row 제거\n",
    "    df[7].to_csv(filename, index=False)"
   ]
  },
  {
   "cell_type": "code",
   "execution_count": null,
   "id": "e263d445",
   "metadata": {},
   "outputs": [],
   "source": [
    "import schedule\n",
    "import datetime, time\n",
    "import pandas as pd\n",
    "\n",
    "def get_investor_every_day():\n",
    "    code = {'sec': '005930', 'hyunmotor': '005830', 'naver': '035420', 'ktng': '033780'}\n",
    "    today = datetime.date.today()\n",
    "    today = today.strftime('%Y%m%d')\n",
    "    for key, val in code.items():\n",
    "        filename = '{}{}{}{}.csv'.format('data/investor/', key, '_investor_', today)\n",
    "        url = '{}{}'.format('https://open.shinhaninvest.com/goodicyber/mk/1206.jsp?code=',val)\n",
    "        df = pd.read_html(url)\n",
    "        df[7].columns = df[7].iloc[1] # column 명 변경\n",
    "        df[7] = df[7].drop([0,1]) # 필요없는 row 제거\n",
    "        df[7].to_csv(filename, index=False)\n",
    "    return schedule.CancelJob\n",
    "\n",
    "schedule.every().day.at(\"16:10\").do(get_investor_every_day)\n",
    "\n",
    "while True:\n",
    "    schedule.run_pending()\n",
    "    if not schedule.jobs:\n",
    "        break\n",
    "    time.sleep(1)\n",
    "\n",
    "print(\"I'm done\")"
   ]
  },
  {
   "cell_type": "code",
   "execution_count": null,
   "id": "d5677bfc",
   "metadata": {},
   "outputs": [],
   "source": [
    "schedule.every().day.at(\"16:10\").do(get_investor_every_day)"
   ]
  },
  {
   "cell_type": "code",
   "execution_count": null,
   "id": "3015c25a",
   "metadata": {},
   "outputs": [],
   "source": [
    "#스케쥴 모듈이 동작시킬 코드 : 현재 시간 출력\n",
    "def test_fuction():\n",
    "    now = datetime.datetime.now()\n",
    "    print(\"test code- 현재 시간 출력하기\")\n",
    "    print(now)"
   ]
  },
  {
   "cell_type": "code",
   "execution_count": null,
   "id": "8b87006a",
   "metadata": {},
   "outputs": [],
   "source": [
    "test = schedule.every(3).seconds.do(test_fuction)"
   ]
  },
  {
   "cell_type": "code",
   "execution_count": 2,
   "id": "a4846411",
   "metadata": {},
   "outputs": [
    {
     "name": "stdout",
     "output_type": "stream",
     "text": [
      "Running [Every 2 seconds do test() (last run: [never], next run: 2022-06-22 12:52:21)]\n",
      "Running [Every 2 seconds do test() (last run: 2022-06-22 12:52:21, next run: 2022-06-22 12:52:23)]\n",
      "Running [Every 2 seconds do test() (last run: 2022-06-22 12:52:23, next run: 2022-06-22 12:52:25)]\n",
      "Running [Every 2 seconds do test() (last run: 2022-06-22 12:52:25, next run: 2022-06-22 12:52:27)]\n",
      "Running [Every 2 seconds do test() (last run: 2022-06-22 12:52:27, next run: 2022-06-22 12:52:29)]\n",
      "Running [Every 2 seconds do test() (last run: 2022-06-22 12:52:29, next run: 2022-06-22 12:52:31)]\n",
      "Running [Every 2 seconds do test() (last run: 2022-06-22 12:52:31, next run: 2022-06-22 12:52:33)]\n",
      "Running [Every 2 seconds do test() (last run: 2022-06-22 12:52:33, next run: 2022-06-22 12:52:35)]\n",
      "Running [Every 2 seconds do test() (last run: 2022-06-22 12:52:35, next run: 2022-06-22 12:52:37)]\n",
      "Running [Every 2 seconds do test() (last run: 2022-06-22 12:52:37, next run: 2022-06-22 12:52:39)]\n",
      "Running [Every 2 seconds do test() (last run: 2022-06-22 12:52:39, next run: 2022-06-22 12:52:41)]\n",
      "Running [Every 2 seconds do test() (last run: 2022-06-22 12:52:41, next run: 2022-06-22 12:52:43)]\n",
      "Running [Every 2 seconds do test() (last run: 2022-06-22 12:52:43, next run: 2022-06-22 12:52:45)]\n",
      "Running [Every 2 seconds do test() (last run: 2022-06-22 12:52:45, next run: 2022-06-22 12:52:47)]\n",
      "Running [Every 2 seconds do test() (last run: 2022-06-22 12:52:47, next run: 2022-06-22 12:52:49)]\n",
      "Running [Every 2 seconds do test() (last run: 2022-06-22 12:52:49, next run: 2022-06-22 12:52:51)]\n",
      "Running [Every 2 seconds do test() (last run: 2022-06-22 12:52:51, next run: 2022-06-22 12:52:53)]\n",
      "Running [Every 2 seconds do test() (last run: 2022-06-22 12:52:53, next run: 2022-06-22 12:52:55)]\n",
      "Running [Every 2 seconds do test() (last run: 2022-06-22 12:52:55, next run: 2022-06-22 12:52:57)]\n",
      "Running [Every 2 seconds do test() (last run: 2022-06-22 12:52:57, next run: 2022-06-22 12:52:59)]\n"
     ]
    },
    {
     "ename": "KeyboardInterrupt",
     "evalue": "",
     "output_type": "error",
     "traceback": [
      "\u001b[1;31m---------------------------------------------------------------------------\u001b[0m",
      "\u001b[1;31mKeyboardInterrupt\u001b[0m                         Traceback (most recent call last)",
      "\u001b[1;32m<ipython-input-2-abead50a3d7d>\u001b[0m in \u001b[0;36m<module>\u001b[1;34m\u001b[0m\n\u001b[0;32m     13\u001b[0m \u001b[1;31m#     if not schedule.jobs:\u001b[0m\u001b[1;33m\u001b[0m\u001b[1;33m\u001b[0m\u001b[1;33m\u001b[0m\u001b[0m\n\u001b[0;32m     14\u001b[0m \u001b[1;31m#         break\u001b[0m\u001b[1;33m\u001b[0m\u001b[1;33m\u001b[0m\u001b[1;33m\u001b[0m\u001b[0m\n\u001b[1;32m---> 15\u001b[1;33m     \u001b[0mtime\u001b[0m\u001b[1;33m.\u001b[0m\u001b[0msleep\u001b[0m\u001b[1;33m(\u001b[0m\u001b[1;36m1\u001b[0m\u001b[1;33m)\u001b[0m\u001b[1;33m\u001b[0m\u001b[1;33m\u001b[0m\u001b[0m\n\u001b[0m\u001b[0;32m     16\u001b[0m \u001b[1;33m\u001b[0m\u001b[0m\n\u001b[0;32m     17\u001b[0m \u001b[0mprint\u001b[0m\u001b[1;33m(\u001b[0m\u001b[1;34m\"I'm done\"\u001b[0m\u001b[1;33m)\u001b[0m\u001b[1;33m\u001b[0m\u001b[1;33m\u001b[0m\u001b[0m\n",
      "\u001b[1;31mKeyboardInterrupt\u001b[0m: "
     ]
    }
   ],
   "source": [
    "import schedule\n",
    "import time\n",
    "\n",
    "def test():\n",
    "    print(\"Running \", end=\"\")\n",
    "    print(schedule.jobs)\n",
    "    return # schedule.CancelJob\n",
    "\n",
    "schedule.every(2).seconds.do(test)\n",
    "\n",
    "while True:\n",
    "    schedule.run_pending()\n",
    "#     if not schedule.jobs:\n",
    "#         break\n",
    "    time.sleep(1)\n",
    "\n",
    "print(\"I'm done\")"
   ]
  },
  {
   "cell_type": "code",
   "execution_count": 6,
   "id": "4d023575",
   "metadata": {},
   "outputs": [
    {
     "data": {
      "text/plain": [
       "[]"
      ]
     },
     "execution_count": 6,
     "metadata": {},
     "output_type": "execute_result"
    }
   ],
   "source": [
    "schedule.jobs"
   ]
  },
  {
   "cell_type": "code",
   "execution_count": 5,
   "id": "fb90e6b5",
   "metadata": {},
   "outputs": [],
   "source": [
    "schedule.clear()"
   ]
  },
  {
   "cell_type": "code",
   "execution_count": null,
   "id": "caa0f346",
   "metadata": {},
   "outputs": [],
   "source": []
  },
  {
   "cell_type": "code",
   "execution_count": null,
   "id": "dcd2a887",
   "metadata": {},
   "outputs": [],
   "source": [
    "type(test)"
   ]
  },
  {
   "cell_type": "code",
   "execution_count": null,
   "id": "b6a83631",
   "metadata": {},
   "outputs": [],
   "source": [
    "while 1:\n",
    "    n = schedule.idle_seconds()\n",
    "    if n is None:\n",
    "        # no more jobs\n",
    "        break\n",
    "    elif n > 0:\n",
    "        # sleep exactly the right amount of time\n",
    "        time.sleep(n)\n",
    "    schedule.run_pending()"
   ]
  },
  {
   "cell_type": "code",
   "execution_count": null,
   "id": "7d070b18",
   "metadata": {},
   "outputs": [],
   "source": []
  },
  {
   "cell_type": "code",
   "execution_count": null,
   "id": "c52039ed",
   "metadata": {},
   "outputs": [],
   "source": []
  },
  {
   "cell_type": "code",
   "execution_count": null,
   "id": "2a991ce5",
   "metadata": {},
   "outputs": [],
   "source": []
  },
  {
   "cell_type": "code",
   "execution_count": null,
   "id": "9d2f7ef9",
   "metadata": {},
   "outputs": [],
   "source": [
    "#스케쥴 모듈이 동작시킬 코드 : 현재 시간 출력\n",
    "def test_fuction():\n",
    "    now = datetime.datetime.now()\n",
    "    print(\"test code- 현재 시간 출력하기\")\n",
    "    print(now)"
   ]
  },
  {
   "cell_type": "code",
   "execution_count": null,
   "id": "d38dfa7f",
   "metadata": {},
   "outputs": [],
   "source": [
    "def exit():\n",
    "    print(\"function exit\")\n",
    "    sys.exit()"
   ]
  },
  {
   "cell_type": "code",
   "execution_count": null,
   "id": "82c3d9d7",
   "metadata": {},
   "outputs": [],
   "source": [
    "from selenium import webdriver as wd\n",
    "from bs4 import BeautifulSoup as bs\n",
    "import requests\n",
    "import time\n",
    "import os, sys\n",
    "import pandas as pd\n",
    "import numpy as np\n",
    "\n",
    "def get_value(sc_id):\n",
    "    global df_inv, flag_num\n",
    "    url = 'https://open2.shinhaninvest.com/goodicyber/mk/1206.jsp?code=005930'\n",
    "    df = pd.read_html(url)\n",
    "    df_inv = df[7]\n",
    "    df_inv = df_inv.drop([0,1]) # 필요없는 row 제거\n",
    "    reindex = np.arange(1,len(df_inv)+1) # index를 일련번호로 대체하기 위하여 index 생성\n",
    "    df_inv.index = reindex # 새로운 인덱스로 대체\n",
    "    print(df_inv.head())\n",
    "    flag_num=1\n",
    "    schedule.cancel_job(sc_id)\n",
    "    return schedule.CancelJob  # 수행후 schedule camcel"
   ]
  },
  {
   "cell_type": "code",
   "execution_count": null,
   "id": "5d4cba3f",
   "metadata": {},
   "outputs": [],
   "source": [
    "#1초마다 test_fuction을 동작시키자\n",
    "sc_10sec = schedule.every(10).seconds.do(test_fuction)\n",
    "# schedule.every().day.at(\"12:52\").do(exit)\n",
    "schedule.every().day.at(\"17:14\").do(get_value, sc_10sec)\n",
    "# schedule.every().day.at(\"13:17\").do(exit)"
   ]
  },
  {
   "cell_type": "code",
   "execution_count": null,
   "id": "74d8f057",
   "metadata": {},
   "outputs": [],
   "source": [
    "schedule.every().day.at(\"11:09\").do(test_fuction)\n",
    "while True:\n",
    "    schedule.run_pending()\n",
    "    time.sleep(1)"
   ]
  },
  {
   "cell_type": "code",
   "execution_count": null,
   "id": "dd1e2df5",
   "metadata": {},
   "outputs": [],
   "source": [
    "#무한 루프를 돌면서 스케쥴을 유지한다.\n",
    "\n",
    "flag_num = 0\n",
    "while True:\n",
    "    schedule.run_pending()\n",
    "    if flag_num == 1 : break\n",
    "    time.sleep(10)"
   ]
  },
  {
   "cell_type": "code",
   "execution_count": null,
   "id": "c63841e9",
   "metadata": {},
   "outputs": [],
   "source": [
    "df_inv.head()"
   ]
  },
  {
   "cell_type": "code",
   "execution_count": null,
   "id": "b0f3d473",
   "metadata": {},
   "outputs": [],
   "source": [
    " - 1초마다 동작\n",
    "schedule.every(1).seconds.do(test_function)\n",
    "\n",
    " 1사간마다 동작\n",
    "schedule.every(1).hour.do(test_function)\n",
    "\n",
    " 매일 특정시간에 동작(10:00)\n",
    "schedule.every().day.at(\"10:00\").do(test_function)\n",
    "\n",
    "#매주 월요일에 동작\n",
    "schedule.every().monday.do(test_function)\n",
    "\n",
    "# 10초에 한번씩 실행\n",
    "schedule.every(10).second.do(job)\n",
    "\n",
    "# 10분에 한번씩 실행\n",
    "schedule.every(10).minutes.do(job)\n",
    "\n",
    "# 매 시간 실행\n",
    "schedule.every().hour.do(job)\n",
    "\n",
    "# 매일 10:30 에 실행\n",
    "schedule.every().day.at(\"10:30\").do(job)\n",
    "\n",
    "# 매주 월요일 실행\n",
    "schedule.every().monday.do(job)\n",
    "\n",
    "# 매주 수요일 13:15 에 실행\n",
    "schedule.every().wednesday.at(\"13:15\").do(job)\n",
    "'''"
   ]
  },
  {
   "cell_type": "code",
   "execution_count": null,
   "id": "02270308",
   "metadata": {},
   "outputs": [],
   "source": [
    "df\n"
   ]
  },
  {
   "cell_type": "code",
   "execution_count": null,
   "id": "17d2b39a",
   "metadata": {},
   "outputs": [],
   "source": [
    "import schedule\n",
    "import time\n",
    "import datetime\n",
    "import sys\n",
    "\n",
    "#스케쥴 모듈이 동작시킬 코드 : 현재 시간 출력\n",
    "def test_function():\n",
    "    now = datetime.datetime.now()\n",
    "    print(\"test code- 현재 시간 출력하기\")\n",
    "    print(now)\n",
    "\n",
    "#프로그램을 종료시키기 위한 함수\n",
    "def exit():\n",
    "    print(\"function exit\")\n",
    "    sys.exit()\n",
    "    \n",
    "#1초마다 test_fuction을 동작시키다가 \"22:21\"이 되면 프로그램 종료\n",
    "schedule.every(1).seconds.do(test_function)\n",
    "schedule.every().day.at(\"22:21\").do(exit)\n",
    "\n",
    "\n",
    "#무한 루프를 돌면서 스케쥴을 유지한다.\n",
    "while True:\n",
    "    schedule.run_pending()\n",
    "    time.sleep(1)"
   ]
  },
  {
   "cell_type": "code",
   "execution_count": null,
   "id": "59042e9d",
   "metadata": {},
   "outputs": [],
   "source": [
    "sys.exit()"
   ]
  },
  {
   "cell_type": "code",
   "execution_count": null,
   "id": "638fdafd",
   "metadata": {},
   "outputs": [],
   "source": [
    "schedule 동작 순서 알아보기"
   ]
  },
  {
   "cell_type": "code",
   "execution_count": null,
   "id": "625391b9",
   "metadata": {},
   "outputs": [],
   "source": [
    "import schedule\n",
    "import time\n",
    "\n",
    "def action(k):\n",
    "    print('--', k)\n",
    "#     return schedule.CancelJob\n",
    "    return\n",
    "\n",
    "schedule.every(5).seconds.do(action, 5)\n",
    "schedule.every(7).seconds.do(action, 7)\n",
    "\n",
    "while True:\n",
    "    schedule.run_pending()\n",
    "    print(\"+\",end='')\n",
    "    time.sleep(1)"
   ]
  },
  {
   "cell_type": "code",
   "execution_count": null,
   "id": "fbd6e8de",
   "metadata": {},
   "outputs": [],
   "source": [
    "import schedule\n",
    "import time\n",
    "\n",
    "def job():\n",
    "    print('Boo')\n",
    "\n",
    "# run job until a 18:30 today\n",
    "schedule.every(1).seconds.until(\"11:32\").do(job)"
   ]
  },
  {
   "cell_type": "code",
   "execution_count": null,
   "id": "24f47cc1",
   "metadata": {},
   "outputs": [],
   "source": [
    "schedule.run_pending()"
   ]
  },
  {
   "cell_type": "code",
   "execution_count": null,
   "id": "621823a8",
   "metadata": {},
   "outputs": [],
   "source": [
    "schedule.clear()"
   ]
  },
  {
   "cell_type": "code",
   "execution_count": null,
   "id": "e1e9c832",
   "metadata": {},
   "outputs": [],
   "source": []
  }
 ],
 "metadata": {
  "kernelspec": {
   "display_name": "Python 3",
   "language": "python",
   "name": "python3"
  },
  "language_info": {
   "codemirror_mode": {
    "name": "ipython",
    "version": 3
   },
   "file_extension": ".py",
   "mimetype": "text/x-python",
   "name": "python",
   "nbconvert_exporter": "python",
   "pygments_lexer": "ipython3",
   "version": "3.9.1"
  }
 },
 "nbformat": 4,
 "nbformat_minor": 5
}
