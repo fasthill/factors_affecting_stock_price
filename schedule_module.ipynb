{
 "cells": [
  {
   "cell_type": "markdown",
   "id": "209cabe9",
   "metadata": {},
   "source": [
    "https://schedule.readthedocs.io/en/stable/examples.html\n",
    "schedule 설명"
   ]
  },
  {
   "cell_type": "code",
   "execution_count": null,
   "id": "337166a4",
   "metadata": {},
   "outputs": [],
   "source": [
    "# !pip install schedule"
   ]
  },
  {
   "cell_type": "code",
   "execution_count": 12,
   "id": "c26a008d",
   "metadata": {},
   "outputs": [],
   "source": [
    "import schedule\n",
    "import time\n",
    "import datetime\n",
    "import sys"
   ]
  },
  {
   "cell_type": "code",
   "execution_count": 13,
   "id": "9d2f7ef9",
   "metadata": {},
   "outputs": [],
   "source": [
    "#스케쥴 모듈이 동작시킬 코드 : 현재 시간 출력\n",
    "def test_fuction():\n",
    "    now = datetime.datetime.now()\n",
    "    print(\"test code- 현재 시간 출력하기\")\n",
    "    print(now)"
   ]
  },
  {
   "cell_type": "code",
   "execution_count": 14,
   "id": "d38dfa7f",
   "metadata": {},
   "outputs": [],
   "source": [
    "def exit():\n",
    "    print(\"function exit\")\n",
    "    sys.exit()"
   ]
  },
  {
   "cell_type": "code",
   "execution_count": 15,
   "id": "82c3d9d7",
   "metadata": {},
   "outputs": [],
   "source": [
    "from selenium import webdriver as wd\n",
    "from bs4 import BeautifulSoup as bs\n",
    "import requests\n",
    "import time\n",
    "import os, sys\n",
    "import pandas as pd\n",
    "import numpy as np\n",
    "\n",
    "def get_value(sc_id):\n",
    "    global df_inv, flag_num\n",
    "    url = 'https://open2.shinhaninvest.com/goodicyber/mk/1206.jsp?code=005930'\n",
    "    df = pd.read_html(url)\n",
    "    df_inv = df[7]\n",
    "    df_inv = df_inv.drop([0,1]) # 필요없는 row 제거\n",
    "    reindex = np.arange(1,len(df_inv)+1) # index를 일련번호로 대체하기 위하여 index 생성\n",
    "    df_inv.index = reindex # 새로운 인덱스로 대체\n",
    "    print(df_inv.head())\n",
    "    flag_num=1\n",
    "    schedule.cancel_job(sc_id)\n",
    "    return schedule.CancelJob  # 수행후 schedule camcel"
   ]
  },
  {
   "cell_type": "code",
   "execution_count": 16,
   "id": "5d4cba3f",
   "metadata": {},
   "outputs": [
    {
     "data": {
      "text/plain": [
       "Every 1 day at 17:14:00 do get_value(Job(interval=10, unit=seconds, do=test_fuction, args=(), kwargs={})) (last run: [never], next run: 2022-05-30 17:14:00)"
      ]
     },
     "execution_count": 16,
     "metadata": {},
     "output_type": "execute_result"
    }
   ],
   "source": [
    "#1초마다 test_fuction을 동작시키자\n",
    "sc_10sec = schedule.every(10).seconds.do(test_fuction)\n",
    "# schedule.every().day.at(\"12:52\").do(exit)\n",
    "schedule.every().day.at(\"17:14\").do(get_value, sc_10sec)\n",
    "# schedule.every().day.at(\"13:17\").do(exit)"
   ]
  },
  {
   "cell_type": "code",
   "execution_count": 17,
   "id": "dd1e2df5",
   "metadata": {},
   "outputs": [
    {
     "name": "stdout",
     "output_type": "stream",
     "text": [
      "test code- 현재 시간 출력하기\n",
      "2022-05-30 17:13:55.871833\n",
      "           0         1         2         3        4        5       6      7   \\\n",
      "1  2022/05/30  -2805323   1603310   1227540  1514907    99413  -10095   2826   \n",
      "2  2022/05/27   -738811  -1523239   2272499  2161109   -40089   -1209  -2649   \n",
      "3  2022/05/26   3158014  -1244984  -1975909  -273740  -243295    7098   -462   \n",
      "4  2022/05/25   1367749  -2261361    883770  2076112   -56363    2000   -658   \n",
      "5  2022/05/24   3997412  -2402526  -1564764  -663564   -94479    9102  19002   \n",
      "\n",
      "       8         9       10  \n",
      "1  -12091   -358826    4512  \n",
      "2   15719    110706  -16453  \n",
      "3  -39649  -1279212   47451  \n",
      "4   16478   -584730    6815  \n",
      "5  -10280   -460907  -47068  \n",
      "test code- 현재 시간 출력하기\n",
      "2022-05-30 17:14:06.407247\n",
      "test code- 현재 시간 출력하기\n",
      "2022-05-30 17:14:06.407247\n"
     ]
    }
   ],
   "source": [
    "#무한 루프를 돌면서 스케쥴을 유지한다.\n",
    "\n",
    "flag_num = 0\n",
    "while True:\n",
    "    schedule.run_pending()\n",
    "    if flag_num == 1 : break\n",
    "    time.sleep(10)"
   ]
  },
  {
   "cell_type": "code",
   "execution_count": null,
   "id": "c63841e9",
   "metadata": {},
   "outputs": [],
   "source": [
    "df_inv.head()"
   ]
  },
  {
   "cell_type": "code",
   "execution_count": null,
   "id": "b0f3d473",
   "metadata": {},
   "outputs": [],
   "source": [
    " - 1초마다 동작\n",
    "schedule.every(1).seconds.do(test_function)\n",
    "\n",
    " 1사간마다 동작\n",
    "schedule.every(1).hour.do(test_function)\n",
    "\n",
    " 매일 특정시간에 동작(10:00)\n",
    "schedule.every().day.at(\"10:00\").do(test_function)\n",
    "\n",
    "#매주 월요일에 동작\n",
    "schedule.every().monday.do(test_function)\n",
    "\n",
    "# 10초에 한번씩 실행\n",
    "schedule.every(10).second.do(job)\n",
    "\n",
    "# 10분에 한번씩 실행\n",
    "schedule.every(10).minutes.do(job)\n",
    "\n",
    "# 매 시간 실행\n",
    "schedule.every().hour.do(job)\n",
    "\n",
    "# 매일 10:30 에 실행\n",
    "schedule.every().day.at(\"10:30\").do(job)\n",
    "\n",
    "# 매주 월요일 실행\n",
    "schedule.every().monday.do(job)\n",
    "\n",
    "# 매주 수요일 13:15 에 실행\n",
    "schedule.every().wednesday.at(\"13:15\").do(job)\n",
    "'''"
   ]
  },
  {
   "cell_type": "code",
   "execution_count": null,
   "id": "02270308",
   "metadata": {},
   "outputs": [],
   "source": [
    "df\n"
   ]
  },
  {
   "cell_type": "code",
   "execution_count": null,
   "id": "17d2b39a",
   "metadata": {},
   "outputs": [],
   "source": [
    "import schedule\n",
    "import time\n",
    "import datetime\n",
    "import sys\n",
    "\n",
    "#스케쥴 모듈이 동작시킬 코드 : 현재 시간 출력\n",
    "def test_function():\n",
    "    now = datetime.datetime.now()\n",
    "    print(\"test code- 현재 시간 출력하기\")\n",
    "    print(now)\n",
    "\n",
    "#프로그램을 종료시키기 위한 함수\n",
    "def exit():\n",
    "    print(\"function exit\")\n",
    "    sys.exit()\n",
    "    \n",
    "#1초마다 test_fuction을 동작시키다가 \"22:21\"이 되면 프로그램 종료\n",
    "schedule.every(1).seconds.do(test_function)\n",
    "schedule.every().day.at(\"22:21\").do(exit)\n",
    "\n",
    "\n",
    "#무한 루프를 돌면서 스케쥴을 유지한다.\n",
    "while True:\n",
    "    schedule.run_pending()\n",
    "    time.sleep(1)"
   ]
  },
  {
   "cell_type": "code",
   "execution_count": null,
   "id": "59042e9d",
   "metadata": {},
   "outputs": [],
   "source": [
    "sys.exit()"
   ]
  },
  {
   "cell_type": "code",
   "execution_count": null,
   "id": "638fdafd",
   "metadata": {},
   "outputs": [],
   "source": [
    "schedule 동작 순서 알아보기"
   ]
  },
  {
   "cell_type": "code",
   "execution_count": null,
   "id": "c4688718",
   "metadata": {},
   "outputs": [],
   "source": [
    "import schedule as sd\n",
    "import time\n",
    "\n",
    "def dothis(h):\n",
    "    h-=1\n",
    "    print(\"Hour left : \"+str(h))\n",
    "    return h\n",
    "\n",
    "h=24\n",
    "d=\"14:00\"\n",
    "sd.every().day.at(d).do(dothis,h)\n",
    "a = dothis(h)\n",
    "while True:\n",
    "    sd.run_pending()\n",
    "    return_value = a\n",
    "    time.sleep(1)"
   ]
  },
  {
   "cell_type": "code",
   "execution_count": 11,
   "id": "794f3a1f",
   "metadata": {},
   "outputs": [
    {
     "data": {
      "text/plain": [
       "10"
      ]
     },
     "execution_count": 11,
     "metadata": {},
     "output_type": "execute_result"
    }
   ],
   "source": [
    "def xx():\n",
    "    global a\n",
    "    a=10\n",
    "    return\n",
    "\n",
    "xx()\n",
    "a"
   ]
  },
  {
   "cell_type": "code",
   "execution_count": null,
   "id": "625391b9",
   "metadata": {},
   "outputs": [],
   "source": []
  }
 ],
 "metadata": {
  "kernelspec": {
   "display_name": "Python 3",
   "language": "python",
   "name": "python3"
  },
  "language_info": {
   "codemirror_mode": {
    "name": "ipython",
    "version": 3
   },
   "file_extension": ".py",
   "mimetype": "text/x-python",
   "name": "python",
   "nbconvert_exporter": "python",
   "pygments_lexer": "ipython3",
   "version": "3.9.1"
  }
 },
 "nbformat": 4,
 "nbformat_minor": 5
}
