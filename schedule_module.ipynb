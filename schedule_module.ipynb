{
 "cells": [
  {
   "cell_type": "code",
   "execution_count": null,
   "id": "f751ec45",
   "metadata": {},
   "outputs": [],
   "source": [
    "# !pip install schedule"
   ]
  },
  {
   "cell_type": "code",
   "execution_count": 1,
   "id": "43568f85",
   "metadata": {},
   "outputs": [],
   "source": [
    "import schedule\n",
    "import time\n",
    "import datetime\n",
    "import sys"
   ]
  },
  {
   "cell_type": "code",
   "execution_count": 2,
   "id": "26b9af37",
   "metadata": {},
   "outputs": [],
   "source": [
    "#스케쥴 모듈이 동작시킬 코드 : 현재 시간 출력\n",
    "def test_fuction():\n",
    "    now = datetime.datetime.now()\n",
    "    print(\"test code- 현재 시간 출력하기\")\n",
    "    print(now)"
   ]
  },
  {
   "cell_type": "code",
   "execution_count": 3,
   "id": "6bfe9b2e",
   "metadata": {},
   "outputs": [],
   "source": [
    "def exit():\n",
    "    print(\"function exit\")\n",
    "    sys.exit()"
   ]
  },
  {
   "cell_type": "code",
   "execution_count": 4,
   "id": "e143a00a",
   "metadata": {},
   "outputs": [],
   "source": [
    "from selenium import webdriver as wd\n",
    "from bs4 import BeautifulSoup as bs\n",
    "import requests\n",
    "import time\n",
    "import os, sys\n",
    "import pandas as pd\n",
    "import numpy as np\n",
    "\n",
    "def get_value():\n",
    "    url = 'https://open2.shinhaninvest.com/goodicyber/mk/1206.jsp?code=005930'\n",
    "    res = requests.get(url)\n",
    "    soup = bs(res.text, 'html.parser')\n",
    "    df = pd.read_html(url)\n",
    "    df_inv = df[7]\n",
    "    df_inv = df_inv.drop([0,1]) # 필요없는 row 제거\n",
    "    reindex = np.arange(1,len(df_inv)+1) # index를 일련번호로 대체하기 위하여 index 생성\n",
    "    df_inv.index = reindex # 새로운 인덱스로 대체\n",
    "    print(df_inv.head())\n",
    "    return df_inv.head()"
   ]
  },
  {
   "cell_type": "code",
   "execution_count": 5,
   "id": "7587e58a",
   "metadata": {},
   "outputs": [
    {
     "name": "stdout",
     "output_type": "stream",
     "text": [
      "           0        1         2         3        4        5      6      7   \\\n",
      "1  2022/05/30        0         0         0        0        0      0      0   \n",
      "2  2022/05/27  -738811  -1523239   2272499  2161109   -40089  -1209  -2649   \n",
      "3  2022/05/26  3158014  -1244984  -1975909  -273740  -243295   7098   -462   \n",
      "4  2022/05/25  1367749  -2261361    883770  2076112   -56363   2000   -658   \n",
      "5  2022/05/24  3997412  -2402526  -1564764  -663564   -94479   9102  19002   \n",
      "\n",
      "       8         9       10  \n",
      "1       0         0       0  \n",
      "2   15719    110706  -16453  \n",
      "3  -39649  -1279212   47451  \n",
      "4   16478   -584730    6815  \n",
      "5  -10280   -460907  -47068  \n"
     ]
    },
    {
     "data": {
      "text/plain": [
       "Every 1 day at 13:17:00 do exit() (last run: [never], next run: 2022-05-30 13:17:00)"
      ]
     },
     "execution_count": 5,
     "metadata": {},
     "output_type": "execute_result"
    }
   ],
   "source": [
    "#1초마다 test_fuction을 동작시키자\n",
    "schedule.every(10).seconds.do(test_fuction)\n",
    "schedule.every().day.at(\"12:52\").do(exit)\n",
    "schedule.every().day.at(\"13:17\").do(get_value)\n",
    "df = get_value()\n",
    "schedule.every().day.at(\"13:17\").do(exit)"
   ]
  },
  {
   "cell_type": "code",
   "execution_count": null,
   "id": "8053a625",
   "metadata": {},
   "outputs": [],
   "source": [
    "'''\n",
    "#1초마다 동작\n",
    "schedule.every(1).seconds.do(test_function)\n",
    "\n",
    "#1사간마다 동작\n",
    "schedule.every(1).hour.do(test_function)\n",
    "\n",
    "#매일 특정시간에 동작(10:00)\n",
    "schedule.every().day.at(\"10:00\").do(test_function)\n",
    "\n",
    "#매주 월요일에 동작\n",
    "schedule.every().monday.do(test_function)\n",
    "\n",
    "# 10초에 한번씩 실행\n",
    "schedule.every(10).second.do(job)\n",
    "\n",
    "# 10분에 한번씩 실행\n",
    "schedule.every(10).minutes.do(job)\n",
    "\n",
    "# 매 시간 실행\n",
    "schedule.every().hour.do(job)\n",
    "\n",
    "# 매일 10:30 에 실행\n",
    "schedule.every().day.at(\"10:30\").do(job)\n",
    "\n",
    "# 매주 월요일 실행\n",
    "schedule.every().monday.do(job)\n",
    "\n",
    "# 매주 수요일 13:15 에 실행\n",
    "schedule.every().wednesday.at(\"13:15\").do(job)\n",
    "'''"
   ]
  },
  {
   "cell_type": "code",
   "execution_count": 6,
   "id": "2f0f0671",
   "metadata": {},
   "outputs": [
    {
     "name": "stdout",
     "output_type": "stream",
     "text": [
      "test code- 현재 시간 출력하기\n",
      "2022-05-30 13:16:45.629179\n",
      "test code- 현재 시간 출력하기\n",
      "2022-05-30 13:16:55.638391\n",
      "           0        1         2         3        4        5      6      7   \\\n",
      "1  2022/05/30        0         0         0        0        0      0      0   \n",
      "2  2022/05/27  -738811  -1523239   2272499  2161109   -40089  -1209  -2649   \n",
      "3  2022/05/26  3158014  -1244984  -1975909  -273740  -243295   7098   -462   \n",
      "4  2022/05/25  1367749  -2261361    883770  2076112   -56363   2000   -658   \n",
      "5  2022/05/24  3997412  -2402526  -1564764  -663564   -94479   9102  19002   \n",
      "\n",
      "       8         9       10  \n",
      "1       0         0       0  \n",
      "2   15719    110706  -16453  \n",
      "3  -39649  -1279212   47451  \n",
      "4   16478   -584730    6815  \n",
      "5  -10280   -460907  -47068  \n",
      "function exit\n"
     ]
    },
    {
     "ename": "SystemExit",
     "evalue": "",
     "output_type": "error",
     "traceback": [
      "An exception has occurred, use %tb to see the full traceback.\n",
      "\u001b[1;31mSystemExit\u001b[0m\n"
     ]
    },
    {
     "name": "stderr",
     "output_type": "stream",
     "text": [
      "c:\\users\\user\\appdata\\local\\programs\\python\\python39\\lib\\site-packages\\IPython\\core\\interactiveshell.py:3449: UserWarning: To exit: use 'exit', 'quit', or Ctrl-D.\n",
      "  warn(\"To exit: use 'exit', 'quit', or Ctrl-D.\", stacklevel=1)\n"
     ]
    }
   ],
   "source": [
    "#무한 루프를 돌면서 스케쥴을 유지한다.\n",
    "while True:\n",
    "    schedule.run_pending()\n",
    "    time.sleep(10)"
   ]
  },
  {
   "cell_type": "code",
   "execution_count": 7,
   "id": "aa289b98",
   "metadata": {},
   "outputs": [
    {
     "data": {
      "text/html": [
       "<div>\n",
       "<style scoped>\n",
       "    .dataframe tbody tr th:only-of-type {\n",
       "        vertical-align: middle;\n",
       "    }\n",
       "\n",
       "    .dataframe tbody tr th {\n",
       "        vertical-align: top;\n",
       "    }\n",
       "\n",
       "    .dataframe thead th {\n",
       "        text-align: right;\n",
       "    }\n",
       "</style>\n",
       "<table border=\"1\" class=\"dataframe\">\n",
       "  <thead>\n",
       "    <tr style=\"text-align: right;\">\n",
       "      <th></th>\n",
       "      <th>0</th>\n",
       "      <th>1</th>\n",
       "      <th>2</th>\n",
       "      <th>3</th>\n",
       "      <th>4</th>\n",
       "      <th>5</th>\n",
       "      <th>6</th>\n",
       "      <th>7</th>\n",
       "      <th>8</th>\n",
       "      <th>9</th>\n",
       "      <th>10</th>\n",
       "    </tr>\n",
       "  </thead>\n",
       "  <tbody>\n",
       "    <tr>\n",
       "      <th>1</th>\n",
       "      <td>2022/05/30</td>\n",
       "      <td>0</td>\n",
       "      <td>0</td>\n",
       "      <td>0</td>\n",
       "      <td>0</td>\n",
       "      <td>0</td>\n",
       "      <td>0</td>\n",
       "      <td>0</td>\n",
       "      <td>0</td>\n",
       "      <td>0</td>\n",
       "      <td>0</td>\n",
       "    </tr>\n",
       "    <tr>\n",
       "      <th>2</th>\n",
       "      <td>2022/05/27</td>\n",
       "      <td>-738811</td>\n",
       "      <td>-1523239</td>\n",
       "      <td>2272499</td>\n",
       "      <td>2161109</td>\n",
       "      <td>-40089</td>\n",
       "      <td>-1209</td>\n",
       "      <td>-2649</td>\n",
       "      <td>15719</td>\n",
       "      <td>110706</td>\n",
       "      <td>-16453</td>\n",
       "    </tr>\n",
       "    <tr>\n",
       "      <th>3</th>\n",
       "      <td>2022/05/26</td>\n",
       "      <td>3158014</td>\n",
       "      <td>-1244984</td>\n",
       "      <td>-1975909</td>\n",
       "      <td>-273740</td>\n",
       "      <td>-243295</td>\n",
       "      <td>7098</td>\n",
       "      <td>-462</td>\n",
       "      <td>-39649</td>\n",
       "      <td>-1279212</td>\n",
       "      <td>47451</td>\n",
       "    </tr>\n",
       "    <tr>\n",
       "      <th>4</th>\n",
       "      <td>2022/05/25</td>\n",
       "      <td>1367749</td>\n",
       "      <td>-2261361</td>\n",
       "      <td>883770</td>\n",
       "      <td>2076112</td>\n",
       "      <td>-56363</td>\n",
       "      <td>2000</td>\n",
       "      <td>-658</td>\n",
       "      <td>16478</td>\n",
       "      <td>-584730</td>\n",
       "      <td>6815</td>\n",
       "    </tr>\n",
       "    <tr>\n",
       "      <th>5</th>\n",
       "      <td>2022/05/24</td>\n",
       "      <td>3997412</td>\n",
       "      <td>-2402526</td>\n",
       "      <td>-1564764</td>\n",
       "      <td>-663564</td>\n",
       "      <td>-94479</td>\n",
       "      <td>9102</td>\n",
       "      <td>19002</td>\n",
       "      <td>-10280</td>\n",
       "      <td>-460907</td>\n",
       "      <td>-47068</td>\n",
       "    </tr>\n",
       "  </tbody>\n",
       "</table>\n",
       "</div>"
      ],
      "text/plain": [
       "           0        1         2         3        4        5      6      7   \\\n",
       "1  2022/05/30        0         0         0        0        0      0      0   \n",
       "2  2022/05/27  -738811  -1523239   2272499  2161109   -40089  -1209  -2649   \n",
       "3  2022/05/26  3158014  -1244984  -1975909  -273740  -243295   7098   -462   \n",
       "4  2022/05/25  1367749  -2261361    883770  2076112   -56363   2000   -658   \n",
       "5  2022/05/24  3997412  -2402526  -1564764  -663564   -94479   9102  19002   \n",
       "\n",
       "       8         9       10  \n",
       "1       0         0       0  \n",
       "2   15719    110706  -16453  \n",
       "3  -39649  -1279212   47451  \n",
       "4   16478   -584730    6815  \n",
       "5  -10280   -460907  -47068  "
      ]
     },
     "execution_count": 7,
     "metadata": {},
     "output_type": "execute_result"
    }
   ],
   "source": [
    "df\n"
   ]
  },
  {
   "cell_type": "code",
   "execution_count": null,
   "id": "07506319",
   "metadata": {},
   "outputs": [],
   "source": [
    "import schedule\n",
    "import time\n",
    "import datetime\n",
    "import sys\n",
    "\n",
    "#스케쥴 모듈이 동작시킬 코드 : 현재 시간 출력\n",
    "def test_function():\n",
    "    now = datetime.datetime.now()\n",
    "    print(\"test code- 현재 시간 출력하기\")\n",
    "    print(now)\n",
    "\n",
    "#프로그램을 종료시키기 위한 함수\n",
    "def exit():\n",
    "    print(\"function exit\")\n",
    "    sys.exit()\n",
    "    \n",
    "#1초마다 test_fuction을 동작시키다가 \"22:21\"이 되면 프로그램 종료\n",
    "schedule.every(1).seconds.do(test_function)\n",
    "schedule.every().day.at(\"22:21\").do(exit)\n",
    "\n",
    "\n",
    "#무한 루프를 돌면서 스케쥴을 유지한다.\n",
    "while True:\n",
    "    schedule.run_pending()\n",
    "    time.sleep(1)"
   ]
  },
  {
   "cell_type": "code",
   "execution_count": null,
   "id": "108b6aed",
   "metadata": {},
   "outputs": [],
   "source": [
    "sys.exit()"
   ]
  },
  {
   "cell_type": "code",
   "execution_count": null,
   "id": "3adaa5d0",
   "metadata": {},
   "outputs": [],
   "source": [
    "schedule 동작 순서 알아보기"
   ]
  },
  {
   "cell_type": "code",
   "execution_count": null,
   "id": "1e143ec9",
   "metadata": {},
   "outputs": [],
   "source": [
    "import schedule as sd\n",
    "import time\n",
    "\n",
    "def dothis(h):\n",
    "    h-=1\n",
    "    print(\"Hour left : \"+str(h))\n",
    "    return h\n",
    "\n",
    "h=24\n",
    "d=\"14:00\"\n",
    "sd.every().day.at(d).do(dothis,h)\n",
    "a = dothis(h)\n",
    "while True:\n",
    "    sd.run_pending()\n",
    "    return_value = a\n",
    "    time.sleep(1)"
   ]
  }
 ],
 "metadata": {
  "kernelspec": {
   "display_name": "Python 3",
   "language": "python",
   "name": "python3"
  },
  "language_info": {
   "codemirror_mode": {
    "name": "ipython",
    "version": 3
   },
   "file_extension": ".py",
   "mimetype": "text/x-python",
   "name": "python",
   "nbconvert_exporter": "python",
   "pygments_lexer": "ipython3",
   "version": "3.9.1"
  }
 },
 "nbformat": 4,
 "nbformat_minor": 5
}
