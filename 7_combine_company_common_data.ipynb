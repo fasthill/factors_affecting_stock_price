{
 "cells": [
  {
   "cell_type": "markdown",
   "id": "459ff0ca",
   "metadata": {},
   "source": [
    "## combine company data and common data"
   ]
  },
  {
   "cell_type": "code",
   "execution_count": 1,
   "id": "d3b5a935",
   "metadata": {},
   "outputs": [],
   "source": [
    "import datetime, time\n",
    "from datetime import date\n",
    "\n",
    "import pandas as pd\n",
    "import numpy as np\n",
    "\n",
    "from sklearn.preprocessing import StandardScaler"
   ]
  },
  {
   "cell_type": "code",
   "execution_count": 2,
   "id": "d6f9e0c8",
   "metadata": {},
   "outputs": [],
   "source": [
    "code = {'005930': ['삼성전자', 'sec'], '005380': ['현대차', 'hyunmotor'],\n",
    "                 '035420': ['NAVER', 'naver'], '033780': ['KT&G', 'ktng']}\n",
    "# code = {'005930': ['삼성전자', 'sec']}\n",
    "\n",
    "code = {'005930': ['삼성전자', 'sec'], '373220': ['LG에너지솔루션', 'lgenergy'], \n",
    "        '000660': ['SK하이닉스', 'skhynix'], '207940': ['삼성바이오로직스', 'ssbio'],\n",
    "        '006400': ['삼성SDI', 'sdi'], '051910': ['LG화학', 'lgchemical'],\n",
    "        '005935': ['삼성전자우', 'secpre'], '005380': ['현대차', 'hyunmotor'],\n",
    "        '035420': ['NAVER', 'naver'], '000270': ['기아','kia'],\n",
    "        '035720': ['카카오', 'kakao'], '005490': ['POSCO홀딩스', 'poscoholding'],\n",
    "        '105560': ['KB금융', 'kbbank'], '028260': ['삼성물산', 'sscnt'],\n",
    "        '068270': ['셀트리온', 'celltrion'], '012330': ['현대모비스', 'mobis'],\n",
    "        '055550': ['신한지주', 'shgroup'], '066570': ['LG전자', 'lgelec'],\n",
    "        '003670': ['포스코퓨처엠', 'poscochemical'], '096770': ['SK이노베이션', 'skinnovation'],\n",
    "        '033780': ['KT&G', 'ktng'], '030200': ['KT', 'kt'],\n",
    "        '003550': ['LG', 'lg'], '034730': ['SK', 'sk'], \n",
    "        '032830': ['삼성생명', 'sslife'], '086790': ['하나금융지주', 'hana'], \n",
    "        '009150': ['삼성전기', 'sselec'], '015760': ['한국전력', 'koreaelec'],\n",
    "        '034020': ['두산에너빌리티', 'doosanener'], '010130': ['고려아연', 'koreazinc'],\n",
    "        '017670': ['SK텔레콤', 'sktelecom'], '011200': ['HMM', 'hmm'],\n",
    "        '000810': ['삼성화재', 'ssfire'], '051900': ['LG생활건강', 'lglife'],\n",
    "        '010950': ['S-Oil', 'soil'], '259960': ['크래프톤', 'crafton'],\n",
    "        '018260': ['삼성에스디에스', 'sds'], '329180': ['현대중공업', 'hhi'],\n",
    "        '003490': ['대한항공', 'koreanair'], '036570': ['엔씨소프트', 'ncsoft'],\n",
    "        '009830': ['한화솔루션', 'hanhwasol'], '316140': ['우리금융지주', 'woorifg'],\n",
    "        '090430': ['아모레퍼시픽', 'amore'], '011170': ['롯데케미칼', 'lottechem'], \n",
    "        '024110': ['기업은행', 'ibk'], '138040': ['메리츠금융지주', 'meritz'], \n",
    "        '377300': ['카카오페이', 'kakaopay'], '011070': ['LG이노텍', 'lginnotek'],\n",
    "        '028050': ['삼성엔지니어링', 'ssengineering'], '361610': ['SK아이이테크놀로지', 'skietech'],\n",
    "        '086280': ['현대글로비스', 'glovis'], '302440': ['SK바이오사이언스', 'skbio'],\n",
    "       }\n",
    "# code = {'003550': ['LG', 'lg']}"
   ]
  },
  {
   "cell_type": "code",
   "execution_count": 3,
   "id": "1ced9635",
   "metadata": {},
   "outputs": [],
   "source": [
    "directory_for_predict = './data/data_for_ml/predict/'\n",
    "pkl_common_directory = './data/common_pkl/'\n",
    "pkl_directory = './data/common_pkl/'"
   ]
  },
  {
   "cell_type": "code",
   "execution_count": 4,
   "id": "a4ac3c16",
   "metadata": {},
   "outputs": [],
   "source": [
    "df_common = pd.read_pickle(directory_for_predict + '0_df_common.pkl')"
   ]
  },
  {
   "cell_type": "code",
   "execution_count": 5,
   "id": "82d5ae58",
   "metadata": {},
   "outputs": [],
   "source": [
    "for key, val in code.items():\n",
    "    df_company = pd.read_pickle(directory_for_predict + f'df_{val[1]}_company.pkl')\n",
    "    df_company = df_company.merge(df_common, how='left', left_index=True, right_index=True)\n",
    "    globals()[f'df_{val[1]}_combine'] = df_company.copy()"
   ]
  },
  {
   "cell_type": "code",
   "execution_count": 6,
   "id": "6c798e31",
   "metadata": {},
   "outputs": [
    {
     "data": {
      "text/html": [
       "<div>\n",
       "<style scoped>\n",
       "    .dataframe tbody tr th:only-of-type {\n",
       "        vertical-align: middle;\n",
       "    }\n",
       "\n",
       "    .dataframe tbody tr th {\n",
       "        vertical-align: top;\n",
       "    }\n",
       "\n",
       "    .dataframe thead th {\n",
       "        text-align: right;\n",
       "    }\n",
       "</style>\n",
       "<table border=\"1\" class=\"dataframe\">\n",
       "  <thead>\n",
       "    <tr style=\"text-align: right;\">\n",
       "      <th></th>\n",
       "      <th>retail_1</th>\n",
       "      <th>foreigner_1</th>\n",
       "      <th>institution_1</th>\n",
       "      <th>financial_1</th>\n",
       "      <th>invtrust_1</th>\n",
       "      <th>pension_1</th>\n",
       "      <th>privequity_1</th>\n",
       "      <th>bank_1</th>\n",
       "      <th>insurance_1</th>\n",
       "      <th>financeetc_1</th>\n",
       "      <th>...</th>\n",
       "      <th>bond_kor_10_cr</th>\n",
       "      <th>bond_kor_10_cr_2</th>\n",
       "      <th>bond_kor_2_cr</th>\n",
       "      <th>bond_kor_2_cr_2</th>\n",
       "      <th>kosdaq_cr</th>\n",
       "      <th>kosdaq_cr_2</th>\n",
       "      <th>kospi_cr</th>\n",
       "      <th>kospi_cr_2</th>\n",
       "      <th>krw_cr</th>\n",
       "      <th>krw_cr_2</th>\n",
       "    </tr>\n",
       "  </thead>\n",
       "  <tbody>\n",
       "    <tr>\n",
       "      <th>2023-05-10</th>\n",
       "      <td>-0.025850</td>\n",
       "      <td>0.381043</td>\n",
       "      <td>-0.429033</td>\n",
       "      <td>-1.578787</td>\n",
       "      <td>-0.620475</td>\n",
       "      <td>39.087097</td>\n",
       "      <td>1.867142</td>\n",
       "      <td>2.473684</td>\n",
       "      <td>-8.696429</td>\n",
       "      <td>-90.500000</td>\n",
       "      <td>...</td>\n",
       "      <td>+0.03%</td>\n",
       "      <td>0.976503</td>\n",
       "      <td>0.00%</td>\n",
       "      <td>1.597348</td>\n",
       "      <td>-0.76%</td>\n",
       "      <td>-1.089866</td>\n",
       "      <td>-0.13%</td>\n",
       "      <td>0.364668</td>\n",
       "      <td>+0.34%</td>\n",
       "      <td>0.603964</td>\n",
       "    </tr>\n",
       "    <tr>\n",
       "      <th>2023-05-11</th>\n",
       "      <td>1.404133</td>\n",
       "      <td>1.173121</td>\n",
       "      <td>1.747427</td>\n",
       "      <td>-0.467047</td>\n",
       "      <td>0.231795</td>\n",
       "      <td>-0.359137</td>\n",
       "      <td>4.105561</td>\n",
       "      <td>0.477273</td>\n",
       "      <td>-1.578886</td>\n",
       "      <td>-1.117318</td>\n",
       "      <td>...</td>\n",
       "      <td>+1.06%</td>\n",
       "      <td>1.088271</td>\n",
       "      <td>-0.09%</td>\n",
       "      <td>-0.088994</td>\n",
       "      <td>-0.73%</td>\n",
       "      <td>-1.488821</td>\n",
       "      <td>-0.54%</td>\n",
       "      <td>-0.664487</td>\n",
       "      <td>-0.62%</td>\n",
       "      <td>-0.282257</td>\n",
       "    </tr>\n",
       "    <tr>\n",
       "      <th>2023-05-12</th>\n",
       "      <td>-0.857720</td>\n",
       "      <td>-1.080350</td>\n",
       "      <td>-0.316527</td>\n",
       "      <td>-3.314505</td>\n",
       "      <td>0.475021</td>\n",
       "      <td>-0.408714</td>\n",
       "      <td>-0.875814</td>\n",
       "      <td>-0.866667</td>\n",
       "      <td>0.565130</td>\n",
       "      <td>-1.000000</td>\n",
       "      <td>...</td>\n",
       "      <td>-1.64%</td>\n",
       "      <td>-0.604412</td>\n",
       "      <td>-1.22%</td>\n",
       "      <td>-1.305251</td>\n",
       "      <td>-0.63%</td>\n",
       "      <td>-1.353113</td>\n",
       "      <td>-0.22%</td>\n",
       "      <td>-0.759347</td>\n",
       "      <td>+0.99%</td>\n",
       "      <td>0.370309</td>\n",
       "    </tr>\n",
       "    <tr>\n",
       "      <th>2023-05-15</th>\n",
       "      <td>-0.221207</td>\n",
       "      <td>-4.765016</td>\n",
       "      <td>-1.453239</td>\n",
       "      <td>-1.853216</td>\n",
       "      <td>-1.474174</td>\n",
       "      <td>-0.357401</td>\n",
       "      <td>-1.982175</td>\n",
       "      <td>-0.500000</td>\n",
       "      <td>-1.701665</td>\n",
       "      <td>-inf</td>\n",
       "      <td>...</td>\n",
       "      <td>-0.55%</td>\n",
       "      <td>-2.183014</td>\n",
       "      <td>+0.36%</td>\n",
       "      <td>-0.861045</td>\n",
       "      <td>-0.26%</td>\n",
       "      <td>-0.880999</td>\n",
       "      <td>-0.63%</td>\n",
       "      <td>-0.844783</td>\n",
       "      <td>+0.87%</td>\n",
       "      <td>1.870599</td>\n",
       "    </tr>\n",
       "    <tr>\n",
       "      <th>2023-05-16</th>\n",
       "      <td>-0.912329</td>\n",
       "      <td>-1.197100</td>\n",
       "      <td>-1.514544</td>\n",
       "      <td>-0.985421</td>\n",
       "      <td>-1.903571</td>\n",
       "      <td>2.323529</td>\n",
       "      <td>1.447187</td>\n",
       "      <td>-0.307692</td>\n",
       "      <td>-1.009124</td>\n",
       "      <td>-1.000000</td>\n",
       "      <td>...</td>\n",
       "      <td>+1.52%</td>\n",
       "      <td>1.523461</td>\n",
       "      <td>+1.72%</td>\n",
       "      <td>1.716867</td>\n",
       "      <td>-0.96%</td>\n",
       "      <td>-1.214004</td>\n",
       "      <td>0.16%</td>\n",
       "      <td>-0.467680</td>\n",
       "      <td>-0.61%</td>\n",
       "      <td>-0.605627</td>\n",
       "    </tr>\n",
       "  </tbody>\n",
       "</table>\n",
       "<p>5 rows × 114 columns</p>\n",
       "</div>"
      ],
      "text/plain": [
       "            retail_1  foreigner_1  institution_1  financial_1  invtrust_1   \n",
       "2023-05-10 -0.025850     0.381043      -0.429033    -1.578787   -0.620475  \\\n",
       "2023-05-11  1.404133     1.173121       1.747427    -0.467047    0.231795   \n",
       "2023-05-12 -0.857720    -1.080350      -0.316527    -3.314505    0.475021   \n",
       "2023-05-15 -0.221207    -4.765016      -1.453239    -1.853216   -1.474174   \n",
       "2023-05-16 -0.912329    -1.197100      -1.514544    -0.985421   -1.903571   \n",
       "\n",
       "            pension_1  privequity_1    bank_1  insurance_1  financeetc_1  ...   \n",
       "2023-05-10  39.087097      1.867142  2.473684    -8.696429    -90.500000  ...  \\\n",
       "2023-05-11  -0.359137      4.105561  0.477273    -1.578886     -1.117318  ...   \n",
       "2023-05-12  -0.408714     -0.875814 -0.866667     0.565130     -1.000000  ...   \n",
       "2023-05-15  -0.357401     -1.982175 -0.500000    -1.701665          -inf  ...   \n",
       "2023-05-16   2.323529      1.447187 -0.307692    -1.009124     -1.000000  ...   \n",
       "\n",
       "            bond_kor_10_cr  bond_kor_10_cr_2  bond_kor_2_cr  bond_kor_2_cr_2   \n",
       "2023-05-10          +0.03%          0.976503          0.00%         1.597348  \\\n",
       "2023-05-11          +1.06%          1.088271         -0.09%        -0.088994   \n",
       "2023-05-12          -1.64%         -0.604412         -1.22%        -1.305251   \n",
       "2023-05-15          -0.55%         -2.183014         +0.36%        -0.861045   \n",
       "2023-05-16          +1.52%          1.523461         +1.72%         1.716867   \n",
       "\n",
       "            kosdaq_cr  kosdaq_cr_2  kospi_cr  kospi_cr_2  krw_cr  krw_cr_2  \n",
       "2023-05-10     -0.76%    -1.089866    -0.13%    0.364668  +0.34%  0.603964  \n",
       "2023-05-11     -0.73%    -1.488821    -0.54%   -0.664487  -0.62% -0.282257  \n",
       "2023-05-12     -0.63%    -1.353113    -0.22%   -0.759347  +0.99%  0.370309  \n",
       "2023-05-15     -0.26%    -0.880999    -0.63%   -0.844783  +0.87%  1.870599  \n",
       "2023-05-16     -0.96%    -1.214004     0.16%   -0.467680  -0.61% -0.605627  \n",
       "\n",
       "[5 rows x 114 columns]"
      ]
     },
     "execution_count": 6,
     "metadata": {},
     "output_type": "execute_result"
    }
   ],
   "source": [
    "df_hyunmotor_combine.tail()"
   ]
  },
  {
   "cell_type": "code",
   "execution_count": 7,
   "id": "587ac2cd",
   "metadata": {},
   "outputs": [],
   "source": [
    "col_inv1 = ['retail_1', 'foreigner_1', 'institution_1', 'financial_1', 'invtrust_1', 'pension_1', 'privequity_1', \n",
    "            'bank_1', 'insurance_1', 'financeetc_1', 'corporateetc_1', 'foreigneretc_1']"
   ]
  },
  {
   "cell_type": "code",
   "execution_count": 8,
   "id": "01915cc7",
   "metadata": {},
   "outputs": [],
   "source": [
    "col_inv2 = ['retail_2', 'foreigner_2', 'institution_2', 'financial_2', 'invtrust_2', 'pension_2',\n",
    "            'privequity_2', 'bank_2', 'insurance_2', 'financeetc_2', 'corporateetc_2', 'foreigneretc_2']"
   ]
  },
  {
   "cell_type": "code",
   "execution_count": 9,
   "id": "76ca8389",
   "metadata": {},
   "outputs": [],
   "source": [
    "col_his1 = ['open_1', 'high_1', 'low_1', 'close_1', 'vol_1']"
   ]
  },
  {
   "cell_type": "code",
   "execution_count": 10,
   "id": "182e9768",
   "metadata": {},
   "outputs": [],
   "source": [
    "col_his2 = ['open_2', 'high_2', 'low_2', 'close_2', 'vol_2']"
   ]
  },
  {
   "cell_type": "code",
   "execution_count": 11,
   "id": "9a595935",
   "metadata": {},
   "outputs": [],
   "source": [
    "col_cr = ['weekday', 'cr_00', 'cr_05', 'cr_10', 'cr_15', 'cr_20']"
   ]
  },
  {
   "cell_type": "code",
   "execution_count": 12,
   "id": "8a6b4bac",
   "metadata": {},
   "outputs": [],
   "source": [
    "col_common1 = [\"dji_cr\", \"dji_f_cr\", \"dxy_cr\", \"ixic_f_cr\", \"bond_kor_10_cr\", \"bond_kor_2_cr\", \"kosdaq_cr\", \"kospi_cr\", \n",
    "         \"krw_cr\", \"ixic_cr\", \"spx_f_cr\", \"sox_cr\", \"spx_cr\", \"bond_usa_10_cr\", \"bond_usa_2_cr\", \"bond_usa_3m_cr\", \n",
    "         \"vix_cr\", \"wti_cr\", \"spsy_cr\", \"spny_cr\", \"spxhc_cr\", \"splrcd_cr\", \"splrci_cr\", \"splrcu_cr\", \"splrcs_cr\",\n",
    "         \"splrct_cr\", \"splrcl_cr\", \"splrcm_cr\", \"ixbk_cr\", \"ixfn_cr\", \"ixid_cr\", \"ixis_cr\", \"ixk_cr\", \"ixtr_cr\",\n",
    "         \"ixut_cr\", \"nbi_cr\", \"bkx_cr\"]"
   ]
  },
  {
   "cell_type": "code",
   "execution_count": 13,
   "id": "f90335b9",
   "metadata": {},
   "outputs": [],
   "source": [
    "col_common2 = [\"dji_cr_2\", \"dji_f_cr_2\", \"dxy_cr_2\", \"ixic_f_cr_2\", \"bond_kor_10_cr_2\", \"bond_kor_2_cr_2\", \"kosdaq_cr_2\", \"kospi_cr_2\",\n",
    "         \"krw_cr_2\", \"ixic_cr_2\", \"spx_f_cr_2\", \"sox_cr_2\", \"spx_cr_2\", \"bond_usa_10_cr_2\", \"bond_usa_2_cr_2\", \"bond_usa_3m_cr_2\",\n",
    "         \"vix_cr_2\", \"wti_cr_2\", \"spsy_cr_2\", \"spny_cr_2\", \"spxhc_cr_2\", \"splrcd_cr_2\", \"splrci_cr_2\", \"splrcu_cr_2\",\n",
    "         \"splrcs_cr_2\", \"splrct_cr_2\", \"splrcl_cr_2\", \"splrcm_cr_2\", \"ixbk_cr_2\", \"ixfn_cr_2\", \"ixid_cr_2\",\n",
    "         \"ixis_cr_2\", \"ixk_cr_2\", \"ixtr_cr_2\", \"ixut_cr_2\", \"nbi_cr_2\", \"bkx_cr_2\"]"
   ]
  },
  {
   "cell_type": "code",
   "execution_count": 14,
   "id": "75ec6070",
   "metadata": {},
   "outputs": [],
   "source": [
    "col_col = col_inv1 + col_common1 + col_his1 + col_inv2 + col_common2 + col_his2 + col_cr"
   ]
  },
  {
   "cell_type": "code",
   "execution_count": 15,
   "id": "ff6769da",
   "metadata": {},
   "outputs": [],
   "source": [
    "# # write common data only\n",
    "# df_temp = df_common.copy()\n",
    "# df_temp = df_temp[col_common1+col_common2]\n",
    "# pkl_common_directory = './data/common_pkl/'\n",
    "# df_temp.to_pickle(pkl_common_directory + 'df_common.pkl')\n",
    "# df_temp.to_csv(pkl_common_directory + 'df_common.csv')"
   ]
  },
  {
   "cell_type": "code",
   "execution_count": 16,
   "id": "c78c8f82",
   "metadata": {},
   "outputs": [],
   "source": [
    "new_columns = col_col"
   ]
  },
  {
   "cell_type": "code",
   "execution_count": 17,
   "id": "02da1256",
   "metadata": {},
   "outputs": [],
   "source": [
    "# column 순서 변경 : weekday, 'cr_00', 'cr_05', 'cr_10', 'cr_15', 'cr_20' column을 마지막으로 이동 \n",
    "for key, val in code.items():\n",
    "    globals()['df_{}_combine'.format(val[1])] = globals()['df_{}_combine'.format(val[1])][new_columns]"
   ]
  },
  {
   "cell_type": "code",
   "execution_count": 18,
   "id": "d4f1fa06",
   "metadata": {},
   "outputs": [
    {
     "data": {
      "text/plain": [
       "'\\n# drop inf, -inf : replace inf to 1 or -1 . 데이터를 살리고\\n# 변동률이 무한대가 되는 것을 방지하기 위해서, 나중에 발생하는 에러를 방지\\ndf_sec_sel.replace([np.inf, -np.inf], [1, -1], inplace=True)\\n\\n.impute 사용하는 것을 고려할 필요 있음.\\n'"
      ]
     },
     "execution_count": 18,
     "metadata": {},
     "output_type": "execute_result"
    }
   ],
   "source": [
    "'''\n",
    "# drop inf, -inf : replace inf to 1 or -1 . 데이터를 살리고\n",
    "# 변동률이 무한대가 되는 것을 방지하기 위해서, 나중에 발생하는 에러를 방지\n",
    "df_sec_sel.replace([np.inf, -np.inf], [1, -1], inplace=True)\n",
    "\n",
    ".impute 사용하는 것을 고려할 필요 있음.\n",
    "'''"
   ]
  },
  {
   "cell_type": "code",
   "execution_count": 19,
   "id": "7e91c1c5",
   "metadata": {},
   "outputs": [],
   "source": [
    "# drop inf, -inf : replace inf to 1 or -1 . 데이터를 살리고\n",
    "# 변동률이 무한대가 되는 것을 방지하기 위해서, 나중에 발생하는 에러를 방지\n",
    "for key, val in code.items():\n",
    "    globals()['df_{}_combine'.format(val[1])].replace([np.inf, -np.inf], [1, -1], inplace=True)\n",
    "\n",
    "# **** 데이터 전처리 from sklearn.impute import SimpleImputer, SimpleImputer 사용하기로 함."
   ]
  },
  {
   "cell_type": "code",
   "execution_count": 20,
   "id": "21a6d628",
   "metadata": {},
   "outputs": [],
   "source": [
    "# delete rows which include NaN : dji, spx, nasdaq 지수가 nan인 rows 제거\n",
    "for key, val in code.items():\n",
    "    globals()['df_{}_combine'.format(val[1])].dropna(inplace=True)"
   ]
  },
  {
   "cell_type": "code",
   "execution_count": 21,
   "id": "c6f3061c",
   "metadata": {},
   "outputs": [],
   "source": [
    "# string column을 numeric으로 전환\n",
    "def string_to_num(df):\n",
    "    df.replace('%', '', regex=True, inplace=True)\n",
    "    return df.apply(pd.to_numeric)\n",
    "\n",
    "for key, val in code.items():\n",
    "    globals()['df_{}_combine'.format(val[1])] = string_to_num(globals()['df_{}_combine'.format(val[1])])"
   ]
  },
  {
   "cell_type": "code",
   "execution_count": 22,
   "id": "7e8d5acf",
   "metadata": {},
   "outputs": [],
   "source": [
    "# pickle로 데이터 저장\n",
    "\n",
    "for key, val in code.items():\n",
    "    globals()[f'df_{val[1]}_combine'].to_pickle(directory_for_predict + f'df_{val[1]}_combine.pkl')\n",
    "    globals()[f'df_{val[1]}_combine'].to_csv(directory_for_predict + f'df_{val[1]}_combine.csv')"
   ]
  },
  {
   "cell_type": "code",
   "execution_count": null,
   "id": "d2728c8c",
   "metadata": {},
   "outputs": [],
   "source": []
  },
  {
   "cell_type": "code",
   "execution_count": null,
   "id": "a01825d3",
   "metadata": {},
   "outputs": [],
   "source": []
  }
 ],
 "metadata": {
  "kernelspec": {
   "display_name": "Python 3 (ipykernel)",
   "language": "python",
   "name": "python3"
  },
  "language_info": {
   "codemirror_mode": {
    "name": "ipython",
    "version": 3
   },
   "file_extension": ".py",
   "mimetype": "text/x-python",
   "name": "python",
   "nbconvert_exporter": "python",
   "pygments_lexer": "ipython3",
   "version": "3.9.1"
  }
 },
 "nbformat": 4,
 "nbformat_minor": 5
}
