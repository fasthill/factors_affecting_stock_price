{
 "cells": [
  {
   "cell_type": "markdown",
   "id": "459ff0ca",
   "metadata": {},
   "source": [
    "## combine company data and common data"
   ]
  },
  {
   "cell_type": "code",
   "execution_count": 1,
   "id": "d3b5a935",
   "metadata": {},
   "outputs": [],
   "source": [
    "import datetime, time\n",
    "from datetime import date\n",
    "\n",
    "import pandas as pd\n",
    "import numpy as np\n",
    "\n",
    "from sklearn.preprocessing import StandardScaler"
   ]
  },
  {
   "cell_type": "code",
   "execution_count": 2,
   "id": "d6f9e0c8",
   "metadata": {},
   "outputs": [],
   "source": [
    "code = {'005930': ['삼성전자', 'sec'], '005380': ['현대차', 'hyunmotor'],\n",
    "                 '035420': ['NAVER', 'naver'], '033780': ['KT&G', 'ktng']}\n",
    "# code = {'005930': ['삼성전자', 'sec']}\n",
    "\n",
    "code = {'005930' : ['삼성전자', 'sec'], '373220' : ['LG에너지솔루션', 'lgenergy'], \n",
    "        '000660' : ['SK하이닉스', 'skhynix'], '207940' : ['삼성바이오로직스', 'ssbio'],\n",
    "        '006400' : ['삼성SDI', 'sdi'], '051910' : ['LG화학', 'lgchemical'],\n",
    "        '005935' : ['삼성전자우', 'secpre'], '005380' : ['현대차', 'hyunmotor'],\n",
    "        '035420' : ['NAVER', 'naver'], '000270' : ['기아','kia'],\n",
    "        '035720' : ['카카오', 'kakao'], '005490' : ['POSCO홀딩스', 'poscoholding'],\n",
    "        '105560' : ['KB금융', 'kbbank'], '028260' : ['삼성물산', 'sscnt'],\n",
    "        '068270' : ['셀트리온', 'celltrion'], '012330' : ['현대모비스', 'mobis'],\n",
    "        '055550' : ['신한지주', 'shgroup'], '066570' : ['LG전자', 'lgelec'],\n",
    "        '003670' : ['포스코퓨처엠', 'poscochemical'], '096770' : ['SK이노베이션', 'skinnovation'],\n",
    "        '033780' : ['KT&G', 'ktng'], '030200' : ['KT', 'kt'],\n",
    "        '003550' : ['LG', 'lg'], '034730' : ['SK', 'sk'], \n",
    "        '032830' : ['삼성생명', 'sslife'], '086790' : ['하나금융지주', 'hana'], \n",
    "        '009150' : ['삼성전기', 'sselec'], '015760' : ['한국전력', 'koreaelec'],\n",
    "        '034020' : ['두산에너빌리티', 'doosanener'], '010130' : ['고려아연', 'koreazinc'],\n",
    "        '017670' : ['SK텔레콤', 'sktelecom'], '011200' : ['HMM', 'hmm'],\n",
    "        '000810' : ['삼성화재', 'ssfire'], '051900' : ['LG생활건강', 'lglife'],\n",
    "        '010950' : ['S-Oil', 'soil'], '259960' : ['크래프톤', 'crafton'],\n",
    "        '018260' : ['삼성에스디에스', 'sds'], '329180' : ['현대중공업', 'hhi'],\n",
    "        '003490' : ['대한항공', 'koreanair'], '036570' : ['엔씨소프트', 'ncsoft'],\n",
    "        '009830' : ['한화솔루션', 'hanhwasol'], '316140' : ['우리금융지주', 'woorifg'],\n",
    "        '090430' : ['아모레퍼시픽', 'amore'], '011170' : ['롯데케미칼', 'lottechem'], \n",
    "        '024110' : ['기업은행', 'ibk'], '138040' : ['메리츠금융지주', 'meritz'], \n",
    "        '377300' : ['카카오페이', 'kakaopay'], '011070' : ['LG이노텍', 'lginnotek'],\n",
    "        '028050' : ['삼성엔지니어링', 'ssengineering'], '361610' : ['SK아이이테크놀로지', 'skietech'],\n",
    "        '086280' : ['현대글로비스', 'glovis'], '302440' : ['SK바이오사이언스', 'skbio'],\n",
    "       }\n",
    "# code = {'003550' : ['LG', 'lg']}"
   ]
  },
  {
   "cell_type": "code",
   "execution_count": 3,
   "id": "1ced9635",
   "metadata": {},
   "outputs": [],
   "source": [
    "directory_for_predict = './data/data_for_ml/predict/'\n",
    "pkl_common_directory = './data/common_pkl/'\n",
    "pkl_directory = './data/common_pkl/'"
   ]
  },
  {
   "cell_type": "code",
   "execution_count": 4,
   "id": "a4ac3c16",
   "metadata": {},
   "outputs": [],
   "source": [
    "df_common = pd.read_pickle(directory_for_predict + '0_df_common.pkl')"
   ]
  },
  {
   "cell_type": "code",
   "execution_count": 5,
   "id": "82d5ae58",
   "metadata": {},
   "outputs": [],
   "source": [
    "for key, val in code.items():\n",
    "    df_company = pd.read_pickle(directory_for_predict + f'df_{val[1]}_company.pkl')\n",
    "    df_company = df_company.merge(df_common, how='left', left_index=True, right_index=True)\n",
    "    globals()[f'df_{val[1]}_combine'] = df_company.copy()"
   ]
  },
  {
   "cell_type": "code",
   "execution_count": 6,
   "id": "6c798e31",
   "metadata": {},
   "outputs": [
    {
     "data": {
      "text/html": [
       "<div>\n",
       "<style scoped>\n",
       "    .dataframe tbody tr th:only-of-type {\n",
       "        vertical-align: middle;\n",
       "    }\n",
       "\n",
       "    .dataframe tbody tr th {\n",
       "        vertical-align: top;\n",
       "    }\n",
       "\n",
       "    .dataframe thead th {\n",
       "        text-align: right;\n",
       "    }\n",
       "</style>\n",
       "<table border=\"1\" class=\"dataframe\">\n",
       "  <thead>\n",
       "    <tr style=\"text-align: right;\">\n",
       "      <th></th>\n",
       "      <th>retail_1</th>\n",
       "      <th>foreigner_1</th>\n",
       "      <th>institution_1</th>\n",
       "      <th>financial_1</th>\n",
       "      <th>invtrust_1</th>\n",
       "      <th>pension_1</th>\n",
       "      <th>privequity_1</th>\n",
       "      <th>bank_1</th>\n",
       "      <th>insurance_1</th>\n",
       "      <th>financeetc_1</th>\n",
       "      <th>...</th>\n",
       "      <th>bond_kor_10_cr</th>\n",
       "      <th>bond_kor_10_cr_2</th>\n",
       "      <th>bond_kor_2_cr</th>\n",
       "      <th>bond_kor_2_cr_2</th>\n",
       "      <th>kosdaq_cr</th>\n",
       "      <th>kosdaq_cr_2</th>\n",
       "      <th>kospi_cr</th>\n",
       "      <th>kospi_cr_2</th>\n",
       "      <th>krw_cr</th>\n",
       "      <th>krw_cr_2</th>\n",
       "    </tr>\n",
       "  </thead>\n",
       "  <tbody>\n",
       "    <tr>\n",
       "      <th>2023-04-25</th>\n",
       "      <td>9.800532</td>\n",
       "      <td>-1.225337</td>\n",
       "      <td>-0.084075</td>\n",
       "      <td>-0.157031</td>\n",
       "      <td>-0.866001</td>\n",
       "      <td>-1.605434</td>\n",
       "      <td>-3.269162</td>\n",
       "      <td>-1.725490</td>\n",
       "      <td>-2.066855</td>\n",
       "      <td>-1.000000</td>\n",
       "      <td>...</td>\n",
       "      <td>-0.36%</td>\n",
       "      <td>-0.361664</td>\n",
       "      <td>+0.09%</td>\n",
       "      <td>0.090992</td>\n",
       "      <td>-1.56%</td>\n",
       "      <td>-3.441312</td>\n",
       "      <td>-0.82%</td>\n",
       "      <td>-1.545392</td>\n",
       "      <td>+0.24%</td>\n",
       "      <td>0.236956</td>\n",
       "    </tr>\n",
       "    <tr>\n",
       "      <th>2023-04-26</th>\n",
       "      <td>5.117705</td>\n",
       "      <td>8.706880</td>\n",
       "      <td>4.988023</td>\n",
       "      <td>0.526759</td>\n",
       "      <td>-19.773936</td>\n",
       "      <td>-10.317438</td>\n",
       "      <td>11.383346</td>\n",
       "      <td>1.675676</td>\n",
       "      <td>1.197705</td>\n",
       "      <td>-inf</td>\n",
       "      <td>...</td>\n",
       "      <td>+0.48%</td>\n",
       "      <td>0.120555</td>\n",
       "      <td>+0.70%</td>\n",
       "      <td>0.788596</td>\n",
       "      <td>-1.93%</td>\n",
       "      <td>-3.465618</td>\n",
       "      <td>-1.37%</td>\n",
       "      <td>-2.176540</td>\n",
       "      <td>+0.63%</td>\n",
       "      <td>0.790000</td>\n",
       "    </tr>\n",
       "    <tr>\n",
       "      <th>2023-04-27</th>\n",
       "      <td>-0.267066</td>\n",
       "      <td>0.548840</td>\n",
       "      <td>-0.735302</td>\n",
       "      <td>-1.428837</td>\n",
       "      <td>-0.822354</td>\n",
       "      <td>0.162619</td>\n",
       "      <td>-1.131375</td>\n",
       "      <td>-2.449495</td>\n",
       "      <td>-0.460643</td>\n",
       "      <td>10.019231</td>\n",
       "      <td>...</td>\n",
       "      <td>-0.39%</td>\n",
       "      <td>0.090744</td>\n",
       "      <td>+0.15%</td>\n",
       "      <td>0.848485</td>\n",
       "      <td>-0.99%</td>\n",
       "      <td>-2.898633</td>\n",
       "      <td>-0.17%</td>\n",
       "      <td>-1.532392</td>\n",
       "      <td>-0.21%</td>\n",
       "      <td>0.412755</td>\n",
       "    </tr>\n",
       "    <tr>\n",
       "      <th>2023-04-28</th>\n",
       "      <td>-0.569883</td>\n",
       "      <td>0.349622</td>\n",
       "      <td>-2.019573</td>\n",
       "      <td>2.157651</td>\n",
       "      <td>-0.129984</td>\n",
       "      <td>-0.799059</td>\n",
       "      <td>-0.517141</td>\n",
       "      <td>-1.069686</td>\n",
       "      <td>-1.078928</td>\n",
       "      <td>-1.019197</td>\n",
       "      <td>...</td>\n",
       "      <td>+0.97%</td>\n",
       "      <td>0.571945</td>\n",
       "      <td>+0.63%</td>\n",
       "      <td>0.782426</td>\n",
       "      <td>2.38%</td>\n",
       "      <td>1.371153</td>\n",
       "      <td>0.44%</td>\n",
       "      <td>0.272800</td>\n",
       "      <td>+0.09%</td>\n",
       "      <td>-0.128273</td>\n",
       "    </tr>\n",
       "    <tr>\n",
       "      <th>2023-05-02</th>\n",
       "      <td>-1.141684</td>\n",
       "      <td>-0.933739</td>\n",
       "      <td>-0.683798</td>\n",
       "      <td>-0.768255</td>\n",
       "      <td>-1.978002</td>\n",
       "      <td>-0.169459</td>\n",
       "      <td>1.330000</td>\n",
       "      <td>-0.700000</td>\n",
       "      <td>7.528302</td>\n",
       "      <td>9.727273</td>\n",
       "      <td>...</td>\n",
       "      <td>NaN</td>\n",
       "      <td>NaN</td>\n",
       "      <td>NaN</td>\n",
       "      <td>NaN</td>\n",
       "      <td>NaN</td>\n",
       "      <td>NaN</td>\n",
       "      <td>NaN</td>\n",
       "      <td>NaN</td>\n",
       "      <td>NaN</td>\n",
       "      <td>NaN</td>\n",
       "    </tr>\n",
       "  </tbody>\n",
       "</table>\n",
       "<p>5 rows × 114 columns</p>\n",
       "</div>"
      ],
      "text/plain": [
       "            retail_1  foreigner_1  institution_1  financial_1  invtrust_1  \\\n",
       "2023-04-25  9.800532    -1.225337      -0.084075    -0.157031   -0.866001   \n",
       "2023-04-26  5.117705     8.706880       4.988023     0.526759  -19.773936   \n",
       "2023-04-27 -0.267066     0.548840      -0.735302    -1.428837   -0.822354   \n",
       "2023-04-28 -0.569883     0.349622      -2.019573     2.157651   -0.129984   \n",
       "2023-05-02 -1.141684    -0.933739      -0.683798    -0.768255   -1.978002   \n",
       "\n",
       "            pension_1  privequity_1    bank_1  insurance_1  financeetc_1  ...  \\\n",
       "2023-04-25  -1.605434     -3.269162 -1.725490    -2.066855     -1.000000  ...   \n",
       "2023-04-26 -10.317438     11.383346  1.675676     1.197705          -inf  ...   \n",
       "2023-04-27   0.162619     -1.131375 -2.449495    -0.460643     10.019231  ...   \n",
       "2023-04-28  -0.799059     -0.517141 -1.069686    -1.078928     -1.019197  ...   \n",
       "2023-05-02  -0.169459      1.330000 -0.700000     7.528302      9.727273  ...   \n",
       "\n",
       "            bond_kor_10_cr  bond_kor_10_cr_2  bond_kor_2_cr  bond_kor_2_cr_2  \\\n",
       "2023-04-25          -0.36%         -0.361664         +0.09%         0.090992   \n",
       "2023-04-26          +0.48%          0.120555         +0.70%         0.788596   \n",
       "2023-04-27          -0.39%          0.090744         +0.15%         0.848485   \n",
       "2023-04-28          +0.97%          0.571945         +0.63%         0.782426   \n",
       "2023-05-02             NaN               NaN            NaN              NaN   \n",
       "\n",
       "            kosdaq_cr  kosdaq_cr_2  kospi_cr  kospi_cr_2  krw_cr  krw_cr_2  \n",
       "2023-04-25     -1.56%    -3.441312    -0.82%   -1.545392  +0.24%  0.236956  \n",
       "2023-04-26     -1.93%    -3.465618    -1.37%   -2.176540  +0.63%  0.790000  \n",
       "2023-04-27     -0.99%    -2.898633    -0.17%   -1.532392  -0.21%  0.412755  \n",
       "2023-04-28      2.38%     1.371153     0.44%    0.272800  +0.09% -0.128273  \n",
       "2023-05-02        NaN          NaN       NaN         NaN     NaN       NaN  \n",
       "\n",
       "[5 rows x 114 columns]"
      ]
     },
     "execution_count": 6,
     "metadata": {},
     "output_type": "execute_result"
    }
   ],
   "source": [
    "df_hyunmotor_combine.tail()"
   ]
  },
  {
   "cell_type": "code",
   "execution_count": 7,
   "id": "587ac2cd",
   "metadata": {},
   "outputs": [],
   "source": [
    "col_inv1 = ['retail_1', 'foreigner_1', 'institution_1', 'financial_1', 'invtrust_1', 'pension_1', 'privequity_1', \n",
    "            'bank_1', 'insurance_1', 'financeetc_1', 'corporateetc_1', 'foreigneretc_1']"
   ]
  },
  {
   "cell_type": "code",
   "execution_count": 8,
   "id": "01915cc7",
   "metadata": {},
   "outputs": [],
   "source": [
    "col_inv2 = ['retail_2', 'foreigner_2', 'institution_2', 'financial_2', 'invtrust_2', 'pension_2',\n",
    "            'privequity_2', 'bank_2', 'insurance_2', 'financeetc_2', 'corporateetc_2', 'foreigneretc_2']"
   ]
  },
  {
   "cell_type": "code",
   "execution_count": 9,
   "id": "76ca8389",
   "metadata": {},
   "outputs": [],
   "source": [
    "col_his1 = ['open_1', 'high_1', 'low_1', 'close_1', 'vol_1']"
   ]
  },
  {
   "cell_type": "code",
   "execution_count": 10,
   "id": "182e9768",
   "metadata": {},
   "outputs": [],
   "source": [
    "col_his2 = ['open_2', 'high_2', 'low_2', 'close_2', 'vol_2']"
   ]
  },
  {
   "cell_type": "code",
   "execution_count": 11,
   "id": "9a595935",
   "metadata": {},
   "outputs": [],
   "source": [
    "col_cr = ['weekday', 'cr_00', 'cr_05', 'cr_10', 'cr_15', 'cr_20']"
   ]
  },
  {
   "cell_type": "code",
   "execution_count": 12,
   "id": "8a6b4bac",
   "metadata": {},
   "outputs": [],
   "source": [
    "col_common1 = [\"dji_cr\", \"dji_f_cr\", \"dxy_cr\", \"ixic_f_cr\", \"bond_kor_10_cr\", \"bond_kor_2_cr\", \"kosdaq_cr\", \"kospi_cr\", \n",
    "         \"krw_cr\", \"ixic_cr\", \"spx_f_cr\", \"sox_cr\", \"spx_cr\", \"bond_usa_10_cr\", \"bond_usa_2_cr\", \"bond_usa_3m_cr\", \n",
    "         \"vix_cr\", \"wti_cr\", \"spsy_cr\", \"spny_cr\", \"spxhc_cr\", \"splrcd_cr\", \"splrci_cr\", \"splrcu_cr\", \"splrcs_cr\",\n",
    "         \"splrct_cr\", \"splrcl_cr\", \"splrcm_cr\", \"ixbk_cr\", \"ixfn_cr\", \"ixid_cr\", \"ixis_cr\", \"ixk_cr\", \"ixtr_cr\",\n",
    "         \"ixut_cr\", \"nbi_cr\", \"bkx_cr\"]"
   ]
  },
  {
   "cell_type": "code",
   "execution_count": 13,
   "id": "f90335b9",
   "metadata": {},
   "outputs": [],
   "source": [
    "col_common2 = [\"dji_cr_2\", \"dji_f_cr_2\", \"dxy_cr_2\", \"ixic_f_cr_2\", \"bond_kor_10_cr_2\", \"bond_kor_2_cr_2\", \"kosdaq_cr_2\", \"kospi_cr_2\",\n",
    "         \"krw_cr_2\", \"ixic_cr_2\", \"spx_f_cr_2\", \"sox_cr_2\", \"spx_cr_2\", \"bond_usa_10_cr_2\", \"bond_usa_2_cr_2\", \"bond_usa_3m_cr_2\",\n",
    "         \"vix_cr_2\", \"wti_cr_2\", \"spsy_cr_2\", \"spny_cr_2\", \"spxhc_cr_2\", \"splrcd_cr_2\", \"splrci_cr_2\", \"splrcu_cr_2\",\n",
    "         \"splrcs_cr_2\", \"splrct_cr_2\", \"splrcl_cr_2\", \"splrcm_cr_2\", \"ixbk_cr_2\", \"ixfn_cr_2\", \"ixid_cr_2\",\n",
    "         \"ixis_cr_2\", \"ixk_cr_2\", \"ixtr_cr_2\", \"ixut_cr_2\", \"nbi_cr_2\", \"bkx_cr_2\"]"
   ]
  },
  {
   "cell_type": "code",
   "execution_count": 14,
   "id": "75ec6070",
   "metadata": {},
   "outputs": [],
   "source": [
    "col_col = col_inv1 + col_common1 + col_his1 + col_inv2 + col_common2 + col_his2 + col_cr"
   ]
  },
  {
   "cell_type": "code",
   "execution_count": 15,
   "id": "ff6769da",
   "metadata": {},
   "outputs": [],
   "source": [
    "# # write common data only\n",
    "# df_temp = df_common.copy()\n",
    "# df_temp = df_temp[col_common1+col_common2]\n",
    "# pkl_common_directory = './data/common_pkl/'\n",
    "# df_temp.to_pickle(pkl_common_directory + 'df_common.pkl')\n",
    "# df_temp.to_csv(pkl_common_directory + 'df_common.csv')"
   ]
  },
  {
   "cell_type": "code",
   "execution_count": 16,
   "id": "c78c8f82",
   "metadata": {},
   "outputs": [],
   "source": [
    "new_columns = col_col"
   ]
  },
  {
   "cell_type": "code",
   "execution_count": 17,
   "id": "02da1256",
   "metadata": {},
   "outputs": [],
   "source": [
    "# column 순서 변경 : weekday, 'cr_00', 'cr_05', 'cr_10', 'cr_15', 'cr_20' column을 마지막으로 이동 \n",
    "for key, val in code.items():\n",
    "    globals()['df_{}_combine'.format(val[1])] = globals()['df_{}_combine'.format(val[1])][new_columns]"
   ]
  },
  {
   "cell_type": "code",
   "execution_count": 18,
   "id": "d4f1fa06",
   "metadata": {},
   "outputs": [
    {
     "data": {
      "text/plain": [
       "'\\n# drop inf, -inf : replace inf to 1 or -1 . 데이터를 살리고\\n# 변동률이 무한대가 되는 것을 방지하기 위해서, 나중에 발생하는 에러를 방지\\ndf_sec_sel.replace([np.inf, -np.inf], [1, -1], inplace=True)\\n\\n.impute 사용하는 것을 고려할 필요 있음.\\n'"
      ]
     },
     "execution_count": 18,
     "metadata": {},
     "output_type": "execute_result"
    }
   ],
   "source": [
    "'''\n",
    "# drop inf, -inf : replace inf to 1 or -1 . 데이터를 살리고\n",
    "# 변동률이 무한대가 되는 것을 방지하기 위해서, 나중에 발생하는 에러를 방지\n",
    "df_sec_sel.replace([np.inf, -np.inf], [1, -1], inplace=True)\n",
    "\n",
    ".impute 사용하는 것을 고려할 필요 있음.\n",
    "'''"
   ]
  },
  {
   "cell_type": "code",
   "execution_count": 19,
   "id": "7e91c1c5",
   "metadata": {},
   "outputs": [],
   "source": [
    "# drop inf, -inf : replace inf to 1 or -1 . 데이터를 살리고\n",
    "# 변동률이 무한대가 되는 것을 방지하기 위해서, 나중에 발생하는 에러를 방지\n",
    "for key, val in code.items():\n",
    "    globals()['df_{}_combine'.format(val[1])].replace([np.inf, -np.inf], [1, -1], inplace=True)\n",
    "\n",
    "# **** 데이터 전처리 from sklearn.impute import SimpleImputer, SimpleImputer 사용하기로 함."
   ]
  },
  {
   "cell_type": "code",
   "execution_count": 20,
   "id": "21a6d628",
   "metadata": {},
   "outputs": [],
   "source": [
    "# delete rows which include NaN : dji, spx, nasdaq 지수가 nan인 rows 제거\n",
    "for key, val in code.items():\n",
    "    globals()['df_{}_combine'.format(val[1])].dropna(inplace=True)"
   ]
  },
  {
   "cell_type": "code",
   "execution_count": 21,
   "id": "c6f3061c",
   "metadata": {},
   "outputs": [],
   "source": [
    "# string column을 numeric으로 전환\n",
    "def string_to_num(df):\n",
    "    df.replace('%', '', regex=True, inplace=True)\n",
    "    return df.apply(pd.to_numeric)\n",
    "\n",
    "for key, val in code.items():\n",
    "    globals()['df_{}_combine'.format(val[1])] = string_to_num(globals()['df_{}_combine'.format(val[1])])"
   ]
  },
  {
   "cell_type": "code",
   "execution_count": 22,
   "id": "7e8d5acf",
   "metadata": {},
   "outputs": [],
   "source": [
    "# pickle로 데이터 저장\n",
    "\n",
    "for key, val in code.items():\n",
    "    globals()[f'df_{val[1]}_combine'].to_pickle(directory_for_predict + f'df_{val[1]}_combine.pkl')\n",
    "    globals()[f'df_{val[1]}_combine'].to_csv(directory_for_predict + f'df_{val[1]}_combine.csv')"
   ]
  },
  {
   "cell_type": "code",
   "execution_count": null,
   "id": "d2728c8c",
   "metadata": {},
   "outputs": [],
   "source": []
  },
  {
   "cell_type": "code",
   "execution_count": null,
   "id": "a01825d3",
   "metadata": {},
   "outputs": [],
   "source": []
  }
 ],
 "metadata": {
  "kernelspec": {
   "display_name": "Python 3 (ipykernel)",
   "language": "python",
   "name": "python3"
  },
  "language_info": {
   "codemirror_mode": {
    "name": "ipython",
    "version": 3
   },
   "file_extension": ".py",
   "mimetype": "text/x-python",
   "name": "python",
   "nbconvert_exporter": "python",
   "pygments_lexer": "ipython3",
   "version": "3.10.7"
  }
 },
 "nbformat": 4,
 "nbformat_minor": 5
}
