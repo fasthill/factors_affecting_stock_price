{
 "cells": [
  {
   "cell_type": "markdown",
   "id": "459ff0ca",
   "metadata": {},
   "source": [
    "## combine company data and common data"
   ]
  },
  {
   "cell_type": "code",
   "execution_count": 1,
   "id": "d3b5a935",
   "metadata": {},
   "outputs": [],
   "source": [
    "import datetime, time\n",
    "from datetime import date\n",
    "\n",
    "import pandas as pd\n",
    "import numpy as np\n",
    "\n",
    "from sklearn.preprocessing import StandardScaler"
   ]
  },
  {
   "cell_type": "code",
   "execution_count": 2,
   "id": "d6f9e0c8",
   "metadata": {},
   "outputs": [],
   "source": [
    "code = {'005930': ['삼성전자', 'sec'], '005380': ['현대차', 'hyunmotor'],\n",
    "                 '035420': ['NAVER', 'naver'], '033780': ['KT&G', 'ktng']}\n",
    "# code = {'005930': ['삼성전자', 'sec']}\n",
    "\n",
    "code = {'005930' : ['삼성전자', 'sec'], '373220' : ['LG에너지솔루션', 'lgenergy'], \n",
    "        '000660' : ['SK하이닉스', 'skhynix'], '207940' : ['삼성바이오로직스', 'ssbio'],\n",
    "        '006400' : ['삼성SDI', 'sdi'], '051910' : ['LG화학', 'lgchemical'],\n",
    "        '005935' : ['삼성전자우', 'secpre'], '005380' : ['현대차', 'hyunmotor'],\n",
    "        '035420' : ['NAVER', 'naver'], '000270' : ['기아','kia'],\n",
    "        '035720' : ['카카오', 'kakao'], '005490' : ['POSCO홀딩스', 'poscoholding'],\n",
    "        '105560' : ['KB금융', 'kbbank'], '028260' : ['삼성물산', 'sscnt'],\n",
    "        '068270' : ['셀트리온', 'celltrion'], '012330' : ['현대모비스', 'mobis'],\n",
    "        '055550' : ['신한지주', 'shgroup'], '066570' : ['LG전자', 'lgelec'],\n",
    "        '003670' : ['포스코퓨처엠', 'poscochemical'], '096770' : ['SK이노베이션', 'skinnovation'],\n",
    "        '033780' : ['KT&G', 'ktng'], '030200' : ['KT', 'kt']}\n",
    "# code = {'005380' : ['현대차', 'hyunmotor']}"
   ]
  },
  {
   "cell_type": "code",
   "execution_count": 3,
   "id": "1ced9635",
   "metadata": {},
   "outputs": [],
   "source": [
    "directory_for_predict = './data/data_for_ml/predict/'\n",
    "pkl_common_directory = './data/common_pkl/'\n",
    "pkl_directory = './data/common_pkl/'"
   ]
  },
  {
   "cell_type": "code",
   "execution_count": 4,
   "id": "a4ac3c16",
   "metadata": {},
   "outputs": [],
   "source": [
    "df_common = pd.read_pickle(directory_for_predict + '0_df_common.pkl')"
   ]
  },
  {
   "cell_type": "code",
   "execution_count": 5,
   "id": "82d5ae58",
   "metadata": {},
   "outputs": [],
   "source": [
    "for key, val in code.items():\n",
    "    df_company = pd.read_pickle(directory_for_predict + f'df_{val[1]}_company.pkl')\n",
    "    df_company = df_company.merge(df_common, how='left', left_index=True, right_index=True)\n",
    "    globals()[f'df_{val[1]}_combine'] = df_company.copy()"
   ]
  },
  {
   "cell_type": "code",
   "execution_count": 6,
   "id": "6c798e31",
   "metadata": {},
   "outputs": [
    {
     "data": {
      "text/html": [
       "<div>\n",
       "<style scoped>\n",
       "    .dataframe tbody tr th:only-of-type {\n",
       "        vertical-align: middle;\n",
       "    }\n",
       "\n",
       "    .dataframe tbody tr th {\n",
       "        vertical-align: top;\n",
       "    }\n",
       "\n",
       "    .dataframe thead th {\n",
       "        text-align: right;\n",
       "    }\n",
       "</style>\n",
       "<table border=\"1\" class=\"dataframe\">\n",
       "  <thead>\n",
       "    <tr style=\"text-align: right;\">\n",
       "      <th></th>\n",
       "      <th>retail_1</th>\n",
       "      <th>foreigner_1</th>\n",
       "      <th>institution_1</th>\n",
       "      <th>financial_1</th>\n",
       "      <th>invtrust_1</th>\n",
       "      <th>pension_1</th>\n",
       "      <th>privequity_1</th>\n",
       "      <th>bank_1</th>\n",
       "      <th>insurance_1</th>\n",
       "      <th>financeetc_1</th>\n",
       "      <th>...</th>\n",
       "      <th>bond_kor_10_cr</th>\n",
       "      <th>bond_kor_10_cr_2</th>\n",
       "      <th>bond_kor_2_cr</th>\n",
       "      <th>bond_kor_2_cr_2</th>\n",
       "      <th>kosdaq_cr</th>\n",
       "      <th>kosdaq_cr_2</th>\n",
       "      <th>kospi_cr</th>\n",
       "      <th>kospi_cr_2</th>\n",
       "      <th>krw_cr</th>\n",
       "      <th>krw_cr_2</th>\n",
       "    </tr>\n",
       "  </thead>\n",
       "  <tbody>\n",
       "    <tr>\n",
       "      <th>2023-04-18</th>\n",
       "      <td>-2.464995</td>\n",
       "      <td>-55.709602</td>\n",
       "      <td>-0.483234</td>\n",
       "      <td>-4.480153</td>\n",
       "      <td>-0.845624</td>\n",
       "      <td>1.982465</td>\n",
       "      <td>-0.383531</td>\n",
       "      <td>0.082353</td>\n",
       "      <td>0.543478</td>\n",
       "      <td>-0.963211</td>\n",
       "      <td>...</td>\n",
       "      <td>+1.76%</td>\n",
       "      <td>1.762918</td>\n",
       "      <td>+2.12%</td>\n",
       "      <td>2.116564</td>\n",
       "      <td>0.63%</td>\n",
       "      <td>1.705340</td>\n",
       "      <td>0.17%</td>\n",
       "      <td>0.556280</td>\n",
       "      <td>+1.16%</td>\n",
       "      <td>1.158742</td>\n",
       "    </tr>\n",
       "    <tr>\n",
       "      <th>2023-04-19</th>\n",
       "      <td>-0.503640</td>\n",
       "      <td>0.182569</td>\n",
       "      <td>2.211771</td>\n",
       "      <td>0.332090</td>\n",
       "      <td>8.566964</td>\n",
       "      <td>-0.687888</td>\n",
       "      <td>-0.570997</td>\n",
       "      <td>-0.146739</td>\n",
       "      <td>1.538885</td>\n",
       "      <td>6.000000</td>\n",
       "      <td>...</td>\n",
       "      <td>+0.12%</td>\n",
       "      <td>1.884498</td>\n",
       "      <td>+0.42%</td>\n",
       "      <td>2.546012</td>\n",
       "      <td>-0.05%</td>\n",
       "      <td>0.573109</td>\n",
       "      <td>-0.19%</td>\n",
       "      <td>-0.015551</td>\n",
       "      <td>0.00%</td>\n",
       "      <td>1.130805</td>\n",
       "    </tr>\n",
       "    <tr>\n",
       "      <th>2023-04-20</th>\n",
       "      <td>0.676319</td>\n",
       "      <td>-0.766416</td>\n",
       "      <td>-1.387157</td>\n",
       "      <td>-2.102750</td>\n",
       "      <td>-0.822912</td>\n",
       "      <td>1.002691</td>\n",
       "      <td>-0.553320</td>\n",
       "      <td>-0.961783</td>\n",
       "      <td>-0.850217</td>\n",
       "      <td>-1.415584</td>\n",
       "      <td>...</td>\n",
       "      <td>+0.54%</td>\n",
       "      <td>0.657109</td>\n",
       "      <td>+1.02%</td>\n",
       "      <td>1.441874</td>\n",
       "      <td>0.02%</td>\n",
       "      <td>-0.032984</td>\n",
       "      <td>0.16%</td>\n",
       "      <td>-0.032215</td>\n",
       "      <td>+0.80%</td>\n",
       "      <td>0.803572</td>\n",
       "    </tr>\n",
       "    <tr>\n",
       "      <th>2023-04-21</th>\n",
       "      <td>-0.774230</td>\n",
       "      <td>-0.791105</td>\n",
       "      <td>-0.687028</td>\n",
       "      <td>-0.907571</td>\n",
       "      <td>-1.573781</td>\n",
       "      <td>-0.881752</td>\n",
       "      <td>-1.323198</td>\n",
       "      <td>-2.333333</td>\n",
       "      <td>-1.152979</td>\n",
       "      <td>-1.000000</td>\n",
       "      <td>...</td>\n",
       "      <td>+1.39%</td>\n",
       "      <td>1.939141</td>\n",
       "      <td>+0.27%</td>\n",
       "      <td>1.286270</td>\n",
       "      <td>-2.58%</td>\n",
       "      <td>-2.564300</td>\n",
       "      <td>-0.46%</td>\n",
       "      <td>-0.310373</td>\n",
       "      <td>-0.46%</td>\n",
       "      <td>0.339618</td>\n",
       "    </tr>\n",
       "    <tr>\n",
       "      <th>2023-04-24</th>\n",
       "      <td>-0.626366</td>\n",
       "      <td>-7.985905</td>\n",
       "      <td>3.791469</td>\n",
       "      <td>18.588045</td>\n",
       "      <td>-4.221584</td>\n",
       "      <td>7.029545</td>\n",
       "      <td>-2.954704</td>\n",
       "      <td>-13.750000</td>\n",
       "      <td>-12.178947</td>\n",
       "      <td>-inf</td>\n",
       "      <td>...</td>\n",
       "      <td>-2.11%</td>\n",
       "      <td>-0.741840</td>\n",
       "      <td>-1.74%</td>\n",
       "      <td>-1.480604</td>\n",
       "      <td>-1.91%</td>\n",
       "      <td>-4.441268</td>\n",
       "      <td>-0.73%</td>\n",
       "      <td>-1.191426</td>\n",
       "      <td>+0.43%</td>\n",
       "      <td>-0.027826</td>\n",
       "    </tr>\n",
       "  </tbody>\n",
       "</table>\n",
       "<p>5 rows × 114 columns</p>\n",
       "</div>"
      ],
      "text/plain": [
       "            retail_1  foreigner_1  institution_1  financial_1  invtrust_1  \\\n",
       "2023-04-18 -2.464995   -55.709602      -0.483234    -4.480153   -0.845624   \n",
       "2023-04-19 -0.503640     0.182569       2.211771     0.332090    8.566964   \n",
       "2023-04-20  0.676319    -0.766416      -1.387157    -2.102750   -0.822912   \n",
       "2023-04-21 -0.774230    -0.791105      -0.687028    -0.907571   -1.573781   \n",
       "2023-04-24 -0.626366    -7.985905       3.791469    18.588045   -4.221584   \n",
       "\n",
       "            pension_1  privequity_1     bank_1  insurance_1  financeetc_1  \\\n",
       "2023-04-18   1.982465     -0.383531   0.082353     0.543478     -0.963211   \n",
       "2023-04-19  -0.687888     -0.570997  -0.146739     1.538885      6.000000   \n",
       "2023-04-20   1.002691     -0.553320  -0.961783    -0.850217     -1.415584   \n",
       "2023-04-21  -0.881752     -1.323198  -2.333333    -1.152979     -1.000000   \n",
       "2023-04-24   7.029545     -2.954704 -13.750000   -12.178947          -inf   \n",
       "\n",
       "            ...  bond_kor_10_cr  bond_kor_10_cr_2  bond_kor_2_cr  \\\n",
       "2023-04-18  ...          +1.76%          1.762918         +2.12%   \n",
       "2023-04-19  ...          +0.12%          1.884498         +0.42%   \n",
       "2023-04-20  ...          +0.54%          0.657109         +1.02%   \n",
       "2023-04-21  ...          +1.39%          1.939141         +0.27%   \n",
       "2023-04-24  ...          -2.11%         -0.741840         -1.74%   \n",
       "\n",
       "            bond_kor_2_cr_2  kosdaq_cr  kosdaq_cr_2  kospi_cr  kospi_cr_2  \\\n",
       "2023-04-18         2.116564      0.63%     1.705340     0.17%    0.556280   \n",
       "2023-04-19         2.546012     -0.05%     0.573109    -0.19%   -0.015551   \n",
       "2023-04-20         1.441874      0.02%    -0.032984     0.16%   -0.032215   \n",
       "2023-04-21         1.286270     -2.58%    -2.564300    -0.46%   -0.310373   \n",
       "2023-04-24        -1.480604     -1.91%    -4.441268    -0.73%   -1.191426   \n",
       "\n",
       "            krw_cr  krw_cr_2  \n",
       "2023-04-18  +1.16%  1.158742  \n",
       "2023-04-19   0.00%  1.130805  \n",
       "2023-04-20  +0.80%  0.803572  \n",
       "2023-04-21  -0.46%  0.339618  \n",
       "2023-04-24  +0.43% -0.027826  \n",
       "\n",
       "[5 rows x 114 columns]"
      ]
     },
     "execution_count": 6,
     "metadata": {},
     "output_type": "execute_result"
    }
   ],
   "source": [
    "df_hyunmotor_combine.tail()"
   ]
  },
  {
   "cell_type": "code",
   "execution_count": 7,
   "id": "587ac2cd",
   "metadata": {},
   "outputs": [],
   "source": [
    "col_inv1 = ['retail_1', 'foreigner_1', 'institution_1', 'financial_1', 'invtrust_1', 'pension_1', 'privequity_1', \n",
    "            'bank_1', 'insurance_1', 'financeetc_1', 'corporateetc_1', 'foreigneretc_1']"
   ]
  },
  {
   "cell_type": "code",
   "execution_count": 8,
   "id": "01915cc7",
   "metadata": {},
   "outputs": [],
   "source": [
    "col_inv2 = ['retail_2', 'foreigner_2', 'institution_2', 'financial_2', 'invtrust_2', 'pension_2',\n",
    "            'privequity_2', 'bank_2', 'insurance_2', 'financeetc_2', 'corporateetc_2', 'foreigneretc_2']"
   ]
  },
  {
   "cell_type": "code",
   "execution_count": 9,
   "id": "76ca8389",
   "metadata": {},
   "outputs": [],
   "source": [
    "col_his1 = ['open_1', 'high_1', 'low_1', 'close_1', 'vol_1']"
   ]
  },
  {
   "cell_type": "code",
   "execution_count": 10,
   "id": "182e9768",
   "metadata": {},
   "outputs": [],
   "source": [
    "col_his2 = ['open_2', 'high_2', 'low_2', 'close_2', 'vol_2']"
   ]
  },
  {
   "cell_type": "code",
   "execution_count": 11,
   "id": "9a595935",
   "metadata": {},
   "outputs": [],
   "source": [
    "col_cr = ['weekday', 'cr_00', 'cr_05', 'cr_10', 'cr_15', 'cr_20']"
   ]
  },
  {
   "cell_type": "code",
   "execution_count": 12,
   "id": "8a6b4bac",
   "metadata": {},
   "outputs": [],
   "source": [
    "col_common1 = [\"dji_cr\", \"dji_f_cr\", \"dxy_cr\", \"ixic_f_cr\", \"bond_kor_10_cr\", \"bond_kor_2_cr\", \"kosdaq_cr\", \"kospi_cr\", \n",
    "         \"krw_cr\", \"ixic_cr\", \"spx_f_cr\", \"sox_cr\", \"spx_cr\", \"bond_usa_10_cr\", \"bond_usa_2_cr\", \"bond_usa_3m_cr\", \n",
    "         \"vix_cr\", \"wti_cr\", \"spsy_cr\", \"spny_cr\", \"spxhc_cr\", \"splrcd_cr\", \"splrci_cr\", \"splrcu_cr\", \"splrcs_cr\",\n",
    "         \"splrct_cr\", \"splrcl_cr\", \"splrcm_cr\", \"ixbk_cr\", \"ixfn_cr\", \"ixid_cr\", \"ixis_cr\", \"ixk_cr\", \"ixtr_cr\",\n",
    "         \"ixut_cr\", \"nbi_cr\", \"bkx_cr\"]"
   ]
  },
  {
   "cell_type": "code",
   "execution_count": 13,
   "id": "f90335b9",
   "metadata": {},
   "outputs": [],
   "source": [
    "col_common2 = [\"dji_cr_2\", \"dji_f_cr_2\", \"dxy_cr_2\", \"ixic_f_cr_2\", \"bond_kor_10_cr_2\", \"bond_kor_2_cr_2\", \"kosdaq_cr_2\", \"kospi_cr_2\",\n",
    "         \"krw_cr_2\", \"ixic_cr_2\", \"spx_f_cr_2\", \"sox_cr_2\", \"spx_cr_2\", \"bond_usa_10_cr_2\", \"bond_usa_2_cr_2\", \"bond_usa_3m_cr_2\",\n",
    "         \"vix_cr_2\", \"wti_cr_2\", \"spsy_cr_2\", \"spny_cr_2\", \"spxhc_cr_2\", \"splrcd_cr_2\", \"splrci_cr_2\", \"splrcu_cr_2\",\n",
    "         \"splrcs_cr_2\", \"splrct_cr_2\", \"splrcl_cr_2\", \"splrcm_cr_2\", \"ixbk_cr_2\", \"ixfn_cr_2\", \"ixid_cr_2\",\n",
    "         \"ixis_cr_2\", \"ixk_cr_2\", \"ixtr_cr_2\", \"ixut_cr_2\", \"nbi_cr_2\", \"bkx_cr_2\"]"
   ]
  },
  {
   "cell_type": "code",
   "execution_count": 14,
   "id": "75ec6070",
   "metadata": {},
   "outputs": [],
   "source": [
    "col_col = col_inv1 + col_common1 + col_his1 + col_inv2 + col_common2 + col_his2 + col_cr"
   ]
  },
  {
   "cell_type": "code",
   "execution_count": 15,
   "id": "ff6769da",
   "metadata": {},
   "outputs": [],
   "source": [
    "# # write common data only\n",
    "# df_temp = df_common.copy()\n",
    "# df_temp = df_temp[col_common1+col_common2]\n",
    "# pkl_common_directory = './data/common_pkl/'\n",
    "# df_temp.to_pickle(pkl_common_directory + 'df_common.pkl')\n",
    "# df_temp.to_csv(pkl_common_directory + 'df_common.csv')"
   ]
  },
  {
   "cell_type": "code",
   "execution_count": 16,
   "id": "c78c8f82",
   "metadata": {},
   "outputs": [],
   "source": [
    "new_columns = col_col"
   ]
  },
  {
   "cell_type": "code",
   "execution_count": 17,
   "id": "02da1256",
   "metadata": {},
   "outputs": [],
   "source": [
    "# column 순서 변경 : weekday, 'cr_00', 'cr_05', 'cr_10', 'cr_15', 'cr_20' column을 마지막으로 이동 \n",
    "for key, val in code.items():\n",
    "    globals()['df_{}_combine'.format(val[1])] = globals()['df_{}_combine'.format(val[1])][new_columns]"
   ]
  },
  {
   "cell_type": "code",
   "execution_count": 18,
   "id": "d4f1fa06",
   "metadata": {},
   "outputs": [
    {
     "data": {
      "text/plain": [
       "'\\n# drop inf, -inf : replace inf to 1 or -1 . 데이터를 살리고\\n# 변동률이 무한대가 되는 것을 방지하기 위해서, 나중에 발생하는 에러를 방지\\ndf_sec_sel.replace([np.inf, -np.inf], [1, -1], inplace=True)\\n\\n.impute 사용하는 것을 고려할 필요 있음.\\n'"
      ]
     },
     "execution_count": 18,
     "metadata": {},
     "output_type": "execute_result"
    }
   ],
   "source": [
    "'''\n",
    "# drop inf, -inf : replace inf to 1 or -1 . 데이터를 살리고\n",
    "# 변동률이 무한대가 되는 것을 방지하기 위해서, 나중에 발생하는 에러를 방지\n",
    "df_sec_sel.replace([np.inf, -np.inf], [1, -1], inplace=True)\n",
    "\n",
    ".impute 사용하는 것을 고려할 필요 있음.\n",
    "'''"
   ]
  },
  {
   "cell_type": "code",
   "execution_count": 19,
   "id": "7e91c1c5",
   "metadata": {},
   "outputs": [],
   "source": [
    "# drop inf, -inf : replace inf to 1 or -1 . 데이터를 살리고\n",
    "# 변동률이 무한대가 되는 것을 방지하기 위해서, 나중에 발생하는 에러를 방지\n",
    "for key, val in code.items():\n",
    "    globals()['df_{}_combine'.format(val[1])].replace([np.inf, -np.inf], [1, -1], inplace=True)\n",
    "\n",
    "# **** 데이터 전처리 from sklearn.impute import SimpleImputer, SimpleImputer 사용하기로 함."
   ]
  },
  {
   "cell_type": "code",
   "execution_count": 20,
   "id": "21a6d628",
   "metadata": {},
   "outputs": [],
   "source": [
    "# delete rows which include NaN : dji, spx, nasdaq 지수가 nan인 rows 제거\n",
    "for key, val in code.items():\n",
    "    globals()['df_{}_combine'.format(val[1])].dropna(inplace=True)"
   ]
  },
  {
   "cell_type": "code",
   "execution_count": 21,
   "id": "c6f3061c",
   "metadata": {},
   "outputs": [],
   "source": [
    "# string column을 numeric으로 전환\n",
    "def string_to_num(df):\n",
    "    df.replace('%', '', regex=True, inplace=True)\n",
    "    return df.apply(pd.to_numeric)\n",
    "\n",
    "for key, val in code.items():\n",
    "    globals()['df_{}_combine'.format(val[1])] = string_to_num(globals()['df_{}_combine'.format(val[1])])"
   ]
  },
  {
   "cell_type": "code",
   "execution_count": 22,
   "id": "7e8d5acf",
   "metadata": {},
   "outputs": [],
   "source": [
    "# pickle로 데이터 저장\n",
    "\n",
    "for key, val in code.items():\n",
    "    globals()[f'df_{val[1]}_combine'].to_pickle(directory_for_predict + f'df_{val[1]}_combine.pkl')\n",
    "    globals()[f'df_{val[1]}_combine'].to_csv(directory_for_predict + f'df_{val[1]}_combine.csv')"
   ]
  },
  {
   "cell_type": "code",
   "execution_count": null,
   "id": "d2728c8c",
   "metadata": {},
   "outputs": [],
   "source": []
  },
  {
   "cell_type": "code",
   "execution_count": null,
   "id": "a01825d3",
   "metadata": {},
   "outputs": [],
   "source": []
  }
 ],
 "metadata": {
  "kernelspec": {
   "display_name": "Python 3 (ipykernel)",
   "language": "python",
   "name": "python3"
  },
  "language_info": {
   "codemirror_mode": {
    "name": "ipython",
    "version": 3
   },
   "file_extension": ".py",
   "mimetype": "text/x-python",
   "name": "python",
   "nbconvert_exporter": "python",
   "pygments_lexer": "ipython3",
   "version": "3.10.7"
  }
 },
 "nbformat": 4,
 "nbformat_minor": 5
}
