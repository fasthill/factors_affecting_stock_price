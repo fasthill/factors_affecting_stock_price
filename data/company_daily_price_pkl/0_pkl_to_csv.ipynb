{
 "cells": [
  {
   "cell_type": "code",
   "execution_count": null,
   "id": "80df281a",
   "metadata": {},
   "outputs": [],
   "source": [
    "### read .pkl write .csv"
   ]
  },
  {
   "cell_type": "code",
   "execution_count": 1,
   "id": "4cb2996d",
   "metadata": {},
   "outputs": [],
   "source": [
    "import datetime, time\n",
    "from datetime import date\n",
    "\n",
    "import pandas as pd"
   ]
  },
  {
   "cell_type": "code",
   "execution_count": 2,
   "id": "7cd0d327",
   "metadata": {},
   "outputs": [],
   "source": [
    "# 삼성전자 005930, 현대차 005380, 네이버 035420, KT&G 033780, \n",
    "# code = {'sec': '005930', 'hyunmotor': '005380', 'naver': '035420', 'ktng': '033780'}\n",
    "code = {'sec': 'KR7005930003', 'hyunmotor': 'KR7005380001', 'naver': 'KR7035420009', 'ktng': 'KR7033780008'}"
   ]
  },
  {
   "cell_type": "code",
   "execution_count": 3,
   "id": "d54e5d3a",
   "metadata": {},
   "outputs": [
    {
     "data": {
      "text/plain": [
       "'2023-11-07'"
      ]
     },
     "execution_count": 3,
     "metadata": {},
     "output_type": "execute_result"
    }
   ],
   "source": [
    "# today_o = datetime.date.today()\n",
    "today_o = datetime.date(2023,11,7) #  해당 날짜\n",
    "today = today_o.strftime('%Y%m%d')\n",
    "today_stock = today_o.strftime('%Y-%m-%d')\n",
    "today_stock"
   ]
  },
  {
   "cell_type": "code",
   "execution_count": 4,
   "id": "f12cf9dd",
   "metadata": {},
   "outputs": [
    {
     "name": "stdout",
     "output_type": "stream",
     "text": [
      "***sec***\n",
      "***hyunmotor***\n",
      "***naver***\n",
      "***ktng***\n"
     ]
    }
   ],
   "source": [
    "dir_name = './'\n",
    "middle_name = '_10min_price_'\n",
    "\n",
    "for key, val in code.items():\n",
    "    f_name = dir_name+key+middle_name+today+'.pkl'\n",
    "    df = pd.read_pickle(f_name)\n",
    "    print('***{}***'.format(key))\n",
    "#     print(df.head(3))\n",
    "#     print(df.tail(3))\n",
    "    df.to_csv(f_name[:-4]+'.csv')"
   ]
  }
 ],
 "metadata": {
  "kernelspec": {
   "display_name": "Python 3 (ipykernel)",
   "language": "python",
   "name": "python3"
  },
  "language_info": {
   "codemirror_mode": {
    "name": "ipython",
    "version": 3
   },
   "file_extension": ".py",
   "mimetype": "text/x-python",
   "name": "python",
   "nbconvert_exporter": "python",
   "pygments_lexer": "ipython3",
   "version": "3.9.1"
  }
 },
 "nbformat": 4,
 "nbformat_minor": 5
}
