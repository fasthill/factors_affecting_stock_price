{
 "cells": [
  {
   "cell_type": "markdown",
   "id": "atlantic-congress",
   "metadata": {},
   "source": [
    "### KRX 데이터정보시스템\n",
    "- 매일 주식거래 내용\n",
    "\n",
    "['일자', '종가', '등락률', '시가', '고가', '저가', '거래대금'] 등 수집"
   ]
  },
  {
   "cell_type": "code",
   "execution_count": 1,
   "id": "b6071c61",
   "metadata": {},
   "outputs": [],
   "source": [
    "import datetime, time\n",
    "from datetime import date\n",
    "\n",
    "import pandas as pd\n",
    "import numpy as np\n",
    "import requests\n",
    "import time"
   ]
  },
  {
   "cell_type": "code",
   "execution_count": 2,
   "id": "4afbc1cf",
   "metadata": {},
   "outputs": [],
   "source": [
    "code = {'005930' : ['삼성전자', 'sec'], '373220' : ['LG에너지솔루션', 'lgenergy'], \n",
    "        '000660' : ['SK하이닉스', 'skhynix'], '207940' : ['삼성바이오로직스', 'ssbio'],\n",
    "        '006400' : ['삼성SDI', 'sdi'], '051910' : ['LG화학', 'lgchemical'],\n",
    "        '005935' : ['삼성전자우', 'secpre'], '005380' : ['현대차', 'hyunmotor'],\n",
    "        '035420' : ['NAVER', 'naver'], '000270' : ['기아','kia'],\n",
    "        '035720' : ['카카오', 'kakao'], '005490' : ['POSCO홀딩스', 'poscoholding'],\n",
    "        '105560' : ['KB금융', 'kbbank'], '028260' : ['삼성물산', 'sscnt'],\n",
    "        '068270' : ['셀트리온', 'celltrion'], '012330' : ['현대모비스', 'mobis'],\n",
    "        '055550' : ['신한지주', 'shgroup'], '066570' : ['LG전자', 'lgelec'],\n",
    "        '003670' : ['포스코퓨처엠', 'poscochemical'], '096770' : ['SK이노베이션', 'skinnovation'],\n",
    "        '033780' : ['KT&G', 'ktng'], '030200' : ['KT', 'kt'],\n",
    "        '003550' : ['LG', 'lg'], '034730' : ['SK', 'sk'], \n",
    "        '032830' : ['삼성생명', 'sslife'], '086790' : ['하나금융지주', 'hana'], \n",
    "        '009150' : ['삼성전기', 'sselec'], '015760' : ['한국전력', 'koreaelec'],\n",
    "        '034020' : ['두산에너빌리티', 'doosanener'], '010130' : ['고려아연', 'koreazinc'],\n",
    "        '017670' : ['SK텔레콤', 'sktelecom'], '011200' : ['HMM', 'hmm'],\n",
    "        '000810' : ['삼성화재', 'ssfire'], '051900' : ['LG생활건강', 'lglife'],\n",
    "        '010950' : ['S-Oil', 'soil'], '259960' : ['크래프톤', 'crafton'],\n",
    "        '018260' : ['삼성에스디에스', 'sds'], '329180' : ['현대중공업', 'hhi'],\n",
    "        '003490' : ['대한항공', 'koreanair'], '036570' : ['엔씨소프트', 'ncsoft'],\n",
    "        '009830' : ['한화솔루션', 'hanhwasol'], '316140' : ['우리금융지주', 'woorifg'],\n",
    "        '090430' : ['아모레퍼시픽', 'amore'], '011170' : ['롯데케미칼', 'lottechem'], \n",
    "        '024110' : ['기업은행', 'ibk'], '138040' : ['메리츠금융지주', 'meritz'], \n",
    "        '377300' : ['카카오페이', 'kakaopay'], '011070' : ['LG이노텍', 'lginnotek'],\n",
    "        '028050' : ['삼성엔지니어링', 'ssengineering'], '361610' : ['SK아이이테크놀로지', 'skietech'],\n",
    "        '086280' : ['현대글로비스', 'glovis'], '302440' : ['SK바이오사이언스', 'skbio'],\n",
    "       }\n",
    "# code = {'000660' : ['SK하이닉스', 'skhynix']}"
   ]
  },
  {
   "cell_type": "code",
   "execution_count": 3,
   "id": "16fe9577",
   "metadata": {},
   "outputs": [],
   "source": [
    "columns = ['date', 'close', 'close_diff', 'close_cr', \n",
    "           'open', 'high', 'low', 'vol', 'vol_amount', 'total_amount', 'num_total']\n",
    "for key, val in code.items():\n",
    "    csv_name= f'{key}.csv'\n",
    "    df = pd.read_csv(csv_name, encoding='cp949')\n",
    "    df.columns = columns\n",
    "    df = df[['date', 'open', 'high', 'low', 'close', 'close_cr', 'vol']]\n",
    "    df['date'] = df['date'].apply(lambda x: datetime.datetime.strptime(x, \"%Y/%m/%d\"))\n",
    "    df.sort_values(by='date', inplace=True) # sort with date\n",
    "    num = np.arange(0,len(df)) # reordering from 0\n",
    "    df.index=num\n",
    "    df.to_pickle(f'{val[1]}_historical.pkl')\n",
    "    df.to_csv(f'{val[1]}_historical.csv')"
   ]
  },
  {
   "cell_type": "code",
   "execution_count": null,
   "id": "f20be139",
   "metadata": {},
   "outputs": [],
   "source": []
  }
 ],
 "metadata": {
  "kernelspec": {
   "display_name": "Python 3 (ipykernel)",
   "language": "python",
   "name": "python3"
  },
  "language_info": {
   "codemirror_mode": {
    "name": "ipython",
    "version": 3
   },
   "file_extension": ".py",
   "mimetype": "text/x-python",
   "name": "python",
   "nbconvert_exporter": "python",
   "pygments_lexer": "ipython3",
   "version": "3.10.7"
  }
 },
 "nbformat": 4,
 "nbformat_minor": 5
}
