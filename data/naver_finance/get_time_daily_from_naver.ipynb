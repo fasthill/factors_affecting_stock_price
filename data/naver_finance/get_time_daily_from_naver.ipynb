{
 "cells": [
  {
   "cell_type": "code",
   "execution_count": 1,
   "id": "matched-interview",
   "metadata": {},
   "outputs": [],
   "source": [
    "from bs4 import BeautifulSoup as bs\n",
    "import requests\n",
    "import datetime, time\n",
    "import pickle\n",
    "\n",
    "import pandas as pd\n",
    "import numpy as np\n",
    "\n",
    "import os\n",
    "import sys\n",
    "import io\n",
    "import shutil\n",
    "\n",
    "import matplotlib.pyplot as plt"
   ]
  },
  {
   "cell_type": "code",
   "execution_count": 2,
   "id": "6a3f2606",
   "metadata": {},
   "outputs": [],
   "source": [
    "# !pip install cfscrape # 403 forbidden, cloudflare error을 해결하기 위한 모듈\n",
    "import cloudscraper\n",
    "scraper = cloudscraper.create_scraper()"
   ]
  },
  {
   "cell_type": "code",
   "execution_count": 3,
   "id": "08943027",
   "metadata": {},
   "outputs": [],
   "source": [
    "# # !pip install cfscrape # 403 forbidden, cloudflare error을 해결하기 위한 모듈\n",
    "# import cfscrape\n",
    "# scraper = cfscrape.create_scraper()\n",
    "# # 이후 403 error이 발생한 곳에는 requests 대신 scraper 사용"
   ]
  },
  {
   "cell_type": "code",
   "execution_count": 4,
   "id": "selective-ireland",
   "metadata": {},
   "outputs": [],
   "source": [
    "headers = {'Referer': 'https://kr.investing.com/',\n",
    "           'User-Agent': 'Mozilla/5.0 (Windows NT 10.0; Win64; x64) \\\n",
    "           AppleWebKit/537.36 (KHTML, like Gecko) Chrome/125.0.0.0 Safari/537.36 Edg/125.0.0.0'}"
   ]
  },
  {
   "cell_type": "code",
   "execution_count": 5,
   "id": "fa5d6156-f7ff-4aee-a063-7240845f438e",
   "metadata": {},
   "outputs": [],
   "source": [
    "sys.path.append('../../data/constant')\n",
    "from constants import COMPANY_CODE"
   ]
  },
  {
   "cell_type": "code",
   "execution_count": 6,
   "id": "afbcbb53-e0e0-496d-adb7-a57c3341ae12",
   "metadata": {},
   "outputs": [],
   "source": [
    "def concat_df(df_o, df, dup_col, sort_col):\n",
    "    df_o = pd.concat([df_o, df], ignore_index=True)\n",
    "    df_o.drop_duplicates(subset=[dup_col], keep='last', inplace=True) # dup_col 중첩제거 기준 컬럼 이름: \"time\", \"date\" 등\n",
    "#     df_o.drop_duplicates(subset=[dup_col], keep='first', inplace=True)\n",
    "    df_o.sort_values(by=[df_o.columns[sort_col]], inplace=True) # sort_col 정렬 기준 컬럼 번호\n",
    "    df_o.index = np.arange(0, len(df_o))  # 일련 번호 오름차순으로 재 설정\n",
    "    return df_o"
   ]
  },
  {
   "cell_type": "markdown",
   "id": "98171c7f-8e92-4ea7-a933-c4855c8bb1a8",
   "metadata": {},
   "source": [
    "## 시간별 시세"
   ]
  },
  {
   "cell_type": "code",
   "execution_count": 7,
   "id": "3c80d5a0-f562-4f37-9363-ee1056d572b9",
   "metadata": {},
   "outputs": [],
   "source": [
    "# 특정일의 시간별 시세 취득을 위한 페이지별 table 데이터 취득. page는 날짜별로 약 40쪽. 09:00:00부터 1분간격으로 15:58:00 까지.\n",
    "def get_piece_time_price(url_t):\n",
    "    res = scraper.get(url_t, headers=headers)\n",
    "    class_name = 'type2'\n",
    "    df = pd.read_html(io.StringIO(str(res.text)), attrs={\"class\": class_name}, flavor=[\"lxml\", \"bs4\"])[0]\n",
    "    \n",
    "    df = df.dropna(axis=0) # delete rows with nan values\n",
    "    df.columns = ['time', 'price', 'change', 'sell', 'buy', 'volume', 'change_volumn'] # rename column in english from korean\n",
    "\n",
    "    # convert character values to integer value : 보합= 0, 하락= -, 상승= +\n",
    "    df['change'] = df['change'].apply(lambda x: int(x[2:]) if x[:2] == '보합' \n",
    "                                      else (-int(x[4:].replace(',','')) if x[:2] == '하락' \n",
    "                                            else int(x[4:].replace(',',''))))  # convert characters to int\n",
    "    \n",
    "    df = df[['time', 'price', 'change', 'volume']]  # delete unnecessary columns\n",
    "\n",
    "    # define variable types\n",
    "    df['time'] = df['time'].apply(lambda x : datetime.datetime.strptime(x, \"%H:%M\").time())  # convert characters to datetime objet\n",
    "    df['price'] = df['price'].astype(int)\n",
    "    df['volume'] = df['volume'].astype(int)\n",
    "\n",
    "    return df"
   ]
  },
  {
   "cell_type": "code",
   "execution_count": 8,
   "id": "699280b8-7e5c-450f-864a-b27d9329a4a8",
   "metadata": {},
   "outputs": [],
   "source": [
    "# 특정일의 시간대별 가격 40쪽을 한개의 df로 묶는 기능\n",
    "def get_time_price(url_base_t, code_com, collect_date):\n",
    "    \n",
    "    page_num = 1\n",
    "    \n",
    "    # make first data frame\n",
    "    collect_date_time = collect_date + '160000' # 장종료후 16시 00분 00초에 시간별 시세 추출\n",
    "    page = str(page_num)\n",
    "    \n",
    "    url = url_base_t + '?code=' + code_com + '&thistime=' + collect_date_time + '&page=' + page\n",
    "    df_base = get_piece_time_price(url)\n",
    "    \n",
    "    page_num = page_num + 1\n",
    "    df_previous = df_base.copy()\n",
    "    \n",
    "    while True:\n",
    "        page = str(page_num)\n",
    "        \n",
    "        url = url_base_t + '?code=' + code_com + '&thistime=' + collect_date_time + '&page=' + page\n",
    "        df_p = get_piece_time_price(url)\n",
    "    \n",
    "        df_base = concat_df(df_base, df_p, 'time', 0)  # df concat후 'time' column을 기준으로 중복제거 후 0 column을 기준으로 정렬시킴.\n",
    "        # print('page_num', page_num)\n",
    "        \n",
    "        # if df_p['time'].iloc[-1] == datetime.time(9, 00): # 시간 비료만으로는 안됨. 가끔 시작시간 몇 분 이후부터 기록되는 경우가 있음.\n",
    "        if df_p.equals(df_previous):  # 현재의 df와 바로 전의 df가 같다면 stop\n",
    "            break\n",
    "    \n",
    "        page_num = page_num + 1\n",
    "        df_previous = df_p.copy()\n",
    "    \n",
    "    df_base['date'] = datetime.datetime.strptime(collect_date, '%Y%m%d') # insert column with collecting date\n",
    "    df_base = df_base[['date', 'time', 'price', 'change', 'volume']]  \n",
    "\n",
    "    return df_base"
   ]
  },
  {
   "cell_type": "code",
   "execution_count": 9,
   "id": "a1c4d087-aaa6-405d-9002-5edd150271bb",
   "metadata": {},
   "outputs": [],
   "source": [
    "def get_start_end_date(): # 오늘부터 1주일 전까지 휴일, 휴장일 제외된 일자 리스트 구성. \n",
    "    end_date = datetime.datetime.today().date()\n",
    "    date_list = [end_date - datetime.timedelta(days=x) for x in range(8)] # day one week (8 days) before today\n",
    "    start_date = date_list[-1]\n",
    "    \n",
    "    datelist = pd.date_range(start_date, end_date, freq='B') # 토, 일을 제외한 주중 일자만 선택\n",
    "    # df_1 = pd.DataFrame(datelist, columns=['date']) # df로 구성\n",
    "\n",
    "    return list(datelist.map(lambda x : x.strftime('%Y%m%d')))"
   ]
  },
  {
   "cell_type": "code",
   "execution_count": 10,
   "id": "e5b751c7-63fc-4f11-ac67-1ee03bee6d7d",
   "metadata": {
    "scrolled": true
   },
   "outputs": [
    {
     "name": "stdout",
     "output_type": "stream",
     "text": [
      "1 ['삼성전자', 'sec'], 2 ['LG에너지솔루션', 'lgenergy'], 3 ['SK하이닉스', 'skhynix'], 4 ['삼성바이오로직스', 'ssbio'], 5 ['삼성SDI', 'sdi'], 6 ['LG화학', 'lgchemical'], 7 ['삼성전자우', 'secpre'], 8 ['현대차', 'hyunmotor'], 9 ['NAVER', 'naver'], 10 ['기아', 'kia'], 11 ['카카오', 'kakao'], 12 ['POSCO홀딩스', 'poscoholding'], 13 ['KB금융', 'kbbank'], 14 ['삼성물산', 'sscnt'], 15 ['셀트리온', 'celltrion'], 16 ['현대모비스', 'mobis'], 17 ['신한지주', 'shgroup'], 18 ['LG전자', 'lgelec'], 19 ['포스코퓨처엠', 'poscochemical'], 20 ['SK이노베이션', 'skinnovation'], 21 ['KT&G', 'ktng'], 22 ['KT', 'kt'], 23 ['LG', 'lg'], 24 ['SK', 'sk'], 25 ['삼성생명', 'sslife'], 26 ['하나금융지주', 'hana'], 27 ['삼성전기', 'sselec'], 28 ['한국전력', 'koreaelec'], 29 ['두산에너빌리티', 'doosanener'], 30 ['고려아연', 'koreazinc'], 31 ['SK텔레콤', 'sktelecom'], 32 ['HMM', 'hmm'], 33 ['삼성화재', 'ssfire'], 34 ['LG생활건강', 'lglife'], 35 ['S-Oil', 'soil'], 36 ['크래프톤', 'crafton'], 37 ['삼성에스디에스', 'sds'], 38 ['현대중공업', 'hhi'], 39 ['대한항공', 'koreanair'], 40 ['엔씨소프트', 'ncsoft'], 41 ['한화솔루션', 'hanhwasol'], 42 ['우리금융지주', 'woorifg'], 43 ['아모레퍼시픽', 'amore'], 44 ['롯데케미칼', 'lottechem'], 45 ['기업은행', 'ibk'], 46 ['메리츠금융지주', 'meritz'], 47 ['카카오페이', 'kakaopay'], 48 ['LG이노텍', 'lginnotek'], 49 ['삼성엔지니어링', 'ssengineering'], 50 ['SK아이이테크놀로지', 'skietech'], 51 ['현대글로비스', 'glovis'], 52 ['SK바이오사이언스', 'skbio'], "
     ]
    }
   ],
   "source": [
    "# naver_dir = 'data/naver_finance/time_data'\n",
    "naver_dir = 'time_data'\n",
    "\n",
    "url_base = 'https://finance.naver.com/item/sise_time.naver'  # sise_date\n",
    "\n",
    "code_dic = {'005930': ['삼성전자', 'sec'], '005380': ['현대차', 'hyunmotor'], \n",
    "        '035420': ['NAVER', 'naver'], '033780': ['KT&G', 'ktng']}\n",
    "\n",
    "code_dic = COMPANY_CODE\n",
    "\n",
    "# code_list = list(code_dic.items())\n",
    "# code_company_name = code_list[0]\n",
    "# code = code_company_name[0] # 취득을 원하는 회사 주식 코드\n",
    "# code_dic = {'005930': ['삼성전자', 'sec'], '005380': ['현대차', 'hyunmotor'], }\n",
    "# code_dic = {'035420': ['NAVER', 'naver'], '033780': ['KT&G', 'ktng']}\n",
    "# code_dic =  {'138040': ['메리츠금융지주', 'meritz'], '377300': ['카카오페이', 'kakaopay'], '011070': ['LG이노텍', 'lginnotek'], '028050': ['삼성엔지니어링', 'ssengineering'],\n",
    "#  '361610': ['SK아이이테크놀로지', 'skietech'], '086280': ['현대글로비스', 'glovis'], '302440': ['SK바이오사이언스', 'skbio']}\n",
    "\n",
    "c_date = ['20240619', '20240620', '20240621', '20240624', '20240625', '20240626'] # 취득이 필요한 날짜 리스트\n",
    "c_date = get_start_end_date() # 취득이 필요한 날짜 리스트, naver는 오늘날짜부터 1주일전까지만 저장. c_date 시작일자는 20200101 부터 있음.\n",
    "# \n",
    "# c_date = ['20240626', '20240620'] \n",
    "# c_date = ['20240619'] \n",
    "for i, (code, company_name) in enumerate(code_dic.items()):\n",
    "    for collect_date in c_date:\n",
    "        df_collect = get_time_price(url_base, code, collect_date)\n",
    "        # add logic to save date for each date for each company\n",
    "        f_name = f'{naver_dir}/{company_name[1]}_{collect_date}.csv'\n",
    "        # print(\"fname\", f_name)\n",
    "        df_collect.to_csv(f_name)\n",
    "        df_collect.to_pickle(f_name.replace('csv','pkl'))\n",
    "\n",
    "    print(i+1, company_name, end=\", \")"
   ]
  },
  {
   "cell_type": "markdown",
   "id": "05c50afd-ba3d-464d-8076-b8403dedeed3",
   "metadata": {},
   "source": [
    "## 여기까지"
   ]
  },
  {
   "cell_type": "code",
   "execution_count": 11,
   "id": "ca0bd264-3f8f-4e16-a76b-51e45e1a38d1",
   "metadata": {},
   "outputs": [
    {
     "data": {
      "text/plain": [
       "['20250818', '20250819', '20250820', '20250821', '20250822', '20250825']"
      ]
     },
     "execution_count": 11,
     "metadata": {},
     "output_type": "execute_result"
    }
   ],
   "source": [
    "c_date\n"
   ]
  },
  {
   "cell_type": "code",
   "execution_count": 13,
   "id": "24924412-582d-4665-ab03-d85b58b9d8c0",
   "metadata": {},
   "outputs": [
    {
     "data": {
      "text/plain": [
       "{'005930': ['삼성전자', 'sec'],\n",
       " '373220': ['LG에너지솔루션', 'lgenergy'],\n",
       " '000660': ['SK하이닉스', 'skhynix'],\n",
       " '207940': ['삼성바이오로직스', 'ssbio'],\n",
       " '006400': ['삼성SDI', 'sdi'],\n",
       " '051910': ['LG화학', 'lgchemical'],\n",
       " '005935': ['삼성전자우', 'secpre'],\n",
       " '005380': ['현대차', 'hyunmotor'],\n",
       " '035420': ['NAVER', 'naver'],\n",
       " '000270': ['기아', 'kia'],\n",
       " '035720': ['카카오', 'kakao'],\n",
       " '005490': ['POSCO홀딩스', 'poscoholding'],\n",
       " '105560': ['KB금융', 'kbbank'],\n",
       " '028260': ['삼성물산', 'sscnt'],\n",
       " '068270': ['셀트리온', 'celltrion'],\n",
       " '012330': ['현대모비스', 'mobis'],\n",
       " '055550': ['신한지주', 'shgroup'],\n",
       " '066570': ['LG전자', 'lgelec'],\n",
       " '003670': ['포스코퓨처엠', 'poscochemical'],\n",
       " '096770': ['SK이노베이션', 'skinnovation'],\n",
       " '033780': ['KT&G', 'ktng'],\n",
       " '030200': ['KT', 'kt'],\n",
       " '003550': ['LG', 'lg'],\n",
       " '034730': ['SK', 'sk'],\n",
       " '032830': ['삼성생명', 'sslife'],\n",
       " '086790': ['하나금융지주', 'hana'],\n",
       " '009150': ['삼성전기', 'sselec'],\n",
       " '015760': ['한국전력', 'koreaelec'],\n",
       " '034020': ['두산에너빌리티', 'doosanener'],\n",
       " '010130': ['고려아연', 'koreazinc'],\n",
       " '017670': ['SK텔레콤', 'sktelecom'],\n",
       " '011200': ['HMM', 'hmm'],\n",
       " '000810': ['삼성화재', 'ssfire'],\n",
       " '051900': ['LG생활건강', 'lglife'],\n",
       " '010950': ['S-Oil', 'soil'],\n",
       " '259960': ['크래프톤', 'crafton'],\n",
       " '018260': ['삼성에스디에스', 'sds'],\n",
       " '329180': ['현대중공업', 'hhi'],\n",
       " '003490': ['대한항공', 'koreanair'],\n",
       " '036570': ['엔씨소프트', 'ncsoft'],\n",
       " '009830': ['한화솔루션', 'hanhwasol'],\n",
       " '316140': ['우리금융지주', 'woorifg'],\n",
       " '090430': ['아모레퍼시픽', 'amore'],\n",
       " '011170': ['롯데케미칼', 'lottechem'],\n",
       " '024110': ['기업은행', 'ibk'],\n",
       " '138040': ['메리츠금융지주', 'meritz'],\n",
       " '377300': ['카카오페이', 'kakaopay'],\n",
       " '011070': ['LG이노텍', 'lginnotek'],\n",
       " '028050': ['삼성엔지니어링', 'ssengineering'],\n",
       " '361610': ['SK아이이테크놀로지', 'skietech'],\n",
       " '086280': ['현대글로비스', 'glovis'],\n",
       " '302440': ['SK바이오사이언스', 'skbio']}"
      ]
     },
     "execution_count": 13,
     "metadata": {},
     "output_type": "execute_result"
    }
   ],
   "source": [
    "COMPANY_CODE"
   ]
  },
  {
   "cell_type": "code",
   "execution_count": 14,
   "id": "ac09bdd9-5d50-4de0-b3e5-e1e68f155ac9",
   "metadata": {},
   "outputs": [],
   "source": [
    "code_dic =  {'138040': ['메리츠금융지주', 'meritz'],\n",
    " '377300': ['카카오페이', 'kakaopay'],\n",
    " '011070': ['LG이노텍', 'lginnotek'],\n",
    " '028050': ['삼성엔지니어링', 'ssengineering'],\n",
    " '361610': ['SK아이이테크놀로지', 'skietech'],\n",
    " '086280': ['현대글로비스', 'glovis'],\n",
    " '302440': ['SK바이오사이언스', 'skbio']}"
   ]
  },
  {
   "cell_type": "code",
   "execution_count": null,
   "id": "4f0cf136-bdb4-439c-baf3-014ba73e748e",
   "metadata": {},
   "outputs": [],
   "source": [
    "collect_date_time"
   ]
  },
  {
   "cell_type": "code",
   "execution_count": null,
   "id": "b8c405fe-070b-4e2c-8487-b767ff898c52",
   "metadata": {},
   "outputs": [],
   "source": [
    "\n",
    "{\n",
    " '034020': ['두산에너빌리티', 'doosanener'],\n",
    " '010130': ['고려아연', 'koreazinc'],\n",
    "}"
   ]
  },
  {
   "cell_type": "code",
   "execution_count": null,
   "id": "9df735bb-a28a-4eb3-89ee-aa8a2bb6cddd",
   "metadata": {},
   "outputs": [],
   "source": [
    "url_base = 'https://finance.naver.com/item/sise_time.naver?code=034020&thistime=20240711&page=1'\n",
    "url_base_t + '?code=' + code_com + '&thistime=' + collect_date_time + '&page=' + page"
   ]
  },
  {
   "cell_type": "code",
   "execution_count": null,
   "id": "db111e41-de36-48db-b992-c7cbb129850b",
   "metadata": {},
   "outputs": [],
   "source": [
    "url1 = 'https://finance.naver.com/item/sise_time.naver?code=034020&thistime=20240718160000&page=40'\n",
    "url2 = 'https://finance.naver.com/item/sise_time.naver?code=010130&thistime=20240718160000&page=39'\n",
    "url3 = 'https://finance.naver.com/item/sise_time.naver?code=005930&thistime=20240718160000&page=41'"
   ]
  },
  {
   "cell_type": "code",
   "execution_count": null,
   "id": "cc52e5d0-69b5-4fba-8c1c-37be9f11c1f8",
   "metadata": {},
   "outputs": [],
   "source": [
    "df1 = get_piece_time_price(url1)\n",
    "df2 = get_piece_time_price(url2)"
   ]
  },
  {
   "cell_type": "code",
   "execution_count": null,
   "id": "efd77dd0-c312-4387-9652-c0e8495ed62d",
   "metadata": {},
   "outputs": [],
   "source": [
    "df1.tail()"
   ]
  },
  {
   "cell_type": "code",
   "execution_count": null,
   "id": "4560ce11-cd83-463b-9dd8-3bae111a1af2",
   "metadata": {},
   "outputs": [],
   "source": [
    "df2.tail()"
   ]
  },
  {
   "cell_type": "code",
   "execution_count": null,
   "id": "e4612309-dd78-4dcf-b189-c517a1959470",
   "metadata": {},
   "outputs": [],
   "source": [
    "res = scraper.get(url3, headers=headers)\n",
    "class_name = 'type2'\n",
    "df = pd.read_html(io.StringIO(str(res.text)), attrs={\"class\": class_name}, flavor=[\"lxml\", \"bs4\"])[0]"
   ]
  },
  {
   "cell_type": "code",
   "execution_count": null,
   "id": "4f6f9eb2-0a49-4b5a-ba05-a2f1dd2e9713",
   "metadata": {},
   "outputs": [],
   "source": [
    "df.tail()"
   ]
  },
  {
   "cell_type": "code",
   "execution_count": null,
   "id": "9cdb404d-35c4-4191-8cfb-9829bfd17f8a",
   "metadata": {},
   "outputs": [],
   "source": [
    "dff = df.copy()"
   ]
  },
  {
   "cell_type": "code",
   "execution_count": null,
   "id": "bb84ea53-9766-44fb-a808-db60e49a44ad",
   "metadata": {},
   "outputs": [],
   "source": [
    "dff.tail()"
   ]
  },
  {
   "cell_type": "code",
   "execution_count": null,
   "id": "0db2107e-a4b0-4d2e-9760-00d0c357f3d8",
   "metadata": {},
   "outputs": [],
   "source": [
    "df.equals(dff)"
   ]
  },
  {
   "cell_type": "code",
   "execution_count": null,
   "id": "f4edea0a-c7cc-42cc-8d68-172bc6cc7fed",
   "metadata": {},
   "outputs": [],
   "source": [
    "t"
   ]
  },
  {
   "cell_type": "code",
   "execution_count": null,
   "id": "0453facb-e42a-4fc0-bc7c-a3c066e15c4f",
   "metadata": {},
   "outputs": [],
   "source": []
  }
 ],
 "metadata": {
  "kernelspec": {
   "display_name": "Python 3 (ipykernel)",
   "language": "python",
   "name": "python3"
  },
  "language_info": {
   "codemirror_mode": {
    "name": "ipython",
    "version": 3
   },
   "file_extension": ".py",
   "mimetype": "text/x-python",
   "name": "python",
   "nbconvert_exporter": "python",
   "pygments_lexer": "ipython3",
   "version": "3.13.3"
  }
 },
 "nbformat": 4,
 "nbformat_minor": 5
}
