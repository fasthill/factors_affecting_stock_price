{
 "cells": [
  {
   "cell_type": "code",
   "execution_count": 1,
   "id": "72f5b852",
   "metadata": {},
   "outputs": [],
   "source": [
    "import pandas as pd\n",
    "import datetime\n",
    "import numpy as np"
   ]
  },
  {
   "cell_type": "code",
   "execution_count": 2,
   "id": "4b241161",
   "metadata": {},
   "outputs": [],
   "source": [
    "import pickle\n",
    "\n",
    "def save_to_pickle(path, filename):\n",
    "    open_file = open(path, \"wb\")\n",
    "    pickle.dump(filename, open_file)\n",
    "    open_file.close()\n",
    "\n",
    "def load_from_pickle(path):\n",
    "    open_file = open(path, \"rb\")\n",
    "    loaded_list = pickle.load(open_file)\n",
    "    open_file.close()\n",
    "    return loaded_list"
   ]
  },
  {
   "cell_type": "code",
   "execution_count": 3,
   "id": "d57566cf",
   "metadata": {},
   "outputs": [],
   "source": [
    "df = pd.read_csv('stock_market_holidays.csv')\n",
    "df.columns = ['date', 'u_date']\n",
    "df['date']= pd.to_datetime(df['date'])"
   ]
  },
  {
   "cell_type": "code",
   "execution_count": 4,
   "id": "00ce5da0",
   "metadata": {},
   "outputs": [],
   "source": [
    "start_date = datetime.date(2020,1,1)\n",
    "end_date = datetime.date(2023,12,31)\n",
    "\n",
    "datelist = pd.date_range(start_date, end_date, freq='B')\n",
    "df_1 = pd.DataFrame(datelist, columns=['date'])"
   ]
  },
  {
   "cell_type": "code",
   "execution_count": 5,
   "id": "8ae0783c",
   "metadata": {},
   "outputs": [],
   "source": [
    "df_all = pd.concat([df, df_1], axis=0)"
   ]
  },
  {
   "cell_type": "code",
   "execution_count": 6,
   "id": "bd0b4a8e",
   "metadata": {},
   "outputs": [],
   "source": [
    "df_date = df_all.drop_duplicates(subset=['date'])"
   ]
  },
  {
   "cell_type": "code",
   "execution_count": 7,
   "id": "1f395b0f",
   "metadata": {},
   "outputs": [],
   "source": [
    "working_days = pd.to_datetime(df_date['date']).dt.date"
   ]
  },
  {
   "cell_type": "code",
   "execution_count": 8,
   "id": "1dbe3888",
   "metadata": {},
   "outputs": [],
   "source": [
    "save_to_pickle('working_days.pkl', working_days)"
   ]
  },
  {
   "cell_type": "code",
   "execution_count": 9,
   "id": "2163dea1",
   "metadata": {},
   "outputs": [],
   "source": [
    "wd = load_from_pickle('working_days.pkl')"
   ]
  },
  {
   "cell_type": "code",
   "execution_count": null,
   "id": "93c7a581",
   "metadata": {},
   "outputs": [],
   "source": []
  }
 ],
 "metadata": {
  "kernelspec": {
   "display_name": "Python 3 (ipykernel)",
   "language": "python",
   "name": "python3"
  },
  "language_info": {
   "codemirror_mode": {
    "name": "ipython",
    "version": 3
   },
   "file_extension": ".py",
   "mimetype": "text/x-python",
   "name": "python",
   "nbconvert_exporter": "python",
   "pygments_lexer": "ipython3",
   "version": "3.10.7"
  }
 },
 "nbformat": 4,
 "nbformat_minor": 5
}
