{
 "cells": [
  {
   "cell_type": "code",
   "execution_count": 1,
   "id": "72f5b852",
   "metadata": {},
   "outputs": [],
   "source": [
    "import pandas as pd\n",
    "import datetime"
   ]
  },
  {
   "cell_type": "code",
   "execution_count": 9,
   "id": "d57566cf",
   "metadata": {},
   "outputs": [],
   "source": [
    "df = pd.read_csv('stock_market_holidays.csv') # 휴장일 데이터\n",
    "df.columns = ['date', 'u_date'] # 한국휴장일, 미국휴장일\n",
    "df['date']= pd.to_datetime(df['date']) # 한국 휴장일만 datetime.date로"
   ]
  },
  {
   "cell_type": "code",
   "execution_count": 10,
   "id": "00ce5da0",
   "metadata": {},
   "outputs": [],
   "source": [
    "start_date = datetime.date(2020,1,1)\n",
    "end_date = datetime.date(2023,12,31)\n",
    "\n",
    "datelist = pd.date_range(start_date, end_date, freq='B') # 토, 일을 제외한 주중 일자만 선택\n",
    "df_1 = pd.DataFrame(datelist, columns=['date']) # df로 구성"
   ]
  },
  {
   "cell_type": "code",
   "execution_count": 11,
   "id": "8ae0783c",
   "metadata": {},
   "outputs": [],
   "source": [
    "df_all = pd.concat([df, df_1], axis=0).sort_values(by='date') # append and sort\n",
    "df_date = df_all.drop_duplicates(subset=['date'], keep=False) # delete all duplicates\n",
    "opening_days = pd.to_datetime(df_date['date']).dt.date  # convert timestamp to datetime.date"
   ]
  },
  {
   "cell_type": "code",
   "execution_count": 12,
   "id": "b5c9a6e9",
   "metadata": {},
   "outputs": [],
   "source": [
    "opening_days.to_pickle('opening_days.pkl') # save 개장일 데이터"
   ]
  },
  {
   "cell_type": "code",
   "execution_count": 2,
   "id": "2d7ed4f3",
   "metadata": {},
   "outputs": [],
   "source": [
    "opening_days = pd.read_pickle('opening_days.pkl')"
   ]
  },
  {
   "cell_type": "code",
   "execution_count": 27,
   "id": "ce19993b",
   "metadata": {},
   "outputs": [
    {
     "name": "stdout",
     "output_type": "stream",
     "text": [
      "The date is a stock market holyday\n"
     ]
    }
   ],
   "source": [
    "test_date = datetime.date(2020,1,1)\n",
    "if opening_days.isin([test_date]).any():\n",
    "    print(\"The date is a stock market opening day\")\n",
    "else:\n",
    "    print(\"The date is a stock market holyday\")"
   ]
  },
  {
   "cell_type": "code",
   "execution_count": 9,
   "id": "3e847e43",
   "metadata": {},
   "outputs": [
    {
     "data": {
      "text/plain": [
       "546    2022-02-03\n",
       "547    2022-02-04\n",
       "548    2022-02-07\n",
       "549    2022-02-08\n",
       "550    2022-02-09\n",
       "551    2022-02-10\n",
       "552    2022-02-11\n",
       "553    2022-02-14\n",
       "554    2022-02-15\n",
       "555    2022-02-16\n",
       "Name: date, dtype: object"
      ]
     },
     "execution_count": 9,
     "metadata": {},
     "output_type": "execute_result"
    }
   ],
   "source": [
    "opening_days[520:530]"
   ]
  },
  {
   "cell_type": "code",
   "execution_count": null,
   "id": "b927a500",
   "metadata": {},
   "outputs": [],
   "source": []
  }
 ],
 "metadata": {
  "kernelspec": {
   "display_name": "Python 3 (ipykernel)",
   "language": "python",
   "name": "python3"
  },
  "language_info": {
   "codemirror_mode": {
    "name": "ipython",
    "version": 3
   },
   "file_extension": ".py",
   "mimetype": "text/x-python",
   "name": "python",
   "nbconvert_exporter": "python",
   "pygments_lexer": "ipython3",
   "version": "3.10.7"
  }
 },
 "nbformat": 4,
 "nbformat_minor": 5
}
