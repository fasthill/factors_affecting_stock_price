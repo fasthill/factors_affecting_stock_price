{
 "cells": [
  {
   "cell_type": "code",
   "execution_count": 1,
   "id": "72f5b852",
   "metadata": {},
   "outputs": [],
   "source": [
    "import pandas as pd\n",
    "import datetime"
   ]
  },
  {
   "cell_type": "code",
   "execution_count": 2,
   "id": "d57566cf",
   "metadata": {},
   "outputs": [],
   "source": [
    "df = pd.read_csv('stock_market_holidays.csv') # 휴장일 데이터\n",
    "df.columns = ['date', 'u_date'] # 한국휴장일, 미국휴장일\n",
    "df['date']= pd.to_datetime(df['date']) # 한국 휴장일만 datetime.date로"
   ]
  },
  {
   "cell_type": "code",
   "execution_count": 3,
   "id": "00ce5da0",
   "metadata": {},
   "outputs": [],
   "source": [
    "start_date = datetime.date(2020,1,1)\n",
    "end_date = datetime.date(2023,12,31)\n",
    "\n",
    "datelist = pd.date_range(start_date, end_date, freq='B') # 토, 일을 제외한 주중 일자만 선택\n",
    "df_1 = pd.DataFrame(datelist, columns=['date']) # df로 구성"
   ]
  },
  {
   "cell_type": "code",
   "execution_count": 4,
   "id": "183c8fdc",
   "metadata": {},
   "outputs": [],
   "source": [
    "o_days = [item for item in list(df_1['date']) if item not in list(df['date'])] # should use list not df"
   ]
  },
  {
   "cell_type": "code",
   "execution_count": 5,
   "id": "bb110566",
   "metadata": {},
   "outputs": [],
   "source": [
    "df_date = pd.DataFrame(o_days, columns=['date']) # df로 구성"
   ]
  },
  {
   "cell_type": "code",
   "execution_count": 6,
   "id": "e06f5c8c",
   "metadata": {},
   "outputs": [],
   "source": [
    "opening_days = pd.to_datetime(df_date['date']).dt.date  # convert timestamp to datetime.date"
   ]
  },
  {
   "cell_type": "code",
   "execution_count": 7,
   "id": "1e70c5d2",
   "metadata": {},
   "outputs": [],
   "source": [
    "opening_days.to_pickle('opening_days.pkl') # save 개장일 데이터"
   ]
  },
  {
   "cell_type": "code",
   "execution_count": 8,
   "id": "aeebc601",
   "metadata": {},
   "outputs": [],
   "source": [
    "opening_days = pd.read_pickle('opening_days.pkl')"
   ]
  },
  {
   "cell_type": "code",
   "execution_count": 11,
   "id": "ce19993b",
   "metadata": {},
   "outputs": [
    {
     "name": "stdout",
     "output_type": "stream",
     "text": [
      "The date is a stock market holyday\n"
     ]
    }
   ],
   "source": [
    "test_date = datetime.date(2020,1,1)\n",
    "if opening_days.isin([test_date]).any():\n",
    "    print(\"The date is a stock market opening day\")\n",
    "else:\n",
    "    print(\"The date is a stock market holyday\")"
   ]
  },
  {
   "cell_type": "code",
   "execution_count": null,
   "id": "00f3c57a",
   "metadata": {},
   "outputs": [],
   "source": []
  }
 ],
 "metadata": {
  "kernelspec": {
   "display_name": "Python 3 (ipykernel)",
   "language": "python",
   "name": "python3"
  },
  "language_info": {
   "codemirror_mode": {
    "name": "ipython",
    "version": 3
   },
   "file_extension": ".py",
   "mimetype": "text/x-python",
   "name": "python",
   "nbconvert_exporter": "python",
   "pygments_lexer": "ipython3",
   "version": "3.9.1"
  }
 },
 "nbformat": 4,
 "nbformat_minor": 5
}
