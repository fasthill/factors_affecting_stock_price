{
 "cells": [
  {
   "cell_type": "code",
   "execution_count": 1,
   "id": "72f5b852",
   "metadata": {},
   "outputs": [],
   "source": [
    "import pandas as pd\n",
    "import datetime"
   ]
  },
  {
   "cell_type": "code",
   "execution_count": 3,
   "id": "d57566cf",
   "metadata": {},
   "outputs": [],
   "source": [
    "df = pd.read_csv('stock_market_holidays.csv') # 휴장일 데이터\n",
    "df.columns = ['date', 'u_date'] # 한국휴장일, 미국휴장일\n",
    "df['date']= pd.to_datetime(df['date']) # 한국 휴장일만 datetime.date로"
   ]
  },
  {
   "cell_type": "code",
   "execution_count": 4,
   "id": "0383d27a",
   "metadata": {},
   "outputs": [],
   "source": [
    "df_u = pd.to_datetime(df['u_date'].dropna()) # 미국 휴장일. datetime.date"
   ]
  },
  {
   "cell_type": "code",
   "execution_count": 5,
   "id": "00ce5da0",
   "metadata": {},
   "outputs": [],
   "source": [
    "start_date = datetime.date(2020,1,1)\n",
    "end_date = datetime.date(2025,12,31) # 마지막 년도 마지막 날짜 기록\n",
    "\n",
    "datelist = pd.date_range(start_date, end_date, freq='B') # 토, 일을 제외한 주중 일자만 선택\n",
    "df_1 = pd.DataFrame(datelist, columns=['date']) # df로 구성"
   ]
  },
  {
   "cell_type": "code",
   "execution_count": 6,
   "id": "183c8fdc",
   "metadata": {},
   "outputs": [],
   "source": [
    "k_days = [item for item in list(df_1['date']) if item not in list(df['date'])] # should use list not df. 한국\n",
    "u_days = [item for item in list(df_1['date']) if item not in list(df_u)] # should use list not df. 미국"
   ]
  },
  {
   "cell_type": "code",
   "execution_count": 7,
   "id": "bb110566",
   "metadata": {},
   "outputs": [],
   "source": [
    "df_date_k = pd.DataFrame(k_days, columns=['date']) # 한국 개장일 df로 구성\n",
    "df_date_u = pd.DataFrame(u_days, columns=['date']) # 미국 개장일 df로 구성"
   ]
  },
  {
   "cell_type": "code",
   "execution_count": 8,
   "id": "e06f5c8c",
   "metadata": {},
   "outputs": [],
   "source": [
    "opening_days_kor = pd.to_datetime(df_date_k['date']).dt.date  # convert timestamp to datetime.date\n",
    "opening_days_usa = pd.to_datetime(df_date_u['date']).dt.date  # convert timestamp to datetime.date"
   ]
  },
  {
   "cell_type": "code",
   "execution_count": 9,
   "id": "1e70c5d2",
   "metadata": {},
   "outputs": [],
   "source": [
    "opening_days_kor.to_pickle('opening_days_kor.pkl') # save 개장일 데이터\n",
    "opening_days_usa.to_pickle('opening_days_usa.pkl') # save 개장일 데이터"
   ]
  },
  {
   "cell_type": "markdown",
   "id": "a6316866",
   "metadata": {},
   "source": [
    "## 다음은 테스트로 진행함."
   ]
  },
  {
   "cell_type": "code",
   "execution_count": 10,
   "id": "aeebc601",
   "metadata": {},
   "outputs": [],
   "source": [
    "opening_days_kor = pd.read_pickle('opening_days_kor.pkl')"
   ]
  },
  {
   "cell_type": "code",
   "execution_count": 11,
   "id": "ce19993b",
   "metadata": {},
   "outputs": [
    {
     "name": "stdout",
     "output_type": "stream",
     "text": [
      "The date is a stock market holyday in KOREA\n"
     ]
    }
   ],
   "source": [
    "test_date = datetime.date(2025, 1, 27)\n",
    "if opening_days_kor.isin([test_date]).any():\n",
    "    print(\"The date is a stock market opening day in KOREA\")\n",
    "else:\n",
    "    print(\"The date is a stock market holyday in KOREA\")"
   ]
  },
  {
   "cell_type": "code",
   "execution_count": null,
   "id": "ee2246aa-7f7f-4054-8f24-99a84f95b7c5",
   "metadata": {},
   "outputs": [],
   "source": [
    "test_date"
   ]
  },
  {
   "cell_type": "code",
   "execution_count": null,
   "id": "9ae93402",
   "metadata": {},
   "outputs": [],
   "source": [
    "opening_days_kor[-350:-300]"
   ]
  },
  {
   "cell_type": "code",
   "execution_count": null,
   "id": "a297b5ca",
   "metadata": {},
   "outputs": [],
   "source": [
    "list(df_date_k['date'])[-350:-300]"
   ]
  },
  {
   "cell_type": "code",
   "execution_count": null,
   "id": "4758ac1f-6e03-496c-b57a-9d53376d0ca2",
   "metadata": {},
   "outputs": [],
   "source": []
  }
 ],
 "metadata": {
  "kernelspec": {
   "display_name": "Python 3 (ipykernel)",
   "language": "python",
   "name": "python3"
  },
  "language_info": {
   "codemirror_mode": {
    "name": "ipython",
    "version": 3
   },
   "file_extension": ".py",
   "mimetype": "text/x-python",
   "name": "python",
   "nbconvert_exporter": "python",
   "pygments_lexer": "ipython3",
   "version": "3.13.1"
  }
 },
 "nbformat": 4,
 "nbformat_minor": 5
}
