{
 "cells": [
  {
   "cell_type": "code",
   "execution_count": 1,
   "id": "72f5b852",
   "metadata": {},
   "outputs": [],
   "source": [
    "import pandas as pd\n",
    "import datetime"
   ]
  },
  {
   "cell_type": "code",
   "execution_count": 2,
   "id": "d57566cf",
   "metadata": {},
   "outputs": [],
   "source": [
    "df = pd.read_csv('stock_market_holidays.csv') # 휴장일 데이터\n",
    "df.columns = ['date', 'u_date'] # 한국휴장일, 미국휴장일\n",
    "df['date']= pd.to_datetime(df['date']) # 한국 휴장일만 datetime.date로"
   ]
  },
  {
   "cell_type": "code",
   "execution_count": 3,
   "id": "0383d27a",
   "metadata": {},
   "outputs": [],
   "source": [
    "df_u = pd.to_datetime(df['u_date'].dropna()) # 미국 휴장일. datetime.date"
   ]
  },
  {
   "cell_type": "code",
   "execution_count": 4,
   "id": "00ce5da0",
   "metadata": {},
   "outputs": [],
   "source": [
    "start_date = datetime.date(2020,1,1)\n",
    "end_date = datetime.date(2024,12,31) # 마지막 년도 마지막 날짜 기록\n",
    "\n",
    "datelist = pd.date_range(start_date, end_date, freq='B') # 토, 일을 제외한 주중 일자만 선택\n",
    "df_1 = pd.DataFrame(datelist, columns=['date']) # df로 구성"
   ]
  },
  {
   "cell_type": "code",
   "execution_count": 5,
   "id": "183c8fdc",
   "metadata": {},
   "outputs": [],
   "source": [
    "k_days = [item for item in list(df_1['date']) if item not in list(df['date'])] # should use list not df. 한국\n",
    "u_days = [item for item in list(df_1['date']) if item not in list(df_u)] # should use list not df. 미국"
   ]
  },
  {
   "cell_type": "code",
   "execution_count": 6,
   "id": "bb110566",
   "metadata": {},
   "outputs": [],
   "source": [
    "df_date_k = pd.DataFrame(k_days, columns=['date']) # 한국 개장일 df로 구성\n",
    "df_date_u = pd.DataFrame(u_days, columns=['date']) # 미국 개장일 df로 구성"
   ]
  },
  {
   "cell_type": "code",
   "execution_count": 7,
   "id": "e06f5c8c",
   "metadata": {},
   "outputs": [],
   "source": [
    "opening_days_kor = pd.to_datetime(df_date_k['date']).dt.date  # convert timestamp to datetime.date\n",
    "opening_days_usa = pd.to_datetime(df_date_u['date']).dt.date  # convert timestamp to datetime.date"
   ]
  },
  {
   "cell_type": "code",
   "execution_count": 8,
   "id": "1e70c5d2",
   "metadata": {},
   "outputs": [],
   "source": [
    "opening_days_kor.to_pickle('opening_days_kor.pkl') # save 개장일 데이터\n",
    "opening_days_usa.to_pickle('opening_days_usa.pkl') # save 개장일 데이터"
   ]
  },
  {
   "cell_type": "markdown",
   "id": "a6316866",
   "metadata": {},
   "source": [
    "## 다음은 테스트로 진행함."
   ]
  },
  {
   "cell_type": "code",
   "execution_count": 9,
   "id": "aeebc601",
   "metadata": {},
   "outputs": [],
   "source": [
    "opening_days_kor = pd.read_pickle('opening_days_kor.pkl')"
   ]
  },
  {
   "cell_type": "code",
   "execution_count": 10,
   "id": "ce19993b",
   "metadata": {},
   "outputs": [
    {
     "name": "stdout",
     "output_type": "stream",
     "text": [
      "The date is a stock market opening day in KOREA\n"
     ]
    }
   ],
   "source": [
    "test_date = datetime.date(2023,12,28)\n",
    "if opening_days_kor.isin([test_date]).any():\n",
    "    print(\"The date is a stock market opening day in KOREA\")\n",
    "else:\n",
    "    print(\"The date is a stock market holyday in KOREA\")"
   ]
  },
  {
   "cell_type": "code",
   "execution_count": 11,
   "id": "9ae93402",
   "metadata": {},
   "outputs": [
    {
     "data": {
      "text/plain": [
       "0       2020-01-02\n",
       "1       2020-01-03\n",
       "2       2020-01-06\n",
       "3       2020-01-07\n",
       "4       2020-01-08\n",
       "           ...    \n",
       "1225    2024-12-23\n",
       "1226    2024-12-24\n",
       "1227    2024-12-26\n",
       "1228    2024-12-27\n",
       "1229    2024-12-30\n",
       "Name: date, Length: 1230, dtype: object"
      ]
     },
     "execution_count": 11,
     "metadata": {},
     "output_type": "execute_result"
    }
   ],
   "source": [
    "opening_days_kor"
   ]
  },
  {
   "cell_type": "code",
   "execution_count": null,
   "id": "a297b5ca",
   "metadata": {},
   "outputs": [],
   "source": []
  }
 ],
 "metadata": {
  "kernelspec": {
   "display_name": "Python 3 (ipykernel)",
   "language": "python",
   "name": "python3"
  },
  "language_info": {
   "codemirror_mode": {
    "name": "ipython",
    "version": 3
   },
   "file_extension": ".py",
   "mimetype": "text/x-python",
   "name": "python",
   "nbconvert_exporter": "python",
   "pygments_lexer": "ipython3",
   "version": "3.9.1"
  }
 },
 "nbformat": 4,
 "nbformat_minor": 5
}
