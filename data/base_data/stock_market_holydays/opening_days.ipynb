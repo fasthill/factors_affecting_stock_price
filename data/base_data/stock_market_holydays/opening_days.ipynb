{
 "cells": [
  {
   "cell_type": "code",
   "execution_count": 2,
   "id": "72f5b852",
   "metadata": {},
   "outputs": [],
   "source": [
    "import pandas as pd\n",
    "import datetime"
   ]
  },
  {
   "cell_type": "code",
   "execution_count": 5,
   "id": "d57566cf",
   "metadata": {},
   "outputs": [],
   "source": [
    "df = pd.read_csv('stock_market_holidays.csv') # 휴장일 데이터\n",
    "df.columns = ['date', 'u_date'] # 한국휴장일, 미국휴장일\n",
    "df['date']= pd.to_datetime(df['date']) # 한국 휴장일만 datetime.date로"
   ]
  },
  {
   "cell_type": "code",
   "execution_count": 6,
   "id": "0383d27a",
   "metadata": {},
   "outputs": [],
   "source": [
    "df_u = pd.to_datetime(df['u_date'].dropna()) # 미국 휴장일. datetime.date"
   ]
  },
  {
   "cell_type": "code",
   "execution_count": 7,
   "id": "00ce5da0",
   "metadata": {},
   "outputs": [],
   "source": [
    "start_date = datetime.date(2020,1,1)\n",
    "end_date = datetime.date(2025,12,31) # 마지막 년도 마지막 날짜 기록\n",
    "\n",
    "datelist = pd.date_range(start_date, end_date, freq='B') # 토, 일을 제외한 주중 일자만 선택\n",
    "df_1 = pd.DataFrame(datelist, columns=['date']) # df로 구성"
   ]
  },
  {
   "cell_type": "code",
   "execution_count": 8,
   "id": "183c8fdc",
   "metadata": {},
   "outputs": [],
   "source": [
    "k_days = [item for item in list(df_1['date']) if item not in list(df['date'])] # should use list not df. 한국\n",
    "u_days = [item for item in list(df_1['date']) if item not in list(df_u)] # should use list not df. 미국"
   ]
  },
  {
   "cell_type": "code",
   "execution_count": 9,
   "id": "bb110566",
   "metadata": {},
   "outputs": [],
   "source": [
    "df_date_k = pd.DataFrame(k_days, columns=['date']) # 한국 개장일 df로 구성\n",
    "df_date_u = pd.DataFrame(u_days, columns=['date']) # 미국 개장일 df로 구성"
   ]
  },
  {
   "cell_type": "code",
   "execution_count": 10,
   "id": "e06f5c8c",
   "metadata": {},
   "outputs": [],
   "source": [
    "opening_days_kor = pd.to_datetime(df_date_k['date']).dt.date  # convert timestamp to datetime.date\n",
    "opening_days_usa = pd.to_datetime(df_date_u['date']).dt.date  # convert timestamp to datetime.date"
   ]
  },
  {
   "cell_type": "code",
   "execution_count": 11,
   "id": "1e70c5d2",
   "metadata": {},
   "outputs": [],
   "source": [
    "opening_days_kor.to_pickle('opening_days_kor.pkl') # save 개장일 데이터\n",
    "opening_days_usa.to_pickle('opening_days_usa.pkl') # save 개장일 데이터"
   ]
  },
  {
   "cell_type": "markdown",
   "id": "a6316866",
   "metadata": {},
   "source": [
    "## 다음은 테스트로 진행함."
   ]
  },
  {
   "cell_type": "code",
   "execution_count": 12,
   "id": "aeebc601",
   "metadata": {},
   "outputs": [],
   "source": [
    "opening_days_kor = pd.read_pickle('opening_days_kor.pkl')"
   ]
  },
  {
   "cell_type": "code",
   "execution_count": 32,
   "id": "ce19993b",
   "metadata": {},
   "outputs": [
    {
     "name": "stdout",
     "output_type": "stream",
     "text": [
      "The date is a stock market holyday in KOREA\n"
     ]
    }
   ],
   "source": [
    "test_date = datetime.date(2024, 8, 4)\n",
    "if opening_days_kor.isin([test_date]).any():\n",
    "    print(\"The date is a stock market opening day in KOREA\")\n",
    "else:\n",
    "    print(\"The date is a stock market holyday in KOREA\")"
   ]
  },
  {
   "cell_type": "code",
   "execution_count": 29,
   "id": "ee2246aa-7f7f-4054-8f24-99a84f95b7c5",
   "metadata": {},
   "outputs": [
    {
     "data": {
      "text/plain": [
       "datetime.date(2024, 8, 4)"
      ]
     },
     "execution_count": 29,
     "metadata": {},
     "output_type": "execute_result"
    }
   ],
   "source": [
    "test_date"
   ]
  },
  {
   "cell_type": "code",
   "execution_count": 24,
   "id": "9ae93402",
   "metadata": {},
   "outputs": [
    {
     "data": {
      "text/plain": [
       "1126    2024-07-25\n",
       "1127    2024-07-26\n",
       "1128    2024-07-29\n",
       "1129    2024-07-30\n",
       "1130    2024-07-31\n",
       "1131    2024-08-01\n",
       "1132    2024-08-02\n",
       "1133    2024-08-05\n",
       "1134    2024-08-06\n",
       "1135    2024-08-07\n",
       "1136    2024-08-08\n",
       "1137    2024-08-09\n",
       "1138    2024-08-12\n",
       "1139    2024-08-13\n",
       "1140    2024-08-14\n",
       "1141    2024-08-16\n",
       "1142    2024-08-19\n",
       "1143    2024-08-20\n",
       "1144    2024-08-21\n",
       "1145    2024-08-22\n",
       "1146    2024-08-23\n",
       "1147    2024-08-26\n",
       "1148    2024-08-27\n",
       "1149    2024-08-28\n",
       "1150    2024-08-29\n",
       "1151    2024-08-30\n",
       "1152    2024-09-02\n",
       "1153    2024-09-03\n",
       "1154    2024-09-04\n",
       "1155    2024-09-05\n",
       "1156    2024-09-06\n",
       "1157    2024-09-09\n",
       "1158    2024-09-10\n",
       "1159    2024-09-11\n",
       "1160    2024-09-12\n",
       "1161    2024-09-13\n",
       "1162    2024-09-19\n",
       "1163    2024-09-20\n",
       "1164    2024-09-23\n",
       "1165    2024-09-24\n",
       "1166    2024-09-25\n",
       "1167    2024-09-26\n",
       "1168    2024-09-27\n",
       "1169    2024-09-30\n",
       "1170    2024-10-01\n",
       "1171    2024-10-02\n",
       "1172    2024-10-04\n",
       "1173    2024-10-07\n",
       "1174    2024-10-08\n",
       "1175    2024-10-10\n",
       "Name: date, dtype: object"
      ]
     },
     "execution_count": 24,
     "metadata": {},
     "output_type": "execute_result"
    }
   ],
   "source": [
    "opening_days_kor[-350:-300]"
   ]
  },
  {
   "cell_type": "code",
   "execution_count": 28,
   "id": "a297b5ca",
   "metadata": {},
   "outputs": [
    {
     "data": {
      "text/plain": [
       "[Timestamp('2024-07-25 00:00:00'),\n",
       " Timestamp('2024-07-26 00:00:00'),\n",
       " Timestamp('2024-07-29 00:00:00'),\n",
       " Timestamp('2024-07-30 00:00:00'),\n",
       " Timestamp('2024-07-31 00:00:00'),\n",
       " Timestamp('2024-08-01 00:00:00'),\n",
       " Timestamp('2024-08-02 00:00:00'),\n",
       " Timestamp('2024-08-05 00:00:00'),\n",
       " Timestamp('2024-08-06 00:00:00'),\n",
       " Timestamp('2024-08-07 00:00:00'),\n",
       " Timestamp('2024-08-08 00:00:00'),\n",
       " Timestamp('2024-08-09 00:00:00'),\n",
       " Timestamp('2024-08-12 00:00:00'),\n",
       " Timestamp('2024-08-13 00:00:00'),\n",
       " Timestamp('2024-08-14 00:00:00'),\n",
       " Timestamp('2024-08-16 00:00:00'),\n",
       " Timestamp('2024-08-19 00:00:00'),\n",
       " Timestamp('2024-08-20 00:00:00'),\n",
       " Timestamp('2024-08-21 00:00:00'),\n",
       " Timestamp('2024-08-22 00:00:00'),\n",
       " Timestamp('2024-08-23 00:00:00'),\n",
       " Timestamp('2024-08-26 00:00:00'),\n",
       " Timestamp('2024-08-27 00:00:00'),\n",
       " Timestamp('2024-08-28 00:00:00'),\n",
       " Timestamp('2024-08-29 00:00:00'),\n",
       " Timestamp('2024-08-30 00:00:00'),\n",
       " Timestamp('2024-09-02 00:00:00'),\n",
       " Timestamp('2024-09-03 00:00:00'),\n",
       " Timestamp('2024-09-04 00:00:00'),\n",
       " Timestamp('2024-09-05 00:00:00'),\n",
       " Timestamp('2024-09-06 00:00:00'),\n",
       " Timestamp('2024-09-09 00:00:00'),\n",
       " Timestamp('2024-09-10 00:00:00'),\n",
       " Timestamp('2024-09-11 00:00:00'),\n",
       " Timestamp('2024-09-12 00:00:00'),\n",
       " Timestamp('2024-09-13 00:00:00'),\n",
       " Timestamp('2024-09-19 00:00:00'),\n",
       " Timestamp('2024-09-20 00:00:00'),\n",
       " Timestamp('2024-09-23 00:00:00'),\n",
       " Timestamp('2024-09-24 00:00:00'),\n",
       " Timestamp('2024-09-25 00:00:00'),\n",
       " Timestamp('2024-09-26 00:00:00'),\n",
       " Timestamp('2024-09-27 00:00:00'),\n",
       " Timestamp('2024-09-30 00:00:00'),\n",
       " Timestamp('2024-10-01 00:00:00'),\n",
       " Timestamp('2024-10-02 00:00:00'),\n",
       " Timestamp('2024-10-04 00:00:00'),\n",
       " Timestamp('2024-10-07 00:00:00'),\n",
       " Timestamp('2024-10-08 00:00:00'),\n",
       " Timestamp('2024-10-10 00:00:00')]"
      ]
     },
     "execution_count": 28,
     "metadata": {},
     "output_type": "execute_result"
    }
   ],
   "source": [
    "list(df_date_k['date'])[-350:-300]"
   ]
  },
  {
   "cell_type": "code",
   "execution_count": null,
   "id": "4758ac1f-6e03-496c-b57a-9d53376d0ca2",
   "metadata": {},
   "outputs": [],
   "source": []
  }
 ],
 "metadata": {
  "kernelspec": {
   "display_name": "Python 3 (ipykernel)",
   "language": "python",
   "name": "python3"
  },
  "language_info": {
   "codemirror_mode": {
    "name": "ipython",
    "version": 3
   },
   "file_extension": ".py",
   "mimetype": "text/x-python",
   "name": "python",
   "nbconvert_exporter": "python",
   "pygments_lexer": "ipython3",
   "version": "3.12.2"
  }
 },
 "nbformat": 4,
 "nbformat_minor": 5
}
