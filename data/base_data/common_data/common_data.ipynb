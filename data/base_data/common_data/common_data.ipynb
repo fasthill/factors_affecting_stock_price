{
 "cells": [
  {
   "cell_type": "markdown",
   "id": "47da50f8",
   "metadata": {},
   "source": [
    "1. code_all : company list (dictionary)\n",
    "2. code_4 : 4개 company list, 10분 주가 자료가 있는 회사 리스트 (dictionary)\n",
    "3. common_files : 미국, 한국의 주요 주가 지표를 갖고 있는 파일 리스트 (common_files_usa + common_files_kore) (list)\n",
    "4. common_files_usa : 미국 주요 주가 지표 파일 리스트 (list)\n",
    "5. common_files_kor : 한국 주요 주가 지표 파일 리스트 (list)\n",
    "6. common_files_column_name : 파일이름과 column명 matching dictionary (dictionary)\n",
    "7. columns_investor_p1 : 투자자별 현황 하루전(-1)과 이틀전(-2)의 변화정도가 있는 column명\n",
    "8. columns_investor_p2 : 투자자별 현황 하루전(-1)과 사흘전(-3)의 변화정도가 있는 column명\n",
    "9. columns_historical_p1 : 일별 주가변동 현황 하루전(-1)과 이틀전(-2)의 변화정도가 있는 column명\n",
    "10. columns_historical_p2 : 일별 주가변동 현황 하루전(-1)과 사흘전(-3)의 변화정도가 있는 column명\n",
    "11. columns_change_ratio : 거래요일, 0 ~ 0.5(cr_00), 0.5 ~1.0(cr_01), 1.0 ~1.5(cr_10), 1.5 ~2.0(cr_15), 2.0 ~ (cr_20)\n",
    "12. columns_common_p1 : 미국, 한국의 주요 주가 지표 현황 하루전(-1)과 이틀전(-2)의 변화정도가 있는 column명\n",
    "13. columns_common_p2 : 미국, 한국의 주요 주가 지표 현황 하루전(-1)과 사흘전(-3)의 변화정도가 있는 column명\n",
    "14. columns_futures_p1 : 미국의 선물 지표 현황 하루전(-1)과 이틀전(-2)의 변화정도가 있는 column명\n",
    "15. columns_futures_p2 : 미국의 선물 지표 현황 하루전(-1)과 사흘전(-3)의 변화정도가 있는 column명\n",
    "16. columns_except : 자료가 많이 빠져 있어서 분석시 제외가 필요한 column명"
   ]
  },
  {
   "cell_type": "code",
   "execution_count": 1,
   "id": "72f5b852",
   "metadata": {},
   "outputs": [],
   "source": [
    "import pandas as pd"
   ]
  },
  {
   "cell_type": "code",
   "execution_count": 2,
   "id": "c7059a33",
   "metadata": {},
   "outputs": [],
   "source": [
    "def sub_list(list1, list2): # list1 - list2\n",
    "    list_subtract = [item for item in list1 if item not in list2]\n",
    "    return list_subtract"
   ]
  },
  {
   "cell_type": "code",
   "execution_count": 3,
   "id": "bb110566",
   "metadata": {},
   "outputs": [],
   "source": [
    "code_all = {'005930': ['삼성전자', 'sec'], '373220': ['LG에너지솔루션', 'lgenergy'], \n",
    "        '000660': ['SK하이닉스', 'skhynix'], '207940': ['삼성바이오로직스', 'ssbio'],\n",
    "        '006400': ['삼성SDI', 'sdi'], '051910': ['LG화학', 'lgchemical'],\n",
    "        '005935': ['삼성전자우', 'secpre'], '005380': ['현대차', 'hyunmotor'],\n",
    "        '035420': ['NAVER', 'naver'], '000270': ['기아', 'kia'],\n",
    "        '035720': ['카카오', 'kakao'], '005490': ['POSCO홀딩스', 'poscoholding'],\n",
    "        '105560': ['KB금융', 'kbbank'], '028260': ['삼성물산', 'sscnt'],\n",
    "        '068270': ['셀트리온', 'celltrion'], '012330': ['현대모비스', 'mobis'],\n",
    "        '055550': ['신한지주', 'shgroup'], '066570': ['LG전자', 'lgelec'],\n",
    "        '003670': ['포스코퓨처엠', 'poscochemical'], '096770': ['SK이노베이션', 'skinnovation'],\n",
    "        '033780': ['KT&G', 'ktng'], '030200': ['KT', 'kt'],\n",
    "        '003550': ['LG', 'lg'], '034730': ['SK', 'sk'], \n",
    "        '032830': ['삼성생명', 'sslife'], '086790': ['하나금융지주', 'hana'], \n",
    "        '009150': ['삼성전기', 'sselec'], '015760': ['한국전력', 'koreaelec'],\n",
    "        '034020': ['두산에너빌리티', 'doosanener'], '010130': ['고려아연', 'koreazinc'],\n",
    "        '017670': ['SK텔레콤', 'sktelecom'], '011200': ['HMM', 'hmm'],\n",
    "        '000810': ['삼성화재', 'ssfire'], '051900': ['LG생활건강', 'lglife'],\n",
    "        '010950': ['S-Oil', 'soil'], '259960': ['크래프톤', 'crafton'],\n",
    "        '018260': ['삼성에스디에스', 'sds'], '329180': ['현대중공업', 'hhi'],\n",
    "        '003490': ['대한항공', 'koreanair'], '036570': ['엔씨소프트', 'ncsoft'],\n",
    "        '009830': ['한화솔루션', 'hanhwasol'], '316140': ['우리금융지주', 'woorifg'],\n",
    "        '090430': ['아모레퍼시픽', 'amore'], '011170': ['롯데케미칼', 'lottechem'], \n",
    "        '024110': ['기업은행', 'ibk'], '138040': ['메리츠금융지주', 'meritz'], \n",
    "        '377300': ['카카오페이', 'kakaopay'], '011070': ['LG이노텍', 'lginnotek'],\n",
    "        '028050': ['삼성엔지니어링', 'ssengineering'], '361610': ['SK아이이테크놀로지', 'skietech'],\n",
    "        '086280': ['현대글로비스', 'glovis'], '302440': ['SK바이오사이언스', 'skbio'],}"
   ]
  },
  {
   "cell_type": "code",
   "execution_count": 9,
   "id": "99a55eee",
   "metadata": {},
   "outputs": [],
   "source": [
    "code_skip = {'010130': ['고려아연', 'koreazinc'],\n",
    "            }\n",
    "\n",
    "code_mid = {'373220' : ['LG에너지솔루션', 'lgenergy'], '207940': ['삼성바이오로직스', 'ssbio'],\n",
    "            '000270': ['기아', 'kia'], '028260': ['삼성물산', 'sscnt'],\n",
    "            '015760': ['한국전력', 'koreaelec'], '034020': ['두산에너빌리티', 'doosanener'],\n",
    "            '051900': ['LG생활건강', 'lglife'], '259960': ['크래프톤', 'crafton'],\n",
    "            '361610': ['SK아이이테크놀로지', 'skietech'], '086280': ['현대글로비스', 'glovis'],\n",
    "            '302440': ['SK바이오사이언스', 'skbio'],\n",
    "            }\n",
    "\n",
    "code_bad = {'051910' : ['LG화학', 'lgchemical'], '033780': ['KT&G', 'ktng'],\n",
    "            '005490': ['POSCO홀딩스', 'poscoholding'], '068270': ['셀트리온', 'celltrion'],\n",
    "            '066570': ['LG전자', 'lgelec'], '096770': ['SK이노베이션', 'skinnovation'],\n",
    "            '030200': ['KT', 'kt'], '003550': ['LG', 'lg'],\n",
    "            '329180': ['현대중공업', 'hhi'], '003490': ['대한항공', 'koreanair'],\n",
    "            '036570': ['엔씨소프트', 'ncsoft'], '009830': ['한화솔루션', 'hanhwasol'],\n",
    "            '090430': ['아모레퍼시픽', 'amore'], '011170': ['롯데케미칼', 'lottechem'],\n",
    "            '138040': ['메리츠금융지주', 'meritz'], '011070': ['LG이노텍', 'lginnotek'],\n",
    "           }\n",
    "\n",
    "code_good = {'005930' : ['삼성전자', 'sec'], '035420' : ['NAVER', 'naver'],\n",
    "             '005380' : ['현대차', 'hyunmotor'], '035720' : ['카카오', 'kakao'],\n",
    "             '000660': ['SK하이닉스', 'skhynix'], '006400': ['삼성SDI', 'sdi'],\n",
    "             '005935': ['삼성전자우', 'secpre'], '105560': ['KB금융', 'kbbank'],\n",
    "             '012330': ['현대모비스', 'mobis'], '055550': ['신한지주', 'shgroup'],\n",
    "             '003670' : ['포스코퓨처엠', 'poscochemical'], '034730': ['SK', 'sk'], \n",
    "             '032830': ['삼성생명', 'sslife'], '086790': ['하나금융지주', 'hana'],\n",
    "             '009150': ['삼성전기', 'sselec'], '017670': ['SK텔레콤', 'sktelecom'],\n",
    "             '011200': ['HMM', 'hmm'], '000810': ['삼성화재', 'ssfire'], \n",
    "             '010950': ['S-Oil', 'soil'], '018260': ['삼성에스디에스', 'sds'],\n",
    "             '316140': ['우리금융지주', 'woorifg'], '024110': ['기업은행', 'ibk'], \n",
    "             '377300': ['카카오페이', 'kakaopay'], '028050': ['삼성엔지니어링', 'ssengineering'],\n",
    "            }"
   ]
  },
  {
   "cell_type": "code",
   "execution_count": 10,
   "id": "18ef6270",
   "metadata": {},
   "outputs": [],
   "source": [
    "def add_dict(*dicts):\n",
    "    dsum = {}\n",
    "    d_k = []\n",
    "    d_v = []\n",
    "    for dic in dicts:\n",
    "        d_k.extend(list(dic.keys()))  # sum keys list\n",
    "        d_v.extend(list(dic.values()))  # sum values list\n",
    "    for i in range(len(d_k)):\n",
    "        dsum[d_k[i]] = d_v[i]\n",
    "    return dsum"
   ]
  },
  {
   "cell_type": "code",
   "execution_count": 11,
   "id": "75320bb6",
   "metadata": {},
   "outputs": [],
   "source": [
    "dict_add = add_dict(code_mid, code_bad, code_good, code_skip)\n",
    "def find_next_com(code_all, dict_add):\n",
    "    dr = {}\n",
    "    for key, value in code_all.items():\n",
    "        if key in dict_add:\n",
    "            continue\n",
    "        else:\n",
    "            dr[key] = value\n",
    "            return dr\n",
    "    return False"
   ]
  },
  {
   "cell_type": "code",
   "execution_count": 12,
   "id": "b3e22468",
   "metadata": {},
   "outputs": [
    {
     "name": "stdout",
     "output_type": "stream",
     "text": [
      "전체 52 - 분석 51 = 1 남음.\n"
     ]
    }
   ],
   "source": [
    "print(f\"전체 {len(code_all)} - 분석 {len(dict_add)} = {len(code_all)-len(dict_add)} 남음.\")"
   ]
  },
  {
   "cell_type": "code",
   "execution_count": 13,
   "id": "1ae98504",
   "metadata": {},
   "outputs": [
    {
     "data": {
      "text/plain": [
       "{'302440': ['SK바이오사이언스', 'skbio']}"
      ]
     },
     "execution_count": 13,
     "metadata": {},
     "output_type": "execute_result"
    }
   ],
   "source": [
    "next_com = find_next_com(code_all, dict_add)\n",
    "next_com"
   ]
  },
  {
   "cell_type": "code",
   "execution_count": 17,
   "id": "0c8fdca7",
   "metadata": {},
   "outputs": [],
   "source": [
    "code_4 = {'005930': ['삼성전자', 'sec'], '005380': ['현대차', 'hyunmotor'],\n",
    "                 '035420': ['NAVER', 'naver'], '033780': ['KT&G', 'ktng']}"
   ]
  },
  {
   "cell_type": "code",
   "execution_count": 18,
   "id": "1a958bbe",
   "metadata": {},
   "outputs": [],
   "source": [
    "common_files = [ \"dji.pkl\", \"dji_future.pkl\", \"dxy_future.pkl\", \n",
    "               \"ixic_future.pkl\", \"kor_10yr_bond.pkl\",\n",
    "              \"kor_2yr_bond.pkl\", \"kosdaq.pkl\", \"kospi.pkl\", \"krw_rate.pkl\", \"nas.pkl\",\n",
    "              \"snp_future.pkl\", \"sox.pkl\", \"spx.pkl\", \"us_10yr_bond.pkl\", \"us_2yr_bond.pkl\",\n",
    "              \"us_3mon_bond.pkl\", \"vix.pkl\", \"wti_future.pkl\",\n",
    "              'spsy.pkl', 'spny.pkl', 'spxhc.pkl', 'splrcd.pkl', 'splrci.pkl', 'splrcu.pkl', 'splrcs.pkl', \n",
    "              'splrct.pkl', 'splrcl.pkl', 'splrcm.pkl', 'ixbk.pkl', 'ixfn.pkl', 'ixid.pkl', 'ixis.pkl', \n",
    "              'ixk.pkl', 'ixtr.pkl', 'ixut.pkl', 'nbi.pkl', 'bkx.pkl' \n",
    "             ]\n",
    "common_files_usa = [ \"dji.pkl\", \"dji_future.pkl\", \"dxy_future.pkl\", \n",
    "                  \"ixic_future.pkl\", \"nas.pkl\", \"snp_future.pkl\", \"sox.pkl\", \"spx.pkl\", \n",
    "                  \"us_10yr_bond.pkl\", \"us_2yr_bond.pkl\", \"us_3mon_bond.pkl\", \"vix.pkl\", \"wti_future.pkl\",\n",
    "                  'spsy.pkl', 'spny.pkl', 'spxhc.pkl', 'splrcd.pkl', 'splrci.pkl', 'splrcu.pkl', 'splrcs.pkl', \n",
    "                  'splrct.pkl', 'splrcl.pkl', 'splrcm.pkl', 'ixbk.pkl', 'ixfn.pkl', 'ixid.pkl', 'ixis.pkl', \n",
    "                  'ixk.pkl', 'ixtr.pkl', 'ixut.pkl', 'nbi.pkl', 'bkx.pkl' \n",
    "             ]\n",
    "common_files_kor = [ \"kor_10yr_bond.pkl\", \"kor_2yr_bond.pkl\", \"kosdaq.pkl\", \"kospi.pkl\", \"krw_rate.pkl\", \n",
    "             ]"
   ]
  },
  {
   "cell_type": "code",
   "execution_count": null,
   "id": "73145af0",
   "metadata": {},
   "outputs": [],
   "source": [
    "common_files_column_name = {'dji.pkl': 'dji', 'dji_future.pkl': 'dji_f', 'dxy_future.pkl': 'dxy', \n",
    "                   'ixic_future.pkl': 'ixic_f', 'kor_10yr_bond.pkl': 'bond_kor_10',\n",
    "                   'kor_2yr_bond.pkl': 'bond_kor_2', 'kosdaq.pkl': 'kosdaq', 'kospi.pkl': 'kospi',\n",
    "                   'krw_rate.pkl': 'krw', 'nas.pkl': 'ixic', 'snp_future.pkl': 'spx_f',\n",
    "                   'sox.pkl': 'sox', 'spx.pkl': 'spx', 'us_10yr_bond.pkl': 'bond_usa_10',\n",
    "                   'us_2yr_bond.pkl': 'bond_usa_2', 'us_3mon_bond.pkl': 'bond_usa_3m',\n",
    "                   'vix.pkl': 'vix', 'wti_future.pkl': 'wti',\n",
    "                   'spsy.pkl': 'spsy', 'spny.pkl': 'spny', 'spxhc.pkl': 'spxhc', 'splrcd.pkl': 'splrcd', \n",
    "                   'splrci.pkl': 'splrci', 'splrcu.pkl': 'splrcu', 'splrcs.pkl': 'splrcs', \n",
    "                   'splrct.pkl': 'splrct', 'splrcl.pkl': 'splrcl', 'splrcm.pkl': 'splrcm', \n",
    "                   'ixbk.pkl': 'ixbk', 'ixfn.pkl': 'ixfn', 'ixid.pkl': 'ixid', 'ixis.pkl': 'ixis', \n",
    "                   'ixk.pkl': 'ixk', 'ixtr.pkl': 'ixtr', 'ixut.pkl': 'ixut', 'nbi.pkl': 'nbi', 'bkx.pkl': 'bkx'\n",
    "                   }"
   ]
  },
  {
   "cell_type": "code",
   "execution_count": null,
   "id": "a96bf1df",
   "metadata": {},
   "outputs": [],
   "source": [
    "columns_investor_p1 = ['retail_1', 'foreigner_1', 'institution_1', 'financial_1', 'invtrust_1', 'pension_1', \n",
    "#             'privequity_1', 'bank_1', 'insurance_1', 'financeetc_1', 'corporateetc_1', \n",
    "            'privequity_1',  'insurance_1', 'corporateetc_1', # bank_1, 'financeetc_1 제외\n",
    "            'foreigneretc_1']\n",
    "columns_investor_p2 = ['retail_2', 'foreigner_2', 'institution_2', 'financial_2', 'invtrust_2', 'pension_2',\n",
    "#             'privequity_2', 'bank_2', 'insurance_2', 'financeetc_2', 'corporateetc_2', \n",
    "            'privequity_2', 'insurance_2', 'corporateetc_2', # bank_2, 'financeetc_2 제외\n",
    "            'foreigneretc_2']\n",
    "columns_historical_p1 = ['open_1', 'high_1', 'low_1', 'close_1', 'vol_1']\n",
    "columns_historical_p2 = ['open_2', 'high_2', 'low_2', 'close_2', 'vol_2']\n",
    "columns_change_ratio = ['weekday', 'cr_00', 'cr_05', 'cr_10', 'cr_15', 'cr_20']\n",
    "columns_common_p1 = [\"dji_cr\", \"dji_f_cr\", \"dxy_cr\", \"ixic_f_cr\", \"bond_kor_10_cr\", \"bond_kor_2_cr\", \"kosdaq_cr\", \"kospi_cr\", \n",
    "         \"krw_cr\", \"ixic_cr\", \"spx_f_cr\", \"sox_cr\", \"spx_cr\", \"bond_usa_10_cr\", \"bond_usa_2_cr\", \"bond_usa_3m_cr\", \n",
    "         \"vix_cr\", \"wti_cr\", \"spsy_cr\", \"spny_cr\", \"spxhc_cr\", \"splrcd_cr\", \"splrci_cr\", \"splrcu_cr\", \"splrcs_cr\",\n",
    "         \"splrct_cr\", \"splrcl_cr\", \"splrcm_cr\", \"ixbk_cr\", \"ixfn_cr\", \"ixid_cr\", \"ixis_cr\", \"ixk_cr\", \"ixtr_cr\",\n",
    "         \"ixut_cr\", \"nbi_cr\", \"bkx_cr\"]\n",
    "columns_common_p2 = [\"dji_cr_2\", \"dji_f_cr_2\", \"dxy_cr_2\", \"ixic_f_cr_2\", \"bond_kor_10_cr_2\", \"bond_kor_2_cr_2\", \"kosdaq_cr_2\", \"kospi_cr_2\",\n",
    "         \"krw_cr_2\", \"ixic_cr_2\", \"spx_f_cr_2\", \"sox_cr_2\", \"spx_cr_2\", \"bond_usa_10_cr_2\", \"bond_usa_2_cr_2\", \"bond_usa_3m_cr_2\",\n",
    "         \"vix_cr_2\", \"wti_cr_2\", \"spsy_cr_2\", \"spny_cr_2\", \"spxhc_cr_2\", \"splrcd_cr_2\", \"splrci_cr_2\", \"splrcu_cr_2\",\n",
    "         \"splrcs_cr_2\", \"splrct_cr_2\", \"splrcl_cr_2\", \"splrcm_cr_2\", \"ixbk_cr_2\", \"ixfn_cr_2\", \"ixid_cr_2\",\n",
    "         \"ixis_cr_2\", \"ixk_cr_2\", \"ixtr_cr_2\", \"ixut_cr_2\", \"nbi_cr_2\", \"bkx_cr_2\"]\n",
    "columns_futures_p1 = ['ixic_f_cr',   'spx_f_cr',   'dji_f_cr',\n",
    "                      'wti_cr',   'dxy_cr',  'bond_usa_10_cr' ]  # 선물이 끝나는 시간이 명확하지 않아 제외 -1일 비교\n",
    "columns_futures_p2 = ['ixic_f_cr_2', 'spx_f_cr_2', 'dji_f_cr_2',\n",
    "                      'wti_cr_2', 'dxy_cr_2','bond_usa_10_cr_2' ] # 선물이 끝나는 시간이 명확하지 않아 제외 -2일 비교\n",
    "columns_except = ['bank_1', 'financeetc_1', 'bank_2', 'financeetc_2'] # 자료가 많이 빠져 있어서 제외"
   ]
  },
  {
   "cell_type": "code",
   "execution_count": null,
   "id": "ec18c9c1",
   "metadata": {},
   "outputs": [],
   "source": [
    "col_inv1 = ['retail_1', 'foreigner_1', 'institution_1', 'financial_1', 'invtrust_1', 'pension_1', 'privequity_1', \n",
    "            'bank_1', 'insurance_1', 'financeetc_1', 'corporateetc_1', 'foreigneretc_1']\n",
    "\n",
    "col_inv2 = ['retail_2', 'foreigner_2', 'institution_2', 'financial_2', 'invtrust_2', 'pension_2',\n",
    "            'privequity_2', 'bank_2', 'insurance_2', 'financeetc_2', 'corporateetc_2', 'foreigneretc_2']\n",
    "col_his1 = ['open_1', 'high_1', 'low_1', 'close_1', 'vol_1']\n",
    "col_his2 = ['open_2', 'high_2', 'low_2', 'close_2', 'vol_2']\n",
    "col_cr = ['weekday', 'cr_00', 'cr_05', 'cr_10', 'cr_15', 'cr_20']\n",
    "col_common1 = [\"dji_cr\", \"dji_f_cr\", \"dxy_cr\", \"ixic_f_cr\", \"bond_kor_10_cr\", \"bond_kor_2_cr\", \"kosdaq_cr\", \"kospi_cr\", \n",
    "         \"krw_cr\", \"ixic_cr\", \"spx_f_cr\", \"sox_cr\", \"spx_cr\", \"bond_usa_10_cr\", \"bond_usa_2_cr\", \"bond_usa_3m_cr\", \n",
    "         \"vix_cr\", \"wti_cr\", \"spsy_cr\", \"spny_cr\", \"spxhc_cr\", \"splrcd_cr\", \"splrci_cr\", \"splrcu_cr\", \"splrcs_cr\",\n",
    "         \"splrct_cr\", \"splrcl_cr\", \"splrcm_cr\", \"ixbk_cr\", \"ixfn_cr\", \"ixid_cr\", \"ixis_cr\", \"ixk_cr\", \"ixtr_cr\",\n",
    "         \"ixut_cr\", \"nbi_cr\", \"bkx_cr\"]\n",
    "col_common2 = [\"dji_cr_2\", \"dji_f_cr_2\", \"dxy_cr_2\", \"ixic_f_cr_2\", \"bond_kor_10_cr_2\", \"bond_kor_2_cr_2\", \"kosdaq_cr_2\", \"kospi_cr_2\",\n",
    "         \"krw_cr_2\", \"ixic_cr_2\", \"spx_f_cr_2\", \"sox_cr_2\", \"spx_cr_2\", \"bond_usa_10_cr_2\", \"bond_usa_2_cr_2\", \"bond_usa_3m_cr_2\",\n",
    "         \"vix_cr_2\", \"wti_cr_2\", \"spsy_cr_2\", \"spny_cr_2\", \"spxhc_cr_2\", \"splrcd_cr_2\", \"splrci_cr_2\", \"splrcu_cr_2\",\n",
    "         \"splrcs_cr_2\", \"splrct_cr_2\", \"splrcl_cr_2\", \"splrcm_cr_2\", \"ixbk_cr_2\", \"ixfn_cr_2\", \"ixid_cr_2\",\n",
    "         \"ixis_cr_2\", \"ixk_cr_2\", \"ixtr_cr_2\", \"ixut_cr_2\", \"nbi_cr_2\", \"bkx_cr_2\"]"
   ]
  },
  {
   "cell_type": "code",
   "execution_count": null,
   "id": "02ba9623",
   "metadata": {},
   "outputs": [],
   "source": [
    "import sys\n",
    "import os\n",
    "\n",
    "module_path = os.path.abspath(os.path.join('..')) # 상위 폴더로 이동\n",
    "if module_path not in sys.path:\n",
    "    sys.path.append(module_path+\"\\\\folder_name\") #  import하려는 파일이 있는 폴더명\n",
    "\n",
    "# from file_name import file_module   # import하려는 파일명(file_name), import file_module"
   ]
  },
  {
   "cell_type": "code",
   "execution_count": null,
   "id": "5bc05331",
   "metadata": {},
   "outputs": [],
   "source": [
    "sys.path.append(module_path)\n",
    "\n",
    "import filetest2"
   ]
  },
  {
   "cell_type": "code",
   "execution_count": null,
   "id": "99b40bb7",
   "metadata": {},
   "outputs": [],
   "source": [
    "filetest2.a"
   ]
  },
  {
   "cell_type": "code",
   "execution_count": 1,
   "id": "e818752f",
   "metadata": {},
   "outputs": [],
   "source": [
    "import sys\n",
    "import os\n",
    "\n",
    "module_path = os.path.abspath(os.path.join('..')) # 상위 폴더로 이동\n",
    "if module_path not in sys.path:\n",
    "    sys.path.append(module_path+\"\\\\stock_market_holydays\") #  import하려는 파일이 있는 폴더명"
   ]
  },
  {
   "cell_type": "code",
   "execution_count": 2,
   "id": "6970068d",
   "metadata": {},
   "outputs": [],
   "source": [
    "import filetest3"
   ]
  },
  {
   "cell_type": "code",
   "execution_count": 3,
   "id": "03d165ba",
   "metadata": {},
   "outputs": [
    {
     "data": {
      "text/plain": [
       "[100, 200]"
      ]
     },
     "execution_count": 3,
     "metadata": {},
     "output_type": "execute_result"
    }
   ],
   "source": [
    "filetest3.a"
   ]
  },
  {
   "cell_type": "code",
   "execution_count": null,
   "id": "2b9e2e2b",
   "metadata": {},
   "outputs": [],
   "source": []
  }
 ],
 "metadata": {
  "kernelspec": {
   "display_name": "Python 3 (ipykernel)",
   "language": "python",
   "name": "python3"
  },
  "language_info": {
   "codemirror_mode": {
    "name": "ipython",
    "version": 3
   },
   "file_extension": ".py",
   "mimetype": "text/x-python",
   "name": "python",
   "nbconvert_exporter": "python",
   "pygments_lexer": "ipython3",
   "version": "3.9.1"
  }
 },
 "nbformat": 4,
 "nbformat_minor": 5
}
