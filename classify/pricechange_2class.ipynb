{
 "cells": [
  {
   "cell_type": "markdown",
   "id": "f051084f",
   "metadata": {},
   "source": [
    "### class 분류\n",
    "#### 하루 주가 변동 분류\n",
    "  - 0: no fluctuation, 1: 오전 high 오후 low, 2: 오전 low,  오후 high"
   ]
  },
  {
   "cell_type": "code",
   "execution_count": 1,
   "id": "b930a6de",
   "metadata": {},
   "outputs": [],
   "source": [
    "import datetime, time\n",
    "from datetime import date\n",
    "\n",
    "import pandas as pd\n",
    "import numpy as np"
   ]
  },
  {
   "cell_type": "code",
   "execution_count": null,
   "id": "a1f53561",
   "metadata": {},
   "outputs": [],
   "source": [
    "code = {'005930': ['삼성전자', 'sec'], '005380': ['현대차', 'hyunmotor'],\n",
    "                 '035420': ['NAVER', 'naver'], '033780': ['KT&G', 'ktng']}\n",
    "# code = {'005930': ['삼성전자', 'sec']}"
   ]
  },
  {
   "cell_type": "code",
   "execution_count": null,
   "id": "43cd31bd",
   "metadata": {},
   "outputs": [],
   "source": [
    "columns = ['date', 'time', 'price', 'change', 'change(%)', 'amount', 'volume']"
   ]
  },
  {
   "cell_type": "code",
   "execution_count": 2,
   "id": "06b7ae46",
   "metadata": {},
   "outputs": [],
   "source": [
    "pkl_directory = '../data/company_daily_price_pkl'\n",
    "start_date = '2022-06-20'"
   ]
  },
  {
   "cell_type": "code",
   "execution_count": null,
   "id": "e7734db7",
   "metadata": {},
   "outputs": [],
   "source": [
    "end_date = datetime.date.today() - datetime.timedelta(days = 1) # 오늘날짜 하루전까지\n",
    "start_date = '20220620'\n",
    "date_range_ts = pd.date_range(start=start_date, end=end_date)"
   ]
  },
  {
   "cell_type": "code",
   "execution_count": null,
   "id": "08a12f00",
   "metadata": {},
   "outputs": [],
   "source": [
    "def read_pickle(com_name, date_range_ts):\n",
    "    for f_date in date_range_ts :\n",
    "        f_name = '{}/{}_10min_price_{}.pkl'.format(pkl_directory, com_name, f_date.strftime('%Y%m%d'))\n",
    "        try : \n",
    "            df = pd.read_pickle(f_name)\n",
    "        except :\n",
    "            continue\n",
    "        print(df.head())"
   ]
  },
  {
   "cell_type": "code",
   "execution_count": 15,
   "id": "aa24eb83",
   "metadata": {},
   "outputs": [],
   "source": [
    "f_name = '{}/{}_10min_price_{}.pkl'.format(pkl_directory, 'sec', '20230207')\n",
    "df = pd.read_pickle(f_name)"
   ]
  },
  {
   "cell_type": "code",
   "execution_count": 16,
   "id": "09d07192",
   "metadata": {},
   "outputs": [
    {
     "name": "stdout",
     "output_type": "stream",
     "text": [
      "오전에 max, 오후에 min\n"
     ]
    }
   ],
   "source": [
    "df_new = df[(df['time'].astype(str) >= '09:30:00') & (df['time'].astype(str) < '15:30:00')]\n",
    "#  9시 30분(미포함) 이전 제외, 오후 3시 30분(포함) 이후 제외 후 최고가 시간, 최저가 시간 비교\n",
    "time_max = df_new[df_new['price'] == df_new['price'].max()]['time'].iloc[0]\n",
    "time_min = df_new[df_new['price'] == df_new['price'].min()]['time'].iloc[0]\n",
    "time_criteria = '13:00:00'\n",
    "if (time_max <= time_criteria) & (time_min <= time_criteria) :\n",
    "    print(\"오전에 min, max 둘다\")\n",
    "elif (time_max <= time_criteria) & (time_min > time_criteria):\n",
    "    print(\"오전에 max, 오후에 min\") \n",
    "elif (time_max > time_criteria) & (time_min <= time_criteria):\n",
    "    print(\"오전에 min, 오후에 max\")\n",
    "elif (time_max > time_criteria) & (time_min > time_criteria):\n",
    "    print(\"오후에 min, max 둘다\")  "
   ]
  },
  {
   "cell_type": "code",
   "execution_count": null,
   "id": "8d6794d7",
   "metadata": {},
   "outputs": [],
   "source": [
    "type(time_min)"
   ]
  },
  {
   "cell_type": "code",
   "execution_count": null,
   "id": "e6b8cf9d",
   "metadata": {},
   "outputs": [],
   "source": [
    "time = '15:50:00'\n",
    "d_time = datetime.datetime.strptime(time,\"%H:%M:%S\")"
   ]
  },
  {
   "cell_type": "code",
   "execution_count": null,
   "id": "70310844",
   "metadata": {},
   "outputs": [],
   "source": [
    "def classify_into_3(df):\n",
    "    df_new = df[(df['time'].astype(str) >= '09:30:00') | (df['time'].astype(str) < '15:30:00')]\n",
    "#  9시 30분(미포함) 이전 제외, 오후 3시 30분(포함) 이후 제외 후 최고가 시간, 최저가 시간 비교\n",
    "    df_new['time'] == df_new['price'].max\n"
   ]
  },
  {
   "cell_type": "code",
   "execution_count": null,
   "id": "3c66244c",
   "metadata": {},
   "outputs": [],
   "source": [
    "for key, val in code.items():\n",
    "    read_pickle(val[1], date_range_ts)\n",
    "#     print(f_name)\n",
    "#     df_o = pd.read_pickle(f_name)\n",
    "#     print(df_o.head(1), df_o.tail(1))\n",
    "#     start_date = df_o['date'].iloc[len(df_o)-1]\n",
    "#     end_date = datetime.date.today()\n",
    "#     get_data_company(com_name, start_date, end_date)\n",
    "#     df_get = get_data(start_date, end_date)\n",
    "#     df_out = non_empty_index_df(df_get, start_date, end_date)\n",
    "# #   NaN to null string. cause NaN does not replace original values in the original datafram    \n",
    "#     df_o = concat_df(df_o, df_out) # append df to original df\n",
    "#     df_o.replace(np.nan, '', inplace=True)\n",
    "#     df_o.to_pickle(pkl_directory+pkl_name)"
   ]
  },
  {
   "cell_type": "code",
   "execution_count": null,
   "id": "3bf8f6b7",
   "metadata": {},
   "outputs": [],
   "source": []
  }
 ],
 "metadata": {
  "kernelspec": {
   "display_name": "Python 3",
   "language": "python",
   "name": "python3"
  },
  "language_info": {
   "codemirror_mode": {
    "name": "ipython",
    "version": 3
   },
   "file_extension": ".py",
   "mimetype": "text/x-python",
   "name": "python",
   "nbconvert_exporter": "python",
   "pygments_lexer": "ipython3",
   "version": "3.9.1"
  }
 },
 "nbformat": 4,
 "nbformat_minor": 5
}
