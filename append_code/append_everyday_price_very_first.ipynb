{
 "cells": [
  {
   "cell_type": "code",
   "execution_count": null,
   "id": "8a337fce",
   "metadata": {},
   "outputs": [],
   "source": [
    "import pandas as pd\n",
    "import numpy as np\n",
    "\n",
    "import datetime\n",
    "from datetime import date\n",
    "\n",
    "import os\n",
    "import shutil"
   ]
  },
  {
   "cell_type": "code",
   "execution_count": null,
   "id": "5d318c3f",
   "metadata": {},
   "outputs": [],
   "source": [
    "company_name = 'hyunmotor'"
   ]
  },
  {
   "cell_type": "code",
   "execution_count": null,
   "id": "af81fb48",
   "metadata": {},
   "outputs": [],
   "source": [
    "# 삼성전자 005930, 현대차 005380, 네이버 035420, KT&G 033780, \n",
    "company_code = {'sec': '005930', 'hyunmotor': '005380', 'naver': '035420', 'ktng': '033780'}"
   ]
  },
  {
   "cell_type": "code",
   "execution_count": null,
   "id": "ef01f0e5",
   "metadata": {},
   "outputs": [],
   "source": [
    "df_company = pd.read_csv('data/{}{}{}'.format('data_', company_name, '.csv'))\n",
    "df_company['date'] = df_company['date'].apply(lambda x : datetime.datetime.strptime(x, \"%Y-%m-%d\"))\n",
    "df_company.set_index('date', inplace=True)"
   ]
  },
  {
   "cell_type": "code",
   "execution_count": null,
   "id": "a382435e",
   "metadata": {},
   "outputs": [],
   "source": [
    "df_company.head()"
   ]
  },
  {
   "cell_type": "code",
   "execution_count": null,
   "id": "9c729608",
   "metadata": {},
   "outputs": [],
   "source": [
    "dir_name = 'data/stocks/daily/'"
   ]
  },
  {
   "cell_type": "code",
   "execution_count": null,
   "id": "1b3a22d0",
   "metadata": {},
   "outputs": [],
   "source": [
    "column_name = ['date', 'close', 'open', 'high', 'low', 'vol', 'close_cr']\n",
    "# column_name = ['일자', '종가', '시가', '고가', '저가', '거래량', '변동율']"
   ]
  },
  {
   "cell_type": "code",
   "execution_count": null,
   "id": "7550b282",
   "metadata": {},
   "outputs": [],
   "source": [
    "df = pd.read_csv('{}{}'.format(dir_name, '005930_sec_20220629.csv'))\n",
    "df.columns = column_name\n",
    "df['date'] = df['date'].apply(lambda x : datetime.datetime.strptime(x, \"%d-%b-%y\"))\n",
    "df.set_index('date', inplace=True)"
   ]
  },
  {
   "cell_type": "code",
   "execution_count": null,
   "id": "3b295d03",
   "metadata": {},
   "outputs": [],
   "source": [
    "df.tail()"
   ]
  },
  {
   "cell_type": "code",
   "execution_count": null,
   "id": "ad5644cb",
   "metadata": {},
   "outputs": [],
   "source": [
    "df_company.update(df)"
   ]
  },
  {
   "cell_type": "code",
   "execution_count": null,
   "id": "9e7aa068",
   "metadata": {},
   "outputs": [],
   "source": [
    "df_company.reset_index(inplace=True)\n",
    "df_company.to_csv('data/{}{}{}'.format('data_', company_name, '.csv'), index=False)"
   ]
  },
  {
   "cell_type": "code",
   "execution_count": null,
   "id": "06a20a63",
   "metadata": {},
   "outputs": [],
   "source": [
    "file_list"
   ]
  },
  {
   "cell_type": "markdown",
   "id": "03f1dca3",
   "metadata": {},
   "source": [
    "####  추가자료 update"
   ]
  },
  {
   "cell_type": "code",
   "execution_count": null,
   "id": "ad64147f",
   "metadata": {},
   "outputs": [],
   "source": [
    "file_list = os.listdir('data/stocks/daily')"
   ]
  },
  {
   "cell_type": "code",
   "execution_count": null,
   "id": "d6c0e757",
   "metadata": {},
   "outputs": [],
   "source": [
    "# 삼성전자 005930, 현대차 005380, 네이버 035420, KT&G 033780, \n",
    "company_code = {'sec': '005930', 'hyunmotor': '005380', 'naver': '035420', 'ktng': '033780'}"
   ]
  },
  {
   "cell_type": "code",
   "execution_count": null,
   "id": "da2cc8f6",
   "metadata": {},
   "outputs": [],
   "source": [
    "file_list"
   ]
  },
  {
   "cell_type": "code",
   "execution_count": null,
   "id": "c6c747bd",
   "metadata": {},
   "outputs": [],
   "source": [
    "val = file_list[0][:6]\n",
    "for key, value in company_code.items():\n",
    "    if val == value:\n",
    "        print(key)"
   ]
  },
  {
   "cell_type": "code",
   "execution_count": null,
   "id": "b11d6485",
   "metadata": {},
   "outputs": [],
   "source": [
    "file_list[0]"
   ]
  },
  {
   "cell_type": "code",
   "execution_count": null,
   "id": "ef0ed83b",
   "metadata": {},
   "outputs": [],
   "source": [
    "dir_name = 'data/stocks/daily/'"
   ]
  },
  {
   "cell_type": "code",
   "execution_count": null,
   "id": "a66a2143",
   "metadata": {},
   "outputs": [],
   "source": [
    "def get_key(val):\n",
    "    for key, value in company_code.items():\n",
    "         if val == value:\n",
    "             return key\n",
    " \n",
    "#     return \"key doesn't exist\""
   ]
  },
  {
   "cell_type": "code",
   "execution_count": null,
   "id": "46dd65e6",
   "metadata": {},
   "outputs": [],
   "source": [
    "dir_name = 'data/stocks/daily/'\n",
    "column_name = ['date', 'close', 'open', 'high', 'low', 'vol', 'close_cr']\n",
    "\n",
    "for file in file_list:\n",
    "    code = file[:6]\n",
    "    date = file[-12:-4]\n",
    "    print(\"**\", code, date, \"*****\")\n",
    "    company_name = get_key(code)\n",
    "    print(\"COMPNAUY\", company_name)\n",
    "    if not company_name : continue\n",
    "\n",
    "    df_company = pd.read_csv('data/{}{}{}'.format('data_', company_name, '.csv'))\n",
    "    df_company['date'] = df_company['date'].apply(lambda x : datetime.datetime.strptime(x, \"%Y-%m-%d\"))\n",
    "    df_company.set_index('date', inplace=True)\n",
    "    print(\"****\", company_name)\n",
    "    \n",
    "    df = pd.read_csv('{}{}_{}_{}.csv'.format(dir_name, code, company_name, date))\n",
    "    print(file)\n",
    "    df.columns = column_name\n",
    "    df['date'] = df['date'].apply(lambda x : datetime.datetime.strptime(x, \"%d-%b-%y\"))\n",
    "    df.set_index('date', inplace=True)\n",
    "    \n",
    "    df_company.update(df)\n",
    "    df_company.reset_index(inplace=True)\n",
    "    df_company.to_csv('data/{}{}{}'.format('data_', company_name, '.csv'), index=False)"
   ]
  },
  {
   "cell_type": "code",
   "execution_count": null,
   "id": "8bb308bb",
   "metadata": {},
   "outputs": [],
   "source": [
    "df.head()"
   ]
  },
  {
   "cell_type": "code",
   "execution_count": null,
   "id": "a4c6bd7f",
   "metadata": {},
   "outputs": [],
   "source": [
    "for file in file_list:\n",
    "    shutil.move(dir_name+file, dir_name+'data_used/'+file)"
   ]
  },
  {
   "cell_type": "code",
   "execution_count": null,
   "id": "0d54889e",
   "metadata": {},
   "outputs": [],
   "source": []
  }
 ],
 "metadata": {
  "kernelspec": {
   "display_name": "Python 3",
   "language": "python",
   "name": "python3"
  },
  "language_info": {
   "codemirror_mode": {
    "name": "ipython",
    "version": 3
   },
   "file_extension": ".py",
   "mimetype": "text/x-python",
   "name": "python",
   "nbconvert_exporter": "python",
   "pygments_lexer": "ipython3",
   "version": "3.9.1"
  }
 },
 "nbformat": 4,
 "nbformat_minor": 5
}
