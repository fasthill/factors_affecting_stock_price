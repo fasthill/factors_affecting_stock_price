{
 "cells": [
  {
   "cell_type": "code",
   "execution_count": null,
   "id": "8a337fce",
   "metadata": {},
   "outputs": [],
   "source": [
    "import pandas as pd\n",
    "import numpy as np\n",
    "\n",
    "import datetime\n",
    "from datetime import date\n",
    "\n",
    "import os\n",
    "import shutil"
   ]
  },
  {
   "cell_type": "code",
   "execution_count": null,
   "id": "ef01f0e5",
   "metadata": {},
   "outputs": [],
   "source": [
    "df_org = pd.read_csv('data/{}'.format('data.csv'))\n",
    "df_org['date'] = df_org['date'].apply(lambda x : datetime.datetime.strptime(x, \"%Y-%m-%d\"))\n",
    "df_org.set_index('date', inplace=True)"
   ]
  },
  {
   "cell_type": "code",
   "execution_count": null,
   "id": "transparent-vienna",
   "metadata": {},
   "outputs": [],
   "source": [
    "df_org.head(1)"
   ]
  },
  {
   "cell_type": "code",
   "execution_count": null,
   "id": "regular-journal",
   "metadata": {},
   "outputs": [],
   "source": [
    "# data_indices_major = os.listdir('data/indices_major')"
   ]
  },
  {
   "cell_type": "code",
   "execution_count": null,
   "id": "difficult-attention",
   "metadata": {},
   "outputs": [],
   "source": [
    "# column_eng = ['date', 'price', 'open', 'high', 'low', 'volume', 'change(%)']\n",
    "# column_eng = ['date', 'spx', 'open', 'high', 'low', 'volume', 'spx_cr']\n",
    "# column_kor = ['날짜', '종가', '시가', '고가', '저가', '거래량', '변동(%)']\n",
    "# f_name = ['s&p', 'dji', 'nasdaq', 'kospi', 'kosdaq', 'sox', 'vix' ]"
   ]
  },
  {
   "cell_type": "code",
   "execution_count": null,
   "id": "naval-water",
   "metadata": {},
   "outputs": [],
   "source": [
    "df = pd.read_csv('data/indices_major/{}'.format('aa1_S&P_20220531.csv'))\n",
    "df.columns = ['date', 'spx', 'open', 'high', 'low', 'volume', 'spx_cr']\n",
    "df['date'] = df['date'].apply(lambda x : datetime.datetime.strptime(x, \"%Y년 %m월 %d일\"))\n",
    "# df의 index를 모두 'date'로 설정\n",
    "df_select = df[['date', 'spx', 'spx_cr']]\n",
    "df_select.set_index('date', inplace=True)\n",
    "\n",
    "df_org.update(df_select) # done s&p 500 before 22020531"
   ]
  },
  {
   "cell_type": "code",
   "execution_count": null,
   "id": "deadly-contrary",
   "metadata": {},
   "outputs": [],
   "source": [
    "df = pd.read_csv('data/indices_major/{}'.format('aa2_dji_20220531.csv'))\n",
    "df.columns = ['date', 'dji', 'open', 'high', 'low', 'volume', 'dji_cr']\n",
    "df['date'] = df['date'].apply(lambda x : datetime.datetime.strptime(x, \"%Y년 %m월 %d일\"))\n",
    "# df의 index를 모두 'date'로 설정\n",
    "df_select = df[['date', 'dji', 'dji_cr']]\n",
    "df_select.set_index('date', inplace=True)\n",
    "\n",
    "df_org.update(df_select) # done dji before 22020531"
   ]
  },
  {
   "cell_type": "code",
   "execution_count": null,
   "id": "unable-viking",
   "metadata": {},
   "outputs": [],
   "source": [
    "df = pd.read_csv('data/indices_major/{}'.format('aa3_nasdaq_20220531.csv'))\n",
    "df.columns = ['date', 'ixic', 'open', 'high', 'low', 'volume', 'ixic_cr']\n",
    "df['date'] = df['date'].apply(lambda x : datetime.datetime.strptime(x, \"%Y년 %m월 %d일\"))\n",
    "# df의 index를 모두 'date'로 설정\n",
    "df_select = df[['date', 'ixic', 'ixic_cr']]\n",
    "df_select.set_index('date', inplace=True)\n",
    "\n",
    "df_org.update(df_select) # done nasdaq before 22020531"
   ]
  },
  {
   "cell_type": "code",
   "execution_count": null,
   "id": "parallel-internet",
   "metadata": {},
   "outputs": [],
   "source": [
    "df = pd.read_csv('data/indices_major/{}'.format('aa4_kospi_20220531.csv'))\n",
    "df.columns = ['date', 'kospi', 'open', 'high', 'low', 'volume', 'kospi_cr']\n",
    "df['date'] = df['date'].apply(lambda x : datetime.datetime.strptime(x, \"%Y년 %m월 %d일\"))\n",
    "# df의 index를 모두 'date'로 설정\n",
    "df_select = df[['date', 'kospi', 'kospi_cr']]\n",
    "df_select.set_index('date', inplace=True)\n",
    "\n",
    "df_org.update(df_select) # done kospi before 22020531"
   ]
  },
  {
   "cell_type": "code",
   "execution_count": null,
   "id": "sunrise-basics",
   "metadata": {},
   "outputs": [],
   "source": [
    "df = pd.read_csv('data/indices_major/{}'.format('aa5_kosdaq_20220531.csv'))\n",
    "df.columns = ['date', 'kosdaq', 'open', 'high', 'low', 'volume', 'kosdaq_cr']\n",
    "df['date'] = df['date'].apply(lambda x : datetime.datetime.strptime(x, \"%Y년 %m월 %d일\"))\n",
    "# df의 index를 모두 'date'로 설정\n",
    "df_select = df[['date', 'kosdaq', 'kosdaq_cr']]\n",
    "df_select.set_index('date', inplace=True)\n",
    "\n",
    "df_org.update(df_select) # done kospi before 22020531"
   ]
  },
  {
   "cell_type": "code",
   "execution_count": null,
   "id": "fifty-breathing",
   "metadata": {},
   "outputs": [],
   "source": [
    "df = pd.read_csv('data/indices_major/{}'.format('aa6_sox_20220531.csv'))\n",
    "df.columns = ['date', 'sox', 'open', 'high', 'low', 'volume', 'sox_cr']\n",
    "df['date'] = df['date'].apply(lambda x : datetime.datetime.strptime(x, \"%Y년 %m월 %d일\"))\n",
    "# df의 index를 모두 'date'로 설정\n",
    "df_select = df[['date', 'sox', 'sox_cr']]\n",
    "df_select.set_index('date', inplace=True)\n",
    "\n",
    "df_org.update(df_select) # done sox before 22020531"
   ]
  },
  {
   "cell_type": "code",
   "execution_count": null,
   "id": "official-hospital",
   "metadata": {},
   "outputs": [],
   "source": [
    "df = pd.read_csv('data/indices_major/{}'.format('aa7_VIX-20220623.csv'))\n",
    "df.columns = ['date', 'open', 'high', 'low', 'vix', 'vix_close','volume']\n",
    "df['date'] = df['date'].apply(lambda x : datetime.datetime.strptime(x, \"%Y-%m-%d\"))\n",
    "# df의 index를 모두 'date'로 설정\n",
    "df_select = df[['date', 'vix']]\n",
    "df_select.set_index('date', inplace=True)\n",
    "\n",
    "df_org.update(df_select) # done vix before 22020622"
   ]
  },
  {
   "cell_type": "code",
   "execution_count": null,
   "id": "hybrid-investigation",
   "metadata": {},
   "outputs": [],
   "source": [
    "df = pd.read_csv('data/indices_major/{}'.format('aa8_cpi_index_20220624.csv'))\n",
    "df.columns = ['date', 'time', 'cpi', 'cpi_anticipated', 'cpi_previous', 'none']\n",
    "df['date'] = df['date'].apply(lambda x : datetime.datetime.strptime(x, \"%Y-%m-%d\"))\n",
    "# df의 index를 모두 'date'로 설정\n",
    "df_select = df[['date', 'cpi', 'cpi_anticipated', 'cpi_previous']]\n",
    "df_select.set_index('date', inplace=True)\n",
    "\n",
    "df_org.update(df_select) # done cpi before 22020622"
   ]
  },
  {
   "cell_type": "code",
   "execution_count": null,
   "id": "graduate-bruce",
   "metadata": {
    "scrolled": true
   },
   "outputs": [],
   "source": [
    "df = pd.read_csv('data/indices_major/{}'.format('aa9_fear_greed_2021-2022.csv'))\n",
    "df.columns = ['date', 'n1', 'n2', 'n3', 'f_g_index']\n",
    "df['date'] = df['date'].apply(lambda x : datetime.datetime.strptime(x, \"%Y-%m-%d\"))\n",
    "# df의 index를 모두 'date'로 설정\n",
    "df_select = df[['date', 'f_g_index']]\n",
    "df_select.set_index('date', inplace=True)\n",
    "\n",
    "df_org.update(df_select) # done greed&fear before 22020620"
   ]
  },
  {
   "cell_type": "code",
   "execution_count": null,
   "id": "future-limitation",
   "metadata": {},
   "outputs": [],
   "source": [
    "df = pd.read_csv('data/indices_major/{}'.format('aa9_fear_greed_2021-2022.csv'))\n",
    "df.tail()"
   ]
  },
  {
   "cell_type": "code",
   "execution_count": null,
   "id": "tired-quick",
   "metadata": {},
   "outputs": [],
   "source": [
    "df_org.to_csv('data/data.csv', index=False)"
   ]
  }
 ],
 "metadata": {
  "kernelspec": {
   "display_name": "Python 3 (ipykernel)",
   "language": "python",
   "name": "python3"
  },
  "language_info": {
   "codemirror_mode": {
    "name": "ipython",
    "version": 3
   },
   "file_extension": ".py",
   "mimetype": "text/x-python",
   "name": "python",
   "nbconvert_exporter": "python",
   "pygments_lexer": "ipython3",
   "version": "3.9.1"
  }
 },
 "nbformat": 4,
 "nbformat_minor": 5
}
