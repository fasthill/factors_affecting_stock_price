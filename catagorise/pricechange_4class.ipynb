{
 "cells": [
  {
   "cell_type": "markdown",
   "id": "f051084f",
   "metadata": {},
   "source": [
    "### class 분류\n",
    "#### 하루 주가 변동 분류\n",
    "  - 1: 오전 max 오전 min, 2: 오전 max 오후 min, 3: 오전 min, 오후 max, 4: 오후 man,  오후 min"
   ]
  },
  {
   "cell_type": "code",
   "execution_count": 1,
   "id": "b930a6de",
   "metadata": {},
   "outputs": [],
   "source": [
    "import datetime, time\n",
    "from datetime import date\n",
    "\n",
    "import pandas as pd\n",
    "import numpy as np\n",
    "\n",
    "from sklearn.preprocessing import StandardScaler"
   ]
  },
  {
   "cell_type": "code",
   "execution_count": 2,
   "id": "08a12f00",
   "metadata": {},
   "outputs": [],
   "source": [
    "def read_pickle(com_name, date_range_ts):\n",
    "    class_val = []\n",
    "    for f_date in date_range_ts :\n",
    "        f_name = '{}/{}_10min_price_{}.pkl'.format(pkl_directory, com_name, f_date.strftime('%Y%m%d'))\n",
    "        try : \n",
    "            df = pd.read_pickle(f_name)\n",
    "            print(\"1\", end=' ')\n",
    "            class_num = classify_into_4(df)\n",
    "            print(\"2\", end=' ')\n",
    "            d_c_temp = [f_date.strftime('%Y-%m-%d'), class_num]\n",
    "            print(\"3\", end=' ')\n",
    "            class_val.append(d_c_temp)\n",
    "            print(\"4\")\n",
    "        except :\n",
    "            print(\"except date---\", f_name)\n",
    "            continue\n",
    "    return class_val"
   ]
  },
  {
   "cell_type": "code",
   "execution_count": 3,
   "id": "09d07192",
   "metadata": {},
   "outputs": [],
   "source": [
    "def classify_into_4(df):\n",
    "    df_new = df[(df['time'].astype(str) > '09:00:00') & (df['time'].astype(str) < '15:30:00')]\n",
    "    #  9시 30분(미포함) 이전 제외, 오후 3시 30분(포함) 이후 제외 후 최고가 시간, 최저가 시간 비교\n",
    "#     df_c = df_new['time'].astype(str).copy() #timestampe에서 str로 변환 (크기 비교를 하기 위하여)\n",
    "#     df_new['time'] =  df_c\n",
    "    time_max = str(df_new[df_new['price'] == df_new['price'].max()]['time'].iloc[0]) # str() change datetime.time to string\n",
    "    time_min = str(df_new[df_new['price'] == df_new['price'].min()]['time'].iloc[0])\n",
    "    time_criteria = '12:00:00'\n",
    "    if (time_max <= time_criteria) & (time_min <= time_criteria):\n",
    "        class_num = 1\n",
    "    elif (time_max <= time_criteria) & (time_min >= time_criteria):\n",
    "        class_num = 2\n",
    "    elif (time_max >= time_criteria) & (time_min <= time_criteria):\n",
    "        class_num = 3\n",
    "    elif (time_max >= time_criteria) & (time_min >= time_criteria):\n",
    "        class_num = 4\n",
    "    # : 오전 max 오전 min, 2: 오전 max 오후 min, 3: 오전 min, 오후 max, 4: 오후 man,  오후 min\n",
    "    return class_num"
   ]
  },
  {
   "cell_type": "code",
   "execution_count": 4,
   "id": "a1f53561",
   "metadata": {},
   "outputs": [],
   "source": [
    "code = {'005930': ['삼성전자', 'sec'], '005380': ['현대차', 'hyunmotor'],\n",
    "                 '035420': ['NAVER', 'naver'], '033780': ['KT&G', 'ktng']}\n",
    "# code = {'005930': ['삼성전자', 'sec']}"
   ]
  },
  {
   "cell_type": "code",
   "execution_count": 5,
   "id": "e7734db7",
   "metadata": {},
   "outputs": [],
   "source": [
    "start_date = '20220620'\n",
    "end_date = datetime.date.today() - datetime.timedelta(days = 1) # 오늘날짜 하루전까지\n",
    "date_range_ts = pd.date_range(start=start_date, end=end_date)\n",
    "pkl_directory = '../data/company_daily_price_pkl'"
   ]
  },
  {
   "cell_type": "code",
   "execution_count": null,
   "id": "3c66244c",
   "metadata": {},
   "outputs": [],
   "source": [
    "for key, val in code.items():\n",
    "    class_val = read_pickle(val[1], date_range_ts)\n",
    "    df = pd.DataFrame(class_val)\n",
    "    df.columns = ['date', 'value']\n",
    "    df.to_pickle(val[1]+'.pkl')"
   ]
  },
  {
   "cell_type": "code",
   "execution_count": null,
   "id": "758cf541",
   "metadata": {},
   "outputs": [],
   "source": []
  },
  {
   "cell_type": "code",
   "execution_count": null,
   "id": "2b5fa53a",
   "metadata": {},
   "outputs": [],
   "source": [
    "import matplotlib.pyplot as plt"
   ]
  },
  {
   "cell_type": "code",
   "execution_count": null,
   "id": "69e2da0f",
   "metadata": {},
   "outputs": [],
   "source": [
    "plt.plot(df[0], df[1])"
   ]
  },
  {
   "cell_type": "code",
   "execution_count": null,
   "id": "61c6c5dd",
   "metadata": {
    "scrolled": true
   },
   "outputs": [],
   "source": [
    "df = []\n",
    "for i, (key, val) in enumerate(code.items()):\n",
    "    df.append(pd.read_pickle(val[1]+'.pkl'))"
   ]
  },
  {
   "cell_type": "code",
   "execution_count": null,
   "id": "19c56bd3",
   "metadata": {},
   "outputs": [],
   "source": [
    "df[3]['value'].value_counts()"
   ]
  },
  {
   "cell_type": "code",
   "execution_count": null,
   "id": "e698b607",
   "metadata": {},
   "outputs": [],
   "source": [
    "plt.scatter(df[3]['date'], df[3]['value'])"
   ]
  },
  {
   "cell_type": "code",
   "execution_count": null,
   "id": "9de8516c",
   "metadata": {},
   "outputs": [],
   "source": [
    "df[1].head()"
   ]
  },
  {
   "cell_type": "code",
   "execution_count": null,
   "id": "4e960222",
   "metadata": {},
   "outputs": [],
   "source": [
    "fname = '../data/company_daily_price_pkl/sec_10min_price_20230207.pkl'\n",
    "df = pd.read_pickle(fname)"
   ]
  },
  {
   "cell_type": "code",
   "execution_count": null,
   "id": "2b0b1e43",
   "metadata": {},
   "outputs": [],
   "source": [
    "df.tail()"
   ]
  },
  {
   "cell_type": "code",
   "execution_count": null,
   "id": "0eec243a",
   "metadata": {},
   "outputs": [],
   "source": [
    "def norm(x):\n",
    "    _max = x.max()\n",
    "    _min = x.min()\n",
    "    _denom = _max - _min\n",
    "    return (x - _min) / _denom"
   ]
  },
  {
   "cell_type": "code",
   "execution_count": null,
   "id": "348b3892",
   "metadata": {},
   "outputs": [],
   "source": [
    "pkl_directory = '../data/company_pkl/'\n",
    "for key, val in code.items():\n",
    "    com_name = \"/\".join([key, val[0]])\n",
    "    pkl_name= '{}_historical.pkl'.format(val[1])\n",
    "    globals()['df_{}_{}'.format(val[1], 'historical')] = pd.read_pickle(pkl_directory + pkl_name)\n",
    "    pkl_name= '{}_investors.pkl'.format(val[1])\n",
    "    globals()['df_{}_{}'.format(val[1], 'investors')] = pd.read_pickle(pkl_directory + pkl_name)"
   ]
  },
  {
   "cell_type": "code",
   "execution_count": null,
   "id": "58ad6b42",
   "metadata": {},
   "outputs": [],
   "source": [
    "df_sec_historical['date'] = df_sec_historical['date'] - datetime.timedelta(days = 1)"
   ]
  },
  {
   "cell_type": "code",
   "execution_count": null,
   "id": "b48cbab1",
   "metadata": {},
   "outputs": [],
   "source": [
    "df_sec_historical.tail()"
   ]
  },
  {
   "cell_type": "code",
   "execution_count": null,
   "id": "d4f26fb0",
   "metadata": {},
   "outputs": [],
   "source": [
    "exec('a'+'b' = 10)"
   ]
  },
  {
   "cell_type": "code",
   "execution_count": null,
   "id": "c1748f90",
   "metadata": {},
   "outputs": [],
   "source": [
    "globals()['aa'] = 1"
   ]
  },
  {
   "cell_type": "code",
   "execution_count": null,
   "id": "bdb09c81",
   "metadata": {},
   "outputs": [],
   "source": [
    "aa"
   ]
  },
  {
   "cell_type": "code",
   "execution_count": null,
   "id": "d0d3f4c8",
   "metadata": {},
   "outputs": [],
   "source": []
  },
  {
   "cell_type": "code",
   "execution_count": 9,
   "id": "784bf02a",
   "metadata": {},
   "outputs": [],
   "source": [
    "for key, val in code.items():\n",
    "    globals()['df_{}'.format(val[1])] = pd.read_pickle(val[1]+'.pkl')\n",
    "    globals()['df_{}'.format(val[1])].to_csv(val[1]+'.csv')"
   ]
  },
  {
   "cell_type": "code",
   "execution_count": 8,
   "id": "92aa30b3",
   "metadata": {},
   "outputs": [
    {
     "data": {
      "text/html": [
       "<div>\n",
       "<style scoped>\n",
       "    .dataframe tbody tr th:only-of-type {\n",
       "        vertical-align: middle;\n",
       "    }\n",
       "\n",
       "    .dataframe tbody tr th {\n",
       "        vertical-align: top;\n",
       "    }\n",
       "\n",
       "    .dataframe thead th {\n",
       "        text-align: right;\n",
       "    }\n",
       "</style>\n",
       "<table border=\"1\" class=\"dataframe\">\n",
       "  <thead>\n",
       "    <tr style=\"text-align: right;\">\n",
       "      <th></th>\n",
       "      <th>date</th>\n",
       "      <th>value</th>\n",
       "    </tr>\n",
       "  </thead>\n",
       "  <tbody>\n",
       "    <tr>\n",
       "      <th>154</th>\n",
       "      <td>2023-02-06</td>\n",
       "      <td>2</td>\n",
       "    </tr>\n",
       "    <tr>\n",
       "      <th>155</th>\n",
       "      <td>2023-02-07</td>\n",
       "      <td>2</td>\n",
       "    </tr>\n",
       "    <tr>\n",
       "      <th>156</th>\n",
       "      <td>2023-02-08</td>\n",
       "      <td>3</td>\n",
       "    </tr>\n",
       "    <tr>\n",
       "      <th>157</th>\n",
       "      <td>2023-02-09</td>\n",
       "      <td>3</td>\n",
       "    </tr>\n",
       "    <tr>\n",
       "      <th>158</th>\n",
       "      <td>2023-02-10</td>\n",
       "      <td>1</td>\n",
       "    </tr>\n",
       "  </tbody>\n",
       "</table>\n",
       "</div>"
      ],
      "text/plain": [
       "           date  value\n",
       "154  2023-02-06      2\n",
       "155  2023-02-07      2\n",
       "156  2023-02-08      3\n",
       "157  2023-02-09      3\n",
       "158  2023-02-10      1"
      ]
     },
     "execution_count": 8,
     "metadata": {},
     "output_type": "execute_result"
    }
   ],
   "source": [
    "df_sec.tail()"
   ]
  },
  {
   "cell_type": "code",
   "execution_count": 11,
   "id": "a03b5b79",
   "metadata": {},
   "outputs": [],
   "source": [
    "pkl_directory = '../data/company_pkl/'\n",
    "for key, val in code.items():\n",
    "    com_name = \"/\".join([key, val[0]])\n",
    "    pkl_name= '{}_historical.pkl'.format(val[1])\n",
    "    globals()['df_{}_{}'.format(val[1], 'historical')] = pd.read_pickle(pkl_directory + pkl_name)\n",
    "    globals()['df_{}_{}'.format(val[1], 'historical')].to_csv('{}_historical.csv'.format(val[1]))\n",
    "    pkl_name= '{}_investors.pkl'.format(val[1])\n",
    "    globals()['df_{}_{}'.format(val[1], 'investors')] = pd.read_pickle(pkl_directory + pkl_name)\n",
    "    globals()['df_{}_{}'.format(val[1], 'investors')].to_csv('{}_investors.csv'.format(val[1]))"
   ]
  },
  {
   "cell_type": "code",
   "execution_count": null,
   "id": "97a19326",
   "metadata": {},
   "outputs": [],
   "source": []
  }
 ],
 "metadata": {
  "kernelspec": {
   "display_name": "Python 3",
   "language": "python",
   "name": "python3"
  },
  "language_info": {
   "codemirror_mode": {
    "name": "ipython",
    "version": 3
   },
   "file_extension": ".py",
   "mimetype": "text/x-python",
   "name": "python",
   "nbconvert_exporter": "python",
   "pygments_lexer": "ipython3",
   "version": "3.9.1"
  }
 },
 "nbformat": 4,
 "nbformat_minor": 5
}
