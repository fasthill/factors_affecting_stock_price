{
 "cells": [
  {
   "cell_type": "code",
   "execution_count": 1,
   "id": "b930a6de",
   "metadata": {},
   "outputs": [],
   "source": [
    "import datetime, time\n",
    "from datetime import date\n",
    "\n",
    "import pandas as pd\n",
    "import numpy as np\n",
    "\n",
    "from sklearn.preprocessing import StandardScaler"
   ]
  },
  {
   "cell_type": "code",
   "execution_count": 12,
   "id": "e7734db7",
   "metadata": {},
   "outputs": [],
   "source": [
    "pkl_directory = '../data/company_daily_price_pkl/'\n",
    "# pkl_directory = './'\n",
    "# pkl_directory = '../data/company_pkl/'"
   ]
  },
  {
   "cell_type": "code",
   "execution_count": 13,
   "id": "e3f2ce17",
   "metadata": {},
   "outputs": [],
   "source": [
    "ff = 'hyunmotor_10min_price_20230222.pkl'"
   ]
  },
  {
   "cell_type": "code",
   "execution_count": 14,
   "id": "4da81c8d",
   "metadata": {},
   "outputs": [],
   "source": [
    "df = pd.read_pickle(pkl_directory+ff)"
   ]
  },
  {
   "cell_type": "code",
   "execution_count": 15,
   "id": "08c5e5db",
   "metadata": {},
   "outputs": [
    {
     "data": {
      "text/html": [
       "<div>\n",
       "<style scoped>\n",
       "    .dataframe tbody tr th:only-of-type {\n",
       "        vertical-align: middle;\n",
       "    }\n",
       "\n",
       "    .dataframe tbody tr th {\n",
       "        vertical-align: top;\n",
       "    }\n",
       "\n",
       "    .dataframe thead th {\n",
       "        text-align: right;\n",
       "    }\n",
       "</style>\n",
       "<table border=\"1\" class=\"dataframe\">\n",
       "  <thead>\n",
       "    <tr style=\"text-align: right;\">\n",
       "      <th></th>\n",
       "      <th>date</th>\n",
       "      <th>time</th>\n",
       "      <th>price</th>\n",
       "      <th>change</th>\n",
       "      <th>change(%)</th>\n",
       "      <th>amount</th>\n",
       "      <th>volume</th>\n",
       "    </tr>\n",
       "  </thead>\n",
       "  <tbody>\n",
       "    <tr>\n",
       "      <th>0</th>\n",
       "      <td>2023-02-22</td>\n",
       "      <td>15:30:00</td>\n",
       "      <td>174200</td>\n",
       "      <td>4000</td>\n",
       "      <td>-2.24%</td>\n",
       "      <td>34433</td>\n",
       "      <td>428968</td>\n",
       "    </tr>\n",
       "    <tr>\n",
       "      <th>1</th>\n",
       "      <td>2023-02-22</td>\n",
       "      <td>15:15:00</td>\n",
       "      <td>174400</td>\n",
       "      <td>4000</td>\n",
       "      <td>-2.24%</td>\n",
       "      <td>1103</td>\n",
       "      <td>394498</td>\n",
       "    </tr>\n",
       "    <tr>\n",
       "      <th>2</th>\n",
       "      <td>2023-02-22</td>\n",
       "      <td>15:10:00</td>\n",
       "      <td>174400</td>\n",
       "      <td>4000</td>\n",
       "      <td>-2.24%</td>\n",
       "      <td>576</td>\n",
       "      <td>388420</td>\n",
       "    </tr>\n",
       "    <tr>\n",
       "      <th>3</th>\n",
       "      <td>2023-02-22</td>\n",
       "      <td>15:05:00</td>\n",
       "      <td>174500</td>\n",
       "      <td>4000</td>\n",
       "      <td>-2.24%</td>\n",
       "      <td>1216</td>\n",
       "      <td>384897</td>\n",
       "    </tr>\n",
       "    <tr>\n",
       "      <th>4</th>\n",
       "      <td>2023-02-22</td>\n",
       "      <td>15:00:00</td>\n",
       "      <td>174500</td>\n",
       "      <td>4100</td>\n",
       "      <td>-2.30%</td>\n",
       "      <td>639</td>\n",
       "      <td>380477</td>\n",
       "    </tr>\n",
       "  </tbody>\n",
       "</table>\n",
       "</div>"
      ],
      "text/plain": [
       "        date      time   price  change change(%)  amount  volume\n",
       "0 2023-02-22  15:30:00  174200    4000    -2.24%   34433  428968\n",
       "1 2023-02-22  15:15:00  174400    4000    -2.24%    1103  394498\n",
       "2 2023-02-22  15:10:00  174400    4000    -2.24%     576  388420\n",
       "3 2023-02-22  15:05:00  174500    4000    -2.24%    1216  384897\n",
       "4 2023-02-22  15:00:00  174500    4100    -2.30%     639  380477"
      ]
     },
     "execution_count": 15,
     "metadata": {},
     "output_type": "execute_result"
    }
   ],
   "source": [
    "df.head()"
   ]
  },
  {
   "cell_type": "code",
   "execution_count": 9,
   "id": "f218fc42",
   "metadata": {},
   "outputs": [
    {
     "data": {
      "text/html": [
       "<div>\n",
       "<style scoped>\n",
       "    .dataframe tbody tr th:only-of-type {\n",
       "        vertical-align: middle;\n",
       "    }\n",
       "\n",
       "    .dataframe tbody tr th {\n",
       "        vertical-align: top;\n",
       "    }\n",
       "\n",
       "    .dataframe thead th {\n",
       "        text-align: right;\n",
       "    }\n",
       "</style>\n",
       "<table border=\"1\" class=\"dataframe\">\n",
       "  <thead>\n",
       "    <tr style=\"text-align: right;\">\n",
       "      <th></th>\n",
       "      <th>date</th>\n",
       "      <th>value</th>\n",
       "    </tr>\n",
       "  </thead>\n",
       "  <tbody>\n",
       "    <tr>\n",
       "      <th>159</th>\n",
       "      <td>2023-02-13</td>\n",
       "      <td>1</td>\n",
       "    </tr>\n",
       "    <tr>\n",
       "      <th>160</th>\n",
       "      <td>2023-02-14</td>\n",
       "      <td>2</td>\n",
       "    </tr>\n",
       "    <tr>\n",
       "      <th>161</th>\n",
       "      <td>2023-02-15</td>\n",
       "      <td>2</td>\n",
       "    </tr>\n",
       "    <tr>\n",
       "      <th>162</th>\n",
       "      <td>2023-02-16</td>\n",
       "      <td>3</td>\n",
       "    </tr>\n",
       "    <tr>\n",
       "      <th>163</th>\n",
       "      <td>2023-02-17</td>\n",
       "      <td>2</td>\n",
       "    </tr>\n",
       "  </tbody>\n",
       "</table>\n",
       "</div>"
      ],
      "text/plain": [
       "           date  value\n",
       "159  2023-02-13      1\n",
       "160  2023-02-14      2\n",
       "161  2023-02-15      2\n",
       "162  2023-02-16      3\n",
       "163  2023-02-17      2"
      ]
     },
     "execution_count": 9,
     "metadata": {},
     "output_type": "execute_result"
    }
   ],
   "source": [
    "df.tail()"
   ]
  },
  {
   "cell_type": "code",
   "execution_count": null,
   "id": "8299cc8b",
   "metadata": {},
   "outputs": [],
   "source": []
  }
 ],
 "metadata": {
  "kernelspec": {
   "display_name": "Python 3",
   "language": "python",
   "name": "python3"
  },
  "language_info": {
   "codemirror_mode": {
    "name": "ipython",
    "version": 3
   },
   "file_extension": ".py",
   "mimetype": "text/x-python",
   "name": "python",
   "nbconvert_exporter": "python",
   "pygments_lexer": "ipython3",
   "version": "3.9.1"
  }
 },
 "nbformat": 4,
 "nbformat_minor": 5
}
