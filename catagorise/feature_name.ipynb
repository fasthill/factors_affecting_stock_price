{
 "cells": [
  {
   "cell_type": "markdown",
   "id": "381d2d4b",
   "metadata": {},
   "source": [
    "### feature 이름 설명\n",
    "#### feature에 사용된 column name 설명"
   ]
  },
  {
   "cell_type": "code",
   "execution_count": 1,
   "id": "b930a6de",
   "metadata": {},
   "outputs": [],
   "source": [
    "import datetime, time\n",
    "from datetime import date\n",
    "\n",
    "import pandas as pd\n",
    "import numpy as np\n",
    "\n",
    "from sklearn.preprocessing import StandardScaler"
   ]
  },
  {
   "cell_type": "code",
   "execution_count": 2,
   "id": "1c5bcf80",
   "metadata": {},
   "outputs": [],
   "source": [
    "df_feature_name_abbr = pd.read_csv('../data/feature_name_abbr.csv')"
   ]
  },
  {
   "cell_type": "code",
   "execution_count": 3,
   "id": "69546a5d",
   "metadata": {},
   "outputs": [],
   "source": [
    "standforK = lambda x : df_feature_name_abbr['Korean'][df_feature_name_abbr['abbr'] == x].values[0]\n",
    "standforE = lambda x : df_feature_name_abbr['English'][df_feature_name_abbr['abbr'] == x].values[0]\n",
    "standforexp = lambda x : df_feature_name_abbr['exp1'][df_feature_name_abbr['abbr'] == x].values[0]"
   ]
  },
  {
   "cell_type": "code",
   "execution_count": 4,
   "id": "c0e4198a",
   "metadata": {},
   "outputs": [
    {
     "data": {
      "text/plain": [
       "('미국달러지수 변동률', 'Dollar_index_change_rate', nan)"
      ]
     },
     "execution_count": 4,
     "metadata": {},
     "output_type": "execute_result"
    }
   ],
   "source": [
    "# financial이 무엇인지 알기 위한 명령\n",
    "c_name = 'dxy_cr'\n",
    "standforK(c_name), standforE(c_name), standforexp(c_name)"
   ]
  },
  {
   "cell_type": "code",
   "execution_count": 5,
   "id": "a902ef7c",
   "metadata": {},
   "outputs": [
    {
     "data": {
      "text/plain": [
       "('소비자물가지수', 'Consumer Price Index', nan)"
      ]
     },
     "execution_count": 5,
     "metadata": {},
     "output_type": "execute_result"
    }
   ],
   "source": [
    "c_name = 'cpi'\n",
    "standforK(c_name), standforE(c_name), standforexp(c_name)"
   ]
  },
  {
   "cell_type": "code",
   "execution_count": 6,
   "id": "77adcb72",
   "metadata": {},
   "outputs": [
    {
     "data": {
      "text/plain": [
       "('필라델피아 반도체지수', 'SOX_INDEX', nan)"
      ]
     },
     "execution_count": 6,
     "metadata": {},
     "output_type": "execute_result"
    }
   ],
   "source": [
    "c_name = 'sox'\n",
    "standforK(c_name), standforE(c_name), standforexp(c_name)"
   ]
  },
  {
   "cell_type": "markdown",
   "id": "71ddd182",
   "metadata": {},
   "source": [
    "### 설명에서 feature name 찾기"
   ]
  },
  {
   "cell_type": "code",
   "execution_count": 7,
   "id": "3bb75ea6",
   "metadata": {},
   "outputs": [],
   "source": [
    "find_col_nameK = lambda x : df_feature_name_abbr[['abbr', 'Korean']][df_feature_name_abbr['Korean'].str.contains(x)]\n",
    "find_col_nameE = lambda x : df_feature_name_abbr[['abbr', 'English']][df_feature_name_abbr['English'].str.contains(x, na=False, case=False)]"
   ]
  },
  {
   "cell_type": "code",
   "execution_count": 8,
   "id": "6a9c96a1",
   "metadata": {},
   "outputs": [
    {
     "data": {
      "text/html": [
       "<div>\n",
       "<style scoped>\n",
       "    .dataframe tbody tr th:only-of-type {\n",
       "        vertical-align: middle;\n",
       "    }\n",
       "\n",
       "    .dataframe tbody tr th {\n",
       "        vertical-align: top;\n",
       "    }\n",
       "\n",
       "    .dataframe thead th {\n",
       "        text-align: right;\n",
       "    }\n",
       "</style>\n",
       "<table border=\"1\" class=\"dataframe\">\n",
       "  <thead>\n",
       "    <tr style=\"text-align: right;\">\n",
       "      <th></th>\n",
       "      <th>abbr</th>\n",
       "      <th>English</th>\n",
       "    </tr>\n",
       "  </thead>\n",
       "  <tbody>\n",
       "    <tr>\n",
       "      <th>68</th>\n",
       "      <td>dxy</td>\n",
       "      <td>Dollar_index</td>\n",
       "    </tr>\n",
       "    <tr>\n",
       "      <th>69</th>\n",
       "      <td>dxy_cr</td>\n",
       "      <td>Dollar_index_change_rate</td>\n",
       "    </tr>\n",
       "    <tr>\n",
       "      <th>84</th>\n",
       "      <td>f_g_index</td>\n",
       "      <td>FEAR_GREED_INDEX</td>\n",
       "    </tr>\n",
       "    <tr>\n",
       "      <th>85</th>\n",
       "      <td>sox</td>\n",
       "      <td>SOX_INDEX</td>\n",
       "    </tr>\n",
       "    <tr>\n",
       "      <th>86</th>\n",
       "      <td>sox_cr</td>\n",
       "      <td>SOX_INDEX_change_rate</td>\n",
       "    </tr>\n",
       "    <tr>\n",
       "      <th>87</th>\n",
       "      <td>cpi</td>\n",
       "      <td>Consumer Price Index</td>\n",
       "    </tr>\n",
       "    <tr>\n",
       "      <th>88</th>\n",
       "      <td>cpi_anticipated</td>\n",
       "      <td>anticipated consumer price index</td>\n",
       "    </tr>\n",
       "    <tr>\n",
       "      <th>89</th>\n",
       "      <td>cpi_previous</td>\n",
       "      <td>previous consumer price index</td>\n",
       "    </tr>\n",
       "  </tbody>\n",
       "</table>\n",
       "</div>"
      ],
      "text/plain": [
       "               abbr                           English\n",
       "68              dxy                      Dollar_index\n",
       "69           dxy_cr          Dollar_index_change_rate\n",
       "84        f_g_index                  FEAR_GREED_INDEX\n",
       "85              sox                         SOX_INDEX\n",
       "86           sox_cr             SOX_INDEX_change_rate\n",
       "87              cpi              Consumer Price Index\n",
       "88  cpi_anticipated  anticipated consumer price index\n",
       "89     cpi_previous     previous consumer price index"
      ]
     },
     "execution_count": 8,
     "metadata": {},
     "output_type": "execute_result"
    }
   ],
   "source": [
    "e_word = 'INDEX' # English column에서 찾기\n",
    "find_col_nameE(e_word)"
   ]
  },
  {
   "cell_type": "code",
   "execution_count": 9,
   "id": "f8b27ec9",
   "metadata": {},
   "outputs": [
    {
     "data": {
      "text/html": [
       "<div>\n",
       "<style scoped>\n",
       "    .dataframe tbody tr th:only-of-type {\n",
       "        vertical-align: middle;\n",
       "    }\n",
       "\n",
       "    .dataframe tbody tr th {\n",
       "        vertical-align: top;\n",
       "    }\n",
       "\n",
       "    .dataframe thead th {\n",
       "        text-align: right;\n",
       "    }\n",
       "</style>\n",
       "<table border=\"1\" class=\"dataframe\">\n",
       "  <thead>\n",
       "    <tr style=\"text-align: right;\">\n",
       "      <th></th>\n",
       "      <th>abbr</th>\n",
       "      <th>Korean</th>\n",
       "    </tr>\n",
       "  </thead>\n",
       "  <tbody>\n",
       "    <tr>\n",
       "      <th>85</th>\n",
       "      <td>sox</td>\n",
       "      <td>필라델피아 반도체지수</td>\n",
       "    </tr>\n",
       "    <tr>\n",
       "      <th>86</th>\n",
       "      <td>sox_cr</td>\n",
       "      <td>필라델피아 반도체지수 변동률</td>\n",
       "    </tr>\n",
       "  </tbody>\n",
       "</table>\n",
       "</div>"
      ],
      "text/plain": [
       "      abbr           Korean\n",
       "85     sox      필라델피아 반도체지수\n",
       "86  sox_cr  필라델피아 반도체지수 변동률"
      ]
     },
     "execution_count": 9,
     "metadata": {},
     "output_type": "execute_result"
    }
   ],
   "source": [
    "k_word = '반도체' # Korean column에서 찾기\n",
    "find_col_nameK(k_word)"
   ]
  },
  {
   "cell_type": "code",
   "execution_count": null,
   "id": "08c5e5db",
   "metadata": {},
   "outputs": [],
   "source": []
  },
  {
   "cell_type": "code",
   "execution_count": null,
   "id": "a6f3406c",
   "metadata": {},
   "outputs": [],
   "source": []
  }
 ],
 "metadata": {
  "kernelspec": {
   "display_name": "Python 3 (ipykernel)",
   "language": "python",
   "name": "python3"
  },
  "language_info": {
   "codemirror_mode": {
    "name": "ipython",
    "version": 3
   },
   "file_extension": ".py",
   "mimetype": "text/x-python",
   "name": "python",
   "nbconvert_exporter": "python",
   "pygments_lexer": "ipython3",
   "version": "3.9.1"
  }
 },
 "nbformat": 4,
 "nbformat_minor": 5
}
