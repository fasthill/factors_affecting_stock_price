{
 "cells": [
  {
   "cell_type": "markdown",
   "id": "f051084f",
   "metadata": {},
   "source": [
    "### feature합치기\n",
    "#### investors, historical(매일 거래량 등) and 분류항목 합치기"
   ]
  },
  {
   "cell_type": "code",
   "execution_count": 1,
   "id": "b930a6de",
   "metadata": {},
   "outputs": [],
   "source": [
    "import datetime, time\n",
    "from datetime import date\n",
    "\n",
    "import pandas as pd\n",
    "import numpy as np\n",
    "\n",
    "from sklearn.preprocessing import StandardScaler"
   ]
  },
  {
   "cell_type": "code",
   "execution_count": null,
   "id": "03f7032b",
   "metadata": {},
   "outputs": [],
   "source": [
    "# index column : date\n",
    "def find_previous_date(df_inv, df_his, date_current):\n",
    "    i = 0\n",
    "    date2 = 0\n",
    "    while True:\n",
    "        i += 1\n",
    "        date2 = date_current - datetime.timedelta(days = i)\n",
    "        if (df_inv.loc[date2]['retail'] != 0) & (df_his.loc[date2]['vol'] != '') :  \n",
    "            # investors와 historical 두 개 데이터에 같이 없어야 함\n",
    "            break\n",
    "        if i >= 30:\n",
    "            break\n",
    "    return date2"
   ]
  },
  {
   "cell_type": "code",
   "execution_count": null,
   "id": "cf12fe6a",
   "metadata": {},
   "outputs": [],
   "source": [
    "def find_ratio(df_o, date_current):\n",
    "    df_o_trans = df_o.transpose()\n",
    "    df_o_trans.columns = ['before', 'after']\n",
    "    df_o_trans[date_current] = (df_o_trans['after'] - df_o_trans['before']) / df_o_trans['before']\n",
    "    return df_o_trans.transpose()"
   ]
  },
  {
   "cell_type": "code",
   "execution_count": null,
   "id": "26f6c983",
   "metadata": {},
   "outputs": [],
   "source": [
    "def combine_data(df_o, df_inv, df_his):\n",
    "    investor_rate = pd.DataFrame()\n",
    "    historical_rate = pd.DataFrame()\n",
    "    date_weekday = pd.DataFrame()\n",
    "    for date_current in df_o.index:\n",
    "        date_previous = find_previous_date(df_inv, df_his, date_current)\n",
    "        # 거래 전날 요일 구하기\n",
    "        date_temp = {'date': date_current, 'weekday' : date_previous.weekday()}\n",
    "        df_temp = pd.DataFrame(date_temp, index=[0]).set_index('date')\n",
    "        date_weekday = pd.concat([date_weekday, df_temp], axis=0)\n",
    "        date_previous_1 = find_previous_date(df_inv, df_his, date_previous)\n",
    "        # 거래 전날, 전전날을 확인하고 변화정도 계산하기(find_ratio)\n",
    "        df_inv_comp = df_inv.loc[[date_previous_1, date_previous]]\n",
    "        df_his_comp = df_his.loc[[date_previous_1, date_previous]]\n",
    "        investor_rate = pd.concat([investor_rate, find_ratio(df_inv_comp, date_current).iloc[[-1]]], axis=0)\n",
    "        historical_rate = pd.concat([historical_rate, find_ratio(df_his_comp, date_current).iloc[[-1]]], axis=0)\n",
    "    total = pd.concat([investor_rate, historical_rate, date_weekday, df_o ], axis=1)\n",
    "    return total"
   ]
  },
  {
   "cell_type": "code",
   "execution_count": null,
   "id": "a1f53561",
   "metadata": {},
   "outputs": [],
   "source": [
    "code = {'005930': ['삼성전자', 'sec'], '005380': ['현대차', 'hyunmotor'],\n",
    "                 '035420': ['NAVER', 'naver'], '033780': ['KT&G', 'ktng']}\n",
    "# code = {'005930': ['삼성전자', 'sec']}"
   ]
  },
  {
   "cell_type": "code",
   "execution_count": null,
   "id": "e7734db7",
   "metadata": {},
   "outputs": [],
   "source": [
    "pkl_directory = '../data/company_daily_price_pkl'\n",
    "pkl_directory = './'\n",
    "pkl_directory = '../data/company_pkl/'"
   ]
  },
  {
   "cell_type": "code",
   "execution_count": null,
   "id": "587a0f91",
   "metadata": {},
   "outputs": [],
   "source": [
    "hist_column = [ 'date', 'open', 'high', 'low', 'close', 'close_cr', 'vol']\n",
    "hist_column_m = [ 'date', 'open', 'high', 'low', 'close', 'vol']\n",
    "inv_column = ['date', 'retail', 'foreigner', 'institution', 'financial', 'invtrust', 'pension', 'privequity',\n",
    "              'bank', 'insurance', 'financeetc', 'corporateetc', 'foreigneretc']"
   ]
  },
  {
   "cell_type": "code",
   "execution_count": null,
   "id": "784bf02a",
   "metadata": {
    "scrolled": true
   },
   "outputs": [],
   "source": [
    "# investor.pkl, historical.pkl. 읽기\n",
    "for key, val in code.items():\n",
    "    pkl_name= '{}.pkl'.format(val[1])\n",
    "    globals()['df_{}'.format(val[1])] = pd.read_pickle('./' + pkl_name)\n",
    "    globals()['df_{}'.format(val[1])]['date'] = pd.to_datetime(globals()['df_{}'.format(val[1])]['date']) #change to timestamp\n",
    "    globals()['df_{}'.format(val[1])]['date'] = globals()['df_{}'.format(val[1])]['date'].dt.date  # change to datetime\n",
    "    pkl_name= '{}_historical.pkl'.format(val[1])\n",
    "    globals()['df_{}_{}'.format(val[1], 'historical')] = pd.read_pickle(pkl_directory + pkl_name)\n",
    "    globals()['df_{}_{}'.format(val[1], 'historical')] = globals()['df_{}_{}'.format(val[1], 'historical')][hist_column_m]\n",
    "    # close_cr 행을 없앰(변동이 없는 경우가 빌생하여 divided zero error 발생)\n",
    "    globals()['df_{}_{}'.format(val[1], 'historical')]['date'] = globals()['df_{}_{}'.format(val[1], 'historical')]['date'].dt.date # change to datetime\n",
    "    pkl_name= '{}_investors.pkl'.format(val[1])\n",
    "    globals()['df_{}_{}'.format(val[1], 'investors')] = pd.read_pickle(pkl_directory + pkl_name)\n",
    "    globals()['df_{}_{}'.format(val[1], 'investors')]['date'] = globals()['df_{}_{}'.format(val[1], 'investors')]['date'].dt.date # change to datetime\n",
    "    \n",
    "    # get combined data (eg. df_sec_combined, df_ktng_combined...)\n",
    "    globals()['df_{}_{}'.format(val[1], 'combined')] = combine_data(globals()['df_{}'.format(val[1])].set_index('date'),\n",
    "                            globals()['df_{}_{}'.format(val[1], 'investors')].set_index('date'),\n",
    "                            globals()['df_{}_{}'.format(val[1], 'historical')].set_index('date')\n",
    "                            )"
   ]
  },
  {
   "cell_type": "code",
   "execution_count": null,
   "id": "fdf45e34",
   "metadata": {},
   "outputs": [],
   "source": [
    "column_selected = ['retail', 'foreigner', 'institution', 'financial', 'invtrust', 'pension', 'privequity',\n",
    "              'open', 'high', 'low', 'close',  'vol', 'weekday', 'value']"
   ]
  },
  {
   "cell_type": "code",
   "execution_count": null,
   "id": "8398f15d",
   "metadata": {
    "scrolled": true
   },
   "outputs": [],
   "source": [
    "dd = df_ktng_combined[column_selected] # company, common, df_o data combined.\n",
    "dd"
   ]
  },
  {
   "cell_type": "markdown",
   "id": "b68c165d",
   "metadata": {},
   "source": [
    "## 여기까지 완료"
   ]
  },
  {
   "cell_type": "markdown",
   "id": "1da712d0",
   "metadata": {},
   "source": [
    "## 주요 지표 읽기"
   ]
  },
  {
   "cell_type": "code",
   "execution_count": null,
   "id": "186962af",
   "metadata": {},
   "outputs": [],
   "source": [
    "common_pkl = [\"bok_rate.pkl\", \"cpi.pkl\", \"dji.pkl\", \"dji_future.pkl\", \"dxy_future.pkl\", \n",
    "              \"fear_greed.pkl\", \"fed_rate.pkl\", \"gold.pkl\", \"ixic_future.pkl\", \"kor_10yr_bond.pkl\",\n",
    "              \"kor_2yr_bond.pkl\", \"kosdaq.pkl\", \"kospi.pkl\", \"krw_rate.pkl\", \"nas.pkl\",\n",
    "              \"snp_future.pkl\", \"sox.pkl\", \"spx.pkl\", \"us_10yr_bond.pkl\", \"us_2yr_bond.pkl\",\n",
    "              \"us_3mon_bond.pkl\", \"vix.pkl\", \"wti_future.pkl\"]"
   ]
  },
  {
   "cell_type": "code",
   "execution_count": null,
   "id": "dcdc1543",
   "metadata": {},
   "outputs": [],
   "source": [
    "major_index = [\"dji.pkl\", \"nas.pkl\", \"spx.pkl\", \"kosdaq.pkl\", \"kospi.pkl\", \"sox.pkl\", \"fear_greed.pkl\"]\n",
    "major_future_index = [\"dji_future.pkl\", \"nas_future.pkl\", \"spx.pkl\", \"kosdaq.pkl\", \"kospi.pkl\", \"sox.pkl\", \"fear_greed.pkl\"]"
   ]
  },
  {
   "cell_type": "code",
   "execution_count": null,
   "id": "31a8be3f",
   "metadata": {},
   "outputs": [],
   "source": [
    "common_pkl[0][:-4]"
   ]
  },
  {
   "cell_type": "code",
   "execution_count": null,
   "id": "ff3d8a9f",
   "metadata": {},
   "outputs": [],
   "source": [
    "pkl_common_directory = '../data/common_pkl/'\n",
    "for index_name in common_pkl:\n",
    "    key_name = index_name[:-4]\n",
    "    globals()['df_{}'.format(key_name)] = pd.read_pickle(pkl_common_directory + index_name)\n",
    "    combine_data(globals()['df_{}'.format(key_name)].set_index('date'),\n",
    "                            globals()['df_{}_{}'.format(key_name, 'investors')].set_index('date'),\n",
    "                            globals()['df_{}_{}'.format(key_name, 'historical')].set_index('date')\n",
    "                            )"
   ]
  },
  {
   "cell_type": "code",
   "execution_count": null,
   "id": "d4663c23",
   "metadata": {
    "scrolled": true
   },
   "outputs": [],
   "source": [
    "df_kospi"
   ]
  },
  {
   "cell_type": "code",
   "execution_count": null,
   "id": "38201a79",
   "metadata": {},
   "outputs": [],
   "source": []
  },
  {
   "cell_type": "markdown",
   "id": "381d2d4b",
   "metadata": {},
   "source": [
    "### feature 이름 설명\n",
    "#### feature에 사용된 column name 설명"
   ]
  },
  {
   "cell_type": "code",
   "execution_count": null,
   "id": "1c5bcf80",
   "metadata": {},
   "outputs": [],
   "source": [
    "df_feature_name_abbr = pd.read_csv('../data/feature_name_abbr.csv')"
   ]
  },
  {
   "cell_type": "code",
   "execution_count": null,
   "id": "69546a5d",
   "metadata": {},
   "outputs": [],
   "source": [
    "standforK = lambda x : df_feature_name_abbr['Korean'][df_feature_name_abbr['abbr'] == x].values[0]\n",
    "standforE = lambda x : df_feature_name_abbr['English'][df_feature_name_abbr['abbr'] == x].values[0]\n",
    "standforexp = lambda x : df_feature_name_abbr['exp1'][df_feature_name_abbr['abbr'] == x].values[0]"
   ]
  },
  {
   "cell_type": "code",
   "execution_count": null,
   "id": "c0e4198a",
   "metadata": {},
   "outputs": [],
   "source": [
    "# financial이 무엇인지 알기 위한 명령\n",
    "c_name = 'financial'\n",
    "standforK(c_name), standforE(c_name), standforexp(c_name)"
   ]
  },
  {
   "cell_type": "code",
   "execution_count": null,
   "id": "a902ef7c",
   "metadata": {},
   "outputs": [],
   "source": [
    "c_name = 'cpi'\n",
    "standforK(c_name), standforE(c_name), standforexp(c_name)"
   ]
  },
  {
   "cell_type": "markdown",
   "id": "71ddd182",
   "metadata": {},
   "source": [
    "### 설명에서 feature name 찾기"
   ]
  },
  {
   "cell_type": "code",
   "execution_count": null,
   "id": "3bb75ea6",
   "metadata": {},
   "outputs": [],
   "source": [
    "find_col_nameK = lambda x : df_feature_name_abbr[['abbr', 'Korean']][df_feature_name_abbr['Korean'].str.contains(x)]\n",
    "find_col_nameE = lambda x : df_feature_name_abbr[['abbr', 'English']][df_feature_name_abbr['English'].str.contains(x, na=False, case=False)]"
   ]
  },
  {
   "cell_type": "code",
   "execution_count": null,
   "id": "6a9c96a1",
   "metadata": {},
   "outputs": [],
   "source": [
    "e_word = 'INDEX' # English column에서 찾기\n",
    "find_col_nameE(e_word)"
   ]
  },
  {
   "cell_type": "code",
   "execution_count": null,
   "id": "f8b27ec9",
   "metadata": {},
   "outputs": [],
   "source": [
    "k_word = '반도체' # Korean column에서 찾기\n",
    "find_col_nameK(k_word)"
   ]
  },
  {
   "cell_type": "markdown",
   "id": "d4f903c8",
   "metadata": {},
   "source": [
    "### Read and Combine data "
   ]
  },
  {
   "cell_type": "code",
   "execution_count": 2,
   "id": "59288eed",
   "metadata": {},
   "outputs": [],
   "source": [
    "bokd = '../data/common_pkl/bok_rate.pkl'\n",
    "cpid = '../data/common_pkl/cpi.pkl'\n",
    "djid = '../data/common_pkl/dji.pkl'\n",
    "bok = pd.read_pickle(bokd)\n",
    "cpi = pd.read_pickle(cpid)\n",
    "dji = pd.read_pickle(djid)\n",
    "boks = pd.read_pickle(bokd).set_index('date')\n",
    "cpis = pd.read_pickle(cpid).set_index('date')\n",
    "djis = pd.read_pickle(djid).set_index('date')"
   ]
  },
  {
   "cell_type": "code",
   "execution_count": 3,
   "id": "8fe4e838",
   "metadata": {},
   "outputs": [],
   "source": [
    "end_date = datetime.datetime.today().date()\n",
    "start_date = '20220620'\n",
    "date_range_ts = pd.date_range(start=start_date, end=end_date)"
   ]
  },
  {
   "cell_type": "code",
   "execution_count": 4,
   "id": "d9dad1f4",
   "metadata": {},
   "outputs": [],
   "source": [
    "df_base = pd.DataFrame(pd.Series(date_range_ts, name='date')).set_index('date')"
   ]
  },
  {
   "cell_type": "code",
   "execution_count": 5,
   "id": "f94a01bb",
   "metadata": {
    "scrolled": true
   },
   "outputs": [],
   "source": [
    "df_base = df_base.merge(cpis, how='left', left_index=True, right_index=True)"
   ]
  },
  {
   "cell_type": "code",
   "execution_count": 6,
   "id": "6e4b3672",
   "metadata": {},
   "outputs": [],
   "source": [
    "df_base = df_base.merge(djis, how='left', left_index=True, right_index=True)"
   ]
  },
  {
   "cell_type": "code",
   "execution_count": 7,
   "id": "5a0c29d8",
   "metadata": {},
   "outputs": [
    {
     "data": {
      "text/html": [
       "<div>\n",
       "<style scoped>\n",
       "    .dataframe tbody tr th:only-of-type {\n",
       "        vertical-align: middle;\n",
       "    }\n",
       "\n",
       "    .dataframe tbody tr th {\n",
       "        vertical-align: top;\n",
       "    }\n",
       "\n",
       "    .dataframe thead th {\n",
       "        text-align: right;\n",
       "    }\n",
       "</style>\n",
       "<table border=\"1\" class=\"dataframe\">\n",
       "  <thead>\n",
       "    <tr style=\"text-align: right;\">\n",
       "      <th></th>\n",
       "      <th>cpi</th>\n",
       "      <th>cpi_anticipated</th>\n",
       "      <th>cpi_previous</th>\n",
       "      <th>dji</th>\n",
       "      <th>open</th>\n",
       "      <th>high</th>\n",
       "      <th>low</th>\n",
       "      <th>volume</th>\n",
       "      <th>dji_cr</th>\n",
       "    </tr>\n",
       "    <tr>\n",
       "      <th>date</th>\n",
       "      <th></th>\n",
       "      <th></th>\n",
       "      <th></th>\n",
       "      <th></th>\n",
       "      <th></th>\n",
       "      <th></th>\n",
       "      <th></th>\n",
       "      <th></th>\n",
       "      <th></th>\n",
       "    </tr>\n",
       "  </thead>\n",
       "  <tbody>\n",
       "    <tr>\n",
       "      <th>2022-06-20</th>\n",
       "      <td>NaN</td>\n",
       "      <td>NaN</td>\n",
       "      <td>NaN</td>\n",
       "      <td>NaN</td>\n",
       "      <td>NaN</td>\n",
       "      <td>NaN</td>\n",
       "      <td>NaN</td>\n",
       "      <td>NaN</td>\n",
       "      <td>NaN</td>\n",
       "    </tr>\n",
       "    <tr>\n",
       "      <th>2022-06-21</th>\n",
       "      <td>NaN</td>\n",
       "      <td>NaN</td>\n",
       "      <td>NaN</td>\n",
       "      <td>30531.77</td>\n",
       "      <td>30074.69</td>\n",
       "      <td>30653.71</td>\n",
       "      <td>30074.69</td>\n",
       "      <td>345.14M</td>\n",
       "      <td>+2.16%</td>\n",
       "    </tr>\n",
       "    <tr>\n",
       "      <th>2022-06-22</th>\n",
       "      <td>NaN</td>\n",
       "      <td>NaN</td>\n",
       "      <td>NaN</td>\n",
       "      <td>30481.88</td>\n",
       "      <td>30352.57</td>\n",
       "      <td>30777.92</td>\n",
       "      <td>30174.02</td>\n",
       "      <td>327.81M</td>\n",
       "      <td>-0.16%</td>\n",
       "    </tr>\n",
       "    <tr>\n",
       "      <th>2022-06-23</th>\n",
       "      <td>NaN</td>\n",
       "      <td>NaN</td>\n",
       "      <td>NaN</td>\n",
       "      <td>30678.15</td>\n",
       "      <td>30570.33</td>\n",
       "      <td>30715.63</td>\n",
       "      <td>30294.37</td>\n",
       "      <td>347.93M</td>\n",
       "      <td>+0.64%</td>\n",
       "    </tr>\n",
       "    <tr>\n",
       "      <th>2022-06-24</th>\n",
       "      <td>NaN</td>\n",
       "      <td>NaN</td>\n",
       "      <td>NaN</td>\n",
       "      <td>31503.71</td>\n",
       "      <td>30881.77</td>\n",
       "      <td>31513.93</td>\n",
       "      <td>30881.77</td>\n",
       "      <td>398.11M</td>\n",
       "      <td>+2.69%</td>\n",
       "    </tr>\n",
       "  </tbody>\n",
       "</table>\n",
       "</div>"
      ],
      "text/plain": [
       "            cpi cpi_anticipated cpi_previous       dji      open      high  \\\n",
       "date                                                                         \n",
       "2022-06-20  NaN             NaN          NaN       NaN       NaN       NaN   \n",
       "2022-06-21  NaN             NaN          NaN  30531.77  30074.69  30653.71   \n",
       "2022-06-22  NaN             NaN          NaN  30481.88  30352.57  30777.92   \n",
       "2022-06-23  NaN             NaN          NaN  30678.15  30570.33  30715.63   \n",
       "2022-06-24  NaN             NaN          NaN  31503.71  30881.77  31513.93   \n",
       "\n",
       "                 low   volume  dji_cr  \n",
       "date                                   \n",
       "2022-06-20       NaN      NaN     NaN  \n",
       "2022-06-21  30074.69  345.14M  +2.16%  \n",
       "2022-06-22  30174.02  327.81M  -0.16%  \n",
       "2022-06-23  30294.37  347.93M  +0.64%  \n",
       "2022-06-24  30881.77  398.11M  +2.69%  "
      ]
     },
     "execution_count": 7,
     "metadata": {},
     "output_type": "execute_result"
    }
   ],
   "source": [
    "df_base.head()"
   ]
  },
  {
   "cell_type": "code",
   "execution_count": 8,
   "id": "e8669619",
   "metadata": {},
   "outputs": [
    {
     "data": {
      "text/html": [
       "<div>\n",
       "<style scoped>\n",
       "    .dataframe tbody tr th:only-of-type {\n",
       "        vertical-align: middle;\n",
       "    }\n",
       "\n",
       "    .dataframe tbody tr th {\n",
       "        vertical-align: top;\n",
       "    }\n",
       "\n",
       "    .dataframe thead th {\n",
       "        text-align: right;\n",
       "    }\n",
       "</style>\n",
       "<table border=\"1\" class=\"dataframe\">\n",
       "  <thead>\n",
       "    <tr style=\"text-align: right;\">\n",
       "      <th></th>\n",
       "      <th>cpi</th>\n",
       "      <th>cpi_anticipated</th>\n",
       "      <th>cpi_previous</th>\n",
       "      <th>dji</th>\n",
       "      <th>open</th>\n",
       "      <th>high</th>\n",
       "      <th>low</th>\n",
       "      <th>volume</th>\n",
       "      <th>dji_cr</th>\n",
       "    </tr>\n",
       "    <tr>\n",
       "      <th>date</th>\n",
       "      <th></th>\n",
       "      <th></th>\n",
       "      <th></th>\n",
       "      <th></th>\n",
       "      <th></th>\n",
       "      <th></th>\n",
       "      <th></th>\n",
       "      <th></th>\n",
       "      <th></th>\n",
       "    </tr>\n",
       "  </thead>\n",
       "  <tbody>\n",
       "    <tr>\n",
       "      <th>2023-02-15</th>\n",
       "      <td>NaN</td>\n",
       "      <td>NaN</td>\n",
       "      <td>NaN</td>\n",
       "      <td>34128.34</td>\n",
       "      <td>34008.63</td>\n",
       "      <td>34128.34</td>\n",
       "      <td>33834.7</td>\n",
       "      <td>260.62M</td>\n",
       "      <td>+0.11%</td>\n",
       "    </tr>\n",
       "    <tr>\n",
       "      <th>2023-02-16</th>\n",
       "      <td>NaN</td>\n",
       "      <td>NaN</td>\n",
       "      <td>NaN</td>\n",
       "      <td>NaN</td>\n",
       "      <td>NaN</td>\n",
       "      <td>NaN</td>\n",
       "      <td>NaN</td>\n",
       "      <td>NaN</td>\n",
       "      <td>NaN</td>\n",
       "    </tr>\n",
       "    <tr>\n",
       "      <th>2023-02-17</th>\n",
       "      <td>NaN</td>\n",
       "      <td>NaN</td>\n",
       "      <td>NaN</td>\n",
       "      <td>NaN</td>\n",
       "      <td>NaN</td>\n",
       "      <td>NaN</td>\n",
       "      <td>NaN</td>\n",
       "      <td>NaN</td>\n",
       "      <td>NaN</td>\n",
       "    </tr>\n",
       "    <tr>\n",
       "      <th>2023-02-18</th>\n",
       "      <td>NaN</td>\n",
       "      <td>NaN</td>\n",
       "      <td>NaN</td>\n",
       "      <td>NaN</td>\n",
       "      <td>NaN</td>\n",
       "      <td>NaN</td>\n",
       "      <td>NaN</td>\n",
       "      <td>NaN</td>\n",
       "      <td>NaN</td>\n",
       "    </tr>\n",
       "    <tr>\n",
       "      <th>2023-02-19</th>\n",
       "      <td>NaN</td>\n",
       "      <td>NaN</td>\n",
       "      <td>NaN</td>\n",
       "      <td>NaN</td>\n",
       "      <td>NaN</td>\n",
       "      <td>NaN</td>\n",
       "      <td>NaN</td>\n",
       "      <td>NaN</td>\n",
       "      <td>NaN</td>\n",
       "    </tr>\n",
       "  </tbody>\n",
       "</table>\n",
       "</div>"
      ],
      "text/plain": [
       "            cpi cpi_anticipated cpi_previous       dji      open      high  \\\n",
       "date                                                                         \n",
       "2023-02-15  NaN             NaN          NaN  34128.34  34008.63  34128.34   \n",
       "2023-02-16  NaN             NaN          NaN       NaN       NaN       NaN   \n",
       "2023-02-17  NaN             NaN          NaN       NaN       NaN       NaN   \n",
       "2023-02-18  NaN             NaN          NaN       NaN       NaN       NaN   \n",
       "2023-02-19  NaN             NaN          NaN       NaN       NaN       NaN   \n",
       "\n",
       "                low   volume  dji_cr  \n",
       "date                                  \n",
       "2023-02-15  33834.7  260.62M  +0.11%  \n",
       "2023-02-16      NaN      NaN     NaN  \n",
       "2023-02-17      NaN      NaN     NaN  \n",
       "2023-02-18      NaN      NaN     NaN  \n",
       "2023-02-19      NaN      NaN     NaN  "
      ]
     },
     "execution_count": 8,
     "metadata": {},
     "output_type": "execute_result"
    }
   ],
   "source": [
    "df_base.tail()"
   ]
  },
  {
   "cell_type": "code",
   "execution_count": null,
   "id": "21ef13df",
   "metadata": {},
   "outputs": [],
   "source": []
  }
 ],
 "metadata": {
  "kernelspec": {
   "display_name": "Python 3 (ipykernel)",
   "language": "python",
   "name": "python3"
  },
  "language_info": {
   "codemirror_mode": {
    "name": "ipython",
    "version": 3
   },
   "file_extension": ".py",
   "mimetype": "text/x-python",
   "name": "python",
   "nbconvert_exporter": "python",
   "pygments_lexer": "ipython3",
   "version": "3.10.7"
  }
 },
 "nbformat": 4,
 "nbformat_minor": 5
}
