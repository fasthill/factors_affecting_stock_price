{
 "cells": [
  {
   "cell_type": "markdown",
   "id": "f051084f",
   "metadata": {},
   "source": [
    "### feature합치기\n",
    "#### investors, historical(매일 거래량 등) and 분류항목 합치기"
   ]
  },
  {
   "cell_type": "code",
   "execution_count": 1,
   "id": "b930a6de",
   "metadata": {},
   "outputs": [],
   "source": [
    "import datetime, time\n",
    "from datetime import date\n",
    "\n",
    "import pandas as pd\n",
    "import numpy as np\n",
    "\n",
    "from sklearn.preprocessing import StandardScaler"
   ]
  },
  {
   "cell_type": "code",
   "execution_count": 2,
   "id": "a1f53561",
   "metadata": {},
   "outputs": [],
   "source": [
    "code = {'005930': ['삼성전자', 'sec'], '005380': ['현대차', 'hyunmotor'],\n",
    "                 '035420': ['NAVER', 'naver'], '033780': ['KT&G', 'ktng']}\n",
    "# code = {'005930': ['삼성전자', 'sec']}"
   ]
  },
  {
   "cell_type": "code",
   "execution_count": 3,
   "id": "e7734db7",
   "metadata": {},
   "outputs": [],
   "source": [
    "pkl_directory = '../data/company_daily_price_pkl'\n",
    "pkl_directory = './'\n",
    "pkl_directory = '../data/company_pkl/'"
   ]
  },
  {
   "cell_type": "code",
   "execution_count": 4,
   "id": "784bf02a",
   "metadata": {},
   "outputs": [],
   "source": [
    "# investor.pkl, historical.pkl. 읽기\n",
    "for key, val in code.items():\n",
    "    pkl_name= '{}.pkl'.format(val[1])\n",
    "    globals()['df_{}'.format(val[1])] = pd.read_pickle('./' + pkl_name)\n",
    "    pkl_name= '{}_historical.pkl'.format(val[1])\n",
    "    globals()['df_{}_{}'.format(val[1], 'historical')] = pd.read_pickle(pkl_directory + pkl_name)\n",
    "    pkl_name= '{}_investors.pkl'.format(val[1])\n",
    "    globals()['df_{}_{}'.format(val[1], 'investors')] = pd.read_pickle(pkl_directory + pkl_name)"
   ]
  },
  {
   "cell_type": "code",
   "execution_count": 5,
   "id": "03f7032b",
   "metadata": {},
   "outputs": [],
   "source": [
    "# index column : date\n",
    "def find_previous_date(df_inv, df_his, date_current):\n",
    "    i = 0\n",
    "    date2 = 0\n",
    "    while True:\n",
    "        i += 1\n",
    "        date2 = date1 - datetime.timedelta(days = i)\n",
    "        if (df_inv.loc[date2]['retail'] != 0) & (df_his.loc[date2]['vol'] != '') :\n",
    "            break\n",
    "        if i >= 30:\n",
    "            break\n",
    "    return date2"
   ]
  },
  {
   "cell_type": "code",
   "execution_count": 6,
   "id": "94d15a7c",
   "metadata": {},
   "outputs": [],
   "source": [
    "df_inv = df_sec_investors.set_index('date')\n",
    "df_his = df_sec_historical.set_index('date')"
   ]
  },
  {
   "cell_type": "code",
   "execution_count": 7,
   "id": "308ded41",
   "metadata": {},
   "outputs": [],
   "source": [
    "date1 = datetime.datetime.strptime(df_sec.loc[0, 'date'], '%Y-%m-%d')\n",
    "# date1 = datetime.datetime.strptime('2022-06-16', '%Y-%m-%d')\n",
    "aa = find_previous_date(df_inv, df_his, date1)"
   ]
  },
  {
   "cell_type": "code",
   "execution_count": 8,
   "id": "48df01a6",
   "metadata": {},
   "outputs": [
    {
     "data": {
      "text/plain": [
       "datetime.datetime(2022, 6, 17, 0, 0)"
      ]
     },
     "execution_count": 8,
     "metadata": {},
     "output_type": "execute_result"
    }
   ],
   "source": [
    "aa"
   ]
  },
  {
   "cell_type": "code",
   "execution_count": 10,
   "id": "27a31184",
   "metadata": {},
   "outputs": [
    {
     "data": {
      "text/plain": [
       "datetime.datetime(2022, 6, 14, 0, 0)"
      ]
     },
     "execution_count": 10,
     "metadata": {},
     "output_type": "execute_result"
    }
   ],
   "source": [
    "date1 = datetime.datetime.strptime('2022-06-15', '%Y-%m-%d')\n",
    "bb = find_previous_date(df_inv, df_his, date1)\n",
    "bb"
   ]
  },
  {
   "cell_type": "code",
   "execution_count": null,
   "id": "97a19326",
   "metadata": {},
   "outputs": [],
   "source": []
  }
 ],
 "metadata": {
  "kernelspec": {
   "display_name": "Python 3",
   "language": "python",
   "name": "python3"
  },
  "language_info": {
   "codemirror_mode": {
    "name": "ipython",
    "version": 3
   },
   "file_extension": ".py",
   "mimetype": "text/x-python",
   "name": "python",
   "nbconvert_exporter": "python",
   "pygments_lexer": "ipython3",
   "version": "3.9.1"
  }
 },
 "nbformat": 4,
 "nbformat_minor": 5
}
