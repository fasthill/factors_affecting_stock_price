{
 "cells": [
  {
   "cell_type": "markdown",
   "id": "f051084f",
   "metadata": {},
   "source": [
    "### feature합치기\n",
    "#### investors, historical(매일 거래량 등) and 분류항목 합치기"
   ]
  },
  {
   "cell_type": "code",
   "execution_count": 1,
   "id": "b930a6de",
   "metadata": {},
   "outputs": [],
   "source": [
    "import datetime, time\n",
    "from datetime import date\n",
    "\n",
    "import pandas as pd\n",
    "import numpy as np\n",
    "\n",
    "from sklearn.preprocessing import StandardScaler"
   ]
  },
  {
   "cell_type": "code",
   "execution_count": 2,
   "id": "a1f53561",
   "metadata": {},
   "outputs": [],
   "source": [
    "code = {'005930': ['삼성전자', 'sec'], '005380': ['현대차', 'hyunmotor'],\n",
    "                 '035420': ['NAVER', 'naver'], '033780': ['KT&G', 'ktng']}\n",
    "# code = {'005930': ['삼성전자', 'sec']}"
   ]
  },
  {
   "cell_type": "code",
   "execution_count": 3,
   "id": "e7734db7",
   "metadata": {},
   "outputs": [],
   "source": [
    "pkl_directory = '../data/company_daily_price_pkl'\n",
    "pkl_directory = './'\n",
    "pkl_directory = '../data/company_pkl/'"
   ]
  },
  {
   "cell_type": "code",
   "execution_count": 4,
   "id": "784bf02a",
   "metadata": {},
   "outputs": [],
   "source": [
    "# investor.pkl, historical.pkl. 읽기\n",
    "for key, val in code.items():\n",
    "    pkl_name= '{}.pkl'.format(val[1])\n",
    "    globals()['df_{}'.format(val[1])] = pd.read_pickle('./' + pkl_name)\n",
    "    globals()['df_{}'.format(val[1])]['date'] = pd.to_datetime(globals()['df_{}'.format(val[1])]['date']) #change to timestamp\n",
    "    globals()['df_{}'.format(val[1])]['date'] = globals()['df_{}'.format(val[1])]['date'].dt.date  # change to datetime\n",
    "    pkl_name= '{}_historical.pkl'.format(val[1])\n",
    "    globals()['df_{}_{}'.format(val[1], 'historical')] = pd.read_pickle(pkl_directory + pkl_name)\n",
    "    globals()['df_{}_{}'.format(val[1], 'historical')]['date'] = globals()['df_{}_{}'.format(val[1], 'historical')]['date'].dt.date # change to datetime\n",
    "    pkl_name= '{}_investors.pkl'.format(val[1])\n",
    "    globals()['df_{}_{}'.format(val[1], 'investors')] = pd.read_pickle(pkl_directory + pkl_name)\n",
    "    globals()['df_{}_{}'.format(val[1], 'investors')]['date'] = globals()['df_{}_{}'.format(val[1], 'investors')]['date'].dt.date # change to datetime"
   ]
  },
  {
   "cell_type": "code",
   "execution_count": 5,
   "id": "03f7032b",
   "metadata": {},
   "outputs": [],
   "source": [
    "# index column : date\n",
    "def find_previous_date(df_inv, df_his, date_current):\n",
    "    i = 0\n",
    "    date2 = 0\n",
    "    while True:\n",
    "        i += 1\n",
    "        date2 = date_current - datetime.timedelta(days = i)\n",
    "        if (df_inv.loc[date2]['retail'] != 0) & (df_his.loc[date2]['vol'] != '') :  \n",
    "            # investors와 historical 두 개 데이터에 같이 없어야 함\n",
    "            break\n",
    "        if i >= 30:\n",
    "            break\n",
    "    return date2"
   ]
  },
  {
   "cell_type": "code",
   "execution_count": 81,
   "id": "cf12fe6a",
   "metadata": {},
   "outputs": [],
   "source": [
    "def find_ratio(df_o, date_current):\n",
    "    df_o_trans = df_o.transpose()\n",
    "    df_o_trans.columns = ['before', 'after']\n",
    "    print(\"******************\", df_o_trans['before'])\n",
    "    df_o_trans[date_current] = (df_o_trans['after'] - df_o_trans['before']) / df_o_trans['before']\n",
    "    return df_o_trans.transpose()"
   ]
  },
  {
   "cell_type": "code",
   "execution_count": 7,
   "id": "94d15a7c",
   "metadata": {},
   "outputs": [],
   "source": [
    "# date column을 index로 옮김\n",
    "df_inv = df_sec_investors.set_index('date')\n",
    "df_his = df_sec_historical.set_index('date')\n",
    "df_o = df_sec.set_index('date')"
   ]
  },
  {
   "cell_type": "code",
   "execution_count": 8,
   "id": "37acd286",
   "metadata": {},
   "outputs": [
    {
     "data": {
      "text/plain": [
       "(datetime.date, datetime.date, datetime.date)"
      ]
     },
     "execution_count": 8,
     "metadata": {},
     "output_type": "execute_result"
    }
   ],
   "source": [
    "type(df_o.index[0]), type(df_inv.index[0]), type(df_his.index[0])"
   ]
  },
  {
   "cell_type": "code",
   "execution_count": 82,
   "id": "47f5e1cb",
   "metadata": {},
   "outputs": [
    {
     "name": "stdout",
     "output_type": "stream",
     "text": [
      "****************** retail          -9314.0\n",
      "foreigner       56530.0\n",
      "institution    -46752.0\n",
      "financial      -56091.0\n",
      "invtrust         2008.0\n",
      "pension         -1506.0\n",
      "privequity       6599.0\n",
      "bank              802.0\n",
      "insurance        1304.0\n",
      "financeetc        132.0\n",
      "corporateetc      294.0\n",
      "foreigneretc     -758.0\n",
      "Name: before, dtype: float64\n",
      "****************** open         61700.0\n",
      "high         61800.0\n",
      "low          61200.0\n",
      "close        61500.0\n",
      "close_cr        0.33\n",
      "vol         561836.0\n",
      "Name: before, dtype: object\n",
      "****************** retail          17257.0\n",
      "foreigner      -36693.0\n",
      "institution     20895.0\n",
      "financial       17535.0\n",
      "invtrust         -891.0\n",
      "pension         -5487.0\n",
      "privequity       2018.0\n",
      "bank              582.0\n",
      "insurance        6606.0\n",
      "financeetc        532.0\n",
      "corporateetc    -2088.0\n",
      "foreigneretc      628.0\n",
      "Name: before, dtype: float64\n",
      "****************** open         61700.0\n",
      "high         61900.0\n",
      "low          61200.0\n",
      "close        61500.0\n",
      "close_cr         0.0\n",
      "vol         588583.0\n",
      "Name: before, dtype: object\n"
     ]
    },
    {
     "ename": "ZeroDivisionError",
     "evalue": "float division by zero",
     "output_type": "error",
     "traceback": [
      "\u001b[1;31m---------------------------------------------------------------------------\u001b[0m",
      "\u001b[1;31mZeroDivisionError\u001b[0m                         Traceback (most recent call last)",
      "Cell \u001b[1;32mIn [82], line 9\u001b[0m\n\u001b[0;32m      7\u001b[0m df_his_comp \u001b[38;5;241m=\u001b[39m df_his\u001b[38;5;241m.\u001b[39mloc[[date_previous_1, date_previous]]\n\u001b[0;32m      8\u001b[0m investor_rate \u001b[38;5;241m=\u001b[39m pd\u001b[38;5;241m.\u001b[39mconcat([investor_rate, find_ratio(df_inv_comp, date_current)\u001b[38;5;241m.\u001b[39miloc[[\u001b[38;5;241m-\u001b[39m\u001b[38;5;241m1\u001b[39m]]], axis\u001b[38;5;241m=\u001b[39m\u001b[38;5;241m0\u001b[39m)\n\u001b[1;32m----> 9\u001b[0m historical_rate \u001b[38;5;241m=\u001b[39m pd\u001b[38;5;241m.\u001b[39mconcat([historical_rate, \u001b[43mfind_ratio\u001b[49m\u001b[43m(\u001b[49m\u001b[43mdf_his_comp\u001b[49m\u001b[43m,\u001b[49m\u001b[43m \u001b[49m\u001b[43mdate_current\u001b[49m\u001b[43m)\u001b[49m\u001b[38;5;241m.\u001b[39miloc[[\u001b[38;5;241m-\u001b[39m\u001b[38;5;241m1\u001b[39m]]], axis\u001b[38;5;241m=\u001b[39m\u001b[38;5;241m0\u001b[39m)\n",
      "Cell \u001b[1;32mIn [81], line 5\u001b[0m, in \u001b[0;36mfind_ratio\u001b[1;34m(df_o, date_current)\u001b[0m\n\u001b[0;32m      3\u001b[0m df_o_trans\u001b[38;5;241m.\u001b[39mcolumns \u001b[38;5;241m=\u001b[39m [\u001b[38;5;124m'\u001b[39m\u001b[38;5;124mbefore\u001b[39m\u001b[38;5;124m'\u001b[39m, \u001b[38;5;124m'\u001b[39m\u001b[38;5;124mafter\u001b[39m\u001b[38;5;124m'\u001b[39m]\n\u001b[0;32m      4\u001b[0m \u001b[38;5;28mprint\u001b[39m(\u001b[38;5;124m\"\u001b[39m\u001b[38;5;124m******************\u001b[39m\u001b[38;5;124m\"\u001b[39m, df_o_trans[\u001b[38;5;124m'\u001b[39m\u001b[38;5;124mbefore\u001b[39m\u001b[38;5;124m'\u001b[39m])\n\u001b[1;32m----> 5\u001b[0m df_o_trans[date_current] \u001b[38;5;241m=\u001b[39m \u001b[43m(\u001b[49m\u001b[43mdf_o_trans\u001b[49m\u001b[43m[\u001b[49m\u001b[38;5;124;43m'\u001b[39;49m\u001b[38;5;124;43mafter\u001b[39;49m\u001b[38;5;124;43m'\u001b[39;49m\u001b[43m]\u001b[49m\u001b[43m \u001b[49m\u001b[38;5;241;43m-\u001b[39;49m\u001b[43m \u001b[49m\u001b[43mdf_o_trans\u001b[49m\u001b[43m[\u001b[49m\u001b[38;5;124;43m'\u001b[39;49m\u001b[38;5;124;43mbefore\u001b[39;49m\u001b[38;5;124;43m'\u001b[39;49m\u001b[43m]\u001b[49m\u001b[43m)\u001b[49m\u001b[43m \u001b[49m\u001b[38;5;241;43m/\u001b[39;49m\u001b[43m \u001b[49m\u001b[43mdf_o_trans\u001b[49m\u001b[43m[\u001b[49m\u001b[38;5;124;43m'\u001b[39;49m\u001b[38;5;124;43mbefore\u001b[39;49m\u001b[38;5;124;43m'\u001b[39;49m\u001b[43m]\u001b[49m\n\u001b[0;32m      6\u001b[0m \u001b[38;5;28;01mreturn\u001b[39;00m df_o_trans\u001b[38;5;241m.\u001b[39mtranspose()\n",
      "File \u001b[1;32m~\\AppData\\Local\\Programs\\Python\\Python310\\lib\\site-packages\\pandas\\core\\ops\\common.py:70\u001b[0m, in \u001b[0;36m_unpack_zerodim_and_defer.<locals>.new_method\u001b[1;34m(self, other)\u001b[0m\n\u001b[0;32m     66\u001b[0m             \u001b[38;5;28;01mreturn\u001b[39;00m \u001b[38;5;28mNotImplemented\u001b[39m\n\u001b[0;32m     68\u001b[0m other \u001b[38;5;241m=\u001b[39m item_from_zerodim(other)\n\u001b[1;32m---> 70\u001b[0m \u001b[38;5;28;01mreturn\u001b[39;00m \u001b[43mmethod\u001b[49m\u001b[43m(\u001b[49m\u001b[38;5;28;43mself\u001b[39;49m\u001b[43m,\u001b[49m\u001b[43m \u001b[49m\u001b[43mother\u001b[49m\u001b[43m)\u001b[49m\n",
      "File \u001b[1;32m~\\AppData\\Local\\Programs\\Python\\Python310\\lib\\site-packages\\pandas\\core\\arraylike.py:124\u001b[0m, in \u001b[0;36mOpsMixin.__truediv__\u001b[1;34m(self, other)\u001b[0m\n\u001b[0;32m    122\u001b[0m \u001b[38;5;129m@unpack_zerodim_and_defer\u001b[39m(\u001b[38;5;124m\"\u001b[39m\u001b[38;5;124m__truediv__\u001b[39m\u001b[38;5;124m\"\u001b[39m)\n\u001b[0;32m    123\u001b[0m \u001b[38;5;28;01mdef\u001b[39;00m \u001b[38;5;21m__truediv__\u001b[39m(\u001b[38;5;28mself\u001b[39m, other):\n\u001b[1;32m--> 124\u001b[0m     \u001b[38;5;28;01mreturn\u001b[39;00m \u001b[38;5;28;43mself\u001b[39;49m\u001b[38;5;241;43m.\u001b[39;49m\u001b[43m_arith_method\u001b[49m\u001b[43m(\u001b[49m\u001b[43mother\u001b[49m\u001b[43m,\u001b[49m\u001b[43m \u001b[49m\u001b[43moperator\u001b[49m\u001b[38;5;241;43m.\u001b[39;49m\u001b[43mtruediv\u001b[49m\u001b[43m)\u001b[49m\n",
      "File \u001b[1;32m~\\AppData\\Local\\Programs\\Python\\Python310\\lib\\site-packages\\pandas\\core\\series.py:5639\u001b[0m, in \u001b[0;36mSeries._arith_method\u001b[1;34m(self, other, op)\u001b[0m\n\u001b[0;32m   5637\u001b[0m \u001b[38;5;28;01mdef\u001b[39;00m \u001b[38;5;21m_arith_method\u001b[39m(\u001b[38;5;28mself\u001b[39m, other, op):\n\u001b[0;32m   5638\u001b[0m     \u001b[38;5;28mself\u001b[39m, other \u001b[38;5;241m=\u001b[39m ops\u001b[38;5;241m.\u001b[39malign_method_SERIES(\u001b[38;5;28mself\u001b[39m, other)\n\u001b[1;32m-> 5639\u001b[0m     \u001b[38;5;28;01mreturn\u001b[39;00m \u001b[43mbase\u001b[49m\u001b[38;5;241;43m.\u001b[39;49m\u001b[43mIndexOpsMixin\u001b[49m\u001b[38;5;241;43m.\u001b[39;49m\u001b[43m_arith_method\u001b[49m\u001b[43m(\u001b[49m\u001b[38;5;28;43mself\u001b[39;49m\u001b[43m,\u001b[49m\u001b[43m \u001b[49m\u001b[43mother\u001b[49m\u001b[43m,\u001b[49m\u001b[43m \u001b[49m\u001b[43mop\u001b[49m\u001b[43m)\u001b[49m\n",
      "File \u001b[1;32m~\\AppData\\Local\\Programs\\Python\\Python310\\lib\\site-packages\\pandas\\core\\base.py:1295\u001b[0m, in \u001b[0;36mIndexOpsMixin._arith_method\u001b[1;34m(self, other, op)\u001b[0m\n\u001b[0;32m   1292\u001b[0m rvalues \u001b[38;5;241m=\u001b[39m ensure_wrapped_if_datetimelike(rvalues)\n\u001b[0;32m   1294\u001b[0m \u001b[38;5;28;01mwith\u001b[39;00m np\u001b[38;5;241m.\u001b[39merrstate(\u001b[38;5;28mall\u001b[39m\u001b[38;5;241m=\u001b[39m\u001b[38;5;124m\"\u001b[39m\u001b[38;5;124mignore\u001b[39m\u001b[38;5;124m\"\u001b[39m):\n\u001b[1;32m-> 1295\u001b[0m     result \u001b[38;5;241m=\u001b[39m \u001b[43mops\u001b[49m\u001b[38;5;241;43m.\u001b[39;49m\u001b[43marithmetic_op\u001b[49m\u001b[43m(\u001b[49m\u001b[43mlvalues\u001b[49m\u001b[43m,\u001b[49m\u001b[43m \u001b[49m\u001b[43mrvalues\u001b[49m\u001b[43m,\u001b[49m\u001b[43m \u001b[49m\u001b[43mop\u001b[49m\u001b[43m)\u001b[49m\n\u001b[0;32m   1297\u001b[0m \u001b[38;5;28;01mreturn\u001b[39;00m \u001b[38;5;28mself\u001b[39m\u001b[38;5;241m.\u001b[39m_construct_result(result, name\u001b[38;5;241m=\u001b[39mres_name)\n",
      "File \u001b[1;32m~\\AppData\\Local\\Programs\\Python\\Python310\\lib\\site-packages\\pandas\\core\\ops\\array_ops.py:222\u001b[0m, in \u001b[0;36marithmetic_op\u001b[1;34m(left, right, op)\u001b[0m\n\u001b[0;32m    217\u001b[0m \u001b[38;5;28;01melse\u001b[39;00m:\n\u001b[0;32m    218\u001b[0m     \u001b[38;5;66;03m# TODO we should handle EAs consistently and move this check before the if/else\u001b[39;00m\n\u001b[0;32m    219\u001b[0m     \u001b[38;5;66;03m# (https://github.com/pandas-dev/pandas/issues/41165)\u001b[39;00m\n\u001b[0;32m    220\u001b[0m     _bool_arith_check(op, left, right)\n\u001b[1;32m--> 222\u001b[0m     res_values \u001b[38;5;241m=\u001b[39m \u001b[43m_na_arithmetic_op\u001b[49m\u001b[43m(\u001b[49m\u001b[43mleft\u001b[49m\u001b[43m,\u001b[49m\u001b[43m \u001b[49m\u001b[43mright\u001b[49m\u001b[43m,\u001b[49m\u001b[43m \u001b[49m\u001b[43mop\u001b[49m\u001b[43m)\u001b[49m\n\u001b[0;32m    224\u001b[0m \u001b[38;5;28;01mreturn\u001b[39;00m res_values\n",
      "File \u001b[1;32m~\\AppData\\Local\\Programs\\Python\\Python310\\lib\\site-packages\\pandas\\core\\ops\\array_ops.py:163\u001b[0m, in \u001b[0;36m_na_arithmetic_op\u001b[1;34m(left, right, op, is_cmp)\u001b[0m\n\u001b[0;32m    160\u001b[0m     func \u001b[38;5;241m=\u001b[39m partial(expressions\u001b[38;5;241m.\u001b[39mevaluate, op)\n\u001b[0;32m    162\u001b[0m \u001b[38;5;28;01mtry\u001b[39;00m:\n\u001b[1;32m--> 163\u001b[0m     result \u001b[38;5;241m=\u001b[39m \u001b[43mfunc\u001b[49m\u001b[43m(\u001b[49m\u001b[43mleft\u001b[49m\u001b[43m,\u001b[49m\u001b[43m \u001b[49m\u001b[43mright\u001b[49m\u001b[43m)\u001b[49m\n\u001b[0;32m    164\u001b[0m \u001b[38;5;28;01mexcept\u001b[39;00m \u001b[38;5;167;01mTypeError\u001b[39;00m:\n\u001b[0;32m    165\u001b[0m     \u001b[38;5;28;01mif\u001b[39;00m \u001b[38;5;129;01mnot\u001b[39;00m is_cmp \u001b[38;5;129;01mand\u001b[39;00m (is_object_dtype(left\u001b[38;5;241m.\u001b[39mdtype) \u001b[38;5;129;01mor\u001b[39;00m is_object_dtype(right)):\n\u001b[0;32m    166\u001b[0m         \u001b[38;5;66;03m# For object dtype, fallback to a masked operation (only operating\u001b[39;00m\n\u001b[0;32m    167\u001b[0m         \u001b[38;5;66;03m#  on the non-missing values)\u001b[39;00m\n\u001b[0;32m    168\u001b[0m         \u001b[38;5;66;03m# Don't do this for comparisons, as that will handle complex numbers\u001b[39;00m\n\u001b[0;32m    169\u001b[0m         \u001b[38;5;66;03m#  incorrectly, see GH#32047\u001b[39;00m\n",
      "File \u001b[1;32m~\\AppData\\Local\\Programs\\Python\\Python310\\lib\\site-packages\\pandas\\core\\computation\\expressions.py:239\u001b[0m, in \u001b[0;36mevaluate\u001b[1;34m(op, a, b, use_numexpr)\u001b[0m\n\u001b[0;32m    236\u001b[0m \u001b[38;5;28;01mif\u001b[39;00m op_str \u001b[38;5;129;01mis\u001b[39;00m \u001b[38;5;129;01mnot\u001b[39;00m \u001b[38;5;28;01mNone\u001b[39;00m:\n\u001b[0;32m    237\u001b[0m     \u001b[38;5;28;01mif\u001b[39;00m use_numexpr:\n\u001b[0;32m    238\u001b[0m         \u001b[38;5;66;03m# error: \"None\" not callable\u001b[39;00m\n\u001b[1;32m--> 239\u001b[0m         \u001b[38;5;28;01mreturn\u001b[39;00m \u001b[43m_evaluate\u001b[49m\u001b[43m(\u001b[49m\u001b[43mop\u001b[49m\u001b[43m,\u001b[49m\u001b[43m \u001b[49m\u001b[43mop_str\u001b[49m\u001b[43m,\u001b[49m\u001b[43m \u001b[49m\u001b[43ma\u001b[49m\u001b[43m,\u001b[49m\u001b[43m \u001b[49m\u001b[43mb\u001b[49m\u001b[43m)\u001b[49m  \u001b[38;5;66;03m# type: ignore[misc]\u001b[39;00m\n\u001b[0;32m    240\u001b[0m \u001b[38;5;28;01mreturn\u001b[39;00m _evaluate_standard(op, op_str, a, b)\n",
      "File \u001b[1;32m~\\AppData\\Local\\Programs\\Python\\Python310\\lib\\site-packages\\pandas\\core\\computation\\expressions.py:69\u001b[0m, in \u001b[0;36m_evaluate_standard\u001b[1;34m(op, op_str, a, b)\u001b[0m\n\u001b[0;32m     67\u001b[0m \u001b[38;5;28;01mif\u001b[39;00m _TEST_MODE:\n\u001b[0;32m     68\u001b[0m     _store_test_result(\u001b[38;5;28;01mFalse\u001b[39;00m)\n\u001b[1;32m---> 69\u001b[0m \u001b[38;5;28;01mreturn\u001b[39;00m \u001b[43mop\u001b[49m\u001b[43m(\u001b[49m\u001b[43ma\u001b[49m\u001b[43m,\u001b[49m\u001b[43m \u001b[49m\u001b[43mb\u001b[49m\u001b[43m)\u001b[49m\n",
      "\u001b[1;31mZeroDivisionError\u001b[0m: float division by zero"
     ]
    }
   ],
   "source": [
    "investor_rate = pd.DataFrame()\n",
    "historical_rate = pd.DataFrame()\n",
    "for date_current in df_o.index[35:37]:\n",
    "    date_previous = find_previous_date(df_inv, df_his, date_current)\n",
    "    date_previous_1 = find_previous_date(df_inv, df_his, date_previous)\n",
    "    df_inv_comp = df_inv.loc[[date_previous_1, date_previous]]\n",
    "    df_his_comp = df_his.loc[[date_previous_1, date_previous]]\n",
    "    investor_rate = pd.concat([investor_rate, find_ratio(df_inv_comp, date_current).iloc[[-1]]], axis=0)\n",
    "    historical_rate = pd.concat([historical_rate, find_ratio(df_his_comp, date_current).iloc[[-1]]], axis=0)"
   ]
  },
  {
   "cell_type": "code",
   "execution_count": 63,
   "id": "c50b7a3d",
   "metadata": {},
   "outputs": [
    {
     "data": {
      "text/plain": [
       "datetime.date(2022, 8, 8)"
      ]
     },
     "execution_count": 63,
     "metadata": {},
     "output_type": "execute_result"
    }
   ],
   "source": [
    "date_current"
   ]
  },
  {
   "cell_type": "code",
   "execution_count": 76,
   "id": "de6b79e6",
   "metadata": {},
   "outputs": [
    {
     "data": {
      "text/html": [
       "<div>\n",
       "<style scoped>\n",
       "    .dataframe tbody tr th:only-of-type {\n",
       "        vertical-align: middle;\n",
       "    }\n",
       "\n",
       "    .dataframe tbody tr th {\n",
       "        vertical-align: top;\n",
       "    }\n",
       "\n",
       "    .dataframe thead th {\n",
       "        text-align: right;\n",
       "    }\n",
       "</style>\n",
       "<table border=\"1\" class=\"dataframe\">\n",
       "  <thead>\n",
       "    <tr style=\"text-align: right;\">\n",
       "      <th></th>\n",
       "      <th>open</th>\n",
       "      <th>high</th>\n",
       "      <th>low</th>\n",
       "      <th>close</th>\n",
       "      <th>close_cr</th>\n",
       "      <th>vol</th>\n",
       "    </tr>\n",
       "    <tr>\n",
       "      <th>date</th>\n",
       "      <th></th>\n",
       "      <th></th>\n",
       "      <th></th>\n",
       "      <th></th>\n",
       "      <th></th>\n",
       "      <th></th>\n",
       "    </tr>\n",
       "  </thead>\n",
       "  <tbody>\n",
       "    <tr>\n",
       "      <th>2022-06-04</th>\n",
       "      <td></td>\n",
       "      <td></td>\n",
       "      <td></td>\n",
       "      <td></td>\n",
       "      <td></td>\n",
       "      <td></td>\n",
       "    </tr>\n",
       "    <tr>\n",
       "      <th>2022-06-05</th>\n",
       "      <td></td>\n",
       "      <td></td>\n",
       "      <td></td>\n",
       "      <td></td>\n",
       "      <td></td>\n",
       "      <td></td>\n",
       "    </tr>\n",
       "    <tr>\n",
       "      <th>2022-06-06</th>\n",
       "      <td></td>\n",
       "      <td></td>\n",
       "      <td></td>\n",
       "      <td></td>\n",
       "      <td></td>\n",
       "      <td></td>\n",
       "    </tr>\n",
       "    <tr>\n",
       "      <th>2022-06-07</th>\n",
       "      <td>66200.0</td>\n",
       "      <td>66400.0</td>\n",
       "      <td>65400.0</td>\n",
       "      <td>65500.0</td>\n",
       "      <td>-1.95</td>\n",
       "      <td>1273445.0</td>\n",
       "    </tr>\n",
       "    <tr>\n",
       "      <th>2022-06-08</th>\n",
       "      <td>65400.0</td>\n",
       "      <td>65700.0</td>\n",
       "      <td>65300.0</td>\n",
       "      <td>65300.0</td>\n",
       "      <td>-0.31</td>\n",
       "      <td>817379.0</td>\n",
       "    </tr>\n",
       "    <tr>\n",
       "      <th>2022-06-09</th>\n",
       "      <td>65100.0</td>\n",
       "      <td>65200.0</td>\n",
       "      <td>64500.0</td>\n",
       "      <td>65200.0</td>\n",
       "      <td>-0.15</td>\n",
       "      <td>1673764.0</td>\n",
       "    </tr>\n",
       "    <tr>\n",
       "      <th>2022-06-10</th>\n",
       "      <td>64000.0</td>\n",
       "      <td>64400.0</td>\n",
       "      <td>63800.0</td>\n",
       "      <td>63800.0</td>\n",
       "      <td>-2.15</td>\n",
       "      <td>1419245.0</td>\n",
       "    </tr>\n",
       "    <tr>\n",
       "      <th>2022-06-11</th>\n",
       "      <td></td>\n",
       "      <td></td>\n",
       "      <td></td>\n",
       "      <td></td>\n",
       "      <td></td>\n",
       "      <td></td>\n",
       "    </tr>\n",
       "    <tr>\n",
       "      <th>2022-06-12</th>\n",
       "      <td></td>\n",
       "      <td></td>\n",
       "      <td></td>\n",
       "      <td></td>\n",
       "      <td></td>\n",
       "      <td></td>\n",
       "    </tr>\n",
       "    <tr>\n",
       "      <th>2022-06-13</th>\n",
       "      <td>62400.0</td>\n",
       "      <td>62800.0</td>\n",
       "      <td>62100.0</td>\n",
       "      <td>62100.0</td>\n",
       "      <td>-2.66</td>\n",
       "      <td>1380637.0</td>\n",
       "    </tr>\n",
       "  </tbody>\n",
       "</table>\n",
       "</div>"
      ],
      "text/plain": [
       "               open     high      low    close close_cr        vol\n",
       "date                                                              \n",
       "2022-06-04                                                        \n",
       "2022-06-05                                                        \n",
       "2022-06-06                                                        \n",
       "2022-06-07  66200.0  66400.0  65400.0  65500.0    -1.95  1273445.0\n",
       "2022-06-08  65400.0  65700.0  65300.0  65300.0    -0.31   817379.0\n",
       "2022-06-09  65100.0  65200.0  64500.0  65200.0    -0.15  1673764.0\n",
       "2022-06-10  64000.0  64400.0  63800.0  63800.0    -2.15  1419245.0\n",
       "2022-06-11                                                        \n",
       "2022-06-12                                                        \n",
       "2022-06-13  62400.0  62800.0  62100.0  62100.0    -2.66  1380637.0"
      ]
     },
     "execution_count": 76,
     "metadata": {},
     "output_type": "execute_result"
    }
   ],
   "source": [
    "df_his[885:895]"
   ]
  },
  {
   "cell_type": "code",
   "execution_count": 34,
   "id": "097ecdda",
   "metadata": {},
   "outputs": [],
   "source": [
    "investor_rate = pd.concat([investor_rate, aa], axis=0)"
   ]
  },
  {
   "cell_type": "code",
   "execution_count": 41,
   "id": "55c23491",
   "metadata": {},
   "outputs": [
    {
     "data": {
      "text/html": [
       "<div>\n",
       "<style scoped>\n",
       "    .dataframe tbody tr th:only-of-type {\n",
       "        vertical-align: middle;\n",
       "    }\n",
       "\n",
       "    .dataframe tbody tr th {\n",
       "        vertical-align: top;\n",
       "    }\n",
       "\n",
       "    .dataframe thead th {\n",
       "        text-align: right;\n",
       "    }\n",
       "</style>\n",
       "<table border=\"1\" class=\"dataframe\">\n",
       "  <thead>\n",
       "    <tr style=\"text-align: right;\">\n",
       "      <th></th>\n",
       "      <th>retail</th>\n",
       "      <th>foreigner</th>\n",
       "      <th>institution</th>\n",
       "      <th>financial</th>\n",
       "      <th>invtrust</th>\n",
       "      <th>pension</th>\n",
       "      <th>privequity</th>\n",
       "      <th>bank</th>\n",
       "      <th>insurance</th>\n",
       "      <th>financeetc</th>\n",
       "      <th>corporateetc</th>\n",
       "      <th>foreigneretc</th>\n",
       "    </tr>\n",
       "  </thead>\n",
       "  <tbody>\n",
       "    <tr>\n",
       "      <th>2022-06-20</th>\n",
       "      <td>8.195577</td>\n",
       "      <td>11.920678</td>\n",
       "      <td>-3.647354</td>\n",
       "      <td>7.363196</td>\n",
       "      <td>-30.591457</td>\n",
       "      <td>0.344811</td>\n",
       "      <td>23.893570</td>\n",
       "      <td>-2.813541</td>\n",
       "      <td>6.893887</td>\n",
       "      <td>-1.491670</td>\n",
       "      <td>1.854798</td>\n",
       "      <td>0.914929</td>\n",
       "    </tr>\n",
       "    <tr>\n",
       "      <th>2022-06-21</th>\n",
       "      <td>-0.674957</td>\n",
       "      <td>-0.407361</td>\n",
       "      <td>2.593047</td>\n",
       "      <td>0.295068</td>\n",
       "      <td>-0.938927</td>\n",
       "      <td>-0.883900</td>\n",
       "      <td>-0.821502</td>\n",
       "      <td>-0.937576</td>\n",
       "      <td>-0.955874</td>\n",
       "      <td>0.062932</td>\n",
       "      <td>-0.814356</td>\n",
       "      <td>-0.661150</td>\n",
       "    </tr>\n",
       "    <tr>\n",
       "      <th>2022-06-22</th>\n",
       "      <td>-0.226413</td>\n",
       "      <td>-0.166064</td>\n",
       "      <td>-0.135501</td>\n",
       "      <td>0.034853</td>\n",
       "      <td>3.990909</td>\n",
       "      <td>4.034743</td>\n",
       "      <td>-0.044910</td>\n",
       "      <td>1.406863</td>\n",
       "      <td>4.635762</td>\n",
       "      <td>-0.988289</td>\n",
       "      <td>1.836559</td>\n",
       "      <td>-1.530848</td>\n",
       "    </tr>\n",
       "    <tr>\n",
       "      <th>2022-06-23</th>\n",
       "      <td>-0.115765</td>\n",
       "      <td>-0.743679</td>\n",
       "      <td>-1.316192</td>\n",
       "      <td>-1.102356</td>\n",
       "      <td>-0.227930</td>\n",
       "      <td>0.236304</td>\n",
       "      <td>-4.804075</td>\n",
       "      <td>-1.851324</td>\n",
       "      <td>-0.502350</td>\n",
       "      <td>-21.944444</td>\n",
       "      <td>-0.254890</td>\n",
       "      <td>-1.760291</td>\n",
       "    </tr>\n",
       "    <tr>\n",
       "      <th>2022-06-24</th>\n",
       "      <td>-1.523278</td>\n",
       "      <td>3.064922</td>\n",
       "      <td>-8.766880</td>\n",
       "      <td>-20.769609</td>\n",
       "      <td>-2.370714</td>\n",
       "      <td>-0.040771</td>\n",
       "      <td>-0.727922</td>\n",
       "      <td>2.363636</td>\n",
       "      <td>-5.573790</td>\n",
       "      <td>2.116711</td>\n",
       "      <td>-2.381156</td>\n",
       "      <td>-1.818471</td>\n",
       "    </tr>\n",
       "    <tr>\n",
       "      <th>2022-06-27</th>\n",
       "      <td>0.124675</td>\n",
       "      <td>-0.502665</td>\n",
       "      <td>-0.416763</td>\n",
       "      <td>-0.363348</td>\n",
       "      <td>-0.698910</td>\n",
       "      <td>0.104842</td>\n",
       "      <td>2.208481</td>\n",
       "      <td>0.566145</td>\n",
       "      <td>-2.096283</td>\n",
       "      <td>-0.589787</td>\n",
       "      <td>-1.052159</td>\n",
       "      <td>-3.070039</td>\n",
       "    </tr>\n",
       "    <tr>\n",
       "      <th>2022-06-28</th>\n",
       "      <td>-1.992439</td>\n",
       "      <td>-1.693703</td>\n",
       "      <td>-1.819204</td>\n",
       "      <td>-1.506061</td>\n",
       "      <td>2.833841</td>\n",
       "      <td>1.641951</td>\n",
       "      <td>-0.618943</td>\n",
       "      <td>-0.727975</td>\n",
       "      <td>-2.511184</td>\n",
       "      <td>1.771784</td>\n",
       "      <td>14.149718</td>\n",
       "      <td>-2.456767</td>\n",
       "    </tr>\n",
       "    <tr>\n",
       "      <th>2022-06-29</th>\n",
       "      <td>0.054169</td>\n",
       "      <td>-0.882437</td>\n",
       "      <td>-0.528091</td>\n",
       "      <td>-0.883944</td>\n",
       "      <td>-1.137674</td>\n",
       "      <td>-0.172812</td>\n",
       "      <td>-2.383567</td>\n",
       "      <td>0.464107</td>\n",
       "      <td>-0.765036</td>\n",
       "      <td>-0.898204</td>\n",
       "      <td>-0.891479</td>\n",
       "      <td>-0.881290</td>\n",
       "    </tr>\n",
       "  </tbody>\n",
       "</table>\n",
       "</div>"
      ],
      "text/plain": [
       "              retail  foreigner  institution  financial   invtrust   pension  \\\n",
       "2022-06-20  8.195577  11.920678    -3.647354   7.363196 -30.591457  0.344811   \n",
       "2022-06-21 -0.674957  -0.407361     2.593047   0.295068  -0.938927 -0.883900   \n",
       "2022-06-22 -0.226413  -0.166064    -0.135501   0.034853   3.990909  4.034743   \n",
       "2022-06-23 -0.115765  -0.743679    -1.316192  -1.102356  -0.227930  0.236304   \n",
       "2022-06-24 -1.523278   3.064922    -8.766880 -20.769609  -2.370714 -0.040771   \n",
       "2022-06-27  0.124675  -0.502665    -0.416763  -0.363348  -0.698910  0.104842   \n",
       "2022-06-28 -1.992439  -1.693703    -1.819204  -1.506061   2.833841  1.641951   \n",
       "2022-06-29  0.054169  -0.882437    -0.528091  -0.883944  -1.137674 -0.172812   \n",
       "\n",
       "            privequity      bank  insurance  financeetc  corporateetc  \\\n",
       "2022-06-20   23.893570 -2.813541   6.893887   -1.491670      1.854798   \n",
       "2022-06-21   -0.821502 -0.937576  -0.955874    0.062932     -0.814356   \n",
       "2022-06-22   -0.044910  1.406863   4.635762   -0.988289      1.836559   \n",
       "2022-06-23   -4.804075 -1.851324  -0.502350  -21.944444     -0.254890   \n",
       "2022-06-24   -0.727922  2.363636  -5.573790    2.116711     -2.381156   \n",
       "2022-06-27    2.208481  0.566145  -2.096283   -0.589787     -1.052159   \n",
       "2022-06-28   -0.618943 -0.727975  -2.511184    1.771784     14.149718   \n",
       "2022-06-29   -2.383567  0.464107  -0.765036   -0.898204     -0.891479   \n",
       "\n",
       "            foreigneretc  \n",
       "2022-06-20      0.914929  \n",
       "2022-06-21     -0.661150  \n",
       "2022-06-22     -1.530848  \n",
       "2022-06-23     -1.760291  \n",
       "2022-06-24     -1.818471  \n",
       "2022-06-27     -3.070039  \n",
       "2022-06-28     -2.456767  \n",
       "2022-06-29     -0.881290  "
      ]
     },
     "execution_count": 41,
     "metadata": {},
     "output_type": "execute_result"
    }
   ],
   "source": [
    "investor_rate"
   ]
  },
  {
   "cell_type": "code",
   "execution_count": 47,
   "id": "8904c451",
   "metadata": {},
   "outputs": [
    {
     "data": {
      "text/html": [
       "<div>\n",
       "<style scoped>\n",
       "    .dataframe tbody tr th:only-of-type {\n",
       "        vertical-align: middle;\n",
       "    }\n",
       "\n",
       "    .dataframe tbody tr th {\n",
       "        vertical-align: top;\n",
       "    }\n",
       "\n",
       "    .dataframe thead th {\n",
       "        text-align: right;\n",
       "    }\n",
       "</style>\n",
       "<table border=\"1\" class=\"dataframe\">\n",
       "  <thead>\n",
       "    <tr style=\"text-align: right;\">\n",
       "      <th></th>\n",
       "      <th>open</th>\n",
       "      <th>high</th>\n",
       "      <th>low</th>\n",
       "      <th>close</th>\n",
       "      <th>close_cr</th>\n",
       "      <th>vol</th>\n",
       "    </tr>\n",
       "  </thead>\n",
       "  <tbody>\n",
       "    <tr>\n",
       "      <th>2022-06-20</th>\n",
       "      <td>-0.030995</td>\n",
       "      <td>-0.030744</td>\n",
       "      <td>-0.018182</td>\n",
       "      <td>-0.018062</td>\n",
       "      <td>-6.484848</td>\n",
       "      <td>0.210613</td>\n",
       "    </tr>\n",
       "    <tr>\n",
       "      <th>2022-06-21</th>\n",
       "      <td>0.006734</td>\n",
       "      <td>0.0</td>\n",
       "      <td>-0.021886</td>\n",
       "      <td>-0.018395</td>\n",
       "      <td>0.016575</td>\n",
       "      <td>0.152747</td>\n",
       "    </tr>\n",
       "    <tr>\n",
       "      <th>2022-06-22</th>\n",
       "      <td>-0.018395</td>\n",
       "      <td>-0.011686</td>\n",
       "      <td>0.001721</td>\n",
       "      <td>-0.003407</td>\n",
       "      <td>-0.815217</td>\n",
       "      <td>-0.261422</td>\n",
       "    </tr>\n",
       "    <tr>\n",
       "      <th>2022-06-23</th>\n",
       "      <td>0.005111</td>\n",
       "      <td>-0.001689</td>\n",
       "      <td>-0.010309</td>\n",
       "      <td>-0.015385</td>\n",
       "      <td>3.529412</td>\n",
       "      <td>-0.077913</td>\n",
       "    </tr>\n",
       "    <tr>\n",
       "      <th>2022-06-24</th>\n",
       "      <td>-0.022034</td>\n",
       "      <td>-0.018613</td>\n",
       "      <td>-0.013889</td>\n",
       "      <td>-0.003472</td>\n",
       "      <td>-0.772727</td>\n",
       "      <td>0.196271</td>\n",
       "    </tr>\n",
       "    <tr>\n",
       "      <th>2022-06-27</th>\n",
       "      <td>0.003466</td>\n",
       "      <td>0.018966</td>\n",
       "      <td>0.015845</td>\n",
       "      <td>0.017422</td>\n",
       "      <td>-5.971429</td>\n",
       "      <td>-0.16455</td>\n",
       "    </tr>\n",
       "    <tr>\n",
       "      <th>2022-06-28</th>\n",
       "      <td>0.018998</td>\n",
       "      <td>0.013536</td>\n",
       "      <td>0.010399</td>\n",
       "      <td>0.006849</td>\n",
       "      <td>-0.609195</td>\n",
       "      <td>-0.211953</td>\n",
       "    </tr>\n",
       "    <tr>\n",
       "      <th>2022-06-29</th>\n",
       "      <td>0.00339</td>\n",
       "      <td>-0.006678</td>\n",
       "      <td>0.006861</td>\n",
       "      <td>0.010204</td>\n",
       "      <td>0.5</td>\n",
       "      <td>-0.253127</td>\n",
       "    </tr>\n",
       "  </tbody>\n",
       "</table>\n",
       "</div>"
      ],
      "text/plain": [
       "                open      high       low     close  close_cr       vol\n",
       "2022-06-20 -0.030995 -0.030744 -0.018182 -0.018062 -6.484848  0.210613\n",
       "2022-06-21  0.006734       0.0 -0.021886 -0.018395  0.016575  0.152747\n",
       "2022-06-22 -0.018395 -0.011686  0.001721 -0.003407 -0.815217 -0.261422\n",
       "2022-06-23  0.005111 -0.001689 -0.010309 -0.015385  3.529412 -0.077913\n",
       "2022-06-24 -0.022034 -0.018613 -0.013889 -0.003472 -0.772727  0.196271\n",
       "2022-06-27  0.003466  0.018966  0.015845  0.017422 -5.971429  -0.16455\n",
       "2022-06-28  0.018998  0.013536  0.010399  0.006849 -0.609195 -0.211953\n",
       "2022-06-29   0.00339 -0.006678  0.006861  0.010204       0.5 -0.253127"
      ]
     },
     "execution_count": 47,
     "metadata": {},
     "output_type": "execute_result"
    }
   ],
   "source": [
    "historical_rate"
   ]
  },
  {
   "cell_type": "code",
   "execution_count": null,
   "id": "9a960c91",
   "metadata": {
    "scrolled": true
   },
   "outputs": [],
   "source": [
    "aa = find_ratio(df_inv_comp, date_current)\n",
    "aaa = aa.iloc[[-1]]\n",
    "aaa"
   ]
  },
  {
   "cell_type": "code",
   "execution_count": null,
   "id": "dfd6bd73",
   "metadata": {},
   "outputs": [],
   "source": [
    "aa = find_ratio(df_inv_comp, date_current)\n",
    "bbb = aa.iloc[[-1]]\n",
    "bbb"
   ]
  },
  {
   "cell_type": "code",
   "execution_count": null,
   "id": "92424aa0",
   "metadata": {},
   "outputs": [],
   "source": [
    "pd.concat([aaa, bbb], axis=0)"
   ]
  },
  {
   "cell_type": "code",
   "execution_count": null,
   "id": "5c7558c2",
   "metadata": {},
   "outputs": [],
   "source": [
    "investor_rate = pd.DataFrame()\n",
    "investor_rate"
   ]
  },
  {
   "cell_type": "code",
   "execution_count": null,
   "id": "e20c893c",
   "metadata": {},
   "outputs": [],
   "source": [
    "pd.concat([investor_rate, bbb], axis=0)"
   ]
  },
  {
   "cell_type": "code",
   "execution_count": null,
   "id": "0aef0e7f",
   "metadata": {},
   "outputs": [],
   "source": [
    "aa1.iloc[-1]"
   ]
  },
  {
   "cell_type": "code",
   "execution_count": null,
   "id": "3fb371e7",
   "metadata": {},
   "outputs": [],
   "source": [
    "aa1"
   ]
  },
  {
   "cell_type": "code",
   "execution_count": null,
   "id": "fd9d3721",
   "metadata": {},
   "outputs": [],
   "source": [
    "df_o = pd.merge(df_o, aa, left_index=True, right_index=True, how='left')\n",
    "df_o"
   ]
  },
  {
   "cell_type": "code",
   "execution_count": null,
   "id": "6ab5fbd6",
   "metadata": {},
   "outputs": [],
   "source": [
    "bb1 = aa1.iloc[-1]"
   ]
  },
  {
   "cell_type": "code",
   "execution_count": null,
   "id": "52e0db20",
   "metadata": {},
   "outputs": [],
   "source": [
    "aa1.index[-1]"
   ]
  },
  {
   "cell_type": "code",
   "execution_count": null,
   "id": "f3c47c47",
   "metadata": {},
   "outputs": [],
   "source": [
    "df_o.loc[aa1.index[-1]] = bb1"
   ]
  },
  {
   "cell_type": "code",
   "execution_count": null,
   "id": "c8f32627",
   "metadata": {},
   "outputs": [],
   "source": [
    "df_o"
   ]
  },
  {
   "cell_type": "code",
   "execution_count": null,
   "id": "bc5c3c84",
   "metadata": {},
   "outputs": [],
   "source": [
    "bb = pd.concat([df_o, aa1], axis=0)\n",
    "bb"
   ]
  },
  {
   "cell_type": "code",
   "execution_count": null,
   "id": "118bf58d",
   "metadata": {},
   "outputs": [],
   "source": [
    "df_o.join(aa1, how='left')"
   ]
  },
  {
   "cell_type": "code",
   "execution_count": null,
   "id": "a5c1923a",
   "metadata": {},
   "outputs": [],
   "source": []
  },
  {
   "cell_type": "code",
   "execution_count": null,
   "id": "bab10df7",
   "metadata": {},
   "outputs": [],
   "source": [
    "type(df_o.index[0])"
   ]
  },
  {
   "cell_type": "code",
   "execution_count": null,
   "id": "fa78384b",
   "metadata": {},
   "outputs": [],
   "source": [
    "df_o.join(aa)"
   ]
  },
  {
   "cell_type": "code",
   "execution_count": null,
   "id": "91f51fd5",
   "metadata": {},
   "outputs": [],
   "source": [
    "bb = date_current.strftime('%Y-%m-%d')\n",
    "bb"
   ]
  },
  {
   "cell_type": "code",
   "execution_count": null,
   "id": "92cdcb72",
   "metadata": {},
   "outputs": [],
   "source": [
    "result4 = pd.con([df1,sr1], axis=1)"
   ]
  },
  {
   "cell_type": "code",
   "execution_count": null,
   "id": "c915f8b9",
   "metadata": {},
   "outputs": [],
   "source": [
    "df_sec_investors['date'][0]"
   ]
  },
  {
   "cell_type": "code",
   "execution_count": null,
   "id": "e7e0b6ae",
   "metadata": {},
   "outputs": [],
   "source": [
    "df_inv_trans = df_inv_comp.transpose()\n",
    "df_inv_trans.columns = ['before', 'after']\n",
    "df_inv_trans['perc'] = (df_inv_trans['after'] - df_inv_trans['before']) / df_inv_trans['before']\n",
    "df_inv = df_inv_trans.transpose()"
   ]
  },
  {
   "cell_type": "code",
   "execution_count": null,
   "id": "d367abed",
   "metadata": {},
   "outputs": [],
   "source": [
    "df_inv_trans['perc'] = (df_inv_trans['after'] - df_inv_trans['before']) / df_inv_trans['before']"
   ]
  },
  {
   "cell_type": "code",
   "execution_count": null,
   "id": "3ccbab53",
   "metadata": {},
   "outputs": [],
   "source": [
    "df_inv = df_inv_trans.transpose()"
   ]
  },
  {
   "cell_type": "code",
   "execution_count": null,
   "id": "3c99a71e",
   "metadata": {},
   "outputs": [],
   "source": []
  },
  {
   "cell_type": "code",
   "execution_count": null,
   "id": "42b7976b",
   "metadata": {},
   "outputs": [],
   "source": [
    "def calc_percent(x, y) :\n",
    "    return (y - x) / x"
   ]
  },
  {
   "cell_type": "code",
   "execution_count": null,
   "id": "b329fffc",
   "metadata": {},
   "outputs": [],
   "source": [
    "del df_nn\n",
    "df_nn = df_inv_trans"
   ]
  },
  {
   "cell_type": "code",
   "execution_count": null,
   "id": "d60806f7",
   "metadata": {},
   "outputs": [],
   "source": [
    "df_nn ['perc'] = (df_nn['after'] - df_nn['before']) / df_nn['before']"
   ]
  },
  {
   "cell_type": "code",
   "execution_count": null,
   "id": "07d817e4",
   "metadata": {},
   "outputs": [],
   "source": [
    "df_nn"
   ]
  },
  {
   "cell_type": "code",
   "execution_count": null,
   "id": "cbdb2172",
   "metadata": {},
   "outputs": [],
   "source": [
    "df_inv_trans.columns = ['before', 'after']"
   ]
  },
  {
   "cell_type": "code",
   "execution_count": null,
   "id": "e99db6cc",
   "metadata": {},
   "outputs": [],
   "source": [
    "df_inv_comp.apply()"
   ]
  },
  {
   "cell_type": "code",
   "execution_count": null,
   "id": "2428e287",
   "metadata": {},
   "outputs": [],
   "source": [
    "def calc_increment_percent(df_inv, df_his, date_current):\n",
    "    date_previous = find_previous_date(df_inv, df_his, date_current)\n",
    "    df_inv_comp = df_inv.loc[[date_previous, date_current]]\n",
    "    df_his_comp = df_his.loc[[date_previous, date_current]]\n",
    "    return inc"
   ]
  },
  {
   "cell_type": "code",
   "execution_count": null,
   "id": "308ded41",
   "metadata": {},
   "outputs": [],
   "source": [
    "date1 = datetime.datetime.strptime(df_sec.loc[0, 'date'], '%Y-%m-%d')\n",
    "# date1 = datetime.datetime.strptime('2022-06-16', '%Y-%m-%d')\n",
    "aa = find_previous_date(df_inv, df_his, date1)"
   ]
  },
  {
   "cell_type": "code",
   "execution_count": null,
   "id": "48df01a6",
   "metadata": {},
   "outputs": [],
   "source": [
    "aa"
   ]
  },
  {
   "cell_type": "code",
   "execution_count": null,
   "id": "27a31184",
   "metadata": {},
   "outputs": [],
   "source": [
    "date1 = datetime.datetime.strptime('2022-06-17', '%Y-%m-%d')\n",
    "bb = find_previous_date(df_inv, df_his, date1)\n",
    "bb"
   ]
  },
  {
   "cell_type": "code",
   "execution_count": null,
   "id": "97a19326",
   "metadata": {},
   "outputs": [],
   "source": []
  }
 ],
 "metadata": {
  "kernelspec": {
   "display_name": "Python 3 (ipykernel)",
   "language": "python",
   "name": "python3"
  },
  "language_info": {
   "codemirror_mode": {
    "name": "ipython",
    "version": 3
   },
   "file_extension": ".py",
   "mimetype": "text/x-python",
   "name": "python",
   "nbconvert_exporter": "python",
   "pygments_lexer": "ipython3",
   "version": "3.10.7"
  }
 },
 "nbformat": 4,
 "nbformat_minor": 5
}
