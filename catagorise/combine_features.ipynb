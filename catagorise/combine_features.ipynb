{
 "cells": [
  {
   "cell_type": "markdown",
   "id": "f051084f",
   "metadata": {},
   "source": [
    "### feature합치기\n",
    "#### investors, historical(매일 거래량 등) and 분류항목 합치기"
   ]
  },
  {
   "cell_type": "code",
   "execution_count": 1,
   "id": "b930a6de",
   "metadata": {},
   "outputs": [],
   "source": [
    "import datetime, time\n",
    "from datetime import date\n",
    "\n",
    "import pandas as pd\n",
    "import numpy as np\n",
    "\n",
    "from sklearn.preprocessing import StandardScaler"
   ]
  },
  {
   "cell_type": "code",
   "execution_count": 2,
   "id": "a1f53561",
   "metadata": {},
   "outputs": [],
   "source": [
    "code = {'005930': ['삼성전자', 'sec'], '005380': ['현대차', 'hyunmotor'],\n",
    "                 '035420': ['NAVER', 'naver'], '033780': ['KT&G', 'ktng']}\n",
    "# code = {'005930': ['삼성전자', 'sec']}"
   ]
  },
  {
   "cell_type": "code",
   "execution_count": 3,
   "id": "e7734db7",
   "metadata": {},
   "outputs": [],
   "source": [
    "pkl_directory = '../data/company_daily_price_pkl'\n",
    "pkl_directory = './'\n",
    "pkl_directory = '../data/company_pkl/'"
   ]
  },
  {
   "cell_type": "code",
   "execution_count": 4,
   "id": "784bf02a",
   "metadata": {},
   "outputs": [],
   "source": [
    "# investor.pkl, historical.pkl. 읽기\n",
    "for key, val in code.items():\n",
    "    pkl_name= '{}.pkl'.format(val[1])\n",
    "    globals()['df_{}'.format(val[1])] = pd.read_pickle('./' + pkl_name)\n",
    "    pkl_name= '{}_historical.pkl'.format(val[1])\n",
    "    globals()['df_{}_{}'.format(val[1], 'historical')] = pd.read_pickle(pkl_directory + pkl_name)\n",
    "    pkl_name= '{}_investors.pkl'.format(val[1])\n",
    "    globals()['df_{}_{}'.format(val[1], 'investors')] = pd.read_pickle(pkl_directory + pkl_name)"
   ]
  },
  {
   "cell_type": "code",
   "execution_count": 5,
   "id": "03f7032b",
   "metadata": {},
   "outputs": [],
   "source": [
    "# index column : date\n",
    "def find_previous_date(df_inv, df_his, date_current):\n",
    "    i = 0\n",
    "    date2 = 0\n",
    "    while True:\n",
    "        i += 1\n",
    "        date2 = date_current - datetime.timedelta(days = i)\n",
    "        if (df_inv.loc[date2]['retail'] != 0) & (df_his.loc[date2]['vol'] != '') :\n",
    "            break\n",
    "        if i >= 30:\n",
    "            break\n",
    "    return date2"
   ]
  },
  {
   "cell_type": "code",
   "execution_count": 6,
   "id": "94d15a7c",
   "metadata": {},
   "outputs": [],
   "source": [
    "df_inv = df_sec_investors.set_index('date')\n",
    "df_his = df_sec_historical.set_index('date')"
   ]
  },
  {
   "cell_type": "code",
   "execution_count": 7,
   "id": "577d0807",
   "metadata": {},
   "outputs": [],
   "source": [
    "date_currrent = datetime.datetime.strptime(df_sec.loc[0, 'date'], '%Y-%m-%d')\n",
    "date_previous = find_previous_date(df_inv, df_his, date_currrent)\n",
    "df_inv_comp = df_inv.loc[[date_previous, date_currrent]]\n",
    "df_his_comp = df_his.loc[[date_previous, date_currrent]]"
   ]
  },
  {
   "cell_type": "code",
   "execution_count": 8,
   "id": "abc9c006",
   "metadata": {},
   "outputs": [
    {
     "data": {
      "text/html": [
       "<div>\n",
       "<style scoped>\n",
       "    .dataframe tbody tr th:only-of-type {\n",
       "        vertical-align: middle;\n",
       "    }\n",
       "\n",
       "    .dataframe tbody tr th {\n",
       "        vertical-align: top;\n",
       "    }\n",
       "\n",
       "    .dataframe thead th {\n",
       "        text-align: right;\n",
       "    }\n",
       "</style>\n",
       "<table border=\"1\" class=\"dataframe\">\n",
       "  <thead>\n",
       "    <tr style=\"text-align: right;\">\n",
       "      <th></th>\n",
       "      <th>retail</th>\n",
       "      <th>foreigner</th>\n",
       "      <th>institution</th>\n",
       "      <th>financial</th>\n",
       "      <th>invtrust</th>\n",
       "      <th>pension</th>\n",
       "      <th>privequity</th>\n",
       "      <th>bank</th>\n",
       "      <th>insurance</th>\n",
       "      <th>financeetc</th>\n",
       "      <th>corporateetc</th>\n",
       "      <th>foreigneretc</th>\n",
       "    </tr>\n",
       "    <tr>\n",
       "      <th>date</th>\n",
       "      <th></th>\n",
       "      <th></th>\n",
       "      <th></th>\n",
       "      <th></th>\n",
       "      <th></th>\n",
       "      <th></th>\n",
       "      <th></th>\n",
       "      <th></th>\n",
       "      <th></th>\n",
       "      <th></th>\n",
       "      <th></th>\n",
       "      <th></th>\n",
       "    </tr>\n",
       "  </thead>\n",
       "  <tbody>\n",
       "    <tr>\n",
       "      <th>2022-06-17</th>\n",
       "      <td>387097.0</td>\n",
       "      <td>-438334.0</td>\n",
       "      <td>36417.0</td>\n",
       "      <td>105301.0</td>\n",
       "      <td>-27017.0</td>\n",
       "      <td>-28510.0</td>\n",
       "      <td>-11227.0</td>\n",
       "      <td>3268.0</td>\n",
       "      <td>-6844.0</td>\n",
       "      <td>1446.0</td>\n",
       "      <td>12524.0</td>\n",
       "      <td>2296.0</td>\n",
       "    </tr>\n",
       "    <tr>\n",
       "      <th>2022-06-20</th>\n",
       "      <td>125823.0</td>\n",
       "      <td>-259774.0</td>\n",
       "      <td>130848.0</td>\n",
       "      <td>136372.0</td>\n",
       "      <td>-1650.0</td>\n",
       "      <td>-3310.0</td>\n",
       "      <td>-2004.0</td>\n",
       "      <td>204.0</td>\n",
       "      <td>-302.0</td>\n",
       "      <td>1537.0</td>\n",
       "      <td>2325.0</td>\n",
       "      <td>778.0</td>\n",
       "    </tr>\n",
       "  </tbody>\n",
       "</table>\n",
       "</div>"
      ],
      "text/plain": [
       "              retail  foreigner  institution  financial  invtrust  pension  \\\n",
       "date                                                                         \n",
       "2022-06-17  387097.0  -438334.0      36417.0   105301.0  -27017.0 -28510.0   \n",
       "2022-06-20  125823.0  -259774.0     130848.0   136372.0   -1650.0  -3310.0   \n",
       "\n",
       "            privequity    bank  insurance  financeetc  corporateetc  \\\n",
       "date                                                                  \n",
       "2022-06-17    -11227.0  3268.0    -6844.0      1446.0       12524.0   \n",
       "2022-06-20     -2004.0   204.0     -302.0      1537.0        2325.0   \n",
       "\n",
       "            foreigneretc  \n",
       "date                      \n",
       "2022-06-17        2296.0  \n",
       "2022-06-20         778.0  "
      ]
     },
     "execution_count": 8,
     "metadata": {},
     "output_type": "execute_result"
    }
   ],
   "source": [
    "df_inv_comp"
   ]
  },
  {
   "cell_type": "code",
   "execution_count": null,
   "id": "ff09e5ef",
   "metadata": {},
   "outputs": [],
   "source": [
    "df_inv_trans = pd.DataFrame(df_inv_comp.values.T)\n",
    "df_inv_trans.columns = ['before', 'after']"
   ]
  },
  {
   "cell_type": "code",
   "execution_count": null,
   "id": "42b7976b",
   "metadata": {},
   "outputs": [],
   "source": [
    "def calc_percent(x, y) :\n",
    "    return (y - x) / x"
   ]
  },
  {
   "cell_type": "code",
   "execution_count": null,
   "id": "b329fffc",
   "metadata": {},
   "outputs": [],
   "source": [
    "del df_nn\n",
    "df_nn = df_inv_trans"
   ]
  },
  {
   "cell_type": "code",
   "execution_count": null,
   "id": "d60806f7",
   "metadata": {},
   "outputs": [],
   "source": [
    "df_nn ['perc'] = (df_nn['after'] - df_nn['before']) / df_nn['before']"
   ]
  },
  {
   "cell_type": "code",
   "execution_count": null,
   "id": "07d817e4",
   "metadata": {},
   "outputs": [],
   "source": [
    "df_nn"
   ]
  },
  {
   "cell_type": "code",
   "execution_count": null,
   "id": "cbdb2172",
   "metadata": {},
   "outputs": [],
   "source": [
    "df_inv_trans.columns = ['before', 'after']"
   ]
  },
  {
   "cell_type": "code",
   "execution_count": null,
   "id": "e99db6cc",
   "metadata": {},
   "outputs": [],
   "source": [
    "df_inv_comp.apply()"
   ]
  },
  {
   "cell_type": "code",
   "execution_count": null,
   "id": "2428e287",
   "metadata": {},
   "outputs": [],
   "source": [
    "def calc_increment_percent(df_inv, df_his, date_current):\n",
    "    date_previous = find_previous_date(df_inv, df_his, date_current)\n",
    "    df_inv_comp = df_inv.loc[[date_previous, date_current]]\n",
    "    df_his_comp = df_his.loc[[date_previous, date_current]]\n",
    "    return inc"
   ]
  },
  {
   "cell_type": "code",
   "execution_count": null,
   "id": "308ded41",
   "metadata": {},
   "outputs": [],
   "source": [
    "date1 = datetime.datetime.strptime(df_sec.loc[0, 'date'], '%Y-%m-%d')\n",
    "# date1 = datetime.datetime.strptime('2022-06-16', '%Y-%m-%d')\n",
    "aa = find_previous_date(df_inv, df_his, date1)"
   ]
  },
  {
   "cell_type": "code",
   "execution_count": null,
   "id": "48df01a6",
   "metadata": {},
   "outputs": [],
   "source": [
    "aa"
   ]
  },
  {
   "cell_type": "code",
   "execution_count": null,
   "id": "27a31184",
   "metadata": {},
   "outputs": [],
   "source": [
    "date1 = datetime.datetime.strptime('2022-06-17', '%Y-%m-%d')\n",
    "bb = find_previous_date(df_inv, df_his, date1)\n",
    "bb"
   ]
  },
  {
   "cell_type": "code",
   "execution_count": null,
   "id": "97a19326",
   "metadata": {},
   "outputs": [],
   "source": []
  }
 ],
 "metadata": {
  "kernelspec": {
   "display_name": "Python 3",
   "language": "python",
   "name": "python3"
  },
  "language_info": {
   "codemirror_mode": {
    "name": "ipython",
    "version": 3
   },
   "file_extension": ".py",
   "mimetype": "text/x-python",
   "name": "python",
   "nbconvert_exporter": "python",
   "pygments_lexer": "ipython3",
   "version": "3.9.1"
  }
 },
 "nbformat": 4,
 "nbformat_minor": 5
}
