{
 "cells": [
  {
   "cell_type": "markdown",
   "id": "f051084f",
   "metadata": {},
   "source": [
    "### feature합치기\n",
    "#### investors, historical(매일 거래량 등) and 분류항목 합치기"
   ]
  },
  {
   "cell_type": "code",
   "execution_count": 1,
   "id": "b930a6de",
   "metadata": {},
   "outputs": [],
   "source": [
    "import datetime, time\n",
    "from datetime import date\n",
    "\n",
    "import pandas as pd\n",
    "import numpy as np\n",
    "\n",
    "from sklearn.preprocessing import StandardScaler"
   ]
  },
  {
   "cell_type": "code",
   "execution_count": 2,
   "id": "03f7032b",
   "metadata": {},
   "outputs": [],
   "source": [
    "# index column : date\n",
    "def find_previous_date(df_inv, df_his, date_current): # 현재일에서 바로 직전 거래일을 찾음.\n",
    "    i = 0\n",
    "    date2 = 0\n",
    "    while True:\n",
    "        i += 1\n",
    "        date2 = date_current - datetime.timedelta(days = i)\n",
    "        if (df_inv.loc[date2]['retail'] != 0) & (df_his.loc[date2]['vol'] != '') :  \n",
    "            # investors와 historical 두 개 데이터에 같이 없어야 함\n",
    "            break\n",
    "        if i >= 30:  # 현재일 대비 최대 30일전까지 거래가 있을 경우 계산 (현실적으로 최대 10일 이상 폐장되는 경우 없음)\n",
    "            break\n",
    "    return date2"
   ]
  },
  {
   "cell_type": "code",
   "execution_count": 3,
   "id": "cf12fe6a",
   "metadata": {},
   "outputs": [],
   "source": [
    "# 거래일과 거래일 바로 이전일의 변화율을 계산함.\n",
    "def find_ratio(df_o, date_current):\n",
    "    df_o_trans = df_o.transpose()\n",
    "    df_o_trans.columns = ['before', 'after']\n",
    "    df_o_trans[date_current] = (df_o_trans['after'] - df_o_trans['before']) / df_o_trans['before']\n",
    "    return df_o_trans.transpose()"
   ]
  },
  {
   "cell_type": "code",
   "execution_count": 23,
   "id": "26f6c983",
   "metadata": {},
   "outputs": [],
   "source": [
    "# 변화율(historical, investors), weekday를 계산하고 합하여 return함\n",
    "def combine_data(df_o, df_inv, df_his):\n",
    "    # df_inv : df_investor, df_his: df_historical\n",
    "    investor_rate = pd.DataFrame()\n",
    "    historical_rate = pd.DataFrame()\n",
    "    date_weekday = pd.DataFrame()\n",
    "    \n",
    "    # 최초의 0이 아닌(최초 거래가 이루어진 일자) 날짜로 부터 일주일 후부터 기준.\n",
    "    # 최초 2일전까지의 날짜를 확보하기 위함. 현재일의 전날과 전전날의 이틀간 데이터 변화율 계산\n",
    "    for k, i in enumerate(df_inv.iloc[:, 1]):  \n",
    "        if i != 0: \n",
    "            skip_num = k + 8 \n",
    "            break\n",
    "            \n",
    "    for date_current in df_o.index[skip_num:]: # 최초 2일전까지의 날짜를 확보하기 위함. 현재일의 전날과 전전날의 이틀간 데이터 변화율 계산\n",
    "        date_previous = find_previous_date(df_inv, df_his, date_current)\n",
    "        # 거래 전날 요일 구하기\n",
    "        date_temp = {'date': date_current, 'weekday' : date_previous.weekday()}\n",
    "        df_temp = pd.DataFrame(date_temp, index=[0]).set_index('date')\n",
    "        date_weekday = pd.concat([date_weekday, df_temp], axis=0)\n",
    "        date_previous_1 = find_previous_date(df_inv, df_his, date_previous)\n",
    "        # 거래 전날, 전전날을 확인하고 변화정도 계산하기(find_ratio)\n",
    "        df_inv_comp = df_inv.loc[[date_previous_1, date_previous]]\n",
    "        df_his_comp = df_his.loc[[date_previous_1, date_previous]]\n",
    "        investor_rate = pd.concat([investor_rate, find_ratio(df_inv_comp, date_current).iloc[[-1]]], axis=0)\n",
    "        historical_rate = pd.concat([historical_rate, find_ratio(df_his_comp, date_current).iloc[[-1]]], axis=0)\n",
    "    total = pd.concat([investor_rate, historical_rate, date_weekday, df_o ], axis=1)\n",
    "    return total"
   ]
  },
  {
   "cell_type": "code",
   "execution_count": 5,
   "id": "a1f53561",
   "metadata": {},
   "outputs": [],
   "source": [
    "code = {'005930': ['삼성전자', 'sec'], '005380': ['현대차', 'hyunmotor'],\n",
    "                 '035420': ['NAVER', 'naver'], '033780': ['KT&G', 'ktng']}\n",
    "# code = {'005930': ['삼성전자', 'sec']}\n",
    "\n",
    "code = {'005930' : ['삼성전자', 'sec'], '373220' : ['LG에너지솔루션', 'lgenergy'], \n",
    "        '000660' : ['SK하이닉스', 'skhinix'], '207940' : ['삼성바이오로직스', 'ssbio'],\n",
    "        '006400' : ['삼성SDI', 'sdi'], '051910' : ['LG화학', 'lgchemical'],\n",
    "        '005935' : ['삼성전자우', 'secpre'], '005380' : ['현대차', 'hyunmotor'],\n",
    "        '035420' : ['NAVER', 'naver'], '000270' : ['기아','kia'],\n",
    "        '035720' : ['카카오', 'kakao'], '005490' : ['POSCO홀딩스', 'poscoholding'],\n",
    "        '105560' : ['KB금융', 'kbbank'], '028260' : ['삼성물산', 'sscnt'],\n",
    "        '068270' : ['셀트리온', 'celltrion'], '012330' : ['현대모비스', 'mobis'],\n",
    "        '055550' : ['신한지주', 'shgroup'], '066570' : ['LG전자', 'lgelec'],\n",
    "        '003670' : ['포스코케미칼', 'poscochemical'], '096770' : ['SK이노베이션', 'skinnovation'],\n",
    "        '033780' : ['KT&G', 'ktng']}"
   ]
  },
  {
   "cell_type": "code",
   "execution_count": 6,
   "id": "587a0f91",
   "metadata": {},
   "outputs": [],
   "source": [
    "hist_column = [ 'date', 'open', 'high', 'low', 'close', 'close_cr', 'vol']\n",
    "hist_column_m = [ 'date', 'open', 'high', 'low', 'close', 'vol'] # close_cr 제외하고 사용. divided by zero 회피용\n",
    "inv_column = ['date', 'retail', 'foreigner', 'institution', 'financial', 'invtrust', 'pension', 'privequity',\n",
    "              'bank', 'insurance', 'financeetc', 'corporateetc', 'foreigneretc']"
   ]
  },
  {
   "cell_type": "code",
   "execution_count": 24,
   "id": "6f8615f8",
   "metadata": {},
   "outputs": [],
   "source": [
    "# investor.pkl, historical.pkl. 읽기\n",
    "\n",
    "# ****************************************************************************************************\n",
    "## 주요: 오늘날짜로 데이터를 분석하고자 하면 pkl directory 내의 .pkl 데이터가 오늘 날짜로 모두 update시켜 놓아야 함.\n",
    "##   C:\\jupyter연습\\factors_affecting_stock_price' 디렉토리에 이쓴\n",
    "#    'get_company_daily_price_since_last_update_to_pickle.ipynb' 과 (historical.pkl과 investors.pkl update 프로그램)\n",
    "#     'get_common_data_since_last_update_to_pickle (미국, 한국 주요 지표 등 update용)\n",
    "# ****************************************************************************************************\n",
    "directory_for_ml = '../data/data_for_ml/'\n",
    "pkl_directory = '../data/company_pkl/'\n",
    "\n",
    "# 전체 column을 선정하여, 분석시에 선별하여 사용하도록 함.\n",
    "column_selected = ['retail', 'foreigner', 'institution', 'financial', 'invtrust', 'pension', 'privequity',\n",
    "              'bank', 'insurance', 'financeetc', 'corporateetc', 'foreigneretc',\n",
    "              'open', 'high', 'low', 'close', 'vol','weekday', 'value' ]\n",
    "\n",
    "for key, val in code.items():\n",
    "    pkl_name= '{}{}_4class.pkl'.format(directory_for_ml, val[1])\n",
    "    df_class_temp = pd.read_pickle(pkl_name)\n",
    "    df_class_temp['date'] = pd.to_datetime(df_class_temp['date']) #change to timestamp\n",
    "    df_class_temp['date'] = df_class_temp['date'].dt.date  # change to datetime\n",
    "    \n",
    "    pkl_name= '{}_historical.pkl'.format(val[1])\n",
    "    df_historical_temp = pd.read_pickle(pkl_directory + pkl_name)\n",
    "    df_historical_temp = df_historical_temp[hist_column_m]\n",
    "    # close_cr 행을 없앰(변동이 없는 경우가 빌생하여 divided zero error 발생), close_cr은 target column에서 사용\n",
    "    df_historical_temp['date'] = df_historical_temp['date'].dt.date # change to datetime\n",
    "    \n",
    "    pkl_name= '{}_investors.pkl'.format(val[1])\n",
    "    df_investors_temp = pd.read_pickle(pkl_directory + pkl_name)\n",
    "    df_investors_temp['date'] = df_investors_temp['date'].dt.date # change to datetime\n",
    "    \n",
    "    # get combined data (eg. df_sec_combined, df_ktng_combined...)\n",
    "    df_combinde_temp = combine_data(df_class_temp.set_index('date'), df_investors_temp.set_index('date'),\n",
    "                                    df_historical_temp.set_index('date'))\n",
    "    \n",
    "    globals()['df_{}_{}'.format(val[1], 'combined')] = df_combinde_temp.copy()\n",
    "    globals()['df_{}_{}'.format(val[1], 'sel')] = df_combinde_temp[column_selected]"
   ]
  },
  {
   "cell_type": "code",
   "execution_count": null,
   "id": "fdf45e34",
   "metadata": {},
   "outputs": [],
   "source": [
    "'''\n",
    "# 전체 column을 선정하여, 분석시에 선별하여 사용하도록 함.\n",
    "column_selected = ['retail', 'foreigner', 'institution', 'financial', 'invtrust', 'pension', 'privequity',\n",
    "              'bank', 'insurance', 'financeetc', 'corporateetc', 'foreigneretc',\n",
    "              'open', 'high', 'low', 'close', 'vol','weekday', 'value' ]\n",
    "'''"
   ]
  },
  {
   "cell_type": "markdown",
   "id": "1da712d0",
   "metadata": {},
   "source": [
    "## 주요 지표 읽기"
   ]
  },
  {
   "cell_type": "markdown",
   "id": "d4f903c8",
   "metadata": {},
   "source": [
    "### Read and Combine data "
   ]
  },
  {
   "cell_type": "code",
   "execution_count": null,
   "id": "186962af",
   "metadata": {},
   "outputs": [],
   "source": [
    "# common_pkl = [\"bok_rate.pkl\", \"cpi.pkl\", \"dji.pkl\", \"dji_future.pkl\", \"dxy_future.pkl\", \n",
    "#               \"fear_greed.pkl\", \"fed_rate.pkl\", \"gold.pkl\", \"ixic_future.pkl\", \"kor_10yr_bond.pkl\",\n",
    "#               \"kor_2yr_bond.pkl\", \"kosdaq.pkl\", \"kospi.pkl\", \"krw_rate.pkl\", \"nas.pkl\",\n",
    "#               \"snp_future.pkl\", \"sox.pkl\", \"spx.pkl\", \"us_10yr_bond.pkl\", \"us_2yr_bond.pkl\",\n",
    "#               \"us_3mon_bond.pkl\", \"vix.pkl\", \"wti_future.pkl\"]"
   ]
  },
  {
   "cell_type": "code",
   "execution_count": 25,
   "id": "187ec9c3",
   "metadata": {},
   "outputs": [],
   "source": [
    "# 매일 변화가 있는 항목 추출; 금리변동과 같이 주기적을 발생하는 항목들(cpi, bok_rate, fed_rate 등)은 제외\n",
    "common_pkl = [ \"dji.pkl\", \"dji_future.pkl\", \"dxy_future.pkl\", \n",
    "               \"ixic_future.pkl\", \"kor_10yr_bond.pkl\",\n",
    "              \"kor_2yr_bond.pkl\", \"kosdaq.pkl\", \"kospi.pkl\", \"krw_rate.pkl\", \"nas.pkl\",\n",
    "              \"snp_future.pkl\", \"sox.pkl\", \"spx.pkl\", \"us_10yr_bond.pkl\", \"us_2yr_bond.pkl\",\n",
    "              \"us_3mon_bond.pkl\", \"vix.pkl\", \"wti_future.pkl\"]"
   ]
  },
  {
   "cell_type": "code",
   "execution_count": 26,
   "id": "8fe4e838",
   "metadata": {},
   "outputs": [],
   "source": [
    "end_date = datetime.datetime.today().date()\n",
    "start_date = '20220101'  # 2022년 01월 01일 자료 있음. 추후 이전날짜 추가시 수정 필요\n",
    "date_range_ts = pd.date_range(start=start_date, end=end_date)"
   ]
  },
  {
   "cell_type": "code",
   "execution_count": 27,
   "id": "ab23266a",
   "metadata": {},
   "outputs": [],
   "source": [
    "pkl_common_directory = '../data/common_pkl/'\n",
    "df_base = pd.DataFrame(pd.Series(date_range_ts, name='date')).set_index('date')\n",
    "# for index_name in major_index:\n",
    "for index_name in common_pkl:\n",
    "    key_name = index_name[:-4]\n",
    "#     globals()['df_{}'.format(key_name)] = pd.read_pickle(pkl_common_directory + index_name)\n",
    "#     df_base = df_base.merge(globals()['df_{}'.format(key_name)].set_index('date').iloc[:, [-1]], \\\n",
    "#                             how='left', left_index=True, right_index=True)\n",
    "    df_temp = pd.read_pickle(pkl_common_directory + index_name)\n",
    "    df_base = df_base.merge(df_temp.set_index('date').iloc[:, [-1]], \\\n",
    "                            how='left', left_index=True, right_index=True)"
   ]
  },
  {
   "cell_type": "code",
   "execution_count": 28,
   "id": "2162e56c",
   "metadata": {},
   "outputs": [
    {
     "data": {
      "text/html": [
       "<div>\n",
       "<style scoped>\n",
       "    .dataframe tbody tr th:only-of-type {\n",
       "        vertical-align: middle;\n",
       "    }\n",
       "\n",
       "    .dataframe tbody tr th {\n",
       "        vertical-align: top;\n",
       "    }\n",
       "\n",
       "    .dataframe thead th {\n",
       "        text-align: right;\n",
       "    }\n",
       "</style>\n",
       "<table border=\"1\" class=\"dataframe\">\n",
       "  <thead>\n",
       "    <tr style=\"text-align: right;\">\n",
       "      <th></th>\n",
       "      <th>dji_cr</th>\n",
       "      <th>dji_f_cr</th>\n",
       "      <th>dxy_cr</th>\n",
       "      <th>ixic_f_cr</th>\n",
       "      <th>bond_kor_10_cr</th>\n",
       "      <th>bond_kor_2_cr</th>\n",
       "      <th>kosdaq_cr</th>\n",
       "      <th>kospi_cr</th>\n",
       "      <th>krw_cr</th>\n",
       "      <th>ixic_cr</th>\n",
       "      <th>spx_f_cr</th>\n",
       "      <th>sox_cr</th>\n",
       "      <th>spx_cr</th>\n",
       "      <th>bond_usa_10_cr</th>\n",
       "      <th>bond_usa_2_cr</th>\n",
       "      <th>bond_usa_3m_cr</th>\n",
       "      <th>vix_cr</th>\n",
       "      <th>wti_cr</th>\n",
       "    </tr>\n",
       "    <tr>\n",
       "      <th>date</th>\n",
       "      <th></th>\n",
       "      <th></th>\n",
       "      <th></th>\n",
       "      <th></th>\n",
       "      <th></th>\n",
       "      <th></th>\n",
       "      <th></th>\n",
       "      <th></th>\n",
       "      <th></th>\n",
       "      <th></th>\n",
       "      <th></th>\n",
       "      <th></th>\n",
       "      <th></th>\n",
       "      <th></th>\n",
       "      <th></th>\n",
       "      <th></th>\n",
       "      <th></th>\n",
       "      <th></th>\n",
       "    </tr>\n",
       "  </thead>\n",
       "  <tbody>\n",
       "    <tr>\n",
       "      <th>2023-02-27</th>\n",
       "      <td>+0.22%</td>\n",
       "      <td>+0.25%</td>\n",
       "      <td>-0.51%</td>\n",
       "      <td>+0.72%</td>\n",
       "      <td>+2.50%</td>\n",
       "      <td>+3.62%</td>\n",
       "      <td>+0.18%</td>\n",
       "      <td>-0.87%</td>\n",
       "      <td>+0.22%</td>\n",
       "      <td>+0.63%</td>\n",
       "      <td>+0.31%</td>\n",
       "      <td>+0.55%</td>\n",
       "      <td>+0.31%</td>\n",
       "      <td>-0.34%</td>\n",
       "      <td>-0.52%</td>\n",
       "      <td>-0.65%</td>\n",
       "      <td>-3.32%</td>\n",
       "      <td>-1.27%</td>\n",
       "    </tr>\n",
       "    <tr>\n",
       "      <th>2023-02-28</th>\n",
       "      <td>-0.71%</td>\n",
       "      <td>-0.69%</td>\n",
       "      <td>0.19%</td>\n",
       "      <td>-0.09%</td>\n",
       "      <td>+3.96%</td>\n",
       "      <td>+3.07%</td>\n",
       "      <td>+1.45%</td>\n",
       "      <td>+0.42%</td>\n",
       "      <td>+0.43%</td>\n",
       "      <td>-0.10%</td>\n",
       "      <td>-0.31%</td>\n",
       "      <td>+0.24%</td>\n",
       "      <td>-0.30%</td>\n",
       "      <td>+0.15%</td>\n",
       "      <td>+0.74%</td>\n",
       "      <td>+1.10%</td>\n",
       "      <td>-1.19%</td>\n",
       "      <td>+1.81%</td>\n",
       "    </tr>\n",
       "    <tr>\n",
       "      <th>2023-03-01</th>\n",
       "      <td>+0.02%</td>\n",
       "      <td>+0.03%</td>\n",
       "      <td>-0.37%</td>\n",
       "      <td>-0.92%</td>\n",
       "      <td>+0.24%</td>\n",
       "      <td>+0.03%</td>\n",
       "      <td>NaN</td>\n",
       "      <td>NaN</td>\n",
       "      <td>-1.33%</td>\n",
       "      <td>-0.66%</td>\n",
       "      <td>-0.48%</td>\n",
       "      <td>-0.09%</td>\n",
       "      <td>-0.47%</td>\n",
       "      <td>+1.70%</td>\n",
       "      <td>+1.26%</td>\n",
       "      <td>+0.21%</td>\n",
       "      <td>-0.58%</td>\n",
       "      <td>+0.83%</td>\n",
       "    </tr>\n",
       "    <tr>\n",
       "      <th>2023-03-02</th>\n",
       "      <td>+1.05%</td>\n",
       "      <td>+0.99%</td>\n",
       "      <td>0.54%</td>\n",
       "      <td>+0.84%</td>\n",
       "      <td>+2.13%</td>\n",
       "      <td>+2.08%</td>\n",
       "      <td>-0.56%</td>\n",
       "      <td>+0.62%</td>\n",
       "      <td>+0.43%</td>\n",
       "      <td>+0.73%</td>\n",
       "      <td>+0.71%</td>\n",
       "      <td>+0.96%</td>\n",
       "      <td>+0.76%</td>\n",
       "      <td>+1.68%</td>\n",
       "      <td>+0.31%</td>\n",
       "      <td>+0.04%</td>\n",
       "      <td>-4.81%</td>\n",
       "      <td>+0.60%</td>\n",
       "    </tr>\n",
       "    <tr>\n",
       "      <th>2023-03-03</th>\n",
       "      <td>NaN</td>\n",
       "      <td>-0.07%</td>\n",
       "      <td>-0.15%</td>\n",
       "      <td>-0.21%</td>\n",
       "      <td>+1.28%</td>\n",
       "      <td>-2.16%</td>\n",
       "      <td>+1.15%</td>\n",
       "      <td>+0.19%</td>\n",
       "      <td>-0.48%</td>\n",
       "      <td>NaN</td>\n",
       "      <td>-0.14%</td>\n",
       "      <td>NaN</td>\n",
       "      <td>NaN</td>\n",
       "      <td>-0.15%</td>\n",
       "      <td>NaN</td>\n",
       "      <td>-0.01%</td>\n",
       "      <td>0.00%</td>\n",
       "      <td>-0.36%</td>\n",
       "    </tr>\n",
       "  </tbody>\n",
       "</table>\n",
       "</div>"
      ],
      "text/plain": [
       "            dji_cr dji_f_cr  dxy_cr ixic_f_cr bond_kor_10_cr bond_kor_2_cr  \\\n",
       "date                                                                         \n",
       "2023-02-27  +0.22%   +0.25%  -0.51%    +0.72%         +2.50%        +3.62%   \n",
       "2023-02-28  -0.71%   -0.69%   0.19%    -0.09%         +3.96%        +3.07%   \n",
       "2023-03-01  +0.02%   +0.03%  -0.37%    -0.92%         +0.24%        +0.03%   \n",
       "2023-03-02  +1.05%   +0.99%   0.54%    +0.84%         +2.13%        +2.08%   \n",
       "2023-03-03     NaN   -0.07%  -0.15%    -0.21%         +1.28%        -2.16%   \n",
       "\n",
       "           kosdaq_cr kospi_cr  krw_cr ixic_cr spx_f_cr  sox_cr  spx_cr  \\\n",
       "date                                                                     \n",
       "2023-02-27    +0.18%   -0.87%  +0.22%  +0.63%   +0.31%  +0.55%  +0.31%   \n",
       "2023-02-28    +1.45%   +0.42%  +0.43%  -0.10%   -0.31%  +0.24%  -0.30%   \n",
       "2023-03-01       NaN      NaN  -1.33%  -0.66%   -0.48%  -0.09%  -0.47%   \n",
       "2023-03-02    -0.56%   +0.62%  +0.43%  +0.73%   +0.71%  +0.96%  +0.76%   \n",
       "2023-03-03    +1.15%   +0.19%  -0.48%     NaN   -0.14%     NaN     NaN   \n",
       "\n",
       "           bond_usa_10_cr bond_usa_2_cr bond_usa_3m_cr  vix_cr  wti_cr  \n",
       "date                                                                    \n",
       "2023-02-27         -0.34%        -0.52%         -0.65%  -3.32%  -1.27%  \n",
       "2023-02-28         +0.15%        +0.74%         +1.10%  -1.19%  +1.81%  \n",
       "2023-03-01         +1.70%        +1.26%         +0.21%  -0.58%  +0.83%  \n",
       "2023-03-02         +1.68%        +0.31%         +0.04%  -4.81%  +0.60%  \n",
       "2023-03-03         -0.15%           NaN         -0.01%   0.00%  -0.36%  "
      ]
     },
     "execution_count": 28,
     "metadata": {},
     "output_type": "execute_result"
    }
   ],
   "source": [
    "df_base.tail()"
   ]
  },
  {
   "cell_type": "markdown",
   "id": "6dada573",
   "metadata": {},
   "source": [
    "#### combine with 'df_xxx_combined'"
   ]
  },
  {
   "cell_type": "code",
   "execution_count": null,
   "id": "2328fa35",
   "metadata": {},
   "outputs": [],
   "source": [
    "'''\n",
    "df_sec_sel = df_sec_combined[column_selected]\n",
    "df_hyunmotor_sel = df_hyunmotor_combined[column_selected]\n",
    "df_naver_sel = df_naver_combined[column_selected]\n",
    "df_ktng_sel = df_ktng_combined[column_selected]\n",
    "'''"
   ]
  },
  {
   "cell_type": "code",
   "execution_count": 29,
   "id": "82d5ae58",
   "metadata": {},
   "outputs": [],
   "source": [
    "for key, val in code.items():\n",
    "    globals()['df_{}_sel'.format(val[1])] \\\n",
    "    = globals()['df_{}_sel'.format(val[1])].merge(df_base, how='left', left_index=True, right_index=True)"
   ]
  },
  {
   "cell_type": "code",
   "execution_count": null,
   "id": "78a099ea",
   "metadata": {},
   "outputs": [],
   "source": [
    "'''\n",
    "df_sec_sel = df_sec_sel.merge(df_base, how='left', left_index=True, right_index=True)\n",
    "df_hyunmotor_sel = df_hyunmotor_sel.merge(df_base, how='left', left_index=True, right_index=True)\n",
    "df_naver_sel = df_naver_sel.merge(df_base, how='left', left_index=True, right_index=True)\n",
    "df_ktng_sel = df_ktng_sel.merge(df_base, how='left', left_index=True, right_index=True)\n",
    "'''"
   ]
  },
  {
   "cell_type": "code",
   "execution_count": 30,
   "id": "32d7df4d",
   "metadata": {},
   "outputs": [],
   "source": [
    "# 'close_cr' column 추가\n",
    "pkl_d = '../data/company_pkl/'\n",
    "for key, val in code.items():\n",
    "    pkl_name= '{}_historical.pkl'.format(val[1])\n",
    "#     df = pd.read_pickle(pkl_d + pkl_name).set_index('date')[['close_cr']]\n",
    "    df = pd.read_pickle(pkl_d + pkl_name).set_index('date')\n",
    "    df = df.apply(pd.to_numeric) \n",
    "    min_rate = 0.005 # 수수료등 비용 0.2672%\n",
    "    df['close_cr_5'] = df['close_cr'].map(lambda x : 0 if x <= min_rate else ( 1 if x > min_rate  else  \"\" ))\n",
    "    # 전일대비 +min_rate 이상이면 1, 이하이면  0으로 변환  \n",
    "    df['r_open_high'] = (df['high'] - df['open'])/df['open'] # 시작가격 이후에 최고가가 min_rate 이상이면 1, 아니면 0\n",
    "    df['r_open_high_5'] = df['r_open_high'].map(lambda x : 0 if x < min_rate else ( 1 if x >= min_rate  else  \"\" ))\n",
    "    \n",
    "    min_rate = 0.01 # 수수료등 비용 0.2672%\n",
    "    df['close_cr_1'] = df['close_cr'].map(lambda x : 0 if x <= min_rate else ( 1 if x > min_rate  else  \"\" ))\n",
    "    # 전일대비 +min_rate 이상이면 1, 이하이면  0으로 변환  \n",
    "    df['r_open_high_1'] = df['r_open_high'].map(lambda x : 0 if x < min_rate else ( 1 if x >= min_rate  else  \"\" ))\n",
    "    df =  df[['close_cr_5', 'r_open_high_5', 'close_cr_1', 'r_open_high_1']]\n",
    "#     # # 시작가이후에 최고가가 나오는지 high가 양수면 1, 음수면 0\n",
    "    globals()['df_{}_sel'.format(val[1])] \\\n",
    "    = globals()['df_{}_sel'.format(val[1])].merge(df, how='left', left_index=True, right_index=True)"
   ]
  },
  {
   "cell_type": "code",
   "execution_count": 31,
   "id": "2263ca52",
   "metadata": {},
   "outputs": [
    {
     "data": {
      "text/html": [
       "<div>\n",
       "<style scoped>\n",
       "    .dataframe tbody tr th:only-of-type {\n",
       "        vertical-align: middle;\n",
       "    }\n",
       "\n",
       "    .dataframe tbody tr th {\n",
       "        vertical-align: top;\n",
       "    }\n",
       "\n",
       "    .dataframe thead th {\n",
       "        text-align: right;\n",
       "    }\n",
       "</style>\n",
       "<table border=\"1\" class=\"dataframe\">\n",
       "  <thead>\n",
       "    <tr style=\"text-align: right;\">\n",
       "      <th></th>\n",
       "      <th>date</th>\n",
       "      <th>open</th>\n",
       "      <th>high</th>\n",
       "      <th>low</th>\n",
       "      <th>close</th>\n",
       "      <th>close_cr</th>\n",
       "      <th>vol</th>\n",
       "    </tr>\n",
       "  </thead>\n",
       "  <tbody>\n",
       "    <tr>\n",
       "      <th>0</th>\n",
       "      <td>2020-01-01</td>\n",
       "      <td></td>\n",
       "      <td></td>\n",
       "      <td></td>\n",
       "      <td></td>\n",
       "      <td></td>\n",
       "      <td></td>\n",
       "    </tr>\n",
       "    <tr>\n",
       "      <th>1</th>\n",
       "      <td>2020-01-02</td>\n",
       "      <td>93800.0</td>\n",
       "      <td>93900.0</td>\n",
       "      <td>92400.0</td>\n",
       "      <td>92500.0</td>\n",
       "      <td>-1.39</td>\n",
       "      <td>41620.0</td>\n",
       "    </tr>\n",
       "    <tr>\n",
       "      <th>2</th>\n",
       "      <td>2020-01-03</td>\n",
       "      <td>92500.0</td>\n",
       "      <td>93200.0</td>\n",
       "      <td>92500.0</td>\n",
       "      <td>92500.0</td>\n",
       "      <td>0.0</td>\n",
       "      <td>31176.0</td>\n",
       "    </tr>\n",
       "    <tr>\n",
       "      <th>3</th>\n",
       "      <td>2020-01-04</td>\n",
       "      <td></td>\n",
       "      <td></td>\n",
       "      <td></td>\n",
       "      <td></td>\n",
       "      <td></td>\n",
       "      <td></td>\n",
       "    </tr>\n",
       "    <tr>\n",
       "      <th>4</th>\n",
       "      <td>2020-01-05</td>\n",
       "      <td></td>\n",
       "      <td></td>\n",
       "      <td></td>\n",
       "      <td></td>\n",
       "      <td></td>\n",
       "      <td></td>\n",
       "    </tr>\n",
       "  </tbody>\n",
       "</table>\n",
       "</div>"
      ],
      "text/plain": [
       "        date     open     high      low    close close_cr      vol\n",
       "0 2020-01-01                                                      \n",
       "1 2020-01-02  93800.0  93900.0  92400.0  92500.0    -1.39  41620.0\n",
       "2 2020-01-03  92500.0  93200.0  92500.0  92500.0      0.0  31176.0\n",
       "3 2020-01-04                                                      \n",
       "4 2020-01-05                                                      "
      ]
     },
     "execution_count": 31,
     "metadata": {},
     "output_type": "execute_result"
    }
   ],
   "source": [
    "pd.read_pickle(pkl_d + pkl_name).head()"
   ]
  },
  {
   "cell_type": "code",
   "execution_count": 32,
   "id": "d1daba35",
   "metadata": {},
   "outputs": [],
   "source": [
    "# new_columns = ['retail', 'foreigner', 'institution', 'financial', 'invtrust', 'pension', 'privequity', 'open',\n",
    "#   'high', 'low', 'close', 'vol', 'dji_cr', 'ixic_cr', 'spx_cr', 'kosdaq_cr', 'kospi_cr', 'weekday', 'value', 'close_cr']\n",
    "\n",
    "# 전체 column을 선정하여, 분석시에 선별하여 사용하도록 함.\n",
    "new_columns = ['retail', 'foreigner', 'institution', 'financial', 'invtrust',\n",
    "                'pension', 'privequity', 'bank', 'insurance', 'financeetc',\n",
    "                'corporateetc', 'foreigneretc', 'open', 'high', 'low', 'close', 'vol',\n",
    "                'dji_cr', 'dji_f_cr', 'ixic_cr', 'ixic_f_cr', 'spx_cr', 'spx_f_cr',\n",
    "                'bond_kor_10_cr', 'bond_kor_2_cr', 'dxy_cr', 'bond_usa_10_cr','bond_usa_2_cr', 'bond_usa_3m_cr',\n",
    "                'kosdaq_cr', 'kospi_cr', 'krw_cr',\n",
    "                'sox_cr', 'vix_cr', 'wti_cr', \n",
    "                'weekday', 'value', 'close_cr_5', 'r_open_high_5', 'close_cr_1', 'r_open_high_1']"
   ]
  },
  {
   "cell_type": "code",
   "execution_count": null,
   "id": "639328e1",
   "metadata": {},
   "outputs": [],
   "source": [
    "'''\n",
    "# column 순서 변경 : weekday, value column을 마지막으로 이동 \n",
    "df_sec_sel =  df_sec_sel[new_columns]\n",
    "df_hyunmotor_sel =  df_hyunmotor_sel[new_columns]\n",
    "df_naver_sel =  df_naver_sel[new_columns]\n",
    "df_ktng_sel =  df_ktng_sel[new_columns]\n",
    "'''"
   ]
  },
  {
   "cell_type": "code",
   "execution_count": 33,
   "id": "02da1256",
   "metadata": {},
   "outputs": [],
   "source": [
    "# column 순서 변경 : weekday, value, 'close_cr_5', 'r_open_high_5', 'close_cr_1', 'r_open_high_1' column을 마지막으로 이동 \n",
    "for key, val in code.items():\n",
    "    globals()['df_{}_sel'.format(val[1])] = globals()['df_{}_sel'.format(val[1])][new_columns]"
   ]
  },
  {
   "cell_type": "code",
   "execution_count": null,
   "id": "d4f1fa06",
   "metadata": {},
   "outputs": [],
   "source": [
    "'''\n",
    "# drop inf, -inf : replace inf to 1 or -1 . 데이터를 살리고\n",
    "# 변동률이 무한대가 되는 것을 방지하기 위해서, 나중에 발생하는 에러를 방지\n",
    "df_sec_sel.replace([np.inf, -np.inf], [1, -1], inplace=True)\n",
    "df_hyunmotor_sel.replace([np.inf, -np.inf], [1, -1], inplace=True)\n",
    "df_naver_sel.replace([np.inf, -np.inf], [1, -1], inplace=True)\n",
    "df_ktng_sel.replace([np.inf, -np.inf], [1, -1], inplace=True)\n",
    "'''"
   ]
  },
  {
   "cell_type": "code",
   "execution_count": 34,
   "id": "7e91c1c5",
   "metadata": {},
   "outputs": [],
   "source": [
    "# drop inf, -inf : replace inf to 1 or -1 . 데이터를 살리고\n",
    "# 변동률이 무한대가 되는 것을 방지하기 위해서, 나중에 발생하는 에러를 방지\n",
    "for key, val in code.items():\n",
    "    globals()['df_{}_sel'.format(val[1])].replace([np.inf, -np.inf], [1, -1], inplace=True)"
   ]
  },
  {
   "cell_type": "code",
   "execution_count": 35,
   "id": "ec3975e6",
   "metadata": {},
   "outputs": [],
   "source": [
    "# delete rows which include NaN : dji, spx, nasdaq 지수가 nan인 rows 제거\n",
    "df_sec_sel.dropna(inplace=True)\n",
    "df_hyunmotor_sel.dropna(inplace=True)\n",
    "df_naver_sel.dropna(inplace=True)\n",
    "df_ktng_sel.dropna(inplace=True)"
   ]
  },
  {
   "cell_type": "code",
   "execution_count": 36,
   "id": "21a6d628",
   "metadata": {},
   "outputs": [],
   "source": [
    "# delete rows which include NaN : dji, spx, nasdaq 지수가 nan인 rows 제거\n",
    "for key, val in code.items():\n",
    "    globals()['df_{}_sel'.format(val[1])].dropna(inplace=True)"
   ]
  },
  {
   "cell_type": "code",
   "execution_count": 37,
   "id": "c6f3061c",
   "metadata": {},
   "outputs": [],
   "source": [
    "# string column을 numeric으로 전환\n",
    "def string_to_num(df):\n",
    "    df.replace('%', '', regex=True, inplace=True)\n",
    "    return df.apply(pd.to_numeric)\n",
    "'''\n",
    "df_sec_sel = string_to_num(df_sec_sel)\n",
    "df_hyunmotor_sel = string_to_num(df_hyunmotor_sel)\n",
    "df_naver_sel = string_to_num(df_naver_sel)\n",
    "df_ktng_sel = string_to_num(df_ktng_sel)\n",
    "'''\n",
    "\n",
    "for key, val in code.items():\n",
    "    globals()['df_{}_sel'.format(val[1])] = string_to_num(globals()['df_{}_sel'.format(val[1])])"
   ]
  },
  {
   "cell_type": "code",
   "execution_count": 38,
   "id": "7e8d5acf",
   "metadata": {},
   "outputs": [],
   "source": [
    "# pickle로 데이터 저장\n",
    "'''\n",
    "directory_for_ml = '../data/data_for_ml/'\n",
    "df_sec_sel.to_pickle(directory_for_ml + 'df_sec_sel.pkl')\n",
    "df_hyunmotor_sel.to_pickle(directory_for_ml + 'df_hyunmotor_sel.pkl')\n",
    "df_naver_sel.to_pickle(directory_for_ml + 'df_naver_sel.pkl')\n",
    "df_ktng_sel.to_pickle(directory_for_ml + 'df_ktng_sel.pkl')\n",
    "\n",
    "df_sec_sel.to_csv(directory_for_ml + 'df_sec_sel.csv')\n",
    "df_hyunmotor_sel.to_csv(directory_for_ml + 'df_hyunmotor_sel.csv')\n",
    "df_naver_sel.to_csv(directory_for_ml + 'df_naver_sel.csv')\n",
    "df_ktng_sel.to_csv(directory_for_ml + 'df_ktng_sel.csv')\n",
    "'''\n",
    "\n",
    "for key, val in code.items():\n",
    "    globals()['df_{}_sel'.format(val[1])].to_pickle(directory_for_ml + 'df_{}_sel.pkl'.format(val[1]))\n",
    "    globals()['df_{}_sel'.format(val[1])].to_csv(directory_for_ml + 'df_{}_sel.csv'.format(val[1]))"
   ]
  },
  {
   "cell_type": "markdown",
   "id": "381d2d4b",
   "metadata": {},
   "source": [
    "### feature 이름 설명\n",
    "#### feature에 사용된 column name 설명"
   ]
  },
  {
   "cell_type": "code",
   "execution_count": null,
   "id": "1c5bcf80",
   "metadata": {},
   "outputs": [],
   "source": [
    "df_feature_name_abbr = pd.read_csv('../data/feature_name_abbr.csv')"
   ]
  },
  {
   "cell_type": "code",
   "execution_count": null,
   "id": "69546a5d",
   "metadata": {},
   "outputs": [],
   "source": [
    "standforK = lambda x : df_feature_name_abbr['Korean'][df_feature_name_abbr['abbr'] == x].values[0]\n",
    "standforE = lambda x : df_feature_name_abbr['English'][df_feature_name_abbr['abbr'] == x].values[0]\n",
    "standforexp = lambda x : df_feature_name_abbr['exp1'][df_feature_name_abbr['abbr'] == x].values[0]"
   ]
  },
  {
   "cell_type": "code",
   "execution_count": null,
   "id": "c0e4198a",
   "metadata": {},
   "outputs": [],
   "source": [
    "# financial이 무엇인지 알기 위한 명령\n",
    "c_name = 'dxy_cr'\n",
    "standforK(c_name), standforE(c_name), standforexp(c_name)"
   ]
  },
  {
   "cell_type": "code",
   "execution_count": null,
   "id": "a902ef7c",
   "metadata": {},
   "outputs": [],
   "source": [
    "c_name = 'cpi'\n",
    "standforK(c_name), standforE(c_name), standforexp(c_name)"
   ]
  },
  {
   "cell_type": "code",
   "execution_count": null,
   "id": "77adcb72",
   "metadata": {},
   "outputs": [],
   "source": [
    "c_name = 'sox'\n",
    "standforK(c_name), standforE(c_name), standforexp(c_name)"
   ]
  },
  {
   "cell_type": "markdown",
   "id": "71ddd182",
   "metadata": {},
   "source": [
    "### 설명에서 feature name 찾기"
   ]
  },
  {
   "cell_type": "code",
   "execution_count": null,
   "id": "3bb75ea6",
   "metadata": {},
   "outputs": [],
   "source": [
    "find_col_nameK = lambda x : df_feature_name_abbr[['abbr', 'Korean']][df_feature_name_abbr['Korean'].str.contains(x)]\n",
    "find_col_nameE = lambda x : df_feature_name_abbr[['abbr', 'English']][df_feature_name_abbr['English'].str.contains(x, na=False, case=False)]"
   ]
  },
  {
   "cell_type": "code",
   "execution_count": null,
   "id": "6a9c96a1",
   "metadata": {},
   "outputs": [],
   "source": [
    "e_word = 'INDEX' # English column에서 찾기\n",
    "find_col_nameE(e_word)"
   ]
  },
  {
   "cell_type": "code",
   "execution_count": null,
   "id": "f8b27ec9",
   "metadata": {},
   "outputs": [],
   "source": [
    "k_word = '반도체' # Korean column에서 찾기\n",
    "find_col_nameK(k_word)"
   ]
  },
  {
   "cell_type": "markdown",
   "id": "226b3501",
   "metadata": {},
   "source": [
    "#### pd.merge 형식 참조\n",
    "df_base = df_base.merge(djis, how='left', left_index=True, right_index=True)"
   ]
  },
  {
   "cell_type": "code",
   "execution_count": null,
   "id": "59288eed",
   "metadata": {},
   "outputs": [],
   "source": [
    "bokd = '../data/common_pkl/bok_rate.pkl'\n",
    "cpid = '../data/common_pkl/cpi.pkl'\n",
    "djid = '../data/common_pkl/dji.pkl'\n",
    "bok = pd.read_pickle(bokd)\n",
    "cpi = pd.read_pickle(cpid)\n",
    "dji = pd.read_pickle(djid)\n",
    "boks = pd.read_pickle(bokd).set_index('date')\n",
    "cpis = pd.read_pickle(cpid).set_index('date')\n",
    "djis = pd.read_pickle(djid).set_index('date')"
   ]
  },
  {
   "cell_type": "code",
   "execution_count": null,
   "id": "14c2dea2",
   "metadata": {},
   "outputs": [],
   "source": [
    "end_date = datetime.datetime.today().date()\n",
    "start_date = '20220620'\n",
    "date_range_ts = pd.date_range(start=start_date, end=end_date)"
   ]
  },
  {
   "cell_type": "code",
   "execution_count": null,
   "id": "5aa61bea",
   "metadata": {},
   "outputs": [],
   "source": [
    "df_base = pd.DataFrame(pd.Series(date_range_ts, name='date')).set_index('date')"
   ]
  },
  {
   "cell_type": "code",
   "execution_count": null,
   "id": "f94a01bb",
   "metadata": {
    "scrolled": true
   },
   "outputs": [],
   "source": [
    "df_base = df_base.merge(cpis, how='left', left_index=True, right_index=True)"
   ]
  },
  {
   "cell_type": "code",
   "execution_count": null,
   "id": "6e4b3672",
   "metadata": {},
   "outputs": [],
   "source": [
    "df_base = df_base.merge(djis, how='left', left_index=True, right_index=True)"
   ]
  },
  {
   "cell_type": "code",
   "execution_count": null,
   "id": "08c5e5db",
   "metadata": {},
   "outputs": [],
   "source": []
  }
 ],
 "metadata": {
  "kernelspec": {
   "display_name": "Python 3 (ipykernel)",
   "language": "python",
   "name": "python3"
  },
  "language_info": {
   "codemirror_mode": {
    "name": "ipython",
    "version": 3
   },
   "file_extension": ".py",
   "mimetype": "text/x-python",
   "name": "python",
   "nbconvert_exporter": "python",
   "pygments_lexer": "ipython3",
   "version": "3.9.1"
  }
 },
 "nbformat": 4,
 "nbformat_minor": 5
}
