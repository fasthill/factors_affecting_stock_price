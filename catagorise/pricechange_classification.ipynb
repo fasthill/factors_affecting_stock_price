{
 "cells": [
  {
   "cell_type": "markdown",
   "id": "f051084f",
   "metadata": {},
   "source": [
    "### class 분류\n",
    "#### 하루 주가 변동 분류 (4 분류)\n",
    "  - 1: 오전 max 오전 min, 2: 오전 max 오후 min, 3: 오전 min, 오후 max, 4: 오후 man,  오후 min\n",
    "\n",
    "#### 전일대비 +, - (2 분류)  -> 이 로직은 combine_features.ipynb 에서 처리함\n",
    "  - 0 : <=0, 1: > 0"
   ]
  },
  {
   "cell_type": "code",
   "execution_count": 7,
   "id": "b930a6de",
   "metadata": {},
   "outputs": [],
   "source": [
    "import datetime, time\n",
    "from datetime import date\n",
    "\n",
    "import pandas as pd\n",
    "import numpy as np\n",
    "\n",
    "from sklearn.preprocessing import StandardScaler"
   ]
  },
  {
   "cell_type": "code",
   "execution_count": 2,
   "id": "08a12f00",
   "metadata": {},
   "outputs": [],
   "source": [
    "def read_pickle(com_name, date_range_ts):\n",
    "    class_val = []\n",
    "    for f_date in date_range_ts :\n",
    "        f_name = '{}/{}_10min_price_{}.pkl'.format(pkl_directory, com_name, f_date.strftime('%Y%m%d'))\n",
    "        try : \n",
    "            df = pd.read_pickle(f_name)\n",
    "            class_num = classify_into_4(df)\n",
    "            d_c_temp = [f_date.strftime('%Y-%m-%d'), class_num]\n",
    "            class_val.append(d_c_temp)\n",
    "        except :\n",
    "            continue\n",
    "    return class_val"
   ]
  },
  {
   "cell_type": "code",
   "execution_count": 3,
   "id": "09d07192",
   "metadata": {},
   "outputs": [],
   "source": [
    "def classify_into_4(df):\n",
    "    df_new = df[(df['time'].astype(str) > '09:00:00') & (df['time'].astype(str) < '15:30:00')]\n",
    "    #  9시 30분(미포함) 이전 제외, 오후 3시 30분(포함) 이후 제외 후 최고가 시간, 최저가 시간 비교\n",
    "#     df_c = df_new['time'].astype(str).copy() #timestampe에서 str로 변환 (크기 비교를 하기 위하여)\n",
    "#     df_new['time'] =  df_c\n",
    "    time_max = str(df_new[df_new['price'] == df_new['price'].max()]['time'].iloc[0]) # str() change datetime.time to string\n",
    "    time_min = str(df_new[df_new['price'] == df_new['price'].min()]['time'].iloc[0])\n",
    "    time_criteria = '12:00:00'\n",
    "    if (time_max <= time_criteria) & (time_min <= time_criteria):\n",
    "        class_num = 1\n",
    "    elif (time_max <= time_criteria) & (time_min >= time_criteria):\n",
    "        class_num = 2\n",
    "    elif (time_max >= time_criteria) & (time_min <= time_criteria):\n",
    "        class_num = 3\n",
    "    elif (time_max >= time_criteria) & (time_min >= time_criteria):\n",
    "        class_num = 4\n",
    "    # : 오전 max 오전 min, 2: 오전 max 오후 min, 3: 오전 min, 오후 max, 4: 오후 man,  오후 min\n",
    "    return class_num"
   ]
  },
  {
   "cell_type": "code",
   "execution_count": 4,
   "id": "a1f53561",
   "metadata": {},
   "outputs": [],
   "source": [
    "code = {'005930': ['삼성전자', 'sec'], '005380': ['현대차', 'hyunmotor'],\n",
    "                 '035420': ['NAVER', 'naver'], '033780': ['KT&G', 'ktng']}\n",
    "# code = {'005930': ['삼성전자', 'sec']}"
   ]
  },
  {
   "cell_type": "code",
   "execution_count": 5,
   "id": "e7734db7",
   "metadata": {},
   "outputs": [],
   "source": [
    "start_date = '20220620'\n",
    "end_date = datetime.date.today() - datetime.timedelta(days = 1) # 오늘날짜 하루전까지\n",
    "date_range_ts = pd.date_range(start=start_date, end=end_date)\n",
    "pkl_directory = '../data/company_daily_price_pkl'"
   ]
  },
  {
   "cell_type": "code",
   "execution_count": 6,
   "id": "3c66244c",
   "metadata": {},
   "outputs": [],
   "source": [
    "for key, val in code.items():\n",
    "    class_val = read_pickle(val[1], date_range_ts)\n",
    "    df = pd.DataFrame(class_val)\n",
    "    df.columns = ['date', 'value']\n",
    "    df.to_pickle(val[1]+'.pkl')"
   ]
  },
  {
   "cell_type": "code",
   "execution_count": null,
   "id": "5626c5a0",
   "metadata": {},
   "outputs": [],
   "source": []
  },
  {
   "cell_type": "code",
   "execution_count": null,
   "id": "788aa5ed",
   "metadata": {},
   "outputs": [],
   "source": [
    "## 아래 내용은 combine_features.ipynb에서 처리하는 것이 좋음\n",
    "### historical data를 같이 처리할 수 있으므로"
   ]
  },
  {
   "cell_type": "code",
   "execution_count": 5,
   "id": "6dec8b9e",
   "metadata": {},
   "outputs": [],
   "source": [
    "fname = '../data/company_pkl/sec_historical.pkl'\n",
    "df = pd.read_pickle(fname)"
   ]
  },
  {
   "cell_type": "code",
   "execution_count": 6,
   "id": "b1a20ebf",
   "metadata": {
    "scrolled": false
   },
   "outputs": [
    {
     "data": {
      "text/html": [
       "<div>\n",
       "<style scoped>\n",
       "    .dataframe tbody tr th:only-of-type {\n",
       "        vertical-align: middle;\n",
       "    }\n",
       "\n",
       "    .dataframe tbody tr th {\n",
       "        vertical-align: top;\n",
       "    }\n",
       "\n",
       "    .dataframe thead th {\n",
       "        text-align: right;\n",
       "    }\n",
       "</style>\n",
       "<table border=\"1\" class=\"dataframe\">\n",
       "  <thead>\n",
       "    <tr style=\"text-align: right;\">\n",
       "      <th></th>\n",
       "      <th>date</th>\n",
       "      <th>open</th>\n",
       "      <th>high</th>\n",
       "      <th>low</th>\n",
       "      <th>close</th>\n",
       "      <th>close_cr</th>\n",
       "      <th>vol</th>\n",
       "    </tr>\n",
       "  </thead>\n",
       "  <tbody>\n",
       "    <tr>\n",
       "      <th>0</th>\n",
       "      <td>2020-01-01</td>\n",
       "      <td></td>\n",
       "      <td></td>\n",
       "      <td></td>\n",
       "      <td></td>\n",
       "      <td></td>\n",
       "      <td></td>\n",
       "    </tr>\n",
       "    <tr>\n",
       "      <th>1</th>\n",
       "      <td>2020-01-02</td>\n",
       "      <td>55500.0</td>\n",
       "      <td>56000.0</td>\n",
       "      <td>55000.0</td>\n",
       "      <td>55200.0</td>\n",
       "      <td>-1.08</td>\n",
       "      <td>719663.0</td>\n",
       "    </tr>\n",
       "    <tr>\n",
       "      <th>2</th>\n",
       "      <td>2020-01-03</td>\n",
       "      <td>56000.0</td>\n",
       "      <td>56600.0</td>\n",
       "      <td>54900.0</td>\n",
       "      <td>55500.0</td>\n",
       "      <td>0.54</td>\n",
       "      <td>860207.0</td>\n",
       "    </tr>\n",
       "    <tr>\n",
       "      <th>3</th>\n",
       "      <td>2020-01-04</td>\n",
       "      <td></td>\n",
       "      <td></td>\n",
       "      <td></td>\n",
       "      <td></td>\n",
       "      <td></td>\n",
       "      <td></td>\n",
       "    </tr>\n",
       "    <tr>\n",
       "      <th>4</th>\n",
       "      <td>2020-01-05</td>\n",
       "      <td></td>\n",
       "      <td></td>\n",
       "      <td></td>\n",
       "      <td></td>\n",
       "      <td></td>\n",
       "      <td></td>\n",
       "    </tr>\n",
       "  </tbody>\n",
       "</table>\n",
       "</div>"
      ],
      "text/plain": [
       "        date     open     high      low    close close_cr       vol\n",
       "0 2020-01-01                                                       \n",
       "1 2020-01-02  55500.0  56000.0  55000.0  55200.0    -1.08  719663.0\n",
       "2 2020-01-03  56000.0  56600.0  54900.0  55500.0     0.54  860207.0\n",
       "3 2020-01-04                                                       \n",
       "4 2020-01-05                                                       "
      ]
     },
     "execution_count": 6,
     "metadata": {},
     "output_type": "execute_result"
    }
   ],
   "source": [
    "df.head()"
   ]
  },
  {
   "cell_type": "code",
   "execution_count": null,
   "id": "e7fe6de5",
   "metadata": {},
   "outputs": [],
   "source": []
  }
 ],
 "metadata": {
  "kernelspec": {
   "display_name": "Python 3",
   "language": "python",
   "name": "python3"
  },
  "language_info": {
   "codemirror_mode": {
    "name": "ipython",
    "version": 3
   },
   "file_extension": ".py",
   "mimetype": "text/x-python",
   "name": "python",
   "nbconvert_exporter": "python",
   "pygments_lexer": "ipython3",
   "version": "3.9.1"
  }
 },
 "nbformat": 4,
 "nbformat_minor": 5
}
