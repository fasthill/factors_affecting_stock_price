{
 "cells": [
  {
   "cell_type": "code",
   "execution_count": null,
   "id": "8a337fce",
   "metadata": {},
   "outputs": [],
   "source": [
    "import pandas as pd\n",
    "import numpy as np\n",
    "\n",
    "import datetime\n",
    "from datetime import date\n",
    "\n",
    "import os\n",
    "import shutil"
   ]
  },
  {
   "cell_type": "code",
   "execution_count": null,
   "id": "ef01f0e5",
   "metadata": {},
   "outputs": [],
   "source": [
    "df_org = pd.read_csv('data/{}'.format('data_common.csv'))\n",
    "df_org['date'] = df_org['date'].apply(lambda x : datetime.datetime.strptime(x, \"%Y-%m-%d\"))\n",
    "df_org.set_index('date', inplace=True)"
   ]
  },
  {
   "cell_type": "code",
   "execution_count": null,
   "id": "naval-water",
   "metadata": {},
   "outputs": [],
   "source": [
    "df = pd.read_csv('data/interest_rate/{}'.format('rr1_fed_20220628.csv'))\n",
    "df.columns = ['date', 'time', 'fed_rate', 'fed_rate_fore', 'fed_rate_prev', 'none']\n",
    "df['date'] = df['date'].apply(lambda x : datetime.datetime.strptime(x, \"%Y-%m-%d\"))\n",
    "# df의 index를 모두 'date'로 설정\n",
    "df_select = df[['date', 'fed_rate', 'fed_rate_fore', 'fed_rate_prev']]\n",
    "df_select.set_index('date', inplace=True)\n",
    "\n",
    "df_org.update(df_select) # done fed rate before 22020628"
   ]
  },
  {
   "cell_type": "code",
   "execution_count": null,
   "id": "tired-quick",
   "metadata": {},
   "outputs": [],
   "source": [
    "df_org.reset_index(inplace=True)\n",
    "df_org.to_csv('data/data_common.csv', index=False)"
   ]
  },
  {
   "cell_type": "markdown",
   "id": "62f8bdf2",
   "metadata": {},
   "source": [
    "### 한국은행 금리 붙이기"
   ]
  },
  {
   "cell_type": "code",
   "execution_count": null,
   "id": "916be18f",
   "metadata": {},
   "outputs": [],
   "source": [
    "df = pd.read_csv('data/interest_rate/{}'.format('rr2_bok_20220628.csv'))\n",
    "df.columns = ['date', 'bok_rate']\n",
    "df['date'] = df['date'].apply(lambda x : datetime.datetime.strptime(x, \"%Y-%m-%d\"))\n",
    "# df의 index를 모두 'date'로 설정\n",
    "df_select = df[['date', 'bok_rate']]\n",
    "df_select.set_index('date', inplace=True)\n",
    "\n",
    "df_org.update(df_select) # done bok rate before 22020628"
   ]
  },
  {
   "cell_type": "code",
   "execution_count": null,
   "id": "0c9ac675",
   "metadata": {},
   "outputs": [],
   "source": [
    "df_org.reset_index(inplace=True)\n",
    "df_org.to_csv('data/data_common.csv', index=False)"
   ]
  },
  {
   "cell_type": "code",
   "execution_count": null,
   "id": "45ce6638",
   "metadata": {},
   "outputs": [],
   "source": []
  }
 ],
 "metadata": {
  "kernelspec": {
   "display_name": "Python 3",
   "language": "python",
   "name": "python3"
  },
  "language_info": {
   "codemirror_mode": {
    "name": "ipython",
    "version": 3
   },
   "file_extension": ".py",
   "mimetype": "text/x-python",
   "name": "python",
   "nbconvert_exporter": "python",
   "pygments_lexer": "ipython3",
   "version": "3.9.1"
  }
 },
 "nbformat": 4,
 "nbformat_minor": 5
}
