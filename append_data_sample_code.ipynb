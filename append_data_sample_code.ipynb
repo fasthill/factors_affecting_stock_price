{
 "cells": [
  {
   "cell_type": "code",
   "execution_count": 1,
   "id": "5b0fe346",
   "metadata": {},
   "outputs": [],
   "source": [
    "import pandas as pd\n",
    "\n",
    "import datetime\n",
    "from datetime import date"
   ]
  },
  {
   "cell_type": "code",
   "execution_count": 15,
   "id": "34a9ef56",
   "metadata": {},
   "outputs": [
    {
     "data": {
      "text/html": [
       "<div>\n",
       "<style scoped>\n",
       "    .dataframe tbody tr th:only-of-type {\n",
       "        vertical-align: middle;\n",
       "    }\n",
       "\n",
       "    .dataframe tbody tr th {\n",
       "        vertical-align: top;\n",
       "    }\n",
       "\n",
       "    .dataframe thead th {\n",
       "        text-align: right;\n",
       "    }\n",
       "</style>\n",
       "<table border=\"1\" class=\"dataframe\">\n",
       "  <thead>\n",
       "    <tr style=\"text-align: right;\">\n",
       "      <th></th>\n",
       "      <th>번호</th>\n",
       "      <th>abbreviation</th>\n",
       "      <th>Item_Eng</th>\n",
       "      <th>Item_Kor</th>\n",
       "      <th>내용</th>\n",
       "      <th>추후 검토(시계열분석 대체효과)</th>\n",
       "    </tr>\n",
       "  </thead>\n",
       "  <tbody>\n",
       "    <tr>\n",
       "      <th>0</th>\n",
       "      <td>1</td>\n",
       "      <td>date</td>\n",
       "      <td>date</td>\n",
       "      <td>거래일자</td>\n",
       "      <td>NaN</td>\n",
       "      <td>NaN</td>\n",
       "    </tr>\n",
       "    <tr>\n",
       "      <th>1</th>\n",
       "      <td>2</td>\n",
       "      <td>ixic</td>\n",
       "      <td>IXIC</td>\n",
       "      <td>나스닥지수</td>\n",
       "      <td>전일 지수</td>\n",
       "      <td>NaN</td>\n",
       "    </tr>\n",
       "    <tr>\n",
       "      <th>2</th>\n",
       "      <td>3</td>\n",
       "      <td>ixic_cr</td>\n",
       "      <td>IXIC_change_rate</td>\n",
       "      <td>나스닥지수_변동률</td>\n",
       "      <td>전일 변동률</td>\n",
       "      <td>1주 변동률 추이 검토</td>\n",
       "    </tr>\n",
       "    <tr>\n",
       "      <th>3</th>\n",
       "      <td>4</td>\n",
       "      <td>ixic_f</td>\n",
       "      <td>IXIC_future</td>\n",
       "      <td>나스닥선물지수</td>\n",
       "      <td>NaN</td>\n",
       "      <td>NaN</td>\n",
       "    </tr>\n",
       "    <tr>\n",
       "      <th>4</th>\n",
       "      <td>5</td>\n",
       "      <td>ixic_f_cr</td>\n",
       "      <td>IXIC_future_change_rate</td>\n",
       "      <td>나스닥선물지수_변동률</td>\n",
       "      <td>NaN</td>\n",
       "      <td>NaN</td>\n",
       "    </tr>\n",
       "  </tbody>\n",
       "</table>\n",
       "</div>"
      ],
      "text/plain": [
       "   번호 abbreviation                 Item_Eng     Item_Kor      내용  \\\n",
       "0   1         date                     date         거래일자     NaN   \n",
       "1   2         ixic                     IXIC        나스닥지수   전일 지수   \n",
       "2   3      ixic_cr         IXIC_change_rate    나스닥지수_변동률  전일 변동률   \n",
       "3   4       ixic_f              IXIC_future      나스닥선물지수     NaN   \n",
       "4   5    ixic_f_cr  IXIC_future_change_rate  나스닥선물지수_변동률     NaN   \n",
       "\n",
       "  추후 검토(시계열분석 대체효과)  \n",
       "0               NaN  \n",
       "1               NaN  \n",
       "2      1주 변동률 추이 검토  \n",
       "3               NaN  \n",
       "4               NaN  "
      ]
     },
     "execution_count": 15,
     "metadata": {},
     "output_type": "execute_result"
    }
   ],
   "source": [
    "df = pd.read_csv('data/data_fmt_readme.csv')\n",
    "df.head()"
   ]
  },
  {
   "cell_type": "code",
   "execution_count": null,
   "id": "f85005bb",
   "metadata": {
    "scrolled": true
   },
   "outputs": [],
   "source": [
    "df.head()"
   ]
  },
  {
   "cell_type": "code",
   "execution_count": null,
   "id": "ad57770a",
   "metadata": {},
   "outputs": [],
   "source": [
    "import pandas as pd  \n",
    "  \n",
    "data = {'Name': ['Tom', 'Kim'], 'Age': [20, 30], 'Height':[170, 180]}  \n",
    "df = pd.DataFrame(data) \n",
    "df.head()"
   ]
  },
  {
   "cell_type": "code",
   "execution_count": null,
   "id": "3796e6ea",
   "metadata": {},
   "outputs": [],
   "source": [
    "val = 'Tom1'\n",
    "data1 = {'Name': [val], 'Age': [40], 'Height':[200]}  \n",
    "df1 = pd.DataFrame(data1)\n",
    "df1.head()"
   ]
  },
  {
   "cell_type": "code",
   "execution_count": null,
   "id": "e1e23c41",
   "metadata": {},
   "outputs": [],
   "source": [
    "if ~df['Name'].isin([val]).any():\n",
    "    print('False----')\n",
    "    df = df.append(df1)\n",
    "else:\n",
    "    print('True----')\n",
    "    df.loc[df['Name'].isin([val]),'Height'] = df1['Height'].iloc[0]"
   ]
  },
  {
   "cell_type": "code",
   "execution_count": null,
   "id": "c234fed9",
   "metadata": {},
   "outputs": [],
   "source": [
    "df.head()"
   ]
  },
  {
   "cell_type": "code",
   "execution_count": null,
   "id": "f5f15cb0",
   "metadata": {},
   "outputs": [],
   "source": [
    "import pandas as pd\n",
    "\n",
    "import datetime\n",
    "from datetime import date"
   ]
  },
  {
   "cell_type": "code",
   "execution_count": null,
   "id": "substantial-unemployment",
   "metadata": {
    "scrolled": true
   },
   "outputs": [],
   "source": [
    "data_url = 'https://raw.githubusercontent.com/fasthill/factors_affecting_stock_price/main/data/data.csv'\n",
    "df = pd.read_csv(data_url)\n",
    "# df.drop([0], inplace=True) # inplace가 없으면 전체 index를 삭제할 수 없음.\n",
    "df.head()"
   ]
  },
  {
   "cell_type": "code",
   "execution_count": null,
   "id": "tamil-parade",
   "metadata": {},
   "outputs": [],
   "source": [
    "# df.to_csv('data/data.csv')"
   ]
  },
  {
   "cell_type": "markdown",
   "id": "prompt-mixer",
   "metadata": {},
   "source": [
    "{'2022년 06월 15일': '119.08',\n",
    " '2022년 06월 14일': '118.93',\n",
    " '2022년 06월 13일': '120.93',\n",
    " '2022년 06월 10일': '120.67',\n",
    " '2022년 06월 09일': '121.51',\n",
    " '2022년 06월 08일': '122.11',\n",
    " '2022년 06월 07일': '119.41',\n",
    " '2022년 06월 06일': '118.50',\n",
    " '2022년 06월 03일': '118.87',\n",
    " '2022년 06월 02일': '116.87',\n",
    " '2022년 06월 01일': '115.26',\n",
    " '2022년 05월 31일': '114.67',\n",
    " '2022년 05월 30일': '117.61',\n",
    " '2022년 05월 29일': '115.61',\n",
    " '2022년 05월 27일': '115.07',\n",
    " '2022년 05월 26일': '114.09',\n",
    " '2022년 05월 25일': '110.33',\n",
    " '2022년 05월 24일': '109.77',\n",
    " '2022년 05월 23일': '110.29',\n",
    " '2022년 05월 20일': '110.28',\n",
    " '2022년 05월 19일': '109.89',\n",
    " '2022년 05월 18일': '107.04',\n",
    " '2022년 05월 17일': '109.63',\n",
    " '2022년 05월 16일': '111.82'}"
   ]
  },
  {
   "cell_type": "code",
   "execution_count": null,
   "id": "champion-archive",
   "metadata": {},
   "outputs": [],
   "source": [
    "import requests\n",
    "from bs4 import BeautifulSoup as bs\n",
    "import datetime\n",
    "import time\n",
    "from datetime import date\n",
    "import pandas as pd\n",
    "import re\n",
    "\n",
    "url = 'https://kr.investing.com/commodities/crude-oil-historical-data'\n",
    "# res = requests.get(url)\n",
    "\n",
    "headers = {'User-Agent': 'Mozilla/5.0 (Macintosh; Intel Mac OS X 10_11_5) \\\n",
    "           AppleWebKit/537.36 (KHTML, like Gecko) Chrome/50.0.2661.102 Safari/537.36'}\n",
    "res = requests.get(url, headers=headers)\n",
    "\n",
    "soup = bs(res.text, 'html.parser')\n",
    "wti = soup.select('#results_box tr')\n",
    "\n",
    "wti_date_value = {}\n",
    "for i, tr in enumerate(wti):\n",
    "    if (i == 0) | (i == len(wti)-1) : continue\n",
    "    tr_value = tr.select('td')\n",
    "    wti_date_value[tr_value[0].text] = tr_value[1].text\n",
    "    \n",
    "data_dict = {}\n",
    "date_list = []\n",
    "wti_list = []\n",
    "for i, (date1, val) in enumerate(wti_date_value.items()):\n",
    "    y_m_d = re.findall(r'\\d+', date1)\n",
    "    time = datetime.date(int(y_m_d[0]), int(y_m_d[1]), int(y_m_d[2]))\n",
    "    date_list.append(time)\n",
    "    wti_list.append(val)\n",
    "\n",
    "data_dict['date'] = date_list\n",
    "data_dict['wti'] = wti_list\n",
    "\n",
    "df_wti = pd.DataFrame(data_dict) \n",
    "df_wti.tail()"
   ]
  },
  {
   "cell_type": "code",
   "execution_count": null,
   "id": "stone-reply",
   "metadata": {},
   "outputs": [],
   "source": [
    "df = df.append(df_wti)"
   ]
  },
  {
   "cell_type": "code",
   "execution_count": null,
   "id": "behavioral-increase",
   "metadata": {},
   "outputs": [],
   "source": [
    "df"
   ]
  },
  {
   "cell_type": "code",
   "execution_count": null,
   "id": "continent-layout",
   "metadata": {},
   "outputs": [],
   "source": [
    "df = df.append(df_wti)\n",
    "df"
   ]
  },
  {
   "cell_type": "code",
   "execution_count": null,
   "id": "advisory-parker",
   "metadata": {},
   "outputs": [],
   "source": [
    "import requests\n",
    "from bs4 import BeautifulSoup as bs\n",
    "import datetime\n",
    "import time\n",
    "from datetime import date\n",
    "import pandas as pd"
   ]
  },
  {
   "cell_type": "code",
   "execution_count": null,
   "id": "biblical-infrastructure",
   "metadata": {},
   "outputs": [],
   "source": [
    "import pandas as pd\n",
    "headers = {'User-Agent': 'Mozilla/5.0 (Macintosh; Intel Mac OS X 10_11_5) \\\n",
    "           AppleWebKit/537.36 (KHTML, like Gecko) Chrome/50.0.2661.102 Safari/537.36'}\n",
    "url = 'https://www.investing.com/indices/nasdaq-composite'\n",
    "res = requests.get(url, headers=headers)\n",
    "soup = bs(res.text, 'html.parser')\n",
    "\n",
    "dfs = pd.read_html(res.text)\n",
    "\n",
    "dfs[6] # dji, nasdaq 등"
   ]
  },
  {
   "cell_type": "code",
   "execution_count": null,
   "id": "rapid-providence",
   "metadata": {},
   "outputs": [],
   "source": [
    "df_new = dfs[6].set_index(0)\n",
    "df_new"
   ]
  },
  {
   "cell_type": "code",
   "execution_count": null,
   "id": "velvet-invite",
   "metadata": {},
   "outputs": [],
   "source": [
    "n1 = df_new.loc['Nasdaq',1]\n",
    "n2 = df_new.loc['Nasdaq',2]\n",
    "n3 = df_new.loc['Nasdaq',3]\n",
    "n1, n2, n3"
   ]
  },
  {
   "cell_type": "code",
   "execution_count": null,
   "id": "finite-pharmaceutical",
   "metadata": {},
   "outputs": [],
   "source": []
  },
  {
   "cell_type": "code",
   "execution_count": null,
   "id": "frank-chuck",
   "metadata": {},
   "outputs": [],
   "source": []
  },
  {
   "cell_type": "code",
   "execution_count": null,
   "id": "geographic-carrier",
   "metadata": {},
   "outputs": [],
   "source": [
    "for i in dfs:\n",
    "    i.head()"
   ]
  },
  {
   "cell_type": "code",
   "execution_count": null,
   "id": "bottom-sarah",
   "metadata": {},
   "outputs": [],
   "source": [
    "dfs[6]"
   ]
  },
  {
   "cell_type": "code",
   "execution_count": null,
   "id": "developing-diameter",
   "metadata": {},
   "outputs": [],
   "source": [
    "nas_url = 'https://www.investing.com/indices/nasdaq-composite-chart'\n",
    "res = requests.get(nas_url, headers=headers)\n",
    "soup = bs(res.text, 'html.parser')\n",
    "nas = soup.select('#last_last')[0].text\n",
    "nas = float(nas.replace(\",\", \"\"))\n",
    "nas"
   ]
  },
  {
   "cell_type": "markdown",
   "id": "described-pavilion",
   "metadata": {},
   "source": [
    "#### "
   ]
  },
  {
   "cell_type": "code",
   "execution_count": null,
   "id": "addressed-queue",
   "metadata": {},
   "outputs": [],
   "source": [
    "wti_date_value"
   ]
  },
  {
   "cell_type": "code",
   "execution_count": null,
   "id": "crude-education",
   "metadata": {},
   "outputs": [],
   "source": [
    "url1 = 'https://kr.investing.com/commodities/crude-oil-historical-data'\n",
    "res = requests.get(url1)\n",
    "soup = bs(res.text, 'html.parser')\n",
    "wti = soup.select('#results_box tr')"
   ]
  },
  {
   "cell_type": "code",
   "execution_count": null,
   "id": "wrong-florence",
   "metadata": {},
   "outputs": [],
   "source": [
    "res"
   ]
  },
  {
   "cell_type": "code",
   "execution_count": null,
   "id": "early-cleaner",
   "metadata": {},
   "outputs": [],
   "source": [
    "url1 = 'https://kr.investing.com/commodities/crude-oil-historical-data'"
   ]
  },
  {
   "cell_type": "code",
   "execution_count": null,
   "id": "loving-antibody",
   "metadata": {},
   "outputs": [],
   "source": [
    "res = requests.get(url1)"
   ]
  },
  {
   "cell_type": "code",
   "execution_count": null,
   "id": "employed-perth",
   "metadata": {},
   "outputs": [],
   "source": []
  }
 ],
 "metadata": {
  "kernelspec": {
   "display_name": "Python 3",
   "language": "python",
   "name": "python3"
  },
  "language_info": {
   "codemirror_mode": {
    "name": "ipython",
    "version": 3
   },
   "file_extension": ".py",
   "mimetype": "text/x-python",
   "name": "python",
   "nbconvert_exporter": "python",
   "pygments_lexer": "ipython3",
   "version": "3.9.1"
  }
 },
 "nbformat": 4,
 "nbformat_minor": 5
}
