{
 "cells": [
  {
   "cell_type": "code",
   "execution_count": 1,
   "id": "single-chick",
   "metadata": {},
   "outputs": [],
   "source": [
    "from selenium import webdriver as wd\n",
    "from bs4 import BeautifulSoup as bs\n",
    "import requests\n",
    "import datetime, time\n",
    "from datetime import date\n",
    "\n",
    "import pandas as pd\n",
    "import re\n",
    "import os, sys"
   ]
  },
  {
   "cell_type": "code",
   "execution_count": 2,
   "id": "49476ecc",
   "metadata": {},
   "outputs": [],
   "source": [
    "# 삼성전자 005930, 현대차 005830, 네이버 035420, KT&G 033780, \n",
    "code = {'sec': '005930', 'hyunmotor': '005830', 'naver': '035420', 'ktng': '033780'}"
   ]
  },
  {
   "cell_type": "code",
   "execution_count": 3,
   "id": "53a396d1",
   "metadata": {},
   "outputs": [],
   "source": [
    "today = datetime.date.today()\n",
    "today = today.strftime('%Y%m%d')"
   ]
  },
  {
   "cell_type": "code",
   "execution_count": 4,
   "id": "fcaeec0d",
   "metadata": {},
   "outputs": [],
   "source": [
    "def get_data(ticker):\n",
    "    for i in range(3):\n",
    "        str1 = str(i+1)\n",
    "        url = '{}{}{}{}'.format('https://vip.mk.co.kr/newSt/price/minprice.php?type=10&stCode=', ticker, '&p_page=', str1)\n",
    "        df1 = pd.read_html(url, attrs={\"class\": \"table_3\"}, flavor=[\"lxml\", \"bs4\"])[0]\n",
    "        if i == 0 :\n",
    "            df = df1\n",
    "        else:\n",
    "            df = df.append(df1)\n",
    "    return df"
   ]
  },
  {
   "cell_type": "code",
   "execution_count": 5,
   "id": "governing-summit",
   "metadata": {},
   "outputs": [],
   "source": [
    "column_eng = ['date', 'price', 'change', 'change(%)', 'amount', 'volume']\n",
    "column_kor = ['날짜', '현재가', '등락', '등락률(%)', '체결량', '거래량']"
   ]
  },
  {
   "cell_type": "code",
   "execution_count": 6,
   "id": "6da47183",
   "metadata": {},
   "outputs": [],
   "source": [
    "for key, val in code.items():\n",
    "    df = get_data(val)\n",
    "    df.columns = column_eng\n",
    "    df_temp = df['date']\n",
    "    yr = today[:4]\n",
    "    df['date'] = df_temp.apply(lambda x : datetime.datetime.strptime(yr+x[:5], \"%Y%m/%d\"))\n",
    "    df.insert(1, 'time', df_temp.apply(lambda x : datetime.datetime.strptime(x[-5:], \"%H:%M\").time()))\n",
    "    filename = '{}{}_{}{}{}.csv'.format('data/stocks/daily_price/', val, key, '_10min_price_', today)\n",
    "    df.to_csv(filename, index=False)"
   ]
  },
  {
   "cell_type": "code",
   "execution_count": null,
   "id": "be4ec1db",
   "metadata": {},
   "outputs": [],
   "source": []
  }
 ],
 "metadata": {
  "kernelspec": {
   "display_name": "Python 3",
   "language": "python",
   "name": "python3"
  },
  "language_info": {
   "codemirror_mode": {
    "name": "ipython",
    "version": 3
   },
   "file_extension": ".py",
   "mimetype": "text/x-python",
   "name": "python",
   "nbconvert_exporter": "python",
   "pygments_lexer": "ipython3",
   "version": "3.9.1"
  }
 },
 "nbformat": 4,
 "nbformat_minor": 5
}
