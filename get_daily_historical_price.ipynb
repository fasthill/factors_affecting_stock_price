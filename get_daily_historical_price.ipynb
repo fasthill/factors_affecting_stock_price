{
 "cells": [
  {
   "cell_type": "code",
   "execution_count": 2,
   "id": "single-chick",
   "metadata": {},
   "outputs": [],
   "source": [
    "from selenium import webdriver as wd\n",
    "from bs4 import BeautifulSoup as bs\n",
    "import requests\n",
    "import datetime, time\n",
    "from datetime import date\n",
    "\n",
    "import pandas as pd\n",
    "import re\n",
    "import os, sys"
   ]
  },
  {
   "cell_type": "code",
   "execution_count": null,
   "id": "49476ecc",
   "metadata": {},
   "outputs": [],
   "source": [
    "# 삼성전자 005930, 현대차 005830, 네이버 035420, KT&G 033780, "
   ]
  },
  {
   "cell_type": "code",
   "execution_count": 3,
   "id": "87e36500",
   "metadata": {},
   "outputs": [],
   "source": [
    "for i in range(3):\n",
    "    str1 = str(i+1)\n",
    "    url = 'https://vip.mk.co.kr/newSt/price/minprice.php?type=10&stCode=005930&p_page='+str1\n",
    "    df = pd.read_html(url)\n",
    "    if i == 0 :\n",
    "        df1 = df[10]\n",
    "    else:\n",
    "        df1 = df1.append(df[10])"
   ]
  },
  {
   "cell_type": "code",
   "execution_count": 4,
   "id": "285a6900",
   "metadata": {},
   "outputs": [],
   "source": [
    "df1.to_csv('data/samsung_10min_price_from-420.csv', index=False)"
   ]
  },
  {
   "cell_type": "code",
   "execution_count": 5,
   "id": "32699da2",
   "metadata": {},
   "outputs": [],
   "source": [
    "for i in range(3):\n",
    "    str1 = str(i+1)\n",
    "    url = 'https://vip.mk.co.kr/newSt/price/minprice.php?type=10&stCode=005830&p_page='+str1\n",
    "    df = pd.read_html(url)\n",
    "    if i == 0 :\n",
    "        df1 = df[10]\n",
    "    else:\n",
    "        df1 = df1.append(df[10])"
   ]
  },
  {
   "cell_type": "code",
   "execution_count": 6,
   "id": "7866c802",
   "metadata": {},
   "outputs": [],
   "source": [
    "df1.to_csv('data/hyuncar_10min_price_from-420.csv', index=False)"
   ]
  },
  {
   "cell_type": "code",
   "execution_count": 8,
   "id": "f1906e9d",
   "metadata": {},
   "outputs": [],
   "source": [
    "for i in range(3):\n",
    "    str1 = str(i+1)\n",
    "    url = 'https://vip.mk.co.kr/newSt/price/minprice.php?type=10&stCode=035420&p_page='+str1\n",
    "    df = pd.read_html(url)\n",
    "    if i == 0 :\n",
    "        df1 = df[10]\n",
    "    else:\n",
    "        df1 = df1.append(df[10])"
   ]
  },
  {
   "cell_type": "code",
   "execution_count": 9,
   "id": "c2ee6dfa",
   "metadata": {},
   "outputs": [],
   "source": [
    "df1.to_csv('data/naver_10min_price_from-420.csv', index=False)"
   ]
  },
  {
   "cell_type": "code",
   "execution_count": 10,
   "id": "f3ccc1bf",
   "metadata": {},
   "outputs": [],
   "source": [
    "for i in range(3):\n",
    "    str1 = str(i+1)\n",
    "    url = 'https://vip.mk.co.kr/newSt/price/minprice.php?type=10&stCode=033780&p_page='+str1\n",
    "    df = pd.read_html(url)\n",
    "    if i == 0 :\n",
    "        df1 = df[10]\n",
    "    else:\n",
    "        df1 = df1.append(df[10])"
   ]
  },
  {
   "cell_type": "code",
   "execution_count": 11,
   "id": "33fb08fc",
   "metadata": {},
   "outputs": [],
   "source": [
    "df1.to_csv('data/ktng_10min_price_from-420.csv', index=False)"
   ]
  }
 ],
 "metadata": {
  "kernelspec": {
   "display_name": "Python 3 (ipykernel)",
   "language": "python",
   "name": "python3"
  },
  "language_info": {
   "codemirror_mode": {
    "name": "ipython",
    "version": 3
   },
   "file_extension": ".py",
   "mimetype": "text/x-python",
   "name": "python",
   "nbconvert_exporter": "python",
   "pygments_lexer": "ipython3",
   "version": "3.9.1"
  }
 },
 "nbformat": 4,
 "nbformat_minor": 5
}
