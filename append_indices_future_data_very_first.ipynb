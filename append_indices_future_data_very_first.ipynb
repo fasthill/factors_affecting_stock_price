{
 "cells": [
  {
   "cell_type": "code",
   "execution_count": 1,
   "id": "8a337fce",
   "metadata": {},
   "outputs": [],
   "source": [
    "import pandas as pd\n",
    "import numpy as np\n",
    "\n",
    "import datetime\n",
    "from datetime import date\n",
    "\n",
    "import os\n",
    "import shutil"
   ]
  },
  {
   "cell_type": "code",
   "execution_count": 2,
   "id": "ef01f0e5",
   "metadata": {},
   "outputs": [],
   "source": [
    "df_org = pd.read_csv('data/{}'.format('data_common.csv'))\n",
    "df_org['date'] = df_org['date'].apply(lambda x : datetime.datetime.strptime(x, \"%Y-%m-%d\"))\n",
    "df_org.set_index('date', inplace=True)"
   ]
  },
  {
   "cell_type": "code",
   "execution_count": 3,
   "id": "transparent-vienna",
   "metadata": {},
   "outputs": [
    {
     "data": {
      "text/html": [
       "<div>\n",
       "<style scoped>\n",
       "    .dataframe tbody tr th:only-of-type {\n",
       "        vertical-align: middle;\n",
       "    }\n",
       "\n",
       "    .dataframe tbody tr th {\n",
       "        vertical-align: top;\n",
       "    }\n",
       "\n",
       "    .dataframe thead th {\n",
       "        text-align: right;\n",
       "    }\n",
       "</style>\n",
       "<table border=\"1\" class=\"dataframe\">\n",
       "  <thead>\n",
       "    <tr style=\"text-align: right;\">\n",
       "      <th></th>\n",
       "      <th>ixic</th>\n",
       "      <th>ixic_cr</th>\n",
       "      <th>ixic_f</th>\n",
       "      <th>ixic_f_cr</th>\n",
       "      <th>dji</th>\n",
       "      <th>dji_cr</th>\n",
       "      <th>dji_f</th>\n",
       "      <th>dji_f_cr</th>\n",
       "      <th>spx</th>\n",
       "      <th>spx_cr</th>\n",
       "      <th>...</th>\n",
       "      <th>fu_date</th>\n",
       "      <th>op_date</th>\n",
       "      <th>open</th>\n",
       "      <th>high</th>\n",
       "      <th>high_time</th>\n",
       "      <th>low</th>\n",
       "      <th>low_time</th>\n",
       "      <th>close</th>\n",
       "      <th>vol</th>\n",
       "      <th>vol_cr</th>\n",
       "    </tr>\n",
       "    <tr>\n",
       "      <th>date</th>\n",
       "      <th></th>\n",
       "      <th></th>\n",
       "      <th></th>\n",
       "      <th></th>\n",
       "      <th></th>\n",
       "      <th></th>\n",
       "      <th></th>\n",
       "      <th></th>\n",
       "      <th></th>\n",
       "      <th></th>\n",
       "      <th></th>\n",
       "      <th></th>\n",
       "      <th></th>\n",
       "      <th></th>\n",
       "      <th></th>\n",
       "      <th></th>\n",
       "      <th></th>\n",
       "      <th></th>\n",
       "      <th></th>\n",
       "      <th></th>\n",
       "      <th></th>\n",
       "    </tr>\n",
       "  </thead>\n",
       "  <tbody>\n",
       "    <tr>\n",
       "      <th>2022-01-01</th>\n",
       "      <td>NaN</td>\n",
       "      <td>NaN</td>\n",
       "      <td>NaN</td>\n",
       "      <td>NaN</td>\n",
       "      <td>NaN</td>\n",
       "      <td>NaN</td>\n",
       "      <td>NaN</td>\n",
       "      <td>NaN</td>\n",
       "      <td>NaN</td>\n",
       "      <td>NaN</td>\n",
       "      <td>...</td>\n",
       "      <td>NaN</td>\n",
       "      <td>NaN</td>\n",
       "      <td>NaN</td>\n",
       "      <td>NaN</td>\n",
       "      <td>NaN</td>\n",
       "      <td>NaN</td>\n",
       "      <td>NaN</td>\n",
       "      <td>NaN</td>\n",
       "      <td>NaN</td>\n",
       "      <td>NaN</td>\n",
       "    </tr>\n",
       "  </tbody>\n",
       "</table>\n",
       "<p>1 rows × 72 columns</p>\n",
       "</div>"
      ],
      "text/plain": [
       "           ixic ixic_cr  ixic_f  ixic_f_cr  dji dji_cr  dji_f  dji_f_cr  spx  \\\n",
       "date                                                                           \n",
       "2022-01-01  NaN     NaN     NaN        NaN  NaN    NaN    NaN       NaN  NaN   \n",
       "\n",
       "           spx_cr  ...  fu_date  op_date open high high_time low  low_time  \\\n",
       "date               ...                                                       \n",
       "2022-01-01    NaN  ...      NaN      NaN  NaN  NaN       NaN NaN       NaN   \n",
       "\n",
       "            close  vol  vol_cr  \n",
       "date                            \n",
       "2022-01-01    NaN  NaN     NaN  \n",
       "\n",
       "[1 rows x 72 columns]"
      ]
     },
     "execution_count": 3,
     "metadata": {},
     "output_type": "execute_result"
    }
   ],
   "source": [
    "df_org.head(1)"
   ]
  },
  {
   "cell_type": "code",
   "execution_count": 4,
   "id": "naval-water",
   "metadata": {},
   "outputs": [],
   "source": [
    "df = pd.read_csv('data/indices_future/{}'.format('bb1_snp500_future_20220531.csv'))\n",
    "df.columns = ['date', 'spx_f', 'open', 'high', 'low', 'volume', 'spx_f_cr']\n",
    "df['date'] = df['date'].apply(lambda x : datetime.datetime.strptime(x, \"%Y년 %m월 %d일\"))\n",
    "# df의 index를 모두 'date'로 설정\n",
    "df_select = df[['date', 'spx_f', 'spx_f_cr']]\n",
    "df_select.set_index('date', inplace=True)\n",
    "\n",
    "df_org.update(df_select) # done s&p future before 22020531"
   ]
  },
  {
   "cell_type": "code",
   "execution_count": 11,
   "id": "deadly-contrary",
   "metadata": {},
   "outputs": [],
   "source": [
    "df = pd.read_csv('data/indices_future/{}'.format('bb2_dji_future_20220531.csv'))\n",
    "df.columns = ['date', 'dji_f', 'open', 'high', 'low', 'volume', 'dji_f_cr']\n",
    "df['date'] = df['date'].apply(lambda x : datetime.datetime.strptime(x, \"%Y년 %m월 %d일\"))\n",
    "# df의 index를 모두 'date'로 설정\n",
    "df_select = df[['date', 'dji_f', 'dji_f_cr']]\n",
    "df_select.set_index('date', inplace=True)\n",
    "\n",
    "df_org.update(df_select) # done dji future before 22020531"
   ]
  },
  {
   "cell_type": "code",
   "execution_count": 13,
   "id": "unable-viking",
   "metadata": {},
   "outputs": [],
   "source": [
    "df = pd.read_csv('data/indices_future/{}'.format('bb3_nasdaq_future_20220531.csv'))\n",
    "df.columns = ['date', 'ixic_f', 'open', 'high', 'low', 'volume', 'ixic_f_cr']\n",
    "df['date'] = df['date'].apply(lambda x : datetime.datetime.strptime(x, \"%Y년 %m월 %d일\"))\n",
    "# df의 index를 모두 'date'로 설정\n",
    "df_select = df[['date', 'ixic_f', 'ixic_f_cr']]\n",
    "df_select.set_index('date', inplace=True)\n",
    "\n",
    "df_org.update(df_select) # done nasdaq before 22020531"
   ]
  },
  {
   "cell_type": "code",
   "execution_count": 15,
   "id": "parallel-internet",
   "metadata": {},
   "outputs": [],
   "source": [
    "df = pd.read_csv('data/indices_future/{}'.format('bb4_WTI_future_20220531.csv'))\n",
    "df.columns = ['date', 'wti', 'open', 'high', 'low', 'volume', 'wti_cr']\n",
    "df['date'] = df['date'].apply(lambda x : datetime.datetime.strptime(x, \"%Y년 %m월 %d일\"))\n",
    "# df의 index를 모두 'date'로 설정\n",
    "df_select = df[['date', 'wti', 'wti_cr']]\n",
    "df_select.set_index('date', inplace=True)\n",
    "\n",
    "df_org.update(df_select) # done wti before 22020531"
   ]
  },
  {
   "cell_type": "code",
   "execution_count": 19,
   "id": "sunrise-basics",
   "metadata": {},
   "outputs": [],
   "source": [
    "df = pd.read_csv('data/indices_future/{}'.format('bb5_dollar_index_future_20220531.csv'))\n",
    "df.columns = ['date', 'dxy', 'open', 'high', 'low', 'volume', 'dxy_cr']\n",
    "df['date'] = df['date'].apply(lambda x : datetime.datetime.strptime(x, \"%Y년 %m월 %d일\"))\n",
    "# df의 index를 모두 'date'로 설정\n",
    "df_select = df[['date', 'dxy', 'dxy_cr']]\n",
    "df_select.set_index('date', inplace=True)\n",
    "\n",
    "df_org.update(df_select) # done dxy before 22020531"
   ]
  },
  {
   "cell_type": "code",
   "execution_count": 21,
   "id": "tired-quick",
   "metadata": {},
   "outputs": [],
   "source": [
    "df_org.reset_index(inplace=True)\n",
    "df_org.to_csv('data/data_common.csv', index=False)"
   ]
  }
 ],
 "metadata": {
  "kernelspec": {
   "display_name": "Python 3",
   "language": "python",
   "name": "python3"
  },
  "language_info": {
   "codemirror_mode": {
    "name": "ipython",
    "version": 3
   },
   "file_extension": ".py",
   "mimetype": "text/x-python",
   "name": "python",
   "nbconvert_exporter": "python",
   "pygments_lexer": "ipython3",
   "version": "3.9.1"
  }
 },
 "nbformat": 4,
 "nbformat_minor": 5
}
