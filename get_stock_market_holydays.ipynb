{
 "cells": [
  {
   "cell_type": "markdown",
   "id": "40d83c65",
   "metadata": {},
   "source": [
    "### 한국, 미국 주식 휴장일 리스트 구하기\n",
    "\n",
    "- 휴장일을 제외한 자료 사전 처리에 사용하기 위한 휴장일 수집(2020~2022)"
   ]
  },
  {
   "cell_type": "code",
   "execution_count": 41,
   "id": "9785b781",
   "metadata": {},
   "outputs": [],
   "source": [
    "import pandas as pd\n",
    "# df = pd.read_csv('data/stock_market_holydays/sm_holydays.csv')\n",
    "filename = 'https://raw.githubusercontent.com/fasthill/'\\\n",
    "           'factors_affecting_stock_price/main/data/stock_market_holydays/stock_market_holydays.csv'\n",
    "df = pd.read_csv(filename)\n",
    "\n",
    "kor_days = df['KOR'][df['KOR'].notnull()].values.tolist()\n",
    "usa_days = df['USA'][df['USA'].notnull()].values.tolist() # Nan value를 제외한 값을 리스트로 변환\n",
    "\n",
    "def allsatsundays(start_date, end_date):\n",
    "    day_sat = pd.date_range(start=start_date, end=end_date, \n",
    "                         freq='W-SAT').strftime('%Y-%m-%d').tolist()\n",
    "    day_sun = pd.date_range(start=start_date, end=end_date, \n",
    "                         freq='W-SUN').strftime('%Y-%m-%d').tolist()\n",
    "    days = day_sat+day_sun\n",
    "    days.sort()\n",
    "    return days"
   ]
  },
  {
   "cell_type": "code",
   "execution_count": 42,
   "id": "5da2c33b",
   "metadata": {},
   "outputs": [],
   "source": [
    "start_date = '2020-01-01'\n",
    "end_date = '2022-12-31'\n",
    "holydays = allsatsundays('2020-01-01','2022-12-31')"
   ]
  },
  {
   "cell_type": "code",
   "execution_count": 43,
   "id": "fc7f6800",
   "metadata": {},
   "outputs": [],
   "source": [
    "kor_days = sorted(set(kor_days + holydays))\n",
    "usa_days = sorted(set(usa_days + holydays))"
   ]
  }
 ],
 "metadata": {
  "kernelspec": {
   "display_name": "Python 3 (ipykernel)",
   "language": "python",
   "name": "python3"
  },
  "language_info": {
   "codemirror_mode": {
    "name": "ipython",
    "version": 3
   },
   "file_extension": ".py",
   "mimetype": "text/x-python",
   "name": "python",
   "nbconvert_exporter": "python",
   "pygments_lexer": "ipython3",
   "version": "3.9.1"
  }
 },
 "nbformat": 4,
 "nbformat_minor": 5
}
