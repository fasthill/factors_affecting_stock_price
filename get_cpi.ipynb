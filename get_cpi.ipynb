{
 "cells": [
  {
   "cell_type": "code",
   "execution_count": 1,
   "id": "c4660474",
   "metadata": {},
   "outputs": [],
   "source": [
    "from selenium import webdriver as wd\n",
    "from bs4 import BeautifulSoup as bs\n",
    "import requests\n",
    "import datetime, time\n",
    "from datetime import date\n",
    "\n",
    "import pandas as pd\n",
    "import numpy as np\n",
    "import re\n",
    "import os, sys"
   ]
  },
  {
   "cell_type": "code",
   "execution_count": 2,
   "id": "1d7a0a89",
   "metadata": {},
   "outputs": [],
   "source": [
    "# !pip install chromedriver_autoinstaller\n",
    "\n",
    "import chromedriver_autoinstaller\n",
    "\n",
    "driver_name = chromedriver_autoinstaller.install()  # Check if the current version of chromedriver exists\n",
    "                                      # and if it doesn't exist, download it automatically,\n",
    "                                      # then add chromedriver to path\n",
    "time.sleep(1)\n",
    "\n",
    "driver = wd.Chrome(driver_name)"
   ]
  },
  {
   "cell_type": "code",
   "execution_count": 3,
   "id": "3dbef8b9",
   "metadata": {},
   "outputs": [],
   "source": [
    "# driver.set_window_position(-10000,0) # hide windows\n",
    "main_url = 'https://kr.investing.com/'\n",
    "driver.get(main_url)\n",
    "time.sleep(1)"
   ]
  },
  {
   "cell_type": "code",
   "execution_count": 4,
   "id": "2b3d262b",
   "metadata": {},
   "outputs": [],
   "source": [
    "driver.find_element_by_css_selector('#userAccount > div > a.login.bold').click() \n",
    "time.sleep(1)"
   ]
  },
  {
   "cell_type": "code",
   "execution_count": 5,
   "id": "5e4c8c6e",
   "metadata": {},
   "outputs": [],
   "source": [
    "driver.find_element_by_id('loginForm_password').clear()\n",
    "driver.find_element_by_id('loginFormUser_email').send_keys('kangeun@naver.com')\n",
    "time.sleep(1)"
   ]
  },
  {
   "cell_type": "code",
   "execution_count": 6,
   "id": "0a060429",
   "metadata": {},
   "outputs": [],
   "source": [
    "driver.find_element_by_id('loginForm_password').clear()\n",
    "driver.find_element_by_id('loginForm_password').send_keys(os.environ['investing_pass'])\n",
    "time.sleep(1)"
   ]
  },
  {
   "cell_type": "code",
   "execution_count": 7,
   "id": "cdf7c123",
   "metadata": {},
   "outputs": [],
   "source": [
    "driver.find_element_by_css_selector('#signup > a.newButton.orange').click()  \n",
    "time.sleep(2)"
   ]
  },
  {
   "cell_type": "code",
   "execution_count": 8,
   "id": "b27dd9b7",
   "metadata": {},
   "outputs": [],
   "source": [
    "cpi_url = 'https://kr.investing.com/economic-calendar/cpi-733'"
   ]
  },
  {
   "cell_type": "code",
   "execution_count": 9,
   "id": "6c22dad7",
   "metadata": {},
   "outputs": [],
   "source": [
    "driver.get(cpi_url)"
   ]
  },
  {
   "cell_type": "code",
   "execution_count": 10,
   "id": "82ad1f90",
   "metadata": {},
   "outputs": [],
   "source": [
    "for _ in range(3):  # 최근 데이터 3 pages\n",
    "    driver.find_element_by_id('showMoreHistory733').click()"
   ]
  },
  {
   "cell_type": "code",
   "execution_count": 24,
   "id": "47e24196",
   "metadata": {},
   "outputs": [],
   "source": [
    "df = pd.read_html(driver.page_source)[0] # cpi dataframe"
   ]
  },
  {
   "cell_type": "code",
   "execution_count": 25,
   "id": "1b36da94",
   "metadata": {},
   "outputs": [],
   "source": [
    "df.columns=  ['annouce_date', 'time', 'real_rate', 'anticipated_rate', 'prev_rate', 'none']"
   ]
  },
  {
   "cell_type": "code",
   "execution_count": 26,
   "id": "incomplete-middle",
   "metadata": {},
   "outputs": [
    {
     "data": {
      "text/html": [
       "<div>\n",
       "<style scoped>\n",
       "    .dataframe tbody tr th:only-of-type {\n",
       "        vertical-align: middle;\n",
       "    }\n",
       "\n",
       "    .dataframe tbody tr th {\n",
       "        vertical-align: top;\n",
       "    }\n",
       "\n",
       "    .dataframe thead th {\n",
       "        text-align: right;\n",
       "    }\n",
       "</style>\n",
       "<table border=\"1\" class=\"dataframe\">\n",
       "  <thead>\n",
       "    <tr style=\"text-align: right;\">\n",
       "      <th></th>\n",
       "      <th>annouce_date</th>\n",
       "      <th>time</th>\n",
       "      <th>real_rate</th>\n",
       "      <th>anticipated_rate</th>\n",
       "      <th>prev_rate</th>\n",
       "      <th>none</th>\n",
       "    </tr>\n",
       "  </thead>\n",
       "  <tbody>\n",
       "    <tr>\n",
       "      <th>0</th>\n",
       "      <td>2022년 07월 13일 (6월)</td>\n",
       "      <td>21:30</td>\n",
       "      <td>NaN</td>\n",
       "      <td>8.3%</td>\n",
       "      <td>8.6%</td>\n",
       "      <td>NaN</td>\n",
       "    </tr>\n",
       "    <tr>\n",
       "      <th>1</th>\n",
       "      <td>2022년 06월 10일 (5월)</td>\n",
       "      <td>21:30</td>\n",
       "      <td>8.6%</td>\n",
       "      <td>8.3%</td>\n",
       "      <td>8.3%</td>\n",
       "      <td>NaN</td>\n",
       "    </tr>\n",
       "    <tr>\n",
       "      <th>2</th>\n",
       "      <td>2022년 05월 11일 (4월)</td>\n",
       "      <td>21:30</td>\n",
       "      <td>8.3%</td>\n",
       "      <td>8.1%</td>\n",
       "      <td>8.5%</td>\n",
       "      <td>NaN</td>\n",
       "    </tr>\n",
       "    <tr>\n",
       "      <th>3</th>\n",
       "      <td>2022년 04월 12일 (3월)</td>\n",
       "      <td>21:30</td>\n",
       "      <td>8.5%</td>\n",
       "      <td>8.4%</td>\n",
       "      <td>7.9%</td>\n",
       "      <td>NaN</td>\n",
       "    </tr>\n",
       "    <tr>\n",
       "      <th>4</th>\n",
       "      <td>2022년 03월 10일 (2월)</td>\n",
       "      <td>22:30</td>\n",
       "      <td>7.9%</td>\n",
       "      <td>7.9%</td>\n",
       "      <td>7.5%</td>\n",
       "      <td>NaN</td>\n",
       "    </tr>\n",
       "  </tbody>\n",
       "</table>\n",
       "</div>"
      ],
      "text/plain": [
       "         annouce_date   time real_rate anticipated_rate prev_rate  none\n",
       "0  2022년 07월 13일 (6월)  21:30       NaN             8.3%      8.6%   NaN\n",
       "1  2022년 06월 10일 (5월)  21:30      8.6%             8.3%      8.3%   NaN\n",
       "2  2022년 05월 11일 (4월)  21:30      8.3%             8.1%      8.5%   NaN\n",
       "3  2022년 04월 12일 (3월)  21:30      8.5%             8.4%      7.9%   NaN\n",
       "4  2022년 03월 10일 (2월)  22:30      7.9%             7.9%      7.5%   NaN"
      ]
     },
     "execution_count": 26,
     "metadata": {},
     "output_type": "execute_result"
    }
   ],
   "source": [
    "df.head()"
   ]
  },
  {
   "cell_type": "code",
   "execution_count": 27,
   "id": "false-burden",
   "metadata": {},
   "outputs": [],
   "source": [
    "df['annouce_date'] = df['annouce_date'].apply(lambda x : datetime.datetime.strptime(x[:13], \"%Y년 %m월 %d일\"))"
   ]
  },
  {
   "cell_type": "code",
   "execution_count": 28,
   "id": "duplicate-charles",
   "metadata": {},
   "outputs": [],
   "source": [
    "df['time'] = df['time'].apply(lambda x : datetime.datetime.strptime(x, \"%H:%M\").time())"
   ]
  },
  {
   "cell_type": "code",
   "execution_count": 29,
   "id": "rocky-world",
   "metadata": {},
   "outputs": [
    {
     "data": {
      "text/html": [
       "<div>\n",
       "<style scoped>\n",
       "    .dataframe tbody tr th:only-of-type {\n",
       "        vertical-align: middle;\n",
       "    }\n",
       "\n",
       "    .dataframe tbody tr th {\n",
       "        vertical-align: top;\n",
       "    }\n",
       "\n",
       "    .dataframe thead th {\n",
       "        text-align: right;\n",
       "    }\n",
       "</style>\n",
       "<table border=\"1\" class=\"dataframe\">\n",
       "  <thead>\n",
       "    <tr style=\"text-align: right;\">\n",
       "      <th></th>\n",
       "      <th>annouce_date</th>\n",
       "      <th>time</th>\n",
       "      <th>real_rate</th>\n",
       "      <th>anticipated_rate</th>\n",
       "      <th>prev_rate</th>\n",
       "      <th>none</th>\n",
       "    </tr>\n",
       "  </thead>\n",
       "  <tbody>\n",
       "    <tr>\n",
       "      <th>0</th>\n",
       "      <td>2022-07-13</td>\n",
       "      <td>21:30:00</td>\n",
       "      <td>NaN</td>\n",
       "      <td>8.3%</td>\n",
       "      <td>8.6%</td>\n",
       "      <td>NaN</td>\n",
       "    </tr>\n",
       "    <tr>\n",
       "      <th>1</th>\n",
       "      <td>2022-06-10</td>\n",
       "      <td>21:30:00</td>\n",
       "      <td>8.6%</td>\n",
       "      <td>8.3%</td>\n",
       "      <td>8.3%</td>\n",
       "      <td>NaN</td>\n",
       "    </tr>\n",
       "    <tr>\n",
       "      <th>2</th>\n",
       "      <td>2022-05-11</td>\n",
       "      <td>21:30:00</td>\n",
       "      <td>8.3%</td>\n",
       "      <td>8.1%</td>\n",
       "      <td>8.5%</td>\n",
       "      <td>NaN</td>\n",
       "    </tr>\n",
       "    <tr>\n",
       "      <th>3</th>\n",
       "      <td>2022-04-12</td>\n",
       "      <td>21:30:00</td>\n",
       "      <td>8.5%</td>\n",
       "      <td>8.4%</td>\n",
       "      <td>7.9%</td>\n",
       "      <td>NaN</td>\n",
       "    </tr>\n",
       "    <tr>\n",
       "      <th>4</th>\n",
       "      <td>2022-03-10</td>\n",
       "      <td>22:30:00</td>\n",
       "      <td>7.9%</td>\n",
       "      <td>7.9%</td>\n",
       "      <td>7.5%</td>\n",
       "      <td>NaN</td>\n",
       "    </tr>\n",
       "  </tbody>\n",
       "</table>\n",
       "</div>"
      ],
      "text/plain": [
       "  annouce_date      time real_rate anticipated_rate prev_rate  none\n",
       "0   2022-07-13  21:30:00       NaN             8.3%      8.6%   NaN\n",
       "1   2022-06-10  21:30:00      8.6%             8.3%      8.3%   NaN\n",
       "2   2022-05-11  21:30:00      8.3%             8.1%      8.5%   NaN\n",
       "3   2022-04-12  21:30:00      8.5%             8.4%      7.9%   NaN\n",
       "4   2022-03-10  22:30:00      7.9%             7.9%      7.5%   NaN"
      ]
     },
     "execution_count": 29,
     "metadata": {},
     "output_type": "execute_result"
    }
   ],
   "source": [
    "df.head()"
   ]
  },
  {
   "cell_type": "code",
   "execution_count": 30,
   "id": "regulated-click",
   "metadata": {},
   "outputs": [],
   "source": [
    "today = datetime.date.today()\n",
    "today = today.strftime('%Y%m%d')"
   ]
  },
  {
   "cell_type": "code",
   "execution_count": 33,
   "id": "6a325ccb",
   "metadata": {},
   "outputs": [],
   "source": [
    "df.to_csv('data/indices_major/aa8_cpi_index_'+today+'.csv', index=False)"
   ]
  },
  {
   "cell_type": "code",
   "execution_count": null,
   "id": "f700f2e7",
   "metadata": {},
   "outputs": [],
   "source": [
    "# real_time_future_url = 'https://kr.investing.com/indices/indices-futures' # do not need\n",
    "# driver.get(real_time_future_url) # do not need"
   ]
  }
 ],
 "metadata": {
  "kernelspec": {
   "display_name": "Python 3 (ipykernel)",
   "language": "python",
   "name": "python3"
  },
  "language_info": {
   "codemirror_mode": {
    "name": "ipython",
    "version": 3
   },
   "file_extension": ".py",
   "mimetype": "text/x-python",
   "name": "python",
   "nbconvert_exporter": "python",
   "pygments_lexer": "ipython3",
   "version": "3.9.1"
  }
 },
 "nbformat": 4,
 "nbformat_minor": 5
}
