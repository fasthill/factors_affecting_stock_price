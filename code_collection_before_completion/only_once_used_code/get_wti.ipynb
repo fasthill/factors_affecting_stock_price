{
 "cells": [
  {
   "cell_type": "markdown",
   "id": "mathematical-cable",
   "metadata": {},
   "source": [
    "### 최초 한번 실행 과거 데이터 추출용"
   ]
  },
  {
   "cell_type": "code",
   "execution_count": null,
   "id": "tropical-invite",
   "metadata": {},
   "outputs": [],
   "source": [
    "from selenium import webdriver as wd\n",
    "from bs4 import BeautifulSoup as bs\n",
    "import requests\n",
    "import datetime\n",
    "from datetime import date\n",
    "import pandas as pd\n",
    "import time\n",
    "import os, sys"
   ]
  },
  {
   "cell_type": "code",
   "execution_count": null,
   "id": "further-fancy",
   "metadata": {},
   "outputs": [],
   "source": [
    "import chromedriver_autoinstaller\n",
    "\n",
    "driver_name = chromedriver_autoinstaller.install()  # Check if the current version of chromedriver exists\n",
    "                                      # and if it doesn't exist, download it automatically,\n",
    "                                      # then add chromedriver to path\n",
    "time.sleep(1)"
   ]
  },
  {
   "cell_type": "code",
   "execution_count": null,
   "id": "disturbed-excerpt",
   "metadata": {},
   "outputs": [],
   "source": [
    "driver = wd.Chrome(driver_name)"
   ]
  },
  {
   "cell_type": "code",
   "execution_count": null,
   "id": "amazing-october",
   "metadata": {},
   "outputs": [],
   "source": [
    "# driver.set_window_position(-10000,0) # hide windows\n",
    "main_url = 'https://kr.investing.com/'\n",
    "driver.get(main_url)\n",
    "time.sleep(1)"
   ]
  },
  {
   "cell_type": "code",
   "execution_count": null,
   "id": "subject-sound",
   "metadata": {},
   "outputs": [],
   "source": [
    "driver.find_element_by_css_selector('#userAccount > div > a.login.bold').click() \n",
    "time.sleep(1)\n",
    "\n",
    "driver.find_element_by_id('loginForm_password').clear()\n",
    "driver.find_element_by_id('loginFormUser_email').send_keys('kangeun@naver.com')\n",
    "time.sleep(1)\n",
    "\n",
    "driver.find_element_by_id('loginForm_password').clear()\n",
    "driver.find_element_by_id('loginForm_password').send_keys(os.environ['investing_pass'])\n",
    "time.sleep(1)\n",
    "\n",
    "driver.find_element_by_css_selector('#signup > a.newButton.orange').click()  \n",
    "time.sleep(2)"
   ]
  },
  {
   "cell_type": "code",
   "execution_count": null,
   "id": "anonymous-execution",
   "metadata": {},
   "outputs": [],
   "source": [
    "def get_index_historical_data(start_date, end_date):\n",
    "    data_download_sel = '#column-content > div.float_lang_base_2.downloadDataWrap > div > a'\n",
    "    for sd, ed in zip(start_date, end_date):\n",
    "        driver.find_element_by_css_selector('#widgetFieldDateRange').click()\n",
    "        driver.find_element_by_id('startDate').clear()\n",
    "        driver.find_element_by_id('startDate').send_keys(sd)\n",
    "        driver.find_element_by_id('endDate').clear()\n",
    "        driver.find_element_by_id('endDate').send_keys(ed)\n",
    "        driver.find_element_by_css_selector('#applyBtn').click()\n",
    "        time.sleep(1) # 시간을 줘야 함.\n",
    "        driver.find_element_by_css_selector(data_download_sel).click()"
   ]
  },
  {
   "cell_type": "code",
   "execution_count": null,
   "id": "assisted-smart",
   "metadata": {},
   "outputs": [],
   "source": [
    "# 검색하고자 하는 일정 기간 정의\n",
    "start_date = ['2021/12/01', '2022/02/01', '2022/04/01']\n",
    "end_date = ['2022/01/31', '2022/03/31', '2022/05/31']"
   ]
  },
  {
   "cell_type": "code",
   "execution_count": null,
   "id": "eight-spending",
   "metadata": {},
   "outputs": [],
   "source": [
    "urls = ['https://kr.investing.com/commodities/crude-oil-historical-data']"
   ]
  },
  {
   "cell_type": "code",
   "execution_count": null,
   "id": "yellow-yacht",
   "metadata": {},
   "outputs": [],
   "source": [
    "for url in urls:\n",
    "    driver.get(url)\n",
    "    time.sleep(1)\n",
    "    get_index_historical_data(start_date, end_date)"
   ]
  },
  {
   "cell_type": "code",
   "execution_count": null,
   "id": "prerequisite-surface",
   "metadata": {},
   "outputs": [],
   "source": [
    "driver.close()\n",
    "driver.quit()"
   ]
  }
 ],
 "metadata": {
  "kernelspec": {
   "display_name": "Python 3",
   "language": "python",
   "name": "python3"
  },
  "language_info": {
   "codemirror_mode": {
    "name": "ipython",
    "version": 3
   },
   "file_extension": ".py",
   "mimetype": "text/x-python",
   "name": "python",
   "nbconvert_exporter": "python",
   "pygments_lexer": "ipython3",
   "version": "3.9.1"
  }
 },
 "nbformat": 4,
 "nbformat_minor": 5
}
