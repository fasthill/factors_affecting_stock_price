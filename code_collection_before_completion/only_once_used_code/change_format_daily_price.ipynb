{
 "cells": [
  {
   "cell_type": "code",
   "execution_count": null,
   "id": "single-chick",
   "metadata": {},
   "outputs": [],
   "source": [
    "from selenium import webdriver as wd\n",
    "from bs4 import BeautifulSoup as bs\n",
    "import requests\n",
    "import datetime, time\n",
    "from datetime import date\n",
    "\n",
    "import pandas as pd\n",
    "import re\n",
    "import os, sys"
   ]
  },
  {
   "cell_type": "code",
   "execution_count": null,
   "id": "9e787bf4",
   "metadata": {},
   "outputs": [],
   "source": [
    "dir_f = 'data/stocks/daily_price/'\n",
    "file_list = os.listdir(dir_f)"
   ]
  },
  {
   "cell_type": "code",
   "execution_count": null,
   "id": "2b3f468d",
   "metadata": {},
   "outputs": [],
   "source": [
    "file_list"
   ]
  },
  {
   "cell_type": "code",
   "execution_count": null,
   "id": "f3097411",
   "metadata": {},
   "outputs": [],
   "source": [
    "f_hy = file_list[:5]\n",
    "f_sec = file_list[6:11]\n",
    "f_ktng = file_list[12:17]\n",
    "f_na = file_list[18:-1]\n",
    "ff = [f_hy , f_sec, f_ktng , f_na ]"
   ]
  },
  {
   "cell_type": "code",
   "execution_count": null,
   "id": "53a396d1",
   "metadata": {},
   "outputs": [],
   "source": [
    "today = datetime.date.today()\n",
    "today = today.strftime('%Y%m%d')"
   ]
  },
  {
   "cell_type": "code",
   "execution_count": null,
   "id": "governing-summit",
   "metadata": {},
   "outputs": [],
   "source": [
    "column_eng = ['date', 'price', 'change', 'change(%)', 'amount', 'volume']\n",
    "column_kor = ['날짜', '현재가', '등락', '등락률(%)', '체결량', '거래량']"
   ]
  },
  {
   "cell_type": "code",
   "execution_count": null,
   "id": "6da47183",
   "metadata": {},
   "outputs": [],
   "source": [
    "for f_n in ff:\n",
    "    for fn in f_n:\n",
    "        df = pd.read_csv(dir_f+fn)\n",
    "        df.columns = column_eng\n",
    "        df_temp = df['date']\n",
    "        yr = today[:4]\n",
    "        df['date'] = df_temp.apply(lambda x : datetime.datetime.strptime(yr+x[:5], \"%Y%m/%d\"))\n",
    "        df.insert(1, 'time', df_temp.apply(lambda x : datetime.datetime.strptime(x[-5:], \"%H:%M\").time()))\n",
    "        filename = '{}{}'.format(dir_f,fn)\n",
    "        df.to_csv(filename, index=False)"
   ]
  }
 ],
 "metadata": {
  "kernelspec": {
   "display_name": "Python 3",
   "language": "python",
   "name": "python3"
  },
  "language_info": {
   "codemirror_mode": {
    "name": "ipython",
    "version": 3
   },
   "file_extension": ".py",
   "mimetype": "text/x-python",
   "name": "python",
   "nbconvert_exporter": "python",
   "pygments_lexer": "ipython3",
   "version": "3.9.1"
  }
 },
 "nbformat": 4,
 "nbformat_minor": 5
}
