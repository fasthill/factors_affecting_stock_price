{
 "cells": [
  {
   "cell_type": "code",
   "execution_count": 1,
   "id": "matched-interview",
   "metadata": {},
   "outputs": [],
   "source": [
    "from bs4 import BeautifulSoup as bs\n",
    "import requests\n",
    "import datetime, time\n",
    "from datetime import date\n",
    "\n",
    "import pandas as pd\n",
    "import numpy as np"
   ]
  },
  {
   "cell_type": "code",
   "execution_count": 5,
   "id": "selective-ireland",
   "metadata": {},
   "outputs": [],
   "source": [
    "headers = {'User-Agent': 'Mozilla/5.0 (Macintosh; Intel Mac OS X 10_11_5) \\\n",
    "           AppleWebKit/537.36 (KHTML, like Gecko) Chrome/50.0.2661.102 Safari/537.36'}"
   ]
  },
  {
   "cell_type": "code",
   "execution_count": 6,
   "id": "fd7c61ba",
   "metadata": {},
   "outputs": [],
   "source": [
    "gold_url = 'https://www.usagold.com/daily-gold-price-history/'"
   ]
  },
  {
   "cell_type": "code",
   "execution_count": 20,
   "id": "caa4b9b3",
   "metadata": {},
   "outputs": [],
   "source": [
    "dir_name = 'data/gold_material/'\n",
    "start_ix = 'gg'\n",
    "file_name = 'gold'\n",
    "i = 1"
   ]
  },
  {
   "cell_type": "code",
   "execution_count": 21,
   "id": "furnished-writing",
   "metadata": {},
   "outputs": [],
   "source": [
    "today = datetime.date.today()\n",
    "today = today.strftime('%Y%m%d')"
   ]
  },
  {
   "cell_type": "code",
   "execution_count": 36,
   "id": "2b7ebda2",
   "metadata": {},
   "outputs": [],
   "source": [
    "res = requests.get(gold_url, headers=headers)\n",
    "df = pd.read_html(res.text, flavor=[\"lxml\", \"bs4\"])\n",
    "df = df[0].drop(0) # delete empty first row\n",
    "df.columns = ['date', 'price']\n",
    "df['date'] = df['date'].apply(lambda x : datetime.datetime.strptime(x, \"%d %b %Y\"))"
   ]
  },
  {
   "cell_type": "code",
   "execution_count": 37,
   "id": "49c3ae4b",
   "metadata": {},
   "outputs": [],
   "source": [
    "# calculate change_rate\n",
    "df_shift_m1 = df['price'].shift(-1)\n",
    "df['price_cr'] = (df['price'] - df_shift_m1)/df_shift_m1"
   ]
  },
  {
   "cell_type": "code",
   "execution_count": 39,
   "id": "5c5884b3",
   "metadata": {},
   "outputs": [],
   "source": [
    "filename = '{}{}{}_{}_{}.csv'.format(dir_name, start_ix,i,file_name, today)\n",
    "df.to_csv(filename, index=False)"
   ]
  },
  {
   "cell_type": "code",
   "execution_count": 40,
   "id": "6c61f972",
   "metadata": {},
   "outputs": [
    {
     "data": {
      "text/html": [
       "<div>\n",
       "<style scoped>\n",
       "    .dataframe tbody tr th:only-of-type {\n",
       "        vertical-align: middle;\n",
       "    }\n",
       "\n",
       "    .dataframe tbody tr th {\n",
       "        vertical-align: top;\n",
       "    }\n",
       "\n",
       "    .dataframe thead th {\n",
       "        text-align: right;\n",
       "    }\n",
       "</style>\n",
       "<table border=\"1\" class=\"dataframe\">\n",
       "  <thead>\n",
       "    <tr style=\"text-align: right;\">\n",
       "      <th></th>\n",
       "      <th>date</th>\n",
       "      <th>price</th>\n",
       "      <th>price_cr</th>\n",
       "    </tr>\n",
       "  </thead>\n",
       "  <tbody>\n",
       "    <tr>\n",
       "      <th>1</th>\n",
       "      <td>2022-06-28</td>\n",
       "      <td>1824.82</td>\n",
       "      <td>0.000664</td>\n",
       "    </tr>\n",
       "    <tr>\n",
       "      <th>2</th>\n",
       "      <td>2022-06-27</td>\n",
       "      <td>1823.61</td>\n",
       "      <td>-0.002150</td>\n",
       "    </tr>\n",
       "    <tr>\n",
       "      <th>3</th>\n",
       "      <td>2022-06-24</td>\n",
       "      <td>1827.54</td>\n",
       "      <td>0.001556</td>\n",
       "    </tr>\n",
       "    <tr>\n",
       "      <th>4</th>\n",
       "      <td>2022-06-23</td>\n",
       "      <td>1824.70</td>\n",
       "      <td>-0.006517</td>\n",
       "    </tr>\n",
       "    <tr>\n",
       "      <th>5</th>\n",
       "      <td>2022-06-22</td>\n",
       "      <td>1836.67</td>\n",
       "      <td>0.002883</td>\n",
       "    </tr>\n",
       "  </tbody>\n",
       "</table>\n",
       "</div>"
      ],
      "text/plain": [
       "        date    price  price_cr\n",
       "1 2022-06-28  1824.82  0.000664\n",
       "2 2022-06-27  1823.61 -0.002150\n",
       "3 2022-06-24  1827.54  0.001556\n",
       "4 2022-06-23  1824.70 -0.006517\n",
       "5 2022-06-22  1836.67  0.002883"
      ]
     },
     "execution_count": 40,
     "metadata": {},
     "output_type": "execute_result"
    }
   ],
   "source": [
    "df.head()"
   ]
  },
  {
   "cell_type": "code",
   "execution_count": null,
   "id": "9a69643b",
   "metadata": {},
   "outputs": [],
   "source": []
  }
 ],
 "metadata": {
  "kernelspec": {
   "display_name": "Python 3",
   "language": "python",
   "name": "python3"
  },
  "language_info": {
   "codemirror_mode": {
    "name": "ipython",
    "version": 3
   },
   "file_extension": ".py",
   "mimetype": "text/x-python",
   "name": "python",
   "nbconvert_exporter": "python",
   "pygments_lexer": "ipython3",
   "version": "3.9.1"
  }
 },
 "nbformat": 4,
 "nbformat_minor": 5
}
