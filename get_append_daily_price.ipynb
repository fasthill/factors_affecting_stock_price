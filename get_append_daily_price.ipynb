{
 "cells": [
  {
   "cell_type": "markdown",
   "id": "atlantic-congress",
   "metadata": {},
   "source": [
    "### KRX 데이터정보시스템\n",
    "매일 주식거래 내용"
   ]
  },
  {
   "cell_type": "code",
   "execution_count": 1,
   "id": "b6071c61",
   "metadata": {},
   "outputs": [],
   "source": [
    "from selenium import webdriver as wd\n",
    "from selenium.webdriver import ActionChains # scroll down 사용하기 위하여 선서\n",
    "from selenium.webdriver.common.keys import Keys\n",
    "from bs4 import BeautifulSoup as bs\n",
    "\n",
    "import datetime, time\n",
    "from datetime import date\n",
    "\n",
    "import pandas as pd\n",
    "import requests\n",
    "import time\n",
    "import os, sys"
   ]
  },
  {
   "cell_type": "code",
   "execution_count": 2,
   "id": "social-sunrise",
   "metadata": {},
   "outputs": [],
   "source": [
    "from selenium.webdriver.common.by import By\n",
    "from selenium.webdriver.support.ui import WebDriverWait\n",
    "from selenium.webdriver.support import expected_conditions as EC"
   ]
  },
  {
   "cell_type": "code",
   "execution_count": 3,
   "id": "983181b0",
   "metadata": {},
   "outputs": [],
   "source": [
    "# !pip install chromedriver_autoinstaller\n",
    "\n",
    "import chromedriver_autoinstaller\n",
    "\n",
    "driver_name = chromedriver_autoinstaller.install()  # Check if the current version of chromedriver exists\n",
    "                                      # and if it doesn't exist, download it automatically,\n",
    "                                      # then add chromedriver to path\n",
    "time.sleep(1)"
   ]
  },
  {
   "cell_type": "code",
   "execution_count": 16,
   "id": "compressed-cornell",
   "metadata": {},
   "outputs": [],
   "source": [
    "driver = wd.Chrome(driver_name)"
   ]
  },
  {
   "cell_type": "code",
   "execution_count": 17,
   "id": "29e69d53",
   "metadata": {},
   "outputs": [],
   "source": [
    "# driver.set_window_position(-10000,0) # hide windows\n",
    "main_url = 'http://data.krx.co.kr/contents/MDC/MDI/mdiLoader/index.cmd?menuId=MDC0201020103'\n",
    "# 개별종목 시세추이 data-menu-id: MDC0201020103\n",
    "driver.get(main_url)\n",
    "time.sleep(2)"
   ]
  },
  {
   "cell_type": "code",
   "execution_count": 19,
   "id": "80f785a1",
   "metadata": {},
   "outputs": [],
   "source": [
    "company_name = ['005930/삼성전자', '005380/현대차', '035420/NAVER', '033780/KT&G']\n",
    "company_code = {'sec': '005930', 'hyunmotor': '005380', 'naver': '035420', 'ktng': '033780'}\n",
    "company_name = ['005380/현대차']\n",
    "company_code = {'hyunmotor': '005380'}\n",
    "\n",
    "company_match = {'005930': '005930/삼성전자', '005380': '005380/현대차',\n",
    "                 '035420': '035420/NAVER', '033780': '033780/KT&G'}"
   ]
  },
  {
   "cell_type": "code",
   "execution_count": 26,
   "id": "imposed-respect",
   "metadata": {},
   "outputs": [],
   "source": [
    "start_date = '2022-01-01'\n",
    "today = datetime.date.today()\n",
    "today = today.strftime('%Y-%m-%d')\n",
    "end_date = today"
   ]
  },
  {
   "cell_type": "code",
   "execution_count": null,
   "id": "a2268680",
   "metadata": {},
   "outputs": [],
   "source": [
    "column_name = ['financial', 'insurance', 'invtrust', 'privequity', 'bank', 'financeetc', 'pension',\n",
    "              'institution', 'corporateetc', 'retail', 'foreigner', 'foreigneretc', 'total' ]"
   ]
  },
  {
   "cell_type": "code",
   "execution_count": 23,
   "id": "8903361a",
   "metadata": {},
   "outputs": [],
   "source": [
    "# 백만원 단위 표시 선정\n",
    "css_sel = '#MDCSTAT017_FORM > div.CI-MDI-UNIT-WRAP > div > p:nth-child(2) \\\n",
    "           > select.CI-MDI-UNIT-MONEY > option:nth-child(3)'\n",
    "driver.find_element_by_css_selector(css_sel).click()\n",
    "time.sleep(1)"
   ]
  },
  {
   "cell_type": "code",
   "execution_count": 28,
   "id": "3925b19c",
   "metadata": {},
   "outputs": [],
   "source": [
    "# 회사이름 입력 Q 버튼\n",
    "driver.find_element_by_css_selector('#btnisuCd_finder_stkisu0_0').click()\n",
    "time.sleep(2)\n",
    "\n",
    "# pop up된 입력창에서 회사이름 입력\n",
    "driver.find_element_by_id('searchText__finder_stkisu0_0').clear()\n",
    "time.sleep(1)\n",
    "driver.find_element_by_id('searchText__finder_stkisu0_0').send_keys(company_name[0])\n",
    "time.sleep(2)\n",
    "\n",
    "# 검색 버튼 푸시\n",
    "driver.find_element_by_css_selector('#searchBtn__finder_stkisu0_0').click()\n",
    "time.sleep(2)\n",
    "\n",
    "# 테이블에서 최종 선택\n",
    "css_sel = '#jsGrid__finder_stkisu0_0 > tbody > tr:nth-child(1) > td:nth-child(1)'\n",
    "driver.find_element_by_css_selector(css_sel).click()\n",
    "time.sleep(2)\n",
    "\n",
    "# end_date를 먼저 입력하고 start date 입력. 반대로 하면 start date가 이전날짜로  reset되어짐\n",
    "driver.find_element_by_id('endDd').clear()\n",
    "driver.find_element_by_id('endDd').send_keys(end_date)\n",
    "time.sleep(1)\n",
    "driver.find_element_by_id('strdDd').clear()\n",
    "driver.find_element_by_id('strdDd').send_keys(start_date)\n",
    "time.sleep(1)\n"
   ]
  },
  {
   "cell_type": "code",
   "execution_count": 29,
   "id": "c6cde0ff",
   "metadata": {},
   "outputs": [],
   "source": [
    "driver.find_element_by_id('jsSearchButton').click()\n",
    "time.sleep(5)"
   ]
  },
  {
   "cell_type": "code",
   "execution_count": 37,
   "id": "4c55edff",
   "metadata": {},
   "outputs": [],
   "source": [
    "column_name = ['date', 'close', 'change', 'close_cr', 'open', 'high', 'low', \n",
    "              'vol_quantity', 'vol','total_amount', 'total_counts' ]\n",
    "# ['일자', '종가', '대비', '등락률', '시가', '고가', '저가', '거래량', '거래대금', '시가총액', '상장주식수']"
   ]
  },
  {
   "cell_type": "code",
   "execution_count": 38,
   "id": "00d53746",
   "metadata": {},
   "outputs": [],
   "source": [
    "df = pd.read_html(driver.page_source, \n",
    "                          attrs={\"class\": \"CI-GRID-BODY-TABLE\"}, flavor=[\"lxml\", \"bs4\"])[0]\n",
    "df.columns = column_name\n",
    "df['date'] = df['date'].apply(lambda x : datetime.datetime.strptime(x, \"%Y/%m/%d\"))\n",
    "df_new = df[['date', 'close', 'close_cr', 'open', 'high', 'low', 'vol']]\n",
    "df_new.set_index('date', inplace=True)"
   ]
  },
  {
   "cell_type": "code",
   "execution_count": 46,
   "id": "32d45b35",
   "metadata": {},
   "outputs": [
    {
     "data": {
      "text/html": [
       "<div>\n",
       "<style scoped>\n",
       "    .dataframe tbody tr th:only-of-type {\n",
       "        vertical-align: middle;\n",
       "    }\n",
       "\n",
       "    .dataframe tbody tr th {\n",
       "        vertical-align: top;\n",
       "    }\n",
       "\n",
       "    .dataframe thead th {\n",
       "        text-align: right;\n",
       "    }\n",
       "</style>\n",
       "<table border=\"1\" class=\"dataframe\">\n",
       "  <thead>\n",
       "    <tr style=\"text-align: right;\">\n",
       "      <th></th>\n",
       "      <th>close</th>\n",
       "      <th>close_cr</th>\n",
       "      <th>open</th>\n",
       "      <th>high</th>\n",
       "      <th>low</th>\n",
       "      <th>vol</th>\n",
       "    </tr>\n",
       "    <tr>\n",
       "      <th>date</th>\n",
       "      <th></th>\n",
       "      <th></th>\n",
       "      <th></th>\n",
       "      <th></th>\n",
       "      <th></th>\n",
       "      <th></th>\n",
       "    </tr>\n",
       "  </thead>\n",
       "  <tbody>\n",
       "    <tr>\n",
       "      <th>2022-07-08</th>\n",
       "      <td>178000</td>\n",
       "      <td>1.71</td>\n",
       "      <td>177500</td>\n",
       "      <td>180500</td>\n",
       "      <td>177000</td>\n",
       "      <td>146792</td>\n",
       "    </tr>\n",
       "    <tr>\n",
       "      <th>2022-07-07</th>\n",
       "      <td>175000</td>\n",
       "      <td>1.45</td>\n",
       "      <td>175000</td>\n",
       "      <td>177000</td>\n",
       "      <td>172500</td>\n",
       "      <td>93811</td>\n",
       "    </tr>\n",
       "    <tr>\n",
       "      <th>2022-07-06</th>\n",
       "      <td>172500</td>\n",
       "      <td>-2.82</td>\n",
       "      <td>176000</td>\n",
       "      <td>177000</td>\n",
       "      <td>172000</td>\n",
       "      <td>160991</td>\n",
       "    </tr>\n",
       "    <tr>\n",
       "      <th>2022-07-05</th>\n",
       "      <td>177500</td>\n",
       "      <td>-0.28</td>\n",
       "      <td>180000</td>\n",
       "      <td>181000</td>\n",
       "      <td>173500</td>\n",
       "      <td>193694</td>\n",
       "    </tr>\n",
       "    <tr>\n",
       "      <th>2022-07-04</th>\n",
       "      <td>178000</td>\n",
       "      <td>-1.11</td>\n",
       "      <td>181000</td>\n",
       "      <td>183000</td>\n",
       "      <td>175000</td>\n",
       "      <td>179460</td>\n",
       "    </tr>\n",
       "  </tbody>\n",
       "</table>\n",
       "</div>"
      ],
      "text/plain": [
       "             close  close_cr    open    high     low     vol\n",
       "date                                                        \n",
       "2022-07-08  178000      1.71  177500  180500  177000  146792\n",
       "2022-07-07  175000      1.45  175000  177000  172500   93811\n",
       "2022-07-06  172500     -2.82  176000  177000  172000  160991\n",
       "2022-07-05  177500     -0.28  180000  181000  173500  193694\n",
       "2022-07-04  178000     -1.11  181000  183000  175000  179460"
      ]
     },
     "execution_count": 46,
     "metadata": {},
     "output_type": "execute_result"
    }
   ],
   "source": [
    "df_new.head()"
   ]
  },
  {
   "cell_type": "code",
   "execution_count": null,
   "id": "7ea4d592",
   "metadata": {},
   "outputs": [],
   "source": [
    "def get_data_company(com_name, start_date, end_date):\n",
    "\n",
    "    # 회사이름 입력 Q 버튼\n",
    "    driver.find_element_by_css_selector('#btnisuCd_finder_stkisu0_0').click()\n",
    "    time.sleep(2)\n",
    "\n",
    "    # pop up된 입력창에서 회사이름 입력\n",
    "    driver.find_element_by_id('searchText__finder_stkisu0_0').clear()\n",
    "    time.sleep(1)\n",
    "    driver.find_element_by_id('searchText__finder_stkisu0_0').send_keys(com_name)\n",
    "    time.sleep(2)\n",
    "\n",
    "    # 검색 버튼 푸시\n",
    "    driver.find_element_by_css_selector('#searchBtn__finder_stkisu0_0').click()\n",
    "    time.sleep(2)\n",
    "\n",
    "    # 테이블에서 최종 선택\n",
    "    css_sel = '#jsGrid__finder_stkisu0_0 > tbody > tr:nth-child(1) > td:nth-child(1)'\n",
    "    driver.find_element_by_css_selector(css_sel).click()\n",
    "    time.sleep(2)\n",
    "\n",
    "    # end_date를 먼저 입력하고 start date 입력. 반대로 하면 start date가 이전날짜로  reset되어짐\n",
    "    driver.find_element_by_id('endDd').clear()\n",
    "    driver.find_element_by_id('endDd').send_keys(end_date)\n",
    "    time.sleep(1)\n",
    "    driver.find_element_by_id('strdDd').clear()\n",
    "    driver.find_element_by_id('strdDd').send_keys(start_date)\n",
    "    time.sleep(1)\n",
    "\n",
    "    return get_data(date_range)"
   ]
  },
  {
   "cell_type": "code",
   "execution_count": null,
   "id": "0309f97c",
   "metadata": {},
   "outputs": [],
   "source": [
    "column_name = ['date', 'close', 'change', 'close_cr', 'open', 'high', 'low', \n",
    "                  'vol_quantity', 'vol','total_amount', 'total_counts' ]\n",
    "    # ['일자', '종가', '대비', '등락률', '시가', '고가', '저가', '거래량', '거래대금', '시가총액', '상장주식수']\n",
    "\n",
    "def get_data(date_range):\n",
    "    \n",
    "    driver.find_element_by_id('jsSearchButton').click()\n",
    "    time.sleep(5)\n",
    "    \n",
    "    df = pd.read_html(driver.page_source, \n",
    "                              attrs={\"class\": \"CI-GRID-BODY-TABLE\"}, flavor=[\"lxml\", \"bs4\"])[0]\n",
    "    df.columns = column_name\n",
    "    df['date'] = df['date'].apply(lambda x : datetime.datetime.strptime(x, \"%Y/%m/%d\"))\n",
    "    df_new = df[['date', 'close', 'close_cr', 'open', 'high', 'low', 'vol']]\n",
    "    df_new.set_index('date', inplace=True)\n",
    "        \n",
    "    return df_new"
   ]
  },
  {
   "cell_type": "code",
   "execution_count": null,
   "id": "cheap-potential",
   "metadata": {},
   "outputs": [],
   "source": [
    "def append_data(company_code, company_match, df_new):\n",
    "    for key, val in company_code.items():\n",
    "        filename = 'data/{}_{}.csv'.format('data', key)\n",
    "        df_company = pd.read_csv(filename)\n",
    "        df_company['date'] = df_company['date'].apply(lambda x : datetime.datetime.strptime(x, \"%Y-%m-%d\"))\n",
    "        df_company.set_index('date', inplace=True)\n",
    "\n",
    "    #     df_company.update(df_new, overwrite=False)\n",
    "        df_company.update(df_new)\n",
    "        df_company.reset_index(inplace=True)\n",
    "        df_company.to_csv(filename, index=False)\n",
    "    return df_company"
   ]
  },
  {
   "cell_type": "code",
   "execution_count": null,
   "id": "a11d6e42",
   "metadata": {},
   "outputs": [],
   "source": [
    "# 메인 데이터 취득\n",
    "com_df = {}\n",
    "\n",
    "for com_name in company_name:\n",
    "    com_df[com_name] = get_data_company(com_name, start_date, end_date)\n",
    "    \n",
    "df = append_data(company_code, company_match, com_df)"
   ]
  },
  {
   "cell_type": "code",
   "execution_count": null,
   "id": "5cb18ada",
   "metadata": {},
   "outputs": [],
   "source": [
    "driver.close()\n",
    "driver.quit()"
   ]
  }
 ],
 "metadata": {
  "kernelspec": {
   "display_name": "Python 3",
   "language": "python",
   "name": "python3"
  },
  "language_info": {
   "codemirror_mode": {
    "name": "ipython",
    "version": 3
   },
   "file_extension": ".py",
   "mimetype": "text/x-python",
   "name": "python",
   "nbconvert_exporter": "python",
   "pygments_lexer": "ipython3",
   "version": "3.9.1"
  }
 },
 "nbformat": 4,
 "nbformat_minor": 5
}
