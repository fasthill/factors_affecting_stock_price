{
 "cells": [
  {
   "cell_type": "markdown",
   "id": "atlantic-congress",
   "metadata": {},
   "source": [
    "### KRX 데이터정보시스템\n",
    "매일 주식거래 내용"
   ]
  },
  {
   "cell_type": "code",
   "execution_count": 1,
   "id": "b6071c61",
   "metadata": {},
   "outputs": [],
   "source": [
    "from selenium import webdriver as wd\n",
    "from selenium.webdriver import ActionChains # scroll down 사용하기 위하여 선서\n",
    "from selenium.webdriver.common.keys import Keys\n",
    "from bs4 import BeautifulSoup as bs\n",
    "\n",
    "import datetime, time\n",
    "from datetime import date\n",
    "\n",
    "import pandas as pd\n",
    "import numpy as np\n",
    "import requests\n",
    "import time\n",
    "import os, sys"
   ]
  },
  {
   "cell_type": "code",
   "execution_count": 2,
   "id": "social-sunrise",
   "metadata": {},
   "outputs": [],
   "source": [
    "from selenium.webdriver.common.by import By\n",
    "from selenium.webdriver.support.ui import WebDriverWait\n",
    "from selenium.webdriver.support import expected_conditions as EC"
   ]
  },
  {
   "cell_type": "code",
   "execution_count": 3,
   "id": "983181b0",
   "metadata": {},
   "outputs": [],
   "source": [
    "# !pip install chromedriver_autoinstaller\n",
    "\n",
    "import chromedriver_autoinstaller\n",
    "\n",
    "driver_name = chromedriver_autoinstaller.install()  # Check if the current version of chromedriver exists\n",
    "                                      # and if it doesn't exist, download it automatically,\n",
    "                                      # then add chromedriver to path\n",
    "time.sleep(1)"
   ]
  },
  {
   "cell_type": "code",
   "execution_count": 4,
   "id": "compressed-cornell",
   "metadata": {},
   "outputs": [],
   "source": [
    "driver = wd.Chrome(driver_name)"
   ]
  },
  {
   "cell_type": "code",
   "execution_count": 5,
   "id": "29e69d53",
   "metadata": {},
   "outputs": [],
   "source": [
    "# driver.set_window_position(-10000,0) # hide windows\n",
    "main_url = 'http://data.krx.co.kr/contents/MDC/MDI/mdiLoader/index.cmd?menuId=MDC0201020103'\n",
    "# 개별종목 시세추이 data-menu-id: MDC0201020103\n",
    "driver.get(main_url)\n",
    "time.sleep(2)"
   ]
  },
  {
   "cell_type": "code",
   "execution_count": 6,
   "id": "80f785a1",
   "metadata": {},
   "outputs": [],
   "source": [
    "company_name = ['005930/삼성전자', '005380/현대차', '035420/NAVER', '033780/KT&G']\n",
    "company_code = {'sec': '005930', 'hyunmotor': '005380', 'naver': '035420', 'ktng': '033780'}\n",
    "# company_name = ['005380/현대차']\n",
    "# company_code = {'hyunmotor': '005380'}\n",
    "\n",
    "company_match = {'005930': '005930/삼성전자', '005380': '005380/현대차',\n",
    "                 '035420': '035420/NAVER', '033780': '033780/KT&G'}"
   ]
  },
  {
   "cell_type": "code",
   "execution_count": 7,
   "id": "imposed-respect",
   "metadata": {},
   "outputs": [],
   "source": [
    "start_date = '2022-01-01'\n",
    "today = datetime.date.today()\n",
    "today = today.strftime('%Y-%m-%d')\n",
    "end_date = today"
   ]
  },
  {
   "cell_type": "code",
   "execution_count": 8,
   "id": "8903361a",
   "metadata": {},
   "outputs": [],
   "source": [
    "# 백만원 단위 표시 선정\n",
    "css_sel = '#MDCSTAT017_FORM > div.CI-MDI-UNIT-WRAP > div > p:nth-child(2) \\\n",
    "           > select.CI-MDI-UNIT-MONEY > option:nth-child(3)'\n",
    "driver.find_element_by_css_selector(css_sel).click()\n",
    "time.sleep(1)"
   ]
  },
  {
   "cell_type": "code",
   "execution_count": 9,
   "id": "7ea4d592",
   "metadata": {},
   "outputs": [],
   "source": [
    "def get_data_company(com_name, start_date, end_date):\n",
    "\n",
    "    # 회사이름 입력 Q 버튼\n",
    "    driver.find_element_by_css_selector('#btnisuCd_finder_stkisu0_0').click()\n",
    "    time.sleep(2)\n",
    "\n",
    "    # pop up된 입력창에서 회사이름 입력\n",
    "    driver.find_element_by_id('searchText__finder_stkisu0_0').clear()\n",
    "    time.sleep(1)\n",
    "    driver.find_element_by_id('searchText__finder_stkisu0_0').send_keys(com_name)\n",
    "    time.sleep(2)\n",
    "\n",
    "    # 검색 버튼 푸시\n",
    "    driver.find_element_by_css_selector('#searchBtn__finder_stkisu0_0').click()\n",
    "    time.sleep(2)\n",
    "\n",
    "    # 테이블에서 최종 선택\n",
    "    css_sel = '#jsGrid__finder_stkisu0_0 > tbody > tr:nth-child(1) > td:nth-child(1)'\n",
    "    driver.find_element_by_css_selector(css_sel).click()\n",
    "    time.sleep(2)\n",
    "\n",
    "    # end_date를 먼저 입력하고 start date 입력. 반대로 하면 start date가 이전날짜로  reset되어짐\n",
    "    driver.find_element_by_id('endDd').clear()\n",
    "    driver.find_element_by_id('endDd').send_keys(end_date)\n",
    "    time.sleep(1)\n",
    "    driver.find_element_by_id('strdDd').clear()\n",
    "    driver.find_element_by_id('strdDd').send_keys(start_date)\n",
    "    time.sleep(1)\n",
    "\n",
    "    return"
   ]
  },
  {
   "cell_type": "code",
   "execution_count": 10,
   "id": "0309f97c",
   "metadata": {},
   "outputs": [],
   "source": [
    "def get_data():\n",
    "    \n",
    "    # 테이블  취득 버튼 클릭\n",
    "    driver.find_element_by_id('jsSearchButton').click()\n",
    "    time.sleep(5)\n",
    "    \n",
    "    column_name = ['date', 'close', 'change', 'close_cr', 'open', 'high', 'low', \n",
    "                  'vol_quantity', 'vol','total_amount', 'total_counts' ]\n",
    "    # ['일자', '종가', '대비', '등락률', '시가', '고가', '저가', '거래량', \n",
    "    #                                 '거래대금', '시가총액', '상장주식수']\n",
    "    \n",
    "    df = pd.read_html(driver.page_source, \n",
    "                              attrs={\"class\": \"CI-GRID-BODY-TABLE\"}, flavor=[\"lxml\", \"bs4\"])[0]\n",
    "    df.columns = column_name\n",
    "    df['date'] = df['date'].apply(lambda x : datetime.datetime.strptime(x, \"%Y/%m/%d\"))\n",
    "    df_new = df[['date', 'close', 'close_cr', 'open', 'high', 'low', 'vol']]\n",
    "        \n",
    "    return df_new"
   ]
  },
  {
   "cell_type": "code",
   "execution_count": 11,
   "id": "extreme-participation",
   "metadata": {},
   "outputs": [],
   "source": [
    "def non_empty_index_df(df_input, start_date, end_date):\n",
    "    date_range_ts = pd.date_range(start=start_date, end=end_date)\n",
    "    df_input.set_index('date', inplace=True)\n",
    "    df_out = pd.DataFrame(columns = df_input.columns)\n",
    "    df_out.insert(0, 'date', date_range_ts)\n",
    "    df_out.set_index('date', inplace=True)\n",
    "    df_out.update(df_input)\n",
    "    df_out.reset_index(inplace=True)\n",
    "    return df_out"
   ]
  },
  {
   "cell_type": "code",
   "execution_count": 12,
   "id": "cheap-potential",
   "metadata": {},
   "outputs": [],
   "source": [
    "def append_data(company_code, company_match, df_new):\n",
    "    for key, val in company_code.items():\n",
    "        filename = 'data/{}_{}.csv'.format('data', key)\n",
    "        df_company = pd.read_csv(filename)\n",
    "        df_company['date'] = df_company['date'].apply(lambda x : datetime.datetime.strptime(x, \"%Y-%m-%d\"))\n",
    "        df_company.set_index('date', inplace=True)\n",
    "\n",
    "        df_new = com_df[company_match[val]]\n",
    "        df_new.set_index('date', inplace=True)     \n",
    "        \n",
    "    #     df_company.update(df_new, overwrite=False)\n",
    "        df_company.update(df_new)\n",
    "        df_company.reset_index(inplace=True)\n",
    "        df_company.to_csv(filename, index=False)\n",
    "    return df_company"
   ]
  },
  {
   "cell_type": "code",
   "execution_count": 13,
   "id": "a11d6e42",
   "metadata": {
    "scrolled": true
   },
   "outputs": [],
   "source": [
    "# 메인 데이터 취득\n",
    "com_df = {}\n",
    "\n",
    "for com_name in company_name:\n",
    "    get_data_company(com_name, start_date, end_date)\n",
    "    df_out = non_empty_index_df(get_data(), start_date, end_date)\n",
    "    com_df[com_name] = df_out.replace(np.nan, '') \n",
    "    # NaN to null string. cause NaN does not replace original values in the original datafram\n",
    "#     com_df[com_name] = get_data()\n",
    "    \n",
    "df = append_data(company_code, company_match, com_df)"
   ]
  },
  {
   "cell_type": "code",
   "execution_count": 14,
   "id": "5cb18ada",
   "metadata": {},
   "outputs": [],
   "source": [
    "driver.close()\n",
    "driver.quit()"
   ]
  },
  {
   "cell_type": "code",
   "execution_count": null,
   "id": "loose-while",
   "metadata": {},
   "outputs": [],
   "source": []
  }
 ],
 "metadata": {
  "kernelspec": {
   "display_name": "Python 3 (ipykernel)",
   "language": "python",
   "name": "python3"
  },
  "language_info": {
   "codemirror_mode": {
    "name": "ipython",
    "version": 3
   },
   "file_extension": ".py",
   "mimetype": "text/x-python",
   "name": "python",
   "nbconvert_exporter": "python",
   "pygments_lexer": "ipython3",
   "version": "3.9.1"
  }
 },
 "nbformat": 4,
 "nbformat_minor": 5
}
