{
 "cells": [
  {
   "cell_type": "code",
   "execution_count": 1,
   "id": "single-chick",
   "metadata": {},
   "outputs": [],
   "source": [
    "from selenium import webdriver as wd\n",
    "from bs4 import BeautifulSoup as bs\n",
    "import requests\n",
    "import datetime, time\n",
    "from datetime import date\n",
    "\n",
    "import pandas as pd\n",
    "import re\n",
    "import os, sys"
   ]
  },
  {
   "cell_type": "code",
   "execution_count": 2,
   "id": "49476ecc",
   "metadata": {},
   "outputs": [],
   "source": [
    "# 삼성전자 005930, 현대차 005380, 네이버 035420, KT&G 033780, \n",
    "# code = {'sec': '005930', 'hyunmotor': '005380', 'naver': '035420', 'ktng': '033780'}\n",
    "code = {'sec': 'KR7005930003', 'hyunmotor': 'KR7005380001', 'naver': 'KR7035420009', 'ktng': 'KR7033780008'}\n",
    "# code = {'sec': 'KR7005930003'}"
   ]
  },
  {
   "cell_type": "code",
   "execution_count": 3,
   "id": "53a396d1",
   "metadata": {},
   "outputs": [],
   "source": [
    "today_o = datetime.date.today()\n",
    "today = today_o.strftime('%Y%m%d')\n",
    "today_stock = today_o.strftime('%Y-%m-%d')"
   ]
  },
  {
   "cell_type": "code",
   "execution_count": 4,
   "id": "fcaeec0d",
   "metadata": {},
   "outputs": [],
   "source": [
    "def get_data(ticker, today):\n",
    "    url_base = 'https://stock.mk.co.kr/price/hourly?stock_code='\n",
    "#     url_base = 'https://stock.mk.co.kr/price/hourly?stock_code=KR7005930003&day=2023-01-25&page=2'\n",
    "    for i in range(8):\n",
    "        str1 = str(i+1)\n",
    "        url = '{}{}{}{}{}{}'.format(url_base, ticker, '&day=', today, '&page=', str1)\n",
    "        df1 = pd.read_html(url, attrs={\"class\": \"table-stock line\"}, flavor=[\"lxml\", \"bs4\"])[0]\n",
    "        if i == 0 :\n",
    "            df = df1\n",
    "        else:\n",
    "#             df = df.append(df1) # append will be depreciated\n",
    "            df=pd.concat([df,df1], ignore_index=True)\n",
    "    return df"
   ]
  },
  {
   "cell_type": "code",
   "execution_count": 5,
   "id": "governing-summit",
   "metadata": {},
   "outputs": [],
   "source": [
    "column_eng = ['date', 'price', 'change', 'change(%)', 'amount', 'volume']\n",
    "column_kor = ['날짜', '현재가', '등락', '등락률(%)', '체결량', '거래량']"
   ]
  },
  {
   "cell_type": "code",
   "execution_count": 6,
   "id": "1b8cbd4e",
   "metadata": {},
   "outputs": [],
   "source": [
    "dir_name = 'data/company_daily_price_pkl/'\n",
    "f_name = '_10min_price_'"
   ]
  },
  {
   "cell_type": "code",
   "execution_count": 7,
   "id": "6da47183",
   "metadata": {},
   "outputs": [],
   "source": [
    "for key, val in code.items():\n",
    "    df = get_data(val, today_stock)\n",
    "    df.columns = column_eng\n",
    "    df_temp = df['date']\n",
    "    yr = today[:4]\n",
    "    df['date'] = df_temp.apply(lambda x : datetime.datetime.strptime(yr+x[:5], \"%Y%m/%d\"))\n",
    "    df.insert(1, 'time', df_temp.apply(lambda x : datetime.datetime.strptime(x[-5:], \"%H:%M\").time()))\n",
    "    filename = '{}{}{}{}.pkl'.format(dir_name, key, f_name, today) # code만 기입\n",
    "    df.to_pickle(filename)"
   ]
  },
  {
   "cell_type": "code",
   "execution_count": 10,
   "id": "94c618c7",
   "metadata": {},
   "outputs": [
    {
     "data": {
      "text/html": [
       "<div>\n",
       "<style scoped>\n",
       "    .dataframe tbody tr th:only-of-type {\n",
       "        vertical-align: middle;\n",
       "    }\n",
       "\n",
       "    .dataframe tbody tr th {\n",
       "        vertical-align: top;\n",
       "    }\n",
       "\n",
       "    .dataframe thead th {\n",
       "        text-align: right;\n",
       "    }\n",
       "</style>\n",
       "<table border=\"1\" class=\"dataframe\">\n",
       "  <thead>\n",
       "    <tr style=\"text-align: right;\">\n",
       "      <th></th>\n",
       "      <th>date</th>\n",
       "      <th>time</th>\n",
       "      <th>price</th>\n",
       "      <th>change</th>\n",
       "      <th>change(%)</th>\n",
       "      <th>amount</th>\n",
       "      <th>volume</th>\n",
       "    </tr>\n",
       "  </thead>\n",
       "  <tbody>\n",
       "    <tr>\n",
       "      <th>72</th>\n",
       "      <td>2023-02-07</td>\n",
       "      <td>09:20:00</td>\n",
       "      <td>170300</td>\n",
       "      <td>900</td>\n",
       "      <td>-0.53%</td>\n",
       "      <td>8987</td>\n",
       "      <td>77941</td>\n",
       "    </tr>\n",
       "    <tr>\n",
       "      <th>73</th>\n",
       "      <td>2023-02-07</td>\n",
       "      <td>09:15:00</td>\n",
       "      <td>170700</td>\n",
       "      <td>900</td>\n",
       "      <td>-0.52%</td>\n",
       "      <td>13959</td>\n",
       "      <td>68954</td>\n",
       "    </tr>\n",
       "    <tr>\n",
       "      <th>74</th>\n",
       "      <td>2023-02-07</td>\n",
       "      <td>09:10:00</td>\n",
       "      <td>170700</td>\n",
       "      <td>800</td>\n",
       "      <td>-0.47%</td>\n",
       "      <td>12741</td>\n",
       "      <td>54995</td>\n",
       "    </tr>\n",
       "    <tr>\n",
       "      <th>75</th>\n",
       "      <td>2023-02-07</td>\n",
       "      <td>09:05:00</td>\n",
       "      <td>170300</td>\n",
       "      <td>900</td>\n",
       "      <td>-0.53%</td>\n",
       "      <td>14507</td>\n",
       "      <td>42254</td>\n",
       "    </tr>\n",
       "    <tr>\n",
       "      <th>76</th>\n",
       "      <td>2023-02-07</td>\n",
       "      <td>09:00:00</td>\n",
       "      <td>171200</td>\n",
       "      <td>500</td>\n",
       "      <td>0.29%</td>\n",
       "      <td>27747</td>\n",
       "      <td>27747</td>\n",
       "    </tr>\n",
       "  </tbody>\n",
       "</table>\n",
       "</div>"
      ],
      "text/plain": [
       "         date      time   price  change change(%)  amount  volume\n",
       "72 2023-02-07  09:20:00  170300     900    -0.53%    8987   77941\n",
       "73 2023-02-07  09:15:00  170700     900    -0.52%   13959   68954\n",
       "74 2023-02-07  09:10:00  170700     800    -0.47%   12741   54995\n",
       "75 2023-02-07  09:05:00  170300     900    -0.53%   14507   42254\n",
       "76 2023-02-07  09:00:00  171200     500     0.29%   27747   27747"
      ]
     },
     "execution_count": 10,
     "metadata": {},
     "output_type": "execute_result"
    }
   ],
   "source": [
    "# aa = pd.read_pickle(dir_name+'hyunmotor_10min_price_20230207.pkl') # 저장 내용 확인\n",
    "# aa.tail()"
   ]
  }
 ],
 "metadata": {
  "kernelspec": {
   "display_name": "Python 3",
   "language": "python",
   "name": "python3"
  },
  "language_info": {
   "codemirror_mode": {
    "name": "ipython",
    "version": 3
   },
   "file_extension": ".py",
   "mimetype": "text/x-python",
   "name": "python",
   "nbconvert_exporter": "python",
   "pygments_lexer": "ipython3",
   "version": "3.9.1"
  }
 },
 "nbformat": 4,
 "nbformat_minor": 5
}
