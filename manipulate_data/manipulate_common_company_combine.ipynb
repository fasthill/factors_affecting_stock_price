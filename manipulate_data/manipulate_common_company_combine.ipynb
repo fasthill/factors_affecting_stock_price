{
 "cells": [
  {
   "cell_type": "code",
   "execution_count": null,
   "id": "together-jacket",
   "metadata": {},
   "outputs": [],
   "source": [
    "import pandas as pd\n",
    "import numpy as np\n",
    "import datetime, time\n",
    "\n",
    "import matplotlib.pyplot as plt"
   ]
  },
  {
   "cell_type": "code",
   "execution_count": null,
   "id": "8003707b",
   "metadata": {},
   "outputs": [],
   "source": [
    "pd.options.display.max_rows = 20\n",
    "pd.options.display.max_columns = 100\n",
    "pd.options.display.precision = 4"
   ]
  },
  {
   "cell_type": "code",
   "execution_count": null,
   "id": "d6d54865",
   "metadata": {},
   "outputs": [],
   "source": [
    "def allsatsundays(start_date, end_date):\n",
    "    day_sat = pd.date_range(start=start_date, end=end_date, \n",
    "                         freq='W-SAT').strftime('%Y-%m-%d').tolist()\n",
    "    day_sun = pd.date_range(start=start_date, end=end_date, \n",
    "                         freq='W-SUN').strftime('%Y-%m-%d').tolist()\n",
    "    days = day_sat+day_sun\n",
    "    days.sort()\n",
    "    return days\n",
    "\n",
    "def get_stock_market_holydays(filename, start_date, end_date):\n",
    "    df = pd.read_csv(filename)\n",
    "    kor_days = df['KOR'][df['KOR'].notnull()].values.tolist()\n",
    "    usa_days = df['USA'][df['USA'].notnull()].values.tolist() # Nan value를 제외한 값을 리스트로 변환\n",
    "\n",
    "    holydays = allsatsundays(start_date, end_date)\n",
    "    \n",
    "    kor_days = sorted(set(kor_days + holydays))\n",
    "    usa_days = sorted(set(usa_days + holydays))\n",
    "    \n",
    "    return kor_days, usa_days\n",
    "\n",
    "def get_seq_data(filename, holydays):\n",
    "    df = pd.read_csv(filename)\n",
    "    df_seq = df[~df['date'].isin(holydays)].copy()\n",
    "    df_seq.dropna(subset=df.columns[1:], how='all', inplace=True)\n",
    "    return df_seq"
   ]
  },
  {
   "cell_type": "code",
   "execution_count": null,
   "id": "d2d766ef",
   "metadata": {},
   "outputs": [],
   "source": [
    "def classify_data(df, col_name): # column 데이터를 9개로 분류\n",
    "    col_index = df.columns.tolist()\n",
    "    for i, col in enumerate(col_name):\n",
    "        mu = df[col].mean()\n",
    "        sigma = df[col].std()\n",
    "        df_min = df[col].min()\n",
    "        df_max = df[col].max()\n",
    "        cut_div = [df_min, mu - 3*sigma, mu - 2*sigma, mu - sigma, mu - 0.5*sigma, \n",
    "                   mu + 0.5*sigma, mu + sigma, mu + 2*sigma, mu + 3*sigma, df_max ]\n",
    "        ix = i + col_index.index(col)\n",
    "        df_new = pd.cut(df[col], cut_div, labels=[1, 2, 3, 4, 5, 6, 7, 8, 9])\n",
    "        df.insert(ix+1, col+'_class', df_new)\n",
    "        df[[col, col+'_class']].head()\n",
    "        \n",
    "    return df"
   ]
  },
  {
   "cell_type": "code",
   "execution_count": null,
   "id": "distant-gambling",
   "metadata": {},
   "outputs": [],
   "source": [
    "def consecutive_count(df_sr, idx): # series, idx: row index 여기서부터 역산으로 추출\n",
    "    # 매도(-), 매수(+) 연속일 계산\n",
    "    if idx >= 29: # 최대 20개까지만 확인\n",
    "        df_sel = df_sr[idx-29:idx+1][::-1]\n",
    "    else:\n",
    "        df_sel = df_sr[:idx+1][::-1]\n",
    "    sr = df_sel.apply(lambda x : 1 if (x > 0) else -1)\n",
    "    p_sum = 0\n",
    "    m_sum = 0\n",
    "    z_sum = 0\n",
    "    for i, num in enumerate(sr):\n",
    "        if (num == 0) & (i == z_sum) :\n",
    "            z_sum += 1\n",
    "            continue\n",
    "        elif (num == 1) & (i == p_sum) :\n",
    "            p_sum += 1\n",
    "            continue\n",
    "        elif (num == -1) & (i == m_sum) :\n",
    "            m_sum += 1\n",
    "            continue   \n",
    "        else :\n",
    "            break\n",
    "\n",
    "    if p_sum > 0 : \n",
    "        return p_sum\n",
    "    elif m_sum > 0 :\n",
    "        return -m_sum\n",
    "    else :\n",
    "        return z_sum"
   ]
  },
  {
   "cell_type": "code",
   "execution_count": null,
   "id": "decent-surveillance",
   "metadata": {},
   "outputs": [],
   "source": [
    "def consequtive_days(df, col_names):\n",
    "    for col in col_names:\n",
    "        df_temp = df[col].apply(lambda x : 1 if (x > 0) else -1)\n",
    "        count = []\n",
    "        for idx in range(len(df_temp)):\n",
    "            count.append(consecutive_count(df_temp, idx))\n",
    "\n",
    "        df[col+'_days'] = count  # 매수, 매도 거래 연속일\n",
    "        \n",
    "    return df"
   ]
  },
  {
   "cell_type": "code",
   "execution_count": null,
   "id": "enabling-surgeon",
   "metadata": {},
   "outputs": [],
   "source": [
    "def get_weight_ratio(df, investors, investor_sum): # 투자자별 매수 매도 비중 비율\n",
    "    df['total'] = df[investors_sum].abs().sum(axis=1).to_frame()\n",
    "    for col in investors:\n",
    "        df[col+'_ratio'] = df[col]/df['total']*10 # magnify\n",
    "        \n",
    "    return df    "
   ]
  },
  {
   "cell_type": "code",
   "execution_count": null,
   "id": "eb1d3a7d",
   "metadata": {},
   "outputs": [],
   "source": [
    "def get_change_rate(df, col_names): # get _cr value for each column\n",
    "    for col in col_names:\n",
    "        df[col+'_cr'] = (df[col] - df[col].shift(1)) / df[col].shift(1)\n",
    "    \n",
    "    return df"
   ]
  },
  {
   "cell_type": "code",
   "execution_count": null,
   "id": "982be2d0",
   "metadata": {},
   "outputs": [],
   "source": [
    "# fill nan with the preceesing value\n",
    "def fillna_with_bfill(df, col_names): \n",
    "    for col in col_names:\n",
    "        df[col].fillna(method='ffill', inplace=True) # forward fill, or bfill\n",
    "    \n",
    "    return df"
   ]
  },
  {
   "cell_type": "code",
   "execution_count": null,
   "id": "158b4aa3",
   "metadata": {},
   "outputs": [],
   "source": [
    "def get_dayofweek(df):\n",
    "    # insert 요일 column: 1: monday, 5: friday\n",
    "    df['date'] = df['date'].apply(lambda x : datetime.datetime.strptime(x, \"%Y-%m-%d\"))\n",
    "    df_dayofweek = df['date'].dt.dayofweek + 1 # 1: monday, 5: Friday\n",
    "    df.insert(1, 'dayofweek', df_dayofweek)\n",
    "    \n",
    "    return df"
   ]
  },
  {
   "cell_type": "code",
   "execution_count": null,
   "id": "second-sunrise",
   "metadata": {},
   "outputs": [],
   "source": [
    "filename = 'https://raw.githubusercontent.com/fasthill/'\\\n",
    "            'factors_affecting_stock_price/main/data/stock_market_holydays/stock_market_holidays.csv'\n",
    "start_date = '2020-01-01'\n",
    "end_date = '2022-12-31'\n",
    "\n",
    "kor_days, usa_days = get_stock_market_holydays(filename, start_date, end_date) # get stock market holydays"
   ]
  },
  {
   "cell_type": "markdown",
   "id": "57711e00",
   "metadata": {},
   "source": [
    "### get and manipulate common data"
   ]
  },
  {
   "cell_type": "code",
   "execution_count": null,
   "id": "268636eb",
   "metadata": {},
   "outputs": [],
   "source": [
    "filename = '../data/data_common.csv'\n",
    "df_common = get_seq_data(filename, usa_days)"
   ]
  },
  {
   "cell_type": "code",
   "execution_count": null,
   "id": "a68766bc",
   "metadata": {},
   "outputs": [],
   "source": [
    "fill_columns =  ['cpi', 'cpi_anticipated', 'cpi_previous',\n",
    "                 'fed_rate', 'fed_rate_fore', 'fed_rate_prev', 'fed_rate_ann', 'fed_rate_imp', \n",
    "                 'bok_rate', 'bok_rate_fore', 'bok_rate_prev', 'bok_rate_ann', 'bok_rate_imp' ]\n",
    "futures_columns =  ['fu_usa_date', 'op_usa_date', 'qw_usa_day', \n",
    "                 'fu_kor_date', 'op_kor_date', 'dw_kor_day']\n",
    "df_common = fillna_with_bfill(df_common, fill_columns)\n",
    "df_common[futures_columns] = df_common[futures_columns].replace(np.nan, 0)"
   ]
  },
  {
   "cell_type": "code",
   "execution_count": null,
   "id": "b484d932",
   "metadata": {},
   "outputs": [],
   "source": [
    "df_common.head()"
   ]
  },
  {
   "cell_type": "code",
   "execution_count": null,
   "id": "a1bbf6d5",
   "metadata": {},
   "outputs": [],
   "source": [
    "df_common.dropna(subset=['ixic', 'dji'], inplace=True) # drop empty rows"
   ]
  },
  {
   "cell_type": "code",
   "execution_count": null,
   "id": "c49eb23f",
   "metadata": {},
   "outputs": [],
   "source": [
    "df_common.tail()"
   ]
  },
  {
   "cell_type": "code",
   "execution_count": null,
   "id": "focused-audit",
   "metadata": {},
   "outputs": [],
   "source": [
    "df_common.replace('%', '', regex=True, inplace = True) # delete '%'"
   ]
  },
  {
   "cell_type": "code",
   "execution_count": null,
   "id": "ethical-tumor",
   "metadata": {},
   "outputs": [],
   "source": [
    "df_common.head()"
   ]
  },
  {
   "cell_type": "code",
   "execution_count": null,
   "id": "employed-leonard",
   "metadata": {},
   "outputs": [],
   "source": [
    "df_common.dropna(axis=1, how='all', inplace=True)"
   ]
  },
  {
   "cell_type": "code",
   "execution_count": null,
   "id": "71fff6ff",
   "metadata": {},
   "outputs": [],
   "source": [
    "df_common.tail()"
   ]
  },
  {
   "cell_type": "markdown",
   "id": "10117101",
   "metadata": {},
   "source": [
    "### get and manipulate company data"
   ]
  },
  {
   "cell_type": "code",
   "execution_count": null,
   "id": "dress-visiting",
   "metadata": {},
   "outputs": [],
   "source": [
    "filename = '../data/data_hyunmotor.csv'\n",
    "df_company = get_seq_data(filename, kor_days)"
   ]
  },
  {
   "cell_type": "code",
   "execution_count": null,
   "id": "arranged-force",
   "metadata": {},
   "outputs": [],
   "source": [
    "# get day of week\n",
    "df_company = get_dayofweek(df_company)"
   ]
  },
  {
   "cell_type": "code",
   "execution_count": null,
   "id": "4ec85760",
   "metadata": {},
   "outputs": [],
   "source": [
    "# get volumne percentage\n",
    "df_company['vol_percent'] = (df_company['vol'] / df_company['vol'].sum()) * 100"
   ]
  },
  {
   "cell_type": "code",
   "execution_count": null,
   "id": "assumed-heather",
   "metadata": {},
   "outputs": [],
   "source": [
    "df_company =  df_company[:-1]  # delete last row \n",
    "df_company.tail()"
   ]
  },
  {
   "cell_type": "code",
   "execution_count": null,
   "id": "7e4cee73",
   "metadata": {},
   "outputs": [],
   "source": [
    "investors = ['retail', 'foreigner', 'institution', 'financial', 'invtrust', 'pension',\n",
    "             'privequity', 'bank',  'insurance', 'financeetc', 'corporateetc', 'foreigneretc']\n",
    "df_company = classify_data(df_company, investors) # column data catagorizing"
   ]
  },
  {
   "cell_type": "code",
   "execution_count": null,
   "id": "unable-cannon",
   "metadata": {},
   "outputs": [],
   "source": [
    "# get consecutive days with non empty values\n",
    "df_company = consequtive_days(df_company, investors)"
   ]
  },
  {
   "cell_type": "code",
   "execution_count": null,
   "id": "hazardous-april",
   "metadata": {},
   "outputs": [],
   "source": [
    "df_company.head()"
   ]
  },
  {
   "cell_type": "code",
   "execution_count": null,
   "id": "prescribed-subscription",
   "metadata": {},
   "outputs": [],
   "source": [
    "# get investors amount relative ratio\n",
    "investors_sum = ['retail', 'foreigner', 'financial', 'invtrust', 'pension',\n",
    "         'privequity', 'bank',  'insurance', 'financeetc', 'corporateetc', 'foreigneretc']\n",
    "df_company = get_weight_ratio(df_company, investors, investors_sum)"
   ]
  },
  {
   "cell_type": "code",
   "execution_count": null,
   "id": "bored-ferry",
   "metadata": {},
   "outputs": [],
   "source": [
    "df_company.head()"
   ]
  },
  {
   "cell_type": "code",
   "execution_count": null,
   "id": "147c257d",
   "metadata": {},
   "outputs": [],
   "source": [
    "investors = ['retail', 'foreigner', 'institution', 'financial', 'invtrust', 'pension',\n",
    "             'privequity', 'bank',  'insurance', 'financeetc', 'corporateetc', 'foreigneretc']\n",
    "df_company = get_change_rate(df_company, investors) # get column change rate data"
   ]
  },
  {
   "cell_type": "code",
   "execution_count": null,
   "id": "7094345c",
   "metadata": {
    "scrolled": true
   },
   "outputs": [],
   "source": [
    "df_company.iloc[0:5, 45:60]"
   ]
  },
  {
   "cell_type": "code",
   "execution_count": null,
   "id": "chief-final",
   "metadata": {},
   "outputs": [],
   "source": [
    "df_company.dropna(axis=1, how='all', inplace=True)"
   ]
  },
  {
   "cell_type": "code",
   "execution_count": null,
   "id": "4983b41b",
   "metadata": {},
   "outputs": [],
   "source": [
    "df_company.iloc[0:5, 45:60]"
   ]
  },
  {
   "cell_type": "code",
   "execution_count": null,
   "id": "7cc7f13f",
   "metadata": {},
   "outputs": [],
   "source": []
  }
 ],
 "metadata": {
  "kernelspec": {
   "display_name": "Python 3",
   "language": "python",
   "name": "python3"
  },
  "language_info": {
   "codemirror_mode": {
    "name": "ipython",
    "version": 3
   },
   "file_extension": ".py",
   "mimetype": "text/x-python",
   "name": "python",
   "nbconvert_exporter": "python",
   "pygments_lexer": "ipython3",
   "version": "3.9.1"
  }
 },
 "nbformat": 4,
 "nbformat_minor": 5
}
