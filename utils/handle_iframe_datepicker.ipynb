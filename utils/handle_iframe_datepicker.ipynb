{
 "cells": [
  {
   "cell_type": "code",
   "execution_count": 1,
   "id": "018c95c2",
   "metadata": {},
   "outputs": [],
   "source": [
    "import pandas as pd\n",
    "import numpy as np"
   ]
  },
  {
   "cell_type": "code",
   "execution_count": 2,
   "id": "b6071c61",
   "metadata": {},
   "outputs": [],
   "source": [
    "from selenium import webdriver as wd\n",
    "from selenium.webdriver.common.keys import Keys\n",
    "from selenium.webdriver.common.by import By\n",
    "from selenium.webdriver.chrome.service import Service\n",
    "from selenium.webdriver.support.ui import WebDriverWait\n",
    "from selenium.webdriver.support import expected_conditions as EC\n",
    "from webdriver_manager.chrome import ChromeDriverManager"
   ]
  },
  {
   "cell_type": "code",
   "execution_count": 3,
   "id": "e15db437",
   "metadata": {},
   "outputs": [],
   "source": [
    "from bs4 import BeautifulSoup as bs\n",
    "import requests"
   ]
  },
  {
   "cell_type": "code",
   "execution_count": 4,
   "id": "58258e9b",
   "metadata": {},
   "outputs": [],
   "source": [
    "import datetime\n",
    "import time\n",
    "from datetime import date"
   ]
  },
  {
   "cell_type": "code",
   "execution_count": 5,
   "id": "social-sunrise",
   "metadata": {},
   "outputs": [],
   "source": [
    "import os, sys"
   ]
  },
  {
   "cell_type": "code",
   "execution_count": 6,
   "id": "983181b0",
   "metadata": {},
   "outputs": [],
   "source": [
    "# !pip install chromedriver_autoinstaller\n",
    "\n",
    "import chromedriver_autoinstaller\n",
    "\n",
    "driver_name = chromedriver_autoinstaller.install()  # Check if the current version of chromedriver exists\n",
    "                                      # and if it doesn't exist, download it automatically,\n",
    "                                      # then add chromedriver to path\n",
    "time.sleep(1)"
   ]
  },
  {
   "cell_type": "code",
   "execution_count": 7,
   "id": "compressed-cornell",
   "metadata": {},
   "outputs": [],
   "source": [
    "driver = wd.Chrome(service=Service(ChromeDriverManager().install()))"
   ]
  },
  {
   "cell_type": "code",
   "execution_count": 8,
   "id": "212a6b1a",
   "metadata": {},
   "outputs": [],
   "source": [
    "main_url = 'https://www.investing.com/indices/us-30-historical-data'\n",
    "driver.get(main_url)\n",
    "time.sleep(1)"
   ]
  },
  {
   "cell_type": "code",
   "execution_count": null,
   "id": "29e69d53",
   "metadata": {},
   "outputs": [],
   "source": [
    "main_url = \"https://jqueryui.com/datepicker/\"\n",
    "driver.get(main_url)\n",
    "time.sleep(1)"
   ]
  },
  {
   "cell_type": "code",
   "execution_count": null,
   "id": "818f5eb5",
   "metadata": {},
   "outputs": [],
   "source": [
    "#switch to frame\n",
    "fr = driver.find_element(By.XPATH, \"//iframe[@class='demo-frame']\")\n",
    "driver.switch_to.frame(fr);"
   ]
  },
  {
   "cell_type": "code",
   "execution_count": null,
   "id": "191f7c8c",
   "metadata": {},
   "outputs": [],
   "source": [
    "#identify element inside frame\n",
    "d= driver.find_element(By.ID, \"datepicker\")\n",
    "d.click()"
   ]
  },
  {
   "cell_type": "code",
   "execution_count": null,
   "id": "d13e2a0b",
   "metadata": {
    "scrolled": true
   },
   "outputs": [],
   "source": [
    "m = driver.find_elements(By.CSS_SELECTOR, \"#ui-datepicker-div > table > tbody a\")"
   ]
  },
  {
   "cell_type": "code",
   "execution_count": null,
   "id": "e7e13625",
   "metadata": {},
   "outputs": [],
   "source": [
    "#identify list of all dates\n",
    "m = driver.find_elements(By.XPATH, \"//table/tbody//td\")"
   ]
  },
  {
   "cell_type": "code",
   "execution_count": null,
   "id": "a4506b97",
   "metadata": {},
   "outputs": [],
   "source": [
    "df = pd.read_html(driver.page_source, attrs={\"class\": \"ui-datepicker-calendar\"}, flavor=[\"lxml\", \"bs4\"])"
   ]
  },
  {
   "cell_type": "code",
   "execution_count": null,
   "id": "111a20c5",
   "metadata": {},
   "outputs": [],
   "source": [
    "df[-1]"
   ]
  },
  {
   "cell_type": "code",
   "execution_count": null,
   "id": "12df5c32",
   "metadata": {},
   "outputs": [],
   "source": [
    "#iterate over list\n",
    "for i in m:\n",
    "#verify required date then click\n",
    "    if i.text == '3':\n",
    "        print(i.text)\n",
    "        i.click()\n",
    "        break"
   ]
  },
  {
   "cell_type": "code",
   "execution_count": null,
   "id": "6f8a5de9",
   "metadata": {},
   "outputs": [],
   "source": [
    "#get selected date\n",
    "s = d.get_attribute('value')\n",
    "print(\"Date entered is: \")\n",
    "print(s)\n"
   ]
  },
  {
   "cell_type": "code",
   "execution_count": null,
   "id": "bceb8080",
   "metadata": {},
   "outputs": [],
   "source": [
    "# 원래의 frame으로 복귀\n",
    "driver.switch_to.default_content() "
   ]
  },
  {
   "cell_type": "code",
   "execution_count": null,
   "id": "23708f24",
   "metadata": {},
   "outputs": [],
   "source": [
    "driver.find_element(By.CSS_SELECTOR, '#logo-events > h2').click()"
   ]
  },
  {
   "cell_type": "code",
   "execution_count": null,
   "id": "21716280",
   "metadata": {},
   "outputs": [],
   "source": [
    "driver.close()"
   ]
  },
  {
   "cell_type": "code",
   "execution_count": null,
   "id": "34baa0e7",
   "metadata": {},
   "outputs": [],
   "source": [
    "#browser quit\n",
    "driver.quit()"
   ]
  },
  {
   "cell_type": "code",
   "execution_count": null,
   "id": "076257e7",
   "metadata": {},
   "outputs": [],
   "source": []
  },
  {
   "cell_type": "code",
   "execution_count": null,
   "id": "c8cd0996",
   "metadata": {},
   "outputs": [],
   "source": []
  },
  {
   "cell_type": "code",
   "execution_count": 42,
   "id": "81b89094",
   "metadata": {},
   "outputs": [],
   "source": [
    "def get_date(start_date, end_date):\n",
    "    driver.find_element(By.CLASS_NAME, 'DatePickerWrapper_icon__Qw9f8').click()\n",
    "\n",
    "    start = driver.find_elements(By.CLASS_NAME, 'NativeDateInput_root__wbgyP')[0]\n",
    "    end = driver.find_elements(By.CLASS_NAME, 'NativeDateInput_root__wbgyP')[1]\n",
    "\n",
    "    start_element = start.find_element(By.CSS_SELECTOR, 'input[type=date]')\n",
    "    end_element = end.find_element(By.CSS_SELECTOR, 'input[type=date]')\n",
    "\n",
    "    start_element.clear()\n",
    "    start_element.send_keys(start_date)\n",
    "    start_element.click()\n",
    "\n",
    "    end_element.clear()\n",
    "    end_element.send_keys(end_date)\n",
    "    end_element.click()\n",
    "\n",
    "    driver.find_element(By.CLASS_NAME, 'inv-button.HistoryDatePicker_apply-button__fPr_G').click()"
   ]
  },
  {
   "cell_type": "code",
   "execution_count": 43,
   "id": "9b20a1f7",
   "metadata": {},
   "outputs": [],
   "source": [
    "today = datetime.datetime.today().date()\n",
    "today_str = today.strftime('%Y-%m-%d')"
   ]
  },
  {
   "cell_type": "code",
   "execution_count": 44,
   "id": "02f34dda",
   "metadata": {},
   "outputs": [],
   "source": [
    "start_date = '2023-03-20'"
   ]
  },
  {
   "cell_type": "code",
   "execution_count": 45,
   "id": "2c0378d9",
   "metadata": {},
   "outputs": [],
   "source": [
    "get_date(start_date, today_str)"
   ]
  },
  {
   "cell_type": "code",
   "execution_count": 49,
   "id": "5349075d",
   "metadata": {},
   "outputs": [],
   "source": [
    "table_class = 'datatable_table__D_jso datatable_table--border__B_zW0 datatable_table--mobile-basic__W2ilt datatable_table--freeze-column__7YoIE'\n",
    "df = pd.read_html(driver.page_source, attrs={\"class\": table_class}, flavor=[\"lxml\", \"bs4\"])[0]"
   ]
  },
  {
   "cell_type": "code",
   "execution_count": 50,
   "id": "341b8d32",
   "metadata": {},
   "outputs": [
    {
     "data": {
      "text/html": [
       "<div>\n",
       "<style scoped>\n",
       "    .dataframe tbody tr th:only-of-type {\n",
       "        vertical-align: middle;\n",
       "    }\n",
       "\n",
       "    .dataframe tbody tr th {\n",
       "        vertical-align: top;\n",
       "    }\n",
       "\n",
       "    .dataframe thead th {\n",
       "        text-align: right;\n",
       "    }\n",
       "</style>\n",
       "<table border=\"1\" class=\"dataframe\">\n",
       "  <thead>\n",
       "    <tr style=\"text-align: right;\">\n",
       "      <th></th>\n",
       "      <th>Date</th>\n",
       "      <th>Price</th>\n",
       "      <th>Open</th>\n",
       "      <th>High</th>\n",
       "      <th>Low</th>\n",
       "      <th>Vol.</th>\n",
       "      <th>Change %</th>\n",
       "    </tr>\n",
       "  </thead>\n",
       "  <tbody>\n",
       "    <tr>\n",
       "      <th>0</th>\n",
       "      <td>05/25/2023</td>\n",
       "      <td>32764.72</td>\n",
       "      <td>32854.26</td>\n",
       "      <td>32867.55</td>\n",
       "      <td>32586.57</td>\n",
       "      <td>354.70M</td>\n",
       "      <td>-0.11%</td>\n",
       "    </tr>\n",
       "    <tr>\n",
       "      <th>1</th>\n",
       "      <td>05/24/2023</td>\n",
       "      <td>32800.38</td>\n",
       "      <td>33021.76</td>\n",
       "      <td>33021.76</td>\n",
       "      <td>32754.09</td>\n",
       "      <td>236.23M</td>\n",
       "      <td>-0.77%</td>\n",
       "    </tr>\n",
       "    <tr>\n",
       "      <th>2</th>\n",
       "      <td>05/23/2023</td>\n",
       "      <td>33055.57</td>\n",
       "      <td>33190.60</td>\n",
       "      <td>33309.62</td>\n",
       "      <td>33013.41</td>\n",
       "      <td>279.78M</td>\n",
       "      <td>-0.69%</td>\n",
       "    </tr>\n",
       "    <tr>\n",
       "      <th>3</th>\n",
       "      <td>05/22/2023</td>\n",
       "      <td>33286.55</td>\n",
       "      <td>33408.54</td>\n",
       "      <td>33510.00</td>\n",
       "      <td>33212.66</td>\n",
       "      <td>260.24M</td>\n",
       "      <td>-0.42%</td>\n",
       "    </tr>\n",
       "    <tr>\n",
       "      <th>4</th>\n",
       "      <td>05/19/2023</td>\n",
       "      <td>33426.43</td>\n",
       "      <td>33582.95</td>\n",
       "      <td>33652.90</td>\n",
       "      <td>33337.16</td>\n",
       "      <td>291.53M</td>\n",
       "      <td>-0.33%</td>\n",
       "    </tr>\n",
       "  </tbody>\n",
       "</table>\n",
       "</div>"
      ],
      "text/plain": [
       "         Date     Price      Open      High       Low     Vol. Change %\n",
       "0  05/25/2023  32764.72  32854.26  32867.55  32586.57  354.70M   -0.11%\n",
       "1  05/24/2023  32800.38  33021.76  33021.76  32754.09  236.23M   -0.77%\n",
       "2  05/23/2023  33055.57  33190.60  33309.62  33013.41  279.78M   -0.69%\n",
       "3  05/22/2023  33286.55  33408.54  33510.00  33212.66  260.24M   -0.42%\n",
       "4  05/19/2023  33426.43  33582.95  33652.90  33337.16  291.53M   -0.33%"
      ]
     },
     "execution_count": 50,
     "metadata": {},
     "output_type": "execute_result"
    }
   ],
   "source": [
    "df.head()"
   ]
  },
  {
   "cell_type": "code",
   "execution_count": null,
   "id": "5c187595",
   "metadata": {},
   "outputs": [],
   "source": []
  },
  {
   "cell_type": "code",
   "execution_count": null,
   "id": "60c0fcd6",
   "metadata": {},
   "outputs": [],
   "source": []
  }
 ],
 "metadata": {
  "kernelspec": {
   "display_name": "Python 3 (ipykernel)",
   "language": "python",
   "name": "python3"
  },
  "language_info": {
   "codemirror_mode": {
    "name": "ipython",
    "version": 3
   },
   "file_extension": ".py",
   "mimetype": "text/x-python",
   "name": "python",
   "nbconvert_exporter": "python",
   "pygments_lexer": "ipython3",
   "version": "3.9.1"
  }
 },
 "nbformat": 4,
 "nbformat_minor": 5
}
