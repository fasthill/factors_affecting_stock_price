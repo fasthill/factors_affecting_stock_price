{
 "cells": [
  {
   "cell_type": "code",
   "execution_count": 1,
   "id": "b6071c61",
   "metadata": {},
   "outputs": [],
   "source": [
    "from selenium import webdriver as wd\n",
    "from selenium.webdriver import ActionChains # scroll down 사용하기 위하여 선서\n",
    "from selenium.webdriver.common.keys import Keys\n",
    "from selenium.webdriver.common.by import By\n",
    "from selenium.webdriver.chrome.service import Service\n",
    "from webdriver_manager.chrome import ChromeDriverManager\n",
    "from bs4 import BeautifulSoup as bs\n",
    "\n",
    "import datetime, time\n",
    "from datetime import date\n",
    "\n",
    "import pandas as pd\n",
    "import numpy as np\n",
    "import requests\n",
    "import time\n",
    "import os, sys"
   ]
  },
  {
   "cell_type": "code",
   "execution_count": 2,
   "id": "social-sunrise",
   "metadata": {},
   "outputs": [],
   "source": [
    "from selenium.webdriver.common.by import By\n",
    "from selenium.webdriver.support.ui import WebDriverWait\n",
    "from selenium.webdriver.support import expected_conditions as EC"
   ]
  },
  {
   "cell_type": "code",
   "execution_count": 3,
   "id": "983181b0",
   "metadata": {},
   "outputs": [],
   "source": [
    "# !pip install chromedriver_autoinstaller\n",
    "\n",
    "import chromedriver_autoinstaller\n",
    "\n",
    "driver_name = chromedriver_autoinstaller.install()  # Check if the current version of chromedriver exists\n",
    "                                      # and if it doesn't exist, download it automatically,\n",
    "                                      # then add chromedriver to path\n",
    "time.sleep(1)"
   ]
  },
  {
   "cell_type": "code",
   "execution_count": 4,
   "id": "compressed-cornell",
   "metadata": {},
   "outputs": [],
   "source": [
    "# driver = wd.Chrome(driver_name)\n",
    "driver = wd.Chrome(service=Service(ChromeDriverManager().install()))"
   ]
  },
  {
   "cell_type": "code",
   "execution_count": 5,
   "id": "212a6b1a",
   "metadata": {},
   "outputs": [],
   "source": [
    "main_url = 'https://kr.investing.com/indices/us-30-historical-data'\n",
    "driver.get(main_url)\n",
    "time.sleep(1)"
   ]
  },
  {
   "cell_type": "code",
   "execution_count": null,
   "id": "29e69d53",
   "metadata": {},
   "outputs": [],
   "source": [
    "main_url = \"https://jqueryui.com/datepicker/\"\n",
    "driver.get(main_url)\n",
    "time.sleep(1)"
   ]
  },
  {
   "cell_type": "code",
   "execution_count": null,
   "id": "818f5eb5",
   "metadata": {},
   "outputs": [],
   "source": [
    "#switch to frame\n",
    "fr = driver.find_element(By.XPATH, \"//iframe[@class='demo-frame']\")\n",
    "driver.switch_to.frame(fr);"
   ]
  },
  {
   "cell_type": "code",
   "execution_count": null,
   "id": "191f7c8c",
   "metadata": {},
   "outputs": [],
   "source": [
    "#identify element inside frame\n",
    "d= driver.find_element(By.ID, \"datepicker\")\n",
    "d.click()"
   ]
  },
  {
   "cell_type": "code",
   "execution_count": null,
   "id": "d13e2a0b",
   "metadata": {
    "scrolled": true
   },
   "outputs": [],
   "source": [
    "m = driver.find_elements(By.CSS_SELECTOR, \"#ui-datepicker-div > table > tbody a\")"
   ]
  },
  {
   "cell_type": "code",
   "execution_count": null,
   "id": "e7e13625",
   "metadata": {},
   "outputs": [],
   "source": [
    "#identify list of all dates\n",
    "m = driver.find_elements(By.XPATH, \"//table/tbody//td\")"
   ]
  },
  {
   "cell_type": "code",
   "execution_count": null,
   "id": "a4506b97",
   "metadata": {},
   "outputs": [],
   "source": [
    "df = pd.read_html(driver.page_source, attrs={\"class\": \"ui-datepicker-calendar\"}, flavor=[\"lxml\", \"bs4\"])"
   ]
  },
  {
   "cell_type": "code",
   "execution_count": null,
   "id": "111a20c5",
   "metadata": {},
   "outputs": [],
   "source": [
    "df[-1]"
   ]
  },
  {
   "cell_type": "code",
   "execution_count": null,
   "id": "12df5c32",
   "metadata": {},
   "outputs": [],
   "source": [
    "#iterate over list\n",
    "for i in m:\n",
    "#verify required date then click\n",
    "    if i.text == '3':\n",
    "        print(i.text)\n",
    "        i.click()\n",
    "        break"
   ]
  },
  {
   "cell_type": "code",
   "execution_count": null,
   "id": "6f8a5de9",
   "metadata": {},
   "outputs": [],
   "source": [
    "#get selected date\n",
    "s = d.get_attribute('value')\n",
    "print(\"Date entered is: \")\n",
    "print(s)\n"
   ]
  },
  {
   "cell_type": "code",
   "execution_count": null,
   "id": "bceb8080",
   "metadata": {},
   "outputs": [],
   "source": [
    "# 원래의 frame으로 복귀\n",
    "driver.switch_to.default_content() "
   ]
  },
  {
   "cell_type": "code",
   "execution_count": null,
   "id": "23708f24",
   "metadata": {},
   "outputs": [],
   "source": [
    "driver.find_element(By.CSS_SELECTOR, '#logo-events > h2').click()"
   ]
  },
  {
   "cell_type": "code",
   "execution_count": null,
   "id": "21716280",
   "metadata": {},
   "outputs": [],
   "source": [
    "driver.close()"
   ]
  },
  {
   "cell_type": "code",
   "execution_count": null,
   "id": "34baa0e7",
   "metadata": {},
   "outputs": [],
   "source": [
    "#browser quit\n",
    "driver.quit()"
   ]
  },
  {
   "cell_type": "code",
   "execution_count": 10,
   "id": "a9213f4b",
   "metadata": {},
   "outputs": [],
   "source": [
    "date_s = '#__next > div.desktop\\:relative.desktop\\:bg-background-default > div > div > div.grid.gap-4.tablet\\:gap-6.grid-cols-4.tablet\\:grid-cols-8.desktop\\:grid-cols-12.grid-container--fixed-desktop.general-layout_main__lRLYJ > main > div > div:nth-child(5) > div > div > div.flex.justify-between.items-end.mb-4 > div.flex.flex-row-reverse.desktop\\:flex-row.gap-6 > div.historical-data_history-date-picker-wrapper__dDOuq > div.HistoryDatePicker_HistoryDatePicker__sjrlU > div:nth-child(1) > div > div:nth-child(1) > input[type=date]'"
   ]
  },
  {
   "cell_type": "code",
   "execution_count": 14,
   "id": "532da784",
   "metadata": {},
   "outputs": [],
   "source": [
    "xx = '//*[@id=\"__next\"]/div[2]/div/div/div[2]/main/div/div[5]/div/div/div[2]/div[2]/div[2]/div[2]/div[1]/div/div[1]/input'"
   ]
  },
  {
   "cell_type": "code",
   "execution_count": 11,
   "id": "3a169b2c",
   "metadata": {},
   "outputs": [],
   "source": [
    "date_sc = driver.find_element(By.CSS_SELECTOR, date_s)"
   ]
  },
  {
   "cell_type": "code",
   "execution_count": 17,
   "id": "42f33d3f",
   "metadata": {},
   "outputs": [
    {
     "ename": "StaleElementReferenceException",
     "evalue": "Message: stale element reference: stale element not found\n  (Session info: chrome=113.0.5672.127)\nStacktrace:\nBacktrace:\n\tGetHandleVerifier [0x007F8893+48451]\n\t(No symbol) [0x0078B8A1]\n\t(No symbol) [0x00695058]\n\t(No symbol) [0x006983F1]\n\t(No symbol) [0x00699DEB]\n\t(No symbol) [0x006ECDD9]\n\t(No symbol) [0x006DA2BC]\n\t(No symbol) [0x006EC482]\n\t(No symbol) [0x006DA0B6]\n\t(No symbol) [0x006B7E08]\n\t(No symbol) [0x006B8F2D]\n\tGetHandleVerifier [0x00A58E3A+2540266]\n\tGetHandleVerifier [0x00A98959+2801161]\n\tGetHandleVerifier [0x00A9295C+2776588]\n\tGetHandleVerifier [0x00882280+612144]\n\t(No symbol) [0x00794F6C]\n\t(No symbol) [0x007911D8]\n\t(No symbol) [0x007912BB]\n\t(No symbol) [0x00784857]\n\tBaseThreadInitThunk [0x755E7D59+25]\n\tRtlInitializeExceptionChain [0x7717B74B+107]\n\tRtlClearBits [0x7717B6CF+191]\n",
     "output_type": "error",
     "traceback": [
      "\u001b[1;31m---------------------------------------------------------------------------\u001b[0m",
      "\u001b[1;31mStaleElementReferenceException\u001b[0m            Traceback (most recent call last)",
      "Cell \u001b[1;32mIn [17], line 1\u001b[0m\n\u001b[1;32m----> 1\u001b[0m \u001b[43mdriver\u001b[49m\u001b[38;5;241;43m.\u001b[39;49m\u001b[43mexecute_script\u001b[49m\u001b[43m(\u001b[49m\u001b[38;5;124;43m\"\u001b[39;49m\u001b[38;5;124;43marguments[0].value = \u001b[39;49m\u001b[38;5;124;43m'\u001b[39;49m\u001b[38;5;124;43m2023-03-25\u001b[39;49m\u001b[38;5;124;43m'\u001b[39;49m\u001b[38;5;124;43m;\u001b[39;49m\u001b[38;5;124;43m\"\u001b[39;49m\u001b[43m,\u001b[49m\u001b[43m \u001b[49m\u001b[43mdate_sc\u001b[49m\u001b[43m)\u001b[49m\n",
      "File \u001b[1;32m~\\AppData\\Local\\Programs\\Python\\Python310\\lib\\site-packages\\selenium\\webdriver\\remote\\webdriver.py:491\u001b[0m, in \u001b[0;36mWebDriver.execute_script\u001b[1;34m(self, script, *args)\u001b[0m\n\u001b[0;32m    488\u001b[0m converted_args \u001b[38;5;241m=\u001b[39m \u001b[38;5;28mlist\u001b[39m(args)\n\u001b[0;32m    489\u001b[0m command \u001b[38;5;241m=\u001b[39m Command\u001b[38;5;241m.\u001b[39mW3C_EXECUTE_SCRIPT\n\u001b[1;32m--> 491\u001b[0m \u001b[38;5;28;01mreturn\u001b[39;00m \u001b[38;5;28;43mself\u001b[39;49m\u001b[38;5;241;43m.\u001b[39;49m\u001b[43mexecute\u001b[49m\u001b[43m(\u001b[49m\u001b[43mcommand\u001b[49m\u001b[43m,\u001b[49m\u001b[43m \u001b[49m\u001b[43m{\u001b[49m\n\u001b[0;32m    492\u001b[0m \u001b[43m    \u001b[49m\u001b[38;5;124;43m'\u001b[39;49m\u001b[38;5;124;43mscript\u001b[39;49m\u001b[38;5;124;43m'\u001b[39;49m\u001b[43m:\u001b[49m\u001b[43m \u001b[49m\u001b[43mscript\u001b[49m\u001b[43m,\u001b[49m\n\u001b[0;32m    493\u001b[0m \u001b[43m    \u001b[49m\u001b[38;5;124;43m'\u001b[39;49m\u001b[38;5;124;43margs\u001b[39;49m\u001b[38;5;124;43m'\u001b[39;49m\u001b[43m:\u001b[49m\u001b[43m \u001b[49m\u001b[43mconverted_args\u001b[49m\u001b[43m}\u001b[49m\u001b[43m)\u001b[49m[\u001b[38;5;124m'\u001b[39m\u001b[38;5;124mvalue\u001b[39m\u001b[38;5;124m'\u001b[39m]\n",
      "File \u001b[1;32m~\\AppData\\Local\\Programs\\Python\\Python310\\lib\\site-packages\\selenium\\webdriver\\remote\\webdriver.py:428\u001b[0m, in \u001b[0;36mWebDriver.execute\u001b[1;34m(self, driver_command, params)\u001b[0m\n\u001b[0;32m    426\u001b[0m response \u001b[38;5;241m=\u001b[39m \u001b[38;5;28mself\u001b[39m\u001b[38;5;241m.\u001b[39mcommand_executor\u001b[38;5;241m.\u001b[39mexecute(driver_command, params)\n\u001b[0;32m    427\u001b[0m \u001b[38;5;28;01mif\u001b[39;00m response:\n\u001b[1;32m--> 428\u001b[0m     \u001b[38;5;28;43mself\u001b[39;49m\u001b[38;5;241;43m.\u001b[39;49m\u001b[43merror_handler\u001b[49m\u001b[38;5;241;43m.\u001b[39;49m\u001b[43mcheck_response\u001b[49m\u001b[43m(\u001b[49m\u001b[43mresponse\u001b[49m\u001b[43m)\u001b[49m\n\u001b[0;32m    429\u001b[0m     response[\u001b[38;5;124m'\u001b[39m\u001b[38;5;124mvalue\u001b[39m\u001b[38;5;124m'\u001b[39m] \u001b[38;5;241m=\u001b[39m \u001b[38;5;28mself\u001b[39m\u001b[38;5;241m.\u001b[39m_unwrap_value(\n\u001b[0;32m    430\u001b[0m         response\u001b[38;5;241m.\u001b[39mget(\u001b[38;5;124m'\u001b[39m\u001b[38;5;124mvalue\u001b[39m\u001b[38;5;124m'\u001b[39m, \u001b[38;5;28;01mNone\u001b[39;00m))\n\u001b[0;32m    431\u001b[0m     \u001b[38;5;28;01mreturn\u001b[39;00m response\n",
      "File \u001b[1;32m~\\AppData\\Local\\Programs\\Python\\Python310\\lib\\site-packages\\selenium\\webdriver\\remote\\errorhandler.py:243\u001b[0m, in \u001b[0;36mErrorHandler.check_response\u001b[1;34m(self, response)\u001b[0m\n\u001b[0;32m    241\u001b[0m         alert_text \u001b[38;5;241m=\u001b[39m value[\u001b[38;5;124m'\u001b[39m\u001b[38;5;124malert\u001b[39m\u001b[38;5;124m'\u001b[39m]\u001b[38;5;241m.\u001b[39mget(\u001b[38;5;124m'\u001b[39m\u001b[38;5;124mtext\u001b[39m\u001b[38;5;124m'\u001b[39m)\n\u001b[0;32m    242\u001b[0m     \u001b[38;5;28;01mraise\u001b[39;00m exception_class(message, screen, stacktrace, alert_text)  \u001b[38;5;66;03m# type: ignore[call-arg]  # mypy is not smart enough here\u001b[39;00m\n\u001b[1;32m--> 243\u001b[0m \u001b[38;5;28;01mraise\u001b[39;00m exception_class(message, screen, stacktrace)\n",
      "\u001b[1;31mStaleElementReferenceException\u001b[0m: Message: stale element reference: stale element not found\n  (Session info: chrome=113.0.5672.127)\nStacktrace:\nBacktrace:\n\tGetHandleVerifier [0x007F8893+48451]\n\t(No symbol) [0x0078B8A1]\n\t(No symbol) [0x00695058]\n\t(No symbol) [0x006983F1]\n\t(No symbol) [0x00699DEB]\n\t(No symbol) [0x006ECDD9]\n\t(No symbol) [0x006DA2BC]\n\t(No symbol) [0x006EC482]\n\t(No symbol) [0x006DA0B6]\n\t(No symbol) [0x006B7E08]\n\t(No symbol) [0x006B8F2D]\n\tGetHandleVerifier [0x00A58E3A+2540266]\n\tGetHandleVerifier [0x00A98959+2801161]\n\tGetHandleVerifier [0x00A9295C+2776588]\n\tGetHandleVerifier [0x00882280+612144]\n\t(No symbol) [0x00794F6C]\n\t(No symbol) [0x007911D8]\n\t(No symbol) [0x007912BB]\n\t(No symbol) [0x00784857]\n\tBaseThreadInitThunk [0x755E7D59+25]\n\tRtlInitializeExceptionChain [0x7717B74B+107]\n\tRtlClearBits [0x7717B6CF+191]\n"
     ]
    }
   ],
   "source": [
    "driver.execute_script(\"arguments[0].value = '2023-03-25';\", date_sc) "
   ]
  },
  {
   "cell_type": "code",
   "execution_count": 13,
   "id": "8de99df1",
   "metadata": {},
   "outputs": [
    {
     "ename": "AttributeError",
     "evalue": "'WebElement' object has no attribute 'setAttribute'",
     "output_type": "error",
     "traceback": [
      "\u001b[1;31m---------------------------------------------------------------------------\u001b[0m",
      "\u001b[1;31mAttributeError\u001b[0m                            Traceback (most recent call last)",
      "Cell \u001b[1;32mIn [13], line 1\u001b[0m\n\u001b[1;32m----> 1\u001b[0m \u001b[43mdriver\u001b[49m\u001b[38;5;241;43m.\u001b[39;49m\u001b[43mfind_element\u001b[49m\u001b[43m(\u001b[49m\u001b[43mBy\u001b[49m\u001b[38;5;241;43m.\u001b[39;49m\u001b[43mCSS_SELECTOR\u001b[49m\u001b[43m,\u001b[49m\u001b[43m \u001b[49m\u001b[43mdate_s\u001b[49m\u001b[43m)\u001b[49m\u001b[38;5;241;43m.\u001b[39;49m\u001b[43msetAttribute\u001b[49m(\u001b[38;5;124m\"\u001b[39m\u001b[38;5;124mvalue\u001b[39m\u001b[38;5;124m\"\u001b[39m, \u001b[38;5;124m\"\u001b[39m\u001b[38;5;124m2023-03-25\u001b[39m\u001b[38;5;124m\"\u001b[39m)\n",
      "\u001b[1;31mAttributeError\u001b[0m: 'WebElement' object has no attribute 'setAttribute'"
     ]
    }
   ],
   "source": [
    "driver.find_element(By.CSS_SELECTOR, date_s).setAttribute(\"value\", \"2023-03-25\")"
   ]
  },
  {
   "cell_type": "code",
   "execution_count": 16,
   "id": "6e09bfa5",
   "metadata": {},
   "outputs": [
    {
     "ename": "AttributeError",
     "evalue": "'WebElement' object has no attribute 'setAttribute'",
     "output_type": "error",
     "traceback": [
      "\u001b[1;31m---------------------------------------------------------------------------\u001b[0m",
      "\u001b[1;31mAttributeError\u001b[0m                            Traceback (most recent call last)",
      "Cell \u001b[1;32mIn [16], line 1\u001b[0m\n\u001b[1;32m----> 1\u001b[0m \u001b[43mdriver\u001b[49m\u001b[38;5;241;43m.\u001b[39;49m\u001b[43mfind_element\u001b[49m\u001b[43m(\u001b[49m\u001b[43mBy\u001b[49m\u001b[38;5;241;43m.\u001b[39;49m\u001b[43mXPATH\u001b[49m\u001b[43m,\u001b[49m\u001b[43m \u001b[49m\u001b[43mxx\u001b[49m\u001b[43m)\u001b[49m\u001b[38;5;241;43m.\u001b[39;49m\u001b[43msetAttribute\u001b[49m(\u001b[38;5;124m\"\u001b[39m\u001b[38;5;124mvalue\u001b[39m\u001b[38;5;124m\"\u001b[39m, \u001b[38;5;124m\"\u001b[39m\u001b[38;5;124m2023-03-25\u001b[39m\u001b[38;5;124m\"\u001b[39m)\n",
      "\u001b[1;31mAttributeError\u001b[0m: 'WebElement' object has no attribute 'setAttribute'"
     ]
    }
   ],
   "source": [
    "driver.find_element(By.XPATH, xx).setAttribute(\"value\", \"2023-03-25\")"
   ]
  },
  {
   "cell_type": "code",
   "execution_count": null,
   "id": "3c5deee9",
   "metadata": {},
   "outputs": [],
   "source": []
  },
  {
   "cell_type": "code",
   "execution_count": null,
   "id": "240dc1a4",
   "metadata": {},
   "outputs": [],
   "source": [
    "driver.execute_script('document.querySelector(\"#image_sec>img\").setAttribute(\"src\", \"2023-04-25\");')"
   ]
  },
  {
   "cell_type": "code",
   "execution_count": null,
   "id": "6a43be3f",
   "metadata": {},
   "outputs": [],
   "source": [
    "driver.execute_script('document.querySelector(date_s).setAttribute(\"value\", \"2023-04-25\");')"
   ]
  },
  {
   "cell_type": "code",
   "execution_count": 6,
   "id": "fbc8f353",
   "metadata": {},
   "outputs": [
    {
     "ename": "InvalidElementStateException",
     "evalue": "Message: invalid element state: Failed to execute 'querySelector' on 'Document': '#__next > div.desktop:relative.desktop:bg-background-default > div > div > div.grid.gap-4.tablet:gap-6.grid-cols-4.tablet:grid-cols-8.desktop:grid-cols-12.grid-container--fixed-desktop.general-layout_main__lRLYJ > main > div > div:nth-child(5) > div > div > div.flex.justify-between.items-end.mb-4 > div.flex.flex-row-reverse.desktop:flex-row.gap-6 > div.historical-data_history-date-picker-wrapper__dDOuq > div.HistoryDatePicker_HistoryDatePicker__sjrlU > div:nth-child(1) > div > div:nth-child(1) > input[type=date]' is not a valid selector.\n  (Session info: chrome=113.0.5672.127)\nStacktrace:\nBacktrace:\n\tGetHandleVerifier [0x007F8893+48451]\n\t(No symbol) [0x0078B8A1]\n\t(No symbol) [0x00695058]\n\t(No symbol) [0x006983F1]\n\t(No symbol) [0x00699DEB]\n\t(No symbol) [0x006ECDD9]\n\t(No symbol) [0x006DA2BC]\n\t(No symbol) [0x006EC482]\n\t(No symbol) [0x006DA0B6]\n\t(No symbol) [0x006B7E08]\n\t(No symbol) [0x006B8F2D]\n\tGetHandleVerifier [0x00A58E3A+2540266]\n\tGetHandleVerifier [0x00A98959+2801161]\n\tGetHandleVerifier [0x00A9295C+2776588]\n\tGetHandleVerifier [0x00882280+612144]\n\t(No symbol) [0x00794F6C]\n\t(No symbol) [0x007911D8]\n\t(No symbol) [0x007912BB]\n\t(No symbol) [0x00784857]\n\tBaseThreadInitThunk [0x755E7D59+25]\n\tRtlInitializeExceptionChain [0x7717B74B+107]\n\tRtlClearBits [0x7717B6CF+191]\n",
     "output_type": "error",
     "traceback": [
      "\u001b[1;31m---------------------------------------------------------------------------\u001b[0m",
      "\u001b[1;31mInvalidElementStateException\u001b[0m              Traceback (most recent call last)",
      "Cell \u001b[1;32mIn [6], line 1\u001b[0m\n\u001b[1;32m----> 1\u001b[0m \u001b[43mdriver\u001b[49m\u001b[38;5;241;43m.\u001b[39;49m\u001b[43mexecute_script\u001b[49m\u001b[43m(\u001b[49m\u001b[38;5;124;43m'\u001b[39;49m\u001b[38;5;124;43mdocument.querySelector(\u001b[39;49m\u001b[38;5;124;43m\"\u001b[39;49m\u001b[38;5;124;43m#__next > div.desktop\u001b[39;49m\u001b[38;5;124;43m\\\u001b[39;49m\u001b[38;5;124;43m:relative.desktop\u001b[39;49m\u001b[38;5;124;43m\\\u001b[39;49m\u001b[38;5;124;43m:bg-background-default > div > div > div.grid.gap-4.tablet\u001b[39;49m\u001b[38;5;124;43m\\\u001b[39;49m\u001b[38;5;124;43m:gap-6.grid-cols-4.tablet\u001b[39;49m\u001b[38;5;124;43m\\\u001b[39;49m\u001b[38;5;124;43m:grid-cols-8.desktop\u001b[39;49m\u001b[38;5;124;43m\\\u001b[39;49m\u001b[38;5;124;43m:grid-cols-12.grid-container--fixed-desktop.general-layout_main__lRLYJ > main > div > div:nth-child(5) > div > div > div.flex.justify-between.items-end.mb-4 > div.flex.flex-row-reverse.desktop\u001b[39;49m\u001b[38;5;124;43m\\\u001b[39;49m\u001b[38;5;124;43m:flex-row.gap-6 > div.historical-data_history-date-picker-wrapper__dDOuq > div.HistoryDatePicker_HistoryDatePicker__sjrlU > div:nth-child(1) > div > div:nth-child(1) > input[type=date]\u001b[39;49m\u001b[38;5;124;43m\"\u001b[39;49m\u001b[38;5;124;43m).value=\u001b[39;49m\u001b[38;5;124;43m\"\u001b[39;49m\u001b[38;5;124;43m2023-03-25\u001b[39;49m\u001b[38;5;124;43m\"\u001b[39;49m\u001b[38;5;124;43m;\u001b[39;49m\u001b[38;5;124;43m'\u001b[39;49m\u001b[43m)\u001b[49m\n",
      "File \u001b[1;32m~\\AppData\\Local\\Programs\\Python\\Python310\\lib\\site-packages\\selenium\\webdriver\\remote\\webdriver.py:491\u001b[0m, in \u001b[0;36mWebDriver.execute_script\u001b[1;34m(self, script, *args)\u001b[0m\n\u001b[0;32m    488\u001b[0m converted_args \u001b[38;5;241m=\u001b[39m \u001b[38;5;28mlist\u001b[39m(args)\n\u001b[0;32m    489\u001b[0m command \u001b[38;5;241m=\u001b[39m Command\u001b[38;5;241m.\u001b[39mW3C_EXECUTE_SCRIPT\n\u001b[1;32m--> 491\u001b[0m \u001b[38;5;28;01mreturn\u001b[39;00m \u001b[38;5;28;43mself\u001b[39;49m\u001b[38;5;241;43m.\u001b[39;49m\u001b[43mexecute\u001b[49m\u001b[43m(\u001b[49m\u001b[43mcommand\u001b[49m\u001b[43m,\u001b[49m\u001b[43m \u001b[49m\u001b[43m{\u001b[49m\n\u001b[0;32m    492\u001b[0m \u001b[43m    \u001b[49m\u001b[38;5;124;43m'\u001b[39;49m\u001b[38;5;124;43mscript\u001b[39;49m\u001b[38;5;124;43m'\u001b[39;49m\u001b[43m:\u001b[49m\u001b[43m \u001b[49m\u001b[43mscript\u001b[49m\u001b[43m,\u001b[49m\n\u001b[0;32m    493\u001b[0m \u001b[43m    \u001b[49m\u001b[38;5;124;43m'\u001b[39;49m\u001b[38;5;124;43margs\u001b[39;49m\u001b[38;5;124;43m'\u001b[39;49m\u001b[43m:\u001b[49m\u001b[43m \u001b[49m\u001b[43mconverted_args\u001b[49m\u001b[43m}\u001b[49m\u001b[43m)\u001b[49m[\u001b[38;5;124m'\u001b[39m\u001b[38;5;124mvalue\u001b[39m\u001b[38;5;124m'\u001b[39m]\n",
      "File \u001b[1;32m~\\AppData\\Local\\Programs\\Python\\Python310\\lib\\site-packages\\selenium\\webdriver\\remote\\webdriver.py:428\u001b[0m, in \u001b[0;36mWebDriver.execute\u001b[1;34m(self, driver_command, params)\u001b[0m\n\u001b[0;32m    426\u001b[0m response \u001b[38;5;241m=\u001b[39m \u001b[38;5;28mself\u001b[39m\u001b[38;5;241m.\u001b[39mcommand_executor\u001b[38;5;241m.\u001b[39mexecute(driver_command, params)\n\u001b[0;32m    427\u001b[0m \u001b[38;5;28;01mif\u001b[39;00m response:\n\u001b[1;32m--> 428\u001b[0m     \u001b[38;5;28;43mself\u001b[39;49m\u001b[38;5;241;43m.\u001b[39;49m\u001b[43merror_handler\u001b[49m\u001b[38;5;241;43m.\u001b[39;49m\u001b[43mcheck_response\u001b[49m\u001b[43m(\u001b[49m\u001b[43mresponse\u001b[49m\u001b[43m)\u001b[49m\n\u001b[0;32m    429\u001b[0m     response[\u001b[38;5;124m'\u001b[39m\u001b[38;5;124mvalue\u001b[39m\u001b[38;5;124m'\u001b[39m] \u001b[38;5;241m=\u001b[39m \u001b[38;5;28mself\u001b[39m\u001b[38;5;241m.\u001b[39m_unwrap_value(\n\u001b[0;32m    430\u001b[0m         response\u001b[38;5;241m.\u001b[39mget(\u001b[38;5;124m'\u001b[39m\u001b[38;5;124mvalue\u001b[39m\u001b[38;5;124m'\u001b[39m, \u001b[38;5;28;01mNone\u001b[39;00m))\n\u001b[0;32m    431\u001b[0m     \u001b[38;5;28;01mreturn\u001b[39;00m response\n",
      "File \u001b[1;32m~\\AppData\\Local\\Programs\\Python\\Python310\\lib\\site-packages\\selenium\\webdriver\\remote\\errorhandler.py:243\u001b[0m, in \u001b[0;36mErrorHandler.check_response\u001b[1;34m(self, response)\u001b[0m\n\u001b[0;32m    241\u001b[0m         alert_text \u001b[38;5;241m=\u001b[39m value[\u001b[38;5;124m'\u001b[39m\u001b[38;5;124malert\u001b[39m\u001b[38;5;124m'\u001b[39m]\u001b[38;5;241m.\u001b[39mget(\u001b[38;5;124m'\u001b[39m\u001b[38;5;124mtext\u001b[39m\u001b[38;5;124m'\u001b[39m)\n\u001b[0;32m    242\u001b[0m     \u001b[38;5;28;01mraise\u001b[39;00m exception_class(message, screen, stacktrace, alert_text)  \u001b[38;5;66;03m# type: ignore[call-arg]  # mypy is not smart enough here\u001b[39;00m\n\u001b[1;32m--> 243\u001b[0m \u001b[38;5;28;01mraise\u001b[39;00m exception_class(message, screen, stacktrace)\n",
      "\u001b[1;31mInvalidElementStateException\u001b[0m: Message: invalid element state: Failed to execute 'querySelector' on 'Document': '#__next > div.desktop:relative.desktop:bg-background-default > div > div > div.grid.gap-4.tablet:gap-6.grid-cols-4.tablet:grid-cols-8.desktop:grid-cols-12.grid-container--fixed-desktop.general-layout_main__lRLYJ > main > div > div:nth-child(5) > div > div > div.flex.justify-between.items-end.mb-4 > div.flex.flex-row-reverse.desktop:flex-row.gap-6 > div.historical-data_history-date-picker-wrapper__dDOuq > div.HistoryDatePicker_HistoryDatePicker__sjrlU > div:nth-child(1) > div > div:nth-child(1) > input[type=date]' is not a valid selector.\n  (Session info: chrome=113.0.5672.127)\nStacktrace:\nBacktrace:\n\tGetHandleVerifier [0x007F8893+48451]\n\t(No symbol) [0x0078B8A1]\n\t(No symbol) [0x00695058]\n\t(No symbol) [0x006983F1]\n\t(No symbol) [0x00699DEB]\n\t(No symbol) [0x006ECDD9]\n\t(No symbol) [0x006DA2BC]\n\t(No symbol) [0x006EC482]\n\t(No symbol) [0x006DA0B6]\n\t(No symbol) [0x006B7E08]\n\t(No symbol) [0x006B8F2D]\n\tGetHandleVerifier [0x00A58E3A+2540266]\n\tGetHandleVerifier [0x00A98959+2801161]\n\tGetHandleVerifier [0x00A9295C+2776588]\n\tGetHandleVerifier [0x00882280+612144]\n\t(No symbol) [0x00794F6C]\n\t(No symbol) [0x007911D8]\n\t(No symbol) [0x007912BB]\n\t(No symbol) [0x00784857]\n\tBaseThreadInitThunk [0x755E7D59+25]\n\tRtlInitializeExceptionChain [0x7717B74B+107]\n\tRtlClearBits [0x7717B6CF+191]\n"
     ]
    }
   ],
   "source": [
    "driver.execute_script('document.querySelector(\"#__next > div.desktop\\:relative.desktop\\:bg-background-default > div > div > div.grid.gap-4.tablet\\:gap-6.grid-cols-4.tablet\\:grid-cols-8.desktop\\:grid-cols-12.grid-container--fixed-desktop.general-layout_main__lRLYJ > main > div > div:nth-child(5) > div > div > div.flex.justify-between.items-end.mb-4 > div.flex.flex-row-reverse.desktop\\:flex-row.gap-6 > div.historical-data_history-date-picker-wrapper__dDOuq > div.HistoryDatePicker_HistoryDatePicker__sjrlU > div:nth-child(1) > div > div:nth-child(1) > input[type=date]\").value=\"2023-03-25\";')"
   ]
  },
  {
   "cell_type": "code",
   "execution_count": null,
   "id": "0a20f120",
   "metadata": {},
   "outputs": [],
   "source": [
    "date_s"
   ]
  },
  {
   "cell_type": "code",
   "execution_count": null,
   "id": "4c932767",
   "metadata": {},
   "outputs": [],
   "source": []
  },
  {
   "cell_type": "code",
   "execution_count": null,
   "id": "e12e4f87",
   "metadata": {},
   "outputs": [],
   "source": [
    "document.getElementById(\"picker\").setAttribute(\"value\",\"new_value\")\n",
    "\n",
    "query = 'document.getElementById(\"picker\").setAttribute(\"value\",\"new_value\")'\n",
    "driver.execute_script(query)"
   ]
  }
 ],
 "metadata": {
  "kernelspec": {
   "display_name": "Python 3 (ipykernel)",
   "language": "python",
   "name": "python3"
  },
  "language_info": {
   "codemirror_mode": {
    "name": "ipython",
    "version": 3
   },
   "file_extension": ".py",
   "mimetype": "text/x-python",
   "name": "python",
   "nbconvert_exporter": "python",
   "pygments_lexer": "ipython3",
   "version": "3.10.7"
  }
 },
 "nbformat": 4,
 "nbformat_minor": 5
}
