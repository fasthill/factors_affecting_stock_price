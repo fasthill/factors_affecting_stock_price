{
 "cells": [
  {
   "cell_type": "code",
   "execution_count": null,
   "id": "018c95c2",
   "metadata": {},
   "outputs": [],
   "source": [
    "import pandas as pd\n",
    "import numpy as np"
   ]
  },
  {
   "cell_type": "code",
   "execution_count": 1,
   "id": "b6071c61",
   "metadata": {},
   "outputs": [],
   "source": [
    "from selenium import webdriver as wd\n",
    "from selenium.webdriver.common.keys import Keys\n",
    "from selenium.webdriver.common.by import By\n",
    "from selenium.webdriver.chrome.service import Service\n",
    "from selenium.webdriver.support.ui import WebDriverWait\n",
    "from selenium.webdriver.support import expected_conditions as EC\n",
    "from webdriver_manager.chrome import ChromeDriverManager"
   ]
  },
  {
   "cell_type": "code",
   "execution_count": null,
   "id": "e15db437",
   "metadata": {},
   "outputs": [],
   "source": [
    "from bs4 import BeautifulSoup as bs\n",
    "import requests"
   ]
  },
  {
   "cell_type": "code",
   "execution_count": null,
   "id": "58258e9b",
   "metadata": {},
   "outputs": [],
   "source": [
    "import datetime\n",
    "import time\n",
    "from datetime import date"
   ]
  },
  {
   "cell_type": "code",
   "execution_count": 2,
   "id": "social-sunrise",
   "metadata": {},
   "outputs": [],
   "source": [
    "import os, sys"
   ]
  },
  {
   "cell_type": "code",
   "execution_count": 3,
   "id": "983181b0",
   "metadata": {},
   "outputs": [],
   "source": [
    "# !pip install chromedriver_autoinstaller\n",
    "\n",
    "import chromedriver_autoinstaller\n",
    "\n",
    "driver_name = chromedriver_autoinstaller.install()  # Check if the current version of chromedriver exists\n",
    "                                      # and if it doesn't exist, download it automatically,\n",
    "                                      # then add chromedriver to path\n",
    "time.sleep(1)"
   ]
  },
  {
   "cell_type": "code",
   "execution_count": 4,
   "id": "compressed-cornell",
   "metadata": {},
   "outputs": [],
   "source": [
    "driver = wd.Chrome(service=Service(ChromeDriverManager().install()))"
   ]
  },
  {
   "cell_type": "code",
   "execution_count": 5,
   "id": "212a6b1a",
   "metadata": {},
   "outputs": [],
   "source": [
    "main_url = 'https://kr.investing.com/indices/us-30-historical-data'\n",
    "driver.get(main_url)\n",
    "time.sleep(1)"
   ]
  },
  {
   "cell_type": "code",
   "execution_count": null,
   "id": "29e69d53",
   "metadata": {},
   "outputs": [],
   "source": [
    "main_url = \"https://jqueryui.com/datepicker/\"\n",
    "driver.get(main_url)\n",
    "time.sleep(1)"
   ]
  },
  {
   "cell_type": "code",
   "execution_count": null,
   "id": "818f5eb5",
   "metadata": {},
   "outputs": [],
   "source": [
    "#switch to frame\n",
    "fr = driver.find_element(By.XPATH, \"//iframe[@class='demo-frame']\")\n",
    "driver.switch_to.frame(fr);"
   ]
  },
  {
   "cell_type": "code",
   "execution_count": null,
   "id": "191f7c8c",
   "metadata": {},
   "outputs": [],
   "source": [
    "#identify element inside frame\n",
    "d= driver.find_element(By.ID, \"datepicker\")\n",
    "d.click()"
   ]
  },
  {
   "cell_type": "code",
   "execution_count": null,
   "id": "d13e2a0b",
   "metadata": {
    "scrolled": true
   },
   "outputs": [],
   "source": [
    "m = driver.find_elements(By.CSS_SELECTOR, \"#ui-datepicker-div > table > tbody a\")"
   ]
  },
  {
   "cell_type": "code",
   "execution_count": null,
   "id": "e7e13625",
   "metadata": {},
   "outputs": [],
   "source": [
    "#identify list of all dates\n",
    "m = driver.find_elements(By.XPATH, \"//table/tbody//td\")"
   ]
  },
  {
   "cell_type": "code",
   "execution_count": null,
   "id": "a4506b97",
   "metadata": {},
   "outputs": [],
   "source": [
    "df = pd.read_html(driver.page_source, attrs={\"class\": \"ui-datepicker-calendar\"}, flavor=[\"lxml\", \"bs4\"])"
   ]
  },
  {
   "cell_type": "code",
   "execution_count": null,
   "id": "111a20c5",
   "metadata": {},
   "outputs": [],
   "source": [
    "df[-1]"
   ]
  },
  {
   "cell_type": "code",
   "execution_count": null,
   "id": "12df5c32",
   "metadata": {},
   "outputs": [],
   "source": [
    "#iterate over list\n",
    "for i in m:\n",
    "#verify required date then click\n",
    "    if i.text == '3':\n",
    "        print(i.text)\n",
    "        i.click()\n",
    "        break"
   ]
  },
  {
   "cell_type": "code",
   "execution_count": null,
   "id": "6f8a5de9",
   "metadata": {},
   "outputs": [],
   "source": [
    "#get selected date\n",
    "s = d.get_attribute('value')\n",
    "print(\"Date entered is: \")\n",
    "print(s)\n"
   ]
  },
  {
   "cell_type": "code",
   "execution_count": null,
   "id": "bceb8080",
   "metadata": {},
   "outputs": [],
   "source": [
    "# 원래의 frame으로 복귀\n",
    "driver.switch_to.default_content() "
   ]
  },
  {
   "cell_type": "code",
   "execution_count": null,
   "id": "23708f24",
   "metadata": {},
   "outputs": [],
   "source": [
    "driver.find_element(By.CSS_SELECTOR, '#logo-events > h2').click()"
   ]
  },
  {
   "cell_type": "code",
   "execution_count": null,
   "id": "21716280",
   "metadata": {},
   "outputs": [],
   "source": [
    "driver.close()"
   ]
  },
  {
   "cell_type": "code",
   "execution_count": null,
   "id": "34baa0e7",
   "metadata": {},
   "outputs": [],
   "source": [
    "#browser quit\n",
    "driver.quit()"
   ]
  },
  {
   "cell_type": "code",
   "execution_count": null,
   "id": "076257e7",
   "metadata": {},
   "outputs": [],
   "source": []
  },
  {
   "cell_type": "code",
   "execution_count": null,
   "id": "c8cd0996",
   "metadata": {},
   "outputs": [],
   "source": []
  },
  {
   "cell_type": "code",
   "execution_count": null,
   "id": "9b20a1f7",
   "metadata": {},
   "outputs": [],
   "source": []
  },
  {
   "cell_type": "code",
   "execution_count": null,
   "id": "02f34dda",
   "metadata": {},
   "outputs": [],
   "source": []
  },
  {
   "cell_type": "code",
   "execution_count": null,
   "id": "a42df7a6",
   "metadata": {},
   "outputs": [],
   "source": [
    "date_picker_sel = '#__next > div.desktop\\:relative.desktop\\:bg-background-default > div > div > div.grid.gap-4.tablet\\:gap-6.grid-cols-4.tablet\\:grid-cols-8.desktop\\:grid-cols-12.grid-container--fixed-desktop.general-layout_main__lRLYJ > main > div > div:nth-child(5) > div > div > div.flex.justify-between.items-end.mb-4 > div.flex.flex-row-reverse.desktop\\:flex-row.gap-6 > div.historical-data_history-date-picker-wrapper__dDOuq > div.DatePickerWrapper_input__MDvWH > div.DatePickerWrapper_icon-wrap__cwTu_ > div'"
   ]
  },
  {
   "cell_type": "code",
   "execution_count": null,
   "id": "c2109751",
   "metadata": {},
   "outputs": [],
   "source": [
    "driver.find_element(By.CSS_SELECTOR, date_picker_sel).click()"
   ]
  },
  {
   "cell_type": "code",
   "execution_count": 12,
   "id": "579793a5",
   "metadata": {},
   "outputs": [],
   "source": [
    "s1 = driver.find_elements(By.CLASS_NAME, 'NativeDateInput_root__wbgyP')[0]\n",
    "s2 = driver.find_elements(By.CLASS_NAME, 'NativeDateInput_root__wbgyP')[1]"
   ]
  },
  {
   "cell_type": "code",
   "execution_count": 15,
   "id": "b5d3cf20",
   "metadata": {},
   "outputs": [],
   "source": [
    "s11 = s1.find_element(By.CSS_SELECTOR, 'input[type=date]')"
   ]
  },
  {
   "cell_type": "code",
   "execution_count": 16,
   "id": "1e2d8029",
   "metadata": {},
   "outputs": [],
   "source": [
    "s11.clear()\n",
    "s11.send_keys('2023-03-20')\n",
    "s11.click()"
   ]
  },
  {
   "cell_type": "code",
   "execution_count": 17,
   "id": "552dd536",
   "metadata": {},
   "outputs": [
    {
     "data": {
      "text/plain": [
       "<selenium.webdriver.remote.webelement.WebElement (session=\"7ab64e59f0ce9f8fd961f4eeccf3c705\", element=\"769E8633E6A8F01A2FFDAE85CB4B0045_element_411\")>"
      ]
     },
     "execution_count": 17,
     "metadata": {},
     "output_type": "execute_result"
    }
   ],
   "source": [
    "s11"
   ]
  },
  {
   "cell_type": "code",
   "execution_count": null,
   "id": "68a6f271",
   "metadata": {},
   "outputs": [],
   "source": [
    "#__next > div.desktop\\:relative.desktop\\:bg-background-default > div > div > div.grid.gap-4.tablet\\:gap-6.grid-cols-4.tablet\\:grid-cols-8.desktop\\:grid-cols-12.grid-container--fixed-desktop.general-layout_main__lRLYJ > main > div > div:nth-child(5) > div > div > div.flex.justify-between.items-end.mb-4 > div.flex.flex-row-reverse.desktop\\:flex-row.gap-6 > div.historical-data_history-date-picker-wrapper__dDOuq > div.HistoryDatePicker_HistoryDatePicker__sjrlU > div:nth-child(1) > div > div:nth-child(1) > input[type=date]"
   ]
  },
  {
   "cell_type": "code",
   "execution_count": null,
   "id": "a9213f4b",
   "metadata": {},
   "outputs": [],
   "source": [
    "start_date_in = '#__next > div.desktop\\:relative.desktop\\:bg-background-default > div > div > div.grid.gap-4.tablet\\:gap-6.grid-cols-4.tablet\\:grid-cols-8.desktop\\:grid-cols-12.grid-container--fixed-desktop.general-layout_main__lRLYJ > main > div > div:nth-child(5) > div > div > div.flex.justify-between.items-end.mb-4 > div.flex.flex-row-reverse.desktop\\:flex-row.gap-6 > div.historical-data_history-date-picker-wrapper__dDOuq > div.HistoryDatePicker_HistoryDatePicker__sjrlU > div:nth-child(1) > div > div:nth-child(1) > input[type=date]'"
   ]
  },
  {
   "cell_type": "code",
   "execution_count": null,
   "id": "3a169b2c",
   "metadata": {},
   "outputs": [],
   "source": [
    "st_date_el = driver.find_element(By.CSS_SELECTOR, start_date_in)"
   ]
  },
  {
   "cell_type": "code",
   "execution_count": null,
   "id": "bf92cb78",
   "metadata": {},
   "outputs": [],
   "source": [
    "st_date_el.clear()\n",
    "st_date_el.send_keys('2023-03-20')\n",
    "st_date_el.click()"
   ]
  },
  {
   "cell_type": "code",
   "execution_count": null,
   "id": "e89107d9",
   "metadata": {},
   "outputs": [],
   "source": [
    "end_date_in = '#__next > div.desktop\\:relative.desktop\\:bg-background-default > div > div > div.grid.gap-4.tablet\\:gap-6.grid-cols-4.tablet\\:grid-cols-8.desktop\\:grid-cols-12.grid-container--fixed-desktop.general-layout_main__lRLYJ > main > div > div:nth-child(5) > div > div > div.flex.justify-between.items-end.mb-4 > div.flex.flex-row-reverse.desktop\\:flex-row.gap-6 > div.historical-data_history-date-picker-wrapper__dDOuq > div.HistoryDatePicker_HistoryDatePicker__sjrlU > div:nth-child(1) > div > div:nth-child(2) > input[type=date]'"
   ]
  },
  {
   "cell_type": "code",
   "execution_count": null,
   "id": "5d22ad4a",
   "metadata": {},
   "outputs": [],
   "source": [
    "en_date_el = driver.find_element(By.CSS_SELECTOR, end_date_in)"
   ]
  },
  {
   "cell_type": "code",
   "execution_count": null,
   "id": "b60b0e75",
   "metadata": {},
   "outputs": [],
   "source": [
    "en_date_el.clear()\n",
    "en_date_el.send_keys('2023-05-22')\n",
    "en_date_el.click()"
   ]
  },
  {
   "cell_type": "code",
   "execution_count": null,
   "id": "0e2dcc32",
   "metadata": {},
   "outputs": [],
   "source": [
    "apply_button_sel = '#__next > div.desktop\\:relative.desktop\\:bg-background-default > div > div > div.grid.gap-4.tablet\\:gap-6.grid-cols-4.tablet\\:grid-cols-8.desktop\\:grid-cols-12.grid-container--fixed-desktop.general-layout_main__lRLYJ > main > div > div:nth-child(5) > div > div > div.flex.justify-between.items-end.mb-4 > div.flex.flex-row-reverse.desktop\\:flex-row.gap-6 > div.historical-data_history-date-picker-wrapper__dDOuq > div.HistoryDatePicker_HistoryDatePicker__sjrlU > div.HistoryDatePicker_footer__KBy9B > button'"
   ]
  },
  {
   "cell_type": "code",
   "execution_count": null,
   "id": "188fb39a",
   "metadata": {},
   "outputs": [],
   "source": [
    "apply_button_el = driver.find_element(By.CSS_SELECTOR, apply_button_sel)"
   ]
  },
  {
   "cell_type": "code",
   "execution_count": null,
   "id": "ab7469a1",
   "metadata": {},
   "outputs": [],
   "source": [
    "apply_button_el.click()"
   ]
  },
  {
   "cell_type": "code",
   "execution_count": null,
   "id": "ad30beb6",
   "metadata": {},
   "outputs": [],
   "source": []
  },
  {
   "cell_type": "code",
   "execution_count": null,
   "id": "6c11c9df",
   "metadata": {},
   "outputs": [],
   "source": []
  },
  {
   "cell_type": "code",
   "execution_count": null,
   "id": "447f1f37",
   "metadata": {},
   "outputs": [],
   "source": []
  },
  {
   "cell_type": "code",
   "execution_count": null,
   "id": "42f33d3f",
   "metadata": {},
   "outputs": [],
   "source": [
    "driver.execute_script(\"arguments[0].value = '2023-03-25';\", date_sc) "
   ]
  },
  {
   "cell_type": "code",
   "execution_count": null,
   "id": "8de99df1",
   "metadata": {},
   "outputs": [],
   "source": [
    "driver.find_element(By.CSS_SELECTOR, date_s).setAttribute(\"value\", \"2023-03-25\")"
   ]
  },
  {
   "cell_type": "code",
   "execution_count": null,
   "id": "6e09bfa5",
   "metadata": {},
   "outputs": [],
   "source": [
    "driver.find_element(By.XPATH, xx).setAttribute(\"value\", \"2023-03-25\")"
   ]
  },
  {
   "cell_type": "code",
   "execution_count": null,
   "id": "3c5deee9",
   "metadata": {},
   "outputs": [],
   "source": []
  },
  {
   "cell_type": "code",
   "execution_count": null,
   "id": "240dc1a4",
   "metadata": {},
   "outputs": [],
   "source": [
    "driver.execute_script('document.querySelector(\"#image_sec>img\").setAttribute(\"src\", \"2023-04-25\");')"
   ]
  },
  {
   "cell_type": "code",
   "execution_count": null,
   "id": "6a43be3f",
   "metadata": {},
   "outputs": [],
   "source": [
    "driver.execute_script('document.querySelector(date_s).setAttribute(\"value\", \"2023-04-25\");')"
   ]
  },
  {
   "cell_type": "code",
   "execution_count": null,
   "id": "fbc8f353",
   "metadata": {},
   "outputs": [],
   "source": [
    "driver.execute_script('document.querySelector(\"#__next > div.desktop\\:relative.desktop\\:bg-background-default > div > div > div.grid.gap-4.tablet\\:gap-6.grid-cols-4.tablet\\:grid-cols-8.desktop\\:grid-cols-12.grid-container--fixed-desktop.general-layout_main__lRLYJ > main > div > div:nth-child(5) > div > div > div.flex.justify-between.items-end.mb-4 > div.flex.flex-row-reverse.desktop\\:flex-row.gap-6 > div.historical-data_history-date-picker-wrapper__dDOuq > div.HistoryDatePicker_HistoryDatePicker__sjrlU > div:nth-child(1) > div > div:nth-child(1) > input[type=date]\").value=\"2023-03-25\";')"
   ]
  },
  {
   "cell_type": "code",
   "execution_count": null,
   "id": "0a20f120",
   "metadata": {},
   "outputs": [],
   "source": [
    "date_s"
   ]
  },
  {
   "cell_type": "code",
   "execution_count": null,
   "id": "4c932767",
   "metadata": {},
   "outputs": [],
   "source": []
  },
  {
   "cell_type": "code",
   "execution_count": null,
   "id": "e12e4f87",
   "metadata": {},
   "outputs": [],
   "source": [
    "document.getElementById(\"picker\").setAttribute(\"value\",\"new_value\")\n",
    "\n",
    "query = 'document.getElementById(\"picker\").setAttribute(\"value\",\"new_value\")'\n",
    "driver.execute_script(query)"
   ]
  }
 ],
 "metadata": {
  "kernelspec": {
   "display_name": "Python 3 (ipykernel)",
   "language": "python",
   "name": "python3"
  },
  "language_info": {
   "codemirror_mode": {
    "name": "ipython",
    "version": 3
   },
   "file_extension": ".py",
   "mimetype": "text/x-python",
   "name": "python",
   "nbconvert_exporter": "python",
   "pygments_lexer": "ipython3",
   "version": "3.9.1"
  }
 },
 "nbformat": 4,
 "nbformat_minor": 5
}
