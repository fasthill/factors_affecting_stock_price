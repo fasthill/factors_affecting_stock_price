{
 "cells": [
  {
   "cell_type": "code",
   "execution_count": null,
   "id": "b6071c61",
   "metadata": {},
   "outputs": [],
   "source": [
    "from selenium import webdriver as wd\n",
    "from selenium.webdriver import ActionChains # scroll down 사용하기 위하여 선서\n",
    "from selenium.webdriver.common.keys import Keys\n",
    "from selenium.webdriver.common.by import By\n",
    "from bs4 import BeautifulSoup as bs\n",
    "\n",
    "import datetime, time\n",
    "from datetime import date\n",
    "\n",
    "import pandas as pd\n",
    "import numpy as np\n",
    "import requests\n",
    "import time\n",
    "import os, sys"
   ]
  },
  {
   "cell_type": "code",
   "execution_count": null,
   "id": "social-sunrise",
   "metadata": {},
   "outputs": [],
   "source": [
    "from selenium.webdriver.common.by import By\n",
    "from selenium.webdriver.support.ui import WebDriverWait\n",
    "from selenium.webdriver.support import expected_conditions as EC"
   ]
  },
  {
   "cell_type": "code",
   "execution_count": null,
   "id": "983181b0",
   "metadata": {},
   "outputs": [],
   "source": [
    "# !pip install chromedriver_autoinstaller\n",
    "\n",
    "import chromedriver_autoinstaller\n",
    "\n",
    "driver_name = chromedriver_autoinstaller.install()  # Check if the current version of chromedriver exists\n",
    "                                      # and if it doesn't exist, download it automatically,\n",
    "                                      # then add chromedriver to path\n",
    "time.sleep(1)"
   ]
  },
  {
   "cell_type": "code",
   "execution_count": null,
   "id": "compressed-cornell",
   "metadata": {},
   "outputs": [],
   "source": [
    "driver = wd.Chrome(driver_name)"
   ]
  },
  {
   "cell_type": "code",
   "execution_count": null,
   "id": "29e69d53",
   "metadata": {},
   "outputs": [],
   "source": [
    "main_url = \"https://jqueryui.com/datepicker/\"\n",
    "driver.get(main_url)\n",
    "time.sleep(1)"
   ]
  },
  {
   "cell_type": "code",
   "execution_count": null,
   "id": "818f5eb5",
   "metadata": {},
   "outputs": [],
   "source": [
    "#switch to frame\n",
    "fr = driver.find_element(By.XPATH, \"//iframe[@class='demo-frame']\")\n",
    "driver.switch_to.frame(fr);"
   ]
  },
  {
   "cell_type": "code",
   "execution_count": null,
   "id": "191f7c8c",
   "metadata": {},
   "outputs": [],
   "source": [
    "#identify element inside frame\n",
    "d= driver.find_element(By.ID, \"datepicker\")\n",
    "d.click()"
   ]
  },
  {
   "cell_type": "code",
   "execution_count": null,
   "id": "d13e2a0b",
   "metadata": {
    "scrolled": true
   },
   "outputs": [],
   "source": [
    "m = driver.find_elements(By.CSS_SELECTOR, \"#ui-datepicker-div > table > tbody a\")"
   ]
  },
  {
   "cell_type": "code",
   "execution_count": null,
   "id": "e7e13625",
   "metadata": {},
   "outputs": [],
   "source": [
    "#identify list of all dates\n",
    "m = driver.find_elements(By.XPATH, \"//table/tbody//td\")"
   ]
  },
  {
   "cell_type": "code",
   "execution_count": null,
   "id": "a4506b97",
   "metadata": {},
   "outputs": [],
   "source": [
    "df = pd.read_html(driver.page_source, attrs={\"class\": \"ui-datepicker-calendar\"}, flavor=[\"lxml\", \"bs4\"])"
   ]
  },
  {
   "cell_type": "code",
   "execution_count": null,
   "id": "111a20c5",
   "metadata": {},
   "outputs": [],
   "source": [
    "df[-1]"
   ]
  },
  {
   "cell_type": "code",
   "execution_count": null,
   "id": "12df5c32",
   "metadata": {},
   "outputs": [],
   "source": [
    "#iterate over list\n",
    "for i in m:\n",
    "#verify required date then click\n",
    "    if i.text == '3':\n",
    "        print(i.text)\n",
    "        i.click()\n",
    "        break"
   ]
  },
  {
   "cell_type": "code",
   "execution_count": null,
   "id": "6f8a5de9",
   "metadata": {},
   "outputs": [],
   "source": [
    "#get selected date\n",
    "s = d.get_attribute('value')\n",
    "print(\"Date entered is: \")\n",
    "print(s)\n"
   ]
  },
  {
   "cell_type": "code",
   "execution_count": null,
   "id": "bceb8080",
   "metadata": {},
   "outputs": [],
   "source": [
    "# 원래의 frame으로 복귀\n",
    "driver.switch_to.default_content() "
   ]
  },
  {
   "cell_type": "code",
   "execution_count": null,
   "id": "23708f24",
   "metadata": {},
   "outputs": [],
   "source": [
    "driver.find_element(By.CSS_SELECTOR, '#logo-events > h2').click()"
   ]
  },
  {
   "cell_type": "code",
   "execution_count": null,
   "id": "21716280",
   "metadata": {},
   "outputs": [],
   "source": [
    "driver.close()"
   ]
  },
  {
   "cell_type": "code",
   "execution_count": null,
   "id": "34baa0e7",
   "metadata": {},
   "outputs": [],
   "source": [
    "#browser quit\n",
    "driver.quit()"
   ]
  },
  {
   "cell_type": "code",
   "execution_count": null,
   "id": "e12e4f87",
   "metadata": {},
   "outputs": [],
   "source": []
  }
 ],
 "metadata": {
  "kernelspec": {
   "display_name": "Python 3",
   "language": "python",
   "name": "python3"
  },
  "language_info": {
   "codemirror_mode": {
    "name": "ipython",
    "version": 3
   },
   "file_extension": ".py",
   "mimetype": "text/x-python",
   "name": "python",
   "nbconvert_exporter": "python",
   "pygments_lexer": "ipython3",
   "version": "3.9.1"
  }
 },
 "nbformat": 4,
 "nbformat_minor": 5
}
