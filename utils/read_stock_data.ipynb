{
 "cells": [
  {
   "cell_type": "markdown",
   "id": "cec4c32b",
   "metadata": {},
   "source": [
    "!pip install pandas_datareader\n",
    "!pip install yfinance"
   ]
  },
  {
   "cell_type": "code",
   "execution_count": null,
   "id": "f605b283",
   "metadata": {},
   "outputs": [],
   "source": [
    "!pip uninstall yfinance\n",
    "!pip uninstall pandas-datareader\n",
    "!pip install yfinance --upgrade --no-cache-dir\n",
    "!pip install pandas-datareader"
   ]
  },
  {
   "cell_type": "code",
   "execution_count": null,
   "id": "b0eae126",
   "metadata": {},
   "outputs": [],
   "source": [
    "from datetime import datetime\n",
    "import pandas_datareader.data as web\n",
    "import os"
   ]
  },
  {
   "cell_type": "code",
   "execution_count": null,
   "id": "29ac4951",
   "metadata": {},
   "outputs": [],
   "source": [
    "\n",
    "\n",
    "spy = pdr.get_data_yahoo('SPY',start='2022-10-23',end='2022-12-24') "
   ]
  },
  {
   "cell_type": "code",
   "execution_count": null,
   "id": "37213a7f",
   "metadata": {},
   "outputs": [],
   "source": [
    "import pandas as pd\n",
    "import datetime as dt"
   ]
  },
  {
   "cell_type": "code",
   "execution_count": 4,
   "id": "b5ab6c63",
   "metadata": {},
   "outputs": [],
   "source": [
    "from pandas_datareader import data as pdr\n",
    "from datetime import datetime\n",
    "import yfinance as yf\n",
    "yf.pdr_override()"
   ]
  },
  {
   "cell_type": "code",
   "execution_count": 15,
   "id": "ebc51a5e",
   "metadata": {},
   "outputs": [
    {
     "name": "stdout",
     "output_type": "stream",
     "text": [
      "[*********************100%***********************]  1 of 1 completed\n"
     ]
    }
   ],
   "source": [
    "from pandas_datareader import data as pdr\n",
    "from datetime import datetime\n",
    "import yfinance as yf\n",
    "yf.pdr_override()\n",
    "y_symbols = ['SCHAND.NS', 'TATAPOWER.NS', 'ITC.NS']\n",
    "y_symbols = ['^GSPE']\n",
    "startdate = datetime(2022,1,1)\n",
    "enddate = datetime(2023,3,23)\n",
    "data = pdr.get_data_yahoo(y_symbols, start=startdate, end=enddate)"
   ]
  },
  {
   "cell_type": "code",
   "execution_count": 16,
   "id": "386d9dfb",
   "metadata": {},
   "outputs": [
    {
     "data": {
      "text/html": [
       "<div>\n",
       "<style scoped>\n",
       "    .dataframe tbody tr th:only-of-type {\n",
       "        vertical-align: middle;\n",
       "    }\n",
       "\n",
       "    .dataframe tbody tr th {\n",
       "        vertical-align: top;\n",
       "    }\n",
       "\n",
       "    .dataframe thead th {\n",
       "        text-align: right;\n",
       "    }\n",
       "</style>\n",
       "<table border=\"1\" class=\"dataframe\">\n",
       "  <thead>\n",
       "    <tr style=\"text-align: right;\">\n",
       "      <th></th>\n",
       "      <th>Open</th>\n",
       "      <th>High</th>\n",
       "      <th>Low</th>\n",
       "      <th>Close</th>\n",
       "      <th>Adj Close</th>\n",
       "      <th>Volume</th>\n",
       "    </tr>\n",
       "    <tr>\n",
       "      <th>Date</th>\n",
       "      <th></th>\n",
       "      <th></th>\n",
       "      <th></th>\n",
       "      <th></th>\n",
       "      <th></th>\n",
       "      <th></th>\n",
       "    </tr>\n",
       "  </thead>\n",
       "  <tbody>\n",
       "    <tr>\n",
       "      <th>2022-01-03</th>\n",
       "      <td>422.739990</td>\n",
       "      <td>436.320007</td>\n",
       "      <td>422.739990</td>\n",
       "      <td>435.829987</td>\n",
       "      <td>435.829987</td>\n",
       "      <td>180887400</td>\n",
       "    </tr>\n",
       "    <tr>\n",
       "      <th>2022-01-04</th>\n",
       "      <td>435.829987</td>\n",
       "      <td>452.540009</td>\n",
       "      <td>435.829987</td>\n",
       "      <td>450.899994</td>\n",
       "      <td>450.899994</td>\n",
       "      <td>255425500</td>\n",
       "    </tr>\n",
       "    <tr>\n",
       "      <th>2022-01-05</th>\n",
       "      <td>450.899994</td>\n",
       "      <td>460.109985</td>\n",
       "      <td>450.070007</td>\n",
       "      <td>450.570007</td>\n",
       "      <td>450.570007</td>\n",
       "      <td>231818400</td>\n",
       "    </tr>\n",
       "    <tr>\n",
       "      <th>2022-01-06</th>\n",
       "      <td>450.570007</td>\n",
       "      <td>463.269989</td>\n",
       "      <td>450.570007</td>\n",
       "      <td>460.890015</td>\n",
       "      <td>460.890015</td>\n",
       "      <td>201806300</td>\n",
       "    </tr>\n",
       "    <tr>\n",
       "      <th>2022-01-07</th>\n",
       "      <td>460.890015</td>\n",
       "      <td>468.769989</td>\n",
       "      <td>459.709991</td>\n",
       "      <td>467.579987</td>\n",
       "      <td>467.579987</td>\n",
       "      <td>197983400</td>\n",
       "    </tr>\n",
       "    <tr>\n",
       "      <th>...</th>\n",
       "      <td>...</td>\n",
       "      <td>...</td>\n",
       "      <td>...</td>\n",
       "      <td>...</td>\n",
       "      <td>...</td>\n",
       "      <td>...</td>\n",
       "    </tr>\n",
       "    <tr>\n",
       "      <th>2023-03-16</th>\n",
       "      <td>588.200012</td>\n",
       "      <td>595.349976</td>\n",
       "      <td>572.549988</td>\n",
       "      <td>593.719971</td>\n",
       "      <td>593.719971</td>\n",
       "      <td>250687000</td>\n",
       "    </tr>\n",
       "    <tr>\n",
       "      <th>2023-03-17</th>\n",
       "      <td>593.719971</td>\n",
       "      <td>595.400024</td>\n",
       "      <td>579.940002</td>\n",
       "      <td>584.640015</td>\n",
       "      <td>584.640015</td>\n",
       "      <td>394949700</td>\n",
       "    </tr>\n",
       "    <tr>\n",
       "      <th>2023-03-20</th>\n",
       "      <td>584.640015</td>\n",
       "      <td>599.760010</td>\n",
       "      <td>584.530029</td>\n",
       "      <td>596.979980</td>\n",
       "      <td>596.979980</td>\n",
       "      <td>184689400</td>\n",
       "    </tr>\n",
       "    <tr>\n",
       "      <th>2023-03-21</th>\n",
       "      <td>596.979980</td>\n",
       "      <td>619.500000</td>\n",
       "      <td>596.979980</td>\n",
       "      <td>617.599976</td>\n",
       "      <td>617.599976</td>\n",
       "      <td>199715100</td>\n",
       "    </tr>\n",
       "    <tr>\n",
       "      <th>2023-03-22</th>\n",
       "      <td>617.599976</td>\n",
       "      <td>620.840027</td>\n",
       "      <td>604.340027</td>\n",
       "      <td>604.559998</td>\n",
       "      <td>604.559998</td>\n",
       "      <td>153120600</td>\n",
       "    </tr>\n",
       "  </tbody>\n",
       "</table>\n",
       "<p>306 rows × 6 columns</p>\n",
       "</div>"
      ],
      "text/plain": [
       "                  Open        High         Low       Close   Adj Close  \\\n",
       "Date                                                                     \n",
       "2022-01-03  422.739990  436.320007  422.739990  435.829987  435.829987   \n",
       "2022-01-04  435.829987  452.540009  435.829987  450.899994  450.899994   \n",
       "2022-01-05  450.899994  460.109985  450.070007  450.570007  450.570007   \n",
       "2022-01-06  450.570007  463.269989  450.570007  460.890015  460.890015   \n",
       "2022-01-07  460.890015  468.769989  459.709991  467.579987  467.579987   \n",
       "...                ...         ...         ...         ...         ...   \n",
       "2023-03-16  588.200012  595.349976  572.549988  593.719971  593.719971   \n",
       "2023-03-17  593.719971  595.400024  579.940002  584.640015  584.640015   \n",
       "2023-03-20  584.640015  599.760010  584.530029  596.979980  596.979980   \n",
       "2023-03-21  596.979980  619.500000  596.979980  617.599976  617.599976   \n",
       "2023-03-22  617.599976  620.840027  604.340027  604.559998  604.559998   \n",
       "\n",
       "               Volume  \n",
       "Date                   \n",
       "2022-01-03  180887400  \n",
       "2022-01-04  255425500  \n",
       "2022-01-05  231818400  \n",
       "2022-01-06  201806300  \n",
       "2022-01-07  197983400  \n",
       "...               ...  \n",
       "2023-03-16  250687000  \n",
       "2023-03-17  394949700  \n",
       "2023-03-20  184689400  \n",
       "2023-03-21  199715100  \n",
       "2023-03-22  153120600  \n",
       "\n",
       "[306 rows x 6 columns]"
      ]
     },
     "execution_count": 16,
     "metadata": {},
     "output_type": "execute_result"
    }
   ],
   "source": [
    "data"
   ]
  },
  {
   "cell_type": "code",
   "execution_count": null,
   "id": "616d40c3",
   "metadata": {},
   "outputs": [],
   "source": [
    "# from pandas_datareader import data as pdr\n",
    "import pandas_datareader as pdr\n",
    "from datetime import datetime\n",
    "import yfinance as yf\n",
    "yf.pdr_override()"
   ]
  },
  {
   "cell_type": "code",
   "execution_count": null,
   "id": "c3091a9f",
   "metadata": {},
   "outputs": [],
   "source": [
    "y_symbols = ['AAPL']"
   ]
  },
  {
   "cell_type": "code",
   "execution_count": null,
   "id": "57363bba",
   "metadata": {},
   "outputs": [],
   "source": [
    "startdate = datetime(2022,1,1)\n",
    "enddate = datetime(2023,3,5)"
   ]
  },
  {
   "cell_type": "code",
   "execution_count": null,
   "id": "f6219289",
   "metadata": {},
   "outputs": [],
   "source": [
    "type(startdate)"
   ]
  },
  {
   "cell_type": "code",
   "execution_count": null,
   "id": "82635633",
   "metadata": {},
   "outputs": [],
   "source": [
    "# import pandas_datareader.data as data\n",
    "\n",
    "# data = data.DataReader('AAPL', 'yahoo', startdate, enddate)"
   ]
  },
  {
   "cell_type": "code",
   "execution_count": null,
   "id": "7e671b86",
   "metadata": {},
   "outputs": [],
   "source": [
    "data = pdr.get_data_yahoo('AAPL', startdate, enddate)"
   ]
  },
  {
   "cell_type": "code",
   "execution_count": null,
   "id": "35dde2f8",
   "metadata": {},
   "outputs": [],
   "source": []
  }
 ],
 "metadata": {
  "kernelspec": {
   "display_name": "Python 3 (ipykernel)",
   "language": "python",
   "name": "python3"
  },
  "language_info": {
   "codemirror_mode": {
    "name": "ipython",
    "version": 3
   },
   "file_extension": ".py",
   "mimetype": "text/x-python",
   "name": "python",
   "nbconvert_exporter": "python",
   "pygments_lexer": "ipython3",
   "version": "3.9.1"
  }
 },
 "nbformat": 4,
 "nbformat_minor": 5
}
