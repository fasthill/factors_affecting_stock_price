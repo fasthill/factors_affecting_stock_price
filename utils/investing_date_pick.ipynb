{
 "cells": [
  {
   "cell_type": "code",
   "execution_count": 1,
   "id": "018c95c2",
   "metadata": {},
   "outputs": [],
   "source": [
    "import pandas as pd\n",
    "import numpy as np"
   ]
  },
  {
   "cell_type": "code",
   "execution_count": 2,
   "id": "b6071c61",
   "metadata": {},
   "outputs": [],
   "source": [
    "from selenium import webdriver as wd\n",
    "from selenium.webdriver.common.keys import Keys\n",
    "from selenium.webdriver.common.by import By\n",
    "from selenium.webdriver.chrome.service import Service\n",
    "from selenium.webdriver.support.ui import WebDriverWait\n",
    "from selenium.webdriver.support import expected_conditions as EC\n",
    "from webdriver_manager.chrome import ChromeDriverManager"
   ]
  },
  {
   "cell_type": "code",
   "execution_count": 3,
   "id": "e15db437",
   "metadata": {},
   "outputs": [],
   "source": [
    "from bs4 import BeautifulSoup as bs\n",
    "import requests"
   ]
  },
  {
   "cell_type": "code",
   "execution_count": 4,
   "id": "58258e9b",
   "metadata": {},
   "outputs": [],
   "source": [
    "import datetime\n",
    "import time\n",
    "from datetime import date"
   ]
  },
  {
   "cell_type": "code",
   "execution_count": 5,
   "id": "social-sunrise",
   "metadata": {},
   "outputs": [],
   "source": [
    "import os, sys"
   ]
  },
  {
   "cell_type": "code",
   "execution_count": 6,
   "id": "983181b0",
   "metadata": {},
   "outputs": [],
   "source": [
    "# !pip install chromedriver_autoinstaller\n",
    "\n",
    "import chromedriver_autoinstaller\n",
    "\n",
    "driver_name = chromedriver_autoinstaller.install()  # Check if the current version of chromedriver exists\n",
    "                                      # and if it doesn't exist, download it automatically,\n",
    "                                      # then add chromedriver to path\n",
    "time.sleep(1)"
   ]
  },
  {
   "cell_type": "code",
   "execution_count": 7,
   "id": "compressed-cornell",
   "metadata": {},
   "outputs": [
    {
     "name": "stderr",
     "output_type": "stream",
     "text": [
      "[WDM] - Downloading:  95%|█████████▍| 5.96M/6.30M [00:00<00:00, 11.9MB/s]"
     ]
    }
   ],
   "source": [
    "driver = wd.Chrome(service=Service(ChromeDriverManager().install()))"
   ]
  },
  {
   "cell_type": "code",
   "execution_count": 8,
   "id": "81b89094",
   "metadata": {},
   "outputs": [],
   "source": [
    "def pick_date_in_calendar(start_date, end_date):\n",
    "    driver.find_element(By.CLASS_NAME, 'DatePickerWrapper_icon__Qw9f8').click()\n",
    "\n",
    "    start = driver.find_elements(By.CLASS_NAME, 'NativeDateInput_root__wbgyP')[0]\n",
    "    end = driver.find_elements(By.CLASS_NAME, 'NativeDateInput_root__wbgyP')[1]\n",
    "\n",
    "    start_element = start.find_element(By.CSS_SELECTOR, 'input[type=date]')\n",
    "    end_element = end.find_element(By.CSS_SELECTOR, 'input[type=date]')\n",
    "\n",
    "    start_element.clear()\n",
    "    start_element.send_keys(start_date)\n",
    "    start_element.click()\n",
    "\n",
    "    end_element.clear()\n",
    "    end_element.send_keys(end_date)\n",
    "    end_element.click()\n",
    "\n",
    "    driver.find_element(By.CLASS_NAME, 'inv-button.HistoryDatePicker_apply-button__fPr_G').click()"
   ]
  },
  {
   "cell_type": "code",
   "execution_count": 9,
   "id": "212a6b1a",
   "metadata": {},
   "outputs": [
    {
     "name": "stderr",
     "output_type": "stream",
     "text": [
      "\r",
      "[WDM] - Downloading: 100%|██████████| 6.30M/6.30M [00:20<00:00, 11.9MB/s]"
     ]
    }
   ],
   "source": [
    "main_url = 'https://www.investing.com/indices/us-30-historical-data'\n",
    "driver.get(main_url)\n",
    "time.sleep(1)"
   ]
  },
  {
   "cell_type": "code",
   "execution_count": 12,
   "id": "9b20a1f7",
   "metadata": {},
   "outputs": [],
   "source": [
    "today = datetime.date.today()\n",
    "today_str = today.strftime('%Y-%m-%d')"
   ]
  },
  {
   "cell_type": "code",
   "execution_count": 13,
   "id": "a4dc5ed1",
   "metadata": {},
   "outputs": [
    {
     "data": {
      "text/plain": [
       "'2023-06-14'"
      ]
     },
     "execution_count": 13,
     "metadata": {},
     "output_type": "execute_result"
    }
   ],
   "source": [
    "today_str"
   ]
  },
  {
   "cell_type": "code",
   "execution_count": 15,
   "id": "2c0378d9",
   "metadata": {},
   "outputs": [],
   "source": [
    "pick_date_in_calendar(start_date, today_str)"
   ]
  },
  {
   "cell_type": "code",
   "execution_count": 14,
   "id": "02f34dda",
   "metadata": {},
   "outputs": [],
   "source": [
    "start_date = '2021-12-20'"
   ]
  },
  {
   "cell_type": "code",
   "execution_count": 16,
   "id": "5349075d",
   "metadata": {},
   "outputs": [],
   "source": [
    "table_class = 'datatable_table__D_jso datatable_table--border__B_zW0 datatable_table--mobile-basic__W2ilt datatable_table--freeze-column__7YoIE'\n",
    "df = pd.read_html(driver.page_source, attrs={\"class\": table_class}, flavor=[\"lxml\", \"bs4\"])[0]"
   ]
  },
  {
   "cell_type": "code",
   "execution_count": 18,
   "id": "341b8d32",
   "metadata": {},
   "outputs": [
    {
     "data": {
      "text/html": [
       "<div>\n",
       "<style scoped>\n",
       "    .dataframe tbody tr th:only-of-type {\n",
       "        vertical-align: middle;\n",
       "    }\n",
       "\n",
       "    .dataframe tbody tr th {\n",
       "        vertical-align: top;\n",
       "    }\n",
       "\n",
       "    .dataframe thead th {\n",
       "        text-align: right;\n",
       "    }\n",
       "</style>\n",
       "<table border=\"1\" class=\"dataframe\">\n",
       "  <thead>\n",
       "    <tr style=\"text-align: right;\">\n",
       "      <th></th>\n",
       "      <th>Date</th>\n",
       "      <th>Price</th>\n",
       "      <th>Open</th>\n",
       "      <th>High</th>\n",
       "      <th>Low</th>\n",
       "      <th>Vol.</th>\n",
       "      <th>Change %</th>\n",
       "    </tr>\n",
       "  </thead>\n",
       "  <tbody>\n",
       "    <tr>\n",
       "      <th>367</th>\n",
       "      <td>12/27/2021</td>\n",
       "      <td>36302.38</td>\n",
       "      <td>35954.48</td>\n",
       "      <td>36306.61</td>\n",
       "      <td>35954.48</td>\n",
       "      <td>250.26M</td>\n",
       "      <td>+0.98%</td>\n",
       "    </tr>\n",
       "    <tr>\n",
       "      <th>368</th>\n",
       "      <td>12/23/2021</td>\n",
       "      <td>35950.56</td>\n",
       "      <td>35782.42</td>\n",
       "      <td>36060.99</td>\n",
       "      <td>35782.42</td>\n",
       "      <td>250.94M</td>\n",
       "      <td>+0.55%</td>\n",
       "    </tr>\n",
       "    <tr>\n",
       "      <th>369</th>\n",
       "      <td>12/22/2021</td>\n",
       "      <td>35753.89</td>\n",
       "      <td>35491.71</td>\n",
       "      <td>35764.67</td>\n",
       "      <td>35433.13</td>\n",
       "      <td>290.73M</td>\n",
       "      <td>+0.74%</td>\n",
       "    </tr>\n",
       "    <tr>\n",
       "      <th>370</th>\n",
       "      <td>12/21/2021</td>\n",
       "      <td>35492.70</td>\n",
       "      <td>35069.50</td>\n",
       "      <td>35508.96</td>\n",
       "      <td>35069.50</td>\n",
       "      <td>349.67M</td>\n",
       "      <td>+1.60%</td>\n",
       "    </tr>\n",
       "    <tr>\n",
       "      <th>371</th>\n",
       "      <td>12/20/2021</td>\n",
       "      <td>34932.16</td>\n",
       "      <td>35222.12</td>\n",
       "      <td>35222.12</td>\n",
       "      <td>34665.50</td>\n",
       "      <td>388.89M</td>\n",
       "      <td>-1.23%</td>\n",
       "    </tr>\n",
       "  </tbody>\n",
       "</table>\n",
       "</div>"
      ],
      "text/plain": [
       "           Date     Price      Open      High       Low     Vol. Change %\n",
       "367  12/27/2021  36302.38  35954.48  36306.61  35954.48  250.26M   +0.98%\n",
       "368  12/23/2021  35950.56  35782.42  36060.99  35782.42  250.94M   +0.55%\n",
       "369  12/22/2021  35753.89  35491.71  35764.67  35433.13  290.73M   +0.74%\n",
       "370  12/21/2021  35492.70  35069.50  35508.96  35069.50  349.67M   +1.60%\n",
       "371  12/20/2021  34932.16  35222.12  35222.12  34665.50  388.89M   -1.23%"
      ]
     },
     "execution_count": 18,
     "metadata": {},
     "output_type": "execute_result"
    }
   ],
   "source": [
    "df.tail()"
   ]
  },
  {
   "cell_type": "code",
   "execution_count": 33,
   "id": "dbd903c1",
   "metadata": {},
   "outputs": [],
   "source": [
    "rename_dict = {'Date': 'date', 'Price': 'us-30', 'Open':'open', 'High': 'high', 'Low':'low', 'Vol.':'vol', 'Change %':'cr'}"
   ]
  },
  {
   "cell_type": "code",
   "execution_count": 19,
   "id": "d69b0bfc",
   "metadata": {},
   "outputs": [],
   "source": [
    "df['Date'] = df['Date'].apply(lambda x : datetime.datetime.strptime(x, \"%m/%d/%Y\"))\n",
    "df = df.sort_values(by='Date').reset_index(drop=True) # ascending order and renumbering index starting 0."
   ]
  },
  {
   "cell_type": "code",
   "execution_count": 32,
   "id": "83315442",
   "metadata": {},
   "outputs": [
    {
     "data": {
      "text/html": [
       "<div>\n",
       "<style scoped>\n",
       "    .dataframe tbody tr th:only-of-type {\n",
       "        vertical-align: middle;\n",
       "    }\n",
       "\n",
       "    .dataframe tbody tr th {\n",
       "        vertical-align: top;\n",
       "    }\n",
       "\n",
       "    .dataframe thead th {\n",
       "        text-align: right;\n",
       "    }\n",
       "</style>\n",
       "<table border=\"1\" class=\"dataframe\">\n",
       "  <thead>\n",
       "    <tr style=\"text-align: right;\">\n",
       "      <th></th>\n",
       "      <th>Date</th>\n",
       "      <th>Price</th>\n",
       "      <th>Open</th>\n",
       "      <th>High</th>\n",
       "      <th>Low</th>\n",
       "      <th>Vol.</th>\n",
       "      <th>Change %</th>\n",
       "    </tr>\n",
       "  </thead>\n",
       "  <tbody>\n",
       "    <tr>\n",
       "      <th>0</th>\n",
       "      <td>2021-12-20</td>\n",
       "      <td>34932.16</td>\n",
       "      <td>35222.12</td>\n",
       "      <td>35222.12</td>\n",
       "      <td>34665.50</td>\n",
       "      <td>388.89M</td>\n",
       "      <td>-1.23%</td>\n",
       "    </tr>\n",
       "    <tr>\n",
       "      <th>1</th>\n",
       "      <td>2021-12-21</td>\n",
       "      <td>35492.70</td>\n",
       "      <td>35069.50</td>\n",
       "      <td>35508.96</td>\n",
       "      <td>35069.50</td>\n",
       "      <td>349.67M</td>\n",
       "      <td>+1.60%</td>\n",
       "    </tr>\n",
       "    <tr>\n",
       "      <th>2</th>\n",
       "      <td>2021-12-22</td>\n",
       "      <td>35753.89</td>\n",
       "      <td>35491.71</td>\n",
       "      <td>35764.67</td>\n",
       "      <td>35433.13</td>\n",
       "      <td>290.73M</td>\n",
       "      <td>+0.74%</td>\n",
       "    </tr>\n",
       "    <tr>\n",
       "      <th>3</th>\n",
       "      <td>2021-12-23</td>\n",
       "      <td>35950.56</td>\n",
       "      <td>35782.42</td>\n",
       "      <td>36060.99</td>\n",
       "      <td>35782.42</td>\n",
       "      <td>250.94M</td>\n",
       "      <td>+0.55%</td>\n",
       "    </tr>\n",
       "    <tr>\n",
       "      <th>4</th>\n",
       "      <td>2021-12-27</td>\n",
       "      <td>36302.38</td>\n",
       "      <td>35954.48</td>\n",
       "      <td>36306.61</td>\n",
       "      <td>35954.48</td>\n",
       "      <td>250.26M</td>\n",
       "      <td>+0.98%</td>\n",
       "    </tr>\n",
       "  </tbody>\n",
       "</table>\n",
       "</div>"
      ],
      "text/plain": [
       "        Date     Price      Open      High       Low     Vol. Change %\n",
       "0 2021-12-20  34932.16  35222.12  35222.12  34665.50  388.89M   -1.23%\n",
       "1 2021-12-21  35492.70  35069.50  35508.96  35069.50  349.67M   +1.60%\n",
       "2 2021-12-22  35753.89  35491.71  35764.67  35433.13  290.73M   +0.74%\n",
       "3 2021-12-23  35950.56  35782.42  36060.99  35782.42  250.94M   +0.55%\n",
       "4 2021-12-27  36302.38  35954.48  36306.61  35954.48  250.26M   +0.98%"
      ]
     },
     "execution_count": 32,
     "metadata": {},
     "output_type": "execute_result"
    }
   ],
   "source": [
    "df.head()"
   ]
  },
  {
   "cell_type": "code",
   "execution_count": 36,
   "id": "346a2cba",
   "metadata": {},
   "outputs": [],
   "source": [
    "df['Vol.'] = df['Vol.'].str[:-1].astype('float')"
   ]
  },
  {
   "cell_type": "code",
   "execution_count": 38,
   "id": "fcecf491",
   "metadata": {},
   "outputs": [],
   "source": [
    "df['Change %'] = df['Change %'].str[:-1].astype('float')"
   ]
  },
  {
   "cell_type": "code",
   "execution_count": 39,
   "id": "f99255a2",
   "metadata": {},
   "outputs": [
    {
     "data": {
      "text/html": [
       "<div>\n",
       "<style scoped>\n",
       "    .dataframe tbody tr th:only-of-type {\n",
       "        vertical-align: middle;\n",
       "    }\n",
       "\n",
       "    .dataframe tbody tr th {\n",
       "        vertical-align: top;\n",
       "    }\n",
       "\n",
       "    .dataframe thead th {\n",
       "        text-align: right;\n",
       "    }\n",
       "</style>\n",
       "<table border=\"1\" class=\"dataframe\">\n",
       "  <thead>\n",
       "    <tr style=\"text-align: right;\">\n",
       "      <th></th>\n",
       "      <th>Date</th>\n",
       "      <th>Price</th>\n",
       "      <th>Open</th>\n",
       "      <th>High</th>\n",
       "      <th>Low</th>\n",
       "      <th>Vol.</th>\n",
       "      <th>Change %</th>\n",
       "    </tr>\n",
       "  </thead>\n",
       "  <tbody>\n",
       "    <tr>\n",
       "      <th>0</th>\n",
       "      <td>2021-12-20</td>\n",
       "      <td>34932.16</td>\n",
       "      <td>35222.12</td>\n",
       "      <td>35222.12</td>\n",
       "      <td>34665.50</td>\n",
       "      <td>388.89</td>\n",
       "      <td>-1.23</td>\n",
       "    </tr>\n",
       "    <tr>\n",
       "      <th>1</th>\n",
       "      <td>2021-12-21</td>\n",
       "      <td>35492.70</td>\n",
       "      <td>35069.50</td>\n",
       "      <td>35508.96</td>\n",
       "      <td>35069.50</td>\n",
       "      <td>349.67</td>\n",
       "      <td>1.60</td>\n",
       "    </tr>\n",
       "    <tr>\n",
       "      <th>2</th>\n",
       "      <td>2021-12-22</td>\n",
       "      <td>35753.89</td>\n",
       "      <td>35491.71</td>\n",
       "      <td>35764.67</td>\n",
       "      <td>35433.13</td>\n",
       "      <td>290.73</td>\n",
       "      <td>0.74</td>\n",
       "    </tr>\n",
       "    <tr>\n",
       "      <th>3</th>\n",
       "      <td>2021-12-23</td>\n",
       "      <td>35950.56</td>\n",
       "      <td>35782.42</td>\n",
       "      <td>36060.99</td>\n",
       "      <td>35782.42</td>\n",
       "      <td>250.94</td>\n",
       "      <td>0.55</td>\n",
       "    </tr>\n",
       "    <tr>\n",
       "      <th>4</th>\n",
       "      <td>2021-12-27</td>\n",
       "      <td>36302.38</td>\n",
       "      <td>35954.48</td>\n",
       "      <td>36306.61</td>\n",
       "      <td>35954.48</td>\n",
       "      <td>250.26</td>\n",
       "      <td>0.98</td>\n",
       "    </tr>\n",
       "  </tbody>\n",
       "</table>\n",
       "</div>"
      ],
      "text/plain": [
       "        Date     Price      Open      High       Low    Vol.  Change %\n",
       "0 2021-12-20  34932.16  35222.12  35222.12  34665.50  388.89     -1.23\n",
       "1 2021-12-21  35492.70  35069.50  35508.96  35069.50  349.67      1.60\n",
       "2 2021-12-22  35753.89  35491.71  35764.67  35433.13  290.73      0.74\n",
       "3 2021-12-23  35950.56  35782.42  36060.99  35782.42  250.94      0.55\n",
       "4 2021-12-27  36302.38  35954.48  36306.61  35954.48  250.26      0.98"
      ]
     },
     "execution_count": 39,
     "metadata": {},
     "output_type": "execute_result"
    }
   ],
   "source": [
    "df.head()"
   ]
  },
  {
   "cell_type": "code",
   "execution_count": 40,
   "id": "5c187595",
   "metadata": {},
   "outputs": [],
   "source": [
    "driver.close()\n",
    "driver.quit()"
   ]
  },
  {
   "cell_type": "code",
   "execution_count": null,
   "id": "47796a47",
   "metadata": {},
   "outputs": [],
   "source": []
  }
 ],
 "metadata": {
  "kernelspec": {
   "display_name": "Python 3 (ipykernel)",
   "language": "python",
   "name": "python3"
  },
  "language_info": {
   "codemirror_mode": {
    "name": "ipython",
    "version": 3
   },
   "file_extension": ".py",
   "mimetype": "text/x-python",
   "name": "python",
   "nbconvert_exporter": "python",
   "pygments_lexer": "ipython3",
   "version": "3.9.1"
  }
 },
 "nbformat": 4,
 "nbformat_minor": 5
}
