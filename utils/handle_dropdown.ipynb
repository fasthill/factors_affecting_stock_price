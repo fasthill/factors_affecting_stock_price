{
 "cells": [
  {
   "cell_type": "code",
   "execution_count": 1,
   "id": "b6071c61",
   "metadata": {},
   "outputs": [],
   "source": [
    "from selenium import webdriver as wd\n",
    "from selenium.webdriver import ActionChains # scroll down 사용하기 위하여 선서\n",
    "from selenium.webdriver.common.keys import Keys\n",
    "from selenium.webdriver.common.by import By\n",
    "from bs4 import BeautifulSoup as bs\n",
    "\n",
    "import datetime, time\n",
    "from datetime import date\n",
    "\n",
    "import pandas as pd\n",
    "import numpy as np\n",
    "import requests\n",
    "import time\n",
    "import os, sys"
   ]
  },
  {
   "cell_type": "code",
   "execution_count": 2,
   "id": "social-sunrise",
   "metadata": {},
   "outputs": [],
   "source": [
    "from selenium.webdriver.common.by import By\n",
    "from selenium.webdriver.support.ui import WebDriverWait\n",
    "from selenium.webdriver.support import expected_conditions as EC"
   ]
  },
  {
   "cell_type": "code",
   "execution_count": 3,
   "id": "983181b0",
   "metadata": {},
   "outputs": [],
   "source": [
    "# !pip install chromedriver_autoinstaller\n",
    "\n",
    "import chromedriver_autoinstaller\n",
    "\n",
    "driver_name = chromedriver_autoinstaller.install()  # Check if the current version of chromedriver exists\n",
    "                                      # and if it doesn't exist, download it automatically,\n",
    "                                      # then add chromedriver to path\n",
    "time.sleep(1)"
   ]
  },
  {
   "cell_type": "code",
   "execution_count": 4,
   "id": "compressed-cornell",
   "metadata": {},
   "outputs": [
    {
     "name": "stderr",
     "output_type": "stream",
     "text": [
      "C:\\Users\\kange\\AppData\\Local\\Temp\\ipykernel_9500\\3316105653.py:1: DeprecationWarning: executable_path has been deprecated, please pass in a Service object\n",
      "  driver = wd.Chrome(driver_name)\n"
     ]
    }
   ],
   "source": [
    "driver = wd.Chrome(driver_name)"
   ]
  },
  {
   "cell_type": "code",
   "execution_count": 5,
   "id": "edfda689",
   "metadata": {},
   "outputs": [],
   "source": [
    "main_url = 'https://www.investing.com/indices/us-spx-500-historical-data'\n",
    "driver.get(main_url)\n",
    "time.sleep(1)"
   ]
  },
  {
   "cell_type": "code",
   "execution_count": 6,
   "id": "cc5f4a01",
   "metadata": {},
   "outputs": [],
   "source": [
    "selector_calendar = '#__next div.DatePickerWrapper_icon-wrap__cwTu_ > div.DatePickerWrapper_icon__Qw9f8'"
   ]
  },
  {
   "cell_type": "code",
   "execution_count": 7,
   "id": "f49defe2",
   "metadata": {},
   "outputs": [],
   "source": [
    "driver.find_element(By.CSS_SELECTOR, selector_calendar).click()"
   ]
  },
  {
   "cell_type": "code",
   "execution_count": 8,
   "id": "ec96fff3",
   "metadata": {},
   "outputs": [],
   "source": [
    "selector_sd = '#__next div.HistoryDatePicker_HistoryDatePicker__sjrlU  div.NativeDateInput_root__wbgyP'"
   ]
  },
  {
   "cell_type": "code",
   "execution_count": 9,
   "id": "b7a027c5",
   "metadata": {},
   "outputs": [],
   "source": [
    "element = driver.find_element(By.CSS_SELECTOR, selector_sd)"
   ]
  },
  {
   "cell_type": "code",
   "execution_count": null,
   "id": "96a92eac",
   "metadata": {},
   "outputs": [],
   "source": [
    "#firstChild : text 항목중에 첫번째 항. 두번째 항 <input... 은 제외\n",
    "driver.execute_script(\"arguments[0].firstChild.textContent = '11/20/2022'\", element)"
   ]
  },
  {
   "cell_type": "code",
   "execution_count": null,
   "id": "a8efbbce",
   "metadata": {},
   "outputs": [],
   "source": [
    "selector1 = '#__next div.historical-data_history-date-picker-wrapper__dDOuq > div.HistoryDatePicker_HistoryDatePicker__sjrlU  input[type=date]'"
   ]
  },
  {
   "cell_type": "code",
   "execution_count": null,
   "id": "dce08bd3",
   "metadata": {},
   "outputs": [],
   "source": [
    "element1 = driver.find_element(By.CSS_SELECTOR, selector1)"
   ]
  },
  {
   "cell_type": "code",
   "execution_count": null,
   "id": "5de61cc8",
   "metadata": {},
   "outputs": [],
   "source": [
    "element1.tag_name"
   ]
  },
  {
   "cell_type": "code",
   "execution_count": null,
   "id": "88e1e5e5",
   "metadata": {},
   "outputs": [],
   "source": [
    "\n",
    "try:\n",
    "    element = WebDriverWait(driver, 5).until(\n",
    "        EC.presence_of_element_located((By.XPATH, '//div[@id=\"learn-items\"]//a[@href=\"/guides\"]'))\n",
    "    )\n",
    "\n",
    "    log.debug(element)\n",
    "except Exception as e:\n",
    "    log.error('Selenium Test Error.')\n",
    "finally:\n",
    "    driver.quit()"
   ]
  }
 ],
 "metadata": {
  "kernelspec": {
   "display_name": "Python 3 (ipykernel)",
   "language": "python",
   "name": "python3"
  },
  "language_info": {
   "codemirror_mode": {
    "name": "ipython",
    "version": 3
   },
   "file_extension": ".py",
   "mimetype": "text/x-python",
   "name": "python",
   "nbconvert_exporter": "python",
   "pygments_lexer": "ipython3",
   "version": "3.9.1"
  }
 },
 "nbformat": 4,
 "nbformat_minor": 5
}
