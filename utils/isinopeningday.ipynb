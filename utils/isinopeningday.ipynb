{
 "cells": [
  {
   "cell_type": "code",
   "execution_count": 1,
   "id": "b6071c61",
   "metadata": {},
   "outputs": [],
   "source": [
    "import datetime\n",
    "import time\n",
    "from datetime import date\n",
    "\n",
    "import pandas as pd\n",
    "import numpy as np\n",
    "\n",
    "import os, sys"
   ]
  },
  {
   "cell_type": "code",
   "execution_count": 7,
   "id": "43674fed",
   "metadata": {},
   "outputs": [],
   "source": [
    "base_data_directory = '../data/base_data/stock_market_holydays/'\n",
    "opening_days_kor = pd.read_pickle(base_data_directory+'opening_days_kor.pkl') # 한국 개장일 데이터 \n",
    "def is_opening_day(date): # 개장일 확인\n",
    "    date = datetime.datetime.strptime(date, \"%Y%m%d\").date()\n",
    "    if date in list(opening_days_kor):\n",
    "        return True\n",
    "    else:\n",
    "        return False"
   ]
  },
  {
   "cell_type": "code",
   "execution_count": 3,
   "id": "3c194f56",
   "metadata": {},
   "outputs": [],
   "source": [
    "base_data_directory = '../data/base_data/stock_market_holydays/'\n",
    "opening_days_kor = pd.read_pickle(base_data_directory+'opening_days_kor.pkl') # 한국 개장일 데이터 \n",
    "\n",
    "\n",
    "# df_in : common data, opening_days : Series from oprning_days_xxx.pkl\n",
    "def select_openingdays(df_in, opening_days):\n",
    "    df_sel = df_in['date'].apply(lambda x: True if x in list(opening_days) else False)\n",
    "    df_out = df_in[df_sel].reset_index(drop=True)\n",
    "    return df_out"
   ]
  },
  {
   "cell_type": "code",
   "execution_count": 38,
   "id": "0cd7ca96",
   "metadata": {},
   "outputs": [],
   "source": [
    "pkl_directory = '../data/company_pkl/'\n",
    "df_o = pd.read_pickle(pkl_directory + 'sec_investors.pkl')"
   ]
  },
  {
   "cell_type": "code",
   "execution_count": 12,
   "id": "c99981ed",
   "metadata": {},
   "outputs": [],
   "source": [
    "df_sel = df_o['date'].apply(lambda x: True if x in list(opening_days_kor) else False)"
   ]
  },
  {
   "cell_type": "code",
   "execution_count": 13,
   "id": "61eb5ee8",
   "metadata": {},
   "outputs": [],
   "source": [
    "df_out = df_o[df_sel].reset_index(drop=True, inplace=True)"
   ]
  },
  {
   "cell_type": "code",
   "execution_count": 14,
   "id": "b9370444",
   "metadata": {},
   "outputs": [
    {
     "data": {
      "text/plain": [
       "datetime.datetime(2023, 5, 31, 18, 47, 48, 906409)"
      ]
     },
     "execution_count": 14,
     "metadata": {},
     "output_type": "execute_result"
    }
   ],
   "source": [
    "today = datetime.datetime.today()\n",
    "today"
   ]
  },
  {
   "cell_type": "code",
   "execution_count": 15,
   "id": "c816b721",
   "metadata": {},
   "outputs": [
    {
     "data": {
      "text/plain": [
       "datetime.date(2023, 5, 31)"
      ]
     },
     "execution_count": 15,
     "metadata": {},
     "output_type": "execute_result"
    }
   ],
   "source": [
    "datetime.datetime.date(today)"
   ]
  },
  {
   "cell_type": "code",
   "execution_count": 36,
   "id": "590edd61",
   "metadata": {},
   "outputs": [],
   "source": [
    "pkl_directory = '../data/data_for_ml/predict/'\n",
    "df_o = pd.read_pickle(pkl_directory + 'df_amore_company.pkl')"
   ]
  },
  {
   "cell_type": "code",
   "execution_count": 41,
   "id": "e0969604",
   "metadata": {},
   "outputs": [
    {
     "data": {
      "text/plain": [
       "Timestamp('2020-10-27 00:00:00')"
      ]
     },
     "execution_count": 41,
     "metadata": {},
     "output_type": "execute_result"
    }
   ],
   "source": [
    "df_o['date'][300]"
   ]
  },
  {
   "cell_type": "code",
   "execution_count": null,
   "id": "235e311b",
   "metadata": {},
   "outputs": [],
   "source": []
  },
  {
   "cell_type": "code",
   "execution_count": 42,
   "id": "b8456191",
   "metadata": {},
   "outputs": [
    {
     "data": {
      "text/plain": [
       "datetime.date(2023, 5, 31)"
      ]
     },
     "execution_count": 42,
     "metadata": {},
     "output_type": "execute_result"
    }
   ],
   "source": [
    "datetime.date.today()"
   ]
  },
  {
   "cell_type": "code",
   "execution_count": 44,
   "id": "2d99644a",
   "metadata": {},
   "outputs": [
    {
     "data": {
      "text/plain": [
       "datetime.date(2023, 5, 31)"
      ]
     },
     "execution_count": 44,
     "metadata": {},
     "output_type": "execute_result"
    }
   ],
   "source": [
    "datetime.datetime.today().date()"
   ]
  },
  {
   "cell_type": "code",
   "execution_count": 5,
   "id": "59a7b4e9",
   "metadata": {},
   "outputs": [
    {
     "data": {
      "text/plain": [
       "0      2020-01-02\n",
       "1      2020-01-03\n",
       "2      2020-01-06\n",
       "3      2020-01-07\n",
       "4      2020-01-08\n",
       "          ...    \n",
       "981    2023-12-21\n",
       "982    2023-12-22\n",
       "983    2023-12-26\n",
       "984    2023-12-27\n",
       "985    2023-12-28\n",
       "Name: date, Length: 986, dtype: object"
      ]
     },
     "execution_count": 5,
     "metadata": {},
     "output_type": "execute_result"
    }
   ],
   "source": [
    "opening_days_kor."
   ]
  },
  {
   "cell_type": "code",
   "execution_count": 15,
   "id": "1cbc549e",
   "metadata": {},
   "outputs": [],
   "source": [
    "# get stock market opening days\n",
    "base_data_directory = '../data/base_data/stock_market_holydays/'\n",
    "OPENING_DAYS_KOR = pd.read_pickle(base_data_directory+'opening_days_kor.pkl') # 한국 개장일 데이터 \n",
    "OPENING_DAYS_USA = pd.read_pickle(base_data_directory+'opening_days_usa.pkl') # 미국 개장일 데이터 "
   ]
  },
  {
   "cell_type": "code",
   "execution_count": 12,
   "id": "eeaf8806",
   "metadata": {},
   "outputs": [],
   "source": [
    "TRAIN_START_DATE = datetime.date(2022, 3, 2)\n",
    "TRAIN_END_DATE = datetime.date(2023, 3, 31)\n",
    "test = datetime.date(2023, 4, 30)"
   ]
  },
  {
   "cell_type": "code",
   "execution_count": 16,
   "id": "e46257e9",
   "metadata": {},
   "outputs": [
    {
     "data": {
      "text/plain": [
       "267"
      ]
     },
     "execution_count": 16,
     "metadata": {},
     "output_type": "execute_result"
    }
   ],
   "source": [
    "sttn = list(OPENING_DAYS_KOR).index(TRAIN_START_DATE)\n",
    "endn = list(OPENING_DAYS_KOR).index(TRAIN_END_DATE)\n",
    "endn - sttn"
   ]
  },
  {
   "cell_type": "code",
   "execution_count": null,
   "id": "3cd2060a",
   "metadata": {},
   "outputs": [],
   "source": []
  },
  {
   "cell_type": "code",
   "execution_count": null,
   "id": "f06b7e75",
   "metadata": {},
   "outputs": [],
   "source": [
    "def find_next_date(current_date):\n",
    "    current_index = list(OPENING_DAYS_KOR).index(current_date)\n",
    "    next_date =  OPENING_DAYS_KOR.iloc[current_index+1]\n",
    "    return next_date"
   ]
  },
  {
   "cell_type": "code",
   "execution_count": 17,
   "id": "ddb957d1",
   "metadata": {},
   "outputs": [
    {
     "data": {
      "text/plain": [
       "(986, 1004)"
      ]
     },
     "execution_count": 17,
     "metadata": {},
     "output_type": "execute_result"
    }
   ],
   "source": [
    "len(OPENING_DAYS_KOR), len(OPENING_DAYS_USA)"
   ]
  },
  {
   "cell_type": "code",
   "execution_count": null,
   "id": "0b6bc1c8",
   "metadata": {},
   "outputs": [],
   "source": []
  },
  {
   "cell_type": "code",
   "execution_count": null,
   "id": "32f04832",
   "metadata": {},
   "outputs": [],
   "source": []
  },
  {
   "cell_type": "code",
   "execution_count": 62,
   "id": "038706fe",
   "metadata": {},
   "outputs": [],
   "source": [
    "# 개장일중 겹치지 않는 일자 찾기\n",
    "opening_days_combined = list(set(list(OPENING_DAYS_KOR)).union(set(list(OPENING_DAYS_USA))))\n",
    "opening_days_combined.sort()\n",
    "df_date = pd.DataFrame(opening_days_combined, columns=['date_all'])\n",
    "df_date['date_kor'] = df_date['date_all'][df_date['date_all'].isin(OPENING_DAYS_KOR)]\n",
    "df_date['date_usa'] = df_date['date_all'][df_date['date_all'].isin(OPENING_DAYS_USA)]"
   ]
  },
  {
   "cell_type": "code",
   "execution_count": 51,
   "id": "b850fb7b",
   "metadata": {},
   "outputs": [],
   "source": [
    "opening_days_combined.sort()"
   ]
  },
  {
   "cell_type": "code",
   "execution_count": 52,
   "id": "9bd9b0f6",
   "metadata": {},
   "outputs": [],
   "source": [
    "open_date_dict = {}\n",
    "open_date_dict['date_all'] = opening_days_combined"
   ]
  },
  {
   "cell_type": "code",
   "execution_count": 53,
   "id": "e139c4a1",
   "metadata": {},
   "outputs": [],
   "source": [
    "df_date = pd.DataFrame(open_date_dict)"
   ]
  },
  {
   "cell_type": "code",
   "execution_count": 54,
   "id": "27a5f91c",
   "metadata": {},
   "outputs": [],
   "source": [
    "df_date['date_kor'] = df_date['date_all'][df_date['date_all'].isin(OPENING_DAYS_KOR)]"
   ]
  },
  {
   "cell_type": "code",
   "execution_count": 56,
   "id": "06283fbf",
   "metadata": {},
   "outputs": [],
   "source": [
    "df_date['date_usa'] = df_date['date_all'][df_date['date_all'].isin(OPENING_DAYS_USA)]"
   ]
  },
  {
   "cell_type": "code",
   "execution_count": 63,
   "id": "5cd5c808",
   "metadata": {},
   "outputs": [
    {
     "data": {
      "text/html": [
       "<div>\n",
       "<style scoped>\n",
       "    .dataframe tbody tr th:only-of-type {\n",
       "        vertical-align: middle;\n",
       "    }\n",
       "\n",
       "    .dataframe tbody tr th {\n",
       "        vertical-align: top;\n",
       "    }\n",
       "\n",
       "    .dataframe thead th {\n",
       "        text-align: right;\n",
       "    }\n",
       "</style>\n",
       "<table border=\"1\" class=\"dataframe\">\n",
       "  <thead>\n",
       "    <tr style=\"text-align: right;\">\n",
       "      <th></th>\n",
       "      <th>date_all</th>\n",
       "      <th>date_kor</th>\n",
       "      <th>date_usa</th>\n",
       "    </tr>\n",
       "  </thead>\n",
       "  <tbody>\n",
       "    <tr>\n",
       "      <th>840</th>\n",
       "      <td>2023-03-27</td>\n",
       "      <td>2023-03-27</td>\n",
       "      <td>2023-03-27</td>\n",
       "    </tr>\n",
       "    <tr>\n",
       "      <th>841</th>\n",
       "      <td>2023-03-28</td>\n",
       "      <td>2023-03-28</td>\n",
       "      <td>2023-03-28</td>\n",
       "    </tr>\n",
       "    <tr>\n",
       "      <th>842</th>\n",
       "      <td>2023-03-29</td>\n",
       "      <td>2023-03-29</td>\n",
       "      <td>2023-03-29</td>\n",
       "    </tr>\n",
       "    <tr>\n",
       "      <th>843</th>\n",
       "      <td>2023-03-30</td>\n",
       "      <td>2023-03-30</td>\n",
       "      <td>2023-03-30</td>\n",
       "    </tr>\n",
       "    <tr>\n",
       "      <th>844</th>\n",
       "      <td>2023-03-31</td>\n",
       "      <td>2023-03-31</td>\n",
       "      <td>2023-03-31</td>\n",
       "    </tr>\n",
       "    <tr>\n",
       "      <th>845</th>\n",
       "      <td>2023-04-03</td>\n",
       "      <td>2023-04-03</td>\n",
       "      <td>2023-04-03</td>\n",
       "    </tr>\n",
       "    <tr>\n",
       "      <th>846</th>\n",
       "      <td>2023-04-04</td>\n",
       "      <td>2023-04-04</td>\n",
       "      <td>2023-04-04</td>\n",
       "    </tr>\n",
       "    <tr>\n",
       "      <th>847</th>\n",
       "      <td>2023-04-05</td>\n",
       "      <td>2023-04-05</td>\n",
       "      <td>2023-04-05</td>\n",
       "    </tr>\n",
       "    <tr>\n",
       "      <th>848</th>\n",
       "      <td>2023-04-06</td>\n",
       "      <td>2023-04-06</td>\n",
       "      <td>2023-04-06</td>\n",
       "    </tr>\n",
       "    <tr>\n",
       "      <th>849</th>\n",
       "      <td>2023-04-07</td>\n",
       "      <td>2023-04-07</td>\n",
       "      <td>NaN</td>\n",
       "    </tr>\n",
       "    <tr>\n",
       "      <th>850</th>\n",
       "      <td>2023-04-10</td>\n",
       "      <td>2023-04-10</td>\n",
       "      <td>2023-04-10</td>\n",
       "    </tr>\n",
       "    <tr>\n",
       "      <th>851</th>\n",
       "      <td>2023-04-11</td>\n",
       "      <td>2023-04-11</td>\n",
       "      <td>2023-04-11</td>\n",
       "    </tr>\n",
       "    <tr>\n",
       "      <th>852</th>\n",
       "      <td>2023-04-12</td>\n",
       "      <td>2023-04-12</td>\n",
       "      <td>2023-04-12</td>\n",
       "    </tr>\n",
       "    <tr>\n",
       "      <th>853</th>\n",
       "      <td>2023-04-13</td>\n",
       "      <td>2023-04-13</td>\n",
       "      <td>2023-04-13</td>\n",
       "    </tr>\n",
       "    <tr>\n",
       "      <th>854</th>\n",
       "      <td>2023-04-14</td>\n",
       "      <td>2023-04-14</td>\n",
       "      <td>2023-04-14</td>\n",
       "    </tr>\n",
       "    <tr>\n",
       "      <th>855</th>\n",
       "      <td>2023-04-17</td>\n",
       "      <td>2023-04-17</td>\n",
       "      <td>2023-04-17</td>\n",
       "    </tr>\n",
       "    <tr>\n",
       "      <th>856</th>\n",
       "      <td>2023-04-18</td>\n",
       "      <td>2023-04-18</td>\n",
       "      <td>2023-04-18</td>\n",
       "    </tr>\n",
       "    <tr>\n",
       "      <th>857</th>\n",
       "      <td>2023-04-19</td>\n",
       "      <td>2023-04-19</td>\n",
       "      <td>2023-04-19</td>\n",
       "    </tr>\n",
       "    <tr>\n",
       "      <th>858</th>\n",
       "      <td>2023-04-20</td>\n",
       "      <td>2023-04-20</td>\n",
       "      <td>2023-04-20</td>\n",
       "    </tr>\n",
       "    <tr>\n",
       "      <th>859</th>\n",
       "      <td>2023-04-21</td>\n",
       "      <td>2023-04-21</td>\n",
       "      <td>2023-04-21</td>\n",
       "    </tr>\n",
       "    <tr>\n",
       "      <th>860</th>\n",
       "      <td>2023-04-24</td>\n",
       "      <td>2023-04-24</td>\n",
       "      <td>2023-04-24</td>\n",
       "    </tr>\n",
       "    <tr>\n",
       "      <th>861</th>\n",
       "      <td>2023-04-25</td>\n",
       "      <td>2023-04-25</td>\n",
       "      <td>2023-04-25</td>\n",
       "    </tr>\n",
       "    <tr>\n",
       "      <th>862</th>\n",
       "      <td>2023-04-26</td>\n",
       "      <td>2023-04-26</td>\n",
       "      <td>2023-04-26</td>\n",
       "    </tr>\n",
       "    <tr>\n",
       "      <th>863</th>\n",
       "      <td>2023-04-27</td>\n",
       "      <td>2023-04-27</td>\n",
       "      <td>2023-04-27</td>\n",
       "    </tr>\n",
       "    <tr>\n",
       "      <th>864</th>\n",
       "      <td>2023-04-28</td>\n",
       "      <td>2023-04-28</td>\n",
       "      <td>2023-04-28</td>\n",
       "    </tr>\n",
       "    <tr>\n",
       "      <th>865</th>\n",
       "      <td>2023-05-01</td>\n",
       "      <td>NaN</td>\n",
       "      <td>2023-05-01</td>\n",
       "    </tr>\n",
       "    <tr>\n",
       "      <th>866</th>\n",
       "      <td>2023-05-02</td>\n",
       "      <td>2023-05-02</td>\n",
       "      <td>2023-05-02</td>\n",
       "    </tr>\n",
       "    <tr>\n",
       "      <th>867</th>\n",
       "      <td>2023-05-03</td>\n",
       "      <td>2023-05-03</td>\n",
       "      <td>2023-05-03</td>\n",
       "    </tr>\n",
       "    <tr>\n",
       "      <th>868</th>\n",
       "      <td>2023-05-04</td>\n",
       "      <td>2023-05-04</td>\n",
       "      <td>2023-05-04</td>\n",
       "    </tr>\n",
       "    <tr>\n",
       "      <th>869</th>\n",
       "      <td>2023-05-05</td>\n",
       "      <td>NaN</td>\n",
       "      <td>2023-05-05</td>\n",
       "    </tr>\n",
       "    <tr>\n",
       "      <th>870</th>\n",
       "      <td>2023-05-08</td>\n",
       "      <td>2023-05-08</td>\n",
       "      <td>2023-05-08</td>\n",
       "    </tr>\n",
       "    <tr>\n",
       "      <th>871</th>\n",
       "      <td>2023-05-09</td>\n",
       "      <td>2023-05-09</td>\n",
       "      <td>2023-05-09</td>\n",
       "    </tr>\n",
       "    <tr>\n",
       "      <th>872</th>\n",
       "      <td>2023-05-10</td>\n",
       "      <td>2023-05-10</td>\n",
       "      <td>2023-05-10</td>\n",
       "    </tr>\n",
       "    <tr>\n",
       "      <th>873</th>\n",
       "      <td>2023-05-11</td>\n",
       "      <td>2023-05-11</td>\n",
       "      <td>2023-05-11</td>\n",
       "    </tr>\n",
       "    <tr>\n",
       "      <th>874</th>\n",
       "      <td>2023-05-12</td>\n",
       "      <td>2023-05-12</td>\n",
       "      <td>2023-05-12</td>\n",
       "    </tr>\n",
       "    <tr>\n",
       "      <th>875</th>\n",
       "      <td>2023-05-15</td>\n",
       "      <td>2023-05-15</td>\n",
       "      <td>2023-05-15</td>\n",
       "    </tr>\n",
       "    <tr>\n",
       "      <th>876</th>\n",
       "      <td>2023-05-16</td>\n",
       "      <td>2023-05-16</td>\n",
       "      <td>2023-05-16</td>\n",
       "    </tr>\n",
       "    <tr>\n",
       "      <th>877</th>\n",
       "      <td>2023-05-17</td>\n",
       "      <td>2023-05-17</td>\n",
       "      <td>2023-05-17</td>\n",
       "    </tr>\n",
       "    <tr>\n",
       "      <th>878</th>\n",
       "      <td>2023-05-18</td>\n",
       "      <td>2023-05-18</td>\n",
       "      <td>2023-05-18</td>\n",
       "    </tr>\n",
       "    <tr>\n",
       "      <th>879</th>\n",
       "      <td>2023-05-19</td>\n",
       "      <td>2023-05-19</td>\n",
       "      <td>2023-05-19</td>\n",
       "    </tr>\n",
       "    <tr>\n",
       "      <th>880</th>\n",
       "      <td>2023-05-22</td>\n",
       "      <td>2023-05-22</td>\n",
       "      <td>2023-05-22</td>\n",
       "    </tr>\n",
       "    <tr>\n",
       "      <th>881</th>\n",
       "      <td>2023-05-23</td>\n",
       "      <td>2023-05-23</td>\n",
       "      <td>2023-05-23</td>\n",
       "    </tr>\n",
       "    <tr>\n",
       "      <th>882</th>\n",
       "      <td>2023-05-24</td>\n",
       "      <td>2023-05-24</td>\n",
       "      <td>2023-05-24</td>\n",
       "    </tr>\n",
       "    <tr>\n",
       "      <th>883</th>\n",
       "      <td>2023-05-25</td>\n",
       "      <td>2023-05-25</td>\n",
       "      <td>2023-05-25</td>\n",
       "    </tr>\n",
       "    <tr>\n",
       "      <th>884</th>\n",
       "      <td>2023-05-26</td>\n",
       "      <td>2023-05-26</td>\n",
       "      <td>2023-05-26</td>\n",
       "    </tr>\n",
       "    <tr>\n",
       "      <th>885</th>\n",
       "      <td>2023-05-30</td>\n",
       "      <td>2023-05-30</td>\n",
       "      <td>2023-05-30</td>\n",
       "    </tr>\n",
       "    <tr>\n",
       "      <th>886</th>\n",
       "      <td>2023-05-31</td>\n",
       "      <td>2023-05-31</td>\n",
       "      <td>2023-05-31</td>\n",
       "    </tr>\n",
       "    <tr>\n",
       "      <th>887</th>\n",
       "      <td>2023-06-01</td>\n",
       "      <td>2023-06-01</td>\n",
       "      <td>2023-06-01</td>\n",
       "    </tr>\n",
       "    <tr>\n",
       "      <th>888</th>\n",
       "      <td>2023-06-02</td>\n",
       "      <td>2023-06-02</td>\n",
       "      <td>2023-06-02</td>\n",
       "    </tr>\n",
       "    <tr>\n",
       "      <th>889</th>\n",
       "      <td>2023-06-05</td>\n",
       "      <td>2023-06-05</td>\n",
       "      <td>2023-06-05</td>\n",
       "    </tr>\n",
       "    <tr>\n",
       "      <th>890</th>\n",
       "      <td>2023-06-06</td>\n",
       "      <td>NaN</td>\n",
       "      <td>2023-06-06</td>\n",
       "    </tr>\n",
       "    <tr>\n",
       "      <th>891</th>\n",
       "      <td>2023-06-07</td>\n",
       "      <td>2023-06-07</td>\n",
       "      <td>2023-06-07</td>\n",
       "    </tr>\n",
       "    <tr>\n",
       "      <th>892</th>\n",
       "      <td>2023-06-08</td>\n",
       "      <td>2023-06-08</td>\n",
       "      <td>2023-06-08</td>\n",
       "    </tr>\n",
       "    <tr>\n",
       "      <th>893</th>\n",
       "      <td>2023-06-09</td>\n",
       "      <td>2023-06-09</td>\n",
       "      <td>2023-06-09</td>\n",
       "    </tr>\n",
       "    <tr>\n",
       "      <th>894</th>\n",
       "      <td>2023-06-12</td>\n",
       "      <td>2023-06-12</td>\n",
       "      <td>2023-06-12</td>\n",
       "    </tr>\n",
       "    <tr>\n",
       "      <th>895</th>\n",
       "      <td>2023-06-13</td>\n",
       "      <td>2023-06-13</td>\n",
       "      <td>2023-06-13</td>\n",
       "    </tr>\n",
       "    <tr>\n",
       "      <th>896</th>\n",
       "      <td>2023-06-14</td>\n",
       "      <td>2023-06-14</td>\n",
       "      <td>2023-06-14</td>\n",
       "    </tr>\n",
       "    <tr>\n",
       "      <th>897</th>\n",
       "      <td>2023-06-15</td>\n",
       "      <td>2023-06-15</td>\n",
       "      <td>2023-06-15</td>\n",
       "    </tr>\n",
       "    <tr>\n",
       "      <th>898</th>\n",
       "      <td>2023-06-16</td>\n",
       "      <td>2023-06-16</td>\n",
       "      <td>2023-06-16</td>\n",
       "    </tr>\n",
       "    <tr>\n",
       "      <th>899</th>\n",
       "      <td>2023-06-19</td>\n",
       "      <td>2023-06-19</td>\n",
       "      <td>NaN</td>\n",
       "    </tr>\n",
       "  </tbody>\n",
       "</table>\n",
       "</div>"
      ],
      "text/plain": [
       "       date_all    date_kor    date_usa\n",
       "840  2023-03-27  2023-03-27  2023-03-27\n",
       "841  2023-03-28  2023-03-28  2023-03-28\n",
       "842  2023-03-29  2023-03-29  2023-03-29\n",
       "843  2023-03-30  2023-03-30  2023-03-30\n",
       "844  2023-03-31  2023-03-31  2023-03-31\n",
       "845  2023-04-03  2023-04-03  2023-04-03\n",
       "846  2023-04-04  2023-04-04  2023-04-04\n",
       "847  2023-04-05  2023-04-05  2023-04-05\n",
       "848  2023-04-06  2023-04-06  2023-04-06\n",
       "849  2023-04-07  2023-04-07         NaN\n",
       "850  2023-04-10  2023-04-10  2023-04-10\n",
       "851  2023-04-11  2023-04-11  2023-04-11\n",
       "852  2023-04-12  2023-04-12  2023-04-12\n",
       "853  2023-04-13  2023-04-13  2023-04-13\n",
       "854  2023-04-14  2023-04-14  2023-04-14\n",
       "855  2023-04-17  2023-04-17  2023-04-17\n",
       "856  2023-04-18  2023-04-18  2023-04-18\n",
       "857  2023-04-19  2023-04-19  2023-04-19\n",
       "858  2023-04-20  2023-04-20  2023-04-20\n",
       "859  2023-04-21  2023-04-21  2023-04-21\n",
       "860  2023-04-24  2023-04-24  2023-04-24\n",
       "861  2023-04-25  2023-04-25  2023-04-25\n",
       "862  2023-04-26  2023-04-26  2023-04-26\n",
       "863  2023-04-27  2023-04-27  2023-04-27\n",
       "864  2023-04-28  2023-04-28  2023-04-28\n",
       "865  2023-05-01         NaN  2023-05-01\n",
       "866  2023-05-02  2023-05-02  2023-05-02\n",
       "867  2023-05-03  2023-05-03  2023-05-03\n",
       "868  2023-05-04  2023-05-04  2023-05-04\n",
       "869  2023-05-05         NaN  2023-05-05\n",
       "870  2023-05-08  2023-05-08  2023-05-08\n",
       "871  2023-05-09  2023-05-09  2023-05-09\n",
       "872  2023-05-10  2023-05-10  2023-05-10\n",
       "873  2023-05-11  2023-05-11  2023-05-11\n",
       "874  2023-05-12  2023-05-12  2023-05-12\n",
       "875  2023-05-15  2023-05-15  2023-05-15\n",
       "876  2023-05-16  2023-05-16  2023-05-16\n",
       "877  2023-05-17  2023-05-17  2023-05-17\n",
       "878  2023-05-18  2023-05-18  2023-05-18\n",
       "879  2023-05-19  2023-05-19  2023-05-19\n",
       "880  2023-05-22  2023-05-22  2023-05-22\n",
       "881  2023-05-23  2023-05-23  2023-05-23\n",
       "882  2023-05-24  2023-05-24  2023-05-24\n",
       "883  2023-05-25  2023-05-25  2023-05-25\n",
       "884  2023-05-26  2023-05-26  2023-05-26\n",
       "885  2023-05-30  2023-05-30  2023-05-30\n",
       "886  2023-05-31  2023-05-31  2023-05-31\n",
       "887  2023-06-01  2023-06-01  2023-06-01\n",
       "888  2023-06-02  2023-06-02  2023-06-02\n",
       "889  2023-06-05  2023-06-05  2023-06-05\n",
       "890  2023-06-06         NaN  2023-06-06\n",
       "891  2023-06-07  2023-06-07  2023-06-07\n",
       "892  2023-06-08  2023-06-08  2023-06-08\n",
       "893  2023-06-09  2023-06-09  2023-06-09\n",
       "894  2023-06-12  2023-06-12  2023-06-12\n",
       "895  2023-06-13  2023-06-13  2023-06-13\n",
       "896  2023-06-14  2023-06-14  2023-06-14\n",
       "897  2023-06-15  2023-06-15  2023-06-15\n",
       "898  2023-06-16  2023-06-16  2023-06-16\n",
       "899  2023-06-19  2023-06-19         NaN"
      ]
     },
     "execution_count": 63,
     "metadata": {},
     "output_type": "execute_result"
    }
   ],
   "source": [
    "df_date[840:900]"
   ]
  },
  {
   "cell_type": "code",
   "execution_count": 61,
   "id": "e384c011",
   "metadata": {},
   "outputs": [
    {
     "data": {
      "text/html": [
       "<div>\n",
       "<style scoped>\n",
       "    .dataframe tbody tr th:only-of-type {\n",
       "        vertical-align: middle;\n",
       "    }\n",
       "\n",
       "    .dataframe tbody tr th {\n",
       "        vertical-align: top;\n",
       "    }\n",
       "\n",
       "    .dataframe thead th {\n",
       "        text-align: right;\n",
       "    }\n",
       "</style>\n",
       "<table border=\"1\" class=\"dataframe\">\n",
       "  <thead>\n",
       "    <tr style=\"text-align: right;\">\n",
       "      <th></th>\n",
       "      <th>date_all</th>\n",
       "    </tr>\n",
       "  </thead>\n",
       "  <tbody>\n",
       "    <tr>\n",
       "      <th>0</th>\n",
       "      <td>2020-01-02</td>\n",
       "    </tr>\n",
       "    <tr>\n",
       "      <th>1</th>\n",
       "      <td>2020-01-03</td>\n",
       "    </tr>\n",
       "    <tr>\n",
       "      <th>2</th>\n",
       "      <td>2020-01-06</td>\n",
       "    </tr>\n",
       "    <tr>\n",
       "      <th>3</th>\n",
       "      <td>2020-01-07</td>\n",
       "    </tr>\n",
       "    <tr>\n",
       "      <th>4</th>\n",
       "      <td>2020-01-08</td>\n",
       "    </tr>\n",
       "    <tr>\n",
       "      <th>...</th>\n",
       "      <td>...</td>\n",
       "    </tr>\n",
       "    <tr>\n",
       "      <th>1033</th>\n",
       "      <td>2023-12-22</td>\n",
       "    </tr>\n",
       "    <tr>\n",
       "      <th>1034</th>\n",
       "      <td>2023-12-26</td>\n",
       "    </tr>\n",
       "    <tr>\n",
       "      <th>1035</th>\n",
       "      <td>2023-12-27</td>\n",
       "    </tr>\n",
       "    <tr>\n",
       "      <th>1036</th>\n",
       "      <td>2023-12-28</td>\n",
       "    </tr>\n",
       "    <tr>\n",
       "      <th>1037</th>\n",
       "      <td>2023-12-29</td>\n",
       "    </tr>\n",
       "  </tbody>\n",
       "</table>\n",
       "<p>1038 rows × 1 columns</p>\n",
       "</div>"
      ],
      "text/plain": [
       "        date_all\n",
       "0     2020-01-02\n",
       "1     2020-01-03\n",
       "2     2020-01-06\n",
       "3     2020-01-07\n",
       "4     2020-01-08\n",
       "...          ...\n",
       "1033  2023-12-22\n",
       "1034  2023-12-26\n",
       "1035  2023-12-27\n",
       "1036  2023-12-28\n",
       "1037  2023-12-29\n",
       "\n",
       "[1038 rows x 1 columns]"
      ]
     },
     "execution_count": 61,
     "metadata": {},
     "output_type": "execute_result"
    }
   ],
   "source": [
    "pd.DataFrame(opening_days_combined, columns=['date_all'])"
   ]
  },
  {
   "cell_type": "code",
   "execution_count": 14,
   "id": "0a1d2e00",
   "metadata": {},
   "outputs": [
    {
     "data": {
      "text/plain": [
       "0       2020-01-02\n",
       "1       2020-01-03\n",
       "2       2020-01-06\n",
       "3       2020-01-07\n",
       "4       2020-01-08\n",
       "           ...    \n",
       "999     2023-12-22\n",
       "1000    2023-12-26\n",
       "1001    2023-12-27\n",
       "1002    2023-12-28\n",
       "1003    2023-12-29\n",
       "Name: date, Length: 1004, dtype: object"
      ]
     },
     "execution_count": 14,
     "metadata": {},
     "output_type": "execute_result"
    }
   ],
   "source": [
    "OPENING_DAYS_USA"
   ]
  },
  {
   "cell_type": "code",
   "execution_count": 38,
   "id": "817a891c",
   "metadata": {},
   "outputs": [
    {
     "ename": "AttributeError",
     "evalue": "'Series' object has no attribute 'columns'",
     "output_type": "error",
     "traceback": [
      "\u001b[1;31m---------------------------------------------------------------------------\u001b[0m",
      "\u001b[1;31mAttributeError\u001b[0m                            Traceback (most recent call last)",
      "Cell \u001b[1;32mIn[38], line 1\u001b[0m\n\u001b[1;32m----> 1\u001b[0m \u001b[43mOPENING_DAYS_KOR\u001b[49m\u001b[38;5;241;43m.\u001b[39;49m\u001b[43mcolumns\u001b[49m\n",
      "File \u001b[1;32mc:\\users\\user\\appdata\\local\\programs\\python\\python39\\lib\\site-packages\\pandas\\core\\generic.py:5989\u001b[0m, in \u001b[0;36mNDFrame.__getattr__\u001b[1;34m(self, name)\u001b[0m\n\u001b[0;32m   5982\u001b[0m \u001b[38;5;28;01mif\u001b[39;00m (\n\u001b[0;32m   5983\u001b[0m     name \u001b[38;5;129;01mnot\u001b[39;00m \u001b[38;5;129;01min\u001b[39;00m \u001b[38;5;28mself\u001b[39m\u001b[38;5;241m.\u001b[39m_internal_names_set\n\u001b[0;32m   5984\u001b[0m     \u001b[38;5;129;01mand\u001b[39;00m name \u001b[38;5;129;01mnot\u001b[39;00m \u001b[38;5;129;01min\u001b[39;00m \u001b[38;5;28mself\u001b[39m\u001b[38;5;241m.\u001b[39m_metadata\n\u001b[0;32m   5985\u001b[0m     \u001b[38;5;129;01mand\u001b[39;00m name \u001b[38;5;129;01mnot\u001b[39;00m \u001b[38;5;129;01min\u001b[39;00m \u001b[38;5;28mself\u001b[39m\u001b[38;5;241m.\u001b[39m_accessors\n\u001b[0;32m   5986\u001b[0m     \u001b[38;5;129;01mand\u001b[39;00m \u001b[38;5;28mself\u001b[39m\u001b[38;5;241m.\u001b[39m_info_axis\u001b[38;5;241m.\u001b[39m_can_hold_identifiers_and_holds_name(name)\n\u001b[0;32m   5987\u001b[0m ):\n\u001b[0;32m   5988\u001b[0m     \u001b[38;5;28;01mreturn\u001b[39;00m \u001b[38;5;28mself\u001b[39m[name]\n\u001b[1;32m-> 5989\u001b[0m \u001b[38;5;28;01mreturn\u001b[39;00m \u001b[38;5;28;43mobject\u001b[39;49m\u001b[38;5;241;43m.\u001b[39;49m\u001b[38;5;21;43m__getattribute__\u001b[39;49m\u001b[43m(\u001b[49m\u001b[38;5;28;43mself\u001b[39;49m\u001b[43m,\u001b[49m\u001b[43m \u001b[49m\u001b[43mname\u001b[49m\u001b[43m)\u001b[49m\n",
      "\u001b[1;31mAttributeError\u001b[0m: 'Series' object has no attribute 'columns'"
     ]
    }
   ],
   "source": [
    "OPENING_DAYS_KOR.columns"
   ]
  },
  {
   "cell_type": "code",
   "execution_count": null,
   "id": "6e793b00",
   "metadata": {},
   "outputs": [],
   "source": []
  }
 ],
 "metadata": {
  "kernelspec": {
   "display_name": "Python 3 (ipykernel)",
   "language": "python",
   "name": "python3"
  },
  "language_info": {
   "codemirror_mode": {
    "name": "ipython",
    "version": 3
   },
   "file_extension": ".py",
   "mimetype": "text/x-python",
   "name": "python",
   "nbconvert_exporter": "python",
   "pygments_lexer": "ipython3",
   "version": "3.9.1"
  }
 },
 "nbformat": 4,
 "nbformat_minor": 5
}
