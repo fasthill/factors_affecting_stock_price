{
 "cells": [
  {
   "cell_type": "code",
   "execution_count": 1,
   "id": "b6071c61",
   "metadata": {},
   "outputs": [],
   "source": [
    "import datetime\n",
    "import time\n",
    "from datetime import date\n",
    "\n",
    "import pandas as pd\n",
    "import numpy as np\n",
    "\n",
    "import os, sys"
   ]
  },
  {
   "cell_type": "code",
   "execution_count": 3,
   "id": "43674fed",
   "metadata": {},
   "outputs": [],
   "source": [
    "base_data_directory = '../data/base_data/stock_market_holydays/'\n",
    "opening_days_kor = pd.read_pickle(base_data_directory+'opening_days_kor.pkl') # 한국 개장일 데이터 \n",
    "def is_opening_day(date): # 개장일 확인\n",
    "    date = datetime.datetime.strptime(date, \"%Y%m%d\").date()\n",
    "    if date in list(opening_days_kor):\n",
    "        return True\n",
    "    else:\n",
    "        return False"
   ]
  },
  {
   "cell_type": "code",
   "execution_count": 11,
   "id": "3c194f56",
   "metadata": {},
   "outputs": [],
   "source": [
    "base_data_directory = '../data/base_data/stock_market_holydays/'\n",
    "opening_days_kor = pd.read_pickle(base_data_directory+'opening_days_kor.pkl') # 한국 개장일 데이터 \n",
    "\n",
    "\n",
    "# df_in : common data, opening_days : Series from oprning_days_xxx.pkl\n",
    "def select_openingdays(df_in, opening_days):\n",
    "    df_sel = df_in['date'].apply(lambda x: True if x in list(opening_days) else False)\n",
    "    df_out = df_in[df_sel].reset_index(drop=True)\n",
    "    return df_out"
   ]
  },
  {
   "cell_type": "code",
   "execution_count": 38,
   "id": "0cd7ca96",
   "metadata": {},
   "outputs": [],
   "source": [
    "pkl_directory = '../data/company_pkl/'\n",
    "df_o = pd.read_pickle(pkl_directory + 'sec_investors.pkl')"
   ]
  },
  {
   "cell_type": "code",
   "execution_count": 12,
   "id": "c99981ed",
   "metadata": {},
   "outputs": [],
   "source": [
    "df_sel = df_o['date'].apply(lambda x: True if x in list(opening_days_kor) else False)"
   ]
  },
  {
   "cell_type": "code",
   "execution_count": 13,
   "id": "61eb5ee8",
   "metadata": {},
   "outputs": [],
   "source": [
    "df_out = df_o[df_sel].reset_index(drop=True, inplace=True)"
   ]
  },
  {
   "cell_type": "code",
   "execution_count": 14,
   "id": "b9370444",
   "metadata": {},
   "outputs": [
    {
     "data": {
      "text/plain": [
       "datetime.datetime(2023, 5, 31, 18, 47, 48, 906409)"
      ]
     },
     "execution_count": 14,
     "metadata": {},
     "output_type": "execute_result"
    }
   ],
   "source": [
    "today = datetime.datetime.today()\n",
    "today"
   ]
  },
  {
   "cell_type": "code",
   "execution_count": 15,
   "id": "c816b721",
   "metadata": {},
   "outputs": [
    {
     "data": {
      "text/plain": [
       "datetime.date(2023, 5, 31)"
      ]
     },
     "execution_count": 15,
     "metadata": {},
     "output_type": "execute_result"
    }
   ],
   "source": [
    "datetime.datetime.date(today)"
   ]
  },
  {
   "cell_type": "code",
   "execution_count": 36,
   "id": "590edd61",
   "metadata": {},
   "outputs": [],
   "source": [
    "pkl_directory = '../data/data_for_ml/predict/'\n",
    "df_o = pd.read_pickle(pkl_directory + 'df_amore_company.pkl')"
   ]
  },
  {
   "cell_type": "code",
   "execution_count": 41,
   "id": "e0969604",
   "metadata": {},
   "outputs": [
    {
     "data": {
      "text/plain": [
       "Timestamp('2020-10-27 00:00:00')"
      ]
     },
     "execution_count": 41,
     "metadata": {},
     "output_type": "execute_result"
    }
   ],
   "source": [
    "df_o['date'][300]"
   ]
  },
  {
   "cell_type": "code",
   "execution_count": null,
   "id": "235e311b",
   "metadata": {},
   "outputs": [],
   "source": []
  },
  {
   "cell_type": "code",
   "execution_count": 42,
   "id": "b8456191",
   "metadata": {},
   "outputs": [
    {
     "data": {
      "text/plain": [
       "datetime.date(2023, 5, 31)"
      ]
     },
     "execution_count": 42,
     "metadata": {},
     "output_type": "execute_result"
    }
   ],
   "source": [
    "datetime.date.today()"
   ]
  },
  {
   "cell_type": "code",
   "execution_count": 44,
   "id": "2d99644a",
   "metadata": {},
   "outputs": [
    {
     "data": {
      "text/plain": [
       "datetime.date(2023, 5, 31)"
      ]
     },
     "execution_count": 44,
     "metadata": {},
     "output_type": "execute_result"
    }
   ],
   "source": [
    "datetime.datetime.today().date()"
   ]
  },
  {
   "cell_type": "code",
   "execution_count": null,
   "id": "59a7b4e9",
   "metadata": {},
   "outputs": [],
   "source": []
  }
 ],
 "metadata": {
  "kernelspec": {
   "display_name": "Python 3 (ipykernel)",
   "language": "python",
   "name": "python3"
  },
  "language_info": {
   "codemirror_mode": {
    "name": "ipython",
    "version": 3
   },
   "file_extension": ".py",
   "mimetype": "text/x-python",
   "name": "python",
   "nbconvert_exporter": "python",
   "pygments_lexer": "ipython3",
   "version": "3.10.7"
  }
 },
 "nbformat": 4,
 "nbformat_minor": 5
}
