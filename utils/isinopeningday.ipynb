{
 "cells": [
  {
   "cell_type": "code",
   "execution_count": 6,
   "id": "b6071c61",
   "metadata": {},
   "outputs": [],
   "source": [
    "import datetime\n",
    "import time\n",
    "from datetime import date\n",
    "\n",
    "import pandas as pd\n",
    "import numpy as np\n",
    "\n",
    "import os, sys"
   ]
  },
  {
   "cell_type": "code",
   "execution_count": 7,
   "id": "43674fed",
   "metadata": {},
   "outputs": [],
   "source": [
    "base_data_directory = '../data/base_data/stock_market_holydays/'\n",
    "opening_days_kor = pd.read_pickle(base_data_directory+'opening_days_kor.pkl') # 한국 개장일 데이터 \n",
    "def is_opening_day(date): # 개장일 확인\n",
    "    date = datetime.datetime.strptime(date, \"%Y%m%d\").date()\n",
    "    if date in list(opening_days_kor):\n",
    "        return True\n",
    "    else:\n",
    "        return False"
   ]
  },
  {
   "cell_type": "code",
   "execution_count": 3,
   "id": "3c194f56",
   "metadata": {},
   "outputs": [],
   "source": [
    "base_data_directory = '../data/base_data/stock_market_holydays/'\n",
    "opening_days_kor = pd.read_pickle(base_data_directory+'opening_days_kor.pkl') # 한국 개장일 데이터 \n",
    "\n",
    "\n",
    "# df_in : common data, opening_days : Series from oprning_days_xxx.pkl\n",
    "def select_openingdays(df_in, opening_days):\n",
    "    df_sel = df_in['date'].apply(lambda x: True if x in list(opening_days) else False)\n",
    "    df_out = df_in[df_sel].reset_index(drop=True)\n",
    "    return df_out"
   ]
  },
  {
   "cell_type": "code",
   "execution_count": 38,
   "id": "0cd7ca96",
   "metadata": {},
   "outputs": [],
   "source": [
    "pkl_directory = '../data/company_pkl/'\n",
    "df_o = pd.read_pickle(pkl_directory + 'sec_investors.pkl')"
   ]
  },
  {
   "cell_type": "code",
   "execution_count": 12,
   "id": "c99981ed",
   "metadata": {},
   "outputs": [],
   "source": [
    "df_sel = df_o['date'].apply(lambda x: True if x in list(opening_days_kor) else False)"
   ]
  },
  {
   "cell_type": "code",
   "execution_count": 13,
   "id": "61eb5ee8",
   "metadata": {},
   "outputs": [],
   "source": [
    "df_out = df_o[df_sel].reset_index(drop=True, inplace=True)"
   ]
  },
  {
   "cell_type": "code",
   "execution_count": 14,
   "id": "b9370444",
   "metadata": {},
   "outputs": [
    {
     "data": {
      "text/plain": [
       "datetime.datetime(2023, 5, 31, 18, 47, 48, 906409)"
      ]
     },
     "execution_count": 14,
     "metadata": {},
     "output_type": "execute_result"
    }
   ],
   "source": [
    "today = datetime.datetime.today()\n",
    "today"
   ]
  },
  {
   "cell_type": "code",
   "execution_count": 15,
   "id": "c816b721",
   "metadata": {},
   "outputs": [
    {
     "data": {
      "text/plain": [
       "datetime.date(2023, 5, 31)"
      ]
     },
     "execution_count": 15,
     "metadata": {},
     "output_type": "execute_result"
    }
   ],
   "source": [
    "datetime.datetime.date(today)"
   ]
  },
  {
   "cell_type": "code",
   "execution_count": 36,
   "id": "590edd61",
   "metadata": {},
   "outputs": [],
   "source": [
    "pkl_directory = '../data/data_for_ml/predict/'\n",
    "df_o = pd.read_pickle(pkl_directory + 'df_amore_company.pkl')"
   ]
  },
  {
   "cell_type": "code",
   "execution_count": 41,
   "id": "e0969604",
   "metadata": {},
   "outputs": [
    {
     "data": {
      "text/plain": [
       "Timestamp('2020-10-27 00:00:00')"
      ]
     },
     "execution_count": 41,
     "metadata": {},
     "output_type": "execute_result"
    }
   ],
   "source": [
    "df_o['date'][300]"
   ]
  },
  {
   "cell_type": "code",
   "execution_count": null,
   "id": "235e311b",
   "metadata": {},
   "outputs": [],
   "source": []
  },
  {
   "cell_type": "code",
   "execution_count": 42,
   "id": "b8456191",
   "metadata": {},
   "outputs": [
    {
     "data": {
      "text/plain": [
       "datetime.date(2023, 5, 31)"
      ]
     },
     "execution_count": 42,
     "metadata": {},
     "output_type": "execute_result"
    }
   ],
   "source": [
    "datetime.date.today()"
   ]
  },
  {
   "cell_type": "code",
   "execution_count": 44,
   "id": "2d99644a",
   "metadata": {},
   "outputs": [
    {
     "data": {
      "text/plain": [
       "datetime.date(2023, 5, 31)"
      ]
     },
     "execution_count": 44,
     "metadata": {},
     "output_type": "execute_result"
    }
   ],
   "source": [
    "datetime.datetime.today().date()"
   ]
  },
  {
   "cell_type": "code",
   "execution_count": 5,
   "id": "59a7b4e9",
   "metadata": {},
   "outputs": [
    {
     "data": {
      "text/plain": [
       "0      2020-01-02\n",
       "1      2020-01-03\n",
       "2      2020-01-06\n",
       "3      2020-01-07\n",
       "4      2020-01-08\n",
       "          ...    \n",
       "981    2023-12-21\n",
       "982    2023-12-22\n",
       "983    2023-12-26\n",
       "984    2023-12-27\n",
       "985    2023-12-28\n",
       "Name: date, Length: 986, dtype: object"
      ]
     },
     "execution_count": 5,
     "metadata": {},
     "output_type": "execute_result"
    }
   ],
   "source": [
    "opening_days_kor."
   ]
  },
  {
   "cell_type": "code",
   "execution_count": 10,
   "id": "1cbc549e",
   "metadata": {},
   "outputs": [],
   "source": [
    "# get stock market opening days\n",
    "base_data_directory = '../data/base_data/stock_market_holydays/'\n",
    "OPENING_DAYS_KOR = pd.read_pickle(base_data_directory+'opening_days_kor.pkl') # 한국 개장일 데이터 \n",
    "OPENING_DAYS_USA = pd.read_pickle(base_data_directory+'opening_days_usa.pkl') # 미국 개장일 데이터 "
   ]
  },
  {
   "cell_type": "code",
   "execution_count": 12,
   "id": "eeaf8806",
   "metadata": {},
   "outputs": [],
   "source": [
    "TRAIN_START_DATE = datetime.date(2022, 3, 2)\n",
    "TRAIN_END_DATE = datetime.date(2023, 3, 31)\n",
    "test = datetime.date(2023, 4, 30)"
   ]
  },
  {
   "cell_type": "code",
   "execution_count": 16,
   "id": "e46257e9",
   "metadata": {},
   "outputs": [
    {
     "data": {
      "text/plain": [
       "267"
      ]
     },
     "execution_count": 16,
     "metadata": {},
     "output_type": "execute_result"
    }
   ],
   "source": [
    "sttn = list(OPENING_DAYS_KOR).index(TRAIN_START_DATE)\n",
    "endn = list(OPENING_DAYS_KOR).index(TRAIN_END_DATE)\n",
    "endn - sttn"
   ]
  },
  {
   "cell_type": "code",
   "execution_count": null,
   "id": "3cd2060a",
   "metadata": {},
   "outputs": [],
   "source": []
  },
  {
   "cell_type": "code",
   "execution_count": null,
   "id": "f06b7e75",
   "metadata": {},
   "outputs": [],
   "source": [
    "def find_next_date(current_date):\n",
    "    current_index = list(OPENING_DAYS_KOR).index(current_date)\n",
    "    next_date =  OPENING_DAYS_KOR.iloc[current_index+1]\n",
    "    return next_date"
   ]
  }
 ],
 "metadata": {
  "kernelspec": {
   "display_name": "Python 3 (ipykernel)",
   "language": "python",
   "name": "python3"
  },
  "language_info": {
   "codemirror_mode": {
    "name": "ipython",
    "version": 3
   },
   "file_extension": ".py",
   "mimetype": "text/x-python",
   "name": "python",
   "nbconvert_exporter": "python",
   "pygments_lexer": "ipython3",
   "version": "3.10.7"
  }
 },
 "nbformat": 4,
 "nbformat_minor": 5
}
