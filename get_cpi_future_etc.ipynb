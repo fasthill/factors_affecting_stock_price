{
 "cells": [
  {
   "cell_type": "code",
   "execution_count": 1,
   "id": "1cddba06",
   "metadata": {},
   "outputs": [],
   "source": [
    "import requests\n",
    "from bs4 import BeautifulSoup as bs\n",
    "\n",
    "import pandas as pd\n",
    "\n",
    "import datetime\n",
    "from datetime import date"
   ]
  },
  {
   "cell_type": "code",
   "execution_count": 4,
   "id": "310f2e04",
   "metadata": {},
   "outputs": [],
   "source": [
    "real_time_future_url = 'https://kr.investing.com/indices/indices-futures'\n",
    "cpi_url = 'https://kr.investing.com/economic-calendar/cpi-733'\n",
    "url_list = [ real_time_future_url, cpi_url]"
   ]
  },
  {
   "cell_type": "code",
   "execution_count": null,
   "id": "cb14fcc8",
   "metadata": {},
   "outputs": [],
   "source": [
    "url_list"
   ]
  },
  {
   "cell_type": "code",
   "execution_count": 5,
   "id": "fbe1e314",
   "metadata": {},
   "outputs": [],
   "source": [
    "url1 = url_list[0]\n",
    "res = requests.get(url1)\n",
    "soup = bs(res.text, 'html.parser')"
   ]
  },
  {
   "cell_type": "code",
   "execution_count": null,
   "id": "610a243a",
   "metadata": {},
   "outputs": [],
   "source": [
    "url1 = 'https://kr.investing.com/commodities/crude-oil-historical-data'\n",
    "res = requests.get(url1)\n",
    "soup = bs(res.text, 'html.parser')\n",
    "wti = soup.select('#results_box tr')\n",
    "\n",
    "wti_date_value = {}\n",
    "for i, tr in enumerate(wti):\n",
    "    if (i == 0) | (i == len(wti)-1) : continue\n",
    "    tr_value = tr.select('td')\n",
    "    wti_date_value[tr_value[0].text] = tr_value[1].text"
   ]
  },
  {
   "cell_type": "code",
   "execution_count": null,
   "id": "5488be68",
   "metadata": {},
   "outputs": [],
   "source": [
    "from datetime import date\n",
    "import re\n",
    "# date_list = []\n",
    "# for i, (date1, val) in enumerate(wti_date_value.items()):\n",
    "#     y_m_d = re.findall(r'\\d+', date1)\n",
    "#     time = datetime.date(int(y_m_d[0]), int(y_m_d[1]), int(y_m_d[2]))\n",
    "#     date_list.append(time)\n",
    "    \n",
    "data_dict = {}\n",
    "date_list = []\n",
    "wti_list = []\n",
    "for i, (date1, val) in enumerate(wti_date_value.items()):\n",
    "    y_m_d = re.findall(r'\\d+', date1)\n",
    "    time = datetime.date(int(y_m_d[0]), int(y_m_d[1]), int(y_m_d[2]))\n",
    "    date_list.append(time)\n",
    "    wti_list.append(val)\n",
    "\n",
    "data_dict['date'] = date_list\n",
    "data_dict['wti'] = wti_list\n",
    "\n",
    "df_wti = pd.DataFrame(data_dict) \n",
    "df_wti.tail()"
   ]
  },
  {
   "cell_type": "code",
   "execution_count": null,
   "id": "8a714f46",
   "metadata": {},
   "outputs": [],
   "source": [
    "date_list"
   ]
  },
  {
   "cell_type": "code",
   "execution_count": null,
   "id": "dcefa654",
   "metadata": {},
   "outputs": [],
   "source": [
    "nas_url = 'https://www.investing.com/indices/nasdaq-composite-chart'\n",
    "res = requests.get(nas_url)\n",
    "soup = bs(res.text, 'html.parser')\n",
    "nas = soup.select('#last_last')[0].text\n",
    "nas = float(nas.replace(\",\", \"\"))\n",
    "nas"
   ]
  },
  {
   "cell_type": "code",
   "execution_count": null,
   "id": "7f671696",
   "metadata": {},
   "outputs": [],
   "source": [
    "dow_url = 'https://www.investing.com/indices/us-30'\n",
    "res = requests.get(dow_url)\n",
    "soup = bs(res.text, 'html.parser')\n",
    "select_path = '#__next > div.desktop\\:relative.desktop\\:bg-background-default > div > div > div.grid.gap-4.tablet\\:gap-6.grid-cols-4.tablet\\:grid-cols-8.desktop\\:grid-cols-12.grid-container--fixed-desktop.general-layout_main__3tg3t > main > div > div.instrument-header_instrument-header__1SRl8.mb-5.bg-background-surface.tablet\\:grid.tablet\\:grid-cols-2 > div:nth-child(2) > div.instrument-price_instrument-price__3uw25.flex.items-end.flex-wrap.font-bold > span'\n",
    "dow = soup.select('span.text-2xl')[0].text\n",
    "dow = float(dow.replace(\",\", \"\"))\n",
    "dow"
   ]
  },
  {
   "cell_type": "code",
   "execution_count": null,
   "id": "82b176b1",
   "metadata": {},
   "outputs": [],
   "source": [
    "snp_url = 'https://www.investing.com/indices/us-spx-500'\n",
    "res = requests.get(snp_url)\n",
    "soup = bs(res.text, 'html.parser')\n",
    "snp = soup.select('span.text-2xl')[0].text\n",
    "snp = float(snp.replace(\",\", \"\"))\n",
    "snp"
   ]
  },
  {
   "cell_type": "markdown",
   "id": "8ed11bf3",
   "metadata": {},
   "source": [
    "삼성전자 투자자별"
   ]
  },
  {
   "cell_type": "code",
   "execution_count": null,
   "id": "16cc40cd",
   "metadata": {},
   "outputs": [],
   "source": [
    "path = 'body > table:nth-child(4) > tbody > tr > td > p:nth-child(6) > table > tbody > tr:nth-child(3) > td:nth-child(2)'"
   ]
  },
  {
   "cell_type": "code",
   "execution_count": null,
   "id": "a481c307",
   "metadata": {},
   "outputs": [],
   "source": [
    "ss_url = 'https://vip.mk.co.kr/newSt/price/trade.php?stCode=005930'\n",
    "res = requests.get(ss_url)\n",
    "soup = bs(res.text, 'html.parser')\n",
    "tables = soup.select('table')"
   ]
  },
  {
   "cell_type": "code",
   "execution_count": null,
   "id": "76885d4a",
   "metadata": {},
   "outputs": [],
   "source": [
    "body > table:nth-child(4) > tbody > tr > td > p:nth-child(6) > table > tbody > tr:nth-child(4) > td:nth-child(1) > font"
   ]
  },
  {
   "cell_type": "code",
   "execution_count": null,
   "id": "d48607cc",
   "metadata": {},
   "outputs": [],
   "source": [
    "res.text"
   ]
  },
  {
   "cell_type": "code",
   "execution_count": null,
   "id": "a13044b4",
   "metadata": {},
   "outputs": [],
   "source": [
    "df = pd.read_html('https://vip.mk.co.kr/newSt/price/trade.php?stCode=005930', header=0)[0]\n",
    "df.head()"
   ]
  },
  {
   "cell_type": "code",
   "execution_count": null,
   "id": "34a2080b",
   "metadata": {},
   "outputs": [],
   "source": [
    "tables[0]"
   ]
  },
  {
   "cell_type": "code",
   "execution_count": null,
   "id": "d334bfd1",
   "metadata": {},
   "outputs": [],
   "source": [
    "ss_url = 'https://vip.mk.co.kr/newSt/price/trade.php?stCode=005930'\n",
    "res = requests.get(ss_url)\n",
    "soup = bs(res.text, 'html.parser')\n",
    "tables = soup.select('tbody')\n",
    "\n",
    "# 현재 페이지에서 table 태그 모두 선택하기\n",
    "# tables = soup.select('table')\n",
    "\n",
    "# 하나의 테이블 태그 선택하기\n",
    "table = tables[0]"
   ]
  },
  {
   "cell_type": "code",
   "execution_count": null,
   "id": "ca8bf934",
   "metadata": {},
   "outputs": [],
   "source": []
  },
  {
   "cell_type": "code",
   "execution_count": null,
   "id": "e870bdc8",
   "metadata": {},
   "outputs": [],
   "source": [
    "tables[0]"
   ]
  },
  {
   "cell_type": "code",
   "execution_count": null,
   "id": "75e3ff0d",
   "metadata": {},
   "outputs": [],
   "source": [
    "\n",
    "\n",
    "# 테이블 html 정보를 문자열로 변경하기\n",
    "table_html = str(table)\n",
    "\n",
    "# 판다스의 read_html 로 테이블 정보 읽기\n",
    "table_df_list = pd.read_html(table_html, header=0, encoding='utf-8')\n",
    "\n",
    "# 데이터프레임 선택하기\n",
    "table_df = table_df_list[0]"
   ]
  },
  {
   "cell_type": "code",
   "execution_count": null,
   "id": "638ae91f",
   "metadata": {},
   "outputs": [],
   "source": [
    "table_df.head()"
   ]
  },
  {
   "cell_type": "code",
   "execution_count": null,
   "id": "6230c463",
   "metadata": {},
   "outputs": [],
   "source": [
    "df = pd.read_html('<table>' + str(table) + '</table>', encoding='euc-kr')[0]"
   ]
  },
  {
   "cell_type": "code",
   "execution_count": null,
   "id": "d87b850e",
   "metadata": {},
   "outputs": [],
   "source": [
    "df.head()"
   ]
  },
  {
   "cell_type": "code",
   "execution_count": null,
   "id": "3c4c533d",
   "metadata": {},
   "outputs": [],
   "source": []
  },
  {
   "cell_type": "code",
   "execution_count": null,
   "id": "88c7ce7d",
   "metadata": {},
   "outputs": [],
   "source": [
    "ss_url = 'https://vip.mk.co.kr/newSt/price/trade.php?stCode=005930'\n",
    "res = requests.get(ss_url)\n",
    "soup = bs(res.text, 'html.parser')\n",
    "tables = soup.select('tbody')\n",
    "\n",
    "# 현재 페이지에서 table 태그 모두 선택하기\n",
    "# tables = soup.select('table')\n",
    "\n",
    "# 하나의 테이블 태그 선택하기\n",
    "table = tables[0]"
   ]
  },
  {
   "cell_type": "code",
   "execution_count": null,
   "id": "cd26df3f",
   "metadata": {},
   "outputs": [],
   "source": [
    "ss_url = 'https://vip.mk.co.kr/newSt/price/trade.php?stCode=005930'"
   ]
  },
  {
   "cell_type": "code",
   "execution_count": null,
   "id": "c305e60d",
   "metadata": {},
   "outputs": [],
   "source": [
    "res = requests.get(ss_url)"
   ]
  },
  {
   "cell_type": "code",
   "execution_count": null,
   "id": "426706d8",
   "metadata": {},
   "outputs": [],
   "source": [
    "print(res.encoding)"
   ]
  },
  {
   "cell_type": "code",
   "execution_count": null,
   "id": "8ea885b4",
   "metadata": {},
   "outputs": [],
   "source": [
    "res.raise_for_status()"
   ]
  },
  {
   "cell_type": "code",
   "execution_count": null,
   "id": "b03f0ade",
   "metadata": {},
   "outputs": [],
   "source": [
    "res.encoding = 'euc-kr'"
   ]
  },
  {
   "cell_type": "code",
   "execution_count": null,
   "id": "95e9fc2f",
   "metadata": {},
   "outputs": [],
   "source": [
    "res.text"
   ]
  },
  {
   "cell_type": "code",
   "execution_count": null,
   "id": "e20889e5",
   "metadata": {},
   "outputs": [],
   "source": [
    "soup = bs(res.text, 'html.parser')"
   ]
  },
  {
   "cell_type": "code",
   "execution_count": null,
   "id": "87827185",
   "metadata": {},
   "outputs": [],
   "source": [
    "print(soup.prettify())"
   ]
  },
  {
   "cell_type": "code",
   "execution_count": null,
   "id": "3831ad3b",
   "metadata": {},
   "outputs": [],
   "source": [
    "tables = soup.select('table.content1')\n",
    "\n",
    "# 현재 페이지에서 table 태그 모두 선택하기\n",
    "# tables = soup.select('table')"
   ]
  },
  {
   "cell_type": "code",
   "execution_count": null,
   "id": "eea3e111",
   "metadata": {},
   "outputs": [],
   "source": [
    "tables"
   ]
  },
  {
   "cell_type": "code",
   "execution_count": null,
   "id": "9d142585",
   "metadata": {},
   "outputs": [],
   "source": [
    "# 하나의 테이블 태그 선택하기\n",
    "table = tables[0]"
   ]
  },
  {
   "cell_type": "code",
   "execution_count": null,
   "id": "ec777532",
   "metadata": {},
   "outputs": [],
   "source": [
    "df = pd.read_html('<table>' + str(table) + '</table>')\n",
    "# df = pd.read_html(str(table))"
   ]
  },
  {
   "cell_type": "code",
   "execution_count": null,
   "id": "bebb1d6a",
   "metadata": {},
   "outputs": [],
   "source": [
    "df"
   ]
  },
  {
   "cell_type": "code",
   "execution_count": null,
   "id": "6963a3f9",
   "metadata": {},
   "outputs": [],
   "source": []
  }
 ],
 "metadata": {
  "kernelspec": {
   "display_name": "Python 3",
   "language": "python",
   "name": "python3"
  },
  "language_info": {
   "codemirror_mode": {
    "name": "ipython",
    "version": 3
   },
   "file_extension": ".py",
   "mimetype": "text/x-python",
   "name": "python",
   "nbconvert_exporter": "python",
   "pygments_lexer": "ipython3",
   "version": "3.9.1"
  }
 },
 "nbformat": 4,
 "nbformat_minor": 5
}
