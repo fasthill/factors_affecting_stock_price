{
 "cells": [
  {
   "cell_type": "code",
   "execution_count": 1,
   "id": "c4660474",
   "metadata": {},
   "outputs": [],
   "source": [
    "from selenium import webdriver as wd\n",
    "from bs4 import BeautifulSoup as bs\n",
    "import requests\n",
    "import datetime, time\n",
    "from datetime import date\n",
    "\n",
    "import pandas as pd\n",
    "import numpy as np\n",
    "import re\n",
    "import os, sys"
   ]
  },
  {
   "cell_type": "code",
   "execution_count": null,
   "id": "1d7a0a89",
   "metadata": {},
   "outputs": [],
   "source": [
    "# !pip install chromedriver_autoinstaller\n",
    "\n",
    "import chromedriver_autoinstaller\n",
    "\n",
    "driver_name = chromedriver_autoinstaller.install()  # Check if the current version of chromedriver exists\n",
    "                                      # and if it doesn't exist, download it automatically,\n",
    "                                      # then add chromedriver to path\n",
    "time.sleep(1)\n",
    "\n",
    "driver = wd.Chrome(driver_name)"
   ]
  },
  {
   "cell_type": "code",
   "execution_count": null,
   "id": "3dbef8b9",
   "metadata": {},
   "outputs": [],
   "source": [
    "# driver.set_window_position(-10000,0) # hide windows\n",
    "main_url = 'https://kr.investing.com/'\n",
    "driver.get(main_url)\n",
    "time.sleep(1)"
   ]
  },
  {
   "cell_type": "code",
   "execution_count": null,
   "id": "2b3d262b",
   "metadata": {},
   "outputs": [],
   "source": [
    "driver.find_element_by_css_selector('#userAccount > div > a.login.bold').click() \n",
    "time.sleep(1)"
   ]
  },
  {
   "cell_type": "code",
   "execution_count": null,
   "id": "5e4c8c6e",
   "metadata": {},
   "outputs": [],
   "source": [
    "driver.find_element_by_id('loginForm_password').clear()\n",
    "driver.find_element_by_id('loginFormUser_email').send_keys('kangeun@naver.com')\n",
    "time.sleep(1)"
   ]
  },
  {
   "cell_type": "code",
   "execution_count": null,
   "id": "0a060429",
   "metadata": {},
   "outputs": [],
   "source": [
    "driver.find_element_by_id('loginForm_password').clear()\n",
    "driver.find_element_by_id('loginForm_password').send_keys(os.environ['investing_pass'])\n",
    "time.sleep(1)"
   ]
  },
  {
   "cell_type": "code",
   "execution_count": null,
   "id": "cdf7c123",
   "metadata": {},
   "outputs": [],
   "source": [
    "driver.find_element_by_css_selector('#signup > a.newButton.orange').click()  \n",
    "time.sleep(2)"
   ]
  },
  {
   "cell_type": "code",
   "execution_count": null,
   "id": "b27dd9b7",
   "metadata": {},
   "outputs": [],
   "source": [
    "cpi_url = 'https://kr.investing.com/economic-calendar/cpi-733'"
   ]
  },
  {
   "cell_type": "code",
   "execution_count": null,
   "id": "6c22dad7",
   "metadata": {},
   "outputs": [],
   "source": [
    "driver.get(cpi_url)"
   ]
  },
  {
   "cell_type": "code",
   "execution_count": null,
   "id": "82ad1f90",
   "metadata": {},
   "outputs": [],
   "source": [
    "for _ in range(3):  # 최근 데이터 3 pages\n",
    "    driver.find_element_by_id('showMoreHistory733').click()"
   ]
  },
  {
   "cell_type": "code",
   "execution_count": null,
   "id": "47e24196",
   "metadata": {},
   "outputs": [],
   "source": [
    "df = pd.read_html(driver.page_source)[0] # cpi dataframe"
   ]
  },
  {
   "cell_type": "code",
   "execution_count": null,
   "id": "1b36da94",
   "metadata": {},
   "outputs": [],
   "source": [
    "df.columns=  ['annouce_date', 'time', 'real_rate', 'anticipated_rate', 'prev_rate', 'none']"
   ]
  },
  {
   "cell_type": "code",
   "execution_count": null,
   "id": "dc5e5194",
   "metadata": {},
   "outputs": [],
   "source": [
    "for i, date in enumerate(df['annouce_date']):\n",
    "    y_m_d = re.findall(r'\\d+', date)\n",
    "    time = datetime.date(int(y_m_d[0]), int(y_m_d[1]), int(y_m_d[2]))\n",
    "    df.loc[i,'annouce_date'] = time"
   ]
  },
  {
   "cell_type": "code",
   "execution_count": null,
   "id": "2f8b598c",
   "metadata": {},
   "outputs": [],
   "source": [
    "for i, date in enumerate(df['time']):\n",
    "    time = datetime.time(int(date.split(':')[0]), int(date.split(':')[1]))\n",
    "    df.loc[i,'time'] = time"
   ]
  },
  {
   "cell_type": "code",
   "execution_count": null,
   "id": "6a325ccb",
   "metadata": {},
   "outputs": [],
   "source": [
    "df.to_csv('data/cpi_index_20220610.csv')"
   ]
  },
  {
   "cell_type": "code",
   "execution_count": null,
   "id": "f700f2e7",
   "metadata": {},
   "outputs": [],
   "source": [
    "# real_time_future_url = 'https://kr.investing.com/indices/indices-futures' # do not need\n",
    "# driver.get(real_time_future_url) # do not need"
   ]
  },
  {
   "cell_type": "code",
   "execution_count": null,
   "id": "c6111012",
   "metadata": {},
   "outputs": [],
   "source": []
  },
  {
   "cell_type": "markdown",
   "id": "8ed11bf3",
   "metadata": {},
   "source": [
    "삼성전자 투자자별"
   ]
  },
  {
   "cell_type": "code",
   "execution_count": null,
   "id": "16cc40cd",
   "metadata": {},
   "outputs": [],
   "source": [
    "path = 'body > table:nth-child(4) > tbody > tr > td > p:nth-child(6) > table > tbody > tr:nth-child(3) > td:nth-child(2)'"
   ]
  },
  {
   "cell_type": "code",
   "execution_count": null,
   "id": "a481c307",
   "metadata": {},
   "outputs": [],
   "source": [
    "ss_url = 'https://vip.mk.co.kr/newSt/price/trade.php?stCode=005930'\n",
    "res = requests.get(ss_url)\n",
    "soup = bs(res.text, 'html.parser')\n",
    "tables = soup.select('table')"
   ]
  },
  {
   "cell_type": "code",
   "execution_count": 12,
   "id": "76885d4a",
   "metadata": {},
   "outputs": [],
   "source": [
    "url = 'https://open.shinhaninvest.com/goodicyber/mk/1206.jsp?code=005930'\n",
    "df = pd.read_html(url,attrs={\"class\": \"content1\"})[0]\n",
    "df.columns = df.iloc[1] # column 명 변경\n",
    "df = df.drop([0,1]) # 필요없는 row 제거"
   ]
  },
  {
   "cell_type": "code",
   "execution_count": 13,
   "id": "known-fishing",
   "metadata": {},
   "outputs": [],
   "source": [
    "column_eng = ['date', 'retail', 'foreigner', 'institutional', \n",
    "               'security', 'investment_trust', 'bank', 'investment_bank', 'insurance', 'pension', 'others' ]"
   ]
  },
  {
   "cell_type": "code",
   "execution_count": 14,
   "id": "thrown-leisure",
   "metadata": {},
   "outputs": [],
   "source": [
    "column_kor = ['날짜', '개인', '외국인계', '기관계', '증권', '투신', '은행', '종금', '보험', '기금', '기타']"
   ]
  },
  {
   "cell_type": "code",
   "execution_count": 15,
   "id": "dietary-console",
   "metadata": {},
   "outputs": [
    {
     "data": {
      "text/html": [
       "<div>\n",
       "<style scoped>\n",
       "    .dataframe tbody tr th:only-of-type {\n",
       "        vertical-align: middle;\n",
       "    }\n",
       "\n",
       "    .dataframe tbody tr th {\n",
       "        vertical-align: top;\n",
       "    }\n",
       "\n",
       "    .dataframe thead th {\n",
       "        text-align: right;\n",
       "    }\n",
       "</style>\n",
       "<table border=\"1\" class=\"dataframe\">\n",
       "  <thead>\n",
       "    <tr style=\"text-align: right;\">\n",
       "      <th></th>\n",
       "      <th>date</th>\n",
       "      <th>retail</th>\n",
       "      <th>foreigner</th>\n",
       "      <th>institutional</th>\n",
       "      <th>security</th>\n",
       "      <th>investment_trust</th>\n",
       "      <th>bank</th>\n",
       "      <th>investment_bank</th>\n",
       "      <th>insurance</th>\n",
       "      <th>pension</th>\n",
       "      <th>others</th>\n",
       "    </tr>\n",
       "  </thead>\n",
       "  <tbody>\n",
       "    <tr>\n",
       "      <th>1</th>\n",
       "      <td>2022-06-23</td>\n",
       "      <td>-785554</td>\n",
       "      <td>-3928383</td>\n",
       "      <td>4836938</td>\n",
       "      <td>4976273</td>\n",
       "      <td>151143</td>\n",
       "      <td>-24565</td>\n",
       "      <td>-20473</td>\n",
       "      <td>67197</td>\n",
       "      <td>-346152</td>\n",
       "      <td>-118522</td>\n",
       "    </tr>\n",
       "    <tr>\n",
       "      <th>2</th>\n",
       "      <td>2022-06-22</td>\n",
       "      <td>1480399</td>\n",
       "      <td>-971531</td>\n",
       "      <td>-598567</td>\n",
       "      <td>-240082</td>\n",
       "      <td>-109552</td>\n",
       "      <td>-7126</td>\n",
       "      <td>-6347</td>\n",
       "      <td>-14555</td>\n",
       "      <td>-346018</td>\n",
       "      <td>84263</td>\n",
       "    </tr>\n",
       "    <tr>\n",
       "      <th>3</th>\n",
       "      <td>2022-06-21</td>\n",
       "      <td>1663413</td>\n",
       "      <td>-3696524</td>\n",
       "      <td>1928480</td>\n",
       "      <td>2405748</td>\n",
       "      <td>-140461</td>\n",
       "      <td>8387</td>\n",
       "      <td>301</td>\n",
       "      <td>-29463</td>\n",
       "      <td>-282837</td>\n",
       "      <td>111750</td>\n",
       "    </tr>\n",
       "    <tr>\n",
       "      <th>4</th>\n",
       "      <td>2022-06-20</td>\n",
       "      <td>2139454</td>\n",
       "      <td>-4429640</td>\n",
       "      <td>2236709</td>\n",
       "      <td>2336239</td>\n",
       "      <td>-28152</td>\n",
       "      <td>3399</td>\n",
       "      <td>26298</td>\n",
       "      <td>-5224</td>\n",
       "      <td>-61619</td>\n",
       "      <td>40158</td>\n",
       "    </tr>\n",
       "    <tr>\n",
       "      <th>5</th>\n",
       "      <td>2022-06-17</td>\n",
       "      <td>6494723</td>\n",
       "      <td>-7355651</td>\n",
       "      <td>612667</td>\n",
       "      <td>1764379</td>\n",
       "      <td>-453608</td>\n",
       "      <td>54668</td>\n",
       "      <td>24249</td>\n",
       "      <td>-114845</td>\n",
       "      <td>-473784</td>\n",
       "      <td>209737</td>\n",
       "    </tr>\n",
       "  </tbody>\n",
       "</table>\n",
       "</div>"
      ],
      "text/plain": [
       "         date   retail foreigner institutional security investment_trust  \\\n",
       "1  2022-06-23  -785554  -3928383       4836938  4976273           151143   \n",
       "2  2022-06-22  1480399   -971531       -598567  -240082          -109552   \n",
       "3  2022-06-21  1663413  -3696524       1928480  2405748          -140461   \n",
       "4  2022-06-20  2139454  -4429640       2236709  2336239           -28152   \n",
       "5  2022-06-17  6494723  -7355651        612667  1764379          -453608   \n",
       "\n",
       "     bank investment_bank insurance  pension   others  \n",
       "1  -24565          -20473     67197  -346152  -118522  \n",
       "2   -7126           -6347    -14555  -346018    84263  \n",
       "3    8387             301    -29463  -282837   111750  \n",
       "4    3399           26298     -5224   -61619    40158  \n",
       "5   54668           24249   -114845  -473784   209737  "
      ]
     },
     "execution_count": 15,
     "metadata": {},
     "output_type": "execute_result"
    }
   ],
   "source": [
    "df.columns = column_eng # replace with english column name\n",
    "df['date'] = df[\"date\"].apply(lambda x: datetime.datetime.strptime(x, \"%Y/%m/%d\").date())\n",
    "reindex = np.arange(1,len(df)+1) # index를 일련번호로 대체하기 위하여 index 생성\n",
    "df.index = reindex # 새로운 인덱스로 대체\n",
    "df.head()"
   ]
  },
  {
   "cell_type": "code",
   "execution_count": null,
   "id": "amino-collar",
   "metadata": {},
   "outputs": [],
   "source": [
    "reindex = np.arange(1,len(df)+1) # index를 일련번호로 대체하기 위하여 index 생성\n",
    "df.index = reindex # 새로운 인덱스로 대체\n",
    "df.head()"
   ]
  },
  {
   "cell_type": "code",
   "execution_count": null,
   "id": "tender-manchester",
   "metadata": {},
   "outputs": [],
   "source": [
    "def convert_to_datetime(date):\n",
    "    time = datetime.date(int(date.split('/')[0]), int(date.split('/')[1] int(date.split('/')[2]))"
   ]
  },
  {
   "cell_type": "code",
   "execution_count": null,
   "id": "authorized-yield",
   "metadata": {},
   "outputs": [],
   "source": [
    "time = datetime.date(int(y_m_d[0]), int(y_m_d[1]), int(y_m_d[2]))"
   ]
  },
  {
   "cell_type": "code",
   "execution_count": 11,
   "id": "moving-discharge",
   "metadata": {},
   "outputs": [
    {
     "data": {
      "text/plain": [
       "1     2022-06-23\n",
       "2     2022-06-22\n",
       "3     2022-06-21\n",
       "4     2022-06-20\n",
       "5     2022-06-17\n",
       "6     2022-06-16\n",
       "7     2022-06-15\n",
       "8     2022-06-14\n",
       "9     2022-06-13\n",
       "10    2022-06-10\n",
       "11    2022-06-09\n",
       "12    2022-06-08\n",
       "13    2022-06-07\n",
       "14    2022-06-03\n",
       "15    2022-06-02\n",
       "16    2022-05-31\n",
       "17    2022-05-30\n",
       "18    2022-05-27\n",
       "19    2022-05-26\n",
       "20    2022-05-25\n",
       "21    2022-05-24\n",
       "22    2022-05-23\n",
       "23    2022-05-20\n",
       "24    2022-05-19\n",
       "25    2022-05-18\n",
       "26    2022-05-17\n",
       "27    2022-05-16\n",
       "28    2022-05-13\n",
       "29    2022-05-12\n",
       "30    2022-05-11\n",
       "31    2022-05-10\n",
       "32    2022-05-09\n",
       "33    2022-05-06\n",
       "34    2022-05-04\n",
       "35    2022-05-03\n",
       "36    2022-05-02\n",
       "37    2022-04-29\n",
       "38    2022-04-28\n",
       "39    2022-04-27\n",
       "40    2022-04-26\n",
       "41    2022-04-25\n",
       "Name: date, dtype: object"
      ]
     },
     "execution_count": 11,
     "metadata": {},
     "output_type": "execute_result"
    }
   ],
   "source": [
    "df[\"date\"].apply(lambda x: datetime.datetime.strptime(x, \"%Y/%m/%d\").date())"
   ]
  },
  {
   "cell_type": "code",
   "execution_count": 10,
   "id": "perfect-venice",
   "metadata": {},
   "outputs": [
    {
     "name": "stdout",
     "output_type": "stream",
     "text": [
      "2022-06-07\n"
     ]
    }
   ],
   "source": [
    "print(datetime.datetime.strptime('2022/06/07', \"%Y/%m/%d\").date())"
   ]
  },
  {
   "cell_type": "code",
   "execution_count": null,
   "id": "present-procedure",
   "metadata": {},
   "outputs": [],
   "source": [
    "df = pd.read_html('https://vip.mk.co.kr/newSt/price/trade.php?stCode=005930', attrs={\"class\": \"content1\"}, flavor=[\"lxml\", \"bs4\"])"
   ]
  },
  {
   "cell_type": "code",
   "execution_count": null,
   "id": "42bd1833",
   "metadata": {},
   "outputs": [],
   "source": [
    "df = pd.read_html('https://open.shinhaninvest.com/goodicyber/mk/1206.jsp?code=005930')\n",
    "len(df)"
   ]
  },
  {
   "cell_type": "code",
   "execution_count": null,
   "id": "a218f6f0",
   "metadata": {},
   "outputs": [],
   "source": [
    "df[7]"
   ]
  },
  {
   "cell_type": "code",
   "execution_count": null,
   "id": "49476ecc",
   "metadata": {},
   "outputs": [],
   "source": [
    "# 현대차 005830, 네이버 035420, KT&G 033780, "
   ]
  },
  {
   "cell_type": "code",
   "execution_count": null,
   "id": "e79d8d5a",
   "metadata": {},
   "outputs": [],
   "source": [
    "df = pd.read_html('https://open.shinhaninvest.com/goodicyber/mk/1206.jsp?code=005930')\n",
    "df[7].to_csv('data/samsung_invester_from-420.csv')"
   ]
  },
  {
   "cell_type": "code",
   "execution_count": null,
   "id": "3b0c26f8",
   "metadata": {},
   "outputs": [],
   "source": [
    "df = pd.read_html('https://open.shinhaninvest.com/goodicyber/mk/1206.jsp?code=005830')\n",
    "df[7].to_csv('data/hyuncar_invester_from-420.csv')"
   ]
  },
  {
   "cell_type": "code",
   "execution_count": null,
   "id": "4d7f6040",
   "metadata": {},
   "outputs": [],
   "source": [
    "df = pd.read_html('https://open.shinhaninvest.com/goodicyber/mk/1206.jsp?code=035420')\n",
    "df[7].to_csv('data/naver_invester_from-420.csv')"
   ]
  },
  {
   "cell_type": "code",
   "execution_count": null,
   "id": "b0faccb7",
   "metadata": {},
   "outputs": [],
   "source": [
    "df = pd.read_html('https://open.shinhaninvest.com/goodicyber/mk/1206.jsp?code=033780')\n",
    "df[7].to_csv('data/ktng_invester_from-420.csv')"
   ]
  },
  {
   "cell_type": "code",
   "execution_count": null,
   "id": "1ac20c99",
   "metadata": {},
   "outputs": [],
   "source": []
  },
  {
   "cell_type": "code",
   "execution_count": null,
   "id": "e19f7e1c",
   "metadata": {},
   "outputs": [],
   "source": [
    "df = pd.read_html('https://vip.mk.co.kr/newSt/price/minprice.php?type=10&stCode=005930&p_page=1')\n",
    "df1 = df[10]"
   ]
  },
  {
   "cell_type": "code",
   "execution_count": null,
   "id": "5bcc9605",
   "metadata": {},
   "outputs": [],
   "source": [
    "df = pd.read_html('https://vip.mk.co.kr/newSt/price/minprice.php?type=10&stCode=005930&p_page=2')\n",
    "df1 = df1.append(df[10])"
   ]
  },
  {
   "cell_type": "code",
   "execution_count": null,
   "id": "ab0d7b8f",
   "metadata": {},
   "outputs": [],
   "source": [
    "df = pd.read_html('https://vip.mk.co.kr/newSt/price/minprice.php?type=10&stCode=005930&p_page=3')\n",
    "df1 = df1.append(df[10])"
   ]
  },
  {
   "cell_type": "code",
   "execution_count": null,
   "id": "d459bcba",
   "metadata": {
    "scrolled": true
   },
   "outputs": [],
   "source": [
    "df1"
   ]
  },
  {
   "cell_type": "code",
   "execution_count": null,
   "id": "87e36500",
   "metadata": {},
   "outputs": [],
   "source": [
    "for i in range(3):\n",
    "    print(i)\n",
    "    str1 = str(i+1)\n",
    "    url = 'https://vip.mk.co.kr/newSt/price/minprice.php?type=10&stCode=005930&p_page='+str1\n",
    "    print(url)\n",
    "    df = pd.read_html(url)\n",
    "    if i == 0 :\n",
    "        df1 = df[10]\n",
    "    else:\n",
    "        df1 = df1.append(df[10])"
   ]
  },
  {
   "cell_type": "code",
   "execution_count": null,
   "id": "285a6900",
   "metadata": {},
   "outputs": [],
   "source": [
    "df1.to_csv('data/samsung_10min_price_from-420.csv')"
   ]
  },
  {
   "cell_type": "code",
   "execution_count": null,
   "id": "32699da2",
   "metadata": {},
   "outputs": [],
   "source": [
    "for i in range(3):\n",
    "    print(i)\n",
    "    str1 = str(i+1)\n",
    "    url = 'https://vip.mk.co.kr/newSt/price/minprice.php?type=10&stCode=005830&p_page='+str1\n",
    "    print(url)\n",
    "    df = pd.read_html(url)\n",
    "    if i == 0 :\n",
    "        df1 = df[10]\n",
    "    else:\n",
    "        df1 = df1.append(df[10])"
   ]
  },
  {
   "cell_type": "code",
   "execution_count": null,
   "id": "7866c802",
   "metadata": {},
   "outputs": [],
   "source": [
    "df1.to_csv('data/hyuncar_10min_price_from-420.csv')"
   ]
  },
  {
   "cell_type": "code",
   "execution_count": null,
   "id": "f1906e9d",
   "metadata": {},
   "outputs": [],
   "source": [
    "for i in range(3):\n",
    "    print(i)\n",
    "    str1 = str(i+1)\n",
    "    url = 'https://vip.mk.co.kr/newSt/price/minprice.php?type=10&stCode=035420&p_page='+str1\n",
    "    print(url)\n",
    "    df = pd.read_html(url)\n",
    "    if i == 0 :\n",
    "        df1 = df[10]\n",
    "    else:\n",
    "        df1 = df1.append(df[10])"
   ]
  },
  {
   "cell_type": "code",
   "execution_count": null,
   "id": "c2ee6dfa",
   "metadata": {},
   "outputs": [],
   "source": [
    "df1.to_csv('data/naver_10min_price_from-420.csv')"
   ]
  },
  {
   "cell_type": "code",
   "execution_count": null,
   "id": "f3ccc1bf",
   "metadata": {},
   "outputs": [],
   "source": [
    "for i in range(3):\n",
    "    print(i)\n",
    "    str1 = str(i+1)\n",
    "    url = 'https://vip.mk.co.kr/newSt/price/minprice.php?type=10&stCode=033780&p_page='+str1\n",
    "    print(url)\n",
    "    df = pd.read_html(url)\n",
    "    if i == 0 :\n",
    "        df1 = df[10]\n",
    "    else:\n",
    "        df1 = df1.append(df[10])"
   ]
  },
  {
   "cell_type": "code",
   "execution_count": null,
   "id": "33fb08fc",
   "metadata": {},
   "outputs": [],
   "source": [
    "df1.to_csv('data/ktng_10min_price_from-420.csv')"
   ]
  },
  {
   "cell_type": "code",
   "execution_count": null,
   "id": "64c7f00b",
   "metadata": {},
   "outputs": [],
   "source": []
  },
  {
   "cell_type": "code",
   "execution_count": null,
   "id": "6f38ea2f",
   "metadata": {},
   "outputs": [],
   "source": [
    "df1"
   ]
  },
  {
   "cell_type": "code",
   "execution_count": null,
   "id": "23f5f89c",
   "metadata": {},
   "outputs": [],
   "source": []
  },
  {
   "cell_type": "code",
   "execution_count": null,
   "id": "904e5ac1",
   "metadata": {},
   "outputs": [],
   "source": []
  },
  {
   "cell_type": "code",
   "execution_count": null,
   "id": "3b70853a",
   "metadata": {},
   "outputs": [],
   "source": []
  },
  {
   "cell_type": "code",
   "execution_count": null,
   "id": "b43313ab",
   "metadata": {},
   "outputs": [],
   "source": []
  },
  {
   "cell_type": "code",
   "execution_count": null,
   "id": "8ad00140",
   "metadata": {},
   "outputs": [],
   "source": []
  },
  {
   "cell_type": "code",
   "execution_count": null,
   "id": "c3a44ceb",
   "metadata": {},
   "outputs": [],
   "source": [
    "df1.to_csv('data/samsung_10min_price_from-420.csv')"
   ]
  },
  {
   "cell_type": "code",
   "execution_count": null,
   "id": "d5651137",
   "metadata": {},
   "outputs": [],
   "source": [
    "str1 = str(0+1)\n",
    "str1\n"
   ]
  },
  {
   "cell_type": "code",
   "execution_count": null,
   "id": "69dcea74",
   "metadata": {},
   "outputs": [],
   "source": [
    "for i in range(df):\n",
    "    i"
   ]
  },
  {
   "cell_type": "code",
   "execution_count": null,
   "id": "63ba5036",
   "metadata": {},
   "outputs": [],
   "source": [
    "df1"
   ]
  },
  {
   "cell_type": "code",
   "execution_count": null,
   "id": "b6748d33",
   "metadata": {},
   "outputs": [],
   "source": []
  },
  {
   "cell_type": "code",
   "execution_count": null,
   "id": "b26777f8",
   "metadata": {},
   "outputs": [],
   "source": []
  },
  {
   "cell_type": "code",
   "execution_count": null,
   "id": "30e4a015",
   "metadata": {},
   "outputs": [],
   "source": []
  },
  {
   "cell_type": "code",
   "execution_count": null,
   "id": "d48607cc",
   "metadata": {},
   "outputs": [],
   "source": [
    "for i in range(len(df)):\n",
    "    print(i, df[i])"
   ]
  },
  {
   "cell_type": "code",
   "execution_count": null,
   "id": "a13044b4",
   "metadata": {},
   "outputs": [],
   "source": [
    "df = pd.read_html('https://vip.mk.co.kr/newSt/price/trade.php?stCode=005930', header=0)[0]\n",
    "df.head()"
   ]
  },
  {
   "cell_type": "code",
   "execution_count": null,
   "id": "34a2080b",
   "metadata": {},
   "outputs": [],
   "source": [
    "tables[0]"
   ]
  },
  {
   "cell_type": "code",
   "execution_count": null,
   "id": "d334bfd1",
   "metadata": {},
   "outputs": [],
   "source": [
    "ss_url = 'https://vip.mk.co.kr/newSt/price/trade.php?stCode=005930'\n",
    "res = requests.get(ss_url)\n",
    "soup = bs(res.text, 'html.parser')\n",
    "tables = soup.select('tbody')\n",
    "\n",
    "# 현재 페이지에서 table 태그 모두 선택하기\n",
    "# tables = soup.select('table')\n",
    "\n",
    "# 하나의 테이블 태그 선택하기\n",
    "table = tables[0]"
   ]
  },
  {
   "cell_type": "code",
   "execution_count": null,
   "id": "ca8bf934",
   "metadata": {},
   "outputs": [],
   "source": []
  },
  {
   "cell_type": "code",
   "execution_count": null,
   "id": "e870bdc8",
   "metadata": {},
   "outputs": [],
   "source": [
    "tables[0]"
   ]
  },
  {
   "cell_type": "code",
   "execution_count": null,
   "id": "75e3ff0d",
   "metadata": {},
   "outputs": [],
   "source": [
    "\n",
    "\n",
    "# 테이블 html 정보를 문자열로 변경하기\n",
    "table_html = str(table)\n",
    "\n",
    "# 판다스의 read_html 로 테이블 정보 읽기\n",
    "table_df_list = pd.read_html(table_html, header=0, encoding='utf-8')\n",
    "\n",
    "# 데이터프레임 선택하기\n",
    "table_df = table_df_list[0]"
   ]
  },
  {
   "cell_type": "code",
   "execution_count": null,
   "id": "638ae91f",
   "metadata": {},
   "outputs": [],
   "source": [
    "table_df.head()"
   ]
  },
  {
   "cell_type": "code",
   "execution_count": null,
   "id": "6230c463",
   "metadata": {},
   "outputs": [],
   "source": [
    "df = pd.read_html('<table>' + str(table) + '</table>', encoding='euc-kr')[0]"
   ]
  },
  {
   "cell_type": "code",
   "execution_count": null,
   "id": "d87b850e",
   "metadata": {},
   "outputs": [],
   "source": [
    "df.head()"
   ]
  },
  {
   "cell_type": "code",
   "execution_count": null,
   "id": "3c4c533d",
   "metadata": {},
   "outputs": [],
   "source": []
  },
  {
   "cell_type": "code",
   "execution_count": null,
   "id": "88c7ce7d",
   "metadata": {},
   "outputs": [],
   "source": [
    "ss_url = 'https://vip.mk.co.kr/newSt/price/trade.php?stCode=005930'\n",
    "res = requests.get(ss_url)\n",
    "soup = bs(res.text, 'html.parser')\n",
    "tables = soup.select('tbody')\n",
    "\n",
    "# 현재 페이지에서 table 태그 모두 선택하기\n",
    "# tables = soup.select('table')\n",
    "\n",
    "# 하나의 테이블 태그 선택하기\n",
    "table = tables[0]"
   ]
  },
  {
   "cell_type": "code",
   "execution_count": null,
   "id": "cd26df3f",
   "metadata": {},
   "outputs": [],
   "source": [
    "ss_url = 'https://vip.mk.co.kr/newSt/price/trade.php?stCode=005930'"
   ]
  },
  {
   "cell_type": "code",
   "execution_count": null,
   "id": "c305e60d",
   "metadata": {},
   "outputs": [],
   "source": [
    "res = requests.get(ss_url)"
   ]
  },
  {
   "cell_type": "code",
   "execution_count": null,
   "id": "426706d8",
   "metadata": {},
   "outputs": [],
   "source": [
    "print(res.encoding)"
   ]
  },
  {
   "cell_type": "code",
   "execution_count": null,
   "id": "8ea885b4",
   "metadata": {},
   "outputs": [],
   "source": [
    "res.raise_for_status()"
   ]
  },
  {
   "cell_type": "code",
   "execution_count": null,
   "id": "b03f0ade",
   "metadata": {},
   "outputs": [],
   "source": [
    "res.encoding = 'euc-kr'"
   ]
  },
  {
   "cell_type": "code",
   "execution_count": null,
   "id": "95e9fc2f",
   "metadata": {},
   "outputs": [],
   "source": [
    "res.text"
   ]
  },
  {
   "cell_type": "code",
   "execution_count": null,
   "id": "e20889e5",
   "metadata": {},
   "outputs": [],
   "source": [
    "soup = bs(res.text, 'html.parser')"
   ]
  },
  {
   "cell_type": "code",
   "execution_count": null,
   "id": "87827185",
   "metadata": {},
   "outputs": [],
   "source": [
    "print(soup.prettify())"
   ]
  },
  {
   "cell_type": "code",
   "execution_count": null,
   "id": "3831ad3b",
   "metadata": {},
   "outputs": [],
   "source": [
    "tables = soup.select('table.content1')\n",
    "\n",
    "# 현재 페이지에서 table 태그 모두 선택하기\n",
    "# tables = soup.select('table')"
   ]
  },
  {
   "cell_type": "code",
   "execution_count": null,
   "id": "eea3e111",
   "metadata": {},
   "outputs": [],
   "source": [
    "tables"
   ]
  },
  {
   "cell_type": "code",
   "execution_count": null,
   "id": "9d142585",
   "metadata": {},
   "outputs": [],
   "source": [
    "# 하나의 테이블 태그 선택하기\n",
    "table = tables[0]"
   ]
  },
  {
   "cell_type": "code",
   "execution_count": null,
   "id": "ec777532",
   "metadata": {},
   "outputs": [],
   "source": [
    "df = pd.read_html('<table>' + str(table) + '</table>')\n",
    "# df = pd.read_html(str(table))"
   ]
  },
  {
   "cell_type": "code",
   "execution_count": null,
   "id": "bebb1d6a",
   "metadata": {},
   "outputs": [],
   "source": [
    "df"
   ]
  },
  {
   "cell_type": "code",
   "execution_count": null,
   "id": "88fbaead",
   "metadata": {},
   "outputs": [],
   "source": [
    "from urllib.parse import urlparse\n",
    "from urllib.parse import parse_qs"
   ]
  },
  {
   "cell_type": "code",
   "execution_count": null,
   "id": "9ba6c604",
   "metadata": {},
   "outputs": [],
   "source": [
    "url = 'https://open.shinhaninvest.com/goodicyber/mk/1206.jsp?code=005930'"
   ]
  },
  {
   "cell_type": "code",
   "execution_count": null,
   "id": "129537e1",
   "metadata": {},
   "outputs": [],
   "source": [
    "parsed_url = urlparse(url)"
   ]
  },
  {
   "cell_type": "code",
   "execution_count": null,
   "id": "2c696a76",
   "metadata": {},
   "outputs": [],
   "source": [
    "captured_value = parse_qs(parsed_url.query)['code'][0]"
   ]
  },
  {
   "cell_type": "code",
   "execution_count": null,
   "id": "fb17c712",
   "metadata": {},
   "outputs": [],
   "source": [
    "print(captured_value)"
   ]
  },
  {
   "cell_type": "code",
   "execution_count": null,
   "id": "579f0a46",
   "metadata": {},
   "outputs": [],
   "source": [
    "payload = {\"code\":\"005380\"}\n",
    "page = requests.get(\"https://open.shinhaninvest.com/goodicyber/mk/1206.jsp?\", params=payload).text\n",
    "\n",
    "print(page)"
   ]
  },
  {
   "cell_type": "code",
   "execution_count": null,
   "id": "222f35da",
   "metadata": {},
   "outputs": [],
   "source": [
    "driver.quit()\n",
    "driver.close()"
   ]
  }
 ],
 "metadata": {
  "kernelspec": {
   "display_name": "Python 3 (ipykernel)",
   "language": "python",
   "name": "python3"
  },
  "language_info": {
   "codemirror_mode": {
    "name": "ipython",
    "version": 3
   },
   "file_extension": ".py",
   "mimetype": "text/x-python",
   "name": "python",
   "nbconvert_exporter": "python",
   "pygments_lexer": "ipython3",
   "version": "3.9.1"
  }
 },
 "nbformat": 4,
 "nbformat_minor": 5
}
