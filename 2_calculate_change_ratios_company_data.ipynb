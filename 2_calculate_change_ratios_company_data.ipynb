{
 "cells": [
  {
   "cell_type": "markdown",
   "id": "f051084f",
   "metadata": {},
   "source": [
    "## combine change ratios for company data\n",
    "#### investors, historical(매일 거래량 등) and 분류항목 합치기"
   ]
  },
  {
   "cell_type": "code",
   "execution_count": 1,
   "id": "b930a6de",
   "metadata": {},
   "outputs": [],
   "source": [
    "import datetime\n",
    "import time\n",
    "from datetime import date\n",
    "import os\n",
    "import sys\n",
    "\n",
    "import pandas as pd\n",
    "import numpy as np\n",
    "\n",
    "from sklearn.preprocessing import StandardScaler"
   ]
  },
  {
   "cell_type": "code",
   "execution_count": 2,
   "id": "1d31bc06",
   "metadata": {},
   "outputs": [],
   "source": [
    "module_path = os.path.abspath(os.path.join('.')) \n",
    "sys.path.append(module_path+\"\\\\data\\\\constant\")\n",
    "\n",
    "from constants import COMPANY_CODE"
   ]
  },
  {
   "cell_type": "code",
   "execution_count": 3,
   "id": "32e39701-5aea-4e54-a765-3ede5333a07e",
   "metadata": {},
   "outputs": [],
   "source": [
    "# pd.options.mode.copy_on_write = True  # How to enable CoW, remove warning message"
   ]
  },
  {
   "cell_type": "code",
   "execution_count": 4,
   "id": "7975e74e",
   "metadata": {},
   "outputs": [],
   "source": [
    "global previous_days, opening_days_filter"
   ]
  },
  {
   "cell_type": "code",
   "execution_count": 5,
   "id": "cf12fe6a",
   "metadata": {},
   "outputs": [],
   "source": [
    "# 거래일과 거래일 바로 이전일의 변화율을 계산함.\n",
    "def find_ratio(df_o, date_current):\n",
    "    df_o_trans = df_o.transpose()\n",
    "    df_o_trans.columns = ['before', 'after']\n",
    "\n",
    "    # print(df_o_trans)\n",
    "    df_o_trans = df_o_trans.astype('float64')  # pandas 3.0 부터 발생되는 에러를 방지하기 위한 type 일치 시키기 위하여 진행. == 1e-20\n",
    "    df_o_temp = df_o_trans[df_o_trans['before'] == 0. ]\n",
    "    df_o_temp.loc[:, 'before'] = 1e-20  # 0으로 나누는 것을 예외로 두기 위하여 작은 숫자로 대체\n",
    "    df_o_trans.loc[df_o_trans['before'] == 0., 'before'] = df_o_temp['before']\n",
    "\n",
    "    df_o_trans[date_current] = (df_o_trans['after'] - df_o_trans['before']) / df_o_trans['before']\n",
    "    df_o_trans[date_current] = df_o_trans[date_current].apply(lambda x: float(f'{x:.5f}')) # 5 소수점까지\n",
    "    df_o_trans[date_current] = df_o_trans[date_current].apply(lambda x: np.inf if x > 1e+10 else -np.inf if x < -1e+10 else x)\n",
    "    # -inf, +inf로 대체함.\n",
    "    return df_o_trans.transpose()"
   ]
  },
  {
   "cell_type": "code",
   "execution_count": 6,
   "id": "26f6c983",
   "metadata": {},
   "outputs": [],
   "source": [
    "# 변화율(historical, investors), weekday를 계산하고 합하여 return함\n",
    "def combine_data(opening_days_filter, df_inv, df_his):\n",
    "    # df_inv : df_investor, df_his: df_historical\n",
    "    investor_rate = pd.DataFrame()\n",
    "    historical_rate = pd.DataFrame()\n",
    "    date_weekday = pd.DataFrame()\n",
    "    \n",
    "    skip_num = 4 # -3 거래일전(-1 & -2 비교와 -1 & -3 비료)까지 계산하기 위하여 계산 시작은 4일째부터 시작\n",
    "\n",
    "    for date_current in opening_days_filter[skip_num:]:\n",
    "            \n",
    "        date_previous_c = previous_days[0][date_current] # 이전 거래일(-1) 찾기\n",
    "\n",
    "        # 거래 전날 요일 구하기 -------------------\n",
    "        date_temp = {'date': date_current, 'weekday' : date_previous_c.weekday()}\n",
    "        df_temp = pd.DataFrame(date_temp, index=[0]).set_index('date')\n",
    "        date_weekday = pd.concat([date_weekday, df_temp], axis=0)\n",
    "        # -----------------------------------------------\n",
    "        \n",
    "        # 거래 전날, 전전날을 확인하고 변화정도 계산하기(find_ratio)\n",
    "        date_previous_1 = previous_days[0][date_previous_c]\n",
    "        df_inv_comp_1 = df_inv.loc[[date_previous_1, date_previous_c]]\n",
    "        df_his_comp_1 = df_his.loc[[date_previous_1, date_previous_c]]\n",
    "    \n",
    "    \n",
    "        # 거래 전전일(-2일) 날짜 구하기\n",
    "        date_previous_2 = previous_days[0][date_previous_1]\n",
    "        # 거래 전전날(-2일째) 요일 구하기  -- 2일전 요일은 의미 없을 것 같아서 추가하지 않음.\n",
    "#         date_temp_2 = {'date': date_current, 'weekday' : date_previous_2.weekday()}\n",
    "#         df_temp_2 = pd.DataFrame(date_temp_2, index=[0]).set_index('date')\n",
    "#         date_weekday = pd.concat([date_weekday, df_temp_2], axis=0)\n",
    "        # 거래 전날(-1일), 전전날(-3일)을 확인하고 변화정도 계산하기(find_ratio)\n",
    "        df_inv_comp_2 = df_inv.loc[[date_previous_2, date_previous_c]]\n",
    "        df_his_comp_2 = df_his.loc[[date_previous_2, date_previous_c]]\n",
    "            \n",
    "        # 전날 -전전날 ratio, 전날 - 전전전날 ratio, column확대\n",
    "        df_inv_concat_2 = pd.concat([find_ratio(df_inv_comp_1, date_current).iloc[[-1]],\n",
    "                                 find_ratio(df_inv_comp_2, date_current).iloc[[-1]]], axis=1)\n",
    "        df_his_concat_2 = pd.concat([find_ratio(df_his_comp_1, date_current).iloc[[-1]],\n",
    "                                 find_ratio(df_his_comp_2, date_current).iloc[[-1]]], axis=1)\n",
    "        \n",
    "        investor_rate = pd.concat([investor_rate,  df_inv_concat_2], axis=0)\n",
    "        historical_rate = pd.concat([historical_rate, df_his_concat_2], axis=0)\n",
    "\n",
    "    total = pd.concat([investor_rate, historical_rate, date_weekday], axis=1)\n",
    "\n",
    "    return total"
   ]
  },
  {
   "cell_type": "code",
   "execution_count": 7,
   "id": "067ca0a2",
   "metadata": {},
   "outputs": [],
   "source": [
    "# 개장일(date)과 이전 개장일(date_p1), 이전이전 개장일(date_p2)을 dict로 구성\n",
    "def get_previous_days():\n",
    "    base_data_directory = './data/base_data/stock_market_holydays/'\n",
    "    opening_days_kor = pd.read_pickle(base_data_directory+'opening_days_kor.pkl') # 한국 개장일 데이터 \n",
    "    df = pd.DataFrame(opening_days_kor)\n",
    "    df['date_1'] = df['date'].shift(1)\n",
    "    df['date_2'] = df['date'].shift(2)\n",
    "    df['date_3'] = df['date'].shift(3)\n",
    "    c_p1_dict = df.set_index('date').to_dict()['date_1'] # date로 date_p1 찾기\n",
    "    c_p2_dict = df.set_index('date').to_dict()['date_2'] # date로 date_p2 찾기\n",
    "    p1_c_dict = df.set_index('date_1').to_dict()['date'] # date_p1로 date 찾기\n",
    "    p2_c_dict = df.set_index('date_2').to_dict()['date'] # date_p2로 date 찾기\n",
    "    return c_p1_dict, c_p2_dict, p1_c_dict, p2_c_dict"
   ]
  },
  {
   "cell_type": "code",
   "execution_count": 8,
   "id": "a1f53561",
   "metadata": {},
   "outputs": [],
   "source": [
    "code = COMPANY_CODE\n",
    "\n",
    "# code = {'005930': ['삼성전자', 'sec'], '005380': ['현대차', 'hyunmotor'],\n",
    "#                  '035420': ['NAVER', 'naver'], '033780': ['KT&G', 'ktng']}\n",
    "# code = {'005930': ['삼성전자', 'sec'], '000660': ['SK하이닉스', 'skhynix']}\n",
    "# code = {'302440': ['SK바이오사이언스', 'skbio']}"
   ]
  },
  {
   "cell_type": "code",
   "execution_count": 9,
   "id": "587a0f91",
   "metadata": {},
   "outputs": [],
   "source": [
    "# hist_column = [ 'date', 'open', 'high', 'low', 'close', 'close_cr', 'vol']\n",
    "hist_column_m = [ 'date', 'open', 'high', 'low', 'close', 'vol'] # close_cr 제외하고 사용. divided by zero 회피용"
   ]
  },
  {
   "cell_type": "code",
   "execution_count": 10,
   "id": "e8fe2eb9",
   "metadata": {},
   "outputs": [],
   "source": [
    "# get stock market opening days\n",
    "previous_days = get_previous_days()\n",
    "opening_days_kor = list(previous_days[0].keys())"
   ]
  },
  {
   "cell_type": "code",
   "execution_count": 11,
   "id": "cd6fdbc3",
   "metadata": {},
   "outputs": [],
   "source": [
    "def find_start_date(df_investors_temp):\n",
    "    start_date = datetime.date(2022, 1, 1) # 2022년 01월 01일 자료 있음. 추후 이전날짜 추가시 수정 필요\n",
    "    for i in range(0, 360):\n",
    "        sd_com = df_investors_temp['retail'].iloc[i]\n",
    "        if sd_com != 0:\n",
    "            start_date_com = df_investors_temp['date'].iloc[i] # 투자자별 자료가 있는 시작 날짜\n",
    "            break\n",
    "            \n",
    "    if start_date <= start_date_com :\n",
    "        return start_date_com\n",
    "    else:\n",
    "        return start_date"
   ]
  },
  {
   "cell_type": "code",
   "execution_count": 12,
   "id": "db369155",
   "metadata": {},
   "outputs": [],
   "source": [
    "def is_opening_day(opening_day, date):\n",
    "    if date in opening_day:\n",
    "        return True\n",
    "    else:\n",
    "        return False"
   ]
  },
  {
   "cell_type": "code",
   "execution_count": 13,
   "id": "45c33363",
   "metadata": {},
   "outputs": [],
   "source": [
    "def get_previous_opening_day(opening_day, date):\n",
    "    if date in opening_day:\n",
    "        id = opening_day.index(date)\n",
    "        return opening_day[id-1]\n",
    "    else:\n",
    "        p_date = date\n",
    "        for _ in opening_day:\n",
    "            p_date = p_date + datetime.timedelta(days=-1)\n",
    "            if p_date in opening_day:\n",
    "                return p_date\n",
    "    raise(\"the date is not in the opening day\")"
   ]
  },
  {
   "cell_type": "code",
   "execution_count": 14,
   "id": "f0048974",
   "metadata": {},
   "outputs": [],
   "source": [
    "# dd = datetime.date(2021,3,10)\n",
    "# is_opening_day(opening_days_kor, dd)"
   ]
  },
  {
   "cell_type": "code",
   "execution_count": 15,
   "id": "00661857",
   "metadata": {},
   "outputs": [],
   "source": [
    "# get_previous_opening_day(opening_days_kor, dd)"
   ]
  },
  {
   "cell_type": "code",
   "execution_count": 16,
   "id": "7fb1a384",
   "metadata": {},
   "outputs": [],
   "source": [
    "# opening_days_kor"
   ]
  },
  {
   "cell_type": "code",
   "execution_count": 17,
   "id": "6f8615f8",
   "metadata": {
    "scrolled": true
   },
   "outputs": [
    {
     "name": "stdout",
     "output_type": "stream",
     "text": [
      "sec 1/52, lgenergy 2/52, skhynix 3/52, ssbio 4/52, sdi 5/52, lgchemical 6/52, secpre 7/52, hyunmotor 8/52, naver 9/52, kia 10/52, kakao 11/52, poscoholding 12/52, kbbank 13/52, sscnt 14/52, celltrion 15/52, mobis 16/52, shgroup 17/52, lgelec 18/52, poscochemical 19/52, skinnovation 20/52, ktng 21/52, kt 22/52, lg 23/52, sk 24/52, sslife 25/52, hana 26/52, sselec 27/52, koreaelec 28/52, doosanener 29/52, koreazinc 30/52, sktelecom 31/52, hmm 32/52, ssfire 33/52, lglife 34/52, soil 35/52, crafton 36/52, sds 37/52, hhi 38/52, koreanair 39/52, ncsoft 40/52, hanhwasol 41/52, woorifg 42/52, amore 43/52, lottechem 44/52, ibk 45/52, meritz 46/52, kakaopay 47/52, lginnotek 48/52, ssengineering 49/52, skietech 50/52, glovis 51/52, skbio 52/52, "
     ]
    }
   ],
   "source": [
    "# investor.pkl, historical.pkl. 읽기\n",
    "\n",
    "directory_for_predict = './data/data_for_ml/predict/'\n",
    "historical_pkl_directory = './data/company_pkl/historical_data/'\n",
    "investors_pkl_directory = './data/company_pkl/investors_data/'\n",
    "modi_pkl_directory = './data/company_pkl/'\n",
    "# base_data_directory = './data/base_data/stock_market_holydays/'\n",
    "# opening_days_kor = pd.read_pickle(base_data_directory+'opening_days_kor.pkl') # 한국 개장일 데이터 \n",
    "modification_time_his = pd.read_pickle(modi_pkl_directory + 'modification_time_company_his.pkl')\n",
    "modification_time_inv = pd.read_pickle(modi_pkl_directory + 'modification_time_company_inv.pkl')\n",
    "\n",
    "total = len(code)\n",
    "\n",
    "for i, (key, val) in enumerate(code.items()):\n",
    " \n",
    "    pkl_name= '{}_historical.pkl'.format(val[1])\n",
    "    df_historical_temp = pd.read_pickle(historical_pkl_directory + pkl_name)\n",
    "    df_historical_temp = df_historical_temp[hist_column_m]\n",
    "    \n",
    "    # ---------historical 데이터 취득 날짜 시간 확인-------   \n",
    "    dt_m_his = modification_time_his.loc[pkl_name].iloc[0] \n",
    "    # print(\"ppp\", modification_time_his.loc[pkl_name])\n",
    "    # print(\"dmf\", dt_m_his)\n",
    "    hour_his = dt_m_his.hour\n",
    "    minute_his = dt_m_his.minute\n",
    "    #-------------------------------------------------------\n",
    "    \n",
    "    # close_cr 행을 없앰(변동이 없는 경우가 빌생하여 divided zero error 발생), close_cr은 target column에서 재 계산하여사용\n",
    "    df_historical_temp['date'] = df_historical_temp['date'].dt.date # change to datetime\n",
    "    \n",
    "    pkl_name= '{}_investors.pkl'.format(val[1])\n",
    "    df_investors_temp = pd.read_pickle(investors_pkl_directory + pkl_name)\n",
    "    df_investors_temp['date'] = df_investors_temp['date'].dt.date # change to datetime\n",
    "    \n",
    "    # ---------investors 데이터 취득 날짜 시간 확인-------   \n",
    "    dt_m_inv = modification_time_inv.loc[pkl_name].iloc[0]\n",
    "    hour_inv = dt_m_inv.hour\n",
    "    minute_inv = dt_m_inv.minute\n",
    "    # ------------------------------------------    \n",
    "    \n",
    "    # ******** 시작 일자, 마지막 일자  지정 ***********\n",
    "#     start_date = datetime.date(2022, 1, 1) # 2022년 01월 01일 자료 있음. 추후 이전날짜 추가시 수정 필요\n",
    "    start_date = find_start_date(df_investors_temp)\n",
    "    end_date = df_investors_temp['date'].iloc[-1]  # 투자자별 자료가 있는 마지막 날짜\n",
    "    if not is_opening_day(opening_days_kor, end_date):\n",
    "        end_date = get_previous_opening_day(opening_days_kor, end_date)\n",
    "        \n",
    "    today = datetime.date.today()\n",
    "    \n",
    "    if ((end_date <= today) & (hour_his >= 16) & (hour_inv >= 16)): \n",
    "        # 그 이전에 common data를 받아 놓아야 함.\n",
    "        end_date = opening_days_kor[opening_days_kor.index(end_date)+1] # 예측이 필요한 다가오는 개장일\n",
    "    else:\n",
    "        end_date = today\n",
    "        \n",
    "    # 실제 개장일로만 진행하기 위하여 date_range_ts를 재설정\n",
    "    \n",
    "    date_range_ts = pd.date_range(start=start_date, end=end_date).date #use .date fo convert timestamp to date.\n",
    "    opening_days_filter = [item for item in date_range_ts if item in opening_days_kor] # 범위내에서 실제 거래일만 추출\n",
    "    df_base = pd.DataFrame(pd.Series(opening_days_filter, name='date'))\n",
    "\n",
    "    df_combined_temp = combine_data(opening_days_filter, \n",
    "                                             df_investors_temp.set_index('date'), \n",
    "                                             df_historical_temp.set_index('date'),\n",
    "                                             )\n",
    "\n",
    "    # column nama change according to the newly added columns\n",
    "    column_name_change = ['retail_1', 'foreigner_1', 'institution_1', 'financial_1', 'invtrust_1', 'pension_1', \n",
    "          'privequity_1', 'bank_1', 'insurance_1', 'financeetc_1', 'corporateetc_1', 'foreigneretc_1', \n",
    "          'retail_2', 'foreigner_2', 'institution_2', 'financial_2', 'invtrust_2', 'pension_2', \n",
    "          'privequity_2', 'bank_2', 'insurance_2', 'financeetc_2', 'corporateetc_2', 'foreigneretc_2', \n",
    "          'open_1', 'high_1', 'low_1', 'close_1', 'vol_1', \n",
    "          'open_2', 'high_2', 'low_2', 'close_2', 'vol_2', 'weekday' ]\n",
    "      \n",
    "    df_combined_temp.columns = column_name_change\n",
    "    \n",
    "    df_combined_temp['temp'] = df_combined_temp['close_1'].shift(-1) # 현재날짜 증감을 확인하기 위하여 임시 컬럼 추가\n",
    "    \n",
    "    # 마지막 row의 temp는 None이기 때문에 0으로 처리하여 진행 (예측시 사용하지 않아 무관)\n",
    "    # None을 0으로 변환, None을 남겨두면 무슨문제가 발생하나? \n",
    "    #       -> float와 비교가 되지 않아 에러발생\n",
    "    ctemp = df_combined_temp['temp'].copy() \n",
    "    ctemp.iloc[-1] = 0\n",
    "    df_combined_temp['temp'] = ctemp \n",
    "    # ------------------------------------\n",
    "\n",
    "    min_rate = 0.0 # +로 끝난 상황을 알기 위함\n",
    "    df_combined_temp['cr_00'] = df_combined_temp['temp'].map(lambda x : 1 if x > min_rate else 0)\n",
    "    min_rate = 0.005 # 수수료등 비용 0.2672% 이상 확인하기 위함, 0.5% 상승 마감\n",
    "    df_combined_temp['cr_05'] = df_combined_temp['temp'].map(lambda x : 1 if x >= min_rate else 0)\n",
    "    min_rate = 0.010 # 1.0% 상승 마감\n",
    "    df_combined_temp['cr_10'] = df_combined_temp['temp'].map(lambda x : 1 if x >= min_rate else 0)\n",
    "    min_rate = 0.015 # 1.5% 상승 마감\n",
    "    df_combined_temp['cr_15'] = df_combined_temp['temp'].map(lambda x : 1 if x >= min_rate else 0)\n",
    "    min_rate = 0.020 # 2.0% 상승 마감\n",
    "    df_combined_temp['cr_20'] = df_combined_temp['temp'].map(lambda x : 1 if x >= min_rate else 0)\n",
    "    \n",
    "    df_combined_temp.drop(columns='temp', inplace=True) # 사용후 삭제\n",
    "    \n",
    "    column_selected = column_name_change\n",
    "    column_selected.extend(['cr_00', 'cr_05', 'cr_10', 'cr_15', 'cr_20'])  # 아래 class column 이 변경에 따라 수정해야 함\n",
    "    \n",
    "    globals()['df_{}_combined'.format(val[1])] = df_combined_temp.copy()\n",
    "    globals()['df_{}_sel'.format(val[1])] = df_combined_temp[column_selected]\n",
    "    \n",
    "    # write company analysis data\n",
    "    globals()['df_{}_sel'.format(val[1])].to_pickle(directory_for_predict + 'df_{}_company.pkl'.format(val[1]))\n",
    "    globals()['df_{}_sel'.format(val[1])].to_csv(directory_for_predict + 'df_{}_company.csv'.format(val[1]))\n",
    "    \n",
    "    print(val[1], f'{i+1}/{total}', end=', ') # 진행상황 확인용\n",
    "\n",
    "    # if i==1:\n",
    "    #     break"
   ]
  },
  {
   "cell_type": "code",
   "execution_count": null,
   "id": "b1cb2834",
   "metadata": {},
   "outputs": [],
   "source": []
  },
  {
   "cell_type": "code",
   "execution_count": 18,
   "id": "c8b492ba",
   "metadata": {},
   "outputs": [
    {
     "data": {
      "text/plain": [
       "{'005930': ['삼성전자', 'sec'],\n",
       " '373220': ['LG에너지솔루션', 'lgenergy'],\n",
       " '000660': ['SK하이닉스', 'skhynix'],\n",
       " '207940': ['삼성바이오로직스', 'ssbio'],\n",
       " '006400': ['삼성SDI', 'sdi'],\n",
       " '051910': ['LG화학', 'lgchemical'],\n",
       " '005935': ['삼성전자우', 'secpre'],\n",
       " '005380': ['현대차', 'hyunmotor'],\n",
       " '035420': ['NAVER', 'naver'],\n",
       " '000270': ['기아', 'kia'],\n",
       " '035720': ['카카오', 'kakao'],\n",
       " '005490': ['POSCO홀딩스', 'poscoholding'],\n",
       " '105560': ['KB금융', 'kbbank'],\n",
       " '028260': ['삼성물산', 'sscnt'],\n",
       " '068270': ['셀트리온', 'celltrion'],\n",
       " '012330': ['현대모비스', 'mobis'],\n",
       " '055550': ['신한지주', 'shgroup'],\n",
       " '066570': ['LG전자', 'lgelec'],\n",
       " '003670': ['포스코퓨처엠', 'poscochemical'],\n",
       " '096770': ['SK이노베이션', 'skinnovation'],\n",
       " '033780': ['KT&G', 'ktng'],\n",
       " '030200': ['KT', 'kt'],\n",
       " '003550': ['LG', 'lg'],\n",
       " '034730': ['SK', 'sk'],\n",
       " '032830': ['삼성생명', 'sslife'],\n",
       " '086790': ['하나금융지주', 'hana'],\n",
       " '009150': ['삼성전기', 'sselec'],\n",
       " '015760': ['한국전력', 'koreaelec'],\n",
       " '034020': ['두산에너빌리티', 'doosanener'],\n",
       " '010130': ['고려아연', 'koreazinc'],\n",
       " '017670': ['SK텔레콤', 'sktelecom'],\n",
       " '011200': ['HMM', 'hmm'],\n",
       " '000810': ['삼성화재', 'ssfire'],\n",
       " '051900': ['LG생활건강', 'lglife'],\n",
       " '010950': ['S-Oil', 'soil'],\n",
       " '259960': ['크래프톤', 'crafton'],\n",
       " '018260': ['삼성에스디에스', 'sds'],\n",
       " '329180': ['현대중공업', 'hhi'],\n",
       " '003490': ['대한항공', 'koreanair'],\n",
       " '036570': ['엔씨소프트', 'ncsoft'],\n",
       " '009830': ['한화솔루션', 'hanhwasol'],\n",
       " '316140': ['우리금융지주', 'woorifg'],\n",
       " '090430': ['아모레퍼시픽', 'amore'],\n",
       " '011170': ['롯데케미칼', 'lottechem'],\n",
       " '024110': ['기업은행', 'ibk'],\n",
       " '138040': ['메리츠금융지주', 'meritz'],\n",
       " '377300': ['카카오페이', 'kakaopay'],\n",
       " '011070': ['LG이노텍', 'lginnotek'],\n",
       " '028050': ['삼성엔지니어링', 'ssengineering'],\n",
       " '361610': ['SK아이이테크놀로지', 'skietech'],\n",
       " '086280': ['현대글로비스', 'glovis'],\n",
       " '302440': ['SK바이오사이언스', 'skbio']}"
      ]
     },
     "execution_count": 18,
     "metadata": {},
     "output_type": "execute_result"
    }
   ],
   "source": [
    "code"
   ]
  },
  {
   "cell_type": "code",
   "execution_count": 20,
   "id": "c632d442-7db0-44bc-a5c7-444d03031deb",
   "metadata": {},
   "outputs": [],
   "source": [
    "code = {'010950': ['S-Oil', 'soil'],}"
   ]
  },
  {
   "cell_type": "code",
   "execution_count": null,
   "id": "fb28709f-8864-447b-acd4-0e9bd1213bd7",
   "metadata": {},
   "outputs": [],
   "source": []
  }
 ],
 "metadata": {
  "kernelspec": {
   "display_name": "Python 3 (ipykernel)",
   "language": "python",
   "name": "python3"
  },
  "language_info": {
   "codemirror_mode": {
    "name": "ipython",
    "version": 3
   },
   "file_extension": ".py",
   "mimetype": "text/x-python",
   "name": "python",
   "nbconvert_exporter": "python",
   "pygments_lexer": "ipython3",
   "version": "3.12.2"
  }
 },
 "nbformat": 4,
 "nbformat_minor": 5
}
