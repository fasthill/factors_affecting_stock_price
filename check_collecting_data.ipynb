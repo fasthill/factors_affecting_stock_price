{
 "cells": [
  {
   "cell_type": "markdown",
   "id": "19b7b753",
   "metadata": {},
   "source": [
    "### 수집된 데이터 검토용"
   ]
  },
  {
   "cell_type": "code",
   "execution_count": 1,
   "id": "single-chick",
   "metadata": {},
   "outputs": [],
   "source": [
    "import datetime, time\n",
    "from datetime import date\n",
    "\n",
    "import pandas as pd"
   ]
  },
  {
   "cell_type": "code",
   "execution_count": 2,
   "id": "49476ecc",
   "metadata": {},
   "outputs": [],
   "source": [
    "# 삼성전자 005930, 현대차 005380, 네이버 035420, KT&G 033780, \n",
    "# code = {'sec': '005930', 'hyunmotor': '005380', 'naver': '035420', 'ktng': '033780'}\n",
    "code = {'sec': 'KR7005930003', 'hyunmotor': 'KR7005380001', 'naver': 'KR7035420009', 'ktng': 'KR7033780008'}\n",
    "# code = {'sec': 'KR7005930003'}"
   ]
  },
  {
   "cell_type": "code",
   "execution_count": 3,
   "id": "53a396d1",
   "metadata": {},
   "outputs": [],
   "source": [
    "today_o = datetime.date.today()\n",
    "today = today_o.strftime('%Y%m%d')\n",
    "today_stock = today_o.strftime('%Y-%m-%d')"
   ]
  },
  {
   "cell_type": "code",
   "execution_count": 4,
   "id": "1b8cbd4e",
   "metadata": {},
   "outputs": [],
   "source": [
    "dir_name = 'data/company_daily_price_pkl/'\n",
    "middle_name = '_10min_price_'"
   ]
  },
  {
   "cell_type": "code",
   "execution_count": 6,
   "id": "6da47183",
   "metadata": {},
   "outputs": [
    {
     "name": "stdout",
     "output_type": "stream",
     "text": [
      "***sec***\n",
      "        date      time  price  change change(%)  amount    volume\n",
      "0 2023-02-08  15:30:00  63100    1200     1.94%  587936  12167802\n",
      "1 2023-02-08  15:15:00  63200    1300     2.10%  100105  11579694\n",
      "2 2023-02-08  15:10:00  63200    1300     2.10%   60298  11321109\n",
      "         date      time  price  change change(%)   amount   volume\n",
      "74 2023-02-08  09:10:00  62700     800     1.29%   184808  2183787\n",
      "75 2023-02-08  09:05:00  62800     900     1.45%   388140  1998224\n",
      "76 2023-02-08  09:00:00  63000    1100     1.78%  1609935  1609935\n",
      "***hyunmotor***\n",
      "        date      time   price  change change(%)  amount  volume\n",
      "0 2023-02-08  15:30:00  172700    2200     1.29%   23945  441466\n",
      "1 2023-02-08  15:15:00  172900    2400     1.41%    5721  417521\n",
      "2 2023-02-08  15:10:00  172900    2400     1.41%    5526  409085\n",
      "         date      time   price  change change(%)  amount  volume\n",
      "74 2023-02-08  09:10:00  171100     600     0.35%   11616   58824\n",
      "75 2023-02-08  09:05:00  171000     500     0.29%   12467   47206\n",
      "76 2023-02-08  09:00:00  171600    1100     0.65%   34739   34739\n",
      "***naver***\n",
      "        date      time   price  change change(%)  amount   volume\n",
      "0 2023-02-08  15:30:00  230500   11000     5.01%   54588  1767817\n",
      "1 2023-02-08  15:15:00  230000   10500     4.78%   12842  1713229\n",
      "2 2023-02-08  15:10:00  230000   10500     4.78%    7480  1693577\n",
      "         date      time   price  change change(%)  amount  volume\n",
      "74 2023-02-08  09:10:00  228500    9000     4.10%   60207  360553\n",
      "75 2023-02-08  09:05:00  228500    9000     4.10%  108156  300101\n",
      "76 2023-02-08  09:00:00  227000    7500     3.42%  191845  191845\n",
      "***ktng***\n",
      "        date      time  price  change change(%)  amount  volume\n",
      "0 2023-02-08  15:30:00  91500     600     0.66%   20240  166880\n",
      "1 2023-02-08  15:15:00  91200     300     0.33%     644  145475\n",
      "2 2023-02-08  15:10:00  91200     300     0.33%     487  144049\n",
      "         date      time  price  change change(%)  amount  volume\n",
      "74 2023-02-08  09:10:00  91200     300     0.33%    3176   18059\n",
      "75 2023-02-08  09:05:00  91200     300     0.33%    5858   14883\n",
      "76 2023-02-08  09:00:00  91000     600    -0.66%    9025    9025\n"
     ]
    }
   ],
   "source": [
    "for key, val in code.items():\n",
    "    f_name = dir_name+key+middle_name+today+'.pkl'\n",
    "    df = pd.read_pickle(f_name)\n",
    "    print('***{}***'.format(key))\n",
    "    print(df.head(3))\n",
    "    print(df.tail(3))"
   ]
  },
  {
   "cell_type": "code",
   "execution_count": null,
   "id": "bd0c05d4",
   "metadata": {},
   "outputs": [],
   "source": []
  }
 ],
 "metadata": {
  "kernelspec": {
   "display_name": "Python 3",
   "language": "python",
   "name": "python3"
  },
  "language_info": {
   "codemirror_mode": {
    "name": "ipython",
    "version": 3
   },
   "file_extension": ".py",
   "mimetype": "text/x-python",
   "name": "python",
   "nbconvert_exporter": "python",
   "pygments_lexer": "ipython3",
   "version": "3.9.1"
  }
 },
 "nbformat": 4,
 "nbformat_minor": 5
}
