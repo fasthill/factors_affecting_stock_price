{
 "cells": [
  {
   "cell_type": "code",
   "execution_count": 1,
   "id": "b6071c61",
   "metadata": {},
   "outputs": [],
   "source": [
    "from selenium import webdriver as wd\n",
    "from selenium.webdriver import ActionChains # scroll down 사용하기 위하여 선서\n",
    "from selenium.webdriver.common.keys import Keys\n",
    "from selenium.webdriver.common.by import By\n",
    "from bs4 import BeautifulSoup as bs\n",
    "\n",
    "import datetime, time\n",
    "from datetime import date\n",
    "\n",
    "import pandas as pd\n",
    "import numpy as np\n",
    "import requests\n",
    "import time\n",
    "import os, sys"
   ]
  },
  {
   "cell_type": "code",
   "execution_count": 2,
   "id": "social-sunrise",
   "metadata": {},
   "outputs": [],
   "source": [
    "from selenium.webdriver.common.by import By\n",
    "from selenium.webdriver.support.ui import WebDriverWait\n",
    "from selenium.webdriver.support import expected_conditions as EC"
   ]
  },
  {
   "cell_type": "code",
   "execution_count": 3,
   "id": "983181b0",
   "metadata": {},
   "outputs": [],
   "source": [
    "# !pip install chromedriver_autoinstaller\n",
    "\n",
    "import chromedriver_autoinstaller\n",
    "\n",
    "driver_name = chromedriver_autoinstaller.install()  # Check if the current version of chromedriver exists\n",
    "                                      # and if it doesn't exist, download it automatically,\n",
    "                                      # then add chromedriver to path\n",
    "time.sleep(1)"
   ]
  },
  {
   "cell_type": "code",
   "execution_count": 4,
   "id": "compressed-cornell",
   "metadata": {},
   "outputs": [
    {
     "name": "stderr",
     "output_type": "stream",
     "text": [
      "C:\\Users\\kange\\AppData\\Local\\Temp\\ipykernel_7256\\3316105653.py:1: DeprecationWarning: executable_path has been deprecated, please pass in a Service object\n",
      "  driver = wd.Chrome(driver_name)\n"
     ]
    }
   ],
   "source": [
    "driver = wd.Chrome(driver_name)"
   ]
  },
  {
   "cell_type": "code",
   "execution_count": 5,
   "id": "29e69d53",
   "metadata": {},
   "outputs": [],
   "source": [
    "main_url = \"https://jqueryui.com/datepicker/\"\n",
    "driver.get(main_url)\n",
    "time.sleep(1)"
   ]
  },
  {
   "cell_type": "code",
   "execution_count": 6,
   "id": "818f5eb5",
   "metadata": {},
   "outputs": [],
   "source": [
    "#switch to frame\n",
    "l = driver.find_element(By.XPATH, \"//iframe[@class='demo-frame']\")\n",
    "driver.switch_to.frame(l);"
   ]
  },
  {
   "cell_type": "code",
   "execution_count": 7,
   "id": "191f7c8c",
   "metadata": {},
   "outputs": [],
   "source": [
    "#identify element inside frame\n",
    "d= driver.find_element(By.ID, \"datepicker\")\n",
    "d.click()"
   ]
  },
  {
   "cell_type": "code",
   "execution_count": 8,
   "id": "d13e2a0b",
   "metadata": {
    "scrolled": true
   },
   "outputs": [],
   "source": [
    "m = driver.find_elements(By.CSS_SELECTOR, \"#ui-datepicker-div > table > tbody a\")"
   ]
  },
  {
   "cell_type": "code",
   "execution_count": 9,
   "id": "e7e13625",
   "metadata": {},
   "outputs": [],
   "source": [
    "#identify list of all dates\n",
    "m = driver.find_elements(By.XPATH, \"//table/tbody//td\")"
   ]
  },
  {
   "cell_type": "code",
   "execution_count": 10,
   "id": "a4506b97",
   "metadata": {},
   "outputs": [],
   "source": [
    "df = pd.read_html(driver.page_source, attrs={\"class\": \"ui-datepicker-calendar\"}, flavor=[\"lxml\", \"bs4\"])"
   ]
  },
  {
   "cell_type": "code",
   "execution_count": 11,
   "id": "1022194d",
   "metadata": {},
   "outputs": [
    {
     "data": {
      "text/plain": [
       "[     Su    Mo    Tu    We  Th  Fr  Sa\n",
       " 0   NaN   NaN   NaN   NaN   1   2   3\n",
       " 1   4.0   5.0   6.0   7.0   8   9  10\n",
       " 2  11.0  12.0  13.0  14.0  15  16  17\n",
       " 3  18.0  19.0  20.0  21.0  22  23  24\n",
       " 4  25.0  26.0  27.0  28.0  29  30  31]"
      ]
     },
     "execution_count": 11,
     "metadata": {},
     "output_type": "execute_result"
    }
   ],
   "source": [
    "df"
   ]
  },
  {
   "cell_type": "code",
   "execution_count": 12,
   "id": "12df5c32",
   "metadata": {},
   "outputs": [
    {
     "name": "stdout",
     "output_type": "stream",
     "text": [
      "3\n"
     ]
    }
   ],
   "source": [
    "#iterate over list\n",
    "for i in m:\n",
    "#verify required date then click\n",
    "    if i.text == '3':\n",
    "        print(i.text)\n",
    "        i.click()\n",
    "        break"
   ]
  },
  {
   "cell_type": "code",
   "execution_count": null,
   "id": "6f8a5de9",
   "metadata": {},
   "outputs": [],
   "source": [
    "#get selected date\n",
    "s = d.get_attribute('value')\n",
    "print(\"Date entered is: \")\n",
    "print(s)\n"
   ]
  },
  {
   "cell_type": "code",
   "execution_count": null,
   "id": "34baa0e7",
   "metadata": {},
   "outputs": [],
   "source": [
    "#browser quit\n",
    "driver.quit()"
   ]
  },
  {
   "cell_type": "code",
   "execution_count": null,
   "id": "21716280",
   "metadata": {},
   "outputs": [],
   "source": []
  },
  {
   "cell_type": "code",
   "execution_count": null,
   "id": "23708f24",
   "metadata": {},
   "outputs": [],
   "source": []
  },
  {
   "cell_type": "code",
   "execution_count": null,
   "id": "edfda689",
   "metadata": {},
   "outputs": [],
   "source": []
  }
 ],
 "metadata": {
  "kernelspec": {
   "display_name": "Python 3 (ipykernel)",
   "language": "python",
   "name": "python3"
  },
  "language_info": {
   "codemirror_mode": {
    "name": "ipython",
    "version": 3
   },
   "file_extension": ".py",
   "mimetype": "text/x-python",
   "name": "python",
   "nbconvert_exporter": "python",
   "pygments_lexer": "ipython3",
   "version": "3.10.7"
  }
 },
 "nbformat": 4,
 "nbformat_minor": 5
}
