{
 "cells": [
  {
   "cell_type": "code",
   "execution_count": 21,
   "id": "b6071c61",
   "metadata": {},
   "outputs": [],
   "source": [
    "from selenium import webdriver as wd\n",
    "from selenium.webdriver import ActionChains # scroll down 사용하기 위하여 선서\n",
    "from selenium.webdriver.common.keys import Keys\n",
    "from selenium.webdriver.common.by import By\n",
    "from bs4 import BeautifulSoup as bs\n",
    "\n",
    "import datetime, time\n",
    "from datetime import date\n",
    "\n",
    "import pandas as pd\n",
    "import numpy as np\n",
    "import requests\n",
    "import time\n",
    "import os, sys"
   ]
  },
  {
   "cell_type": "code",
   "execution_count": 22,
   "id": "social-sunrise",
   "metadata": {},
   "outputs": [],
   "source": [
    "from selenium.webdriver.common.by import By\n",
    "from selenium.webdriver.support.ui import WebDriverWait\n",
    "from selenium.webdriver.support import expected_conditions as EC"
   ]
  },
  {
   "cell_type": "code",
   "execution_count": 23,
   "id": "983181b0",
   "metadata": {},
   "outputs": [],
   "source": [
    "# !pip install chromedriver_autoinstaller\n",
    "\n",
    "import chromedriver_autoinstaller\n",
    "\n",
    "driver_name = chromedriver_autoinstaller.install()  # Check if the current version of chromedriver exists\n",
    "                                      # and if it doesn't exist, download it automatically,\n",
    "                                      # then add chromedriver to path\n",
    "time.sleep(1)"
   ]
  },
  {
   "cell_type": "code",
   "execution_count": 24,
   "id": "compressed-cornell",
   "metadata": {},
   "outputs": [],
   "source": [
    "driver = wd.Chrome(driver_name)"
   ]
  },
  {
   "cell_type": "code",
   "execution_count": 25,
   "id": "29e69d53",
   "metadata": {},
   "outputs": [],
   "source": [
    "main_url = \"https://jqueryui.com/datepicker/\"\n",
    "driver.get(main_url)\n",
    "time.sleep(1)"
   ]
  },
  {
   "cell_type": "code",
   "execution_count": 26,
   "id": "ce3d6ff0",
   "metadata": {},
   "outputs": [],
   "source": [
    "#switch to frame\n",
    "l = driver.find_element_by_xpath(\"//iframe[@class='demo-frame']\")\n",
    "driver.switch_to.frame(l)"
   ]
  },
  {
   "cell_type": "code",
   "execution_count": 27,
   "id": "191f7c8c",
   "metadata": {},
   "outputs": [],
   "source": [
    "#identify element inside frame\n",
    "d= driver.find_element_by_id(\"datepicker\")\n",
    "d.click()"
   ]
  },
  {
   "cell_type": "code",
   "execution_count": 28,
   "id": "e7e13625",
   "metadata": {},
   "outputs": [],
   "source": [
    "#identify list of all dates\n",
    "m = driver.find_elements_by_xpath(\"//table/tbody/tr/td\")"
   ]
  },
  {
   "cell_type": "code",
   "execution_count": 44,
   "id": "d13e2a0b",
   "metadata": {},
   "outputs": [],
   "source": [
    "# m = driver.find_elements_by_css_selector(\"#ui-datepicker-div > table > tbody > > td\")\n",
    "# m = driver.find_elements(By.CSS_SELECTOR, \"#ui-datepicker-div > table > tbody > > td\")\n",
    "#     driver.find_element(By.CSS_SELECTOR, css_sel).click()\n",
    "\n",
    "m = driver.find_elements_by_xpath(\"//*[@id='ui-datepicker-div']/table/tbody//td\")"
   ]
  },
  {
   "cell_type": "code",
   "execution_count": 34,
   "id": "a4506b97",
   "metadata": {},
   "outputs": [],
   "source": [
    "df = pd.read_html(driver.page_source, attrs={\"class\": \"ui-datepicker-calendar\"}, flavor=[\"lxml\", \"bs4\"])"
   ]
  },
  {
   "cell_type": "code",
   "execution_count": 35,
   "id": "1022194d",
   "metadata": {},
   "outputs": [
    {
     "data": {
      "text/plain": [
       "[     Su    Mo    Tu    We  Th  Fr  Sa\n",
       " 0   NaN   NaN   NaN   NaN   1   2   3\n",
       " 1   4.0   5.0   6.0   7.0   8   9  10\n",
       " 2  11.0  12.0  13.0  14.0  15  16  17\n",
       " 3  18.0  19.0  20.0  21.0  22  23  24\n",
       " 4  25.0  26.0  27.0  28.0  29  30  31]"
      ]
     },
     "execution_count": 35,
     "metadata": {},
     "output_type": "execute_result"
    }
   ],
   "source": [
    "df"
   ]
  },
  {
   "cell_type": "code",
   "execution_count": 29,
   "id": "12df5c32",
   "metadata": {},
   "outputs": [],
   "source": [
    "#iterate over list\n",
    "for i in m:\n",
    "#verify required date then click\n",
    "   if i.text == '3':\n",
    "      i.click()\n",
    "   break"
   ]
  },
  {
   "cell_type": "code",
   "execution_count": 30,
   "id": "6f8a5de9",
   "metadata": {},
   "outputs": [
    {
     "name": "stdout",
     "output_type": "stream",
     "text": [
      "Date entered is: \n",
      "\n"
     ]
    }
   ],
   "source": [
    "#get selected date\n",
    "s = d.get_attribute('value')\n",
    "print(\"Date entered is: \")\n",
    "print(s)\n"
   ]
  },
  {
   "cell_type": "markdown",
   "id": "d4033159",
   "metadata": {},
   "source": [
    "WebElement 내용 보기"
   ]
  },
  {
   "cell_type": "code",
   "execution_count": 32,
   "id": "88687e04",
   "metadata": {},
   "outputs": [
    {
     "data": {
      "text/plain": [
       "<selenium.webdriver.remote.webelement.WebElement (session=\"971a41dc8d0349ae111e791f498d5d49\", element=\"7910a592-f994-4534-aafc-44b1c253e50f\")>"
      ]
     },
     "execution_count": 32,
     "metadata": {},
     "output_type": "execute_result"
    }
   ],
   "source": [
    "d"
   ]
  },
  {
   "cell_type": "code",
   "execution_count": 20,
   "id": "34baa0e7",
   "metadata": {},
   "outputs": [],
   "source": [
    "#browser quit\n",
    "driver.quit()"
   ]
  },
  {
   "cell_type": "code",
   "execution_count": null,
   "id": "55cbb000",
   "metadata": {},
   "outputs": [],
   "source": []
  },
  {
   "cell_type": "code",
   "execution_count": 48,
   "id": "86f72d7f",
   "metadata": {},
   "outputs": [
    {
     "data": {
      "text/plain": [
       "<bound method WebElement.click of <selenium.webdriver.remote.webelement.WebElement (session=\"971a41dc8d0349ae111e791f498d5d49\", element=\"9e171f51-8f4f-4a0c-a98f-b7c3bdfffa17\")>>"
      ]
     },
     "execution_count": 48,
     "metadata": {},
     "output_type": "execute_result"
    }
   ],
   "source": [
    "m[0].click\n"
   ]
  },
  {
   "cell_type": "code",
   "execution_count": 45,
   "id": "1d831715",
   "metadata": {},
   "outputs": [
    {
     "name": "stdout",
     "output_type": "stream",
     "text": [
      "<selenium.webdriver.remote.webelement.WebElement (session=\"971a41dc8d0349ae111e791f498d5d49\", element=\"9e171f51-8f4f-4a0c-a98f-b7c3bdfffa17\")>\n"
     ]
    }
   ],
   "source": [
    "print(m[0])"
   ]
  },
  {
   "cell_type": "code",
   "execution_count": null,
   "id": "21716280",
   "metadata": {},
   "outputs": [],
   "source": []
  },
  {
   "cell_type": "code",
   "execution_count": null,
   "id": "23708f24",
   "metadata": {},
   "outputs": [],
   "source": []
  },
  {
   "cell_type": "code",
   "execution_count": null,
   "id": "edfda689",
   "metadata": {},
   "outputs": [],
   "source": []
  }
 ],
 "metadata": {
  "kernelspec": {
   "display_name": "Python 3",
   "language": "python",
   "name": "python3"
  },
  "language_info": {
   "codemirror_mode": {
    "name": "ipython",
    "version": 3
   },
   "file_extension": ".py",
   "mimetype": "text/x-python",
   "name": "python",
   "nbconvert_exporter": "python",
   "pygments_lexer": "ipython3",
   "version": "3.9.1"
  }
 },
 "nbformat": 4,
 "nbformat_minor": 5
}
