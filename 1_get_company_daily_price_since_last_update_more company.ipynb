{
 "cells": [
  {
   "cell_type": "markdown",
   "id": "atlantic-congress",
   "metadata": {},
   "source": [
    "### KRX 데이터정보시스템\n",
    "- 매일 주식거래 내용\n",
    "\n",
    "['일자', '종가', '등락률', '시가', '고가', '저가', '거래대금'] 등 수집"
   ]
  },
  {
   "cell_type": "code",
   "execution_count": 1,
   "id": "b6071c61",
   "metadata": {},
   "outputs": [],
   "source": [
    "from selenium import webdriver as wd\n",
    "from selenium.webdriver import ActionChains # scroll down 사용하기 위하여 선서\n",
    "from selenium.webdriver.chrome.service import Service\n",
    "from webdriver_manager.chrome import ChromeDriverManager\n",
    "\n",
    "from bs4 import BeautifulSoup as bs\n",
    "\n",
    "import datetime, time\n",
    "from datetime import date\n",
    "\n",
    "import pandas as pd\n",
    "import numpy as np\n",
    "import requests\n",
    "import time\n",
    "import os, sys, io"
   ]
  },
  {
   "cell_type": "code",
   "execution_count": 2,
   "id": "social-sunrise",
   "metadata": {},
   "outputs": [],
   "source": [
    "from selenium.webdriver.common.by import By\n",
    "from selenium.webdriver.common.keys import Keys\n",
    "from selenium.webdriver.support.ui import WebDriverWait\n",
    "from selenium.webdriver.support import expected_conditions as EC"
   ]
  },
  {
   "cell_type": "code",
   "execution_count": 3,
   "id": "2f6f01b1",
   "metadata": {},
   "outputs": [
    {
     "name": "stdout",
     "output_type": "stream",
     "text": [
      "3.13.1 (tags/v3.13.1:0671451, Dec  3 2024, 19:06:28) [MSC v.1942 64 bit (AMD64)]\n",
      "2.2.3\n"
     ]
    }
   ],
   "source": [
    "import sys\n",
    "print(sys.version)\n",
    "print(pd.__version__)"
   ]
  },
  {
   "cell_type": "code",
   "execution_count": 4,
   "id": "6d339ea4",
   "metadata": {},
   "outputs": [],
   "source": [
    "# module_path = os.path.abspath(os.path.join('.')) \n",
    "# sys.path.append(module_path+\"\\\\data\\\\constant\")\n",
    "\n",
    "# from constants import COMPANY_CODE\n",
    "\n",
    "from data.constant.constants import COMPANY_CODE"
   ]
  },
  {
   "cell_type": "code",
   "execution_count": 5,
   "id": "2afea34e",
   "metadata": {
    "scrolled": true
   },
   "outputs": [],
   "source": [
    "# service = Service(r\"chromedriver/125/chromedriver.exe\")\n",
    "# options = wd.ChromeOptions()\n",
    "# driver = wd.Chrome(service=service, options=options)"
   ]
  },
  {
   "cell_type": "code",
   "execution_count": 6,
   "id": "b26a74a6-abb9-4e9b-9ff1-bb7ee85717c6",
   "metadata": {},
   "outputs": [],
   "source": [
    "service = Service(r\"chromedriver/131/chromedriver.exe\")\n",
    "# https://googlechromelabs.github.io/chrome-for-testing/ 로 가서 브라우저 버젼에 맞는 chromedriver download 후에 사용\n",
    "options = wd.ChromeOptions()\n",
    "driver = wd.Chrome(service=service, options=options)"
   ]
  },
  {
   "cell_type": "code",
   "execution_count": 7,
   "id": "c355c2fb",
   "metadata": {},
   "outputs": [
    {
     "data": {
      "text/plain": [
       "'D:\\\\Jupyter\\\\factors_affecting_stock_price'"
      ]
     },
     "execution_count": 7,
     "metadata": {},
     "output_type": "execute_result"
    }
   ],
   "source": [
    "os.getcwd()"
   ]
  },
  {
   "cell_type": "code",
   "execution_count": 8,
   "id": "d088433b",
   "metadata": {},
   "outputs": [],
   "source": [
    "# https://googlechromelabs.github.io/chrome-for-testing/"
   ]
  },
  {
   "cell_type": "code",
   "execution_count": 9,
   "id": "983181b0",
   "metadata": {},
   "outputs": [
    {
     "data": {
      "text/plain": [
       "'\\n# !pip install chromedriver_autoinstaller\\n\\nimport chromedriver_autoinstaller\\n\\ndriver_name = chromedriver_autoinstaller.install()  # Check if the current version of chromedriver exists\\n                                      # and if it doesn\\'t exist, download it automatically,\\n                                      # then add chromedriver to path\\ntime.sleep(1)\\n\\n# driver = wd.Chrome(driver_name)\\nservice = Service(ChromeDriverManager(version=\"114.0.5735.90\").install())\\noptions = wd.ChromeOptions()\\ndriver = wd.Chrome(service=service, options=options)\\n'"
      ]
     },
     "execution_count": 9,
     "metadata": {},
     "output_type": "execute_result"
    }
   ],
   "source": [
    "'''\n",
    "# !pip install chromedriver_autoinstaller\n",
    "\n",
    "import chromedriver_autoinstaller\n",
    "\n",
    "driver_name = chromedriver_autoinstaller.install()  # Check if the current version of chromedriver exists\n",
    "                                      # and if it doesn't exist, download it automatically,\n",
    "                                      # then add chromedriver to path\n",
    "time.sleep(1)\n",
    "\n",
    "# driver = wd.Chrome(driver_name)\n",
    "service = Service(ChromeDriverManager(version=\"114.0.5735.90\").install())\n",
    "options = wd.ChromeOptions()\n",
    "driver = wd.Chrome(service=service, options=options)\n",
    "'''"
   ]
  },
  {
   "cell_type": "code",
   "execution_count": 10,
   "id": "7ea4d592",
   "metadata": {},
   "outputs": [],
   "source": [
    "def get_data_company(com_name):\n",
    "\n",
    "    com_ticker = com_name[:6]\n",
    "    # 회사이름 입력 Q 버튼\n",
    "    css_name = '#btnisuCd_finder_stkisu0_0'\n",
    "    element = WebDriverWait(driver, 60).until(EC.element_to_be_clickable((By.CSS_SELECTOR, css_name)))\n",
    "    driver.find_element(By.CSS_SELECTOR, css_name).click()\n",
    "    time.sleep(2)\n",
    "\n",
    "    # pop up된 입력창에서 회사이름 입력\n",
    "    id_name = 'searchText__finder_stkisu0_0'\n",
    "    element = WebDriverWait(driver, 60).until(EC.element_to_be_clickable((By.ID, id_name)))\n",
    "    driver.find_element(By.ID, id_name).clear()\n",
    "    time.sleep(1)\n",
    "\n",
    "    driver.find_element(By.ID, id_name).send_keys(com_name)\n",
    "    time.sleep(2)\n",
    "\n",
    "    # 검색 버튼 푸시\n",
    "    css_name = '#searchBtn__finder_stkisu0_0'\n",
    "    element = WebDriverWait(driver, 60).until(EC.element_to_be_clickable((By.CSS_SELECTOR, css_name)))\n",
    "    driver.find_element(By.CSS_SELECTOR, css_name).click()\n",
    "    time.sleep(2)\n",
    "\n",
    "    # 테이블에서 최종 선택\n",
    "    css_sel = '#jsGrid__finder_stkisu0_0 > tbody > tr:nth-child(1) > td:nth-child(1)'\n",
    "\n",
    "    element = WebDriverWait(driver, 60).until(EC.text_to_be_present_in_element((By.CSS_SELECTOR, css_sel), com_ticker))\n",
    "    # 위 라인은 pop up 창이 사라질 때까지 기다리게 해 줌\n",
    "    driver.find_element(By.CSS_SELECTOR, css_sel).click()\n",
    "    time.sleep(2)\n",
    "\n",
    "    return"
   ]
  },
  {
   "cell_type": "code",
   "execution_count": 11,
   "id": "26e6017a",
   "metadata": {},
   "outputs": [],
   "source": [
    "def set_date(start_date, end_date): # 일정 기간 데이터 취득\n",
    "    # end_date를 먼저 입력하고 start date 입력. 반대로 하면 start date가 이전날짜로  reset되어짐\n",
    "    driver.find_element(By.ID, 'endDd').clear()\n",
    "    driver.find_element(By.ID, 'endDd').send_keys(end_date)\n",
    "    time.sleep(1)\n",
    "    \n",
    "    driver.find_element(By.ID, 'strdDd').clear()\n",
    "    driver.find_element(By.ID, 'strdDd').send_keys(start_date)\n",
    "    time.sleep(1)"
   ]
  },
  {
   "cell_type": "code",
   "execution_count": 12,
   "id": "0309f97c",
   "metadata": {},
   "outputs": [],
   "source": [
    "def get_data(start_date, end_date):\n",
    "    \n",
    "    column_name = ['date', 'close', 'change', 'close_cr', 'open', 'high', 'low', \n",
    "                  'vol', 'vol_amount','total_amount', 'total_counts' ]\n",
    "    # ['일자', '종가', '대비', '등락률', '시가', '고가', '저가', '거래량', \n",
    "    #                                 '거래대금', '시가총액', '상장주식수']\n",
    " \n",
    "    start_str = start_date.strftime('%Y-%m-%d')\n",
    "    ed_str = end_date.strftime('%Y-%m-%d')\n",
    "    set_date(start_str, ed_str)\n",
    "\n",
    "    # 테이블  취득 버튼 클릭 (우상귀)\n",
    "    id_name = 'jsSearchButton'\n",
    "    element = WebDriverWait(driver, 60).until(EC.element_to_be_clickable((By.ID, id_name)))\n",
    "    driver.find_element(By.ID, id_name).click()\n",
    "    time.sleep(1)\n",
    "\n",
    "    # df = pd.read_html(driver.page_source, \n",
    "    #                       attrs={\"class\": \"CI-GRID-BODY-TABLE\"}, flavor=[\"lxml\", \"bs4\"])[0]\n",
    "    \n",
    "    df = pd.read_html(io.StringIO(str(driver.page_source)), \n",
    "                          attrs={\"class\": \"CI-GRID-BODY-TABLE\"}, flavor=[\"lxml\", \"bs4\"])[0]\n",
    "    \n",
    "    df.columns = column_name\n",
    "    df['date'] = df['date'].apply(lambda x : datetime.datetime.strptime(x, \"%Y/%m/%d\"))\n",
    "    df_get = df[['date', 'open', 'high', 'low', 'close', 'close_cr', 'vol']]\n",
    "    \n",
    "    return df_get"
   ]
  },
  {
   "cell_type": "code",
   "execution_count": 13,
   "id": "extreme-participation",
   "metadata": {},
   "outputs": [],
   "source": [
    "def non_empty_index_df(df_input, start_date, end_date): # 토,일,공휴일등 거래가 없는 일자도 모두 포함\n",
    "    date_range_ts = pd.date_range(start=start_date, end=end_date)\n",
    "    df_input.set_index('date', inplace=True)\n",
    "    df_out = pd.DataFrame(columns = df_input.columns)\n",
    "    df_out.insert(0, 'date', date_range_ts)\n",
    "    df_out.set_index('date', inplace=True)\n",
    "    df_out.update(df_input)\n",
    "    df_out.reset_index(inplace=True)\n",
    "    return df_out"
   ]
  },
  {
   "cell_type": "code",
   "execution_count": 14,
   "id": "7bbfe671",
   "metadata": {},
   "outputs": [],
   "source": [
    "def concat_df(df_o, df):\n",
    "    df_o = pd.concat([df_o, df], ignore_index=True)\n",
    "    df_o.drop_duplicates(subset=['date'], keep='last', inplace=True)\n",
    "    df_o.sort_values(by=[df_o.columns[0]], inplace=True)\n",
    "    df_o.index = np.arange(0, len(df_o))  # 일련 번호 오름차순으로 재 설정\n",
    "    return df_o"
   ]
  },
  {
   "cell_type": "code",
   "execution_count": 15,
   "id": "abac5c0c",
   "metadata": {},
   "outputs": [],
   "source": [
    "# 개장일이 아닌 row는 삭제하기 위하여 개장일 데이터 load\n",
    "base_data_directory = './data/base_data/stock_market_holydays/'\n",
    "opening_days_kor = pd.read_pickle(base_data_directory+'opening_days_kor.pkl') # 한국 개장일 데이터 \n",
    "\n",
    "# df_in : common data, opening_days : Series from oprning_days_xxx.pkl\n",
    "def select_openingdays(df_in, opening_days):\n",
    "    df_sel = df_in['date'].apply(lambda x: True if x.date() in list(opening_days) else False)\n",
    "    df_out = df_in[df_sel].reset_index(drop=True)\n",
    "    return df_out"
   ]
  },
  {
   "cell_type": "code",
   "execution_count": 16,
   "id": "29e69d53",
   "metadata": {},
   "outputs": [],
   "source": [
    "# driver.set_window_position(-10000,0) # hide windows\n",
    "main_url = 'http://data.krx.co.kr/contents/MDC/MDI/mdiLoader/index.cmd?menuId=MDC0201020103'\n",
    "# 개별종목 시세추이 data-menu-id: MDC0201020103\n",
    "driver.get(main_url)\n",
    "time.sleep(1)"
   ]
  },
  {
   "cell_type": "code",
   "execution_count": 17,
   "id": "39b6c3c1",
   "metadata": {},
   "outputs": [],
   "source": [
    "# driver.maximize_window()"
   ]
  },
  {
   "cell_type": "code",
   "execution_count": 18,
   "id": "2309937e",
   "metadata": {},
   "outputs": [],
   "source": [
    "# 백만원 단위 표시 선정\n",
    "# css_sel = '#MDCSTAT017_FORM > div.CI-MDI-UNIT-WRAP > div > p:nth-child(2) \\\n",
    "#            > select.CI-MDI-UNIT-MONEY > option:nth-child(3)'\n",
    "# driver.find_element(By.CSS_SELECTOR, css_sel).click()\n",
    "# 위 코드를 아래와 같이 두 개로 분리시켜야만 동작함.\n",
    "\n",
    "css_sel_1 = '#MDCSTAT017_FORM > div.CI-MDI-UNIT-WRAP > div > p:nth-child(2) \\\n",
    "           > select.CI-MDI-UNIT-MONEY'\n",
    "css_opt = 'option:nth-child(3)'\n",
    "sel_1 = driver.find_element(By.CSS_SELECTOR, css_sel_1) # 우선 \n",
    "sel_1.find_element(By.CSS_SELECTOR, css_opt).click()\n",
    "time.sleep(1)"
   ]
  },
  {
   "cell_type": "code",
   "execution_count": 19,
   "id": "4afbc1cf",
   "metadata": {},
   "outputs": [],
   "source": [
    "code = COMPANY_CODE\n",
    "\n",
    "# code = {'005930': ['삼성전자', 'sec'], '005380': ['현대차', 'hyunmotor'],\n",
    "#                  '035420': ['NAVER', 'naver'], '033780': ['KT&G', 'ktng']}\n",
    "# code = {'005930': ['삼성전자', 'sec'], '000660': ['SK하이닉스', 'skhynix']}\n",
    "# code = {'302440': ['SK바이오사이언스', 'skbio']}"
   ]
  },
  {
   "cell_type": "code",
   "execution_count": 20,
   "id": "de0484ac-0d3a-468b-8036-7bd69b3d8d35",
   "metadata": {},
   "outputs": [],
   "source": [
    "pkl_directory = 'data/company_pkl/historical_data/'\n",
    "modi_directory = 'data/company_pkl/'\n",
    "modification_time = pd.read_pickle(modi_directory + 'modification_time_company_his.pkl')\n",
    "pkl_name= 'sec_historical.pkl'"
   ]
  },
  {
   "cell_type": "code",
   "execution_count": 21,
   "id": "80eb5556-1531-4b76-9f8f-6015adb581a1",
   "metadata": {},
   "outputs": [
    {
     "data": {
      "text/plain": [
       "Timestamp('2025-01-09 00:00:00')"
      ]
     },
     "execution_count": 21,
     "metadata": {},
     "output_type": "execute_result"
    }
   ],
   "source": [
    "df_o = pd.read_pickle(pkl_directory + pkl_name)\n",
    "start_date = df_o['date'].iloc[len(df_o)-1]\n",
    "start_date"
   ]
  },
  {
   "cell_type": "code",
   "execution_count": 22,
   "id": "16fe9577",
   "metadata": {},
   "outputs": [
    {
     "name": "stdout",
     "output_type": "stream",
     "text": [
      "005930/삼성전자 1/52, 373220/LG에너지솔루션 2/52, 000660/SK하이닉스 3/52, 207940/삼성바이오로직스 4/52, 006400/삼성SDI 5/52, 051910/LG화학 6/52, 005935/삼성전자우 7/52, 005380/현대차 8/52, 035420/NAVER 9/52, 000270/기아 10/52, 035720/카카오 11/52, 005490/POSCO홀딩스 12/52, 105560/KB금융 13/52, 028260/삼성물산 14/52, 068270/셀트리온 15/52, 012330/현대모비스 16/52, 055550/신한지주 17/52, 066570/LG전자 18/52, 003670/포스코퓨처엠 19/52, 096770/SK이노베이션 20/52, 033780/KT&G 21/52, 030200/KT 22/52, 003550/LG 23/52, 034730/SK 24/52, 032830/삼성생명 25/52, 086790/하나금융지주 26/52, 009150/삼성전기 27/52, 015760/한국전력 28/52, 034020/두산에너빌리티 29/52, 010130/고려아연 30/52, 017670/SK텔레콤 31/52, 011200/HMM 32/52, 000810/삼성화재 33/52, 051900/LG생활건강 34/52, 010950/S-Oil 35/52, 259960/크래프톤 36/52, 018260/삼성에스디에스 37/52, 329180/현대중공업 38/52, 003490/대한항공 39/52, 036570/엔씨소프트 40/52, 009830/한화솔루션 41/52, 316140/우리금융지주 42/52, 090430/아모레퍼시픽 43/52, 011170/롯데케미칼 44/52, 024110/기업은행 45/52, 138040/메리츠금융지주 46/52, 377300/카카오페이 47/52, 011070/LG이노텍 48/52, 028050/삼성엔지니어링 49/52, 361610/SK아이이테크놀로지 50/52, 086280/현대글로비스 51/52, 302440/SK바이오사이언스 52/52, "
     ]
    }
   ],
   "source": [
    "pkl_directory = 'data/company_pkl/historical_data/'\n",
    "modi_directory = 'data/company_pkl/'\n",
    "modification_time = pd.read_pickle(modi_directory + 'modification_time_company_his.pkl')\n",
    "total = len(code)\n",
    "\n",
    "for i, (key, val) in enumerate(code.items()):\n",
    "    com_name = \"/\".join([key, val[0]])\n",
    "    pkl_name= '{}_historical.pkl'.format(val[1])\n",
    "    try :\n",
    "        df_o = pd.read_pickle(pkl_directory + pkl_name)\n",
    "        start_date = df_o['date'].iloc[len(df_o)-1]\n",
    "    except :\n",
    "        start_date = datetime.date(2022, 1, 1)   # 데이터 취득 시작 일자     \n",
    "\n",
    "#     start_date = datetime.date(2023, 5, 11)  # 데이터 취득 오류시 일시 사용\n",
    "        \n",
    "    end_date = datetime.date.today()\n",
    "    get_data_company(com_name)\n",
    "    df_get = get_data(start_date, end_date)\n",
    "    df_out = non_empty_index_df(df_get, start_date, end_date)\n",
    "#   NaN to null string. cause NaN does not replace original values in the original datafram    \n",
    "    try :\n",
    "        df_o = concat_df(df_o, df_out) # append df to original df\n",
    "    except :\n",
    "        df_o = df_out.copy()\n",
    "        \n",
    "    # 개장일이 아닌 row는 삭제\n",
    "    df_o = select_openingdays(df_o, opening_days_kor)\n",
    "    \n",
    "    df_o.replace(np.nan, '', inplace=True)\n",
    "    df_o.to_pickle(pkl_directory+pkl_name)\n",
    "    df_o.to_csv(pkl_directory+pkl_name.replace('pkl','csv'))\n",
    "    ## modification_time.loc[pkl_name][0] = datetime.datetime.now()\n",
    "    modification_time.loc[0, pkl_name] = datetime.datetime.now() \n",
    "    \n",
    "    print(com_name, f'{i+1}/{total}', end=', ') # 진행상황 확인용\n",
    "    \n",
    "modification_time.to_pickle(modi_directory+'modification_time_company_his.pkl')\n",
    "modification_time.to_csv(modi_directory+'modification_time_company_his.csv')"
   ]
  },
  {
   "cell_type": "markdown",
   "id": "97b1148e",
   "metadata": {},
   "source": [
    "### 투자자별 현황\n",
    " - 거래 정보와 코딩 구성등 형태는 똑 같으나, empty_datetime index 내용과, column selected 내용이 서로 달라서,\n",
    "    별개의 루틴으로 구성함."
   ]
  },
  {
   "cell_type": "code",
   "execution_count": 23,
   "id": "ef27a421",
   "metadata": {},
   "outputs": [],
   "source": [
    "def date_set(datei): # 하루 하루 데이터를 받아야 함.\n",
    "# end_date를 먼저 입력하고 start date 입력. 반대로 하면 start date가 이전날짜로  reset되어짐\n",
    "    driver.find_element(By.ID, 'endDd').clear()\n",
    "    driver.find_element(By.ID, 'endDd').send_keys(datei)\n",
    "    time.sleep(1)\n",
    "    driver.find_element(By.ID, 'strtDd').clear()\n",
    "    driver.find_element(By.ID, 'strtDd').send_keys(datei)\n",
    "    time.sleep(1)\n",
    "    return"
   ]
  },
  {
   "cell_type": "code",
   "execution_count": 24,
   "id": "d0ea442f",
   "metadata": {},
   "outputs": [],
   "source": [
    "def push_button_1(): # 조회 button push\n",
    "    xp = '/html/body/div[2]/section[2]/section/section/div/div[2]/form/div[1]/div/a' \n",
    "    # use full xpath to avoid 'Message: element not interactable' Error\n",
    "    driver.find_element(By.XPATH, xp).click()\n",
    "    time.sleep(1) # 여유시간 배분\n",
    "    css_sel = 'div.loading-bar-wrap.small' # 각기 다른 loading 페이지에서 공통적으로 사용됨\n",
    "    element = WebDriverWait(driver, 60).until(EC.invisibility_of_element_located((By.CSS_SELECTOR, css_sel)))\n",
    "    # 위 라인은 pop up 창이 사라질 때까지 기다리게 해 줌\n",
    "    time.sleep(1) # 여유시간 배분\n",
    "    return"
   ]
  },
  {
   "cell_type": "code",
   "execution_count": 25,
   "id": "43674fed",
   "metadata": {},
   "outputs": [],
   "source": [
    "base_data_directory = './data/base_data/stock_market_holydays/'\n",
    "opening_days_kor = pd.read_pickle(base_data_directory+'opening_days_kor.pkl') # 한국 개장일 데이터 \n",
    "def is_opening_day(date): # 개장일 확인\n",
    "    date = datetime.datetime.strptime(date, \"%Y%m%d\").date()\n",
    "    if date in list(opening_days_kor):\n",
    "        return True\n",
    "    else:\n",
    "        return False"
   ]
  },
  {
   "cell_type": "code",
   "execution_count": 26,
   "id": "aa66ac92",
   "metadata": {},
   "outputs": [],
   "source": [
    "index_name = ['investor', 'sell_quantity', 'buy_quantity', 'pure_buy_quantity', 'sell', 'buy', 'pure_buy']\n",
    "column_name = ['financial', 'insurance', 'invtrust', 'privequity', 'bank', 'financeetc', 'pension',\n",
    "              'institution', 'corporateetc', 'retail', 'foreigner', 'foreigneretc', 'total' ]\n",
    "def get_daily_data(date_range):\n",
    "    df_org = None\n",
    "    for datei in date_range: \n",
    "        \n",
    "        if not is_opening_day(datei): # 나중(5월 2일 이후)에 개장일만 수집하도록 수정할 것\n",
    "            continue\n",
    "\n",
    "        date_set(datei)\n",
    "        push_button_1()\n",
    "        # df = pd.read_html(driver.page_source, \n",
    "        #                   attrs={\"class\": \"CI-GRID-BODY-TABLE\"}, flavor=[\"lxml\", \"bs4\"])[0]\n",
    "        \n",
    "        df = pd.read_html(io.StringIO(str(driver.page_source)), \n",
    "                          attrs={\"class\": \"CI-GRID-BODY-TABLE\"}, flavor=[\"lxml\", \"bs4\"])[0]\n",
    "        df.columns = index_name\n",
    "        df_new = df[['investor', 'pure_buy']] # 순매수 금액\n",
    "        df_new.set_index('investor', inplace=True)\n",
    "        dft = df_new.T\n",
    "        dft.columns = column_name\n",
    "        dft.insert(0, \"date\", datetime.datetime.strptime(datei, \"%Y%m%d\"))\n",
    "        dft.reset_index(drop=True, inplace=True)\n",
    "        if df_org is None:\n",
    "            df_org = dft.copy()\n",
    "            continue\n",
    "#         df_org = df_org.append(dft, ignore_index=True) # append will be depreciated\n",
    "        df_org =pd.concat([df_org,dft], ignore_index=True)\n",
    "        \n",
    "    return df_org"
   ]
  },
  {
   "cell_type": "code",
   "execution_count": 27,
   "id": "9a5fb9f8",
   "metadata": {},
   "outputs": [],
   "source": [
    "def get_data_company_investor(com_name, start_date, end_date):\n",
    "    \n",
    "    com_ticker = com_name[:6]\n",
    "    # 회사이름 입력 Q 버튼\n",
    "    driver.find_element(By.CSS_SELECTOR, '#btnisuCd_finder_stkisu0_1').click()\n",
    "    time.sleep(2)\n",
    "\n",
    "    # pop up된 입력창에서 회사이름 입력\n",
    "    id_name = 'searchText__finder_stkisu0_1'\n",
    "    element = WebDriverWait(driver, 60).until(EC.element_to_be_clickable((By.ID, id_name)))\n",
    "    driver.find_element(By.ID, id_name).clear()\n",
    "    time.sleep(1)\n",
    "    \n",
    "    driver.find_element(By.ID, 'searchText__finder_stkisu0_1').send_keys(com_name)\n",
    "    time.sleep(1)\n",
    "\n",
    "    # 검색 버튼 푸시\n",
    "    css_name = '#searchBtn__finder_stkisu0_1'\n",
    "    element = WebDriverWait(driver, 60).until(EC.element_to_be_clickable((By.CSS_SELECTOR, css_name)))\n",
    "    driver.find_element(By.CSS_SELECTOR, css_name).click()\n",
    "    time.sleep(1)\n",
    "\n",
    "    # 테이블에서 최종 선택\n",
    "    css_sel = '#jsGrid__finder_stkisu0_1 > tbody > tr:nth-child(1) > td:nth-child(1)'\n",
    "\n",
    "    element = WebDriverWait(driver, 60).until(EC.text_to_be_present_in_element((By.CSS_SELECTOR, css_sel), com_ticker))\n",
    "    driver.find_element(By.CSS_SELECTOR, css_sel).click()\n",
    "    time.sleep(2)\n",
    "    \n",
    "    date_range = convert_date(start_date, end_date)\n",
    "    return get_daily_data(date_range)"
   ]
  },
  {
   "cell_type": "code",
   "execution_count": 28,
   "id": "c877b81c",
   "metadata": {},
   "outputs": [],
   "source": [
    "def convert_date(start_date, end_date):\n",
    "    date_range_ts = pd.date_range(start=start_date, end=end_date)\n",
    "    date_range = []\n",
    "    for x in date_range_ts:\n",
    "        date_range.append(datetime.datetime.strftime(x, \"%Y%m%d\"))\n",
    "    return date_range"
   ]
  },
  {
   "cell_type": "code",
   "execution_count": 29,
   "id": "7aeb7361",
   "metadata": {},
   "outputs": [],
   "source": [
    "# 투자자별 URL로 변경\n",
    "main_url = 'http://data.krx.co.kr/contents/MDC/MDI/mdiLoader/index.cmd?menuId=MDC0201020203'\n",
    "driver.get(main_url)\n",
    "time.sleep(2)"
   ]
  },
  {
   "cell_type": "code",
   "execution_count": 30,
   "id": "56045dc8",
   "metadata": {},
   "outputs": [],
   "source": [
    "# Message: element not interactable Error 방지용. 클릭하기 위하여는 그 위치가 클릭할 수 있게 노출되어 있어야 함\n",
    "# 투자자별 거래실적 버튼이 위치한 곳으로 화면 scroll \n",
    "\n",
    "# id가 jsOpenView_1 인 element 를 찾음\n",
    "stop_tag = driver.find_element(By.ID, 'jsOpenView_1')\n",
    "\n",
    "# jsOpenView_1 element 까지 스크롤\n",
    "action = ActionChains(driver)\n",
    "action.move_to_element(stop_tag).perform()"
   ]
  },
  {
   "cell_type": "code",
   "execution_count": 31,
   "id": "a5eb268d",
   "metadata": {},
   "outputs": [],
   "source": [
    "# 투자자별 거래 실적 버튼 클릭\n",
    "driver.find_element(By.ID, 'jsOpenView_1').click()\n",
    "time.sleep(2)"
   ]
  },
  {
   "cell_type": "code",
   "execution_count": 32,
   "id": "cb3b71bd",
   "metadata": {},
   "outputs": [],
   "source": [
    "# 백만원 단위 표시 선정\n",
    "css_sel = '#MDCSTAT023_FORM > div.CI-MDI-UNIT-WRAP > div > p:nth-child(2) > select.CI-MDI-UNIT-MONEY > option:nth-child(3)'\n",
    "\n",
    "driver.find_element(By.CSS_SELECTOR, css_sel).click()\n",
    "time.sleep(1)"
   ]
  },
  {
   "cell_type": "code",
   "execution_count": 33,
   "id": "ddaf9931",
   "metadata": {},
   "outputs": [],
   "source": [
    "# code = { '011070': ['LG이노텍', 'lginnotek'],\n",
    "#          '028050': ['삼성엔지니어링', 'ssengineering'],\n",
    "#          '361610': ['SK아이이테크놀로지', 'skietech'],\n",
    "#          '086280': ['현대글로비스', 'glovis'],\n",
    "#          '302440': ['SK바이오사이언스', 'skbio']}"
   ]
  },
  {
   "cell_type": "code",
   "execution_count": 34,
   "id": "c9c96875-581e-474b-9980-b1a7eeb0a7ba",
   "metadata": {},
   "outputs": [],
   "source": [
    "pkl_directory = 'data/company_pkl/investors_data/'\n",
    "modi_directory = 'data/company_pkl/'\n",
    "# modification_time = {} # 데이터가 생성된 시간 저장 dictionary\n",
    "modification_time = pd.read_pickle(modi_directory + 'modification_time_company_inv.pkl')\n",
    "pkl_name= 'sec_investors.pkl'\n",
    "# pkl_name= 'lginnotek_investors.pkl'\n",
    "# pkl_name= 'skbio_investors.pkl'"
   ]
  },
  {
   "cell_type": "code",
   "execution_count": 35,
   "id": "2e6262ac-b589-4de0-a85e-63644fb6701a",
   "metadata": {},
   "outputs": [
    {
     "data": {
      "text/html": [
       "<div>\n",
       "<style scoped>\n",
       "    .dataframe tbody tr th:only-of-type {\n",
       "        vertical-align: middle;\n",
       "    }\n",
       "\n",
       "    .dataframe tbody tr th {\n",
       "        vertical-align: top;\n",
       "    }\n",
       "\n",
       "    .dataframe thead th {\n",
       "        text-align: right;\n",
       "    }\n",
       "</style>\n",
       "<table border=\"1\" class=\"dataframe\">\n",
       "  <thead>\n",
       "    <tr style=\"text-align: right;\">\n",
       "      <th></th>\n",
       "      <th>date</th>\n",
       "      <th>retail</th>\n",
       "      <th>foreigner</th>\n",
       "      <th>institution</th>\n",
       "      <th>financial</th>\n",
       "      <th>invtrust</th>\n",
       "      <th>pension</th>\n",
       "      <th>privequity</th>\n",
       "      <th>bank</th>\n",
       "      <th>insurance</th>\n",
       "      <th>financeetc</th>\n",
       "      <th>corporateetc</th>\n",
       "      <th>foreigneretc</th>\n",
       "    </tr>\n",
       "  </thead>\n",
       "  <tbody>\n",
       "    <tr>\n",
       "      <th>1232</th>\n",
       "      <td>2025-01-03</td>\n",
       "      <td>-204685.0</td>\n",
       "      <td>35366.0</td>\n",
       "      <td>116408.0</td>\n",
       "      <td>81818.0</td>\n",
       "      <td>7114.0</td>\n",
       "      <td>17935.0</td>\n",
       "      <td>6633.0</td>\n",
       "      <td>381.0</td>\n",
       "      <td>1930.0</td>\n",
       "      <td>598.0</td>\n",
       "      <td>53677.0</td>\n",
       "      <td>-766.0</td>\n",
       "    </tr>\n",
       "    <tr>\n",
       "      <th>1233</th>\n",
       "      <td>2025-01-06</td>\n",
       "      <td>-202253.0</td>\n",
       "      <td>95839.0</td>\n",
       "      <td>52991.0</td>\n",
       "      <td>-16806.0</td>\n",
       "      <td>19444.0</td>\n",
       "      <td>23809.0</td>\n",
       "      <td>11149.0</td>\n",
       "      <td>534.0</td>\n",
       "      <td>13093.0</td>\n",
       "      <td>1768.0</td>\n",
       "      <td>54320.0</td>\n",
       "      <td>-898.0</td>\n",
       "    </tr>\n",
       "    <tr>\n",
       "      <th>1234</th>\n",
       "      <td>2025-01-07</td>\n",
       "      <td>4123.0</td>\n",
       "      <td>-48900.0</td>\n",
       "      <td>-13323.0</td>\n",
       "      <td>-76475.0</td>\n",
       "      <td>14847.0</td>\n",
       "      <td>43327.0</td>\n",
       "      <td>1621.0</td>\n",
       "      <td>160.0</td>\n",
       "      <td>2124.0</td>\n",
       "      <td>1074.0</td>\n",
       "      <td>58531.0</td>\n",
       "      <td>-430.0</td>\n",
       "    </tr>\n",
       "    <tr>\n",
       "      <th>1235</th>\n",
       "      <td>2025-01-08</td>\n",
       "      <td>-337492.0</td>\n",
       "      <td>275671.0</td>\n",
       "      <td>23450.0</td>\n",
       "      <td>-69314.0</td>\n",
       "      <td>28721.0</td>\n",
       "      <td>48756.0</td>\n",
       "      <td>5613.0</td>\n",
       "      <td>699.0</td>\n",
       "      <td>6583.0</td>\n",
       "      <td>2393.0</td>\n",
       "      <td>40694.0</td>\n",
       "      <td>-2324.0</td>\n",
       "    </tr>\n",
       "    <tr>\n",
       "      <th>1236</th>\n",
       "      <td>2025-01-09</td>\n",
       "      <td>98401.0</td>\n",
       "      <td>43374.0</td>\n",
       "      <td>-183639.0</td>\n",
       "      <td>-185534.0</td>\n",
       "      <td>13414.0</td>\n",
       "      <td>12515.0</td>\n",
       "      <td>-25561.0</td>\n",
       "      <td>209.0</td>\n",
       "      <td>2217.0</td>\n",
       "      <td>-898.0</td>\n",
       "      <td>41642.0</td>\n",
       "      <td>222.0</td>\n",
       "    </tr>\n",
       "  </tbody>\n",
       "</table>\n",
       "</div>"
      ],
      "text/plain": [
       "           date    retail  foreigner  institution  financial  invtrust  \\\n",
       "1232 2025-01-03 -204685.0    35366.0     116408.0    81818.0    7114.0   \n",
       "1233 2025-01-06 -202253.0    95839.0      52991.0   -16806.0   19444.0   \n",
       "1234 2025-01-07    4123.0   -48900.0     -13323.0   -76475.0   14847.0   \n",
       "1235 2025-01-08 -337492.0   275671.0      23450.0   -69314.0   28721.0   \n",
       "1236 2025-01-09   98401.0    43374.0    -183639.0  -185534.0   13414.0   \n",
       "\n",
       "      pension  privequity   bank  insurance  financeetc  corporateetc  \\\n",
       "1232  17935.0      6633.0  381.0     1930.0       598.0       53677.0   \n",
       "1233  23809.0     11149.0  534.0    13093.0      1768.0       54320.0   \n",
       "1234  43327.0      1621.0  160.0     2124.0      1074.0       58531.0   \n",
       "1235  48756.0      5613.0  699.0     6583.0      2393.0       40694.0   \n",
       "1236  12515.0    -25561.0  209.0     2217.0      -898.0       41642.0   \n",
       "\n",
       "      foreigneretc  \n",
       "1232        -766.0  \n",
       "1233        -898.0  \n",
       "1234        -430.0  \n",
       "1235       -2324.0  \n",
       "1236         222.0  "
      ]
     },
     "execution_count": 35,
     "metadata": {},
     "output_type": "execute_result"
    }
   ],
   "source": [
    "df_o = pd.read_pickle(pkl_directory + pkl_name)\n",
    "df_o.tail()"
   ]
  },
  {
   "cell_type": "code",
   "execution_count": 36,
   "id": "eb4b0e70-703f-4356-9a28-95c3f1ef8b0c",
   "metadata": {},
   "outputs": [
    {
     "data": {
      "text/plain": [
       "Timestamp('2025-01-09 00:00:00')"
      ]
     },
     "execution_count": 36,
     "metadata": {},
     "output_type": "execute_result"
    }
   ],
   "source": [
    "start_date = df_o['date'].iloc[len(df_o)-1]\n",
    "start_date"
   ]
  },
  {
   "cell_type": "code",
   "execution_count": 37,
   "id": "c98c0066",
   "metadata": {
    "scrolled": true
   },
   "outputs": [
    {
     "name": "stdout",
     "output_type": "stream",
     "text": [
      "005930/삼성전자 1/52, 373220/LG에너지솔루션 2/52, 000660/SK하이닉스 3/52, 207940/삼성바이오로직스 4/52, 006400/삼성SDI 5/52, 051910/LG화학 6/52, 005935/삼성전자우 7/52, 005380/현대차 8/52, 035420/NAVER 9/52, 000270/기아 10/52, 035720/카카오 11/52, 005490/POSCO홀딩스 12/52, 105560/KB금융 13/52, 028260/삼성물산 14/52, 068270/셀트리온 15/52, 012330/현대모비스 16/52, 055550/신한지주 17/52, 066570/LG전자 18/52, 003670/포스코퓨처엠 19/52, 096770/SK이노베이션 20/52, 033780/KT&G 21/52, 030200/KT 22/52, 003550/LG 23/52, 034730/SK 24/52, 032830/삼성생명 25/52, 086790/하나금융지주 26/52, 009150/삼성전기 27/52, 015760/한국전력 28/52, 034020/두산에너빌리티 29/52, 010130/고려아연 30/52, 017670/SK텔레콤 31/52, 011200/HMM 32/52, 000810/삼성화재 33/52, 051900/LG생활건강 34/52, 010950/S-Oil 35/52, 259960/크래프톤 36/52, 018260/삼성에스디에스 37/52, 329180/현대중공업 38/52, 003490/대한항공 39/52, 036570/엔씨소프트 40/52, 009830/한화솔루션 41/52, 316140/우리금융지주 42/52, 090430/아모레퍼시픽 43/52, 011170/롯데케미칼 44/52, 024110/기업은행 45/52, 138040/메리츠금융지주 46/52, 377300/카카오페이 47/52, 011070/LG이노텍 48/52, 028050/삼성엔지니어링 49/52, 361610/SK아이이테크놀로지 50/52, 086280/현대글로비스 51/52, 302440/SK바이오사이언스 52/52, "
     ]
    }
   ],
   "source": [
    "pkl_directory = 'data/company_pkl/investors_data/'\n",
    "modi_directory = 'data/company_pkl/'\n",
    "# modification_time = {} # 데이터가 생성된 시간 저장 dictionary\n",
    "modification_time = pd.read_pickle(modi_directory + 'modification_time_company_inv.pkl')\n",
    "total = len(code)\n",
    "\n",
    "for i, (key, val) in enumerate(code.items()):\n",
    "    com_name = \"/\".join([key, val[0]])\n",
    "    pkl_name= '{}_investors.pkl'.format(val[1])\n",
    "    try :\n",
    "        df_o = pd.read_pickle(pkl_directory + pkl_name)\n",
    "        start_date = df_o['date'].iloc[len(df_o)-1]\n",
    "    except :\n",
    "        start_date = datetime.date(2022, 1, 1)   # 데이터 취득 시작 일자 \n",
    "        \n",
    "#     start_date = datetime.date(2023, 5, 11) # 데이터 취득 오류시 일시 사용\n",
    "\n",
    "    end_date = datetime.date.today()\n",
    "    df_out = get_data_company_investor(com_name, start_date, end_date)\n",
    "    try :\n",
    "        df_out = df_out[df_o.columns]     \n",
    "        df_o = concat_df(df_o, df_out) # append df to original df\n",
    "    except :\n",
    "        df_col = ['date', 'retail', 'foreigner', 'institution', 'financial', 'invtrust',\n",
    "                  'pension', 'privequity', 'bank', 'insurance', 'financeetc',\n",
    "                  'corporateetc', 'foreigneretc']\n",
    "        df_out = df_out[df_col]\n",
    "        df_o = df_out.copy()\n",
    "        \n",
    "    # 개장일이 아닌 row는 삭제\n",
    "    df_o = select_openingdays(df_o, opening_days_kor)\n",
    "    \n",
    "    df_o.to_pickle(pkl_directory+pkl_name)\n",
    "    df_o.to_csv(pkl_directory+pkl_name.replace('pkl','csv'))\n",
    "    # modification_time.loc[pkl_name][0] = datetime.datetime.now()\n",
    "    modification_time.loc[0, pkl_name] = datetime.datetime.now()\n",
    "    \n",
    "    print(com_name, f'{i+1}/{total}', end=', ') # 진행상황 확인용\n",
    "    \n",
    "modification_time.to_pickle(modi_directory+'modification_time_company_inv.pkl')\n",
    "modification_time.to_csv(modi_directory+'modification_time_company_inv.csv')"
   ]
  },
  {
   "cell_type": "code",
   "execution_count": 38,
   "id": "5cb18ada",
   "metadata": {},
   "outputs": [],
   "source": [
    "driver.close()\n",
    "driver.quit()"
   ]
  },
  {
   "cell_type": "code",
   "execution_count": null,
   "id": "b3b0ac20",
   "metadata": {},
   "outputs": [],
   "source": [
    "code"
   ]
  },
  {
   "cell_type": "code",
   "execution_count": null,
   "id": "a5b88804",
   "metadata": {},
   "outputs": [],
   "source": [
    "code =  { \n",
    " '011070': ['LG이노텍', 'lginnotek'],\n",
    " '028050': ['삼성엔지니어링', 'ssengineering'],\n",
    " '361610': ['SK아이이테크놀로지', 'skietech'],\n",
    " '086280': ['현대글로비스', 'glovis'],\n",
    " '302440': ['SK바이오사이언스', 'skbio']}"
   ]
  },
  {
   "cell_type": "code",
   "execution_count": null,
   "id": "d7e8baa9",
   "metadata": {},
   "outputs": [],
   "source": [
    "code"
   ]
  },
  {
   "cell_type": "code",
   "execution_count": null,
   "id": "27dd53f6",
   "metadata": {},
   "outputs": [],
   "source": [
    "code"
   ]
  },
  {
   "cell_type": "code",
   "execution_count": null,
   "id": "f3a51b95-fcc3-42de-95dc-63f82fbc298f",
   "metadata": {},
   "outputs": [],
   "source": [
    "code ={\n",
    " '329180': ['현대중공업', 'hhi'],\n",
    " '003490': ['대한항공', 'koreanair'],\n",
    " '036570': ['엔씨소프트', 'ncsoft'],\n",
    " '009830': ['한화솔루션', 'hanhwasol'],\n",
    " '316140': ['우리금융지주', 'woorifg'],\n",
    " '090430': ['아모레퍼시픽', 'amore'],\n",
    " '011170': ['롯데케미칼', 'lottechem'],\n",
    " '024110': ['기업은행', 'ibk'],\n",
    " '138040': ['메리츠금융지주', 'meritz'],\n",
    " '377300': ['카카오페이', 'kakaopay'],\n",
    " '011070': ['LG이노텍', 'lginnotek'],\n",
    " '028050': ['삼성엔지니어링', 'ssengineering'],\n",
    " '361610': ['SK아이이테크놀로지', 'skietech'],\n",
    " '086280': ['현대글로비스', 'glovis'],\n",
    " '302440': ['SK바이오사이언스', 'skbio']}"
   ]
  },
  {
   "cell_type": "code",
   "execution_count": null,
   "id": "7154bdc3-4474-49e5-be0e-e2f323633ef7",
   "metadata": {},
   "outputs": [],
   "source": [
    "code ={\n",
    " '090430': ['아모레퍼시픽', 'amore'],\n",
    " '011170': ['롯데케미칼', 'lottechem'],\n",
    " '024110': ['기업은행', 'ibk'],\n",
    " '138040': ['메리츠금융지주', 'meritz'],\n",
    " '377300': ['카카오페이', 'kakaopay'],\n",
    " '011070': ['LG이노텍', 'lginnotek'],\n",
    " '028050': ['삼성엔지니어링', 'ssengineering'],\n",
    " '361610': ['SK아이이테크놀로지', 'skietech'],\n",
    " '086280': ['현대글로비스', 'glovis'],\n",
    " '302440': ['SK바이오사이언스', 'skbio']}"
   ]
  },
  {
   "cell_type": "code",
   "execution_count": null,
   "id": "b878f6ab-8cb1-4337-8682-1d89e0286d60",
   "metadata": {},
   "outputs": [],
   "source": [
    "input(\"aa\")"
   ]
  },
  {
   "cell_type": "code",
   "execution_count": null,
   "id": "375cde1a-9307-4a22-9e69-56986569625b",
   "metadata": {},
   "outputs": [],
   "source": [
    "k = int(input(\"aa\"))\n",
    "k + 5"
   ]
  },
  {
   "cell_type": "code",
   "execution_count": null,
   "id": "8fb64f4d-c8e6-4261-b44d-49b43a8d8f12",
   "metadata": {},
   "outputs": [],
   "source": []
  }
 ],
 "metadata": {
  "kernelspec": {
   "display_name": "Python 3 (ipykernel)",
   "language": "python",
   "name": "python3"
  },
  "language_info": {
   "codemirror_mode": {
    "name": "ipython",
    "version": 3
   },
   "file_extension": ".py",
   "mimetype": "text/x-python",
   "name": "python",
   "nbconvert_exporter": "python",
   "pygments_lexer": "ipython3",
   "version": "3.13.1"
  }
 },
 "nbformat": 4,
 "nbformat_minor": 5
}
