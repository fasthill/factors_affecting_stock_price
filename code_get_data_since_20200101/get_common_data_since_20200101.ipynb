{
 "cells": [
  {
   "cell_type": "markdown",
   "id": "atlantic-congress",
   "metadata": {},
   "source": [
    "### 최초 한번 실행 과거 데이터 추출용"
   ]
  },
  {
   "cell_type": "code",
   "execution_count": 1,
   "id": "be578982",
   "metadata": {},
   "outputs": [],
   "source": [
    "from selenium import webdriver as wd\n",
    "from selenium.webdriver.chrome.options import Options\n",
    "from selenium.webdriver.common.keys import Keys\n",
    "from selenium.webdriver.common.by import By\n",
    "from selenium.webdriver.support.ui import WebDriverWait\n",
    "from selenium.webdriver.support import expected_conditions as EC\n",
    "\n",
    "import chromedriver_autoinstaller"
   ]
  },
  {
   "cell_type": "code",
   "execution_count": 2,
   "id": "b6071c61",
   "metadata": {},
   "outputs": [],
   "source": [
    "from bs4 import BeautifulSoup as bs\n",
    "import datetime, time\n",
    "\n",
    "import pandas as pd\n",
    "import numpy as np\n",
    "\n",
    "import subprocess\n",
    "import shutil\n",
    "import pyperclip\n",
    "\n",
    "import requests\n",
    "import os, sys"
   ]
  },
  {
   "cell_type": "code",
   "execution_count": 3,
   "id": "56b90a6f",
   "metadata": {},
   "outputs": [],
   "source": [
    "try:\n",
    "    shutil.rmtree(r\"c:\\chrometemp\")  #쿠키 / 캐쉬파일 삭제. 정보를 지울 필요가 없으면 이부분은 그냥 skip\n",
    "except FileNotFoundError:\n",
    "    pass"
   ]
  },
  {
   "cell_type": "code",
   "execution_count": 4,
   "id": "ec15a172",
   "metadata": {},
   "outputs": [],
   "source": [
    "try:\n",
    "    subprocess.Popen(r'C:\\Program Files\\Google\\Chrome\\Application\\chrome.exe --remote-debugging-port=9222 --user-data-dir=\"C:\\chrometemp1\"')  # 디버거 크롬 구동\n",
    "except:\n",
    "    subprocess.Popen(r'C:\\Program Files (x86)\\Google\\Chrome\\Application\\chrome.exe --remote-debugging-port=9222 --user-data-dir=\"C:\\chrometemp1\"')  # 디버거 크롬 구동\n",
    "# 위 두개의 위치중 한 곳에 chrome이 설치되어 있음."
   ]
  },
  {
   "cell_type": "code",
   "execution_count": 5,
   "id": "4c2baafd",
   "metadata": {},
   "outputs": [],
   "source": [
    "option = Options()\n",
    "option.add_experimental_option(\"debuggerAddress\", \"127.0.0.1:9222\") # 포트 설정. 그냥 복붙하면 됨."
   ]
  },
  {
   "cell_type": "code",
   "execution_count": 6,
   "id": "76d92555",
   "metadata": {},
   "outputs": [],
   "source": [
    "chrome_ver = chromedriver_autoinstaller.get_chrome_version().split('.')[0]\n",
    "try:\n",
    "    driver = wd.Chrome(f'./{chrome_ver}/chromedriver.exe', options=option)\n",
    "except:\n",
    "    chromedriver_autoinstaller.install(True)\n",
    "    driver = wd.Chrome(f'./{chrome_ver}/chromedriver.exe', options=option)\n",
    "driver.implicitly_wait(20)"
   ]
  },
  {
   "cell_type": "code",
   "execution_count": 8,
   "id": "29e69d53",
   "metadata": {},
   "outputs": [],
   "source": [
    "# driver.set_window_position(-10000,0) # hide windows\n",
    "main_url = 'https://kr.investing.com/'\n",
    "driver.get(main_url)\n",
    "time.sleep(1)"
   ]
  },
  {
   "cell_type": "code",
   "execution_count": 9,
   "id": "agreed-roulette",
   "metadata": {},
   "outputs": [],
   "source": [
    "try: # pop up 창이 뜨는 것을 확인\n",
    "    element = driver.find_element_by_id('PromoteSignUpPopUp')\n",
    "    driver.find_element_by_css_selector('#PromoteSignUpPopUp > div.right > i').send_keys(Keys.ENTER)\n",
    "    time.sleep(1)\n",
    "    \n",
    "except:\n",
    "    pass"
   ]
  },
  {
   "cell_type": "code",
   "execution_count": 10,
   "id": "49e9ae39",
   "metadata": {},
   "outputs": [],
   "source": [
    "try: # 이미 로그인이 되어 있으면 skip\n",
    "    driver.find_element_by_css_selector('#userAccount > div > a.login.bold').click() \n",
    "    time.sleep(1)\n",
    "    \n",
    "    id = 'kangeun@naver.com'\n",
    "    pyperclip.copy(id) # control+c 기능 수행\n",
    "    driver.find_element_by_id('loginFormUser_email').clear()\n",
    "    driver.find_element_by_id('loginFormUser_email').send_keys(Keys.CONTROL + 'v')\n",
    "    time.sleep(1)\n",
    "    \n",
    "    pw = os.environ['investing_pass']\n",
    "    pyperclip.copy(pw) # control+c 기능 수행\n",
    "    driver.find_element_by_id('loginForm_password').clear()\n",
    "    driver.find_element_by_id('loginForm_password').send_keys(Keys.CONTROL + 'v')\n",
    "    time.sleep(1)  \n",
    "    \n",
    "    driver.find_element_by_css_selector('#signup > a.newButton.orange').click()  \n",
    "    time.sleep(2)\n",
    "    \n",
    "except:\n",
    "    pass"
   ]
  },
  {
   "cell_type": "code",
   "execution_count": 11,
   "id": "052726d7",
   "metadata": {},
   "outputs": [],
   "source": [
    "file_csv = 'data_common.csv'\n",
    "file_csv = 'data_common_test.csv'\n",
    "df_org = pd.read_csv('../data/{}'.format(file_csv))\n",
    "df_org['date'] = df_org['date'].apply(lambda x : datetime.datetime.strptime(x, \"%Y-%m-%d\"))\n",
    "df_org.set_index('date', inplace=True)\n",
    "df_org.replace(np.nan, '', inplace=True) "
   ]
  },
  {
   "cell_type": "code",
   "execution_count": 12,
   "id": "f3f795b8",
   "metadata": {},
   "outputs": [],
   "source": [
    "spx_url = 'https://kr.investing.com/indices/us-spx-500-historical-data'\n",
    "dji_url = 'https://kr.investing.com/indices/us-30-historical-data'\n",
    "nas_url = 'https://kr.investing.com/indices/nasdaq-composite-historical-data'\n",
    "kospi_url = 'https://kr.investing.com/indices/kospi-historical-data'\n",
    "kosdaq_url = 'https://kr.investing.com/indices/kosdaq-historical-data'\n",
    "sox_url = 'https://kr.investing.com/indices/phlx-semiconductor-historical-data'\n",
    "# cpi_url = 'https://kr.investing.com/economic-calendar/cpi-733'\n",
    "vix_url = 'https://kr.investing.com/indices/volatility-s-p-500-historical-data'\n",
    "\n",
    "urls_major_index = [spx_url, dji_url, nas_url, kospi_url, kosdaq_url, sox_url, vix_url]\n",
    "\n",
    "\n",
    "spx = ['date', 'spx', 'open', 'high', 'low', 'volume', 'spx_cr']\n",
    "dji = ['date', 'dji', 'open', 'high', 'low', 'volume', 'dji_cr']\n",
    "ixix = ['date', 'ixic', 'open', 'high', 'low', 'volume', 'ixic_cr']\n",
    "kospi = ['date', 'kospi', 'open', 'high', 'low', 'volume', 'kospi_cr']\n",
    "kosdaq = ['date', 'kosdaq', 'open', 'high', 'low', 'volume', 'kosdaq_cr']\n",
    "sox = ['date', 'sox', 'open', 'high', 'low', 'volume', 'sox_cr']\n",
    "# cpi = ['date', 'time', 'cpi', 'cpi_anticipated', 'cpi_previous', 'none']\n",
    "# fng = ['date', 'n1', 'n2', 'n3', 'f_g_index']\n",
    "vix = ['date', 'vix', 'open', 'high', 'low', 'volume', 'vix_cr']\n",
    "\n",
    "col_names_major_index = [spx, dji, ixix, kospi, kosdaq, sox, vix ]\n",
    "\n",
    "spx_s = ['date', 'spx', 'spx_cr']\n",
    "dji_s = ['date', 'dji', 'dji_cr']\n",
    "ixic_s = ['date', 'ixic', 'ixic_cr']\n",
    "kospi_s = ['date', 'kospi', 'kospi_cr']\n",
    "kosdaq_s = ['date', 'kosdaq', 'kosdaq_cr']\n",
    "sox_s = ['date', 'sox', 'sox_cr']\n",
    "# cpi_s = ['date', 'cpi', 'cpi_anticipated', 'cpi_previous']\n",
    "# fng_s = ['date', 'f_g_index']\n",
    "vix_s = ['date', 'vix', 'vix_cr']\n",
    "\n",
    "col_names_s_major_index = [spx_s, dji_s, ixic_s, kospi_s, kosdaq_s, sox_s, vix_s]"
   ]
  },
  {
   "cell_type": "code",
   "execution_count": 13,
   "id": "e4d9dd03",
   "metadata": {},
   "outputs": [],
   "source": [
    "us_bond_10yr_url = 'https://kr.investing.com/rates-bonds/u.s.-10-year-bond-yield-historical-data'\n",
    "us_bond_2yr_url = 'https://kr.investing.com/rates-bonds/u.s.-2-year-bond-yield-historical-data'\n",
    "us_bond_3mon_url = 'https://kr.investing.com/rates-bonds/u.s.-3-month-bond-yield-historical-data'\n",
    "kor_bond_10yr_url = 'https://kr.investing.com/rates-bonds/south-korea-10-year-bond-yield-historical-data'\n",
    "kor_bond_2yr_url = 'https://kr.investing.com/rates-bonds/south-korea-2-year-bond-yield-historical-data'\n",
    "\n",
    "urls_bonds = [us_bond_10yr_url, us_bond_2yr_url, us_bond_3mon_url,\n",
    "        kor_bond_10yr_url, kor_bond_2yr_url]"
   ]
  },
  {
   "cell_type": "code",
   "execution_count": 14,
   "id": "664669c2",
   "metadata": {},
   "outputs": [],
   "source": [
    "us_10yr = ['date', 'bond_usa_10', 'open', 'high', 'low', 'bond_usa_10_cr']\n",
    "us_2yr = ['date', 'bond_usa_2', 'open', 'high', 'low', 'bond_usa_2_cr']\n",
    "us_3mon = ['date', 'bond_usa_3m', 'open', 'high', 'low', 'bond_usa_3m_cr']\n",
    "kor_10yr = ['date', 'bond_kor_10', 'open', 'high', 'low', 'bond_kor_10_cr']\n",
    "kor_2yr = ['date', 'bond_kor_2', 'open', 'high', 'low','bond_kor_2_cr']\n",
    "\n",
    "col_names_bonds = [us_10yr, us_2yr, us_3mon, kor_10yr, kor_2yr]"
   ]
  },
  {
   "cell_type": "code",
   "execution_count": 15,
   "id": "77492cfc",
   "metadata": {},
   "outputs": [],
   "source": [
    "us_10yr_s = ['date', 'bond_usa_10', 'bond_usa_10_cr']\n",
    "us_2yr_s = ['date', 'bond_usa_2', 'bond_usa_2_cr']\n",
    "us_3mon_s = ['date', 'bond_usa_3m', 'bond_usa_3m_cr']\n",
    "kor_10yr_s = ['date', 'bond_kor_10', 'bond_kor_10_cr']\n",
    "kor_2yr_s = ['date', 'bond_kor_2', 'bond_kor_2_cr']\n",
    "\n",
    "col_names_s_bonds = [us_10yr_s, us_2yr_s, us_3mon_s, kor_10yr_s, kor_2yr_s]"
   ]
  },
  {
   "cell_type": "code",
   "execution_count": 16,
   "id": "8900e409",
   "metadata": {},
   "outputs": [],
   "source": [
    "krw_rate_url = 'https://kr.investing.com/currencies/usd-krw-historical-data'\n",
    "\n",
    "urls_currencies = [krw_rate_url]"
   ]
  },
  {
   "cell_type": "code",
   "execution_count": 17,
   "id": "4bbda23a",
   "metadata": {},
   "outputs": [],
   "source": [
    "krw_rate = ['date', 'krw', 'open', 'high', 'low', 'krw_cr']\n",
    "\n",
    "col_names_currencies = [krw_rate]"
   ]
  },
  {
   "cell_type": "code",
   "execution_count": 18,
   "id": "6a402747",
   "metadata": {},
   "outputs": [],
   "source": [
    "krw_rate_s = ['date', 'krw', 'krw_cr']\n",
    "\n",
    "col_names_s_currencies = [krw_rate_s]"
   ]
  },
  {
   "cell_type": "code",
   "execution_count": 19,
   "id": "6ddcfc6a",
   "metadata": {},
   "outputs": [],
   "source": [
    "nas_futures_url = 'https://kr.investing.com/indices/nq-100-futures-historical-data'\n",
    "snp_futures_url = 'https://kr.investing.com/indices/us-spx-500-futures-historical-data'\n",
    "dow_futures_url = 'https://kr.investing.com/indices/us-30-futures-historical-data'\n",
    "wti_futures_url = 'https://kr.investing.com/commodities/crude-oil-historical-data'\n",
    "dollar_index_url = 'https://kr.investing.com/currencies/us-dollar-index-historical-data'\n",
    "\n",
    "urls_future = [snp_futures_url, dow_futures_url,  nas_futures_url, wti_futures_url, dollar_index_url ]\n",
    "\n",
    "snp_future = ['date', 'spx_f', 'open', 'high', 'low', 'volume', 'spx_f_cr']\n",
    "dji_future = ['date', 'dji_f', 'open', 'high', 'low', 'volume', 'dji_f_cr']\n",
    "ixic_future = ['date', 'ixic_f', 'open', 'high', 'low', 'volume', 'ixic_f_cr']\n",
    "wti_future = ['date', 'wti', 'open', 'high', 'low', 'volume', 'wti_cr']\n",
    "dxy_future = ['date', 'dxy', 'open', 'high', 'low', 'volume', 'dxy_cr']\n",
    "\n",
    "col_names_future = [snp_future,dji_future,ixic_future, wti_future, dxy_future]\n",
    "\n",
    "snp_future_s = ['date', 'spx_f', 'spx_f_cr']\n",
    "dji_future_s = ['date', 'dji_f', 'dji_f_cr']\n",
    "ixic_future_s = ['date', 'ixic_f', 'ixic_f_cr']\n",
    "wti_future_s = ['date', 'wti', 'wti_cr']\n",
    "dxy_future_s = ['date', 'dxy', 'dxy_cr']\n",
    "\n",
    "col_names_s_future  = [snp_future_s, dji_future_s, ixic_future_s, wti_future_s, dxy_future_s]"
   ]
  },
  {
   "cell_type": "code",
   "execution_count": 20,
   "id": "6f3b777c",
   "metadata": {},
   "outputs": [],
   "source": [
    "urls = urls_major_index + urls_bonds + urls_currencies + urls_future\n",
    "col_names = col_names_major_index + col_names_bonds + col_names_currencies + col_names_future\n",
    "col_names_s = col_names_s_major_index + col_names_s_bonds + col_names_s_currencies + col_names_s_future"
   ]
  },
  {
   "cell_type": "code",
   "execution_count": 21,
   "id": "bfd41f70",
   "metadata": {},
   "outputs": [],
   "source": [
    "def get_index_historical_data(start_date, end_date):\n",
    "    df_append = None\n",
    "    for sd, ed in zip(start_date, end_date):\n",
    "\n",
    "        # driver.find_element(By.ID, 'widgetFieldDateRange').send_keys(Keys.ENTER)\n",
    "        # Message: element not interactable error발생시 강제로 javascript로 click해주어야 함.\n",
    "        element = driver.find_element(By.ID, 'widgetFieldDateRange')  \n",
    "        driver.execute_script(\"arguments[0].click();\", element)\n",
    "        time.sleep(0.5)\n",
    "        driver.find_element_by_id('startDate').clear()\n",
    "        pyperclip.copy(sd) \n",
    "        driver.find_element_by_id('startDate').send_keys(Keys.CONTROL + 'v')\n",
    "        time.sleep(1)\n",
    "        driver.find_element_by_id('endDate').clear()\n",
    "        pyperclip.copy(ed) \n",
    "        driver.find_element_by_id('endDate').send_keys(Keys.CONTROL + 'v')\n",
    "        time.sleep(1)\n",
    "#         driver.find_element_by_css_selector('#applyBtn').click()\n",
    "#         driver.find_element_by_css_selector('#applyBtn').send_keys(Keys.ENTER)\n",
    "        element = driver.find_element(By.ID, 'applyBtn')\n",
    "        driver.execute_script(\"arguments[0].click();\", element)\n",
    "        time.sleep(3) # 시간을 줘야 함.\n",
    "        df_t = pd.read_html(driver.page_source, \n",
    "                          attrs={\"id\": \"curr_table\"}, flavor=[\"lxml\", \"bs4\"])[0]\n",
    "        if df_append is None:\n",
    "            df_append = df_t.copy()\n",
    "            continue\n",
    "        df_append = df_append.append(df_t, ignore_index=True)\n",
    "        \n",
    "    df_append.sort_values(by=[df_append.columns[0]], inplace=True)\n",
    "    df_append.index = np.arange(0, len(df_append))\n",
    "    return df_append"
   ]
  },
  {
   "cell_type": "code",
   "execution_count": 22,
   "id": "therapeutic-canberra",
   "metadata": {},
   "outputs": [],
   "source": [
    "def make_datetime_series_df(df, start_date, end_date):\n",
    "    # make dataframe with no empty date index with input df.\n",
    "    # start_date =  '2021-01-01' str type.\n",
    "    # df.index = datetime series\n",
    "    # df.columns = ['a', 'b',,,,]\n",
    "    date_range_ts = pd.date_range(start=start_date, end=end_date)\n",
    "    df_empty = pd.DataFrame(columns = df.columns)\n",
    "    df_empty.insert(0, 'date', date_range_ts)\n",
    "    df_empty.replace(np.nan, '', inplace=True) # Nan을 빈 칸으로 대체\n",
    "    df_empty.set_index('date', inplace=True)\n",
    "    df_empty.update(df)\n",
    "    return df_empty"
   ]
  },
  {
   "cell_type": "code",
   "execution_count": 23,
   "id": "3ab9c7b6",
   "metadata": {},
   "outputs": [],
   "source": [
    "# 검색하고자 하는 일정 기간 정의\n",
    "start_date = \\\n",
    "     ['2020/01/01', '2020/03/01', '2020/05/01', '2020/07/01', '2020/09/01', '2020/11/01',\n",
    "      '2021/01/01', '2021/03/01', '2021/05/01', '2021/07/01', '2021/09/01', '2021/11/01', \n",
    "      '2022/01/01', '2022/03/01', '2022/05/01', '2022/07/01']\n",
    "end_date = \\\n",
    "     ['2020/02/29', '2020/04/30', '2020/06/30', '2020/08/31', '2020/10/31', '2020/12/31',\n",
    "      '2021/02/28', '2021/04/30', '2021/06/30', '2021/08/31', '2021/10/31', '2021/12/31', \n",
    "      '2022/02/28', '2022/04/30', '2022/06/30', '2022/08/31']"
   ]
  },
  {
   "cell_type": "code",
   "execution_count": 24,
   "id": "4f11d752",
   "metadata": {},
   "outputs": [],
   "source": [
    "# urls = [kor_bond_10yr_url, kor_bond_2yr_url]\n",
    "# col_names = [kor_10yr, kor_2yr]\n",
    "# col_names_s = [ kor_10yr_s, kor_2yr_s]\n",
    "\n",
    "# start_date = ['2020/01/01', '2020/03/01']\n",
    "# end_date = ['2020/02/29', '2020/04/30' ]"
   ]
  },
  {
   "cell_type": "code",
   "execution_count": 26,
   "id": "78150ef5",
   "metadata": {},
   "outputs": [
    {
     "name": "stdout",
     "output_type": "stream",
     "text": [
      "https://kr.investing.com/rates-bonds/south-korea-10-year-bond-yield-historical-data\n",
      "https://kr.investing.com/rates-bonds/south-korea-2-year-bond-yield-historical-data\n"
     ]
    }
   ],
   "source": [
    "for i, url in enumerate(urls):\n",
    "    driver.get(url)\n",
    "    df = get_index_historical_data(start_date, end_date)\n",
    "\n",
    "    print(url)\n",
    "    df.columns = col_names[i]\n",
    "    df['date'] = df['date'].apply(lambda x : datetime.datetime.strptime(x, \"%Y년 %m월 %d일\"))\n",
    "    df.drop_duplicates(subset=['date'], keep='last', inplace=True) \n",
    "    # 중복항목 삭제. 필수 검토해야 함. 중복입력되는 경우 다수 발생\n",
    "    df_select = df[col_names_s[i]]\n",
    "    \n",
    "    df_select.set_index('date', inplace=True)\n",
    "    \n",
    "    df_select = make_datetime_series_df(df_select, '2020-01-01', '2022-07-31')\n",
    "    \n",
    "    df_org.update(df_select)"
   ]
  },
  {
   "cell_type": "code",
   "execution_count": null,
   "id": "5d7ad118",
   "metadata": {},
   "outputs": [],
   "source": [
    "# df_org.reset_index(inplace=True)\n",
    "# df_org.to_csv('data/data_common.csv', index=False)"
   ]
  },
  {
   "cell_type": "markdown",
   "id": "2a21a944",
   "metadata": {},
   "source": [
    "#### get append cpi"
   ]
  },
  {
   "cell_type": "code",
   "execution_count": 27,
   "id": "sunrise-arrest",
   "metadata": {},
   "outputs": [],
   "source": [
    "cpi_url = 'https://kr.investing.com/economic-calendar/cpi-733'\n",
    "driver.get(cpi_url)"
   ]
  },
  {
   "cell_type": "code",
   "execution_count": 28,
   "id": "straight-continent",
   "metadata": {},
   "outputs": [],
   "source": [
    "for _ in range(5):\n",
    "    driver.find_element_by_css_selector('#showMoreHistory733 > a').send_keys(Keys.ENTER)\n",
    "    time.sleep(1)"
   ]
  },
  {
   "cell_type": "code",
   "execution_count": 29,
   "id": "annoying-variance",
   "metadata": {},
   "outputs": [],
   "source": [
    "df = pd.read_html(driver.page_source, flavor=[\"lxml\", \"bs4\"])[0]\n",
    "df.columns = ['date', 'time', 'cpi', 'cpi_anticipated', 'cpi_previous', 'none']\n",
    "df['time'] = df['time'].apply(lambda x : datetime.datetime.strptime(x, \"%H:%M\").time())\n",
    "df['date'] = df['date'].apply(lambda x : datetime.datetime.strptime(x[:13], \"%Y년 %m월 %d일\"))\n",
    "df.drop_duplicates(subset=['date'], keep='last', inplace=True)\n",
    "\n",
    "df_select = df[['date', 'cpi', 'cpi_anticipated', 'cpi_previous']]\n",
    "df_select.set_index('date', inplace=True)\n",
    "\n",
    "df_select = make_datetime_series_df(df_select, '2020-01-01', '2022-07-31')\n",
    "\n",
    "df_org.update(df_select)"
   ]
  },
  {
   "cell_type": "markdown",
   "id": "alternative-rates",
   "metadata": {},
   "source": [
    "#### get append fear and greed"
   ]
  },
  {
   "cell_type": "code",
   "execution_count": 30,
   "id": "affiliated-married",
   "metadata": {},
   "outputs": [],
   "source": [
    "import pytz, json"
   ]
  },
  {
   "cell_type": "code",
   "execution_count": 31,
   "id": "64e0648a",
   "metadata": {},
   "outputs": [],
   "source": [
    "headers = {'User-Agent': 'Mozilla/5.0 (Macintosh; Intel Mac OS X 10_11_5) \\\n",
    "           AppleWebKit/537.36 (KHTML, like Gecko) Chrome/50.0.2661.102 Safari/537.36'}"
   ]
  },
  {
   "cell_type": "code",
   "execution_count": 32,
   "id": "nervous-steel",
   "metadata": {},
   "outputs": [],
   "source": [
    "BASE_URL = \"https://production.dataviz.cnn.io/index/fearandgreed/graphdata\"\n",
    "START_DATE = '2021-01-01'  # no date before before 2020-08-01, error generated"
   ]
  },
  {
   "cell_type": "code",
   "execution_count": 33,
   "id": "7ad6adda",
   "metadata": {},
   "outputs": [],
   "source": [
    "def transform_timezone(x):\n",
    "    dt = datetime.datetime.fromtimestamp(x / 1000, tz=pytz.utc)\n",
    "#     tzone = pytz.timezone('US/Eastern')\n",
    "    tzone = pytz.timezone('Asia/Seoul')\n",
    "    loc_dt = dt.astimezone(tzone)\n",
    "    return loc_dt.date()"
   ]
  },
  {
   "cell_type": "code",
   "execution_count": 34,
   "id": "governmental-undergraduate",
   "metadata": {},
   "outputs": [],
   "source": [
    "r = requests.get(\"{}/{}\".format(BASE_URL, START_DATE), headers=headers)\n",
    "data = r.json()\n",
    "fg_data = data['fear_and_greed_historical']['data']"
   ]
  },
  {
   "cell_type": "code",
   "execution_count": 35,
   "id": "cb1c6b05",
   "metadata": {},
   "outputs": [],
   "source": [
    "df = pd.DataFrame(fg_data)\n",
    "df.columns = ['date', 'f_g_index', 'rating']\n",
    "# df.head()"
   ]
  },
  {
   "cell_type": "code",
   "execution_count": 36,
   "id": "d0de7f8a",
   "metadata": {},
   "outputs": [],
   "source": [
    "df['date'] = df['date'].apply(lambda x: transform_timezone(x))\n",
    "df['f_g_index'] = df['f_g_index'].astype('int')\n",
    "df.drop_duplicates(subset=['date'], keep='last', inplace=True) # 중복항목 삭제. 필수 검토해야 함. 중복입력되는 경우 다수 발생\n",
    "df_select = df[['date', 'f_g_index']]\n",
    "\n",
    "df_select.set_index('date', inplace=True)\n",
    "\n",
    "df_select = make_datetime_series_df(df_select, '2020-01-01', '2022-07-31')\n",
    "\n",
    "df_org.update(df_select)"
   ]
  },
  {
   "cell_type": "code",
   "execution_count": 37,
   "id": "fc27473b",
   "metadata": {},
   "outputs": [],
   "source": [
    "# df_org.reset_index(inplace=True)\n",
    "# df_org.to_csv('data/data_common.csv', index=False)"
   ]
  },
  {
   "cell_type": "markdown",
   "id": "67a7f19a",
   "metadata": {},
   "source": [
    "#### get and append gold price"
   ]
  },
  {
   "cell_type": "code",
   "execution_count": 38,
   "id": "66d4bcc2",
   "metadata": {},
   "outputs": [],
   "source": [
    "gold_url = 'https://www.usagold.com/daily-gold-price-history/'\n",
    "driver.get(gold_url)"
   ]
  },
  {
   "cell_type": "code",
   "execution_count": 39,
   "id": "8f2decbd",
   "metadata": {},
   "outputs": [],
   "source": [
    "def get_gold_data():\n",
    "    df_append = None\n",
    "    for yr in ['2020', '2021', '2022']:\n",
    "\n",
    "        driver.find_element(By.CSS_SELECTOR, '#goldpricemenu > button').send_keys(Keys.ENTER)\n",
    "        time.sleep(1)\n",
    "        driver.find_element(By.LINK_TEXT, yr).send_keys(Keys.ENTER)\n",
    "        time.sleep(2)\n",
    "        \n",
    "        df = pd.read_html(driver.page_source, flavor=[\"lxml\", \"bs4\"])\n",
    "        df = df[0].drop(0) # delete empty first row\n",
    "        df.columns = ['date', 'gold']\n",
    "        df['date'] = df['date'].apply(lambda x : datetime.datetime.strptime(x, \"%d %b %Y\"))\n",
    "\n",
    "        if df_append is None:\n",
    "            df_append = df.copy()\n",
    "            continue\n",
    "        df_append = df_append.append(df, ignore_index=True)\n",
    "        \n",
    "    df_append.sort_values(by=[df_append.columns[0]], inplace=True)\n",
    "    df_append.drop_duplicates(subset=['date'], inplace=True)\n",
    "    df_append.index = np.arange(0, len(df_append))\n",
    "    \n",
    "    return df_append"
   ]
  },
  {
   "cell_type": "code",
   "execution_count": 40,
   "id": "c644ec33",
   "metadata": {},
   "outputs": [],
   "source": [
    "df = get_gold_data()"
   ]
  },
  {
   "cell_type": "code",
   "execution_count": 41,
   "id": "49c3ae4b",
   "metadata": {},
   "outputs": [],
   "source": [
    "# calculate change_rate\n",
    "df_shift_p1 = df['gold'].shift(1)\n",
    "df['gold_cr'] = (df['gold'] - df_shift_p1)/df_shift_p1\n",
    "df.replace(np.nan, '', inplace=True)\n",
    "# df.head()"
   ]
  },
  {
   "cell_type": "code",
   "execution_count": 42,
   "id": "d8747b25",
   "metadata": {},
   "outputs": [],
   "source": [
    "df.set_index('date', inplace=True)\n",
    "\n",
    "df = make_datetime_series_df(df, '2020-01-01', '2022-07-31')\n",
    "\n",
    "df_org.update(df)"
   ]
  },
  {
   "cell_type": "code",
   "execution_count": 43,
   "id": "17cb7714",
   "metadata": {},
   "outputs": [],
   "source": [
    "# df.reset_index(inplace=True)\n",
    "# df.to_csv('data/data_gold.csv', index=False)"
   ]
  },
  {
   "cell_type": "markdown",
   "id": "c6771fd5",
   "metadata": {},
   "source": [
    "### fed 금리 get append"
   ]
  },
  {
   "cell_type": "code",
   "execution_count": 44,
   "id": "b27dd9b7",
   "metadata": {},
   "outputs": [],
   "source": [
    "interest_url = 'https://www.investing.com/economic-calendar/interest-rate-decision-168/'\n",
    "driver.get(interest_url)"
   ]
  },
  {
   "cell_type": "code",
   "execution_count": 45,
   "id": "e6a8c231",
   "metadata": {},
   "outputs": [],
   "source": [
    "for _ in range(6):\n",
    "    driver.find_element_by_css_selector('#showMoreHistory168 > a').send_keys(Keys.ENTER)\n",
    "    time.sleep(1)"
   ]
  },
  {
   "cell_type": "code",
   "execution_count": 46,
   "id": "16f1e421",
   "metadata": {},
   "outputs": [],
   "source": [
    "df = pd.read_html(driver.page_source, attrs ={'id':'eventHistoryTable168'}, flavor=[\"lxml\", \"bs4\"])[0]"
   ]
  },
  {
   "cell_type": "code",
   "execution_count": 47,
   "id": "a344c3d8",
   "metadata": {},
   "outputs": [],
   "source": [
    "df.columns = ['date', 'time', 'fed_rate', 'fed_rate_fore', 'fed_rate_prev', 'none']\n",
    "df.replace(np.nan, '', inplace=True)"
   ]
  },
  {
   "cell_type": "code",
   "execution_count": 48,
   "id": "1b36da94",
   "metadata": {},
   "outputs": [],
   "source": [
    "df['date'] = df['date'].apply(lambda x : datetime.datetime.strptime(x[:12], \"%b %d, %Y\"))\n",
    "df['time'] = df['time'].apply(lambda x : datetime.datetime.strptime(x, \"%H:%M\").time())\n",
    "df.drop_duplicates(subset=['date'], keep='last', inplace=True)"
   ]
  },
  {
   "cell_type": "code",
   "execution_count": 49,
   "id": "3cd7df60",
   "metadata": {},
   "outputs": [],
   "source": [
    "df_select = df[['date', 'fed_rate', 'fed_rate_fore', 'fed_rate_prev']]\n",
    "df_select.set_index('date', inplace=True)\n",
    "\n",
    "df_select = make_datetime_series_df(df_select, '2020-01-01', '2022-07-31')\n",
    "\n",
    "df_org.update(df_select)"
   ]
  },
  {
   "cell_type": "markdown",
   "id": "18ddc5b3",
   "metadata": {},
   "source": [
    "### 한국은행 금리 get append"
   ]
  },
  {
   "cell_type": "code",
   "execution_count": 50,
   "id": "827eed7c",
   "metadata": {},
   "outputs": [],
   "source": [
    "kor_url = 'https://www.bok.or.kr/portal/singl/baseRate/list.do?dataSeCd=01&menuNo=200643'\n",
    "driver.get(kor_url)"
   ]
  },
  {
   "cell_type": "code",
   "execution_count": 51,
   "id": "165dd0c2",
   "metadata": {},
   "outputs": [],
   "source": [
    "df = pd.read_html(kor_url, attrs = {'class': 'fixed'}, flavor=[\"lxml\", \"bs4\"])[0]"
   ]
  },
  {
   "cell_type": "code",
   "execution_count": 52,
   "id": "75736723",
   "metadata": {},
   "outputs": [],
   "source": [
    "df.columns=  ['release_yr', 'release_date', 'bok_rate']\n",
    "df_date_temp = df['release_yr'].astype('str')+df['release_date']\n",
    "df['date'] = df_date_temp.apply(lambda x : datetime.datetime.strptime(x, \"%Y%m월 %d일\"))\n",
    "df.drop_duplicates(subset=['date'], keep='last', inplace=True)"
   ]
  },
  {
   "cell_type": "code",
   "execution_count": 53,
   "id": "7dc80447",
   "metadata": {},
   "outputs": [],
   "source": [
    "df_select = df[['date', 'bok_rate']] # leave only valid columns\n",
    "df_select.set_index('date', inplace=True)\n",
    "\n",
    "df_select = make_datetime_series_df(df_select, '2020-01-01', '2022-07-31')\n",
    "\n",
    "df_org.update(df_select)"
   ]
  },
  {
   "cell_type": "markdown",
   "id": "2017e548",
   "metadata": {},
   "source": [
    "### make csv file"
   ]
  },
  {
   "cell_type": "code",
   "execution_count": 55,
   "id": "57936ad3",
   "metadata": {},
   "outputs": [],
   "source": [
    "df_org.reset_index(inplace=True)\n",
    "df_org.to_csv('../data/{}'.format(file_csv), index=False)"
   ]
  },
  {
   "cell_type": "code",
   "execution_count": 56,
   "id": "d4e29b52",
   "metadata": {},
   "outputs": [],
   "source": [
    "driver.close()\n",
    "driver.quit()"
   ]
  }
 ],
 "metadata": {
  "kernelspec": {
   "display_name": "Python 3",
   "language": "python",
   "name": "python3"
  },
  "language_info": {
   "codemirror_mode": {
    "name": "ipython",
    "version": 3
   },
   "file_extension": ".py",
   "mimetype": "text/x-python",
   "name": "python",
   "nbconvert_exporter": "python",
   "pygments_lexer": "ipython3",
   "version": "3.9.1"
  }
 },
 "nbformat": 4,
 "nbformat_minor": 5
}
