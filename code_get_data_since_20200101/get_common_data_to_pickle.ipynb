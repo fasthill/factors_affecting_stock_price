{
 "cells": [
  {
   "cell_type": "markdown",
   "id": "atlantic-congress",
   "metadata": {},
   "source": [
    "### 최초 한번 실행 과거 데이터 추출용 (2020.01.01  ~ 2023.01.08 데이터)"
   ]
  },
  {
   "cell_type": "code",
   "execution_count": 1,
   "id": "be578982",
   "metadata": {},
   "outputs": [],
   "source": [
    "from selenium import webdriver as wd\n",
    "# from selenium.webdriver.chrome.options import Options\n",
    "from selenium.webdriver.common.keys import Keys\n",
    "from selenium.webdriver.common.by import By\n",
    "from selenium.webdriver.support.ui import WebDriverWait\n",
    "from selenium.webdriver.support import expected_conditions as EC\n",
    "from selenium.webdriver.chrome.service import Service\n",
    "from webdriver_manager.chrome import ChromeDriverManager\n",
    "\n",
    "import chromedriver_autoinstaller"
   ]
  },
  {
   "cell_type": "code",
   "execution_count": 2,
   "id": "b6071c61",
   "metadata": {},
   "outputs": [],
   "source": [
    "from bs4 import BeautifulSoup as bs\n",
    "import datetime, time\n",
    "\n",
    "import pickle\n",
    "import pandas as pd\n",
    "import numpy as np\n",
    "\n",
    "import subprocess\n",
    "import shutil\n",
    "import pyperclip\n",
    "\n",
    "import requests\n",
    "import os, sys"
   ]
  },
  {
   "cell_type": "code",
   "execution_count": 3,
   "id": "56b90a6f",
   "metadata": {},
   "outputs": [],
   "source": [
    "try:\n",
    "    shutil.rmtree(r\"c:\\chrometemp\")  #쿠키 / 캐쉬파일 삭제. 정보를 지울 필요가 없으면 이부분은 그냥 skip\n",
    "except FileNotFoundError:\n",
    "    pass"
   ]
  },
  {
   "cell_type": "code",
   "execution_count": 4,
   "id": "687f8073",
   "metadata": {},
   "outputs": [
    {
     "name": "stderr",
     "output_type": "stream",
     "text": [
      "[WDM] - Downloading:  90%|█████████ | 5.94M/6.58M [00:00<00:00, 11.9MB/s]"
     ]
    }
   ],
   "source": [
    "chrome_options = wd.ChromeOptions()\n",
    "driver = wd.Chrome(service=Service(ChromeDriverManager().install()), options=chrome_options)"
   ]
  },
  {
   "cell_type": "code",
   "execution_count": 5,
   "id": "29e69d53",
   "metadata": {},
   "outputs": [],
   "source": [
    "while True:\n",
    "    try:\n",
    "    # driver.set_window_position(-10000,0) # hide windows\n",
    "        main_url = 'https://kr.investing.com/'\n",
    "        driver.get(main_url)\n",
    "        time.sleep(1)\n",
    "        break\n",
    "    except:\n",
    "        print(\"Message: unknown error: cannot determine loading status\")\n",
    "        print(\"Try Again\")\n",
    "        time.sleep(5)\n",
    "        pass"
   ]
  },
  {
   "cell_type": "code",
   "execution_count": 6,
   "id": "f70049b7",
   "metadata": {},
   "outputs": [],
   "source": [
    "try: # pop up 창이 뜨는 것을 확인\n",
    "    element = driver.find_element_by_id('promoAncmtClose')\n",
    "    driver.find_element_by_css_selector('#promoAncmtClose > svg > path').click()\n",
    "    time.sleep(1)\n",
    "    \n",
    "except:\n",
    "    pass"
   ]
  },
  {
   "cell_type": "code",
   "execution_count": 7,
   "id": "agreed-roulette",
   "metadata": {},
   "outputs": [],
   "source": [
    "try: # pop up 창이 뜨는 것을 확인\n",
    "    element = driver.find_element_by_id('PromoteSignUpPopUp')\n",
    "    driver.find_element_by_css_selector('#PromoteSignUpPopUp > div.right > i').send_keys(Keys.ENTER)\n",
    "    time.sleep(1)\n",
    "    \n",
    "except:\n",
    "    pass"
   ]
  },
  {
   "cell_type": "code",
   "execution_count": 8,
   "id": "49e9ae39",
   "metadata": {},
   "outputs": [],
   "source": [
    "try: # 이미 로그인이 되어 있으면 skip\n",
    "    driver.find_element_by_css_selector('#userAccount > div > a.login.bold').click() \n",
    "    time.sleep(1)\n",
    "    \n",
    "    id = 'kangeun@naver.com'\n",
    "    pyperclip.copy(id) # control+c 기능 수행\n",
    "    driver.find_element_by_id('loginFormUser_email').clear()\n",
    "    driver.find_element_by_id('loginFormUser_email').send_keys(Keys.CONTROL + 'v')\n",
    "    time.sleep(1)\n",
    "    \n",
    "    pw = os.environ['investing_pass']\n",
    "    pyperclip.copy(pw) # control+c 기능 수행\n",
    "    driver.find_element_by_id('loginForm_password').clear()\n",
    "    driver.find_element_by_id('loginForm_password').send_keys(Keys.CONTROL + 'v')\n",
    "    time.sleep(1)  \n",
    "    \n",
    "    driver.find_element_by_css_selector('#signup > a.newButton.orange').click()  \n",
    "    time.sleep(2)\n",
    "    \n",
    "except:\n",
    "    pass"
   ]
  },
  {
   "cell_type": "code",
   "execution_count": 9,
   "id": "34bc0fbe",
   "metadata": {},
   "outputs": [],
   "source": [
    "def correct_date_format(df):\n",
    "# 시간, 미국, 한국 접속사이트에 따라 attribute 가 변경되서 나타나기 때문에 error  처리를 위해 try 사용\n",
    "    try:\n",
    "        df['date'] = df['date'].apply(lambda x : datetime.datetime.strptime(x, \"%b %d, %Y\"))\n",
    "    except:\n",
    "        try:\n",
    "            df['date'] = df['date'].apply(lambda x : datetime.datetime.strptime(x, \"%m/%d/%Y\"))\n",
    "        except:\n",
    "            try:\n",
    "                df['date'] = df['date'].apply(lambda x : datetime.datetime.strptime(x, \"%Y- %m- %d\"))\n",
    "            except:\n",
    "                df['date'] = df['date'].apply(lambda x : datetime.datetime.strptime(x, \"%Y년 %m월 %d일\"))\n",
    "    \n",
    "    return df"
   ]
  },
  {
   "cell_type": "code",
   "execution_count": 10,
   "id": "65777ef0",
   "metadata": {},
   "outputs": [],
   "source": [
    "def get_data(url, column):\n",
    "    driver.get(url)\n",
    "    input(\"임시로 진행함. 날짜 지정하고 적용하기 진행했으면 리턴하세요\")\n",
    "\n",
    "    try :\n",
    "        df = pd.read_html(driver.page_source, attrs={\"id\": \"curr_table\"}, flavor=[\"lxml\", \"bs4\"])[0]\n",
    "    except:\n",
    "        df = pd.read_html(driver.page_source, attrs={\"data-test\": \"historical-data-table\"}, flavor=[\"lxml\", \"bs4\"])[0]  \n",
    "\n",
    "    df.columns = column\n",
    "    correct_date_format(df)\n",
    "    df.sort_values(by=[df.columns[0]], inplace=True)\n",
    "    df.index = np.arange(0, len(df))  # 일련 번호 오름차순으로 재 설정\n",
    "\n",
    "    return df"
   ]
  },
  {
   "cell_type": "code",
   "execution_count": 11,
   "id": "ffbb980e",
   "metadata": {},
   "outputs": [],
   "source": [
    "def create_directory(directory):\n",
    "    try:\n",
    "        if not os.path.exists(directory):\n",
    "            os.makedirs(directory)\n",
    "    except OSError:\n",
    "        print(\"Error: Failed to create the directory.\")"
   ]
  },
  {
   "cell_type": "code",
   "execution_count": 12,
   "id": "a3f84066",
   "metadata": {},
   "outputs": [],
   "source": [
    "def make_pickle(df, pkl_name):\n",
    "    pkl_directory = '../data/pkl/'\n",
    "    try:\n",
    "        if not os.path.exists(pkl_directory):\n",
    "            os.makedirs(pkl_directory)\n",
    "    except OSError:\n",
    "        print(\"Error: Failed to create the directory.\")\n",
    "\n",
    "    # 데이터 저장: ../data/spx.pkl\n",
    "    df.to_pickle(pkl_directory+pkl_name)"
   ]
  },
  {
   "cell_type": "code",
   "execution_count": 13,
   "id": "2a57bcbd",
   "metadata": {},
   "outputs": [
    {
     "name": "stderr",
     "output_type": "stream",
     "text": [
      "\r",
      "[WDM] - Downloading: 100%|██████████| 6.58M/6.58M [00:20<00:00, 11.9MB/s]"
     ]
    }
   ],
   "source": [
    "def read_pickle(pkl_name):\n",
    "# 데이터 로드\n",
    "    pkl_directory = '../data/pkl/'\n",
    "    df = pd.read_pickle(pkl_directory+pkl_name)\n",
    "    \n",
    "    return df"
   ]
  },
  {
   "cell_type": "code",
   "execution_count": 14,
   "id": "059b1a3a",
   "metadata": {},
   "outputs": [
    {
     "name": "stdout",
     "output_type": "stream",
     "text": [
      "임시로 진행함. 날짜 지정하고 적용하기 진행했으면 리턴하세요\n"
     ]
    }
   ],
   "source": [
    "spx_url = 'https://kr.investing.com/indices/us-spx-500-historical-data'\n",
    "spx = ['date', 'spx', 'open', 'high', 'low', 'volume', 'spx_cr']\n",
    "pkl_name = 'spx.pkl'\n",
    "df = get_data(spx_url,spx)\n",
    "\n",
    "# df.set_index('date', inplace=True) # 날짜로 index 만들기\n",
    "# df.reset_index(inplace=True) # date를 column으로 옮기고, 숫자로 순서대로 index 만들기\n",
    "\n",
    "make_pickle(df, pkl_name)"
   ]
  },
  {
   "cell_type": "code",
   "execution_count": 15,
   "id": "a74ff1a9",
   "metadata": {
    "scrolled": true
   },
   "outputs": [
    {
     "name": "stdout",
     "output_type": "stream",
     "text": [
      "임시로 진행함. 날짜 지정하고 적용하기 진행했으면 리턴하세요\n"
     ]
    }
   ],
   "source": [
    "dji_url = 'https://kr.investing.com/indices/us-30-historical-data'\n",
    "dji = ['date', 'dji', 'open', 'high', 'low', 'volume', 'dji_cr']\n",
    "pkl_name = 'dji.pkl'\n",
    "df = get_data(dji_url,dji)\n",
    "make_pickle(df, pkl_name)"
   ]
  },
  {
   "cell_type": "code",
   "execution_count": 17,
   "id": "fb707347",
   "metadata": {},
   "outputs": [
    {
     "name": "stdout",
     "output_type": "stream",
     "text": [
      "임시로 진행함. 날짜 지정하고 적용하기 진행했으면 리턴하세요\n"
     ]
    }
   ],
   "source": [
    "nas_url = 'https://kr.investing.com/indices/nasdaq-composite-historical-data'\n",
    "ixic = ['date', 'ixic', 'open', 'high', 'low', 'volume', 'ixic_cr']\n",
    "pkl_name = 'nas.pkl'\n",
    "df = get_data(nas_url,ixic)\n",
    "make_pickle(df, pkl_name)"
   ]
  },
  {
   "cell_type": "code",
   "execution_count": 18,
   "id": "1fa7522f",
   "metadata": {},
   "outputs": [
    {
     "name": "stdout",
     "output_type": "stream",
     "text": [
      "임시로 진행함. 날짜 지정하고 적용하기 진행했으면 리턴하세요\n"
     ]
    }
   ],
   "source": [
    "kospi_url = 'https://kr.investing.com/indices/kospi-historical-data'\n",
    "kospi = ['date', 'kospi', 'open', 'high', 'low', 'volume', 'kospi_cr']\n",
    "pkl_name = 'kospi.pkl'\n",
    "df = get_data(kospi_url,kospi)\n",
    "make_pickle(df, pkl_name)"
   ]
  },
  {
   "cell_type": "code",
   "execution_count": 19,
   "id": "7ddfa5c7",
   "metadata": {},
   "outputs": [
    {
     "name": "stdout",
     "output_type": "stream",
     "text": [
      "임시로 진행함. 날짜 지정하고 적용하기 진행했으면 리턴하세요\n"
     ]
    }
   ],
   "source": [
    "kosdaq_url = 'https://kr.investing.com/indices/kosdaq-historical-data'\n",
    "kosdaq = ['date', 'kosdaq', 'open', 'high', 'low', 'volume', 'kosdaq_cr']\n",
    "pkl_name = 'kosdaq.pkl'\n",
    "df = get_data(kosdaq_url,kosdaq)\n",
    "make_pickle(df, pkl_name)"
   ]
  },
  {
   "cell_type": "code",
   "execution_count": 20,
   "id": "8ad0fe1e",
   "metadata": {},
   "outputs": [
    {
     "name": "stdout",
     "output_type": "stream",
     "text": [
      "임시로 진행함. 날짜 지정하고 적용하기 진행했으면 리턴하세요\n"
     ]
    }
   ],
   "source": [
    "sox_url = 'https://kr.investing.com/indices/phlx-semiconductor-historical-data'\n",
    "sox = ['date', 'sox', 'open', 'high', 'low', 'volume', 'sox_cr']\n",
    "pkl_name = 'sox.pkl'\n",
    "df = get_data(sox_url,sox)\n",
    "make_pickle(df, pkl_name)"
   ]
  },
  {
   "cell_type": "code",
   "execution_count": 21,
   "id": "4994fbef",
   "metadata": {},
   "outputs": [
    {
     "name": "stdout",
     "output_type": "stream",
     "text": [
      "임시로 진행함. 날짜 지정하고 적용하기 진행했으면 리턴하세요\n"
     ]
    }
   ],
   "source": [
    "vix_url = 'https://kr.investing.com/indices/volatility-s-p-500-historical-data'\n",
    "vix = ['date', 'vix', 'open', 'high', 'low', 'volume', 'vix_cr']\n",
    "pkl_name = 'vix.pkl'\n",
    "df = get_data(vix_url,vix)\n",
    "make_pickle(df, pkl_name)"
   ]
  },
  {
   "cell_type": "code",
   "execution_count": 22,
   "id": "cfd91cc4",
   "metadata": {},
   "outputs": [
    {
     "name": "stdout",
     "output_type": "stream",
     "text": [
      "임시로 진행함. 날짜 지정하고 적용하기 진행했으면 리턴하세요\n"
     ]
    }
   ],
   "source": [
    "us_bond_10yr_url = 'https://kr.investing.com/rates-bonds/u.s.-10-year-bond-yield-historical-data'\n",
    "us_10yr = ['date', 'bond_usa_10', 'open', 'high', 'low', 'bond_usa_10_cr']\n",
    "pkl_name = 'us_10yr_bond.pkl'\n",
    "df = get_data(us_bond_10yr_url,us_10yr)\n",
    "make_pickle(df, pkl_name)"
   ]
  },
  {
   "cell_type": "code",
   "execution_count": 23,
   "id": "75332b8a",
   "metadata": {},
   "outputs": [
    {
     "name": "stdout",
     "output_type": "stream",
     "text": [
      "임시로 진행함. 날짜 지정하고 적용하기 진행했으면 리턴하세요\n"
     ]
    }
   ],
   "source": [
    "us_bond_2yr_url = 'https://kr.investing.com/rates-bonds/u.s.-2-year-bond-yield-historical-data'\n",
    "us_2yr = ['date', 'bond_usa_2', 'open', 'high', 'low', 'bond_usa_2_cr']\n",
    "pkl_name = 'us_2yr_bond.pkl'\n",
    "df = get_data(us_bond_2yr_url,us_2yr)\n",
    "make_pickle(df, pkl_name)"
   ]
  },
  {
   "cell_type": "code",
   "execution_count": 24,
   "id": "5029b63e",
   "metadata": {},
   "outputs": [
    {
     "name": "stdout",
     "output_type": "stream",
     "text": [
      "임시로 진행함. 날짜 지정하고 적용하기 진행했으면 리턴하세요\n"
     ]
    }
   ],
   "source": [
    "us_bond_3mon_url = 'https://kr.investing.com/rates-bonds/u.s.-3-month-bond-yield-historical-data'\n",
    "us_3mon = ['date', 'bond_usa_3m', 'open', 'high', 'low', 'bond_usa_3m_cr']\n",
    "pkl_name = 'us_3mon_bond.pkl'\n",
    "df = get_data(us_bond_3mon_url,us_3mon)\n",
    "make_pickle(df, pkl_name)"
   ]
  },
  {
   "cell_type": "code",
   "execution_count": 25,
   "id": "8a5abcef",
   "metadata": {},
   "outputs": [
    {
     "name": "stdout",
     "output_type": "stream",
     "text": [
      "임시로 진행함. 날짜 지정하고 적용하기 진행했으면 리턴하세요\n"
     ]
    }
   ],
   "source": [
    "kor_bond_10yr_url = 'https://kr.investing.com/rates-bonds/south-korea-10-year-bond-yield-historical-data'\n",
    "kor_10yr = ['date', 'bond_kor_10', 'open', 'high', 'low', 'bond_kor_10_cr']\n",
    "pkl_name = 'kor_10yr_bond.pkl'\n",
    "df = get_data(kor_bond_10yr_url,kor_10yr)\n",
    "make_pickle(df, pkl_name)"
   ]
  },
  {
   "cell_type": "code",
   "execution_count": 26,
   "id": "647cfa0d",
   "metadata": {},
   "outputs": [
    {
     "name": "stdout",
     "output_type": "stream",
     "text": [
      "임시로 진행함. 날짜 지정하고 적용하기 진행했으면 리턴하세요\n"
     ]
    }
   ],
   "source": [
    "kor_bond_2yr_url = 'https://kr.investing.com/rates-bonds/south-korea-2-year-bond-yield-historical-data'\n",
    "kor_2yr = ['date', 'bond_kor_2', 'open', 'high', 'low','bond_kor_2_cr']\n",
    "pkl_name = 'kor_2yr_bond.pkl'\n",
    "df = get_data(kor_bond_2yr_url,kor_2yr)\n",
    "make_pickle(df, pkl_name)"
   ]
  },
  {
   "cell_type": "code",
   "execution_count": 28,
   "id": "61a2ffdd",
   "metadata": {},
   "outputs": [
    {
     "name": "stdout",
     "output_type": "stream",
     "text": [
      "임시로 진행함. 날짜 지정하고 적용하기 진행했으면 리턴하세요\n"
     ]
    }
   ],
   "source": [
    "krw_rate_url = 'https://kr.investing.com/currencies/usd-krw-historical-data'\n",
    "krw_rate = ['date', 'krw', 'open', 'high', 'low', 'vol', 'krw_cr']\n",
    "pkl_name = 'krw_rate.pkl'\n",
    "df = get_data(krw_rate_url,krw_rate)\n",
    "make_pickle(df, pkl_name)"
   ]
  },
  {
   "cell_type": "code",
   "execution_count": 29,
   "id": "a0f2f1f7",
   "metadata": {},
   "outputs": [
    {
     "name": "stdout",
     "output_type": "stream",
     "text": [
      "임시로 진행함. 날짜 지정하고 적용하기 진행했으면 리턴하세요\n"
     ]
    }
   ],
   "source": [
    "nas_futures_url = 'https://kr.investing.com/indices/nq-100-futures-historical-data'\n",
    "ixic_future = ['date', 'ixic_f', 'open', 'high', 'low', 'volume', 'ixic_f_cr']\n",
    "pkl_name = 'ixic_future.pkl'\n",
    "df = get_data(nas_futures_url,ixic_future)\n",
    "make_pickle(pkl_name)"
   ]
  },
  {
   "cell_type": "code",
   "execution_count": 30,
   "id": "330418b0",
   "metadata": {},
   "outputs": [
    {
     "name": "stdout",
     "output_type": "stream",
     "text": [
      "임시로 진행함. 날짜 지정하고 적용하기 진행했으면 리턴하세요\n"
     ]
    }
   ],
   "source": [
    "snp_futures_url = 'https://kr.investing.com/indices/us-spx-500-futures-historical-data'\n",
    "snp_future = ['date', 'spx_f', 'open', 'high', 'low', 'volume', 'spx_f_cr']\n",
    "pkl_name = 'snp_future.pkl'\n",
    "df = get_data(snp_futures_url,snp_future)\n",
    "make_pickle(df, pkl_name)"
   ]
  },
  {
   "cell_type": "code",
   "execution_count": 31,
   "id": "aa27344f",
   "metadata": {},
   "outputs": [
    {
     "name": "stdout",
     "output_type": "stream",
     "text": [
      "임시로 진행함. 날짜 지정하고 적용하기 진행했으면 리턴하세요\n"
     ]
    }
   ],
   "source": [
    "dow_futures_url = 'https://kr.investing.com/indices/us-30-futures-historical-data'\n",
    "dji_future = ['date', 'dji_f', 'open', 'high', 'low', 'volume', 'dji_f_cr']\n",
    "pkl_name = 'dji_future.pkl'\n",
    "df = get_data(dow_futures_url,dji_future)\n",
    "make_pickle(pkl_name)"
   ]
  },
  {
   "cell_type": "code",
   "execution_count": 32,
   "id": "cf830a25",
   "metadata": {},
   "outputs": [
    {
     "name": "stdout",
     "output_type": "stream",
     "text": [
      "임시로 진행함. 날짜 지정하고 적용하기 진행했으면 리턴하세요\n"
     ]
    }
   ],
   "source": [
    "wti_futures_url = 'https://kr.investing.com/commodities/crude-oil-historical-data'\n",
    "wti_future = ['date', 'wti', 'open', 'high', 'low', 'volume', 'wti_cr']\n",
    "pkl_name = 'wti_future.pkl'\n",
    "df = get_data(wti_futures_url,wti_future)\n",
    "make_pickle(df, pkl_name)"
   ]
  },
  {
   "cell_type": "code",
   "execution_count": 33,
   "id": "5bd10c24",
   "metadata": {},
   "outputs": [
    {
     "name": "stdout",
     "output_type": "stream",
     "text": [
      "임시로 진행함. 날짜 지정하고 적용하기 진행했으면 리턴하세요\n"
     ]
    }
   ],
   "source": [
    "dollar_index_url = 'https://kr.investing.com/currencies/us-dollar-index-historical-data'\n",
    "dxy_future = ['date', 'dxy', 'open', 'high', 'low', 'volume', 'dxy_cr']\n",
    "pkl_name = 'dxy_future.pkl'\n",
    "df = get_data(dollar_index_url,dxy_future)\n",
    "make_pickle(df, pkl_name)"
   ]
  },
  {
   "cell_type": "markdown",
   "id": "2a21a944",
   "metadata": {},
   "source": [
    "#### get  cpi"
   ]
  },
  {
   "cell_type": "code",
   "execution_count": 34,
   "id": "sunrise-arrest",
   "metadata": {},
   "outputs": [],
   "source": [
    "cpi_url = 'https://kr.investing.com/economic-calendar/cpi-733'\n",
    "driver.get(cpi_url)\n",
    "\n",
    "for _ in range(6):\n",
    "    driver.find_element(By.CSS_SELECTOR, '#showMoreHistory733 > a').send_keys(Keys.ENTER)\n",
    "    time.sleep(1)\n",
    "    \n",
    "df = pd.read_html(driver.page_source, flavor=[\"lxml\", \"bs4\"])[0]\n",
    "df.columns = ['date', 'time', 'cpi', 'cpi_anticipated', 'cpi_previous', 'none']\n",
    "\n",
    "df['time'] = df['time'].apply(lambda x : datetime.datetime.strptime(x, \"%H:%M\").time())\n",
    "df['date'] = df['date'].apply(lambda x : datetime.datetime.strptime(x[:13], \"%Y년 %m월 %d일\"))\n",
    "\n",
    "df = df[['date', 'cpi', 'cpi_anticipated', 'cpi_previous']]\n",
    "\n",
    "df.sort_values(by=[df.columns[0]], inplace=True)\n",
    "df.index = np.arange(0, len(df))  # 일련 번호 오름차순으로 재 설정\n",
    "\n",
    "pkl_name = 'cpi.pkl'\n",
    "make_pickle(df, pkl_name)"
   ]
  },
  {
   "cell_type": "markdown",
   "id": "alternative-rates",
   "metadata": {},
   "source": [
    "#### get append fear and greed\n",
    "\n",
    "##### https://github.com/hackingthemarkets/sentiment-fear-and-greed/tree/master/datasets\n",
    "2020년 9월 18일까지 데이터 보관. 이후 다시 취득해야 함."
   ]
  },
  {
   "cell_type": "code",
   "execution_count": 52,
   "id": "9526d290",
   "metadata": {},
   "outputs": [],
   "source": [
    "source_url = 'https://raw.githubusercontent.com/hackingthemarkets/sentiment-fear-and-greed/master/datasets/fear-greed.csv'"
   ]
  },
  {
   "cell_type": "code",
   "execution_count": 58,
   "id": "88055c2c",
   "metadata": {},
   "outputs": [],
   "source": [
    "df =  pd.read_csv(source_url)[['Date','Fear Greed']]"
   ]
  },
  {
   "cell_type": "code",
   "execution_count": 59,
   "id": "bd66f449",
   "metadata": {},
   "outputs": [
    {
     "data": {
      "text/html": [
       "<div>\n",
       "<style scoped>\n",
       "    .dataframe tbody tr th:only-of-type {\n",
       "        vertical-align: middle;\n",
       "    }\n",
       "\n",
       "    .dataframe tbody tr th {\n",
       "        vertical-align: top;\n",
       "    }\n",
       "\n",
       "    .dataframe thead th {\n",
       "        text-align: right;\n",
       "    }\n",
       "</style>\n",
       "<table border=\"1\" class=\"dataframe\">\n",
       "  <thead>\n",
       "    <tr style=\"text-align: right;\">\n",
       "      <th></th>\n",
       "      <th>Date</th>\n",
       "      <th>Fear Greed</th>\n",
       "    </tr>\n",
       "  </thead>\n",
       "  <tbody>\n",
       "    <tr>\n",
       "      <th>2440</th>\n",
       "      <td>2020-09-14</td>\n",
       "      <td>59</td>\n",
       "    </tr>\n",
       "    <tr>\n",
       "      <th>2441</th>\n",
       "      <td>2020-09-15</td>\n",
       "      <td>59</td>\n",
       "    </tr>\n",
       "    <tr>\n",
       "      <th>2442</th>\n",
       "      <td>2020-09-16</td>\n",
       "      <td>56</td>\n",
       "    </tr>\n",
       "    <tr>\n",
       "      <th>2443</th>\n",
       "      <td>2020-09-17</td>\n",
       "      <td>53</td>\n",
       "    </tr>\n",
       "    <tr>\n",
       "      <th>2444</th>\n",
       "      <td>2020-09-18</td>\n",
       "      <td>52</td>\n",
       "    </tr>\n",
       "  </tbody>\n",
       "</table>\n",
       "</div>"
      ],
      "text/plain": [
       "            Date  Fear Greed\n",
       "2440  2020-09-14          59\n",
       "2441  2020-09-15          59\n",
       "2442  2020-09-16          56\n",
       "2443  2020-09-17          53\n",
       "2444  2020-09-18          52"
      ]
     },
     "execution_count": 59,
     "metadata": {},
     "output_type": "execute_result"
    }
   ],
   "source": [
    "df.tail()"
   ]
  },
  {
   "cell_type": "code",
   "execution_count": 64,
   "id": "c69903d4",
   "metadata": {},
   "outputs": [],
   "source": [
    "pkl_name = 'fear_greed.pkl'\n",
    "make_pickle(df, pkl_name)"
   ]
  },
  {
   "cell_type": "code",
   "execution_count": 65,
   "id": "5f0961fd",
   "metadata": {},
   "outputs": [],
   "source": [
    "df1= read_pickle(pkl_name)"
   ]
  },
  {
   "cell_type": "code",
   "execution_count": 67,
   "id": "e0143d68",
   "metadata": {},
   "outputs": [
    {
     "data": {
      "text/html": [
       "<div>\n",
       "<style scoped>\n",
       "    .dataframe tbody tr th:only-of-type {\n",
       "        vertical-align: middle;\n",
       "    }\n",
       "\n",
       "    .dataframe tbody tr th {\n",
       "        vertical-align: top;\n",
       "    }\n",
       "\n",
       "    .dataframe thead th {\n",
       "        text-align: right;\n",
       "    }\n",
       "</style>\n",
       "<table border=\"1\" class=\"dataframe\">\n",
       "  <thead>\n",
       "    <tr style=\"text-align: right;\">\n",
       "      <th></th>\n",
       "      <th>Date</th>\n",
       "      <th>Fear Greed</th>\n",
       "    </tr>\n",
       "  </thead>\n",
       "  <tbody>\n",
       "    <tr>\n",
       "      <th>2440</th>\n",
       "      <td>2020-09-14</td>\n",
       "      <td>59</td>\n",
       "    </tr>\n",
       "    <tr>\n",
       "      <th>2441</th>\n",
       "      <td>2020-09-15</td>\n",
       "      <td>59</td>\n",
       "    </tr>\n",
       "    <tr>\n",
       "      <th>2442</th>\n",
       "      <td>2020-09-16</td>\n",
       "      <td>56</td>\n",
       "    </tr>\n",
       "    <tr>\n",
       "      <th>2443</th>\n",
       "      <td>2020-09-17</td>\n",
       "      <td>53</td>\n",
       "    </tr>\n",
       "    <tr>\n",
       "      <th>2444</th>\n",
       "      <td>2020-09-18</td>\n",
       "      <td>52</td>\n",
       "    </tr>\n",
       "  </tbody>\n",
       "</table>\n",
       "</div>"
      ],
      "text/plain": [
       "            Date  Fear Greed\n",
       "2440  2020-09-14          59\n",
       "2441  2020-09-15          59\n",
       "2442  2020-09-16          56\n",
       "2443  2020-09-17          53\n",
       "2444  2020-09-18          52"
      ]
     },
     "execution_count": 67,
     "metadata": {},
     "output_type": "execute_result"
    }
   ],
   "source": [
    "df1.tail()"
   ]
  },
  {
   "cell_type": "code",
   "execution_count": 50,
   "id": "affiliated-married",
   "metadata": {},
   "outputs": [],
   "source": [
    "import pytz, json"
   ]
  },
  {
   "cell_type": "code",
   "execution_count": 51,
   "id": "64e0648a",
   "metadata": {},
   "outputs": [],
   "source": [
    "headers = {'User-Agent': 'Mozilla/5.0 (Macintosh; Intel Mac OS X 10_11_5) \\\n",
    "           AppleWebKit/537.36 (KHTML, like Gecko) Chrome/50.0.2661.102 Safari/537.36'}"
   ]
  },
  {
   "cell_type": "code",
   "execution_count": 77,
   "id": "nervous-steel",
   "metadata": {},
   "outputs": [],
   "source": [
    "BASE_URL = \"https://production.dataviz.cnn.io/index/fearandgreed/graphdata\"\n",
    "START_DATE = '2021-01-01'  # no date before before 2020-08-01, error generated\n",
    "START_DATE = '2020-09-01'  # no date before before 2020-08-01, error generated"
   ]
  },
  {
   "cell_type": "code",
   "execution_count": 69,
   "id": "7ad6adda",
   "metadata": {},
   "outputs": [],
   "source": [
    "def transform_timezone(x):\n",
    "    dt = datetime.datetime.fromtimestamp(x / 1000, tz=pytz.utc)\n",
    "#     tzone = pytz.timezone('US/Eastern')\n",
    "    tzone = pytz.timezone('Asia/Seoul')\n",
    "    loc_dt = dt.astimezone(tzone)\n",
    "    return loc_dt.date()"
   ]
  },
  {
   "cell_type": "code",
   "execution_count": 78,
   "id": "governmental-undergraduate",
   "metadata": {},
   "outputs": [],
   "source": [
    "r = requests.get(\"{}/{}\".format(BASE_URL, START_DATE), headers=headers)\n",
    "data = r.json()\n",
    "fg_data = data['fear_and_greed_historical']['data']"
   ]
  },
  {
   "cell_type": "code",
   "execution_count": 79,
   "id": "cb1c6b05",
   "metadata": {},
   "outputs": [],
   "source": [
    "df = pd.DataFrame(fg_data)\n",
    "df.columns = ['date', 'f_g_index', 'rating']\n",
    "# df.head()"
   ]
  },
  {
   "cell_type": "code",
   "execution_count": 80,
   "id": "65a0375b",
   "metadata": {},
   "outputs": [],
   "source": [
    "df['date'] = df['date'].apply(lambda x: transform_timezone(x))\n",
    "df['f_g_index'] = df['f_g_index'].astype('int')"
   ]
  },
  {
   "cell_type": "code",
   "execution_count": null,
   "id": "5d521476",
   "metadata": {},
   "outputs": [],
   "source": []
  },
  {
   "cell_type": "markdown",
   "id": "67a7f19a",
   "metadata": {},
   "source": [
    "#### get gold price"
   ]
  },
  {
   "cell_type": "code",
   "execution_count": 85,
   "id": "66d4bcc2",
   "metadata": {},
   "outputs": [],
   "source": [
    "gold_url = 'https://www.usagold.com/daily-gold-price-history/'\n",
    "driver.get(gold_url)"
   ]
  },
  {
   "cell_type": "code",
   "execution_count": 90,
   "id": "8f2decbd",
   "metadata": {},
   "outputs": [],
   "source": [
    "def get_gold_data():\n",
    "    df_append = None\n",
    "    for yr in ['2020', '2021', '2022', '2023']:\n",
    "\n",
    "        driver.find_element(By.CSS_SELECTOR, '#goldpricemenu > button').send_keys(Keys.ENTER)\n",
    "        time.sleep(1)\n",
    "        driver.find_element(By.LINK_TEXT, yr).send_keys(Keys.ENTER)\n",
    "        time.sleep(2)\n",
    "        \n",
    "        df = pd.read_html(driver.page_source, flavor=[\"lxml\", \"bs4\"])\n",
    "        df = df[0].drop(0) # delete empty first row\n",
    "        df.columns = ['date', 'gold']\n",
    "        df['date'] = df['date'].apply(lambda x : datetime.datetime.strptime(x, \"%d %b %Y\"))\n",
    "\n",
    "        if df_append is None:\n",
    "            df_append = df.copy()\n",
    "            continue\n",
    "        df_append = pd.concat([df_append, df], ignore_index=True)\n",
    "#         df_append = df_append.append(df, ignore_index=True)\n",
    "            \n",
    "    df_append.sort_values(by=[df_append.columns[0]], inplace=True)\n",
    "    df_append.drop_duplicates(subset=['date'], inplace=True)\n",
    "    df_append.index = np.arange(0, len(df_append))\n",
    "    \n",
    "    return df_append"
   ]
  },
  {
   "cell_type": "code",
   "execution_count": 91,
   "id": "c644ec33",
   "metadata": {},
   "outputs": [],
   "source": [
    "df = get_gold_data()"
   ]
  },
  {
   "cell_type": "code",
   "execution_count": 97,
   "id": "663b934b",
   "metadata": {},
   "outputs": [],
   "source": [
    "pkl_name = 'gold.pkl'\n",
    "make_pickle(df, pkl_name)"
   ]
  },
  {
   "cell_type": "markdown",
   "id": "c6771fd5",
   "metadata": {},
   "source": [
    "### fed 금리 get"
   ]
  },
  {
   "cell_type": "code",
   "execution_count": 14,
   "id": "b27dd9b7",
   "metadata": {},
   "outputs": [],
   "source": [
    "interest_url = 'https://www.investing.com/economic-calendar/interest-rate-decision-168/'\n",
    "driver.get(interest_url)"
   ]
  },
  {
   "cell_type": "code",
   "execution_count": 15,
   "id": "e6a8c231",
   "metadata": {},
   "outputs": [],
   "source": [
    "for _ in range(6):\n",
    "    driver.find_element(By.CSS_SELECTOR, '#showMoreHistory168 > a').send_keys(Keys.ENTER)\n",
    "    time.sleep(1)"
   ]
  },
  {
   "cell_type": "code",
   "execution_count": 16,
   "id": "16f1e421",
   "metadata": {},
   "outputs": [],
   "source": [
    "df = pd.read_html(driver.page_source, attrs ={'id':'eventHistoryTable168'}, flavor=[\"lxml\", \"bs4\"])[0]"
   ]
  },
  {
   "cell_type": "code",
   "execution_count": 17,
   "id": "a344c3d8",
   "metadata": {},
   "outputs": [],
   "source": [
    "df.columns = ['date', 'time', 'fed_rate', 'fed_rate_fore', 'fed_rate_prev', 'none']\n",
    "# df.replace(np.nan, '', inplace=True)"
   ]
  },
  {
   "cell_type": "code",
   "execution_count": 18,
   "id": "1b36da94",
   "metadata": {},
   "outputs": [],
   "source": [
    "df['date'] = df['date'].apply(lambda x : datetime.datetime.strptime(x[:12], \"%b %d, %Y\"))\n",
    "df['time'] = df['time'].apply(lambda x : datetime.datetime.strptime(x, \"%H:%M\").time())\n",
    "df.drop_duplicates(subset=['date'], keep='last', inplace=True)"
   ]
  },
  {
   "cell_type": "code",
   "execution_count": 19,
   "id": "fea6d5ef",
   "metadata": {},
   "outputs": [],
   "source": [
    "df.sort_values(by=[df.columns[0]], inplace=True)\n",
    "df.index = np.arange(0, len(df))  # 일련 번호 오름차순으로 재 설정"
   ]
  },
  {
   "cell_type": "code",
   "execution_count": 20,
   "id": "62311065",
   "metadata": {},
   "outputs": [],
   "source": [
    "# df = df[df['fed_rate'] != ''] # 데이터가 빈 index는 삭제"
   ]
  },
  {
   "cell_type": "code",
   "execution_count": 21,
   "id": "7d00fa5f",
   "metadata": {},
   "outputs": [],
   "source": [
    "pkl_name = 'fed_rate.pkl'\n",
    "make_pickle(df, pkl_name)"
   ]
  },
  {
   "cell_type": "markdown",
   "id": "18ddc5b3",
   "metadata": {},
   "source": [
    "### 한국은행 금리 get append"
   ]
  },
  {
   "cell_type": "code",
   "execution_count": 149,
   "id": "827eed7c",
   "metadata": {},
   "outputs": [],
   "source": [
    "kor_url = 'https://www.bok.or.kr/portal/singl/baseRate/list.do?dataSeCd=01&menuNo=200643'\n",
    "driver.get(kor_url)"
   ]
  },
  {
   "cell_type": "code",
   "execution_count": 150,
   "id": "165dd0c2",
   "metadata": {},
   "outputs": [],
   "source": [
    "df = pd.read_html(driver.page_source, attrs = {'class': 'fixed'}, flavor=[\"lxml\", \"bs4\"])[0]\n",
    "\n",
    "df.columns=  ['release_yr', 'release_date', 'bok_rate']\n",
    "df_date_temp = df['release_yr'].astype('str')+df['release_date']\n",
    "df['date'] = df_date_temp.apply(lambda x : datetime.datetime.strptime(x, \"%Y%m월 %d일\"))\n",
    "df.drop_duplicates(subset=['date'], keep='last', inplace=True)\n",
    "\n",
    "df = df[['date', 'bok_rate']] # leave only valid columns"
   ]
  },
  {
   "cell_type": "code",
   "execution_count": 154,
   "id": "c65f3403",
   "metadata": {},
   "outputs": [],
   "source": [
    "df.sort_values(by=[df.columns[0]], inplace=True)\n",
    "df.index = np.arange(0, len(df))  # 일련 번호 오름차순으로 재 설정"
   ]
  },
  {
   "cell_type": "code",
   "execution_count": 155,
   "id": "5cb2e591",
   "metadata": {},
   "outputs": [],
   "source": [
    "pkl_name = 'bok_rate.pkl'\n",
    "make_pickle(df, pkl_name)"
   ]
  },
  {
   "cell_type": "markdown",
   "id": "2017e548",
   "metadata": {},
   "source": [
    "### close window"
   ]
  },
  {
   "cell_type": "code",
   "execution_count": 22,
   "id": "d4e29b52",
   "metadata": {},
   "outputs": [],
   "source": [
    "driver.close()\n",
    "driver.quit()"
   ]
  },
  {
   "cell_type": "code",
   "execution_count": null,
   "id": "16c54408",
   "metadata": {},
   "outputs": [],
   "source": []
  }
 ],
 "metadata": {
  "kernelspec": {
   "display_name": "Python 3",
   "language": "python",
   "name": "python3"
  },
  "language_info": {
   "codemirror_mode": {
    "name": "ipython",
    "version": 3
   },
   "file_extension": ".py",
   "mimetype": "text/x-python",
   "name": "python",
   "nbconvert_exporter": "python",
   "pygments_lexer": "ipython3",
   "version": "3.9.1"
  }
 },
 "nbformat": 4,
 "nbformat_minor": 5
}
