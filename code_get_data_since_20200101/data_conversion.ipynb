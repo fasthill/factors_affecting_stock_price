{
 "cells": [
  {
   "cell_type": "markdown",
   "id": "80cb657f",
   "metadata": {},
   "source": [
    "### 투자자별 데이터를 메인 데이터 파일에  update"
   ]
  },
  {
   "cell_type": "code",
   "execution_count": null,
   "id": "47e3c3f9",
   "metadata": {},
   "outputs": [],
   "source": [
    "from selenium import webdriver as wd\n",
    "from selenium.webdriver import ActionChains # scroll down 사용하기 위하여 선서\n",
    "from selenium.webdriver.common.keys import Keys\n",
    "from bs4 import BeautifulSoup as bs\n",
    "\n",
    "import datetime, time\n",
    "from datetime import date\n",
    "\n",
    "import pandas as pd\n",
    "import requests\n",
    "import time\n",
    "import os, sys"
   ]
  },
  {
   "cell_type": "code",
   "execution_count": null,
   "id": "75832744",
   "metadata": {},
   "outputs": [],
   "source": [
    "file_name1 = ['data_hyunmotor_2020_2022','data_ktng_2020_20220711', \n",
    "              'data_naver_2020_20220711', 'data_sec_2020_2022' ]\n",
    "file_name2 = ['data_hyunmotor','data_ktng', 'data_naver', 'data_sec' ]"
   ]
  },
  {
   "cell_type": "code",
   "execution_count": null,
   "id": "3f65c51b",
   "metadata": {},
   "outputs": [],
   "source": [
    "for file1, file2 in zip(file_name1, file_name2):\n",
    "    filename1 = 'data/{}.csv'.format(file1)\n",
    "    df1 = pd.read_csv(filename1)\n",
    "    df1['date'] = df1['date'].apply(lambda x : datetime.datetime.strptime(x, \"%Y-%m-%d\"))\n",
    "    df1.set_index('date', inplace=True)\n",
    "    filename2 = 'data/{}.csv'.format(file2)\n",
    "    df2 = pd.read_csv(filename2)\n",
    "    df2['date'] = df2['date'].apply(lambda x : datetime.datetime.strptime(x, \"%Y-%m-%d\"))\n",
    "    df2.set_index('date', inplace=True)\n",
    "    df2.update(df1)\n",
    "    df2.reset_index(inplace=True)\n",
    "    df2.to_csv(filename2, index=False)"
   ]
  }
 ],
 "metadata": {
  "kernelspec": {
   "display_name": "Python 3",
   "language": "python",
   "name": "python3"
  },
  "language_info": {
   "codemirror_mode": {
    "name": "ipython",
    "version": 3
   },
   "file_extension": ".py",
   "mimetype": "text/x-python",
   "name": "python",
   "nbconvert_exporter": "python",
   "pygments_lexer": "ipython3",
   "version": "3.9.1"
  }
 },
 "nbformat": 4,
 "nbformat_minor": 5
}
