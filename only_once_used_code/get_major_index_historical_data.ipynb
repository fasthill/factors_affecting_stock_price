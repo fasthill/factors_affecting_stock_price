{
 "cells": [
  {
   "cell_type": "markdown",
   "id": "atlantic-congress",
   "metadata": {},
   "source": [
    "### 최초 한번 실행 과거 데이터 추출용"
   ]
  },
  {
   "cell_type": "code",
   "execution_count": 1,
   "id": "b6071c61",
   "metadata": {},
   "outputs": [],
   "source": [
    "from selenium import webdriver as wd\n",
    "from bs4 import BeautifulSoup as bs\n",
    "import requests\n",
    "import time\n",
    "import os, sys"
   ]
  },
  {
   "cell_type": "code",
   "execution_count": 2,
   "id": "983181b0",
   "metadata": {},
   "outputs": [],
   "source": [
    "# !pip install chromedriver_autoinstaller\n",
    "\n",
    "import chromedriver_autoinstaller\n",
    "\n",
    "driver_name = chromedriver_autoinstaller.install()  # Check if the current version of chromedriver exists\n",
    "                                      # and if it doesn't exist, download it automatically,\n",
    "                                      # then add chromedriver to path\n",
    "time.sleep(1)"
   ]
  },
  {
   "cell_type": "code",
   "execution_count": 3,
   "id": "compressed-cornell",
   "metadata": {},
   "outputs": [],
   "source": [
    "driver = wd.Chrome(driver_name)"
   ]
  },
  {
   "cell_type": "code",
   "execution_count": 4,
   "id": "29e69d53",
   "metadata": {},
   "outputs": [],
   "source": [
    "# driver.set_window_position(-10000,0) # hide windows\n",
    "main_url = 'https://kr.investing.com/'\n",
    "driver.get(main_url)\n",
    "time.sleep(1)"
   ]
  },
  {
   "cell_type": "code",
   "execution_count": 5,
   "id": "49e9ae39",
   "metadata": {},
   "outputs": [],
   "source": [
    "driver.find_element_by_css_selector('#userAccount > div > a.login.bold').click() \n",
    "time.sleep(1)"
   ]
  },
  {
   "cell_type": "code",
   "execution_count": 6,
   "id": "c73ced78",
   "metadata": {},
   "outputs": [],
   "source": [
    "driver.find_element_by_id('loginForm_password').clear()\n",
    "driver.find_element_by_id('loginFormUser_email').send_keys('kangeun@naver.com')\n",
    "time.sleep(1)"
   ]
  },
  {
   "cell_type": "code",
   "execution_count": 7,
   "id": "1424801c",
   "metadata": {},
   "outputs": [],
   "source": [
    "driver.find_element_by_id('loginForm_password').clear()\n",
    "driver.find_element_by_id('loginForm_password').send_keys(os.environ['investing_pass'])\n",
    "time.sleep(1)"
   ]
  },
  {
   "cell_type": "code",
   "execution_count": 8,
   "id": "92f0efb9",
   "metadata": {},
   "outputs": [],
   "source": [
    "driver.find_element_by_css_selector('#signup > a.newButton.orange').click()  \n",
    "time.sleep(2)"
   ]
  },
  {
   "cell_type": "code",
   "execution_count": null,
   "id": "3a134b86",
   "metadata": {},
   "outputs": [],
   "source": [
    "'''\n",
    "driver.find_element_by_css_selector('#widgetFieldDateRange').click()\n",
    "\n",
    "driver.find_element_by_id('startDate').clear()\n",
    "driver.find_element_by_id('startDate').send_keys('2022/04/20')\n",
    "\n",
    "driver.find_element_by_id('endDate').clear()\n",
    "driver.find_element_by_id('endDate').send_keys('2022/05/19')\n",
    "\n",
    "driver.find_element_by_css_selector('#applyBtn').click()\n",
    "\n",
    "data_download_sec = '#column-content > div.float_lang_base_2.downloadDataWrap > div > a'\n",
    "driver.find_element_by_css_selector(data_download_sec).click()\n",
    "'''"
   ]
  },
  {
   "cell_type": "code",
   "execution_count": 9,
   "id": "bfd41f70",
   "metadata": {},
   "outputs": [],
   "source": [
    "def get_index_historical_data(start_date, end_date):\n",
    "    data_download_sel = '#column-content > div.float_lang_base_2.downloadDataWrap > div > a'\n",
    "    for sd, ed in zip(start_date, end_date):\n",
    "        driver.find_element_by_css_selector('#widgetFieldDateRange').click()\n",
    "        driver.find_element_by_id('startDate').clear()\n",
    "        driver.find_element_by_id('startDate').send_keys(sd)\n",
    "        driver.find_element_by_id('endDate').clear()\n",
    "        driver.find_element_by_id('endDate').send_keys(ed)\n",
    "        driver.find_element_by_css_selector('#applyBtn').click()\n",
    "        time.sleep(1) # 시간을 줘야 함.\n",
    "        driver.find_element_by_css_selector(data_download_sel).click()"
   ]
  },
  {
   "cell_type": "code",
   "execution_count": null,
   "id": "14baf12a",
   "metadata": {},
   "outputs": [],
   "source": [
    "dji_url = 'https://kr.investing.com/indices/us-30-historical-data'\n",
    "nas_url = 'https://kr.investing.com/indices/nasdaq-composite-historical-data'\n",
    "spx_url = 'https://kr.investing.com/indices/us-spx-500-historical-data'\n",
    "kospi_url = 'https://kr.investing.com/indices/kospi-historical-data'\n",
    "kosdaq_url = 'https://kr.investing.com/indices/kosdaq-historical-data'\n",
    "wti_url = 'https://kr.investing.com/commodities/crude-oil-historical-data'\n",
    "urls = [dji_url, nas_url, spx_url, kospi_url, kosdaq_url, wti_url]"
   ]
  },
  {
   "cell_type": "code",
   "execution_count": 10,
   "id": "3ab9c7b6",
   "metadata": {},
   "outputs": [],
   "source": [
    "# 검색하고자 하는 일정 기간 정의\n",
    "start_date = ['2021/12/01', '2022/02/01', '2022/04/01']\n",
    "end_date = ['2022/01/31', '2022/03/31', '2022/05/31']"
   ]
  },
  {
   "cell_type": "code",
   "execution_count": null,
   "id": "78150ef5",
   "metadata": {},
   "outputs": [],
   "source": [
    "for url in urls:\n",
    "    driver.get(url)\n",
    "    time.sleep(1)\n",
    "    get_index_historical_data(start_date, end_date)"
   ]
  },
  {
   "cell_type": "code",
   "execution_count": null,
   "id": "fd7c61ba",
   "metadata": {},
   "outputs": [],
   "source": [
    "us_bond_10yr_url = 'https://kr.investing.com/rates-bonds/u.s.-10-year-bond-yield-historical-data'\n",
    "us_bond_2yr_url = 'https://kr.investing.com/rates-bonds/u.s.-2-year-bond-yield-historical-data'\n",
    "kor_bond_10yr_url = 'https://kr.investing.com/rates-bonds/south-korea-10-year-bond-yield-historical-data'\n",
    "kor_bond_2yr_url = 'https://kr.investing.com/rates-bonds/south-korea-2-year-bond-yield-historical-data'\n",
    "us_bond_3mon_url = 'https://kr.investing.com/rates-bonds/u.s.-3-month-bond-yield-historical-data'\n",
    "dollar_index_url = 'https://kr.investing.com/currencies/us-dollar-index-historical-data'\n",
    "won_rate = 'https://kr.investing.com/currencies/usd-krw-historical-data'\n",
    "sox_url = 'https://kr.investing.com/indices/phlx-semiconductor-historical-data'\n",
    "urls = [us_bond_10yr_url, us_bond_2yr_url, kor_bond_10yr_url, kor_bond_2yr_url, \n",
    "        us_bond_3mon_url, dollar_index_url, won_rate, sox_url]"
   ]
  },
  {
   "cell_type": "code",
   "execution_count": null,
   "id": "0314fa83",
   "metadata": {},
   "outputs": [],
   "source": [
    "for url in urls:\n",
    "    driver.get(url)\n",
    "    time.sleep(1)\n",
    "    get_index_historical_data(start_date, end_date)"
   ]
  },
  {
   "cell_type": "code",
   "execution_count": 11,
   "id": "ef0f64dc",
   "metadata": {},
   "outputs": [],
   "source": [
    "nas_futures_url = 'https://kr.investing.com/indices/nq-100-futures-historical-data'\n",
    "snp_futures_url = 'https://kr.investing.com/indices/us-spx-500-futures-historical-data'\n",
    "dow_futures_url = 'https://kr.investing.com/indices/us-30-futures-historical-data'\n",
    "urls = [nas_futures_url, snp_futures_url, dow_futures_url]"
   ]
  },
  {
   "cell_type": "code",
   "execution_count": 12,
   "id": "6fe45368",
   "metadata": {},
   "outputs": [],
   "source": [
    "for url in urls:\n",
    "    driver.get(url)\n",
    "    time.sleep(1)\n",
    "    get_index_historical_data(start_date, end_date)"
   ]
  },
  {
   "cell_type": "code",
   "execution_count": 13,
   "id": "d4e29b52",
   "metadata": {},
   "outputs": [],
   "source": [
    "driver.close()\n",
    "driver.quit()"
   ]
  },
  {
   "cell_type": "code",
   "execution_count": null,
   "id": "2c5a4b50",
   "metadata": {},
   "outputs": [],
   "source": []
  }
 ],
 "metadata": {
  "kernelspec": {
   "display_name": "Python 3 (ipykernel)",
   "language": "python",
   "name": "python3"
  },
  "language_info": {
   "codemirror_mode": {
    "name": "ipython",
    "version": 3
   },
   "file_extension": ".py",
   "mimetype": "text/x-python",
   "name": "python",
   "nbconvert_exporter": "python",
   "pygments_lexer": "ipython3",
   "version": "3.9.1"
  }
 },
 "nbformat": 4,
 "nbformat_minor": 5
}
