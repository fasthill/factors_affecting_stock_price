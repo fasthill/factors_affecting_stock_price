{
 "cells": [
  {
   "cell_type": "code",
   "execution_count": 1,
   "id": "single-chick",
   "metadata": {},
   "outputs": [],
   "source": [
    "import datetime, time\n",
    "from datetime import date\n",
    "\n",
    "import pandas as pd\n",
    "import os, sys"
   ]
  },
  {
   "cell_type": "code",
   "execution_count": 2,
   "id": "9e787bf4",
   "metadata": {},
   "outputs": [],
   "source": [
    "dir_f = '../data/stocks/investor/'\n",
    "file_list = os.listdir(dir_f)"
   ]
  },
  {
   "cell_type": "code",
   "execution_count": 3,
   "id": "2b3f468d",
   "metadata": {},
   "outputs": [
    {
     "data": {
      "text/plain": [
       "['005830_hyunmotor_invester_from-20220420.csv',\n",
       " '005830_hyunmotor_investor_20220621.csv',\n",
       " '005830_hyunmotor_investor_20220623.csv',\n",
       " '005830_hyunmotor_investor_20220624.csv',\n",
       " '005930_sec_invester_from-20220420.csv',\n",
       " '005930_sec_investor_20220621.csv',\n",
       " '005930_sec_investor_20220623.csv',\n",
       " '005930_sec_investor_20220624.csv',\n",
       " '033780_ktng_invester_from-20220420.csv',\n",
       " '033780_ktng_investor_20220621.csv',\n",
       " '033780_ktng_investor_20220623.csv',\n",
       " '033780_ktng_investor_20220624.csv',\n",
       " '035420_naver_invester_from-20220420.csv',\n",
       " '035420_naver_investor_20220621.csv',\n",
       " '035420_naver_investor_20220623.csv',\n",
       " '035420_naver_investor_20220624.csv']"
      ]
     },
     "execution_count": 3,
     "metadata": {},
     "output_type": "execute_result"
    }
   ],
   "source": [
    "file_list"
   ]
  },
  {
   "cell_type": "code",
   "execution_count": 4,
   "id": "86391f99",
   "metadata": {},
   "outputs": [],
   "source": [
    "column_eng = ['date', 'retail', 'foreigner', 'institutional', \n",
    "               'security', 'investment_trust', 'bank', 'investment_bank', 'insurance', 'pension', 'others']\n",
    "column_kor = ['날짜', '개인', '외국인계', '기관계', '증권', '투신', '은행', '종금', '보험', '기금', '기타']"
   ]
  },
  {
   "cell_type": "code",
   "execution_count": 5,
   "id": "f3097411",
   "metadata": {},
   "outputs": [],
   "source": [
    "f_hy = file_list[:2]\n",
    "f_sec = file_list[4:6]\n",
    "f_ktng = file_list[8:10]\n",
    "f_na = file_list[12:14]"
   ]
  },
  {
   "cell_type": "code",
   "execution_count": 6,
   "id": "b7757d3f",
   "metadata": {},
   "outputs": [],
   "source": [
    "ff = [f_hy , f_sec, f_ktng , f_na ]"
   ]
  },
  {
   "cell_type": "code",
   "execution_count": 7,
   "id": "6da47183",
   "metadata": {},
   "outputs": [],
   "source": [
    "for f_n in ff:\n",
    "    for fn in f_n:\n",
    "        df = pd.read_csv(dir_f+fn)\n",
    "        df.columns = column_eng\n",
    "        filename = '{}{}.csv'.format(dir_f,fn)\n",
    "        df.to_csv(filename, index=False)"
   ]
  }
 ],
 "metadata": {
  "kernelspec": {
   "display_name": "Python 3",
   "language": "python",
   "name": "python3"
  },
  "language_info": {
   "codemirror_mode": {
    "name": "ipython",
    "version": 3
   },
   "file_extension": ".py",
   "mimetype": "text/x-python",
   "name": "python",
   "nbconvert_exporter": "python",
   "pygments_lexer": "ipython3",
   "version": "3.9.1"
  }
 },
 "nbformat": 4,
 "nbformat_minor": 5
}
