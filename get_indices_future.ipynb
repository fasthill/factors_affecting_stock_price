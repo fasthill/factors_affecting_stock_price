{
 "cells": [
  {
   "cell_type": "code",
   "execution_count": null,
   "id": "1cddba06",
   "metadata": {},
   "outputs": [],
   "source": [
    "from selenium import webdriver as wd\n",
    "from bs4 import BeautifulSoup as bs\n",
    "import requests\n",
    "import datetime\n",
    "from datetime import date\n",
    "import pandas as pd\n",
    "import time\n",
    "import os, sys"
   ]
  },
  {
   "cell_type": "code",
   "execution_count": null,
   "id": "operating-auckland",
   "metadata": {},
   "outputs": [],
   "source": [
    "wti_futures_url = 'https://kr.investing.com/commodities/crude-oil-historical-data'\n",
    "nas_futures_url = 'https://kr.investing.com/indices/nq-100-futures-historical-data'\n",
    "snp_futures_url = 'https://kr.investing.com/indices/us-spx-500-futures-historical-data'\n",
    "dow_futures_url = 'https://kr.investing.com/indices/us-30-futures-historical-data'\n",
    "dollar_index_url = 'https://kr.investing.com/currencies/us-dollar-index-historical-data'\n",
    "urls = [ snp_futures_url, dow_futures_url,  nas_futures_url, wti_futures_url, dollar_index_url ]\n",
    "\n",
    "headers = {'User-Agent': 'Mozilla/5.0 (Macintosh; Intel Mac OS X 10_11_5) \\\n",
    "           AppleWebKit/537.36 (KHTML, like Gecko) Chrome/50.0.2661.102 Safari/537.36'}"
   ]
  },
  {
   "cell_type": "code",
   "execution_count": null,
   "id": "existing-regression",
   "metadata": {},
   "outputs": [],
   "source": [
    "today = datetime.date.today()\n",
    "today = today.strftime('%Y%m%d')"
   ]
  },
  {
   "cell_type": "code",
   "execution_count": null,
   "id": "mobile-conditions",
   "metadata": {},
   "outputs": [],
   "source": [
    "column_eng = ['date', 'price', 'open', 'high', 'low', 'volume', 'change(%)']\n",
    "column_kor = ['날짜', '종가', '시가', '고가', '저가', '거래량', '변동(%)']\n",
    "f_name = ['snp500_future', 'dji_future', 'nasdaq_future', 'wti_future', 'dollar_index_future' ]"
   ]
  },
  {
   "cell_type": "code",
   "execution_count": null,
   "id": "composite-short",
   "metadata": {},
   "outputs": [],
   "source": [
    "for i, url in enumerate(urls):\n",
    "    res = requests.get(url, headers=headers)\n",
    "    df = pd.read_html(res.text, attrs={\"id\": \"curr_table\"}, flavor=[\"lxml\", \"bs4\"])[0]\n",
    "    df.columns = column_eng\n",
    "    df['date'] = df['date'].apply(lambda x : datetime.datetime.strptime(x, \"%Y년 %m월 %d일\"))\n",
    "    filename = '{}{}_{}_{}.csv'.format('data/indices_future/bb',i+1,f_name[i], today)\n",
    "    df.to_csv(filename, index=False)"
   ]
  }
 ],
 "metadata": {
  "kernelspec": {
   "display_name": "Python 3 (ipykernel)",
   "language": "python",
   "name": "python3"
  },
  "language_info": {
   "codemirror_mode": {
    "name": "ipython",
    "version": 3
   },
   "file_extension": ".py",
   "mimetype": "text/x-python",
   "name": "python",
   "nbconvert_exporter": "python",
   "pygments_lexer": "ipython3",
   "version": "3.9.1"
  }
 },
 "nbformat": 4,
 "nbformat_minor": 5
}
