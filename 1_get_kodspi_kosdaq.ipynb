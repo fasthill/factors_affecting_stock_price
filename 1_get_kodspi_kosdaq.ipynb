{
 "cells": [
  {
   "cell_type": "markdown",
   "id": "atlantic-congress",
   "metadata": {},
   "source": [
    "### KRX 데이터정보시스템\n",
    "- 매일 주식거래 내용\n",
    "\n",
    "['일자', '종가', '등락률', '시가', '고가', '저가', '거래대금'] 등 수집"
   ]
  },
  {
   "cell_type": "code",
   "execution_count": 1,
   "id": "b6071c61",
   "metadata": {},
   "outputs": [],
   "source": [
    "from selenium import webdriver as wd\n",
    "from selenium.webdriver import ActionChains # scroll down 사용하기 위하여 선서\n",
    "from selenium.webdriver.chrome.service import Service\n",
    "from webdriver_manager.chrome import ChromeDriverManager\n",
    "\n",
    "from bs4 import BeautifulSoup as bs\n",
    "\n",
    "import datetime, time\n",
    "from datetime import date\n",
    "\n",
    "import pandas as pd\n",
    "import numpy as np\n",
    "import requests\n",
    "import time\n",
    "import os, sys"
   ]
  },
  {
   "cell_type": "code",
   "execution_count": 2,
   "id": "social-sunrise",
   "metadata": {},
   "outputs": [],
   "source": [
    "from selenium.webdriver.common.by import By\n",
    "from selenium.webdriver.common.keys import Keys\n",
    "from selenium.webdriver.support.ui import WebDriverWait\n",
    "from selenium.webdriver.support import expected_conditions as EC"
   ]
  },
  {
   "cell_type": "code",
   "execution_count": 3,
   "id": "983181b0",
   "metadata": {},
   "outputs": [],
   "source": [
    "# !pip install chromedriver_autoinstaller\n",
    "\n",
    "import chromedriver_autoinstaller\n",
    "\n",
    "driver_name = chromedriver_autoinstaller.install()  # Check if the current version of chromedriver exists\n",
    "                                      # and if it doesn't exist, download it automatically,\n",
    "                                      # then add chromedriver to path\n",
    "time.sleep(1)"
   ]
  },
  {
   "cell_type": "code",
   "execution_count": 4,
   "id": "compressed-cornell",
   "metadata": {},
   "outputs": [],
   "source": [
    "# driver = wd.Chrome(driver_name)\n",
    "driver = wd.Chrome(service=Service(ChromeDriverManager().install()))"
   ]
  },
  {
   "cell_type": "code",
   "execution_count": 5,
   "id": "7ea4d592",
   "metadata": {},
   "outputs": [],
   "source": [
    "def get_data_company(com_name):\n",
    "\n",
    "    com_ticker = com_name[:6]\n",
    "    # 회사이름 입력 Q 버튼\n",
    "#     driver.find_element_by_css_selector('#btnisuCd_finder_stkisu0_0').click()\n",
    "    driver.find_element(By.CSS_SELECTOR, '#btnisuCd_finder_stkisu0_0').click()\n",
    "    time.sleep(2)\n",
    "\n",
    "    # pop up된 입력창에서 회사이름 입력\n",
    "#     driver.find_element_by_id('searchText__finder_stkisu0_0').clear()\n",
    "    driver.find_element(By.ID, 'searchText__finder_stkisu0_0').clear()\n",
    "    time.sleep(1)\n",
    "#     driver.find_element_by_id('searchText__finder_stkisu0_0').send_keys(com_name)\n",
    "    driver.find_element(By.ID, 'searchText__finder_stkisu0_0').send_keys(com_name)\n",
    "    time.sleep(2)\n",
    "\n",
    "    # 검색 버튼 푸시\n",
    "#     driver.find_element_by_css_selector('#searchBtn__finder_stkisu0_0').click()\n",
    "    driver.find_element(By.CSS_SELECTOR, '#searchBtn__finder_stkisu0_0').click()\n",
    "    time.sleep(2)\n",
    "\n",
    "    # 테이블에서 최종 선택\n",
    "    css_sel = '#jsGrid__finder_stkisu0_0 > tbody > tr:nth-child(1) > td:nth-child(1)'\n",
    "    #jsGrid__finder_stkisu0_0 > tbody > tr:nth-child(1) > td:nth-child(3)\n",
    "#     driver.find_element_by_css_selector(css_sel).click()\n",
    "\n",
    "    element = WebDriverWait(driver, 20).until(EC.text_to_be_present_in_element((By.CSS_SELECTOR, css_sel), com_ticker))\n",
    "    # 위 라인은 pop up 창이 사라질 때까지 기다리게 해 줌\n",
    "    driver.find_element(By.CSS_SELECTOR, css_sel).click()\n",
    "    time.sleep(2)\n",
    "\n",
    "    return"
   ]
  },
  {
   "cell_type": "code",
   "execution_count": 6,
   "id": "26e6017a",
   "metadata": {},
   "outputs": [],
   "source": [
    "def set_date(start_date, end_date): # 일정 기간 데이터 취득\n",
    "    # end_date를 먼저 입력하고 start date 입력. 반대로 하면 start date가 이전날짜로  reset되어짐\n",
    "#     driver.find_element_by_id('endDd').clear()\n",
    "    driver.find_element(By.ID, 'endDd').clear()\n",
    "#     driver.find_element_by_id('endDd').send_keys(end_date)\n",
    "    driver.find_element(By.ID, 'endDd').send_keys(end_date)\n",
    "    time.sleep(1)\n",
    "#     driver.find_element_by_id('strdDd').clear()\n",
    "    driver.find_element(By.ID, 'strdDd').clear()\n",
    "#     driver.find_element_by_id('strdDd').send_keys(start_date)\n",
    "    driver.find_element(By.ID, 'strdDd').send_keys(start_date)\n",
    "    time.sleep(1)"
   ]
  },
  {
   "cell_type": "code",
   "execution_count": 7,
   "id": "0309f97c",
   "metadata": {},
   "outputs": [],
   "source": [
    "def get_data(start_date, end_date):\n",
    "    \n",
    "    column_name = ['date', 'close', 'change', 'close_cr', 'open', 'high', 'low', \n",
    "                  'vol', 'vol_amount','total_amount', 'total_counts' ]\n",
    "    # ['일자', '종가', '대비', '등락률', '시가', '고가', '저가', '거래량', \n",
    "    #                                 '거래대금', '시가총액', '상장주식수']\n",
    " \n",
    "    start_str = start_date.strftime('%Y-%m-%d')\n",
    "    ed_str = end_date.strftime('%Y-%m-%d')\n",
    "    set_date(start_str, ed_str)\n",
    "\n",
    "    # 테이블  취득 버튼 클릭 (우상귀)\n",
    "    driver.find_element(By.ID, 'jsSearchButton').click()\n",
    "    time.sleep(5)\n",
    "\n",
    "    df = pd.read_html(driver.page_source, \n",
    "                          attrs={\"class\": \"CI-GRID-BODY-TABLE\"}, flavor=[\"lxml\", \"bs4\"])[0]\n",
    "    df.columns = column_name\n",
    "    df['date'] = df['date'].apply(lambda x : datetime.datetime.strptime(x, \"%Y/%m/%d\"))\n",
    "    df_get = df[['date', 'open', 'high', 'low', 'close', 'close_cr', 'vol']]\n",
    "    \n",
    "    return df_get"
   ]
  },
  {
   "cell_type": "code",
   "execution_count": 8,
   "id": "extreme-participation",
   "metadata": {},
   "outputs": [],
   "source": [
    "def non_empty_index_df(df_input, start_date, end_date): # 토,일,공휴일등 거래가 없는 일자도 모두 포함\n",
    "    date_range_ts = pd.date_range(start=start_date, end=end_date)\n",
    "    df_input.set_index('date', inplace=True)\n",
    "    df_out = pd.DataFrame(columns = df_input.columns)\n",
    "    df_out.insert(0, 'date', date_range_ts)\n",
    "    df_out.set_index('date', inplace=True)\n",
    "    df_out.update(df_input)\n",
    "    df_out.reset_index(inplace=True)\n",
    "    return df_out"
   ]
  },
  {
   "cell_type": "code",
   "execution_count": 9,
   "id": "7bbfe671",
   "metadata": {},
   "outputs": [],
   "source": [
    "def concat_df(df_o, df):\n",
    "    df_o = pd.concat([df_o, df], ignore_index=True)\n",
    "    df_o.drop_duplicates(subset=['date'], keep='last', inplace=True)\n",
    "#     df_o.drop_duplicates(subset=['date'], keep='first', inplace=True)\n",
    "    df_o.sort_values(by=[df_o.columns[0]], inplace=True)\n",
    "    df_o.index = np.arange(0, len(df_o))  # 일련 번호 오름차순으로 재 설정\n",
    "    return df_o"
   ]
  },
  {
   "cell_type": "code",
   "execution_count": 74,
   "id": "3a6d298e",
   "metadata": {},
   "outputs": [],
   "source": [
    "def make_pickle(df, pkl_name):\n",
    "    pkl_directory = 'data/common_pkl/'\n",
    "    try:\n",
    "        if not os.path.exists(pkl_directory):\n",
    "            os.makedirs(pkl_directory)\n",
    "    except OSError:\n",
    "        print(\"Error: Failed to create the directory.\")\n",
    "\n",
    "    # 데이터 저장: ../data/spx.pkl\n",
    "    df.to_pickle(pkl_directory+pkl_name)\n",
    "    df.to_csv(pkl_directory+pkl_name.replace('pkl','csv'))"
   ]
  },
  {
   "cell_type": "code",
   "execution_count": 13,
   "id": "96ca8baa",
   "metadata": {},
   "outputs": [],
   "source": [
    "def get_ticker_data(ticker, startdate, enddate, col_name):\n",
    "    ydata = yf.Ticker(ticker)\n",
    "    rdata = ydata.history(period=\"2y\") # 오늘부터 2년치\n",
    "    rdata.reset_index('Date', inplace=True)\n",
    "    rdata['Date'] = rdata['Date'].dt.date  # datetime64 to datetime.date()\n",
    "    rdata = rdata[(rdata['Date'] <= enddate) & (rdata['Date'] >= startdate)] \n",
    "    rdata['temp'] = rdata['Close'].shift(1)\n",
    "    val_temp = (rdata['Close'] - rdata['temp'])/rdata['temp']*100\n",
    "    rdata[f'{col_name}_cr'] = val_temp.map(\"{:.2f}%\".format)\n",
    "    rdata = rdata[['Date', 'Close', 'Open', 'High', 'Low', 'Volume', f'{col_name}_cr']] # 필요한 column만 남김\n",
    "    rdata.columns = ['date', f'{col_name}', 'open', 'high', 'low', 'volume', f'{col_name}_cr'] # column이름 통일\n",
    "    rdata.reset_index(drop=True, inplace=True) # index번호를 0부터 재정리\n",
    "    return rdata"
   ]
  },
  {
   "cell_type": "code",
   "execution_count": 10,
   "id": "29e69d53",
   "metadata": {},
   "outputs": [],
   "source": [
    "# driver.set_window_position(-10000,0) # hide windows\n",
    "main_url = 'http://data.krx.co.kr/contents/MDC/MDI/mdiLoader/index.cmd?menuId=MDC0201020103'\n",
    "# 개별종목 시세추이 data-menu-id: MDC0201020103\n",
    "driver.get(main_url)\n",
    "time.sleep(1)"
   ]
  },
  {
   "cell_type": "code",
   "execution_count": 11,
   "id": "8903361a",
   "metadata": {},
   "outputs": [],
   "source": [
    "# 백만원 단위 표시 선정\n",
    "css_sel = '#MDCSTAT017_FORM > div.CI-MDI-UNIT-WRAP > div > p:nth-child(2) \\\n",
    "           > select.CI-MDI-UNIT-MONEY > option:nth-child(3)'\n",
    "# driver.find_element_by_css_selector(css_sel).click()  # by_scc 형식이 없어짐.\n",
    "driver.find_element(By.CSS_SELECTOR, css_sel).click()\n",
    "time.sleep(1)"
   ]
  },
  {
   "cell_type": "code",
   "execution_count": 17,
   "id": "4afbc1cf",
   "metadata": {},
   "outputs": [],
   "source": [
    "code = {'kospi':'코스피', 'kosdaq':'코스닥'}\n",
    "code = {'kosdaq':'코스닥'}"
   ]
  },
  {
   "cell_type": "code",
   "execution_count": null,
   "id": "9dfa3e6c",
   "metadata": {},
   "outputs": [],
   "source": [
    "dji = get_ticker_data('^DJI', startdate, enddate, 'dji')\n",
    "make_pickle(dji, 'dji.pkl')"
   ]
  },
  {
   "cell_type": "code",
   "execution_count": 18,
   "id": "bae0a0ae",
   "metadata": {},
   "outputs": [],
   "source": [
    "pkl_directory = 'data/common_pkl/'\n",
    "\n",
    "for com, val in code.items():\n",
    "    com_name = f'{val}'\n",
    "    pkl_name= f'{com}.pkl'\n",
    "    try :\n",
    "        df_o = pd.read_pickle(pkl_directory + pkl_name)\n",
    "        start_date = df_o['date'].iloc[len(df_o)-1]\n",
    "    except :\n",
    "        start_date = datetime.date(2022, 1, 1)   # 데이터 취득 시작 일자  "
   ]
  },
  {
   "cell_type": "code",
   "execution_count": 19,
   "id": "4798755f",
   "metadata": {
    "scrolled": true
   },
   "outputs": [
    {
     "data": {
      "text/html": [
       "<div>\n",
       "<style scoped>\n",
       "    .dataframe tbody tr th:only-of-type {\n",
       "        vertical-align: middle;\n",
       "    }\n",
       "\n",
       "    .dataframe tbody tr th {\n",
       "        vertical-align: top;\n",
       "    }\n",
       "\n",
       "    .dataframe thead th {\n",
       "        text-align: right;\n",
       "    }\n",
       "</style>\n",
       "<table border=\"1\" class=\"dataframe\">\n",
       "  <thead>\n",
       "    <tr style=\"text-align: right;\">\n",
       "      <th></th>\n",
       "      <th>date</th>\n",
       "      <th>kosdaq</th>\n",
       "      <th>open</th>\n",
       "      <th>high</th>\n",
       "      <th>low</th>\n",
       "      <th>volume</th>\n",
       "      <th>kosdaq_cr</th>\n",
       "    </tr>\n",
       "  </thead>\n",
       "  <tbody>\n",
       "    <tr>\n",
       "      <th>338</th>\n",
       "      <td>2023-05-16</td>\n",
       "      <td>816.750000</td>\n",
       "      <td>818.960022</td>\n",
       "      <td>822.640015</td>\n",
       "      <td>813.320007</td>\n",
       "      <td>1400</td>\n",
       "      <td>0.27%</td>\n",
       "    </tr>\n",
       "    <tr>\n",
       "      <th>339</th>\n",
       "      <td>2023-05-17</td>\n",
       "      <td>834.190002</td>\n",
       "      <td>815.580017</td>\n",
       "      <td>834.200012</td>\n",
       "      <td>814.650024</td>\n",
       "      <td>1300</td>\n",
       "      <td>2.14%</td>\n",
       "    </tr>\n",
       "    <tr>\n",
       "      <th>340</th>\n",
       "      <td>2023-05-18</td>\n",
       "      <td>835.890015</td>\n",
       "      <td>839.270020</td>\n",
       "      <td>841.099976</td>\n",
       "      <td>833.729980</td>\n",
       "      <td>1300</td>\n",
       "      <td>0.20%</td>\n",
       "    </tr>\n",
       "    <tr>\n",
       "      <th>341</th>\n",
       "      <td>2023-05-19</td>\n",
       "      <td>841.719971</td>\n",
       "      <td>839.559998</td>\n",
       "      <td>842.210022</td>\n",
       "      <td>836.679993</td>\n",
       "      <td>1300</td>\n",
       "      <td>0.70%</td>\n",
       "    </tr>\n",
       "    <tr>\n",
       "      <th>342</th>\n",
       "      <td>2023-05-23</td>\n",
       "      <td>856.440002</td>\n",
       "      <td>853.570007</td>\n",
       "      <td>859.929993</td>\n",
       "      <td>853.570007</td>\n",
       "      <td>386664</td>\n",
       "      <td>1.75%</td>\n",
       "    </tr>\n",
       "  </tbody>\n",
       "</table>\n",
       "</div>"
      ],
      "text/plain": [
       "           date      kosdaq        open        high         low  volume  \\\n",
       "338  2023-05-16  816.750000  818.960022  822.640015  813.320007    1400   \n",
       "339  2023-05-17  834.190002  815.580017  834.200012  814.650024    1300   \n",
       "340  2023-05-18  835.890015  839.270020  841.099976  833.729980    1300   \n",
       "341  2023-05-19  841.719971  839.559998  842.210022  836.679993    1300   \n",
       "342  2023-05-23  856.440002  853.570007  859.929993  853.570007  386664   \n",
       "\n",
       "    kosdaq_cr  \n",
       "338     0.27%  \n",
       "339     2.14%  \n",
       "340     0.20%  \n",
       "341     0.70%  \n",
       "342     1.75%  "
      ]
     },
     "execution_count": 19,
     "metadata": {},
     "output_type": "execute_result"
    }
   ],
   "source": [
    "df_o.tail()"
   ]
  },
  {
   "cell_type": "code",
   "execution_count": 82,
   "id": "10fdac7d",
   "metadata": {},
   "outputs": [],
   "source": [
    "df = pd.read_csv(pkl_directory + 'kosdaq2.csv', encoding='cp949' )"
   ]
  },
  {
   "cell_type": "code",
   "execution_count": 83,
   "id": "37a035d9",
   "metadata": {},
   "outputs": [],
   "source": [
    "columns = ['date', 'kosdaq', 't1', 'kosdaq_cr',  'open', 'high', 'low', 'volume', 't2', 't3']\n",
    "df.columns = columns\n",
    "df['date'] = pd.to_datetime(df['date']).dt.date\n",
    "df_o = df[['date', 'kosdaq', 'open', 'high', 'low', 'volume', 'kosdaq_cr']]"
   ]
  },
  {
   "cell_type": "code",
   "execution_count": 84,
   "id": "e7cb308c",
   "metadata": {},
   "outputs": [],
   "source": [
    "make_pickle(df_o, 'kosdaq.pkl')"
   ]
  },
  {
   "cell_type": "code",
   "execution_count": 85,
   "id": "9dbfd95f",
   "metadata": {},
   "outputs": [
    {
     "data": {
      "text/html": [
       "<div>\n",
       "<style scoped>\n",
       "    .dataframe tbody tr th:only-of-type {\n",
       "        vertical-align: middle;\n",
       "    }\n",
       "\n",
       "    .dataframe tbody tr th {\n",
       "        vertical-align: top;\n",
       "    }\n",
       "\n",
       "    .dataframe thead th {\n",
       "        text-align: right;\n",
       "    }\n",
       "</style>\n",
       "<table border=\"1\" class=\"dataframe\">\n",
       "  <thead>\n",
       "    <tr style=\"text-align: right;\">\n",
       "      <th></th>\n",
       "      <th>date</th>\n",
       "      <th>kosdaq</th>\n",
       "      <th>open</th>\n",
       "      <th>high</th>\n",
       "      <th>low</th>\n",
       "      <th>volume</th>\n",
       "      <th>kosdaq_cr</th>\n",
       "    </tr>\n",
       "  </thead>\n",
       "  <tbody>\n",
       "    <tr>\n",
       "      <th>362</th>\n",
       "      <td>2021-12-03</td>\n",
       "      <td>2968.33</td>\n",
       "      <td>2935.93</td>\n",
       "      <td>2975.44</td>\n",
       "      <td>2927.55</td>\n",
       "      <td>486749.0</td>\n",
       "      <td>0.78</td>\n",
       "    </tr>\n",
       "    <tr>\n",
       "      <th>363</th>\n",
       "      <td>2021-12-02</td>\n",
       "      <td>2945.27</td>\n",
       "      <td>2874.64</td>\n",
       "      <td>2945.27</td>\n",
       "      <td>2874.64</td>\n",
       "      <td>534462.0</td>\n",
       "      <td>1.57</td>\n",
       "    </tr>\n",
       "    <tr>\n",
       "      <th>364</th>\n",
       "      <td>2021-12-01</td>\n",
       "      <td>2899.72</td>\n",
       "      <td>2860.12</td>\n",
       "      <td>2905.74</td>\n",
       "      <td>2837.03</td>\n",
       "      <td>563927.0</td>\n",
       "      <td>2.14</td>\n",
       "    </tr>\n",
       "    <tr>\n",
       "      <th>365</th>\n",
       "      <td>2021-11-30</td>\n",
       "      <td>2839.01</td>\n",
       "      <td>2932.71</td>\n",
       "      <td>2942.93</td>\n",
       "      <td>2822.73</td>\n",
       "      <td>983556.0</td>\n",
       "      <td>-2.42</td>\n",
       "    </tr>\n",
       "    <tr>\n",
       "      <th>366</th>\n",
       "      <td>2021-11-29</td>\n",
       "      <td>2909.32</td>\n",
       "      <td>2906.15</td>\n",
       "      <td>2930.22</td>\n",
       "      <td>2890.78</td>\n",
       "      <td>844400.0</td>\n",
       "      <td>-0.92</td>\n",
       "    </tr>\n",
       "  </tbody>\n",
       "</table>\n",
       "</div>"
      ],
      "text/plain": [
       "           date   kosdaq     open     high      low    volume  kosdaq_cr\n",
       "362  2021-12-03  2968.33  2935.93  2975.44  2927.55  486749.0       0.78\n",
       "363  2021-12-02  2945.27  2874.64  2945.27  2874.64  534462.0       1.57\n",
       "364  2021-12-01  2899.72  2860.12  2905.74  2837.03  563927.0       2.14\n",
       "365  2021-11-30  2839.01  2932.71  2942.93  2822.73  983556.0      -2.42\n",
       "366  2021-11-29  2909.32  2906.15  2930.22  2890.78  844400.0      -0.92"
      ]
     },
     "execution_count": 85,
     "metadata": {},
     "output_type": "execute_result"
    }
   ],
   "source": [
    "df_o.tail()"
   ]
  },
  {
   "cell_type": "code",
   "execution_count": 70,
   "id": "c8f2422e",
   "metadata": {},
   "outputs": [
    {
     "data": {
      "text/plain": [
       "datetime.date(2023, 5, 23)"
      ]
     },
     "execution_count": 70,
     "metadata": {},
     "output_type": "execute_result"
    }
   ],
   "source": [
    "df['date'][0]"
   ]
  },
  {
   "cell_type": "code",
   "execution_count": 71,
   "id": "ad715bf4",
   "metadata": {},
   "outputs": [],
   "source": [
    "df = df[['date', 'kosdaq', 'open', 'high', 'low', 'volume', 'kosdaq_cr']]"
   ]
  },
  {
   "cell_type": "code",
   "execution_count": 72,
   "id": "1b5d0026",
   "metadata": {
    "scrolled": true
   },
   "outputs": [
    {
     "data": {
      "text/html": [
       "<div>\n",
       "<style scoped>\n",
       "    .dataframe tbody tr th:only-of-type {\n",
       "        vertical-align: middle;\n",
       "    }\n",
       "\n",
       "    .dataframe tbody tr th {\n",
       "        vertical-align: top;\n",
       "    }\n",
       "\n",
       "    .dataframe thead th {\n",
       "        text-align: right;\n",
       "    }\n",
       "</style>\n",
       "<table border=\"1\" class=\"dataframe\">\n",
       "  <thead>\n",
       "    <tr style=\"text-align: right;\">\n",
       "      <th></th>\n",
       "      <th>date</th>\n",
       "      <th>kosdaq</th>\n",
       "      <th>open</th>\n",
       "      <th>high</th>\n",
       "      <th>low</th>\n",
       "      <th>volume</th>\n",
       "      <th>kosdaq_cr</th>\n",
       "    </tr>\n",
       "  </thead>\n",
       "  <tbody>\n",
       "    <tr>\n",
       "      <th>0</th>\n",
       "      <td>2023-05-23</td>\n",
       "      <td>859.16</td>\n",
       "      <td>853.57</td>\n",
       "      <td>861.30</td>\n",
       "      <td>853.57</td>\n",
       "      <td>1270087.0</td>\n",
       "      <td>0.84</td>\n",
       "    </tr>\n",
       "    <tr>\n",
       "      <th>1</th>\n",
       "      <td>2023-05-22</td>\n",
       "      <td>852.04</td>\n",
       "      <td>840.97</td>\n",
       "      <td>852.33</td>\n",
       "      <td>837.49</td>\n",
       "      <td>1093157.0</td>\n",
       "      <td>1.23</td>\n",
       "    </tr>\n",
       "    <tr>\n",
       "      <th>2</th>\n",
       "      <td>2023-05-19</td>\n",
       "      <td>841.72</td>\n",
       "      <td>839.56</td>\n",
       "      <td>842.21</td>\n",
       "      <td>836.68</td>\n",
       "      <td>1310478.0</td>\n",
       "      <td>0.70</td>\n",
       "    </tr>\n",
       "    <tr>\n",
       "      <th>3</th>\n",
       "      <td>2023-05-18</td>\n",
       "      <td>835.89</td>\n",
       "      <td>839.27</td>\n",
       "      <td>841.10</td>\n",
       "      <td>833.73</td>\n",
       "      <td>1324826.0</td>\n",
       "      <td>0.20</td>\n",
       "    </tr>\n",
       "    <tr>\n",
       "      <th>4</th>\n",
       "      <td>2023-05-17</td>\n",
       "      <td>834.19</td>\n",
       "      <td>815.58</td>\n",
       "      <td>834.20</td>\n",
       "      <td>814.65</td>\n",
       "      <td>1270384.0</td>\n",
       "      <td>2.14</td>\n",
       "    </tr>\n",
       "  </tbody>\n",
       "</table>\n",
       "</div>"
      ],
      "text/plain": [
       "         date  kosdaq    open    high     low     volume  kosdaq_cr\n",
       "0  2023-05-23  859.16  853.57  861.30  853.57  1270087.0       0.84\n",
       "1  2023-05-22  852.04  840.97  852.33  837.49  1093157.0       1.23\n",
       "2  2023-05-19  841.72  839.56  842.21  836.68  1310478.0       0.70\n",
       "3  2023-05-18  835.89  839.27  841.10  833.73  1324826.0       0.20\n",
       "4  2023-05-17  834.19  815.58  834.20  814.65  1270384.0       2.14"
      ]
     },
     "execution_count": 72,
     "metadata": {},
     "output_type": "execute_result"
    }
   ],
   "source": [
    "df.head()"
   ]
  },
  {
   "cell_type": "code",
   "execution_count": null,
   "id": "77acbd24",
   "metadata": {},
   "outputs": [],
   "source": []
  },
  {
   "cell_type": "code",
   "execution_count": null,
   "id": "16fe9577",
   "metadata": {},
   "outputs": [],
   "source": [
    "pkl_directory = 'data/common_pkl/'\n",
    "\n",
    "for com, val in code.items():\n",
    "    com_name = f'{val}'\n",
    "    pkl_name= f'{com}.pkl'\n",
    "    try :\n",
    "        df_o = pd.read_pickle(pkl_directory + pkl_name)\n",
    "        start_date = df_o['date'].iloc[len(df_o)-1]\n",
    "    except :\n",
    "        start_date = datetime.date(2022, 1, 1)   # 데이터 취득 시작 일자     \n",
    "\n",
    "#     start_date = datetime.date(2023, 5, 11)  # 데이터 취득 오류시 일시 사용\n",
    "        \n",
    "    end_date = datetime.date.today()\n",
    "    get_data_company(com_name)\n",
    "    df_get = get_data(start_date, end_date)\n",
    "    df_out = non_empty_index_df(df_get, start_date, end_date)\n",
    "#   NaN to null string. cause NaN does not replace original values in the original datafram    \n",
    "    try :\n",
    "        df_o = concat_df(df_o, df_out) # append df to original df\n",
    "    except :\n",
    "        df_o = df_out.copy()\n",
    "    df_o = concat_df(df_o, df_out) # append df to original df\n",
    "    df_o.replace(np.nan, '', inplace=True)\n",
    "    df_o.to_pickle(pkl_directory+pkl_name)\n",
    "    df_o.to_csv(pkl_directory+pkl_name.replace('pkl','csv'))\n",
    "    modification_time.loc[pkl_name][0] = datetime.datetime.now()\n",
    "    \n",
    "    print(com_name, f'{i+1}/{total}', end=', ') # 진행상황 확인용\n",
    "    \n",
    "# df_time = pd.DataFrame.from_dict(modification_time, orient='index', columns=['time'])\n",
    "modification_time.to_pickle(pkl_directory+'modification_time_company_his.pkl')\n",
    "modification_time.to_csv(pkl_directory+'modification_time_company_his.csv')"
   ]
  },
  {
   "cell_type": "code",
   "execution_count": null,
   "id": "516c4e1e",
   "metadata": {},
   "outputs": [],
   "source": []
  },
  {
   "cell_type": "code",
   "execution_count": null,
   "id": "bdf1609b",
   "metadata": {},
   "outputs": [],
   "source": []
  },
  {
   "cell_type": "markdown",
   "id": "97b1148e",
   "metadata": {},
   "source": [
    "### 투자자별 현황\n",
    " - 거래 정보와 코딩 구성등 형태는 똑 같으나, empty_datetime index 내용과, column selected 내용이 서로 달라서,\n",
    "    별개의 루틴으로 구성함."
   ]
  },
  {
   "cell_type": "code",
   "execution_count": null,
   "id": "ef27a421",
   "metadata": {},
   "outputs": [],
   "source": [
    "def date_set(datei): # 하루 하루 데이터를 받아야 함.\n",
    "# end_date를 먼저 입력하고 start date 입력. 반대로 하면 start date가 이전날짜로  reset되어짐\n",
    "#     driver.find_element_by_id('endDd').clear()\n",
    "#     driver.find_element_by_id('endDd').send_keys(datei)\n",
    "    driver.find_element(By.ID, 'endDd').clear()\n",
    "    driver.find_element(By.ID, 'endDd').send_keys(datei)\n",
    "    time.sleep(1)\n",
    "#     driver.find_element_by_id('strtDd').clear()\n",
    "#     driver.find_element_by_id('strtDd').send_keys(datei)\n",
    "    driver.find_element(By.ID, 'strtDd').clear()\n",
    "    driver.find_element(By.ID, 'strtDd').send_keys(datei)\n",
    "    time.sleep(1)\n",
    "    return"
   ]
  },
  {
   "cell_type": "code",
   "execution_count": null,
   "id": "d0ea442f",
   "metadata": {},
   "outputs": [],
   "source": [
    "def push_button_1(): # 조회 button push\n",
    "    xp = '/html/body/div[2]/section[2]/section/section/div/div[2]/form/div[1]/div/a' \n",
    "    # use full xpath to avoid 'Message: element not interactable' Error\n",
    "#     driver.find_element_by_xpath(xp).click()\n",
    "    driver.find_element(By.XPATH, xp).click()\n",
    "    time.sleep(1) # 여유시간 배분\n",
    "    css_sel = 'div.loading-bar-wrap.small' # 각기 다른 loading 페이지에서 공통적으로 사용됨\n",
    "    element = WebDriverWait(driver, 20).until(EC.invisibility_of_element_located((By.CSS_SELECTOR, css_sel)))\n",
    "    # 위 라인은 pop up 창이 사라질 때까지 기다리게 해 줌\n",
    "    time.sleep(1) # 여유시간 배분\n",
    "    return"
   ]
  },
  {
   "cell_type": "code",
   "execution_count": null,
   "id": "43674fed",
   "metadata": {},
   "outputs": [],
   "source": [
    "base_data_directory = './data/base_data/stock_market_holydays/'\n",
    "opening_days_kor = pd.read_pickle(base_data_directory+'opening_days_kor.pkl') # 한국 개장일 데이터 \n",
    "def is_opening_day(date): # 개장일 확인\n",
    "    date = datetime.datetime.strptime(date, \"%Y%m%d\").date()\n",
    "    if date in list(opening_days_kor):\n",
    "        return True\n",
    "    else:\n",
    "        return False"
   ]
  },
  {
   "cell_type": "code",
   "execution_count": null,
   "id": "aa66ac92",
   "metadata": {},
   "outputs": [],
   "source": [
    "index_name = ['investor', 'sell_quantity', 'buy_quantity', 'pure_buy_quantity', 'sell', 'buy', 'pure_buy']\n",
    "column_name = ['financial', 'insurance', 'invtrust', 'privequity', 'bank', 'financeetc', 'pension',\n",
    "              'institution', 'corporateetc', 'retail', 'foreigner', 'foreigneretc', 'total' ]\n",
    "def get_daily_data(date_range):\n",
    "    df_org = None\n",
    "    for datei in date_range: \n",
    "        \n",
    "        if not is_opening_day(datei): # 나중(5월 2일 이후)에 개장일만 수집하도록 수정할 것\n",
    "            continue\n",
    "\n",
    "        date_set(datei)\n",
    "        push_button_1()\n",
    "        df = pd.read_html(driver.page_source, \n",
    "                          attrs={\"class\": \"CI-GRID-BODY-TABLE\"}, flavor=[\"lxml\", \"bs4\"])[0]\n",
    "        df.columns = index_name\n",
    "        df_new = df[['investor', 'pure_buy']] # 순매수 금액\n",
    "        df_new.set_index('investor', inplace=True)\n",
    "        dft = df_new.T\n",
    "        dft.columns = column_name\n",
    "        dft.insert(0, \"date\", datetime.datetime.strptime(datei, \"%Y%m%d\"))\n",
    "        dft.reset_index(drop=True, inplace=True)\n",
    "        if df_org is None:\n",
    "            df_org = dft.copy()\n",
    "            continue\n",
    "#         df_org = df_org.append(dft, ignore_index=True) # append will be depreciated\n",
    "        df_org =pd.concat([df_org,dft], ignore_index=True)\n",
    "        \n",
    "    return df_org"
   ]
  },
  {
   "cell_type": "code",
   "execution_count": null,
   "id": "9a5fb9f8",
   "metadata": {},
   "outputs": [],
   "source": [
    "def get_data_company_investor(com_name, start_date, end_date):\n",
    "    \n",
    "    com_ticker = com_name[:6]\n",
    "    # 회사이름 입력 Q 버튼\n",
    "#     driver.find_element_by_css_selector('#btnisuCd_finder_stkisu0_1').click()\n",
    "    driver.find_element(By.CSS_SELECTOR, '#btnisuCd_finder_stkisu0_1').click()\n",
    "    time.sleep(2)\n",
    "\n",
    "    # pop up된 입력창에서 회사이름 입력\n",
    "#     driver.find_element_by_id('searchText__finder_stkisu0_1').clear()\n",
    "    driver.find_element(By.ID, 'searchText__finder_stkisu0_1').clear()\n",
    "    time.sleep(1)\n",
    "#     driver.find_element_by_id('searchText__finder_stkisu0_1').send_keys(com_name)\n",
    "    driver.find_element(By.ID, 'searchText__finder_stkisu0_1').send_keys(com_name)\n",
    "    time.sleep(2)\n",
    "\n",
    "    # 검색 버튼 푸시\n",
    "#     driver.find_element_by_css_selector('#searchBtn__finder_stkisu0_1').click()\n",
    "    driver.find_element(By.CSS_SELECTOR, '#searchBtn__finder_stkisu0_1').click()\n",
    "    time.sleep(2)\n",
    "\n",
    "    # 테이블에서 최종 선택\n",
    "    css_sel = '#jsGrid__finder_stkisu0_1 > tbody > tr:nth-child(1) > td:nth-child(1)'\n",
    "#     driver.find_element_by_css_selector(css_sel).click()\n",
    "\n",
    "    element = WebDriverWait(driver, 20).until(EC.text_to_be_present_in_element((By.CSS_SELECTOR, css_sel), com_ticker))\n",
    "    driver.find_element(By.CSS_SELECTOR, css_sel).click()\n",
    "    time.sleep(2)\n",
    "    \n",
    "    date_range = convert_date(start_date, end_date)\n",
    "    return get_daily_data(date_range)"
   ]
  },
  {
   "cell_type": "code",
   "execution_count": null,
   "id": "c877b81c",
   "metadata": {},
   "outputs": [],
   "source": [
    "def convert_date(start_date, end_date):\n",
    "    date_range_ts = pd.date_range(start=start_date, end=end_date)\n",
    "    date_range = []\n",
    "    for x in date_range_ts:\n",
    "        date_range.append(datetime.datetime.strftime(x, \"%Y%m%d\"))\n",
    "    return date_range"
   ]
  },
  {
   "cell_type": "code",
   "execution_count": null,
   "id": "7aeb7361",
   "metadata": {},
   "outputs": [],
   "source": [
    "# 투자자별 URL로 변경\n",
    "main_url = 'http://data.krx.co.kr/contents/MDC/MDI/mdiLoader/index.cmd?menuId=MDC0201020203'\n",
    "driver.get(main_url)\n",
    "time.sleep(2)"
   ]
  },
  {
   "cell_type": "code",
   "execution_count": null,
   "id": "56045dc8",
   "metadata": {},
   "outputs": [],
   "source": [
    "# Message: element not interactable Error 방지용. 클릭하기 위하여는 그 위치가 클릭할 수 있게 노출되어 있어야 함\n",
    "# 투자자별 거래실적 버튼이 위치한 곳으로 화면 scroll \n",
    "\n",
    "# id가 jsOpenView_1 인 element 를 찾음\n",
    "# stop_tag = driver.find_element_by_id('jsOpenView_1')\n",
    "stop_tag = driver.find_element(By.ID, 'jsOpenView_1')\n",
    "\n",
    "# jsOpenView_1 element 까지 스크롤\n",
    "action = ActionChains(driver)\n",
    "action.move_to_element(stop_tag).perform()"
   ]
  },
  {
   "cell_type": "code",
   "execution_count": null,
   "id": "a5eb268d",
   "metadata": {},
   "outputs": [],
   "source": [
    "# 투자자별 거래 실적 버튼 클릭\n",
    "# driver.find_element_by_id('jsOpenView_1').click()\n",
    "driver.find_element(By.ID, 'jsOpenView_1').click()\n",
    "time.sleep(2)"
   ]
  },
  {
   "cell_type": "code",
   "execution_count": null,
   "id": "cb3b71bd",
   "metadata": {},
   "outputs": [],
   "source": [
    "# 백만원 단위 표시 선정\n",
    "css_sel = '#MDCSTAT023_FORM > div.CI-MDI-UNIT-WRAP > div > p:nth-child(2) > select.CI-MDI-UNIT-MONEY > option:nth-child(3)'\n",
    "# driver.find_element_by_css_selector(css_sel).click()\n",
    "driver.find_element(By.CSS_SELECTOR, css_sel).click()\n",
    "time.sleep(1)"
   ]
  },
  {
   "cell_type": "code",
   "execution_count": null,
   "id": "c98c0066",
   "metadata": {
    "scrolled": false
   },
   "outputs": [],
   "source": [
    "pkl_directory = 'data/company_pkl/'\n",
    "# modification_time = {} # 데이터가 생성된 시간 저장 dictionary\n",
    "modification_time = pd.read_pickle(pkl_directory + 'modification_time_company_inv.pkl')\n",
    "total = len(code)\n",
    "\n",
    "for i, (key, val) in enumerate(code.items()):\n",
    "    com_name = \"/\".join([key, val[0]])\n",
    "    pkl_name= '{}_investors.pkl'.format(val[1])\n",
    "    try :\n",
    "        df_o = pd.read_pickle(pkl_directory + pkl_name)\n",
    "        start_date = df_o['date'].iloc[len(df_o)-1]\n",
    "    except :\n",
    "        start_date = datetime.date(2022, 1, 1)   # 데이터 취득 시작 일자 \n",
    "        \n",
    "#     start_date = datetime.date(2023, 5, 11) # 데이터 취득 오류시 일시 사용\n",
    "\n",
    "    end_date = datetime.date.today()\n",
    "    df_out = get_data_company_investor(com_name, start_date, end_date)\n",
    "    try :\n",
    "        df_out = df_out[df_o.columns]     \n",
    "        df_o = concat_df(df_o, df_out) # append df to original df\n",
    "    except :\n",
    "        df_col = ['date', 'retail', 'foreigner', 'institution', 'financial', 'invtrust',\n",
    "                  'pension', 'privequity', 'bank', 'insurance', 'financeetc',\n",
    "                  'corporateetc', 'foreigneretc']\n",
    "        df_out = df_out[df_col]\n",
    "        df_o = df_out.copy()\n",
    "    df_o.to_pickle(pkl_directory+pkl_name)\n",
    "    df_o.to_csv(pkl_directory+pkl_name.replace('pkl','csv'))\n",
    "    modification_time.loc[pkl_name][0] = datetime.datetime.now()\n",
    "    \n",
    "    print(com_name, f'{i+1}/{total}', end=', ') # 진행상황 확인용\n",
    "    \n",
    "# df_time = pd.DataFrame.from_dict(modification_time, orient='index', columns=['time'])\n",
    "modification_time.to_pickle(pkl_directory+'modification_time_company_inv.pkl')\n",
    "modification_time.to_csv(pkl_directory+'modification_time_company_inv.csv')"
   ]
  },
  {
   "cell_type": "code",
   "execution_count": null,
   "id": "5cb18ada",
   "metadata": {},
   "outputs": [],
   "source": [
    "driver.close()\n",
    "driver.quit()"
   ]
  },
  {
   "cell_type": "code",
   "execution_count": null,
   "id": "d7857163",
   "metadata": {},
   "outputs": [],
   "source": []
  }
 ],
 "metadata": {
  "kernelspec": {
   "display_name": "Python 3 (ipykernel)",
   "language": "python",
   "name": "python3"
  },
  "language_info": {
   "codemirror_mode": {
    "name": "ipython",
    "version": 3
   },
   "file_extension": ".py",
   "mimetype": "text/x-python",
   "name": "python",
   "nbconvert_exporter": "python",
   "pygments_lexer": "ipython3",
   "version": "3.10.7"
  }
 },
 "nbformat": 4,
 "nbformat_minor": 5
}
