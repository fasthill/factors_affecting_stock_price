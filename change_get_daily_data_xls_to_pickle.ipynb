{
 "cells": [
  {
   "cell_type": "markdown",
   "id": "atlantic-congress",
   "metadata": {},
   "source": [
    "### 10min data를 cvs에서 pkl로 전환"
   ]
  },
  {
   "cell_type": "code",
   "execution_count": 2,
   "id": "b6071c61",
   "metadata": {},
   "outputs": [],
   "source": [
    "import pandas as pd"
   ]
  },
  {
   "cell_type": "markdown",
   "id": "1647f88b",
   "metadata": {},
   "source": [
    "'data/company_daily_price_cvs' directory cmd 창에서 'tree /a /f > name' 명령 실행"
   ]
  },
  {
   "cell_type": "code",
   "execution_count": 61,
   "id": "7f13ff29",
   "metadata": {},
   "outputs": [],
   "source": [
    "def extract_file_list():\n",
    "    cvs_directory = './data/company_daily_price_cvs/'\n",
    "    files = pd.read_csv(cvs_directory+'name', header=None)\n",
    "    files.columns = ['filename']\n",
    "    file_list = files['filename'].str.strip()\n",
    "    return file_list"
   ]
  },
  {
   "cell_type": "code",
   "execution_count": 108,
   "id": "c98c0066",
   "metadata": {},
   "outputs": [],
   "source": [
    "pkl_directory = './data/company_daily_price_pkl/'\n",
    "cvs_directory = './data/company_daily_price_cvs/'\n",
    "file_list = extract_file_list()\n",
    "for f_name in file_list:\n",
    "    cvs_data = pd.read_csv(cvs_directory+f_name)\n",
    "    f_name_new = pkl_directory+f_name[7:][:-4]+'.pkl'\n",
    "    cvs_data.to_pickle(f_name_new)"
   ]
  },
  {
   "cell_type": "code",
   "execution_count": null,
   "id": "732f4698",
   "metadata": {},
   "outputs": [],
   "source": []
  }
 ],
 "metadata": {
  "kernelspec": {
   "display_name": "Python 3 (ipykernel)",
   "language": "python",
   "name": "python3"
  },
  "language_info": {
   "codemirror_mode": {
    "name": "ipython",
    "version": 3
   },
   "file_extension": ".py",
   "mimetype": "text/x-python",
   "name": "python",
   "nbconvert_exporter": "python",
   "pygments_lexer": "ipython3",
   "version": "3.10.7"
  }
 },
 "nbformat": 4,
 "nbformat_minor": 5
}
