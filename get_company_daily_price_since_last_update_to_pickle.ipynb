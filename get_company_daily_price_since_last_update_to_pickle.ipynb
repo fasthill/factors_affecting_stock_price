{
 "cells": [
  {
   "cell_type": "markdown",
   "id": "atlantic-congress",
   "metadata": {},
   "source": [
    "### KRX 데이터정보시스템\n",
    "- 매일 주식거래 내용\n",
    "\n",
    "['일자', '종가', '등락률', '시가', '고가', '저가', '거래대금'] 등 수집"
   ]
  },
  {
   "cell_type": "code",
   "execution_count": 1,
   "id": "b6071c61",
   "metadata": {},
   "outputs": [],
   "source": [
    "from selenium import webdriver as wd\n",
    "from selenium.webdriver import ActionChains # scroll down 사용하기 위하여 선서\n",
    "from selenium.webdriver.chrome.service import Service\n",
    "from webdriver_manager.chrome import ChromeDriverManager\n",
    "\n",
    "from bs4 import BeautifulSoup as bs\n",
    "\n",
    "import datetime, time\n",
    "from datetime import date\n",
    "\n",
    "import pandas as pd\n",
    "import numpy as np\n",
    "import requests\n",
    "import time\n",
    "import os, sys"
   ]
  },
  {
   "cell_type": "code",
   "execution_count": 2,
   "id": "social-sunrise",
   "metadata": {},
   "outputs": [],
   "source": [
    "from selenium.webdriver.common.by import By\n",
    "from selenium.webdriver.common.keys import Keys\n",
    "from selenium.webdriver.support.ui import WebDriverWait\n",
    "from selenium.webdriver.support import expected_conditions as EC"
   ]
  },
  {
   "cell_type": "code",
   "execution_count": 3,
   "id": "983181b0",
   "metadata": {},
   "outputs": [],
   "source": [
    "# !pip install chromedriver_autoinstaller\n",
    "\n",
    "import chromedriver_autoinstaller\n",
    "\n",
    "driver_name = chromedriver_autoinstaller.install()  # Check if the current version of chromedriver exists\n",
    "                                      # and if it doesn't exist, download it automatically,\n",
    "                                      # then add chromedriver to path\n",
    "time.sleep(1)"
   ]
  },
  {
   "cell_type": "code",
   "execution_count": 4,
   "id": "compressed-cornell",
   "metadata": {},
   "outputs": [
    {
     "name": "stderr",
     "output_type": "stream",
     "text": [
      "[WDM] - Downloading:  87%|████████▋ | 5.91M/6.78M [00:00<00:00, 11.9MB/s]"
     ]
    }
   ],
   "source": [
    "# driver = wd.Chrome(driver_name)\n",
    "driver = wd.Chrome(service=Service(ChromeDriverManager().install()))"
   ]
  },
  {
   "cell_type": "code",
   "execution_count": 5,
   "id": "7ea4d592",
   "metadata": {},
   "outputs": [],
   "source": [
    "def get_data_company(com_name, start_date, end_date):\n",
    "\n",
    "    com_ticker = com_name[:6]\n",
    "    # 회사이름 입력 Q 버튼\n",
    "#     driver.find_element_by_css_selector('#btnisuCd_finder_stkisu0_0').click()\n",
    "    driver.find_element(By.CSS_SELECTOR, '#btnisuCd_finder_stkisu0_0').click()\n",
    "    time.sleep(2)\n",
    "\n",
    "    # pop up된 입력창에서 회사이름 입력\n",
    "#     driver.find_element_by_id('searchText__finder_stkisu0_0').clear()\n",
    "    driver.find_element(By.ID, 'searchText__finder_stkisu0_0').clear()\n",
    "    time.sleep(1)\n",
    "#     driver.find_element_by_id('searchText__finder_stkisu0_0').send_keys(com_name)\n",
    "    driver.find_element(By.ID, 'searchText__finder_stkisu0_0').send_keys(com_name)\n",
    "    time.sleep(2)\n",
    "\n",
    "    # 검색 버튼 푸시\n",
    "#     driver.find_element_by_css_selector('#searchBtn__finder_stkisu0_0').click()\n",
    "    driver.find_element(By.CSS_SELECTOR, '#searchBtn__finder_stkisu0_0').click()\n",
    "    time.sleep(2)\n",
    "\n",
    "    # 테이블에서 최종 선택\n",
    "    css_sel = '#jsGrid__finder_stkisu0_0 > tbody > tr:nth-child(1) > td:nth-child(1)'\n",
    "    #jsGrid__finder_stkisu0_0 > tbody > tr:nth-child(1) > td:nth-child(3)\n",
    "#     driver.find_element_by_css_selector(css_sel).click()\n",
    "\n",
    "    element = WebDriverWait(driver, 20).until(EC.text_to_be_present_in_element((By.CSS_SELECTOR, css_sel), com_ticker))\n",
    "    # 위 라인은 pop up 창이 사라질 때까지 기다리게 해 줌\n",
    "    driver.find_element(By.CSS_SELECTOR, css_sel).click()\n",
    "    time.sleep(2)\n",
    "\n",
    "    return"
   ]
  },
  {
   "cell_type": "code",
   "execution_count": 6,
   "id": "26e6017a",
   "metadata": {},
   "outputs": [],
   "source": [
    "def set_date(start_date, end_date): # 일정 기간 데이터 취득\n",
    "    # end_date를 먼저 입력하고 start date 입력. 반대로 하면 start date가 이전날짜로  reset되어짐\n",
    "#     driver.find_element_by_id('endDd').clear()\n",
    "    driver.find_element(By.ID, 'endDd').clear()\n",
    "#     driver.find_element_by_id('endDd').send_keys(end_date)\n",
    "    driver.find_element(By.ID, 'endDd').send_keys(end_date)\n",
    "    time.sleep(1)\n",
    "#     driver.find_element_by_id('strdDd').clear()\n",
    "    driver.find_element(By.ID, 'strdDd').clear()\n",
    "#     driver.find_element_by_id('strdDd').send_keys(start_date)\n",
    "    driver.find_element(By.ID, 'strdDd').send_keys(start_date)\n",
    "    time.sleep(1)"
   ]
  },
  {
   "cell_type": "code",
   "execution_count": 7,
   "id": "0309f97c",
   "metadata": {},
   "outputs": [],
   "source": [
    "def get_data(start_date, end_date):\n",
    "    \n",
    "    column_name = ['date', 'close', 'change', 'close_cr', 'open', 'high', 'low', \n",
    "                  'vol_quantity', 'vol','total_amount', 'total_counts' ]\n",
    "    # ['일자', '종가', '대비', '등락률', '시가', '고가', '저가', '거래량', \n",
    "    #                                 '거래대금', '시가총액', '상장주식수']\n",
    " \n",
    "    start_str = start_date.strftime('%Y-%m-%d')\n",
    "    ed_str = end_date.strftime('%Y-%m-%d')\n",
    "    set_date(start_str, ed_str)\n",
    "\n",
    "    # 테이블  취득 버튼 클릭 (우상귀)\n",
    "    driver.find_element(By.ID, 'jsSearchButton').click()\n",
    "    time.sleep(5)\n",
    "\n",
    "    df = pd.read_html(driver.page_source, \n",
    "                          attrs={\"class\": \"CI-GRID-BODY-TABLE\"}, flavor=[\"lxml\", \"bs4\"])[0]\n",
    "    df.columns = column_name\n",
    "    df['date'] = df['date'].apply(lambda x : datetime.datetime.strptime(x, \"%Y/%m/%d\"))\n",
    "    df_get = df[['date', 'open', 'high', 'low', 'close', 'close_cr', 'vol']]\n",
    "    \n",
    "    return df_get"
   ]
  },
  {
   "cell_type": "code",
   "execution_count": 8,
   "id": "extreme-participation",
   "metadata": {},
   "outputs": [],
   "source": [
    "def non_empty_index_df(df_input, start_date, end_date): # 토,일,공휴일등 거래가 없는 일자도 모두 포함\n",
    "    date_range_ts = pd.date_range(start=start_date, end=end_date)\n",
    "    df_input.set_index('date', inplace=True)\n",
    "    df_out = pd.DataFrame(columns = df_input.columns)\n",
    "    df_out.insert(0, 'date', date_range_ts)\n",
    "    df_out.set_index('date', inplace=True)\n",
    "    df_out.update(df_input)\n",
    "    df_out.reset_index(inplace=True)\n",
    "    return df_out"
   ]
  },
  {
   "cell_type": "code",
   "execution_count": 9,
   "id": "7bbfe671",
   "metadata": {},
   "outputs": [],
   "source": [
    "def concat_df(df_o, df):\n",
    "    df_o = pd.concat([df_o, df], ignore_index=True)\n",
    "    df_o.drop_duplicates(subset=['date'], keep='last', inplace=True)\n",
    "#     df_o.drop_duplicates(subset=['date'], keep='first', inplace=True)\n",
    "    df_o.sort_values(by=[df_o.columns[0]], inplace=True)\n",
    "    df_o.index = np.arange(0, len(df_o))  # 일련 번호 오름차순으로 재 설정\n",
    "    return df_o"
   ]
  },
  {
   "cell_type": "code",
   "execution_count": 10,
   "id": "29e69d53",
   "metadata": {},
   "outputs": [],
   "source": [
    "# driver.set_window_position(-10000,0) # hide windows\n",
    "main_url = 'http://data.krx.co.kr/contents/MDC/MDI/mdiLoader/index.cmd?menuId=MDC0201020103'\n",
    "# 개별종목 시세추이 data-menu-id: MDC0201020103\n",
    "driver.get(main_url)\n",
    "time.sleep(1)"
   ]
  },
  {
   "cell_type": "code",
   "execution_count": 11,
   "id": "8903361a",
   "metadata": {},
   "outputs": [],
   "source": [
    "# 백만원 단위 표시 선정\n",
    "css_sel = '#MDCSTAT017_FORM > div.CI-MDI-UNIT-WRAP > div > p:nth-child(2) \\\n",
    "           > select.CI-MDI-UNIT-MONEY > option:nth-child(3)'\n",
    "# driver.find_element_by_css_selector(css_sel).click()  # by_scc 형식이 없어짐.\n",
    "driver.find_element(By.CSS_SELECTOR, css_sel).click()\n",
    "time.sleep(1)"
   ]
  },
  {
   "cell_type": "code",
   "execution_count": 12,
   "id": "4afbc1cf",
   "metadata": {},
   "outputs": [],
   "source": [
    "code = {'005930': ['삼성전자', 'sec'], '005380': ['현대차', 'hyunmotor'],\n",
    "                 '035420': ['NAVER', 'naver'], '033780': ['KT&G', 'ktng']}\n",
    "# code = {'005930': ['삼성전자', 'sec']}"
   ]
  },
  {
   "cell_type": "code",
   "execution_count": 13,
   "id": "16fe9577",
   "metadata": {},
   "outputs": [
    {
     "name": "stderr",
     "output_type": "stream",
     "text": [
      "\r",
      "[WDM] - Downloading: 100%|██████████| 6.78M/6.78M [00:20<00:00, 11.9MB/s]"
     ]
    }
   ],
   "source": [
    "pkl_directory = 'data/company_pkl/'\n",
    "for key, val in code.items():\n",
    "    com_name = \"/\".join([key, val[0]])\n",
    "    pkl_name= '{}_historical.pkl'.format(val[1])\n",
    "    df_o = pd.read_pickle(pkl_directory + pkl_name)\n",
    "    start_date = df_o['date'].iloc[len(df_o)-1]\n",
    "    end_date = datetime.date.today()\n",
    "    get_data_company(com_name, start_date, end_date)\n",
    "    df_get = get_data(start_date, end_date)\n",
    "    df_out = non_empty_index_df(df_get, start_date, end_date)\n",
    "#   NaN to null string. cause NaN does not replace original values in the original datafram    \n",
    "    df_o = concat_df(df_o, df_out) # append df to original df\n",
    "    df_o.replace(np.nan, '', inplace=True)\n",
    "    df_o.to_pickle(pkl_directory+pkl_name)"
   ]
  },
  {
   "cell_type": "markdown",
   "id": "97b1148e",
   "metadata": {},
   "source": [
    "### 투자자별 현황\n",
    " - 거래 정보와 코딩 구성등 형태는 똑 같으나, empty_datetime index 내용과, column selected 내용이 서로 달라서,\n",
    "    별개의 루틴으로 구성함."
   ]
  },
  {
   "cell_type": "code",
   "execution_count": 14,
   "id": "ef27a421",
   "metadata": {},
   "outputs": [],
   "source": [
    "def date_set(datei): # 하루 하루 데이터를 받아야 함.\n",
    "# end_date를 먼저 입력하고 start date 입력. 반대로 하면 start date가 이전날짜로  reset되어짐\n",
    "#     driver.find_element_by_id('endDd').clear()\n",
    "#     driver.find_element_by_id('endDd').send_keys(datei)\n",
    "    driver.find_element(By.ID, 'endDd').clear()\n",
    "    driver.find_element(By.ID, 'endDd').send_keys(datei)\n",
    "    time.sleep(1)\n",
    "#     driver.find_element_by_id('strtDd').clear()\n",
    "#     driver.find_element_by_id('strtDd').send_keys(datei)\n",
    "    driver.find_element(By.ID, 'strtDd').clear()\n",
    "    driver.find_element(By.ID, 'strtDd').send_keys(datei)\n",
    "    time.sleep(1)\n",
    "    return"
   ]
  },
  {
   "cell_type": "code",
   "execution_count": 15,
   "id": "d0ea442f",
   "metadata": {},
   "outputs": [],
   "source": [
    "def push_button_1(): # 조회 button push\n",
    "    xp = '/html/body/div[2]/section[2]/section/section/div/div[2]/form/div[1]/div/a' \n",
    "    # use full xpath to avoid 'Message: element not interactable' Error\n",
    "#     driver.find_element_by_xpath(xp).click()\n",
    "    driver.find_element(By.XPATH, xp).click()\n",
    "    time.sleep(1) # 여유시간 배분\n",
    "    css_sel = 'div.loading-bar-wrap.small' # 각기 다른 loading 페이지에서 공통적으로 사용됨\n",
    "    element = WebDriverWait(driver, 20).until(EC.invisibility_of_element_located((By.CSS_SELECTOR, css_sel)))\n",
    "    # 위 라인은 pop up 창이 사라질 때까지 기다리게 해 줌\n",
    "    time.sleep(1) # 여유시간 배분\n",
    "    return"
   ]
  },
  {
   "cell_type": "code",
   "execution_count": 16,
   "id": "aa66ac92",
   "metadata": {},
   "outputs": [],
   "source": [
    "index_name = ['investor', 'sell_quantity', 'buy_quantity', 'pure_buy_quantity', 'sell', 'buy', 'pure_buy']\n",
    "def get_daily_data(date_range):\n",
    "    df_org = None\n",
    "    for datei in date_range:\n",
    "        date_set(datei)\n",
    "        push_button_1()\n",
    "        df = pd.read_html(driver.page_source, \n",
    "                          attrs={\"class\": \"CI-GRID-BODY-TABLE\"}, flavor=[\"lxml\", \"bs4\"])[0]\n",
    "        df.columns = index_name\n",
    "        df_new = df[['investor', 'pure_buy']] # 순매수 금액\n",
    "        df_new.set_index('investor', inplace=True)\n",
    "        dft = df_new.T\n",
    "        dft.columns = column_name\n",
    "        dft.insert(0, \"date\", datetime.datetime.strptime(datei, \"%Y%m%d\"))\n",
    "        dft.reset_index(drop=True, inplace=True)\n",
    "        if df_org is None:\n",
    "            df_org = dft.copy()\n",
    "            continue\n",
    "#         df_org = df_org.append(dft, ignore_index=True) # append will be depreciated\n",
    "        df_org =pd.concat([df_org,dft], ignore_index=True)\n",
    "        \n",
    "    return df_org"
   ]
  },
  {
   "cell_type": "code",
   "execution_count": 17,
   "id": "9a5fb9f8",
   "metadata": {},
   "outputs": [],
   "source": [
    "def get_data_company_investor(com_name, start_date, end_date):\n",
    "    \n",
    "    com_ticker = com_name[:6]\n",
    "    # 회사이름 입력 Q 버튼\n",
    "#     driver.find_element_by_css_selector('#btnisuCd_finder_stkisu0_1').click()\n",
    "    driver.find_element(By.CSS_SELECTOR, '#btnisuCd_finder_stkisu0_1').click()\n",
    "    time.sleep(2)\n",
    "\n",
    "    # pop up된 입력창에서 회사이름 입력\n",
    "#     driver.find_element_by_id('searchText__finder_stkisu0_1').clear()\n",
    "    driver.find_element(By.ID, 'searchText__finder_stkisu0_1').clear()\n",
    "    time.sleep(1)\n",
    "#     driver.find_element_by_id('searchText__finder_stkisu0_1').send_keys(com_name)\n",
    "    driver.find_element(By.ID, 'searchText__finder_stkisu0_1').send_keys(com_name)\n",
    "    time.sleep(2)\n",
    "\n",
    "    # 검색 버튼 푸시\n",
    "#     driver.find_element_by_css_selector('#searchBtn__finder_stkisu0_1').click()\n",
    "    driver.find_element(By.CSS_SELECTOR, '#searchBtn__finder_stkisu0_1').click()\n",
    "    time.sleep(2)\n",
    "\n",
    "    # 테이블에서 최종 선택\n",
    "    css_sel = '#jsGrid__finder_stkisu0_1 > tbody > tr:nth-child(1) > td:nth-child(1)'\n",
    "#     driver.find_element_by_css_selector(css_sel).click()\n",
    "\n",
    "    element = WebDriverWait(driver, 20).until(EC.text_to_be_present_in_element((By.CSS_SELECTOR, css_sel), com_ticker))\n",
    "    driver.find_element(By.CSS_SELECTOR, css_sel).click()\n",
    "    time.sleep(2)\n",
    "    \n",
    "    date_range = convert_date(start_date, end_date)\n",
    "    return get_daily_data(date_range)"
   ]
  },
  {
   "cell_type": "code",
   "execution_count": 18,
   "id": "c877b81c",
   "metadata": {},
   "outputs": [],
   "source": [
    "def convert_date(start_date, end_date):\n",
    "    date_range_ts = pd.date_range(start=start_date, end=end_date)\n",
    "    date_range = []\n",
    "    for x in date_range_ts:\n",
    "        date_range.append(datetime.datetime.strftime(x, \"%Y%m%d\"))\n",
    "    return date_range"
   ]
  },
  {
   "cell_type": "code",
   "execution_count": 19,
   "id": "7aeb7361",
   "metadata": {},
   "outputs": [],
   "source": [
    "# 투자자별 URL로 변경\n",
    "main_url = 'http://data.krx.co.kr/contents/MDC/MDI/mdiLoader/index.cmd?menuId=MDC0201020203'\n",
    "driver.get(main_url)\n",
    "time.sleep(2)"
   ]
  },
  {
   "cell_type": "code",
   "execution_count": 20,
   "id": "5dde5254",
   "metadata": {},
   "outputs": [],
   "source": [
    "column_name = ['financial', 'insurance', 'invtrust', 'privequity', 'bank', 'financeetc', 'pension',\n",
    "              'institution', 'corporateetc', 'retail', 'foreigner', 'foreigneretc', 'total' ]"
   ]
  },
  {
   "cell_type": "code",
   "execution_count": 21,
   "id": "56045dc8",
   "metadata": {},
   "outputs": [],
   "source": [
    "# Message: element not interactable Error 방지용. 클릭하기 위하여는 그 위치가 클릭할 수 있게 노출되어 있어야 함\n",
    "# 투자자별 거래실적 버튼이 위치한 곳으로 화면 scroll \n",
    "\n",
    "# id가 jsOpenView_1 인 element 를 찾음\n",
    "# stop_tag = driver.find_element_by_id('jsOpenView_1')\n",
    "stop_tag = driver.find_element(By.ID, 'jsOpenView_1')\n",
    "\n",
    "# jsOpenView_1 element 까지 스크롤\n",
    "action = ActionChains(driver)\n",
    "action.move_to_element(stop_tag).perform()"
   ]
  },
  {
   "cell_type": "code",
   "execution_count": 22,
   "id": "a5eb268d",
   "metadata": {},
   "outputs": [],
   "source": [
    "# 투자자별 거래 실적 버튼 클릭\n",
    "# driver.find_element_by_id('jsOpenView_1').click()\n",
    "driver.find_element(By.ID, 'jsOpenView_1').click()\n",
    "time.sleep(2)"
   ]
  },
  {
   "cell_type": "code",
   "execution_count": 23,
   "id": "cb3b71bd",
   "metadata": {},
   "outputs": [],
   "source": [
    "# 백만원 단위 표시 선정\n",
    "css_sel = '#MDCSTAT023_FORM > div.CI-MDI-UNIT-WRAP > div > p:nth-child(2) > select.CI-MDI-UNIT-MONEY > option:nth-child(3)'\n",
    "# driver.find_element_by_css_selector(css_sel).click()\n",
    "driver.find_element(By.CSS_SELECTOR, css_sel).click()\n",
    "time.sleep(1)"
   ]
  },
  {
   "cell_type": "code",
   "execution_count": 24,
   "id": "ca1e547f",
   "metadata": {},
   "outputs": [],
   "source": [
    "code = {'005930': ['삼성전자', 'sec'], '005380': ['현대차', 'hyunmotor'],\n",
    "                 '035420': ['NAVER', 'naver'], '033780': ['KT&G', 'ktng']}\n",
    "# code = {'005930': ['삼성전자', 'sec']}"
   ]
  },
  {
   "cell_type": "code",
   "execution_count": 25,
   "id": "c98c0066",
   "metadata": {},
   "outputs": [
    {
     "name": "stderr",
     "output_type": "stream",
     "text": [
      "[WDM] - Downloading: 100%|██████████| 6.78M/6.78M [02:16<00:00, 52.2kB/s]\n"
     ]
    }
   ],
   "source": [
    "pkl_directory = 'data/company_pkl/'\n",
    "for key, val in code.items():\n",
    "    com_name = \"/\".join([key, val[0]])\n",
    "    pkl_name= '{}_investors.pkl'.format(val[1])\n",
    "    df_o = pd.read_pickle(pkl_directory + pkl_name)\n",
    "    start_date = df_o['date'].iloc[len(df_o)-1]\n",
    "    end_date = datetime.date.today()\n",
    "    df_out = get_data_company_investor(com_name, start_date, end_date)\n",
    "    df_out = df_out[df_o.columns]\n",
    "    df_o = concat_df(df_o, df_out) # append df to original df\n",
    "    df_o.to_pickle(pkl_directory+pkl_name)"
   ]
  },
  {
   "cell_type": "code",
   "execution_count": 26,
   "id": "5cb18ada",
   "metadata": {},
   "outputs": [],
   "source": [
    "driver.close()\n",
    "driver.quit()"
   ]
  },
  {
   "cell_type": "markdown",
   "id": "46bfc220",
   "metadata": {},
   "source": [
    "* 데이터 확인용 그래프"
   ]
  },
  {
   "cell_type": "code",
   "execution_count": 27,
   "id": "507a5de4",
   "metadata": {},
   "outputs": [],
   "source": [
    "import matplotlib.pyplot as plt"
   ]
  },
  {
   "cell_type": "code",
   "execution_count": 28,
   "id": "8d5f3c72",
   "metadata": {},
   "outputs": [
    {
     "data": {
      "image/png": "[encoded data removed]",
      "text/plain": [
       "<Figure size 432x288 with 1 Axes>"
      ]
     },
     "metadata": {
      "needs_background": "light"
     },
     "output_type": "display_data"
    }
   ],
   "source": [
    "code = {'005930': ['삼성전자', 'sec'], '005380': ['현대차', 'hyunmotor'],\n",
    "                 '035420': ['NAVER', 'naver'], '033780': ['KT&G', 'ktng']}\n",
    "pkl_directory = 'data/company_pkl/'\n",
    "for key, val in code.items():\n",
    "    com_name = \"/\".join([key, val[0]])\n",
    "    pkl_name= '{}_investors.pkl'.format(val[1])\n",
    "    df_o = pd.read_pickle(pkl_directory + pkl_name)\n",
    "    df_o = df_o[df_o['foreigner'] != '']\n",
    "    plt.plot(df_o['date'], df_o['foreigner'], label=pkl_name)\n",
    "    plt.legend()"
   ]
  },
  {
   "cell_type": "code",
   "execution_count": 29,
   "id": "5c11fe24",
   "metadata": {},
   "outputs": [
    {
     "data": {
      "text/html": [
       "<div>\n",
       "<style scoped>\n",
       "    .dataframe tbody tr th:only-of-type {\n",
       "        vertical-align: middle;\n",
       "    }\n",
       "\n",
       "    .dataframe tbody tr th {\n",
       "        vertical-align: top;\n",
       "    }\n",
       "\n",
       "    .dataframe thead th {\n",
       "        text-align: right;\n",
       "    }\n",
       "</style>\n",
       "<table border=\"1\" class=\"dataframe\">\n",
       "  <thead>\n",
       "    <tr style=\"text-align: right;\">\n",
       "      <th></th>\n",
       "      <th>date</th>\n",
       "      <th>retail</th>\n",
       "      <th>foreigner</th>\n",
       "      <th>institution</th>\n",
       "      <th>financial</th>\n",
       "      <th>invtrust</th>\n",
       "      <th>pension</th>\n",
       "      <th>privequity</th>\n",
       "      <th>bank</th>\n",
       "      <th>insurance</th>\n",
       "      <th>financeetc</th>\n",
       "      <th>corporateetc</th>\n",
       "      <th>foreigneretc</th>\n",
       "    </tr>\n",
       "  </thead>\n",
       "  <tbody>\n",
       "    <tr>\n",
       "      <th>1142</th>\n",
       "      <td>2023-02-16</td>\n",
       "      <td>1007.0</td>\n",
       "      <td>-5530.0</td>\n",
       "      <td>4540.0</td>\n",
       "      <td>6101.0</td>\n",
       "      <td>-43.0</td>\n",
       "      <td>-1209.0</td>\n",
       "      <td>-43.0</td>\n",
       "      <td>0.0</td>\n",
       "      <td>-265.0</td>\n",
       "      <td>0.0</td>\n",
       "      <td>-21.0</td>\n",
       "      <td>3.0</td>\n",
       "    </tr>\n",
       "    <tr>\n",
       "      <th>1143</th>\n",
       "      <td>2023-02-17</td>\n",
       "      <td>1184.0</td>\n",
       "      <td>3166.0</td>\n",
       "      <td>-4402.0</td>\n",
       "      <td>-2881.0</td>\n",
       "      <td>-104.0</td>\n",
       "      <td>-1095.0</td>\n",
       "      <td>-208.0</td>\n",
       "      <td>-39.0</td>\n",
       "      <td>-15.0</td>\n",
       "      <td>-62.0</td>\n",
       "      <td>34.0</td>\n",
       "      <td>17.0</td>\n",
       "    </tr>\n",
       "    <tr>\n",
       "      <th>1144</th>\n",
       "      <td>2023-02-18</td>\n",
       "      <td>0.0</td>\n",
       "      <td>0.0</td>\n",
       "      <td>0.0</td>\n",
       "      <td>0.0</td>\n",
       "      <td>0.0</td>\n",
       "      <td>0.0</td>\n",
       "      <td>0.0</td>\n",
       "      <td>0.0</td>\n",
       "      <td>0.0</td>\n",
       "      <td>0.0</td>\n",
       "      <td>0.0</td>\n",
       "      <td>0.0</td>\n",
       "    </tr>\n",
       "    <tr>\n",
       "      <th>1145</th>\n",
       "      <td>2023-02-19</td>\n",
       "      <td>0.0</td>\n",
       "      <td>0.0</td>\n",
       "      <td>0.0</td>\n",
       "      <td>0.0</td>\n",
       "      <td>0.0</td>\n",
       "      <td>0.0</td>\n",
       "      <td>0.0</td>\n",
       "      <td>0.0</td>\n",
       "      <td>0.0</td>\n",
       "      <td>0.0</td>\n",
       "      <td>0.0</td>\n",
       "      <td>0.0</td>\n",
       "    </tr>\n",
       "    <tr>\n",
       "      <th>1146</th>\n",
       "      <td>2023-02-20</td>\n",
       "      <td>0.0</td>\n",
       "      <td>0.0</td>\n",
       "      <td>0.0</td>\n",
       "      <td>0.0</td>\n",
       "      <td>0.0</td>\n",
       "      <td>0.0</td>\n",
       "      <td>0.0</td>\n",
       "      <td>0.0</td>\n",
       "      <td>0.0</td>\n",
       "      <td>0.0</td>\n",
       "      <td>0.0</td>\n",
       "      <td>0.0</td>\n",
       "    </tr>\n",
       "  </tbody>\n",
       "</table>\n",
       "</div>"
      ],
      "text/plain": [
       "           date  retail  foreigner  institution  financial  invtrust  pension  \\\n",
       "1142 2023-02-16  1007.0    -5530.0       4540.0     6101.0     -43.0  -1209.0   \n",
       "1143 2023-02-17  1184.0     3166.0      -4402.0    -2881.0    -104.0  -1095.0   \n",
       "1144 2023-02-18     0.0        0.0          0.0        0.0       0.0      0.0   \n",
       "1145 2023-02-19     0.0        0.0          0.0        0.0       0.0      0.0   \n",
       "1146 2023-02-20     0.0        0.0          0.0        0.0       0.0      0.0   \n",
       "\n",
       "      privequity  bank  insurance  financeetc  corporateetc  foreigneretc  \n",
       "1142       -43.0   0.0     -265.0         0.0         -21.0           3.0  \n",
       "1143      -208.0 -39.0      -15.0       -62.0          34.0          17.0  \n",
       "1144         0.0   0.0        0.0         0.0           0.0           0.0  \n",
       "1145         0.0   0.0        0.0         0.0           0.0           0.0  \n",
       "1146         0.0   0.0        0.0         0.0           0.0           0.0  "
      ]
     },
     "execution_count": 29,
     "metadata": {},
     "output_type": "execute_result"
    }
   ],
   "source": [
    "df_o.tail()"
   ]
  },
  {
   "cell_type": "code",
   "execution_count": 30,
   "id": "bba554e0",
   "metadata": {},
   "outputs": [],
   "source": [
    "pkl_name= 'sec_historical.pkl'\n",
    "df_o = pd.read_pickle(pkl_directory + pkl_name)"
   ]
  },
  {
   "cell_type": "code",
   "execution_count": 31,
   "id": "69800ddf",
   "metadata": {},
   "outputs": [
    {
     "data": {
      "text/html": [
       "<div>\n",
       "<style scoped>\n",
       "    .dataframe tbody tr th:only-of-type {\n",
       "        vertical-align: middle;\n",
       "    }\n",
       "\n",
       "    .dataframe tbody tr th {\n",
       "        vertical-align: top;\n",
       "    }\n",
       "\n",
       "    .dataframe thead th {\n",
       "        text-align: right;\n",
       "    }\n",
       "</style>\n",
       "<table border=\"1\" class=\"dataframe\">\n",
       "  <thead>\n",
       "    <tr style=\"text-align: right;\">\n",
       "      <th></th>\n",
       "      <th>date</th>\n",
       "      <th>open</th>\n",
       "      <th>high</th>\n",
       "      <th>low</th>\n",
       "      <th>close</th>\n",
       "      <th>close_cr</th>\n",
       "      <th>vol</th>\n",
       "    </tr>\n",
       "  </thead>\n",
       "  <tbody>\n",
       "    <tr>\n",
       "      <th>1137</th>\n",
       "      <td>2023-02-11</td>\n",
       "      <td></td>\n",
       "      <td></td>\n",
       "      <td></td>\n",
       "      <td></td>\n",
       "      <td></td>\n",
       "      <td></td>\n",
       "    </tr>\n",
       "    <tr>\n",
       "      <th>1138</th>\n",
       "      <td>2023-02-12</td>\n",
       "      <td></td>\n",
       "      <td></td>\n",
       "      <td></td>\n",
       "      <td></td>\n",
       "      <td></td>\n",
       "      <td></td>\n",
       "    </tr>\n",
       "    <tr>\n",
       "      <th>1139</th>\n",
       "      <td>2023-02-13</td>\n",
       "      <td>62900.0</td>\n",
       "      <td>63000.0</td>\n",
       "      <td>62300.0</td>\n",
       "      <td>62900.0</td>\n",
       "      <td>0.16</td>\n",
       "      <td>672253.0</td>\n",
       "    </tr>\n",
       "    <tr>\n",
       "      <th>1140</th>\n",
       "      <td>2023-02-14</td>\n",
       "      <td>63600.0</td>\n",
       "      <td>63900.0</td>\n",
       "      <td>63200.0</td>\n",
       "      <td>63200.0</td>\n",
       "      <td>0.48</td>\n",
       "      <td>579858.0</td>\n",
       "    </tr>\n",
       "    <tr>\n",
       "      <th>1141</th>\n",
       "      <td>2023-02-15</td>\n",
       "      <td>63900.0</td>\n",
       "      <td>63900.0</td>\n",
       "      <td>62000.0</td>\n",
       "      <td>62200.0</td>\n",
       "      <td>-1.58</td>\n",
       "      <td>826031.0</td>\n",
       "    </tr>\n",
       "    <tr>\n",
       "      <th>1142</th>\n",
       "      <td>2023-02-16</td>\n",
       "      <td>62500.0</td>\n",
       "      <td>63700.0</td>\n",
       "      <td>62400.0</td>\n",
       "      <td>63700.0</td>\n",
       "      <td>2.41</td>\n",
       "      <td>873760.0</td>\n",
       "    </tr>\n",
       "    <tr>\n",
       "      <th>1143</th>\n",
       "      <td>2023-02-17</td>\n",
       "      <td>62900.0</td>\n",
       "      <td>63300.0</td>\n",
       "      <td>62400.0</td>\n",
       "      <td>62600.0</td>\n",
       "      <td>-1.73</td>\n",
       "      <td>677810.0</td>\n",
       "    </tr>\n",
       "    <tr>\n",
       "      <th>1144</th>\n",
       "      <td>2023-02-18</td>\n",
       "      <td></td>\n",
       "      <td></td>\n",
       "      <td></td>\n",
       "      <td></td>\n",
       "      <td></td>\n",
       "      <td></td>\n",
       "    </tr>\n",
       "    <tr>\n",
       "      <th>1145</th>\n",
       "      <td>2023-02-19</td>\n",
       "      <td></td>\n",
       "      <td></td>\n",
       "      <td></td>\n",
       "      <td></td>\n",
       "      <td></td>\n",
       "      <td></td>\n",
       "    </tr>\n",
       "    <tr>\n",
       "      <th>1146</th>\n",
       "      <td>2023-02-20</td>\n",
       "      <td>62900.0</td>\n",
       "      <td>63000.0</td>\n",
       "      <td>61800.0</td>\n",
       "      <td>62500.0</td>\n",
       "      <td>-0.16</td>\n",
       "      <td>752538.0</td>\n",
       "    </tr>\n",
       "  </tbody>\n",
       "</table>\n",
       "</div>"
      ],
      "text/plain": [
       "           date     open     high      low    close close_cr       vol\n",
       "1137 2023-02-11                                                       \n",
       "1138 2023-02-12                                                       \n",
       "1139 2023-02-13  62900.0  63000.0  62300.0  62900.0     0.16  672253.0\n",
       "1140 2023-02-14  63600.0  63900.0  63200.0  63200.0     0.48  579858.0\n",
       "1141 2023-02-15  63900.0  63900.0  62000.0  62200.0    -1.58  826031.0\n",
       "1142 2023-02-16  62500.0  63700.0  62400.0  63700.0     2.41  873760.0\n",
       "1143 2023-02-17  62900.0  63300.0  62400.0  62600.0    -1.73  677810.0\n",
       "1144 2023-02-18                                                       \n",
       "1145 2023-02-19                                                       \n",
       "1146 2023-02-20  62900.0  63000.0  61800.0  62500.0    -0.16  752538.0"
      ]
     },
     "execution_count": 31,
     "metadata": {},
     "output_type": "execute_result"
    }
   ],
   "source": [
    "df_o.tail(10)"
   ]
  },
  {
   "cell_type": "code",
   "execution_count": null,
   "id": "ce9e70ec",
   "metadata": {},
   "outputs": [],
   "source": []
  }
 ],
 "metadata": {
  "kernelspec": {
   "display_name": "Python 3",
   "language": "python",
   "name": "python3"
  },
  "language_info": {
   "codemirror_mode": {
    "name": "ipython",
    "version": 3
   },
   "file_extension": ".py",
   "mimetype": "text/x-python",
   "name": "python",
   "nbconvert_exporter": "python",
   "pygments_lexer": "ipython3",
   "version": "3.9.1"
  }
 },
 "nbformat": 4,
 "nbformat_minor": 5
}
