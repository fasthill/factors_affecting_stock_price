{
 "cells": [
  {
   "cell_type": "markdown",
   "id": "formed-phone",
   "metadata": {},
   "source": [
    "refer : https://github.com/fasthill/factors_affecting_stock_price/blob/main/fear_greed.ipynb"
   ]
  },
  {
   "cell_type": "code",
   "execution_count": null,
   "id": "affiliated-married",
   "metadata": {},
   "outputs": [],
   "source": [
    "import requests, csv, yfinance, pytz, json\n",
    "from datetime import datetime"
   ]
  },
  {
   "cell_type": "code",
   "execution_count": null,
   "id": "nervous-steel",
   "metadata": {},
   "outputs": [],
   "source": [
    "BASE_URL = \"https://production.dataviz.cnn.io/index/fearandgreed/graphdata\"\n",
    "START_DATE = '2022-01-01'"
   ]
  },
  {
   "cell_type": "code",
   "execution_count": null,
   "id": "historical-pastor",
   "metadata": {},
   "outputs": [],
   "source": [
    "headers = {'User-Agent': 'Mozilla/5.0 (Macintosh; Intel Mac OS X 10_11_5) \\\n",
    "           AppleWebKit/537.36 (KHTML, like Gecko) Chrome/50.0.2661.102 Safari/537.36'}"
   ]
  },
  {
   "cell_type": "code",
   "execution_count": null,
   "id": "practical-munich",
   "metadata": {},
   "outputs": [],
   "source": [
    "# url = \"https://production.dataviz.cnn.io/index/fearandgreed/graphdata/2022-01-01\"\n",
    "# r = requests.get(url, headers=headers)"
   ]
  },
  {
   "cell_type": "code",
   "execution_count": null,
   "id": "governmental-undergraduate",
   "metadata": {},
   "outputs": [],
   "source": [
    "r = requests.get(\"{}/{}\".format(BASE_URL, START_DATE), headers=headers)"
   ]
  },
  {
   "cell_type": "code",
   "execution_count": null,
   "id": "developmental-folks",
   "metadata": {},
   "outputs": [],
   "source": [
    "data = r.json()"
   ]
  },
  {
   "cell_type": "code",
   "execution_count": null,
   "id": "mature-louis",
   "metadata": {},
   "outputs": [],
   "source": [
    "fg_data = data['fear_and_greed_historical']['data']"
   ]
  },
  {
   "cell_type": "code",
   "execution_count": null,
   "id": "white-frequency",
   "metadata": {},
   "outputs": [],
   "source": [
    "fear_greed_values = {}\n",
    "\n",
    "FEAR_GREED_CSV_FILENAME = 'data/fear-greed-2021-2022.csv'"
   ]
  },
  {
   "cell_type": "code",
   "execution_count": null,
   "id": "political-deposit",
   "metadata": {},
   "outputs": [],
   "source": [
    "with open(FEAR_GREED_CSV_FILENAME, 'w', newline='') as csvfile:\n",
    "    writer = csv.writer(csvfile)\n",
    "    writer.writerow(['Date,,,,Fear Greed'])\n",
    "\n",
    "    for data in fg_data:\n",
    "        dt = datetime.fromtimestamp(data['x'] / 1000, tz=pytz.utc)\n",
    "        fear_greed_values[dt.date()] = int(data['y'])\n",
    "        writer.writerow([dt.date(), \"\", \"\", \"\", int(data['y'])])"
   ]
  },
  {
   "cell_type": "code",
   "execution_count": null,
   "id": "medical-shirt",
   "metadata": {},
   "outputs": [],
   "source": []
  }
 ],
 "metadata": {
  "kernelspec": {
   "display_name": "Python 3 (ipykernel)",
   "language": "python",
   "name": "python3"
  },
  "language_info": {
   "codemirror_mode": {
    "name": "ipython",
    "version": 3
   },
   "file_extension": ".py",
   "mimetype": "text/x-python",
   "name": "python",
   "nbconvert_exporter": "python",
   "pygments_lexer": "ipython3",
   "version": "3.9.1"
  }
 },
 "nbformat": 4,
 "nbformat_minor": 5
}
