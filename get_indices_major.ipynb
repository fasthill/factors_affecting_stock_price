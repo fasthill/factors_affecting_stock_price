{
 "cells": [
  {
   "cell_type": "code",
   "execution_count": null,
   "id": "1cddba06",
   "metadata": {},
   "outputs": [],
   "source": [
    "from selenium import webdriver as wd\n",
    "from bs4 import BeautifulSoup as bs\n",
    "import requests\n",
    "import datetime\n",
    "from datetime import date\n",
    "import pandas as pd\n",
    "import time\n",
    "import os, sys"
   ]
  },
  {
   "cell_type": "code",
   "execution_count": null,
   "id": "suburban-shape",
   "metadata": {},
   "outputs": [],
   "source": [
    "spx_url = 'https://kr.investing.com/indices/us-spx-500-historical-data'\n",
    "dji_url = 'https://kr.investing.com/indices/us-30-historical-data'\n",
    "nas_url = 'https://kr.investing.com/indices/nasdaq-composite-historical-data'\n",
    "kospi_url = 'https://kr.investing.com/indices/kospi-historical-data'\n",
    "kosdaq_url = 'https://kr.investing.com/indices/kosdaq-historical-data'\n",
    "sox_url = 'https://kr.investing.com/indices/phlx-semiconductor-historical-data'\n",
    "vix_url = 'https://kr.investing.com/indices/volatility-s-p-500-historical-data'\n",
    "\n",
    "urls = [spx_url, dji_url, nas_url, kospi_url, kosdaq_url, sox_url, vix_url]"
   ]
  },
  {
   "cell_type": "code",
   "execution_count": null,
   "id": "operating-auckland",
   "metadata": {},
   "outputs": [],
   "source": [
    "headers = {'User-Agent': 'Mozilla/5.0 (Macintosh; Intel Mac OS X 10_11_5) \\\n",
    "           AppleWebKit/537.36 (KHTML, like Gecko) Chrome/50.0.2661.102 Safari/537.36'}"
   ]
  },
  {
   "cell_type": "code",
   "execution_count": null,
   "id": "mobile-conditions",
   "metadata": {},
   "outputs": [],
   "source": [
    "column_eng = ['date', 'price', 'open', 'high', 'low', 'volume', 'change(%)']\n",
    "column_kor = ['날짜', '종가', '시가', '고가', '저가', '거래량', '변동(%)']\n",
    "f_name = ['s&p', 'dji', 'nasdaq', 'kospi', 'kosdaq', 'sox', 'vix' ]"
   ]
  },
  {
   "cell_type": "code",
   "execution_count": null,
   "id": "opposed-concept",
   "metadata": {},
   "outputs": [],
   "source": [
    "dir_name = 'data/indices_major/'\n",
    "start_ix = 'aa'"
   ]
  },
  {
   "cell_type": "code",
   "execution_count": null,
   "id": "existing-regression",
   "metadata": {},
   "outputs": [],
   "source": [
    "today = datetime.date.today()\n",
    "today = today.strftime('%Y%m%d')"
   ]
  },
  {
   "cell_type": "code",
   "execution_count": null,
   "id": "polish-parliament",
   "metadata": {},
   "outputs": [],
   "source": [
    "for i, url in enumerate(urls):\n",
    "    res = requests.get(url, headers=headers)\n",
    "    df = pd.read_html(res.text, attrs={\"id\": \"curr_table\"}, flavor=[\"lxml\", \"bs4\"])[0]\n",
    "    df.columns = column_eng\n",
    "    df['date'] = df['date'].apply(lambda x : datetime.datetime.strptime(x, \"%Y년 %m월 %d일\"))\n",
    "    filename = '{}{}{}_{}_{}.csv'.format(dir_name, start_ix,i+1,f_name[i], today)\n",
    "    df.to_csv(filename, index=False)"
   ]
  },
  {
   "cell_type": "markdown",
   "id": "connected-modeling",
   "metadata": {},
   "source": [
    "#### get cpi"
   ]
  },
  {
   "cell_type": "code",
   "execution_count": null,
   "id": "charming-discrimination",
   "metadata": {},
   "outputs": [],
   "source": [
    "cpi_url = 'https://kr.investing.com/economic-calendar/cpi-733'"
   ]
  },
  {
   "cell_type": "code",
   "execution_count": null,
   "id": "political-italian",
   "metadata": {},
   "outputs": [],
   "source": [
    "res = requests.get(cpi_url, headers=headers)\n",
    "df = pd.read_html(res.text)[0]"
   ]
  },
  {
   "cell_type": "code",
   "execution_count": null,
   "id": "reverse-cambodia",
   "metadata": {},
   "outputs": [],
   "source": [
    "df.columns=  ['annouce_date', 'time', 'real_rate', 'anticipated_rate', 'prev_rate', 'none']\n",
    "df['annouce_date'] = df['annouce_date'].\\\n",
    "                    apply(lambda x : datetime.datetime.strptime(x[:13], \"%Y년 %m월 %d일\"))\n",
    "df['time'] = df['time'].apply(lambda x : datetime.datetime.strptime(x, \"%H:%M\").time())"
   ]
  },
  {
   "cell_type": "code",
   "execution_count": null,
   "id": "significant-mechanism",
   "metadata": {},
   "outputs": [],
   "source": [
    "df.head()"
   ]
  },
  {
   "cell_type": "code",
   "execution_count": null,
   "id": "medium-signature",
   "metadata": {},
   "outputs": [],
   "source": [
    "f_name = 'cpi_index'\n",
    "i = 7\n",
    "filename = '{}{}{}_{}_{}.csv'.format(dir_name, start_ix,i+1, f_name, today)\n",
    "df.to_csv(filename, index=False)"
   ]
  },
  {
   "cell_type": "markdown",
   "id": "uniform-print",
   "metadata": {},
   "source": [
    "#### get fear and greed"
   ]
  },
  {
   "cell_type": "code",
   "execution_count": null,
   "id": "conceptual-treasure",
   "metadata": {},
   "outputs": [],
   "source": [
    "url = 'https://finance.yahoo.com/quote/%5EVIX/history?p=%5EVIX'\n",
    "res = requests.get(url, headers=headers)\n",
    "df = pd.read_html(res.text, attrs={\"class\": \"W(100%) M(0)\"}, flavor=[\"lxml\", \"bs4\"])[0]"
   ]
  },
  {
   "cell_type": "code",
   "execution_count": null,
   "id": "incredible-joseph",
   "metadata": {},
   "outputs": [],
   "source": [
    "df.drop(df.index[100:], axis=0,inplace=True)"
   ]
  },
  {
   "cell_type": "code",
   "execution_count": null,
   "id": "tracked-sound",
   "metadata": {},
   "outputs": [],
   "source": [
    "df['Date'] = df['Date'].\\\n",
    "                    apply(lambda x : datetime.datetime.strptime(x, \"%b %d, %Y\"))"
   ]
  },
  {
   "cell_type": "code",
   "execution_count": null,
   "id": "inappropriate-great",
   "metadata": {},
   "outputs": [],
   "source": [
    "df.head()"
   ]
  },
  {
   "cell_type": "code",
   "execution_count": null,
   "id": "accomplished-frederick",
   "metadata": {},
   "outputs": [],
   "source": [
    "f_name = 'fear_greed'\n",
    "i = 8\n",
    "filename = '{}{}{}_{}_{}.csv'.format(dir_name, start_ix,i+1, f_name, today)\n",
    "df.to_csv(filename, index=False)"
   ]
  },
  {
   "cell_type": "code",
   "execution_count": null,
   "id": "chief-salmon",
   "metadata": {},
   "outputs": [],
   "source": []
  }
 ],
 "metadata": {
  "kernelspec": {
   "display_name": "Python 3",
   "language": "python",
   "name": "python3"
  },
  "language_info": {
   "codemirror_mode": {
    "name": "ipython",
    "version": 3
   },
   "file_extension": ".py",
   "mimetype": "text/x-python",
   "name": "python",
   "nbconvert_exporter": "python",
   "pygments_lexer": "ipython3",
   "version": "3.9.1"
  }
 },
 "nbformat": 4,
 "nbformat_minor": 5
}
