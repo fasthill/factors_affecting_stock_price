{
 "cells": [
  {
   "cell_type": "markdown",
   "id": "459ff0ca",
   "metadata": {},
   "source": [
    "## combine common data"
   ]
  },
  {
   "cell_type": "markdown",
   "id": "b8f84533",
   "metadata": {},
   "source": [
    "### feature(주요 common data)합치기-- 하루전과 이틀전의 데이터와 비교"
   ]
  },
  {
   "cell_type": "code",
   "execution_count": 1,
   "id": "6844babf",
   "metadata": {},
   "outputs": [],
   "source": [
    "import datetime, time\n",
    "from datetime import date\n",
    "\n",
    "import pandas as pd\n",
    "import numpy as np\n",
    "\n",
    "from sklearn.preprocessing import StandardScaler"
   ]
  },
  {
   "cell_type": "code",
   "execution_count": 2,
   "id": "ca139bbd",
   "metadata": {},
   "outputs": [],
   "source": [
    "# 거래일과 거래일 바로 이전일의 변화율을 계산함.\n",
    "def find_ratio(df_o, date_current):\n",
    "    df_o_trans = df_o.transpose()\n",
    "    df_o_trans.columns = ['before', 'after']\n",
    "    df_o_trans['before'][df_o_trans['before'] == 0] = 1e-20 # 0으로 나누는 것을 예외로 두기 위하여 작은 숫자로 대체\n",
    "    df_o_trans[date_current] = (df_o_trans['after'] - df_o_trans['before']) / df_o_trans['before']\n",
    "    df_o_trans[date_current] = df_o_trans[date_current].apply(lambda x: np.inf if x > 1e+10 else -np.inf if x < -1e+10 else x)\n",
    "    # -inf, +inf로 대체함.\n",
    "    return df_o_trans.transpose()"
   ]
  },
  {
   "cell_type": "code",
   "execution_count": 3,
   "id": "187ec9c3",
   "metadata": {},
   "outputs": [],
   "source": [
    "# 매일 변화가 있는 항목 추출; 금리변동과 같이 주기적을 발생하는 항목들(cpi, bok_rate, fed_rate 등)은 제외\n",
    "common_pkl = [ \"dji.pkl\", \"dji_future.pkl\", \"dxy_future.pkl\", \n",
    "               \"ixic_future.pkl\", \"kor_10yr_bond.pkl\",\n",
    "              \"kor_2yr_bond.pkl\", \"kosdaq.pkl\", \"kospi.pkl\", \"krw_rate.pkl\", \"nas.pkl\",\n",
    "              \"snp_future.pkl\", \"sox.pkl\", \"spx.pkl\", \"us_10yr_bond.pkl\", \"us_2yr_bond.pkl\",\n",
    "              \"us_3mon_bond.pkl\", \"vix.pkl\", \"wti_future.pkl\",\n",
    "              'spsy.pkl', 'spny.pkl', 'spxhc.pkl', 'splrcd.pkl', 'splrci.pkl', 'splrcu.pkl', 'splrcs.pkl', \n",
    "              'splrct.pkl', 'splrcl.pkl', 'splrcm.pkl', 'ixbk.pkl', 'ixfn.pkl', 'ixid.pkl', 'ixis.pkl', \n",
    "              'ixk.pkl', 'ixtr.pkl', 'ixut.pkl', 'nbi.pkl', 'bkx.pkl' \n",
    "             ]\n",
    "# common_pkl = [ \"dji.pkl\" ]"
   ]
  },
  {
   "cell_type": "code",
   "execution_count": 10,
   "id": "0581e2c0",
   "metadata": {},
   "outputs": [],
   "source": [
    "# dict로 만들어 pkl내에 있는 df의 column 이름과 매칭시키기 위하여 구성\n",
    "common_col_name = {'dji.pkl':'dji', 'dji_future.pkl':'dji_f', 'dxy_future.pkl':'dxy', \n",
    "                   'ixic_future.pkl':'ixic_f', 'kor_10yr_bond.pkl':'bond_kor_10',\n",
    "                   'kor_2yr_bond.pkl':'bond_kor_2', 'kosdaq.pkl':'kosdaq', 'kospi.pkl':'kospi',\n",
    "                   'krw_rate.pkl':'krw', 'nas.pkl':'ixic', 'snp_future.pkl':'spx_f',\n",
    "                   'sox.pkl':'sox', 'spx.pkl':'spx', 'us_10yr_bond.pkl':'bond_usa_10',\n",
    "                   'us_2yr_bond.pkl':'bond_usa_2', 'us_3mon_bond.pkl':'bond_usa_3m',\n",
    "                   'vix.pkl':'vix', 'wti_future.pkl':'wti',\n",
    "                   'spsy.pkl':'spsy', 'spny.pkl':'spny', 'spxhc.pkl':'spxhc', 'splrcd.pkl':'splrcd', \n",
    "                   'splrci.pkl':'splrci', 'splrcu.pkl':'splrcu', 'splrcs.pkl':'splrcs', \n",
    "                   'splrct.pkl':'splrct', 'splrcl.pkl':'splrcl', 'splrcm.pkl':'splrcm', \n",
    "                   'ixbk.pkl':'ixbk', 'ixfn.pkl':'ixfn', 'ixid.pkl':'ixid', 'ixis.pkl':'ixis', \n",
    "                   'ixk.pkl':'ixk', 'ixtr.pkl':'ixtr', 'ixut.pkl':'ixut', 'nbi.pkl':'nbi', 'bkx.pkl':'bkx'\n",
    "                   }"
   ]
  },
  {
   "cell_type": "code",
   "execution_count": 4,
   "id": "efab094d",
   "metadata": {},
   "outputs": [],
   "source": [
    "directory_for_predict = './data/data_for_ml/predict/'\n",
    "pkl_common_directory = './data/common_pkl/'\n",
    "pkl_directory = './data/common_pkl/'"
   ]
  },
  {
   "cell_type": "code",
   "execution_count": 5,
   "id": "47d85c68",
   "metadata": {},
   "outputs": [],
   "source": [
    "# ******** 시작 일자, 마지막 일자  지정 ***********\n",
    "pkl_name= 'dji.pkl'\n",
    "df_temp = pd.read_pickle(pkl_directory + pkl_name)\n",
    "\n",
    "start_date = datetime.date(2022, 1, 1) # 2022년 01월 01일 자료 있음. 추후 이전날짜 추가시 수정 필요\n",
    "end_date = df_temp['date'].iloc[-1]  # 대표적으로 dji를 기준으로 분석 날짜를 선택함 마지막 날짜\n",
    "dji = df_temp['dji'].iloc[-1]\n",
    "opening_days_common = list(df_temp['date'].dt.date)\n",
    "\n",
    "if dji == None :\n",
    "    opening_days_common = list(df_temp['date'][:-1].dt.date)"
   ]
  },
  {
   "cell_type": "code",
   "execution_count": 6,
   "id": "4f4945fb",
   "metadata": {},
   "outputs": [],
   "source": [
    "df_base = pd.DataFrame(pd.Series(opening_days_common, name='date')).set_index('date')"
   ]
  },
  {
   "cell_type": "code",
   "execution_count": 7,
   "id": "232b138b",
   "metadata": {},
   "outputs": [],
   "source": [
    "date_compare = pd.DataFrame(pd.Series(opening_days_common, name='date'))\n",
    "date_compare['date_p'] = date_compare['date'].shift(1)"
   ]
  },
  {
   "cell_type": "code",
   "execution_count": 8,
   "id": "6d9e4ada",
   "metadata": {},
   "outputs": [],
   "source": [
    "date_compare.columns = ['date_c', 'date_p'] #거래일과 바로 이전 거래일\n",
    "c_p_dict = date_compare.set_index('date_c').to_dict()['date_p'] # date_c로 date_p 찾기\n",
    "p_c_dict = date_compare.set_index('date_p').to_dict()['date_c'] # date_p로 date_c 찾기"
   ]
  },
  {
   "cell_type": "code",
   "execution_count": 11,
   "id": "e6bfcbaa",
   "metadata": {},
   "outputs": [],
   "source": [
    "for index_name in common_pkl:\n",
    "    key_name = index_name[:-4]\n",
    "    col_name = common_col_name[index_name]\n",
    "    df_temp = pd.read_pickle(pkl_common_directory + index_name)\n",
    "    df_temp['date'] = df_temp['date'].dt.date # date type으로 변환\n",
    "    df_temp['temp'] = df_temp[col_name].shift(2)  # 거래일과 이전(-1) 이전(-1) 거래일 데이터와 비교하기 위하여 -2 shift\n",
    "    df_temp[f'{col_name}_cr_2'] = (df_temp[col_name] - df_temp['temp'])/df_temp['temp']*100 # 이전 거래일 데이터는 \"_cr\"\n",
    "    df_new = df_temp[df_temp['date'].isin(date_compare['date_p'])] # 이전 거래일과 비교날짜가 있는 row만 선택\n",
    "    # 예: 2023-04-10('date_c'), 2023-04-07('date_p') 일 경우, 2023년 4월 7일 데이터는 2023년 4월 10일 row에 작성해야 함.\n",
    "    # 위 예와 같이 하기 위해 'date_p'에 있는 date로만 df재구성(df_new)\n",
    "    \n",
    "    add_c= df_new['date'].apply(lambda x : p_c_dict[x])  # 하루전 날짜와 매칭한 column 생성 (add_c)\n",
    "    # 예: 2023년 4월 7일 데이터는 2023년 4월 10일 row에 기입\n",
    "    df_new.insert(len(df_new.columns)-1, 'date_c', value=add_c)  #SettingWithCopyWarning: error 회피\n",
    "    df_new.set_index('date_c', inplace=True)\n",
    "    \n",
    "    df_base = df_base.merge(df_new.iloc[:, [-3, -1]], \\\n",
    "                            how='left', left_index=True, right_index=True)\n",
    "    \n",
    "# write common analysis data\n",
    "    \n",
    "globals()['df_base'].to_pickle(directory_for_predict + '0_df_common.pkl')\n",
    "globals()['df_base'].to_csv(directory_for_predict + '0_df_common.csv')"
   ]
  },
  {
   "cell_type": "code",
   "execution_count": null,
   "id": "83a83d68",
   "metadata": {},
   "outputs": [],
   "source": []
  }
 ],
 "metadata": {
  "kernelspec": {
   "display_name": "Python 3 (ipykernel)",
   "language": "python",
   "name": "python3"
  },
  "language_info": {
   "codemirror_mode": {
    "name": "ipython",
    "version": 3
   },
   "file_extension": ".py",
   "mimetype": "text/x-python",
   "name": "python",
   "nbconvert_exporter": "python",
   "pygments_lexer": "ipython3",
   "version": "3.10.7"
  }
 },
 "nbformat": 4,
 "nbformat_minor": 5
}
