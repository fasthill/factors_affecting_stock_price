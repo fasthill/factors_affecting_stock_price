{
 "cells": [
  {
   "cell_type": "code",
   "execution_count": 22,
   "id": "fe885e6f",
   "metadata": {},
   "outputs": [],
   "source": [
    "from bs4 import BeautifulSoup as soup\n",
    "import requests\n",
    "\n",
    "url = 'http://www.northwest.williams.com/NWP_Portal/'\n",
    "\n",
    "r = requests.get(url)\n",
    "\n",
    "html = soup(r.content,'lxml')\n",
    "\n",
    "page = html.findAll('div',{'class':'dailyOperations-panels'})"
   ]
  },
  {
   "cell_type": "code",
   "execution_count": 23,
   "id": "f0eccb4d",
   "metadata": {},
   "outputs": [
    {
     "data": {
      "text/plain": [
       "[]"
      ]
     },
     "execution_count": 23,
     "metadata": {},
     "output_type": "execute_result"
    }
   ],
   "source": [
    "page"
   ]
  },
  {
   "cell_type": "code",
   "execution_count": null,
   "id": "1a93c64e",
   "metadata": {},
   "outputs": [],
   "source": [
    "https://stackoverflow.com/questions/71859375/how-to-extract-specific-html-lines-with-a-flex-container-using-ironpython"
   ]
  }
 ],
 "metadata": {
  "kernelspec": {
   "display_name": "Python 3",
   "language": "python",
   "name": "python3"
  },
  "language_info": {
   "codemirror_mode": {
    "name": "ipython",
    "version": 3
   },
   "file_extension": ".py",
   "mimetype": "text/x-python",
   "name": "python",
   "nbconvert_exporter": "python",
   "pygments_lexer": "ipython3",
   "version": "3.9.1"
  }
 },
 "nbformat": 4,
 "nbformat_minor": 5
}
