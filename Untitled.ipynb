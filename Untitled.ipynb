{
 "cells": [
  {
   "cell_type": "code",
   "execution_count": 1,
   "id": "matched-interview",
   "metadata": {},
   "outputs": [],
   "source": [
    "# from bs4 import BeautifulSoup as bs\n",
    "import requests\n",
    "import datetime, time\n",
    "\n",
    "import pandas as pd\n",
    "# import numpy as np\n",
    "\n",
    "import os\n",
    "import shutil"
   ]
  },
  {
   "cell_type": "code",
   "execution_count": 2,
   "id": "selective-ireland",
   "metadata": {},
   "outputs": [],
   "source": [
    "headers = {'User-Agent': 'Mozilla/5.0 (Macintosh; Intel Mac OS X 10_11_5) \\\n",
    "           AppleWebKit/537.36 (KHTML, like Gecko) Chrome/50.0.2661.102 Safari/537.36'}"
   ]
  },
  {
   "cell_type": "code",
   "execution_count": 3,
   "id": "f8058508",
   "metadata": {},
   "outputs": [],
   "source": [
    "df_org = pd.read_csv('data/{}'.format('data_common.csv'))\n",
    "df_org['date'] = df_org['date'].apply(lambda x : datetime.datetime.strptime(x, \"%Y-%m-%d\"))\n",
    "df_org.set_index('date', inplace=True)"
   ]
  },
  {
   "cell_type": "markdown",
   "id": "2c2b05f9",
   "metadata": {},
   "source": [
    "### fed 금리 get append"
   ]
  },
  {
   "cell_type": "code",
   "execution_count": null,
   "id": "b27dd9b7",
   "metadata": {},
   "outputs": [],
   "source": [
    "interest_url = 'https://www.investing.com/economic-calendar/interest-rate-decision-168/'"
   ]
  },
  {
   "cell_type": "code",
   "execution_count": null,
   "id": "47e24196",
   "metadata": {},
   "outputs": [],
   "source": [
    "res = requests.get(interest_url, headers=headers)\n",
    "df = pd.read_html(res.text, flavor=[\"lxml\", \"bs4\"])[0]\n",
    "# df.head()"
   ]
  },
  {
   "cell_type": "code",
   "execution_count": null,
   "id": "4deb72ea",
   "metadata": {},
   "outputs": [],
   "source": [
    "df.columns = ['date', 'time', 'fed_rate', 'fed_rate_fore', 'fed_rate_prev', 'none']"
   ]
  },
  {
   "cell_type": "code",
   "execution_count": null,
   "id": "1b36da94",
   "metadata": {},
   "outputs": [],
   "source": [
    "df['date'] = df['date'].apply(lambda x : datetime.datetime.strptime(x[:12], \"%b %d, %Y\"))\n",
    "df['time'] = df['time'].apply(lambda x : datetime.datetime.strptime(x, \"%H:%M\").time())"
   ]
  },
  {
   "cell_type": "code",
   "execution_count": null,
   "id": "f98a65bb",
   "metadata": {},
   "outputs": [],
   "source": [
    "df_select = df[['date', 'fed_rate', 'fed_rate_fore', 'fed_rate_prev']]\n",
    "df_select.set_index('date', inplace=True)\n",
    "\n",
    "df_org.update(df_select, overwrite=False)"
   ]
  },
  {
   "cell_type": "markdown",
   "id": "ab01978f",
   "metadata": {},
   "source": [
    "### 한국은행 금리 get append"
   ]
  },
  {
   "cell_type": "code",
   "execution_count": 4,
   "id": "827eed7c",
   "metadata": {},
   "outputs": [],
   "source": [
    "kor_url = 'https://www.bok.or.kr/portal/singl/baseRate/list.do?dataSeCd=01&menuNo=200643'"
   ]
  },
  {
   "cell_type": "code",
   "execution_count": 5,
   "id": "165dd0c2",
   "metadata": {},
   "outputs": [],
   "source": [
    "df = pd.read_html(kor_url, attrs = {'class': 'fixed'}, flavor=[\"lxml\", \"bs4\"])[0]"
   ]
  },
  {
   "cell_type": "code",
   "execution_count": 6,
   "id": "fdd6d17a",
   "metadata": {},
   "outputs": [],
   "source": [
    "df.columns=  ['release_yr', 'release_date', 'bok_rate']\n",
    "df_date_temp = df['release_yr'].astype('str')+df['release_date']\n",
    "df['date'] = df_date_temp.apply(lambda x : datetime.datetime.strptime(x, \"%Y%m월 %d일\"))"
   ]
  },
  {
   "cell_type": "code",
   "execution_count": 7,
   "id": "240ac38f",
   "metadata": {},
   "outputs": [],
   "source": [
    "df_select = df[['date', 'bok_rate']] # leave only valid columns\n",
    "df_select.set_index('date', inplace=True)\n",
    "\n",
    "df_org.update(df_select, overwrite=False)"
   ]
  },
  {
   "cell_type": "code",
   "execution_count": 10,
   "id": "7ea3e517",
   "metadata": {},
   "outputs": [
    {
     "data": {
      "text/html": [
       "<div>\n",
       "<style scoped>\n",
       "    .dataframe tbody tr th:only-of-type {\n",
       "        vertical-align: middle;\n",
       "    }\n",
       "\n",
       "    .dataframe tbody tr th {\n",
       "        vertical-align: top;\n",
       "    }\n",
       "\n",
       "    .dataframe thead th {\n",
       "        text-align: right;\n",
       "    }\n",
       "</style>\n",
       "<table border=\"1\" class=\"dataframe\">\n",
       "  <thead>\n",
       "    <tr style=\"text-align: right;\">\n",
       "      <th></th>\n",
       "      <th>bok_rate</th>\n",
       "    </tr>\n",
       "    <tr>\n",
       "      <th>date</th>\n",
       "      <th></th>\n",
       "    </tr>\n",
       "  </thead>\n",
       "  <tbody>\n",
       "    <tr>\n",
       "      <th>2022-05-21</th>\n",
       "      <td>NaN</td>\n",
       "    </tr>\n",
       "    <tr>\n",
       "      <th>2022-05-22</th>\n",
       "      <td>NaN</td>\n",
       "    </tr>\n",
       "    <tr>\n",
       "      <th>2022-05-23</th>\n",
       "      <td>NaN</td>\n",
       "    </tr>\n",
       "    <tr>\n",
       "      <th>2022-05-24</th>\n",
       "      <td>NaN</td>\n",
       "    </tr>\n",
       "    <tr>\n",
       "      <th>2022-05-25</th>\n",
       "      <td>NaN</td>\n",
       "    </tr>\n",
       "    <tr>\n",
       "      <th>2022-05-26</th>\n",
       "      <td>1.75</td>\n",
       "    </tr>\n",
       "    <tr>\n",
       "      <th>2022-05-27</th>\n",
       "      <td>NaN</td>\n",
       "    </tr>\n",
       "    <tr>\n",
       "      <th>2022-05-28</th>\n",
       "      <td>NaN</td>\n",
       "    </tr>\n",
       "    <tr>\n",
       "      <th>2022-05-29</th>\n",
       "      <td>NaN</td>\n",
       "    </tr>\n",
       "    <tr>\n",
       "      <th>2022-05-30</th>\n",
       "      <td>NaN</td>\n",
       "    </tr>\n",
       "    <tr>\n",
       "      <th>2022-05-31</th>\n",
       "      <td>NaN</td>\n",
       "    </tr>\n",
       "    <tr>\n",
       "      <th>2022-06-01</th>\n",
       "      <td>NaN</td>\n",
       "    </tr>\n",
       "    <tr>\n",
       "      <th>2022-06-02</th>\n",
       "      <td>NaN</td>\n",
       "    </tr>\n",
       "    <tr>\n",
       "      <th>2022-06-03</th>\n",
       "      <td>NaN</td>\n",
       "    </tr>\n",
       "    <tr>\n",
       "      <th>2022-06-04</th>\n",
       "      <td>NaN</td>\n",
       "    </tr>\n",
       "    <tr>\n",
       "      <th>2022-06-05</th>\n",
       "      <td>NaN</td>\n",
       "    </tr>\n",
       "    <tr>\n",
       "      <th>2022-06-06</th>\n",
       "      <td>NaN</td>\n",
       "    </tr>\n",
       "    <tr>\n",
       "      <th>2022-06-07</th>\n",
       "      <td>NaN</td>\n",
       "    </tr>\n",
       "    <tr>\n",
       "      <th>2022-06-08</th>\n",
       "      <td>NaN</td>\n",
       "    </tr>\n",
       "    <tr>\n",
       "      <th>2022-06-09</th>\n",
       "      <td>NaN</td>\n",
       "    </tr>\n",
       "    <tr>\n",
       "      <th>2022-06-10</th>\n",
       "      <td>NaN</td>\n",
       "    </tr>\n",
       "    <tr>\n",
       "      <th>2022-06-11</th>\n",
       "      <td>NaN</td>\n",
       "    </tr>\n",
       "    <tr>\n",
       "      <th>2022-06-12</th>\n",
       "      <td>NaN</td>\n",
       "    </tr>\n",
       "    <tr>\n",
       "      <th>2022-06-13</th>\n",
       "      <td>NaN</td>\n",
       "    </tr>\n",
       "    <tr>\n",
       "      <th>2022-06-14</th>\n",
       "      <td>NaN</td>\n",
       "    </tr>\n",
       "    <tr>\n",
       "      <th>2022-06-15</th>\n",
       "      <td>NaN</td>\n",
       "    </tr>\n",
       "    <tr>\n",
       "      <th>2022-06-16</th>\n",
       "      <td>NaN</td>\n",
       "    </tr>\n",
       "    <tr>\n",
       "      <th>2022-06-17</th>\n",
       "      <td>NaN</td>\n",
       "    </tr>\n",
       "    <tr>\n",
       "      <th>2022-06-18</th>\n",
       "      <td>NaN</td>\n",
       "    </tr>\n",
       "    <tr>\n",
       "      <th>2022-06-19</th>\n",
       "      <td>NaN</td>\n",
       "    </tr>\n",
       "  </tbody>\n",
       "</table>\n",
       "</div>"
      ],
      "text/plain": [
       "            bok_rate\n",
       "date                \n",
       "2022-05-21       NaN\n",
       "2022-05-22       NaN\n",
       "2022-05-23       NaN\n",
       "2022-05-24       NaN\n",
       "2022-05-25       NaN\n",
       "2022-05-26      1.75\n",
       "2022-05-27       NaN\n",
       "2022-05-28       NaN\n",
       "2022-05-29       NaN\n",
       "2022-05-30       NaN\n",
       "2022-05-31       NaN\n",
       "2022-06-01       NaN\n",
       "2022-06-02       NaN\n",
       "2022-06-03       NaN\n",
       "2022-06-04       NaN\n",
       "2022-06-05       NaN\n",
       "2022-06-06       NaN\n",
       "2022-06-07       NaN\n",
       "2022-06-08       NaN\n",
       "2022-06-09       NaN\n",
       "2022-06-10       NaN\n",
       "2022-06-11       NaN\n",
       "2022-06-12       NaN\n",
       "2022-06-13       NaN\n",
       "2022-06-14       NaN\n",
       "2022-06-15       NaN\n",
       "2022-06-16       NaN\n",
       "2022-06-17       NaN\n",
       "2022-06-18       NaN\n",
       "2022-06-19       NaN"
      ]
     },
     "execution_count": 10,
     "metadata": {},
     "output_type": "execute_result"
    }
   ],
   "source": [
    "df_org[['bok_rate']][140:170]"
   ]
  },
  {
   "cell_type": "code",
   "execution_count": null,
   "id": "fd15fc68",
   "metadata": {},
   "outputs": [],
   "source": []
  },
  {
   "cell_type": "code",
   "execution_count": null,
   "id": "013946d8",
   "metadata": {},
   "outputs": [],
   "source": []
  },
  {
   "cell_type": "code",
   "execution_count": null,
   "id": "7d6d52dd",
   "metadata": {},
   "outputs": [],
   "source": []
  },
  {
   "cell_type": "code",
   "execution_count": null,
   "id": "060bc7c9",
   "metadata": {},
   "outputs": [],
   "source": []
  },
  {
   "cell_type": "code",
   "execution_count": null,
   "id": "08f03a66",
   "metadata": {},
   "outputs": [],
   "source": [
    "df_org[[ 'fed_rate', 'fed_rate_fore', 'fed_rate_prev']][160:170]"
   ]
  },
  {
   "cell_type": "code",
   "execution_count": null,
   "id": "8b03613d",
   "metadata": {},
   "outputs": [],
   "source": [
    "df_select.head()"
   ]
  },
  {
   "cell_type": "code",
   "execution_count": null,
   "id": "regulated-click",
   "metadata": {},
   "outputs": [],
   "source": [
    "today = datetime.date.today()\n",
    "today = today.strftime('%Y%m%d')"
   ]
  },
  {
   "cell_type": "code",
   "execution_count": null,
   "id": "c82cac85",
   "metadata": {},
   "outputs": [],
   "source": [
    "df_org[['gold']][170:180]"
   ]
  },
  {
   "cell_type": "code",
   "execution_count": null,
   "id": "e5394d68",
   "metadata": {},
   "outputs": [],
   "source": [
    "fed daa"
   ]
  },
  {
   "cell_type": "code",
   "execution_count": null,
   "id": "ef01f0e5",
   "metadata": {},
   "outputs": [],
   "source": [
    "df_org = pd.read_csv('data/{}'.format('data_common.csv'))\n",
    "df_org['date'] = df_org['date'].apply(lambda x : datetime.datetime.strptime(x, \"%Y-%m-%d\"))\n",
    "df_org.set_index('date', inplace=True)"
   ]
  },
  {
   "cell_type": "code",
   "execution_count": null,
   "id": "naval-water",
   "metadata": {},
   "outputs": [],
   "source": [
    "df = pd.read_csv('data/interest_rate/{}'.format('rr1_fed_20220628.csv'))\n",
    "df.columns = ['date', 'time', 'fed_rate', 'fed_rate_fore', 'fed_rate_prev', 'none']\n",
    "df['date'] = df['date'].apply(lambda x : datetime.datetime.strptime(x, \"%Y-%m-%d\"))\n",
    "# df의 index를 모두 'date'로 설정\n",
    "df_select = df[['date', 'fed_rate', 'fed_rate_fore', 'fed_rate_prev']]\n",
    "df_select.set_index('date', inplace=True)\n",
    "\n",
    "df_org.update(df_select) # done fed rate before 22020628"
   ]
  },
  {
   "cell_type": "code",
   "execution_count": null,
   "id": "tired-quick",
   "metadata": {},
   "outputs": [],
   "source": [
    "df_org.reset_index(inplace=True)\n",
    "df_org.to_csv('data/data_common.csv', index=False)"
   ]
  },
  {
   "cell_type": "markdown",
   "id": "62f8bdf2",
   "metadata": {},
   "source": [
    "### 한국은행 금리 붙이기"
   ]
  },
  {
   "cell_type": "code",
   "execution_count": null,
   "id": "916be18f",
   "metadata": {},
   "outputs": [],
   "source": [
    "df = pd.read_csv('data/interest_rate/{}'.format('rr2_bok_20220628.csv'))\n",
    "df.columns = ['date', 'bok_rate']\n",
    "df['date'] = df['date'].apply(lambda x : datetime.datetime.strptime(x, \"%Y-%m-%d\"))\n",
    "# df의 index를 모두 'date'로 설정\n",
    "df_select = df[['date', 'bok_rate']]\n",
    "df_select.set_index('date', inplace=True)\n",
    "\n",
    "df_org.update(df_select) # done bok rate before 22020628"
   ]
  },
  {
   "cell_type": "code",
   "execution_count": null,
   "id": "0c9ac675",
   "metadata": {},
   "outputs": [],
   "source": [
    "df_org.reset_index(inplace=True)\n",
    "df_org.to_csv('data/data_common.csv', index=False)"
   ]
  },
  {
   "cell_type": "code",
   "execution_count": null,
   "id": "0a2d9572",
   "metadata": {},
   "outputs": [],
   "source": []
  },
  {
   "cell_type": "code",
   "execution_count": null,
   "id": "0ccfd221",
   "metadata": {},
   "outputs": [],
   "source": [
    "df.set_index('date', inplace=True)\n",
    "df_org.update(df)"
   ]
  },
  {
   "cell_type": "code",
   "execution_count": null,
   "id": "7fc4b8ef",
   "metadata": {},
   "outputs": [],
   "source": [
    "df_org.reset_index(inplace=True)\n",
    "df_org.to_csv('data/data_common.csv', index=False)"
   ]
  }
 ],
 "metadata": {
  "kernelspec": {
   "display_name": "Python 3",
   "language": "python",
   "name": "python3"
  },
  "language_info": {
   "codemirror_mode": {
    "name": "ipython",
    "version": 3
   },
   "file_extension": ".py",
   "mimetype": "text/x-python",
   "name": "python",
   "nbconvert_exporter": "python",
   "pygments_lexer": "ipython3",
   "version": "3.9.1"
  }
 },
 "nbformat": 4,
 "nbformat_minor": 5
}
