{
 "cells": [
  {
   "cell_type": "code",
   "execution_count": 1,
   "id": "32e00b32",
   "metadata": {},
   "outputs": [],
   "source": [
    "import datetime, time\n",
    "import requests, pytz, json\n",
    "\n",
    "import pandas as pd"
   ]
  },
  {
   "cell_type": "code",
   "execution_count": 2,
   "id": "8aa1c6f2",
   "metadata": {},
   "outputs": [
    {
     "data": {
      "text/plain": [
       "'20220704'"
      ]
     },
     "execution_count": 2,
     "metadata": {},
     "output_type": "execute_result"
    }
   ],
   "source": [
    "today = datetime.date.today()\n",
    "today = today.strftime('%Y%m%d')\n",
    "today"
   ]
  },
  {
   "cell_type": "code",
   "execution_count": null,
   "id": "affiliated-married",
   "metadata": {},
   "outputs": [],
   "source": []
  },
  {
   "cell_type": "code",
   "execution_count": 3,
   "id": "nervous-steel",
   "metadata": {},
   "outputs": [],
   "source": [
    "BASE_URL = \"https://production.dataviz.cnn.io/index/fearandgreed/graphdata\"\n",
    "START_DATE = '2022-06-01'"
   ]
  },
  {
   "cell_type": "code",
   "execution_count": 4,
   "id": "historical-pastor",
   "metadata": {},
   "outputs": [],
   "source": [
    "headers = {'User-Agent': 'Mozilla/5.0 (Macintosh; Intel Mac OS X 10_11_5) \\\n",
    "           AppleWebKit/537.36 (KHTML, like Gecko) Chrome/50.0.2661.102 Safari/537.36'}"
   ]
  },
  {
   "cell_type": "code",
   "execution_count": 5,
   "id": "practical-munich",
   "metadata": {},
   "outputs": [],
   "source": [
    "# url = \"https://production.dataviz.cnn.io/index/fearandgreed/graphdata/2022-01-01\"\n",
    "# r = requests.get(url, headers=headers)"
   ]
  },
  {
   "cell_type": "code",
   "execution_count": 6,
   "id": "governmental-undergraduate",
   "metadata": {},
   "outputs": [],
   "source": [
    "r = requests.get(\"{}/{}\".format(BASE_URL, START_DATE), headers=headers)"
   ]
  },
  {
   "cell_type": "code",
   "execution_count": 7,
   "id": "developmental-folks",
   "metadata": {},
   "outputs": [],
   "source": [
    "data = r.json()"
   ]
  },
  {
   "cell_type": "code",
   "execution_count": 8,
   "id": "mature-louis",
   "metadata": {},
   "outputs": [],
   "source": [
    "fg_data = data['fear_and_greed_historical']['data']"
   ]
  },
  {
   "cell_type": "code",
   "execution_count": 9,
   "id": "fd4c97e9",
   "metadata": {},
   "outputs": [
    {
     "data": {
      "text/html": [
       "<div>\n",
       "<style scoped>\n",
       "    .dataframe tbody tr th:only-of-type {\n",
       "        vertical-align: middle;\n",
       "    }\n",
       "\n",
       "    .dataframe tbody tr th {\n",
       "        vertical-align: top;\n",
       "    }\n",
       "\n",
       "    .dataframe thead th {\n",
       "        text-align: right;\n",
       "    }\n",
       "</style>\n",
       "<table border=\"1\" class=\"dataframe\">\n",
       "  <thead>\n",
       "    <tr style=\"text-align: right;\">\n",
       "      <th></th>\n",
       "      <th>date</th>\n",
       "      <th>f_g_index</th>\n",
       "      <th>rating</th>\n",
       "    </tr>\n",
       "  </thead>\n",
       "  <tbody>\n",
       "    <tr>\n",
       "      <th>0</th>\n",
       "      <td>1.654042e+12</td>\n",
       "      <td>25.159380</td>\n",
       "      <td>fear</td>\n",
       "    </tr>\n",
       "    <tr>\n",
       "      <th>1</th>\n",
       "      <td>1.654128e+12</td>\n",
       "      <td>28.334710</td>\n",
       "      <td>fear</td>\n",
       "    </tr>\n",
       "    <tr>\n",
       "      <th>2</th>\n",
       "      <td>1.654214e+12</td>\n",
       "      <td>27.394378</td>\n",
       "      <td>fear</td>\n",
       "    </tr>\n",
       "    <tr>\n",
       "      <th>3</th>\n",
       "      <td>1.654301e+12</td>\n",
       "      <td>27.394378</td>\n",
       "      <td>fear</td>\n",
       "    </tr>\n",
       "    <tr>\n",
       "      <th>4</th>\n",
       "      <td>1.654474e+12</td>\n",
       "      <td>29.827080</td>\n",
       "      <td>fear</td>\n",
       "    </tr>\n",
       "  </tbody>\n",
       "</table>\n",
       "</div>"
      ],
      "text/plain": [
       "           date  f_g_index rating\n",
       "0  1.654042e+12  25.159380   fear\n",
       "1  1.654128e+12  28.334710   fear\n",
       "2  1.654214e+12  27.394378   fear\n",
       "3  1.654301e+12  27.394378   fear\n",
       "4  1.654474e+12  29.827080   fear"
      ]
     },
     "execution_count": 9,
     "metadata": {},
     "output_type": "execute_result"
    }
   ],
   "source": [
    "df = pd.DataFrame(fg_data)\n",
    "df.columns = ['date', 'f_g_index', 'rating']\n",
    "df.head()"
   ]
  },
  {
   "cell_type": "code",
   "execution_count": 13,
   "id": "b4c816b2",
   "metadata": {},
   "outputs": [],
   "source": [
    "def transform_timezone(x):\n",
    "    dt = datetime.datetime.fromtimestamp(x / 1000, tz=pytz.utc)\n",
    "    eastern = pytz.timezone('US/Eastern')\n",
    "    # eastern = pytz.timezone('Asia/Seoul')\n",
    "    loc_dt = dt.astimezone(eastern)\n",
    "    return loc_dt.date()"
   ]
  },
  {
   "cell_type": "code",
   "execution_count": 14,
   "id": "be212f91",
   "metadata": {},
   "outputs": [],
   "source": [
    "df['date'] = df['date'].apply(lambda x: transform_timezone(x))"
   ]
  },
  {
   "cell_type": "code",
   "execution_count": null,
   "id": "4f979dc3",
   "metadata": {},
   "outputs": [],
   "source": [
    "df['f_g_index'] = df['f_g_index'].astype('int')"
   ]
  },
  {
   "cell_type": "code",
   "execution_count": null,
   "id": "6cbc1d9f",
   "metadata": {
    "scrolled": false
   },
   "outputs": [],
   "source": [
    "df.head()"
   ]
  },
  {
   "cell_type": "code",
   "execution_count": null,
   "id": "white-frequency",
   "metadata": {},
   "outputs": [],
   "source": [
    "fear_greed_values = {}\n",
    "\n",
    "FEAR_GREED_CSV_FILENAME = 'data/fgtest.csv'"
   ]
  },
  {
   "cell_type": "code",
   "execution_count": null,
   "id": "political-deposit",
   "metadata": {},
   "outputs": [],
   "source": [
    "with open(FEAR_GREED_CSV_FILENAME, 'w', newline='') as csvfile:\n",
    "    writer = csv.writer(csvfile)\n",
    "    writer.writerow(['Date','','','','Fear Greed'])\n",
    "\n",
    "    for data in fg_data:\n",
    "        dt = datetime.fromtimestamp(data['x'] / 1000, tz=pytz.utc)\n",
    "        fear_greed_values[dt.date()] = int(data['y'])\n",
    "        writer.writerow([dt.date(), \"\", \"\", \"\", int(data['y'])])"
   ]
  },
  {
   "cell_type": "code",
   "execution_count": null,
   "id": "a1fc415c",
   "metadata": {},
   "outputs": [],
   "source": [
    "fg_data[:3]"
   ]
  },
  {
   "cell_type": "code",
   "execution_count": null,
   "id": "e92d2519",
   "metadata": {},
   "outputs": [],
   "source": [
    "data"
   ]
  },
  {
   "cell_type": "code",
   "execution_count": null,
   "id": "96dcb754",
   "metadata": {},
   "outputs": [],
   "source": [
    "dt = datetime.fromtimestamp(1654041600000.0 / 1000, tz=pytz.utc)"
   ]
  },
  {
   "cell_type": "code",
   "execution_count": null,
   "id": "0a160f73",
   "metadata": {},
   "outputs": [],
   "source": [
    "dt"
   ]
  },
  {
   "cell_type": "code",
   "execution_count": null,
   "id": "2cf7c064",
   "metadata": {},
   "outputs": [],
   "source": [
    "eastern = pytz.timezone('US/Eastern')\n",
    "# eastern = pytz.timezone('Asia/Seoul')\n",
    "loc_dt = dt.astimezone(eastern)\n",
    "loc_dt"
   ]
  },
  {
   "cell_type": "code",
   "execution_count": null,
   "id": "21ae04d5",
   "metadata": {},
   "outputs": [],
   "source": [
    "loc_dt.date()"
   ]
  },
  {
   "cell_type": "code",
   "execution_count": null,
   "id": "0e8f1d14",
   "metadata": {},
   "outputs": [],
   "source": [
    "import datetime\n",
    "today = datetime.date.today()"
   ]
  },
  {
   "cell_type": "code",
   "execution_count": null,
   "id": "2f689400",
   "metadata": {},
   "outputs": [],
   "source": [
    "today"
   ]
  },
  {
   "cell_type": "code",
   "execution_count": null,
   "id": "996de1d8",
   "metadata": {},
   "outputs": [],
   "source": []
  }
 ],
 "metadata": {
  "kernelspec": {
   "display_name": "Python 3",
   "language": "python",
   "name": "python3"
  },
  "language_info": {
   "codemirror_mode": {
    "name": "ipython",
    "version": 3
   },
   "file_extension": ".py",
   "mimetype": "text/x-python",
   "name": "python",
   "nbconvert_exporter": "python",
   "pygments_lexer": "ipython3",
   "version": "3.9.1"
  }
 },
 "nbformat": 4,
 "nbformat_minor": 5
}
