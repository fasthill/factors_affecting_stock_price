{
 "cells": [
  {
   "cell_type": "code",
   "execution_count": 2,
   "id": "32e00b32",
   "metadata": {},
   "outputs": [],
   "source": [
    "import re"
   ]
  },
  {
   "cell_type": "code",
   "execution_count": 1,
   "id": "3a49007d",
   "metadata": {},
   "outputs": [],
   "source": [
    "samp = '005830_hyunmotor_investor_20220624.csv'"
   ]
  },
  {
   "cell_type": "code",
   "execution_count": 18,
   "id": "c15095b7",
   "metadata": {},
   "outputs": [
    {
     "data": {
      "text/plain": [
       "'20220624'"
      ]
     },
     "execution_count": 18,
     "metadata": {},
     "output_type": "execute_result"
    }
   ],
   "source": [
    "re.search(r'(\\d{6})(.*?)(2\\d{7})', samp).group(3)"
   ]
  },
  {
   "cell_type": "code",
   "execution_count": 19,
   "id": "e0a35a32",
   "metadata": {},
   "outputs": [],
   "source": [
    "company_code = {'sec': '005930', 'hyunmotor': '005830', 'naver': '035420', 'ktng': '033780'}"
   ]
  },
  {
   "cell_type": "code",
   "execution_count": 22,
   "id": "6c24d05d",
   "metadata": {},
   "outputs": [
    {
     "name": "stdout",
     "output_type": "stream",
     "text": [
      "0\n",
      "0\n",
      "1\n",
      "1\n",
      "2\n",
      "2\n",
      "4\n",
      "4\n",
      "5\n",
      "5\n",
      "6\n",
      "6\n",
      "7\n",
      "7\n",
      "8\n",
      "8\n",
      "9\n",
      "9\n"
     ]
    }
   ],
   "source": [
    "for i in range(10):\n",
    "    if i == 3:continue\n",
    "    \n",
    "    else :\n",
    "        print(i)\n",
    "    \n",
    "    print(i)"
   ]
  },
  {
   "cell_type": "code",
   "execution_count": 23,
   "id": "20c7de3f",
   "metadata": {},
   "outputs": [],
   "source": [
    "file = '005830_hyunmotor_investor_20220621.csv'\n",
    "date = file[-12:-4]"
   ]
  },
  {
   "cell_type": "code",
   "execution_count": 24,
   "id": "993141aa",
   "metadata": {},
   "outputs": [
    {
     "data": {
      "text/plain": [
       "'20220621'"
      ]
     },
     "execution_count": 24,
     "metadata": {},
     "output_type": "execute_result"
    }
   ],
   "source": [
    "date"
   ]
  },
  {
   "cell_type": "code",
   "execution_count": null,
   "id": "8aa1c6f2",
   "metadata": {},
   "outputs": [],
   "source": []
  }
 ],
 "metadata": {
  "kernelspec": {
   "display_name": "Python 3",
   "language": "python",
   "name": "python3"
  },
  "language_info": {
   "codemirror_mode": {
    "name": "ipython",
    "version": 3
   },
   "file_extension": ".py",
   "mimetype": "text/x-python",
   "name": "python",
   "nbconvert_exporter": "python",
   "pygments_lexer": "ipython3",
   "version": "3.9.1"
  }
 },
 "nbformat": 4,
 "nbformat_minor": 5
}
