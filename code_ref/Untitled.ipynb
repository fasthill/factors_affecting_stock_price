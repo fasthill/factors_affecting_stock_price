{
 "cells": [
  {
   "cell_type": "code",
   "execution_count": 1,
   "id": "fe885e6f",
   "metadata": {},
   "outputs": [],
   "source": [
    "from bs4 import BeautifulSoup as bs\n",
    "import requests"
   ]
  },
  {
   "cell_type": "code",
   "execution_count": null,
   "id": "e124874a",
   "metadata": {},
   "outputs": [],
   "source": [
    "url = 'https://jsonplaceholder.typicode.com/users/1'\n",
    "url1 = 'https://httpbin.org/get'\n",
    "url2 = 'https://httpbin.org/post'"
   ]
  },
  {
   "cell_type": "code",
   "execution_count": null,
   "id": "92a4445a",
   "metadata": {},
   "outputs": [],
   "source": [
    "res = requests.get(url)\n",
    "res.status_code"
   ]
  },
  {
   "cell_type": "code",
   "execution_count": null,
   "id": "080cd4d7",
   "metadata": {},
   "outputs": [],
   "source": [
    "soup = bs(res.content,\"html.parser\")"
   ]
  },
  {
   "cell_type": "code",
   "execution_count": null,
   "id": "82c809e3",
   "metadata": {},
   "outputs": [],
   "source": []
  },
  {
   "cell_type": "code",
   "execution_count": null,
   "id": "460dfec5",
   "metadata": {},
   "outputs": [],
   "source": [
    "url = 'https://jsonplaceholder.typicode.com/users'\n",
    "res = requests.post(url)\n",
    "res.status_code"
   ]
  },
  {
   "cell_type": "code",
   "execution_count": null,
   "id": "e45a0365",
   "metadata": {},
   "outputs": [],
   "source": [
    "res.headers"
   ]
  },
  {
   "cell_type": "code",
   "execution_count": null,
   "id": "b9f794d4",
   "metadata": {},
   "outputs": [],
   "source": [
    "res.headers['Content-Type']"
   ]
  },
  {
   "cell_type": "code",
   "execution_count": null,
   "id": "23487817",
   "metadata": {},
   "outputs": [],
   "source": [
    "# https://jsonplaceholder.typicode.com/posts?userId=1\n",
    "response = requests.get('https://jsonplaceholder.typicode.com/posts', params = {'userId': \"1\"})\n",
    "response.json()"
   ]
  },
  {
   "cell_type": "code",
   "execution_count": null,
   "id": "abe1c819",
   "metadata": {},
   "outputs": [],
   "source": [
    "[post['id'] for post in response.json()]"
   ]
  },
  {
   "cell_type": "code",
   "execution_count": null,
   "id": "8c35208d",
   "metadata": {},
   "outputs": [],
   "source": [
    "res = requests.get(url1)"
   ]
  },
  {
   "cell_type": "code",
   "execution_count": null,
   "id": "64158898",
   "metadata": {},
   "outputs": [],
   "source": [
    "res.json()"
   ]
  },
  {
   "cell_type": "code",
   "execution_count": null,
   "id": "a39f6798",
   "metadata": {},
   "outputs": [],
   "source": [
    "res = requests.get(url1, params = {'name': 'james'})\n",
    "res.json()"
   ]
  },
  {
   "cell_type": "code",
   "execution_count": null,
   "id": "40bcadbf",
   "metadata": {},
   "outputs": [],
   "source": [
    "data = {'name': 'james', 'age':'23'}\n",
    "res  = requests.post(url2, json=data)\n",
    "res.json()"
   ]
  },
  {
   "cell_type": "code",
   "execution_count": null,
   "id": "d397d5e9",
   "metadata": {},
   "outputs": [],
   "source": [
    "data = {'name': 'james', 'userId':'6'}\n",
    "res  = requests.post(url, data=data)\n",
    "res.text"
   ]
  },
  {
   "cell_type": "markdown",
   "id": "0acba221",
   "metadata": {},
   "source": [
    "#### get 방식은 params로 받아야 하지만, post 방식은 data로 받아야 함."
   ]
  },
  {
   "cell_type": "code",
   "execution_count": null,
   "id": "23b5d3e6",
   "metadata": {},
   "outputs": [],
   "source": []
  },
  {
   "cell_type": "markdown",
   "id": "cbb7c90f",
   "metadata": {},
   "source": [
    "## 요청전문"
   ]
  },
  {
   "cell_type": "code",
   "execution_count": null,
   "id": "d247ddd3",
   "metadata": {},
   "outputs": [],
   "source": [
    "response = requests.post('https://jsonplaceholder.typicode.com/users', data = {'name': \"Test user\"})\n",
    "response.status_code"
   ]
  },
  {
   "cell_type": "code",
   "execution_count": null,
   "id": "0dc5eb38",
   "metadata": {},
   "outputs": [],
   "source": [
    "response = requests.post('https://jsonplaceholder.typicode.com/users', json = {'name': \"Test user\"})\n",
    "response.status_code"
   ]
  },
  {
   "cell_type": "markdown",
   "id": "3f9eaed1",
   "metadata": {},
   "source": [
    "## 요청 헤더"
   ]
  },
  {
   "cell_type": "code",
   "execution_count": null,
   "id": "96c633c9",
   "metadata": {},
   "outputs": [],
   "source": [
    "requests.post('https://jsonplaceholder.typicode.com/users', headers = {'Authorization': \"Bearer 12345\"})"
   ]
  },
  {
   "cell_type": "code",
   "execution_count": null,
   "id": "dae5f7d9",
   "metadata": {},
   "outputs": [],
   "source": []
  },
  {
   "cell_type": "code",
   "execution_count": null,
   "id": "5cc06318",
   "metadata": {},
   "outputs": [],
   "source": []
  },
  {
   "cell_type": "code",
   "execution_count": null,
   "id": "71f28bfa",
   "metadata": {},
   "outputs": [],
   "source": [
    "soup"
   ]
  },
  {
   "cell_type": "code",
   "execution_count": null,
   "id": "13ca53ba",
   "metadata": {},
   "outputs": [],
   "source": [
    "res = requests.get(url)\n",
    "\n",
    "soup = bs(res.content,\"html.parser\")"
   ]
  },
  {
   "cell_type": "code",
   "execution_count": null,
   "id": "125ff336",
   "metadata": {},
   "outputs": [],
   "source": [
    "url = 'https://www.w3schools.com/html/html_examples.asp'"
   ]
  },
  {
   "cell_type": "code",
   "execution_count": null,
   "id": "5357540c",
   "metadata": {},
   "outputs": [],
   "source": [
    "data = {'id':'main'}\n",
    "res = requests.post(url, data=data)\n",
    "\n",
    "soup = bs(res.content,\"html.parser\")"
   ]
  },
  {
   "cell_type": "code",
   "execution_count": null,
   "id": "90b8c617",
   "metadata": {},
   "outputs": [],
   "source": [
    "soup"
   ]
  },
  {
   "cell_type": "code",
   "execution_count": null,
   "id": "9585337c",
   "metadata": {},
   "outputs": [],
   "source": [
    "page"
   ]
  },
  {
   "cell_type": "code",
   "execution_count": null,
   "id": "b24d5c98",
   "metadata": {},
   "outputs": [],
   "source": [
    "from bs4 import BeautifulSoup as bs\n",
    "import datetime, time\n",
    "from datetime import date\n",
    "\n",
    "import pandas as pd\n",
    "import numpy as np"
   ]
  },
  {
   "cell_type": "code",
   "execution_count": null,
   "id": "f0eccb4d",
   "metadata": {},
   "outputs": [],
   "source": [
    "url = 'http://data.krx.co.kr/contents/MDC/MDI/mdiLoader/index.cmd?menuId=MDC0201020203'"
   ]
  },
  {
   "cell_type": "code",
   "execution_count": null,
   "id": "controlling-wheat",
   "metadata": {},
   "outputs": [],
   "source": [
    "df = pd.DataFrame({'A': [1, 2, 3],\n",
    "                   'B': [400, 500, 600]})"
   ]
  },
  {
   "cell_type": "code",
   "execution_count": null,
   "id": "initial-possession",
   "metadata": {},
   "outputs": [],
   "source": [
    "new_df = pd.DataFrame({'B': [4, 5, 6],\n",
    "                       'C': [7, 8, 9],\n",
    "                       'A': [10,11,12]})"
   ]
  },
  {
   "cell_type": "code",
   "execution_count": null,
   "id": "boxed-caution",
   "metadata": {},
   "outputs": [],
   "source": [
    "df1 = pd.DataFrame({'A': ['a', np.nan, 'c'],\n",
    "                   'B': ['x', 'y', 'z']})"
   ]
  },
  {
   "cell_type": "code",
   "execution_count": null,
   "id": "meaning-effect",
   "metadata": {},
   "outputs": [],
   "source": [
    "df2 = pd.DataFrame({'A': [11, \"\", 12]})"
   ]
  },
  {
   "cell_type": "code",
   "execution_count": null,
   "id": "classified-thong",
   "metadata": {},
   "outputs": [],
   "source": [
    "df1.update(df1)\n",
    "df1"
   ]
  },
  {
   "cell_type": "code",
   "execution_count": null,
   "id": "adaptive-notion",
   "metadata": {},
   "outputs": [],
   "source": [
    "new_df1 = pd.DataFrame({'B': ['d', 'e', 'f', 'g', 'h', 'i']})"
   ]
  },
  {
   "cell_type": "code",
   "execution_count": null,
   "id": "incoming-billy",
   "metadata": {},
   "outputs": [],
   "source": [
    "new_column1 = pd.Series(['d', 'e'], name='B', index=[0, 2])"
   ]
  },
  {
   "cell_type": "code",
   "execution_count": null,
   "id": "subsequent-argentina",
   "metadata": {},
   "outputs": [],
   "source": [
    "new_df2 = pd.DataFrame({'B': [4, np.nan, 6]})"
   ]
  },
  {
   "cell_type": "code",
   "execution_count": null,
   "id": "literary-horizontal",
   "metadata": {},
   "outputs": [],
   "source": [
    "new_df3 = pd.DataFrame({'B': [11, \"\", 12]})"
   ]
  },
  {
   "cell_type": "code",
   "execution_count": null,
   "id": "worst-guess",
   "metadata": {},
   "outputs": [],
   "source": [
    "new_df3"
   ]
  },
  {
   "cell_type": "code",
   "execution_count": null,
   "id": "royal-bradford",
   "metadata": {},
   "outputs": [],
   "source": [
    "df1.update(new_df2)"
   ]
  },
  {
   "cell_type": "code",
   "execution_count": null,
   "id": "tough-drama",
   "metadata": {},
   "outputs": [],
   "source": [
    "df1.head()"
   ]
  },
  {
   "cell_type": "code",
   "execution_count": null,
   "id": "marine-climate",
   "metadata": {},
   "outputs": [],
   "source": [
    "df.head()"
   ]
  },
  {
   "cell_type": "code",
   "execution_count": null,
   "id": "altered-seller",
   "metadata": {},
   "outputs": [],
   "source": [
    "df1.head()"
   ]
  },
  {
   "cell_type": "code",
   "execution_count": null,
   "id": "heated-tablet",
   "metadata": {},
   "outputs": [],
   "source": [
    "import requests\n",
    "import pandas as pd\n",
    "\n",
    "\n",
    "BASE_URL = \"https://production.dataviz.cnn.io/index/fearandgreed/graphdata\"\n",
    "START_DATE = '2021-01-01'\n",
    "\n",
    "def fear_greed_data(url: str,start_date: str) -> pd.DataFrame :\n",
    "    \"\"\"\n",
    "    This is very informational\n",
    "    Takes in url and start date, write something something\n",
    "    \"\"\"\n",
    "    _r = requests.get(\"{}/{}\".format(url, start_date))\n",
    "    _data = r.json()\n",
    "\n",
    "    _fear_greed_index = pd.DataFrame(data['fear_and_greed_historical']['data'])\n",
    "    _fear_greed_index['x'] = pd.to_datetime(_fear_greed_index['x']//1000, unit='s').dt.strftime('%Y-%m-%d')\n",
    "    _fear_greed_index = _fear_greed_index.rename(columns={'x':'date','y':'fear_metric'})\n",
    "\n",
    "    _fear_greed_index.index = _fear_greed_index['date']\n",
    "\n",
    "    return _fear_greed_index"
   ]
  },
  {
   "cell_type": "code",
   "execution_count": null,
   "id": "e9ce0f65",
   "metadata": {},
   "outputs": [],
   "source": [
    "headers = {'User-Agent': 'Mozilla/5.0 (Macintosh; Intel Mac OS X 10_11_5) \\\n",
    "           AppleWebKit/537.36 (KHTML, like Gecko) Chrome/50.0.2661.102 Safari/537.36'}"
   ]
  },
  {
   "cell_type": "code",
   "execution_count": null,
   "id": "949c5f31",
   "metadata": {},
   "outputs": [],
   "source": [
    "a = fear_greed_data(BASE_URL, START_DATE)"
   ]
  },
  {
   "cell_type": "code",
   "execution_count": null,
   "id": "7924418a",
   "metadata": {},
   "outputs": [],
   "source": [
    "\"{}/{}\".format(BASE_URL, START_DATE)"
   ]
  },
  {
   "cell_type": "code",
   "execution_count": null,
   "id": "4620c4b3",
   "metadata": {},
   "outputs": [],
   "source": [
    "r = requests.get(\"{}/{}\".format(BASE_URL, START_DATE), headers=headers)"
   ]
  },
  {
   "cell_type": "code",
   "execution_count": null,
   "id": "75cf583b",
   "metadata": {},
   "outputs": [],
   "source": [
    "r"
   ]
  },
  {
   "cell_type": "code",
   "execution_count": null,
   "id": "a39326b2",
   "metadata": {},
   "outputs": [],
   "source": [
    "from selenium import webdriver as wd\n",
    "from bs4 import BeautifulSoup as bs\n",
    "\n",
    "from selenium.webdriver.chrome.options import Options\n",
    "from selenium.webdriver.common.keys import Keys\n",
    "from selenium.webdriver.common.by import By\n",
    "import datetime, time\n",
    "\n",
    "import chromedriver_autoinstaller\n",
    "\n",
    "import pandas as pd\n",
    "import numpy as np\n",
    "\n",
    "import subprocess\n",
    "import shutil\n",
    "import pyperclip\n",
    "\n",
    "import requests\n",
    "import os, sys"
   ]
  },
  {
   "cell_type": "code",
   "execution_count": null,
   "id": "72ebbeab",
   "metadata": {},
   "outputs": [],
   "source": [
    "from selenium.webdriver.common.by import By\n",
    "from selenium.webdriver.support.ui import WebDriverWait\n",
    "from selenium.webdriver.support import expected_conditions as EC"
   ]
  },
  {
   "cell_type": "code",
   "execution_count": null,
   "id": "ec15a172",
   "metadata": {},
   "outputs": [],
   "source": [
    "try:\n",
    "    subprocess.Popen(r'C:\\Program Files\\Google\\Chrome\\Application\\chrome.exe --remote-debugging-port=9222 --user-data-dir=\"C:\\chrometemp1\"')  # 디버거 크롬 구동\n",
    "except:\n",
    "    subprocess.Popen(r'C:\\Program Files (x86)\\Google\\Chrome\\Application\\chrome.exe --remote-debugging-port=9222 --user-data-dir=\"C:\\chrometemp1\"')  # 디버거 크롬 구동\n",
    "# 위 두개의 위치중 한 곳에 chrome이 설치되어 있음."
   ]
  },
  {
   "cell_type": "code",
   "execution_count": null,
   "id": "4c2baafd",
   "metadata": {},
   "outputs": [],
   "source": [
    "option = Options()\n",
    "option.add_experimental_option(\"debuggerAddress\", \"127.0.0.1:9222\") # 포트 설정. 그냥 복붙하면 됨."
   ]
  },
  {
   "cell_type": "code",
   "execution_count": null,
   "id": "76d92555",
   "metadata": {},
   "outputs": [],
   "source": [
    "chrome_ver = chromedriver_autoinstaller.get_chrome_version().split('.')[0]\n",
    "try:\n",
    "    driver = wd.Chrome(f'./{chrome_ver}/chromedriver.exe', options=option)\n",
    "except:\n",
    "    chromedriver_autoinstaller.install(True)\n",
    "    driver = wd.Chrome(f'./{chrome_ver}/chromedriver.exe', options=option)\n",
    "driver.implicitly_wait(20)"
   ]
  },
  {
   "cell_type": "code",
   "execution_count": null,
   "id": "40a90c17",
   "metadata": {},
   "outputs": [],
   "source": [
    "from selenium import webdriver\n",
    "from time import sleep"
   ]
  },
  {
   "cell_type": "code",
   "execution_count": null,
   "id": "8a774420",
   "metadata": {},
   "outputs": [],
   "source": []
  },
  {
   "cell_type": "code",
   "execution_count": null,
   "id": "29e69d53",
   "metadata": {},
   "outputs": [],
   "source": [
    "# driver.set_window_position(-10000,0) # hide windows\n",
    "main_url = 'https://kr.investing.com/'\n",
    "main_url = \"https://satellitenewsnetwork.com/\"\n",
    "main_url = \"https://vip.mk.co.kr/newSt/price/trade.php?stCode=005930\"\n",
    "driver.get(main_url)\n",
    "time.sleep(1)"
   ]
  },
  {
   "cell_type": "code",
   "execution_count": null,
   "id": "marked-breath",
   "metadata": {},
   "outputs": [],
   "source": [
    "element = driver.find_element_by_tag_name('iframe')\n",
    "element"
   ]
  },
  {
   "cell_type": "code",
   "execution_count": null,
   "id": "opening-drinking",
   "metadata": {},
   "outputs": [],
   "source": [
    "#프레임 이동\n",
    "driver.switch_to.frame(element)"
   ]
  },
  {
   "cell_type": "code",
   "execution_count": null,
   "id": "institutional-victoria",
   "metadata": {},
   "outputs": [],
   "source": [
    "driver.get_cookies()"
   ]
  },
  {
   "cell_type": "code",
   "execution_count": null,
   "id": "surrounded-retail",
   "metadata": {},
   "outputs": [],
   "source": [
    "driver.get_cookies()"
   ]
  },
  {
   "cell_type": "code",
   "execution_count": null,
   "id": "light-teach",
   "metadata": {},
   "outputs": [],
   "source": [
    "https://pythondocs.net/selenium/%EC%85%80%EB%A0%88%EB%8B%88%EC%9B%80-%ED%81%AC%EB%A1%A4%EB%9F%AC-%EA%B8%B0%EB%B3%B8-%EC%82%AC%EC%9A%A9%EB%B2%95/#%ED%83%AD_%EC%9D%B4%EB%8F%99"
   ]
  },
  {
   "cell_type": "code",
   "execution_count": null,
   "id": "present-output",
   "metadata": {},
   "outputs": [],
   "source": []
  },
  {
   "cell_type": "code",
   "execution_count": null,
   "id": "biblical-partition",
   "metadata": {},
   "outputs": [],
   "source": []
  },
  {
   "cell_type": "code",
   "execution_count": null,
   "id": "dependent-stylus",
   "metadata": {},
   "outputs": [],
   "source": [
    "#프레임에서 빠져나오기\n",
    "driver.switch_to.default_content()"
   ]
  },
  {
   "cell_type": "code",
   "execution_count": null,
   "id": "funded-mainstream",
   "metadata": {},
   "outputs": [],
   "source": [
    "driver.window_handles"
   ]
  },
  {
   "cell_type": "code",
   "execution_count": null,
   "id": "cb9ad4c9",
   "metadata": {},
   "outputs": [],
   "source": [
    "main_win = driver.window_handles[0]"
   ]
  },
  {
   "cell_type": "code",
   "execution_count": null,
   "id": "4c50af79",
   "metadata": {},
   "outputs": [],
   "source": [
    "driver.switch_to.window(main_win)"
   ]
  },
  {
   "cell_type": "code",
   "execution_count": null,
   "id": "32d1d726",
   "metadata": {},
   "outputs": [],
   "source": [
    "driver.switch_to.frame('port_2004') #(2) 특정 프레임으로 전환"
   ]
  },
  {
   "cell_type": "code",
   "execution_count": null,
   "id": "25d1a9e3",
   "metadata": {},
   "outputs": [],
   "source": [
    "sel = 'body > table:nth-child(4) > tbody > tr > td > p:nth-child(6) > table > tbody > tr:nth-child(1) > td:nth-child(2) > font'"
   ]
  },
  {
   "cell_type": "code",
   "execution_count": null,
   "id": "4d2f727c",
   "metadata": {},
   "outputs": [],
   "source": [
    "driver.find_element_by_css_selector(sel).text"
   ]
  },
  {
   "cell_type": "code",
   "execution_count": null,
   "id": "df8c8947",
   "metadata": {},
   "outputs": [],
   "source": [
    "soup = bs(driver.page_source, 'html.parser')"
   ]
  },
  {
   "cell_type": "code",
   "execution_count": null,
   "id": "57423ffb",
   "metadata": {},
   "outputs": [],
   "source": [
    "try: \n",
    "    alert_obj = driver.switch_to.alert\n",
    "except:\n",
    "    print(\"No Alert windows\")\n",
    "    pass\n",
    "\n",
    "# alert_obj.accept() – used to accept the Alert\n",
    "# alert_obj.dismiss() – used to cancel the Alert\n",
    "# alert.send_keys() – used to enter a value in the Alert text box.\n",
    "# alert.text() – used to retrieve the message included in the Alert pop-up."
   ]
  },
  {
   "cell_type": "code",
   "execution_count": null,
   "id": "agreed-roulette",
   "metadata": {},
   "outputs": [],
   "source": [
    "try: # pop up 창이 뜨는 것을 확인\n",
    "    element = driver.find_element_by_id('PromoteSignUpPopUp')\n",
    "    driver.find_element_by_css_selector('#PromoteSignUpPopUp > div.right > i').send_keys(Keys.ENTER)\n",
    "    time.sleep(1)\n",
    "    \n",
    "except:\n",
    "    pass"
   ]
  },
  {
   "cell_type": "code",
   "execution_count": null,
   "id": "49e9ae39",
   "metadata": {},
   "outputs": [],
   "source": [
    "try: # 이미 로그인이 되어 있으면 skip\n",
    "    driver.find_element_by_css_selector('#userAccount > div > a.login.bold').click() \n",
    "    time.sleep(1)\n",
    "    \n",
    "    id = 'kangeun@naver.com'\n",
    "    pyperclip.copy(id) # control+c 기능 수행\n",
    "    driver.find_element_by_id('loginFormUser_email').clear()\n",
    "    driver.find_element_by_id('loginFormUser_email').send_keys(Keys.CONTROL + 'v')\n",
    "    time.sleep(1)\n",
    "    \n",
    "    pw = os.environ['investing_pass']\n",
    "    pyperclip.copy(pw) # control+c 기능 수행\n",
    "    driver.find_element_by_id('loginForm_password').clear()\n",
    "    driver.find_element_by_id('loginForm_password').send_keys(Keys.CONTROL + 'v')\n",
    "    time.sleep(1)  \n",
    "    \n",
    "    driver.find_element_by_css_selector('#signup > a.newButton.orange').click()  \n",
    "    time.sleep(2)\n",
    "    \n",
    "except:\n",
    "    pass"
   ]
  },
  {
   "cell_type": "code",
   "execution_count": null,
   "id": "7c2afd35",
   "metadata": {},
   "outputs": [],
   "source": [
    " WebDriverWait(driver, 5).until(lambda d: len(d.window_handles) == 2)"
   ]
  },
  {
   "cell_type": "code",
   "execution_count": null,
   "id": "d5dab736",
   "metadata": {},
   "outputs": [],
   "source": [
    "driver.window_handles[1]"
   ]
  },
  {
   "cell_type": "code",
   "execution_count": null,
   "id": "b0474377",
   "metadata": {},
   "outputs": [],
   "source": [
    "driver.switch_to.window(driver.window_handles[1]).close()"
   ]
  },
  {
   "cell_type": "code",
   "execution_count": null,
   "id": "f58c198c",
   "metadata": {},
   "outputs": [],
   "source": [
    "driver.switch_to.window(driver.window_handles[0])"
   ]
  },
  {
   "cell_type": "code",
   "execution_count": null,
   "id": "1d3e463a",
   "metadata": {},
   "outputs": [],
   "source": [
    "# go to the home page\n",
    "driver.get('https://www.zomato.com')"
   ]
  },
  {
   "cell_type": "code",
   "execution_count": null,
   "id": "e7695888",
   "metadata": {},
   "outputs": [],
   "source": [
    "# storing the current window handle to get back to dashboard\n",
    "main_page = driver.current_window_handle \n",
    "# wait for page to load completely\n",
    "sleep(5)"
   ]
  },
  {
   "cell_type": "code",
   "execution_count": null,
   "id": "91734de0",
   "metadata": {},
   "outputs": [],
   "source": [
    "main_page"
   ]
  },
  {
   "cell_type": "code",
   "execution_count": null,
   "id": "08d5602b",
   "metadata": {},
   "outputs": [],
   "source": [
    "# click on the sign in tab\n",
    "driver.find_element_by_xpath('//*[@id=\"navigation_cl5k372yt001f26nuctwg9twg\"]/li[4]/a').click()\n",
    "sleep(5)"
   ]
  },
  {
   "cell_type": "code",
   "execution_count": null,
   "id": "b8e1af5a",
   "metadata": {},
   "outputs": [],
   "source": [
    "# click to log in using facebook\n",
    "driver.find_element_by_xpath('//*[@id=\"id-81\"]/section[2]/section/div[4]/div/span').click() "
   ]
  },
  {
   "cell_type": "code",
   "execution_count": null,
   "id": "610ed1e9",
   "metadata": {},
   "outputs": [],
   "source": [
    "driver.window_handles"
   ]
  },
  {
   "cell_type": "code",
   "execution_count": null,
   "id": "38d14689",
   "metadata": {},
   "outputs": [],
   "source": []
  },
  {
   "cell_type": "code",
   "execution_count": null,
   "id": "02303171",
   "metadata": {},
   "outputs": [],
   "source": [
    "# changing the handles to access login page\n",
    "for handle in driver.window_handles:\n",
    "    if handle != main_page:\n",
    "        login_page = handle"
   ]
  },
  {
   "cell_type": "code",
   "execution_count": null,
   "id": "c03f1880",
   "metadata": {},
   "outputs": [],
   "source": [
    "login_page"
   ]
  },
  {
   "cell_type": "code",
   "execution_count": null,
   "id": "ac2bcb8b",
   "metadata": {},
   "outputs": [],
   "source": [
    "# change the control to signin page       \n",
    "driver.switch_to.window('CDwindow-861BD41E9739768B8BC07E42EC614499')"
   ]
  },
  {
   "cell_type": "code",
   "execution_count": null,
   "id": "c06c4aa7",
   "metadata": {},
   "outputs": [],
   "source": [
    "# change the control to signin page       \n",
    "driver.switch_to.window(login_page)"
   ]
  },
  {
   "cell_type": "code",
   "execution_count": null,
   "id": "248fb0fc",
   "metadata": {},
   "outputs": [],
   "source": [
    "# user input for email and password\n",
    "print('Enter email id : ', end ='')\n",
    "email = input().strip()\n",
    "print('Enter password : ', end ='')\n",
    "password = input().strip()"
   ]
  },
  {
   "cell_type": "code",
   "execution_count": null,
   "id": "b1b0842c",
   "metadata": {},
   "outputs": [],
   "source": [
    "# enter the email\n",
    "driver.find_element_by_xpath('//*[@id =\"email\"]').send_keys(email)\n",
    " \n",
    "# enter the password\n",
    "driver.find_element_by_xpath('//*[@id =\"pass\"]').send_keys(password)\n",
    " \n",
    "# click the login button\n",
    "driver.find_element_by_xpath('//*[@id =\"u_0_0\"]').click()"
   ]
  },
  {
   "cell_type": "code",
   "execution_count": null,
   "id": "c113cf82",
   "metadata": {},
   "outputs": [],
   "source": [
    "# change control to main page\n",
    "driver.switch_to.window(main_page)\n",
    "sleep(10)"
   ]
  },
  {
   "cell_type": "code",
   "execution_count": null,
   "id": "661857e7",
   "metadata": {},
   "outputs": [],
   "source": [
    "# print user name\n",
    "name = driver.find_element_by_xpath('/html/body/div[4]/div/div[1]/header/div[2]/div/div/div/div/span').text\n",
    "print('Your user name is : {}'.format(name))\n",
    " \n",
    "# closing the window\n",
    "driver.quit()"
   ]
  },
  {
   "cell_type": "code",
   "execution_count": null,
   "id": "938f4947",
   "metadata": {},
   "outputs": [],
   "source": [
    "driver.close()"
   ]
  },
  {
   "cell_type": "code",
   "execution_count": null,
   "id": "e33c195b",
   "metadata": {},
   "outputs": [],
   "source": [
    "driver.quit()"
   ]
  },
  {
   "cell_type": "code",
   "execution_count": null,
   "id": "adopted-mexican",
   "metadata": {},
   "outputs": [],
   "source": [
    "while True:\n",
    "    try:\n",
    "    # driver.set_window_position(-10000,0) # hide windows\n",
    "        main_url = 'https://kr.investing.com/'\n",
    "        main_url = 'https://vip.mk.co.kr/newSt/rate/trade.php'\n",
    "        driver.get(main_url)\n",
    "        time.sleep(1)\n",
    "        break\n",
    "    except:\n",
    "        print(\"Message: unknown error: cannot determine loading status\")\n",
    "        print(\"Try Again\")\n",
    "        time.sleep(3)\n",
    "        pass"
   ]
  },
  {
   "cell_type": "code",
   "execution_count": null,
   "id": "noble-ottawa",
   "metadata": {},
   "outputs": [],
   "source": [
    "win_main = driver.window_handles"
   ]
  },
  {
   "cell_type": "code",
   "execution_count": null,
   "id": "premium-viewer",
   "metadata": {},
   "outputs": [],
   "source": [
    "driver.switch_to.frame('port_2004')"
   ]
  },
  {
   "cell_type": "code",
   "execution_count": null,
   "id": "neutral-bennett",
   "metadata": {},
   "outputs": [],
   "source": [
    "df = pd.read_html(driver.page_source, attrs={\"id\":\"table1\"})[0]"
   ]
  },
  {
   "cell_type": "code",
   "execution_count": null,
   "id": "reflected-radiation",
   "metadata": {},
   "outputs": [],
   "source": [
    "df.head()"
   ]
  },
  {
   "cell_type": "code",
   "execution_count": null,
   "id": "incident-coaching",
   "metadata": {},
   "outputs": [],
   "source": [
    "driver.switch_to.window(win_main)"
   ]
  },
  {
   "cell_type": "code",
   "execution_count": null,
   "id": "excellent-antigua",
   "metadata": {},
   "outputs": [],
   "source": [
    "df = pd.read_html(driver.page_source, attrs={\"id\":\"table1\"})[0]"
   ]
  },
  {
   "cell_type": "code",
   "execution_count": null,
   "id": "judicial-intensity",
   "metadata": {},
   "outputs": [],
   "source": [
    "df.head()"
   ]
  },
  {
   "cell_type": "code",
   "execution_count": null,
   "id": "fitted-female",
   "metadata": {},
   "outputs": [],
   "source": []
  },
  {
   "cell_type": "code",
   "execution_count": null,
   "id": "tracked-thomas",
   "metadata": {},
   "outputs": [],
   "source": [
    "from urllib.request import urlopen\n",
    "import urllib"
   ]
  },
  {
   "cell_type": "code",
   "execution_count": null,
   "id": "amino-price",
   "metadata": {},
   "outputs": [],
   "source": [
    "main_url = \"https://vip.mk.co.kr/newSt/price/trade.php?stCode=005930\""
   ]
  },
  {
   "cell_type": "code",
   "execution_count": null,
   "id": "vulnerable-syndrome",
   "metadata": {},
   "outputs": [],
   "source": [
    "res = urllib.request.Request(main_url)"
   ]
  },
  {
   "cell_type": "code",
   "execution_count": null,
   "id": "extreme-trial",
   "metadata": {},
   "outputs": [],
   "source": [
    "htm = urlopen(res)"
   ]
  },
  {
   "cell_type": "code",
   "execution_count": null,
   "id": "juvenile-toronto",
   "metadata": {},
   "outputs": [],
   "source": [
    "soup = bs(htm, 'html.parser')"
   ]
  },
  {
   "cell_type": "code",
   "execution_count": null,
   "id": "found-replica",
   "metadata": {},
   "outputs": [],
   "source": [
    "soup"
   ]
  },
  {
   "cell_type": "code",
   "execution_count": null,
   "id": "dried-jaguar",
   "metadata": {},
   "outputs": [],
   "source": [
    "r = requests.get(main_url)\n",
    "sop = bs(r.content, 'html.parser')"
   ]
  },
  {
   "cell_type": "code",
   "execution_count": null,
   "id": "peaceful-hampshire",
   "metadata": {},
   "outputs": [],
   "source": [
    "sop"
   ]
  },
  {
   "cell_type": "code",
   "execution_count": null,
   "id": "complicated-marker",
   "metadata": {},
   "outputs": [],
   "source": [
    "soup == sop"
   ]
  },
  {
   "cell_type": "markdown",
   "id": "indirect-story",
   "metadata": {},
   "source": [
    "###### type(soup)"
   ]
  },
  {
   "cell_type": "code",
   "execution_count": null,
   "id": "eastern-violation",
   "metadata": {},
   "outputs": [],
   "source": [
    "type(sop)"
   ]
  },
  {
   "cell_type": "markdown",
   "id": "driving-serve",
   "metadata": {},
   "source": [
    "txt 예제 사이트\n",
    "\n",
    "https://www.ietf.org/rfc/rfc1149.txt\n",
    "https://www.pythonscraping.com/pages/warandpeace/chapter1.txt"
   ]
  },
  {
   "cell_type": "code",
   "execution_count": 2,
   "id": "economic-reach",
   "metadata": {},
   "outputs": [],
   "source": [
    "from urllib.request import urlopen\n",
    "import urllib\n",
    "import requests"
   ]
  },
  {
   "cell_type": "code",
   "execution_count": null,
   "id": "narrative-vietnamese",
   "metadata": {},
   "outputs": [],
   "source": [
    "url = 'https://www.pythonscraping.com/pages/warandpeace/chapter1.txt'\n",
    "text_page = urllib.request.urlopen(url)"
   ]
  },
  {
   "cell_type": "code",
   "execution_count": null,
   "id": "opening-spencer",
   "metadata": {},
   "outputs": [],
   "source": [
    "url = 'https://www.pythonscraping.com/pages/warandpeace/chapter1.txt'\n",
    "res = urllib.request.Request(url)\n",
    "text_page = urlopen(res)\n",
    "\n",
    "print(textPage.read())"
   ]
  },
  {
   "cell_type": "code",
   "execution_count": null,
   "id": "working-zoning",
   "metadata": {},
   "outputs": [],
   "source": [
    "res = requests.get(url)"
   ]
  },
  {
   "cell_type": "code",
   "execution_count": null,
   "id": "intense-contrary",
   "metadata": {},
   "outputs": [],
   "source": [
    "res.text"
   ]
  },
  {
   "cell_type": "code",
   "execution_count": null,
   "id": "literary-carter",
   "metadata": {},
   "outputs": [],
   "source": [
    "text_page = urlopen(url)"
   ]
  },
  {
   "cell_type": "code",
   "execution_count": null,
   "id": "color-nylon",
   "metadata": {},
   "outputs": [],
   "source": [
    "text_page = urlopen('https://www.pythonscraping.com/'\n",
    "                   'pages/warandpeace/chapter1.txt')"
   ]
  },
  {
   "cell_type": "code",
   "execution_count": null,
   "id": "alternative-relaxation",
   "metadata": {},
   "outputs": [],
   "source": [
    "from urllib.request import urlopen\n",
    "\n",
    "html = urlopen('http://pythonscraping.com/pages/page1.html')\n",
    "print(html.read())"
   ]
  },
  {
   "cell_type": "code",
   "execution_count": null,
   "id": "agricultural-davis",
   "metadata": {},
   "outputs": [],
   "source": [
    "!pip install --upgrade certifi"
   ]
  },
  {
   "cell_type": "code",
   "execution_count": 6,
   "id": "provincial-copyright",
   "metadata": {},
   "outputs": [],
   "source": [
    "urlr = 'https://www.pythonscraping.com/pages/warandpeace/chapter1-ru.txt'"
   ]
  },
  {
   "cell_type": "code",
   "execution_count": 7,
   "id": "coupled-casino",
   "metadata": {},
   "outputs": [],
   "source": [
    "res = requests.get(urlr)"
   ]
  },
  {
   "cell_type": "code",
   "execution_count": 10,
   "id": "piano-kitty",
   "metadata": {},
   "outputs": [],
   "source": [
    "soup = bs(res.content, 'html.parser')"
   ]
  },
  {
   "cell_type": "code",
   "execution_count": 11,
   "id": "scenic-macintosh",
   "metadata": {},
   "outputs": [
    {
     "data": {
      "text/plain": [
       "ЧАСТЬ ПЕРВАЯ\n",
       "\n",
       "I\n",
       "\n",
       "— Eh bien, mon prince. Gênes et Lucques ne sont plus que des apanages, des поместья, de la famille Buonaparte. Non, je vous préviens que si vous ne me dites pas que nous avons la guerre, si vous vous permettez encore de pallier toutes les infamies, toutes les atrocités de cet Antichrist (ma parole, j'y crois) — je ne vous connais plus, vous n'êtes plus mon ami, vous n'êtes plus мой верный раб, comme vous dites. Ну, здравствуйте, здравствуйте. Je vois que je vous fais peur, садитесь и рассказывайте.\n",
       "Так говорила в июле 1805 года известная Анна Павловна Шерер, фрейлина и приближенная императрицы Марии Феодоровны, встречая важного и чиновного князя Василия, первого приехавшего на ее вечер. Анна Павловна кашляла несколько дней, у нее был грипп, как она говорила (грипп был тогда новое слово, употреблявшееся только редкими). В записочках, разосланных утром с красным лакеем, было написано без различия во всех:\n",
       "«Si vous n'avez rien de mieux à faire, Monsieur le comte (или mon prince), et si la perspective de passer la soirée chez une pauvre malade ne vous effraye pas trop, je serai charmée de vous voir chez moi entre 7 et 10 heures. Annette Scherer».\n",
       "— Dieu, quelle virulente sortie! — отвечал, нисколько не смутясь такою встречей, вошедший князь, в придворном, шитом мундире, в чулках, башмаках и звездах, с светлым выражением плоского лица.\n",
       "Он говорил на том изысканном французском языке, на котором не только говорили, но и думали наши деды, и с теми, тихими, покровительственными интонациями, которые свойственны состаревшемуся в свете и при дворе значительному человеку. Он подошел к Анне Павловне, поцеловал ее руку, подставив ей свою надушенную и сияющую лысину, и покойно уселся на диване.\n",
       "— Avant tout dites-moi, comment vous allez, chère amie? Успокойте меня, — сказал он, не изменяя голоса и тоном, в котором из-за приличия и участия просвечивало равнодушие и даже насмешка.\n",
       "— Как можно быть здоровой... когда нравственно страдаешь? Разве можно, имея чувство, оставаться спокойною в наше время? — сказала Анна Павловна. — Вы весь вечер у меня, надеюсь?\n",
       "— А праздник английского посланника? Нынче середа. Мне надо показаться там, — сказал князь. — Дочь заедет за мной и повезет меня.\n",
       "— Я думала, что нынешний праздник отменен, Je vous avoue que toutes ces fêtes et tous ces feux d'artifice commencent à devenir insipides.\n",
       "— Ежели бы знали, что вы этого хотите, праздник бы отменили, — сказал князь по привычке, как заведенные часы, говоря вещи, которым он и не хотел, чтобы верили.\n",
       "— Ne me tourmentez pas. Eh bien, qu'a-t-on décidé par rapport à la dépêche de Novosilzoff? Vous savez tout.\n",
       "— Как вам сказать? — сказал князь холодным, скучающим тоном. — Qu'a-t-on décidé? On a décidé que Buonaparte a brûlé ses vaisseaux, et je crois que nous sommes en train de brûler les nôtres.\n",
       "Князь Василий говорил всегда лениво, как актер говорит роль старой пиесы. Анна Павловна Шерер, напротив, несмотря на свои сорок лет, была преисполнена оживления и порывов.\n",
       "Быть энтузиасткой сделалось ее общественным положением, и иногда, когда ей даже того не хотелось, она, чтобы не обмануть ожиданий людей, знавших ее, делалась энтузиасткой. Сдержанная улыбка, игравшая постоянно на лице Анны Павловны, хотя и не шла к ее отжившим чертам, выражала, как у избалованных детей, постоянное сознание своего милого недостатка, от которого она не хочет, не может и не находит нужным исправляться.\n",
       "В середине разговора про политические действия Анна Павловна разгорячилась.\n",
       "— Ах, не говорите мне про Австрию! Я ничего не понимаю, может быть, но Австрия никогда не хотела и не хочет войны. Она предает нас. Россия одна должна быть спасительницей Европы. Наш благодетель знает свое высокое призвание и будет верен ему. Вот одно, во что я верю. Нашему доброму и чудному государю предстоит величайшая роль в мире, и он так добродетелен и хорош, что Бог не оставит его, и он исполнит свое призвание задавить гидру революции, которая теперь еще ужаснее в лице этого убийцы и злодея. Мы одни должны искупить кровь праведника. На кого нам надеяться, я вас спрашиваю?.. Англия с своим коммерческим духом не поймет и не может понять всю высоту души императора Александра. Она отказалась очистить Мальту. Она хочет видеть, ищет заднюю мысль наших действий. Что они сказали Новосильцеву? Ничего. Они не поняли, они не могли понять самоотвержения нашего императора, который ничего не хочет для себя и все хочет для блага мира. И что они обещали? Ничего. И что обещали, и того не будет! Пруссия уже объявила, что Бонапарте непобедим и что вся Европа ничего не может против него... И я не верю ни в одном слове ни Гарденбергу, ни Гаугвицу. Cette fameuse neutralité prussienne, ce n'est qu'un piège. Я верю в одного Бога и в высокую судьбу нашего милого императора. Он спасет Европу!.. — Она вдруг остановилась с улыбкой насмешки над своею горячностью.\n",
       "— Я думаю, — сказал князь, улыбаясь, — что, ежели бы вас послали вместо нашего милого Винценгероде, вы бы взяли приступом согласие прусского короля. Вы так красноречивы. Вы дадите мне чаю?\n",
       "— Сейчас. A propos, — прибавила она, опять успокоиваясь, — нынче у меня два очень интересные человека, le vicomte de Mortemart, il est allié aux Montmorency par les Rohans, одна из лучших фамилий Франции. Это один из хороших эмигрантов, из настоящих. И потом l'abbé Morio; вы знаете этот глубокий ум? Он был принят государем. Вы знаете?\n",
       "— А! Я очень рад буду, — сказал князь. — Скажите, — прибавил он, как будто только что вспомнив что-то и особенно-небрежно, тогда как то, о чем он спрашивал, было главной целью его посещения, — правда, что l'impératrice-mère желает назначения барона Функе первым секретарем в Вену? C'est un pauvre sire, ce baron, à ce qu'il paraît. — Князь Василий желал определить сына на это место, которое через императрицу Марию Феодоровну старались доставить барону.\n",
       "Анна Павловна почти закрыла глаза в знак того, что ни она, ни кто другой не могут судить про то, что угодно или нравится императрице.\n",
       "— Monsieur le baron de Funke a été recommandé à l'impératrice-mère par sa sur, — только сказала она грустным, сухим тоном. В то время как Анна Павловна назвала императрицу, лицо ее вдруг представило глубокое и искреннее выражение преданности и уважения, соединенное с грустью, что с ней бывало каждый раз, когда она в разговоре упоминала о своей высокой покровительнице. Она сказала, что ее величество изволила оказать барону Функе beaucoup d'estime, и опять взгляд ее подернулся грустью.\n",
       "Князь равнодушно замолк, Анна Павловна, с свойственною ей придворною и женскою ловкостью и быстротою такта, захотела и щелкануть князя за то, что он дерзнул так отозваться о лице, рекомендованном императрице, и в то же время утешить его.\n",
       "— Mais à propos de votre famille, — сказала она, — знаете ли, что ваша дочь, с тех пор как выезжает, fait les délices de tout le monde. On la trouve belle comme le jour.\n",
       "Князь наклонился в знак уважения и признательности.\n",
       "— Я часто думаю, — продолжала Анна Павловна после минутного молчания, придвигаясь к князю и ласково улыбаясь ему, как будто выказывая этим, что политические и светские разговоры кончены и теперь начинается задушевный, — я часто думаю, как иногда несправедливо распределяется счастие жизни. За что вам дала судьба таких двух славных детей (исключая Анатоля, вашего меньшого, я его не люблю, — вставила она безапелляционно, приподняв брови), — таких прелестных детей? А вы, право, менее всех цените их и потому их не сто́ите.\n",
       "И она улыбнулась своею восторженной улыбкой.\n",
       "— Que voulez-vous? Lafater aurait dit que je n'ai pas la bosse de la paternité, — сказал князь.\n",
       "— Перестаньте шутить. Я хотела серьезно поговорить с вами. Знаете, я недовольна вашим меньшим сыном. Между нами будь сказано (лицо ее приняло грустное выражение), о нем говорили у ее величества и жалеют вас...\n",
       "Князь не отвечал, но она молча, значительно глядя на него, ждала ответа. Князь Василий поморщился.\n",
       "— Что ж мне делать? — сказал он наконец. — Вы знаете, я сделал для их воспитания все, что может отец, и оба вышли des imbéciles. Ипполит, по крайней мере, покойный дурак, а Анатоль — беспокойный. Вот одно различие, — сказал он, улыбаясь более неестественно и одушевленно, чем обыкновенно, и при этом особенно резко выказывая в сложившихся около его рта морщинах что-то неожиданно-грубое и неприятное.\n",
       "— И зачем родятся дети у таких людей, как вы? Ежели бы вы не были отец, я бы ни в чем не могла упрекнуть вас, — сказала Анна Павловна, задумчиво поднимая глаза.\n",
       "— Je suis votre верный раб, et à vous seule je puis l'avouer. Мои дети — ce sont les entraves de mon existence. Это мой крест. Я так себе объясняю. Que voulez-vous?..— Он помолчал, выражая жестом свою покорность жестокой судьбе.\n",
       "Анна Павловна задумалась.\n",
       "— Вы никогда не думали о том, чтобы женить вашего блудного сына Анатоля. Говорят, — сказала она, — что старые девицы ont la manie des mariages. Я еще не чувствую за собою этой слабости, но у меня есть одна petite personne, которая очень несчастлива с отцом, une parente à nous, une princesse Болконская. — Князь Василий не отвечал, хотя с свойственной светским людям быстротой соображения и памятью движением головы показал, что он принял к соображению это сведенье.\n",
       "— Нет, вы знаете ли, что этот Анатоль мне стоит сорок тысяч в год, — сказал он, видимо не в силах удерживать печальный ход своих мыслей. Он помолчал.\n",
       "— Что будет через пять лет, ежели это пойдет так? Voilà l'avantage d'être père. Она богата, ваша княжна?\n",
       "— Отец очень богат и скуп. Он живет в деревне. Знаете, этот известный князь Болконский, отставленный еще при покойном императоре и прозванный прусским королем. Он очень умный человек, но со странностями и тяжелый. La pauvre petite est malheureuse comme les pierres. У нее брат, вот что недавно женился на Lise Мейнен, адъютант Кутузова. Он будет нынче у меня.\n",
       "— Ecoutez, chère Annette, — сказал князь, взяв вдруг свою собеседницу за руку и пригибая ее почему-то книзу. — Arrangez-moi cette affaire et je suis votre вернейший раб à tout jamais (рап — comme mon староста m'écrit des донесенья: покой-ер-п). Она хорошей фамилии и богата. Все, что мне нужно.\n",
       "И он с теми свободными и фамильярными грациозными движениями, которые его отличали, взял за руку фрейлину, поцеловал ее и, поцеловав, помахал фрейлинскою рукой, развалившись на креслах и глядя в сторону.\n",
       "— Attendez, — сказала Анна Павловна, соображая. — Я нынче же поговорю Lise (la femme du jeune Болконский). И, может быть, это уладится. Ce sera dans votre famille que je ferai mon apprentissage de vieille fille."
      ]
     },
     "execution_count": 11,
     "metadata": {},
     "output_type": "execute_result"
    }
   ],
   "source": [
    "soup"
   ]
  },
  {
   "cell_type": "code",
   "execution_count": 16,
   "id": "divine-theater",
   "metadata": {},
   "outputs": [
    {
     "data": {
      "text/plain": [
       "\"Ð§Ð\\x90Ð¡Ð¢Ð¬ Ð\\x9fÐ\\x95Ð\\xa0Ð\\x92Ð\\x90Ð¯\\n\\nI\\n\\nâ\\x80\\x94 Eh bien, mon prince. GÃªnes et Lucques ne sont plus que des apanages, des Ð¿Ð¾Ð¼ÐµÑ\\x81Ñ\\x82Ñ\\x8cÑ\\x8f, de la famille Buonaparte. Non, je vous prÃ©viens que si vous ne me dites pas que nous avons la guerre, si vous vous permettez encore de pallier toutes les infamies, toutes les atrocitÃ©s de cet Antichrist (ma parole, j'y crois) â\\x80\\x94 je ne vous connais plus, vous n'Ãªtes plus mon ami, vous n'Ãªtes plus Ð¼Ð¾Ð¹ Ð²ÐµÑ\\x80Ð½Ñ\\x8bÐ¹ Ñ\\x80Ð°Ð±, comme vous dites. Ð\\x9dÑ\\x83, Ð·Ð´Ñ\\x80Ð°Ð²Ñ\\x81Ñ\\x82Ð²Ñ\\x83Ð¹Ñ\\x82Ðµ, Ð·Ð´Ñ\\x80Ð°Ð²Ñ\\x81Ñ\\x82Ð²Ñ\\x83Ð¹Ñ\\x82Ðµ. Je vois que je vous fais peur, Ñ\\x81Ð°Ð´Ð¸Ñ\\x82ÐµÑ\\x81Ñ\\x8c Ð¸ Ñ\\x80Ð°Ñ\\x81Ñ\\x81ÐºÐ°Ð·Ñ\\x8bÐ²Ð°Ð¹Ñ\\x82Ðµ.\\nÐ¢Ð°Ðº Ð³Ð¾Ð²Ð¾Ñ\\x80Ð¸Ð»Ð° Ð² Ð¸Ñ\\x8eÐ»Ðµ 1805 Ð³Ð¾Ð´Ð° Ð¸Ð·Ð²ÐµÑ\\x81Ñ\\x82Ð½Ð°Ñ\\x8f Ð\\x90Ð½Ð½Ð° Ð\\x9fÐ°Ð²Ð»Ð¾Ð²Ð½Ð° Ð¨ÐµÑ\\x80ÐµÑ\\x80, Ñ\\x84Ñ\\x80ÐµÐ¹Ð»Ð¸Ð½Ð° Ð¸ Ð¿Ñ\\x80Ð¸Ð±Ð»Ð¸Ð¶ÐµÐ½Ð½Ð°Ñ\\x8f Ð¸Ð¼Ð¿ÐµÑ\\x80Ð°Ñ\\x82Ñ\\x80Ð¸Ñ\\x86Ñ\\x8b Ð\\x9cÐ°Ñ\\x80Ð¸Ð¸ Ð¤ÐµÐ¾Ð´Ð¾Ñ\\x80Ð¾Ð²Ð½Ñ\\x8b, Ð²Ñ\\x81Ñ\\x82Ñ\\x80ÐµÑ\\x87Ð°Ñ\\x8f Ð²Ð°Ð¶Ð½Ð¾Ð³Ð¾ Ð¸ Ñ\\x87Ð¸Ð½Ð¾Ð²Ð½Ð¾Ð³Ð¾ ÐºÐ½Ñ\\x8fÐ·Ñ\\x8f Ð\\x92Ð°Ñ\\x81Ð¸Ð»Ð¸Ñ\\x8f, Ð¿ÐµÑ\\x80Ð²Ð¾Ð³Ð¾ Ð¿Ñ\\x80Ð¸ÐµÑ\\x85Ð°Ð²Ñ\\x88ÐµÐ³Ð¾ Ð½Ð° ÐµÐµ Ð²ÐµÑ\\x87ÐµÑ\\x80. Ð\\x90Ð½Ð½Ð° Ð\\x9fÐ°Ð²Ð»Ð¾Ð²Ð½Ð° ÐºÐ°Ñ\\x88Ð»Ñ\\x8fÐ»Ð° Ð½ÐµÑ\\x81ÐºÐ¾Ð»Ñ\\x8cÐºÐ¾ Ð´Ð½ÐµÐ¹, Ñ\\x83 Ð½ÐµÐµ Ð±Ñ\\x8bÐ» Ð³Ñ\\x80Ð¸Ð¿Ð¿, ÐºÐ°Ðº Ð¾Ð½Ð° Ð³Ð¾Ð²Ð¾Ñ\\x80Ð¸Ð»Ð° (Ð³Ñ\\x80Ð¸Ð¿Ð¿ Ð±Ñ\\x8bÐ» Ñ\\x82Ð¾Ð³Ð´Ð° Ð½Ð¾Ð²Ð¾Ðµ Ñ\\x81Ð»Ð¾Ð²Ð¾, Ñ\\x83Ð¿Ð¾Ñ\\x82Ñ\\x80ÐµÐ±Ð»Ñ\\x8fÐ²Ñ\\x88ÐµÐµÑ\\x81Ñ\\x8f Ñ\\x82Ð¾Ð»Ñ\\x8cÐºÐ¾ Ñ\\x80ÐµÐ´ÐºÐ¸Ð¼Ð¸). Ð\\x92 Ð·Ð°Ð¿Ð¸Ñ\\x81Ð¾Ñ\\x87ÐºÐ°Ñ\\x85, Ñ\\x80Ð°Ð·Ð¾Ñ\\x81Ð»Ð°Ð½Ð½Ñ\\x8bÑ\\x85 Ñ\\x83Ñ\\x82Ñ\\x80Ð¾Ð¼ Ñ\\x81 ÐºÑ\\x80Ð°Ñ\\x81Ð½Ñ\\x8bÐ¼ Ð»Ð°ÐºÐµÐµÐ¼, Ð±Ñ\\x8bÐ»Ð¾ Ð½Ð°Ð¿Ð¸Ñ\\x81Ð°Ð½Ð¾ Ð±ÐµÐ· Ñ\\x80Ð°Ð·Ð»Ð¸Ñ\\x87Ð¸Ñ\\x8f Ð²Ð¾ Ð²Ñ\\x81ÐµÑ\\x85:\\nÂ«Si vous n'avez rien de mieux Ã\\xa0 faire, Monsieur le comte (Ð¸Ð»Ð¸ mon prince), et si la perspective de passer la soirÃ©e chez une pauvre malade ne vous effraye pas trop, je serai charmÃ©e de vous voir chez moi entre 7 et 10 heures. Annette SchererÂ».\\nâ\\x80\\x94 Dieu, quelle virulente sortie! â\\x80\\x94 Ð¾Ñ\\x82Ð²ÐµÑ\\x87Ð°Ð», Ð½Ð¸Ñ\\x81ÐºÐ¾Ð»Ñ\\x8cÐºÐ¾ Ð½Ðµ Ñ\\x81Ð¼Ñ\\x83Ñ\\x82Ñ\\x8fÑ\\x81Ñ\\x8c Ñ\\x82Ð°ÐºÐ¾Ñ\\x8e Ð²Ñ\\x81Ñ\\x82Ñ\\x80ÐµÑ\\x87ÐµÐ¹, Ð²Ð¾Ñ\\x88ÐµÐ´Ñ\\x88Ð¸Ð¹ ÐºÐ½Ñ\\x8fÐ·Ñ\\x8c, Ð² Ð¿Ñ\\x80Ð¸Ð´Ð²Ð¾Ñ\\x80Ð½Ð¾Ð¼, Ñ\\x88Ð¸Ñ\\x82Ð¾Ð¼ Ð¼Ñ\\x83Ð½Ð´Ð¸Ñ\\x80Ðµ, Ð² Ñ\\x87Ñ\\x83Ð»ÐºÐ°Ñ\\x85, Ð±Ð°Ñ\\x88Ð¼Ð°ÐºÐ°Ñ\\x85 Ð¸ Ð·Ð²ÐµÐ·Ð´Ð°Ñ\\x85, Ñ\\x81 Ñ\\x81Ð²ÐµÑ\\x82Ð»Ñ\\x8bÐ¼ Ð²Ñ\\x8bÑ\\x80Ð°Ð¶ÐµÐ½Ð¸ÐµÐ¼ Ð¿Ð»Ð¾Ñ\\x81ÐºÐ¾Ð³Ð¾ Ð»Ð¸Ñ\\x86Ð°.\\nÐ\\x9eÐ½ Ð³Ð¾Ð²Ð¾Ñ\\x80Ð¸Ð» Ð½Ð° Ñ\\x82Ð¾Ð¼ Ð¸Ð·Ñ\\x8bÑ\\x81ÐºÐ°Ð½Ð½Ð¾Ð¼ Ñ\\x84Ñ\\x80Ð°Ð½Ñ\\x86Ñ\\x83Ð·Ñ\\x81ÐºÐ¾Ð¼ Ñ\\x8fÐ·Ñ\\x8bÐºÐµ, Ð½Ð° ÐºÐ¾Ñ\\x82Ð¾Ñ\\x80Ð¾Ð¼ Ð½Ðµ Ñ\\x82Ð¾Ð»Ñ\\x8cÐºÐ¾ Ð³Ð¾Ð²Ð¾Ñ\\x80Ð¸Ð»Ð¸, Ð½Ð¾ Ð¸ Ð´Ñ\\x83Ð¼Ð°Ð»Ð¸ Ð½Ð°Ñ\\x88Ð¸ Ð´ÐµÐ´Ñ\\x8b, Ð¸ Ñ\\x81 Ñ\\x82ÐµÐ¼Ð¸, Ñ\\x82Ð¸Ñ\\x85Ð¸Ð¼Ð¸, Ð¿Ð¾ÐºÑ\\x80Ð¾Ð²Ð¸Ñ\\x82ÐµÐ»Ñ\\x8cÑ\\x81Ñ\\x82Ð²ÐµÐ½Ð½Ñ\\x8bÐ¼Ð¸ Ð¸Ð½Ñ\\x82Ð¾Ð½Ð°Ñ\\x86Ð¸Ñ\\x8fÐ¼Ð¸, ÐºÐ¾Ñ\\x82Ð¾Ñ\\x80Ñ\\x8bÐµ Ñ\\x81Ð²Ð¾Ð¹Ñ\\x81Ñ\\x82Ð²ÐµÐ½Ð½Ñ\\x8b Ñ\\x81Ð¾Ñ\\x81Ñ\\x82Ð°Ñ\\x80ÐµÐ²Ñ\\x88ÐµÐ¼Ñ\\x83Ñ\\x81Ñ\\x8f Ð² Ñ\\x81Ð²ÐµÑ\\x82Ðµ Ð¸ Ð¿Ñ\\x80Ð¸ Ð´Ð²Ð¾Ñ\\x80Ðµ Ð·Ð½Ð°Ñ\\x87Ð¸Ñ\\x82ÐµÐ»Ñ\\x8cÐ½Ð¾Ð¼Ñ\\x83 Ñ\\x87ÐµÐ»Ð¾Ð²ÐµÐºÑ\\x83. Ð\\x9eÐ½ Ð¿Ð¾Ð´Ð¾Ñ\\x88ÐµÐ» Ðº Ð\\x90Ð½Ð½Ðµ Ð\\x9fÐ°Ð²Ð»Ð¾Ð²Ð½Ðµ, Ð¿Ð¾Ñ\\x86ÐµÐ»Ð¾Ð²Ð°Ð» ÐµÐµ Ñ\\x80Ñ\\x83ÐºÑ\\x83, Ð¿Ð¾Ð´Ñ\\x81Ñ\\x82Ð°Ð²Ð¸Ð² ÐµÐ¹ Ñ\\x81Ð²Ð¾Ñ\\x8e Ð½Ð°Ð´Ñ\\x83Ñ\\x88ÐµÐ½Ð½Ñ\\x83Ñ\\x8e Ð¸ Ñ\\x81Ð¸Ñ\\x8fÑ\\x8eÑ\\x89Ñ\\x83Ñ\\x8e Ð»Ñ\\x8bÑ\\x81Ð¸Ð½Ñ\\x83, Ð¸ Ð¿Ð¾ÐºÐ¾Ð¹Ð½Ð¾ Ñ\\x83Ñ\\x81ÐµÐ»Ñ\\x81Ñ\\x8f Ð½Ð° Ð´Ð¸Ð²Ð°Ð½Ðµ.\\nâ\\x80\\x94 Avant tout dites-moi, comment vous allez, chÃ¨re amie? Ð£Ñ\\x81Ð¿Ð¾ÐºÐ¾Ð¹Ñ\\x82Ðµ Ð¼ÐµÐ½Ñ\\x8f, â\\x80\\x94 Ñ\\x81ÐºÐ°Ð·Ð°Ð» Ð¾Ð½, Ð½Ðµ Ð¸Ð·Ð¼ÐµÐ½Ñ\\x8fÑ\\x8f Ð³Ð¾Ð»Ð¾Ñ\\x81Ð° Ð¸ Ñ\\x82Ð¾Ð½Ð¾Ð¼, Ð² ÐºÐ¾Ñ\\x82Ð¾Ñ\\x80Ð¾Ð¼ Ð¸Ð·-Ð·Ð° Ð¿Ñ\\x80Ð¸Ð»Ð¸Ñ\\x87Ð¸Ñ\\x8f Ð¸ Ñ\\x83Ñ\\x87Ð°Ñ\\x81Ñ\\x82Ð¸Ñ\\x8f Ð¿Ñ\\x80Ð¾Ñ\\x81Ð²ÐµÑ\\x87Ð¸Ð²Ð°Ð»Ð¾ Ñ\\x80Ð°Ð²Ð½Ð¾Ð´Ñ\\x83Ñ\\x88Ð¸Ðµ Ð¸ Ð´Ð°Ð¶Ðµ Ð½Ð°Ñ\\x81Ð¼ÐµÑ\\x88ÐºÐ°.\\nâ\\x80\\x94 Ð\\x9aÐ°Ðº Ð¼Ð¾Ð¶Ð½Ð¾ Ð±Ñ\\x8bÑ\\x82Ñ\\x8c Ð·Ð´Ð¾Ñ\\x80Ð¾Ð²Ð¾Ð¹... ÐºÐ¾Ð³Ð´Ð° Ð½Ñ\\x80Ð°Ð²Ñ\\x81Ñ\\x82Ð²ÐµÐ½Ð½Ð¾ Ñ\\x81Ñ\\x82Ñ\\x80Ð°Ð´Ð°ÐµÑ\\x88Ñ\\x8c? Ð\\xa0Ð°Ð·Ð²Ðµ Ð¼Ð¾Ð¶Ð½Ð¾, Ð¸Ð¼ÐµÑ\\x8f Ñ\\x87Ñ\\x83Ð²Ñ\\x81Ñ\\x82Ð²Ð¾, Ð¾Ñ\\x81Ñ\\x82Ð°Ð²Ð°Ñ\\x82Ñ\\x8cÑ\\x81Ñ\\x8f Ñ\\x81Ð¿Ð¾ÐºÐ¾Ð¹Ð½Ð¾Ñ\\x8e Ð² Ð½Ð°Ñ\\x88Ðµ Ð²Ñ\\x80ÐµÐ¼Ñ\\x8f? â\\x80\\x94 Ñ\\x81ÐºÐ°Ð·Ð°Ð»Ð° Ð\\x90Ð½Ð½Ð° Ð\\x9fÐ°Ð²Ð»Ð¾Ð²Ð½Ð°. â\\x80\\x94 Ð\\x92Ñ\\x8b Ð²ÐµÑ\\x81Ñ\\x8c Ð²ÐµÑ\\x87ÐµÑ\\x80 Ñ\\x83 Ð¼ÐµÐ½Ñ\\x8f, Ð½Ð°Ð´ÐµÑ\\x8eÑ\\x81Ñ\\x8c?\\nâ\\x80\\x94 Ð\\x90 Ð¿Ñ\\x80Ð°Ð·Ð´Ð½Ð¸Ðº Ð°Ð½Ð³Ð»Ð¸Ð¹Ñ\\x81ÐºÐ¾Ð³Ð¾ Ð¿Ð¾Ñ\\x81Ð»Ð°Ð½Ð½Ð¸ÐºÐ°? Ð\\x9dÑ\\x8bÐ½Ñ\\x87Ðµ Ñ\\x81ÐµÑ\\x80ÐµÐ´Ð°. Ð\\x9cÐ½Ðµ Ð½Ð°Ð´Ð¾ Ð¿Ð¾ÐºÐ°Ð·Ð°Ñ\\x82Ñ\\x8cÑ\\x81Ñ\\x8f Ñ\\x82Ð°Ð¼, â\\x80\\x94 Ñ\\x81ÐºÐ°Ð·Ð°Ð» ÐºÐ½Ñ\\x8fÐ·Ñ\\x8c. â\\x80\\x94 Ð\\x94Ð¾Ñ\\x87Ñ\\x8c Ð·Ð°ÐµÐ´ÐµÑ\\x82 Ð·Ð° Ð¼Ð½Ð¾Ð¹ Ð¸ Ð¿Ð¾Ð²ÐµÐ·ÐµÑ\\x82 Ð¼ÐµÐ½Ñ\\x8f.\\nâ\\x80\\x94 Ð¯ Ð´Ñ\\x83Ð¼Ð°Ð»Ð°, Ñ\\x87Ñ\\x82Ð¾ Ð½Ñ\\x8bÐ½ÐµÑ\\x88Ð½Ð¸Ð¹ Ð¿Ñ\\x80Ð°Ð·Ð´Ð½Ð¸Ðº Ð¾Ñ\\x82Ð¼ÐµÐ½ÐµÐ½, Je vous avoue que toutes ces fÃªtes et tous ces feux d'artifice commencent Ã\\xa0 devenir insipides.\\nâ\\x80\\x94 Ð\\x95Ð¶ÐµÐ»Ð¸ Ð±Ñ\\x8b Ð·Ð½Ð°Ð»Ð¸, Ñ\\x87Ñ\\x82Ð¾ Ð²Ñ\\x8b Ñ\\x8dÑ\\x82Ð¾Ð³Ð¾ Ñ\\x85Ð¾Ñ\\x82Ð¸Ñ\\x82Ðµ, Ð¿Ñ\\x80Ð°Ð·Ð´Ð½Ð¸Ðº Ð±Ñ\\x8b Ð¾Ñ\\x82Ð¼ÐµÐ½Ð¸Ð»Ð¸, â\\x80\\x94 Ñ\\x81ÐºÐ°Ð·Ð°Ð» ÐºÐ½Ñ\\x8fÐ·Ñ\\x8c Ð¿Ð¾ Ð¿Ñ\\x80Ð¸Ð²Ñ\\x8bÑ\\x87ÐºÐµ, ÐºÐ°Ðº Ð·Ð°Ð²ÐµÐ´ÐµÐ½Ð½Ñ\\x8bÐµ Ñ\\x87Ð°Ñ\\x81Ñ\\x8b, Ð³Ð¾Ð²Ð¾Ñ\\x80Ñ\\x8f Ð²ÐµÑ\\x89Ð¸, ÐºÐ¾Ñ\\x82Ð¾Ñ\\x80Ñ\\x8bÐ¼ Ð¾Ð½ Ð¸ Ð½Ðµ Ñ\\x85Ð¾Ñ\\x82ÐµÐ», Ñ\\x87Ñ\\x82Ð¾Ð±Ñ\\x8b Ð²ÐµÑ\\x80Ð¸Ð»Ð¸.\\nâ\\x80\\x94 Ne me tourmentez pas. Eh bien, qu'a-t-on dÃ©cidÃ© par rapport Ã\\xa0 la dÃ©pÃªche de Novosilzoff? Vous savez tout.\\nâ\\x80\\x94 Ð\\x9aÐ°Ðº Ð²Ð°Ð¼ Ñ\\x81ÐºÐ°Ð·Ð°Ñ\\x82Ñ\\x8c? â\\x80\\x94 Ñ\\x81ÐºÐ°Ð·Ð°Ð» ÐºÐ½Ñ\\x8fÐ·Ñ\\x8c Ñ\\x85Ð¾Ð»Ð¾Ð´Ð½Ñ\\x8bÐ¼, Ñ\\x81ÐºÑ\\x83Ñ\\x87Ð°Ñ\\x8eÑ\\x89Ð¸Ð¼ Ñ\\x82Ð¾Ð½Ð¾Ð¼. â\\x80\\x94 Qu'a-t-on dÃ©cidÃ©? On a dÃ©cidÃ© que Buonaparte a brÃ»lÃ© ses vaisseaux, et je crois que nous sommes en train de brÃ»ler les nÃ´tres.\\nÐ\\x9aÐ½Ñ\\x8fÐ·Ñ\\x8c Ð\\x92Ð°Ñ\\x81Ð¸Ð»Ð¸Ð¹ Ð³Ð¾Ð²Ð¾Ñ\\x80Ð¸Ð» Ð²Ñ\\x81ÐµÐ³Ð´Ð° Ð»ÐµÐ½Ð¸Ð²Ð¾, ÐºÐ°Ðº Ð°ÐºÑ\\x82ÐµÑ\\x80 Ð³Ð¾Ð²Ð¾Ñ\\x80Ð¸Ñ\\x82 Ñ\\x80Ð¾Ð»Ñ\\x8c Ñ\\x81Ñ\\x82Ð°Ñ\\x80Ð¾Ð¹ Ð¿Ð¸ÐµÑ\\x81Ñ\\x8b. Ð\\x90Ð½Ð½Ð° Ð\\x9fÐ°Ð²Ð»Ð¾Ð²Ð½Ð° Ð¨ÐµÑ\\x80ÐµÑ\\x80, Ð½Ð°Ð¿Ñ\\x80Ð¾Ñ\\x82Ð¸Ð², Ð½ÐµÑ\\x81Ð¼Ð¾Ñ\\x82Ñ\\x80Ñ\\x8f Ð½Ð° Ñ\\x81Ð²Ð¾Ð¸ Ñ\\x81Ð¾Ñ\\x80Ð¾Ðº Ð»ÐµÑ\\x82, Ð±Ñ\\x8bÐ»Ð° Ð¿Ñ\\x80ÐµÐ¸Ñ\\x81Ð¿Ð¾Ð»Ð½ÐµÐ½Ð° Ð¾Ð¶Ð¸Ð²Ð»ÐµÐ½Ð¸Ñ\\x8f Ð¸ Ð¿Ð¾Ñ\\x80Ñ\\x8bÐ²Ð¾Ð².\\nÐ\\x91Ñ\\x8bÑ\\x82Ñ\\x8c Ñ\\x8dÐ½Ñ\\x82Ñ\\x83Ð·Ð¸Ð°Ñ\\x81Ñ\\x82ÐºÐ¾Ð¹ Ñ\\x81Ð´ÐµÐ»Ð°Ð»Ð¾Ñ\\x81Ñ\\x8c ÐµÐµ Ð¾Ð±Ñ\\x89ÐµÑ\\x81Ñ\\x82Ð²ÐµÐ½Ð½Ñ\\x8bÐ¼ Ð¿Ð¾Ð»Ð¾Ð¶ÐµÐ½Ð¸ÐµÐ¼, Ð¸ Ð¸Ð½Ð¾Ð³Ð´Ð°, ÐºÐ¾Ð³Ð´Ð° ÐµÐ¹ Ð´Ð°Ð¶Ðµ Ñ\\x82Ð¾Ð³Ð¾ Ð½Ðµ Ñ\\x85Ð¾Ñ\\x82ÐµÐ»Ð¾Ñ\\x81Ñ\\x8c, Ð¾Ð½Ð°, Ñ\\x87Ñ\\x82Ð¾Ð±Ñ\\x8b Ð½Ðµ Ð¾Ð±Ð¼Ð°Ð½Ñ\\x83Ñ\\x82Ñ\\x8c Ð¾Ð¶Ð¸Ð´Ð°Ð½Ð¸Ð¹ Ð»Ñ\\x8eÐ´ÐµÐ¹, Ð·Ð½Ð°Ð²Ñ\\x88Ð¸Ñ\\x85 ÐµÐµ, Ð´ÐµÐ»Ð°Ð»Ð°Ñ\\x81Ñ\\x8c Ñ\\x8dÐ½Ñ\\x82Ñ\\x83Ð·Ð¸Ð°Ñ\\x81Ñ\\x82ÐºÐ¾Ð¹. Ð¡Ð´ÐµÑ\\x80Ð¶Ð°Ð½Ð½Ð°Ñ\\x8f Ñ\\x83Ð»Ñ\\x8bÐ±ÐºÐ°, Ð¸Ð³Ñ\\x80Ð°Ð²Ñ\\x88Ð°Ñ\\x8f Ð¿Ð¾Ñ\\x81Ñ\\x82Ð¾Ñ\\x8fÐ½Ð½Ð¾ Ð½Ð° Ð»Ð¸Ñ\\x86Ðµ Ð\\x90Ð½Ð½Ñ\\x8b Ð\\x9fÐ°Ð²Ð»Ð¾Ð²Ð½Ñ\\x8b, Ñ\\x85Ð¾Ñ\\x82Ñ\\x8f Ð¸ Ð½Ðµ Ñ\\x88Ð»Ð° Ðº ÐµÐµ Ð¾Ñ\\x82Ð¶Ð¸Ð²Ñ\\x88Ð¸Ð¼ Ñ\\x87ÐµÑ\\x80Ñ\\x82Ð°Ð¼, Ð²Ñ\\x8bÑ\\x80Ð°Ð¶Ð°Ð»Ð°, ÐºÐ°Ðº Ñ\\x83 Ð¸Ð·Ð±Ð°Ð»Ð¾Ð²Ð°Ð½Ð½Ñ\\x8bÑ\\x85 Ð´ÐµÑ\\x82ÐµÐ¹, Ð¿Ð¾Ñ\\x81Ñ\\x82Ð¾Ñ\\x8fÐ½Ð½Ð¾Ðµ Ñ\\x81Ð¾Ð·Ð½Ð°Ð½Ð¸Ðµ Ñ\\x81Ð²Ð¾ÐµÐ³Ð¾ Ð¼Ð¸Ð»Ð¾Ð³Ð¾ Ð½ÐµÐ´Ð¾Ñ\\x81Ñ\\x82Ð°Ñ\\x82ÐºÐ°, Ð¾Ñ\\x82 ÐºÐ¾Ñ\\x82Ð¾Ñ\\x80Ð¾Ð³Ð¾ Ð¾Ð½Ð° Ð½Ðµ Ñ\\x85Ð¾Ñ\\x87ÐµÑ\\x82, Ð½Ðµ Ð¼Ð¾Ð¶ÐµÑ\\x82 Ð¸ Ð½Ðµ Ð½Ð°Ñ\\x85Ð¾Ð´Ð¸Ñ\\x82 Ð½Ñ\\x83Ð¶Ð½Ñ\\x8bÐ¼ Ð¸Ñ\\x81Ð¿Ñ\\x80Ð°Ð²Ð»Ñ\\x8fÑ\\x82Ñ\\x8cÑ\\x81Ñ\\x8f.\\nÐ\\x92 Ñ\\x81ÐµÑ\\x80ÐµÐ´Ð¸Ð½Ðµ Ñ\\x80Ð°Ð·Ð³Ð¾Ð²Ð¾Ñ\\x80Ð° Ð¿Ñ\\x80Ð¾ Ð¿Ð¾Ð»Ð¸Ñ\\x82Ð¸Ñ\\x87ÐµÑ\\x81ÐºÐ¸Ðµ Ð´ÐµÐ¹Ñ\\x81Ñ\\x82Ð²Ð¸Ñ\\x8f Ð\\x90Ð½Ð½Ð° Ð\\x9fÐ°Ð²Ð»Ð¾Ð²Ð½Ð° Ñ\\x80Ð°Ð·Ð³Ð¾Ñ\\x80Ñ\\x8fÑ\\x87Ð¸Ð»Ð°Ñ\\x81Ñ\\x8c.\\nâ\\x80\\x94 Ð\\x90Ñ\\x85, Ð½Ðµ Ð³Ð¾Ð²Ð¾Ñ\\x80Ð¸Ñ\\x82Ðµ Ð¼Ð½Ðµ Ð¿Ñ\\x80Ð¾ Ð\\x90Ð²Ñ\\x81Ñ\\x82Ñ\\x80Ð¸Ñ\\x8e! Ð¯ Ð½Ð¸Ñ\\x87ÐµÐ³Ð¾ Ð½Ðµ Ð¿Ð¾Ð½Ð¸Ð¼Ð°Ñ\\x8e, Ð¼Ð¾Ð¶ÐµÑ\\x82 Ð±Ñ\\x8bÑ\\x82Ñ\\x8c, Ð½Ð¾ Ð\\x90Ð²Ñ\\x81Ñ\\x82Ñ\\x80Ð¸Ñ\\x8f Ð½Ð¸ÐºÐ¾Ð³Ð´Ð° Ð½Ðµ Ñ\\x85Ð¾Ñ\\x82ÐµÐ»Ð° Ð¸ Ð½Ðµ Ñ\\x85Ð¾Ñ\\x87ÐµÑ\\x82 Ð²Ð¾Ð¹Ð½Ñ\\x8b. Ð\\x9eÐ½Ð° Ð¿Ñ\\x80ÐµÐ´Ð°ÐµÑ\\x82 Ð½Ð°Ñ\\x81. Ð\\xa0Ð¾Ñ\\x81Ñ\\x81Ð¸Ñ\\x8f Ð¾Ð´Ð½Ð° Ð´Ð¾Ð»Ð¶Ð½Ð° Ð±Ñ\\x8bÑ\\x82Ñ\\x8c Ñ\\x81Ð¿Ð°Ñ\\x81Ð¸Ñ\\x82ÐµÐ»Ñ\\x8cÐ½Ð¸Ñ\\x86ÐµÐ¹ Ð\\x95Ð²Ñ\\x80Ð¾Ð¿Ñ\\x8b. Ð\\x9dÐ°Ñ\\x88 Ð±Ð»Ð°Ð³Ð¾Ð´ÐµÑ\\x82ÐµÐ»Ñ\\x8c Ð·Ð½Ð°ÐµÑ\\x82 Ñ\\x81Ð²Ð¾Ðµ Ð²Ñ\\x8bÑ\\x81Ð¾ÐºÐ¾Ðµ Ð¿Ñ\\x80Ð¸Ð·Ð²Ð°Ð½Ð¸Ðµ Ð¸ Ð±Ñ\\x83Ð´ÐµÑ\\x82 Ð²ÐµÑ\\x80ÐµÐ½ ÐµÐ¼Ñ\\x83. Ð\\x92Ð¾Ñ\\x82 Ð¾Ð´Ð½Ð¾, Ð²Ð¾ Ñ\\x87Ñ\\x82Ð¾ Ñ\\x8f Ð²ÐµÑ\\x80Ñ\\x8e. Ð\\x9dÐ°Ñ\\x88ÐµÐ¼Ñ\\x83 Ð´Ð¾Ð±Ñ\\x80Ð¾Ð¼Ñ\\x83 Ð¸ Ñ\\x87Ñ\\x83Ð´Ð½Ð¾Ð¼Ñ\\x83 Ð³Ð¾Ñ\\x81Ñ\\x83Ð´Ð°Ñ\\x80Ñ\\x8e Ð¿Ñ\\x80ÐµÐ´Ñ\\x81Ñ\\x82Ð¾Ð¸Ñ\\x82 Ð²ÐµÐ»Ð¸Ñ\\x87Ð°Ð¹Ñ\\x88Ð°Ñ\\x8f Ñ\\x80Ð¾Ð»Ñ\\x8c Ð² Ð¼Ð¸Ñ\\x80Ðµ, Ð¸ Ð¾Ð½ Ñ\\x82Ð°Ðº Ð´Ð¾Ð±Ñ\\x80Ð¾Ð´ÐµÑ\\x82ÐµÐ»ÐµÐ½ Ð¸ Ñ\\x85Ð¾Ñ\\x80Ð¾Ñ\\x88, Ñ\\x87Ñ\\x82Ð¾ Ð\\x91Ð¾Ð³ Ð½Ðµ Ð¾Ñ\\x81Ñ\\x82Ð°Ð²Ð¸Ñ\\x82 ÐµÐ³Ð¾, Ð¸ Ð¾Ð½ Ð¸Ñ\\x81Ð¿Ð¾Ð»Ð½Ð¸Ñ\\x82 Ñ\\x81Ð²Ð¾Ðµ Ð¿Ñ\\x80Ð¸Ð·Ð²Ð°Ð½Ð¸Ðµ Ð·Ð°Ð´Ð°Ð²Ð¸Ñ\\x82Ñ\\x8c Ð³Ð¸Ð´Ñ\\x80Ñ\\x83 Ñ\\x80ÐµÐ²Ð¾Ð»Ñ\\x8eÑ\\x86Ð¸Ð¸, ÐºÐ¾Ñ\\x82Ð¾Ñ\\x80Ð°Ñ\\x8f Ñ\\x82ÐµÐ¿ÐµÑ\\x80Ñ\\x8c ÐµÑ\\x89Ðµ Ñ\\x83Ð¶Ð°Ñ\\x81Ð½ÐµÐµ Ð² Ð»Ð¸Ñ\\x86Ðµ Ñ\\x8dÑ\\x82Ð¾Ð³Ð¾ Ñ\\x83Ð±Ð¸Ð¹Ñ\\x86Ñ\\x8b Ð¸ Ð·Ð»Ð¾Ð´ÐµÑ\\x8f. Ð\\x9cÑ\\x8b Ð¾Ð´Ð½Ð¸ Ð´Ð¾Ð»Ð¶Ð½Ñ\\x8b Ð¸Ñ\\x81ÐºÑ\\x83Ð¿Ð¸Ñ\\x82Ñ\\x8c ÐºÑ\\x80Ð¾Ð²Ñ\\x8c Ð¿Ñ\\x80Ð°Ð²ÐµÐ´Ð½Ð¸ÐºÐ°. Ð\\x9dÐ° ÐºÐ¾Ð³Ð¾ Ð½Ð°Ð¼ Ð½Ð°Ð´ÐµÑ\\x8fÑ\\x82Ñ\\x8cÑ\\x81Ñ\\x8f, Ñ\\x8f Ð²Ð°Ñ\\x81 Ñ\\x81Ð¿Ñ\\x80Ð°Ñ\\x88Ð¸Ð²Ð°Ñ\\x8e?.. Ð\\x90Ð½Ð³Ð»Ð¸Ñ\\x8f Ñ\\x81 Ñ\\x81Ð²Ð¾Ð¸Ð¼ ÐºÐ¾Ð¼Ð¼ÐµÑ\\x80Ñ\\x87ÐµÑ\\x81ÐºÐ¸Ð¼ Ð´Ñ\\x83Ñ\\x85Ð¾Ð¼ Ð½Ðµ Ð¿Ð¾Ð¹Ð¼ÐµÑ\\x82 Ð¸ Ð½Ðµ Ð¼Ð¾Ð¶ÐµÑ\\x82 Ð¿Ð¾Ð½Ñ\\x8fÑ\\x82Ñ\\x8c Ð²Ñ\\x81Ñ\\x8e Ð²Ñ\\x8bÑ\\x81Ð¾Ñ\\x82Ñ\\x83 Ð´Ñ\\x83Ñ\\x88Ð¸ Ð¸Ð¼Ð¿ÐµÑ\\x80Ð°Ñ\\x82Ð¾Ñ\\x80Ð° Ð\\x90Ð»ÐµÐºÑ\\x81Ð°Ð½Ð´Ñ\\x80Ð°. Ð\\x9eÐ½Ð° Ð¾Ñ\\x82ÐºÐ°Ð·Ð°Ð»Ð°Ñ\\x81Ñ\\x8c Ð¾Ñ\\x87Ð¸Ñ\\x81Ñ\\x82Ð¸Ñ\\x82Ñ\\x8c Ð\\x9cÐ°Ð»Ñ\\x8cÑ\\x82Ñ\\x83. Ð\\x9eÐ½Ð° Ñ\\x85Ð¾Ñ\\x87ÐµÑ\\x82 Ð²Ð¸Ð´ÐµÑ\\x82Ñ\\x8c, Ð¸Ñ\\x89ÐµÑ\\x82 Ð·Ð°Ð´Ð½Ñ\\x8eÑ\\x8e Ð¼Ñ\\x8bÑ\\x81Ð»Ñ\\x8c Ð½Ð°Ñ\\x88Ð¸Ñ\\x85 Ð´ÐµÐ¹Ñ\\x81Ñ\\x82Ð²Ð¸Ð¹. Ð§Ñ\\x82Ð¾ Ð¾Ð½Ð¸ Ñ\\x81ÐºÐ°Ð·Ð°Ð»Ð¸ Ð\\x9dÐ¾Ð²Ð¾Ñ\\x81Ð¸Ð»Ñ\\x8cÑ\\x86ÐµÐ²Ñ\\x83? Ð\\x9dÐ¸Ñ\\x87ÐµÐ³Ð¾. Ð\\x9eÐ½Ð¸ Ð½Ðµ Ð¿Ð¾Ð½Ñ\\x8fÐ»Ð¸, Ð¾Ð½Ð¸ Ð½Ðµ Ð¼Ð¾Ð³Ð»Ð¸ Ð¿Ð¾Ð½Ñ\\x8fÑ\\x82Ñ\\x8c Ñ\\x81Ð°Ð¼Ð¾Ð¾Ñ\\x82Ð²ÐµÑ\\x80Ð¶ÐµÐ½Ð¸Ñ\\x8f Ð½Ð°Ñ\\x88ÐµÐ³Ð¾ Ð¸Ð¼Ð¿ÐµÑ\\x80Ð°Ñ\\x82Ð¾Ñ\\x80Ð°, ÐºÐ¾Ñ\\x82Ð¾Ñ\\x80Ñ\\x8bÐ¹ Ð½Ð¸Ñ\\x87ÐµÐ³Ð¾ Ð½Ðµ Ñ\\x85Ð¾Ñ\\x87ÐµÑ\\x82 Ð´Ð»Ñ\\x8f Ñ\\x81ÐµÐ±Ñ\\x8f Ð¸ Ð²Ñ\\x81Ðµ Ñ\\x85Ð¾Ñ\\x87ÐµÑ\\x82 Ð´Ð»Ñ\\x8f Ð±Ð»Ð°Ð³Ð° Ð¼Ð¸Ñ\\x80Ð°. Ð\\x98 Ñ\\x87Ñ\\x82Ð¾ Ð¾Ð½Ð¸ Ð¾Ð±ÐµÑ\\x89Ð°Ð»Ð¸? Ð\\x9dÐ¸Ñ\\x87ÐµÐ³Ð¾. Ð\\x98 Ñ\\x87Ñ\\x82Ð¾ Ð¾Ð±ÐµÑ\\x89Ð°Ð»Ð¸, Ð¸ Ñ\\x82Ð¾Ð³Ð¾ Ð½Ðµ Ð±Ñ\\x83Ð´ÐµÑ\\x82! Ð\\x9fÑ\\x80Ñ\\x83Ñ\\x81Ñ\\x81Ð¸Ñ\\x8f Ñ\\x83Ð¶Ðµ Ð¾Ð±Ñ\\x8aÑ\\x8fÐ²Ð¸Ð»Ð°, Ñ\\x87Ñ\\x82Ð¾ Ð\\x91Ð¾Ð½Ð°Ð¿Ð°Ñ\\x80Ñ\\x82Ðµ Ð½ÐµÐ¿Ð¾Ð±ÐµÐ´Ð¸Ð¼ Ð¸ Ñ\\x87Ñ\\x82Ð¾ Ð²Ñ\\x81Ñ\\x8f Ð\\x95Ð²Ñ\\x80Ð¾Ð¿Ð° Ð½Ð¸Ñ\\x87ÐµÐ³Ð¾ Ð½Ðµ Ð¼Ð¾Ð¶ÐµÑ\\x82 Ð¿Ñ\\x80Ð¾Ñ\\x82Ð¸Ð² Ð½ÐµÐ³Ð¾... Ð\\x98 Ñ\\x8f Ð½Ðµ Ð²ÐµÑ\\x80Ñ\\x8e Ð½Ð¸ Ð² Ð¾Ð´Ð½Ð¾Ð¼ Ñ\\x81Ð»Ð¾Ð²Ðµ Ð½Ð¸ Ð\\x93Ð°Ñ\\x80Ð´ÐµÐ½Ð±ÐµÑ\\x80Ð³Ñ\\x83, Ð½Ð¸ Ð\\x93Ð°Ñ\\x83Ð³Ð²Ð¸Ñ\\x86Ñ\\x83. Cette fameuse neutralitÃ© prussienne, ce n'est qu'un piÃ¨ge. Ð¯ Ð²ÐµÑ\\x80Ñ\\x8e Ð² Ð¾Ð´Ð½Ð¾Ð³Ð¾ Ð\\x91Ð¾Ð³Ð° Ð¸ Ð² Ð²Ñ\\x8bÑ\\x81Ð¾ÐºÑ\\x83Ñ\\x8e Ñ\\x81Ñ\\x83Ð´Ñ\\x8cÐ±Ñ\\x83 Ð½Ð°Ñ\\x88ÐµÐ³Ð¾ Ð¼Ð¸Ð»Ð¾Ð³Ð¾ Ð¸Ð¼Ð¿ÐµÑ\\x80Ð°Ñ\\x82Ð¾Ñ\\x80Ð°. Ð\\x9eÐ½ Ñ\\x81Ð¿Ð°Ñ\\x81ÐµÑ\\x82 Ð\\x95Ð²Ñ\\x80Ð¾Ð¿Ñ\\x83!.. â\\x80\\x94 Ð\\x9eÐ½Ð° Ð²Ð´Ñ\\x80Ñ\\x83Ð³ Ð¾Ñ\\x81Ñ\\x82Ð°Ð½Ð¾Ð²Ð¸Ð»Ð°Ñ\\x81Ñ\\x8c Ñ\\x81 Ñ\\x83Ð»Ñ\\x8bÐ±ÐºÐ¾Ð¹ Ð½Ð°Ñ\\x81Ð¼ÐµÑ\\x88ÐºÐ¸ Ð½Ð°Ð´ Ñ\\x81Ð²Ð¾ÐµÑ\\x8e Ð³Ð¾Ñ\\x80Ñ\\x8fÑ\\x87Ð½Ð¾Ñ\\x81Ñ\\x82Ñ\\x8cÑ\\x8e.\\nâ\\x80\\x94 Ð¯ Ð´Ñ\\x83Ð¼Ð°Ñ\\x8e, â\\x80\\x94 Ñ\\x81ÐºÐ°Ð·Ð°Ð» ÐºÐ½Ñ\\x8fÐ·Ñ\\x8c, Ñ\\x83Ð»Ñ\\x8bÐ±Ð°Ñ\\x8fÑ\\x81Ñ\\x8c, â\\x80\\x94 Ñ\\x87Ñ\\x82Ð¾, ÐµÐ¶ÐµÐ»Ð¸ Ð±Ñ\\x8b Ð²Ð°Ñ\\x81 Ð¿Ð¾Ñ\\x81Ð»Ð°Ð»Ð¸ Ð²Ð¼ÐµÑ\\x81Ñ\\x82Ð¾ Ð½Ð°Ñ\\x88ÐµÐ³Ð¾ Ð¼Ð¸Ð»Ð¾Ð³Ð¾ Ð\\x92Ð¸Ð½Ñ\\x86ÐµÐ½Ð³ÐµÑ\\x80Ð¾Ð´Ðµ, Ð²Ñ\\x8b Ð±Ñ\\x8b Ð²Ð·Ñ\\x8fÐ»Ð¸ Ð¿Ñ\\x80Ð¸Ñ\\x81Ñ\\x82Ñ\\x83Ð¿Ð¾Ð¼ Ñ\\x81Ð¾Ð³Ð»Ð°Ñ\\x81Ð¸Ðµ Ð¿Ñ\\x80Ñ\\x83Ñ\\x81Ñ\\x81ÐºÐ¾Ð³Ð¾ ÐºÐ¾Ñ\\x80Ð¾Ð»Ñ\\x8f. Ð\\x92Ñ\\x8b Ñ\\x82Ð°Ðº ÐºÑ\\x80Ð°Ñ\\x81Ð½Ð¾Ñ\\x80ÐµÑ\\x87Ð¸Ð²Ñ\\x8b. Ð\\x92Ñ\\x8b Ð´Ð°Ð´Ð¸Ñ\\x82Ðµ Ð¼Ð½Ðµ Ñ\\x87Ð°Ñ\\x8e?\\nâ\\x80\\x94 Ð¡ÐµÐ¹Ñ\\x87Ð°Ñ\\x81. A propos, â\\x80\\x94 Ð¿Ñ\\x80Ð¸Ð±Ð°Ð²Ð¸Ð»Ð° Ð¾Ð½Ð°, Ð¾Ð¿Ñ\\x8fÑ\\x82Ñ\\x8c Ñ\\x83Ñ\\x81Ð¿Ð¾ÐºÐ¾Ð¸Ð²Ð°Ñ\\x8fÑ\\x81Ñ\\x8c, â\\x80\\x94 Ð½Ñ\\x8bÐ½Ñ\\x87Ðµ Ñ\\x83 Ð¼ÐµÐ½Ñ\\x8f Ð´Ð²Ð° Ð¾Ñ\\x87ÐµÐ½Ñ\\x8c Ð¸Ð½Ñ\\x82ÐµÑ\\x80ÐµÑ\\x81Ð½Ñ\\x8bÐµ Ñ\\x87ÐµÐ»Ð¾Ð²ÐµÐºÐ°, le vicomte de Mortemart, il est alliÃ© aux Montmorency par les Rohans, Ð¾Ð´Ð½Ð° Ð¸Ð· Ð»Ñ\\x83Ñ\\x87Ñ\\x88Ð¸Ñ\\x85 Ñ\\x84Ð°Ð¼Ð¸Ð»Ð¸Ð¹ Ð¤Ñ\\x80Ð°Ð½Ñ\\x86Ð¸Ð¸. Ð\\xadÑ\\x82Ð¾ Ð¾Ð´Ð¸Ð½ Ð¸Ð· Ñ\\x85Ð¾Ñ\\x80Ð¾Ñ\\x88Ð¸Ñ\\x85 Ñ\\x8dÐ¼Ð¸Ð³Ñ\\x80Ð°Ð½Ñ\\x82Ð¾Ð², Ð¸Ð· Ð½Ð°Ñ\\x81Ñ\\x82Ð¾Ñ\\x8fÑ\\x89Ð¸Ñ\\x85. Ð\\x98 Ð¿Ð¾Ñ\\x82Ð¾Ð¼ l'abbÃ© Morio; Ð²Ñ\\x8b Ð·Ð½Ð°ÐµÑ\\x82Ðµ Ñ\\x8dÑ\\x82Ð¾Ñ\\x82 Ð³Ð»Ñ\\x83Ð±Ð¾ÐºÐ¸Ð¹ Ñ\\x83Ð¼? Ð\\x9eÐ½ Ð±Ñ\\x8bÐ» Ð¿Ñ\\x80Ð¸Ð½Ñ\\x8fÑ\\x82 Ð³Ð¾Ñ\\x81Ñ\\x83Ð´Ð°Ñ\\x80ÐµÐ¼. Ð\\x92Ñ\\x8b Ð·Ð½Ð°ÐµÑ\\x82Ðµ?\\nâ\\x80\\x94 Ð\\x90! Ð¯ Ð¾Ñ\\x87ÐµÐ½Ñ\\x8c Ñ\\x80Ð°Ð´ Ð±Ñ\\x83Ð´Ñ\\x83, â\\x80\\x94 Ñ\\x81ÐºÐ°Ð·Ð°Ð» ÐºÐ½Ñ\\x8fÐ·Ñ\\x8c. â\\x80\\x94 Ð¡ÐºÐ°Ð¶Ð¸Ñ\\x82Ðµ, â\\x80\\x94 Ð¿Ñ\\x80Ð¸Ð±Ð°Ð²Ð¸Ð» Ð¾Ð½, ÐºÐ°Ðº Ð±Ñ\\x83Ð´Ñ\\x82Ð¾ Ñ\\x82Ð¾Ð»Ñ\\x8cÐºÐ¾ Ñ\\x87Ñ\\x82Ð¾ Ð²Ñ\\x81Ð¿Ð¾Ð¼Ð½Ð¸Ð² Ñ\\x87Ñ\\x82Ð¾-Ñ\\x82Ð¾ Ð¸ Ð¾Ñ\\x81Ð¾Ð±ÐµÐ½Ð½Ð¾-Ð½ÐµÐ±Ñ\\x80ÐµÐ¶Ð½Ð¾, Ñ\\x82Ð¾Ð³Ð´Ð° ÐºÐ°Ðº Ñ\\x82Ð¾, Ð¾ Ñ\\x87ÐµÐ¼ Ð¾Ð½ Ñ\\x81Ð¿Ñ\\x80Ð°Ñ\\x88Ð¸Ð²Ð°Ð», Ð±Ñ\\x8bÐ»Ð¾ Ð³Ð»Ð°Ð²Ð½Ð¾Ð¹ Ñ\\x86ÐµÐ»Ñ\\x8cÑ\\x8e ÐµÐ³Ð¾ Ð¿Ð¾Ñ\\x81ÐµÑ\\x89ÐµÐ½Ð¸Ñ\\x8f, â\\x80\\x94 Ð¿Ñ\\x80Ð°Ð²Ð´Ð°, Ñ\\x87Ñ\\x82Ð¾ l'impÃ©ratrice-mÃ¨re Ð¶ÐµÐ»Ð°ÐµÑ\\x82 Ð½Ð°Ð·Ð½Ð°Ñ\\x87ÐµÐ½Ð¸Ñ\\x8f Ð±Ð°Ñ\\x80Ð¾Ð½Ð° Ð¤Ñ\\x83Ð½ÐºÐµ Ð¿ÐµÑ\\x80Ð²Ñ\\x8bÐ¼ Ñ\\x81ÐµÐºÑ\\x80ÐµÑ\\x82Ð°Ñ\\x80ÐµÐ¼ Ð² Ð\\x92ÐµÐ½Ñ\\x83? C'est un pauvre sire, ce baron, Ã\\xa0 ce qu'il paraÃ®t. â\\x80\\x94 Ð\\x9aÐ½Ñ\\x8fÐ·Ñ\\x8c Ð\\x92Ð°Ñ\\x81Ð¸Ð»Ð¸Ð¹ Ð¶ÐµÐ»Ð°Ð» Ð¾Ð¿Ñ\\x80ÐµÐ´ÐµÐ»Ð¸Ñ\\x82Ñ\\x8c Ñ\\x81Ñ\\x8bÐ½Ð° Ð½Ð° Ñ\\x8dÑ\\x82Ð¾ Ð¼ÐµÑ\\x81Ñ\\x82Ð¾, ÐºÐ¾Ñ\\x82Ð¾Ñ\\x80Ð¾Ðµ Ñ\\x87ÐµÑ\\x80ÐµÐ· Ð¸Ð¼Ð¿ÐµÑ\\x80Ð°Ñ\\x82Ñ\\x80Ð¸Ñ\\x86Ñ\\x83 Ð\\x9cÐ°Ñ\\x80Ð¸Ñ\\x8e Ð¤ÐµÐ¾Ð´Ð¾Ñ\\x80Ð¾Ð²Ð½Ñ\\x83 Ñ\\x81Ñ\\x82Ð°Ñ\\x80Ð°Ð»Ð¸Ñ\\x81Ñ\\x8c Ð´Ð¾Ñ\\x81Ñ\\x82Ð°Ð²Ð¸Ñ\\x82Ñ\\x8c Ð±Ð°Ñ\\x80Ð¾Ð½Ñ\\x83.\\nÐ\\x90Ð½Ð½Ð° Ð\\x9fÐ°Ð²Ð»Ð¾Ð²Ð½Ð° Ð¿Ð¾Ñ\\x87Ñ\\x82Ð¸ Ð·Ð°ÐºÑ\\x80Ñ\\x8bÐ»Ð° Ð³Ð»Ð°Ð·Ð° Ð² Ð·Ð½Ð°Ðº Ñ\\x82Ð¾Ð³Ð¾, Ñ\\x87Ñ\\x82Ð¾ Ð½Ð¸ Ð¾Ð½Ð°, Ð½Ð¸ ÐºÑ\\x82Ð¾ Ð´Ñ\\x80Ñ\\x83Ð³Ð¾Ð¹ Ð½Ðµ Ð¼Ð¾Ð³Ñ\\x83Ñ\\x82 Ñ\\x81Ñ\\x83Ð´Ð¸Ñ\\x82Ñ\\x8c Ð¿Ñ\\x80Ð¾ Ñ\\x82Ð¾, Ñ\\x87Ñ\\x82Ð¾ Ñ\\x83Ð³Ð¾Ð´Ð½Ð¾ Ð¸Ð»Ð¸ Ð½Ñ\\x80Ð°Ð²Ð¸Ñ\\x82Ñ\\x81Ñ\\x8f Ð¸Ð¼Ð¿ÐµÑ\\x80Ð°Ñ\\x82Ñ\\x80Ð¸Ñ\\x86Ðµ.\\nâ\\x80\\x94 Monsieur le baron de Funke a Ã©tÃ© recommandÃ© Ã\\xa0 l'impÃ©ratrice-mÃ¨re par sa sur, â\\x80\\x94 Ñ\\x82Ð¾Ð»Ñ\\x8cÐºÐ¾ Ñ\\x81ÐºÐ°Ð·Ð°Ð»Ð° Ð¾Ð½Ð° Ð³Ñ\\x80Ñ\\x83Ñ\\x81Ñ\\x82Ð½Ñ\\x8bÐ¼, Ñ\\x81Ñ\\x83Ñ\\x85Ð¸Ð¼ Ñ\\x82Ð¾Ð½Ð¾Ð¼. Ð\\x92 Ñ\\x82Ð¾ Ð²Ñ\\x80ÐµÐ¼Ñ\\x8f ÐºÐ°Ðº Ð\\x90Ð½Ð½Ð° Ð\\x9fÐ°Ð²Ð»Ð¾Ð²Ð½Ð° Ð½Ð°Ð·Ð²Ð°Ð»Ð° Ð¸Ð¼Ð¿ÐµÑ\\x80Ð°Ñ\\x82Ñ\\x80Ð¸Ñ\\x86Ñ\\x83, Ð»Ð¸Ñ\\x86Ð¾ ÐµÐµ Ð²Ð´Ñ\\x80Ñ\\x83Ð³ Ð¿Ñ\\x80ÐµÐ´Ñ\\x81Ñ\\x82Ð°Ð²Ð¸Ð»Ð¾ Ð³Ð»Ñ\\x83Ð±Ð¾ÐºÐ¾Ðµ Ð¸ Ð¸Ñ\\x81ÐºÑ\\x80ÐµÐ½Ð½ÐµÐµ Ð²Ñ\\x8bÑ\\x80Ð°Ð¶ÐµÐ½Ð¸Ðµ Ð¿Ñ\\x80ÐµÐ´Ð°Ð½Ð½Ð¾Ñ\\x81Ñ\\x82Ð¸ Ð¸ Ñ\\x83Ð²Ð°Ð¶ÐµÐ½Ð¸Ñ\\x8f, Ñ\\x81Ð¾ÐµÐ´Ð¸Ð½ÐµÐ½Ð½Ð¾Ðµ Ñ\\x81 Ð³Ñ\\x80Ñ\\x83Ñ\\x81Ñ\\x82Ñ\\x8cÑ\\x8e, Ñ\\x87Ñ\\x82Ð¾ Ñ\\x81 Ð½ÐµÐ¹ Ð±Ñ\\x8bÐ²Ð°Ð»Ð¾ ÐºÐ°Ð¶Ð´Ñ\\x8bÐ¹ Ñ\\x80Ð°Ð·, ÐºÐ¾Ð³Ð´Ð° Ð¾Ð½Ð° Ð² Ñ\\x80Ð°Ð·Ð³Ð¾Ð²Ð¾Ñ\\x80Ðµ Ñ\\x83Ð¿Ð¾Ð¼Ð¸Ð½Ð°Ð»Ð° Ð¾ Ñ\\x81Ð²Ð¾ÐµÐ¹ Ð²Ñ\\x8bÑ\\x81Ð¾ÐºÐ¾Ð¹ Ð¿Ð¾ÐºÑ\\x80Ð¾Ð²Ð¸Ñ\\x82ÐµÐ»Ñ\\x8cÐ½Ð¸Ñ\\x86Ðµ. Ð\\x9eÐ½Ð° Ñ\\x81ÐºÐ°Ð·Ð°Ð»Ð°, Ñ\\x87Ñ\\x82Ð¾ ÐµÐµ Ð²ÐµÐ»Ð¸Ñ\\x87ÐµÑ\\x81Ñ\\x82Ð²Ð¾ Ð¸Ð·Ð²Ð¾Ð»Ð¸Ð»Ð° Ð¾ÐºÐ°Ð·Ð°Ñ\\x82Ñ\\x8c Ð±Ð°Ñ\\x80Ð¾Ð½Ñ\\x83 Ð¤Ñ\\x83Ð½ÐºÐµ beaucoup d'estime, Ð¸ Ð¾Ð¿Ñ\\x8fÑ\\x82Ñ\\x8c Ð²Ð·Ð³Ð»Ñ\\x8fÐ´ ÐµÐµ Ð¿Ð¾Ð´ÐµÑ\\x80Ð½Ñ\\x83Ð»Ñ\\x81Ñ\\x8f Ð³Ñ\\x80Ñ\\x83Ñ\\x81Ñ\\x82Ñ\\x8cÑ\\x8e.\\nÐ\\x9aÐ½Ñ\\x8fÐ·Ñ\\x8c Ñ\\x80Ð°Ð²Ð½Ð¾Ð´Ñ\\x83Ñ\\x88Ð½Ð¾ Ð·Ð°Ð¼Ð¾Ð»Ðº, Ð\\x90Ð½Ð½Ð° Ð\\x9fÐ°Ð²Ð»Ð¾Ð²Ð½Ð°, Ñ\\x81 Ñ\\x81Ð²Ð¾Ð¹Ñ\\x81Ñ\\x82Ð²ÐµÐ½Ð½Ð¾Ñ\\x8e ÐµÐ¹ Ð¿Ñ\\x80Ð¸Ð´Ð²Ð¾Ñ\\x80Ð½Ð¾Ñ\\x8e Ð¸ Ð¶ÐµÐ½Ñ\\x81ÐºÐ¾Ñ\\x8e Ð»Ð¾Ð²ÐºÐ¾Ñ\\x81Ñ\\x82Ñ\\x8cÑ\\x8e Ð¸ Ð±Ñ\\x8bÑ\\x81Ñ\\x82Ñ\\x80Ð¾Ñ\\x82Ð¾Ñ\\x8e Ñ\\x82Ð°ÐºÑ\\x82Ð°, Ð·Ð°Ñ\\x85Ð¾Ñ\\x82ÐµÐ»Ð° Ð¸ Ñ\\x89ÐµÐ»ÐºÐ°Ð½Ñ\\x83Ñ\\x82Ñ\\x8c ÐºÐ½Ñ\\x8fÐ·Ñ\\x8f Ð·Ð° Ñ\\x82Ð¾, Ñ\\x87Ñ\\x82Ð¾ Ð¾Ð½ Ð´ÐµÑ\\x80Ð·Ð½Ñ\\x83Ð» Ñ\\x82Ð°Ðº Ð¾Ñ\\x82Ð¾Ð·Ð²Ð°Ñ\\x82Ñ\\x8cÑ\\x81Ñ\\x8f Ð¾ Ð»Ð¸Ñ\\x86Ðµ, Ñ\\x80ÐµÐºÐ¾Ð¼ÐµÐ½Ð´Ð¾Ð²Ð°Ð½Ð½Ð¾Ð¼ Ð¸Ð¼Ð¿ÐµÑ\\x80Ð°Ñ\\x82Ñ\\x80Ð¸Ñ\\x86Ðµ, Ð¸ Ð² Ñ\\x82Ð¾ Ð¶Ðµ Ð²Ñ\\x80ÐµÐ¼Ñ\\x8f Ñ\\x83Ñ\\x82ÐµÑ\\x88Ð¸Ñ\\x82Ñ\\x8c ÐµÐ³Ð¾.\\nâ\\x80\\x94 Mais Ã\\xa0 propos de votre famille, â\\x80\\x94 Ñ\\x81ÐºÐ°Ð·Ð°Ð»Ð° Ð¾Ð½Ð°, â\\x80\\x94 Ð·Ð½Ð°ÐµÑ\\x82Ðµ Ð»Ð¸, Ñ\\x87Ñ\\x82Ð¾ Ð²Ð°Ñ\\x88Ð° Ð´Ð¾Ñ\\x87Ñ\\x8c, Ñ\\x81 Ñ\\x82ÐµÑ\\x85 Ð¿Ð¾Ñ\\x80 ÐºÐ°Ðº Ð²Ñ\\x8bÐµÐ·Ð¶Ð°ÐµÑ\\x82, fait les dÃ©lices de tout le monde. On la trouve belle comme le jour.\\nÐ\\x9aÐ½Ñ\\x8fÐ·Ñ\\x8c Ð½Ð°ÐºÐ»Ð¾Ð½Ð¸Ð»Ñ\\x81Ñ\\x8f Ð² Ð·Ð½Ð°Ðº Ñ\\x83Ð²Ð°Ð¶ÐµÐ½Ð¸Ñ\\x8f Ð¸ Ð¿Ñ\\x80Ð¸Ð·Ð½Ð°Ñ\\x82ÐµÐ»Ñ\\x8cÐ½Ð¾Ñ\\x81Ñ\\x82Ð¸.\\nâ\\x80\\x94 Ð¯ Ñ\\x87Ð°Ñ\\x81Ñ\\x82Ð¾ Ð´Ñ\\x83Ð¼Ð°Ñ\\x8e, â\\x80\\x94 Ð¿Ñ\\x80Ð¾Ð´Ð¾Ð»Ð¶Ð°Ð»Ð° Ð\\x90Ð½Ð½Ð° Ð\\x9fÐ°Ð²Ð»Ð¾Ð²Ð½Ð° Ð¿Ð¾Ñ\\x81Ð»Ðµ Ð¼Ð¸Ð½Ñ\\x83Ñ\\x82Ð½Ð¾Ð³Ð¾ Ð¼Ð¾Ð»Ñ\\x87Ð°Ð½Ð¸Ñ\\x8f, Ð¿Ñ\\x80Ð¸Ð´Ð²Ð¸Ð³Ð°Ñ\\x8fÑ\\x81Ñ\\x8c Ðº ÐºÐ½Ñ\\x8fÐ·Ñ\\x8e Ð¸ Ð»Ð°Ñ\\x81ÐºÐ¾Ð²Ð¾ Ñ\\x83Ð»Ñ\\x8bÐ±Ð°Ñ\\x8fÑ\\x81Ñ\\x8c ÐµÐ¼Ñ\\x83, ÐºÐ°Ðº Ð±Ñ\\x83Ð´Ñ\\x82Ð¾ Ð²Ñ\\x8bÐºÐ°Ð·Ñ\\x8bÐ²Ð°Ñ\\x8f Ñ\\x8dÑ\\x82Ð¸Ð¼, Ñ\\x87Ñ\\x82Ð¾ Ð¿Ð¾Ð»Ð¸Ñ\\x82Ð¸Ñ\\x87ÐµÑ\\x81ÐºÐ¸Ðµ Ð¸ Ñ\\x81Ð²ÐµÑ\\x82Ñ\\x81ÐºÐ¸Ðµ Ñ\\x80Ð°Ð·Ð³Ð¾Ð²Ð¾Ñ\\x80Ñ\\x8b ÐºÐ¾Ð½Ñ\\x87ÐµÐ½Ñ\\x8b Ð¸ Ñ\\x82ÐµÐ¿ÐµÑ\\x80Ñ\\x8c Ð½Ð°Ñ\\x87Ð¸Ð½Ð°ÐµÑ\\x82Ñ\\x81Ñ\\x8f Ð·Ð°Ð´Ñ\\x83Ñ\\x88ÐµÐ²Ð½Ñ\\x8bÐ¹, â\\x80\\x94 Ñ\\x8f Ñ\\x87Ð°Ñ\\x81Ñ\\x82Ð¾ Ð´Ñ\\x83Ð¼Ð°Ñ\\x8e, ÐºÐ°Ðº Ð¸Ð½Ð¾Ð³Ð´Ð° Ð½ÐµÑ\\x81Ð¿Ñ\\x80Ð°Ð²ÐµÐ´Ð»Ð¸Ð²Ð¾ Ñ\\x80Ð°Ñ\\x81Ð¿Ñ\\x80ÐµÐ´ÐµÐ»Ñ\\x8fÐµÑ\\x82Ñ\\x81Ñ\\x8f Ñ\\x81Ñ\\x87Ð°Ñ\\x81Ñ\\x82Ð¸Ðµ Ð¶Ð¸Ð·Ð½Ð¸. Ð\\x97Ð° Ñ\\x87Ñ\\x82Ð¾ Ð²Ð°Ð¼ Ð´Ð°Ð»Ð° Ñ\\x81Ñ\\x83Ð´Ñ\\x8cÐ±Ð° Ñ\\x82Ð°ÐºÐ¸Ñ\\x85 Ð´Ð²Ñ\\x83Ñ\\x85 Ñ\\x81Ð»Ð°Ð²Ð½Ñ\\x8bÑ\\x85 Ð´ÐµÑ\\x82ÐµÐ¹ (Ð¸Ñ\\x81ÐºÐ»Ñ\\x8eÑ\\x87Ð°Ñ\\x8f Ð\\x90Ð½Ð°Ñ\\x82Ð¾Ð»Ñ\\x8f, Ð²Ð°Ñ\\x88ÐµÐ³Ð¾ Ð¼ÐµÐ½Ñ\\x8cÑ\\x88Ð¾Ð³Ð¾, Ñ\\x8f ÐµÐ³Ð¾ Ð½Ðµ Ð»Ñ\\x8eÐ±Ð»Ñ\\x8e, â\\x80\\x94 Ð²Ñ\\x81Ñ\\x82Ð°Ð²Ð¸Ð»Ð° Ð¾Ð½Ð° Ð±ÐµÐ·Ð°Ð¿ÐµÐ»Ð»Ñ\\x8fÑ\\x86Ð¸Ð¾Ð½Ð½Ð¾, Ð¿Ñ\\x80Ð¸Ð¿Ð¾Ð´Ð½Ñ\\x8fÐ² Ð±Ñ\\x80Ð¾Ð²Ð¸), â\\x80\\x94 Ñ\\x82Ð°ÐºÐ¸Ñ\\x85 Ð¿Ñ\\x80ÐµÐ»ÐµÑ\\x81Ñ\\x82Ð½Ñ\\x8bÑ\\x85 Ð´ÐµÑ\\x82ÐµÐ¹? Ð\\x90 Ð²Ñ\\x8b, Ð¿Ñ\\x80Ð°Ð²Ð¾, Ð¼ÐµÐ½ÐµÐµ Ð²Ñ\\x81ÐµÑ\\x85 Ñ\\x86ÐµÐ½Ð¸Ñ\\x82Ðµ Ð¸Ñ\\x85 Ð¸ Ð¿Ð¾Ñ\\x82Ð¾Ð¼Ñ\\x83 Ð¸Ñ\\x85 Ð½Ðµ Ñ\\x81Ñ\\x82Ð¾Ì\\x81Ð¸Ñ\\x82Ðµ.\\nÐ\\x98 Ð¾Ð½Ð° Ñ\\x83Ð»Ñ\\x8bÐ±Ð½Ñ\\x83Ð»Ð°Ñ\\x81Ñ\\x8c Ñ\\x81Ð²Ð¾ÐµÑ\\x8e Ð²Ð¾Ñ\\x81Ñ\\x82Ð¾Ñ\\x80Ð¶ÐµÐ½Ð½Ð¾Ð¹ Ñ\\x83Ð»Ñ\\x8bÐ±ÐºÐ¾Ð¹.\\nâ\\x80\\x94 Que voulez-vous? Lafater aurait dit que je n'ai pas la bosse de la paternitÃ©, â\\x80\\x94 Ñ\\x81ÐºÐ°Ð·Ð°Ð» ÐºÐ½Ñ\\x8fÐ·Ñ\\x8c.\\nâ\\x80\\x94 Ð\\x9fÐµÑ\\x80ÐµÑ\\x81Ñ\\x82Ð°Ð½Ñ\\x8cÑ\\x82Ðµ Ñ\\x88Ñ\\x83Ñ\\x82Ð¸Ñ\\x82Ñ\\x8c. Ð¯ Ñ\\x85Ð¾Ñ\\x82ÐµÐ»Ð° Ñ\\x81ÐµÑ\\x80Ñ\\x8cÐµÐ·Ð½Ð¾ Ð¿Ð¾Ð³Ð¾Ð²Ð¾Ñ\\x80Ð¸Ñ\\x82Ñ\\x8c Ñ\\x81 Ð²Ð°Ð¼Ð¸. Ð\\x97Ð½Ð°ÐµÑ\\x82Ðµ, Ñ\\x8f Ð½ÐµÐ´Ð¾Ð²Ð¾Ð»Ñ\\x8cÐ½Ð° Ð²Ð°Ñ\\x88Ð¸Ð¼ Ð¼ÐµÐ½Ñ\\x8cÑ\\x88Ð¸Ð¼ Ñ\\x81Ñ\\x8bÐ½Ð¾Ð¼. Ð\\x9cÐµÐ¶Ð´Ñ\\x83 Ð½Ð°Ð¼Ð¸ Ð±Ñ\\x83Ð´Ñ\\x8c Ñ\\x81ÐºÐ°Ð·Ð°Ð½Ð¾ (Ð»Ð¸Ñ\\x86Ð¾ ÐµÐµ Ð¿Ñ\\x80Ð¸Ð½Ñ\\x8fÐ»Ð¾ Ð³Ñ\\x80Ñ\\x83Ñ\\x81Ñ\\x82Ð½Ð¾Ðµ Ð²Ñ\\x8bÑ\\x80Ð°Ð¶ÐµÐ½Ð¸Ðµ), Ð¾ Ð½ÐµÐ¼ Ð³Ð¾Ð²Ð¾Ñ\\x80Ð¸Ð»Ð¸ Ñ\\x83 ÐµÐµ Ð²ÐµÐ»Ð¸Ñ\\x87ÐµÑ\\x81Ñ\\x82Ð²Ð° Ð¸ Ð¶Ð°Ð»ÐµÑ\\x8eÑ\\x82 Ð²Ð°Ñ\\x81...\\nÐ\\x9aÐ½Ñ\\x8fÐ·Ñ\\x8c Ð½Ðµ Ð¾Ñ\\x82Ð²ÐµÑ\\x87Ð°Ð», Ð½Ð¾ Ð¾Ð½Ð° Ð¼Ð¾Ð»Ñ\\x87Ð°, Ð·Ð½Ð°Ñ\\x87Ð¸Ñ\\x82ÐµÐ»Ñ\\x8cÐ½Ð¾ Ð³Ð»Ñ\\x8fÐ´Ñ\\x8f Ð½Ð° Ð½ÐµÐ³Ð¾, Ð¶Ð´Ð°Ð»Ð° Ð¾Ñ\\x82Ð²ÐµÑ\\x82Ð°. Ð\\x9aÐ½Ñ\\x8fÐ·Ñ\\x8c Ð\\x92Ð°Ñ\\x81Ð¸Ð»Ð¸Ð¹ Ð¿Ð¾Ð¼Ð¾Ñ\\x80Ñ\\x89Ð¸Ð»Ñ\\x81Ñ\\x8f.\\nâ\\x80\\x94 Ð§Ñ\\x82Ð¾ Ð¶ Ð¼Ð½Ðµ Ð´ÐµÐ»Ð°Ñ\\x82Ñ\\x8c? â\\x80\\x94 Ñ\\x81ÐºÐ°Ð·Ð°Ð» Ð¾Ð½ Ð½Ð°ÐºÐ¾Ð½ÐµÑ\\x86. â\\x80\\x94 Ð\\x92Ñ\\x8b Ð·Ð½Ð°ÐµÑ\\x82Ðµ, Ñ\\x8f Ñ\\x81Ð´ÐµÐ»Ð°Ð» Ð´Ð»Ñ\\x8f Ð¸Ñ\\x85 Ð²Ð¾Ñ\\x81Ð¿Ð¸Ñ\\x82Ð°Ð½Ð¸Ñ\\x8f Ð²Ñ\\x81Ðµ, Ñ\\x87Ñ\\x82Ð¾ Ð¼Ð¾Ð¶ÐµÑ\\x82 Ð¾Ñ\\x82ÐµÑ\\x86, Ð¸ Ð¾Ð±Ð° Ð²Ñ\\x8bÑ\\x88Ð»Ð¸ des imbÃ©ciles. Ð\\x98Ð¿Ð¿Ð¾Ð»Ð¸Ñ\\x82, Ð¿Ð¾ ÐºÑ\\x80Ð°Ð¹Ð½ÐµÐ¹ Ð¼ÐµÑ\\x80Ðµ, Ð¿Ð¾ÐºÐ¾Ð¹Ð½Ñ\\x8bÐ¹ Ð´Ñ\\x83Ñ\\x80Ð°Ðº, Ð° Ð\\x90Ð½Ð°Ñ\\x82Ð¾Ð»Ñ\\x8c â\\x80\\x94 Ð±ÐµÑ\\x81Ð¿Ð¾ÐºÐ¾Ð¹Ð½Ñ\\x8bÐ¹. Ð\\x92Ð¾Ñ\\x82 Ð¾Ð´Ð½Ð¾ Ñ\\x80Ð°Ð·Ð»Ð¸Ñ\\x87Ð¸Ðµ, â\\x80\\x94 Ñ\\x81ÐºÐ°Ð·Ð°Ð» Ð¾Ð½, Ñ\\x83Ð»Ñ\\x8bÐ±Ð°Ñ\\x8fÑ\\x81Ñ\\x8c Ð±Ð¾Ð»ÐµÐµ Ð½ÐµÐµÑ\\x81Ñ\\x82ÐµÑ\\x81Ñ\\x82Ð²ÐµÐ½Ð½Ð¾ Ð¸ Ð¾Ð´Ñ\\x83Ñ\\x88ÐµÐ²Ð»ÐµÐ½Ð½Ð¾, Ñ\\x87ÐµÐ¼ Ð¾Ð±Ñ\\x8bÐºÐ½Ð¾Ð²ÐµÐ½Ð½Ð¾, Ð¸ Ð¿Ñ\\x80Ð¸ Ñ\\x8dÑ\\x82Ð¾Ð¼ Ð¾Ñ\\x81Ð¾Ð±ÐµÐ½Ð½Ð¾ Ñ\\x80ÐµÐ·ÐºÐ¾ Ð²Ñ\\x8bÐºÐ°Ð·Ñ\\x8bÐ²Ð°Ñ\\x8f Ð² Ñ\\x81Ð»Ð¾Ð¶Ð¸Ð²Ñ\\x88Ð¸Ñ\\x85Ñ\\x81Ñ\\x8f Ð¾ÐºÐ¾Ð»Ð¾ ÐµÐ³Ð¾ Ñ\\x80Ñ\\x82Ð° Ð¼Ð¾Ñ\\x80Ñ\\x89Ð¸Ð½Ð°Ñ\\x85 Ñ\\x87Ñ\\x82Ð¾-Ñ\\x82Ð¾ Ð½ÐµÐ¾Ð¶Ð¸Ð´Ð°Ð½Ð½Ð¾-Ð³Ñ\\x80Ñ\\x83Ð±Ð¾Ðµ Ð¸ Ð½ÐµÐ¿Ñ\\x80Ð¸Ñ\\x8fÑ\\x82Ð½Ð¾Ðµ.\\nâ\\x80\\x94 Ð\\x98 Ð·Ð°Ñ\\x87ÐµÐ¼ Ñ\\x80Ð¾Ð´Ñ\\x8fÑ\\x82Ñ\\x81Ñ\\x8f Ð´ÐµÑ\\x82Ð¸ Ñ\\x83 Ñ\\x82Ð°ÐºÐ¸Ñ\\x85 Ð»Ñ\\x8eÐ´ÐµÐ¹, ÐºÐ°Ðº Ð²Ñ\\x8b? Ð\\x95Ð¶ÐµÐ»Ð¸ Ð±Ñ\\x8b Ð²Ñ\\x8b Ð½Ðµ Ð±Ñ\\x8bÐ»Ð¸ Ð¾Ñ\\x82ÐµÑ\\x86, Ñ\\x8f Ð±Ñ\\x8b Ð½Ð¸ Ð² Ñ\\x87ÐµÐ¼ Ð½Ðµ Ð¼Ð¾Ð³Ð»Ð° Ñ\\x83Ð¿Ñ\\x80ÐµÐºÐ½Ñ\\x83Ñ\\x82Ñ\\x8c Ð²Ð°Ñ\\x81, â\\x80\\x94 Ñ\\x81ÐºÐ°Ð·Ð°Ð»Ð° Ð\\x90Ð½Ð½Ð° Ð\\x9fÐ°Ð²Ð»Ð¾Ð²Ð½Ð°, Ð·Ð°Ð´Ñ\\x83Ð¼Ñ\\x87Ð¸Ð²Ð¾ Ð¿Ð¾Ð´Ð½Ð¸Ð¼Ð°Ñ\\x8f Ð³Ð»Ð°Ð·Ð°.\\nâ\\x80\\x94 Je suis votre Ð²ÐµÑ\\x80Ð½Ñ\\x8bÐ¹ Ñ\\x80Ð°Ð±, et Ã\\xa0 vous seule je puis l'avouer. Ð\\x9cÐ¾Ð¸ Ð´ÐµÑ\\x82Ð¸ â\\x80\\x94 ce sont les entraves de mon existence. Ð\\xadÑ\\x82Ð¾ Ð¼Ð¾Ð¹ ÐºÑ\\x80ÐµÑ\\x81Ñ\\x82. Ð¯ Ñ\\x82Ð°Ðº Ñ\\x81ÐµÐ±Ðµ Ð¾Ð±Ñ\\x8aÑ\\x8fÑ\\x81Ð½Ñ\\x8fÑ\\x8e. Que voulez-vous?..â\\x80\\x94 Ð\\x9eÐ½ Ð¿Ð¾Ð¼Ð¾Ð»Ñ\\x87Ð°Ð», Ð²Ñ\\x8bÑ\\x80Ð°Ð¶Ð°Ñ\\x8f Ð¶ÐµÑ\\x81Ñ\\x82Ð¾Ð¼ Ñ\\x81Ð²Ð¾Ñ\\x8e Ð¿Ð¾ÐºÐ¾Ñ\\x80Ð½Ð¾Ñ\\x81Ñ\\x82Ñ\\x8c Ð¶ÐµÑ\\x81Ñ\\x82Ð¾ÐºÐ¾Ð¹ Ñ\\x81Ñ\\x83Ð´Ñ\\x8cÐ±Ðµ.\\nÐ\\x90Ð½Ð½Ð° Ð\\x9fÐ°Ð²Ð»Ð¾Ð²Ð½Ð° Ð·Ð°Ð´Ñ\\x83Ð¼Ð°Ð»Ð°Ñ\\x81Ñ\\x8c.\\nâ\\x80\\x94 Ð\\x92Ñ\\x8b Ð½Ð¸ÐºÐ¾Ð³Ð´Ð° Ð½Ðµ Ð´Ñ\\x83Ð¼Ð°Ð»Ð¸ Ð¾ Ñ\\x82Ð¾Ð¼, Ñ\\x87Ñ\\x82Ð¾Ð±Ñ\\x8b Ð¶ÐµÐ½Ð¸Ñ\\x82Ñ\\x8c Ð²Ð°Ñ\\x88ÐµÐ³Ð¾ Ð±Ð»Ñ\\x83Ð´Ð½Ð¾Ð³Ð¾ Ñ\\x81Ñ\\x8bÐ½Ð° Ð\\x90Ð½Ð°Ñ\\x82Ð¾Ð»Ñ\\x8f. Ð\\x93Ð¾Ð²Ð¾Ñ\\x80Ñ\\x8fÑ\\x82, â\\x80\\x94 Ñ\\x81ÐºÐ°Ð·Ð°Ð»Ð° Ð¾Ð½Ð°, â\\x80\\x94 Ñ\\x87Ñ\\x82Ð¾ Ñ\\x81Ñ\\x82Ð°Ñ\\x80Ñ\\x8bÐµ Ð´ÐµÐ²Ð¸Ñ\\x86Ñ\\x8b ont la manie des mariages. Ð¯ ÐµÑ\\x89Ðµ Ð½Ðµ Ñ\\x87Ñ\\x83Ð²Ñ\\x81Ñ\\x82Ð²Ñ\\x83Ñ\\x8e Ð·Ð° Ñ\\x81Ð¾Ð±Ð¾Ñ\\x8e Ñ\\x8dÑ\\x82Ð¾Ð¹ Ñ\\x81Ð»Ð°Ð±Ð¾Ñ\\x81Ñ\\x82Ð¸, Ð½Ð¾ Ñ\\x83 Ð¼ÐµÐ½Ñ\\x8f ÐµÑ\\x81Ñ\\x82Ñ\\x8c Ð¾Ð´Ð½Ð° petite personne, ÐºÐ¾Ñ\\x82Ð¾Ñ\\x80Ð°Ñ\\x8f Ð¾Ñ\\x87ÐµÐ½Ñ\\x8c Ð½ÐµÑ\\x81Ñ\\x87Ð°Ñ\\x81Ñ\\x82Ð»Ð¸Ð²Ð° Ñ\\x81 Ð¾Ñ\\x82Ñ\\x86Ð¾Ð¼, une parente Ã\\xa0 nous, une princesse Ð\\x91Ð¾Ð»ÐºÐ¾Ð½Ñ\\x81ÐºÐ°Ñ\\x8f. â\\x80\\x94 Ð\\x9aÐ½Ñ\\x8fÐ·Ñ\\x8c Ð\\x92Ð°Ñ\\x81Ð¸Ð»Ð¸Ð¹ Ð½Ðµ Ð¾Ñ\\x82Ð²ÐµÑ\\x87Ð°Ð», Ñ\\x85Ð¾Ñ\\x82Ñ\\x8f Ñ\\x81 Ñ\\x81Ð²Ð¾Ð¹Ñ\\x81Ñ\\x82Ð²ÐµÐ½Ð½Ð¾Ð¹ Ñ\\x81Ð²ÐµÑ\\x82Ñ\\x81ÐºÐ¸Ð¼ Ð»Ñ\\x8eÐ´Ñ\\x8fÐ¼ Ð±Ñ\\x8bÑ\\x81Ñ\\x82Ñ\\x80Ð¾Ñ\\x82Ð¾Ð¹ Ñ\\x81Ð¾Ð¾Ð±Ñ\\x80Ð°Ð¶ÐµÐ½Ð¸Ñ\\x8f Ð¸ Ð¿Ð°Ð¼Ñ\\x8fÑ\\x82Ñ\\x8cÑ\\x8e Ð´Ð²Ð¸Ð¶ÐµÐ½Ð¸ÐµÐ¼ Ð³Ð¾Ð»Ð¾Ð²Ñ\\x8b Ð¿Ð¾ÐºÐ°Ð·Ð°Ð», Ñ\\x87Ñ\\x82Ð¾ Ð¾Ð½ Ð¿Ñ\\x80Ð¸Ð½Ñ\\x8fÐ» Ðº Ñ\\x81Ð¾Ð¾Ð±Ñ\\x80Ð°Ð¶ÐµÐ½Ð¸Ñ\\x8e Ñ\\x8dÑ\\x82Ð¾ Ñ\\x81Ð²ÐµÐ´ÐµÐ½Ñ\\x8cÐµ.\\nâ\\x80\\x94 Ð\\x9dÐµÑ\\x82, Ð²Ñ\\x8b Ð·Ð½Ð°ÐµÑ\\x82Ðµ Ð»Ð¸, Ñ\\x87Ñ\\x82Ð¾ Ñ\\x8dÑ\\x82Ð¾Ñ\\x82 Ð\\x90Ð½Ð°Ñ\\x82Ð¾Ð»Ñ\\x8c Ð¼Ð½Ðµ Ñ\\x81Ñ\\x82Ð¾Ð¸Ñ\\x82 Ñ\\x81Ð¾Ñ\\x80Ð¾Ðº Ñ\\x82Ñ\\x8bÑ\\x81Ñ\\x8fÑ\\x87 Ð² Ð³Ð¾Ð´, â\\x80\\x94 Ñ\\x81ÐºÐ°Ð·Ð°Ð» Ð¾Ð½, Ð²Ð¸Ð´Ð¸Ð¼Ð¾ Ð½Ðµ Ð² Ñ\\x81Ð¸Ð»Ð°Ñ\\x85 Ñ\\x83Ð´ÐµÑ\\x80Ð¶Ð¸Ð²Ð°Ñ\\x82Ñ\\x8c Ð¿ÐµÑ\\x87Ð°Ð»Ñ\\x8cÐ½Ñ\\x8bÐ¹ Ñ\\x85Ð¾Ð´ Ñ\\x81Ð²Ð¾Ð¸Ñ\\x85 Ð¼Ñ\\x8bÑ\\x81Ð»ÐµÐ¹. Ð\\x9eÐ½ Ð¿Ð¾Ð¼Ð¾Ð»Ñ\\x87Ð°Ð».\\nâ\\x80\\x94 Ð§Ñ\\x82Ð¾ Ð±Ñ\\x83Ð´ÐµÑ\\x82 Ñ\\x87ÐµÑ\\x80ÐµÐ· Ð¿Ñ\\x8fÑ\\x82Ñ\\x8c Ð»ÐµÑ\\x82, ÐµÐ¶ÐµÐ»Ð¸ Ñ\\x8dÑ\\x82Ð¾ Ð¿Ð¾Ð¹Ð´ÐµÑ\\x82 Ñ\\x82Ð°Ðº? VoilÃ\\xa0 l'avantage d'Ãªtre pÃ¨re. Ð\\x9eÐ½Ð° Ð±Ð¾Ð³Ð°Ñ\\x82Ð°, Ð²Ð°Ñ\\x88Ð° ÐºÐ½Ñ\\x8fÐ¶Ð½Ð°?\\nâ\\x80\\x94 Ð\\x9eÑ\\x82ÐµÑ\\x86 Ð¾Ñ\\x87ÐµÐ½Ñ\\x8c Ð±Ð¾Ð³Ð°Ñ\\x82 Ð¸ Ñ\\x81ÐºÑ\\x83Ð¿. Ð\\x9eÐ½ Ð¶Ð¸Ð²ÐµÑ\\x82 Ð² Ð´ÐµÑ\\x80ÐµÐ²Ð½Ðµ. Ð\\x97Ð½Ð°ÐµÑ\\x82Ðµ, Ñ\\x8dÑ\\x82Ð¾Ñ\\x82 Ð¸Ð·Ð²ÐµÑ\\x81Ñ\\x82Ð½Ñ\\x8bÐ¹ ÐºÐ½Ñ\\x8fÐ·Ñ\\x8c Ð\\x91Ð¾Ð»ÐºÐ¾Ð½Ñ\\x81ÐºÐ¸Ð¹, Ð¾Ñ\\x82Ñ\\x81Ñ\\x82Ð°Ð²Ð»ÐµÐ½Ð½Ñ\\x8bÐ¹ ÐµÑ\\x89Ðµ Ð¿Ñ\\x80Ð¸ Ð¿Ð¾ÐºÐ¾Ð¹Ð½Ð¾Ð¼ Ð¸Ð¼Ð¿ÐµÑ\\x80Ð°Ñ\\x82Ð¾Ñ\\x80Ðµ Ð¸ Ð¿Ñ\\x80Ð¾Ð·Ð²Ð°Ð½Ð½Ñ\\x8bÐ¹ Ð¿Ñ\\x80Ñ\\x83Ñ\\x81Ñ\\x81ÐºÐ¸Ð¼ ÐºÐ¾Ñ\\x80Ð¾Ð»ÐµÐ¼. Ð\\x9eÐ½ Ð¾Ñ\\x87ÐµÐ½Ñ\\x8c Ñ\\x83Ð¼Ð½Ñ\\x8bÐ¹ Ñ\\x87ÐµÐ»Ð¾Ð²ÐµÐº, Ð½Ð¾ Ñ\\x81Ð¾ Ñ\\x81Ñ\\x82Ñ\\x80Ð°Ð½Ð½Ð¾Ñ\\x81Ñ\\x82Ñ\\x8fÐ¼Ð¸ Ð¸ Ñ\\x82Ñ\\x8fÐ¶ÐµÐ»Ñ\\x8bÐ¹. La pauvre petite est malheureuse comme les pierres. Ð£ Ð½ÐµÐµ Ð±Ñ\\x80Ð°Ñ\\x82, Ð²Ð¾Ñ\\x82 Ñ\\x87Ñ\\x82Ð¾ Ð½ÐµÐ´Ð°Ð²Ð½Ð¾ Ð¶ÐµÐ½Ð¸Ð»Ñ\\x81Ñ\\x8f Ð½Ð° Lise Ð\\x9cÐµÐ¹Ð½ÐµÐ½, Ð°Ð´Ñ\\x8aÑ\\x8eÑ\\x82Ð°Ð½Ñ\\x82 Ð\\x9aÑ\\x83Ñ\\x82Ñ\\x83Ð·Ð¾Ð²Ð°. Ð\\x9eÐ½ Ð±Ñ\\x83Ð´ÐµÑ\\x82 Ð½Ñ\\x8bÐ½Ñ\\x87Ðµ Ñ\\x83 Ð¼ÐµÐ½Ñ\\x8f.\\nâ\\x80\\x94 Ecoutez, chÃ¨re Annette, â\\x80\\x94 Ñ\\x81ÐºÐ°Ð·Ð°Ð» ÐºÐ½Ñ\\x8fÐ·Ñ\\x8c, Ð²Ð·Ñ\\x8fÐ² Ð²Ð´Ñ\\x80Ñ\\x83Ð³ Ñ\\x81Ð²Ð¾Ñ\\x8e Ñ\\x81Ð¾Ð±ÐµÑ\\x81ÐµÐ´Ð½Ð¸Ñ\\x86Ñ\\x83 Ð·Ð° Ñ\\x80Ñ\\x83ÐºÑ\\x83 Ð¸ Ð¿Ñ\\x80Ð¸Ð³Ð¸Ð±Ð°Ñ\\x8f ÐµÐµ Ð¿Ð¾Ñ\\x87ÐµÐ¼Ñ\\x83-Ñ\\x82Ð¾ ÐºÐ½Ð¸Ð·Ñ\\x83. â\\x80\\x94 Arrangez-moi cette affaire et je suis votre Ð²ÐµÑ\\x80Ð½ÐµÐ¹Ñ\\x88Ð¸Ð¹ Ñ\\x80Ð°Ð± Ã\\xa0 tout jamais (Ñ\\x80Ð°Ð¿ â\\x80\\x94 comme mon Ñ\\x81Ñ\\x82Ð°Ñ\\x80Ð¾Ñ\\x81Ñ\\x82Ð° m'Ã©crit des Ð´Ð¾Ð½ÐµÑ\\x81ÐµÐ½Ñ\\x8cÑ\\x8f: Ð¿Ð¾ÐºÐ¾Ð¹-ÐµÑ\\x80-Ð¿). Ð\\x9eÐ½Ð° Ñ\\x85Ð¾Ñ\\x80Ð¾Ñ\\x88ÐµÐ¹ Ñ\\x84Ð°Ð¼Ð¸Ð»Ð¸Ð¸ Ð¸ Ð±Ð¾Ð³Ð°Ñ\\x82Ð°. Ð\\x92Ñ\\x81Ðµ, Ñ\\x87Ñ\\x82Ð¾ Ð¼Ð½Ðµ Ð½Ñ\\x83Ð¶Ð½Ð¾.\\nÐ\\x98 Ð¾Ð½ Ñ\\x81 Ñ\\x82ÐµÐ¼Ð¸ Ñ\\x81Ð²Ð¾Ð±Ð¾Ð´Ð½Ñ\\x8bÐ¼Ð¸ Ð¸ Ñ\\x84Ð°Ð¼Ð¸Ð»Ñ\\x8cÑ\\x8fÑ\\x80Ð½Ñ\\x8bÐ¼Ð¸ Ð³Ñ\\x80Ð°Ñ\\x86Ð¸Ð¾Ð·Ð½Ñ\\x8bÐ¼Ð¸ Ð´Ð²Ð¸Ð¶ÐµÐ½Ð¸Ñ\\x8fÐ¼Ð¸, ÐºÐ¾Ñ\\x82Ð¾Ñ\\x80Ñ\\x8bÐµ ÐµÐ³Ð¾ Ð¾Ñ\\x82Ð»Ð¸Ñ\\x87Ð°Ð»Ð¸, Ð²Ð·Ñ\\x8fÐ» Ð·Ð° Ñ\\x80Ñ\\x83ÐºÑ\\x83 Ñ\\x84Ñ\\x80ÐµÐ¹Ð»Ð¸Ð½Ñ\\x83, Ð¿Ð¾Ñ\\x86ÐµÐ»Ð¾Ð²Ð°Ð» ÐµÐµ Ð¸, Ð¿Ð¾Ñ\\x86ÐµÐ»Ð¾Ð²Ð°Ð², Ð¿Ð¾Ð¼Ð°Ñ\\x85Ð°Ð» Ñ\\x84Ñ\\x80ÐµÐ¹Ð»Ð¸Ð½Ñ\\x81ÐºÐ¾Ñ\\x8e Ñ\\x80Ñ\\x83ÐºÐ¾Ð¹, Ñ\\x80Ð°Ð·Ð²Ð°Ð»Ð¸Ð²Ñ\\x88Ð¸Ñ\\x81Ñ\\x8c Ð½Ð° ÐºÑ\\x80ÐµÑ\\x81Ð»Ð°Ñ\\x85 Ð¸ Ð³Ð»Ñ\\x8fÐ´Ñ\\x8f Ð² Ñ\\x81Ñ\\x82Ð¾Ñ\\x80Ð¾Ð½Ñ\\x83.\\nâ\\x80\\x94 Attendez, â\\x80\\x94 Ñ\\x81ÐºÐ°Ð·Ð°Ð»Ð° Ð\\x90Ð½Ð½Ð° Ð\\x9fÐ°Ð²Ð»Ð¾Ð²Ð½Ð°, Ñ\\x81Ð¾Ð¾Ð±Ñ\\x80Ð°Ð¶Ð°Ñ\\x8f. â\\x80\\x94 Ð¯ Ð½Ñ\\x8bÐ½Ñ\\x87Ðµ Ð¶Ðµ Ð¿Ð¾Ð³Ð¾Ð²Ð¾Ñ\\x80Ñ\\x8e Lise (la femme du jeune Ð\\x91Ð¾Ð»ÐºÐ¾Ð½Ñ\\x81ÐºÐ¸Ð¹). Ð\\x98, Ð¼Ð¾Ð¶ÐµÑ\\x82 Ð±Ñ\\x8bÑ\\x82Ñ\\x8c, Ñ\\x8dÑ\\x82Ð¾ Ñ\\x83Ð»Ð°Ð´Ð¸Ñ\\x82Ñ\\x81Ñ\\x8f. Ce sera dans votre famille que je ferai mon apprentissage de vieille fille.\""
      ]
     },
     "execution_count": 16,
     "metadata": {},
     "output_type": "execute_result"
    }
   ],
   "source": []
  },
  {
   "cell_type": "code",
   "execution_count": null,
   "id": "higher-collect",
   "metadata": {},
   "outputs": [],
   "source": []
  }
 ],
 "metadata": {
  "kernelspec": {
   "display_name": "Python 3 (ipykernel)",
   "language": "python",
   "name": "python3"
  },
  "language_info": {
   "codemirror_mode": {
    "name": "ipython",
    "version": 3
   },
   "file_extension": ".py",
   "mimetype": "text/x-python",
   "name": "python",
   "nbconvert_exporter": "python",
   "pygments_lexer": "ipython3",
   "version": "3.9.1"
  }
 },
 "nbformat": 4,
 "nbformat_minor": 5
}
