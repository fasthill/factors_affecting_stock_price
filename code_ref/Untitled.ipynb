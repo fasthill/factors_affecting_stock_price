{
 "cells": [
  {
   "cell_type": "code",
   "execution_count": 1,
   "id": "fe885e6f",
   "metadata": {},
   "outputs": [],
   "source": [
    "from bs4 import BeautifulSoup as bs\n",
    "import requests"
   ]
  },
  {
   "cell_type": "code",
   "execution_count": null,
   "id": "e124874a",
   "metadata": {},
   "outputs": [],
   "source": [
    "url = 'https://jsonplaceholder.typicode.com/users/1'\n",
    "url1 = 'https://httpbin.org/get'\n",
    "url2 = 'https://httpbin.org/post'"
   ]
  },
  {
   "cell_type": "code",
   "execution_count": null,
   "id": "92a4445a",
   "metadata": {},
   "outputs": [],
   "source": [
    "res = requests.get(url)\n",
    "res.status_code"
   ]
  },
  {
   "cell_type": "code",
   "execution_count": null,
   "id": "080cd4d7",
   "metadata": {},
   "outputs": [],
   "source": [
    "soup = bs(res.content,\"html.parser\")"
   ]
  },
  {
   "cell_type": "code",
   "execution_count": null,
   "id": "82c809e3",
   "metadata": {},
   "outputs": [],
   "source": []
  },
  {
   "cell_type": "code",
   "execution_count": null,
   "id": "460dfec5",
   "metadata": {},
   "outputs": [],
   "source": [
    "url = 'https://jsonplaceholder.typicode.com/users'\n",
    "res = requests.post(url)\n",
    "res.status_code"
   ]
  },
  {
   "cell_type": "code",
   "execution_count": null,
   "id": "e45a0365",
   "metadata": {},
   "outputs": [],
   "source": [
    "res.headers"
   ]
  },
  {
   "cell_type": "code",
   "execution_count": null,
   "id": "b9f794d4",
   "metadata": {},
   "outputs": [],
   "source": [
    "res.headers['Content-Type']"
   ]
  },
  {
   "cell_type": "code",
   "execution_count": null,
   "id": "23487817",
   "metadata": {},
   "outputs": [],
   "source": [
    "# https://jsonplaceholder.typicode.com/posts?userId=1\n",
    "response = requests.get('https://jsonplaceholder.typicode.com/posts', params = {'userId': \"1\"})\n",
    "response.json()"
   ]
  },
  {
   "cell_type": "code",
   "execution_count": null,
   "id": "abe1c819",
   "metadata": {},
   "outputs": [],
   "source": [
    "[post['id'] for post in response.json()]"
   ]
  },
  {
   "cell_type": "code",
   "execution_count": null,
   "id": "8c35208d",
   "metadata": {},
   "outputs": [],
   "source": [
    "res = requests.get(url1)"
   ]
  },
  {
   "cell_type": "code",
   "execution_count": null,
   "id": "64158898",
   "metadata": {},
   "outputs": [],
   "source": [
    "res.json()"
   ]
  },
  {
   "cell_type": "code",
   "execution_count": null,
   "id": "a39f6798",
   "metadata": {},
   "outputs": [],
   "source": [
    "res = requests.get(url1, params = {'name': 'james'})\n",
    "res.json()"
   ]
  },
  {
   "cell_type": "code",
   "execution_count": null,
   "id": "40bcadbf",
   "metadata": {},
   "outputs": [],
   "source": [
    "data = {'name': 'james', 'age':'23'}\n",
    "res  = requests.post(url2, json=data)\n",
    "res.json()"
   ]
  },
  {
   "cell_type": "code",
   "execution_count": null,
   "id": "d397d5e9",
   "metadata": {},
   "outputs": [],
   "source": [
    "data = {'name': 'james', 'userId':'6'}\n",
    "res  = requests.post(url, data=data)\n",
    "res.text"
   ]
  },
  {
   "cell_type": "markdown",
   "id": "0acba221",
   "metadata": {},
   "source": [
    "#### get 방식은 params로 받아야 하지만, post 방식은 data로 받아야 함."
   ]
  },
  {
   "cell_type": "code",
   "execution_count": null,
   "id": "23b5d3e6",
   "metadata": {},
   "outputs": [],
   "source": []
  },
  {
   "cell_type": "markdown",
   "id": "cbb7c90f",
   "metadata": {},
   "source": [
    "## 요청전문"
   ]
  },
  {
   "cell_type": "code",
   "execution_count": null,
   "id": "d247ddd3",
   "metadata": {},
   "outputs": [],
   "source": [
    "response = requests.post('https://jsonplaceholder.typicode.com/users', data = {'name': \"Test user\"})\n",
    "response.status_code"
   ]
  },
  {
   "cell_type": "code",
   "execution_count": null,
   "id": "0dc5eb38",
   "metadata": {},
   "outputs": [],
   "source": [
    "response = requests.post('https://jsonplaceholder.typicode.com/users', json = {'name': \"Test user\"})\n",
    "response.status_code"
   ]
  },
  {
   "cell_type": "markdown",
   "id": "3f9eaed1",
   "metadata": {},
   "source": [
    "## 요청 헤더"
   ]
  },
  {
   "cell_type": "code",
   "execution_count": null,
   "id": "96c633c9",
   "metadata": {},
   "outputs": [],
   "source": [
    "requests.post('https://jsonplaceholder.typicode.com/users', headers = {'Authorization': \"Bearer 12345\"})"
   ]
  },
  {
   "cell_type": "code",
   "execution_count": null,
   "id": "dae5f7d9",
   "metadata": {},
   "outputs": [],
   "source": []
  },
  {
   "cell_type": "code",
   "execution_count": null,
   "id": "5cc06318",
   "metadata": {},
   "outputs": [],
   "source": []
  },
  {
   "cell_type": "code",
   "execution_count": null,
   "id": "71f28bfa",
   "metadata": {},
   "outputs": [],
   "source": [
    "soup"
   ]
  },
  {
   "cell_type": "code",
   "execution_count": null,
   "id": "13ca53ba",
   "metadata": {},
   "outputs": [],
   "source": [
    "res = requests.get(url)\n",
    "\n",
    "soup = bs(res.content,\"html.parser\")"
   ]
  },
  {
   "cell_type": "code",
   "execution_count": null,
   "id": "125ff336",
   "metadata": {},
   "outputs": [],
   "source": [
    "url = 'https://www.w3schools.com/html/html_examples.asp'"
   ]
  },
  {
   "cell_type": "code",
   "execution_count": null,
   "id": "5357540c",
   "metadata": {},
   "outputs": [],
   "source": [
    "data = {'id':'main'}\n",
    "res = requests.post(url, data=data)\n",
    "\n",
    "soup = bs(res.content,\"html.parser\")"
   ]
  },
  {
   "cell_type": "code",
   "execution_count": null,
   "id": "90b8c617",
   "metadata": {},
   "outputs": [],
   "source": [
    "soup"
   ]
  },
  {
   "cell_type": "code",
   "execution_count": null,
   "id": "9585337c",
   "metadata": {},
   "outputs": [],
   "source": [
    "page"
   ]
  },
  {
   "cell_type": "code",
   "execution_count": null,
   "id": "b24d5c98",
   "metadata": {},
   "outputs": [],
   "source": [
    "from bs4 import BeautifulSoup as bs\n",
    "import datetime, time\n",
    "from datetime import date\n",
    "\n",
    "import pandas as pd\n",
    "import numpy as np"
   ]
  },
  {
   "cell_type": "code",
   "execution_count": null,
   "id": "f0eccb4d",
   "metadata": {},
   "outputs": [],
   "source": [
    "url = 'http://data.krx.co.kr/contents/MDC/MDI/mdiLoader/index.cmd?menuId=MDC0201020203'"
   ]
  },
  {
   "cell_type": "code",
   "execution_count": null,
   "id": "controlling-wheat",
   "metadata": {},
   "outputs": [],
   "source": [
    "df = pd.DataFrame({'A': [1, 2, 3],\n",
    "                   'B': [400, 500, 600]})"
   ]
  },
  {
   "cell_type": "code",
   "execution_count": null,
   "id": "initial-possession",
   "metadata": {},
   "outputs": [],
   "source": [
    "new_df = pd.DataFrame({'B': [4, 5, 6],\n",
    "                       'C': [7, 8, 9],\n",
    "                       'A': [10,11,12]})"
   ]
  },
  {
   "cell_type": "code",
   "execution_count": null,
   "id": "boxed-caution",
   "metadata": {},
   "outputs": [],
   "source": [
    "df1 = pd.DataFrame({'A': ['a', np.nan, 'c'],\n",
    "                   'B': ['x', 'y', 'z']})"
   ]
  },
  {
   "cell_type": "code",
   "execution_count": null,
   "id": "meaning-effect",
   "metadata": {},
   "outputs": [],
   "source": [
    "df2 = pd.DataFrame({'A': [11, \"\", 12]})"
   ]
  },
  {
   "cell_type": "code",
   "execution_count": null,
   "id": "classified-thong",
   "metadata": {},
   "outputs": [],
   "source": [
    "df1.update(df1)\n",
    "df1"
   ]
  },
  {
   "cell_type": "code",
   "execution_count": null,
   "id": "adaptive-notion",
   "metadata": {},
   "outputs": [],
   "source": [
    "new_df1 = pd.DataFrame({'B': ['d', 'e', 'f', 'g', 'h', 'i']})"
   ]
  },
  {
   "cell_type": "code",
   "execution_count": null,
   "id": "incoming-billy",
   "metadata": {},
   "outputs": [],
   "source": [
    "new_column1 = pd.Series(['d', 'e'], name='B', index=[0, 2])"
   ]
  },
  {
   "cell_type": "code",
   "execution_count": null,
   "id": "subsequent-argentina",
   "metadata": {},
   "outputs": [],
   "source": [
    "new_df2 = pd.DataFrame({'B': [4, np.nan, 6]})"
   ]
  },
  {
   "cell_type": "code",
   "execution_count": null,
   "id": "literary-horizontal",
   "metadata": {},
   "outputs": [],
   "source": [
    "new_df3 = pd.DataFrame({'B': [11, \"\", 12]})"
   ]
  },
  {
   "cell_type": "code",
   "execution_count": null,
   "id": "worst-guess",
   "metadata": {},
   "outputs": [],
   "source": [
    "new_df3"
   ]
  },
  {
   "cell_type": "code",
   "execution_count": null,
   "id": "royal-bradford",
   "metadata": {},
   "outputs": [],
   "source": [
    "df1.update(new_df2)"
   ]
  },
  {
   "cell_type": "code",
   "execution_count": null,
   "id": "tough-drama",
   "metadata": {},
   "outputs": [],
   "source": [
    "df1.head()"
   ]
  },
  {
   "cell_type": "code",
   "execution_count": null,
   "id": "marine-climate",
   "metadata": {},
   "outputs": [],
   "source": [
    "df.head()"
   ]
  },
  {
   "cell_type": "code",
   "execution_count": null,
   "id": "altered-seller",
   "metadata": {},
   "outputs": [],
   "source": [
    "df1.head()"
   ]
  },
  {
   "cell_type": "code",
   "execution_count": null,
   "id": "heated-tablet",
   "metadata": {},
   "outputs": [],
   "source": [
    "import requests\n",
    "import pandas as pd\n",
    "\n",
    "\n",
    "BASE_URL = \"https://production.dataviz.cnn.io/index/fearandgreed/graphdata\"\n",
    "START_DATE = '2021-01-01'\n",
    "\n",
    "def fear_greed_data(url: str,start_date: str) -> pd.DataFrame :\n",
    "    \"\"\"\n",
    "    This is very informational\n",
    "    Takes in url and start date, write something something\n",
    "    \"\"\"\n",
    "    _r = requests.get(\"{}/{}\".format(url, start_date))\n",
    "    _data = r.json()\n",
    "\n",
    "    _fear_greed_index = pd.DataFrame(data['fear_and_greed_historical']['data'])\n",
    "    _fear_greed_index['x'] = pd.to_datetime(_fear_greed_index['x']//1000, unit='s').dt.strftime('%Y-%m-%d')\n",
    "    _fear_greed_index = _fear_greed_index.rename(columns={'x':'date','y':'fear_metric'})\n",
    "\n",
    "    _fear_greed_index.index = _fear_greed_index['date']\n",
    "\n",
    "    return _fear_greed_index"
   ]
  },
  {
   "cell_type": "code",
   "execution_count": null,
   "id": "e9ce0f65",
   "metadata": {},
   "outputs": [],
   "source": [
    "headers = {'User-Agent': 'Mozilla/5.0 (Macintosh; Intel Mac OS X 10_11_5) \\\n",
    "           AppleWebKit/537.36 (KHTML, like Gecko) Chrome/50.0.2661.102 Safari/537.36'}"
   ]
  },
  {
   "cell_type": "code",
   "execution_count": null,
   "id": "949c5f31",
   "metadata": {},
   "outputs": [],
   "source": [
    "a = fear_greed_data(BASE_URL, START_DATE)"
   ]
  },
  {
   "cell_type": "code",
   "execution_count": null,
   "id": "7924418a",
   "metadata": {},
   "outputs": [],
   "source": [
    "\"{}/{}\".format(BASE_URL, START_DATE)"
   ]
  },
  {
   "cell_type": "code",
   "execution_count": null,
   "id": "4620c4b3",
   "metadata": {},
   "outputs": [],
   "source": [
    "r = requests.get(\"{}/{}\".format(BASE_URL, START_DATE), headers=headers)"
   ]
  },
  {
   "cell_type": "code",
   "execution_count": null,
   "id": "75cf583b",
   "metadata": {},
   "outputs": [],
   "source": [
    "r"
   ]
  },
  {
   "cell_type": "code",
   "execution_count": null,
   "id": "a39326b2",
   "metadata": {},
   "outputs": [],
   "source": [
    "from selenium import webdriver as wd\n",
    "from bs4 import BeautifulSoup as bs\n",
    "\n",
    "from selenium.webdriver.chrome.options import Options\n",
    "from selenium.webdriver.common.keys import Keys\n",
    "from selenium.webdriver.common.by import By\n",
    "import datetime, time\n",
    "\n",
    "import chromedriver_autoinstaller\n",
    "\n",
    "import pandas as pd\n",
    "import numpy as np\n",
    "\n",
    "import subprocess\n",
    "import shutil\n",
    "import pyperclip\n",
    "\n",
    "import requests\n",
    "import os, sys"
   ]
  },
  {
   "cell_type": "code",
   "execution_count": null,
   "id": "72ebbeab",
   "metadata": {},
   "outputs": [],
   "source": [
    "from selenium.webdriver.common.by import By\n",
    "from selenium.webdriver.support.ui import WebDriverWait\n",
    "from selenium.webdriver.support import expected_conditions as EC"
   ]
  },
  {
   "cell_type": "code",
   "execution_count": null,
   "id": "ec15a172",
   "metadata": {},
   "outputs": [],
   "source": [
    "try:\n",
    "    subprocess.Popen(r'C:\\Program Files\\Google\\Chrome\\Application\\chrome.exe --remote-debugging-port=9222 --user-data-dir=\"C:\\chrometemp1\"')  # 디버거 크롬 구동\n",
    "except:\n",
    "    subprocess.Popen(r'C:\\Program Files (x86)\\Google\\Chrome\\Application\\chrome.exe --remote-debugging-port=9222 --user-data-dir=\"C:\\chrometemp1\"')  # 디버거 크롬 구동\n",
    "# 위 두개의 위치중 한 곳에 chrome이 설치되어 있음."
   ]
  },
  {
   "cell_type": "code",
   "execution_count": null,
   "id": "4c2baafd",
   "metadata": {},
   "outputs": [],
   "source": [
    "option = Options()\n",
    "option.add_experimental_option(\"debuggerAddress\", \"127.0.0.1:9222\") # 포트 설정. 그냥 복붙하면 됨."
   ]
  },
  {
   "cell_type": "code",
   "execution_count": null,
   "id": "76d92555",
   "metadata": {},
   "outputs": [],
   "source": [
    "chrome_ver = chromedriver_autoinstaller.get_chrome_version().split('.')[0]\n",
    "try:\n",
    "    driver = wd.Chrome(f'./{chrome_ver}/chromedriver.exe', options=option)\n",
    "except:\n",
    "    chromedriver_autoinstaller.install(True)\n",
    "    driver = wd.Chrome(f'./{chrome_ver}/chromedriver.exe', options=option)\n",
    "driver.implicitly_wait(20)"
   ]
  },
  {
   "cell_type": "code",
   "execution_count": null,
   "id": "40a90c17",
   "metadata": {},
   "outputs": [],
   "source": [
    "from selenium import webdriver\n",
    "from time import sleep"
   ]
  },
  {
   "cell_type": "code",
   "execution_count": null,
   "id": "8a774420",
   "metadata": {},
   "outputs": [],
   "source": []
  },
  {
   "cell_type": "code",
   "execution_count": null,
   "id": "29e69d53",
   "metadata": {},
   "outputs": [],
   "source": [
    "# driver.set_window_position(-10000,0) # hide windows\n",
    "main_url = 'https://kr.investing.com/'\n",
    "main_url = \"https://satellitenewsnetwork.com/\"\n",
    "main_url = \"https://vip.mk.co.kr/newSt/price/trade.php?stCode=005930\"\n",
    "driver.get(main_url)\n",
    "time.sleep(1)"
   ]
  },
  {
   "cell_type": "code",
   "execution_count": null,
   "id": "marked-breath",
   "metadata": {},
   "outputs": [],
   "source": [
    "element = driver.find_element_by_tag_name('iframe')\n",
    "element"
   ]
  },
  {
   "cell_type": "code",
   "execution_count": null,
   "id": "opening-drinking",
   "metadata": {},
   "outputs": [],
   "source": [
    "#프레임 이동\n",
    "driver.switch_to.frame(element)"
   ]
  },
  {
   "cell_type": "code",
   "execution_count": null,
   "id": "institutional-victoria",
   "metadata": {},
   "outputs": [],
   "source": [
    "driver.get_cookies()"
   ]
  },
  {
   "cell_type": "code",
   "execution_count": null,
   "id": "surrounded-retail",
   "metadata": {},
   "outputs": [],
   "source": [
    "driver.get_cookies()"
   ]
  },
  {
   "cell_type": "code",
   "execution_count": null,
   "id": "light-teach",
   "metadata": {},
   "outputs": [],
   "source": [
    "https://pythondocs.net/selenium/%EC%85%80%EB%A0%88%EB%8B%88%EC%9B%80-%ED%81%AC%EB%A1%A4%EB%9F%AC-%EA%B8%B0%EB%B3%B8-%EC%82%AC%EC%9A%A9%EB%B2%95/#%ED%83%AD_%EC%9D%B4%EB%8F%99"
   ]
  },
  {
   "cell_type": "code",
   "execution_count": null,
   "id": "present-output",
   "metadata": {},
   "outputs": [],
   "source": []
  },
  {
   "cell_type": "code",
   "execution_count": null,
   "id": "biblical-partition",
   "metadata": {},
   "outputs": [],
   "source": []
  },
  {
   "cell_type": "code",
   "execution_count": null,
   "id": "dependent-stylus",
   "metadata": {},
   "outputs": [],
   "source": [
    "#프레임에서 빠져나오기\n",
    "driver.switch_to.default_content()"
   ]
  },
  {
   "cell_type": "code",
   "execution_count": null,
   "id": "funded-mainstream",
   "metadata": {},
   "outputs": [],
   "source": [
    "driver.window_handles"
   ]
  },
  {
   "cell_type": "code",
   "execution_count": null,
   "id": "cb9ad4c9",
   "metadata": {},
   "outputs": [],
   "source": [
    "main_win = driver.window_handles[0]"
   ]
  },
  {
   "cell_type": "code",
   "execution_count": null,
   "id": "4c50af79",
   "metadata": {},
   "outputs": [],
   "source": [
    "driver.switch_to.window(main_win)"
   ]
  },
  {
   "cell_type": "code",
   "execution_count": null,
   "id": "32d1d726",
   "metadata": {},
   "outputs": [],
   "source": [
    "driver.switch_to.frame('port_2004') #(2) 특정 프레임으로 전환"
   ]
  },
  {
   "cell_type": "code",
   "execution_count": null,
   "id": "25d1a9e3",
   "metadata": {},
   "outputs": [],
   "source": [
    "sel = 'body > table:nth-child(4) > tbody > tr > td > p:nth-child(6) > table > tbody > tr:nth-child(1) > td:nth-child(2) > font'"
   ]
  },
  {
   "cell_type": "code",
   "execution_count": null,
   "id": "4d2f727c",
   "metadata": {},
   "outputs": [],
   "source": [
    "driver.find_element_by_css_selector(sel).text"
   ]
  },
  {
   "cell_type": "code",
   "execution_count": null,
   "id": "df8c8947",
   "metadata": {},
   "outputs": [],
   "source": [
    "soup = bs(driver.page_source, 'html.parser')"
   ]
  },
  {
   "cell_type": "code",
   "execution_count": null,
   "id": "57423ffb",
   "metadata": {},
   "outputs": [],
   "source": [
    "try: \n",
    "    alert_obj = driver.switch_to.alert\n",
    "except:\n",
    "    print(\"No Alert windows\")\n",
    "    pass\n",
    "\n",
    "# alert_obj.accept() – used to accept the Alert\n",
    "# alert_obj.dismiss() – used to cancel the Alert\n",
    "# alert.send_keys() – used to enter a value in the Alert text box.\n",
    "# alert.text() – used to retrieve the message included in the Alert pop-up."
   ]
  },
  {
   "cell_type": "code",
   "execution_count": null,
   "id": "agreed-roulette",
   "metadata": {},
   "outputs": [],
   "source": [
    "try: # pop up 창이 뜨는 것을 확인\n",
    "    element = driver.find_element_by_id('PromoteSignUpPopUp')\n",
    "    driver.find_element_by_css_selector('#PromoteSignUpPopUp > div.right > i').send_keys(Keys.ENTER)\n",
    "    time.sleep(1)\n",
    "    \n",
    "except:\n",
    "    pass"
   ]
  },
  {
   "cell_type": "code",
   "execution_count": null,
   "id": "49e9ae39",
   "metadata": {},
   "outputs": [],
   "source": [
    "try: # 이미 로그인이 되어 있으면 skip\n",
    "    driver.find_element_by_css_selector('#userAccount > div > a.login.bold').click() \n",
    "    time.sleep(1)\n",
    "    \n",
    "    id = 'kangeun@naver.com'\n",
    "    pyperclip.copy(id) # control+c 기능 수행\n",
    "    driver.find_element_by_id('loginFormUser_email').clear()\n",
    "    driver.find_element_by_id('loginFormUser_email').send_keys(Keys.CONTROL + 'v')\n",
    "    time.sleep(1)\n",
    "    \n",
    "    pw = os.environ['investing_pass']\n",
    "    pyperclip.copy(pw) # control+c 기능 수행\n",
    "    driver.find_element_by_id('loginForm_password').clear()\n",
    "    driver.find_element_by_id('loginForm_password').send_keys(Keys.CONTROL + 'v')\n",
    "    time.sleep(1)  \n",
    "    \n",
    "    driver.find_element_by_css_selector('#signup > a.newButton.orange').click()  \n",
    "    time.sleep(2)\n",
    "    \n",
    "except:\n",
    "    pass"
   ]
  },
  {
   "cell_type": "code",
   "execution_count": null,
   "id": "7c2afd35",
   "metadata": {},
   "outputs": [],
   "source": [
    " WebDriverWait(driver, 5).until(lambda d: len(d.window_handles) == 2)"
   ]
  },
  {
   "cell_type": "code",
   "execution_count": null,
   "id": "d5dab736",
   "metadata": {},
   "outputs": [],
   "source": [
    "driver.window_handles[1]"
   ]
  },
  {
   "cell_type": "code",
   "execution_count": null,
   "id": "b0474377",
   "metadata": {},
   "outputs": [],
   "source": [
    "driver.switch_to.window(driver.window_handles[1]).close()"
   ]
  },
  {
   "cell_type": "code",
   "execution_count": null,
   "id": "f58c198c",
   "metadata": {},
   "outputs": [],
   "source": [
    "driver.switch_to.window(driver.window_handles[0])"
   ]
  },
  {
   "cell_type": "code",
   "execution_count": null,
   "id": "1d3e463a",
   "metadata": {},
   "outputs": [],
   "source": [
    "# go to the home page\n",
    "driver.get('https://www.zomato.com')"
   ]
  },
  {
   "cell_type": "code",
   "execution_count": null,
   "id": "e7695888",
   "metadata": {},
   "outputs": [],
   "source": [
    "# storing the current window handle to get back to dashboard\n",
    "main_page = driver.current_window_handle \n",
    "# wait for page to load completely\n",
    "sleep(5)"
   ]
  },
  {
   "cell_type": "code",
   "execution_count": null,
   "id": "91734de0",
   "metadata": {},
   "outputs": [],
   "source": [
    "main_page"
   ]
  },
  {
   "cell_type": "code",
   "execution_count": null,
   "id": "08d5602b",
   "metadata": {},
   "outputs": [],
   "source": [
    "# click on the sign in tab\n",
    "driver.find_element_by_xpath('//*[@id=\"navigation_cl5k372yt001f26nuctwg9twg\"]/li[4]/a').click()\n",
    "sleep(5)"
   ]
  },
  {
   "cell_type": "code",
   "execution_count": null,
   "id": "b8e1af5a",
   "metadata": {},
   "outputs": [],
   "source": [
    "# click to log in using facebook\n",
    "driver.find_element_by_xpath('//*[@id=\"id-81\"]/section[2]/section/div[4]/div/span').click() "
   ]
  },
  {
   "cell_type": "code",
   "execution_count": null,
   "id": "610ed1e9",
   "metadata": {},
   "outputs": [],
   "source": [
    "driver.window_handles"
   ]
  },
  {
   "cell_type": "code",
   "execution_count": null,
   "id": "38d14689",
   "metadata": {},
   "outputs": [],
   "source": []
  },
  {
   "cell_type": "code",
   "execution_count": null,
   "id": "02303171",
   "metadata": {},
   "outputs": [],
   "source": [
    "# changing the handles to access login page\n",
    "for handle in driver.window_handles:\n",
    "    if handle != main_page:\n",
    "        login_page = handle"
   ]
  },
  {
   "cell_type": "code",
   "execution_count": null,
   "id": "c03f1880",
   "metadata": {},
   "outputs": [],
   "source": [
    "login_page"
   ]
  },
  {
   "cell_type": "code",
   "execution_count": null,
   "id": "ac2bcb8b",
   "metadata": {},
   "outputs": [],
   "source": [
    "# change the control to signin page       \n",
    "driver.switch_to.window('CDwindow-861BD41E9739768B8BC07E42EC614499')"
   ]
  },
  {
   "cell_type": "code",
   "execution_count": null,
   "id": "c06c4aa7",
   "metadata": {},
   "outputs": [],
   "source": [
    "# change the control to signin page       \n",
    "driver.switch_to.window(login_page)"
   ]
  },
  {
   "cell_type": "code",
   "execution_count": null,
   "id": "248fb0fc",
   "metadata": {},
   "outputs": [],
   "source": [
    "# user input for email and password\n",
    "print('Enter email id : ', end ='')\n",
    "email = input().strip()\n",
    "print('Enter password : ', end ='')\n",
    "password = input().strip()"
   ]
  },
  {
   "cell_type": "code",
   "execution_count": null,
   "id": "b1b0842c",
   "metadata": {},
   "outputs": [],
   "source": [
    "# enter the email\n",
    "driver.find_element_by_xpath('//*[@id =\"email\"]').send_keys(email)\n",
    " \n",
    "# enter the password\n",
    "driver.find_element_by_xpath('//*[@id =\"pass\"]').send_keys(password)\n",
    " \n",
    "# click the login button\n",
    "driver.find_element_by_xpath('//*[@id =\"u_0_0\"]').click()"
   ]
  },
  {
   "cell_type": "code",
   "execution_count": null,
   "id": "c113cf82",
   "metadata": {},
   "outputs": [],
   "source": [
    "# change control to main page\n",
    "driver.switch_to.window(main_page)\n",
    "sleep(10)"
   ]
  },
  {
   "cell_type": "code",
   "execution_count": null,
   "id": "661857e7",
   "metadata": {},
   "outputs": [],
   "source": [
    "# print user name\n",
    "name = driver.find_element_by_xpath('/html/body/div[4]/div/div[1]/header/div[2]/div/div/div/div/span').text\n",
    "print('Your user name is : {}'.format(name))\n",
    " \n",
    "# closing the window\n",
    "driver.quit()"
   ]
  },
  {
   "cell_type": "code",
   "execution_count": null,
   "id": "938f4947",
   "metadata": {},
   "outputs": [],
   "source": [
    "driver.close()"
   ]
  },
  {
   "cell_type": "code",
   "execution_count": null,
   "id": "e33c195b",
   "metadata": {},
   "outputs": [],
   "source": [
    "driver.quit()"
   ]
  },
  {
   "cell_type": "code",
   "execution_count": null,
   "id": "adopted-mexican",
   "metadata": {},
   "outputs": [],
   "source": [
    "while True:\n",
    "    try:\n",
    "    # driver.set_window_position(-10000,0) # hide windows\n",
    "        main_url = 'https://kr.investing.com/'\n",
    "        main_url = 'https://vip.mk.co.kr/newSt/rate/trade.php'\n",
    "        driver.get(main_url)\n",
    "        time.sleep(1)\n",
    "        break\n",
    "    except:\n",
    "        print(\"Message: unknown error: cannot determine loading status\")\n",
    "        print(\"Try Again\")\n",
    "        time.sleep(3)\n",
    "        pass"
   ]
  },
  {
   "cell_type": "code",
   "execution_count": null,
   "id": "noble-ottawa",
   "metadata": {},
   "outputs": [],
   "source": [
    "win_main = driver.window_handles"
   ]
  },
  {
   "cell_type": "code",
   "execution_count": null,
   "id": "premium-viewer",
   "metadata": {},
   "outputs": [],
   "source": [
    "driver.switch_to.frame('port_2004')"
   ]
  },
  {
   "cell_type": "code",
   "execution_count": null,
   "id": "neutral-bennett",
   "metadata": {},
   "outputs": [],
   "source": [
    "df = pd.read_html(driver.page_source, attrs={\"id\":\"table1\"})[0]"
   ]
  },
  {
   "cell_type": "code",
   "execution_count": null,
   "id": "reflected-radiation",
   "metadata": {},
   "outputs": [],
   "source": [
    "df.head()"
   ]
  },
  {
   "cell_type": "code",
   "execution_count": null,
   "id": "incident-coaching",
   "metadata": {},
   "outputs": [],
   "source": [
    "driver.switch_to.window(win_main)"
   ]
  },
  {
   "cell_type": "code",
   "execution_count": null,
   "id": "excellent-antigua",
   "metadata": {},
   "outputs": [],
   "source": [
    "df = pd.read_html(driver.page_source, attrs={\"id\":\"table1\"})[0]"
   ]
  },
  {
   "cell_type": "code",
   "execution_count": null,
   "id": "judicial-intensity",
   "metadata": {},
   "outputs": [],
   "source": [
    "df.head()"
   ]
  },
  {
   "cell_type": "code",
   "execution_count": null,
   "id": "fitted-female",
   "metadata": {},
   "outputs": [],
   "source": []
  },
  {
   "cell_type": "code",
   "execution_count": null,
   "id": "tracked-thomas",
   "metadata": {},
   "outputs": [],
   "source": [
    "from urllib.request import urlopen\n",
    "import urllib"
   ]
  },
  {
   "cell_type": "code",
   "execution_count": null,
   "id": "amino-price",
   "metadata": {},
   "outputs": [],
   "source": [
    "main_url = \"https://vip.mk.co.kr/newSt/price/trade.php?stCode=005930\""
   ]
  },
  {
   "cell_type": "code",
   "execution_count": null,
   "id": "vulnerable-syndrome",
   "metadata": {},
   "outputs": [],
   "source": [
    "res = urllib.request.Request(main_url)"
   ]
  },
  {
   "cell_type": "code",
   "execution_count": null,
   "id": "extreme-trial",
   "metadata": {},
   "outputs": [],
   "source": [
    "htm = urlopen(res)"
   ]
  },
  {
   "cell_type": "code",
   "execution_count": null,
   "id": "juvenile-toronto",
   "metadata": {},
   "outputs": [],
   "source": [
    "soup = bs(htm, 'html.parser')"
   ]
  },
  {
   "cell_type": "code",
   "execution_count": null,
   "id": "found-replica",
   "metadata": {},
   "outputs": [],
   "source": [
    "soup"
   ]
  },
  {
   "cell_type": "code",
   "execution_count": null,
   "id": "dried-jaguar",
   "metadata": {},
   "outputs": [],
   "source": [
    "r = requests.get(main_url)\n",
    "sop = bs(r.content, 'html.parser')"
   ]
  },
  {
   "cell_type": "code",
   "execution_count": null,
   "id": "peaceful-hampshire",
   "metadata": {},
   "outputs": [],
   "source": [
    "sop"
   ]
  },
  {
   "cell_type": "code",
   "execution_count": null,
   "id": "complicated-marker",
   "metadata": {},
   "outputs": [],
   "source": [
    "soup == sop"
   ]
  },
  {
   "cell_type": "markdown",
   "id": "indirect-story",
   "metadata": {},
   "source": [
    "###### type(soup)"
   ]
  },
  {
   "cell_type": "code",
   "execution_count": null,
   "id": "eastern-violation",
   "metadata": {},
   "outputs": [],
   "source": [
    "type(sop)"
   ]
  },
  {
   "cell_type": "markdown",
   "id": "driving-serve",
   "metadata": {},
   "source": [
    "txt 예제 사이트\n",
    "\n",
    "https://www.ietf.org/rfc/rfc1149.txt\n",
    "https://www.pythonscraping.com/pages/warandpeace/chapter1.txt"
   ]
  },
  {
   "cell_type": "code",
   "execution_count": 2,
   "id": "economic-reach",
   "metadata": {},
   "outputs": [],
   "source": [
    "from urllib.request import urlopen\n",
    "import urllib\n",
    "import requests"
   ]
  },
  {
   "cell_type": "code",
   "execution_count": null,
   "id": "narrative-vietnamese",
   "metadata": {},
   "outputs": [],
   "source": [
    "url = 'https://www.pythonscraping.com/pages/warandpeace/chapter1.txt'\n",
    "text_page = urllib.request.urlopen(url)"
   ]
  },
  {
   "cell_type": "code",
   "execution_count": null,
   "id": "opening-spencer",
   "metadata": {},
   "outputs": [],
   "source": [
    "url = 'https://www.pythonscraping.com/pages/warandpeace/chapter1.txt'\n",
    "res = urllib.request.Request(url)\n",
    "text_page = urlopen(res)\n",
    "\n",
    "print(textPage.read())"
   ]
  },
  {
   "cell_type": "code",
   "execution_count": null,
   "id": "working-zoning",
   "metadata": {},
   "outputs": [],
   "source": [
    "res = requests.get(url)"
   ]
  },
  {
   "cell_type": "code",
   "execution_count": null,
   "id": "intense-contrary",
   "metadata": {},
   "outputs": [],
   "source": [
    "res.text"
   ]
  },
  {
   "cell_type": "code",
   "execution_count": null,
   "id": "literary-carter",
   "metadata": {},
   "outputs": [],
   "source": [
    "text_page = urlopen(url)"
   ]
  },
  {
   "cell_type": "code",
   "execution_count": null,
   "id": "color-nylon",
   "metadata": {},
   "outputs": [],
   "source": [
    "text_page = urlopen('https://www.pythonscraping.com/'\n",
    "                   'pages/warandpeace/chapter1.txt')"
   ]
  },
  {
   "cell_type": "code",
   "execution_count": null,
   "id": "alternative-relaxation",
   "metadata": {},
   "outputs": [],
   "source": [
    "from urllib.request import urlopen\n",
    "\n",
    "html = urlopen('http://pythonscraping.com/pages/page1.html')\n",
    "print(html.read())"
   ]
  },
  {
   "cell_type": "code",
   "execution_count": null,
   "id": "agricultural-davis",
   "metadata": {},
   "outputs": [],
   "source": [
    "!pip install --upgrade certifi"
   ]
  },
  {
   "cell_type": "code",
   "execution_count": 6,
   "id": "provincial-copyright",
   "metadata": {},
   "outputs": [],
   "source": [
    "urlr = 'https://www.pythonscraping.com/pages/warandpeace/chapter1-ru.txt'"
   ]
  },
  {
   "cell_type": "code",
   "execution_count": 7,
   "id": "coupled-casino",
   "metadata": {},
   "outputs": [],
   "source": [
    "res = requests.get(urlr)"
   ]
  },
  {
   "cell_type": "code",
   "execution_count": 10,
   "id": "piano-kitty",
   "metadata": {},
   "outputs": [],
   "source": [
    "soup = bs(res.content, 'html.parser')"
   ]
  },
  {
   "cell_type": "code",
   "execution_count": 1,
   "id": "higher-collect",
   "metadata": {},
   "outputs": [],
   "source": [
    "import os"
   ]
  },
  {
   "cell_type": "code",
   "execution_count": 4,
   "id": "qualified-flooring",
   "metadata": {},
   "outputs": [],
   "source": [
    "dir = os.path.abspath(os.getcwd())"
   ]
  },
  {
   "cell_type": "code",
   "execution_count": null,
   "id": "adolescent-meditation",
   "metadata": {},
   "outputs": [],
   "source": []
  }
 ],
 "metadata": {
  "kernelspec": {
   "display_name": "Python 3",
   "language": "python",
   "name": "python3"
  },
  "language_info": {
   "codemirror_mode": {
    "name": "ipython",
    "version": 3
   },
   "file_extension": ".py",
   "mimetype": "text/x-python",
   "name": "python",
   "nbconvert_exporter": "python",
   "pygments_lexer": "ipython3",
   "version": "3.9.1"
  }
 },
 "nbformat": 4,
 "nbformat_minor": 5
}
