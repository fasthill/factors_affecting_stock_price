{
 "cells": [
  {
   "cell_type": "code",
   "execution_count": 4,
   "id": "occupational-population",
   "metadata": {},
   "outputs": [
    {
     "name": "stdout",
     "output_type": "stream",
     "text": [
      "['Rollno.', 'Name', 'Marks']\n",
      "[]\n",
      "['1', 'Andrew', '20']\n",
      "[]\n",
      "['2', 'Roger', '18']\n",
      "[]\n",
      "['3', 'John', '14']\n",
      "[]\n",
      "['4', 'Dipin', '17']\n",
      "[]\n"
     ]
    }
   ],
   "source": [
    "# readcsv.py\n",
    "\n",
    "#import the module\n",
    "import csv\n",
    "\n",
    "file_name = 'https://raw.githubusercontent.com/fasthill/factors_affecting_stock_price/main/data/sample_file.csv'\n",
    "with open('sample_file.csv',mode='r') as file:\n",
    "# with open(file_name, mode='r') as file:\n",
    "    read=csv.reader(file)\n",
    "    for row in read:\n",
    "        print(row)"
   ]
  },
  {
   "cell_type": "code",
   "execution_count": 5,
   "id": "advised-access",
   "metadata": {},
   "outputs": [
    {
     "data": {
      "text/html": [
       "<div>\n",
       "<style scoped>\n",
       "    .dataframe tbody tr th:only-of-type {\n",
       "        vertical-align: middle;\n",
       "    }\n",
       "\n",
       "    .dataframe tbody tr th {\n",
       "        vertical-align: top;\n",
       "    }\n",
       "\n",
       "    .dataframe thead th {\n",
       "        text-align: right;\n",
       "    }\n",
       "</style>\n",
       "<table border=\"1\" class=\"dataframe\">\n",
       "  <thead>\n",
       "    <tr style=\"text-align: right;\">\n",
       "      <th></th>\n",
       "      <th>Rollno.</th>\n",
       "      <th>Name</th>\n",
       "      <th>Marks</th>\n",
       "    </tr>\n",
       "  </thead>\n",
       "  <tbody>\n",
       "    <tr>\n",
       "      <th>0</th>\n",
       "      <td>1</td>\n",
       "      <td>Andrew</td>\n",
       "      <td>20</td>\n",
       "    </tr>\n",
       "    <tr>\n",
       "      <th>1</th>\n",
       "      <td>2</td>\n",
       "      <td>Roger</td>\n",
       "      <td>18</td>\n",
       "    </tr>\n",
       "    <tr>\n",
       "      <th>2</th>\n",
       "      <td>3</td>\n",
       "      <td>John</td>\n",
       "      <td>14</td>\n",
       "    </tr>\n",
       "    <tr>\n",
       "      <th>3</th>\n",
       "      <td>4</td>\n",
       "      <td>Dipin</td>\n",
       "      <td>17</td>\n",
       "    </tr>\n",
       "  </tbody>\n",
       "</table>\n",
       "</div>"
      ],
      "text/plain": [
       "   Rollno.    Name  Marks\n",
       "0        1  Andrew     20\n",
       "1        2   Roger     18\n",
       "2        3    John     14\n",
       "3        4   Dipin     17"
      ]
     },
     "execution_count": 5,
     "metadata": {},
     "output_type": "execute_result"
    }
   ],
   "source": [
    "import pandas as pd\n",
    "\n",
    "pd.read_csv('sample_file.csv').head()"
   ]
  },
  {
   "cell_type": "code",
   "execution_count": 22,
   "id": "correct-nature",
   "metadata": {},
   "outputs": [],
   "source": [
    "# write-dictionary.py\n",
    "\n",
    "#import the module\n",
    "import csv\n",
    "\n",
    "ndict=[{'name':'Andrew','rollno.':1,'marks':19},\n",
    "       {'name':'John','rollno.':2,'marks':18},\n",
    "       {'name':'Roger','rollno.':3,'marks':16}]\n",
    "#define fields\n",
    "fields=['rollno.','name','marks']\n",
    "fileds=ndict[0].keys()\n",
    "\n",
    "with open('dictnew.csv',mode='w') as file:\n",
    "    writer=csv.DictWriter(file,fieldnames=fields)#create writer object\n",
    "    writer.writeheader() #writing field names(headings)\n",
    "    writer.writerows(ndict) #writing the data"
   ]
  },
  {
   "cell_type": "code",
   "execution_count": 2,
   "id": "limited-satellite",
   "metadata": {},
   "outputs": [],
   "source": [
    "# write.py\n",
    "\n",
    "#import the module\n",
    "import csv\n",
    "\n",
    "#defining fields\n",
    "fields=['Rollno.','Name','Marks']\n",
    "\n",
    "#defining data\n",
    "data= [[1,'Andrew',20],\n",
    "       [2,'Roger',18],\n",
    "       [3,'John',14],\n",
    "       [4,'Dipin',17]]\n",
    "\n",
    "#opening a new csv file\n",
    "with open('file.csv',mode='w') as file:\n",
    "    writer=csv.writer(file) #defing csv writer object\n",
    "\n",
    "    writer.writerow(fields) #writing the fields\n",
    "    writer.writerows(data)   #writing the data"
   ]
  },
  {
   "cell_type": "code",
   "execution_count": 15,
   "id": "536cd482",
   "metadata": {},
   "outputs": [
    {
     "data": {
      "text/plain": [
       "dict_values(['Andrew', 1, 19])"
      ]
     },
     "execution_count": 15,
     "metadata": {},
     "output_type": "execute_result"
    }
   ],
   "source": [
    "nn = ndict[0]\n",
    "nn.keys()\n",
    "nn.values()"
   ]
  },
  {
   "cell_type": "code",
   "execution_count": 20,
   "id": "8f456340",
   "metadata": {},
   "outputs": [],
   "source": [
    "f = open('file2.csv',mode='w')\n",
    "writer=csv.DictWriter(f,nn.keys())\n",
    "writer.writeheader()\n",
    "writer.writerow(nn)\n",
    "f.close()"
   ]
  },
  {
   "cell_type": "code",
   "execution_count": 19,
   "id": "7788d2d0",
   "metadata": {},
   "outputs": [],
   "source": [
    "f.close()"
   ]
  },
  {
   "cell_type": "code",
   "execution_count": null,
   "id": "8efbfdbb",
   "metadata": {},
   "outputs": [],
   "source": []
  }
 ],
 "metadata": {
  "kernelspec": {
   "display_name": "Python 3 (ipykernel)",
   "language": "python",
   "name": "python3"
  },
  "language_info": {
   "codemirror_mode": {
    "name": "ipython",
    "version": 3
   },
   "file_extension": ".py",
   "mimetype": "text/x-python",
   "name": "python",
   "nbconvert_exporter": "python",
   "pygments_lexer": "ipython3",
   "version": "3.9.1"
  }
 },
 "nbformat": 4,
 "nbformat_minor": 5
}
