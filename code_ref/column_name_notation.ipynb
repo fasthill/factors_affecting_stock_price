{
 "cells": [
  {
   "cell_type": "code",
   "execution_count": 1,
   "id": "ec3da712",
   "metadata": {},
   "outputs": [],
   "source": [
    "import pandas as pd\n",
    "\n",
    "import datetime\n",
    "from datetime import date"
   ]
  },
  {
   "cell_type": "code",
   "execution_count": 2,
   "id": "6b48560e",
   "metadata": {},
   "outputs": [
    {
     "data": {
      "text/html": [
       "<div>\n",
       "<style scoped>\n",
       "    .dataframe tbody tr th:only-of-type {\n",
       "        vertical-align: middle;\n",
       "    }\n",
       "\n",
       "    .dataframe tbody tr th {\n",
       "        vertical-align: top;\n",
       "    }\n",
       "\n",
       "    .dataframe thead th {\n",
       "        text-align: right;\n",
       "    }\n",
       "</style>\n",
       "<table border=\"1\" class=\"dataframe\">\n",
       "  <thead>\n",
       "    <tr style=\"text-align: right;\">\n",
       "      <th></th>\n",
       "      <th>number</th>\n",
       "      <th>abbreviation</th>\n",
       "      <th>item_eng</th>\n",
       "      <th>item_kor</th>\n",
       "      <th>explanation</th>\n",
       "      <th>etc</th>\n",
       "    </tr>\n",
       "  </thead>\n",
       "  <tbody>\n",
       "    <tr>\n",
       "      <th>0</th>\n",
       "      <td>1</td>\n",
       "      <td>date</td>\n",
       "      <td>date</td>\n",
       "      <td>거래일자</td>\n",
       "      <td>NaN</td>\n",
       "      <td>NaN</td>\n",
       "    </tr>\n",
       "    <tr>\n",
       "      <th>1</th>\n",
       "      <td>2</td>\n",
       "      <td>ixic</td>\n",
       "      <td>IXIC</td>\n",
       "      <td>나스닥지수</td>\n",
       "      <td>전일 지수</td>\n",
       "      <td>NaN</td>\n",
       "    </tr>\n",
       "    <tr>\n",
       "      <th>2</th>\n",
       "      <td>3</td>\n",
       "      <td>ixic_cr</td>\n",
       "      <td>IXIC_change_rate</td>\n",
       "      <td>나스닥지수_변동률</td>\n",
       "      <td>전일 변동률</td>\n",
       "      <td>1주 변동률 추이 검토</td>\n",
       "    </tr>\n",
       "    <tr>\n",
       "      <th>3</th>\n",
       "      <td>4</td>\n",
       "      <td>ixic_f</td>\n",
       "      <td>IXIC_future</td>\n",
       "      <td>나스닥선물지수</td>\n",
       "      <td>NaN</td>\n",
       "      <td>NaN</td>\n",
       "    </tr>\n",
       "    <tr>\n",
       "      <th>4</th>\n",
       "      <td>5</td>\n",
       "      <td>ixic_f_cr</td>\n",
       "      <td>IXIC_future_change_rate</td>\n",
       "      <td>나스닥선물지수_변동률</td>\n",
       "      <td>NaN</td>\n",
       "      <td>NaN</td>\n",
       "    </tr>\n",
       "  </tbody>\n",
       "</table>\n",
       "</div>"
      ],
      "text/plain": [
       "   number abbreviation                 item_eng     item_kor explanation  \\\n",
       "0       1         date                     date         거래일자         NaN   \n",
       "1       2         ixic                     IXIC        나스닥지수       전일 지수   \n",
       "2       3      ixic_cr         IXIC_change_rate    나스닥지수_변동률      전일 변동률   \n",
       "3       4       ixic_f              IXIC_future      나스닥선물지수         NaN   \n",
       "4       5    ixic_f_cr  IXIC_future_change_rate  나스닥선물지수_변동률         NaN   \n",
       "\n",
       "            etc  \n",
       "0           NaN  \n",
       "1           NaN  \n",
       "2  1주 변동률 추이 검토  \n",
       "3           NaN  \n",
       "4           NaN  "
      ]
     },
     "execution_count": 2,
     "metadata": {},
     "output_type": "execute_result"
    }
   ],
   "source": [
    "df = pd.read_csv('data/data_fmt_readme.csv')\n",
    "df.head()"
   ]
  },
  {
   "cell_type": "code",
   "execution_count": 3,
   "id": "0672b292",
   "metadata": {},
   "outputs": [
    {
     "name": "stdout",
     "output_type": "stream",
     "text": [
      "[3]\n"
     ]
    }
   ],
   "source": [
    "name = 'ixic_f'\n",
    "print(df[df['abbreviation'].isin([name])].index.values)"
   ]
  },
  {
   "cell_type": "code",
   "execution_count": 4,
   "id": "78ee854f",
   "metadata": {},
   "outputs": [],
   "source": [
    "def get_index(df, abbr):\n",
    "    if df['abbreviation'].isin([abbr]).any():\n",
    "        ix = df[df['abbreviation'].isin([abbr])].index[0]\n",
    "    else :\n",
    "        ix = None\n",
    "    return ix"
   ]
  },
  {
   "cell_type": "code",
   "execution_count": 5,
   "id": "72c75cbd",
   "metadata": {},
   "outputs": [],
   "source": [
    "def get_item_name(df, ix):\n",
    "    item_eng = df.loc[ix, \"item_eng\"]\n",
    "    item_kor = df.loc[ix, \"item_kor\"]\n",
    "    print(item_eng, item_kor)"
   ]
  },
  {
   "cell_type": "code",
   "execution_count": 6,
   "id": "ec133aa8",
   "metadata": {},
   "outputs": [
    {
     "name": "stdout",
     "output_type": "stream",
     "text": [
      "date 거래일자\n"
     ]
    }
   ],
   "source": [
    "get_item_name(df, 0)"
   ]
  },
  {
   "cell_type": "code",
   "execution_count": null,
   "id": "d7ce0d32",
   "metadata": {},
   "outputs": [],
   "source": [
    "ix = get_index(df, 'ixic_f')\n",
    "if not ix :\n",
    "    print('There is no name')\n",
    "else:\n",
    "    print(ix)"
   ]
  },
  {
   "cell_type": "code",
   "execution_count": 7,
   "id": "adcfba45",
   "metadata": {},
   "outputs": [
    {
     "data": {
      "text/html": [
       "<div>\n",
       "<style scoped>\n",
       "    .dataframe tbody tr th:only-of-type {\n",
       "        vertical-align: middle;\n",
       "    }\n",
       "\n",
       "    .dataframe tbody tr th {\n",
       "        vertical-align: top;\n",
       "    }\n",
       "\n",
       "    .dataframe thead th {\n",
       "        text-align: right;\n",
       "    }\n",
       "</style>\n",
       "<table border=\"1\" class=\"dataframe\">\n",
       "  <thead>\n",
       "    <tr style=\"text-align: right;\">\n",
       "      <th></th>\n",
       "      <th>number</th>\n",
       "      <th>abbreviation</th>\n",
       "      <th>item_eng</th>\n",
       "      <th>item_kor</th>\n",
       "      <th>explanation</th>\n",
       "      <th>etc</th>\n",
       "    </tr>\n",
       "  </thead>\n",
       "  <tbody>\n",
       "    <tr>\n",
       "      <th>20</th>\n",
       "      <td>21</td>\n",
       "      <td>bond_usa_10</td>\n",
       "      <td>10_YEAR_BOND_YIELD_usa</td>\n",
       "      <td>미국10년만기국채수익률</td>\n",
       "      <td>NaN</td>\n",
       "      <td>NaN</td>\n",
       "    </tr>\n",
       "    <tr>\n",
       "      <th>23</th>\n",
       "      <td>24</td>\n",
       "      <td>bond_kor_10</td>\n",
       "      <td>10_YEAR_BOND_YIELD_korea</td>\n",
       "      <td>미국10년만기국채수익률</td>\n",
       "      <td>NaN</td>\n",
       "      <td>NaN</td>\n",
       "    </tr>\n",
       "  </tbody>\n",
       "</table>\n",
       "</div>"
      ],
      "text/plain": [
       "    number abbreviation                  item_eng      item_kor explanation  \\\n",
       "20      21  bond_usa_10    10_YEAR_BOND_YIELD_usa  미국10년만기국채수익률         NaN   \n",
       "23      24  bond_kor_10  10_YEAR_BOND_YIELD_korea  미국10년만기국채수익률         NaN   \n",
       "\n",
       "    etc  \n",
       "20  NaN  \n",
       "23  NaN  "
      ]
     },
     "execution_count": 7,
     "metadata": {},
     "output_type": "execute_result"
    }
   ],
   "source": [
    "df[df['item_kor'].str.contains('10')]"
   ]
  },
  {
   "cell_type": "code",
   "execution_count": null,
   "id": "be0bef24",
   "metadata": {},
   "outputs": [],
   "source": []
  }
 ],
 "metadata": {
  "kernelspec": {
   "display_name": "Python 3",
   "language": "python",
   "name": "python3"
  },
  "language_info": {
   "codemirror_mode": {
    "name": "ipython",
    "version": 3
   },
   "file_extension": ".py",
   "mimetype": "text/x-python",
   "name": "python",
   "nbconvert_exporter": "python",
   "pygments_lexer": "ipython3",
   "version": "3.9.1"
  }
 },
 "nbformat": 4,
 "nbformat_minor": 5
}
