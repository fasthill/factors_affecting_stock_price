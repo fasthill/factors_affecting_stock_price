{
 "cells": [
  {
   "cell_type": "markdown",
   "id": "according-stone",
   "metadata": {},
   "source": [
    "### Selenium window Handling\n",
    "\n",
    "https://pythondocs.net/selenium/셀레니움-크롤러-기본-사용법/#탭_이동"
   ]
  },
  {
   "cell_type": "code",
   "execution_count": 8,
   "id": "a39326b2",
   "metadata": {},
   "outputs": [],
   "source": [
    "from selenium import webdriver as wd\n",
    "from selenium import webdriver\n",
    "from bs4 import BeautifulSoup as bs\n",
    "\n",
    "from selenium.webdriver.chrome.options import Options\n",
    "from selenium.webdriver.common.keys import Keys\n",
    "from selenium.webdriver.common.by import By\n",
    "import datetime, time\n",
    "from time import sleep\n",
    "\n",
    "import chromedriver_autoinstaller\n",
    "\n",
    "import pandas as pd\n",
    "import numpy as np\n",
    "\n",
    "import subprocess\n",
    "import shutil\n",
    "import pyperclip\n",
    "\n",
    "import requests\n",
    "import os, sys"
   ]
  },
  {
   "cell_type": "code",
   "execution_count": 2,
   "id": "72ebbeab",
   "metadata": {},
   "outputs": [],
   "source": [
    "from selenium.webdriver.common.by import By\n",
    "from selenium.webdriver.support.ui import WebDriverWait\n",
    "from selenium.webdriver.support import expected_conditions as EC"
   ]
  },
  {
   "cell_type": "code",
   "execution_count": 3,
   "id": "ec15a172",
   "metadata": {},
   "outputs": [],
   "source": [
    "try:\n",
    "    subprocess.Popen(r'C:\\Program Files\\Google\\Chrome\\Application\\chrome.exe --remote-debugging-port=9222 --user-data-dir=\"C:\\chrometemp1\"')  # 디버거 크롬 구동\n",
    "except:\n",
    "    subprocess.Popen(r'C:\\Program Files (x86)\\Google\\Chrome\\Application\\chrome.exe --remote-debugging-port=9222 --user-data-dir=\"C:\\chrometemp1\"')  # 디버거 크롬 구동\n",
    "# 위 두개의 위치중 한 곳에 chrome이 설치되어 있음."
   ]
  },
  {
   "cell_type": "code",
   "execution_count": 4,
   "id": "4c2baafd",
   "metadata": {},
   "outputs": [],
   "source": [
    "option = Options()\n",
    "option.add_experimental_option(\"debuggerAddress\", \"127.0.0.1:9222\") # 포트 설정. 그냥 복붙하면 됨."
   ]
  },
  {
   "cell_type": "code",
   "execution_count": 5,
   "id": "76d92555",
   "metadata": {},
   "outputs": [],
   "source": [
    "chrome_ver = chromedriver_autoinstaller.get_chrome_version().split('.')[0]\n",
    "try:\n",
    "    driver = wd.Chrome(f'./{chrome_ver}/chromedriver.exe', options=option)\n",
    "except:\n",
    "    chromedriver_autoinstaller.install(True)\n",
    "    driver = wd.Chrome(f'./{chrome_ver}/chromedriver.exe', options=option)\n",
    "driver.implicitly_wait(20)"
   ]
  },
  {
   "cell_type": "code",
   "execution_count": 6,
   "id": "40a90c17",
   "metadata": {},
   "outputs": [],
   "source": [
    "from selenium import webdriver\n",
    "from time import sleep"
   ]
  },
  {
   "cell_type": "code",
   "execution_count": 7,
   "id": "29e69d53",
   "metadata": {},
   "outputs": [],
   "source": [
    "# driver.set_window_position(-10000,0) # hide windows\n",
    "main_url = 'https://kr.investing.com/'\n",
    "main_url = \"https://vip.mk.co.kr/newSt/price/trade.php?stCode=005930\"\n",
    "driver.get(main_url)\n",
    "time.sleep(1)"
   ]
  },
  {
   "cell_type": "code",
   "execution_count": null,
   "id": "marked-breath",
   "metadata": {},
   "outputs": [],
   "source": [
    "element = driver.find_element_by_tag_name('iframe')\n",
    "element"
   ]
  },
  {
   "cell_type": "code",
   "execution_count": null,
   "id": "opening-drinking",
   "metadata": {},
   "outputs": [],
   "source": [
    "#프레임 이동\n",
    "driver.switch_to.frame(element)"
   ]
  },
  {
   "cell_type": "code",
   "execution_count": null,
   "id": "institutional-victoria",
   "metadata": {},
   "outputs": [],
   "source": [
    "driver.get_cookies()"
   ]
  },
  {
   "cell_type": "code",
   "execution_count": null,
   "id": "dependent-stylus",
   "metadata": {},
   "outputs": [],
   "source": [
    "#프레임에서 빠져나오기\n",
    "driver.switch_to.default_content()"
   ]
  },
  {
   "cell_type": "code",
   "execution_count": null,
   "id": "funded-mainstream",
   "metadata": {},
   "outputs": [],
   "source": [
    "driver.window_handles"
   ]
  },
  {
   "cell_type": "code",
   "execution_count": null,
   "id": "cb9ad4c9",
   "metadata": {},
   "outputs": [],
   "source": [
    "main_win = driver.window_handles[0]"
   ]
  },
  {
   "cell_type": "code",
   "execution_count": null,
   "id": "4c50af79",
   "metadata": {},
   "outputs": [],
   "source": [
    "driver.switch_to.window(main_win)"
   ]
  },
  {
   "cell_type": "code",
   "execution_count": null,
   "id": "32d1d726",
   "metadata": {},
   "outputs": [],
   "source": [
    "driver.switch_to.frame('port_2004') #(2) 특정 프레임으로 전환"
   ]
  },
  {
   "cell_type": "code",
   "execution_count": null,
   "id": "25d1a9e3",
   "metadata": {},
   "outputs": [],
   "source": [
    "sel = 'body > table:nth-child(4) > tbody > tr > td > p:nth-child(6) > table > tbody > tr:nth-child(1) > td:nth-child(2) > font'"
   ]
  },
  {
   "cell_type": "code",
   "execution_count": null,
   "id": "4d2f727c",
   "metadata": {},
   "outputs": [],
   "source": [
    "driver.find_element_by_css_selector(sel).text"
   ]
  },
  {
   "cell_type": "code",
   "execution_count": null,
   "id": "df8c8947",
   "metadata": {},
   "outputs": [],
   "source": [
    "soup = bs(driver.page_source, 'html.parser')"
   ]
  },
  {
   "cell_type": "code",
   "execution_count": null,
   "id": "57423ffb",
   "metadata": {},
   "outputs": [],
   "source": [
    "try: \n",
    "    alert_obj = driver.switch_to.alert\n",
    "except:\n",
    "    print(\"No Alert windows\")\n",
    "    pass\n",
    "\n",
    "# alert_obj.accept() – used to accept the Alert\n",
    "# alert_obj.dismiss() – used to cancel the Alert\n",
    "# alert.send_keys() – used to enter a value in the Alert text box.\n",
    "# alert.text() – used to retrieve the message included in the Alert pop-up."
   ]
  },
  {
   "cell_type": "code",
   "execution_count": null,
   "id": "agreed-roulette",
   "metadata": {},
   "outputs": [],
   "source": [
    "try: # pop up 창이 뜨는 것을 확인\n",
    "    element = driver.find_element_by_id('PromoteSignUpPopUp')\n",
    "    driver.find_element_by_css_selector('#PromoteSignUpPopUp > div.right > i').send_keys(Keys.ENTER)\n",
    "    time.sleep(1)\n",
    "    \n",
    "except:\n",
    "    pass"
   ]
  },
  {
   "cell_type": "code",
   "execution_count": null,
   "id": "49e9ae39",
   "metadata": {},
   "outputs": [],
   "source": [
    "try: # 이미 로그인이 되어 있으면 skip\n",
    "    driver.find_element_by_css_selector('#userAccount > div > a.login.bold').click() \n",
    "    time.sleep(1)\n",
    "    \n",
    "    id = 'kangeun@naver.com'\n",
    "    pyperclip.copy(id) # control+c 기능 수행\n",
    "    driver.find_element_by_id('loginFormUser_email').clear()\n",
    "    driver.find_element_by_id('loginFormUser_email').send_keys(Keys.CONTROL + 'v')\n",
    "    time.sleep(1)\n",
    "    \n",
    "    pw = os.environ['investing_pass']\n",
    "    pyperclip.copy(pw) # control+c 기능 수행\n",
    "    driver.find_element_by_id('loginForm_password').clear()\n",
    "    driver.find_element_by_id('loginForm_password').send_keys(Keys.CONTROL + 'v')\n",
    "    time.sleep(1)  \n",
    "    \n",
    "    driver.find_element_by_css_selector('#signup > a.newButton.orange').click()  \n",
    "    time.sleep(2)\n",
    "    \n",
    "except:\n",
    "    pass"
   ]
  },
  {
   "cell_type": "code",
   "execution_count": null,
   "id": "7c2afd35",
   "metadata": {},
   "outputs": [],
   "source": [
    " WebDriverWait(driver, 5).until(lambda d: len(d.window_handles) == 2)"
   ]
  },
  {
   "cell_type": "code",
   "execution_count": null,
   "id": "d5dab736",
   "metadata": {},
   "outputs": [],
   "source": [
    "driver.window_handles[1]"
   ]
  },
  {
   "cell_type": "code",
   "execution_count": null,
   "id": "b0474377",
   "metadata": {},
   "outputs": [],
   "source": [
    "driver.switch_to.window(driver.window_handles[1]).close()"
   ]
  },
  {
   "cell_type": "code",
   "execution_count": null,
   "id": "f58c198c",
   "metadata": {},
   "outputs": [],
   "source": [
    "driver.switch_to.window(driver.window_handles[0])"
   ]
  },
  {
   "cell_type": "code",
   "execution_count": null,
   "id": "1d3e463a",
   "metadata": {},
   "outputs": [],
   "source": [
    "# go to the home page\n",
    "driver.get('https://www.zomato.com')"
   ]
  },
  {
   "cell_type": "code",
   "execution_count": null,
   "id": "e7695888",
   "metadata": {},
   "outputs": [],
   "source": [
    "# storing the current window handle to get back to dashboard\n",
    "main_page = driver.current_window_handle \n",
    "# wait for page to load completely\n",
    "sleep(5)"
   ]
  },
  {
   "cell_type": "code",
   "execution_count": null,
   "id": "91734de0",
   "metadata": {},
   "outputs": [],
   "source": [
    "main_page"
   ]
  },
  {
   "cell_type": "code",
   "execution_count": null,
   "id": "08d5602b",
   "metadata": {},
   "outputs": [],
   "source": [
    "# click on the sign in tab\n",
    "driver.find_element_by_xpath('//*[@id=\"navigation_cl5k372yt001f26nuctwg9twg\"]/li[4]/a').click()\n",
    "sleep(5)"
   ]
  },
  {
   "cell_type": "code",
   "execution_count": null,
   "id": "b8e1af5a",
   "metadata": {},
   "outputs": [],
   "source": [
    "# click to log in using facebook\n",
    "driver.find_element_by_xpath('//*[@id=\"id-81\"]/section[2]/section/div[4]/div/span').click() "
   ]
  },
  {
   "cell_type": "code",
   "execution_count": null,
   "id": "610ed1e9",
   "metadata": {},
   "outputs": [],
   "source": [
    "driver.window_handles"
   ]
  },
  {
   "cell_type": "code",
   "execution_count": null,
   "id": "38d14689",
   "metadata": {},
   "outputs": [],
   "source": []
  },
  {
   "cell_type": "code",
   "execution_count": null,
   "id": "02303171",
   "metadata": {},
   "outputs": [],
   "source": [
    "# changing the handles to access login page\n",
    "for handle in driver.window_handles:\n",
    "    if handle != main_page:\n",
    "        login_page = handle"
   ]
  },
  {
   "cell_type": "code",
   "execution_count": null,
   "id": "c03f1880",
   "metadata": {},
   "outputs": [],
   "source": [
    "login_page"
   ]
  },
  {
   "cell_type": "code",
   "execution_count": null,
   "id": "ac2bcb8b",
   "metadata": {},
   "outputs": [],
   "source": [
    "# change the control to signin page       \n",
    "driver.switch_to.window('CDwindow-861BD41E9739768B8BC07E42EC614499')"
   ]
  },
  {
   "cell_type": "code",
   "execution_count": null,
   "id": "c06c4aa7",
   "metadata": {},
   "outputs": [],
   "source": [
    "# change the control to signin page       \n",
    "driver.switch_to.window(login_page)"
   ]
  },
  {
   "cell_type": "code",
   "execution_count": null,
   "id": "248fb0fc",
   "metadata": {},
   "outputs": [],
   "source": [
    "# user input for email and password\n",
    "print('Enter email id : ', end ='')\n",
    "email = input().strip()\n",
    "print('Enter password : ', end ='')\n",
    "password = input().strip()"
   ]
  },
  {
   "cell_type": "code",
   "execution_count": null,
   "id": "b1b0842c",
   "metadata": {},
   "outputs": [],
   "source": [
    "# enter the email\n",
    "driver.find_element_by_xpath('//*[@id =\"email\"]').send_keys(email)\n",
    " \n",
    "# enter the password\n",
    "driver.find_element_by_xpath('//*[@id =\"pass\"]').send_keys(password)\n",
    " \n",
    "# click the login button\n",
    "driver.find_element_by_xpath('//*[@id =\"u_0_0\"]').click()"
   ]
  },
  {
   "cell_type": "code",
   "execution_count": null,
   "id": "c113cf82",
   "metadata": {},
   "outputs": [],
   "source": [
    "# change control to main page\n",
    "driver.switch_to.window(main_page)\n",
    "sleep(10)"
   ]
  },
  {
   "cell_type": "code",
   "execution_count": null,
   "id": "661857e7",
   "metadata": {},
   "outputs": [],
   "source": [
    "# print user name\n",
    "name = driver.find_element_by_xpath('/html/body/div[4]/div/div[1]/header/div[2]/div/div/div/div/span').text\n",
    "print('Your user name is : {}'.format(name))\n",
    " \n",
    "# closing the window\n",
    "driver.quit()"
   ]
  },
  {
   "cell_type": "code",
   "execution_count": null,
   "id": "938f4947",
   "metadata": {},
   "outputs": [],
   "source": [
    "driver.close()"
   ]
  },
  {
   "cell_type": "code",
   "execution_count": null,
   "id": "e33c195b",
   "metadata": {},
   "outputs": [],
   "source": [
    "driver.quit()"
   ]
  },
  {
   "cell_type": "code",
   "execution_count": null,
   "id": "adopted-mexican",
   "metadata": {},
   "outputs": [],
   "source": [
    "while True:\n",
    "    try:\n",
    "    # driver.set_window_position(-10000,0) # hide windows\n",
    "        main_url = 'https://kr.investing.com/'\n",
    "        main_url = 'https://vip.mk.co.kr/newSt/rate/trade.php'\n",
    "        driver.get(main_url)\n",
    "        time.sleep(1)\n",
    "        break\n",
    "    except:\n",
    "        print(\"Message: unknown error: cannot determine loading status\")\n",
    "        print(\"Try Again\")\n",
    "        time.sleep(3)\n",
    "        pass"
   ]
  },
  {
   "cell_type": "code",
   "execution_count": null,
   "id": "noble-ottawa",
   "metadata": {},
   "outputs": [],
   "source": [
    "win_main = driver.window_handles"
   ]
  },
  {
   "cell_type": "code",
   "execution_count": null,
   "id": "premium-viewer",
   "metadata": {},
   "outputs": [],
   "source": [
    "driver.switch_to.frame('port_2004')"
   ]
  },
  {
   "cell_type": "code",
   "execution_count": null,
   "id": "neutral-bennett",
   "metadata": {},
   "outputs": [],
   "source": [
    "df = pd.read_html(driver.page_source, attrs={\"id\":\"table1\"})[0]"
   ]
  },
  {
   "cell_type": "code",
   "execution_count": null,
   "id": "reflected-radiation",
   "metadata": {},
   "outputs": [],
   "source": [
    "df.head()"
   ]
  },
  {
   "cell_type": "code",
   "execution_count": null,
   "id": "incident-coaching",
   "metadata": {},
   "outputs": [],
   "source": [
    "driver.switch_to.window(win_main)"
   ]
  },
  {
   "cell_type": "code",
   "execution_count": null,
   "id": "excellent-antigua",
   "metadata": {},
   "outputs": [],
   "source": [
    "df = pd.read_html(driver.page_source, attrs={\"id\":\"table1\"})[0]"
   ]
  },
  {
   "cell_type": "code",
   "execution_count": null,
   "id": "judicial-intensity",
   "metadata": {},
   "outputs": [],
   "source": [
    "df.head()"
   ]
  },
  {
   "cell_type": "code",
   "execution_count": null,
   "id": "pregnant-nomination",
   "metadata": {},
   "outputs": [],
   "source": []
  }
 ],
 "metadata": {
  "kernelspec": {
   "display_name": "Python 3 (ipykernel)",
   "language": "python",
   "name": "python3"
  },
  "language_info": {
   "codemirror_mode": {
    "name": "ipython",
    "version": 3
   },
   "file_extension": ".py",
   "mimetype": "text/x-python",
   "name": "python",
   "nbconvert_exporter": "python",
   "pygments_lexer": "ipython3",
   "version": "3.9.1"
  }
 },
 "nbformat": 4,
 "nbformat_minor": 5
}
