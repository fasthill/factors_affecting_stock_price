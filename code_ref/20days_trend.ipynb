{
 "cells": [
  {
   "cell_type": "code",
   "execution_count": 1,
   "id": "together-jacket",
   "metadata": {},
   "outputs": [],
   "source": [
    "import pandas as pd\n",
    "import numpy as np\n",
    "\n",
    "import matplotlib.pyplot as plt"
   ]
  },
  {
   "cell_type": "code",
   "execution_count": 2,
   "id": "d6d54865",
   "metadata": {},
   "outputs": [],
   "source": [
    "def allsatsundays(start_date, end_date):\n",
    "    day_sat = pd.date_range(start=start_date, end=end_date, \n",
    "                         freq='W-SAT').strftime('%Y-%m-%d').tolist()\n",
    "    day_sun = pd.date_range(start=start_date, end=end_date, \n",
    "                         freq='W-SUN').strftime('%Y-%m-%d').tolist()\n",
    "    days = day_sat+day_sun\n",
    "    days.sort()\n",
    "    return days\n",
    "\n",
    "def allsatsundays(start_date, end_date):\n",
    "    day_sat = pd.date_range(start=start_date, end=end_date, \n",
    "                         freq='W-SAT').strftime('%Y-%m-%d').tolist()\n",
    "    day_sun = pd.date_range(start=start_date, end=end_date, \n",
    "                         freq='W-SUN').strftime('%Y-%m-%d').tolist()\n",
    "    days = day_sat+day_sun\n",
    "    days.sort()\n",
    "    return days\n",
    "\n",
    "def get_stock_market_holydays(filename, start_date, end_date):\n",
    "    df = pd.read_csv(filename)\n",
    "    kor_days = df['KOR'][df['KOR'].notnull()].values.tolist()\n",
    "    usa_days = df['USA'][df['USA'].notnull()].values.tolist() # Nan value를 제외한 값을 리스트로 변환\n",
    "\n",
    "    holydays = allsatsundays(start_date, end_date)\n",
    "    \n",
    "    kor_days = sorted(set(kor_days + holydays))\n",
    "    usa_days = sorted(set(usa_days + holydays))\n",
    "    \n",
    "    return kor_days, usa_days\n",
    "\n",
    "def get_seq_data(filename, holydays):\n",
    "    df = pd.read_csv(filename)\n",
    "    df_seq = df[~df['date'].isin(holydays)].copy()\n",
    "    df_seq.dropna(subset=df.columns[1:], how='all', inplace=True)\n",
    "    return df_seq"
   ]
  },
  {
   "cell_type": "code",
   "execution_count": 3,
   "id": "second-sunrise",
   "metadata": {},
   "outputs": [],
   "source": [
    "filename = 'https://raw.githubusercontent.com/fasthill/'\\\n",
    "            'factors_affecting_stock_price/main/data/stock_market_holydays/stock_market_holidays.csv'\n",
    "start_date = '2020-01-01'\n",
    "end_date = '2022-12-31'\n",
    "\n",
    "kor_days, usa_days = get_stock_market_holydays(filename, start_date, end_date) # get stock market holydays"
   ]
  },
  {
   "cell_type": "code",
   "execution_count": 4,
   "id": "dress-visiting",
   "metadata": {},
   "outputs": [],
   "source": [
    "filename = '../data/data_hyunmotor.csv'\n",
    "df = get_seq_data(filename, kor_days)"
   ]
  },
  {
   "cell_type": "code",
   "execution_count": 5,
   "id": "assumed-heather",
   "metadata": {},
   "outputs": [
    {
     "data": {
      "text/html": [
       "<div>\n",
       "<style scoped>\n",
       "    .dataframe tbody tr th:only-of-type {\n",
       "        vertical-align: middle;\n",
       "    }\n",
       "\n",
       "    .dataframe tbody tr th {\n",
       "        vertical-align: top;\n",
       "    }\n",
       "\n",
       "    .dataframe thead th {\n",
       "        text-align: right;\n",
       "    }\n",
       "</style>\n",
       "<table border=\"1\" class=\"dataframe\">\n",
       "  <thead>\n",
       "    <tr style=\"text-align: right;\">\n",
       "      <th></th>\n",
       "      <th>date</th>\n",
       "      <th>retail</th>\n",
       "      <th>retail_cr</th>\n",
       "      <th>retail_days</th>\n",
       "      <th>foreigner</th>\n",
       "      <th>foreigner_cr</th>\n",
       "      <th>foreigner_days</th>\n",
       "      <th>institution</th>\n",
       "      <th>institution_cr</th>\n",
       "      <th>institution_days</th>\n",
       "      <th>...</th>\n",
       "      <th>rc4_pcr</th>\n",
       "      <th>open</th>\n",
       "      <th>high</th>\n",
       "      <th>low</th>\n",
       "      <th>close</th>\n",
       "      <th>close_cr</th>\n",
       "      <th>vol</th>\n",
       "      <th>vol_cr</th>\n",
       "      <th>high_time</th>\n",
       "      <th>low_time</th>\n",
       "    </tr>\n",
       "  </thead>\n",
       "  <tbody>\n",
       "    <tr>\n",
       "      <th>919</th>\n",
       "      <td>2022-07-08</td>\n",
       "      <td>-20479.0</td>\n",
       "      <td>NaN</td>\n",
       "      <td>NaN</td>\n",
       "      <td>15617.0</td>\n",
       "      <td>NaN</td>\n",
       "      <td>NaN</td>\n",
       "      <td>3853.0</td>\n",
       "      <td>NaN</td>\n",
       "      <td>NaN</td>\n",
       "      <td>...</td>\n",
       "      <td>NaN</td>\n",
       "      <td>177500.0</td>\n",
       "      <td>180500.0</td>\n",
       "      <td>177000.0</td>\n",
       "      <td>178000.0</td>\n",
       "      <td>1.71</td>\n",
       "      <td>147130.0</td>\n",
       "      <td>NaN</td>\n",
       "      <td>NaN</td>\n",
       "      <td>NaN</td>\n",
       "    </tr>\n",
       "    <tr>\n",
       "      <th>922</th>\n",
       "      <td>2022-07-11</td>\n",
       "      <td>-10749.0</td>\n",
       "      <td>NaN</td>\n",
       "      <td>NaN</td>\n",
       "      <td>11123.0</td>\n",
       "      <td>NaN</td>\n",
       "      <td>NaN</td>\n",
       "      <td>-719.0</td>\n",
       "      <td>NaN</td>\n",
       "      <td>NaN</td>\n",
       "      <td>...</td>\n",
       "      <td>NaN</td>\n",
       "      <td>180000.0</td>\n",
       "      <td>182000.0</td>\n",
       "      <td>179000.0</td>\n",
       "      <td>179000.0</td>\n",
       "      <td>0.56</td>\n",
       "      <td>119200.0</td>\n",
       "      <td>NaN</td>\n",
       "      <td>NaN</td>\n",
       "      <td>NaN</td>\n",
       "    </tr>\n",
       "    <tr>\n",
       "      <th>923</th>\n",
       "      <td>2022-07-12</td>\n",
       "      <td>868.0</td>\n",
       "      <td>NaN</td>\n",
       "      <td>NaN</td>\n",
       "      <td>3282.0</td>\n",
       "      <td>NaN</td>\n",
       "      <td>NaN</td>\n",
       "      <td>-3835.0</td>\n",
       "      <td>NaN</td>\n",
       "      <td>NaN</td>\n",
       "      <td>...</td>\n",
       "      <td>NaN</td>\n",
       "      <td>180000.0</td>\n",
       "      <td>181500.0</td>\n",
       "      <td>177000.0</td>\n",
       "      <td>179000.0</td>\n",
       "      <td>0.00</td>\n",
       "      <td>96440.0</td>\n",
       "      <td>NaN</td>\n",
       "      <td>NaN</td>\n",
       "      <td>NaN</td>\n",
       "    </tr>\n",
       "    <tr>\n",
       "      <th>924</th>\n",
       "      <td>2022-07-13</td>\n",
       "      <td>-40414.0</td>\n",
       "      <td>NaN</td>\n",
       "      <td>NaN</td>\n",
       "      <td>18096.0</td>\n",
       "      <td>NaN</td>\n",
       "      <td>NaN</td>\n",
       "      <td>22755.0</td>\n",
       "      <td>NaN</td>\n",
       "      <td>NaN</td>\n",
       "      <td>...</td>\n",
       "      <td>NaN</td>\n",
       "      <td>180000.0</td>\n",
       "      <td>185000.0</td>\n",
       "      <td>178500.0</td>\n",
       "      <td>183500.0</td>\n",
       "      <td>2.51</td>\n",
       "      <td>172566.0</td>\n",
       "      <td>NaN</td>\n",
       "      <td>NaN</td>\n",
       "      <td>NaN</td>\n",
       "    </tr>\n",
       "    <tr>\n",
       "      <th>925</th>\n",
       "      <td>2022-07-14</td>\n",
       "      <td>13810.0</td>\n",
       "      <td>NaN</td>\n",
       "      <td>NaN</td>\n",
       "      <td>9619.0</td>\n",
       "      <td>NaN</td>\n",
       "      <td>NaN</td>\n",
       "      <td>-23410.0</td>\n",
       "      <td>NaN</td>\n",
       "      <td>NaN</td>\n",
       "      <td>...</td>\n",
       "      <td>NaN</td>\n",
       "      <td>183000.0</td>\n",
       "      <td>184500.0</td>\n",
       "      <td>180500.0</td>\n",
       "      <td>182500.0</td>\n",
       "      <td>-0.54</td>\n",
       "      <td>142369.0</td>\n",
       "      <td>NaN</td>\n",
       "      <td>NaN</td>\n",
       "      <td>NaN</td>\n",
       "    </tr>\n",
       "  </tbody>\n",
       "</table>\n",
       "<p>5 rows × 50 columns</p>\n",
       "</div>"
      ],
      "text/plain": [
       "           date   retail  retail_cr  retail_days  foreigner  foreigner_cr  \\\n",
       "919  2022-07-08 -20479.0        NaN          NaN    15617.0           NaN   \n",
       "922  2022-07-11 -10749.0        NaN          NaN    11123.0           NaN   \n",
       "923  2022-07-12    868.0        NaN          NaN     3282.0           NaN   \n",
       "924  2022-07-13 -40414.0        NaN          NaN    18096.0           NaN   \n",
       "925  2022-07-14  13810.0        NaN          NaN     9619.0           NaN   \n",
       "\n",
       "     foreigner_days  institution  institution_cr  institution_days  ...  \\\n",
       "919             NaN       3853.0             NaN               NaN  ...   \n",
       "922             NaN       -719.0             NaN               NaN  ...   \n",
       "923             NaN      -3835.0             NaN               NaN  ...   \n",
       "924             NaN      22755.0             NaN               NaN  ...   \n",
       "925             NaN     -23410.0             NaN               NaN  ...   \n",
       "\n",
       "     rc4_pcr      open      high       low     close  close_cr       vol  \\\n",
       "919      NaN  177500.0  180500.0  177000.0  178000.0      1.71  147130.0   \n",
       "922      NaN  180000.0  182000.0  179000.0  179000.0      0.56  119200.0   \n",
       "923      NaN  180000.0  181500.0  177000.0  179000.0      0.00   96440.0   \n",
       "924      NaN  180000.0  185000.0  178500.0  183500.0      2.51  172566.0   \n",
       "925      NaN  183000.0  184500.0  180500.0  182500.0     -0.54  142369.0   \n",
       "\n",
       "     vol_cr  high_time  low_time  \n",
       "919     NaN        NaN       NaN  \n",
       "922     NaN        NaN       NaN  \n",
       "923     NaN        NaN       NaN  \n",
       "924     NaN        NaN       NaN  \n",
       "925     NaN        NaN       NaN  \n",
       "\n",
       "[5 rows x 50 columns]"
      ]
     },
     "execution_count": 5,
     "metadata": {},
     "output_type": "execute_result"
    }
   ],
   "source": [
    "df =  df[:-1]\n",
    "df.tail()"
   ]
  },
  {
   "cell_type": "code",
   "execution_count": null,
   "id": "ba6d4517",
   "metadata": {},
   "outputs": [],
   "source": [
    "import datetime, time\n",
    "def get_20days_data(series):\n",
    "    x_num = np.arange(1, 21)\n",
    "    for i in range(len(series)-600):\n",
    "        y = series[i:i+20]\n",
    "        plt.plot(x_num, y)\n",
    "        plt.show()\n",
    "        time.sleep(0.3)"
   ]
  },
  {
   "cell_type": "code",
   "execution_count": null,
   "id": "8f3c7aa9",
   "metadata": {},
   "outputs": [],
   "source": [
    "import datetime, time\n",
    "def get_5days_data(series):\n",
    "    x_num = np.arange(1, 6) # 과거 5일 데이터\n",
    "    for i in range(len(series)-610):\n",
    "        y = series[i:i+5]\n",
    "        y = y - y.iloc[0]\n",
    "        plt.plot(x_num, y)"
   ]
  },
  {
   "cell_type": "code",
   "execution_count": null,
   "id": "driven-rolling",
   "metadata": {},
   "outputs": [],
   "source": [
    "get_5days_data(df['retail'])"
   ]
  },
  {
   "cell_type": "code",
   "execution_count": 39,
   "id": "3be83250",
   "metadata": {},
   "outputs": [
    {
     "data": {
      "text/plain": [
       "<matplotlib.collections.PathCollection at 0x236d54a08e0>"
      ]
     },
     "execution_count": 39,
     "metadata": {},
     "output_type": "execute_result"
    },
    {
     "data": {
      "image/png": "[encoded data removed]",
      "text/plain": [
       "<Figure size 432x288 with 1 Axes>"
      ]
     },
     "metadata": {
      "needs_background": "light"
     },
     "output_type": "display_data"
    }
   ],
   "source": [
    "x = np.arange(len(df['retail']))\n",
    "plt.scatter(x, df['retail'])"
   ]
  },
  {
   "cell_type": "code",
   "execution_count": 6,
   "id": "d2d766ef",
   "metadata": {},
   "outputs": [],
   "source": [
    "def classify_data(df, col_name):\n",
    "    col_index = df.columns.tolist()\n",
    "    for i, col in enumerate(col_name):\n",
    "        mu = df[col].mean()\n",
    "        sigma = df[col].std()\n",
    "        df_min = df[col].min()\n",
    "        df_max = df[col].max()\n",
    "        cut_div = [df_min, mu - 3*sigma, mu - 2*sigma, mu - sigma, mu - 0.5*sigma, \n",
    "                   mu + 0.5*sigma, mu + sigma, mu + 2*sigma, mu + 3*sigma, df_max ]\n",
    "        ix = i + col_index.index(col)\n",
    "        df_new = pd.cut(df[col], cut_div, labels=[1, 2, 3, 4, 5, 6, 7, 8, 9])\n",
    "        df.insert(ix+1, col+'_class', df_new)\n",
    "        df[[col, col+'_class']].head()\n",
    "        \n",
    "    return df"
   ]
  },
  {
   "cell_type": "code",
   "execution_count": 7,
   "id": "7e4cee73",
   "metadata": {},
   "outputs": [
    {
     "data": {
      "text/html": [
       "<div>\n",
       "<style scoped>\n",
       "    .dataframe tbody tr th:only-of-type {\n",
       "        vertical-align: middle;\n",
       "    }\n",
       "\n",
       "    .dataframe tbody tr th {\n",
       "        vertical-align: top;\n",
       "    }\n",
       "\n",
       "    .dataframe thead th {\n",
       "        text-align: right;\n",
       "    }\n",
       "</style>\n",
       "<table border=\"1\" class=\"dataframe\">\n",
       "  <thead>\n",
       "    <tr style=\"text-align: right;\">\n",
       "      <th></th>\n",
       "      <th>date</th>\n",
       "      <th>retail</th>\n",
       "      <th>retail_class</th>\n",
       "      <th>retail_cr</th>\n",
       "      <th>retail_days</th>\n",
       "      <th>foreigner</th>\n",
       "      <th>foreigner_class</th>\n",
       "      <th>foreigner_cr</th>\n",
       "      <th>foreigner_days</th>\n",
       "      <th>institution</th>\n",
       "      <th>...</th>\n",
       "      <th>rc4_pcr</th>\n",
       "      <th>open</th>\n",
       "      <th>high</th>\n",
       "      <th>low</th>\n",
       "      <th>close</th>\n",
       "      <th>close_cr</th>\n",
       "      <th>vol</th>\n",
       "      <th>vol_cr</th>\n",
       "      <th>high_time</th>\n",
       "      <th>low_time</th>\n",
       "    </tr>\n",
       "  </thead>\n",
       "  <tbody>\n",
       "    <tr>\n",
       "      <th>1</th>\n",
       "      <td>2020-01-02</td>\n",
       "      <td>21980.0</td>\n",
       "      <td>5</td>\n",
       "      <td>NaN</td>\n",
       "      <td>NaN</td>\n",
       "      <td>-14050.0</td>\n",
       "      <td>5</td>\n",
       "      <td>NaN</td>\n",
       "      <td>NaN</td>\n",
       "      <td>-12570.0</td>\n",
       "      <td>...</td>\n",
       "      <td>NaN</td>\n",
       "      <td>121000.0</td>\n",
       "      <td>121000.0</td>\n",
       "      <td>118000.0</td>\n",
       "      <td>118000.0</td>\n",
       "      <td>-2.07</td>\n",
       "      <td>66205.0</td>\n",
       "      <td>NaN</td>\n",
       "      <td>NaN</td>\n",
       "      <td>NaN</td>\n",
       "    </tr>\n",
       "    <tr>\n",
       "      <th>2</th>\n",
       "      <td>2020-01-03</td>\n",
       "      <td>42651.0</td>\n",
       "      <td>6</td>\n",
       "      <td>NaN</td>\n",
       "      <td>NaN</td>\n",
       "      <td>-27939.0</td>\n",
       "      <td>4</td>\n",
       "      <td>NaN</td>\n",
       "      <td>NaN</td>\n",
       "      <td>-21214.0</td>\n",
       "      <td>...</td>\n",
       "      <td>NaN</td>\n",
       "      <td>118500.0</td>\n",
       "      <td>119000.0</td>\n",
       "      <td>115000.0</td>\n",
       "      <td>116000.0</td>\n",
       "      <td>-1.69</td>\n",
       "      <td>133657.0</td>\n",
       "      <td>NaN</td>\n",
       "      <td>NaN</td>\n",
       "      <td>NaN</td>\n",
       "    </tr>\n",
       "    <tr>\n",
       "      <th>5</th>\n",
       "      <td>2020-01-06</td>\n",
       "      <td>2658.0</td>\n",
       "      <td>5</td>\n",
       "      <td>NaN</td>\n",
       "      <td>NaN</td>\n",
       "      <td>-1144.0</td>\n",
       "      <td>5</td>\n",
       "      <td>NaN</td>\n",
       "      <td>NaN</td>\n",
       "      <td>-5078.0</td>\n",
       "      <td>...</td>\n",
       "      <td>NaN</td>\n",
       "      <td>116000.0</td>\n",
       "      <td>117000.0</td>\n",
       "      <td>115500.0</td>\n",
       "      <td>116000.0</td>\n",
       "      <td>0.00</td>\n",
       "      <td>38907.0</td>\n",
       "      <td>NaN</td>\n",
       "      <td>NaN</td>\n",
       "      <td>NaN</td>\n",
       "    </tr>\n",
       "    <tr>\n",
       "      <th>6</th>\n",
       "      <td>2020-01-07</td>\n",
       "      <td>13532.0</td>\n",
       "      <td>5</td>\n",
       "      <td>NaN</td>\n",
       "      <td>NaN</td>\n",
       "      <td>-5817.0</td>\n",
       "      <td>5</td>\n",
       "      <td>NaN</td>\n",
       "      <td>NaN</td>\n",
       "      <td>-11405.0</td>\n",
       "      <td>...</td>\n",
       "      <td>NaN</td>\n",
       "      <td>116500.0</td>\n",
       "      <td>117000.0</td>\n",
       "      <td>115500.0</td>\n",
       "      <td>115500.0</td>\n",
       "      <td>-0.43</td>\n",
       "      <td>78229.0</td>\n",
       "      <td>NaN</td>\n",
       "      <td>NaN</td>\n",
       "      <td>NaN</td>\n",
       "    </tr>\n",
       "    <tr>\n",
       "      <th>7</th>\n",
       "      <td>2020-01-08</td>\n",
       "      <td>17848.0</td>\n",
       "      <td>5</td>\n",
       "      <td>NaN</td>\n",
       "      <td>NaN</td>\n",
       "      <td>-1415.0</td>\n",
       "      <td>5</td>\n",
       "      <td>NaN</td>\n",
       "      <td>NaN</td>\n",
       "      <td>-20996.0</td>\n",
       "      <td>...</td>\n",
       "      <td>NaN</td>\n",
       "      <td>115000.0</td>\n",
       "      <td>115500.0</td>\n",
       "      <td>111500.0</td>\n",
       "      <td>112000.0</td>\n",
       "      <td>-3.03</td>\n",
       "      <td>117813.0</td>\n",
       "      <td>NaN</td>\n",
       "      <td>NaN</td>\n",
       "      <td>NaN</td>\n",
       "    </tr>\n",
       "    <tr>\n",
       "      <th>...</th>\n",
       "      <td>...</td>\n",
       "      <td>...</td>\n",
       "      <td>...</td>\n",
       "      <td>...</td>\n",
       "      <td>...</td>\n",
       "      <td>...</td>\n",
       "      <td>...</td>\n",
       "      <td>...</td>\n",
       "      <td>...</td>\n",
       "      <td>...</td>\n",
       "      <td>...</td>\n",
       "      <td>...</td>\n",
       "      <td>...</td>\n",
       "      <td>...</td>\n",
       "      <td>...</td>\n",
       "      <td>...</td>\n",
       "      <td>...</td>\n",
       "      <td>...</td>\n",
       "      <td>...</td>\n",
       "      <td>...</td>\n",
       "      <td>...</td>\n",
       "    </tr>\n",
       "    <tr>\n",
       "      <th>919</th>\n",
       "      <td>2022-07-08</td>\n",
       "      <td>-20479.0</td>\n",
       "      <td>4</td>\n",
       "      <td>NaN</td>\n",
       "      <td>NaN</td>\n",
       "      <td>15617.0</td>\n",
       "      <td>6</td>\n",
       "      <td>NaN</td>\n",
       "      <td>NaN</td>\n",
       "      <td>3853.0</td>\n",
       "      <td>...</td>\n",
       "      <td>NaN</td>\n",
       "      <td>177500.0</td>\n",
       "      <td>180500.0</td>\n",
       "      <td>177000.0</td>\n",
       "      <td>178000.0</td>\n",
       "      <td>1.71</td>\n",
       "      <td>147130.0</td>\n",
       "      <td>NaN</td>\n",
       "      <td>NaN</td>\n",
       "      <td>NaN</td>\n",
       "    </tr>\n",
       "    <tr>\n",
       "      <th>922</th>\n",
       "      <td>2022-07-11</td>\n",
       "      <td>-10749.0</td>\n",
       "      <td>5</td>\n",
       "      <td>NaN</td>\n",
       "      <td>NaN</td>\n",
       "      <td>11123.0</td>\n",
       "      <td>6</td>\n",
       "      <td>NaN</td>\n",
       "      <td>NaN</td>\n",
       "      <td>-719.0</td>\n",
       "      <td>...</td>\n",
       "      <td>NaN</td>\n",
       "      <td>180000.0</td>\n",
       "      <td>182000.0</td>\n",
       "      <td>179000.0</td>\n",
       "      <td>179000.0</td>\n",
       "      <td>0.56</td>\n",
       "      <td>119200.0</td>\n",
       "      <td>NaN</td>\n",
       "      <td>NaN</td>\n",
       "      <td>NaN</td>\n",
       "    </tr>\n",
       "    <tr>\n",
       "      <th>923</th>\n",
       "      <td>2022-07-12</td>\n",
       "      <td>868.0</td>\n",
       "      <td>5</td>\n",
       "      <td>NaN</td>\n",
       "      <td>NaN</td>\n",
       "      <td>3282.0</td>\n",
       "      <td>5</td>\n",
       "      <td>NaN</td>\n",
       "      <td>NaN</td>\n",
       "      <td>-3835.0</td>\n",
       "      <td>...</td>\n",
       "      <td>NaN</td>\n",
       "      <td>180000.0</td>\n",
       "      <td>181500.0</td>\n",
       "      <td>177000.0</td>\n",
       "      <td>179000.0</td>\n",
       "      <td>0.00</td>\n",
       "      <td>96440.0</td>\n",
       "      <td>NaN</td>\n",
       "      <td>NaN</td>\n",
       "      <td>NaN</td>\n",
       "    </tr>\n",
       "    <tr>\n",
       "      <th>924</th>\n",
       "      <td>2022-07-13</td>\n",
       "      <td>-40414.0</td>\n",
       "      <td>4</td>\n",
       "      <td>NaN</td>\n",
       "      <td>NaN</td>\n",
       "      <td>18096.0</td>\n",
       "      <td>6</td>\n",
       "      <td>NaN</td>\n",
       "      <td>NaN</td>\n",
       "      <td>22755.0</td>\n",
       "      <td>...</td>\n",
       "      <td>NaN</td>\n",
       "      <td>180000.0</td>\n",
       "      <td>185000.0</td>\n",
       "      <td>178500.0</td>\n",
       "      <td>183500.0</td>\n",
       "      <td>2.51</td>\n",
       "      <td>172566.0</td>\n",
       "      <td>NaN</td>\n",
       "      <td>NaN</td>\n",
       "      <td>NaN</td>\n",
       "    </tr>\n",
       "    <tr>\n",
       "      <th>925</th>\n",
       "      <td>2022-07-14</td>\n",
       "      <td>13810.0</td>\n",
       "      <td>5</td>\n",
       "      <td>NaN</td>\n",
       "      <td>NaN</td>\n",
       "      <td>9619.0</td>\n",
       "      <td>5</td>\n",
       "      <td>NaN</td>\n",
       "      <td>NaN</td>\n",
       "      <td>-23410.0</td>\n",
       "      <td>...</td>\n",
       "      <td>NaN</td>\n",
       "      <td>183000.0</td>\n",
       "      <td>184500.0</td>\n",
       "      <td>180500.0</td>\n",
       "      <td>182500.0</td>\n",
       "      <td>-0.54</td>\n",
       "      <td>142369.0</td>\n",
       "      <td>NaN</td>\n",
       "      <td>NaN</td>\n",
       "      <td>NaN</td>\n",
       "    </tr>\n",
       "  </tbody>\n",
       "</table>\n",
       "<p>627 rows × 62 columns</p>\n",
       "</div>"
      ],
      "text/plain": [
       "           date   retail retail_class  retail_cr  retail_days  foreigner  \\\n",
       "1    2020-01-02  21980.0            5        NaN          NaN   -14050.0   \n",
       "2    2020-01-03  42651.0            6        NaN          NaN   -27939.0   \n",
       "5    2020-01-06   2658.0            5        NaN          NaN    -1144.0   \n",
       "6    2020-01-07  13532.0            5        NaN          NaN    -5817.0   \n",
       "7    2020-01-08  17848.0            5        NaN          NaN    -1415.0   \n",
       "..          ...      ...          ...        ...          ...        ...   \n",
       "919  2022-07-08 -20479.0            4        NaN          NaN    15617.0   \n",
       "922  2022-07-11 -10749.0            5        NaN          NaN    11123.0   \n",
       "923  2022-07-12    868.0            5        NaN          NaN     3282.0   \n",
       "924  2022-07-13 -40414.0            4        NaN          NaN    18096.0   \n",
       "925  2022-07-14  13810.0            5        NaN          NaN     9619.0   \n",
       "\n",
       "    foreigner_class  foreigner_cr  foreigner_days  institution  ... rc4_pcr  \\\n",
       "1                 5           NaN             NaN     -12570.0  ...     NaN   \n",
       "2                 4           NaN             NaN     -21214.0  ...     NaN   \n",
       "5                 5           NaN             NaN      -5078.0  ...     NaN   \n",
       "6                 5           NaN             NaN     -11405.0  ...     NaN   \n",
       "7                 5           NaN             NaN     -20996.0  ...     NaN   \n",
       "..              ...           ...             ...          ...  ...     ...   \n",
       "919               6           NaN             NaN       3853.0  ...     NaN   \n",
       "922               6           NaN             NaN       -719.0  ...     NaN   \n",
       "923               5           NaN             NaN      -3835.0  ...     NaN   \n",
       "924               6           NaN             NaN      22755.0  ...     NaN   \n",
       "925               5           NaN             NaN     -23410.0  ...     NaN   \n",
       "\n",
       "         open      high       low     close  close_cr       vol  vol_cr  \\\n",
       "1    121000.0  121000.0  118000.0  118000.0     -2.07   66205.0     NaN   \n",
       "2    118500.0  119000.0  115000.0  116000.0     -1.69  133657.0     NaN   \n",
       "5    116000.0  117000.0  115500.0  116000.0      0.00   38907.0     NaN   \n",
       "6    116500.0  117000.0  115500.0  115500.0     -0.43   78229.0     NaN   \n",
       "7    115000.0  115500.0  111500.0  112000.0     -3.03  117813.0     NaN   \n",
       "..        ...       ...       ...       ...       ...       ...     ...   \n",
       "919  177500.0  180500.0  177000.0  178000.0      1.71  147130.0     NaN   \n",
       "922  180000.0  182000.0  179000.0  179000.0      0.56  119200.0     NaN   \n",
       "923  180000.0  181500.0  177000.0  179000.0      0.00   96440.0     NaN   \n",
       "924  180000.0  185000.0  178500.0  183500.0      2.51  172566.0     NaN   \n",
       "925  183000.0  184500.0  180500.0  182500.0     -0.54  142369.0     NaN   \n",
       "\n",
       "    high_time  low_time  \n",
       "1         NaN       NaN  \n",
       "2         NaN       NaN  \n",
       "5         NaN       NaN  \n",
       "6         NaN       NaN  \n",
       "7         NaN       NaN  \n",
       "..        ...       ...  \n",
       "919       NaN       NaN  \n",
       "922       NaN       NaN  \n",
       "923       NaN       NaN  \n",
       "924       NaN       NaN  \n",
       "925       NaN       NaN  \n",
       "\n",
       "[627 rows x 62 columns]"
      ]
     },
     "execution_count": 7,
     "metadata": {},
     "output_type": "execute_result"
    }
   ],
   "source": [
    "investors = ['retail', 'foreigner', 'institution', 'financial', 'invtrust', 'pension',\n",
    "             'privequity', 'bank',  'insurance', 'financeetc', 'corporateetc', 'foreigneretc']\n",
    "classify_data(df, investors)"
   ]
  },
  {
   "cell_type": "code",
   "execution_count": 39,
   "id": "e0718039",
   "metadata": {},
   "outputs": [
    {
     "data": {
      "text/html": [
       "<div>\n",
       "<style scoped>\n",
       "    .dataframe tbody tr th:only-of-type {\n",
       "        vertical-align: middle;\n",
       "    }\n",
       "\n",
       "    .dataframe tbody tr th {\n",
       "        vertical-align: top;\n",
       "    }\n",
       "\n",
       "    .dataframe thead th {\n",
       "        text-align: right;\n",
       "    }\n",
       "</style>\n",
       "<table border=\"1\" class=\"dataframe\">\n",
       "  <thead>\n",
       "    <tr style=\"text-align: right;\">\n",
       "      <th></th>\n",
       "      <th>retail</th>\n",
       "      <th>retail_class</th>\n",
       "      <th>foreigner</th>\n",
       "      <th>foreigner_class</th>\n",
       "      <th>institution</th>\n",
       "      <th>institution_class</th>\n",
       "    </tr>\n",
       "  </thead>\n",
       "  <tbody>\n",
       "    <tr>\n",
       "      <th>1</th>\n",
       "      <td>21980.0</td>\n",
       "      <td>5</td>\n",
       "      <td>-14050.0</td>\n",
       "      <td>5</td>\n",
       "      <td>-12570.0</td>\n",
       "      <td>5</td>\n",
       "    </tr>\n",
       "    <tr>\n",
       "      <th>2</th>\n",
       "      <td>42651.0</td>\n",
       "      <td>6</td>\n",
       "      <td>-27939.0</td>\n",
       "      <td>4</td>\n",
       "      <td>-21214.0</td>\n",
       "      <td>4</td>\n",
       "    </tr>\n",
       "    <tr>\n",
       "      <th>5</th>\n",
       "      <td>2658.0</td>\n",
       "      <td>5</td>\n",
       "      <td>-1144.0</td>\n",
       "      <td>5</td>\n",
       "      <td>-5078.0</td>\n",
       "      <td>5</td>\n",
       "    </tr>\n",
       "    <tr>\n",
       "      <th>6</th>\n",
       "      <td>13532.0</td>\n",
       "      <td>5</td>\n",
       "      <td>-5817.0</td>\n",
       "      <td>5</td>\n",
       "      <td>-11405.0</td>\n",
       "      <td>5</td>\n",
       "    </tr>\n",
       "    <tr>\n",
       "      <th>7</th>\n",
       "      <td>17848.0</td>\n",
       "      <td>5</td>\n",
       "      <td>-1415.0</td>\n",
       "      <td>5</td>\n",
       "      <td>-20996.0</td>\n",
       "      <td>4</td>\n",
       "    </tr>\n",
       "    <tr>\n",
       "      <th>...</th>\n",
       "      <td>...</td>\n",
       "      <td>...</td>\n",
       "      <td>...</td>\n",
       "      <td>...</td>\n",
       "      <td>...</td>\n",
       "      <td>...</td>\n",
       "    </tr>\n",
       "    <tr>\n",
       "      <th>919</th>\n",
       "      <td>-20479.0</td>\n",
       "      <td>4</td>\n",
       "      <td>15617.0</td>\n",
       "      <td>6</td>\n",
       "      <td>3853.0</td>\n",
       "      <td>5</td>\n",
       "    </tr>\n",
       "    <tr>\n",
       "      <th>922</th>\n",
       "      <td>-10749.0</td>\n",
       "      <td>5</td>\n",
       "      <td>11123.0</td>\n",
       "      <td>6</td>\n",
       "      <td>-719.0</td>\n",
       "      <td>5</td>\n",
       "    </tr>\n",
       "    <tr>\n",
       "      <th>923</th>\n",
       "      <td>868.0</td>\n",
       "      <td>5</td>\n",
       "      <td>3282.0</td>\n",
       "      <td>5</td>\n",
       "      <td>-3835.0</td>\n",
       "      <td>5</td>\n",
       "    </tr>\n",
       "    <tr>\n",
       "      <th>924</th>\n",
       "      <td>-40414.0</td>\n",
       "      <td>4</td>\n",
       "      <td>18096.0</td>\n",
       "      <td>6</td>\n",
       "      <td>22755.0</td>\n",
       "      <td>6</td>\n",
       "    </tr>\n",
       "    <tr>\n",
       "      <th>925</th>\n",
       "      <td>13810.0</td>\n",
       "      <td>5</td>\n",
       "      <td>9619.0</td>\n",
       "      <td>5</td>\n",
       "      <td>-23410.0</td>\n",
       "      <td>4</td>\n",
       "    </tr>\n",
       "  </tbody>\n",
       "</table>\n",
       "<p>627 rows × 6 columns</p>\n",
       "</div>"
      ],
      "text/plain": [
       "      retail retail_class  foreigner foreigner_class  institution  \\\n",
       "1    21980.0            5   -14050.0               5     -12570.0   \n",
       "2    42651.0            6   -27939.0               4     -21214.0   \n",
       "5     2658.0            5    -1144.0               5      -5078.0   \n",
       "6    13532.0            5    -5817.0               5     -11405.0   \n",
       "7    17848.0            5    -1415.0               5     -20996.0   \n",
       "..       ...          ...        ...             ...          ...   \n",
       "919 -20479.0            4    15617.0               6       3853.0   \n",
       "922 -10749.0            5    11123.0               6       -719.0   \n",
       "923    868.0            5     3282.0               5      -3835.0   \n",
       "924 -40414.0            4    18096.0               6      22755.0   \n",
       "925  13810.0            5     9619.0               5     -23410.0   \n",
       "\n",
       "    institution_class  \n",
       "1                   5  \n",
       "2                   4  \n",
       "5                   5  \n",
       "6                   5  \n",
       "7                   4  \n",
       "..                ...  \n",
       "919                 5  \n",
       "922                 5  \n",
       "923                 5  \n",
       "924                 6  \n",
       "925                 4  \n",
       "\n",
       "[627 rows x 6 columns]"
      ]
     },
     "execution_count": 39,
     "metadata": {},
     "output_type": "execute_result"
    }
   ],
   "source": [
    "df.loc[:, ['retail','retail_class', 'foreigner', 'foreigner_class', 'institution', 'institution_class']]"
   ]
  },
  {
   "cell_type": "code",
   "execution_count": 16,
   "id": "medical-shopping",
   "metadata": {},
   "outputs": [],
   "source": [
    "a = [0,1,0,1,1,0,0,0,1,1,0,1,0]\n",
    "b = [0,0,0,0,1,1,0,1,1,1,0,0,0]\n",
    "\n",
    "y = pd.DataFrame({'a':a, 'b':b})"
   ]
  },
  {
   "cell_type": "code",
   "execution_count": 27,
   "id": "sufficient-month",
   "metadata": {},
   "outputs": [
    {
     "ename": "SyntaxError",
     "evalue": "invalid syntax (2666726193.py, line 1)",
     "output_type": "error",
     "traceback": [
      "\u001b[1;36m  Input \u001b[1;32mIn [27]\u001b[1;36m\u001b[0m\n\u001b[1;33m    test = lambda a : 1 if (a > 0) else (if (a < 0) -1 else 0)\u001b[0m\n\u001b[1;37m                                         ^\u001b[0m\n\u001b[1;31mSyntaxError\u001b[0m\u001b[1;31m:\u001b[0m invalid syntax\n"
     ]
    }
   ],
   "source": [
    "test = lambda a : 1 if (a > 0) else (if (a < 0) -1 else 0)"
   ]
  },
  {
   "cell_type": "code",
   "execution_count": 28,
   "id": "compliant-allah",
   "metadata": {},
   "outputs": [],
   "source": [
    "test = lambda a : 1 if (a > 0) else -1"
   ]
  },
  {
   "cell_type": "code",
   "execution_count": 29,
   "id": "dutch-appraisal",
   "metadata": {},
   "outputs": [
    {
     "data": {
      "text/plain": [
       "-1"
      ]
     },
     "execution_count": 29,
     "metadata": {},
     "output_type": "execute_result"
    }
   ],
   "source": [
    "test(-10)"
   ]
  },
  {
   "cell_type": "code",
   "execution_count": 38,
   "id": "removed-functionality",
   "metadata": {},
   "outputs": [
    {
     "data": {
      "text/plain": [
       "7"
      ]
     },
     "execution_count": 38,
     "metadata": {},
     "output_type": "execute_result"
    }
   ],
   "source": [
    "a += 1\n",
    "a += 1\n",
    "a"
   ]
  },
  {
   "cell_type": "code",
   "execution_count": 42,
   "id": "progressive-exercise",
   "metadata": {},
   "outputs": [],
   "source": [
    "df_temp = df['foreigner'].apply(lambda x : 1 if (x > 0) else -1)"
   ]
  },
  {
   "cell_type": "code",
   "execution_count": 43,
   "id": "executed-tackle",
   "metadata": {},
   "outputs": [
    {
     "data": {
      "text/plain": [
       "1     -1\n",
       "2     -1\n",
       "5     -1\n",
       "6     -1\n",
       "7     -1\n",
       "      ..\n",
       "919    1\n",
       "922    1\n",
       "923    1\n",
       "924    1\n",
       "925    1\n",
       "Name: foreigner, Length: 627, dtype: int64"
      ]
     },
     "execution_count": 43,
     "metadata": {},
     "output_type": "execute_result"
    }
   ],
   "source": [
    "df_temp"
   ]
  },
  {
   "cell_type": "code",
   "execution_count": 47,
   "id": "distant-gambling",
   "metadata": {},
   "outputs": [],
   "source": [
    "def consecutive_count(sr):\n",
    "    p_sum = 0\n",
    "    m_sum = 0\n",
    "    z_sum = 0\n",
    "    for i, num in enumerate(sr):\n",
    "        if (num == 0) & (i == z_sum) :\n",
    "            z_sum += 1\n",
    "            continue\n",
    "        elif (num == 1) & (i == p_sum) :\n",
    "            p_sum += 1\n",
    "            continue\n",
    "        elif (num == -1) & (i == m_sum) :\n",
    "            m_sum += 1\n",
    "            continue   \n",
    "        else :\n",
    "            return p_sum, m_sum, z_sum       "
   ]
  },
  {
   "cell_type": "code",
   "execution_count": 59,
   "id": "waiting-process",
   "metadata": {},
   "outputs": [],
   "source": [
    "df_temp = df['insurance'].apply(lambda x : 1 if (x > 0) else -1)"
   ]
  },
  {
   "cell_type": "code",
   "execution_count": 86,
   "id": "rolled-recipe",
   "metadata": {},
   "outputs": [],
   "source": [
    "df_temp = [ 1, 1, 1, -1]"
   ]
  },
  {
   "cell_type": "code",
   "execution_count": 87,
   "id": "recorded-easter",
   "metadata": {},
   "outputs": [],
   "source": [
    "x = consecutive_count(df_temp)"
   ]
  },
  {
   "cell_type": "code",
   "execution_count": 88,
   "id": "honey-excess",
   "metadata": {},
   "outputs": [
    {
     "data": {
      "text/plain": [
       "(3, 0, 0)"
      ]
     },
     "execution_count": 88,
     "metadata": {},
     "output_type": "execute_result"
    }
   ],
   "source": [
    "x"
   ]
  },
  {
   "cell_type": "code",
   "execution_count": null,
   "id": "substantial-thickness",
   "metadata": {},
   "outputs": [],
   "source": []
  },
  {
   "cell_type": "code",
   "execution_count": 23,
   "id": "double-corruption",
   "metadata": {},
   "outputs": [
    {
     "data": {
      "text/plain": [
       "(0     0\n",
       " 1     1\n",
       " 2     0\n",
       " 3     1\n",
       " 4     1\n",
       " 5     0\n",
       " 6     0\n",
       " 7     0\n",
       " 8     1\n",
       " 9     1\n",
       " 10    0\n",
       " 11    1\n",
       " 12    0\n",
       " Name: a, dtype: int64,\n",
       " 0     NaN\n",
       " 1     0.0\n",
       " 2     1.0\n",
       " 3     0.0\n",
       " 4     1.0\n",
       " 5     1.0\n",
       " 6     0.0\n",
       " 7     0.0\n",
       " 8     0.0\n",
       " 9     1.0\n",
       " 10    1.0\n",
       " 11    0.0\n",
       " 12    1.0\n",
       " Name: a, dtype: float64)"
      ]
     },
     "execution_count": 23,
     "metadata": {},
     "output_type": "execute_result"
    }
   ],
   "source": [
    "y['a'], y['a'].shift()"
   ]
  },
  {
   "cell_type": "code",
   "execution_count": 20,
   "id": "golden-organizer",
   "metadata": {},
   "outputs": [
    {
     "data": {
      "text/html": [
       "<div>\n",
       "<style scoped>\n",
       "    .dataframe tbody tr th:only-of-type {\n",
       "        vertical-align: middle;\n",
       "    }\n",
       "\n",
       "    .dataframe tbody tr th {\n",
       "        vertical-align: top;\n",
       "    }\n",
       "\n",
       "    .dataframe thead th {\n",
       "        text-align: right;\n",
       "    }\n",
       "</style>\n",
       "<table border=\"1\" class=\"dataframe\">\n",
       "  <thead>\n",
       "    <tr style=\"text-align: right;\">\n",
       "      <th></th>\n",
       "      <th>a</th>\n",
       "      <th>b</th>\n",
       "    </tr>\n",
       "  </thead>\n",
       "  <tbody>\n",
       "    <tr>\n",
       "      <th>0</th>\n",
       "      <td>True</td>\n",
       "      <td>True</td>\n",
       "    </tr>\n",
       "    <tr>\n",
       "      <th>1</th>\n",
       "      <td>True</td>\n",
       "      <td>False</td>\n",
       "    </tr>\n",
       "    <tr>\n",
       "      <th>2</th>\n",
       "      <td>True</td>\n",
       "      <td>False</td>\n",
       "    </tr>\n",
       "    <tr>\n",
       "      <th>3</th>\n",
       "      <td>True</td>\n",
       "      <td>False</td>\n",
       "    </tr>\n",
       "    <tr>\n",
       "      <th>4</th>\n",
       "      <td>False</td>\n",
       "      <td>True</td>\n",
       "    </tr>\n",
       "    <tr>\n",
       "      <th>5</th>\n",
       "      <td>True</td>\n",
       "      <td>False</td>\n",
       "    </tr>\n",
       "    <tr>\n",
       "      <th>6</th>\n",
       "      <td>False</td>\n",
       "      <td>True</td>\n",
       "    </tr>\n",
       "    <tr>\n",
       "      <th>7</th>\n",
       "      <td>False</td>\n",
       "      <td>True</td>\n",
       "    </tr>\n",
       "    <tr>\n",
       "      <th>8</th>\n",
       "      <td>True</td>\n",
       "      <td>False</td>\n",
       "    </tr>\n",
       "    <tr>\n",
       "      <th>9</th>\n",
       "      <td>False</td>\n",
       "      <td>False</td>\n",
       "    </tr>\n",
       "    <tr>\n",
       "      <th>10</th>\n",
       "      <td>True</td>\n",
       "      <td>True</td>\n",
       "    </tr>\n",
       "    <tr>\n",
       "      <th>11</th>\n",
       "      <td>True</td>\n",
       "      <td>False</td>\n",
       "    </tr>\n",
       "    <tr>\n",
       "      <th>12</th>\n",
       "      <td>True</td>\n",
       "      <td>False</td>\n",
       "    </tr>\n",
       "  </tbody>\n",
       "</table>\n",
       "</div>"
      ],
      "text/plain": [
       "        a      b\n",
       "0    True   True\n",
       "1    True  False\n",
       "2    True  False\n",
       "3    True  False\n",
       "4   False   True\n",
       "5    True  False\n",
       "6   False   True\n",
       "7   False   True\n",
       "8    True  False\n",
       "9   False  False\n",
       "10   True   True\n",
       "11   True  False\n",
       "12   True  False"
      ]
     },
     "execution_count": 20,
     "metadata": {},
     "output_type": "execute_result"
    }
   ],
   "source": [
    "y != y.shift()"
   ]
  },
  {
   "cell_type": "code",
   "execution_count": null,
   "id": "rental-concern",
   "metadata": {},
   "outputs": [],
   "source": []
  },
  {
   "cell_type": "code",
   "execution_count": 12,
   "id": "neural-cross",
   "metadata": {},
   "outputs": [
    {
     "data": {
      "text/html": [
       "<div>\n",
       "<style scoped>\n",
       "    .dataframe tbody tr th:only-of-type {\n",
       "        vertical-align: middle;\n",
       "    }\n",
       "\n",
       "    .dataframe tbody tr th {\n",
       "        vertical-align: top;\n",
       "    }\n",
       "\n",
       "    .dataframe thead th {\n",
       "        text-align: right;\n",
       "    }\n",
       "</style>\n",
       "<table border=\"1\" class=\"dataframe\">\n",
       "  <thead>\n",
       "    <tr style=\"text-align: right;\">\n",
       "      <th></th>\n",
       "      <th>a</th>\n",
       "      <th>b</th>\n",
       "    </tr>\n",
       "  </thead>\n",
       "  <tbody>\n",
       "    <tr>\n",
       "      <th>0</th>\n",
       "      <td>0</td>\n",
       "      <td>0</td>\n",
       "    </tr>\n",
       "    <tr>\n",
       "      <th>1</th>\n",
       "      <td>1</td>\n",
       "      <td>0</td>\n",
       "    </tr>\n",
       "    <tr>\n",
       "      <th>2</th>\n",
       "      <td>0</td>\n",
       "      <td>0</td>\n",
       "    </tr>\n",
       "    <tr>\n",
       "      <th>3</th>\n",
       "      <td>1</td>\n",
       "      <td>0</td>\n",
       "    </tr>\n",
       "    <tr>\n",
       "      <th>4</th>\n",
       "      <td>2</td>\n",
       "      <td>1</td>\n",
       "    </tr>\n",
       "    <tr>\n",
       "      <th>5</th>\n",
       "      <td>0</td>\n",
       "      <td>2</td>\n",
       "    </tr>\n",
       "    <tr>\n",
       "      <th>6</th>\n",
       "      <td>0</td>\n",
       "      <td>0</td>\n",
       "    </tr>\n",
       "    <tr>\n",
       "      <th>7</th>\n",
       "      <td>0</td>\n",
       "      <td>1</td>\n",
       "    </tr>\n",
       "    <tr>\n",
       "      <th>8</th>\n",
       "      <td>1</td>\n",
       "      <td>2</td>\n",
       "    </tr>\n",
       "    <tr>\n",
       "      <th>9</th>\n",
       "      <td>2</td>\n",
       "      <td>3</td>\n",
       "    </tr>\n",
       "    <tr>\n",
       "      <th>10</th>\n",
       "      <td>0</td>\n",
       "      <td>0</td>\n",
       "    </tr>\n",
       "    <tr>\n",
       "      <th>11</th>\n",
       "      <td>1</td>\n",
       "      <td>0</td>\n",
       "    </tr>\n",
       "    <tr>\n",
       "      <th>12</th>\n",
       "      <td>0</td>\n",
       "      <td>0</td>\n",
       "    </tr>\n",
       "  </tbody>\n",
       "</table>\n",
       "</div>"
      ],
      "text/plain": [
       "    a  b\n",
       "0   0  0\n",
       "1   1  0\n",
       "2   0  0\n",
       "3   1  0\n",
       "4   2  1\n",
       "5   0  2\n",
       "6   0  0\n",
       "7   0  1\n",
       "8   1  2\n",
       "9   2  3\n",
       "10  0  0\n",
       "11  1  0\n",
       "12  0  0"
      ]
     },
     "execution_count": 12,
     "metadata": {},
     "output_type": "execute_result"
    }
   ],
   "source": [
    "c = lambda y: y * (y.groupby((y != y.shift()).cumsum()).cumcount() + 1)\n",
    "c(y.unstack()).unstack().T"
   ]
  },
  {
   "cell_type": "code",
   "execution_count": null,
   "id": "a33c99e1",
   "metadata": {},
   "outputs": [],
   "source": [
    "mu = df['retail'].mean()\n",
    "sigma = df['retail'].std()\n",
    "df_min = df['retail'].min()\n",
    "df_max = df['retail'].max()\n",
    "cut_div = [df_min, mu - 3*sigma, mu - 2*sigma, \n",
    "           mu - sigma, mu + sigma, mu + 2*sigma, mu + 3*sigma, df_max ]\n",
    "df['retail_class'] = pd.cut(df['retail'], cut_div, labels=[1, 2, 3, 4, 5, 6, 7])\n",
    "df[['retail', 'retail_class']].head(10)"
   ]
  },
  {
   "cell_type": "code",
   "execution_count": null,
   "id": "3c8ca202",
   "metadata": {},
   "outputs": [],
   "source": [
    "div_cat = np.arange(mu-3*sigma, mu+3*sigma, sigma).tolist() + [df_min, df_max]"
   ]
  },
  {
   "cell_type": "code",
   "execution_count": null,
   "id": "3e62d091",
   "metadata": {},
   "outputs": [],
   "source": [
    "div_cat.sort()"
   ]
  },
  {
   "cell_type": "code",
   "execution_count": null,
   "id": "4af65f26",
   "metadata": {},
   "outputs": [],
   "source": [
    "div_cat"
   ]
  },
  {
   "cell_type": "code",
   "execution_count": null,
   "id": "6523aae7",
   "metadata": {},
   "outputs": [],
   "source": [
    "df.columns"
   ]
  },
  {
   "cell_type": "code",
   "execution_count": null,
   "id": "14b6a1b9",
   "metadata": {},
   "outputs": [],
   "source": [
    "investors = ['date', 'retail', 'foreigner', 'institution', 'financial', 'invtrust', 'pension',\n",
    "             'privequity', 'bank',  'insurance', 'financeetc', 'corporateetc', 'foreigneretc']"
   ]
  },
  {
   "cell_type": "code",
   "execution_count": null,
   "id": "b7c96109",
   "metadata": {},
   "outputs": [],
   "source": [
    "df_inv = df[investors].copy()\n",
    "df_inv_total = df_inv.sum(axis=1)\n",
    "df_inv['total'] =  df_inv_total"
   ]
  },
  {
   "cell_type": "code",
   "execution_count": null,
   "id": "6bdbf022",
   "metadata": {},
   "outputs": [],
   "source": [
    "df_inv_total"
   ]
  },
  {
   "cell_type": "code",
   "execution_count": null,
   "id": "12f9353b",
   "metadata": {},
   "outputs": [],
   "source": [
    "df_inv.head()"
   ]
  },
  {
   "cell_type": "code",
   "execution_count": null,
   "id": "95a9792b",
   "metadata": {},
   "outputs": [],
   "source": [
    "# 7단계로 categorize using std. -3*std <, -2*std <, -1*std <, -1~1*std <, +1*std <, +2*std <, +3*std <\n",
    "def segment_data(data):\n",
    "    mu = data.mean()\n",
    "    sigma = data.std()\n",
    "    cut_div = [mu - 3*sigma, mu - 2*sigma, mu - sigma, mu + sigma, mu + 2*sigma, mu + 3*sigma ]\n",
    "    msm3 =  mu - 3*sigma\n",
    "    msm2 =  mu - 2*sigma\n",
    "    if data \n",
    "    \n",
    "titanic['age_class'] = pd.cut(titanic['age'], 3, labels=['child', 'young', 'old'])\n",
    "titanic[['age', 'age_class']].head()"
   ]
  },
  {
   "cell_type": "code",
   "execution_count": null,
   "id": "c4827b72",
   "metadata": {},
   "outputs": [],
   "source": [
    "retail = df['foreigner']\n",
    "mu = retail.mean()\n",
    "sigma = retail.std()\n",
    "\n",
    "nbins = 10\n",
    "n, bins, patches = plt.hist(retail, bins = nbins, density = 1)\n",
    "plt.xlabel(\"foreigner\")\n",
    "plt.ylabel(\"Frequency\")\n",
    "plt.title(\"Distribution of retail\")\n",
    "y = ((1 / (np.sqrt(2 * np.pi) * sigma)) * np.exp(-0.5 * (1 / sigma * (bins - mu))**2))\n",
    "# plt.plot(bins, y, '--' )\n",
    "plt.plot(bins, y, '--', mu+3*sigma, 0.5e-5, '^', mu-3*sigma, 0.5e-5, '>' )\n",
    "plt.plot( mu+2*sigma, 0.7e-5, '^', mu-2*sigma, 0.7e-5, '>' )\n",
    "plt.plot( mu+1*sigma, 0.9e-5, '^', mu-1*sigma, 0.9e-5, '>' )\n",
    "plt.show()"
   ]
  },
  {
   "cell_type": "code",
   "execution_count": 45,
   "id": "9d116a08",
   "metadata": {},
   "outputs": [
    {
     "data": {
      "image/png": "[encoded data removed]",
      "text/plain": [
       "<Figure size 432x288 with 1 Axes>"
      ]
     },
     "metadata": {
      "needs_background": "light"
     },
     "output_type": "display_data"
    }
   ],
   "source": [
    "retail = df['insurance']\n",
    "mu = retail.mean()\n",
    "sigma = retail.std()\n",
    "\n",
    "nbins = 50\n",
    "n, bins, patches = plt.hist(retail, bins = nbins, density = 1)\n",
    "plt.xlabel(\"insurance\")\n",
    "plt.ylabel(\"Frequency\")\n",
    "plt.title(\"Distribution of retail\")\n",
    "y = ((1 / (np.sqrt(2 * np.pi) * sigma)) * np.exp(-0.5 * (1 / sigma * (bins - mu))**2))\n",
    "# plt.plot(bins, y, '--' )\n",
    "plt.plot(bins, y, '--', mu+3*sigma, 0.5e-5, '^', mu-3*sigma, 0.5e-5, '>' )\n",
    "plt.plot( mu+2*sigma, 0.7e-5, '^', mu-2*sigma, 0.7e-5, '>' )\n",
    "plt.plot( mu+1*sigma, 0.9e-5, '^', mu-1*sigma, 0.9e-5, '>' )\n",
    "plt.show()"
   ]
  },
  {
   "cell_type": "code",
   "execution_count": null,
   "id": "53bed784",
   "metadata": {},
   "outputs": [],
   "source": [
    "plt.plot(mu+sigma, 1, '^')"
   ]
  },
  {
   "cell_type": "code",
   "execution_count": null,
   "id": "radical-warren",
   "metadata": {},
   "outputs": [],
   "source": [
    "i=0\n",
    "x = df['retail'][i:i+20]\n",
    "i=2\n",
    "y = df['retail'][i:i+20]\n",
    "r = np.arange(20)\n",
    "plt.plot(r, x)\n",
    "plt.plot(r, y)"
   ]
  },
  {
   "cell_type": "code",
   "execution_count": null,
   "id": "furnished-barrier",
   "metadata": {},
   "outputs": [],
   "source": [
    "np.arange(1, 21)"
   ]
  },
  {
   "cell_type": "code",
   "execution_count": null,
   "id": "sporting-charlotte",
   "metadata": {},
   "outputs": [],
   "source": [
    "for i in range(100-18):\n",
    "    print(i, i+19)"
   ]
  },
  {
   "cell_type": "code",
   "execution_count": null,
   "id": "b702956e",
   "metadata": {},
   "outputs": [],
   "source": [
    "print(df.rolling(window=3).sum()) # 뒤에 추가 메서드를 이용하여 연산을 지정해주어야합니다."
   ]
  },
  {
   "cell_type": "code",
   "execution_count": null,
   "id": "30539335",
   "metadata": {},
   "outputs": [],
   "source": [
    "print(df.rolling(window=4, closed='left').sum())"
   ]
  },
  {
   "cell_type": "code",
   "execution_count": null,
   "id": "e5c99189",
   "metadata": {},
   "outputs": [],
   "source": [
    "print(df.rolling(window=2, closed='right').sum())"
   ]
  },
  {
   "cell_type": "code",
   "execution_count": null,
   "id": "c0862067",
   "metadata": {},
   "outputs": [],
   "source": [
    "dict_test = {\n",
    "    'col1': [1, 1, 2, 2, 3, 3, 3, 4],\n",
    "    'col2': [1000, 1100, 2100, 2050, 3000, 3100, 3200, 4200],\n",
    "    'col3': ['a', 'b', 'a', 'c', 'a', 'a', 'd', 'e']}"
   ]
  },
  {
   "cell_type": "code",
   "execution_count": null,
   "id": "84d7518f",
   "metadata": {},
   "outputs": [],
   "source": [
    "df_test = pd.DataFrame(dict_test)"
   ]
  },
  {
   "cell_type": "code",
   "execution_count": null,
   "id": "379bed18",
   "metadata": {},
   "outputs": [],
   "source": [
    "df_test"
   ]
  },
  {
   "cell_type": "code",
   "execution_count": null,
   "id": "f92a9f5d",
   "metadata": {},
   "outputs": [],
   "source": [
    "df_test[['col2']].rolling(3).sum()"
   ]
  },
  {
   "cell_type": "code",
   "execution_count": null,
   "id": "4796f824",
   "metadata": {},
   "outputs": [],
   "source": [
    "df_test[['col2']].rolling(3, center=True).sum()"
   ]
  },
  {
   "cell_type": "code",
   "execution_count": null,
   "id": "64a9031c",
   "metadata": {},
   "outputs": [],
   "source": [
    "df_test.rolling(3, on= 'col2', center=True).sum()"
   ]
  },
  {
   "cell_type": "code",
   "execution_count": null,
   "id": "b60379a2",
   "metadata": {},
   "outputs": [],
   "source": [
    "df_test[['col2']].rolling(3, min_periods=1, center=True).sum()"
   ]
  },
  {
   "cell_type": "code",
   "execution_count": null,
   "id": "2b106cda",
   "metadata": {},
   "outputs": [],
   "source": [
    "df_test[['col2']].rolling(3, closed='left').sum()"
   ]
  },
  {
   "cell_type": "code",
   "execution_count": null,
   "id": "20c2c69f",
   "metadata": {},
   "outputs": [],
   "source": [
    "df_test[['col2']].rolling(3, closed='right').sum()"
   ]
  },
  {
   "cell_type": "code",
   "execution_count": null,
   "id": "93ec19ae",
   "metadata": {},
   "outputs": [],
   "source": [
    "df_test = df_test.groupby(by=['col1', 'col3'])['col2'].apply(list)"
   ]
  },
  {
   "cell_type": "code",
   "execution_count": null,
   "id": "60d7505a",
   "metadata": {},
   "outputs": [],
   "source": [
    "df_test = pd.DataFrame(df_test)"
   ]
  },
  {
   "cell_type": "code",
   "execution_count": null,
   "id": "b4bb0a75",
   "metadata": {},
   "outputs": [],
   "source": [
    "df_test"
   ]
  },
  {
   "cell_type": "code",
   "execution_count": null,
   "id": "f29e1813",
   "metadata": {},
   "outputs": [],
   "source": [
    "df_test.reset_index(drop=False, inplace=True)"
   ]
  },
  {
   "cell_type": "code",
   "execution_count": null,
   "id": "3f2f01bd",
   "metadata": {
    "scrolled": true
   },
   "outputs": [],
   "source": [
    "df_test"
   ]
  },
  {
   "cell_type": "code",
   "execution_count": null,
   "id": "0286ad12",
   "metadata": {},
   "outputs": [],
   "source": [
    "df_test.set_index(keys=['col1', 'col3'], inplace=True)"
   ]
  },
  {
   "cell_type": "code",
   "execution_count": null,
   "id": "08f253a1",
   "metadata": {},
   "outputs": [],
   "source": [
    "df_test.reset_index(['col1'], inplace=True)"
   ]
  },
  {
   "cell_type": "code",
   "execution_count": null,
   "id": "b65e2081",
   "metadata": {},
   "outputs": [],
   "source": []
  }
 ],
 "metadata": {
  "kernelspec": {
   "display_name": "Python 3 (ipykernel)",
   "language": "python",
   "name": "python3"
  },
  "language_info": {
   "codemirror_mode": {
    "name": "ipython",
    "version": 3
   },
   "file_extension": ".py",
   "mimetype": "text/x-python",
   "name": "python",
   "nbconvert_exporter": "python",
   "pygments_lexer": "ipython3",
   "version": "3.9.1"
  }
 },
 "nbformat": 4,
 "nbformat_minor": 5
}
