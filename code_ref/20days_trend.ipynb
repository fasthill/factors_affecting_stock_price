{
 "cells": [
  {
   "cell_type": "code",
   "execution_count": 1,
   "id": "together-jacket",
   "metadata": {},
   "outputs": [],
   "source": [
    "import pandas as pd\n",
    "import numpy as np\n",
    "\n",
    "import matplotlib.pyplot as plt"
   ]
  },
  {
   "cell_type": "code",
   "execution_count": 2,
   "id": "d6d54865",
   "metadata": {},
   "outputs": [],
   "source": [
    "def allsatsundays(start_date, end_date):\n",
    "    day_sat = pd.date_range(start=start_date, end=end_date, \n",
    "                         freq='W-SAT').strftime('%Y-%m-%d').tolist()\n",
    "    day_sun = pd.date_range(start=start_date, end=end_date, \n",
    "                         freq='W-SUN').strftime('%Y-%m-%d').tolist()\n",
    "    days = day_sat+day_sun\n",
    "    days.sort()\n",
    "    return days\n",
    "\n",
    "def allsatsundays(start_date, end_date):\n",
    "    day_sat = pd.date_range(start=start_date, end=end_date, \n",
    "                         freq='W-SAT').strftime('%Y-%m-%d').tolist()\n",
    "    day_sun = pd.date_range(start=start_date, end=end_date, \n",
    "                         freq='W-SUN').strftime('%Y-%m-%d').tolist()\n",
    "    days = day_sat+day_sun\n",
    "    days.sort()\n",
    "    return days\n",
    "\n",
    "def get_stock_market_holydays(filename, start_date, end_date):\n",
    "    df = pd.read_csv(filename)\n",
    "    kor_days = df['KOR'][df['KOR'].notnull()].values.tolist()\n",
    "    usa_days = df['USA'][df['USA'].notnull()].values.tolist() # Nan value를 제외한 값을 리스트로 변환\n",
    "\n",
    "    holydays = allsatsundays(start_date, end_date)\n",
    "    \n",
    "    kor_days = sorted(set(kor_days + holydays))\n",
    "    usa_days = sorted(set(usa_days + holydays))\n",
    "    \n",
    "    return kor_days, usa_days\n",
    "\n",
    "def get_seq_data(filename, holydays):\n",
    "    df = pd.read_csv(filename)\n",
    "    df_seq = df[~df['date'].isin(holydays)].copy()\n",
    "    df_seq.dropna(subset=df.columns[1:], how='all', inplace=True)\n",
    "    return df_seq"
   ]
  },
  {
   "cell_type": "code",
   "execution_count": 3,
   "id": "second-sunrise",
   "metadata": {},
   "outputs": [],
   "source": [
    "filename = 'https://raw.githubusercontent.com/fasthill/'\\\n",
    "            'factors_affecting_stock_price/main/data/stock_market_holydays/stock_market_holidays.csv'\n",
    "start_date = '2020-01-01'\n",
    "end_date = '2022-12-31'\n",
    "\n",
    "kor_days, usa_days = get_stock_market_holydays(filename, start_date, end_date) # get stock market holydays"
   ]
  },
  {
   "cell_type": "code",
   "execution_count": 4,
   "id": "dress-visiting",
   "metadata": {},
   "outputs": [],
   "source": [
    "filename = '../data/data_hyunmotor.csv'\n",
    "df = get_seq_data(filename, kor_days)"
   ]
  },
  {
   "cell_type": "code",
   "execution_count": 5,
   "id": "assumed-heather",
   "metadata": {},
   "outputs": [
    {
     "data": {
      "text/html": [
       "<div>\n",
       "<style scoped>\n",
       "    .dataframe tbody tr th:only-of-type {\n",
       "        vertical-align: middle;\n",
       "    }\n",
       "\n",
       "    .dataframe tbody tr th {\n",
       "        vertical-align: top;\n",
       "    }\n",
       "\n",
       "    .dataframe thead th {\n",
       "        text-align: right;\n",
       "    }\n",
       "</style>\n",
       "<table border=\"1\" class=\"dataframe\">\n",
       "  <thead>\n",
       "    <tr style=\"text-align: right;\">\n",
       "      <th></th>\n",
       "      <th>date</th>\n",
       "      <th>retail</th>\n",
       "      <th>retail_cr</th>\n",
       "      <th>retail_days</th>\n",
       "      <th>foreigner</th>\n",
       "      <th>foreigner_cr</th>\n",
       "      <th>foreigner_days</th>\n",
       "      <th>institution</th>\n",
       "      <th>institution_cr</th>\n",
       "      <th>institution_days</th>\n",
       "      <th>...</th>\n",
       "      <th>rc4_pcr</th>\n",
       "      <th>open</th>\n",
       "      <th>high</th>\n",
       "      <th>low</th>\n",
       "      <th>close</th>\n",
       "      <th>close_cr</th>\n",
       "      <th>vol</th>\n",
       "      <th>vol_cr</th>\n",
       "      <th>high_time</th>\n",
       "      <th>low_time</th>\n",
       "    </tr>\n",
       "  </thead>\n",
       "  <tbody>\n",
       "    <tr>\n",
       "      <th>922</th>\n",
       "      <td>2022-07-11</td>\n",
       "      <td>-10749.0</td>\n",
       "      <td>NaN</td>\n",
       "      <td>NaN</td>\n",
       "      <td>11123.0</td>\n",
       "      <td>NaN</td>\n",
       "      <td>NaN</td>\n",
       "      <td>-719.0</td>\n",
       "      <td>NaN</td>\n",
       "      <td>NaN</td>\n",
       "      <td>...</td>\n",
       "      <td>NaN</td>\n",
       "      <td>180000.0</td>\n",
       "      <td>182000.0</td>\n",
       "      <td>179000.0</td>\n",
       "      <td>179000.0</td>\n",
       "      <td>0.56</td>\n",
       "      <td>119200.0</td>\n",
       "      <td>NaN</td>\n",
       "      <td>NaN</td>\n",
       "      <td>NaN</td>\n",
       "    </tr>\n",
       "    <tr>\n",
       "      <th>923</th>\n",
       "      <td>2022-07-12</td>\n",
       "      <td>868.0</td>\n",
       "      <td>NaN</td>\n",
       "      <td>NaN</td>\n",
       "      <td>3282.0</td>\n",
       "      <td>NaN</td>\n",
       "      <td>NaN</td>\n",
       "      <td>-3835.0</td>\n",
       "      <td>NaN</td>\n",
       "      <td>NaN</td>\n",
       "      <td>...</td>\n",
       "      <td>NaN</td>\n",
       "      <td>180000.0</td>\n",
       "      <td>181500.0</td>\n",
       "      <td>177000.0</td>\n",
       "      <td>179000.0</td>\n",
       "      <td>0.00</td>\n",
       "      <td>96440.0</td>\n",
       "      <td>NaN</td>\n",
       "      <td>NaN</td>\n",
       "      <td>NaN</td>\n",
       "    </tr>\n",
       "    <tr>\n",
       "      <th>924</th>\n",
       "      <td>2022-07-13</td>\n",
       "      <td>-40414.0</td>\n",
       "      <td>NaN</td>\n",
       "      <td>NaN</td>\n",
       "      <td>18096.0</td>\n",
       "      <td>NaN</td>\n",
       "      <td>NaN</td>\n",
       "      <td>22755.0</td>\n",
       "      <td>NaN</td>\n",
       "      <td>NaN</td>\n",
       "      <td>...</td>\n",
       "      <td>NaN</td>\n",
       "      <td>180000.0</td>\n",
       "      <td>185000.0</td>\n",
       "      <td>178500.0</td>\n",
       "      <td>183500.0</td>\n",
       "      <td>2.51</td>\n",
       "      <td>172566.0</td>\n",
       "      <td>NaN</td>\n",
       "      <td>NaN</td>\n",
       "      <td>NaN</td>\n",
       "    </tr>\n",
       "    <tr>\n",
       "      <th>925</th>\n",
       "      <td>2022-07-14</td>\n",
       "      <td>13810.0</td>\n",
       "      <td>NaN</td>\n",
       "      <td>NaN</td>\n",
       "      <td>9619.0</td>\n",
       "      <td>NaN</td>\n",
       "      <td>NaN</td>\n",
       "      <td>-23410.0</td>\n",
       "      <td>NaN</td>\n",
       "      <td>NaN</td>\n",
       "      <td>...</td>\n",
       "      <td>NaN</td>\n",
       "      <td>183000.0</td>\n",
       "      <td>184500.0</td>\n",
       "      <td>180500.0</td>\n",
       "      <td>182500.0</td>\n",
       "      <td>-0.54</td>\n",
       "      <td>142369.0</td>\n",
       "      <td>NaN</td>\n",
       "      <td>NaN</td>\n",
       "      <td>NaN</td>\n",
       "    </tr>\n",
       "    <tr>\n",
       "      <th>926</th>\n",
       "      <td>2022-07-15</td>\n",
       "      <td>0.0</td>\n",
       "      <td>NaN</td>\n",
       "      <td>NaN</td>\n",
       "      <td>0.0</td>\n",
       "      <td>NaN</td>\n",
       "      <td>NaN</td>\n",
       "      <td>0.0</td>\n",
       "      <td>NaN</td>\n",
       "      <td>NaN</td>\n",
       "      <td>...</td>\n",
       "      <td>NaN</td>\n",
       "      <td>183000.0</td>\n",
       "      <td>184500.0</td>\n",
       "      <td>178500.0</td>\n",
       "      <td>183500.0</td>\n",
       "      <td>0.55</td>\n",
       "      <td>115240.0</td>\n",
       "      <td>NaN</td>\n",
       "      <td>NaN</td>\n",
       "      <td>NaN</td>\n",
       "    </tr>\n",
       "  </tbody>\n",
       "</table>\n",
       "<p>5 rows × 50 columns</p>\n",
       "</div>"
      ],
      "text/plain": [
       "           date   retail  retail_cr  retail_days  foreigner  foreigner_cr  \\\n",
       "922  2022-07-11 -10749.0        NaN          NaN    11123.0           NaN   \n",
       "923  2022-07-12    868.0        NaN          NaN     3282.0           NaN   \n",
       "924  2022-07-13 -40414.0        NaN          NaN    18096.0           NaN   \n",
       "925  2022-07-14  13810.0        NaN          NaN     9619.0           NaN   \n",
       "926  2022-07-15      0.0        NaN          NaN        0.0           NaN   \n",
       "\n",
       "     foreigner_days  institution  institution_cr  institution_days  ...  \\\n",
       "922             NaN       -719.0             NaN               NaN  ...   \n",
       "923             NaN      -3835.0             NaN               NaN  ...   \n",
       "924             NaN      22755.0             NaN               NaN  ...   \n",
       "925             NaN     -23410.0             NaN               NaN  ...   \n",
       "926             NaN          0.0             NaN               NaN  ...   \n",
       "\n",
       "     rc4_pcr      open      high       low     close  close_cr       vol  \\\n",
       "922      NaN  180000.0  182000.0  179000.0  179000.0      0.56  119200.0   \n",
       "923      NaN  180000.0  181500.0  177000.0  179000.0      0.00   96440.0   \n",
       "924      NaN  180000.0  185000.0  178500.0  183500.0      2.51  172566.0   \n",
       "925      NaN  183000.0  184500.0  180500.0  182500.0     -0.54  142369.0   \n",
       "926      NaN  183000.0  184500.0  178500.0  183500.0      0.55  115240.0   \n",
       "\n",
       "     vol_cr  high_time  low_time  \n",
       "922     NaN        NaN       NaN  \n",
       "923     NaN        NaN       NaN  \n",
       "924     NaN        NaN       NaN  \n",
       "925     NaN        NaN       NaN  \n",
       "926     NaN        NaN       NaN  \n",
       "\n",
       "[5 rows x 50 columns]"
      ]
     },
     "execution_count": 5,
     "metadata": {},
     "output_type": "execute_result"
    }
   ],
   "source": [
    "df.tail()"
   ]
  },
  {
   "cell_type": "code",
   "execution_count": 6,
   "id": "ba6d4517",
   "metadata": {},
   "outputs": [],
   "source": [
    "import datetime, time\n",
    "def get_20days_data(series):\n",
    "    x_num = np.arange(1, 21)\n",
    "    for i in range(len(series)-600):\n",
    "        y = series[i:i+20]\n",
    "        plt.plot(x_num, y)\n",
    "        plt.show()\n",
    "        time.sleep(0.3)"
   ]
  },
  {
   "cell_type": "code",
   "execution_count": 38,
   "id": "8f3c7aa9",
   "metadata": {},
   "outputs": [],
   "source": [
    "import datetime, time\n",
    "def get_5days_data(series):\n",
    "    x_num = np.arange(1, 6) # 과거 5일 데이터\n",
    "    for i in range(len(series)-610):\n",
    "        y = series[i:i+5]\n",
    "        y = y - y.iloc[0]\n",
    "        plt.plot(x_num, y)"
   ]
  },
  {
   "cell_type": "code",
   "execution_count": 39,
   "id": "driven-rolling",
   "metadata": {},
   "outputs": [
    {
     "data": {
      "image/png": "[encoded data removed]",
      "text/plain": [
       "<Figure size 432x288 with 1 Axes>"
      ]
     },
     "metadata": {
      "needs_background": "light"
     },
     "output_type": "display_data"
    }
   ],
   "source": [
    "get_5days_data(df['retail'])"
   ]
  },
  {
   "cell_type": "code",
   "execution_count": 27,
   "id": "radical-warren",
   "metadata": {},
   "outputs": [
    {
     "data": {
      "text/plain": [
       "[<matplotlib.lines.Line2D at 0x168faf9a5b0>]"
      ]
     },
     "execution_count": 27,
     "metadata": {},
     "output_type": "execute_result"
    },
    {
     "data": {
      "image/png": "[encoded data removed]",
      "text/plain": [
       "<Figure size 432x288 with 1 Axes>"
      ]
     },
     "metadata": {
      "needs_background": "light"
     },
     "output_type": "display_data"
    }
   ],
   "source": [
    "i=0\n",
    "x = df['retail'][i:i+20]\n",
    "i=2\n",
    "y = df['retail'][i:i+20]\n",
    "r = np.arange(20)\n",
    "plt.plot(r, x)\n",
    "plt.plot(r, y)"
   ]
  },
  {
   "cell_type": "code",
   "execution_count": 38,
   "id": "furnished-barrier",
   "metadata": {},
   "outputs": [
    {
     "data": {
      "text/plain": [
       "array([ 1,  2,  3,  4,  5,  6,  7,  8,  9, 10, 11, 12, 13, 14, 15, 16, 17,\n",
       "       18, 19, 20])"
      ]
     },
     "execution_count": 38,
     "metadata": {},
     "output_type": "execute_result"
    }
   ],
   "source": [
    "np.arange(1, 21)"
   ]
  },
  {
   "cell_type": "code",
   "execution_count": 14,
   "id": "sporting-charlotte",
   "metadata": {},
   "outputs": [
    {
     "name": "stdout",
     "output_type": "stream",
     "text": [
      "0 19\n",
      "1 20\n",
      "2 21\n",
      "3 22\n",
      "4 23\n",
      "5 24\n",
      "6 25\n",
      "7 26\n",
      "8 27\n",
      "9 28\n",
      "10 29\n",
      "11 30\n",
      "12 31\n",
      "13 32\n",
      "14 33\n",
      "15 34\n",
      "16 35\n",
      "17 36\n",
      "18 37\n",
      "19 38\n",
      "20 39\n",
      "21 40\n",
      "22 41\n",
      "23 42\n",
      "24 43\n",
      "25 44\n",
      "26 45\n",
      "27 46\n",
      "28 47\n",
      "29 48\n",
      "30 49\n",
      "31 50\n",
      "32 51\n",
      "33 52\n",
      "34 53\n",
      "35 54\n",
      "36 55\n",
      "37 56\n",
      "38 57\n",
      "39 58\n",
      "40 59\n",
      "41 60\n",
      "42 61\n",
      "43 62\n",
      "44 63\n",
      "45 64\n",
      "46 65\n",
      "47 66\n",
      "48 67\n",
      "49 68\n",
      "50 69\n",
      "51 70\n",
      "52 71\n",
      "53 72\n",
      "54 73\n",
      "55 74\n",
      "56 75\n",
      "57 76\n",
      "58 77\n",
      "59 78\n",
      "60 79\n",
      "61 80\n",
      "62 81\n",
      "63 82\n",
      "64 83\n",
      "65 84\n",
      "66 85\n",
      "67 86\n",
      "68 87\n",
      "69 88\n",
      "70 89\n",
      "71 90\n",
      "72 91\n",
      "73 92\n",
      "74 93\n",
      "75 94\n",
      "76 95\n",
      "77 96\n",
      "78 97\n",
      "79 98\n",
      "80 99\n",
      "81 100\n"
     ]
    }
   ],
   "source": [
    "for i in range(100-18):\n",
    "    print(i, i+19)"
   ]
  },
  {
   "cell_type": "code",
   "execution_count": null,
   "id": "b702956e",
   "metadata": {},
   "outputs": [],
   "source": [
    "print(df.rolling(window=3).sum()) # 뒤에 추가 메서드를 이용하여 연산을 지정해주어야합니다."
   ]
  },
  {
   "cell_type": "code",
   "execution_count": null,
   "id": "30539335",
   "metadata": {},
   "outputs": [],
   "source": [
    "print(df.rolling(window=4, closed='left').sum())"
   ]
  },
  {
   "cell_type": "code",
   "execution_count": null,
   "id": "e5c99189",
   "metadata": {},
   "outputs": [],
   "source": [
    "print(df.rolling(window=2, closed='right').sum())"
   ]
  },
  {
   "cell_type": "code",
   "execution_count": null,
   "id": "c0862067",
   "metadata": {},
   "outputs": [],
   "source": [
    "dict_test = {\n",
    "    'col1': [1, 1, 2, 2, 3, 3, 3, 4],\n",
    "    'col2': [1000, 1100, 2100, 2050, 3000, 3100, 3200, 4200],\n",
    "    'col3': ['a', 'b', 'a', 'c', 'a', 'a', 'd', 'e']}"
   ]
  },
  {
   "cell_type": "code",
   "execution_count": null,
   "id": "84d7518f",
   "metadata": {},
   "outputs": [],
   "source": [
    "df_test = pd.DataFrame(dict_test)"
   ]
  },
  {
   "cell_type": "code",
   "execution_count": null,
   "id": "379bed18",
   "metadata": {},
   "outputs": [],
   "source": [
    "df_test"
   ]
  },
  {
   "cell_type": "code",
   "execution_count": null,
   "id": "f92a9f5d",
   "metadata": {},
   "outputs": [],
   "source": [
    "df_test[['col2']].rolling(3).sum()"
   ]
  },
  {
   "cell_type": "code",
   "execution_count": null,
   "id": "4796f824",
   "metadata": {},
   "outputs": [],
   "source": [
    "df_test[['col2']].rolling(3, center=True).sum()"
   ]
  },
  {
   "cell_type": "code",
   "execution_count": null,
   "id": "64a9031c",
   "metadata": {},
   "outputs": [],
   "source": [
    "df_test.rolling(3, on= 'col2', center=True).sum()"
   ]
  },
  {
   "cell_type": "code",
   "execution_count": null,
   "id": "b60379a2",
   "metadata": {},
   "outputs": [],
   "source": [
    "df_test[['col2']].rolling(3, min_periods=1, center=True).sum()"
   ]
  },
  {
   "cell_type": "code",
   "execution_count": null,
   "id": "2b106cda",
   "metadata": {},
   "outputs": [],
   "source": [
    "df_test[['col2']].rolling(3, closed='left').sum()"
   ]
  },
  {
   "cell_type": "code",
   "execution_count": null,
   "id": "20c2c69f",
   "metadata": {},
   "outputs": [],
   "source": [
    "df_test[['col2']].rolling(3, closed='right').sum()"
   ]
  },
  {
   "cell_type": "code",
   "execution_count": null,
   "id": "93ec19ae",
   "metadata": {},
   "outputs": [],
   "source": [
    "df_test = df_test.groupby(by=['col1', 'col3'])['col2'].apply(list)"
   ]
  },
  {
   "cell_type": "code",
   "execution_count": null,
   "id": "60d7505a",
   "metadata": {},
   "outputs": [],
   "source": [
    "df_test = pd.DataFrame(df_test)"
   ]
  },
  {
   "cell_type": "code",
   "execution_count": null,
   "id": "b4bb0a75",
   "metadata": {},
   "outputs": [],
   "source": [
    "df_test"
   ]
  },
  {
   "cell_type": "code",
   "execution_count": null,
   "id": "f29e1813",
   "metadata": {},
   "outputs": [],
   "source": [
    "df_test.reset_index(drop=False, inplace=True)"
   ]
  },
  {
   "cell_type": "code",
   "execution_count": null,
   "id": "3f2f01bd",
   "metadata": {
    "scrolled": true
   },
   "outputs": [],
   "source": [
    "df_test"
   ]
  },
  {
   "cell_type": "code",
   "execution_count": null,
   "id": "0286ad12",
   "metadata": {},
   "outputs": [],
   "source": [
    "df_test.set_index(keys=['col1', 'col3'], inplace=True)"
   ]
  },
  {
   "cell_type": "code",
   "execution_count": null,
   "id": "08f253a1",
   "metadata": {},
   "outputs": [],
   "source": [
    "df_test.reset_index(['col1'], inplace=True)"
   ]
  },
  {
   "cell_type": "code",
   "execution_count": null,
   "id": "b65e2081",
   "metadata": {},
   "outputs": [],
   "source": []
  }
 ],
 "metadata": {
  "kernelspec": {
   "display_name": "Python 3",
   "language": "python",
   "name": "python3"
  },
  "language_info": {
   "codemirror_mode": {
    "name": "ipython",
    "version": 3
   },
   "file_extension": ".py",
   "mimetype": "text/x-python",
   "name": "python",
   "nbconvert_exporter": "python",
   "pygments_lexer": "ipython3",
   "version": "3.9.1"
  }
 },
 "nbformat": 4,
 "nbformat_minor": 5
}
