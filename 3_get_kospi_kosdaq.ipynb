{
 "cells": [
  {
   "cell_type": "markdown",
   "id": "atlantic-congress",
   "metadata": {},
   "source": [
    "### KRX 데이터정보시스템을 이용하여 kospi, kosdaq자료 취득\n",
    "- yahoo의 경우, 데이터 누락이 가끔 발생하여 의도치 않게 분석 왜곡현상이 발생할 수 있음."
   ]
  },
  {
   "cell_type": "code",
   "execution_count": 1,
   "id": "b6071c61",
   "metadata": {},
   "outputs": [],
   "source": [
    "from selenium import webdriver as wd\n",
    "from selenium.webdriver import ActionChains # scroll down 사용하기 위하여 선서\n",
    "from selenium.webdriver.chrome.service import Service\n",
    "from webdriver_manager.chrome import ChromeDriverManager\n",
    "\n",
    "from bs4 import BeautifulSoup as bs\n",
    "\n",
    "import datetime, time\n",
    "from datetime import date\n",
    "\n",
    "import pandas as pd\n",
    "import numpy as np\n",
    "import requests\n",
    "import time\n",
    "import os, sys"
   ]
  },
  {
   "cell_type": "code",
   "execution_count": 2,
   "id": "social-sunrise",
   "metadata": {},
   "outputs": [],
   "source": [
    "from selenium.webdriver.common.by import By\n",
    "from selenium.webdriver.common.keys import Keys\n",
    "from selenium.webdriver.support.ui import WebDriverWait\n",
    "from selenium.webdriver.support import expected_conditions as EC"
   ]
  },
  {
   "cell_type": "code",
   "execution_count": 3,
   "id": "983181b0",
   "metadata": {},
   "outputs": [],
   "source": [
    "# !pip install chromedriver_autoinstaller\n",
    "\n",
    "import chromedriver_autoinstaller\n",
    "\n",
    "driver_name = chromedriver_autoinstaller.install()  # Check if the current version of chromedriver exists\n",
    "                                      # and if it doesn't exist, download it automatically,\n",
    "                                      # then add chromedriver to path\n",
    "time.sleep(1)"
   ]
  },
  {
   "cell_type": "code",
   "execution_count": 4,
   "id": "compressed-cornell",
   "metadata": {},
   "outputs": [],
   "source": [
    "# driver = wd.Chrome(driver_name)\n",
    "driver = wd.Chrome(service=Service(ChromeDriverManager().install()))"
   ]
  },
  {
   "cell_type": "code",
   "execution_count": 5,
   "id": "7ea4d592",
   "metadata": {},
   "outputs": [],
   "source": [
    "def get_data_kos(kos_id):\n",
    "\n",
    "    com_ticker = kos_id\n",
    "    # 회사이름 입력 Q 버튼\n",
    "   \n",
    "    css_id = '#jsMdiMenu > div.lnb_tree > ul > li:nth-child(1) > ul > li.sel > div > \\\n",
    "    div.lnb_tree_box > ul > li.sel.on > ul > li.has5dep.sel.on > ul > li.CI-MDI-MENU-NO-CHILD.sel > a'\n",
    "    driver.find_element(By.CSS_SELECTOR, css_id).click()\n",
    "    time.sleep(2)\n",
    "    \n",
    "    # pop up된 입력창에서 회사이름 입력\n",
    "    driver.find_element(By.ID, 'tboxindIdx_finder_equidx0_1').clear()         \n",
    "    time.sleep(1)\n",
    "\n",
    "    driver.find_element(By.ID, 'tboxindIdx_finder_equidx0_1').send_keys(com_ticker)\n",
    "    time.sleep(2)\n",
    "    \n",
    "    # 검색 버튼 푸시\n",
    "    driver.find_element(By.CSS_SELECTOR, '#btnindIdx_finder_equidx0_1').click()\n",
    "    time.sleep(2)\n",
    "\n",
    "    # 테이블에서 최종 선택\n",
    "    css_sel = '#jsGrid__finder_equidx0_1 > tbody > tr:nth-child(1) > td.tal.pl20'\n",
    "\n",
    "    element = WebDriverWait(driver, 30).until(EC.text_to_be_present_in_element((By.CSS_SELECTOR, css_sel), com_ticker))\n",
    "    # 위 라인은 pop up 창이 사라질 때까지 기다리게 해 줌\n",
    "    driver.find_element(By.CSS_SELECTOR, css_sel).click()\n",
    "\n",
    "    return"
   ]
  },
  {
   "cell_type": "code",
   "execution_count": 6,
   "id": "26e6017a",
   "metadata": {},
   "outputs": [],
   "source": [
    "def set_date(start_date, end_date): # 일정 기간 데이터 취득\n",
    "    # end_date를 먼저 입력하고 start date 입력. 반대로 하면 start date가 이전날짜로  reset되어짐\n",
    "    driver.find_element(By.ID, 'endDd').clear()\n",
    "    driver.find_element(By.ID, 'endDd').send_keys(end_date)\n",
    "    time.sleep(1)\n",
    "    driver.find_element(By.ID, 'strtDd').clear()\n",
    "    driver.find_element(By.ID, 'strtDd').send_keys(start_date)\n",
    "    time.sleep(1)"
   ]
  },
  {
   "cell_type": "code",
   "execution_count": 7,
   "id": "0309f97c",
   "metadata": {},
   "outputs": [],
   "source": [
    "def get_data_date(start_date, end_date):\n",
    "    \n",
    "#     column_name = ['date', 'close', 'change', 'close_cr', 'open', 'high', 'low', \n",
    "#                   'vol', 'vol_amount','total_amount', 'total_counts' ]\n",
    "    column_name = ['date', 'close', 't1', 'close_cr',  'open', 'high', 'low', 'volume', 't2', 't3']\n",
    "    # ['일자', '종가', '대비', '등락률', '시가', '고가', '저가', '거래량', \n",
    "    #                                 '거래대금', '시가총액', '상장주식수']\n",
    " \n",
    "    start_str = start_date.strftime('%Y-%m-%d')\n",
    "    ed_str = end_date.strftime('%Y-%m-%d')\n",
    "    set_date(start_str, ed_str)\n",
    "\n",
    "    # id가 form별로 중복 구성되어 있어서 아래과 같이 수정함.\n",
    "    driver.find_element(By.XPATH, '(.//*[@id=\"jsSearchButton\"])[2]').click()\n",
    "    time.sleep(5)\n",
    "\n",
    "    df = pd.read_html(driver.page_source, \n",
    "                          attrs={\"class\": \"CI-GRID-BODY-TABLE\"}, flavor=[\"lxml\", \"bs4\"])[0]\n",
    "    df.columns = column_name\n",
    "    df['date'] = df['date'].apply(lambda x : datetime.datetime.strptime(x, \"%Y/%m/%d\"))\n",
    "    df_get = df[['date', 'close', 'open', 'high', 'low', 'volume', 'close_cr']]\n",
    "    \n",
    "    return df_get"
   ]
  },
  {
   "cell_type": "code",
   "execution_count": 8,
   "id": "extreme-participation",
   "metadata": {},
   "outputs": [],
   "source": [
    "def non_empty_index_df(df_input, start_date, end_date): # 토,일,공휴일등 거래가 없는 일자도 모두 포함\n",
    "    date_range_ts = pd.date_range(start=start_date, end=end_date)\n",
    "    df_input.set_index('date', inplace=True)\n",
    "    df_out = pd.DataFrame(columns = df_input.columns)\n",
    "    df_out.insert(0, 'date', date_range_ts)\n",
    "    df_out.set_index('date', inplace=True)\n",
    "    df_out.update(df_input)\n",
    "    df_out.reset_index(inplace=True)\n",
    "    return df_out"
   ]
  },
  {
   "cell_type": "code",
   "execution_count": 9,
   "id": "7bbfe671",
   "metadata": {},
   "outputs": [],
   "source": [
    "def concat_df(df_o, df):\n",
    "    df_o = pd.concat([df_o, df], ignore_index=True)\n",
    "    df_o.drop_duplicates(subset=['date'], keep='last', inplace=True)\n",
    "#     df_o.drop_duplicates(subset=['date'], keep='first', inplace=True)\n",
    "    df_o.sort_values(by=[df_o.columns[0]], inplace=True)\n",
    "    df_o.index = np.arange(0, len(df_o))  # 일련 번호 오름차순으로 재 설정\n",
    "    return df_o"
   ]
  },
  {
   "cell_type": "code",
   "execution_count": 10,
   "id": "3a6d298e",
   "metadata": {},
   "outputs": [],
   "source": [
    "def make_pickle(df, pkl_name):\n",
    "    pkl_directory = 'data/common_pkl/'\n",
    "    try:\n",
    "        if not os.path.exists(pkl_directory):\n",
    "            os.makedirs(pkl_directory)\n",
    "    except OSError:\n",
    "        print(\"Error: Failed to create the directory.\")\n",
    "\n",
    "    # 데이터 저장: ../data/spx.pkl\n",
    "    df.to_pickle(pkl_directory+pkl_name)\n",
    "    df.to_csv(pkl_directory+pkl_name.replace('pkl','csv'))"
   ]
  },
  {
   "cell_type": "code",
   "execution_count": 11,
   "id": "96ca8baa",
   "metadata": {},
   "outputs": [],
   "source": [
    "def get_ticker_data(ticker, startdate, enddate, col_name):\n",
    "    ydata = yf.Ticker(ticker)\n",
    "    rdata = ydata.history(period=\"2y\") # 오늘부터 2년치\n",
    "    rdata.reset_index('Date', inplace=True)\n",
    "    rdata['Date'] = rdata['Date'].dt.date  # datetime64 to datetime.date()\n",
    "    rdata = rdata[(rdata['Date'] <= enddate) & (rdata['Date'] >= startdate)] \n",
    "    rdata['temp'] = rdata['Close'].shift(1)\n",
    "    val_temp = (rdata['Close'] - rdata['temp'])/rdata['temp']*100\n",
    "    rdata[f'{col_name}_cr'] = val_temp.map(\"{:.2f}%\".format)\n",
    "    rdata = rdata[['Date', 'Close', 'Open', 'High', 'Low', 'Volume', f'{col_name}_cr']] # 필요한 column만 남김\n",
    "    rdata.columns = ['date', f'{col_name}', 'open', 'high', 'low', 'volume', f'{col_name}_cr'] # column이름 통일\n",
    "    rdata.reset_index(drop=True, inplace=True) # index번호를 0부터 재정리\n",
    "    return rdata"
   ]
  },
  {
   "cell_type": "code",
   "execution_count": 12,
   "id": "29e69d53",
   "metadata": {},
   "outputs": [],
   "source": [
    "# driver.set_window_position(-10000,0) # hide windows\n",
    "main_url = 'http://data.krx.co.kr/contents/MDC/MDI/mdiLoader/index.cmd?menuId=MDC0201010105'\n",
    "# 개별종목 시세추이 data-menu-id: MDC0201020103\n",
    "driver.get(main_url)\n",
    "time.sleep(1)"
   ]
  },
  {
   "cell_type": "code",
   "execution_count": 13,
   "id": "c4566fc1",
   "metadata": {},
   "outputs": [],
   "source": [
    "# select 개별지수종합정보 side menu\n",
    "data_menu_id = '#jsMdiMenu > div.lnb_tree > ul > li:nth-child(1) > ul > li.sel > div > div.lnb_tree_box > ul > li.sel > ul > li.has5dep.sel.on > ul > li.CI-MDI-MENU-NO-CHILD.sel > a'\n",
    "driver.find_element(By.CSS_SELECTOR, data_menu_id).click()\n",
    "time.sleep(1)"
   ]
  },
  {
   "cell_type": "code",
   "execution_count": 14,
   "id": "6be45717",
   "metadata": {},
   "outputs": [],
   "source": [
    "# 일자별 화면으로 이동. 이동후부터 element id 내용이 ------0_1로 변경되어 진행되므로, 이 과정은 꼭 거쳐야 함.\n",
    "driver.find_element(By.ID, 'jsOpenView_1').click()\n",
    "time.sleep(1)"
   ]
  },
  {
   "cell_type": "code",
   "execution_count": 15,
   "id": "8903361a",
   "metadata": {},
   "outputs": [],
   "source": [
    "# # 백만원 단위 표시 선정\n",
    "# css_sel = '#MDCSTAT017_FORM > div.CI-MDI-UNIT-WRAP > div > p:nth-child(2) \\\n",
    "#            > select.CI-MDI-UNIT-MONEY > option:nth-child(3)'\n",
    "# # driver.find_element_by_css_selector(css_sel).click()  # by_scc 형식이 없어짐.\n",
    "# driver.find_element(By.CSS_SELECTOR, css_sel).click()\n",
    "# time.sleep(1)"
   ]
  },
  {
   "cell_type": "code",
   "execution_count": 16,
   "id": "4afbc1cf",
   "metadata": {},
   "outputs": [],
   "source": [
    "code = {'kospi':'코스피', 'kosdaq':'코스닥'}\n",
    "# code = {'kosdaq':'코스닥'}"
   ]
  },
  {
   "cell_type": "code",
   "execution_count": 17,
   "id": "bae0a0ae",
   "metadata": {},
   "outputs": [],
   "source": [
    "pkl_directory = 'data/common_pkl/'\n",
    "for com, val in code.items():\n",
    "    com_name = f'{val}'\n",
    "    pkl_name= f'{com}.pkl'\n",
    "    try :\n",
    "        df_o = pd.read_pickle(pkl_directory + pkl_name)\n",
    "        start_date = df_o['date'].iloc[len(df_o)-1]\n",
    "    except :\n",
    "        start_date = datetime.date(2022, 1, 1)   # 데이터 취득 시작 일자     \n",
    "\n",
    "#     start_date = datetime.date(2023, 5, 11)  # 데이터 취득 오류시 일시 사용\n",
    "        \n",
    "    end_date = datetime.date.today()\n",
    "    get_data_kos(com_name)\n",
    "    df_get = get_data_date(start_date, end_date)\n",
    "    df_out = non_empty_index_df(df_get, start_date, end_date)\n",
    "    df_out['date'] = df_out['date'].dt.date # convert to datetime\n",
    "    df_out.columns = ['date', f'{com}', 'open', 'high', 'low', 'volume', f'{com}_cr'] # column이름 통일\n",
    "    try :\n",
    "        df_o = concat_df(df_o, df_out) # append df to original df\n",
    "    except :\n",
    "        df_o = df_out.copy()\n",
    "        \n",
    "    df_o.replace(np.nan, '', inplace=True)\n",
    "    df_o.to_pickle(pkl_directory+pkl_name)\n",
    "    df_o.to_csv(pkl_directory+pkl_name.replace('pkl','csv'))"
   ]
  },
  {
   "cell_type": "code",
   "execution_count": 18,
   "id": "cfa26bb4",
   "metadata": {},
   "outputs": [],
   "source": [
    "driver.close()\n",
    "driver.quit()"
   ]
  },
  {
   "cell_type": "code",
   "execution_count": 19,
   "id": "37a035d9",
   "metadata": {},
   "outputs": [],
   "source": [
    "# # 최초 데이터 취득시 사용됨.\n",
    "\n",
    "# pkl_directory = 'data/common_pkl/'\n",
    "# df = pd.read_csv(pkl_directory + 'kospi1.csv', encoding='cp949' )\n",
    "# columns = ['date', 'kospi', 't1', 'kospi_cr',  'open', 'high', 'low', 'volume', 't2', 't3']\n",
    "# df.columns = columns\n",
    "# df['date'] = pd.to_datetime(df['date']).dt.date\n",
    "# df_o = df[['date', 'kospi', 'open', 'high', 'low', 'volume', 'kospi_cr']]\n",
    "# df_o = df_o.sort_values(by='date')\n",
    "# df_o.index = np.arange(0,len(df_o))\n",
    "# make_pickle(df_o, 'kospi.pkl')"
   ]
  },
  {
   "cell_type": "code",
   "execution_count": 20,
   "id": "eab6845f",
   "metadata": {},
   "outputs": [],
   "source": [
    "# # 최초 데이터 취득시 사용됨.\n",
    "\n",
    "# pkl_directory = 'data/common_pkl/'\n",
    "# df = pd.read_csv(pkl_directory + 'kosdaq1.csv', encoding='cp949' )\n",
    "# columns = ['date', 'kosdaq', 't1', 'kosdaq_cr',  'open', 'high', 'low', 'volume', 't2', 't3']\n",
    "# df.columns = columns\n",
    "# df['date'] = pd.to_datetime(df['date']).dt.date\n",
    "# df_o = df[['date', 'kosdaq', 'open', 'high', 'low', 'volume', 'kosdaq_cr']]\n",
    "# df_o = df_o.sort_values(by='date')\n",
    "# df_o.index = np.arange(0,len(df_o))\n",
    "# make_pickle(df_o, 'kosdaq.pkl')"
   ]
  },
  {
   "cell_type": "code",
   "execution_count": null,
   "id": "d7857163",
   "metadata": {},
   "outputs": [],
   "source": []
  }
 ],
 "metadata": {
  "kernelspec": {
   "display_name": "Python 3 (ipykernel)",
   "language": "python",
   "name": "python3"
  },
  "language_info": {
   "codemirror_mode": {
    "name": "ipython",
    "version": 3
   },
   "file_extension": ".py",
   "mimetype": "text/x-python",
   "name": "python",
   "nbconvert_exporter": "python",
   "pygments_lexer": "ipython3",
   "version": "3.10.7"
  }
 },
 "nbformat": 4,
 "nbformat_minor": 5
}
