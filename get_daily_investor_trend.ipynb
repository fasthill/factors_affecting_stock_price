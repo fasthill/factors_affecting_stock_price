{
 "cells": [
  {
   "cell_type": "markdown",
   "id": "atlantic-congress",
   "metadata": {},
   "source": [
    "### KRX 데이터정보시스템\n",
    "투자자별 매매동향"
   ]
  },
  {
   "cell_type": "code",
   "execution_count": 1,
   "id": "b6071c61",
   "metadata": {},
   "outputs": [],
   "source": [
    "from selenium import webdriver as wd\n",
    "from selenium.webdriver import ActionChains # scroll down 사용하기 위하여 선서\n",
    "from selenium.webdriver.common.keys import Keys\n",
    "from bs4 import BeautifulSoup as bs\n",
    "\n",
    "import datetime, time\n",
    "from datetime import date\n",
    "\n",
    "import pandas as pd\n",
    "import requests\n",
    "import time\n",
    "import os, sys"
   ]
  },
  {
   "cell_type": "code",
   "execution_count": 2,
   "id": "social-sunrise",
   "metadata": {},
   "outputs": [],
   "source": [
    "from selenium.webdriver.common.by import By\n",
    "from selenium.webdriver.support.ui import WebDriverWait\n",
    "from selenium.webdriver.support import expected_conditions as EC"
   ]
  },
  {
   "cell_type": "code",
   "execution_count": 3,
   "id": "983181b0",
   "metadata": {},
   "outputs": [],
   "source": [
    "# !pip install chromedriver_autoinstaller\n",
    "\n",
    "import chromedriver_autoinstaller\n",
    "\n",
    "driver_name = chromedriver_autoinstaller.install()  # Check if the current version of chromedriver exists\n",
    "                                      # and if it doesn't exist, download it automatically,\n",
    "                                      # then add chromedriver to path\n",
    "time.sleep(1)"
   ]
  },
  {
   "cell_type": "code",
   "execution_count": 4,
   "id": "compressed-cornell",
   "metadata": {},
   "outputs": [],
   "source": [
    "driver = wd.Chrome(driver_name)"
   ]
  },
  {
   "cell_type": "code",
   "execution_count": 5,
   "id": "29e69d53",
   "metadata": {},
   "outputs": [],
   "source": [
    "# driver.set_window_position(-10000,0) # hide windows\n",
    "main_url = 'http://data.krx.co.kr/contents/MDC/MDI/mdiLoader/index.cmd?menuId=MDC0201020203'\n",
    "driver.get(main_url)\n",
    "time.sleep(2)"
   ]
  },
  {
   "cell_type": "code",
   "execution_count": 6,
   "id": "80f785a1",
   "metadata": {},
   "outputs": [],
   "source": [
    "company_name = ['005930/삼성전자', '005380/현대차', '035420/NAVER', '033780/KT&G']\n",
    "company_code = {'sec': '005930', 'hyunmotor': '005380', 'naver': '035420', 'ktng': '033780'}\n",
    "company_name = ['005380/현대차']\n",
    "company_code = {'hyunmotor': '005380'}\n",
    "\n",
    "company_match = {'005930': '005930/삼성전자', '005380': '005380/현대차',\n",
    "                 '035420': '035420/NAVER', '033780': '033780/KT&G'}"
   ]
  },
  {
   "cell_type": "code",
   "execution_count": 7,
   "id": "imposed-respect",
   "metadata": {},
   "outputs": [],
   "source": [
    "start_date = '2022-01-01'\n",
    "today = datetime.date.today()\n",
    "today = today.strftime('%Y-%m-%d')\n",
    "end_date = today\n",
    "end_date = '2022-03-01'"
   ]
  },
  {
   "cell_type": "code",
   "execution_count": 8,
   "id": "a2268680",
   "metadata": {},
   "outputs": [],
   "source": [
    "column_name = ['financial', 'insurance', 'invtrust', 'privequity', 'bank', 'financeetc', 'pension',\n",
    "              'institution', 'corporateetc', 'retail', 'foreigner', 'foreigneretc', 'total' ]"
   ]
  },
  {
   "cell_type": "code",
   "execution_count": 9,
   "id": "equivalent-opera",
   "metadata": {},
   "outputs": [],
   "source": [
    "# Message: element not interactable Error 방지용. 클릭하기 위하여는 그 위치가 클릭할 수 있게 노출되어 있어야 함\n",
    "# 투자자별 거래실적 버튼이 위치한 곳으로 화면 scroll \n",
    "\n",
    "# id가 jsOpenView_1 인 element 를 찾음\n",
    "stop_tag = driver.find_element_by_id('jsOpenView_1')\n",
    "\n",
    "# jsOpenView_1 element 까지 스크롤\n",
    "action = ActionChains(driver)\n",
    "action.move_to_element(stop_tag).perform()"
   ]
  },
  {
   "cell_type": "code",
   "execution_count": 10,
   "id": "maritime-magnet",
   "metadata": {},
   "outputs": [],
   "source": [
    "# xps = '/html/body/div[2]/section[2]/section/section/div/div/div[1]/div[1]/div[5]/button[1]'\n",
    "# driver.find_element_by_xpath(xps).click() \n",
    "# # 창이 스크롤 다운할 필요가 없어야 하게 충분히 커야 함. \n",
    "# # 그렇지 않으면 Message: element not interactable Error 발생"
   ]
  },
  {
   "cell_type": "code",
   "execution_count": 11,
   "id": "legitimate-kentucky",
   "metadata": {},
   "outputs": [],
   "source": [
    "# 투자자별 거래 실적 버튼 클릭\n",
    "driver.find_element_by_id('jsOpenView_1').click()\n",
    "# interactive error 방지 error solution\n",
    "time.sleep(2)"
   ]
  },
  {
   "cell_type": "code",
   "execution_count": 12,
   "id": "8903361a",
   "metadata": {},
   "outputs": [],
   "source": [
    "# 백만원 단위 표시 선정\n",
    "css_sel = '#MDCSTAT023_FORM > div.CI-MDI-UNIT-WRAP > div > p:nth-child(2) > select.CI-MDI-UNIT-MONEY > option:nth-child(3)'\n",
    "driver.find_element_by_css_selector(css_sel).click()\n",
    "time.sleep(2)"
   ]
  },
  {
   "cell_type": "code",
   "execution_count": 13,
   "id": "reported-olympus",
   "metadata": {},
   "outputs": [],
   "source": [
    "# driver.find_element_by_id('jsOpenView_1').send_keys(Keys.ENTER)\n",
    "# # interactive error 방지 error solution"
   ]
  },
  {
   "cell_type": "code",
   "execution_count": 14,
   "id": "fa61347d",
   "metadata": {},
   "outputs": [],
   "source": [
    "def date_set(datei):\n",
    "# end_date를 먼저 입력하고 start date 입력. 반대로 하면 start date가 이전날짜로  reset되어짐\n",
    "    driver.find_element_by_id('endDd').clear()\n",
    "    driver.find_element_by_id('endDd').send_keys(datei)\n",
    "    time.sleep(1)\n",
    "    driver.find_element_by_id('strtDd').clear()\n",
    "    driver.find_element_by_id('strtDd').send_keys(datei)\n",
    "    time.sleep(1)\n",
    "    return"
   ]
  },
  {
   "cell_type": "code",
   "execution_count": 15,
   "id": "6be4fe3c",
   "metadata": {},
   "outputs": [],
   "source": [
    "def push_button_1(): # 조회 button push\n",
    "    xp = '/html/body/div[2]/section[2]/section/section/div/div[2]/form/div[1]/div/a' \n",
    "    # use full xpath to avoid 'Message: element not interactable' Error\n",
    "    driver.find_element_by_xpath(xp).click()\n",
    "    time.sleep(6) # 데이터를 다운로드할 충분히 시간을 할당해야 함."
   ]
  },
  {
   "cell_type": "code",
   "execution_count": 16,
   "id": "e96feea0",
   "metadata": {},
   "outputs": [],
   "source": [
    "index_name = ['investor', 'sell_quantity', 'buy_quantity', 'pure_buy_quantiry', 'sell', 'buy', 'pure_buy']\n",
    "def get_year_data(date_range):\n",
    "    df_org = None\n",
    "    for datei in date_range:\n",
    "        date_set(datei)\n",
    "        push_button_1()\n",
    "        df = pd.read_html(driver.page_source, \n",
    "                          attrs={\"class\": \"CI-GRID-BODY-TABLE\"}, flavor=[\"lxml\", \"bs4\"])[0]\n",
    "        df.columns = index_name\n",
    "        df_new = df[['investor', 'pure_buy']]\n",
    "        df_new.set_index('investor', inplace=True)\n",
    "        dft = df_new.T\n",
    "        dft.columns = column_name\n",
    "        dft.insert(0, \"date\", datetime.datetime.strptime(datei, \"%Y%m%d\"))\n",
    "        dft.reset_index(drop=True, inplace=True)\n",
    "        if df_org is None:\n",
    "            df_org = dft.copy()\n",
    "            continue\n",
    "        df_org = df_org.append(dft, ignore_index=True)\n",
    "        \n",
    "    return df_org"
   ]
  },
  {
   "cell_type": "code",
   "execution_count": 17,
   "id": "7ea4d592",
   "metadata": {},
   "outputs": [],
   "source": [
    "def get_data_company(com_name, start_date, end_date):\n",
    "    \n",
    "    # 회사이름 입력 Q 버튼\n",
    "    driver.find_element_by_css_selector('#btnisuCd_finder_stkisu0_1').click()\n",
    "    time.sleep(2)\n",
    "\n",
    "    # pop up된 입력창에서 회사이름 입력\n",
    "    driver.find_element_by_id('searchText__finder_stkisu0_1').clear()\n",
    "    time.sleep(1)\n",
    "    driver.find_element_by_id('searchText__finder_stkisu0_1').send_keys(com_name)\n",
    "    time.sleep(2)\n",
    "\n",
    "    # 검색 버튼 푸시\n",
    "    driver.find_element_by_css_selector('#searchBtn__finder_stkisu0_1').click()\n",
    "    time.sleep(2)\n",
    "\n",
    "    # 테이블에서 최종 선택\n",
    "    css_sel = '#jsGrid__finder_stkisu0_1 > tbody > tr:nth-child(1) > td:nth-child(1)'\n",
    "    driver.find_element_by_css_selector(css_sel).click()\n",
    "    time.sleep(2)\n",
    "    \n",
    "    date_range = convert_date(start_date, end_date)\n",
    "    return get_year_data(date_range)"
   ]
  },
  {
   "cell_type": "code",
   "execution_count": 18,
   "id": "7dab4ded",
   "metadata": {},
   "outputs": [],
   "source": [
    "def convert_date(start_date, end_date):\n",
    "    date_range_ts = pd.date_range(start=start_date, end=end_date)\n",
    "    date_range = []\n",
    "    for x in date_range_ts:\n",
    "        date_range.append(datetime.datetime.strftime(x, \"%Y%m%d\"))\n",
    "    return date_range"
   ]
  },
  {
   "cell_type": "code",
   "execution_count": 19,
   "id": "cheap-potential",
   "metadata": {},
   "outputs": [],
   "source": [
    "def append_data(company_code, company_match, com_df):\n",
    "    for key, val in company_code.items():\n",
    "        filename = 'data/{}_{}.csv'.format('data', key)\n",
    "        df_company = pd.read_csv(filename)\n",
    "        df_company['date'] = df_company['date'].apply(lambda x : datetime.datetime.strptime(x, \"%Y-%m-%d\"))\n",
    "        df_company.set_index('date', inplace=True)\n",
    "\n",
    "        df = com_df[company_match[val]]\n",
    "        df_select = df[['date', 'financial', 'insurance', 'invtrust', 'privequity', 'bank', 'financeetc', \n",
    "                        'pension', 'institution', 'corporateetc', 'retail', 'foreigner', 'foreigneretc' ]]\n",
    "        df_select.set_index('date', inplace=True)\n",
    "    #     df_company.update(df_select, overwrite=False)\n",
    "        df_company.update(df_select)\n",
    "        df_company.reset_index(inplace=True)\n",
    "        df_company.to_csv(filename, index=False)\n",
    "        return df_company"
   ]
  },
  {
   "cell_type": "code",
   "execution_count": 20,
   "id": "a11d6e42",
   "metadata": {},
   "outputs": [
    {
     "ename": "TypeError",
     "evalue": "__init__() takes 2 positional arguments but 3 were given",
     "output_type": "error",
     "traceback": [
      "\u001b[1;31m---------------------------------------------------------------------------\u001b[0m",
      "\u001b[1;31mTypeError\u001b[0m                                 Traceback (most recent call last)",
      "Input \u001b[1;32mIn [20]\u001b[0m, in \u001b[0;36m<module>\u001b[1;34m\u001b[0m\n\u001b[0;32m      2\u001b[0m com_df \u001b[38;5;241m=\u001b[39m {}\n\u001b[0;32m      4\u001b[0m \u001b[38;5;28;01mfor\u001b[39;00m com_name \u001b[38;5;129;01min\u001b[39;00m company_name:\n\u001b[1;32m----> 5\u001b[0m     com_df[com_name] \u001b[38;5;241m=\u001b[39m get_data_company(com_name, start_date, end_date)\n\u001b[0;32m      7\u001b[0m df \u001b[38;5;241m=\u001b[39m append_data(company_code, company_match, com_df)\n",
      "Input \u001b[1;32mIn [17]\u001b[0m, in \u001b[0;36mget_data_company\u001b[1;34m(com_name, start_date, end_date)\u001b[0m\n\u001b[0;32m     20\u001b[0m time\u001b[38;5;241m.\u001b[39msleep(\u001b[38;5;241m2\u001b[39m)\n\u001b[0;32m     22\u001b[0m date_range \u001b[38;5;241m=\u001b[39m convert_date(start_date, end_date)\n\u001b[1;32m---> 23\u001b[0m \u001b[38;5;28;01mreturn\u001b[39;00m \u001b[43mget_year_data\u001b[49m\u001b[43m(\u001b[49m\u001b[43mdate_range\u001b[49m\u001b[43m)\u001b[49m\n",
      "Input \u001b[1;32mIn [16]\u001b[0m, in \u001b[0;36mget_year_data\u001b[1;34m(date_range)\u001b[0m\n\u001b[0;32m      4\u001b[0m \u001b[38;5;28;01mfor\u001b[39;00m datei \u001b[38;5;129;01min\u001b[39;00m date_range:\n\u001b[0;32m      5\u001b[0m     date_set(datei)\n\u001b[1;32m----> 6\u001b[0m     \u001b[43mpush_button_1\u001b[49m\u001b[43m(\u001b[49m\u001b[43m)\u001b[49m\n\u001b[0;32m      7\u001b[0m     df \u001b[38;5;241m=\u001b[39m pd\u001b[38;5;241m.\u001b[39mread_html(driver\u001b[38;5;241m.\u001b[39mpage_source, \n\u001b[0;32m      8\u001b[0m                       attrs\u001b[38;5;241m=\u001b[39m{\u001b[38;5;124m\"\u001b[39m\u001b[38;5;124mclass\u001b[39m\u001b[38;5;124m\"\u001b[39m: \u001b[38;5;124m\"\u001b[39m\u001b[38;5;124mCI-GRID-BODY-TABLE\u001b[39m\u001b[38;5;124m\"\u001b[39m}, flavor\u001b[38;5;241m=\u001b[39m[\u001b[38;5;124m\"\u001b[39m\u001b[38;5;124mlxml\u001b[39m\u001b[38;5;124m\"\u001b[39m, \u001b[38;5;124m\"\u001b[39m\u001b[38;5;124mbs4\u001b[39m\u001b[38;5;124m\"\u001b[39m])[\u001b[38;5;241m0\u001b[39m]\n\u001b[0;32m      9\u001b[0m     df\u001b[38;5;241m.\u001b[39mcolumns \u001b[38;5;241m=\u001b[39m index_name\n",
      "Input \u001b[1;32mIn [15]\u001b[0m, in \u001b[0;36mpush_button_1\u001b[1;34m()\u001b[0m\n\u001b[0;32m      3\u001b[0m \u001b[38;5;66;03m# use full xpath to avoid 'Message: element not interactable' Error\u001b[39;00m\n\u001b[0;32m      4\u001b[0m driver\u001b[38;5;241m.\u001b[39mfind_element_by_xpath(xp)\u001b[38;5;241m.\u001b[39mclick()\n\u001b[1;32m----> 5\u001b[0m table \u001b[38;5;241m=\u001b[39m WebDriverWait(driver, \u001b[38;5;241m10\u001b[39m)\u001b[38;5;241m.\u001b[39muntil(\u001b[43mEC\u001b[49m\u001b[38;5;241;43m.\u001b[39;49m\u001b[43mpresence_of_element_located\u001b[49m\u001b[43m(\u001b[49m\u001b[43mBy\u001b[49m\u001b[38;5;241;43m.\u001b[39;49m\u001b[43mCSS_SELECTOR\u001b[49m\u001b[43m,\u001b[49m\u001b[43m \u001b[49m\u001b[38;5;124;43m'\u001b[39;49m\u001b[38;5;124;43mtable.CI-GRID-BODY-TABLE\u001b[39;49m\u001b[38;5;124;43m'\u001b[39;49m\u001b[43m)\u001b[49m)\n",
      "\u001b[1;31mTypeError\u001b[0m: __init__() takes 2 positional arguments but 3 were given"
     ]
    }
   ],
   "source": [
    "# 메인 데이터 취득\n",
    "com_df = {}\n",
    "\n",
    "for com_name in company_name:\n",
    "    com_df[com_name] = get_data_company(com_name, start_date, end_date)\n",
    "    \n",
    "df = append_data(company_code, company_match, com_df)"
   ]
  },
  {
   "cell_type": "code",
   "execution_count": null,
   "id": "97f085fd",
   "metadata": {},
   "outputs": [],
   "source": [
    "# for key, val in company_code.items():\n",
    "#     filename = 'data/{}_{}.csv'.format('data', key)\n",
    "#     df_company = pd.read_csv(filename)\n",
    "#     df_company['date'] = df_company['date'].apply(lambda x : datetime.datetime.strptime(x, \"%Y-%m-%d\"))\n",
    "#     df_company.set_index('date', inplace=True)\n",
    "    \n",
    "#     df = com_df[company_match[val]]\n",
    "#     df_select = df[['date', 'financial', 'insurance', 'invtrust', 'privequity', 'bank', 'financeetc', \n",
    "#                     'pension', 'institution', 'corporateetc', 'retail', 'foreigner', 'foreigneretc' ]]\n",
    "#     df_select.set_index('date', inplace=True)\n",
    "# #     df_company.update(df_select, overwrite=False)\n",
    "#     df_company.update(df_select)\n",
    "#     df_company.reset_index(inplace=True)\n",
    "#     df_company.to_csv(filename, index=False)"
   ]
  },
  {
   "cell_type": "code",
   "execution_count": 21,
   "id": "6f2843ed",
   "metadata": {},
   "outputs": [],
   "source": [
    "driver.close()\n",
    "driver.quit()"
   ]
  },
  {
   "cell_type": "markdown",
   "id": "western-archives",
   "metadata": {},
   "source": [
    "#### 아래 참고"
   ]
  },
  {
   "cell_type": "code",
   "execution_count": null,
   "id": "2fdfafff",
   "metadata": {},
   "outputs": [],
   "source": [
    "'''\n",
    "개인 : 일반인이 주식을 매매\n",
    "외국인 : 주로 외국계 증권사\n",
    "기관 : 개인을 제외한 투자자\n",
    "금융투자 : 증권사, 자산운용사 등이 회사자산을 이용하여 투자할 경우\n",
    "투자신탁 : 증권사, 자산운용사 등이 고객의 자산을 이용하여 투자, 펀드 등\n",
    "사모펀드 : 고객의 자산을 이용하여 투자.\n",
    "은행 : 고객의 예금을 운용하여 투자\n",
    "보험 : 고객의 보험금을 운용하여 투자\n",
    "연기금 : 각종 연금, 공제회 기금등을 직접 운용하여 투자\n",
    "국가 : 우체국, 보험공사, 주택공사등 공공기관\n",
    "기타금융 : 상호저축은행 등\n",
    "기타법인 : 투자기관이 아닌 법인이 투자할 경우, 자사주 매입등\n",
    "기타외국인 : 국내에 6개월 이상 거주하는 외국인. 주로 개인투자자\n",
    "'''"
   ]
  },
  {
   "cell_type": "markdown",
   "id": "4f5f6d0a",
   "metadata": {},
   "source": [
    "driver.find_element(By.CSS_SELECTOR, \"#payment > div  > div > iframe\")\n",
    "and \n",
    "driver.switch_to.frame(iframe)"
   ]
  },
  {
   "cell_type": "code",
   "execution_count": null,
   "id": "architectural-courage",
   "metadata": {},
   "outputs": [],
   "source": [
    "# Message: element not interactable Error 도움말\n",
    "# https://stackoverflow.com/questions/56194094/how-to-fix-this-issue-element-not-interactable-selenium-python"
   ]
  },
  {
   "cell_type": "code",
   "execution_count": null,
   "id": "2c5a4b50",
   "metadata": {},
   "outputs": [],
   "source": []
  }
 ],
 "metadata": {
  "kernelspec": {
   "display_name": "Python 3 (ipykernel)",
   "language": "python",
   "name": "python3"
  },
  "language_info": {
   "codemirror_mode": {
    "name": "ipython",
    "version": 3
   },
   "file_extension": ".py",
   "mimetype": "text/x-python",
   "name": "python",
   "nbconvert_exporter": "python",
   "pygments_lexer": "ipython3",
   "version": "3.9.1"
  }
 },
 "nbformat": 4,
 "nbformat_minor": 5
}
