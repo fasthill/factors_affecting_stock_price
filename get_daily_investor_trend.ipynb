{
 "cells": [
  {
   "cell_type": "markdown",
   "id": "atlantic-congress",
   "metadata": {},
   "source": [
    "### KRX 데이터정보시스템\n",
    "투자자별 매매동향"
   ]
  },
  {
   "cell_type": "code",
   "execution_count": 1,
   "id": "b6071c61",
   "metadata": {},
   "outputs": [],
   "source": [
    "from selenium import webdriver as wd\n",
    "from selenium.webdriver import ActionChains # scroll down 사용하기 위하여 선서\n",
    "from selenium.webdriver.common.keys import Keys\n",
    "from bs4 import BeautifulSoup as bs\n",
    "import pandas as pd\n",
    "import requests\n",
    "import time\n",
    "import os, sys"
   ]
  },
  {
   "cell_type": "code",
   "execution_count": 2,
   "id": "983181b0",
   "metadata": {},
   "outputs": [],
   "source": [
    "# !pip install chromedriver_autoinstaller\n",
    "\n",
    "import chromedriver_autoinstaller\n",
    "\n",
    "driver_name = chromedriver_autoinstaller.install()  # Check if the current version of chromedriver exists\n",
    "                                      # and if it doesn't exist, download it automatically,\n",
    "                                      # then add chromedriver to path\n",
    "time.sleep(1)"
   ]
  },
  {
   "cell_type": "code",
   "execution_count": 3,
   "id": "compressed-cornell",
   "metadata": {},
   "outputs": [],
   "source": [
    "driver = wd.Chrome(driver_name)\n",
    "driver.set_window_position(0, 0)\n",
    "driver.set_window_size(1400, 5000)"
   ]
  },
  {
   "cell_type": "code",
   "execution_count": 4,
   "id": "29e69d53",
   "metadata": {},
   "outputs": [],
   "source": [
    "# driver.set_window_position(-10000,0) # hide windows\n",
    "main_url = 'http://data.krx.co.kr/contents/MDC/MDI/mdiLoader/index.cmd?menuId=MDC0201020203'\n",
    "driver.get(main_url)\n",
    "time.sleep(2)"
   ]
  },
  {
   "cell_type": "code",
   "execution_count": 5,
   "id": "sublime-dating",
   "metadata": {},
   "outputs": [],
   "source": [
    "# driver.find_element_by_id('tboxisuCd_finder_stkisu0_0').clear()\n",
    "# time.sleep(2)\n",
    "# driver.find_element_by_id('tboxisuCd_finder_stkisu0_0').send_keys('005380/현대차')\n",
    "# time.sleep(2)"
   ]
  },
  {
   "cell_type": "code",
   "execution_count": 6,
   "id": "digital-sentence",
   "metadata": {},
   "outputs": [],
   "source": [
    "driver.find_element_by_css_selector('#btnisuCd_finder_stkisu0_0').click()\n",
    "time.sleep(2)"
   ]
  },
  {
   "cell_type": "code",
   "execution_count": 7,
   "id": "eligible-stamp",
   "metadata": {},
   "outputs": [],
   "source": [
    "driver.find_element_by_id('searchText__finder_stkisu0_0').clear()\n",
    "time.sleep(2)\n",
    "driver.find_element_by_id('searchText__finder_stkisu0_0').send_keys('005380/현대차')\n",
    "time.sleep(2)"
   ]
  },
  {
   "cell_type": "code",
   "execution_count": 8,
   "id": "desirable-result",
   "metadata": {},
   "outputs": [],
   "source": [
    "driver.find_element_by_css_selector('#searchBtn__finder_stkisu0_0').click()"
   ]
  },
  {
   "cell_type": "code",
   "execution_count": 9,
   "id": "recovered-absorption",
   "metadata": {},
   "outputs": [],
   "source": [
    "driver.find_element_by_css_selector('#jsGrid__finder_stkisu0_0 > tbody > tr:nth-child(1) > td:nth-child(1)').click()\n",
    "time.sleep(2)"
   ]
  },
  {
   "cell_type": "code",
   "execution_count": 10,
   "id": "equivalent-opera",
   "metadata": {},
   "outputs": [],
   "source": [
    "# Message: element not interactable Error 방지용. 클릭하기 위하여는 그 위치가 클릭할 수 있게 노출되어 있어야 함\n",
    "\n",
    "# id가 jsOpenView_1 인 element 를 찾음\n",
    "stop_tag = driver.find_element_by_id('jsOpenView_1')\n",
    "\n",
    "# jsOpenView_1 element 까지 스크롤\n",
    "action = ActionChains(driver)\n",
    "action.move_to_element(stop_tag).perform()"
   ]
  },
  {
   "cell_type": "code",
   "execution_count": 11,
   "id": "maritime-magnet",
   "metadata": {},
   "outputs": [],
   "source": [
    "# xps = '/html/body/div[2]/section[2]/section/section/div/div/div[1]/div[1]/div[5]/button[1]'\n",
    "# driver.find_element_by_xpath(xps).click() \n",
    "# # 창이 스크롤 다운할 필요가 없어야 하게 충분히 커야 함. \n",
    "# # 그렇지 않으면 Message: element not interactable Error 발생"
   ]
  },
  {
   "cell_type": "code",
   "execution_count": 12,
   "id": "legitimate-kentucky",
   "metadata": {},
   "outputs": [],
   "source": [
    "driver.find_element_by_id('jsOpenView_1').click()\n",
    "# interactive error 방지 error solution\n",
    "time.sleep(2)"
   ]
  },
  {
   "cell_type": "code",
   "execution_count": 13,
   "id": "reported-olympus",
   "metadata": {},
   "outputs": [],
   "source": [
    "# driver.find_element_by_id('jsOpenView_1').send_keys(Keys.ENTER)\n",
    "# # interactive error 방지 error solution"
   ]
  },
  {
   "cell_type": "code",
   "execution_count": 14,
   "id": "julian-olive",
   "metadata": {},
   "outputs": [],
   "source": [
    "date = '20220630'\n",
    "driver.find_element_by_id('strtDd').clear()\n",
    "driver.find_element_by_id('strtDd').send_keys(date)\n",
    "time.sleep(1)\n",
    "driver.find_element_by_id('endDd').clear()\n",
    "driver.find_element_by_id('endDd').send_keys(date)\n",
    "time.sleep(1)"
   ]
  },
  {
   "cell_type": "code",
   "execution_count": 15,
   "id": "attractive-explanation",
   "metadata": {},
   "outputs": [],
   "source": [
    "xp = '/html/body/div[2]/section[2]/section/section/div/div[2]/form/div[1]/div/a' # use full xpath\n",
    "driver.find_element_by_xpath(xp).click()\n",
    "time.sleep(2)"
   ]
  },
  {
   "cell_type": "code",
   "execution_count": 16,
   "id": "least-triumph",
   "metadata": {},
   "outputs": [],
   "source": [
    "# res = requests.get(url, headers=headers)\n",
    "df = pd.read_html(driver.page_source, attrs={\"class\": \"CI-GRID-BODY-TABLE\"}, flavor=[\"lxml\", \"bs4\"])[0]"
   ]
  },
  {
   "cell_type": "code",
   "execution_count": 17,
   "id": "complete-project",
   "metadata": {},
   "outputs": [
    {
     "data": {
      "text/html": [
       "<div>\n",
       "<style scoped>\n",
       "    .dataframe tbody tr th:only-of-type {\n",
       "        vertical-align: middle;\n",
       "    }\n",
       "\n",
       "    .dataframe tbody tr th {\n",
       "        vertical-align: top;\n",
       "    }\n",
       "\n",
       "    .dataframe thead th {\n",
       "        text-align: right;\n",
       "    }\n",
       "</style>\n",
       "<table border=\"1\" class=\"dataframe\">\n",
       "  <thead>\n",
       "    <tr style=\"text-align: right;\">\n",
       "      <th></th>\n",
       "      <th>투자자구분</th>\n",
       "      <th>매도</th>\n",
       "      <th>매수</th>\n",
       "      <th>순매수</th>\n",
       "      <th>매도.1</th>\n",
       "      <th>매수.1</th>\n",
       "      <th>순매수.1</th>\n",
       "    </tr>\n",
       "  </thead>\n",
       "  <tbody>\n",
       "    <tr>\n",
       "      <th>0</th>\n",
       "      <td>금융투자</td>\n",
       "      <td>76818</td>\n",
       "      <td>71856</td>\n",
       "      <td>-4962</td>\n",
       "      <td>13874093500</td>\n",
       "      <td>12964037500</td>\n",
       "      <td>-910056000</td>\n",
       "    </tr>\n",
       "    <tr>\n",
       "      <th>1</th>\n",
       "      <td>보험</td>\n",
       "      <td>4585</td>\n",
       "      <td>18584</td>\n",
       "      <td>13999</td>\n",
       "      <td>836020500</td>\n",
       "      <td>3380199000</td>\n",
       "      <td>2544178500</td>\n",
       "    </tr>\n",
       "    <tr>\n",
       "      <th>2</th>\n",
       "      <td>투신</td>\n",
       "      <td>4096</td>\n",
       "      <td>65086</td>\n",
       "      <td>60990</td>\n",
       "      <td>743027500</td>\n",
       "      <td>11829374500</td>\n",
       "      <td>11086347000</td>\n",
       "    </tr>\n",
       "    <tr>\n",
       "      <th>3</th>\n",
       "      <td>사모</td>\n",
       "      <td>21528</td>\n",
       "      <td>35991</td>\n",
       "      <td>14463</td>\n",
       "      <td>3892422500</td>\n",
       "      <td>6533184000</td>\n",
       "      <td>2640761500</td>\n",
       "    </tr>\n",
       "    <tr>\n",
       "      <th>4</th>\n",
       "      <td>은행</td>\n",
       "      <td>0</td>\n",
       "      <td>0</td>\n",
       "      <td>0</td>\n",
       "      <td>0</td>\n",
       "      <td>0</td>\n",
       "      <td>0</td>\n",
       "    </tr>\n",
       "    <tr>\n",
       "      <th>5</th>\n",
       "      <td>기타금융</td>\n",
       "      <td>1000</td>\n",
       "      <td>0</td>\n",
       "      <td>-1000</td>\n",
       "      <td>181000000</td>\n",
       "      <td>0</td>\n",
       "      <td>-181000000</td>\n",
       "    </tr>\n",
       "    <tr>\n",
       "      <th>6</th>\n",
       "      <td>연기금 등</td>\n",
       "      <td>408358</td>\n",
       "      <td>463638</td>\n",
       "      <td>55280</td>\n",
       "      <td>74137529500</td>\n",
       "      <td>84180752000</td>\n",
       "      <td>10043222500</td>\n",
       "    </tr>\n",
       "    <tr>\n",
       "      <th>7</th>\n",
       "      <td>기관합계</td>\n",
       "      <td>516385</td>\n",
       "      <td>655155</td>\n",
       "      <td>138770</td>\n",
       "      <td>93664093500</td>\n",
       "      <td>118887547000</td>\n",
       "      <td>25223453500</td>\n",
       "    </tr>\n",
       "    <tr>\n",
       "      <th>8</th>\n",
       "      <td>기타법인</td>\n",
       "      <td>4273</td>\n",
       "      <td>2614</td>\n",
       "      <td>-1659</td>\n",
       "      <td>774048500</td>\n",
       "      <td>472469500</td>\n",
       "      <td>-301579000</td>\n",
       "    </tr>\n",
       "    <tr>\n",
       "      <th>9</th>\n",
       "      <td>개인</td>\n",
       "      <td>788178</td>\n",
       "      <td>402966</td>\n",
       "      <td>-385212</td>\n",
       "      <td>142510577000</td>\n",
       "      <td>72765139500</td>\n",
       "      <td>-69745437500</td>\n",
       "    </tr>\n",
       "    <tr>\n",
       "      <th>10</th>\n",
       "      <td>외국인</td>\n",
       "      <td>341706</td>\n",
       "      <td>589902</td>\n",
       "      <td>248196</td>\n",
       "      <td>61718209000</td>\n",
       "      <td>106559917500</td>\n",
       "      <td>44841708500</td>\n",
       "    </tr>\n",
       "    <tr>\n",
       "      <th>11</th>\n",
       "      <td>기타외국인</td>\n",
       "      <td>679</td>\n",
       "      <td>584</td>\n",
       "      <td>-95</td>\n",
       "      <td>123272000</td>\n",
       "      <td>105126500</td>\n",
       "      <td>-18145500</td>\n",
       "    </tr>\n",
       "    <tr>\n",
       "      <th>12</th>\n",
       "      <td>전체</td>\n",
       "      <td>1651221</td>\n",
       "      <td>1651221</td>\n",
       "      <td>0</td>\n",
       "      <td>298790200000</td>\n",
       "      <td>298790200000</td>\n",
       "      <td>0</td>\n",
       "    </tr>\n",
       "  </tbody>\n",
       "</table>\n",
       "</div>"
      ],
      "text/plain": [
       "    투자자구분       매도       매수     순매수          매도.1          매수.1        순매수.1\n",
       "0    금융투자    76818    71856   -4962   13874093500   12964037500   -910056000\n",
       "1      보험     4585    18584   13999     836020500    3380199000   2544178500\n",
       "2      투신     4096    65086   60990     743027500   11829374500  11086347000\n",
       "3      사모    21528    35991   14463    3892422500    6533184000   2640761500\n",
       "4      은행        0        0       0             0             0            0\n",
       "5    기타금융     1000        0   -1000     181000000             0   -181000000\n",
       "6   연기금 등   408358   463638   55280   74137529500   84180752000  10043222500\n",
       "7    기관합계   516385   655155  138770   93664093500  118887547000  25223453500\n",
       "8    기타법인     4273     2614   -1659     774048500     472469500   -301579000\n",
       "9      개인   788178   402966 -385212  142510577000   72765139500 -69745437500\n",
       "10    외국인   341706   589902  248196   61718209000  106559917500  44841708500\n",
       "11  기타외국인      679      584     -95     123272000     105126500    -18145500\n",
       "12     전체  1651221  1651221       0  298790200000  298790200000            0"
      ]
     },
     "execution_count": 17,
     "metadata": {},
     "output_type": "execute_result"
    }
   ],
   "source": [
    "df"
   ]
  },
  {
   "cell_type": "code",
   "execution_count": 18,
   "id": "ranging-northwest",
   "metadata": {},
   "outputs": [],
   "source": [
    "index_name = ['investor', 'sell_quantity', 'buy_quantity', 'pure_buy_quantiry', 'sell', 'buy', 'pure_buy']\n",
    "df.columns = index_name\n",
    "df_new = df[['investor', 'sell', 'buy', 'pure_buy']]"
   ]
  },
  {
   "cell_type": "code",
   "execution_count": 19,
   "id": "aggregate-period",
   "metadata": {},
   "outputs": [],
   "source": [
    "df_new.set_index('investor', inplace=True)"
   ]
  },
  {
   "cell_type": "code",
   "execution_count": 20,
   "id": "canadian-repeat",
   "metadata": {},
   "outputs": [],
   "source": [
    "dft = df_new.T"
   ]
  },
  {
   "cell_type": "code",
   "execution_count": 21,
   "id": "framed-bracelet",
   "metadata": {},
   "outputs": [
    {
     "data": {
      "text/html": [
       "<div>\n",
       "<style scoped>\n",
       "    .dataframe tbody tr th:only-of-type {\n",
       "        vertical-align: middle;\n",
       "    }\n",
       "\n",
       "    .dataframe tbody tr th {\n",
       "        vertical-align: top;\n",
       "    }\n",
       "\n",
       "    .dataframe thead th {\n",
       "        text-align: right;\n",
       "    }\n",
       "</style>\n",
       "<table border=\"1\" class=\"dataframe\">\n",
       "  <thead>\n",
       "    <tr style=\"text-align: right;\">\n",
       "      <th>investor</th>\n",
       "      <th>금융투자</th>\n",
       "      <th>보험</th>\n",
       "      <th>투신</th>\n",
       "      <th>사모</th>\n",
       "      <th>은행</th>\n",
       "      <th>기타금융</th>\n",
       "      <th>연기금 등</th>\n",
       "      <th>기관합계</th>\n",
       "      <th>기타법인</th>\n",
       "      <th>개인</th>\n",
       "      <th>외국인</th>\n",
       "      <th>기타외국인</th>\n",
       "      <th>전체</th>\n",
       "    </tr>\n",
       "  </thead>\n",
       "  <tbody>\n",
       "    <tr>\n",
       "      <th>sell</th>\n",
       "      <td>13874093500</td>\n",
       "      <td>836020500</td>\n",
       "      <td>743027500</td>\n",
       "      <td>3892422500</td>\n",
       "      <td>0</td>\n",
       "      <td>181000000</td>\n",
       "      <td>74137529500</td>\n",
       "      <td>93664093500</td>\n",
       "      <td>774048500</td>\n",
       "      <td>142510577000</td>\n",
       "      <td>61718209000</td>\n",
       "      <td>123272000</td>\n",
       "      <td>298790200000</td>\n",
       "    </tr>\n",
       "    <tr>\n",
       "      <th>buy</th>\n",
       "      <td>12964037500</td>\n",
       "      <td>3380199000</td>\n",
       "      <td>11829374500</td>\n",
       "      <td>6533184000</td>\n",
       "      <td>0</td>\n",
       "      <td>0</td>\n",
       "      <td>84180752000</td>\n",
       "      <td>118887547000</td>\n",
       "      <td>472469500</td>\n",
       "      <td>72765139500</td>\n",
       "      <td>106559917500</td>\n",
       "      <td>105126500</td>\n",
       "      <td>298790200000</td>\n",
       "    </tr>\n",
       "    <tr>\n",
       "      <th>pure_buy</th>\n",
       "      <td>-910056000</td>\n",
       "      <td>2544178500</td>\n",
       "      <td>11086347000</td>\n",
       "      <td>2640761500</td>\n",
       "      <td>0</td>\n",
       "      <td>-181000000</td>\n",
       "      <td>10043222500</td>\n",
       "      <td>25223453500</td>\n",
       "      <td>-301579000</td>\n",
       "      <td>-69745437500</td>\n",
       "      <td>44841708500</td>\n",
       "      <td>-18145500</td>\n",
       "      <td>0</td>\n",
       "    </tr>\n",
       "  </tbody>\n",
       "</table>\n",
       "</div>"
      ],
      "text/plain": [
       "investor         금융투자          보험           투신          사모  은행       기타금융  \\\n",
       "sell      13874093500   836020500    743027500  3892422500   0  181000000   \n",
       "buy       12964037500  3380199000  11829374500  6533184000   0          0   \n",
       "pure_buy   -910056000  2544178500  11086347000  2640761500   0 -181000000   \n",
       "\n",
       "investor        연기금 등          기관합계       기타법인            개인           외국인  \\\n",
       "sell      74137529500   93664093500  774048500  142510577000   61718209000   \n",
       "buy       84180752000  118887547000  472469500   72765139500  106559917500   \n",
       "pure_buy  10043222500   25223453500 -301579000  -69745437500   44841708500   \n",
       "\n",
       "investor      기타외국인            전체  \n",
       "sell      123272000  298790200000  \n",
       "buy       105126500  298790200000  \n",
       "pure_buy  -18145500             0  "
      ]
     },
     "execution_count": 21,
     "metadata": {},
     "output_type": "execute_result"
    }
   ],
   "source": [
    "dft"
   ]
  },
  {
   "cell_type": "code",
   "execution_count": 24,
   "id": "located-joint",
   "metadata": {},
   "outputs": [],
   "source": [
    "driver.close()\n",
    "driver.quit()"
   ]
  },
  {
   "cell_type": "markdown",
   "id": "western-archives",
   "metadata": {},
   "source": [
    "#### 아래 참고"
   ]
  },
  {
   "cell_type": "markdown",
   "id": "likely-angola",
   "metadata": {},
   "source": [
    "driver.find_element(By.CSS_SELECTOR, \"#payment > div  > div > iframe\")\n",
    "and \n",
    "driver.switch_to.frame(iframe)"
   ]
  },
  {
   "cell_type": "code",
   "execution_count": 23,
   "id": "architectural-courage",
   "metadata": {},
   "outputs": [],
   "source": [
    "# Message: element not interactable Error 도움말\n",
    "# https://stackoverflow.com/questions/56194094/how-to-fix-this-issue-element-not-interactable-selenium-python"
   ]
  },
  {
   "cell_type": "code",
   "execution_count": null,
   "id": "2c5a4b50",
   "metadata": {},
   "outputs": [],
   "source": []
  }
 ],
 "metadata": {
  "kernelspec": {
   "display_name": "Python 3 (ipykernel)",
   "language": "python",
   "name": "python3"
  },
  "language_info": {
   "codemirror_mode": {
    "name": "ipython",
    "version": 3
   },
   "file_extension": ".py",
   "mimetype": "text/x-python",
   "name": "python",
   "nbconvert_exporter": "python",
   "pygments_lexer": "ipython3",
   "version": "3.9.1"
  }
 },
 "nbformat": 4,
 "nbformat_minor": 5
}
