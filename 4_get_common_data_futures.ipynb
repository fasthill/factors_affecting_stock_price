{
 "cells": [
  {
   "cell_type": "markdown",
   "id": "25b184a9",
   "metadata": {},
   "source": [
    "#### 미국 선물 지표 외 \n",
    "   - 미국채권 10년, 2년, 3개월\n",
    "   - 선물 : 미국 3대 지수, wti, 달러지수 선물\n",
    "   - 코스피, 코스닥\n",
    "   - ixf, qnet"
   ]
  },
  {
   "cell_type": "code",
   "execution_count": 1,
   "id": "matched-interview",
   "metadata": {},
   "outputs": [],
   "source": [
    "import datetime\n",
    "import time\n",
    "from datetime import date\n",
    "\n",
    "import pickle\n",
    "\n",
    "import pandas as pd\n",
    "import numpy as np\n",
    "\n",
    "import os\n",
    "import sys\n",
    "import shutil\n",
    "\n",
    "import matplotlib.pyplot as plt"
   ]
  },
  {
   "cell_type": "code",
   "execution_count": 2,
   "id": "bfd56db1",
   "metadata": {},
   "outputs": [],
   "source": [
    "from selenium import webdriver as wd\n",
    "from selenium.webdriver.common.keys import Keys\n",
    "from selenium.webdriver.common.by import By\n",
    "from selenium.webdriver.chrome.service import Service\n",
    "from selenium.webdriver.support.ui import WebDriverWait\n",
    "from selenium.webdriver.support import expected_conditions as EC\n",
    "from webdriver_manager.chrome import ChromeDriverManager\n",
    "from selenium.webdriver import ActionChains # scroll down 사용하기 위하여 선서\n",
    "\n",
    "from bs4 import BeautifulSoup as bs\n",
    "import requests"
   ]
  },
  {
   "cell_type": "code",
   "execution_count": 3,
   "id": "b7c4fb11",
   "metadata": {},
   "outputs": [],
   "source": [
    "service = Service(r\"116/chromedriver.exe\")\n",
    "options = wd.ChromeOptions()\n",
    "driver = wd.Chrome(service=service, options=options)"
   ]
  },
  {
   "cell_type": "code",
   "execution_count": 4,
   "id": "961ae951",
   "metadata": {},
   "outputs": [],
   "source": [
    "url = 'https://www.investing.com/rates-bonds/u.s.-10-year-bond-yield-historical-data'\n",
    "driver.get(url)"
   ]
  },
  {
   "cell_type": "code",
   "execution_count": 5,
   "id": "c2283df7",
   "metadata": {},
   "outputs": [],
   "source": [
    "# id가 jsOpenView_1 인 element 를 찾음\n",
    "selector_name =\"span.w-4.h-4\"\n",
    "calendar_tag = driver.find_element(By.CSS_SELECTOR, selector_name)\n",
    "\n",
    "# jsOpenView_1 element 까지 스크롤\n",
    "action = ActionChains(driver)\n",
    "action.move_to_element(calendar_tag).perform()"
   ]
  },
  {
   "cell_type": "code",
   "execution_count": 6,
   "id": "8bad7650",
   "metadata": {},
   "outputs": [
    {
     "data": {
      "text/plain": [
       "\"\\n# !pip install chromedriver_autoinstaller\\n\\nimport chromedriver_autoinstaller\\n\\ndriver_name = chromedriver_autoinstaller.install()  # Check if the current version of chromedriver exists\\n                                      # and if it doesn't exist, download it automatically,\\n                                      # then add chromedriver to path\\ntime.sleep(1)\\n\\ndriver = wd.Chrome(service=Service(ChromeDriverManager().install()))\\n\""
      ]
     },
     "execution_count": 6,
     "metadata": {},
     "output_type": "execute_result"
    }
   ],
   "source": [
    "'''\n",
    "# !pip install chromedriver_autoinstaller\n",
    "\n",
    "import chromedriver_autoinstaller\n",
    "\n",
    "driver_name = chromedriver_autoinstaller.install()  # Check if the current version of chromedriver exists\n",
    "                                      # and if it doesn't exist, download it automatically,\n",
    "                                      # then add chromedriver to path\n",
    "time.sleep(1)\n",
    "\n",
    "driver = wd.Chrome(service=Service(ChromeDriverManager().install()))\n",
    "'''"
   ]
  },
  {
   "cell_type": "code",
   "execution_count": 7,
   "id": "948345e2",
   "metadata": {},
   "outputs": [],
   "source": [
    "xpath_sel = '//*[@id=\"__next\"]/div[2]/div[2]/div[1]/div[4]/div[2]/div[2]/div[2]/div'\n",
    "driver.find_element(By.XPATH, xpath_sel).click()"
   ]
  },
  {
   "cell_type": "code",
   "execution_count": 8,
   "id": "4153012a",
   "metadata": {},
   "outputs": [],
   "source": [
    "start_element = driver.find_elements(By.CSS_SELECTOR, 'input[type=\"date\"]')[0]\n",
    "end_element = driver.find_elements(By.CSS_SELECTOR, 'input[type=\"date\"]')[1]"
   ]
  },
  {
   "cell_type": "code",
   "execution_count": 9,
   "id": "e0712086",
   "metadata": {},
   "outputs": [
    {
     "data": {
      "text/plain": [
       "<selenium.webdriver.remote.webelement.WebElement (session=\"240e4ded312ab540ebfa6c606608b33d\", element=\"1DADC8C3F94CC6DC3DE955E56211AF25_element_61\")>"
      ]
     },
     "execution_count": 9,
     "metadata": {},
     "output_type": "execute_result"
    }
   ],
   "source": [
    "start_element"
   ]
  },
  {
   "cell_type": "code",
   "execution_count": 10,
   "id": "73b68490",
   "metadata": {},
   "outputs": [
    {
     "data": {
      "text/plain": [
       "<selenium.webdriver.remote.webelement.WebElement (session=\"240e4ded312ab540ebfa6c606608b33d\", element=\"1DADC8C3F94CC6DC3DE955E56211AF25_element_63\")>"
      ]
     },
     "execution_count": 10,
     "metadata": {},
     "output_type": "execute_result"
    }
   ],
   "source": [
    "end_element"
   ]
  },
  {
   "cell_type": "code",
   "execution_count": 26,
   "id": "4f618382",
   "metadata": {},
   "outputs": [
    {
     "ename": "StaleElementReferenceException",
     "evalue": "Message: stale element reference: stale element not found\n  (Session info: chrome=116.0.5845.188); For documentation on this error, please visit: https://www.selenium.dev/documentation/webdriver/troubleshooting/errors#stale-element-reference-exception\nStacktrace:\n\tGetHandleVerifier [0x006637C3+48947]\n\t(No symbol) [0x005F8551]\n\t(No symbol) [0x004FC92D]\n\t(No symbol) [0x004FFD62]\n\t(No symbol) [0x0050106A]\n\t(No symbol) [0x00501110]\n\t(No symbol) [0x0052B0D9]\n\t(No symbol) [0x00524357]\n\t(No symbol) [0x0054508C]\n\t(No symbol) [0x00522EB6]\n\t(No symbol) [0x005453E4]\n\t(No symbol) [0x005575DA]\n\t(No symbol) [0x00544E86]\n\t(No symbol) [0x005216C7]\n\t(No symbol) [0x0052284D]\n\tGetHandleVerifier [0x008AFDF9+2458985]\n\tGetHandleVerifier [0x008F744F+2751423]\n\tGetHandleVerifier [0x008F1361+2726609]\n\tGetHandleVerifier [0x006E0680+560624]\n\t(No symbol) [0x0060238C]\n\t(No symbol) [0x005FE268]\n\t(No symbol) [0x005FE392]\n\t(No symbol) [0x005F10B7]\n\tBaseThreadInitThunk [0x76B37BA9+25]\n\tRtlInitializeExceptionChain [0x7768B79B+107]\n\tRtlClearBits [0x7768B71F+191]\n",
     "output_type": "error",
     "traceback": [
      "\u001b[1;31m---------------------------------------------------------------------------\u001b[0m",
      "\u001b[1;31mStaleElementReferenceException\u001b[0m            Traceback (most recent call last)",
      "Cell \u001b[1;32mIn [26], line 3\u001b[0m\n\u001b[0;32m      1\u001b[0m start_date \u001b[38;5;241m=\u001b[39m \u001b[38;5;124m\"\u001b[39m\u001b[38;5;124m2023-02-20\u001b[39m\u001b[38;5;124m\"\u001b[39m\n\u001b[0;32m      2\u001b[0m \u001b[38;5;66;03m# start_date = \"20/23/2014\"\u001b[39;00m\n\u001b[1;32m----> 3\u001b[0m \u001b[43mstart_element\u001b[49m\u001b[38;5;241;43m.\u001b[39;49m\u001b[43mclear\u001b[49m\u001b[43m(\u001b[49m\u001b[43m)\u001b[49m\n\u001b[0;32m      4\u001b[0m start_element\u001b[38;5;241m.\u001b[39msend_keys(start_date)\n",
      "File \u001b[1;32m~\\AppData\\Local\\Programs\\Python\\Python310\\lib\\site-packages\\selenium\\webdriver\\remote\\webelement.py:117\u001b[0m, in \u001b[0;36mWebElement.clear\u001b[1;34m(self)\u001b[0m\n\u001b[0;32m    115\u001b[0m \u001b[38;5;28;01mdef\u001b[39;00m \u001b[38;5;21mclear\u001b[39m(\u001b[38;5;28mself\u001b[39m) \u001b[38;5;241m-\u001b[39m\u001b[38;5;241m>\u001b[39m \u001b[38;5;28;01mNone\u001b[39;00m:\n\u001b[0;32m    116\u001b[0m     \u001b[38;5;124;03m\"\"\"Clears the text if it's a text entry element.\"\"\"\u001b[39;00m\n\u001b[1;32m--> 117\u001b[0m     \u001b[38;5;28;43mself\u001b[39;49m\u001b[38;5;241;43m.\u001b[39;49m\u001b[43m_execute\u001b[49m\u001b[43m(\u001b[49m\u001b[43mCommand\u001b[49m\u001b[38;5;241;43m.\u001b[39;49m\u001b[43mCLEAR_ELEMENT\u001b[49m\u001b[43m)\u001b[49m\n",
      "File \u001b[1;32m~\\AppData\\Local\\Programs\\Python\\Python310\\lib\\site-packages\\selenium\\webdriver\\remote\\webelement.py:395\u001b[0m, in \u001b[0;36mWebElement._execute\u001b[1;34m(self, command, params)\u001b[0m\n\u001b[0;32m    393\u001b[0m     params \u001b[38;5;241m=\u001b[39m {}\n\u001b[0;32m    394\u001b[0m params[\u001b[38;5;124m\"\u001b[39m\u001b[38;5;124mid\u001b[39m\u001b[38;5;124m\"\u001b[39m] \u001b[38;5;241m=\u001b[39m \u001b[38;5;28mself\u001b[39m\u001b[38;5;241m.\u001b[39m_id\n\u001b[1;32m--> 395\u001b[0m \u001b[38;5;28;01mreturn\u001b[39;00m \u001b[38;5;28;43mself\u001b[39;49m\u001b[38;5;241;43m.\u001b[39;49m\u001b[43m_parent\u001b[49m\u001b[38;5;241;43m.\u001b[39;49m\u001b[43mexecute\u001b[49m\u001b[43m(\u001b[49m\u001b[43mcommand\u001b[49m\u001b[43m,\u001b[49m\u001b[43m \u001b[49m\u001b[43mparams\u001b[49m\u001b[43m)\u001b[49m\n",
      "File \u001b[1;32m~\\AppData\\Local\\Programs\\Python\\Python310\\lib\\site-packages\\selenium\\webdriver\\remote\\webdriver.py:346\u001b[0m, in \u001b[0;36mWebDriver.execute\u001b[1;34m(self, driver_command, params)\u001b[0m\n\u001b[0;32m    344\u001b[0m response \u001b[38;5;241m=\u001b[39m \u001b[38;5;28mself\u001b[39m\u001b[38;5;241m.\u001b[39mcommand_executor\u001b[38;5;241m.\u001b[39mexecute(driver_command, params)\n\u001b[0;32m    345\u001b[0m \u001b[38;5;28;01mif\u001b[39;00m response:\n\u001b[1;32m--> 346\u001b[0m     \u001b[38;5;28;43mself\u001b[39;49m\u001b[38;5;241;43m.\u001b[39;49m\u001b[43merror_handler\u001b[49m\u001b[38;5;241;43m.\u001b[39;49m\u001b[43mcheck_response\u001b[49m\u001b[43m(\u001b[49m\u001b[43mresponse\u001b[49m\u001b[43m)\u001b[49m\n\u001b[0;32m    347\u001b[0m     response[\u001b[38;5;124m\"\u001b[39m\u001b[38;5;124mvalue\u001b[39m\u001b[38;5;124m\"\u001b[39m] \u001b[38;5;241m=\u001b[39m \u001b[38;5;28mself\u001b[39m\u001b[38;5;241m.\u001b[39m_unwrap_value(response\u001b[38;5;241m.\u001b[39mget(\u001b[38;5;124m\"\u001b[39m\u001b[38;5;124mvalue\u001b[39m\u001b[38;5;124m\"\u001b[39m, \u001b[38;5;28;01mNone\u001b[39;00m))\n\u001b[0;32m    348\u001b[0m     \u001b[38;5;28;01mreturn\u001b[39;00m response\n",
      "File \u001b[1;32m~\\AppData\\Local\\Programs\\Python\\Python310\\lib\\site-packages\\selenium\\webdriver\\remote\\errorhandler.py:245\u001b[0m, in \u001b[0;36mErrorHandler.check_response\u001b[1;34m(self, response)\u001b[0m\n\u001b[0;32m    243\u001b[0m         alert_text \u001b[38;5;241m=\u001b[39m value[\u001b[38;5;124m\"\u001b[39m\u001b[38;5;124malert\u001b[39m\u001b[38;5;124m\"\u001b[39m]\u001b[38;5;241m.\u001b[39mget(\u001b[38;5;124m\"\u001b[39m\u001b[38;5;124mtext\u001b[39m\u001b[38;5;124m\"\u001b[39m)\n\u001b[0;32m    244\u001b[0m     \u001b[38;5;28;01mraise\u001b[39;00m exception_class(message, screen, stacktrace, alert_text)  \u001b[38;5;66;03m# type: ignore[call-arg]  # mypy is not smart enough here\u001b[39;00m\n\u001b[1;32m--> 245\u001b[0m \u001b[38;5;28;01mraise\u001b[39;00m exception_class(message, screen, stacktrace)\n",
      "\u001b[1;31mStaleElementReferenceException\u001b[0m: Message: stale element reference: stale element not found\n  (Session info: chrome=116.0.5845.188); For documentation on this error, please visit: https://www.selenium.dev/documentation/webdriver/troubleshooting/errors#stale-element-reference-exception\nStacktrace:\n\tGetHandleVerifier [0x006637C3+48947]\n\t(No symbol) [0x005F8551]\n\t(No symbol) [0x004FC92D]\n\t(No symbol) [0x004FFD62]\n\t(No symbol) [0x0050106A]\n\t(No symbol) [0x00501110]\n\t(No symbol) [0x0052B0D9]\n\t(No symbol) [0x00524357]\n\t(No symbol) [0x0054508C]\n\t(No symbol) [0x00522EB6]\n\t(No symbol) [0x005453E4]\n\t(No symbol) [0x005575DA]\n\t(No symbol) [0x00544E86]\n\t(No symbol) [0x005216C7]\n\t(No symbol) [0x0052284D]\n\tGetHandleVerifier [0x008AFDF9+2458985]\n\tGetHandleVerifier [0x008F744F+2751423]\n\tGetHandleVerifier [0x008F1361+2726609]\n\tGetHandleVerifier [0x006E0680+560624]\n\t(No symbol) [0x0060238C]\n\t(No symbol) [0x005FE268]\n\t(No symbol) [0x005FE392]\n\t(No symbol) [0x005F10B7]\n\tBaseThreadInitThunk [0x76B37BA9+25]\n\tRtlInitializeExceptionChain [0x7768B79B+107]\n\tRtlClearBits [0x7768B71F+191]\n"
     ]
    }
   ],
   "source": [
    "start_date = \"2023-02-20\"\n",
    "# start_date = \"20/23/2014\"\n",
    "start_element.clear()\n",
    "start_element.send_keys(start_date)\n"
   ]
  },
  {
   "cell_type": "code",
   "execution_count": 23,
   "id": "253bab99",
   "metadata": {},
   "outputs": [],
   "source": [
    "start_element.click()"
   ]
  },
  {
   "cell_type": "code",
   "execution_count": 24,
   "id": "1d15cc10",
   "metadata": {},
   "outputs": [],
   "source": [
    "end_date = \"2023/08/20\"\n",
    "end_element.clear()\n",
    "end_element.send_keys(end_date)\n"
   ]
  },
  {
   "cell_type": "code",
   "execution_count": null,
   "id": "b6101868",
   "metadata": {},
   "outputs": [],
   "source": [
    "end_element.click()"
   ]
  },
  {
   "cell_type": "code",
   "execution_count": 25,
   "id": "8a09d536",
   "metadata": {},
   "outputs": [],
   "source": [
    "driver.find_element(By.CSS_SELECTOR, 'span.w-4.h-4.rounded-sm').click()"
   ]
  },
  {
   "cell_type": "code",
   "execution_count": null,
   "id": "7d376245",
   "metadata": {},
   "outputs": [],
   "source": []
  },
  {
   "cell_type": "code",
   "execution_count": null,
   "id": "f6319d1b",
   "metadata": {},
   "outputs": [],
   "source": [
    "def pick_date_in_calendar(start_date, end_date):\n",
    "#     driver.find_element(By.CLASS_NAME, 'DatePickerWrapper_icon__Qw9f8').click()\n",
    "    xpath_sel = '//*[@id=\"__next\"]/div[2]/div[2]/div[1]/div[5]/div[2]/div[2]/div[2]/span'\n",
    "    driver.find_element(By.XPATH, xpath_sel).click()\n",
    "\n",
    "#     start = driver.find_elements(By.CLASS_NAME, 'NativeDateInput_root__wbgyP')[0]\n",
    "#     end = driver.find_elements(By.CLASS_NAME, 'NativeDateInput_root__wbgyP')[1]\n",
    "#     start = driver.find_elements(By.CLASS_NAME, 'NativeDateInput_root__lZxBl')[0]\n",
    "#     end = driver.find_elements(By.CLASS_NAME, 'NativeDateInput_root__lZxBl')[1]\n",
    "\n",
    "\n",
    "    start_element = start.find_element(By.CSS_SELECTOR, 'input[type=date]')[0]\n",
    "    end_element = end.find_element(By.CSS_SELECTOR, 'input[type=date]')[1]\n",
    "\n",
    "    start_element.clear()\n",
    "    start_element.send_keys(start_date)\n",
    "    start_element.click()\n",
    "    time.sleep(1)\n",
    "\n",
    "    end_element.clear()\n",
    "    end_element.send_keys(end_date)\n",
    "    end_element.click()\n",
    "    time.sleep(1)\n",
    "#     driver.find_element(By.CLASS_NAME, 'inv-button.HistoryDatePicker_apply-button__fPr_G').click()\n",
    "    driver.find_element(By.CLASS_NAME, 'inv-button.HistoryDatePicker_apply-button__Oj7Hu').click()\n",
    "    time.sleep(1)\n",
    "    \n",
    "    end_date_in_table = datetime.datetime.strptime(start_date, '%Y-%m-%d').date().strftime('%m/%d/%Y')\n",
    "\n",
    "#     css_sel = '#__next > div.desktop\\:relative.desktop\\:bg-background-default > div > div > div.grid.gap-4.tablet\\:gap-6.grid-cols-4.tablet\\:grid-cols-8.desktop\\:grid-cols-12.grid-container--fixed-desktop.general-layout_main__lRLYJ > main > div > div:nth-child(5) > div > div > div.border.border-main > div > table > tbody'\n",
    "#     css_sel = '#__next > div.desktop\\:relative.desktop\\:bg-background-default > div > div > div.grid.gap-4.tablet\\:gap-6.grid-cols-4.tablet\\:grid-cols-8.desktop\\:grid-cols-12.grid-container--fixed-desktop.general-layout_main__LHpKS > main > div > div:nth-child(4) > div > div > div.border.border-main > div > table > tbody'\n",
    "#     WebDriverWait(driver, 60).until(EC.text_to_be_present_in_element((By.CSS_SELECTOR, css_sel), end_date_in_table))\n",
    "    while True:\n",
    "        text_date = driver.find_elements(By.CSS_SELECTOR, 'tr.datatable_row__Hk3IV td time')[-1].text\n",
    "        if (text_date == end_date_in_table) :\n",
    "            break\n",
    "        time.sleep(0.5)\n",
    "    \n",
    "    return"
   ]
  },
  {
   "cell_type": "code",
   "execution_count": null,
   "id": "556fbeed",
   "metadata": {},
   "outputs": [],
   "source": [
    " def get_table_df(start_date_range, end_date_range):\n",
    "\n",
    "    pick_date_in_calendar(start_date_range, end_date_range)\n",
    "\n",
    "#     table_class = 'datatable_table__D_jso datatable_table--border__B_zW0 datatable_table--mobile-basic__W2ilt datatable_table--freeze-column__7YoIE'\n",
    "    table_class = 'datatable_table__DE_1_ datatable_table--border__XOKr2 datatable_table--mobile-basic__rzXxT datatable_table--freeze-column__XKTDf'\n",
    "    df = pd.read_html(driver.page_source, attrs={\"class\": table_class}, flavor=[\"lxml\", \"bs4\"])[0]\n",
    "\n",
    "    df['Date'] = df['Date'].apply(lambda x : datetime.datetime.strptime(x, \"%m/%d/%Y\").date())\n",
    "    df = df.sort_values(by='Date').reset_index(drop=True) # ascending order and renumbering index starting 0.\n",
    "    \n",
    "    return df"
   ]
  },
  {
   "cell_type": "code",
   "execution_count": null,
   "id": "a80acd28",
   "metadata": {},
   "outputs": [],
   "source": [
    "def save_dataframe(df, pkl_name):\n",
    "    pkl_directory = 'data/common_pkl/'\n",
    "    df.to_pickle(pkl_directory+pkl_name)\n",
    "    df.to_csv(pkl_directory+pkl_name.replace('pkl','csv'))\n",
    "    return"
   ]
  },
  {
   "cell_type": "code",
   "execution_count": null,
   "id": "2cd01916",
   "metadata": {},
   "outputs": [],
   "source": [
    "start_date = \"2021-12-20\"\n",
    "today = datetime.date.today()\n",
    "today_str = today.strftime('%Y-%m-%d')"
   ]
  },
  {
   "cell_type": "code",
   "execution_count": null,
   "id": "1b3398da",
   "metadata": {},
   "outputs": [],
   "source": [
    "us_bond_10yr_url = 'https://www.investing.com/rates-bonds/u.s.-10-year-bond-yield-historical-data'\n",
    "us_bond_2yr_url = 'https://www.investing.com/rates-bonds/u.s.-2-year-bond-yield-historical-data'\n",
    "us_bond_3mon_url = 'https://www.investing.com/rates-bonds/u.s.-3-month-bond-yield-historical-data'\n",
    "kosdaq_url = 'https://www.investing.com/indices/kosdaq-historical-data'\n",
    "kospi_url = 'https://www.investing.com/indices/kospi-historical-data'\n",
    "snp_futures_url = 'https://www.investing.com/indices/us-spx-500-futures-historical-data'\n",
    "nas_futures_url = 'https://www.investing.com/indices/nq-100-futures-historical-data'\n",
    "dow_futures_url = 'https://www.investing.com/indices/us-30-futures-historical-data'\n",
    "wti_futures_url = 'https://www.investing.com/commodities/crude-oil-historical-data'\n",
    "dollar_index_url = 'https://www.investing.com/indices/usdollar-historical-data'\n",
    "ixf_url = 'https://www.investing.com/indices/nasdaq-financial-100-historical-data'\n",
    "qnet_url = 'https://www.investing.com/indices/nasdaq-internet-historical-data'\n",
    "\n",
    "us_10yr_col = ['date', 'bond_usa_10', 'open', 'high', 'low', 'bond_usa_10_cr']\n",
    "us_2yr_col = ['date', 'bond_usa_2', 'open', 'high', 'low', 'bond_usa_2_cr']\n",
    "us_3mon_col = ['date', 'bond_usa_3m', 'open', 'high', 'low', 'bond_usa_3m_cr']\n",
    "kosdaq_col = ['date', 'kosdaq', 'open', 'high', 'low', 'volume', 'kosdaq_cr']\n",
    "kospi_col = ['date', 'kospi', 'open', 'high', 'low', 'volume', 'kospi_cr']\n",
    "snp_future_col = ['date', 'spx_f', 'open', 'high', 'low', 'volume', 'spx_f_cr']\n",
    "ixic_future_col = ['date', 'ixic_f', 'open', 'high', 'low', 'volume', 'ixic_f_cr']\n",
    "dji_future_col = ['date', 'dji_f', 'open', 'high', 'low', 'volume', 'dji_f_cr']\n",
    "wti_future_col = ['date', 'wti', 'open', 'high', 'low', 'volume', 'wti_cr']\n",
    "dxy_future_col = ['date', 'dxy', 'open', 'high', 'low', 'volume', 'dxy_cr']\n",
    "ixf_col = ['date', 'ixf', 'open', 'high', 'low', 'volume', 'ixf_cr']\n",
    "qnet_col = ['date', 'qnet', 'open', 'high', 'low', 'volume', 'qnet_cr']\n",
    "\n",
    "future_collection = {'us_bond_10yr' : [ us_bond_10yr_url, us_10yr_col,  'us_10yr_bond.pkl'],\n",
    "                     'us_bond_2yr' : [ us_bond_2yr_url, us_2yr_col,  'us_2yr_bond.pkl'],\n",
    "                     'us_bond_3mon' : [ us_bond_3mon_url, us_3mon_col,  'us_3mon_bond.pkl'],\n",
    "                     'kosdaq' : [ kosdaq_url, kosdaq_col,  'kosdaq.pkl'],\n",
    "                     'kospi' : [ kospi_url, kospi_col,  'kospi.pkl'],\n",
    "                     'snp_futures' : [snp_futures_url, snp_future_col,  'snp_future.pkl'],\n",
    "                     'nas_futures' : [nas_futures_url, ixic_future_col,  'ixic_future.pkl'],\n",
    "                     'dow_futures' : [dow_futures_url, dji_future_col,  'dji_future.pkl'],\n",
    "                     'wti_futures' : [wti_futures_url, wti_future_col,  'wti_future.pkl'],\n",
    "                     'dollar_index' : [dollar_index_url, dxy_future_col,  'dxy_future.pkl'],\n",
    "                     'ixf' : [ixf_url, ixf_col,  'ixf.pkl'],\n",
    "                     'qnet' : [qnet_url, qnet_col,  'qnet.pkl'] }"
   ]
  },
  {
   "cell_type": "code",
   "execution_count": null,
   "id": "a13ea8b6",
   "metadata": {
    "scrolled": true
   },
   "outputs": [],
   "source": [
    "for _, value in future_collection.items():\n",
    "    url = value[0]\n",
    "    driver.get(url)\n",
    "    driver.maximize_window()\n",
    "    time.sleep(1)\n",
    "    \n",
    "    df = get_table_df(start_date, today_str)\n",
    "    df['Change %'] = df['Change %'].str[:-1].astype('float')\n",
    "\n",
    "    df.columns = value[1]\n",
    "    \n",
    "    file_name = value[2]\n",
    "    \n",
    "    print(file_name, end=\", \")\n",
    "    save_dataframe(df, file_name)"
   ]
  },
  {
   "cell_type": "code",
   "execution_count": null,
   "id": "7aa62b82",
   "metadata": {},
   "outputs": [],
   "source": [
    "driver.close()\n",
    "driver.quit()"
   ]
  },
  {
   "cell_type": "markdown",
   "id": "ef19f3e3",
   "metadata": {},
   "source": [
    "## 여기까지"
   ]
  },
  {
   "cell_type": "code",
   "execution_count": null,
   "id": "791f6c5c",
   "metadata": {},
   "outputs": [],
   "source": []
  },
  {
   "cell_type": "code",
   "execution_count": null,
   "id": "4b51ecd8",
   "metadata": {},
   "outputs": [],
   "source": []
  },
  {
   "cell_type": "code",
   "execution_count": null,
   "id": "99ba8da7",
   "metadata": {},
   "outputs": [],
   "source": []
  },
  {
   "cell_type": "code",
   "execution_count": null,
   "id": "446d9acd",
   "metadata": {},
   "outputs": [],
   "source": []
  },
  {
   "cell_type": "code",
   "execution_count": null,
   "id": "f2c2d817",
   "metadata": {},
   "outputs": [],
   "source": []
  },
  {
   "cell_type": "code",
   "execution_count": null,
   "id": "efbf9799",
   "metadata": {},
   "outputs": [],
   "source": []
  },
  {
   "cell_type": "code",
   "execution_count": null,
   "id": "2b4096a6",
   "metadata": {},
   "outputs": [],
   "source": []
  },
  {
   "cell_type": "code",
   "execution_count": null,
   "id": "34e61876",
   "metadata": {},
   "outputs": [],
   "source": [
    "us_bond_10yr_url = 'https://www.investing.com/rates-bonds/u.s.-10-year-bond-yield-historical-data'\n",
    "driver.get(us_bond_10yr_url)\n",
    "time.sleep(1)\n",
    "\n",
    "df = get_table_df(start_date, today_str)\n",
    "\n",
    "df['Change %'] = df['Change %'].str[:-1].astype('float')\n",
    "\n",
    "us_10yr = ['date', 'bond_usa_10', 'open', 'high', 'low', 'bond_usa_10_cr']\n",
    "df.columns = us_10yr\n",
    "\n",
    "pkl_name = 'us_10yr_bond.pkl'\n",
    "\n",
    "save_dataframe(df, pkl_name)"
   ]
  },
  {
   "cell_type": "code",
   "execution_count": null,
   "id": "16f22fbd",
   "metadata": {},
   "outputs": [],
   "source": [
    "us_bond_2yr_url = 'https://www.investing.com/rates-bonds/u.s.-2-year-bond-yield-historical-data'\n",
    "driver.get(us_bond_2yr_url)\n",
    "time.sleep(1)\n",
    "\n",
    "df = get_table_df(start_date, today_str)\n",
    "\n",
    "df['Change %'] = df['Change %'].str[:-1].astype('float')\n",
    "\n",
    "us_2yr = ['date', 'bond_usa_2', 'open', 'high', 'low', 'bond_usa_2_cr']\n",
    "df.columns = us_2yr\n",
    "\n",
    "pkl_name = 'us_2yr_bond.pkl'\n",
    "\n",
    "save_dataframe(df, pkl_name)"
   ]
  },
  {
   "cell_type": "code",
   "execution_count": null,
   "id": "76b760dc",
   "metadata": {},
   "outputs": [],
   "source": [
    "us_bond_3mon_url = 'https://www.investing.com/rates-bonds/u.s.-3-month-bond-yield-historical-data'\n",
    "driver.get(us_bond_3mon_url)\n",
    "time.sleep(1)\n",
    "\n",
    "df = get_table_df(start_date, today_str)\n",
    "\n",
    "df['Change %'] = df['Change %'].str[:-1].astype('float')\n",
    "\n",
    "us_3mon = ['date', 'bond_usa_3m', 'open', 'high', 'low', 'bond_usa_3m_cr']\n",
    "\n",
    "df.columns = us_3mon\n",
    "\n",
    "pkl_name = 'us_3mon_bond.pkl'\n",
    "\n",
    "save_dataframe(df, pkl_name)"
   ]
  },
  {
   "cell_type": "code",
   "execution_count": null,
   "id": "97d6bb11",
   "metadata": {},
   "outputs": [],
   "source": [
    "kosdaq_url = 'https://www.investing.com/indices/kosdaq-historical-data'\n",
    "driver.get(kosdaq_url)\n",
    "time.sleep(1)\n",
    "\n",
    "df = get_table_df(start_date, today_str)\n",
    "\n",
    "df['Vol.'] = df['Vol.'].str[:-1].astype('float')\n",
    "df['Change %'] = df['Change %'].str[:-1].astype('float')\n",
    "\n",
    "kosdaq = ['date', 'kosdaq', 'open', 'high', 'low', 'volume', 'kosdaq_cr']\n",
    "\n",
    "df.columns = kosdaq\n",
    "\n",
    "pkl_name = 'kosdaq.pkl'\n",
    "\n",
    "save_dataframe(df, pkl_name)"
   ]
  },
  {
   "cell_type": "code",
   "execution_count": null,
   "id": "290740d4",
   "metadata": {},
   "outputs": [],
   "source": [
    "kospi_url = 'https://www.investing.com/indices/kospi-historical-data'\n",
    "driver.get(kospi_url)\n",
    "time.sleep(1)\n",
    "\n",
    "df = get_table_df(start_date, today_str)\n",
    "\n",
    "df['Vol.'] = df['Vol.'].str[:-1].astype('float')\n",
    "df['Change %'] = df['Change %'].str[:-1].astype('float')\n",
    "\n",
    "kospi = ['date', 'kospi', 'open', 'high', 'low', 'volume', 'kospi_cr']\n",
    "\n",
    "df.columns = kospi\n",
    "\n",
    "pkl_name = 'kospi.pkl'\n",
    "\n",
    "save_dataframe(df, pkl_name)"
   ]
  },
  {
   "cell_type": "code",
   "execution_count": null,
   "id": "5af6a5d5",
   "metadata": {},
   "outputs": [],
   "source": [
    "snp_futures_url = 'https://www.investing.com/indices/us-spx-500-futures-historical-data'\n",
    "driver.get(snp_futures_url)\n",
    "time.sleep(1)\n",
    "\n",
    "df = get_table_df(start_date, today_str)\n",
    "\n",
    "df['Vol.'] = df['Vol.'].str[:-1].astype('float')\n",
    "df['Change %'] = df['Change %'].str[:-1].astype('float')\n",
    "\n",
    "snp_future = ['date', 'spx_f', 'open', 'high', 'low', 'volume', 'spx_f_cr']\n",
    "\n",
    "df.columns = snp_future\n",
    "\n",
    "pkl_name = 'snp_future.pkl'\n",
    "\n",
    "save_dataframe(df, pkl_name)"
   ]
  },
  {
   "cell_type": "code",
   "execution_count": null,
   "id": "da73703b",
   "metadata": {},
   "outputs": [],
   "source": [
    "nas_futures_url = 'https://www.investing.com/indices/nq-100-futures-historical-data'\n",
    "driver.get(nas_futures_url)\n",
    "time.sleep(1)\n",
    "\n",
    "df = get_table_df(start_date, today_str)\n",
    "\n",
    "df['Vol.'] = df['Vol.'].str[:-1].astype('float')\n",
    "df['Change %'] = df['Change %'].str[:-1].astype('float')\n",
    "\n",
    "ixic_future = ['date', 'ixic_f', 'open', 'high', 'low', 'volume', 'ixic_f_cr']\n",
    "\n",
    "df.columns = ixic_future\n",
    "\n",
    "pkl_name = 'ixic_future.pkl'\n",
    "\n",
    "save_dataframe(df, pkl_name)"
   ]
  },
  {
   "cell_type": "code",
   "execution_count": null,
   "id": "5b4dfc7d",
   "metadata": {},
   "outputs": [],
   "source": [
    "dow_futures_url = 'https://www.investing.com/indices/us-30-futures-historical-data'\n",
    "driver.get(dow_futures_url)\n",
    "time.sleep(1)\n",
    "\n",
    "df = get_table_df(start_date, today_str)\n",
    "\n",
    "df['Vol.'] = df['Vol.'].str[:-1].astype('float')\n",
    "df['Change %'] = df['Change %'].str[:-1].astype('float')\n",
    "\n",
    "dji_future = ['date', 'dji_f', 'open', 'high', 'low', 'volume', 'dji_f_cr']\n",
    "\n",
    "df.columns = dji_future\n",
    "\n",
    "pkl_name = 'dji_future.pkl'\n",
    "\n",
    "save_dataframe(df, pkl_name)"
   ]
  },
  {
   "cell_type": "code",
   "execution_count": null,
   "id": "08561f5a",
   "metadata": {},
   "outputs": [],
   "source": [
    "wti_futures_url = 'https://www.investing.com/commodities/crude-oil-historical-data'\n",
    "driver.get(wti_futures_url)\n",
    "time.sleep(1)\n",
    "\n",
    "df = get_table_df(start_date, today_str)\n",
    "\n",
    "df['Vol.'] = df['Vol.'].str[:-1].astype('float')\n",
    "df['Change %'] = df['Change %'].str[:-1].astype('float')\n",
    "\n",
    "wti_future = ['date', 'wti', 'open', 'high', 'low', 'volume', 'wti_cr']\n",
    "\n",
    "df.columns = wti_future\n",
    "\n",
    "pkl_name = 'wti_future.pkl'\n",
    "\n",
    "save_dataframe(df, pkl_name)"
   ]
  },
  {
   "cell_type": "code",
   "execution_count": null,
   "id": "fcf4500c",
   "metadata": {},
   "outputs": [],
   "source": [
    "dollar_index_url = 'https://www.investing.com/indices/usdollar-historical-data'\n",
    "driver.get(dollar_index_url)\n",
    "time.sleep(1)\n",
    "\n",
    "df = get_table_df(start_date, today_str)\n",
    "\n",
    "df['Change %'] = df['Change %'].str[:-1].astype('float')\n",
    "\n",
    "dxy_future = ['date', 'dxy', 'open', 'high', 'low', 'volume', 'dxy_cr']\n",
    "\n",
    "df.columns = dxy_future\n",
    "\n",
    "pkl_name = 'dxy_future.pkl'\n",
    "\n",
    "save_dataframe(df, pkl_name)"
   ]
  },
  {
   "cell_type": "code",
   "execution_count": null,
   "id": "7771e0ad",
   "metadata": {},
   "outputs": [],
   "source": [
    "ixf_url = 'https://www.investing.com/indices/nasdaq-financial-100-historical-data'\n",
    "driver.get(ixf_url)\n",
    "time.sleep(1)\n",
    "\n",
    "df = get_table_df(start_date, today_str)\n",
    "\n",
    "df['Change %'] = df['Change %'].str[:-1].astype('float')\n",
    "\n",
    "ixf = ['date', 'ixf', 'open', 'high', 'low', 'volume', 'ixf_cr']\n",
    "\n",
    "df.columns = ixf\n",
    "\n",
    "pkl_name = 'ixf.pkl'\n",
    "\n",
    "save_dataframe(df, pkl_name)"
   ]
  },
  {
   "cell_type": "code",
   "execution_count": null,
   "id": "7452626d",
   "metadata": {},
   "outputs": [],
   "source": [
    "qnet_url = 'https://www.investing.com/indices/nasdaq-internet-historical-data'\n",
    "driver.get(qnet_url)\n",
    "time.sleep(1)\n",
    "\n",
    "df = get_table_df(start_date, today_str)\n",
    "\n",
    "df['Change %'] = df['Change %'].str[:-1].astype('float')\n",
    "\n",
    "qnet = ['date', 'qnet', 'open', 'high', 'low', 'volume', 'qnet_cr']\n",
    "\n",
    "df.columns = qnet\n",
    "\n",
    "pkl_name = 'qnet.pkl'\n",
    "\n",
    "save_dataframe(df, pkl_name)"
   ]
  },
  {
   "cell_type": "code",
   "execution_count": null,
   "id": "471e1622",
   "metadata": {},
   "outputs": [],
   "source": [
    "driver.close()\n",
    "driver.quit()"
   ]
  },
  {
   "cell_type": "code",
   "execution_count": null,
   "id": "67f6eeb6",
   "metadata": {},
   "outputs": [],
   "source": [
    "# 원하는 기간 사이 데이터가 취득되었는지 확인하기 위하여 file size 확인용 로직 추가 필요"
   ]
  },
  {
   "cell_type": "code",
   "execution_count": null,
   "id": "4419dab7",
   "metadata": {},
   "outputs": [],
   "source": [
    "# 최초 driver 가 9번 10yr 할때 왜 중복 download 되는 것을 확인해야 함."
   ]
  },
  {
   "cell_type": "code",
   "execution_count": null,
   "id": "dbcd918b",
   "metadata": {},
   "outputs": [],
   "source": []
  }
 ],
 "metadata": {
  "kernelspec": {
   "display_name": "Python 3 (ipykernel)",
   "language": "python",
   "name": "python3"
  },
  "language_info": {
   "codemirror_mode": {
    "name": "ipython",
    "version": 3
   },
   "file_extension": ".py",
   "mimetype": "text/x-python",
   "name": "python",
   "nbconvert_exporter": "python",
   "pygments_lexer": "ipython3",
   "version": "3.10.7"
  }
 },
 "nbformat": 4,
 "nbformat_minor": 5
}
