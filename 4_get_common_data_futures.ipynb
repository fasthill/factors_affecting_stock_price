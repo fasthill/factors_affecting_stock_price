{
 "cells": [
  {
   "cell_type": "markdown",
   "id": "25b184a9",
   "metadata": {},
   "source": [
    "#### 미국 선물 지표 외 \n",
    "   - 미국채권 10년, 2년, 3개월\n",
    "   - 선물 : 미국 3대 지수, wti, 달러지수 선물\n",
    "   - 코스피, 코스닥\n",
    "   - ixf, qnet"
   ]
  },
  {
   "cell_type": "code",
   "execution_count": 1,
   "id": "matched-interview",
   "metadata": {},
   "outputs": [],
   "source": [
    "import datetime\n",
    "import time\n",
    "from datetime import date\n",
    "\n",
    "import pickle\n",
    "\n",
    "import pandas as pd\n",
    "import numpy as np\n",
    "\n",
    "import os\n",
    "import sys\n",
    "import shutil\n",
    "\n",
    "import matplotlib.pyplot as plt"
   ]
  },
  {
   "cell_type": "code",
   "execution_count": 2,
   "id": "bfd56db1",
   "metadata": {},
   "outputs": [],
   "source": [
    "from selenium import webdriver as wd\n",
    "from selenium.webdriver.common.keys import Keys\n",
    "from selenium.webdriver.common.by import By\n",
    "from selenium.webdriver.chrome.service import Service\n",
    "from selenium.webdriver.support.ui import WebDriverWait\n",
    "from selenium.webdriver.support import expected_conditions as EC\n",
    "from webdriver_manager.chrome import ChromeDriverManager\n",
    "\n",
    "from bs4 import BeautifulSoup as bs\n",
    "import requests"
   ]
  },
  {
   "cell_type": "code",
   "execution_count": 6,
   "id": "8bad7650",
   "metadata": {},
   "outputs": [
    {
     "name": "stderr",
     "output_type": "stream",
     "text": [
      "[WDM] - Downloading:  95%|█████████▍| 5.96M/6.30M [00:00<00:00, 11.9MB/s]"
     ]
    }
   ],
   "source": [
    "# !pip install chromedriver_autoinstaller\n",
    "\n",
    "import chromedriver_autoinstaller\n",
    "\n",
    "driver_name = chromedriver_autoinstaller.install()  # Check if the current version of chromedriver exists\n",
    "                                      # and if it doesn't exist, download it automatically,\n",
    "                                      # then add chromedriver to path\n",
    "time.sleep(1)\n",
    "\n",
    "driver = wd.Chrome(service=Service(ChromeDriverManager().install()))"
   ]
  },
  {
   "cell_type": "code",
   "execution_count": 4,
   "id": "7800f6d5",
   "metadata": {},
   "outputs": [
    {
     "ename": "WebDriverException",
     "evalue": "Message: unknown error: Chrome failed to start: exited normally.\n  (unknown error: DevToolsActivePort file doesn't exist)\n  (The process started from chrome location C:\\Program Files\\Google\\Chrome\\Application\\chrome.exe is no longer running, so ChromeDriver is assuming that Chrome has crashed.)\nStacktrace:\nBacktrace:\n\tGetHandleVerifier [0x00586E73+48323]\n\t(No symbol) [0x00519661]\n\t(No symbol) [0x00425308]\n\t(No symbol) [0x004437C1]\n\t(No symbol) [0x00440719]\n\t(No symbol) [0x00470DF5]\n\t(No symbol) [0x00470ADC]\n\t(No symbol) [0x0046A6D6]\n\t(No symbol) [0x0044847C]\n\t(No symbol) [0x0044957D]\n\tGetHandleVerifier [0x007EFD5D+2575277]\n\tGetHandleVerifier [0x0082F86E+2836158]\n\tGetHandleVerifier [0x008296DC+2811180]\n\tGetHandleVerifier [0x006141B0+626688]\n\t(No symbol) [0x0052314C]\n\t(No symbol) [0x0051F4B8]\n\t(No symbol) [0x0051F59B]\n\t(No symbol) [0x005121B7]\n\tBaseThreadInitThunk [0x770900C9+25]\n\tRtlGetAppContainerNamedObjectPath [0x77957B4E+286]\n\tRtlGetAppContainerNamedObjectPath [0x77957B1E+238]\n",
     "output_type": "error",
     "traceback": [
      "\u001b[1;31m---------------------------------------------------------------------------\u001b[0m",
      "\u001b[1;31mWebDriverException\u001b[0m                        Traceback (most recent call last)",
      "Cell \u001b[1;32mIn[4], line 5\u001b[0m\n\u001b[0;32m      2\u001b[0m chromedriver_autoinstaller\u001b[38;5;241m.\u001b[39minstall()\n\u001b[0;32m      4\u001b[0m time\u001b[38;5;241m.\u001b[39msleep(\u001b[38;5;241m1\u001b[39m)\n\u001b[1;32m----> 5\u001b[0m driver \u001b[38;5;241m=\u001b[39m \u001b[43mwd\u001b[49m\u001b[38;5;241;43m.\u001b[39;49m\u001b[43mChrome\u001b[49m\u001b[43m(\u001b[49m\u001b[43m)\u001b[49m\n",
      "File \u001b[1;32mc:\\users\\user\\appdata\\local\\programs\\python\\python39\\lib\\site-packages\\selenium\\webdriver\\chrome\\webdriver.py:81\u001b[0m, in \u001b[0;36mWebDriver.__init__\u001b[1;34m(self, executable_path, port, options, service_args, desired_capabilities, service_log_path, chrome_options, service, keep_alive)\u001b[0m\n\u001b[0;32m     78\u001b[0m \u001b[38;5;28;01mif\u001b[39;00m \u001b[38;5;129;01mnot\u001b[39;00m service:\n\u001b[0;32m     79\u001b[0m     service \u001b[38;5;241m=\u001b[39m Service(executable_path, port, service_args, service_log_path)\n\u001b[1;32m---> 81\u001b[0m \u001b[38;5;28;43msuper\u001b[39;49m\u001b[43m(\u001b[49m\u001b[43m)\u001b[49m\u001b[38;5;241;43m.\u001b[39;49m\u001b[38;5;21;43m__init__\u001b[39;49m\u001b[43m(\u001b[49m\n\u001b[0;32m     82\u001b[0m \u001b[43m    \u001b[49m\u001b[43mDesiredCapabilities\u001b[49m\u001b[38;5;241;43m.\u001b[39;49m\u001b[43mCHROME\u001b[49m\u001b[43m[\u001b[49m\u001b[38;5;124;43m\"\u001b[39;49m\u001b[38;5;124;43mbrowserName\u001b[39;49m\u001b[38;5;124;43m\"\u001b[39;49m\u001b[43m]\u001b[49m\u001b[43m,\u001b[49m\n\u001b[0;32m     83\u001b[0m \u001b[43m    \u001b[49m\u001b[38;5;124;43m\"\u001b[39;49m\u001b[38;5;124;43mgoog\u001b[39;49m\u001b[38;5;124;43m\"\u001b[39;49m\u001b[43m,\u001b[49m\n\u001b[0;32m     84\u001b[0m \u001b[43m    \u001b[49m\u001b[43mport\u001b[49m\u001b[43m,\u001b[49m\n\u001b[0;32m     85\u001b[0m \u001b[43m    \u001b[49m\u001b[43moptions\u001b[49m\u001b[43m,\u001b[49m\n\u001b[0;32m     86\u001b[0m \u001b[43m    \u001b[49m\u001b[43mservice_args\u001b[49m\u001b[43m,\u001b[49m\n\u001b[0;32m     87\u001b[0m \u001b[43m    \u001b[49m\u001b[43mdesired_capabilities\u001b[49m\u001b[43m,\u001b[49m\n\u001b[0;32m     88\u001b[0m \u001b[43m    \u001b[49m\u001b[43mservice_log_path\u001b[49m\u001b[43m,\u001b[49m\n\u001b[0;32m     89\u001b[0m \u001b[43m    \u001b[49m\u001b[43mservice\u001b[49m\u001b[43m,\u001b[49m\n\u001b[0;32m     90\u001b[0m \u001b[43m    \u001b[49m\u001b[43mkeep_alive\u001b[49m\u001b[43m,\u001b[49m\n\u001b[0;32m     91\u001b[0m \u001b[43m\u001b[49m\u001b[43m)\u001b[49m\n",
      "File \u001b[1;32mc:\\users\\user\\appdata\\local\\programs\\python\\python39\\lib\\site-packages\\selenium\\webdriver\\chromium\\webdriver.py:106\u001b[0m, in \u001b[0;36mChromiumDriver.__init__\u001b[1;34m(self, browser_name, vendor_prefix, port, options, service_args, desired_capabilities, service_log_path, service, keep_alive)\u001b[0m\n\u001b[0;32m    103\u001b[0m \u001b[38;5;28mself\u001b[39m\u001b[38;5;241m.\u001b[39mservice\u001b[38;5;241m.\u001b[39mstart()\n\u001b[0;32m    105\u001b[0m \u001b[38;5;28;01mtry\u001b[39;00m:\n\u001b[1;32m--> 106\u001b[0m     \u001b[38;5;28;43msuper\u001b[39;49m\u001b[43m(\u001b[49m\u001b[43m)\u001b[49m\u001b[38;5;241;43m.\u001b[39;49m\u001b[38;5;21;43m__init__\u001b[39;49m\u001b[43m(\u001b[49m\n\u001b[0;32m    107\u001b[0m \u001b[43m        \u001b[49m\u001b[43mcommand_executor\u001b[49m\u001b[38;5;241;43m=\u001b[39;49m\u001b[43mChromiumRemoteConnection\u001b[49m\u001b[43m(\u001b[49m\n\u001b[0;32m    108\u001b[0m \u001b[43m            \u001b[49m\u001b[43mremote_server_addr\u001b[49m\u001b[38;5;241;43m=\u001b[39;49m\u001b[38;5;28;43mself\u001b[39;49m\u001b[38;5;241;43m.\u001b[39;49m\u001b[43mservice\u001b[49m\u001b[38;5;241;43m.\u001b[39;49m\u001b[43mservice_url\u001b[49m\u001b[43m,\u001b[49m\n\u001b[0;32m    109\u001b[0m \u001b[43m            \u001b[49m\u001b[43mbrowser_name\u001b[49m\u001b[38;5;241;43m=\u001b[39;49m\u001b[43mbrowser_name\u001b[49m\u001b[43m,\u001b[49m\n\u001b[0;32m    110\u001b[0m \u001b[43m            \u001b[49m\u001b[43mvendor_prefix\u001b[49m\u001b[38;5;241;43m=\u001b[39;49m\u001b[43mvendor_prefix\u001b[49m\u001b[43m,\u001b[49m\n\u001b[0;32m    111\u001b[0m \u001b[43m            \u001b[49m\u001b[43mkeep_alive\u001b[49m\u001b[38;5;241;43m=\u001b[39;49m\u001b[43mkeep_alive\u001b[49m\u001b[43m,\u001b[49m\n\u001b[0;32m    112\u001b[0m \u001b[43m            \u001b[49m\u001b[43mignore_proxy\u001b[49m\u001b[38;5;241;43m=\u001b[39;49m\u001b[43m_ignore_proxy\u001b[49m\u001b[43m,\u001b[49m\n\u001b[0;32m    113\u001b[0m \u001b[43m        \u001b[49m\u001b[43m)\u001b[49m\u001b[43m,\u001b[49m\n\u001b[0;32m    114\u001b[0m \u001b[43m        \u001b[49m\u001b[43moptions\u001b[49m\u001b[38;5;241;43m=\u001b[39;49m\u001b[43moptions\u001b[49m\u001b[43m,\u001b[49m\n\u001b[0;32m    115\u001b[0m \u001b[43m    \u001b[49m\u001b[43m)\u001b[49m\n\u001b[0;32m    116\u001b[0m \u001b[38;5;28;01mexcept\u001b[39;00m \u001b[38;5;167;01mException\u001b[39;00m:\n\u001b[0;32m    117\u001b[0m     \u001b[38;5;28mself\u001b[39m\u001b[38;5;241m.\u001b[39mquit()\n",
      "File \u001b[1;32mc:\\users\\user\\appdata\\local\\programs\\python\\python39\\lib\\site-packages\\selenium\\webdriver\\remote\\webdriver.py:288\u001b[0m, in \u001b[0;36mWebDriver.__init__\u001b[1;34m(self, command_executor, desired_capabilities, browser_profile, proxy, keep_alive, file_detector, options)\u001b[0m\n\u001b[0;32m    286\u001b[0m \u001b[38;5;28mself\u001b[39m\u001b[38;5;241m.\u001b[39m_authenticator_id \u001b[38;5;241m=\u001b[39m \u001b[38;5;28;01mNone\u001b[39;00m\n\u001b[0;32m    287\u001b[0m \u001b[38;5;28mself\u001b[39m\u001b[38;5;241m.\u001b[39mstart_client()\n\u001b[1;32m--> 288\u001b[0m \u001b[38;5;28;43mself\u001b[39;49m\u001b[38;5;241;43m.\u001b[39;49m\u001b[43mstart_session\u001b[49m\u001b[43m(\u001b[49m\u001b[43mcapabilities\u001b[49m\u001b[43m,\u001b[49m\u001b[43m \u001b[49m\u001b[43mbrowser_profile\u001b[49m\u001b[43m)\u001b[49m\n",
      "File \u001b[1;32mc:\\users\\user\\appdata\\local\\programs\\python\\python39\\lib\\site-packages\\selenium\\webdriver\\remote\\webdriver.py:381\u001b[0m, in \u001b[0;36mWebDriver.start_session\u001b[1;34m(self, capabilities, browser_profile)\u001b[0m\n\u001b[0;32m    379\u001b[0m w3c_caps \u001b[38;5;241m=\u001b[39m _make_w3c_caps(capabilities)\n\u001b[0;32m    380\u001b[0m parameters \u001b[38;5;241m=\u001b[39m {\u001b[38;5;124m\"\u001b[39m\u001b[38;5;124mcapabilities\u001b[39m\u001b[38;5;124m\"\u001b[39m: w3c_caps}\n\u001b[1;32m--> 381\u001b[0m response \u001b[38;5;241m=\u001b[39m \u001b[38;5;28;43mself\u001b[39;49m\u001b[38;5;241;43m.\u001b[39;49m\u001b[43mexecute\u001b[49m\u001b[43m(\u001b[49m\u001b[43mCommand\u001b[49m\u001b[38;5;241;43m.\u001b[39;49m\u001b[43mNEW_SESSION\u001b[49m\u001b[43m,\u001b[49m\u001b[43m \u001b[49m\u001b[43mparameters\u001b[49m\u001b[43m)\u001b[49m\n\u001b[0;32m    382\u001b[0m \u001b[38;5;28;01mif\u001b[39;00m \u001b[38;5;124m\"\u001b[39m\u001b[38;5;124msessionId\u001b[39m\u001b[38;5;124m\"\u001b[39m \u001b[38;5;129;01mnot\u001b[39;00m \u001b[38;5;129;01min\u001b[39;00m response:\n\u001b[0;32m    383\u001b[0m     response \u001b[38;5;241m=\u001b[39m response[\u001b[38;5;124m\"\u001b[39m\u001b[38;5;124mvalue\u001b[39m\u001b[38;5;124m\"\u001b[39m]\n",
      "File \u001b[1;32mc:\\users\\user\\appdata\\local\\programs\\python\\python39\\lib\\site-packages\\selenium\\webdriver\\remote\\webdriver.py:444\u001b[0m, in \u001b[0;36mWebDriver.execute\u001b[1;34m(self, driver_command, params)\u001b[0m\n\u001b[0;32m    442\u001b[0m response \u001b[38;5;241m=\u001b[39m \u001b[38;5;28mself\u001b[39m\u001b[38;5;241m.\u001b[39mcommand_executor\u001b[38;5;241m.\u001b[39mexecute(driver_command, params)\n\u001b[0;32m    443\u001b[0m \u001b[38;5;28;01mif\u001b[39;00m response:\n\u001b[1;32m--> 444\u001b[0m     \u001b[38;5;28;43mself\u001b[39;49m\u001b[38;5;241;43m.\u001b[39;49m\u001b[43merror_handler\u001b[49m\u001b[38;5;241;43m.\u001b[39;49m\u001b[43mcheck_response\u001b[49m\u001b[43m(\u001b[49m\u001b[43mresponse\u001b[49m\u001b[43m)\u001b[49m\n\u001b[0;32m    445\u001b[0m     response[\u001b[38;5;124m\"\u001b[39m\u001b[38;5;124mvalue\u001b[39m\u001b[38;5;124m\"\u001b[39m] \u001b[38;5;241m=\u001b[39m \u001b[38;5;28mself\u001b[39m\u001b[38;5;241m.\u001b[39m_unwrap_value(response\u001b[38;5;241m.\u001b[39mget(\u001b[38;5;124m\"\u001b[39m\u001b[38;5;124mvalue\u001b[39m\u001b[38;5;124m\"\u001b[39m, \u001b[38;5;28;01mNone\u001b[39;00m))\n\u001b[0;32m    446\u001b[0m     \u001b[38;5;28;01mreturn\u001b[39;00m response\n",
      "File \u001b[1;32mc:\\users\\user\\appdata\\local\\programs\\python\\python39\\lib\\site-packages\\selenium\\webdriver\\remote\\errorhandler.py:249\u001b[0m, in \u001b[0;36mErrorHandler.check_response\u001b[1;34m(self, response)\u001b[0m\n\u001b[0;32m    247\u001b[0m         alert_text \u001b[38;5;241m=\u001b[39m value[\u001b[38;5;124m\"\u001b[39m\u001b[38;5;124malert\u001b[39m\u001b[38;5;124m\"\u001b[39m]\u001b[38;5;241m.\u001b[39mget(\u001b[38;5;124m\"\u001b[39m\u001b[38;5;124mtext\u001b[39m\u001b[38;5;124m\"\u001b[39m)\n\u001b[0;32m    248\u001b[0m     \u001b[38;5;28;01mraise\u001b[39;00m exception_class(message, screen, stacktrace, alert_text)  \u001b[38;5;66;03m# type: ignore[call-arg]  # mypy is not smart enough here\u001b[39;00m\n\u001b[1;32m--> 249\u001b[0m \u001b[38;5;28;01mraise\u001b[39;00m exception_class(message, screen, stacktrace)\n",
      "\u001b[1;31mWebDriverException\u001b[0m: Message: unknown error: Chrome failed to start: exited normally.\n  (unknown error: DevToolsActivePort file doesn't exist)\n  (The process started from chrome location C:\\Program Files\\Google\\Chrome\\Application\\chrome.exe is no longer running, so ChromeDriver is assuming that Chrome has crashed.)\nStacktrace:\nBacktrace:\n\tGetHandleVerifier [0x00586E73+48323]\n\t(No symbol) [0x00519661]\n\t(No symbol) [0x00425308]\n\t(No symbol) [0x004437C1]\n\t(No symbol) [0x00440719]\n\t(No symbol) [0x00470DF5]\n\t(No symbol) [0x00470ADC]\n\t(No symbol) [0x0046A6D6]\n\t(No symbol) [0x0044847C]\n\t(No symbol) [0x0044957D]\n\tGetHandleVerifier [0x007EFD5D+2575277]\n\tGetHandleVerifier [0x0082F86E+2836158]\n\tGetHandleVerifier [0x008296DC+2811180]\n\tGetHandleVerifier [0x006141B0+626688]\n\t(No symbol) [0x0052314C]\n\t(No symbol) [0x0051F4B8]\n\t(No symbol) [0x0051F59B]\n\t(No symbol) [0x005121B7]\n\tBaseThreadInitThunk [0x770900C9+25]\n\tRtlGetAppContainerNamedObjectPath [0x77957B4E+286]\n\tRtlGetAppContainerNamedObjectPath [0x77957B1E+238]\n"
     ]
    }
   ],
   "source": [
    "import chromedriver_autoinstaller\n",
    "chromedriver_autoinstaller.install()\n",
    "\n",
    "time.sleep(1)\n",
    "driver = wd.Chrome()"
   ]
  },
  {
   "cell_type": "code",
   "execution_count": 7,
   "id": "f6319d1b",
   "metadata": {},
   "outputs": [],
   "source": [
    "def pick_date_in_calendar(start_date, end_date):\n",
    "    driver.find_element(By.CLASS_NAME, 'DatePickerWrapper_icon__Qw9f8').click()\n",
    "\n",
    "    start = driver.find_elements(By.CLASS_NAME, 'NativeDateInput_root__wbgyP')[0]\n",
    "    end = driver.find_elements(By.CLASS_NAME, 'NativeDateInput_root__wbgyP')[1]\n",
    "\n",
    "    start_element = start.find_element(By.CSS_SELECTOR, 'input[type=date]')\n",
    "    end_element = end.find_element(By.CSS_SELECTOR, 'input[type=date]')\n",
    "\n",
    "    start_element.clear()\n",
    "    start_element.send_keys(start_date)\n",
    "    start_element.click()\n",
    "\n",
    "    end_element.clear()\n",
    "    end_element.send_keys(end_date)\n",
    "    end_element.click()\n",
    "\n",
    "    driver.find_element(By.CLASS_NAME, 'inv-button.HistoryDatePicker_apply-button__fPr_G').click()\n",
    "    \n",
    "    end_date_in_table = datetime.datetime.strptime(start_date, '%Y-%m-%d').date().strftime('%m/%d/%Y')\n",
    "    css_sel = '#__next > div.desktop\\:relative.desktop\\:bg-background-default > div > div > div.grid.gap-4.tablet\\:gap-6.grid-cols-4.tablet\\:grid-cols-8.desktop\\:grid-cols-12.grid-container--fixed-desktop.general-layout_main__lRLYJ > main > div > div:nth-child(5) > div > div > div.border.border-main > div > table > tbody'  \n",
    "    WebDriverWait(driver, 60).until(EC.text_to_be_present_in_element((By.CSS_SELECTOR, css_sel), end_date_in_table))\n",
    "    \n",
    "    return"
   ]
  },
  {
   "cell_type": "code",
   "execution_count": 8,
   "id": "556fbeed",
   "metadata": {},
   "outputs": [],
   "source": [
    " def get_table_df(start_date_range, end_date_range):\n",
    "\n",
    "    pick_date_in_calendar(start_date_range, end_date_range)\n",
    "\n",
    "    table_class = 'datatable_table__D_jso datatable_table--border__B_zW0 datatable_table--mobile-basic__W2ilt datatable_table--freeze-column__7YoIE'\n",
    "    df = pd.read_html(driver.page_source, attrs={\"class\": table_class}, flavor=[\"lxml\", \"bs4\"])[0]\n",
    "\n",
    "    df['Date'] = df['Date'].apply(lambda x : datetime.datetime.strptime(x, \"%m/%d/%Y\").date())\n",
    "    df = df.sort_values(by='Date').reset_index(drop=True) # ascending order and renumbering index starting 0.\n",
    "    \n",
    "    return df"
   ]
  },
  {
   "cell_type": "code",
   "execution_count": 9,
   "id": "a80acd28",
   "metadata": {},
   "outputs": [],
   "source": [
    "def save_dataframe(df, pkl_name):\n",
    "    pkl_directory = 'data/common_pkl/'\n",
    "    df.to_pickle(pkl_directory+pkl_name)\n",
    "    df.to_csv(pkl_directory+pkl_name.replace('pkl','csv'))\n",
    "    return"
   ]
  },
  {
   "cell_type": "code",
   "execution_count": 10,
   "id": "2cd01916",
   "metadata": {},
   "outputs": [],
   "source": [
    "start_date = '2021-12-20'\n",
    "today = datetime.date.today()\n",
    "today_str = today.strftime('%Y-%m-%d')"
   ]
  },
  {
   "cell_type": "code",
   "execution_count": 11,
   "id": "34e61876",
   "metadata": {},
   "outputs": [
    {
     "name": "stderr",
     "output_type": "stream",
     "text": [
      "[WDM] - Downloading: 100%|██████████| 6.30M/6.30M [00:24<00:00, 274kB/s] \n"
     ]
    }
   ],
   "source": [
    "us_bond_10yr_url = 'https://www.investing.com/rates-bonds/u.s.-10-year-bond-yield-historical-data'\n",
    "driver.get(us_bond_10yr_url)\n",
    "time.sleep(1)\n",
    "\n",
    "df = get_table_df(start_date, today_str)\n",
    "\n",
    "df['Change %'] = df['Change %'].str[:-1].astype('float')\n",
    "\n",
    "us_10yr = ['date', 'bond_usa_10', 'open', 'high', 'low', 'bond_usa_10_cr']\n",
    "df.columns = us_10yr\n",
    "\n",
    "pkl_name = 'us_10yr_bond.pkl'\n",
    "\n",
    "save_dataframe(df, pkl_name)"
   ]
  },
  {
   "cell_type": "code",
   "execution_count": 12,
   "id": "16f22fbd",
   "metadata": {},
   "outputs": [],
   "source": [
    "us_bond_2yr_url = 'https://www.investing.com/rates-bonds/u.s.-2-year-bond-yield-historical-data'\n",
    "driver.get(us_bond_2yr_url)\n",
    "time.sleep(1)\n",
    "\n",
    "df = get_table_df(start_date, today_str)\n",
    "\n",
    "df['Change %'] = df['Change %'].str[:-1].astype('float')\n",
    "\n",
    "us_2yr = ['date', 'bond_usa_2', 'open', 'high', 'low', 'bond_usa_2_cr']\n",
    "df.columns = us_2yr\n",
    "\n",
    "pkl_name = 'us_2yr_bond.pkl'\n",
    "\n",
    "save_dataframe(df, pkl_name)"
   ]
  },
  {
   "cell_type": "code",
   "execution_count": 13,
   "id": "76b760dc",
   "metadata": {},
   "outputs": [],
   "source": [
    "us_bond_3mon_url = 'https://www.investing.com/rates-bonds/u.s.-3-month-bond-yield-historical-data'\n",
    "driver.get(us_bond_3mon_url)\n",
    "time.sleep(1)\n",
    "\n",
    "df = get_table_df(start_date, today_str)\n",
    "\n",
    "df['Change %'] = df['Change %'].str[:-1].astype('float')\n",
    "\n",
    "us_3mon = ['date', 'bond_usa_3m', 'open', 'high', 'low', 'bond_usa_3m_cr']\n",
    "\n",
    "df.columns = us_3mon\n",
    "\n",
    "pkl_name = 'us_3mon_bond.pkl'\n",
    "\n",
    "save_dataframe(df, pkl_name)"
   ]
  },
  {
   "cell_type": "code",
   "execution_count": 14,
   "id": "97d6bb11",
   "metadata": {},
   "outputs": [],
   "source": [
    "kosdaq_url = 'https://www.investing.com/indices/kosdaq-historical-data'\n",
    "driver.get(kosdaq_url)\n",
    "time.sleep(1)\n",
    "\n",
    "df = get_table_df(start_date, today_str)\n",
    "\n",
    "df['Vol.'] = df['Vol.'].str[:-1].astype('float')\n",
    "df['Change %'] = df['Change %'].str[:-1].astype('float')\n",
    "\n",
    "kosdaq = ['date', 'kosdaq', 'open', 'high', 'low', 'volume', 'kosdaq_cr']\n",
    "\n",
    "df.columns = kosdaq\n",
    "\n",
    "pkl_name = 'kosdaq.pkl'\n",
    "\n",
    "save_dataframe(df, pkl_name)"
   ]
  },
  {
   "cell_type": "code",
   "execution_count": 15,
   "id": "290740d4",
   "metadata": {},
   "outputs": [],
   "source": [
    "kospi_url = 'https://www.investing.com/indices/kospi-historical-data'\n",
    "driver.get(kospi_url)\n",
    "time.sleep(1)\n",
    "\n",
    "df = get_table_df(start_date, today_str)\n",
    "\n",
    "df['Vol.'] = df['Vol.'].str[:-1].astype('float')\n",
    "df['Change %'] = df['Change %'].str[:-1].astype('float')\n",
    "\n",
    "kospi = ['date', 'kospi', 'open', 'high', 'low', 'volume', 'kospi_cr']\n",
    "\n",
    "df.columns = kospi\n",
    "\n",
    "pkl_name = 'kospi.pkl'\n",
    "\n",
    "save_dataframe(df, pkl_name)"
   ]
  },
  {
   "cell_type": "code",
   "execution_count": 16,
   "id": "5af6a5d5",
   "metadata": {},
   "outputs": [],
   "source": [
    "snp_futures_url = 'https://www.investing.com/indices/us-spx-500-futures-historical-data'\n",
    "driver.get(snp_futures_url)\n",
    "time.sleep(1)\n",
    "\n",
    "df = get_table_df(start_date, today_str)\n",
    "\n",
    "df['Vol.'] = df['Vol.'].str[:-1].astype('float')\n",
    "df['Change %'] = df['Change %'].str[:-1].astype('float')\n",
    "\n",
    "snp_future = ['date', 'spx_f', 'open', 'high', 'low', 'volume', 'spx_f_cr']\n",
    "\n",
    "df.columns = snp_future\n",
    "\n",
    "pkl_name = 'snp_future.pkl'\n",
    "\n",
    "save_dataframe(df, pkl_name)"
   ]
  },
  {
   "cell_type": "code",
   "execution_count": 17,
   "id": "da73703b",
   "metadata": {},
   "outputs": [],
   "source": [
    "nas_futures_url = 'https://www.investing.com/indices/nq-100-futures-historical-data'\n",
    "driver.get(nas_futures_url)\n",
    "time.sleep(1)\n",
    "\n",
    "df = get_table_df(start_date, today_str)\n",
    "\n",
    "df['Vol.'] = df['Vol.'].str[:-1].astype('float')\n",
    "df['Change %'] = df['Change %'].str[:-1].astype('float')\n",
    "\n",
    "ixic_future = ['date', 'ixic_f', 'open', 'high', 'low', 'volume', 'ixic_f_cr']\n",
    "\n",
    "df.columns = ixic_future\n",
    "\n",
    "pkl_name = 'ixic_future.pkl'\n",
    "\n",
    "save_dataframe(df, pkl_name)"
   ]
  },
  {
   "cell_type": "code",
   "execution_count": 18,
   "id": "5b4dfc7d",
   "metadata": {},
   "outputs": [],
   "source": [
    "dow_futures_url = 'https://www.investing.com/indices/us-30-futures-historical-data'\n",
    "driver.get(dow_futures_url)\n",
    "time.sleep(1)\n",
    "\n",
    "df = get_table_df(start_date, today_str)\n",
    "\n",
    "df['Vol.'] = df['Vol.'].str[:-1].astype('float')\n",
    "df['Change %'] = df['Change %'].str[:-1].astype('float')\n",
    "\n",
    "dji_future = ['date', 'dji_f', 'open', 'high', 'low', 'volume', 'dji_f_cr']\n",
    "\n",
    "df.columns = dji_future\n",
    "\n",
    "pkl_name = 'dji_future.pkl'\n",
    "\n",
    "save_dataframe(df, pkl_name)"
   ]
  },
  {
   "cell_type": "code",
   "execution_count": 19,
   "id": "08561f5a",
   "metadata": {},
   "outputs": [],
   "source": [
    "wti_futures_url = 'https://www.investing.com/commodities/crude-oil-historical-data'\n",
    "driver.get(wti_futures_url)\n",
    "time.sleep(1)\n",
    "\n",
    "df = get_table_df(start_date, today_str)\n",
    "\n",
    "df['Vol.'] = df['Vol.'].str[:-1].astype('float')\n",
    "df['Change %'] = df['Change %'].str[:-1].astype('float')\n",
    "\n",
    "wti_future = ['date', 'wti', 'open', 'high', 'low', 'volume', 'wti_cr']\n",
    "\n",
    "df.columns = wti_future\n",
    "\n",
    "pkl_name = 'wti_future.pkl'\n",
    "\n",
    "save_dataframe(df, pkl_name)"
   ]
  },
  {
   "cell_type": "code",
   "execution_count": 20,
   "id": "fcf4500c",
   "metadata": {},
   "outputs": [],
   "source": [
    "dollar_index_url = 'https://www.investing.com/indices/usdollar-historical-data'\n",
    "driver.get(dollar_index_url)\n",
    "time.sleep(1)\n",
    "\n",
    "df = get_table_df(start_date, today_str)\n",
    "\n",
    "df['Change %'] = df['Change %'].str[:-1].astype('float')\n",
    "\n",
    "dxy_future = ['date', 'dxy', 'open', 'high', 'low', 'volume', 'dxy_cr']\n",
    "\n",
    "df.columns = dxy_future\n",
    "\n",
    "pkl_name = 'dxy_future.pkl'\n",
    "\n",
    "save_dataframe(df, pkl_name)"
   ]
  },
  {
   "cell_type": "code",
   "execution_count": 21,
   "id": "7771e0ad",
   "metadata": {},
   "outputs": [],
   "source": [
    "ixf_url = 'https://www.investing.com/indices/nasdaq-financial-100-historical-data'\n",
    "driver.get(ixf_url)\n",
    "time.sleep(1)\n",
    "\n",
    "df = get_table_df(start_date, today_str)\n",
    "\n",
    "df['Change %'] = df['Change %'].str[:-1].astype('float')\n",
    "\n",
    "ixf = ['date', 'ixf', 'open', 'high', 'low', 'volume', 'ixf_cr']\n",
    "\n",
    "df.columns = ixf\n",
    "\n",
    "pkl_name = 'ixf.pkl'\n",
    "\n",
    "save_dataframe(df, pkl_name)"
   ]
  },
  {
   "cell_type": "code",
   "execution_count": 22,
   "id": "7452626d",
   "metadata": {},
   "outputs": [],
   "source": [
    "qnet_url = 'https://www.investing.com/indices/nasdaq-internet-historical-data'\n",
    "driver.get(qnet_url)\n",
    "time.sleep(1)\n",
    "\n",
    "df = get_table_df(start_date, today_str)\n",
    "\n",
    "df['Change %'] = df['Change %'].str[:-1].astype('float')\n",
    "\n",
    "qnet = ['date', 'qnet', 'open', 'high', 'low', 'volume', 'qnet_cr']\n",
    "\n",
    "df.columns = qnet\n",
    "\n",
    "pkl_name = 'qnet.pkl'\n",
    "\n",
    "save_dataframe(df, pkl_name)"
   ]
  },
  {
   "cell_type": "code",
   "execution_count": 23,
   "id": "471e1622",
   "metadata": {},
   "outputs": [],
   "source": [
    "driver.close()\n",
    "driver.quit()"
   ]
  },
  {
   "cell_type": "code",
   "execution_count": null,
   "id": "67f6eeb6",
   "metadata": {},
   "outputs": [],
   "source": [
    "# 원하는 기간 사이 데이터가 취득되었는지 확인하기 위하여 file size 확인용 로직 추가 필요"
   ]
  },
  {
   "cell_type": "code",
   "execution_count": null,
   "id": "4419dab7",
   "metadata": {},
   "outputs": [],
   "source": [
    "# 최초 driver 가 9번 10yr 할때 왜 중복 download 되는 것을 확인해야 함."
   ]
  }
 ],
 "metadata": {
  "kernelspec": {
   "display_name": "Python 3 (ipykernel)",
   "language": "python",
   "name": "python3"
  },
  "language_info": {
   "codemirror_mode": {
    "name": "ipython",
    "version": 3
   },
   "file_extension": ".py",
   "mimetype": "text/x-python",
   "name": "python",
   "nbconvert_exporter": "python",
   "pygments_lexer": "ipython3",
   "version": "3.9.1"
  }
 },
 "nbformat": 4,
 "nbformat_minor": 5
}
