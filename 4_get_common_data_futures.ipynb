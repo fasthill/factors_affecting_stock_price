{
 "cells": [
  {
   "cell_type": "markdown",
   "id": "25b184a9",
   "metadata": {},
   "source": [
    "#### 지표 UPDATE \n",
    "   - 주요 주식시장 지수 : spx, dji, ixix, 코스피, 코스닥은 따로 krx 정보시스템에서 취득\n",
    "   - 반도체지수, VIX 지수: sox, vix\n",
    "   - 미국 채권 지수, 한국 채권 지수\n",
    "   - 원화 환율\n",
    "   - 선물 : 미국 3대 지수, wti, 달러지수 선물"
   ]
  },
  {
   "cell_type": "code",
   "execution_count": 1,
   "id": "matched-interview",
   "metadata": {},
   "outputs": [],
   "source": [
    "import datetime\n",
    "import time\n",
    "from datetime import date\n",
    "\n",
    "import pickle\n",
    "\n",
    "import pandas as pd\n",
    "import numpy as np\n",
    "\n",
    "import os\n",
    "import sys\n",
    "import shutil\n",
    "\n",
    "import matplotlib.pyplot as plt"
   ]
  },
  {
   "cell_type": "code",
   "execution_count": 2,
   "id": "bfd56db1",
   "metadata": {},
   "outputs": [],
   "source": [
    "from selenium import webdriver as wd\n",
    "from selenium.webdriver.common.keys import Keys\n",
    "from selenium.webdriver.common.by import By\n",
    "from selenium.webdriver.chrome.service import Service\n",
    "from selenium.webdriver.support.ui import WebDriverWait\n",
    "from selenium.webdriver.support import expected_conditions as EC\n",
    "from webdriver_manager.chrome import ChromeDriverManager\n",
    "\n",
    "from bs4 import BeautifulSoup as bs\n",
    "import requests"
   ]
  },
  {
   "cell_type": "code",
   "execution_count": 3,
   "id": "8bad7650",
   "metadata": {},
   "outputs": [],
   "source": [
    "# !pip install chromedriver_autoinstaller\n",
    "\n",
    "import chromedriver_autoinstaller\n",
    "\n",
    "driver_name = chromedriver_autoinstaller.install()  # Check if the current version of chromedriver exists\n",
    "                                      # and if it doesn't exist, download it automatically,\n",
    "                                      # then add chromedriver to path\n",
    "time.sleep(1)"
   ]
  },
  {
   "cell_type": "code",
   "execution_count": 4,
   "id": "5f83fd09",
   "metadata": {},
   "outputs": [],
   "source": [
    "driver = wd.Chrome(service=Service(ChromeDriverManager().install()))"
   ]
  },
  {
   "cell_type": "code",
   "execution_count": 5,
   "id": "f6319d1b",
   "metadata": {},
   "outputs": [],
   "source": [
    "def pick_date_in_calendar(start_date, end_date):\n",
    "    driver.find_element(By.CLASS_NAME, 'DatePickerWrapper_icon__Qw9f8').click()\n",
    "\n",
    "    start = driver.find_elements(By.CLASS_NAME, 'NativeDateInput_root__wbgyP')[0]\n",
    "    end = driver.find_elements(By.CLASS_NAME, 'NativeDateInput_root__wbgyP')[1]\n",
    "\n",
    "    start_element = start.find_element(By.CSS_SELECTOR, 'input[type=date]')\n",
    "    end_element = end.find_element(By.CSS_SELECTOR, 'input[type=date]')\n",
    "\n",
    "    start_element.clear()\n",
    "    start_element.send_keys(start_date)\n",
    "    start_element.click()\n",
    "\n",
    "    end_element.clear()\n",
    "    end_element.send_keys(end_date)\n",
    "    end_element.click()\n",
    "\n",
    "    driver.find_element(By.CLASS_NAME, 'inv-button.HistoryDatePicker_apply-button__fPr_G').click()\n",
    "    \n",
    "    end_date_table = datetime.datetime.strptime(start_date, '%Y-%m-%d').date().strftime('%m/%d/%Y')\n",
    "    css_sel = '#__next > div.desktop\\:relative.desktop\\:bg-background-default > div > div > div.grid.gap-4.tablet\\:gap-6.grid-cols-4.tablet\\:grid-cols-8.desktop\\:grid-cols-12.grid-container--fixed-desktop.general-layout_main__lRLYJ > main > div > div:nth-child(5) > div > div > div.border.border-main > div > table > tbody'  \n",
    "    WebDriverWait(driver, 20).until(EC.text_to_be_present_in_element((By.CSS_SELECTOR, css_sel), end_date_table))\n",
    "    \n",
    "    return"
   ]
  },
  {
   "cell_type": "code",
   "execution_count": 6,
   "id": "556fbeed",
   "metadata": {},
   "outputs": [],
   "source": [
    " def get_table_df(start_date_range, end_date_range):\n",
    "\n",
    "    pick_date_in_calendar(start_date_range, end_date_range)\n",
    "\n",
    "    table_class = 'datatable_table__D_jso datatable_table--border__B_zW0 datatable_table--mobile-basic__W2ilt datatable_table--freeze-column__7YoIE'\n",
    "    df = pd.read_html(driver.page_source, attrs={\"class\": table_class}, flavor=[\"lxml\", \"bs4\"])[0]\n",
    "\n",
    "    df['Date'] = df['Date'].apply(lambda x : datetime.datetime.strptime(x, \"%m/%d/%Y\"))\n",
    "    df = df.sort_values(by='Date').reset_index(drop=True) # ascending order and renumbering index starting 0.\n",
    "    \n",
    "    return df"
   ]
  },
  {
   "cell_type": "code",
   "execution_count": 7,
   "id": "a80acd28",
   "metadata": {},
   "outputs": [],
   "source": [
    "def save_dataframe(df, pkl_name):\n",
    "    pkl_directory = 'data/common_pkl/'\n",
    "    df.to_pickle(pkl_directory+pkl_name)\n",
    "    df.to_csv(pkl_directory+pkl_name.replace('pkl','csv'))\n",
    "    return"
   ]
  },
  {
   "cell_type": "code",
   "execution_count": 8,
   "id": "2cd01916",
   "metadata": {},
   "outputs": [],
   "source": [
    "start_date = '2021-12-20'\n",
    "today = datetime.date.today()\n",
    "today_str = today.strftime('%Y-%m-%d')"
   ]
  },
  {
   "cell_type": "code",
   "execution_count": null,
   "id": "34e61876",
   "metadata": {},
   "outputs": [],
   "source": [
    "us_bond_10yr_url = 'https://www.investing.com/rates-bonds/u.s.-10-year-bond-yield-historical-data'\n",
    "driver.get(us_bond_10yr_url)\n",
    "time.sleep(1)\n",
    "\n",
    "df = get_table_df(start_date, today_str)\n",
    "\n",
    "df['Change %'] = df['Change %'].str[:-1].astype('float')\n",
    "\n",
    "us_10yr = ['date', 'bond_usa_10', 'open', 'high', 'low', 'bond_usa_10_cr']\n",
    "df.columns = us_10yr\n",
    "\n",
    "pkl_name = 'us_10yr_bond.pkl'\n",
    "\n",
    "save_dataframe(df, pkl_name)"
   ]
  },
  {
   "cell_type": "code",
   "execution_count": null,
   "id": "f0571e45",
   "metadata": {},
   "outputs": [],
   "source": [
    "df.head()"
   ]
  },
  {
   "cell_type": "code",
   "execution_count": null,
   "id": "16f22fbd",
   "metadata": {},
   "outputs": [],
   "source": [
    "us_bond_2yr_url = 'https://www.investing.com/rates-bonds/u.s.-2-year-bond-yield-historical-data'\n",
    "driver.get(us_bond_2yr_url)\n",
    "time.sleep(1)\n",
    "\n",
    "df = get_table_df(start_date, today_str)\n",
    "\n",
    "df['Change %'] = df['Change %'].str[:-1].astype('float')\n",
    "\n",
    "us_2yr = ['date', 'bond_usa_2', 'open', 'high', 'low', 'bond_usa_2_cr']\n",
    "df.columns = us_2yr\n",
    "\n",
    "pkl_name = 'us_2yr_bond.pkl'\n",
    "\n",
    "save_dataframe(df, pkl_name)"
   ]
  },
  {
   "cell_type": "code",
   "execution_count": null,
   "id": "76b760dc",
   "metadata": {},
   "outputs": [],
   "source": [
    "us_bond_3mon_url = 'https://www.investing.com/rates-bonds/u.s.-3-month-bond-yield-historical-data'\n",
    "driver.get(us_bond_3mon_url)\n",
    "time.sleep(1)\n",
    "\n",
    "df = get_table_df(start_date, today_str)\n",
    "\n",
    "df['Change %'] = df['Change %'].str[:-1].astype('float')\n",
    "\n",
    "us_3mon = ['date', 'bond_usa_3m', 'open', 'high', 'low', 'bond_usa_3m_cr']\n",
    "\n",
    "df.columns = us_3mon\n",
    "\n",
    "pkl_name = 'us_3mon_bond.pkl'\n",
    "\n",
    "save_dataframe(df, pkl_name)"
   ]
  },
  {
   "cell_type": "code",
   "execution_count": null,
   "id": "97d6bb11",
   "metadata": {},
   "outputs": [],
   "source": [
    "kosdaq_url = 'https://www.investing.com/indices/kosdaq-historical-data'\n",
    "driver.get(kosdaq_url)\n",
    "time.sleep(1)\n",
    "\n",
    "df = get_table_df(start_date, today_str)\n",
    "\n",
    "df['Vol.'] = df['Vol.'].str[:-1].astype('float')\n",
    "df['Change %'] = df['Change %'].str[:-1].astype('float')\n",
    "\n",
    "kosdaq = ['date', 'kosdaq', 'open', 'high', 'low', 'volume', 'kosdaq_cr']\n",
    "\n",
    "df.columns = kosdaq\n",
    "\n",
    "pkl_name = 'kosdaq.pkl'\n",
    "\n",
    "save_dataframe(df, pkl_name)"
   ]
  },
  {
   "cell_type": "code",
   "execution_count": null,
   "id": "290740d4",
   "metadata": {},
   "outputs": [],
   "source": [
    "kospi_url = 'https://www.investing.com/indices/kospi-historical-data'\n",
    "driver.get(kospi_url)\n",
    "time.sleep(1)\n",
    "\n",
    "df = get_table_df(start_date, today_str)\n",
    "\n",
    "df['Vol.'] = df['Vol.'].str[:-1].astype('float')\n",
    "df['Change %'] = df['Change %'].str[:-1].astype('float')\n",
    "\n",
    "kospi = ['date', 'kospi', 'open', 'high', 'low', 'volume', 'kospi_cr']\n",
    "\n",
    "df.columns = kospi\n",
    "\n",
    "pkl_name = 'kospi.pkl'\n",
    "\n",
    "save_dataframe(df, pkl_name)"
   ]
  },
  {
   "cell_type": "code",
   "execution_count": null,
   "id": "5af6a5d5",
   "metadata": {},
   "outputs": [],
   "source": [
    "snp_futures_url = 'https://www.investing.com/indices/us-spx-500-futures-historical-data'\n",
    "driver.get(snp_futures_url)\n",
    "time.sleep(1)\n",
    "\n",
    "df = get_table_df(start_date, today_str)\n",
    "\n",
    "df['Vol.'] = df['Vol.'].str[:-1].astype('float')\n",
    "df['Change %'] = df['Change %'].str[:-1].astype('float')\n",
    "\n",
    "snp_future = ['date', 'spx_f', 'open', 'high', 'low', 'volume', 'spx_f_cr']\n",
    "\n",
    "df.columns = snp_future\n",
    "\n",
    "pkl_name = 'snp_future.pkl'\n",
    "\n",
    "save_dataframe(df, pkl_name)"
   ]
  },
  {
   "cell_type": "code",
   "execution_count": null,
   "id": "da73703b",
   "metadata": {},
   "outputs": [],
   "source": [
    "nas_futures_url = 'https://www.investing.com/indices/nq-100-futures-historical-data'\n",
    "driver.get(nas_futures_url)\n",
    "time.sleep(1)\n",
    "\n",
    "df = get_table_df(start_date, today_str)\n",
    "\n",
    "df['Vol.'] = df['Vol.'].str[:-1].astype('float')\n",
    "df['Change %'] = df['Change %'].str[:-1].astype('float')\n",
    "\n",
    "ixic_future = ['date', 'ixic_f', 'open', 'high', 'low', 'volume', 'ixic_f_cr']\n",
    "\n",
    "df.columns = ixic_future\n",
    "\n",
    "pkl_name = 'ixic_future.pkl'\n",
    "\n",
    "save_dataframe(df, pkl_name)"
   ]
  },
  {
   "cell_type": "code",
   "execution_count": null,
   "id": "5b4dfc7d",
   "metadata": {},
   "outputs": [],
   "source": [
    "dow_futures_url = 'https://www.investing.com/indices/us-30-futures-historical-data'\n",
    "driver.get(dow_futures_url)\n",
    "time.sleep(1)\n",
    "\n",
    "df = get_table_df(start_date, today_str)\n",
    "\n",
    "df['Vol.'] = df['Vol.'].str[:-1].astype('float')\n",
    "df['Change %'] = df['Change %'].str[:-1].astype('float')\n",
    "\n",
    "dji_future = ['date', 'dji_f', 'open', 'high', 'low', 'volume', 'dji_f_cr']\n",
    "\n",
    "df.columns = dji_future\n",
    "\n",
    "pkl_name = 'dji_future.pkl'\n",
    "\n",
    "save_dataframe(df, pkl_name)"
   ]
  },
  {
   "cell_type": "code",
   "execution_count": null,
   "id": "08561f5a",
   "metadata": {},
   "outputs": [],
   "source": [
    "wti_futures_url = 'https://www.investing.com/commodities/crude-oil-historical-data'\n",
    "driver.get(wti_futures_url)\n",
    "time.sleep(1)\n",
    "\n",
    "df = get_table_df(start_date, today_str)\n",
    "\n",
    "df['Vol.'] = df['Vol.'].str[:-1].astype('float')\n",
    "df['Change %'] = df['Change %'].str[:-1].astype('float')\n",
    "\n",
    "wti_future = ['date', 'wti', 'open', 'high', 'low', 'volume', 'wti_cr']\n",
    "\n",
    "df.columns = wti_future\n",
    "\n",
    "pkl_name = 'wti_future.pkl'\n",
    "\n",
    "save_dataframe(df, pkl_name)"
   ]
  },
  {
   "cell_type": "code",
   "execution_count": 9,
   "id": "fcf4500c",
   "metadata": {},
   "outputs": [],
   "source": [
    "dollar_index_url = 'https://www.investing.com/indices/usdollar-historical-data'\n",
    "driver.get(dollar_index_url)\n",
    "time.sleep(1)\n",
    "\n",
    "df = get_table_df(start_date, today_str)\n",
    "\n",
    "df['Change %'] = df['Change %'].str[:-1].astype('float')\n",
    "\n",
    "dxy_future = ['date', 'dxy', 'open', 'high', 'low', 'volume', 'dxy_cr']\n",
    "\n",
    "df.columns = dxy_future\n",
    "\n",
    "pkl_name = 'dxy_future.pkl'\n",
    "\n",
    "save_dataframe(df, pkl_name)"
   ]
  },
  {
   "cell_type": "code",
   "execution_count": null,
   "id": "471e1622",
   "metadata": {},
   "outputs": [],
   "source": [
    "driver.close()\n",
    "driver.quit()"
   ]
  },
  {
   "cell_type": "code",
   "execution_count": null,
   "id": "e577ec57",
   "metadata": {},
   "outputs": [],
   "source": []
  }
 ],
 "metadata": {
  "kernelspec": {
   "display_name": "Python 3 (ipykernel)",
   "language": "python",
   "name": "python3"
  },
  "language_info": {
   "codemirror_mode": {
    "name": "ipython",
    "version": 3
   },
   "file_extension": ".py",
   "mimetype": "text/x-python",
   "name": "python",
   "nbconvert_exporter": "python",
   "pygments_lexer": "ipython3",
   "version": "3.10.7"
  }
 },
 "nbformat": 4,
 "nbformat_minor": 5
}
