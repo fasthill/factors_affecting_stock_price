{
 "cells": [
  {
   "cell_type": "markdown",
   "id": "25b184a9",
   "metadata": {},
   "source": [
    "#### 미국 선물 지표 외 \n",
    "   - 미국채권 10년, 2년, 3개월\n",
    "   - 선물 : 미국 3대 지수, wti, 달러지수 선물\n",
    "   - 코스피, 코스닥\n",
    "   - ixf, qnet"
   ]
  },
  {
   "cell_type": "code",
   "execution_count": 25,
   "id": "89e771d1-46dd-4ebf-8f6a-8148ca9bd4c4",
   "metadata": {},
   "outputs": [
    {
     "name": "stdout",
     "output_type": "stream",
     "text": [
      "Collecting lxml\n",
      "  Downloading lxml-5.1.0-cp312-cp312-win_amd64.whl.metadata (3.6 kB)\n",
      "Downloading lxml-5.1.0-cp312-cp312-win_amd64.whl (3.9 MB)\n",
      "   ---------------------------------------- 0.0/3.9 MB ? eta -:--:--\n",
      "   ---------------------------------------- 0.0/3.9 MB ? eta -:--:--\n",
      "   ---------------------------------------- 0.0/3.9 MB 660.6 kB/s eta 0:00:06\n",
      "   - -------------------------------------- 0.2/3.9 MB 1.8 MB/s eta 0:00:03\n",
      "   ------ --------------------------------- 0.7/3.9 MB 5.2 MB/s eta 0:00:01\n",
      "   ------------- -------------------------- 1.3/3.9 MB 7.5 MB/s eta 0:00:01\n",
      "   -------------------- ------------------- 2.0/3.9 MB 9.1 MB/s eta 0:00:01\n",
      "   ----------------------------- ---------- 2.9/3.9 MB 10.8 MB/s eta 0:00:01\n",
      "   -------------------------------------- - 3.8/3.9 MB 12.0 MB/s eta 0:00:01\n",
      "   ---------------------------------------- 3.9/3.9 MB 11.4 MB/s eta 0:00:00\n",
      "Installing collected packages: lxml\n",
      "Successfully installed lxml-5.1.0\n"
     ]
    }
   ],
   "source": [
    "!pip install lxml"
   ]
  },
  {
   "cell_type": "code",
   "execution_count": 1,
   "id": "matched-interview",
   "metadata": {},
   "outputs": [],
   "source": [
    "import datetime\n",
    "import time\n",
    "from datetime import date\n",
    "\n",
    "import pickle\n",
    "\n",
    "import pandas as pd\n",
    "import numpy as np\n",
    "\n",
    "import os\n",
    "import sys\n",
    "import shutil\n",
    "import io\n",
    "\n",
    "import matplotlib.pyplot as plt"
   ]
  },
  {
   "cell_type": "code",
   "execution_count": 2,
   "id": "bfd56db1",
   "metadata": {},
   "outputs": [],
   "source": [
    "from selenium import webdriver as wd\n",
    "from selenium.webdriver.common.keys import Keys\n",
    "from selenium.webdriver.common.by import By\n",
    "from selenium.webdriver.chrome.service import Service\n",
    "from selenium.webdriver.support.ui import WebDriverWait\n",
    "from selenium.webdriver.support import expected_conditions as EC\n",
    "from webdriver_manager.chrome import ChromeDriverManager\n",
    "from selenium.webdriver import ActionChains # scroll down 사용하기 위하여 선서\n",
    "\n",
    "from bs4 import BeautifulSoup as bs\n",
    "import requests"
   ]
  },
  {
   "cell_type": "code",
   "execution_count": 3,
   "id": "b7c4fb11",
   "metadata": {},
   "outputs": [],
   "source": [
    "service = Service(r\"121/chromedriver.exe\")\n",
    "options = wd.ChromeOptions()\n",
    "driver = wd.Chrome(service=service, options=options)"
   ]
  },
  {
   "cell_type": "code",
   "execution_count": 4,
   "id": "3987c788",
   "metadata": {},
   "outputs": [],
   "source": [
    "# driver.execute_script(\"window.scrollTo(0,document.body.scrollHeight);\")"
   ]
  },
  {
   "cell_type": "code",
   "execution_count": 14,
   "id": "c2283df7",
   "metadata": {},
   "outputs": [],
   "source": [
    "def move_to_calendar():\n",
    "# id가 jsOpenView_1 인 element 를 찾음\n",
    "    selector_name =\"span.w-4.h-4\"\n",
    "    calendar_tag = driver.find_elements(By.CSS_SELECTOR, selector_name)[1]\n",
    "\n",
    "    # jsOpenView_1 element 까지 스크롤\n",
    "    action = ActionChains(driver)\n",
    "    action.move_to_element(calendar_tag).perform()\n",
    "    \n",
    "    calendar_tag.click() # 세부 칼렌더 박스 오픈"
   ]
  },
  {
   "cell_type": "code",
   "execution_count": 15,
   "id": "f6319d1b",
   "metadata": {},
   "outputs": [],
   "source": [
    "def pick_date_in_calendar(start_date, end_date):\n",
    "#     selector_name =\"span.w-4.h-4\"\n",
    "#     calendar_tag = driver.find_elements(By.CSS_SELECTOR, selector_name)[1]\n",
    "#     calendar_tag.click() # 세부 칼렌더 박스 오픈\n",
    "    \n",
    "    print(\"Inside pick_date_in_calendar\")\n",
    "    selector_input =\"#__next input[type='date']\"\n",
    "    input_tag = driver.find_elements(By.CSS_SELECTOR, selector_input)\n",
    "    \n",
    "    start_element = input_tag[0]\n",
    "    end_element = input_tag[1]\n",
    "    \n",
    "# 아래의 3단계로 날짜 입력해야 원하는 값이 입력됨.\n",
    "# 이유는 모르지만 flexbox내에 input tag가 두 개가 있고, 사이즈 변화에 따라 input value가 바뀌는 것 같음.\n",
    "#     end_date1 = end_date + \"1\" # 마지막 값을 추가해서 value 값을 ''으로 바꿈. 왜 그런지는 모르겠음.\n",
    "\n",
    "#  아래 내용도 어느 순간 동작하지를 않아 다른 새로운 방법으로 진행\n",
    "#     end_date1 = \"2023-19-281\" # 마지막 값을 추가해서 value 값을 ''으로 바꿈. 왜 그런지는 모르겠음. bit 수와 관련이 있을까?\n",
    "#     end_element.send_keys(end_date1) # 맨처음 value값을 ''으로 바꿈\n",
    "#     time.sleep(0.5)\n",
    "#     input(\"--- wait and hit button\")\n",
    "\n",
    "# 마지막일 입력을 두번 연속 진행하여 무작위 숫자를 방지하여 진행하였으나(2023면 11월 1일 동작) \n",
    "# 2023년 11월 2일에는 똑 같은 현상(무작위 숫자 발생)이 발생하여 세번 연속 마지막일 입력을 진행하니\n",
    "# 제대로 된 날짜가 입력됨., 무슨 이유인지 모르겠음.\n",
    "    end_element.clear()\n",
    "    end_element.send_keys(end_date) # 첫번째 마지막으로 마감일자 입력 \n",
    "    time.sleep(0.5)\n",
    "\n",
    "    inum = 0\n",
    "    date_TF = True\n",
    "    num_range = 2\n",
    "    for i in range(num_range):\n",
    "        # end_date를 비교를 아래와 같이 몇번 시도를 하고 실패할 경우는 start_date를 한번 시도하고,\n",
    "        # 다시 end_date를 같은 방법으로 시도하면 date가 제대로 입력이 됨. 이유는 모름\n",
    "        while end_element.get_attribute(\"value\") != end_date: # 입력한 날짜와 value값이 같은지 확인하고 계속 반복\n",
    "            end_element.clear()\n",
    "            end_element.send_keys(end_date) \n",
    "#             print(\" IN END DATE\", end_date, end_element.get_attribute(\"value\"))\n",
    "#             print(\"False True\", end_element.get_attribute(\"value\") != end_date)\n",
    "            time.sleep(0.5)\n",
    "            inum = inum + 1\n",
    "            if inum > 2:\n",
    "                date_TF = False\n",
    "                break\n",
    "\n",
    "        start_element.clear()\n",
    "        start_element.send_keys(start_date) # 세번째로 시작일자 입력\n",
    "        time.sleep(0.5)\n",
    "        \n",
    "        if date_TF:\n",
    "            break\n",
    "        else:\n",
    "            inum=0\n",
    "            if ((num_range - 1) == i) and (not date_TF) :\n",
    "                raise Exception(\"Error assigning start date, end date\")  # date assigning 이 안되면 raise error 시킴\n",
    "            date_TF = True\n",
    "            continue\n",
    "            \n",
    "    # double check the dates\n",
    "    if end_element.get_attribute(\"value\") != end_date :\n",
    "        raise Exception(\"Error assigning end date\")  \n",
    "    if start_element.get_attribute(\"value\") != start_date:\n",
    "        raise Exception(\"Error assigning start date\")  \n",
    "    \n",
    "    driver.find_element(By.CSS_SELECTOR, 'span.w-4.h-4.rounded-sm').click()\n",
    "    time.sleep(1)\n",
    "    \n",
    "    end_date_in_table = datetime.datetime.strptime(start_date, \"%Y-%m-%d\").date().strftime(\"%m/%d/%Y\") \n",
    "    # 마지막 날짜 일치여부를 비교하기 위하여 날짜형식 맞추기 위한 command\n",
    "\n",
    "#     css_sel = '#__next > div.desktop\\:relative.desktop\\:bg-background-default > div > div > div.grid.gap-4.tablet\\:gap-6.grid-cols-4.tablet\\:grid-cols-8.desktop\\:grid-cols-12.grid-container--fixed-desktop.general-layout_main__lRLYJ > main > div > div:nth-child(5) > div > div > div.border.border-main > div > table > tbody'\n",
    "#     css_sel = '#__next > div.desktop\\:relative.desktop\\:bg-background-default > div > div > div.grid.gap-4.tablet\\:gap-6.grid-cols-4.tablet\\:grid-cols-8.desktop\\:grid-cols-12.grid-container--fixed-desktop.general-layout_main__LHpKS > main > div > div:nth-child(4) > div > div > div.border.border-main > div > table > tbody'\n",
    "#     WebDriverWait(driver, 60).until(EC.text_to_be_present_in_element((By.CSS_SELECTOR, css_sel), end_date_in_table))\n",
    "    i_iter = 0\n",
    "    while True:\n",
    "        text_date = driver.find_elements(By.CSS_SELECTOR, 'tr td time')[-1].text\n",
    "        print(\"in-\", end=\" \")\n",
    "        i_iter = i_iter + 1 # 이하 시도해 보았으나 의미 없음. 다른 방법을 찾아야 함.\n",
    "        if i_iter >= 20:  # 화면이 멈추었을 때 refresh 새로고침 용\n",
    "            return False\n",
    "        if (text_date == end_date_in_table) :\n",
    "            break\n",
    "        time.sleep(0.5)\n",
    "    \n",
    "    return True"
   ]
  },
  {
   "cell_type": "code",
   "execution_count": 27,
   "id": "556fbeed",
   "metadata": {},
   "outputs": [],
   "source": [
    " def get_table_df(start_date_range, end_date_range):\n",
    "    \n",
    "    true_false = pick_date_in_calendar(start_date_range, end_date_range) # 무한반복시 윈도우 refresh용\n",
    "    if not true_false:\n",
    "        return pd.DataFrame()\n",
    "\n",
    "#     table_class = 'datatable_table__D_jso datatable_table--border__B_zW0 datatable_table--mobile-basic__W2ilt datatable_table--freeze-column__7YoIE'\n",
    "#     table_class = 'w-full text-xs leading-4 overflow-x-auto freeze-column-w-1'\n",
    "# 위의 table_class 명칭은 수시로 바뀌므로 새롭게 수정해 주어야 함.\n",
    "    table_class = 'freeze-column-w-1 w-full overflow-x-auto text-xs leading-4'\n",
    "    # df = pd.read_html(driver.page_source, attrs={\"class\": table_class}, flavor=[\"lxml\", \"bs4\"])[0]\n",
    "     \n",
    "    df = pd.read_html(io.StringIO(str(driver.page_source)), attrs={\"class\": table_class}, flavor=[\"lxml\", \"bs4\"])[0]\n",
    "\n",
    "    df['Date'] = df['Date'].apply(lambda x : datetime.datetime.strptime(x, \"%m/%d/%Y\").date())\n",
    "    df = df.sort_values(by='Date').reset_index(drop=True) # ascending order and renumbering index starting 0.\n",
    "    \n",
    "    return df"
   ]
  },
  {
   "cell_type": "code",
   "execution_count": 17,
   "id": "a80acd28",
   "metadata": {},
   "outputs": [],
   "source": [
    "def save_dataframe(df, pkl_name):\n",
    "    pkl_directory = 'data/common_pkl/'\n",
    "    df.to_pickle(pkl_directory+pkl_name)\n",
    "    df.to_csv(pkl_directory+pkl_name.replace('pkl','csv'))\n",
    "    return"
   ]
  },
  {
   "cell_type": "code",
   "execution_count": 18,
   "id": "2cd01916",
   "metadata": {},
   "outputs": [],
   "source": [
    "start_date = \"2021-12-20\" # 21\n",
    "today = datetime.date.today()\n",
    "today_str = today.strftime(\"%Y-%m-%d\")"
   ]
  },
  {
   "cell_type": "code",
   "execution_count": 19,
   "id": "776dbaa0",
   "metadata": {},
   "outputs": [],
   "source": [
    "# # 테스트 용\n",
    "# end_date = \"2023-09-08\"\n",
    "# # 0309-02-28\n",
    "# start_date = \"2021-12-20\"\n",
    "# today_str = end_date"
   ]
  },
  {
   "cell_type": "code",
   "execution_count": null,
   "id": "1b3398da",
   "metadata": {},
   "outputs": [],
   "source": [
    "us_bond_10yr_url = 'https://www.investing.com/rates-bonds/u.s.-10-year-bond-yield-historical-data'\n",
    "us_bond_2yr_url = 'https://www.investing.com/rates-bonds/u.s.-2-year-bond-yield-historical-data'\n",
    "us_bond_3mon_url = 'https://www.investing.com/rates-bonds/u.s.-3-month-bond-yield-historical-data'\n",
    "kosdaq_url = 'https://www.investing.com/indices/kosdaq-historical-data'\n",
    "kospi_url = 'https://www.investing.com/indices/kospi-historical-data'\n",
    "snp_futures_url = 'https://www.investing.com/indices/us-spx-500-futures-historical-data'\n",
    "nas_futures_url = 'https://www.investing.com/indices/nq-100-futures-historical-data'\n",
    "dow_futures_url = 'https://www.investing.com/indices/us-30-futures-historical-data'\n",
    "wti_futures_url = 'https://www.investing.com/commodities/crude-oil-historical-data'\n",
    "dollar_index_url = 'https://www.investing.com/indices/usdollar-historical-data'\n",
    "ixf_url = 'https://www.investing.com/indices/nasdaq-financial-100-historical-data'\n",
    "qnet_url = 'https://www.investing.com/indices/nasdaq-internet-historical-data'\n",
    "\n",
    "us_10yr_col = ['date', 'bond_usa_10', 'open', 'high', 'low', 'bond_usa_10_cr']\n",
    "us_2yr_col = ['date', 'bond_usa_2', 'open', 'high', 'low', 'bond_usa_2_cr']\n",
    "us_3mon_col = ['date', 'bond_usa_3m', 'open', 'high', 'low', 'bond_usa_3m_cr']\n",
    "kosdaq_col = ['date', 'kosdaq', 'open', 'high', 'low', 'volume', 'kosdaq_cr']\n",
    "kospi_col = ['date', 'kospi', 'open', 'high', 'low', 'volume', 'kospi_cr']\n",
    "snp_future_col = ['date', 'spx_f', 'open', 'high', 'low', 'volume', 'spx_f_cr']\n",
    "ixic_future_col = ['date', 'ixic_f', 'open', 'high', 'low', 'volume', 'ixic_f_cr']\n",
    "dji_future_col = ['date', 'dji_f', 'open', 'high', 'low', 'volume', 'dji_f_cr']\n",
    "wti_future_col = ['date', 'wti', 'open', 'high', 'low', 'volume', 'wti_cr']\n",
    "dxy_future_col = ['date', 'dxy', 'open', 'high', 'low', 'volume', 'dxy_cr']\n",
    "ixf_col = ['date', 'ixf', 'open', 'high', 'low', 'volume', 'ixf_cr']\n",
    "qnet_col = ['date', 'qnet', 'open', 'high', 'low', 'volume', 'qnet_cr']\n",
    "\n",
    "future_collection = {'us_bond_10yr' : [ us_bond_10yr_url, us_10yr_col,  'us_10yr_bond.pkl'],\n",
    "                     'us_bond_2yr' : [ us_bond_2yr_url, us_2yr_col,  'us_2yr_bond.pkl'],\n",
    "                     'us_bond_3mon' : [ us_bond_3mon_url, us_3mon_col,  'us_3mon_bond.pkl'],\n",
    "                     'kosdaq' : [ kosdaq_url, kosdaq_col,  'kosdaq.pkl'],\n",
    "                     'kospi' : [ kospi_url, kospi_col,  'kospi.pkl'],\n",
    "                     'snp_futures' : [snp_futures_url, snp_future_col,  'snp_future.pkl'],\n",
    "                     'nas_futures' : [nas_futures_url, ixic_future_col,  'ixic_future.pkl'],\n",
    "                     'dow_futures' : [dow_futures_url, dji_future_col,  'dji_future.pkl'],\n",
    "                     'wti_futures' : [wti_futures_url, wti_future_col,  'wti_future.pkl'],\n",
    "                     'dollar_index' : [dollar_index_url, dxy_future_col,  'dxy_future.pkl'],\n",
    "                     'ixf' : [ixf_url, ixf_col,  'ixf.pkl'],\n",
    "                     'qnet' : [qnet_url, qnet_col,  'qnet.pkl'] }\n",
    "\n",
    "# future_collection = {'snp_futures' : [snp_futures_url, snp_future_col,  'snp_future.pkl'],\n",
    "#                      'nas_futures' : [nas_futures_url, ixic_future_col,  'ixic_future.pkl'],\n",
    "#                      'dow_futures' : [dow_futures_url, dji_future_col,  'dji_future.pkl'],\n",
    "#                      'wti_futures' : [wti_futures_url, wti_future_col,  'wti_future.pkl'],\n",
    "#                      'dollar_index' : [dollar_index_url, dxy_future_col,  'dxy_future.pkl'],\n",
    "#                      'ixf' : [ixf_url, ixf_col,  'ixf.pkl'],\n",
    "#                      'qnet' : [qnet_url, qnet_col,  'qnet.pkl'] }\n",
    "\n",
    "# future_collection = {'dow_futures' : [dow_futures_url, dji_future_col,  'dji_future.pkl'],\n",
    "#                      'wti_futures' : [wti_futures_url, wti_future_col,  'wti_future.pkl'],\n",
    "#                      'dollar_index' : [dollar_index_url, dxy_future_col,  'dxy_future.pkl'],\n",
    "#                      'ixf' : [ixf_url, ixf_col,  'ixf.pkl'],\n",
    "#                      'qnet' : [qnet_url, qnet_col,  'qnet.pkl'] }\n",
    "\n",
    "# future_collection = {'ixf' : [ixf_url, ixf_col,  'ixf.pkl'],\n",
    "#                      'qnet' : [qnet_url, qnet_col,  'qnet.pkl'] }\n",
    "\n",
    "# future_collection = {'us_bond_10yr' : [ us_bond_10yr_url, us_10yr_col,  'us_10yr_bond.pkl']  }"
   ]
  },
  {
   "cell_type": "code",
   "execution_count": 30,
   "id": "a13ea8b6",
   "metadata": {
    "scrolled": true
   },
   "outputs": [
    {
     "name": "stdout",
     "output_type": "stream",
     "text": [
      "*** before driver.get, before move_to_calendar, count: 0, after move_to_calendar, Inside pick_date_in_calendar\n",
      "in- us_10yr_bond.pkl\n"
     ]
    }
   ],
   "source": [
    "for _, value in future_collection.items():\n",
    "    url = value[0]\n",
    "    print(\"*** before driver.get\", end=\", \")\n",
    "    \n",
    "    empty_iter = 0  # empty df 발생시 재동작시키기 위한 counter  \n",
    "    while True:\n",
    "        driver.get(url)\n",
    "    #     driver.maximize_window()\n",
    "        print(\"before move_to_calendar, count:\", empty_iter, end=\", \")\n",
    "        move_to_calendar()\n",
    "        print(\"after move_to_calendar\", end=\", \")\n",
    "        time.sleep(1)\n",
    "\n",
    "    #     today_str = \"2024-02-29\"\n",
    "        df = get_table_df(start_date, today_str)\n",
    "    \n",
    "        if not df.empty:\n",
    "            break\n",
    "        else:\n",
    "            empty_iter = empty_iter + 1\n",
    "            if empty_iter == 4:\n",
    "                print('\\n', \"*************** can't get \", value[2], \" data *******************\")\n",
    "                break\n",
    "        \n",
    "    df['Change %'] = df['Change %'].str[:-1].astype('float')\n",
    "\n",
    "    df.columns = value[1]\n",
    "    \n",
    "    file_name = value[2]\n",
    "    \n",
    "    print(file_name, end=\"\\n\")\n",
    "    save_dataframe(df, file_name)"
   ]
  },
  {
   "cell_type": "code",
   "execution_count": 31,
   "id": "7aa62b82",
   "metadata": {},
   "outputs": [],
   "source": [
    "driver.close()\n",
    "driver.quit()"
   ]
  },
  {
   "cell_type": "markdown",
   "id": "ef19f3e3",
   "metadata": {},
   "source": [
    "## 여기까지"
   ]
  },
  {
   "cell_type": "code",
   "execution_count": null,
   "id": "8d45891d",
   "metadata": {},
   "outputs": [],
   "source": [
    "selector_input =\"#__next input[type='date']\"\n",
    "input_tag = driver.find_elements(By.CSS_SELECTOR, selector_input)\n",
    "\n",
    "start_element = input_tag[0]\n",
    "end_element = input_tag[1]"
   ]
  },
  {
   "cell_type": "code",
   "execution_count": null,
   "id": "d13438ba",
   "metadata": {},
   "outputs": [],
   "source": [
    "start_date = \"2021-12-25\"\n",
    "# start_element.send_keys(start_date) # 두번째로 시작일자 입력\n",
    "driver.execute_script('arguments[0].setAttribute(\"value\", \"%s\")' %start_date, start_element)\n",
    "start_element.click()\n",
    "time.sleep(0.5)"
   ]
  },
  {
   "cell_type": "code",
   "execution_count": null,
   "id": "36f6a96a",
   "metadata": {},
   "outputs": [],
   "source": [
    "end_date = \"2023-10-25\"\n",
    "driver.execute_script('arguments[0].setAttribute(\"value\", arguments[1])',  end_element, end_date)\n",
    "end_element.click()\n",
    "time.sleep(0.5)"
   ]
  },
  {
   "cell_type": "code",
   "execution_count": null,
   "id": "2b2fee03",
   "metadata": {},
   "outputs": [],
   "source": [
    "end_date = \"2023-10-25\"\n",
    "driver.execute_script(\"arguments[0].removeAttribute('value')\", end_element)\n",
    "# driver.execute_script('arguments[0].setAttribute(\"value\", \"2023-10-25\")',  end_element)\n",
    "end_element.click()\n",
    "time.sleep(0.5)"
   ]
  },
  {
   "cell_type": "code",
   "execution_count": null,
   "id": "09dd8d11",
   "metadata": {},
   "outputs": [],
   "source": [
    "end_date = \"2023-10-20\"\n",
    "end_element.send_keys(end_date) # 세번째 마지막으로 마감일자 입력 \n",
    "time.sleep(0.5)"
   ]
  },
  {
   "cell_type": "code",
   "execution_count": null,
   "id": "11ce5220",
   "metadata": {},
   "outputs": [],
   "source": [
    "start_date = \"2021-12-20\"\n",
    "driver.execute_script(\"arguments[0].removeAttribute('value')\", start_element)\n",
    "# driver.execute_script('arguments[0].setAttribute(\"value\", \"2023-10-25\")',  end_element)\n",
    "start_element.click()\n",
    "time.sleep(0.5)"
   ]
  },
  {
   "cell_type": "code",
   "execution_count": null,
   "id": "016ac3d6",
   "metadata": {},
   "outputs": [],
   "source": [
    "start_date = \"2021-12-20\"\n",
    "start_element.send_keys(start_date) # 두번째로 시작일자 입력\n",
    "time.sleep(0.5)"
   ]
  },
  {
   "cell_type": "code",
   "execution_count": null,
   "id": "38b80a5a",
   "metadata": {},
   "outputs": [],
   "source": [
    "end_element.clear()\n",
    "start_element.click()\n",
    "# end_element.send_keys(\"\\n\")\n",
    "end_date = \"2023-10-25\"\n",
    "end_element.send_keys(end_date) # 세번째 마지막으로 마감일자 입력 \n",
    "time.sleep(0.5)"
   ]
  },
  {
   "cell_type": "code",
   "execution_count": null,
   "id": "3af0f0d9",
   "metadata": {},
   "outputs": [],
   "source": [
    "start_element.clear()\n",
    "start_element.send_keys(\"\\n\")\n",
    "start_date = \"2021-12-25\"\n",
    "start_element.send_keys(start_date) # 두번째로 시작일자 입력\n",
    "time.sleep(0.5)"
   ]
  },
  {
   "cell_type": "code",
   "execution_count": null,
   "id": "1862cf7f",
   "metadata": {},
   "outputs": [],
   "source": [
    "driver.find_element(By.CSS_SELECTOR, 'span.w-4.h-4.rounded-sm').click()"
   ]
  },
  {
   "cell_type": "code",
   "execution_count": null,
   "id": "bb4781ae",
   "metadata": {},
   "outputs": [],
   "source": []
  },
  {
   "cell_type": "code",
   "execution_count": null,
   "id": "b062c469",
   "metadata": {},
   "outputs": [],
   "source": [
    "end_element.clear()\n",
    "end_date = \"2023-10-25\"\n",
    "end_element.send_keys(end_date) # 세번째 마지막으로 마감일자 입력 \n",
    "time.sleep(0.5)"
   ]
  },
  {
   "cell_type": "code",
   "execution_count": null,
   "id": "ad59543c",
   "metadata": {},
   "outputs": [],
   "source": [
    "start_element.clear()\n",
    "start_date = \"2021-12-25\"\n",
    "start_element.send_keys(start_date) # 두번째로 시작일자 입력\n",
    "time.sleep(0.5)"
   ]
  },
  {
   "cell_type": "code",
   "execution_count": null,
   "id": "96cda626",
   "metadata": {},
   "outputs": [],
   "source": [
    "driver.find_element(By.CSS_SELECTOR, 'span.w-4.h-4.rounded-sm').click()"
   ]
  },
  {
   "cell_type": "code",
   "execution_count": null,
   "id": "c7ad4a7f",
   "metadata": {},
   "outputs": [],
   "source": []
  },
  {
   "cell_type": "code",
   "execution_count": null,
   "id": "81a3b8da",
   "metadata": {},
   "outputs": [],
   "source": [
    "print(\"\\n ppp\")"
   ]
  },
  {
   "cell_type": "code",
   "execution_count": null,
   "id": "9168d1a3",
   "metadata": {},
   "outputs": [],
   "source": []
  },
  {
   "cell_type": "code",
   "execution_count": null,
   "id": "88adc4b3",
   "metadata": {},
   "outputs": [],
   "source": []
  },
  {
   "cell_type": "code",
   "execution_count": null,
   "id": "365b7281",
   "metadata": {},
   "outputs": [],
   "source": []
  },
  {
   "cell_type": "code",
   "execution_count": null,
   "id": "b48f51df",
   "metadata": {},
   "outputs": [],
   "source": [
    "start_element.click()"
   ]
  },
  {
   "cell_type": "code",
   "execution_count": null,
   "id": "3f817e7a",
   "metadata": {},
   "outputs": [],
   "source": [
    "start_element.send_keys(\"\\n\")"
   ]
  },
  {
   "cell_type": "code",
   "execution_count": null,
   "id": "241a4278",
   "metadata": {},
   "outputs": [],
   "source": [
    "end_element.click()"
   ]
  },
  {
   "cell_type": "code",
   "execution_count": null,
   "id": "5845586e",
   "metadata": {},
   "outputs": [],
   "source": [
    "end_element.send_keys(\"\\n\")"
   ]
  },
  {
   "cell_type": "code",
   "execution_count": null,
   "id": "b86c75fe",
   "metadata": {},
   "outputs": [],
   "source": [
    "end_element.submit()"
   ]
  },
  {
   "cell_type": "code",
   "execution_count": null,
   "id": "98bf8210",
   "metadata": {},
   "outputs": [],
   "source": [
    "start_date = \"2021-12-20\"\n",
    "start_element.send_keys(start_date) # 두번째로 시작일자 입력\n",
    "time.sleep(0.5)\n",
    "end_date = \"2023-10-20\"\n",
    "end_element.send_keys(end_date) # 세번째 마지막으로 마감일자 입력 \n",
    "time.sleep(0.5)\n",
    "end_date = \"2023-10-20\"\n",
    "end_element.send_keys(end_date) # 세번째 마지막으로 마감일자 입력 \n",
    "time.sleep(0.5)\n",
    "start_date = \"2021-12-20\"\n",
    "start_element.send_keys(start_date) # 두번째로 시작일자 입력\n",
    "time.sleep(0.5)\n",
    "driver.find_element(By.CSS_SELECTOR, 'span.w-4.h-4.rounded-sm').click()"
   ]
  },
  {
   "cell_type": "code",
   "execution_count": null,
   "id": "b07ff46c",
   "metadata": {},
   "outputs": [],
   "source": [
    "end_date1 = \"****-**-**1\" # 마지막 값을 추가해서 value 값을 ''으로 바꿈. 왜 그런지는 모르겠음. bit 수와 관련이 있을까?\n",
    "end_element.send_keys(end_date1) # 맨처음 value값을 ''으로 바꿈\n",
    "time.sleep(0.5)"
   ]
  },
  {
   "cell_type": "code",
   "execution_count": null,
   "id": "19262e64",
   "metadata": {},
   "outputs": [],
   "source": [
    "end_date = \"2023-10-20\"\n",
    "end_element.send_keys(end_date) # 세번째 마지막으로 마감일자 입력 \n",
    "time.sleep(0.5)"
   ]
  },
  {
   "cell_type": "code",
   "execution_count": null,
   "id": "b6be843b",
   "metadata": {},
   "outputs": [],
   "source": [
    "driver.find_element(By.CSS_SELECTOR, 'span.w-4.h-4.rounded-sm').click()"
   ]
  },
  {
   "cell_type": "code",
   "execution_count": null,
   "id": "69aece11",
   "metadata": {},
   "outputs": [],
   "source": [
    "    selector_input =\"#__next input[type='date']\"\n",
    "    input_tag = driver.find_elements(By.CSS_SELECTOR, selector_input)\n",
    "    \n",
    "    start_element = input_tag[0]\n",
    "    end_element = input_tag[1]\n",
    "    \n",
    "# 아래의 3단계로 날짜 입력해야 원하는 값이 입력됨.\n",
    "# 이유는 모르지만 flexbox내에 input tag가 두 개가 있고, 사이즈 변화에 따라 input value가 바뀌는 것 같음.\n",
    "#     end_date1 = end_date + \"1\" # 마지막 값을 추가해서 value 값을 ''으로 바꿈. 왜 그런지는 모르겠음.\n",
    "    end_date1 = \"2023-19-281\" # 마지막 값을 추가해서 value 값을 ''으로 바꿈. 왜 그런지는 모르겠음. bit 수와 관련이 있을까?\n",
    "    end_element.send_keys(end_date1) # 맨처음 value값을 ''으로 바꿈\n",
    "    time.sleep(0.5)\n",
    "    input(\"--- wait and hit button\")\n",
    "    \n",
    "    start_element.send_keys(start_date) # 두번째로 시작일자 입력\n",
    "    time.sleep(0.5)\n",
    "    input(\"--- wait and hit button\")\n",
    "\n",
    "    end_element.send_keys(end_date) # 세번째 마지막으로 마감일자 입력 \n",
    "    time.sleep(0.5)\n",
    "    input(\"--- wait and hit button\")\n",
    "\n",
    "    driver.find_element(By.CSS_SELECTOR, 'span.w-4.h-4.rounded-sm').click()\n",
    "    time.sleep(1)"
   ]
  },
  {
   "cell_type": "code",
   "execution_count": null,
   "id": "9c254e39",
   "metadata": {},
   "outputs": [],
   "source": []
  },
  {
   "cell_type": "code",
   "execution_count": null,
   "id": "46a5a19d",
   "metadata": {},
   "outputs": [],
   "source": []
  },
  {
   "cell_type": "code",
   "execution_count": null,
   "id": "f4b1ba81",
   "metadata": {},
   "outputs": [],
   "source": []
  },
  {
   "cell_type": "code",
   "execution_count": null,
   "id": "51a8dad8",
   "metadata": {},
   "outputs": [],
   "source": []
  },
  {
   "cell_type": "code",
   "execution_count": null,
   "id": "2b4096a6",
   "metadata": {},
   "outputs": [],
   "source": []
  },
  {
   "cell_type": "code",
   "execution_count": null,
   "id": "34e61876",
   "metadata": {},
   "outputs": [],
   "source": [
    "us_bond_10yr_url = 'https://www.investing.com/rates-bonds/u.s.-10-year-bond-yield-historical-data'\n",
    "driver.get(us_bond_10yr_url)\n",
    "time.sleep(1)\n",
    "\n",
    "df = get_table_df(start_date, today_str)\n",
    "\n",
    "df['Change %'] = df['Change %'].str[:-1].astype('float')\n",
    "\n",
    "us_10yr = ['date', 'bond_usa_10', 'open', 'high', 'low', 'bond_usa_10_cr']\n",
    "df.columns = us_10yr\n",
    "\n",
    "pkl_name = 'us_10yr_bond.pkl'\n",
    "\n",
    "save_dataframe(df, pkl_name)"
   ]
  },
  {
   "cell_type": "code",
   "execution_count": null,
   "id": "16f22fbd",
   "metadata": {},
   "outputs": [],
   "source": [
    "us_bond_2yr_url = 'https://www.investing.com/rates-bonds/u.s.-2-year-bond-yield-historical-data'\n",
    "driver.get(us_bond_2yr_url)\n",
    "time.sleep(1)\n",
    "\n",
    "df = get_table_df(start_date, today_str)\n",
    "\n",
    "df['Change %'] = df['Change %'].str[:-1].astype('float')\n",
    "\n",
    "us_2yr = ['date', 'bond_usa_2', 'open', 'high', 'low', 'bond_usa_2_cr']\n",
    "df.columns = us_2yr\n",
    "\n",
    "pkl_name = 'us_2yr_bond.pkl'\n",
    "\n",
    "save_dataframe(df, pkl_name)"
   ]
  },
  {
   "cell_type": "code",
   "execution_count": null,
   "id": "76b760dc",
   "metadata": {},
   "outputs": [],
   "source": [
    "us_bond_3mon_url = 'https://www.investing.com/rates-bonds/u.s.-3-month-bond-yield-historical-data'\n",
    "driver.get(us_bond_3mon_url)\n",
    "time.sleep(1)\n",
    "\n",
    "df = get_table_df(start_date, today_str)\n",
    "\n",
    "df['Change %'] = df['Change %'].str[:-1].astype('float')\n",
    "\n",
    "us_3mon = ['date', 'bond_usa_3m', 'open', 'high', 'low', 'bond_usa_3m_cr']\n",
    "\n",
    "df.columns = us_3mon\n",
    "\n",
    "pkl_name = 'us_3mon_bond.pkl'\n",
    "\n",
    "save_dataframe(df, pkl_name)"
   ]
  },
  {
   "cell_type": "code",
   "execution_count": null,
   "id": "97d6bb11",
   "metadata": {},
   "outputs": [],
   "source": [
    "kosdaq_url = 'https://www.investing.com/indices/kosdaq-historical-data'\n",
    "driver.get(kosdaq_url)\n",
    "time.sleep(1)\n",
    "\n",
    "df = get_table_df(start_date, today_str)\n",
    "\n",
    "df['Vol.'] = df['Vol.'].str[:-1].astype('float')\n",
    "df['Change %'] = df['Change %'].str[:-1].astype('float')\n",
    "\n",
    "kosdaq = ['date', 'kosdaq', 'open', 'high', 'low', 'volume', 'kosdaq_cr']\n",
    "\n",
    "df.columns = kosdaq\n",
    "\n",
    "pkl_name = 'kosdaq.pkl'\n",
    "\n",
    "save_dataframe(df, pkl_name)"
   ]
  },
  {
   "cell_type": "code",
   "execution_count": null,
   "id": "290740d4",
   "metadata": {},
   "outputs": [],
   "source": [
    "kospi_url = 'https://www.investing.com/indices/kospi-historical-data'\n",
    "driver.get(kospi_url)\n",
    "time.sleep(1)\n",
    "\n",
    "df = get_table_df(start_date, today_str)\n",
    "\n",
    "df['Vol.'] = df['Vol.'].str[:-1].astype('float')\n",
    "df['Change %'] = df['Change %'].str[:-1].astype('float')\n",
    "\n",
    "kospi = ['date', 'kospi', 'open', 'high', 'low', 'volume', 'kospi_cr']\n",
    "\n",
    "df.columns = kospi\n",
    "\n",
    "pkl_name = 'kospi.pkl'\n",
    "\n",
    "save_dataframe(df, pkl_name)"
   ]
  },
  {
   "cell_type": "code",
   "execution_count": null,
   "id": "5af6a5d5",
   "metadata": {},
   "outputs": [],
   "source": [
    "snp_futures_url = 'https://www.investing.com/indices/us-spx-500-futures-historical-data'\n",
    "driver.get(snp_futures_url)\n",
    "time.sleep(1)\n",
    "\n",
    "df = get_table_df(start_date, today_str)\n",
    "\n",
    "df['Vol.'] = df['Vol.'].str[:-1].astype('float')\n",
    "df['Change %'] = df['Change %'].str[:-1].astype('float')\n",
    "\n",
    "snp_future = ['date', 'spx_f', 'open', 'high', 'low', 'volume', 'spx_f_cr']\n",
    "\n",
    "df.columns = snp_future\n",
    "\n",
    "pkl_name = 'snp_future.pkl'\n",
    "\n",
    "save_dataframe(df, pkl_name)"
   ]
  },
  {
   "cell_type": "code",
   "execution_count": null,
   "id": "da73703b",
   "metadata": {},
   "outputs": [],
   "source": [
    "nas_futures_url = 'https://www.investing.com/indices/nq-100-futures-historical-data'\n",
    "driver.get(nas_futures_url)\n",
    "time.sleep(1)\n",
    "\n",
    "df = get_table_df(start_date, today_str)\n",
    "\n",
    "df['Vol.'] = df['Vol.'].str[:-1].astype('float')\n",
    "df['Change %'] = df['Change %'].str[:-1].astype('float')\n",
    "\n",
    "ixic_future = ['date', 'ixic_f', 'open', 'high', 'low', 'volume', 'ixic_f_cr']\n",
    "\n",
    "df.columns = ixic_future\n",
    "\n",
    "pkl_name = 'ixic_future.pkl'\n",
    "\n",
    "save_dataframe(df, pkl_name)"
   ]
  },
  {
   "cell_type": "code",
   "execution_count": null,
   "id": "5b4dfc7d",
   "metadata": {},
   "outputs": [],
   "source": [
    "dow_futures_url = 'https://www.investing.com/indices/us-30-futures-historical-data'\n",
    "driver.get(dow_futures_url)\n",
    "time.sleep(1)\n",
    "\n",
    "df = get_table_df(start_date, today_str)\n",
    "\n",
    "df['Vol.'] = df['Vol.'].str[:-1].astype('float')\n",
    "df['Change %'] = df['Change %'].str[:-1].astype('float')\n",
    "\n",
    "dji_future = ['date', 'dji_f', 'open', 'high', 'low', 'volume', 'dji_f_cr']\n",
    "\n",
    "df.columns = dji_future\n",
    "\n",
    "pkl_name = 'dji_future.pkl'\n",
    "\n",
    "save_dataframe(df, pkl_name)"
   ]
  },
  {
   "cell_type": "code",
   "execution_count": null,
   "id": "08561f5a",
   "metadata": {},
   "outputs": [],
   "source": [
    "wti_futures_url = 'https://www.investing.com/commodities/crude-oil-historical-data'\n",
    "driver.get(wti_futures_url)\n",
    "time.sleep(1)\n",
    "\n",
    "df = get_table_df(start_date, today_str)\n",
    "\n",
    "df['Vol.'] = df['Vol.'].str[:-1].astype('float')\n",
    "df['Change %'] = df['Change %'].str[:-1].astype('float')\n",
    "\n",
    "wti_future = ['date', 'wti', 'open', 'high', 'low', 'volume', 'wti_cr']\n",
    "\n",
    "df.columns = wti_future\n",
    "\n",
    "pkl_name = 'wti_future.pkl'\n",
    "\n",
    "save_dataframe(df, pkl_name)"
   ]
  },
  {
   "cell_type": "code",
   "execution_count": null,
   "id": "fcf4500c",
   "metadata": {},
   "outputs": [],
   "source": [
    "dollar_index_url = 'https://www.investing.com/indices/usdollar-historical-data'\n",
    "driver.get(dollar_index_url)\n",
    "time.sleep(1)\n",
    "\n",
    "df = get_table_df(start_date, today_str)\n",
    "\n",
    "df['Change %'] = df['Change %'].str[:-1].astype('float')\n",
    "\n",
    "dxy_future = ['date', 'dxy', 'open', 'high', 'low', 'volume', 'dxy_cr']\n",
    "\n",
    "df.columns = dxy_future\n",
    "\n",
    "pkl_name = 'dxy_future.pkl'\n",
    "\n",
    "save_dataframe(df, pkl_name)"
   ]
  },
  {
   "cell_type": "code",
   "execution_count": null,
   "id": "7771e0ad",
   "metadata": {},
   "outputs": [],
   "source": [
    "ixf_url = 'https://www.investing.com/indices/nasdaq-financial-100-historical-data'\n",
    "driver.get(ixf_url)\n",
    "time.sleep(1)\n",
    "\n",
    "df = get_table_df(start_date, today_str)\n",
    "\n",
    "df['Change %'] = df['Change %'].str[:-1].astype('float')\n",
    "\n",
    "ixf = ['date', 'ixf', 'open', 'high', 'low', 'volume', 'ixf_cr']\n",
    "\n",
    "df.columns = ixf\n",
    "\n",
    "pkl_name = 'ixf.pkl'\n",
    "\n",
    "save_dataframe(df, pkl_name)"
   ]
  },
  {
   "cell_type": "code",
   "execution_count": null,
   "id": "7452626d",
   "metadata": {},
   "outputs": [],
   "source": [
    "qnet_url = 'https://www.investing.com/indices/nasdaq-internet-historical-data'\n",
    "driver.get(qnet_url)\n",
    "time.sleep(1)\n",
    "\n",
    "df = get_table_df(start_date, today_str)\n",
    "\n",
    "df['Change %'] = df['Change %'].str[:-1].astype('float')\n",
    "\n",
    "qnet = ['date', 'qnet', 'open', 'high', 'low', 'volume', 'qnet_cr']\n",
    "\n",
    "df.columns = qnet\n",
    "\n",
    "pkl_name = 'qnet.pkl'\n",
    "\n",
    "save_dataframe(df, pkl_name)"
   ]
  },
  {
   "cell_type": "code",
   "execution_count": null,
   "id": "471e1622",
   "metadata": {},
   "outputs": [],
   "source": [
    "driver.close()\n",
    "driver.quit()"
   ]
  },
  {
   "cell_type": "code",
   "execution_count": null,
   "id": "67f6eeb6",
   "metadata": {},
   "outputs": [],
   "source": [
    "# 원하는 기간 사이 데이터가 취득되었는지 확인하기 위하여 file size 확인용 로직 추가 필요"
   ]
  },
  {
   "cell_type": "code",
   "execution_count": null,
   "id": "4419dab7",
   "metadata": {},
   "outputs": [],
   "source": [
    "# 최초 driver 가 9번 10yr 할때 왜 중복 download 되는 것을 확인해야 함."
   ]
  },
  {
   "cell_type": "code",
   "execution_count": null,
   "id": "4b3befc1",
   "metadata": {},
   "outputs": [],
   "source": [
    "my_string = \"Hello world, Python\"\n",
    "print(my_string)\n",
    "\n",
    "result = bytes(my_string, 'utf-8')\n",
    "print(result)\n",
    "print(type(result))"
   ]
  },
  {
   "cell_type": "code",
   "execution_count": null,
   "id": "55af2fa1",
   "metadata": {},
   "outputs": [],
   "source": [
    "my_string = 'Hello world, Python'\n",
    "print(my_string)\n",
    "\n",
    "result = my_string.encode('utf-8')\n",
    "print(result)\n",
    "print(type(result))"
   ]
  },
  {
   "cell_type": "code",
   "execution_count": null,
   "id": "df3d0552",
   "metadata": {},
   "outputs": [],
   "source": [
    "# bytes\n",
    "bytes = b'Hello world, Python'\n",
    "print(bytes)\n",
    "print(type(bytes))\n",
    "\n",
    "# decode bytes to string\n",
    "result = bytes.decode('utf-8')\n",
    "print(result)\n",
    "print(type(result))"
   ]
  },
  {
   "cell_type": "code",
   "execution_count": null,
   "id": "c6405f9c",
   "metadata": {},
   "outputs": [],
   "source": [
    "selector_input =\"#__next input[type='date']\"\n",
    "input_tag = driver.find_elements(By.CSS_SELECTOR, selector_input)\n",
    "\n",
    "start_element = input_tag[0]\n",
    "end_element = input_tag[1]\n",
    "\n",
    "start_date = \"2021-12-20\""
   ]
  },
  {
   "cell_type": "code",
   "execution_count": null,
   "id": "f7de3bd0",
   "metadata": {},
   "outputs": [],
   "source": [
    "end_date = \"2024-02-29\""
   ]
  },
  {
   "cell_type": "code",
   "execution_count": null,
   "id": "ff87a8e2",
   "metadata": {},
   "outputs": [],
   "source": [
    "end_element.clear()\n",
    "end_element.send_keys(end_date) "
   ]
  },
  {
   "cell_type": "code",
   "execution_count": null,
   "id": "3329d137",
   "metadata": {},
   "outputs": [],
   "source": [
    "end_element.get_attribute(\"value\") != end_date"
   ]
  },
  {
   "cell_type": "code",
   "execution_count": null,
   "id": "ae3774e9",
   "metadata": {},
   "outputs": [],
   "source": [
    "start_element.clear()\n",
    "start_element.send_keys(start_date)"
   ]
  },
  {
   "cell_type": "code",
   "execution_count": null,
   "id": "2dd06d3d",
   "metadata": {},
   "outputs": [],
   "source": [
    "end_date"
   ]
  },
  {
   "cell_type": "code",
   "execution_count": null,
   "id": "4918b454",
   "metadata": {},
   "outputs": [],
   "source": [
    "end_element.get_attribute(\"value\")"
   ]
  },
  {
   "cell_type": "code",
   "execution_count": null,
   "id": "d03b2a5a",
   "metadata": {},
   "outputs": [],
   "source": [
    "end_element.get_attribute(\"value\") "
   ]
  },
  {
   "cell_type": "code",
   "execution_count": null,
   "id": "5357297e",
   "metadata": {},
   "outputs": [],
   "source": [
    "1 != 1"
   ]
  },
  {
   "cell_type": "code",
   "execution_count": null,
   "id": "c97336d6",
   "metadata": {},
   "outputs": [],
   "source": [
    "while 1> 0:\n",
    "    print(\"ttt\")\n",
    "    break"
   ]
  },
  {
   "cell_type": "code",
   "execution_count": 2,
   "id": "5459cbd6",
   "metadata": {},
   "outputs": [
    {
     "name": "stdout",
     "output_type": "stream",
     "text": [
      "0\n",
      "1\n"
     ]
    }
   ],
   "source": [
    "for i in range(2):\n",
    "    print(i)\n",
    "\n"
   ]
  },
  {
   "cell_type": "code",
   "execution_count": 5,
   "id": "29b7502d",
   "metadata": {},
   "outputs": [
    {
     "data": {
      "text/plain": [
       "True"
      ]
     },
     "execution_count": 5,
     "metadata": {},
     "output_type": "execute_result"
    }
   ],
   "source": [
    "1 == 1"
   ]
  },
  {
   "cell_type": "code",
   "execution_count": 13,
   "id": "2807d33d",
   "metadata": {},
   "outputs": [
    {
     "ename": "Exception",
     "evalue": "Error assigning start date, end date",
     "output_type": "error",
     "traceback": [
      "\u001b[1;31m---------------------------------------------------------------------------\u001b[0m",
      "\u001b[1;31mException\u001b[0m                                 Traceback (most recent call last)",
      "Cell \u001b[1;32mIn [13], line 4\u001b[0m\n\u001b[0;32m      2\u001b[0m date_TF \u001b[38;5;241m=\u001b[39m \u001b[38;5;28;01mFalse\u001b[39;00m\n\u001b[0;32m      3\u001b[0m \u001b[38;5;28;01mif\u001b[39;00m ((num_range \u001b[38;5;241m-\u001b[39m \u001b[38;5;241m1\u001b[39m) \u001b[38;5;241m==\u001b[39m i) \u001b[38;5;129;01mand\u001b[39;00m ( \u001b[38;5;129;01mnot\u001b[39;00m date_TF) :\n\u001b[1;32m----> 4\u001b[0m                 \u001b[38;5;28;01mraise\u001b[39;00m \u001b[38;5;167;01mException\u001b[39;00m(\u001b[38;5;124m\"\u001b[39m\u001b[38;5;124mError assigning start date, end date\u001b[39m\u001b[38;5;124m\"\u001b[39m)\n",
      "\u001b[1;31mException\u001b[0m: Error assigning start date, end date"
     ]
    }
   ],
   "source": [
    "num_range = 2\n",
    "date_TF = False\n",
    "if ((num_range - 1) == i) and ( not date_TF) :\n",
    "                raise Exception(\"Error assigning start date, end date\")"
   ]
  },
  {
   "cell_type": "code",
   "execution_count": 11,
   "id": "82e55626",
   "metadata": {},
   "outputs": [
    {
     "data": {
      "text/plain": [
       "True"
      ]
     },
     "execution_count": 11,
     "metadata": {},
     "output_type": "execute_result"
    }
   ],
   "source": [
    "date_TF = False\n",
    "not date_TF"
   ]
  },
  {
   "cell_type": "code",
   "execution_count": null,
   "id": "2151cb0e",
   "metadata": {},
   "outputs": [],
   "source": []
  }
 ],
 "metadata": {
  "kernelspec": {
   "display_name": "Python 3 (ipykernel)",
   "language": "python",
   "name": "python3"
  },
  "language_info": {
   "codemirror_mode": {
    "name": "ipython",
    "version": 3
   },
   "file_extension": ".py",
   "mimetype": "text/x-python",
   "name": "python",
   "nbconvert_exporter": "python",
   "pygments_lexer": "ipython3",
   "version": "3.12.2"
  }
 },
 "nbformat": 4,
 "nbformat_minor": 5
}
