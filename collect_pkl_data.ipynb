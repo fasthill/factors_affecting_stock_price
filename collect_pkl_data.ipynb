{
 "cells": [
  {
   "cell_type": "code",
   "execution_count": 7,
   "id": "9a5e1dd0",
   "metadata": {},
   "outputs": [],
   "source": [
    "# from bs4 import BeautifulSoup as bs\n",
    "import requests\n",
    "import datetime, time\n",
    "import pickle\n",
    "\n",
    "import pandas as pd\n",
    "import numpy as np\n",
    "\n",
    "import os\n",
    "import shutil\n",
    "\n",
    "import matplotlib.pyplot as plt"
   ]
  },
  {
   "cell_type": "code",
   "execution_count": 13,
   "id": "c0407024",
   "metadata": {},
   "outputs": [],
   "source": [
    "def read_pickle(pkl_name):\n",
    "# 데이터 로드\n",
    "    pkl_directory0 = 'data/company_pkl/temp/'\n",
    "    pkl_directory1 = 'data/company_pkl/old/'\n",
    "    df0 = pd.read_pickle(pkl_directory0+pkl_name)\n",
    "    df1 = pd.read_pickle(pkl_directory1+pkl_name)\n",
    "    \n",
    "    return df0, df1"
   ]
  },
  {
   "cell_type": "code",
   "execution_count": 14,
   "id": "46879105",
   "metadata": {},
   "outputs": [],
   "source": [
    "def concat_df(df0, df1):\n",
    "    df = pd.concat([df0, df1], ignore_index=True)\n",
    "    df.drop_duplicates(subset=['date'], keep='first', inplace=True)\n",
    "    df.sort_values(by=[df.columns[0]], inplace=True)\n",
    "    df.index = np.arange(0, len(df))  # 일련 번호 오름차순으로 재 설정\n",
    "    return df"
   ]
  },
  {
   "cell_type": "code",
   "execution_count": 15,
   "id": "4c35d0ae",
   "metadata": {},
   "outputs": [],
   "source": [
    "def make_pickle(df, pkl_name):\n",
    "    pkl_directory = 'data/company_pkl/new/'\n",
    "    try:\n",
    "        if not os.path.exists(pkl_directory):\n",
    "            os.makedirs(pkl_directory)\n",
    "    except OSError:\n",
    "        print(\"Error: Failed to create the directory.\")\n",
    "\n",
    "    # 데이터 저장: ../data/spx.pkl\n",
    "    df.to_pickle(pkl_directory+pkl_name)\n",
    "    df.to_csv(pkl_directory+pkl_name.replace('pkl', 'csv'))"
   ]
  },
  {
   "cell_type": "code",
   "execution_count": 16,
   "id": "27cc3f45",
   "metadata": {},
   "outputs": [],
   "source": [
    "code = {'005930' : ['삼성전자', 'sec'], '373220' : ['LG에너지솔루션', 'lgenergy'], \n",
    "        '000660' : ['SK하이닉스', 'skhinix'], '207940' : ['삼성바이오로직스', 'ssbio'],\n",
    "        '006400' : ['삼성SDI', 'sdi'], '051910' : ['LG화학', 'lgchemical'],\n",
    "        '005935' : ['삼성전자우', 'secpre'], '005380' : ['현대차', 'hyunmotor'],\n",
    "        '035420' : ['NAVER', 'naver'], '000270' : ['기아','kia'],\n",
    "        '035720' : ['카카오', 'kakao'], '005490' : ['POSCO홀딩스', 'poscoholding'],\n",
    "        '105560' : ['KB금융', 'kbbank'], '028260' : ['삼성물산', 'sscnt'],\n",
    "        '068270' : ['셀트리온', 'celltrion'], '012330' : ['현대모비스', 'mobis'],\n",
    "        '055550' : ['신한지주', 'shgroup'], '066570' : ['LG전자', 'lgelec'],\n",
    "        '003670' : ['포스코케미칼', 'poscochemical'], '096770' : ['SK이노베이션', 'skinnovation'],\n",
    "        '033780' : ['KT&G', 'ktng']}\n"
   ]
  },
  {
   "cell_type": "code",
   "execution_count": 17,
   "id": "81695fb8",
   "metadata": {},
   "outputs": [],
   "source": [
    "for key, val in code.items():\n",
    "    pkl_name= '{}_historical.pkl'.format(val[1])\n",
    "    df0, df1 = read_pickle(pkl_name)\n",
    "    df = concat_df(df0, df1)\n",
    "    make_pickle(df, pkl_name)"
   ]
  },
  {
   "cell_type": "code",
   "execution_count": null,
   "id": "7d11072f",
   "metadata": {},
   "outputs": [],
   "source": []
  }
 ],
 "metadata": {
  "kernelspec": {
   "display_name": "Python 3 (ipykernel)",
   "language": "python",
   "name": "python3"
  },
  "language_info": {
   "codemirror_mode": {
    "name": "ipython",
    "version": 3
   },
   "file_extension": ".py",
   "mimetype": "text/x-python",
   "name": "python",
   "nbconvert_exporter": "python",
   "pygments_lexer": "ipython3",
   "version": "3.9.1"
  }
 },
 "nbformat": 4,
 "nbformat_minor": 5
}
