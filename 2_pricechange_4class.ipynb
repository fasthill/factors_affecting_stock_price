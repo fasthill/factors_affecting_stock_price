{
 "cells": [
  {
   "cell_type": "markdown",
   "id": "f051084f",
   "metadata": {},
   "source": [
    "### class 분류\n",
    "#### 하루 주가 변동 분류\n",
    "  - 1: 오전 max 오전 min, 2: 오전 max 오후 min, 3: 오전 min, 오후 max, 4: 오후 max,  오후 min"
   ]
  },
  {
   "cell_type": "code",
   "execution_count": 1,
   "id": "b930a6de",
   "metadata": {},
   "outputs": [],
   "source": [
    "import datetime, time\n",
    "from datetime import date\n",
    "\n",
    "import pandas as pd\n",
    "import numpy as np\n",
    "\n",
    "from sklearn.preprocessing import StandardScaler"
   ]
  },
  {
   "cell_type": "code",
   "execution_count": 2,
   "id": "08a12f00",
   "metadata": {},
   "outputs": [],
   "source": [
    "def read_pickle(com_name, date_range_ts):\n",
    "    class_val = []\n",
    "    for f_date in date_range_ts :\n",
    "        f_name = '{}/{}_10min_price_{}.pkl'.format(pkl_directory, com_name, f_date.strftime('%Y%m%d'))\n",
    "        try : \n",
    "            df = pd.read_pickle(f_name)\n",
    "            class_num = classify_into_4(df)\n",
    "            d_c_temp = [f_date.strftime('%Y-%m-%d'), class_num]\n",
    "            class_val.append(d_c_temp)\n",
    "        except :\n",
    "            d_c_temp = [f_date.strftime('%Y-%m-%d'), 0] # 시간대별 데이터가 없는 자료는 전부 0으로 처리\n",
    "            class_val.append(d_c_temp)\n",
    "            continue\n",
    "            \n",
    "    return class_val"
   ]
  },
  {
   "cell_type": "code",
   "execution_count": 3,
   "id": "09d07192",
   "metadata": {},
   "outputs": [],
   "source": [
    "def classify_into_4(df):\n",
    "    df_new = df[(df['time'].astype(str) >= '09:00:00') & (df['time'].astype(str) <= '15:30:00')]\n",
    "    #  9시 30분(미포함) 이전 제외, 오후 3시 30분(포함) 이후 제외 후 최고가 시간, 최저가 시간 비교\n",
    "#     df_c = df_new['time'].astype(str).copy() #timestampe에서 str로 변환 (크기 비교를 하기 위하여)\n",
    "#     df_new['time'] =  df_c\n",
    "    time_max = str(df_new[df_new['price'] == df_new['price'].max()]['time'].iloc[0]) # str() change datetime.time to string\n",
    "    time_min = str(df_new[df_new['price'] == df_new['price'].min()]['time'].iloc[0])\n",
    "    time_criteria = '12:00:00'\n",
    "    if (time_max <= time_criteria) & (time_min <= time_criteria):\n",
    "        class_num = 1\n",
    "    elif (time_max <= time_criteria) & (time_min >= time_criteria):\n",
    "        class_num = 2\n",
    "    elif (time_max >= time_criteria) & (time_min <= time_criteria):\n",
    "        class_num = 3\n",
    "    elif (time_max >= time_criteria) & (time_min >= time_criteria):\n",
    "        class_num = 4\n",
    "    # : 오전 max 오전 min, 2: 오전 max 오후 min, 3: 오전 min, 오후 max, 4: 오후 man,  오후 min\n",
    "    return class_num"
   ]
  },
  {
   "cell_type": "code",
   "execution_count": 4,
   "id": "a1f53561",
   "metadata": {},
   "outputs": [],
   "source": [
    "code_o = {'005930': ['삼성전자', 'sec'], '005380': ['현대차', 'hyunmotor'],\n",
    "                 '035420': ['NAVER', 'naver'], '033780': ['KT&G', 'ktng']}\n",
    "\n",
    "code = {'005930' : ['삼성전자', 'sec'], '373220' : ['LG에너지솔루션', 'lgenergy'], \n",
    "        '000660' : ['SK하이닉스', 'skhinix'], '207940' : ['삼성바이오로직스', 'ssbio'],\n",
    "        '006400' : ['삼성SDI', 'sdi'], '051910' : ['LG화학', 'lgchemical'],\n",
    "        '005935' : ['삼성전자우', 'secpre'], '005380' : ['현대차', 'hyunmotor'],\n",
    "        '035420' : ['NAVER', 'naver'], '000270' : ['기아','kia'],\n",
    "        '035720' : ['카카오', 'kakao'], '005490' : ['POSCO홀딩스', 'poscoholding'],\n",
    "        '105560' : ['KB금융', 'kbbank'], '028260' : ['삼성물산', 'sscnt'],\n",
    "        '068270' : ['셀트리온', 'celltrion'], '012330' : ['현대모비스', 'mobis'],\n",
    "        '055550' : ['신한지주', 'shgroup'], '066570' : ['LG전자', 'lgelec'],\n",
    "        '003670' : ['포스코케미칼', 'poscochemical'], '096770' : ['SK이노베이션', 'skinnovation'],\n",
    "        '033780' : ['KT&G', 'ktng']}\n",
    "\n",
    "# code = {'005930': ['삼성전자', 'sec']}"
   ]
  },
  {
   "cell_type": "code",
   "execution_count": 5,
   "id": "e7734db7",
   "metadata": {},
   "outputs": [],
   "source": [
    "start_date = '20220101'\n",
    "end_date = datetime.date.today() - datetime.timedelta(days = 1) # 오늘날짜 하루전까지\n",
    "date_range_ts = pd.date_range(start=start_date, end=end_date)\n",
    "pkl_directory = './data/company_daily_price_pkl'"
   ]
  },
  {
   "cell_type": "code",
   "execution_count": 6,
   "id": "3c66244c",
   "metadata": {},
   "outputs": [],
   "source": [
    "directory_for_ml = './data/data_for_ml/'\n",
    "for key, val in code.items():\n",
    "    class_val = read_pickle(val[1], date_range_ts)\n",
    "    df = pd.DataFrame(class_val)\n",
    "    df.columns = ['date', 'value']\n",
    "    df.to_pickle(directory_for_ml + val[1] + '_4class.pkl')"
   ]
  },
  {
   "cell_type": "code",
   "execution_count": null,
   "id": "27a835c3",
   "metadata": {},
   "outputs": [],
   "source": []
  }
 ],
 "metadata": {
  "kernelspec": {
   "display_name": "Python 3 (ipykernel)",
   "language": "python",
   "name": "python3"
  },
  "language_info": {
   "codemirror_mode": {
    "name": "ipython",
    "version": 3
   },
   "file_extension": ".py",
   "mimetype": "text/x-python",
   "name": "python",
   "nbconvert_exporter": "python",
   "pygments_lexer": "ipython3",
   "version": "3.10.7"
  }
 },
 "nbformat": 4,
 "nbformat_minor": 5
}
