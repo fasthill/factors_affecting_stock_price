{
 "cells": [
  {
   "cell_type": "code",
   "execution_count": 1,
   "id": "b6071c61",
   "metadata": {},
   "outputs": [],
   "source": [
    "from selenium import webdriver as wd\n",
    "from bs4 import BeautifulSoup as bs\n",
    "import requests\n",
    "import time\n",
    "import os, sys"
   ]
  },
  {
   "cell_type": "code",
   "execution_count": 2,
   "id": "983181b0",
   "metadata": {},
   "outputs": [
    {
     "data": {
      "text/plain": [
       "'c:\\\\users\\\\user\\\\appdata\\\\local\\\\programs\\\\python\\\\python39\\\\lib\\\\site-packages\\\\chromedriver_autoinstaller\\\\101\\\\chromedriver.exe'"
      ]
     },
     "execution_count": 2,
     "metadata": {},
     "output_type": "execute_result"
    }
   ],
   "source": [
    "# !pip install chromedriver_autoinstaller\n",
    "\n",
    "import chromedriver_autoinstaller\n",
    "\n",
    "chromedriver_autoinstaller.install()  # Check if the current version of chromedriver exists\n",
    "                                      # and if it doesn't exist, download it automatically,\n",
    "                                      # then add chromedriver to path"
   ]
  },
  {
   "cell_type": "code",
   "execution_count": 3,
   "id": "28cd94a6",
   "metadata": {},
   "outputs": [],
   "source": [
    "time.sleep(1)\n",
    "# driver = webdriver.Chrome()\n",
    "# driver.get(\"http://www.python.org\")\n",
    "# assert \"Python\" in driver.title\n",
    "\n",
    "cd_path = 'C:/Users/user/AppData/Local/Programs/Python/Python39/Lib/site-packages/chromedriver_autoinstaller/94/'\n",
    "main_url = 'https://kr.investing.com/commodities/crude-oil-historical-data'\n",
    "\n",
    "if getattr(sys, 'frozen', False ):\n",
    "   # chromedriver_path = os.path.join(sys._MEIPASS, cd_path+\"chromedriver.exe\")\n",
    "    chromedriver_path = os.path.join(sys._MEIPASS,cd_path+ \"chromedriver.exe\")\n",
    "    #chromedriver_path = cd_path+\"chromedriver.exe\"\n",
    "    driver = wd.Chrome(chromedriver_path)\n",
    "else:\n",
    "    driver = wd.Chrome()"
   ]
  },
  {
   "cell_type": "code",
   "execution_count": 4,
   "id": "29e69d53",
   "metadata": {},
   "outputs": [],
   "source": [
    "# driver.set_window_position(-10000,0) # hide windows\n",
    "driver.get(main_url)\n",
    "time.sleep(1)"
   ]
  },
  {
   "cell_type": "code",
   "execution_count": 5,
   "id": "49e9ae39",
   "metadata": {},
   "outputs": [],
   "source": [
    "driver.find_element_by_css_selector('#userAccount > div > a.login.bold').click() \n",
    "# driver.find_element_by_id('userAccount').send_keys('A03185')\n",
    "#userAccount > div > a.login.bold\n",
    "time.sleep(1)"
   ]
  },
  {
   "cell_type": "code",
   "execution_count": 6,
   "id": "c73ced78",
   "metadata": {},
   "outputs": [],
   "source": [
    "driver.find_element_by_id('loginForm_password').clear()\n",
    "driver.find_element_by_id('loginFormUser_email').send_keys('kangeun@naver.com')\n",
    "time.sleep(1)"
   ]
  },
  {
   "cell_type": "code",
   "execution_count": 7,
   "id": "1424801c",
   "metadata": {},
   "outputs": [],
   "source": [
    "driver.find_element_by_id('loginForm_password').clear()\n",
    "driver.find_element_by_id('loginForm_password').send_keys(os.environ['investing_pass'])\n",
    "time.sleep(1)"
   ]
  },
  {
   "cell_type": "code",
   "execution_count": null,
   "id": "92f0efb9",
   "metadata": {},
   "outputs": [],
   "source": [
    "driver.find_element_by_css_selector('#signup > a.newButton.orange').click()  \n",
    "time.sleep(2)"
   ]
  },
  {
   "cell_type": "code",
   "execution_count": 9,
   "id": "3a134b86",
   "metadata": {},
   "outputs": [],
   "source": [
    "driver.find_element_by_css_selector('#widgetFieldDateRange').click()"
   ]
  },
  {
   "cell_type": "code",
   "execution_count": 10,
   "id": "024009f3",
   "metadata": {},
   "outputs": [],
   "source": [
    "driver.find_element_by_id('startDate').clear()\n",
    "driver.find_element_by_id('startDate').send_keys('2022/04/20')"
   ]
  },
  {
   "cell_type": "code",
   "execution_count": 11,
   "id": "37ea9378",
   "metadata": {},
   "outputs": [],
   "source": [
    "driver.find_element_by_id('endDate').clear()\n",
    "driver.find_element_by_id('endDate').send_keys('2022/05/19')"
   ]
  },
  {
   "cell_type": "code",
   "execution_count": 12,
   "id": "b20f5011",
   "metadata": {},
   "outputs": [],
   "source": [
    "driver.find_element_by_css_selector('#applyBtn').click()"
   ]
  },
  {
   "cell_type": "code",
   "execution_count": 13,
   "id": "9a02c395",
   "metadata": {},
   "outputs": [],
   "source": [
    "data_download_sec = '#column-content > div.float_lang_base_2.downloadDataWrap > div > a'\n",
    "driver.find_element_by_css_selector(data_download_sec).click()"
   ]
  },
  {
   "cell_type": "code",
   "execution_count": 5,
   "id": "839989f9",
   "metadata": {},
   "outputs": [],
   "source": []
  },
  {
   "cell_type": "code",
   "execution_count": 8,
   "id": "16246e75",
   "metadata": {},
   "outputs": [
    {
     "data": {
      "text/plain": [
       "{'2022년 05월 20일': '108.63',\n",
       " '2022년 05월 19일': '109.17',\n",
       " '2022년 05월 18일': '109.59',\n",
       " '2022년 05월 17일': '112.40',\n",
       " '2022년 05월 16일': '114.20',\n",
       " '2022년 05월 13일': '110.49',\n",
       " '2022년 05월 12일': '106.13',\n",
       " '2022년 05월 11일': '105.71',\n",
       " '2022년 05월 10일': '99.76',\n",
       " '2022년 05월 09일': '103.09',\n",
       " '2022년 05월 06일': '109.77',\n",
       " '2022년 05월 05일': '108.26',\n",
       " '2022년 05월 04일': '107.81',\n",
       " '2022년 05월 03일': '102.41',\n",
       " '2022년 05월 02일': '105.17',\n",
       " '2022년 04월 29일': '104.69',\n",
       " '2022년 04월 28일': '105.36',\n",
       " '2022년 04월 27일': '102.02',\n",
       " '2022년 04월 26일': '101.70',\n",
       " '2022년 04월 25일': '98.54',\n",
       " '2022년 04월 22일': '102.07',\n",
       " '2022년 04월 21일': '103.79',\n",
       " '2022년 04월 20일': '102.75'}"
      ]
     },
     "execution_count": 8,
     "metadata": {},
     "output_type": "execute_result"
    }
   ],
   "source": [
    "wti = soup.select('#results_box tr')\n",
    "\n",
    "wti_date_value = {}\n",
    "for i, tr in enumerate(wti):\n",
    "    if (i == 0) | (i == len(wti)-1) : continue\n",
    "    tr_value = tr.select('td')\n",
    "    wti_date_value[tr_value[0].text] = tr_value[1].text\n",
    "    value = tr_value[1].text\n",
    "\n",
    "wti_date_value"
   ]
  },
  {
   "cell_type": "code",
   "execution_count": 14,
   "id": "d4e29b52",
   "metadata": {},
   "outputs": [],
   "source": [
    "driver.close()\n",
    "driver.quit()"
   ]
  },
  {
   "cell_type": "code",
   "execution_count": null,
   "id": "69458896",
   "metadata": {},
   "outputs": [],
   "source": []
  }
 ],
 "metadata": {
  "kernelspec": {
   "display_name": "Python 3",
   "language": "python",
   "name": "python3"
  },
  "language_info": {
   "codemirror_mode": {
    "name": "ipython",
    "version": 3
   },
   "file_extension": ".py",
   "mimetype": "text/x-python",
   "name": "python",
   "nbconvert_exporter": "python",
   "pygments_lexer": "ipython3",
   "version": "3.9.1"
  }
 },
 "nbformat": 4,
 "nbformat_minor": 5
}
