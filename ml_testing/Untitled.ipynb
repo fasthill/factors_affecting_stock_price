{
 "cells": [
  {
   "cell_type": "code",
   "execution_count": null,
   "id": "3ee068e1",
   "metadata": {},
   "outputs": [],
   "source": [
    "code = {'005930' : ['삼성전자', 'sec'], '373220' : ['LG에너지솔루션', 'lgenergy'], \n",
    "        '000660' : ['SK하이닉스', 'skhinix'], '207940' : ['삼성바이오로직스', 'ssbio'],\n",
    "        '006400' : ['삼성SDI', 'sdi'], '051910' : ['LG화학', 'lgchemical'],"
   ]
  },
  {
   "cell_type": "code",
   "execution_count": null,
   "id": "136acf1a",
   "metadata": {},
   "outputs": [],
   "source": [
    "'003550' : ['LG', 'lg']\n",
    "'034730' : ['SK', 'sk']\n",
    "'032830' : ['삼성생명', 'sslife']\n",
    "'086790' : ['하나금융지주', 'hana']\n",
    "'009150' : ['삼성전기', 'sselec']\n",
    "'015760' : ['한국전력', 'koreaelec']\n",
    "'034020' : ['두산에너빌리티', 'doosanener']\n",
    "'010130' : ['고려아연', 'koreazinc']\n",
    "'017670' : ['SK텔레콤', 'sktelecom']\n",
    "'011200' : ['HMM', 'hmm']\n",
    "'000810' : ['삼성화재', 'ssfire']\n",
    "'051900' : ['LG생활건강', 'lglife']\n",
    "'010950' : ['S-Oil', 'soil']\n",
    "'259960' : ['크래프톤', 'crafton']\n",
    "'018260' : ['삼성에스디에스', 'sdi']\n",
    "'329180' : ['현대중공업', 'hhi']\n",
    "'003490' : ['대한항공', 'koreanair']\n",
    "'036570' : ['엔씨소프트', 'ncsoft']\n",
    "'009830' : ['한화솔루션', 'hanhwasol']\n",
    "'316140' : ['우리금융지주', 'woorifg']\n",
    "'090430' : ['아모레퍼시픽', 'amore']\n",
    "'011170' : ['롯데케미칼', 'lottechem']\n",
    "'024110' : ['기업은행', 'ibk']\n",
    "'138040' : ['메리츠금융지주', 'meritz']\n",
    "'377300' : ['카카오페이', 'kakaopay']\n",
    "'011070' : ['LG이노텍', 'lginnotek']\n",
    "'028050' : ['삼성엔지니어링', 'ssengineering']\n",
    "'361610' : ['SK아이이테크놀로지', 'skietech']\n",
    "'086280' : ['현대글로비스', 'glovis']\n",
    "'302440' : ['SK바이오사이언스', 'skbio']"
   ]
  },
  {
   "cell_type": "code",
   "execution_count": 3,
   "id": "4dd80a81",
   "metadata": {},
   "outputs": [],
   "source": [
    "code_sec = {'003550' : ['LG', 'lg'], '034730' : ['SK', 'sk'], \n",
    "        '032830' : ['삼성생명', 'sslife'], '086790' : ['하나금융지주', 'hana'], \n",
    "        '009150' : ['삼성전기', 'sselec'], '015760' : ['한국전력', 'koreaelec'],\n",
    "        '034020' : ['두산에너빌리티', 'doosanener'], '010130' : ['고려아연', 'koreazinc'],\n",
    "        '017670' : ['SK텔레콤', 'sktelecom'], '011200' : ['HMM', 'hmm'],\n",
    "        '000810' : ['삼성화재', 'ssfire'], '051900' : ['LG생활건강', 'lglife'],\n",
    "        '010950' : ['S-Oil', 'soil'], '259960' : ['크래프톤', 'crafton'],\n",
    "        '018260' : ['삼성에스디에스', 'sds'], '329180' : ['현대중공업', 'hhi'],\n",
    "        '003490' : ['대한항공', 'koreanair'], '036570' : ['엔씨소프트', 'ncsoft'],\n",
    "        '009830' : ['한화솔루션', 'hanhwasol'], '316140' : ['우리금융지주', 'woorifg'],\n",
    "        '090430' : ['아모레퍼시픽', 'amore'], '011170' : ['롯데케미칼', 'lottechem'], \n",
    "        '024110' : ['기업은행', 'ibk'], '138040' : ['메리츠금융지주', 'meritz'], \n",
    "        '377300' : ['카카오페이', 'kakaopay'], '011070' : ['LG이노텍', 'lginnotek'],\n",
    "        '028050' : ['삼성엔지니어링', 'ssengineering'], '361610' : ['SK아이이테크놀로지', 'skietech'],\n",
    "        '086280' : ['현대글로비스', 'glovis'], '302440' : ['SK바이오사이언스', 'skbio'],\n",
    "       }"
   ]
  },
  {
   "cell_type": "code",
   "execution_count": 4,
   "id": "8e9ac70b",
   "metadata": {},
   "outputs": [
    {
     "data": {
      "text/plain": [
       "{'003550': ['LG', 'lg'],\n",
       " '034730': ['SK', 'sk'],\n",
       " '032830': ['삼성생명', 'sslife'],\n",
       " '086790': ['하나금융지주', 'hana'],\n",
       " '009150': ['삼성전기', 'sselec'],\n",
       " '015760': ['한국전력', 'koreaelec'],\n",
       " '034020': ['두산에너빌리티', 'doosanener'],\n",
       " '010130': ['고려아연', 'koreazinc'],\n",
       " '017670': ['SK텔레콤', 'sktelecom'],\n",
       " '011200': ['HMM', 'hmm'],\n",
       " '000810': ['삼성화재', 'ssfire'],\n",
       " '051900': ['LG생활건강', 'lglife'],\n",
       " '010950': ['S-Oil', 'soil'],\n",
       " '259960': ['크래프톤', 'crafton'],\n",
       " '018260': ['삼성에스디에스', 'sdi'],\n",
       " '329180': ['현대중공업', 'hhi'],\n",
       " '003490': ['대한항공', 'koreanair'],\n",
       " '036570': ['엔씨소프트', 'ncsoft'],\n",
       " '009830': ['한화솔루션', 'hanhwasol'],\n",
       " '316140': ['우리금융지주', 'woorifg'],\n",
       " '090430': ['아모레퍼시픽', 'amore'],\n",
       " '011170': ['롯데케미칼', 'lottechem'],\n",
       " '024110': ['기업은행', 'ibk'],\n",
       " '138040': ['메리츠금융지주', 'meritz'],\n",
       " '377300': ['카카오페이', 'kakaopay'],\n",
       " '011070': ['LG이노텍', 'lginnotek'],\n",
       " '028050': ['삼성엔지니어링', 'ssengineering'],\n",
       " '361610': ['SK아이이테크놀로지', 'skietech'],\n",
       " '086280': ['현대글로비스', 'glovis'],\n",
       " '302440': ['SK바이오사이언스', 'skbio']}"
      ]
     },
     "execution_count": 4,
     "metadata": {},
     "output_type": "execute_result"
    }
   ],
   "source": [
    "code_sec"
   ]
  },
  {
   "cell_type": "code",
   "execution_count": 7,
   "id": "9b2cc12f",
   "metadata": {},
   "outputs": [],
   "source": [
    "import datetime\n",
    "from pandas_datareader import data as pdr\n",
    "# from datetime import datetime\n",
    "import yfinance as yf\n",
    "yf.pdr_override()"
   ]
  },
  {
   "cell_type": "code",
   "execution_count": 18,
   "id": "970d4b41",
   "metadata": {},
   "outputs": [],
   "source": [
    "startdate = datetime.datetime(2022,12,25).date()\n",
    "# enddate = datetime.datetime(2023,3,23)\n",
    "enddate = datetime.date.today()"
   ]
  },
  {
   "cell_type": "code",
   "execution_count": 19,
   "id": "acd1de0f",
   "metadata": {},
   "outputs": [
    {
     "data": {
      "text/plain": [
       "(datetime.date(2022, 12, 25), datetime.date(2023, 4, 5))"
      ]
     },
     "execution_count": 19,
     "metadata": {},
     "output_type": "execute_result"
    }
   ],
   "source": [
    "startdate, enddate"
   ]
  },
  {
   "cell_type": "code",
   "execution_count": 20,
   "id": "0d351183",
   "metadata": {},
   "outputs": [
    {
     "name": "stdout",
     "output_type": "stream",
     "text": [
      "[*********************100%***********************]  1 of 1 completed\n",
      "\n",
      "1 Failed download:\n",
      "- 005930.KS: No data found for this date range, symbol may be delisted\n"
     ]
    }
   ],
   "source": [
    "kospi = pdr.get_data_yahoo('005930.KS', start=startdate, end=enddate)"
   ]
  },
  {
   "cell_type": "code",
   "execution_count": 10,
   "id": "1802464e",
   "metadata": {},
   "outputs": [
    {
     "data": {
      "text/html": [
       "<div>\n",
       "<style scoped>\n",
       "    .dataframe tbody tr th:only-of-type {\n",
       "        vertical-align: middle;\n",
       "    }\n",
       "\n",
       "    .dataframe tbody tr th {\n",
       "        vertical-align: top;\n",
       "    }\n",
       "\n",
       "    .dataframe thead th {\n",
       "        text-align: right;\n",
       "    }\n",
       "</style>\n",
       "<table border=\"1\" class=\"dataframe\">\n",
       "  <thead>\n",
       "    <tr style=\"text-align: right;\">\n",
       "      <th></th>\n",
       "      <th>Open</th>\n",
       "      <th>High</th>\n",
       "      <th>Low</th>\n",
       "      <th>Close</th>\n",
       "      <th>Adj Close</th>\n",
       "      <th>Volume</th>\n",
       "    </tr>\n",
       "    <tr>\n",
       "      <th>Date</th>\n",
       "      <th></th>\n",
       "      <th></th>\n",
       "      <th></th>\n",
       "      <th></th>\n",
       "      <th></th>\n",
       "      <th></th>\n",
       "    </tr>\n",
       "  </thead>\n",
       "  <tbody>\n",
       "  </tbody>\n",
       "</table>\n",
       "</div>"
      ],
      "text/plain": [
       "Empty DataFrame\n",
       "Columns: [Open, High, Low, Close, Adj Close, Volume]\n",
       "Index: []"
      ]
     },
     "execution_count": 10,
     "metadata": {},
     "output_type": "execute_result"
    }
   ],
   "source": [
    "kospi.head()"
   ]
  },
  {
   "cell_type": "code",
   "execution_count": 14,
   "id": "fa4c289d",
   "metadata": {},
   "outputs": [
    {
     "name": "stdout",
     "output_type": "stream",
     "text": [
      "[*********************100%***********************]  1 of 1 completed\n",
      "\n",
      "1 Failed download:\n",
      "- ^DJI: No data found for this date range, symbol may be delisted\n"
     ]
    }
   ],
   "source": [
    "dji = pdr.get_data_yahoo('^DJI', start=startdate, end=enddate)\n"
   ]
  },
  {
   "cell_type": "code",
   "execution_count": null,
   "id": "3702b792",
   "metadata": {},
   "outputs": [],
   "source": []
  }
 ],
 "metadata": {
  "kernelspec": {
   "display_name": "Python 3 (ipykernel)",
   "language": "python",
   "name": "python3"
  },
  "language_info": {
   "codemirror_mode": {
    "name": "ipython",
    "version": 3
   },
   "file_extension": ".py",
   "mimetype": "text/x-python",
   "name": "python",
   "nbconvert_exporter": "python",
   "pygments_lexer": "ipython3",
   "version": "3.9.1"
  }
 },
 "nbformat": 4,
 "nbformat_minor": 5
}
