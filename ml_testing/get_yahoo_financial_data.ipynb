{
 "cells": [
  {
   "cell_type": "code",
   "execution_count": 1,
   "id": "c0189b9d",
   "metadata": {},
   "outputs": [],
   "source": [
    "import numpy as np\n",
    "import pandas as pd\n",
    "import matplotlib.pyplot as plt\n",
    "from functools import reduce\n",
    "import datetime\n",
    "import os, re"
   ]
  },
  {
   "cell_type": "code",
   "execution_count": 2,
   "id": "a8e37ff9",
   "metadata": {},
   "outputs": [],
   "source": [
    "import yfinance as yf"
   ]
  },
  {
   "cell_type": "code",
   "execution_count": 3,
   "id": "4971911f",
   "metadata": {},
   "outputs": [],
   "source": [
    "def get_ticker_data(ticker, startdate, enddate):\n",
    "    ydata = yf.Ticker(ticker)\n",
    "    rdata = ydata.history(period=\"2y\") # 오늘부터 2년치\n",
    "    rdata.reset_index('Date', inplace=True)\n",
    "    rdata['Date'] = rdata['Date'].dt.date  # datetime64 to datetime.date()\n",
    "    rdata = rdata[(rdata['Date'] <= enddate) & (rdata['Date'] >= startdate)] \n",
    "    rdata['temp'] = rdata['Close'].shift(1)\n",
    "    val_temp = (rdata['Close'] - rdata['temp'])/rdata['temp']*100\n",
    "    rdata['close_cr'] = val_temp.map(\"{:.2f}\".format)\n",
    "    rdata = rdata[['Date','Open', 'High', 'Low', 'Close', 'Volume', 'close_cr']] # 필요한 column만 남김\n",
    "    rdata.columns = ['date', 'open', 'high', 'low', 'close', 'vol', 'close_cr'] # column이름 통일\n",
    "    rdata.reset_index(drop=True, inplace=True) # index번호를 0부터 재정리\n",
    "    return rdata"
   ]
  },
  {
   "cell_type": "code",
   "execution_count": 4,
   "id": "b87f4cd7",
   "metadata": {},
   "outputs": [],
   "source": [
    "start_date = datetime.datetime(2021,12,20).date()\n",
    "# ed = end_date = datetime.datetime(2021,12,31).date()\n",
    "end_date = datetime.datetime.today().date()"
   ]
  },
  {
   "cell_type": "code",
   "execution_count": 5,
   "id": "a5f4b9ea",
   "metadata": {},
   "outputs": [],
   "source": [
    "kakao = get_ticker_data('035720.KS', start_date, end_date)"
   ]
  },
  {
   "cell_type": "code",
   "execution_count": 9,
   "id": "c2551bf4",
   "metadata": {},
   "outputs": [
    {
     "data": {
      "text/html": [
       "<div>\n",
       "<style scoped>\n",
       "    .dataframe tbody tr th:only-of-type {\n",
       "        vertical-align: middle;\n",
       "    }\n",
       "\n",
       "    .dataframe tbody tr th {\n",
       "        vertical-align: top;\n",
       "    }\n",
       "\n",
       "    .dataframe thead th {\n",
       "        text-align: right;\n",
       "    }\n",
       "</style>\n",
       "<table border=\"1\" class=\"dataframe\">\n",
       "  <thead>\n",
       "    <tr style=\"text-align: right;\">\n",
       "      <th></th>\n",
       "      <th>date</th>\n",
       "      <th>open</th>\n",
       "      <th>high</th>\n",
       "      <th>low</th>\n",
       "      <th>close</th>\n",
       "      <th>vol</th>\n",
       "      <th>close_cr</th>\n",
       "    </tr>\n",
       "  </thead>\n",
       "  <tbody>\n",
       "    <tr>\n",
       "      <th>315</th>\n",
       "      <td>2023-04-03</td>\n",
       "      <td>61400.0</td>\n",
       "      <td>61600.0</td>\n",
       "      <td>59900.0</td>\n",
       "      <td>60200.0</td>\n",
       "      <td>1683150</td>\n",
       "      <td>-1.47</td>\n",
       "    </tr>\n",
       "    <tr>\n",
       "      <th>316</th>\n",
       "      <td>2023-04-04</td>\n",
       "      <td>60200.0</td>\n",
       "      <td>60800.0</td>\n",
       "      <td>59800.0</td>\n",
       "      <td>60700.0</td>\n",
       "      <td>1380518</td>\n",
       "      <td>0.83</td>\n",
       "    </tr>\n",
       "    <tr>\n",
       "      <th>317</th>\n",
       "      <td>2023-04-05</td>\n",
       "      <td>60500.0</td>\n",
       "      <td>61200.0</td>\n",
       "      <td>60200.0</td>\n",
       "      <td>60500.0</td>\n",
       "      <td>1227329</td>\n",
       "      <td>-0.33</td>\n",
       "    </tr>\n",
       "    <tr>\n",
       "      <th>318</th>\n",
       "      <td>2023-04-06</td>\n",
       "      <td>60100.0</td>\n",
       "      <td>60100.0</td>\n",
       "      <td>58500.0</td>\n",
       "      <td>58600.0</td>\n",
       "      <td>2659408</td>\n",
       "      <td>-3.14</td>\n",
       "    </tr>\n",
       "    <tr>\n",
       "      <th>319</th>\n",
       "      <td>2023-04-07</td>\n",
       "      <td>58600.0</td>\n",
       "      <td>59200.0</td>\n",
       "      <td>58100.0</td>\n",
       "      <td>58600.0</td>\n",
       "      <td>1644048</td>\n",
       "      <td>0.00</td>\n",
       "    </tr>\n",
       "  </tbody>\n",
       "</table>\n",
       "</div>"
      ],
      "text/plain": [
       "           date     open     high      low    close      vol close_cr\n",
       "315  2023-04-03  61400.0  61600.0  59900.0  60200.0  1683150    -1.47\n",
       "316  2023-04-04  60200.0  60800.0  59800.0  60700.0  1380518     0.83\n",
       "317  2023-04-05  60500.0  61200.0  60200.0  60500.0  1227329    -0.33\n",
       "318  2023-04-06  60100.0  60100.0  58500.0  58600.0  2659408    -3.14\n",
       "319  2023-04-07  58600.0  59200.0  58100.0  58600.0  1644048     0.00"
      ]
     },
     "execution_count": 9,
     "metadata": {},
     "output_type": "execute_result"
    }
   ],
   "source": [
    "kakao.tail()"
   ]
  },
  {
   "cell_type": "code",
   "execution_count": 7,
   "id": "45b6c9e8",
   "metadata": {},
   "outputs": [],
   "source": [
    "kk = pd.read_pickle('kakao_historical.pkl')"
   ]
  },
  {
   "cell_type": "code",
   "execution_count": 8,
   "id": "97a9aa01",
   "metadata": {},
   "outputs": [
    {
     "data": {
      "text/html": [
       "<div>\n",
       "<style scoped>\n",
       "    .dataframe tbody tr th:only-of-type {\n",
       "        vertical-align: middle;\n",
       "    }\n",
       "\n",
       "    .dataframe tbody tr th {\n",
       "        vertical-align: top;\n",
       "    }\n",
       "\n",
       "    .dataframe thead th {\n",
       "        text-align: right;\n",
       "    }\n",
       "</style>\n",
       "<table border=\"1\" class=\"dataframe\">\n",
       "  <thead>\n",
       "    <tr style=\"text-align: right;\">\n",
       "      <th></th>\n",
       "      <th>date</th>\n",
       "      <th>open</th>\n",
       "      <th>high</th>\n",
       "      <th>low</th>\n",
       "      <th>close</th>\n",
       "      <th>close_cr</th>\n",
       "      <th>vol</th>\n",
       "    </tr>\n",
       "  </thead>\n",
       "  <tbody>\n",
       "    <tr>\n",
       "      <th>456</th>\n",
       "      <td>2023-04-02</td>\n",
       "      <td></td>\n",
       "      <td></td>\n",
       "      <td></td>\n",
       "      <td></td>\n",
       "      <td></td>\n",
       "      <td></td>\n",
       "    </tr>\n",
       "    <tr>\n",
       "      <th>457</th>\n",
       "      <td>2023-04-03</td>\n",
       "      <td>61400</td>\n",
       "      <td>61600</td>\n",
       "      <td>59900</td>\n",
       "      <td>60200</td>\n",
       "      <td>-1.47</td>\n",
       "      <td>101978</td>\n",
       "    </tr>\n",
       "    <tr>\n",
       "      <th>458</th>\n",
       "      <td>2023-04-04</td>\n",
       "      <td>60200</td>\n",
       "      <td>60800</td>\n",
       "      <td>59800</td>\n",
       "      <td>60700</td>\n",
       "      <td>0.83</td>\n",
       "      <td>83243</td>\n",
       "    </tr>\n",
       "    <tr>\n",
       "      <th>459</th>\n",
       "      <td>2023-04-05</td>\n",
       "      <td>60500</td>\n",
       "      <td>61200</td>\n",
       "      <td>60200</td>\n",
       "      <td>60500</td>\n",
       "      <td>-0.33</td>\n",
       "      <td>74433</td>\n",
       "    </tr>\n",
       "    <tr>\n",
       "      <th>460</th>\n",
       "      <td>2023-04-06</td>\n",
       "      <td>60100</td>\n",
       "      <td>60100</td>\n",
       "      <td>58500</td>\n",
       "      <td>58600</td>\n",
       "      <td>-3.14</td>\n",
       "      <td>156394</td>\n",
       "    </tr>\n",
       "  </tbody>\n",
       "</table>\n",
       "</div>"
      ],
      "text/plain": [
       "          date   open   high    low  close close_cr     vol\n",
       "456 2023-04-02                                             \n",
       "457 2023-04-03  61400  61600  59900  60200    -1.47  101978\n",
       "458 2023-04-04  60200  60800  59800  60700     0.83   83243\n",
       "459 2023-04-05  60500  61200  60200  60500    -0.33   74433\n",
       "460 2023-04-06  60100  60100  58500  58600    -3.14  156394"
      ]
     },
     "execution_count": 8,
     "metadata": {},
     "output_type": "execute_result"
    }
   ],
   "source": [
    "kk.tail()"
   ]
  },
  {
   "cell_type": "markdown",
   "id": "f91c2cd3",
   "metadata": {},
   "source": [
    "### yahoo는 거래량. 내가 수집한 데이터는 거래금액임. 맞추어야 함. "
   ]
  },
  {
   "cell_type": "code",
   "execution_count": null,
   "id": "50041ee8",
   "metadata": {},
   "outputs": [],
   "source": []
  }
 ],
 "metadata": {
  "kernelspec": {
   "display_name": "Python 3 (ipykernel)",
   "language": "python",
   "name": "python3"
  },
  "language_info": {
   "codemirror_mode": {
    "name": "ipython",
    "version": 3
   },
   "file_extension": ".py",
   "mimetype": "text/x-python",
   "name": "python",
   "nbconvert_exporter": "python",
   "pygments_lexer": "ipython3",
   "version": "3.9.1"
  }
 },
 "nbformat": 4,
 "nbformat_minor": 5
}
