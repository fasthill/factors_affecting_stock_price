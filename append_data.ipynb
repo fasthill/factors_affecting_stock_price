{
 "cells": [
  {
   "cell_type": "code",
   "execution_count": 1,
   "id": "8a337fce",
   "metadata": {},
   "outputs": [],
   "source": [
    "import pandas as pd\n",
    "import numpy as np\n",
    "\n",
    "import datetime\n",
    "from datetime import date\n",
    "\n",
    "import os\n",
    "import shutil"
   ]
  },
  {
   "cell_type": "code",
   "execution_count": 31,
   "id": "ea542777",
   "metadata": {},
   "outputs": [],
   "source": [
    "directory = ['data', 'data/daily_price', 'data/investor']\n",
    "data_index = os.listdir('data')\n",
    "data_daily = os.listdir('data/daily_price')\n",
    "data_investor = os.listdir('data/investor')"
   ]
  },
  {
   "cell_type": "code",
   "execution_count": 3,
   "id": "45ee25d1",
   "metadata": {},
   "outputs": [],
   "source": [
    "data_file = [f_name for f_name in data_index if (f_name[-4:] == '.csv') and (f_name[:4] != 'data') ]"
   ]
  },
  {
   "cell_type": "code",
   "execution_count": 4,
   "id": "ef01f0e5",
   "metadata": {},
   "outputs": [
    {
     "data": {
      "text/plain": [
       "'bond_kor_10yr-20220531.csv'"
      ]
     },
     "execution_count": 4,
     "metadata": {},
     "output_type": "execute_result"
    }
   ],
   "source": [
    "# sample data 선정\n",
    "data_file[0]"
   ]
  },
  {
   "cell_type": "code",
   "execution_count": 5,
   "id": "359cf7ec",
   "metadata": {},
   "outputs": [],
   "source": [
    "df = pd.read_csv('data/{}'.format(data_file[0]))"
   ]
  },
  {
   "cell_type": "code",
   "execution_count": 6,
   "id": "d9ba92a4",
   "metadata": {},
   "outputs": [],
   "source": [
    "column_name = ['date', 'close', 'open', 'high', 'low', 'variance']\n",
    "df.columns = column_name # 영문 column으로 변환"
   ]
  },
  {
   "cell_type": "code",
   "execution_count": 7,
   "id": "31c8051e",
   "metadata": {},
   "outputs": [],
   "source": [
    "# 'date' 칼럼을 datetime으로 변환\n",
    "df['date'] = df['date'].apply(lambda x : datetime.datetime.strptime(x, \"%Y년 %m월 %d일\"))"
   ]
  },
  {
   "cell_type": "code",
   "execution_count": 8,
   "id": "51618cca",
   "metadata": {},
   "outputs": [],
   "source": [
    "# main data file 읽기\n",
    "df_data = pd.read_csv('data/{}'.format('data.csv'))"
   ]
  },
  {
   "cell_type": "code",
   "execution_count": 9,
   "id": "44fdc728",
   "metadata": {},
   "outputs": [],
   "source": [
    "# convert to datetime instance, 'date' 칼럼을 datetime으로 변환\n",
    "df_data['date'] = df_data['date'].apply(lambda x : datetime.datetime.strptime(x, \"%Y-%m-%d\"))"
   ]
  },
  {
   "cell_type": "code",
   "execution_count": null,
   "id": "quick-blame",
   "metadata": {},
   "outputs": [],
   "source": [
    "convert = {''}"
   ]
  },
  {
   "cell_type": "code",
   "execution_count": 25,
   "id": "completed-fifth",
   "metadata": {},
   "outputs": [],
   "source": [
    "df2 = df[['date', 'close']].set_index('date') # 생성된 데이터 파일(10년 만기 채권)에서 추출\n",
    "df2.rename(columns = {'close':'bond_kor_10'}, inplace=True) # rename with the same column name in data.csv"
   ]
  },
  {
   "cell_type": "code",
   "execution_count": 26,
   "id": "crude-equality",
   "metadata": {},
   "outputs": [],
   "source": []
  },
  {
   "cell_type": "code",
   "execution_count": 27,
   "id": "minute-windsor",
   "metadata": {},
   "outputs": [
    {
     "data": {
      "text/html": [
       "<div>\n",
       "<style scoped>\n",
       "    .dataframe tbody tr th:only-of-type {\n",
       "        vertical-align: middle;\n",
       "    }\n",
       "\n",
       "    .dataframe tbody tr th {\n",
       "        vertical-align: top;\n",
       "    }\n",
       "\n",
       "    .dataframe thead th {\n",
       "        text-align: right;\n",
       "    }\n",
       "</style>\n",
       "<table border=\"1\" class=\"dataframe\">\n",
       "  <thead>\n",
       "    <tr style=\"text-align: right;\">\n",
       "      <th></th>\n",
       "      <th>bond_kor_10</th>\n",
       "    </tr>\n",
       "    <tr>\n",
       "      <th>date</th>\n",
       "      <th></th>\n",
       "    </tr>\n",
       "  </thead>\n",
       "  <tbody>\n",
       "    <tr>\n",
       "      <th>2022-05-31</th>\n",
       "      <td>3.324</td>\n",
       "    </tr>\n",
       "    <tr>\n",
       "      <th>2022-05-30</th>\n",
       "      <td>3.205</td>\n",
       "    </tr>\n",
       "    <tr>\n",
       "      <th>2022-05-29</th>\n",
       "      <td>3.217</td>\n",
       "    </tr>\n",
       "    <tr>\n",
       "      <th>2022-05-28</th>\n",
       "      <td>3.217</td>\n",
       "    </tr>\n",
       "    <tr>\n",
       "      <th>2022-05-27</th>\n",
       "      <td>3.211</td>\n",
       "    </tr>\n",
       "    <tr>\n",
       "      <th>...</th>\n",
       "      <td>...</td>\n",
       "    </tr>\n",
       "    <tr>\n",
       "      <th>2021-12-05</th>\n",
       "      <td>2.235</td>\n",
       "    </tr>\n",
       "    <tr>\n",
       "      <th>2021-12-04</th>\n",
       "      <td>2.235</td>\n",
       "    </tr>\n",
       "    <tr>\n",
       "      <th>2021-12-03</th>\n",
       "      <td>2.233</td>\n",
       "    </tr>\n",
       "    <tr>\n",
       "      <th>2021-12-02</th>\n",
       "      <td>2.194</td>\n",
       "    </tr>\n",
       "    <tr>\n",
       "      <th>2021-12-01</th>\n",
       "      <td>2.181</td>\n",
       "    </tr>\n",
       "  </tbody>\n",
       "</table>\n",
       "<p>179 rows × 1 columns</p>\n",
       "</div>"
      ],
      "text/plain": [
       "            bond_kor_10\n",
       "date                   \n",
       "2022-05-31        3.324\n",
       "2022-05-30        3.205\n",
       "2022-05-29        3.217\n",
       "2022-05-28        3.217\n",
       "2022-05-27        3.211\n",
       "...                 ...\n",
       "2021-12-05        2.235\n",
       "2021-12-04        2.235\n",
       "2021-12-03        2.233\n",
       "2021-12-02        2.194\n",
       "2021-12-01        2.181\n",
       "\n",
       "[179 rows x 1 columns]"
      ]
     },
     "execution_count": 27,
     "metadata": {},
     "output_type": "execute_result"
    }
   ],
   "source": [
    "df2"
   ]
  },
  {
   "cell_type": "code",
   "execution_count": 10,
   "id": "a407be90",
   "metadata": {},
   "outputs": [],
   "source": [
    "# 3개 df의 index를 모두 'date'로 설정\n",
    "df_data.set_index('date', inplace=True)"
   ]
  },
  {
   "cell_type": "code",
   "execution_count": null,
   "id": "8830f9a2",
   "metadata": {},
   "outputs": [],
   "source": [
    "# 동일한 위치(row, column)에 데이터 replace\n",
    "for i in df2.index:\n",
    "#     print(i, \"+++\")\n",
    "    df1.loc[i, 'bond_kor_10'] = df2.loc[i, \"close\"] # df1에 index가 없는 경우는 새로운 index가 생성됨.\n",
    "#     print(df1.loc[i, 'bond_kor_10'], \"***\")"
   ]
  },
  {
   "cell_type": "code",
   "execution_count": 28,
   "id": "5ab01337",
   "metadata": {},
   "outputs": [],
   "source": [
    "# df1 데이터를 main data에 update (main index와 일치하는 해당 칼럼에 엎어 씀)\n",
    "# df1에 있는 index항목이 main data(df_data)에 없는 경우는 무시됨.\n",
    "df_data.update(df2)"
   ]
  },
  {
   "cell_type": "code",
   "execution_count": 29,
   "id": "b00bf6c1",
   "metadata": {},
   "outputs": [],
   "source": [
    "df_data.reset_index(inplace=True)"
   ]
  },
  {
   "cell_type": "code",
   "execution_count": 30,
   "id": "31f04af4",
   "metadata": {},
   "outputs": [],
   "source": [
    "df_data.to_csv('data/data_new.csv', index=False)"
   ]
  },
  {
   "cell_type": "code",
   "execution_count": null,
   "id": "47942742",
   "metadata": {},
   "outputs": [],
   "source": [
    "# 사용된 파일은 폴더 이동 저장\n",
    "#shutil.move('data/{}'.format(data_file[0]), 'data_old/{}'.format(data_file[0]))"
   ]
  },
  {
   "cell_type": "code",
   "execution_count": null,
   "id": "peripheral-groove",
   "metadata": {},
   "outputs": [],
   "source": [
    "arr = os.list"
   ]
  },
  {
   "cell_type": "code",
   "execution_count": 32,
   "id": "married-title",
   "metadata": {},
   "outputs": [],
   "source": [
    "all =data_index + data_daily + data_investor"
   ]
  },
  {
   "cell_type": "code",
   "execution_count": 33,
   "id": "aggregate-symbol",
   "metadata": {},
   "outputs": [
    {
     "data": {
      "text/plain": [
       "['bond_kor_10yr-20220531.csv',\n",
       " 'bond_kor_2yr-20220531.csv',\n",
       " 'bond_us_10yr-20220531.csv',\n",
       " 'bond_us_2yr-20220531.csv',\n",
       " 'bond_us_3month-20220531.csv',\n",
       " 'cpi_index_20220610.csv',\n",
       " 'daily_price',\n",
       " 'data.csv',\n",
       " 'data_fmt_readme.csv',\n",
       " 'data_fmt_readme.xlsx',\n",
       " 'data_new.csv',\n",
       " 'dji-20220531.csv',\n",
       " 'dj_future-20220531.csv',\n",
       " 'dollar_index_future-20220531.csv',\n",
       " 'fear-greed-2021-2022.csv',\n",
       " 'investor',\n",
       " 'kosdaq-20220531.csv',\n",
       " 'kospi-20220531.csv',\n",
       " 'krw_rate-20220531.csv',\n",
       " 'nasdaq-20220531.csv',\n",
       " 'nasdaq_future-20220531.csv',\n",
       " 'README.md',\n",
       " 'S&P-20220531.csv',\n",
       " 'sample_file.csv',\n",
       " 'snp500_future-20220531.csv',\n",
       " 'sox-20220531.csv',\n",
       " 'VIX-20220623.csv',\n",
       " 'vix_20220623.csv',\n",
       " 'WTI_future-20220531.csv',\n",
       " 'hyunmotor_10min_price_20220620.csv',\n",
       " 'hyunmotor_10min_price_20220621.csv',\n",
       " 'hyunmotor_10min_price_20220622.csv',\n",
       " 'hyunmotor_10min_price_20220623.csv',\n",
       " 'hyunmotor_10min_price_20220624.csv',\n",
       " 'ktng_10min_price_20220620.csv',\n",
       " 'ktng_10min_price_20220621.csv',\n",
       " 'ktng_10min_price_20220622.csv',\n",
       " 'ktng_10min_price_20220623.csv',\n",
       " 'ktng_10min_price_20220624.csv',\n",
       " 'naver_10min_price_20220620.csv',\n",
       " 'naver_10min_price_20220621.csv',\n",
       " 'naver_10min_price_20220622.csv',\n",
       " 'naver_10min_price_20220623.csv',\n",
       " 'naver_10min_price_20220624.csv',\n",
       " 'sec_10min_price_20220620.csv',\n",
       " 'sec_10min_price_20220621.csv',\n",
       " 'sec_10min_price_20220622.csv',\n",
       " 'sec_10min_price_20220623.csv',\n",
       " 'sec_10min_price_20220624.csv',\n",
       " 'hyunmotor_invester_from-20220420.csv',\n",
       " 'hyunmotor_investor_20220621.csv',\n",
       " 'hyunmotor_investor_20220623.csv',\n",
       " 'ktng_invester_from-20220420.csv',\n",
       " 'ktng_investor_20220621.csv',\n",
       " 'ktng_investor_20220623.csv',\n",
       " 'naver_invester_from-20220420.csv',\n",
       " 'naver_investor_20220621.csv',\n",
       " 'naver_investor_20220623.csv',\n",
       " 'sec_invester_from-20220420.csv',\n",
       " 'sec_investor_20220621.csv',\n",
       " 'sec_investor_20220623.csv']"
      ]
     },
     "execution_count": 33,
     "metadata": {},
     "output_type": "execute_result"
    }
   ],
   "source": [
    "all"
   ]
  },
  {
   "cell_type": "code",
   "execution_count": null,
   "id": "lined-housing",
   "metadata": {},
   "outputs": [],
   "source": []
  }
 ],
 "metadata": {
  "kernelspec": {
   "display_name": "Python 3 (ipykernel)",
   "language": "python",
   "name": "python3"
  },
  "language_info": {
   "codemirror_mode": {
    "name": "ipython",
    "version": 3
   },
   "file_extension": ".py",
   "mimetype": "text/x-python",
   "name": "python",
   "nbconvert_exporter": "python",
   "pygments_lexer": "ipython3",
   "version": "3.9.1"
  }
 },
 "nbformat": 4,
 "nbformat_minor": 5
}
