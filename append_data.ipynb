{
 "cells": [
  {
   "cell_type": "code",
   "execution_count": 1,
   "id": "8a337fce",
   "metadata": {},
   "outputs": [],
   "source": [
    "import pandas as pd\n",
    "import numpy as np\n",
    "\n",
    "import datetime\n",
    "from datetime import date\n",
    "\n",
    "import os\n",
    "import shutil"
   ]
  },
  {
   "cell_type": "code",
   "execution_count": 2,
   "id": "ea542777",
   "metadata": {},
   "outputs": [],
   "source": [
    "directory = ['data', 'data/daily_price', 'data/investor']\n",
    "data_index = os.listdir('data')\n",
    "data_daily = os.listdir('data/daily_price')\n",
    "data_investor = os.listdir('data/investor')"
   ]
  },
  {
   "cell_type": "code",
   "execution_count": 3,
   "id": "45ee25d1",
   "metadata": {},
   "outputs": [],
   "source": [
    "data_file = [f_name for f_name in data_index if (f_name[-4:] == '.csv') and (f_name[:4] != 'data') ]"
   ]
  },
  {
   "cell_type": "code",
   "execution_count": 4,
   "id": "ef01f0e5",
   "metadata": {},
   "outputs": [
    {
     "data": {
      "text/plain": [
       "'bond_kor_10yr-20220531.csv'"
      ]
     },
     "execution_count": 4,
     "metadata": {},
     "output_type": "execute_result"
    }
   ],
   "source": [
    "# sample data 선정\n",
    "data_file[0]"
   ]
  },
  {
   "cell_type": "code",
   "execution_count": 5,
   "id": "359cf7ec",
   "metadata": {},
   "outputs": [],
   "source": [
    "df = pd.read_csv('data/{}'.format(data_file[0]))"
   ]
  },
  {
   "cell_type": "code",
   "execution_count": 6,
   "id": "d9ba92a4",
   "metadata": {},
   "outputs": [],
   "source": [
    "column_name = ['date', 'close', 'open', 'high', 'low', 'variance']\n",
    "df.columns = column_name # 영문 column으로 변환"
   ]
  },
  {
   "cell_type": "code",
   "execution_count": 7,
   "id": "31c8051e",
   "metadata": {},
   "outputs": [],
   "source": [
    "# 'date' 칼럼을 datetime으로 변환\n",
    "df['date'] = df['date'].apply(lambda x : datetime.datetime.strptime(x, \"%Y년 %m월 %d일\"))"
   ]
  },
  {
   "cell_type": "code",
   "execution_count": 8,
   "id": "51618cca",
   "metadata": {},
   "outputs": [],
   "source": [
    "# main data file 읽기\n",
    "df_data = pd.read_csv('data/{}'.format('data.csv'))"
   ]
  },
  {
   "cell_type": "code",
   "execution_count": 9,
   "id": "44fdc728",
   "metadata": {},
   "outputs": [],
   "source": [
    "# convert to datetime instance, 'date' 칼럼을 datetime으로 변환\n",
    "df_data['date'] = df_data['date'].apply(lambda x : datetime.datetime.strptime(x, \"%Y-%m-%d\"))"
   ]
  },
  {
   "cell_type": "code",
   "execution_count": 10,
   "id": "ba881d8f",
   "metadata": {},
   "outputs": [],
   "source": [
    "# 데이터 교체만 필요한 칼럼만 추출하여 임시 df 생성\n",
    "df1 = df_data[['date', 'bond_kor_10']].set_index('date') # main data file에서 추출\n",
    "df2 = df[['date', 'close']].set_index('date') # 생성된 데이터 파일(10년 만기 채권)에서 추출"
   ]
  },
  {
   "cell_type": "code",
   "execution_count": 11,
   "id": "a407be90",
   "metadata": {},
   "outputs": [],
   "source": [
    "# 3개 df의 index를 모두 'date'로 설정\n",
    "df_data.set_index('date', inplace=True)"
   ]
  },
  {
   "cell_type": "code",
   "execution_count": 12,
   "id": "8830f9a2",
   "metadata": {},
   "outputs": [],
   "source": [
    "# 동일한 위치(row, column)에 데이터 replace\n",
    "for i in df2.index:\n",
    "#     print(i, \"+++\")\n",
    "    df1.loc[i, 'bond_kor_10'] = df2.loc[i, \"close\"] # df1에 index가 없는 경우는 새로운 index가 생성됨.\n",
    "#     print(df1.loc[i, 'bond_kor_10'], \"***\")"
   ]
  },
  {
   "cell_type": "code",
   "execution_count": 13,
   "id": "5ab01337",
   "metadata": {},
   "outputs": [],
   "source": [
    "# df1 데이터를 main data에 update (main index와 일치하는 해당 칼럼에 엎어 씀)\n",
    "# df1에 있는 index항목이 main data(df_data)에 없는 경우는 무시됨.\n",
    "df_data.update(df1)"
   ]
  },
  {
   "cell_type": "code",
   "execution_count": 16,
   "id": "b00bf6c1",
   "metadata": {},
   "outputs": [],
   "source": [
    "df_data.reset_index(inplace=True)"
   ]
  },
  {
   "cell_type": "code",
   "execution_count": 18,
   "id": "31f04af4",
   "metadata": {},
   "outputs": [],
   "source": [
    "# df_data.to_csv('data/bond_test.csv', index=False)"
   ]
  },
  {
   "cell_type": "code",
   "execution_count": null,
   "id": "47942742",
   "metadata": {},
   "outputs": [],
   "source": [
    "# 사용된 파일은 폴더 이동 저장\n",
    "#shutil.move('data/{}'.format(data_file[0]), 'data_old/{}'.format(data_file[0]))"
   ]
  }
 ],
 "metadata": {
  "kernelspec": {
   "display_name": "Python 3",
   "language": "python",
   "name": "python3"
  },
  "language_info": {
   "codemirror_mode": {
    "name": "ipython",
    "version": 3
   },
   "file_extension": ".py",
   "mimetype": "text/x-python",
   "name": "python",
   "nbconvert_exporter": "python",
   "pygments_lexer": "ipython3",
   "version": "3.9.1"
  }
 },
 "nbformat": 4,
 "nbformat_minor": 5
}
