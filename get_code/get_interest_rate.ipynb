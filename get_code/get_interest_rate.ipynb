{
 "cells": [
  {
   "cell_type": "markdown",
   "id": "involved-theology",
   "metadata": {},
   "source": [
    "### 최초 한번 실행 과거 데이터 추출용"
   ]
  },
  {
   "cell_type": "code",
   "execution_count": null,
   "id": "c4660474",
   "metadata": {},
   "outputs": [],
   "source": [
    "from selenium import webdriver as wd\n",
    "from bs4 import BeautifulSoup as bs\n",
    "import requests\n",
    "import datetime, time\n",
    "from datetime import date\n",
    "\n",
    "import pandas as pd\n",
    "import numpy as np\n",
    "import re\n",
    "import os, sys"
   ]
  },
  {
   "cell_type": "code",
   "execution_count": null,
   "id": "1d7a0a89",
   "metadata": {},
   "outputs": [],
   "source": [
    "# !pip install chromedriver_autoinstaller\n",
    "\n",
    "import chromedriver_autoinstaller\n",
    "\n",
    "driver_name = chromedriver_autoinstaller.install()  # Check if the current version of chromedriver exists\n",
    "                                      # and if it doesn't exist, download it automatically,\n",
    "                                      # then add chromedriver to path\n",
    "time.sleep(1)\n",
    "\n",
    "driver = wd.Chrome(driver_name)"
   ]
  },
  {
   "cell_type": "code",
   "execution_count": null,
   "id": "3dbef8b9",
   "metadata": {},
   "outputs": [],
   "source": [
    "# driver.set_window_position(-10000,0) # hide windows\n",
    "main_url = 'https://kr.investing.com/'\n",
    "driver.get(main_url)\n",
    "time.sleep(1)"
   ]
  },
  {
   "cell_type": "code",
   "execution_count": null,
   "id": "2b3d262b",
   "metadata": {},
   "outputs": [],
   "source": [
    "driver.find_element_by_css_selector('#userAccount > div > a.login.bold').click() \n",
    "time.sleep(1)"
   ]
  },
  {
   "cell_type": "code",
   "execution_count": null,
   "id": "5e4c8c6e",
   "metadata": {},
   "outputs": [],
   "source": [
    "driver.find_element_by_id('loginForm_password').clear()\n",
    "driver.find_element_by_id('loginFormUser_email').send_keys('kangeun@naver.com')\n",
    "time.sleep(1)"
   ]
  },
  {
   "cell_type": "code",
   "execution_count": null,
   "id": "0a060429",
   "metadata": {},
   "outputs": [],
   "source": [
    "driver.find_element_by_id('loginForm_password').clear()\n",
    "driver.find_element_by_id('loginForm_password').send_keys(os.environ['investing_pass'])\n",
    "time.sleep(1)"
   ]
  },
  {
   "cell_type": "code",
   "execution_count": null,
   "id": "cdf7c123",
   "metadata": {},
   "outputs": [],
   "source": [
    "driver.find_element_by_css_selector('#signup > a.newButton.orange').click()  \n",
    "time.sleep(2)"
   ]
  },
  {
   "cell_type": "code",
   "execution_count": null,
   "id": "b27dd9b7",
   "metadata": {},
   "outputs": [],
   "source": [
    "interest_url = 'https://www.investing.com/economic-calendar/interest-rate-decision-168/'"
   ]
  },
  {
   "cell_type": "code",
   "execution_count": null,
   "id": "6c22dad7",
   "metadata": {},
   "outputs": [],
   "source": [
    "driver.get(interest_url)"
   ]
  },
  {
   "cell_type": "code",
   "execution_count": null,
   "id": "82ad1f90",
   "metadata": {},
   "outputs": [],
   "source": [
    "for _ in range(3):  # 최근 데이터 3 pages\n",
    "    driver.find_element_by_id('showMoreHistory168').click()"
   ]
  },
  {
   "cell_type": "code",
   "execution_count": null,
   "id": "47e24196",
   "metadata": {},
   "outputs": [],
   "source": [
    "df = pd.read_html(driver.page_source)[0] # interest dataframe"
   ]
  },
  {
   "cell_type": "code",
   "execution_count": null,
   "id": "1b36da94",
   "metadata": {},
   "outputs": [],
   "source": [
    "df.columns=  ['release_date', 'time', 'actual_rate', 'forecast_rate', 'prev_rate', 'none']\n",
    "df['release_date'] = df['release_date'].apply(lambda x : datetime.datetime.strptime(x[:12], \"%b %d, %Y\"))\n",
    "df['time'] = df['time'].apply(lambda x : datetime.datetime.strptime(x, \"%H:%M\").time())"
   ]
  },
  {
   "cell_type": "code",
   "execution_count": null,
   "id": "regulated-click",
   "metadata": {},
   "outputs": [],
   "source": [
    "today = datetime.date.today()\n",
    "today = today.strftime('%Y%m%d')"
   ]
  },
  {
   "cell_type": "code",
   "execution_count": null,
   "id": "9ad77805",
   "metadata": {},
   "outputs": [],
   "source": [
    "dir_name = 'data/interest_rate/'\n",
    "start_ix = 'rr'\n",
    "file_name = 'fed'\n",
    "i = 1"
   ]
  },
  {
   "cell_type": "code",
   "execution_count": null,
   "id": "1964efe2",
   "metadata": {},
   "outputs": [],
   "source": [
    "filename = '{}{}{}_{}_{}.csv'.format(dir_name, start_ix,i,file_name, today)\n",
    "df.to_csv(filename, index=False)"
   ]
  },
  {
   "cell_type": "code",
   "execution_count": null,
   "id": "63c72e7f",
   "metadata": {},
   "outputs": [],
   "source": [
    "driver.close()\n",
    "driver.quit()"
   ]
  },
  {
   "cell_type": "markdown",
   "id": "f90ce890",
   "metadata": {},
   "source": [
    "### Get 한국은행 금리"
   ]
  },
  {
   "cell_type": "code",
   "execution_count": null,
   "id": "827eed7c",
   "metadata": {},
   "outputs": [],
   "source": [
    "kor_url = 'https://www.bok.or.kr/portal/singl/baseRate/list.do?dataSeCd=01&menuNo=200643'"
   ]
  },
  {
   "cell_type": "code",
   "execution_count": null,
   "id": "85328b3e",
   "metadata": {},
   "outputs": [],
   "source": [
    "today = datetime.date.today()\n",
    "today = today.strftime('%Y%m%d')"
   ]
  },
  {
   "cell_type": "code",
   "execution_count": null,
   "id": "165dd0c2",
   "metadata": {},
   "outputs": [],
   "source": [
    "df = pd.read_html(kor_url, attrs = {'class': 'fixed'}, flavor=[\"lxml\", \"bs4\"])[0]"
   ]
  },
  {
   "cell_type": "code",
   "execution_count": null,
   "id": "ce2a1df3",
   "metadata": {},
   "outputs": [],
   "source": [
    "df.head()"
   ]
  },
  {
   "cell_type": "code",
   "execution_count": null,
   "id": "e79969cf",
   "metadata": {},
   "outputs": [],
   "source": [
    "df.columns=  ['release_yr', 'release_date', 'actual_rate']\n",
    "df_date_temp = df['release_yr'].astype('str')+df['release_date']\n",
    "df['date'] = df_date_temp.apply(lambda x : datetime.datetime.strptime(x, \"%Y%m월 %d일\"))\n",
    "df = df[['date', 'actual_rate']] # leave only valid columns"
   ]
  },
  {
   "cell_type": "code",
   "execution_count": null,
   "id": "d4805572",
   "metadata": {},
   "outputs": [],
   "source": [
    "df.head()"
   ]
  },
  {
   "cell_type": "code",
   "execution_count": null,
   "id": "0c6c3375",
   "metadata": {},
   "outputs": [],
   "source": [
    "dir_name = 'data/interest_rate/'\n",
    "start_ix = 'rr'\n",
    "file_name = 'bok'\n",
    "i = 2"
   ]
  },
  {
   "cell_type": "code",
   "execution_count": null,
   "id": "ab648417",
   "metadata": {},
   "outputs": [],
   "source": [
    "filename = '{}{}{}_{}_{}.csv'.format(dir_name, start_ix,i,file_name, today)\n",
    "df.to_csv(filename, index=False)"
   ]
  }
 ],
 "metadata": {
  "kernelspec": {
   "display_name": "Python 3",
   "language": "python",
   "name": "python3"
  },
  "language_info": {
   "codemirror_mode": {
    "name": "ipython",
    "version": 3
   },
   "file_extension": ".py",
   "mimetype": "text/x-python",
   "name": "python",
   "nbconvert_exporter": "python",
   "pygments_lexer": "ipython3",
   "version": "3.9.1"
  }
 },
 "nbformat": 4,
 "nbformat_minor": 5
}
