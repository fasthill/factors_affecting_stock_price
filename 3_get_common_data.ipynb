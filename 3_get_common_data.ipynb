{
 "cells": [
  {
   "cell_type": "markdown",
   "id": "25b184a9",
   "metadata": {},
   "source": [
    "#### 지표 UPDATE \n",
    "   - 주요 주식시장 지수 : spx, dji, ixix, 코스피, 코스닥은 따로 krx 정보시스템에서 취득\n",
    "   - 반도체지수, VIX 지수: sox, vix\n",
    "   - 미국 채권 지수, 한국 채권 지수\n",
    "   - 원화 환율\n",
    "   - 선물 : 미국 3대 지수, wti, 달러지수 선물"
   ]
  },
  {
   "cell_type": "code",
   "execution_count": null,
   "id": "9372e251-4905-4af8-a7db-f99c23b8c1c2",
   "metadata": {},
   "outputs": [],
   "source": [
    "!python --version"
   ]
  },
  {
   "cell_type": "code",
   "execution_count": 1,
   "id": "matched-interview",
   "metadata": {},
   "outputs": [],
   "source": [
    "from bs4 import BeautifulSoup as bs\n",
    "import requests\n",
    "import datetime, time\n",
    "import pickle\n",
    "\n",
    "import pandas as pd\n",
    "import numpy as np\n",
    "\n",
    "import os\n",
    "import sys\n",
    "import io\n",
    "import shutil\n",
    "\n",
    "import matplotlib.pyplot as plt"
   ]
  },
  {
   "cell_type": "code",
   "execution_count": 2,
   "id": "2dde17af",
   "metadata": {},
   "outputs": [],
   "source": [
    "# from pandas_datareader import data as pdr\n",
    "# # from datetime import datetime\n",
    "import yfinance as yf\n",
    "yf.pdr_override()"
   ]
  },
  {
   "cell_type": "code",
   "execution_count": 3,
   "id": "1b497955",
   "metadata": {},
   "outputs": [],
   "source": [
    "# !pip install cloudscraper"
   ]
  },
  {
   "cell_type": "code",
   "execution_count": 4,
   "id": "6a3f2606",
   "metadata": {},
   "outputs": [],
   "source": [
    "# !pip install cfscrape # 403 forbidden, cloudflare error을 해결하기 위한 모듈\n",
    "import cloudscraper\n",
    "scraper = cloudscraper.create_scraper()"
   ]
  },
  {
   "cell_type": "code",
   "execution_count": 5,
   "id": "4fb70e22-0c41-4f1e-8f1a-cf984c3db826",
   "metadata": {},
   "outputs": [],
   "source": [
    "# !pip install -U cfscrape\n",
    "# !pip show cfscrape"
   ]
  },
  {
   "cell_type": "code",
   "execution_count": 6,
   "id": "08943027",
   "metadata": {},
   "outputs": [],
   "source": [
    "# # !pip install cfscrape # 403 forbidden, cloudflare error을 해결하기 위한 모듈\n",
    "# import cfscrape\n",
    "# scraper = cfscrape.create_scraper()\n",
    "# # 이후 403 error이 발생한 곳에는 requests 대신 scraper 사용"
   ]
  },
  {
   "cell_type": "code",
   "execution_count": 7,
   "id": "ac807255",
   "metadata": {},
   "outputs": [],
   "source": [
    "module_path = os.path.abspath(os.path.join('.')) \n",
    "sys.path.append(module_path+\"\\\\data\\\\constant\")\n",
    "\n",
    "from constants import US_SECTOR_LIST"
   ]
  },
  {
   "cell_type": "code",
   "execution_count": 8,
   "id": "selective-ireland",
   "metadata": {},
   "outputs": [],
   "source": [
    "headers = {'User-Agent': 'Mozilla/6.0 (Macintosh; Intel Mac OS X 10_11_5) \\\n",
    "           AppleWebKit/537.36 (KHTML, like Gecko) Chrome/50.0.2661.102 Safari/537.36'}\n",
    "\n",
    "headers = {'Referer': 'https://kr.investing.com/',\n",
    "           'User-Agent': 'Mozilla/5.0 (Windows NT 10.0; Win64; x64) \\\n",
    "           AppleWebKit/537.36 (KHTML, like Gecko) Chrome/125.0.0.0 Safari/537.36 Edg/125.0.0.0'}"
   ]
  },
  {
   "cell_type": "code",
   "execution_count": 9,
   "id": "bf9d944e",
   "metadata": {},
   "outputs": [],
   "source": [
    "def correct_date_format(df):\n",
    "# 시간, 미국, 한국 접속사이트에 따라 attribute 가 변경되서 나타나기 때문에 error  처리를 위해 try 사용\n",
    "    try:\n",
    "        df['date'] = df['date'].apply(lambda x : datetime.datetime.strptime(x, \"%b %d, %Y\"))\n",
    "    except:\n",
    "        try:\n",
    "            df['date'] = df['date'].apply(lambda x : datetime.datetime.strptime(x, \"%m/%d/%Y\"))\n",
    "        except:\n",
    "            try:\n",
    "                df['date'] = df['date'].apply(lambda x : datetime.datetime.strptime(x, \"%Y- %m- %d\"))\n",
    "            except:\n",
    "                df['date'] = df['date'].apply(lambda x : datetime.datetime.strptime(x, \"%Y년 %m월 %d일\"))\n",
    "    \n",
    "    try:  # convert timestamp to datetime.datetime.date\n",
    "        df['date'] = df['date'].apply(lambda x: datetime.datetime.date(x))\n",
    "    except:\n",
    "        pass\n",
    "    \n",
    "    return df"
   ]
  },
  {
   "cell_type": "code",
   "execution_count": 10,
   "id": "8ee71f2d",
   "metadata": {},
   "outputs": [],
   "source": [
    "def create_directory(directory):\n",
    "    try:\n",
    "        if not os.path.exists(directory):\n",
    "            os.makedirs(directory)\n",
    "    except OSError:\n",
    "        print(\"Error: Failed to create the directory.\")"
   ]
  },
  {
   "cell_type": "code",
   "execution_count": 11,
   "id": "466bcfc1",
   "metadata": {},
   "outputs": [],
   "source": [
    "def make_pickle(df, pkl_name):\n",
    "    pkl_directory = 'data/common_pkl/'\n",
    "    try:\n",
    "        if not os.path.exists(pkl_directory):\n",
    "            os.makedirs(pkl_directory)\n",
    "    except OSError:\n",
    "        print(\"Error: Failed to create the directory.\")\n",
    "\n",
    "    # 데이터 저장: ../data/spx.pkl\n",
    "    df.to_pickle(pkl_directory+pkl_name)\n",
    "    df.to_csv(pkl_directory+pkl_name.replace('pkl','csv'))"
   ]
  },
  {
   "cell_type": "code",
   "execution_count": 12,
   "id": "904330d4",
   "metadata": {},
   "outputs": [],
   "source": [
    "def read_pickle(pkl_name):\n",
    "# 데이터 로드\n",
    "    pkl_directory = 'data/common_pkl/'\n",
    "    df = pd.read_pickle(pkl_directory+pkl_name)\n",
    "    \n",
    "    return df"
   ]
  },
  {
   "cell_type": "code",
   "execution_count": 13,
   "id": "c1e62780",
   "metadata": {},
   "outputs": [],
   "source": [
    "def get_data(url, column):\n",
    "           \n",
    "    count = 0\n",
    "    while True:\n",
    "        try :\n",
    "            res = scraper.get(url, headers=headers)\n",
    "            print(\"t1\", res.status_code)\n",
    "#             res = requests.get(url, headers=headers)\n",
    "#             class_name = 'w-full text-xs leading-4 overflow-x-auto freeze-column-w-1'\n",
    "# 위의 class_name 명칭은 수시로 바뀌므로 새롭게 수정해 주어야 함.\n",
    "            class_name = 'freeze-column-w-1 w-full overflow-x-auto text-xs leading-4'\n",
    "            # df = pd.read_html(res.text, attrs={\"class\": class_name}, flavor=[\"lxml\", \"bs4\"])[0]\n",
    "            df = pd.read_html(io.StringIO(str(res.text)), attrs={\"class\": class_name}, flavor=[\"lxml\", \"bs4\"])[0]\n",
    "#             res = scraper.get(url, headers=headers)  # 변경전\n",
    "#             df = pd.read_html(res.text, attrs={\"id\": \"curr_table\"}, flavor=[\"lxml\", \"bs4\"])[0]\n",
    "            break\n",
    "        except:\n",
    "            try:\n",
    "                # res = scraper.get(url, headers=headers)\n",
    "                res = requests.get(url, headers=headers)\n",
    "                print(\"t2\", res.status_code)\n",
    "                # df = pd.read_html(res.text, attrs={\"data-test\": \"historical-data-table\"}, flavor=[\"lxml\", \"bs4\"])[0]\n",
    "                df = pd.read_html(io.StringIO(str(res.text)), attrs={\"data-test\": \"historical-data-table\"}, flavor=[\"lxml\", \"bs4\"])[0]\n",
    "                break\n",
    "            except:\n",
    "                pass\n",
    "        finally:\n",
    "            time.sleep(1)\n",
    "            print(\"t3\")\n",
    "            count += 1\n",
    "            if count > 5 :\n",
    "                raise ValueError('The url request is delaying')\n",
    "                break           \n",
    "\n",
    "    df.columns = column\n",
    "    correct_date_format(df)\n",
    "    df.sort_values(by=[df.columns[0]], inplace=True)\n",
    "    df.index = np.arange(0, len(df))  # 일련 번호 오름차순으로 재 설정\n",
    "\n",
    "    return df"
   ]
  },
  {
   "cell_type": "code",
   "execution_count": 14,
   "id": "24a455de",
   "metadata": {},
   "outputs": [],
   "source": [
    "def concat_df(df_o, df):\n",
    "    df_o = pd.concat([df_o, df], ignore_index=True)\n",
    "    df_o.drop_duplicates(subset=['date'], keep='last', inplace=True)\n",
    "#     df_o.drop_duplicates(subset=['date'], keep='first', inplace=True)\n",
    "    df_o.sort_values(by=[df_o.columns[0]], inplace=True)\n",
    "    df_o.index = np.arange(0, len(df_o))  # 일련 번호 오름차순으로 재 설정\n",
    "    return df_o"
   ]
  },
  {
   "cell_type": "code",
   "execution_count": 15,
   "id": "a9731a5a",
   "metadata": {},
   "outputs": [],
   "source": [
    "def update_pickle(df, pkl_name):\n",
    "    df_o = read_pickle(pkl_name)\n",
    "    try:  # convert timestamp to datetime.datetime.date\n",
    "        df_o['date'] = df_o['date'].apply(lambda x: datetime.datetime.date(x))\n",
    "    except:\n",
    "        pass\n",
    "    df_o = concat_df(df_o, df)\n",
    "    \n",
    "    make_pickle(df_o, pkl_name)"
   ]
  },
  {
   "cell_type": "code",
   "execution_count": 16,
   "id": "dfb7e8b7",
   "metadata": {},
   "outputs": [],
   "source": [
    "# reformat data from yfinance\n",
    "def reformat_df(df, col_name):\n",
    "    df = df.reset_index('Date')\n",
    "    df.drop(labels='Adj Close', axis=1, inplace=True)\n",
    "    df = df[['Date', 'Close', 'Open', 'High', 'Low', 'Volume']]\n",
    "    df.columns = ['date', col_name, 'open', 'high', 'low', 'volume']\n",
    "    df['temp'] = df[col_name].shift(1)\n",
    "    df[col_name+'_cr'] = ((df[col_name] - df['temp'])/df['temp']*100).apply(lambda x: f'{x:.2f}%')\n",
    "    df.drop(labels='temp', axis=1, inplace=True)\n",
    "    return df"
   ]
  },
  {
   "cell_type": "code",
   "execution_count": 17,
   "id": "fd243e74",
   "metadata": {},
   "outputs": [],
   "source": [
    "def get_ticker_data(ticker, startdate, enddate, col_name):\n",
    "    while True:\n",
    "        ydata = yf.Ticker(ticker)\n",
    "        rdata = ydata.history(period=\"5y\") # 오늘부터 3년치\n",
    "        if len(rdata) <= 100: # 인터넷 속도로 인한 데이터 취득이 되지 않았을 때 임의의 수(100)으로 비교\n",
    "            pass\n",
    "        else:\n",
    "            break\n",
    "    rdata.reset_index('Date', inplace=True)\n",
    "    rdata['Date'] = rdata['Date'].dt.date  # datetime64 to datetime.date()\n",
    "    rdata = rdata[(rdata['Date'] <= enddate) & (rdata['Date'] >= startdate)] \n",
    "    rdata['temp'] = rdata['Close'].shift(1)\n",
    "    val_temp = (rdata['Close'] - rdata['temp'])/rdata['temp']*100\n",
    "    rdata[f'{col_name}_cr'] = val_temp.map(\"{:.2f}%\".format)\n",
    "    rdata = rdata[['Date', 'Close', 'Open', 'High', 'Low', 'Volume', f'{col_name}_cr']] # 필요한 column만 남김\n",
    "    rdata.columns = ['date', f'{col_name}', 'open', 'high', 'low', 'volume', f'{col_name}_cr'] # column이름 통일\n",
    "    rdata.reset_index(drop=True, inplace=True) # index번호를 0부터 재정리\n",
    "    return rdata"
   ]
  },
  {
   "cell_type": "code",
   "execution_count": 18,
   "id": "83760063",
   "metadata": {},
   "outputs": [],
   "source": [
    "# startdate = datetime.datetime(2021,12,25)\n",
    "startdate = datetime.date(2021,12,25)\n",
    "# enddate = datetime.datetime(2023,3,23)\n",
    "enddate = datetime.date.today() + datetime.timedelta(days=2)"
   ]
  },
  {
   "cell_type": "code",
   "execution_count": 19,
   "id": "5ca633db",
   "metadata": {
    "scrolled": true
   },
   "outputs": [],
   "source": [
    "# # spx = pdr.get_data_yahoo('^SPX', start=startdate, end=enddate)\n",
    "# # df = reformat_df(spx, 'spx')\n",
    "# # make_pickle(df, 'spx.pkl')\n",
    "\n",
    "# # spx는 yahoo에서 최근 하루만 제공하기 때문에 investing을 계속 사용함\n",
    "# spx_url = 'https://kr.investing.com/indices/us-spx-500-historical-data'\n",
    "# spx = ['date', 'spx', 'open', 'high', 'low', 'volume', 'spx_cr']\n",
    "# pkl_name = 'spx.pkl'\n",
    "# df = get_data(spx_url,spx)\n",
    "\n",
    "# update_pickle(df, pkl_name)"
   ]
  },
  {
   "cell_type": "code",
   "execution_count": 20,
   "id": "140b3b5c-245b-41ee-b634-9f1de7b6315d",
   "metadata": {},
   "outputs": [],
   "source": [
    "spx = get_ticker_data('^SPX', startdate, enddate, 'spx')\n",
    "make_pickle(spx, 'spx.pkl')"
   ]
  },
  {
   "cell_type": "code",
   "execution_count": 21,
   "id": "6ee5b6a7",
   "metadata": {},
   "outputs": [],
   "source": [
    "dji = get_ticker_data('^DJI', startdate, enddate, 'dji')\n",
    "make_pickle(dji, 'dji.pkl')\n",
    "\n",
    "# 시간대별로 막혀 있어서 아래 것은 사용하지 않음 (미국 개장시간대에서만 열림)\n",
    "# dji = pdr.get_data_yahoo('^DJI', start=startdate, end=enddate)\n",
    "# df = reformat_df(dji, 'dji')\n",
    "# make_pickle(df, 'dji.pkl')\n",
    "\n",
    "# 아래 investing은 vol자료에 차이가 있어 사용하지 않음.\n",
    "# dji_url = 'https://www.investing.com/indices/us-30-historical-data'\n",
    "# dji = ['date', 'dji', 'open', 'high', 'low', 'volume', 'dji_cr']\n",
    "# pkl_name = 'dji.pkl'\n",
    "# df = get_data(dji_url,dji)\n",
    "\n",
    "# update_pickle(df, pkl_name)"
   ]
  },
  {
   "cell_type": "code",
   "execution_count": 22,
   "id": "7dd4093f",
   "metadata": {},
   "outputs": [],
   "source": [
    "ixic = get_ticker_data('^IXIC', startdate, enddate, 'ixic')\n",
    "make_pickle(ixic, 'nas.pkl')\n",
    "\n",
    "# ixic = pdr.get_data_yahoo('^IXIC', start=startdate, end=enddate)\n",
    "# df = reformat_df(ixic, 'ixic')\n",
    "# make_pickle(df, 'nas.pkl')\n",
    "\n",
    "# nas_url = 'https://kr.investing.com/indices/nasdaq-composite-historical-data'\n",
    "# ixic = ['date', 'ixic', 'open', 'high', 'low', 'volume', 'ixic_cr']\n",
    "# pkl_name = 'nas.pkl'\n",
    "# df = get_data(nas_url,ixic)\n",
    "\n",
    "# update_pickle(df, pkl_name)"
   ]
  },
  {
   "cell_type": "code",
   "execution_count": 23,
   "id": "508b3bb4",
   "metadata": {},
   "outputs": [],
   "source": [
    "sox = get_ticker_data('^SOX', startdate, enddate, 'sox')\n",
    "make_pickle(sox, 'sox.pkl')\n",
    "\n",
    "# sox = pdr.get_data_yahoo('^SOX', start=startdate, end=enddate)\n",
    "# df = reformat_df(sox, 'sox')\n",
    "# make_pickle(df, 'sox.pkl')\n",
    "\n",
    "# sox_url = 'https://kr.investing.com/indices/phlx-semiconductor-historical-data'\n",
    "# sox = ['date', 'sox', 'open', 'high', 'low', 'volume', 'sox_cr']\n",
    "# pkl_name = 'sox.pkl'\n",
    "# df = get_data(sox_url,sox)\n",
    "\n",
    "# update_pickle(df, pkl_name)"
   ]
  },
  {
   "cell_type": "code",
   "execution_count": 24,
   "id": "221ac32b",
   "metadata": {},
   "outputs": [],
   "source": [
    "vix = get_ticker_data('^VIX', startdate, enddate, 'vix')\n",
    "make_pickle(vix, 'vix.pkl')\n",
    "\n",
    "# vix = pdr.get_data_yahoo('^VIX', start=startdate, end=enddate)\n",
    "# df = reformat_df(vix, 'vix')\n",
    "# make_pickle(df, 'vix.pkl')\n",
    "\n",
    "# vix_url = 'https://kr.investing.com/indices/volatility-s-p-500-historical-data'\n",
    "# vix = ['date', 'vix', 'open', 'high', 'low', 'volume', 'vix_cr']\n",
    "# pkl_name = 'vix.pkl'\n",
    "# df = get_data(vix_url,vix)\n",
    "\n",
    "# update_pickle(df, pkl_name)"
   ]
  },
  {
   "cell_type": "code",
   "execution_count": 25,
   "id": "c75a2f53",
   "metadata": {},
   "outputs": [
    {
     "name": "stdout",
     "output_type": "stream",
     "text": [
      "t1 200\n",
      "t3\n"
     ]
    }
   ],
   "source": [
    "kor_bond_10yr_url = 'https://kr.investing.com/rates-bonds/south-korea-10-year-bond-yield-historical-data'\n",
    "kor_10yr = ['date', 'bond_kor_10', 'open', 'high', 'low', 'bond_kor_10_cr']\n",
    "pkl_name = 'kor_10yr_bond.pkl'\n",
    "df = get_data(kor_bond_10yr_url,kor_10yr)\n",
    "\n",
    "update_pickle(df, pkl_name)"
   ]
  },
  {
   "cell_type": "code",
   "execution_count": 26,
   "id": "a048eb07-357e-433c-9ef3-bd1b8ee74e57",
   "metadata": {},
   "outputs": [
    {
     "name": "stdout",
     "output_type": "stream",
     "text": [
      "<!DOCTYPE html>\n",
      "<!--[if lt IE 7]> <html class=\"no-js ie6 oldie\" lang=\"en-US\"> <![endif]-->\n",
      "<!--[if IE 7]>    <html class=\"no-js ie7 oldie\" lang=\"en-US\"> <![endif]-->\n",
      "<!--[if IE 8]>    <html class=\"no-js ie8 oldie\" lang=\"en-US\"> <![endif]-->\n",
      "<!--[if gt IE 8]><!--> <html class=\"no-js\" lang=\"en-US\"> <!--<![endif]-->\n",
      "<head>\n",
      "<title>Attention Required! | Cloudflare</title>\n",
      "<meta charset=\"UTF-8\" />\n",
      "<meta http-equiv=\"Content-Type\" content=\"text/html; charset=UTF-8\" />\n",
      "<meta http-equiv=\"X-UA-Compatible\" content=\"IE=Edge\" />\n",
      "<meta name=\"robots\" content=\"noindex, nofollow\" />\n",
      "<meta name=\"viewport\" content=\"width=device-width,initial-scale=1\" />\n",
      "<link rel=\"stylesheet\" id=\"cf_styles-css\" href=\"/cdn-cgi/styles/cf.errors.css\" />\n",
      "<!--[if lt IE 9]><link rel=\"stylesheet\" id='cf_styles-ie-css' href=\"/cdn-cgi/styles/cf.errors.ie.css\" /><![endif]-->\n",
      "<style>body{margin:0;padding:0}</style>\n",
      "\n",
      "\n",
      "<!--[if gte IE 10]><!-->\n",
      "<script>\n",
      "  if (!navigator.cookieEnabled) {\n",
      "    window.addEventListener('DOMContentLoaded', function () {\n",
      "      var cookieEl = document.getElementById('cookie-alert');\n",
      "      cookieEl.style.display = 'block';\n",
      "    })\n",
      "  }\n",
      "</script>\n",
      "<!--<![endif]-->\n",
      "\n",
      "\n",
      "</head>\n",
      "<body>\n",
      "  <div id=\"cf-wrapper\">\n",
      "    <div class=\"cf-alert cf-alert-error cf-cookie-error\" id=\"cookie-alert\" data-translate=\"enable_cookies\">Please enable cookies.</div>\n",
      "    <div id=\"cf-error-details\" class=\"cf-error-details-wrapper\">\n",
      "      <div class=\"cf-wrapper cf-header cf-error-overview\">\n",
      "        <h1 data-translate=\"block_headline\">Sorry, you have been blocked</h1>\n",
      "        <h2 class=\"cf-subheadline\"><span data-translate=\"unable_to_access\">You are unable to access</span> investing.com</h2>\n",
      "      </div><!-- /.header -->\n",
      "\n",
      "      <div class=\"cf-section cf-highlight\">\n",
      "        <div class=\"cf-wrapper\">\n",
      "          <div class=\"cf-screenshot-container cf-screenshot-full\">\n",
      "            \n",
      "              <span class=\"cf-no-screenshot error\"></span>\n",
      "            \n",
      "          </div>\n",
      "        </div>\n",
      "      </div><!-- /.captcha-container -->\n",
      "\n",
      "      <div class=\"cf-section cf-wrapper\">\n",
      "        <div class=\"cf-columns two\">\n",
      "          <div class=\"cf-column\">\n",
      "            <h2 data-translate=\"blocked_why_headline\">Why have I been blocked?</h2>\n",
      "\n",
      "            <p data-translate=\"blocked_why_detail\">This website is using a security service to protect itself from online attacks. The action you just performed triggered the security solution. There are several actions that could trigger this block including submitting a certain word or phrase, a SQL command or malformed data.</p>\n",
      "          </div>\n",
      "\n",
      "          <div class=\"cf-column\">\n",
      "            <h2 data-translate=\"blocked_resolve_headline\">What can I do to resolve this?</h2>\n",
      "\n",
      "            <p data-translate=\"blocked_resolve_detail\">You can email the site owner to let them know you were blocked. Please include what you were doing when this page came up and the Cloudflare Ray ID found at the bottom of this page.</p>\n",
      "          </div>\n",
      "        </div>\n",
      "      </div><!-- /.section -->\n",
      "\n",
      "      <div class=\"cf-error-footer cf-wrapper w-240 lg:w-full py-10 sm:py-4 sm:px-8 mx-auto text-center sm:text-left border-solid border-0 border-t border-gray-300\">\n",
      "  <p class=\"text-13\">\n",
      "    <span class=\"cf-footer-item sm:block sm:mb-1\">Cloudflare Ray ID: <strong class=\"font-semibold\">895a816c0b84aa8c</strong></span>\n",
      "    <span class=\"cf-footer-separator sm:hidden\">&bull;</span>\n",
      "    <span id=\"cf-footer-item-ip\" class=\"cf-footer-item hidden sm:block sm:mb-1\">\n",
      "      Your IP:\n",
      "      <button type=\"button\" id=\"cf-footer-ip-reveal\" class=\"cf-footer-ip-reveal-btn\">Click to reveal</button>\n",
      "      <span class=\"hidden\" id=\"cf-footer-ip\">124.54.173.113</span>\n",
      "      <span class=\"cf-footer-separator sm:hidden\">&bull;</span>\n",
      "    </span>\n",
      "    <span class=\"cf-footer-item sm:block sm:mb-1\"><span>Performance &amp; security by</span> <a rel=\"noopener noreferrer\" href=\"https://www.cloudflare.com/5xx-error-landing\" id=\"brand_link\" target=\"_blank\">Cloudflare</a></span>\n",
      "    \n",
      "  </p>\n",
      "  <script>(function(){function d(){var b=a.getElementById(\"cf-footer-item-ip\"),c=a.getElementById(\"cf-footer-ip-reveal\");b&&\"classList\"in b&&(b.classList.remove(\"hidden\"),c.addEventListener(\"click\",function(){c.classList.add(\"hidden\");a.getElementById(\"cf-footer-ip\").classList.remove(\"hidden\")}))}var a=document;document.addEventListener&&a.addEventListener(\"DOMContentLoaded\",d)})();</script>\n",
      "</div><!-- /.error-footer -->\n",
      "\n",
      "\n",
      "    </div><!-- /#cf-error-details -->\n",
      "  </div><!-- /#cf-wrapper -->\n",
      "\n",
      "  <script>\n",
      "  window._cf_translation = {};\n",
      "  \n",
      "  \n",
      "</script>\n",
      "\n",
      "<script>(function(){function c(){var b=a.contentDocument||a.contentWindow.document;if(b){var d=b.createElement('script');d.innerHTML=\"window.__CF$cv$params={r:'895a816c0b84aa8c',t:'MTcxODcwNTU5NC4wMDAwMDA='};var a=document.createElement('script');a.nonce='';a.src='/cdn-cgi/challenge-platform/scripts/jsd/main.js';document.getElementsByTagName('head')[0].appendChild(a);\";b.getElementsByTagName('head')[0].appendChild(d)}}if(document.body){var a=document.createElement('iframe');a.height=1;a.width=1;a.style.position='absolute';a.style.top=0;a.style.left=0;a.style.border='none';a.style.visibility='hidden';document.body.appendChild(a);if('loading'!==document.readyState)c();else if(window.addEventListener)document.addEventListener('DOMContentLoaded',c);else{var e=document.onreadystatechange||function(){};document.onreadystatechange=function(b){e(b);'loading'!==document.readyState&&(document.onreadystatechange=e,c())}}}})();</script></body>\n",
      "</html>\n",
      "\n"
     ]
    }
   ],
   "source": [
    "url = 'https://kr.investing.com/rates-bonds/south-korea-10-year-bond-yield-historical-data'\n",
    "res = requests.get(url, headers=headers)\n",
    "print(res.content.decode('utf-8'))"
   ]
  },
  {
   "cell_type": "code",
   "execution_count": 27,
   "id": "5bc71d44",
   "metadata": {},
   "outputs": [
    {
     "name": "stdout",
     "output_type": "stream",
     "text": [
      "t1 200\n",
      "t3\n"
     ]
    }
   ],
   "source": [
    "kor_bond_2yr_url = 'https://kr.investing.com/rates-bonds/south-korea-2-year-bond-yield-historical-data'\n",
    "kor_2yr = ['date', 'bond_kor_2', 'open', 'high', 'low','bond_kor_2_cr']\n",
    "pkl_name = 'kor_2yr_bond.pkl'\n",
    "df = get_data(kor_bond_2yr_url,kor_2yr)\n",
    "\n",
    "update_pickle(df, pkl_name)"
   ]
  },
  {
   "cell_type": "code",
   "execution_count": 28,
   "id": "357b604f",
   "metadata": {},
   "outputs": [
    {
     "name": "stdout",
     "output_type": "stream",
     "text": [
      "t1 200\n",
      "t3\n"
     ]
    }
   ],
   "source": [
    "krw_rate_url = 'https://kr.investing.com/currencies/usd-krw-historical-data'\n",
    "krw_rate = ['date', 'krw', 'open', 'high', 'low', 'vol', 'krw_cr']\n",
    "pkl_name = 'krw_rate.pkl'\n",
    "df = get_data(krw_rate_url,krw_rate)\n",
    "\n",
    "update_pickle(df, pkl_name)"
   ]
  },
  {
   "cell_type": "markdown",
   "id": "hydraulic-driving",
   "metadata": {},
   "source": [
    "#### get append cpi"
   ]
  },
  {
   "cell_type": "code",
   "execution_count": 29,
   "id": "welcome-bailey",
   "metadata": {},
   "outputs": [],
   "source": [
    "cpi_url = 'https://www.investing.com/economic-calendar/cpi-733'\n",
    "cpi_column = ['date', 'time', 'cpi', 'cpi_anticipated', 'cpi_previous', 'none']\n",
    "pkl_name = 'cpi.pkl'"
   ]
  },
  {
   "cell_type": "code",
   "execution_count": 30,
   "id": "8ab2f267",
   "metadata": {
    "scrolled": true
   },
   "outputs": [],
   "source": [
    "res = scraper.get(cpi_url, headers=headers)\n",
    "# res = requests.get(cpi_url, headers=headers)\n",
    "# df = pd.read_html(res.text, flavor=[\"lxml\", \"bs4\"])[0]\n",
    "df = pd.read_html(io.StringIO(str(res.text)), flavor=[\"lxml\", \"bs4\"])[0]\n",
    "df.columns = cpi_column\n",
    "df['time'] = df['time'].apply(lambda x : datetime.datetime.strptime(x, \"%H:%M\").time())\n",
    "df['date'] = df['date'].apply(lambda x : datetime.datetime.strptime(x[:12], \"%b %d, %Y\"))\n",
    "\n",
    "df = df[['date', 'cpi', 'cpi_anticipated', 'cpi_previous']]\n",
    "\n",
    "try: # convert timestamp to datetime.datetime.date\n",
    "    df['date'] = df['date'].apply(lambda x: datetime.datetime.date(x))\n",
    "except:\n",
    "    pass\n",
    "\n",
    "df.sort_values(by=['date'], inplace=True)\n",
    "\n",
    "update_pickle(df, pkl_name)"
   ]
  },
  {
   "cell_type": "markdown",
   "id": "professional-allergy",
   "metadata": {},
   "source": [
    "#### get append fear and greed\n",
    "##### 2020년 9월 21일부터  2021년 1월 21일까지 데이터는 이상 데이터 로 나중에 수정해야 함."
   ]
  },
  {
   "cell_type": "code",
   "execution_count": 31,
   "id": "affiliated-married",
   "metadata": {},
   "outputs": [],
   "source": [
    "import pytz, json"
   ]
  },
  {
   "cell_type": "code",
   "execution_count": 32,
   "id": "ca7ca824",
   "metadata": {},
   "outputs": [],
   "source": [
    "def convert_timestamp_to_date(x):\n",
    "    dt = datetime.datetime.fromtimestamp(x / 1000, tz=pytz.utc) # UTC에서 변환 불필요.\n",
    "#     tzone = pytz.timezone('US/Eastern')\n",
    "#     tzone = pytz.timezone('Asia/Seoul')\n",
    "#     loc_dt = dt.astimezone(tzone)\n",
    "    loc_dt = dt\n",
    "    return loc_dt.date()"
   ]
  },
  {
   "cell_type": "code",
   "execution_count": 33,
   "id": "d3d5bc60",
   "metadata": {},
   "outputs": [],
   "source": [
    "# 과거 데이터 (fear_greed_old_to_20200918.pkl) 에 rating column을 추가한 내용\n",
    "# 한번만 사용하고 이후 사용하지 않음\n",
    "\n",
    "def convert_to_rating(x):\n",
    "    if x < 25 :\n",
    "        rating = 'extreme fear'\n",
    "    elif x < 45 :\n",
    "        rating = 'fear'\n",
    "    elif x < 55 :\n",
    "        rating = 'neutral'\n",
    "    elif x < 75 :\n",
    "        rating = 'greed'\n",
    "    elif x <= 100 :\n",
    "        rating = 'extreme greed'\n",
    "\n",
    "    return rating"
   ]
  },
  {
   "cell_type": "code",
   "execution_count": 34,
   "id": "suburban-simulation",
   "metadata": {},
   "outputs": [],
   "source": [
    "today = datetime.date.today()\n",
    "today_p = today.strftime('%Y%m%d')\n",
    "diff_days = datetime.timedelta(days=40)\n",
    "today = today - diff_days\n",
    "start_date = today.strftime('%Y-%m-%d')  # 30일전부터 자료 수집"
   ]
  },
  {
   "cell_type": "code",
   "execution_count": 35,
   "id": "nervous-steel",
   "metadata": {},
   "outputs": [],
   "source": [
    "url = \"https://production.dataviz.cnn.io/index/fearandgreed/graphdata\"\n",
    "pkl_name = 'fear_greed.pkl'\n",
    "# start_date = '2020-07-15'"
   ]
  },
  {
   "cell_type": "code",
   "execution_count": 36,
   "id": "ac4c9451",
   "metadata": {},
   "outputs": [],
   "source": [
    "r = requests.get(\"{}/{}\".format(url, start_date), headers=headers)\n",
    "data = r.json()\n",
    "\n",
    "fg_data = data['fear_and_greed_historical']['data']\n",
    "df = pd.DataFrame(fg_data)\n",
    "\n",
    "df.columns = ['date', 'fg_index', 'rating']\n",
    "df['date'] = df['date'].apply(lambda x: convert_timestamp_to_date(x))\n",
    "df['fg_index'] = df['fg_index'].apply(lambda x: round(x))\n",
    "\n",
    "df.sort_values(by=[df.columns[0]], inplace=True)\n",
    "df.index = np.arange(0, len(df))  # 일련 번호 오름차순으로 재 설정\n",
    "df.drop_duplicates(subset=['date'], inplace=True) "
   ]
  },
  {
   "cell_type": "code",
   "execution_count": 37,
   "id": "f020b457",
   "metadata": {},
   "outputs": [],
   "source": [
    "df_o = read_pickle(pkl_name)\n",
    "df_o['date'] = df_o['date'].apply(lambda x : datetime.datetime.strftime(x, \"%Y-%m-%d\"))\n",
    "df_o['date'] = df_o['date'].apply(lambda x : datetime.datetime.strptime(x, \"%Y-%m-%d\"))\n",
    "try:  # convert timestamp to datetime.datetime.date\n",
    "    df_o['date'] = df_o['date'].apply(lambda x: datetime.datetime.date(x))\n",
    "except:\n",
    "    pass\n",
    "\n",
    "df_o = concat_df(df_o, df)\n",
    "\n",
    "# 분석시 제외. 추후 보강 2023년 8월 이후에 추가 할지 결정해야 함.\n",
    "make_pickle(df_o, pkl_name)"
   ]
  },
  {
   "cell_type": "markdown",
   "id": "67a7f19a",
   "metadata": {},
   "source": [
    "#### get and append gold price"
   ]
  },
  {
   "cell_type": "code",
   "execution_count": 38,
   "id": "66d4bcc2",
   "metadata": {},
   "outputs": [],
   "source": [
    "# gold_url = 'https://www.usagold.com/daily-gold-price-history/'\n",
    "# pkl_name = 'gold.pkl'\n",
    "\n",
    "# res = requests.get(gold_url, headers=headers)\n",
    "## df = pd.read_html(res.text, flavor=[\"lxml\", \"bs4\"])\n",
    "# df = pd.read_html(io.StringIO(str(res.text)), flavor=[\"lxml\", \"bs4\"])\n",
    "# df = df[0].drop(0) # delete empty first row\n",
    "# df.columns = ['date', 'gold']\n",
    "# df['date'] = df['date'].apply(lambda x : datetime.datetime.strptime(x, \"%d %b %Y\"))\n",
    "# df.sort_values(by=['date'], inplace=True)\n",
    "# df.drop_duplicates(subset=['date'], inplace=True) \n",
    "\n",
    "# # 분석시 제외. 추후 보강 현재는 빠짐.\n",
    "# update_pickle(df, pkl_name)"
   ]
  },
  {
   "cell_type": "code",
   "execution_count": 39,
   "id": "58bf1f4a",
   "metadata": {},
   "outputs": [],
   "source": [
    "gold = get_ticker_data('GC=F', startdate, enddate, 'gold')\n",
    "make_pickle(gold, 'gold.pkl')\n",
    "\n",
    "# # Gold Apr 23 (GC=F)\n",
    "# df = pdr.get_data_yahoo('GC=F', start=startdate, end=enddate)\n",
    "# df = reformat_df(df, 'gold')\n",
    "# make_pickle(df, 'gold.pkl')"
   ]
  },
  {
   "cell_type": "markdown",
   "id": "c6771fd5",
   "metadata": {},
   "source": [
    "### fed 금리 get append"
   ]
  },
  {
   "cell_type": "code",
   "execution_count": 40,
   "id": "b27dd9b7",
   "metadata": {},
   "outputs": [],
   "source": [
    "interest_url = 'https://www.investing.com/economic-calendar/interest-rate-decision-168/'\n",
    "interest_column = ['date', 'time', 'fed_rate', 'fed_rate_fore', 'fed_rate_prev', 'none']\n",
    "pkl_name = 'fed_rate.pkl'"
   ]
  },
  {
   "cell_type": "code",
   "execution_count": 41,
   "id": "47e24196",
   "metadata": {},
   "outputs": [],
   "source": [
    "res = scraper.get(interest_url, headers=headers)\n",
    "# res = requests.get(interest_url, headers=headers)\n",
    "# df = pd.read_html(res.text, flavor=[\"lxml\", \"bs4\"])[0]\n",
    "df = pd.read_html(io.StringIO(str(res.text)), flavor=[\"lxml\", \"bs4\"])[0]\n",
    "df.columns = interest_column\n",
    "\n",
    "df.replace(np.nan, '', inplace=True)\n",
    "\n",
    "df['date'] = df['date'].apply(lambda x : datetime.datetime.strptime(x[:12], \"%b %d, %Y\"))\n",
    "df['time'] = df['time'].apply(lambda x : datetime.datetime.strptime(x, \"%H:%M\").time())\n",
    "df.sort_values(by=['date'], inplace=True)\n",
    "df.drop_duplicates(subset=['date'], inplace=True) \n",
    "# convert from timestampe to datetime\n",
    "df['date'] = df['date'].apply(lambda x: datetime.datetime.date(x)) "
   ]
  },
  {
   "cell_type": "code",
   "execution_count": 42,
   "id": "f16dd5ff",
   "metadata": {},
   "outputs": [],
   "source": [
    "# 매일매일의 데이터가 없어서 분석시 제외. 추후 보강 현재는 빠짐.\n",
    "update_pickle(df, pkl_name)"
   ]
  },
  {
   "cell_type": "markdown",
   "id": "18ddc5b3",
   "metadata": {},
   "source": [
    "### 한국은행 금리 get append"
   ]
  },
  {
   "cell_type": "code",
   "execution_count": 43,
   "id": "827eed7c",
   "metadata": {},
   "outputs": [],
   "source": [
    "kor_url = 'https://www.bok.or.kr/portal/singl/baseRate/list.do?dataSeCd=01&menuNo=200643'\n",
    "pkl_name = 'bok_rate.pkl'"
   ]
  },
  {
   "cell_type": "code",
   "execution_count": 44,
   "id": "165dd0c2",
   "metadata": {},
   "outputs": [],
   "source": [
    "# res = requests.get(kor_url, headers=headers, verify=certifi.where())\n",
    "res = requests.get(kor_url, headers=headers)\n",
    "df = pd.read_html(io.StringIO(str(res.text)), attrs = {'class': 'fixed'}, flavor=[\"lxml\", \"bs4\"])[0]"
   ]
  },
  {
   "cell_type": "code",
   "execution_count": 45,
   "id": "75736723",
   "metadata": {},
   "outputs": [],
   "source": [
    "df.columns=  ['release_yr', 'release_date', 'bok_rate']\n",
    "df_date_temp = df['release_yr'].astype('str')+df['release_date']\n",
    "df['date'] = df_date_temp.apply(lambda x : datetime.datetime.strptime(x, \"%Y%m월 %d일\"))\n",
    "df.sort_values(by=['date'], inplace=True)\n",
    "df.drop_duplicates(subset=['date'], inplace=True) \n",
    "\n",
    "df = df[['date', 'bok_rate']] # leave only valid columns\n",
    "\n",
    "# convert from timestampe to datetime\n",
    "df['date'] = df['date'].apply(lambda x: datetime.datetime.date(x)) \n",
    "\n",
    "# 매일매일의 데이터가 없어서 분석시 제외. 추후 보강 현재는 빠짐.\n",
    "update_pickle(df, pkl_name)"
   ]
  },
  {
   "cell_type": "markdown",
   "id": "1e0639aa",
   "metadata": {},
   "source": [
    "### US Sector Summary"
   ]
  },
  {
   "cell_type": "code",
   "execution_count": 46,
   "id": "d32b8046",
   "metadata": {},
   "outputs": [],
   "source": [
    "# startdate = datetime.datetime(2021,12,25)\n",
    "# enddate = datetime.datetime(2023,3,23)"
   ]
  },
  {
   "cell_type": "code",
   "execution_count": 47,
   "id": "d69f92bf",
   "metadata": {},
   "outputs": [],
   "source": [
    "# [ticker, shortname, filename]\n",
    "us_sector_list = US_SECTOR_LIST"
   ]
  },
  {
   "cell_type": "code",
   "execution_count": 48,
   "id": "daeb05c1",
   "metadata": {},
   "outputs": [],
   "source": [
    "for sector in us_sector_list:\n",
    "    make_pickle(get_ticker_data(sector[0], startdate, enddate, sector[1]), sector[2])"
   ]
  },
  {
   "cell_type": "markdown",
   "id": "ea11977f",
   "metadata": {},
   "source": [
    "### 여기까지 완료"
   ]
  },
  {
   "cell_type": "code",
   "execution_count": null,
   "id": "73f5d22a",
   "metadata": {},
   "outputs": [],
   "source": [
    "ticker = '^SP500-40'\n",
    "ydata = yf.Ticker(ticker)\n",
    "rdata = ydata.history(period=\"2y\") # 오늘부터 2년치\n",
    "rdata.reset_index('Date', inplace=True)"
   ]
  },
  {
   "cell_type": "code",
   "execution_count": null,
   "id": "5e4ceba0",
   "metadata": {},
   "outputs": [],
   "source": [
    "rdata['Date'] = rdata['Date'].dt.date  # datetime64 to datetime.date()"
   ]
  },
  {
   "cell_type": "code",
   "execution_count": null,
   "id": "571365a7",
   "metadata": {},
   "outputs": [],
   "source": [
    "rdata.info()"
   ]
  },
  {
   "cell_type": "code",
   "execution_count": null,
   "id": "e750870d",
   "metadata": {},
   "outputs": [],
   "source": [
    "rdata.head()"
   ]
  },
  {
   "cell_type": "code",
   "execution_count": null,
   "id": "35d824cc",
   "metadata": {},
   "outputs": [],
   "source": [
    "rdata['Date'] = rdata['Date'].dt.date  # datetime64 to datetime.date()\n",
    "rdata = rdata[(rdata['Date'] <= enddate) & (rdata['Date'] >= startdate)] \n",
    "rdata['temp'] = rdata['Close'].shift(1)\n",
    "val_temp = (rdata['Close'] - rdata['temp'])/rdata['temp']*100\n",
    "rdata[f'{col_name}_cr'] = val_temp.map(\"{:.2f}%\".format)\n",
    "rdata = rdata[['Date', 'Close', 'Open', 'High', 'Low', 'Volume', f'{col_name}_cr']] # 필요한 column만 남김\n",
    "rdata.columns = ['date', f'{col_name}', 'open', 'high', 'low', 'volume', f'{col_name}_cr'] # column이름 통일\n",
    "rdata.reset_index(drop=True, inplace=True) # index번호를 0부터 재정리"
   ]
  },
  {
   "cell_type": "markdown",
   "id": "dbab395b",
   "metadata": {},
   "source": [
    "### 아래는 삭제 예정"
   ]
  },
  {
   "cell_type": "code",
   "execution_count": null,
   "id": "2d3ea894",
   "metadata": {},
   "outputs": [],
   "source": [
    "# # S&P 500 Financials (SPSY), ^SP500-40\n",
    "# # spsy_url = 'https://www.investing.com/indices/s-p-500-financial-historical-data'\n",
    "# spsy = get_ticker_data('^SP500-40', startdate, enddate, 'spsy')\n",
    "# make_pickle(spsy, 'spsy.pkl')\n",
    "\n",
    "# # df = pdr.get_data_yahoo('^SP500-40', start=startdate, end=enddate)\n",
    "# # df = reformat_df(df, 'spsy')\n",
    "# # make_pickle(df, 'spsy.pkl')"
   ]
  },
  {
   "cell_type": "code",
   "execution_count": null,
   "id": "05fdcea0",
   "metadata": {},
   "outputs": [],
   "source": [
    "# # S&P 500 Energy (SPNY), ^GSPE\n",
    "# # spny_url = 'https://www.investing.com/indices/s-p-500-energy-historical-data'\n",
    "# spny = get_ticker_data('^GSPE', startdate, enddate, 'spny')\n",
    "# make_pickle(spny, 'spny.pkl')\n",
    "\n",
    "# # df = pdr.get_data_yahoo('^GSPE', start=startdate, end=enddate)\n",
    "# # df = reformat_df(df, 'spny')\n",
    "# # make_pickle(df, 'spny.pkl')"
   ]
  },
  {
   "cell_type": "code",
   "execution_count": null,
   "id": "edba64e6",
   "metadata": {},
   "outputs": [],
   "source": [
    "# # spxhc_url = 'https://www.investing.com/indices/s-p-500-health-care-historical-data'\n",
    "# # S&P 500 Health Care (SPXHC), ^SP500-35\n",
    "# spxhc = get_ticker_data('^SP500-35', startdate, enddate, 'spxhc')\n",
    "# make_pickle(spxhc, 'spxhc.pkl')\n",
    "\n",
    "# # spxhc = pdr.get_data_yahoo('^SP500-35', start=startdate, end=enddate)\n",
    "# # df = reformat_df(spxhc, 'spxhc')\n",
    "# # make_pickle(df, 'spxhc.pkl')"
   ]
  },
  {
   "cell_type": "code",
   "execution_count": null,
   "id": "f43c7ca4",
   "metadata": {},
   "outputs": [],
   "source": [
    "# # splrcd_url = 'https://www.investing.com/indices/s-p-500-consumer-discretionary-historical-data'\n",
    "# # S&P 500 Consumer Discretionary (SPLRCD), ^SP500-25\n",
    "# splrcd = get_ticker_data('^SP500-25', startdate, enddate, 'splrcd')\n",
    "# make_pickle(splrcd, 'splrcd.pkl')\n",
    "\n",
    "# # splrcd = pdr.get_data_yahoo('^SP500-25', start=startdate, end=enddate)\n",
    "# # df = reformat_df(splrcd, 'splrcd')\n",
    "# # make_pickle(df, 'splrcd.pkl')"
   ]
  },
  {
   "cell_type": "code",
   "execution_count": null,
   "id": "b10d9de2",
   "metadata": {},
   "outputs": [],
   "source": [
    "# # splrci_url = 'https://www.investing.com/indices/s-p-500-industrials-historical-data'\n",
    "# # S&P 500 Industrials (SPLRCI), ^SP500-20\n",
    "# splrci = get_ticker_data('^SP500-20', startdate, enddate, 'splrci')\n",
    "# make_pickle(splrci, 'splrci.pkl')\n",
    "\n",
    "# # splrci = pdr.get_data_yahoo('^SP500-20', start=startdate, end=enddate)\n",
    "# # df = reformat_df(splrci, 'splrci')\n",
    "# # make_pickle(df, 'splrci.pkl')"
   ]
  },
  {
   "cell_type": "code",
   "execution_count": null,
   "id": "896816aa",
   "metadata": {},
   "outputs": [],
   "source": [
    "# # splrcu_url = 'https://www.investing.com/indices/s-p-500-utilities-historical-data'\n",
    "# # S&P 500 Utilities (SPLRCU), ^SP500-55\n",
    "# splrcu = get_ticker_data('^SP500-55', startdate, enddate, 'splrcu')\n",
    "# make_pickle(splrcu, 'splrcu.pkl')\n",
    "\n",
    "# # splrcu = pdr.get_data_yahoo('^SP500-55', start=startdate, end=enddate)\n",
    "# # df = reformat_df(splrcu, 'splrcu')\n",
    "# # make_pickle(df, 'splrcu.pkl')"
   ]
  },
  {
   "cell_type": "code",
   "execution_count": null,
   "id": "8b057482",
   "metadata": {},
   "outputs": [],
   "source": [
    "# # splrcs_url = 'https://www.investing.com/indices/s-p-500-consumer-staples-historical-data'\n",
    "# # S&P 500 Consumer Staples (SPLRCS), ^SP500-30\n",
    "# splrcs = get_ticker_data('^SP500-30', startdate, enddate, 'splrcs')\n",
    "# make_pickle(splrcs, 'splrcs.pkl')\n",
    "\n",
    "# # splrcs = pdr.get_data_yahoo('^SP500-30', start=startdate, end=enddate)\n",
    "# # df = reformat_df(splrcs, 'splrcs')\n",
    "# # make_pickle(df, 'splrcs.pkl')"
   ]
  },
  {
   "cell_type": "code",
   "execution_count": null,
   "id": "9ee39090",
   "metadata": {},
   "outputs": [],
   "source": [
    "# # splrct_url = 'https://www.investing.com/indices/s-p-500-information-technology-historical-data'\n",
    "# # S&P 500 Information Technology (SPLRCT), ^SP500-45\n",
    "# splrct = get_ticker_data('^SP500-45', startdate, enddate, 'splrct')\n",
    "# make_pickle(splrct, 'splrct.pkl')\n",
    "\n",
    "# # splrct = pdr.get_data_yahoo('^SP500-45', start=startdate, end=enddate)\n",
    "# # df = reformat_df(splrct, 'splrct')\n",
    "# # make_pickle(df, 'splrct.pkl')"
   ]
  },
  {
   "cell_type": "code",
   "execution_count": null,
   "id": "f43adf6e",
   "metadata": {},
   "outputs": [],
   "source": [
    "# # splrcl_url = 'https://www.investing.com/indices/s-p-500-telecom-services-historical-data'\n",
    "# # S&P 500 Telecom Services (SPLRCL), ^SP500-50\n",
    "# splrcl = get_ticker_data('^SP500-50', startdate, enddate, 'splrcl')\n",
    "# make_pickle(splrcl, 'splrcl.pkl')\n",
    "\n",
    "# # splrcl = pdr.get_data_yahoo('^SP500-50', start=startdate, end=enddate)\n",
    "# # df = reformat_df(splrcl, 'splrcl')\n",
    "# # make_pickle(df, 'splrcl.pkl')"
   ]
  },
  {
   "cell_type": "code",
   "execution_count": null,
   "id": "f9347df3",
   "metadata": {},
   "outputs": [],
   "source": [
    "# # splrcm_url = 'https://www.investing.com/indices/s-p-500-materials-historical-data'\n",
    "# # S&P 500 Materials (SPLRCM), ^SP500-15\n",
    "# splrcm = get_ticker_data('^SP500-15', startdate, enddate, 'splrcm')\n",
    "# make_pickle(splrcm, 'splrcm.pkl')\n",
    "\n",
    "# # splrcm = pdr.get_data_yahoo('^SP500-15', start=startdate, end=enddate)\n",
    "# # df = reformat_df(splrcm, 'splrcm')\n",
    "# # make_pickle(df, 'splrcm.pkl')"
   ]
  },
  {
   "cell_type": "code",
   "execution_count": null,
   "id": "d9f51910",
   "metadata": {},
   "outputs": [],
   "source": [
    "# # ixbk_url = 'https://www.investing.com/indices/nasdaq-bank-historical-data'\n",
    "# # NASDAQ Bank (IXBK), ^BANK\n",
    "# ixbk = get_ticker_data('^BANK', startdate, enddate, 'ixbk')\n",
    "# make_pickle(ixbk, 'ixbk.pkl')\n",
    "\n",
    "# # ixbk = pdr.get_data_yahoo('^BANK', start=startdate, end=enddate)\n",
    "# # df = reformat_df(ixbk, 'ixbk')\n",
    "# # make_pickle(df, 'ixbk.pkl')"
   ]
  },
  {
   "cell_type": "code",
   "execution_count": null,
   "id": "f95fc0ef",
   "metadata": {},
   "outputs": [],
   "source": [
    "# yahoo에서는 하루만 잡힘. investing.com에서는 자료가 있으나 skip (나중에 보강)\n",
    "# ixf_url = 'https://www.investing.com/indices/nasdaq-financial-100-historical-data'\n",
    "# # NASDAQ Financial 100 (IXF), ^IXF\n",
    "# ixf = pdr.get_data_yahoo('^IXF', start=startdate, end=enddate)\n",
    "# df = reformat_df(ixf, 'ixf')\n",
    "# make_pickle(df, 'ixf.pkl')"
   ]
  },
  {
   "cell_type": "code",
   "execution_count": null,
   "id": "7d081094",
   "metadata": {},
   "outputs": [],
   "source": [
    "# # ixfn_url = 'https://www.investing.com/indices/nasdaq-other-finance-historical-data'\n",
    "# # NASDAQ Other Finance (IXFN), ^OFIN\n",
    "# ixfn = get_ticker_data('^OFIN', startdate, enddate, 'ixfn')\n",
    "# make_pickle(ixfn, 'ixfn.pkl')\n",
    "\n",
    "# # ixfn = pdr.get_data_yahoo('^OFIN', start=startdate, end=enddate)\n",
    "# # df = reformat_df(ixfn, 'ixfn')\n",
    "# # make_pickle(df, 'ixfn.pkl')"
   ]
  },
  {
   "cell_type": "code",
   "execution_count": null,
   "id": "7f1556dc",
   "metadata": {},
   "outputs": [],
   "source": [
    "# # ixid_url = 'https://www.investing.com/indices/nasdaq-industrial-historical-data'\n",
    "# # NASDAQ Industrial (IXID), ^INDS\n",
    "# ixid = get_ticker_data('^INDS', startdate, enddate, 'ixid')\n",
    "# make_pickle(ixid, 'ixid.pkl')\n",
    "\n",
    "# # ixid = pdr.get_data_yahoo('^INDS', start=startdate, end=enddate)\n",
    "# # df = reformat_df(ixid, 'ixid')\n",
    "# # make_pickle(df, 'ixid.pkl')"
   ]
  },
  {
   "cell_type": "code",
   "execution_count": null,
   "id": "2c4ecd90",
   "metadata": {},
   "outputs": [],
   "source": [
    "# # ixis_url = 'https://www.investing.com/indices/nasdaq-insurance-historical-data'\n",
    "# # NASDAQ Insurance (IXIS), ^INSR\n",
    "# ixis = get_ticker_data('^INSR', startdate, enddate, 'ixis')\n",
    "# make_pickle(ixis, 'ixis.pkl')\n",
    "\n",
    "# # ixis = pdr.get_data_yahoo('^INSR', start=startdate, end=enddate)\n",
    "# # df = reformat_df(ixis, 'ixis')\n",
    "# # make_pickle(df, 'ixis.pkl')"
   ]
  },
  {
   "cell_type": "code",
   "execution_count": null,
   "id": "c8583318",
   "metadata": {},
   "outputs": [],
   "source": [
    "# # ixk_url = 'https://www.investing.com/indices/nnasdaq-computer-historical-data'\n",
    "# # NASDAQ Computer (IXK), ^IXCO\n",
    "# ixk = get_ticker_data('^IXCO', startdate, enddate, 'ixk')\n",
    "# make_pickle(ixk, 'ixk.pkl')\n",
    "\n",
    "# # ixk = pdr.get_data_yahoo('^IXCO', start=startdate, end=enddate)\n",
    "# # df = reformat_df(ixk, 'ixk')\n",
    "# # make_pickle(df, 'ixk.pkl')"
   ]
  },
  {
   "cell_type": "code",
   "execution_count": null,
   "id": "75ca249b",
   "metadata": {},
   "outputs": [],
   "source": [
    "# # ixtr_url = 'https://www.investing.com/indices/nasdaq-transportation-historical-data'\n",
    "# # NASDAQ Transportation (IXTR), ^TRAN\n",
    "# ixtr = get_ticker_data('^TRAN', startdate, enddate, 'ixtr')\n",
    "# make_pickle(ixtr, 'ixtr.pkl')\n",
    "\n",
    "# # ixtr = pdr.get_data_yahoo('^TRAN', start=startdate, end=enddate)\n",
    "# # df = reformat_df(ixtr, 'ixtr')\n",
    "# # make_pickle(df, 'ixtr.pkl')"
   ]
  },
  {
   "cell_type": "code",
   "execution_count": null,
   "id": "5397dc4d",
   "metadata": {},
   "outputs": [],
   "source": [
    "# # ixut_url = 'https://www.investing.com/indices/nasdaq-telecommunications-historical-data'\n",
    "# # NASDAQ Telecommunications (IXUT), ^IXTC\n",
    "# ixut = get_ticker_data('^IXTC', startdate, enddate, 'ixut')\n",
    "# make_pickle(ixut, 'ixut.pkl')\n",
    "\n",
    "# # ixut = pdr.get_data_yahoo('^IXTC', start=startdate, end=enddate)\n",
    "# # df = reformat_df(ixut, 'ixut')\n",
    "# # make_pickle(df, 'ixut.pkl')"
   ]
  },
  {
   "cell_type": "code",
   "execution_count": null,
   "id": "29110256",
   "metadata": {},
   "outputs": [],
   "source": [
    "# # nbi_url = 'https://www.investing.com/indices/nasdaq-biotechnology-historical-data'\n",
    "# # NASDAQ Biotechnology (NBI), ^NBI\n",
    "# nbi = get_ticker_data('^NBI', startdate, enddate, 'nbi')\n",
    "# make_pickle(nbi, 'nbi.pkl')\n",
    "\n",
    "# # nbi = pdr.get_data_yahoo('^NBI', start=startdate, end=enddate)\n",
    "# # df = reformat_df(nbi, 'nbi')\n",
    "# # make_pickle(df, 'nbi.pkl')"
   ]
  },
  {
   "cell_type": "code",
   "execution_count": null,
   "id": "9c0fd572",
   "metadata": {},
   "outputs": [],
   "source": [
    "# yahoo에서는 하루만 잡힘. investing.com에서는 자료가 있으나 skip (나중에 보강)\n",
    "# qnet_url = 'https://www.investing.com/indices/nasdaq-internet-historical-data'\n",
    "# # NASDAQ Internet (QNET), ^QNET\n",
    "# qnet = pdr.get_data_yahoo('^QNET', start=startdate, end=enddate)\n",
    "# df = reformat_df(qnet, 'qnet')\n",
    "# make_pickle(df, 'qnet.pkl')"
   ]
  },
  {
   "cell_type": "code",
   "execution_count": null,
   "id": "fad080d3",
   "metadata": {
    "scrolled": true
   },
   "outputs": [],
   "source": [
    "# bkx_url = 'https://www.investing.com/indices/kbw-bank-historical-data'\n",
    "# # KBW NASDAQ Bank (BKX), ^BKX\n",
    "# bkx = get_ticker_data('^BKX', startdate, enddate, 'bkx')\n",
    "# make_pickle(bkx, 'bkx.pkl')\n",
    "\n",
    "# # bkx = pdr.get_data_yahoo('^BKX', start=startdate, end=enddate)\n",
    "# # df = reformat_df(bkx, 'bkx')\n",
    "# # make_pickle(df, 'bkx.pkl')"
   ]
  },
  {
   "cell_type": "code",
   "execution_count": null,
   "id": "dd7125da",
   "metadata": {},
   "outputs": [],
   "source": []
  },
  {
   "cell_type": "code",
   "execution_count": null,
   "id": "3ec7c127",
   "metadata": {},
   "outputs": [],
   "source": []
  }
 ],
 "metadata": {
  "kernelspec": {
   "display_name": "Python 3 (ipykernel)",
   "language": "python",
   "name": "python3"
  },
  "language_info": {
   "codemirror_mode": {
    "name": "ipython",
    "version": 3
   },
   "file_extension": ".py",
   "mimetype": "text/x-python",
   "name": "python",
   "nbconvert_exporter": "python",
   "pygments_lexer": "ipython3",
   "version": "3.12.2"
  }
 },
 "nbformat": 4,
 "nbformat_minor": 5
}
