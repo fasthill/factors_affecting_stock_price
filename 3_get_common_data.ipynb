{
 "cells": [
  {
   "cell_type": "markdown",
   "id": "25b184a9",
   "metadata": {},
   "source": [
    "#### 지표 UPDATE \n",
    "   - 주요 주식시장 지수 : spx, dji, ixix, 코스피, 코스닥은 따로 krx 정보시스템에서 취득\n",
    "   - 반도체지수, VIX 지수: sox, vix\n",
    "   - 미국 채권 지수, 한국 채권 지수\n",
    "   - 원화 환율\n",
    "   - 선물 : 미국 3대 지수, wti, 달러지수 선물"
   ]
  },
  {
   "cell_type": "code",
   "execution_count": null,
   "id": "9372e251-4905-4af8-a7db-f99c23b8c1c2",
   "metadata": {},
   "outputs": [],
   "source": [
    "!python --version"
   ]
  },
  {
   "cell_type": "code",
   "execution_count": 1,
   "id": "matched-interview",
   "metadata": {},
   "outputs": [],
   "source": [
    "from bs4 import BeautifulSoup as bs\n",
    "import requests\n",
    "import datetime, time\n",
    "import pickle\n",
    "\n",
    "import pandas as pd\n",
    "import numpy as np\n",
    "\n",
    "import os\n",
    "import sys\n",
    "import io\n",
    "import shutil\n",
    "\n",
    "import matplotlib.pyplot as plt"
   ]
  },
  {
   "cell_type": "code",
   "execution_count": 2,
   "id": "2dde17af",
   "metadata": {},
   "outputs": [],
   "source": [
    "# from pandas_datareader import data as pdr\n",
    "# # from datetime import datetime\n",
    "import yfinance as yf\n",
    "# yf.pdr_override()"
   ]
  },
  {
   "cell_type": "code",
   "execution_count": 3,
   "id": "1b497955",
   "metadata": {},
   "outputs": [],
   "source": [
    "# !pip install cloudscraper"
   ]
  },
  {
   "cell_type": "code",
   "execution_count": 4,
   "id": "6a3f2606",
   "metadata": {},
   "outputs": [],
   "source": [
    "# !pip install cfscrape # 403 forbidden, cloudflare error을 해결하기 위한 모듈\n",
    "import cloudscraper\n",
    "scraper = cloudscraper.create_scraper()"
   ]
  },
  {
   "cell_type": "code",
   "execution_count": 5,
   "id": "4fb70e22-0c41-4f1e-8f1a-cf984c3db826",
   "metadata": {},
   "outputs": [],
   "source": [
    "# !pip install -U cfscrape\n",
    "# !pip show cfscrape"
   ]
  },
  {
   "cell_type": "code",
   "execution_count": 6,
   "id": "08943027",
   "metadata": {},
   "outputs": [],
   "source": [
    "# # !pip install cfscrape # 403 forbidden, cloudflare error을 해결하기 위한 모듈\n",
    "# import cfscrape\n",
    "# scraper = cfscrape.create_scraper()\n",
    "# # 이후 403 error이 발생한 곳에는 requests 대신 scraper 사용"
   ]
  },
  {
   "cell_type": "code",
   "execution_count": 7,
   "id": "ac807255",
   "metadata": {},
   "outputs": [],
   "source": [
    "module_path = os.path.abspath(os.path.join('.')) \n",
    "sys.path.append(module_path+\"\\\\data\\\\constant\")\n",
    "\n",
    "from constants import US_SECTOR_LIST"
   ]
  },
  {
   "cell_type": "code",
   "execution_count": 8,
   "id": "selective-ireland",
   "metadata": {},
   "outputs": [],
   "source": [
    "headers = {'User-Agent': 'Mozilla/6.0 (Macintosh; Intel Mac OS X 10_11_5) \\\n",
    "           AppleWebKit/537.36 (KHTML, like Gecko) Chrome/50.0.2661.102 Safari/537.36'}\n",
    "\n",
    "headers = {'Referer': 'https://kr.investing.com/',\n",
    "           'User-Agent': 'Mozilla/5.0 (Windows NT 10.0; Win64; x64) \\\n",
    "           AppleWebKit/537.36 (KHTML, like Gecko) Chrome/125.0.0.0 Safari/537.36 Edg/125.0.0.0'}"
   ]
  },
  {
   "cell_type": "code",
   "execution_count": 9,
   "id": "bf9d944e",
   "metadata": {},
   "outputs": [],
   "source": [
    "def correct_date_format(df):\n",
    "# 시간, 미국, 한국 접속사이트에 따라 attribute 가 변경되서 나타나기 때문에 error  처리를 위해 try 사용\n",
    "    try:\n",
    "        df['date'] = df['date'].apply(lambda x : datetime.datetime.strptime(x, \"%b %d, %Y\"))\n",
    "    except:\n",
    "        try:\n",
    "            df['date'] = df['date'].apply(lambda x : datetime.datetime.strptime(x, \"%m/%d/%Y\"))\n",
    "        except:\n",
    "            try:\n",
    "                df['date'] = df['date'].apply(lambda x : datetime.datetime.strptime(x, \"%Y- %m- %d\"))\n",
    "            except:\n",
    "                try:\n",
    "                    df['date'] = df['date'].apply(lambda x : datetime.datetime.strptime(x, \"%Y년 %m월 %d일\"))\n",
    "                except:\n",
    "                    df['date'] = df['date'].apply(lambda x : datetime.datetime.strptime(x, \"%m월 %d, %Y\"))\n",
    "    \n",
    "    try:  # convert timestamp to datetime.datetime.date\n",
    "        df['date'] = df['date'].apply(lambda x: datetime.datetime.date(x))\n",
    "    except:\n",
    "        pass\n",
    "    \n",
    "    return df"
   ]
  },
  {
   "cell_type": "code",
   "execution_count": 10,
   "id": "8ee71f2d",
   "metadata": {},
   "outputs": [],
   "source": [
    "def create_directory(directory):\n",
    "    try:\n",
    "        if not os.path.exists(directory):\n",
    "            os.makedirs(directory)\n",
    "    except OSError:\n",
    "        print(\"Error: Failed to create the directory.\")"
   ]
  },
  {
   "cell_type": "code",
   "execution_count": 11,
   "id": "466bcfc1",
   "metadata": {},
   "outputs": [],
   "source": [
    "def make_pickle(df, pkl_name):\n",
    "    pkl_directory = 'data/common_pkl/'\n",
    "    try:\n",
    "        if not os.path.exists(pkl_directory):\n",
    "            os.makedirs(pkl_directory)\n",
    "    except OSError:\n",
    "        print(\"Error: Failed to create the directory.\")\n",
    "\n",
    "    # 데이터 저장: ../data/spx.pkl\n",
    "    df.to_pickle(pkl_directory+pkl_name)\n",
    "    df.to_csv(pkl_directory+pkl_name.replace('pkl','csv'))"
   ]
  },
  {
   "cell_type": "code",
   "execution_count": 12,
   "id": "904330d4",
   "metadata": {},
   "outputs": [],
   "source": [
    "def read_pickle(pkl_name):\n",
    "# 데이터 로드\n",
    "    pkl_directory = 'data/common_pkl/'\n",
    "    df = pd.read_pickle(pkl_directory+pkl_name)\n",
    "    \n",
    "    return df"
   ]
  },
  {
   "cell_type": "code",
   "execution_count": 13,
   "id": "c1e62780",
   "metadata": {},
   "outputs": [],
   "source": [
    "def get_data(url, column):\n",
    "           \n",
    "    count = 0\n",
    "    while True:\n",
    "        try :\n",
    "            res = scraper.get(url, headers=headers)\n",
    "            print(\"t1\", res.status_code)\n",
    "#             res = requests.get(url, headers=headers)\n",
    "#             class_name = 'w-full text-xs leading-4 overflow-x-auto freeze-column-w-1'\n",
    "# 위의 class_name 명칭은 수시로 바뀌므로 새롭게 수정해 주어야 함.\n",
    "            class_name = 'freeze-column-w-1 w-full overflow-x-auto text-xs leading-4'\n",
    "            # df = pd.read_html(res.text, attrs={\"class\": class_name}, flavor=[\"lxml\", \"bs4\"])[0]\n",
    "            df = pd.read_html(io.StringIO(str(res.text)), attrs={\"class\": class_name}, flavor=[\"lxml\", \"bs4\"])[0]\n",
    "#             res = scraper.get(url, headers=headers)  # 변경전\n",
    "#             df = pd.read_html(res.text, attrs={\"id\": \"curr_table\"}, flavor=[\"lxml\", \"bs4\"])[0]\n",
    "            break\n",
    "        except:\n",
    "            try:\n",
    "                # res = scraper.get(url, headers=headers)\n",
    "                res = requests.get(url, headers=headers)\n",
    "                print(\"t2\", res.status_code)\n",
    "                # df = pd.read_html(res.text, attrs={\"data-test\": \"historical-data-table\"}, flavor=[\"lxml\", \"bs4\"])[0]\n",
    "                df = pd.read_html(io.StringIO(str(res.text)), attrs={\"data-test\": \"historical-data-table\"}, flavor=[\"lxml\", \"bs4\"])[0]\n",
    "                break\n",
    "            except:\n",
    "                pass\n",
    "        finally:\n",
    "            time.sleep(1)\n",
    "            print(\"t3\")\n",
    "            count += 1\n",
    "            if count > 5 :\n",
    "                raise ValueError('The url request is delaying')\n",
    "                break           \n",
    "\n",
    "    df.columns = column\n",
    "    correct_date_format(df)\n",
    "    df.sort_values(by=[df.columns[0]], inplace=True)\n",
    "    df.index = np.arange(0, len(df))  # 일련 번호 오름차순으로 재 설정\n",
    "\n",
    "    return df"
   ]
  },
  {
   "cell_type": "code",
   "execution_count": 14,
   "id": "24a455de",
   "metadata": {},
   "outputs": [],
   "source": [
    "def concat_df(df_o, df):\n",
    "    df_o = pd.concat([df_o, df], ignore_index=True)\n",
    "    df_o.drop_duplicates(subset=['date'], keep='last', inplace=True)\n",
    "#     df_o.drop_duplicates(subset=['date'], keep='first', inplace=True)\n",
    "    df_o.sort_values(by=[df_o.columns[0]], inplace=True)\n",
    "    df_o.index = np.arange(0, len(df_o))  # 일련 번호 오름차순으로 재 설정\n",
    "    return df_o"
   ]
  },
  {
   "cell_type": "code",
   "execution_count": 15,
   "id": "a9731a5a",
   "metadata": {},
   "outputs": [],
   "source": [
    "def update_pickle(df, pkl_name):\n",
    "    df_o = read_pickle(pkl_name)\n",
    "    try:  # convert timestamp to datetime.datetime.date\n",
    "        df_o['date'] = df_o['date'].apply(lambda x: datetime.datetime.date(x))\n",
    "    except:\n",
    "        pass\n",
    "    df_o = concat_df(df_o, df)\n",
    "    \n",
    "    make_pickle(df_o, pkl_name)"
   ]
  },
  {
   "cell_type": "code",
   "execution_count": 16,
   "id": "dfb7e8b7",
   "metadata": {},
   "outputs": [],
   "source": [
    "# reformat data from yfinance\n",
    "def reformat_df(df, col_name):\n",
    "    df = df.reset_index('Date')\n",
    "    df.drop(labels='Adj Close', axis=1, inplace=True)\n",
    "    df = df[['Date', 'Close', 'Open', 'High', 'Low', 'Volume']]\n",
    "    df.columns = ['date', col_name, 'open', 'high', 'low', 'volume']\n",
    "    df['temp'] = df[col_name].shift(1)\n",
    "    df[col_name+'_cr'] = ((df[col_name] - df['temp'])/df['temp']*100).apply(lambda x: f'{x:.2f}%')\n",
    "    df.drop(labels='temp', axis=1, inplace=True)\n",
    "    return df"
   ]
  },
  {
   "cell_type": "code",
   "execution_count": 17,
   "id": "fd243e74",
   "metadata": {},
   "outputs": [],
   "source": [
    "def get_ticker_data(ticker, startdate, enddate, col_name):\n",
    "    while True:\n",
    "        ydata = yf.Ticker(ticker)\n",
    "        rdata = ydata.history(period=\"5y\") # 오늘부터 3년치\n",
    "        if len(rdata) <= 100: # 인터넷 속도로 인한 데이터 취득이 되지 않았을 때 임의의 수(100)으로 비교\n",
    "            pass\n",
    "        else:\n",
    "            break\n",
    "    rdata.reset_index('Date', inplace=True)\n",
    "    rdata['Date'] = rdata['Date'].dt.date  # datetime64 to datetime.date()\n",
    "    rdata = rdata[(rdata['Date'] <= enddate) & (rdata['Date'] >= startdate)] \n",
    "    rdata['temp'] = rdata['Close'].shift(1)\n",
    "    val_temp = (rdata['Close'] - rdata['temp'])/rdata['temp']*100\n",
    "    rdata[f'{col_name}_cr'] = val_temp.map(\"{:.2f}%\".format)\n",
    "    rdata = rdata[['Date', 'Close', 'Open', 'High', 'Low', 'Volume', f'{col_name}_cr']] # 필요한 column만 남김\n",
    "    rdata.columns = ['date', f'{col_name}', 'open', 'high', 'low', 'volume', f'{col_name}_cr'] # column이름 통일\n",
    "    rdata.reset_index(drop=True, inplace=True) # index번호를 0부터 재정리\n",
    "    return rdata"
   ]
  },
  {
   "cell_type": "code",
   "execution_count": 18,
   "id": "83760063",
   "metadata": {},
   "outputs": [],
   "source": [
    "# startdate = datetime.datetime(2021,12,25)\n",
    "startdate = datetime.date(2021,12,25)\n",
    "# enddate = datetime.datetime(2023,3,23)\n",
    "enddate = datetime.date.today() + datetime.timedelta(days=2)"
   ]
  },
  {
   "cell_type": "code",
   "execution_count": 19,
   "id": "5ca633db",
   "metadata": {
    "scrolled": true
   },
   "outputs": [],
   "source": [
    "# # spx = pdr.get_data_yahoo('^SPX', start=startdate, end=enddate)\n",
    "# # df = reformat_df(spx, 'spx')\n",
    "# # make_pickle(df, 'spx.pkl')\n",
    "\n",
    "# # spx는 yahoo에서 최근 하루만 제공하기 때문에 investing을 계속 사용함\n",
    "# spx_url = 'https://kr.investing.com/indices/us-spx-500-historical-data'\n",
    "# spx = ['date', 'spx', 'open', 'high', 'low', 'volume', 'spx_cr']\n",
    "# pkl_name = 'spx.pkl'\n",
    "# df = get_data(spx_url,spx)\n",
    "\n",
    "# update_pickle(df, pkl_name)"
   ]
  },
  {
   "cell_type": "code",
   "execution_count": 20,
   "id": "5d208f8e-6dbf-48c1-8627-9cbc74aa89f5",
   "metadata": {},
   "outputs": [],
   "source": [
    "# '^SPX'\n",
    "ydata = yf.Ticker('^SPX')"
   ]
  },
  {
   "cell_type": "code",
   "execution_count": 21,
   "id": "b531cd96-f524-4f54-88e1-857bb352d28a",
   "metadata": {},
   "outputs": [
    {
     "name": "stderr",
     "output_type": "stream",
     "text": [
      "^SPX: No price data found, symbol may be delisted (period=5y)\n"
     ]
    }
   ],
   "source": [
    "rdata = ydata.history(period=\"5y\")"
   ]
  },
  {
   "cell_type": "code",
   "execution_count": 22,
   "id": "53056454-310a-45c2-9dcc-4052c9a610f6",
   "metadata": {},
   "outputs": [
    {
     "data": {
      "text/plain": [
       "<bound method log_indent_decorator.<locals>.wrapper of yfinance.Ticker object <^SPX>>"
      ]
     },
     "execution_count": 22,
     "metadata": {},
     "output_type": "execute_result"
    }
   ],
   "source": [
    "ydata.history"
   ]
  },
  {
   "cell_type": "code",
   "execution_count": 23,
   "id": "140b3b5c-245b-41ee-b634-9f1de7b6315d",
   "metadata": {},
   "outputs": [
    {
     "name": "stderr",
     "output_type": "stream",
     "text": [
      "^SPX: No price data found, symbol may be delisted (period=5y)\n",
      "^SPX: No price data found, symbol may be delisted (period=5y)\n",
      "^SPX: No price data found, symbol may be delisted (period=5y)\n",
      "^SPX: No price data found, symbol may be delisted (period=5y)\n",
      "^SPX: No price data found, symbol may be delisted (period=5y)\n",
      "^SPX: No price data found, symbol may be delisted (period=5y)\n",
      "^SPX: No price data found, symbol may be delisted (period=5y)\n",
      "^SPX: No price data found, symbol may be delisted (period=5y)\n",
      "^SPX: No price data found, symbol may be delisted (period=5y)\n",
      "^SPX: No price data found, symbol may be delisted (period=5y)\n",
      "^SPX: No price data found, symbol may be delisted (period=5y)\n",
      "^SPX: No price data found, symbol may be delisted (period=5y)\n",
      "^SPX: No price data found, symbol may be delisted (period=5y)\n",
      "^SPX: No price data found, symbol may be delisted (period=5y)\n",
      "^SPX: No price data found, symbol may be delisted (period=5y)\n"
     ]
    },
    {
     "ename": "KeyboardInterrupt",
     "evalue": "",
     "output_type": "error",
     "traceback": [
      "\u001b[1;31m---------------------------------------------------------------------------\u001b[0m",
      "\u001b[1;31mKeyboardInterrupt\u001b[0m                         Traceback (most recent call last)",
      "Cell \u001b[1;32mIn[23], line 1\u001b[0m\n\u001b[1;32m----> 1\u001b[0m spx \u001b[38;5;241m=\u001b[39m \u001b[43mget_ticker_data\u001b[49m\u001b[43m(\u001b[49m\u001b[38;5;124;43m'\u001b[39;49m\u001b[38;5;124;43m^SPX\u001b[39;49m\u001b[38;5;124;43m'\u001b[39;49m\u001b[43m,\u001b[49m\u001b[43m \u001b[49m\u001b[43mstartdate\u001b[49m\u001b[43m,\u001b[49m\u001b[43m \u001b[49m\u001b[43menddate\u001b[49m\u001b[43m,\u001b[49m\u001b[43m \u001b[49m\u001b[38;5;124;43m'\u001b[39;49m\u001b[38;5;124;43mspx\u001b[39;49m\u001b[38;5;124;43m'\u001b[39;49m\u001b[43m)\u001b[49m\n\u001b[0;32m      2\u001b[0m make_pickle(spx, \u001b[38;5;124m'\u001b[39m\u001b[38;5;124mspx.pkl\u001b[39m\u001b[38;5;124m'\u001b[39m)\n",
      "Cell \u001b[1;32mIn[17], line 4\u001b[0m, in \u001b[0;36mget_ticker_data\u001b[1;34m(ticker, startdate, enddate, col_name)\u001b[0m\n\u001b[0;32m      2\u001b[0m \u001b[38;5;28;01mwhile\u001b[39;00m \u001b[38;5;28;01mTrue\u001b[39;00m:\n\u001b[0;32m      3\u001b[0m     ydata \u001b[38;5;241m=\u001b[39m yf\u001b[38;5;241m.\u001b[39mTicker(ticker)\n\u001b[1;32m----> 4\u001b[0m     rdata \u001b[38;5;241m=\u001b[39m \u001b[43mydata\u001b[49m\u001b[38;5;241;43m.\u001b[39;49m\u001b[43mhistory\u001b[49m\u001b[43m(\u001b[49m\u001b[43mperiod\u001b[49m\u001b[38;5;241;43m=\u001b[39;49m\u001b[38;5;124;43m\"\u001b[39;49m\u001b[38;5;124;43m5y\u001b[39;49m\u001b[38;5;124;43m\"\u001b[39;49m\u001b[43m)\u001b[49m \u001b[38;5;66;03m# 오늘부터 3년치\u001b[39;00m\n\u001b[0;32m      5\u001b[0m     \u001b[38;5;28;01mif\u001b[39;00m \u001b[38;5;28mlen\u001b[39m(rdata) \u001b[38;5;241m<\u001b[39m\u001b[38;5;241m=\u001b[39m \u001b[38;5;241m100\u001b[39m: \u001b[38;5;66;03m# 인터넷 속도로 인한 데이터 취득이 되지 않았을 때 임의의 수(100)으로 비교\u001b[39;00m\n\u001b[0;32m      6\u001b[0m         \u001b[38;5;28;01mpass\u001b[39;00m\n",
      "File \u001b[1;32m~\\AppData\\Local\\Programs\\Python\\Python312\\Lib\\site-packages\\yfinance\\utils.py:103\u001b[0m, in \u001b[0;36mlog_indent_decorator.<locals>.wrapper\u001b[1;34m(*args, **kwargs)\u001b[0m\n\u001b[0;32m    100\u001b[0m logger\u001b[38;5;241m.\u001b[39mdebug(\u001b[38;5;124mf\u001b[39m\u001b[38;5;124m'\u001b[39m\u001b[38;5;124mEntering \u001b[39m\u001b[38;5;132;01m{\u001b[39;00mfunc\u001b[38;5;241m.\u001b[39m\u001b[38;5;18m__name__\u001b[39m\u001b[38;5;132;01m}\u001b[39;00m\u001b[38;5;124m()\u001b[39m\u001b[38;5;124m'\u001b[39m)\n\u001b[0;32m    102\u001b[0m \u001b[38;5;28;01mwith\u001b[39;00m IndentationContext():\n\u001b[1;32m--> 103\u001b[0m     result \u001b[38;5;241m=\u001b[39m \u001b[43mfunc\u001b[49m\u001b[43m(\u001b[49m\u001b[38;5;241;43m*\u001b[39;49m\u001b[43margs\u001b[49m\u001b[43m,\u001b[49m\u001b[43m \u001b[49m\u001b[38;5;241;43m*\u001b[39;49m\u001b[38;5;241;43m*\u001b[39;49m\u001b[43mkwargs\u001b[49m\u001b[43m)\u001b[49m\n\u001b[0;32m    105\u001b[0m logger\u001b[38;5;241m.\u001b[39mdebug(\u001b[38;5;124mf\u001b[39m\u001b[38;5;124m'\u001b[39m\u001b[38;5;124mExiting \u001b[39m\u001b[38;5;132;01m{\u001b[39;00mfunc\u001b[38;5;241m.\u001b[39m\u001b[38;5;18m__name__\u001b[39m\u001b[38;5;132;01m}\u001b[39;00m\u001b[38;5;124m()\u001b[39m\u001b[38;5;124m'\u001b[39m)\n\u001b[0;32m    106\u001b[0m \u001b[38;5;28;01mreturn\u001b[39;00m result\n",
      "File \u001b[1;32m~\\AppData\\Local\\Programs\\Python\\Python312\\Lib\\site-packages\\yfinance\\base.py:77\u001b[0m, in \u001b[0;36mTickerBase.history\u001b[1;34m(self, *args, **kwargs)\u001b[0m\n\u001b[0;32m     75\u001b[0m \u001b[38;5;129m@utils\u001b[39m\u001b[38;5;241m.\u001b[39mlog_indent_decorator\n\u001b[0;32m     76\u001b[0m \u001b[38;5;28;01mdef\u001b[39;00m \u001b[38;5;21mhistory\u001b[39m(\u001b[38;5;28mself\u001b[39m, \u001b[38;5;241m*\u001b[39margs, \u001b[38;5;241m*\u001b[39m\u001b[38;5;241m*\u001b[39mkwargs) \u001b[38;5;241m-\u001b[39m\u001b[38;5;241m>\u001b[39m pd\u001b[38;5;241m.\u001b[39mDataFrame:\n\u001b[1;32m---> 77\u001b[0m     \u001b[38;5;28;01mreturn\u001b[39;00m \u001b[38;5;28;43mself\u001b[39;49m\u001b[38;5;241;43m.\u001b[39;49m\u001b[43m_lazy_load_price_history\u001b[49m\u001b[43m(\u001b[49m\u001b[43m)\u001b[49m\u001b[38;5;241;43m.\u001b[39;49m\u001b[43mhistory\u001b[49m\u001b[43m(\u001b[49m\u001b[38;5;241;43m*\u001b[39;49m\u001b[43margs\u001b[49m\u001b[43m,\u001b[49m\u001b[43m \u001b[49m\u001b[38;5;241;43m*\u001b[39;49m\u001b[38;5;241;43m*\u001b[39;49m\u001b[43mkwargs\u001b[49m\u001b[43m)\u001b[49m\n",
      "File \u001b[1;32m~\\AppData\\Local\\Programs\\Python\\Python312\\Lib\\site-packages\\yfinance\\utils.py:103\u001b[0m, in \u001b[0;36mlog_indent_decorator.<locals>.wrapper\u001b[1;34m(*args, **kwargs)\u001b[0m\n\u001b[0;32m    100\u001b[0m logger\u001b[38;5;241m.\u001b[39mdebug(\u001b[38;5;124mf\u001b[39m\u001b[38;5;124m'\u001b[39m\u001b[38;5;124mEntering \u001b[39m\u001b[38;5;132;01m{\u001b[39;00mfunc\u001b[38;5;241m.\u001b[39m\u001b[38;5;18m__name__\u001b[39m\u001b[38;5;132;01m}\u001b[39;00m\u001b[38;5;124m()\u001b[39m\u001b[38;5;124m'\u001b[39m)\n\u001b[0;32m    102\u001b[0m \u001b[38;5;28;01mwith\u001b[39;00m IndentationContext():\n\u001b[1;32m--> 103\u001b[0m     result \u001b[38;5;241m=\u001b[39m \u001b[43mfunc\u001b[49m\u001b[43m(\u001b[49m\u001b[38;5;241;43m*\u001b[39;49m\u001b[43margs\u001b[49m\u001b[43m,\u001b[49m\u001b[43m \u001b[49m\u001b[38;5;241;43m*\u001b[39;49m\u001b[38;5;241;43m*\u001b[39;49m\u001b[43mkwargs\u001b[49m\u001b[43m)\u001b[49m\n\u001b[0;32m    105\u001b[0m logger\u001b[38;5;241m.\u001b[39mdebug(\u001b[38;5;124mf\u001b[39m\u001b[38;5;124m'\u001b[39m\u001b[38;5;124mExiting \u001b[39m\u001b[38;5;132;01m{\u001b[39;00mfunc\u001b[38;5;241m.\u001b[39m\u001b[38;5;18m__name__\u001b[39m\u001b[38;5;132;01m}\u001b[39;00m\u001b[38;5;124m()\u001b[39m\u001b[38;5;124m'\u001b[39m)\n\u001b[0;32m    106\u001b[0m \u001b[38;5;28;01mreturn\u001b[39;00m result\n",
      "File \u001b[1;32m~\\AppData\\Local\\Programs\\Python\\Python312\\Lib\\site-packages\\yfinance\\scrapers\\history.py:139\u001b[0m, in \u001b[0;36mPriceHistory.history\u001b[1;34m(self, period, interval, start, end, prepost, actions, auto_adjust, back_adjust, repair, keepna, proxy, rounding, timeout, raise_errors)\u001b[0m\n\u001b[0;32m    137\u001b[0m         get_fn \u001b[38;5;241m=\u001b[39m \u001b[38;5;28mself\u001b[39m\u001b[38;5;241m.\u001b[39m_data\u001b[38;5;241m.\u001b[39mcache_get\n\u001b[0;32m    138\u001b[0m \u001b[38;5;28;01mtry\u001b[39;00m:\n\u001b[1;32m--> 139\u001b[0m     data \u001b[38;5;241m=\u001b[39m \u001b[43mget_fn\u001b[49m\u001b[43m(\u001b[49m\n\u001b[0;32m    140\u001b[0m \u001b[43m        \u001b[49m\u001b[43murl\u001b[49m\u001b[38;5;241;43m=\u001b[39;49m\u001b[43murl\u001b[49m\u001b[43m,\u001b[49m\n\u001b[0;32m    141\u001b[0m \u001b[43m        \u001b[49m\u001b[43mparams\u001b[49m\u001b[38;5;241;43m=\u001b[39;49m\u001b[43mparams\u001b[49m\u001b[43m,\u001b[49m\n\u001b[0;32m    142\u001b[0m \u001b[43m        \u001b[49m\u001b[43mproxy\u001b[49m\u001b[38;5;241;43m=\u001b[39;49m\u001b[43mproxy\u001b[49m\u001b[43m,\u001b[49m\n\u001b[0;32m    143\u001b[0m \u001b[43m        \u001b[49m\u001b[43mtimeout\u001b[49m\u001b[38;5;241;43m=\u001b[39;49m\u001b[43mtimeout\u001b[49m\n\u001b[0;32m    144\u001b[0m \u001b[43m    \u001b[49m\u001b[43m)\u001b[49m\n\u001b[0;32m    145\u001b[0m     \u001b[38;5;28;01mif\u001b[39;00m \u001b[38;5;124m\"\u001b[39m\u001b[38;5;124mWill be right back\u001b[39m\u001b[38;5;124m\"\u001b[39m \u001b[38;5;129;01min\u001b[39;00m data\u001b[38;5;241m.\u001b[39mtext \u001b[38;5;129;01mor\u001b[39;00m data \u001b[38;5;129;01mis\u001b[39;00m \u001b[38;5;28;01mNone\u001b[39;00m:\n\u001b[0;32m    146\u001b[0m         \u001b[38;5;28;01mraise\u001b[39;00m \u001b[38;5;167;01mRuntimeError\u001b[39;00m(\u001b[38;5;124m\"\u001b[39m\u001b[38;5;124m*** YAHOO! FINANCE IS CURRENTLY DOWN! ***\u001b[39m\u001b[38;5;130;01m\\n\u001b[39;00m\u001b[38;5;124m\"\u001b[39m\n\u001b[0;32m    147\u001b[0m                            \u001b[38;5;124m\"\u001b[39m\u001b[38;5;124mOur engineers are working quickly to resolve \u001b[39m\u001b[38;5;124m\"\u001b[39m\n\u001b[0;32m    148\u001b[0m                            \u001b[38;5;124m\"\u001b[39m\u001b[38;5;124mthe issue. Thank you for your patience.\u001b[39m\u001b[38;5;124m\"\u001b[39m)\n",
      "File \u001b[1;32m~\\AppData\\Local\\Programs\\Python\\Python312\\Lib\\site-packages\\yfinance\\utils.py:103\u001b[0m, in \u001b[0;36mlog_indent_decorator.<locals>.wrapper\u001b[1;34m(*args, **kwargs)\u001b[0m\n\u001b[0;32m    100\u001b[0m logger\u001b[38;5;241m.\u001b[39mdebug(\u001b[38;5;124mf\u001b[39m\u001b[38;5;124m'\u001b[39m\u001b[38;5;124mEntering \u001b[39m\u001b[38;5;132;01m{\u001b[39;00mfunc\u001b[38;5;241m.\u001b[39m\u001b[38;5;18m__name__\u001b[39m\u001b[38;5;132;01m}\u001b[39;00m\u001b[38;5;124m()\u001b[39m\u001b[38;5;124m'\u001b[39m)\n\u001b[0;32m    102\u001b[0m \u001b[38;5;28;01mwith\u001b[39;00m IndentationContext():\n\u001b[1;32m--> 103\u001b[0m     result \u001b[38;5;241m=\u001b[39m \u001b[43mfunc\u001b[49m\u001b[43m(\u001b[49m\u001b[38;5;241;43m*\u001b[39;49m\u001b[43margs\u001b[49m\u001b[43m,\u001b[49m\u001b[43m \u001b[49m\u001b[38;5;241;43m*\u001b[39;49m\u001b[38;5;241;43m*\u001b[39;49m\u001b[43mkwargs\u001b[49m\u001b[43m)\u001b[49m\n\u001b[0;32m    105\u001b[0m logger\u001b[38;5;241m.\u001b[39mdebug(\u001b[38;5;124mf\u001b[39m\u001b[38;5;124m'\u001b[39m\u001b[38;5;124mExiting \u001b[39m\u001b[38;5;132;01m{\u001b[39;00mfunc\u001b[38;5;241m.\u001b[39m\u001b[38;5;18m__name__\u001b[39m\u001b[38;5;132;01m}\u001b[39;00m\u001b[38;5;124m()\u001b[39m\u001b[38;5;124m'\u001b[39m)\n\u001b[0;32m    106\u001b[0m \u001b[38;5;28;01mreturn\u001b[39;00m result\n",
      "File \u001b[1;32m~\\AppData\\Local\\Programs\\Python\\Python312\\Lib\\site-packages\\yfinance\\data.py:367\u001b[0m, in \u001b[0;36mYfData.get\u001b[1;34m(self, url, user_agent_headers, params, proxy, timeout)\u001b[0m\n\u001b[0;32m    357\u001b[0m     cookies \u001b[38;5;241m=\u001b[39m \u001b[38;5;28;01mNone\u001b[39;00m\n\u001b[0;32m    359\u001b[0m request_args \u001b[38;5;241m=\u001b[39m {\n\u001b[0;32m    360\u001b[0m     \u001b[38;5;124m'\u001b[39m\u001b[38;5;124murl\u001b[39m\u001b[38;5;124m'\u001b[39m: url,\n\u001b[0;32m    361\u001b[0m     \u001b[38;5;124m'\u001b[39m\u001b[38;5;124mparams\u001b[39m\u001b[38;5;124m'\u001b[39m: {\u001b[38;5;241m*\u001b[39m\u001b[38;5;241m*\u001b[39mparams, \u001b[38;5;241m*\u001b[39m\u001b[38;5;241m*\u001b[39mcrumbs},\n\u001b[1;32m   (...)\u001b[0m\n\u001b[0;32m    365\u001b[0m     \u001b[38;5;124m'\u001b[39m\u001b[38;5;124mheaders\u001b[39m\u001b[38;5;124m'\u001b[39m: user_agent_headers \u001b[38;5;129;01mor\u001b[39;00m \u001b[38;5;28mself\u001b[39m\u001b[38;5;241m.\u001b[39muser_agent_headers\n\u001b[0;32m    366\u001b[0m }\n\u001b[1;32m--> 367\u001b[0m response \u001b[38;5;241m=\u001b[39m \u001b[38;5;28;43mself\u001b[39;49m\u001b[38;5;241;43m.\u001b[39;49m\u001b[43m_session\u001b[49m\u001b[38;5;241;43m.\u001b[39;49m\u001b[43mget\u001b[49m\u001b[43m(\u001b[49m\u001b[38;5;241;43m*\u001b[39;49m\u001b[38;5;241;43m*\u001b[39;49m\u001b[43mrequest_args\u001b[49m\u001b[43m)\u001b[49m\n\u001b[0;32m    368\u001b[0m utils\u001b[38;5;241m.\u001b[39mget_yf_logger()\u001b[38;5;241m.\u001b[39mdebug(\u001b[38;5;124mf\u001b[39m\u001b[38;5;124m'\u001b[39m\u001b[38;5;124mresponse code=\u001b[39m\u001b[38;5;132;01m{\u001b[39;00mresponse\u001b[38;5;241m.\u001b[39mstatus_code\u001b[38;5;132;01m}\u001b[39;00m\u001b[38;5;124m'\u001b[39m)\n\u001b[0;32m    369\u001b[0m \u001b[38;5;28;01mif\u001b[39;00m response\u001b[38;5;241m.\u001b[39mstatus_code \u001b[38;5;241m>\u001b[39m\u001b[38;5;241m=\u001b[39m \u001b[38;5;241m400\u001b[39m:\n\u001b[0;32m    370\u001b[0m     \u001b[38;5;66;03m# Retry with other cookie strategy\u001b[39;00m\n",
      "File \u001b[1;32m~\\AppData\\Local\\Programs\\Python\\Python312\\Lib\\site-packages\\requests\\sessions.py:602\u001b[0m, in \u001b[0;36mSession.get\u001b[1;34m(self, url, **kwargs)\u001b[0m\n\u001b[0;32m    594\u001b[0m \u001b[38;5;250m\u001b[39m\u001b[38;5;124mr\u001b[39m\u001b[38;5;124;03m\"\"\"Sends a GET request. Returns :class:`Response` object.\u001b[39;00m\n\u001b[0;32m    595\u001b[0m \n\u001b[0;32m    596\u001b[0m \u001b[38;5;124;03m:param url: URL for the new :class:`Request` object.\u001b[39;00m\n\u001b[0;32m    597\u001b[0m \u001b[38;5;124;03m:param \\*\\*kwargs: Optional arguments that ``request`` takes.\u001b[39;00m\n\u001b[0;32m    598\u001b[0m \u001b[38;5;124;03m:rtype: requests.Response\u001b[39;00m\n\u001b[0;32m    599\u001b[0m \u001b[38;5;124;03m\"\"\"\u001b[39;00m\n\u001b[0;32m    601\u001b[0m kwargs\u001b[38;5;241m.\u001b[39msetdefault(\u001b[38;5;124m\"\u001b[39m\u001b[38;5;124mallow_redirects\u001b[39m\u001b[38;5;124m\"\u001b[39m, \u001b[38;5;28;01mTrue\u001b[39;00m)\n\u001b[1;32m--> 602\u001b[0m \u001b[38;5;28;01mreturn\u001b[39;00m \u001b[38;5;28;43mself\u001b[39;49m\u001b[38;5;241;43m.\u001b[39;49m\u001b[43mrequest\u001b[49m\u001b[43m(\u001b[49m\u001b[38;5;124;43m\"\u001b[39;49m\u001b[38;5;124;43mGET\u001b[39;49m\u001b[38;5;124;43m\"\u001b[39;49m\u001b[43m,\u001b[49m\u001b[43m \u001b[49m\u001b[43murl\u001b[49m\u001b[43m,\u001b[49m\u001b[43m \u001b[49m\u001b[38;5;241;43m*\u001b[39;49m\u001b[38;5;241;43m*\u001b[39;49m\u001b[43mkwargs\u001b[49m\u001b[43m)\u001b[49m\n",
      "File \u001b[1;32m~\\AppData\\Local\\Programs\\Python\\Python312\\Lib\\site-packages\\requests\\sessions.py:589\u001b[0m, in \u001b[0;36mSession.request\u001b[1;34m(self, method, url, params, data, headers, cookies, files, auth, timeout, allow_redirects, proxies, hooks, stream, verify, cert, json)\u001b[0m\n\u001b[0;32m    584\u001b[0m send_kwargs \u001b[38;5;241m=\u001b[39m {\n\u001b[0;32m    585\u001b[0m     \u001b[38;5;124m\"\u001b[39m\u001b[38;5;124mtimeout\u001b[39m\u001b[38;5;124m\"\u001b[39m: timeout,\n\u001b[0;32m    586\u001b[0m     \u001b[38;5;124m\"\u001b[39m\u001b[38;5;124mallow_redirects\u001b[39m\u001b[38;5;124m\"\u001b[39m: allow_redirects,\n\u001b[0;32m    587\u001b[0m }\n\u001b[0;32m    588\u001b[0m send_kwargs\u001b[38;5;241m.\u001b[39mupdate(settings)\n\u001b[1;32m--> 589\u001b[0m resp \u001b[38;5;241m=\u001b[39m \u001b[38;5;28;43mself\u001b[39;49m\u001b[38;5;241;43m.\u001b[39;49m\u001b[43msend\u001b[49m\u001b[43m(\u001b[49m\u001b[43mprep\u001b[49m\u001b[43m,\u001b[49m\u001b[43m \u001b[49m\u001b[38;5;241;43m*\u001b[39;49m\u001b[38;5;241;43m*\u001b[39;49m\u001b[43msend_kwargs\u001b[49m\u001b[43m)\u001b[49m\n\u001b[0;32m    591\u001b[0m \u001b[38;5;28;01mreturn\u001b[39;00m resp\n",
      "File \u001b[1;32m~\\AppData\\Local\\Programs\\Python\\Python312\\Lib\\site-packages\\requests\\sessions.py:703\u001b[0m, in \u001b[0;36mSession.send\u001b[1;34m(self, request, **kwargs)\u001b[0m\n\u001b[0;32m    700\u001b[0m start \u001b[38;5;241m=\u001b[39m preferred_clock()\n\u001b[0;32m    702\u001b[0m \u001b[38;5;66;03m# Send the request\u001b[39;00m\n\u001b[1;32m--> 703\u001b[0m r \u001b[38;5;241m=\u001b[39m \u001b[43madapter\u001b[49m\u001b[38;5;241;43m.\u001b[39;49m\u001b[43msend\u001b[49m\u001b[43m(\u001b[49m\u001b[43mrequest\u001b[49m\u001b[43m,\u001b[49m\u001b[43m \u001b[49m\u001b[38;5;241;43m*\u001b[39;49m\u001b[38;5;241;43m*\u001b[39;49m\u001b[43mkwargs\u001b[49m\u001b[43m)\u001b[49m\n\u001b[0;32m    705\u001b[0m \u001b[38;5;66;03m# Total elapsed time of the request (approximately)\u001b[39;00m\n\u001b[0;32m    706\u001b[0m elapsed \u001b[38;5;241m=\u001b[39m preferred_clock() \u001b[38;5;241m-\u001b[39m start\n",
      "File \u001b[1;32m~\\AppData\\Local\\Programs\\Python\\Python312\\Lib\\site-packages\\requests\\adapters.py:667\u001b[0m, in \u001b[0;36mHTTPAdapter.send\u001b[1;34m(self, request, stream, timeout, verify, cert, proxies)\u001b[0m\n\u001b[0;32m    664\u001b[0m     timeout \u001b[38;5;241m=\u001b[39m TimeoutSauce(connect\u001b[38;5;241m=\u001b[39mtimeout, read\u001b[38;5;241m=\u001b[39mtimeout)\n\u001b[0;32m    666\u001b[0m \u001b[38;5;28;01mtry\u001b[39;00m:\n\u001b[1;32m--> 667\u001b[0m     resp \u001b[38;5;241m=\u001b[39m \u001b[43mconn\u001b[49m\u001b[38;5;241;43m.\u001b[39;49m\u001b[43murlopen\u001b[49m\u001b[43m(\u001b[49m\n\u001b[0;32m    668\u001b[0m \u001b[43m        \u001b[49m\u001b[43mmethod\u001b[49m\u001b[38;5;241;43m=\u001b[39;49m\u001b[43mrequest\u001b[49m\u001b[38;5;241;43m.\u001b[39;49m\u001b[43mmethod\u001b[49m\u001b[43m,\u001b[49m\n\u001b[0;32m    669\u001b[0m \u001b[43m        \u001b[49m\u001b[43murl\u001b[49m\u001b[38;5;241;43m=\u001b[39;49m\u001b[43murl\u001b[49m\u001b[43m,\u001b[49m\n\u001b[0;32m    670\u001b[0m \u001b[43m        \u001b[49m\u001b[43mbody\u001b[49m\u001b[38;5;241;43m=\u001b[39;49m\u001b[43mrequest\u001b[49m\u001b[38;5;241;43m.\u001b[39;49m\u001b[43mbody\u001b[49m\u001b[43m,\u001b[49m\n\u001b[0;32m    671\u001b[0m \u001b[43m        \u001b[49m\u001b[43mheaders\u001b[49m\u001b[38;5;241;43m=\u001b[39;49m\u001b[43mrequest\u001b[49m\u001b[38;5;241;43m.\u001b[39;49m\u001b[43mheaders\u001b[49m\u001b[43m,\u001b[49m\n\u001b[0;32m    672\u001b[0m \u001b[43m        \u001b[49m\u001b[43mredirect\u001b[49m\u001b[38;5;241;43m=\u001b[39;49m\u001b[38;5;28;43;01mFalse\u001b[39;49;00m\u001b[43m,\u001b[49m\n\u001b[0;32m    673\u001b[0m \u001b[43m        \u001b[49m\u001b[43massert_same_host\u001b[49m\u001b[38;5;241;43m=\u001b[39;49m\u001b[38;5;28;43;01mFalse\u001b[39;49;00m\u001b[43m,\u001b[49m\n\u001b[0;32m    674\u001b[0m \u001b[43m        \u001b[49m\u001b[43mpreload_content\u001b[49m\u001b[38;5;241;43m=\u001b[39;49m\u001b[38;5;28;43;01mFalse\u001b[39;49;00m\u001b[43m,\u001b[49m\n\u001b[0;32m    675\u001b[0m \u001b[43m        \u001b[49m\u001b[43mdecode_content\u001b[49m\u001b[38;5;241;43m=\u001b[39;49m\u001b[38;5;28;43;01mFalse\u001b[39;49;00m\u001b[43m,\u001b[49m\n\u001b[0;32m    676\u001b[0m \u001b[43m        \u001b[49m\u001b[43mretries\u001b[49m\u001b[38;5;241;43m=\u001b[39;49m\u001b[38;5;28;43mself\u001b[39;49m\u001b[38;5;241;43m.\u001b[39;49m\u001b[43mmax_retries\u001b[49m\u001b[43m,\u001b[49m\n\u001b[0;32m    677\u001b[0m \u001b[43m        \u001b[49m\u001b[43mtimeout\u001b[49m\u001b[38;5;241;43m=\u001b[39;49m\u001b[43mtimeout\u001b[49m\u001b[43m,\u001b[49m\n\u001b[0;32m    678\u001b[0m \u001b[43m        \u001b[49m\u001b[43mchunked\u001b[49m\u001b[38;5;241;43m=\u001b[39;49m\u001b[43mchunked\u001b[49m\u001b[43m,\u001b[49m\n\u001b[0;32m    679\u001b[0m \u001b[43m    \u001b[49m\u001b[43m)\u001b[49m\n\u001b[0;32m    681\u001b[0m \u001b[38;5;28;01mexcept\u001b[39;00m (ProtocolError, \u001b[38;5;167;01mOSError\u001b[39;00m) \u001b[38;5;28;01mas\u001b[39;00m err:\n\u001b[0;32m    682\u001b[0m     \u001b[38;5;28;01mraise\u001b[39;00m \u001b[38;5;167;01mConnectionError\u001b[39;00m(err, request\u001b[38;5;241m=\u001b[39mrequest)\n",
      "File \u001b[1;32m~\\AppData\\Local\\Programs\\Python\\Python312\\Lib\\site-packages\\urllib3\\connectionpool.py:787\u001b[0m, in \u001b[0;36mHTTPConnectionPool.urlopen\u001b[1;34m(self, method, url, body, headers, retries, redirect, assert_same_host, timeout, pool_timeout, release_conn, chunked, body_pos, preload_content, decode_content, **response_kw)\u001b[0m\n\u001b[0;32m    784\u001b[0m response_conn \u001b[38;5;241m=\u001b[39m conn \u001b[38;5;28;01mif\u001b[39;00m \u001b[38;5;129;01mnot\u001b[39;00m release_conn \u001b[38;5;28;01melse\u001b[39;00m \u001b[38;5;28;01mNone\u001b[39;00m\n\u001b[0;32m    786\u001b[0m \u001b[38;5;66;03m# Make the request on the HTTPConnection object\u001b[39;00m\n\u001b[1;32m--> 787\u001b[0m response \u001b[38;5;241m=\u001b[39m \u001b[38;5;28;43mself\u001b[39;49m\u001b[38;5;241;43m.\u001b[39;49m\u001b[43m_make_request\u001b[49m\u001b[43m(\u001b[49m\n\u001b[0;32m    788\u001b[0m \u001b[43m    \u001b[49m\u001b[43mconn\u001b[49m\u001b[43m,\u001b[49m\n\u001b[0;32m    789\u001b[0m \u001b[43m    \u001b[49m\u001b[43mmethod\u001b[49m\u001b[43m,\u001b[49m\n\u001b[0;32m    790\u001b[0m \u001b[43m    \u001b[49m\u001b[43murl\u001b[49m\u001b[43m,\u001b[49m\n\u001b[0;32m    791\u001b[0m \u001b[43m    \u001b[49m\u001b[43mtimeout\u001b[49m\u001b[38;5;241;43m=\u001b[39;49m\u001b[43mtimeout_obj\u001b[49m\u001b[43m,\u001b[49m\n\u001b[0;32m    792\u001b[0m \u001b[43m    \u001b[49m\u001b[43mbody\u001b[49m\u001b[38;5;241;43m=\u001b[39;49m\u001b[43mbody\u001b[49m\u001b[43m,\u001b[49m\n\u001b[0;32m    793\u001b[0m \u001b[43m    \u001b[49m\u001b[43mheaders\u001b[49m\u001b[38;5;241;43m=\u001b[39;49m\u001b[43mheaders\u001b[49m\u001b[43m,\u001b[49m\n\u001b[0;32m    794\u001b[0m \u001b[43m    \u001b[49m\u001b[43mchunked\u001b[49m\u001b[38;5;241;43m=\u001b[39;49m\u001b[43mchunked\u001b[49m\u001b[43m,\u001b[49m\n\u001b[0;32m    795\u001b[0m \u001b[43m    \u001b[49m\u001b[43mretries\u001b[49m\u001b[38;5;241;43m=\u001b[39;49m\u001b[43mretries\u001b[49m\u001b[43m,\u001b[49m\n\u001b[0;32m    796\u001b[0m \u001b[43m    \u001b[49m\u001b[43mresponse_conn\u001b[49m\u001b[38;5;241;43m=\u001b[39;49m\u001b[43mresponse_conn\u001b[49m\u001b[43m,\u001b[49m\n\u001b[0;32m    797\u001b[0m \u001b[43m    \u001b[49m\u001b[43mpreload_content\u001b[49m\u001b[38;5;241;43m=\u001b[39;49m\u001b[43mpreload_content\u001b[49m\u001b[43m,\u001b[49m\n\u001b[0;32m    798\u001b[0m \u001b[43m    \u001b[49m\u001b[43mdecode_content\u001b[49m\u001b[38;5;241;43m=\u001b[39;49m\u001b[43mdecode_content\u001b[49m\u001b[43m,\u001b[49m\n\u001b[0;32m    799\u001b[0m \u001b[43m    \u001b[49m\u001b[38;5;241;43m*\u001b[39;49m\u001b[38;5;241;43m*\u001b[39;49m\u001b[43mresponse_kw\u001b[49m\u001b[43m,\u001b[49m\n\u001b[0;32m    800\u001b[0m \u001b[43m\u001b[49m\u001b[43m)\u001b[49m\n\u001b[0;32m    802\u001b[0m \u001b[38;5;66;03m# Everything went great!\u001b[39;00m\n\u001b[0;32m    803\u001b[0m clean_exit \u001b[38;5;241m=\u001b[39m \u001b[38;5;28;01mTrue\u001b[39;00m\n",
      "File \u001b[1;32m~\\AppData\\Local\\Programs\\Python\\Python312\\Lib\\site-packages\\urllib3\\connectionpool.py:464\u001b[0m, in \u001b[0;36mHTTPConnectionPool._make_request\u001b[1;34m(self, conn, method, url, body, headers, retries, timeout, chunked, response_conn, preload_content, decode_content, enforce_content_length)\u001b[0m\n\u001b[0;32m    461\u001b[0m \u001b[38;5;28;01mtry\u001b[39;00m:\n\u001b[0;32m    462\u001b[0m     \u001b[38;5;66;03m# Trigger any extra validation we need to do.\u001b[39;00m\n\u001b[0;32m    463\u001b[0m     \u001b[38;5;28;01mtry\u001b[39;00m:\n\u001b[1;32m--> 464\u001b[0m         \u001b[38;5;28;43mself\u001b[39;49m\u001b[38;5;241;43m.\u001b[39;49m\u001b[43m_validate_conn\u001b[49m\u001b[43m(\u001b[49m\u001b[43mconn\u001b[49m\u001b[43m)\u001b[49m\n\u001b[0;32m    465\u001b[0m     \u001b[38;5;28;01mexcept\u001b[39;00m (SocketTimeout, BaseSSLError) \u001b[38;5;28;01mas\u001b[39;00m e:\n\u001b[0;32m    466\u001b[0m         \u001b[38;5;28mself\u001b[39m\u001b[38;5;241m.\u001b[39m_raise_timeout(err\u001b[38;5;241m=\u001b[39me, url\u001b[38;5;241m=\u001b[39murl, timeout_value\u001b[38;5;241m=\u001b[39mconn\u001b[38;5;241m.\u001b[39mtimeout)\n",
      "File \u001b[1;32m~\\AppData\\Local\\Programs\\Python\\Python312\\Lib\\site-packages\\urllib3\\connectionpool.py:1093\u001b[0m, in \u001b[0;36mHTTPSConnectionPool._validate_conn\u001b[1;34m(self, conn)\u001b[0m\n\u001b[0;32m   1091\u001b[0m \u001b[38;5;66;03m# Force connect early to allow us to validate the connection.\u001b[39;00m\n\u001b[0;32m   1092\u001b[0m \u001b[38;5;28;01mif\u001b[39;00m conn\u001b[38;5;241m.\u001b[39mis_closed:\n\u001b[1;32m-> 1093\u001b[0m     \u001b[43mconn\u001b[49m\u001b[38;5;241;43m.\u001b[39;49m\u001b[43mconnect\u001b[49m\u001b[43m(\u001b[49m\u001b[43m)\u001b[49m\n\u001b[0;32m   1095\u001b[0m \u001b[38;5;66;03m# TODO revise this, see https://github.com/urllib3/urllib3/issues/2791\u001b[39;00m\n\u001b[0;32m   1096\u001b[0m \u001b[38;5;28;01mif\u001b[39;00m \u001b[38;5;129;01mnot\u001b[39;00m conn\u001b[38;5;241m.\u001b[39mis_verified \u001b[38;5;129;01mand\u001b[39;00m \u001b[38;5;129;01mnot\u001b[39;00m conn\u001b[38;5;241m.\u001b[39mproxy_is_verified:\n",
      "File \u001b[1;32m~\\AppData\\Local\\Programs\\Python\\Python312\\Lib\\site-packages\\urllib3\\connection.py:704\u001b[0m, in \u001b[0;36mHTTPSConnection.connect\u001b[1;34m(self)\u001b[0m\n\u001b[0;32m    702\u001b[0m \u001b[38;5;28;01mtry\u001b[39;00m:\n\u001b[0;32m    703\u001b[0m     sock: socket\u001b[38;5;241m.\u001b[39msocket \u001b[38;5;241m|\u001b[39m ssl\u001b[38;5;241m.\u001b[39mSSLSocket\n\u001b[1;32m--> 704\u001b[0m     \u001b[38;5;28mself\u001b[39m\u001b[38;5;241m.\u001b[39msock \u001b[38;5;241m=\u001b[39m sock \u001b[38;5;241m=\u001b[39m \u001b[38;5;28;43mself\u001b[39;49m\u001b[38;5;241;43m.\u001b[39;49m\u001b[43m_new_conn\u001b[49m\u001b[43m(\u001b[49m\u001b[43m)\u001b[49m\n\u001b[0;32m    705\u001b[0m     server_hostname: \u001b[38;5;28mstr\u001b[39m \u001b[38;5;241m=\u001b[39m \u001b[38;5;28mself\u001b[39m\u001b[38;5;241m.\u001b[39mhost\n\u001b[0;32m    706\u001b[0m     tls_in_tls \u001b[38;5;241m=\u001b[39m \u001b[38;5;28;01mFalse\u001b[39;00m\n",
      "File \u001b[1;32m~\\AppData\\Local\\Programs\\Python\\Python312\\Lib\\site-packages\\urllib3\\connection.py:198\u001b[0m, in \u001b[0;36mHTTPConnection._new_conn\u001b[1;34m(self)\u001b[0m\n\u001b[0;32m    193\u001b[0m \u001b[38;5;250m\u001b[39m\u001b[38;5;124;03m\"\"\"Establish a socket connection and set nodelay settings on it.\u001b[39;00m\n\u001b[0;32m    194\u001b[0m \n\u001b[0;32m    195\u001b[0m \u001b[38;5;124;03m:return: New socket connection.\u001b[39;00m\n\u001b[0;32m    196\u001b[0m \u001b[38;5;124;03m\"\"\"\u001b[39;00m\n\u001b[0;32m    197\u001b[0m \u001b[38;5;28;01mtry\u001b[39;00m:\n\u001b[1;32m--> 198\u001b[0m     sock \u001b[38;5;241m=\u001b[39m \u001b[43mconnection\u001b[49m\u001b[38;5;241;43m.\u001b[39;49m\u001b[43mcreate_connection\u001b[49m\u001b[43m(\u001b[49m\n\u001b[0;32m    199\u001b[0m \u001b[43m        \u001b[49m\u001b[43m(\u001b[49m\u001b[38;5;28;43mself\u001b[39;49m\u001b[38;5;241;43m.\u001b[39;49m\u001b[43m_dns_host\u001b[49m\u001b[43m,\u001b[49m\u001b[43m \u001b[49m\u001b[38;5;28;43mself\u001b[39;49m\u001b[38;5;241;43m.\u001b[39;49m\u001b[43mport\u001b[49m\u001b[43m)\u001b[49m\u001b[43m,\u001b[49m\n\u001b[0;32m    200\u001b[0m \u001b[43m        \u001b[49m\u001b[38;5;28;43mself\u001b[39;49m\u001b[38;5;241;43m.\u001b[39;49m\u001b[43mtimeout\u001b[49m\u001b[43m,\u001b[49m\n\u001b[0;32m    201\u001b[0m \u001b[43m        \u001b[49m\u001b[43msource_address\u001b[49m\u001b[38;5;241;43m=\u001b[39;49m\u001b[38;5;28;43mself\u001b[39;49m\u001b[38;5;241;43m.\u001b[39;49m\u001b[43msource_address\u001b[49m\u001b[43m,\u001b[49m\n\u001b[0;32m    202\u001b[0m \u001b[43m        \u001b[49m\u001b[43msocket_options\u001b[49m\u001b[38;5;241;43m=\u001b[39;49m\u001b[38;5;28;43mself\u001b[39;49m\u001b[38;5;241;43m.\u001b[39;49m\u001b[43msocket_options\u001b[49m\u001b[43m,\u001b[49m\n\u001b[0;32m    203\u001b[0m \u001b[43m    \u001b[49m\u001b[43m)\u001b[49m\n\u001b[0;32m    204\u001b[0m \u001b[38;5;28;01mexcept\u001b[39;00m socket\u001b[38;5;241m.\u001b[39mgaierror \u001b[38;5;28;01mas\u001b[39;00m e:\n\u001b[0;32m    205\u001b[0m     \u001b[38;5;28;01mraise\u001b[39;00m NameResolutionError(\u001b[38;5;28mself\u001b[39m\u001b[38;5;241m.\u001b[39mhost, \u001b[38;5;28mself\u001b[39m, e) \u001b[38;5;28;01mfrom\u001b[39;00m \u001b[38;5;21;01me\u001b[39;00m\n",
      "File \u001b[1;32m~\\AppData\\Local\\Programs\\Python\\Python312\\Lib\\site-packages\\urllib3\\util\\connection.py:73\u001b[0m, in \u001b[0;36mcreate_connection\u001b[1;34m(address, timeout, source_address, socket_options)\u001b[0m\n\u001b[0;32m     71\u001b[0m \u001b[38;5;28;01mif\u001b[39;00m source_address:\n\u001b[0;32m     72\u001b[0m     sock\u001b[38;5;241m.\u001b[39mbind(source_address)\n\u001b[1;32m---> 73\u001b[0m \u001b[43msock\u001b[49m\u001b[38;5;241;43m.\u001b[39;49m\u001b[43mconnect\u001b[49m\u001b[43m(\u001b[49m\u001b[43msa\u001b[49m\u001b[43m)\u001b[49m\n\u001b[0;32m     74\u001b[0m \u001b[38;5;66;03m# Break explicitly a reference cycle\u001b[39;00m\n\u001b[0;32m     75\u001b[0m err \u001b[38;5;241m=\u001b[39m \u001b[38;5;28;01mNone\u001b[39;00m\n",
      "\u001b[1;31mKeyboardInterrupt\u001b[0m: "
     ]
    }
   ],
   "source": [
    "spx = get_ticker_data('^SPX', startdate, enddate, 'spx')\n",
    "make_pickle(spx, 'spx.pkl')"
   ]
  },
  {
   "cell_type": "code",
   "execution_count": 26,
   "id": "6ee5b6a7",
   "metadata": {},
   "outputs": [
    {
     "name": "stderr",
     "output_type": "stream",
     "text": [
      "$^DJI: possibly delisted; no price data found  (period=5y)\n",
      "$^DJI: possibly delisted; no price data found  (period=5y)\n",
      "$^DJI: possibly delisted; no price data found  (period=5y)\n",
      "$^DJI: possibly delisted; no price data found  (period=5y)\n",
      "$^DJI: possibly delisted; no price data found  (period=5y)\n",
      "$^DJI: possibly delisted; no price data found  (period=5y)\n"
     ]
    },
    {
     "ename": "KeyboardInterrupt",
     "evalue": "",
     "output_type": "error",
     "traceback": [
      "\u001b[1;31m---------------------------------------------------------------------------\u001b[0m",
      "\u001b[1;31mKeyboardInterrupt\u001b[0m                         Traceback (most recent call last)",
      "Cell \u001b[1;32mIn[26], line 1\u001b[0m\n\u001b[1;32m----> 1\u001b[0m dji \u001b[38;5;241m=\u001b[39m \u001b[43mget_ticker_data\u001b[49m\u001b[43m(\u001b[49m\u001b[38;5;124;43m'\u001b[39;49m\u001b[38;5;124;43m^DJI\u001b[39;49m\u001b[38;5;124;43m'\u001b[39;49m\u001b[43m,\u001b[49m\u001b[43m \u001b[49m\u001b[43mstartdate\u001b[49m\u001b[43m,\u001b[49m\u001b[43m \u001b[49m\u001b[43menddate\u001b[49m\u001b[43m,\u001b[49m\u001b[43m \u001b[49m\u001b[38;5;124;43m'\u001b[39;49m\u001b[38;5;124;43mdji\u001b[39;49m\u001b[38;5;124;43m'\u001b[39;49m\u001b[43m)\u001b[49m\n\u001b[0;32m      2\u001b[0m make_pickle(dji, \u001b[38;5;124m'\u001b[39m\u001b[38;5;124mdji.pkl\u001b[39m\u001b[38;5;124m'\u001b[39m)\n\u001b[0;32m      4\u001b[0m \u001b[38;5;66;03m# 시간대별로 막혀 있어서 아래 것은 사용하지 않음 (미국 개장시간대에서만 열림)\u001b[39;00m\n\u001b[0;32m      5\u001b[0m \u001b[38;5;66;03m# dji = pdr.get_data_yahoo('^DJI', start=startdate, end=enddate)\u001b[39;00m\n\u001b[0;32m      6\u001b[0m \u001b[38;5;66;03m# df = reformat_df(dji, 'dji')\u001b[39;00m\n\u001b[1;32m   (...)\u001b[0m\n\u001b[0;32m     14\u001b[0m \n\u001b[0;32m     15\u001b[0m \u001b[38;5;66;03m# update_pickle(df, pkl_name)\u001b[39;00m\n",
      "Cell \u001b[1;32mIn[17], line 4\u001b[0m, in \u001b[0;36mget_ticker_data\u001b[1;34m(ticker, startdate, enddate, col_name)\u001b[0m\n\u001b[0;32m      2\u001b[0m \u001b[38;5;28;01mwhile\u001b[39;00m \u001b[38;5;28;01mTrue\u001b[39;00m:\n\u001b[0;32m      3\u001b[0m     ydata \u001b[38;5;241m=\u001b[39m yf\u001b[38;5;241m.\u001b[39mTicker(ticker)\n\u001b[1;32m----> 4\u001b[0m     rdata \u001b[38;5;241m=\u001b[39m \u001b[43mydata\u001b[49m\u001b[38;5;241;43m.\u001b[39;49m\u001b[43mhistory\u001b[49m\u001b[43m(\u001b[49m\u001b[43mperiod\u001b[49m\u001b[38;5;241;43m=\u001b[39;49m\u001b[38;5;124;43m\"\u001b[39;49m\u001b[38;5;124;43m5y\u001b[39;49m\u001b[38;5;124;43m\"\u001b[39;49m\u001b[43m)\u001b[49m \u001b[38;5;66;03m# 오늘부터 3년치\u001b[39;00m\n\u001b[0;32m      5\u001b[0m     \u001b[38;5;28;01mif\u001b[39;00m \u001b[38;5;28mlen\u001b[39m(rdata) \u001b[38;5;241m<\u001b[39m\u001b[38;5;241m=\u001b[39m \u001b[38;5;241m100\u001b[39m: \u001b[38;5;66;03m# 인터넷 속도로 인한 데이터 취득이 되지 않았을 때 임의의 수(100)으로 비교\u001b[39;00m\n\u001b[0;32m      6\u001b[0m         \u001b[38;5;28;01mpass\u001b[39;00m\n",
      "File \u001b[1;32m~\\AppData\\Local\\Programs\\Python\\Python313\\Lib\\site-packages\\yfinance\\utils.py:104\u001b[0m, in \u001b[0;36mlog_indent_decorator.<locals>.wrapper\u001b[1;34m(*args, **kwargs)\u001b[0m\n\u001b[0;32m    101\u001b[0m logger\u001b[38;5;241m.\u001b[39mdebug(\u001b[38;5;124mf\u001b[39m\u001b[38;5;124m'\u001b[39m\u001b[38;5;124mEntering \u001b[39m\u001b[38;5;132;01m{\u001b[39;00mfunc\u001b[38;5;241m.\u001b[39m\u001b[38;5;18m__name__\u001b[39m\u001b[38;5;132;01m}\u001b[39;00m\u001b[38;5;124m()\u001b[39m\u001b[38;5;124m'\u001b[39m)\n\u001b[0;32m    103\u001b[0m \u001b[38;5;28;01mwith\u001b[39;00m IndentationContext():\n\u001b[1;32m--> 104\u001b[0m     result \u001b[38;5;241m=\u001b[39m \u001b[43mfunc\u001b[49m\u001b[43m(\u001b[49m\u001b[38;5;241;43m*\u001b[39;49m\u001b[43margs\u001b[49m\u001b[43m,\u001b[49m\u001b[43m \u001b[49m\u001b[38;5;241;43m*\u001b[39;49m\u001b[38;5;241;43m*\u001b[39;49m\u001b[43mkwargs\u001b[49m\u001b[43m)\u001b[49m\n\u001b[0;32m    106\u001b[0m logger\u001b[38;5;241m.\u001b[39mdebug(\u001b[38;5;124mf\u001b[39m\u001b[38;5;124m'\u001b[39m\u001b[38;5;124mExiting \u001b[39m\u001b[38;5;132;01m{\u001b[39;00mfunc\u001b[38;5;241m.\u001b[39m\u001b[38;5;18m__name__\u001b[39m\u001b[38;5;132;01m}\u001b[39;00m\u001b[38;5;124m()\u001b[39m\u001b[38;5;124m'\u001b[39m)\n\u001b[0;32m    107\u001b[0m \u001b[38;5;28;01mreturn\u001b[39;00m result\n",
      "File \u001b[1;32m~\\AppData\\Local\\Programs\\Python\\Python313\\Lib\\site-packages\\yfinance\\base.py:80\u001b[0m, in \u001b[0;36mTickerBase.history\u001b[1;34m(self, *args, **kwargs)\u001b[0m\n\u001b[0;32m     78\u001b[0m \u001b[38;5;129m@utils\u001b[39m\u001b[38;5;241m.\u001b[39mlog_indent_decorator\n\u001b[0;32m     79\u001b[0m \u001b[38;5;28;01mdef\u001b[39;00m \u001b[38;5;21mhistory\u001b[39m(\u001b[38;5;28mself\u001b[39m, \u001b[38;5;241m*\u001b[39margs, \u001b[38;5;241m*\u001b[39m\u001b[38;5;241m*\u001b[39mkwargs) \u001b[38;5;241m-\u001b[39m\u001b[38;5;241m>\u001b[39m pd\u001b[38;5;241m.\u001b[39mDataFrame:\n\u001b[1;32m---> 80\u001b[0m     \u001b[38;5;28;01mreturn\u001b[39;00m \u001b[38;5;28;43mself\u001b[39;49m\u001b[38;5;241;43m.\u001b[39;49m\u001b[43m_lazy_load_price_history\u001b[49m\u001b[43m(\u001b[49m\u001b[43m)\u001b[49m\u001b[38;5;241;43m.\u001b[39;49m\u001b[43mhistory\u001b[49m\u001b[43m(\u001b[49m\u001b[38;5;241;43m*\u001b[39;49m\u001b[43margs\u001b[49m\u001b[43m,\u001b[49m\u001b[43m \u001b[49m\u001b[38;5;241;43m*\u001b[39;49m\u001b[38;5;241;43m*\u001b[39;49m\u001b[43mkwargs\u001b[49m\u001b[43m)\u001b[49m\n",
      "File \u001b[1;32m~\\AppData\\Local\\Programs\\Python\\Python313\\Lib\\site-packages\\yfinance\\utils.py:104\u001b[0m, in \u001b[0;36mlog_indent_decorator.<locals>.wrapper\u001b[1;34m(*args, **kwargs)\u001b[0m\n\u001b[0;32m    101\u001b[0m logger\u001b[38;5;241m.\u001b[39mdebug(\u001b[38;5;124mf\u001b[39m\u001b[38;5;124m'\u001b[39m\u001b[38;5;124mEntering \u001b[39m\u001b[38;5;132;01m{\u001b[39;00mfunc\u001b[38;5;241m.\u001b[39m\u001b[38;5;18m__name__\u001b[39m\u001b[38;5;132;01m}\u001b[39;00m\u001b[38;5;124m()\u001b[39m\u001b[38;5;124m'\u001b[39m)\n\u001b[0;32m    103\u001b[0m \u001b[38;5;28;01mwith\u001b[39;00m IndentationContext():\n\u001b[1;32m--> 104\u001b[0m     result \u001b[38;5;241m=\u001b[39m \u001b[43mfunc\u001b[49m\u001b[43m(\u001b[49m\u001b[38;5;241;43m*\u001b[39;49m\u001b[43margs\u001b[49m\u001b[43m,\u001b[49m\u001b[43m \u001b[49m\u001b[38;5;241;43m*\u001b[39;49m\u001b[38;5;241;43m*\u001b[39;49m\u001b[43mkwargs\u001b[49m\u001b[43m)\u001b[49m\n\u001b[0;32m    106\u001b[0m logger\u001b[38;5;241m.\u001b[39mdebug(\u001b[38;5;124mf\u001b[39m\u001b[38;5;124m'\u001b[39m\u001b[38;5;124mExiting \u001b[39m\u001b[38;5;132;01m{\u001b[39;00mfunc\u001b[38;5;241m.\u001b[39m\u001b[38;5;18m__name__\u001b[39m\u001b[38;5;132;01m}\u001b[39;00m\u001b[38;5;124m()\u001b[39m\u001b[38;5;124m'\u001b[39m)\n\u001b[0;32m    107\u001b[0m \u001b[38;5;28;01mreturn\u001b[39;00m result\n",
      "File \u001b[1;32m~\\AppData\\Local\\Programs\\Python\\Python313\\Lib\\site-packages\\yfinance\\scrapers\\history.py:175\u001b[0m, in \u001b[0;36mPriceHistory.history\u001b[1;34m(self, period, interval, start, end, prepost, actions, auto_adjust, back_adjust, repair, keepna, proxy, rounding, timeout, raise_errors)\u001b[0m\n\u001b[0;32m    173\u001b[0m         get_fn \u001b[38;5;241m=\u001b[39m \u001b[38;5;28mself\u001b[39m\u001b[38;5;241m.\u001b[39m_data\u001b[38;5;241m.\u001b[39mcache_get\n\u001b[0;32m    174\u001b[0m \u001b[38;5;28;01mtry\u001b[39;00m:\n\u001b[1;32m--> 175\u001b[0m     data \u001b[38;5;241m=\u001b[39m \u001b[43mget_fn\u001b[49m\u001b[43m(\u001b[49m\n\u001b[0;32m    176\u001b[0m \u001b[43m        \u001b[49m\u001b[43murl\u001b[49m\u001b[38;5;241;43m=\u001b[39;49m\u001b[43murl\u001b[49m\u001b[43m,\u001b[49m\n\u001b[0;32m    177\u001b[0m \u001b[43m        \u001b[49m\u001b[43mparams\u001b[49m\u001b[38;5;241;43m=\u001b[39;49m\u001b[43mparams\u001b[49m\u001b[43m,\u001b[49m\n\u001b[0;32m    178\u001b[0m \u001b[43m        \u001b[49m\u001b[43mproxy\u001b[49m\u001b[38;5;241;43m=\u001b[39;49m\u001b[43mproxy\u001b[49m\u001b[43m,\u001b[49m\n\u001b[0;32m    179\u001b[0m \u001b[43m        \u001b[49m\u001b[43mtimeout\u001b[49m\u001b[38;5;241;43m=\u001b[39;49m\u001b[43mtimeout\u001b[49m\n\u001b[0;32m    180\u001b[0m \u001b[43m    \u001b[49m\u001b[43m)\u001b[49m\n\u001b[0;32m    181\u001b[0m     \u001b[38;5;28;01mif\u001b[39;00m \u001b[38;5;124m\"\u001b[39m\u001b[38;5;124mWill be right back\u001b[39m\u001b[38;5;124m\"\u001b[39m \u001b[38;5;129;01min\u001b[39;00m data\u001b[38;5;241m.\u001b[39mtext \u001b[38;5;129;01mor\u001b[39;00m data \u001b[38;5;129;01mis\u001b[39;00m \u001b[38;5;28;01mNone\u001b[39;00m:\n\u001b[0;32m    182\u001b[0m         \u001b[38;5;28;01mraise\u001b[39;00m \u001b[38;5;167;01mRuntimeError\u001b[39;00m(\u001b[38;5;124m\"\u001b[39m\u001b[38;5;124m*** YAHOO! FINANCE IS CURRENTLY DOWN! ***\u001b[39m\u001b[38;5;130;01m\\n\u001b[39;00m\u001b[38;5;124m\"\u001b[39m\n\u001b[0;32m    183\u001b[0m                            \u001b[38;5;124m\"\u001b[39m\u001b[38;5;124mOur engineers are working quickly to resolve \u001b[39m\u001b[38;5;124m\"\u001b[39m\n\u001b[0;32m    184\u001b[0m                            \u001b[38;5;124m\"\u001b[39m\u001b[38;5;124mthe issue. Thank you for your patience.\u001b[39m\u001b[38;5;124m\"\u001b[39m)\n",
      "File \u001b[1;32m~\\AppData\\Local\\Programs\\Python\\Python313\\Lib\\site-packages\\yfinance\\utils.py:104\u001b[0m, in \u001b[0;36mlog_indent_decorator.<locals>.wrapper\u001b[1;34m(*args, **kwargs)\u001b[0m\n\u001b[0;32m    101\u001b[0m logger\u001b[38;5;241m.\u001b[39mdebug(\u001b[38;5;124mf\u001b[39m\u001b[38;5;124m'\u001b[39m\u001b[38;5;124mEntering \u001b[39m\u001b[38;5;132;01m{\u001b[39;00mfunc\u001b[38;5;241m.\u001b[39m\u001b[38;5;18m__name__\u001b[39m\u001b[38;5;132;01m}\u001b[39;00m\u001b[38;5;124m()\u001b[39m\u001b[38;5;124m'\u001b[39m)\n\u001b[0;32m    103\u001b[0m \u001b[38;5;28;01mwith\u001b[39;00m IndentationContext():\n\u001b[1;32m--> 104\u001b[0m     result \u001b[38;5;241m=\u001b[39m \u001b[43mfunc\u001b[49m\u001b[43m(\u001b[49m\u001b[38;5;241;43m*\u001b[39;49m\u001b[43margs\u001b[49m\u001b[43m,\u001b[49m\u001b[43m \u001b[49m\u001b[38;5;241;43m*\u001b[39;49m\u001b[38;5;241;43m*\u001b[39;49m\u001b[43mkwargs\u001b[49m\u001b[43m)\u001b[49m\n\u001b[0;32m    106\u001b[0m logger\u001b[38;5;241m.\u001b[39mdebug(\u001b[38;5;124mf\u001b[39m\u001b[38;5;124m'\u001b[39m\u001b[38;5;124mExiting \u001b[39m\u001b[38;5;132;01m{\u001b[39;00mfunc\u001b[38;5;241m.\u001b[39m\u001b[38;5;18m__name__\u001b[39m\u001b[38;5;132;01m}\u001b[39;00m\u001b[38;5;124m()\u001b[39m\u001b[38;5;124m'\u001b[39m)\n\u001b[0;32m    107\u001b[0m \u001b[38;5;28;01mreturn\u001b[39;00m result\n",
      "File \u001b[1;32m~\\AppData\\Local\\Programs\\Python\\Python313\\Lib\\site-packages\\yfinance\\data.py:333\u001b[0m, in \u001b[0;36mYfData.get\u001b[1;34m(self, url, user_agent_headers, params, proxy, timeout)\u001b[0m\n\u001b[0;32m    331\u001b[0m \u001b[38;5;129m@utils\u001b[39m\u001b[38;5;241m.\u001b[39mlog_indent_decorator\n\u001b[0;32m    332\u001b[0m \u001b[38;5;28;01mdef\u001b[39;00m \u001b[38;5;21mget\u001b[39m(\u001b[38;5;28mself\u001b[39m, url, user_agent_headers\u001b[38;5;241m=\u001b[39m\u001b[38;5;28;01mNone\u001b[39;00m, params\u001b[38;5;241m=\u001b[39m\u001b[38;5;28;01mNone\u001b[39;00m, proxy\u001b[38;5;241m=\u001b[39m\u001b[38;5;28;01mNone\u001b[39;00m, timeout\u001b[38;5;241m=\u001b[39m\u001b[38;5;241m30\u001b[39m):\n\u001b[1;32m--> 333\u001b[0m     \u001b[38;5;28;01mreturn\u001b[39;00m \u001b[38;5;28;43mself\u001b[39;49m\u001b[38;5;241;43m.\u001b[39;49m\u001b[43m_make_request\u001b[49m\u001b[43m(\u001b[49m\u001b[43murl\u001b[49m\u001b[43m,\u001b[49m\u001b[43m \u001b[49m\u001b[43mrequest_method\u001b[49m\u001b[43m \u001b[49m\u001b[38;5;241;43m=\u001b[39;49m\u001b[43m \u001b[49m\u001b[38;5;28;43mself\u001b[39;49m\u001b[38;5;241;43m.\u001b[39;49m\u001b[43m_session\u001b[49m\u001b[38;5;241;43m.\u001b[39;49m\u001b[43mget\u001b[49m\u001b[43m,\u001b[49m\u001b[43m \u001b[49m\u001b[43muser_agent_headers\u001b[49m\u001b[38;5;241;43m=\u001b[39;49m\u001b[43muser_agent_headers\u001b[49m\u001b[43m,\u001b[49m\u001b[43m \u001b[49m\u001b[43mparams\u001b[49m\u001b[38;5;241;43m=\u001b[39;49m\u001b[43mparams\u001b[49m\u001b[43m,\u001b[49m\u001b[43m \u001b[49m\u001b[43mproxy\u001b[49m\u001b[38;5;241;43m=\u001b[39;49m\u001b[43mproxy\u001b[49m\u001b[43m,\u001b[49m\u001b[43m \u001b[49m\u001b[43mtimeout\u001b[49m\u001b[38;5;241;43m=\u001b[39;49m\u001b[43mtimeout\u001b[49m\u001b[43m)\u001b[49m\n",
      "File \u001b[1;32m~\\AppData\\Local\\Programs\\Python\\Python313\\Lib\\site-packages\\yfinance\\utils.py:104\u001b[0m, in \u001b[0;36mlog_indent_decorator.<locals>.wrapper\u001b[1;34m(*args, **kwargs)\u001b[0m\n\u001b[0;32m    101\u001b[0m logger\u001b[38;5;241m.\u001b[39mdebug(\u001b[38;5;124mf\u001b[39m\u001b[38;5;124m'\u001b[39m\u001b[38;5;124mEntering \u001b[39m\u001b[38;5;132;01m{\u001b[39;00mfunc\u001b[38;5;241m.\u001b[39m\u001b[38;5;18m__name__\u001b[39m\u001b[38;5;132;01m}\u001b[39;00m\u001b[38;5;124m()\u001b[39m\u001b[38;5;124m'\u001b[39m)\n\u001b[0;32m    103\u001b[0m \u001b[38;5;28;01mwith\u001b[39;00m IndentationContext():\n\u001b[1;32m--> 104\u001b[0m     result \u001b[38;5;241m=\u001b[39m \u001b[43mfunc\u001b[49m\u001b[43m(\u001b[49m\u001b[38;5;241;43m*\u001b[39;49m\u001b[43margs\u001b[49m\u001b[43m,\u001b[49m\u001b[43m \u001b[49m\u001b[38;5;241;43m*\u001b[39;49m\u001b[38;5;241;43m*\u001b[39;49m\u001b[43mkwargs\u001b[49m\u001b[43m)\u001b[49m\n\u001b[0;32m    106\u001b[0m logger\u001b[38;5;241m.\u001b[39mdebug(\u001b[38;5;124mf\u001b[39m\u001b[38;5;124m'\u001b[39m\u001b[38;5;124mExiting \u001b[39m\u001b[38;5;132;01m{\u001b[39;00mfunc\u001b[38;5;241m.\u001b[39m\u001b[38;5;18m__name__\u001b[39m\u001b[38;5;132;01m}\u001b[39;00m\u001b[38;5;124m()\u001b[39m\u001b[38;5;124m'\u001b[39m)\n\u001b[0;32m    107\u001b[0m \u001b[38;5;28;01mreturn\u001b[39;00m result\n",
      "File \u001b[1;32m~\\AppData\\Local\\Programs\\Python\\Python313\\Lib\\site-packages\\yfinance\\data.py:386\u001b[0m, in \u001b[0;36mYfData._make_request\u001b[1;34m(self, url, request_method, user_agent_headers, body, params, proxy, timeout)\u001b[0m\n\u001b[0;32m    384\u001b[0m \u001b[38;5;28;01melse\u001b[39;00m:\n\u001b[0;32m    385\u001b[0m     \u001b[38;5;28mself\u001b[39m\u001b[38;5;241m.\u001b[39m_set_cookie_strategy(\u001b[38;5;124m'\u001b[39m\u001b[38;5;124mbasic\u001b[39m\u001b[38;5;124m'\u001b[39m)\n\u001b[1;32m--> 386\u001b[0m cookie, crumb, strategy \u001b[38;5;241m=\u001b[39m \u001b[38;5;28;43mself\u001b[39;49m\u001b[38;5;241;43m.\u001b[39;49m\u001b[43m_get_cookie_and_crumb\u001b[49m\u001b[43m(\u001b[49m\u001b[43mproxy\u001b[49m\u001b[43m,\u001b[49m\u001b[43m \u001b[49m\u001b[43mtimeout\u001b[49m\u001b[43m)\u001b[49m\n\u001b[0;32m    387\u001b[0m request_args[\u001b[38;5;124m'\u001b[39m\u001b[38;5;124mparams\u001b[39m\u001b[38;5;124m'\u001b[39m][\u001b[38;5;124m'\u001b[39m\u001b[38;5;124mcrumb\u001b[39m\u001b[38;5;124m'\u001b[39m] \u001b[38;5;241m=\u001b[39m crumb\n\u001b[0;32m    388\u001b[0m \u001b[38;5;28;01mif\u001b[39;00m strategy \u001b[38;5;241m==\u001b[39m \u001b[38;5;124m'\u001b[39m\u001b[38;5;124mbasic\u001b[39m\u001b[38;5;124m'\u001b[39m:\n",
      "File \u001b[1;32m~\\AppData\\Local\\Programs\\Python\\Python313\\Lib\\site-packages\\yfinance\\utils.py:104\u001b[0m, in \u001b[0;36mlog_indent_decorator.<locals>.wrapper\u001b[1;34m(*args, **kwargs)\u001b[0m\n\u001b[0;32m    101\u001b[0m logger\u001b[38;5;241m.\u001b[39mdebug(\u001b[38;5;124mf\u001b[39m\u001b[38;5;124m'\u001b[39m\u001b[38;5;124mEntering \u001b[39m\u001b[38;5;132;01m{\u001b[39;00mfunc\u001b[38;5;241m.\u001b[39m\u001b[38;5;18m__name__\u001b[39m\u001b[38;5;132;01m}\u001b[39;00m\u001b[38;5;124m()\u001b[39m\u001b[38;5;124m'\u001b[39m)\n\u001b[0;32m    103\u001b[0m \u001b[38;5;28;01mwith\u001b[39;00m IndentationContext():\n\u001b[1;32m--> 104\u001b[0m     result \u001b[38;5;241m=\u001b[39m \u001b[43mfunc\u001b[49m\u001b[43m(\u001b[49m\u001b[38;5;241;43m*\u001b[39;49m\u001b[43margs\u001b[49m\u001b[43m,\u001b[49m\u001b[43m \u001b[49m\u001b[38;5;241;43m*\u001b[39;49m\u001b[38;5;241;43m*\u001b[39;49m\u001b[43mkwargs\u001b[49m\u001b[43m)\u001b[49m\n\u001b[0;32m    106\u001b[0m logger\u001b[38;5;241m.\u001b[39mdebug(\u001b[38;5;124mf\u001b[39m\u001b[38;5;124m'\u001b[39m\u001b[38;5;124mExiting \u001b[39m\u001b[38;5;132;01m{\u001b[39;00mfunc\u001b[38;5;241m.\u001b[39m\u001b[38;5;18m__name__\u001b[39m\u001b[38;5;132;01m}\u001b[39;00m\u001b[38;5;124m()\u001b[39m\u001b[38;5;124m'\u001b[39m)\n\u001b[0;32m    107\u001b[0m \u001b[38;5;28;01mreturn\u001b[39;00m result\n",
      "File \u001b[1;32m~\\AppData\\Local\\Programs\\Python\\Python313\\Lib\\site-packages\\yfinance\\data.py:320\u001b[0m, in \u001b[0;36mYfData._get_cookie_and_crumb\u001b[1;34m(self, proxy, timeout)\u001b[0m\n\u001b[0;32m    317\u001b[0m     \u001b[38;5;28;01mif\u001b[39;00m crumb \u001b[38;5;129;01mis\u001b[39;00m \u001b[38;5;28;01mNone\u001b[39;00m:\n\u001b[0;32m    318\u001b[0m         \u001b[38;5;66;03m# Fail\u001b[39;00m\n\u001b[0;32m    319\u001b[0m         \u001b[38;5;28mself\u001b[39m\u001b[38;5;241m.\u001b[39m_set_cookie_strategy(\u001b[38;5;124m'\u001b[39m\u001b[38;5;124mbasic\u001b[39m\u001b[38;5;124m'\u001b[39m, have_lock\u001b[38;5;241m=\u001b[39m\u001b[38;5;28;01mTrue\u001b[39;00m)\n\u001b[1;32m--> 320\u001b[0m         cookie, crumb \u001b[38;5;241m=\u001b[39m \u001b[38;5;28;43mself\u001b[39;49m\u001b[38;5;241;43m.\u001b[39;49m\u001b[43m_get_cookie_and_crumb_basic\u001b[49m\u001b[43m(\u001b[49m\u001b[43mproxy\u001b[49m\u001b[43m,\u001b[49m\u001b[43m \u001b[49m\u001b[43mtimeout\u001b[49m\u001b[43m)\u001b[49m\n\u001b[0;32m    321\u001b[0m \u001b[38;5;28;01melse\u001b[39;00m:\n\u001b[0;32m    322\u001b[0m     \u001b[38;5;66;03m# Fallback strategy\u001b[39;00m\n\u001b[0;32m    323\u001b[0m     cookie, crumb \u001b[38;5;241m=\u001b[39m \u001b[38;5;28mself\u001b[39m\u001b[38;5;241m.\u001b[39m_get_cookie_and_crumb_basic(proxy, timeout)\n",
      "File \u001b[1;32m~\\AppData\\Local\\Programs\\Python\\Python313\\Lib\\site-packages\\yfinance\\utils.py:104\u001b[0m, in \u001b[0;36mlog_indent_decorator.<locals>.wrapper\u001b[1;34m(*args, **kwargs)\u001b[0m\n\u001b[0;32m    101\u001b[0m logger\u001b[38;5;241m.\u001b[39mdebug(\u001b[38;5;124mf\u001b[39m\u001b[38;5;124m'\u001b[39m\u001b[38;5;124mEntering \u001b[39m\u001b[38;5;132;01m{\u001b[39;00mfunc\u001b[38;5;241m.\u001b[39m\u001b[38;5;18m__name__\u001b[39m\u001b[38;5;132;01m}\u001b[39;00m\u001b[38;5;124m()\u001b[39m\u001b[38;5;124m'\u001b[39m)\n\u001b[0;32m    103\u001b[0m \u001b[38;5;28;01mwith\u001b[39;00m IndentationContext():\n\u001b[1;32m--> 104\u001b[0m     result \u001b[38;5;241m=\u001b[39m \u001b[43mfunc\u001b[49m\u001b[43m(\u001b[49m\u001b[38;5;241;43m*\u001b[39;49m\u001b[43margs\u001b[49m\u001b[43m,\u001b[49m\u001b[43m \u001b[49m\u001b[38;5;241;43m*\u001b[39;49m\u001b[38;5;241;43m*\u001b[39;49m\u001b[43mkwargs\u001b[49m\u001b[43m)\u001b[49m\n\u001b[0;32m    106\u001b[0m logger\u001b[38;5;241m.\u001b[39mdebug(\u001b[38;5;124mf\u001b[39m\u001b[38;5;124m'\u001b[39m\u001b[38;5;124mExiting \u001b[39m\u001b[38;5;132;01m{\u001b[39;00mfunc\u001b[38;5;241m.\u001b[39m\u001b[38;5;18m__name__\u001b[39m\u001b[38;5;132;01m}\u001b[39;00m\u001b[38;5;124m()\u001b[39m\u001b[38;5;124m'\u001b[39m)\n\u001b[0;32m    107\u001b[0m \u001b[38;5;28;01mreturn\u001b[39;00m result\n",
      "File \u001b[1;32m~\\AppData\\Local\\Programs\\Python\\Python313\\Lib\\site-packages\\yfinance\\data.py:213\u001b[0m, in \u001b[0;36mYfData._get_cookie_and_crumb_basic\u001b[1;34m(self, proxy, timeout)\u001b[0m\n\u001b[0;32m    210\u001b[0m \u001b[38;5;129m@utils\u001b[39m\u001b[38;5;241m.\u001b[39mlog_indent_decorator\n\u001b[0;32m    211\u001b[0m \u001b[38;5;28;01mdef\u001b[39;00m \u001b[38;5;21m_get_cookie_and_crumb_basic\u001b[39m(\u001b[38;5;28mself\u001b[39m, proxy, timeout):\n\u001b[0;32m    212\u001b[0m     cookie \u001b[38;5;241m=\u001b[39m \u001b[38;5;28mself\u001b[39m\u001b[38;5;241m.\u001b[39m_get_cookie_basic(proxy, timeout)\n\u001b[1;32m--> 213\u001b[0m     crumb \u001b[38;5;241m=\u001b[39m \u001b[38;5;28;43mself\u001b[39;49m\u001b[38;5;241;43m.\u001b[39;49m\u001b[43m_get_crumb_basic\u001b[49m\u001b[43m(\u001b[49m\u001b[43mproxy\u001b[49m\u001b[43m,\u001b[49m\u001b[43m \u001b[49m\u001b[43mtimeout\u001b[49m\u001b[43m)\u001b[49m\n\u001b[0;32m    214\u001b[0m     \u001b[38;5;28;01mreturn\u001b[39;00m cookie, crumb\n",
      "File \u001b[1;32m~\\AppData\\Local\\Programs\\Python\\Python313\\Lib\\site-packages\\yfinance\\data.py:201\u001b[0m, in \u001b[0;36mYfData._get_crumb_basic\u001b[1;34m(self, proxy, timeout)\u001b[0m\n\u001b[0;32m    199\u001b[0m     crumb_response \u001b[38;5;241m=\u001b[39m \u001b[38;5;28mself\u001b[39m\u001b[38;5;241m.\u001b[39m_session\u001b[38;5;241m.\u001b[39mget(\u001b[38;5;241m*\u001b[39m\u001b[38;5;241m*\u001b[39mget_args)\n\u001b[0;32m    200\u001b[0m \u001b[38;5;28;01melse\u001b[39;00m:\n\u001b[1;32m--> 201\u001b[0m     crumb_response \u001b[38;5;241m=\u001b[39m \u001b[38;5;28;43mself\u001b[39;49m\u001b[38;5;241;43m.\u001b[39;49m\u001b[43m_session\u001b[49m\u001b[38;5;241;43m.\u001b[39;49m\u001b[43mget\u001b[49m\u001b[43m(\u001b[49m\u001b[38;5;241;43m*\u001b[39;49m\u001b[38;5;241;43m*\u001b[39;49m\u001b[43mget_args\u001b[49m\u001b[43m)\u001b[49m\n\u001b[0;32m    202\u001b[0m \u001b[38;5;28mself\u001b[39m\u001b[38;5;241m.\u001b[39m_crumb \u001b[38;5;241m=\u001b[39m crumb_response\u001b[38;5;241m.\u001b[39mtext\n\u001b[0;32m    203\u001b[0m \u001b[38;5;28;01mif\u001b[39;00m \u001b[38;5;28mself\u001b[39m\u001b[38;5;241m.\u001b[39m_crumb \u001b[38;5;129;01mis\u001b[39;00m \u001b[38;5;28;01mNone\u001b[39;00m \u001b[38;5;129;01mor\u001b[39;00m \u001b[38;5;124m'\u001b[39m\u001b[38;5;124m<html>\u001b[39m\u001b[38;5;124m'\u001b[39m \u001b[38;5;129;01min\u001b[39;00m \u001b[38;5;28mself\u001b[39m\u001b[38;5;241m.\u001b[39m_crumb:\n",
      "File \u001b[1;32m~\\AppData\\Local\\Programs\\Python\\Python313\\Lib\\site-packages\\requests\\sessions.py:602\u001b[0m, in \u001b[0;36mSession.get\u001b[1;34m(self, url, **kwargs)\u001b[0m\n\u001b[0;32m    594\u001b[0m \u001b[38;5;250m\u001b[39m\u001b[38;5;124mr\u001b[39m\u001b[38;5;124;03m\"\"\"Sends a GET request. Returns :class:`Response` object.\u001b[39;00m\n\u001b[0;32m    595\u001b[0m \n\u001b[0;32m    596\u001b[0m \u001b[38;5;124;03m:param url: URL for the new :class:`Request` object.\u001b[39;00m\n\u001b[0;32m    597\u001b[0m \u001b[38;5;124;03m:param \\*\\*kwargs: Optional arguments that ``request`` takes.\u001b[39;00m\n\u001b[0;32m    598\u001b[0m \u001b[38;5;124;03m:rtype: requests.Response\u001b[39;00m\n\u001b[0;32m    599\u001b[0m \u001b[38;5;124;03m\"\"\"\u001b[39;00m\n\u001b[0;32m    601\u001b[0m kwargs\u001b[38;5;241m.\u001b[39msetdefault(\u001b[38;5;124m\"\u001b[39m\u001b[38;5;124mallow_redirects\u001b[39m\u001b[38;5;124m\"\u001b[39m, \u001b[38;5;28;01mTrue\u001b[39;00m)\n\u001b[1;32m--> 602\u001b[0m \u001b[38;5;28;01mreturn\u001b[39;00m \u001b[38;5;28;43mself\u001b[39;49m\u001b[38;5;241;43m.\u001b[39;49m\u001b[43mrequest\u001b[49m\u001b[43m(\u001b[49m\u001b[38;5;124;43m\"\u001b[39;49m\u001b[38;5;124;43mGET\u001b[39;49m\u001b[38;5;124;43m\"\u001b[39;49m\u001b[43m,\u001b[49m\u001b[43m \u001b[49m\u001b[43murl\u001b[49m\u001b[43m,\u001b[49m\u001b[43m \u001b[49m\u001b[38;5;241;43m*\u001b[39;49m\u001b[38;5;241;43m*\u001b[39;49m\u001b[43mkwargs\u001b[49m\u001b[43m)\u001b[49m\n",
      "File \u001b[1;32m~\\AppData\\Local\\Programs\\Python\\Python313\\Lib\\site-packages\\requests\\sessions.py:589\u001b[0m, in \u001b[0;36mSession.request\u001b[1;34m(self, method, url, params, data, headers, cookies, files, auth, timeout, allow_redirects, proxies, hooks, stream, verify, cert, json)\u001b[0m\n\u001b[0;32m    584\u001b[0m send_kwargs \u001b[38;5;241m=\u001b[39m {\n\u001b[0;32m    585\u001b[0m     \u001b[38;5;124m\"\u001b[39m\u001b[38;5;124mtimeout\u001b[39m\u001b[38;5;124m\"\u001b[39m: timeout,\n\u001b[0;32m    586\u001b[0m     \u001b[38;5;124m\"\u001b[39m\u001b[38;5;124mallow_redirects\u001b[39m\u001b[38;5;124m\"\u001b[39m: allow_redirects,\n\u001b[0;32m    587\u001b[0m }\n\u001b[0;32m    588\u001b[0m send_kwargs\u001b[38;5;241m.\u001b[39mupdate(settings)\n\u001b[1;32m--> 589\u001b[0m resp \u001b[38;5;241m=\u001b[39m \u001b[38;5;28;43mself\u001b[39;49m\u001b[38;5;241;43m.\u001b[39;49m\u001b[43msend\u001b[49m\u001b[43m(\u001b[49m\u001b[43mprep\u001b[49m\u001b[43m,\u001b[49m\u001b[43m \u001b[49m\u001b[38;5;241;43m*\u001b[39;49m\u001b[38;5;241;43m*\u001b[39;49m\u001b[43msend_kwargs\u001b[49m\u001b[43m)\u001b[49m\n\u001b[0;32m    591\u001b[0m \u001b[38;5;28;01mreturn\u001b[39;00m resp\n",
      "File \u001b[1;32m~\\AppData\\Local\\Programs\\Python\\Python313\\Lib\\site-packages\\requests\\sessions.py:703\u001b[0m, in \u001b[0;36mSession.send\u001b[1;34m(self, request, **kwargs)\u001b[0m\n\u001b[0;32m    700\u001b[0m start \u001b[38;5;241m=\u001b[39m preferred_clock()\n\u001b[0;32m    702\u001b[0m \u001b[38;5;66;03m# Send the request\u001b[39;00m\n\u001b[1;32m--> 703\u001b[0m r \u001b[38;5;241m=\u001b[39m \u001b[43madapter\u001b[49m\u001b[38;5;241;43m.\u001b[39;49m\u001b[43msend\u001b[49m\u001b[43m(\u001b[49m\u001b[43mrequest\u001b[49m\u001b[43m,\u001b[49m\u001b[43m \u001b[49m\u001b[38;5;241;43m*\u001b[39;49m\u001b[38;5;241;43m*\u001b[39;49m\u001b[43mkwargs\u001b[49m\u001b[43m)\u001b[49m\n\u001b[0;32m    705\u001b[0m \u001b[38;5;66;03m# Total elapsed time of the request (approximately)\u001b[39;00m\n\u001b[0;32m    706\u001b[0m elapsed \u001b[38;5;241m=\u001b[39m preferred_clock() \u001b[38;5;241m-\u001b[39m start\n",
      "File \u001b[1;32m~\\AppData\\Local\\Programs\\Python\\Python313\\Lib\\site-packages\\requests\\adapters.py:667\u001b[0m, in \u001b[0;36mHTTPAdapter.send\u001b[1;34m(self, request, stream, timeout, verify, cert, proxies)\u001b[0m\n\u001b[0;32m    664\u001b[0m     timeout \u001b[38;5;241m=\u001b[39m TimeoutSauce(connect\u001b[38;5;241m=\u001b[39mtimeout, read\u001b[38;5;241m=\u001b[39mtimeout)\n\u001b[0;32m    666\u001b[0m \u001b[38;5;28;01mtry\u001b[39;00m:\n\u001b[1;32m--> 667\u001b[0m     resp \u001b[38;5;241m=\u001b[39m \u001b[43mconn\u001b[49m\u001b[38;5;241;43m.\u001b[39;49m\u001b[43murlopen\u001b[49m\u001b[43m(\u001b[49m\n\u001b[0;32m    668\u001b[0m \u001b[43m        \u001b[49m\u001b[43mmethod\u001b[49m\u001b[38;5;241;43m=\u001b[39;49m\u001b[43mrequest\u001b[49m\u001b[38;5;241;43m.\u001b[39;49m\u001b[43mmethod\u001b[49m\u001b[43m,\u001b[49m\n\u001b[0;32m    669\u001b[0m \u001b[43m        \u001b[49m\u001b[43murl\u001b[49m\u001b[38;5;241;43m=\u001b[39;49m\u001b[43murl\u001b[49m\u001b[43m,\u001b[49m\n\u001b[0;32m    670\u001b[0m \u001b[43m        \u001b[49m\u001b[43mbody\u001b[49m\u001b[38;5;241;43m=\u001b[39;49m\u001b[43mrequest\u001b[49m\u001b[38;5;241;43m.\u001b[39;49m\u001b[43mbody\u001b[49m\u001b[43m,\u001b[49m\n\u001b[0;32m    671\u001b[0m \u001b[43m        \u001b[49m\u001b[43mheaders\u001b[49m\u001b[38;5;241;43m=\u001b[39;49m\u001b[43mrequest\u001b[49m\u001b[38;5;241;43m.\u001b[39;49m\u001b[43mheaders\u001b[49m\u001b[43m,\u001b[49m\n\u001b[0;32m    672\u001b[0m \u001b[43m        \u001b[49m\u001b[43mredirect\u001b[49m\u001b[38;5;241;43m=\u001b[39;49m\u001b[38;5;28;43;01mFalse\u001b[39;49;00m\u001b[43m,\u001b[49m\n\u001b[0;32m    673\u001b[0m \u001b[43m        \u001b[49m\u001b[43massert_same_host\u001b[49m\u001b[38;5;241;43m=\u001b[39;49m\u001b[38;5;28;43;01mFalse\u001b[39;49;00m\u001b[43m,\u001b[49m\n\u001b[0;32m    674\u001b[0m \u001b[43m        \u001b[49m\u001b[43mpreload_content\u001b[49m\u001b[38;5;241;43m=\u001b[39;49m\u001b[38;5;28;43;01mFalse\u001b[39;49;00m\u001b[43m,\u001b[49m\n\u001b[0;32m    675\u001b[0m \u001b[43m        \u001b[49m\u001b[43mdecode_content\u001b[49m\u001b[38;5;241;43m=\u001b[39;49m\u001b[38;5;28;43;01mFalse\u001b[39;49;00m\u001b[43m,\u001b[49m\n\u001b[0;32m    676\u001b[0m \u001b[43m        \u001b[49m\u001b[43mretries\u001b[49m\u001b[38;5;241;43m=\u001b[39;49m\u001b[38;5;28;43mself\u001b[39;49m\u001b[38;5;241;43m.\u001b[39;49m\u001b[43mmax_retries\u001b[49m\u001b[43m,\u001b[49m\n\u001b[0;32m    677\u001b[0m \u001b[43m        \u001b[49m\u001b[43mtimeout\u001b[49m\u001b[38;5;241;43m=\u001b[39;49m\u001b[43mtimeout\u001b[49m\u001b[43m,\u001b[49m\n\u001b[0;32m    678\u001b[0m \u001b[43m        \u001b[49m\u001b[43mchunked\u001b[49m\u001b[38;5;241;43m=\u001b[39;49m\u001b[43mchunked\u001b[49m\u001b[43m,\u001b[49m\n\u001b[0;32m    679\u001b[0m \u001b[43m    \u001b[49m\u001b[43m)\u001b[49m\n\u001b[0;32m    681\u001b[0m \u001b[38;5;28;01mexcept\u001b[39;00m (ProtocolError, \u001b[38;5;167;01mOSError\u001b[39;00m) \u001b[38;5;28;01mas\u001b[39;00m err:\n\u001b[0;32m    682\u001b[0m     \u001b[38;5;28;01mraise\u001b[39;00m \u001b[38;5;167;01mConnectionError\u001b[39;00m(err, request\u001b[38;5;241m=\u001b[39mrequest)\n",
      "File \u001b[1;32m~\\AppData\\Local\\Programs\\Python\\Python313\\Lib\\site-packages\\urllib3\\connectionpool.py:787\u001b[0m, in \u001b[0;36mHTTPConnectionPool.urlopen\u001b[1;34m(self, method, url, body, headers, retries, redirect, assert_same_host, timeout, pool_timeout, release_conn, chunked, body_pos, preload_content, decode_content, **response_kw)\u001b[0m\n\u001b[0;32m    784\u001b[0m response_conn \u001b[38;5;241m=\u001b[39m conn \u001b[38;5;28;01mif\u001b[39;00m \u001b[38;5;129;01mnot\u001b[39;00m release_conn \u001b[38;5;28;01melse\u001b[39;00m \u001b[38;5;28;01mNone\u001b[39;00m\n\u001b[0;32m    786\u001b[0m \u001b[38;5;66;03m# Make the request on the HTTPConnection object\u001b[39;00m\n\u001b[1;32m--> 787\u001b[0m response \u001b[38;5;241m=\u001b[39m \u001b[38;5;28;43mself\u001b[39;49m\u001b[38;5;241;43m.\u001b[39;49m\u001b[43m_make_request\u001b[49m\u001b[43m(\u001b[49m\n\u001b[0;32m    788\u001b[0m \u001b[43m    \u001b[49m\u001b[43mconn\u001b[49m\u001b[43m,\u001b[49m\n\u001b[0;32m    789\u001b[0m \u001b[43m    \u001b[49m\u001b[43mmethod\u001b[49m\u001b[43m,\u001b[49m\n\u001b[0;32m    790\u001b[0m \u001b[43m    \u001b[49m\u001b[43murl\u001b[49m\u001b[43m,\u001b[49m\n\u001b[0;32m    791\u001b[0m \u001b[43m    \u001b[49m\u001b[43mtimeout\u001b[49m\u001b[38;5;241;43m=\u001b[39;49m\u001b[43mtimeout_obj\u001b[49m\u001b[43m,\u001b[49m\n\u001b[0;32m    792\u001b[0m \u001b[43m    \u001b[49m\u001b[43mbody\u001b[49m\u001b[38;5;241;43m=\u001b[39;49m\u001b[43mbody\u001b[49m\u001b[43m,\u001b[49m\n\u001b[0;32m    793\u001b[0m \u001b[43m    \u001b[49m\u001b[43mheaders\u001b[49m\u001b[38;5;241;43m=\u001b[39;49m\u001b[43mheaders\u001b[49m\u001b[43m,\u001b[49m\n\u001b[0;32m    794\u001b[0m \u001b[43m    \u001b[49m\u001b[43mchunked\u001b[49m\u001b[38;5;241;43m=\u001b[39;49m\u001b[43mchunked\u001b[49m\u001b[43m,\u001b[49m\n\u001b[0;32m    795\u001b[0m \u001b[43m    \u001b[49m\u001b[43mretries\u001b[49m\u001b[38;5;241;43m=\u001b[39;49m\u001b[43mretries\u001b[49m\u001b[43m,\u001b[49m\n\u001b[0;32m    796\u001b[0m \u001b[43m    \u001b[49m\u001b[43mresponse_conn\u001b[49m\u001b[38;5;241;43m=\u001b[39;49m\u001b[43mresponse_conn\u001b[49m\u001b[43m,\u001b[49m\n\u001b[0;32m    797\u001b[0m \u001b[43m    \u001b[49m\u001b[43mpreload_content\u001b[49m\u001b[38;5;241;43m=\u001b[39;49m\u001b[43mpreload_content\u001b[49m\u001b[43m,\u001b[49m\n\u001b[0;32m    798\u001b[0m \u001b[43m    \u001b[49m\u001b[43mdecode_content\u001b[49m\u001b[38;5;241;43m=\u001b[39;49m\u001b[43mdecode_content\u001b[49m\u001b[43m,\u001b[49m\n\u001b[0;32m    799\u001b[0m \u001b[43m    \u001b[49m\u001b[38;5;241;43m*\u001b[39;49m\u001b[38;5;241;43m*\u001b[39;49m\u001b[43mresponse_kw\u001b[49m\u001b[43m,\u001b[49m\n\u001b[0;32m    800\u001b[0m \u001b[43m\u001b[49m\u001b[43m)\u001b[49m\n\u001b[0;32m    802\u001b[0m \u001b[38;5;66;03m# Everything went great!\u001b[39;00m\n\u001b[0;32m    803\u001b[0m clean_exit \u001b[38;5;241m=\u001b[39m \u001b[38;5;28;01mTrue\u001b[39;00m\n",
      "File \u001b[1;32m~\\AppData\\Local\\Programs\\Python\\Python313\\Lib\\site-packages\\urllib3\\connectionpool.py:464\u001b[0m, in \u001b[0;36mHTTPConnectionPool._make_request\u001b[1;34m(self, conn, method, url, body, headers, retries, timeout, chunked, response_conn, preload_content, decode_content, enforce_content_length)\u001b[0m\n\u001b[0;32m    461\u001b[0m \u001b[38;5;28;01mtry\u001b[39;00m:\n\u001b[0;32m    462\u001b[0m     \u001b[38;5;66;03m# Trigger any extra validation we need to do.\u001b[39;00m\n\u001b[0;32m    463\u001b[0m     \u001b[38;5;28;01mtry\u001b[39;00m:\n\u001b[1;32m--> 464\u001b[0m         \u001b[38;5;28;43mself\u001b[39;49m\u001b[38;5;241;43m.\u001b[39;49m\u001b[43m_validate_conn\u001b[49m\u001b[43m(\u001b[49m\u001b[43mconn\u001b[49m\u001b[43m)\u001b[49m\n\u001b[0;32m    465\u001b[0m     \u001b[38;5;28;01mexcept\u001b[39;00m (SocketTimeout, BaseSSLError) \u001b[38;5;28;01mas\u001b[39;00m e:\n\u001b[0;32m    466\u001b[0m         \u001b[38;5;28mself\u001b[39m\u001b[38;5;241m.\u001b[39m_raise_timeout(err\u001b[38;5;241m=\u001b[39me, url\u001b[38;5;241m=\u001b[39murl, timeout_value\u001b[38;5;241m=\u001b[39mconn\u001b[38;5;241m.\u001b[39mtimeout)\n",
      "File \u001b[1;32m~\\AppData\\Local\\Programs\\Python\\Python313\\Lib\\site-packages\\urllib3\\connectionpool.py:1093\u001b[0m, in \u001b[0;36mHTTPSConnectionPool._validate_conn\u001b[1;34m(self, conn)\u001b[0m\n\u001b[0;32m   1091\u001b[0m \u001b[38;5;66;03m# Force connect early to allow us to validate the connection.\u001b[39;00m\n\u001b[0;32m   1092\u001b[0m \u001b[38;5;28;01mif\u001b[39;00m conn\u001b[38;5;241m.\u001b[39mis_closed:\n\u001b[1;32m-> 1093\u001b[0m     \u001b[43mconn\u001b[49m\u001b[38;5;241;43m.\u001b[39;49m\u001b[43mconnect\u001b[49m\u001b[43m(\u001b[49m\u001b[43m)\u001b[49m\n\u001b[0;32m   1095\u001b[0m \u001b[38;5;66;03m# TODO revise this, see https://github.com/urllib3/urllib3/issues/2791\u001b[39;00m\n\u001b[0;32m   1096\u001b[0m \u001b[38;5;28;01mif\u001b[39;00m \u001b[38;5;129;01mnot\u001b[39;00m conn\u001b[38;5;241m.\u001b[39mis_verified \u001b[38;5;129;01mand\u001b[39;00m \u001b[38;5;129;01mnot\u001b[39;00m conn\u001b[38;5;241m.\u001b[39mproxy_is_verified:\n",
      "File \u001b[1;32m~\\AppData\\Local\\Programs\\Python\\Python313\\Lib\\site-packages\\urllib3\\connection.py:741\u001b[0m, in \u001b[0;36mHTTPSConnection.connect\u001b[1;34m(self)\u001b[0m\n\u001b[0;32m    738\u001b[0m     \u001b[38;5;66;03m# Remove trailing '.' from fqdn hostnames to allow certificate validation\u001b[39;00m\n\u001b[0;32m    739\u001b[0m     server_hostname_rm_dot \u001b[38;5;241m=\u001b[39m server_hostname\u001b[38;5;241m.\u001b[39mrstrip(\u001b[38;5;124m\"\u001b[39m\u001b[38;5;124m.\u001b[39m\u001b[38;5;124m\"\u001b[39m)\n\u001b[1;32m--> 741\u001b[0m     sock_and_verified \u001b[38;5;241m=\u001b[39m \u001b[43m_ssl_wrap_socket_and_match_hostname\u001b[49m\u001b[43m(\u001b[49m\n\u001b[0;32m    742\u001b[0m \u001b[43m        \u001b[49m\u001b[43msock\u001b[49m\u001b[38;5;241;43m=\u001b[39;49m\u001b[43msock\u001b[49m\u001b[43m,\u001b[49m\n\u001b[0;32m    743\u001b[0m \u001b[43m        \u001b[49m\u001b[43mcert_reqs\u001b[49m\u001b[38;5;241;43m=\u001b[39;49m\u001b[38;5;28;43mself\u001b[39;49m\u001b[38;5;241;43m.\u001b[39;49m\u001b[43mcert_reqs\u001b[49m\u001b[43m,\u001b[49m\n\u001b[0;32m    744\u001b[0m \u001b[43m        \u001b[49m\u001b[43mssl_version\u001b[49m\u001b[38;5;241;43m=\u001b[39;49m\u001b[38;5;28;43mself\u001b[39;49m\u001b[38;5;241;43m.\u001b[39;49m\u001b[43mssl_version\u001b[49m\u001b[43m,\u001b[49m\n\u001b[0;32m    745\u001b[0m \u001b[43m        \u001b[49m\u001b[43mssl_minimum_version\u001b[49m\u001b[38;5;241;43m=\u001b[39;49m\u001b[38;5;28;43mself\u001b[39;49m\u001b[38;5;241;43m.\u001b[39;49m\u001b[43mssl_minimum_version\u001b[49m\u001b[43m,\u001b[49m\n\u001b[0;32m    746\u001b[0m \u001b[43m        \u001b[49m\u001b[43mssl_maximum_version\u001b[49m\u001b[38;5;241;43m=\u001b[39;49m\u001b[38;5;28;43mself\u001b[39;49m\u001b[38;5;241;43m.\u001b[39;49m\u001b[43mssl_maximum_version\u001b[49m\u001b[43m,\u001b[49m\n\u001b[0;32m    747\u001b[0m \u001b[43m        \u001b[49m\u001b[43mca_certs\u001b[49m\u001b[38;5;241;43m=\u001b[39;49m\u001b[38;5;28;43mself\u001b[39;49m\u001b[38;5;241;43m.\u001b[39;49m\u001b[43mca_certs\u001b[49m\u001b[43m,\u001b[49m\n\u001b[0;32m    748\u001b[0m \u001b[43m        \u001b[49m\u001b[43mca_cert_dir\u001b[49m\u001b[38;5;241;43m=\u001b[39;49m\u001b[38;5;28;43mself\u001b[39;49m\u001b[38;5;241;43m.\u001b[39;49m\u001b[43mca_cert_dir\u001b[49m\u001b[43m,\u001b[49m\n\u001b[0;32m    749\u001b[0m \u001b[43m        \u001b[49m\u001b[43mca_cert_data\u001b[49m\u001b[38;5;241;43m=\u001b[39;49m\u001b[38;5;28;43mself\u001b[39;49m\u001b[38;5;241;43m.\u001b[39;49m\u001b[43mca_cert_data\u001b[49m\u001b[43m,\u001b[49m\n\u001b[0;32m    750\u001b[0m \u001b[43m        \u001b[49m\u001b[43mcert_file\u001b[49m\u001b[38;5;241;43m=\u001b[39;49m\u001b[38;5;28;43mself\u001b[39;49m\u001b[38;5;241;43m.\u001b[39;49m\u001b[43mcert_file\u001b[49m\u001b[43m,\u001b[49m\n\u001b[0;32m    751\u001b[0m \u001b[43m        \u001b[49m\u001b[43mkey_file\u001b[49m\u001b[38;5;241;43m=\u001b[39;49m\u001b[38;5;28;43mself\u001b[39;49m\u001b[38;5;241;43m.\u001b[39;49m\u001b[43mkey_file\u001b[49m\u001b[43m,\u001b[49m\n\u001b[0;32m    752\u001b[0m \u001b[43m        \u001b[49m\u001b[43mkey_password\u001b[49m\u001b[38;5;241;43m=\u001b[39;49m\u001b[38;5;28;43mself\u001b[39;49m\u001b[38;5;241;43m.\u001b[39;49m\u001b[43mkey_password\u001b[49m\u001b[43m,\u001b[49m\n\u001b[0;32m    753\u001b[0m \u001b[43m        \u001b[49m\u001b[43mserver_hostname\u001b[49m\u001b[38;5;241;43m=\u001b[39;49m\u001b[43mserver_hostname_rm_dot\u001b[49m\u001b[43m,\u001b[49m\n\u001b[0;32m    754\u001b[0m \u001b[43m        \u001b[49m\u001b[43mssl_context\u001b[49m\u001b[38;5;241;43m=\u001b[39;49m\u001b[38;5;28;43mself\u001b[39;49m\u001b[38;5;241;43m.\u001b[39;49m\u001b[43mssl_context\u001b[49m\u001b[43m,\u001b[49m\n\u001b[0;32m    755\u001b[0m \u001b[43m        \u001b[49m\u001b[43mtls_in_tls\u001b[49m\u001b[38;5;241;43m=\u001b[39;49m\u001b[43mtls_in_tls\u001b[49m\u001b[43m,\u001b[49m\n\u001b[0;32m    756\u001b[0m \u001b[43m        \u001b[49m\u001b[43massert_hostname\u001b[49m\u001b[38;5;241;43m=\u001b[39;49m\u001b[38;5;28;43mself\u001b[39;49m\u001b[38;5;241;43m.\u001b[39;49m\u001b[43massert_hostname\u001b[49m\u001b[43m,\u001b[49m\n\u001b[0;32m    757\u001b[0m \u001b[43m        \u001b[49m\u001b[43massert_fingerprint\u001b[49m\u001b[38;5;241;43m=\u001b[39;49m\u001b[38;5;28;43mself\u001b[39;49m\u001b[38;5;241;43m.\u001b[39;49m\u001b[43massert_fingerprint\u001b[49m\u001b[43m,\u001b[49m\n\u001b[0;32m    758\u001b[0m \u001b[43m    \u001b[49m\u001b[43m)\u001b[49m\n\u001b[0;32m    759\u001b[0m     \u001b[38;5;28mself\u001b[39m\u001b[38;5;241m.\u001b[39msock \u001b[38;5;241m=\u001b[39m sock_and_verified\u001b[38;5;241m.\u001b[39msocket\n\u001b[0;32m    761\u001b[0m \u001b[38;5;66;03m# If an error occurs during connection/handshake we may need to release\u001b[39;00m\n\u001b[0;32m    762\u001b[0m \u001b[38;5;66;03m# our lock so another connection can probe the origin.\u001b[39;00m\n",
      "File \u001b[1;32m~\\AppData\\Local\\Programs\\Python\\Python313\\Lib\\site-packages\\urllib3\\connection.py:920\u001b[0m, in \u001b[0;36m_ssl_wrap_socket_and_match_hostname\u001b[1;34m(sock, cert_reqs, ssl_version, ssl_minimum_version, ssl_maximum_version, cert_file, key_file, key_password, ca_certs, ca_cert_dir, ca_cert_data, assert_hostname, assert_fingerprint, server_hostname, ssl_context, tls_in_tls)\u001b[0m\n\u001b[0;32m    917\u001b[0m     \u001b[38;5;28;01mif\u001b[39;00m is_ipaddress(normalized):\n\u001b[0;32m    918\u001b[0m         server_hostname \u001b[38;5;241m=\u001b[39m normalized\n\u001b[1;32m--> 920\u001b[0m ssl_sock \u001b[38;5;241m=\u001b[39m \u001b[43mssl_wrap_socket\u001b[49m\u001b[43m(\u001b[49m\n\u001b[0;32m    921\u001b[0m \u001b[43m    \u001b[49m\u001b[43msock\u001b[49m\u001b[38;5;241;43m=\u001b[39;49m\u001b[43msock\u001b[49m\u001b[43m,\u001b[49m\n\u001b[0;32m    922\u001b[0m \u001b[43m    \u001b[49m\u001b[43mkeyfile\u001b[49m\u001b[38;5;241;43m=\u001b[39;49m\u001b[43mkey_file\u001b[49m\u001b[43m,\u001b[49m\n\u001b[0;32m    923\u001b[0m \u001b[43m    \u001b[49m\u001b[43mcertfile\u001b[49m\u001b[38;5;241;43m=\u001b[39;49m\u001b[43mcert_file\u001b[49m\u001b[43m,\u001b[49m\n\u001b[0;32m    924\u001b[0m \u001b[43m    \u001b[49m\u001b[43mkey_password\u001b[49m\u001b[38;5;241;43m=\u001b[39;49m\u001b[43mkey_password\u001b[49m\u001b[43m,\u001b[49m\n\u001b[0;32m    925\u001b[0m \u001b[43m    \u001b[49m\u001b[43mca_certs\u001b[49m\u001b[38;5;241;43m=\u001b[39;49m\u001b[43mca_certs\u001b[49m\u001b[43m,\u001b[49m\n\u001b[0;32m    926\u001b[0m \u001b[43m    \u001b[49m\u001b[43mca_cert_dir\u001b[49m\u001b[38;5;241;43m=\u001b[39;49m\u001b[43mca_cert_dir\u001b[49m\u001b[43m,\u001b[49m\n\u001b[0;32m    927\u001b[0m \u001b[43m    \u001b[49m\u001b[43mca_cert_data\u001b[49m\u001b[38;5;241;43m=\u001b[39;49m\u001b[43mca_cert_data\u001b[49m\u001b[43m,\u001b[49m\n\u001b[0;32m    928\u001b[0m \u001b[43m    \u001b[49m\u001b[43mserver_hostname\u001b[49m\u001b[38;5;241;43m=\u001b[39;49m\u001b[43mserver_hostname\u001b[49m\u001b[43m,\u001b[49m\n\u001b[0;32m    929\u001b[0m \u001b[43m    \u001b[49m\u001b[43mssl_context\u001b[49m\u001b[38;5;241;43m=\u001b[39;49m\u001b[43mcontext\u001b[49m\u001b[43m,\u001b[49m\n\u001b[0;32m    930\u001b[0m \u001b[43m    \u001b[49m\u001b[43mtls_in_tls\u001b[49m\u001b[38;5;241;43m=\u001b[39;49m\u001b[43mtls_in_tls\u001b[49m\u001b[43m,\u001b[49m\n\u001b[0;32m    931\u001b[0m \u001b[43m\u001b[49m\u001b[43m)\u001b[49m\n\u001b[0;32m    933\u001b[0m \u001b[38;5;28;01mtry\u001b[39;00m:\n\u001b[0;32m    934\u001b[0m     \u001b[38;5;28;01mif\u001b[39;00m assert_fingerprint:\n",
      "File \u001b[1;32m~\\AppData\\Local\\Programs\\Python\\Python313\\Lib\\site-packages\\urllib3\\util\\ssl_.py:460\u001b[0m, in \u001b[0;36mssl_wrap_socket\u001b[1;34m(sock, keyfile, certfile, cert_reqs, ca_certs, server_hostname, ssl_version, ciphers, ssl_context, ca_cert_dir, key_password, ca_cert_data, tls_in_tls)\u001b[0m\n\u001b[0;32m    456\u001b[0m         context\u001b[38;5;241m.\u001b[39mload_cert_chain(certfile, keyfile, key_password)\n\u001b[0;32m    458\u001b[0m context\u001b[38;5;241m.\u001b[39mset_alpn_protocols(ALPN_PROTOCOLS)\n\u001b[1;32m--> 460\u001b[0m ssl_sock \u001b[38;5;241m=\u001b[39m \u001b[43m_ssl_wrap_socket_impl\u001b[49m\u001b[43m(\u001b[49m\u001b[43msock\u001b[49m\u001b[43m,\u001b[49m\u001b[43m \u001b[49m\u001b[43mcontext\u001b[49m\u001b[43m,\u001b[49m\u001b[43m \u001b[49m\u001b[43mtls_in_tls\u001b[49m\u001b[43m,\u001b[49m\u001b[43m \u001b[49m\u001b[43mserver_hostname\u001b[49m\u001b[43m)\u001b[49m\n\u001b[0;32m    461\u001b[0m \u001b[38;5;28;01mreturn\u001b[39;00m ssl_sock\n",
      "File \u001b[1;32m~\\AppData\\Local\\Programs\\Python\\Python313\\Lib\\site-packages\\urllib3\\util\\ssl_.py:504\u001b[0m, in \u001b[0;36m_ssl_wrap_socket_impl\u001b[1;34m(sock, ssl_context, tls_in_tls, server_hostname)\u001b[0m\n\u001b[0;32m    501\u001b[0m     SSLTransport\u001b[38;5;241m.\u001b[39m_validate_ssl_context_for_tls_in_tls(ssl_context)\n\u001b[0;32m    502\u001b[0m     \u001b[38;5;28;01mreturn\u001b[39;00m SSLTransport(sock, ssl_context, server_hostname)\n\u001b[1;32m--> 504\u001b[0m \u001b[38;5;28;01mreturn\u001b[39;00m \u001b[43mssl_context\u001b[49m\u001b[38;5;241;43m.\u001b[39;49m\u001b[43mwrap_socket\u001b[49m\u001b[43m(\u001b[49m\u001b[43msock\u001b[49m\u001b[43m,\u001b[49m\u001b[43m \u001b[49m\u001b[43mserver_hostname\u001b[49m\u001b[38;5;241;43m=\u001b[39;49m\u001b[43mserver_hostname\u001b[49m\u001b[43m)\u001b[49m\n",
      "File \u001b[1;32m~\\AppData\\Local\\Programs\\Python\\Python313\\Lib\\ssl.py:455\u001b[0m, in \u001b[0;36mSSLContext.wrap_socket\u001b[1;34m(self, sock, server_side, do_handshake_on_connect, suppress_ragged_eofs, server_hostname, session)\u001b[0m\n\u001b[0;32m    449\u001b[0m \u001b[38;5;28;01mdef\u001b[39;00m \u001b[38;5;21mwrap_socket\u001b[39m(\u001b[38;5;28mself\u001b[39m, sock, server_side\u001b[38;5;241m=\u001b[39m\u001b[38;5;28;01mFalse\u001b[39;00m,\n\u001b[0;32m    450\u001b[0m                 do_handshake_on_connect\u001b[38;5;241m=\u001b[39m\u001b[38;5;28;01mTrue\u001b[39;00m,\n\u001b[0;32m    451\u001b[0m                 suppress_ragged_eofs\u001b[38;5;241m=\u001b[39m\u001b[38;5;28;01mTrue\u001b[39;00m,\n\u001b[0;32m    452\u001b[0m                 server_hostname\u001b[38;5;241m=\u001b[39m\u001b[38;5;28;01mNone\u001b[39;00m, session\u001b[38;5;241m=\u001b[39m\u001b[38;5;28;01mNone\u001b[39;00m):\n\u001b[0;32m    453\u001b[0m     \u001b[38;5;66;03m# SSLSocket class handles server_hostname encoding before it calls\u001b[39;00m\n\u001b[0;32m    454\u001b[0m     \u001b[38;5;66;03m# ctx._wrap_socket()\u001b[39;00m\n\u001b[1;32m--> 455\u001b[0m     \u001b[38;5;28;01mreturn\u001b[39;00m \u001b[38;5;28;43mself\u001b[39;49m\u001b[38;5;241;43m.\u001b[39;49m\u001b[43msslsocket_class\u001b[49m\u001b[38;5;241;43m.\u001b[39;49m\u001b[43m_create\u001b[49m\u001b[43m(\u001b[49m\n\u001b[0;32m    456\u001b[0m \u001b[43m        \u001b[49m\u001b[43msock\u001b[49m\u001b[38;5;241;43m=\u001b[39;49m\u001b[43msock\u001b[49m\u001b[43m,\u001b[49m\n\u001b[0;32m    457\u001b[0m \u001b[43m        \u001b[49m\u001b[43mserver_side\u001b[49m\u001b[38;5;241;43m=\u001b[39;49m\u001b[43mserver_side\u001b[49m\u001b[43m,\u001b[49m\n\u001b[0;32m    458\u001b[0m \u001b[43m        \u001b[49m\u001b[43mdo_handshake_on_connect\u001b[49m\u001b[38;5;241;43m=\u001b[39;49m\u001b[43mdo_handshake_on_connect\u001b[49m\u001b[43m,\u001b[49m\n\u001b[0;32m    459\u001b[0m \u001b[43m        \u001b[49m\u001b[43msuppress_ragged_eofs\u001b[49m\u001b[38;5;241;43m=\u001b[39;49m\u001b[43msuppress_ragged_eofs\u001b[49m\u001b[43m,\u001b[49m\n\u001b[0;32m    460\u001b[0m \u001b[43m        \u001b[49m\u001b[43mserver_hostname\u001b[49m\u001b[38;5;241;43m=\u001b[39;49m\u001b[43mserver_hostname\u001b[49m\u001b[43m,\u001b[49m\n\u001b[0;32m    461\u001b[0m \u001b[43m        \u001b[49m\u001b[43mcontext\u001b[49m\u001b[38;5;241;43m=\u001b[39;49m\u001b[38;5;28;43mself\u001b[39;49m\u001b[43m,\u001b[49m\n\u001b[0;32m    462\u001b[0m \u001b[43m        \u001b[49m\u001b[43msession\u001b[49m\u001b[38;5;241;43m=\u001b[39;49m\u001b[43msession\u001b[49m\n\u001b[0;32m    463\u001b[0m \u001b[43m    \u001b[49m\u001b[43m)\u001b[49m\n",
      "File \u001b[1;32m~\\AppData\\Local\\Programs\\Python\\Python313\\Lib\\ssl.py:1076\u001b[0m, in \u001b[0;36mSSLSocket._create\u001b[1;34m(cls, sock, server_side, do_handshake_on_connect, suppress_ragged_eofs, server_hostname, context, session)\u001b[0m\n\u001b[0;32m   1073\u001b[0m             \u001b[38;5;28;01mif\u001b[39;00m timeout \u001b[38;5;241m==\u001b[39m \u001b[38;5;241m0.0\u001b[39m:\n\u001b[0;32m   1074\u001b[0m                 \u001b[38;5;66;03m# non-blocking\u001b[39;00m\n\u001b[0;32m   1075\u001b[0m                 \u001b[38;5;28;01mraise\u001b[39;00m \u001b[38;5;167;01mValueError\u001b[39;00m(\u001b[38;5;124m\"\u001b[39m\u001b[38;5;124mdo_handshake_on_connect should not be specified for non-blocking sockets\u001b[39m\u001b[38;5;124m\"\u001b[39m)\n\u001b[1;32m-> 1076\u001b[0m             \u001b[38;5;28;43mself\u001b[39;49m\u001b[38;5;241;43m.\u001b[39;49m\u001b[43mdo_handshake\u001b[49m\u001b[43m(\u001b[49m\u001b[43m)\u001b[49m\n\u001b[0;32m   1077\u001b[0m \u001b[38;5;28;01mexcept\u001b[39;00m:\n\u001b[0;32m   1078\u001b[0m     \u001b[38;5;28;01mtry\u001b[39;00m:\n",
      "File \u001b[1;32m~\\AppData\\Local\\Programs\\Python\\Python313\\Lib\\ssl.py:1372\u001b[0m, in \u001b[0;36mSSLSocket.do_handshake\u001b[1;34m(self, block)\u001b[0m\n\u001b[0;32m   1370\u001b[0m     \u001b[38;5;28;01mif\u001b[39;00m timeout \u001b[38;5;241m==\u001b[39m \u001b[38;5;241m0.0\u001b[39m \u001b[38;5;129;01mand\u001b[39;00m block:\n\u001b[0;32m   1371\u001b[0m         \u001b[38;5;28mself\u001b[39m\u001b[38;5;241m.\u001b[39msettimeout(\u001b[38;5;28;01mNone\u001b[39;00m)\n\u001b[1;32m-> 1372\u001b[0m     \u001b[38;5;28;43mself\u001b[39;49m\u001b[38;5;241;43m.\u001b[39;49m\u001b[43m_sslobj\u001b[49m\u001b[38;5;241;43m.\u001b[39;49m\u001b[43mdo_handshake\u001b[49m\u001b[43m(\u001b[49m\u001b[43m)\u001b[49m\n\u001b[0;32m   1373\u001b[0m \u001b[38;5;28;01mfinally\u001b[39;00m:\n\u001b[0;32m   1374\u001b[0m     \u001b[38;5;28mself\u001b[39m\u001b[38;5;241m.\u001b[39msettimeout(timeout)\n",
      "\u001b[1;31mKeyboardInterrupt\u001b[0m: "
     ]
    }
   ],
   "source": [
    "dji = get_ticker_data('^DJI', startdate, enddate, 'dji')\n",
    "make_pickle(dji, 'dji.pkl')\n",
    "\n",
    "# 시간대별로 막혀 있어서 아래 것은 사용하지 않음 (미국 개장시간대에서만 열림)\n",
    "# dji = pdr.get_data_yahoo('^DJI', start=startdate, end=enddate)\n",
    "# df = reformat_df(dji, 'dji')\n",
    "# make_pickle(df, 'dji.pkl')\n",
    "\n",
    "# 아래 investing은 vol자료에 차이가 있어 사용하지 않음.\n",
    "# dji_url = 'https://www.investing.com/indices/us-30-historical-data'\n",
    "# dji = ['date', 'dji', 'open', 'high', 'low', 'volume', 'dji_cr']\n",
    "# pkl_name = 'dji.pkl'\n",
    "# df = get_data(dji_url,dji)\n",
    "\n",
    "# update_pickle(df, pkl_name)"
   ]
  },
  {
   "cell_type": "code",
   "execution_count": null,
   "id": "7dd4093f",
   "metadata": {},
   "outputs": [],
   "source": [
    "ixic = get_ticker_data('^IXIC', startdate, enddate, 'ixic')\n",
    "make_pickle(ixic, 'nas.pkl')\n",
    "\n",
    "# ixic = pdr.get_data_yahoo('^IXIC', start=startdate, end=enddate)\n",
    "# df = reformat_df(ixic, 'ixic')\n",
    "# make_pickle(df, 'nas.pkl')\n",
    "\n",
    "# nas_url = 'https://kr.investing.com/indices/nasdaq-composite-historical-data'\n",
    "# ixic = ['date', 'ixic', 'open', 'high', 'low', 'volume', 'ixic_cr']\n",
    "# pkl_name = 'nas.pkl'\n",
    "# df = get_data(nas_url,ixic)\n",
    "\n",
    "# update_pickle(df, pkl_name)"
   ]
  },
  {
   "cell_type": "code",
   "execution_count": null,
   "id": "508b3bb4",
   "metadata": {},
   "outputs": [],
   "source": [
    "sox = get_ticker_data('^SOX', startdate, enddate, 'sox')\n",
    "make_pickle(sox, 'sox.pkl')\n",
    "\n",
    "# sox = pdr.get_data_yahoo('^SOX', start=startdate, end=enddate)\n",
    "# df = reformat_df(sox, 'sox')\n",
    "# make_pickle(df, 'sox.pkl')\n",
    "\n",
    "# sox_url = 'https://kr.investing.com/indices/phlx-semiconductor-historical-data'\n",
    "# sox = ['date', 'sox', 'open', 'high', 'low', 'volume', 'sox_cr']\n",
    "# pkl_name = 'sox.pkl'\n",
    "# df = get_data(sox_url,sox)\n",
    "\n",
    "# update_pickle(df, pkl_name)"
   ]
  },
  {
   "cell_type": "code",
   "execution_count": null,
   "id": "221ac32b",
   "metadata": {},
   "outputs": [],
   "source": [
    "vix = get_ticker_data('^VIX', startdate, enddate, 'vix')\n",
    "make_pickle(vix, 'vix.pkl')\n",
    "\n",
    "# vix = pdr.get_data_yahoo('^VIX', start=startdate, end=enddate)\n",
    "# df = reformat_df(vix, 'vix')\n",
    "# make_pickle(df, 'vix.pkl')\n",
    "\n",
    "# vix_url = 'https://kr.investing.com/indices/volatility-s-p-500-historical-data'\n",
    "# vix = ['date', 'vix', 'open', 'high', 'low', 'volume', 'vix_cr']\n",
    "# pkl_name = 'vix.pkl'\n",
    "# df = get_data(vix_url,vix)\n",
    "\n",
    "# update_pickle(df, pkl_name)"
   ]
  },
  {
   "cell_type": "code",
   "execution_count": null,
   "id": "c75a2f53",
   "metadata": {
    "scrolled": true
   },
   "outputs": [],
   "source": [
    "kor_bond_10yr_url = 'https://kr.investing.com/rates-bonds/south-korea-10-year-bond-yield-historical-data'\n",
    "kor_10yr = ['date', 'bond_kor_10', 'open', 'high', 'low', 'bond_kor_10_cr']\n",
    "pkl_name = 'kor_10yr_bond.pkl'\n",
    "df = get_data(kor_bond_10yr_url,kor_10yr)\n",
    "\n",
    "# update_pickle(df, pkl_name)"
   ]
  },
  {
   "cell_type": "code",
   "execution_count": null,
   "id": "94829e2c-c76c-4677-9948-8b1c760e7ca5",
   "metadata": {},
   "outputs": [],
   "source": [
    "df.tail()"
   ]
  },
  {
   "cell_type": "code",
   "execution_count": null,
   "id": "25f5a508-ba2f-4081-b95c-97bbbba338c4",
   "metadata": {},
   "outputs": [],
   "source": [
    "pkl_directory = 'data/common_pkl/kor_10yr_bond.pkl'\n",
    "# pkl_directory = 'data/common_pkl/vix.pkl'\n",
    "pkl_directory = 'data/common_pkl/kor_2yr_bond.pkl'\n",
    "pkl_directory = 'data/common_pkl/krw_rate.pkl'\n",
    "df = pd.read_pickle(pkl_directory)\n",
    "df.tail()"
   ]
  },
  {
   "cell_type": "code",
   "execution_count": null,
   "id": "a048eb07-357e-433c-9ef3-bd1b8ee74e57",
   "metadata": {},
   "outputs": [],
   "source": [
    "## 테스트\n",
    "# url = 'https://kr.investing.com/rates-bonds/south-korea-10-year-bond-yield-historical-data'\n",
    "# res = requests.get(url, headers=headers)\n",
    "# print(res.content.decode('utf-8'))"
   ]
  },
  {
   "cell_type": "code",
   "execution_count": 29,
   "id": "5bc71d44",
   "metadata": {},
   "outputs": [
    {
     "name": "stdout",
     "output_type": "stream",
     "text": [
      "t1 200\n",
      "t3\n"
     ]
    }
   ],
   "source": [
    "kor_bond_2yr_url = 'https://kr.investing.com/rates-bonds/south-korea-2-year-bond-yield-historical-data'\n",
    "kor_2yr = ['date', 'bond_kor_2', 'open', 'high', 'low','bond_kor_2_cr']\n",
    "pkl_name = 'kor_2yr_bond.pkl'\n",
    "df = get_data(kor_bond_2yr_url,kor_2yr)\n",
    "\n",
    "update_pickle(df, pkl_name)"
   ]
  },
  {
   "cell_type": "code",
   "execution_count": 30,
   "id": "357b604f",
   "metadata": {},
   "outputs": [
    {
     "name": "stdout",
     "output_type": "stream",
     "text": [
      "t1 200\n",
      "t3\n"
     ]
    }
   ],
   "source": [
    "krw_rate_url = 'https://kr.investing.com/currencies/usd-krw-historical-data'\n",
    "krw_rate = ['date', 'krw', 'open', 'high', 'low', 'vol', 'krw_cr']\n",
    "pkl_name = 'krw_rate.pkl'\n",
    "df = get_data(krw_rate_url,krw_rate)\n",
    "\n",
    "update_pickle(df, pkl_name)"
   ]
  },
  {
   "cell_type": "markdown",
   "id": "hydraulic-driving",
   "metadata": {},
   "source": [
    "#### get append cpi"
   ]
  },
  {
   "cell_type": "code",
   "execution_count": 31,
   "id": "welcome-bailey",
   "metadata": {},
   "outputs": [],
   "source": [
    "cpi_url = 'https://www.investing.com/economic-calendar/cpi-733'\n",
    "cpi_column = ['date', 'time', 'cpi', 'cpi_anticipated', 'cpi_previous', 'none']\n",
    "pkl_name = 'cpi.pkl'"
   ]
  },
  {
   "cell_type": "code",
   "execution_count": 32,
   "id": "8ab2f267",
   "metadata": {
    "scrolled": true
   },
   "outputs": [],
   "source": [
    "res = scraper.get(cpi_url, headers=headers)\n",
    "# res = requests.get(cpi_url, headers=headers)\n",
    "# df = pd.read_html(res.text, flavor=[\"lxml\", \"bs4\"])[0]\n",
    "df = pd.read_html(io.StringIO(str(res.text)), flavor=[\"lxml\", \"bs4\"])[0]\n",
    "df.columns = cpi_column\n",
    "df['time'] = df['time'].apply(lambda x : datetime.datetime.strptime(x, \"%H:%M\").time())\n",
    "df['date'] = df['date'].apply(lambda x : datetime.datetime.strptime(x[:12], \"%b %d, %Y\"))\n",
    "\n",
    "df = df[['date', 'cpi', 'cpi_anticipated', 'cpi_previous']]\n",
    "\n",
    "try: # convert timestamp to datetime.datetime.date\n",
    "    df['date'] = df['date'].apply(lambda x: datetime.datetime.date(x))\n",
    "except:\n",
    "    pass\n",
    "\n",
    "df.sort_values(by=['date'], inplace=True)\n",
    "\n",
    "update_pickle(df, pkl_name)"
   ]
  },
  {
   "cell_type": "markdown",
   "id": "professional-allergy",
   "metadata": {},
   "source": [
    "#### get append fear and greed\n",
    "##### 2020년 9월 21일부터  2021년 1월 21일까지 데이터는 이상 데이터 로 나중에 수정해야 함."
   ]
  },
  {
   "cell_type": "code",
   "execution_count": 33,
   "id": "affiliated-married",
   "metadata": {},
   "outputs": [],
   "source": [
    "import pytz, json"
   ]
  },
  {
   "cell_type": "code",
   "execution_count": 34,
   "id": "ca7ca824",
   "metadata": {},
   "outputs": [],
   "source": [
    "def convert_timestamp_to_date(x):\n",
    "    dt = datetime.datetime.fromtimestamp(x / 1000, tz=pytz.utc) # UTC에서 변환 불필요.\n",
    "#     tzone = pytz.timezone('US/Eastern')\n",
    "#     tzone = pytz.timezone('Asia/Seoul')\n",
    "#     loc_dt = dt.astimezone(tzone)\n",
    "    loc_dt = dt\n",
    "    return loc_dt.date()"
   ]
  },
  {
   "cell_type": "code",
   "execution_count": 35,
   "id": "d3d5bc60",
   "metadata": {},
   "outputs": [],
   "source": [
    "# 과거 데이터 (fear_greed_old_to_20200918.pkl) 에 rating column을 추가한 내용\n",
    "# 한번만 사용하고 이후 사용하지 않음\n",
    "\n",
    "def convert_to_rating(x):\n",
    "    if x < 25 :\n",
    "        rating = 'extreme fear'\n",
    "    elif x < 45 :\n",
    "        rating = 'fear'\n",
    "    elif x < 55 :\n",
    "        rating = 'neutral'\n",
    "    elif x < 75 :\n",
    "        rating = 'greed'\n",
    "    elif x <= 100 :\n",
    "        rating = 'extreme greed'\n",
    "\n",
    "    return rating"
   ]
  },
  {
   "cell_type": "code",
   "execution_count": 36,
   "id": "suburban-simulation",
   "metadata": {},
   "outputs": [],
   "source": [
    "today = datetime.date.today()\n",
    "today_p = today.strftime('%Y%m%d')\n",
    "diff_days = datetime.timedelta(days=40)\n",
    "today = today - diff_days\n",
    "start_date = today.strftime('%Y-%m-%d')  # 30일전부터 자료 수집"
   ]
  },
  {
   "cell_type": "code",
   "execution_count": 37,
   "id": "nervous-steel",
   "metadata": {},
   "outputs": [],
   "source": [
    "url = \"https://production.dataviz.cnn.io/index/fearandgreed/graphdata\"\n",
    "pkl_name = 'fear_greed.pkl'\n",
    "# start_date = '2020-07-15'"
   ]
  },
  {
   "cell_type": "code",
   "execution_count": 38,
   "id": "ac4c9451",
   "metadata": {},
   "outputs": [],
   "source": [
    "r = requests.get(\"{}/{}\".format(url, start_date), headers=headers)\n",
    "data = r.json()\n",
    "\n",
    "fg_data = data['fear_and_greed_historical']['data']\n",
    "df = pd.DataFrame(fg_data)\n",
    "\n",
    "df.columns = ['date', 'fg_index', 'rating']\n",
    "df['date'] = df['date'].apply(lambda x: convert_timestamp_to_date(x))\n",
    "df['fg_index'] = df['fg_index'].apply(lambda x: round(x))\n",
    "\n",
    "df.sort_values(by=[df.columns[0]], inplace=True)\n",
    "df.index = np.arange(0, len(df))  # 일련 번호 오름차순으로 재 설정\n",
    "df.drop_duplicates(subset=['date'], inplace=True) "
   ]
  },
  {
   "cell_type": "code",
   "execution_count": 39,
   "id": "f020b457",
   "metadata": {},
   "outputs": [],
   "source": [
    "df_o = read_pickle(pkl_name)\n",
    "df_o['date'] = df_o['date'].apply(lambda x : datetime.datetime.strftime(x, \"%Y-%m-%d\"))\n",
    "df_o['date'] = df_o['date'].apply(lambda x : datetime.datetime.strptime(x, \"%Y-%m-%d\"))\n",
    "try:  # convert timestamp to datetime.datetime.date\n",
    "    df_o['date'] = df_o['date'].apply(lambda x: datetime.datetime.date(x))\n",
    "except:\n",
    "    pass\n",
    "\n",
    "df_o = concat_df(df_o, df)\n",
    "\n",
    "# 분석시 제외. 추후 보강 2023년 8월 이후에 추가 할지 결정해야 함.\n",
    "make_pickle(df_o, pkl_name)"
   ]
  },
  {
   "cell_type": "markdown",
   "id": "67a7f19a",
   "metadata": {},
   "source": [
    "#### get and append gold price"
   ]
  },
  {
   "cell_type": "code",
   "execution_count": 40,
   "id": "66d4bcc2",
   "metadata": {},
   "outputs": [],
   "source": [
    "# gold_url = 'https://www.usagold.com/daily-gold-price-history/'\n",
    "# pkl_name = 'gold.pkl'\n",
    "\n",
    "# res = requests.get(gold_url, headers=headers)\n",
    "## df = pd.read_html(res.text, flavor=[\"lxml\", \"bs4\"])\n",
    "# df = pd.read_html(io.StringIO(str(res.text)), flavor=[\"lxml\", \"bs4\"])\n",
    "# df = df[0].drop(0) # delete empty first row\n",
    "# df.columns = ['date', 'gold']\n",
    "# df['date'] = df['date'].apply(lambda x : datetime.datetime.strptime(x, \"%d %b %Y\"))\n",
    "# df.sort_values(by=['date'], inplace=True)\n",
    "# df.drop_duplicates(subset=['date'], inplace=True) \n",
    "\n",
    "# # 분석시 제외. 추후 보강 현재는 빠짐.\n",
    "# update_pickle(df, pkl_name)"
   ]
  },
  {
   "cell_type": "code",
   "execution_count": 41,
   "id": "58bf1f4a",
   "metadata": {},
   "outputs": [],
   "source": [
    "gold = get_ticker_data('GC=F', startdate, enddate, 'gold')\n",
    "make_pickle(gold, 'gold.pkl')\n",
    "\n",
    "# # Gold Apr 23 (GC=F)\n",
    "# df = pdr.get_data_yahoo('GC=F', start=startdate, end=enddate)\n",
    "# df = reformat_df(df, 'gold')\n",
    "# make_pickle(df, 'gold.pkl')"
   ]
  },
  {
   "cell_type": "markdown",
   "id": "c6771fd5",
   "metadata": {},
   "source": [
    "### fed 금리 get append"
   ]
  },
  {
   "cell_type": "code",
   "execution_count": 42,
   "id": "b27dd9b7",
   "metadata": {},
   "outputs": [],
   "source": [
    "interest_url = 'https://www.investing.com/economic-calendar/interest-rate-decision-168/'\n",
    "interest_column = ['date', 'time', 'fed_rate', 'fed_rate_fore', 'fed_rate_prev', 'none']\n",
    "pkl_name = 'fed_rate.pkl'"
   ]
  },
  {
   "cell_type": "code",
   "execution_count": 43,
   "id": "47e24196",
   "metadata": {},
   "outputs": [],
   "source": [
    "res = scraper.get(interest_url, headers=headers)\n",
    "# res = requests.get(interest_url, headers=headers)\n",
    "# df = pd.read_html(res.text, flavor=[\"lxml\", \"bs4\"])[0]\n",
    "df = pd.read_html(io.StringIO(str(res.text)), flavor=[\"lxml\", \"bs4\"])[0]\n",
    "df.columns = interest_column\n",
    "\n",
    "df.replace(np.nan, '', inplace=True)\n",
    "\n",
    "df['date'] = df['date'].apply(lambda x : datetime.datetime.strptime(x[:12], \"%b %d, %Y\"))\n",
    "df['time'] = df['time'].apply(lambda x : datetime.datetime.strptime(x, \"%H:%M\").time())\n",
    "df.sort_values(by=['date'], inplace=True)\n",
    "df.drop_duplicates(subset=['date'], inplace=True) \n",
    "# convert from timestampe to datetime\n",
    "df['date'] = df['date'].apply(lambda x: datetime.datetime.date(x)) "
   ]
  },
  {
   "cell_type": "code",
   "execution_count": 44,
   "id": "f16dd5ff",
   "metadata": {},
   "outputs": [],
   "source": [
    "# 매일매일의 데이터가 없어서 분석시 제외. 추후 보강 현재는 빠짐.\n",
    "update_pickle(df, pkl_name)"
   ]
  },
  {
   "cell_type": "markdown",
   "id": "18ddc5b3",
   "metadata": {},
   "source": [
    "### 한국은행 금리 get append"
   ]
  },
  {
   "cell_type": "code",
   "execution_count": 45,
   "id": "827eed7c",
   "metadata": {},
   "outputs": [],
   "source": [
    "kor_url = 'https://www.bok.or.kr/portal/singl/baseRate/list.do?dataSeCd=01&menuNo=200643'\n",
    "pkl_name = 'bok_rate.pkl'"
   ]
  },
  {
   "cell_type": "code",
   "execution_count": 46,
   "id": "165dd0c2",
   "metadata": {},
   "outputs": [],
   "source": [
    "# res = requests.get(kor_url, headers=headers, verify=certifi.where())\n",
    "res = requests.get(kor_url, headers=headers)\n",
    "df = pd.read_html(io.StringIO(str(res.text)), attrs = {'class': 'fixed'}, flavor=[\"lxml\", \"bs4\"])[0]"
   ]
  },
  {
   "cell_type": "code",
   "execution_count": 47,
   "id": "75736723",
   "metadata": {},
   "outputs": [],
   "source": [
    "df.columns=  ['release_yr', 'release_date', 'bok_rate']\n",
    "df_date_temp = df['release_yr'].astype('str')+df['release_date']\n",
    "df['date'] = df_date_temp.apply(lambda x : datetime.datetime.strptime(x, \"%Y%m월 %d일\"))\n",
    "df.sort_values(by=['date'], inplace=True)\n",
    "df.drop_duplicates(subset=['date'], inplace=True) \n",
    "\n",
    "df = df[['date', 'bok_rate']] # leave only valid columns\n",
    "\n",
    "# convert from timestampe to datetime\n",
    "df['date'] = df['date'].apply(lambda x: datetime.datetime.date(x)) \n",
    "\n",
    "# 매일매일의 데이터가 없어서 분석시 제외. 추후 보강 현재는 빠짐.\n",
    "update_pickle(df, pkl_name)"
   ]
  },
  {
   "cell_type": "markdown",
   "id": "1e0639aa",
   "metadata": {},
   "source": [
    "### US Sector Summary"
   ]
  },
  {
   "cell_type": "code",
   "execution_count": 48,
   "id": "d32b8046",
   "metadata": {},
   "outputs": [],
   "source": [
    "# startdate = datetime.datetime(2021,12,25)\n",
    "# enddate = datetime.datetime(2023,3,23)"
   ]
  },
  {
   "cell_type": "code",
   "execution_count": 49,
   "id": "d69f92bf",
   "metadata": {},
   "outputs": [],
   "source": [
    "# [ticker, shortname, filename]\n",
    "us_sector_list = US_SECTOR_LIST"
   ]
  },
  {
   "cell_type": "code",
   "execution_count": 50,
   "id": "daeb05c1",
   "metadata": {},
   "outputs": [],
   "source": [
    "for sector in us_sector_list:\n",
    "    make_pickle(get_ticker_data(sector[0], startdate, enddate, sector[1]), sector[2])"
   ]
  },
  {
   "cell_type": "markdown",
   "id": "ea11977f",
   "metadata": {},
   "source": [
    "### 여기까지 완료"
   ]
  },
  {
   "cell_type": "code",
   "execution_count": null,
   "id": "73f5d22a",
   "metadata": {},
   "outputs": [],
   "source": [
    "ticker = '^SP500-40'\n",
    "ydata = yf.Ticker(ticker)\n",
    "rdata = ydata.history(period=\"2y\") # 오늘부터 2년치\n",
    "rdata.reset_index('Date', inplace=True)"
   ]
  },
  {
   "cell_type": "code",
   "execution_count": null,
   "id": "5e4ceba0",
   "metadata": {},
   "outputs": [],
   "source": [
    "rdata['Date'] = rdata['Date'].dt.date  # datetime64 to datetime.date()"
   ]
  },
  {
   "cell_type": "code",
   "execution_count": null,
   "id": "571365a7",
   "metadata": {},
   "outputs": [],
   "source": [
    "rdata.info()"
   ]
  },
  {
   "cell_type": "code",
   "execution_count": null,
   "id": "e750870d",
   "metadata": {},
   "outputs": [],
   "source": [
    "rdata.head()"
   ]
  },
  {
   "cell_type": "code",
   "execution_count": null,
   "id": "35d824cc",
   "metadata": {},
   "outputs": [],
   "source": [
    "rdata['Date'] = rdata['Date'].dt.date  # datetime64 to datetime.date()\n",
    "rdata = rdata[(rdata['Date'] <= enddate) & (rdata['Date'] >= startdate)] \n",
    "rdata['temp'] = rdata['Close'].shift(1)\n",
    "val_temp = (rdata['Close'] - rdata['temp'])/rdata['temp']*100\n",
    "rdata[f'{col_name}_cr'] = val_temp.map(\"{:.2f}%\".format)\n",
    "rdata = rdata[['Date', 'Close', 'Open', 'High', 'Low', 'Volume', f'{col_name}_cr']] # 필요한 column만 남김\n",
    "rdata.columns = ['date', f'{col_name}', 'open', 'high', 'low', 'volume', f'{col_name}_cr'] # column이름 통일\n",
    "rdata.reset_index(drop=True, inplace=True) # index번호를 0부터 재정리"
   ]
  },
  {
   "cell_type": "markdown",
   "id": "dbab395b",
   "metadata": {},
   "source": [
    "### 아래는 삭제 예정"
   ]
  },
  {
   "cell_type": "code",
   "execution_count": null,
   "id": "2d3ea894",
   "metadata": {},
   "outputs": [],
   "source": [
    "# # S&P 500 Financials (SPSY), ^SP500-40\n",
    "# # spsy_url = 'https://www.investing.com/indices/s-p-500-financial-historical-data'\n",
    "# spsy = get_ticker_data('^SP500-40', startdate, enddate, 'spsy')\n",
    "# make_pickle(spsy, 'spsy.pkl')\n",
    "\n",
    "# # df = pdr.get_data_yahoo('^SP500-40', start=startdate, end=enddate)\n",
    "# # df = reformat_df(df, 'spsy')\n",
    "# # make_pickle(df, 'spsy.pkl')"
   ]
  },
  {
   "cell_type": "code",
   "execution_count": null,
   "id": "05fdcea0",
   "metadata": {},
   "outputs": [],
   "source": [
    "# # S&P 500 Energy (SPNY), ^GSPE\n",
    "# # spny_url = 'https://www.investing.com/indices/s-p-500-energy-historical-data'\n",
    "# spny = get_ticker_data('^GSPE', startdate, enddate, 'spny')\n",
    "# make_pickle(spny, 'spny.pkl')\n",
    "\n",
    "# # df = pdr.get_data_yahoo('^GSPE', start=startdate, end=enddate)\n",
    "# # df = reformat_df(df, 'spny')\n",
    "# # make_pickle(df, 'spny.pkl')"
   ]
  },
  {
   "cell_type": "code",
   "execution_count": null,
   "id": "edba64e6",
   "metadata": {},
   "outputs": [],
   "source": [
    "# # spxhc_url = 'https://www.investing.com/indices/s-p-500-health-care-historical-data'\n",
    "# # S&P 500 Health Care (SPXHC), ^SP500-35\n",
    "# spxhc = get_ticker_data('^SP500-35', startdate, enddate, 'spxhc')\n",
    "# make_pickle(spxhc, 'spxhc.pkl')\n",
    "\n",
    "# # spxhc = pdr.get_data_yahoo('^SP500-35', start=startdate, end=enddate)\n",
    "# # df = reformat_df(spxhc, 'spxhc')\n",
    "# # make_pickle(df, 'spxhc.pkl')"
   ]
  },
  {
   "cell_type": "code",
   "execution_count": null,
   "id": "f43c7ca4",
   "metadata": {},
   "outputs": [],
   "source": [
    "# # splrcd_url = 'https://www.investing.com/indices/s-p-500-consumer-discretionary-historical-data'\n",
    "# # S&P 500 Consumer Discretionary (SPLRCD), ^SP500-25\n",
    "# splrcd = get_ticker_data('^SP500-25', startdate, enddate, 'splrcd')\n",
    "# make_pickle(splrcd, 'splrcd.pkl')\n",
    "\n",
    "# # splrcd = pdr.get_data_yahoo('^SP500-25', start=startdate, end=enddate)\n",
    "# # df = reformat_df(splrcd, 'splrcd')\n",
    "# # make_pickle(df, 'splrcd.pkl')"
   ]
  },
  {
   "cell_type": "code",
   "execution_count": null,
   "id": "b10d9de2",
   "metadata": {},
   "outputs": [],
   "source": [
    "# # splrci_url = 'https://www.investing.com/indices/s-p-500-industrials-historical-data'\n",
    "# # S&P 500 Industrials (SPLRCI), ^SP500-20\n",
    "# splrci = get_ticker_data('^SP500-20', startdate, enddate, 'splrci')\n",
    "# make_pickle(splrci, 'splrci.pkl')\n",
    "\n",
    "# # splrci = pdr.get_data_yahoo('^SP500-20', start=startdate, end=enddate)\n",
    "# # df = reformat_df(splrci, 'splrci')\n",
    "# # make_pickle(df, 'splrci.pkl')"
   ]
  },
  {
   "cell_type": "code",
   "execution_count": null,
   "id": "896816aa",
   "metadata": {},
   "outputs": [],
   "source": [
    "# # splrcu_url = 'https://www.investing.com/indices/s-p-500-utilities-historical-data'\n",
    "# # S&P 500 Utilities (SPLRCU), ^SP500-55\n",
    "# splrcu = get_ticker_data('^SP500-55', startdate, enddate, 'splrcu')\n",
    "# make_pickle(splrcu, 'splrcu.pkl')\n",
    "\n",
    "# # splrcu = pdr.get_data_yahoo('^SP500-55', start=startdate, end=enddate)\n",
    "# # df = reformat_df(splrcu, 'splrcu')\n",
    "# # make_pickle(df, 'splrcu.pkl')"
   ]
  },
  {
   "cell_type": "code",
   "execution_count": null,
   "id": "8b057482",
   "metadata": {},
   "outputs": [],
   "source": [
    "# # splrcs_url = 'https://www.investing.com/indices/s-p-500-consumer-staples-historical-data'\n",
    "# # S&P 500 Consumer Staples (SPLRCS), ^SP500-30\n",
    "# splrcs = get_ticker_data('^SP500-30', startdate, enddate, 'splrcs')\n",
    "# make_pickle(splrcs, 'splrcs.pkl')\n",
    "\n",
    "# # splrcs = pdr.get_data_yahoo('^SP500-30', start=startdate, end=enddate)\n",
    "# # df = reformat_df(splrcs, 'splrcs')\n",
    "# # make_pickle(df, 'splrcs.pkl')"
   ]
  },
  {
   "cell_type": "code",
   "execution_count": null,
   "id": "9ee39090",
   "metadata": {},
   "outputs": [],
   "source": [
    "# # splrct_url = 'https://www.investing.com/indices/s-p-500-information-technology-historical-data'\n",
    "# # S&P 500 Information Technology (SPLRCT), ^SP500-45\n",
    "# splrct = get_ticker_data('^SP500-45', startdate, enddate, 'splrct')\n",
    "# make_pickle(splrct, 'splrct.pkl')\n",
    "\n",
    "# # splrct = pdr.get_data_yahoo('^SP500-45', start=startdate, end=enddate)\n",
    "# # df = reformat_df(splrct, 'splrct')\n",
    "# # make_pickle(df, 'splrct.pkl')"
   ]
  },
  {
   "cell_type": "code",
   "execution_count": null,
   "id": "f43adf6e",
   "metadata": {},
   "outputs": [],
   "source": [
    "# # splrcl_url = 'https://www.investing.com/indices/s-p-500-telecom-services-historical-data'\n",
    "# # S&P 500 Telecom Services (SPLRCL), ^SP500-50\n",
    "# splrcl = get_ticker_data('^SP500-50', startdate, enddate, 'splrcl')\n",
    "# make_pickle(splrcl, 'splrcl.pkl')\n",
    "\n",
    "# # splrcl = pdr.get_data_yahoo('^SP500-50', start=startdate, end=enddate)\n",
    "# # df = reformat_df(splrcl, 'splrcl')\n",
    "# # make_pickle(df, 'splrcl.pkl')"
   ]
  },
  {
   "cell_type": "code",
   "execution_count": null,
   "id": "f9347df3",
   "metadata": {},
   "outputs": [],
   "source": [
    "# # splrcm_url = 'https://www.investing.com/indices/s-p-500-materials-historical-data'\n",
    "# # S&P 500 Materials (SPLRCM), ^SP500-15\n",
    "# splrcm = get_ticker_data('^SP500-15', startdate, enddate, 'splrcm')\n",
    "# make_pickle(splrcm, 'splrcm.pkl')\n",
    "\n",
    "# # splrcm = pdr.get_data_yahoo('^SP500-15', start=startdate, end=enddate)\n",
    "# # df = reformat_df(splrcm, 'splrcm')\n",
    "# # make_pickle(df, 'splrcm.pkl')"
   ]
  },
  {
   "cell_type": "code",
   "execution_count": null,
   "id": "d9f51910",
   "metadata": {},
   "outputs": [],
   "source": [
    "# # ixbk_url = 'https://www.investing.com/indices/nasdaq-bank-historical-data'\n",
    "# # NASDAQ Bank (IXBK), ^BANK\n",
    "# ixbk = get_ticker_data('^BANK', startdate, enddate, 'ixbk')\n",
    "# make_pickle(ixbk, 'ixbk.pkl')\n",
    "\n",
    "# # ixbk = pdr.get_data_yahoo('^BANK', start=startdate, end=enddate)\n",
    "# # df = reformat_df(ixbk, 'ixbk')\n",
    "# # make_pickle(df, 'ixbk.pkl')"
   ]
  },
  {
   "cell_type": "code",
   "execution_count": null,
   "id": "f95fc0ef",
   "metadata": {},
   "outputs": [],
   "source": [
    "# yahoo에서는 하루만 잡힘. investing.com에서는 자료가 있으나 skip (나중에 보강)\n",
    "# ixf_url = 'https://www.investing.com/indices/nasdaq-financial-100-historical-data'\n",
    "# # NASDAQ Financial 100 (IXF), ^IXF\n",
    "# ixf = pdr.get_data_yahoo('^IXF', start=startdate, end=enddate)\n",
    "# df = reformat_df(ixf, 'ixf')\n",
    "# make_pickle(df, 'ixf.pkl')"
   ]
  },
  {
   "cell_type": "code",
   "execution_count": null,
   "id": "7d081094",
   "metadata": {},
   "outputs": [],
   "source": [
    "# # ixfn_url = 'https://www.investing.com/indices/nasdaq-other-finance-historical-data'\n",
    "# # NASDAQ Other Finance (IXFN), ^OFIN\n",
    "# ixfn = get_ticker_data('^OFIN', startdate, enddate, 'ixfn')\n",
    "# make_pickle(ixfn, 'ixfn.pkl')\n",
    "\n",
    "# # ixfn = pdr.get_data_yahoo('^OFIN', start=startdate, end=enddate)\n",
    "# # df = reformat_df(ixfn, 'ixfn')\n",
    "# # make_pickle(df, 'ixfn.pkl')"
   ]
  },
  {
   "cell_type": "code",
   "execution_count": null,
   "id": "7f1556dc",
   "metadata": {},
   "outputs": [],
   "source": [
    "# # ixid_url = 'https://www.investing.com/indices/nasdaq-industrial-historical-data'\n",
    "# # NASDAQ Industrial (IXID), ^INDS\n",
    "# ixid = get_ticker_data('^INDS', startdate, enddate, 'ixid')\n",
    "# make_pickle(ixid, 'ixid.pkl')\n",
    "\n",
    "# # ixid = pdr.get_data_yahoo('^INDS', start=startdate, end=enddate)\n",
    "# # df = reformat_df(ixid, 'ixid')\n",
    "# # make_pickle(df, 'ixid.pkl')"
   ]
  },
  {
   "cell_type": "code",
   "execution_count": null,
   "id": "2c4ecd90",
   "metadata": {},
   "outputs": [],
   "source": [
    "# # ixis_url = 'https://www.investing.com/indices/nasdaq-insurance-historical-data'\n",
    "# # NASDAQ Insurance (IXIS), ^INSR\n",
    "# ixis = get_ticker_data('^INSR', startdate, enddate, 'ixis')\n",
    "# make_pickle(ixis, 'ixis.pkl')\n",
    "\n",
    "# # ixis = pdr.get_data_yahoo('^INSR', start=startdate, end=enddate)\n",
    "# # df = reformat_df(ixis, 'ixis')\n",
    "# # make_pickle(df, 'ixis.pkl')"
   ]
  },
  {
   "cell_type": "code",
   "execution_count": null,
   "id": "c8583318",
   "metadata": {},
   "outputs": [],
   "source": [
    "# # ixk_url = 'https://www.investing.com/indices/nnasdaq-computer-historical-data'\n",
    "# # NASDAQ Computer (IXK), ^IXCO\n",
    "# ixk = get_ticker_data('^IXCO', startdate, enddate, 'ixk')\n",
    "# make_pickle(ixk, 'ixk.pkl')\n",
    "\n",
    "# # ixk = pdr.get_data_yahoo('^IXCO', start=startdate, end=enddate)\n",
    "# # df = reformat_df(ixk, 'ixk')\n",
    "# # make_pickle(df, 'ixk.pkl')"
   ]
  },
  {
   "cell_type": "code",
   "execution_count": null,
   "id": "75ca249b",
   "metadata": {},
   "outputs": [],
   "source": [
    "# # ixtr_url = 'https://www.investing.com/indices/nasdaq-transportation-historical-data'\n",
    "# # NASDAQ Transportation (IXTR), ^TRAN\n",
    "# ixtr = get_ticker_data('^TRAN', startdate, enddate, 'ixtr')\n",
    "# make_pickle(ixtr, 'ixtr.pkl')\n",
    "\n",
    "# # ixtr = pdr.get_data_yahoo('^TRAN', start=startdate, end=enddate)\n",
    "# # df = reformat_df(ixtr, 'ixtr')\n",
    "# # make_pickle(df, 'ixtr.pkl')"
   ]
  },
  {
   "cell_type": "code",
   "execution_count": null,
   "id": "5397dc4d",
   "metadata": {},
   "outputs": [],
   "source": [
    "# # ixut_url = 'https://www.investing.com/indices/nasdaq-telecommunications-historical-data'\n",
    "# # NASDAQ Telecommunications (IXUT), ^IXTC\n",
    "# ixut = get_ticker_data('^IXTC', startdate, enddate, 'ixut')\n",
    "# make_pickle(ixut, 'ixut.pkl')\n",
    "\n",
    "# # ixut = pdr.get_data_yahoo('^IXTC', start=startdate, end=enddate)\n",
    "# # df = reformat_df(ixut, 'ixut')\n",
    "# # make_pickle(df, 'ixut.pkl')"
   ]
  },
  {
   "cell_type": "code",
   "execution_count": null,
   "id": "29110256",
   "metadata": {},
   "outputs": [],
   "source": [
    "# # nbi_url = 'https://www.investing.com/indices/nasdaq-biotechnology-historical-data'\n",
    "# # NASDAQ Biotechnology (NBI), ^NBI\n",
    "# nbi = get_ticker_data('^NBI', startdate, enddate, 'nbi')\n",
    "# make_pickle(nbi, 'nbi.pkl')\n",
    "\n",
    "# # nbi = pdr.get_data_yahoo('^NBI', start=startdate, end=enddate)\n",
    "# # df = reformat_df(nbi, 'nbi')\n",
    "# # make_pickle(df, 'nbi.pkl')"
   ]
  },
  {
   "cell_type": "code",
   "execution_count": null,
   "id": "9c0fd572",
   "metadata": {},
   "outputs": [],
   "source": [
    "# yahoo에서는 하루만 잡힘. investing.com에서는 자료가 있으나 skip (나중에 보강)\n",
    "# qnet_url = 'https://www.investing.com/indices/nasdaq-internet-historical-data'\n",
    "# # NASDAQ Internet (QNET), ^QNET\n",
    "# qnet = pdr.get_data_yahoo('^QNET', start=startdate, end=enddate)\n",
    "# df = reformat_df(qnet, 'qnet')\n",
    "# make_pickle(df, 'qnet.pkl')"
   ]
  },
  {
   "cell_type": "code",
   "execution_count": null,
   "id": "fad080d3",
   "metadata": {
    "scrolled": true
   },
   "outputs": [],
   "source": [
    "# bkx_url = 'https://www.investing.com/indices/kbw-bank-historical-data'\n",
    "# # KBW NASDAQ Bank (BKX), ^BKX\n",
    "# bkx = get_ticker_data('^BKX', startdate, enddate, 'bkx')\n",
    "# make_pickle(bkx, 'bkx.pkl')\n",
    "\n",
    "# # bkx = pdr.get_data_yahoo('^BKX', start=startdate, end=enddate)\n",
    "# # df = reformat_df(bkx, 'bkx')\n",
    "# # make_pickle(df, 'bkx.pkl')"
   ]
  },
  {
   "cell_type": "code",
   "execution_count": null,
   "id": "dd7125da",
   "metadata": {},
   "outputs": [],
   "source": []
  },
  {
   "cell_type": "code",
   "execution_count": null,
   "id": "3ec7c127",
   "metadata": {},
   "outputs": [],
   "source": []
  }
 ],
 "metadata": {
  "kernelspec": {
   "display_name": "Python 3 (ipykernel)",
   "language": "python",
   "name": "python3"
  },
  "language_info": {
   "codemirror_mode": {
    "name": "ipython",
    "version": 3
   },
   "file_extension": ".py",
   "mimetype": "text/x-python",
   "name": "python",
   "nbconvert_exporter": "python",
   "pygments_lexer": "ipython3",
   "version": "3.12.2"
  }
 },
 "nbformat": 4,
 "nbformat_minor": 5
}
