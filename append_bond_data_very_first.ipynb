{
 "cells": [
  {
   "cell_type": "code",
   "execution_count": 1,
   "id": "8a337fce",
   "metadata": {},
   "outputs": [],
   "source": [
    "import pandas as pd\n",
    "import numpy as np\n",
    "\n",
    "import datetime\n",
    "from datetime import date\n",
    "\n",
    "import os\n",
    "import shutil"
   ]
  },
  {
   "cell_type": "code",
   "execution_count": 2,
   "id": "ef01f0e5",
   "metadata": {},
   "outputs": [],
   "source": [
    "df_org = pd.read_csv('data/{}'.format('data.csv'))\n",
    "df_org['date'] = df_org['date'].apply(lambda x : datetime.datetime.strptime(x, \"%Y-%m-%d\"))\n",
    "df_org.set_index('date', inplace=True)"
   ]
  },
  {
   "cell_type": "code",
   "execution_count": 3,
   "id": "transparent-vienna",
   "metadata": {},
   "outputs": [
    {
     "data": {
      "text/html": [
       "<div>\n",
       "<style scoped>\n",
       "    .dataframe tbody tr th:only-of-type {\n",
       "        vertical-align: middle;\n",
       "    }\n",
       "\n",
       "    .dataframe tbody tr th {\n",
       "        vertical-align: top;\n",
       "    }\n",
       "\n",
       "    .dataframe thead th {\n",
       "        text-align: right;\n",
       "    }\n",
       "</style>\n",
       "<table border=\"1\" class=\"dataframe\">\n",
       "  <thead>\n",
       "    <tr style=\"text-align: right;\">\n",
       "      <th></th>\n",
       "      <th>ixic</th>\n",
       "      <th>ixic_cr</th>\n",
       "      <th>ixic_f</th>\n",
       "      <th>ixic_f_cr</th>\n",
       "      <th>dji</th>\n",
       "      <th>dji_cr</th>\n",
       "      <th>dji_f</th>\n",
       "      <th>dji_f_cr</th>\n",
       "      <th>spx</th>\n",
       "      <th>spx_cr</th>\n",
       "      <th>...</th>\n",
       "      <th>fu_date</th>\n",
       "      <th>op_date</th>\n",
       "      <th>open</th>\n",
       "      <th>high</th>\n",
       "      <th>high_time</th>\n",
       "      <th>low</th>\n",
       "      <th>low_time</th>\n",
       "      <th>close</th>\n",
       "      <th>vol</th>\n",
       "      <th>vol_cr</th>\n",
       "    </tr>\n",
       "    <tr>\n",
       "      <th>date</th>\n",
       "      <th></th>\n",
       "      <th></th>\n",
       "      <th></th>\n",
       "      <th></th>\n",
       "      <th></th>\n",
       "      <th></th>\n",
       "      <th></th>\n",
       "      <th></th>\n",
       "      <th></th>\n",
       "      <th></th>\n",
       "      <th></th>\n",
       "      <th></th>\n",
       "      <th></th>\n",
       "      <th></th>\n",
       "      <th></th>\n",
       "      <th></th>\n",
       "      <th></th>\n",
       "      <th></th>\n",
       "      <th></th>\n",
       "      <th></th>\n",
       "      <th></th>\n",
       "    </tr>\n",
       "  </thead>\n",
       "  <tbody>\n",
       "    <tr>\n",
       "      <th>2022-01-01</th>\n",
       "      <td>NaN</td>\n",
       "      <td>NaN</td>\n",
       "      <td>NaN</td>\n",
       "      <td>NaN</td>\n",
       "      <td>NaN</td>\n",
       "      <td>NaN</td>\n",
       "      <td>NaN</td>\n",
       "      <td>NaN</td>\n",
       "      <td>NaN</td>\n",
       "      <td>NaN</td>\n",
       "      <td>...</td>\n",
       "      <td>NaN</td>\n",
       "      <td>NaN</td>\n",
       "      <td>NaN</td>\n",
       "      <td>NaN</td>\n",
       "      <td>NaN</td>\n",
       "      <td>NaN</td>\n",
       "      <td>NaN</td>\n",
       "      <td>NaN</td>\n",
       "      <td>NaN</td>\n",
       "      <td>NaN</td>\n",
       "    </tr>\n",
       "  </tbody>\n",
       "</table>\n",
       "<p>1 rows × 77 columns</p>\n",
       "</div>"
      ],
      "text/plain": [
       "           ixic ixic_cr ixic_f ixic_f_cr  dji dji_cr dji_f dji_f_cr  spx  \\\n",
       "date                                                                       \n",
       "2022-01-01  NaN     NaN    NaN       NaN  NaN    NaN   NaN      NaN  NaN   \n",
       "\n",
       "           spx_cr  ... fu_date op_date open high high_time low  low_time  \\\n",
       "date               ...                                                     \n",
       "2022-01-01    NaN  ...     NaN     NaN  NaN  NaN       NaN NaN       NaN   \n",
       "\n",
       "           close  vol vol_cr  \n",
       "date                          \n",
       "2022-01-01   NaN  NaN    NaN  \n",
       "\n",
       "[1 rows x 77 columns]"
      ]
     },
     "execution_count": 3,
     "metadata": {},
     "output_type": "execute_result"
    }
   ],
   "source": [
    "df_org.head(1)"
   ]
  },
  {
   "cell_type": "code",
   "execution_count": 4,
   "id": "naval-water",
   "metadata": {},
   "outputs": [],
   "source": [
    "df = pd.read_csv('data/bonds/{}'.format('dd1_us_bond_10yr_20220531.csv'))\n",
    "df.columns = ['date', 'bond_usa_10', 'open', 'high', 'low', 'bond_usa_10_cr']\n",
    "df['date'] = df['date'].apply(lambda x : datetime.datetime.strptime(x, \"%Y년 %m월 %d일\"))\n",
    "# df의 index를 모두 'date'로 설정\n",
    "df_select = df[['date', 'bond_usa_10', 'bond_usa_10_cr']]\n",
    "df_select.set_index('date', inplace=True)\n",
    "\n",
    "df_org.update(df_select) # usa bond 10 before 22020531"
   ]
  },
  {
   "cell_type": "code",
   "execution_count": 5,
   "id": "deadly-contrary",
   "metadata": {},
   "outputs": [],
   "source": [
    "df = pd.read_csv('data/bonds/{}'.format('dd2_us_bond_2yr_20220531.csv'))\n",
    "df.columns = ['date', 'bond_usa_2', 'open', 'high', 'low', 'bond_usa_2_cr']\n",
    "df['date'] = df['date'].apply(lambda x : datetime.datetime.strptime(x, \"%Y년 %m월 %d일\"))\n",
    "# df의 index를 모두 'date'로 설정\n",
    "df_select = df[['date', 'bond_usa_2', 'bond_usa_2_cr']]\n",
    "df_select.set_index('date', inplace=True)\n",
    "\n",
    "df_org.update(df_select) # done usa bond 2 before 22020531"
   ]
  },
  {
   "cell_type": "code",
   "execution_count": 6,
   "id": "unable-viking",
   "metadata": {},
   "outputs": [],
   "source": [
    "df = pd.read_csv('data/bonds/{}'.format('dd3_us_bond_3mon_20220531.csv'))\n",
    "df.columns = ['date', 'bond_usa_3m', 'open', 'high', 'low', 'bond_usa_3m_cr']\n",
    "df['date'] = df['date'].apply(lambda x : datetime.datetime.strptime(x, \"%Y년 %m월 %d일\"))\n",
    "# df의 index를 모두 'date'로 설정\n",
    "df_select = df[['date', 'bond_usa_3m', 'bond_usa_3m_cr']]\n",
    "df_select.set_index('date', inplace=True)\n",
    "\n",
    "df_org.update(df_select) # done usa bond 3m before 22020531"
   ]
  },
  {
   "cell_type": "code",
   "execution_count": 7,
   "id": "parallel-internet",
   "metadata": {},
   "outputs": [],
   "source": [
    "df = pd.read_csv('data/bonds/{}'.format('dd4_kor_bond_10yr_20220531.csv'))\n",
    "df.columns = ['date', 'bond_kor_10', 'open', 'high', 'low', 'bond_kor_10_cr']\n",
    "df['date'] = df['date'].apply(lambda x : datetime.datetime.strptime(x, \"%Y년 %m월 %d일\"))\n",
    "# df의 index를 모두 'date'로 설정\n",
    "df_select = df[['date', 'bond_kor_10', 'bond_kor_10_cr']]\n",
    "df_select.set_index('date', inplace=True)\n",
    "\n",
    "df_org.update(df_select) # done kor bond 10 before 22020531"
   ]
  },
  {
   "cell_type": "code",
   "execution_count": 8,
   "id": "sunrise-basics",
   "metadata": {},
   "outputs": [],
   "source": [
    "df = pd.read_csv('data/bonds/{}'.format('dd5_kor_bond_2yr_20220531.csv'))\n",
    "df.columns = ['date', 'bond_kor_2', 'open', 'high', 'low','bond_kor_2_cr']\n",
    "df['date'] = df['date'].apply(lambda x : datetime.datetime.strptime(x, \"%Y년 %m월 %d일\"))\n",
    "# df의 index를 모두 'date'로 설정\n",
    "df_select = df[['date', 'bond_kor_2', 'bond_kor_2_cr']]\n",
    "df_select.set_index('date', inplace=True)\n",
    "\n",
    "df_org.update(df_select) # done kor bond 2 before 22020531"
   ]
  },
  {
   "cell_type": "code",
   "execution_count": 9,
   "id": "tired-quick",
   "metadata": {},
   "outputs": [],
   "source": [
    "df_org.reset_index(inplace=True)\n",
    "df_org.to_csv('data/data.csv', index=False)"
   ]
  },
  {
   "cell_type": "code",
   "execution_count": null,
   "id": "7d8382b6",
   "metadata": {},
   "outputs": [],
   "source": []
  }
 ],
 "metadata": {
  "kernelspec": {
   "display_name": "Python 3",
   "language": "python",
   "name": "python3"
  },
  "language_info": {
   "codemirror_mode": {
    "name": "ipython",
    "version": 3
   },
   "file_extension": ".py",
   "mimetype": "text/x-python",
   "name": "python",
   "nbconvert_exporter": "python",
   "pygments_lexer": "ipython3",
   "version": "3.9.1"
  }
 },
 "nbformat": 4,
 "nbformat_minor": 5
}
