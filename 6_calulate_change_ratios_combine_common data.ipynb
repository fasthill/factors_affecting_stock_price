{
 "cells": [
  {
   "cell_type": "markdown",
   "id": "459ff0ca",
   "metadata": {},
   "source": [
    "## calculate change ratios and combine common data"
   ]
  },
  {
   "cell_type": "markdown",
   "id": "b8f84533",
   "metadata": {},
   "source": [
    "### feature(주요 common data) 항목 변화율 계산하고 합치기-- 하루전과 이틀전의 데이터와 비교"
   ]
  },
  {
   "cell_type": "code",
   "execution_count": 1,
   "id": "6844babf",
   "metadata": {},
   "outputs": [],
   "source": [
    "import datetime, time\n",
    "from datetime import date\n",
    "\n",
    "import pandas as pd\n",
    "import numpy as np"
   ]
  },
  {
   "cell_type": "code",
   "execution_count": 2,
   "id": "5927659c",
   "metadata": {},
   "outputs": [],
   "source": [
    "# 개장일(date)과 이전 개장일(date_p1), 이전이전 개장일(date_p2)을 dict로 구성\n",
    "base_data_directory = './data/base_data/stock_market_holydays/'\n",
    "opening_days_kor = pd.read_pickle(base_data_directory+'opening_days_kor.pkl') # 한국 개장일 데이터 \n",
    "opening_days_usa = pd.read_pickle(base_data_directory+'opening_days_usa.pkl') # 미국 개장일 데이터 "
   ]
  },
  {
   "cell_type": "code",
   "execution_count": 3,
   "id": "187ec9c3",
   "metadata": {},
   "outputs": [],
   "source": [
    "# 매일 변화가 있는 항목 추출; 금리변동과 같이 주기적을 발생하는 항목들(cpi, bok_rate, fed_rate 등)은 제외\n",
    "common_pkl = [ \"dji.pkl\", \"dji_future.pkl\", \"dxy_future.pkl\", \n",
    "               \"ixic_future.pkl\", \"kor_10yr_bond.pkl\",\n",
    "              \"kor_2yr_bond.pkl\", \"kosdaq.pkl\", \"kospi.pkl\", \"krw_rate.pkl\", \"nas.pkl\",\n",
    "              \"snp_future.pkl\", \"sox.pkl\", \"spx.pkl\", \"us_10yr_bond.pkl\", \"us_2yr_bond.pkl\",\n",
    "              \"us_3mon_bond.pkl\", \"vix.pkl\", \"wti_future.pkl\",\n",
    "              'spsy.pkl', 'spny.pkl', 'spxhc.pkl', 'splrcd.pkl', 'splrci.pkl', 'splrcu.pkl', 'splrcs.pkl', \n",
    "              'splrct.pkl', 'splrcl.pkl', 'splrcm.pkl', 'ixbk.pkl', 'ixfn.pkl', 'ixid.pkl', 'ixis.pkl', \n",
    "              'ixk.pkl', 'ixtr.pkl', 'ixut.pkl', 'nbi.pkl', 'bkx.pkl' \n",
    "             ]\n",
    "common_pkl_usa = [ \"dji.pkl\", \"dji_future.pkl\", \"dxy_future.pkl\", \n",
    "                  \"ixic_future.pkl\", \"nas.pkl\", \"snp_future.pkl\", \"sox.pkl\", \"spx.pkl\", \n",
    "                  \"us_10yr_bond.pkl\", \"us_2yr_bond.pkl\", \"us_3mon_bond.pkl\", \"vix.pkl\", \"wti_future.pkl\",\n",
    "                  'spsy.pkl', 'spny.pkl', 'spxhc.pkl', 'splrcd.pkl', 'splrci.pkl', 'splrcu.pkl', 'splrcs.pkl', \n",
    "                  'splrct.pkl', 'splrcl.pkl', 'splrcm.pkl', 'ixbk.pkl', 'ixfn.pkl', 'ixid.pkl', 'ixis.pkl', \n",
    "                  'ixk.pkl', 'ixtr.pkl', 'ixut.pkl', 'nbi.pkl', 'bkx.pkl' \n",
    "             ]\n",
    "common_pkl_kor = [ \"kor_10yr_bond.pkl\", \"kor_2yr_bond.pkl\", \"kosdaq.pkl\", \"kospi.pkl\", \"krw_rate.pkl\", \n",
    "             ]\n",
    "# common_pkl = [ \"dji.pkl\" ]"
   ]
  },
  {
   "cell_type": "code",
   "execution_count": 4,
   "id": "0581e2c0",
   "metadata": {},
   "outputs": [],
   "source": [
    "# dict로 만들어 pkl내에 있는 df의 column 이름과 매칭시키기 위하여 구성\n",
    "common_col_name = {'dji.pkl':'dji', 'dji_future.pkl':'dji_f', 'dxy_future.pkl':'dxy', \n",
    "                   'ixic_future.pkl':'ixic_f', 'kor_10yr_bond.pkl':'bond_kor_10',\n",
    "                   'kor_2yr_bond.pkl':'bond_kor_2', 'kosdaq.pkl':'kosdaq', 'kospi.pkl':'kospi',\n",
    "                   'krw_rate.pkl':'krw', 'nas.pkl':'ixic', 'snp_future.pkl':'spx_f',\n",
    "                   'sox.pkl':'sox', 'spx.pkl':'spx', 'us_10yr_bond.pkl':'bond_usa_10',\n",
    "                   'us_2yr_bond.pkl':'bond_usa_2', 'us_3mon_bond.pkl':'bond_usa_3m',\n",
    "                   'vix.pkl':'vix', 'wti_future.pkl':'wti',\n",
    "                   'spsy.pkl':'spsy', 'spny.pkl':'spny', 'spxhc.pkl':'spxhc', 'splrcd.pkl':'splrcd', \n",
    "                   'splrci.pkl':'splrci', 'splrcu.pkl':'splrcu', 'splrcs.pkl':'splrcs', \n",
    "                   'splrct.pkl':'splrct', 'splrcl.pkl':'splrcl', 'splrcm.pkl':'splrcm', \n",
    "                   'ixbk.pkl':'ixbk', 'ixfn.pkl':'ixfn', 'ixid.pkl':'ixid', 'ixis.pkl':'ixis', \n",
    "                   'ixk.pkl':'ixk', 'ixtr.pkl':'ixtr', 'ixut.pkl':'ixut', 'nbi.pkl':'nbi', 'bkx.pkl':'bkx'\n",
    "                   }"
   ]
  },
  {
   "cell_type": "code",
   "execution_count": 5,
   "id": "efab094d",
   "metadata": {},
   "outputs": [],
   "source": [
    "directory_for_predict = './data/data_for_ml/predict/'\n",
    "pkl_common_directory = './data/common_pkl/'\n",
    "pkl_directory = './data/common_pkl/'"
   ]
  },
  {
   "cell_type": "code",
   "execution_count": 6,
   "id": "e2cbb6d8",
   "metadata": {},
   "outputs": [],
   "source": [
    "# 주요 지표를 한개의 df로 구성 (휴장일과 개장일이 틀리기 때문에 한국, 미국 각각 구성해야 함)\n",
    "# _common : 공통으로 사용되는 지표를 의미\n",
    "def get_common_base(opening_days_common, pkl_list):\n",
    "    df_base = pd.DataFrame(pd.Series(opening_days_common, name='date')).set_index('date')\n",
    "    date_compare = pd.DataFrame(pd.Series(opening_days_common, name='date'))\n",
    "    date_compare['date_p'] = date_compare['date'].shift(1)\n",
    "    \n",
    "    date_compare.columns = ['date_c', 'date_p'] #거래일과 바로 이전 거래일\n",
    "    c_p_dict = date_compare.set_index('date_c').to_dict()['date_p'] # date_c로 date_p 찾기\n",
    "    p_c_dict = date_compare.set_index('date_p').to_dict()['date_c'] # date_p로 date_c 찾기\n",
    "    \n",
    "    for index_name in pkl_list:\n",
    "        key_name = index_name[:-4]\n",
    "        col_name = common_col_name[index_name]\n",
    "        df_temp = pd.read_pickle(pkl_common_directory + index_name)\n",
    "#         df_temp['date'] = df_temp['date'].dt.date # date type으로 변환\n",
    "        df_temp['temp'] = df_temp[col_name].shift(2)  # 거래일과 이전(-1) 이전(-1) 거래일 데이터와 비교하기 위하여 -2 shift\n",
    "        df_temp[f'{col_name}_cr_2'] = (df_temp[col_name] - df_temp['temp'])/df_temp['temp']*100 # 이전 거래일 데이터는 \"_cr\"\n",
    "        df_new = df_temp[df_temp['date'].isin(date_compare['date_p'])] # 이전 거래일과 비교날짜가 있는 row만 선택\n",
    "        # 예: 2023-04-10('date_c'), 2023-04-07('date_p') 일 경우, 2023년 4월 7일 데이터는 2023년 4월 10일 row에 작성해야 함.\n",
    "        # 위 예와 같이 하기 위해 'date_p'에 있는 date로만 df재구성(df_new)\n",
    "\n",
    "        add_c= df_new['date'].apply(lambda x : p_c_dict[x])  # 하루전 날짜와 매칭한 column 생성 (add_c)\n",
    "        # 예: 2023년 4월 7일 데이터는 2023년 4월 10일 row에 기입\n",
    "        df_new.insert(len(df_new.columns)-1, 'date_c', value=add_c)  #SettingWithCopyWarning: error 회피\n",
    "        df_new.set_index('date_c', inplace=True)\n",
    "\n",
    "        df_base = df_base.merge(df_new.iloc[:, [-3, -1]], \\\n",
    "                                how='left', left_index=True, right_index=True)\n",
    "    return df_base"
   ]
  },
  {
   "cell_type": "code",
   "execution_count": 7,
   "id": "47d85c68",
   "metadata": {},
   "outputs": [],
   "source": [
    "# ***미국 주식 분석용 시작 일자, 마지막 일자  지정 ***********\n",
    "# ** 한국 공통(kospi 등) 자료는 한국 개장일에 맞춰 분석해야 함.\n",
    "pkl_name= 'dji.pkl'\n",
    "df_temp = pd.read_pickle(pkl_directory + pkl_name)\n",
    "\n",
    "dji = df_temp['dji'].iloc[-1]\n",
    "opening_days_common = list(df_temp['date'])\n",
    "\n",
    "# 오늘 날짜(분석날짜) 추가 필요(미국, 한국 포함)\n",
    "\n",
    "if dji == None :\n",
    "    opening_days_common = list(df_temp['date'][:-1])\n",
    "    \n",
    "# 마지막 기록일자 index 찾고 다음 개장일 추가하기 (예측을 원하는 날)\n",
    "l_date = opening_days_common[-1]\n",
    "lp1_index = list(opening_days_usa).index(l_date) + 1 # 현재 개장일 이후에 오는 개장일 날짜 index (+1 index)\n",
    "opening_days_common.append(list(opening_days_usa)[lp1_index])"
   ]
  },
  {
   "cell_type": "code",
   "execution_count": 8,
   "id": "d6be1b80",
   "metadata": {},
   "outputs": [],
   "source": [
    "# 미국 common data df\n",
    "df_usa = get_common_base(opening_days_common, common_pkl_usa)"
   ]
  },
  {
   "cell_type": "code",
   "execution_count": 9,
   "id": "17b0ddd8",
   "metadata": {},
   "outputs": [],
   "source": [
    "# *****한국 주식 시작 일자, 마지막 일자  지정 ***********\n",
    "pkl_name= 'kospi.pkl'\n",
    "df_temp = pd.read_pickle(pkl_directory + pkl_name)\n",
    "\n",
    "kospi = df_temp['kospi'].iloc[-1]\n",
    "opening_days_common = list(df_temp['date'])\n",
    "\n",
    "if kospi == None :\n",
    "    opening_days_common = list(df_temp['date'][:-1])\n",
    "    \n",
    "# 마지막 기록일자 index 찾고 다음 개장일 추가하기 (예측을 원하는 날)\n",
    "l_date = opening_days_common[-1]\n",
    "lp1_index = list(opening_days_kor).index(l_date) + 1 # 현재 개장일 이후에 오는 개장일 날짜 index (+1 index)\n",
    "opening_days_common.append(list(opening_days_kor)[lp1_index])"
   ]
  },
  {
   "cell_type": "code",
   "execution_count": 10,
   "id": "4dd9a4be",
   "metadata": {},
   "outputs": [],
   "source": [
    "# 한국 common data df\n",
    "df_kor = get_common_base(opening_days_common, common_pkl_kor)"
   ]
  },
  {
   "cell_type": "code",
   "execution_count": 11,
   "id": "40bf0e46",
   "metadata": {},
   "outputs": [],
   "source": [
    "df_all = df_usa.merge(df_kor, how='left', left_index=True, right_index=True)"
   ]
  },
  {
   "cell_type": "code",
   "execution_count": 12,
   "id": "7e8af735",
   "metadata": {},
   "outputs": [],
   "source": [
    "df_all"
   ]
  },
  {
   "cell_type": "code",
   "execution_count": 13,
   "id": "84b4a879",
   "metadata": {},
   "outputs": [],
   "source": [
    "# write common analysis data\n",
    "globals()['df_all'].to_pickle(directory_for_predict + '0_df_common.pkl')\n",
    "globals()['df_all'].to_csv(directory_for_predict + '0_df_common.csv')"
   ]
  },
  {
   "cell_type": "code",
   "execution_count": null,
   "id": "8e8b285b",
   "metadata": {},
   "outputs": [],
   "source": []
  }
 ],
 "metadata": {
  "kernelspec": {
   "display_name": "Python 3 (ipykernel)",
   "language": "python",
   "name": "python3"
  },
  "language_info": {
   "codemirror_mode": {
    "name": "ipython",
    "version": 3
   },
   "file_extension": ".py",
   "mimetype": "text/x-python",
   "name": "python",
   "nbconvert_exporter": "python",
   "pygments_lexer": "ipython3",
   "version": "3.9.1"
  }
 },
 "nbformat": 4,
 "nbformat_minor": 5
}
