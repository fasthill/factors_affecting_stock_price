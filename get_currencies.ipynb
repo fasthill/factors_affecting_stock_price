{
 "cells": [
  {
   "cell_type": "code",
   "execution_count": 1,
   "id": "matched-interview",
   "metadata": {},
   "outputs": [],
   "source": [
    "from bs4 import BeautifulSoup as bs\n",
    "import requests\n",
    "import datetime, time\n",
    "from datetime import date\n",
    "\n",
    "import pandas as pd\n",
    "import numpy as np"
   ]
  },
  {
   "cell_type": "code",
   "execution_count": 2,
   "id": "fd7c61ba",
   "metadata": {},
   "outputs": [],
   "source": [
    "krw_rate_url = 'https://kr.investing.com/currencies/usd-krw-historical-data'\n",
    "\n",
    "urls = [krw_rate_url]"
   ]
  },
  {
   "cell_type": "code",
   "execution_count": 3,
   "id": "selective-ireland",
   "metadata": {},
   "outputs": [],
   "source": [
    "headers = {'User-Agent': 'Mozilla/5.0 (Macintosh; Intel Mac OS X 10_11_5) \\\n",
    "           AppleWebKit/537.36 (KHTML, like Gecko) Chrome/50.0.2661.102 Safari/537.36'}"
   ]
  },
  {
   "cell_type": "code",
   "execution_count": 4,
   "id": "mechanical-bachelor",
   "metadata": {},
   "outputs": [],
   "source": [
    "column_eng = ['date', 'price', 'open', 'high', 'low', 'change(%)']\n",
    "column_kor = ['날짜', '종가', '시가', '고가', '저가', '변동(%)']"
   ]
  },
  {
   "cell_type": "code",
   "execution_count": 5,
   "id": "waiting-playlist",
   "metadata": {},
   "outputs": [],
   "source": [
    "f_name = ['krw_rate' ]\n",
    "dir_name = 'data/currencies/'\n",
    "start_ix = 'cc'"
   ]
  },
  {
   "cell_type": "code",
   "execution_count": 6,
   "id": "furnished-writing",
   "metadata": {},
   "outputs": [],
   "source": [
    "today = datetime.date.today()\n",
    "today = today.strftime('%Y%m%d')"
   ]
  },
  {
   "cell_type": "code",
   "execution_count": 7,
   "id": "apparent-february",
   "metadata": {},
   "outputs": [],
   "source": [
    "for i, url in enumerate(urls):\n",
    "    res = requests.get(url, headers=headers)\n",
    "    df = pd.read_html(res.text, attrs={\"id\": \"curr_table\"}, flavor=[\"lxml\", \"bs4\"])[0]\n",
    "    df.columns = column_eng\n",
    "    df['date'] = df['date'].apply(lambda x : datetime.datetime.strptime(x, \"%Y년 %m월 %d일\"))\n",
    "    filename = '{}{}{}_{}_{}.csv'.format(dir_name, start_ix,i+1,f_name[i], today)\n",
    "    df.to_csv(filename, index=False)"
   ]
  },
  {
   "cell_type": "code",
   "execution_count": null,
   "id": "worse-swedish",
   "metadata": {},
   "outputs": [],
   "source": []
  }
 ],
 "metadata": {
  "kernelspec": {
   "display_name": "Python 3 (ipykernel)",
   "language": "python",
   "name": "python3"
  },
  "language_info": {
   "codemirror_mode": {
    "name": "ipython",
    "version": 3
   },
   "file_extension": ".py",
   "mimetype": "text/x-python",
   "name": "python",
   "nbconvert_exporter": "python",
   "pygments_lexer": "ipython3",
   "version": "3.9.1"
  }
 },
 "nbformat": 4,
 "nbformat_minor": 5
}
