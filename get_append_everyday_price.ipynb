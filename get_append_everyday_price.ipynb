{
 "cells": [
  {
   "cell_type": "code",
   "execution_count": null,
   "id": "c4660474",
   "metadata": {},
   "outputs": [],
   "source": [
    "from bs4 import BeautifulSoup as bs\n",
    "import datetime, time\n",
    "from datetime import date\n",
    "\n",
    "import pandas as pd\n",
    "import numpy as np"
   ]
  },
  {
   "cell_type": "code",
   "execution_count": null,
   "id": "6e5789a5",
   "metadata": {},
   "outputs": [],
   "source": [
    "# 삼성전자 005930, 현대차 005830, 네이버 035420, KT&G 033780, \n",
    "company_code = {'sec': '005930', 'hyunmotor': '005830', 'naver': '035420', 'ktng': '033780'}\n",
    "# company_code = {'sec': '005930'}"
   ]
  },
  {
   "cell_type": "code",
   "execution_count": null,
   "id": "ae0b7ef1",
   "metadata": {},
   "outputs": [],
   "source": [
    "column_name = ['date', 'close', 'change', 'close_cr', 'open', 'high', 'low', 'vol']\n",
    "# column_name = ['일자', '종가', '전일비', '등락률', '시가', '고가', '저가', '거래량']"
   ]
  },
  {
   "cell_type": "code",
   "execution_count": null,
   "id": "e91592ac",
   "metadata": {},
   "outputs": [],
   "source": [
    "for key, val in company_code.items():\n",
    "    filename = 'data/{}_{}.csv'.format('data', key)\n",
    "    df_company = pd.read_csv(filename)\n",
    "    df_company['date'] = df_company['date'].apply(lambda x : datetime.datetime.strptime(x, \"%Y-%m-%d\"))\n",
    "    df_company.set_index('date', inplace=True)\n",
    "    \n",
    "    url = '{}{}'.format('https://vip.mk.co.kr/newSt/price/daily.php?stCode=',val)\n",
    "    df = pd.read_html(url, attrs={\"class\": \"table_3\"}, flavor=[\"lxml\", \"bs4\"])[0]\n",
    "    df.columns = column_name # replace with english column name\n",
    "    df['date'] = df['date'].apply(lambda x : datetime.datetime.strptime(x, \"%y/%m/%d\"))\n",
    "    df_select = df[['date', 'open', 'high', 'low', 'close', 'close_cr', 'vol']]\n",
    "    df_select.set_index('date', inplace=True)\n",
    "#     df_company.update(df_select, overwrite=False)\n",
    "    df_company.update(df_select)\n",
    "    df_company.reset_index(inplace=True)\n",
    "    df_company.to_csv(filename, index=False)"
   ]
  },
  {
   "cell_type": "markdown",
   "id": "unexpected-girlfriend",
   "metadata": {},
   "source": [
    "https://finance.naver.com/item/frgn.naver?code=005930&page=2 투자주체별 매매동향\n",
    "https://finance.daum.net/quotes/A005930#influential_investors/home \n",
    "\n",
    "https://finance.daum.net/quotes/A005930#current/quote 매일 주가"
   ]
  },
  {
   "cell_type": "code",
   "execution_count": null,
   "id": "0b0a10b3",
   "metadata": {},
   "outputs": [],
   "source": []
  }
 ],
 "metadata": {
  "kernelspec": {
   "display_name": "Python 3",
   "language": "python",
   "name": "python3"
  },
  "language_info": {
   "codemirror_mode": {
    "name": "ipython",
    "version": 3
   },
   "file_extension": ".py",
   "mimetype": "text/x-python",
   "name": "python",
   "nbconvert_exporter": "python",
   "pygments_lexer": "ipython3",
   "version": "3.9.1"
  }
 },
 "nbformat": 4,
 "nbformat_minor": 5
}
