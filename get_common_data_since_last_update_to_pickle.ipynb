{
 "cells": [
  {
   "cell_type": "markdown",
   "id": "25b184a9",
   "metadata": {},
   "source": [
    "#### 지표 UPDATE \n",
    "   - 주요 주식시장 지수 : spx, dji, ixix, kospi, kosdaq\n",
    "   - 반도체지수, VIX 지수: sox, vix\n",
    "   - 미국 채권 지수, 한국 채권 지수\n",
    "   - 원화 환율\n",
    "   - 선물 : 미국 3대 지수, wti, 달러지수 선물"
   ]
  },
  {
   "cell_type": "code",
   "execution_count": 1,
   "id": "matched-interview",
   "metadata": {},
   "outputs": [],
   "source": [
    "# from bs4 import BeautifulSoup as bs\n",
    "import requests\n",
    "import datetime, time\n",
    "import pickle\n",
    "\n",
    "import pandas as pd\n",
    "import numpy as np\n",
    "\n",
    "import os\n",
    "import shutil\n",
    "\n",
    "import matplotlib.pyplot as plt"
   ]
  },
  {
   "cell_type": "code",
   "execution_count": 2,
   "id": "08943027",
   "metadata": {},
   "outputs": [],
   "source": [
    "# !pip install cfscrape # 403 forbidden, cloudflare error을 해결하기 위한 모듈\n",
    "import cfscrape\n",
    "scraper = cfscrape.create_scraper()\n",
    "# 이후 403 error이 발생한 곳에는 requests 대신 scraper 사용"
   ]
  },
  {
   "cell_type": "code",
   "execution_count": 3,
   "id": "selective-ireland",
   "metadata": {},
   "outputs": [],
   "source": [
    "headers = {'User-Agent': 'Mozilla/6.0 (Macintosh; Intel Mac OS X 10_11_5) \\\n",
    "           AppleWebKit/537.36 (KHTML, like Gecko) Chrome/50.0.2661.102 Safari/537.36'}"
   ]
  },
  {
   "cell_type": "code",
   "execution_count": 4,
   "id": "bf9d944e",
   "metadata": {},
   "outputs": [],
   "source": [
    "def correct_date_format(df):\n",
    "# 시간, 미국, 한국 접속사이트에 따라 attribute 가 변경되서 나타나기 때문에 error  처리를 위해 try 사용\n",
    "    try:\n",
    "        df['date'] = df['date'].apply(lambda x : datetime.datetime.strptime(x, \"%b %d, %Y\"))\n",
    "    except:\n",
    "        try:\n",
    "            df['date'] = df['date'].apply(lambda x : datetime.datetime.strptime(x, \"%m/%d/%Y\"))\n",
    "        except:\n",
    "            try:\n",
    "                df['date'] = df['date'].apply(lambda x : datetime.datetime.strptime(x, \"%Y- %m- %d\"))\n",
    "            except:\n",
    "                df['date'] = df['date'].apply(lambda x : datetime.datetime.strptime(x, \"%Y년 %m월 %d일\"))\n",
    "    \n",
    "    return df"
   ]
  },
  {
   "cell_type": "code",
   "execution_count": 5,
   "id": "8ee71f2d",
   "metadata": {},
   "outputs": [],
   "source": [
    "def create_directory(directory):\n",
    "    try:\n",
    "        if not os.path.exists(directory):\n",
    "            os.makedirs(directory)\n",
    "    except OSError:\n",
    "        print(\"Error: Failed to create the directory.\")"
   ]
  },
  {
   "cell_type": "code",
   "execution_count": 6,
   "id": "466bcfc1",
   "metadata": {},
   "outputs": [],
   "source": [
    "def make_pickle(df, pkl_name):\n",
    "    pkl_directory = 'data/common_pkl/'\n",
    "    try:\n",
    "        if not os.path.exists(pkl_directory):\n",
    "            os.makedirs(pkl_directory)\n",
    "    except OSError:\n",
    "        print(\"Error: Failed to create the directory.\")\n",
    "\n",
    "    # 데이터 저장: ../data/spx.pkl\n",
    "    df.to_pickle(pkl_directory+pkl_name)\n",
    "    df.to_csv(pkl_directory+pkl_name.replace('pkl','csv'))"
   ]
  },
  {
   "cell_type": "code",
   "execution_count": 7,
   "id": "904330d4",
   "metadata": {},
   "outputs": [],
   "source": [
    "def read_pickle(pkl_name):\n",
    "# 데이터 로드\n",
    "    pkl_directory = 'data/common_pkl/'\n",
    "    df = pd.read_pickle(pkl_directory+pkl_name)\n",
    "    \n",
    "    return df"
   ]
  },
  {
   "cell_type": "code",
   "execution_count": 8,
   "id": "c1e62780",
   "metadata": {},
   "outputs": [],
   "source": [
    "def get_data(url, column):\n",
    "           \n",
    "    count = 0\n",
    "    while True:\n",
    "        try :\n",
    "            res = scraper.get(url, headers=headers)\n",
    "            df = pd.read_html(res.text, attrs={\"id\": \"curr_table\"}, flavor=[\"lxml\", \"bs4\"])[0]\n",
    "            break\n",
    "        except:\n",
    "            res = scraper.get(url, headers=headers)\n",
    "            df = pd.read_html(res.text, attrs={\"data-test\": \"historical-data-table\"}, flavor=[\"lxml\", \"bs4\"])[0]\n",
    "            break\n",
    "        finally:\n",
    "            time.sleep(1)\n",
    "            count += 1\n",
    "            if count > 5 :\n",
    "                raise ValueError('The url request is delaying')\n",
    "                break           \n",
    "\n",
    "    df.columns = column\n",
    "    correct_date_format(df)\n",
    "    df.sort_values(by=[df.columns[0]], inplace=True)\n",
    "    df.index = np.arange(0, len(df))  # 일련 번호 오름차순으로 재 설정\n",
    "\n",
    "    return df"
   ]
  },
  {
   "cell_type": "code",
   "execution_count": 9,
   "id": "24a455de",
   "metadata": {},
   "outputs": [],
   "source": [
    "def concat_df(df_o, df):\n",
    "    df_o = pd.concat([df_o, df], ignore_index=True)\n",
    "    df_o.drop_duplicates(subset=['date'], keep='last', inplace=True)\n",
    "#     df_o.drop_duplicates(subset=['date'], keep='first', inplace=True)\n",
    "    df_o.sort_values(by=[df_o.columns[0]], inplace=True)\n",
    "    df_o.index = np.arange(0, len(df_o))  # 일련 번호 오름차순으로 재 설정\n",
    "    return df_o"
   ]
  },
  {
   "cell_type": "code",
   "execution_count": 10,
   "id": "a9731a5a",
   "metadata": {},
   "outputs": [],
   "source": [
    "def update_pickle(df, pkl_name):\n",
    "    df_o = read_pickle(pkl_name)\n",
    "    df_o = concat_df(df_o, df)\n",
    "    \n",
    "    make_pickle(df_o, pkl_name)"
   ]
  },
  {
   "cell_type": "code",
   "execution_count": 11,
   "id": "5ca633db",
   "metadata": {},
   "outputs": [],
   "source": [
    "spx_url = 'https://kr.investing.com/indices/us-spx-500-historical-data'\n",
    "spx = ['date', 'spx', 'open', 'high', 'low', 'volume', 'spx_cr']\n",
    "pkl_name = 'spx.pkl'\n",
    "df = get_data(spx_url,spx)\n",
    "\n",
    "update_pickle(df, pkl_name)"
   ]
  },
  {
   "cell_type": "code",
   "execution_count": 12,
   "id": "bf726137",
   "metadata": {},
   "outputs": [],
   "source": [
    "dji_url = 'https://kr.investing.com/indices/us-30-historical-data'\n",
    "dji = ['date', 'dji', 'open', 'high', 'low', 'volume', 'dji_cr']\n",
    "pkl_name = 'dji.pkl'\n",
    "df = get_data(dji_url,dji)\n",
    "\n",
    "update_pickle(df, pkl_name)"
   ]
  },
  {
   "cell_type": "code",
   "execution_count": 13,
   "id": "7dd4093f",
   "metadata": {},
   "outputs": [],
   "source": [
    "nas_url = 'https://kr.investing.com/indices/nasdaq-composite-historical-data'\n",
    "ixic = ['date', 'ixic', 'open', 'high', 'low', 'volume', 'ixic_cr']\n",
    "pkl_name = 'nas.pkl'\n",
    "df = get_data(nas_url,ixic)\n",
    "\n",
    "update_pickle(df, pkl_name)"
   ]
  },
  {
   "cell_type": "code",
   "execution_count": 14,
   "id": "0a4cbeea",
   "metadata": {},
   "outputs": [],
   "source": [
    "kospi_url = 'https://kr.investing.com/indices/kospi-historical-data'\n",
    "kospi = ['date', 'kospi', 'open', 'high', 'low', 'volume', 'kospi_cr']\n",
    "pkl_name = 'kospi.pkl'\n",
    "df = get_data(kospi_url,kospi)\n",
    "\n",
    "update_pickle(df, pkl_name)"
   ]
  },
  {
   "cell_type": "code",
   "execution_count": 15,
   "id": "17151444",
   "metadata": {},
   "outputs": [],
   "source": [
    "kosdaq_url = 'https://kr.investing.com/indices/kosdaq-historical-data'\n",
    "kosdaq = ['date', 'kosdaq', 'open', 'high', 'low', 'volume', 'kosdaq_cr']\n",
    "pkl_name = 'kosdaq.pkl'\n",
    "df = get_data(kosdaq_url,kosdaq)\n",
    "\n",
    "update_pickle(df, pkl_name)"
   ]
  },
  {
   "cell_type": "code",
   "execution_count": 16,
   "id": "508b3bb4",
   "metadata": {},
   "outputs": [],
   "source": [
    "sox_url = 'https://kr.investing.com/indices/phlx-semiconductor-historical-data'\n",
    "sox = ['date', 'sox', 'open', 'high', 'low', 'volume', 'sox_cr']\n",
    "pkl_name = 'sox.pkl'\n",
    "df = get_data(sox_url,sox)\n",
    "\n",
    "update_pickle(df, pkl_name)"
   ]
  },
  {
   "cell_type": "code",
   "execution_count": 17,
   "id": "221ac32b",
   "metadata": {},
   "outputs": [],
   "source": [
    "vix_url = 'https://kr.investing.com/indices/volatility-s-p-500-historical-data'\n",
    "vix = ['date', 'vix', 'open', 'high', 'low', 'volume', 'vix_cr']\n",
    "pkl_name = 'vix.pkl'\n",
    "df = get_data(vix_url,vix)\n",
    "\n",
    "update_pickle(df, pkl_name)"
   ]
  },
  {
   "cell_type": "code",
   "execution_count": 18,
   "id": "07798d54",
   "metadata": {},
   "outputs": [],
   "source": [
    "us_bond_10yr_url = 'https://kr.investing.com/rates-bonds/u.s.-10-year-bond-yield-historical-data'\n",
    "us_10yr = ['date', 'bond_usa_10', 'open', 'high', 'low', 'bond_usa_10_cr']\n",
    "pkl_name = 'us_10yr_bond.pkl'\n",
    "df = get_data(us_bond_10yr_url,us_10yr)\n",
    "\n",
    "update_pickle(df, pkl_name)"
   ]
  },
  {
   "cell_type": "code",
   "execution_count": 19,
   "id": "3187700d",
   "metadata": {},
   "outputs": [],
   "source": [
    "us_bond_2yr_url = 'https://kr.investing.com/rates-bonds/u.s.-2-year-bond-yield-historical-data'\n",
    "us_2yr = ['date', 'bond_usa_2', 'open', 'high', 'low', 'bond_usa_2_cr']\n",
    "pkl_name = 'us_2yr_bond.pkl'\n",
    "df = get_data(us_bond_2yr_url,us_2yr)\n",
    "\n",
    "update_pickle(df, pkl_name)"
   ]
  },
  {
   "cell_type": "code",
   "execution_count": 20,
   "id": "20cdc167",
   "metadata": {},
   "outputs": [],
   "source": [
    "us_bond_3mon_url = 'https://kr.investing.com/rates-bonds/u.s.-3-month-bond-yield-historical-data'\n",
    "us_3mon = ['date', 'bond_usa_3m', 'open', 'high', 'low', 'bond_usa_3m_cr']\n",
    "pkl_name = 'us_3mon_bond.pkl'\n",
    "df = get_data(us_bond_3mon_url,us_3mon)\n",
    "\n",
    "update_pickle(df, pkl_name)"
   ]
  },
  {
   "cell_type": "code",
   "execution_count": 21,
   "id": "c75a2f53",
   "metadata": {},
   "outputs": [],
   "source": [
    "kor_bond_10yr_url = 'https://kr.investing.com/rates-bonds/south-korea-10-year-bond-yield-historical-data'\n",
    "kor_10yr = ['date', 'bond_kor_10', 'open', 'high', 'low', 'bond_kor_10_cr']\n",
    "pkl_name = 'kor_10yr_bond.pkl'\n",
    "df = get_data(kor_bond_10yr_url,kor_10yr)\n",
    "\n",
    "update_pickle(df, pkl_name)"
   ]
  },
  {
   "cell_type": "code",
   "execution_count": 22,
   "id": "5bc71d44",
   "metadata": {},
   "outputs": [],
   "source": [
    "kor_bond_2yr_url = 'https://kr.investing.com/rates-bonds/south-korea-2-year-bond-yield-historical-data'\n",
    "kor_2yr = ['date', 'bond_kor_2', 'open', 'high', 'low','bond_kor_2_cr']\n",
    "pkl_name = 'kor_2yr_bond.pkl'\n",
    "df = get_data(kor_bond_2yr_url,kor_2yr)\n",
    "\n",
    "update_pickle(df, pkl_name)"
   ]
  },
  {
   "cell_type": "code",
   "execution_count": 23,
   "id": "357b604f",
   "metadata": {},
   "outputs": [],
   "source": [
    "krw_rate_url = 'https://kr.investing.com/currencies/usd-krw-historical-data'\n",
    "krw_rate = ['date', 'krw', 'open', 'high', 'low', 'vol', 'krw_cr']\n",
    "pkl_name = 'krw_rate.pkl'\n",
    "df = get_data(krw_rate_url,krw_rate)\n",
    "\n",
    "update_pickle(df, pkl_name)"
   ]
  },
  {
   "cell_type": "code",
   "execution_count": 24,
   "id": "eed685d3",
   "metadata": {},
   "outputs": [],
   "source": [
    "nas_futures_url = 'https://kr.investing.com/indices/nq-100-futures-historical-data'\n",
    "ixic_future = ['date', 'ixic_f', 'open', 'high', 'low', 'volume', 'ixic_f_cr']\n",
    "pkl_name = 'ixic_future.pkl'\n",
    "df = get_data(nas_futures_url,ixic_future)\n",
    "\n",
    "update_pickle(df, pkl_name)"
   ]
  },
  {
   "cell_type": "code",
   "execution_count": 25,
   "id": "42722d49",
   "metadata": {},
   "outputs": [],
   "source": [
    "snp_futures_url = 'https://kr.investing.com/indices/us-spx-500-futures-historical-data'\n",
    "snp_future = ['date', 'spx_f', 'open', 'high', 'low', 'volume', 'spx_f_cr']\n",
    "pkl_name = 'snp_future.pkl'\n",
    "df = get_data(snp_futures_url,snp_future)\n",
    "\n",
    "update_pickle(df, pkl_name)"
   ]
  },
  {
   "cell_type": "code",
   "execution_count": 26,
   "id": "c6f5d15e",
   "metadata": {},
   "outputs": [],
   "source": [
    "dow_futures_url = 'https://kr.investing.com/indices/us-30-futures-historical-data'\n",
    "dji_future = ['date', 'dji_f', 'open', 'high', 'low', 'volume', 'dji_f_cr']\n",
    "pkl_name = 'dji_future.pkl'\n",
    "df = get_data(dow_futures_url,dji_future)\n",
    "\n",
    "update_pickle(df, pkl_name)"
   ]
  },
  {
   "cell_type": "code",
   "execution_count": 27,
   "id": "63175c75",
   "metadata": {},
   "outputs": [],
   "source": [
    "wti_futures_url = 'https://kr.investing.com/commodities/crude-oil-historical-data'\n",
    "wti_future = ['date', 'wti', 'open', 'high', 'low', 'volume', 'wti_cr']\n",
    "pkl_name = 'wti_future.pkl'\n",
    "df = get_data(wti_futures_url,wti_future)\n",
    "\n",
    "update_pickle(df, pkl_name)"
   ]
  },
  {
   "cell_type": "code",
   "execution_count": 28,
   "id": "346e59d3",
   "metadata": {},
   "outputs": [],
   "source": [
    "dollar_index_url = 'https://kr.investing.com/currencies/us-dollar-index-historical-data'\n",
    "dxy_future = ['date', 'dxy', 'open', 'high', 'low', 'volume', 'dxy_cr']\n",
    "pkl_name = 'dxy_future.pkl'\n",
    "df = get_data(dollar_index_url,dxy_future)\n",
    "\n",
    "update_pickle(df, pkl_name)"
   ]
  },
  {
   "cell_type": "code",
   "execution_count": 29,
   "id": "constant-street",
   "metadata": {},
   "outputs": [],
   "source": [
    "# def make_datetime_series_df(df, start_date, end_date):\n",
    "#     # make dataframe with no empty date index with input df.\n",
    "#     # start_date =  '2021-01-01' str type.\n",
    "#     # df.index = datetime series\n",
    "#     # df.columns = ['a', 'b',,,,]\n",
    "#     date_range_ts = pd.date_range(start=start_date, end=end_date)\n",
    "#     df_date = pd.DataFrame(columns = df.columns)\n",
    "#     df_date.insert(0, 'date', date_range_ts)\n",
    "#     df_date.replace(np.nan, '', inplace=True) # Nan을 빈 칸으로 대체\n",
    "#     df_date.set_index('date', inplace=True)\n",
    "#     df_date.update(df)\n",
    "#     return df_date"
   ]
  },
  {
   "cell_type": "markdown",
   "id": "hydraulic-driving",
   "metadata": {},
   "source": [
    "#### get append cpi"
   ]
  },
  {
   "cell_type": "code",
   "execution_count": 30,
   "id": "welcome-bailey",
   "metadata": {},
   "outputs": [],
   "source": [
    "cpi_url = 'https://www.investing.com/economic-calendar/cpi-733'\n",
    "cpi_column = ['date', 'time', 'cpi', 'cpi_anticipated', 'cpi_previous', 'none']\n",
    "pkl_name = 'cpi.pkl'"
   ]
  },
  {
   "cell_type": "code",
   "execution_count": 31,
   "id": "8ab2f267",
   "metadata": {},
   "outputs": [],
   "source": [
    "res = scraper.get(cpi_url, headers=headers)\n",
    "df = pd.read_html(res.text, flavor=[\"lxml\", \"bs4\"])[0]\n",
    "df.columns = cpi_column\n",
    "df['time'] = df['time'].apply(lambda x : datetime.datetime.strptime(x, \"%H:%M\").time())\n",
    "df['date'] = df['date'].apply(lambda x : datetime.datetime.strptime(x[:12], \"%b %d, %Y\"))\n",
    "\n",
    "df = df[['date', 'cpi', 'cpi_anticipated', 'cpi_previous']]\n",
    "\n",
    "df.sort_values(by=['date'], inplace=True)\n",
    "\n",
    "update_pickle(df, pkl_name)"
   ]
  },
  {
   "cell_type": "markdown",
   "id": "professional-allergy",
   "metadata": {},
   "source": [
    "#### get append fear and greed\n",
    "##### 2020년 9월 21일부터  2021년 1월 21일까지 데이터는 이상 데이터 로 나중에 수정해야 함."
   ]
  },
  {
   "cell_type": "code",
   "execution_count": 32,
   "id": "affiliated-married",
   "metadata": {},
   "outputs": [],
   "source": [
    "import pytz, json"
   ]
  },
  {
   "cell_type": "code",
   "execution_count": 33,
   "id": "ca7ca824",
   "metadata": {},
   "outputs": [],
   "source": [
    "def convert_timestamp_to_date(x):\n",
    "    dt = datetime.datetime.fromtimestamp(x / 1000, tz=pytz.utc) # UTC에서 변환 불필요.\n",
    "#     tzone = pytz.timezone('US/Eastern')\n",
    "#     tzone = pytz.timezone('Asia/Seoul')\n",
    "#     loc_dt = dt.astimezone(tzone)\n",
    "    loc_dt = dt\n",
    "    return loc_dt.date()"
   ]
  },
  {
   "cell_type": "code",
   "execution_count": 34,
   "id": "d3d5bc60",
   "metadata": {},
   "outputs": [],
   "source": [
    "# 과거 데이터 (fear_greed_old_to_20200918.pkl) 에 rating column을 추가한 내용\n",
    "# 한번만 사용하고 이후 사용하지 않음\n",
    "\n",
    "def convert_to_rating(x):\n",
    "    if x < 25 :\n",
    "        rating = 'extreme fear'\n",
    "    elif x < 45 :\n",
    "        rating = 'fear'\n",
    "    elif x < 55 :\n",
    "        rating = 'neutral'\n",
    "    elif x < 75 :\n",
    "        rating = 'greed'\n",
    "    elif x <= 100 :\n",
    "        rating = 'extreme greed'\n",
    "\n",
    "    return rating"
   ]
  },
  {
   "cell_type": "code",
   "execution_count": 35,
   "id": "suburban-simulation",
   "metadata": {},
   "outputs": [],
   "source": [
    "today = datetime.date.today()\n",
    "today_p = today.strftime('%Y%m%d')\n",
    "diff_days = datetime.timedelta(days=30)\n",
    "today = today - diff_days\n",
    "start_date = today.strftime('%Y-%m-%d')  # 30일전부터 자료 수집"
   ]
  },
  {
   "cell_type": "code",
   "execution_count": 36,
   "id": "nervous-steel",
   "metadata": {},
   "outputs": [],
   "source": [
    "url = \"https://production.dataviz.cnn.io/index/fearandgreed/graphdata\"\n",
    "pkl_name = 'fear_greed.pkl'\n",
    "# start_date = '2020-07-15'"
   ]
  },
  {
   "cell_type": "code",
   "execution_count": 37,
   "id": "ac4c9451",
   "metadata": {},
   "outputs": [],
   "source": [
    "r = requests.get(\"{}/{}\".format(url, start_date), headers=headers)\n",
    "data = r.json()\n",
    "\n",
    "fg_data = data['fear_and_greed_historical']['data']\n",
    "df = pd.DataFrame(fg_data)\n",
    "\n",
    "df.columns = ['date', 'fg_index', 'rating']\n",
    "df['date'] = df['date'].apply(lambda x: convert_timestamp_to_date(x))\n",
    "df['fg_index'] = df['fg_index'].apply(lambda x: round(x))\n",
    "\n",
    "df.sort_values(by=[df.columns[0]], inplace=True)\n",
    "df.index = np.arange(0, len(df))  # 일련 번호 오름차순으로 재 설정\n",
    "df.drop_duplicates(subset=['date'], inplace=True) "
   ]
  },
  {
   "cell_type": "code",
   "execution_count": 38,
   "id": "4a355bcd",
   "metadata": {},
   "outputs": [
    {
     "name": "stderr",
     "output_type": "stream",
     "text": [
      "C:\\Users\\Public\\Documents\\ESTsoft\\CreatorTemp\\ipykernel_12624\\3932562270.py:3: FutureWarning: Comparison of Timestamp with datetime.date is deprecated in order to match the standard library behavior. In a future version these will be considered non-comparable. Use 'ts == pd.Timestamp(date)' or 'ts.date() == date' instead.\n",
      "  df_o.drop_duplicates(subset=['date'], keep='last', inplace=True)\n",
      "C:\\Users\\Public\\Documents\\ESTsoft\\CreatorTemp\\ipykernel_12624\\3932562270.py:5: FutureWarning: Comparison of Timestamp with datetime.date is deprecated in order to match the standard library behavior. In a future version these will be considered non-comparable. Use 'ts == pd.Timestamp(date)' or 'ts.date() == date' instead.\n",
      "  df_o.sort_values(by=[df_o.columns[0]], inplace=True)\n"
     ]
    }
   ],
   "source": [
    "update_pickle(df, pkl_name)"
   ]
  },
  {
   "cell_type": "markdown",
   "id": "67a7f19a",
   "metadata": {},
   "source": [
    "#### get and append gold price"
   ]
  },
  {
   "cell_type": "code",
   "execution_count": 39,
   "id": "66d4bcc2",
   "metadata": {},
   "outputs": [],
   "source": [
    "gold_url = 'https://www.usagold.com/daily-gold-price-history/'\n",
    "pkl_name = 'gold.pkl'"
   ]
  },
  {
   "cell_type": "code",
   "execution_count": 40,
   "id": "2b7ebda2",
   "metadata": {},
   "outputs": [],
   "source": [
    "res = requests.get(gold_url, headers=headers)\n",
    "df = pd.read_html(res.text, flavor=[\"lxml\", \"bs4\"])\n",
    "df = df[0].drop(0) # delete empty first row\n",
    "df.columns = ['date', 'gold']\n",
    "df['date'] = df['date'].apply(lambda x : datetime.datetime.strptime(x, \"%d %b %Y\"))\n",
    "df.sort_values(by=['date'], inplace=True)\n",
    "df.drop_duplicates(subset=['date'], inplace=True) "
   ]
  },
  {
   "cell_type": "code",
   "execution_count": 41,
   "id": "81a33515",
   "metadata": {},
   "outputs": [],
   "source": [
    "update_pickle(df, pkl_name)"
   ]
  },
  {
   "cell_type": "markdown",
   "id": "c6771fd5",
   "metadata": {},
   "source": [
    "### fed 금리 get append"
   ]
  },
  {
   "cell_type": "code",
   "execution_count": 42,
   "id": "b27dd9b7",
   "metadata": {},
   "outputs": [],
   "source": [
    "interest_url = 'https://www.investing.com/economic-calendar/interest-rate-decision-168/'\n",
    "interest_column = ['date', 'time', 'fed_rate', 'fed_rate_fore', 'fed_rate_prev', 'none']\n",
    "pkl_name = 'fed_rate.pkl'"
   ]
  },
  {
   "cell_type": "code",
   "execution_count": 43,
   "id": "47e24196",
   "metadata": {},
   "outputs": [],
   "source": [
    "res = scraper.get(interest_url, headers=headers)\n",
    "df = pd.read_html(res.text, flavor=[\"lxml\", \"bs4\"])[0]\n",
    "df.columns = interest_column\n",
    "\n",
    "df.replace(np.nan, '', inplace=True)\n",
    "\n",
    "df['date'] = df['date'].apply(lambda x : datetime.datetime.strptime(x[:12], \"%b %d, %Y\"))\n",
    "df['time'] = df['time'].apply(lambda x : datetime.datetime.strptime(x, \"%H:%M\").time())\n",
    "df.sort_values(by=['date'], inplace=True)\n",
    "df.drop_duplicates(subset=['date'], inplace=True) "
   ]
  },
  {
   "cell_type": "code",
   "execution_count": 44,
   "id": "f16dd5ff",
   "metadata": {},
   "outputs": [],
   "source": [
    "update_pickle(df, pkl_name)"
   ]
  },
  {
   "cell_type": "markdown",
   "id": "18ddc5b3",
   "metadata": {},
   "source": [
    "### 한국은행 금리 get append"
   ]
  },
  {
   "cell_type": "code",
   "execution_count": 45,
   "id": "827eed7c",
   "metadata": {},
   "outputs": [],
   "source": [
    "kor_url = 'https://www.bok.or.kr/portal/singl/baseRate/list.do?dataSeCd=01&menuNo=200643'\n",
    "pkl_name = 'bok_rate.pkl'"
   ]
  },
  {
   "cell_type": "code",
   "execution_count": 46,
   "id": "165dd0c2",
   "metadata": {},
   "outputs": [],
   "source": [
    "res = requests.get(kor_url, headers=headers)\n",
    "df = pd.read_html(res.text, attrs = {'class': 'fixed'}, flavor=[\"lxml\", \"bs4\"])[0]"
   ]
  },
  {
   "cell_type": "code",
   "execution_count": 47,
   "id": "75736723",
   "metadata": {},
   "outputs": [],
   "source": [
    "df.columns=  ['release_yr', 'release_date', 'bok_rate']\n",
    "df_date_temp = df['release_yr'].astype('str')+df['release_date']\n",
    "df['date'] = df_date_temp.apply(lambda x : datetime.datetime.strptime(x, \"%Y%m월 %d일\"))\n",
    "df.sort_values(by=['date'], inplace=True)\n",
    "df.drop_duplicates(subset=['date'], inplace=True) \n",
    "\n",
    "df = df[['date', 'bok_rate']] # leave only valid columns\n",
    "\n",
    "update_pickle(df, pkl_name)"
   ]
  },
  {
   "cell_type": "code",
   "execution_count": null,
   "id": "f529c3ac",
   "metadata": {},
   "outputs": [],
   "source": []
  },
  {
   "cell_type": "code",
   "execution_count": null,
   "id": "7bdadd06",
   "metadata": {},
   "outputs": [],
   "source": []
  }
 ],
 "metadata": {
  "kernelspec": {
   "display_name": "Python 3 (ipykernel)",
   "language": "python",
   "name": "python3"
  },
  "language_info": {
   "codemirror_mode": {
    "name": "ipython",
    "version": 3
   },
   "file_extension": ".py",
   "mimetype": "text/x-python",
   "name": "python",
   "nbconvert_exporter": "python",
   "pygments_lexer": "ipython3",
   "version": "3.9.1"
  }
 },
 "nbformat": 4,
 "nbformat_minor": 5
}
