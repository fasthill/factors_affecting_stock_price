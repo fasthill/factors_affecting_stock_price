{
 "cells": [
  {
   "cell_type": "markdown",
   "id": "atlantic-congress",
   "metadata": {},
   "source": [
    "### 최초 한번 실행 과거 데이터 추출용"
   ]
  },
  {
   "cell_type": "code",
   "execution_count": 3,
   "id": "b6071c61",
   "metadata": {},
   "outputs": [],
   "source": [
    "from selenium import webdriver as wd\n",
    "from bs4 import BeautifulSoup as bs\n",
    "\n",
    "from selenium.webdriver.chrome.options import Options\n",
    "from selenium.webdriver.common.keys import Keys\n",
    "from selenium.webdriver.common.by import By\n",
    "import datetime, time\n",
    "\n",
    "import chromedriver_autoinstaller\n",
    "\n",
    "import pandas as pd\n",
    "import numpy as np\n",
    "\n",
    "import subprocess\n",
    "import shutil\n",
    "import pyperclip\n",
    "\n",
    "import requests\n",
    "import os, sys"
   ]
  },
  {
   "cell_type": "code",
   "execution_count": 4,
   "id": "56b90a6f",
   "metadata": {},
   "outputs": [],
   "source": [
    "try:\n",
    "    shutil.rmtree(r\"c:\\chrometemp\")  #쿠키 / 캐쉬파일 삭제. 정보를 지울 필요가 없으면 이부분은 그냥 skip\n",
    "except FileNotFoundError:\n",
    "    pass"
   ]
  },
  {
   "cell_type": "code",
   "execution_count": 5,
   "id": "ec15a172",
   "metadata": {},
   "outputs": [],
   "source": [
    "try:\n",
    "    subprocess.Popen(r'C:\\Program Files\\Google\\Chrome\\Application\\chrome.exe --remote-debugging-port=9222 --user-data-dir=\"C:\\chrometemp1\"')  # 디버거 크롬 구동\n",
    "except:\n",
    "    subprocess.Popen(r'C:\\Program Files (x86)\\Google\\Chrome\\Application\\chrome.exe --remote-debugging-port=9222 --user-data-dir=\"C:\\chrometemp1\"')  # 디버거 크롬 구동\n",
    "# 위 두개의 위치중 한 곳에 chrome이 설치되어 있음."
   ]
  },
  {
   "cell_type": "code",
   "execution_count": 6,
   "id": "4c2baafd",
   "metadata": {},
   "outputs": [],
   "source": [
    "option = Options()\n",
    "option.add_experimental_option(\"debuggerAddress\", \"127.0.0.1:9222\") # 포트 설정. 그냥 복붙하면 됨."
   ]
  },
  {
   "cell_type": "code",
   "execution_count": 7,
   "id": "76d92555",
   "metadata": {},
   "outputs": [],
   "source": [
    "chrome_ver = chromedriver_autoinstaller.get_chrome_version().split('.')[0]\n",
    "try:\n",
    "    driver = wd.Chrome(f'./{chrome_ver}/chromedriver.exe', options=option)\n",
    "except:\n",
    "    chromedriver_autoinstaller.install(True)\n",
    "    driver = wd.Chrome(f'./{chrome_ver}/chromedriver.exe', options=option)\n",
    "driver.implicitly_wait(20)"
   ]
  },
  {
   "cell_type": "code",
   "execution_count": 8,
   "id": "29e69d53",
   "metadata": {},
   "outputs": [],
   "source": [
    "# driver.set_window_position(-10000,0) # hide windows\n",
    "main_url = 'https://kr.investing.com/'\n",
    "driver.get(main_url)\n",
    "time.sleep(1)"
   ]
  },
  {
   "cell_type": "code",
   "execution_count": 9,
   "id": "agreed-roulette",
   "metadata": {},
   "outputs": [],
   "source": [
    "try: # pop up 창이 뜨는 것을 확인\n",
    "    element = driver.find_element_by_id('PromoteSignUpPopUp')\n",
    "    driver.find_element_by_css_selector('#PromoteSignUpPopUp > div.right > i').send_keys(Keys.ENTER)\n",
    "    time.sleep(1)\n",
    "    \n",
    "except:\n",
    "    pass"
   ]
  },
  {
   "cell_type": "code",
   "execution_count": 10,
   "id": "49e9ae39",
   "metadata": {},
   "outputs": [],
   "source": [
    "try: # 이미 로그인이 되어 있으면 skip\n",
    "    driver.find_element_by_css_selector('#userAccount > div > a.login.bold').click() \n",
    "    time.sleep(1)\n",
    "    \n",
    "    id = 'kangeun@naver.com'\n",
    "    pyperclip.copy(id) # control+c 기능 수행\n",
    "    driver.find_element_by_id('loginFormUser_email').clear()\n",
    "    driver.find_element_by_id('loginFormUser_email').send_keys(Keys.CONTROL + 'v')\n",
    "    time.sleep(1)\n",
    "    \n",
    "    pw = os.environ['investing_pass']\n",
    "    pyperclip.copy(pw) # control+c 기능 수행\n",
    "    driver.find_element_by_id('loginForm_password').clear()\n",
    "    driver.find_element_by_id('loginForm_password').send_keys(Keys.CONTROL + 'v')\n",
    "    time.sleep(1)  \n",
    "    \n",
    "    driver.find_element_by_css_selector('#signup > a.newButton.orange').click()  \n",
    "    time.sleep(2)\n",
    "    \n",
    "except:\n",
    "    pass"
   ]
  },
  {
   "cell_type": "code",
   "execution_count": 11,
   "id": "9c0864ce",
   "metadata": {},
   "outputs": [],
   "source": [
    "# # driver.find_element(By.ID, 'widgetFieldDateRange').send_keys(Keys.ENTER)\n",
    "# # Message: element not interactable error발생시 강제로 javascript로 click해주어야 함.\n",
    "# element = driver.find_element(By.ID, 'widgetFieldDateRange')  \n",
    "# driver.execute_script(\"arguments[0].click();\", element)"
   ]
  },
  {
   "cell_type": "code",
   "execution_count": 12,
   "id": "f3f795b8",
   "metadata": {},
   "outputs": [],
   "source": [
    "spx_url = 'https://kr.investing.com/indices/us-spx-500-historical-data'\n",
    "dji_url = 'https://kr.investing.com/indices/us-30-historical-data'\n",
    "nas_url = 'https://kr.investing.com/indices/nasdaq-composite-historical-data'\n",
    "kospi_url = 'https://kr.investing.com/indices/kospi-historical-data'\n",
    "kosdaq_url = 'https://kr.investing.com/indices/kosdaq-historical-data'\n",
    "sox_url = 'https://kr.investing.com/indices/phlx-semiconductor-historical-data'\n",
    "# cpi_url = 'https://kr.investing.com/economic-calendar/cpi-733'\n",
    "vix_url = 'https://kr.investing.com/indices/volatility-s-p-500-historical-data'\n",
    "\n",
    "urls_major_index = [spx_url, dji_url, nas_url, kospi_url, kosdaq_url, sox_url, vix_url]\n",
    "\n",
    "\n",
    "spx = ['date', 'spx', 'open', 'high', 'low', 'volume', 'spx_cr']\n",
    "dji = ['date', 'dji', 'open', 'high', 'low', 'volume', 'dji_cr']\n",
    "ixix = ['date', 'ixic', 'open', 'high', 'low', 'volume', 'ixic_cr']\n",
    "kospi = ['date', 'kospi', 'open', 'high', 'low', 'volume', 'kospi_cr']\n",
    "kosdaq = ['date', 'kosdaq', 'open', 'high', 'low', 'volume', 'kosdaq_cr']\n",
    "sox = ['date', 'sox', 'open', 'high', 'low', 'volume', 'sox_cr']\n",
    "# cpi = ['date', 'time', 'cpi', 'cpi_anticipated', 'cpi_previous', 'none']\n",
    "# fng = ['date', 'n1', 'n2', 'n3', 'f_g_index']\n",
    "vix = ['date', 'vix', 'open', 'high', 'low', 'volume', 'vix_cr']\n",
    "\n",
    "col_names_major_index = [spx, dji, ixix, kospi, kosdaq, sox, vix ]\n",
    "\n",
    "spx_s = ['date', 'spx', 'spx_cr']\n",
    "dji_s = ['date', 'dji', 'dji_cr']\n",
    "ixic_s = ['date', 'ixic', 'ixic_cr']\n",
    "kospi_s = ['date', 'kospi', 'kospi_cr']\n",
    "kosdaq_s = ['date', 'kosdaq', 'kosdaq_cr']\n",
    "sox_s = ['date', 'sox', 'sox_cr']\n",
    "# cpi_s = ['date', 'cpi', 'cpi_anticipated', 'cpi_previous']\n",
    "# fng_s = ['date', 'f_g_index']\n",
    "vix_s = ['date', 'vix', 'vix_cr']\n",
    "\n",
    "col_names_s_major_index = [spx_s, dji_s, ixic_s, kospi_s, kosdaq_s, sox_s, vix_s]"
   ]
  },
  {
   "cell_type": "code",
   "execution_count": 13,
   "id": "e4d9dd03",
   "metadata": {},
   "outputs": [],
   "source": [
    "us_bond_10yr_url = 'https://kr.investing.com/rates-bonds/u.s.-10-year-bond-yield-historical-data'\n",
    "us_bond_2yr_url = 'https://kr.investing.com/rates-bonds/u.s.-2-year-bond-yield-historical-data'\n",
    "us_bond_3mon_url = 'https://kr.investing.com/rates-bonds/u.s.-3-month-bond-yield-historical-data'\n",
    "kor_bond_10yr_url = 'https://kr.investing.com/rates-bonds/south-korea-10-year-bond-yield-historical-data'\n",
    "kor_bond_2yr_url = 'https://kr.investing.com/rates-bonds/south-korea-2-year-bond-yield-historical-data'\n",
    "\n",
    "urls_bonds = [us_bond_10yr_url, us_bond_2yr_url, us_bond_3mon_url,\n",
    "        kor_bond_10yr_url, kor_bond_2yr_url]"
   ]
  },
  {
   "cell_type": "code",
   "execution_count": 14,
   "id": "664669c2",
   "metadata": {},
   "outputs": [],
   "source": [
    "us_10yr = ['date', 'bond_usa_10', 'open', 'high', 'low', 'bond_usa_10_cr']\n",
    "us_2yr = ['date', 'bond_usa_2', 'open', 'high', 'low', 'bond_usa_2_cr']\n",
    "us_3mon = ['date', 'bond_usa_3m', 'open', 'high', 'low', 'bond_usa_3m_cr']\n",
    "kor_10yr = ['date', 'bond_kor_10', 'open', 'high', 'low', 'bond_kor_10_cr']\n",
    "kor_2yr = ['date', 'bond_kor_2', 'open', 'high', 'low','bond_kor_2_cr']\n",
    "\n",
    "col_names_bonds = [us_10yr, us_2yr, us_3mon, kor_10yr, kor_2yr]"
   ]
  },
  {
   "cell_type": "code",
   "execution_count": 15,
   "id": "77492cfc",
   "metadata": {},
   "outputs": [],
   "source": [
    "us_10yr_s = ['date', 'bond_usa_10', 'bond_usa_10_cr']\n",
    "us_2yr_s = ['date', 'bond_usa_2', 'bond_usa_2_cr']\n",
    "us_3mon_s = ['date', 'bond_usa_3m', 'bond_usa_3m_cr']\n",
    "kor_10yr_s = ['date', 'bond_kor_10', 'bond_kor_10_cr']\n",
    "kor_2yr_s = ['date', 'bond_kor_2', 'bond_kor_2_cr']\n",
    "\n",
    "col_names_s_bonds = [us_10yr_s, us_2yr_s, us_3mon_s, kor_10yr_s, kor_2yr_s]"
   ]
  },
  {
   "cell_type": "code",
   "execution_count": 16,
   "id": "8900e409",
   "metadata": {},
   "outputs": [],
   "source": [
    "krw_rate_url = 'https://kr.investing.com/currencies/usd-krw-historical-data'\n",
    "\n",
    "urls_currencies = [krw_rate_url]"
   ]
  },
  {
   "cell_type": "code",
   "execution_count": 17,
   "id": "4bbda23a",
   "metadata": {},
   "outputs": [],
   "source": [
    "krw_rate = ['date', 'krw', 'open', 'high', 'low', 'krw_cr']\n",
    "\n",
    "col_names_currencies = [krw_rate]"
   ]
  },
  {
   "cell_type": "code",
   "execution_count": 18,
   "id": "6a402747",
   "metadata": {},
   "outputs": [],
   "source": [
    "krw_rate_s = ['date', 'krw', 'krw_cr']\n",
    "\n",
    "col_names_s_currencies = [krw_rate_s]"
   ]
  },
  {
   "cell_type": "code",
   "execution_count": 19,
   "id": "6ddcfc6a",
   "metadata": {},
   "outputs": [],
   "source": [
    "nas_futures_url = 'https://kr.investing.com/indices/nq-100-futures-historical-data'\n",
    "snp_futures_url = 'https://kr.investing.com/indices/us-spx-500-futures-historical-data'\n",
    "dow_futures_url = 'https://kr.investing.com/indices/us-30-futures-historical-data'\n",
    "wti_futures_url = 'https://kr.investing.com/commodities/crude-oil-historical-data'\n",
    "dollar_index_url = 'https://kr.investing.com/currencies/us-dollar-index-historical-data'\n",
    "\n",
    "urls_future = [snp_futures_url, dow_futures_url,  nas_futures_url, wti_futures_url, dollar_index_url ]\n",
    "\n",
    "snp_future = ['date', 'spx_f', 'open', 'high', 'low', 'volume', 'spx_f_cr']\n",
    "dji_future = ['date', 'dji_f', 'open', 'high', 'low', 'volume', 'dji_f_cr']\n",
    "ixic_future = ['date', 'ixic_f', 'open', 'high', 'low', 'volume', 'ixic_f_cr']\n",
    "wti_future = ['date', 'wti', 'open', 'high', 'low', 'volume', 'wti_cr']\n",
    "dxy_future = ['date', 'dxy', 'open', 'high', 'low', 'volume', 'dxy_cr']\n",
    "\n",
    "col_names_future = [snp_future,dji_future,ixic_future, wti_future, dxy_future]\n",
    "\n",
    "snp_future_s = ['date', 'spx_f', 'spx_f_cr']\n",
    "dji_future_s = ['date', 'dji_f', 'dji_f_cr']\n",
    "ixic_future_s = ['date', 'ixic_f', 'ixic_f_cr']\n",
    "wti_future_s = ['date', 'wti', 'wti_cr']\n",
    "dxy_future_s = ['date', 'dxy', 'dxy_cr']\n",
    "\n",
    "col_names_s_future  = [snp_future_s, dji_future_s, ixic_future_s, wti_future_s, dxy_future_s]"
   ]
  },
  {
   "cell_type": "code",
   "execution_count": 20,
   "id": "6f3b777c",
   "metadata": {},
   "outputs": [],
   "source": [
    "urls = urls_major_index + urls_bonds + urls_currencies + urls_future\n",
    "col_names = col_names_major_index + col_names_bonds + col_names_currencies + col_names_future\n",
    "col_names_s = col_names_s_major_index + col_names_s_bonds + col_names_s_currencies + col_names_s_future"
   ]
  },
  {
   "cell_type": "code",
   "execution_count": 21,
   "id": "bfd41f70",
   "metadata": {},
   "outputs": [],
   "source": [
    "def get_index_historical_data(start_date, end_date):\n",
    "    df_append = None\n",
    "    for sd, ed in zip(start_date, end_date):\n",
    "\n",
    "        # driver.find_element(By.ID, 'widgetFieldDateRange').send_keys(Keys.ENTER)\n",
    "        # Message: element not interactable error발생시 강제로 javascript로 click해주어야 함.\n",
    "        element = driver.find_element(By.ID, 'widgetFieldDateRange')  \n",
    "        driver.execute_script(\"arguments[0].click();\", element)\n",
    "        time.sleep(0.5)\n",
    "        driver.find_element_by_id('startDate').clear()\n",
    "        pyperclip.copy(sd) \n",
    "        driver.find_element_by_id('startDate').send_keys(Keys.CONTROL + 'v')\n",
    "        time.sleep(1)\n",
    "        driver.find_element_by_id('endDate').clear()\n",
    "        pyperclip.copy(ed) \n",
    "        driver.find_element_by_id('endDate').send_keys(Keys.CONTROL + 'v')\n",
    "        time.sleep(1)\n",
    "#         driver.find_element_by_css_selector('#applyBtn').click()\n",
    "#         driver.find_element_by_css_selector('#applyBtn').send_keys(Keys.ENTER)\n",
    "        element = driver.find_element(By.ID, 'applyBtn')\n",
    "        driver.execute_script(\"arguments[0].click();\", element)\n",
    "        time.sleep(3) # 시간을 줘야 함.\n",
    "        df_t = pd.read_html(driver.page_source, \n",
    "                          attrs={\"id\": \"curr_table\"}, flavor=[\"lxml\", \"bs4\"])[0]\n",
    "        if df_append is None:\n",
    "            df_append = df_t.copy()\n",
    "            continue\n",
    "        df_append = df_append.append(df_t, ignore_index=True)\n",
    "    df_append.sort_values(by=[df_append.columns[0]], inplace=True)\n",
    "    df_append.index = np.arange(0, len(df_append))\n",
    "    return df_append"
   ]
  },
  {
   "cell_type": "code",
   "execution_count": 22,
   "id": "14baf12a",
   "metadata": {},
   "outputs": [],
   "source": [
    "# dji_url = 'https://kr.investing.com/indices/us-30-historical-data'\n",
    "# nas_url = 'https://kr.investing.com/indices/nasdaq-composite-historical-data'\n",
    "# spx_url = 'https://kr.investing.com/indices/us-spx-500-historical-data'\n",
    "# kospi_url = 'https://kr.investing.com/indices/kospi-historical-data'\n",
    "# kosdaq_url = 'https://kr.investing.com/indices/kosdaq-historical-data'\n",
    "# wti_url = 'https://kr.investing.com/commodities/crude-oil-historical-data'\n",
    "# urls = [dji_url, nas_url, spx_url, kospi_url, kosdaq_url, wti_url]\n",
    "# urls = [dji_url]"
   ]
  },
  {
   "cell_type": "code",
   "execution_count": 23,
   "id": "3ab9c7b6",
   "metadata": {},
   "outputs": [],
   "source": [
    "# 검색하고자 하는 일정 기간 정의\n",
    "start_date = \\\n",
    "     ['2020/01/01', '2020/03/01', '2020/05/01', '2020/07/01', '2020/09/01', '2020/11/01',\n",
    "      '2021/01/01', '2021/03/01', '2021/05/01', '2021/07/01', '2021/09/01', '2021/11/01', \n",
    "      '2022/01/01', '2022/03/01', '2022/05/01', '2022/07/01']\n",
    "end_date = \\\n",
    "     ['2020/02/29', '2020/04/30', '2020/06/30', '2020/08/31', '2020/10/31', '2020/12/31',\n",
    "      '2021/02/28', '2021/04/30', '2021/06/30', '2021/08/31', '2021/10/31', '2021/12/31', \n",
    "      '2022/02/28', '2022/04/30', '2022/06/30', '2022/08/31']"
   ]
  },
  {
   "cell_type": "code",
   "execution_count": 24,
   "id": "4f11d752",
   "metadata": {},
   "outputs": [],
   "source": [
    "# urls = [dji_url, dow_futures_url ]\n",
    "# col_names = [dji, dji_future]\n",
    "# col_names_s = [dji_s, dji_future_s]\n",
    "\n",
    "# start_date = ['2020/01/01', '2020/03/01']\n",
    "# end_date = ['2020/02/29', '2020/04/30' ]"
   ]
  },
  {
   "cell_type": "code",
   "execution_count": 25,
   "id": "052726d7",
   "metadata": {},
   "outputs": [],
   "source": [
    "df_org = pd.read_csv('data/{}'.format('data_common.csv'))\n",
    "df_org['date'] = df_org['date'].apply(lambda x : datetime.datetime.strptime(x, \"%Y-%m-%d\"))\n",
    "df_org.set_index('date', inplace=True)\n",
    "df_org.replace(np.nan, '', inplace=True) "
   ]
  },
  {
   "cell_type": "code",
   "execution_count": 26,
   "id": "78150ef5",
   "metadata": {},
   "outputs": [
    {
     "name": "stdout",
     "output_type": "stream",
     "text": [
      "https://kr.investing.com/indices/us-spx-500-historical-data\n",
      "https://kr.investing.com/indices/us-30-historical-data\n",
      "https://kr.investing.com/indices/nasdaq-composite-historical-data\n",
      "https://kr.investing.com/indices/kospi-historical-data\n",
      "https://kr.investing.com/indices/kosdaq-historical-data\n",
      "https://kr.investing.com/indices/phlx-semiconductor-historical-data\n",
      "https://kr.investing.com/indices/volatility-s-p-500-historical-data\n",
      "https://kr.investing.com/rates-bonds/u.s.-10-year-bond-yield-historical-data\n",
      "https://kr.investing.com/rates-bonds/u.s.-2-year-bond-yield-historical-data\n",
      "https://kr.investing.com/rates-bonds/u.s.-3-month-bond-yield-historical-data\n",
      "https://kr.investing.com/rates-bonds/south-korea-10-year-bond-yield-historical-data\n",
      "https://kr.investing.com/rates-bonds/south-korea-2-year-bond-yield-historical-data\n",
      "https://kr.investing.com/currencies/usd-krw-historical-data\n",
      "https://kr.investing.com/indices/us-spx-500-futures-historical-data\n",
      "https://kr.investing.com/indices/us-30-futures-historical-data\n",
      "https://kr.investing.com/indices/nq-100-futures-historical-data\n",
      "https://kr.investing.com/commodities/crude-oil-historical-data\n",
      "https://kr.investing.com/currencies/us-dollar-index-historical-data\n"
     ]
    }
   ],
   "source": [
    "for i, url in enumerate(urls):\n",
    "    driver.get(url)\n",
    "    df = get_index_historical_data(start_date, end_date)\n",
    "\n",
    "    print(url)\n",
    "    df.columns = col_names[i]\n",
    "    df['date'] = df['date'].apply(lambda x : datetime.datetime.strptime(x, \"%Y년 %m월 %d일\"))\n",
    "    df_select = df[col_names_s[i]]\n",
    "    \n",
    "    df_select.set_index('date', inplace=True)\n",
    "    df_org.update(df_select)"
   ]
  },
  {
   "cell_type": "code",
   "execution_count": 27,
   "id": "5d7ad118",
   "metadata": {},
   "outputs": [],
   "source": [
    "df_org.reset_index(inplace=True)\n",
    "df_org.to_csv('data/data_common.csv', index=False)"
   ]
  },
  {
   "cell_type": "code",
   "execution_count": null,
   "id": "female-decade",
   "metadata": {},
   "outputs": [],
   "source": []
  },
  {
   "cell_type": "code",
   "execution_count": 33,
   "id": "sunrise-arrest",
   "metadata": {},
   "outputs": [],
   "source": [
    "cpi_url = 'https://kr.investing.com/economic-calendar/cpi-733'\n",
    "driver.get(cpi_url)"
   ]
  },
  {
   "cell_type": "code",
   "execution_count": 34,
   "id": "straight-continent",
   "metadata": {},
   "outputs": [],
   "source": [
    "for _ in range(5):\n",
    "    driver.find_element_by_css_selector('#showMoreHistory733 > a').send_keys(Keys.ENTER)"
   ]
  },
  {
   "cell_type": "code",
   "execution_count": 35,
   "id": "annoying-variance",
   "metadata": {},
   "outputs": [],
   "source": [
    "df = pd.read_html(driver.page_source, flavor=[\"lxml\", \"bs4\"])[0]\n",
    "df.columns = ['date', 'time', 'cpi', 'cpi_anticipated', 'cpi_previous', 'none']\n",
    "df['time'] = df['time'].apply(lambda x : datetime.datetime.strptime(x, \"%H:%M\").time())\n",
    "df['date'] = df['date'].apply(lambda x : datetime.datetime.strptime(x[:13], \"%Y년 %m월 %d일\"))\n",
    "df_select = df[['date', 'cpi', 'cpi_anticipated', 'cpi_previous']]\n",
    "df_select.set_index('date', inplace=True)\n",
    "df_org.update(df_select)"
   ]
  },
  {
   "cell_type": "code",
   "execution_count": 37,
   "id": "artificial-announcement",
   "metadata": {},
   "outputs": [],
   "source": [
    "df_org.set_index('date', inplace=True)\n",
    "df_org.update(df_select)"
   ]
  },
  {
   "cell_type": "markdown",
   "id": "alternative-rates",
   "metadata": {},
   "source": [
    "#### get append fear and greed\n",
    "\n",
    "이하 삽입해야 함.\n",
    "\n",
    "get_append_several_indices.ipynb"
   ]
  },
  {
   "cell_type": "code",
   "execution_count": 39,
   "id": "configured-quality",
   "metadata": {},
   "outputs": [],
   "source": [
    "df_org.reset_index(inplace=True)\n",
    "df_org.to_csv('data/data_common.csv', index=False)"
   ]
  },
  {
   "cell_type": "code",
   "execution_count": 2,
   "id": "d4e29b52",
   "metadata": {},
   "outputs": [
    {
     "ename": "NameError",
     "evalue": "name 'driver' is not defined",
     "output_type": "error",
     "traceback": [
      "\u001b[1;31m---------------------------------------------------------------------------\u001b[0m",
      "\u001b[1;31mNameError\u001b[0m                                 Traceback (most recent call last)",
      "Input \u001b[1;32mIn [2]\u001b[0m, in \u001b[0;36m<module>\u001b[1;34m\u001b[0m\n\u001b[1;32m----> 1\u001b[0m driver\u001b[38;5;241m.\u001b[39mclose()\n\u001b[0;32m      2\u001b[0m driver\u001b[38;5;241m.\u001b[39mquit()\n",
      "\u001b[1;31mNameError\u001b[0m: name 'driver' is not defined"
     ]
    }
   ],
   "source": [
    "driver.close()\n",
    "driver.quit()"
   ]
  },
  {
   "cell_type": "code",
   "execution_count": null,
   "id": "23e97602",
   "metadata": {},
   "outputs": [],
   "source": [
    "id = PromoteSignUpPopUp\n",
    "\n",
    "popupCloseIcon largeBannerCloser"
   ]
  }
 ],
 "metadata": {
  "kernelspec": {
   "display_name": "Python 3 (ipykernel)",
   "language": "python",
   "name": "python3"
  },
  "language_info": {
   "codemirror_mode": {
    "name": "ipython",
    "version": 3
   },
   "file_extension": ".py",
   "mimetype": "text/x-python",
   "name": "python",
   "nbconvert_exporter": "python",
   "pygments_lexer": "ipython3",
   "version": "3.9.1"
  }
 },
 "nbformat": 4,
 "nbformat_minor": 5
}
