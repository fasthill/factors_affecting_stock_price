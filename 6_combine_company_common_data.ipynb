{
 "cells": [
  {
   "cell_type": "markdown",
   "id": "459ff0ca",
   "metadata": {},
   "source": [
    "## combine company data and common data"
   ]
  },
  {
   "cell_type": "code",
   "execution_count": 1,
   "id": "d3b5a935",
   "metadata": {},
   "outputs": [],
   "source": [
    "import datetime, time\n",
    "from datetime import date\n",
    "\n",
    "import pandas as pd\n",
    "import numpy as np\n",
    "import os\n",
    "import sys\n",
    "\n",
    "from sklearn.preprocessing import StandardScaler"
   ]
  },
  {
   "cell_type": "code",
   "execution_count": 2,
   "id": "8ef51f99",
   "metadata": {},
   "outputs": [],
   "source": [
    "module_path = os.path.abspath(os.path.join('.')) \n",
    "sys.path.append(module_path+\"\\\\data\\\\constant\")\n",
    "\n",
    "from constants import COMPANY_CODE"
   ]
  },
  {
   "cell_type": "code",
   "execution_count": 3,
   "id": "9ea60572",
   "metadata": {},
   "outputs": [
    {
     "data": {
      "text/plain": [
       "\" \\n[[datetime.date(2022, 1, 17) 'dji_cr']\\n [datetime.date(2022, 1, 17) 'dji_f_cr']\\n ...\\n [datetime.date(2023, 5, 23) 'kosdaq_cr']\\n [datetime.date(2023, 5, 23) 'kosdaq_cr_2']]\\n\""
      ]
     },
     "execution_count": 3,
     "metadata": {},
     "output_type": "execute_result"
    }
   ],
   "source": [
    "def locate_nan(df):\n",
    "    idx, idy = np.where(pd.isnull(df))\n",
    "    result = np.column_stack([df.index[idx], df.columns[idy]])\n",
    "    return result\n",
    "\n",
    "# return format\n",
    "''' \n",
    "[[datetime.date(2022, 1, 17) 'dji_cr']\n",
    " [datetime.date(2022, 1, 17) 'dji_f_cr']\n",
    " ...\n",
    " [datetime.date(2023, 5, 23) 'kosdaq_cr']\n",
    " [datetime.date(2023, 5, 23) 'kosdaq_cr_2']]\n",
    "'''"
   ]
  },
  {
   "cell_type": "code",
   "execution_count": 4,
   "id": "d6f9e0c8",
   "metadata": {},
   "outputs": [],
   "source": [
    "code = COMPANY_CODE\n",
    "\n",
    "# code = {'005930': ['삼성전자', 'sec'], '005380': ['현대차', 'hyunmotor'],\n",
    "#                  '035420': ['NAVER', 'naver'], '033780': ['KT&G', 'ktng']}\n",
    "# code = {'005930': ['삼성전자', 'sec'], '000660': ['SK하이닉스', 'skhynix']}\n",
    "# code = {'302440': ['SK바이오사이언스', 'skbio']}"
   ]
  },
  {
   "cell_type": "code",
   "execution_count": 5,
   "id": "1ced9635",
   "metadata": {},
   "outputs": [],
   "source": [
    "directory_for_predict = './data/data_for_ml/predict/'\n",
    "pkl_common_directory = './data/common_pkl/'\n",
    "pkl_directory = './data/common_pkl/'"
   ]
  },
  {
   "cell_type": "code",
   "execution_count": 6,
   "id": "a4ac3c16",
   "metadata": {},
   "outputs": [],
   "source": [
    "df_common = pd.read_pickle(directory_for_predict + '0_df_common.pkl')"
   ]
  },
  {
   "cell_type": "code",
   "execution_count": 7,
   "id": "82d5ae58",
   "metadata": {},
   "outputs": [],
   "source": [
    "for key, val in code.items():\n",
    "    df_company = pd.read_pickle(directory_for_predict + f'df_{val[1]}_company.pkl')\n",
    "    df_company = df_company.merge(df_common, how='left', left_index=True, right_index=True)\n",
    "    globals()[f'df_{val[1]}_combine'] = df_company.copy()"
   ]
  },
  {
   "cell_type": "code",
   "execution_count": 8,
   "id": "6c798e31",
   "metadata": {},
   "outputs": [
    {
     "data": {
      "text/html": [
       "<div>\n",
       "<style scoped>\n",
       "    .dataframe tbody tr th:only-of-type {\n",
       "        vertical-align: middle;\n",
       "    }\n",
       "\n",
       "    .dataframe tbody tr th {\n",
       "        vertical-align: top;\n",
       "    }\n",
       "\n",
       "    .dataframe thead th {\n",
       "        text-align: right;\n",
       "    }\n",
       "</style>\n",
       "<table border=\"1\" class=\"dataframe\">\n",
       "  <thead>\n",
       "    <tr style=\"text-align: right;\">\n",
       "      <th></th>\n",
       "      <th>retail_1</th>\n",
       "      <th>foreigner_1</th>\n",
       "      <th>institution_1</th>\n",
       "      <th>financial_1</th>\n",
       "      <th>invtrust_1</th>\n",
       "      <th>pension_1</th>\n",
       "      <th>privequity_1</th>\n",
       "      <th>bank_1</th>\n",
       "      <th>insurance_1</th>\n",
       "      <th>financeetc_1</th>\n",
       "      <th>...</th>\n",
       "      <th>ixk_cr</th>\n",
       "      <th>ixk_cr_2</th>\n",
       "      <th>ixtr_cr</th>\n",
       "      <th>ixtr_cr_2</th>\n",
       "      <th>ixut_cr</th>\n",
       "      <th>ixut_cr_2</th>\n",
       "      <th>nbi_cr</th>\n",
       "      <th>nbi_cr_2</th>\n",
       "      <th>bkx_cr</th>\n",
       "      <th>bkx_cr_2</th>\n",
       "    </tr>\n",
       "  </thead>\n",
       "  <tbody>\n",
       "    <tr>\n",
       "      <th>2024-02-15</th>\n",
       "      <td>-0.65300</td>\n",
       "      <td>-0.62707</td>\n",
       "      <td>-0.60709</td>\n",
       "      <td>-0.81075</td>\n",
       "      <td>-0.23807</td>\n",
       "      <td>-0.69481</td>\n",
       "      <td>-0.79963</td>\n",
       "      <td>-4.28235</td>\n",
       "      <td>-1.56364</td>\n",
       "      <td>-0.98004</td>\n",
       "      <td>...</td>\n",
       "      <td>1.26%</td>\n",
       "      <td>-0.40780</td>\n",
       "      <td>1.20%</td>\n",
       "      <td>-0.06460</td>\n",
       "      <td>0.56%</td>\n",
       "      <td>-0.83421</td>\n",
       "      <td>1.31%</td>\n",
       "      <td>-1.25324</td>\n",
       "      <td>1.33%</td>\n",
       "      <td>-1.64055</td>\n",
       "    </tr>\n",
       "    <tr>\n",
       "      <th>2024-02-16</th>\n",
       "      <td>0.81463</td>\n",
       "      <td>0.16850</td>\n",
       "      <td>-2.28450</td>\n",
       "      <td>8.20289</td>\n",
       "      <td>-0.05177</td>\n",
       "      <td>-0.16003</td>\n",
       "      <td>1.08731</td>\n",
       "      <td>-1.48746</td>\n",
       "      <td>-10.92903</td>\n",
       "      <td>-7.00000</td>\n",
       "      <td>...</td>\n",
       "      <td>-0.35%</td>\n",
       "      <td>0.90226</td>\n",
       "      <td>0.49%</td>\n",
       "      <td>1.69210</td>\n",
       "      <td>-0.45%</td>\n",
       "      <td>0.11045</td>\n",
       "      <td>1.56%</td>\n",
       "      <td>2.88615</td>\n",
       "      <td>2.34%</td>\n",
       "      <td>3.70531</td>\n",
       "    </tr>\n",
       "    <tr>\n",
       "      <th>2024-02-19</th>\n",
       "      <td>-0.43422</td>\n",
       "      <td>-0.65412</td>\n",
       "      <td>0.48766</td>\n",
       "      <td>-0.52030</td>\n",
       "      <td>-1.34672</td>\n",
       "      <td>-1.82127</td>\n",
       "      <td>-0.82373</td>\n",
       "      <td>-1.22794</td>\n",
       "      <td>-0.76218</td>\n",
       "      <td>-1.08929</td>\n",
       "      <td>...</td>\n",
       "      <td>NaN</td>\n",
       "      <td>NaN</td>\n",
       "      <td>NaN</td>\n",
       "      <td>NaN</td>\n",
       "      <td>NaN</td>\n",
       "      <td>NaN</td>\n",
       "      <td>NaN</td>\n",
       "      <td>NaN</td>\n",
       "      <td>NaN</td>\n",
       "      <td>NaN</td>\n",
       "    </tr>\n",
       "    <tr>\n",
       "      <th>2024-02-20</th>\n",
       "      <td>-0.40804</td>\n",
       "      <td>-1.79333</td>\n",
       "      <td>1.00862</td>\n",
       "      <td>-0.39018</td>\n",
       "      <td>0.02635</td>\n",
       "      <td>3.86398</td>\n",
       "      <td>-6.49568</td>\n",
       "      <td>-4.06452</td>\n",
       "      <td>-1.36202</td>\n",
       "      <td>3.53333</td>\n",
       "      <td>...</td>\n",
       "      <td>-1.08%</td>\n",
       "      <td>-1.42818</td>\n",
       "      <td>-1.23%</td>\n",
       "      <td>-0.74618</td>\n",
       "      <td>-1.43%</td>\n",
       "      <td>-1.87464</td>\n",
       "      <td>-0.45%</td>\n",
       "      <td>1.10254</td>\n",
       "      <td>-0.29%</td>\n",
       "      <td>2.04213</td>\n",
       "    </tr>\n",
       "    <tr>\n",
       "      <th>2024-02-21</th>\n",
       "      <td>-2.40714</td>\n",
       "      <td>-0.08117</td>\n",
       "      <td>-1.52498</td>\n",
       "      <td>-0.91927</td>\n",
       "      <td>-5.68060</td>\n",
       "      <td>-0.72828</td>\n",
       "      <td>-2.88354</td>\n",
       "      <td>-10.24211</td>\n",
       "      <td>-9.44906</td>\n",
       "      <td>-1.55882</td>\n",
       "      <td>...</td>\n",
       "      <td>NaN</td>\n",
       "      <td>NaN</td>\n",
       "      <td>NaN</td>\n",
       "      <td>NaN</td>\n",
       "      <td>NaN</td>\n",
       "      <td>NaN</td>\n",
       "      <td>NaN</td>\n",
       "      <td>NaN</td>\n",
       "      <td>NaN</td>\n",
       "      <td>NaN</td>\n",
       "    </tr>\n",
       "  </tbody>\n",
       "</table>\n",
       "<p>5 rows × 114 columns</p>\n",
       "</div>"
      ],
      "text/plain": [
       "            retail_1  foreigner_1  institution_1  financial_1  invtrust_1   \n",
       "2024-02-15  -0.65300     -0.62707       -0.60709     -0.81075    -0.23807  \\\n",
       "2024-02-16   0.81463      0.16850       -2.28450      8.20289    -0.05177   \n",
       "2024-02-19  -0.43422     -0.65412        0.48766     -0.52030    -1.34672   \n",
       "2024-02-20  -0.40804     -1.79333        1.00862     -0.39018     0.02635   \n",
       "2024-02-21  -2.40714     -0.08117       -1.52498     -0.91927    -5.68060   \n",
       "\n",
       "            pension_1  privequity_1    bank_1  insurance_1  financeetc_1  ...   \n",
       "2024-02-15   -0.69481      -0.79963  -4.28235     -1.56364      -0.98004  ...  \\\n",
       "2024-02-16   -0.16003       1.08731  -1.48746    -10.92903      -7.00000  ...   \n",
       "2024-02-19   -1.82127      -0.82373  -1.22794     -0.76218      -1.08929  ...   \n",
       "2024-02-20    3.86398      -6.49568  -4.06452     -1.36202       3.53333  ...   \n",
       "2024-02-21   -0.72828      -2.88354 -10.24211     -9.44906      -1.55882  ...   \n",
       "\n",
       "            ixk_cr  ixk_cr_2  ixtr_cr  ixtr_cr_2  ixut_cr  ixut_cr_2  nbi_cr   \n",
       "2024-02-15   1.26%  -0.40780    1.20%   -0.06460    0.56%   -0.83421   1.31%  \\\n",
       "2024-02-16  -0.35%   0.90226    0.49%    1.69210   -0.45%    0.11045   1.56%   \n",
       "2024-02-19     NaN       NaN      NaN        NaN      NaN        NaN     NaN   \n",
       "2024-02-20  -1.08%  -1.42818   -1.23%   -0.74618   -1.43%   -1.87464  -0.45%   \n",
       "2024-02-21     NaN       NaN      NaN        NaN      NaN        NaN     NaN   \n",
       "\n",
       "            nbi_cr_2  bkx_cr  bkx_cr_2  \n",
       "2024-02-15  -1.25324   1.33%  -1.64055  \n",
       "2024-02-16   2.88615   2.34%   3.70531  \n",
       "2024-02-19       NaN     NaN       NaN  \n",
       "2024-02-20   1.10254  -0.29%   2.04213  \n",
       "2024-02-21       NaN     NaN       NaN  \n",
       "\n",
       "[5 rows x 114 columns]"
      ]
     },
     "execution_count": 8,
     "metadata": {},
     "output_type": "execute_result"
    }
   ],
   "source": [
    "df_hyunmotor_combine.tail()"
   ]
  },
  {
   "cell_type": "code",
   "execution_count": 9,
   "id": "aeab3342",
   "metadata": {},
   "outputs": [
    {
     "data": {
      "text/plain": [
       "datetime.date(2022, 1, 7)"
      ]
     },
     "execution_count": 9,
     "metadata": {},
     "output_type": "execute_result"
    }
   ],
   "source": [
    "df_hyunmotor_combine.index[0]"
   ]
  },
  {
   "cell_type": "code",
   "execution_count": 10,
   "id": "587ac2cd",
   "metadata": {},
   "outputs": [],
   "source": [
    "col_inv1 = ['retail_1', 'foreigner_1', 'institution_1', 'financial_1', 'invtrust_1', 'pension_1', 'privequity_1', \n",
    "            'bank_1', 'insurance_1', 'financeetc_1', 'corporateetc_1', 'foreigneretc_1']\n",
    "col_inv2 = ['retail_2', 'foreigner_2', 'institution_2', 'financial_2', 'invtrust_2', 'pension_2',\n",
    "            'privequity_2', 'bank_2', 'insurance_2', 'financeetc_2', 'corporateetc_2', 'foreigneretc_2']"
   ]
  },
  {
   "cell_type": "code",
   "execution_count": 11,
   "id": "76ca8389",
   "metadata": {},
   "outputs": [],
   "source": [
    "col_his1 = ['open_1', 'high_1', 'low_1', 'close_1', 'vol_1']\n",
    "col_his2 = ['open_2', 'high_2', 'low_2', 'close_2', 'vol_2']"
   ]
  },
  {
   "cell_type": "code",
   "execution_count": 12,
   "id": "8a6b4bac",
   "metadata": {},
   "outputs": [],
   "source": [
    "col_common1 = [\"dji_cr\", \"dji_f_cr\", \"dxy_cr\", \"ixic_f_cr\", \"bond_kor_10_cr\", \"bond_kor_2_cr\", \"kosdaq_cr\", \"kospi_cr\", \n",
    "         \"krw_cr\", \"ixic_cr\", \"spx_f_cr\", \"sox_cr\", \"spx_cr\", \"bond_usa_10_cr\", \"bond_usa_2_cr\", \"bond_usa_3m_cr\", \n",
    "         \"vix_cr\", \"wti_cr\", \"spsy_cr\", \"spny_cr\", \"spxhc_cr\", \"splrcd_cr\", \"splrci_cr\", \"splrcu_cr\", \"splrcs_cr\",\n",
    "         \"splrct_cr\", \"splrcl_cr\", \"splrcm_cr\", \"ixbk_cr\", \"ixfn_cr\", \"ixid_cr\", \"ixis_cr\", \"ixk_cr\", \"ixtr_cr\",\n",
    "         \"ixut_cr\", \"nbi_cr\", \"bkx_cr\"]\n",
    "col_common2 = [\"dji_cr_2\", \"dji_f_cr_2\", \"dxy_cr_2\", \"ixic_f_cr_2\", \"bond_kor_10_cr_2\", \"bond_kor_2_cr_2\", \"kosdaq_cr_2\", \"kospi_cr_2\",\n",
    "         \"krw_cr_2\", \"ixic_cr_2\", \"spx_f_cr_2\", \"sox_cr_2\", \"spx_cr_2\", \"bond_usa_10_cr_2\", \"bond_usa_2_cr_2\", \"bond_usa_3m_cr_2\",\n",
    "         \"vix_cr_2\", \"wti_cr_2\", \"spsy_cr_2\", \"spny_cr_2\", \"spxhc_cr_2\", \"splrcd_cr_2\", \"splrci_cr_2\", \"splrcu_cr_2\",\n",
    "         \"splrcs_cr_2\", \"splrct_cr_2\", \"splrcl_cr_2\", \"splrcm_cr_2\", \"ixbk_cr_2\", \"ixfn_cr_2\", \"ixid_cr_2\",\n",
    "         \"ixis_cr_2\", \"ixk_cr_2\", \"ixtr_cr_2\", \"ixut_cr_2\", \"nbi_cr_2\", \"bkx_cr_2\"]"
   ]
  },
  {
   "cell_type": "code",
   "execution_count": 13,
   "id": "9a595935",
   "metadata": {},
   "outputs": [],
   "source": [
    "col_cr = ['weekday', 'cr_00', 'cr_05', 'cr_10', 'cr_15', 'cr_20']"
   ]
  },
  {
   "cell_type": "code",
   "execution_count": 14,
   "id": "75ec6070",
   "metadata": {},
   "outputs": [],
   "source": [
    "col_col = col_inv1 + col_common1 + col_his1 + col_inv2 + col_common2 + col_his2 + col_cr"
   ]
  },
  {
   "cell_type": "code",
   "execution_count": 15,
   "id": "ff6769da",
   "metadata": {},
   "outputs": [],
   "source": [
    "# # write common data only\n",
    "# df_temp = df_common.copy()\n",
    "# df_temp = df_temp[col_common1+col_common2]\n",
    "# pkl_common_directory = './data/common_pkl/'\n",
    "# df_temp.to_pickle(pkl_common_directory + 'df_common.pkl')\n",
    "# df_temp.to_csv(pkl_common_directory + 'df_common.csv')"
   ]
  },
  {
   "cell_type": "code",
   "execution_count": 16,
   "id": "c78c8f82",
   "metadata": {},
   "outputs": [],
   "source": [
    "new_columns = col_col"
   ]
  },
  {
   "cell_type": "code",
   "execution_count": 17,
   "id": "02da1256",
   "metadata": {},
   "outputs": [],
   "source": [
    "# column 순서 변경 : weekday, 'cr_00', 'cr_05', 'cr_10', 'cr_15', 'cr_20' column을 마지막으로 이동 \n",
    "for key, val in code.items():\n",
    "    globals()['df_{}_combine'.format(val[1])] = globals()['df_{}_combine'.format(val[1])][new_columns]"
   ]
  },
  {
   "cell_type": "code",
   "execution_count": 18,
   "id": "d4f1fa06",
   "metadata": {},
   "outputs": [
    {
     "data": {
      "text/plain": [
       "'\\n# drop inf, -inf : replace inf to 1 or -1 . 데이터를 살리고\\n# 변동률이 무한대가 되는 것을 방지하기 위해서, 나중에 발생하는 에러를 방지\\ndf_sec_sel.replace([np.inf, -np.inf], [1, -1], inplace=True)\\n\\n.impute 사용하는 것을 고려할 필요 있음.\\n'"
      ]
     },
     "execution_count": 18,
     "metadata": {},
     "output_type": "execute_result"
    }
   ],
   "source": [
    "'''\n",
    "# drop inf, -inf : replace inf to 1 or -1 . 데이터를 살리고\n",
    "# 변동률이 무한대가 되는 것을 방지하기 위해서, 나중에 발생하는 에러를 방지\n",
    "df_sec_sel.replace([np.inf, -np.inf], [1, -1], inplace=True)\n",
    "\n",
    ".impute 사용하는 것을 고려할 필요 있음.\n",
    "'''"
   ]
  },
  {
   "cell_type": "code",
   "execution_count": 19,
   "id": "7e91c1c5",
   "metadata": {},
   "outputs": [],
   "source": [
    "# drop inf, -inf : replace inf to 1 or -1 . 데이터를 살리고\n",
    "# 변동률이 무한대가 되는 것을 방지하기 위해서, 나중에 발생하는 에러를 방지\n",
    "for key, val in code.items():\n",
    "    globals()['df_{}_combine'.format(val[1])].replace([np.inf, -np.inf], [1, -1], inplace=True)\n",
    "\n",
    "# **** 데이터 전처리 from sklearn.impute import SimpleImputer, SimpleImputer 사용하기로 함."
   ]
  },
  {
   "cell_type": "code",
   "execution_count": 20,
   "id": "3fa3914b",
   "metadata": {},
   "outputs": [
    {
     "data": {
      "text/html": [
       "<div>\n",
       "<style scoped>\n",
       "    .dataframe tbody tr th:only-of-type {\n",
       "        vertical-align: middle;\n",
       "    }\n",
       "\n",
       "    .dataframe tbody tr th {\n",
       "        vertical-align: top;\n",
       "    }\n",
       "\n",
       "    .dataframe thead th {\n",
       "        text-align: right;\n",
       "    }\n",
       "</style>\n",
       "<table border=\"1\" class=\"dataframe\">\n",
       "  <thead>\n",
       "    <tr style=\"text-align: right;\">\n",
       "      <th></th>\n",
       "      <th>retail_1</th>\n",
       "      <th>foreigner_1</th>\n",
       "      <th>institution_1</th>\n",
       "      <th>financial_1</th>\n",
       "      <th>invtrust_1</th>\n",
       "      <th>pension_1</th>\n",
       "      <th>privequity_1</th>\n",
       "      <th>bank_1</th>\n",
       "      <th>insurance_1</th>\n",
       "      <th>financeetc_1</th>\n",
       "      <th>...</th>\n",
       "      <th>high_2</th>\n",
       "      <th>low_2</th>\n",
       "      <th>close_2</th>\n",
       "      <th>vol_2</th>\n",
       "      <th>weekday</th>\n",
       "      <th>cr_00</th>\n",
       "      <th>cr_05</th>\n",
       "      <th>cr_10</th>\n",
       "      <th>cr_15</th>\n",
       "      <th>cr_20</th>\n",
       "    </tr>\n",
       "  </thead>\n",
       "  <tbody>\n",
       "    <tr>\n",
       "      <th>2024-02-15</th>\n",
       "      <td>-2.11174</td>\n",
       "      <td>-2.51407</td>\n",
       "      <td>-1.91781</td>\n",
       "      <td>-1.75516</td>\n",
       "      <td>-1.05375</td>\n",
       "      <td>-0.99877</td>\n",
       "      <td>1.21924</td>\n",
       "      <td>-0.99704</td>\n",
       "      <td>-0.53995</td>\n",
       "      <td>-0.60169</td>\n",
       "      <td>...</td>\n",
       "      <td>-0.01197</td>\n",
       "      <td>0.00136</td>\n",
       "      <td>-0.00135</td>\n",
       "      <td>-0.40247</td>\n",
       "      <td>2</td>\n",
       "      <td>0</td>\n",
       "      <td>0</td>\n",
       "      <td>0</td>\n",
       "      <td>0</td>\n",
       "      <td>0</td>\n",
       "    </tr>\n",
       "    <tr>\n",
       "      <th>2024-02-16</th>\n",
       "      <td>-0.11201</td>\n",
       "      <td>-0.00774</td>\n",
       "      <td>-0.16690</td>\n",
       "      <td>-0.71577</td>\n",
       "      <td>-16.40344</td>\n",
       "      <td>2082.95833</td>\n",
       "      <td>-3.76785</td>\n",
       "      <td>-365.33333</td>\n",
       "      <td>0.98322</td>\n",
       "      <td>0.39210</td>\n",
       "      <td>...</td>\n",
       "      <td>-0.01064</td>\n",
       "      <td>-0.01882</td>\n",
       "      <td>-0.02926</td>\n",
       "      <td>-0.35718</td>\n",
       "      <td>3</td>\n",
       "      <td>0</td>\n",
       "      <td>0</td>\n",
       "      <td>0</td>\n",
       "      <td>0</td>\n",
       "      <td>0</td>\n",
       "    </tr>\n",
       "    <tr>\n",
       "      <th>2024-02-19</th>\n",
       "      <td>-0.70686</td>\n",
       "      <td>-0.80102</td>\n",
       "      <td>-0.61592</td>\n",
       "      <td>-1.91668</td>\n",
       "      <td>0.27965</td>\n",
       "      <td>0.52320</td>\n",
       "      <td>-0.79640</td>\n",
       "      <td>-1.12443</td>\n",
       "      <td>-0.30978</td>\n",
       "      <td>-0.64410</td>\n",
       "      <td>...</td>\n",
       "      <td>-0.01211</td>\n",
       "      <td>-0.01628</td>\n",
       "      <td>-0.01622</td>\n",
       "      <td>0.08121</td>\n",
       "      <td>4</td>\n",
       "      <td>1</td>\n",
       "      <td>1</td>\n",
       "      <td>1</td>\n",
       "      <td>0</td>\n",
       "      <td>0</td>\n",
       "    </tr>\n",
       "    <tr>\n",
       "      <th>2024-02-20</th>\n",
       "      <td>-3.17847</td>\n",
       "      <td>-6.58507</td>\n",
       "      <td>-1.72391</td>\n",
       "      <td>1.16431</td>\n",
       "      <td>-0.25810</td>\n",
       "      <td>-0.64898</td>\n",
       "      <td>0.24514</td>\n",
       "      <td>14.93382</td>\n",
       "      <td>0.81586</td>\n",
       "      <td>-1.01227</td>\n",
       "      <td>...</td>\n",
       "      <td>-0.00672</td>\n",
       "      <td>-0.00274</td>\n",
       "      <td>0.01096</td>\n",
       "      <td>-0.09873</td>\n",
       "      <td>0</td>\n",
       "      <td>0</td>\n",
       "      <td>0</td>\n",
       "      <td>0</td>\n",
       "      <td>0</td>\n",
       "      <td>0</td>\n",
       "    </tr>\n",
       "    <tr>\n",
       "      <th>2024-02-21</th>\n",
       "      <td>-1.38945</td>\n",
       "      <td>-0.84332</td>\n",
       "      <td>-3.20173</td>\n",
       "      <td>-1.49419</td>\n",
       "      <td>-0.13315</td>\n",
       "      <td>-0.17572</td>\n",
       "      <td>-0.90132</td>\n",
       "      <td>-1.00369</td>\n",
       "      <td>-0.53902</td>\n",
       "      <td>-312.50000</td>\n",
       "      <td>...</td>\n",
       "      <td>0.00409</td>\n",
       "      <td>0.00414</td>\n",
       "      <td>0.00687</td>\n",
       "      <td>0.08972</td>\n",
       "      <td>1</td>\n",
       "      <td>0</td>\n",
       "      <td>0</td>\n",
       "      <td>0</td>\n",
       "      <td>0</td>\n",
       "      <td>0</td>\n",
       "    </tr>\n",
       "  </tbody>\n",
       "</table>\n",
       "<p>5 rows × 114 columns</p>\n",
       "</div>"
      ],
      "text/plain": [
       "            retail_1  foreigner_1  institution_1  financial_1  invtrust_1   \n",
       "2024-02-15  -2.11174     -2.51407       -1.91781     -1.75516    -1.05375  \\\n",
       "2024-02-16  -0.11201     -0.00774       -0.16690     -0.71577   -16.40344   \n",
       "2024-02-19  -0.70686     -0.80102       -0.61592     -1.91668     0.27965   \n",
       "2024-02-20  -3.17847     -6.58507       -1.72391      1.16431    -0.25810   \n",
       "2024-02-21  -1.38945     -0.84332       -3.20173     -1.49419    -0.13315   \n",
       "\n",
       "             pension_1  privequity_1     bank_1  insurance_1  financeetc_1   \n",
       "2024-02-15    -0.99877       1.21924   -0.99704     -0.53995      -0.60169  \\\n",
       "2024-02-16  2082.95833      -3.76785 -365.33333      0.98322       0.39210   \n",
       "2024-02-19     0.52320      -0.79640   -1.12443     -0.30978      -0.64410   \n",
       "2024-02-20    -0.64898       0.24514   14.93382      0.81586      -1.01227   \n",
       "2024-02-21    -0.17572      -0.90132   -1.00369     -0.53902    -312.50000   \n",
       "\n",
       "            ...   high_2    low_2  close_2    vol_2  weekday  cr_00 cr_05   \n",
       "2024-02-15  ... -0.01197  0.00136 -0.00135 -0.40247        2      0     0  \\\n",
       "2024-02-16  ... -0.01064 -0.01882 -0.02926 -0.35718        3      0     0   \n",
       "2024-02-19  ... -0.01211 -0.01628 -0.01622  0.08121        4      1     1   \n",
       "2024-02-20  ... -0.00672 -0.00274  0.01096 -0.09873        0      0     0   \n",
       "2024-02-21  ...  0.00409  0.00414  0.00687  0.08972        1      0     0   \n",
       "\n",
       "           cr_10  cr_15  cr_20  \n",
       "2024-02-15     0      0      0  \n",
       "2024-02-16     0      0      0  \n",
       "2024-02-19     1      0      0  \n",
       "2024-02-20     0      0      0  \n",
       "2024-02-21     0      0      0  \n",
       "\n",
       "[5 rows x 114 columns]"
      ]
     },
     "execution_count": 20,
     "metadata": {},
     "output_type": "execute_result"
    }
   ],
   "source": [
    "df_sec_combine.tail()"
   ]
  },
  {
   "cell_type": "code",
   "execution_count": 21,
   "id": "bf7224df",
   "metadata": {},
   "outputs": [],
   "source": [
    "nanlo = locate_nan(df_sec_combine)  # nan 위치 찾기"
   ]
  },
  {
   "cell_type": "code",
   "execution_count": 22,
   "id": "2f63d7f5",
   "metadata": {},
   "outputs": [],
   "source": [
    "print(nanlo)"
   ]
  },
  {
   "cell_type": "code",
   "execution_count": 23,
   "id": "21a6d628",
   "metadata": {},
   "outputs": [],
   "source": [
    "# delete rows which include NaN : dji, spx, nasdaq 기타 common 지수중 한개라도 nan인 rows 제거\n",
    "for key, val in code.items():\n",
    "    globals()['df_{}_combine'.format(val[1])].dropna(inplace=True)"
   ]
  },
  {
   "cell_type": "code",
   "execution_count": 24,
   "id": "c6f3061c",
   "metadata": {},
   "outputs": [],
   "source": [
    "# string column을 numeric으로 전환\n",
    "def string_to_num(df):\n",
    "    df.replace('%', '', regex=True, inplace=True)\n",
    "    df = df.apply(pd.to_numeric)\n",
    "    return df\n",
    "\n",
    "for key, val in code.items():\n",
    "    globals()['df_{}_combine'.format(val[1])] = string_to_num(globals()['df_{}_combine'.format(val[1])])"
   ]
  },
  {
   "cell_type": "code",
   "execution_count": 25,
   "id": "7e8d5acf",
   "metadata": {},
   "outputs": [],
   "source": [
    "# pickle로 데이터 저장\n",
    "\n",
    "for key, val in code.items():\n",
    "    globals()[f'df_{val[1]}_combine'].to_pickle(directory_for_predict + f'df_{val[1]}_combine.pkl')\n",
    "    globals()[f'df_{val[1]}_combine'].to_csv(directory_for_predict + f'df_{val[1]}_combine.csv')"
   ]
  },
  {
   "cell_type": "code",
   "execution_count": null,
   "id": "a01825d3",
   "metadata": {},
   "outputs": [],
   "source": []
  },
  {
   "cell_type": "code",
   "execution_count": null,
   "id": "3300e5b2",
   "metadata": {},
   "outputs": [],
   "source": []
  },
  {
   "cell_type": "code",
   "execution_count": null,
   "id": "1ffeab80",
   "metadata": {},
   "outputs": [],
   "source": []
  },
  {
   "cell_type": "code",
   "execution_count": null,
   "id": "a1f7c9d1",
   "metadata": {},
   "outputs": [],
   "source": []
  },
  {
   "cell_type": "code",
   "execution_count": null,
   "id": "bc80b897",
   "metadata": {},
   "outputs": [],
   "source": []
  }
 ],
 "metadata": {
  "kernelspec": {
   "display_name": "Python 3 (ipykernel)",
   "language": "python",
   "name": "python3"
  },
  "language_info": {
   "codemirror_mode": {
    "name": "ipython",
    "version": 3
   },
   "file_extension": ".py",
   "mimetype": "text/x-python",
   "name": "python",
   "nbconvert_exporter": "python",
   "pygments_lexer": "ipython3",
   "version": "3.9.1"
  }
 },
 "nbformat": 4,
 "nbformat_minor": 5
}
