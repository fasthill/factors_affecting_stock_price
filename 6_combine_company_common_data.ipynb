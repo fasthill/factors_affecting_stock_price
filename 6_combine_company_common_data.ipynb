{
 "cells": [
  {
   "cell_type": "markdown",
   "id": "459ff0ca",
   "metadata": {},
   "source": [
    "## combine company data and common data"
   ]
  },
  {
   "cell_type": "code",
   "execution_count": 1,
   "id": "d3b5a935",
   "metadata": {},
   "outputs": [],
   "source": [
    "import datetime, time\n",
    "from datetime import date\n",
    "\n",
    "import pandas as pd\n",
    "import numpy as np\n",
    "import os\n",
    "import sys\n",
    "\n",
    "from sklearn.preprocessing import StandardScaler"
   ]
  },
  {
   "cell_type": "code",
   "execution_count": 2,
   "id": "8ef51f99",
   "metadata": {},
   "outputs": [],
   "source": [
    "module_path = os.path.abspath(os.path.join('.')) \n",
    "sys.path.append(module_path+\"\\\\data\\\\constant\")\n",
    "\n",
    "from constants import COMPANY_CODE"
   ]
  },
  {
   "cell_type": "code",
   "execution_count": 3,
   "id": "9ea60572",
   "metadata": {},
   "outputs": [
    {
     "data": {
      "text/plain": [
       "\" \\n[[datetime.date(2022, 1, 17) 'dji_cr']\\n [datetime.date(2022, 1, 17) 'dji_f_cr']\\n ...\\n [datetime.date(2023, 5, 23) 'kosdaq_cr']\\n [datetime.date(2023, 5, 23) 'kosdaq_cr_2']]\\n\""
      ]
     },
     "execution_count": 3,
     "metadata": {},
     "output_type": "execute_result"
    }
   ],
   "source": [
    "def locate_nan(df):\n",
    "    idx, idy = np.where(pd.isnull(df))\n",
    "    result = np.column_stack([df.index[idx], df.columns[idy]])\n",
    "    return result\n",
    "\n",
    "# return format\n",
    "''' \n",
    "[[datetime.date(2022, 1, 17) 'dji_cr']\n",
    " [datetime.date(2022, 1, 17) 'dji_f_cr']\n",
    " ...\n",
    " [datetime.date(2023, 5, 23) 'kosdaq_cr']\n",
    " [datetime.date(2023, 5, 23) 'kosdaq_cr_2']]\n",
    "'''"
   ]
  },
  {
   "cell_type": "code",
   "execution_count": 4,
   "id": "d6f9e0c8",
   "metadata": {},
   "outputs": [],
   "source": [
    "code = COMPANY_CODE\n",
    "\n",
    "# code = {'005930': ['삼성전자', 'sec'], '005380': ['현대차', 'hyunmotor'],\n",
    "#                  '035420': ['NAVER', 'naver'], '033780': ['KT&G', 'ktng']}\n",
    "# code = {'005930': ['삼성전자', 'sec'], '000660': ['SK하이닉스', 'skhynix']}\n",
    "# code = {'302440': ['SK바이오사이언스', 'skbio']}"
   ]
  },
  {
   "cell_type": "code",
   "execution_count": 5,
   "id": "1ced9635",
   "metadata": {},
   "outputs": [],
   "source": [
    "directory_for_predict = './data/data_for_ml/predict/'\n",
    "pkl_common_directory = './data/common_pkl/'\n",
    "pkl_directory = './data/common_pkl/'"
   ]
  },
  {
   "cell_type": "code",
   "execution_count": 6,
   "id": "a4ac3c16",
   "metadata": {},
   "outputs": [],
   "source": [
    "df_common = pd.read_pickle(directory_for_predict + '0_df_common.pkl')"
   ]
  },
  {
   "cell_type": "code",
   "execution_count": 7,
   "id": "82d5ae58",
   "metadata": {},
   "outputs": [],
   "source": [
    "for key, val in code.items():\n",
    "    df_company = pd.read_pickle(directory_for_predict + f'df_{val[1]}_company.pkl')\n",
    "    df_company = df_company.merge(df_common, how='left', left_index=True, right_index=True)\n",
    "    globals()[f'df_{val[1]}_combine'] = df_company.copy()"
   ]
  },
  {
   "cell_type": "code",
   "execution_count": 8,
   "id": "6c798e31",
   "metadata": {},
   "outputs": [
    {
     "data": {
      "text/html": [
       "<div>\n",
       "<style scoped>\n",
       "    .dataframe tbody tr th:only-of-type {\n",
       "        vertical-align: middle;\n",
       "    }\n",
       "\n",
       "    .dataframe tbody tr th {\n",
       "        vertical-align: top;\n",
       "    }\n",
       "\n",
       "    .dataframe thead th {\n",
       "        text-align: right;\n",
       "    }\n",
       "</style>\n",
       "<table border=\"1\" class=\"dataframe\">\n",
       "  <thead>\n",
       "    <tr style=\"text-align: right;\">\n",
       "      <th></th>\n",
       "      <th>retail_1</th>\n",
       "      <th>foreigner_1</th>\n",
       "      <th>institution_1</th>\n",
       "      <th>financial_1</th>\n",
       "      <th>invtrust_1</th>\n",
       "      <th>pension_1</th>\n",
       "      <th>privequity_1</th>\n",
       "      <th>bank_1</th>\n",
       "      <th>insurance_1</th>\n",
       "      <th>financeetc_1</th>\n",
       "      <th>...</th>\n",
       "      <th>ixk_cr</th>\n",
       "      <th>ixk_cr_2</th>\n",
       "      <th>ixtr_cr</th>\n",
       "      <th>ixtr_cr_2</th>\n",
       "      <th>ixut_cr</th>\n",
       "      <th>ixut_cr_2</th>\n",
       "      <th>nbi_cr</th>\n",
       "      <th>nbi_cr_2</th>\n",
       "      <th>bkx_cr</th>\n",
       "      <th>bkx_cr_2</th>\n",
       "    </tr>\n",
       "  </thead>\n",
       "  <tbody>\n",
       "    <tr>\n",
       "      <th>2024-01-11</th>\n",
       "      <td>-0.51892</td>\n",
       "      <td>-0.16135</td>\n",
       "      <td>-1.33594</td>\n",
       "      <td>38.18182</td>\n",
       "      <td>1.72414</td>\n",
       "      <td>-0.61707</td>\n",
       "      <td>-22.83333</td>\n",
       "      <td>-inf</td>\n",
       "      <td>-0.71492</td>\n",
       "      <td>-1.13423</td>\n",
       "      <td>...</td>\n",
       "      <td>1.10%</td>\n",
       "      <td>1.56246</td>\n",
       "      <td>0.26%</td>\n",
       "      <td>-0.48032</td>\n",
       "      <td>0.30%</td>\n",
       "      <td>-0.63973</td>\n",
       "      <td>-0.56%</td>\n",
       "      <td>-0.65098</td>\n",
       "      <td>-0.35%</td>\n",
       "      <td>-1.45671</td>\n",
       "    </tr>\n",
       "    <tr>\n",
       "      <th>2024-01-12</th>\n",
       "      <td>-0.59747</td>\n",
       "      <td>-2.67321</td>\n",
       "      <td>-13.38568</td>\n",
       "      <td>-5.25360</td>\n",
       "      <td>1.15443</td>\n",
       "      <td>1.13633</td>\n",
       "      <td>-1.39695</td>\n",
       "      <td>-1.0</td>\n",
       "      <td>-0.67526</td>\n",
       "      <td>0.10000</td>\n",
       "      <td>...</td>\n",
       "      <td>0.27%</td>\n",
       "      <td>1.37495</td>\n",
       "      <td>-0.11%</td>\n",
       "      <td>0.15367</td>\n",
       "      <td>-0.38%</td>\n",
       "      <td>-0.08465</td>\n",
       "      <td>-0.89%</td>\n",
       "      <td>-1.44598</td>\n",
       "      <td>-0.99%</td>\n",
       "      <td>-1.33818</td>\n",
       "    </tr>\n",
       "    <tr>\n",
       "      <th>2024-01-15</th>\n",
       "      <td>1.27040</td>\n",
       "      <td>-1.28577</td>\n",
       "      <td>-0.87271</td>\n",
       "      <td>-1.07227</td>\n",
       "      <td>0.13631</td>\n",
       "      <td>0.06126</td>\n",
       "      <td>-3.69231</td>\n",
       "      <td>inf</td>\n",
       "      <td>-4.08730</td>\n",
       "      <td>-0.36364</td>\n",
       "      <td>...</td>\n",
       "      <td>NaN</td>\n",
       "      <td>NaN</td>\n",
       "      <td>NaN</td>\n",
       "      <td>NaN</td>\n",
       "      <td>NaN</td>\n",
       "      <td>NaN</td>\n",
       "      <td>NaN</td>\n",
       "      <td>NaN</td>\n",
       "      <td>NaN</td>\n",
       "      <td>NaN</td>\n",
       "    </tr>\n",
       "    <tr>\n",
       "      <th>2024-01-16</th>\n",
       "      <td>-1.42807</td>\n",
       "      <td>-0.54022</td>\n",
       "      <td>-3.19641</td>\n",
       "      <td>6.05509</td>\n",
       "      <td>-0.54498</td>\n",
       "      <td>-0.15875</td>\n",
       "      <td>-1.05714</td>\n",
       "      <td>-1.0</td>\n",
       "      <td>-0.70951</td>\n",
       "      <td>-1.00000</td>\n",
       "      <td>...</td>\n",
       "      <td>0.30%</td>\n",
       "      <td>0.57420</td>\n",
       "      <td>-0.83%</td>\n",
       "      <td>-0.93092</td>\n",
       "      <td>-0.22%</td>\n",
       "      <td>-0.60045</td>\n",
       "      <td>0.23%</td>\n",
       "      <td>-0.65369</td>\n",
       "      <td>-1.05%</td>\n",
       "      <td>-2.02998</td>\n",
       "    </tr>\n",
       "    <tr>\n",
       "      <th>2024-01-17</th>\n",
       "      <td>-3.69680</td>\n",
       "      <td>-2.50731</td>\n",
       "      <td>-3.17067</td>\n",
       "      <td>-2.01305</td>\n",
       "      <td>0.42273</td>\n",
       "      <td>0.33202</td>\n",
       "      <td>-10.93750</td>\n",
       "      <td>-inf</td>\n",
       "      <td>2.31858</td>\n",
       "      <td>inf</td>\n",
       "      <td>...</td>\n",
       "      <td>NaN</td>\n",
       "      <td>NaN</td>\n",
       "      <td>NaN</td>\n",
       "      <td>NaN</td>\n",
       "      <td>NaN</td>\n",
       "      <td>NaN</td>\n",
       "      <td>NaN</td>\n",
       "      <td>NaN</td>\n",
       "      <td>NaN</td>\n",
       "      <td>NaN</td>\n",
       "    </tr>\n",
       "  </tbody>\n",
       "</table>\n",
       "<p>5 rows × 114 columns</p>\n",
       "</div>"
      ],
      "text/plain": [
       "            retail_1  foreigner_1  institution_1  financial_1  invtrust_1  \\\n",
       "2024-01-11  -0.51892     -0.16135       -1.33594     38.18182     1.72414   \n",
       "2024-01-12  -0.59747     -2.67321      -13.38568     -5.25360     1.15443   \n",
       "2024-01-15   1.27040     -1.28577       -0.87271     -1.07227     0.13631   \n",
       "2024-01-16  -1.42807     -0.54022       -3.19641      6.05509    -0.54498   \n",
       "2024-01-17  -3.69680     -2.50731       -3.17067     -2.01305     0.42273   \n",
       "\n",
       "            pension_1  privequity_1  bank_1  insurance_1  financeetc_1  ...  \\\n",
       "2024-01-11   -0.61707     -22.83333    -inf     -0.71492      -1.13423  ...   \n",
       "2024-01-12    1.13633      -1.39695    -1.0     -0.67526       0.10000  ...   \n",
       "2024-01-15    0.06126      -3.69231     inf     -4.08730      -0.36364  ...   \n",
       "2024-01-16   -0.15875      -1.05714    -1.0     -0.70951      -1.00000  ...   \n",
       "2024-01-17    0.33202     -10.93750    -inf      2.31858           inf  ...   \n",
       "\n",
       "            ixk_cr  ixk_cr_2  ixtr_cr  ixtr_cr_2  ixut_cr  ixut_cr_2  nbi_cr  \\\n",
       "2024-01-11   1.10%   1.56246    0.26%   -0.48032    0.30%   -0.63973  -0.56%   \n",
       "2024-01-12   0.27%   1.37495   -0.11%    0.15367   -0.38%   -0.08465  -0.89%   \n",
       "2024-01-15     NaN       NaN      NaN        NaN      NaN        NaN     NaN   \n",
       "2024-01-16   0.30%   0.57420   -0.83%   -0.93092   -0.22%   -0.60045   0.23%   \n",
       "2024-01-17     NaN       NaN      NaN        NaN      NaN        NaN     NaN   \n",
       "\n",
       "            nbi_cr_2  bkx_cr  bkx_cr_2  \n",
       "2024-01-11  -0.65098  -0.35%  -1.45671  \n",
       "2024-01-12  -1.44598  -0.99%  -1.33818  \n",
       "2024-01-15       NaN     NaN       NaN  \n",
       "2024-01-16  -0.65369  -1.05%  -2.02998  \n",
       "2024-01-17       NaN     NaN       NaN  \n",
       "\n",
       "[5 rows x 114 columns]"
      ]
     },
     "execution_count": 8,
     "metadata": {},
     "output_type": "execute_result"
    }
   ],
   "source": [
    "df_hyunmotor_combine.tail()"
   ]
  },
  {
   "cell_type": "code",
   "execution_count": 9,
   "id": "aeab3342",
   "metadata": {},
   "outputs": [
    {
     "data": {
      "text/plain": [
       "datetime.date(2022, 1, 7)"
      ]
     },
     "execution_count": 9,
     "metadata": {},
     "output_type": "execute_result"
    }
   ],
   "source": [
    "df_hyunmotor_combine.index[0]"
   ]
  },
  {
   "cell_type": "code",
   "execution_count": 10,
   "id": "587ac2cd",
   "metadata": {},
   "outputs": [],
   "source": [
    "col_inv1 = ['retail_1', 'foreigner_1', 'institution_1', 'financial_1', 'invtrust_1', 'pension_1', 'privequity_1', \n",
    "            'bank_1', 'insurance_1', 'financeetc_1', 'corporateetc_1', 'foreigneretc_1']\n",
    "col_inv2 = ['retail_2', 'foreigner_2', 'institution_2', 'financial_2', 'invtrust_2', 'pension_2',\n",
    "            'privequity_2', 'bank_2', 'insurance_2', 'financeetc_2', 'corporateetc_2', 'foreigneretc_2']"
   ]
  },
  {
   "cell_type": "code",
   "execution_count": 11,
   "id": "76ca8389",
   "metadata": {},
   "outputs": [],
   "source": [
    "col_his1 = ['open_1', 'high_1', 'low_1', 'close_1', 'vol_1']\n",
    "col_his2 = ['open_2', 'high_2', 'low_2', 'close_2', 'vol_2']"
   ]
  },
  {
   "cell_type": "code",
   "execution_count": 12,
   "id": "8a6b4bac",
   "metadata": {},
   "outputs": [],
   "source": [
    "col_common1 = [\"dji_cr\", \"dji_f_cr\", \"dxy_cr\", \"ixic_f_cr\", \"bond_kor_10_cr\", \"bond_kor_2_cr\", \"kosdaq_cr\", \"kospi_cr\", \n",
    "         \"krw_cr\", \"ixic_cr\", \"spx_f_cr\", \"sox_cr\", \"spx_cr\", \"bond_usa_10_cr\", \"bond_usa_2_cr\", \"bond_usa_3m_cr\", \n",
    "         \"vix_cr\", \"wti_cr\", \"spsy_cr\", \"spny_cr\", \"spxhc_cr\", \"splrcd_cr\", \"splrci_cr\", \"splrcu_cr\", \"splrcs_cr\",\n",
    "         \"splrct_cr\", \"splrcl_cr\", \"splrcm_cr\", \"ixbk_cr\", \"ixfn_cr\", \"ixid_cr\", \"ixis_cr\", \"ixk_cr\", \"ixtr_cr\",\n",
    "         \"ixut_cr\", \"nbi_cr\", \"bkx_cr\"]\n",
    "col_common2 = [\"dji_cr_2\", \"dji_f_cr_2\", \"dxy_cr_2\", \"ixic_f_cr_2\", \"bond_kor_10_cr_2\", \"bond_kor_2_cr_2\", \"kosdaq_cr_2\", \"kospi_cr_2\",\n",
    "         \"krw_cr_2\", \"ixic_cr_2\", \"spx_f_cr_2\", \"sox_cr_2\", \"spx_cr_2\", \"bond_usa_10_cr_2\", \"bond_usa_2_cr_2\", \"bond_usa_3m_cr_2\",\n",
    "         \"vix_cr_2\", \"wti_cr_2\", \"spsy_cr_2\", \"spny_cr_2\", \"spxhc_cr_2\", \"splrcd_cr_2\", \"splrci_cr_2\", \"splrcu_cr_2\",\n",
    "         \"splrcs_cr_2\", \"splrct_cr_2\", \"splrcl_cr_2\", \"splrcm_cr_2\", \"ixbk_cr_2\", \"ixfn_cr_2\", \"ixid_cr_2\",\n",
    "         \"ixis_cr_2\", \"ixk_cr_2\", \"ixtr_cr_2\", \"ixut_cr_2\", \"nbi_cr_2\", \"bkx_cr_2\"]"
   ]
  },
  {
   "cell_type": "code",
   "execution_count": 13,
   "id": "9a595935",
   "metadata": {},
   "outputs": [],
   "source": [
    "col_cr = ['weekday', 'cr_00', 'cr_05', 'cr_10', 'cr_15', 'cr_20']"
   ]
  },
  {
   "cell_type": "code",
   "execution_count": 14,
   "id": "75ec6070",
   "metadata": {},
   "outputs": [],
   "source": [
    "col_col = col_inv1 + col_common1 + col_his1 + col_inv2 + col_common2 + col_his2 + col_cr"
   ]
  },
  {
   "cell_type": "code",
   "execution_count": 15,
   "id": "ff6769da",
   "metadata": {},
   "outputs": [],
   "source": [
    "# # write common data only\n",
    "# df_temp = df_common.copy()\n",
    "# df_temp = df_temp[col_common1+col_common2]\n",
    "# pkl_common_directory = './data/common_pkl/'\n",
    "# df_temp.to_pickle(pkl_common_directory + 'df_common.pkl')\n",
    "# df_temp.to_csv(pkl_common_directory + 'df_common.csv')"
   ]
  },
  {
   "cell_type": "code",
   "execution_count": 16,
   "id": "c78c8f82",
   "metadata": {},
   "outputs": [],
   "source": [
    "new_columns = col_col"
   ]
  },
  {
   "cell_type": "code",
   "execution_count": 17,
   "id": "02da1256",
   "metadata": {},
   "outputs": [],
   "source": [
    "# column 순서 변경 : weekday, 'cr_00', 'cr_05', 'cr_10', 'cr_15', 'cr_20' column을 마지막으로 이동 \n",
    "for key, val in code.items():\n",
    "    globals()['df_{}_combine'.format(val[1])] = globals()['df_{}_combine'.format(val[1])][new_columns]"
   ]
  },
  {
   "cell_type": "code",
   "execution_count": 18,
   "id": "d4f1fa06",
   "metadata": {},
   "outputs": [
    {
     "data": {
      "text/plain": [
       "'\\n# drop inf, -inf : replace inf to 1 or -1 . 데이터를 살리고\\n# 변동률이 무한대가 되는 것을 방지하기 위해서, 나중에 발생하는 에러를 방지\\ndf_sec_sel.replace([np.inf, -np.inf], [1, -1], inplace=True)\\n\\n.impute 사용하는 것을 고려할 필요 있음.\\n'"
      ]
     },
     "execution_count": 18,
     "metadata": {},
     "output_type": "execute_result"
    }
   ],
   "source": [
    "'''\n",
    "# drop inf, -inf : replace inf to 1 or -1 . 데이터를 살리고\n",
    "# 변동률이 무한대가 되는 것을 방지하기 위해서, 나중에 발생하는 에러를 방지\n",
    "df_sec_sel.replace([np.inf, -np.inf], [1, -1], inplace=True)\n",
    "\n",
    ".impute 사용하는 것을 고려할 필요 있음.\n",
    "'''"
   ]
  },
  {
   "cell_type": "code",
   "execution_count": 19,
   "id": "7e91c1c5",
   "metadata": {},
   "outputs": [],
   "source": [
    "# drop inf, -inf : replace inf to 1 or -1 . 데이터를 살리고\n",
    "# 변동률이 무한대가 되는 것을 방지하기 위해서, 나중에 발생하는 에러를 방지\n",
    "for key, val in code.items():\n",
    "    globals()['df_{}_combine'.format(val[1])].replace([np.inf, -np.inf], [1, -1], inplace=True)\n",
    "\n",
    "# **** 데이터 전처리 from sklearn.impute import SimpleImputer, SimpleImputer 사용하기로 함."
   ]
  },
  {
   "cell_type": "code",
   "execution_count": 20,
   "id": "3fa3914b",
   "metadata": {},
   "outputs": [
    {
     "data": {
      "text/html": [
       "<div>\n",
       "<style scoped>\n",
       "    .dataframe tbody tr th:only-of-type {\n",
       "        vertical-align: middle;\n",
       "    }\n",
       "\n",
       "    .dataframe tbody tr th {\n",
       "        vertical-align: top;\n",
       "    }\n",
       "\n",
       "    .dataframe thead th {\n",
       "        text-align: right;\n",
       "    }\n",
       "</style>\n",
       "<table border=\"1\" class=\"dataframe\">\n",
       "  <thead>\n",
       "    <tr style=\"text-align: right;\">\n",
       "      <th></th>\n",
       "      <th>retail_1</th>\n",
       "      <th>foreigner_1</th>\n",
       "      <th>institution_1</th>\n",
       "      <th>financial_1</th>\n",
       "      <th>invtrust_1</th>\n",
       "      <th>pension_1</th>\n",
       "      <th>privequity_1</th>\n",
       "      <th>bank_1</th>\n",
       "      <th>insurance_1</th>\n",
       "      <th>financeetc_1</th>\n",
       "      <th>...</th>\n",
       "      <th>high_2</th>\n",
       "      <th>low_2</th>\n",
       "      <th>close_2</th>\n",
       "      <th>vol_2</th>\n",
       "      <th>weekday</th>\n",
       "      <th>cr_00</th>\n",
       "      <th>cr_05</th>\n",
       "      <th>cr_10</th>\n",
       "      <th>cr_15</th>\n",
       "      <th>cr_20</th>\n",
       "    </tr>\n",
       "  </thead>\n",
       "  <tbody>\n",
       "    <tr>\n",
       "      <th>2024-01-11</th>\n",
       "      <td>-0.06529</td>\n",
       "      <td>-0.01295</td>\n",
       "      <td>-0.19388</td>\n",
       "      <td>-0.73442</td>\n",
       "      <td>0.46169</td>\n",
       "      <td>-0.63158</td>\n",
       "      <td>-0.53397</td>\n",
       "      <td>-2.33916</td>\n",
       "      <td>0.11167</td>\n",
       "      <td>0.26023</td>\n",
       "      <td>...</td>\n",
       "      <td>-0.02968</td>\n",
       "      <td>-0.04188</td>\n",
       "      <td>-0.03791</td>\n",
       "      <td>0.82704</td>\n",
       "      <td>2</td>\n",
       "      <td>0</td>\n",
       "      <td>0</td>\n",
       "      <td>0</td>\n",
       "      <td>0</td>\n",
       "      <td>0</td>\n",
       "    </tr>\n",
       "    <tr>\n",
       "      <th>2024-01-12</th>\n",
       "      <td>2.35980</td>\n",
       "      <td>-17.87191</td>\n",
       "      <td>29.04429</td>\n",
       "      <td>-6.85894</td>\n",
       "      <td>-1.25335</td>\n",
       "      <td>-0.02173</td>\n",
       "      <td>-0.85626</td>\n",
       "      <td>600.82422</td>\n",
       "      <td>2.61466</td>\n",
       "      <td>-1.76753</td>\n",
       "      <td>...</td>\n",
       "      <td>-0.05277</td>\n",
       "      <td>-0.02153</td>\n",
       "      <td>-0.02008</td>\n",
       "      <td>1.21725</td>\n",
       "      <td>3</td>\n",
       "      <td>0</td>\n",
       "      <td>0</td>\n",
       "      <td>0</td>\n",
       "      <td>0</td>\n",
       "      <td>0</td>\n",
       "    </tr>\n",
       "    <tr>\n",
       "      <th>2024-01-15</th>\n",
       "      <td>-0.85829</td>\n",
       "      <td>-1.01788</td>\n",
       "      <td>-0.97572</td>\n",
       "      <td>-0.67806</td>\n",
       "      <td>-2.10165</td>\n",
       "      <td>-0.67586</td>\n",
       "      <td>0.57644</td>\n",
       "      <td>-1.00037</td>\n",
       "      <td>-0.94281</td>\n",
       "      <td>-0.84433</td>\n",
       "      <td>...</td>\n",
       "      <td>-0.01463</td>\n",
       "      <td>-0.00546</td>\n",
       "      <td>-0.00679</td>\n",
       "      <td>-0.35640</td>\n",
       "      <td>4</td>\n",
       "      <td>1</td>\n",
       "      <td>1</td>\n",
       "      <td>1</td>\n",
       "      <td>0</td>\n",
       "      <td>0</td>\n",
       "    </tr>\n",
       "    <tr>\n",
       "      <th>2024-01-16</th>\n",
       "      <td>-2.00354</td>\n",
       "      <td>-2.98722</td>\n",
       "      <td>-1.35871</td>\n",
       "      <td>-2.17114</td>\n",
       "      <td>-0.82002</td>\n",
       "      <td>1.16564</td>\n",
       "      <td>-0.71645</td>\n",
       "      <td>-0.88228</td>\n",
       "      <td>-2.02813</td>\n",
       "      <td>-8.47826</td>\n",
       "      <td>...</td>\n",
       "      <td>0.00543</td>\n",
       "      <td>0.00688</td>\n",
       "      <td>0.00956</td>\n",
       "      <td>-0.77098</td>\n",
       "      <td>0</td>\n",
       "      <td>0</td>\n",
       "      <td>0</td>\n",
       "      <td>0</td>\n",
       "      <td>0</td>\n",
       "      <td>0</td>\n",
       "    </tr>\n",
       "    <tr>\n",
       "      <th>2024-01-17</th>\n",
       "      <td>-2.97247</td>\n",
       "      <td>-1.91798</td>\n",
       "      <td>-6.59449</td>\n",
       "      <td>-3.66426</td>\n",
       "      <td>-3.33979</td>\n",
       "      <td>-0.15914</td>\n",
       "      <td>0.74657</td>\n",
       "      <td>18.20000</td>\n",
       "      <td>-4.39666</td>\n",
       "      <td>-0.05814</td>\n",
       "      <td>...</td>\n",
       "      <td>-0.00540</td>\n",
       "      <td>-0.00412</td>\n",
       "      <td>-0.00684</td>\n",
       "      <td>0.13203</td>\n",
       "      <td>1</td>\n",
       "      <td>0</td>\n",
       "      <td>0</td>\n",
       "      <td>0</td>\n",
       "      <td>0</td>\n",
       "      <td>0</td>\n",
       "    </tr>\n",
       "  </tbody>\n",
       "</table>\n",
       "<p>5 rows × 114 columns</p>\n",
       "</div>"
      ],
      "text/plain": [
       "            retail_1  foreigner_1  institution_1  financial_1  invtrust_1  \\\n",
       "2024-01-11  -0.06529     -0.01295       -0.19388     -0.73442     0.46169   \n",
       "2024-01-12   2.35980    -17.87191       29.04429     -6.85894    -1.25335   \n",
       "2024-01-15  -0.85829     -1.01788       -0.97572     -0.67806    -2.10165   \n",
       "2024-01-16  -2.00354     -2.98722       -1.35871     -2.17114    -0.82002   \n",
       "2024-01-17  -2.97247     -1.91798       -6.59449     -3.66426    -3.33979   \n",
       "\n",
       "            pension_1  privequity_1     bank_1  insurance_1  financeetc_1  \\\n",
       "2024-01-11   -0.63158      -0.53397   -2.33916      0.11167       0.26023   \n",
       "2024-01-12   -0.02173      -0.85626  600.82422      2.61466      -1.76753   \n",
       "2024-01-15   -0.67586       0.57644   -1.00037     -0.94281      -0.84433   \n",
       "2024-01-16    1.16564      -0.71645   -0.88228     -2.02813      -8.47826   \n",
       "2024-01-17   -0.15914       0.74657   18.20000     -4.39666      -0.05814   \n",
       "\n",
       "            ...   high_2    low_2  close_2    vol_2  weekday  cr_00 cr_05  \\\n",
       "2024-01-11  ... -0.02968 -0.04188 -0.03791  0.82704        2      0     0   \n",
       "2024-01-12  ... -0.05277 -0.02153 -0.02008  1.21725        3      0     0   \n",
       "2024-01-15  ... -0.01463 -0.00546 -0.00679 -0.35640        4      1     1   \n",
       "2024-01-16  ...  0.00543  0.00688  0.00956 -0.77098        0      0     0   \n",
       "2024-01-17  ... -0.00540 -0.00412 -0.00684  0.13203        1      0     0   \n",
       "\n",
       "           cr_10  cr_15  cr_20  \n",
       "2024-01-11     0      0      0  \n",
       "2024-01-12     0      0      0  \n",
       "2024-01-15     1      0      0  \n",
       "2024-01-16     0      0      0  \n",
       "2024-01-17     0      0      0  \n",
       "\n",
       "[5 rows x 114 columns]"
      ]
     },
     "execution_count": 20,
     "metadata": {},
     "output_type": "execute_result"
    }
   ],
   "source": [
    "df_sec_combine.tail()"
   ]
  },
  {
   "cell_type": "code",
   "execution_count": 21,
   "id": "bf7224df",
   "metadata": {},
   "outputs": [],
   "source": [
    "nanlo = locate_nan(df_sec_combine)  # nan 위치 찾기"
   ]
  },
  {
   "cell_type": "code",
   "execution_count": 22,
   "id": "2f63d7f5",
   "metadata": {},
   "outputs": [
    {
     "name": "stdout",
     "output_type": "stream",
     "text": [
      "[[datetime.date(2022, 1, 7) 'dji_cr']\n",
      " [datetime.date(2022, 1, 7) 'dji_f_cr']\n",
      " [datetime.date(2022, 1, 7) 'dxy_cr']\n",
      " ...\n",
      " [datetime.date(2024, 1, 17) 'ixut_cr_2']\n",
      " [datetime.date(2024, 1, 17) 'nbi_cr_2']\n",
      " [datetime.date(2024, 1, 17) 'bkx_cr_2']]\n"
     ]
    }
   ],
   "source": [
    "print(nanlo)"
   ]
  },
  {
   "cell_type": "code",
   "execution_count": 23,
   "id": "21a6d628",
   "metadata": {},
   "outputs": [],
   "source": [
    "# delete rows which include NaN : dji, spx, nasdaq 기타 common 지수중 한개라도 nan인 rows 제거\n",
    "for key, val in code.items():\n",
    "    globals()['df_{}_combine'.format(val[1])].dropna(inplace=True)"
   ]
  },
  {
   "cell_type": "code",
   "execution_count": 24,
   "id": "c6f3061c",
   "metadata": {},
   "outputs": [],
   "source": [
    "# string column을 numeric으로 전환\n",
    "def string_to_num(df):\n",
    "    df.replace('%', '', regex=True, inplace=True)\n",
    "    df = df.apply(pd.to_numeric)\n",
    "    return df\n",
    "\n",
    "for key, val in code.items():\n",
    "    globals()['df_{}_combine'.format(val[1])] = string_to_num(globals()['df_{}_combine'.format(val[1])])"
   ]
  },
  {
   "cell_type": "code",
   "execution_count": 25,
   "id": "7e8d5acf",
   "metadata": {},
   "outputs": [],
   "source": [
    "# pickle로 데이터 저장\n",
    "\n",
    "for key, val in code.items():\n",
    "    globals()[f'df_{val[1]}_combine'].to_pickle(directory_for_predict + f'df_{val[1]}_combine.pkl')\n",
    "    globals()[f'df_{val[1]}_combine'].to_csv(directory_for_predict + f'df_{val[1]}_combine.csv')"
   ]
  },
  {
   "cell_type": "code",
   "execution_count": null,
   "id": "a01825d3",
   "metadata": {},
   "outputs": [],
   "source": []
  },
  {
   "cell_type": "code",
   "execution_count": null,
   "id": "3300e5b2",
   "metadata": {},
   "outputs": [],
   "source": []
  },
  {
   "cell_type": "code",
   "execution_count": null,
   "id": "1ffeab80",
   "metadata": {},
   "outputs": [],
   "source": []
  },
  {
   "cell_type": "code",
   "execution_count": null,
   "id": "a1f7c9d1",
   "metadata": {},
   "outputs": [],
   "source": []
  },
  {
   "cell_type": "code",
   "execution_count": null,
   "id": "bc80b897",
   "metadata": {},
   "outputs": [],
   "source": []
  }
 ],
 "metadata": {
  "kernelspec": {
   "display_name": "Python 3 (ipykernel)",
   "language": "python",
   "name": "python3"
  },
  "language_info": {
   "codemirror_mode": {
    "name": "ipython",
    "version": 3
   },
   "file_extension": ".py",
   "mimetype": "text/x-python",
   "name": "python",
   "nbconvert_exporter": "python",
   "pygments_lexer": "ipython3",
   "version": "3.10.7"
  }
 },
 "nbformat": 4,
 "nbformat_minor": 5
}
