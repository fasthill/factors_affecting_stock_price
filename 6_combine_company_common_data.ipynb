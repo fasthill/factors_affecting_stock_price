{
 "cells": [
  {
   "cell_type": "markdown",
   "id": "459ff0ca",
   "metadata": {},
   "source": [
    "## combine company data and common data"
   ]
  },
  {
   "cell_type": "code",
   "execution_count": 1,
   "id": "d3b5a935",
   "metadata": {},
   "outputs": [],
   "source": [
    "import datetime, time\n",
    "from datetime import date\n",
    "\n",
    "import pandas as pd\n",
    "import numpy as np\n",
    "import os\n",
    "import sys\n",
    "\n",
    "from sklearn.preprocessing import StandardScaler"
   ]
  },
  {
   "cell_type": "code",
   "execution_count": 2,
   "id": "8ef51f99",
   "metadata": {},
   "outputs": [],
   "source": [
    "module_path = os.path.abspath(os.path.join('.')) \n",
    "sys.path.append(module_path+\"\\\\data\\\\constant\")\n",
    "\n",
    "from constants import COMPANY_CODE"
   ]
  },
  {
   "cell_type": "code",
   "execution_count": 3,
   "id": "9ea60572",
   "metadata": {},
   "outputs": [
    {
     "data": {
      "text/plain": [
       "\" \\n[[datetime.date(2022, 1, 17) 'dji_cr']\\n [datetime.date(2022, 1, 17) 'dji_f_cr']\\n ...\\n [datetime.date(2023, 5, 23) 'kosdaq_cr']\\n [datetime.date(2023, 5, 23) 'kosdaq_cr_2']]\\n\""
      ]
     },
     "execution_count": 3,
     "metadata": {},
     "output_type": "execute_result"
    }
   ],
   "source": [
    "def locate_nan(df):\n",
    "    idx, idy = np.where(pd.isnull(df))\n",
    "    result = np.column_stack([df.index[idx], df.columns[idy]])\n",
    "    return result\n",
    "\n",
    "# return format\n",
    "''' \n",
    "[[datetime.date(2022, 1, 17) 'dji_cr']\n",
    " [datetime.date(2022, 1, 17) 'dji_f_cr']\n",
    " ...\n",
    " [datetime.date(2023, 5, 23) 'kosdaq_cr']\n",
    " [datetime.date(2023, 5, 23) 'kosdaq_cr_2']]\n",
    "'''"
   ]
  },
  {
   "cell_type": "code",
   "execution_count": 4,
   "id": "d6f9e0c8",
   "metadata": {},
   "outputs": [],
   "source": [
    "code = COMPANY_CODE\n",
    "\n",
    "# code = {'005930': ['삼성전자', 'sec'], '005380': ['현대차', 'hyunmotor'],\n",
    "#                  '035420': ['NAVER', 'naver'], '033780': ['KT&G', 'ktng']}\n",
    "# code = {'005930': ['삼성전자', 'sec'], '000660': ['SK하이닉스', 'skhynix']}\n",
    "# code = {'302440': ['SK바이오사이언스', 'skbio']}"
   ]
  },
  {
   "cell_type": "code",
   "execution_count": 5,
   "id": "1ced9635",
   "metadata": {},
   "outputs": [],
   "source": [
    "directory_for_predict = './data/data_for_ml/predict/'\n",
    "pkl_common_directory = './data/common_pkl/'\n",
    "pkl_directory = './data/common_pkl/'"
   ]
  },
  {
   "cell_type": "code",
   "execution_count": 6,
   "id": "a4ac3c16",
   "metadata": {},
   "outputs": [],
   "source": [
    "df_common = pd.read_pickle(directory_for_predict + '0_df_common.pkl')"
   ]
  },
  {
   "cell_type": "code",
   "execution_count": 7,
   "id": "82d5ae58",
   "metadata": {},
   "outputs": [],
   "source": [
    "for key, val in code.items():\n",
    "    df_company = pd.read_pickle(directory_for_predict + f'df_{val[1]}_company.pkl')\n",
    "    df_company = df_company.merge(df_common, how='left', left_index=True, right_index=True)\n",
    "    globals()[f'df_{val[1]}_combine'] = df_company.copy()"
   ]
  },
  {
   "cell_type": "code",
   "execution_count": 8,
   "id": "6c798e31",
   "metadata": {},
   "outputs": [
    {
     "data": {
      "text/html": [
       "<div>\n",
       "<style scoped>\n",
       "    .dataframe tbody tr th:only-of-type {\n",
       "        vertical-align: middle;\n",
       "    }\n",
       "\n",
       "    .dataframe tbody tr th {\n",
       "        vertical-align: top;\n",
       "    }\n",
       "\n",
       "    .dataframe thead th {\n",
       "        text-align: right;\n",
       "    }\n",
       "</style>\n",
       "<table border=\"1\" class=\"dataframe\">\n",
       "  <thead>\n",
       "    <tr style=\"text-align: right;\">\n",
       "      <th></th>\n",
       "      <th>retail_1</th>\n",
       "      <th>foreigner_1</th>\n",
       "      <th>institution_1</th>\n",
       "      <th>financial_1</th>\n",
       "      <th>invtrust_1</th>\n",
       "      <th>pension_1</th>\n",
       "      <th>privequity_1</th>\n",
       "      <th>bank_1</th>\n",
       "      <th>insurance_1</th>\n",
       "      <th>financeetc_1</th>\n",
       "      <th>...</th>\n",
       "      <th>ixk_cr</th>\n",
       "      <th>ixk_cr_2</th>\n",
       "      <th>ixtr_cr</th>\n",
       "      <th>ixtr_cr_2</th>\n",
       "      <th>ixut_cr</th>\n",
       "      <th>ixut_cr_2</th>\n",
       "      <th>nbi_cr</th>\n",
       "      <th>nbi_cr_2</th>\n",
       "      <th>bkx_cr</th>\n",
       "      <th>bkx_cr_2</th>\n",
       "    </tr>\n",
       "  </thead>\n",
       "  <tbody>\n",
       "    <tr>\n",
       "      <th>2024-06-14</th>\n",
       "      <td>-27.51866</td>\n",
       "      <td>11.85543</td>\n",
       "      <td>0.11373</td>\n",
       "      <td>-1.49486</td>\n",
       "      <td>6.74556</td>\n",
       "      <td>-8.47248</td>\n",
       "      <td>-0.49506</td>\n",
       "      <td>74.60000</td>\n",
       "      <td>-1.12062</td>\n",
       "      <td>1.11321</td>\n",
       "      <td>...</td>\n",
       "      <td>0.88%</td>\n",
       "      <td>3.06991</td>\n",
       "      <td>-0.80%</td>\n",
       "      <td>0.14996</td>\n",
       "      <td>-0.22%</td>\n",
       "      <td>-1.40420</td>\n",
       "      <td>-0.15%</td>\n",
       "      <td>0.57635</td>\n",
       "      <td>-0.53%</td>\n",
       "      <td>0.85923</td>\n",
       "    </tr>\n",
       "    <tr>\n",
       "      <th>2024-06-17</th>\n",
       "      <td>-1.33319</td>\n",
       "      <td>-0.62431</td>\n",
       "      <td>6.32584</td>\n",
       "      <td>0.72729</td>\n",
       "      <td>0.99119</td>\n",
       "      <td>-0.61536</td>\n",
       "      <td>-0.78916</td>\n",
       "      <td>-1.73545</td>\n",
       "      <td>7.84267</td>\n",
       "      <td>-0.82143</td>\n",
       "      <td>...</td>\n",
       "      <td>0.50%</td>\n",
       "      <td>1.38729</td>\n",
       "      <td>-1.18%</td>\n",
       "      <td>-1.97354</td>\n",
       "      <td>0.10%</td>\n",
       "      <td>-0.12017</td>\n",
       "      <td>-0.79%</td>\n",
       "      <td>-0.93888</td>\n",
       "      <td>-0.63%</td>\n",
       "      <td>-1.16268</td>\n",
       "    </tr>\n",
       "    <tr>\n",
       "      <th>2024-06-18</th>\n",
       "      <td>-6.88319</td>\n",
       "      <td>2.94850</td>\n",
       "      <td>-2.20139</td>\n",
       "      <td>-2.72226</td>\n",
       "      <td>-1.45876</td>\n",
       "      <td>-0.71157</td>\n",
       "      <td>-6.51548</td>\n",
       "      <td>-8.38129</td>\n",
       "      <td>-1.32328</td>\n",
       "      <td>0.40000</td>\n",
       "      <td>...</td>\n",
       "      <td>1.05%</td>\n",
       "      <td>1.55851</td>\n",
       "      <td>1.17%</td>\n",
       "      <td>-0.02920</td>\n",
       "      <td>0.47%</td>\n",
       "      <td>0.57072</td>\n",
       "      <td>-0.74%</td>\n",
       "      <td>-1.52237</td>\n",
       "      <td>1.12%</td>\n",
       "      <td>0.47549</td>\n",
       "    </tr>\n",
       "    <tr>\n",
       "      <th>2024-06-19</th>\n",
       "      <td>-0.63327</td>\n",
       "      <td>-0.89024</td>\n",
       "      <td>-0.40404</td>\n",
       "      <td>-1.26041</td>\n",
       "      <td>-0.14646</td>\n",
       "      <td>-0.60692</td>\n",
       "      <td>1.08041</td>\n",
       "      <td>-0.45468</td>\n",
       "      <td>-0.13619</td>\n",
       "      <td>29.89286</td>\n",
       "      <td>...</td>\n",
       "      <td>NaN</td>\n",
       "      <td>NaN</td>\n",
       "      <td>NaN</td>\n",
       "      <td>NaN</td>\n",
       "      <td>NaN</td>\n",
       "      <td>NaN</td>\n",
       "      <td>NaN</td>\n",
       "      <td>NaN</td>\n",
       "      <td>NaN</td>\n",
       "      <td>NaN</td>\n",
       "    </tr>\n",
       "    <tr>\n",
       "      <th>2024-06-20</th>\n",
       "      <td>0.41323</td>\n",
       "      <td>1.44265</td>\n",
       "      <td>-0.20511</td>\n",
       "      <td>-4.29756</td>\n",
       "      <td>-0.87996</td>\n",
       "      <td>1.16647</td>\n",
       "      <td>-1.12965</td>\n",
       "      <td>-1.86148</td>\n",
       "      <td>0.76458</td>\n",
       "      <td>-0.55145</td>\n",
       "      <td>...</td>\n",
       "      <td>0.18%</td>\n",
       "      <td>1.23516</td>\n",
       "      <td>0.23%</td>\n",
       "      <td>1.40606</td>\n",
       "      <td>-0.34%</td>\n",
       "      <td>0.13077</td>\n",
       "      <td>-0.93%</td>\n",
       "      <td>-1.65994</td>\n",
       "      <td>0.96%</td>\n",
       "      <td>2.08355</td>\n",
       "    </tr>\n",
       "  </tbody>\n",
       "</table>\n",
       "<p>5 rows × 114 columns</p>\n",
       "</div>"
      ],
      "text/plain": [
       "            retail_1  foreigner_1  institution_1  financial_1  invtrust_1  \\\n",
       "2024-06-14 -27.51866     11.85543        0.11373     -1.49486     6.74556   \n",
       "2024-06-17  -1.33319     -0.62431        6.32584      0.72729     0.99119   \n",
       "2024-06-18  -6.88319      2.94850       -2.20139     -2.72226    -1.45876   \n",
       "2024-06-19  -0.63327     -0.89024       -0.40404     -1.26041    -0.14646   \n",
       "2024-06-20   0.41323      1.44265       -0.20511     -4.29756    -0.87996   \n",
       "\n",
       "            pension_1  privequity_1    bank_1  insurance_1  financeetc_1  ...  \\\n",
       "2024-06-14   -8.47248      -0.49506  74.60000     -1.12062       1.11321  ...   \n",
       "2024-06-17   -0.61536      -0.78916  -1.73545      7.84267      -0.82143  ...   \n",
       "2024-06-18   -0.71157      -6.51548  -8.38129     -1.32328       0.40000  ...   \n",
       "2024-06-19   -0.60692       1.08041  -0.45468     -0.13619      29.89286  ...   \n",
       "2024-06-20    1.16647      -1.12965  -1.86148      0.76458      -0.55145  ...   \n",
       "\n",
       "            ixk_cr  ixk_cr_2  ixtr_cr  ixtr_cr_2  ixut_cr  ixut_cr_2  nbi_cr  \\\n",
       "2024-06-14   0.88%   3.06991   -0.80%    0.14996   -0.22%   -1.40420  -0.15%   \n",
       "2024-06-17   0.50%   1.38729   -1.18%   -1.97354    0.10%   -0.12017  -0.79%   \n",
       "2024-06-18   1.05%   1.55851    1.17%   -0.02920    0.47%    0.57072  -0.74%   \n",
       "2024-06-19     NaN       NaN      NaN        NaN      NaN        NaN     NaN   \n",
       "2024-06-20   0.18%   1.23516    0.23%    1.40606   -0.34%    0.13077  -0.93%   \n",
       "\n",
       "            nbi_cr_2  bkx_cr  bkx_cr_2  \n",
       "2024-06-14   0.57635  -0.53%   0.85923  \n",
       "2024-06-17  -0.93888  -0.63%  -1.16268  \n",
       "2024-06-18  -1.52237   1.12%   0.47549  \n",
       "2024-06-19       NaN     NaN       NaN  \n",
       "2024-06-20  -1.65994   0.96%   2.08355  \n",
       "\n",
       "[5 rows x 114 columns]"
      ]
     },
     "execution_count": 8,
     "metadata": {},
     "output_type": "execute_result"
    }
   ],
   "source": [
    "df_hyunmotor_combine.tail()"
   ]
  },
  {
   "cell_type": "code",
   "execution_count": 9,
   "id": "aeab3342",
   "metadata": {},
   "outputs": [
    {
     "data": {
      "text/plain": [
       "datetime.date(2022, 1, 7)"
      ]
     },
     "execution_count": 9,
     "metadata": {},
     "output_type": "execute_result"
    }
   ],
   "source": [
    "df_hyunmotor_combine.index[0]"
   ]
  },
  {
   "cell_type": "code",
   "execution_count": 10,
   "id": "587ac2cd",
   "metadata": {},
   "outputs": [],
   "source": [
    "col_inv1 = ['retail_1', 'foreigner_1', 'institution_1', 'financial_1', 'invtrust_1', 'pension_1', 'privequity_1', \n",
    "            'bank_1', 'insurance_1', 'financeetc_1', 'corporateetc_1', 'foreigneretc_1']\n",
    "col_inv2 = ['retail_2', 'foreigner_2', 'institution_2', 'financial_2', 'invtrust_2', 'pension_2',\n",
    "            'privequity_2', 'bank_2', 'insurance_2', 'financeetc_2', 'corporateetc_2', 'foreigneretc_2']"
   ]
  },
  {
   "cell_type": "code",
   "execution_count": 11,
   "id": "76ca8389",
   "metadata": {},
   "outputs": [],
   "source": [
    "col_his1 = ['open_1', 'high_1', 'low_1', 'close_1', 'vol_1']\n",
    "col_his2 = ['open_2', 'high_2', 'low_2', 'close_2', 'vol_2']"
   ]
  },
  {
   "cell_type": "code",
   "execution_count": 12,
   "id": "8a6b4bac",
   "metadata": {},
   "outputs": [],
   "source": [
    "col_common1 = [\"dji_cr\", \"dji_f_cr\", \"dxy_cr\", \"ixic_f_cr\", \"bond_kor_10_cr\", \"bond_kor_2_cr\", \"kosdaq_cr\", \"kospi_cr\", \n",
    "         \"krw_cr\", \"ixic_cr\", \"spx_f_cr\", \"sox_cr\", \"spx_cr\", \"bond_usa_10_cr\", \"bond_usa_2_cr\", \"bond_usa_3m_cr\", \n",
    "         \"vix_cr\", \"wti_cr\", \"spsy_cr\", \"spny_cr\", \"spxhc_cr\", \"splrcd_cr\", \"splrci_cr\", \"splrcu_cr\", \"splrcs_cr\",\n",
    "         \"splrct_cr\", \"splrcl_cr\", \"splrcm_cr\", \"ixbk_cr\", \"ixfn_cr\", \"ixid_cr\", \"ixis_cr\", \"ixk_cr\", \"ixtr_cr\",\n",
    "         \"ixut_cr\", \"nbi_cr\", \"bkx_cr\"]\n",
    "col_common2 = [\"dji_cr_2\", \"dji_f_cr_2\", \"dxy_cr_2\", \"ixic_f_cr_2\", \"bond_kor_10_cr_2\", \"bond_kor_2_cr_2\", \"kosdaq_cr_2\", \"kospi_cr_2\",\n",
    "         \"krw_cr_2\", \"ixic_cr_2\", \"spx_f_cr_2\", \"sox_cr_2\", \"spx_cr_2\", \"bond_usa_10_cr_2\", \"bond_usa_2_cr_2\", \"bond_usa_3m_cr_2\",\n",
    "         \"vix_cr_2\", \"wti_cr_2\", \"spsy_cr_2\", \"spny_cr_2\", \"spxhc_cr_2\", \"splrcd_cr_2\", \"splrci_cr_2\", \"splrcu_cr_2\",\n",
    "         \"splrcs_cr_2\", \"splrct_cr_2\", \"splrcl_cr_2\", \"splrcm_cr_2\", \"ixbk_cr_2\", \"ixfn_cr_2\", \"ixid_cr_2\",\n",
    "         \"ixis_cr_2\", \"ixk_cr_2\", \"ixtr_cr_2\", \"ixut_cr_2\", \"nbi_cr_2\", \"bkx_cr_2\"]"
   ]
  },
  {
   "cell_type": "code",
   "execution_count": 13,
   "id": "9a595935",
   "metadata": {},
   "outputs": [],
   "source": [
    "col_cr = ['weekday', 'cr_00', 'cr_05', 'cr_10', 'cr_15', 'cr_20']"
   ]
  },
  {
   "cell_type": "code",
   "execution_count": 14,
   "id": "75ec6070",
   "metadata": {},
   "outputs": [],
   "source": [
    "col_col = col_inv1 + col_common1 + col_his1 + col_inv2 + col_common2 + col_his2 + col_cr"
   ]
  },
  {
   "cell_type": "code",
   "execution_count": 15,
   "id": "ff6769da",
   "metadata": {},
   "outputs": [],
   "source": [
    "# # write common data only\n",
    "# df_temp = df_common.copy()\n",
    "# df_temp = df_temp[col_common1+col_common2]\n",
    "# pkl_common_directory = './data/common_pkl/'\n",
    "# df_temp.to_pickle(pkl_common_directory + 'df_common.pkl')\n",
    "# df_temp.to_csv(pkl_common_directory + 'df_common.csv')"
   ]
  },
  {
   "cell_type": "code",
   "execution_count": 16,
   "id": "c78c8f82",
   "metadata": {},
   "outputs": [],
   "source": [
    "new_columns = col_col"
   ]
  },
  {
   "cell_type": "code",
   "execution_count": 17,
   "id": "02da1256",
   "metadata": {},
   "outputs": [],
   "source": [
    "# column 순서 변경 : weekday, 'cr_00', 'cr_05', 'cr_10', 'cr_15', 'cr_20' column을 마지막으로 이동 \n",
    "for key, val in code.items():\n",
    "    globals()['df_{}_combine'.format(val[1])] = globals()['df_{}_combine'.format(val[1])][new_columns]"
   ]
  },
  {
   "cell_type": "code",
   "execution_count": 18,
   "id": "d4f1fa06",
   "metadata": {},
   "outputs": [
    {
     "data": {
      "text/plain": [
       "'\\n# drop inf, -inf : replace inf to 1 or -1 . 데이터를 살리고\\n# 변동률이 무한대가 되는 것을 방지하기 위해서, 나중에 발생하는 에러를 방지\\ndf_sec_sel.replace([np.inf, -np.inf], [1, -1], inplace=True)\\n\\n.impute 사용하는 것을 고려할 필요 있음.\\n'"
      ]
     },
     "execution_count": 18,
     "metadata": {},
     "output_type": "execute_result"
    }
   ],
   "source": [
    "'''\n",
    "# drop inf, -inf : replace inf to 1 or -1 . 데이터를 살리고\n",
    "# 변동률이 무한대가 되는 것을 방지하기 위해서, 나중에 발생하는 에러를 방지\n",
    "df_sec_sel.replace([np.inf, -np.inf], [1, -1], inplace=True)\n",
    "\n",
    ".impute 사용하는 것을 고려할 필요 있음.\n",
    "'''"
   ]
  },
  {
   "cell_type": "code",
   "execution_count": 19,
   "id": "7e91c1c5",
   "metadata": {},
   "outputs": [],
   "source": [
    "# drop inf, -inf : replace inf to 1 or -1 . 데이터를 살리고\n",
    "# 변동률이 무한대가 되는 것을 방지하기 위해서, 나중에 발생하는 에러를 방지\n",
    "for key, val in code.items():\n",
    "    globals()['df_{}_combine'.format(val[1])].replace([np.inf, -np.inf], [1, -1], inplace=True)\n",
    "\n",
    "# **** 데이터 전처리 from sklearn.impute import SimpleImputer, SimpleImputer 사용하기로 함."
   ]
  },
  {
   "cell_type": "code",
   "execution_count": 20,
   "id": "3fa3914b",
   "metadata": {},
   "outputs": [
    {
     "data": {
      "text/html": [
       "<div>\n",
       "<style scoped>\n",
       "    .dataframe tbody tr th:only-of-type {\n",
       "        vertical-align: middle;\n",
       "    }\n",
       "\n",
       "    .dataframe tbody tr th {\n",
       "        vertical-align: top;\n",
       "    }\n",
       "\n",
       "    .dataframe thead th {\n",
       "        text-align: right;\n",
       "    }\n",
       "</style>\n",
       "<table border=\"1\" class=\"dataframe\">\n",
       "  <thead>\n",
       "    <tr style=\"text-align: right;\">\n",
       "      <th></th>\n",
       "      <th>retail_1</th>\n",
       "      <th>foreigner_1</th>\n",
       "      <th>institution_1</th>\n",
       "      <th>financial_1</th>\n",
       "      <th>invtrust_1</th>\n",
       "      <th>pension_1</th>\n",
       "      <th>privequity_1</th>\n",
       "      <th>bank_1</th>\n",
       "      <th>insurance_1</th>\n",
       "      <th>financeetc_1</th>\n",
       "      <th>...</th>\n",
       "      <th>high_2</th>\n",
       "      <th>low_2</th>\n",
       "      <th>close_2</th>\n",
       "      <th>vol_2</th>\n",
       "      <th>weekday</th>\n",
       "      <th>cr_00</th>\n",
       "      <th>cr_05</th>\n",
       "      <th>cr_10</th>\n",
       "      <th>cr_15</th>\n",
       "      <th>cr_20</th>\n",
       "    </tr>\n",
       "  </thead>\n",
       "  <tbody>\n",
       "    <tr>\n",
       "      <th>2024-06-14</th>\n",
       "      <td>-30.64877</td>\n",
       "      <td>-30.16824</td>\n",
       "      <td>4.34041</td>\n",
       "      <td>-3.20819</td>\n",
       "      <td>-0.42527</td>\n",
       "      <td>-1.78043</td>\n",
       "      <td>0.50939</td>\n",
       "      <td>432.75000</td>\n",
       "      <td>-9.05443</td>\n",
       "      <td>-0.69249</td>\n",
       "      <td>...</td>\n",
       "      <td>0.03947</td>\n",
       "      <td>0.03595</td>\n",
       "      <td>0.04521</td>\n",
       "      <td>0.98948</td>\n",
       "      <td>3</td>\n",
       "      <td>1</td>\n",
       "      <td>1</td>\n",
       "      <td>1</td>\n",
       "      <td>0</td>\n",
       "      <td>0</td>\n",
       "    </tr>\n",
       "    <tr>\n",
       "      <th>2024-06-17</th>\n",
       "      <td>-0.51771</td>\n",
       "      <td>-0.43918</td>\n",
       "      <td>2.24906</td>\n",
       "      <td>0.69460</td>\n",
       "      <td>-12.01639</td>\n",
       "      <td>-0.96517</td>\n",
       "      <td>-1.06614</td>\n",
       "      <td>-1.11354</td>\n",
       "      <td>-0.28011</td>\n",
       "      <td>-0.39370</td>\n",
       "      <td>...</td>\n",
       "      <td>0.04410</td>\n",
       "      <td>0.05053</td>\n",
       "      <td>0.04052</td>\n",
       "      <td>0.19120</td>\n",
       "      <td>4</td>\n",
       "      <td>0</td>\n",
       "      <td>0</td>\n",
       "      <td>0</td>\n",
       "      <td>0</td>\n",
       "      <td>0</td>\n",
       "    </tr>\n",
       "    <tr>\n",
       "      <th>2024-06-18</th>\n",
       "      <td>-1.25797</td>\n",
       "      <td>-1.07995</td>\n",
       "      <td>-0.19663</td>\n",
       "      <td>-1.70766</td>\n",
       "      <td>-1.15516</td>\n",
       "      <td>-109.47780</td>\n",
       "      <td>12.61733</td>\n",
       "      <td>-2.79188</td>\n",
       "      <td>-0.28695</td>\n",
       "      <td>0.16883</td>\n",
       "      <td>...</td>\n",
       "      <td>0.00633</td>\n",
       "      <td>0.00257</td>\n",
       "      <td>-0.00636</td>\n",
       "      <td>-0.52248</td>\n",
       "      <td>0</td>\n",
       "      <td>1</td>\n",
       "      <td>1</td>\n",
       "      <td>1</td>\n",
       "      <td>1</td>\n",
       "      <td>1</td>\n",
       "    </tr>\n",
       "    <tr>\n",
       "      <th>2024-06-19</th>\n",
       "      <td>-4.83439</td>\n",
       "      <td>-11.53388</td>\n",
       "      <td>-1.43296</td>\n",
       "      <td>-0.34341</td>\n",
       "      <td>0.52709</td>\n",
       "      <td>-0.89892</td>\n",
       "      <td>-1.21767</td>\n",
       "      <td>-8.67422</td>\n",
       "      <td>0.46309</td>\n",
       "      <td>28.90000</td>\n",
       "      <td>...</td>\n",
       "      <td>-0.00373</td>\n",
       "      <td>-0.00506</td>\n",
       "      <td>0.00251</td>\n",
       "      <td>-0.20583</td>\n",
       "      <td>1</td>\n",
       "      <td>1</td>\n",
       "      <td>1</td>\n",
       "      <td>1</td>\n",
       "      <td>1</td>\n",
       "      <td>0</td>\n",
       "    </tr>\n",
       "    <tr>\n",
       "      <th>2024-06-20</th>\n",
       "      <td>0.15132</td>\n",
       "      <td>-0.46476</td>\n",
       "      <td>8.73442</td>\n",
       "      <td>5.23541</td>\n",
       "      <td>-0.00764</td>\n",
       "      <td>-0.24156</td>\n",
       "      <td>-1.95228</td>\n",
       "      <td>-0.81838</td>\n",
       "      <td>-0.24806</td>\n",
       "      <td>0.64809</td>\n",
       "      <td>...</td>\n",
       "      <td>0.03774</td>\n",
       "      <td>0.03205</td>\n",
       "      <td>0.03969</td>\n",
       "      <td>0.49096</td>\n",
       "      <td>2</td>\n",
       "      <td>0</td>\n",
       "      <td>0</td>\n",
       "      <td>0</td>\n",
       "      <td>0</td>\n",
       "      <td>0</td>\n",
       "    </tr>\n",
       "  </tbody>\n",
       "</table>\n",
       "<p>5 rows × 114 columns</p>\n",
       "</div>"
      ],
      "text/plain": [
       "            retail_1  foreigner_1  institution_1  financial_1  invtrust_1  \\\n",
       "2024-06-14 -30.64877    -30.16824        4.34041     -3.20819    -0.42527   \n",
       "2024-06-17  -0.51771     -0.43918        2.24906      0.69460   -12.01639   \n",
       "2024-06-18  -1.25797     -1.07995       -0.19663     -1.70766    -1.15516   \n",
       "2024-06-19  -4.83439    -11.53388       -1.43296     -0.34341     0.52709   \n",
       "2024-06-20   0.15132     -0.46476        8.73442      5.23541    -0.00764   \n",
       "\n",
       "            pension_1  privequity_1     bank_1  insurance_1  financeetc_1  \\\n",
       "2024-06-14   -1.78043       0.50939  432.75000     -9.05443      -0.69249   \n",
       "2024-06-17   -0.96517      -1.06614   -1.11354     -0.28011      -0.39370   \n",
       "2024-06-18 -109.47780      12.61733   -2.79188     -0.28695       0.16883   \n",
       "2024-06-19   -0.89892      -1.21767   -8.67422      0.46309      28.90000   \n",
       "2024-06-20   -0.24156      -1.95228   -0.81838     -0.24806       0.64809   \n",
       "\n",
       "            ...   high_2    low_2  close_2    vol_2  weekday  cr_00 cr_05  \\\n",
       "2024-06-14  ...  0.03947  0.03595  0.04521  0.98948        3      1     1   \n",
       "2024-06-17  ...  0.04410  0.05053  0.04052  0.19120        4      0     0   \n",
       "2024-06-18  ...  0.00633  0.00257 -0.00636 -0.52248        0      1     1   \n",
       "2024-06-19  ... -0.00373 -0.00506  0.00251 -0.20583        1      1     1   \n",
       "2024-06-20  ...  0.03774  0.03205  0.03969  0.49096        2      0     0   \n",
       "\n",
       "           cr_10  cr_15  cr_20  \n",
       "2024-06-14     1      0      0  \n",
       "2024-06-17     0      0      0  \n",
       "2024-06-18     1      1      1  \n",
       "2024-06-19     1      1      0  \n",
       "2024-06-20     0      0      0  \n",
       "\n",
       "[5 rows x 114 columns]"
      ]
     },
     "execution_count": 20,
     "metadata": {},
     "output_type": "execute_result"
    }
   ],
   "source": [
    "df_sec_combine.tail()"
   ]
  },
  {
   "cell_type": "code",
   "execution_count": 21,
   "id": "bf7224df",
   "metadata": {},
   "outputs": [],
   "source": [
    "nanlo = locate_nan(df_sec_combine)  # nan 위치 찾기"
   ]
  },
  {
   "cell_type": "code",
   "execution_count": 22,
   "id": "2f63d7f5",
   "metadata": {},
   "outputs": [
    {
     "name": "stdout",
     "output_type": "stream",
     "text": [
      "[[datetime.date(2022, 1, 18) 'dji_cr']\n",
      " [datetime.date(2022, 1, 18) 'dji_f_cr']\n",
      " [datetime.date(2022, 1, 18) 'dxy_cr']\n",
      " ...\n",
      " [datetime.date(2024, 6, 19) 'ixut_cr_2']\n",
      " [datetime.date(2024, 6, 19) 'nbi_cr_2']\n",
      " [datetime.date(2024, 6, 19) 'bkx_cr_2']]\n"
     ]
    }
   ],
   "source": [
    "print(nanlo)"
   ]
  },
  {
   "cell_type": "code",
   "execution_count": 23,
   "id": "21a6d628",
   "metadata": {},
   "outputs": [],
   "source": [
    "# delete rows which include NaN : dji, spx, nasdaq 기타 common 지수중 한개라도 nan인 rows 제거\n",
    "for key, val in code.items():\n",
    "    globals()['df_{}_combine'.format(val[1])].dropna(inplace=True)"
   ]
  },
  {
   "cell_type": "code",
   "execution_count": 24,
   "id": "c6f3061c",
   "metadata": {},
   "outputs": [],
   "source": [
    "# string column을 numeric으로 전환\n",
    "def string_to_num(df):\n",
    "    df.replace('%', '', regex=True, inplace=True)\n",
    "    df = df.apply(pd.to_numeric)\n",
    "    return df\n",
    "\n",
    "for key, val in code.items():\n",
    "    globals()['df_{}_combine'.format(val[1])] = string_to_num(globals()['df_{}_combine'.format(val[1])])"
   ]
  },
  {
   "cell_type": "code",
   "execution_count": 25,
   "id": "7e8d5acf",
   "metadata": {},
   "outputs": [],
   "source": [
    "# pickle로 데이터 저장\n",
    "\n",
    "for key, val in code.items():\n",
    "    globals()[f'df_{val[1]}_combine'].to_pickle(directory_for_predict + f'df_{val[1]}_combine.pkl')\n",
    "    globals()[f'df_{val[1]}_combine'].to_csv(directory_for_predict + f'df_{val[1]}_combine.csv')"
   ]
  },
  {
   "cell_type": "code",
   "execution_count": null,
   "id": "a01825d3",
   "metadata": {},
   "outputs": [],
   "source": []
  },
  {
   "cell_type": "code",
   "execution_count": null,
   "id": "3300e5b2",
   "metadata": {},
   "outputs": [],
   "source": []
  },
  {
   "cell_type": "code",
   "execution_count": null,
   "id": "1ffeab80",
   "metadata": {},
   "outputs": [],
   "source": []
  },
  {
   "cell_type": "code",
   "execution_count": null,
   "id": "a1f7c9d1",
   "metadata": {},
   "outputs": [],
   "source": []
  },
  {
   "cell_type": "code",
   "execution_count": null,
   "id": "bc80b897",
   "metadata": {},
   "outputs": [],
   "source": []
  }
 ],
 "metadata": {
  "kernelspec": {
   "display_name": "Python 3 (ipykernel)",
   "language": "python",
   "name": "python3"
  },
  "language_info": {
   "codemirror_mode": {
    "name": "ipython",
    "version": 3
   },
   "file_extension": ".py",
   "mimetype": "text/x-python",
   "name": "python",
   "nbconvert_exporter": "python",
   "pygments_lexer": "ipython3",
   "version": "3.12.2"
  }
 },
 "nbformat": 4,
 "nbformat_minor": 5
}
