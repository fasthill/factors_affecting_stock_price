{
 "cells": [
  {
   "cell_type": "markdown",
   "id": "459ff0ca",
   "metadata": {},
   "source": [
    "## combine company data and common data"
   ]
  },
  {
   "cell_type": "code",
   "execution_count": 1,
   "id": "d3b5a935",
   "metadata": {},
   "outputs": [],
   "source": [
    "import datetime, time\n",
    "from datetime import date\n",
    "\n",
    "import pandas as pd\n",
    "import numpy as np\n",
    "import os\n",
    "import sys\n",
    "\n",
    "from sklearn.preprocessing import StandardScaler"
   ]
  },
  {
   "cell_type": "code",
   "execution_count": 2,
   "id": "8ef51f99",
   "metadata": {},
   "outputs": [],
   "source": [
    "module_path = os.path.abspath(os.path.join('.')) \n",
    "sys.path.append(module_path+\"\\\\data\\\\constant\")\n",
    "\n",
    "from constants import COMPANY_CODE"
   ]
  },
  {
   "cell_type": "code",
   "execution_count": 3,
   "id": "9ea60572",
   "metadata": {},
   "outputs": [
    {
     "data": {
      "text/plain": [
       "\" \\n[[datetime.date(2022, 1, 17) 'dji_cr']\\n [datetime.date(2022, 1, 17) 'dji_f_cr']\\n ...\\n [datetime.date(2023, 5, 23) 'kosdaq_cr']\\n [datetime.date(2023, 5, 23) 'kosdaq_cr_2']]\\n\""
      ]
     },
     "execution_count": 3,
     "metadata": {},
     "output_type": "execute_result"
    }
   ],
   "source": [
    "def locate_nan(df):\n",
    "    idx, idy = np.where(pd.isnull(df))\n",
    "    result = np.column_stack([df.index[idx], df.columns[idy]])\n",
    "    return result\n",
    "\n",
    "# return format\n",
    "''' \n",
    "[[datetime.date(2022, 1, 17) 'dji_cr']\n",
    " [datetime.date(2022, 1, 17) 'dji_f_cr']\n",
    " ...\n",
    " [datetime.date(2023, 5, 23) 'kosdaq_cr']\n",
    " [datetime.date(2023, 5, 23) 'kosdaq_cr_2']]\n",
    "'''"
   ]
  },
  {
   "cell_type": "code",
   "execution_count": 4,
   "id": "d6f9e0c8",
   "metadata": {},
   "outputs": [],
   "source": [
    "code = COMPANY_CODE\n",
    "\n",
    "# code = {'005930': ['삼성전자', 'sec'], '005380': ['현대차', 'hyunmotor'],\n",
    "#                  '035420': ['NAVER', 'naver'], '033780': ['KT&G', 'ktng']}\n",
    "# code = {'005930': ['삼성전자', 'sec'], '000660': ['SK하이닉스', 'skhynix']}\n",
    "# code = {'302440': ['SK바이오사이언스', 'skbio']}"
   ]
  },
  {
   "cell_type": "code",
   "execution_count": 5,
   "id": "1ced9635",
   "metadata": {},
   "outputs": [],
   "source": [
    "directory_for_predict = './data/data_for_ml/predict/'\n",
    "pkl_common_directory = './data/common_pkl/'\n",
    "pkl_directory = './data/common_pkl/'"
   ]
  },
  {
   "cell_type": "code",
   "execution_count": 6,
   "id": "a4ac3c16",
   "metadata": {},
   "outputs": [],
   "source": [
    "df_common = pd.read_pickle(directory_for_predict + '0_df_common.pkl')"
   ]
  },
  {
   "cell_type": "code",
   "execution_count": 7,
   "id": "82d5ae58",
   "metadata": {},
   "outputs": [],
   "source": [
    "for key, val in code.items():\n",
    "    df_company = pd.read_pickle(directory_for_predict + f'df_{val[1]}_company.pkl')\n",
    "    df_company = df_company.merge(df_common, how='left', left_index=True, right_index=True)\n",
    "    globals()[f'df_{val[1]}_combine'] = df_company.copy()"
   ]
  },
  {
   "cell_type": "code",
   "execution_count": 8,
   "id": "6c798e31",
   "metadata": {},
   "outputs": [
    {
     "data": {
      "text/html": [
       "<div>\n",
       "<style scoped>\n",
       "    .dataframe tbody tr th:only-of-type {\n",
       "        vertical-align: middle;\n",
       "    }\n",
       "\n",
       "    .dataframe tbody tr th {\n",
       "        vertical-align: top;\n",
       "    }\n",
       "\n",
       "    .dataframe thead th {\n",
       "        text-align: right;\n",
       "    }\n",
       "</style>\n",
       "<table border=\"1\" class=\"dataframe\">\n",
       "  <thead>\n",
       "    <tr style=\"text-align: right;\">\n",
       "      <th></th>\n",
       "      <th>retail_1</th>\n",
       "      <th>foreigner_1</th>\n",
       "      <th>institution_1</th>\n",
       "      <th>financial_1</th>\n",
       "      <th>invtrust_1</th>\n",
       "      <th>pension_1</th>\n",
       "      <th>privequity_1</th>\n",
       "      <th>bank_1</th>\n",
       "      <th>insurance_1</th>\n",
       "      <th>financeetc_1</th>\n",
       "      <th>...</th>\n",
       "      <th>ixk_cr</th>\n",
       "      <th>ixk_cr_2</th>\n",
       "      <th>ixtr_cr</th>\n",
       "      <th>ixtr_cr_2</th>\n",
       "      <th>ixut_cr</th>\n",
       "      <th>ixut_cr_2</th>\n",
       "      <th>nbi_cr</th>\n",
       "      <th>nbi_cr_2</th>\n",
       "      <th>bkx_cr</th>\n",
       "      <th>bkx_cr_2</th>\n",
       "    </tr>\n",
       "  </thead>\n",
       "  <tbody>\n",
       "    <tr>\n",
       "      <th>2023-11-27</th>\n",
       "      <td>-0.90941</td>\n",
       "      <td>-1.40033</td>\n",
       "      <td>1.09442</td>\n",
       "      <td>-4.03330</td>\n",
       "      <td>-0.07899</td>\n",
       "      <td>-1.78521</td>\n",
       "      <td>-7.29740</td>\n",
       "      <td>0.83206</td>\n",
       "      <td>-0.75439</td>\n",
       "      <td>inf</td>\n",
       "      <td>...</td>\n",
       "      <td>-0.47%</td>\n",
       "      <td>-0.04764</td>\n",
       "      <td>0.49%</td>\n",
       "      <td>0.83208</td>\n",
       "      <td>0.35%</td>\n",
       "      <td>0.63101</td>\n",
       "      <td>0.55%</td>\n",
       "      <td>1.15198</td>\n",
       "      <td>0.32%</td>\n",
       "      <td>0.53502</td>\n",
       "    </tr>\n",
       "    <tr>\n",
       "      <th>2023-11-28</th>\n",
       "      <td>8.44819</td>\n",
       "      <td>-2.45810</td>\n",
       "      <td>0.10774</td>\n",
       "      <td>0.23656</td>\n",
       "      <td>-1.07290</td>\n",
       "      <td>-2.78924</td>\n",
       "      <td>-0.95455</td>\n",
       "      <td>1.20139</td>\n",
       "      <td>-2.71429</td>\n",
       "      <td>-1.00</td>\n",
       "      <td>...</td>\n",
       "      <td>-0.05%</td>\n",
       "      <td>-0.51524</td>\n",
       "      <td>-1.15%</td>\n",
       "      <td>-0.66719</td>\n",
       "      <td>-0.71%</td>\n",
       "      <td>-0.35491</td>\n",
       "      <td>-0.59%</td>\n",
       "      <td>-0.04344</td>\n",
       "      <td>-0.54%</td>\n",
       "      <td>-0.23052</td>\n",
       "    </tr>\n",
       "    <tr>\n",
       "      <th>2023-11-29</th>\n",
       "      <td>-0.67837</td>\n",
       "      <td>-1.76633</td>\n",
       "      <td>0.45303</td>\n",
       "      <td>1.50811</td>\n",
       "      <td>23.94118</td>\n",
       "      <td>3.00752</td>\n",
       "      <td>-8.09091</td>\n",
       "      <td>-0.67508</td>\n",
       "      <td>-1.30469</td>\n",
       "      <td>inf</td>\n",
       "      <td>...</td>\n",
       "      <td>0.44%</td>\n",
       "      <td>0.38740</td>\n",
       "      <td>-0.71%</td>\n",
       "      <td>-1.85109</td>\n",
       "      <td>-0.07%</td>\n",
       "      <td>-0.77755</td>\n",
       "      <td>-0.39%</td>\n",
       "      <td>-0.97105</td>\n",
       "      <td>0.32%</td>\n",
       "      <td>-0.22980</td>\n",
       "    </tr>\n",
       "    <tr>\n",
       "      <th>2023-11-30</th>\n",
       "      <td>-3.13598</td>\n",
       "      <td>-2.15527</td>\n",
       "      <td>-2.43967</td>\n",
       "      <td>-1.96656</td>\n",
       "      <td>-1.05660</td>\n",
       "      <td>-1.56223</td>\n",
       "      <td>-0.83700</td>\n",
       "      <td>-0.07184</td>\n",
       "      <td>-16.46154</td>\n",
       "      <td>-2.25</td>\n",
       "      <td>...</td>\n",
       "      <td>-0.25%</td>\n",
       "      <td>0.18049</td>\n",
       "      <td>-0.25%</td>\n",
       "      <td>-0.95575</td>\n",
       "      <td>0.16%</td>\n",
       "      <td>0.09094</td>\n",
       "      <td>0.92%</td>\n",
       "      <td>0.53303</td>\n",
       "      <td>1.99%</td>\n",
       "      <td>2.31058</td>\n",
       "    </tr>\n",
       "    <tr>\n",
       "      <th>2023-12-01</th>\n",
       "      <td>0.98683</td>\n",
       "      <td>-5.19989</td>\n",
       "      <td>-1.57714</td>\n",
       "      <td>-1.80960</td>\n",
       "      <td>-2.85833</td>\n",
       "      <td>-0.90879</td>\n",
       "      <td>3.85393</td>\n",
       "      <td>-0.97699</td>\n",
       "      <td>0.10392</td>\n",
       "      <td>-1.00</td>\n",
       "      <td>...</td>\n",
       "      <td>NaN</td>\n",
       "      <td>NaN</td>\n",
       "      <td>NaN</td>\n",
       "      <td>NaN</td>\n",
       "      <td>NaN</td>\n",
       "      <td>NaN</td>\n",
       "      <td>NaN</td>\n",
       "      <td>NaN</td>\n",
       "      <td>NaN</td>\n",
       "      <td>NaN</td>\n",
       "    </tr>\n",
       "  </tbody>\n",
       "</table>\n",
       "<p>5 rows × 114 columns</p>\n",
       "</div>"
      ],
      "text/plain": [
       "            retail_1  foreigner_1  institution_1  financial_1  invtrust_1   \n",
       "2023-11-27  -0.90941     -1.40033        1.09442     -4.03330    -0.07899  \\\n",
       "2023-11-28   8.44819     -2.45810        0.10774      0.23656    -1.07290   \n",
       "2023-11-29  -0.67837     -1.76633        0.45303      1.50811    23.94118   \n",
       "2023-11-30  -3.13598     -2.15527       -2.43967     -1.96656    -1.05660   \n",
       "2023-12-01   0.98683     -5.19989       -1.57714     -1.80960    -2.85833   \n",
       "\n",
       "            pension_1  privequity_1   bank_1  insurance_1  financeetc_1  ...   \n",
       "2023-11-27   -1.78521      -7.29740  0.83206     -0.75439           inf  ...  \\\n",
       "2023-11-28   -2.78924      -0.95455  1.20139     -2.71429         -1.00  ...   \n",
       "2023-11-29    3.00752      -8.09091 -0.67508     -1.30469           inf  ...   \n",
       "2023-11-30   -1.56223      -0.83700 -0.07184    -16.46154         -2.25  ...   \n",
       "2023-12-01   -0.90879       3.85393 -0.97699      0.10392         -1.00  ...   \n",
       "\n",
       "            ixk_cr  ixk_cr_2  ixtr_cr  ixtr_cr_2  ixut_cr  ixut_cr_2  nbi_cr   \n",
       "2023-11-27  -0.47%  -0.04764    0.49%    0.83208    0.35%    0.63101   0.55%  \\\n",
       "2023-11-28  -0.05%  -0.51524   -1.15%   -0.66719   -0.71%   -0.35491  -0.59%   \n",
       "2023-11-29   0.44%   0.38740   -0.71%   -1.85109   -0.07%   -0.77755  -0.39%   \n",
       "2023-11-30  -0.25%   0.18049   -0.25%   -0.95575    0.16%    0.09094   0.92%   \n",
       "2023-12-01     NaN       NaN      NaN        NaN      NaN        NaN     NaN   \n",
       "\n",
       "            nbi_cr_2  bkx_cr  bkx_cr_2  \n",
       "2023-11-27   1.15198   0.32%   0.53502  \n",
       "2023-11-28  -0.04344  -0.54%  -0.23052  \n",
       "2023-11-29  -0.97105   0.32%  -0.22980  \n",
       "2023-11-30   0.53303   1.99%   2.31058  \n",
       "2023-12-01       NaN     NaN       NaN  \n",
       "\n",
       "[5 rows x 114 columns]"
      ]
     },
     "execution_count": 8,
     "metadata": {},
     "output_type": "execute_result"
    }
   ],
   "source": [
    "df_hyunmotor_combine.tail()"
   ]
  },
  {
   "cell_type": "code",
   "execution_count": 9,
   "id": "aeab3342",
   "metadata": {},
   "outputs": [
    {
     "data": {
      "text/plain": [
       "datetime.date(2022, 1, 7)"
      ]
     },
     "execution_count": 9,
     "metadata": {},
     "output_type": "execute_result"
    }
   ],
   "source": [
    "df_hyunmotor_combine.index[0]"
   ]
  },
  {
   "cell_type": "code",
   "execution_count": 10,
   "id": "587ac2cd",
   "metadata": {},
   "outputs": [],
   "source": [
    "col_inv1 = ['retail_1', 'foreigner_1', 'institution_1', 'financial_1', 'invtrust_1', 'pension_1', 'privequity_1', \n",
    "            'bank_1', 'insurance_1', 'financeetc_1', 'corporateetc_1', 'foreigneretc_1']\n",
    "col_inv2 = ['retail_2', 'foreigner_2', 'institution_2', 'financial_2', 'invtrust_2', 'pension_2',\n",
    "            'privequity_2', 'bank_2', 'insurance_2', 'financeetc_2', 'corporateetc_2', 'foreigneretc_2']"
   ]
  },
  {
   "cell_type": "code",
   "execution_count": 11,
   "id": "76ca8389",
   "metadata": {},
   "outputs": [],
   "source": [
    "col_his1 = ['open_1', 'high_1', 'low_1', 'close_1', 'vol_1']\n",
    "col_his2 = ['open_2', 'high_2', 'low_2', 'close_2', 'vol_2']"
   ]
  },
  {
   "cell_type": "code",
   "execution_count": 12,
   "id": "8a6b4bac",
   "metadata": {},
   "outputs": [],
   "source": [
    "col_common1 = [\"dji_cr\", \"dji_f_cr\", \"dxy_cr\", \"ixic_f_cr\", \"bond_kor_10_cr\", \"bond_kor_2_cr\", \"kosdaq_cr\", \"kospi_cr\", \n",
    "         \"krw_cr\", \"ixic_cr\", \"spx_f_cr\", \"sox_cr\", \"spx_cr\", \"bond_usa_10_cr\", \"bond_usa_2_cr\", \"bond_usa_3m_cr\", \n",
    "         \"vix_cr\", \"wti_cr\", \"spsy_cr\", \"spny_cr\", \"spxhc_cr\", \"splrcd_cr\", \"splrci_cr\", \"splrcu_cr\", \"splrcs_cr\",\n",
    "         \"splrct_cr\", \"splrcl_cr\", \"splrcm_cr\", \"ixbk_cr\", \"ixfn_cr\", \"ixid_cr\", \"ixis_cr\", \"ixk_cr\", \"ixtr_cr\",\n",
    "         \"ixut_cr\", \"nbi_cr\", \"bkx_cr\"]\n",
    "col_common2 = [\"dji_cr_2\", \"dji_f_cr_2\", \"dxy_cr_2\", \"ixic_f_cr_2\", \"bond_kor_10_cr_2\", \"bond_kor_2_cr_2\", \"kosdaq_cr_2\", \"kospi_cr_2\",\n",
    "         \"krw_cr_2\", \"ixic_cr_2\", \"spx_f_cr_2\", \"sox_cr_2\", \"spx_cr_2\", \"bond_usa_10_cr_2\", \"bond_usa_2_cr_2\", \"bond_usa_3m_cr_2\",\n",
    "         \"vix_cr_2\", \"wti_cr_2\", \"spsy_cr_2\", \"spny_cr_2\", \"spxhc_cr_2\", \"splrcd_cr_2\", \"splrci_cr_2\", \"splrcu_cr_2\",\n",
    "         \"splrcs_cr_2\", \"splrct_cr_2\", \"splrcl_cr_2\", \"splrcm_cr_2\", \"ixbk_cr_2\", \"ixfn_cr_2\", \"ixid_cr_2\",\n",
    "         \"ixis_cr_2\", \"ixk_cr_2\", \"ixtr_cr_2\", \"ixut_cr_2\", \"nbi_cr_2\", \"bkx_cr_2\"]"
   ]
  },
  {
   "cell_type": "code",
   "execution_count": 13,
   "id": "9a595935",
   "metadata": {},
   "outputs": [],
   "source": [
    "col_cr = ['weekday', 'cr_00', 'cr_05', 'cr_10', 'cr_15', 'cr_20']"
   ]
  },
  {
   "cell_type": "code",
   "execution_count": 14,
   "id": "75ec6070",
   "metadata": {},
   "outputs": [],
   "source": [
    "col_col = col_inv1 + col_common1 + col_his1 + col_inv2 + col_common2 + col_his2 + col_cr"
   ]
  },
  {
   "cell_type": "code",
   "execution_count": 15,
   "id": "ff6769da",
   "metadata": {},
   "outputs": [],
   "source": [
    "# # write common data only\n",
    "# df_temp = df_common.copy()\n",
    "# df_temp = df_temp[col_common1+col_common2]\n",
    "# pkl_common_directory = './data/common_pkl/'\n",
    "# df_temp.to_pickle(pkl_common_directory + 'df_common.pkl')\n",
    "# df_temp.to_csv(pkl_common_directory + 'df_common.csv')"
   ]
  },
  {
   "cell_type": "code",
   "execution_count": 16,
   "id": "c78c8f82",
   "metadata": {},
   "outputs": [],
   "source": [
    "new_columns = col_col"
   ]
  },
  {
   "cell_type": "code",
   "execution_count": 17,
   "id": "02da1256",
   "metadata": {},
   "outputs": [],
   "source": [
    "# column 순서 변경 : weekday, 'cr_00', 'cr_05', 'cr_10', 'cr_15', 'cr_20' column을 마지막으로 이동 \n",
    "for key, val in code.items():\n",
    "    globals()['df_{}_combine'.format(val[1])] = globals()['df_{}_combine'.format(val[1])][new_columns]"
   ]
  },
  {
   "cell_type": "code",
   "execution_count": 18,
   "id": "d4f1fa06",
   "metadata": {},
   "outputs": [
    {
     "data": {
      "text/plain": [
       "'\\n# drop inf, -inf : replace inf to 1 or -1 . 데이터를 살리고\\n# 변동률이 무한대가 되는 것을 방지하기 위해서, 나중에 발생하는 에러를 방지\\ndf_sec_sel.replace([np.inf, -np.inf], [1, -1], inplace=True)\\n\\n.impute 사용하는 것을 고려할 필요 있음.\\n'"
      ]
     },
     "execution_count": 18,
     "metadata": {},
     "output_type": "execute_result"
    }
   ],
   "source": [
    "'''\n",
    "# drop inf, -inf : replace inf to 1 or -1 . 데이터를 살리고\n",
    "# 변동률이 무한대가 되는 것을 방지하기 위해서, 나중에 발생하는 에러를 방지\n",
    "df_sec_sel.replace([np.inf, -np.inf], [1, -1], inplace=True)\n",
    "\n",
    ".impute 사용하는 것을 고려할 필요 있음.\n",
    "'''"
   ]
  },
  {
   "cell_type": "code",
   "execution_count": 19,
   "id": "7e91c1c5",
   "metadata": {},
   "outputs": [],
   "source": [
    "# drop inf, -inf : replace inf to 1 or -1 . 데이터를 살리고\n",
    "# 변동률이 무한대가 되는 것을 방지하기 위해서, 나중에 발생하는 에러를 방지\n",
    "for key, val in code.items():\n",
    "    globals()['df_{}_combine'.format(val[1])].replace([np.inf, -np.inf], [1, -1], inplace=True)\n",
    "\n",
    "# **** 데이터 전처리 from sklearn.impute import SimpleImputer, SimpleImputer 사용하기로 함."
   ]
  },
  {
   "cell_type": "code",
   "execution_count": 20,
   "id": "3fa3914b",
   "metadata": {},
   "outputs": [
    {
     "data": {
      "text/html": [
       "<div>\n",
       "<style scoped>\n",
       "    .dataframe tbody tr th:only-of-type {\n",
       "        vertical-align: middle;\n",
       "    }\n",
       "\n",
       "    .dataframe tbody tr th {\n",
       "        vertical-align: top;\n",
       "    }\n",
       "\n",
       "    .dataframe thead th {\n",
       "        text-align: right;\n",
       "    }\n",
       "</style>\n",
       "<table border=\"1\" class=\"dataframe\">\n",
       "  <thead>\n",
       "    <tr style=\"text-align: right;\">\n",
       "      <th></th>\n",
       "      <th>retail_1</th>\n",
       "      <th>foreigner_1</th>\n",
       "      <th>institution_1</th>\n",
       "      <th>financial_1</th>\n",
       "      <th>invtrust_1</th>\n",
       "      <th>pension_1</th>\n",
       "      <th>privequity_1</th>\n",
       "      <th>bank_1</th>\n",
       "      <th>insurance_1</th>\n",
       "      <th>financeetc_1</th>\n",
       "      <th>...</th>\n",
       "      <th>high_2</th>\n",
       "      <th>low_2</th>\n",
       "      <th>close_2</th>\n",
       "      <th>vol_2</th>\n",
       "      <th>weekday</th>\n",
       "      <th>cr_00</th>\n",
       "      <th>cr_05</th>\n",
       "      <th>cr_10</th>\n",
       "      <th>cr_15</th>\n",
       "      <th>cr_20</th>\n",
       "    </tr>\n",
       "  </thead>\n",
       "  <tbody>\n",
       "    <tr>\n",
       "      <th>2023-11-27</th>\n",
       "      <td>0.49422</td>\n",
       "      <td>-2.42234</td>\n",
       "      <td>-1.23608</td>\n",
       "      <td>-2.17402</td>\n",
       "      <td>-0.99966</td>\n",
       "      <td>-0.22141</td>\n",
       "      <td>5.56384</td>\n",
       "      <td>-0.66667</td>\n",
       "      <td>-0.61554</td>\n",
       "      <td>-1.02222</td>\n",
       "      <td>...</td>\n",
       "      <td>-0.00548</td>\n",
       "      <td>-0.00278</td>\n",
       "      <td>-0.01511</td>\n",
       "      <td>-0.39878</td>\n",
       "      <td>4</td>\n",
       "      <td>0</td>\n",
       "      <td>0</td>\n",
       "      <td>0</td>\n",
       "      <td>0</td>\n",
       "      <td>0</td>\n",
       "    </tr>\n",
       "    <tr>\n",
       "      <th>2023-11-28</th>\n",
       "      <td>-0.29132</td>\n",
       "      <td>1.13662</td>\n",
       "      <td>4.51770</td>\n",
       "      <td>1.61329</td>\n",
       "      <td>809.00000</td>\n",
       "      <td>0.85541</td>\n",
       "      <td>-1.23378</td>\n",
       "      <td>-0.00000</td>\n",
       "      <td>-0.92886</td>\n",
       "      <td>-1.00000</td>\n",
       "      <td>...</td>\n",
       "      <td>-0.01503</td>\n",
       "      <td>-0.01524</td>\n",
       "      <td>-0.01519</td>\n",
       "      <td>0.34510</td>\n",
       "      <td>0</td>\n",
       "      <td>1</td>\n",
       "      <td>1</td>\n",
       "      <td>1</td>\n",
       "      <td>1</td>\n",
       "      <td>0</td>\n",
       "    </tr>\n",
       "    <tr>\n",
       "      <th>2023-11-29</th>\n",
       "      <td>-9.61253</td>\n",
       "      <td>-1.48677</td>\n",
       "      <td>1.21720</td>\n",
       "      <td>1.03140</td>\n",
       "      <td>-3.69547</td>\n",
       "      <td>-0.06655</td>\n",
       "      <td>-3.52713</td>\n",
       "      <td>609.00000</td>\n",
       "      <td>0.41589</td>\n",
       "      <td>1.00000</td>\n",
       "      <td>...</td>\n",
       "      <td>0.00138</td>\n",
       "      <td>-0.00558</td>\n",
       "      <td>0.01395</td>\n",
       "      <td>0.98947</td>\n",
       "      <td>1</td>\n",
       "      <td>0</td>\n",
       "      <td>0</td>\n",
       "      <td>0</td>\n",
       "      <td>0</td>\n",
       "      <td>0</td>\n",
       "    </tr>\n",
       "    <tr>\n",
       "      <th>2023-11-30</th>\n",
       "      <td>-0.71102</td>\n",
       "      <td>3.08091</td>\n",
       "      <td>-1.83128</td>\n",
       "      <td>-1.76229</td>\n",
       "      <td>-0.99893</td>\n",
       "      <td>-1.31500</td>\n",
       "      <td>-0.10859</td>\n",
       "      <td>-1.01066</td>\n",
       "      <td>4.08911</td>\n",
       "      <td>-1.20354</td>\n",
       "      <td>...</td>\n",
       "      <td>0.00971</td>\n",
       "      <td>0.01547</td>\n",
       "      <td>0.01964</td>\n",
       "      <td>0.01866</td>\n",
       "      <td>2</td>\n",
       "      <td>1</td>\n",
       "      <td>0</td>\n",
       "      <td>0</td>\n",
       "      <td>0</td>\n",
       "      <td>0</td>\n",
       "    </tr>\n",
       "    <tr>\n",
       "      <th>2023-12-01</th>\n",
       "      <td>-0.56046</td>\n",
       "      <td>-1.37744</td>\n",
       "      <td>-1.78182</td>\n",
       "      <td>-1.80757</td>\n",
       "      <td>-520.14286</td>\n",
       "      <td>1.68671</td>\n",
       "      <td>-1.25671</td>\n",
       "      <td>-15.23077</td>\n",
       "      <td>1.96433</td>\n",
       "      <td>-0.69565</td>\n",
       "      <td>...</td>\n",
       "      <td>0.00138</td>\n",
       "      <td>0.01262</td>\n",
       "      <td>0.00138</td>\n",
       "      <td>0.18703</td>\n",
       "      <td>3</td>\n",
       "      <td>0</td>\n",
       "      <td>0</td>\n",
       "      <td>0</td>\n",
       "      <td>0</td>\n",
       "      <td>0</td>\n",
       "    </tr>\n",
       "  </tbody>\n",
       "</table>\n",
       "<p>5 rows × 114 columns</p>\n",
       "</div>"
      ],
      "text/plain": [
       "            retail_1  foreigner_1  institution_1  financial_1  invtrust_1   \n",
       "2023-11-27   0.49422     -2.42234       -1.23608     -2.17402    -0.99966  \\\n",
       "2023-11-28  -0.29132      1.13662        4.51770      1.61329   809.00000   \n",
       "2023-11-29  -9.61253     -1.48677        1.21720      1.03140    -3.69547   \n",
       "2023-11-30  -0.71102      3.08091       -1.83128     -1.76229    -0.99893   \n",
       "2023-12-01  -0.56046     -1.37744       -1.78182     -1.80757  -520.14286   \n",
       "\n",
       "            pension_1  privequity_1     bank_1  insurance_1  financeetc_1   \n",
       "2023-11-27   -0.22141       5.56384   -0.66667     -0.61554      -1.02222  \\\n",
       "2023-11-28    0.85541      -1.23378   -0.00000     -0.92886      -1.00000   \n",
       "2023-11-29   -0.06655      -3.52713  609.00000      0.41589       1.00000   \n",
       "2023-11-30   -1.31500      -0.10859   -1.01066      4.08911      -1.20354   \n",
       "2023-12-01    1.68671      -1.25671  -15.23077      1.96433      -0.69565   \n",
       "\n",
       "            ...   high_2    low_2  close_2    vol_2  weekday  cr_00 cr_05   \n",
       "2023-11-27  ... -0.00548 -0.00278 -0.01511 -0.39878        4      0     0  \\\n",
       "2023-11-28  ... -0.01503 -0.01524 -0.01519  0.34510        0      1     1   \n",
       "2023-11-29  ...  0.00138 -0.00558  0.01395  0.98947        1      0     0   \n",
       "2023-11-30  ...  0.00971  0.01547  0.01964  0.01866        2      1     0   \n",
       "2023-12-01  ...  0.00138  0.01262  0.00138  0.18703        3      0     0   \n",
       "\n",
       "           cr_10  cr_15  cr_20  \n",
       "2023-11-27     0      0      0  \n",
       "2023-11-28     1      1      0  \n",
       "2023-11-29     0      0      0  \n",
       "2023-11-30     0      0      0  \n",
       "2023-12-01     0      0      0  \n",
       "\n",
       "[5 rows x 114 columns]"
      ]
     },
     "execution_count": 20,
     "metadata": {},
     "output_type": "execute_result"
    }
   ],
   "source": [
    "df_sec_combine.tail()"
   ]
  },
  {
   "cell_type": "code",
   "execution_count": 21,
   "id": "bf7224df",
   "metadata": {},
   "outputs": [],
   "source": [
    "nanlo = locate_nan(df_sec_combine)  # nan 위치 찾기"
   ]
  },
  {
   "cell_type": "code",
   "execution_count": 22,
   "id": "2f63d7f5",
   "metadata": {},
   "outputs": [
    {
     "name": "stdout",
     "output_type": "stream",
     "text": [
      "[[datetime.date(2022, 1, 18) 'dji_cr']\n",
      " [datetime.date(2022, 1, 18) 'dji_f_cr']\n",
      " [datetime.date(2022, 1, 18) 'dxy_cr']\n",
      " ...\n",
      " [datetime.date(2023, 12, 1) 'ixut_cr_2']\n",
      " [datetime.date(2023, 12, 1) 'nbi_cr_2']\n",
      " [datetime.date(2023, 12, 1) 'bkx_cr_2']]\n"
     ]
    }
   ],
   "source": [
    "print(nanlo)"
   ]
  },
  {
   "cell_type": "code",
   "execution_count": 23,
   "id": "21a6d628",
   "metadata": {},
   "outputs": [],
   "source": [
    "# delete rows which include NaN : dji, spx, nasdaq 기타 common 지수중 한개라도 nan인 rows 제거\n",
    "for key, val in code.items():\n",
    "    globals()['df_{}_combine'.format(val[1])].dropna(inplace=True)"
   ]
  },
  {
   "cell_type": "code",
   "execution_count": 24,
   "id": "c6f3061c",
   "metadata": {},
   "outputs": [],
   "source": [
    "# string column을 numeric으로 전환\n",
    "def string_to_num(df):\n",
    "    df.replace('%', '', regex=True, inplace=True)\n",
    "    df = df.apply(pd.to_numeric)\n",
    "    return df\n",
    "\n",
    "for key, val in code.items():\n",
    "    globals()['df_{}_combine'.format(val[1])] = string_to_num(globals()['df_{}_combine'.format(val[1])])"
   ]
  },
  {
   "cell_type": "code",
   "execution_count": 25,
   "id": "7e8d5acf",
   "metadata": {},
   "outputs": [],
   "source": [
    "# pickle로 데이터 저장\n",
    "\n",
    "for key, val in code.items():\n",
    "    globals()[f'df_{val[1]}_combine'].to_pickle(directory_for_predict + f'df_{val[1]}_combine.pkl')\n",
    "    globals()[f'df_{val[1]}_combine'].to_csv(directory_for_predict + f'df_{val[1]}_combine.csv')"
   ]
  },
  {
   "cell_type": "code",
   "execution_count": null,
   "id": "a01825d3",
   "metadata": {},
   "outputs": [],
   "source": []
  },
  {
   "cell_type": "code",
   "execution_count": null,
   "id": "3300e5b2",
   "metadata": {},
   "outputs": [],
   "source": []
  },
  {
   "cell_type": "code",
   "execution_count": null,
   "id": "1ffeab80",
   "metadata": {},
   "outputs": [],
   "source": []
  },
  {
   "cell_type": "code",
   "execution_count": null,
   "id": "a1f7c9d1",
   "metadata": {},
   "outputs": [],
   "source": []
  },
  {
   "cell_type": "code",
   "execution_count": null,
   "id": "bc80b897",
   "metadata": {},
   "outputs": [],
   "source": []
  }
 ],
 "metadata": {
  "kernelspec": {
   "display_name": "Python 3 (ipykernel)",
   "language": "python",
   "name": "python3"
  },
  "language_info": {
   "codemirror_mode": {
    "name": "ipython",
    "version": 3
   },
   "file_extension": ".py",
   "mimetype": "text/x-python",
   "name": "python",
   "nbconvert_exporter": "python",
   "pygments_lexer": "ipython3",
   "version": "3.9.1"
  }
 },
 "nbformat": 4,
 "nbformat_minor": 5
}
