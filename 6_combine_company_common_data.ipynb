{
 "cells": [
  {
   "cell_type": "markdown",
   "id": "459ff0ca",
   "metadata": {},
   "source": [
    "## combine company data and common data"
   ]
  },
  {
   "cell_type": "code",
   "execution_count": 1,
   "id": "d3b5a935",
   "metadata": {},
   "outputs": [],
   "source": [
    "import datetime, time\n",
    "from datetime import date\n",
    "\n",
    "import pandas as pd\n",
    "import numpy as np\n",
    "import os\n",
    "import sys\n",
    "\n",
    "from sklearn.preprocessing import StandardScaler"
   ]
  },
  {
   "cell_type": "code",
   "execution_count": 2,
   "id": "8ef51f99",
   "metadata": {},
   "outputs": [],
   "source": [
    "module_path = os.path.abspath(os.path.join('.')) \n",
    "sys.path.append(module_path+\"\\\\data\\\\constant\")\n",
    "\n",
    "from constants import COMPANY_CODE"
   ]
  },
  {
   "cell_type": "code",
   "execution_count": 3,
   "id": "9ea60572",
   "metadata": {},
   "outputs": [
    {
     "data": {
      "text/plain": [
       "\" \\n[[datetime.date(2022, 1, 17) 'dji_cr']\\n [datetime.date(2022, 1, 17) 'dji_f_cr']\\n ...\\n [datetime.date(2023, 5, 23) 'kosdaq_cr']\\n [datetime.date(2023, 5, 23) 'kosdaq_cr_2']]\\n\""
      ]
     },
     "execution_count": 3,
     "metadata": {},
     "output_type": "execute_result"
    }
   ],
   "source": [
    "def locate_nan(df):\n",
    "    idx, idy = np.where(pd.isnull(df))\n",
    "    result = np.column_stack([df.index[idx], df.columns[idy]])\n",
    "    return result\n",
    "\n",
    "# return format\n",
    "''' \n",
    "[[datetime.date(2022, 1, 17) 'dji_cr']\n",
    " [datetime.date(2022, 1, 17) 'dji_f_cr']\n",
    " ...\n",
    " [datetime.date(2023, 5, 23) 'kosdaq_cr']\n",
    " [datetime.date(2023, 5, 23) 'kosdaq_cr_2']]\n",
    "'''"
   ]
  },
  {
   "cell_type": "code",
   "execution_count": 4,
   "id": "d6f9e0c8",
   "metadata": {},
   "outputs": [],
   "source": [
    "code = COMPANY_CODE\n",
    "\n",
    "# code = {'005930': ['삼성전자', 'sec'], '005380': ['현대차', 'hyunmotor'],\n",
    "#                  '035420': ['NAVER', 'naver'], '033780': ['KT&G', 'ktng']}\n",
    "# code = {'005930': ['삼성전자', 'sec'], '000660': ['SK하이닉스', 'skhynix']}\n",
    "# code = {'302440': ['SK바이오사이언스', 'skbio']}"
   ]
  },
  {
   "cell_type": "code",
   "execution_count": 5,
   "id": "1ced9635",
   "metadata": {},
   "outputs": [],
   "source": [
    "directory_for_predict = './data/data_for_ml/predict/'\n",
    "pkl_common_directory = './data/common_pkl/'\n",
    "pkl_directory = './data/common_pkl/'"
   ]
  },
  {
   "cell_type": "code",
   "execution_count": 6,
   "id": "a4ac3c16",
   "metadata": {},
   "outputs": [],
   "source": [
    "df_common = pd.read_pickle(directory_for_predict + '0_df_common.pkl')"
   ]
  },
  {
   "cell_type": "code",
   "execution_count": 7,
   "id": "82d5ae58",
   "metadata": {},
   "outputs": [],
   "source": [
    "for key, val in code.items():\n",
    "    df_company = pd.read_pickle(directory_for_predict + f'df_{val[1]}_company.pkl')\n",
    "    df_company = df_company.merge(df_common, how='left', left_index=True, right_index=True)\n",
    "    globals()[f'df_{val[1]}_combine'] = df_company.copy()"
   ]
  },
  {
   "cell_type": "code",
   "execution_count": 8,
   "id": "6c798e31",
   "metadata": {},
   "outputs": [
    {
     "data": {
      "text/html": [
       "<div>\n",
       "<style scoped>\n",
       "    .dataframe tbody tr th:only-of-type {\n",
       "        vertical-align: middle;\n",
       "    }\n",
       "\n",
       "    .dataframe tbody tr th {\n",
       "        vertical-align: top;\n",
       "    }\n",
       "\n",
       "    .dataframe thead th {\n",
       "        text-align: right;\n",
       "    }\n",
       "</style>\n",
       "<table border=\"1\" class=\"dataframe\">\n",
       "  <thead>\n",
       "    <tr style=\"text-align: right;\">\n",
       "      <th></th>\n",
       "      <th>retail_1</th>\n",
       "      <th>foreigner_1</th>\n",
       "      <th>institution_1</th>\n",
       "      <th>financial_1</th>\n",
       "      <th>invtrust_1</th>\n",
       "      <th>pension_1</th>\n",
       "      <th>privequity_1</th>\n",
       "      <th>bank_1</th>\n",
       "      <th>insurance_1</th>\n",
       "      <th>financeetc_1</th>\n",
       "      <th>...</th>\n",
       "      <th>ixk_cr</th>\n",
       "      <th>ixk_cr_2</th>\n",
       "      <th>ixtr_cr</th>\n",
       "      <th>ixtr_cr_2</th>\n",
       "      <th>ixut_cr</th>\n",
       "      <th>ixut_cr_2</th>\n",
       "      <th>nbi_cr</th>\n",
       "      <th>nbi_cr_2</th>\n",
       "      <th>bkx_cr</th>\n",
       "      <th>bkx_cr_2</th>\n",
       "    </tr>\n",
       "  </thead>\n",
       "  <tbody>\n",
       "    <tr>\n",
       "      <th>2024-08-27</th>\n",
       "      <td>-1.71332</td>\n",
       "      <td>-2.75521</td>\n",
       "      <td>-1.50502</td>\n",
       "      <td>-0.74634</td>\n",
       "      <td>1.16532</td>\n",
       "      <td>-1.90162</td>\n",
       "      <td>-1.06298</td>\n",
       "      <td>-1.03333</td>\n",
       "      <td>0.97316</td>\n",
       "      <td>-0.02941</td>\n",
       "      <td>...</td>\n",
       "      <td>-1.21%</td>\n",
       "      <td>0.28787</td>\n",
       "      <td>-0.68%</td>\n",
       "      <td>1.22684</td>\n",
       "      <td>0.75%</td>\n",
       "      <td>2.14646</td>\n",
       "      <td>0.06%</td>\n",
       "      <td>1.17620</td>\n",
       "      <td>-0.05%</td>\n",
       "      <td>2.31406</td>\n",
       "    </tr>\n",
       "    <tr>\n",
       "      <th>2024-08-28</th>\n",
       "      <td>0.20844</td>\n",
       "      <td>-0.95478</td>\n",
       "      <td>1.33285</td>\n",
       "      <td>3.98604</td>\n",
       "      <td>1.47302</td>\n",
       "      <td>2.53569</td>\n",
       "      <td>9.06048</td>\n",
       "      <td>48.00000</td>\n",
       "      <td>-0.11680</td>\n",
       "      <td>-0.51515</td>\n",
       "      <td>...</td>\n",
       "      <td>0.38%</td>\n",
       "      <td>-0.83428</td>\n",
       "      <td>-1.18%</td>\n",
       "      <td>-1.84967</td>\n",
       "      <td>0.58%</td>\n",
       "      <td>1.34095</td>\n",
       "      <td>-0.13%</td>\n",
       "      <td>-0.06495</td>\n",
       "      <td>-0.22%</td>\n",
       "      <td>-0.27268</td>\n",
       "    </tr>\n",
       "    <tr>\n",
       "      <th>2024-08-29</th>\n",
       "      <td>-3.03998</td>\n",
       "      <td>-92.18367</td>\n",
       "      <td>-1.39887</td>\n",
       "      <td>-0.00029</td>\n",
       "      <td>-1.32560</td>\n",
       "      <td>-0.14318</td>\n",
       "      <td>-7.09659</td>\n",
       "      <td>16.77551</td>\n",
       "      <td>-0.32745</td>\n",
       "      <td>-10.00000</td>\n",
       "      <td>...</td>\n",
       "      <td>-1.28%</td>\n",
       "      <td>-0.90395</td>\n",
       "      <td>0.07%</td>\n",
       "      <td>-1.10857</td>\n",
       "      <td>-1.53%</td>\n",
       "      <td>-0.95495</td>\n",
       "      <td>-0.05%</td>\n",
       "      <td>-0.17426</td>\n",
       "      <td>0.51%</td>\n",
       "      <td>0.29042</td>\n",
       "    </tr>\n",
       "    <tr>\n",
       "      <th>2024-08-30</th>\n",
       "      <td>-1.04396</td>\n",
       "      <td>0.32959</td>\n",
       "      <td>-5.62247</td>\n",
       "      <td>-3.76555</td>\n",
       "      <td>-4.29330</td>\n",
       "      <td>-1.46203</td>\n",
       "      <td>-1.32575</td>\n",
       "      <td>-1.48106</td>\n",
       "      <td>0.68889</td>\n",
       "      <td>-1.04167</td>\n",
       "      <td>...</td>\n",
       "      <td>-0.63%</td>\n",
       "      <td>-1.90366</td>\n",
       "      <td>0.37%</td>\n",
       "      <td>0.43913</td>\n",
       "      <td>-0.19%</td>\n",
       "      <td>-1.71536</td>\n",
       "      <td>0.14%</td>\n",
       "      <td>0.09493</td>\n",
       "      <td>0.56%</td>\n",
       "      <td>1.07603</td>\n",
       "    </tr>\n",
       "    <tr>\n",
       "      <th>2024-09-02</th>\n",
       "      <td>1.38733</td>\n",
       "      <td>-0.92088</td>\n",
       "      <td>-0.83359</td>\n",
       "      <td>-0.84728</td>\n",
       "      <td>-0.45541</td>\n",
       "      <td>-0.53709</td>\n",
       "      <td>-0.82503</td>\n",
       "      <td>-0.38544</td>\n",
       "      <td>-0.78589</td>\n",
       "      <td>14.33333</td>\n",
       "      <td>...</td>\n",
       "      <td>NaN</td>\n",
       "      <td>NaN</td>\n",
       "      <td>NaN</td>\n",
       "      <td>NaN</td>\n",
       "      <td>NaN</td>\n",
       "      <td>NaN</td>\n",
       "      <td>NaN</td>\n",
       "      <td>NaN</td>\n",
       "      <td>NaN</td>\n",
       "      <td>NaN</td>\n",
       "    </tr>\n",
       "  </tbody>\n",
       "</table>\n",
       "<p>5 rows × 114 columns</p>\n",
       "</div>"
      ],
      "text/plain": [
       "            retail_1  foreigner_1  institution_1  financial_1  invtrust_1  \\\n",
       "2024-08-27  -1.71332     -2.75521       -1.50502     -0.74634     1.16532   \n",
       "2024-08-28   0.20844     -0.95478        1.33285      3.98604     1.47302   \n",
       "2024-08-29  -3.03998    -92.18367       -1.39887     -0.00029    -1.32560   \n",
       "2024-08-30  -1.04396      0.32959       -5.62247     -3.76555    -4.29330   \n",
       "2024-09-02   1.38733     -0.92088       -0.83359     -0.84728    -0.45541   \n",
       "\n",
       "            pension_1  privequity_1    bank_1  insurance_1  financeetc_1  ...  \\\n",
       "2024-08-27   -1.90162      -1.06298  -1.03333      0.97316      -0.02941  ...   \n",
       "2024-08-28    2.53569       9.06048  48.00000     -0.11680      -0.51515  ...   \n",
       "2024-08-29   -0.14318      -7.09659  16.77551     -0.32745     -10.00000  ...   \n",
       "2024-08-30   -1.46203      -1.32575  -1.48106      0.68889      -1.04167  ...   \n",
       "2024-09-02   -0.53709      -0.82503  -0.38544     -0.78589      14.33333  ...   \n",
       "\n",
       "            ixk_cr  ixk_cr_2  ixtr_cr  ixtr_cr_2  ixut_cr  ixut_cr_2  nbi_cr  \\\n",
       "2024-08-27  -1.21%   0.28787   -0.68%    1.22684    0.75%    2.14646   0.06%   \n",
       "2024-08-28   0.38%  -0.83428   -1.18%   -1.84967    0.58%    1.34095  -0.13%   \n",
       "2024-08-29  -1.28%  -0.90395    0.07%   -1.10857   -1.53%   -0.95495  -0.05%   \n",
       "2024-08-30  -0.63%  -1.90366    0.37%    0.43913   -0.19%   -1.71536   0.14%   \n",
       "2024-09-02     NaN       NaN      NaN        NaN      NaN        NaN     NaN   \n",
       "\n",
       "            nbi_cr_2  bkx_cr  bkx_cr_2  \n",
       "2024-08-27   1.17620  -0.05%   2.31406  \n",
       "2024-08-28  -0.06495  -0.22%  -0.27268  \n",
       "2024-08-29  -0.17426   0.51%   0.29042  \n",
       "2024-08-30   0.09493   0.56%   1.07603  \n",
       "2024-09-02       NaN     NaN       NaN  \n",
       "\n",
       "[5 rows x 114 columns]"
      ]
     },
     "execution_count": 8,
     "metadata": {},
     "output_type": "execute_result"
    }
   ],
   "source": [
    "df_hyunmotor_combine.tail()"
   ]
  },
  {
   "cell_type": "code",
   "execution_count": 9,
   "id": "aeab3342",
   "metadata": {},
   "outputs": [
    {
     "data": {
      "text/plain": [
       "datetime.date(2022, 1, 7)"
      ]
     },
     "execution_count": 9,
     "metadata": {},
     "output_type": "execute_result"
    }
   ],
   "source": [
    "df_hyunmotor_combine.index[0]"
   ]
  },
  {
   "cell_type": "code",
   "execution_count": 10,
   "id": "587ac2cd",
   "metadata": {},
   "outputs": [],
   "source": [
    "col_inv1 = ['retail_1', 'foreigner_1', 'institution_1', 'financial_1', 'invtrust_1', 'pension_1', 'privequity_1', \n",
    "            'bank_1', 'insurance_1', 'financeetc_1', 'corporateetc_1', 'foreigneretc_1']\n",
    "col_inv2 = ['retail_2', 'foreigner_2', 'institution_2', 'financial_2', 'invtrust_2', 'pension_2',\n",
    "            'privequity_2', 'bank_2', 'insurance_2', 'financeetc_2', 'corporateetc_2', 'foreigneretc_2']"
   ]
  },
  {
   "cell_type": "code",
   "execution_count": 11,
   "id": "76ca8389",
   "metadata": {},
   "outputs": [],
   "source": [
    "col_his1 = ['open_1', 'high_1', 'low_1', 'close_1', 'vol_1']\n",
    "col_his2 = ['open_2', 'high_2', 'low_2', 'close_2', 'vol_2']"
   ]
  },
  {
   "cell_type": "code",
   "execution_count": 12,
   "id": "8a6b4bac",
   "metadata": {},
   "outputs": [],
   "source": [
    "col_common1 = [\"dji_cr\", \"dji_f_cr\", \"dxy_cr\", \"ixic_f_cr\", \"bond_kor_10_cr\", \"bond_kor_2_cr\", \"kosdaq_cr\", \"kospi_cr\", \n",
    "         \"krw_cr\", \"ixic_cr\", \"spx_f_cr\", \"sox_cr\", \"spx_cr\", \"bond_usa_10_cr\", \"bond_usa_2_cr\", \"bond_usa_3m_cr\", \n",
    "         \"vix_cr\", \"wti_cr\", \"spsy_cr\", \"spny_cr\", \"spxhc_cr\", \"splrcd_cr\", \"splrci_cr\", \"splrcu_cr\", \"splrcs_cr\",\n",
    "         \"splrct_cr\", \"splrcl_cr\", \"splrcm_cr\", \"ixbk_cr\", \"ixfn_cr\", \"ixid_cr\", \"ixis_cr\", \"ixk_cr\", \"ixtr_cr\",\n",
    "         \"ixut_cr\", \"nbi_cr\", \"bkx_cr\"]\n",
    "col_common2 = [\"dji_cr_2\", \"dji_f_cr_2\", \"dxy_cr_2\", \"ixic_f_cr_2\", \"bond_kor_10_cr_2\", \"bond_kor_2_cr_2\", \"kosdaq_cr_2\", \"kospi_cr_2\",\n",
    "         \"krw_cr_2\", \"ixic_cr_2\", \"spx_f_cr_2\", \"sox_cr_2\", \"spx_cr_2\", \"bond_usa_10_cr_2\", \"bond_usa_2_cr_2\", \"bond_usa_3m_cr_2\",\n",
    "         \"vix_cr_2\", \"wti_cr_2\", \"spsy_cr_2\", \"spny_cr_2\", \"spxhc_cr_2\", \"splrcd_cr_2\", \"splrci_cr_2\", \"splrcu_cr_2\",\n",
    "         \"splrcs_cr_2\", \"splrct_cr_2\", \"splrcl_cr_2\", \"splrcm_cr_2\", \"ixbk_cr_2\", \"ixfn_cr_2\", \"ixid_cr_2\",\n",
    "         \"ixis_cr_2\", \"ixk_cr_2\", \"ixtr_cr_2\", \"ixut_cr_2\", \"nbi_cr_2\", \"bkx_cr_2\"]"
   ]
  },
  {
   "cell_type": "code",
   "execution_count": 13,
   "id": "9a595935",
   "metadata": {},
   "outputs": [],
   "source": [
    "col_cr = ['weekday', 'cr_00', 'cr_05', 'cr_10', 'cr_15', 'cr_20']"
   ]
  },
  {
   "cell_type": "code",
   "execution_count": 14,
   "id": "75ec6070",
   "metadata": {},
   "outputs": [],
   "source": [
    "col_col = col_inv1 + col_common1 + col_his1 + col_inv2 + col_common2 + col_his2 + col_cr"
   ]
  },
  {
   "cell_type": "code",
   "execution_count": 15,
   "id": "ff6769da",
   "metadata": {},
   "outputs": [],
   "source": [
    "# # write common data only\n",
    "# df_temp = df_common.copy()\n",
    "# df_temp = df_temp[col_common1+col_common2]\n",
    "# pkl_common_directory = './data/common_pkl/'\n",
    "# df_temp.to_pickle(pkl_common_directory + 'df_common.pkl')\n",
    "# df_temp.to_csv(pkl_common_directory + 'df_common.csv')"
   ]
  },
  {
   "cell_type": "code",
   "execution_count": 16,
   "id": "c78c8f82",
   "metadata": {},
   "outputs": [],
   "source": [
    "new_columns = col_col"
   ]
  },
  {
   "cell_type": "code",
   "execution_count": 17,
   "id": "02da1256",
   "metadata": {},
   "outputs": [],
   "source": [
    "# column 순서 변경 : weekday, 'cr_00', 'cr_05', 'cr_10', 'cr_15', 'cr_20' column을 마지막으로 이동 \n",
    "for key, val in code.items():\n",
    "    globals()['df_{}_combine'.format(val[1])] = globals()['df_{}_combine'.format(val[1])][new_columns]"
   ]
  },
  {
   "cell_type": "code",
   "execution_count": 18,
   "id": "d4f1fa06",
   "metadata": {},
   "outputs": [
    {
     "data": {
      "text/plain": [
       "'\\n# drop inf, -inf : replace inf to 1 or -1 . 데이터를 살리고\\n# 변동률이 무한대가 되는 것을 방지하기 위해서, 나중에 발생하는 에러를 방지\\ndf_sec_sel.replace([np.inf, -np.inf], [1, -1], inplace=True)\\n\\n.impute 사용하는 것을 고려할 필요 있음.\\n'"
      ]
     },
     "execution_count": 18,
     "metadata": {},
     "output_type": "execute_result"
    }
   ],
   "source": [
    "'''\n",
    "# drop inf, -inf : replace inf to 1 or -1 . 데이터를 살리고\n",
    "# 변동률이 무한대가 되는 것을 방지하기 위해서, 나중에 발생하는 에러를 방지\n",
    "df_sec_sel.replace([np.inf, -np.inf], [1, -1], inplace=True)\n",
    "\n",
    ".impute 사용하는 것을 고려할 필요 있음.\n",
    "'''"
   ]
  },
  {
   "cell_type": "code",
   "execution_count": 19,
   "id": "7e91c1c5",
   "metadata": {},
   "outputs": [],
   "source": [
    "# drop inf, -inf : replace inf to 1 or -1 . 데이터를 살리고\n",
    "# 변동률이 무한대가 되는 것을 방지하기 위해서, 나중에 발생하는 에러를 방지\n",
    "for key, val in code.items():\n",
    "    globals()['df_{}_combine'.format(val[1])].replace([np.inf, -np.inf], [1, -1], inplace=True)\n",
    "\n",
    "# **** 데이터 전처리 from sklearn.impute import SimpleImputer, SimpleImputer 사용하기로 함."
   ]
  },
  {
   "cell_type": "code",
   "execution_count": 20,
   "id": "3fa3914b",
   "metadata": {},
   "outputs": [
    {
     "data": {
      "text/html": [
       "<div>\n",
       "<style scoped>\n",
       "    .dataframe tbody tr th:only-of-type {\n",
       "        vertical-align: middle;\n",
       "    }\n",
       "\n",
       "    .dataframe tbody tr th {\n",
       "        vertical-align: top;\n",
       "    }\n",
       "\n",
       "    .dataframe thead th {\n",
       "        text-align: right;\n",
       "    }\n",
       "</style>\n",
       "<table border=\"1\" class=\"dataframe\">\n",
       "  <thead>\n",
       "    <tr style=\"text-align: right;\">\n",
       "      <th></th>\n",
       "      <th>retail_1</th>\n",
       "      <th>foreigner_1</th>\n",
       "      <th>institution_1</th>\n",
       "      <th>financial_1</th>\n",
       "      <th>invtrust_1</th>\n",
       "      <th>pension_1</th>\n",
       "      <th>privequity_1</th>\n",
       "      <th>bank_1</th>\n",
       "      <th>insurance_1</th>\n",
       "      <th>financeetc_1</th>\n",
       "      <th>...</th>\n",
       "      <th>high_2</th>\n",
       "      <th>low_2</th>\n",
       "      <th>close_2</th>\n",
       "      <th>vol_2</th>\n",
       "      <th>weekday</th>\n",
       "      <th>cr_00</th>\n",
       "      <th>cr_05</th>\n",
       "      <th>cr_10</th>\n",
       "      <th>cr_15</th>\n",
       "      <th>cr_20</th>\n",
       "    </tr>\n",
       "  </thead>\n",
       "  <tbody>\n",
       "    <tr>\n",
       "      <th>2024-08-27</th>\n",
       "      <td>5.50286</td>\n",
       "      <td>1.64218</td>\n",
       "      <td>-0.24307</td>\n",
       "      <td>-0.36314</td>\n",
       "      <td>-0.66431</td>\n",
       "      <td>-0.94164</td>\n",
       "      <td>-0.41129</td>\n",
       "      <td>-1.00000</td>\n",
       "      <td>0.13951</td>\n",
       "      <td>-0.81406</td>\n",
       "      <td>...</td>\n",
       "      <td>-0.00887</td>\n",
       "      <td>-0.02314</td>\n",
       "      <td>-0.02810</td>\n",
       "      <td>0.92119</td>\n",
       "      <td>0</td>\n",
       "      <td>0</td>\n",
       "      <td>0</td>\n",
       "      <td>0</td>\n",
       "      <td>0</td>\n",
       "      <td>0</td>\n",
       "    </tr>\n",
       "    <tr>\n",
       "      <th>2024-08-28</th>\n",
       "      <td>-0.65203</td>\n",
       "      <td>-0.61563</td>\n",
       "      <td>-0.47539</td>\n",
       "      <td>0.14002</td>\n",
       "      <td>-0.03362</td>\n",
       "      <td>92.04626</td>\n",
       "      <td>0.56146</td>\n",
       "      <td>-0.40031</td>\n",
       "      <td>0.30326</td>\n",
       "      <td>-0.86585</td>\n",
       "      <td>...</td>\n",
       "      <td>-0.02423</td>\n",
       "      <td>-0.02452</td>\n",
       "      <td>-0.02445</td>\n",
       "      <td>0.18151</td>\n",
       "      <td>1</td>\n",
       "      <td>1</td>\n",
       "      <td>1</td>\n",
       "      <td>0</td>\n",
       "      <td>0</td>\n",
       "      <td>0</td>\n",
       "    </tr>\n",
       "    <tr>\n",
       "      <th>2024-08-29</th>\n",
       "      <td>-0.16765</td>\n",
       "      <td>0.01233</td>\n",
       "      <td>0.74565</td>\n",
       "      <td>-0.19061</td>\n",
       "      <td>-1.06752</td>\n",
       "      <td>-0.23093</td>\n",
       "      <td>-0.19625</td>\n",
       "      <td>0.98460</td>\n",
       "      <td>-4.40678</td>\n",
       "      <td>67.18182</td>\n",
       "      <td>...</td>\n",
       "      <td>-0.02302</td>\n",
       "      <td>-0.00789</td>\n",
       "      <td>0.00394</td>\n",
       "      <td>-0.37439</td>\n",
       "      <td>2</td>\n",
       "      <td>0</td>\n",
       "      <td>0</td>\n",
       "      <td>0</td>\n",
       "      <td>0</td>\n",
       "      <td>0</td>\n",
       "    </tr>\n",
       "    <tr>\n",
       "      <th>2024-08-30</th>\n",
       "      <td>6.04323</td>\n",
       "      <td>2.01503</td>\n",
       "      <td>-5.01315</td>\n",
       "      <td>-2.21185</td>\n",
       "      <td>-52.37229</td>\n",
       "      <td>0.42043</td>\n",
       "      <td>2.31842</td>\n",
       "      <td>-0.94373</td>\n",
       "      <td>-2.15988</td>\n",
       "      <td>-1.52400</td>\n",
       "      <td>...</td>\n",
       "      <td>-0.02353</td>\n",
       "      <td>-0.02778</td>\n",
       "      <td>-0.02375</td>\n",
       "      <td>0.51700</td>\n",
       "      <td>3</td>\n",
       "      <td>1</td>\n",
       "      <td>0</td>\n",
       "      <td>0</td>\n",
       "      <td>0</td>\n",
       "      <td>0</td>\n",
       "    </tr>\n",
       "    <tr>\n",
       "      <th>2024-09-02</th>\n",
       "      <td>-0.82823</td>\n",
       "      <td>-0.44056</td>\n",
       "      <td>-1.62464</td>\n",
       "      <td>-2.76479</td>\n",
       "      <td>-0.91080</td>\n",
       "      <td>-0.65888</td>\n",
       "      <td>-0.82921</td>\n",
       "      <td>3.25287</td>\n",
       "      <td>-0.72563</td>\n",
       "      <td>-1.02545</td>\n",
       "      <td>...</td>\n",
       "      <td>-0.01832</td>\n",
       "      <td>-0.01724</td>\n",
       "      <td>-0.02749</td>\n",
       "      <td>0.45167</td>\n",
       "      <td>4</td>\n",
       "      <td>0</td>\n",
       "      <td>0</td>\n",
       "      <td>0</td>\n",
       "      <td>0</td>\n",
       "      <td>0</td>\n",
       "    </tr>\n",
       "  </tbody>\n",
       "</table>\n",
       "<p>5 rows × 114 columns</p>\n",
       "</div>"
      ],
      "text/plain": [
       "            retail_1  foreigner_1  institution_1  financial_1  invtrust_1  \\\n",
       "2024-08-27   5.50286      1.64218       -0.24307     -0.36314    -0.66431   \n",
       "2024-08-28  -0.65203     -0.61563       -0.47539      0.14002    -0.03362   \n",
       "2024-08-29  -0.16765      0.01233        0.74565     -0.19061    -1.06752   \n",
       "2024-08-30   6.04323      2.01503       -5.01315     -2.21185   -52.37229   \n",
       "2024-09-02  -0.82823     -0.44056       -1.62464     -2.76479    -0.91080   \n",
       "\n",
       "            pension_1  privequity_1   bank_1  insurance_1  financeetc_1  ...  \\\n",
       "2024-08-27   -0.94164      -0.41129 -1.00000      0.13951      -0.81406  ...   \n",
       "2024-08-28   92.04626       0.56146 -0.40031      0.30326      -0.86585  ...   \n",
       "2024-08-29   -0.23093      -0.19625  0.98460     -4.40678      67.18182  ...   \n",
       "2024-08-30    0.42043       2.31842 -0.94373     -2.15988      -1.52400  ...   \n",
       "2024-09-02   -0.65888      -0.82921  3.25287     -0.72563      -1.02545  ...   \n",
       "\n",
       "             high_2    low_2  close_2    vol_2  weekday  cr_00 cr_05 cr_10  \\\n",
       "2024-08-27 -0.00887 -0.02314 -0.02810  0.92119        0      0     0     0   \n",
       "2024-08-28 -0.02423 -0.02452 -0.02445  0.18151        1      1     1     0   \n",
       "2024-08-29 -0.02302 -0.00789  0.00394 -0.37439        2      0     0     0   \n",
       "2024-08-30 -0.02353 -0.02778 -0.02375  0.51700        3      1     0     0   \n",
       "2024-09-02 -0.01832 -0.01724 -0.02749  0.45167        4      0     0     0   \n",
       "\n",
       "            cr_15  cr_20  \n",
       "2024-08-27      0      0  \n",
       "2024-08-28      0      0  \n",
       "2024-08-29      0      0  \n",
       "2024-08-30      0      0  \n",
       "2024-09-02      0      0  \n",
       "\n",
       "[5 rows x 114 columns]"
      ]
     },
     "execution_count": 20,
     "metadata": {},
     "output_type": "execute_result"
    }
   ],
   "source": [
    "df_sec_combine.tail()"
   ]
  },
  {
   "cell_type": "code",
   "execution_count": 21,
   "id": "bf7224df",
   "metadata": {},
   "outputs": [],
   "source": [
    "nanlo = locate_nan(df_sec_combine)  # nan 위치 찾기"
   ]
  },
  {
   "cell_type": "code",
   "execution_count": 22,
   "id": "2f63d7f5",
   "metadata": {},
   "outputs": [
    {
     "name": "stdout",
     "output_type": "stream",
     "text": [
      "[[datetime.date(2022, 1, 18) 'dji_cr']\n",
      " [datetime.date(2022, 1, 18) 'dji_f_cr']\n",
      " [datetime.date(2022, 1, 18) 'dxy_cr']\n",
      " ...\n",
      " [datetime.date(2024, 9, 2) 'ixut_cr_2']\n",
      " [datetime.date(2024, 9, 2) 'nbi_cr_2']\n",
      " [datetime.date(2024, 9, 2) 'bkx_cr_2']]\n"
     ]
    }
   ],
   "source": [
    "print(nanlo)"
   ]
  },
  {
   "cell_type": "code",
   "execution_count": 23,
   "id": "21a6d628",
   "metadata": {},
   "outputs": [],
   "source": [
    "# delete rows which include NaN : dji, spx, nasdaq 기타 common 지수중 한개라도 nan인 rows 제거\n",
    "for key, val in code.items():\n",
    "    globals()['df_{}_combine'.format(val[1])].dropna(inplace=True)"
   ]
  },
  {
   "cell_type": "code",
   "execution_count": 24,
   "id": "c6f3061c",
   "metadata": {},
   "outputs": [],
   "source": [
    "# string column을 numeric으로 전환\n",
    "def string_to_num(df):\n",
    "    df.replace('%', '', regex=True, inplace=True)\n",
    "    df = df.apply(pd.to_numeric)\n",
    "    return df\n",
    "\n",
    "for key, val in code.items():\n",
    "    globals()['df_{}_combine'.format(val[1])] = string_to_num(globals()['df_{}_combine'.format(val[1])])"
   ]
  },
  {
   "cell_type": "code",
   "execution_count": 25,
   "id": "7e8d5acf",
   "metadata": {},
   "outputs": [],
   "source": [
    "# pickle로 데이터 저장\n",
    "\n",
    "for key, val in code.items():\n",
    "    globals()[f'df_{val[1]}_combine'].to_pickle(directory_for_predict + f'df_{val[1]}_combine.pkl')\n",
    "    globals()[f'df_{val[1]}_combine'].to_csv(directory_for_predict + f'df_{val[1]}_combine.csv')"
   ]
  },
  {
   "cell_type": "code",
   "execution_count": null,
   "id": "a01825d3",
   "metadata": {},
   "outputs": [],
   "source": []
  },
  {
   "cell_type": "code",
   "execution_count": null,
   "id": "3300e5b2",
   "metadata": {},
   "outputs": [],
   "source": []
  },
  {
   "cell_type": "code",
   "execution_count": null,
   "id": "1ffeab80",
   "metadata": {},
   "outputs": [],
   "source": []
  },
  {
   "cell_type": "code",
   "execution_count": null,
   "id": "a1f7c9d1",
   "metadata": {},
   "outputs": [],
   "source": []
  },
  {
   "cell_type": "code",
   "execution_count": null,
   "id": "bc80b897",
   "metadata": {},
   "outputs": [],
   "source": []
  }
 ],
 "metadata": {
  "kernelspec": {
   "display_name": "Python 3 (ipykernel)",
   "language": "python",
   "name": "python3"
  },
  "language_info": {
   "codemirror_mode": {
    "name": "ipython",
    "version": 3
   },
   "file_extension": ".py",
   "mimetype": "text/x-python",
   "name": "python",
   "nbconvert_exporter": "python",
   "pygments_lexer": "ipython3",
   "version": "3.12.2"
  }
 },
 "nbformat": 4,
 "nbformat_minor": 5
}
