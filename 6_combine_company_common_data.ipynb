{
 "cells": [
  {
   "cell_type": "markdown",
   "id": "459ff0ca",
   "metadata": {},
   "source": [
    "## combine company data and common data"
   ]
  },
  {
   "cell_type": "code",
   "execution_count": 1,
   "id": "d3b5a935",
   "metadata": {},
   "outputs": [],
   "source": [
    "import datetime, time\n",
    "from datetime import date\n",
    "\n",
    "import pandas as pd\n",
    "import numpy as np\n",
    "import os\n",
    "import sys\n",
    "\n",
    "from sklearn.preprocessing import StandardScaler"
   ]
  },
  {
   "cell_type": "code",
   "execution_count": 2,
   "id": "8ef51f99",
   "metadata": {},
   "outputs": [],
   "source": [
    "module_path = os.path.abspath(os.path.join('.')) \n",
    "sys.path.append(module_path+\"\\\\data\\\\constant\")\n",
    "\n",
    "from constants import COMPANY_CODE"
   ]
  },
  {
   "cell_type": "code",
   "execution_count": 3,
   "id": "9ea60572",
   "metadata": {},
   "outputs": [
    {
     "data": {
      "text/plain": [
       "\" \\n[[datetime.date(2022, 1, 17) 'dji_cr']\\n [datetime.date(2022, 1, 17) 'dji_f_cr']\\n ...\\n [datetime.date(2023, 5, 23) 'kosdaq_cr']\\n [datetime.date(2023, 5, 23) 'kosdaq_cr_2']]\\n\""
      ]
     },
     "execution_count": 3,
     "metadata": {},
     "output_type": "execute_result"
    }
   ],
   "source": [
    "def locate_nan(df):\n",
    "    idx, idy = np.where(pd.isnull(df))\n",
    "    result = np.column_stack([df.index[idx], df.columns[idy]])\n",
    "    return result\n",
    "\n",
    "# return format\n",
    "''' \n",
    "[[datetime.date(2022, 1, 17) 'dji_cr']\n",
    " [datetime.date(2022, 1, 17) 'dji_f_cr']\n",
    " ...\n",
    " [datetime.date(2023, 5, 23) 'kosdaq_cr']\n",
    " [datetime.date(2023, 5, 23) 'kosdaq_cr_2']]\n",
    "'''"
   ]
  },
  {
   "cell_type": "code",
   "execution_count": 4,
   "id": "d6f9e0c8",
   "metadata": {},
   "outputs": [],
   "source": [
    "code = COMPANY_CODE\n",
    "\n",
    "# code = {'005930': ['삼성전자', 'sec'], '005380': ['현대차', 'hyunmotor'],\n",
    "#                  '035420': ['NAVER', 'naver'], '033780': ['KT&G', 'ktng']}\n",
    "# code = {'005930': ['삼성전자', 'sec'], '000660': ['SK하이닉스', 'skhynix']}\n",
    "# code = {'302440': ['SK바이오사이언스', 'skbio']}"
   ]
  },
  {
   "cell_type": "code",
   "execution_count": 5,
   "id": "1ced9635",
   "metadata": {},
   "outputs": [],
   "source": [
    "directory_for_predict = './data/data_for_ml/predict/'\n",
    "pkl_common_directory = './data/common_pkl/'\n",
    "pkl_directory = './data/common_pkl/'"
   ]
  },
  {
   "cell_type": "code",
   "execution_count": 6,
   "id": "a4ac3c16",
   "metadata": {},
   "outputs": [],
   "source": [
    "df_common = pd.read_pickle(directory_for_predict + '0_df_common.pkl')"
   ]
  },
  {
   "cell_type": "code",
   "execution_count": 7,
   "id": "82d5ae58",
   "metadata": {},
   "outputs": [],
   "source": [
    "for key, val in code.items():\n",
    "    df_company = pd.read_pickle(directory_for_predict + f'df_{val[1]}_company.pkl')\n",
    "    df_company = df_company.merge(df_common, how='left', left_index=True, right_index=True)\n",
    "    globals()[f'df_{val[1]}_combine'] = df_company.copy()"
   ]
  },
  {
   "cell_type": "code",
   "execution_count": 8,
   "id": "6c798e31",
   "metadata": {},
   "outputs": [
    {
     "data": {
      "text/html": [
       "<div>\n",
       "<style scoped>\n",
       "    .dataframe tbody tr th:only-of-type {\n",
       "        vertical-align: middle;\n",
       "    }\n",
       "\n",
       "    .dataframe tbody tr th {\n",
       "        vertical-align: top;\n",
       "    }\n",
       "\n",
       "    .dataframe thead th {\n",
       "        text-align: right;\n",
       "    }\n",
       "</style>\n",
       "<table border=\"1\" class=\"dataframe\">\n",
       "  <thead>\n",
       "    <tr style=\"text-align: right;\">\n",
       "      <th></th>\n",
       "      <th>retail_1</th>\n",
       "      <th>foreigner_1</th>\n",
       "      <th>institution_1</th>\n",
       "      <th>financial_1</th>\n",
       "      <th>invtrust_1</th>\n",
       "      <th>pension_1</th>\n",
       "      <th>privequity_1</th>\n",
       "      <th>bank_1</th>\n",
       "      <th>insurance_1</th>\n",
       "      <th>financeetc_1</th>\n",
       "      <th>...</th>\n",
       "      <th>ixk_cr</th>\n",
       "      <th>ixk_cr_2</th>\n",
       "      <th>ixtr_cr</th>\n",
       "      <th>ixtr_cr_2</th>\n",
       "      <th>ixut_cr</th>\n",
       "      <th>ixut_cr_2</th>\n",
       "      <th>nbi_cr</th>\n",
       "      <th>nbi_cr_2</th>\n",
       "      <th>bkx_cr</th>\n",
       "      <th>bkx_cr_2</th>\n",
       "    </tr>\n",
       "  </thead>\n",
       "  <tbody>\n",
       "    <tr>\n",
       "      <th>2024-07-30</th>\n",
       "      <td>-1.61430</td>\n",
       "      <td>-1.35576</td>\n",
       "      <td>-2.43929</td>\n",
       "      <td>-1.63530</td>\n",
       "      <td>-2.46729</td>\n",
       "      <td>-0.64513</td>\n",
       "      <td>-2.78994</td>\n",
       "      <td>-0.83972</td>\n",
       "      <td>-0.98752</td>\n",
       "      <td>0.25472</td>\n",
       "      <td>...</td>\n",
       "      <td>-0.09%</td>\n",
       "      <td>0.96541</td>\n",
       "      <td>-0.61%</td>\n",
       "      <td>-0.59925</td>\n",
       "      <td>1.04%</td>\n",
       "      <td>3.91850</td>\n",
       "      <td>-0.45%</td>\n",
       "      <td>0.08335</td>\n",
       "      <td>-0.98%</td>\n",
       "      <td>-0.03502</td>\n",
       "    </tr>\n",
       "    <tr>\n",
       "      <th>2024-07-31</th>\n",
       "      <td>-1.30644</td>\n",
       "      <td>-1.16788</td>\n",
       "      <td>-1.49970</td>\n",
       "      <td>-2.33396</td>\n",
       "      <td>-0.69928</td>\n",
       "      <td>-0.83791</td>\n",
       "      <td>-1.47469</td>\n",
       "      <td>-5.97826</td>\n",
       "      <td>-45.47826</td>\n",
       "      <td>-0.55639</td>\n",
       "      <td>...</td>\n",
       "      <td>-1.91%</td>\n",
       "      <td>-2.00439</td>\n",
       "      <td>0.90%</td>\n",
       "      <td>0.28428</td>\n",
       "      <td>0.07%</td>\n",
       "      <td>1.11105</td>\n",
       "      <td>-0.48%</td>\n",
       "      <td>-0.92943</td>\n",
       "      <td>1.12%</td>\n",
       "      <td>0.13009</td>\n",
       "    </tr>\n",
       "    <tr>\n",
       "      <th>2024-08-01</th>\n",
       "      <td>-0.50966</td>\n",
       "      <td>1.78498</td>\n",
       "      <td>-1.34927</td>\n",
       "      <td>-0.90778</td>\n",
       "      <td>-0.89184</td>\n",
       "      <td>10.81118</td>\n",
       "      <td>-0.51840</td>\n",
       "      <td>0.39956</td>\n",
       "      <td>0.99413</td>\n",
       "      <td>1.16949</td>\n",
       "      <td>...</td>\n",
       "      <td>3.62%</td>\n",
       "      <td>1.63527</td>\n",
       "      <td>0.71%</td>\n",
       "      <td>1.62115</td>\n",
       "      <td>1.69%</td>\n",
       "      <td>1.76130</td>\n",
       "      <td>-0.15%</td>\n",
       "      <td>-0.62860</td>\n",
       "      <td>-0.76%</td>\n",
       "      <td>0.35036</td>\n",
       "    </tr>\n",
       "    <tr>\n",
       "      <th>2024-08-02</th>\n",
       "      <td>-2.98661</td>\n",
       "      <td>-4.22350</td>\n",
       "      <td>-5.97267</td>\n",
       "      <td>8.84589</td>\n",
       "      <td>1.23333</td>\n",
       "      <td>-2.66085</td>\n",
       "      <td>0.66851</td>\n",
       "      <td>-1.00468</td>\n",
       "      <td>-1.08431</td>\n",
       "      <td>-0.70312</td>\n",
       "      <td>...</td>\n",
       "      <td>-2.77%</td>\n",
       "      <td>0.74947</td>\n",
       "      <td>-2.16%</td>\n",
       "      <td>-1.46948</td>\n",
       "      <td>-0.67%</td>\n",
       "      <td>1.00890</td>\n",
       "      <td>-0.70%</td>\n",
       "      <td>-0.85344</td>\n",
       "      <td>-2.99%</td>\n",
       "      <td>-3.72455</td>\n",
       "    </tr>\n",
       "    <tr>\n",
       "      <th>2024-08-05</th>\n",
       "      <td>-1.88251</td>\n",
       "      <td>-1.44434</td>\n",
       "      <td>-1.13554</td>\n",
       "      <td>-1.68871</td>\n",
       "      <td>-17.48134</td>\n",
       "      <td>-1.43699</td>\n",
       "      <td>-0.60513</td>\n",
       "      <td>162.66667</td>\n",
       "      <td>-3.72093</td>\n",
       "      <td>-6.92105</td>\n",
       "      <td>...</td>\n",
       "      <td>NaN</td>\n",
       "      <td>NaN</td>\n",
       "      <td>NaN</td>\n",
       "      <td>NaN</td>\n",
       "      <td>NaN</td>\n",
       "      <td>NaN</td>\n",
       "      <td>NaN</td>\n",
       "      <td>NaN</td>\n",
       "      <td>NaN</td>\n",
       "      <td>NaN</td>\n",
       "    </tr>\n",
       "  </tbody>\n",
       "</table>\n",
       "<p>5 rows × 114 columns</p>\n",
       "</div>"
      ],
      "text/plain": [
       "            retail_1  foreigner_1  institution_1  financial_1  invtrust_1  \\\n",
       "2024-07-30  -1.61430     -1.35576       -2.43929     -1.63530    -2.46729   \n",
       "2024-07-31  -1.30644     -1.16788       -1.49970     -2.33396    -0.69928   \n",
       "2024-08-01  -0.50966      1.78498       -1.34927     -0.90778    -0.89184   \n",
       "2024-08-02  -2.98661     -4.22350       -5.97267      8.84589     1.23333   \n",
       "2024-08-05  -1.88251     -1.44434       -1.13554     -1.68871   -17.48134   \n",
       "\n",
       "            pension_1  privequity_1     bank_1  insurance_1  financeetc_1  \\\n",
       "2024-07-30   -0.64513      -2.78994   -0.83972     -0.98752       0.25472   \n",
       "2024-07-31   -0.83791      -1.47469   -5.97826    -45.47826      -0.55639   \n",
       "2024-08-01   10.81118      -0.51840    0.39956      0.99413       1.16949   \n",
       "2024-08-02   -2.66085       0.66851   -1.00468     -1.08431      -0.70312   \n",
       "2024-08-05   -1.43699      -0.60513  162.66667     -3.72093      -6.92105   \n",
       "\n",
       "            ...  ixk_cr  ixk_cr_2  ixtr_cr  ixtr_cr_2  ixut_cr  ixut_cr_2  \\\n",
       "2024-07-30  ...  -0.09%   0.96541   -0.61%   -0.59925    1.04%    3.91850   \n",
       "2024-07-31  ...  -1.91%  -2.00439    0.90%    0.28428    0.07%    1.11105   \n",
       "2024-08-01  ...   3.62%   1.63527    0.71%    1.62115    1.69%    1.76130   \n",
       "2024-08-02  ...  -2.77%   0.74947   -2.16%   -1.46948   -0.67%    1.00890   \n",
       "2024-08-05  ...     NaN       NaN      NaN        NaN      NaN        NaN   \n",
       "\n",
       "            nbi_cr  nbi_cr_2  bkx_cr  bkx_cr_2  \n",
       "2024-07-30  -0.45%   0.08335  -0.98%  -0.03502  \n",
       "2024-07-31  -0.48%  -0.92943   1.12%   0.13009  \n",
       "2024-08-01  -0.15%  -0.62860  -0.76%   0.35036  \n",
       "2024-08-02  -0.70%  -0.85344  -2.99%  -3.72455  \n",
       "2024-08-05     NaN       NaN     NaN       NaN  \n",
       "\n",
       "[5 rows x 114 columns]"
      ]
     },
     "execution_count": 8,
     "metadata": {},
     "output_type": "execute_result"
    }
   ],
   "source": [
    "df_hyunmotor_combine.tail()"
   ]
  },
  {
   "cell_type": "code",
   "execution_count": 9,
   "id": "aeab3342",
   "metadata": {},
   "outputs": [
    {
     "data": {
      "text/plain": [
       "datetime.date(2022, 1, 7)"
      ]
     },
     "execution_count": 9,
     "metadata": {},
     "output_type": "execute_result"
    }
   ],
   "source": [
    "df_hyunmotor_combine.index[0]"
   ]
  },
  {
   "cell_type": "code",
   "execution_count": 10,
   "id": "587ac2cd",
   "metadata": {},
   "outputs": [],
   "source": [
    "col_inv1 = ['retail_1', 'foreigner_1', 'institution_1', 'financial_1', 'invtrust_1', 'pension_1', 'privequity_1', \n",
    "            'bank_1', 'insurance_1', 'financeetc_1', 'corporateetc_1', 'foreigneretc_1']\n",
    "col_inv2 = ['retail_2', 'foreigner_2', 'institution_2', 'financial_2', 'invtrust_2', 'pension_2',\n",
    "            'privequity_2', 'bank_2', 'insurance_2', 'financeetc_2', 'corporateetc_2', 'foreigneretc_2']"
   ]
  },
  {
   "cell_type": "code",
   "execution_count": 11,
   "id": "76ca8389",
   "metadata": {},
   "outputs": [],
   "source": [
    "col_his1 = ['open_1', 'high_1', 'low_1', 'close_1', 'vol_1']\n",
    "col_his2 = ['open_2', 'high_2', 'low_2', 'close_2', 'vol_2']"
   ]
  },
  {
   "cell_type": "code",
   "execution_count": 12,
   "id": "8a6b4bac",
   "metadata": {},
   "outputs": [],
   "source": [
    "col_common1 = [\"dji_cr\", \"dji_f_cr\", \"dxy_cr\", \"ixic_f_cr\", \"bond_kor_10_cr\", \"bond_kor_2_cr\", \"kosdaq_cr\", \"kospi_cr\", \n",
    "         \"krw_cr\", \"ixic_cr\", \"spx_f_cr\", \"sox_cr\", \"spx_cr\", \"bond_usa_10_cr\", \"bond_usa_2_cr\", \"bond_usa_3m_cr\", \n",
    "         \"vix_cr\", \"wti_cr\", \"spsy_cr\", \"spny_cr\", \"spxhc_cr\", \"splrcd_cr\", \"splrci_cr\", \"splrcu_cr\", \"splrcs_cr\",\n",
    "         \"splrct_cr\", \"splrcl_cr\", \"splrcm_cr\", \"ixbk_cr\", \"ixfn_cr\", \"ixid_cr\", \"ixis_cr\", \"ixk_cr\", \"ixtr_cr\",\n",
    "         \"ixut_cr\", \"nbi_cr\", \"bkx_cr\"]\n",
    "col_common2 = [\"dji_cr_2\", \"dji_f_cr_2\", \"dxy_cr_2\", \"ixic_f_cr_2\", \"bond_kor_10_cr_2\", \"bond_kor_2_cr_2\", \"kosdaq_cr_2\", \"kospi_cr_2\",\n",
    "         \"krw_cr_2\", \"ixic_cr_2\", \"spx_f_cr_2\", \"sox_cr_2\", \"spx_cr_2\", \"bond_usa_10_cr_2\", \"bond_usa_2_cr_2\", \"bond_usa_3m_cr_2\",\n",
    "         \"vix_cr_2\", \"wti_cr_2\", \"spsy_cr_2\", \"spny_cr_2\", \"spxhc_cr_2\", \"splrcd_cr_2\", \"splrci_cr_2\", \"splrcu_cr_2\",\n",
    "         \"splrcs_cr_2\", \"splrct_cr_2\", \"splrcl_cr_2\", \"splrcm_cr_2\", \"ixbk_cr_2\", \"ixfn_cr_2\", \"ixid_cr_2\",\n",
    "         \"ixis_cr_2\", \"ixk_cr_2\", \"ixtr_cr_2\", \"ixut_cr_2\", \"nbi_cr_2\", \"bkx_cr_2\"]"
   ]
  },
  {
   "cell_type": "code",
   "execution_count": 13,
   "id": "9a595935",
   "metadata": {},
   "outputs": [],
   "source": [
    "col_cr = ['weekday', 'cr_00', 'cr_05', 'cr_10', 'cr_15', 'cr_20']"
   ]
  },
  {
   "cell_type": "code",
   "execution_count": 14,
   "id": "75ec6070",
   "metadata": {},
   "outputs": [],
   "source": [
    "col_col = col_inv1 + col_common1 + col_his1 + col_inv2 + col_common2 + col_his2 + col_cr"
   ]
  },
  {
   "cell_type": "code",
   "execution_count": 15,
   "id": "ff6769da",
   "metadata": {},
   "outputs": [],
   "source": [
    "# # write common data only\n",
    "# df_temp = df_common.copy()\n",
    "# df_temp = df_temp[col_common1+col_common2]\n",
    "# pkl_common_directory = './data/common_pkl/'\n",
    "# df_temp.to_pickle(pkl_common_directory + 'df_common.pkl')\n",
    "# df_temp.to_csv(pkl_common_directory + 'df_common.csv')"
   ]
  },
  {
   "cell_type": "code",
   "execution_count": 16,
   "id": "c78c8f82",
   "metadata": {},
   "outputs": [],
   "source": [
    "new_columns = col_col"
   ]
  },
  {
   "cell_type": "code",
   "execution_count": 17,
   "id": "02da1256",
   "metadata": {},
   "outputs": [],
   "source": [
    "# column 순서 변경 : weekday, 'cr_00', 'cr_05', 'cr_10', 'cr_15', 'cr_20' column을 마지막으로 이동 \n",
    "for key, val in code.items():\n",
    "    globals()['df_{}_combine'.format(val[1])] = globals()['df_{}_combine'.format(val[1])][new_columns]"
   ]
  },
  {
   "cell_type": "code",
   "execution_count": 18,
   "id": "d4f1fa06",
   "metadata": {},
   "outputs": [
    {
     "data": {
      "text/plain": [
       "'\\n# drop inf, -inf : replace inf to 1 or -1 . 데이터를 살리고\\n# 변동률이 무한대가 되는 것을 방지하기 위해서, 나중에 발생하는 에러를 방지\\ndf_sec_sel.replace([np.inf, -np.inf], [1, -1], inplace=True)\\n\\n.impute 사용하는 것을 고려할 필요 있음.\\n'"
      ]
     },
     "execution_count": 18,
     "metadata": {},
     "output_type": "execute_result"
    }
   ],
   "source": [
    "'''\n",
    "# drop inf, -inf : replace inf to 1 or -1 . 데이터를 살리고\n",
    "# 변동률이 무한대가 되는 것을 방지하기 위해서, 나중에 발생하는 에러를 방지\n",
    "df_sec_sel.replace([np.inf, -np.inf], [1, -1], inplace=True)\n",
    "\n",
    ".impute 사용하는 것을 고려할 필요 있음.\n",
    "'''"
   ]
  },
  {
   "cell_type": "code",
   "execution_count": 19,
   "id": "7e91c1c5",
   "metadata": {},
   "outputs": [],
   "source": [
    "# drop inf, -inf : replace inf to 1 or -1 . 데이터를 살리고\n",
    "# 변동률이 무한대가 되는 것을 방지하기 위해서, 나중에 발생하는 에러를 방지\n",
    "for key, val in code.items():\n",
    "    globals()['df_{}_combine'.format(val[1])].replace([np.inf, -np.inf], [1, -1], inplace=True)\n",
    "\n",
    "# **** 데이터 전처리 from sklearn.impute import SimpleImputer, SimpleImputer 사용하기로 함."
   ]
  },
  {
   "cell_type": "code",
   "execution_count": 20,
   "id": "3fa3914b",
   "metadata": {},
   "outputs": [
    {
     "data": {
      "text/html": [
       "<div>\n",
       "<style scoped>\n",
       "    .dataframe tbody tr th:only-of-type {\n",
       "        vertical-align: middle;\n",
       "    }\n",
       "\n",
       "    .dataframe tbody tr th {\n",
       "        vertical-align: top;\n",
       "    }\n",
       "\n",
       "    .dataframe thead th {\n",
       "        text-align: right;\n",
       "    }\n",
       "</style>\n",
       "<table border=\"1\" class=\"dataframe\">\n",
       "  <thead>\n",
       "    <tr style=\"text-align: right;\">\n",
       "      <th></th>\n",
       "      <th>retail_1</th>\n",
       "      <th>foreigner_1</th>\n",
       "      <th>institution_1</th>\n",
       "      <th>financial_1</th>\n",
       "      <th>invtrust_1</th>\n",
       "      <th>pension_1</th>\n",
       "      <th>privequity_1</th>\n",
       "      <th>bank_1</th>\n",
       "      <th>insurance_1</th>\n",
       "      <th>financeetc_1</th>\n",
       "      <th>...</th>\n",
       "      <th>high_2</th>\n",
       "      <th>low_2</th>\n",
       "      <th>close_2</th>\n",
       "      <th>vol_2</th>\n",
       "      <th>weekday</th>\n",
       "      <th>cr_00</th>\n",
       "      <th>cr_05</th>\n",
       "      <th>cr_10</th>\n",
       "      <th>cr_15</th>\n",
       "      <th>cr_20</th>\n",
       "    </tr>\n",
       "  </thead>\n",
       "  <tbody>\n",
       "    <tr>\n",
       "      <th>2024-07-30</th>\n",
       "      <td>-0.61619</td>\n",
       "      <td>-1.03067</td>\n",
       "      <td>-1.78096</td>\n",
       "      <td>-1.19288</td>\n",
       "      <td>-0.48215</td>\n",
       "      <td>0.57865</td>\n",
       "      <td>-0.16744</td>\n",
       "      <td>-1.81808</td>\n",
       "      <td>-0.72795</td>\n",
       "      <td>-1.44410</td>\n",
       "      <td>...</td>\n",
       "      <td>0.01235</td>\n",
       "      <td>0.01248</td>\n",
       "      <td>0.00995</td>\n",
       "      <td>-0.37034</td>\n",
       "      <td>0</td>\n",
       "      <td>0</td>\n",
       "      <td>0</td>\n",
       "      <td>0</td>\n",
       "      <td>0</td>\n",
       "      <td>0</td>\n",
       "    </tr>\n",
       "    <tr>\n",
       "      <th>2024-07-31</th>\n",
       "      <td>3.10910</td>\n",
       "      <td>-6.68885</td>\n",
       "      <td>1.45335</td>\n",
       "      <td>2.34445</td>\n",
       "      <td>-2.25910</td>\n",
       "      <td>1.78147</td>\n",
       "      <td>-0.43204</td>\n",
       "      <td>-1.08895</td>\n",
       "      <td>-0.41252</td>\n",
       "      <td>-0.71824</td>\n",
       "      <td>...</td>\n",
       "      <td>-0.00369</td>\n",
       "      <td>-0.00498</td>\n",
       "      <td>0.00124</td>\n",
       "      <td>-0.09227</td>\n",
       "      <td>1</td>\n",
       "      <td>1</td>\n",
       "      <td>1</td>\n",
       "      <td>1</td>\n",
       "      <td>1</td>\n",
       "      <td>1</td>\n",
       "    </tr>\n",
       "    <tr>\n",
       "      <th>2024-08-01</th>\n",
       "      <td>-2.61341</td>\n",
       "      <td>-6.53952</td>\n",
       "      <td>-1.70971</td>\n",
       "      <td>-1.83974</td>\n",
       "      <td>-4.89667</td>\n",
       "      <td>-0.79536</td>\n",
       "      <td>-2.05421</td>\n",
       "      <td>-25.54839</td>\n",
       "      <td>-11.53825</td>\n",
       "      <td>-37.27869</td>\n",
       "      <td>...</td>\n",
       "      <td>0.02317</td>\n",
       "      <td>-0.00247</td>\n",
       "      <td>0.03325</td>\n",
       "      <td>0.62101</td>\n",
       "      <td>2</td>\n",
       "      <td>0</td>\n",
       "      <td>0</td>\n",
       "      <td>0</td>\n",
       "      <td>0</td>\n",
       "      <td>0</td>\n",
       "    </tr>\n",
       "    <tr>\n",
       "      <th>2024-08-02</th>\n",
       "      <td>-1.20336</td>\n",
       "      <td>-0.79116</td>\n",
       "      <td>-2.13947</td>\n",
       "      <td>-3.59739</td>\n",
       "      <td>-0.88928</td>\n",
       "      <td>-2.93723</td>\n",
       "      <td>-0.07406</td>\n",
       "      <td>0.37385</td>\n",
       "      <td>-1.05600</td>\n",
       "      <td>-0.92115</td>\n",
       "      <td>...</td>\n",
       "      <td>0.06296</td>\n",
       "      <td>0.03875</td>\n",
       "      <td>0.02593</td>\n",
       "      <td>0.58701</td>\n",
       "      <td>3</td>\n",
       "      <td>0</td>\n",
       "      <td>0</td>\n",
       "      <td>0</td>\n",
       "      <td>0</td>\n",
       "      <td>0</td>\n",
       "    </tr>\n",
       "    <tr>\n",
       "      <th>2024-08-05</th>\n",
       "      <td>11.04715</td>\n",
       "      <td>-10.89787</td>\n",
       "      <td>1.80190</td>\n",
       "      <td>0.29724</td>\n",
       "      <td>-17.82856</td>\n",
       "      <td>-3.13814</td>\n",
       "      <td>-3.65714</td>\n",
       "      <td>-2.28025</td>\n",
       "      <td>5.32870</td>\n",
       "      <td>2.49857</td>\n",
       "      <td>...</td>\n",
       "      <td>-0.02980</td>\n",
       "      <td>-0.01731</td>\n",
       "      <td>-0.05125</td>\n",
       "      <td>0.23418</td>\n",
       "      <td>4</td>\n",
       "      <td>0</td>\n",
       "      <td>0</td>\n",
       "      <td>0</td>\n",
       "      <td>0</td>\n",
       "      <td>0</td>\n",
       "    </tr>\n",
       "  </tbody>\n",
       "</table>\n",
       "<p>5 rows × 114 columns</p>\n",
       "</div>"
      ],
      "text/plain": [
       "            retail_1  foreigner_1  institution_1  financial_1  invtrust_1  \\\n",
       "2024-07-30  -0.61619     -1.03067       -1.78096     -1.19288    -0.48215   \n",
       "2024-07-31   3.10910     -6.68885        1.45335      2.34445    -2.25910   \n",
       "2024-08-01  -2.61341     -6.53952       -1.70971     -1.83974    -4.89667   \n",
       "2024-08-02  -1.20336     -0.79116       -2.13947     -3.59739    -0.88928   \n",
       "2024-08-05  11.04715    -10.89787        1.80190      0.29724   -17.82856   \n",
       "\n",
       "            pension_1  privequity_1    bank_1  insurance_1  financeetc_1  ...  \\\n",
       "2024-07-30    0.57865      -0.16744  -1.81808     -0.72795      -1.44410  ...   \n",
       "2024-07-31    1.78147      -0.43204  -1.08895     -0.41252      -0.71824  ...   \n",
       "2024-08-01   -0.79536      -2.05421 -25.54839    -11.53825     -37.27869  ...   \n",
       "2024-08-02   -2.93723      -0.07406   0.37385     -1.05600      -0.92115  ...   \n",
       "2024-08-05   -3.13814      -3.65714  -2.28025      5.32870       2.49857  ...   \n",
       "\n",
       "             high_2    low_2  close_2    vol_2  weekday  cr_00 cr_05 cr_10  \\\n",
       "2024-07-30  0.01235  0.01248  0.00995 -0.37034        0      0     0     0   \n",
       "2024-07-31 -0.00369 -0.00498  0.00124 -0.09227        1      1     1     1   \n",
       "2024-08-01  0.02317 -0.00247  0.03325  0.62101        2      0     0     0   \n",
       "2024-08-02  0.06296  0.03875  0.02593  0.58701        3      0     0     0   \n",
       "2024-08-05 -0.02980 -0.01731 -0.05125  0.23418        4      0     0     0   \n",
       "\n",
       "            cr_15  cr_20  \n",
       "2024-07-30      0      0  \n",
       "2024-07-31      1      1  \n",
       "2024-08-01      0      0  \n",
       "2024-08-02      0      0  \n",
       "2024-08-05      0      0  \n",
       "\n",
       "[5 rows x 114 columns]"
      ]
     },
     "execution_count": 20,
     "metadata": {},
     "output_type": "execute_result"
    }
   ],
   "source": [
    "df_sec_combine.tail()"
   ]
  },
  {
   "cell_type": "code",
   "execution_count": 21,
   "id": "bf7224df",
   "metadata": {},
   "outputs": [],
   "source": [
    "nanlo = locate_nan(df_sec_combine)  # nan 위치 찾기"
   ]
  },
  {
   "cell_type": "code",
   "execution_count": 22,
   "id": "2f63d7f5",
   "metadata": {},
   "outputs": [
    {
     "name": "stdout",
     "output_type": "stream",
     "text": [
      "[[datetime.date(2022, 1, 7) 'dji_cr']\n",
      " [datetime.date(2022, 1, 7) 'dji_f_cr']\n",
      " [datetime.date(2022, 1, 7) 'dxy_cr']\n",
      " ...\n",
      " [datetime.date(2024, 8, 5) 'ixut_cr_2']\n",
      " [datetime.date(2024, 8, 5) 'nbi_cr_2']\n",
      " [datetime.date(2024, 8, 5) 'bkx_cr_2']]\n"
     ]
    }
   ],
   "source": [
    "print(nanlo)"
   ]
  },
  {
   "cell_type": "code",
   "execution_count": 23,
   "id": "21a6d628",
   "metadata": {},
   "outputs": [],
   "source": [
    "# delete rows which include NaN : dji, spx, nasdaq 기타 common 지수중 한개라도 nan인 rows 제거\n",
    "for key, val in code.items():\n",
    "    globals()['df_{}_combine'.format(val[1])].dropna(inplace=True)"
   ]
  },
  {
   "cell_type": "code",
   "execution_count": 24,
   "id": "c6f3061c",
   "metadata": {},
   "outputs": [],
   "source": [
    "# string column을 numeric으로 전환\n",
    "def string_to_num(df):\n",
    "    df.replace('%', '', regex=True, inplace=True)\n",
    "    df = df.apply(pd.to_numeric)\n",
    "    return df\n",
    "\n",
    "for key, val in code.items():\n",
    "    globals()['df_{}_combine'.format(val[1])] = string_to_num(globals()['df_{}_combine'.format(val[1])])"
   ]
  },
  {
   "cell_type": "code",
   "execution_count": 25,
   "id": "7e8d5acf",
   "metadata": {},
   "outputs": [],
   "source": [
    "# pickle로 데이터 저장\n",
    "\n",
    "for key, val in code.items():\n",
    "    globals()[f'df_{val[1]}_combine'].to_pickle(directory_for_predict + f'df_{val[1]}_combine.pkl')\n",
    "    globals()[f'df_{val[1]}_combine'].to_csv(directory_for_predict + f'df_{val[1]}_combine.csv')"
   ]
  },
  {
   "cell_type": "code",
   "execution_count": null,
   "id": "a01825d3",
   "metadata": {},
   "outputs": [],
   "source": []
  },
  {
   "cell_type": "code",
   "execution_count": null,
   "id": "3300e5b2",
   "metadata": {},
   "outputs": [],
   "source": []
  },
  {
   "cell_type": "code",
   "execution_count": null,
   "id": "1ffeab80",
   "metadata": {},
   "outputs": [],
   "source": []
  },
  {
   "cell_type": "code",
   "execution_count": null,
   "id": "a1f7c9d1",
   "metadata": {},
   "outputs": [],
   "source": []
  },
  {
   "cell_type": "code",
   "execution_count": null,
   "id": "bc80b897",
   "metadata": {},
   "outputs": [],
   "source": []
  }
 ],
 "metadata": {
  "kernelspec": {
   "display_name": "Python 3 (ipykernel)",
   "language": "python",
   "name": "python3"
  },
  "language_info": {
   "codemirror_mode": {
    "name": "ipython",
    "version": 3
   },
   "file_extension": ".py",
   "mimetype": "text/x-python",
   "name": "python",
   "nbconvert_exporter": "python",
   "pygments_lexer": "ipython3",
   "version": "3.12.2"
  }
 },
 "nbformat": 4,
 "nbformat_minor": 5
}
