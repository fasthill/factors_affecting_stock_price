{
 "cells": [
  {
   "cell_type": "markdown",
   "id": "459ff0ca",
   "metadata": {},
   "source": [
    "## combine company data and common data"
   ]
  },
  {
   "cell_type": "code",
   "execution_count": 1,
   "id": "d3b5a935",
   "metadata": {},
   "outputs": [],
   "source": [
    "import datetime, time\n",
    "from datetime import date\n",
    "\n",
    "import pandas as pd\n",
    "import numpy as np\n",
    "import os\n",
    "import sys\n",
    "\n",
    "from sklearn.preprocessing import StandardScaler"
   ]
  },
  {
   "cell_type": "code",
   "execution_count": 2,
   "id": "8ef51f99",
   "metadata": {},
   "outputs": [],
   "source": [
    "module_path = os.path.abspath(os.path.join('.')) \n",
    "sys.path.append(module_path+\"\\\\data\\\\constant\")\n",
    "\n",
    "from constants import COMPANY_CODE"
   ]
  },
  {
   "cell_type": "code",
   "execution_count": 3,
   "id": "9ea60572",
   "metadata": {},
   "outputs": [
    {
     "data": {
      "text/plain": [
       "\" \\n[[datetime.date(2022, 1, 17) 'dji_cr']\\n [datetime.date(2022, 1, 17) 'dji_f_cr']\\n ...\\n [datetime.date(2023, 5, 23) 'kosdaq_cr']\\n [datetime.date(2023, 5, 23) 'kosdaq_cr_2']]\\n\""
      ]
     },
     "execution_count": 3,
     "metadata": {},
     "output_type": "execute_result"
    }
   ],
   "source": [
    "def locate_nan(df):\n",
    "    idx, idy = np.where(pd.isnull(df))\n",
    "    result = np.column_stack([df.index[idx], df.columns[idy]])\n",
    "    return result\n",
    "\n",
    "# return format\n",
    "''' \n",
    "[[datetime.date(2022, 1, 17) 'dji_cr']\n",
    " [datetime.date(2022, 1, 17) 'dji_f_cr']\n",
    " ...\n",
    " [datetime.date(2023, 5, 23) 'kosdaq_cr']\n",
    " [datetime.date(2023, 5, 23) 'kosdaq_cr_2']]\n",
    "'''"
   ]
  },
  {
   "cell_type": "code",
   "execution_count": 4,
   "id": "d6f9e0c8",
   "metadata": {},
   "outputs": [],
   "source": [
    "code = COMPANY_CODE\n",
    "\n",
    "# code = {'005930': ['삼성전자', 'sec'], '005380': ['현대차', 'hyunmotor'],\n",
    "#                  '035420': ['NAVER', 'naver'], '033780': ['KT&G', 'ktng']}\n",
    "# code = {'005930': ['삼성전자', 'sec'], '000660': ['SK하이닉스', 'skhynix']}\n",
    "# code = {'302440': ['SK바이오사이언스', 'skbio']}"
   ]
  },
  {
   "cell_type": "code",
   "execution_count": 5,
   "id": "1ced9635",
   "metadata": {},
   "outputs": [],
   "source": [
    "directory_for_predict = './data/data_for_ml/predict/'\n",
    "pkl_common_directory = './data/common_pkl/'\n",
    "pkl_directory = './data/common_pkl/'"
   ]
  },
  {
   "cell_type": "code",
   "execution_count": 6,
   "id": "a4ac3c16",
   "metadata": {},
   "outputs": [],
   "source": [
    "df_common = pd.read_pickle(directory_for_predict + '0_df_common.pkl')"
   ]
  },
  {
   "cell_type": "code",
   "execution_count": 7,
   "id": "82d5ae58",
   "metadata": {},
   "outputs": [],
   "source": [
    "for key, val in code.items():\n",
    "    df_company = pd.read_pickle(directory_for_predict + f'df_{val[1]}_company.pkl')\n",
    "    df_company = df_company.merge(df_common, how='left', left_index=True, right_index=True)\n",
    "    globals()[f'df_{val[1]}_combine'] = df_company.copy()"
   ]
  },
  {
   "cell_type": "code",
   "execution_count": 8,
   "id": "6c798e31",
   "metadata": {},
   "outputs": [
    {
     "data": {
      "text/html": [
       "<div>\n",
       "<style scoped>\n",
       "    .dataframe tbody tr th:only-of-type {\n",
       "        vertical-align: middle;\n",
       "    }\n",
       "\n",
       "    .dataframe tbody tr th {\n",
       "        vertical-align: top;\n",
       "    }\n",
       "\n",
       "    .dataframe thead th {\n",
       "        text-align: right;\n",
       "    }\n",
       "</style>\n",
       "<table border=\"1\" class=\"dataframe\">\n",
       "  <thead>\n",
       "    <tr style=\"text-align: right;\">\n",
       "      <th></th>\n",
       "      <th>retail_1</th>\n",
       "      <th>foreigner_1</th>\n",
       "      <th>institution_1</th>\n",
       "      <th>financial_1</th>\n",
       "      <th>invtrust_1</th>\n",
       "      <th>pension_1</th>\n",
       "      <th>privequity_1</th>\n",
       "      <th>bank_1</th>\n",
       "      <th>insurance_1</th>\n",
       "      <th>financeetc_1</th>\n",
       "      <th>...</th>\n",
       "      <th>ixk_cr</th>\n",
       "      <th>ixk_cr_2</th>\n",
       "      <th>ixtr_cr</th>\n",
       "      <th>ixtr_cr_2</th>\n",
       "      <th>ixut_cr</th>\n",
       "      <th>ixut_cr_2</th>\n",
       "      <th>nbi_cr</th>\n",
       "      <th>nbi_cr_2</th>\n",
       "      <th>bkx_cr</th>\n",
       "      <th>bkx_cr_2</th>\n",
       "    </tr>\n",
       "  </thead>\n",
       "  <tbody>\n",
       "    <tr>\n",
       "      <th>2023-06-19</th>\n",
       "      <td>-4.02401</td>\n",
       "      <td>-0.92068</td>\n",
       "      <td>2.19109</td>\n",
       "      <td>-14.66937</td>\n",
       "      <td>-0.40698</td>\n",
       "      <td>0.30719</td>\n",
       "      <td>-0.83625</td>\n",
       "      <td>11.37500</td>\n",
       "      <td>1.16745</td>\n",
       "      <td>13.78947</td>\n",
       "      <td>...</td>\n",
       "      <td>-0.92%</td>\n",
       "      <td>0.33770</td>\n",
       "      <td>-0.69%</td>\n",
       "      <td>0.62652</td>\n",
       "      <td>-0.52%</td>\n",
       "      <td>1.51891</td>\n",
       "      <td>-0.37%</td>\n",
       "      <td>0.86249</td>\n",
       "      <td>-0.71%</td>\n",
       "      <td>0.79003</td>\n",
       "    </tr>\n",
       "    <tr>\n",
       "      <th>2023-06-20</th>\n",
       "      <td>-1.69591</td>\n",
       "      <td>17.32595</td>\n",
       "      <td>-0.83691</td>\n",
       "      <td>-1.54541</td>\n",
       "      <td>5.21008</td>\n",
       "      <td>0.53065</td>\n",
       "      <td>-27.62136</td>\n",
       "      <td>0.00000</td>\n",
       "      <td>-0.48096</td>\n",
       "      <td>-0.77224</td>\n",
       "      <td>...</td>\n",
       "      <td>NaN</td>\n",
       "      <td>NaN</td>\n",
       "      <td>NaN</td>\n",
       "      <td>NaN</td>\n",
       "      <td>NaN</td>\n",
       "      <td>NaN</td>\n",
       "      <td>NaN</td>\n",
       "      <td>NaN</td>\n",
       "      <td>NaN</td>\n",
       "      <td>NaN</td>\n",
       "    </tr>\n",
       "    <tr>\n",
       "      <th>2023-06-21</th>\n",
       "      <td>-1.61068</td>\n",
       "      <td>-1.07468</td>\n",
       "      <td>1.43307</td>\n",
       "      <td>-0.69804</td>\n",
       "      <td>-0.50248</td>\n",
       "      <td>-0.46653</td>\n",
       "      <td>-1.27206</td>\n",
       "      <td>-1.12121</td>\n",
       "      <td>2.26205</td>\n",
       "      <td>-1.00000</td>\n",
       "      <td>...</td>\n",
       "      <td>-0.31%</td>\n",
       "      <td>-1.22328</td>\n",
       "      <td>-1.23%</td>\n",
       "      <td>-1.91121</td>\n",
       "      <td>-0.98%</td>\n",
       "      <td>-1.49847</td>\n",
       "      <td>-0.50%</td>\n",
       "      <td>-0.86754</td>\n",
       "      <td>-1.02%</td>\n",
       "      <td>-1.71471</td>\n",
       "    </tr>\n",
       "    <tr>\n",
       "      <th>2023-06-22</th>\n",
       "      <td>-14.07475</td>\n",
       "      <td>-57.33179</td>\n",
       "      <td>-5.20645</td>\n",
       "      <td>4.57379</td>\n",
       "      <td>-3.94379</td>\n",
       "      <td>-3.01671</td>\n",
       "      <td>-5.71046</td>\n",
       "      <td>-106.33333</td>\n",
       "      <td>-1.81362</td>\n",
       "      <td>-inf</td>\n",
       "      <td>...</td>\n",
       "      <td>-1.53%</td>\n",
       "      <td>-1.83549</td>\n",
       "      <td>0.82%</td>\n",
       "      <td>-0.41628</td>\n",
       "      <td>-0.56%</td>\n",
       "      <td>-1.53180</td>\n",
       "      <td>-0.43%</td>\n",
       "      <td>-0.93219</td>\n",
       "      <td>-0.63%</td>\n",
       "      <td>-1.64116</td>\n",
       "    </tr>\n",
       "    <tr>\n",
       "      <th>2023-06-23</th>\n",
       "      <td>-0.92341</td>\n",
       "      <td>-1.01941</td>\n",
       "      <td>-0.72959</td>\n",
       "      <td>-0.73857</td>\n",
       "      <td>-1.00339</td>\n",
       "      <td>-0.34263</td>\n",
       "      <td>-0.93682</td>\n",
       "      <td>-1.00158</td>\n",
       "      <td>-1.50158</td>\n",
       "      <td>-1.00000</td>\n",
       "      <td>...</td>\n",
       "      <td>1.22%</td>\n",
       "      <td>-0.33336</td>\n",
       "      <td>-0.06%</td>\n",
       "      <td>0.76094</td>\n",
       "      <td>0.25%</td>\n",
       "      <td>-0.31212</td>\n",
       "      <td>0.09%</td>\n",
       "      <td>-0.34525</td>\n",
       "      <td>-2.33%</td>\n",
       "      <td>-2.94630</td>\n",
       "    </tr>\n",
       "  </tbody>\n",
       "</table>\n",
       "<p>5 rows × 114 columns</p>\n",
       "</div>"
      ],
      "text/plain": [
       "            retail_1  foreigner_1  institution_1  financial_1  invtrust_1   \n",
       "2023-06-19  -4.02401     -0.92068        2.19109    -14.66937    -0.40698  \\\n",
       "2023-06-20  -1.69591     17.32595       -0.83691     -1.54541     5.21008   \n",
       "2023-06-21  -1.61068     -1.07468        1.43307     -0.69804    -0.50248   \n",
       "2023-06-22 -14.07475    -57.33179       -5.20645      4.57379    -3.94379   \n",
       "2023-06-23  -0.92341     -1.01941       -0.72959     -0.73857    -1.00339   \n",
       "\n",
       "            pension_1  privequity_1     bank_1  insurance_1  financeetc_1   \n",
       "2023-06-19    0.30719      -0.83625   11.37500      1.16745      13.78947  \\\n",
       "2023-06-20    0.53065     -27.62136    0.00000     -0.48096      -0.77224   \n",
       "2023-06-21   -0.46653      -1.27206   -1.12121      2.26205      -1.00000   \n",
       "2023-06-22   -3.01671      -5.71046 -106.33333     -1.81362          -inf   \n",
       "2023-06-23   -0.34263      -0.93682   -1.00158     -1.50158      -1.00000   \n",
       "\n",
       "            ...  ixk_cr  ixk_cr_2  ixtr_cr  ixtr_cr_2  ixut_cr  ixut_cr_2   \n",
       "2023-06-19  ...  -0.92%   0.33770   -0.69%    0.62652   -0.52%    1.51891  \\\n",
       "2023-06-20  ...     NaN       NaN      NaN        NaN      NaN        NaN   \n",
       "2023-06-21  ...  -0.31%  -1.22328   -1.23%   -1.91121   -0.98%   -1.49847   \n",
       "2023-06-22  ...  -1.53%  -1.83549    0.82%   -0.41628   -0.56%   -1.53180   \n",
       "2023-06-23  ...   1.22%  -0.33336   -0.06%    0.76094    0.25%   -0.31212   \n",
       "\n",
       "            nbi_cr  nbi_cr_2  bkx_cr  bkx_cr_2  \n",
       "2023-06-19  -0.37%   0.86249  -0.71%   0.79003  \n",
       "2023-06-20     NaN       NaN     NaN       NaN  \n",
       "2023-06-21  -0.50%  -0.86754  -1.02%  -1.71471  \n",
       "2023-06-22  -0.43%  -0.93219  -0.63%  -1.64116  \n",
       "2023-06-23   0.09%  -0.34525  -2.33%  -2.94630  \n",
       "\n",
       "[5 rows x 114 columns]"
      ]
     },
     "execution_count": 8,
     "metadata": {},
     "output_type": "execute_result"
    }
   ],
   "source": [
    "df_hyunmotor_combine.tail()"
   ]
  },
  {
   "cell_type": "code",
   "execution_count": 9,
   "id": "aeab3342",
   "metadata": {},
   "outputs": [
    {
     "data": {
      "text/plain": [
       "datetime.date(2022, 1, 7)"
      ]
     },
     "execution_count": 9,
     "metadata": {},
     "output_type": "execute_result"
    }
   ],
   "source": [
    "df_hyunmotor_combine.index[0]"
   ]
  },
  {
   "cell_type": "code",
   "execution_count": 10,
   "id": "587ac2cd",
   "metadata": {},
   "outputs": [],
   "source": [
    "col_inv1 = ['retail_1', 'foreigner_1', 'institution_1', 'financial_1', 'invtrust_1', 'pension_1', 'privequity_1', \n",
    "            'bank_1', 'insurance_1', 'financeetc_1', 'corporateetc_1', 'foreigneretc_1']\n",
    "col_inv2 = ['retail_2', 'foreigner_2', 'institution_2', 'financial_2', 'invtrust_2', 'pension_2',\n",
    "            'privequity_2', 'bank_2', 'insurance_2', 'financeetc_2', 'corporateetc_2', 'foreigneretc_2']"
   ]
  },
  {
   "cell_type": "code",
   "execution_count": 11,
   "id": "76ca8389",
   "metadata": {},
   "outputs": [],
   "source": [
    "col_his1 = ['open_1', 'high_1', 'low_1', 'close_1', 'vol_1']\n",
    "col_his2 = ['open_2', 'high_2', 'low_2', 'close_2', 'vol_2']"
   ]
  },
  {
   "cell_type": "code",
   "execution_count": 12,
   "id": "8a6b4bac",
   "metadata": {},
   "outputs": [],
   "source": [
    "col_common1 = [\"dji_cr\", \"dji_f_cr\", \"dxy_cr\", \"ixic_f_cr\", \"bond_kor_10_cr\", \"bond_kor_2_cr\", \"kosdaq_cr\", \"kospi_cr\", \n",
    "         \"krw_cr\", \"ixic_cr\", \"spx_f_cr\", \"sox_cr\", \"spx_cr\", \"bond_usa_10_cr\", \"bond_usa_2_cr\", \"bond_usa_3m_cr\", \n",
    "         \"vix_cr\", \"wti_cr\", \"spsy_cr\", \"spny_cr\", \"spxhc_cr\", \"splrcd_cr\", \"splrci_cr\", \"splrcu_cr\", \"splrcs_cr\",\n",
    "         \"splrct_cr\", \"splrcl_cr\", \"splrcm_cr\", \"ixbk_cr\", \"ixfn_cr\", \"ixid_cr\", \"ixis_cr\", \"ixk_cr\", \"ixtr_cr\",\n",
    "         \"ixut_cr\", \"nbi_cr\", \"bkx_cr\"]\n",
    "col_common2 = [\"dji_cr_2\", \"dji_f_cr_2\", \"dxy_cr_2\", \"ixic_f_cr_2\", \"bond_kor_10_cr_2\", \"bond_kor_2_cr_2\", \"kosdaq_cr_2\", \"kospi_cr_2\",\n",
    "         \"krw_cr_2\", \"ixic_cr_2\", \"spx_f_cr_2\", \"sox_cr_2\", \"spx_cr_2\", \"bond_usa_10_cr_2\", \"bond_usa_2_cr_2\", \"bond_usa_3m_cr_2\",\n",
    "         \"vix_cr_2\", \"wti_cr_2\", \"spsy_cr_2\", \"spny_cr_2\", \"spxhc_cr_2\", \"splrcd_cr_2\", \"splrci_cr_2\", \"splrcu_cr_2\",\n",
    "         \"splrcs_cr_2\", \"splrct_cr_2\", \"splrcl_cr_2\", \"splrcm_cr_2\", \"ixbk_cr_2\", \"ixfn_cr_2\", \"ixid_cr_2\",\n",
    "         \"ixis_cr_2\", \"ixk_cr_2\", \"ixtr_cr_2\", \"ixut_cr_2\", \"nbi_cr_2\", \"bkx_cr_2\"]"
   ]
  },
  {
   "cell_type": "code",
   "execution_count": 13,
   "id": "9a595935",
   "metadata": {},
   "outputs": [],
   "source": [
    "col_cr = ['weekday', 'cr_00', 'cr_05', 'cr_10', 'cr_15', 'cr_20']"
   ]
  },
  {
   "cell_type": "code",
   "execution_count": 14,
   "id": "75ec6070",
   "metadata": {},
   "outputs": [],
   "source": [
    "col_col = col_inv1 + col_common1 + col_his1 + col_inv2 + col_common2 + col_his2 + col_cr"
   ]
  },
  {
   "cell_type": "code",
   "execution_count": 15,
   "id": "ff6769da",
   "metadata": {},
   "outputs": [],
   "source": [
    "# # write common data only\n",
    "# df_temp = df_common.copy()\n",
    "# df_temp = df_temp[col_common1+col_common2]\n",
    "# pkl_common_directory = './data/common_pkl/'\n",
    "# df_temp.to_pickle(pkl_common_directory + 'df_common.pkl')\n",
    "# df_temp.to_csv(pkl_common_directory + 'df_common.csv')"
   ]
  },
  {
   "cell_type": "code",
   "execution_count": 16,
   "id": "c78c8f82",
   "metadata": {},
   "outputs": [],
   "source": [
    "new_columns = col_col"
   ]
  },
  {
   "cell_type": "code",
   "execution_count": 17,
   "id": "02da1256",
   "metadata": {},
   "outputs": [],
   "source": [
    "# column 순서 변경 : weekday, 'cr_00', 'cr_05', 'cr_10', 'cr_15', 'cr_20' column을 마지막으로 이동 \n",
    "for key, val in code.items():\n",
    "    globals()['df_{}_combine'.format(val[1])] = globals()['df_{}_combine'.format(val[1])][new_columns]"
   ]
  },
  {
   "cell_type": "code",
   "execution_count": 18,
   "id": "d4f1fa06",
   "metadata": {},
   "outputs": [
    {
     "data": {
      "text/plain": [
       "'\\n# drop inf, -inf : replace inf to 1 or -1 . 데이터를 살리고\\n# 변동률이 무한대가 되는 것을 방지하기 위해서, 나중에 발생하는 에러를 방지\\ndf_sec_sel.replace([np.inf, -np.inf], [1, -1], inplace=True)\\n\\n.impute 사용하는 것을 고려할 필요 있음.\\n'"
      ]
     },
     "execution_count": 18,
     "metadata": {},
     "output_type": "execute_result"
    }
   ],
   "source": [
    "'''\n",
    "# drop inf, -inf : replace inf to 1 or -1 . 데이터를 살리고\n",
    "# 변동률이 무한대가 되는 것을 방지하기 위해서, 나중에 발생하는 에러를 방지\n",
    "df_sec_sel.replace([np.inf, -np.inf], [1, -1], inplace=True)\n",
    "\n",
    ".impute 사용하는 것을 고려할 필요 있음.\n",
    "'''"
   ]
  },
  {
   "cell_type": "code",
   "execution_count": 19,
   "id": "7e91c1c5",
   "metadata": {},
   "outputs": [],
   "source": [
    "# drop inf, -inf : replace inf to 1 or -1 . 데이터를 살리고\n",
    "# 변동률이 무한대가 되는 것을 방지하기 위해서, 나중에 발생하는 에러를 방지\n",
    "for key, val in code.items():\n",
    "    globals()['df_{}_combine'.format(val[1])].replace([np.inf, -np.inf], [1, -1], inplace=True)\n",
    "\n",
    "# **** 데이터 전처리 from sklearn.impute import SimpleImputer, SimpleImputer 사용하기로 함."
   ]
  },
  {
   "cell_type": "code",
   "execution_count": 20,
   "id": "3fa3914b",
   "metadata": {},
   "outputs": [
    {
     "data": {
      "text/html": [
       "<div>\n",
       "<style scoped>\n",
       "    .dataframe tbody tr th:only-of-type {\n",
       "        vertical-align: middle;\n",
       "    }\n",
       "\n",
       "    .dataframe tbody tr th {\n",
       "        vertical-align: top;\n",
       "    }\n",
       "\n",
       "    .dataframe thead th {\n",
       "        text-align: right;\n",
       "    }\n",
       "</style>\n",
       "<table border=\"1\" class=\"dataframe\">\n",
       "  <thead>\n",
       "    <tr style=\"text-align: right;\">\n",
       "      <th></th>\n",
       "      <th>retail_1</th>\n",
       "      <th>foreigner_1</th>\n",
       "      <th>institution_1</th>\n",
       "      <th>financial_1</th>\n",
       "      <th>invtrust_1</th>\n",
       "      <th>pension_1</th>\n",
       "      <th>privequity_1</th>\n",
       "      <th>bank_1</th>\n",
       "      <th>insurance_1</th>\n",
       "      <th>financeetc_1</th>\n",
       "      <th>...</th>\n",
       "      <th>high_2</th>\n",
       "      <th>low_2</th>\n",
       "      <th>close_2</th>\n",
       "      <th>vol_2</th>\n",
       "      <th>weekday</th>\n",
       "      <th>cr_00</th>\n",
       "      <th>cr_05</th>\n",
       "      <th>cr_10</th>\n",
       "      <th>cr_15</th>\n",
       "      <th>cr_20</th>\n",
       "    </tr>\n",
       "  </thead>\n",
       "  <tbody>\n",
       "    <tr>\n",
       "      <th>2023-06-19</th>\n",
       "      <td>-1.40699</td>\n",
       "      <td>1.18497</td>\n",
       "      <td>3.90911</td>\n",
       "      <td>-6.67134</td>\n",
       "      <td>1.46556</td>\n",
       "      <td>-0.07437</td>\n",
       "      <td>-0.69671</td>\n",
       "      <td>0.04348</td>\n",
       "      <td>-0.98251</td>\n",
       "      <td>225.80000</td>\n",
       "      <td>...</td>\n",
       "      <td>-0.00416</td>\n",
       "      <td>-0.00281</td>\n",
       "      <td>-0.00139</td>\n",
       "      <td>0.22587</td>\n",
       "      <td>4</td>\n",
       "      <td>0</td>\n",
       "      <td>0</td>\n",
       "      <td>0</td>\n",
       "      <td>0</td>\n",
       "      <td>0</td>\n",
       "    </tr>\n",
       "    <tr>\n",
       "      <th>2023-06-20</th>\n",
       "      <td>0.19086</td>\n",
       "      <td>-0.74906</td>\n",
       "      <td>-0.67044</td>\n",
       "      <td>-1.61036</td>\n",
       "      <td>2.60838</td>\n",
       "      <td>0.66080</td>\n",
       "      <td>10.58480</td>\n",
       "      <td>0.93056</td>\n",
       "      <td>-13.94595</td>\n",
       "      <td>-0.78601</td>\n",
       "      <td>...</td>\n",
       "      <td>-0.00830</td>\n",
       "      <td>-0.00561</td>\n",
       "      <td>-0.00420</td>\n",
       "      <td>-0.18466</td>\n",
       "      <td>0</td>\n",
       "      <td>1</td>\n",
       "      <td>0</td>\n",
       "      <td>0</td>\n",
       "      <td>0</td>\n",
       "      <td>0</td>\n",
       "    </tr>\n",
       "    <tr>\n",
       "      <th>2023-06-21</th>\n",
       "      <td>-4.06178</td>\n",
       "      <td>1.46120</td>\n",
       "      <td>-0.23258</td>\n",
       "      <td>-0.89917</td>\n",
       "      <td>-0.38837</td>\n",
       "      <td>-0.53556</td>\n",
       "      <td>-1.26622</td>\n",
       "      <td>-0.73381</td>\n",
       "      <td>-0.63257</td>\n",
       "      <td>-0.85989</td>\n",
       "      <td>...</td>\n",
       "      <td>-0.00695</td>\n",
       "      <td>-0.00705</td>\n",
       "      <td>-0.00557</td>\n",
       "      <td>-0.24820</td>\n",
       "      <td>1</td>\n",
       "      <td>0</td>\n",
       "      <td>0</td>\n",
       "      <td>0</td>\n",
       "      <td>0</td>\n",
       "      <td>0</td>\n",
       "    </tr>\n",
       "    <tr>\n",
       "      <th>2023-06-22</th>\n",
       "      <td>-2.69075</td>\n",
       "      <td>-1.55676</td>\n",
       "      <td>-0.13255</td>\n",
       "      <td>3.60213</td>\n",
       "      <td>0.41362</td>\n",
       "      <td>0.01545</td>\n",
       "      <td>-3.62429</td>\n",
       "      <td>-0.97297</td>\n",
       "      <td>1.34848</td>\n",
       "      <td>-1.00980</td>\n",
       "      <td>...</td>\n",
       "      <td>-0.00697</td>\n",
       "      <td>-0.00705</td>\n",
       "      <td>-0.00983</td>\n",
       "      <td>-0.04272</td>\n",
       "      <td>2</td>\n",
       "      <td>1</td>\n",
       "      <td>1</td>\n",
       "      <td>1</td>\n",
       "      <td>0</td>\n",
       "      <td>0</td>\n",
       "    </tr>\n",
       "    <tr>\n",
       "      <th>2023-06-23</th>\n",
       "      <td>-3.52400</td>\n",
       "      <td>-4.80662</td>\n",
       "      <td>-1.92190</td>\n",
       "      <td>-1.17607</td>\n",
       "      <td>-0.65476</td>\n",
       "      <td>-1.88451</td>\n",
       "      <td>-2.56915</td>\n",
       "      <td>-1.00000</td>\n",
       "      <td>1.65403</td>\n",
       "      <td>-6.00000</td>\n",
       "      <td>...</td>\n",
       "      <td>0.00140</td>\n",
       "      <td>-0.00426</td>\n",
       "      <td>-0.00140</td>\n",
       "      <td>-0.01590</td>\n",
       "      <td>3</td>\n",
       "      <td>0</td>\n",
       "      <td>0</td>\n",
       "      <td>0</td>\n",
       "      <td>0</td>\n",
       "      <td>0</td>\n",
       "    </tr>\n",
       "  </tbody>\n",
       "</table>\n",
       "<p>5 rows × 114 columns</p>\n",
       "</div>"
      ],
      "text/plain": [
       "            retail_1  foreigner_1  institution_1  financial_1  invtrust_1   \n",
       "2023-06-19  -1.40699      1.18497        3.90911     -6.67134     1.46556  \\\n",
       "2023-06-20   0.19086     -0.74906       -0.67044     -1.61036     2.60838   \n",
       "2023-06-21  -4.06178      1.46120       -0.23258     -0.89917    -0.38837   \n",
       "2023-06-22  -2.69075     -1.55676       -0.13255      3.60213     0.41362   \n",
       "2023-06-23  -3.52400     -4.80662       -1.92190     -1.17607    -0.65476   \n",
       "\n",
       "            pension_1  privequity_1   bank_1  insurance_1  financeetc_1  ...   \n",
       "2023-06-19   -0.07437      -0.69671  0.04348     -0.98251     225.80000  ...  \\\n",
       "2023-06-20    0.66080      10.58480  0.93056    -13.94595      -0.78601  ...   \n",
       "2023-06-21   -0.53556      -1.26622 -0.73381     -0.63257      -0.85989  ...   \n",
       "2023-06-22    0.01545      -3.62429 -0.97297      1.34848      -1.00980  ...   \n",
       "2023-06-23   -1.88451      -2.56915 -1.00000      1.65403      -6.00000  ...   \n",
       "\n",
       "             high_2    low_2  close_2    vol_2  weekday  cr_00 cr_05 cr_10   \n",
       "2023-06-19 -0.00416 -0.00281 -0.00139  0.22587        4      0     0     0  \\\n",
       "2023-06-20 -0.00830 -0.00561 -0.00420 -0.18466        0      1     0     0   \n",
       "2023-06-21 -0.00695 -0.00705 -0.00557 -0.24820        1      0     0     0   \n",
       "2023-06-22 -0.00697 -0.00705 -0.00983 -0.04272        2      1     1     1   \n",
       "2023-06-23  0.00140 -0.00426 -0.00140 -0.01590        3      0     0     0   \n",
       "\n",
       "            cr_15  cr_20  \n",
       "2023-06-19      0      0  \n",
       "2023-06-20      0      0  \n",
       "2023-06-21      0      0  \n",
       "2023-06-22      0      0  \n",
       "2023-06-23      0      0  \n",
       "\n",
       "[5 rows x 114 columns]"
      ]
     },
     "execution_count": 20,
     "metadata": {},
     "output_type": "execute_result"
    }
   ],
   "source": [
    "df_sec_combine.tail()"
   ]
  },
  {
   "cell_type": "code",
   "execution_count": 21,
   "id": "bf7224df",
   "metadata": {},
   "outputs": [],
   "source": [
    "nanlo = locate_nan(df_sec_combine)  # nan 위치 찾기"
   ]
  },
  {
   "cell_type": "code",
   "execution_count": 22,
   "id": "2f63d7f5",
   "metadata": {},
   "outputs": [
    {
     "name": "stdout",
     "output_type": "stream",
     "text": [
      "[[datetime.date(2022, 1, 18) 'dji_cr']\n",
      " [datetime.date(2022, 1, 18) 'dji_f_cr']\n",
      " [datetime.date(2022, 1, 18) 'dxy_cr']\n",
      " ...\n",
      " [datetime.date(2023, 6, 20) 'ixut_cr_2']\n",
      " [datetime.date(2023, 6, 20) 'nbi_cr_2']\n",
      " [datetime.date(2023, 6, 20) 'bkx_cr_2']]\n"
     ]
    }
   ],
   "source": [
    "print(nanlo)"
   ]
  },
  {
   "cell_type": "code",
   "execution_count": 23,
   "id": "21a6d628",
   "metadata": {},
   "outputs": [],
   "source": [
    "# delete rows which include NaN : dji, spx, nasdaq 기타 common 지수중 한개라도 nan인 rows 제거\n",
    "for key, val in code.items():\n",
    "    globals()['df_{}_combine'.format(val[1])].dropna(inplace=True)"
   ]
  },
  {
   "cell_type": "code",
   "execution_count": 24,
   "id": "c6f3061c",
   "metadata": {},
   "outputs": [],
   "source": [
    "# string column을 numeric으로 전환\n",
    "def string_to_num(df):\n",
    "    df.replace('%', '', regex=True, inplace=True)\n",
    "    df = df.apply(pd.to_numeric)\n",
    "    return df\n",
    "\n",
    "for key, val in code.items():\n",
    "    globals()['df_{}_combine'.format(val[1])] = string_to_num(globals()['df_{}_combine'.format(val[1])])"
   ]
  },
  {
   "cell_type": "code",
   "execution_count": 25,
   "id": "7e8d5acf",
   "metadata": {},
   "outputs": [],
   "source": [
    "# pickle로 데이터 저장\n",
    "\n",
    "for key, val in code.items():\n",
    "    globals()[f'df_{val[1]}_combine'].to_pickle(directory_for_predict + f'df_{val[1]}_combine.pkl')\n",
    "    globals()[f'df_{val[1]}_combine'].to_csv(directory_for_predict + f'df_{val[1]}_combine.csv')"
   ]
  },
  {
   "cell_type": "code",
   "execution_count": null,
   "id": "a01825d3",
   "metadata": {},
   "outputs": [],
   "source": []
  }
 ],
 "metadata": {
  "kernelspec": {
   "display_name": "Python 3 (ipykernel)",
   "language": "python",
   "name": "python3"
  },
  "language_info": {
   "codemirror_mode": {
    "name": "ipython",
    "version": 3
   },
   "file_extension": ".py",
   "mimetype": "text/x-python",
   "name": "python",
   "nbconvert_exporter": "python",
   "pygments_lexer": "ipython3",
   "version": "3.9.1"
  }
 },
 "nbformat": 4,
 "nbformat_minor": 5
}
