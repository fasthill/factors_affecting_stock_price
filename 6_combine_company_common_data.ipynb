{
 "cells": [
  {
   "cell_type": "markdown",
   "id": "459ff0ca",
   "metadata": {},
   "source": [
    "## combine company data and common data"
   ]
  },
  {
   "cell_type": "code",
   "execution_count": 1,
   "id": "d3b5a935",
   "metadata": {},
   "outputs": [],
   "source": [
    "import datetime, time\n",
    "from datetime import date\n",
    "\n",
    "import pandas as pd\n",
    "import numpy as np\n",
    "import os\n",
    "import sys\n",
    "\n",
    "from sklearn.preprocessing import StandardScaler"
   ]
  },
  {
   "cell_type": "code",
   "execution_count": 2,
   "id": "8ef51f99",
   "metadata": {},
   "outputs": [],
   "source": [
    "module_path = os.path.abspath(os.path.join('.')) \n",
    "sys.path.append(module_path+\"\\\\data\\\\constant\")\n",
    "\n",
    "from constants import COMPANY_CODE"
   ]
  },
  {
   "cell_type": "code",
   "execution_count": 3,
   "id": "9ea60572",
   "metadata": {},
   "outputs": [
    {
     "data": {
      "text/plain": [
       "\" \\n[[datetime.date(2022, 1, 17) 'dji_cr']\\n [datetime.date(2022, 1, 17) 'dji_f_cr']\\n ...\\n [datetime.date(2023, 5, 23) 'kosdaq_cr']\\n [datetime.date(2023, 5, 23) 'kosdaq_cr_2']]\\n\""
      ]
     },
     "execution_count": 3,
     "metadata": {},
     "output_type": "execute_result"
    }
   ],
   "source": [
    "def locate_nan(df):\n",
    "    idx, idy = np.where(pd.isnull(df))\n",
    "    result = np.column_stack([df.index[idx], df.columns[idy]])\n",
    "    return result\n",
    "\n",
    "# return format\n",
    "''' \n",
    "[[datetime.date(2022, 1, 17) 'dji_cr']\n",
    " [datetime.date(2022, 1, 17) 'dji_f_cr']\n",
    " ...\n",
    " [datetime.date(2023, 5, 23) 'kosdaq_cr']\n",
    " [datetime.date(2023, 5, 23) 'kosdaq_cr_2']]\n",
    "'''"
   ]
  },
  {
   "cell_type": "code",
   "execution_count": 4,
   "id": "d6f9e0c8",
   "metadata": {},
   "outputs": [],
   "source": [
    "code = COMPANY_CODE\n",
    "\n",
    "# code = {'005930': ['삼성전자', 'sec'], '005380': ['현대차', 'hyunmotor'],\n",
    "#                  '035420': ['NAVER', 'naver'], '033780': ['KT&G', 'ktng']}\n",
    "# code = {'005930': ['삼성전자', 'sec'], '000660': ['SK하이닉스', 'skhynix']}\n",
    "# code = {'302440': ['SK바이오사이언스', 'skbio']}"
   ]
  },
  {
   "cell_type": "code",
   "execution_count": 5,
   "id": "1ced9635",
   "metadata": {},
   "outputs": [],
   "source": [
    "directory_for_predict = './data/data_for_ml/predict/'\n",
    "pkl_common_directory = './data/common_pkl/'\n",
    "pkl_directory = './data/common_pkl/'"
   ]
  },
  {
   "cell_type": "code",
   "execution_count": 6,
   "id": "a4ac3c16",
   "metadata": {},
   "outputs": [],
   "source": [
    "df_common = pd.read_pickle(directory_for_predict + '0_df_common.pkl')"
   ]
  },
  {
   "cell_type": "code",
   "execution_count": 7,
   "id": "82d5ae58",
   "metadata": {},
   "outputs": [],
   "source": [
    "for key, val in code.items():\n",
    "    df_company = pd.read_pickle(directory_for_predict + f'df_{val[1]}_company.pkl')\n",
    "    df_company = df_company.merge(df_common, how='left', left_index=True, right_index=True)\n",
    "    globals()[f'df_{val[1]}_combine'] = df_company.copy()"
   ]
  },
  {
   "cell_type": "code",
   "execution_count": 8,
   "id": "6c798e31",
   "metadata": {},
   "outputs": [
    {
     "data": {
      "text/html": [
       "<div>\n",
       "<style scoped>\n",
       "    .dataframe tbody tr th:only-of-type {\n",
       "        vertical-align: middle;\n",
       "    }\n",
       "\n",
       "    .dataframe tbody tr th {\n",
       "        vertical-align: top;\n",
       "    }\n",
       "\n",
       "    .dataframe thead th {\n",
       "        text-align: right;\n",
       "    }\n",
       "</style>\n",
       "<table border=\"1\" class=\"dataframe\">\n",
       "  <thead>\n",
       "    <tr style=\"text-align: right;\">\n",
       "      <th></th>\n",
       "      <th>retail_1</th>\n",
       "      <th>foreigner_1</th>\n",
       "      <th>institution_1</th>\n",
       "      <th>financial_1</th>\n",
       "      <th>invtrust_1</th>\n",
       "      <th>pension_1</th>\n",
       "      <th>privequity_1</th>\n",
       "      <th>bank_1</th>\n",
       "      <th>insurance_1</th>\n",
       "      <th>financeetc_1</th>\n",
       "      <th>...</th>\n",
       "      <th>ixk_cr</th>\n",
       "      <th>ixk_cr_2</th>\n",
       "      <th>ixtr_cr</th>\n",
       "      <th>ixtr_cr_2</th>\n",
       "      <th>ixut_cr</th>\n",
       "      <th>ixut_cr_2</th>\n",
       "      <th>nbi_cr</th>\n",
       "      <th>nbi_cr_2</th>\n",
       "      <th>bkx_cr</th>\n",
       "      <th>bkx_cr_2</th>\n",
       "    </tr>\n",
       "  </thead>\n",
       "  <tbody>\n",
       "    <tr>\n",
       "      <th>2024-11-05</th>\n",
       "      <td>-0.05143</td>\n",
       "      <td>4.39103</td>\n",
       "      <td>-2.22797</td>\n",
       "      <td>-3.29630</td>\n",
       "      <td>-1.54148</td>\n",
       "      <td>-1.33396</td>\n",
       "      <td>-0.80568</td>\n",
       "      <td>-0.97143</td>\n",
       "      <td>-1.05437</td>\n",
       "      <td>-1.00000</td>\n",
       "      <td>...</td>\n",
       "      <td>-0.35%</td>\n",
       "      <td>0.09687</td>\n",
       "      <td>-0.10%</td>\n",
       "      <td>0.35785</td>\n",
       "      <td>-0.04%</td>\n",
       "      <td>1.28630</td>\n",
       "      <td>0.06%</td>\n",
       "      <td>1.33783</td>\n",
       "      <td>-1.03%</td>\n",
       "      <td>-1.31309</td>\n",
       "    </tr>\n",
       "    <tr>\n",
       "      <th>2024-11-06</th>\n",
       "      <td>0.34966</td>\n",
       "      <td>-0.45118</td>\n",
       "      <td>-1.35443</td>\n",
       "      <td>-1.19508</td>\n",
       "      <td>-0.99591</td>\n",
       "      <td>-1.69437</td>\n",
       "      <td>-1.15957</td>\n",
       "      <td>38.55556</td>\n",
       "      <td>-5.75949</td>\n",
       "      <td>-inf</td>\n",
       "      <td>...</td>\n",
       "      <td>1.38%</td>\n",
       "      <td>1.02762</td>\n",
       "      <td>2.38%</td>\n",
       "      <td>2.27058</td>\n",
       "      <td>0.90%</td>\n",
       "      <td>0.86256</td>\n",
       "      <td>1.10%</td>\n",
       "      <td>1.15915</td>\n",
       "      <td>1.38%</td>\n",
       "      <td>0.33745</td>\n",
       "    </tr>\n",
       "    <tr>\n",
       "      <th>2024-11-07</th>\n",
       "      <td>1.94064</td>\n",
       "      <td>3.79554</td>\n",
       "      <td>-4.59788</td>\n",
       "      <td>-10.27227</td>\n",
       "      <td>-360.62500</td>\n",
       "      <td>-3.07105</td>\n",
       "      <td>-19.56250</td>\n",
       "      <td>-1.23596</td>\n",
       "      <td>1.00266</td>\n",
       "      <td>-2.96667</td>\n",
       "      <td>...</td>\n",
       "      <td>2.48%</td>\n",
       "      <td>3.89456</td>\n",
       "      <td>7.56%</td>\n",
       "      <td>10.11551</td>\n",
       "      <td>3.60%</td>\n",
       "      <td>4.53495</td>\n",
       "      <td>0.98%</td>\n",
       "      <td>2.09283</td>\n",
       "      <td>10.69%</td>\n",
       "      <td>12.21622</td>\n",
       "    </tr>\n",
       "    <tr>\n",
       "      <th>2024-11-08</th>\n",
       "      <td>-1.22599</td>\n",
       "      <td>-1.06339</td>\n",
       "      <td>-0.41768</td>\n",
       "      <td>-0.46883</td>\n",
       "      <td>-0.96177</td>\n",
       "      <td>-0.68593</td>\n",
       "      <td>-0.78653</td>\n",
       "      <td>2.67857</td>\n",
       "      <td>-1.55710</td>\n",
       "      <td>-0.98305</td>\n",
       "      <td>...</td>\n",
       "      <td>2.19%</td>\n",
       "      <td>4.71995</td>\n",
       "      <td>-2.19%</td>\n",
       "      <td>5.20301</td>\n",
       "      <td>-0.84%</td>\n",
       "      <td>2.73155</td>\n",
       "      <td>1.22%</td>\n",
       "      <td>2.21030</td>\n",
       "      <td>-2.68%</td>\n",
       "      <td>7.71881</td>\n",
       "    </tr>\n",
       "    <tr>\n",
       "      <th>2024-11-11</th>\n",
       "      <td>-2.81553</td>\n",
       "      <td>-9.31161</td>\n",
       "      <td>0.93394</td>\n",
       "      <td>1.13517</td>\n",
       "      <td>-9.53636</td>\n",
       "      <td>-0.91789</td>\n",
       "      <td>3.42376</td>\n",
       "      <td>-1.00971</td>\n",
       "      <td>-1.21573</td>\n",
       "      <td>9.50000</td>\n",
       "      <td>...</td>\n",
       "      <td>NaN</td>\n",
       "      <td>NaN</td>\n",
       "      <td>NaN</td>\n",
       "      <td>NaN</td>\n",
       "      <td>NaN</td>\n",
       "      <td>NaN</td>\n",
       "      <td>NaN</td>\n",
       "      <td>NaN</td>\n",
       "      <td>NaN</td>\n",
       "      <td>NaN</td>\n",
       "    </tr>\n",
       "  </tbody>\n",
       "</table>\n",
       "<p>5 rows × 114 columns</p>\n",
       "</div>"
      ],
      "text/plain": [
       "            retail_1  foreigner_1  institution_1  financial_1  invtrust_1  \\\n",
       "2024-11-05  -0.05143      4.39103       -2.22797     -3.29630    -1.54148   \n",
       "2024-11-06   0.34966     -0.45118       -1.35443     -1.19508    -0.99591   \n",
       "2024-11-07   1.94064      3.79554       -4.59788    -10.27227  -360.62500   \n",
       "2024-11-08  -1.22599     -1.06339       -0.41768     -0.46883    -0.96177   \n",
       "2024-11-11  -2.81553     -9.31161        0.93394      1.13517    -9.53636   \n",
       "\n",
       "            pension_1  privequity_1    bank_1  insurance_1  financeetc_1  ...  \\\n",
       "2024-11-05   -1.33396      -0.80568  -0.97143     -1.05437      -1.00000  ...   \n",
       "2024-11-06   -1.69437      -1.15957  38.55556     -5.75949          -inf  ...   \n",
       "2024-11-07   -3.07105     -19.56250  -1.23596      1.00266      -2.96667  ...   \n",
       "2024-11-08   -0.68593      -0.78653   2.67857     -1.55710      -0.98305  ...   \n",
       "2024-11-11   -0.91789       3.42376  -1.00971     -1.21573       9.50000  ...   \n",
       "\n",
       "            ixk_cr  ixk_cr_2  ixtr_cr  ixtr_cr_2  ixut_cr  ixut_cr_2  nbi_cr  \\\n",
       "2024-11-05  -0.35%   0.09687   -0.10%    0.35785   -0.04%    1.28630   0.06%   \n",
       "2024-11-06   1.38%   1.02762    2.38%    2.27058    0.90%    0.86256   1.10%   \n",
       "2024-11-07   2.48%   3.89456    7.56%   10.11551    3.60%    4.53495   0.98%   \n",
       "2024-11-08   2.19%   4.71995   -2.19%    5.20301   -0.84%    2.73155   1.22%   \n",
       "2024-11-11     NaN       NaN      NaN        NaN      NaN        NaN     NaN   \n",
       "\n",
       "            nbi_cr_2  bkx_cr  bkx_cr_2  \n",
       "2024-11-05   1.33783  -1.03%  -1.31309  \n",
       "2024-11-06   1.15915   1.38%   0.33745  \n",
       "2024-11-07   2.09283  10.69%  12.21622  \n",
       "2024-11-08   2.21030  -2.68%   7.71881  \n",
       "2024-11-11       NaN     NaN       NaN  \n",
       "\n",
       "[5 rows x 114 columns]"
      ]
     },
     "execution_count": 8,
     "metadata": {},
     "output_type": "execute_result"
    }
   ],
   "source": [
    "df_hyunmotor_combine.tail()"
   ]
  },
  {
   "cell_type": "code",
   "execution_count": 9,
   "id": "aeab3342",
   "metadata": {},
   "outputs": [
    {
     "data": {
      "text/plain": [
       "datetime.date(2022, 1, 7)"
      ]
     },
     "execution_count": 9,
     "metadata": {},
     "output_type": "execute_result"
    }
   ],
   "source": [
    "df_hyunmotor_combine.index[0]"
   ]
  },
  {
   "cell_type": "code",
   "execution_count": 10,
   "id": "587ac2cd",
   "metadata": {},
   "outputs": [],
   "source": [
    "col_inv1 = ['retail_1', 'foreigner_1', 'institution_1', 'financial_1', 'invtrust_1', 'pension_1', 'privequity_1', \n",
    "            'bank_1', 'insurance_1', 'financeetc_1', 'corporateetc_1', 'foreigneretc_1']\n",
    "col_inv2 = ['retail_2', 'foreigner_2', 'institution_2', 'financial_2', 'invtrust_2', 'pension_2',\n",
    "            'privequity_2', 'bank_2', 'insurance_2', 'financeetc_2', 'corporateetc_2', 'foreigneretc_2']"
   ]
  },
  {
   "cell_type": "code",
   "execution_count": 11,
   "id": "76ca8389",
   "metadata": {},
   "outputs": [],
   "source": [
    "col_his1 = ['open_1', 'high_1', 'low_1', 'close_1', 'vol_1']\n",
    "col_his2 = ['open_2', 'high_2', 'low_2', 'close_2', 'vol_2']"
   ]
  },
  {
   "cell_type": "code",
   "execution_count": 12,
   "id": "8a6b4bac",
   "metadata": {},
   "outputs": [],
   "source": [
    "col_common1 = [\"dji_cr\", \"dji_f_cr\", \"dxy_cr\", \"ixic_f_cr\", \"bond_kor_10_cr\", \"bond_kor_2_cr\", \"kosdaq_cr\", \"kospi_cr\", \n",
    "         \"krw_cr\", \"ixic_cr\", \"spx_f_cr\", \"sox_cr\", \"spx_cr\", \"bond_usa_10_cr\", \"bond_usa_2_cr\", \"bond_usa_3m_cr\", \n",
    "         \"vix_cr\", \"wti_cr\", \"spsy_cr\", \"spny_cr\", \"spxhc_cr\", \"splrcd_cr\", \"splrci_cr\", \"splrcu_cr\", \"splrcs_cr\",\n",
    "         \"splrct_cr\", \"splrcl_cr\", \"splrcm_cr\", \"ixbk_cr\", \"ixfn_cr\", \"ixid_cr\", \"ixis_cr\", \"ixk_cr\", \"ixtr_cr\",\n",
    "         \"ixut_cr\", \"nbi_cr\", \"bkx_cr\"]\n",
    "col_common2 = [\"dji_cr_2\", \"dji_f_cr_2\", \"dxy_cr_2\", \"ixic_f_cr_2\", \"bond_kor_10_cr_2\", \"bond_kor_2_cr_2\", \"kosdaq_cr_2\", \"kospi_cr_2\",\n",
    "         \"krw_cr_2\", \"ixic_cr_2\", \"spx_f_cr_2\", \"sox_cr_2\", \"spx_cr_2\", \"bond_usa_10_cr_2\", \"bond_usa_2_cr_2\", \"bond_usa_3m_cr_2\",\n",
    "         \"vix_cr_2\", \"wti_cr_2\", \"spsy_cr_2\", \"spny_cr_2\", \"spxhc_cr_2\", \"splrcd_cr_2\", \"splrci_cr_2\", \"splrcu_cr_2\",\n",
    "         \"splrcs_cr_2\", \"splrct_cr_2\", \"splrcl_cr_2\", \"splrcm_cr_2\", \"ixbk_cr_2\", \"ixfn_cr_2\", \"ixid_cr_2\",\n",
    "         \"ixis_cr_2\", \"ixk_cr_2\", \"ixtr_cr_2\", \"ixut_cr_2\", \"nbi_cr_2\", \"bkx_cr_2\"]"
   ]
  },
  {
   "cell_type": "code",
   "execution_count": 13,
   "id": "9a595935",
   "metadata": {},
   "outputs": [],
   "source": [
    "col_cr = ['weekday', 'cr_00', 'cr_05', 'cr_10', 'cr_15', 'cr_20']"
   ]
  },
  {
   "cell_type": "code",
   "execution_count": 14,
   "id": "75ec6070",
   "metadata": {},
   "outputs": [],
   "source": [
    "col_col = col_inv1 + col_common1 + col_his1 + col_inv2 + col_common2 + col_his2 + col_cr"
   ]
  },
  {
   "cell_type": "code",
   "execution_count": 15,
   "id": "ff6769da",
   "metadata": {},
   "outputs": [],
   "source": [
    "# # write common data only\n",
    "# df_temp = df_common.copy()\n",
    "# df_temp = df_temp[col_common1+col_common2]\n",
    "# pkl_common_directory = './data/common_pkl/'\n",
    "# df_temp.to_pickle(pkl_common_directory + 'df_common.pkl')\n",
    "# df_temp.to_csv(pkl_common_directory + 'df_common.csv')"
   ]
  },
  {
   "cell_type": "code",
   "execution_count": 16,
   "id": "c78c8f82",
   "metadata": {},
   "outputs": [],
   "source": [
    "new_columns = col_col"
   ]
  },
  {
   "cell_type": "code",
   "execution_count": 17,
   "id": "02da1256",
   "metadata": {},
   "outputs": [],
   "source": [
    "# column 순서 변경 : weekday, 'cr_00', 'cr_05', 'cr_10', 'cr_15', 'cr_20' column을 마지막으로 이동 \n",
    "for key, val in code.items():\n",
    "    globals()['df_{}_combine'.format(val[1])] = globals()['df_{}_combine'.format(val[1])][new_columns]"
   ]
  },
  {
   "cell_type": "code",
   "execution_count": 18,
   "id": "d4f1fa06",
   "metadata": {},
   "outputs": [
    {
     "data": {
      "text/plain": [
       "'\\n# drop inf, -inf : replace inf to 1 or -1 . 데이터를 살리고\\n# 변동률이 무한대가 되는 것을 방지하기 위해서, 나중에 발생하는 에러를 방지\\ndf_sec_sel.replace([np.inf, -np.inf], [1, -1], inplace=True)\\n\\n.impute 사용하는 것을 고려할 필요 있음.\\n'"
      ]
     },
     "execution_count": 18,
     "metadata": {},
     "output_type": "execute_result"
    }
   ],
   "source": [
    "'''\n",
    "# drop inf, -inf : replace inf to 1 or -1 . 데이터를 살리고\n",
    "# 변동률이 무한대가 되는 것을 방지하기 위해서, 나중에 발생하는 에러를 방지\n",
    "df_sec_sel.replace([np.inf, -np.inf], [1, -1], inplace=True)\n",
    "\n",
    ".impute 사용하는 것을 고려할 필요 있음.\n",
    "'''"
   ]
  },
  {
   "cell_type": "code",
   "execution_count": 19,
   "id": "7e91c1c5",
   "metadata": {},
   "outputs": [],
   "source": [
    "# drop inf, -inf : replace inf to 1 or -1 . 데이터를 살리고\n",
    "# 변동률이 무한대가 되는 것을 방지하기 위해서, 나중에 발생하는 에러를 방지\n",
    "for key, val in code.items():\n",
    "    globals()['df_{}_combine'.format(val[1])].replace([np.inf, -np.inf], [1, -1], inplace=True)\n",
    "\n",
    "# **** 데이터 전처리 from sklearn.impute import SimpleImputer, SimpleImputer 사용하기로 함."
   ]
  },
  {
   "cell_type": "code",
   "execution_count": 20,
   "id": "3fa3914b",
   "metadata": {},
   "outputs": [
    {
     "data": {
      "text/html": [
       "<div>\n",
       "<style scoped>\n",
       "    .dataframe tbody tr th:only-of-type {\n",
       "        vertical-align: middle;\n",
       "    }\n",
       "\n",
       "    .dataframe tbody tr th {\n",
       "        vertical-align: top;\n",
       "    }\n",
       "\n",
       "    .dataframe thead th {\n",
       "        text-align: right;\n",
       "    }\n",
       "</style>\n",
       "<table border=\"1\" class=\"dataframe\">\n",
       "  <thead>\n",
       "    <tr style=\"text-align: right;\">\n",
       "      <th></th>\n",
       "      <th>retail_1</th>\n",
       "      <th>foreigner_1</th>\n",
       "      <th>institution_1</th>\n",
       "      <th>financial_1</th>\n",
       "      <th>invtrust_1</th>\n",
       "      <th>pension_1</th>\n",
       "      <th>privequity_1</th>\n",
       "      <th>bank_1</th>\n",
       "      <th>insurance_1</th>\n",
       "      <th>financeetc_1</th>\n",
       "      <th>...</th>\n",
       "      <th>high_2</th>\n",
       "      <th>low_2</th>\n",
       "      <th>close_2</th>\n",
       "      <th>vol_2</th>\n",
       "      <th>weekday</th>\n",
       "      <th>cr_00</th>\n",
       "      <th>cr_05</th>\n",
       "      <th>cr_10</th>\n",
       "      <th>cr_15</th>\n",
       "      <th>cr_20</th>\n",
       "    </tr>\n",
       "  </thead>\n",
       "  <tbody>\n",
       "    <tr>\n",
       "      <th>2024-11-05</th>\n",
       "      <td>-0.78833</td>\n",
       "      <td>-0.00546</td>\n",
       "      <td>-1.70199</td>\n",
       "      <td>-1.38756</td>\n",
       "      <td>-3.01909</td>\n",
       "      <td>-3.25240</td>\n",
       "      <td>10.24309</td>\n",
       "      <td>1.24438</td>\n",
       "      <td>-1.62998</td>\n",
       "      <td>-16.06897</td>\n",
       "      <td>...</td>\n",
       "      <td>-0.02941</td>\n",
       "      <td>0.00172</td>\n",
       "      <td>-0.00845</td>\n",
       "      <td>-0.56472</td>\n",
       "      <td>0</td>\n",
       "      <td>0</td>\n",
       "      <td>0</td>\n",
       "      <td>0</td>\n",
       "      <td>0</td>\n",
       "      <td>0</td>\n",
       "    </tr>\n",
       "    <tr>\n",
       "      <th>2024-11-06</th>\n",
       "      <td>3.71680</td>\n",
       "      <td>0.45688</td>\n",
       "      <td>-1.65719</td>\n",
       "      <td>-1.91474</td>\n",
       "      <td>-1.26583</td>\n",
       "      <td>-1.43465</td>\n",
       "      <td>-1.05504</td>\n",
       "      <td>-1.56696</td>\n",
       "      <td>-4.09051</td>\n",
       "      <td>-0.97712</td>\n",
       "      <td>...</td>\n",
       "      <td>-0.02517</td>\n",
       "      <td>-0.01549</td>\n",
       "      <td>-0.01201</td>\n",
       "      <td>-0.08378</td>\n",
       "      <td>1</td>\n",
       "      <td>0</td>\n",
       "      <td>0</td>\n",
       "      <td>0</td>\n",
       "      <td>0</td>\n",
       "      <td>0</td>\n",
       "    </tr>\n",
       "    <tr>\n",
       "      <th>2024-11-07</th>\n",
       "      <td>-0.28308</td>\n",
       "      <td>-0.18238</td>\n",
       "      <td>-0.49694</td>\n",
       "      <td>-0.27330</td>\n",
       "      <td>0.75310</td>\n",
       "      <td>-2.95422</td>\n",
       "      <td>4.43304</td>\n",
       "      <td>0.66887</td>\n",
       "      <td>-0.70713</td>\n",
       "      <td>-12.60000</td>\n",
       "      <td>...</td>\n",
       "      <td>-0.02357</td>\n",
       "      <td>-0.03596</td>\n",
       "      <td>-0.02385</td>\n",
       "      <td>0.41735</td>\n",
       "      <td>2</td>\n",
       "      <td>1</td>\n",
       "      <td>0</td>\n",
       "      <td>0</td>\n",
       "      <td>0</td>\n",
       "      <td>0</td>\n",
       "    </tr>\n",
       "    <tr>\n",
       "      <th>2024-11-08</th>\n",
       "      <td>-0.97802</td>\n",
       "      <td>-0.84517</td>\n",
       "      <td>-1.13379</td>\n",
       "      <td>-0.81187</td>\n",
       "      <td>0.20207</td>\n",
       "      <td>1.43418</td>\n",
       "      <td>1.95892</td>\n",
       "      <td>-0.86243</td>\n",
       "      <td>-0.23226</td>\n",
       "      <td>1.35345</td>\n",
       "      <td>...</td>\n",
       "      <td>0.00000</td>\n",
       "      <td>-0.00699</td>\n",
       "      <td>-0.00174</td>\n",
       "      <td>-0.02524</td>\n",
       "      <td>3</td>\n",
       "      <td>0</td>\n",
       "      <td>0</td>\n",
       "      <td>0</td>\n",
       "      <td>0</td>\n",
       "      <td>0</td>\n",
       "    </tr>\n",
       "    <tr>\n",
       "      <th>2024-11-11</th>\n",
       "      <td>16.50028</td>\n",
       "      <td>2.96402</td>\n",
       "      <td>18.93376</td>\n",
       "      <td>-14.37908</td>\n",
       "      <td>-0.85244</td>\n",
       "      <td>-0.73509</td>\n",
       "      <td>-0.96112</td>\n",
       "      <td>-0.82692</td>\n",
       "      <td>-0.07423</td>\n",
       "      <td>2.73260</td>\n",
       "      <td>...</td>\n",
       "      <td>0.00517</td>\n",
       "      <td>0.01243</td>\n",
       "      <td>-0.00524</td>\n",
       "      <td>-0.37184</td>\n",
       "      <td>4</td>\n",
       "      <td>0</td>\n",
       "      <td>0</td>\n",
       "      <td>0</td>\n",
       "      <td>0</td>\n",
       "      <td>0</td>\n",
       "    </tr>\n",
       "  </tbody>\n",
       "</table>\n",
       "<p>5 rows × 114 columns</p>\n",
       "</div>"
      ],
      "text/plain": [
       "            retail_1  foreigner_1  institution_1  financial_1  invtrust_1  \\\n",
       "2024-11-05  -0.78833     -0.00546       -1.70199     -1.38756    -3.01909   \n",
       "2024-11-06   3.71680      0.45688       -1.65719     -1.91474    -1.26583   \n",
       "2024-11-07  -0.28308     -0.18238       -0.49694     -0.27330     0.75310   \n",
       "2024-11-08  -0.97802     -0.84517       -1.13379     -0.81187     0.20207   \n",
       "2024-11-11  16.50028      2.96402       18.93376    -14.37908    -0.85244   \n",
       "\n",
       "            pension_1  privequity_1   bank_1  insurance_1  financeetc_1  ...  \\\n",
       "2024-11-05   -3.25240      10.24309  1.24438     -1.62998     -16.06897  ...   \n",
       "2024-11-06   -1.43465      -1.05504 -1.56696     -4.09051      -0.97712  ...   \n",
       "2024-11-07   -2.95422       4.43304  0.66887     -0.70713     -12.60000  ...   \n",
       "2024-11-08    1.43418       1.95892 -0.86243     -0.23226       1.35345  ...   \n",
       "2024-11-11   -0.73509      -0.96112 -0.82692     -0.07423       2.73260  ...   \n",
       "\n",
       "             high_2    low_2  close_2    vol_2  weekday  cr_00 cr_05 cr_10  \\\n",
       "2024-11-05 -0.02941  0.00172 -0.00845 -0.56472        0      0     0     0   \n",
       "2024-11-06 -0.02517 -0.01549 -0.01201 -0.08378        1      0     0     0   \n",
       "2024-11-07 -0.02357 -0.03596 -0.02385  0.41735        2      1     0     0   \n",
       "2024-11-08  0.00000 -0.00699 -0.00174 -0.02524        3      0     0     0   \n",
       "2024-11-11  0.00517  0.01243 -0.00524 -0.37184        4      0     0     0   \n",
       "\n",
       "            cr_15  cr_20  \n",
       "2024-11-05      0      0  \n",
       "2024-11-06      0      0  \n",
       "2024-11-07      0      0  \n",
       "2024-11-08      0      0  \n",
       "2024-11-11      0      0  \n",
       "\n",
       "[5 rows x 114 columns]"
      ]
     },
     "execution_count": 20,
     "metadata": {},
     "output_type": "execute_result"
    }
   ],
   "source": [
    "df_sec_combine.tail()"
   ]
  },
  {
   "cell_type": "code",
   "execution_count": 21,
   "id": "bf7224df",
   "metadata": {},
   "outputs": [],
   "source": [
    "nanlo = locate_nan(df_sec_combine)  # nan 위치 찾기"
   ]
  },
  {
   "cell_type": "code",
   "execution_count": 22,
   "id": "2f63d7f5",
   "metadata": {},
   "outputs": [
    {
     "name": "stdout",
     "output_type": "stream",
     "text": [
      "[[datetime.date(2022, 1, 18) 'dji_cr']\n",
      " [datetime.date(2022, 1, 18) 'dji_f_cr']\n",
      " [datetime.date(2022, 1, 18) 'dxy_cr']\n",
      " ...\n",
      " [datetime.date(2024, 11, 11) 'ixut_cr_2']\n",
      " [datetime.date(2024, 11, 11) 'nbi_cr_2']\n",
      " [datetime.date(2024, 11, 11) 'bkx_cr_2']]\n"
     ]
    }
   ],
   "source": [
    "print(nanlo)"
   ]
  },
  {
   "cell_type": "code",
   "execution_count": 23,
   "id": "21a6d628",
   "metadata": {},
   "outputs": [],
   "source": [
    "# delete rows which include NaN : dji, spx, nasdaq 기타 common 지수중 한개라도 nan인 rows 제거\n",
    "for key, val in code.items():\n",
    "    globals()['df_{}_combine'.format(val[1])].dropna(inplace=True)"
   ]
  },
  {
   "cell_type": "code",
   "execution_count": 24,
   "id": "c6f3061c",
   "metadata": {},
   "outputs": [],
   "source": [
    "# string column을 numeric으로 전환\n",
    "def string_to_num(df):\n",
    "    df.replace('%', '', regex=True, inplace=True)\n",
    "    df = df.apply(pd.to_numeric)\n",
    "    return df\n",
    "\n",
    "for key, val in code.items():\n",
    "    globals()['df_{}_combine'.format(val[1])] = string_to_num(globals()['df_{}_combine'.format(val[1])])"
   ]
  },
  {
   "cell_type": "code",
   "execution_count": 25,
   "id": "7e8d5acf",
   "metadata": {},
   "outputs": [],
   "source": [
    "# pickle로 데이터 저장\n",
    "\n",
    "for key, val in code.items():\n",
    "    globals()[f'df_{val[1]}_combine'].to_pickle(directory_for_predict + f'df_{val[1]}_combine.pkl')\n",
    "    globals()[f'df_{val[1]}_combine'].to_csv(directory_for_predict + f'df_{val[1]}_combine.csv')"
   ]
  },
  {
   "cell_type": "code",
   "execution_count": null,
   "id": "a01825d3",
   "metadata": {},
   "outputs": [],
   "source": []
  },
  {
   "cell_type": "code",
   "execution_count": null,
   "id": "3300e5b2",
   "metadata": {},
   "outputs": [],
   "source": []
  },
  {
   "cell_type": "code",
   "execution_count": null,
   "id": "1ffeab80",
   "metadata": {},
   "outputs": [],
   "source": []
  },
  {
   "cell_type": "code",
   "execution_count": null,
   "id": "a1f7c9d1",
   "metadata": {},
   "outputs": [],
   "source": []
  },
  {
   "cell_type": "code",
   "execution_count": null,
   "id": "bc80b897",
   "metadata": {},
   "outputs": [],
   "source": []
  }
 ],
 "metadata": {
  "kernelspec": {
   "display_name": "Python 3 (ipykernel)",
   "language": "python",
   "name": "python3"
  },
  "language_info": {
   "codemirror_mode": {
    "name": "ipython",
    "version": 3
   },
   "file_extension": ".py",
   "mimetype": "text/x-python",
   "name": "python",
   "nbconvert_exporter": "python",
   "pygments_lexer": "ipython3",
   "version": "3.12.2"
  }
 },
 "nbformat": 4,
 "nbformat_minor": 5
}
