{
 "cells": [
  {
   "cell_type": "markdown",
   "id": "459ff0ca",
   "metadata": {},
   "source": [
    "## combine company data and common data"
   ]
  },
  {
   "cell_type": "code",
   "execution_count": 1,
   "id": "d3b5a935",
   "metadata": {},
   "outputs": [],
   "source": [
    "import datetime, time\n",
    "from datetime import date\n",
    "\n",
    "import pandas as pd\n",
    "import numpy as np\n",
    "import os\n",
    "import sys\n",
    "\n",
    "from sklearn.preprocessing import StandardScaler"
   ]
  },
  {
   "cell_type": "code",
   "execution_count": 2,
   "id": "8ef51f99",
   "metadata": {},
   "outputs": [],
   "source": [
    "module_path = os.path.abspath(os.path.join('.')) \n",
    "sys.path.append(module_path+\"\\\\data\\\\constant\")\n",
    "\n",
    "from constants import COMPANY_CODE"
   ]
  },
  {
   "cell_type": "code",
   "execution_count": 3,
   "id": "9ea60572",
   "metadata": {},
   "outputs": [
    {
     "data": {
      "text/plain": [
       "\" \\n[[datetime.date(2022, 1, 17) 'dji_cr']\\n [datetime.date(2022, 1, 17) 'dji_f_cr']\\n ...\\n [datetime.date(2023, 5, 23) 'kosdaq_cr']\\n [datetime.date(2023, 5, 23) 'kosdaq_cr_2']]\\n\""
      ]
     },
     "execution_count": 3,
     "metadata": {},
     "output_type": "execute_result"
    }
   ],
   "source": [
    "def locate_nan(df):\n",
    "    idx, idy = np.where(pd.isnull(df))\n",
    "    result = np.column_stack([df.index[idx], df.columns[idy]])\n",
    "    return result\n",
    "\n",
    "# return format\n",
    "''' \n",
    "[[datetime.date(2022, 1, 17) 'dji_cr']\n",
    " [datetime.date(2022, 1, 17) 'dji_f_cr']\n",
    " ...\n",
    " [datetime.date(2023, 5, 23) 'kosdaq_cr']\n",
    " [datetime.date(2023, 5, 23) 'kosdaq_cr_2']]\n",
    "'''"
   ]
  },
  {
   "cell_type": "code",
   "execution_count": 4,
   "id": "d6f9e0c8",
   "metadata": {},
   "outputs": [],
   "source": [
    "code = COMPANY_CODE\n",
    "\n",
    "# code = {'005930': ['삼성전자', 'sec'], '005380': ['현대차', 'hyunmotor'],\n",
    "#                  '035420': ['NAVER', 'naver'], '033780': ['KT&G', 'ktng']}\n",
    "# code = {'005930': ['삼성전자', 'sec'], '000660': ['SK하이닉스', 'skhynix']}\n",
    "# code = {'302440': ['SK바이오사이언스', 'skbio']}"
   ]
  },
  {
   "cell_type": "code",
   "execution_count": 5,
   "id": "1ced9635",
   "metadata": {},
   "outputs": [],
   "source": [
    "directory_for_predict = './data/data_for_ml/predict/'\n",
    "pkl_common_directory = './data/common_pkl/'\n",
    "pkl_directory = './data/common_pkl/'"
   ]
  },
  {
   "cell_type": "code",
   "execution_count": 6,
   "id": "a4ac3c16",
   "metadata": {},
   "outputs": [],
   "source": [
    "df_common = pd.read_pickle(directory_for_predict + '0_df_common.pkl')"
   ]
  },
  {
   "cell_type": "code",
   "execution_count": 7,
   "id": "82d5ae58",
   "metadata": {},
   "outputs": [],
   "source": [
    "for key, val in code.items():\n",
    "    df_company = pd.read_pickle(directory_for_predict + f'df_{val[1]}_company.pkl')\n",
    "    df_company = df_company.merge(df_common, how='left', left_index=True, right_index=True)\n",
    "    globals()[f'df_{val[1]}_combine'] = df_company.copy()"
   ]
  },
  {
   "cell_type": "code",
   "execution_count": 8,
   "id": "6c798e31",
   "metadata": {},
   "outputs": [
    {
     "data": {
      "text/html": [
       "<div>\n",
       "<style scoped>\n",
       "    .dataframe tbody tr th:only-of-type {\n",
       "        vertical-align: middle;\n",
       "    }\n",
       "\n",
       "    .dataframe tbody tr th {\n",
       "        vertical-align: top;\n",
       "    }\n",
       "\n",
       "    .dataframe thead th {\n",
       "        text-align: right;\n",
       "    }\n",
       "</style>\n",
       "<table border=\"1\" class=\"dataframe\">\n",
       "  <thead>\n",
       "    <tr style=\"text-align: right;\">\n",
       "      <th></th>\n",
       "      <th>retail_1</th>\n",
       "      <th>foreigner_1</th>\n",
       "      <th>institution_1</th>\n",
       "      <th>financial_1</th>\n",
       "      <th>invtrust_1</th>\n",
       "      <th>pension_1</th>\n",
       "      <th>privequity_1</th>\n",
       "      <th>bank_1</th>\n",
       "      <th>insurance_1</th>\n",
       "      <th>financeetc_1</th>\n",
       "      <th>...</th>\n",
       "      <th>ixk_cr</th>\n",
       "      <th>ixk_cr_2</th>\n",
       "      <th>ixtr_cr</th>\n",
       "      <th>ixtr_cr_2</th>\n",
       "      <th>ixut_cr</th>\n",
       "      <th>ixut_cr_2</th>\n",
       "      <th>nbi_cr</th>\n",
       "      <th>nbi_cr_2</th>\n",
       "      <th>bkx_cr</th>\n",
       "      <th>bkx_cr_2</th>\n",
       "    </tr>\n",
       "  </thead>\n",
       "  <tbody>\n",
       "    <tr>\n",
       "      <th>2023-09-07</th>\n",
       "      <td>-1.29665</td>\n",
       "      <td>-235.35714</td>\n",
       "      <td>0.31034</td>\n",
       "      <td>1.17209</td>\n",
       "      <td>-0.50489</td>\n",
       "      <td>-0.06981</td>\n",
       "      <td>0.86190</td>\n",
       "      <td>-1.00000</td>\n",
       "      <td>0.55939</td>\n",
       "      <td>-1.0</td>\n",
       "      <td>...</td>\n",
       "      <td>-1.40%</td>\n",
       "      <td>-1.02100</td>\n",
       "      <td>-0.12%</td>\n",
       "      <td>-2.22282</td>\n",
       "      <td>-0.05%</td>\n",
       "      <td>-1.54833</td>\n",
       "      <td>-0.55%</td>\n",
       "      <td>-1.93695</td>\n",
       "      <td>-1.35%</td>\n",
       "      <td>-2.28239</td>\n",
       "    </tr>\n",
       "    <tr>\n",
       "      <th>2023-09-08</th>\n",
       "      <td>0.76530</td>\n",
       "      <td>-0.07124</td>\n",
       "      <td>-0.32748</td>\n",
       "      <td>-0.47641</td>\n",
       "      <td>-0.85062</td>\n",
       "      <td>0.04971</td>\n",
       "      <td>-1.07417</td>\n",
       "      <td>-1.00000</td>\n",
       "      <td>-0.48096</td>\n",
       "      <td>-1.0</td>\n",
       "      <td>...</td>\n",
       "      <td>-1.39%</td>\n",
       "      <td>-2.76913</td>\n",
       "      <td>-0.16%</td>\n",
       "      <td>-0.28392</td>\n",
       "      <td>-0.11%</td>\n",
       "      <td>-0.16697</td>\n",
       "      <td>-0.14%</td>\n",
       "      <td>-0.68541</td>\n",
       "      <td>-1.22%</td>\n",
       "      <td>-2.54933</td>\n",
       "    </tr>\n",
       "    <tr>\n",
       "      <th>2023-09-11</th>\n",
       "      <td>-2.13214</td>\n",
       "      <td>-1.50751</td>\n",
       "      <td>-1.07657</td>\n",
       "      <td>-2.21516</td>\n",
       "      <td>-2.14876</td>\n",
       "      <td>-0.30703</td>\n",
       "      <td>-5.96552</td>\n",
       "      <td>-1.00000</td>\n",
       "      <td>0.97099</td>\n",
       "      <td>-inf</td>\n",
       "      <td>...</td>\n",
       "      <td>0.21%</td>\n",
       "      <td>-1.18746</td>\n",
       "      <td>-0.12%</td>\n",
       "      <td>-0.28115</td>\n",
       "      <td>0.22%</td>\n",
       "      <td>0.10978</td>\n",
       "      <td>0.38%</td>\n",
       "      <td>0.23472</td>\n",
       "      <td>1.11%</td>\n",
       "      <td>-0.12424</td>\n",
       "    </tr>\n",
       "    <tr>\n",
       "      <th>2023-09-12</th>\n",
       "      <td>-1.29305</td>\n",
       "      <td>-1.16263</td>\n",
       "      <td>-0.05056</td>\n",
       "      <td>-1.10126</td>\n",
       "      <td>3.46043</td>\n",
       "      <td>-1.39705</td>\n",
       "      <td>-1.59028</td>\n",
       "      <td>-inf</td>\n",
       "      <td>-0.84935</td>\n",
       "      <td>-1.0</td>\n",
       "      <td>...</td>\n",
       "      <td>0.65%</td>\n",
       "      <td>0.86468</td>\n",
       "      <td>0.77%</td>\n",
       "      <td>0.64909</td>\n",
       "      <td>0.95%</td>\n",
       "      <td>1.17788</td>\n",
       "      <td>0.45%</td>\n",
       "      <td>0.82512</td>\n",
       "      <td>0.30%</td>\n",
       "      <td>1.40862</td>\n",
       "    </tr>\n",
       "    <tr>\n",
       "      <th>2023-09-13</th>\n",
       "      <td>4.05131</td>\n",
       "      <td>7.98012</td>\n",
       "      <td>-2.57791</td>\n",
       "      <td>-4.61351</td>\n",
       "      <td>-0.57903</td>\n",
       "      <td>-0.95388</td>\n",
       "      <td>24.00000</td>\n",
       "      <td>-0.99733</td>\n",
       "      <td>0.62644</td>\n",
       "      <td>-inf</td>\n",
       "      <td>...</td>\n",
       "      <td>NaN</td>\n",
       "      <td>NaN</td>\n",
       "      <td>NaN</td>\n",
       "      <td>NaN</td>\n",
       "      <td>NaN</td>\n",
       "      <td>NaN</td>\n",
       "      <td>NaN</td>\n",
       "      <td>NaN</td>\n",
       "      <td>NaN</td>\n",
       "      <td>NaN</td>\n",
       "    </tr>\n",
       "  </tbody>\n",
       "</table>\n",
       "<p>5 rows × 114 columns</p>\n",
       "</div>"
      ],
      "text/plain": [
       "            retail_1  foreigner_1  institution_1  financial_1  invtrust_1   \n",
       "2023-09-07  -1.29665   -235.35714        0.31034      1.17209    -0.50489  \\\n",
       "2023-09-08   0.76530     -0.07124       -0.32748     -0.47641    -0.85062   \n",
       "2023-09-11  -2.13214     -1.50751       -1.07657     -2.21516    -2.14876   \n",
       "2023-09-12  -1.29305     -1.16263       -0.05056     -1.10126     3.46043   \n",
       "2023-09-13   4.05131      7.98012       -2.57791     -4.61351    -0.57903   \n",
       "\n",
       "            pension_1  privequity_1   bank_1  insurance_1  financeetc_1  ...   \n",
       "2023-09-07   -0.06981       0.86190 -1.00000      0.55939          -1.0  ...  \\\n",
       "2023-09-08    0.04971      -1.07417 -1.00000     -0.48096          -1.0  ...   \n",
       "2023-09-11   -0.30703      -5.96552 -1.00000      0.97099          -inf  ...   \n",
       "2023-09-12   -1.39705      -1.59028     -inf     -0.84935          -1.0  ...   \n",
       "2023-09-13   -0.95388      24.00000 -0.99733      0.62644          -inf  ...   \n",
       "\n",
       "            ixk_cr  ixk_cr_2  ixtr_cr  ixtr_cr_2  ixut_cr  ixut_cr_2  nbi_cr   \n",
       "2023-09-07  -1.40%  -1.02100   -0.12%   -2.22282   -0.05%   -1.54833  -0.55%  \\\n",
       "2023-09-08  -1.39%  -2.76913   -0.16%   -0.28392   -0.11%   -0.16697  -0.14%   \n",
       "2023-09-11   0.21%  -1.18746   -0.12%   -0.28115    0.22%    0.10978   0.38%   \n",
       "2023-09-12   0.65%   0.86468    0.77%    0.64909    0.95%    1.17788   0.45%   \n",
       "2023-09-13     NaN       NaN      NaN        NaN      NaN        NaN     NaN   \n",
       "\n",
       "            nbi_cr_2  bkx_cr  bkx_cr_2  \n",
       "2023-09-07  -1.93695  -1.35%  -2.28239  \n",
       "2023-09-08  -0.68541  -1.22%  -2.54933  \n",
       "2023-09-11   0.23472   1.11%  -0.12424  \n",
       "2023-09-12   0.82512   0.30%   1.40862  \n",
       "2023-09-13       NaN     NaN       NaN  \n",
       "\n",
       "[5 rows x 114 columns]"
      ]
     },
     "execution_count": 8,
     "metadata": {},
     "output_type": "execute_result"
    }
   ],
   "source": [
    "df_hyunmotor_combine.tail()"
   ]
  },
  {
   "cell_type": "code",
   "execution_count": 9,
   "id": "aeab3342",
   "metadata": {},
   "outputs": [
    {
     "data": {
      "text/plain": [
       "datetime.date(2022, 1, 7)"
      ]
     },
     "execution_count": 9,
     "metadata": {},
     "output_type": "execute_result"
    }
   ],
   "source": [
    "df_hyunmotor_combine.index[0]"
   ]
  },
  {
   "cell_type": "code",
   "execution_count": 10,
   "id": "587ac2cd",
   "metadata": {},
   "outputs": [],
   "source": [
    "col_inv1 = ['retail_1', 'foreigner_1', 'institution_1', 'financial_1', 'invtrust_1', 'pension_1', 'privequity_1', \n",
    "            'bank_1', 'insurance_1', 'financeetc_1', 'corporateetc_1', 'foreigneretc_1']\n",
    "col_inv2 = ['retail_2', 'foreigner_2', 'institution_2', 'financial_2', 'invtrust_2', 'pension_2',\n",
    "            'privequity_2', 'bank_2', 'insurance_2', 'financeetc_2', 'corporateetc_2', 'foreigneretc_2']"
   ]
  },
  {
   "cell_type": "code",
   "execution_count": 11,
   "id": "76ca8389",
   "metadata": {},
   "outputs": [],
   "source": [
    "col_his1 = ['open_1', 'high_1', 'low_1', 'close_1', 'vol_1']\n",
    "col_his2 = ['open_2', 'high_2', 'low_2', 'close_2', 'vol_2']"
   ]
  },
  {
   "cell_type": "code",
   "execution_count": 12,
   "id": "8a6b4bac",
   "metadata": {},
   "outputs": [],
   "source": [
    "col_common1 = [\"dji_cr\", \"dji_f_cr\", \"dxy_cr\", \"ixic_f_cr\", \"bond_kor_10_cr\", \"bond_kor_2_cr\", \"kosdaq_cr\", \"kospi_cr\", \n",
    "         \"krw_cr\", \"ixic_cr\", \"spx_f_cr\", \"sox_cr\", \"spx_cr\", \"bond_usa_10_cr\", \"bond_usa_2_cr\", \"bond_usa_3m_cr\", \n",
    "         \"vix_cr\", \"wti_cr\", \"spsy_cr\", \"spny_cr\", \"spxhc_cr\", \"splrcd_cr\", \"splrci_cr\", \"splrcu_cr\", \"splrcs_cr\",\n",
    "         \"splrct_cr\", \"splrcl_cr\", \"splrcm_cr\", \"ixbk_cr\", \"ixfn_cr\", \"ixid_cr\", \"ixis_cr\", \"ixk_cr\", \"ixtr_cr\",\n",
    "         \"ixut_cr\", \"nbi_cr\", \"bkx_cr\"]\n",
    "col_common2 = [\"dji_cr_2\", \"dji_f_cr_2\", \"dxy_cr_2\", \"ixic_f_cr_2\", \"bond_kor_10_cr_2\", \"bond_kor_2_cr_2\", \"kosdaq_cr_2\", \"kospi_cr_2\",\n",
    "         \"krw_cr_2\", \"ixic_cr_2\", \"spx_f_cr_2\", \"sox_cr_2\", \"spx_cr_2\", \"bond_usa_10_cr_2\", \"bond_usa_2_cr_2\", \"bond_usa_3m_cr_2\",\n",
    "         \"vix_cr_2\", \"wti_cr_2\", \"spsy_cr_2\", \"spny_cr_2\", \"spxhc_cr_2\", \"splrcd_cr_2\", \"splrci_cr_2\", \"splrcu_cr_2\",\n",
    "         \"splrcs_cr_2\", \"splrct_cr_2\", \"splrcl_cr_2\", \"splrcm_cr_2\", \"ixbk_cr_2\", \"ixfn_cr_2\", \"ixid_cr_2\",\n",
    "         \"ixis_cr_2\", \"ixk_cr_2\", \"ixtr_cr_2\", \"ixut_cr_2\", \"nbi_cr_2\", \"bkx_cr_2\"]"
   ]
  },
  {
   "cell_type": "code",
   "execution_count": 13,
   "id": "9a595935",
   "metadata": {},
   "outputs": [],
   "source": [
    "col_cr = ['weekday', 'cr_00', 'cr_05', 'cr_10', 'cr_15', 'cr_20']"
   ]
  },
  {
   "cell_type": "code",
   "execution_count": 14,
   "id": "75ec6070",
   "metadata": {},
   "outputs": [],
   "source": [
    "col_col = col_inv1 + col_common1 + col_his1 + col_inv2 + col_common2 + col_his2 + col_cr"
   ]
  },
  {
   "cell_type": "code",
   "execution_count": 15,
   "id": "ff6769da",
   "metadata": {},
   "outputs": [],
   "source": [
    "# # write common data only\n",
    "# df_temp = df_common.copy()\n",
    "# df_temp = df_temp[col_common1+col_common2]\n",
    "# pkl_common_directory = './data/common_pkl/'\n",
    "# df_temp.to_pickle(pkl_common_directory + 'df_common.pkl')\n",
    "# df_temp.to_csv(pkl_common_directory + 'df_common.csv')"
   ]
  },
  {
   "cell_type": "code",
   "execution_count": 16,
   "id": "c78c8f82",
   "metadata": {},
   "outputs": [],
   "source": [
    "new_columns = col_col"
   ]
  },
  {
   "cell_type": "code",
   "execution_count": 17,
   "id": "02da1256",
   "metadata": {},
   "outputs": [],
   "source": [
    "# column 순서 변경 : weekday, 'cr_00', 'cr_05', 'cr_10', 'cr_15', 'cr_20' column을 마지막으로 이동 \n",
    "for key, val in code.items():\n",
    "    globals()['df_{}_combine'.format(val[1])] = globals()['df_{}_combine'.format(val[1])][new_columns]"
   ]
  },
  {
   "cell_type": "code",
   "execution_count": 18,
   "id": "d4f1fa06",
   "metadata": {},
   "outputs": [
    {
     "data": {
      "text/plain": [
       "'\\n# drop inf, -inf : replace inf to 1 or -1 . 데이터를 살리고\\n# 변동률이 무한대가 되는 것을 방지하기 위해서, 나중에 발생하는 에러를 방지\\ndf_sec_sel.replace([np.inf, -np.inf], [1, -1], inplace=True)\\n\\n.impute 사용하는 것을 고려할 필요 있음.\\n'"
      ]
     },
     "execution_count": 18,
     "metadata": {},
     "output_type": "execute_result"
    }
   ],
   "source": [
    "'''\n",
    "# drop inf, -inf : replace inf to 1 or -1 . 데이터를 살리고\n",
    "# 변동률이 무한대가 되는 것을 방지하기 위해서, 나중에 발생하는 에러를 방지\n",
    "df_sec_sel.replace([np.inf, -np.inf], [1, -1], inplace=True)\n",
    "\n",
    ".impute 사용하는 것을 고려할 필요 있음.\n",
    "'''"
   ]
  },
  {
   "cell_type": "code",
   "execution_count": 19,
   "id": "7e91c1c5",
   "metadata": {},
   "outputs": [],
   "source": [
    "# drop inf, -inf : replace inf to 1 or -1 . 데이터를 살리고\n",
    "# 변동률이 무한대가 되는 것을 방지하기 위해서, 나중에 발생하는 에러를 방지\n",
    "for key, val in code.items():\n",
    "    globals()['df_{}_combine'.format(val[1])].replace([np.inf, -np.inf], [1, -1], inplace=True)\n",
    "\n",
    "# **** 데이터 전처리 from sklearn.impute import SimpleImputer, SimpleImputer 사용하기로 함."
   ]
  },
  {
   "cell_type": "code",
   "execution_count": 20,
   "id": "3fa3914b",
   "metadata": {},
   "outputs": [
    {
     "data": {
      "text/html": [
       "<div>\n",
       "<style scoped>\n",
       "    .dataframe tbody tr th:only-of-type {\n",
       "        vertical-align: middle;\n",
       "    }\n",
       "\n",
       "    .dataframe tbody tr th {\n",
       "        vertical-align: top;\n",
       "    }\n",
       "\n",
       "    .dataframe thead th {\n",
       "        text-align: right;\n",
       "    }\n",
       "</style>\n",
       "<table border=\"1\" class=\"dataframe\">\n",
       "  <thead>\n",
       "    <tr style=\"text-align: right;\">\n",
       "      <th></th>\n",
       "      <th>retail_1</th>\n",
       "      <th>foreigner_1</th>\n",
       "      <th>institution_1</th>\n",
       "      <th>financial_1</th>\n",
       "      <th>invtrust_1</th>\n",
       "      <th>pension_1</th>\n",
       "      <th>privequity_1</th>\n",
       "      <th>bank_1</th>\n",
       "      <th>insurance_1</th>\n",
       "      <th>financeetc_1</th>\n",
       "      <th>...</th>\n",
       "      <th>high_2</th>\n",
       "      <th>low_2</th>\n",
       "      <th>close_2</th>\n",
       "      <th>vol_2</th>\n",
       "      <th>weekday</th>\n",
       "      <th>cr_00</th>\n",
       "      <th>cr_05</th>\n",
       "      <th>cr_10</th>\n",
       "      <th>cr_15</th>\n",
       "      <th>cr_20</th>\n",
       "    </tr>\n",
       "  </thead>\n",
       "  <tbody>\n",
       "    <tr>\n",
       "      <th>2023-09-07</th>\n",
       "      <td>-0.94742</td>\n",
       "      <td>-0.48608</td>\n",
       "      <td>-0.20304</td>\n",
       "      <td>0.96164</td>\n",
       "      <td>0.57624</td>\n",
       "      <td>0.80696</td>\n",
       "      <td>-0.88141</td>\n",
       "      <td>0.61569</td>\n",
       "      <td>0.95312</td>\n",
       "      <td>-0.60870</td>\n",
       "      <td>...</td>\n",
       "      <td>-0.02881</td>\n",
       "      <td>-0.01414</td>\n",
       "      <td>-0.01685</td>\n",
       "      <td>-0.56576</td>\n",
       "      <td>2</td>\n",
       "      <td>1</td>\n",
       "      <td>1</td>\n",
       "      <td>0</td>\n",
       "      <td>0</td>\n",
       "      <td>0</td>\n",
       "    </tr>\n",
       "    <tr>\n",
       "      <th>2023-09-08</th>\n",
       "      <td>20.57010</td>\n",
       "      <td>0.47405</td>\n",
       "      <td>-0.34679</td>\n",
       "      <td>-0.58382</td>\n",
       "      <td>-2.27285</td>\n",
       "      <td>-2.09282</td>\n",
       "      <td>-3.45237</td>\n",
       "      <td>-1.97896</td>\n",
       "      <td>6.26036</td>\n",
       "      <td>-1.27778</td>\n",
       "      <td>...</td>\n",
       "      <td>-0.01259</td>\n",
       "      <td>-0.00855</td>\n",
       "      <td>-0.00424</td>\n",
       "      <td>0.11443</td>\n",
       "      <td>3</td>\n",
       "      <td>0</td>\n",
       "      <td>0</td>\n",
       "      <td>0</td>\n",
       "      <td>0</td>\n",
       "      <td>0</td>\n",
       "    </tr>\n",
       "    <tr>\n",
       "      <th>2023-09-11</th>\n",
       "      <td>-1.14228</td>\n",
       "      <td>-1.00774</td>\n",
       "      <td>-0.77223</td>\n",
       "      <td>-2.49282</td>\n",
       "      <td>0.33340</td>\n",
       "      <td>-0.87831</td>\n",
       "      <td>-3.42396</td>\n",
       "      <td>-2.75950</td>\n",
       "      <td>0.05009</td>\n",
       "      <td>3.80000</td>\n",
       "      <td>...</td>\n",
       "      <td>-0.00706</td>\n",
       "      <td>-0.00143</td>\n",
       "      <td>0.00429</td>\n",
       "      <td>-0.06365</td>\n",
       "      <td>4</td>\n",
       "      <td>1</td>\n",
       "      <td>1</td>\n",
       "      <td>0</td>\n",
       "      <td>0</td>\n",
       "      <td>0</td>\n",
       "    </tr>\n",
       "    <tr>\n",
       "      <th>2023-09-12</th>\n",
       "      <td>-11.65918</td>\n",
       "      <td>-73.97902</td>\n",
       "      <td>-4.53278</td>\n",
       "      <td>-0.62777</td>\n",
       "      <td>-1.31176</td>\n",
       "      <td>-3.76822</td>\n",
       "      <td>-1.47555</td>\n",
       "      <td>-1.04180</td>\n",
       "      <td>-0.50844</td>\n",
       "      <td>-2.16667</td>\n",
       "      <td>...</td>\n",
       "      <td>0.00283</td>\n",
       "      <td>0.00575</td>\n",
       "      <td>0.00568</td>\n",
       "      <td>-0.14233</td>\n",
       "      <td>0</td>\n",
       "      <td>0</td>\n",
       "      <td>0</td>\n",
       "      <td>0</td>\n",
       "      <td>0</td>\n",
       "      <td>0</td>\n",
       "    </tr>\n",
       "    <tr>\n",
       "      <th>2023-09-13</th>\n",
       "      <td>-0.72267</td>\n",
       "      <td>-1.13787</td>\n",
       "      <td>-0.03802</td>\n",
       "      <td>0.78884</td>\n",
       "      <td>-5.23990</td>\n",
       "      <td>-0.44434</td>\n",
       "      <td>-0.31769</td>\n",
       "      <td>-0.43820</td>\n",
       "      <td>-0.71958</td>\n",
       "      <td>1.17857</td>\n",
       "      <td>...</td>\n",
       "      <td>0.00996</td>\n",
       "      <td>0.01149</td>\n",
       "      <td>0.00284</td>\n",
       "      <td>0.09007</td>\n",
       "      <td>1</td>\n",
       "      <td>0</td>\n",
       "      <td>0</td>\n",
       "      <td>0</td>\n",
       "      <td>0</td>\n",
       "      <td>0</td>\n",
       "    </tr>\n",
       "  </tbody>\n",
       "</table>\n",
       "<p>5 rows × 114 columns</p>\n",
       "</div>"
      ],
      "text/plain": [
       "            retail_1  foreigner_1  institution_1  financial_1  invtrust_1   \n",
       "2023-09-07  -0.94742     -0.48608       -0.20304      0.96164     0.57624  \\\n",
       "2023-09-08  20.57010      0.47405       -0.34679     -0.58382    -2.27285   \n",
       "2023-09-11  -1.14228     -1.00774       -0.77223     -2.49282     0.33340   \n",
       "2023-09-12 -11.65918    -73.97902       -4.53278     -0.62777    -1.31176   \n",
       "2023-09-13  -0.72267     -1.13787       -0.03802      0.78884    -5.23990   \n",
       "\n",
       "            pension_1  privequity_1   bank_1  insurance_1  financeetc_1  ...   \n",
       "2023-09-07    0.80696      -0.88141  0.61569      0.95312      -0.60870  ...  \\\n",
       "2023-09-08   -2.09282      -3.45237 -1.97896      6.26036      -1.27778  ...   \n",
       "2023-09-11   -0.87831      -3.42396 -2.75950      0.05009       3.80000  ...   \n",
       "2023-09-12   -3.76822      -1.47555 -1.04180     -0.50844      -2.16667  ...   \n",
       "2023-09-13   -0.44434      -0.31769 -0.43820     -0.71958       1.17857  ...   \n",
       "\n",
       "             high_2    low_2  close_2    vol_2  weekday  cr_00 cr_05 cr_10   \n",
       "2023-09-07 -0.02881 -0.01414 -0.01685 -0.56576        2      1     1     0  \\\n",
       "2023-09-08 -0.01259 -0.00855 -0.00424  0.11443        3      0     0     0   \n",
       "2023-09-11 -0.00706 -0.00143  0.00429 -0.06365        4      1     1     0   \n",
       "2023-09-12  0.00283  0.00575  0.00568 -0.14233        0      0     0     0   \n",
       "2023-09-13  0.00996  0.01149  0.00284  0.09007        1      0     0     0   \n",
       "\n",
       "            cr_15  cr_20  \n",
       "2023-09-07      0      0  \n",
       "2023-09-08      0      0  \n",
       "2023-09-11      0      0  \n",
       "2023-09-12      0      0  \n",
       "2023-09-13      0      0  \n",
       "\n",
       "[5 rows x 114 columns]"
      ]
     },
     "execution_count": 20,
     "metadata": {},
     "output_type": "execute_result"
    }
   ],
   "source": [
    "df_sec_combine.tail()"
   ]
  },
  {
   "cell_type": "code",
   "execution_count": 21,
   "id": "bf7224df",
   "metadata": {},
   "outputs": [],
   "source": [
    "nanlo = locate_nan(df_sec_combine)  # nan 위치 찾기"
   ]
  },
  {
   "cell_type": "code",
   "execution_count": 22,
   "id": "2f63d7f5",
   "metadata": {},
   "outputs": [
    {
     "name": "stdout",
     "output_type": "stream",
     "text": [
      "[[datetime.date(2022, 1, 18) 'dji_cr']\n",
      " [datetime.date(2022, 1, 18) 'dji_f_cr']\n",
      " [datetime.date(2022, 1, 18) 'dxy_cr']\n",
      " ...\n",
      " [datetime.date(2023, 9, 13) 'ixut_cr_2']\n",
      " [datetime.date(2023, 9, 13) 'nbi_cr_2']\n",
      " [datetime.date(2023, 9, 13) 'bkx_cr_2']]\n"
     ]
    }
   ],
   "source": [
    "print(nanlo)"
   ]
  },
  {
   "cell_type": "code",
   "execution_count": 23,
   "id": "21a6d628",
   "metadata": {},
   "outputs": [],
   "source": [
    "# delete rows which include NaN : dji, spx, nasdaq 기타 common 지수중 한개라도 nan인 rows 제거\n",
    "for key, val in code.items():\n",
    "    globals()['df_{}_combine'.format(val[1])].dropna(inplace=True)"
   ]
  },
  {
   "cell_type": "code",
   "execution_count": 24,
   "id": "c6f3061c",
   "metadata": {},
   "outputs": [],
   "source": [
    "# string column을 numeric으로 전환\n",
    "def string_to_num(df):\n",
    "    df.replace('%', '', regex=True, inplace=True)\n",
    "    df = df.apply(pd.to_numeric)\n",
    "    return df\n",
    "\n",
    "for key, val in code.items():\n",
    "    globals()['df_{}_combine'.format(val[1])] = string_to_num(globals()['df_{}_combine'.format(val[1])])"
   ]
  },
  {
   "cell_type": "code",
   "execution_count": 25,
   "id": "7e8d5acf",
   "metadata": {},
   "outputs": [],
   "source": [
    "# pickle로 데이터 저장\n",
    "\n",
    "for key, val in code.items():\n",
    "    globals()[f'df_{val[1]}_combine'].to_pickle(directory_for_predict + f'df_{val[1]}_combine.pkl')\n",
    "    globals()[f'df_{val[1]}_combine'].to_csv(directory_for_predict + f'df_{val[1]}_combine.csv')"
   ]
  },
  {
   "cell_type": "code",
   "execution_count": null,
   "id": "a01825d3",
   "metadata": {},
   "outputs": [],
   "source": []
  },
  {
   "cell_type": "code",
   "execution_count": null,
   "id": "a1f7c9d1",
   "metadata": {},
   "outputs": [],
   "source": []
  },
  {
   "cell_type": "code",
   "execution_count": null,
   "id": "bc80b897",
   "metadata": {},
   "outputs": [],
   "source": []
  }
 ],
 "metadata": {
  "kernelspec": {
   "display_name": "Python 3 (ipykernel)",
   "language": "python",
   "name": "python3"
  },
  "language_info": {
   "codemirror_mode": {
    "name": "ipython",
    "version": 3
   },
   "file_extension": ".py",
   "mimetype": "text/x-python",
   "name": "python",
   "nbconvert_exporter": "python",
   "pygments_lexer": "ipython3",
   "version": "3.9.1"
  }
 },
 "nbformat": 4,
 "nbformat_minor": 5
}
