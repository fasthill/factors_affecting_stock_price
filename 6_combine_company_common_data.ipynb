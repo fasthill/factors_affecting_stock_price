{
 "cells": [
  {
   "cell_type": "markdown",
   "id": "459ff0ca",
   "metadata": {},
   "source": [
    "## combine company data and common data"
   ]
  },
  {
   "cell_type": "code",
   "execution_count": 1,
   "id": "d3b5a935",
   "metadata": {},
   "outputs": [],
   "source": [
    "import datetime, time\n",
    "from datetime import date\n",
    "\n",
    "import pandas as pd\n",
    "import numpy as np\n",
    "import os\n",
    "import sys\n",
    "\n",
    "from sklearn.preprocessing import StandardScaler"
   ]
  },
  {
   "cell_type": "code",
   "execution_count": 2,
   "id": "8ef51f99",
   "metadata": {},
   "outputs": [],
   "source": [
    "module_path = os.path.abspath(os.path.join('.')) \n",
    "sys.path.append(module_path+\"\\\\data\\\\constant\")\n",
    "\n",
    "from constants import COMPANY_CODE"
   ]
  },
  {
   "cell_type": "code",
   "execution_count": 3,
   "id": "9ea60572",
   "metadata": {},
   "outputs": [
    {
     "data": {
      "text/plain": [
       "\" \\n[[datetime.date(2022, 1, 17) 'dji_cr']\\n [datetime.date(2022, 1, 17) 'dji_f_cr']\\n ...\\n [datetime.date(2023, 5, 23) 'kosdaq_cr']\\n [datetime.date(2023, 5, 23) 'kosdaq_cr_2']]\\n\""
      ]
     },
     "execution_count": 3,
     "metadata": {},
     "output_type": "execute_result"
    }
   ],
   "source": [
    "def locate_nan(df):\n",
    "    idx, idy = np.where(pd.isnull(df))\n",
    "    result = np.column_stack([df.index[idx], df.columns[idy]])\n",
    "    return result\n",
    "\n",
    "# return format\n",
    "''' \n",
    "[[datetime.date(2022, 1, 17) 'dji_cr']\n",
    " [datetime.date(2022, 1, 17) 'dji_f_cr']\n",
    " ...\n",
    " [datetime.date(2023, 5, 23) 'kosdaq_cr']\n",
    " [datetime.date(2023, 5, 23) 'kosdaq_cr_2']]\n",
    "'''"
   ]
  },
  {
   "cell_type": "code",
   "execution_count": 4,
   "id": "d6f9e0c8",
   "metadata": {},
   "outputs": [],
   "source": [
    "code = COMPANY_CODE\n",
    "\n",
    "# code = {'005930': ['삼성전자', 'sec'], '005380': ['현대차', 'hyunmotor'],\n",
    "#                  '035420': ['NAVER', 'naver'], '033780': ['KT&G', 'ktng']}\n",
    "# code = {'005930': ['삼성전자', 'sec'], '000660': ['SK하이닉스', 'skhynix']}\n",
    "# code = {'302440': ['SK바이오사이언스', 'skbio']}"
   ]
  },
  {
   "cell_type": "code",
   "execution_count": 5,
   "id": "1ced9635",
   "metadata": {},
   "outputs": [],
   "source": [
    "directory_for_predict = './data/data_for_ml/predict/'\n",
    "pkl_common_directory = './data/common_pkl/'\n",
    "pkl_directory = './data/common_pkl/'"
   ]
  },
  {
   "cell_type": "code",
   "execution_count": 6,
   "id": "a4ac3c16",
   "metadata": {},
   "outputs": [],
   "source": [
    "df_common = pd.read_pickle(directory_for_predict + '0_df_common.pkl')"
   ]
  },
  {
   "cell_type": "code",
   "execution_count": 7,
   "id": "82d5ae58",
   "metadata": {},
   "outputs": [],
   "source": [
    "for key, val in code.items():\n",
    "    df_company = pd.read_pickle(directory_for_predict + f'df_{val[1]}_company.pkl')\n",
    "    df_company = df_company.merge(df_common, how='left', left_index=True, right_index=True)\n",
    "    globals()[f'df_{val[1]}_combine'] = df_company.copy()"
   ]
  },
  {
   "cell_type": "code",
   "execution_count": 8,
   "id": "6c798e31",
   "metadata": {},
   "outputs": [
    {
     "data": {
      "text/html": [
       "<div>\n",
       "<style scoped>\n",
       "    .dataframe tbody tr th:only-of-type {\n",
       "        vertical-align: middle;\n",
       "    }\n",
       "\n",
       "    .dataframe tbody tr th {\n",
       "        vertical-align: top;\n",
       "    }\n",
       "\n",
       "    .dataframe thead th {\n",
       "        text-align: right;\n",
       "    }\n",
       "</style>\n",
       "<table border=\"1\" class=\"dataframe\">\n",
       "  <thead>\n",
       "    <tr style=\"text-align: right;\">\n",
       "      <th></th>\n",
       "      <th>retail_1</th>\n",
       "      <th>foreigner_1</th>\n",
       "      <th>institution_1</th>\n",
       "      <th>financial_1</th>\n",
       "      <th>invtrust_1</th>\n",
       "      <th>pension_1</th>\n",
       "      <th>privequity_1</th>\n",
       "      <th>bank_1</th>\n",
       "      <th>insurance_1</th>\n",
       "      <th>financeetc_1</th>\n",
       "      <th>...</th>\n",
       "      <th>ixk_cr</th>\n",
       "      <th>ixk_cr_2</th>\n",
       "      <th>ixtr_cr</th>\n",
       "      <th>ixtr_cr_2</th>\n",
       "      <th>ixut_cr</th>\n",
       "      <th>ixut_cr_2</th>\n",
       "      <th>nbi_cr</th>\n",
       "      <th>nbi_cr_2</th>\n",
       "      <th>bkx_cr</th>\n",
       "      <th>bkx_cr_2</th>\n",
       "    </tr>\n",
       "  </thead>\n",
       "  <tbody>\n",
       "    <tr>\n",
       "      <th>2023-06-13</th>\n",
       "      <td>5.880573</td>\n",
       "      <td>-3.165779</td>\n",
       "      <td>2.073699</td>\n",
       "      <td>1.070382</td>\n",
       "      <td>-5.057143</td>\n",
       "      <td>0.326664</td>\n",
       "      <td>-0.917718</td>\n",
       "      <td>-inf</td>\n",
       "      <td>1.132494</td>\n",
       "      <td>-1.000000</td>\n",
       "      <td>...</td>\n",
       "      <td>2.00%</td>\n",
       "      <td>2.354994</td>\n",
       "      <td>0.70%</td>\n",
       "      <td>-0.162860</td>\n",
       "      <td>1.08%</td>\n",
       "      <td>0.757399</td>\n",
       "      <td>0.83%</td>\n",
       "      <td>0.236934</td>\n",
       "      <td>-0.99%</td>\n",
       "      <td>-1.550386</td>\n",
       "    </tr>\n",
       "    <tr>\n",
       "      <th>2023-06-14</th>\n",
       "      <td>-2.946424</td>\n",
       "      <td>-9.510183</td>\n",
       "      <td>-0.034467</td>\n",
       "      <td>0.868739</td>\n",
       "      <td>-1.210094</td>\n",
       "      <td>1.331150</td>\n",
       "      <td>-0.200000</td>\n",
       "      <td>-60.333333</td>\n",
       "      <td>-0.596504</td>\n",
       "      <td>-1.000000</td>\n",
       "      <td>...</td>\n",
       "      <td>0.71%</td>\n",
       "      <td>2.722582</td>\n",
       "      <td>1.37%</td>\n",
       "      <td>2.088716</td>\n",
       "      <td>0.12%</td>\n",
       "      <td>1.198432</td>\n",
       "      <td>1.19%</td>\n",
       "      <td>2.033097</td>\n",
       "      <td>1.53%</td>\n",
       "      <td>0.523816</td>\n",
       "    </tr>\n",
       "    <tr>\n",
       "      <th>2023-06-15</th>\n",
       "      <td>1.138220</td>\n",
       "      <td>0.416471</td>\n",
       "      <td>-1.222722</td>\n",
       "      <td>-1.124146</td>\n",
       "      <td>3.991620</td>\n",
       "      <td>-0.569542</td>\n",
       "      <td>75.325000</td>\n",
       "      <td>-0.376404</td>\n",
       "      <td>-1.085480</td>\n",
       "      <td>inf</td>\n",
       "      <td>...</td>\n",
       "      <td>0.92%</td>\n",
       "      <td>1.631177</td>\n",
       "      <td>0.77%</td>\n",
       "      <td>2.156680</td>\n",
       "      <td>-0.12%</td>\n",
       "      <td>0.000000</td>\n",
       "      <td>-0.85%</td>\n",
       "      <td>0.332318</td>\n",
       "      <td>-1.83%</td>\n",
       "      <td>-0.332181</td>\n",
       "    </tr>\n",
       "    <tr>\n",
       "      <th>2023-06-16</th>\n",
       "      <td>-0.880752</td>\n",
       "      <td>-0.767907</td>\n",
       "      <td>-4.190941</td>\n",
       "      <td>-1.369019</td>\n",
       "      <td>-1.336877</td>\n",
       "      <td>-0.564917</td>\n",
       "      <td>-1.068676</td>\n",
       "      <td>-0.927928</td>\n",
       "      <td>-3.904110</td>\n",
       "      <td>-1.904762</td>\n",
       "      <td>...</td>\n",
       "      <td>1.27%</td>\n",
       "      <td>2.194183</td>\n",
       "      <td>1.33%</td>\n",
       "      <td>2.109450</td>\n",
       "      <td>2.05%</td>\n",
       "      <td>1.929877</td>\n",
       "      <td>1.23%</td>\n",
       "      <td>0.370245</td>\n",
       "      <td>1.51%</td>\n",
       "      <td>-0.351422</td>\n",
       "    </tr>\n",
       "    <tr>\n",
       "      <th>2023-06-19</th>\n",
       "      <td>-4.024015</td>\n",
       "      <td>-0.920683</td>\n",
       "      <td>2.191090</td>\n",
       "      <td>-14.669368</td>\n",
       "      <td>-0.406977</td>\n",
       "      <td>0.307191</td>\n",
       "      <td>-0.836248</td>\n",
       "      <td>11.375000</td>\n",
       "      <td>1.167453</td>\n",
       "      <td>13.789474</td>\n",
       "      <td>...</td>\n",
       "      <td>NaN</td>\n",
       "      <td>NaN</td>\n",
       "      <td>NaN</td>\n",
       "      <td>NaN</td>\n",
       "      <td>NaN</td>\n",
       "      <td>NaN</td>\n",
       "      <td>NaN</td>\n",
       "      <td>NaN</td>\n",
       "      <td>NaN</td>\n",
       "      <td>NaN</td>\n",
       "    </tr>\n",
       "  </tbody>\n",
       "</table>\n",
       "<p>5 rows × 114 columns</p>\n",
       "</div>"
      ],
      "text/plain": [
       "            retail_1  foreigner_1  institution_1  financial_1  invtrust_1   \n",
       "2023-06-13  5.880573    -3.165779       2.073699     1.070382   -5.057143  \\\n",
       "2023-06-14 -2.946424    -9.510183      -0.034467     0.868739   -1.210094   \n",
       "2023-06-15  1.138220     0.416471      -1.222722    -1.124146    3.991620   \n",
       "2023-06-16 -0.880752    -0.767907      -4.190941    -1.369019   -1.336877   \n",
       "2023-06-19 -4.024015    -0.920683       2.191090   -14.669368   -0.406977   \n",
       "\n",
       "            pension_1  privequity_1     bank_1  insurance_1  financeetc_1   \n",
       "2023-06-13   0.326664     -0.917718       -inf     1.132494     -1.000000  \\\n",
       "2023-06-14   1.331150     -0.200000 -60.333333    -0.596504     -1.000000   \n",
       "2023-06-15  -0.569542     75.325000  -0.376404    -1.085480           inf   \n",
       "2023-06-16  -0.564917     -1.068676  -0.927928    -3.904110     -1.904762   \n",
       "2023-06-19   0.307191     -0.836248  11.375000     1.167453     13.789474   \n",
       "\n",
       "            ...  ixk_cr  ixk_cr_2  ixtr_cr  ixtr_cr_2  ixut_cr  ixut_cr_2   \n",
       "2023-06-13  ...   2.00%  2.354994    0.70%  -0.162860    1.08%   0.757399  \\\n",
       "2023-06-14  ...   0.71%  2.722582    1.37%   2.088716    0.12%   1.198432   \n",
       "2023-06-15  ...   0.92%  1.631177    0.77%   2.156680   -0.12%   0.000000   \n",
       "2023-06-16  ...   1.27%  2.194183    1.33%   2.109450    2.05%   1.929877   \n",
       "2023-06-19  ...     NaN       NaN      NaN        NaN      NaN        NaN   \n",
       "\n",
       "            nbi_cr  nbi_cr_2  bkx_cr  bkx_cr_2  \n",
       "2023-06-13   0.83%  0.236934  -0.99% -1.550386  \n",
       "2023-06-14   1.19%  2.033097   1.53%  0.523816  \n",
       "2023-06-15  -0.85%  0.332318  -1.83% -0.332181  \n",
       "2023-06-16   1.23%  0.370245   1.51% -0.351422  \n",
       "2023-06-19     NaN       NaN     NaN       NaN  \n",
       "\n",
       "[5 rows x 114 columns]"
      ]
     },
     "execution_count": 8,
     "metadata": {},
     "output_type": "execute_result"
    }
   ],
   "source": [
    "df_hyunmotor_combine.tail()"
   ]
  },
  {
   "cell_type": "code",
   "execution_count": 9,
   "id": "aeab3342",
   "metadata": {},
   "outputs": [
    {
     "data": {
      "text/plain": [
       "datetime.date(2022, 1, 7)"
      ]
     },
     "execution_count": 9,
     "metadata": {},
     "output_type": "execute_result"
    }
   ],
   "source": [
    "df_hyunmotor_combine.index[0]"
   ]
  },
  {
   "cell_type": "code",
   "execution_count": 10,
   "id": "587ac2cd",
   "metadata": {},
   "outputs": [],
   "source": [
    "col_inv1 = ['retail_1', 'foreigner_1', 'institution_1', 'financial_1', 'invtrust_1', 'pension_1', 'privequity_1', \n",
    "            'bank_1', 'insurance_1', 'financeetc_1', 'corporateetc_1', 'foreigneretc_1']\n",
    "col_inv2 = ['retail_2', 'foreigner_2', 'institution_2', 'financial_2', 'invtrust_2', 'pension_2',\n",
    "            'privequity_2', 'bank_2', 'insurance_2', 'financeetc_2', 'corporateetc_2', 'foreigneretc_2']"
   ]
  },
  {
   "cell_type": "code",
   "execution_count": 11,
   "id": "76ca8389",
   "metadata": {},
   "outputs": [],
   "source": [
    "col_his1 = ['open_1', 'high_1', 'low_1', 'close_1', 'vol_1']\n",
    "col_his2 = ['open_2', 'high_2', 'low_2', 'close_2', 'vol_2']"
   ]
  },
  {
   "cell_type": "code",
   "execution_count": 12,
   "id": "8a6b4bac",
   "metadata": {},
   "outputs": [],
   "source": [
    "col_common1 = [\"dji_cr\", \"dji_f_cr\", \"dxy_cr\", \"ixic_f_cr\", \"bond_kor_10_cr\", \"bond_kor_2_cr\", \"kosdaq_cr\", \"kospi_cr\", \n",
    "         \"krw_cr\", \"ixic_cr\", \"spx_f_cr\", \"sox_cr\", \"spx_cr\", \"bond_usa_10_cr\", \"bond_usa_2_cr\", \"bond_usa_3m_cr\", \n",
    "         \"vix_cr\", \"wti_cr\", \"spsy_cr\", \"spny_cr\", \"spxhc_cr\", \"splrcd_cr\", \"splrci_cr\", \"splrcu_cr\", \"splrcs_cr\",\n",
    "         \"splrct_cr\", \"splrcl_cr\", \"splrcm_cr\", \"ixbk_cr\", \"ixfn_cr\", \"ixid_cr\", \"ixis_cr\", \"ixk_cr\", \"ixtr_cr\",\n",
    "         \"ixut_cr\", \"nbi_cr\", \"bkx_cr\"]\n",
    "col_common2 = [\"dji_cr_2\", \"dji_f_cr_2\", \"dxy_cr_2\", \"ixic_f_cr_2\", \"bond_kor_10_cr_2\", \"bond_kor_2_cr_2\", \"kosdaq_cr_2\", \"kospi_cr_2\",\n",
    "         \"krw_cr_2\", \"ixic_cr_2\", \"spx_f_cr_2\", \"sox_cr_2\", \"spx_cr_2\", \"bond_usa_10_cr_2\", \"bond_usa_2_cr_2\", \"bond_usa_3m_cr_2\",\n",
    "         \"vix_cr_2\", \"wti_cr_2\", \"spsy_cr_2\", \"spny_cr_2\", \"spxhc_cr_2\", \"splrcd_cr_2\", \"splrci_cr_2\", \"splrcu_cr_2\",\n",
    "         \"splrcs_cr_2\", \"splrct_cr_2\", \"splrcl_cr_2\", \"splrcm_cr_2\", \"ixbk_cr_2\", \"ixfn_cr_2\", \"ixid_cr_2\",\n",
    "         \"ixis_cr_2\", \"ixk_cr_2\", \"ixtr_cr_2\", \"ixut_cr_2\", \"nbi_cr_2\", \"bkx_cr_2\"]"
   ]
  },
  {
   "cell_type": "code",
   "execution_count": 13,
   "id": "9a595935",
   "metadata": {},
   "outputs": [],
   "source": [
    "col_cr = ['weekday', 'cr_00', 'cr_05', 'cr_10', 'cr_15', 'cr_20']"
   ]
  },
  {
   "cell_type": "code",
   "execution_count": 14,
   "id": "75ec6070",
   "metadata": {},
   "outputs": [],
   "source": [
    "col_col = col_inv1 + col_common1 + col_his1 + col_inv2 + col_common2 + col_his2 + col_cr"
   ]
  },
  {
   "cell_type": "code",
   "execution_count": 15,
   "id": "ff6769da",
   "metadata": {},
   "outputs": [],
   "source": [
    "# # write common data only\n",
    "# df_temp = df_common.copy()\n",
    "# df_temp = df_temp[col_common1+col_common2]\n",
    "# pkl_common_directory = './data/common_pkl/'\n",
    "# df_temp.to_pickle(pkl_common_directory + 'df_common.pkl')\n",
    "# df_temp.to_csv(pkl_common_directory + 'df_common.csv')"
   ]
  },
  {
   "cell_type": "code",
   "execution_count": 16,
   "id": "c78c8f82",
   "metadata": {},
   "outputs": [],
   "source": [
    "new_columns = col_col"
   ]
  },
  {
   "cell_type": "code",
   "execution_count": 17,
   "id": "02da1256",
   "metadata": {},
   "outputs": [],
   "source": [
    "# column 순서 변경 : weekday, 'cr_00', 'cr_05', 'cr_10', 'cr_15', 'cr_20' column을 마지막으로 이동 \n",
    "for key, val in code.items():\n",
    "    globals()['df_{}_combine'.format(val[1])] = globals()['df_{}_combine'.format(val[1])][new_columns]"
   ]
  },
  {
   "cell_type": "code",
   "execution_count": 18,
   "id": "d4f1fa06",
   "metadata": {},
   "outputs": [
    {
     "data": {
      "text/plain": [
       "'\\n# drop inf, -inf : replace inf to 1 or -1 . 데이터를 살리고\\n# 변동률이 무한대가 되는 것을 방지하기 위해서, 나중에 발생하는 에러를 방지\\ndf_sec_sel.replace([np.inf, -np.inf], [1, -1], inplace=True)\\n\\n.impute 사용하는 것을 고려할 필요 있음.\\n'"
      ]
     },
     "execution_count": 18,
     "metadata": {},
     "output_type": "execute_result"
    }
   ],
   "source": [
    "'''\n",
    "# drop inf, -inf : replace inf to 1 or -1 . 데이터를 살리고\n",
    "# 변동률이 무한대가 되는 것을 방지하기 위해서, 나중에 발생하는 에러를 방지\n",
    "df_sec_sel.replace([np.inf, -np.inf], [1, -1], inplace=True)\n",
    "\n",
    ".impute 사용하는 것을 고려할 필요 있음.\n",
    "'''"
   ]
  },
  {
   "cell_type": "code",
   "execution_count": 19,
   "id": "7e91c1c5",
   "metadata": {},
   "outputs": [],
   "source": [
    "# drop inf, -inf : replace inf to 1 or -1 . 데이터를 살리고\n",
    "# 변동률이 무한대가 되는 것을 방지하기 위해서, 나중에 발생하는 에러를 방지\n",
    "for key, val in code.items():\n",
    "    globals()['df_{}_combine'.format(val[1])].replace([np.inf, -np.inf], [1, -1], inplace=True)\n",
    "\n",
    "# **** 데이터 전처리 from sklearn.impute import SimpleImputer, SimpleImputer 사용하기로 함."
   ]
  },
  {
   "cell_type": "code",
   "execution_count": 20,
   "id": "3fa3914b",
   "metadata": {},
   "outputs": [
    {
     "data": {
      "text/html": [
       "<div>\n",
       "<style scoped>\n",
       "    .dataframe tbody tr th:only-of-type {\n",
       "        vertical-align: middle;\n",
       "    }\n",
       "\n",
       "    .dataframe tbody tr th {\n",
       "        vertical-align: top;\n",
       "    }\n",
       "\n",
       "    .dataframe thead th {\n",
       "        text-align: right;\n",
       "    }\n",
       "</style>\n",
       "<table border=\"1\" class=\"dataframe\">\n",
       "  <thead>\n",
       "    <tr style=\"text-align: right;\">\n",
       "      <th></th>\n",
       "      <th>retail_1</th>\n",
       "      <th>foreigner_1</th>\n",
       "      <th>institution_1</th>\n",
       "      <th>financial_1</th>\n",
       "      <th>invtrust_1</th>\n",
       "      <th>pension_1</th>\n",
       "      <th>privequity_1</th>\n",
       "      <th>bank_1</th>\n",
       "      <th>insurance_1</th>\n",
       "      <th>financeetc_1</th>\n",
       "      <th>...</th>\n",
       "      <th>high_2</th>\n",
       "      <th>low_2</th>\n",
       "      <th>close_2</th>\n",
       "      <th>vol_2</th>\n",
       "      <th>weekday</th>\n",
       "      <th>cr_00</th>\n",
       "      <th>cr_05</th>\n",
       "      <th>cr_10</th>\n",
       "      <th>cr_15</th>\n",
       "      <th>cr_20</th>\n",
       "    </tr>\n",
       "  </thead>\n",
       "  <tbody>\n",
       "    <tr>\n",
       "      <th>2023-06-13</th>\n",
       "      <td>-1.332605</td>\n",
       "      <td>-1.701102</td>\n",
       "      <td>-0.665876</td>\n",
       "      <td>-0.009270</td>\n",
       "      <td>0.215420</td>\n",
       "      <td>-1.806737</td>\n",
       "      <td>0.220027</td>\n",
       "      <td>-2.287356</td>\n",
       "      <td>-13.010471</td>\n",
       "      <td>0.444444</td>\n",
       "      <td>...</td>\n",
       "      <td>0.021157</td>\n",
       "      <td>0.011429</td>\n",
       "      <td>0.001410</td>\n",
       "      <td>-0.370523</td>\n",
       "      <td>0</td>\n",
       "      <td>1</td>\n",
       "      <td>1</td>\n",
       "      <td>1</td>\n",
       "      <td>0</td>\n",
       "      <td>0</td>\n",
       "    </tr>\n",
       "    <tr>\n",
       "      <th>2023-06-14</th>\n",
       "      <td>-3.176142</td>\n",
       "      <td>-2.064506</td>\n",
       "      <td>1.034924</td>\n",
       "      <td>0.710529</td>\n",
       "      <td>-0.761971</td>\n",
       "      <td>1.130317</td>\n",
       "      <td>-0.699958</td>\n",
       "      <td>-2.118304</td>\n",
       "      <td>1.207353</td>\n",
       "      <td>-0.852843</td>\n",
       "      <td>...</td>\n",
       "      <td>-0.001383</td>\n",
       "      <td>0.011299</td>\n",
       "      <td>0.000000</td>\n",
       "      <td>-0.121123</td>\n",
       "      <td>1</td>\n",
       "      <td>0</td>\n",
       "      <td>0</td>\n",
       "      <td>0</td>\n",
       "      <td>0</td>\n",
       "      <td>0</td>\n",
       "    </tr>\n",
       "    <tr>\n",
       "      <th>2023-06-15</th>\n",
       "      <td>-0.907502</td>\n",
       "      <td>-0.615007</td>\n",
       "      <td>-1.456423</td>\n",
       "      <td>-1.022293</td>\n",
       "      <td>-0.794905</td>\n",
       "      <td>-0.451069</td>\n",
       "      <td>-1.783807</td>\n",
       "      <td>-1.000000</td>\n",
       "      <td>-0.932263</td>\n",
       "      <td>-0.931818</td>\n",
       "      <td>...</td>\n",
       "      <td>-0.002762</td>\n",
       "      <td>0.004237</td>\n",
       "      <td>0.012676</td>\n",
       "      <td>0.039518</td>\n",
       "      <td>2</td>\n",
       "      <td>0</td>\n",
       "      <td>0</td>\n",
       "      <td>0</td>\n",
       "      <td>0</td>\n",
       "      <td>0</td>\n",
       "    </tr>\n",
       "    <tr>\n",
       "      <th>2023-06-16</th>\n",
       "      <td>0.413936</td>\n",
       "      <td>-0.026768</td>\n",
       "      <td>-0.238071</td>\n",
       "      <td>-5.063732</td>\n",
       "      <td>3.624204</td>\n",
       "      <td>0.329340</td>\n",
       "      <td>-1.871593</td>\n",
       "      <td>1.000000</td>\n",
       "      <td>-7.169096</td>\n",
       "      <td>4.000000</td>\n",
       "      <td>...</td>\n",
       "      <td>0.001385</td>\n",
       "      <td>-0.004190</td>\n",
       "      <td>-0.006944</td>\n",
       "      <td>0.029311</td>\n",
       "      <td>3</td>\n",
       "      <td>1</td>\n",
       "      <td>0</td>\n",
       "      <td>0</td>\n",
       "      <td>0</td>\n",
       "      <td>0</td>\n",
       "    </tr>\n",
       "    <tr>\n",
       "      <th>2023-06-19</th>\n",
       "      <td>-1.403466</td>\n",
       "      <td>1.192185</td>\n",
       "      <td>3.922337</td>\n",
       "      <td>-6.671339</td>\n",
       "      <td>1.688705</td>\n",
       "      <td>-0.074369</td>\n",
       "      <td>-0.696708</td>\n",
       "      <td>0.043478</td>\n",
       "      <td>-0.982199</td>\n",
       "      <td>225.800000</td>\n",
       "      <td>...</td>\n",
       "      <td>-0.004155</td>\n",
       "      <td>-0.002813</td>\n",
       "      <td>-0.001391</td>\n",
       "      <td>0.204156</td>\n",
       "      <td>4</td>\n",
       "      <td>0</td>\n",
       "      <td>0</td>\n",
       "      <td>0</td>\n",
       "      <td>0</td>\n",
       "      <td>0</td>\n",
       "    </tr>\n",
       "  </tbody>\n",
       "</table>\n",
       "<p>5 rows × 114 columns</p>\n",
       "</div>"
      ],
      "text/plain": [
       "            retail_1  foreigner_1  institution_1  financial_1  invtrust_1   \n",
       "2023-06-13 -1.332605    -1.701102      -0.665876    -0.009270    0.215420  \\\n",
       "2023-06-14 -3.176142    -2.064506       1.034924     0.710529   -0.761971   \n",
       "2023-06-15 -0.907502    -0.615007      -1.456423    -1.022293   -0.794905   \n",
       "2023-06-16  0.413936    -0.026768      -0.238071    -5.063732    3.624204   \n",
       "2023-06-19 -1.403466     1.192185       3.922337    -6.671339    1.688705   \n",
       "\n",
       "            pension_1  privequity_1    bank_1  insurance_1  financeetc_1  ...   \n",
       "2023-06-13  -1.806737      0.220027 -2.287356   -13.010471      0.444444  ...  \\\n",
       "2023-06-14   1.130317     -0.699958 -2.118304     1.207353     -0.852843  ...   \n",
       "2023-06-15  -0.451069     -1.783807 -1.000000    -0.932263     -0.931818  ...   \n",
       "2023-06-16   0.329340     -1.871593  1.000000    -7.169096      4.000000  ...   \n",
       "2023-06-19  -0.074369     -0.696708  0.043478    -0.982199    225.800000  ...   \n",
       "\n",
       "              high_2     low_2   close_2     vol_2  weekday  cr_00 cr_05   \n",
       "2023-06-13  0.021157  0.011429  0.001410 -0.370523        0      1     1  \\\n",
       "2023-06-14 -0.001383  0.011299  0.000000 -0.121123        1      0     0   \n",
       "2023-06-15 -0.002762  0.004237  0.012676  0.039518        2      0     0   \n",
       "2023-06-16  0.001385 -0.004190 -0.006944  0.029311        3      1     0   \n",
       "2023-06-19 -0.004155 -0.002813 -0.001391  0.204156        4      0     0   \n",
       "\n",
       "           cr_10  cr_15  cr_20  \n",
       "2023-06-13     1      0      0  \n",
       "2023-06-14     0      0      0  \n",
       "2023-06-15     0      0      0  \n",
       "2023-06-16     0      0      0  \n",
       "2023-06-19     0      0      0  \n",
       "\n",
       "[5 rows x 114 columns]"
      ]
     },
     "execution_count": 20,
     "metadata": {},
     "output_type": "execute_result"
    }
   ],
   "source": [
    "df_sec_combine.tail()"
   ]
  },
  {
   "cell_type": "code",
   "execution_count": 21,
   "id": "bf7224df",
   "metadata": {},
   "outputs": [],
   "source": [
    "nanlo = locate_nan(df_sec_combine)  # nan 위치 찾기"
   ]
  },
  {
   "cell_type": "code",
   "execution_count": 22,
   "id": "2f63d7f5",
   "metadata": {},
   "outputs": [
    {
     "name": "stdout",
     "output_type": "stream",
     "text": [
      "[[datetime.date(2022, 1, 17) 'dji_cr']\n",
      " [datetime.date(2022, 1, 17) 'dji_f_cr']\n",
      " [datetime.date(2022, 1, 17) 'dxy_cr']\n",
      " ...\n",
      " [datetime.date(2023, 6, 19) 'ixut_cr_2']\n",
      " [datetime.date(2023, 6, 19) 'nbi_cr_2']\n",
      " [datetime.date(2023, 6, 19) 'bkx_cr_2']]\n"
     ]
    }
   ],
   "source": [
    "print(nanlo)"
   ]
  },
  {
   "cell_type": "code",
   "execution_count": 23,
   "id": "21a6d628",
   "metadata": {},
   "outputs": [],
   "source": [
    "# delete rows which include NaN : dji, spx, nasdaq 기타 common 지수중 한개라도 nan인 rows 제거\n",
    "for key, val in code.items():\n",
    "    globals()['df_{}_combine'.format(val[1])].dropna(inplace=True)"
   ]
  },
  {
   "cell_type": "code",
   "execution_count": 24,
   "id": "c6f3061c",
   "metadata": {},
   "outputs": [],
   "source": [
    "# string column을 numeric으로 전환\n",
    "def string_to_num(df):\n",
    "    df.replace('%', '', regex=True, inplace=True)\n",
    "    return df.apply(pd.to_numeric)\n",
    "\n",
    "for key, val in code.items():\n",
    "    globals()['df_{}_combine'.format(val[1])] = string_to_num(globals()['df_{}_combine'.format(val[1])])"
   ]
  },
  {
   "cell_type": "code",
   "execution_count": 25,
   "id": "7e8d5acf",
   "metadata": {},
   "outputs": [],
   "source": [
    "# pickle로 데이터 저장\n",
    "\n",
    "for key, val in code.items():\n",
    "    globals()[f'df_{val[1]}_combine'].to_pickle(directory_for_predict + f'df_{val[1]}_combine.pkl')\n",
    "    globals()[f'df_{val[1]}_combine'].to_csv(directory_for_predict + f'df_{val[1]}_combine.csv')"
   ]
  },
  {
   "cell_type": "code",
   "execution_count": null,
   "id": "d2728c8c",
   "metadata": {},
   "outputs": [],
   "source": []
  },
  {
   "cell_type": "code",
   "execution_count": null,
   "id": "a01825d3",
   "metadata": {},
   "outputs": [],
   "source": []
  }
 ],
 "metadata": {
  "kernelspec": {
   "display_name": "Python 3 (ipykernel)",
   "language": "python",
   "name": "python3"
  },
  "language_info": {
   "codemirror_mode": {
    "name": "ipython",
    "version": 3
   },
   "file_extension": ".py",
   "mimetype": "text/x-python",
   "name": "python",
   "nbconvert_exporter": "python",
   "pygments_lexer": "ipython3",
   "version": "3.9.1"
  }
 },
 "nbformat": 4,
 "nbformat_minor": 5
}
