{
 "cells": [
  {
   "cell_type": "markdown",
   "id": "459ff0ca",
   "metadata": {},
   "source": [
    "## combine company data and common data"
   ]
  },
  {
   "cell_type": "code",
   "execution_count": 1,
   "id": "d3b5a935",
   "metadata": {},
   "outputs": [],
   "source": [
    "import datetime, time\n",
    "from datetime import date\n",
    "\n",
    "import pandas as pd\n",
    "import numpy as np\n",
    "import os\n",
    "import sys\n",
    "\n",
    "from sklearn.preprocessing import StandardScaler"
   ]
  },
  {
   "cell_type": "code",
   "execution_count": 2,
   "id": "8ef51f99",
   "metadata": {},
   "outputs": [],
   "source": [
    "module_path = os.path.abspath(os.path.join('.')) \n",
    "sys.path.append(module_path+\"\\\\data\\\\constant\")\n",
    "\n",
    "from constants import COMPANY_CODE"
   ]
  },
  {
   "cell_type": "code",
   "execution_count": 3,
   "id": "9ea60572",
   "metadata": {},
   "outputs": [
    {
     "data": {
      "text/plain": [
       "\" \\n[[datetime.date(2022, 1, 17) 'dji_cr']\\n [datetime.date(2022, 1, 17) 'dji_f_cr']\\n ...\\n [datetime.date(2023, 5, 23) 'kosdaq_cr']\\n [datetime.date(2023, 5, 23) 'kosdaq_cr_2']]\\n\""
      ]
     },
     "execution_count": 3,
     "metadata": {},
     "output_type": "execute_result"
    }
   ],
   "source": [
    "def locate_nan(df):\n",
    "    idx, idy = np.where(pd.isnull(df))\n",
    "    result = np.column_stack([df.index[idx], df.columns[idy]])\n",
    "    return result\n",
    "\n",
    "# return format\n",
    "''' \n",
    "[[datetime.date(2022, 1, 17) 'dji_cr']\n",
    " [datetime.date(2022, 1, 17) 'dji_f_cr']\n",
    " ...\n",
    " [datetime.date(2023, 5, 23) 'kosdaq_cr']\n",
    " [datetime.date(2023, 5, 23) 'kosdaq_cr_2']]\n",
    "'''"
   ]
  },
  {
   "cell_type": "code",
   "execution_count": 4,
   "id": "d6f9e0c8",
   "metadata": {},
   "outputs": [],
   "source": [
    "code = COMPANY_CODE\n",
    "\n",
    "# code = {'005930': ['삼성전자', 'sec'], '005380': ['현대차', 'hyunmotor'],\n",
    "#                  '035420': ['NAVER', 'naver'], '033780': ['KT&G', 'ktng']}\n",
    "# code = {'005930': ['삼성전자', 'sec'], '000660': ['SK하이닉스', 'skhynix']}\n",
    "# code = {'302440': ['SK바이오사이언스', 'skbio']}"
   ]
  },
  {
   "cell_type": "code",
   "execution_count": 5,
   "id": "1ced9635",
   "metadata": {},
   "outputs": [],
   "source": [
    "directory_for_predict = './data/data_for_ml/predict/'\n",
    "pkl_common_directory = './data/common_pkl/'\n",
    "pkl_directory = './data/common_pkl/'"
   ]
  },
  {
   "cell_type": "code",
   "execution_count": 6,
   "id": "a4ac3c16",
   "metadata": {},
   "outputs": [],
   "source": [
    "df_common = pd.read_pickle(directory_for_predict + '0_df_common.pkl')"
   ]
  },
  {
   "cell_type": "code",
   "execution_count": 7,
   "id": "82d5ae58",
   "metadata": {},
   "outputs": [],
   "source": [
    "for key, val in code.items():\n",
    "    df_company = pd.read_pickle(directory_for_predict + f'df_{val[1]}_company.pkl')\n",
    "    df_company = df_company.merge(df_common, how='left', left_index=True, right_index=True)\n",
    "    globals()[f'df_{val[1]}_combine'] = df_company.copy()"
   ]
  },
  {
   "cell_type": "code",
   "execution_count": 8,
   "id": "6c798e31",
   "metadata": {},
   "outputs": [
    {
     "data": {
      "text/html": [
       "<div>\n",
       "<style scoped>\n",
       "    .dataframe tbody tr th:only-of-type {\n",
       "        vertical-align: middle;\n",
       "    }\n",
       "\n",
       "    .dataframe tbody tr th {\n",
       "        vertical-align: top;\n",
       "    }\n",
       "\n",
       "    .dataframe thead th {\n",
       "        text-align: right;\n",
       "    }\n",
       "</style>\n",
       "<table border=\"1\" class=\"dataframe\">\n",
       "  <thead>\n",
       "    <tr style=\"text-align: right;\">\n",
       "      <th></th>\n",
       "      <th>retail_1</th>\n",
       "      <th>foreigner_1</th>\n",
       "      <th>institution_1</th>\n",
       "      <th>financial_1</th>\n",
       "      <th>invtrust_1</th>\n",
       "      <th>pension_1</th>\n",
       "      <th>privequity_1</th>\n",
       "      <th>bank_1</th>\n",
       "      <th>insurance_1</th>\n",
       "      <th>financeetc_1</th>\n",
       "      <th>...</th>\n",
       "      <th>ixk_cr</th>\n",
       "      <th>ixk_cr_2</th>\n",
       "      <th>ixtr_cr</th>\n",
       "      <th>ixtr_cr_2</th>\n",
       "      <th>ixut_cr</th>\n",
       "      <th>ixut_cr_2</th>\n",
       "      <th>nbi_cr</th>\n",
       "      <th>nbi_cr_2</th>\n",
       "      <th>bkx_cr</th>\n",
       "      <th>bkx_cr_2</th>\n",
       "    </tr>\n",
       "  </thead>\n",
       "  <tbody>\n",
       "    <tr>\n",
       "      <th>2024-01-17</th>\n",
       "      <td>-3.69680</td>\n",
       "      <td>-2.50731</td>\n",
       "      <td>-3.17067</td>\n",
       "      <td>-2.01305</td>\n",
       "      <td>0.42273</td>\n",
       "      <td>0.33202</td>\n",
       "      <td>-10.93750</td>\n",
       "      <td>-inf</td>\n",
       "      <td>2.31858</td>\n",
       "      <td>inf</td>\n",
       "      <td>...</td>\n",
       "      <td>0.18%</td>\n",
       "      <td>0.48608</td>\n",
       "      <td>-0.56%</td>\n",
       "      <td>-1.38421</td>\n",
       "      <td>0.27%</td>\n",
       "      <td>0.05325</td>\n",
       "      <td>-0.90%</td>\n",
       "      <td>-0.67231</td>\n",
       "      <td>-1.32%</td>\n",
       "      <td>-2.35517</td>\n",
       "    </tr>\n",
       "    <tr>\n",
       "      <th>2024-01-18</th>\n",
       "      <td>0.98761</td>\n",
       "      <td>-5.15568</td>\n",
       "      <td>-0.65257</td>\n",
       "      <td>-0.81278</td>\n",
       "      <td>-1.37859</td>\n",
       "      <td>-0.64636</td>\n",
       "      <td>11.55346</td>\n",
       "      <td>-126.00000</td>\n",
       "      <td>-1.05600</td>\n",
       "      <td>-0.35484</td>\n",
       "      <td>...</td>\n",
       "      <td>-0.53%</td>\n",
       "      <td>-0.34453</td>\n",
       "      <td>-0.83%</td>\n",
       "      <td>-1.39170</td>\n",
       "      <td>-0.74%</td>\n",
       "      <td>-0.47065</td>\n",
       "      <td>-0.59%</td>\n",
       "      <td>-1.49059</td>\n",
       "      <td>-0.68%</td>\n",
       "      <td>-1.98704</td>\n",
       "    </tr>\n",
       "    <tr>\n",
       "      <th>2024-01-19</th>\n",
       "      <td>-0.32934</td>\n",
       "      <td>-0.39561</td>\n",
       "      <td>-0.17786</td>\n",
       "      <td>0.23576</td>\n",
       "      <td>2.46835</td>\n",
       "      <td>1.20713</td>\n",
       "      <td>-1.35170</td>\n",
       "      <td>-1.40000</td>\n",
       "      <td>9.90476</td>\n",
       "      <td>-1.32500</td>\n",
       "      <td>...</td>\n",
       "      <td>2.00%</td>\n",
       "      <td>1.45866</td>\n",
       "      <td>1.54%</td>\n",
       "      <td>0.69322</td>\n",
       "      <td>0.67%</td>\n",
       "      <td>-0.07500</td>\n",
       "      <td>-0.63%</td>\n",
       "      <td>-1.21722</td>\n",
       "      <td>-0.48%</td>\n",
       "      <td>-1.15215</td>\n",
       "    </tr>\n",
       "    <tr>\n",
       "      <th>2024-01-22</th>\n",
       "      <td>-0.27388</td>\n",
       "      <td>-0.84923</td>\n",
       "      <td>1.06384</td>\n",
       "      <td>1.12460</td>\n",
       "      <td>-1.40024</td>\n",
       "      <td>-0.38811</td>\n",
       "      <td>-2.01140</td>\n",
       "      <td>-0.88000</td>\n",
       "      <td>1.20961</td>\n",
       "      <td>-1.00000</td>\n",
       "      <td>...</td>\n",
       "      <td>2.39%</td>\n",
       "      <td>4.43004</td>\n",
       "      <td>0.54%</td>\n",
       "      <td>2.08784</td>\n",
       "      <td>1.11%</td>\n",
       "      <td>1.79154</td>\n",
       "      <td>0.42%</td>\n",
       "      <td>-0.21063</td>\n",
       "      <td>2.52%</td>\n",
       "      <td>2.02732</td>\n",
       "    </tr>\n",
       "    <tr>\n",
       "      <th>2024-01-23</th>\n",
       "      <td>-0.20004</td>\n",
       "      <td>5.20922</td>\n",
       "      <td>-0.92699</td>\n",
       "      <td>-0.57551</td>\n",
       "      <td>-3.45593</td>\n",
       "      <td>-2.28146</td>\n",
       "      <td>1.01831</td>\n",
       "      <td>-0.66667</td>\n",
       "      <td>-0.42490</td>\n",
       "      <td>inf</td>\n",
       "      <td>...</td>\n",
       "      <td>NaN</td>\n",
       "      <td>NaN</td>\n",
       "      <td>NaN</td>\n",
       "      <td>NaN</td>\n",
       "      <td>NaN</td>\n",
       "      <td>NaN</td>\n",
       "      <td>NaN</td>\n",
       "      <td>NaN</td>\n",
       "      <td>NaN</td>\n",
       "      <td>NaN</td>\n",
       "    </tr>\n",
       "  </tbody>\n",
       "</table>\n",
       "<p>5 rows × 114 columns</p>\n",
       "</div>"
      ],
      "text/plain": [
       "            retail_1  foreigner_1  institution_1  financial_1  invtrust_1   \n",
       "2024-01-17  -3.69680     -2.50731       -3.17067     -2.01305     0.42273  \\\n",
       "2024-01-18   0.98761     -5.15568       -0.65257     -0.81278    -1.37859   \n",
       "2024-01-19  -0.32934     -0.39561       -0.17786      0.23576     2.46835   \n",
       "2024-01-22  -0.27388     -0.84923        1.06384      1.12460    -1.40024   \n",
       "2024-01-23  -0.20004      5.20922       -0.92699     -0.57551    -3.45593   \n",
       "\n",
       "            pension_1  privequity_1     bank_1  insurance_1  financeetc_1   \n",
       "2024-01-17    0.33202     -10.93750       -inf      2.31858           inf  \\\n",
       "2024-01-18   -0.64636      11.55346 -126.00000     -1.05600      -0.35484   \n",
       "2024-01-19    1.20713      -1.35170   -1.40000      9.90476      -1.32500   \n",
       "2024-01-22   -0.38811      -2.01140   -0.88000      1.20961      -1.00000   \n",
       "2024-01-23   -2.28146       1.01831   -0.66667     -0.42490           inf   \n",
       "\n",
       "            ...  ixk_cr  ixk_cr_2  ixtr_cr  ixtr_cr_2  ixut_cr  ixut_cr_2   \n",
       "2024-01-17  ...   0.18%   0.48608   -0.56%   -1.38421    0.27%    0.05325  \\\n",
       "2024-01-18  ...  -0.53%  -0.34453   -0.83%   -1.39170   -0.74%   -0.47065   \n",
       "2024-01-19  ...   2.00%   1.45866    1.54%    0.69322    0.67%   -0.07500   \n",
       "2024-01-22  ...   2.39%   4.43004    0.54%    2.08784    1.11%    1.79154   \n",
       "2024-01-23  ...     NaN       NaN      NaN        NaN      NaN        NaN   \n",
       "\n",
       "            nbi_cr  nbi_cr_2  bkx_cr  bkx_cr_2  \n",
       "2024-01-17  -0.90%  -0.67231  -1.32%  -2.35517  \n",
       "2024-01-18  -0.59%  -1.49059  -0.68%  -1.98704  \n",
       "2024-01-19  -0.63%  -1.21722  -0.48%  -1.15215  \n",
       "2024-01-22   0.42%  -0.21063   2.52%   2.02732  \n",
       "2024-01-23     NaN       NaN     NaN       NaN  \n",
       "\n",
       "[5 rows x 114 columns]"
      ]
     },
     "execution_count": 8,
     "metadata": {},
     "output_type": "execute_result"
    }
   ],
   "source": [
    "df_hyunmotor_combine.tail()"
   ]
  },
  {
   "cell_type": "code",
   "execution_count": 9,
   "id": "aeab3342",
   "metadata": {},
   "outputs": [
    {
     "data": {
      "text/plain": [
       "datetime.date(2022, 1, 7)"
      ]
     },
     "execution_count": 9,
     "metadata": {},
     "output_type": "execute_result"
    }
   ],
   "source": [
    "df_hyunmotor_combine.index[0]"
   ]
  },
  {
   "cell_type": "code",
   "execution_count": 10,
   "id": "587ac2cd",
   "metadata": {},
   "outputs": [],
   "source": [
    "col_inv1 = ['retail_1', 'foreigner_1', 'institution_1', 'financial_1', 'invtrust_1', 'pension_1', 'privequity_1', \n",
    "            'bank_1', 'insurance_1', 'financeetc_1', 'corporateetc_1', 'foreigneretc_1']\n",
    "col_inv2 = ['retail_2', 'foreigner_2', 'institution_2', 'financial_2', 'invtrust_2', 'pension_2',\n",
    "            'privequity_2', 'bank_2', 'insurance_2', 'financeetc_2', 'corporateetc_2', 'foreigneretc_2']"
   ]
  },
  {
   "cell_type": "code",
   "execution_count": 11,
   "id": "76ca8389",
   "metadata": {},
   "outputs": [],
   "source": [
    "col_his1 = ['open_1', 'high_1', 'low_1', 'close_1', 'vol_1']\n",
    "col_his2 = ['open_2', 'high_2', 'low_2', 'close_2', 'vol_2']"
   ]
  },
  {
   "cell_type": "code",
   "execution_count": 12,
   "id": "8a6b4bac",
   "metadata": {},
   "outputs": [],
   "source": [
    "col_common1 = [\"dji_cr\", \"dji_f_cr\", \"dxy_cr\", \"ixic_f_cr\", \"bond_kor_10_cr\", \"bond_kor_2_cr\", \"kosdaq_cr\", \"kospi_cr\", \n",
    "         \"krw_cr\", \"ixic_cr\", \"spx_f_cr\", \"sox_cr\", \"spx_cr\", \"bond_usa_10_cr\", \"bond_usa_2_cr\", \"bond_usa_3m_cr\", \n",
    "         \"vix_cr\", \"wti_cr\", \"spsy_cr\", \"spny_cr\", \"spxhc_cr\", \"splrcd_cr\", \"splrci_cr\", \"splrcu_cr\", \"splrcs_cr\",\n",
    "         \"splrct_cr\", \"splrcl_cr\", \"splrcm_cr\", \"ixbk_cr\", \"ixfn_cr\", \"ixid_cr\", \"ixis_cr\", \"ixk_cr\", \"ixtr_cr\",\n",
    "         \"ixut_cr\", \"nbi_cr\", \"bkx_cr\"]\n",
    "col_common2 = [\"dji_cr_2\", \"dji_f_cr_2\", \"dxy_cr_2\", \"ixic_f_cr_2\", \"bond_kor_10_cr_2\", \"bond_kor_2_cr_2\", \"kosdaq_cr_2\", \"kospi_cr_2\",\n",
    "         \"krw_cr_2\", \"ixic_cr_2\", \"spx_f_cr_2\", \"sox_cr_2\", \"spx_cr_2\", \"bond_usa_10_cr_2\", \"bond_usa_2_cr_2\", \"bond_usa_3m_cr_2\",\n",
    "         \"vix_cr_2\", \"wti_cr_2\", \"spsy_cr_2\", \"spny_cr_2\", \"spxhc_cr_2\", \"splrcd_cr_2\", \"splrci_cr_2\", \"splrcu_cr_2\",\n",
    "         \"splrcs_cr_2\", \"splrct_cr_2\", \"splrcl_cr_2\", \"splrcm_cr_2\", \"ixbk_cr_2\", \"ixfn_cr_2\", \"ixid_cr_2\",\n",
    "         \"ixis_cr_2\", \"ixk_cr_2\", \"ixtr_cr_2\", \"ixut_cr_2\", \"nbi_cr_2\", \"bkx_cr_2\"]"
   ]
  },
  {
   "cell_type": "code",
   "execution_count": 13,
   "id": "9a595935",
   "metadata": {},
   "outputs": [],
   "source": [
    "col_cr = ['weekday', 'cr_00', 'cr_05', 'cr_10', 'cr_15', 'cr_20']"
   ]
  },
  {
   "cell_type": "code",
   "execution_count": 14,
   "id": "75ec6070",
   "metadata": {},
   "outputs": [],
   "source": [
    "col_col = col_inv1 + col_common1 + col_his1 + col_inv2 + col_common2 + col_his2 + col_cr"
   ]
  },
  {
   "cell_type": "code",
   "execution_count": 15,
   "id": "ff6769da",
   "metadata": {},
   "outputs": [],
   "source": [
    "# # write common data only\n",
    "# df_temp = df_common.copy()\n",
    "# df_temp = df_temp[col_common1+col_common2]\n",
    "# pkl_common_directory = './data/common_pkl/'\n",
    "# df_temp.to_pickle(pkl_common_directory + 'df_common.pkl')\n",
    "# df_temp.to_csv(pkl_common_directory + 'df_common.csv')"
   ]
  },
  {
   "cell_type": "code",
   "execution_count": 16,
   "id": "c78c8f82",
   "metadata": {},
   "outputs": [],
   "source": [
    "new_columns = col_col"
   ]
  },
  {
   "cell_type": "code",
   "execution_count": 17,
   "id": "02da1256",
   "metadata": {},
   "outputs": [],
   "source": [
    "# column 순서 변경 : weekday, 'cr_00', 'cr_05', 'cr_10', 'cr_15', 'cr_20' column을 마지막으로 이동 \n",
    "for key, val in code.items():\n",
    "    globals()['df_{}_combine'.format(val[1])] = globals()['df_{}_combine'.format(val[1])][new_columns]"
   ]
  },
  {
   "cell_type": "code",
   "execution_count": 18,
   "id": "d4f1fa06",
   "metadata": {},
   "outputs": [
    {
     "data": {
      "text/plain": [
       "'\\n# drop inf, -inf : replace inf to 1 or -1 . 데이터를 살리고\\n# 변동률이 무한대가 되는 것을 방지하기 위해서, 나중에 발생하는 에러를 방지\\ndf_sec_sel.replace([np.inf, -np.inf], [1, -1], inplace=True)\\n\\n.impute 사용하는 것을 고려할 필요 있음.\\n'"
      ]
     },
     "execution_count": 18,
     "metadata": {},
     "output_type": "execute_result"
    }
   ],
   "source": [
    "'''\n",
    "# drop inf, -inf : replace inf to 1 or -1 . 데이터를 살리고\n",
    "# 변동률이 무한대가 되는 것을 방지하기 위해서, 나중에 발생하는 에러를 방지\n",
    "df_sec_sel.replace([np.inf, -np.inf], [1, -1], inplace=True)\n",
    "\n",
    ".impute 사용하는 것을 고려할 필요 있음.\n",
    "'''"
   ]
  },
  {
   "cell_type": "code",
   "execution_count": 19,
   "id": "7e91c1c5",
   "metadata": {},
   "outputs": [],
   "source": [
    "# drop inf, -inf : replace inf to 1 or -1 . 데이터를 살리고\n",
    "# 변동률이 무한대가 되는 것을 방지하기 위해서, 나중에 발생하는 에러를 방지\n",
    "for key, val in code.items():\n",
    "    globals()['df_{}_combine'.format(val[1])].replace([np.inf, -np.inf], [1, -1], inplace=True)\n",
    "\n",
    "# **** 데이터 전처리 from sklearn.impute import SimpleImputer, SimpleImputer 사용하기로 함."
   ]
  },
  {
   "cell_type": "code",
   "execution_count": 20,
   "id": "3fa3914b",
   "metadata": {},
   "outputs": [
    {
     "data": {
      "text/html": [
       "<div>\n",
       "<style scoped>\n",
       "    .dataframe tbody tr th:only-of-type {\n",
       "        vertical-align: middle;\n",
       "    }\n",
       "\n",
       "    .dataframe tbody tr th {\n",
       "        vertical-align: top;\n",
       "    }\n",
       "\n",
       "    .dataframe thead th {\n",
       "        text-align: right;\n",
       "    }\n",
       "</style>\n",
       "<table border=\"1\" class=\"dataframe\">\n",
       "  <thead>\n",
       "    <tr style=\"text-align: right;\">\n",
       "      <th></th>\n",
       "      <th>retail_1</th>\n",
       "      <th>foreigner_1</th>\n",
       "      <th>institution_1</th>\n",
       "      <th>financial_1</th>\n",
       "      <th>invtrust_1</th>\n",
       "      <th>pension_1</th>\n",
       "      <th>privequity_1</th>\n",
       "      <th>bank_1</th>\n",
       "      <th>insurance_1</th>\n",
       "      <th>financeetc_1</th>\n",
       "      <th>...</th>\n",
       "      <th>high_2</th>\n",
       "      <th>low_2</th>\n",
       "      <th>close_2</th>\n",
       "      <th>vol_2</th>\n",
       "      <th>weekday</th>\n",
       "      <th>cr_00</th>\n",
       "      <th>cr_05</th>\n",
       "      <th>cr_10</th>\n",
       "      <th>cr_15</th>\n",
       "      <th>cr_20</th>\n",
       "    </tr>\n",
       "  </thead>\n",
       "  <tbody>\n",
       "    <tr>\n",
       "      <th>2024-01-17</th>\n",
       "      <td>-2.97247</td>\n",
       "      <td>-1.91798</td>\n",
       "      <td>-6.59449</td>\n",
       "      <td>-3.66426</td>\n",
       "      <td>-3.33979</td>\n",
       "      <td>-0.15914</td>\n",
       "      <td>0.74657</td>\n",
       "      <td>18.20000</td>\n",
       "      <td>-4.39666</td>\n",
       "      <td>-0.05814</td>\n",
       "      <td>...</td>\n",
       "      <td>-0.00540</td>\n",
       "      <td>-0.00412</td>\n",
       "      <td>-0.00684</td>\n",
       "      <td>0.13203</td>\n",
       "      <td>1</td>\n",
       "      <td>0</td>\n",
       "      <td>0</td>\n",
       "      <td>0</td>\n",
       "      <td>0</td>\n",
       "      <td>0</td>\n",
       "    </tr>\n",
       "    <tr>\n",
       "      <th>2024-01-18</th>\n",
       "      <td>0.55442</td>\n",
       "      <td>3.69636</td>\n",
       "      <td>-0.65533</td>\n",
       "      <td>-0.90973</td>\n",
       "      <td>0.66676</td>\n",
       "      <td>0.93575</td>\n",
       "      <td>2.30284</td>\n",
       "      <td>-0.32621</td>\n",
       "      <td>-0.84430</td>\n",
       "      <td>-2.00154</td>\n",
       "      <td>...</td>\n",
       "      <td>-0.00946</td>\n",
       "      <td>-0.03005</td>\n",
       "      <td>-0.03924</td>\n",
       "      <td>0.71685</td>\n",
       "      <td>2</td>\n",
       "      <td>1</td>\n",
       "      <td>1</td>\n",
       "      <td>0</td>\n",
       "      <td>0</td>\n",
       "      <td>0</td>\n",
       "    </tr>\n",
       "    <tr>\n",
       "      <th>2024-01-19</th>\n",
       "      <td>-0.78989</td>\n",
       "      <td>-0.76093</td>\n",
       "      <td>-1.10177</td>\n",
       "      <td>-1.54829</td>\n",
       "      <td>0.21157</td>\n",
       "      <td>-0.04713</td>\n",
       "      <td>-1.53460</td>\n",
       "      <td>-0.01139</td>\n",
       "      <td>1.75000</td>\n",
       "      <td>0.78120</td>\n",
       "      <td>...</td>\n",
       "      <td>-0.02307</td>\n",
       "      <td>-0.02483</td>\n",
       "      <td>-0.01240</td>\n",
       "      <td>0.20955</td>\n",
       "      <td>3</td>\n",
       "      <td>1</td>\n",
       "      <td>1</td>\n",
       "      <td>1</td>\n",
       "      <td>1</td>\n",
       "      <td>1</td>\n",
       "    </tr>\n",
       "    <tr>\n",
       "      <th>2024-01-22</th>\n",
       "      <td>-9.05944</td>\n",
       "      <td>-8.77314</td>\n",
       "      <td>-10.82964</td>\n",
       "      <td>-7.89915</td>\n",
       "      <td>-1.37313</td>\n",
       "      <td>-0.55190</td>\n",
       "      <td>-0.13962</td>\n",
       "      <td>-0.27572</td>\n",
       "      <td>-0.86520</td>\n",
       "      <td>-1.06920</td>\n",
       "      <td>...</td>\n",
       "      <td>0.01910</td>\n",
       "      <td>0.02817</td>\n",
       "      <td>0.05211</td>\n",
       "      <td>0.02997</td>\n",
       "      <td>4</td>\n",
       "      <td>1</td>\n",
       "      <td>1</td>\n",
       "      <td>0</td>\n",
       "      <td>0</td>\n",
       "      <td>0</td>\n",
       "    </tr>\n",
       "    <tr>\n",
       "      <th>2024-01-23</th>\n",
       "      <td>-0.69481</td>\n",
       "      <td>-0.71377</td>\n",
       "      <td>-0.67360</td>\n",
       "      <td>0.21901</td>\n",
       "      <td>-5.99356</td>\n",
       "      <td>-3.50416</td>\n",
       "      <td>-1.15738</td>\n",
       "      <td>-1.00227</td>\n",
       "      <td>-34.99225</td>\n",
       "      <td>1.71250</td>\n",
       "      <td>...</td>\n",
       "      <td>0.05556</td>\n",
       "      <td>0.06082</td>\n",
       "      <td>0.04742</td>\n",
       "      <td>0.09980</td>\n",
       "      <td>0</td>\n",
       "      <td>0</td>\n",
       "      <td>0</td>\n",
       "      <td>0</td>\n",
       "      <td>0</td>\n",
       "      <td>0</td>\n",
       "    </tr>\n",
       "  </tbody>\n",
       "</table>\n",
       "<p>5 rows × 114 columns</p>\n",
       "</div>"
      ],
      "text/plain": [
       "            retail_1  foreigner_1  institution_1  financial_1  invtrust_1   \n",
       "2024-01-17  -2.97247     -1.91798       -6.59449     -3.66426    -3.33979  \\\n",
       "2024-01-18   0.55442      3.69636       -0.65533     -0.90973     0.66676   \n",
       "2024-01-19  -0.78989     -0.76093       -1.10177     -1.54829     0.21157   \n",
       "2024-01-22  -9.05944     -8.77314      -10.82964     -7.89915    -1.37313   \n",
       "2024-01-23  -0.69481     -0.71377       -0.67360      0.21901    -5.99356   \n",
       "\n",
       "            pension_1  privequity_1    bank_1  insurance_1  financeetc_1  ...   \n",
       "2024-01-17   -0.15914       0.74657  18.20000     -4.39666      -0.05814  ...  \\\n",
       "2024-01-18    0.93575       2.30284  -0.32621     -0.84430      -2.00154  ...   \n",
       "2024-01-19   -0.04713      -1.53460  -0.01139      1.75000       0.78120  ...   \n",
       "2024-01-22   -0.55190      -0.13962  -0.27572     -0.86520      -1.06920  ...   \n",
       "2024-01-23   -3.50416      -1.15738  -1.00227    -34.99225       1.71250  ...   \n",
       "\n",
       "             high_2    low_2  close_2    vol_2  weekday  cr_00 cr_05 cr_10   \n",
       "2024-01-17 -0.00540 -0.00412 -0.00684  0.13203        1      0     0     0  \\\n",
       "2024-01-18 -0.00946 -0.03005 -0.03924  0.71685        2      1     1     0   \n",
       "2024-01-19 -0.02307 -0.02483 -0.01240  0.20955        3      1     1     1   \n",
       "2024-01-22  0.01910  0.02817  0.05211  0.02997        4      1     1     0   \n",
       "2024-01-23  0.05556  0.06082  0.04742  0.09980        0      0     0     0   \n",
       "\n",
       "            cr_15  cr_20  \n",
       "2024-01-17      0      0  \n",
       "2024-01-18      0      0  \n",
       "2024-01-19      1      1  \n",
       "2024-01-22      0      0  \n",
       "2024-01-23      0      0  \n",
       "\n",
       "[5 rows x 114 columns]"
      ]
     },
     "execution_count": 20,
     "metadata": {},
     "output_type": "execute_result"
    }
   ],
   "source": [
    "df_sec_combine.tail()"
   ]
  },
  {
   "cell_type": "code",
   "execution_count": 21,
   "id": "bf7224df",
   "metadata": {},
   "outputs": [],
   "source": [
    "nanlo = locate_nan(df_sec_combine)  # nan 위치 찾기"
   ]
  },
  {
   "cell_type": "code",
   "execution_count": 22,
   "id": "2f63d7f5",
   "metadata": {},
   "outputs": [
    {
     "name": "stdout",
     "output_type": "stream",
     "text": [
      "[[datetime.date(2022, 1, 7) 'dji_cr']\n",
      " [datetime.date(2022, 1, 7) 'dji_f_cr']\n",
      " [datetime.date(2022, 1, 7) 'dxy_cr']\n",
      " ...\n",
      " [datetime.date(2024, 1, 23) 'ixut_cr_2']\n",
      " [datetime.date(2024, 1, 23) 'nbi_cr_2']\n",
      " [datetime.date(2024, 1, 23) 'bkx_cr_2']]\n"
     ]
    }
   ],
   "source": [
    "print(nanlo)"
   ]
  },
  {
   "cell_type": "code",
   "execution_count": 23,
   "id": "21a6d628",
   "metadata": {},
   "outputs": [],
   "source": [
    "# delete rows which include NaN : dji, spx, nasdaq 기타 common 지수중 한개라도 nan인 rows 제거\n",
    "for key, val in code.items():\n",
    "    globals()['df_{}_combine'.format(val[1])].dropna(inplace=True)"
   ]
  },
  {
   "cell_type": "code",
   "execution_count": 24,
   "id": "c6f3061c",
   "metadata": {},
   "outputs": [],
   "source": [
    "# string column을 numeric으로 전환\n",
    "def string_to_num(df):\n",
    "    df.replace('%', '', regex=True, inplace=True)\n",
    "    df = df.apply(pd.to_numeric)\n",
    "    return df\n",
    "\n",
    "for key, val in code.items():\n",
    "    globals()['df_{}_combine'.format(val[1])] = string_to_num(globals()['df_{}_combine'.format(val[1])])"
   ]
  },
  {
   "cell_type": "code",
   "execution_count": 25,
   "id": "7e8d5acf",
   "metadata": {},
   "outputs": [],
   "source": [
    "# pickle로 데이터 저장\n",
    "\n",
    "for key, val in code.items():\n",
    "    globals()[f'df_{val[1]}_combine'].to_pickle(directory_for_predict + f'df_{val[1]}_combine.pkl')\n",
    "    globals()[f'df_{val[1]}_combine'].to_csv(directory_for_predict + f'df_{val[1]}_combine.csv')"
   ]
  },
  {
   "cell_type": "code",
   "execution_count": null,
   "id": "a01825d3",
   "metadata": {},
   "outputs": [],
   "source": []
  },
  {
   "cell_type": "code",
   "execution_count": null,
   "id": "3300e5b2",
   "metadata": {},
   "outputs": [],
   "source": []
  },
  {
   "cell_type": "code",
   "execution_count": null,
   "id": "1ffeab80",
   "metadata": {},
   "outputs": [],
   "source": []
  },
  {
   "cell_type": "code",
   "execution_count": null,
   "id": "a1f7c9d1",
   "metadata": {},
   "outputs": [],
   "source": []
  },
  {
   "cell_type": "code",
   "execution_count": null,
   "id": "bc80b897",
   "metadata": {},
   "outputs": [],
   "source": []
  }
 ],
 "metadata": {
  "kernelspec": {
   "display_name": "Python 3 (ipykernel)",
   "language": "python",
   "name": "python3"
  },
  "language_info": {
   "codemirror_mode": {
    "name": "ipython",
    "version": 3
   },
   "file_extension": ".py",
   "mimetype": "text/x-python",
   "name": "python",
   "nbconvert_exporter": "python",
   "pygments_lexer": "ipython3",
   "version": "3.9.1"
  }
 },
 "nbformat": 4,
 "nbformat_minor": 5
}
