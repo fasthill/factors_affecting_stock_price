{
 "cells": [
  {
   "cell_type": "markdown",
   "id": "459ff0ca",
   "metadata": {},
   "source": [
    "## combine company data and common data"
   ]
  },
  {
   "cell_type": "code",
   "execution_count": 1,
   "id": "d3b5a935",
   "metadata": {},
   "outputs": [],
   "source": [
    "import datetime, time\n",
    "from datetime import date\n",
    "\n",
    "import pandas as pd\n",
    "import numpy as np\n",
    "import os\n",
    "import sys\n",
    "\n",
    "from sklearn.preprocessing import StandardScaler"
   ]
  },
  {
   "cell_type": "code",
   "execution_count": 2,
   "id": "8ef51f99",
   "metadata": {},
   "outputs": [],
   "source": [
    "module_path = os.path.abspath(os.path.join('.')) \n",
    "sys.path.append(module_path+\"\\\\data\\\\constant\")\n",
    "\n",
    "from constants import COMPANY_CODE"
   ]
  },
  {
   "cell_type": "code",
   "execution_count": 3,
   "id": "9ea60572",
   "metadata": {},
   "outputs": [
    {
     "data": {
      "text/plain": [
       "\" \\n[[datetime.date(2022, 1, 17) 'dji_cr']\\n [datetime.date(2022, 1, 17) 'dji_f_cr']\\n ...\\n [datetime.date(2023, 5, 23) 'kosdaq_cr']\\n [datetime.date(2023, 5, 23) 'kosdaq_cr_2']]\\n\""
      ]
     },
     "execution_count": 3,
     "metadata": {},
     "output_type": "execute_result"
    }
   ],
   "source": [
    "def locate_nan(df):\n",
    "    idx, idy = np.where(pd.isnull(df))\n",
    "    result = np.column_stack([df.index[idx], df.columns[idy]])\n",
    "    return result\n",
    "\n",
    "# return format\n",
    "''' \n",
    "[[datetime.date(2022, 1, 17) 'dji_cr']\n",
    " [datetime.date(2022, 1, 17) 'dji_f_cr']\n",
    " ...\n",
    " [datetime.date(2023, 5, 23) 'kosdaq_cr']\n",
    " [datetime.date(2023, 5, 23) 'kosdaq_cr_2']]\n",
    "'''"
   ]
  },
  {
   "cell_type": "code",
   "execution_count": 4,
   "id": "d6f9e0c8",
   "metadata": {},
   "outputs": [],
   "source": [
    "code = COMPANY_CODE\n",
    "\n",
    "# code = {'005930': ['삼성전자', 'sec'], '005380': ['현대차', 'hyunmotor'],\n",
    "#                  '035420': ['NAVER', 'naver'], '033780': ['KT&G', 'ktng']}\n",
    "# code = {'005930': ['삼성전자', 'sec'], '000660': ['SK하이닉스', 'skhynix']}\n",
    "# code = {'302440': ['SK바이오사이언스', 'skbio']}"
   ]
  },
  {
   "cell_type": "code",
   "execution_count": 5,
   "id": "1ced9635",
   "metadata": {},
   "outputs": [],
   "source": [
    "directory_for_predict = './data/data_for_ml/predict/'\n",
    "pkl_common_directory = './data/common_pkl/'\n",
    "pkl_directory = './data/common_pkl/'"
   ]
  },
  {
   "cell_type": "code",
   "execution_count": 6,
   "id": "a4ac3c16",
   "metadata": {},
   "outputs": [],
   "source": [
    "df_common = pd.read_pickle(directory_for_predict + '0_df_common.pkl')"
   ]
  },
  {
   "cell_type": "code",
   "execution_count": 7,
   "id": "82d5ae58",
   "metadata": {},
   "outputs": [],
   "source": [
    "for key, val in code.items():\n",
    "    df_company = pd.read_pickle(directory_for_predict + f'df_{val[1]}_company.pkl')\n",
    "    df_company = df_company.merge(df_common, how='left', left_index=True, right_index=True)\n",
    "    globals()[f'df_{val[1]}_combine'] = df_company.copy()"
   ]
  },
  {
   "cell_type": "code",
   "execution_count": 8,
   "id": "6c798e31",
   "metadata": {},
   "outputs": [
    {
     "data": {
      "text/html": [
       "<div>\n",
       "<style scoped>\n",
       "    .dataframe tbody tr th:only-of-type {\n",
       "        vertical-align: middle;\n",
       "    }\n",
       "\n",
       "    .dataframe tbody tr th {\n",
       "        vertical-align: top;\n",
       "    }\n",
       "\n",
       "    .dataframe thead th {\n",
       "        text-align: right;\n",
       "    }\n",
       "</style>\n",
       "<table border=\"1\" class=\"dataframe\">\n",
       "  <thead>\n",
       "    <tr style=\"text-align: right;\">\n",
       "      <th></th>\n",
       "      <th>retail_1</th>\n",
       "      <th>foreigner_1</th>\n",
       "      <th>institution_1</th>\n",
       "      <th>financial_1</th>\n",
       "      <th>invtrust_1</th>\n",
       "      <th>pension_1</th>\n",
       "      <th>privequity_1</th>\n",
       "      <th>bank_1</th>\n",
       "      <th>insurance_1</th>\n",
       "      <th>financeetc_1</th>\n",
       "      <th>...</th>\n",
       "      <th>ixk_cr</th>\n",
       "      <th>ixk_cr_2</th>\n",
       "      <th>ixtr_cr</th>\n",
       "      <th>ixtr_cr_2</th>\n",
       "      <th>ixut_cr</th>\n",
       "      <th>ixut_cr_2</th>\n",
       "      <th>nbi_cr</th>\n",
       "      <th>nbi_cr_2</th>\n",
       "      <th>bkx_cr</th>\n",
       "      <th>bkx_cr_2</th>\n",
       "    </tr>\n",
       "  </thead>\n",
       "  <tbody>\n",
       "    <tr>\n",
       "      <th>2024-11-21</th>\n",
       "      <td>-5.42153</td>\n",
       "      <td>-1.28633</td>\n",
       "      <td>-0.48122</td>\n",
       "      <td>-0.73877</td>\n",
       "      <td>10.90155</td>\n",
       "      <td>-0.61962</td>\n",
       "      <td>-1.12006</td>\n",
       "      <td>0.98030</td>\n",
       "      <td>0.03436</td>\n",
       "      <td>-1.36364</td>\n",
       "      <td>...</td>\n",
       "      <td>-0.30%</td>\n",
       "      <td>1.09229</td>\n",
       "      <td>0.17%</td>\n",
       "      <td>-0.07279</td>\n",
       "      <td>0.87%</td>\n",
       "      <td>-0.11103</td>\n",
       "      <td>0.74%</td>\n",
       "      <td>1.06470</td>\n",
       "      <td>-0.17%</td>\n",
       "      <td>-1.03200</td>\n",
       "    </tr>\n",
       "    <tr>\n",
       "      <th>2024-11-22</th>\n",
       "      <td>-2.21167</td>\n",
       "      <td>-2.88817</td>\n",
       "      <td>-1.23329</td>\n",
       "      <td>11.24073</td>\n",
       "      <td>-0.21811</td>\n",
       "      <td>0.42053</td>\n",
       "      <td>-2.09211</td>\n",
       "      <td>-1.45522</td>\n",
       "      <td>-0.39383</td>\n",
       "      <td>-1.00000</td>\n",
       "      <td>...</td>\n",
       "      <td>-0.24%</td>\n",
       "      <td>-0.54281</td>\n",
       "      <td>1.46%</td>\n",
       "      <td>1.62937</td>\n",
       "      <td>0.46%</td>\n",
       "      <td>1.32663</td>\n",
       "      <td>0.69%</td>\n",
       "      <td>1.43420</td>\n",
       "      <td>1.51%</td>\n",
       "      <td>1.33303</td>\n",
       "    </tr>\n",
       "    <tr>\n",
       "      <th>2024-11-25</th>\n",
       "      <td>-1.02184</td>\n",
       "      <td>0.20046</td>\n",
       "      <td>-6.72174</td>\n",
       "      <td>-0.87693</td>\n",
       "      <td>0.23163</td>\n",
       "      <td>-0.17654</td>\n",
       "      <td>34.92771</td>\n",
       "      <td>-0.49180</td>\n",
       "      <td>-1.11155</td>\n",
       "      <td>inf</td>\n",
       "      <td>...</td>\n",
       "      <td>-0.41%</td>\n",
       "      <td>-0.64928</td>\n",
       "      <td>0.72%</td>\n",
       "      <td>2.18486</td>\n",
       "      <td>0.96%</td>\n",
       "      <td>1.42434</td>\n",
       "      <td>1.53%</td>\n",
       "      <td>2.22895</td>\n",
       "      <td>1.56%</td>\n",
       "      <td>3.09077</td>\n",
       "    </tr>\n",
       "    <tr>\n",
       "      <th>2024-11-26</th>\n",
       "      <td>61.68308</td>\n",
       "      <td>-0.96184</td>\n",
       "      <td>0.54860</td>\n",
       "      <td>-3.16025</td>\n",
       "      <td>2.91772</td>\n",
       "      <td>-0.16645</td>\n",
       "      <td>-2.92522</td>\n",
       "      <td>-4.64516</td>\n",
       "      <td>-89.21053</td>\n",
       "      <td>-0.05000</td>\n",
       "      <td>...</td>\n",
       "      <td>0.05%</td>\n",
       "      <td>-0.35933</td>\n",
       "      <td>1.87%</td>\n",
       "      <td>2.59989</td>\n",
       "      <td>0.26%</td>\n",
       "      <td>1.22116</td>\n",
       "      <td>1.34%</td>\n",
       "      <td>2.88161</td>\n",
       "      <td>0.99%</td>\n",
       "      <td>2.56448</td>\n",
       "    </tr>\n",
       "    <tr>\n",
       "      <th>2024-11-27</th>\n",
       "      <td>-0.00211</td>\n",
       "      <td>2.22704</td>\n",
       "      <td>-0.02946</td>\n",
       "      <td>-3.11272</td>\n",
       "      <td>-0.72467</td>\n",
       "      <td>0.05208</td>\n",
       "      <td>-4.08518</td>\n",
       "      <td>0.30383</td>\n",
       "      <td>-0.65095</td>\n",
       "      <td>1.25263</td>\n",
       "      <td>...</td>\n",
       "      <td>NaN</td>\n",
       "      <td>NaN</td>\n",
       "      <td>NaN</td>\n",
       "      <td>NaN</td>\n",
       "      <td>NaN</td>\n",
       "      <td>NaN</td>\n",
       "      <td>NaN</td>\n",
       "      <td>NaN</td>\n",
       "      <td>NaN</td>\n",
       "      <td>NaN</td>\n",
       "    </tr>\n",
       "  </tbody>\n",
       "</table>\n",
       "<p>5 rows × 114 columns</p>\n",
       "</div>"
      ],
      "text/plain": [
       "            retail_1  foreigner_1  institution_1  financial_1  invtrust_1  \\\n",
       "2024-11-21  -5.42153     -1.28633       -0.48122     -0.73877    10.90155   \n",
       "2024-11-22  -2.21167     -2.88817       -1.23329     11.24073    -0.21811   \n",
       "2024-11-25  -1.02184      0.20046       -6.72174     -0.87693     0.23163   \n",
       "2024-11-26  61.68308     -0.96184        0.54860     -3.16025     2.91772   \n",
       "2024-11-27  -0.00211      2.22704       -0.02946     -3.11272    -0.72467   \n",
       "\n",
       "            pension_1  privequity_1   bank_1  insurance_1  financeetc_1  ...  \\\n",
       "2024-11-21   -0.61962      -1.12006  0.98030      0.03436      -1.36364  ...   \n",
       "2024-11-22    0.42053      -2.09211 -1.45522     -0.39383      -1.00000  ...   \n",
       "2024-11-25   -0.17654      34.92771 -0.49180     -1.11155           inf  ...   \n",
       "2024-11-26   -0.16645      -2.92522 -4.64516    -89.21053      -0.05000  ...   \n",
       "2024-11-27    0.05208      -4.08518  0.30383     -0.65095       1.25263  ...   \n",
       "\n",
       "            ixk_cr  ixk_cr_2  ixtr_cr  ixtr_cr_2  ixut_cr  ixut_cr_2  nbi_cr  \\\n",
       "2024-11-21  -0.30%   1.09229    0.17%   -0.07279    0.87%   -0.11103   0.74%   \n",
       "2024-11-22  -0.24%  -0.54281    1.46%    1.62937    0.46%    1.32663   0.69%   \n",
       "2024-11-25  -0.41%  -0.64928    0.72%    2.18486    0.96%    1.42434   1.53%   \n",
       "2024-11-26   0.05%  -0.35933    1.87%    2.59989    0.26%    1.22116   1.34%   \n",
       "2024-11-27     NaN       NaN      NaN        NaN      NaN        NaN     NaN   \n",
       "\n",
       "            nbi_cr_2  bkx_cr  bkx_cr_2  \n",
       "2024-11-21   1.06470  -0.17%  -1.03200  \n",
       "2024-11-22   1.43420   1.51%   1.33303  \n",
       "2024-11-25   2.22895   1.56%   3.09077  \n",
       "2024-11-26   2.88161   0.99%   2.56448  \n",
       "2024-11-27       NaN     NaN       NaN  \n",
       "\n",
       "[5 rows x 114 columns]"
      ]
     },
     "execution_count": 8,
     "metadata": {},
     "output_type": "execute_result"
    }
   ],
   "source": [
    "df_hyunmotor_combine.tail()"
   ]
  },
  {
   "cell_type": "code",
   "execution_count": 9,
   "id": "aeab3342",
   "metadata": {},
   "outputs": [
    {
     "data": {
      "text/plain": [
       "datetime.date(2022, 1, 7)"
      ]
     },
     "execution_count": 9,
     "metadata": {},
     "output_type": "execute_result"
    }
   ],
   "source": [
    "df_hyunmotor_combine.index[0]"
   ]
  },
  {
   "cell_type": "code",
   "execution_count": 10,
   "id": "587ac2cd",
   "metadata": {},
   "outputs": [],
   "source": [
    "col_inv1 = ['retail_1', 'foreigner_1', 'institution_1', 'financial_1', 'invtrust_1', 'pension_1', 'privequity_1', \n",
    "            'bank_1', 'insurance_1', 'financeetc_1', 'corporateetc_1', 'foreigneretc_1']\n",
    "col_inv2 = ['retail_2', 'foreigner_2', 'institution_2', 'financial_2', 'invtrust_2', 'pension_2',\n",
    "            'privequity_2', 'bank_2', 'insurance_2', 'financeetc_2', 'corporateetc_2', 'foreigneretc_2']"
   ]
  },
  {
   "cell_type": "code",
   "execution_count": 11,
   "id": "76ca8389",
   "metadata": {},
   "outputs": [],
   "source": [
    "col_his1 = ['open_1', 'high_1', 'low_1', 'close_1', 'vol_1']\n",
    "col_his2 = ['open_2', 'high_2', 'low_2', 'close_2', 'vol_2']"
   ]
  },
  {
   "cell_type": "code",
   "execution_count": 12,
   "id": "8a6b4bac",
   "metadata": {},
   "outputs": [],
   "source": [
    "col_common1 = [\"dji_cr\", \"dji_f_cr\", \"dxy_cr\", \"ixic_f_cr\", \"bond_kor_10_cr\", \"bond_kor_2_cr\", \"kosdaq_cr\", \"kospi_cr\", \n",
    "         \"krw_cr\", \"ixic_cr\", \"spx_f_cr\", \"sox_cr\", \"spx_cr\", \"bond_usa_10_cr\", \"bond_usa_2_cr\", \"bond_usa_3m_cr\", \n",
    "         \"vix_cr\", \"wti_cr\", \"spsy_cr\", \"spny_cr\", \"spxhc_cr\", \"splrcd_cr\", \"splrci_cr\", \"splrcu_cr\", \"splrcs_cr\",\n",
    "         \"splrct_cr\", \"splrcl_cr\", \"splrcm_cr\", \"ixbk_cr\", \"ixfn_cr\", \"ixid_cr\", \"ixis_cr\", \"ixk_cr\", \"ixtr_cr\",\n",
    "         \"ixut_cr\", \"nbi_cr\", \"bkx_cr\"]\n",
    "col_common2 = [\"dji_cr_2\", \"dji_f_cr_2\", \"dxy_cr_2\", \"ixic_f_cr_2\", \"bond_kor_10_cr_2\", \"bond_kor_2_cr_2\", \"kosdaq_cr_2\", \"kospi_cr_2\",\n",
    "         \"krw_cr_2\", \"ixic_cr_2\", \"spx_f_cr_2\", \"sox_cr_2\", \"spx_cr_2\", \"bond_usa_10_cr_2\", \"bond_usa_2_cr_2\", \"bond_usa_3m_cr_2\",\n",
    "         \"vix_cr_2\", \"wti_cr_2\", \"spsy_cr_2\", \"spny_cr_2\", \"spxhc_cr_2\", \"splrcd_cr_2\", \"splrci_cr_2\", \"splrcu_cr_2\",\n",
    "         \"splrcs_cr_2\", \"splrct_cr_2\", \"splrcl_cr_2\", \"splrcm_cr_2\", \"ixbk_cr_2\", \"ixfn_cr_2\", \"ixid_cr_2\",\n",
    "         \"ixis_cr_2\", \"ixk_cr_2\", \"ixtr_cr_2\", \"ixut_cr_2\", \"nbi_cr_2\", \"bkx_cr_2\"]"
   ]
  },
  {
   "cell_type": "code",
   "execution_count": 13,
   "id": "9a595935",
   "metadata": {},
   "outputs": [],
   "source": [
    "col_cr = ['weekday', 'cr_00', 'cr_05', 'cr_10', 'cr_15', 'cr_20']"
   ]
  },
  {
   "cell_type": "code",
   "execution_count": 14,
   "id": "75ec6070",
   "metadata": {},
   "outputs": [],
   "source": [
    "col_col = col_inv1 + col_common1 + col_his1 + col_inv2 + col_common2 + col_his2 + col_cr"
   ]
  },
  {
   "cell_type": "code",
   "execution_count": 15,
   "id": "ff6769da",
   "metadata": {},
   "outputs": [],
   "source": [
    "# # write common data only\n",
    "# df_temp = df_common.copy()\n",
    "# df_temp = df_temp[col_common1+col_common2]\n",
    "# pkl_common_directory = './data/common_pkl/'\n",
    "# df_temp.to_pickle(pkl_common_directory + 'df_common.pkl')\n",
    "# df_temp.to_csv(pkl_common_directory + 'df_common.csv')"
   ]
  },
  {
   "cell_type": "code",
   "execution_count": 16,
   "id": "c78c8f82",
   "metadata": {},
   "outputs": [],
   "source": [
    "new_columns = col_col"
   ]
  },
  {
   "cell_type": "code",
   "execution_count": 17,
   "id": "02da1256",
   "metadata": {},
   "outputs": [],
   "source": [
    "# column 순서 변경 : weekday, 'cr_00', 'cr_05', 'cr_10', 'cr_15', 'cr_20' column을 마지막으로 이동 \n",
    "for key, val in code.items():\n",
    "    globals()['df_{}_combine'.format(val[1])] = globals()['df_{}_combine'.format(val[1])][new_columns]"
   ]
  },
  {
   "cell_type": "code",
   "execution_count": 18,
   "id": "d4f1fa06",
   "metadata": {},
   "outputs": [
    {
     "data": {
      "text/plain": [
       "'\\n# drop inf, -inf : replace inf to 1 or -1 . 데이터를 살리고\\n# 변동률이 무한대가 되는 것을 방지하기 위해서, 나중에 발생하는 에러를 방지\\ndf_sec_sel.replace([np.inf, -np.inf], [1, -1], inplace=True)\\n\\n.impute 사용하는 것을 고려할 필요 있음.\\n'"
      ]
     },
     "execution_count": 18,
     "metadata": {},
     "output_type": "execute_result"
    }
   ],
   "source": [
    "'''\n",
    "# drop inf, -inf : replace inf to 1 or -1 . 데이터를 살리고\n",
    "# 변동률이 무한대가 되는 것을 방지하기 위해서, 나중에 발생하는 에러를 방지\n",
    "df_sec_sel.replace([np.inf, -np.inf], [1, -1], inplace=True)\n",
    "\n",
    ".impute 사용하는 것을 고려할 필요 있음.\n",
    "'''"
   ]
  },
  {
   "cell_type": "code",
   "execution_count": 19,
   "id": "7e91c1c5",
   "metadata": {},
   "outputs": [],
   "source": [
    "# drop inf, -inf : replace inf to 1 or -1 . 데이터를 살리고\n",
    "# 변동률이 무한대가 되는 것을 방지하기 위해서, 나중에 발생하는 에러를 방지\n",
    "for key, val in code.items():\n",
    "    globals()['df_{}_combine'.format(val[1])].replace([np.inf, -np.inf], [1, -1], inplace=True)\n",
    "\n",
    "# **** 데이터 전처리 from sklearn.impute import SimpleImputer, SimpleImputer 사용하기로 함."
   ]
  },
  {
   "cell_type": "code",
   "execution_count": 20,
   "id": "3fa3914b",
   "metadata": {},
   "outputs": [
    {
     "data": {
      "text/html": [
       "<div>\n",
       "<style scoped>\n",
       "    .dataframe tbody tr th:only-of-type {\n",
       "        vertical-align: middle;\n",
       "    }\n",
       "\n",
       "    .dataframe tbody tr th {\n",
       "        vertical-align: top;\n",
       "    }\n",
       "\n",
       "    .dataframe thead th {\n",
       "        text-align: right;\n",
       "    }\n",
       "</style>\n",
       "<table border=\"1\" class=\"dataframe\">\n",
       "  <thead>\n",
       "    <tr style=\"text-align: right;\">\n",
       "      <th></th>\n",
       "      <th>retail_1</th>\n",
       "      <th>foreigner_1</th>\n",
       "      <th>institution_1</th>\n",
       "      <th>financial_1</th>\n",
       "      <th>invtrust_1</th>\n",
       "      <th>pension_1</th>\n",
       "      <th>privequity_1</th>\n",
       "      <th>bank_1</th>\n",
       "      <th>insurance_1</th>\n",
       "      <th>financeetc_1</th>\n",
       "      <th>...</th>\n",
       "      <th>high_2</th>\n",
       "      <th>low_2</th>\n",
       "      <th>close_2</th>\n",
       "      <th>vol_2</th>\n",
       "      <th>weekday</th>\n",
       "      <th>cr_00</th>\n",
       "      <th>cr_05</th>\n",
       "      <th>cr_10</th>\n",
       "      <th>cr_15</th>\n",
       "      <th>cr_20</th>\n",
       "    </tr>\n",
       "  </thead>\n",
       "  <tbody>\n",
       "    <tr>\n",
       "      <th>2024-11-21</th>\n",
       "      <td>-5.75444</td>\n",
       "      <td>-0.45740</td>\n",
       "      <td>-1.11126</td>\n",
       "      <td>-1.14417</td>\n",
       "      <td>-0.76747</td>\n",
       "      <td>-0.94859</td>\n",
       "      <td>-0.89842</td>\n",
       "      <td>-2.57143</td>\n",
       "      <td>-1.13981</td>\n",
       "      <td>-0.73563</td>\n",
       "      <td>...</td>\n",
       "      <td>-0.01739</td>\n",
       "      <td>-0.01968</td>\n",
       "      <td>-0.02469</td>\n",
       "      <td>-0.56618</td>\n",
       "      <td>2</td>\n",
       "      <td>1</td>\n",
       "      <td>1</td>\n",
       "      <td>1</td>\n",
       "      <td>1</td>\n",
       "      <td>0</td>\n",
       "    </tr>\n",
       "    <tr>\n",
       "      <th>2024-11-22</th>\n",
       "      <td>-2.52098</td>\n",
       "      <td>-0.42778</td>\n",
       "      <td>-4.52614</td>\n",
       "      <td>1.62249</td>\n",
       "      <td>-1.94735</td>\n",
       "      <td>23.49517</td>\n",
       "      <td>-8.61293</td>\n",
       "      <td>-1.82251</td>\n",
       "      <td>0.81143</td>\n",
       "      <td>5.58696</td>\n",
       "      <td>...</td>\n",
       "      <td>-0.01043</td>\n",
       "      <td>-0.02147</td>\n",
       "      <td>0.00178</td>\n",
       "      <td>-0.39451</td>\n",
       "      <td>3</td>\n",
       "      <td>0</td>\n",
       "      <td>0</td>\n",
       "      <td>0</td>\n",
       "      <td>0</td>\n",
       "      <td>0</td>\n",
       "    </tr>\n",
       "    <tr>\n",
       "      <th>2024-11-25</th>\n",
       "      <td>-1.64479</td>\n",
       "      <td>3.53447</td>\n",
       "      <td>0.52229</td>\n",
       "      <td>-2.35959</td>\n",
       "      <td>2.99691</td>\n",
       "      <td>-0.74382</td>\n",
       "      <td>-1.25874</td>\n",
       "      <td>1.81579</td>\n",
       "      <td>-0.07886</td>\n",
       "      <td>-3.29043</td>\n",
       "      <td>...</td>\n",
       "      <td>0.00354</td>\n",
       "      <td>0.02007</td>\n",
       "      <td>0.01266</td>\n",
       "      <td>-0.26759</td>\n",
       "      <td>4</td>\n",
       "      <td>1</td>\n",
       "      <td>1</td>\n",
       "      <td>1</td>\n",
       "      <td>1</td>\n",
       "      <td>1</td>\n",
       "    </tr>\n",
       "    <tr>\n",
       "      <th>2024-11-26</th>\n",
       "      <td>-4.73994</td>\n",
       "      <td>-0.95335</td>\n",
       "      <td>0.63687</td>\n",
       "      <td>1.02064</td>\n",
       "      <td>0.14214</td>\n",
       "      <td>-0.72469</td>\n",
       "      <td>-1.20332</td>\n",
       "      <td>0.20561</td>\n",
       "      <td>8.01941</td>\n",
       "      <td>-1.72046</td>\n",
       "      <td>...</td>\n",
       "      <td>0.01757</td>\n",
       "      <td>0.03656</td>\n",
       "      <td>0.02660</td>\n",
       "      <td>0.89756</td>\n",
       "      <td>0</td>\n",
       "      <td>1</td>\n",
       "      <td>1</td>\n",
       "      <td>0</td>\n",
       "      <td>0</td>\n",
       "      <td>0</td>\n",
       "    </tr>\n",
       "    <tr>\n",
       "      <th>2024-11-27</th>\n",
       "      <td>-1.04840</td>\n",
       "      <td>-7.55066</td>\n",
       "      <td>-1.89009</td>\n",
       "      <td>-2.04391</td>\n",
       "      <td>-2.26666</td>\n",
       "      <td>0.26407</td>\n",
       "      <td>-2.81132</td>\n",
       "      <td>-0.95814</td>\n",
       "      <td>-0.86786</td>\n",
       "      <td>-1.03400</td>\n",
       "      <td>...</td>\n",
       "      <td>0.03880</td>\n",
       "      <td>0.02862</td>\n",
       "      <td>0.04107</td>\n",
       "      <td>0.51005</td>\n",
       "      <td>1</td>\n",
       "      <td>0</td>\n",
       "      <td>0</td>\n",
       "      <td>0</td>\n",
       "      <td>0</td>\n",
       "      <td>0</td>\n",
       "    </tr>\n",
       "  </tbody>\n",
       "</table>\n",
       "<p>5 rows × 114 columns</p>\n",
       "</div>"
      ],
      "text/plain": [
       "            retail_1  foreigner_1  institution_1  financial_1  invtrust_1  \\\n",
       "2024-11-21  -5.75444     -0.45740       -1.11126     -1.14417    -0.76747   \n",
       "2024-11-22  -2.52098     -0.42778       -4.52614      1.62249    -1.94735   \n",
       "2024-11-25  -1.64479      3.53447        0.52229     -2.35959     2.99691   \n",
       "2024-11-26  -4.73994     -0.95335        0.63687      1.02064     0.14214   \n",
       "2024-11-27  -1.04840     -7.55066       -1.89009     -2.04391    -2.26666   \n",
       "\n",
       "            pension_1  privequity_1   bank_1  insurance_1  financeetc_1  ...  \\\n",
       "2024-11-21   -0.94859      -0.89842 -2.57143     -1.13981      -0.73563  ...   \n",
       "2024-11-22   23.49517      -8.61293 -1.82251      0.81143       5.58696  ...   \n",
       "2024-11-25   -0.74382      -1.25874  1.81579     -0.07886      -3.29043  ...   \n",
       "2024-11-26   -0.72469      -1.20332  0.20561      8.01941      -1.72046  ...   \n",
       "2024-11-27    0.26407      -2.81132 -0.95814     -0.86786      -1.03400  ...   \n",
       "\n",
       "             high_2    low_2  close_2    vol_2  weekday  cr_00 cr_05 cr_10  \\\n",
       "2024-11-21 -0.01739 -0.01968 -0.02469 -0.56618        2      1     1     1   \n",
       "2024-11-22 -0.01043 -0.02147  0.00178 -0.39451        3      0     0     0   \n",
       "2024-11-25  0.00354  0.02007  0.01266 -0.26759        4      1     1     1   \n",
       "2024-11-26  0.01757  0.03656  0.02660  0.89756        0      1     1     0   \n",
       "2024-11-27  0.03880  0.02862  0.04107  0.51005        1      0     0     0   \n",
       "\n",
       "            cr_15  cr_20  \n",
       "2024-11-21      1      0  \n",
       "2024-11-22      0      0  \n",
       "2024-11-25      1      1  \n",
       "2024-11-26      0      0  \n",
       "2024-11-27      0      0  \n",
       "\n",
       "[5 rows x 114 columns]"
      ]
     },
     "execution_count": 20,
     "metadata": {},
     "output_type": "execute_result"
    }
   ],
   "source": [
    "df_sec_combine.tail()"
   ]
  },
  {
   "cell_type": "code",
   "execution_count": 21,
   "id": "bf7224df",
   "metadata": {},
   "outputs": [],
   "source": [
    "nanlo = locate_nan(df_sec_combine)  # nan 위치 찾기"
   ]
  },
  {
   "cell_type": "code",
   "execution_count": 22,
   "id": "2f63d7f5",
   "metadata": {},
   "outputs": [
    {
     "name": "stdout",
     "output_type": "stream",
     "text": [
      "[[datetime.date(2022, 1, 18) 'dji_cr']\n",
      " [datetime.date(2022, 1, 18) 'dji_f_cr']\n",
      " [datetime.date(2022, 1, 18) 'dxy_cr']\n",
      " ...\n",
      " [datetime.date(2024, 11, 27) 'ixut_cr_2']\n",
      " [datetime.date(2024, 11, 27) 'nbi_cr_2']\n",
      " [datetime.date(2024, 11, 27) 'bkx_cr_2']]\n"
     ]
    }
   ],
   "source": [
    "print(nanlo)"
   ]
  },
  {
   "cell_type": "code",
   "execution_count": 23,
   "id": "21a6d628",
   "metadata": {},
   "outputs": [],
   "source": [
    "# delete rows which include NaN : dji, spx, nasdaq 기타 common 지수중 한개라도 nan인 rows 제거\n",
    "for key, val in code.items():\n",
    "    globals()['df_{}_combine'.format(val[1])].dropna(inplace=True)"
   ]
  },
  {
   "cell_type": "code",
   "execution_count": 24,
   "id": "c6f3061c",
   "metadata": {},
   "outputs": [],
   "source": [
    "# string column을 numeric으로 전환\n",
    "def string_to_num(df):\n",
    "    df.replace('%', '', regex=True, inplace=True)\n",
    "    df = df.apply(pd.to_numeric)\n",
    "    return df\n",
    "\n",
    "for key, val in code.items():\n",
    "    globals()['df_{}_combine'.format(val[1])] = string_to_num(globals()['df_{}_combine'.format(val[1])])"
   ]
  },
  {
   "cell_type": "code",
   "execution_count": 25,
   "id": "7e8d5acf",
   "metadata": {},
   "outputs": [],
   "source": [
    "# pickle로 데이터 저장\n",
    "\n",
    "for key, val in code.items():\n",
    "    globals()[f'df_{val[1]}_combine'].to_pickle(directory_for_predict + f'df_{val[1]}_combine.pkl')\n",
    "    globals()[f'df_{val[1]}_combine'].to_csv(directory_for_predict + f'df_{val[1]}_combine.csv')"
   ]
  },
  {
   "cell_type": "code",
   "execution_count": null,
   "id": "a01825d3",
   "metadata": {},
   "outputs": [],
   "source": []
  },
  {
   "cell_type": "code",
   "execution_count": null,
   "id": "3300e5b2",
   "metadata": {},
   "outputs": [],
   "source": []
  },
  {
   "cell_type": "code",
   "execution_count": null,
   "id": "1ffeab80",
   "metadata": {},
   "outputs": [],
   "source": []
  },
  {
   "cell_type": "code",
   "execution_count": null,
   "id": "a1f7c9d1",
   "metadata": {},
   "outputs": [],
   "source": []
  },
  {
   "cell_type": "code",
   "execution_count": null,
   "id": "bc80b897",
   "metadata": {},
   "outputs": [],
   "source": []
  }
 ],
 "metadata": {
  "kernelspec": {
   "display_name": "Python 3 (ipykernel)",
   "language": "python",
   "name": "python3"
  },
  "language_info": {
   "codemirror_mode": {
    "name": "ipython",
    "version": 3
   },
   "file_extension": ".py",
   "mimetype": "text/x-python",
   "name": "python",
   "nbconvert_exporter": "python",
   "pygments_lexer": "ipython3",
   "version": "3.12.2"
  }
 },
 "nbformat": 4,
 "nbformat_minor": 5
}
