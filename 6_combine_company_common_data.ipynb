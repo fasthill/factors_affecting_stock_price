{
 "cells": [
  {
   "cell_type": "markdown",
   "id": "459ff0ca",
   "metadata": {},
   "source": [
    "## combine company data and common data"
   ]
  },
  {
   "cell_type": "code",
   "execution_count": 1,
   "id": "d3b5a935",
   "metadata": {},
   "outputs": [],
   "source": [
    "import datetime, time\n",
    "from datetime import date\n",
    "\n",
    "import pandas as pd\n",
    "import numpy as np\n",
    "import os\n",
    "import sys\n",
    "\n",
    "from sklearn.preprocessing import StandardScaler"
   ]
  },
  {
   "cell_type": "code",
   "execution_count": 2,
   "id": "8ef51f99",
   "metadata": {},
   "outputs": [],
   "source": [
    "module_path = os.path.abspath(os.path.join('.')) \n",
    "sys.path.append(module_path+\"\\\\data\\\\constant\")\n",
    "\n",
    "from constants import COMPANY_CODE"
   ]
  },
  {
   "cell_type": "code",
   "execution_count": 3,
   "id": "9ea60572",
   "metadata": {},
   "outputs": [
    {
     "data": {
      "text/plain": [
       "\" \\n[[datetime.date(2022, 1, 17) 'dji_cr']\\n [datetime.date(2022, 1, 17) 'dji_f_cr']\\n ...\\n [datetime.date(2023, 5, 23) 'kosdaq_cr']\\n [datetime.date(2023, 5, 23) 'kosdaq_cr_2']]\\n\""
      ]
     },
     "execution_count": 3,
     "metadata": {},
     "output_type": "execute_result"
    }
   ],
   "source": [
    "def locate_nan(df):\n",
    "    idx, idy = np.where(pd.isnull(df))\n",
    "    result = np.column_stack([df.index[idx], df.columns[idy]])\n",
    "    return result\n",
    "\n",
    "# return format\n",
    "''' \n",
    "[[datetime.date(2022, 1, 17) 'dji_cr']\n",
    " [datetime.date(2022, 1, 17) 'dji_f_cr']\n",
    " ...\n",
    " [datetime.date(2023, 5, 23) 'kosdaq_cr']\n",
    " [datetime.date(2023, 5, 23) 'kosdaq_cr_2']]\n",
    "'''"
   ]
  },
  {
   "cell_type": "code",
   "execution_count": 4,
   "id": "d6f9e0c8",
   "metadata": {},
   "outputs": [],
   "source": [
    "code = COMPANY_CODE\n",
    "\n",
    "# code = {'005930': ['삼성전자', 'sec'], '005380': ['현대차', 'hyunmotor'],\n",
    "#                  '035420': ['NAVER', 'naver'], '033780': ['KT&G', 'ktng']}\n",
    "# code = {'005930': ['삼성전자', 'sec'], '000660': ['SK하이닉스', 'skhynix']}\n",
    "# code = {'302440': ['SK바이오사이언스', 'skbio']}"
   ]
  },
  {
   "cell_type": "code",
   "execution_count": 5,
   "id": "1ced9635",
   "metadata": {},
   "outputs": [],
   "source": [
    "directory_for_predict = './data/data_for_ml/predict/'\n",
    "pkl_common_directory = './data/common_pkl/'\n",
    "pkl_directory = './data/common_pkl/'"
   ]
  },
  {
   "cell_type": "code",
   "execution_count": 6,
   "id": "a4ac3c16",
   "metadata": {},
   "outputs": [],
   "source": [
    "df_common = pd.read_pickle(directory_for_predict + '0_df_common.pkl')"
   ]
  },
  {
   "cell_type": "code",
   "execution_count": 7,
   "id": "82d5ae58",
   "metadata": {},
   "outputs": [],
   "source": [
    "for key, val in code.items():\n",
    "    df_company = pd.read_pickle(directory_for_predict + f'df_{val[1]}_company.pkl')\n",
    "    df_company = df_company.merge(df_common, how='left', left_index=True, right_index=True)\n",
    "    globals()[f'df_{val[1]}_combine'] = df_company.copy()"
   ]
  },
  {
   "cell_type": "code",
   "execution_count": 8,
   "id": "6c798e31",
   "metadata": {},
   "outputs": [
    {
     "data": {
      "text/html": [
       "<div>\n",
       "<style scoped>\n",
       "    .dataframe tbody tr th:only-of-type {\n",
       "        vertical-align: middle;\n",
       "    }\n",
       "\n",
       "    .dataframe tbody tr th {\n",
       "        vertical-align: top;\n",
       "    }\n",
       "\n",
       "    .dataframe thead th {\n",
       "        text-align: right;\n",
       "    }\n",
       "</style>\n",
       "<table border=\"1\" class=\"dataframe\">\n",
       "  <thead>\n",
       "    <tr style=\"text-align: right;\">\n",
       "      <th></th>\n",
       "      <th>retail_1</th>\n",
       "      <th>foreigner_1</th>\n",
       "      <th>institution_1</th>\n",
       "      <th>financial_1</th>\n",
       "      <th>invtrust_1</th>\n",
       "      <th>pension_1</th>\n",
       "      <th>privequity_1</th>\n",
       "      <th>bank_1</th>\n",
       "      <th>insurance_1</th>\n",
       "      <th>financeetc_1</th>\n",
       "      <th>...</th>\n",
       "      <th>ixk_cr</th>\n",
       "      <th>ixk_cr_2</th>\n",
       "      <th>ixtr_cr</th>\n",
       "      <th>ixtr_cr_2</th>\n",
       "      <th>ixut_cr</th>\n",
       "      <th>ixut_cr_2</th>\n",
       "      <th>nbi_cr</th>\n",
       "      <th>nbi_cr_2</th>\n",
       "      <th>bkx_cr</th>\n",
       "      <th>bkx_cr_2</th>\n",
       "    </tr>\n",
       "  </thead>\n",
       "  <tbody>\n",
       "    <tr>\n",
       "      <th>2023-10-27</th>\n",
       "      <td>0.20000</td>\n",
       "      <td>-0.12840</td>\n",
       "      <td>-0.47029</td>\n",
       "      <td>0.25211</td>\n",
       "      <td>0.16468</td>\n",
       "      <td>-2.13280</td>\n",
       "      <td>-2.90530</td>\n",
       "      <td>-1.03859</td>\n",
       "      <td>-0.49689</td>\n",
       "      <td>-1.00000</td>\n",
       "      <td>...</td>\n",
       "      <td>-2.42%</td>\n",
       "      <td>-4.96794</td>\n",
       "      <td>-0.30%</td>\n",
       "      <td>-1.79232</td>\n",
       "      <td>-2.71%</td>\n",
       "      <td>-3.89176</td>\n",
       "      <td>-0.07%</td>\n",
       "      <td>-1.70078</td>\n",
       "      <td>1.55%</td>\n",
       "      <td>1.25499</td>\n",
       "    </tr>\n",
       "    <tr>\n",
       "      <th>2023-10-30</th>\n",
       "      <td>3.02765</td>\n",
       "      <td>1.89706</td>\n",
       "      <td>-3.87601</td>\n",
       "      <td>-1.62691</td>\n",
       "      <td>-1.50621</td>\n",
       "      <td>-0.31527</td>\n",
       "      <td>-0.67694</td>\n",
       "      <td>-81.19444</td>\n",
       "      <td>6.58025</td>\n",
       "      <td>-inf</td>\n",
       "      <td>...</td>\n",
       "      <td>0.67%</td>\n",
       "      <td>-1.76993</td>\n",
       "      <td>-0.88%</td>\n",
       "      <td>-1.18369</td>\n",
       "      <td>-1.23%</td>\n",
       "      <td>-3.90938</td>\n",
       "      <td>-2.68%</td>\n",
       "      <td>-2.74955</td>\n",
       "      <td>-2.33%</td>\n",
       "      <td>-0.81605</td>\n",
       "    </tr>\n",
       "    <tr>\n",
       "      <th>2023-10-31</th>\n",
       "      <td>-0.17895</td>\n",
       "      <td>-0.01601</td>\n",
       "      <td>-0.88782</td>\n",
       "      <td>-2.19028</td>\n",
       "      <td>-0.08422</td>\n",
       "      <td>-1.50067</td>\n",
       "      <td>-1.35077</td>\n",
       "      <td>-0.36197</td>\n",
       "      <td>1.20684</td>\n",
       "      <td>18.60870</td>\n",
       "      <td>...</td>\n",
       "      <td>1.26%</td>\n",
       "      <td>1.93526</td>\n",
       "      <td>1.33%</td>\n",
       "      <td>0.43828</td>\n",
       "      <td>1.35%</td>\n",
       "      <td>0.10561</td>\n",
       "      <td>1.12%</td>\n",
       "      <td>-1.58597</td>\n",
       "      <td>1.91%</td>\n",
       "      <td>-0.46308</td>\n",
       "    </tr>\n",
       "    <tr>\n",
       "      <th>2023-11-01</th>\n",
       "      <td>-0.43236</td>\n",
       "      <td>-0.42401</td>\n",
       "      <td>-0.66492</td>\n",
       "      <td>0.48743</td>\n",
       "      <td>0.92084</td>\n",
       "      <td>-2.05536</td>\n",
       "      <td>-4.64035</td>\n",
       "      <td>-0.58740</td>\n",
       "      <td>-0.59631</td>\n",
       "      <td>-0.15299</td>\n",
       "      <td>...</td>\n",
       "      <td>0.26%</td>\n",
       "      <td>1.52180</td>\n",
       "      <td>-0.03%</td>\n",
       "      <td>1.30082</td>\n",
       "      <td>1.73%</td>\n",
       "      <td>3.10870</td>\n",
       "      <td>0.45%</td>\n",
       "      <td>1.57518</td>\n",
       "      <td>1.12%</td>\n",
       "      <td>3.05397</td>\n",
       "    </tr>\n",
       "    <tr>\n",
       "      <th>2023-11-02</th>\n",
       "      <td>-0.79064</td>\n",
       "      <td>-0.33122</td>\n",
       "      <td>-26.98750</td>\n",
       "      <td>1.60919</td>\n",
       "      <td>-1.04303</td>\n",
       "      <td>-0.20051</td>\n",
       "      <td>-1.30361</td>\n",
       "      <td>-0.99605</td>\n",
       "      <td>-0.04936</td>\n",
       "      <td>-0.89005</td>\n",
       "      <td>...</td>\n",
       "      <td>NaN</td>\n",
       "      <td>NaN</td>\n",
       "      <td>NaN</td>\n",
       "      <td>NaN</td>\n",
       "      <td>NaN</td>\n",
       "      <td>NaN</td>\n",
       "      <td>NaN</td>\n",
       "      <td>NaN</td>\n",
       "      <td>NaN</td>\n",
       "      <td>NaN</td>\n",
       "    </tr>\n",
       "  </tbody>\n",
       "</table>\n",
       "<p>5 rows × 114 columns</p>\n",
       "</div>"
      ],
      "text/plain": [
       "            retail_1  foreigner_1  institution_1  financial_1  invtrust_1   \n",
       "2023-10-27   0.20000     -0.12840       -0.47029      0.25211     0.16468  \\\n",
       "2023-10-30   3.02765      1.89706       -3.87601     -1.62691    -1.50621   \n",
       "2023-10-31  -0.17895     -0.01601       -0.88782     -2.19028    -0.08422   \n",
       "2023-11-01  -0.43236     -0.42401       -0.66492      0.48743     0.92084   \n",
       "2023-11-02  -0.79064     -0.33122      -26.98750      1.60919    -1.04303   \n",
       "\n",
       "            pension_1  privequity_1    bank_1  insurance_1  financeetc_1  ...   \n",
       "2023-10-27   -2.13280      -2.90530  -1.03859     -0.49689      -1.00000  ...  \\\n",
       "2023-10-30   -0.31527      -0.67694 -81.19444      6.58025          -inf  ...   \n",
       "2023-10-31   -1.50067      -1.35077  -0.36197      1.20684      18.60870  ...   \n",
       "2023-11-01   -2.05536      -4.64035  -0.58740     -0.59631      -0.15299  ...   \n",
       "2023-11-02   -0.20051      -1.30361  -0.99605     -0.04936      -0.89005  ...   \n",
       "\n",
       "            ixk_cr  ixk_cr_2  ixtr_cr  ixtr_cr_2  ixut_cr  ixut_cr_2  nbi_cr   \n",
       "2023-10-27  -2.42%  -4.96794   -0.30%   -1.79232   -2.71%   -3.89176  -0.07%  \\\n",
       "2023-10-30   0.67%  -1.76993   -0.88%   -1.18369   -1.23%   -3.90938  -2.68%   \n",
       "2023-10-31   1.26%   1.93526    1.33%    0.43828    1.35%    0.10561   1.12%   \n",
       "2023-11-01   0.26%   1.52180   -0.03%    1.30082    1.73%    3.10870   0.45%   \n",
       "2023-11-02     NaN       NaN      NaN        NaN      NaN        NaN     NaN   \n",
       "\n",
       "            nbi_cr_2  bkx_cr  bkx_cr_2  \n",
       "2023-10-27  -1.70078   1.55%   1.25499  \n",
       "2023-10-30  -2.74955  -2.33%  -0.81605  \n",
       "2023-10-31  -1.58597   1.91%  -0.46308  \n",
       "2023-11-01   1.57518   1.12%   3.05397  \n",
       "2023-11-02       NaN     NaN       NaN  \n",
       "\n",
       "[5 rows x 114 columns]"
      ]
     },
     "execution_count": 8,
     "metadata": {},
     "output_type": "execute_result"
    }
   ],
   "source": [
    "df_hyunmotor_combine.tail()"
   ]
  },
  {
   "cell_type": "code",
   "execution_count": 9,
   "id": "aeab3342",
   "metadata": {},
   "outputs": [
    {
     "data": {
      "text/plain": [
       "datetime.date(2022, 1, 7)"
      ]
     },
     "execution_count": 9,
     "metadata": {},
     "output_type": "execute_result"
    }
   ],
   "source": [
    "df_hyunmotor_combine.index[0]"
   ]
  },
  {
   "cell_type": "code",
   "execution_count": 10,
   "id": "587ac2cd",
   "metadata": {},
   "outputs": [],
   "source": [
    "col_inv1 = ['retail_1', 'foreigner_1', 'institution_1', 'financial_1', 'invtrust_1', 'pension_1', 'privequity_1', \n",
    "            'bank_1', 'insurance_1', 'financeetc_1', 'corporateetc_1', 'foreigneretc_1']\n",
    "col_inv2 = ['retail_2', 'foreigner_2', 'institution_2', 'financial_2', 'invtrust_2', 'pension_2',\n",
    "            'privequity_2', 'bank_2', 'insurance_2', 'financeetc_2', 'corporateetc_2', 'foreigneretc_2']"
   ]
  },
  {
   "cell_type": "code",
   "execution_count": 11,
   "id": "76ca8389",
   "metadata": {},
   "outputs": [],
   "source": [
    "col_his1 = ['open_1', 'high_1', 'low_1', 'close_1', 'vol_1']\n",
    "col_his2 = ['open_2', 'high_2', 'low_2', 'close_2', 'vol_2']"
   ]
  },
  {
   "cell_type": "code",
   "execution_count": 12,
   "id": "8a6b4bac",
   "metadata": {},
   "outputs": [],
   "source": [
    "col_common1 = [\"dji_cr\", \"dji_f_cr\", \"dxy_cr\", \"ixic_f_cr\", \"bond_kor_10_cr\", \"bond_kor_2_cr\", \"kosdaq_cr\", \"kospi_cr\", \n",
    "         \"krw_cr\", \"ixic_cr\", \"spx_f_cr\", \"sox_cr\", \"spx_cr\", \"bond_usa_10_cr\", \"bond_usa_2_cr\", \"bond_usa_3m_cr\", \n",
    "         \"vix_cr\", \"wti_cr\", \"spsy_cr\", \"spny_cr\", \"spxhc_cr\", \"splrcd_cr\", \"splrci_cr\", \"splrcu_cr\", \"splrcs_cr\",\n",
    "         \"splrct_cr\", \"splrcl_cr\", \"splrcm_cr\", \"ixbk_cr\", \"ixfn_cr\", \"ixid_cr\", \"ixis_cr\", \"ixk_cr\", \"ixtr_cr\",\n",
    "         \"ixut_cr\", \"nbi_cr\", \"bkx_cr\"]\n",
    "col_common2 = [\"dji_cr_2\", \"dji_f_cr_2\", \"dxy_cr_2\", \"ixic_f_cr_2\", \"bond_kor_10_cr_2\", \"bond_kor_2_cr_2\", \"kosdaq_cr_2\", \"kospi_cr_2\",\n",
    "         \"krw_cr_2\", \"ixic_cr_2\", \"spx_f_cr_2\", \"sox_cr_2\", \"spx_cr_2\", \"bond_usa_10_cr_2\", \"bond_usa_2_cr_2\", \"bond_usa_3m_cr_2\",\n",
    "         \"vix_cr_2\", \"wti_cr_2\", \"spsy_cr_2\", \"spny_cr_2\", \"spxhc_cr_2\", \"splrcd_cr_2\", \"splrci_cr_2\", \"splrcu_cr_2\",\n",
    "         \"splrcs_cr_2\", \"splrct_cr_2\", \"splrcl_cr_2\", \"splrcm_cr_2\", \"ixbk_cr_2\", \"ixfn_cr_2\", \"ixid_cr_2\",\n",
    "         \"ixis_cr_2\", \"ixk_cr_2\", \"ixtr_cr_2\", \"ixut_cr_2\", \"nbi_cr_2\", \"bkx_cr_2\"]"
   ]
  },
  {
   "cell_type": "code",
   "execution_count": 13,
   "id": "9a595935",
   "metadata": {},
   "outputs": [],
   "source": [
    "col_cr = ['weekday', 'cr_00', 'cr_05', 'cr_10', 'cr_15', 'cr_20']"
   ]
  },
  {
   "cell_type": "code",
   "execution_count": 14,
   "id": "75ec6070",
   "metadata": {},
   "outputs": [],
   "source": [
    "col_col = col_inv1 + col_common1 + col_his1 + col_inv2 + col_common2 + col_his2 + col_cr"
   ]
  },
  {
   "cell_type": "code",
   "execution_count": 15,
   "id": "ff6769da",
   "metadata": {},
   "outputs": [],
   "source": [
    "# # write common data only\n",
    "# df_temp = df_common.copy()\n",
    "# df_temp = df_temp[col_common1+col_common2]\n",
    "# pkl_common_directory = './data/common_pkl/'\n",
    "# df_temp.to_pickle(pkl_common_directory + 'df_common.pkl')\n",
    "# df_temp.to_csv(pkl_common_directory + 'df_common.csv')"
   ]
  },
  {
   "cell_type": "code",
   "execution_count": 16,
   "id": "c78c8f82",
   "metadata": {},
   "outputs": [],
   "source": [
    "new_columns = col_col"
   ]
  },
  {
   "cell_type": "code",
   "execution_count": 17,
   "id": "02da1256",
   "metadata": {},
   "outputs": [],
   "source": [
    "# column 순서 변경 : weekday, 'cr_00', 'cr_05', 'cr_10', 'cr_15', 'cr_20' column을 마지막으로 이동 \n",
    "for key, val in code.items():\n",
    "    globals()['df_{}_combine'.format(val[1])] = globals()['df_{}_combine'.format(val[1])][new_columns]"
   ]
  },
  {
   "cell_type": "code",
   "execution_count": 18,
   "id": "d4f1fa06",
   "metadata": {},
   "outputs": [
    {
     "data": {
      "text/plain": [
       "'\\n# drop inf, -inf : replace inf to 1 or -1 . 데이터를 살리고\\n# 변동률이 무한대가 되는 것을 방지하기 위해서, 나중에 발생하는 에러를 방지\\ndf_sec_sel.replace([np.inf, -np.inf], [1, -1], inplace=True)\\n\\n.impute 사용하는 것을 고려할 필요 있음.\\n'"
      ]
     },
     "execution_count": 18,
     "metadata": {},
     "output_type": "execute_result"
    }
   ],
   "source": [
    "'''\n",
    "# drop inf, -inf : replace inf to 1 or -1 . 데이터를 살리고\n",
    "# 변동률이 무한대가 되는 것을 방지하기 위해서, 나중에 발생하는 에러를 방지\n",
    "df_sec_sel.replace([np.inf, -np.inf], [1, -1], inplace=True)\n",
    "\n",
    ".impute 사용하는 것을 고려할 필요 있음.\n",
    "'''"
   ]
  },
  {
   "cell_type": "code",
   "execution_count": 19,
   "id": "7e91c1c5",
   "metadata": {},
   "outputs": [],
   "source": [
    "# drop inf, -inf : replace inf to 1 or -1 . 데이터를 살리고\n",
    "# 변동률이 무한대가 되는 것을 방지하기 위해서, 나중에 발생하는 에러를 방지\n",
    "for key, val in code.items():\n",
    "    globals()['df_{}_combine'.format(val[1])].replace([np.inf, -np.inf], [1, -1], inplace=True)\n",
    "\n",
    "# **** 데이터 전처리 from sklearn.impute import SimpleImputer, SimpleImputer 사용하기로 함."
   ]
  },
  {
   "cell_type": "code",
   "execution_count": 20,
   "id": "3fa3914b",
   "metadata": {},
   "outputs": [
    {
     "data": {
      "text/html": [
       "<div>\n",
       "<style scoped>\n",
       "    .dataframe tbody tr th:only-of-type {\n",
       "        vertical-align: middle;\n",
       "    }\n",
       "\n",
       "    .dataframe tbody tr th {\n",
       "        vertical-align: top;\n",
       "    }\n",
       "\n",
       "    .dataframe thead th {\n",
       "        text-align: right;\n",
       "    }\n",
       "</style>\n",
       "<table border=\"1\" class=\"dataframe\">\n",
       "  <thead>\n",
       "    <tr style=\"text-align: right;\">\n",
       "      <th></th>\n",
       "      <th>retail_1</th>\n",
       "      <th>foreigner_1</th>\n",
       "      <th>institution_1</th>\n",
       "      <th>financial_1</th>\n",
       "      <th>invtrust_1</th>\n",
       "      <th>pension_1</th>\n",
       "      <th>privequity_1</th>\n",
       "      <th>bank_1</th>\n",
       "      <th>insurance_1</th>\n",
       "      <th>financeetc_1</th>\n",
       "      <th>...</th>\n",
       "      <th>high_2</th>\n",
       "      <th>low_2</th>\n",
       "      <th>close_2</th>\n",
       "      <th>vol_2</th>\n",
       "      <th>weekday</th>\n",
       "      <th>cr_00</th>\n",
       "      <th>cr_05</th>\n",
       "      <th>cr_10</th>\n",
       "      <th>cr_15</th>\n",
       "      <th>cr_20</th>\n",
       "    </tr>\n",
       "  </thead>\n",
       "  <tbody>\n",
       "    <tr>\n",
       "      <th>2023-10-27</th>\n",
       "      <td>1.59030</td>\n",
       "      <td>1.70080</td>\n",
       "      <td>-2.28150</td>\n",
       "      <td>-2.69671</td>\n",
       "      <td>-3.06587</td>\n",
       "      <td>0.28029</td>\n",
       "      <td>1.66735</td>\n",
       "      <td>5.95580</td>\n",
       "      <td>-7.52537</td>\n",
       "      <td>-3.34571</td>\n",
       "      <td>...</td>\n",
       "      <td>-0.01308</td>\n",
       "      <td>-0.01477</td>\n",
       "      <td>-0.02628</td>\n",
       "      <td>0.21310</td>\n",
       "      <td>3</td>\n",
       "      <td>1</td>\n",
       "      <td>1</td>\n",
       "      <td>0</td>\n",
       "      <td>0</td>\n",
       "      <td>0</td>\n",
       "    </tr>\n",
       "    <tr>\n",
       "      <th>2023-10-30</th>\n",
       "      <td>-0.90561</td>\n",
       "      <td>-0.31784</td>\n",
       "      <td>-11.56496</td>\n",
       "      <td>1.07561</td>\n",
       "      <td>-0.39938</td>\n",
       "      <td>-0.06245</td>\n",
       "      <td>-0.93686</td>\n",
       "      <td>-1.08022</td>\n",
       "      <td>-0.07777</td>\n",
       "      <td>-1.19782</td>\n",
       "      <td>...</td>\n",
       "      <td>-0.02180</td>\n",
       "      <td>-0.01767</td>\n",
       "      <td>-0.01029</td>\n",
       "      <td>0.06824</td>\n",
       "      <td>4</td>\n",
       "      <td>0</td>\n",
       "      <td>0</td>\n",
       "      <td>0</td>\n",
       "      <td>0</td>\n",
       "      <td>0</td>\n",
       "    </tr>\n",
       "    <tr>\n",
       "      <th>2023-10-31</th>\n",
       "      <td>-2.49087</td>\n",
       "      <td>-0.53547</td>\n",
       "      <td>-0.19599</td>\n",
       "      <td>-0.65992</td>\n",
       "      <td>-1.28758</td>\n",
       "      <td>0.08583</td>\n",
       "      <td>-0.31781</td>\n",
       "      <td>8.95050</td>\n",
       "      <td>-1.65873</td>\n",
       "      <td>-6.93000</td>\n",
       "      <td>...</td>\n",
       "      <td>-0.00147</td>\n",
       "      <td>0.00000</td>\n",
       "      <td>0.00900</td>\n",
       "      <td>-0.34660</td>\n",
       "      <td>0</td>\n",
       "      <td>0</td>\n",
       "      <td>0</td>\n",
       "      <td>0</td>\n",
       "      <td>0</td>\n",
       "      <td>0</td>\n",
       "    </tr>\n",
       "    <tr>\n",
       "      <th>2023-11-01</th>\n",
       "      <td>-2.14256</td>\n",
       "      <td>-0.12371</td>\n",
       "      <td>-0.90416</td>\n",
       "      <td>-1.52397</td>\n",
       "      <td>-2.04731</td>\n",
       "      <td>-0.31652</td>\n",
       "      <td>2.47647</td>\n",
       "      <td>-1.56517</td>\n",
       "      <td>-0.92545</td>\n",
       "      <td>-0.86003</td>\n",
       "      <td>...</td>\n",
       "      <td>0.01486</td>\n",
       "      <td>0.00300</td>\n",
       "      <td>-0.00594</td>\n",
       "      <td>0.27827</td>\n",
       "      <td>1</td>\n",
       "      <td>1</td>\n",
       "      <td>1</td>\n",
       "      <td>1</td>\n",
       "      <td>1</td>\n",
       "      <td>1</td>\n",
       "    </tr>\n",
       "    <tr>\n",
       "      <th>2023-11-02</th>\n",
       "      <td>-10.65690</td>\n",
       "      <td>-1.16305</td>\n",
       "      <td>35.21567</td>\n",
       "      <td>-18.34565</td>\n",
       "      <td>-6.01683</td>\n",
       "      <td>0.22256</td>\n",
       "      <td>-0.05452</td>\n",
       "      <td>0.87324</td>\n",
       "      <td>-0.28283</td>\n",
       "      <td>-0.98795</td>\n",
       "      <td>...</td>\n",
       "      <td>0.01622</td>\n",
       "      <td>0.00900</td>\n",
       "      <td>0.01932</td>\n",
       "      <td>0.35412</td>\n",
       "      <td>2</td>\n",
       "      <td>0</td>\n",
       "      <td>0</td>\n",
       "      <td>0</td>\n",
       "      <td>0</td>\n",
       "      <td>0</td>\n",
       "    </tr>\n",
       "  </tbody>\n",
       "</table>\n",
       "<p>5 rows × 114 columns</p>\n",
       "</div>"
      ],
      "text/plain": [
       "            retail_1  foreigner_1  institution_1  financial_1  invtrust_1   \n",
       "2023-10-27   1.59030      1.70080       -2.28150     -2.69671    -3.06587  \\\n",
       "2023-10-30  -0.90561     -0.31784      -11.56496      1.07561    -0.39938   \n",
       "2023-10-31  -2.49087     -0.53547       -0.19599     -0.65992    -1.28758   \n",
       "2023-11-01  -2.14256     -0.12371       -0.90416     -1.52397    -2.04731   \n",
       "2023-11-02 -10.65690     -1.16305       35.21567    -18.34565    -6.01683   \n",
       "\n",
       "            pension_1  privequity_1   bank_1  insurance_1  financeetc_1  ...   \n",
       "2023-10-27    0.28029       1.66735  5.95580     -7.52537      -3.34571  ...  \\\n",
       "2023-10-30   -0.06245      -0.93686 -1.08022     -0.07777      -1.19782  ...   \n",
       "2023-10-31    0.08583      -0.31781  8.95050     -1.65873      -6.93000  ...   \n",
       "2023-11-01   -0.31652       2.47647 -1.56517     -0.92545      -0.86003  ...   \n",
       "2023-11-02    0.22256      -0.05452  0.87324     -0.28283      -0.98795  ...   \n",
       "\n",
       "             high_2    low_2  close_2    vol_2  weekday  cr_00 cr_05 cr_10   \n",
       "2023-10-27 -0.01308 -0.01477 -0.02628  0.21310        3      1     1     0  \\\n",
       "2023-10-30 -0.02180 -0.01767 -0.01029  0.06824        4      0     0     0   \n",
       "2023-10-31 -0.00147  0.00000  0.00900 -0.34660        0      0     0     0   \n",
       "2023-11-01  0.01486  0.00300 -0.00594  0.27827        1      1     1     1   \n",
       "2023-11-02  0.01622  0.00900  0.01932  0.35412        2      0     0     0   \n",
       "\n",
       "            cr_15  cr_20  \n",
       "2023-10-27      0      0  \n",
       "2023-10-30      0      0  \n",
       "2023-10-31      0      0  \n",
       "2023-11-01      1      1  \n",
       "2023-11-02      0      0  \n",
       "\n",
       "[5 rows x 114 columns]"
      ]
     },
     "execution_count": 20,
     "metadata": {},
     "output_type": "execute_result"
    }
   ],
   "source": [
    "df_sec_combine.tail()"
   ]
  },
  {
   "cell_type": "code",
   "execution_count": 21,
   "id": "bf7224df",
   "metadata": {},
   "outputs": [],
   "source": [
    "nanlo = locate_nan(df_sec_combine)  # nan 위치 찾기"
   ]
  },
  {
   "cell_type": "code",
   "execution_count": 22,
   "id": "2f63d7f5",
   "metadata": {},
   "outputs": [
    {
     "name": "stdout",
     "output_type": "stream",
     "text": [
      "[[datetime.date(2022, 1, 18) 'dji_cr']\n",
      " [datetime.date(2022, 1, 18) 'dji_f_cr']\n",
      " [datetime.date(2022, 1, 18) 'dxy_cr']\n",
      " ...\n",
      " [datetime.date(2023, 11, 2) 'ixut_cr_2']\n",
      " [datetime.date(2023, 11, 2) 'nbi_cr_2']\n",
      " [datetime.date(2023, 11, 2) 'bkx_cr_2']]\n"
     ]
    }
   ],
   "source": [
    "print(nanlo)"
   ]
  },
  {
   "cell_type": "code",
   "execution_count": 23,
   "id": "21a6d628",
   "metadata": {},
   "outputs": [],
   "source": [
    "# delete rows which include NaN : dji, spx, nasdaq 기타 common 지수중 한개라도 nan인 rows 제거\n",
    "for key, val in code.items():\n",
    "    globals()['df_{}_combine'.format(val[1])].dropna(inplace=True)"
   ]
  },
  {
   "cell_type": "code",
   "execution_count": 24,
   "id": "c6f3061c",
   "metadata": {},
   "outputs": [],
   "source": [
    "# string column을 numeric으로 전환\n",
    "def string_to_num(df):\n",
    "    df.replace('%', '', regex=True, inplace=True)\n",
    "    df = df.apply(pd.to_numeric)\n",
    "    return df\n",
    "\n",
    "for key, val in code.items():\n",
    "    globals()['df_{}_combine'.format(val[1])] = string_to_num(globals()['df_{}_combine'.format(val[1])])"
   ]
  },
  {
   "cell_type": "code",
   "execution_count": 25,
   "id": "7e8d5acf",
   "metadata": {},
   "outputs": [],
   "source": [
    "# pickle로 데이터 저장\n",
    "\n",
    "for key, val in code.items():\n",
    "    globals()[f'df_{val[1]}_combine'].to_pickle(directory_for_predict + f'df_{val[1]}_combine.pkl')\n",
    "    globals()[f'df_{val[1]}_combine'].to_csv(directory_for_predict + f'df_{val[1]}_combine.csv')"
   ]
  },
  {
   "cell_type": "code",
   "execution_count": null,
   "id": "a01825d3",
   "metadata": {},
   "outputs": [],
   "source": []
  },
  {
   "cell_type": "code",
   "execution_count": null,
   "id": "3300e5b2",
   "metadata": {},
   "outputs": [],
   "source": []
  },
  {
   "cell_type": "code",
   "execution_count": null,
   "id": "a1f7c9d1",
   "metadata": {},
   "outputs": [],
   "source": []
  },
  {
   "cell_type": "code",
   "execution_count": null,
   "id": "bc80b897",
   "metadata": {},
   "outputs": [],
   "source": []
  }
 ],
 "metadata": {
  "kernelspec": {
   "display_name": "Python 3 (ipykernel)",
   "language": "python",
   "name": "python3"
  },
  "language_info": {
   "codemirror_mode": {
    "name": "ipython",
    "version": 3
   },
   "file_extension": ".py",
   "mimetype": "text/x-python",
   "name": "python",
   "nbconvert_exporter": "python",
   "pygments_lexer": "ipython3",
   "version": "3.9.1"
  }
 },
 "nbformat": 4,
 "nbformat_minor": 5
}
