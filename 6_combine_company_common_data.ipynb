{
 "cells": [
  {
   "cell_type": "markdown",
   "id": "459ff0ca",
   "metadata": {},
   "source": [
    "## combine company data and common data"
   ]
  },
  {
   "cell_type": "code",
   "execution_count": 1,
   "id": "d3b5a935",
   "metadata": {},
   "outputs": [],
   "source": [
    "import datetime, time\n",
    "from datetime import date\n",
    "\n",
    "import pandas as pd\n",
    "import numpy as np\n",
    "import os\n",
    "import sys\n",
    "\n",
    "from sklearn.preprocessing import StandardScaler"
   ]
  },
  {
   "cell_type": "code",
   "execution_count": 2,
   "id": "8ef51f99",
   "metadata": {},
   "outputs": [],
   "source": [
    "module_path = os.path.abspath(os.path.join('.')) \n",
    "sys.path.append(module_path+\"\\\\data\\\\constant\")\n",
    "\n",
    "from constants import COMPANY_CODE"
   ]
  },
  {
   "cell_type": "code",
   "execution_count": 3,
   "id": "9ea60572",
   "metadata": {},
   "outputs": [
    {
     "data": {
      "text/plain": [
       "\" \\n[[datetime.date(2022, 1, 17) 'dji_cr']\\n [datetime.date(2022, 1, 17) 'dji_f_cr']\\n ...\\n [datetime.date(2023, 5, 23) 'kosdaq_cr']\\n [datetime.date(2023, 5, 23) 'kosdaq_cr_2']]\\n\""
      ]
     },
     "execution_count": 3,
     "metadata": {},
     "output_type": "execute_result"
    }
   ],
   "source": [
    "def locate_nan(df):\n",
    "    idx, idy = np.where(pd.isnull(df))\n",
    "    result = np.column_stack([df.index[idx], df.columns[idy]])\n",
    "    return result\n",
    "\n",
    "# return format\n",
    "''' \n",
    "[[datetime.date(2022, 1, 17) 'dji_cr']\n",
    " [datetime.date(2022, 1, 17) 'dji_f_cr']\n",
    " ...\n",
    " [datetime.date(2023, 5, 23) 'kosdaq_cr']\n",
    " [datetime.date(2023, 5, 23) 'kosdaq_cr_2']]\n",
    "'''"
   ]
  },
  {
   "cell_type": "code",
   "execution_count": 4,
   "id": "d6f9e0c8",
   "metadata": {},
   "outputs": [],
   "source": [
    "code = COMPANY_CODE\n",
    "\n",
    "# code = {'005930': ['삼성전자', 'sec'], '005380': ['현대차', 'hyunmotor'],\n",
    "#                  '035420': ['NAVER', 'naver'], '033780': ['KT&G', 'ktng']}\n",
    "# code = {'005930': ['삼성전자', 'sec'], '000660': ['SK하이닉스', 'skhynix']}\n",
    "# code = {'302440': ['SK바이오사이언스', 'skbio']}"
   ]
  },
  {
   "cell_type": "code",
   "execution_count": 5,
   "id": "1ced9635",
   "metadata": {},
   "outputs": [],
   "source": [
    "directory_for_predict = './data/data_for_ml/predict/'\n",
    "pkl_common_directory = './data/common_pkl/'\n",
    "pkl_directory = './data/common_pkl/'"
   ]
  },
  {
   "cell_type": "code",
   "execution_count": 6,
   "id": "a4ac3c16",
   "metadata": {},
   "outputs": [],
   "source": [
    "df_common = pd.read_pickle(directory_for_predict + '0_df_common.pkl')"
   ]
  },
  {
   "cell_type": "code",
   "execution_count": 7,
   "id": "82d5ae58",
   "metadata": {},
   "outputs": [],
   "source": [
    "for key, val in code.items():\n",
    "    df_company = pd.read_pickle(directory_for_predict + f'df_{val[1]}_company.pkl')\n",
    "    df_company = df_company.merge(df_common, how='left', left_index=True, right_index=True)\n",
    "    globals()[f'df_{val[1]}_combine'] = df_company.copy()"
   ]
  },
  {
   "cell_type": "code",
   "execution_count": 8,
   "id": "6c798e31",
   "metadata": {},
   "outputs": [
    {
     "data": {
      "text/html": [
       "<div>\n",
       "<style scoped>\n",
       "    .dataframe tbody tr th:only-of-type {\n",
       "        vertical-align: middle;\n",
       "    }\n",
       "\n",
       "    .dataframe tbody tr th {\n",
       "        vertical-align: top;\n",
       "    }\n",
       "\n",
       "    .dataframe thead th {\n",
       "        text-align: right;\n",
       "    }\n",
       "</style>\n",
       "<table border=\"1\" class=\"dataframe\">\n",
       "  <thead>\n",
       "    <tr style=\"text-align: right;\">\n",
       "      <th></th>\n",
       "      <th>retail_1</th>\n",
       "      <th>foreigner_1</th>\n",
       "      <th>institution_1</th>\n",
       "      <th>financial_1</th>\n",
       "      <th>invtrust_1</th>\n",
       "      <th>pension_1</th>\n",
       "      <th>privequity_1</th>\n",
       "      <th>bank_1</th>\n",
       "      <th>insurance_1</th>\n",
       "      <th>financeetc_1</th>\n",
       "      <th>...</th>\n",
       "      <th>ixk_cr</th>\n",
       "      <th>ixk_cr_2</th>\n",
       "      <th>ixtr_cr</th>\n",
       "      <th>ixtr_cr_2</th>\n",
       "      <th>ixut_cr</th>\n",
       "      <th>ixut_cr_2</th>\n",
       "      <th>nbi_cr</th>\n",
       "      <th>nbi_cr_2</th>\n",
       "      <th>bkx_cr</th>\n",
       "      <th>bkx_cr_2</th>\n",
       "    </tr>\n",
       "  </thead>\n",
       "  <tbody>\n",
       "    <tr>\n",
       "      <th>2024-03-26</th>\n",
       "      <td>-0.37543</td>\n",
       "      <td>-0.29517</td>\n",
       "      <td>-0.50883</td>\n",
       "      <td>-0.61651</td>\n",
       "      <td>-13.17471</td>\n",
       "      <td>-1.83175</td>\n",
       "      <td>-0.92633</td>\n",
       "      <td>-1.23854</td>\n",
       "      <td>-0.70238</td>\n",
       "      <td>5.25000</td>\n",
       "      <td>...</td>\n",
       "      <td>-0.48%</td>\n",
       "      <td>0.17151</td>\n",
       "      <td>-0.68%</td>\n",
       "      <td>-1.47661</td>\n",
       "      <td>0.02%</td>\n",
       "      <td>-0.33557</td>\n",
       "      <td>-0.03%</td>\n",
       "      <td>-0.75340</td>\n",
       "      <td>-0.21%</td>\n",
       "      <td>-1.71412</td>\n",
       "    </tr>\n",
       "    <tr>\n",
       "      <th>2024-03-27</th>\n",
       "      <td>-1.33769</td>\n",
       "      <td>-1.16575</td>\n",
       "      <td>-1.79729</td>\n",
       "      <td>-3.94682</td>\n",
       "      <td>-0.32912</td>\n",
       "      <td>-3.75934</td>\n",
       "      <td>4.62243</td>\n",
       "      <td>-0.54510</td>\n",
       "      <td>-0.31676</td>\n",
       "      <td>0.85333</td>\n",
       "      <td>...</td>\n",
       "      <td>-0.71%</td>\n",
       "      <td>-1.18637</td>\n",
       "      <td>-0.40%</td>\n",
       "      <td>-1.07032</td>\n",
       "      <td>-0.30%</td>\n",
       "      <td>-0.27646</td>\n",
       "      <td>-0.08%</td>\n",
       "      <td>-0.10812</td>\n",
       "      <td>0.08%</td>\n",
       "      <td>-0.12782</td>\n",
       "    </tr>\n",
       "    <tr>\n",
       "      <th>2024-03-28</th>\n",
       "      <td>3.11187</td>\n",
       "      <td>8.32676</td>\n",
       "      <td>0.79067</td>\n",
       "      <td>-0.45172</td>\n",
       "      <td>-1.05291</td>\n",
       "      <td>-0.34511</td>\n",
       "      <td>-4.02116</td>\n",
       "      <td>1.07759</td>\n",
       "      <td>-4.13608</td>\n",
       "      <td>-1.00000</td>\n",
       "      <td>...</td>\n",
       "      <td>0.12%</td>\n",
       "      <td>-0.58413</td>\n",
       "      <td>1.06%</td>\n",
       "      <td>0.66064</td>\n",
       "      <td>0.96%</td>\n",
       "      <td>0.65581</td>\n",
       "      <td>1.53%</td>\n",
       "      <td>1.44500</td>\n",
       "      <td>2.31%</td>\n",
       "      <td>2.39432</td>\n",
       "    </tr>\n",
       "    <tr>\n",
       "      <th>2024-03-29</th>\n",
       "      <td>-2.85670</td>\n",
       "      <td>-2.40200</td>\n",
       "      <td>-2.88018</td>\n",
       "      <td>-3.40126</td>\n",
       "      <td>-5.06915</td>\n",
       "      <td>1.89380</td>\n",
       "      <td>-1.23858</td>\n",
       "      <td>-1.16183</td>\n",
       "      <td>-1.43895</td>\n",
       "      <td>-inf</td>\n",
       "      <td>...</td>\n",
       "      <td>NaN</td>\n",
       "      <td>NaN</td>\n",
       "      <td>NaN</td>\n",
       "      <td>NaN</td>\n",
       "      <td>NaN</td>\n",
       "      <td>NaN</td>\n",
       "      <td>NaN</td>\n",
       "      <td>NaN</td>\n",
       "      <td>NaN</td>\n",
       "      <td>NaN</td>\n",
       "    </tr>\n",
       "    <tr>\n",
       "      <th>2024-04-01</th>\n",
       "      <td>-0.65931</td>\n",
       "      <td>-1.13408</td>\n",
       "      <td>0.17817</td>\n",
       "      <td>-0.14618</td>\n",
       "      <td>5.55556</td>\n",
       "      <td>0.59433</td>\n",
       "      <td>1.59910</td>\n",
       "      <td>-6.43590</td>\n",
       "      <td>-0.55402</td>\n",
       "      <td>8.80851</td>\n",
       "      <td>...</td>\n",
       "      <td>-0.28%</td>\n",
       "      <td>-0.15424</td>\n",
       "      <td>0.94%</td>\n",
       "      <td>2.00534</td>\n",
       "      <td>0.43%</td>\n",
       "      <td>1.39620</td>\n",
       "      <td>-0.36%</td>\n",
       "      <td>1.16258</td>\n",
       "      <td>0.89%</td>\n",
       "      <td>3.22930</td>\n",
       "    </tr>\n",
       "  </tbody>\n",
       "</table>\n",
       "<p>5 rows × 114 columns</p>\n",
       "</div>"
      ],
      "text/plain": [
       "            retail_1  foreigner_1  institution_1  financial_1  invtrust_1   \n",
       "2024-03-26  -0.37543     -0.29517       -0.50883     -0.61651   -13.17471  \\\n",
       "2024-03-27  -1.33769     -1.16575       -1.79729     -3.94682    -0.32912   \n",
       "2024-03-28   3.11187      8.32676        0.79067     -0.45172    -1.05291   \n",
       "2024-03-29  -2.85670     -2.40200       -2.88018     -3.40126    -5.06915   \n",
       "2024-04-01  -0.65931     -1.13408        0.17817     -0.14618     5.55556   \n",
       "\n",
       "            pension_1  privequity_1   bank_1  insurance_1  financeetc_1  ...   \n",
       "2024-03-26   -1.83175      -0.92633 -1.23854     -0.70238       5.25000  ...  \\\n",
       "2024-03-27   -3.75934       4.62243 -0.54510     -0.31676       0.85333  ...   \n",
       "2024-03-28   -0.34511      -4.02116  1.07759     -4.13608      -1.00000  ...   \n",
       "2024-03-29    1.89380      -1.23858 -1.16183     -1.43895          -inf  ...   \n",
       "2024-04-01    0.59433       1.59910 -6.43590     -0.55402       8.80851  ...   \n",
       "\n",
       "            ixk_cr  ixk_cr_2  ixtr_cr  ixtr_cr_2  ixut_cr  ixut_cr_2  nbi_cr   \n",
       "2024-03-26  -0.48%   0.17151   -0.68%   -1.47661    0.02%   -0.33557  -0.03%  \\\n",
       "2024-03-27  -0.71%  -1.18637   -0.40%   -1.07032   -0.30%   -0.27646  -0.08%   \n",
       "2024-03-28   0.12%  -0.58413    1.06%    0.66064    0.96%    0.65581   1.53%   \n",
       "2024-03-29     NaN       NaN      NaN        NaN      NaN        NaN     NaN   \n",
       "2024-04-01  -0.28%  -0.15424    0.94%    2.00534    0.43%    1.39620  -0.36%   \n",
       "\n",
       "            nbi_cr_2  bkx_cr  bkx_cr_2  \n",
       "2024-03-26  -0.75340  -0.21%  -1.71412  \n",
       "2024-03-27  -0.10812   0.08%  -0.12782  \n",
       "2024-03-28   1.44500   2.31%   2.39432  \n",
       "2024-03-29       NaN     NaN       NaN  \n",
       "2024-04-01   1.16258   0.89%   3.22930  \n",
       "\n",
       "[5 rows x 114 columns]"
      ]
     },
     "execution_count": 8,
     "metadata": {},
     "output_type": "execute_result"
    }
   ],
   "source": [
    "df_hyunmotor_combine.tail()"
   ]
  },
  {
   "cell_type": "code",
   "execution_count": 9,
   "id": "aeab3342",
   "metadata": {},
   "outputs": [
    {
     "data": {
      "text/plain": [
       "datetime.date(2022, 1, 7)"
      ]
     },
     "execution_count": 9,
     "metadata": {},
     "output_type": "execute_result"
    }
   ],
   "source": [
    "df_hyunmotor_combine.index[0]"
   ]
  },
  {
   "cell_type": "code",
   "execution_count": 10,
   "id": "587ac2cd",
   "metadata": {},
   "outputs": [],
   "source": [
    "col_inv1 = ['retail_1', 'foreigner_1', 'institution_1', 'financial_1', 'invtrust_1', 'pension_1', 'privequity_1', \n",
    "            'bank_1', 'insurance_1', 'financeetc_1', 'corporateetc_1', 'foreigneretc_1']\n",
    "col_inv2 = ['retail_2', 'foreigner_2', 'institution_2', 'financial_2', 'invtrust_2', 'pension_2',\n",
    "            'privequity_2', 'bank_2', 'insurance_2', 'financeetc_2', 'corporateetc_2', 'foreigneretc_2']"
   ]
  },
  {
   "cell_type": "code",
   "execution_count": 11,
   "id": "76ca8389",
   "metadata": {},
   "outputs": [],
   "source": [
    "col_his1 = ['open_1', 'high_1', 'low_1', 'close_1', 'vol_1']\n",
    "col_his2 = ['open_2', 'high_2', 'low_2', 'close_2', 'vol_2']"
   ]
  },
  {
   "cell_type": "code",
   "execution_count": 12,
   "id": "8a6b4bac",
   "metadata": {},
   "outputs": [],
   "source": [
    "col_common1 = [\"dji_cr\", \"dji_f_cr\", \"dxy_cr\", \"ixic_f_cr\", \"bond_kor_10_cr\", \"bond_kor_2_cr\", \"kosdaq_cr\", \"kospi_cr\", \n",
    "         \"krw_cr\", \"ixic_cr\", \"spx_f_cr\", \"sox_cr\", \"spx_cr\", \"bond_usa_10_cr\", \"bond_usa_2_cr\", \"bond_usa_3m_cr\", \n",
    "         \"vix_cr\", \"wti_cr\", \"spsy_cr\", \"spny_cr\", \"spxhc_cr\", \"splrcd_cr\", \"splrci_cr\", \"splrcu_cr\", \"splrcs_cr\",\n",
    "         \"splrct_cr\", \"splrcl_cr\", \"splrcm_cr\", \"ixbk_cr\", \"ixfn_cr\", \"ixid_cr\", \"ixis_cr\", \"ixk_cr\", \"ixtr_cr\",\n",
    "         \"ixut_cr\", \"nbi_cr\", \"bkx_cr\"]\n",
    "col_common2 = [\"dji_cr_2\", \"dji_f_cr_2\", \"dxy_cr_2\", \"ixic_f_cr_2\", \"bond_kor_10_cr_2\", \"bond_kor_2_cr_2\", \"kosdaq_cr_2\", \"kospi_cr_2\",\n",
    "         \"krw_cr_2\", \"ixic_cr_2\", \"spx_f_cr_2\", \"sox_cr_2\", \"spx_cr_2\", \"bond_usa_10_cr_2\", \"bond_usa_2_cr_2\", \"bond_usa_3m_cr_2\",\n",
    "         \"vix_cr_2\", \"wti_cr_2\", \"spsy_cr_2\", \"spny_cr_2\", \"spxhc_cr_2\", \"splrcd_cr_2\", \"splrci_cr_2\", \"splrcu_cr_2\",\n",
    "         \"splrcs_cr_2\", \"splrct_cr_2\", \"splrcl_cr_2\", \"splrcm_cr_2\", \"ixbk_cr_2\", \"ixfn_cr_2\", \"ixid_cr_2\",\n",
    "         \"ixis_cr_2\", \"ixk_cr_2\", \"ixtr_cr_2\", \"ixut_cr_2\", \"nbi_cr_2\", \"bkx_cr_2\"]"
   ]
  },
  {
   "cell_type": "code",
   "execution_count": 13,
   "id": "9a595935",
   "metadata": {},
   "outputs": [],
   "source": [
    "col_cr = ['weekday', 'cr_00', 'cr_05', 'cr_10', 'cr_15', 'cr_20']"
   ]
  },
  {
   "cell_type": "code",
   "execution_count": 14,
   "id": "75ec6070",
   "metadata": {},
   "outputs": [],
   "source": [
    "col_col = col_inv1 + col_common1 + col_his1 + col_inv2 + col_common2 + col_his2 + col_cr"
   ]
  },
  {
   "cell_type": "code",
   "execution_count": 15,
   "id": "ff6769da",
   "metadata": {},
   "outputs": [],
   "source": [
    "# # write common data only\n",
    "# df_temp = df_common.copy()\n",
    "# df_temp = df_temp[col_common1+col_common2]\n",
    "# pkl_common_directory = './data/common_pkl/'\n",
    "# df_temp.to_pickle(pkl_common_directory + 'df_common.pkl')\n",
    "# df_temp.to_csv(pkl_common_directory + 'df_common.csv')"
   ]
  },
  {
   "cell_type": "code",
   "execution_count": 16,
   "id": "c78c8f82",
   "metadata": {},
   "outputs": [],
   "source": [
    "new_columns = col_col"
   ]
  },
  {
   "cell_type": "code",
   "execution_count": 17,
   "id": "02da1256",
   "metadata": {},
   "outputs": [],
   "source": [
    "# column 순서 변경 : weekday, 'cr_00', 'cr_05', 'cr_10', 'cr_15', 'cr_20' column을 마지막으로 이동 \n",
    "for key, val in code.items():\n",
    "    globals()['df_{}_combine'.format(val[1])] = globals()['df_{}_combine'.format(val[1])][new_columns]"
   ]
  },
  {
   "cell_type": "code",
   "execution_count": 18,
   "id": "d4f1fa06",
   "metadata": {},
   "outputs": [
    {
     "data": {
      "text/plain": [
       "'\\n# drop inf, -inf : replace inf to 1 or -1 . 데이터를 살리고\\n# 변동률이 무한대가 되는 것을 방지하기 위해서, 나중에 발생하는 에러를 방지\\ndf_sec_sel.replace([np.inf, -np.inf], [1, -1], inplace=True)\\n\\n.impute 사용하는 것을 고려할 필요 있음.\\n'"
      ]
     },
     "execution_count": 18,
     "metadata": {},
     "output_type": "execute_result"
    }
   ],
   "source": [
    "'''\n",
    "# drop inf, -inf : replace inf to 1 or -1 . 데이터를 살리고\n",
    "# 변동률이 무한대가 되는 것을 방지하기 위해서, 나중에 발생하는 에러를 방지\n",
    "df_sec_sel.replace([np.inf, -np.inf], [1, -1], inplace=True)\n",
    "\n",
    ".impute 사용하는 것을 고려할 필요 있음.\n",
    "'''"
   ]
  },
  {
   "cell_type": "code",
   "execution_count": 19,
   "id": "7e91c1c5",
   "metadata": {},
   "outputs": [],
   "source": [
    "# drop inf, -inf : replace inf to 1 or -1 . 데이터를 살리고\n",
    "# 변동률이 무한대가 되는 것을 방지하기 위해서, 나중에 발생하는 에러를 방지\n",
    "for key, val in code.items():\n",
    "    globals()['df_{}_combine'.format(val[1])].replace([np.inf, -np.inf], [1, -1], inplace=True)\n",
    "\n",
    "# **** 데이터 전처리 from sklearn.impute import SimpleImputer, SimpleImputer 사용하기로 함."
   ]
  },
  {
   "cell_type": "code",
   "execution_count": 20,
   "id": "3fa3914b",
   "metadata": {},
   "outputs": [
    {
     "data": {
      "text/html": [
       "<div>\n",
       "<style scoped>\n",
       "    .dataframe tbody tr th:only-of-type {\n",
       "        vertical-align: middle;\n",
       "    }\n",
       "\n",
       "    .dataframe tbody tr th {\n",
       "        vertical-align: top;\n",
       "    }\n",
       "\n",
       "    .dataframe thead th {\n",
       "        text-align: right;\n",
       "    }\n",
       "</style>\n",
       "<table border=\"1\" class=\"dataframe\">\n",
       "  <thead>\n",
       "    <tr style=\"text-align: right;\">\n",
       "      <th></th>\n",
       "      <th>retail_1</th>\n",
       "      <th>foreigner_1</th>\n",
       "      <th>institution_1</th>\n",
       "      <th>financial_1</th>\n",
       "      <th>invtrust_1</th>\n",
       "      <th>pension_1</th>\n",
       "      <th>privequity_1</th>\n",
       "      <th>bank_1</th>\n",
       "      <th>insurance_1</th>\n",
       "      <th>financeetc_1</th>\n",
       "      <th>...</th>\n",
       "      <th>high_2</th>\n",
       "      <th>low_2</th>\n",
       "      <th>close_2</th>\n",
       "      <th>vol_2</th>\n",
       "      <th>weekday</th>\n",
       "      <th>cr_00</th>\n",
       "      <th>cr_05</th>\n",
       "      <th>cr_10</th>\n",
       "      <th>cr_15</th>\n",
       "      <th>cr_20</th>\n",
       "    </tr>\n",
       "  </thead>\n",
       "  <tbody>\n",
       "    <tr>\n",
       "      <th>2024-03-26</th>\n",
       "      <td>-1.02499</td>\n",
       "      <td>-0.76971</td>\n",
       "      <td>1.80658</td>\n",
       "      <td>4.40159</td>\n",
       "      <td>12.98824</td>\n",
       "      <td>-2.87056</td>\n",
       "      <td>-58.31579</td>\n",
       "      <td>0.29054</td>\n",
       "      <td>-0.54005</td>\n",
       "      <td>-137.33333</td>\n",
       "      <td>...</td>\n",
       "      <td>0.00631</td>\n",
       "      <td>0.00129</td>\n",
       "      <td>-0.01387</td>\n",
       "      <td>-0.58034</td>\n",
       "      <td>0</td>\n",
       "      <td>1</td>\n",
       "      <td>1</td>\n",
       "      <td>1</td>\n",
       "      <td>1</td>\n",
       "      <td>1</td>\n",
       "    </tr>\n",
       "    <tr>\n",
       "      <th>2024-03-27</th>\n",
       "      <td>-79.09453</td>\n",
       "      <td>4.90342</td>\n",
       "      <td>-3.24786</td>\n",
       "      <td>-3.96230</td>\n",
       "      <td>-1.24695</td>\n",
       "      <td>-3.24324</td>\n",
       "      <td>0.82907</td>\n",
       "      <td>3.04712</td>\n",
       "      <td>-0.27497</td>\n",
       "      <td>-2.13325</td>\n",
       "      <td>...</td>\n",
       "      <td>0.00250</td>\n",
       "      <td>0.01799</td>\n",
       "      <td>0.01267</td>\n",
       "      <td>0.14319</td>\n",
       "      <td>1</td>\n",
       "      <td>0</td>\n",
       "      <td>0</td>\n",
       "      <td>0</td>\n",
       "      <td>0</td>\n",
       "      <td>0</td>\n",
       "    </tr>\n",
       "    <tr>\n",
       "      <th>2024-03-28</th>\n",
       "      <td>-0.77805</td>\n",
       "      <td>-0.97958</td>\n",
       "      <td>-0.34455</td>\n",
       "      <td>-0.72971</td>\n",
       "      <td>3.56492</td>\n",
       "      <td>-2.10785</td>\n",
       "      <td>-1.93588</td>\n",
       "      <td>-1.03234</td>\n",
       "      <td>-1.32587</td>\n",
       "      <td>-0.98166</td>\n",
       "      <td>...</td>\n",
       "      <td>0.00251</td>\n",
       "      <td>0.01799</td>\n",
       "      <td>0.02046</td>\n",
       "      <td>-0.06840</td>\n",
       "      <td>2</td>\n",
       "      <td>1</td>\n",
       "      <td>1</td>\n",
       "      <td>1</td>\n",
       "      <td>0</td>\n",
       "      <td>0</td>\n",
       "    </tr>\n",
       "    <tr>\n",
       "      <th>2024-03-29</th>\n",
       "      <td>2.54917</td>\n",
       "      <td>40.48731</td>\n",
       "      <td>-0.20640</td>\n",
       "      <td>-0.48000</td>\n",
       "      <td>-0.00877</td>\n",
       "      <td>-0.79517</td>\n",
       "      <td>1.54341</td>\n",
       "      <td>397.08000</td>\n",
       "      <td>8.09775</td>\n",
       "      <td>18.47059</td>\n",
       "      <td>...</td>\n",
       "      <td>0.01124</td>\n",
       "      <td>0.00000</td>\n",
       "      <td>0.01126</td>\n",
       "      <td>-0.17893</td>\n",
       "      <td>3</td>\n",
       "      <td>1</td>\n",
       "      <td>1</td>\n",
       "      <td>1</td>\n",
       "      <td>1</td>\n",
       "      <td>0</td>\n",
       "    </tr>\n",
       "    <tr>\n",
       "      <th>2024-04-01</th>\n",
       "      <td>0.32204</td>\n",
       "      <td>0.59416</td>\n",
       "      <td>-0.66640</td>\n",
       "      <td>-1.02580</td>\n",
       "      <td>0.55160</td>\n",
       "      <td>-2.95707</td>\n",
       "      <td>0.19350</td>\n",
       "      <td>-0.95659</td>\n",
       "      <td>-1.81893</td>\n",
       "      <td>-0.08157</td>\n",
       "      <td>...</td>\n",
       "      <td>0.03125</td>\n",
       "      <td>0.02146</td>\n",
       "      <td>0.03258</td>\n",
       "      <td>0.55011</td>\n",
       "      <td>4</td>\n",
       "      <td>0</td>\n",
       "      <td>0</td>\n",
       "      <td>0</td>\n",
       "      <td>0</td>\n",
       "      <td>0</td>\n",
       "    </tr>\n",
       "  </tbody>\n",
       "</table>\n",
       "<p>5 rows × 114 columns</p>\n",
       "</div>"
      ],
      "text/plain": [
       "            retail_1  foreigner_1  institution_1  financial_1  invtrust_1   \n",
       "2024-03-26  -1.02499     -0.76971        1.80658      4.40159    12.98824  \\\n",
       "2024-03-27 -79.09453      4.90342       -3.24786     -3.96230    -1.24695   \n",
       "2024-03-28  -0.77805     -0.97958       -0.34455     -0.72971     3.56492   \n",
       "2024-03-29   2.54917     40.48731       -0.20640     -0.48000    -0.00877   \n",
       "2024-04-01   0.32204      0.59416       -0.66640     -1.02580     0.55160   \n",
       "\n",
       "            pension_1  privequity_1     bank_1  insurance_1  financeetc_1   \n",
       "2024-03-26   -2.87056     -58.31579    0.29054     -0.54005    -137.33333  \\\n",
       "2024-03-27   -3.24324       0.82907    3.04712     -0.27497      -2.13325   \n",
       "2024-03-28   -2.10785      -1.93588   -1.03234     -1.32587      -0.98166   \n",
       "2024-03-29   -0.79517       1.54341  397.08000      8.09775      18.47059   \n",
       "2024-04-01   -2.95707       0.19350   -0.95659     -1.81893      -0.08157   \n",
       "\n",
       "            ...   high_2    low_2  close_2    vol_2  weekday  cr_00 cr_05   \n",
       "2024-03-26  ...  0.00631  0.00129 -0.01387 -0.58034        0      1     1  \\\n",
       "2024-03-27  ...  0.00250  0.01799  0.01267  0.14319        1      0     0   \n",
       "2024-03-28  ...  0.00251  0.01799  0.02046 -0.06840        2      1     1   \n",
       "2024-03-29  ...  0.01124  0.00000  0.01126 -0.17893        3      1     1   \n",
       "2024-04-01  ...  0.03125  0.02146  0.03258  0.55011        4      0     0   \n",
       "\n",
       "           cr_10  cr_15  cr_20  \n",
       "2024-03-26     1      1      1  \n",
       "2024-03-27     0      0      0  \n",
       "2024-03-28     1      0      0  \n",
       "2024-03-29     1      1      0  \n",
       "2024-04-01     0      0      0  \n",
       "\n",
       "[5 rows x 114 columns]"
      ]
     },
     "execution_count": 20,
     "metadata": {},
     "output_type": "execute_result"
    }
   ],
   "source": [
    "df_sec_combine.tail()"
   ]
  },
  {
   "cell_type": "code",
   "execution_count": 21,
   "id": "bf7224df",
   "metadata": {},
   "outputs": [],
   "source": [
    "nanlo = locate_nan(df_sec_combine)  # nan 위치 찾기"
   ]
  },
  {
   "cell_type": "code",
   "execution_count": 22,
   "id": "2f63d7f5",
   "metadata": {},
   "outputs": [
    {
     "name": "stdout",
     "output_type": "stream",
     "text": [
      "[[datetime.date(2022, 1, 7) 'dji_cr']\n",
      " [datetime.date(2022, 1, 7) 'dji_f_cr']\n",
      " [datetime.date(2022, 1, 7) 'dxy_cr']\n",
      " ...\n",
      " [datetime.date(2024, 3, 29) 'ixut_cr_2']\n",
      " [datetime.date(2024, 3, 29) 'nbi_cr_2']\n",
      " [datetime.date(2024, 3, 29) 'bkx_cr_2']]\n"
     ]
    }
   ],
   "source": [
    "print(nanlo)"
   ]
  },
  {
   "cell_type": "code",
   "execution_count": 23,
   "id": "21a6d628",
   "metadata": {},
   "outputs": [],
   "source": [
    "# delete rows which include NaN : dji, spx, nasdaq 기타 common 지수중 한개라도 nan인 rows 제거\n",
    "for key, val in code.items():\n",
    "    globals()['df_{}_combine'.format(val[1])].dropna(inplace=True)"
   ]
  },
  {
   "cell_type": "code",
   "execution_count": 24,
   "id": "c6f3061c",
   "metadata": {},
   "outputs": [],
   "source": [
    "# string column을 numeric으로 전환\n",
    "def string_to_num(df):\n",
    "    df.replace('%', '', regex=True, inplace=True)\n",
    "    df = df.apply(pd.to_numeric)\n",
    "    return df\n",
    "\n",
    "for key, val in code.items():\n",
    "    globals()['df_{}_combine'.format(val[1])] = string_to_num(globals()['df_{}_combine'.format(val[1])])"
   ]
  },
  {
   "cell_type": "code",
   "execution_count": 25,
   "id": "7e8d5acf",
   "metadata": {},
   "outputs": [],
   "source": [
    "# pickle로 데이터 저장\n",
    "\n",
    "for key, val in code.items():\n",
    "    globals()[f'df_{val[1]}_combine'].to_pickle(directory_for_predict + f'df_{val[1]}_combine.pkl')\n",
    "    globals()[f'df_{val[1]}_combine'].to_csv(directory_for_predict + f'df_{val[1]}_combine.csv')"
   ]
  },
  {
   "cell_type": "code",
   "execution_count": null,
   "id": "a01825d3",
   "metadata": {},
   "outputs": [],
   "source": []
  },
  {
   "cell_type": "code",
   "execution_count": null,
   "id": "3300e5b2",
   "metadata": {},
   "outputs": [],
   "source": []
  },
  {
   "cell_type": "code",
   "execution_count": null,
   "id": "1ffeab80",
   "metadata": {},
   "outputs": [],
   "source": []
  },
  {
   "cell_type": "code",
   "execution_count": null,
   "id": "a1f7c9d1",
   "metadata": {},
   "outputs": [],
   "source": []
  },
  {
   "cell_type": "code",
   "execution_count": null,
   "id": "bc80b897",
   "metadata": {},
   "outputs": [],
   "source": []
  }
 ],
 "metadata": {
  "kernelspec": {
   "display_name": "Python 3 (ipykernel)",
   "language": "python",
   "name": "python3"
  },
  "language_info": {
   "codemirror_mode": {
    "name": "ipython",
    "version": 3
   },
   "file_extension": ".py",
   "mimetype": "text/x-python",
   "name": "python",
   "nbconvert_exporter": "python",
   "pygments_lexer": "ipython3",
   "version": "3.9.1"
  }
 },
 "nbformat": 4,
 "nbformat_minor": 5
}
