{
 "cells": [
  {
   "cell_type": "markdown",
   "id": "459ff0ca",
   "metadata": {},
   "source": [
    "## combine company data and common data"
   ]
  },
  {
   "cell_type": "code",
   "execution_count": 1,
   "id": "d3b5a935",
   "metadata": {},
   "outputs": [],
   "source": [
    "import datetime, time\n",
    "from datetime import date\n",
    "\n",
    "import pandas as pd\n",
    "import numpy as np\n",
    "import os\n",
    "import sys\n",
    "\n",
    "from sklearn.preprocessing import StandardScaler"
   ]
  },
  {
   "cell_type": "code",
   "execution_count": 2,
   "id": "8ef51f99",
   "metadata": {},
   "outputs": [],
   "source": [
    "module_path = os.path.abspath(os.path.join('.')) \n",
    "sys.path.append(module_path+\"\\\\data\\\\constant\")\n",
    "\n",
    "from constants import COMPANY_CODE"
   ]
  },
  {
   "cell_type": "code",
   "execution_count": 3,
   "id": "9ea60572",
   "metadata": {},
   "outputs": [
    {
     "data": {
      "text/plain": [
       "\" \\n[[datetime.date(2022, 1, 17) 'dji_cr']\\n [datetime.date(2022, 1, 17) 'dji_f_cr']\\n ...\\n [datetime.date(2023, 5, 23) 'kosdaq_cr']\\n [datetime.date(2023, 5, 23) 'kosdaq_cr_2']]\\n\""
      ]
     },
     "execution_count": 3,
     "metadata": {},
     "output_type": "execute_result"
    }
   ],
   "source": [
    "def locate_nan(df):\n",
    "    idx, idy = np.where(pd.isnull(df))\n",
    "    result = np.column_stack([df.index[idx], df.columns[idy]])\n",
    "    return result\n",
    "\n",
    "# return format\n",
    "''' \n",
    "[[datetime.date(2022, 1, 17) 'dji_cr']\n",
    " [datetime.date(2022, 1, 17) 'dji_f_cr']\n",
    " ...\n",
    " [datetime.date(2023, 5, 23) 'kosdaq_cr']\n",
    " [datetime.date(2023, 5, 23) 'kosdaq_cr_2']]\n",
    "'''"
   ]
  },
  {
   "cell_type": "code",
   "execution_count": 4,
   "id": "d6f9e0c8",
   "metadata": {},
   "outputs": [],
   "source": [
    "code = COMPANY_CODE\n",
    "\n",
    "# code = {'005930': ['삼성전자', 'sec'], '005380': ['현대차', 'hyunmotor'],\n",
    "#                  '035420': ['NAVER', 'naver'], '033780': ['KT&G', 'ktng']}\n",
    "# code = {'005930': ['삼성전자', 'sec'], '000660': ['SK하이닉스', 'skhynix']}\n",
    "# code = {'302440': ['SK바이오사이언스', 'skbio']}"
   ]
  },
  {
   "cell_type": "code",
   "execution_count": 5,
   "id": "1ced9635",
   "metadata": {},
   "outputs": [],
   "source": [
    "directory_for_predict = './data/data_for_ml/predict/'\n",
    "pkl_common_directory = './data/common_pkl/'\n",
    "pkl_directory = './data/common_pkl/'"
   ]
  },
  {
   "cell_type": "code",
   "execution_count": 6,
   "id": "a4ac3c16",
   "metadata": {},
   "outputs": [],
   "source": [
    "df_common = pd.read_pickle(directory_for_predict + '0_df_common.pkl')"
   ]
  },
  {
   "cell_type": "code",
   "execution_count": 7,
   "id": "82d5ae58",
   "metadata": {},
   "outputs": [],
   "source": [
    "for key, val in code.items():\n",
    "    df_company = pd.read_pickle(directory_for_predict + f'df_{val[1]}_company.pkl')\n",
    "    df_company = df_company.merge(df_common, how='left', left_index=True, right_index=True)\n",
    "    globals()[f'df_{val[1]}_combine'] = df_company.copy()"
   ]
  },
  {
   "cell_type": "code",
   "execution_count": 8,
   "id": "6c798e31",
   "metadata": {},
   "outputs": [
    {
     "data": {
      "text/html": [
       "<div>\n",
       "<style scoped>\n",
       "    .dataframe tbody tr th:only-of-type {\n",
       "        vertical-align: middle;\n",
       "    }\n",
       "\n",
       "    .dataframe tbody tr th {\n",
       "        vertical-align: top;\n",
       "    }\n",
       "\n",
       "    .dataframe thead th {\n",
       "        text-align: right;\n",
       "    }\n",
       "</style>\n",
       "<table border=\"1\" class=\"dataframe\">\n",
       "  <thead>\n",
       "    <tr style=\"text-align: right;\">\n",
       "      <th></th>\n",
       "      <th>retail_1</th>\n",
       "      <th>foreigner_1</th>\n",
       "      <th>institution_1</th>\n",
       "      <th>financial_1</th>\n",
       "      <th>invtrust_1</th>\n",
       "      <th>pension_1</th>\n",
       "      <th>privequity_1</th>\n",
       "      <th>bank_1</th>\n",
       "      <th>insurance_1</th>\n",
       "      <th>financeetc_1</th>\n",
       "      <th>...</th>\n",
       "      <th>ixk_cr</th>\n",
       "      <th>ixk_cr_2</th>\n",
       "      <th>ixtr_cr</th>\n",
       "      <th>ixtr_cr_2</th>\n",
       "      <th>ixut_cr</th>\n",
       "      <th>ixut_cr_2</th>\n",
       "      <th>nbi_cr</th>\n",
       "      <th>nbi_cr_2</th>\n",
       "      <th>bkx_cr</th>\n",
       "      <th>bkx_cr_2</th>\n",
       "    </tr>\n",
       "  </thead>\n",
       "  <tbody>\n",
       "    <tr>\n",
       "      <th>2024-07-02</th>\n",
       "      <td>3.30976</td>\n",
       "      <td>0.65240</td>\n",
       "      <td>-2.53255</td>\n",
       "      <td>-0.88035</td>\n",
       "      <td>-4.13134</td>\n",
       "      <td>-1.94975</td>\n",
       "      <td>19.30697</td>\n",
       "      <td>-0.99270</td>\n",
       "      <td>-45.20492</td>\n",
       "      <td>-1.00000</td>\n",
       "      <td>...</td>\n",
       "      <td>1.19%</td>\n",
       "      <td>0.36857</td>\n",
       "      <td>-0.38%</td>\n",
       "      <td>0.32850</td>\n",
       "      <td>-0.15%</td>\n",
       "      <td>0.50505</td>\n",
       "      <td>0.03%</td>\n",
       "      <td>-0.35415</td>\n",
       "      <td>0.60%</td>\n",
       "      <td>2.93743</td>\n",
       "    </tr>\n",
       "    <tr>\n",
       "      <th>2024-07-03</th>\n",
       "      <td>0.39255</td>\n",
       "      <td>-0.02632</td>\n",
       "      <td>1.25940</td>\n",
       "      <td>-3.85096</td>\n",
       "      <td>0.48569</td>\n",
       "      <td>-2.64673</td>\n",
       "      <td>0.64420</td>\n",
       "      <td>61.00000</td>\n",
       "      <td>-0.41869</td>\n",
       "      <td>-inf</td>\n",
       "      <td>...</td>\n",
       "      <td>0.68%</td>\n",
       "      <td>1.87998</td>\n",
       "      <td>0.27%</td>\n",
       "      <td>-0.11259</td>\n",
       "      <td>0.24%</td>\n",
       "      <td>0.08869</td>\n",
       "      <td>-1.09%</td>\n",
       "      <td>-1.05999</td>\n",
       "      <td>1.12%</td>\n",
       "      <td>1.73206</td>\n",
       "    </tr>\n",
       "    <tr>\n",
       "      <th>2024-07-04</th>\n",
       "      <td>-0.99275</td>\n",
       "      <td>-1.01823</td>\n",
       "      <td>-0.88015</td>\n",
       "      <td>-0.76934</td>\n",
       "      <td>-1.10413</td>\n",
       "      <td>0.48511</td>\n",
       "      <td>-1.11591</td>\n",
       "      <td>14.53226</td>\n",
       "      <td>-0.66571</td>\n",
       "      <td>-4.11538</td>\n",
       "      <td>...</td>\n",
       "      <td>NaN</td>\n",
       "      <td>NaN</td>\n",
       "      <td>NaN</td>\n",
       "      <td>NaN</td>\n",
       "      <td>NaN</td>\n",
       "      <td>NaN</td>\n",
       "      <td>NaN</td>\n",
       "      <td>NaN</td>\n",
       "      <td>NaN</td>\n",
       "      <td>NaN</td>\n",
       "    </tr>\n",
       "    <tr>\n",
       "      <th>2024-07-05</th>\n",
       "      <td>-0.25758</td>\n",
       "      <td>-1.31166</td>\n",
       "      <td>-0.62365</td>\n",
       "      <td>-11.24119</td>\n",
       "      <td>-3.28463</td>\n",
       "      <td>-0.16023</td>\n",
       "      <td>-2.83478</td>\n",
       "      <td>-0.94496</td>\n",
       "      <td>-0.32729</td>\n",
       "      <td>4.32099</td>\n",
       "      <td>...</td>\n",
       "      <td>1.32%</td>\n",
       "      <td>2.00728</td>\n",
       "      <td>0.37%</td>\n",
       "      <td>0.64216</td>\n",
       "      <td>-0.43%</td>\n",
       "      <td>-0.18781</td>\n",
       "      <td>-0.76%</td>\n",
       "      <td>-1.84413</td>\n",
       "      <td>-0.49%</td>\n",
       "      <td>0.62780</td>\n",
       "    </tr>\n",
       "    <tr>\n",
       "      <th>2024-07-08</th>\n",
       "      <td>-36.18878</td>\n",
       "      <td>17.72393</td>\n",
       "      <td>-12.65754</td>\n",
       "      <td>1.05428</td>\n",
       "      <td>-0.26580</td>\n",
       "      <td>-1.77177</td>\n",
       "      <td>-0.70757</td>\n",
       "      <td>-8.22642</td>\n",
       "      <td>1.90780</td>\n",
       "      <td>-2.01160</td>\n",
       "      <td>...</td>\n",
       "      <td>NaN</td>\n",
       "      <td>NaN</td>\n",
       "      <td>NaN</td>\n",
       "      <td>NaN</td>\n",
       "      <td>NaN</td>\n",
       "      <td>NaN</td>\n",
       "      <td>NaN</td>\n",
       "      <td>NaN</td>\n",
       "      <td>NaN</td>\n",
       "      <td>NaN</td>\n",
       "    </tr>\n",
       "  </tbody>\n",
       "</table>\n",
       "<p>5 rows × 114 columns</p>\n",
       "</div>"
      ],
      "text/plain": [
       "            retail_1  foreigner_1  institution_1  financial_1  invtrust_1  \\\n",
       "2024-07-02   3.30976      0.65240       -2.53255     -0.88035    -4.13134   \n",
       "2024-07-03   0.39255     -0.02632        1.25940     -3.85096     0.48569   \n",
       "2024-07-04  -0.99275     -1.01823       -0.88015     -0.76934    -1.10413   \n",
       "2024-07-05  -0.25758     -1.31166       -0.62365    -11.24119    -3.28463   \n",
       "2024-07-08 -36.18878     17.72393      -12.65754      1.05428    -0.26580   \n",
       "\n",
       "            pension_1  privequity_1    bank_1  insurance_1  financeetc_1  ...  \\\n",
       "2024-07-02   -1.94975      19.30697  -0.99270    -45.20492      -1.00000  ...   \n",
       "2024-07-03   -2.64673       0.64420  61.00000     -0.41869          -inf  ...   \n",
       "2024-07-04    0.48511      -1.11591  14.53226     -0.66571      -4.11538  ...   \n",
       "2024-07-05   -0.16023      -2.83478  -0.94496     -0.32729       4.32099  ...   \n",
       "2024-07-08   -1.77177      -0.70757  -8.22642      1.90780      -2.01160  ...   \n",
       "\n",
       "            ixk_cr  ixk_cr_2  ixtr_cr  ixtr_cr_2  ixut_cr  ixut_cr_2  nbi_cr  \\\n",
       "2024-07-02   1.19%   0.36857   -0.38%    0.32850   -0.15%    0.50505   0.03%   \n",
       "2024-07-03   0.68%   1.87998    0.27%   -0.11259    0.24%    0.08869  -1.09%   \n",
       "2024-07-04     NaN       NaN      NaN        NaN      NaN        NaN     NaN   \n",
       "2024-07-05   1.32%   2.00728    0.37%    0.64216   -0.43%   -0.18781  -0.76%   \n",
       "2024-07-08     NaN       NaN      NaN        NaN      NaN        NaN     NaN   \n",
       "\n",
       "            nbi_cr_2  bkx_cr  bkx_cr_2  \n",
       "2024-07-02  -0.35415   0.60%   2.93743  \n",
       "2024-07-03  -1.05999   1.12%   1.73206  \n",
       "2024-07-04       NaN     NaN       NaN  \n",
       "2024-07-05  -1.84413  -0.49%   0.62780  \n",
       "2024-07-08       NaN     NaN       NaN  \n",
       "\n",
       "[5 rows x 114 columns]"
      ]
     },
     "execution_count": 8,
     "metadata": {},
     "output_type": "execute_result"
    }
   ],
   "source": [
    "df_hyunmotor_combine.tail()"
   ]
  },
  {
   "cell_type": "code",
   "execution_count": 9,
   "id": "aeab3342",
   "metadata": {},
   "outputs": [
    {
     "data": {
      "text/plain": [
       "datetime.date(2022, 1, 7)"
      ]
     },
     "execution_count": 9,
     "metadata": {},
     "output_type": "execute_result"
    }
   ],
   "source": [
    "df_hyunmotor_combine.index[0]"
   ]
  },
  {
   "cell_type": "code",
   "execution_count": 10,
   "id": "587ac2cd",
   "metadata": {},
   "outputs": [],
   "source": [
    "col_inv1 = ['retail_1', 'foreigner_1', 'institution_1', 'financial_1', 'invtrust_1', 'pension_1', 'privequity_1', \n",
    "            'bank_1', 'insurance_1', 'financeetc_1', 'corporateetc_1', 'foreigneretc_1']\n",
    "col_inv2 = ['retail_2', 'foreigner_2', 'institution_2', 'financial_2', 'invtrust_2', 'pension_2',\n",
    "            'privequity_2', 'bank_2', 'insurance_2', 'financeetc_2', 'corporateetc_2', 'foreigneretc_2']"
   ]
  },
  {
   "cell_type": "code",
   "execution_count": 11,
   "id": "76ca8389",
   "metadata": {},
   "outputs": [],
   "source": [
    "col_his1 = ['open_1', 'high_1', 'low_1', 'close_1', 'vol_1']\n",
    "col_his2 = ['open_2', 'high_2', 'low_2', 'close_2', 'vol_2']"
   ]
  },
  {
   "cell_type": "code",
   "execution_count": 12,
   "id": "8a6b4bac",
   "metadata": {},
   "outputs": [],
   "source": [
    "col_common1 = [\"dji_cr\", \"dji_f_cr\", \"dxy_cr\", \"ixic_f_cr\", \"bond_kor_10_cr\", \"bond_kor_2_cr\", \"kosdaq_cr\", \"kospi_cr\", \n",
    "         \"krw_cr\", \"ixic_cr\", \"spx_f_cr\", \"sox_cr\", \"spx_cr\", \"bond_usa_10_cr\", \"bond_usa_2_cr\", \"bond_usa_3m_cr\", \n",
    "         \"vix_cr\", \"wti_cr\", \"spsy_cr\", \"spny_cr\", \"spxhc_cr\", \"splrcd_cr\", \"splrci_cr\", \"splrcu_cr\", \"splrcs_cr\",\n",
    "         \"splrct_cr\", \"splrcl_cr\", \"splrcm_cr\", \"ixbk_cr\", \"ixfn_cr\", \"ixid_cr\", \"ixis_cr\", \"ixk_cr\", \"ixtr_cr\",\n",
    "         \"ixut_cr\", \"nbi_cr\", \"bkx_cr\"]\n",
    "col_common2 = [\"dji_cr_2\", \"dji_f_cr_2\", \"dxy_cr_2\", \"ixic_f_cr_2\", \"bond_kor_10_cr_2\", \"bond_kor_2_cr_2\", \"kosdaq_cr_2\", \"kospi_cr_2\",\n",
    "         \"krw_cr_2\", \"ixic_cr_2\", \"spx_f_cr_2\", \"sox_cr_2\", \"spx_cr_2\", \"bond_usa_10_cr_2\", \"bond_usa_2_cr_2\", \"bond_usa_3m_cr_2\",\n",
    "         \"vix_cr_2\", \"wti_cr_2\", \"spsy_cr_2\", \"spny_cr_2\", \"spxhc_cr_2\", \"splrcd_cr_2\", \"splrci_cr_2\", \"splrcu_cr_2\",\n",
    "         \"splrcs_cr_2\", \"splrct_cr_2\", \"splrcl_cr_2\", \"splrcm_cr_2\", \"ixbk_cr_2\", \"ixfn_cr_2\", \"ixid_cr_2\",\n",
    "         \"ixis_cr_2\", \"ixk_cr_2\", \"ixtr_cr_2\", \"ixut_cr_2\", \"nbi_cr_2\", \"bkx_cr_2\"]"
   ]
  },
  {
   "cell_type": "code",
   "execution_count": 13,
   "id": "9a595935",
   "metadata": {},
   "outputs": [],
   "source": [
    "col_cr = ['weekday', 'cr_00', 'cr_05', 'cr_10', 'cr_15', 'cr_20']"
   ]
  },
  {
   "cell_type": "code",
   "execution_count": 14,
   "id": "75ec6070",
   "metadata": {},
   "outputs": [],
   "source": [
    "col_col = col_inv1 + col_common1 + col_his1 + col_inv2 + col_common2 + col_his2 + col_cr"
   ]
  },
  {
   "cell_type": "code",
   "execution_count": 15,
   "id": "ff6769da",
   "metadata": {},
   "outputs": [],
   "source": [
    "# # write common data only\n",
    "# df_temp = df_common.copy()\n",
    "# df_temp = df_temp[col_common1+col_common2]\n",
    "# pkl_common_directory = './data/common_pkl/'\n",
    "# df_temp.to_pickle(pkl_common_directory + 'df_common.pkl')\n",
    "# df_temp.to_csv(pkl_common_directory + 'df_common.csv')"
   ]
  },
  {
   "cell_type": "code",
   "execution_count": 16,
   "id": "c78c8f82",
   "metadata": {},
   "outputs": [],
   "source": [
    "new_columns = col_col"
   ]
  },
  {
   "cell_type": "code",
   "execution_count": 17,
   "id": "02da1256",
   "metadata": {},
   "outputs": [],
   "source": [
    "# column 순서 변경 : weekday, 'cr_00', 'cr_05', 'cr_10', 'cr_15', 'cr_20' column을 마지막으로 이동 \n",
    "for key, val in code.items():\n",
    "    globals()['df_{}_combine'.format(val[1])] = globals()['df_{}_combine'.format(val[1])][new_columns]"
   ]
  },
  {
   "cell_type": "code",
   "execution_count": 18,
   "id": "d4f1fa06",
   "metadata": {},
   "outputs": [
    {
     "data": {
      "text/plain": [
       "'\\n# drop inf, -inf : replace inf to 1 or -1 . 데이터를 살리고\\n# 변동률이 무한대가 되는 것을 방지하기 위해서, 나중에 발생하는 에러를 방지\\ndf_sec_sel.replace([np.inf, -np.inf], [1, -1], inplace=True)\\n\\n.impute 사용하는 것을 고려할 필요 있음.\\n'"
      ]
     },
     "execution_count": 18,
     "metadata": {},
     "output_type": "execute_result"
    }
   ],
   "source": [
    "'''\n",
    "# drop inf, -inf : replace inf to 1 or -1 . 데이터를 살리고\n",
    "# 변동률이 무한대가 되는 것을 방지하기 위해서, 나중에 발생하는 에러를 방지\n",
    "df_sec_sel.replace([np.inf, -np.inf], [1, -1], inplace=True)\n",
    "\n",
    ".impute 사용하는 것을 고려할 필요 있음.\n",
    "'''"
   ]
  },
  {
   "cell_type": "code",
   "execution_count": 19,
   "id": "7e91c1c5",
   "metadata": {},
   "outputs": [],
   "source": [
    "# drop inf, -inf : replace inf to 1 or -1 . 데이터를 살리고\n",
    "# 변동률이 무한대가 되는 것을 방지하기 위해서, 나중에 발생하는 에러를 방지\n",
    "for key, val in code.items():\n",
    "    globals()['df_{}_combine'.format(val[1])].replace([np.inf, -np.inf], [1, -1], inplace=True)\n",
    "\n",
    "# **** 데이터 전처리 from sklearn.impute import SimpleImputer, SimpleImputer 사용하기로 함."
   ]
  },
  {
   "cell_type": "code",
   "execution_count": 20,
   "id": "3fa3914b",
   "metadata": {},
   "outputs": [
    {
     "data": {
      "text/html": [
       "<div>\n",
       "<style scoped>\n",
       "    .dataframe tbody tr th:only-of-type {\n",
       "        vertical-align: middle;\n",
       "    }\n",
       "\n",
       "    .dataframe tbody tr th {\n",
       "        vertical-align: top;\n",
       "    }\n",
       "\n",
       "    .dataframe thead th {\n",
       "        text-align: right;\n",
       "    }\n",
       "</style>\n",
       "<table border=\"1\" class=\"dataframe\">\n",
       "  <thead>\n",
       "    <tr style=\"text-align: right;\">\n",
       "      <th></th>\n",
       "      <th>retail_1</th>\n",
       "      <th>foreigner_1</th>\n",
       "      <th>institution_1</th>\n",
       "      <th>financial_1</th>\n",
       "      <th>invtrust_1</th>\n",
       "      <th>pension_1</th>\n",
       "      <th>privequity_1</th>\n",
       "      <th>bank_1</th>\n",
       "      <th>insurance_1</th>\n",
       "      <th>financeetc_1</th>\n",
       "      <th>...</th>\n",
       "      <th>high_2</th>\n",
       "      <th>low_2</th>\n",
       "      <th>close_2</th>\n",
       "      <th>vol_2</th>\n",
       "      <th>weekday</th>\n",
       "      <th>cr_00</th>\n",
       "      <th>cr_05</th>\n",
       "      <th>cr_10</th>\n",
       "      <th>cr_15</th>\n",
       "      <th>cr_20</th>\n",
       "    </tr>\n",
       "  </thead>\n",
       "  <tbody>\n",
       "    <tr>\n",
       "      <th>2024-07-02</th>\n",
       "      <td>-3.12557</td>\n",
       "      <td>-2.07475</td>\n",
       "      <td>1.21200</td>\n",
       "      <td>-0.28956</td>\n",
       "      <td>-0.32678</td>\n",
       "      <td>-2.24219</td>\n",
       "      <td>-9.01643</td>\n",
       "      <td>-1.01653</td>\n",
       "      <td>-2.26260</td>\n",
       "      <td>7.25000</td>\n",
       "      <td>...</td>\n",
       "      <td>0.00613</td>\n",
       "      <td>0.00994</td>\n",
       "      <td>0.00245</td>\n",
       "      <td>-0.03599</td>\n",
       "      <td>0</td>\n",
       "      <td>0</td>\n",
       "      <td>0</td>\n",
       "      <td>0</td>\n",
       "      <td>0</td>\n",
       "      <td>0</td>\n",
       "    </tr>\n",
       "    <tr>\n",
       "      <th>2024-07-03</th>\n",
       "      <td>-0.29667</td>\n",
       "      <td>1.13306</td>\n",
       "      <td>-3.66030</td>\n",
       "      <td>-3.57668</td>\n",
       "      <td>-0.81194</td>\n",
       "      <td>-1.23542</td>\n",
       "      <td>-0.20932</td>\n",
       "      <td>-11.72222</td>\n",
       "      <td>8.61555</td>\n",
       "      <td>-3.57576</td>\n",
       "      <td>...</td>\n",
       "      <td>0.00855</td>\n",
       "      <td>0.00866</td>\n",
       "      <td>0.00368</td>\n",
       "      <td>0.53046</td>\n",
       "      <td>1</td>\n",
       "      <td>0</td>\n",
       "      <td>0</td>\n",
       "      <td>0</td>\n",
       "      <td>0</td>\n",
       "      <td>0</td>\n",
       "    </tr>\n",
       "    <tr>\n",
       "      <th>2024-07-04</th>\n",
       "      <td>-0.65650</td>\n",
       "      <td>-1.01889</td>\n",
       "      <td>-1.31039</td>\n",
       "      <td>-1.55803</td>\n",
       "      <td>6.14413</td>\n",
       "      <td>0.39094</td>\n",
       "      <td>-1.54811</td>\n",
       "      <td>-0.72021</td>\n",
       "      <td>-0.25934</td>\n",
       "      <td>-0.17843</td>\n",
       "      <td>...</td>\n",
       "      <td>0.00244</td>\n",
       "      <td>-0.00369</td>\n",
       "      <td>0.00000</td>\n",
       "      <td>0.01088</td>\n",
       "      <td>2</td>\n",
       "      <td>1</td>\n",
       "      <td>1</td>\n",
       "      <td>1</td>\n",
       "      <td>1</td>\n",
       "      <td>1</td>\n",
       "    </tr>\n",
       "    <tr>\n",
       "      <th>2024-07-05</th>\n",
       "      <td>42.29731</td>\n",
       "      <td>-198.28609</td>\n",
       "      <td>18.64939</td>\n",
       "      <td>7.53266</td>\n",
       "      <td>-4.21864</td>\n",
       "      <td>-21.48092</td>\n",
       "      <td>3.61510</td>\n",
       "      <td>-10.57407</td>\n",
       "      <td>-4.48584</td>\n",
       "      <td>-2.29833</td>\n",
       "      <td>...</td>\n",
       "      <td>0.02542</td>\n",
       "      <td>0.01104</td>\n",
       "      <td>0.03423</td>\n",
       "      <td>2.03051</td>\n",
       "      <td>3</td>\n",
       "      <td>1</td>\n",
       "      <td>1</td>\n",
       "      <td>1</td>\n",
       "      <td>1</td>\n",
       "      <td>1</td>\n",
       "    </tr>\n",
       "    <tr>\n",
       "      <th>2024-07-08</th>\n",
       "      <td>0.40293</td>\n",
       "      <td>0.77278</td>\n",
       "      <td>-0.00173</td>\n",
       "      <td>0.35210</td>\n",
       "      <td>0.23207</td>\n",
       "      <td>-0.65860</td>\n",
       "      <td>-0.36173</td>\n",
       "      <td>22.09091</td>\n",
       "      <td>0.61623</td>\n",
       "      <td>8.46691</td>\n",
       "      <td>...</td>\n",
       "      <td>0.05832</td>\n",
       "      <td>0.05185</td>\n",
       "      <td>0.06479</td>\n",
       "      <td>2.99148</td>\n",
       "      <td>4</td>\n",
       "      <td>0</td>\n",
       "      <td>0</td>\n",
       "      <td>0</td>\n",
       "      <td>0</td>\n",
       "      <td>0</td>\n",
       "    </tr>\n",
       "  </tbody>\n",
       "</table>\n",
       "<p>5 rows × 114 columns</p>\n",
       "</div>"
      ],
      "text/plain": [
       "            retail_1  foreigner_1  institution_1  financial_1  invtrust_1  \\\n",
       "2024-07-02  -3.12557     -2.07475        1.21200     -0.28956    -0.32678   \n",
       "2024-07-03  -0.29667      1.13306       -3.66030     -3.57668    -0.81194   \n",
       "2024-07-04  -0.65650     -1.01889       -1.31039     -1.55803     6.14413   \n",
       "2024-07-05  42.29731   -198.28609       18.64939      7.53266    -4.21864   \n",
       "2024-07-08   0.40293      0.77278       -0.00173      0.35210     0.23207   \n",
       "\n",
       "            pension_1  privequity_1    bank_1  insurance_1  financeetc_1  ...  \\\n",
       "2024-07-02   -2.24219      -9.01643  -1.01653     -2.26260       7.25000  ...   \n",
       "2024-07-03   -1.23542      -0.20932 -11.72222      8.61555      -3.57576  ...   \n",
       "2024-07-04    0.39094      -1.54811  -0.72021     -0.25934      -0.17843  ...   \n",
       "2024-07-05  -21.48092       3.61510 -10.57407     -4.48584      -2.29833  ...   \n",
       "2024-07-08   -0.65860      -0.36173  22.09091      0.61623       8.46691  ...   \n",
       "\n",
       "             high_2    low_2  close_2    vol_2  weekday  cr_00 cr_05 cr_10  \\\n",
       "2024-07-02  0.00613  0.00994  0.00245 -0.03599        0      0     0     0   \n",
       "2024-07-03  0.00855  0.00866  0.00368  0.53046        1      0     0     0   \n",
       "2024-07-04  0.00244 -0.00369  0.00000  0.01088        2      1     1     1   \n",
       "2024-07-05  0.02542  0.01104  0.03423  2.03051        3      1     1     1   \n",
       "2024-07-08  0.05832  0.05185  0.06479  2.99148        4      0     0     0   \n",
       "\n",
       "            cr_15  cr_20  \n",
       "2024-07-02      0      0  \n",
       "2024-07-03      0      0  \n",
       "2024-07-04      1      1  \n",
       "2024-07-05      1      1  \n",
       "2024-07-08      0      0  \n",
       "\n",
       "[5 rows x 114 columns]"
      ]
     },
     "execution_count": 20,
     "metadata": {},
     "output_type": "execute_result"
    }
   ],
   "source": [
    "df_sec_combine.tail()"
   ]
  },
  {
   "cell_type": "code",
   "execution_count": 21,
   "id": "bf7224df",
   "metadata": {},
   "outputs": [],
   "source": [
    "nanlo = locate_nan(df_sec_combine)  # nan 위치 찾기"
   ]
  },
  {
   "cell_type": "code",
   "execution_count": 22,
   "id": "2f63d7f5",
   "metadata": {},
   "outputs": [
    {
     "name": "stdout",
     "output_type": "stream",
     "text": [
      "[[datetime.date(2022, 1, 18) 'dji_cr']\n",
      " [datetime.date(2022, 1, 18) 'dji_f_cr']\n",
      " [datetime.date(2022, 1, 18) 'dxy_cr']\n",
      " ...\n",
      " [datetime.date(2024, 7, 8) 'ixut_cr_2']\n",
      " [datetime.date(2024, 7, 8) 'nbi_cr_2']\n",
      " [datetime.date(2024, 7, 8) 'bkx_cr_2']]\n"
     ]
    }
   ],
   "source": [
    "print(nanlo)"
   ]
  },
  {
   "cell_type": "code",
   "execution_count": 23,
   "id": "21a6d628",
   "metadata": {},
   "outputs": [],
   "source": [
    "# delete rows which include NaN : dji, spx, nasdaq 기타 common 지수중 한개라도 nan인 rows 제거\n",
    "for key, val in code.items():\n",
    "    globals()['df_{}_combine'.format(val[1])].dropna(inplace=True)"
   ]
  },
  {
   "cell_type": "code",
   "execution_count": 24,
   "id": "c6f3061c",
   "metadata": {},
   "outputs": [],
   "source": [
    "# string column을 numeric으로 전환\n",
    "def string_to_num(df):\n",
    "    df.replace('%', '', regex=True, inplace=True)\n",
    "    df = df.apply(pd.to_numeric)\n",
    "    return df\n",
    "\n",
    "for key, val in code.items():\n",
    "    globals()['df_{}_combine'.format(val[1])] = string_to_num(globals()['df_{}_combine'.format(val[1])])"
   ]
  },
  {
   "cell_type": "code",
   "execution_count": 25,
   "id": "7e8d5acf",
   "metadata": {},
   "outputs": [],
   "source": [
    "# pickle로 데이터 저장\n",
    "\n",
    "for key, val in code.items():\n",
    "    globals()[f'df_{val[1]}_combine'].to_pickle(directory_for_predict + f'df_{val[1]}_combine.pkl')\n",
    "    globals()[f'df_{val[1]}_combine'].to_csv(directory_for_predict + f'df_{val[1]}_combine.csv')"
   ]
  },
  {
   "cell_type": "code",
   "execution_count": null,
   "id": "a01825d3",
   "metadata": {},
   "outputs": [],
   "source": []
  },
  {
   "cell_type": "code",
   "execution_count": null,
   "id": "3300e5b2",
   "metadata": {},
   "outputs": [],
   "source": []
  },
  {
   "cell_type": "code",
   "execution_count": null,
   "id": "1ffeab80",
   "metadata": {},
   "outputs": [],
   "source": []
  },
  {
   "cell_type": "code",
   "execution_count": null,
   "id": "a1f7c9d1",
   "metadata": {},
   "outputs": [],
   "source": []
  },
  {
   "cell_type": "code",
   "execution_count": null,
   "id": "bc80b897",
   "metadata": {},
   "outputs": [],
   "source": []
  }
 ],
 "metadata": {
  "kernelspec": {
   "display_name": "Python 3 (ipykernel)",
   "language": "python",
   "name": "python3"
  },
  "language_info": {
   "codemirror_mode": {
    "name": "ipython",
    "version": 3
   },
   "file_extension": ".py",
   "mimetype": "text/x-python",
   "name": "python",
   "nbconvert_exporter": "python",
   "pygments_lexer": "ipython3",
   "version": "3.12.2"
  }
 },
 "nbformat": 4,
 "nbformat_minor": 5
}
