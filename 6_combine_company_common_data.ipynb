{
 "cells": [
  {
   "cell_type": "markdown",
   "id": "459ff0ca",
   "metadata": {},
   "source": [
    "## combine company data and common data"
   ]
  },
  {
   "cell_type": "code",
   "execution_count": 1,
   "id": "d3b5a935",
   "metadata": {},
   "outputs": [],
   "source": [
    "import datetime, time\n",
    "from datetime import date\n",
    "\n",
    "import pandas as pd\n",
    "import numpy as np\n",
    "import os\n",
    "import sys\n",
    "\n",
    "from sklearn.preprocessing import StandardScaler"
   ]
  },
  {
   "cell_type": "code",
   "execution_count": 2,
   "id": "8ef51f99",
   "metadata": {},
   "outputs": [],
   "source": [
    "module_path = os.path.abspath(os.path.join('.')) \n",
    "sys.path.append(module_path+\"\\\\data\\\\constant\")\n",
    "\n",
    "from constants import COMPANY_CODE"
   ]
  },
  {
   "cell_type": "code",
   "execution_count": 3,
   "id": "9ea60572",
   "metadata": {},
   "outputs": [
    {
     "data": {
      "text/plain": [
       "\" \\n[[datetime.date(2022, 1, 17) 'dji_cr']\\n [datetime.date(2022, 1, 17) 'dji_f_cr']\\n ...\\n [datetime.date(2023, 5, 23) 'kosdaq_cr']\\n [datetime.date(2023, 5, 23) 'kosdaq_cr_2']]\\n\""
      ]
     },
     "execution_count": 3,
     "metadata": {},
     "output_type": "execute_result"
    }
   ],
   "source": [
    "def locate_nan(df):\n",
    "    idx, idy = np.where(pd.isnull(df))\n",
    "    result = np.column_stack([df.index[idx], df.columns[idy]])\n",
    "    return result\n",
    "\n",
    "# return format\n",
    "''' \n",
    "[[datetime.date(2022, 1, 17) 'dji_cr']\n",
    " [datetime.date(2022, 1, 17) 'dji_f_cr']\n",
    " ...\n",
    " [datetime.date(2023, 5, 23) 'kosdaq_cr']\n",
    " [datetime.date(2023, 5, 23) 'kosdaq_cr_2']]\n",
    "'''"
   ]
  },
  {
   "cell_type": "code",
   "execution_count": 4,
   "id": "d6f9e0c8",
   "metadata": {},
   "outputs": [],
   "source": [
    "code = COMPANY_CODE\n",
    "\n",
    "# code = {'005930': ['삼성전자', 'sec'], '005380': ['현대차', 'hyunmotor'],\n",
    "#                  '035420': ['NAVER', 'naver'], '033780': ['KT&G', 'ktng']}\n",
    "# code = {'005930': ['삼성전자', 'sec'], '000660': ['SK하이닉스', 'skhynix']}\n",
    "# code = {'302440': ['SK바이오사이언스', 'skbio']}"
   ]
  },
  {
   "cell_type": "code",
   "execution_count": 5,
   "id": "1ced9635",
   "metadata": {},
   "outputs": [],
   "source": [
    "directory_for_predict = './data/data_for_ml/predict/'\n",
    "pkl_common_directory = './data/common_pkl/'\n",
    "pkl_directory = './data/common_pkl/'"
   ]
  },
  {
   "cell_type": "code",
   "execution_count": 6,
   "id": "a4ac3c16",
   "metadata": {},
   "outputs": [],
   "source": [
    "df_common = pd.read_pickle(directory_for_predict + '0_df_common.pkl')"
   ]
  },
  {
   "cell_type": "code",
   "execution_count": 7,
   "id": "82d5ae58",
   "metadata": {},
   "outputs": [],
   "source": [
    "for key, val in code.items():\n",
    "    df_company = pd.read_pickle(directory_for_predict + f'df_{val[1]}_company.pkl')\n",
    "    df_company = df_company.merge(df_common, how='left', left_index=True, right_index=True)\n",
    "    globals()[f'df_{val[1]}_combine'] = df_company.copy()"
   ]
  },
  {
   "cell_type": "code",
   "execution_count": 8,
   "id": "6c798e31",
   "metadata": {},
   "outputs": [
    {
     "data": {
      "text/html": [
       "<div>\n",
       "<style scoped>\n",
       "    .dataframe tbody tr th:only-of-type {\n",
       "        vertical-align: middle;\n",
       "    }\n",
       "\n",
       "    .dataframe tbody tr th {\n",
       "        vertical-align: top;\n",
       "    }\n",
       "\n",
       "    .dataframe thead th {\n",
       "        text-align: right;\n",
       "    }\n",
       "</style>\n",
       "<table border=\"1\" class=\"dataframe\">\n",
       "  <thead>\n",
       "    <tr style=\"text-align: right;\">\n",
       "      <th></th>\n",
       "      <th>retail_1</th>\n",
       "      <th>foreigner_1</th>\n",
       "      <th>institution_1</th>\n",
       "      <th>financial_1</th>\n",
       "      <th>invtrust_1</th>\n",
       "      <th>pension_1</th>\n",
       "      <th>privequity_1</th>\n",
       "      <th>bank_1</th>\n",
       "      <th>insurance_1</th>\n",
       "      <th>financeetc_1</th>\n",
       "      <th>...</th>\n",
       "      <th>ixk_cr</th>\n",
       "      <th>ixk_cr_2</th>\n",
       "      <th>ixtr_cr</th>\n",
       "      <th>ixtr_cr_2</th>\n",
       "      <th>ixut_cr</th>\n",
       "      <th>ixut_cr_2</th>\n",
       "      <th>nbi_cr</th>\n",
       "      <th>nbi_cr_2</th>\n",
       "      <th>bkx_cr</th>\n",
       "      <th>bkx_cr_2</th>\n",
       "    </tr>\n",
       "  </thead>\n",
       "  <tbody>\n",
       "    <tr>\n",
       "      <th>2024-07-24</th>\n",
       "      <td>-4.47333</td>\n",
       "      <td>0.28063</td>\n",
       "      <td>-0.76457</td>\n",
       "      <td>-5.27133</td>\n",
       "      <td>-1.24717</td>\n",
       "      <td>-0.97872</td>\n",
       "      <td>12.63780</td>\n",
       "      <td>-0.97112</td>\n",
       "      <td>-2.13358</td>\n",
       "      <td>-0.40741</td>\n",
       "      <td>...</td>\n",
       "      <td>-0.11%</td>\n",
       "      <td>1.94087</td>\n",
       "      <td>-2.66%</td>\n",
       "      <td>-2.54006</td>\n",
       "      <td>-0.67%</td>\n",
       "      <td>-2.11372</td>\n",
       "      <td>-0.41%</td>\n",
       "      <td>0.80963</td>\n",
       "      <td>0.73%</td>\n",
       "      <td>1.23709</td>\n",
       "    </tr>\n",
       "    <tr>\n",
       "      <th>2024-07-25</th>\n",
       "      <td>-2.62690</td>\n",
       "      <td>-2.33184</td>\n",
       "      <td>-1.26458</td>\n",
       "      <td>-1.11710</td>\n",
       "      <td>-0.52489</td>\n",
       "      <td>-1.28406</td>\n",
       "      <td>-1.05139</td>\n",
       "      <td>-11.79167</td>\n",
       "      <td>-1.33983</td>\n",
       "      <td>-1.10417</td>\n",
       "      <td>...</td>\n",
       "      <td>-4.51%</td>\n",
       "      <td>-4.61510</td>\n",
       "      <td>-0.72%</td>\n",
       "      <td>-3.36145</td>\n",
       "      <td>-0.39%</td>\n",
       "      <td>-1.05614</td>\n",
       "      <td>0.01%</td>\n",
       "      <td>-0.40042</td>\n",
       "      <td>-0.78%</td>\n",
       "      <td>-0.06199</td>\n",
       "    </tr>\n",
       "    <tr>\n",
       "      <th>2024-07-26</th>\n",
       "      <td>0.21215</td>\n",
       "      <td>0.09823</td>\n",
       "      <td>-1.83567</td>\n",
       "      <td>-0.19843</td>\n",
       "      <td>-1.87262</td>\n",
       "      <td>-3.19512</td>\n",
       "      <td>-8.25843</td>\n",
       "      <td>-6.40541</td>\n",
       "      <td>0.39194</td>\n",
       "      <td>-70.00000</td>\n",
       "      <td>...</td>\n",
       "      <td>-1.61%</td>\n",
       "      <td>-6.04852</td>\n",
       "      <td>1.81%</td>\n",
       "      <td>1.08379</td>\n",
       "      <td>0.29%</td>\n",
       "      <td>-0.09850</td>\n",
       "      <td>1.14%</td>\n",
       "      <td>1.14851</td>\n",
       "      <td>1.20%</td>\n",
       "      <td>0.40439</td>\n",
       "    </tr>\n",
       "    <tr>\n",
       "      <th>2024-07-29</th>\n",
       "      <td>1.64157</td>\n",
       "      <td>1.21828</td>\n",
       "      <td>14.49195</td>\n",
       "      <td>-17.48620</td>\n",
       "      <td>5.86085</td>\n",
       "      <td>-34.41852</td>\n",
       "      <td>-9.21672</td>\n",
       "      <td>-0.59000</td>\n",
       "      <td>0.61667</td>\n",
       "      <td>-0.69275</td>\n",
       "      <td>...</td>\n",
       "      <td>1.06%</td>\n",
       "      <td>-0.57060</td>\n",
       "      <td>0.02%</td>\n",
       "      <td>1.82833</td>\n",
       "      <td>2.85%</td>\n",
       "      <td>3.14647</td>\n",
       "      <td>0.54%</td>\n",
       "      <td>1.68207</td>\n",
       "      <td>0.95%</td>\n",
       "      <td>2.16197</td>\n",
       "    </tr>\n",
       "    <tr>\n",
       "      <th>2024-07-30</th>\n",
       "      <td>-1.61430</td>\n",
       "      <td>-1.35576</td>\n",
       "      <td>-2.43929</td>\n",
       "      <td>-1.63530</td>\n",
       "      <td>-2.46729</td>\n",
       "      <td>-0.64513</td>\n",
       "      <td>-2.78994</td>\n",
       "      <td>-0.83972</td>\n",
       "      <td>-0.98752</td>\n",
       "      <td>0.25472</td>\n",
       "      <td>...</td>\n",
       "      <td>NaN</td>\n",
       "      <td>NaN</td>\n",
       "      <td>NaN</td>\n",
       "      <td>NaN</td>\n",
       "      <td>NaN</td>\n",
       "      <td>NaN</td>\n",
       "      <td>NaN</td>\n",
       "      <td>NaN</td>\n",
       "      <td>NaN</td>\n",
       "      <td>NaN</td>\n",
       "    </tr>\n",
       "  </tbody>\n",
       "</table>\n",
       "<p>5 rows × 114 columns</p>\n",
       "</div>"
      ],
      "text/plain": [
       "            retail_1  foreigner_1  institution_1  financial_1  invtrust_1  \\\n",
       "2024-07-24  -4.47333      0.28063       -0.76457     -5.27133    -1.24717   \n",
       "2024-07-25  -2.62690     -2.33184       -1.26458     -1.11710    -0.52489   \n",
       "2024-07-26   0.21215      0.09823       -1.83567     -0.19843    -1.87262   \n",
       "2024-07-29   1.64157      1.21828       14.49195    -17.48620     5.86085   \n",
       "2024-07-30  -1.61430     -1.35576       -2.43929     -1.63530    -2.46729   \n",
       "\n",
       "            pension_1  privequity_1    bank_1  insurance_1  financeetc_1  ...  \\\n",
       "2024-07-24   -0.97872      12.63780  -0.97112     -2.13358      -0.40741  ...   \n",
       "2024-07-25   -1.28406      -1.05139 -11.79167     -1.33983      -1.10417  ...   \n",
       "2024-07-26   -3.19512      -8.25843  -6.40541      0.39194     -70.00000  ...   \n",
       "2024-07-29  -34.41852      -9.21672  -0.59000      0.61667      -0.69275  ...   \n",
       "2024-07-30   -0.64513      -2.78994  -0.83972     -0.98752       0.25472  ...   \n",
       "\n",
       "            ixk_cr  ixk_cr_2  ixtr_cr  ixtr_cr_2  ixut_cr  ixut_cr_2  nbi_cr  \\\n",
       "2024-07-24  -0.11%   1.94087   -2.66%   -2.54006   -0.67%   -2.11372  -0.41%   \n",
       "2024-07-25  -4.51%  -4.61510   -0.72%   -3.36145   -0.39%   -1.05614   0.01%   \n",
       "2024-07-26  -1.61%  -6.04852    1.81%    1.08379    0.29%   -0.09850   1.14%   \n",
       "2024-07-29   1.06%  -0.57060    0.02%    1.82833    2.85%    3.14647   0.54%   \n",
       "2024-07-30     NaN       NaN      NaN        NaN      NaN        NaN     NaN   \n",
       "\n",
       "            nbi_cr_2  bkx_cr  bkx_cr_2  \n",
       "2024-07-24   0.80963   0.73%   1.23709  \n",
       "2024-07-25  -0.40042  -0.78%  -0.06199  \n",
       "2024-07-26   1.14851   1.20%   0.40439  \n",
       "2024-07-29   1.68207   0.95%   2.16197  \n",
       "2024-07-30       NaN     NaN       NaN  \n",
       "\n",
       "[5 rows x 114 columns]"
      ]
     },
     "execution_count": 8,
     "metadata": {},
     "output_type": "execute_result"
    }
   ],
   "source": [
    "df_hyunmotor_combine.tail()"
   ]
  },
  {
   "cell_type": "code",
   "execution_count": 9,
   "id": "aeab3342",
   "metadata": {},
   "outputs": [
    {
     "data": {
      "text/plain": [
       "datetime.date(2022, 1, 7)"
      ]
     },
     "execution_count": 9,
     "metadata": {},
     "output_type": "execute_result"
    }
   ],
   "source": [
    "df_hyunmotor_combine.index[0]"
   ]
  },
  {
   "cell_type": "code",
   "execution_count": 10,
   "id": "587ac2cd",
   "metadata": {},
   "outputs": [],
   "source": [
    "col_inv1 = ['retail_1', 'foreigner_1', 'institution_1', 'financial_1', 'invtrust_1', 'pension_1', 'privequity_1', \n",
    "            'bank_1', 'insurance_1', 'financeetc_1', 'corporateetc_1', 'foreigneretc_1']\n",
    "col_inv2 = ['retail_2', 'foreigner_2', 'institution_2', 'financial_2', 'invtrust_2', 'pension_2',\n",
    "            'privequity_2', 'bank_2', 'insurance_2', 'financeetc_2', 'corporateetc_2', 'foreigneretc_2']"
   ]
  },
  {
   "cell_type": "code",
   "execution_count": 11,
   "id": "76ca8389",
   "metadata": {},
   "outputs": [],
   "source": [
    "col_his1 = ['open_1', 'high_1', 'low_1', 'close_1', 'vol_1']\n",
    "col_his2 = ['open_2', 'high_2', 'low_2', 'close_2', 'vol_2']"
   ]
  },
  {
   "cell_type": "code",
   "execution_count": 12,
   "id": "8a6b4bac",
   "metadata": {},
   "outputs": [],
   "source": [
    "col_common1 = [\"dji_cr\", \"dji_f_cr\", \"dxy_cr\", \"ixic_f_cr\", \"bond_kor_10_cr\", \"bond_kor_2_cr\", \"kosdaq_cr\", \"kospi_cr\", \n",
    "         \"krw_cr\", \"ixic_cr\", \"spx_f_cr\", \"sox_cr\", \"spx_cr\", \"bond_usa_10_cr\", \"bond_usa_2_cr\", \"bond_usa_3m_cr\", \n",
    "         \"vix_cr\", \"wti_cr\", \"spsy_cr\", \"spny_cr\", \"spxhc_cr\", \"splrcd_cr\", \"splrci_cr\", \"splrcu_cr\", \"splrcs_cr\",\n",
    "         \"splrct_cr\", \"splrcl_cr\", \"splrcm_cr\", \"ixbk_cr\", \"ixfn_cr\", \"ixid_cr\", \"ixis_cr\", \"ixk_cr\", \"ixtr_cr\",\n",
    "         \"ixut_cr\", \"nbi_cr\", \"bkx_cr\"]\n",
    "col_common2 = [\"dji_cr_2\", \"dji_f_cr_2\", \"dxy_cr_2\", \"ixic_f_cr_2\", \"bond_kor_10_cr_2\", \"bond_kor_2_cr_2\", \"kosdaq_cr_2\", \"kospi_cr_2\",\n",
    "         \"krw_cr_2\", \"ixic_cr_2\", \"spx_f_cr_2\", \"sox_cr_2\", \"spx_cr_2\", \"bond_usa_10_cr_2\", \"bond_usa_2_cr_2\", \"bond_usa_3m_cr_2\",\n",
    "         \"vix_cr_2\", \"wti_cr_2\", \"spsy_cr_2\", \"spny_cr_2\", \"spxhc_cr_2\", \"splrcd_cr_2\", \"splrci_cr_2\", \"splrcu_cr_2\",\n",
    "         \"splrcs_cr_2\", \"splrct_cr_2\", \"splrcl_cr_2\", \"splrcm_cr_2\", \"ixbk_cr_2\", \"ixfn_cr_2\", \"ixid_cr_2\",\n",
    "         \"ixis_cr_2\", \"ixk_cr_2\", \"ixtr_cr_2\", \"ixut_cr_2\", \"nbi_cr_2\", \"bkx_cr_2\"]"
   ]
  },
  {
   "cell_type": "code",
   "execution_count": 13,
   "id": "9a595935",
   "metadata": {},
   "outputs": [],
   "source": [
    "col_cr = ['weekday', 'cr_00', 'cr_05', 'cr_10', 'cr_15', 'cr_20']"
   ]
  },
  {
   "cell_type": "code",
   "execution_count": 14,
   "id": "75ec6070",
   "metadata": {},
   "outputs": [],
   "source": [
    "col_col = col_inv1 + col_common1 + col_his1 + col_inv2 + col_common2 + col_his2 + col_cr"
   ]
  },
  {
   "cell_type": "code",
   "execution_count": 15,
   "id": "ff6769da",
   "metadata": {},
   "outputs": [],
   "source": [
    "# # write common data only\n",
    "# df_temp = df_common.copy()\n",
    "# df_temp = df_temp[col_common1+col_common2]\n",
    "# pkl_common_directory = './data/common_pkl/'\n",
    "# df_temp.to_pickle(pkl_common_directory + 'df_common.pkl')\n",
    "# df_temp.to_csv(pkl_common_directory + 'df_common.csv')"
   ]
  },
  {
   "cell_type": "code",
   "execution_count": 16,
   "id": "c78c8f82",
   "metadata": {},
   "outputs": [],
   "source": [
    "new_columns = col_col"
   ]
  },
  {
   "cell_type": "code",
   "execution_count": 17,
   "id": "02da1256",
   "metadata": {},
   "outputs": [],
   "source": [
    "# column 순서 변경 : weekday, 'cr_00', 'cr_05', 'cr_10', 'cr_15', 'cr_20' column을 마지막으로 이동 \n",
    "for key, val in code.items():\n",
    "    globals()['df_{}_combine'.format(val[1])] = globals()['df_{}_combine'.format(val[1])][new_columns]"
   ]
  },
  {
   "cell_type": "code",
   "execution_count": 18,
   "id": "d4f1fa06",
   "metadata": {},
   "outputs": [
    {
     "data": {
      "text/plain": [
       "'\\n# drop inf, -inf : replace inf to 1 or -1 . 데이터를 살리고\\n# 변동률이 무한대가 되는 것을 방지하기 위해서, 나중에 발생하는 에러를 방지\\ndf_sec_sel.replace([np.inf, -np.inf], [1, -1], inplace=True)\\n\\n.impute 사용하는 것을 고려할 필요 있음.\\n'"
      ]
     },
     "execution_count": 18,
     "metadata": {},
     "output_type": "execute_result"
    }
   ],
   "source": [
    "'''\n",
    "# drop inf, -inf : replace inf to 1 or -1 . 데이터를 살리고\n",
    "# 변동률이 무한대가 되는 것을 방지하기 위해서, 나중에 발생하는 에러를 방지\n",
    "df_sec_sel.replace([np.inf, -np.inf], [1, -1], inplace=True)\n",
    "\n",
    ".impute 사용하는 것을 고려할 필요 있음.\n",
    "'''"
   ]
  },
  {
   "cell_type": "code",
   "execution_count": 19,
   "id": "7e91c1c5",
   "metadata": {},
   "outputs": [],
   "source": [
    "# drop inf, -inf : replace inf to 1 or -1 . 데이터를 살리고\n",
    "# 변동률이 무한대가 되는 것을 방지하기 위해서, 나중에 발생하는 에러를 방지\n",
    "for key, val in code.items():\n",
    "    globals()['df_{}_combine'.format(val[1])].replace([np.inf, -np.inf], [1, -1], inplace=True)\n",
    "\n",
    "# **** 데이터 전처리 from sklearn.impute import SimpleImputer, SimpleImputer 사용하기로 함."
   ]
  },
  {
   "cell_type": "code",
   "execution_count": 20,
   "id": "3fa3914b",
   "metadata": {},
   "outputs": [
    {
     "data": {
      "text/html": [
       "<div>\n",
       "<style scoped>\n",
       "    .dataframe tbody tr th:only-of-type {\n",
       "        vertical-align: middle;\n",
       "    }\n",
       "\n",
       "    .dataframe tbody tr th {\n",
       "        vertical-align: top;\n",
       "    }\n",
       "\n",
       "    .dataframe thead th {\n",
       "        text-align: right;\n",
       "    }\n",
       "</style>\n",
       "<table border=\"1\" class=\"dataframe\">\n",
       "  <thead>\n",
       "    <tr style=\"text-align: right;\">\n",
       "      <th></th>\n",
       "      <th>retail_1</th>\n",
       "      <th>foreigner_1</th>\n",
       "      <th>institution_1</th>\n",
       "      <th>financial_1</th>\n",
       "      <th>invtrust_1</th>\n",
       "      <th>pension_1</th>\n",
       "      <th>privequity_1</th>\n",
       "      <th>bank_1</th>\n",
       "      <th>insurance_1</th>\n",
       "      <th>financeetc_1</th>\n",
       "      <th>...</th>\n",
       "      <th>high_2</th>\n",
       "      <th>low_2</th>\n",
       "      <th>close_2</th>\n",
       "      <th>vol_2</th>\n",
       "      <th>weekday</th>\n",
       "      <th>cr_00</th>\n",
       "      <th>cr_05</th>\n",
       "      <th>cr_10</th>\n",
       "      <th>cr_15</th>\n",
       "      <th>cr_20</th>\n",
       "    </tr>\n",
       "  </thead>\n",
       "  <tbody>\n",
       "    <tr>\n",
       "      <th>2024-07-24</th>\n",
       "      <td>-1.66583</td>\n",
       "      <td>-7.78407</td>\n",
       "      <td>6.06655</td>\n",
       "      <td>-3.21273</td>\n",
       "      <td>-0.77945</td>\n",
       "      <td>-0.33344</td>\n",
       "      <td>-0.47741</td>\n",
       "      <td>-0.83376</td>\n",
       "      <td>-1.20040</td>\n",
       "      <td>-0.69178</td>\n",
       "      <td>...</td>\n",
       "      <td>-0.01626</td>\n",
       "      <td>-0.00832</td>\n",
       "      <td>-0.00592</td>\n",
       "      <td>-0.15094</td>\n",
       "      <td>1</td>\n",
       "      <td>0</td>\n",
       "      <td>0</td>\n",
       "      <td>0</td>\n",
       "      <td>0</td>\n",
       "      <td>0</td>\n",
       "    </tr>\n",
       "    <tr>\n",
       "      <th>2024-07-25</th>\n",
       "      <td>-5.94972</td>\n",
       "      <td>-2.04113</td>\n",
       "      <td>-0.71304</td>\n",
       "      <td>-0.80731</td>\n",
       "      <td>-0.32538</td>\n",
       "      <td>-0.49382</td>\n",
       "      <td>-0.23971</td>\n",
       "      <td>-0.07975</td>\n",
       "      <td>-3.31436</td>\n",
       "      <td>6.37778</td>\n",
       "      <td>...</td>\n",
       "      <td>-0.01885</td>\n",
       "      <td>-0.00847</td>\n",
       "      <td>-0.01205</td>\n",
       "      <td>-0.10789</td>\n",
       "      <td>2</td>\n",
       "      <td>0</td>\n",
       "      <td>0</td>\n",
       "      <td>0</td>\n",
       "      <td>0</td>\n",
       "      <td>0</td>\n",
       "    </tr>\n",
       "    <tr>\n",
       "      <th>2024-07-26</th>\n",
       "      <td>-0.46799</td>\n",
       "      <td>-1.07218</td>\n",
       "      <td>2.69695</td>\n",
       "      <td>5.43252</td>\n",
       "      <td>-0.66508</td>\n",
       "      <td>1.39460</td>\n",
       "      <td>-4.32220</td>\n",
       "      <td>-14.59000</td>\n",
       "      <td>-5.26310</td>\n",
       "      <td>-9.13253</td>\n",
       "      <td>...</td>\n",
       "      <td>-0.04368</td>\n",
       "      <td>-0.03957</td>\n",
       "      <td>-0.04172</td>\n",
       "      <td>0.28906</td>\n",
       "      <td>3</td>\n",
       "      <td>1</td>\n",
       "      <td>1</td>\n",
       "      <td>0</td>\n",
       "      <td>0</td>\n",
       "      <td>0</td>\n",
       "    </tr>\n",
       "    <tr>\n",
       "      <th>2024-07-29</th>\n",
       "      <td>-0.37688</td>\n",
       "      <td>-10.25354</td>\n",
       "      <td>-1.38306</td>\n",
       "      <td>-1.61681</td>\n",
       "      <td>-5.70278</td>\n",
       "      <td>-0.63615</td>\n",
       "      <td>-2.80531</td>\n",
       "      <td>-0.79102</td>\n",
       "      <td>-2.14902</td>\n",
       "      <td>-0.63889</td>\n",
       "      <td>...</td>\n",
       "      <td>-0.02401</td>\n",
       "      <td>-0.01832</td>\n",
       "      <td>-0.01341</td>\n",
       "      <td>-0.14350</td>\n",
       "      <td>4</td>\n",
       "      <td>1</td>\n",
       "      <td>0</td>\n",
       "      <td>0</td>\n",
       "      <td>0</td>\n",
       "      <td>0</td>\n",
       "    </tr>\n",
       "    <tr>\n",
       "      <th>2024-07-30</th>\n",
       "      <td>-0.61407</td>\n",
       "      <td>-1.03051</td>\n",
       "      <td>-1.78236</td>\n",
       "      <td>-1.19384</td>\n",
       "      <td>-0.48215</td>\n",
       "      <td>0.57865</td>\n",
       "      <td>-0.16744</td>\n",
       "      <td>-1.81808</td>\n",
       "      <td>-0.72795</td>\n",
       "      <td>-1.44410</td>\n",
       "      <td>...</td>\n",
       "      <td>0.01235</td>\n",
       "      <td>0.01248</td>\n",
       "      <td>0.00995</td>\n",
       "      <td>-0.37316</td>\n",
       "      <td>0</td>\n",
       "      <td>0</td>\n",
       "      <td>0</td>\n",
       "      <td>0</td>\n",
       "      <td>0</td>\n",
       "      <td>0</td>\n",
       "    </tr>\n",
       "  </tbody>\n",
       "</table>\n",
       "<p>5 rows × 114 columns</p>\n",
       "</div>"
      ],
      "text/plain": [
       "            retail_1  foreigner_1  institution_1  financial_1  invtrust_1  \\\n",
       "2024-07-24  -1.66583     -7.78407        6.06655     -3.21273    -0.77945   \n",
       "2024-07-25  -5.94972     -2.04113       -0.71304     -0.80731    -0.32538   \n",
       "2024-07-26  -0.46799     -1.07218        2.69695      5.43252    -0.66508   \n",
       "2024-07-29  -0.37688    -10.25354       -1.38306     -1.61681    -5.70278   \n",
       "2024-07-30  -0.61407     -1.03051       -1.78236     -1.19384    -0.48215   \n",
       "\n",
       "            pension_1  privequity_1    bank_1  insurance_1  financeetc_1  ...  \\\n",
       "2024-07-24   -0.33344      -0.47741  -0.83376     -1.20040      -0.69178  ...   \n",
       "2024-07-25   -0.49382      -0.23971  -0.07975     -3.31436       6.37778  ...   \n",
       "2024-07-26    1.39460      -4.32220 -14.59000     -5.26310      -9.13253  ...   \n",
       "2024-07-29   -0.63615      -2.80531  -0.79102     -2.14902      -0.63889  ...   \n",
       "2024-07-30    0.57865      -0.16744  -1.81808     -0.72795      -1.44410  ...   \n",
       "\n",
       "             high_2    low_2  close_2    vol_2  weekday  cr_00 cr_05 cr_10  \\\n",
       "2024-07-24 -0.01626 -0.00832 -0.00592 -0.15094        1      0     0     0   \n",
       "2024-07-25 -0.01885 -0.00847 -0.01205 -0.10789        2      0     0     0   \n",
       "2024-07-26 -0.04368 -0.03957 -0.04172  0.28906        3      1     1     0   \n",
       "2024-07-29 -0.02401 -0.01832 -0.01341 -0.14350        4      1     0     0   \n",
       "2024-07-30  0.01235  0.01248  0.00995 -0.37316        0      0     0     0   \n",
       "\n",
       "            cr_15  cr_20  \n",
       "2024-07-24      0      0  \n",
       "2024-07-25      0      0  \n",
       "2024-07-26      0      0  \n",
       "2024-07-29      0      0  \n",
       "2024-07-30      0      0  \n",
       "\n",
       "[5 rows x 114 columns]"
      ]
     },
     "execution_count": 20,
     "metadata": {},
     "output_type": "execute_result"
    }
   ],
   "source": [
    "df_sec_combine.tail()"
   ]
  },
  {
   "cell_type": "code",
   "execution_count": 21,
   "id": "bf7224df",
   "metadata": {},
   "outputs": [],
   "source": [
    "nanlo = locate_nan(df_sec_combine)  # nan 위치 찾기"
   ]
  },
  {
   "cell_type": "code",
   "execution_count": 22,
   "id": "2f63d7f5",
   "metadata": {},
   "outputs": [
    {
     "name": "stdout",
     "output_type": "stream",
     "text": [
      "[[datetime.date(2022, 1, 18) 'dji_cr']\n",
      " [datetime.date(2022, 1, 18) 'dji_f_cr']\n",
      " [datetime.date(2022, 1, 18) 'dxy_cr']\n",
      " ...\n",
      " [datetime.date(2024, 7, 30) 'ixut_cr_2']\n",
      " [datetime.date(2024, 7, 30) 'nbi_cr_2']\n",
      " [datetime.date(2024, 7, 30) 'bkx_cr_2']]\n"
     ]
    }
   ],
   "source": [
    "print(nanlo)"
   ]
  },
  {
   "cell_type": "code",
   "execution_count": 23,
   "id": "21a6d628",
   "metadata": {},
   "outputs": [],
   "source": [
    "# delete rows which include NaN : dji, spx, nasdaq 기타 common 지수중 한개라도 nan인 rows 제거\n",
    "for key, val in code.items():\n",
    "    globals()['df_{}_combine'.format(val[1])].dropna(inplace=True)"
   ]
  },
  {
   "cell_type": "code",
   "execution_count": 24,
   "id": "c6f3061c",
   "metadata": {},
   "outputs": [],
   "source": [
    "# string column을 numeric으로 전환\n",
    "def string_to_num(df):\n",
    "    df.replace('%', '', regex=True, inplace=True)\n",
    "    df = df.apply(pd.to_numeric)\n",
    "    return df\n",
    "\n",
    "for key, val in code.items():\n",
    "    globals()['df_{}_combine'.format(val[1])] = string_to_num(globals()['df_{}_combine'.format(val[1])])"
   ]
  },
  {
   "cell_type": "code",
   "execution_count": 25,
   "id": "7e8d5acf",
   "metadata": {},
   "outputs": [],
   "source": [
    "# pickle로 데이터 저장\n",
    "\n",
    "for key, val in code.items():\n",
    "    globals()[f'df_{val[1]}_combine'].to_pickle(directory_for_predict + f'df_{val[1]}_combine.pkl')\n",
    "    globals()[f'df_{val[1]}_combine'].to_csv(directory_for_predict + f'df_{val[1]}_combine.csv')"
   ]
  },
  {
   "cell_type": "code",
   "execution_count": null,
   "id": "a01825d3",
   "metadata": {},
   "outputs": [],
   "source": []
  },
  {
   "cell_type": "code",
   "execution_count": null,
   "id": "3300e5b2",
   "metadata": {},
   "outputs": [],
   "source": []
  },
  {
   "cell_type": "code",
   "execution_count": null,
   "id": "1ffeab80",
   "metadata": {},
   "outputs": [],
   "source": []
  },
  {
   "cell_type": "code",
   "execution_count": null,
   "id": "a1f7c9d1",
   "metadata": {},
   "outputs": [],
   "source": []
  },
  {
   "cell_type": "code",
   "execution_count": null,
   "id": "bc80b897",
   "metadata": {},
   "outputs": [],
   "source": []
  }
 ],
 "metadata": {
  "kernelspec": {
   "display_name": "Python 3 (ipykernel)",
   "language": "python",
   "name": "python3"
  },
  "language_info": {
   "codemirror_mode": {
    "name": "ipython",
    "version": 3
   },
   "file_extension": ".py",
   "mimetype": "text/x-python",
   "name": "python",
   "nbconvert_exporter": "python",
   "pygments_lexer": "ipython3",
   "version": "3.12.2"
  }
 },
 "nbformat": 4,
 "nbformat_minor": 5
}
