{
 "cells": [
  {
   "cell_type": "markdown",
   "id": "459ff0ca",
   "metadata": {},
   "source": [
    "## combine company data and common data"
   ]
  },
  {
   "cell_type": "code",
   "execution_count": 1,
   "id": "d3b5a935",
   "metadata": {},
   "outputs": [],
   "source": [
    "import datetime, time\n",
    "from datetime import date\n",
    "\n",
    "import pandas as pd\n",
    "import numpy as np\n",
    "import os\n",
    "import sys\n",
    "\n",
    "from sklearn.preprocessing import StandardScaler"
   ]
  },
  {
   "cell_type": "code",
   "execution_count": 2,
   "id": "8ef51f99",
   "metadata": {},
   "outputs": [],
   "source": [
    "module_path = os.path.abspath(os.path.join('.')) \n",
    "sys.path.append(module_path+\"\\\\data\\\\constant\")\n",
    "\n",
    "from constants import COMPANY_CODE"
   ]
  },
  {
   "cell_type": "code",
   "execution_count": 3,
   "id": "9ea60572",
   "metadata": {},
   "outputs": [
    {
     "data": {
      "text/plain": [
       "\" \\n[[datetime.date(2022, 1, 17) 'dji_cr']\\n [datetime.date(2022, 1, 17) 'dji_f_cr']\\n ...\\n [datetime.date(2023, 5, 23) 'kosdaq_cr']\\n [datetime.date(2023, 5, 23) 'kosdaq_cr_2']]\\n\""
      ]
     },
     "execution_count": 3,
     "metadata": {},
     "output_type": "execute_result"
    }
   ],
   "source": [
    "def locate_nan(df):\n",
    "    idx, idy = np.where(pd.isnull(df))\n",
    "    result = np.column_stack([df.index[idx], df.columns[idy]])\n",
    "    return result\n",
    "\n",
    "# return format\n",
    "''' \n",
    "[[datetime.date(2022, 1, 17) 'dji_cr']\n",
    " [datetime.date(2022, 1, 17) 'dji_f_cr']\n",
    " ...\n",
    " [datetime.date(2023, 5, 23) 'kosdaq_cr']\n",
    " [datetime.date(2023, 5, 23) 'kosdaq_cr_2']]\n",
    "'''"
   ]
  },
  {
   "cell_type": "code",
   "execution_count": 4,
   "id": "d6f9e0c8",
   "metadata": {},
   "outputs": [],
   "source": [
    "code = COMPANY_CODE\n",
    "\n",
    "# code = {'005930': ['삼성전자', 'sec'], '005380': ['현대차', 'hyunmotor'],\n",
    "#                  '035420': ['NAVER', 'naver'], '033780': ['KT&G', 'ktng']}\n",
    "# code = {'005930': ['삼성전자', 'sec'], '000660': ['SK하이닉스', 'skhynix']}\n",
    "# code = {'302440': ['SK바이오사이언스', 'skbio']}"
   ]
  },
  {
   "cell_type": "code",
   "execution_count": 5,
   "id": "1ced9635",
   "metadata": {},
   "outputs": [],
   "source": [
    "directory_for_predict = './data/data_for_ml/predict/'\n",
    "pkl_common_directory = './data/common_pkl/'\n",
    "pkl_directory = './data/common_pkl/'"
   ]
  },
  {
   "cell_type": "code",
   "execution_count": 6,
   "id": "a4ac3c16",
   "metadata": {},
   "outputs": [],
   "source": [
    "df_common = pd.read_pickle(directory_for_predict + '0_df_common.pkl')"
   ]
  },
  {
   "cell_type": "code",
   "execution_count": 7,
   "id": "82d5ae58",
   "metadata": {},
   "outputs": [],
   "source": [
    "for key, val in code.items():\n",
    "    df_company = pd.read_pickle(directory_for_predict + f'df_{val[1]}_company.pkl')\n",
    "    df_company = df_company.merge(df_common, how='left', left_index=True, right_index=True)\n",
    "    globals()[f'df_{val[1]}_combine'] = df_company.copy()"
   ]
  },
  {
   "cell_type": "code",
   "execution_count": 8,
   "id": "6c798e31",
   "metadata": {},
   "outputs": [
    {
     "data": {
      "text/html": [
       "<div>\n",
       "<style scoped>\n",
       "    .dataframe tbody tr th:only-of-type {\n",
       "        vertical-align: middle;\n",
       "    }\n",
       "\n",
       "    .dataframe tbody tr th {\n",
       "        vertical-align: top;\n",
       "    }\n",
       "\n",
       "    .dataframe thead th {\n",
       "        text-align: right;\n",
       "    }\n",
       "</style>\n",
       "<table border=\"1\" class=\"dataframe\">\n",
       "  <thead>\n",
       "    <tr style=\"text-align: right;\">\n",
       "      <th></th>\n",
       "      <th>retail_1</th>\n",
       "      <th>foreigner_1</th>\n",
       "      <th>institution_1</th>\n",
       "      <th>financial_1</th>\n",
       "      <th>invtrust_1</th>\n",
       "      <th>pension_1</th>\n",
       "      <th>privequity_1</th>\n",
       "      <th>bank_1</th>\n",
       "      <th>insurance_1</th>\n",
       "      <th>financeetc_1</th>\n",
       "      <th>...</th>\n",
       "      <th>ixk_cr</th>\n",
       "      <th>ixk_cr_2</th>\n",
       "      <th>ixtr_cr</th>\n",
       "      <th>ixtr_cr_2</th>\n",
       "      <th>ixut_cr</th>\n",
       "      <th>ixut_cr_2</th>\n",
       "      <th>nbi_cr</th>\n",
       "      <th>nbi_cr_2</th>\n",
       "      <th>bkx_cr</th>\n",
       "      <th>bkx_cr_2</th>\n",
       "    </tr>\n",
       "  </thead>\n",
       "  <tbody>\n",
       "    <tr>\n",
       "      <th>2023-12-26</th>\n",
       "      <td>-1.10182</td>\n",
       "      <td>0.29236</td>\n",
       "      <td>2.56250</td>\n",
       "      <td>13.47771</td>\n",
       "      <td>-0.85465</td>\n",
       "      <td>1.12969</td>\n",
       "      <td>-1.30948</td>\n",
       "      <td>-0.89362</td>\n",
       "      <td>-1.06746</td>\n",
       "      <td>-inf</td>\n",
       "      <td>...</td>\n",
       "      <td>0.04%</td>\n",
       "      <td>1.22603</td>\n",
       "      <td>0.76%</td>\n",
       "      <td>2.14231</td>\n",
       "      <td>0.38%</td>\n",
       "      <td>0.63276</td>\n",
       "      <td>2.43%</td>\n",
       "      <td>4.09089</td>\n",
       "      <td>0.21%</td>\n",
       "      <td>1.37190</td>\n",
       "    </tr>\n",
       "    <tr>\n",
       "      <th>2023-12-27</th>\n",
       "      <td>26.82440</td>\n",
       "      <td>-0.81893</td>\n",
       "      <td>0.32734</td>\n",
       "      <td>1.87799</td>\n",
       "      <td>-1.45161</td>\n",
       "      <td>-0.01470</td>\n",
       "      <td>-1.30681</td>\n",
       "      <td>-1.70000</td>\n",
       "      <td>19.07182</td>\n",
       "      <td>235.00000</td>\n",
       "      <td>...</td>\n",
       "      <td>0.42%</td>\n",
       "      <td>0.46735</td>\n",
       "      <td>0.47%</td>\n",
       "      <td>1.23322</td>\n",
       "      <td>0.64%</td>\n",
       "      <td>1.02842</td>\n",
       "      <td>1.17%</td>\n",
       "      <td>3.63507</td>\n",
       "      <td>1.01%</td>\n",
       "      <td>1.21951</td>\n",
       "    </tr>\n",
       "    <tr>\n",
       "      <th>2023-12-28</th>\n",
       "      <td>-0.69938</td>\n",
       "      <td>-0.43676</td>\n",
       "      <td>-0.64281</td>\n",
       "      <td>-1.02803</td>\n",
       "      <td>-4.12013</td>\n",
       "      <td>-0.19851</td>\n",
       "      <td>0.54457</td>\n",
       "      <td>-1.28571</td>\n",
       "      <td>-1.67547</td>\n",
       "      <td>-2.00000</td>\n",
       "      <td>...</td>\n",
       "      <td>-0.05%</td>\n",
       "      <td>0.37628</td>\n",
       "      <td>-0.52%</td>\n",
       "      <td>-0.05113</td>\n",
       "      <td>0.36%</td>\n",
       "      <td>1.00750</td>\n",
       "      <td>1.51%</td>\n",
       "      <td>2.69704</td>\n",
       "      <td>0.20%</td>\n",
       "      <td>1.20646</td>\n",
       "    </tr>\n",
       "    <tr>\n",
       "      <th>2024-01-02</th>\n",
       "      <td>12.68600</td>\n",
       "      <td>-17.19338</td>\n",
       "      <td>5.94386</td>\n",
       "      <td>-50.25636</td>\n",
       "      <td>3.79501</td>\n",
       "      <td>1.65379</td>\n",
       "      <td>-8.90556</td>\n",
       "      <td>-82.50000</td>\n",
       "      <td>-1.08924</td>\n",
       "      <td>-0.43220</td>\n",
       "      <td>...</td>\n",
       "      <td>-0.41%</td>\n",
       "      <td>-0.30722</td>\n",
       "      <td>-0.87%</td>\n",
       "      <td>-0.90266</td>\n",
       "      <td>-0.10%</td>\n",
       "      <td>0.24997</td>\n",
       "      <td>-0.84%</td>\n",
       "      <td>-0.83744</td>\n",
       "      <td>-0.68%</td>\n",
       "      <td>-0.46647</td>\n",
       "    </tr>\n",
       "    <tr>\n",
       "      <th>2024-01-03</th>\n",
       "      <td>-1.00252</td>\n",
       "      <td>-1.01151</td>\n",
       "      <td>-0.99603</td>\n",
       "      <td>-0.85420</td>\n",
       "      <td>-1.06662</td>\n",
       "      <td>-1.19003</td>\n",
       "      <td>-0.96947</td>\n",
       "      <td>-1.44172</td>\n",
       "      <td>2.09589</td>\n",
       "      <td>-1.27612</td>\n",
       "      <td>...</td>\n",
       "      <td>NaN</td>\n",
       "      <td>NaN</td>\n",
       "      <td>NaN</td>\n",
       "      <td>NaN</td>\n",
       "      <td>NaN</td>\n",
       "      <td>NaN</td>\n",
       "      <td>NaN</td>\n",
       "      <td>NaN</td>\n",
       "      <td>NaN</td>\n",
       "      <td>NaN</td>\n",
       "    </tr>\n",
       "  </tbody>\n",
       "</table>\n",
       "<p>5 rows × 114 columns</p>\n",
       "</div>"
      ],
      "text/plain": [
       "            retail_1  foreigner_1  institution_1  financial_1  invtrust_1   \n",
       "2023-12-26  -1.10182      0.29236        2.56250     13.47771    -0.85465  \\\n",
       "2023-12-27  26.82440     -0.81893        0.32734      1.87799    -1.45161   \n",
       "2023-12-28  -0.69938     -0.43676       -0.64281     -1.02803    -4.12013   \n",
       "2024-01-02  12.68600    -17.19338        5.94386    -50.25636     3.79501   \n",
       "2024-01-03  -1.00252     -1.01151       -0.99603     -0.85420    -1.06662   \n",
       "\n",
       "            pension_1  privequity_1    bank_1  insurance_1  financeetc_1  ...   \n",
       "2023-12-26    1.12969      -1.30948  -0.89362     -1.06746          -inf  ...  \\\n",
       "2023-12-27   -0.01470      -1.30681  -1.70000     19.07182     235.00000  ...   \n",
       "2023-12-28   -0.19851       0.54457  -1.28571     -1.67547      -2.00000  ...   \n",
       "2024-01-02    1.65379      -8.90556 -82.50000     -1.08924      -0.43220  ...   \n",
       "2024-01-03   -1.19003      -0.96947  -1.44172      2.09589      -1.27612  ...   \n",
       "\n",
       "            ixk_cr  ixk_cr_2  ixtr_cr  ixtr_cr_2  ixut_cr  ixut_cr_2  nbi_cr   \n",
       "2023-12-26   0.04%   1.22603    0.76%    2.14231    0.38%    0.63276   2.43%  \\\n",
       "2023-12-27   0.42%   0.46735    0.47%    1.23322    0.64%    1.02842   1.17%   \n",
       "2023-12-28  -0.05%   0.37628   -0.52%   -0.05113    0.36%    1.00750   1.51%   \n",
       "2024-01-02  -0.41%  -0.30722   -0.87%   -0.90266   -0.10%    0.24997  -0.84%   \n",
       "2024-01-03     NaN       NaN      NaN        NaN      NaN        NaN     NaN   \n",
       "\n",
       "            nbi_cr_2  bkx_cr  bkx_cr_2  \n",
       "2023-12-26   4.09089   0.21%   1.37190  \n",
       "2023-12-27   3.63507   1.01%   1.21951  \n",
       "2023-12-28   2.69704   0.20%   1.20646  \n",
       "2024-01-02  -0.83744  -0.68%  -0.46647  \n",
       "2024-01-03       NaN     NaN       NaN  \n",
       "\n",
       "[5 rows x 114 columns]"
      ]
     },
     "execution_count": 8,
     "metadata": {},
     "output_type": "execute_result"
    }
   ],
   "source": [
    "df_hyunmotor_combine.tail()"
   ]
  },
  {
   "cell_type": "code",
   "execution_count": 9,
   "id": "aeab3342",
   "metadata": {},
   "outputs": [
    {
     "data": {
      "text/plain": [
       "datetime.date(2022, 1, 7)"
      ]
     },
     "execution_count": 9,
     "metadata": {},
     "output_type": "execute_result"
    }
   ],
   "source": [
    "df_hyunmotor_combine.index[0]"
   ]
  },
  {
   "cell_type": "code",
   "execution_count": 10,
   "id": "587ac2cd",
   "metadata": {},
   "outputs": [],
   "source": [
    "col_inv1 = ['retail_1', 'foreigner_1', 'institution_1', 'financial_1', 'invtrust_1', 'pension_1', 'privequity_1', \n",
    "            'bank_1', 'insurance_1', 'financeetc_1', 'corporateetc_1', 'foreigneretc_1']\n",
    "col_inv2 = ['retail_2', 'foreigner_2', 'institution_2', 'financial_2', 'invtrust_2', 'pension_2',\n",
    "            'privequity_2', 'bank_2', 'insurance_2', 'financeetc_2', 'corporateetc_2', 'foreigneretc_2']"
   ]
  },
  {
   "cell_type": "code",
   "execution_count": 11,
   "id": "76ca8389",
   "metadata": {},
   "outputs": [],
   "source": [
    "col_his1 = ['open_1', 'high_1', 'low_1', 'close_1', 'vol_1']\n",
    "col_his2 = ['open_2', 'high_2', 'low_2', 'close_2', 'vol_2']"
   ]
  },
  {
   "cell_type": "code",
   "execution_count": 12,
   "id": "8a6b4bac",
   "metadata": {},
   "outputs": [],
   "source": [
    "col_common1 = [\"dji_cr\", \"dji_f_cr\", \"dxy_cr\", \"ixic_f_cr\", \"bond_kor_10_cr\", \"bond_kor_2_cr\", \"kosdaq_cr\", \"kospi_cr\", \n",
    "         \"krw_cr\", \"ixic_cr\", \"spx_f_cr\", \"sox_cr\", \"spx_cr\", \"bond_usa_10_cr\", \"bond_usa_2_cr\", \"bond_usa_3m_cr\", \n",
    "         \"vix_cr\", \"wti_cr\", \"spsy_cr\", \"spny_cr\", \"spxhc_cr\", \"splrcd_cr\", \"splrci_cr\", \"splrcu_cr\", \"splrcs_cr\",\n",
    "         \"splrct_cr\", \"splrcl_cr\", \"splrcm_cr\", \"ixbk_cr\", \"ixfn_cr\", \"ixid_cr\", \"ixis_cr\", \"ixk_cr\", \"ixtr_cr\",\n",
    "         \"ixut_cr\", \"nbi_cr\", \"bkx_cr\"]\n",
    "col_common2 = [\"dji_cr_2\", \"dji_f_cr_2\", \"dxy_cr_2\", \"ixic_f_cr_2\", \"bond_kor_10_cr_2\", \"bond_kor_2_cr_2\", \"kosdaq_cr_2\", \"kospi_cr_2\",\n",
    "         \"krw_cr_2\", \"ixic_cr_2\", \"spx_f_cr_2\", \"sox_cr_2\", \"spx_cr_2\", \"bond_usa_10_cr_2\", \"bond_usa_2_cr_2\", \"bond_usa_3m_cr_2\",\n",
    "         \"vix_cr_2\", \"wti_cr_2\", \"spsy_cr_2\", \"spny_cr_2\", \"spxhc_cr_2\", \"splrcd_cr_2\", \"splrci_cr_2\", \"splrcu_cr_2\",\n",
    "         \"splrcs_cr_2\", \"splrct_cr_2\", \"splrcl_cr_2\", \"splrcm_cr_2\", \"ixbk_cr_2\", \"ixfn_cr_2\", \"ixid_cr_2\",\n",
    "         \"ixis_cr_2\", \"ixk_cr_2\", \"ixtr_cr_2\", \"ixut_cr_2\", \"nbi_cr_2\", \"bkx_cr_2\"]"
   ]
  },
  {
   "cell_type": "code",
   "execution_count": 13,
   "id": "9a595935",
   "metadata": {},
   "outputs": [],
   "source": [
    "col_cr = ['weekday', 'cr_00', 'cr_05', 'cr_10', 'cr_15', 'cr_20']"
   ]
  },
  {
   "cell_type": "code",
   "execution_count": 14,
   "id": "75ec6070",
   "metadata": {},
   "outputs": [],
   "source": [
    "col_col = col_inv1 + col_common1 + col_his1 + col_inv2 + col_common2 + col_his2 + col_cr"
   ]
  },
  {
   "cell_type": "code",
   "execution_count": 15,
   "id": "ff6769da",
   "metadata": {},
   "outputs": [],
   "source": [
    "# # write common data only\n",
    "# df_temp = df_common.copy()\n",
    "# df_temp = df_temp[col_common1+col_common2]\n",
    "# pkl_common_directory = './data/common_pkl/'\n",
    "# df_temp.to_pickle(pkl_common_directory + 'df_common.pkl')\n",
    "# df_temp.to_csv(pkl_common_directory + 'df_common.csv')"
   ]
  },
  {
   "cell_type": "code",
   "execution_count": 16,
   "id": "c78c8f82",
   "metadata": {},
   "outputs": [],
   "source": [
    "new_columns = col_col"
   ]
  },
  {
   "cell_type": "code",
   "execution_count": 17,
   "id": "02da1256",
   "metadata": {},
   "outputs": [],
   "source": [
    "# column 순서 변경 : weekday, 'cr_00', 'cr_05', 'cr_10', 'cr_15', 'cr_20' column을 마지막으로 이동 \n",
    "for key, val in code.items():\n",
    "    globals()['df_{}_combine'.format(val[1])] = globals()['df_{}_combine'.format(val[1])][new_columns]"
   ]
  },
  {
   "cell_type": "code",
   "execution_count": 18,
   "id": "d4f1fa06",
   "metadata": {},
   "outputs": [
    {
     "data": {
      "text/plain": [
       "'\\n# drop inf, -inf : replace inf to 1 or -1 . 데이터를 살리고\\n# 변동률이 무한대가 되는 것을 방지하기 위해서, 나중에 발생하는 에러를 방지\\ndf_sec_sel.replace([np.inf, -np.inf], [1, -1], inplace=True)\\n\\n.impute 사용하는 것을 고려할 필요 있음.\\n'"
      ]
     },
     "execution_count": 18,
     "metadata": {},
     "output_type": "execute_result"
    }
   ],
   "source": [
    "'''\n",
    "# drop inf, -inf : replace inf to 1 or -1 . 데이터를 살리고\n",
    "# 변동률이 무한대가 되는 것을 방지하기 위해서, 나중에 발생하는 에러를 방지\n",
    "df_sec_sel.replace([np.inf, -np.inf], [1, -1], inplace=True)\n",
    "\n",
    ".impute 사용하는 것을 고려할 필요 있음.\n",
    "'''"
   ]
  },
  {
   "cell_type": "code",
   "execution_count": 19,
   "id": "7e91c1c5",
   "metadata": {},
   "outputs": [],
   "source": [
    "# drop inf, -inf : replace inf to 1 or -1 . 데이터를 살리고\n",
    "# 변동률이 무한대가 되는 것을 방지하기 위해서, 나중에 발생하는 에러를 방지\n",
    "for key, val in code.items():\n",
    "    globals()['df_{}_combine'.format(val[1])].replace([np.inf, -np.inf], [1, -1], inplace=True)\n",
    "\n",
    "# **** 데이터 전처리 from sklearn.impute import SimpleImputer, SimpleImputer 사용하기로 함."
   ]
  },
  {
   "cell_type": "code",
   "execution_count": 20,
   "id": "3fa3914b",
   "metadata": {},
   "outputs": [
    {
     "data": {
      "text/html": [
       "<div>\n",
       "<style scoped>\n",
       "    .dataframe tbody tr th:only-of-type {\n",
       "        vertical-align: middle;\n",
       "    }\n",
       "\n",
       "    .dataframe tbody tr th {\n",
       "        vertical-align: top;\n",
       "    }\n",
       "\n",
       "    .dataframe thead th {\n",
       "        text-align: right;\n",
       "    }\n",
       "</style>\n",
       "<table border=\"1\" class=\"dataframe\">\n",
       "  <thead>\n",
       "    <tr style=\"text-align: right;\">\n",
       "      <th></th>\n",
       "      <th>retail_1</th>\n",
       "      <th>foreigner_1</th>\n",
       "      <th>institution_1</th>\n",
       "      <th>financial_1</th>\n",
       "      <th>invtrust_1</th>\n",
       "      <th>pension_1</th>\n",
       "      <th>privequity_1</th>\n",
       "      <th>bank_1</th>\n",
       "      <th>insurance_1</th>\n",
       "      <th>financeetc_1</th>\n",
       "      <th>...</th>\n",
       "      <th>high_2</th>\n",
       "      <th>low_2</th>\n",
       "      <th>close_2</th>\n",
       "      <th>vol_2</th>\n",
       "      <th>weekday</th>\n",
       "      <th>cr_00</th>\n",
       "      <th>cr_05</th>\n",
       "      <th>cr_10</th>\n",
       "      <th>cr_15</th>\n",
       "      <th>cr_20</th>\n",
       "    </tr>\n",
       "  </thead>\n",
       "  <tbody>\n",
       "    <tr>\n",
       "      <th>2023-12-26</th>\n",
       "      <td>0.21471</td>\n",
       "      <td>-0.25246</td>\n",
       "      <td>1.47361</td>\n",
       "      <td>1.19595</td>\n",
       "      <td>-3.36930</td>\n",
       "      <td>-0.22117</td>\n",
       "      <td>4.24678</td>\n",
       "      <td>-402.00000</td>\n",
       "      <td>-1.35995</td>\n",
       "      <td>-2.75833</td>\n",
       "      <td>...</td>\n",
       "      <td>0.01869</td>\n",
       "      <td>0.02168</td>\n",
       "      <td>0.01471</td>\n",
       "      <td>-0.13957</td>\n",
       "      <td>4</td>\n",
       "      <td>1</td>\n",
       "      <td>1</td>\n",
       "      <td>0</td>\n",
       "      <td>0</td>\n",
       "      <td>0</td>\n",
       "    </tr>\n",
       "    <tr>\n",
       "      <th>2023-12-27</th>\n",
       "      <td>-0.00522</td>\n",
       "      <td>-0.75103</td>\n",
       "      <td>0.63250</td>\n",
       "      <td>0.89765</td>\n",
       "      <td>0.66680</td>\n",
       "      <td>2.16498</td>\n",
       "      <td>-0.10589</td>\n",
       "      <td>5.91022</td>\n",
       "      <td>-1.23874</td>\n",
       "      <td>-1.34123</td>\n",
       "      <td>...</td>\n",
       "      <td>0.02267</td>\n",
       "      <td>0.01884</td>\n",
       "      <td>0.02133</td>\n",
       "      <td>-0.02329</td>\n",
       "      <td>1</td>\n",
       "      <td>1</td>\n",
       "      <td>1</td>\n",
       "      <td>1</td>\n",
       "      <td>1</td>\n",
       "      <td>0</td>\n",
       "    </tr>\n",
       "    <tr>\n",
       "      <th>2023-12-28</th>\n",
       "      <td>-0.31223</td>\n",
       "      <td>7.62622</td>\n",
       "      <td>-1.28240</td>\n",
       "      <td>-1.31983</td>\n",
       "      <td>-0.89235</td>\n",
       "      <td>-1.42624</td>\n",
       "      <td>-0.77083</td>\n",
       "      <td>-0.73620</td>\n",
       "      <td>-17.66132</td>\n",
       "      <td>-9.40278</td>\n",
       "      <td>...</td>\n",
       "      <td>0.02228</td>\n",
       "      <td>0.01459</td>\n",
       "      <td>0.02767</td>\n",
       "      <td>0.42268</td>\n",
       "      <td>2</td>\n",
       "      <td>1</td>\n",
       "      <td>1</td>\n",
       "      <td>0</td>\n",
       "      <td>0</td>\n",
       "      <td>0</td>\n",
       "    </tr>\n",
       "    <tr>\n",
       "      <th>2024-01-02</th>\n",
       "      <td>0.07327</td>\n",
       "      <td>-0.72928</td>\n",
       "      <td>-3.59150</td>\n",
       "      <td>-3.56010</td>\n",
       "      <td>-3.29540</td>\n",
       "      <td>1.59905</td>\n",
       "      <td>-2.22587</td>\n",
       "      <td>0.53078</td>\n",
       "      <td>-0.80380</td>\n",
       "      <td>-3.18678</td>\n",
       "      <td>...</td>\n",
       "      <td>0.02347</td>\n",
       "      <td>0.02378</td>\n",
       "      <td>0.02480</td>\n",
       "      <td>0.35189</td>\n",
       "      <td>3</td>\n",
       "      <td>1</td>\n",
       "      <td>1</td>\n",
       "      <td>1</td>\n",
       "      <td>0</td>\n",
       "      <td>0</td>\n",
       "    </tr>\n",
       "    <tr>\n",
       "      <th>2024-01-03</th>\n",
       "      <td>-0.07887</td>\n",
       "      <td>1.11133</td>\n",
       "      <td>-0.79635</td>\n",
       "      <td>-0.75572</td>\n",
       "      <td>-6.03591</td>\n",
       "      <td>-1.58829</td>\n",
       "      <td>-0.47744</td>\n",
       "      <td>-2.50938</td>\n",
       "      <td>0.96797</td>\n",
       "      <td>-1.51852</td>\n",
       "      <td>...</td>\n",
       "      <td>0.02308</td>\n",
       "      <td>0.02222</td>\n",
       "      <td>0.02051</td>\n",
       "      <td>-0.17116</td>\n",
       "      <td>1</td>\n",
       "      <td>0</td>\n",
       "      <td>0</td>\n",
       "      <td>0</td>\n",
       "      <td>0</td>\n",
       "      <td>0</td>\n",
       "    </tr>\n",
       "  </tbody>\n",
       "</table>\n",
       "<p>5 rows × 114 columns</p>\n",
       "</div>"
      ],
      "text/plain": [
       "            retail_1  foreigner_1  institution_1  financial_1  invtrust_1   \n",
       "2023-12-26   0.21471     -0.25246        1.47361      1.19595    -3.36930  \\\n",
       "2023-12-27  -0.00522     -0.75103        0.63250      0.89765     0.66680   \n",
       "2023-12-28  -0.31223      7.62622       -1.28240     -1.31983    -0.89235   \n",
       "2024-01-02   0.07327     -0.72928       -3.59150     -3.56010    -3.29540   \n",
       "2024-01-03  -0.07887      1.11133       -0.79635     -0.75572    -6.03591   \n",
       "\n",
       "            pension_1  privequity_1     bank_1  insurance_1  financeetc_1   \n",
       "2023-12-26   -0.22117       4.24678 -402.00000     -1.35995      -2.75833  \\\n",
       "2023-12-27    2.16498      -0.10589    5.91022     -1.23874      -1.34123   \n",
       "2023-12-28   -1.42624      -0.77083   -0.73620    -17.66132      -9.40278   \n",
       "2024-01-02    1.59905      -2.22587    0.53078     -0.80380      -3.18678   \n",
       "2024-01-03   -1.58829      -0.47744   -2.50938      0.96797      -1.51852   \n",
       "\n",
       "            ...   high_2    low_2  close_2    vol_2  weekday  cr_00 cr_05   \n",
       "2023-12-26  ...  0.01869  0.02168  0.01471 -0.13957        4      1     1  \\\n",
       "2023-12-27  ...  0.02267  0.01884  0.02133 -0.02329        1      1     1   \n",
       "2023-12-28  ...  0.02228  0.01459  0.02767  0.42268        2      1     1   \n",
       "2024-01-02  ...  0.02347  0.02378  0.02480  0.35189        3      1     1   \n",
       "2024-01-03  ...  0.02308  0.02222  0.02051 -0.17116        1      0     0   \n",
       "\n",
       "           cr_10  cr_15  cr_20  \n",
       "2023-12-26     0      0      0  \n",
       "2023-12-27     1      1      0  \n",
       "2023-12-28     0      0      0  \n",
       "2024-01-02     1      0      0  \n",
       "2024-01-03     0      0      0  \n",
       "\n",
       "[5 rows x 114 columns]"
      ]
     },
     "execution_count": 20,
     "metadata": {},
     "output_type": "execute_result"
    }
   ],
   "source": [
    "df_sec_combine.tail()"
   ]
  },
  {
   "cell_type": "code",
   "execution_count": 21,
   "id": "bf7224df",
   "metadata": {},
   "outputs": [],
   "source": [
    "nanlo = locate_nan(df_sec_combine)  # nan 위치 찾기"
   ]
  },
  {
   "cell_type": "code",
   "execution_count": 22,
   "id": "2f63d7f5",
   "metadata": {},
   "outputs": [
    {
     "name": "stdout",
     "output_type": "stream",
     "text": [
      "[[datetime.date(2022, 1, 18) 'dji_cr']\n",
      " [datetime.date(2022, 1, 18) 'dji_f_cr']\n",
      " [datetime.date(2022, 1, 18) 'dxy_cr']\n",
      " ...\n",
      " [datetime.date(2024, 1, 3) 'ixut_cr_2']\n",
      " [datetime.date(2024, 1, 3) 'nbi_cr_2']\n",
      " [datetime.date(2024, 1, 3) 'bkx_cr_2']]\n"
     ]
    }
   ],
   "source": [
    "print(nanlo)"
   ]
  },
  {
   "cell_type": "code",
   "execution_count": 23,
   "id": "21a6d628",
   "metadata": {},
   "outputs": [],
   "source": [
    "# delete rows which include NaN : dji, spx, nasdaq 기타 common 지수중 한개라도 nan인 rows 제거\n",
    "for key, val in code.items():\n",
    "    globals()['df_{}_combine'.format(val[1])].dropna(inplace=True)"
   ]
  },
  {
   "cell_type": "code",
   "execution_count": 24,
   "id": "c6f3061c",
   "metadata": {},
   "outputs": [],
   "source": [
    "# string column을 numeric으로 전환\n",
    "def string_to_num(df):\n",
    "    df.replace('%', '', regex=True, inplace=True)\n",
    "    df = df.apply(pd.to_numeric)\n",
    "    return df\n",
    "\n",
    "for key, val in code.items():\n",
    "    globals()['df_{}_combine'.format(val[1])] = string_to_num(globals()['df_{}_combine'.format(val[1])])"
   ]
  },
  {
   "cell_type": "code",
   "execution_count": 25,
   "id": "7e8d5acf",
   "metadata": {},
   "outputs": [],
   "source": [
    "# pickle로 데이터 저장\n",
    "\n",
    "for key, val in code.items():\n",
    "    globals()[f'df_{val[1]}_combine'].to_pickle(directory_for_predict + f'df_{val[1]}_combine.pkl')\n",
    "    globals()[f'df_{val[1]}_combine'].to_csv(directory_for_predict + f'df_{val[1]}_combine.csv')"
   ]
  },
  {
   "cell_type": "code",
   "execution_count": null,
   "id": "a01825d3",
   "metadata": {},
   "outputs": [],
   "source": []
  },
  {
   "cell_type": "code",
   "execution_count": null,
   "id": "3300e5b2",
   "metadata": {},
   "outputs": [],
   "source": []
  },
  {
   "cell_type": "code",
   "execution_count": null,
   "id": "1ffeab80",
   "metadata": {},
   "outputs": [],
   "source": []
  },
  {
   "cell_type": "code",
   "execution_count": null,
   "id": "a1f7c9d1",
   "metadata": {},
   "outputs": [],
   "source": []
  },
  {
   "cell_type": "code",
   "execution_count": null,
   "id": "bc80b897",
   "metadata": {},
   "outputs": [],
   "source": []
  }
 ],
 "metadata": {
  "kernelspec": {
   "display_name": "Python 3 (ipykernel)",
   "language": "python",
   "name": "python3"
  },
  "language_info": {
   "codemirror_mode": {
    "name": "ipython",
    "version": 3
   },
   "file_extension": ".py",
   "mimetype": "text/x-python",
   "name": "python",
   "nbconvert_exporter": "python",
   "pygments_lexer": "ipython3",
   "version": "3.9.1"
  }
 },
 "nbformat": 4,
 "nbformat_minor": 5
}
