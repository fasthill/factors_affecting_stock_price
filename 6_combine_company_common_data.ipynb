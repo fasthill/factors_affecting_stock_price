{
 "cells": [
  {
   "cell_type": "markdown",
   "id": "459ff0ca",
   "metadata": {},
   "source": [
    "## combine company data and common data"
   ]
  },
  {
   "cell_type": "code",
   "execution_count": 1,
   "id": "d3b5a935",
   "metadata": {},
   "outputs": [],
   "source": [
    "import datetime, time\n",
    "from datetime import date\n",
    "\n",
    "import pandas as pd\n",
    "import numpy as np\n",
    "import os\n",
    "import sys\n",
    "\n",
    "from sklearn.preprocessing import StandardScaler"
   ]
  },
  {
   "cell_type": "code",
   "execution_count": 2,
   "id": "8ef51f99",
   "metadata": {},
   "outputs": [],
   "source": [
    "module_path = os.path.abspath(os.path.join('.')) \n",
    "sys.path.append(module_path+\"\\\\data\\\\constant\")\n",
    "\n",
    "from constants import COMPANY_CODE"
   ]
  },
  {
   "cell_type": "code",
   "execution_count": 3,
   "id": "9ea60572",
   "metadata": {},
   "outputs": [
    {
     "data": {
      "text/plain": [
       "\" \\n[[datetime.date(2022, 1, 17) 'dji_cr']\\n [datetime.date(2022, 1, 17) 'dji_f_cr']\\n ...\\n [datetime.date(2023, 5, 23) 'kosdaq_cr']\\n [datetime.date(2023, 5, 23) 'kosdaq_cr_2']]\\n\""
      ]
     },
     "execution_count": 3,
     "metadata": {},
     "output_type": "execute_result"
    }
   ],
   "source": [
    "def locate_nan(df):\n",
    "    idx, idy = np.where(pd.isnull(df))\n",
    "    result = np.column_stack([df.index[idx], df.columns[idy]])\n",
    "    return result\n",
    "\n",
    "# return format\n",
    "''' \n",
    "[[datetime.date(2022, 1, 17) 'dji_cr']\n",
    " [datetime.date(2022, 1, 17) 'dji_f_cr']\n",
    " ...\n",
    " [datetime.date(2023, 5, 23) 'kosdaq_cr']\n",
    " [datetime.date(2023, 5, 23) 'kosdaq_cr_2']]\n",
    "'''"
   ]
  },
  {
   "cell_type": "code",
   "execution_count": 4,
   "id": "d6f9e0c8",
   "metadata": {},
   "outputs": [],
   "source": [
    "code = COMPANY_CODE\n",
    "\n",
    "# code = {'005930': ['삼성전자', 'sec'], '005380': ['현대차', 'hyunmotor'],\n",
    "#                  '035420': ['NAVER', 'naver'], '033780': ['KT&G', 'ktng']}\n",
    "# code = {'005930': ['삼성전자', 'sec'], '000660': ['SK하이닉스', 'skhynix']}\n",
    "# code = {'302440': ['SK바이오사이언스', 'skbio']}"
   ]
  },
  {
   "cell_type": "code",
   "execution_count": 5,
   "id": "1ced9635",
   "metadata": {},
   "outputs": [],
   "source": [
    "directory_for_predict = './data/data_for_ml/predict/'\n",
    "pkl_common_directory = './data/common_pkl/'\n",
    "pkl_directory = './data/common_pkl/'"
   ]
  },
  {
   "cell_type": "code",
   "execution_count": 6,
   "id": "a4ac3c16",
   "metadata": {},
   "outputs": [],
   "source": [
    "df_common = pd.read_pickle(directory_for_predict + '0_df_common.pkl')"
   ]
  },
  {
   "cell_type": "code",
   "execution_count": 7,
   "id": "82d5ae58",
   "metadata": {},
   "outputs": [],
   "source": [
    "for key, val in code.items():\n",
    "    df_company = pd.read_pickle(directory_for_predict + f'df_{val[1]}_company.pkl')\n",
    "    df_company = df_company.merge(df_common, how='left', left_index=True, right_index=True)\n",
    "    globals()[f'df_{val[1]}_combine'] = df_company.copy()"
   ]
  },
  {
   "cell_type": "code",
   "execution_count": 8,
   "id": "6c798e31",
   "metadata": {},
   "outputs": [
    {
     "data": {
      "text/html": [
       "<div>\n",
       "<style scoped>\n",
       "    .dataframe tbody tr th:only-of-type {\n",
       "        vertical-align: middle;\n",
       "    }\n",
       "\n",
       "    .dataframe tbody tr th {\n",
       "        vertical-align: top;\n",
       "    }\n",
       "\n",
       "    .dataframe thead th {\n",
       "        text-align: right;\n",
       "    }\n",
       "</style>\n",
       "<table border=\"1\" class=\"dataframe\">\n",
       "  <thead>\n",
       "    <tr style=\"text-align: right;\">\n",
       "      <th></th>\n",
       "      <th>retail_1</th>\n",
       "      <th>foreigner_1</th>\n",
       "      <th>institution_1</th>\n",
       "      <th>financial_1</th>\n",
       "      <th>invtrust_1</th>\n",
       "      <th>pension_1</th>\n",
       "      <th>privequity_1</th>\n",
       "      <th>bank_1</th>\n",
       "      <th>insurance_1</th>\n",
       "      <th>financeetc_1</th>\n",
       "      <th>...</th>\n",
       "      <th>ixk_cr</th>\n",
       "      <th>ixk_cr_2</th>\n",
       "      <th>ixtr_cr</th>\n",
       "      <th>ixtr_cr_2</th>\n",
       "      <th>ixut_cr</th>\n",
       "      <th>ixut_cr_2</th>\n",
       "      <th>nbi_cr</th>\n",
       "      <th>nbi_cr_2</th>\n",
       "      <th>bkx_cr</th>\n",
       "      <th>bkx_cr_2</th>\n",
       "    </tr>\n",
       "  </thead>\n",
       "  <tbody>\n",
       "    <tr>\n",
       "      <th>2024-10-29</th>\n",
       "      <td>-0.34732</td>\n",
       "      <td>-0.26025</td>\n",
       "      <td>-2.45490</td>\n",
       "      <td>-0.32221</td>\n",
       "      <td>-0.89504</td>\n",
       "      <td>1.01475</td>\n",
       "      <td>-1.17476</td>\n",
       "      <td>-0.96689</td>\n",
       "      <td>-0.60647</td>\n",
       "      <td>-1.26582</td>\n",
       "      <td>...</td>\n",
       "      <td>0.20%</td>\n",
       "      <td>0.99474</td>\n",
       "      <td>1.09%</td>\n",
       "      <td>2.61767</td>\n",
       "      <td>0.06%</td>\n",
       "      <td>-1.00387</td>\n",
       "      <td>1.02%</td>\n",
       "      <td>1.17031</td>\n",
       "      <td>2.15%</td>\n",
       "      <td>0.75157</td>\n",
       "    </tr>\n",
       "    <tr>\n",
       "      <th>2024-10-30</th>\n",
       "      <td>-0.05259</td>\n",
       "      <td>0.01455</td>\n",
       "      <td>-2.19561</td>\n",
       "      <td>-0.73160</td>\n",
       "      <td>0.95579</td>\n",
       "      <td>-0.84162</td>\n",
       "      <td>-15.57222</td>\n",
       "      <td>-6.50000</td>\n",
       "      <td>0.14000</td>\n",
       "      <td>-2.33333</td>\n",
       "      <td>...</td>\n",
       "      <td>1.33%</td>\n",
       "      <td>1.54058</td>\n",
       "      <td>-0.30%</td>\n",
       "      <td>0.78281</td>\n",
       "      <td>-0.06%</td>\n",
       "      <td>0.00214</td>\n",
       "      <td>-0.27%</td>\n",
       "      <td>0.74737</td>\n",
       "      <td>-0.42%</td>\n",
       "      <td>1.72285</td>\n",
       "    </tr>\n",
       "    <tr>\n",
       "      <th>2024-10-31</th>\n",
       "      <td>-0.17861</td>\n",
       "      <td>-0.42763</td>\n",
       "      <td>0.52605</td>\n",
       "      <td>-2.20759</td>\n",
       "      <td>-0.40366</td>\n",
       "      <td>2.45255</td>\n",
       "      <td>-0.89706</td>\n",
       "      <td>-1.07273</td>\n",
       "      <td>-0.23684</td>\n",
       "      <td>0.39286</td>\n",
       "      <td>...</td>\n",
       "      <td>-0.90%</td>\n",
       "      <td>0.42325</td>\n",
       "      <td>0.68%</td>\n",
       "      <td>0.37512</td>\n",
       "      <td>-0.41%</td>\n",
       "      <td>-0.46113</td>\n",
       "      <td>-0.53%</td>\n",
       "      <td>-0.79474</td>\n",
       "      <td>0.30%</td>\n",
       "      <td>-0.12163</td>\n",
       "    </tr>\n",
       "    <tr>\n",
       "      <th>2024-11-01</th>\n",
       "      <td>0.62151</td>\n",
       "      <td>0.53965</td>\n",
       "      <td>0.79185</td>\n",
       "      <td>-1.69702</td>\n",
       "      <td>6.33845</td>\n",
       "      <td>3.71247</td>\n",
       "      <td>-3.93704</td>\n",
       "      <td>14.00000</td>\n",
       "      <td>-2.77905</td>\n",
       "      <td>-1.00000</td>\n",
       "      <td>...</td>\n",
       "      <td>-3.56%</td>\n",
       "      <td>-4.42234</td>\n",
       "      <td>-1.71%</td>\n",
       "      <td>-1.04056</td>\n",
       "      <td>-0.12%</td>\n",
       "      <td>-0.52974</td>\n",
       "      <td>-1.40%</td>\n",
       "      <td>-1.91795</td>\n",
       "      <td>-1.08%</td>\n",
       "      <td>-0.78169</td>\n",
       "    </tr>\n",
       "    <tr>\n",
       "      <th>2024-11-04</th>\n",
       "      <td>-0.59765</td>\n",
       "      <td>-0.82287</td>\n",
       "      <td>0.03608</td>\n",
       "      <td>-2.83480</td>\n",
       "      <td>-0.55528</td>\n",
       "      <td>0.35233</td>\n",
       "      <td>8.76040</td>\n",
       "      <td>-6.25000</td>\n",
       "      <td>-3.08615</td>\n",
       "      <td>inf</td>\n",
       "      <td>...</td>\n",
       "      <td>NaN</td>\n",
       "      <td>NaN</td>\n",
       "      <td>NaN</td>\n",
       "      <td>NaN</td>\n",
       "      <td>NaN</td>\n",
       "      <td>NaN</td>\n",
       "      <td>NaN</td>\n",
       "      <td>NaN</td>\n",
       "      <td>NaN</td>\n",
       "      <td>NaN</td>\n",
       "    </tr>\n",
       "  </tbody>\n",
       "</table>\n",
       "<p>5 rows × 114 columns</p>\n",
       "</div>"
      ],
      "text/plain": [
       "            retail_1  foreigner_1  institution_1  financial_1  invtrust_1  \\\n",
       "2024-10-29  -0.34732     -0.26025       -2.45490     -0.32221    -0.89504   \n",
       "2024-10-30  -0.05259      0.01455       -2.19561     -0.73160     0.95579   \n",
       "2024-10-31  -0.17861     -0.42763        0.52605     -2.20759    -0.40366   \n",
       "2024-11-01   0.62151      0.53965        0.79185     -1.69702     6.33845   \n",
       "2024-11-04  -0.59765     -0.82287        0.03608     -2.83480    -0.55528   \n",
       "\n",
       "            pension_1  privequity_1    bank_1  insurance_1  financeetc_1  ...  \\\n",
       "2024-10-29    1.01475      -1.17476  -0.96689     -0.60647      -1.26582  ...   \n",
       "2024-10-30   -0.84162     -15.57222  -6.50000      0.14000      -2.33333  ...   \n",
       "2024-10-31    2.45255      -0.89706  -1.07273     -0.23684       0.39286  ...   \n",
       "2024-11-01    3.71247      -3.93704  14.00000     -2.77905      -1.00000  ...   \n",
       "2024-11-04    0.35233       8.76040  -6.25000     -3.08615           inf  ...   \n",
       "\n",
       "            ixk_cr  ixk_cr_2  ixtr_cr  ixtr_cr_2  ixut_cr  ixut_cr_2  nbi_cr  \\\n",
       "2024-10-29   0.20%   0.99474    1.09%    2.61767    0.06%   -1.00387   1.02%   \n",
       "2024-10-30   1.33%   1.54058   -0.30%    0.78281   -0.06%    0.00214  -0.27%   \n",
       "2024-10-31  -0.90%   0.42325    0.68%    0.37512   -0.41%   -0.46113  -0.53%   \n",
       "2024-11-01  -3.56%  -4.42234   -1.71%   -1.04056   -0.12%   -0.52974  -1.40%   \n",
       "2024-11-04     NaN       NaN      NaN        NaN      NaN        NaN     NaN   \n",
       "\n",
       "            nbi_cr_2  bkx_cr  bkx_cr_2  \n",
       "2024-10-29   1.17031   2.15%   0.75157  \n",
       "2024-10-30   0.74737  -0.42%   1.72285  \n",
       "2024-10-31  -0.79474   0.30%  -0.12163  \n",
       "2024-11-01  -1.91795  -1.08%  -0.78169  \n",
       "2024-11-04       NaN     NaN       NaN  \n",
       "\n",
       "[5 rows x 114 columns]"
      ]
     },
     "execution_count": 8,
     "metadata": {},
     "output_type": "execute_result"
    }
   ],
   "source": [
    "df_hyunmotor_combine.tail()"
   ]
  },
  {
   "cell_type": "code",
   "execution_count": 9,
   "id": "aeab3342",
   "metadata": {},
   "outputs": [
    {
     "data": {
      "text/plain": [
       "datetime.date(2022, 1, 7)"
      ]
     },
     "execution_count": 9,
     "metadata": {},
     "output_type": "execute_result"
    }
   ],
   "source": [
    "df_hyunmotor_combine.index[0]"
   ]
  },
  {
   "cell_type": "code",
   "execution_count": 10,
   "id": "587ac2cd",
   "metadata": {},
   "outputs": [],
   "source": [
    "col_inv1 = ['retail_1', 'foreigner_1', 'institution_1', 'financial_1', 'invtrust_1', 'pension_1', 'privequity_1', \n",
    "            'bank_1', 'insurance_1', 'financeetc_1', 'corporateetc_1', 'foreigneretc_1']\n",
    "col_inv2 = ['retail_2', 'foreigner_2', 'institution_2', 'financial_2', 'invtrust_2', 'pension_2',\n",
    "            'privequity_2', 'bank_2', 'insurance_2', 'financeetc_2', 'corporateetc_2', 'foreigneretc_2']"
   ]
  },
  {
   "cell_type": "code",
   "execution_count": 11,
   "id": "76ca8389",
   "metadata": {},
   "outputs": [],
   "source": [
    "col_his1 = ['open_1', 'high_1', 'low_1', 'close_1', 'vol_1']\n",
    "col_his2 = ['open_2', 'high_2', 'low_2', 'close_2', 'vol_2']"
   ]
  },
  {
   "cell_type": "code",
   "execution_count": 12,
   "id": "8a6b4bac",
   "metadata": {},
   "outputs": [],
   "source": [
    "col_common1 = [\"dji_cr\", \"dji_f_cr\", \"dxy_cr\", \"ixic_f_cr\", \"bond_kor_10_cr\", \"bond_kor_2_cr\", \"kosdaq_cr\", \"kospi_cr\", \n",
    "         \"krw_cr\", \"ixic_cr\", \"spx_f_cr\", \"sox_cr\", \"spx_cr\", \"bond_usa_10_cr\", \"bond_usa_2_cr\", \"bond_usa_3m_cr\", \n",
    "         \"vix_cr\", \"wti_cr\", \"spsy_cr\", \"spny_cr\", \"spxhc_cr\", \"splrcd_cr\", \"splrci_cr\", \"splrcu_cr\", \"splrcs_cr\",\n",
    "         \"splrct_cr\", \"splrcl_cr\", \"splrcm_cr\", \"ixbk_cr\", \"ixfn_cr\", \"ixid_cr\", \"ixis_cr\", \"ixk_cr\", \"ixtr_cr\",\n",
    "         \"ixut_cr\", \"nbi_cr\", \"bkx_cr\"]\n",
    "col_common2 = [\"dji_cr_2\", \"dji_f_cr_2\", \"dxy_cr_2\", \"ixic_f_cr_2\", \"bond_kor_10_cr_2\", \"bond_kor_2_cr_2\", \"kosdaq_cr_2\", \"kospi_cr_2\",\n",
    "         \"krw_cr_2\", \"ixic_cr_2\", \"spx_f_cr_2\", \"sox_cr_2\", \"spx_cr_2\", \"bond_usa_10_cr_2\", \"bond_usa_2_cr_2\", \"bond_usa_3m_cr_2\",\n",
    "         \"vix_cr_2\", \"wti_cr_2\", \"spsy_cr_2\", \"spny_cr_2\", \"spxhc_cr_2\", \"splrcd_cr_2\", \"splrci_cr_2\", \"splrcu_cr_2\",\n",
    "         \"splrcs_cr_2\", \"splrct_cr_2\", \"splrcl_cr_2\", \"splrcm_cr_2\", \"ixbk_cr_2\", \"ixfn_cr_2\", \"ixid_cr_2\",\n",
    "         \"ixis_cr_2\", \"ixk_cr_2\", \"ixtr_cr_2\", \"ixut_cr_2\", \"nbi_cr_2\", \"bkx_cr_2\"]"
   ]
  },
  {
   "cell_type": "code",
   "execution_count": 13,
   "id": "9a595935",
   "metadata": {},
   "outputs": [],
   "source": [
    "col_cr = ['weekday', 'cr_00', 'cr_05', 'cr_10', 'cr_15', 'cr_20']"
   ]
  },
  {
   "cell_type": "code",
   "execution_count": 14,
   "id": "75ec6070",
   "metadata": {},
   "outputs": [],
   "source": [
    "col_col = col_inv1 + col_common1 + col_his1 + col_inv2 + col_common2 + col_his2 + col_cr"
   ]
  },
  {
   "cell_type": "code",
   "execution_count": 15,
   "id": "ff6769da",
   "metadata": {},
   "outputs": [],
   "source": [
    "# # write common data only\n",
    "# df_temp = df_common.copy()\n",
    "# df_temp = df_temp[col_common1+col_common2]\n",
    "# pkl_common_directory = './data/common_pkl/'\n",
    "# df_temp.to_pickle(pkl_common_directory + 'df_common.pkl')\n",
    "# df_temp.to_csv(pkl_common_directory + 'df_common.csv')"
   ]
  },
  {
   "cell_type": "code",
   "execution_count": 16,
   "id": "c78c8f82",
   "metadata": {},
   "outputs": [],
   "source": [
    "new_columns = col_col"
   ]
  },
  {
   "cell_type": "code",
   "execution_count": 17,
   "id": "02da1256",
   "metadata": {},
   "outputs": [],
   "source": [
    "# column 순서 변경 : weekday, 'cr_00', 'cr_05', 'cr_10', 'cr_15', 'cr_20' column을 마지막으로 이동 \n",
    "for key, val in code.items():\n",
    "    globals()['df_{}_combine'.format(val[1])] = globals()['df_{}_combine'.format(val[1])][new_columns]"
   ]
  },
  {
   "cell_type": "code",
   "execution_count": 18,
   "id": "d4f1fa06",
   "metadata": {},
   "outputs": [
    {
     "data": {
      "text/plain": [
       "'\\n# drop inf, -inf : replace inf to 1 or -1 . 데이터를 살리고\\n# 변동률이 무한대가 되는 것을 방지하기 위해서, 나중에 발생하는 에러를 방지\\ndf_sec_sel.replace([np.inf, -np.inf], [1, -1], inplace=True)\\n\\n.impute 사용하는 것을 고려할 필요 있음.\\n'"
      ]
     },
     "execution_count": 18,
     "metadata": {},
     "output_type": "execute_result"
    }
   ],
   "source": [
    "'''\n",
    "# drop inf, -inf : replace inf to 1 or -1 . 데이터를 살리고\n",
    "# 변동률이 무한대가 되는 것을 방지하기 위해서, 나중에 발생하는 에러를 방지\n",
    "df_sec_sel.replace([np.inf, -np.inf], [1, -1], inplace=True)\n",
    "\n",
    ".impute 사용하는 것을 고려할 필요 있음.\n",
    "'''"
   ]
  },
  {
   "cell_type": "code",
   "execution_count": 19,
   "id": "7e91c1c5",
   "metadata": {},
   "outputs": [],
   "source": [
    "# drop inf, -inf : replace inf to 1 or -1 . 데이터를 살리고\n",
    "# 변동률이 무한대가 되는 것을 방지하기 위해서, 나중에 발생하는 에러를 방지\n",
    "for key, val in code.items():\n",
    "    globals()['df_{}_combine'.format(val[1])].replace([np.inf, -np.inf], [1, -1], inplace=True)\n",
    "\n",
    "# **** 데이터 전처리 from sklearn.impute import SimpleImputer, SimpleImputer 사용하기로 함."
   ]
  },
  {
   "cell_type": "code",
   "execution_count": 20,
   "id": "3fa3914b",
   "metadata": {},
   "outputs": [
    {
     "data": {
      "text/html": [
       "<div>\n",
       "<style scoped>\n",
       "    .dataframe tbody tr th:only-of-type {\n",
       "        vertical-align: middle;\n",
       "    }\n",
       "\n",
       "    .dataframe tbody tr th {\n",
       "        vertical-align: top;\n",
       "    }\n",
       "\n",
       "    .dataframe thead th {\n",
       "        text-align: right;\n",
       "    }\n",
       "</style>\n",
       "<table border=\"1\" class=\"dataframe\">\n",
       "  <thead>\n",
       "    <tr style=\"text-align: right;\">\n",
       "      <th></th>\n",
       "      <th>retail_1</th>\n",
       "      <th>foreigner_1</th>\n",
       "      <th>institution_1</th>\n",
       "      <th>financial_1</th>\n",
       "      <th>invtrust_1</th>\n",
       "      <th>pension_1</th>\n",
       "      <th>privequity_1</th>\n",
       "      <th>bank_1</th>\n",
       "      <th>insurance_1</th>\n",
       "      <th>financeetc_1</th>\n",
       "      <th>...</th>\n",
       "      <th>high_2</th>\n",
       "      <th>low_2</th>\n",
       "      <th>close_2</th>\n",
       "      <th>vol_2</th>\n",
       "      <th>weekday</th>\n",
       "      <th>cr_00</th>\n",
       "      <th>cr_05</th>\n",
       "      <th>cr_10</th>\n",
       "      <th>cr_15</th>\n",
       "      <th>cr_20</th>\n",
       "    </tr>\n",
       "  </thead>\n",
       "  <tbody>\n",
       "    <tr>\n",
       "      <th>2024-10-29</th>\n",
       "      <td>-1.46578</td>\n",
       "      <td>-1.02761</td>\n",
       "      <td>-4.73515</td>\n",
       "      <td>-34.81308</td>\n",
       "      <td>9.32994</td>\n",
       "      <td>-1.26403</td>\n",
       "      <td>-2.35604</td>\n",
       "      <td>-2.46429</td>\n",
       "      <td>-2.16485</td>\n",
       "      <td>-0.14644</td>\n",
       "      <td>...</td>\n",
       "      <td>0.00000</td>\n",
       "      <td>-0.01590</td>\n",
       "      <td>0.02650</td>\n",
       "      <td>-0.11825</td>\n",
       "      <td>0</td>\n",
       "      <td>1</td>\n",
       "      <td>1</td>\n",
       "      <td>1</td>\n",
       "      <td>1</td>\n",
       "      <td>1</td>\n",
       "    </tr>\n",
       "    <tr>\n",
       "      <th>2024-10-30</th>\n",
       "      <td>-0.27649</td>\n",
       "      <td>0.01950</td>\n",
       "      <td>-0.30071</td>\n",
       "      <td>-0.52921</td>\n",
       "      <td>1.97287</td>\n",
       "      <td>0.52026</td>\n",
       "      <td>0.65090</td>\n",
       "      <td>0.01220</td>\n",
       "      <td>-0.42316</td>\n",
       "      <td>-3.44853</td>\n",
       "      <td>...</td>\n",
       "      <td>0.04745</td>\n",
       "      <td>0.02688</td>\n",
       "      <td>0.06619</td>\n",
       "      <td>0.09834</td>\n",
       "      <td>1</td>\n",
       "      <td>0</td>\n",
       "      <td>0</td>\n",
       "      <td>0</td>\n",
       "      <td>0</td>\n",
       "      <td>0</td>\n",
       "    </tr>\n",
       "    <tr>\n",
       "      <th>2024-10-31</th>\n",
       "      <td>-2.02660</td>\n",
       "      <td>-21.23566</td>\n",
       "      <td>-0.51719</td>\n",
       "      <td>-0.74031</td>\n",
       "      <td>-0.67068</td>\n",
       "      <td>1.07699</td>\n",
       "      <td>-0.20013</td>\n",
       "      <td>-0.86506</td>\n",
       "      <td>-0.47071</td>\n",
       "      <td>-0.97297</td>\n",
       "      <td>...</td>\n",
       "      <td>0.02222</td>\n",
       "      <td>0.05206</td>\n",
       "      <td>0.01721</td>\n",
       "      <td>-0.28574</td>\n",
       "      <td>2</td>\n",
       "      <td>1</td>\n",
       "      <td>0</td>\n",
       "      <td>0</td>\n",
       "      <td>0</td>\n",
       "      <td>0</td>\n",
       "    </tr>\n",
       "    <tr>\n",
       "      <th>2024-11-01</th>\n",
       "      <td>-1.06719</td>\n",
       "      <td>-0.36842</td>\n",
       "      <td>1.30072</td>\n",
       "      <td>2.09377</td>\n",
       "      <td>0.14901</td>\n",
       "      <td>1.31128</td>\n",
       "      <td>1.33352</td>\n",
       "      <td>5.98214</td>\n",
       "      <td>0.21153</td>\n",
       "      <td>4.80247</td>\n",
       "      <td>...</td>\n",
       "      <td>0.02685</td>\n",
       "      <td>0.01745</td>\n",
       "      <td>-0.00671</td>\n",
       "      <td>0.26225</td>\n",
       "      <td>3</td>\n",
       "      <td>0</td>\n",
       "      <td>0</td>\n",
       "      <td>0</td>\n",
       "      <td>0</td>\n",
       "      <td>0</td>\n",
       "    </tr>\n",
       "    <tr>\n",
       "      <th>2024-11-04</th>\n",
       "      <td>-28.27530</td>\n",
       "      <td>0.07732</td>\n",
       "      <td>-1.89070</td>\n",
       "      <td>-2.94395</td>\n",
       "      <td>-1.60886</td>\n",
       "      <td>-1.11271</td>\n",
       "      <td>-0.87076</td>\n",
       "      <td>-1.91049</td>\n",
       "      <td>-1.82540</td>\n",
       "      <td>-0.94043</td>\n",
       "      <td>...</td>\n",
       "      <td>-0.00334</td>\n",
       "      <td>-0.00853</td>\n",
       "      <td>-0.01354</td>\n",
       "      <td>-0.04386</td>\n",
       "      <td>4</td>\n",
       "      <td>0</td>\n",
       "      <td>0</td>\n",
       "      <td>0</td>\n",
       "      <td>0</td>\n",
       "      <td>0</td>\n",
       "    </tr>\n",
       "  </tbody>\n",
       "</table>\n",
       "<p>5 rows × 114 columns</p>\n",
       "</div>"
      ],
      "text/plain": [
       "            retail_1  foreigner_1  institution_1  financial_1  invtrust_1  \\\n",
       "2024-10-29  -1.46578     -1.02761       -4.73515    -34.81308     9.32994   \n",
       "2024-10-30  -0.27649      0.01950       -0.30071     -0.52921     1.97287   \n",
       "2024-10-31  -2.02660    -21.23566       -0.51719     -0.74031    -0.67068   \n",
       "2024-11-01  -1.06719     -0.36842        1.30072      2.09377     0.14901   \n",
       "2024-11-04 -28.27530      0.07732       -1.89070     -2.94395    -1.60886   \n",
       "\n",
       "            pension_1  privequity_1   bank_1  insurance_1  financeetc_1  ...  \\\n",
       "2024-10-29   -1.26403      -2.35604 -2.46429     -2.16485      -0.14644  ...   \n",
       "2024-10-30    0.52026       0.65090  0.01220     -0.42316      -3.44853  ...   \n",
       "2024-10-31    1.07699      -0.20013 -0.86506     -0.47071      -0.97297  ...   \n",
       "2024-11-01    1.31128       1.33352  5.98214      0.21153       4.80247  ...   \n",
       "2024-11-04   -1.11271      -0.87076 -1.91049     -1.82540      -0.94043  ...   \n",
       "\n",
       "             high_2    low_2  close_2    vol_2  weekday  cr_00 cr_05 cr_10  \\\n",
       "2024-10-29  0.00000 -0.01590  0.02650 -0.11825        0      1     1     1   \n",
       "2024-10-30  0.04745  0.02688  0.06619  0.09834        1      0     0     0   \n",
       "2024-10-31  0.02222  0.05206  0.01721 -0.28574        2      1     0     0   \n",
       "2024-11-01  0.02685  0.01745 -0.00671  0.26225        3      0     0     0   \n",
       "2024-11-04 -0.00334 -0.00853 -0.01354 -0.04386        4      0     0     0   \n",
       "\n",
       "            cr_15  cr_20  \n",
       "2024-10-29      1      1  \n",
       "2024-10-30      0      0  \n",
       "2024-10-31      0      0  \n",
       "2024-11-01      0      0  \n",
       "2024-11-04      0      0  \n",
       "\n",
       "[5 rows x 114 columns]"
      ]
     },
     "execution_count": 20,
     "metadata": {},
     "output_type": "execute_result"
    }
   ],
   "source": [
    "df_sec_combine.tail()"
   ]
  },
  {
   "cell_type": "code",
   "execution_count": 21,
   "id": "bf7224df",
   "metadata": {},
   "outputs": [],
   "source": [
    "nanlo = locate_nan(df_sec_combine)  # nan 위치 찾기"
   ]
  },
  {
   "cell_type": "code",
   "execution_count": 22,
   "id": "2f63d7f5",
   "metadata": {},
   "outputs": [
    {
     "name": "stdout",
     "output_type": "stream",
     "text": [
      "[[datetime.date(2022, 1, 18) 'dji_cr']\n",
      " [datetime.date(2022, 1, 18) 'dji_f_cr']\n",
      " [datetime.date(2022, 1, 18) 'dxy_cr']\n",
      " ...\n",
      " [datetime.date(2024, 11, 4) 'ixut_cr_2']\n",
      " [datetime.date(2024, 11, 4) 'nbi_cr_2']\n",
      " [datetime.date(2024, 11, 4) 'bkx_cr_2']]\n"
     ]
    }
   ],
   "source": [
    "print(nanlo)"
   ]
  },
  {
   "cell_type": "code",
   "execution_count": 23,
   "id": "21a6d628",
   "metadata": {},
   "outputs": [],
   "source": [
    "# delete rows which include NaN : dji, spx, nasdaq 기타 common 지수중 한개라도 nan인 rows 제거\n",
    "for key, val in code.items():\n",
    "    globals()['df_{}_combine'.format(val[1])].dropna(inplace=True)"
   ]
  },
  {
   "cell_type": "code",
   "execution_count": 24,
   "id": "c6f3061c",
   "metadata": {},
   "outputs": [],
   "source": [
    "# string column을 numeric으로 전환\n",
    "def string_to_num(df):\n",
    "    df.replace('%', '', regex=True, inplace=True)\n",
    "    df = df.apply(pd.to_numeric)\n",
    "    return df\n",
    "\n",
    "for key, val in code.items():\n",
    "    globals()['df_{}_combine'.format(val[1])] = string_to_num(globals()['df_{}_combine'.format(val[1])])"
   ]
  },
  {
   "cell_type": "code",
   "execution_count": 25,
   "id": "7e8d5acf",
   "metadata": {},
   "outputs": [],
   "source": [
    "# pickle로 데이터 저장\n",
    "\n",
    "for key, val in code.items():\n",
    "    globals()[f'df_{val[1]}_combine'].to_pickle(directory_for_predict + f'df_{val[1]}_combine.pkl')\n",
    "    globals()[f'df_{val[1]}_combine'].to_csv(directory_for_predict + f'df_{val[1]}_combine.csv')"
   ]
  },
  {
   "cell_type": "code",
   "execution_count": null,
   "id": "a01825d3",
   "metadata": {},
   "outputs": [],
   "source": []
  },
  {
   "cell_type": "code",
   "execution_count": null,
   "id": "3300e5b2",
   "metadata": {},
   "outputs": [],
   "source": []
  },
  {
   "cell_type": "code",
   "execution_count": null,
   "id": "1ffeab80",
   "metadata": {},
   "outputs": [],
   "source": []
  },
  {
   "cell_type": "code",
   "execution_count": null,
   "id": "a1f7c9d1",
   "metadata": {},
   "outputs": [],
   "source": []
  },
  {
   "cell_type": "code",
   "execution_count": null,
   "id": "bc80b897",
   "metadata": {},
   "outputs": [],
   "source": []
  }
 ],
 "metadata": {
  "kernelspec": {
   "display_name": "Python 3 (ipykernel)",
   "language": "python",
   "name": "python3"
  },
  "language_info": {
   "codemirror_mode": {
    "name": "ipython",
    "version": 3
   },
   "file_extension": ".py",
   "mimetype": "text/x-python",
   "name": "python",
   "nbconvert_exporter": "python",
   "pygments_lexer": "ipython3",
   "version": "3.12.2"
  }
 },
 "nbformat": 4,
 "nbformat_minor": 5
}
