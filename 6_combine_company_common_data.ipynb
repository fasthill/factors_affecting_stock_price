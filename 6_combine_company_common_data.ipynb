{
 "cells": [
  {
   "cell_type": "markdown",
   "id": "459ff0ca",
   "metadata": {},
   "source": [
    "## combine company data and common data"
   ]
  },
  {
   "cell_type": "code",
   "execution_count": 1,
   "id": "d3b5a935",
   "metadata": {},
   "outputs": [],
   "source": [
    "import datetime, time\n",
    "from datetime import date\n",
    "\n",
    "import pandas as pd\n",
    "import numpy as np\n",
    "import os\n",
    "import sys\n",
    "\n",
    "from sklearn.preprocessing import StandardScaler"
   ]
  },
  {
   "cell_type": "code",
   "execution_count": 2,
   "id": "8ef51f99",
   "metadata": {},
   "outputs": [],
   "source": [
    "module_path = os.path.abspath(os.path.join('.')) \n",
    "sys.path.append(module_path+\"\\\\data\\\\constant\")\n",
    "\n",
    "from constants import COMPANY_CODE"
   ]
  },
  {
   "cell_type": "code",
   "execution_count": 3,
   "id": "9ea60572",
   "metadata": {},
   "outputs": [
    {
     "data": {
      "text/plain": [
       "\" \\n[[datetime.date(2022, 1, 17) 'dji_cr']\\n [datetime.date(2022, 1, 17) 'dji_f_cr']\\n ...\\n [datetime.date(2023, 5, 23) 'kosdaq_cr']\\n [datetime.date(2023, 5, 23) 'kosdaq_cr_2']]\\n\""
      ]
     },
     "execution_count": 3,
     "metadata": {},
     "output_type": "execute_result"
    }
   ],
   "source": [
    "def locate_nan(df):\n",
    "    idx, idy = np.where(pd.isnull(df))\n",
    "    result = np.column_stack([df.index[idx], df.columns[idy]])\n",
    "    return result\n",
    "\n",
    "# return format\n",
    "''' \n",
    "[[datetime.date(2022, 1, 17) 'dji_cr']\n",
    " [datetime.date(2022, 1, 17) 'dji_f_cr']\n",
    " ...\n",
    " [datetime.date(2023, 5, 23) 'kosdaq_cr']\n",
    " [datetime.date(2023, 5, 23) 'kosdaq_cr_2']]\n",
    "'''"
   ]
  },
  {
   "cell_type": "code",
   "execution_count": 4,
   "id": "d6f9e0c8",
   "metadata": {},
   "outputs": [],
   "source": [
    "code = COMPANY_CODE\n",
    "\n",
    "# code = {'005930': ['삼성전자', 'sec'], '005380': ['현대차', 'hyunmotor'],\n",
    "#                  '035420': ['NAVER', 'naver'], '033780': ['KT&G', 'ktng']}\n",
    "# code = {'005930': ['삼성전자', 'sec'], '000660': ['SK하이닉스', 'skhynix']}\n",
    "# code = {'302440': ['SK바이오사이언스', 'skbio']}"
   ]
  },
  {
   "cell_type": "code",
   "execution_count": 5,
   "id": "1ced9635",
   "metadata": {},
   "outputs": [],
   "source": [
    "directory_for_predict = './data/data_for_ml/predict/'\n",
    "pkl_common_directory = './data/common_pkl/'\n",
    "pkl_directory = './data/common_pkl/'"
   ]
  },
  {
   "cell_type": "code",
   "execution_count": 6,
   "id": "a4ac3c16",
   "metadata": {},
   "outputs": [],
   "source": [
    "df_common = pd.read_pickle(directory_for_predict + '0_df_common.pkl')"
   ]
  },
  {
   "cell_type": "code",
   "execution_count": 7,
   "id": "82d5ae58",
   "metadata": {},
   "outputs": [],
   "source": [
    "for key, val in code.items():\n",
    "    df_company = pd.read_pickle(directory_for_predict + f'df_{val[1]}_company.pkl')\n",
    "    df_company = df_company.merge(df_common, how='left', left_index=True, right_index=True)\n",
    "    globals()[f'df_{val[1]}_combine'] = df_company.copy()"
   ]
  },
  {
   "cell_type": "code",
   "execution_count": 8,
   "id": "6c798e31",
   "metadata": {},
   "outputs": [
    {
     "data": {
      "text/html": [
       "<div>\n",
       "<style scoped>\n",
       "    .dataframe tbody tr th:only-of-type {\n",
       "        vertical-align: middle;\n",
       "    }\n",
       "\n",
       "    .dataframe tbody tr th {\n",
       "        vertical-align: top;\n",
       "    }\n",
       "\n",
       "    .dataframe thead th {\n",
       "        text-align: right;\n",
       "    }\n",
       "</style>\n",
       "<table border=\"1\" class=\"dataframe\">\n",
       "  <thead>\n",
       "    <tr style=\"text-align: right;\">\n",
       "      <th></th>\n",
       "      <th>retail_1</th>\n",
       "      <th>foreigner_1</th>\n",
       "      <th>institution_1</th>\n",
       "      <th>financial_1</th>\n",
       "      <th>invtrust_1</th>\n",
       "      <th>pension_1</th>\n",
       "      <th>privequity_1</th>\n",
       "      <th>bank_1</th>\n",
       "      <th>insurance_1</th>\n",
       "      <th>financeetc_1</th>\n",
       "      <th>...</th>\n",
       "      <th>ixk_cr</th>\n",
       "      <th>ixk_cr_2</th>\n",
       "      <th>ixtr_cr</th>\n",
       "      <th>ixtr_cr_2</th>\n",
       "      <th>ixut_cr</th>\n",
       "      <th>ixut_cr_2</th>\n",
       "      <th>nbi_cr</th>\n",
       "      <th>nbi_cr_2</th>\n",
       "      <th>bkx_cr</th>\n",
       "      <th>bkx_cr_2</th>\n",
       "    </tr>\n",
       "  </thead>\n",
       "  <tbody>\n",
       "    <tr>\n",
       "      <th>2023-06-22</th>\n",
       "      <td>-14.07475</td>\n",
       "      <td>-57.33179</td>\n",
       "      <td>-5.20645</td>\n",
       "      <td>4.57379</td>\n",
       "      <td>-3.94379</td>\n",
       "      <td>-3.01671</td>\n",
       "      <td>-5.71046</td>\n",
       "      <td>-106.33333</td>\n",
       "      <td>-1.81362</td>\n",
       "      <td>-inf</td>\n",
       "      <td>...</td>\n",
       "      <td>-1.53%</td>\n",
       "      <td>-1.83549</td>\n",
       "      <td>0.82%</td>\n",
       "      <td>-0.41628</td>\n",
       "      <td>-0.56%</td>\n",
       "      <td>-1.53180</td>\n",
       "      <td>-0.43%</td>\n",
       "      <td>-0.93219</td>\n",
       "      <td>-0.63%</td>\n",
       "      <td>-1.64116</td>\n",
       "    </tr>\n",
       "    <tr>\n",
       "      <th>2023-06-23</th>\n",
       "      <td>-0.92352</td>\n",
       "      <td>-1.01941</td>\n",
       "      <td>-0.72988</td>\n",
       "      <td>-0.73857</td>\n",
       "      <td>-1.00339</td>\n",
       "      <td>-0.34263</td>\n",
       "      <td>-0.93682</td>\n",
       "      <td>-1.00158</td>\n",
       "      <td>-1.50790</td>\n",
       "      <td>-1.0000</td>\n",
       "      <td>...</td>\n",
       "      <td>1.22%</td>\n",
       "      <td>-0.33335</td>\n",
       "      <td>-0.06%</td>\n",
       "      <td>0.76092</td>\n",
       "      <td>0.25%</td>\n",
       "      <td>-0.31093</td>\n",
       "      <td>0.09%</td>\n",
       "      <td>-0.34525</td>\n",
       "      <td>-2.33%</td>\n",
       "      <td>-2.94481</td>\n",
       "    </tr>\n",
       "    <tr>\n",
       "      <th>2023-06-26</th>\n",
       "      <td>-2.10559</td>\n",
       "      <td>-4.13531</td>\n",
       "      <td>-2.30814</td>\n",
       "      <td>-4.48320</td>\n",
       "      <td>69.81818</td>\n",
       "      <td>-0.90136</td>\n",
       "      <td>-3.27477</td>\n",
       "      <td>-1.00000</td>\n",
       "      <td>0.20840</td>\n",
       "      <td>-1.0000</td>\n",
       "      <td>...</td>\n",
       "      <td>-0.90%</td>\n",
       "      <td>0.30853</td>\n",
       "      <td>-1.07%</td>\n",
       "      <td>-1.13299</td>\n",
       "      <td>-1.17%</td>\n",
       "      <td>-0.92770</td>\n",
       "      <td>-1.24%</td>\n",
       "      <td>-1.15980</td>\n",
       "      <td>-1.07%</td>\n",
       "      <td>-3.37442</td>\n",
       "    </tr>\n",
       "    <tr>\n",
       "      <th>2023-06-27</th>\n",
       "      <td>-1.32425</td>\n",
       "      <td>-3.35401</td>\n",
       "      <td>-2.11128</td>\n",
       "      <td>-1.66085</td>\n",
       "      <td>-4.83697</td>\n",
       "      <td>2.60649</td>\n",
       "      <td>-1.63960</td>\n",
       "      <td>-inf</td>\n",
       "      <td>-0.65894</td>\n",
       "      <td>inf</td>\n",
       "      <td>...</td>\n",
       "      <td>-1.47%</td>\n",
       "      <td>-2.35149</td>\n",
       "      <td>1.09%</td>\n",
       "      <td>0.00627</td>\n",
       "      <td>0.85%</td>\n",
       "      <td>-0.32995</td>\n",
       "      <td>-1.27%</td>\n",
       "      <td>-2.49335</td>\n",
       "      <td>0.63%</td>\n",
       "      <td>-0.44621</td>\n",
       "    </tr>\n",
       "    <tr>\n",
       "      <th>2023-06-28</th>\n",
       "      <td>35.84717</td>\n",
       "      <td>-8.76239</td>\n",
       "      <td>1.04208</td>\n",
       "      <td>-0.67847</td>\n",
       "      <td>1.20977</td>\n",
       "      <td>4.55287</td>\n",
       "      <td>0.11455</td>\n",
       "      <td>0.15476</td>\n",
       "      <td>-5.99245</td>\n",
       "      <td>-1.0226</td>\n",
       "      <td>...</td>\n",
       "      <td>2.00%</td>\n",
       "      <td>0.50161</td>\n",
       "      <td>2.97%</td>\n",
       "      <td>4.09700</td>\n",
       "      <td>1.90%</td>\n",
       "      <td>2.76668</td>\n",
       "      <td>-1.13%</td>\n",
       "      <td>-2.37973</td>\n",
       "      <td>1.07%</td>\n",
       "      <td>1.71018</td>\n",
       "    </tr>\n",
       "  </tbody>\n",
       "</table>\n",
       "<p>5 rows × 114 columns</p>\n",
       "</div>"
      ],
      "text/plain": [
       "            retail_1  foreigner_1  institution_1  financial_1  invtrust_1   \n",
       "2023-06-22 -14.07475    -57.33179       -5.20645      4.57379    -3.94379  \\\n",
       "2023-06-23  -0.92352     -1.01941       -0.72988     -0.73857    -1.00339   \n",
       "2023-06-26  -2.10559     -4.13531       -2.30814     -4.48320    69.81818   \n",
       "2023-06-27  -1.32425     -3.35401       -2.11128     -1.66085    -4.83697   \n",
       "2023-06-28  35.84717     -8.76239        1.04208     -0.67847     1.20977   \n",
       "\n",
       "            pension_1  privequity_1     bank_1  insurance_1  financeetc_1   \n",
       "2023-06-22   -3.01671      -5.71046 -106.33333     -1.81362          -inf  \\\n",
       "2023-06-23   -0.34263      -0.93682   -1.00158     -1.50790       -1.0000   \n",
       "2023-06-26   -0.90136      -3.27477   -1.00000      0.20840       -1.0000   \n",
       "2023-06-27    2.60649      -1.63960       -inf     -0.65894           inf   \n",
       "2023-06-28    4.55287       0.11455    0.15476     -5.99245       -1.0226   \n",
       "\n",
       "            ...  ixk_cr  ixk_cr_2  ixtr_cr  ixtr_cr_2  ixut_cr  ixut_cr_2   \n",
       "2023-06-22  ...  -1.53%  -1.83549    0.82%   -0.41628   -0.56%   -1.53180  \\\n",
       "2023-06-23  ...   1.22%  -0.33335   -0.06%    0.76092    0.25%   -0.31093   \n",
       "2023-06-26  ...  -0.90%   0.30853   -1.07%   -1.13299   -1.17%   -0.92770   \n",
       "2023-06-27  ...  -1.47%  -2.35149    1.09%    0.00627    0.85%   -0.32995   \n",
       "2023-06-28  ...   2.00%   0.50161    2.97%    4.09700    1.90%    2.76668   \n",
       "\n",
       "            nbi_cr  nbi_cr_2  bkx_cr  bkx_cr_2  \n",
       "2023-06-22  -0.43%  -0.93219  -0.63%  -1.64116  \n",
       "2023-06-23   0.09%  -0.34525  -2.33%  -2.94481  \n",
       "2023-06-26  -1.24%  -1.15980  -1.07%  -3.37442  \n",
       "2023-06-27  -1.27%  -2.49335   0.63%  -0.44621  \n",
       "2023-06-28  -1.13%  -2.37973   1.07%   1.71018  \n",
       "\n",
       "[5 rows x 114 columns]"
      ]
     },
     "execution_count": 8,
     "metadata": {},
     "output_type": "execute_result"
    }
   ],
   "source": [
    "df_hyunmotor_combine.tail()"
   ]
  },
  {
   "cell_type": "code",
   "execution_count": 9,
   "id": "aeab3342",
   "metadata": {},
   "outputs": [
    {
     "data": {
      "text/plain": [
       "datetime.date(2022, 1, 7)"
      ]
     },
     "execution_count": 9,
     "metadata": {},
     "output_type": "execute_result"
    }
   ],
   "source": [
    "df_hyunmotor_combine.index[0]"
   ]
  },
  {
   "cell_type": "code",
   "execution_count": 10,
   "id": "587ac2cd",
   "metadata": {},
   "outputs": [],
   "source": [
    "col_inv1 = ['retail_1', 'foreigner_1', 'institution_1', 'financial_1', 'invtrust_1', 'pension_1', 'privequity_1', \n",
    "            'bank_1', 'insurance_1', 'financeetc_1', 'corporateetc_1', 'foreigneretc_1']\n",
    "col_inv2 = ['retail_2', 'foreigner_2', 'institution_2', 'financial_2', 'invtrust_2', 'pension_2',\n",
    "            'privequity_2', 'bank_2', 'insurance_2', 'financeetc_2', 'corporateetc_2', 'foreigneretc_2']"
   ]
  },
  {
   "cell_type": "code",
   "execution_count": 11,
   "id": "76ca8389",
   "metadata": {},
   "outputs": [],
   "source": [
    "col_his1 = ['open_1', 'high_1', 'low_1', 'close_1', 'vol_1']\n",
    "col_his2 = ['open_2', 'high_2', 'low_2', 'close_2', 'vol_2']"
   ]
  },
  {
   "cell_type": "code",
   "execution_count": 12,
   "id": "8a6b4bac",
   "metadata": {},
   "outputs": [],
   "source": [
    "col_common1 = [\"dji_cr\", \"dji_f_cr\", \"dxy_cr\", \"ixic_f_cr\", \"bond_kor_10_cr\", \"bond_kor_2_cr\", \"kosdaq_cr\", \"kospi_cr\", \n",
    "         \"krw_cr\", \"ixic_cr\", \"spx_f_cr\", \"sox_cr\", \"spx_cr\", \"bond_usa_10_cr\", \"bond_usa_2_cr\", \"bond_usa_3m_cr\", \n",
    "         \"vix_cr\", \"wti_cr\", \"spsy_cr\", \"spny_cr\", \"spxhc_cr\", \"splrcd_cr\", \"splrci_cr\", \"splrcu_cr\", \"splrcs_cr\",\n",
    "         \"splrct_cr\", \"splrcl_cr\", \"splrcm_cr\", \"ixbk_cr\", \"ixfn_cr\", \"ixid_cr\", \"ixis_cr\", \"ixk_cr\", \"ixtr_cr\",\n",
    "         \"ixut_cr\", \"nbi_cr\", \"bkx_cr\"]\n",
    "col_common2 = [\"dji_cr_2\", \"dji_f_cr_2\", \"dxy_cr_2\", \"ixic_f_cr_2\", \"bond_kor_10_cr_2\", \"bond_kor_2_cr_2\", \"kosdaq_cr_2\", \"kospi_cr_2\",\n",
    "         \"krw_cr_2\", \"ixic_cr_2\", \"spx_f_cr_2\", \"sox_cr_2\", \"spx_cr_2\", \"bond_usa_10_cr_2\", \"bond_usa_2_cr_2\", \"bond_usa_3m_cr_2\",\n",
    "         \"vix_cr_2\", \"wti_cr_2\", \"spsy_cr_2\", \"spny_cr_2\", \"spxhc_cr_2\", \"splrcd_cr_2\", \"splrci_cr_2\", \"splrcu_cr_2\",\n",
    "         \"splrcs_cr_2\", \"splrct_cr_2\", \"splrcl_cr_2\", \"splrcm_cr_2\", \"ixbk_cr_2\", \"ixfn_cr_2\", \"ixid_cr_2\",\n",
    "         \"ixis_cr_2\", \"ixk_cr_2\", \"ixtr_cr_2\", \"ixut_cr_2\", \"nbi_cr_2\", \"bkx_cr_2\"]"
   ]
  },
  {
   "cell_type": "code",
   "execution_count": 13,
   "id": "9a595935",
   "metadata": {},
   "outputs": [],
   "source": [
    "col_cr = ['weekday', 'cr_00', 'cr_05', 'cr_10', 'cr_15', 'cr_20']"
   ]
  },
  {
   "cell_type": "code",
   "execution_count": 14,
   "id": "75ec6070",
   "metadata": {},
   "outputs": [],
   "source": [
    "col_col = col_inv1 + col_common1 + col_his1 + col_inv2 + col_common2 + col_his2 + col_cr"
   ]
  },
  {
   "cell_type": "code",
   "execution_count": 15,
   "id": "ff6769da",
   "metadata": {},
   "outputs": [],
   "source": [
    "# # write common data only\n",
    "# df_temp = df_common.copy()\n",
    "# df_temp = df_temp[col_common1+col_common2]\n",
    "# pkl_common_directory = './data/common_pkl/'\n",
    "# df_temp.to_pickle(pkl_common_directory + 'df_common.pkl')\n",
    "# df_temp.to_csv(pkl_common_directory + 'df_common.csv')"
   ]
  },
  {
   "cell_type": "code",
   "execution_count": 16,
   "id": "c78c8f82",
   "metadata": {},
   "outputs": [],
   "source": [
    "new_columns = col_col"
   ]
  },
  {
   "cell_type": "code",
   "execution_count": 17,
   "id": "02da1256",
   "metadata": {},
   "outputs": [],
   "source": [
    "# column 순서 변경 : weekday, 'cr_00', 'cr_05', 'cr_10', 'cr_15', 'cr_20' column을 마지막으로 이동 \n",
    "for key, val in code.items():\n",
    "    globals()['df_{}_combine'.format(val[1])] = globals()['df_{}_combine'.format(val[1])][new_columns]"
   ]
  },
  {
   "cell_type": "code",
   "execution_count": 18,
   "id": "d4f1fa06",
   "metadata": {},
   "outputs": [
    {
     "data": {
      "text/plain": [
       "'\\n# drop inf, -inf : replace inf to 1 or -1 . 데이터를 살리고\\n# 변동률이 무한대가 되는 것을 방지하기 위해서, 나중에 발생하는 에러를 방지\\ndf_sec_sel.replace([np.inf, -np.inf], [1, -1], inplace=True)\\n\\n.impute 사용하는 것을 고려할 필요 있음.\\n'"
      ]
     },
     "execution_count": 18,
     "metadata": {},
     "output_type": "execute_result"
    }
   ],
   "source": [
    "'''\n",
    "# drop inf, -inf : replace inf to 1 or -1 . 데이터를 살리고\n",
    "# 변동률이 무한대가 되는 것을 방지하기 위해서, 나중에 발생하는 에러를 방지\n",
    "df_sec_sel.replace([np.inf, -np.inf], [1, -1], inplace=True)\n",
    "\n",
    ".impute 사용하는 것을 고려할 필요 있음.\n",
    "'''"
   ]
  },
  {
   "cell_type": "code",
   "execution_count": 19,
   "id": "7e91c1c5",
   "metadata": {},
   "outputs": [],
   "source": [
    "# drop inf, -inf : replace inf to 1 or -1 . 데이터를 살리고\n",
    "# 변동률이 무한대가 되는 것을 방지하기 위해서, 나중에 발생하는 에러를 방지\n",
    "for key, val in code.items():\n",
    "    globals()['df_{}_combine'.format(val[1])].replace([np.inf, -np.inf], [1, -1], inplace=True)\n",
    "\n",
    "# **** 데이터 전처리 from sklearn.impute import SimpleImputer, SimpleImputer 사용하기로 함."
   ]
  },
  {
   "cell_type": "code",
   "execution_count": 20,
   "id": "3fa3914b",
   "metadata": {},
   "outputs": [
    {
     "data": {
      "text/html": [
       "<div>\n",
       "<style scoped>\n",
       "    .dataframe tbody tr th:only-of-type {\n",
       "        vertical-align: middle;\n",
       "    }\n",
       "\n",
       "    .dataframe tbody tr th {\n",
       "        vertical-align: top;\n",
       "    }\n",
       "\n",
       "    .dataframe thead th {\n",
       "        text-align: right;\n",
       "    }\n",
       "</style>\n",
       "<table border=\"1\" class=\"dataframe\">\n",
       "  <thead>\n",
       "    <tr style=\"text-align: right;\">\n",
       "      <th></th>\n",
       "      <th>retail_1</th>\n",
       "      <th>foreigner_1</th>\n",
       "      <th>institution_1</th>\n",
       "      <th>financial_1</th>\n",
       "      <th>invtrust_1</th>\n",
       "      <th>pension_1</th>\n",
       "      <th>privequity_1</th>\n",
       "      <th>bank_1</th>\n",
       "      <th>insurance_1</th>\n",
       "      <th>financeetc_1</th>\n",
       "      <th>...</th>\n",
       "      <th>high_2</th>\n",
       "      <th>low_2</th>\n",
       "      <th>close_2</th>\n",
       "      <th>vol_2</th>\n",
       "      <th>weekday</th>\n",
       "      <th>cr_00</th>\n",
       "      <th>cr_05</th>\n",
       "      <th>cr_10</th>\n",
       "      <th>cr_15</th>\n",
       "      <th>cr_20</th>\n",
       "    </tr>\n",
       "  </thead>\n",
       "  <tbody>\n",
       "    <tr>\n",
       "      <th>2023-06-22</th>\n",
       "      <td>-2.69075</td>\n",
       "      <td>-1.55676</td>\n",
       "      <td>-0.13255</td>\n",
       "      <td>3.60213</td>\n",
       "      <td>0.41362</td>\n",
       "      <td>0.01545</td>\n",
       "      <td>-3.62429</td>\n",
       "      <td>-0.97297</td>\n",
       "      <td>1.34848</td>\n",
       "      <td>-1.00980</td>\n",
       "      <td>...</td>\n",
       "      <td>-0.00697</td>\n",
       "      <td>-0.00705</td>\n",
       "      <td>-0.00983</td>\n",
       "      <td>-0.04272</td>\n",
       "      <td>2</td>\n",
       "      <td>1</td>\n",
       "      <td>1</td>\n",
       "      <td>1</td>\n",
       "      <td>0</td>\n",
       "      <td>0</td>\n",
       "    </tr>\n",
       "    <tr>\n",
       "      <th>2023-06-23</th>\n",
       "      <td>-3.50789</td>\n",
       "      <td>-4.80662</td>\n",
       "      <td>-1.88203</td>\n",
       "      <td>-1.17607</td>\n",
       "      <td>-0.64930</td>\n",
       "      <td>-1.88451</td>\n",
       "      <td>-2.56915</td>\n",
       "      <td>-1.00000</td>\n",
       "      <td>2.44677</td>\n",
       "      <td>-6.00000</td>\n",
       "      <td>...</td>\n",
       "      <td>0.00140</td>\n",
       "      <td>-0.00426</td>\n",
       "      <td>-0.00140</td>\n",
       "      <td>-0.01271</td>\n",
       "      <td>3</td>\n",
       "      <td>1</td>\n",
       "      <td>0</td>\n",
       "      <td>0</td>\n",
       "      <td>0</td>\n",
       "      <td>0</td>\n",
       "    </tr>\n",
       "    <tr>\n",
       "      <th>2023-06-26</th>\n",
       "      <td>0.22190</td>\n",
       "      <td>1.21271</td>\n",
       "      <td>-5.89463</td>\n",
       "      <td>32.50469</td>\n",
       "      <td>-0.07889</td>\n",
       "      <td>-0.98108</td>\n",
       "      <td>1.11378</td>\n",
       "      <td>-1.00000</td>\n",
       "      <td>0.05803</td>\n",
       "      <td>-0.40000</td>\n",
       "      <td>...</td>\n",
       "      <td>0.01404</td>\n",
       "      <td>0.01705</td>\n",
       "      <td>0.01560</td>\n",
       "      <td>0.16025</td>\n",
       "      <td>4</td>\n",
       "      <td>1</td>\n",
       "      <td>1</td>\n",
       "      <td>1</td>\n",
       "      <td>0</td>\n",
       "      <td>0</td>\n",
       "    </tr>\n",
       "    <tr>\n",
       "      <th>2023-06-27</th>\n",
       "      <td>0.53055</td>\n",
       "      <td>-0.21038</td>\n",
       "      <td>-1.57534</td>\n",
       "      <td>-1.57362</td>\n",
       "      <td>0.00721</td>\n",
       "      <td>-1.11728</td>\n",
       "      <td>-0.96482</td>\n",
       "      <td>9.60274</td>\n",
       "      <td>-0.67094</td>\n",
       "      <td>-55.33333</td>\n",
       "      <td>...</td>\n",
       "      <td>0.01399</td>\n",
       "      <td>0.01997</td>\n",
       "      <td>0.01543</td>\n",
       "      <td>-0.07616</td>\n",
       "      <td>0</td>\n",
       "      <td>1</td>\n",
       "      <td>0</td>\n",
       "      <td>0</td>\n",
       "      <td>0</td>\n",
       "      <td>0</td>\n",
       "    </tr>\n",
       "    <tr>\n",
       "      <th>2023-06-28</th>\n",
       "      <td>-0.54525</td>\n",
       "      <td>-0.33883</td>\n",
       "      <td>-1.46326</td>\n",
       "      <td>-2.09403</td>\n",
       "      <td>-3.20363</td>\n",
       "      <td>-347.73684</td>\n",
       "      <td>28.98707</td>\n",
       "      <td>-0.99699</td>\n",
       "      <td>-0.79906</td>\n",
       "      <td>-1.04294</td>\n",
       "      <td>...</td>\n",
       "      <td>0.00554</td>\n",
       "      <td>0.00559</td>\n",
       "      <td>0.01397</td>\n",
       "      <td>-0.23583</td>\n",
       "      <td>1</td>\n",
       "      <td>0</td>\n",
       "      <td>0</td>\n",
       "      <td>0</td>\n",
       "      <td>0</td>\n",
       "      <td>0</td>\n",
       "    </tr>\n",
       "  </tbody>\n",
       "</table>\n",
       "<p>5 rows × 114 columns</p>\n",
       "</div>"
      ],
      "text/plain": [
       "            retail_1  foreigner_1  institution_1  financial_1  invtrust_1   \n",
       "2023-06-22  -2.69075     -1.55676       -0.13255      3.60213     0.41362  \\\n",
       "2023-06-23  -3.50789     -4.80662       -1.88203     -1.17607    -0.64930   \n",
       "2023-06-26   0.22190      1.21271       -5.89463     32.50469    -0.07889   \n",
       "2023-06-27   0.53055     -0.21038       -1.57534     -1.57362     0.00721   \n",
       "2023-06-28  -0.54525     -0.33883       -1.46326     -2.09403    -3.20363   \n",
       "\n",
       "            pension_1  privequity_1   bank_1  insurance_1  financeetc_1  ...   \n",
       "2023-06-22    0.01545      -3.62429 -0.97297      1.34848      -1.00980  ...  \\\n",
       "2023-06-23   -1.88451      -2.56915 -1.00000      2.44677      -6.00000  ...   \n",
       "2023-06-26   -0.98108       1.11378 -1.00000      0.05803      -0.40000  ...   \n",
       "2023-06-27   -1.11728      -0.96482  9.60274     -0.67094     -55.33333  ...   \n",
       "2023-06-28 -347.73684      28.98707 -0.99699     -0.79906      -1.04294  ...   \n",
       "\n",
       "             high_2    low_2  close_2    vol_2  weekday  cr_00 cr_05 cr_10   \n",
       "2023-06-22 -0.00697 -0.00705 -0.00983 -0.04272        2      1     1     1  \\\n",
       "2023-06-23  0.00140 -0.00426 -0.00140 -0.01271        3      1     0     0   \n",
       "2023-06-26  0.01404  0.01705  0.01560  0.16025        4      1     1     1   \n",
       "2023-06-27  0.01399  0.01997  0.01543 -0.07616        0      1     0     0   \n",
       "2023-06-28  0.00554  0.00559  0.01397 -0.23583        1      0     0     0   \n",
       "\n",
       "            cr_15  cr_20  \n",
       "2023-06-22      0      0  \n",
       "2023-06-23      0      0  \n",
       "2023-06-26      0      0  \n",
       "2023-06-27      0      0  \n",
       "2023-06-28      0      0  \n",
       "\n",
       "[5 rows x 114 columns]"
      ]
     },
     "execution_count": 20,
     "metadata": {},
     "output_type": "execute_result"
    }
   ],
   "source": [
    "df_sec_combine.tail()"
   ]
  },
  {
   "cell_type": "code",
   "execution_count": 21,
   "id": "bf7224df",
   "metadata": {},
   "outputs": [],
   "source": [
    "nanlo = locate_nan(df_sec_combine)  # nan 위치 찾기"
   ]
  },
  {
   "cell_type": "code",
   "execution_count": 22,
   "id": "2f63d7f5",
   "metadata": {},
   "outputs": [
    {
     "name": "stdout",
     "output_type": "stream",
     "text": [
      "[[datetime.date(2022, 1, 18) 'dji_cr']\n",
      " [datetime.date(2022, 1, 18) 'dji_f_cr']\n",
      " [datetime.date(2022, 1, 18) 'dxy_cr']\n",
      " ...\n",
      " [datetime.date(2023, 6, 20) 'ixut_cr_2']\n",
      " [datetime.date(2023, 6, 20) 'nbi_cr_2']\n",
      " [datetime.date(2023, 6, 20) 'bkx_cr_2']]\n"
     ]
    }
   ],
   "source": [
    "print(nanlo)"
   ]
  },
  {
   "cell_type": "code",
   "execution_count": 23,
   "id": "21a6d628",
   "metadata": {},
   "outputs": [],
   "source": [
    "# delete rows which include NaN : dji, spx, nasdaq 기타 common 지수중 한개라도 nan인 rows 제거\n",
    "for key, val in code.items():\n",
    "    globals()['df_{}_combine'.format(val[1])].dropna(inplace=True)"
   ]
  },
  {
   "cell_type": "code",
   "execution_count": 24,
   "id": "c6f3061c",
   "metadata": {},
   "outputs": [],
   "source": [
    "# string column을 numeric으로 전환\n",
    "def string_to_num(df):\n",
    "    df.replace('%', '', regex=True, inplace=True)\n",
    "    df = df.apply(pd.to_numeric)\n",
    "    return df\n",
    "\n",
    "for key, val in code.items():\n",
    "    globals()['df_{}_combine'.format(val[1])] = string_to_num(globals()['df_{}_combine'.format(val[1])])"
   ]
  },
  {
   "cell_type": "code",
   "execution_count": 25,
   "id": "7e8d5acf",
   "metadata": {},
   "outputs": [],
   "source": [
    "# pickle로 데이터 저장\n",
    "\n",
    "for key, val in code.items():\n",
    "    globals()[f'df_{val[1]}_combine'].to_pickle(directory_for_predict + f'df_{val[1]}_combine.pkl')\n",
    "    globals()[f'df_{val[1]}_combine'].to_csv(directory_for_predict + f'df_{val[1]}_combine.csv')"
   ]
  },
  {
   "cell_type": "code",
   "execution_count": null,
   "id": "a01825d3",
   "metadata": {},
   "outputs": [],
   "source": []
  },
  {
   "cell_type": "code",
   "execution_count": null,
   "id": "a1f7c9d1",
   "metadata": {},
   "outputs": [],
   "source": []
  },
  {
   "cell_type": "code",
   "execution_count": null,
   "id": "bc80b897",
   "metadata": {},
   "outputs": [],
   "source": []
  }
 ],
 "metadata": {
  "kernelspec": {
   "display_name": "Python 3 (ipykernel)",
   "language": "python",
   "name": "python3"
  },
  "language_info": {
   "codemirror_mode": {
    "name": "ipython",
    "version": 3
   },
   "file_extension": ".py",
   "mimetype": "text/x-python",
   "name": "python",
   "nbconvert_exporter": "python",
   "pygments_lexer": "ipython3",
   "version": "3.9.1"
  }
 },
 "nbformat": 4,
 "nbformat_minor": 5
}
