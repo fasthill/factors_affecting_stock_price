{
 "cells": [
  {
   "cell_type": "markdown",
   "id": "459ff0ca",
   "metadata": {},
   "source": [
    "## combine company data and common data"
   ]
  },
  {
   "cell_type": "code",
   "execution_count": 1,
   "id": "d3b5a935",
   "metadata": {},
   "outputs": [],
   "source": [
    "import datetime, time\n",
    "from datetime import date\n",
    "\n",
    "import pandas as pd\n",
    "import numpy as np\n",
    "import os\n",
    "import sys\n",
    "\n",
    "from sklearn.preprocessing import StandardScaler"
   ]
  },
  {
   "cell_type": "code",
   "execution_count": 2,
   "id": "8ef51f99",
   "metadata": {},
   "outputs": [],
   "source": [
    "module_path = os.path.abspath(os.path.join('.')) \n",
    "sys.path.append(module_path+\"\\\\data\\\\constant\")\n",
    "\n",
    "from constants import COMPANY_CODE"
   ]
  },
  {
   "cell_type": "code",
   "execution_count": 3,
   "id": "9ea60572",
   "metadata": {},
   "outputs": [
    {
     "data": {
      "text/plain": [
       "\" \\n[[datetime.date(2022, 1, 17) 'dji_cr']\\n [datetime.date(2022, 1, 17) 'dji_f_cr']\\n ...\\n [datetime.date(2023, 5, 23) 'kosdaq_cr']\\n [datetime.date(2023, 5, 23) 'kosdaq_cr_2']]\\n\""
      ]
     },
     "execution_count": 3,
     "metadata": {},
     "output_type": "execute_result"
    }
   ],
   "source": [
    "def locate_nan(df):\n",
    "    idx, idy = np.where(pd.isnull(df))\n",
    "    result = np.column_stack([df.index[idx], df.columns[idy]])\n",
    "    return result\n",
    "\n",
    "# return format\n",
    "''' \n",
    "[[datetime.date(2022, 1, 17) 'dji_cr']\n",
    " [datetime.date(2022, 1, 17) 'dji_f_cr']\n",
    " ...\n",
    " [datetime.date(2023, 5, 23) 'kosdaq_cr']\n",
    " [datetime.date(2023, 5, 23) 'kosdaq_cr_2']]\n",
    "'''"
   ]
  },
  {
   "cell_type": "code",
   "execution_count": 4,
   "id": "d6f9e0c8",
   "metadata": {},
   "outputs": [],
   "source": [
    "code = COMPANY_CODE\n",
    "\n",
    "# code = {'005930': ['삼성전자', 'sec'], '005380': ['현대차', 'hyunmotor'],\n",
    "#                  '035420': ['NAVER', 'naver'], '033780': ['KT&G', 'ktng']}\n",
    "# code = {'005930': ['삼성전자', 'sec'], '000660': ['SK하이닉스', 'skhynix']}\n",
    "# code = {'302440': ['SK바이오사이언스', 'skbio']}"
   ]
  },
  {
   "cell_type": "code",
   "execution_count": 5,
   "id": "1ced9635",
   "metadata": {},
   "outputs": [],
   "source": [
    "directory_for_predict = './data/data_for_ml/predict/'\n",
    "pkl_common_directory = './data/common_pkl/'\n",
    "pkl_directory = './data/common_pkl/'"
   ]
  },
  {
   "cell_type": "code",
   "execution_count": 6,
   "id": "a4ac3c16",
   "metadata": {},
   "outputs": [],
   "source": [
    "df_common = pd.read_pickle(directory_for_predict + '0_df_common.pkl')"
   ]
  },
  {
   "cell_type": "code",
   "execution_count": 7,
   "id": "82d5ae58",
   "metadata": {},
   "outputs": [],
   "source": [
    "for key, val in code.items():\n",
    "    df_company = pd.read_pickle(directory_for_predict + f'df_{val[1]}_company.pkl')\n",
    "    df_company = df_company.merge(df_common, how='left', left_index=True, right_index=True)\n",
    "    globals()[f'df_{val[1]}_combine'] = df_company.copy()"
   ]
  },
  {
   "cell_type": "code",
   "execution_count": 8,
   "id": "6c798e31",
   "metadata": {},
   "outputs": [
    {
     "data": {
      "text/html": [
       "<div>\n",
       "<style scoped>\n",
       "    .dataframe tbody tr th:only-of-type {\n",
       "        vertical-align: middle;\n",
       "    }\n",
       "\n",
       "    .dataframe tbody tr th {\n",
       "        vertical-align: top;\n",
       "    }\n",
       "\n",
       "    .dataframe thead th {\n",
       "        text-align: right;\n",
       "    }\n",
       "</style>\n",
       "<table border=\"1\" class=\"dataframe\">\n",
       "  <thead>\n",
       "    <tr style=\"text-align: right;\">\n",
       "      <th></th>\n",
       "      <th>retail_1</th>\n",
       "      <th>foreigner_1</th>\n",
       "      <th>institution_1</th>\n",
       "      <th>financial_1</th>\n",
       "      <th>invtrust_1</th>\n",
       "      <th>pension_1</th>\n",
       "      <th>privequity_1</th>\n",
       "      <th>bank_1</th>\n",
       "      <th>insurance_1</th>\n",
       "      <th>financeetc_1</th>\n",
       "      <th>...</th>\n",
       "      <th>ixk_cr</th>\n",
       "      <th>ixk_cr_2</th>\n",
       "      <th>ixtr_cr</th>\n",
       "      <th>ixtr_cr_2</th>\n",
       "      <th>ixut_cr</th>\n",
       "      <th>ixut_cr_2</th>\n",
       "      <th>nbi_cr</th>\n",
       "      <th>nbi_cr_2</th>\n",
       "      <th>bkx_cr</th>\n",
       "      <th>bkx_cr_2</th>\n",
       "    </tr>\n",
       "  </thead>\n",
       "  <tbody>\n",
       "    <tr>\n",
       "      <th>2024-10-21</th>\n",
       "      <td>-0.86157</td>\n",
       "      <td>-0.53359</td>\n",
       "      <td>-1.37392</td>\n",
       "      <td>-1.72335</td>\n",
       "      <td>-0.87882</td>\n",
       "      <td>-1.34967</td>\n",
       "      <td>-0.41319</td>\n",
       "      <td>-1.00000</td>\n",
       "      <td>-0.61842</td>\n",
       "      <td>-1.12303</td>\n",
       "      <td>...</td>\n",
       "      <td>0.50%</td>\n",
       "      <td>0.68516</td>\n",
       "      <td>1.24%</td>\n",
       "      <td>-0.57497</td>\n",
       "      <td>0.16%</td>\n",
       "      <td>0.51169</td>\n",
       "      <td>0.08%</td>\n",
       "      <td>-0.42352</td>\n",
       "      <td>-0.31%</td>\n",
       "      <td>-0.20362</td>\n",
       "    </tr>\n",
       "    <tr>\n",
       "      <th>2024-10-22</th>\n",
       "      <td>-1.24982</td>\n",
       "      <td>-0.95757</td>\n",
       "      <td>-0.68432</td>\n",
       "      <td>-0.48593</td>\n",
       "      <td>-2.54087</td>\n",
       "      <td>-1.06202</td>\n",
       "      <td>3.56805</td>\n",
       "      <td>-inf</td>\n",
       "      <td>-4.50517</td>\n",
       "      <td>14.82051</td>\n",
       "      <td>...</td>\n",
       "      <td>0.91%</td>\n",
       "      <td>1.42075</td>\n",
       "      <td>-0.99%</td>\n",
       "      <td>0.23946</td>\n",
       "      <td>-1.20%</td>\n",
       "      <td>-1.04325</td>\n",
       "      <td>-1.45%</td>\n",
       "      <td>-1.37209</td>\n",
       "      <td>-1.78%</td>\n",
       "      <td>-2.08283</td>\n",
       "    </tr>\n",
       "    <tr>\n",
       "      <th>2024-10-22</th>\n",
       "      <td>-1.24982</td>\n",
       "      <td>-0.95757</td>\n",
       "      <td>-0.68432</td>\n",
       "      <td>-0.48593</td>\n",
       "      <td>-2.54087</td>\n",
       "      <td>-1.06202</td>\n",
       "      <td>3.56805</td>\n",
       "      <td>-inf</td>\n",
       "      <td>-4.50517</td>\n",
       "      <td>14.82051</td>\n",
       "      <td>...</td>\n",
       "      <td>0.91%</td>\n",
       "      <td>1.42075</td>\n",
       "      <td>-0.99%</td>\n",
       "      <td>0.23946</td>\n",
       "      <td>-1.20%</td>\n",
       "      <td>-1.04325</td>\n",
       "      <td>-1.45%</td>\n",
       "      <td>-1.37209</td>\n",
       "      <td>-1.78%</td>\n",
       "      <td>-2.08283</td>\n",
       "    </tr>\n",
       "    <tr>\n",
       "      <th>2024-10-23</th>\n",
       "      <td>-3.47474</td>\n",
       "      <td>3.68789</td>\n",
       "      <td>-1.67431</td>\n",
       "      <td>-1.96248</td>\n",
       "      <td>-0.45554</td>\n",
       "      <td>-2.37826</td>\n",
       "      <td>-2.00648</td>\n",
       "      <td>7.39796</td>\n",
       "      <td>-1.19528</td>\n",
       "      <td>-1.00000</td>\n",
       "      <td>...</td>\n",
       "      <td>0.34%</td>\n",
       "      <td>1.25236</td>\n",
       "      <td>-0.57%</td>\n",
       "      <td>-1.55296</td>\n",
       "      <td>0.38%</td>\n",
       "      <td>-0.82646</td>\n",
       "      <td>-0.08%</td>\n",
       "      <td>-1.53437</td>\n",
       "      <td>0.71%</td>\n",
       "      <td>-1.08545</td>\n",
       "    </tr>\n",
       "    <tr>\n",
       "      <th>2024-10-24</th>\n",
       "      <td>-5.33591</td>\n",
       "      <td>-3.78788</td>\n",
       "      <td>-7.51037</td>\n",
       "      <td>-3.53411</td>\n",
       "      <td>8.32378</td>\n",
       "      <td>3.54469</td>\n",
       "      <td>2.92535</td>\n",
       "      <td>-1.00000</td>\n",
       "      <td>-11.69018</td>\n",
       "      <td>-1.00000</td>\n",
       "      <td>...</td>\n",
       "      <td>NaN</td>\n",
       "      <td>NaN</td>\n",
       "      <td>NaN</td>\n",
       "      <td>NaN</td>\n",
       "      <td>NaN</td>\n",
       "      <td>NaN</td>\n",
       "      <td>NaN</td>\n",
       "      <td>NaN</td>\n",
       "      <td>NaN</td>\n",
       "      <td>NaN</td>\n",
       "    </tr>\n",
       "  </tbody>\n",
       "</table>\n",
       "<p>5 rows × 114 columns</p>\n",
       "</div>"
      ],
      "text/plain": [
       "            retail_1  foreigner_1  institution_1  financial_1  invtrust_1  \\\n",
       "2024-10-21  -0.86157     -0.53359       -1.37392     -1.72335    -0.87882   \n",
       "2024-10-22  -1.24982     -0.95757       -0.68432     -0.48593    -2.54087   \n",
       "2024-10-22  -1.24982     -0.95757       -0.68432     -0.48593    -2.54087   \n",
       "2024-10-23  -3.47474      3.68789       -1.67431     -1.96248    -0.45554   \n",
       "2024-10-24  -5.33591     -3.78788       -7.51037     -3.53411     8.32378   \n",
       "\n",
       "            pension_1  privequity_1   bank_1  insurance_1  financeetc_1  ...  \\\n",
       "2024-10-21   -1.34967      -0.41319 -1.00000     -0.61842      -1.12303  ...   \n",
       "2024-10-22   -1.06202       3.56805     -inf     -4.50517      14.82051  ...   \n",
       "2024-10-22   -1.06202       3.56805     -inf     -4.50517      14.82051  ...   \n",
       "2024-10-23   -2.37826      -2.00648  7.39796     -1.19528      -1.00000  ...   \n",
       "2024-10-24    3.54469       2.92535 -1.00000    -11.69018      -1.00000  ...   \n",
       "\n",
       "            ixk_cr  ixk_cr_2  ixtr_cr  ixtr_cr_2  ixut_cr  ixut_cr_2  nbi_cr  \\\n",
       "2024-10-21   0.50%   0.68516    1.24%   -0.57497    0.16%    0.51169   0.08%   \n",
       "2024-10-22   0.91%   1.42075   -0.99%    0.23946   -1.20%   -1.04325  -1.45%   \n",
       "2024-10-22   0.91%   1.42075   -0.99%    0.23946   -1.20%   -1.04325  -1.45%   \n",
       "2024-10-23   0.34%   1.25236   -0.57%   -1.55296    0.38%   -0.82646  -0.08%   \n",
       "2024-10-24     NaN       NaN      NaN        NaN      NaN        NaN     NaN   \n",
       "\n",
       "            nbi_cr_2  bkx_cr  bkx_cr_2  \n",
       "2024-10-21  -0.42352  -0.31%  -0.20362  \n",
       "2024-10-22  -1.37209  -1.78%  -2.08283  \n",
       "2024-10-22  -1.37209  -1.78%  -2.08283  \n",
       "2024-10-23  -1.53437   0.71%  -1.08545  \n",
       "2024-10-24       NaN     NaN       NaN  \n",
       "\n",
       "[5 rows x 114 columns]"
      ]
     },
     "execution_count": 8,
     "metadata": {},
     "output_type": "execute_result"
    }
   ],
   "source": [
    "df_hyunmotor_combine.tail()"
   ]
  },
  {
   "cell_type": "code",
   "execution_count": 9,
   "id": "aeab3342",
   "metadata": {},
   "outputs": [
    {
     "data": {
      "text/plain": [
       "datetime.date(2022, 1, 7)"
      ]
     },
     "execution_count": 9,
     "metadata": {},
     "output_type": "execute_result"
    }
   ],
   "source": [
    "df_hyunmotor_combine.index[0]"
   ]
  },
  {
   "cell_type": "code",
   "execution_count": 10,
   "id": "587ac2cd",
   "metadata": {},
   "outputs": [],
   "source": [
    "col_inv1 = ['retail_1', 'foreigner_1', 'institution_1', 'financial_1', 'invtrust_1', 'pension_1', 'privequity_1', \n",
    "            'bank_1', 'insurance_1', 'financeetc_1', 'corporateetc_1', 'foreigneretc_1']\n",
    "col_inv2 = ['retail_2', 'foreigner_2', 'institution_2', 'financial_2', 'invtrust_2', 'pension_2',\n",
    "            'privequity_2', 'bank_2', 'insurance_2', 'financeetc_2', 'corporateetc_2', 'foreigneretc_2']"
   ]
  },
  {
   "cell_type": "code",
   "execution_count": 11,
   "id": "76ca8389",
   "metadata": {},
   "outputs": [],
   "source": [
    "col_his1 = ['open_1', 'high_1', 'low_1', 'close_1', 'vol_1']\n",
    "col_his2 = ['open_2', 'high_2', 'low_2', 'close_2', 'vol_2']"
   ]
  },
  {
   "cell_type": "code",
   "execution_count": 12,
   "id": "8a6b4bac",
   "metadata": {},
   "outputs": [],
   "source": [
    "col_common1 = [\"dji_cr\", \"dji_f_cr\", \"dxy_cr\", \"ixic_f_cr\", \"bond_kor_10_cr\", \"bond_kor_2_cr\", \"kosdaq_cr\", \"kospi_cr\", \n",
    "         \"krw_cr\", \"ixic_cr\", \"spx_f_cr\", \"sox_cr\", \"spx_cr\", \"bond_usa_10_cr\", \"bond_usa_2_cr\", \"bond_usa_3m_cr\", \n",
    "         \"vix_cr\", \"wti_cr\", \"spsy_cr\", \"spny_cr\", \"spxhc_cr\", \"splrcd_cr\", \"splrci_cr\", \"splrcu_cr\", \"splrcs_cr\",\n",
    "         \"splrct_cr\", \"splrcl_cr\", \"splrcm_cr\", \"ixbk_cr\", \"ixfn_cr\", \"ixid_cr\", \"ixis_cr\", \"ixk_cr\", \"ixtr_cr\",\n",
    "         \"ixut_cr\", \"nbi_cr\", \"bkx_cr\"]\n",
    "col_common2 = [\"dji_cr_2\", \"dji_f_cr_2\", \"dxy_cr_2\", \"ixic_f_cr_2\", \"bond_kor_10_cr_2\", \"bond_kor_2_cr_2\", \"kosdaq_cr_2\", \"kospi_cr_2\",\n",
    "         \"krw_cr_2\", \"ixic_cr_2\", \"spx_f_cr_2\", \"sox_cr_2\", \"spx_cr_2\", \"bond_usa_10_cr_2\", \"bond_usa_2_cr_2\", \"bond_usa_3m_cr_2\",\n",
    "         \"vix_cr_2\", \"wti_cr_2\", \"spsy_cr_2\", \"spny_cr_2\", \"spxhc_cr_2\", \"splrcd_cr_2\", \"splrci_cr_2\", \"splrcu_cr_2\",\n",
    "         \"splrcs_cr_2\", \"splrct_cr_2\", \"splrcl_cr_2\", \"splrcm_cr_2\", \"ixbk_cr_2\", \"ixfn_cr_2\", \"ixid_cr_2\",\n",
    "         \"ixis_cr_2\", \"ixk_cr_2\", \"ixtr_cr_2\", \"ixut_cr_2\", \"nbi_cr_2\", \"bkx_cr_2\"]"
   ]
  },
  {
   "cell_type": "code",
   "execution_count": 13,
   "id": "9a595935",
   "metadata": {},
   "outputs": [],
   "source": [
    "col_cr = ['weekday', 'cr_00', 'cr_05', 'cr_10', 'cr_15', 'cr_20']"
   ]
  },
  {
   "cell_type": "code",
   "execution_count": 14,
   "id": "75ec6070",
   "metadata": {},
   "outputs": [],
   "source": [
    "col_col = col_inv1 + col_common1 + col_his1 + col_inv2 + col_common2 + col_his2 + col_cr"
   ]
  },
  {
   "cell_type": "code",
   "execution_count": 15,
   "id": "ff6769da",
   "metadata": {},
   "outputs": [],
   "source": [
    "# # write common data only\n",
    "# df_temp = df_common.copy()\n",
    "# df_temp = df_temp[col_common1+col_common2]\n",
    "# pkl_common_directory = './data/common_pkl/'\n",
    "# df_temp.to_pickle(pkl_common_directory + 'df_common.pkl')\n",
    "# df_temp.to_csv(pkl_common_directory + 'df_common.csv')"
   ]
  },
  {
   "cell_type": "code",
   "execution_count": 16,
   "id": "c78c8f82",
   "metadata": {},
   "outputs": [],
   "source": [
    "new_columns = col_col"
   ]
  },
  {
   "cell_type": "code",
   "execution_count": 17,
   "id": "02da1256",
   "metadata": {},
   "outputs": [],
   "source": [
    "# column 순서 변경 : weekday, 'cr_00', 'cr_05', 'cr_10', 'cr_15', 'cr_20' column을 마지막으로 이동 \n",
    "for key, val in code.items():\n",
    "    globals()['df_{}_combine'.format(val[1])] = globals()['df_{}_combine'.format(val[1])][new_columns]"
   ]
  },
  {
   "cell_type": "code",
   "execution_count": 18,
   "id": "d4f1fa06",
   "metadata": {},
   "outputs": [
    {
     "data": {
      "text/plain": [
       "'\\n# drop inf, -inf : replace inf to 1 or -1 . 데이터를 살리고\\n# 변동률이 무한대가 되는 것을 방지하기 위해서, 나중에 발생하는 에러를 방지\\ndf_sec_sel.replace([np.inf, -np.inf], [1, -1], inplace=True)\\n\\n.impute 사용하는 것을 고려할 필요 있음.\\n'"
      ]
     },
     "execution_count": 18,
     "metadata": {},
     "output_type": "execute_result"
    }
   ],
   "source": [
    "'''\n",
    "# drop inf, -inf : replace inf to 1 or -1 . 데이터를 살리고\n",
    "# 변동률이 무한대가 되는 것을 방지하기 위해서, 나중에 발생하는 에러를 방지\n",
    "df_sec_sel.replace([np.inf, -np.inf], [1, -1], inplace=True)\n",
    "\n",
    ".impute 사용하는 것을 고려할 필요 있음.\n",
    "'''"
   ]
  },
  {
   "cell_type": "code",
   "execution_count": 19,
   "id": "7e91c1c5",
   "metadata": {},
   "outputs": [],
   "source": [
    "# drop inf, -inf : replace inf to 1 or -1 . 데이터를 살리고\n",
    "# 변동률이 무한대가 되는 것을 방지하기 위해서, 나중에 발생하는 에러를 방지\n",
    "for key, val in code.items():\n",
    "    globals()['df_{}_combine'.format(val[1])].replace([np.inf, -np.inf], [1, -1], inplace=True)\n",
    "\n",
    "# **** 데이터 전처리 from sklearn.impute import SimpleImputer, SimpleImputer 사용하기로 함."
   ]
  },
  {
   "cell_type": "code",
   "execution_count": 20,
   "id": "3fa3914b",
   "metadata": {},
   "outputs": [
    {
     "data": {
      "text/html": [
       "<div>\n",
       "<style scoped>\n",
       "    .dataframe tbody tr th:only-of-type {\n",
       "        vertical-align: middle;\n",
       "    }\n",
       "\n",
       "    .dataframe tbody tr th {\n",
       "        vertical-align: top;\n",
       "    }\n",
       "\n",
       "    .dataframe thead th {\n",
       "        text-align: right;\n",
       "    }\n",
       "</style>\n",
       "<table border=\"1\" class=\"dataframe\">\n",
       "  <thead>\n",
       "    <tr style=\"text-align: right;\">\n",
       "      <th></th>\n",
       "      <th>retail_1</th>\n",
       "      <th>foreigner_1</th>\n",
       "      <th>institution_1</th>\n",
       "      <th>financial_1</th>\n",
       "      <th>invtrust_1</th>\n",
       "      <th>pension_1</th>\n",
       "      <th>privequity_1</th>\n",
       "      <th>bank_1</th>\n",
       "      <th>insurance_1</th>\n",
       "      <th>financeetc_1</th>\n",
       "      <th>...</th>\n",
       "      <th>high_2</th>\n",
       "      <th>low_2</th>\n",
       "      <th>close_2</th>\n",
       "      <th>vol_2</th>\n",
       "      <th>weekday</th>\n",
       "      <th>cr_00</th>\n",
       "      <th>cr_05</th>\n",
       "      <th>cr_10</th>\n",
       "      <th>cr_15</th>\n",
       "      <th>cr_20</th>\n",
       "    </tr>\n",
       "  </thead>\n",
       "  <tbody>\n",
       "    <tr>\n",
       "      <th>2024-10-21</th>\n",
       "      <td>-0.12205</td>\n",
       "      <td>-0.37055</td>\n",
       "      <td>-1.23423</td>\n",
       "      <td>-1.02842</td>\n",
       "      <td>-1.51935</td>\n",
       "      <td>-0.16551</td>\n",
       "      <td>0.15940</td>\n",
       "      <td>2.51261</td>\n",
       "      <td>0.50410</td>\n",
       "      <td>-0.02368</td>\n",
       "      <td>...</td>\n",
       "      <td>0.00167</td>\n",
       "      <td>-0.00169</td>\n",
       "      <td>-0.00504</td>\n",
       "      <td>-0.38119</td>\n",
       "      <td>4</td>\n",
       "      <td>0</td>\n",
       "      <td>0</td>\n",
       "      <td>0</td>\n",
       "      <td>0</td>\n",
       "      <td>0</td>\n",
       "    </tr>\n",
       "    <tr>\n",
       "      <th>2024-10-22</th>\n",
       "      <td>-0.54886</td>\n",
       "      <td>-0.75995</td>\n",
       "      <td>1.72769</td>\n",
       "      <td>5.11061</td>\n",
       "      <td>-0.47342</td>\n",
       "      <td>26.60334</td>\n",
       "      <td>0.43521</td>\n",
       "      <td>-1.70574</td>\n",
       "      <td>1.07164</td>\n",
       "      <td>-0.99944</td>\n",
       "      <td>...</td>\n",
       "      <td>-0.00832</td>\n",
       "      <td>-0.01015</td>\n",
       "      <td>-0.01173</td>\n",
       "      <td>-0.20785</td>\n",
       "      <td>0</td>\n",
       "      <td>0</td>\n",
       "      <td>0</td>\n",
       "      <td>0</td>\n",
       "      <td>0</td>\n",
       "      <td>0</td>\n",
       "    </tr>\n",
       "    <tr>\n",
       "      <th>2024-10-22</th>\n",
       "      <td>-0.54886</td>\n",
       "      <td>-0.75995</td>\n",
       "      <td>1.72769</td>\n",
       "      <td>5.11061</td>\n",
       "      <td>-0.47342</td>\n",
       "      <td>26.60334</td>\n",
       "      <td>0.43521</td>\n",
       "      <td>-1.70574</td>\n",
       "      <td>1.07164</td>\n",
       "      <td>-0.99944</td>\n",
       "      <td>...</td>\n",
       "      <td>-0.00832</td>\n",
       "      <td>-0.01015</td>\n",
       "      <td>-0.01173</td>\n",
       "      <td>-0.20785</td>\n",
       "      <td>0</td>\n",
       "      <td>0</td>\n",
       "      <td>0</td>\n",
       "      <td>0</td>\n",
       "      <td>0</td>\n",
       "      <td>0</td>\n",
       "    </tr>\n",
       "    <tr>\n",
       "      <th>2024-10-23</th>\n",
       "      <td>4.19047</td>\n",
       "      <td>5.81611</td>\n",
       "      <td>2.56205</td>\n",
       "      <td>7.47506</td>\n",
       "      <td>10.72310</td>\n",
       "      <td>-0.33376</td>\n",
       "      <td>1.47278</td>\n",
       "      <td>3.36949</td>\n",
       "      <td>-0.40981</td>\n",
       "      <td>277.00000</td>\n",
       "      <td>...</td>\n",
       "      <td>-0.01997</td>\n",
       "      <td>-0.02369</td>\n",
       "      <td>-0.02534</td>\n",
       "      <td>0.91276</td>\n",
       "      <td>1</td>\n",
       "      <td>1</td>\n",
       "      <td>1</td>\n",
       "      <td>1</td>\n",
       "      <td>1</td>\n",
       "      <td>1</td>\n",
       "    </tr>\n",
       "    <tr>\n",
       "      <th>2024-10-24</th>\n",
       "      <td>-1.02544</td>\n",
       "      <td>-0.81991</td>\n",
       "      <td>-1.37704</td>\n",
       "      <td>-1.29606</td>\n",
       "      <td>-0.95415</td>\n",
       "      <td>-3.66739</td>\n",
       "      <td>-1.02676</td>\n",
       "      <td>-1.29170</td>\n",
       "      <td>-1.41597</td>\n",
       "      <td>-6.10432</td>\n",
       "      <td>...</td>\n",
       "      <td>0.00671</td>\n",
       "      <td>-0.02393</td>\n",
       "      <td>0.00169</td>\n",
       "      <td>0.46409</td>\n",
       "      <td>2</td>\n",
       "      <td>0</td>\n",
       "      <td>0</td>\n",
       "      <td>0</td>\n",
       "      <td>0</td>\n",
       "      <td>0</td>\n",
       "    </tr>\n",
       "  </tbody>\n",
       "</table>\n",
       "<p>5 rows × 114 columns</p>\n",
       "</div>"
      ],
      "text/plain": [
       "            retail_1  foreigner_1  institution_1  financial_1  invtrust_1  \\\n",
       "2024-10-21  -0.12205     -0.37055       -1.23423     -1.02842    -1.51935   \n",
       "2024-10-22  -0.54886     -0.75995        1.72769      5.11061    -0.47342   \n",
       "2024-10-22  -0.54886     -0.75995        1.72769      5.11061    -0.47342   \n",
       "2024-10-23   4.19047      5.81611        2.56205      7.47506    10.72310   \n",
       "2024-10-24  -1.02544     -0.81991       -1.37704     -1.29606    -0.95415   \n",
       "\n",
       "            pension_1  privequity_1   bank_1  insurance_1  financeetc_1  ...  \\\n",
       "2024-10-21   -0.16551       0.15940  2.51261      0.50410      -0.02368  ...   \n",
       "2024-10-22   26.60334       0.43521 -1.70574      1.07164      -0.99944  ...   \n",
       "2024-10-22   26.60334       0.43521 -1.70574      1.07164      -0.99944  ...   \n",
       "2024-10-23   -0.33376       1.47278  3.36949     -0.40981     277.00000  ...   \n",
       "2024-10-24   -3.66739      -1.02676 -1.29170     -1.41597      -6.10432  ...   \n",
       "\n",
       "             high_2    low_2  close_2    vol_2  weekday  cr_00 cr_05 cr_10  \\\n",
       "2024-10-21  0.00167 -0.00169 -0.00504 -0.38119        4      0     0     0   \n",
       "2024-10-22 -0.00832 -0.01015 -0.01173 -0.20785        0      0     0     0   \n",
       "2024-10-22 -0.00832 -0.01015 -0.01173 -0.20785        0      0     0     0   \n",
       "2024-10-23 -0.01997 -0.02369 -0.02534  0.91276        1      1     1     1   \n",
       "2024-10-24  0.00671 -0.02393  0.00169  0.46409        2      0     0     0   \n",
       "\n",
       "            cr_15  cr_20  \n",
       "2024-10-21      0      0  \n",
       "2024-10-22      0      0  \n",
       "2024-10-22      0      0  \n",
       "2024-10-23      1      1  \n",
       "2024-10-24      0      0  \n",
       "\n",
       "[5 rows x 114 columns]"
      ]
     },
     "execution_count": 20,
     "metadata": {},
     "output_type": "execute_result"
    }
   ],
   "source": [
    "df_sec_combine.tail()"
   ]
  },
  {
   "cell_type": "code",
   "execution_count": 21,
   "id": "bf7224df",
   "metadata": {},
   "outputs": [],
   "source": [
    "nanlo = locate_nan(df_sec_combine)  # nan 위치 찾기"
   ]
  },
  {
   "cell_type": "code",
   "execution_count": 22,
   "id": "2f63d7f5",
   "metadata": {},
   "outputs": [
    {
     "name": "stdout",
     "output_type": "stream",
     "text": [
      "[[datetime.date(2022, 1, 18) 'dji_cr']\n",
      " [datetime.date(2022, 1, 18) 'dji_f_cr']\n",
      " [datetime.date(2022, 1, 18) 'dxy_cr']\n",
      " ...\n",
      " [datetime.date(2024, 10, 24) 'ixut_cr_2']\n",
      " [datetime.date(2024, 10, 24) 'nbi_cr_2']\n",
      " [datetime.date(2024, 10, 24) 'bkx_cr_2']]\n"
     ]
    }
   ],
   "source": [
    "print(nanlo)"
   ]
  },
  {
   "cell_type": "code",
   "execution_count": 23,
   "id": "21a6d628",
   "metadata": {},
   "outputs": [],
   "source": [
    "# delete rows which include NaN : dji, spx, nasdaq 기타 common 지수중 한개라도 nan인 rows 제거\n",
    "for key, val in code.items():\n",
    "    globals()['df_{}_combine'.format(val[1])].dropna(inplace=True)"
   ]
  },
  {
   "cell_type": "code",
   "execution_count": 24,
   "id": "c6f3061c",
   "metadata": {},
   "outputs": [],
   "source": [
    "# string column을 numeric으로 전환\n",
    "def string_to_num(df):\n",
    "    df.replace('%', '', regex=True, inplace=True)\n",
    "    df = df.apply(pd.to_numeric)\n",
    "    return df\n",
    "\n",
    "for key, val in code.items():\n",
    "    globals()['df_{}_combine'.format(val[1])] = string_to_num(globals()['df_{}_combine'.format(val[1])])"
   ]
  },
  {
   "cell_type": "code",
   "execution_count": 25,
   "id": "7e8d5acf",
   "metadata": {},
   "outputs": [],
   "source": [
    "# pickle로 데이터 저장\n",
    "\n",
    "for key, val in code.items():\n",
    "    globals()[f'df_{val[1]}_combine'].to_pickle(directory_for_predict + f'df_{val[1]}_combine.pkl')\n",
    "    globals()[f'df_{val[1]}_combine'].to_csv(directory_for_predict + f'df_{val[1]}_combine.csv')"
   ]
  },
  {
   "cell_type": "code",
   "execution_count": null,
   "id": "a01825d3",
   "metadata": {},
   "outputs": [],
   "source": []
  },
  {
   "cell_type": "code",
   "execution_count": null,
   "id": "3300e5b2",
   "metadata": {},
   "outputs": [],
   "source": []
  },
  {
   "cell_type": "code",
   "execution_count": null,
   "id": "1ffeab80",
   "metadata": {},
   "outputs": [],
   "source": []
  },
  {
   "cell_type": "code",
   "execution_count": null,
   "id": "a1f7c9d1",
   "metadata": {},
   "outputs": [],
   "source": []
  },
  {
   "cell_type": "code",
   "execution_count": null,
   "id": "bc80b897",
   "metadata": {},
   "outputs": [],
   "source": []
  }
 ],
 "metadata": {
  "kernelspec": {
   "display_name": "Python 3 (ipykernel)",
   "language": "python",
   "name": "python3"
  },
  "language_info": {
   "codemirror_mode": {
    "name": "ipython",
    "version": 3
   },
   "file_extension": ".py",
   "mimetype": "text/x-python",
   "name": "python",
   "nbconvert_exporter": "python",
   "pygments_lexer": "ipython3",
   "version": "3.12.2"
  }
 },
 "nbformat": 4,
 "nbformat_minor": 5
}
