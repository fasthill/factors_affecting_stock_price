{
 "cells": [
  {
   "cell_type": "markdown",
   "id": "459ff0ca",
   "metadata": {},
   "source": [
    "## combine company data and common data"
   ]
  },
  {
   "cell_type": "code",
   "execution_count": 26,
   "id": "d3b5a935",
   "metadata": {},
   "outputs": [],
   "source": [
    "import datetime, time\n",
    "from datetime import date\n",
    "\n",
    "import pandas as pd\n",
    "import numpy as np\n",
    "import os\n",
    "import sys\n",
    "\n",
    "from sklearn.preprocessing import StandardScaler"
   ]
  },
  {
   "cell_type": "code",
   "execution_count": 27,
   "id": "8ef51f99",
   "metadata": {},
   "outputs": [],
   "source": [
    "module_path = os.path.abspath(os.path.join('.')) \n",
    "sys.path.append(module_path+\"\\\\data\\\\constant\")\n",
    "\n",
    "from constants import COMPANY_CODE"
   ]
  },
  {
   "cell_type": "code",
   "execution_count": 28,
   "id": "9ea60572",
   "metadata": {},
   "outputs": [
    {
     "data": {
      "text/plain": [
       "\" \\n[[datetime.date(2022, 1, 17) 'dji_cr']\\n [datetime.date(2022, 1, 17) 'dji_f_cr']\\n ...\\n [datetime.date(2023, 5, 23) 'kosdaq_cr']\\n [datetime.date(2023, 5, 23) 'kosdaq_cr_2']]\\n\""
      ]
     },
     "execution_count": 28,
     "metadata": {},
     "output_type": "execute_result"
    }
   ],
   "source": [
    "def locate_nan(df):\n",
    "    idx, idy = np.where(pd.isnull(df))\n",
    "    result = np.column_stack([df.index[idx], df.columns[idy]])\n",
    "    return result\n",
    "\n",
    "# return format\n",
    "''' \n",
    "[[datetime.date(2022, 1, 17) 'dji_cr']\n",
    " [datetime.date(2022, 1, 17) 'dji_f_cr']\n",
    " ...\n",
    " [datetime.date(2023, 5, 23) 'kosdaq_cr']\n",
    " [datetime.date(2023, 5, 23) 'kosdaq_cr_2']]\n",
    "'''"
   ]
  },
  {
   "cell_type": "code",
   "execution_count": 29,
   "id": "d6f9e0c8",
   "metadata": {},
   "outputs": [],
   "source": [
    "code = COMPANY_CODE\n",
    "\n",
    "# code = {'005930': ['삼성전자', 'sec'], '005380': ['현대차', 'hyunmotor'],\n",
    "#                  '035420': ['NAVER', 'naver'], '033780': ['KT&G', 'ktng']}\n",
    "# code = {'005930': ['삼성전자', 'sec'], '000660': ['SK하이닉스', 'skhynix']}\n",
    "# code = {'302440': ['SK바이오사이언스', 'skbio']}"
   ]
  },
  {
   "cell_type": "code",
   "execution_count": 30,
   "id": "1ced9635",
   "metadata": {},
   "outputs": [],
   "source": [
    "directory_for_predict = './data/data_for_ml/predict/'\n",
    "pkl_common_directory = './data/common_pkl/'\n",
    "pkl_directory = './data/common_pkl/'"
   ]
  },
  {
   "cell_type": "code",
   "execution_count": 31,
   "id": "a4ac3c16",
   "metadata": {},
   "outputs": [],
   "source": [
    "df_common = pd.read_pickle(directory_for_predict + '0_df_common.pkl')"
   ]
  },
  {
   "cell_type": "code",
   "execution_count": 32,
   "id": "82d5ae58",
   "metadata": {},
   "outputs": [],
   "source": [
    "for key, val in code.items():\n",
    "    df_company = pd.read_pickle(directory_for_predict + f'df_{val[1]}_company.pkl')\n",
    "    df_company = df_company.merge(df_common, how='left', left_index=True, right_index=True)\n",
    "    globals()[f'df_{val[1]}_combine'] = df_company.copy()"
   ]
  },
  {
   "cell_type": "code",
   "execution_count": 33,
   "id": "6c798e31",
   "metadata": {},
   "outputs": [
    {
     "data": {
      "text/html": [
       "<div>\n",
       "<style scoped>\n",
       "    .dataframe tbody tr th:only-of-type {\n",
       "        vertical-align: middle;\n",
       "    }\n",
       "\n",
       "    .dataframe tbody tr th {\n",
       "        vertical-align: top;\n",
       "    }\n",
       "\n",
       "    .dataframe thead th {\n",
       "        text-align: right;\n",
       "    }\n",
       "</style>\n",
       "<table border=\"1\" class=\"dataframe\">\n",
       "  <thead>\n",
       "    <tr style=\"text-align: right;\">\n",
       "      <th></th>\n",
       "      <th>retail_1</th>\n",
       "      <th>foreigner_1</th>\n",
       "      <th>institution_1</th>\n",
       "      <th>financial_1</th>\n",
       "      <th>invtrust_1</th>\n",
       "      <th>pension_1</th>\n",
       "      <th>privequity_1</th>\n",
       "      <th>bank_1</th>\n",
       "      <th>insurance_1</th>\n",
       "      <th>financeetc_1</th>\n",
       "      <th>...</th>\n",
       "      <th>bond_kor_10_cr</th>\n",
       "      <th>bond_kor_10_cr_2</th>\n",
       "      <th>bond_kor_2_cr</th>\n",
       "      <th>bond_kor_2_cr_2</th>\n",
       "      <th>kosdaq_cr</th>\n",
       "      <th>kosdaq_cr_2</th>\n",
       "      <th>kospi_cr</th>\n",
       "      <th>kospi_cr_2</th>\n",
       "      <th>krw_cr</th>\n",
       "      <th>krw_cr_2</th>\n",
       "    </tr>\n",
       "  </thead>\n",
       "  <tbody>\n",
       "    <tr>\n",
       "      <th>2023-06-05</th>\n",
       "      <td>-1.298331</td>\n",
       "      <td>-2.516519</td>\n",
       "      <td>-0.912883</td>\n",
       "      <td>-13.254047</td>\n",
       "      <td>-0.721014</td>\n",
       "      <td>0.301556</td>\n",
       "      <td>-0.441292</td>\n",
       "      <td>7.75</td>\n",
       "      <td>-0.728228</td>\n",
       "      <td>-0.808765</td>\n",
       "      <td>...</td>\n",
       "      <td>-1.52%</td>\n",
       "      <td>-1.047565</td>\n",
       "      <td>-0.98%</td>\n",
       "      <td>-0.755034</td>\n",
       "      <td>0.5</td>\n",
       "      <td>1.29764</td>\n",
       "      <td>1.25</td>\n",
       "      <td>0.940585</td>\n",
       "      <td>-0.51%</td>\n",
       "      <td>-1.108621</td>\n",
       "    </tr>\n",
       "    <tr>\n",
       "      <th>2023-06-07</th>\n",
       "      <td>1.350006</td>\n",
       "      <td>-0.021357</td>\n",
       "      <td>-5.088377</td>\n",
       "      <td>-0.002846</td>\n",
       "      <td>-0.743260</td>\n",
       "      <td>-0.995066</td>\n",
       "      <td>-0.786178</td>\n",
       "      <td>-1.00</td>\n",
       "      <td>1.146409</td>\n",
       "      <td>-1.000000</td>\n",
       "      <td>...</td>\n",
       "      <td>+1.98%</td>\n",
       "      <td>1.888412</td>\n",
       "      <td>+2.09%</td>\n",
       "      <td>2.000564</td>\n",
       "      <td>0.26</td>\n",
       "      <td>0.752506</td>\n",
       "      <td>0.54</td>\n",
       "      <td>1.799803</td>\n",
       "      <td>-0.39%</td>\n",
       "      <td>-0.393592</td>\n",
       "    </tr>\n",
       "    <tr>\n",
       "      <th>2023-06-08</th>\n",
       "      <td>-3.048245</td>\n",
       "      <td>-1.575635</td>\n",
       "      <td>-5.226778</td>\n",
       "      <td>-1.159295</td>\n",
       "      <td>5.865913</td>\n",
       "      <td>563.346154</td>\n",
       "      <td>7.774406</td>\n",
       "      <td>-inf</td>\n",
       "      <td>5.253539</td>\n",
       "      <td>-inf</td>\n",
       "      <td>...</td>\n",
       "      <td>-0.87%</td>\n",
       "      <td>-1.179444</td>\n",
       "      <td>-0.91%</td>\n",
       "      <td>-0.911602</td>\n",
       "      <td>1.2</td>\n",
       "      <td>1.458425</td>\n",
       "      <td>0.01</td>\n",
       "      <td>0.547406</td>\n",
       "      <td>+0.70%</td>\n",
       "      <td>0.575040</td>\n",
       "    </tr>\n",
       "    <tr>\n",
       "      <th>2023-06-09</th>\n",
       "      <td>-0.588957</td>\n",
       "      <td>-1.549635</td>\n",
       "      <td>-0.398940</td>\n",
       "      <td>1.268714</td>\n",
       "      <td>-0.403529</td>\n",
       "      <td>-0.545628</td>\n",
       "      <td>-0.345813</td>\n",
       "      <td>23.75</td>\n",
       "      <td>-0.590862</td>\n",
       "      <td>-0.968379</td>\n",
       "      <td>...</td>\n",
       "      <td>+3.21%</td>\n",
       "      <td>2.309859</td>\n",
       "      <td>+1.37%</td>\n",
       "      <td>0.441989</td>\n",
       "      <td>-0.52</td>\n",
       "      <td>0.672197</td>\n",
       "      <td>-0.18</td>\n",
       "      <td>-0.174351</td>\n",
       "      <td>-0.98%</td>\n",
       "      <td>-0.286332</td>\n",
       "    </tr>\n",
       "    <tr>\n",
       "      <th>2023-06-12</th>\n",
       "      <td>-0.921598</td>\n",
       "      <td>-0.635734</td>\n",
       "      <td>-0.888047</td>\n",
       "      <td>-1.981669</td>\n",
       "      <td>-1.165680</td>\n",
       "      <td>-0.085346</td>\n",
       "      <td>-1.418984</td>\n",
       "      <td>-1.00</td>\n",
       "      <td>-0.001509</td>\n",
       "      <td>-24.500000</td>\n",
       "      <td>...</td>\n",
       "      <td>-1.13%</td>\n",
       "      <td>2.046036</td>\n",
       "      <td>-1.27%</td>\n",
       "      <td>0.083635</td>\n",
       "      <td>0.87</td>\n",
       "      <td>0.339495</td>\n",
       "      <td>1.16</td>\n",
       "      <td>0.977214</td>\n",
       "      <td>-0.63%</td>\n",
       "      <td>-1.600599</td>\n",
       "    </tr>\n",
       "  </tbody>\n",
       "</table>\n",
       "<p>5 rows × 114 columns</p>\n",
       "</div>"
      ],
      "text/plain": [
       "            retail_1  foreigner_1  institution_1  financial_1  invtrust_1   \n",
       "2023-06-05 -1.298331    -2.516519      -0.912883   -13.254047   -0.721014  \\\n",
       "2023-06-07  1.350006    -0.021357      -5.088377    -0.002846   -0.743260   \n",
       "2023-06-08 -3.048245    -1.575635      -5.226778    -1.159295    5.865913   \n",
       "2023-06-09 -0.588957    -1.549635      -0.398940     1.268714   -0.403529   \n",
       "2023-06-12 -0.921598    -0.635734      -0.888047    -1.981669   -1.165680   \n",
       "\n",
       "             pension_1  privequity_1  bank_1  insurance_1  financeetc_1  ...   \n",
       "2023-06-05    0.301556     -0.441292    7.75    -0.728228     -0.808765  ...  \\\n",
       "2023-06-07   -0.995066     -0.786178   -1.00     1.146409     -1.000000  ...   \n",
       "2023-06-08  563.346154      7.774406    -inf     5.253539          -inf  ...   \n",
       "2023-06-09   -0.545628     -0.345813   23.75    -0.590862     -0.968379  ...   \n",
       "2023-06-12   -0.085346     -1.418984   -1.00    -0.001509    -24.500000  ...   \n",
       "\n",
       "            bond_kor_10_cr  bond_kor_10_cr_2  bond_kor_2_cr  bond_kor_2_cr_2   \n",
       "2023-06-05          -1.52%         -1.047565         -0.98%        -0.755034  \\\n",
       "2023-06-07          +1.98%          1.888412         +2.09%         2.000564   \n",
       "2023-06-08          -0.87%         -1.179444         -0.91%        -0.911602   \n",
       "2023-06-09          +3.21%          2.309859         +1.37%         0.441989   \n",
       "2023-06-12          -1.13%          2.046036         -1.27%         0.083635   \n",
       "\n",
       "            kosdaq_cr  kosdaq_cr_2  kospi_cr  kospi_cr_2  krw_cr  krw_cr_2  \n",
       "2023-06-05        0.5      1.29764      1.25    0.940585  -0.51% -1.108621  \n",
       "2023-06-07       0.26     0.752506      0.54    1.799803  -0.39% -0.393592  \n",
       "2023-06-08        1.2     1.458425      0.01    0.547406  +0.70%  0.575040  \n",
       "2023-06-09      -0.52     0.672197     -0.18   -0.174351  -0.98% -0.286332  \n",
       "2023-06-12       0.87     0.339495      1.16    0.977214  -0.63% -1.600599  \n",
       "\n",
       "[5 rows x 114 columns]"
      ]
     },
     "execution_count": 33,
     "metadata": {},
     "output_type": "execute_result"
    }
   ],
   "source": [
    "df_hyunmotor_combine.tail()"
   ]
  },
  {
   "cell_type": "code",
   "execution_count": 34,
   "id": "aeab3342",
   "metadata": {},
   "outputs": [
    {
     "data": {
      "text/plain": [
       "datetime.date(2022, 1, 7)"
      ]
     },
     "execution_count": 34,
     "metadata": {},
     "output_type": "execute_result"
    }
   ],
   "source": [
    "df_hyunmotor_combine.index[0]"
   ]
  },
  {
   "cell_type": "code",
   "execution_count": 35,
   "id": "587ac2cd",
   "metadata": {},
   "outputs": [],
   "source": [
    "col_inv1 = ['retail_1', 'foreigner_1', 'institution_1', 'financial_1', 'invtrust_1', 'pension_1', 'privequity_1', \n",
    "            'bank_1', 'insurance_1', 'financeetc_1', 'corporateetc_1', 'foreigneretc_1']\n",
    "col_inv2 = ['retail_2', 'foreigner_2', 'institution_2', 'financial_2', 'invtrust_2', 'pension_2',\n",
    "            'privequity_2', 'bank_2', 'insurance_2', 'financeetc_2', 'corporateetc_2', 'foreigneretc_2']"
   ]
  },
  {
   "cell_type": "code",
   "execution_count": 36,
   "id": "76ca8389",
   "metadata": {},
   "outputs": [],
   "source": [
    "col_his1 = ['open_1', 'high_1', 'low_1', 'close_1', 'vol_1']\n",
    "col_his2 = ['open_2', 'high_2', 'low_2', 'close_2', 'vol_2']"
   ]
  },
  {
   "cell_type": "code",
   "execution_count": 37,
   "id": "8a6b4bac",
   "metadata": {},
   "outputs": [],
   "source": [
    "col_common1 = [\"dji_cr\", \"dji_f_cr\", \"dxy_cr\", \"ixic_f_cr\", \"bond_kor_10_cr\", \"bond_kor_2_cr\", \"kosdaq_cr\", \"kospi_cr\", \n",
    "         \"krw_cr\", \"ixic_cr\", \"spx_f_cr\", \"sox_cr\", \"spx_cr\", \"bond_usa_10_cr\", \"bond_usa_2_cr\", \"bond_usa_3m_cr\", \n",
    "         \"vix_cr\", \"wti_cr\", \"spsy_cr\", \"spny_cr\", \"spxhc_cr\", \"splrcd_cr\", \"splrci_cr\", \"splrcu_cr\", \"splrcs_cr\",\n",
    "         \"splrct_cr\", \"splrcl_cr\", \"splrcm_cr\", \"ixbk_cr\", \"ixfn_cr\", \"ixid_cr\", \"ixis_cr\", \"ixk_cr\", \"ixtr_cr\",\n",
    "         \"ixut_cr\", \"nbi_cr\", \"bkx_cr\"]\n",
    "col_common2 = [\"dji_cr_2\", \"dji_f_cr_2\", \"dxy_cr_2\", \"ixic_f_cr_2\", \"bond_kor_10_cr_2\", \"bond_kor_2_cr_2\", \"kosdaq_cr_2\", \"kospi_cr_2\",\n",
    "         \"krw_cr_2\", \"ixic_cr_2\", \"spx_f_cr_2\", \"sox_cr_2\", \"spx_cr_2\", \"bond_usa_10_cr_2\", \"bond_usa_2_cr_2\", \"bond_usa_3m_cr_2\",\n",
    "         \"vix_cr_2\", \"wti_cr_2\", \"spsy_cr_2\", \"spny_cr_2\", \"spxhc_cr_2\", \"splrcd_cr_2\", \"splrci_cr_2\", \"splrcu_cr_2\",\n",
    "         \"splrcs_cr_2\", \"splrct_cr_2\", \"splrcl_cr_2\", \"splrcm_cr_2\", \"ixbk_cr_2\", \"ixfn_cr_2\", \"ixid_cr_2\",\n",
    "         \"ixis_cr_2\", \"ixk_cr_2\", \"ixtr_cr_2\", \"ixut_cr_2\", \"nbi_cr_2\", \"bkx_cr_2\"]"
   ]
  },
  {
   "cell_type": "code",
   "execution_count": 38,
   "id": "9a595935",
   "metadata": {},
   "outputs": [],
   "source": [
    "col_cr = ['weekday', 'cr_00', 'cr_05', 'cr_10', 'cr_15', 'cr_20']"
   ]
  },
  {
   "cell_type": "code",
   "execution_count": 39,
   "id": "75ec6070",
   "metadata": {},
   "outputs": [],
   "source": [
    "col_col = col_inv1 + col_common1 + col_his1 + col_inv2 + col_common2 + col_his2 + col_cr"
   ]
  },
  {
   "cell_type": "code",
   "execution_count": 40,
   "id": "ff6769da",
   "metadata": {},
   "outputs": [],
   "source": [
    "# # write common data only\n",
    "# df_temp = df_common.copy()\n",
    "# df_temp = df_temp[col_common1+col_common2]\n",
    "# pkl_common_directory = './data/common_pkl/'\n",
    "# df_temp.to_pickle(pkl_common_directory + 'df_common.pkl')\n",
    "# df_temp.to_csv(pkl_common_directory + 'df_common.csv')"
   ]
  },
  {
   "cell_type": "code",
   "execution_count": 41,
   "id": "c78c8f82",
   "metadata": {},
   "outputs": [],
   "source": [
    "new_columns = col_col"
   ]
  },
  {
   "cell_type": "code",
   "execution_count": 42,
   "id": "02da1256",
   "metadata": {},
   "outputs": [],
   "source": [
    "# column 순서 변경 : weekday, 'cr_00', 'cr_05', 'cr_10', 'cr_15', 'cr_20' column을 마지막으로 이동 \n",
    "for key, val in code.items():\n",
    "    globals()['df_{}_combine'.format(val[1])] = globals()['df_{}_combine'.format(val[1])][new_columns]"
   ]
  },
  {
   "cell_type": "code",
   "execution_count": 43,
   "id": "d4f1fa06",
   "metadata": {},
   "outputs": [
    {
     "data": {
      "text/plain": [
       "'\\n# drop inf, -inf : replace inf to 1 or -1 . 데이터를 살리고\\n# 변동률이 무한대가 되는 것을 방지하기 위해서, 나중에 발생하는 에러를 방지\\ndf_sec_sel.replace([np.inf, -np.inf], [1, -1], inplace=True)\\n\\n.impute 사용하는 것을 고려할 필요 있음.\\n'"
      ]
     },
     "execution_count": 43,
     "metadata": {},
     "output_type": "execute_result"
    }
   ],
   "source": [
    "'''\n",
    "# drop inf, -inf : replace inf to 1 or -1 . 데이터를 살리고\n",
    "# 변동률이 무한대가 되는 것을 방지하기 위해서, 나중에 발생하는 에러를 방지\n",
    "df_sec_sel.replace([np.inf, -np.inf], [1, -1], inplace=True)\n",
    "\n",
    ".impute 사용하는 것을 고려할 필요 있음.\n",
    "'''"
   ]
  },
  {
   "cell_type": "code",
   "execution_count": 44,
   "id": "7e91c1c5",
   "metadata": {},
   "outputs": [],
   "source": [
    "# drop inf, -inf : replace inf to 1 or -1 . 데이터를 살리고\n",
    "# 변동률이 무한대가 되는 것을 방지하기 위해서, 나중에 발생하는 에러를 방지\n",
    "for key, val in code.items():\n",
    "    globals()['df_{}_combine'.format(val[1])].replace([np.inf, -np.inf], [1, -1], inplace=True)\n",
    "\n",
    "# **** 데이터 전처리 from sklearn.impute import SimpleImputer, SimpleImputer 사용하기로 함."
   ]
  },
  {
   "cell_type": "code",
   "execution_count": 45,
   "id": "3fa3914b",
   "metadata": {},
   "outputs": [
    {
     "data": {
      "text/html": [
       "<div>\n",
       "<style scoped>\n",
       "    .dataframe tbody tr th:only-of-type {\n",
       "        vertical-align: middle;\n",
       "    }\n",
       "\n",
       "    .dataframe tbody tr th {\n",
       "        vertical-align: top;\n",
       "    }\n",
       "\n",
       "    .dataframe thead th {\n",
       "        text-align: right;\n",
       "    }\n",
       "</style>\n",
       "<table border=\"1\" class=\"dataframe\">\n",
       "  <thead>\n",
       "    <tr style=\"text-align: right;\">\n",
       "      <th></th>\n",
       "      <th>retail_1</th>\n",
       "      <th>foreigner_1</th>\n",
       "      <th>institution_1</th>\n",
       "      <th>financial_1</th>\n",
       "      <th>invtrust_1</th>\n",
       "      <th>pension_1</th>\n",
       "      <th>privequity_1</th>\n",
       "      <th>bank_1</th>\n",
       "      <th>insurance_1</th>\n",
       "      <th>financeetc_1</th>\n",
       "      <th>...</th>\n",
       "      <th>high_2</th>\n",
       "      <th>low_2</th>\n",
       "      <th>close_2</th>\n",
       "      <th>vol_2</th>\n",
       "      <th>weekday</th>\n",
       "      <th>cr_00</th>\n",
       "      <th>cr_05</th>\n",
       "      <th>cr_10</th>\n",
       "      <th>cr_15</th>\n",
       "      <th>cr_20</th>\n",
       "    </tr>\n",
       "  </thead>\n",
       "  <tbody>\n",
       "    <tr>\n",
       "      <th>2023-06-05</th>\n",
       "      <td>-11.116764</td>\n",
       "      <td>0.986218</td>\n",
       "      <td>-1.020365</td>\n",
       "      <td>-0.784424</td>\n",
       "      <td>-1.196314</td>\n",
       "      <td>-1.225441</td>\n",
       "      <td>-1.367785</td>\n",
       "      <td>-5.565217</td>\n",
       "      <td>-0.492189</td>\n",
       "      <td>-0.751131</td>\n",
       "      <td>...</td>\n",
       "      <td>-0.004138</td>\n",
       "      <td>0.008451</td>\n",
       "      <td>0.011204</td>\n",
       "      <td>-0.526153</td>\n",
       "      <td>4</td>\n",
       "      <td>0</td>\n",
       "      <td>0</td>\n",
       "      <td>0</td>\n",
       "      <td>0</td>\n",
       "      <td>0</td>\n",
       "    </tr>\n",
       "    <tr>\n",
       "      <th>2023-06-07</th>\n",
       "      <td>-1.162496</td>\n",
       "      <td>-1.579023</td>\n",
       "      <td>32.036466</td>\n",
       "      <td>-12.307613</td>\n",
       "      <td>-2.505572</td>\n",
       "      <td>-0.705975</td>\n",
       "      <td>-2.612925</td>\n",
       "      <td>-1.080726</td>\n",
       "      <td>-2.561295</td>\n",
       "      <td>0.296970</td>\n",
       "      <td>...</td>\n",
       "      <td>0.015363</td>\n",
       "      <td>0.011331</td>\n",
       "      <td>0.011283</td>\n",
       "      <td>-0.135144</td>\n",
       "      <td>0</td>\n",
       "      <td>0</td>\n",
       "      <td>0</td>\n",
       "      <td>0</td>\n",
       "      <td>0</td>\n",
       "      <td>0</td>\n",
       "    </tr>\n",
       "    <tr>\n",
       "      <th>2023-06-08</th>\n",
       "      <td>-1.610000</td>\n",
       "      <td>-0.118325</td>\n",
       "      <td>0.556938</td>\n",
       "      <td>0.805428</td>\n",
       "      <td>1.181058</td>\n",
       "      <td>2.283110</td>\n",
       "      <td>1.568477</td>\n",
       "      <td>-0.685393</td>\n",
       "      <td>-0.916483</td>\n",
       "      <td>1.448598</td>\n",
       "      <td>...</td>\n",
       "      <td>-0.008310</td>\n",
       "      <td>-0.011173</td>\n",
       "      <td>-0.016620</td>\n",
       "      <td>0.216647</td>\n",
       "      <td>2</td>\n",
       "      <td>0</td>\n",
       "      <td>0</td>\n",
       "      <td>0</td>\n",
       "      <td>0</td>\n",
       "      <td>0</td>\n",
       "    </tr>\n",
       "    <tr>\n",
       "      <th>2023-06-09</th>\n",
       "      <td>1.347916</td>\n",
       "      <td>-1.178113</td>\n",
       "      <td>-0.704820</td>\n",
       "      <td>-0.419208</td>\n",
       "      <td>1.582731</td>\n",
       "      <td>0.194839</td>\n",
       "      <td>0.140287</td>\n",
       "      <td>0.410714</td>\n",
       "      <td>17.702465</td>\n",
       "      <td>6.015267</td>\n",
       "      <td>...</td>\n",
       "      <td>-0.024759</td>\n",
       "      <td>-0.019608</td>\n",
       "      <td>-0.011158</td>\n",
       "      <td>0.510667</td>\n",
       "      <td>3</td>\n",
       "      <td>1</td>\n",
       "      <td>1</td>\n",
       "      <td>1</td>\n",
       "      <td>1</td>\n",
       "      <td>0</td>\n",
       "    </tr>\n",
       "    <tr>\n",
       "      <th>2023-06-12</th>\n",
       "      <td>5.498513</td>\n",
       "      <td>10.106071</td>\n",
       "      <td>2.169202</td>\n",
       "      <td>0.071822</td>\n",
       "      <td>-0.871238</td>\n",
       "      <td>3.365910</td>\n",
       "      <td>-0.536823</td>\n",
       "      <td>-5.405063</td>\n",
       "      <td>-0.946060</td>\n",
       "      <td>-0.943689</td>\n",
       "      <td>...</td>\n",
       "      <td>0.009777</td>\n",
       "      <td>0.000000</td>\n",
       "      <td>0.014085</td>\n",
       "      <td>0.017139</td>\n",
       "      <td>4</td>\n",
       "      <td>0</td>\n",
       "      <td>0</td>\n",
       "      <td>0</td>\n",
       "      <td>0</td>\n",
       "      <td>0</td>\n",
       "    </tr>\n",
       "  </tbody>\n",
       "</table>\n",
       "<p>5 rows × 114 columns</p>\n",
       "</div>"
      ],
      "text/plain": [
       "             retail_1  foreigner_1  institution_1  financial_1  invtrust_1   \n",
       "2023-06-05 -11.116764     0.986218      -1.020365    -0.784424   -1.196314  \\\n",
       "2023-06-07  -1.162496    -1.579023      32.036466   -12.307613   -2.505572   \n",
       "2023-06-08  -1.610000    -0.118325       0.556938     0.805428    1.181058   \n",
       "2023-06-09   1.347916    -1.178113      -0.704820    -0.419208    1.582731   \n",
       "2023-06-12   5.498513    10.106071       2.169202     0.071822   -0.871238   \n",
       "\n",
       "            pension_1  privequity_1    bank_1  insurance_1  financeetc_1  ...   \n",
       "2023-06-05  -1.225441     -1.367785 -5.565217    -0.492189     -0.751131  ...  \\\n",
       "2023-06-07  -0.705975     -2.612925 -1.080726    -2.561295      0.296970  ...   \n",
       "2023-06-08   2.283110      1.568477 -0.685393    -0.916483      1.448598  ...   \n",
       "2023-06-09   0.194839      0.140287  0.410714    17.702465      6.015267  ...   \n",
       "2023-06-12   3.365910     -0.536823 -5.405063    -0.946060     -0.943689  ...   \n",
       "\n",
       "              high_2     low_2   close_2     vol_2 weekday cr_00 cr_05 cr_10   \n",
       "2023-06-05 -0.004138  0.008451  0.011204 -0.526153       4     0     0     0  \\\n",
       "2023-06-07  0.015363  0.011331  0.011283 -0.135144       0     0     0     0   \n",
       "2023-06-08 -0.008310 -0.011173 -0.016620  0.216647       2     0     0     0   \n",
       "2023-06-09 -0.024759 -0.019608 -0.011158  0.510667       3     1     1     1   \n",
       "2023-06-12  0.009777  0.000000  0.014085  0.017139       4     0     0     0   \n",
       "\n",
       "            cr_15  cr_20  \n",
       "2023-06-05      0      0  \n",
       "2023-06-07      0      0  \n",
       "2023-06-08      0      0  \n",
       "2023-06-09      1      0  \n",
       "2023-06-12      0      0  \n",
       "\n",
       "[5 rows x 114 columns]"
      ]
     },
     "execution_count": 45,
     "metadata": {},
     "output_type": "execute_result"
    }
   ],
   "source": [
    "df_sec_combine.tail()"
   ]
  },
  {
   "cell_type": "code",
   "execution_count": 46,
   "id": "bf7224df",
   "metadata": {},
   "outputs": [],
   "source": [
    "nanlo = locate_nan(df_sec_combine)  # nan 위치 찾기"
   ]
  },
  {
   "cell_type": "code",
   "execution_count": 47,
   "id": "2f63d7f5",
   "metadata": {},
   "outputs": [
    {
     "name": "stdout",
     "output_type": "stream",
     "text": [
      "[[datetime.date(2022, 1, 17) 'dji_cr']\n",
      " [datetime.date(2022, 1, 17) 'dji_f_cr']\n",
      " [datetime.date(2022, 1, 17) 'dxy_cr']\n",
      " ...\n",
      " [datetime.date(2023, 4, 7) 'ixut_cr_2']\n",
      " [datetime.date(2023, 4, 7) 'nbi_cr_2']\n",
      " [datetime.date(2023, 4, 7) 'bkx_cr_2']]\n"
     ]
    }
   ],
   "source": [
    "print(nanlo)"
   ]
  },
  {
   "cell_type": "code",
   "execution_count": 48,
   "id": "21a6d628",
   "metadata": {},
   "outputs": [],
   "source": [
    "# delete rows which include NaN : dji, spx, nasdaq 기타 common 지수중 한개라도 nan인 rows 제거\n",
    "for key, val in code.items():\n",
    "    globals()['df_{}_combine'.format(val[1])].dropna(inplace=True)"
   ]
  },
  {
   "cell_type": "code",
   "execution_count": 49,
   "id": "c6f3061c",
   "metadata": {},
   "outputs": [],
   "source": [
    "# string column을 numeric으로 전환\n",
    "def string_to_num(df):\n",
    "    df.replace('%', '', regex=True, inplace=True)\n",
    "    return df.apply(pd.to_numeric)\n",
    "\n",
    "for key, val in code.items():\n",
    "    globals()['df_{}_combine'.format(val[1])] = string_to_num(globals()['df_{}_combine'.format(val[1])])"
   ]
  },
  {
   "cell_type": "code",
   "execution_count": 50,
   "id": "7e8d5acf",
   "metadata": {},
   "outputs": [],
   "source": [
    "# pickle로 데이터 저장\n",
    "\n",
    "for key, val in code.items():\n",
    "    globals()[f'df_{val[1]}_combine'].to_pickle(directory_for_predict + f'df_{val[1]}_combine.pkl')\n",
    "    globals()[f'df_{val[1]}_combine'].to_csv(directory_for_predict + f'df_{val[1]}_combine.csv')"
   ]
  },
  {
   "cell_type": "code",
   "execution_count": null,
   "id": "d2728c8c",
   "metadata": {},
   "outputs": [],
   "source": []
  },
  {
   "cell_type": "code",
   "execution_count": null,
   "id": "a01825d3",
   "metadata": {},
   "outputs": [],
   "source": []
  }
 ],
 "metadata": {
  "kernelspec": {
   "display_name": "Python 3 (ipykernel)",
   "language": "python",
   "name": "python3"
  },
  "language_info": {
   "codemirror_mode": {
    "name": "ipython",
    "version": 3
   },
   "file_extension": ".py",
   "mimetype": "text/x-python",
   "name": "python",
   "nbconvert_exporter": "python",
   "pygments_lexer": "ipython3",
   "version": "3.9.1"
  }
 },
 "nbformat": 4,
 "nbformat_minor": 5
}
