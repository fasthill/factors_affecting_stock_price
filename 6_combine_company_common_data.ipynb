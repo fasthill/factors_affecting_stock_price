{
 "cells": [
  {
   "cell_type": "markdown",
   "id": "459ff0ca",
   "metadata": {},
   "source": [
    "## combine company data and common data"
   ]
  },
  {
   "cell_type": "code",
   "execution_count": 1,
   "id": "d3b5a935",
   "metadata": {},
   "outputs": [],
   "source": [
    "import datetime, time\n",
    "from datetime import date\n",
    "\n",
    "import pandas as pd\n",
    "import numpy as np\n",
    "import os\n",
    "import sys\n",
    "\n",
    "from sklearn.preprocessing import StandardScaler"
   ]
  },
  {
   "cell_type": "code",
   "execution_count": 2,
   "id": "8ef51f99",
   "metadata": {},
   "outputs": [],
   "source": [
    "module_path = os.path.abspath(os.path.join('.')) \n",
    "sys.path.append(module_path+\"\\\\data\\\\constant\")\n",
    "\n",
    "from constants import COMPANY_CODE"
   ]
  },
  {
   "cell_type": "code",
   "execution_count": 3,
   "id": "9ea60572",
   "metadata": {},
   "outputs": [
    {
     "data": {
      "text/plain": [
       "\" \\n[[datetime.date(2022, 1, 17) 'dji_cr']\\n [datetime.date(2022, 1, 17) 'dji_f_cr']\\n ...\\n [datetime.date(2023, 5, 23) 'kosdaq_cr']\\n [datetime.date(2023, 5, 23) 'kosdaq_cr_2']]\\n\""
      ]
     },
     "execution_count": 3,
     "metadata": {},
     "output_type": "execute_result"
    }
   ],
   "source": [
    "def locate_nan(df):\n",
    "    idx, idy = np.where(pd.isnull(df))\n",
    "    result = np.column_stack([df.index[idx], df.columns[idy]])\n",
    "    return result\n",
    "\n",
    "# return format\n",
    "''' \n",
    "[[datetime.date(2022, 1, 17) 'dji_cr']\n",
    " [datetime.date(2022, 1, 17) 'dji_f_cr']\n",
    " ...\n",
    " [datetime.date(2023, 5, 23) 'kosdaq_cr']\n",
    " [datetime.date(2023, 5, 23) 'kosdaq_cr_2']]\n",
    "'''"
   ]
  },
  {
   "cell_type": "code",
   "execution_count": 4,
   "id": "d6f9e0c8",
   "metadata": {},
   "outputs": [],
   "source": [
    "code = COMPANY_CODE\n",
    "\n",
    "# code = {'005930': ['삼성전자', 'sec'], '005380': ['현대차', 'hyunmotor'],\n",
    "#                  '035420': ['NAVER', 'naver'], '033780': ['KT&G', 'ktng']}\n",
    "# code = {'005930': ['삼성전자', 'sec'], '000660': ['SK하이닉스', 'skhynix']}\n",
    "# code = {'302440': ['SK바이오사이언스', 'skbio']}"
   ]
  },
  {
   "cell_type": "code",
   "execution_count": 5,
   "id": "1ced9635",
   "metadata": {},
   "outputs": [],
   "source": [
    "directory_for_predict = './data/data_for_ml/predict/'\n",
    "pkl_common_directory = './data/common_pkl/'\n",
    "pkl_directory = './data/common_pkl/'"
   ]
  },
  {
   "cell_type": "code",
   "execution_count": 6,
   "id": "a4ac3c16",
   "metadata": {},
   "outputs": [],
   "source": [
    "df_common = pd.read_pickle(directory_for_predict + '0_df_common.pkl')"
   ]
  },
  {
   "cell_type": "code",
   "execution_count": 7,
   "id": "82d5ae58",
   "metadata": {},
   "outputs": [],
   "source": [
    "for key, val in code.items():\n",
    "    df_company = pd.read_pickle(directory_for_predict + f'df_{val[1]}_company.pkl')\n",
    "    df_company = df_company.merge(df_common, how='left', left_index=True, right_index=True)\n",
    "    globals()[f'df_{val[1]}_combine'] = df_company.copy()"
   ]
  },
  {
   "cell_type": "code",
   "execution_count": 8,
   "id": "6c798e31",
   "metadata": {},
   "outputs": [
    {
     "data": {
      "text/html": [
       "<div>\n",
       "<style scoped>\n",
       "    .dataframe tbody tr th:only-of-type {\n",
       "        vertical-align: middle;\n",
       "    }\n",
       "\n",
       "    .dataframe tbody tr th {\n",
       "        vertical-align: top;\n",
       "    }\n",
       "\n",
       "    .dataframe thead th {\n",
       "        text-align: right;\n",
       "    }\n",
       "</style>\n",
       "<table border=\"1\" class=\"dataframe\">\n",
       "  <thead>\n",
       "    <tr style=\"text-align: right;\">\n",
       "      <th></th>\n",
       "      <th>retail_1</th>\n",
       "      <th>foreigner_1</th>\n",
       "      <th>institution_1</th>\n",
       "      <th>financial_1</th>\n",
       "      <th>invtrust_1</th>\n",
       "      <th>pension_1</th>\n",
       "      <th>privequity_1</th>\n",
       "      <th>bank_1</th>\n",
       "      <th>insurance_1</th>\n",
       "      <th>financeetc_1</th>\n",
       "      <th>...</th>\n",
       "      <th>ixk_cr</th>\n",
       "      <th>ixk_cr_2</th>\n",
       "      <th>ixtr_cr</th>\n",
       "      <th>ixtr_cr_2</th>\n",
       "      <th>ixut_cr</th>\n",
       "      <th>ixut_cr_2</th>\n",
       "      <th>nbi_cr</th>\n",
       "      <th>nbi_cr_2</th>\n",
       "      <th>bkx_cr</th>\n",
       "      <th>bkx_cr_2</th>\n",
       "    </tr>\n",
       "  </thead>\n",
       "  <tbody>\n",
       "    <tr>\n",
       "      <th>2024-05-31</th>\n",
       "      <td>-0.58895</td>\n",
       "      <td>-1.19866</td>\n",
       "      <td>2.30496</td>\n",
       "      <td>-9.97679</td>\n",
       "      <td>-4.59412</td>\n",
       "      <td>1.47752</td>\n",
       "      <td>-0.66025</td>\n",
       "      <td>-27.25000</td>\n",
       "      <td>-0.65492</td>\n",
       "      <td>1.00000</td>\n",
       "      <td>...</td>\n",
       "      <td>-2.04%</td>\n",
       "      <td>-2.45643</td>\n",
       "      <td>0.67%</td>\n",
       "      <td>-1.06936</td>\n",
       "      <td>1.16%</td>\n",
       "      <td>0.94083</td>\n",
       "      <td>1.75%</td>\n",
       "      <td>0.54381</td>\n",
       "      <td>0.50%</td>\n",
       "      <td>-0.67444</td>\n",
       "    </tr>\n",
       "    <tr>\n",
       "      <th>2024-06-03</th>\n",
       "      <td>1.43832</td>\n",
       "      <td>-12.28200</td>\n",
       "      <td>-2.39645</td>\n",
       "      <td>-2.80840</td>\n",
       "      <td>-2.87398</td>\n",
       "      <td>-2.88370</td>\n",
       "      <td>2.35591</td>\n",
       "      <td>-1.00952</td>\n",
       "      <td>-0.97268</td>\n",
       "      <td>-129.00000</td>\n",
       "      <td>...</td>\n",
       "      <td>-0.17%</td>\n",
       "      <td>-2.20767</td>\n",
       "      <td>1.52%</td>\n",
       "      <td>2.20561</td>\n",
       "      <td>2.01%</td>\n",
       "      <td>3.19091</td>\n",
       "      <td>0.31%</td>\n",
       "      <td>2.07082</td>\n",
       "      <td>1.79%</td>\n",
       "      <td>2.30064</td>\n",
       "    </tr>\n",
       "    <tr>\n",
       "      <th>2024-06-04</th>\n",
       "      <td>-3.37547</td>\n",
       "      <td>-1.31394</td>\n",
       "      <td>1.31506</td>\n",
       "      <td>0.69200</td>\n",
       "      <td>-14.98777</td>\n",
       "      <td>-0.79078</td>\n",
       "      <td>-1.11450</td>\n",
       "      <td>113.00000</td>\n",
       "      <td>-64.65217</td>\n",
       "      <td>-0.10547</td>\n",
       "      <td>...</td>\n",
       "      <td>0.94%</td>\n",
       "      <td>0.76598</td>\n",
       "      <td>-1.26%</td>\n",
       "      <td>0.24255</td>\n",
       "      <td>-0.57%</td>\n",
       "      <td>1.43573</td>\n",
       "      <td>1.51%</td>\n",
       "      <td>1.82659</td>\n",
       "      <td>-1.02%</td>\n",
       "      <td>0.75663</td>\n",
       "    </tr>\n",
       "    <tr>\n",
       "      <th>2024-06-05</th>\n",
       "      <td>-1.20276</td>\n",
       "      <td>-2.32617</td>\n",
       "      <td>-0.87120</td>\n",
       "      <td>-1.03541</td>\n",
       "      <td>-0.52316</td>\n",
       "      <td>0.67547</td>\n",
       "      <td>1.12660</td>\n",
       "      <td>-0.92105</td>\n",
       "      <td>-0.93989</td>\n",
       "      <td>-1.00000</td>\n",
       "      <td>...</td>\n",
       "      <td>0.28%</td>\n",
       "      <td>1.22194</td>\n",
       "      <td>-0.30%</td>\n",
       "      <td>-1.55721</td>\n",
       "      <td>1.05%</td>\n",
       "      <td>0.47846</td>\n",
       "      <td>-0.15%</td>\n",
       "      <td>1.35875</td>\n",
       "      <td>-1.15%</td>\n",
       "      <td>-2.15361</td>\n",
       "    </tr>\n",
       "    <tr>\n",
       "      <th>2024-06-07</th>\n",
       "      <td>-2.53945</td>\n",
       "      <td>-1.56284</td>\n",
       "      <td>0.55412</td>\n",
       "      <td>-2.73754</td>\n",
       "      <td>-0.52442</td>\n",
       "      <td>-1.30856</td>\n",
       "      <td>1.79201</td>\n",
       "      <td>-303.44444</td>\n",
       "      <td>9.40909</td>\n",
       "      <td>inf</td>\n",
       "      <td>...</td>\n",
       "      <td>NaN</td>\n",
       "      <td>NaN</td>\n",
       "      <td>NaN</td>\n",
       "      <td>NaN</td>\n",
       "      <td>NaN</td>\n",
       "      <td>NaN</td>\n",
       "      <td>NaN</td>\n",
       "      <td>NaN</td>\n",
       "      <td>NaN</td>\n",
       "      <td>NaN</td>\n",
       "    </tr>\n",
       "  </tbody>\n",
       "</table>\n",
       "<p>5 rows × 114 columns</p>\n",
       "</div>"
      ],
      "text/plain": [
       "            retail_1  foreigner_1  institution_1  financial_1  invtrust_1  \\\n",
       "2024-05-31  -0.58895     -1.19866        2.30496     -9.97679    -4.59412   \n",
       "2024-06-03   1.43832    -12.28200       -2.39645     -2.80840    -2.87398   \n",
       "2024-06-04  -3.37547     -1.31394        1.31506      0.69200   -14.98777   \n",
       "2024-06-05  -1.20276     -2.32617       -0.87120     -1.03541    -0.52316   \n",
       "2024-06-07  -2.53945     -1.56284        0.55412     -2.73754    -0.52442   \n",
       "\n",
       "            pension_1  privequity_1     bank_1  insurance_1  financeetc_1  \\\n",
       "2024-05-31    1.47752      -0.66025  -27.25000     -0.65492       1.00000   \n",
       "2024-06-03   -2.88370       2.35591   -1.00952     -0.97268    -129.00000   \n",
       "2024-06-04   -0.79078      -1.11450  113.00000    -64.65217      -0.10547   \n",
       "2024-06-05    0.67547       1.12660   -0.92105     -0.93989      -1.00000   \n",
       "2024-06-07   -1.30856       1.79201 -303.44444      9.40909           inf   \n",
       "\n",
       "            ...  ixk_cr  ixk_cr_2  ixtr_cr  ixtr_cr_2  ixut_cr  ixut_cr_2  \\\n",
       "2024-05-31  ...  -2.04%  -2.45643    0.67%   -1.06936    1.16%    0.94083   \n",
       "2024-06-03  ...  -0.17%  -2.20767    1.52%    2.20561    2.01%    3.19091   \n",
       "2024-06-04  ...   0.94%   0.76598   -1.26%    0.24255   -0.57%    1.43573   \n",
       "2024-06-05  ...   0.28%   1.22194   -0.30%   -1.55721    1.05%    0.47846   \n",
       "2024-06-07  ...     NaN       NaN      NaN        NaN      NaN        NaN   \n",
       "\n",
       "            nbi_cr  nbi_cr_2  bkx_cr  bkx_cr_2  \n",
       "2024-05-31   1.75%   0.54381   0.50%  -0.67444  \n",
       "2024-06-03   0.31%   2.07082   1.79%   2.30064  \n",
       "2024-06-04   1.51%   1.82659  -1.02%   0.75663  \n",
       "2024-06-05  -0.15%   1.35875  -1.15%  -2.15361  \n",
       "2024-06-07     NaN       NaN     NaN       NaN  \n",
       "\n",
       "[5 rows x 114 columns]"
      ]
     },
     "execution_count": 8,
     "metadata": {},
     "output_type": "execute_result"
    }
   ],
   "source": [
    "df_hyunmotor_combine.tail()"
   ]
  },
  {
   "cell_type": "code",
   "execution_count": 9,
   "id": "aeab3342",
   "metadata": {},
   "outputs": [
    {
     "data": {
      "text/plain": [
       "datetime.date(2022, 1, 7)"
      ]
     },
     "execution_count": 9,
     "metadata": {},
     "output_type": "execute_result"
    }
   ],
   "source": [
    "df_hyunmotor_combine.index[0]"
   ]
  },
  {
   "cell_type": "code",
   "execution_count": 10,
   "id": "587ac2cd",
   "metadata": {},
   "outputs": [],
   "source": [
    "col_inv1 = ['retail_1', 'foreigner_1', 'institution_1', 'financial_1', 'invtrust_1', 'pension_1', 'privequity_1', \n",
    "            'bank_1', 'insurance_1', 'financeetc_1', 'corporateetc_1', 'foreigneretc_1']\n",
    "col_inv2 = ['retail_2', 'foreigner_2', 'institution_2', 'financial_2', 'invtrust_2', 'pension_2',\n",
    "            'privequity_2', 'bank_2', 'insurance_2', 'financeetc_2', 'corporateetc_2', 'foreigneretc_2']"
   ]
  },
  {
   "cell_type": "code",
   "execution_count": 11,
   "id": "76ca8389",
   "metadata": {},
   "outputs": [],
   "source": [
    "col_his1 = ['open_1', 'high_1', 'low_1', 'close_1', 'vol_1']\n",
    "col_his2 = ['open_2', 'high_2', 'low_2', 'close_2', 'vol_2']"
   ]
  },
  {
   "cell_type": "code",
   "execution_count": 12,
   "id": "8a6b4bac",
   "metadata": {},
   "outputs": [],
   "source": [
    "col_common1 = [\"dji_cr\", \"dji_f_cr\", \"dxy_cr\", \"ixic_f_cr\", \"bond_kor_10_cr\", \"bond_kor_2_cr\", \"kosdaq_cr\", \"kospi_cr\", \n",
    "         \"krw_cr\", \"ixic_cr\", \"spx_f_cr\", \"sox_cr\", \"spx_cr\", \"bond_usa_10_cr\", \"bond_usa_2_cr\", \"bond_usa_3m_cr\", \n",
    "         \"vix_cr\", \"wti_cr\", \"spsy_cr\", \"spny_cr\", \"spxhc_cr\", \"splrcd_cr\", \"splrci_cr\", \"splrcu_cr\", \"splrcs_cr\",\n",
    "         \"splrct_cr\", \"splrcl_cr\", \"splrcm_cr\", \"ixbk_cr\", \"ixfn_cr\", \"ixid_cr\", \"ixis_cr\", \"ixk_cr\", \"ixtr_cr\",\n",
    "         \"ixut_cr\", \"nbi_cr\", \"bkx_cr\"]\n",
    "col_common2 = [\"dji_cr_2\", \"dji_f_cr_2\", \"dxy_cr_2\", \"ixic_f_cr_2\", \"bond_kor_10_cr_2\", \"bond_kor_2_cr_2\", \"kosdaq_cr_2\", \"kospi_cr_2\",\n",
    "         \"krw_cr_2\", \"ixic_cr_2\", \"spx_f_cr_2\", \"sox_cr_2\", \"spx_cr_2\", \"bond_usa_10_cr_2\", \"bond_usa_2_cr_2\", \"bond_usa_3m_cr_2\",\n",
    "         \"vix_cr_2\", \"wti_cr_2\", \"spsy_cr_2\", \"spny_cr_2\", \"spxhc_cr_2\", \"splrcd_cr_2\", \"splrci_cr_2\", \"splrcu_cr_2\",\n",
    "         \"splrcs_cr_2\", \"splrct_cr_2\", \"splrcl_cr_2\", \"splrcm_cr_2\", \"ixbk_cr_2\", \"ixfn_cr_2\", \"ixid_cr_2\",\n",
    "         \"ixis_cr_2\", \"ixk_cr_2\", \"ixtr_cr_2\", \"ixut_cr_2\", \"nbi_cr_2\", \"bkx_cr_2\"]"
   ]
  },
  {
   "cell_type": "code",
   "execution_count": 13,
   "id": "9a595935",
   "metadata": {},
   "outputs": [],
   "source": [
    "col_cr = ['weekday', 'cr_00', 'cr_05', 'cr_10', 'cr_15', 'cr_20']"
   ]
  },
  {
   "cell_type": "code",
   "execution_count": 14,
   "id": "75ec6070",
   "metadata": {},
   "outputs": [],
   "source": [
    "col_col = col_inv1 + col_common1 + col_his1 + col_inv2 + col_common2 + col_his2 + col_cr"
   ]
  },
  {
   "cell_type": "code",
   "execution_count": 15,
   "id": "ff6769da",
   "metadata": {},
   "outputs": [],
   "source": [
    "# # write common data only\n",
    "# df_temp = df_common.copy()\n",
    "# df_temp = df_temp[col_common1+col_common2]\n",
    "# pkl_common_directory = './data/common_pkl/'\n",
    "# df_temp.to_pickle(pkl_common_directory + 'df_common.pkl')\n",
    "# df_temp.to_csv(pkl_common_directory + 'df_common.csv')"
   ]
  },
  {
   "cell_type": "code",
   "execution_count": 16,
   "id": "c78c8f82",
   "metadata": {},
   "outputs": [],
   "source": [
    "new_columns = col_col"
   ]
  },
  {
   "cell_type": "code",
   "execution_count": 17,
   "id": "02da1256",
   "metadata": {},
   "outputs": [],
   "source": [
    "# column 순서 변경 : weekday, 'cr_00', 'cr_05', 'cr_10', 'cr_15', 'cr_20' column을 마지막으로 이동 \n",
    "for key, val in code.items():\n",
    "    globals()['df_{}_combine'.format(val[1])] = globals()['df_{}_combine'.format(val[1])][new_columns]"
   ]
  },
  {
   "cell_type": "code",
   "execution_count": 18,
   "id": "d4f1fa06",
   "metadata": {},
   "outputs": [
    {
     "data": {
      "text/plain": [
       "'\\n# drop inf, -inf : replace inf to 1 or -1 . 데이터를 살리고\\n# 변동률이 무한대가 되는 것을 방지하기 위해서, 나중에 발생하는 에러를 방지\\ndf_sec_sel.replace([np.inf, -np.inf], [1, -1], inplace=True)\\n\\n.impute 사용하는 것을 고려할 필요 있음.\\n'"
      ]
     },
     "execution_count": 18,
     "metadata": {},
     "output_type": "execute_result"
    }
   ],
   "source": [
    "'''\n",
    "# drop inf, -inf : replace inf to 1 or -1 . 데이터를 살리고\n",
    "# 변동률이 무한대가 되는 것을 방지하기 위해서, 나중에 발생하는 에러를 방지\n",
    "df_sec_sel.replace([np.inf, -np.inf], [1, -1], inplace=True)\n",
    "\n",
    ".impute 사용하는 것을 고려할 필요 있음.\n",
    "'''"
   ]
  },
  {
   "cell_type": "code",
   "execution_count": 19,
   "id": "7e91c1c5",
   "metadata": {},
   "outputs": [],
   "source": [
    "# drop inf, -inf : replace inf to 1 or -1 . 데이터를 살리고\n",
    "# 변동률이 무한대가 되는 것을 방지하기 위해서, 나중에 발생하는 에러를 방지\n",
    "for key, val in code.items():\n",
    "    globals()['df_{}_combine'.format(val[1])].replace([np.inf, -np.inf], [1, -1], inplace=True)\n",
    "\n",
    "# **** 데이터 전처리 from sklearn.impute import SimpleImputer, SimpleImputer 사용하기로 함."
   ]
  },
  {
   "cell_type": "code",
   "execution_count": 20,
   "id": "3fa3914b",
   "metadata": {},
   "outputs": [
    {
     "data": {
      "text/html": [
       "<div>\n",
       "<style scoped>\n",
       "    .dataframe tbody tr th:only-of-type {\n",
       "        vertical-align: middle;\n",
       "    }\n",
       "\n",
       "    .dataframe tbody tr th {\n",
       "        vertical-align: top;\n",
       "    }\n",
       "\n",
       "    .dataframe thead th {\n",
       "        text-align: right;\n",
       "    }\n",
       "</style>\n",
       "<table border=\"1\" class=\"dataframe\">\n",
       "  <thead>\n",
       "    <tr style=\"text-align: right;\">\n",
       "      <th></th>\n",
       "      <th>retail_1</th>\n",
       "      <th>foreigner_1</th>\n",
       "      <th>institution_1</th>\n",
       "      <th>financial_1</th>\n",
       "      <th>invtrust_1</th>\n",
       "      <th>pension_1</th>\n",
       "      <th>privequity_1</th>\n",
       "      <th>bank_1</th>\n",
       "      <th>insurance_1</th>\n",
       "      <th>financeetc_1</th>\n",
       "      <th>...</th>\n",
       "      <th>high_2</th>\n",
       "      <th>low_2</th>\n",
       "      <th>close_2</th>\n",
       "      <th>vol_2</th>\n",
       "      <th>weekday</th>\n",
       "      <th>cr_00</th>\n",
       "      <th>cr_05</th>\n",
       "      <th>cr_10</th>\n",
       "      <th>cr_15</th>\n",
       "      <th>cr_20</th>\n",
       "    </tr>\n",
       "  </thead>\n",
       "  <tbody>\n",
       "    <tr>\n",
       "      <th>2024-05-31</th>\n",
       "      <td>0.63442</td>\n",
       "      <td>0.15116</td>\n",
       "      <td>-5.16029</td>\n",
       "      <td>0.34360</td>\n",
       "      <td>-1.14489</td>\n",
       "      <td>-1.01468</td>\n",
       "      <td>-9.87827</td>\n",
       "      <td>-2.97439</td>\n",
       "      <td>-0.81287</td>\n",
       "      <td>-2.38313</td>\n",
       "      <td>...</td>\n",
       "      <td>-0.03590</td>\n",
       "      <td>-0.03543</td>\n",
       "      <td>-0.05284</td>\n",
       "      <td>0.54006</td>\n",
       "      <td>3</td>\n",
       "      <td>0</td>\n",
       "      <td>0</td>\n",
       "      <td>0</td>\n",
       "      <td>0</td>\n",
       "      <td>0</td>\n",
       "    </tr>\n",
       "    <tr>\n",
       "      <th>2024-06-03</th>\n",
       "      <td>-0.66076</td>\n",
       "      <td>-0.08346</td>\n",
       "      <td>-2.52201</td>\n",
       "      <td>-2.59958</td>\n",
       "      <td>-4.12931</td>\n",
       "      <td>0.69449</td>\n",
       "      <td>-1.26802</td>\n",
       "      <td>-1.77641</td>\n",
       "      <td>1.67874</td>\n",
       "      <td>-0.80150</td>\n",
       "      <td>...</td>\n",
       "      <td>-0.04476</td>\n",
       "      <td>-0.02261</td>\n",
       "      <td>-0.02261</td>\n",
       "      <td>-0.13378</td>\n",
       "      <td>4</td>\n",
       "      <td>1</td>\n",
       "      <td>1</td>\n",
       "      <td>1</td>\n",
       "      <td>1</td>\n",
       "      <td>1</td>\n",
       "    </tr>\n",
       "    <tr>\n",
       "      <th>2024-06-04</th>\n",
       "      <td>-1.98237</td>\n",
       "      <td>-1.30276</td>\n",
       "      <td>-0.74565</td>\n",
       "      <td>-0.85961</td>\n",
       "      <td>-0.42495</td>\n",
       "      <td>-4.52463</td>\n",
       "      <td>-0.18422</td>\n",
       "      <td>0.04296</td>\n",
       "      <td>-0.20301</td>\n",
       "      <td>5.79345</td>\n",
       "      <td>...</td>\n",
       "      <td>0.01596</td>\n",
       "      <td>0.00952</td>\n",
       "      <td>0.02993</td>\n",
       "      <td>-0.44989</td>\n",
       "      <td>0</td>\n",
       "      <td>0</td>\n",
       "      <td>0</td>\n",
       "      <td>0</td>\n",
       "      <td>0</td>\n",
       "      <td>0</td>\n",
       "    </tr>\n",
       "    <tr>\n",
       "      <th>2024-06-05</th>\n",
       "      <td>-1.24971</td>\n",
       "      <td>-1.20517</td>\n",
       "      <td>-1.42855</td>\n",
       "      <td>-2.62556</td>\n",
       "      <td>-1.39502</td>\n",
       "      <td>1.78540</td>\n",
       "      <td>-1.33522</td>\n",
       "      <td>-1.31426</td>\n",
       "      <td>-0.46471</td>\n",
       "      <td>-0.37931</td>\n",
       "      <td>...</td>\n",
       "      <td>0.01874</td>\n",
       "      <td>0.01905</td>\n",
       "      <td>0.02449</td>\n",
       "      <td>-0.46188</td>\n",
       "      <td>1</td>\n",
       "      <td>1</td>\n",
       "      <td>1</td>\n",
       "      <td>1</td>\n",
       "      <td>1</td>\n",
       "      <td>1</td>\n",
       "    </tr>\n",
       "    <tr>\n",
       "      <th>2024-06-07</th>\n",
       "      <td>-4.67659</td>\n",
       "      <td>-15.17149</td>\n",
       "      <td>7.35731</td>\n",
       "      <td>3.52568</td>\n",
       "      <td>-1.77685</td>\n",
       "      <td>-1.24618</td>\n",
       "      <td>-2.04312</td>\n",
       "      <td>-1.12136</td>\n",
       "      <td>-0.25147</td>\n",
       "      <td>-1.06870</td>\n",
       "      <td>...</td>\n",
       "      <td>0.02094</td>\n",
       "      <td>0.03504</td>\n",
       "      <td>0.02246</td>\n",
       "      <td>0.47571</td>\n",
       "      <td>2</td>\n",
       "      <td>0</td>\n",
       "      <td>0</td>\n",
       "      <td>0</td>\n",
       "      <td>0</td>\n",
       "      <td>0</td>\n",
       "    </tr>\n",
       "  </tbody>\n",
       "</table>\n",
       "<p>5 rows × 114 columns</p>\n",
       "</div>"
      ],
      "text/plain": [
       "            retail_1  foreigner_1  institution_1  financial_1  invtrust_1  \\\n",
       "2024-05-31   0.63442      0.15116       -5.16029      0.34360    -1.14489   \n",
       "2024-06-03  -0.66076     -0.08346       -2.52201     -2.59958    -4.12931   \n",
       "2024-06-04  -1.98237     -1.30276       -0.74565     -0.85961    -0.42495   \n",
       "2024-06-05  -1.24971     -1.20517       -1.42855     -2.62556    -1.39502   \n",
       "2024-06-07  -4.67659    -15.17149        7.35731      3.52568    -1.77685   \n",
       "\n",
       "            pension_1  privequity_1   bank_1  insurance_1  financeetc_1  ...  \\\n",
       "2024-05-31   -1.01468      -9.87827 -2.97439     -0.81287      -2.38313  ...   \n",
       "2024-06-03    0.69449      -1.26802 -1.77641      1.67874      -0.80150  ...   \n",
       "2024-06-04   -4.52463      -0.18422  0.04296     -0.20301       5.79345  ...   \n",
       "2024-06-05    1.78540      -1.33522 -1.31426     -0.46471      -0.37931  ...   \n",
       "2024-06-07   -1.24618      -2.04312 -1.12136     -0.25147      -1.06870  ...   \n",
       "\n",
       "             high_2    low_2  close_2    vol_2  weekday  cr_00 cr_05 cr_10  \\\n",
       "2024-05-31 -0.03590 -0.03543 -0.05284  0.54006        3      0     0     0   \n",
       "2024-06-03 -0.04476 -0.02261 -0.02261 -0.13378        4      1     1     1   \n",
       "2024-06-04  0.01596  0.00952  0.02993 -0.44989        0      0     0     0   \n",
       "2024-06-05  0.01874  0.01905  0.02449 -0.46188        1      1     1     1   \n",
       "2024-06-07  0.02094  0.03504  0.02246  0.47571        2      0     0     0   \n",
       "\n",
       "            cr_15  cr_20  \n",
       "2024-05-31      0      0  \n",
       "2024-06-03      1      1  \n",
       "2024-06-04      0      0  \n",
       "2024-06-05      1      1  \n",
       "2024-06-07      0      0  \n",
       "\n",
       "[5 rows x 114 columns]"
      ]
     },
     "execution_count": 20,
     "metadata": {},
     "output_type": "execute_result"
    }
   ],
   "source": [
    "df_sec_combine.tail()"
   ]
  },
  {
   "cell_type": "code",
   "execution_count": 21,
   "id": "bf7224df",
   "metadata": {},
   "outputs": [],
   "source": [
    "nanlo = locate_nan(df_sec_combine)  # nan 위치 찾기"
   ]
  },
  {
   "cell_type": "code",
   "execution_count": 22,
   "id": "2f63d7f5",
   "metadata": {},
   "outputs": [
    {
     "name": "stdout",
     "output_type": "stream",
     "text": [
      "[[datetime.date(2022, 1, 18) 'dji_cr']\n",
      " [datetime.date(2022, 1, 18) 'dji_f_cr']\n",
      " [datetime.date(2022, 1, 18) 'dxy_cr']\n",
      " ...\n",
      " [datetime.date(2024, 6, 7) 'ixut_cr_2']\n",
      " [datetime.date(2024, 6, 7) 'nbi_cr_2']\n",
      " [datetime.date(2024, 6, 7) 'bkx_cr_2']]\n"
     ]
    }
   ],
   "source": [
    "print(nanlo)"
   ]
  },
  {
   "cell_type": "code",
   "execution_count": 23,
   "id": "21a6d628",
   "metadata": {},
   "outputs": [],
   "source": [
    "# delete rows which include NaN : dji, spx, nasdaq 기타 common 지수중 한개라도 nan인 rows 제거\n",
    "for key, val in code.items():\n",
    "    globals()['df_{}_combine'.format(val[1])].dropna(inplace=True)"
   ]
  },
  {
   "cell_type": "code",
   "execution_count": 24,
   "id": "c6f3061c",
   "metadata": {},
   "outputs": [],
   "source": [
    "# string column을 numeric으로 전환\n",
    "def string_to_num(df):\n",
    "    df.replace('%', '', regex=True, inplace=True)\n",
    "    df = df.apply(pd.to_numeric)\n",
    "    return df\n",
    "\n",
    "for key, val in code.items():\n",
    "    globals()['df_{}_combine'.format(val[1])] = string_to_num(globals()['df_{}_combine'.format(val[1])])"
   ]
  },
  {
   "cell_type": "code",
   "execution_count": 25,
   "id": "7e8d5acf",
   "metadata": {},
   "outputs": [],
   "source": [
    "# pickle로 데이터 저장\n",
    "\n",
    "for key, val in code.items():\n",
    "    globals()[f'df_{val[1]}_combine'].to_pickle(directory_for_predict + f'df_{val[1]}_combine.pkl')\n",
    "    globals()[f'df_{val[1]}_combine'].to_csv(directory_for_predict + f'df_{val[1]}_combine.csv')"
   ]
  },
  {
   "cell_type": "code",
   "execution_count": null,
   "id": "a01825d3",
   "metadata": {},
   "outputs": [],
   "source": []
  },
  {
   "cell_type": "code",
   "execution_count": null,
   "id": "3300e5b2",
   "metadata": {},
   "outputs": [],
   "source": []
  },
  {
   "cell_type": "code",
   "execution_count": null,
   "id": "1ffeab80",
   "metadata": {},
   "outputs": [],
   "source": []
  },
  {
   "cell_type": "code",
   "execution_count": null,
   "id": "a1f7c9d1",
   "metadata": {},
   "outputs": [],
   "source": []
  },
  {
   "cell_type": "code",
   "execution_count": null,
   "id": "bc80b897",
   "metadata": {},
   "outputs": [],
   "source": []
  }
 ],
 "metadata": {
  "kernelspec": {
   "display_name": "Python 3 (ipykernel)",
   "language": "python",
   "name": "python3"
  },
  "language_info": {
   "codemirror_mode": {
    "name": "ipython",
    "version": 3
   },
   "file_extension": ".py",
   "mimetype": "text/x-python",
   "name": "python",
   "nbconvert_exporter": "python",
   "pygments_lexer": "ipython3",
   "version": "3.12.2"
  }
 },
 "nbformat": 4,
 "nbformat_minor": 5
}
