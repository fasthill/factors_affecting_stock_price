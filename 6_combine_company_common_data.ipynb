{
 "cells": [
  {
   "cell_type": "markdown",
   "id": "459ff0ca",
   "metadata": {},
   "source": [
    "## combine company data and common data"
   ]
  },
  {
   "cell_type": "code",
   "execution_count": 1,
   "id": "d3b5a935",
   "metadata": {},
   "outputs": [],
   "source": [
    "import datetime, time\n",
    "from datetime import date\n",
    "\n",
    "import pandas as pd\n",
    "import numpy as np\n",
    "import os\n",
    "import sys\n",
    "\n",
    "from sklearn.preprocessing import StandardScaler"
   ]
  },
  {
   "cell_type": "code",
   "execution_count": 2,
   "id": "8ef51f99",
   "metadata": {},
   "outputs": [],
   "source": [
    "module_path = os.path.abspath(os.path.join('.')) \n",
    "sys.path.append(module_path+\"\\\\data\\\\constant\")\n",
    "\n",
    "from constants import COMPANY_CODE"
   ]
  },
  {
   "cell_type": "code",
   "execution_count": 3,
   "id": "9ea60572",
   "metadata": {},
   "outputs": [
    {
     "data": {
      "text/plain": [
       "\" \\n[[datetime.date(2022, 1, 17) 'dji_cr']\\n [datetime.date(2022, 1, 17) 'dji_f_cr']\\n ...\\n [datetime.date(2023, 5, 23) 'kosdaq_cr']\\n [datetime.date(2023, 5, 23) 'kosdaq_cr_2']]\\n\""
      ]
     },
     "execution_count": 3,
     "metadata": {},
     "output_type": "execute_result"
    }
   ],
   "source": [
    "def locate_nan(df):\n",
    "    idx, idy = np.where(pd.isnull(df))\n",
    "    result = np.column_stack([df.index[idx], df.columns[idy]])\n",
    "    return result\n",
    "\n",
    "# return format\n",
    "''' \n",
    "[[datetime.date(2022, 1, 17) 'dji_cr']\n",
    " [datetime.date(2022, 1, 17) 'dji_f_cr']\n",
    " ...\n",
    " [datetime.date(2023, 5, 23) 'kosdaq_cr']\n",
    " [datetime.date(2023, 5, 23) 'kosdaq_cr_2']]\n",
    "'''"
   ]
  },
  {
   "cell_type": "code",
   "execution_count": 4,
   "id": "d6f9e0c8",
   "metadata": {},
   "outputs": [],
   "source": [
    "code = COMPANY_CODE\n",
    "\n",
    "# code = {'005930': ['삼성전자', 'sec'], '005380': ['현대차', 'hyunmotor'],\n",
    "#                  '035420': ['NAVER', 'naver'], '033780': ['KT&G', 'ktng']}\n",
    "# code = {'005930': ['삼성전자', 'sec'], '000660': ['SK하이닉스', 'skhynix']}\n",
    "# code = {'302440': ['SK바이오사이언스', 'skbio']}"
   ]
  },
  {
   "cell_type": "code",
   "execution_count": 5,
   "id": "1ced9635",
   "metadata": {},
   "outputs": [],
   "source": [
    "directory_for_predict = './data/data_for_ml/predict/'\n",
    "pkl_common_directory = './data/common_pkl/'\n",
    "pkl_directory = './data/common_pkl/'"
   ]
  },
  {
   "cell_type": "code",
   "execution_count": 6,
   "id": "a4ac3c16",
   "metadata": {},
   "outputs": [],
   "source": [
    "df_common = pd.read_pickle(directory_for_predict + '0_df_common.pkl')"
   ]
  },
  {
   "cell_type": "code",
   "execution_count": 7,
   "id": "82d5ae58",
   "metadata": {},
   "outputs": [],
   "source": [
    "for key, val in code.items():\n",
    "    df_company = pd.read_pickle(directory_for_predict + f'df_{val[1]}_company.pkl')\n",
    "    df_company = df_company.merge(df_common, how='left', left_index=True, right_index=True)\n",
    "    globals()[f'df_{val[1]}_combine'] = df_company.copy()"
   ]
  },
  {
   "cell_type": "code",
   "execution_count": 8,
   "id": "6c798e31",
   "metadata": {},
   "outputs": [
    {
     "data": {
      "text/html": [
       "<div>\n",
       "<style scoped>\n",
       "    .dataframe tbody tr th:only-of-type {\n",
       "        vertical-align: middle;\n",
       "    }\n",
       "\n",
       "    .dataframe tbody tr th {\n",
       "        vertical-align: top;\n",
       "    }\n",
       "\n",
       "    .dataframe thead th {\n",
       "        text-align: right;\n",
       "    }\n",
       "</style>\n",
       "<table border=\"1\" class=\"dataframe\">\n",
       "  <thead>\n",
       "    <tr style=\"text-align: right;\">\n",
       "      <th></th>\n",
       "      <th>retail_1</th>\n",
       "      <th>foreigner_1</th>\n",
       "      <th>institution_1</th>\n",
       "      <th>financial_1</th>\n",
       "      <th>invtrust_1</th>\n",
       "      <th>pension_1</th>\n",
       "      <th>privequity_1</th>\n",
       "      <th>bank_1</th>\n",
       "      <th>insurance_1</th>\n",
       "      <th>financeetc_1</th>\n",
       "      <th>...</th>\n",
       "      <th>ixk_cr</th>\n",
       "      <th>ixk_cr_2</th>\n",
       "      <th>ixtr_cr</th>\n",
       "      <th>ixtr_cr_2</th>\n",
       "      <th>ixut_cr</th>\n",
       "      <th>ixut_cr_2</th>\n",
       "      <th>nbi_cr</th>\n",
       "      <th>nbi_cr_2</th>\n",
       "      <th>bkx_cr</th>\n",
       "      <th>bkx_cr_2</th>\n",
       "    </tr>\n",
       "  </thead>\n",
       "  <tbody>\n",
       "    <tr>\n",
       "      <th>2024-01-04</th>\n",
       "      <td>143.15205</td>\n",
       "      <td>-5.47440</td>\n",
       "      <td>-105.76569</td>\n",
       "      <td>-6.72867</td>\n",
       "      <td>3.39088</td>\n",
       "      <td>-1.56287</td>\n",
       "      <td>-11.75652</td>\n",
       "      <td>-0.63889</td>\n",
       "      <td>-0.84661</td>\n",
       "      <td>-2.54054</td>\n",
       "      <td>...</td>\n",
       "      <td>-0.82%</td>\n",
       "      <td>-3.34420</td>\n",
       "      <td>-1.88%</td>\n",
       "      <td>-3.03192</td>\n",
       "      <td>-0.59%</td>\n",
       "      <td>-0.48909</td>\n",
       "      <td>-1.07%</td>\n",
       "      <td>0.88569</td>\n",
       "      <td>-1.96%</td>\n",
       "      <td>-1.03103</td>\n",
       "    </tr>\n",
       "    <tr>\n",
       "      <th>2024-01-05</th>\n",
       "      <td>0.40888</td>\n",
       "      <td>5.47521</td>\n",
       "      <td>0.76844</td>\n",
       "      <td>-0.31722</td>\n",
       "      <td>2.53858</td>\n",
       "      <td>-8.78156</td>\n",
       "      <td>2.89612</td>\n",
       "      <td>0.57692</td>\n",
       "      <td>15.62500</td>\n",
       "      <td>-0.77193</td>\n",
       "      <td>...</td>\n",
       "      <td>-0.72%</td>\n",
       "      <td>-1.53353</td>\n",
       "      <td>0.29%</td>\n",
       "      <td>-1.59739</td>\n",
       "      <td>-0.83%</td>\n",
       "      <td>-1.42026</td>\n",
       "      <td>0.64%</td>\n",
       "      <td>-0.43796</td>\n",
       "      <td>0.60%</td>\n",
       "      <td>-1.37213</td>\n",
       "    </tr>\n",
       "    <tr>\n",
       "      <th>2024-01-08</th>\n",
       "      <td>-0.00043</td>\n",
       "      <td>-2.83284</td>\n",
       "      <td>-0.54837</td>\n",
       "      <td>-0.53745</td>\n",
       "      <td>-0.33732</td>\n",
       "      <td>-0.72040</td>\n",
       "      <td>-0.48055</td>\n",
       "      <td>1.12195</td>\n",
       "      <td>-0.44072</td>\n",
       "      <td>-6.61538</td>\n",
       "      <td>...</td>\n",
       "      <td>0.16%</td>\n",
       "      <td>-0.55908</td>\n",
       "      <td>0.10%</td>\n",
       "      <td>0.39232</td>\n",
       "      <td>0.35%</td>\n",
       "      <td>-0.48667</td>\n",
       "      <td>-0.25%</td>\n",
       "      <td>0.38804</td>\n",
       "      <td>1.61%</td>\n",
       "      <td>2.22035</td>\n",
       "    </tr>\n",
       "    <tr>\n",
       "      <th>2024-01-09</th>\n",
       "      <td>-0.40131</td>\n",
       "      <td>-0.21537</td>\n",
       "      <td>-0.49740</td>\n",
       "      <td>-0.15011</td>\n",
       "      <td>-0.91617</td>\n",
       "      <td>-0.13709</td>\n",
       "      <td>-0.91352</td>\n",
       "      <td>-1.02299</td>\n",
       "      <td>-0.77973</td>\n",
       "      <td>-1.00000</td>\n",
       "      <td>...</td>\n",
       "      <td>2.71%</td>\n",
       "      <td>2.87419</td>\n",
       "      <td>1.43%</td>\n",
       "      <td>1.53879</td>\n",
       "      <td>1.05%</td>\n",
       "      <td>1.39941</td>\n",
       "      <td>2.38%</td>\n",
       "      <td>2.12147</td>\n",
       "      <td>0.35%</td>\n",
       "      <td>1.96653</td>\n",
       "    </tr>\n",
       "    <tr>\n",
       "      <th>2024-01-10</th>\n",
       "      <td>-0.08935</td>\n",
       "      <td>0.06406</td>\n",
       "      <td>-0.46632</td>\n",
       "      <td>-1.01801</td>\n",
       "      <td>-0.45283</td>\n",
       "      <td>0.26269</td>\n",
       "      <td>-1.02771</td>\n",
       "      <td>-1.00000</td>\n",
       "      <td>5.38967</td>\n",
       "      <td>-inf</td>\n",
       "      <td>...</td>\n",
       "      <td>NaN</td>\n",
       "      <td>NaN</td>\n",
       "      <td>NaN</td>\n",
       "      <td>NaN</td>\n",
       "      <td>NaN</td>\n",
       "      <td>NaN</td>\n",
       "      <td>NaN</td>\n",
       "      <td>NaN</td>\n",
       "      <td>NaN</td>\n",
       "      <td>NaN</td>\n",
       "    </tr>\n",
       "  </tbody>\n",
       "</table>\n",
       "<p>5 rows × 114 columns</p>\n",
       "</div>"
      ],
      "text/plain": [
       "             retail_1  foreigner_1  institution_1  financial_1  invtrust_1   \n",
       "2024-01-04  143.15205     -5.47440     -105.76569     -6.72867     3.39088  \\\n",
       "2024-01-05    0.40888      5.47521        0.76844     -0.31722     2.53858   \n",
       "2024-01-08   -0.00043     -2.83284       -0.54837     -0.53745    -0.33732   \n",
       "2024-01-09   -0.40131     -0.21537       -0.49740     -0.15011    -0.91617   \n",
       "2024-01-10   -0.08935      0.06406       -0.46632     -1.01801    -0.45283   \n",
       "\n",
       "            pension_1  privequity_1   bank_1  insurance_1  financeetc_1  ...   \n",
       "2024-01-04   -1.56287     -11.75652 -0.63889     -0.84661      -2.54054  ...  \\\n",
       "2024-01-05   -8.78156       2.89612  0.57692     15.62500      -0.77193  ...   \n",
       "2024-01-08   -0.72040      -0.48055  1.12195     -0.44072      -6.61538  ...   \n",
       "2024-01-09   -0.13709      -0.91352 -1.02299     -0.77973      -1.00000  ...   \n",
       "2024-01-10    0.26269      -1.02771 -1.00000      5.38967          -inf  ...   \n",
       "\n",
       "            ixk_cr  ixk_cr_2  ixtr_cr  ixtr_cr_2  ixut_cr  ixut_cr_2  nbi_cr   \n",
       "2024-01-04  -0.82%  -3.34420   -1.88%   -3.03192   -0.59%   -0.48909  -1.07%  \\\n",
       "2024-01-05  -0.72%  -1.53353    0.29%   -1.59739   -0.83%   -1.42026   0.64%   \n",
       "2024-01-08   0.16%  -0.55908    0.10%    0.39232    0.35%   -0.48667  -0.25%   \n",
       "2024-01-09   2.71%   2.87419    1.43%    1.53879    1.05%    1.39941   2.38%   \n",
       "2024-01-10     NaN       NaN      NaN        NaN      NaN        NaN     NaN   \n",
       "\n",
       "            nbi_cr_2  bkx_cr  bkx_cr_2  \n",
       "2024-01-04   0.88569  -1.96%  -1.03103  \n",
       "2024-01-05  -0.43796   0.60%  -1.37213  \n",
       "2024-01-08   0.38804   1.61%   2.22035  \n",
       "2024-01-09   2.12147   0.35%   1.96653  \n",
       "2024-01-10       NaN     NaN       NaN  \n",
       "\n",
       "[5 rows x 114 columns]"
      ]
     },
     "execution_count": 8,
     "metadata": {},
     "output_type": "execute_result"
    }
   ],
   "source": [
    "df_hyunmotor_combine.tail()"
   ]
  },
  {
   "cell_type": "code",
   "execution_count": 9,
   "id": "aeab3342",
   "metadata": {},
   "outputs": [
    {
     "data": {
      "text/plain": [
       "datetime.date(2022, 1, 7)"
      ]
     },
     "execution_count": 9,
     "metadata": {},
     "output_type": "execute_result"
    }
   ],
   "source": [
    "df_hyunmotor_combine.index[0]"
   ]
  },
  {
   "cell_type": "code",
   "execution_count": 10,
   "id": "587ac2cd",
   "metadata": {},
   "outputs": [],
   "source": [
    "col_inv1 = ['retail_1', 'foreigner_1', 'institution_1', 'financial_1', 'invtrust_1', 'pension_1', 'privequity_1', \n",
    "            'bank_1', 'insurance_1', 'financeetc_1', 'corporateetc_1', 'foreigneretc_1']\n",
    "col_inv2 = ['retail_2', 'foreigner_2', 'institution_2', 'financial_2', 'invtrust_2', 'pension_2',\n",
    "            'privequity_2', 'bank_2', 'insurance_2', 'financeetc_2', 'corporateetc_2', 'foreigneretc_2']"
   ]
  },
  {
   "cell_type": "code",
   "execution_count": 11,
   "id": "76ca8389",
   "metadata": {},
   "outputs": [],
   "source": [
    "col_his1 = ['open_1', 'high_1', 'low_1', 'close_1', 'vol_1']\n",
    "col_his2 = ['open_2', 'high_2', 'low_2', 'close_2', 'vol_2']"
   ]
  },
  {
   "cell_type": "code",
   "execution_count": 12,
   "id": "8a6b4bac",
   "metadata": {},
   "outputs": [],
   "source": [
    "col_common1 = [\"dji_cr\", \"dji_f_cr\", \"dxy_cr\", \"ixic_f_cr\", \"bond_kor_10_cr\", \"bond_kor_2_cr\", \"kosdaq_cr\", \"kospi_cr\", \n",
    "         \"krw_cr\", \"ixic_cr\", \"spx_f_cr\", \"sox_cr\", \"spx_cr\", \"bond_usa_10_cr\", \"bond_usa_2_cr\", \"bond_usa_3m_cr\", \n",
    "         \"vix_cr\", \"wti_cr\", \"spsy_cr\", \"spny_cr\", \"spxhc_cr\", \"splrcd_cr\", \"splrci_cr\", \"splrcu_cr\", \"splrcs_cr\",\n",
    "         \"splrct_cr\", \"splrcl_cr\", \"splrcm_cr\", \"ixbk_cr\", \"ixfn_cr\", \"ixid_cr\", \"ixis_cr\", \"ixk_cr\", \"ixtr_cr\",\n",
    "         \"ixut_cr\", \"nbi_cr\", \"bkx_cr\"]\n",
    "col_common2 = [\"dji_cr_2\", \"dji_f_cr_2\", \"dxy_cr_2\", \"ixic_f_cr_2\", \"bond_kor_10_cr_2\", \"bond_kor_2_cr_2\", \"kosdaq_cr_2\", \"kospi_cr_2\",\n",
    "         \"krw_cr_2\", \"ixic_cr_2\", \"spx_f_cr_2\", \"sox_cr_2\", \"spx_cr_2\", \"bond_usa_10_cr_2\", \"bond_usa_2_cr_2\", \"bond_usa_3m_cr_2\",\n",
    "         \"vix_cr_2\", \"wti_cr_2\", \"spsy_cr_2\", \"spny_cr_2\", \"spxhc_cr_2\", \"splrcd_cr_2\", \"splrci_cr_2\", \"splrcu_cr_2\",\n",
    "         \"splrcs_cr_2\", \"splrct_cr_2\", \"splrcl_cr_2\", \"splrcm_cr_2\", \"ixbk_cr_2\", \"ixfn_cr_2\", \"ixid_cr_2\",\n",
    "         \"ixis_cr_2\", \"ixk_cr_2\", \"ixtr_cr_2\", \"ixut_cr_2\", \"nbi_cr_2\", \"bkx_cr_2\"]"
   ]
  },
  {
   "cell_type": "code",
   "execution_count": 13,
   "id": "9a595935",
   "metadata": {},
   "outputs": [],
   "source": [
    "col_cr = ['weekday', 'cr_00', 'cr_05', 'cr_10', 'cr_15', 'cr_20']"
   ]
  },
  {
   "cell_type": "code",
   "execution_count": 14,
   "id": "75ec6070",
   "metadata": {},
   "outputs": [],
   "source": [
    "col_col = col_inv1 + col_common1 + col_his1 + col_inv2 + col_common2 + col_his2 + col_cr"
   ]
  },
  {
   "cell_type": "code",
   "execution_count": 15,
   "id": "ff6769da",
   "metadata": {},
   "outputs": [],
   "source": [
    "# # write common data only\n",
    "# df_temp = df_common.copy()\n",
    "# df_temp = df_temp[col_common1+col_common2]\n",
    "# pkl_common_directory = './data/common_pkl/'\n",
    "# df_temp.to_pickle(pkl_common_directory + 'df_common.pkl')\n",
    "# df_temp.to_csv(pkl_common_directory + 'df_common.csv')"
   ]
  },
  {
   "cell_type": "code",
   "execution_count": 16,
   "id": "c78c8f82",
   "metadata": {},
   "outputs": [],
   "source": [
    "new_columns = col_col"
   ]
  },
  {
   "cell_type": "code",
   "execution_count": 17,
   "id": "02da1256",
   "metadata": {},
   "outputs": [],
   "source": [
    "# column 순서 변경 : weekday, 'cr_00', 'cr_05', 'cr_10', 'cr_15', 'cr_20' column을 마지막으로 이동 \n",
    "for key, val in code.items():\n",
    "    globals()['df_{}_combine'.format(val[1])] = globals()['df_{}_combine'.format(val[1])][new_columns]"
   ]
  },
  {
   "cell_type": "code",
   "execution_count": 18,
   "id": "d4f1fa06",
   "metadata": {},
   "outputs": [
    {
     "data": {
      "text/plain": [
       "'\\n# drop inf, -inf : replace inf to 1 or -1 . 데이터를 살리고\\n# 변동률이 무한대가 되는 것을 방지하기 위해서, 나중에 발생하는 에러를 방지\\ndf_sec_sel.replace([np.inf, -np.inf], [1, -1], inplace=True)\\n\\n.impute 사용하는 것을 고려할 필요 있음.\\n'"
      ]
     },
     "execution_count": 18,
     "metadata": {},
     "output_type": "execute_result"
    }
   ],
   "source": [
    "'''\n",
    "# drop inf, -inf : replace inf to 1 or -1 . 데이터를 살리고\n",
    "# 변동률이 무한대가 되는 것을 방지하기 위해서, 나중에 발생하는 에러를 방지\n",
    "df_sec_sel.replace([np.inf, -np.inf], [1, -1], inplace=True)\n",
    "\n",
    ".impute 사용하는 것을 고려할 필요 있음.\n",
    "'''"
   ]
  },
  {
   "cell_type": "code",
   "execution_count": 19,
   "id": "7e91c1c5",
   "metadata": {},
   "outputs": [],
   "source": [
    "# drop inf, -inf : replace inf to 1 or -1 . 데이터를 살리고\n",
    "# 변동률이 무한대가 되는 것을 방지하기 위해서, 나중에 발생하는 에러를 방지\n",
    "for key, val in code.items():\n",
    "    globals()['df_{}_combine'.format(val[1])].replace([np.inf, -np.inf], [1, -1], inplace=True)\n",
    "\n",
    "# **** 데이터 전처리 from sklearn.impute import SimpleImputer, SimpleImputer 사용하기로 함."
   ]
  },
  {
   "cell_type": "code",
   "execution_count": 20,
   "id": "3fa3914b",
   "metadata": {},
   "outputs": [
    {
     "data": {
      "text/html": [
       "<div>\n",
       "<style scoped>\n",
       "    .dataframe tbody tr th:only-of-type {\n",
       "        vertical-align: middle;\n",
       "    }\n",
       "\n",
       "    .dataframe tbody tr th {\n",
       "        vertical-align: top;\n",
       "    }\n",
       "\n",
       "    .dataframe thead th {\n",
       "        text-align: right;\n",
       "    }\n",
       "</style>\n",
       "<table border=\"1\" class=\"dataframe\">\n",
       "  <thead>\n",
       "    <tr style=\"text-align: right;\">\n",
       "      <th></th>\n",
       "      <th>retail_1</th>\n",
       "      <th>foreigner_1</th>\n",
       "      <th>institution_1</th>\n",
       "      <th>financial_1</th>\n",
       "      <th>invtrust_1</th>\n",
       "      <th>pension_1</th>\n",
       "      <th>privequity_1</th>\n",
       "      <th>bank_1</th>\n",
       "      <th>insurance_1</th>\n",
       "      <th>financeetc_1</th>\n",
       "      <th>...</th>\n",
       "      <th>high_2</th>\n",
       "      <th>low_2</th>\n",
       "      <th>close_2</th>\n",
       "      <th>vol_2</th>\n",
       "      <th>weekday</th>\n",
       "      <th>cr_00</th>\n",
       "      <th>cr_05</th>\n",
       "      <th>cr_10</th>\n",
       "      <th>cr_15</th>\n",
       "      <th>cr_20</th>\n",
       "    </tr>\n",
       "  </thead>\n",
       "  <tbody>\n",
       "    <tr>\n",
       "      <th>2024-01-04</th>\n",
       "      <td>-2.23418</td>\n",
       "      <td>-0.83842</td>\n",
       "      <td>-7.71530</td>\n",
       "      <td>-6.32506</td>\n",
       "      <td>-2.78780</td>\n",
       "      <td>-3.88601</td>\n",
       "      <td>2.33759</td>\n",
       "      <td>-1.01125</td>\n",
       "      <td>-0.61402</td>\n",
       "      <td>0.59329</td>\n",
       "      <td>...</td>\n",
       "      <td>0.00382</td>\n",
       "      <td>-0.00645</td>\n",
       "      <td>-0.01911</td>\n",
       "      <td>0.22228</td>\n",
       "      <td>2</td>\n",
       "      <td>0</td>\n",
       "      <td>0</td>\n",
       "      <td>0</td>\n",
       "      <td>0</td>\n",
       "      <td>0</td>\n",
       "    </tr>\n",
       "    <tr>\n",
       "      <th>2024-01-05</th>\n",
       "      <td>-0.49276</td>\n",
       "      <td>0.64913</td>\n",
       "      <td>-0.36931</td>\n",
       "      <td>-0.43356</td>\n",
       "      <td>-0.50263</td>\n",
       "      <td>-1.16466</td>\n",
       "      <td>-0.56676</td>\n",
       "      <td>-1.57895</td>\n",
       "      <td>-0.75380</td>\n",
       "      <td>-1.06130</td>\n",
       "      <td>...</td>\n",
       "      <td>-0.03133</td>\n",
       "      <td>-0.02685</td>\n",
       "      <td>-0.03769</td>\n",
       "      <td>-0.10607</td>\n",
       "      <td>3</td>\n",
       "      <td>0</td>\n",
       "      <td>0</td>\n",
       "      <td>0</td>\n",
       "      <td>0</td>\n",
       "      <td>0</td>\n",
       "    </tr>\n",
       "    <tr>\n",
       "      <th>2024-01-08</th>\n",
       "      <td>-0.16140</td>\n",
       "      <td>-1.88693</td>\n",
       "      <td>-0.57824</td>\n",
       "      <td>-0.65183</td>\n",
       "      <td>-1.07557</td>\n",
       "      <td>1.98120</td>\n",
       "      <td>-0.10156</td>\n",
       "      <td>-0.18182</td>\n",
       "      <td>-0.69444</td>\n",
       "      <td>2.29851</td>\n",
       "      <td>...</td>\n",
       "      <td>-0.02157</td>\n",
       "      <td>-0.00779</td>\n",
       "      <td>-0.00519</td>\n",
       "      <td>-0.48035</td>\n",
       "      <td>4</td>\n",
       "      <td>0</td>\n",
       "      <td>0</td>\n",
       "      <td>0</td>\n",
       "      <td>0</td>\n",
       "      <td>0</td>\n",
       "    </tr>\n",
       "    <tr>\n",
       "      <th>2024-01-09</th>\n",
       "      <td>-0.54119</td>\n",
       "      <td>-2.07091</td>\n",
       "      <td>0.31857</td>\n",
       "      <td>0.58433</td>\n",
       "      <td>-11.89390</td>\n",
       "      <td>-0.62228</td>\n",
       "      <td>-0.99558</td>\n",
       "      <td>-1.00000</td>\n",
       "      <td>-6.26263</td>\n",
       "      <td>-1.07240</td>\n",
       "      <td>...</td>\n",
       "      <td>0.00259</td>\n",
       "      <td>0.00394</td>\n",
       "      <td>-0.00131</td>\n",
       "      <td>-0.27640</td>\n",
       "      <td>0</td>\n",
       "      <td>0</td>\n",
       "      <td>0</td>\n",
       "      <td>0</td>\n",
       "      <td>0</td>\n",
       "      <td>0</td>\n",
       "    </tr>\n",
       "    <tr>\n",
       "      <th>2024-01-10</th>\n",
       "      <td>2.37467</td>\n",
       "      <td>-3.13447</td>\n",
       "      <td>-0.10267</td>\n",
       "      <td>-1.71100</td>\n",
       "      <td>0.75840</td>\n",
       "      <td>6.84273</td>\n",
       "      <td>2565.05556</td>\n",
       "      <td>1.00000</td>\n",
       "      <td>2.15259</td>\n",
       "      <td>37.18750</td>\n",
       "      <td>...</td>\n",
       "      <td>0.00778</td>\n",
       "      <td>-0.02749</td>\n",
       "      <td>-0.02480</td>\n",
       "      <td>1.29117</td>\n",
       "      <td>1</td>\n",
       "      <td>0</td>\n",
       "      <td>0</td>\n",
       "      <td>0</td>\n",
       "      <td>0</td>\n",
       "      <td>0</td>\n",
       "    </tr>\n",
       "  </tbody>\n",
       "</table>\n",
       "<p>5 rows × 114 columns</p>\n",
       "</div>"
      ],
      "text/plain": [
       "            retail_1  foreigner_1  institution_1  financial_1  invtrust_1   \n",
       "2024-01-04  -2.23418     -0.83842       -7.71530     -6.32506    -2.78780  \\\n",
       "2024-01-05  -0.49276      0.64913       -0.36931     -0.43356    -0.50263   \n",
       "2024-01-08  -0.16140     -1.88693       -0.57824     -0.65183    -1.07557   \n",
       "2024-01-09  -0.54119     -2.07091        0.31857      0.58433   -11.89390   \n",
       "2024-01-10   2.37467     -3.13447       -0.10267     -1.71100     0.75840   \n",
       "\n",
       "            pension_1  privequity_1   bank_1  insurance_1  financeetc_1  ...   \n",
       "2024-01-04   -3.88601       2.33759 -1.01125     -0.61402       0.59329  ...  \\\n",
       "2024-01-05   -1.16466      -0.56676 -1.57895     -0.75380      -1.06130  ...   \n",
       "2024-01-08    1.98120      -0.10156 -0.18182     -0.69444       2.29851  ...   \n",
       "2024-01-09   -0.62228      -0.99558 -1.00000     -6.26263      -1.07240  ...   \n",
       "2024-01-10    6.84273    2565.05556  1.00000      2.15259      37.18750  ...   \n",
       "\n",
       "             high_2    low_2  close_2    vol_2  weekday  cr_00 cr_05 cr_10   \n",
       "2024-01-04  0.00382 -0.00645 -0.01911  0.22228        2      0     0     0  \\\n",
       "2024-01-05 -0.03133 -0.02685 -0.03769 -0.10607        3      0     0     0   \n",
       "2024-01-08 -0.02157 -0.00779 -0.00519 -0.48035        4      0     0     0   \n",
       "2024-01-09  0.00259  0.00394 -0.00131 -0.27640        0      0     0     0   \n",
       "2024-01-10  0.00778 -0.02749 -0.02480  1.29117        1      0     0     0   \n",
       "\n",
       "            cr_15  cr_20  \n",
       "2024-01-04      0      0  \n",
       "2024-01-05      0      0  \n",
       "2024-01-08      0      0  \n",
       "2024-01-09      0      0  \n",
       "2024-01-10      0      0  \n",
       "\n",
       "[5 rows x 114 columns]"
      ]
     },
     "execution_count": 20,
     "metadata": {},
     "output_type": "execute_result"
    }
   ],
   "source": [
    "df_sec_combine.tail()"
   ]
  },
  {
   "cell_type": "code",
   "execution_count": 21,
   "id": "bf7224df",
   "metadata": {},
   "outputs": [],
   "source": [
    "nanlo = locate_nan(df_sec_combine)  # nan 위치 찾기"
   ]
  },
  {
   "cell_type": "code",
   "execution_count": 22,
   "id": "2f63d7f5",
   "metadata": {},
   "outputs": [
    {
     "name": "stdout",
     "output_type": "stream",
     "text": [
      "[[datetime.date(2022, 1, 7) 'dji_cr']\n",
      " [datetime.date(2022, 1, 7) 'dji_f_cr']\n",
      " [datetime.date(2022, 1, 7) 'dxy_cr']\n",
      " ...\n",
      " [datetime.date(2024, 1, 10) 'ixut_cr_2']\n",
      " [datetime.date(2024, 1, 10) 'nbi_cr_2']\n",
      " [datetime.date(2024, 1, 10) 'bkx_cr_2']]\n"
     ]
    }
   ],
   "source": [
    "print(nanlo)"
   ]
  },
  {
   "cell_type": "code",
   "execution_count": 23,
   "id": "21a6d628",
   "metadata": {},
   "outputs": [],
   "source": [
    "# delete rows which include NaN : dji, spx, nasdaq 기타 common 지수중 한개라도 nan인 rows 제거\n",
    "for key, val in code.items():\n",
    "    globals()['df_{}_combine'.format(val[1])].dropna(inplace=True)"
   ]
  },
  {
   "cell_type": "code",
   "execution_count": 24,
   "id": "c6f3061c",
   "metadata": {},
   "outputs": [],
   "source": [
    "# string column을 numeric으로 전환\n",
    "def string_to_num(df):\n",
    "    df.replace('%', '', regex=True, inplace=True)\n",
    "    df = df.apply(pd.to_numeric)\n",
    "    return df\n",
    "\n",
    "for key, val in code.items():\n",
    "    globals()['df_{}_combine'.format(val[1])] = string_to_num(globals()['df_{}_combine'.format(val[1])])"
   ]
  },
  {
   "cell_type": "code",
   "execution_count": 25,
   "id": "7e8d5acf",
   "metadata": {},
   "outputs": [],
   "source": [
    "# pickle로 데이터 저장\n",
    "\n",
    "for key, val in code.items():\n",
    "    globals()[f'df_{val[1]}_combine'].to_pickle(directory_for_predict + f'df_{val[1]}_combine.pkl')\n",
    "    globals()[f'df_{val[1]}_combine'].to_csv(directory_for_predict + f'df_{val[1]}_combine.csv')"
   ]
  },
  {
   "cell_type": "code",
   "execution_count": null,
   "id": "a01825d3",
   "metadata": {},
   "outputs": [],
   "source": []
  },
  {
   "cell_type": "code",
   "execution_count": null,
   "id": "3300e5b2",
   "metadata": {},
   "outputs": [],
   "source": []
  },
  {
   "cell_type": "code",
   "execution_count": null,
   "id": "1ffeab80",
   "metadata": {},
   "outputs": [],
   "source": []
  },
  {
   "cell_type": "code",
   "execution_count": null,
   "id": "a1f7c9d1",
   "metadata": {},
   "outputs": [],
   "source": []
  },
  {
   "cell_type": "code",
   "execution_count": null,
   "id": "bc80b897",
   "metadata": {},
   "outputs": [],
   "source": []
  }
 ],
 "metadata": {
  "kernelspec": {
   "display_name": "Python 3 (ipykernel)",
   "language": "python",
   "name": "python3"
  },
  "language_info": {
   "codemirror_mode": {
    "name": "ipython",
    "version": 3
   },
   "file_extension": ".py",
   "mimetype": "text/x-python",
   "name": "python",
   "nbconvert_exporter": "python",
   "pygments_lexer": "ipython3",
   "version": "3.9.1"
  }
 },
 "nbformat": 4,
 "nbformat_minor": 5
}
