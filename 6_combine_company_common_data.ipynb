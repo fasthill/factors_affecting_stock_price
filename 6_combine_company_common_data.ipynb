{
 "cells": [
  {
   "cell_type": "markdown",
   "id": "459ff0ca",
   "metadata": {},
   "source": [
    "## combine company data and common data"
   ]
  },
  {
   "cell_type": "code",
   "execution_count": 1,
   "id": "d3b5a935",
   "metadata": {},
   "outputs": [],
   "source": [
    "import datetime, time\n",
    "from datetime import date\n",
    "\n",
    "import pandas as pd\n",
    "import numpy as np\n",
    "import os\n",
    "import sys\n",
    "\n",
    "from sklearn.preprocessing import StandardScaler"
   ]
  },
  {
   "cell_type": "code",
   "execution_count": 2,
   "id": "8ef51f99",
   "metadata": {},
   "outputs": [],
   "source": [
    "module_path = os.path.abspath(os.path.join('.')) \n",
    "sys.path.append(module_path+\"\\\\data\\\\constant\")\n",
    "\n",
    "from constants import COMPANY_CODE"
   ]
  },
  {
   "cell_type": "code",
   "execution_count": 3,
   "id": "9ea60572",
   "metadata": {},
   "outputs": [
    {
     "data": {
      "text/plain": [
       "\" \\n[[datetime.date(2022, 1, 17) 'dji_cr']\\n [datetime.date(2022, 1, 17) 'dji_f_cr']\\n ...\\n [datetime.date(2023, 5, 23) 'kosdaq_cr']\\n [datetime.date(2023, 5, 23) 'kosdaq_cr_2']]\\n\""
      ]
     },
     "execution_count": 3,
     "metadata": {},
     "output_type": "execute_result"
    }
   ],
   "source": [
    "def locate_nan(df):\n",
    "    idx, idy = np.where(pd.isnull(df))\n",
    "    result = np.column_stack([df.index[idx], df.columns[idy]])\n",
    "    return result\n",
    "\n",
    "# return format\n",
    "''' \n",
    "[[datetime.date(2022, 1, 17) 'dji_cr']\n",
    " [datetime.date(2022, 1, 17) 'dji_f_cr']\n",
    " ...\n",
    " [datetime.date(2023, 5, 23) 'kosdaq_cr']\n",
    " [datetime.date(2023, 5, 23) 'kosdaq_cr_2']]\n",
    "'''"
   ]
  },
  {
   "cell_type": "code",
   "execution_count": 4,
   "id": "d6f9e0c8",
   "metadata": {},
   "outputs": [],
   "source": [
    "code = COMPANY_CODE\n",
    "\n",
    "# code = {'005930': ['삼성전자', 'sec'], '005380': ['현대차', 'hyunmotor'],\n",
    "#                  '035420': ['NAVER', 'naver'], '033780': ['KT&G', 'ktng']}\n",
    "# code = {'005930': ['삼성전자', 'sec'], '000660': ['SK하이닉스', 'skhynix']}\n",
    "# code = {'302440': ['SK바이오사이언스', 'skbio']}"
   ]
  },
  {
   "cell_type": "code",
   "execution_count": 5,
   "id": "1ced9635",
   "metadata": {},
   "outputs": [],
   "source": [
    "directory_for_predict = './data/data_for_ml/predict/'\n",
    "pkl_common_directory = './data/common_pkl/'\n",
    "pkl_directory = './data/common_pkl/'"
   ]
  },
  {
   "cell_type": "code",
   "execution_count": 6,
   "id": "a4ac3c16",
   "metadata": {},
   "outputs": [],
   "source": [
    "df_common = pd.read_pickle(directory_for_predict + '0_df_common.pkl')"
   ]
  },
  {
   "cell_type": "code",
   "execution_count": 7,
   "id": "82d5ae58",
   "metadata": {},
   "outputs": [],
   "source": [
    "for key, val in code.items():\n",
    "    df_company = pd.read_pickle(directory_for_predict + f'df_{val[1]}_company.pkl')\n",
    "    df_company = df_company.merge(df_common, how='left', left_index=True, right_index=True)\n",
    "    globals()[f'df_{val[1]}_combine'] = df_company.copy()"
   ]
  },
  {
   "cell_type": "code",
   "execution_count": 8,
   "id": "6c798e31",
   "metadata": {},
   "outputs": [
    {
     "data": {
      "text/html": [
       "<div>\n",
       "<style scoped>\n",
       "    .dataframe tbody tr th:only-of-type {\n",
       "        vertical-align: middle;\n",
       "    }\n",
       "\n",
       "    .dataframe tbody tr th {\n",
       "        vertical-align: top;\n",
       "    }\n",
       "\n",
       "    .dataframe thead th {\n",
       "        text-align: right;\n",
       "    }\n",
       "</style>\n",
       "<table border=\"1\" class=\"dataframe\">\n",
       "  <thead>\n",
       "    <tr style=\"text-align: right;\">\n",
       "      <th></th>\n",
       "      <th>retail_1</th>\n",
       "      <th>foreigner_1</th>\n",
       "      <th>institution_1</th>\n",
       "      <th>financial_1</th>\n",
       "      <th>invtrust_1</th>\n",
       "      <th>pension_1</th>\n",
       "      <th>privequity_1</th>\n",
       "      <th>bank_1</th>\n",
       "      <th>insurance_1</th>\n",
       "      <th>financeetc_1</th>\n",
       "      <th>...</th>\n",
       "      <th>ixk_cr</th>\n",
       "      <th>ixk_cr_2</th>\n",
       "      <th>ixtr_cr</th>\n",
       "      <th>ixtr_cr_2</th>\n",
       "      <th>ixut_cr</th>\n",
       "      <th>ixut_cr_2</th>\n",
       "      <th>nbi_cr</th>\n",
       "      <th>nbi_cr_2</th>\n",
       "      <th>bkx_cr</th>\n",
       "      <th>bkx_cr_2</th>\n",
       "    </tr>\n",
       "  </thead>\n",
       "  <tbody>\n",
       "    <tr>\n",
       "      <th>2024-06-24</th>\n",
       "      <td>2.49271</td>\n",
       "      <td>-8.05479</td>\n",
       "      <td>-1.87111</td>\n",
       "      <td>3.15748</td>\n",
       "      <td>-0.52351</td>\n",
       "      <td>-2.45368</td>\n",
       "      <td>-0.43541</td>\n",
       "      <td>0.47619</td>\n",
       "      <td>-6.47569</td>\n",
       "      <td>-1.0</td>\n",
       "      <td>...</td>\n",
       "      <td>-0.64%</td>\n",
       "      <td>-2.07147</td>\n",
       "      <td>-0.18%</td>\n",
       "      <td>-0.07162</td>\n",
       "      <td>1.00%</td>\n",
       "      <td>1.92499</td>\n",
       "      <td>1.47%</td>\n",
       "      <td>2.51196</td>\n",
       "      <td>-0.54%</td>\n",
       "      <td>-0.46875</td>\n",
       "    </tr>\n",
       "    <tr>\n",
       "      <th>2024-06-25</th>\n",
       "      <td>-1.62594</td>\n",
       "      <td>-1.00396</td>\n",
       "      <td>0.23231</td>\n",
       "      <td>0.05191</td>\n",
       "      <td>-2.72856</td>\n",
       "      <td>-2.59490</td>\n",
       "      <td>-6.62348</td>\n",
       "      <td>-1.00000</td>\n",
       "      <td>-1.68358</td>\n",
       "      <td>-1.0</td>\n",
       "      <td>...</td>\n",
       "      <td>-1.71%</td>\n",
       "      <td>-2.33955</td>\n",
       "      <td>0.51%</td>\n",
       "      <td>0.33183</td>\n",
       "      <td>0.08%</td>\n",
       "      <td>1.08183</td>\n",
       "      <td>2.08%</td>\n",
       "      <td>3.57929</td>\n",
       "      <td>1.65%</td>\n",
       "      <td>1.10276</td>\n",
       "    </tr>\n",
       "    <tr>\n",
       "      <th>2024-06-26</th>\n",
       "      <td>3.52101</td>\n",
       "      <td>240.25954</td>\n",
       "      <td>0.82019</td>\n",
       "      <td>-0.07468</td>\n",
       "      <td>-0.22743</td>\n",
       "      <td>-1.17795</td>\n",
       "      <td>-0.18335</td>\n",
       "      <td>-inf</td>\n",
       "      <td>-3.44712</td>\n",
       "      <td>-1.0</td>\n",
       "      <td>...</td>\n",
       "      <td>2.01%</td>\n",
       "      <td>0.25889</td>\n",
       "      <td>-0.36%</td>\n",
       "      <td>0.15062</td>\n",
       "      <td>0.04%</td>\n",
       "      <td>0.12556</td>\n",
       "      <td>-0.21%</td>\n",
       "      <td>1.87128</td>\n",
       "      <td>-1.21%</td>\n",
       "      <td>0.42190</td>\n",
       "    </tr>\n",
       "    <tr>\n",
       "      <th>2024-06-27</th>\n",
       "      <td>-1.00105</td>\n",
       "      <td>-1.21797</td>\n",
       "      <td>-0.91701</td>\n",
       "      <td>-0.89256</td>\n",
       "      <td>-0.35670</td>\n",
       "      <td>-3.27860</td>\n",
       "      <td>-1.01155</td>\n",
       "      <td>-0.18519</td>\n",
       "      <td>-0.39348</td>\n",
       "      <td>inf</td>\n",
       "      <td>...</td>\n",
       "      <td>0.42%</td>\n",
       "      <td>2.43494</td>\n",
       "      <td>-0.19%</td>\n",
       "      <td>-0.54834</td>\n",
       "      <td>-0.50%</td>\n",
       "      <td>-0.46344</td>\n",
       "      <td>-1.43%</td>\n",
       "      <td>-1.63868</td>\n",
       "      <td>-0.32%</td>\n",
       "      <td>-1.52510</td>\n",
       "    </tr>\n",
       "    <tr>\n",
       "      <th>2024-06-28</th>\n",
       "      <td>-1223.09091</td>\n",
       "      <td>-8.93395</td>\n",
       "      <td>9.98354</td>\n",
       "      <td>-9.60732</td>\n",
       "      <td>0.61064</td>\n",
       "      <td>-0.87650</td>\n",
       "      <td>-331.11429</td>\n",
       "      <td>3.68182</td>\n",
       "      <td>-0.94500</td>\n",
       "      <td>-1.0</td>\n",
       "      <td>...</td>\n",
       "      <td>NaN</td>\n",
       "      <td>NaN</td>\n",
       "      <td>NaN</td>\n",
       "      <td>NaN</td>\n",
       "      <td>NaN</td>\n",
       "      <td>NaN</td>\n",
       "      <td>NaN</td>\n",
       "      <td>NaN</td>\n",
       "      <td>NaN</td>\n",
       "      <td>NaN</td>\n",
       "    </tr>\n",
       "  </tbody>\n",
       "</table>\n",
       "<p>5 rows × 114 columns</p>\n",
       "</div>"
      ],
      "text/plain": [
       "              retail_1  foreigner_1  institution_1  financial_1  invtrust_1  \\\n",
       "2024-06-24     2.49271     -8.05479       -1.87111      3.15748    -0.52351   \n",
       "2024-06-25    -1.62594     -1.00396        0.23231      0.05191    -2.72856   \n",
       "2024-06-26     3.52101    240.25954        0.82019     -0.07468    -0.22743   \n",
       "2024-06-27    -1.00105     -1.21797       -0.91701     -0.89256    -0.35670   \n",
       "2024-06-28 -1223.09091     -8.93395        9.98354     -9.60732     0.61064   \n",
       "\n",
       "            pension_1  privequity_1   bank_1  insurance_1  financeetc_1  ...  \\\n",
       "2024-06-24   -2.45368      -0.43541  0.47619     -6.47569          -1.0  ...   \n",
       "2024-06-25   -2.59490      -6.62348 -1.00000     -1.68358          -1.0  ...   \n",
       "2024-06-26   -1.17795      -0.18335     -inf     -3.44712          -1.0  ...   \n",
       "2024-06-27   -3.27860      -1.01155 -0.18519     -0.39348           inf  ...   \n",
       "2024-06-28   -0.87650    -331.11429  3.68182     -0.94500          -1.0  ...   \n",
       "\n",
       "            ixk_cr  ixk_cr_2  ixtr_cr  ixtr_cr_2  ixut_cr  ixut_cr_2  nbi_cr  \\\n",
       "2024-06-24  -0.64%  -2.07147   -0.18%   -0.07162    1.00%    1.92499   1.47%   \n",
       "2024-06-25  -1.71%  -2.33955    0.51%    0.33183    0.08%    1.08183   2.08%   \n",
       "2024-06-26   2.01%   0.25889   -0.36%    0.15062    0.04%    0.12556  -0.21%   \n",
       "2024-06-27   0.42%   2.43494   -0.19%   -0.54834   -0.50%   -0.46344  -1.43%   \n",
       "2024-06-28     NaN       NaN      NaN        NaN      NaN        NaN     NaN   \n",
       "\n",
       "            nbi_cr_2  bkx_cr  bkx_cr_2  \n",
       "2024-06-24   2.51196  -0.54%  -0.46875  \n",
       "2024-06-25   3.57929   1.65%   1.10276  \n",
       "2024-06-26   1.87128  -1.21%   0.42190  \n",
       "2024-06-27  -1.63868  -0.32%  -1.52510  \n",
       "2024-06-28       NaN     NaN       NaN  \n",
       "\n",
       "[5 rows x 114 columns]"
      ]
     },
     "execution_count": 8,
     "metadata": {},
     "output_type": "execute_result"
    }
   ],
   "source": [
    "df_hyunmotor_combine.tail()"
   ]
  },
  {
   "cell_type": "code",
   "execution_count": 9,
   "id": "aeab3342",
   "metadata": {},
   "outputs": [
    {
     "data": {
      "text/plain": [
       "datetime.date(2022, 1, 7)"
      ]
     },
     "execution_count": 9,
     "metadata": {},
     "output_type": "execute_result"
    }
   ],
   "source": [
    "df_hyunmotor_combine.index[0]"
   ]
  },
  {
   "cell_type": "code",
   "execution_count": 10,
   "id": "587ac2cd",
   "metadata": {},
   "outputs": [],
   "source": [
    "col_inv1 = ['retail_1', 'foreigner_1', 'institution_1', 'financial_1', 'invtrust_1', 'pension_1', 'privequity_1', \n",
    "            'bank_1', 'insurance_1', 'financeetc_1', 'corporateetc_1', 'foreigneretc_1']\n",
    "col_inv2 = ['retail_2', 'foreigner_2', 'institution_2', 'financial_2', 'invtrust_2', 'pension_2',\n",
    "            'privequity_2', 'bank_2', 'insurance_2', 'financeetc_2', 'corporateetc_2', 'foreigneretc_2']"
   ]
  },
  {
   "cell_type": "code",
   "execution_count": 11,
   "id": "76ca8389",
   "metadata": {},
   "outputs": [],
   "source": [
    "col_his1 = ['open_1', 'high_1', 'low_1', 'close_1', 'vol_1']\n",
    "col_his2 = ['open_2', 'high_2', 'low_2', 'close_2', 'vol_2']"
   ]
  },
  {
   "cell_type": "code",
   "execution_count": 12,
   "id": "8a6b4bac",
   "metadata": {},
   "outputs": [],
   "source": [
    "col_common1 = [\"dji_cr\", \"dji_f_cr\", \"dxy_cr\", \"ixic_f_cr\", \"bond_kor_10_cr\", \"bond_kor_2_cr\", \"kosdaq_cr\", \"kospi_cr\", \n",
    "         \"krw_cr\", \"ixic_cr\", \"spx_f_cr\", \"sox_cr\", \"spx_cr\", \"bond_usa_10_cr\", \"bond_usa_2_cr\", \"bond_usa_3m_cr\", \n",
    "         \"vix_cr\", \"wti_cr\", \"spsy_cr\", \"spny_cr\", \"spxhc_cr\", \"splrcd_cr\", \"splrci_cr\", \"splrcu_cr\", \"splrcs_cr\",\n",
    "         \"splrct_cr\", \"splrcl_cr\", \"splrcm_cr\", \"ixbk_cr\", \"ixfn_cr\", \"ixid_cr\", \"ixis_cr\", \"ixk_cr\", \"ixtr_cr\",\n",
    "         \"ixut_cr\", \"nbi_cr\", \"bkx_cr\"]\n",
    "col_common2 = [\"dji_cr_2\", \"dji_f_cr_2\", \"dxy_cr_2\", \"ixic_f_cr_2\", \"bond_kor_10_cr_2\", \"bond_kor_2_cr_2\", \"kosdaq_cr_2\", \"kospi_cr_2\",\n",
    "         \"krw_cr_2\", \"ixic_cr_2\", \"spx_f_cr_2\", \"sox_cr_2\", \"spx_cr_2\", \"bond_usa_10_cr_2\", \"bond_usa_2_cr_2\", \"bond_usa_3m_cr_2\",\n",
    "         \"vix_cr_2\", \"wti_cr_2\", \"spsy_cr_2\", \"spny_cr_2\", \"spxhc_cr_2\", \"splrcd_cr_2\", \"splrci_cr_2\", \"splrcu_cr_2\",\n",
    "         \"splrcs_cr_2\", \"splrct_cr_2\", \"splrcl_cr_2\", \"splrcm_cr_2\", \"ixbk_cr_2\", \"ixfn_cr_2\", \"ixid_cr_2\",\n",
    "         \"ixis_cr_2\", \"ixk_cr_2\", \"ixtr_cr_2\", \"ixut_cr_2\", \"nbi_cr_2\", \"bkx_cr_2\"]"
   ]
  },
  {
   "cell_type": "code",
   "execution_count": 13,
   "id": "9a595935",
   "metadata": {},
   "outputs": [],
   "source": [
    "col_cr = ['weekday', 'cr_00', 'cr_05', 'cr_10', 'cr_15', 'cr_20']"
   ]
  },
  {
   "cell_type": "code",
   "execution_count": 14,
   "id": "75ec6070",
   "metadata": {},
   "outputs": [],
   "source": [
    "col_col = col_inv1 + col_common1 + col_his1 + col_inv2 + col_common2 + col_his2 + col_cr"
   ]
  },
  {
   "cell_type": "code",
   "execution_count": 15,
   "id": "ff6769da",
   "metadata": {},
   "outputs": [],
   "source": [
    "# # write common data only\n",
    "# df_temp = df_common.copy()\n",
    "# df_temp = df_temp[col_common1+col_common2]\n",
    "# pkl_common_directory = './data/common_pkl/'\n",
    "# df_temp.to_pickle(pkl_common_directory + 'df_common.pkl')\n",
    "# df_temp.to_csv(pkl_common_directory + 'df_common.csv')"
   ]
  },
  {
   "cell_type": "code",
   "execution_count": 16,
   "id": "c78c8f82",
   "metadata": {},
   "outputs": [],
   "source": [
    "new_columns = col_col"
   ]
  },
  {
   "cell_type": "code",
   "execution_count": 17,
   "id": "02da1256",
   "metadata": {},
   "outputs": [],
   "source": [
    "# column 순서 변경 : weekday, 'cr_00', 'cr_05', 'cr_10', 'cr_15', 'cr_20' column을 마지막으로 이동 \n",
    "for key, val in code.items():\n",
    "    globals()['df_{}_combine'.format(val[1])] = globals()['df_{}_combine'.format(val[1])][new_columns]"
   ]
  },
  {
   "cell_type": "code",
   "execution_count": 18,
   "id": "d4f1fa06",
   "metadata": {},
   "outputs": [
    {
     "data": {
      "text/plain": [
       "'\\n# drop inf, -inf : replace inf to 1 or -1 . 데이터를 살리고\\n# 변동률이 무한대가 되는 것을 방지하기 위해서, 나중에 발생하는 에러를 방지\\ndf_sec_sel.replace([np.inf, -np.inf], [1, -1], inplace=True)\\n\\n.impute 사용하는 것을 고려할 필요 있음.\\n'"
      ]
     },
     "execution_count": 18,
     "metadata": {},
     "output_type": "execute_result"
    }
   ],
   "source": [
    "'''\n",
    "# drop inf, -inf : replace inf to 1 or -1 . 데이터를 살리고\n",
    "# 변동률이 무한대가 되는 것을 방지하기 위해서, 나중에 발생하는 에러를 방지\n",
    "df_sec_sel.replace([np.inf, -np.inf], [1, -1], inplace=True)\n",
    "\n",
    ".impute 사용하는 것을 고려할 필요 있음.\n",
    "'''"
   ]
  },
  {
   "cell_type": "code",
   "execution_count": 19,
   "id": "7e91c1c5",
   "metadata": {},
   "outputs": [],
   "source": [
    "# drop inf, -inf : replace inf to 1 or -1 . 데이터를 살리고\n",
    "# 변동률이 무한대가 되는 것을 방지하기 위해서, 나중에 발생하는 에러를 방지\n",
    "for key, val in code.items():\n",
    "    globals()['df_{}_combine'.format(val[1])].replace([np.inf, -np.inf], [1, -1], inplace=True)\n",
    "\n",
    "# **** 데이터 전처리 from sklearn.impute import SimpleImputer, SimpleImputer 사용하기로 함."
   ]
  },
  {
   "cell_type": "code",
   "execution_count": 20,
   "id": "3fa3914b",
   "metadata": {},
   "outputs": [
    {
     "data": {
      "text/html": [
       "<div>\n",
       "<style scoped>\n",
       "    .dataframe tbody tr th:only-of-type {\n",
       "        vertical-align: middle;\n",
       "    }\n",
       "\n",
       "    .dataframe tbody tr th {\n",
       "        vertical-align: top;\n",
       "    }\n",
       "\n",
       "    .dataframe thead th {\n",
       "        text-align: right;\n",
       "    }\n",
       "</style>\n",
       "<table border=\"1\" class=\"dataframe\">\n",
       "  <thead>\n",
       "    <tr style=\"text-align: right;\">\n",
       "      <th></th>\n",
       "      <th>retail_1</th>\n",
       "      <th>foreigner_1</th>\n",
       "      <th>institution_1</th>\n",
       "      <th>financial_1</th>\n",
       "      <th>invtrust_1</th>\n",
       "      <th>pension_1</th>\n",
       "      <th>privequity_1</th>\n",
       "      <th>bank_1</th>\n",
       "      <th>insurance_1</th>\n",
       "      <th>financeetc_1</th>\n",
       "      <th>...</th>\n",
       "      <th>high_2</th>\n",
       "      <th>low_2</th>\n",
       "      <th>close_2</th>\n",
       "      <th>vol_2</th>\n",
       "      <th>weekday</th>\n",
       "      <th>cr_00</th>\n",
       "      <th>cr_05</th>\n",
       "      <th>cr_10</th>\n",
       "      <th>cr_15</th>\n",
       "      <th>cr_20</th>\n",
       "    </tr>\n",
       "  </thead>\n",
       "  <tbody>\n",
       "    <tr>\n",
       "      <th>2024-06-24</th>\n",
       "      <td>-1.41073</td>\n",
       "      <td>-1.37582</td>\n",
       "      <td>-1.19794</td>\n",
       "      <td>-0.94939</td>\n",
       "      <td>-0.24740</td>\n",
       "      <td>-1.43908</td>\n",
       "      <td>-4.76967</td>\n",
       "      <td>-1.64991</td>\n",
       "      <td>-1.42171</td>\n",
       "      <td>31.11905</td>\n",
       "      <td>...</td>\n",
       "      <td>-0.02061</td>\n",
       "      <td>-0.00621</td>\n",
       "      <td>-0.01478</td>\n",
       "      <td>-0.25907</td>\n",
       "      <td>4</td>\n",
       "      <td>1</td>\n",
       "      <td>1</td>\n",
       "      <td>0</td>\n",
       "      <td>0</td>\n",
       "      <td>0</td>\n",
       "    </tr>\n",
       "    <tr>\n",
       "      <th>2024-06-25</th>\n",
       "      <td>-1.33658</td>\n",
       "      <td>-1.17093</td>\n",
       "      <td>-1.73219</td>\n",
       "      <td>8.34725</td>\n",
       "      <td>-0.54587</td>\n",
       "      <td>0.73155</td>\n",
       "      <td>-0.91442</td>\n",
       "      <td>-0.86819</td>\n",
       "      <td>11.83974</td>\n",
       "      <td>-0.64863</td>\n",
       "      <td>...</td>\n",
       "      <td>-0.01582</td>\n",
       "      <td>-0.02094</td>\n",
       "      <td>-0.01225</td>\n",
       "      <td>-0.23829</td>\n",
       "      <td>0</td>\n",
       "      <td>1</td>\n",
       "      <td>0</td>\n",
       "      <td>0</td>\n",
       "      <td>0</td>\n",
       "      <td>0</td>\n",
       "    </tr>\n",
       "    <tr>\n",
       "      <th>2024-06-26</th>\n",
       "      <td>2.03774</td>\n",
       "      <td>9.82470</td>\n",
       "      <td>-2.64995</td>\n",
       "      <td>-1.12142</td>\n",
       "      <td>-0.27585</td>\n",
       "      <td>0.26513</td>\n",
       "      <td>2.59202</td>\n",
       "      <td>-0.97826</td>\n",
       "      <td>-1.04546</td>\n",
       "      <td>-0.71624</td>\n",
       "      <td>...</td>\n",
       "      <td>0.01238</td>\n",
       "      <td>0.00125</td>\n",
       "      <td>0.01000</td>\n",
       "      <td>0.06595</td>\n",
       "      <td>1</td>\n",
       "      <td>1</td>\n",
       "      <td>1</td>\n",
       "      <td>0</td>\n",
       "      <td>0</td>\n",
       "      <td>0</td>\n",
       "    </tr>\n",
       "    <tr>\n",
       "      <th>2024-06-27</th>\n",
       "      <td>-0.75062</td>\n",
       "      <td>-0.54233</td>\n",
       "      <td>0.63739</td>\n",
       "      <td>3.97745</td>\n",
       "      <td>-1.67634</td>\n",
       "      <td>-0.64015</td>\n",
       "      <td>2.30185</td>\n",
       "      <td>-1102.00000</td>\n",
       "      <td>-4.38137</td>\n",
       "      <td>-5.34201</td>\n",
       "      <td>...</td>\n",
       "      <td>0.00618</td>\n",
       "      <td>0.00503</td>\n",
       "      <td>0.00868</td>\n",
       "      <td>0.15070</td>\n",
       "      <td>2</td>\n",
       "      <td>1</td>\n",
       "      <td>0</td>\n",
       "      <td>0</td>\n",
       "      <td>0</td>\n",
       "      <td>0</td>\n",
       "    </tr>\n",
       "    <tr>\n",
       "      <th>2024-06-28</th>\n",
       "      <td>1.54442</td>\n",
       "      <td>2.75313</td>\n",
       "      <td>3.44980</td>\n",
       "      <td>4.95845</td>\n",
       "      <td>-3.97506</td>\n",
       "      <td>0.36974</td>\n",
       "      <td>0.23980</td>\n",
       "      <td>-0.98365</td>\n",
       "      <td>1.66458</td>\n",
       "      <td>-0.94606</td>\n",
       "      <td>...</td>\n",
       "      <td>-0.00244</td>\n",
       "      <td>0.00499</td>\n",
       "      <td>0.00990</td>\n",
       "      <td>-0.38895</td>\n",
       "      <td>3</td>\n",
       "      <td>0</td>\n",
       "      <td>0</td>\n",
       "      <td>0</td>\n",
       "      <td>0</td>\n",
       "      <td>0</td>\n",
       "    </tr>\n",
       "  </tbody>\n",
       "</table>\n",
       "<p>5 rows × 114 columns</p>\n",
       "</div>"
      ],
      "text/plain": [
       "            retail_1  foreigner_1  institution_1  financial_1  invtrust_1  \\\n",
       "2024-06-24  -1.41073     -1.37582       -1.19794     -0.94939    -0.24740   \n",
       "2024-06-25  -1.33658     -1.17093       -1.73219      8.34725    -0.54587   \n",
       "2024-06-26   2.03774      9.82470       -2.64995     -1.12142    -0.27585   \n",
       "2024-06-27  -0.75062     -0.54233        0.63739      3.97745    -1.67634   \n",
       "2024-06-28   1.54442      2.75313        3.44980      4.95845    -3.97506   \n",
       "\n",
       "            pension_1  privequity_1      bank_1  insurance_1  financeetc_1  \\\n",
       "2024-06-24   -1.43908      -4.76967    -1.64991     -1.42171      31.11905   \n",
       "2024-06-25    0.73155      -0.91442    -0.86819     11.83974      -0.64863   \n",
       "2024-06-26    0.26513       2.59202    -0.97826     -1.04546      -0.71624   \n",
       "2024-06-27   -0.64015       2.30185 -1102.00000     -4.38137      -5.34201   \n",
       "2024-06-28    0.36974       0.23980    -0.98365      1.66458      -0.94606   \n",
       "\n",
       "            ...   high_2    low_2  close_2    vol_2  weekday  cr_00 cr_05  \\\n",
       "2024-06-24  ... -0.02061 -0.00621 -0.01478 -0.25907        4      1     1   \n",
       "2024-06-25  ... -0.01582 -0.02094 -0.01225 -0.23829        0      1     0   \n",
       "2024-06-26  ...  0.01238  0.00125  0.01000  0.06595        1      1     1   \n",
       "2024-06-27  ...  0.00618  0.00503  0.00868  0.15070        2      1     0   \n",
       "2024-06-28  ... -0.00244  0.00499  0.00990 -0.38895        3      0     0   \n",
       "\n",
       "           cr_10  cr_15  cr_20  \n",
       "2024-06-24     0      0      0  \n",
       "2024-06-25     0      0      0  \n",
       "2024-06-26     0      0      0  \n",
       "2024-06-27     0      0      0  \n",
       "2024-06-28     0      0      0  \n",
       "\n",
       "[5 rows x 114 columns]"
      ]
     },
     "execution_count": 20,
     "metadata": {},
     "output_type": "execute_result"
    }
   ],
   "source": [
    "df_sec_combine.tail()"
   ]
  },
  {
   "cell_type": "code",
   "execution_count": 21,
   "id": "bf7224df",
   "metadata": {},
   "outputs": [],
   "source": [
    "nanlo = locate_nan(df_sec_combine)  # nan 위치 찾기"
   ]
  },
  {
   "cell_type": "code",
   "execution_count": 22,
   "id": "2f63d7f5",
   "metadata": {},
   "outputs": [
    {
     "name": "stdout",
     "output_type": "stream",
     "text": [
      "[[datetime.date(2022, 1, 18) 'dji_cr']\n",
      " [datetime.date(2022, 1, 18) 'dji_f_cr']\n",
      " [datetime.date(2022, 1, 18) 'dxy_cr']\n",
      " ...\n",
      " [datetime.date(2024, 6, 28) 'ixut_cr_2']\n",
      " [datetime.date(2024, 6, 28) 'nbi_cr_2']\n",
      " [datetime.date(2024, 6, 28) 'bkx_cr_2']]\n"
     ]
    }
   ],
   "source": [
    "print(nanlo)"
   ]
  },
  {
   "cell_type": "code",
   "execution_count": 23,
   "id": "21a6d628",
   "metadata": {},
   "outputs": [],
   "source": [
    "# delete rows which include NaN : dji, spx, nasdaq 기타 common 지수중 한개라도 nan인 rows 제거\n",
    "for key, val in code.items():\n",
    "    globals()['df_{}_combine'.format(val[1])].dropna(inplace=True)"
   ]
  },
  {
   "cell_type": "code",
   "execution_count": 24,
   "id": "c6f3061c",
   "metadata": {},
   "outputs": [],
   "source": [
    "# string column을 numeric으로 전환\n",
    "def string_to_num(df):\n",
    "    df.replace('%', '', regex=True, inplace=True)\n",
    "    df = df.apply(pd.to_numeric)\n",
    "    return df\n",
    "\n",
    "for key, val in code.items():\n",
    "    globals()['df_{}_combine'.format(val[1])] = string_to_num(globals()['df_{}_combine'.format(val[1])])"
   ]
  },
  {
   "cell_type": "code",
   "execution_count": 25,
   "id": "7e8d5acf",
   "metadata": {},
   "outputs": [],
   "source": [
    "# pickle로 데이터 저장\n",
    "\n",
    "for key, val in code.items():\n",
    "    globals()[f'df_{val[1]}_combine'].to_pickle(directory_for_predict + f'df_{val[1]}_combine.pkl')\n",
    "    globals()[f'df_{val[1]}_combine'].to_csv(directory_for_predict + f'df_{val[1]}_combine.csv')"
   ]
  },
  {
   "cell_type": "code",
   "execution_count": null,
   "id": "a01825d3",
   "metadata": {},
   "outputs": [],
   "source": []
  },
  {
   "cell_type": "code",
   "execution_count": null,
   "id": "3300e5b2",
   "metadata": {},
   "outputs": [],
   "source": []
  },
  {
   "cell_type": "code",
   "execution_count": null,
   "id": "1ffeab80",
   "metadata": {},
   "outputs": [],
   "source": []
  },
  {
   "cell_type": "code",
   "execution_count": null,
   "id": "a1f7c9d1",
   "metadata": {},
   "outputs": [],
   "source": []
  },
  {
   "cell_type": "code",
   "execution_count": null,
   "id": "bc80b897",
   "metadata": {},
   "outputs": [],
   "source": []
  }
 ],
 "metadata": {
  "kernelspec": {
   "display_name": "Python 3 (ipykernel)",
   "language": "python",
   "name": "python3"
  },
  "language_info": {
   "codemirror_mode": {
    "name": "ipython",
    "version": 3
   },
   "file_extension": ".py",
   "mimetype": "text/x-python",
   "name": "python",
   "nbconvert_exporter": "python",
   "pygments_lexer": "ipython3",
   "version": "3.12.2"
  }
 },
 "nbformat": 4,
 "nbformat_minor": 5
}
