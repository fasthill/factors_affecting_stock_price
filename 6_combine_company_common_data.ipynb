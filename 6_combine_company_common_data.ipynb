{
 "cells": [
  {
   "cell_type": "markdown",
   "id": "459ff0ca",
   "metadata": {},
   "source": [
    "## combine company data and common data"
   ]
  },
  {
   "cell_type": "code",
   "execution_count": 1,
   "id": "d3b5a935",
   "metadata": {},
   "outputs": [],
   "source": [
    "import datetime, time\n",
    "from datetime import date\n",
    "\n",
    "import pandas as pd\n",
    "import numpy as np\n",
    "import os\n",
    "import sys\n",
    "\n",
    "from sklearn.preprocessing import StandardScaler"
   ]
  },
  {
   "cell_type": "code",
   "execution_count": 2,
   "id": "8ef51f99",
   "metadata": {},
   "outputs": [],
   "source": [
    "module_path = os.path.abspath(os.path.join('.')) \n",
    "sys.path.append(module_path+\"\\\\data\\\\constant\")\n",
    "\n",
    "from constants import COMPANY_CODE"
   ]
  },
  {
   "cell_type": "code",
   "execution_count": 3,
   "id": "9ea60572",
   "metadata": {},
   "outputs": [
    {
     "data": {
      "text/plain": [
       "\" \\n[[datetime.date(2022, 1, 17) 'dji_cr']\\n [datetime.date(2022, 1, 17) 'dji_f_cr']\\n ...\\n [datetime.date(2023, 5, 23) 'kosdaq_cr']\\n [datetime.date(2023, 5, 23) 'kosdaq_cr_2']]\\n\""
      ]
     },
     "execution_count": 3,
     "metadata": {},
     "output_type": "execute_result"
    }
   ],
   "source": [
    "def locate_nan(df):\n",
    "    idx, idy = np.where(pd.isnull(df))\n",
    "    result = np.column_stack([df.index[idx], df.columns[idy]])\n",
    "    return result\n",
    "\n",
    "# return format\n",
    "''' \n",
    "[[datetime.date(2022, 1, 17) 'dji_cr']\n",
    " [datetime.date(2022, 1, 17) 'dji_f_cr']\n",
    " ...\n",
    " [datetime.date(2023, 5, 23) 'kosdaq_cr']\n",
    " [datetime.date(2023, 5, 23) 'kosdaq_cr_2']]\n",
    "'''"
   ]
  },
  {
   "cell_type": "code",
   "execution_count": 4,
   "id": "d6f9e0c8",
   "metadata": {},
   "outputs": [],
   "source": [
    "code = COMPANY_CODE\n",
    "\n",
    "# code = {'005930': ['삼성전자', 'sec'], '005380': ['현대차', 'hyunmotor'],\n",
    "#                  '035420': ['NAVER', 'naver'], '033780': ['KT&G', 'ktng']}\n",
    "# code = {'005930': ['삼성전자', 'sec'], '000660': ['SK하이닉스', 'skhynix']}\n",
    "# code = {'302440': ['SK바이오사이언스', 'skbio']}"
   ]
  },
  {
   "cell_type": "code",
   "execution_count": 5,
   "id": "1ced9635",
   "metadata": {},
   "outputs": [],
   "source": [
    "directory_for_predict = './data/data_for_ml/predict/'\n",
    "pkl_common_directory = './data/common_pkl/'\n",
    "pkl_directory = './data/common_pkl/'"
   ]
  },
  {
   "cell_type": "code",
   "execution_count": 6,
   "id": "a4ac3c16",
   "metadata": {},
   "outputs": [],
   "source": [
    "df_common = pd.read_pickle(directory_for_predict + '0_df_common.pkl')"
   ]
  },
  {
   "cell_type": "code",
   "execution_count": 7,
   "id": "82d5ae58",
   "metadata": {},
   "outputs": [],
   "source": [
    "for key, val in code.items():\n",
    "    df_company = pd.read_pickle(directory_for_predict + f'df_{val[1]}_company.pkl')\n",
    "    df_company = df_company.merge(df_common, how='left', left_index=True, right_index=True)\n",
    "    globals()[f'df_{val[1]}_combine'] = df_company.copy()"
   ]
  },
  {
   "cell_type": "code",
   "execution_count": 8,
   "id": "6c798e31",
   "metadata": {},
   "outputs": [
    {
     "data": {
      "text/html": [
       "<div>\n",
       "<style scoped>\n",
       "    .dataframe tbody tr th:only-of-type {\n",
       "        vertical-align: middle;\n",
       "    }\n",
       "\n",
       "    .dataframe tbody tr th {\n",
       "        vertical-align: top;\n",
       "    }\n",
       "\n",
       "    .dataframe thead th {\n",
       "        text-align: right;\n",
       "    }\n",
       "</style>\n",
       "<table border=\"1\" class=\"dataframe\">\n",
       "  <thead>\n",
       "    <tr style=\"text-align: right;\">\n",
       "      <th></th>\n",
       "      <th>retail_1</th>\n",
       "      <th>foreigner_1</th>\n",
       "      <th>institution_1</th>\n",
       "      <th>financial_1</th>\n",
       "      <th>invtrust_1</th>\n",
       "      <th>pension_1</th>\n",
       "      <th>privequity_1</th>\n",
       "      <th>bank_1</th>\n",
       "      <th>insurance_1</th>\n",
       "      <th>financeetc_1</th>\n",
       "      <th>...</th>\n",
       "      <th>ixk_cr</th>\n",
       "      <th>ixk_cr_2</th>\n",
       "      <th>ixtr_cr</th>\n",
       "      <th>ixtr_cr_2</th>\n",
       "      <th>ixut_cr</th>\n",
       "      <th>ixut_cr_2</th>\n",
       "      <th>nbi_cr</th>\n",
       "      <th>nbi_cr_2</th>\n",
       "      <th>bkx_cr</th>\n",
       "      <th>bkx_cr_2</th>\n",
       "    </tr>\n",
       "  </thead>\n",
       "  <tbody>\n",
       "    <tr>\n",
       "      <th>2024-02-26</th>\n",
       "      <td>-0.59390</td>\n",
       "      <td>-0.64920</td>\n",
       "      <td>-0.51553</td>\n",
       "      <td>0.19041</td>\n",
       "      <td>-1.11257</td>\n",
       "      <td>0.21488</td>\n",
       "      <td>-46.51020</td>\n",
       "      <td>-59.00000</td>\n",
       "      <td>-4.90566</td>\n",
       "      <td>-14.00000</td>\n",
       "      <td>...</td>\n",
       "      <td>-0.39%</td>\n",
       "      <td>3.65911</td>\n",
       "      <td>0.67%</td>\n",
       "      <td>2.64155</td>\n",
       "      <td>0.22%</td>\n",
       "      <td>0.63026</td>\n",
       "      <td>0.78%</td>\n",
       "      <td>2.16034</td>\n",
       "      <td>0.41%</td>\n",
       "      <td>0.79898</td>\n",
       "    </tr>\n",
       "    <tr>\n",
       "      <th>2024-02-27</th>\n",
       "      <td>-0.02594</td>\n",
       "      <td>1.74807</td>\n",
       "      <td>-2.00639</td>\n",
       "      <td>-0.86262</td>\n",
       "      <td>15.38686</td>\n",
       "      <td>-1.31768</td>\n",
       "      <td>-0.60852</td>\n",
       "      <td>8.25862</td>\n",
       "      <td>-0.35205</td>\n",
       "      <td>-0.90974</td>\n",
       "      <td>...</td>\n",
       "      <td>-0.44%</td>\n",
       "      <td>-0.83735</td>\n",
       "      <td>0.07%</td>\n",
       "      <td>0.73975</td>\n",
       "      <td>-0.18%</td>\n",
       "      <td>0.03781</td>\n",
       "      <td>0.85%</td>\n",
       "      <td>1.62972</td>\n",
       "      <td>-0.89%</td>\n",
       "      <td>-0.48172</td>\n",
       "    </tr>\n",
       "    <tr>\n",
       "      <th>2024-02-28</th>\n",
       "      <td>1.93775</td>\n",
       "      <td>-0.07417</td>\n",
       "      <td>-4.61784</td>\n",
       "      <td>-0.28034</td>\n",
       "      <td>-0.95501</td>\n",
       "      <td>-3.52394</td>\n",
       "      <td>-9.13593</td>\n",
       "      <td>-4.71322</td>\n",
       "      <td>-1.26561</td>\n",
       "      <td>-0.50000</td>\n",
       "      <td>...</td>\n",
       "      <td>0.27%</td>\n",
       "      <td>-0.17592</td>\n",
       "      <td>-0.32%</td>\n",
       "      <td>-0.24873</td>\n",
       "      <td>0.18%</td>\n",
       "      <td>-0.00252</td>\n",
       "      <td>1.36%</td>\n",
       "      <td>2.22043</td>\n",
       "      <td>1.14%</td>\n",
       "      <td>0.23989</td>\n",
       "    </tr>\n",
       "    <tr>\n",
       "      <th>2024-02-29</th>\n",
       "      <td>0.46026</td>\n",
       "      <td>0.38723</td>\n",
       "      <td>0.51661</td>\n",
       "      <td>37.30448</td>\n",
       "      <td>-7.01980</td>\n",
       "      <td>-0.26450</td>\n",
       "      <td>-0.60090</td>\n",
       "      <td>-1.13240</td>\n",
       "      <td>6.33684</td>\n",
       "      <td>0.47727</td>\n",
       "      <td>...</td>\n",
       "      <td>-0.79%</td>\n",
       "      <td>-0.52102</td>\n",
       "      <td>-0.77%</td>\n",
       "      <td>-1.08599</td>\n",
       "      <td>-0.55%</td>\n",
       "      <td>-0.37544</td>\n",
       "      <td>-1.48%</td>\n",
       "      <td>-0.14044</td>\n",
       "      <td>-0.21%</td>\n",
       "      <td>0.92603</td>\n",
       "    </tr>\n",
       "    <tr>\n",
       "      <th>2024-03-01</th>\n",
       "      <td>-0.39128</td>\n",
       "      <td>-0.32279</td>\n",
       "      <td>-0.35248</td>\n",
       "      <td>-0.98118</td>\n",
       "      <td>1.63487</td>\n",
       "      <td>0.89667</td>\n",
       "      <td>0.48013</td>\n",
       "      <td>-0.82955</td>\n",
       "      <td>-0.18030</td>\n",
       "      <td>1.01538</td>\n",
       "      <td>...</td>\n",
       "      <td>NaN</td>\n",
       "      <td>NaN</td>\n",
       "      <td>NaN</td>\n",
       "      <td>NaN</td>\n",
       "      <td>NaN</td>\n",
       "      <td>NaN</td>\n",
       "      <td>NaN</td>\n",
       "      <td>NaN</td>\n",
       "      <td>NaN</td>\n",
       "      <td>NaN</td>\n",
       "    </tr>\n",
       "  </tbody>\n",
       "</table>\n",
       "<p>5 rows × 114 columns</p>\n",
       "</div>"
      ],
      "text/plain": [
       "            retail_1  foreigner_1  institution_1  financial_1  invtrust_1  \\\n",
       "2024-02-26  -0.59390     -0.64920       -0.51553      0.19041    -1.11257   \n",
       "2024-02-27  -0.02594      1.74807       -2.00639     -0.86262    15.38686   \n",
       "2024-02-28   1.93775     -0.07417       -4.61784     -0.28034    -0.95501   \n",
       "2024-02-29   0.46026      0.38723        0.51661     37.30448    -7.01980   \n",
       "2024-03-01  -0.39128     -0.32279       -0.35248     -0.98118     1.63487   \n",
       "\n",
       "            pension_1  privequity_1    bank_1  insurance_1  financeetc_1  ...  \\\n",
       "2024-02-26    0.21488     -46.51020 -59.00000     -4.90566     -14.00000  ...   \n",
       "2024-02-27   -1.31768      -0.60852   8.25862     -0.35205      -0.90974  ...   \n",
       "2024-02-28   -3.52394      -9.13593  -4.71322     -1.26561      -0.50000  ...   \n",
       "2024-02-29   -0.26450      -0.60090  -1.13240      6.33684       0.47727  ...   \n",
       "2024-03-01    0.89667       0.48013  -0.82955     -0.18030       1.01538  ...   \n",
       "\n",
       "            ixk_cr  ixk_cr_2  ixtr_cr  ixtr_cr_2  ixut_cr  ixut_cr_2  nbi_cr  \\\n",
       "2024-02-26  -0.39%   3.65911    0.67%    2.64155    0.22%    0.63026   0.78%   \n",
       "2024-02-27  -0.44%  -0.83735    0.07%    0.73975   -0.18%    0.03781   0.85%   \n",
       "2024-02-28   0.27%  -0.17592   -0.32%   -0.24873    0.18%   -0.00252   1.36%   \n",
       "2024-02-29  -0.79%  -0.52102   -0.77%   -1.08599   -0.55%   -0.37544  -1.48%   \n",
       "2024-03-01     NaN       NaN      NaN        NaN      NaN        NaN     NaN   \n",
       "\n",
       "            nbi_cr_2  bkx_cr  bkx_cr_2  \n",
       "2024-02-26   2.16034   0.41%   0.79898  \n",
       "2024-02-27   1.62972  -0.89%  -0.48172  \n",
       "2024-02-28   2.22043   1.14%   0.23989  \n",
       "2024-02-29  -0.14044  -0.21%   0.92603  \n",
       "2024-03-01       NaN     NaN       NaN  \n",
       "\n",
       "[5 rows x 114 columns]"
      ]
     },
     "execution_count": 8,
     "metadata": {},
     "output_type": "execute_result"
    }
   ],
   "source": [
    "df_hyunmotor_combine.tail()"
   ]
  },
  {
   "cell_type": "code",
   "execution_count": 9,
   "id": "aeab3342",
   "metadata": {},
   "outputs": [
    {
     "data": {
      "text/plain": [
       "datetime.date(2022, 1, 7)"
      ]
     },
     "execution_count": 9,
     "metadata": {},
     "output_type": "execute_result"
    }
   ],
   "source": [
    "df_hyunmotor_combine.index[0]"
   ]
  },
  {
   "cell_type": "code",
   "execution_count": 10,
   "id": "587ac2cd",
   "metadata": {},
   "outputs": [],
   "source": [
    "col_inv1 = ['retail_1', 'foreigner_1', 'institution_1', 'financial_1', 'invtrust_1', 'pension_1', 'privequity_1', \n",
    "            'bank_1', 'insurance_1', 'financeetc_1', 'corporateetc_1', 'foreigneretc_1']\n",
    "col_inv2 = ['retail_2', 'foreigner_2', 'institution_2', 'financial_2', 'invtrust_2', 'pension_2',\n",
    "            'privequity_2', 'bank_2', 'insurance_2', 'financeetc_2', 'corporateetc_2', 'foreigneretc_2']"
   ]
  },
  {
   "cell_type": "code",
   "execution_count": 11,
   "id": "76ca8389",
   "metadata": {},
   "outputs": [],
   "source": [
    "col_his1 = ['open_1', 'high_1', 'low_1', 'close_1', 'vol_1']\n",
    "col_his2 = ['open_2', 'high_2', 'low_2', 'close_2', 'vol_2']"
   ]
  },
  {
   "cell_type": "code",
   "execution_count": 12,
   "id": "8a6b4bac",
   "metadata": {},
   "outputs": [],
   "source": [
    "col_common1 = [\"dji_cr\", \"dji_f_cr\", \"dxy_cr\", \"ixic_f_cr\", \"bond_kor_10_cr\", \"bond_kor_2_cr\", \"kosdaq_cr\", \"kospi_cr\", \n",
    "         \"krw_cr\", \"ixic_cr\", \"spx_f_cr\", \"sox_cr\", \"spx_cr\", \"bond_usa_10_cr\", \"bond_usa_2_cr\", \"bond_usa_3m_cr\", \n",
    "         \"vix_cr\", \"wti_cr\", \"spsy_cr\", \"spny_cr\", \"spxhc_cr\", \"splrcd_cr\", \"splrci_cr\", \"splrcu_cr\", \"splrcs_cr\",\n",
    "         \"splrct_cr\", \"splrcl_cr\", \"splrcm_cr\", \"ixbk_cr\", \"ixfn_cr\", \"ixid_cr\", \"ixis_cr\", \"ixk_cr\", \"ixtr_cr\",\n",
    "         \"ixut_cr\", \"nbi_cr\", \"bkx_cr\"]\n",
    "col_common2 = [\"dji_cr_2\", \"dji_f_cr_2\", \"dxy_cr_2\", \"ixic_f_cr_2\", \"bond_kor_10_cr_2\", \"bond_kor_2_cr_2\", \"kosdaq_cr_2\", \"kospi_cr_2\",\n",
    "         \"krw_cr_2\", \"ixic_cr_2\", \"spx_f_cr_2\", \"sox_cr_2\", \"spx_cr_2\", \"bond_usa_10_cr_2\", \"bond_usa_2_cr_2\", \"bond_usa_3m_cr_2\",\n",
    "         \"vix_cr_2\", \"wti_cr_2\", \"spsy_cr_2\", \"spny_cr_2\", \"spxhc_cr_2\", \"splrcd_cr_2\", \"splrci_cr_2\", \"splrcu_cr_2\",\n",
    "         \"splrcs_cr_2\", \"splrct_cr_2\", \"splrcl_cr_2\", \"splrcm_cr_2\", \"ixbk_cr_2\", \"ixfn_cr_2\", \"ixid_cr_2\",\n",
    "         \"ixis_cr_2\", \"ixk_cr_2\", \"ixtr_cr_2\", \"ixut_cr_2\", \"nbi_cr_2\", \"bkx_cr_2\"]"
   ]
  },
  {
   "cell_type": "code",
   "execution_count": 13,
   "id": "9a595935",
   "metadata": {},
   "outputs": [],
   "source": [
    "col_cr = ['weekday', 'cr_00', 'cr_05', 'cr_10', 'cr_15', 'cr_20']"
   ]
  },
  {
   "cell_type": "code",
   "execution_count": 14,
   "id": "75ec6070",
   "metadata": {},
   "outputs": [],
   "source": [
    "col_col = col_inv1 + col_common1 + col_his1 + col_inv2 + col_common2 + col_his2 + col_cr"
   ]
  },
  {
   "cell_type": "code",
   "execution_count": 15,
   "id": "ff6769da",
   "metadata": {},
   "outputs": [],
   "source": [
    "# # write common data only\n",
    "# df_temp = df_common.copy()\n",
    "# df_temp = df_temp[col_common1+col_common2]\n",
    "# pkl_common_directory = './data/common_pkl/'\n",
    "# df_temp.to_pickle(pkl_common_directory + 'df_common.pkl')\n",
    "# df_temp.to_csv(pkl_common_directory + 'df_common.csv')"
   ]
  },
  {
   "cell_type": "code",
   "execution_count": 16,
   "id": "c78c8f82",
   "metadata": {},
   "outputs": [],
   "source": [
    "new_columns = col_col"
   ]
  },
  {
   "cell_type": "code",
   "execution_count": 17,
   "id": "02da1256",
   "metadata": {},
   "outputs": [],
   "source": [
    "# column 순서 변경 : weekday, 'cr_00', 'cr_05', 'cr_10', 'cr_15', 'cr_20' column을 마지막으로 이동 \n",
    "for key, val in code.items():\n",
    "    globals()['df_{}_combine'.format(val[1])] = globals()['df_{}_combine'.format(val[1])][new_columns]"
   ]
  },
  {
   "cell_type": "code",
   "execution_count": 18,
   "id": "d4f1fa06",
   "metadata": {},
   "outputs": [
    {
     "data": {
      "text/plain": [
       "'\\n# drop inf, -inf : replace inf to 1 or -1 . 데이터를 살리고\\n# 변동률이 무한대가 되는 것을 방지하기 위해서, 나중에 발생하는 에러를 방지\\ndf_sec_sel.replace([np.inf, -np.inf], [1, -1], inplace=True)\\n\\n.impute 사용하는 것을 고려할 필요 있음.\\n'"
      ]
     },
     "execution_count": 18,
     "metadata": {},
     "output_type": "execute_result"
    }
   ],
   "source": [
    "'''\n",
    "# drop inf, -inf : replace inf to 1 or -1 . 데이터를 살리고\n",
    "# 변동률이 무한대가 되는 것을 방지하기 위해서, 나중에 발생하는 에러를 방지\n",
    "df_sec_sel.replace([np.inf, -np.inf], [1, -1], inplace=True)\n",
    "\n",
    ".impute 사용하는 것을 고려할 필요 있음.\n",
    "'''"
   ]
  },
  {
   "cell_type": "code",
   "execution_count": 19,
   "id": "7e91c1c5",
   "metadata": {},
   "outputs": [],
   "source": [
    "# drop inf, -inf : replace inf to 1 or -1 . 데이터를 살리고\n",
    "# 변동률이 무한대가 되는 것을 방지하기 위해서, 나중에 발생하는 에러를 방지\n",
    "for key, val in code.items():\n",
    "    globals()['df_{}_combine'.format(val[1])].replace([np.inf, -np.inf], [1, -1], inplace=True)\n",
    "\n",
    "# **** 데이터 전처리 from sklearn.impute import SimpleImputer, SimpleImputer 사용하기로 함."
   ]
  },
  {
   "cell_type": "code",
   "execution_count": 20,
   "id": "3fa3914b",
   "metadata": {},
   "outputs": [
    {
     "data": {
      "text/html": [
       "<div>\n",
       "<style scoped>\n",
       "    .dataframe tbody tr th:only-of-type {\n",
       "        vertical-align: middle;\n",
       "    }\n",
       "\n",
       "    .dataframe tbody tr th {\n",
       "        vertical-align: top;\n",
       "    }\n",
       "\n",
       "    .dataframe thead th {\n",
       "        text-align: right;\n",
       "    }\n",
       "</style>\n",
       "<table border=\"1\" class=\"dataframe\">\n",
       "  <thead>\n",
       "    <tr style=\"text-align: right;\">\n",
       "      <th></th>\n",
       "      <th>retail_1</th>\n",
       "      <th>foreigner_1</th>\n",
       "      <th>institution_1</th>\n",
       "      <th>financial_1</th>\n",
       "      <th>invtrust_1</th>\n",
       "      <th>pension_1</th>\n",
       "      <th>privequity_1</th>\n",
       "      <th>bank_1</th>\n",
       "      <th>insurance_1</th>\n",
       "      <th>financeetc_1</th>\n",
       "      <th>...</th>\n",
       "      <th>high_2</th>\n",
       "      <th>low_2</th>\n",
       "      <th>close_2</th>\n",
       "      <th>vol_2</th>\n",
       "      <th>weekday</th>\n",
       "      <th>cr_00</th>\n",
       "      <th>cr_05</th>\n",
       "      <th>cr_10</th>\n",
       "      <th>cr_15</th>\n",
       "      <th>cr_20</th>\n",
       "    </tr>\n",
       "  </thead>\n",
       "  <tbody>\n",
       "    <tr>\n",
       "      <th>2024-02-26</th>\n",
       "      <td>-0.92723</td>\n",
       "      <td>-0.32112</td>\n",
       "      <td>8.04897</td>\n",
       "      <td>1.99412</td>\n",
       "      <td>183.41509</td>\n",
       "      <td>-5.13948</td>\n",
       "      <td>-1.07560</td>\n",
       "      <td>92.83333</td>\n",
       "      <td>-0.58196</td>\n",
       "      <td>-18.33333</td>\n",
       "      <td>...</td>\n",
       "      <td>0.00678</td>\n",
       "      <td>0.00000</td>\n",
       "      <td>-0.00137</td>\n",
       "      <td>0.41046</td>\n",
       "      <td>4</td>\n",
       "      <td>0</td>\n",
       "      <td>0</td>\n",
       "      <td>0</td>\n",
       "      <td>0</td>\n",
       "      <td>0</td>\n",
       "    </tr>\n",
       "    <tr>\n",
       "      <th>2024-02-27</th>\n",
       "      <td>-2.90715</td>\n",
       "      <td>-1.57949</td>\n",
       "      <td>-1.02857</td>\n",
       "      <td>-0.85229</td>\n",
       "      <td>-1.77849</td>\n",
       "      <td>-0.89035</td>\n",
       "      <td>-11.06111</td>\n",
       "      <td>-1.14565</td>\n",
       "      <td>0.92181</td>\n",
       "      <td>-0.09615</td>\n",
       "      <td>...</td>\n",
       "      <td>-0.00947</td>\n",
       "      <td>-0.00688</td>\n",
       "      <td>-0.00410</td>\n",
       "      <td>-0.03548</td>\n",
       "      <td>0</td>\n",
       "      <td>1</td>\n",
       "      <td>0</td>\n",
       "      <td>0</td>\n",
       "      <td>0</td>\n",
       "      <td>0</td>\n",
       "    </tr>\n",
       "    <tr>\n",
       "      <th>2024-02-28</th>\n",
       "      <td>-0.81517</td>\n",
       "      <td>-0.46258</td>\n",
       "      <td>16.91387</td>\n",
       "      <td>-1.26298</td>\n",
       "      <td>1.07912</td>\n",
       "      <td>-11.51762</td>\n",
       "      <td>4.08724</td>\n",
       "      <td>-0.90244</td>\n",
       "      <td>-0.61928</td>\n",
       "      <td>1.18085</td>\n",
       "      <td>...</td>\n",
       "      <td>-0.01078</td>\n",
       "      <td>-0.00274</td>\n",
       "      <td>0.00000</td>\n",
       "      <td>-0.18633</td>\n",
       "      <td>1</td>\n",
       "      <td>1</td>\n",
       "      <td>0</td>\n",
       "      <td>0</td>\n",
       "      <td>0</td>\n",
       "      <td>0</td>\n",
       "    </tr>\n",
       "    <tr>\n",
       "      <th>2024-02-29</th>\n",
       "      <td>15.56600</td>\n",
       "      <td>-0.46533</td>\n",
       "      <td>-1.47956</td>\n",
       "      <td>-12.58558</td>\n",
       "      <td>-0.62845</td>\n",
       "      <td>-1.28173</td>\n",
       "      <td>-0.06458</td>\n",
       "      <td>57.25000</td>\n",
       "      <td>0.47043</td>\n",
       "      <td>-5.93171</td>\n",
       "      <td>...</td>\n",
       "      <td>0.00956</td>\n",
       "      <td>0.00831</td>\n",
       "      <td>0.00549</td>\n",
       "      <td>-0.19588</td>\n",
       "      <td>2</td>\n",
       "      <td>1</td>\n",
       "      <td>0</td>\n",
       "      <td>0</td>\n",
       "      <td>0</td>\n",
       "      <td>0</td>\n",
       "    </tr>\n",
       "    <tr>\n",
       "      <th>2024-03-01</th>\n",
       "      <td>-2.47394</td>\n",
       "      <td>4.38007</td>\n",
       "      <td>-8.36710</td>\n",
       "      <td>-5.06203</td>\n",
       "      <td>1.13967</td>\n",
       "      <td>-2.66051</td>\n",
       "      <td>0.28719</td>\n",
       "      <td>-0.56080</td>\n",
       "      <td>-0.25530</td>\n",
       "      <td>-3.46785</td>\n",
       "      <td>...</td>\n",
       "      <td>0.00000</td>\n",
       "      <td>-0.00963</td>\n",
       "      <td>0.00686</td>\n",
       "      <td>0.60013</td>\n",
       "      <td>3</td>\n",
       "      <td>0</td>\n",
       "      <td>0</td>\n",
       "      <td>0</td>\n",
       "      <td>0</td>\n",
       "      <td>0</td>\n",
       "    </tr>\n",
       "  </tbody>\n",
       "</table>\n",
       "<p>5 rows × 114 columns</p>\n",
       "</div>"
      ],
      "text/plain": [
       "            retail_1  foreigner_1  institution_1  financial_1  invtrust_1  \\\n",
       "2024-02-26  -0.92723     -0.32112        8.04897      1.99412   183.41509   \n",
       "2024-02-27  -2.90715     -1.57949       -1.02857     -0.85229    -1.77849   \n",
       "2024-02-28  -0.81517     -0.46258       16.91387     -1.26298     1.07912   \n",
       "2024-02-29  15.56600     -0.46533       -1.47956    -12.58558    -0.62845   \n",
       "2024-03-01  -2.47394      4.38007       -8.36710     -5.06203     1.13967   \n",
       "\n",
       "            pension_1  privequity_1    bank_1  insurance_1  financeetc_1  ...  \\\n",
       "2024-02-26   -5.13948      -1.07560  92.83333     -0.58196     -18.33333  ...   \n",
       "2024-02-27   -0.89035     -11.06111  -1.14565      0.92181      -0.09615  ...   \n",
       "2024-02-28  -11.51762       4.08724  -0.90244     -0.61928       1.18085  ...   \n",
       "2024-02-29   -1.28173      -0.06458  57.25000      0.47043      -5.93171  ...   \n",
       "2024-03-01   -2.66051       0.28719  -0.56080     -0.25530      -3.46785  ...   \n",
       "\n",
       "             high_2    low_2  close_2    vol_2  weekday  cr_00 cr_05 cr_10  \\\n",
       "2024-02-26  0.00678  0.00000 -0.00137  0.41046        4      0     0     0   \n",
       "2024-02-27 -0.00947 -0.00688 -0.00410 -0.03548        0      1     0     0   \n",
       "2024-02-28 -0.01078 -0.00274  0.00000 -0.18633        1      1     0     0   \n",
       "2024-02-29  0.00956  0.00831  0.00549 -0.19588        2      1     0     0   \n",
       "2024-03-01  0.00000 -0.00963  0.00686  0.60013        3      0     0     0   \n",
       "\n",
       "            cr_15  cr_20  \n",
       "2024-02-26      0      0  \n",
       "2024-02-27      0      0  \n",
       "2024-02-28      0      0  \n",
       "2024-02-29      0      0  \n",
       "2024-03-01      0      0  \n",
       "\n",
       "[5 rows x 114 columns]"
      ]
     },
     "execution_count": 20,
     "metadata": {},
     "output_type": "execute_result"
    }
   ],
   "source": [
    "df_sec_combine.tail()"
   ]
  },
  {
   "cell_type": "code",
   "execution_count": 21,
   "id": "bf7224df",
   "metadata": {},
   "outputs": [],
   "source": [
    "nanlo = locate_nan(df_sec_combine)  # nan 위치 찾기"
   ]
  },
  {
   "cell_type": "code",
   "execution_count": 22,
   "id": "2f63d7f5",
   "metadata": {},
   "outputs": [
    {
     "name": "stdout",
     "output_type": "stream",
     "text": [
      "[[datetime.date(2022, 1, 7) 'dji_cr']\n",
      " [datetime.date(2022, 1, 7) 'dji_f_cr']\n",
      " [datetime.date(2022, 1, 7) 'dxy_cr']\n",
      " ...\n",
      " [datetime.date(2024, 3, 1) 'ixut_cr_2']\n",
      " [datetime.date(2024, 3, 1) 'nbi_cr_2']\n",
      " [datetime.date(2024, 3, 1) 'bkx_cr_2']]\n"
     ]
    }
   ],
   "source": [
    "print(nanlo)"
   ]
  },
  {
   "cell_type": "code",
   "execution_count": 23,
   "id": "21a6d628",
   "metadata": {},
   "outputs": [],
   "source": [
    "# delete rows which include NaN : dji, spx, nasdaq 기타 common 지수중 한개라도 nan인 rows 제거\n",
    "for key, val in code.items():\n",
    "    globals()['df_{}_combine'.format(val[1])].dropna(inplace=True)"
   ]
  },
  {
   "cell_type": "code",
   "execution_count": 24,
   "id": "c6f3061c",
   "metadata": {},
   "outputs": [],
   "source": [
    "# string column을 numeric으로 전환\n",
    "def string_to_num(df):\n",
    "    df.replace('%', '', regex=True, inplace=True)\n",
    "    df = df.apply(pd.to_numeric)\n",
    "    return df\n",
    "\n",
    "for key, val in code.items():\n",
    "    globals()['df_{}_combine'.format(val[1])] = string_to_num(globals()['df_{}_combine'.format(val[1])])"
   ]
  },
  {
   "cell_type": "code",
   "execution_count": 25,
   "id": "7e8d5acf",
   "metadata": {},
   "outputs": [],
   "source": [
    "# pickle로 데이터 저장\n",
    "\n",
    "for key, val in code.items():\n",
    "    globals()[f'df_{val[1]}_combine'].to_pickle(directory_for_predict + f'df_{val[1]}_combine.pkl')\n",
    "    globals()[f'df_{val[1]}_combine'].to_csv(directory_for_predict + f'df_{val[1]}_combine.csv')"
   ]
  },
  {
   "cell_type": "code",
   "execution_count": null,
   "id": "a01825d3",
   "metadata": {},
   "outputs": [],
   "source": []
  },
  {
   "cell_type": "code",
   "execution_count": null,
   "id": "3300e5b2",
   "metadata": {},
   "outputs": [],
   "source": []
  },
  {
   "cell_type": "code",
   "execution_count": null,
   "id": "1ffeab80",
   "metadata": {},
   "outputs": [],
   "source": []
  },
  {
   "cell_type": "code",
   "execution_count": null,
   "id": "a1f7c9d1",
   "metadata": {},
   "outputs": [],
   "source": []
  },
  {
   "cell_type": "code",
   "execution_count": null,
   "id": "bc80b897",
   "metadata": {},
   "outputs": [],
   "source": []
  }
 ],
 "metadata": {
  "kernelspec": {
   "display_name": "Python 3 (ipykernel)",
   "language": "python",
   "name": "python3"
  },
  "language_info": {
   "codemirror_mode": {
    "name": "ipython",
    "version": 3
   },
   "file_extension": ".py",
   "mimetype": "text/x-python",
   "name": "python",
   "nbconvert_exporter": "python",
   "pygments_lexer": "ipython3",
   "version": "3.10.7"
  }
 },
 "nbformat": 4,
 "nbformat_minor": 5
}
