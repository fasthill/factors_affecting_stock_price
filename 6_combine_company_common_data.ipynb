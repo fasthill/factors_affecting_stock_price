{
 "cells": [
  {
   "cell_type": "markdown",
   "id": "459ff0ca",
   "metadata": {},
   "source": [
    "## combine company data and common data"
   ]
  },
  {
   "cell_type": "code",
   "execution_count": 1,
   "id": "d3b5a935",
   "metadata": {},
   "outputs": [],
   "source": [
    "import datetime, time\n",
    "from datetime import date\n",
    "\n",
    "import pandas as pd\n",
    "import numpy as np\n",
    "import os\n",
    "import sys\n",
    "\n",
    "from sklearn.preprocessing import StandardScaler"
   ]
  },
  {
   "cell_type": "code",
   "execution_count": 2,
   "id": "8ef51f99",
   "metadata": {},
   "outputs": [],
   "source": [
    "module_path = os.path.abspath(os.path.join('.')) \n",
    "sys.path.append(module_path+\"\\\\data\\\\constant\")\n",
    "\n",
    "from constants import COMPANY_CODE"
   ]
  },
  {
   "cell_type": "code",
   "execution_count": 3,
   "id": "9ea60572",
   "metadata": {},
   "outputs": [
    {
     "data": {
      "text/plain": [
       "\" \\n[[datetime.date(2022, 1, 17) 'dji_cr']\\n [datetime.date(2022, 1, 17) 'dji_f_cr']\\n ...\\n [datetime.date(2023, 5, 23) 'kosdaq_cr']\\n [datetime.date(2023, 5, 23) 'kosdaq_cr_2']]\\n\""
      ]
     },
     "execution_count": 3,
     "metadata": {},
     "output_type": "execute_result"
    }
   ],
   "source": [
    "def locate_nan(df):\n",
    "    idx, idy = np.where(pd.isnull(df))\n",
    "    result = np.column_stack([df.index[idx], df.columns[idy]])\n",
    "    return result\n",
    "\n",
    "# return format\n",
    "''' \n",
    "[[datetime.date(2022, 1, 17) 'dji_cr']\n",
    " [datetime.date(2022, 1, 17) 'dji_f_cr']\n",
    " ...\n",
    " [datetime.date(2023, 5, 23) 'kosdaq_cr']\n",
    " [datetime.date(2023, 5, 23) 'kosdaq_cr_2']]\n",
    "'''"
   ]
  },
  {
   "cell_type": "code",
   "execution_count": 4,
   "id": "d6f9e0c8",
   "metadata": {},
   "outputs": [],
   "source": [
    "code = COMPANY_CODE\n",
    "\n",
    "# code = {'005930': ['삼성전자', 'sec'], '005380': ['현대차', 'hyunmotor'],\n",
    "#                  '035420': ['NAVER', 'naver'], '033780': ['KT&G', 'ktng']}\n",
    "# code = {'005930': ['삼성전자', 'sec'], '000660': ['SK하이닉스', 'skhynix']}\n",
    "# code = {'302440': ['SK바이오사이언스', 'skbio']}"
   ]
  },
  {
   "cell_type": "code",
   "execution_count": 5,
   "id": "1ced9635",
   "metadata": {},
   "outputs": [],
   "source": [
    "directory_for_predict = './data/data_for_ml/predict/'\n",
    "pkl_common_directory = './data/common_pkl/'\n",
    "pkl_directory = './data/common_pkl/'"
   ]
  },
  {
   "cell_type": "code",
   "execution_count": 6,
   "id": "a4ac3c16",
   "metadata": {},
   "outputs": [],
   "source": [
    "df_common = pd.read_pickle(directory_for_predict + '0_df_common.pkl')"
   ]
  },
  {
   "cell_type": "code",
   "execution_count": 7,
   "id": "82d5ae58",
   "metadata": {},
   "outputs": [],
   "source": [
    "for key, val in code.items():\n",
    "    df_company = pd.read_pickle(directory_for_predict + f'df_{val[1]}_company.pkl')\n",
    "    df_company = df_company.merge(df_common, how='left', left_index=True, right_index=True)\n",
    "    globals()[f'df_{val[1]}_combine'] = df_company.copy()"
   ]
  },
  {
   "cell_type": "code",
   "execution_count": 8,
   "id": "6c798e31",
   "metadata": {},
   "outputs": [
    {
     "data": {
      "text/html": [
       "<div>\n",
       "<style scoped>\n",
       "    .dataframe tbody tr th:only-of-type {\n",
       "        vertical-align: middle;\n",
       "    }\n",
       "\n",
       "    .dataframe tbody tr th {\n",
       "        vertical-align: top;\n",
       "    }\n",
       "\n",
       "    .dataframe thead th {\n",
       "        text-align: right;\n",
       "    }\n",
       "</style>\n",
       "<table border=\"1\" class=\"dataframe\">\n",
       "  <thead>\n",
       "    <tr style=\"text-align: right;\">\n",
       "      <th></th>\n",
       "      <th>retail_1</th>\n",
       "      <th>foreigner_1</th>\n",
       "      <th>institution_1</th>\n",
       "      <th>financial_1</th>\n",
       "      <th>invtrust_1</th>\n",
       "      <th>pension_1</th>\n",
       "      <th>privequity_1</th>\n",
       "      <th>bank_1</th>\n",
       "      <th>insurance_1</th>\n",
       "      <th>financeetc_1</th>\n",
       "      <th>...</th>\n",
       "      <th>bond_kor_10_cr</th>\n",
       "      <th>bond_kor_10_cr_2</th>\n",
       "      <th>bond_kor_2_cr</th>\n",
       "      <th>bond_kor_2_cr_2</th>\n",
       "      <th>kosdaq_cr</th>\n",
       "      <th>kosdaq_cr_2</th>\n",
       "      <th>kospi_cr</th>\n",
       "      <th>kospi_cr_2</th>\n",
       "      <th>krw_cr</th>\n",
       "      <th>krw_cr_2</th>\n",
       "    </tr>\n",
       "  </thead>\n",
       "  <tbody>\n",
       "    <tr>\n",
       "      <th>2023-05-30</th>\n",
       "      <td>-1.539159</td>\n",
       "      <td>1.180735</td>\n",
       "      <td>-0.692462</td>\n",
       "      <td>-0.775204</td>\n",
       "      <td>-0.886543</td>\n",
       "      <td>-0.969307</td>\n",
       "      <td>-0.233261</td>\n",
       "      <td>-8.166667</td>\n",
       "      <td>0.821883</td>\n",
       "      <td>31.369565</td>\n",
       "      <td>...</td>\n",
       "      <td>+1.03%</td>\n",
       "      <td>3.857143</td>\n",
       "      <td>+1.63%</td>\n",
       "      <td>4.695652</td>\n",
       "      <td>-0.53</td>\n",
       "      <td>-1.42964</td>\n",
       "      <td>0.16</td>\n",
       "      <td>-0.336521</td>\n",
       "      <td>-0.64%</td>\n",
       "      <td>0.320836</td>\n",
       "    </tr>\n",
       "    <tr>\n",
       "      <th>2023-05-31</th>\n",
       "      <td>-8.505156</td>\n",
       "      <td>-3.413306</td>\n",
       "      <td>2.091533</td>\n",
       "      <td>-1.055610</td>\n",
       "      <td>9.489840</td>\n",
       "      <td>84.121622</td>\n",
       "      <td>3.254460</td>\n",
       "      <td>-0.697674</td>\n",
       "      <td>0.493017</td>\n",
       "      <td>-0.981867</td>\n",
       "      <td>...</td>\n",
       "      <td>+0.19%</td>\n",
       "      <td>0.192044</td>\n",
       "      <td>+1.30%</td>\n",
       "      <td>1.304468</td>\n",
       "      <td>0.98</td>\n",
       "      <td>0.445902</td>\n",
       "      <td>1.04</td>\n",
       "      <td>1.2068</td>\n",
       "      <td>-0.33%</td>\n",
       "      <td>-0.277310</td>\n",
       "    </tr>\n",
       "    <tr>\n",
       "      <th>2023-06-01</th>\n",
       "      <td>-0.903547</td>\n",
       "      <td>-0.872008</td>\n",
       "      <td>-0.962081</td>\n",
       "      <td>19.370588</td>\n",
       "      <td>-0.677916</td>\n",
       "      <td>-1.103508</td>\n",
       "      <td>-0.931031</td>\n",
       "      <td>44.769231</td>\n",
       "      <td>-0.132834</td>\n",
       "      <td>-8.444444</td>\n",
       "      <td>...</td>\n",
       "      <td>-3.29%</td>\n",
       "      <td>-3.100137</td>\n",
       "      <td>-2.03%</td>\n",
       "      <td>-0.749376</td>\n",
       "      <td>0.64</td>\n",
       "      <td>1.625891</td>\n",
       "      <td>-0.32</td>\n",
       "      <td>0.715567</td>\n",
       "      <td>+0.06%</td>\n",
       "      <td>-0.265092</td>\n",
       "    </tr>\n",
       "    <tr>\n",
       "      <th>2023-06-02</th>\n",
       "      <td>2.753423</td>\n",
       "      <td>0.124141</td>\n",
       "      <td>20.647475</td>\n",
       "      <td>-1.231880</td>\n",
       "      <td>1.735676</td>\n",
       "      <td>-7.210123</td>\n",
       "      <td>9.152000</td>\n",
       "      <td>-0.986555</td>\n",
       "      <td>0.436893</td>\n",
       "      <td>-2.248756</td>\n",
       "      <td>...</td>\n",
       "      <td>+0.48%</td>\n",
       "      <td>-2.820372</td>\n",
       "      <td>+0.22%</td>\n",
       "      <td>-1.808219</td>\n",
       "      <td>0.8</td>\n",
       "      <td>1.442161</td>\n",
       "      <td>-0.31</td>\n",
       "      <td>-0.632368</td>\n",
       "      <td>-0.60%</td>\n",
       "      <td>-0.539492</td>\n",
       "    </tr>\n",
       "    <tr>\n",
       "      <th>2023-06-05</th>\n",
       "      <td>-1.298626</td>\n",
       "      <td>-2.516519</td>\n",
       "      <td>-0.912883</td>\n",
       "      <td>-13.254047</td>\n",
       "      <td>-0.721014</td>\n",
       "      <td>0.301556</td>\n",
       "      <td>-0.441292</td>\n",
       "      <td>7.750000</td>\n",
       "      <td>-0.728228</td>\n",
       "      <td>-0.808765</td>\n",
       "      <td>...</td>\n",
       "      <td>-1.52%</td>\n",
       "      <td>-1.047565</td>\n",
       "      <td>-0.98%</td>\n",
       "      <td>-0.755034</td>\n",
       "      <td>0.5</td>\n",
       "      <td>1.29764</td>\n",
       "      <td>1.25</td>\n",
       "      <td>0.940585</td>\n",
       "      <td>-0.51%</td>\n",
       "      <td>-1.108621</td>\n",
       "    </tr>\n",
       "  </tbody>\n",
       "</table>\n",
       "<p>5 rows × 114 columns</p>\n",
       "</div>"
      ],
      "text/plain": [
       "            retail_1  foreigner_1  institution_1  financial_1  invtrust_1   \n",
       "2023-05-30 -1.539159     1.180735      -0.692462    -0.775204   -0.886543  \\\n",
       "2023-05-31 -8.505156    -3.413306       2.091533    -1.055610    9.489840   \n",
       "2023-06-01 -0.903547    -0.872008      -0.962081    19.370588   -0.677916   \n",
       "2023-06-02  2.753423     0.124141      20.647475    -1.231880    1.735676   \n",
       "2023-06-05 -1.298626    -2.516519      -0.912883   -13.254047   -0.721014   \n",
       "\n",
       "            pension_1  privequity_1     bank_1  insurance_1  financeetc_1   \n",
       "2023-05-30  -0.969307     -0.233261  -8.166667     0.821883     31.369565  \\\n",
       "2023-05-31  84.121622      3.254460  -0.697674     0.493017     -0.981867   \n",
       "2023-06-01  -1.103508     -0.931031  44.769231    -0.132834     -8.444444   \n",
       "2023-06-02  -7.210123      9.152000  -0.986555     0.436893     -2.248756   \n",
       "2023-06-05   0.301556     -0.441292   7.750000    -0.728228     -0.808765   \n",
       "\n",
       "            ...  bond_kor_10_cr  bond_kor_10_cr_2  bond_kor_2_cr   \n",
       "2023-05-30  ...          +1.03%          3.857143         +1.63%  \\\n",
       "2023-05-31  ...          +0.19%          0.192044         +1.30%   \n",
       "2023-06-01  ...          -3.29%         -3.100137         -2.03%   \n",
       "2023-06-02  ...          +0.48%         -2.820372         +0.22%   \n",
       "2023-06-05  ...          -1.52%         -1.047565         -0.98%   \n",
       "\n",
       "            bond_kor_2_cr_2  kosdaq_cr  kosdaq_cr_2  kospi_cr  kospi_cr_2   \n",
       "2023-05-30         4.695652      -0.53     -1.42964      0.16   -0.336521  \\\n",
       "2023-05-31         1.304468       0.98     0.445902      1.04      1.2068   \n",
       "2023-06-01        -0.749376       0.64     1.625891     -0.32    0.715567   \n",
       "2023-06-02        -1.808219        0.8     1.442161     -0.31   -0.632368   \n",
       "2023-06-05        -0.755034        0.5      1.29764      1.25    0.940585   \n",
       "\n",
       "            krw_cr  krw_cr_2  \n",
       "2023-05-30  -0.64%  0.320836  \n",
       "2023-05-31  -0.33% -0.277310  \n",
       "2023-06-01  +0.06% -0.265092  \n",
       "2023-06-02  -0.60% -0.539492  \n",
       "2023-06-05  -0.51% -1.108621  \n",
       "\n",
       "[5 rows x 114 columns]"
      ]
     },
     "execution_count": 8,
     "metadata": {},
     "output_type": "execute_result"
    }
   ],
   "source": [
    "df_hyunmotor_combine.tail()"
   ]
  },
  {
   "cell_type": "code",
   "execution_count": 9,
   "id": "aeab3342",
   "metadata": {},
   "outputs": [
    {
     "data": {
      "text/plain": [
       "datetime.date(2022, 1, 7)"
      ]
     },
     "execution_count": 9,
     "metadata": {},
     "output_type": "execute_result"
    }
   ],
   "source": [
    "df_hyunmotor_combine.index[0]"
   ]
  },
  {
   "cell_type": "code",
   "execution_count": 10,
   "id": "587ac2cd",
   "metadata": {},
   "outputs": [],
   "source": [
    "col_inv1 = ['retail_1', 'foreigner_1', 'institution_1', 'financial_1', 'invtrust_1', 'pension_1', 'privequity_1', \n",
    "            'bank_1', 'insurance_1', 'financeetc_1', 'corporateetc_1', 'foreigneretc_1']\n",
    "col_inv2 = ['retail_2', 'foreigner_2', 'institution_2', 'financial_2', 'invtrust_2', 'pension_2',\n",
    "            'privequity_2', 'bank_2', 'insurance_2', 'financeetc_2', 'corporateetc_2', 'foreigneretc_2']"
   ]
  },
  {
   "cell_type": "code",
   "execution_count": 11,
   "id": "76ca8389",
   "metadata": {},
   "outputs": [],
   "source": [
    "col_his1 = ['open_1', 'high_1', 'low_1', 'close_1', 'vol_1']\n",
    "col_his2 = ['open_2', 'high_2', 'low_2', 'close_2', 'vol_2']"
   ]
  },
  {
   "cell_type": "code",
   "execution_count": 12,
   "id": "8a6b4bac",
   "metadata": {},
   "outputs": [],
   "source": [
    "col_common1 = [\"dji_cr\", \"dji_f_cr\", \"dxy_cr\", \"ixic_f_cr\", \"bond_kor_10_cr\", \"bond_kor_2_cr\", \"kosdaq_cr\", \"kospi_cr\", \n",
    "         \"krw_cr\", \"ixic_cr\", \"spx_f_cr\", \"sox_cr\", \"spx_cr\", \"bond_usa_10_cr\", \"bond_usa_2_cr\", \"bond_usa_3m_cr\", \n",
    "         \"vix_cr\", \"wti_cr\", \"spsy_cr\", \"spny_cr\", \"spxhc_cr\", \"splrcd_cr\", \"splrci_cr\", \"splrcu_cr\", \"splrcs_cr\",\n",
    "         \"splrct_cr\", \"splrcl_cr\", \"splrcm_cr\", \"ixbk_cr\", \"ixfn_cr\", \"ixid_cr\", \"ixis_cr\", \"ixk_cr\", \"ixtr_cr\",\n",
    "         \"ixut_cr\", \"nbi_cr\", \"bkx_cr\"]\n",
    "col_common2 = [\"dji_cr_2\", \"dji_f_cr_2\", \"dxy_cr_2\", \"ixic_f_cr_2\", \"bond_kor_10_cr_2\", \"bond_kor_2_cr_2\", \"kosdaq_cr_2\", \"kospi_cr_2\",\n",
    "         \"krw_cr_2\", \"ixic_cr_2\", \"spx_f_cr_2\", \"sox_cr_2\", \"spx_cr_2\", \"bond_usa_10_cr_2\", \"bond_usa_2_cr_2\", \"bond_usa_3m_cr_2\",\n",
    "         \"vix_cr_2\", \"wti_cr_2\", \"spsy_cr_2\", \"spny_cr_2\", \"spxhc_cr_2\", \"splrcd_cr_2\", \"splrci_cr_2\", \"splrcu_cr_2\",\n",
    "         \"splrcs_cr_2\", \"splrct_cr_2\", \"splrcl_cr_2\", \"splrcm_cr_2\", \"ixbk_cr_2\", \"ixfn_cr_2\", \"ixid_cr_2\",\n",
    "         \"ixis_cr_2\", \"ixk_cr_2\", \"ixtr_cr_2\", \"ixut_cr_2\", \"nbi_cr_2\", \"bkx_cr_2\"]"
   ]
  },
  {
   "cell_type": "code",
   "execution_count": 13,
   "id": "9a595935",
   "metadata": {},
   "outputs": [],
   "source": [
    "col_cr = ['weekday', 'cr_00', 'cr_05', 'cr_10', 'cr_15', 'cr_20']"
   ]
  },
  {
   "cell_type": "code",
   "execution_count": 14,
   "id": "75ec6070",
   "metadata": {},
   "outputs": [],
   "source": [
    "col_col = col_inv1 + col_common1 + col_his1 + col_inv2 + col_common2 + col_his2 + col_cr"
   ]
  },
  {
   "cell_type": "code",
   "execution_count": 15,
   "id": "ff6769da",
   "metadata": {},
   "outputs": [],
   "source": [
    "# # write common data only\n",
    "# df_temp = df_common.copy()\n",
    "# df_temp = df_temp[col_common1+col_common2]\n",
    "# pkl_common_directory = './data/common_pkl/'\n",
    "# df_temp.to_pickle(pkl_common_directory + 'df_common.pkl')\n",
    "# df_temp.to_csv(pkl_common_directory + 'df_common.csv')"
   ]
  },
  {
   "cell_type": "code",
   "execution_count": 16,
   "id": "c78c8f82",
   "metadata": {},
   "outputs": [],
   "source": [
    "new_columns = col_col"
   ]
  },
  {
   "cell_type": "code",
   "execution_count": 17,
   "id": "02da1256",
   "metadata": {},
   "outputs": [],
   "source": [
    "# column 순서 변경 : weekday, 'cr_00', 'cr_05', 'cr_10', 'cr_15', 'cr_20' column을 마지막으로 이동 \n",
    "for key, val in code.items():\n",
    "    globals()['df_{}_combine'.format(val[1])] = globals()['df_{}_combine'.format(val[1])][new_columns]"
   ]
  },
  {
   "cell_type": "code",
   "execution_count": 18,
   "id": "d4f1fa06",
   "metadata": {},
   "outputs": [
    {
     "data": {
      "text/plain": [
       "'\\n# drop inf, -inf : replace inf to 1 or -1 . 데이터를 살리고\\n# 변동률이 무한대가 되는 것을 방지하기 위해서, 나중에 발생하는 에러를 방지\\ndf_sec_sel.replace([np.inf, -np.inf], [1, -1], inplace=True)\\n\\n.impute 사용하는 것을 고려할 필요 있음.\\n'"
      ]
     },
     "execution_count": 18,
     "metadata": {},
     "output_type": "execute_result"
    }
   ],
   "source": [
    "'''\n",
    "# drop inf, -inf : replace inf to 1 or -1 . 데이터를 살리고\n",
    "# 변동률이 무한대가 되는 것을 방지하기 위해서, 나중에 발생하는 에러를 방지\n",
    "df_sec_sel.replace([np.inf, -np.inf], [1, -1], inplace=True)\n",
    "\n",
    ".impute 사용하는 것을 고려할 필요 있음.\n",
    "'''"
   ]
  },
  {
   "cell_type": "code",
   "execution_count": 19,
   "id": "7e91c1c5",
   "metadata": {},
   "outputs": [],
   "source": [
    "# drop inf, -inf : replace inf to 1 or -1 . 데이터를 살리고\n",
    "# 변동률이 무한대가 되는 것을 방지하기 위해서, 나중에 발생하는 에러를 방지\n",
    "for key, val in code.items():\n",
    "    globals()['df_{}_combine'.format(val[1])].replace([np.inf, -np.inf], [1, -1], inplace=True)\n",
    "\n",
    "# **** 데이터 전처리 from sklearn.impute import SimpleImputer, SimpleImputer 사용하기로 함."
   ]
  },
  {
   "cell_type": "code",
   "execution_count": 20,
   "id": "3fa3914b",
   "metadata": {},
   "outputs": [
    {
     "data": {
      "text/html": [
       "<div>\n",
       "<style scoped>\n",
       "    .dataframe tbody tr th:only-of-type {\n",
       "        vertical-align: middle;\n",
       "    }\n",
       "\n",
       "    .dataframe tbody tr th {\n",
       "        vertical-align: top;\n",
       "    }\n",
       "\n",
       "    .dataframe thead th {\n",
       "        text-align: right;\n",
       "    }\n",
       "</style>\n",
       "<table border=\"1\" class=\"dataframe\">\n",
       "  <thead>\n",
       "    <tr style=\"text-align: right;\">\n",
       "      <th></th>\n",
       "      <th>retail_1</th>\n",
       "      <th>foreigner_1</th>\n",
       "      <th>institution_1</th>\n",
       "      <th>financial_1</th>\n",
       "      <th>invtrust_1</th>\n",
       "      <th>pension_1</th>\n",
       "      <th>privequity_1</th>\n",
       "      <th>bank_1</th>\n",
       "      <th>insurance_1</th>\n",
       "      <th>financeetc_1</th>\n",
       "      <th>...</th>\n",
       "      <th>high_2</th>\n",
       "      <th>low_2</th>\n",
       "      <th>close_2</th>\n",
       "      <th>vol_2</th>\n",
       "      <th>weekday</th>\n",
       "      <th>cr_00</th>\n",
       "      <th>cr_05</th>\n",
       "      <th>cr_10</th>\n",
       "      <th>cr_15</th>\n",
       "      <th>cr_20</th>\n",
       "    </tr>\n",
       "  </thead>\n",
       "  <tbody>\n",
       "    <tr>\n",
       "      <th>2023-05-30</th>\n",
       "      <td>18.488003</td>\n",
       "      <td>5.945930</td>\n",
       "      <td>0.567027</td>\n",
       "      <td>0.299394</td>\n",
       "      <td>2.280590</td>\n",
       "      <td>-0.654482</td>\n",
       "      <td>2.313716</td>\n",
       "      <td>-1.227504</td>\n",
       "      <td>-2.557265</td>\n",
       "      <td>-0.857143</td>\n",
       "      <td>...</td>\n",
       "      <td>0.024745</td>\n",
       "      <td>0.022059</td>\n",
       "      <td>0.026277</td>\n",
       "      <td>1.386154</td>\n",
       "      <td>4</td>\n",
       "      <td>1</td>\n",
       "      <td>1</td>\n",
       "      <td>1</td>\n",
       "      <td>1</td>\n",
       "      <td>1</td>\n",
       "    </tr>\n",
       "    <tr>\n",
       "      <th>2023-05-31</th>\n",
       "      <td>-0.210539</td>\n",
       "      <td>-0.170746</td>\n",
       "      <td>-0.182706</td>\n",
       "      <td>-0.446093</td>\n",
       "      <td>-1.376868</td>\n",
       "      <td>-0.539416</td>\n",
       "      <td>-0.321756</td>\n",
       "      <td>-1.494030</td>\n",
       "      <td>3.571533</td>\n",
       "      <td>-21.046667</td>\n",
       "      <td>...</td>\n",
       "      <td>0.032857</td>\n",
       "      <td>0.036390</td>\n",
       "      <td>0.050872</td>\n",
       "      <td>0.930756</td>\n",
       "      <td>1</td>\n",
       "      <td>0</td>\n",
       "      <td>0</td>\n",
       "      <td>0</td>\n",
       "      <td>0</td>\n",
       "      <td>0</td>\n",
       "    </tr>\n",
       "    <tr>\n",
       "      <th>2023-06-01</th>\n",
       "      <td>-0.768926</td>\n",
       "      <td>-0.677052</td>\n",
       "      <td>-0.195582</td>\n",
       "      <td>-0.820762</td>\n",
       "      <td>2.009026</td>\n",
       "      <td>-4.028420</td>\n",
       "      <td>-1.205182</td>\n",
       "      <td>0.359517</td>\n",
       "      <td>-0.527213</td>\n",
       "      <td>-0.391420</td>\n",
       "      <td>...</td>\n",
       "      <td>0.029830</td>\n",
       "      <td>0.021583</td>\n",
       "      <td>0.015647</td>\n",
       "      <td>0.312876</td>\n",
       "      <td>2</td>\n",
       "      <td>0</td>\n",
       "      <td>0</td>\n",
       "      <td>0</td>\n",
       "      <td>0</td>\n",
       "      <td>0</td>\n",
       "    </tr>\n",
       "    <tr>\n",
       "      <th>2023-06-02</th>\n",
       "      <td>-1.215876</td>\n",
       "      <td>-0.385548</td>\n",
       "      <td>1.025357</td>\n",
       "      <td>1.556289</td>\n",
       "      <td>0.322316</td>\n",
       "      <td>0.970446</td>\n",
       "      <td>3.012961</td>\n",
       "      <td>0.073333</td>\n",
       "      <td>0.452175</td>\n",
       "      <td>-1.362295</td>\n",
       "      <td>...</td>\n",
       "      <td>-0.009682</td>\n",
       "      <td>-0.008427</td>\n",
       "      <td>-0.019364</td>\n",
       "      <td>-0.466123</td>\n",
       "      <td>3</td>\n",
       "      <td>1</td>\n",
       "      <td>1</td>\n",
       "      <td>1</td>\n",
       "      <td>1</td>\n",
       "      <td>0</td>\n",
       "    </tr>\n",
       "    <tr>\n",
       "      <th>2023-06-05</th>\n",
       "      <td>-11.116372</td>\n",
       "      <td>0.986568</td>\n",
       "      <td>-1.020365</td>\n",
       "      <td>-0.784424</td>\n",
       "      <td>-1.196314</td>\n",
       "      <td>-1.225441</td>\n",
       "      <td>-1.367785</td>\n",
       "      <td>-5.565217</td>\n",
       "      <td>-0.492189</td>\n",
       "      <td>-0.751131</td>\n",
       "      <td>...</td>\n",
       "      <td>-0.004138</td>\n",
       "      <td>0.008451</td>\n",
       "      <td>0.011204</td>\n",
       "      <td>-0.527921</td>\n",
       "      <td>4</td>\n",
       "      <td>0</td>\n",
       "      <td>0</td>\n",
       "      <td>0</td>\n",
       "      <td>0</td>\n",
       "      <td>0</td>\n",
       "    </tr>\n",
       "  </tbody>\n",
       "</table>\n",
       "<p>5 rows × 114 columns</p>\n",
       "</div>"
      ],
      "text/plain": [
       "             retail_1  foreigner_1  institution_1  financial_1  invtrust_1   \n",
       "2023-05-30  18.488003     5.945930       0.567027     0.299394    2.280590  \\\n",
       "2023-05-31  -0.210539    -0.170746      -0.182706    -0.446093   -1.376868   \n",
       "2023-06-01  -0.768926    -0.677052      -0.195582    -0.820762    2.009026   \n",
       "2023-06-02  -1.215876    -0.385548       1.025357     1.556289    0.322316   \n",
       "2023-06-05 -11.116372     0.986568      -1.020365    -0.784424   -1.196314   \n",
       "\n",
       "            pension_1  privequity_1    bank_1  insurance_1  financeetc_1  ...   \n",
       "2023-05-30  -0.654482      2.313716 -1.227504    -2.557265     -0.857143  ...  \\\n",
       "2023-05-31  -0.539416     -0.321756 -1.494030     3.571533    -21.046667  ...   \n",
       "2023-06-01  -4.028420     -1.205182  0.359517    -0.527213     -0.391420  ...   \n",
       "2023-06-02   0.970446      3.012961  0.073333     0.452175     -1.362295  ...   \n",
       "2023-06-05  -1.225441     -1.367785 -5.565217    -0.492189     -0.751131  ...   \n",
       "\n",
       "              high_2     low_2   close_2     vol_2 weekday cr_00 cr_05 cr_10   \n",
       "2023-05-30  0.024745  0.022059  0.026277  1.386154       4     1     1     1  \\\n",
       "2023-05-31  0.032857  0.036390  0.050872  0.930756       1     0     0     0   \n",
       "2023-06-01  0.029830  0.021583  0.015647  0.312876       2     0     0     0   \n",
       "2023-06-02 -0.009682 -0.008427 -0.019364 -0.466123       3     1     1     1   \n",
       "2023-06-05 -0.004138  0.008451  0.011204 -0.527921       4     0     0     0   \n",
       "\n",
       "            cr_15  cr_20  \n",
       "2023-05-30      1      1  \n",
       "2023-05-31      0      0  \n",
       "2023-06-01      0      0  \n",
       "2023-06-02      1      0  \n",
       "2023-06-05      0      0  \n",
       "\n",
       "[5 rows x 114 columns]"
      ]
     },
     "execution_count": 20,
     "metadata": {},
     "output_type": "execute_result"
    }
   ],
   "source": [
    "df_sec_combine.tail()"
   ]
  },
  {
   "cell_type": "code",
   "execution_count": 21,
   "id": "bf7224df",
   "metadata": {},
   "outputs": [],
   "source": [
    "nanlo = locate_nan(df_sec_combine)  # nan 위치 찾기"
   ]
  },
  {
   "cell_type": "code",
   "execution_count": 22,
   "id": "2f63d7f5",
   "metadata": {},
   "outputs": [
    {
     "name": "stdout",
     "output_type": "stream",
     "text": [
      "[[datetime.date(2022, 1, 17) 'dji_cr']\n",
      " [datetime.date(2022, 1, 17) 'dji_f_cr']\n",
      " [datetime.date(2022, 1, 17) 'dxy_cr']\n",
      " ...\n",
      " [datetime.date(2023, 4, 7) 'ixut_cr_2']\n",
      " [datetime.date(2023, 4, 7) 'nbi_cr_2']\n",
      " [datetime.date(2023, 4, 7) 'bkx_cr_2']]\n"
     ]
    }
   ],
   "source": [
    "print(nanlo)"
   ]
  },
  {
   "cell_type": "code",
   "execution_count": 23,
   "id": "21a6d628",
   "metadata": {},
   "outputs": [],
   "source": [
    "# delete rows which include NaN : dji, spx, nasdaq 기타 common 지수중 한개라도 nan인 rows 제거\n",
    "for key, val in code.items():\n",
    "    globals()['df_{}_combine'.format(val[1])].dropna(inplace=True)"
   ]
  },
  {
   "cell_type": "code",
   "execution_count": 24,
   "id": "c6f3061c",
   "metadata": {},
   "outputs": [],
   "source": [
    "# string column을 numeric으로 전환\n",
    "def string_to_num(df):\n",
    "    df.replace('%', '', regex=True, inplace=True)\n",
    "    return df.apply(pd.to_numeric)\n",
    "\n",
    "for key, val in code.items():\n",
    "    globals()['df_{}_combine'.format(val[1])] = string_to_num(globals()['df_{}_combine'.format(val[1])])"
   ]
  },
  {
   "cell_type": "code",
   "execution_count": 25,
   "id": "7e8d5acf",
   "metadata": {},
   "outputs": [],
   "source": [
    "# pickle로 데이터 저장\n",
    "\n",
    "for key, val in code.items():\n",
    "    globals()[f'df_{val[1]}_combine'].to_pickle(directory_for_predict + f'df_{val[1]}_combine.pkl')\n",
    "    globals()[f'df_{val[1]}_combine'].to_csv(directory_for_predict + f'df_{val[1]}_combine.csv')"
   ]
  },
  {
   "cell_type": "code",
   "execution_count": null,
   "id": "d2728c8c",
   "metadata": {},
   "outputs": [],
   "source": []
  },
  {
   "cell_type": "code",
   "execution_count": null,
   "id": "a01825d3",
   "metadata": {},
   "outputs": [],
   "source": []
  }
 ],
 "metadata": {
  "kernelspec": {
   "display_name": "Python 3 (ipykernel)",
   "language": "python",
   "name": "python3"
  },
  "language_info": {
   "codemirror_mode": {
    "name": "ipython",
    "version": 3
   },
   "file_extension": ".py",
   "mimetype": "text/x-python",
   "name": "python",
   "nbconvert_exporter": "python",
   "pygments_lexer": "ipython3",
   "version": "3.9.1"
  }
 },
 "nbformat": 4,
 "nbformat_minor": 5
}
