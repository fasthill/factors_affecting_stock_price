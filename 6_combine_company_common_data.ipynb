{
 "cells": [
  {
   "cell_type": "markdown",
   "id": "459ff0ca",
   "metadata": {},
   "source": [
    "## combine company data and common data"
   ]
  },
  {
   "cell_type": "code",
   "execution_count": 1,
   "id": "d3b5a935",
   "metadata": {},
   "outputs": [],
   "source": [
    "import datetime, time\n",
    "from datetime import date\n",
    "\n",
    "import pandas as pd\n",
    "import numpy as np\n",
    "import os\n",
    "import sys\n",
    "\n",
    "from sklearn.preprocessing import StandardScaler"
   ]
  },
  {
   "cell_type": "code",
   "execution_count": 2,
   "id": "8ef51f99",
   "metadata": {},
   "outputs": [],
   "source": [
    "module_path = os.path.abspath(os.path.join('.')) \n",
    "sys.path.append(module_path+\"\\\\data\\\\constant\")\n",
    "\n",
    "from constants import COMPANY_CODE"
   ]
  },
  {
   "cell_type": "code",
   "execution_count": 3,
   "id": "9ea60572",
   "metadata": {},
   "outputs": [
    {
     "data": {
      "text/plain": [
       "\" \\n[[datetime.date(2022, 1, 17) 'dji_cr']\\n [datetime.date(2022, 1, 17) 'dji_f_cr']\\n ...\\n [datetime.date(2023, 5, 23) 'kosdaq_cr']\\n [datetime.date(2023, 5, 23) 'kosdaq_cr_2']]\\n\""
      ]
     },
     "execution_count": 3,
     "metadata": {},
     "output_type": "execute_result"
    }
   ],
   "source": [
    "def locate_nan(df):\n",
    "    idx, idy = np.where(pd.isnull(df))\n",
    "    result = np.column_stack([df.index[idx], df.columns[idy]])\n",
    "    return result\n",
    "\n",
    "# return format\n",
    "''' \n",
    "[[datetime.date(2022, 1, 17) 'dji_cr']\n",
    " [datetime.date(2022, 1, 17) 'dji_f_cr']\n",
    " ...\n",
    " [datetime.date(2023, 5, 23) 'kosdaq_cr']\n",
    " [datetime.date(2023, 5, 23) 'kosdaq_cr_2']]\n",
    "'''"
   ]
  },
  {
   "cell_type": "code",
   "execution_count": 4,
   "id": "d6f9e0c8",
   "metadata": {},
   "outputs": [],
   "source": [
    "code = COMPANY_CODE\n",
    "\n",
    "# code = {'005930': ['삼성전자', 'sec'], '005380': ['현대차', 'hyunmotor'],\n",
    "#                  '035420': ['NAVER', 'naver'], '033780': ['KT&G', 'ktng']}\n",
    "# code = {'005930': ['삼성전자', 'sec'], '000660': ['SK하이닉스', 'skhynix']}\n",
    "# code = {'302440': ['SK바이오사이언스', 'skbio']}"
   ]
  },
  {
   "cell_type": "code",
   "execution_count": 5,
   "id": "1ced9635",
   "metadata": {},
   "outputs": [],
   "source": [
    "directory_for_predict = './data/data_for_ml/predict/'\n",
    "pkl_common_directory = './data/common_pkl/'\n",
    "pkl_directory = './data/common_pkl/'"
   ]
  },
  {
   "cell_type": "code",
   "execution_count": 6,
   "id": "a4ac3c16",
   "metadata": {},
   "outputs": [],
   "source": [
    "df_common = pd.read_pickle(directory_for_predict + '0_df_common.pkl')"
   ]
  },
  {
   "cell_type": "code",
   "execution_count": 7,
   "id": "82d5ae58",
   "metadata": {},
   "outputs": [],
   "source": [
    "for key, val in code.items():\n",
    "    df_company = pd.read_pickle(directory_for_predict + f'df_{val[1]}_company.pkl')\n",
    "    df_company = df_company.merge(df_common, how='left', left_index=True, right_index=True)\n",
    "    globals()[f'df_{val[1]}_combine'] = df_company.copy()"
   ]
  },
  {
   "cell_type": "code",
   "execution_count": 8,
   "id": "6c798e31",
   "metadata": {},
   "outputs": [
    {
     "data": {
      "text/html": [
       "<div>\n",
       "<style scoped>\n",
       "    .dataframe tbody tr th:only-of-type {\n",
       "        vertical-align: middle;\n",
       "    }\n",
       "\n",
       "    .dataframe tbody tr th {\n",
       "        vertical-align: top;\n",
       "    }\n",
       "\n",
       "    .dataframe thead th {\n",
       "        text-align: right;\n",
       "    }\n",
       "</style>\n",
       "<table border=\"1\" class=\"dataframe\">\n",
       "  <thead>\n",
       "    <tr style=\"text-align: right;\">\n",
       "      <th></th>\n",
       "      <th>retail_1</th>\n",
       "      <th>foreigner_1</th>\n",
       "      <th>institution_1</th>\n",
       "      <th>financial_1</th>\n",
       "      <th>invtrust_1</th>\n",
       "      <th>pension_1</th>\n",
       "      <th>privequity_1</th>\n",
       "      <th>bank_1</th>\n",
       "      <th>insurance_1</th>\n",
       "      <th>financeetc_1</th>\n",
       "      <th>...</th>\n",
       "      <th>ixk_cr</th>\n",
       "      <th>ixk_cr_2</th>\n",
       "      <th>ixtr_cr</th>\n",
       "      <th>ixtr_cr_2</th>\n",
       "      <th>ixut_cr</th>\n",
       "      <th>ixut_cr_2</th>\n",
       "      <th>nbi_cr</th>\n",
       "      <th>nbi_cr_2</th>\n",
       "      <th>bkx_cr</th>\n",
       "      <th>bkx_cr_2</th>\n",
       "    </tr>\n",
       "  </thead>\n",
       "  <tbody>\n",
       "    <tr>\n",
       "      <th>2024-12-20</th>\n",
       "      <td>-1.16999</td>\n",
       "      <td>-2.48213</td>\n",
       "      <td>-0.49939</td>\n",
       "      <td>-0.59889</td>\n",
       "      <td>3.37524</td>\n",
       "      <td>-0.09523</td>\n",
       "      <td>-0.73927</td>\n",
       "      <td>-0.94270</td>\n",
       "      <td>-0.58702</td>\n",
       "      <td>-1.00000</td>\n",
       "      <td>...</td>\n",
       "      <td>-0.04%</td>\n",
       "      <td>-3.22109</td>\n",
       "      <td>-0.38%</td>\n",
       "      <td>-3.62894</td>\n",
       "      <td>-0.69%</td>\n",
       "      <td>-2.25913</td>\n",
       "      <td>-0.69%</td>\n",
       "      <td>-4.65416</td>\n",
       "      <td>-0.03%</td>\n",
       "      <td>-4.30479</td>\n",
       "    </tr>\n",
       "    <tr>\n",
       "      <th>2024-12-23</th>\n",
       "      <td>0.25393</td>\n",
       "      <td>-0.09834</td>\n",
       "      <td>-0.43117</td>\n",
       "      <td>-0.39504</td>\n",
       "      <td>-1.14883</td>\n",
       "      <td>-0.78001</td>\n",
       "      <td>-0.80059</td>\n",
       "      <td>-1.01613</td>\n",
       "      <td>-2.11190</td>\n",
       "      <td>-1.00000</td>\n",
       "      <td>...</td>\n",
       "      <td>1.40%</td>\n",
       "      <td>1.36649</td>\n",
       "      <td>0.04%</td>\n",
       "      <td>-0.33613</td>\n",
       "      <td>1.29%</td>\n",
       "      <td>0.58843</td>\n",
       "      <td>0.91%</td>\n",
       "      <td>0.21740</td>\n",
       "      <td>2.00%</td>\n",
       "      <td>1.97194</td>\n",
       "    </tr>\n",
       "    <tr>\n",
       "      <th>2024-12-24</th>\n",
       "      <td>-3.01277</td>\n",
       "      <td>-1.30985</td>\n",
       "      <td>-0.24081</td>\n",
       "      <td>0.84433</td>\n",
       "      <td>-1.30985</td>\n",
       "      <td>-1.23535</td>\n",
       "      <td>4.81784</td>\n",
       "      <td>45.00000</td>\n",
       "      <td>-1.02570</td>\n",
       "      <td>-1.00000</td>\n",
       "      <td>...</td>\n",
       "      <td>1.45%</td>\n",
       "      <td>2.87915</td>\n",
       "      <td>0.21%</td>\n",
       "      <td>0.25882</td>\n",
       "      <td>0.17%</td>\n",
       "      <td>1.46610</td>\n",
       "      <td>0.82%</td>\n",
       "      <td>1.74048</td>\n",
       "      <td>0.34%</td>\n",
       "      <td>2.34945</td>\n",
       "    </tr>\n",
       "    <tr>\n",
       "      <th>2024-12-26</th>\n",
       "      <td>-0.34806</td>\n",
       "      <td>-0.41102</td>\n",
       "      <td>-0.57210</td>\n",
       "      <td>-0.61610</td>\n",
       "      <td>1.05919</td>\n",
       "      <td>-1.72069</td>\n",
       "      <td>0.02492</td>\n",
       "      <td>-1.21739</td>\n",
       "      <td>103.91667</td>\n",
       "      <td>-inf</td>\n",
       "      <td>...</td>\n",
       "      <td>1.04%</td>\n",
       "      <td>2.50961</td>\n",
       "      <td>0.94%</td>\n",
       "      <td>1.15921</td>\n",
       "      <td>1.01%</td>\n",
       "      <td>1.18502</td>\n",
       "      <td>0.21%</td>\n",
       "      <td>1.02870</td>\n",
       "      <td>1.23%</td>\n",
       "      <td>1.57221</td>\n",
       "    </tr>\n",
       "    <tr>\n",
       "      <th>2024-12-27</th>\n",
       "      <td>0.27252</td>\n",
       "      <td>-2.56367</td>\n",
       "      <td>7.33811</td>\n",
       "      <td>3.36925</td>\n",
       "      <td>-0.63086</td>\n",
       "      <td>8.26143</td>\n",
       "      <td>-1.29613</td>\n",
       "      <td>0.20000</td>\n",
       "      <td>1.25020</td>\n",
       "      <td>0.78926</td>\n",
       "      <td>...</td>\n",
       "      <td>-0.11%</td>\n",
       "      <td>0.93190</td>\n",
       "      <td>-0.43%</td>\n",
       "      <td>0.51041</td>\n",
       "      <td>-0.56%</td>\n",
       "      <td>0.44080</td>\n",
       "      <td>-0.62%</td>\n",
       "      <td>-0.41623</td>\n",
       "      <td>-0.46%</td>\n",
       "      <td>0.76042</td>\n",
       "    </tr>\n",
       "  </tbody>\n",
       "</table>\n",
       "<p>5 rows × 114 columns</p>\n",
       "</div>"
      ],
      "text/plain": [
       "            retail_1  foreigner_1  institution_1  financial_1  invtrust_1  \\\n",
       "2024-12-20  -1.16999     -2.48213       -0.49939     -0.59889     3.37524   \n",
       "2024-12-23   0.25393     -0.09834       -0.43117     -0.39504    -1.14883   \n",
       "2024-12-24  -3.01277     -1.30985       -0.24081      0.84433    -1.30985   \n",
       "2024-12-26  -0.34806     -0.41102       -0.57210     -0.61610     1.05919   \n",
       "2024-12-27   0.27252     -2.56367        7.33811      3.36925    -0.63086   \n",
       "\n",
       "            pension_1  privequity_1    bank_1  insurance_1  financeetc_1  ...  \\\n",
       "2024-12-20   -0.09523      -0.73927  -0.94270     -0.58702      -1.00000  ...   \n",
       "2024-12-23   -0.78001      -0.80059  -1.01613     -2.11190      -1.00000  ...   \n",
       "2024-12-24   -1.23535       4.81784  45.00000     -1.02570      -1.00000  ...   \n",
       "2024-12-26   -1.72069       0.02492  -1.21739    103.91667          -inf  ...   \n",
       "2024-12-27    8.26143      -1.29613   0.20000      1.25020       0.78926  ...   \n",
       "\n",
       "            ixk_cr  ixk_cr_2  ixtr_cr  ixtr_cr_2  ixut_cr  ixut_cr_2  nbi_cr  \\\n",
       "2024-12-20  -0.04%  -3.22109   -0.38%   -3.62894   -0.69%   -2.25913  -0.69%   \n",
       "2024-12-23   1.40%   1.36649    0.04%   -0.33613    1.29%    0.58843   0.91%   \n",
       "2024-12-24   1.45%   2.87915    0.21%    0.25882    0.17%    1.46610   0.82%   \n",
       "2024-12-26   1.04%   2.50961    0.94%    1.15921    1.01%    1.18502   0.21%   \n",
       "2024-12-27  -0.11%   0.93190   -0.43%    0.51041   -0.56%    0.44080  -0.62%   \n",
       "\n",
       "            nbi_cr_2  bkx_cr  bkx_cr_2  \n",
       "2024-12-20  -4.65416  -0.03%  -4.30479  \n",
       "2024-12-23   0.21740   2.00%   1.97194  \n",
       "2024-12-24   1.74048   0.34%   2.34945  \n",
       "2024-12-26   1.02870   1.23%   1.57221  \n",
       "2024-12-27  -0.41623  -0.46%   0.76042  \n",
       "\n",
       "[5 rows x 114 columns]"
      ]
     },
     "execution_count": 8,
     "metadata": {},
     "output_type": "execute_result"
    }
   ],
   "source": [
    "df_hyunmotor_combine.tail()"
   ]
  },
  {
   "cell_type": "code",
   "execution_count": 9,
   "id": "aeab3342",
   "metadata": {},
   "outputs": [
    {
     "data": {
      "text/plain": [
       "datetime.date(2022, 1, 7)"
      ]
     },
     "execution_count": 9,
     "metadata": {},
     "output_type": "execute_result"
    }
   ],
   "source": [
    "df_hyunmotor_combine.index[0]"
   ]
  },
  {
   "cell_type": "code",
   "execution_count": 10,
   "id": "587ac2cd",
   "metadata": {},
   "outputs": [],
   "source": [
    "col_inv1 = ['retail_1', 'foreigner_1', 'institution_1', 'financial_1', 'invtrust_1', 'pension_1', 'privequity_1', \n",
    "            'bank_1', 'insurance_1', 'financeetc_1', 'corporateetc_1', 'foreigneretc_1']\n",
    "col_inv2 = ['retail_2', 'foreigner_2', 'institution_2', 'financial_2', 'invtrust_2', 'pension_2',\n",
    "            'privequity_2', 'bank_2', 'insurance_2', 'financeetc_2', 'corporateetc_2', 'foreigneretc_2']"
   ]
  },
  {
   "cell_type": "code",
   "execution_count": 11,
   "id": "76ca8389",
   "metadata": {},
   "outputs": [],
   "source": [
    "col_his1 = ['open_1', 'high_1', 'low_1', 'close_1', 'vol_1']\n",
    "col_his2 = ['open_2', 'high_2', 'low_2', 'close_2', 'vol_2']"
   ]
  },
  {
   "cell_type": "code",
   "execution_count": 12,
   "id": "8a6b4bac",
   "metadata": {},
   "outputs": [],
   "source": [
    "col_common1 = [\"dji_cr\", \"dji_f_cr\", \"dxy_cr\", \"ixic_f_cr\", \"bond_kor_10_cr\", \"bond_kor_2_cr\", \"kosdaq_cr\", \"kospi_cr\", \n",
    "         \"krw_cr\", \"ixic_cr\", \"spx_f_cr\", \"sox_cr\", \"spx_cr\", \"bond_usa_10_cr\", \"bond_usa_2_cr\", \"bond_usa_3m_cr\", \n",
    "         \"vix_cr\", \"wti_cr\", \"spsy_cr\", \"spny_cr\", \"spxhc_cr\", \"splrcd_cr\", \"splrci_cr\", \"splrcu_cr\", \"splrcs_cr\",\n",
    "         \"splrct_cr\", \"splrcl_cr\", \"splrcm_cr\", \"ixbk_cr\", \"ixfn_cr\", \"ixid_cr\", \"ixis_cr\", \"ixk_cr\", \"ixtr_cr\",\n",
    "         \"ixut_cr\", \"nbi_cr\", \"bkx_cr\"]\n",
    "col_common2 = [\"dji_cr_2\", \"dji_f_cr_2\", \"dxy_cr_2\", \"ixic_f_cr_2\", \"bond_kor_10_cr_2\", \"bond_kor_2_cr_2\", \"kosdaq_cr_2\", \"kospi_cr_2\",\n",
    "         \"krw_cr_2\", \"ixic_cr_2\", \"spx_f_cr_2\", \"sox_cr_2\", \"spx_cr_2\", \"bond_usa_10_cr_2\", \"bond_usa_2_cr_2\", \"bond_usa_3m_cr_2\",\n",
    "         \"vix_cr_2\", \"wti_cr_2\", \"spsy_cr_2\", \"spny_cr_2\", \"spxhc_cr_2\", \"splrcd_cr_2\", \"splrci_cr_2\", \"splrcu_cr_2\",\n",
    "         \"splrcs_cr_2\", \"splrct_cr_2\", \"splrcl_cr_2\", \"splrcm_cr_2\", \"ixbk_cr_2\", \"ixfn_cr_2\", \"ixid_cr_2\",\n",
    "         \"ixis_cr_2\", \"ixk_cr_2\", \"ixtr_cr_2\", \"ixut_cr_2\", \"nbi_cr_2\", \"bkx_cr_2\"]"
   ]
  },
  {
   "cell_type": "code",
   "execution_count": 13,
   "id": "9a595935",
   "metadata": {},
   "outputs": [],
   "source": [
    "col_cr = ['weekday', 'cr_00', 'cr_05', 'cr_10', 'cr_15', 'cr_20']"
   ]
  },
  {
   "cell_type": "code",
   "execution_count": 14,
   "id": "75ec6070",
   "metadata": {},
   "outputs": [],
   "source": [
    "col_col = col_inv1 + col_common1 + col_his1 + col_inv2 + col_common2 + col_his2 + col_cr"
   ]
  },
  {
   "cell_type": "code",
   "execution_count": 15,
   "id": "ff6769da",
   "metadata": {},
   "outputs": [],
   "source": [
    "# # write common data only\n",
    "# df_temp = df_common.copy()\n",
    "# df_temp = df_temp[col_common1+col_common2]\n",
    "# pkl_common_directory = './data/common_pkl/'\n",
    "# df_temp.to_pickle(pkl_common_directory + 'df_common.pkl')\n",
    "# df_temp.to_csv(pkl_common_directory + 'df_common.csv')"
   ]
  },
  {
   "cell_type": "code",
   "execution_count": 16,
   "id": "c78c8f82",
   "metadata": {},
   "outputs": [],
   "source": [
    "new_columns = col_col"
   ]
  },
  {
   "cell_type": "code",
   "execution_count": 17,
   "id": "02da1256",
   "metadata": {},
   "outputs": [],
   "source": [
    "# column 순서 변경 : weekday, 'cr_00', 'cr_05', 'cr_10', 'cr_15', 'cr_20' column을 마지막으로 이동 \n",
    "for key, val in code.items():\n",
    "    globals()['df_{}_combine'.format(val[1])] = globals()['df_{}_combine'.format(val[1])][new_columns]"
   ]
  },
  {
   "cell_type": "code",
   "execution_count": 18,
   "id": "d4f1fa06",
   "metadata": {},
   "outputs": [
    {
     "data": {
      "text/plain": [
       "'\\n# drop inf, -inf : replace inf to 1 or -1 . 데이터를 살리고\\n# 변동률이 무한대가 되는 것을 방지하기 위해서, 나중에 발생하는 에러를 방지\\ndf_sec_sel.replace([np.inf, -np.inf], [1, -1], inplace=True)\\n\\n.impute 사용하는 것을 고려할 필요 있음.\\n'"
      ]
     },
     "execution_count": 18,
     "metadata": {},
     "output_type": "execute_result"
    }
   ],
   "source": [
    "'''\n",
    "# drop inf, -inf : replace inf to 1 or -1 . 데이터를 살리고\n",
    "# 변동률이 무한대가 되는 것을 방지하기 위해서, 나중에 발생하는 에러를 방지\n",
    "df_sec_sel.replace([np.inf, -np.inf], [1, -1], inplace=True)\n",
    "\n",
    ".impute 사용하는 것을 고려할 필요 있음.\n",
    "'''"
   ]
  },
  {
   "cell_type": "code",
   "execution_count": 19,
   "id": "7e91c1c5",
   "metadata": {},
   "outputs": [],
   "source": [
    "# drop inf, -inf : replace inf to 1 or -1 . 데이터를 살리고\n",
    "# 변동률이 무한대가 되는 것을 방지하기 위해서, 나중에 발생하는 에러를 방지\n",
    "for key, val in code.items():\n",
    "    globals()['df_{}_combine'.format(val[1])].replace([np.inf, -np.inf], [1, -1], inplace=True)\n",
    "\n",
    "# **** 데이터 전처리 from sklearn.impute import SimpleImputer, SimpleImputer 사용하기로 함."
   ]
  },
  {
   "cell_type": "code",
   "execution_count": 20,
   "id": "3fa3914b",
   "metadata": {},
   "outputs": [
    {
     "data": {
      "text/html": [
       "<div>\n",
       "<style scoped>\n",
       "    .dataframe tbody tr th:only-of-type {\n",
       "        vertical-align: middle;\n",
       "    }\n",
       "\n",
       "    .dataframe tbody tr th {\n",
       "        vertical-align: top;\n",
       "    }\n",
       "\n",
       "    .dataframe thead th {\n",
       "        text-align: right;\n",
       "    }\n",
       "</style>\n",
       "<table border=\"1\" class=\"dataframe\">\n",
       "  <thead>\n",
       "    <tr style=\"text-align: right;\">\n",
       "      <th></th>\n",
       "      <th>retail_1</th>\n",
       "      <th>foreigner_1</th>\n",
       "      <th>institution_1</th>\n",
       "      <th>financial_1</th>\n",
       "      <th>invtrust_1</th>\n",
       "      <th>pension_1</th>\n",
       "      <th>privequity_1</th>\n",
       "      <th>bank_1</th>\n",
       "      <th>insurance_1</th>\n",
       "      <th>financeetc_1</th>\n",
       "      <th>...</th>\n",
       "      <th>high_2</th>\n",
       "      <th>low_2</th>\n",
       "      <th>close_2</th>\n",
       "      <th>vol_2</th>\n",
       "      <th>weekday</th>\n",
       "      <th>cr_00</th>\n",
       "      <th>cr_05</th>\n",
       "      <th>cr_10</th>\n",
       "      <th>cr_15</th>\n",
       "      <th>cr_20</th>\n",
       "    </tr>\n",
       "  </thead>\n",
       "  <tbody>\n",
       "    <tr>\n",
       "      <th>2024-12-20</th>\n",
       "      <td>-5.00947</td>\n",
       "      <td>-9.00731</td>\n",
       "      <td>-35.62918</td>\n",
       "      <td>-11.89445</td>\n",
       "      <td>-0.25177</td>\n",
       "      <td>-2.19116</td>\n",
       "      <td>-0.56609</td>\n",
       "      <td>-23.58824</td>\n",
       "      <td>-2.14561</td>\n",
       "      <td>-5.60417</td>\n",
       "      <td>...</td>\n",
       "      <td>-0.02536</td>\n",
       "      <td>-0.01667</td>\n",
       "      <td>-0.02030</td>\n",
       "      <td>0.11213</td>\n",
       "      <td>3</td>\n",
       "      <td>0</td>\n",
       "      <td>0</td>\n",
       "      <td>0</td>\n",
       "      <td>0</td>\n",
       "      <td>0</td>\n",
       "    </tr>\n",
       "    <tr>\n",
       "      <th>2024-12-23</th>\n",
       "      <td>-0.39061</td>\n",
       "      <td>-0.23024</td>\n",
       "      <td>-0.53527</td>\n",
       "      <td>-0.53632</td>\n",
       "      <td>3.83701</td>\n",
       "      <td>7.01896</td>\n",
       "      <td>5.04630</td>\n",
       "      <td>-0.86719</td>\n",
       "      <td>-1.00459</td>\n",
       "      <td>-27.03620</td>\n",
       "      <td>...</td>\n",
       "      <td>-0.04152</td>\n",
       "      <td>-0.03889</td>\n",
       "      <td>-0.03461</td>\n",
       "      <td>0.80122</td>\n",
       "      <td>4</td>\n",
       "      <td>1</td>\n",
       "      <td>1</td>\n",
       "      <td>0</td>\n",
       "      <td>0</td>\n",
       "      <td>0</td>\n",
       "    </tr>\n",
       "    <tr>\n",
       "      <th>2024-12-24</th>\n",
       "      <td>-1.15399</td>\n",
       "      <td>-0.82106</td>\n",
       "      <td>-1.35813</td>\n",
       "      <td>-1.82638</td>\n",
       "      <td>0.66711</td>\n",
       "      <td>-0.51821</td>\n",
       "      <td>0.32665</td>\n",
       "      <td>-1.00000</td>\n",
       "      <td>-400.00000</td>\n",
       "      <td>-0.78728</td>\n",
       "      <td>...</td>\n",
       "      <td>0.00372</td>\n",
       "      <td>0.00377</td>\n",
       "      <td>0.00753</td>\n",
       "      <td>-0.39184</td>\n",
       "      <td>0</td>\n",
       "      <td>1</td>\n",
       "      <td>1</td>\n",
       "      <td>1</td>\n",
       "      <td>1</td>\n",
       "      <td>0</td>\n",
       "    </tr>\n",
       "    <tr>\n",
       "      <th>2024-12-26</th>\n",
       "      <td>3.47501</td>\n",
       "      <td>-3.28718</td>\n",
       "      <td>-0.85578</td>\n",
       "      <td>-0.53549</td>\n",
       "      <td>-0.36390</td>\n",
       "      <td>-0.90063</td>\n",
       "      <td>-1.05541</td>\n",
       "      <td>-1.00000</td>\n",
       "      <td>0.12336</td>\n",
       "      <td>-1.39542</td>\n",
       "      <td>...</td>\n",
       "      <td>0.02637</td>\n",
       "      <td>0.03276</td>\n",
       "      <td>0.02642</td>\n",
       "      <td>-0.52848</td>\n",
       "      <td>1</td>\n",
       "      <td>0</td>\n",
       "      <td>0</td>\n",
       "      <td>0</td>\n",
       "      <td>0</td>\n",
       "      <td>0</td>\n",
       "    </tr>\n",
       "    <tr>\n",
       "      <th>2024-12-27</th>\n",
       "      <td>-1.07885</td>\n",
       "      <td>-1.70191</td>\n",
       "      <td>-2.92528</td>\n",
       "      <td>-0.91138</td>\n",
       "      <td>-0.94624</td>\n",
       "      <td>-5.41804</td>\n",
       "      <td>-5.34792</td>\n",
       "      <td>-0.99847</td>\n",
       "      <td>-1.02628</td>\n",
       "      <td>-1.00000</td>\n",
       "      <td>...</td>\n",
       "      <td>0.01111</td>\n",
       "      <td>0.00375</td>\n",
       "      <td>0.00187</td>\n",
       "      <td>-0.23079</td>\n",
       "      <td>3</td>\n",
       "      <td>0</td>\n",
       "      <td>0</td>\n",
       "      <td>0</td>\n",
       "      <td>0</td>\n",
       "      <td>0</td>\n",
       "    </tr>\n",
       "  </tbody>\n",
       "</table>\n",
       "<p>5 rows × 114 columns</p>\n",
       "</div>"
      ],
      "text/plain": [
       "            retail_1  foreigner_1  institution_1  financial_1  invtrust_1  \\\n",
       "2024-12-20  -5.00947     -9.00731      -35.62918    -11.89445    -0.25177   \n",
       "2024-12-23  -0.39061     -0.23024       -0.53527     -0.53632     3.83701   \n",
       "2024-12-24  -1.15399     -0.82106       -1.35813     -1.82638     0.66711   \n",
       "2024-12-26   3.47501     -3.28718       -0.85578     -0.53549    -0.36390   \n",
       "2024-12-27  -1.07885     -1.70191       -2.92528     -0.91138    -0.94624   \n",
       "\n",
       "            pension_1  privequity_1    bank_1  insurance_1  financeetc_1  ...  \\\n",
       "2024-12-20   -2.19116      -0.56609 -23.58824     -2.14561      -5.60417  ...   \n",
       "2024-12-23    7.01896       5.04630  -0.86719     -1.00459     -27.03620  ...   \n",
       "2024-12-24   -0.51821       0.32665  -1.00000   -400.00000      -0.78728  ...   \n",
       "2024-12-26   -0.90063      -1.05541  -1.00000      0.12336      -1.39542  ...   \n",
       "2024-12-27   -5.41804      -5.34792  -0.99847     -1.02628      -1.00000  ...   \n",
       "\n",
       "             high_2    low_2  close_2    vol_2  weekday  cr_00 cr_05 cr_10  \\\n",
       "2024-12-20 -0.02536 -0.01667 -0.02030  0.11213        3      0     0     0   \n",
       "2024-12-23 -0.04152 -0.03889 -0.03461  0.80122        4      1     1     0   \n",
       "2024-12-24  0.00372  0.00377  0.00753 -0.39184        0      1     1     1   \n",
       "2024-12-26  0.02637  0.03276  0.02642 -0.52848        1      0     0     0   \n",
       "2024-12-27  0.01111  0.00375  0.00187 -0.23079        3      0     0     0   \n",
       "\n",
       "            cr_15  cr_20  \n",
       "2024-12-20      0      0  \n",
       "2024-12-23      0      0  \n",
       "2024-12-24      1      0  \n",
       "2024-12-26      0      0  \n",
       "2024-12-27      0      0  \n",
       "\n",
       "[5 rows x 114 columns]"
      ]
     },
     "execution_count": 20,
     "metadata": {},
     "output_type": "execute_result"
    }
   ],
   "source": [
    "df_sec_combine.tail()"
   ]
  },
  {
   "cell_type": "code",
   "execution_count": 21,
   "id": "bf7224df",
   "metadata": {},
   "outputs": [],
   "source": [
    "nanlo = locate_nan(df_sec_combine)  # nan 위치 찾기"
   ]
  },
  {
   "cell_type": "code",
   "execution_count": 22,
   "id": "2f63d7f5",
   "metadata": {},
   "outputs": [
    {
     "name": "stdout",
     "output_type": "stream",
     "text": [
      "[[datetime.date(2022, 1, 18) 'dji_cr']\n",
      " [datetime.date(2022, 1, 18) 'dji_f_cr']\n",
      " [datetime.date(2022, 1, 18) 'dxy_cr']\n",
      " ...\n",
      " [datetime.date(2024, 11, 28) 'bkx_cr_2']\n",
      " [datetime.date(2024, 12, 27) 'spx_cr']\n",
      " [datetime.date(2024, 12, 27) 'spx_cr_2']]\n"
     ]
    }
   ],
   "source": [
    "print(nanlo)"
   ]
  },
  {
   "cell_type": "code",
   "execution_count": 23,
   "id": "21a6d628",
   "metadata": {},
   "outputs": [],
   "source": [
    "# delete rows which include NaN : dji, spx, nasdaq 기타 common 지수중 한개라도 nan인 rows 제거\n",
    "for key, val in code.items():\n",
    "    globals()['df_{}_combine'.format(val[1])].dropna(inplace=True)"
   ]
  },
  {
   "cell_type": "code",
   "execution_count": 24,
   "id": "c6f3061c",
   "metadata": {},
   "outputs": [],
   "source": [
    "# string column을 numeric으로 전환\n",
    "def string_to_num(df):\n",
    "    df.replace('%', '', regex=True, inplace=True)\n",
    "    df = df.apply(pd.to_numeric)\n",
    "    return df\n",
    "\n",
    "for key, val in code.items():\n",
    "    globals()['df_{}_combine'.format(val[1])] = string_to_num(globals()['df_{}_combine'.format(val[1])])"
   ]
  },
  {
   "cell_type": "code",
   "execution_count": 25,
   "id": "7e8d5acf",
   "metadata": {},
   "outputs": [],
   "source": [
    "# pickle로 데이터 저장\n",
    "\n",
    "for key, val in code.items():\n",
    "    globals()[f'df_{val[1]}_combine'].to_pickle(directory_for_predict + f'df_{val[1]}_combine.pkl')\n",
    "    globals()[f'df_{val[1]}_combine'].to_csv(directory_for_predict + f'df_{val[1]}_combine.csv')"
   ]
  },
  {
   "cell_type": "code",
   "execution_count": null,
   "id": "a01825d3",
   "metadata": {},
   "outputs": [],
   "source": []
  },
  {
   "cell_type": "code",
   "execution_count": null,
   "id": "3300e5b2",
   "metadata": {},
   "outputs": [],
   "source": []
  },
  {
   "cell_type": "code",
   "execution_count": null,
   "id": "1ffeab80",
   "metadata": {},
   "outputs": [],
   "source": []
  },
  {
   "cell_type": "code",
   "execution_count": null,
   "id": "a1f7c9d1",
   "metadata": {},
   "outputs": [],
   "source": []
  },
  {
   "cell_type": "code",
   "execution_count": null,
   "id": "bc80b897",
   "metadata": {},
   "outputs": [],
   "source": []
  }
 ],
 "metadata": {
  "kernelspec": {
   "display_name": "Python 3 (ipykernel)",
   "language": "python",
   "name": "python3"
  },
  "language_info": {
   "codemirror_mode": {
    "name": "ipython",
    "version": 3
   },
   "file_extension": ".py",
   "mimetype": "text/x-python",
   "name": "python",
   "nbconvert_exporter": "python",
   "pygments_lexer": "ipython3",
   "version": "3.12.2"
  }
 },
 "nbformat": 4,
 "nbformat_minor": 5
}
