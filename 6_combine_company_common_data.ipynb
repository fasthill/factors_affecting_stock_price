{
 "cells": [
  {
   "cell_type": "markdown",
   "id": "459ff0ca",
   "metadata": {},
   "source": [
    "## combine company data and common data"
   ]
  },
  {
   "cell_type": "code",
   "execution_count": 1,
   "id": "d3b5a935",
   "metadata": {},
   "outputs": [],
   "source": [
    "import datetime, time\n",
    "from datetime import date\n",
    "\n",
    "import pandas as pd\n",
    "import numpy as np\n",
    "import os\n",
    "import sys\n",
    "\n",
    "from sklearn.preprocessing import StandardScaler"
   ]
  },
  {
   "cell_type": "code",
   "execution_count": 2,
   "id": "8ef51f99",
   "metadata": {},
   "outputs": [],
   "source": [
    "module_path = os.path.abspath(os.path.join('.')) \n",
    "sys.path.append(module_path+\"\\\\data\\\\constant\")\n",
    "\n",
    "from constants import COMPANY_CODE"
   ]
  },
  {
   "cell_type": "code",
   "execution_count": 3,
   "id": "9ea60572",
   "metadata": {},
   "outputs": [
    {
     "data": {
      "text/plain": [
       "\" \\n[[datetime.date(2022, 1, 17) 'dji_cr']\\n [datetime.date(2022, 1, 17) 'dji_f_cr']\\n ...\\n [datetime.date(2023, 5, 23) 'kosdaq_cr']\\n [datetime.date(2023, 5, 23) 'kosdaq_cr_2']]\\n\""
      ]
     },
     "execution_count": 3,
     "metadata": {},
     "output_type": "execute_result"
    }
   ],
   "source": [
    "def locate_nan(df):\n",
    "    idx, idy = np.where(pd.isnull(df))\n",
    "    result = np.column_stack([df.index[idx], df.columns[idy]])\n",
    "    return result\n",
    "\n",
    "# return format\n",
    "''' \n",
    "[[datetime.date(2022, 1, 17) 'dji_cr']\n",
    " [datetime.date(2022, 1, 17) 'dji_f_cr']\n",
    " ...\n",
    " [datetime.date(2023, 5, 23) 'kosdaq_cr']\n",
    " [datetime.date(2023, 5, 23) 'kosdaq_cr_2']]\n",
    "'''"
   ]
  },
  {
   "cell_type": "code",
   "execution_count": 4,
   "id": "d6f9e0c8",
   "metadata": {},
   "outputs": [],
   "source": [
    "code = COMPANY_CODE\n",
    "\n",
    "# code = {'005930': ['삼성전자', 'sec'], '005380': ['현대차', 'hyunmotor'],\n",
    "#                  '035420': ['NAVER', 'naver'], '033780': ['KT&G', 'ktng']}\n",
    "# code = {'005930': ['삼성전자', 'sec'], '000660': ['SK하이닉스', 'skhynix']}\n",
    "# code = {'302440': ['SK바이오사이언스', 'skbio']}"
   ]
  },
  {
   "cell_type": "code",
   "execution_count": 5,
   "id": "1ced9635",
   "metadata": {},
   "outputs": [],
   "source": [
    "directory_for_predict = './data/data_for_ml/predict/'\n",
    "pkl_common_directory = './data/common_pkl/'\n",
    "pkl_directory = './data/common_pkl/'"
   ]
  },
  {
   "cell_type": "code",
   "execution_count": 6,
   "id": "a4ac3c16",
   "metadata": {},
   "outputs": [],
   "source": [
    "df_common = pd.read_pickle(directory_for_predict + '0_df_common.pkl')"
   ]
  },
  {
   "cell_type": "code",
   "execution_count": 7,
   "id": "82d5ae58",
   "metadata": {},
   "outputs": [],
   "source": [
    "for key, val in code.items():\n",
    "    df_company = pd.read_pickle(directory_for_predict + f'df_{val[1]}_company.pkl')\n",
    "    df_company = df_company.merge(df_common, how='left', left_index=True, right_index=True)\n",
    "    globals()[f'df_{val[1]}_combine'] = df_company.copy()"
   ]
  },
  {
   "cell_type": "code",
   "execution_count": 8,
   "id": "6c798e31",
   "metadata": {},
   "outputs": [
    {
     "data": {
      "text/html": [
       "<div>\n",
       "<style scoped>\n",
       "    .dataframe tbody tr th:only-of-type {\n",
       "        vertical-align: middle;\n",
       "    }\n",
       "\n",
       "    .dataframe tbody tr th {\n",
       "        vertical-align: top;\n",
       "    }\n",
       "\n",
       "    .dataframe thead th {\n",
       "        text-align: right;\n",
       "    }\n",
       "</style>\n",
       "<table border=\"1\" class=\"dataframe\">\n",
       "  <thead>\n",
       "    <tr style=\"text-align: right;\">\n",
       "      <th></th>\n",
       "      <th>retail_1</th>\n",
       "      <th>foreigner_1</th>\n",
       "      <th>institution_1</th>\n",
       "      <th>financial_1</th>\n",
       "      <th>invtrust_1</th>\n",
       "      <th>pension_1</th>\n",
       "      <th>privequity_1</th>\n",
       "      <th>bank_1</th>\n",
       "      <th>insurance_1</th>\n",
       "      <th>financeetc_1</th>\n",
       "      <th>...</th>\n",
       "      <th>ixk_cr</th>\n",
       "      <th>ixk_cr_2</th>\n",
       "      <th>ixtr_cr</th>\n",
       "      <th>ixtr_cr_2</th>\n",
       "      <th>ixut_cr</th>\n",
       "      <th>ixut_cr_2</th>\n",
       "      <th>nbi_cr</th>\n",
       "      <th>nbi_cr_2</th>\n",
       "      <th>bkx_cr</th>\n",
       "      <th>bkx_cr_2</th>\n",
       "    </tr>\n",
       "  </thead>\n",
       "  <tbody>\n",
       "    <tr>\n",
       "      <th>2023-12-04</th>\n",
       "      <td>-1.12274</td>\n",
       "      <td>-1.62518</td>\n",
       "      <td>-2.71571</td>\n",
       "      <td>-2.12352</td>\n",
       "      <td>-0.36323</td>\n",
       "      <td>2.73171</td>\n",
       "      <td>0.98148</td>\n",
       "      <td>-0.81818</td>\n",
       "      <td>-0.04256</td>\n",
       "      <td>-1.0</td>\n",
       "      <td>...</td>\n",
       "      <td>0.02%</td>\n",
       "      <td>-0.57178</td>\n",
       "      <td>2.97%</td>\n",
       "      <td>4.14933</td>\n",
       "      <td>0.84%</td>\n",
       "      <td>1.25432</td>\n",
       "      <td>1.38%</td>\n",
       "      <td>2.88599</td>\n",
       "      <td>2.74%</td>\n",
       "      <td>3.72044</td>\n",
       "    </tr>\n",
       "    <tr>\n",
       "      <th>2023-12-05</th>\n",
       "      <td>-8.20295</td>\n",
       "      <td>-1.93280</td>\n",
       "      <td>-0.99370</td>\n",
       "      <td>-1.29456</td>\n",
       "      <td>0.90845</td>\n",
       "      <td>-0.89869</td>\n",
       "      <td>-2.46495</td>\n",
       "      <td>-1.00000</td>\n",
       "      <td>-0.73169</td>\n",
       "      <td>-inf</td>\n",
       "      <td>...</td>\n",
       "      <td>-1.34%</td>\n",
       "      <td>-1.32068</td>\n",
       "      <td>0.82%</td>\n",
       "      <td>3.80784</td>\n",
       "      <td>0.45%</td>\n",
       "      <td>1.29443</td>\n",
       "      <td>0.90%</td>\n",
       "      <td>2.28984</td>\n",
       "      <td>0.48%</td>\n",
       "      <td>3.23796</td>\n",
       "    </tr>\n",
       "    <tr>\n",
       "      <th>2023-12-06</th>\n",
       "      <td>-0.87707</td>\n",
       "      <td>-2.06795</td>\n",
       "      <td>192.09804</td>\n",
       "      <td>-3.73139</td>\n",
       "      <td>-0.22140</td>\n",
       "      <td>-122.80645</td>\n",
       "      <td>-0.98006</td>\n",
       "      <td>inf</td>\n",
       "      <td>-0.56920</td>\n",
       "      <td>-1.0</td>\n",
       "      <td>...</td>\n",
       "      <td>0.85%</td>\n",
       "      <td>-0.50667</td>\n",
       "      <td>-1.36%</td>\n",
       "      <td>-0.55315</td>\n",
       "      <td>-1.76%</td>\n",
       "      <td>-1.31356</td>\n",
       "      <td>-0.23%</td>\n",
       "      <td>0.66046</td>\n",
       "      <td>-1.13%</td>\n",
       "      <td>-0.65322</td>\n",
       "    </tr>\n",
       "    <tr>\n",
       "      <th>2023-12-07</th>\n",
       "      <td>-12.24861</td>\n",
       "      <td>-0.83492</td>\n",
       "      <td>-2.08327</td>\n",
       "      <td>-1.67391</td>\n",
       "      <td>-4.51659</td>\n",
       "      <td>-1.42320</td>\n",
       "      <td>-104.60000</td>\n",
       "      <td>-1.01105</td>\n",
       "      <td>-9.29412</td>\n",
       "      <td>-1.0</td>\n",
       "      <td>...</td>\n",
       "      <td>-0.88%</td>\n",
       "      <td>-0.04331</td>\n",
       "      <td>-0.48%</td>\n",
       "      <td>-1.83424</td>\n",
       "      <td>0.12%</td>\n",
       "      <td>-1.63768</td>\n",
       "      <td>0.61%</td>\n",
       "      <td>0.37701</td>\n",
       "      <td>-0.35%</td>\n",
       "      <td>-1.47126</td>\n",
       "    </tr>\n",
       "    <tr>\n",
       "      <th>2023-12-08</th>\n",
       "      <td>-0.71900</td>\n",
       "      <td>4.11589</td>\n",
       "      <td>-1.46850</td>\n",
       "      <td>-2.58397</td>\n",
       "      <td>-0.66846</td>\n",
       "      <td>-1.07509</td>\n",
       "      <td>-0.40927</td>\n",
       "      <td>10.00000</td>\n",
       "      <td>-1.22313</td>\n",
       "      <td>-inf</td>\n",
       "      <td>...</td>\n",
       "      <td>NaN</td>\n",
       "      <td>NaN</td>\n",
       "      <td>NaN</td>\n",
       "      <td>NaN</td>\n",
       "      <td>NaN</td>\n",
       "      <td>NaN</td>\n",
       "      <td>NaN</td>\n",
       "      <td>NaN</td>\n",
       "      <td>NaN</td>\n",
       "      <td>NaN</td>\n",
       "    </tr>\n",
       "  </tbody>\n",
       "</table>\n",
       "<p>5 rows × 114 columns</p>\n",
       "</div>"
      ],
      "text/plain": [
       "            retail_1  foreigner_1  institution_1  financial_1  invtrust_1   \n",
       "2023-12-04  -1.12274     -1.62518       -2.71571     -2.12352    -0.36323  \\\n",
       "2023-12-05  -8.20295     -1.93280       -0.99370     -1.29456     0.90845   \n",
       "2023-12-06  -0.87707     -2.06795      192.09804     -3.73139    -0.22140   \n",
       "2023-12-07 -12.24861     -0.83492       -2.08327     -1.67391    -4.51659   \n",
       "2023-12-08  -0.71900      4.11589       -1.46850     -2.58397    -0.66846   \n",
       "\n",
       "            pension_1  privequity_1    bank_1  insurance_1  financeetc_1  ...   \n",
       "2023-12-04    2.73171       0.98148  -0.81818     -0.04256          -1.0  ...  \\\n",
       "2023-12-05   -0.89869      -2.46495  -1.00000     -0.73169          -inf  ...   \n",
       "2023-12-06 -122.80645      -0.98006       inf     -0.56920          -1.0  ...   \n",
       "2023-12-07   -1.42320    -104.60000  -1.01105     -9.29412          -1.0  ...   \n",
       "2023-12-08   -1.07509      -0.40927  10.00000     -1.22313          -inf  ...   \n",
       "\n",
       "            ixk_cr  ixk_cr_2  ixtr_cr  ixtr_cr_2  ixut_cr  ixut_cr_2  nbi_cr   \n",
       "2023-12-04   0.02%  -0.57178    2.97%    4.14933    0.84%    1.25432   1.38%  \\\n",
       "2023-12-05  -1.34%  -1.32068    0.82%    3.80784    0.45%    1.29443   0.90%   \n",
       "2023-12-06   0.85%  -0.50667   -1.36%   -0.55315   -1.76%   -1.31356  -0.23%   \n",
       "2023-12-07  -0.88%  -0.04331   -0.48%   -1.83424    0.12%   -1.63768   0.61%   \n",
       "2023-12-08     NaN       NaN      NaN        NaN      NaN        NaN     NaN   \n",
       "\n",
       "            nbi_cr_2  bkx_cr  bkx_cr_2  \n",
       "2023-12-04   2.88599   2.74%   3.72044  \n",
       "2023-12-05   2.28984   0.48%   3.23796  \n",
       "2023-12-06   0.66046  -1.13%  -0.65322  \n",
       "2023-12-07   0.37701  -0.35%  -1.47126  \n",
       "2023-12-08       NaN     NaN       NaN  \n",
       "\n",
       "[5 rows x 114 columns]"
      ]
     },
     "execution_count": 8,
     "metadata": {},
     "output_type": "execute_result"
    }
   ],
   "source": [
    "df_hyunmotor_combine.tail()"
   ]
  },
  {
   "cell_type": "code",
   "execution_count": 9,
   "id": "aeab3342",
   "metadata": {},
   "outputs": [
    {
     "data": {
      "text/plain": [
       "datetime.date(2022, 1, 7)"
      ]
     },
     "execution_count": 9,
     "metadata": {},
     "output_type": "execute_result"
    }
   ],
   "source": [
    "df_hyunmotor_combine.index[0]"
   ]
  },
  {
   "cell_type": "code",
   "execution_count": 10,
   "id": "587ac2cd",
   "metadata": {},
   "outputs": [],
   "source": [
    "col_inv1 = ['retail_1', 'foreigner_1', 'institution_1', 'financial_1', 'invtrust_1', 'pension_1', 'privequity_1', \n",
    "            'bank_1', 'insurance_1', 'financeetc_1', 'corporateetc_1', 'foreigneretc_1']\n",
    "col_inv2 = ['retail_2', 'foreigner_2', 'institution_2', 'financial_2', 'invtrust_2', 'pension_2',\n",
    "            'privequity_2', 'bank_2', 'insurance_2', 'financeetc_2', 'corporateetc_2', 'foreigneretc_2']"
   ]
  },
  {
   "cell_type": "code",
   "execution_count": 11,
   "id": "76ca8389",
   "metadata": {},
   "outputs": [],
   "source": [
    "col_his1 = ['open_1', 'high_1', 'low_1', 'close_1', 'vol_1']\n",
    "col_his2 = ['open_2', 'high_2', 'low_2', 'close_2', 'vol_2']"
   ]
  },
  {
   "cell_type": "code",
   "execution_count": 12,
   "id": "8a6b4bac",
   "metadata": {},
   "outputs": [],
   "source": [
    "col_common1 = [\"dji_cr\", \"dji_f_cr\", \"dxy_cr\", \"ixic_f_cr\", \"bond_kor_10_cr\", \"bond_kor_2_cr\", \"kosdaq_cr\", \"kospi_cr\", \n",
    "         \"krw_cr\", \"ixic_cr\", \"spx_f_cr\", \"sox_cr\", \"spx_cr\", \"bond_usa_10_cr\", \"bond_usa_2_cr\", \"bond_usa_3m_cr\", \n",
    "         \"vix_cr\", \"wti_cr\", \"spsy_cr\", \"spny_cr\", \"spxhc_cr\", \"splrcd_cr\", \"splrci_cr\", \"splrcu_cr\", \"splrcs_cr\",\n",
    "         \"splrct_cr\", \"splrcl_cr\", \"splrcm_cr\", \"ixbk_cr\", \"ixfn_cr\", \"ixid_cr\", \"ixis_cr\", \"ixk_cr\", \"ixtr_cr\",\n",
    "         \"ixut_cr\", \"nbi_cr\", \"bkx_cr\"]\n",
    "col_common2 = [\"dji_cr_2\", \"dji_f_cr_2\", \"dxy_cr_2\", \"ixic_f_cr_2\", \"bond_kor_10_cr_2\", \"bond_kor_2_cr_2\", \"kosdaq_cr_2\", \"kospi_cr_2\",\n",
    "         \"krw_cr_2\", \"ixic_cr_2\", \"spx_f_cr_2\", \"sox_cr_2\", \"spx_cr_2\", \"bond_usa_10_cr_2\", \"bond_usa_2_cr_2\", \"bond_usa_3m_cr_2\",\n",
    "         \"vix_cr_2\", \"wti_cr_2\", \"spsy_cr_2\", \"spny_cr_2\", \"spxhc_cr_2\", \"splrcd_cr_2\", \"splrci_cr_2\", \"splrcu_cr_2\",\n",
    "         \"splrcs_cr_2\", \"splrct_cr_2\", \"splrcl_cr_2\", \"splrcm_cr_2\", \"ixbk_cr_2\", \"ixfn_cr_2\", \"ixid_cr_2\",\n",
    "         \"ixis_cr_2\", \"ixk_cr_2\", \"ixtr_cr_2\", \"ixut_cr_2\", \"nbi_cr_2\", \"bkx_cr_2\"]"
   ]
  },
  {
   "cell_type": "code",
   "execution_count": 13,
   "id": "9a595935",
   "metadata": {},
   "outputs": [],
   "source": [
    "col_cr = ['weekday', 'cr_00', 'cr_05', 'cr_10', 'cr_15', 'cr_20']"
   ]
  },
  {
   "cell_type": "code",
   "execution_count": 14,
   "id": "75ec6070",
   "metadata": {},
   "outputs": [],
   "source": [
    "col_col = col_inv1 + col_common1 + col_his1 + col_inv2 + col_common2 + col_his2 + col_cr"
   ]
  },
  {
   "cell_type": "code",
   "execution_count": 15,
   "id": "ff6769da",
   "metadata": {},
   "outputs": [],
   "source": [
    "# # write common data only\n",
    "# df_temp = df_common.copy()\n",
    "# df_temp = df_temp[col_common1+col_common2]\n",
    "# pkl_common_directory = './data/common_pkl/'\n",
    "# df_temp.to_pickle(pkl_common_directory + 'df_common.pkl')\n",
    "# df_temp.to_csv(pkl_common_directory + 'df_common.csv')"
   ]
  },
  {
   "cell_type": "code",
   "execution_count": 16,
   "id": "c78c8f82",
   "metadata": {},
   "outputs": [],
   "source": [
    "new_columns = col_col"
   ]
  },
  {
   "cell_type": "code",
   "execution_count": 17,
   "id": "02da1256",
   "metadata": {},
   "outputs": [],
   "source": [
    "# column 순서 변경 : weekday, 'cr_00', 'cr_05', 'cr_10', 'cr_15', 'cr_20' column을 마지막으로 이동 \n",
    "for key, val in code.items():\n",
    "    globals()['df_{}_combine'.format(val[1])] = globals()['df_{}_combine'.format(val[1])][new_columns]"
   ]
  },
  {
   "cell_type": "code",
   "execution_count": 18,
   "id": "d4f1fa06",
   "metadata": {},
   "outputs": [
    {
     "data": {
      "text/plain": [
       "'\\n# drop inf, -inf : replace inf to 1 or -1 . 데이터를 살리고\\n# 변동률이 무한대가 되는 것을 방지하기 위해서, 나중에 발생하는 에러를 방지\\ndf_sec_sel.replace([np.inf, -np.inf], [1, -1], inplace=True)\\n\\n.impute 사용하는 것을 고려할 필요 있음.\\n'"
      ]
     },
     "execution_count": 18,
     "metadata": {},
     "output_type": "execute_result"
    }
   ],
   "source": [
    "'''\n",
    "# drop inf, -inf : replace inf to 1 or -1 . 데이터를 살리고\n",
    "# 변동률이 무한대가 되는 것을 방지하기 위해서, 나중에 발생하는 에러를 방지\n",
    "df_sec_sel.replace([np.inf, -np.inf], [1, -1], inplace=True)\n",
    "\n",
    ".impute 사용하는 것을 고려할 필요 있음.\n",
    "'''"
   ]
  },
  {
   "cell_type": "code",
   "execution_count": 19,
   "id": "7e91c1c5",
   "metadata": {},
   "outputs": [],
   "source": [
    "# drop inf, -inf : replace inf to 1 or -1 . 데이터를 살리고\n",
    "# 변동률이 무한대가 되는 것을 방지하기 위해서, 나중에 발생하는 에러를 방지\n",
    "for key, val in code.items():\n",
    "    globals()['df_{}_combine'.format(val[1])].replace([np.inf, -np.inf], [1, -1], inplace=True)\n",
    "\n",
    "# **** 데이터 전처리 from sklearn.impute import SimpleImputer, SimpleImputer 사용하기로 함."
   ]
  },
  {
   "cell_type": "code",
   "execution_count": 20,
   "id": "3fa3914b",
   "metadata": {},
   "outputs": [
    {
     "data": {
      "text/html": [
       "<div>\n",
       "<style scoped>\n",
       "    .dataframe tbody tr th:only-of-type {\n",
       "        vertical-align: middle;\n",
       "    }\n",
       "\n",
       "    .dataframe tbody tr th {\n",
       "        vertical-align: top;\n",
       "    }\n",
       "\n",
       "    .dataframe thead th {\n",
       "        text-align: right;\n",
       "    }\n",
       "</style>\n",
       "<table border=\"1\" class=\"dataframe\">\n",
       "  <thead>\n",
       "    <tr style=\"text-align: right;\">\n",
       "      <th></th>\n",
       "      <th>retail_1</th>\n",
       "      <th>foreigner_1</th>\n",
       "      <th>institution_1</th>\n",
       "      <th>financial_1</th>\n",
       "      <th>invtrust_1</th>\n",
       "      <th>pension_1</th>\n",
       "      <th>privequity_1</th>\n",
       "      <th>bank_1</th>\n",
       "      <th>insurance_1</th>\n",
       "      <th>financeetc_1</th>\n",
       "      <th>...</th>\n",
       "      <th>high_2</th>\n",
       "      <th>low_2</th>\n",
       "      <th>close_2</th>\n",
       "      <th>vol_2</th>\n",
       "      <th>weekday</th>\n",
       "      <th>cr_00</th>\n",
       "      <th>cr_05</th>\n",
       "      <th>cr_10</th>\n",
       "      <th>cr_15</th>\n",
       "      <th>cr_20</th>\n",
       "    </tr>\n",
       "  </thead>\n",
       "  <tbody>\n",
       "    <tr>\n",
       "      <th>2023-12-04</th>\n",
       "      <td>-4.59956</td>\n",
       "      <td>-0.74120</td>\n",
       "      <td>-1.72817</td>\n",
       "      <td>-1.47324</td>\n",
       "      <td>2.15534</td>\n",
       "      <td>0.81810</td>\n",
       "      <td>-20.26720</td>\n",
       "      <td>0.60541</td>\n",
       "      <td>-0.82783</td>\n",
       "      <td>5.71429</td>\n",
       "      <td>...</td>\n",
       "      <td>-0.00412</td>\n",
       "      <td>-0.00693</td>\n",
       "      <td>-0.00963</td>\n",
       "      <td>0.06327</td>\n",
       "      <td>4</td>\n",
       "      <td>1</td>\n",
       "      <td>1</td>\n",
       "      <td>0</td>\n",
       "      <td>0</td>\n",
       "      <td>0</td>\n",
       "    </tr>\n",
       "    <tr>\n",
       "      <th>2023-12-05</th>\n",
       "      <td>-2.74013</td>\n",
       "      <td>-7.83582</td>\n",
       "      <td>-1.44672</td>\n",
       "      <td>-1.87397</td>\n",
       "      <td>-0.43960</td>\n",
       "      <td>-1.05536</td>\n",
       "      <td>-1.06892</td>\n",
       "      <td>2.49158</td>\n",
       "      <td>-0.12706</td>\n",
       "      <td>2.59574</td>\n",
       "      <td>...</td>\n",
       "      <td>0.00137</td>\n",
       "      <td>0.00277</td>\n",
       "      <td>-0.00275</td>\n",
       "      <td>-0.35191</td>\n",
       "      <td>0</td>\n",
       "      <td>0</td>\n",
       "      <td>0</td>\n",
       "      <td>0</td>\n",
       "      <td>0</td>\n",
       "      <td>0</td>\n",
       "    </tr>\n",
       "    <tr>\n",
       "      <th>2023-12-06</th>\n",
       "      <td>-2.02716</td>\n",
       "      <td>-1.61391</td>\n",
       "      <td>-3.63277</td>\n",
       "      <td>-2.41523</td>\n",
       "      <td>1.48620</td>\n",
       "      <td>-14.37252</td>\n",
       "      <td>-8.38223</td>\n",
       "      <td>-0.74831</td>\n",
       "      <td>3.68268</td>\n",
       "      <td>7.52663</td>\n",
       "      <td>...</td>\n",
       "      <td>-0.00138</td>\n",
       "      <td>-0.00697</td>\n",
       "      <td>-0.01111</td>\n",
       "      <td>0.22878</td>\n",
       "      <td>1</td>\n",
       "      <td>1</td>\n",
       "      <td>1</td>\n",
       "      <td>0</td>\n",
       "      <td>0</td>\n",
       "      <td>0</td>\n",
       "    </tr>\n",
       "    <tr>\n",
       "      <th>2023-12-07</th>\n",
       "      <td>-1.56113</td>\n",
       "      <td>-1.59544</td>\n",
       "      <td>-1.55648</td>\n",
       "      <td>-2.35187</td>\n",
       "      <td>-0.62817</td>\n",
       "      <td>-2.41394</td>\n",
       "      <td>-0.44284</td>\n",
       "      <td>-0.99617</td>\n",
       "      <td>-0.33851</td>\n",
       "      <td>-0.80985</td>\n",
       "      <td>...</td>\n",
       "      <td>-0.01097</td>\n",
       "      <td>-0.01105</td>\n",
       "      <td>-0.01240</td>\n",
       "      <td>-0.20590</td>\n",
       "      <td>2</td>\n",
       "      <td>0</td>\n",
       "      <td>0</td>\n",
       "      <td>0</td>\n",
       "      <td>0</td>\n",
       "      <td>0</td>\n",
       "    </tr>\n",
       "    <tr>\n",
       "      <th>2023-12-08</th>\n",
       "      <td>-0.95069</td>\n",
       "      <td>1.66278</td>\n",
       "      <td>-3.46173</td>\n",
       "      <td>-2.09530</td>\n",
       "      <td>0.30025</td>\n",
       "      <td>-1.30661</td>\n",
       "      <td>2.45959</td>\n",
       "      <td>363.00000</td>\n",
       "      <td>-1.02115</td>\n",
       "      <td>2.44891</td>\n",
       "      <td>...</td>\n",
       "      <td>-0.00691</td>\n",
       "      <td>-0.00140</td>\n",
       "      <td>0.00421</td>\n",
       "      <td>-0.27039</td>\n",
       "      <td>3</td>\n",
       "      <td>0</td>\n",
       "      <td>0</td>\n",
       "      <td>0</td>\n",
       "      <td>0</td>\n",
       "      <td>0</td>\n",
       "    </tr>\n",
       "  </tbody>\n",
       "</table>\n",
       "<p>5 rows × 114 columns</p>\n",
       "</div>"
      ],
      "text/plain": [
       "            retail_1  foreigner_1  institution_1  financial_1  invtrust_1   \n",
       "2023-12-04  -4.59956     -0.74120       -1.72817     -1.47324     2.15534  \\\n",
       "2023-12-05  -2.74013     -7.83582       -1.44672     -1.87397    -0.43960   \n",
       "2023-12-06  -2.02716     -1.61391       -3.63277     -2.41523     1.48620   \n",
       "2023-12-07  -1.56113     -1.59544       -1.55648     -2.35187    -0.62817   \n",
       "2023-12-08  -0.95069      1.66278       -3.46173     -2.09530     0.30025   \n",
       "\n",
       "            pension_1  privequity_1     bank_1  insurance_1  financeetc_1   \n",
       "2023-12-04    0.81810     -20.26720    0.60541     -0.82783       5.71429  \\\n",
       "2023-12-05   -1.05536      -1.06892    2.49158     -0.12706       2.59574   \n",
       "2023-12-06  -14.37252      -8.38223   -0.74831      3.68268       7.52663   \n",
       "2023-12-07   -2.41394      -0.44284   -0.99617     -0.33851      -0.80985   \n",
       "2023-12-08   -1.30661       2.45959  363.00000     -1.02115       2.44891   \n",
       "\n",
       "            ...   high_2    low_2  close_2    vol_2  weekday  cr_00 cr_05   \n",
       "2023-12-04  ... -0.00412 -0.00693 -0.00963  0.06327        4      1     1  \\\n",
       "2023-12-05  ...  0.00137  0.00277 -0.00275 -0.35191        0      0     0   \n",
       "2023-12-06  ... -0.00138 -0.00697 -0.01111  0.22878        1      1     1   \n",
       "2023-12-07  ... -0.01097 -0.01105 -0.01240 -0.20590        2      0     0   \n",
       "2023-12-08  ... -0.00691 -0.00140  0.00421 -0.27039        3      0     0   \n",
       "\n",
       "           cr_10  cr_15  cr_20  \n",
       "2023-12-04     0      0      0  \n",
       "2023-12-05     0      0      0  \n",
       "2023-12-06     0      0      0  \n",
       "2023-12-07     0      0      0  \n",
       "2023-12-08     0      0      0  \n",
       "\n",
       "[5 rows x 114 columns]"
      ]
     },
     "execution_count": 20,
     "metadata": {},
     "output_type": "execute_result"
    }
   ],
   "source": [
    "df_sec_combine.tail()"
   ]
  },
  {
   "cell_type": "code",
   "execution_count": 21,
   "id": "bf7224df",
   "metadata": {},
   "outputs": [],
   "source": [
    "nanlo = locate_nan(df_sec_combine)  # nan 위치 찾기"
   ]
  },
  {
   "cell_type": "code",
   "execution_count": 22,
   "id": "2f63d7f5",
   "metadata": {},
   "outputs": [
    {
     "name": "stdout",
     "output_type": "stream",
     "text": [
      "[[datetime.date(2022, 1, 18) 'dji_cr']\n",
      " [datetime.date(2022, 1, 18) 'dji_f_cr']\n",
      " [datetime.date(2022, 1, 18) 'dxy_cr']\n",
      " ...\n",
      " [datetime.date(2023, 12, 8) 'ixut_cr_2']\n",
      " [datetime.date(2023, 12, 8) 'nbi_cr_2']\n",
      " [datetime.date(2023, 12, 8) 'bkx_cr_2']]\n"
     ]
    }
   ],
   "source": [
    "print(nanlo)"
   ]
  },
  {
   "cell_type": "code",
   "execution_count": 23,
   "id": "21a6d628",
   "metadata": {},
   "outputs": [],
   "source": [
    "# delete rows which include NaN : dji, spx, nasdaq 기타 common 지수중 한개라도 nan인 rows 제거\n",
    "for key, val in code.items():\n",
    "    globals()['df_{}_combine'.format(val[1])].dropna(inplace=True)"
   ]
  },
  {
   "cell_type": "code",
   "execution_count": 24,
   "id": "c6f3061c",
   "metadata": {},
   "outputs": [],
   "source": [
    "# string column을 numeric으로 전환\n",
    "def string_to_num(df):\n",
    "    df.replace('%', '', regex=True, inplace=True)\n",
    "    df = df.apply(pd.to_numeric)\n",
    "    return df\n",
    "\n",
    "for key, val in code.items():\n",
    "    globals()['df_{}_combine'.format(val[1])] = string_to_num(globals()['df_{}_combine'.format(val[1])])"
   ]
  },
  {
   "cell_type": "code",
   "execution_count": 25,
   "id": "7e8d5acf",
   "metadata": {},
   "outputs": [],
   "source": [
    "# pickle로 데이터 저장\n",
    "\n",
    "for key, val in code.items():\n",
    "    globals()[f'df_{val[1]}_combine'].to_pickle(directory_for_predict + f'df_{val[1]}_combine.pkl')\n",
    "    globals()[f'df_{val[1]}_combine'].to_csv(directory_for_predict + f'df_{val[1]}_combine.csv')"
   ]
  },
  {
   "cell_type": "code",
   "execution_count": null,
   "id": "a01825d3",
   "metadata": {},
   "outputs": [],
   "source": []
  },
  {
   "cell_type": "code",
   "execution_count": null,
   "id": "3300e5b2",
   "metadata": {},
   "outputs": [],
   "source": []
  },
  {
   "cell_type": "code",
   "execution_count": null,
   "id": "1ffeab80",
   "metadata": {},
   "outputs": [],
   "source": []
  },
  {
   "cell_type": "code",
   "execution_count": null,
   "id": "a1f7c9d1",
   "metadata": {},
   "outputs": [],
   "source": []
  },
  {
   "cell_type": "code",
   "execution_count": null,
   "id": "bc80b897",
   "metadata": {},
   "outputs": [],
   "source": []
  }
 ],
 "metadata": {
  "kernelspec": {
   "display_name": "Python 3 (ipykernel)",
   "language": "python",
   "name": "python3"
  },
  "language_info": {
   "codemirror_mode": {
    "name": "ipython",
    "version": 3
   },
   "file_extension": ".py",
   "mimetype": "text/x-python",
   "name": "python",
   "nbconvert_exporter": "python",
   "pygments_lexer": "ipython3",
   "version": "3.9.1"
  }
 },
 "nbformat": 4,
 "nbformat_minor": 5
}
