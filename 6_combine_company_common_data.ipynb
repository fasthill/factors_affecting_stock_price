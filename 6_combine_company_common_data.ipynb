{
 "cells": [
  {
   "cell_type": "markdown",
   "id": "459ff0ca",
   "metadata": {},
   "source": [
    "## combine company data and common data"
   ]
  },
  {
   "cell_type": "code",
   "execution_count": 1,
   "id": "d3b5a935",
   "metadata": {},
   "outputs": [],
   "source": [
    "import datetime, time\n",
    "from datetime import date\n",
    "\n",
    "import pandas as pd\n",
    "import numpy as np\n",
    "import os\n",
    "import sys\n",
    "\n",
    "from sklearn.preprocessing import StandardScaler"
   ]
  },
  {
   "cell_type": "code",
   "execution_count": 2,
   "id": "8ef51f99",
   "metadata": {},
   "outputs": [],
   "source": [
    "module_path = os.path.abspath(os.path.join('.')) \n",
    "sys.path.append(module_path+\"\\\\data\\\\constant\")\n",
    "\n",
    "from constants import COMPANY_CODE"
   ]
  },
  {
   "cell_type": "code",
   "execution_count": 3,
   "id": "9ea60572",
   "metadata": {},
   "outputs": [
    {
     "data": {
      "text/plain": [
       "\" \\n[[datetime.date(2022, 1, 17) 'dji_cr']\\n [datetime.date(2022, 1, 17) 'dji_f_cr']\\n ...\\n [datetime.date(2023, 5, 23) 'kosdaq_cr']\\n [datetime.date(2023, 5, 23) 'kosdaq_cr_2']]\\n\""
      ]
     },
     "execution_count": 3,
     "metadata": {},
     "output_type": "execute_result"
    }
   ],
   "source": [
    "def locate_nan(df):\n",
    "    idx, idy = np.where(pd.isnull(df))\n",
    "    result = np.column_stack([df.index[idx], df.columns[idy]])\n",
    "    return result\n",
    "\n",
    "# return format\n",
    "''' \n",
    "[[datetime.date(2022, 1, 17) 'dji_cr']\n",
    " [datetime.date(2022, 1, 17) 'dji_f_cr']\n",
    " ...\n",
    " [datetime.date(2023, 5, 23) 'kosdaq_cr']\n",
    " [datetime.date(2023, 5, 23) 'kosdaq_cr_2']]\n",
    "'''"
   ]
  },
  {
   "cell_type": "code",
   "execution_count": 4,
   "id": "d6f9e0c8",
   "metadata": {},
   "outputs": [],
   "source": [
    "code = COMPANY_CODE\n",
    "\n",
    "# code = {'005930': ['삼성전자', 'sec'], '005380': ['현대차', 'hyunmotor'],\n",
    "#                  '035420': ['NAVER', 'naver'], '033780': ['KT&G', 'ktng']}\n",
    "# code = {'005930': ['삼성전자', 'sec'], '000660': ['SK하이닉스', 'skhynix']}\n",
    "# code = {'302440': ['SK바이오사이언스', 'skbio']}"
   ]
  },
  {
   "cell_type": "code",
   "execution_count": 5,
   "id": "1ced9635",
   "metadata": {},
   "outputs": [],
   "source": [
    "directory_for_predict = './data/data_for_ml/predict/'\n",
    "pkl_common_directory = './data/common_pkl/'\n",
    "pkl_directory = './data/common_pkl/'"
   ]
  },
  {
   "cell_type": "code",
   "execution_count": 6,
   "id": "a4ac3c16",
   "metadata": {},
   "outputs": [],
   "source": [
    "df_common = pd.read_pickle(directory_for_predict + '0_df_common.pkl')"
   ]
  },
  {
   "cell_type": "code",
   "execution_count": 7,
   "id": "82d5ae58",
   "metadata": {},
   "outputs": [],
   "source": [
    "for key, val in code.items():\n",
    "    df_company = pd.read_pickle(directory_for_predict + f'df_{val[1]}_company.pkl')\n",
    "    df_company = df_company.merge(df_common, how='left', left_index=True, right_index=True)\n",
    "    globals()[f'df_{val[1]}_combine'] = df_company.copy()"
   ]
  },
  {
   "cell_type": "code",
   "execution_count": 8,
   "id": "6c798e31",
   "metadata": {},
   "outputs": [
    {
     "data": {
      "text/html": [
       "<div>\n",
       "<style scoped>\n",
       "    .dataframe tbody tr th:only-of-type {\n",
       "        vertical-align: middle;\n",
       "    }\n",
       "\n",
       "    .dataframe tbody tr th {\n",
       "        vertical-align: top;\n",
       "    }\n",
       "\n",
       "    .dataframe thead th {\n",
       "        text-align: right;\n",
       "    }\n",
       "</style>\n",
       "<table border=\"1\" class=\"dataframe\">\n",
       "  <thead>\n",
       "    <tr style=\"text-align: right;\">\n",
       "      <th></th>\n",
       "      <th>retail_1</th>\n",
       "      <th>foreigner_1</th>\n",
       "      <th>institution_1</th>\n",
       "      <th>financial_1</th>\n",
       "      <th>invtrust_1</th>\n",
       "      <th>pension_1</th>\n",
       "      <th>privequity_1</th>\n",
       "      <th>bank_1</th>\n",
       "      <th>insurance_1</th>\n",
       "      <th>financeetc_1</th>\n",
       "      <th>...</th>\n",
       "      <th>ixk_cr</th>\n",
       "      <th>ixk_cr_2</th>\n",
       "      <th>ixtr_cr</th>\n",
       "      <th>ixtr_cr_2</th>\n",
       "      <th>ixut_cr</th>\n",
       "      <th>ixut_cr_2</th>\n",
       "      <th>nbi_cr</th>\n",
       "      <th>nbi_cr_2</th>\n",
       "      <th>bkx_cr</th>\n",
       "      <th>bkx_cr_2</th>\n",
       "    </tr>\n",
       "  </thead>\n",
       "  <tbody>\n",
       "    <tr>\n",
       "      <th>2024-04-12</th>\n",
       "      <td>-7.04156</td>\n",
       "      <td>-6.53620</td>\n",
       "      <td>-4.96484</td>\n",
       "      <td>21.17293</td>\n",
       "      <td>1.61182</td>\n",
       "      <td>26.00408</td>\n",
       "      <td>3.04665</td>\n",
       "      <td>-1.38462</td>\n",
       "      <td>-35.04054</td>\n",
       "      <td>-1.24490</td>\n",
       "      <td>...</td>\n",
       "      <td>2.34%</td>\n",
       "      <td>1.76779</td>\n",
       "      <td>0.59%</td>\n",
       "      <td>-1.34122</td>\n",
       "      <td>0.70%</td>\n",
       "      <td>-0.65336</td>\n",
       "      <td>0.59%</td>\n",
       "      <td>-0.98529</td>\n",
       "      <td>-0.76%</td>\n",
       "      <td>-3.74239</td>\n",
       "    </tr>\n",
       "    <tr>\n",
       "      <th>2024-04-15</th>\n",
       "      <td>-1.00940</td>\n",
       "      <td>-0.58294</td>\n",
       "      <td>2.40998</td>\n",
       "      <td>-0.33473</td>\n",
       "      <td>-1.48395</td>\n",
       "      <td>-1.43856</td>\n",
       "      <td>-1.83319</td>\n",
       "      <td>-0.55294</td>\n",
       "      <td>-1.76578</td>\n",
       "      <td>-1.00000</td>\n",
       "      <td>...</td>\n",
       "      <td>-1.61%</td>\n",
       "      <td>0.69539</td>\n",
       "      <td>-1.04%</td>\n",
       "      <td>-0.45413</td>\n",
       "      <td>-1.68%</td>\n",
       "      <td>-0.99725</td>\n",
       "      <td>-2.14%</td>\n",
       "      <td>-1.56298</td>\n",
       "      <td>-1.47%</td>\n",
       "      <td>-2.21336</td>\n",
       "    </tr>\n",
       "    <tr>\n",
       "      <th>2024-04-16</th>\n",
       "      <td>-50.49490</td>\n",
       "      <td>-0.43634</td>\n",
       "      <td>-1.40126</td>\n",
       "      <td>-1.05681</td>\n",
       "      <td>-1.21948</td>\n",
       "      <td>-3.68551</td>\n",
       "      <td>-1.21827</td>\n",
       "      <td>-11.52632</td>\n",
       "      <td>-1.35459</td>\n",
       "      <td>-inf</td>\n",
       "      <td>...</td>\n",
       "      <td>-2.00%</td>\n",
       "      <td>-3.58272</td>\n",
       "      <td>-0.72%</td>\n",
       "      <td>-1.74935</td>\n",
       "      <td>-0.35%</td>\n",
       "      <td>-2.02971</td>\n",
       "      <td>-1.12%</td>\n",
       "      <td>-3.23788</td>\n",
       "      <td>0.31%</td>\n",
       "      <td>-1.16536</td>\n",
       "    </tr>\n",
       "    <tr>\n",
       "      <th>2024-04-17</th>\n",
       "      <td>-0.27057</td>\n",
       "      <td>0.68945</td>\n",
       "      <td>-1.58019</td>\n",
       "      <td>-7.02323</td>\n",
       "      <td>3.86224</td>\n",
       "      <td>-1.32713</td>\n",
       "      <td>-1.98324</td>\n",
       "      <td>-0.82250</td>\n",
       "      <td>1.94883</td>\n",
       "      <td>-0.50000</td>\n",
       "      <td>...</td>\n",
       "      <td>0.11%</td>\n",
       "      <td>-1.89457</td>\n",
       "      <td>-0.61%</td>\n",
       "      <td>-1.31839</td>\n",
       "      <td>-0.44%</td>\n",
       "      <td>-0.79219</td>\n",
       "      <td>-0.67%</td>\n",
       "      <td>-1.78135</td>\n",
       "      <td>-1.63%</td>\n",
       "      <td>-1.32545</td>\n",
       "    </tr>\n",
       "    <tr>\n",
       "      <th>2024-04-18</th>\n",
       "      <td>-1.72095</td>\n",
       "      <td>-0.79508</td>\n",
       "      <td>1.86871</td>\n",
       "      <td>0.70885</td>\n",
       "      <td>-1.86647</td>\n",
       "      <td>-0.17693</td>\n",
       "      <td>3.83484</td>\n",
       "      <td>2.02817</td>\n",
       "      <td>-0.97422</td>\n",
       "      <td>-5.61538</td>\n",
       "      <td>...</td>\n",
       "      <td>NaN</td>\n",
       "      <td>NaN</td>\n",
       "      <td>NaN</td>\n",
       "      <td>NaN</td>\n",
       "      <td>NaN</td>\n",
       "      <td>NaN</td>\n",
       "      <td>NaN</td>\n",
       "      <td>NaN</td>\n",
       "      <td>NaN</td>\n",
       "      <td>NaN</td>\n",
       "    </tr>\n",
       "  </tbody>\n",
       "</table>\n",
       "<p>5 rows × 114 columns</p>\n",
       "</div>"
      ],
      "text/plain": [
       "            retail_1  foreigner_1  institution_1  financial_1  invtrust_1   \n",
       "2024-04-12  -7.04156     -6.53620       -4.96484     21.17293     1.61182  \\\n",
       "2024-04-15  -1.00940     -0.58294        2.40998     -0.33473    -1.48395   \n",
       "2024-04-16 -50.49490     -0.43634       -1.40126     -1.05681    -1.21948   \n",
       "2024-04-17  -0.27057      0.68945       -1.58019     -7.02323     3.86224   \n",
       "2024-04-18  -1.72095     -0.79508        1.86871      0.70885    -1.86647   \n",
       "\n",
       "            pension_1  privequity_1    bank_1  insurance_1  financeetc_1  ...   \n",
       "2024-04-12   26.00408       3.04665  -1.38462    -35.04054      -1.24490  ...  \\\n",
       "2024-04-15   -1.43856      -1.83319  -0.55294     -1.76578      -1.00000  ...   \n",
       "2024-04-16   -3.68551      -1.21827 -11.52632     -1.35459          -inf  ...   \n",
       "2024-04-17   -1.32713      -1.98324  -0.82250      1.94883      -0.50000  ...   \n",
       "2024-04-18   -0.17693       3.83484   2.02817     -0.97422      -5.61538  ...   \n",
       "\n",
       "            ixk_cr  ixk_cr_2  ixtr_cr  ixtr_cr_2  ixut_cr  ixut_cr_2  nbi_cr   \n",
       "2024-04-12   2.34%   1.76779    0.59%   -1.34122    0.70%   -0.65336   0.59%  \\\n",
       "2024-04-15  -1.61%   0.69539   -1.04%   -0.45413   -1.68%   -0.99725  -2.14%   \n",
       "2024-04-16  -2.00%  -3.58272   -0.72%   -1.74935   -0.35%   -2.02971  -1.12%   \n",
       "2024-04-17   0.11%  -1.89457   -0.61%   -1.31839   -0.44%   -0.79219  -0.67%   \n",
       "2024-04-18     NaN       NaN      NaN        NaN      NaN        NaN     NaN   \n",
       "\n",
       "            nbi_cr_2  bkx_cr  bkx_cr_2  \n",
       "2024-04-12  -0.98529  -0.76%  -3.74239  \n",
       "2024-04-15  -1.56298  -1.47%  -2.21336  \n",
       "2024-04-16  -3.23788   0.31%  -1.16536  \n",
       "2024-04-17  -1.78135  -1.63%  -1.32545  \n",
       "2024-04-18       NaN     NaN       NaN  \n",
       "\n",
       "[5 rows x 114 columns]"
      ]
     },
     "execution_count": 8,
     "metadata": {},
     "output_type": "execute_result"
    }
   ],
   "source": [
    "df_hyunmotor_combine.tail()"
   ]
  },
  {
   "cell_type": "code",
   "execution_count": 9,
   "id": "aeab3342",
   "metadata": {},
   "outputs": [
    {
     "data": {
      "text/plain": [
       "datetime.date(2022, 1, 7)"
      ]
     },
     "execution_count": 9,
     "metadata": {},
     "output_type": "execute_result"
    }
   ],
   "source": [
    "df_hyunmotor_combine.index[0]"
   ]
  },
  {
   "cell_type": "code",
   "execution_count": 10,
   "id": "587ac2cd",
   "metadata": {},
   "outputs": [],
   "source": [
    "col_inv1 = ['retail_1', 'foreigner_1', 'institution_1', 'financial_1', 'invtrust_1', 'pension_1', 'privequity_1', \n",
    "            'bank_1', 'insurance_1', 'financeetc_1', 'corporateetc_1', 'foreigneretc_1']\n",
    "col_inv2 = ['retail_2', 'foreigner_2', 'institution_2', 'financial_2', 'invtrust_2', 'pension_2',\n",
    "            'privequity_2', 'bank_2', 'insurance_2', 'financeetc_2', 'corporateetc_2', 'foreigneretc_2']"
   ]
  },
  {
   "cell_type": "code",
   "execution_count": 11,
   "id": "76ca8389",
   "metadata": {},
   "outputs": [],
   "source": [
    "col_his1 = ['open_1', 'high_1', 'low_1', 'close_1', 'vol_1']\n",
    "col_his2 = ['open_2', 'high_2', 'low_2', 'close_2', 'vol_2']"
   ]
  },
  {
   "cell_type": "code",
   "execution_count": 12,
   "id": "8a6b4bac",
   "metadata": {},
   "outputs": [],
   "source": [
    "col_common1 = [\"dji_cr\", \"dji_f_cr\", \"dxy_cr\", \"ixic_f_cr\", \"bond_kor_10_cr\", \"bond_kor_2_cr\", \"kosdaq_cr\", \"kospi_cr\", \n",
    "         \"krw_cr\", \"ixic_cr\", \"spx_f_cr\", \"sox_cr\", \"spx_cr\", \"bond_usa_10_cr\", \"bond_usa_2_cr\", \"bond_usa_3m_cr\", \n",
    "         \"vix_cr\", \"wti_cr\", \"spsy_cr\", \"spny_cr\", \"spxhc_cr\", \"splrcd_cr\", \"splrci_cr\", \"splrcu_cr\", \"splrcs_cr\",\n",
    "         \"splrct_cr\", \"splrcl_cr\", \"splrcm_cr\", \"ixbk_cr\", \"ixfn_cr\", \"ixid_cr\", \"ixis_cr\", \"ixk_cr\", \"ixtr_cr\",\n",
    "         \"ixut_cr\", \"nbi_cr\", \"bkx_cr\"]\n",
    "col_common2 = [\"dji_cr_2\", \"dji_f_cr_2\", \"dxy_cr_2\", \"ixic_f_cr_2\", \"bond_kor_10_cr_2\", \"bond_kor_2_cr_2\", \"kosdaq_cr_2\", \"kospi_cr_2\",\n",
    "         \"krw_cr_2\", \"ixic_cr_2\", \"spx_f_cr_2\", \"sox_cr_2\", \"spx_cr_2\", \"bond_usa_10_cr_2\", \"bond_usa_2_cr_2\", \"bond_usa_3m_cr_2\",\n",
    "         \"vix_cr_2\", \"wti_cr_2\", \"spsy_cr_2\", \"spny_cr_2\", \"spxhc_cr_2\", \"splrcd_cr_2\", \"splrci_cr_2\", \"splrcu_cr_2\",\n",
    "         \"splrcs_cr_2\", \"splrct_cr_2\", \"splrcl_cr_2\", \"splrcm_cr_2\", \"ixbk_cr_2\", \"ixfn_cr_2\", \"ixid_cr_2\",\n",
    "         \"ixis_cr_2\", \"ixk_cr_2\", \"ixtr_cr_2\", \"ixut_cr_2\", \"nbi_cr_2\", \"bkx_cr_2\"]"
   ]
  },
  {
   "cell_type": "code",
   "execution_count": 13,
   "id": "9a595935",
   "metadata": {},
   "outputs": [],
   "source": [
    "col_cr = ['weekday', 'cr_00', 'cr_05', 'cr_10', 'cr_15', 'cr_20']"
   ]
  },
  {
   "cell_type": "code",
   "execution_count": 14,
   "id": "75ec6070",
   "metadata": {},
   "outputs": [],
   "source": [
    "col_col = col_inv1 + col_common1 + col_his1 + col_inv2 + col_common2 + col_his2 + col_cr"
   ]
  },
  {
   "cell_type": "code",
   "execution_count": 15,
   "id": "ff6769da",
   "metadata": {},
   "outputs": [],
   "source": [
    "# # write common data only\n",
    "# df_temp = df_common.copy()\n",
    "# df_temp = df_temp[col_common1+col_common2]\n",
    "# pkl_common_directory = './data/common_pkl/'\n",
    "# df_temp.to_pickle(pkl_common_directory + 'df_common.pkl')\n",
    "# df_temp.to_csv(pkl_common_directory + 'df_common.csv')"
   ]
  },
  {
   "cell_type": "code",
   "execution_count": 16,
   "id": "c78c8f82",
   "metadata": {},
   "outputs": [],
   "source": [
    "new_columns = col_col"
   ]
  },
  {
   "cell_type": "code",
   "execution_count": 17,
   "id": "02da1256",
   "metadata": {},
   "outputs": [],
   "source": [
    "# column 순서 변경 : weekday, 'cr_00', 'cr_05', 'cr_10', 'cr_15', 'cr_20' column을 마지막으로 이동 \n",
    "for key, val in code.items():\n",
    "    globals()['df_{}_combine'.format(val[1])] = globals()['df_{}_combine'.format(val[1])][new_columns]"
   ]
  },
  {
   "cell_type": "code",
   "execution_count": 18,
   "id": "d4f1fa06",
   "metadata": {},
   "outputs": [
    {
     "data": {
      "text/plain": [
       "'\\n# drop inf, -inf : replace inf to 1 or -1 . 데이터를 살리고\\n# 변동률이 무한대가 되는 것을 방지하기 위해서, 나중에 발생하는 에러를 방지\\ndf_sec_sel.replace([np.inf, -np.inf], [1, -1], inplace=True)\\n\\n.impute 사용하는 것을 고려할 필요 있음.\\n'"
      ]
     },
     "execution_count": 18,
     "metadata": {},
     "output_type": "execute_result"
    }
   ],
   "source": [
    "'''\n",
    "# drop inf, -inf : replace inf to 1 or -1 . 데이터를 살리고\n",
    "# 변동률이 무한대가 되는 것을 방지하기 위해서, 나중에 발생하는 에러를 방지\n",
    "df_sec_sel.replace([np.inf, -np.inf], [1, -1], inplace=True)\n",
    "\n",
    ".impute 사용하는 것을 고려할 필요 있음.\n",
    "'''"
   ]
  },
  {
   "cell_type": "code",
   "execution_count": 19,
   "id": "7e91c1c5",
   "metadata": {},
   "outputs": [],
   "source": [
    "# drop inf, -inf : replace inf to 1 or -1 . 데이터를 살리고\n",
    "# 변동률이 무한대가 되는 것을 방지하기 위해서, 나중에 발생하는 에러를 방지\n",
    "for key, val in code.items():\n",
    "    globals()['df_{}_combine'.format(val[1])].replace([np.inf, -np.inf], [1, -1], inplace=True)\n",
    "\n",
    "# **** 데이터 전처리 from sklearn.impute import SimpleImputer, SimpleImputer 사용하기로 함."
   ]
  },
  {
   "cell_type": "code",
   "execution_count": 20,
   "id": "3fa3914b",
   "metadata": {},
   "outputs": [
    {
     "data": {
      "text/html": [
       "<div>\n",
       "<style scoped>\n",
       "    .dataframe tbody tr th:only-of-type {\n",
       "        vertical-align: middle;\n",
       "    }\n",
       "\n",
       "    .dataframe tbody tr th {\n",
       "        vertical-align: top;\n",
       "    }\n",
       "\n",
       "    .dataframe thead th {\n",
       "        text-align: right;\n",
       "    }\n",
       "</style>\n",
       "<table border=\"1\" class=\"dataframe\">\n",
       "  <thead>\n",
       "    <tr style=\"text-align: right;\">\n",
       "      <th></th>\n",
       "      <th>retail_1</th>\n",
       "      <th>foreigner_1</th>\n",
       "      <th>institution_1</th>\n",
       "      <th>financial_1</th>\n",
       "      <th>invtrust_1</th>\n",
       "      <th>pension_1</th>\n",
       "      <th>privequity_1</th>\n",
       "      <th>bank_1</th>\n",
       "      <th>insurance_1</th>\n",
       "      <th>financeetc_1</th>\n",
       "      <th>...</th>\n",
       "      <th>high_2</th>\n",
       "      <th>low_2</th>\n",
       "      <th>close_2</th>\n",
       "      <th>vol_2</th>\n",
       "      <th>weekday</th>\n",
       "      <th>cr_00</th>\n",
       "      <th>cr_05</th>\n",
       "      <th>cr_10</th>\n",
       "      <th>cr_15</th>\n",
       "      <th>cr_20</th>\n",
       "    </tr>\n",
       "  </thead>\n",
       "  <tbody>\n",
       "    <tr>\n",
       "      <th>2024-04-12</th>\n",
       "      <td>-11.27839</td>\n",
       "      <td>0.32788</td>\n",
       "      <td>0.10220</td>\n",
       "      <td>-476.95174</td>\n",
       "      <td>-0.77865</td>\n",
       "      <td>-13.59244</td>\n",
       "      <td>1.58401</td>\n",
       "      <td>-0.99810</td>\n",
       "      <td>22.07646</td>\n",
       "      <td>-1.46507</td>\n",
       "      <td>...</td>\n",
       "      <td>-0.01512</td>\n",
       "      <td>-0.02367</td>\n",
       "      <td>-0.00473</td>\n",
       "      <td>0.34742</td>\n",
       "      <td>3</td>\n",
       "      <td>0</td>\n",
       "      <td>0</td>\n",
       "      <td>0</td>\n",
       "      <td>0</td>\n",
       "      <td>0</td>\n",
       "    </tr>\n",
       "    <tr>\n",
       "      <th>2024-04-15</th>\n",
       "      <td>-2.48927</td>\n",
       "      <td>-0.88643</td>\n",
       "      <td>-0.65483</td>\n",
       "      <td>-0.61460</td>\n",
       "      <td>13.64661</td>\n",
       "      <td>0.38511</td>\n",
       "      <td>-0.35514</td>\n",
       "      <td>1.02163</td>\n",
       "      <td>-0.98814</td>\n",
       "      <td>5.64378</td>\n",
       "      <td>...</td>\n",
       "      <td>0.00000</td>\n",
       "      <td>0.00120</td>\n",
       "      <td>0.00120</td>\n",
       "      <td>-0.28088</td>\n",
       "      <td>4</td>\n",
       "      <td>0</td>\n",
       "      <td>0</td>\n",
       "      <td>0</td>\n",
       "      <td>0</td>\n",
       "      <td>0</td>\n",
       "    </tr>\n",
       "    <tr>\n",
       "      <th>2024-04-16</th>\n",
       "      <td>0.36818</td>\n",
       "      <td>-2.12131</td>\n",
       "      <td>-0.53877</td>\n",
       "      <td>-0.72807</td>\n",
       "      <td>-1.95611</td>\n",
       "      <td>-0.67886</td>\n",
       "      <td>0.18211</td>\n",
       "      <td>-1.36207</td>\n",
       "      <td>-5.77206</td>\n",
       "      <td>-0.72481</td>\n",
       "      <td>...</td>\n",
       "      <td>-0.01771</td>\n",
       "      <td>-0.01576</td>\n",
       "      <td>-0.02259</td>\n",
       "      <td>0.04408</td>\n",
       "      <td>0</td>\n",
       "      <td>0</td>\n",
       "      <td>0</td>\n",
       "      <td>0</td>\n",
       "      <td>0</td>\n",
       "      <td>0</td>\n",
       "    </tr>\n",
       "    <tr>\n",
       "      <th>2024-04-17</th>\n",
       "      <td>-0.87968</td>\n",
       "      <td>-2.49165</td>\n",
       "      <td>0.55633</td>\n",
       "      <td>0.14196</td>\n",
       "      <td>0.60981</td>\n",
       "      <td>-0.48479</td>\n",
       "      <td>0.79929</td>\n",
       "      <td>-0.01970</td>\n",
       "      <td>13.01849</td>\n",
       "      <td>-1.64319</td>\n",
       "      <td>...</td>\n",
       "      <td>-0.04240</td>\n",
       "      <td>-0.04567</td>\n",
       "      <td>-0.04421</td>\n",
       "      <td>0.87260</td>\n",
       "      <td>1</td>\n",
       "      <td>0</td>\n",
       "      <td>0</td>\n",
       "      <td>0</td>\n",
       "      <td>0</td>\n",
       "      <td>0</td>\n",
       "    </tr>\n",
       "    <tr>\n",
       "      <th>2024-04-18</th>\n",
       "      <td>8.07676</td>\n",
       "      <td>-2.36361</td>\n",
       "      <td>-0.86108</td>\n",
       "      <td>-0.83991</td>\n",
       "      <td>-0.82523</td>\n",
       "      <td>0.07716</td>\n",
       "      <td>-0.80673</td>\n",
       "      <td>0.57789</td>\n",
       "      <td>-0.44603</td>\n",
       "      <td>9.86496</td>\n",
       "      <td>...</td>\n",
       "      <td>-0.02885</td>\n",
       "      <td>-0.02833</td>\n",
       "      <td>-0.04015</td>\n",
       "      <td>-0.15653</td>\n",
       "      <td>2</td>\n",
       "      <td>0</td>\n",
       "      <td>0</td>\n",
       "      <td>0</td>\n",
       "      <td>0</td>\n",
       "      <td>0</td>\n",
       "    </tr>\n",
       "  </tbody>\n",
       "</table>\n",
       "<p>5 rows × 114 columns</p>\n",
       "</div>"
      ],
      "text/plain": [
       "            retail_1  foreigner_1  institution_1  financial_1  invtrust_1   \n",
       "2024-04-12 -11.27839      0.32788        0.10220   -476.95174    -0.77865  \\\n",
       "2024-04-15  -2.48927     -0.88643       -0.65483     -0.61460    13.64661   \n",
       "2024-04-16   0.36818     -2.12131       -0.53877     -0.72807    -1.95611   \n",
       "2024-04-17  -0.87968     -2.49165        0.55633      0.14196     0.60981   \n",
       "2024-04-18   8.07676     -2.36361       -0.86108     -0.83991    -0.82523   \n",
       "\n",
       "            pension_1  privequity_1   bank_1  insurance_1  financeetc_1  ...   \n",
       "2024-04-12  -13.59244       1.58401 -0.99810     22.07646      -1.46507  ...  \\\n",
       "2024-04-15    0.38511      -0.35514  1.02163     -0.98814       5.64378  ...   \n",
       "2024-04-16   -0.67886       0.18211 -1.36207     -5.77206      -0.72481  ...   \n",
       "2024-04-17   -0.48479       0.79929 -0.01970     13.01849      -1.64319  ...   \n",
       "2024-04-18    0.07716      -0.80673  0.57789     -0.44603       9.86496  ...   \n",
       "\n",
       "             high_2    low_2  close_2    vol_2  weekday  cr_00 cr_05 cr_10   \n",
       "2024-04-12 -0.01512 -0.02367 -0.00473  0.34742        3      0     0     0  \\\n",
       "2024-04-15  0.00000  0.00120  0.00120 -0.28088        4      0     0     0   \n",
       "2024-04-16 -0.01771 -0.01576 -0.02259  0.04408        0      0     0     0   \n",
       "2024-04-17 -0.04240 -0.04567 -0.04421  0.87260        1      0     0     0   \n",
       "2024-04-18 -0.02885 -0.02833 -0.04015 -0.15653        2      0     0     0   \n",
       "\n",
       "            cr_15  cr_20  \n",
       "2024-04-12      0      0  \n",
       "2024-04-15      0      0  \n",
       "2024-04-16      0      0  \n",
       "2024-04-17      0      0  \n",
       "2024-04-18      0      0  \n",
       "\n",
       "[5 rows x 114 columns]"
      ]
     },
     "execution_count": 20,
     "metadata": {},
     "output_type": "execute_result"
    }
   ],
   "source": [
    "df_sec_combine.tail()"
   ]
  },
  {
   "cell_type": "code",
   "execution_count": 21,
   "id": "bf7224df",
   "metadata": {},
   "outputs": [],
   "source": [
    "nanlo = locate_nan(df_sec_combine)  # nan 위치 찾기"
   ]
  },
  {
   "cell_type": "code",
   "execution_count": 22,
   "id": "2f63d7f5",
   "metadata": {},
   "outputs": [
    {
     "name": "stdout",
     "output_type": "stream",
     "text": [
      "[[datetime.date(2022, 1, 18) 'dji_cr']\n",
      " [datetime.date(2022, 1, 18) 'dji_f_cr']\n",
      " [datetime.date(2022, 1, 18) 'dxy_cr']\n",
      " ...\n",
      " [datetime.date(2024, 4, 18) 'ixut_cr_2']\n",
      " [datetime.date(2024, 4, 18) 'nbi_cr_2']\n",
      " [datetime.date(2024, 4, 18) 'bkx_cr_2']]\n"
     ]
    }
   ],
   "source": [
    "print(nanlo)"
   ]
  },
  {
   "cell_type": "code",
   "execution_count": 23,
   "id": "21a6d628",
   "metadata": {},
   "outputs": [],
   "source": [
    "# delete rows which include NaN : dji, spx, nasdaq 기타 common 지수중 한개라도 nan인 rows 제거\n",
    "for key, val in code.items():\n",
    "    globals()['df_{}_combine'.format(val[1])].dropna(inplace=True)"
   ]
  },
  {
   "cell_type": "code",
   "execution_count": 24,
   "id": "c6f3061c",
   "metadata": {},
   "outputs": [],
   "source": [
    "# string column을 numeric으로 전환\n",
    "def string_to_num(df):\n",
    "    df.replace('%', '', regex=True, inplace=True)\n",
    "    df = df.apply(pd.to_numeric)\n",
    "    return df\n",
    "\n",
    "for key, val in code.items():\n",
    "    globals()['df_{}_combine'.format(val[1])] = string_to_num(globals()['df_{}_combine'.format(val[1])])"
   ]
  },
  {
   "cell_type": "code",
   "execution_count": 25,
   "id": "7e8d5acf",
   "metadata": {},
   "outputs": [],
   "source": [
    "# pickle로 데이터 저장\n",
    "\n",
    "for key, val in code.items():\n",
    "    globals()[f'df_{val[1]}_combine'].to_pickle(directory_for_predict + f'df_{val[1]}_combine.pkl')\n",
    "    globals()[f'df_{val[1]}_combine'].to_csv(directory_for_predict + f'df_{val[1]}_combine.csv')"
   ]
  },
  {
   "cell_type": "code",
   "execution_count": null,
   "id": "a01825d3",
   "metadata": {},
   "outputs": [],
   "source": []
  },
  {
   "cell_type": "code",
   "execution_count": null,
   "id": "3300e5b2",
   "metadata": {},
   "outputs": [],
   "source": []
  },
  {
   "cell_type": "code",
   "execution_count": null,
   "id": "1ffeab80",
   "metadata": {},
   "outputs": [],
   "source": []
  },
  {
   "cell_type": "code",
   "execution_count": null,
   "id": "a1f7c9d1",
   "metadata": {},
   "outputs": [],
   "source": []
  },
  {
   "cell_type": "code",
   "execution_count": null,
   "id": "bc80b897",
   "metadata": {},
   "outputs": [],
   "source": []
  }
 ],
 "metadata": {
  "kernelspec": {
   "display_name": "Python 3 (ipykernel)",
   "language": "python",
   "name": "python3"
  },
  "language_info": {
   "codemirror_mode": {
    "name": "ipython",
    "version": 3
   },
   "file_extension": ".py",
   "mimetype": "text/x-python",
   "name": "python",
   "nbconvert_exporter": "python",
   "pygments_lexer": "ipython3",
   "version": "3.9.1"
  }
 },
 "nbformat": 4,
 "nbformat_minor": 5
}
