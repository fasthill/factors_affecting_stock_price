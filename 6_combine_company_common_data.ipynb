{
 "cells": [
  {
   "cell_type": "markdown",
   "id": "459ff0ca",
   "metadata": {},
   "source": [
    "## combine company data and common data"
   ]
  },
  {
   "cell_type": "code",
   "execution_count": 1,
   "id": "d3b5a935",
   "metadata": {},
   "outputs": [],
   "source": [
    "import datetime, time\n",
    "from datetime import date\n",
    "\n",
    "import pandas as pd\n",
    "import numpy as np\n",
    "import os\n",
    "import sys\n",
    "\n",
    "from sklearn.preprocessing import StandardScaler"
   ]
  },
  {
   "cell_type": "code",
   "execution_count": 2,
   "id": "8ef51f99",
   "metadata": {},
   "outputs": [],
   "source": [
    "module_path = os.path.abspath(os.path.join('.')) \n",
    "sys.path.append(module_path+\"\\\\data\\\\constant\")\n",
    "\n",
    "from constants import COMPANY_CODE"
   ]
  },
  {
   "cell_type": "code",
   "execution_count": 3,
   "id": "9ea60572",
   "metadata": {},
   "outputs": [
    {
     "data": {
      "text/plain": [
       "\" \\n[[datetime.date(2022, 1, 17) 'dji_cr']\\n [datetime.date(2022, 1, 17) 'dji_f_cr']\\n ...\\n [datetime.date(2023, 5, 23) 'kosdaq_cr']\\n [datetime.date(2023, 5, 23) 'kosdaq_cr_2']]\\n\""
      ]
     },
     "execution_count": 3,
     "metadata": {},
     "output_type": "execute_result"
    }
   ],
   "source": [
    "def locate_nan(df):\n",
    "    idx, idy = np.where(pd.isnull(df))\n",
    "    result = np.column_stack([df.index[idx], df.columns[idy]])\n",
    "    return result\n",
    "\n",
    "# return format\n",
    "''' \n",
    "[[datetime.date(2022, 1, 17) 'dji_cr']\n",
    " [datetime.date(2022, 1, 17) 'dji_f_cr']\n",
    " ...\n",
    " [datetime.date(2023, 5, 23) 'kosdaq_cr']\n",
    " [datetime.date(2023, 5, 23) 'kosdaq_cr_2']]\n",
    "'''"
   ]
  },
  {
   "cell_type": "code",
   "execution_count": 4,
   "id": "d6f9e0c8",
   "metadata": {},
   "outputs": [],
   "source": [
    "code = COMPANY_CODE\n",
    "\n",
    "# code = {'005930': ['삼성전자', 'sec'], '005380': ['현대차', 'hyunmotor'],\n",
    "#                  '035420': ['NAVER', 'naver'], '033780': ['KT&G', 'ktng']}\n",
    "# code = {'005930': ['삼성전자', 'sec'], '000660': ['SK하이닉스', 'skhynix']}\n",
    "# code = {'302440': ['SK바이오사이언스', 'skbio']}"
   ]
  },
  {
   "cell_type": "code",
   "execution_count": 5,
   "id": "1ced9635",
   "metadata": {},
   "outputs": [],
   "source": [
    "directory_for_predict = './data/data_for_ml/predict/'\n",
    "pkl_common_directory = './data/common_pkl/'\n",
    "pkl_directory = './data/common_pkl/'"
   ]
  },
  {
   "cell_type": "code",
   "execution_count": 6,
   "id": "a4ac3c16",
   "metadata": {},
   "outputs": [],
   "source": [
    "df_common = pd.read_pickle(directory_for_predict + '0_df_common.pkl')"
   ]
  },
  {
   "cell_type": "code",
   "execution_count": 7,
   "id": "82d5ae58",
   "metadata": {},
   "outputs": [],
   "source": [
    "for key, val in code.items():\n",
    "    df_company = pd.read_pickle(directory_for_predict + f'df_{val[1]}_company.pkl')\n",
    "    df_company = df_company.merge(df_common, how='left', left_index=True, right_index=True)\n",
    "    globals()[f'df_{val[1]}_combine'] = df_company.copy()"
   ]
  },
  {
   "cell_type": "code",
   "execution_count": 8,
   "id": "6c798e31",
   "metadata": {},
   "outputs": [
    {
     "data": {
      "text/html": [
       "<div>\n",
       "<style scoped>\n",
       "    .dataframe tbody tr th:only-of-type {\n",
       "        vertical-align: middle;\n",
       "    }\n",
       "\n",
       "    .dataframe tbody tr th {\n",
       "        vertical-align: top;\n",
       "    }\n",
       "\n",
       "    .dataframe thead th {\n",
       "        text-align: right;\n",
       "    }\n",
       "</style>\n",
       "<table border=\"1\" class=\"dataframe\">\n",
       "  <thead>\n",
       "    <tr style=\"text-align: right;\">\n",
       "      <th></th>\n",
       "      <th>retail_1</th>\n",
       "      <th>foreigner_1</th>\n",
       "      <th>institution_1</th>\n",
       "      <th>financial_1</th>\n",
       "      <th>invtrust_1</th>\n",
       "      <th>pension_1</th>\n",
       "      <th>privequity_1</th>\n",
       "      <th>bank_1</th>\n",
       "      <th>insurance_1</th>\n",
       "      <th>financeetc_1</th>\n",
       "      <th>...</th>\n",
       "      <th>ixk_cr</th>\n",
       "      <th>ixk_cr_2</th>\n",
       "      <th>ixtr_cr</th>\n",
       "      <th>ixtr_cr_2</th>\n",
       "      <th>ixut_cr</th>\n",
       "      <th>ixut_cr_2</th>\n",
       "      <th>nbi_cr</th>\n",
       "      <th>nbi_cr_2</th>\n",
       "      <th>bkx_cr</th>\n",
       "      <th>bkx_cr_2</th>\n",
       "    </tr>\n",
       "  </thead>\n",
       "  <tbody>\n",
       "    <tr>\n",
       "      <th>2024-03-19</th>\n",
       "      <td>-0.93431</td>\n",
       "      <td>-5.58431</td>\n",
       "      <td>8.50232</td>\n",
       "      <td>0.67848</td>\n",
       "      <td>1.35378</td>\n",
       "      <td>-0.36325</td>\n",
       "      <td>-6.07840</td>\n",
       "      <td>-11.43396</td>\n",
       "      <td>1.86936</td>\n",
       "      <td>-1.00000</td>\n",
       "      <td>...</td>\n",
       "      <td>1.03%</td>\n",
       "      <td>-0.24581</td>\n",
       "      <td>0.07%</td>\n",
       "      <td>0.44877</td>\n",
       "      <td>0.32%</td>\n",
       "      <td>-0.54305</td>\n",
       "      <td>-0.65%</td>\n",
       "      <td>-0.43660</td>\n",
       "      <td>0.49%</td>\n",
       "      <td>0.51005</td>\n",
       "    </tr>\n",
       "    <tr>\n",
       "      <th>2024-03-20</th>\n",
       "      <td>18.79467</td>\n",
       "      <td>0.43265</td>\n",
       "      <td>0.77060</td>\n",
       "      <td>-10.30756</td>\n",
       "      <td>-0.26208</td>\n",
       "      <td>0.65943</td>\n",
       "      <td>-0.67468</td>\n",
       "      <td>-0.84268</td>\n",
       "      <td>-1.17950</td>\n",
       "      <td>-inf</td>\n",
       "      <td>...</td>\n",
       "      <td>0.40%</td>\n",
       "      <td>1.44197</td>\n",
       "      <td>0.19%</td>\n",
       "      <td>0.25652</td>\n",
       "      <td>-0.11%</td>\n",
       "      <td>0.20698</td>\n",
       "      <td>0.81%</td>\n",
       "      <td>0.15416</td>\n",
       "      <td>0.20%</td>\n",
       "      <td>0.69352</td>\n",
       "    </tr>\n",
       "    <tr>\n",
       "      <th>2024-03-21</th>\n",
       "      <td>-3.60733</td>\n",
       "      <td>0.08176</td>\n",
       "      <td>-0.70454</td>\n",
       "      <td>-0.41902</td>\n",
       "      <td>-2.76663</td>\n",
       "      <td>-1.17491</td>\n",
       "      <td>-0.41009</td>\n",
       "      <td>-1.04598</td>\n",
       "      <td>5.48723</td>\n",
       "      <td>-1.01142</td>\n",
       "      <td>...</td>\n",
       "      <td>1.32%</td>\n",
       "      <td>1.72881</td>\n",
       "      <td>1.82%</td>\n",
       "      <td>2.01222</td>\n",
       "      <td>0.50%</td>\n",
       "      <td>0.39504</td>\n",
       "      <td>0.52%</td>\n",
       "      <td>1.32939</td>\n",
       "      <td>2.38%</td>\n",
       "      <td>2.58805</td>\n",
       "    </tr>\n",
       "    <tr>\n",
       "      <th>2024-03-22</th>\n",
       "      <td>3.63299</td>\n",
       "      <td>2.03775</td>\n",
       "      <td>-3.11982</td>\n",
       "      <td>-2.74098</td>\n",
       "      <td>-1.06808</td>\n",
       "      <td>2.42399</td>\n",
       "      <td>0.55072</td>\n",
       "      <td>43.50000</td>\n",
       "      <td>-0.68945</td>\n",
       "      <td>-101.55556</td>\n",
       "      <td>...</td>\n",
       "      <td>0.13%</td>\n",
       "      <td>1.45623</td>\n",
       "      <td>1.62%</td>\n",
       "      <td>3.47299</td>\n",
       "      <td>0.08%</td>\n",
       "      <td>0.58438</td>\n",
       "      <td>0.48%</td>\n",
       "      <td>0.99579</td>\n",
       "      <td>2.16%</td>\n",
       "      <td>4.58827</td>\n",
       "    </tr>\n",
       "    <tr>\n",
       "      <th>2024-03-25</th>\n",
       "      <td>-1.41312</td>\n",
       "      <td>-1.32233</td>\n",
       "      <td>-1.91223</td>\n",
       "      <td>-1.57325</td>\n",
       "      <td>-2.85106</td>\n",
       "      <td>-1.27814</td>\n",
       "      <td>-0.03230</td>\n",
       "      <td>-7.00562</td>\n",
       "      <td>-3.81522</td>\n",
       "      <td>-0.94696</td>\n",
       "      <td>...</td>\n",
       "      <td>NaN</td>\n",
       "      <td>NaN</td>\n",
       "      <td>NaN</td>\n",
       "      <td>NaN</td>\n",
       "      <td>NaN</td>\n",
       "      <td>NaN</td>\n",
       "      <td>NaN</td>\n",
       "      <td>NaN</td>\n",
       "      <td>NaN</td>\n",
       "      <td>NaN</td>\n",
       "    </tr>\n",
       "  </tbody>\n",
       "</table>\n",
       "<p>5 rows × 114 columns</p>\n",
       "</div>"
      ],
      "text/plain": [
       "            retail_1  foreigner_1  institution_1  financial_1  invtrust_1   \n",
       "2024-03-19  -0.93431     -5.58431        8.50232      0.67848     1.35378  \\\n",
       "2024-03-20  18.79467      0.43265        0.77060    -10.30756    -0.26208   \n",
       "2024-03-21  -3.60733      0.08176       -0.70454     -0.41902    -2.76663   \n",
       "2024-03-22   3.63299      2.03775       -3.11982     -2.74098    -1.06808   \n",
       "2024-03-25  -1.41312     -1.32233       -1.91223     -1.57325    -2.85106   \n",
       "\n",
       "            pension_1  privequity_1    bank_1  insurance_1  financeetc_1  ...   \n",
       "2024-03-19   -0.36325      -6.07840 -11.43396      1.86936      -1.00000  ...  \\\n",
       "2024-03-20    0.65943      -0.67468  -0.84268     -1.17950          -inf  ...   \n",
       "2024-03-21   -1.17491      -0.41009  -1.04598      5.48723      -1.01142  ...   \n",
       "2024-03-22    2.42399       0.55072  43.50000     -0.68945    -101.55556  ...   \n",
       "2024-03-25   -1.27814      -0.03230  -7.00562     -3.81522      -0.94696  ...   \n",
       "\n",
       "            ixk_cr  ixk_cr_2  ixtr_cr  ixtr_cr_2  ixut_cr  ixut_cr_2  nbi_cr   \n",
       "2024-03-19   1.03%  -0.24581    0.07%    0.44877    0.32%   -0.54305  -0.65%  \\\n",
       "2024-03-20   0.40%   1.44197    0.19%    0.25652   -0.11%    0.20698   0.81%   \n",
       "2024-03-21   1.32%   1.72881    1.82%    2.01222    0.50%    0.39504   0.52%   \n",
       "2024-03-22   0.13%   1.45623    1.62%    3.47299    0.08%    0.58438   0.48%   \n",
       "2024-03-25     NaN       NaN      NaN        NaN      NaN        NaN     NaN   \n",
       "\n",
       "            nbi_cr_2  bkx_cr  bkx_cr_2  \n",
       "2024-03-19  -0.43660   0.49%   0.51005  \n",
       "2024-03-20   0.15416   0.20%   0.69352  \n",
       "2024-03-21   1.32939   2.38%   2.58805  \n",
       "2024-03-22   0.99579   2.16%   4.58827  \n",
       "2024-03-25       NaN     NaN       NaN  \n",
       "\n",
       "[5 rows x 114 columns]"
      ]
     },
     "execution_count": 8,
     "metadata": {},
     "output_type": "execute_result"
    }
   ],
   "source": [
    "df_hyunmotor_combine.tail()"
   ]
  },
  {
   "cell_type": "code",
   "execution_count": 9,
   "id": "aeab3342",
   "metadata": {},
   "outputs": [
    {
     "data": {
      "text/plain": [
       "datetime.date(2022, 1, 7)"
      ]
     },
     "execution_count": 9,
     "metadata": {},
     "output_type": "execute_result"
    }
   ],
   "source": [
    "df_hyunmotor_combine.index[0]"
   ]
  },
  {
   "cell_type": "code",
   "execution_count": 10,
   "id": "587ac2cd",
   "metadata": {},
   "outputs": [],
   "source": [
    "col_inv1 = ['retail_1', 'foreigner_1', 'institution_1', 'financial_1', 'invtrust_1', 'pension_1', 'privequity_1', \n",
    "            'bank_1', 'insurance_1', 'financeetc_1', 'corporateetc_1', 'foreigneretc_1']\n",
    "col_inv2 = ['retail_2', 'foreigner_2', 'institution_2', 'financial_2', 'invtrust_2', 'pension_2',\n",
    "            'privequity_2', 'bank_2', 'insurance_2', 'financeetc_2', 'corporateetc_2', 'foreigneretc_2']"
   ]
  },
  {
   "cell_type": "code",
   "execution_count": 11,
   "id": "76ca8389",
   "metadata": {},
   "outputs": [],
   "source": [
    "col_his1 = ['open_1', 'high_1', 'low_1', 'close_1', 'vol_1']\n",
    "col_his2 = ['open_2', 'high_2', 'low_2', 'close_2', 'vol_2']"
   ]
  },
  {
   "cell_type": "code",
   "execution_count": 12,
   "id": "8a6b4bac",
   "metadata": {},
   "outputs": [],
   "source": [
    "col_common1 = [\"dji_cr\", \"dji_f_cr\", \"dxy_cr\", \"ixic_f_cr\", \"bond_kor_10_cr\", \"bond_kor_2_cr\", \"kosdaq_cr\", \"kospi_cr\", \n",
    "         \"krw_cr\", \"ixic_cr\", \"spx_f_cr\", \"sox_cr\", \"spx_cr\", \"bond_usa_10_cr\", \"bond_usa_2_cr\", \"bond_usa_3m_cr\", \n",
    "         \"vix_cr\", \"wti_cr\", \"spsy_cr\", \"spny_cr\", \"spxhc_cr\", \"splrcd_cr\", \"splrci_cr\", \"splrcu_cr\", \"splrcs_cr\",\n",
    "         \"splrct_cr\", \"splrcl_cr\", \"splrcm_cr\", \"ixbk_cr\", \"ixfn_cr\", \"ixid_cr\", \"ixis_cr\", \"ixk_cr\", \"ixtr_cr\",\n",
    "         \"ixut_cr\", \"nbi_cr\", \"bkx_cr\"]\n",
    "col_common2 = [\"dji_cr_2\", \"dji_f_cr_2\", \"dxy_cr_2\", \"ixic_f_cr_2\", \"bond_kor_10_cr_2\", \"bond_kor_2_cr_2\", \"kosdaq_cr_2\", \"kospi_cr_2\",\n",
    "         \"krw_cr_2\", \"ixic_cr_2\", \"spx_f_cr_2\", \"sox_cr_2\", \"spx_cr_2\", \"bond_usa_10_cr_2\", \"bond_usa_2_cr_2\", \"bond_usa_3m_cr_2\",\n",
    "         \"vix_cr_2\", \"wti_cr_2\", \"spsy_cr_2\", \"spny_cr_2\", \"spxhc_cr_2\", \"splrcd_cr_2\", \"splrci_cr_2\", \"splrcu_cr_2\",\n",
    "         \"splrcs_cr_2\", \"splrct_cr_2\", \"splrcl_cr_2\", \"splrcm_cr_2\", \"ixbk_cr_2\", \"ixfn_cr_2\", \"ixid_cr_2\",\n",
    "         \"ixis_cr_2\", \"ixk_cr_2\", \"ixtr_cr_2\", \"ixut_cr_2\", \"nbi_cr_2\", \"bkx_cr_2\"]"
   ]
  },
  {
   "cell_type": "code",
   "execution_count": 13,
   "id": "9a595935",
   "metadata": {},
   "outputs": [],
   "source": [
    "col_cr = ['weekday', 'cr_00', 'cr_05', 'cr_10', 'cr_15', 'cr_20']"
   ]
  },
  {
   "cell_type": "code",
   "execution_count": 14,
   "id": "75ec6070",
   "metadata": {},
   "outputs": [],
   "source": [
    "col_col = col_inv1 + col_common1 + col_his1 + col_inv2 + col_common2 + col_his2 + col_cr"
   ]
  },
  {
   "cell_type": "code",
   "execution_count": 15,
   "id": "ff6769da",
   "metadata": {},
   "outputs": [],
   "source": [
    "# # write common data only\n",
    "# df_temp = df_common.copy()\n",
    "# df_temp = df_temp[col_common1+col_common2]\n",
    "# pkl_common_directory = './data/common_pkl/'\n",
    "# df_temp.to_pickle(pkl_common_directory + 'df_common.pkl')\n",
    "# df_temp.to_csv(pkl_common_directory + 'df_common.csv')"
   ]
  },
  {
   "cell_type": "code",
   "execution_count": 16,
   "id": "c78c8f82",
   "metadata": {},
   "outputs": [],
   "source": [
    "new_columns = col_col"
   ]
  },
  {
   "cell_type": "code",
   "execution_count": 17,
   "id": "02da1256",
   "metadata": {},
   "outputs": [],
   "source": [
    "# column 순서 변경 : weekday, 'cr_00', 'cr_05', 'cr_10', 'cr_15', 'cr_20' column을 마지막으로 이동 \n",
    "for key, val in code.items():\n",
    "    globals()['df_{}_combine'.format(val[1])] = globals()['df_{}_combine'.format(val[1])][new_columns]"
   ]
  },
  {
   "cell_type": "code",
   "execution_count": 18,
   "id": "d4f1fa06",
   "metadata": {},
   "outputs": [
    {
     "data": {
      "text/plain": [
       "'\\n# drop inf, -inf : replace inf to 1 or -1 . 데이터를 살리고\\n# 변동률이 무한대가 되는 것을 방지하기 위해서, 나중에 발생하는 에러를 방지\\ndf_sec_sel.replace([np.inf, -np.inf], [1, -1], inplace=True)\\n\\n.impute 사용하는 것을 고려할 필요 있음.\\n'"
      ]
     },
     "execution_count": 18,
     "metadata": {},
     "output_type": "execute_result"
    }
   ],
   "source": [
    "'''\n",
    "# drop inf, -inf : replace inf to 1 or -1 . 데이터를 살리고\n",
    "# 변동률이 무한대가 되는 것을 방지하기 위해서, 나중에 발생하는 에러를 방지\n",
    "df_sec_sel.replace([np.inf, -np.inf], [1, -1], inplace=True)\n",
    "\n",
    ".impute 사용하는 것을 고려할 필요 있음.\n",
    "'''"
   ]
  },
  {
   "cell_type": "code",
   "execution_count": 19,
   "id": "7e91c1c5",
   "metadata": {},
   "outputs": [],
   "source": [
    "# drop inf, -inf : replace inf to 1 or -1 . 데이터를 살리고\n",
    "# 변동률이 무한대가 되는 것을 방지하기 위해서, 나중에 발생하는 에러를 방지\n",
    "for key, val in code.items():\n",
    "    globals()['df_{}_combine'.format(val[1])].replace([np.inf, -np.inf], [1, -1], inplace=True)\n",
    "\n",
    "# **** 데이터 전처리 from sklearn.impute import SimpleImputer, SimpleImputer 사용하기로 함."
   ]
  },
  {
   "cell_type": "code",
   "execution_count": 20,
   "id": "3fa3914b",
   "metadata": {},
   "outputs": [
    {
     "data": {
      "text/html": [
       "<div>\n",
       "<style scoped>\n",
       "    .dataframe tbody tr th:only-of-type {\n",
       "        vertical-align: middle;\n",
       "    }\n",
       "\n",
       "    .dataframe tbody tr th {\n",
       "        vertical-align: top;\n",
       "    }\n",
       "\n",
       "    .dataframe thead th {\n",
       "        text-align: right;\n",
       "    }\n",
       "</style>\n",
       "<table border=\"1\" class=\"dataframe\">\n",
       "  <thead>\n",
       "    <tr style=\"text-align: right;\">\n",
       "      <th></th>\n",
       "      <th>retail_1</th>\n",
       "      <th>foreigner_1</th>\n",
       "      <th>institution_1</th>\n",
       "      <th>financial_1</th>\n",
       "      <th>invtrust_1</th>\n",
       "      <th>pension_1</th>\n",
       "      <th>privequity_1</th>\n",
       "      <th>bank_1</th>\n",
       "      <th>insurance_1</th>\n",
       "      <th>financeetc_1</th>\n",
       "      <th>...</th>\n",
       "      <th>high_2</th>\n",
       "      <th>low_2</th>\n",
       "      <th>close_2</th>\n",
       "      <th>vol_2</th>\n",
       "      <th>weekday</th>\n",
       "      <th>cr_00</th>\n",
       "      <th>cr_05</th>\n",
       "      <th>cr_10</th>\n",
       "      <th>cr_15</th>\n",
       "      <th>cr_20</th>\n",
       "    </tr>\n",
       "  </thead>\n",
       "  <tbody>\n",
       "    <tr>\n",
       "      <th>2024-03-19</th>\n",
       "      <td>-0.86341</td>\n",
       "      <td>-0.88542</td>\n",
       "      <td>-5.47432</td>\n",
       "      <td>1.42055</td>\n",
       "      <td>0.53435</td>\n",
       "      <td>-1.48915</td>\n",
       "      <td>-0.18730</td>\n",
       "      <td>-0.67096</td>\n",
       "      <td>12.06533</td>\n",
       "      <td>-42.96552</td>\n",
       "      <td>...</td>\n",
       "      <td>-0.02013</td>\n",
       "      <td>-0.01495</td>\n",
       "      <td>-0.02019</td>\n",
       "      <td>-0.48902</td>\n",
       "      <td>0</td>\n",
       "      <td>0</td>\n",
       "      <td>0</td>\n",
       "      <td>0</td>\n",
       "      <td>0</td>\n",
       "      <td>0</td>\n",
       "    </tr>\n",
       "    <tr>\n",
       "      <th>2024-03-20</th>\n",
       "      <td>1.47256</td>\n",
       "      <td>-1.66885</td>\n",
       "      <td>11.23837</td>\n",
       "      <td>-4.37990</td>\n",
       "      <td>-2.11871</td>\n",
       "      <td>-1.08688</td>\n",
       "      <td>-0.29585</td>\n",
       "      <td>-0.64627</td>\n",
       "      <td>3.44577</td>\n",
       "      <td>-1.70501</td>\n",
       "      <td>...</td>\n",
       "      <td>-0.00950</td>\n",
       "      <td>-0.00830</td>\n",
       "      <td>0.00692</td>\n",
       "      <td>-0.31906</td>\n",
       "      <td>1</td>\n",
       "      <td>1</td>\n",
       "      <td>1</td>\n",
       "      <td>1</td>\n",
       "      <td>1</td>\n",
       "      <td>1</td>\n",
       "    </tr>\n",
       "    <tr>\n",
       "      <th>2024-03-21</th>\n",
       "      <td>-10.17287</td>\n",
       "      <td>22.44476</td>\n",
       "      <td>-4.09808</td>\n",
       "      <td>-3.73506</td>\n",
       "      <td>2.99138</td>\n",
       "      <td>30.65882</td>\n",
       "      <td>-2.86203</td>\n",
       "      <td>8.67474</td>\n",
       "      <td>-2.33714</td>\n",
       "      <td>-1.28438</td>\n",
       "      <td>...</td>\n",
       "      <td>0.05753</td>\n",
       "      <td>0.01241</td>\n",
       "      <td>0.05632</td>\n",
       "      <td>3.34937</td>\n",
       "      <td>2</td>\n",
       "      <td>1</td>\n",
       "      <td>1</td>\n",
       "      <td>1</td>\n",
       "      <td>1</td>\n",
       "      <td>1</td>\n",
       "    </tr>\n",
       "    <tr>\n",
       "      <th>2024-03-22</th>\n",
       "      <td>0.02105</td>\n",
       "      <td>0.16418</td>\n",
       "      <td>-0.22972</td>\n",
       "      <td>-0.24404</td>\n",
       "      <td>-0.05894</td>\n",
       "      <td>0.03008</td>\n",
       "      <td>-0.09797</td>\n",
       "      <td>-1.94921</td>\n",
       "      <td>-0.70497</td>\n",
       "      <td>26.88934</td>\n",
       "      <td>...</td>\n",
       "      <td>0.08630</td>\n",
       "      <td>0.08368</td>\n",
       "      <td>0.08929</td>\n",
       "      <td>1.89865</td>\n",
       "      <td>3</td>\n",
       "      <td>0</td>\n",
       "      <td>0</td>\n",
       "      <td>0</td>\n",
       "      <td>0</td>\n",
       "      <td>0</td>\n",
       "    </tr>\n",
       "    <tr>\n",
       "      <th>2024-03-25</th>\n",
       "      <td>-0.78702</td>\n",
       "      <td>-0.67294</td>\n",
       "      <td>-1.06181</td>\n",
       "      <td>-1.04068</td>\n",
       "      <td>-1.01560</td>\n",
       "      <td>-1.16475</td>\n",
       "      <td>-0.99730</td>\n",
       "      <td>-0.94424</td>\n",
       "      <td>-2.52763</td>\n",
       "      <td>-0.99912</td>\n",
       "      <td>...</td>\n",
       "      <td>0.03497</td>\n",
       "      <td>0.05995</td>\n",
       "      <td>0.02601</td>\n",
       "      <td>-0.46827</td>\n",
       "      <td>4</td>\n",
       "      <td>0</td>\n",
       "      <td>0</td>\n",
       "      <td>0</td>\n",
       "      <td>0</td>\n",
       "      <td>0</td>\n",
       "    </tr>\n",
       "  </tbody>\n",
       "</table>\n",
       "<p>5 rows × 114 columns</p>\n",
       "</div>"
      ],
      "text/plain": [
       "            retail_1  foreigner_1  institution_1  financial_1  invtrust_1   \n",
       "2024-03-19  -0.86341     -0.88542       -5.47432      1.42055     0.53435  \\\n",
       "2024-03-20   1.47256     -1.66885       11.23837     -4.37990    -2.11871   \n",
       "2024-03-21 -10.17287     22.44476       -4.09808     -3.73506     2.99138   \n",
       "2024-03-22   0.02105      0.16418       -0.22972     -0.24404    -0.05894   \n",
       "2024-03-25  -0.78702     -0.67294       -1.06181     -1.04068    -1.01560   \n",
       "\n",
       "            pension_1  privequity_1   bank_1  insurance_1  financeetc_1  ...   \n",
       "2024-03-19   -1.48915      -0.18730 -0.67096     12.06533     -42.96552  ...  \\\n",
       "2024-03-20   -1.08688      -0.29585 -0.64627      3.44577      -1.70501  ...   \n",
       "2024-03-21   30.65882      -2.86203  8.67474     -2.33714      -1.28438  ...   \n",
       "2024-03-22    0.03008      -0.09797 -1.94921     -0.70497      26.88934  ...   \n",
       "2024-03-25   -1.16475      -0.99730 -0.94424     -2.52763      -0.99912  ...   \n",
       "\n",
       "             high_2    low_2  close_2    vol_2  weekday  cr_00 cr_05 cr_10   \n",
       "2024-03-19 -0.02013 -0.01495 -0.02019 -0.48902        0      0     0     0  \\\n",
       "2024-03-20 -0.00950 -0.00830  0.00692 -0.31906        1      1     1     1   \n",
       "2024-03-21  0.05753  0.01241  0.05632  3.34937        2      1     1     1   \n",
       "2024-03-22  0.08630  0.08368  0.08929  1.89865        3      0     0     0   \n",
       "2024-03-25  0.03497  0.05995  0.02601 -0.46827        4      0     0     0   \n",
       "\n",
       "            cr_15  cr_20  \n",
       "2024-03-19      0      0  \n",
       "2024-03-20      1      1  \n",
       "2024-03-21      1      1  \n",
       "2024-03-22      0      0  \n",
       "2024-03-25      0      0  \n",
       "\n",
       "[5 rows x 114 columns]"
      ]
     },
     "execution_count": 20,
     "metadata": {},
     "output_type": "execute_result"
    }
   ],
   "source": [
    "df_sec_combine.tail()"
   ]
  },
  {
   "cell_type": "code",
   "execution_count": 21,
   "id": "bf7224df",
   "metadata": {},
   "outputs": [],
   "source": [
    "nanlo = locate_nan(df_sec_combine)  # nan 위치 찾기"
   ]
  },
  {
   "cell_type": "code",
   "execution_count": 22,
   "id": "2f63d7f5",
   "metadata": {},
   "outputs": [
    {
     "name": "stdout",
     "output_type": "stream",
     "text": [
      "[[datetime.date(2022, 1, 7) 'dji_cr']\n",
      " [datetime.date(2022, 1, 7) 'dji_f_cr']\n",
      " [datetime.date(2022, 1, 7) 'dxy_cr']\n",
      " ...\n",
      " [datetime.date(2024, 3, 25) 'ixut_cr_2']\n",
      " [datetime.date(2024, 3, 25) 'nbi_cr_2']\n",
      " [datetime.date(2024, 3, 25) 'bkx_cr_2']]\n"
     ]
    }
   ],
   "source": [
    "print(nanlo)"
   ]
  },
  {
   "cell_type": "code",
   "execution_count": 23,
   "id": "21a6d628",
   "metadata": {},
   "outputs": [],
   "source": [
    "# delete rows which include NaN : dji, spx, nasdaq 기타 common 지수중 한개라도 nan인 rows 제거\n",
    "for key, val in code.items():\n",
    "    globals()['df_{}_combine'.format(val[1])].dropna(inplace=True)"
   ]
  },
  {
   "cell_type": "code",
   "execution_count": 24,
   "id": "c6f3061c",
   "metadata": {},
   "outputs": [],
   "source": [
    "# string column을 numeric으로 전환\n",
    "def string_to_num(df):\n",
    "    df.replace('%', '', regex=True, inplace=True)\n",
    "    df = df.apply(pd.to_numeric)\n",
    "    return df\n",
    "\n",
    "for key, val in code.items():\n",
    "    globals()['df_{}_combine'.format(val[1])] = string_to_num(globals()['df_{}_combine'.format(val[1])])"
   ]
  },
  {
   "cell_type": "code",
   "execution_count": 25,
   "id": "7e8d5acf",
   "metadata": {},
   "outputs": [],
   "source": [
    "# pickle로 데이터 저장\n",
    "\n",
    "for key, val in code.items():\n",
    "    globals()[f'df_{val[1]}_combine'].to_pickle(directory_for_predict + f'df_{val[1]}_combine.pkl')\n",
    "    globals()[f'df_{val[1]}_combine'].to_csv(directory_for_predict + f'df_{val[1]}_combine.csv')"
   ]
  },
  {
   "cell_type": "code",
   "execution_count": null,
   "id": "a01825d3",
   "metadata": {},
   "outputs": [],
   "source": []
  },
  {
   "cell_type": "code",
   "execution_count": null,
   "id": "3300e5b2",
   "metadata": {},
   "outputs": [],
   "source": []
  },
  {
   "cell_type": "code",
   "execution_count": null,
   "id": "1ffeab80",
   "metadata": {},
   "outputs": [],
   "source": []
  },
  {
   "cell_type": "code",
   "execution_count": null,
   "id": "a1f7c9d1",
   "metadata": {},
   "outputs": [],
   "source": []
  },
  {
   "cell_type": "code",
   "execution_count": null,
   "id": "bc80b897",
   "metadata": {},
   "outputs": [],
   "source": []
  }
 ],
 "metadata": {
  "kernelspec": {
   "display_name": "Python 3 (ipykernel)",
   "language": "python",
   "name": "python3"
  },
  "language_info": {
   "codemirror_mode": {
    "name": "ipython",
    "version": 3
   },
   "file_extension": ".py",
   "mimetype": "text/x-python",
   "name": "python",
   "nbconvert_exporter": "python",
   "pygments_lexer": "ipython3",
   "version": "3.9.1"
  }
 },
 "nbformat": 4,
 "nbformat_minor": 5
}
