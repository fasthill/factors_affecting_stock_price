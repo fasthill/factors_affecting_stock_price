{
 "cells": [
  {
   "cell_type": "markdown",
   "id": "459ff0ca",
   "metadata": {},
   "source": [
    "## combine company data and common data"
   ]
  },
  {
   "cell_type": "code",
   "execution_count": 1,
   "id": "d3b5a935",
   "metadata": {},
   "outputs": [],
   "source": [
    "import datetime, time\n",
    "from datetime import date\n",
    "\n",
    "import pandas as pd\n",
    "import numpy as np\n",
    "import os\n",
    "import sys\n",
    "\n",
    "from sklearn.preprocessing import StandardScaler"
   ]
  },
  {
   "cell_type": "code",
   "execution_count": 2,
   "id": "8ef51f99",
   "metadata": {},
   "outputs": [],
   "source": [
    "module_path = os.path.abspath(os.path.join('.')) \n",
    "sys.path.append(module_path+\"\\\\data\\\\constant\")\n",
    "\n",
    "from constants import COMPANY_CODE"
   ]
  },
  {
   "cell_type": "code",
   "execution_count": 3,
   "id": "9ea60572",
   "metadata": {},
   "outputs": [
    {
     "data": {
      "text/plain": [
       "\" \\n[[datetime.date(2022, 1, 17) 'dji_cr']\\n [datetime.date(2022, 1, 17) 'dji_f_cr']\\n ...\\n [datetime.date(2023, 5, 23) 'kosdaq_cr']\\n [datetime.date(2023, 5, 23) 'kosdaq_cr_2']]\\n\""
      ]
     },
     "execution_count": 3,
     "metadata": {},
     "output_type": "execute_result"
    }
   ],
   "source": [
    "def locate_nan(df):\n",
    "    idx, idy = np.where(pd.isnull(df))\n",
    "    result = np.column_stack([df.index[idx], df.columns[idy]])\n",
    "    return result\n",
    "\n",
    "# return format\n",
    "''' \n",
    "[[datetime.date(2022, 1, 17) 'dji_cr']\n",
    " [datetime.date(2022, 1, 17) 'dji_f_cr']\n",
    " ...\n",
    " [datetime.date(2023, 5, 23) 'kosdaq_cr']\n",
    " [datetime.date(2023, 5, 23) 'kosdaq_cr_2']]\n",
    "'''"
   ]
  },
  {
   "cell_type": "code",
   "execution_count": 4,
   "id": "d6f9e0c8",
   "metadata": {},
   "outputs": [],
   "source": [
    "code = COMPANY_CODE\n",
    "\n",
    "# code = {'005930': ['삼성전자', 'sec'], '005380': ['현대차', 'hyunmotor'],\n",
    "#                  '035420': ['NAVER', 'naver'], '033780': ['KT&G', 'ktng']}\n",
    "# code = {'005930': ['삼성전자', 'sec'], '000660': ['SK하이닉스', 'skhynix']}\n",
    "# code = {'302440': ['SK바이오사이언스', 'skbio']}"
   ]
  },
  {
   "cell_type": "code",
   "execution_count": 5,
   "id": "1ced9635",
   "metadata": {},
   "outputs": [],
   "source": [
    "directory_for_predict = './data/data_for_ml/predict/'\n",
    "pkl_common_directory = './data/common_pkl/'\n",
    "pkl_directory = './data/common_pkl/'"
   ]
  },
  {
   "cell_type": "code",
   "execution_count": 6,
   "id": "a4ac3c16",
   "metadata": {},
   "outputs": [],
   "source": [
    "df_common = pd.read_pickle(directory_for_predict + '0_df_common.pkl')"
   ]
  },
  {
   "cell_type": "code",
   "execution_count": 7,
   "id": "82d5ae58",
   "metadata": {},
   "outputs": [],
   "source": [
    "for key, val in code.items():\n",
    "    df_company = pd.read_pickle(directory_for_predict + f'df_{val[1]}_company.pkl')\n",
    "    df_company = df_company.merge(df_common, how='left', left_index=True, right_index=True)\n",
    "    globals()[f'df_{val[1]}_combine'] = df_company.copy()"
   ]
  },
  {
   "cell_type": "code",
   "execution_count": 8,
   "id": "6c798e31",
   "metadata": {},
   "outputs": [
    {
     "data": {
      "text/html": [
       "<div>\n",
       "<style scoped>\n",
       "    .dataframe tbody tr th:only-of-type {\n",
       "        vertical-align: middle;\n",
       "    }\n",
       "\n",
       "    .dataframe tbody tr th {\n",
       "        vertical-align: top;\n",
       "    }\n",
       "\n",
       "    .dataframe thead th {\n",
       "        text-align: right;\n",
       "    }\n",
       "</style>\n",
       "<table border=\"1\" class=\"dataframe\">\n",
       "  <thead>\n",
       "    <tr style=\"text-align: right;\">\n",
       "      <th></th>\n",
       "      <th>retail_1</th>\n",
       "      <th>foreigner_1</th>\n",
       "      <th>institution_1</th>\n",
       "      <th>financial_1</th>\n",
       "      <th>invtrust_1</th>\n",
       "      <th>pension_1</th>\n",
       "      <th>privequity_1</th>\n",
       "      <th>bank_1</th>\n",
       "      <th>insurance_1</th>\n",
       "      <th>financeetc_1</th>\n",
       "      <th>...</th>\n",
       "      <th>ixk_cr</th>\n",
       "      <th>ixk_cr_2</th>\n",
       "      <th>ixtr_cr</th>\n",
       "      <th>ixtr_cr_2</th>\n",
       "      <th>ixut_cr</th>\n",
       "      <th>ixut_cr_2</th>\n",
       "      <th>nbi_cr</th>\n",
       "      <th>nbi_cr_2</th>\n",
       "      <th>bkx_cr</th>\n",
       "      <th>bkx_cr_2</th>\n",
       "    </tr>\n",
       "  </thead>\n",
       "  <tbody>\n",
       "    <tr>\n",
       "      <th>2024-09-09</th>\n",
       "      <td>-0.81729</td>\n",
       "      <td>-0.61109</td>\n",
       "      <td>-1.91587</td>\n",
       "      <td>1.25452</td>\n",
       "      <td>-0.59185</td>\n",
       "      <td>-0.22946</td>\n",
       "      <td>4.43458</td>\n",
       "      <td>35.66667</td>\n",
       "      <td>-0.56308</td>\n",
       "      <td>-0.30882</td>\n",
       "      <td>...</td>\n",
       "      <td>-2.77%</td>\n",
       "      <td>-2.61717</td>\n",
       "      <td>-0.88%</td>\n",
       "      <td>-2.80819</td>\n",
       "      <td>-1.42%</td>\n",
       "      <td>-1.40961</td>\n",
       "      <td>-1.31%</td>\n",
       "      <td>-2.08110</td>\n",
       "      <td>-2.57%</td>\n",
       "      <td>-3.37683</td>\n",
       "    </tr>\n",
       "    <tr>\n",
       "      <th>2024-09-10</th>\n",
       "      <td>-1.65778</td>\n",
       "      <td>-2.26755</td>\n",
       "      <td>-4.00803</td>\n",
       "      <td>-2.15139</td>\n",
       "      <td>-1.35602</td>\n",
       "      <td>2.03111</td>\n",
       "      <td>-0.97994</td>\n",
       "      <td>-2.82727</td>\n",
       "      <td>-0.87166</td>\n",
       "      <td>-0.84043</td>\n",
       "      <td>...</td>\n",
       "      <td>1.05%</td>\n",
       "      <td>-1.75580</td>\n",
       "      <td>1.76%</td>\n",
       "      <td>0.87073</td>\n",
       "      <td>0.47%</td>\n",
       "      <td>-0.96085</td>\n",
       "      <td>1.55%</td>\n",
       "      <td>0.21736</td>\n",
       "      <td>1.81%</td>\n",
       "      <td>-0.80904</td>\n",
       "    </tr>\n",
       "    <tr>\n",
       "      <th>2024-09-11</th>\n",
       "      <td>-0.54394</td>\n",
       "      <td>-1.41749</td>\n",
       "      <td>-1.17019</td>\n",
       "      <td>-0.82304</td>\n",
       "      <td>-1.77107</td>\n",
       "      <td>-1.63284</td>\n",
       "      <td>2.38571</td>\n",
       "      <td>-0.99005</td>\n",
       "      <td>35.41667</td>\n",
       "      <td>-1.00000</td>\n",
       "      <td>...</td>\n",
       "      <td>0.92%</td>\n",
       "      <td>1.97453</td>\n",
       "      <td>-0.19%</td>\n",
       "      <td>1.56732</td>\n",
       "      <td>-0.13%</td>\n",
       "      <td>0.34008</td>\n",
       "      <td>0.51%</td>\n",
       "      <td>2.06718</td>\n",
       "      <td>-1.84%</td>\n",
       "      <td>-0.06387</td>\n",
       "    </tr>\n",
       "    <tr>\n",
       "      <th>2024-09-12</th>\n",
       "      <td>-27.23583</td>\n",
       "      <td>4.57115</td>\n",
       "      <td>-11.95733</td>\n",
       "      <td>6.10748</td>\n",
       "      <td>13.13866</td>\n",
       "      <td>-1.70171</td>\n",
       "      <td>-13.91139</td>\n",
       "      <td>285.50000</td>\n",
       "      <td>3.93135</td>\n",
       "      <td>-inf</td>\n",
       "      <td>...</td>\n",
       "      <td>3.07%</td>\n",
       "      <td>4.01454</td>\n",
       "      <td>-0.28%</td>\n",
       "      <td>-0.47558</td>\n",
       "      <td>0.55%</td>\n",
       "      <td>0.42430</td>\n",
       "      <td>0.22%</td>\n",
       "      <td>0.72447</td>\n",
       "      <td>-0.38%</td>\n",
       "      <td>-2.21386</td>\n",
       "    </tr>\n",
       "    <tr>\n",
       "      <th>2024-09-13</th>\n",
       "      <td>-1.48942</td>\n",
       "      <td>-1.70544</td>\n",
       "      <td>-0.92721</td>\n",
       "      <td>-2.37626</td>\n",
       "      <td>0.54552</td>\n",
       "      <td>-1.08881</td>\n",
       "      <td>0.37353</td>\n",
       "      <td>-1.12740</td>\n",
       "      <td>-1.11415</td>\n",
       "      <td>-0.96471</td>\n",
       "      <td>...</td>\n",
       "      <td>NaN</td>\n",
       "      <td>NaN</td>\n",
       "      <td>NaN</td>\n",
       "      <td>NaN</td>\n",
       "      <td>NaN</td>\n",
       "      <td>NaN</td>\n",
       "      <td>NaN</td>\n",
       "      <td>NaN</td>\n",
       "      <td>NaN</td>\n",
       "      <td>NaN</td>\n",
       "    </tr>\n",
       "  </tbody>\n",
       "</table>\n",
       "<p>5 rows × 114 columns</p>\n",
       "</div>"
      ],
      "text/plain": [
       "            retail_1  foreigner_1  institution_1  financial_1  invtrust_1  \\\n",
       "2024-09-09  -0.81729     -0.61109       -1.91587      1.25452    -0.59185   \n",
       "2024-09-10  -1.65778     -2.26755       -4.00803     -2.15139    -1.35602   \n",
       "2024-09-11  -0.54394     -1.41749       -1.17019     -0.82304    -1.77107   \n",
       "2024-09-12 -27.23583      4.57115      -11.95733      6.10748    13.13866   \n",
       "2024-09-13  -1.48942     -1.70544       -0.92721     -2.37626     0.54552   \n",
       "\n",
       "            pension_1  privequity_1     bank_1  insurance_1  financeetc_1  \\\n",
       "2024-09-09   -0.22946       4.43458   35.66667     -0.56308      -0.30882   \n",
       "2024-09-10    2.03111      -0.97994   -2.82727     -0.87166      -0.84043   \n",
       "2024-09-11   -1.63284       2.38571   -0.99005     35.41667      -1.00000   \n",
       "2024-09-12   -1.70171     -13.91139  285.50000      3.93135          -inf   \n",
       "2024-09-13   -1.08881       0.37353   -1.12740     -1.11415      -0.96471   \n",
       "\n",
       "            ...  ixk_cr  ixk_cr_2  ixtr_cr  ixtr_cr_2  ixut_cr  ixut_cr_2  \\\n",
       "2024-09-09  ...  -2.77%  -2.61717   -0.88%   -2.80819   -1.42%   -1.40961   \n",
       "2024-09-10  ...   1.05%  -1.75580    1.76%    0.87073    0.47%   -0.96085   \n",
       "2024-09-11  ...   0.92%   1.97453   -0.19%    1.56732   -0.13%    0.34008   \n",
       "2024-09-12  ...   3.07%   4.01454   -0.28%   -0.47558    0.55%    0.42430   \n",
       "2024-09-13  ...     NaN       NaN      NaN        NaN      NaN        NaN   \n",
       "\n",
       "            nbi_cr  nbi_cr_2  bkx_cr  bkx_cr_2  \n",
       "2024-09-09  -1.31%  -2.08110  -2.57%  -3.37683  \n",
       "2024-09-10   1.55%   0.21736   1.81%  -0.80904  \n",
       "2024-09-11   0.51%   2.06718  -1.84%  -0.06387  \n",
       "2024-09-12   0.22%   0.72447  -0.38%  -2.21386  \n",
       "2024-09-13     NaN       NaN     NaN       NaN  \n",
       "\n",
       "[5 rows x 114 columns]"
      ]
     },
     "execution_count": 8,
     "metadata": {},
     "output_type": "execute_result"
    }
   ],
   "source": [
    "df_hyunmotor_combine.tail()"
   ]
  },
  {
   "cell_type": "code",
   "execution_count": 9,
   "id": "aeab3342",
   "metadata": {},
   "outputs": [
    {
     "data": {
      "text/plain": [
       "datetime.date(2022, 1, 7)"
      ]
     },
     "execution_count": 9,
     "metadata": {},
     "output_type": "execute_result"
    }
   ],
   "source": [
    "df_hyunmotor_combine.index[0]"
   ]
  },
  {
   "cell_type": "code",
   "execution_count": 10,
   "id": "587ac2cd",
   "metadata": {},
   "outputs": [],
   "source": [
    "col_inv1 = ['retail_1', 'foreigner_1', 'institution_1', 'financial_1', 'invtrust_1', 'pension_1', 'privequity_1', \n",
    "            'bank_1', 'insurance_1', 'financeetc_1', 'corporateetc_1', 'foreigneretc_1']\n",
    "col_inv2 = ['retail_2', 'foreigner_2', 'institution_2', 'financial_2', 'invtrust_2', 'pension_2',\n",
    "            'privequity_2', 'bank_2', 'insurance_2', 'financeetc_2', 'corporateetc_2', 'foreigneretc_2']"
   ]
  },
  {
   "cell_type": "code",
   "execution_count": 11,
   "id": "76ca8389",
   "metadata": {},
   "outputs": [],
   "source": [
    "col_his1 = ['open_1', 'high_1', 'low_1', 'close_1', 'vol_1']\n",
    "col_his2 = ['open_2', 'high_2', 'low_2', 'close_2', 'vol_2']"
   ]
  },
  {
   "cell_type": "code",
   "execution_count": 12,
   "id": "8a6b4bac",
   "metadata": {},
   "outputs": [],
   "source": [
    "col_common1 = [\"dji_cr\", \"dji_f_cr\", \"dxy_cr\", \"ixic_f_cr\", \"bond_kor_10_cr\", \"bond_kor_2_cr\", \"kosdaq_cr\", \"kospi_cr\", \n",
    "         \"krw_cr\", \"ixic_cr\", \"spx_f_cr\", \"sox_cr\", \"spx_cr\", \"bond_usa_10_cr\", \"bond_usa_2_cr\", \"bond_usa_3m_cr\", \n",
    "         \"vix_cr\", \"wti_cr\", \"spsy_cr\", \"spny_cr\", \"spxhc_cr\", \"splrcd_cr\", \"splrci_cr\", \"splrcu_cr\", \"splrcs_cr\",\n",
    "         \"splrct_cr\", \"splrcl_cr\", \"splrcm_cr\", \"ixbk_cr\", \"ixfn_cr\", \"ixid_cr\", \"ixis_cr\", \"ixk_cr\", \"ixtr_cr\",\n",
    "         \"ixut_cr\", \"nbi_cr\", \"bkx_cr\"]\n",
    "col_common2 = [\"dji_cr_2\", \"dji_f_cr_2\", \"dxy_cr_2\", \"ixic_f_cr_2\", \"bond_kor_10_cr_2\", \"bond_kor_2_cr_2\", \"kosdaq_cr_2\", \"kospi_cr_2\",\n",
    "         \"krw_cr_2\", \"ixic_cr_2\", \"spx_f_cr_2\", \"sox_cr_2\", \"spx_cr_2\", \"bond_usa_10_cr_2\", \"bond_usa_2_cr_2\", \"bond_usa_3m_cr_2\",\n",
    "         \"vix_cr_2\", \"wti_cr_2\", \"spsy_cr_2\", \"spny_cr_2\", \"spxhc_cr_2\", \"splrcd_cr_2\", \"splrci_cr_2\", \"splrcu_cr_2\",\n",
    "         \"splrcs_cr_2\", \"splrct_cr_2\", \"splrcl_cr_2\", \"splrcm_cr_2\", \"ixbk_cr_2\", \"ixfn_cr_2\", \"ixid_cr_2\",\n",
    "         \"ixis_cr_2\", \"ixk_cr_2\", \"ixtr_cr_2\", \"ixut_cr_2\", \"nbi_cr_2\", \"bkx_cr_2\"]"
   ]
  },
  {
   "cell_type": "code",
   "execution_count": 13,
   "id": "9a595935",
   "metadata": {},
   "outputs": [],
   "source": [
    "col_cr = ['weekday', 'cr_00', 'cr_05', 'cr_10', 'cr_15', 'cr_20']"
   ]
  },
  {
   "cell_type": "code",
   "execution_count": 14,
   "id": "75ec6070",
   "metadata": {},
   "outputs": [],
   "source": [
    "col_col = col_inv1 + col_common1 + col_his1 + col_inv2 + col_common2 + col_his2 + col_cr"
   ]
  },
  {
   "cell_type": "code",
   "execution_count": 15,
   "id": "ff6769da",
   "metadata": {},
   "outputs": [],
   "source": [
    "# # write common data only\n",
    "# df_temp = df_common.copy()\n",
    "# df_temp = df_temp[col_common1+col_common2]\n",
    "# pkl_common_directory = './data/common_pkl/'\n",
    "# df_temp.to_pickle(pkl_common_directory + 'df_common.pkl')\n",
    "# df_temp.to_csv(pkl_common_directory + 'df_common.csv')"
   ]
  },
  {
   "cell_type": "code",
   "execution_count": 16,
   "id": "c78c8f82",
   "metadata": {},
   "outputs": [],
   "source": [
    "new_columns = col_col"
   ]
  },
  {
   "cell_type": "code",
   "execution_count": 17,
   "id": "02da1256",
   "metadata": {},
   "outputs": [],
   "source": [
    "# column 순서 변경 : weekday, 'cr_00', 'cr_05', 'cr_10', 'cr_15', 'cr_20' column을 마지막으로 이동 \n",
    "for key, val in code.items():\n",
    "    globals()['df_{}_combine'.format(val[1])] = globals()['df_{}_combine'.format(val[1])][new_columns]"
   ]
  },
  {
   "cell_type": "code",
   "execution_count": 18,
   "id": "d4f1fa06",
   "metadata": {},
   "outputs": [
    {
     "data": {
      "text/plain": [
       "'\\n# drop inf, -inf : replace inf to 1 or -1 . 데이터를 살리고\\n# 변동률이 무한대가 되는 것을 방지하기 위해서, 나중에 발생하는 에러를 방지\\ndf_sec_sel.replace([np.inf, -np.inf], [1, -1], inplace=True)\\n\\n.impute 사용하는 것을 고려할 필요 있음.\\n'"
      ]
     },
     "execution_count": 18,
     "metadata": {},
     "output_type": "execute_result"
    }
   ],
   "source": [
    "'''\n",
    "# drop inf, -inf : replace inf to 1 or -1 . 데이터를 살리고\n",
    "# 변동률이 무한대가 되는 것을 방지하기 위해서, 나중에 발생하는 에러를 방지\n",
    "df_sec_sel.replace([np.inf, -np.inf], [1, -1], inplace=True)\n",
    "\n",
    ".impute 사용하는 것을 고려할 필요 있음.\n",
    "'''"
   ]
  },
  {
   "cell_type": "code",
   "execution_count": 19,
   "id": "7e91c1c5",
   "metadata": {},
   "outputs": [],
   "source": [
    "# drop inf, -inf : replace inf to 1 or -1 . 데이터를 살리고\n",
    "# 변동률이 무한대가 되는 것을 방지하기 위해서, 나중에 발생하는 에러를 방지\n",
    "for key, val in code.items():\n",
    "    globals()['df_{}_combine'.format(val[1])].replace([np.inf, -np.inf], [1, -1], inplace=True)\n",
    "\n",
    "# **** 데이터 전처리 from sklearn.impute import SimpleImputer, SimpleImputer 사용하기로 함."
   ]
  },
  {
   "cell_type": "code",
   "execution_count": 20,
   "id": "3fa3914b",
   "metadata": {},
   "outputs": [
    {
     "data": {
      "text/html": [
       "<div>\n",
       "<style scoped>\n",
       "    .dataframe tbody tr th:only-of-type {\n",
       "        vertical-align: middle;\n",
       "    }\n",
       "\n",
       "    .dataframe tbody tr th {\n",
       "        vertical-align: top;\n",
       "    }\n",
       "\n",
       "    .dataframe thead th {\n",
       "        text-align: right;\n",
       "    }\n",
       "</style>\n",
       "<table border=\"1\" class=\"dataframe\">\n",
       "  <thead>\n",
       "    <tr style=\"text-align: right;\">\n",
       "      <th></th>\n",
       "      <th>retail_1</th>\n",
       "      <th>foreigner_1</th>\n",
       "      <th>institution_1</th>\n",
       "      <th>financial_1</th>\n",
       "      <th>invtrust_1</th>\n",
       "      <th>pension_1</th>\n",
       "      <th>privequity_1</th>\n",
       "      <th>bank_1</th>\n",
       "      <th>insurance_1</th>\n",
       "      <th>financeetc_1</th>\n",
       "      <th>...</th>\n",
       "      <th>high_2</th>\n",
       "      <th>low_2</th>\n",
       "      <th>close_2</th>\n",
       "      <th>vol_2</th>\n",
       "      <th>weekday</th>\n",
       "      <th>cr_00</th>\n",
       "      <th>cr_05</th>\n",
       "      <th>cr_10</th>\n",
       "      <th>cr_15</th>\n",
       "      <th>cr_20</th>\n",
       "    </tr>\n",
       "  </thead>\n",
       "  <tbody>\n",
       "    <tr>\n",
       "      <th>2024-09-09</th>\n",
       "      <td>-0.69157</td>\n",
       "      <td>-0.72466</td>\n",
       "      <td>0.08999</td>\n",
       "      <td>0.01582</td>\n",
       "      <td>-0.08305</td>\n",
       "      <td>0.76374</td>\n",
       "      <td>-1.91369</td>\n",
       "      <td>-0.76244</td>\n",
       "      <td>-0.25270</td>\n",
       "      <td>-0.81673</td>\n",
       "      <td>...</td>\n",
       "      <td>-0.01969</td>\n",
       "      <td>-0.02579</td>\n",
       "      <td>-0.01571</td>\n",
       "      <td>-0.30491</td>\n",
       "      <td>4</td>\n",
       "      <td>0</td>\n",
       "      <td>0</td>\n",
       "      <td>0</td>\n",
       "      <td>0</td>\n",
       "      <td>0</td>\n",
       "    </tr>\n",
       "    <tr>\n",
       "      <th>2024-09-10</th>\n",
       "      <td>1.23723</td>\n",
       "      <td>1.31384</td>\n",
       "      <td>0.93576</td>\n",
       "      <td>-2.30221</td>\n",
       "      <td>-0.76615</td>\n",
       "      <td>-0.73998</td>\n",
       "      <td>-4.35197</td>\n",
       "      <td>-2.86579</td>\n",
       "      <td>-0.78358</td>\n",
       "      <td>-19.88350</td>\n",
       "      <td>...</td>\n",
       "      <td>-0.04213</td>\n",
       "      <td>-0.03478</td>\n",
       "      <td>-0.02174</td>\n",
       "      <td>-0.09435</td>\n",
       "      <td>0</td>\n",
       "      <td>0</td>\n",
       "      <td>0</td>\n",
       "      <td>0</td>\n",
       "      <td>0</td>\n",
       "      <td>0</td>\n",
       "    </tr>\n",
       "    <tr>\n",
       "      <th>2024-09-11</th>\n",
       "      <td>0.54493</td>\n",
       "      <td>0.52537</td>\n",
       "      <td>0.57198</td>\n",
       "      <td>1.26540</td>\n",
       "      <td>1.87116</td>\n",
       "      <td>-2.25589</td>\n",
       "      <td>-0.66673</td>\n",
       "      <td>-2.02632</td>\n",
       "      <td>18.32759</td>\n",
       "      <td>-0.94293</td>\n",
       "      <td>...</td>\n",
       "      <td>-0.03443</td>\n",
       "      <td>-0.02941</td>\n",
       "      <td>-0.03919</td>\n",
       "      <td>0.61134</td>\n",
       "      <td>1</td>\n",
       "      <td>0</td>\n",
       "      <td>0</td>\n",
       "      <td>0</td>\n",
       "      <td>0</td>\n",
       "      <td>0</td>\n",
       "    </tr>\n",
       "    <tr>\n",
       "      <th>2024-09-12</th>\n",
       "      <td>0.32370</td>\n",
       "      <td>0.53421</td>\n",
       "      <td>-0.53305</td>\n",
       "      <td>-1.09416</td>\n",
       "      <td>1.40748</td>\n",
       "      <td>-2.23932</td>\n",
       "      <td>-0.32666</td>\n",
       "      <td>-0.74701</td>\n",
       "      <td>-0.78295</td>\n",
       "      <td>-0.38288</td>\n",
       "      <td>...</td>\n",
       "      <td>-0.03959</td>\n",
       "      <td>-0.03604</td>\n",
       "      <td>-0.03852</td>\n",
       "      <td>0.53932</td>\n",
       "      <td>2</td>\n",
       "      <td>1</td>\n",
       "      <td>1</td>\n",
       "      <td>1</td>\n",
       "      <td>1</td>\n",
       "      <td>1</td>\n",
       "    </tr>\n",
       "    <tr>\n",
       "      <th>2024-09-13</th>\n",
       "      <td>-0.62469</td>\n",
       "      <td>-0.61543</td>\n",
       "      <td>-2.49100</td>\n",
       "      <td>7.91307</td>\n",
       "      <td>-1.95233</td>\n",
       "      <td>1.64257</td>\n",
       "      <td>-4.64280</td>\n",
       "      <td>-0.49662</td>\n",
       "      <td>-2.79630</td>\n",
       "      <td>-4.48175</td>\n",
       "      <td>...</td>\n",
       "      <td>-0.01040</td>\n",
       "      <td>-0.01212</td>\n",
       "      <td>0.00151</td>\n",
       "      <td>0.16262</td>\n",
       "      <td>3</td>\n",
       "      <td>0</td>\n",
       "      <td>0</td>\n",
       "      <td>0</td>\n",
       "      <td>0</td>\n",
       "      <td>0</td>\n",
       "    </tr>\n",
       "  </tbody>\n",
       "</table>\n",
       "<p>5 rows × 114 columns</p>\n",
       "</div>"
      ],
      "text/plain": [
       "            retail_1  foreigner_1  institution_1  financial_1  invtrust_1  \\\n",
       "2024-09-09  -0.69157     -0.72466        0.08999      0.01582    -0.08305   \n",
       "2024-09-10   1.23723      1.31384        0.93576     -2.30221    -0.76615   \n",
       "2024-09-11   0.54493      0.52537        0.57198      1.26540     1.87116   \n",
       "2024-09-12   0.32370      0.53421       -0.53305     -1.09416     1.40748   \n",
       "2024-09-13  -0.62469     -0.61543       -2.49100      7.91307    -1.95233   \n",
       "\n",
       "            pension_1  privequity_1   bank_1  insurance_1  financeetc_1  ...  \\\n",
       "2024-09-09    0.76374      -1.91369 -0.76244     -0.25270      -0.81673  ...   \n",
       "2024-09-10   -0.73998      -4.35197 -2.86579     -0.78358     -19.88350  ...   \n",
       "2024-09-11   -2.25589      -0.66673 -2.02632     18.32759      -0.94293  ...   \n",
       "2024-09-12   -2.23932      -0.32666 -0.74701     -0.78295      -0.38288  ...   \n",
       "2024-09-13    1.64257      -4.64280 -0.49662     -2.79630      -4.48175  ...   \n",
       "\n",
       "             high_2    low_2  close_2    vol_2  weekday  cr_00 cr_05 cr_10  \\\n",
       "2024-09-09 -0.01969 -0.02579 -0.01571 -0.30491        4      0     0     0   \n",
       "2024-09-10 -0.04213 -0.03478 -0.02174 -0.09435        0      0     0     0   \n",
       "2024-09-11 -0.03443 -0.02941 -0.03919  0.61134        1      0     0     0   \n",
       "2024-09-12 -0.03959 -0.03604 -0.03852  0.53932        2      1     1     1   \n",
       "2024-09-13 -0.01040 -0.01212  0.00151  0.16262        3      0     0     0   \n",
       "\n",
       "            cr_15  cr_20  \n",
       "2024-09-09      0      0  \n",
       "2024-09-10      0      0  \n",
       "2024-09-11      0      0  \n",
       "2024-09-12      1      1  \n",
       "2024-09-13      0      0  \n",
       "\n",
       "[5 rows x 114 columns]"
      ]
     },
     "execution_count": 20,
     "metadata": {},
     "output_type": "execute_result"
    }
   ],
   "source": [
    "df_sec_combine.tail()"
   ]
  },
  {
   "cell_type": "code",
   "execution_count": 21,
   "id": "bf7224df",
   "metadata": {},
   "outputs": [],
   "source": [
    "nanlo = locate_nan(df_sec_combine)  # nan 위치 찾기"
   ]
  },
  {
   "cell_type": "code",
   "execution_count": 22,
   "id": "2f63d7f5",
   "metadata": {},
   "outputs": [
    {
     "name": "stdout",
     "output_type": "stream",
     "text": [
      "[[datetime.date(2022, 1, 18) 'dji_cr']\n",
      " [datetime.date(2022, 1, 18) 'dji_f_cr']\n",
      " [datetime.date(2022, 1, 18) 'dxy_cr']\n",
      " ...\n",
      " [datetime.date(2024, 9, 13) 'ixut_cr_2']\n",
      " [datetime.date(2024, 9, 13) 'nbi_cr_2']\n",
      " [datetime.date(2024, 9, 13) 'bkx_cr_2']]\n"
     ]
    }
   ],
   "source": [
    "print(nanlo)"
   ]
  },
  {
   "cell_type": "code",
   "execution_count": 23,
   "id": "21a6d628",
   "metadata": {},
   "outputs": [],
   "source": [
    "# delete rows which include NaN : dji, spx, nasdaq 기타 common 지수중 한개라도 nan인 rows 제거\n",
    "for key, val in code.items():\n",
    "    globals()['df_{}_combine'.format(val[1])].dropna(inplace=True)"
   ]
  },
  {
   "cell_type": "code",
   "execution_count": 24,
   "id": "c6f3061c",
   "metadata": {},
   "outputs": [],
   "source": [
    "# string column을 numeric으로 전환\n",
    "def string_to_num(df):\n",
    "    df.replace('%', '', regex=True, inplace=True)\n",
    "    df = df.apply(pd.to_numeric)\n",
    "    return df\n",
    "\n",
    "for key, val in code.items():\n",
    "    globals()['df_{}_combine'.format(val[1])] = string_to_num(globals()['df_{}_combine'.format(val[1])])"
   ]
  },
  {
   "cell_type": "code",
   "execution_count": 25,
   "id": "7e8d5acf",
   "metadata": {},
   "outputs": [],
   "source": [
    "# pickle로 데이터 저장\n",
    "\n",
    "for key, val in code.items():\n",
    "    globals()[f'df_{val[1]}_combine'].to_pickle(directory_for_predict + f'df_{val[1]}_combine.pkl')\n",
    "    globals()[f'df_{val[1]}_combine'].to_csv(directory_for_predict + f'df_{val[1]}_combine.csv')"
   ]
  },
  {
   "cell_type": "code",
   "execution_count": null,
   "id": "a01825d3",
   "metadata": {},
   "outputs": [],
   "source": []
  },
  {
   "cell_type": "code",
   "execution_count": null,
   "id": "3300e5b2",
   "metadata": {},
   "outputs": [],
   "source": []
  },
  {
   "cell_type": "code",
   "execution_count": null,
   "id": "1ffeab80",
   "metadata": {},
   "outputs": [],
   "source": []
  },
  {
   "cell_type": "code",
   "execution_count": null,
   "id": "a1f7c9d1",
   "metadata": {},
   "outputs": [],
   "source": []
  },
  {
   "cell_type": "code",
   "execution_count": null,
   "id": "bc80b897",
   "metadata": {},
   "outputs": [],
   "source": []
  }
 ],
 "metadata": {
  "kernelspec": {
   "display_name": "Python 3 (ipykernel)",
   "language": "python",
   "name": "python3"
  },
  "language_info": {
   "codemirror_mode": {
    "name": "ipython",
    "version": 3
   },
   "file_extension": ".py",
   "mimetype": "text/x-python",
   "name": "python",
   "nbconvert_exporter": "python",
   "pygments_lexer": "ipython3",
   "version": "3.12.2"
  }
 },
 "nbformat": 4,
 "nbformat_minor": 5
}
