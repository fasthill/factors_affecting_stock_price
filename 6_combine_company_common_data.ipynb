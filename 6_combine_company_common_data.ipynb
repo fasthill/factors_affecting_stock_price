{
 "cells": [
  {
   "cell_type": "markdown",
   "id": "459ff0ca",
   "metadata": {},
   "source": [
    "## combine company data and common data"
   ]
  },
  {
   "cell_type": "code",
   "execution_count": 1,
   "id": "d3b5a935",
   "metadata": {},
   "outputs": [],
   "source": [
    "import datetime, time\n",
    "from datetime import date\n",
    "\n",
    "import pandas as pd\n",
    "import numpy as np\n",
    "import os\n",
    "import sys\n",
    "\n",
    "from sklearn.preprocessing import StandardScaler"
   ]
  },
  {
   "cell_type": "code",
   "execution_count": 2,
   "id": "8ef51f99",
   "metadata": {},
   "outputs": [],
   "source": [
    "module_path = os.path.abspath(os.path.join('.')) \n",
    "sys.path.append(module_path+\"\\\\data\\\\constant\")\n",
    "\n",
    "from constants import COMPANY_CODE"
   ]
  },
  {
   "cell_type": "code",
   "execution_count": 3,
   "id": "9ea60572",
   "metadata": {},
   "outputs": [
    {
     "data": {
      "text/plain": [
       "\" \\n[[datetime.date(2022, 1, 17) 'dji_cr']\\n [datetime.date(2022, 1, 17) 'dji_f_cr']\\n ...\\n [datetime.date(2023, 5, 23) 'kosdaq_cr']\\n [datetime.date(2023, 5, 23) 'kosdaq_cr_2']]\\n\""
      ]
     },
     "execution_count": 3,
     "metadata": {},
     "output_type": "execute_result"
    }
   ],
   "source": [
    "def locate_nan(df):\n",
    "    idx, idy = np.where(pd.isnull(df))\n",
    "    result = np.column_stack([df.index[idx], df.columns[idy]])\n",
    "    return result\n",
    "\n",
    "# return format\n",
    "''' \n",
    "[[datetime.date(2022, 1, 17) 'dji_cr']\n",
    " [datetime.date(2022, 1, 17) 'dji_f_cr']\n",
    " ...\n",
    " [datetime.date(2023, 5, 23) 'kosdaq_cr']\n",
    " [datetime.date(2023, 5, 23) 'kosdaq_cr_2']]\n",
    "'''"
   ]
  },
  {
   "cell_type": "code",
   "execution_count": 4,
   "id": "d6f9e0c8",
   "metadata": {},
   "outputs": [],
   "source": [
    "code = COMPANY_CODE\n",
    "\n",
    "# code = {'005930': ['삼성전자', 'sec'], '005380': ['현대차', 'hyunmotor'],\n",
    "#                  '035420': ['NAVER', 'naver'], '033780': ['KT&G', 'ktng']}\n",
    "# code = {'005930': ['삼성전자', 'sec'], '000660': ['SK하이닉스', 'skhynix']}\n",
    "# code = {'302440': ['SK바이오사이언스', 'skbio']}"
   ]
  },
  {
   "cell_type": "code",
   "execution_count": 5,
   "id": "1ced9635",
   "metadata": {},
   "outputs": [],
   "source": [
    "directory_for_predict = './data/data_for_ml/predict/'\n",
    "pkl_common_directory = './data/common_pkl/'\n",
    "pkl_directory = './data/common_pkl/'"
   ]
  },
  {
   "cell_type": "code",
   "execution_count": 6,
   "id": "a4ac3c16",
   "metadata": {},
   "outputs": [],
   "source": [
    "df_common = pd.read_pickle(directory_for_predict + '0_df_common.pkl')"
   ]
  },
  {
   "cell_type": "code",
   "execution_count": 7,
   "id": "82d5ae58",
   "metadata": {},
   "outputs": [],
   "source": [
    "for key, val in code.items():\n",
    "    df_company = pd.read_pickle(directory_for_predict + f'df_{val[1]}_company.pkl')\n",
    "    df_company = df_company.merge(df_common, how='left', left_index=True, right_index=True)\n",
    "    globals()[f'df_{val[1]}_combine'] = df_company.copy()"
   ]
  },
  {
   "cell_type": "code",
   "execution_count": 8,
   "id": "6c798e31",
   "metadata": {},
   "outputs": [
    {
     "data": {
      "text/html": [
       "<div>\n",
       "<style scoped>\n",
       "    .dataframe tbody tr th:only-of-type {\n",
       "        vertical-align: middle;\n",
       "    }\n",
       "\n",
       "    .dataframe tbody tr th {\n",
       "        vertical-align: top;\n",
       "    }\n",
       "\n",
       "    .dataframe thead th {\n",
       "        text-align: right;\n",
       "    }\n",
       "</style>\n",
       "<table border=\"1\" class=\"dataframe\">\n",
       "  <thead>\n",
       "    <tr style=\"text-align: right;\">\n",
       "      <th></th>\n",
       "      <th>retail_1</th>\n",
       "      <th>foreigner_1</th>\n",
       "      <th>institution_1</th>\n",
       "      <th>financial_1</th>\n",
       "      <th>invtrust_1</th>\n",
       "      <th>pension_1</th>\n",
       "      <th>privequity_1</th>\n",
       "      <th>bank_1</th>\n",
       "      <th>insurance_1</th>\n",
       "      <th>financeetc_1</th>\n",
       "      <th>...</th>\n",
       "      <th>ixk_cr</th>\n",
       "      <th>ixk_cr_2</th>\n",
       "      <th>ixtr_cr</th>\n",
       "      <th>ixtr_cr_2</th>\n",
       "      <th>ixut_cr</th>\n",
       "      <th>ixut_cr_2</th>\n",
       "      <th>nbi_cr</th>\n",
       "      <th>nbi_cr_2</th>\n",
       "      <th>bkx_cr</th>\n",
       "      <th>bkx_cr_2</th>\n",
       "    </tr>\n",
       "  </thead>\n",
       "  <tbody>\n",
       "    <tr>\n",
       "      <th>2024-04-03</th>\n",
       "      <td>0.03680</td>\n",
       "      <td>-6.99857</td>\n",
       "      <td>-0.76031</td>\n",
       "      <td>-0.37456</td>\n",
       "      <td>-1.03342</td>\n",
       "      <td>-13.90271</td>\n",
       "      <td>0.37023</td>\n",
       "      <td>3.08511</td>\n",
       "      <td>-0.77918</td>\n",
       "      <td>-0.95928</td>\n",
       "      <td>...</td>\n",
       "      <td>-0.79%</td>\n",
       "      <td>-0.18964</td>\n",
       "      <td>-1.32%</td>\n",
       "      <td>-2.25294</td>\n",
       "      <td>-1.13%</td>\n",
       "      <td>-2.10026</td>\n",
       "      <td>-2.17%</td>\n",
       "      <td>-2.66074</td>\n",
       "      <td>-0.94%</td>\n",
       "      <td>-2.07916</td>\n",
       "    </tr>\n",
       "    <tr>\n",
       "      <th>2024-04-04</th>\n",
       "      <td>0.09023</td>\n",
       "      <td>-0.88467</td>\n",
       "      <td>3.04205</td>\n",
       "      <td>1.91572</td>\n",
       "      <td>-3.78571</td>\n",
       "      <td>-0.84850</td>\n",
       "      <td>0.47593</td>\n",
       "      <td>-0.89931</td>\n",
       "      <td>-1.01178</td>\n",
       "      <td>-1.00000</td>\n",
       "      <td>...</td>\n",
       "      <td>0.24%</td>\n",
       "      <td>-0.55037</td>\n",
       "      <td>0.22%</td>\n",
       "      <td>-1.09797</td>\n",
       "      <td>-0.25%</td>\n",
       "      <td>-1.37310</td>\n",
       "      <td>-0.14%</td>\n",
       "      <td>-2.31174</td>\n",
       "      <td>-0.08%</td>\n",
       "      <td>-1.01313</td>\n",
       "    </tr>\n",
       "    <tr>\n",
       "      <th>2024-04-05</th>\n",
       "      <td>-2.79952</td>\n",
       "      <td>-4.53278</td>\n",
       "      <td>-2.57478</td>\n",
       "      <td>-1.25143</td>\n",
       "      <td>-7.12011</td>\n",
       "      <td>6.75347</td>\n",
       "      <td>-3.34457</td>\n",
       "      <td>-23.25862</td>\n",
       "      <td>482.42857</td>\n",
       "      <td>-inf</td>\n",
       "      <td>...</td>\n",
       "      <td>-1.68%</td>\n",
       "      <td>-1.44219</td>\n",
       "      <td>-0.84%</td>\n",
       "      <td>-0.61831</td>\n",
       "      <td>-1.23%</td>\n",
       "      <td>-1.47761</td>\n",
       "      <td>-1.28%</td>\n",
       "      <td>-1.42042</td>\n",
       "      <td>-1.12%</td>\n",
       "      <td>-1.19801</td>\n",
       "    </tr>\n",
       "    <tr>\n",
       "      <th>2024-04-08</th>\n",
       "      <td>-0.57964</td>\n",
       "      <td>4.96727</td>\n",
       "      <td>-1.45370</td>\n",
       "      <td>-4.03444</td>\n",
       "      <td>-1.25954</td>\n",
       "      <td>-1.66055</td>\n",
       "      <td>-0.96286</td>\n",
       "      <td>-1.08908</td>\n",
       "      <td>-0.83422</td>\n",
       "      <td>-2.70588</td>\n",
       "      <td>...</td>\n",
       "      <td>1.48%</td>\n",
       "      <td>-0.22341</td>\n",
       "      <td>1.27%</td>\n",
       "      <td>0.41796</td>\n",
       "      <td>-0.16%</td>\n",
       "      <td>-1.38712</td>\n",
       "      <td>0.62%</td>\n",
       "      <td>-0.67394</td>\n",
       "      <td>0.45%</td>\n",
       "      <td>-0.67258</td>\n",
       "    </tr>\n",
       "    <tr>\n",
       "      <th>2024-04-09</th>\n",
       "      <td>2.65126</td>\n",
       "      <td>0.86227</td>\n",
       "      <td>-0.77299</td>\n",
       "      <td>0.26305</td>\n",
       "      <td>-5.23364</td>\n",
       "      <td>-2.27277</td>\n",
       "      <td>1.33282</td>\n",
       "      <td>3.93913</td>\n",
       "      <td>-0.27094</td>\n",
       "      <td>-1.20690</td>\n",
       "      <td>...</td>\n",
       "      <td>NaN</td>\n",
       "      <td>NaN</td>\n",
       "      <td>NaN</td>\n",
       "      <td>NaN</td>\n",
       "      <td>NaN</td>\n",
       "      <td>NaN</td>\n",
       "      <td>NaN</td>\n",
       "      <td>NaN</td>\n",
       "      <td>NaN</td>\n",
       "      <td>NaN</td>\n",
       "    </tr>\n",
       "  </tbody>\n",
       "</table>\n",
       "<p>5 rows × 114 columns</p>\n",
       "</div>"
      ],
      "text/plain": [
       "            retail_1  foreigner_1  institution_1  financial_1  invtrust_1   \n",
       "2024-04-03   0.03680     -6.99857       -0.76031     -0.37456    -1.03342  \\\n",
       "2024-04-04   0.09023     -0.88467        3.04205      1.91572    -3.78571   \n",
       "2024-04-05  -2.79952     -4.53278       -2.57478     -1.25143    -7.12011   \n",
       "2024-04-08  -0.57964      4.96727       -1.45370     -4.03444    -1.25954   \n",
       "2024-04-09   2.65126      0.86227       -0.77299      0.26305    -5.23364   \n",
       "\n",
       "            pension_1  privequity_1    bank_1  insurance_1  financeetc_1  ...   \n",
       "2024-04-03  -13.90271       0.37023   3.08511     -0.77918      -0.95928  ...  \\\n",
       "2024-04-04   -0.84850       0.47593  -0.89931     -1.01178      -1.00000  ...   \n",
       "2024-04-05    6.75347      -3.34457 -23.25862    482.42857          -inf  ...   \n",
       "2024-04-08   -1.66055      -0.96286  -1.08908     -0.83422      -2.70588  ...   \n",
       "2024-04-09   -2.27277       1.33282   3.93913     -0.27094      -1.20690  ...   \n",
       "\n",
       "            ixk_cr  ixk_cr_2  ixtr_cr  ixtr_cr_2  ixut_cr  ixut_cr_2  nbi_cr   \n",
       "2024-04-03  -0.79%  -0.18964   -1.32%   -2.25294   -1.13%   -2.10026  -2.17%  \\\n",
       "2024-04-04   0.24%  -0.55037    0.22%   -1.09797   -0.25%   -1.37310  -0.14%   \n",
       "2024-04-05  -1.68%  -1.44219   -0.84%   -0.61831   -1.23%   -1.47761  -1.28%   \n",
       "2024-04-08   1.48%  -0.22341    1.27%    0.41796   -0.16%   -1.38712   0.62%   \n",
       "2024-04-09     NaN       NaN      NaN        NaN      NaN        NaN     NaN   \n",
       "\n",
       "            nbi_cr_2  bkx_cr  bkx_cr_2  \n",
       "2024-04-03  -2.66074  -0.94%  -2.07916  \n",
       "2024-04-04  -2.31174  -0.08%  -1.01313  \n",
       "2024-04-05  -1.42042  -1.12%  -1.19801  \n",
       "2024-04-08  -0.67394   0.45%  -0.67258  \n",
       "2024-04-09       NaN     NaN       NaN  \n",
       "\n",
       "[5 rows x 114 columns]"
      ]
     },
     "execution_count": 8,
     "metadata": {},
     "output_type": "execute_result"
    }
   ],
   "source": [
    "df_hyunmotor_combine.tail()"
   ]
  },
  {
   "cell_type": "code",
   "execution_count": 9,
   "id": "aeab3342",
   "metadata": {},
   "outputs": [
    {
     "data": {
      "text/plain": [
       "datetime.date(2022, 1, 7)"
      ]
     },
     "execution_count": 9,
     "metadata": {},
     "output_type": "execute_result"
    }
   ],
   "source": [
    "df_hyunmotor_combine.index[0]"
   ]
  },
  {
   "cell_type": "code",
   "execution_count": 10,
   "id": "587ac2cd",
   "metadata": {},
   "outputs": [],
   "source": [
    "col_inv1 = ['retail_1', 'foreigner_1', 'institution_1', 'financial_1', 'invtrust_1', 'pension_1', 'privequity_1', \n",
    "            'bank_1', 'insurance_1', 'financeetc_1', 'corporateetc_1', 'foreigneretc_1']\n",
    "col_inv2 = ['retail_2', 'foreigner_2', 'institution_2', 'financial_2', 'invtrust_2', 'pension_2',\n",
    "            'privequity_2', 'bank_2', 'insurance_2', 'financeetc_2', 'corporateetc_2', 'foreigneretc_2']"
   ]
  },
  {
   "cell_type": "code",
   "execution_count": 11,
   "id": "76ca8389",
   "metadata": {},
   "outputs": [],
   "source": [
    "col_his1 = ['open_1', 'high_1', 'low_1', 'close_1', 'vol_1']\n",
    "col_his2 = ['open_2', 'high_2', 'low_2', 'close_2', 'vol_2']"
   ]
  },
  {
   "cell_type": "code",
   "execution_count": 12,
   "id": "8a6b4bac",
   "metadata": {},
   "outputs": [],
   "source": [
    "col_common1 = [\"dji_cr\", \"dji_f_cr\", \"dxy_cr\", \"ixic_f_cr\", \"bond_kor_10_cr\", \"bond_kor_2_cr\", \"kosdaq_cr\", \"kospi_cr\", \n",
    "         \"krw_cr\", \"ixic_cr\", \"spx_f_cr\", \"sox_cr\", \"spx_cr\", \"bond_usa_10_cr\", \"bond_usa_2_cr\", \"bond_usa_3m_cr\", \n",
    "         \"vix_cr\", \"wti_cr\", \"spsy_cr\", \"spny_cr\", \"spxhc_cr\", \"splrcd_cr\", \"splrci_cr\", \"splrcu_cr\", \"splrcs_cr\",\n",
    "         \"splrct_cr\", \"splrcl_cr\", \"splrcm_cr\", \"ixbk_cr\", \"ixfn_cr\", \"ixid_cr\", \"ixis_cr\", \"ixk_cr\", \"ixtr_cr\",\n",
    "         \"ixut_cr\", \"nbi_cr\", \"bkx_cr\"]\n",
    "col_common2 = [\"dji_cr_2\", \"dji_f_cr_2\", \"dxy_cr_2\", \"ixic_f_cr_2\", \"bond_kor_10_cr_2\", \"bond_kor_2_cr_2\", \"kosdaq_cr_2\", \"kospi_cr_2\",\n",
    "         \"krw_cr_2\", \"ixic_cr_2\", \"spx_f_cr_2\", \"sox_cr_2\", \"spx_cr_2\", \"bond_usa_10_cr_2\", \"bond_usa_2_cr_2\", \"bond_usa_3m_cr_2\",\n",
    "         \"vix_cr_2\", \"wti_cr_2\", \"spsy_cr_2\", \"spny_cr_2\", \"spxhc_cr_2\", \"splrcd_cr_2\", \"splrci_cr_2\", \"splrcu_cr_2\",\n",
    "         \"splrcs_cr_2\", \"splrct_cr_2\", \"splrcl_cr_2\", \"splrcm_cr_2\", \"ixbk_cr_2\", \"ixfn_cr_2\", \"ixid_cr_2\",\n",
    "         \"ixis_cr_2\", \"ixk_cr_2\", \"ixtr_cr_2\", \"ixut_cr_2\", \"nbi_cr_2\", \"bkx_cr_2\"]"
   ]
  },
  {
   "cell_type": "code",
   "execution_count": 13,
   "id": "9a595935",
   "metadata": {},
   "outputs": [],
   "source": [
    "col_cr = ['weekday', 'cr_00', 'cr_05', 'cr_10', 'cr_15', 'cr_20']"
   ]
  },
  {
   "cell_type": "code",
   "execution_count": 14,
   "id": "75ec6070",
   "metadata": {},
   "outputs": [],
   "source": [
    "col_col = col_inv1 + col_common1 + col_his1 + col_inv2 + col_common2 + col_his2 + col_cr"
   ]
  },
  {
   "cell_type": "code",
   "execution_count": 15,
   "id": "ff6769da",
   "metadata": {},
   "outputs": [],
   "source": [
    "# # write common data only\n",
    "# df_temp = df_common.copy()\n",
    "# df_temp = df_temp[col_common1+col_common2]\n",
    "# pkl_common_directory = './data/common_pkl/'\n",
    "# df_temp.to_pickle(pkl_common_directory + 'df_common.pkl')\n",
    "# df_temp.to_csv(pkl_common_directory + 'df_common.csv')"
   ]
  },
  {
   "cell_type": "code",
   "execution_count": 16,
   "id": "c78c8f82",
   "metadata": {},
   "outputs": [],
   "source": [
    "new_columns = col_col"
   ]
  },
  {
   "cell_type": "code",
   "execution_count": 17,
   "id": "02da1256",
   "metadata": {},
   "outputs": [],
   "source": [
    "# column 순서 변경 : weekday, 'cr_00', 'cr_05', 'cr_10', 'cr_15', 'cr_20' column을 마지막으로 이동 \n",
    "for key, val in code.items():\n",
    "    globals()['df_{}_combine'.format(val[1])] = globals()['df_{}_combine'.format(val[1])][new_columns]"
   ]
  },
  {
   "cell_type": "code",
   "execution_count": 18,
   "id": "d4f1fa06",
   "metadata": {},
   "outputs": [
    {
     "data": {
      "text/plain": [
       "'\\n# drop inf, -inf : replace inf to 1 or -1 . 데이터를 살리고\\n# 변동률이 무한대가 되는 것을 방지하기 위해서, 나중에 발생하는 에러를 방지\\ndf_sec_sel.replace([np.inf, -np.inf], [1, -1], inplace=True)\\n\\n.impute 사용하는 것을 고려할 필요 있음.\\n'"
      ]
     },
     "execution_count": 18,
     "metadata": {},
     "output_type": "execute_result"
    }
   ],
   "source": [
    "'''\n",
    "# drop inf, -inf : replace inf to 1 or -1 . 데이터를 살리고\n",
    "# 변동률이 무한대가 되는 것을 방지하기 위해서, 나중에 발생하는 에러를 방지\n",
    "df_sec_sel.replace([np.inf, -np.inf], [1, -1], inplace=True)\n",
    "\n",
    ".impute 사용하는 것을 고려할 필요 있음.\n",
    "'''"
   ]
  },
  {
   "cell_type": "code",
   "execution_count": 19,
   "id": "7e91c1c5",
   "metadata": {},
   "outputs": [],
   "source": [
    "# drop inf, -inf : replace inf to 1 or -1 . 데이터를 살리고\n",
    "# 변동률이 무한대가 되는 것을 방지하기 위해서, 나중에 발생하는 에러를 방지\n",
    "for key, val in code.items():\n",
    "    globals()['df_{}_combine'.format(val[1])].replace([np.inf, -np.inf], [1, -1], inplace=True)\n",
    "\n",
    "# **** 데이터 전처리 from sklearn.impute import SimpleImputer, SimpleImputer 사용하기로 함."
   ]
  },
  {
   "cell_type": "code",
   "execution_count": 20,
   "id": "3fa3914b",
   "metadata": {},
   "outputs": [
    {
     "data": {
      "text/html": [
       "<div>\n",
       "<style scoped>\n",
       "    .dataframe tbody tr th:only-of-type {\n",
       "        vertical-align: middle;\n",
       "    }\n",
       "\n",
       "    .dataframe tbody tr th {\n",
       "        vertical-align: top;\n",
       "    }\n",
       "\n",
       "    .dataframe thead th {\n",
       "        text-align: right;\n",
       "    }\n",
       "</style>\n",
       "<table border=\"1\" class=\"dataframe\">\n",
       "  <thead>\n",
       "    <tr style=\"text-align: right;\">\n",
       "      <th></th>\n",
       "      <th>retail_1</th>\n",
       "      <th>foreigner_1</th>\n",
       "      <th>institution_1</th>\n",
       "      <th>financial_1</th>\n",
       "      <th>invtrust_1</th>\n",
       "      <th>pension_1</th>\n",
       "      <th>privequity_1</th>\n",
       "      <th>bank_1</th>\n",
       "      <th>insurance_1</th>\n",
       "      <th>financeetc_1</th>\n",
       "      <th>...</th>\n",
       "      <th>high_2</th>\n",
       "      <th>low_2</th>\n",
       "      <th>close_2</th>\n",
       "      <th>vol_2</th>\n",
       "      <th>weekday</th>\n",
       "      <th>cr_00</th>\n",
       "      <th>cr_05</th>\n",
       "      <th>cr_10</th>\n",
       "      <th>cr_15</th>\n",
       "      <th>cr_20</th>\n",
       "    </tr>\n",
       "  </thead>\n",
       "  <tbody>\n",
       "    <tr>\n",
       "      <th>2024-04-03</th>\n",
       "      <td>7.80008</td>\n",
       "      <td>9.39187</td>\n",
       "      <td>1.65294</td>\n",
       "      <td>4.71056</td>\n",
       "      <td>6.08279</td>\n",
       "      <td>18.35935</td>\n",
       "      <td>4.76751</td>\n",
       "      <td>1.01439</td>\n",
       "      <td>-5.90725</td>\n",
       "      <td>6.36438</td>\n",
       "      <td>...</td>\n",
       "      <td>0.03030</td>\n",
       "      <td>0.02472</td>\n",
       "      <td>0.03155</td>\n",
       "      <td>0.36686</td>\n",
       "      <td>1</td>\n",
       "      <td>0</td>\n",
       "      <td>0</td>\n",
       "      <td>0</td>\n",
       "      <td>0</td>\n",
       "      <td>0</td>\n",
       "    </tr>\n",
       "    <tr>\n",
       "      <th>2024-04-04</th>\n",
       "      <td>-1.06291</td>\n",
       "      <td>-0.78969</td>\n",
       "      <td>9.45310</td>\n",
       "      <td>1.96066</td>\n",
       "      <td>-1.30895</td>\n",
       "      <td>-1.93076</td>\n",
       "      <td>-0.76147</td>\n",
       "      <td>-0.72500</td>\n",
       "      <td>-1.78261</td>\n",
       "      <td>-0.93713</td>\n",
       "      <td>...</td>\n",
       "      <td>0.02041</td>\n",
       "      <td>0.01829</td>\n",
       "      <td>0.02561</td>\n",
       "      <td>0.51584</td>\n",
       "      <td>2</td>\n",
       "      <td>1</td>\n",
       "      <td>1</td>\n",
       "      <td>1</td>\n",
       "      <td>0</td>\n",
       "      <td>0</td>\n",
       "    </tr>\n",
       "    <tr>\n",
       "      <th>2024-04-05</th>\n",
       "      <td>-8.13996</td>\n",
       "      <td>0.75028</td>\n",
       "      <td>-1.23290</td>\n",
       "      <td>-1.02501</td>\n",
       "      <td>-1.23906</td>\n",
       "      <td>-0.58272</td>\n",
       "      <td>3.67618</td>\n",
       "      <td>-7.79870</td>\n",
       "      <td>-0.28947</td>\n",
       "      <td>-6.78107</td>\n",
       "      <td>...</td>\n",
       "      <td>0.00588</td>\n",
       "      <td>0.01689</td>\n",
       "      <td>0.00353</td>\n",
       "      <td>-0.31903</td>\n",
       "      <td>3</td>\n",
       "      <td>0</td>\n",
       "      <td>0</td>\n",
       "      <td>0</td>\n",
       "      <td>0</td>\n",
       "      <td>0</td>\n",
       "    </tr>\n",
       "    <tr>\n",
       "      <th>2024-04-08</th>\n",
       "      <td>-1.21174</td>\n",
       "      <td>-0.79468</td>\n",
       "      <td>-3.45268</td>\n",
       "      <td>-21.85786</td>\n",
       "      <td>-3.17395</td>\n",
       "      <td>0.23041</td>\n",
       "      <td>-1.41214</td>\n",
       "      <td>0.91500</td>\n",
       "      <td>-1.39669</td>\n",
       "      <td>0.02661</td>\n",
       "      <td>...</td>\n",
       "      <td>0.00000</td>\n",
       "      <td>0.00359</td>\n",
       "      <td>0.00476</td>\n",
       "      <td>-0.38073</td>\n",
       "      <td>4</td>\n",
       "      <td>0</td>\n",
       "      <td>0</td>\n",
       "      <td>0</td>\n",
       "      <td>0</td>\n",
       "      <td>0</td>\n",
       "    </tr>\n",
       "    <tr>\n",
       "      <th>2024-04-09</th>\n",
       "      <td>-1.64988</td>\n",
       "      <td>1.63416</td>\n",
       "      <td>-0.17140</td>\n",
       "      <td>-0.17749</td>\n",
       "      <td>-2.14932</td>\n",
       "      <td>-0.06703</td>\n",
       "      <td>0.05671</td>\n",
       "      <td>-0.87531</td>\n",
       "      <td>-0.92156</td>\n",
       "      <td>-1.81954</td>\n",
       "      <td>...</td>\n",
       "      <td>0.00585</td>\n",
       "      <td>0.00237</td>\n",
       "      <td>-0.00938</td>\n",
       "      <td>-0.25415</td>\n",
       "      <td>0</td>\n",
       "      <td>0</td>\n",
       "      <td>0</td>\n",
       "      <td>0</td>\n",
       "      <td>0</td>\n",
       "      <td>0</td>\n",
       "    </tr>\n",
       "  </tbody>\n",
       "</table>\n",
       "<p>5 rows × 114 columns</p>\n",
       "</div>"
      ],
      "text/plain": [
       "            retail_1  foreigner_1  institution_1  financial_1  invtrust_1   \n",
       "2024-04-03   7.80008      9.39187        1.65294      4.71056     6.08279  \\\n",
       "2024-04-04  -1.06291     -0.78969        9.45310      1.96066    -1.30895   \n",
       "2024-04-05  -8.13996      0.75028       -1.23290     -1.02501    -1.23906   \n",
       "2024-04-08  -1.21174     -0.79468       -3.45268    -21.85786    -3.17395   \n",
       "2024-04-09  -1.64988      1.63416       -0.17140     -0.17749    -2.14932   \n",
       "\n",
       "            pension_1  privequity_1   bank_1  insurance_1  financeetc_1  ...   \n",
       "2024-04-03   18.35935       4.76751  1.01439     -5.90725       6.36438  ...  \\\n",
       "2024-04-04   -1.93076      -0.76147 -0.72500     -1.78261      -0.93713  ...   \n",
       "2024-04-05   -0.58272       3.67618 -7.79870     -0.28947      -6.78107  ...   \n",
       "2024-04-08    0.23041      -1.41214  0.91500     -1.39669       0.02661  ...   \n",
       "2024-04-09   -0.06703       0.05671 -0.87531     -0.92156      -1.81954  ...   \n",
       "\n",
       "             high_2    low_2  close_2    vol_2  weekday  cr_00 cr_05 cr_10   \n",
       "2024-04-03  0.03030  0.02472  0.03155  0.36686        1      0     0     0  \\\n",
       "2024-04-04  0.02041  0.01829  0.02561  0.51584        2      1     1     1   \n",
       "2024-04-05  0.00588  0.01689  0.00353 -0.31903        3      0     0     0   \n",
       "2024-04-08  0.00000  0.00359  0.00476 -0.38073        4      0     0     0   \n",
       "2024-04-09  0.00585  0.00237 -0.00938 -0.25415        0      0     0     0   \n",
       "\n",
       "            cr_15  cr_20  \n",
       "2024-04-03      0      0  \n",
       "2024-04-04      0      0  \n",
       "2024-04-05      0      0  \n",
       "2024-04-08      0      0  \n",
       "2024-04-09      0      0  \n",
       "\n",
       "[5 rows x 114 columns]"
      ]
     },
     "execution_count": 20,
     "metadata": {},
     "output_type": "execute_result"
    }
   ],
   "source": [
    "df_sec_combine.tail()"
   ]
  },
  {
   "cell_type": "code",
   "execution_count": 21,
   "id": "bf7224df",
   "metadata": {},
   "outputs": [],
   "source": [
    "nanlo = locate_nan(df_sec_combine)  # nan 위치 찾기"
   ]
  },
  {
   "cell_type": "code",
   "execution_count": 22,
   "id": "2f63d7f5",
   "metadata": {},
   "outputs": [
    {
     "name": "stdout",
     "output_type": "stream",
     "text": [
      "[[datetime.date(2022, 1, 7) 'dji_cr']\n",
      " [datetime.date(2022, 1, 7) 'dji_f_cr']\n",
      " [datetime.date(2022, 1, 7) 'dxy_cr']\n",
      " ...\n",
      " [datetime.date(2024, 4, 9) 'ixut_cr_2']\n",
      " [datetime.date(2024, 4, 9) 'nbi_cr_2']\n",
      " [datetime.date(2024, 4, 9) 'bkx_cr_2']]\n"
     ]
    }
   ],
   "source": [
    "print(nanlo)"
   ]
  },
  {
   "cell_type": "code",
   "execution_count": 23,
   "id": "21a6d628",
   "metadata": {},
   "outputs": [],
   "source": [
    "# delete rows which include NaN : dji, spx, nasdaq 기타 common 지수중 한개라도 nan인 rows 제거\n",
    "for key, val in code.items():\n",
    "    globals()['df_{}_combine'.format(val[1])].dropna(inplace=True)"
   ]
  },
  {
   "cell_type": "code",
   "execution_count": 24,
   "id": "c6f3061c",
   "metadata": {},
   "outputs": [],
   "source": [
    "# string column을 numeric으로 전환\n",
    "def string_to_num(df):\n",
    "    df.replace('%', '', regex=True, inplace=True)\n",
    "    df = df.apply(pd.to_numeric)\n",
    "    return df\n",
    "\n",
    "for key, val in code.items():\n",
    "    globals()['df_{}_combine'.format(val[1])] = string_to_num(globals()['df_{}_combine'.format(val[1])])"
   ]
  },
  {
   "cell_type": "code",
   "execution_count": 25,
   "id": "7e8d5acf",
   "metadata": {},
   "outputs": [],
   "source": [
    "# pickle로 데이터 저장\n",
    "\n",
    "for key, val in code.items():\n",
    "    globals()[f'df_{val[1]}_combine'].to_pickle(directory_for_predict + f'df_{val[1]}_combine.pkl')\n",
    "    globals()[f'df_{val[1]}_combine'].to_csv(directory_for_predict + f'df_{val[1]}_combine.csv')"
   ]
  },
  {
   "cell_type": "code",
   "execution_count": null,
   "id": "a01825d3",
   "metadata": {},
   "outputs": [],
   "source": []
  },
  {
   "cell_type": "code",
   "execution_count": null,
   "id": "3300e5b2",
   "metadata": {},
   "outputs": [],
   "source": []
  },
  {
   "cell_type": "code",
   "execution_count": null,
   "id": "1ffeab80",
   "metadata": {},
   "outputs": [],
   "source": []
  },
  {
   "cell_type": "code",
   "execution_count": null,
   "id": "a1f7c9d1",
   "metadata": {},
   "outputs": [],
   "source": []
  },
  {
   "cell_type": "code",
   "execution_count": null,
   "id": "bc80b897",
   "metadata": {},
   "outputs": [],
   "source": []
  }
 ],
 "metadata": {
  "kernelspec": {
   "display_name": "Python 3 (ipykernel)",
   "language": "python",
   "name": "python3"
  },
  "language_info": {
   "codemirror_mode": {
    "name": "ipython",
    "version": 3
   },
   "file_extension": ".py",
   "mimetype": "text/x-python",
   "name": "python",
   "nbconvert_exporter": "python",
   "pygments_lexer": "ipython3",
   "version": "3.9.1"
  }
 },
 "nbformat": 4,
 "nbformat_minor": 5
}
