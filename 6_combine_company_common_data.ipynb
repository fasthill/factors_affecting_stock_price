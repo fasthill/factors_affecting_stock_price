{
 "cells": [
  {
   "cell_type": "markdown",
   "id": "459ff0ca",
   "metadata": {},
   "source": [
    "## combine company data and common data"
   ]
  },
  {
   "cell_type": "code",
   "execution_count": 1,
   "id": "d3b5a935",
   "metadata": {},
   "outputs": [],
   "source": [
    "import datetime, time\n",
    "from datetime import date\n",
    "\n",
    "import pandas as pd\n",
    "import numpy as np\n",
    "import os\n",
    "import sys\n",
    "\n",
    "from sklearn.preprocessing import StandardScaler"
   ]
  },
  {
   "cell_type": "code",
   "execution_count": 2,
   "id": "8ef51f99",
   "metadata": {},
   "outputs": [],
   "source": [
    "module_path = os.path.abspath(os.path.join('.')) \n",
    "sys.path.append(module_path+\"\\\\data\\\\constant\")\n",
    "\n",
    "from constants import COMPANY_CODE"
   ]
  },
  {
   "cell_type": "code",
   "execution_count": 3,
   "id": "9ea60572",
   "metadata": {},
   "outputs": [
    {
     "data": {
      "text/plain": [
       "\" \\n[[datetime.date(2022, 1, 17) 'dji_cr']\\n [datetime.date(2022, 1, 17) 'dji_f_cr']\\n ...\\n [datetime.date(2023, 5, 23) 'kosdaq_cr']\\n [datetime.date(2023, 5, 23) 'kosdaq_cr_2']]\\n\""
      ]
     },
     "execution_count": 3,
     "metadata": {},
     "output_type": "execute_result"
    }
   ],
   "source": [
    "def locate_nan(df):\n",
    "    idx, idy = np.where(pd.isnull(df))\n",
    "    result = np.column_stack([df.index[idx], df.columns[idy]])\n",
    "    return result\n",
    "\n",
    "# return format\n",
    "''' \n",
    "[[datetime.date(2022, 1, 17) 'dji_cr']\n",
    " [datetime.date(2022, 1, 17) 'dji_f_cr']\n",
    " ...\n",
    " [datetime.date(2023, 5, 23) 'kosdaq_cr']\n",
    " [datetime.date(2023, 5, 23) 'kosdaq_cr_2']]\n",
    "'''"
   ]
  },
  {
   "cell_type": "code",
   "execution_count": 4,
   "id": "d6f9e0c8",
   "metadata": {},
   "outputs": [],
   "source": [
    "code = COMPANY_CODE\n",
    "\n",
    "# code = {'005930': ['삼성전자', 'sec'], '005380': ['현대차', 'hyunmotor'],\n",
    "#                  '035420': ['NAVER', 'naver'], '033780': ['KT&G', 'ktng']}\n",
    "# code = {'005930': ['삼성전자', 'sec'], '000660': ['SK하이닉스', 'skhynix']}\n",
    "# code = {'302440': ['SK바이오사이언스', 'skbio']}"
   ]
  },
  {
   "cell_type": "code",
   "execution_count": 5,
   "id": "1ced9635",
   "metadata": {},
   "outputs": [],
   "source": [
    "directory_for_predict = './data/data_for_ml/predict/'\n",
    "pkl_common_directory = './data/common_pkl/'\n",
    "pkl_directory = './data/common_pkl/'"
   ]
  },
  {
   "cell_type": "code",
   "execution_count": 6,
   "id": "a4ac3c16",
   "metadata": {},
   "outputs": [],
   "source": [
    "df_common = pd.read_pickle(directory_for_predict + '0_df_common.pkl')"
   ]
  },
  {
   "cell_type": "code",
   "execution_count": 7,
   "id": "82d5ae58",
   "metadata": {},
   "outputs": [],
   "source": [
    "for key, val in code.items():\n",
    "    df_company = pd.read_pickle(directory_for_predict + f'df_{val[1]}_company.pkl')\n",
    "    df_company = df_company.merge(df_common, how='left', left_index=True, right_index=True)\n",
    "    globals()[f'df_{val[1]}_combine'] = df_company.copy()"
   ]
  },
  {
   "cell_type": "code",
   "execution_count": 8,
   "id": "6c798e31",
   "metadata": {},
   "outputs": [
    {
     "data": {
      "text/html": [
       "<div>\n",
       "<style scoped>\n",
       "    .dataframe tbody tr th:only-of-type {\n",
       "        vertical-align: middle;\n",
       "    }\n",
       "\n",
       "    .dataframe tbody tr th {\n",
       "        vertical-align: top;\n",
       "    }\n",
       "\n",
       "    .dataframe thead th {\n",
       "        text-align: right;\n",
       "    }\n",
       "</style>\n",
       "<table border=\"1\" class=\"dataframe\">\n",
       "  <thead>\n",
       "    <tr style=\"text-align: right;\">\n",
       "      <th></th>\n",
       "      <th>retail_1</th>\n",
       "      <th>foreigner_1</th>\n",
       "      <th>institution_1</th>\n",
       "      <th>financial_1</th>\n",
       "      <th>invtrust_1</th>\n",
       "      <th>pension_1</th>\n",
       "      <th>privequity_1</th>\n",
       "      <th>bank_1</th>\n",
       "      <th>insurance_1</th>\n",
       "      <th>financeetc_1</th>\n",
       "      <th>...</th>\n",
       "      <th>ixk_cr</th>\n",
       "      <th>ixk_cr_2</th>\n",
       "      <th>ixtr_cr</th>\n",
       "      <th>ixtr_cr_2</th>\n",
       "      <th>ixut_cr</th>\n",
       "      <th>ixut_cr_2</th>\n",
       "      <th>nbi_cr</th>\n",
       "      <th>nbi_cr_2</th>\n",
       "      <th>bkx_cr</th>\n",
       "      <th>bkx_cr_2</th>\n",
       "    </tr>\n",
       "  </thead>\n",
       "  <tbody>\n",
       "    <tr>\n",
       "      <th>2024-08-07</th>\n",
       "      <td>-0.96999</td>\n",
       "      <td>-0.97170</td>\n",
       "      <td>-1.07505</td>\n",
       "      <td>-1.78720</td>\n",
       "      <td>0.52199</td>\n",
       "      <td>1.21294</td>\n",
       "      <td>-0.74565</td>\n",
       "      <td>5.89453</td>\n",
       "      <td>-0.76135</td>\n",
       "      <td>62.11111</td>\n",
       "      <td>...</td>\n",
       "      <td>1.11%</td>\n",
       "      <td>-2.74309</td>\n",
       "      <td>1.78%</td>\n",
       "      <td>-0.53887</td>\n",
       "      <td>0.65%</td>\n",
       "      <td>-1.78736</td>\n",
       "      <td>0.38%</td>\n",
       "      <td>-2.48919</td>\n",
       "      <td>1.17%</td>\n",
       "      <td>-1.52327</td>\n",
       "    </tr>\n",
       "    <tr>\n",
       "      <th>2024-08-08</th>\n",
       "      <td>48.99184</td>\n",
       "      <td>0.70185</td>\n",
       "      <td>16.94240</td>\n",
       "      <td>0.66804</td>\n",
       "      <td>-1.17620</td>\n",
       "      <td>-1.24899</td>\n",
       "      <td>-0.67940</td>\n",
       "      <td>-1.00000</td>\n",
       "      <td>-2.76585</td>\n",
       "      <td>-0.57570</td>\n",
       "      <td>...</td>\n",
       "      <td>-1.17%</td>\n",
       "      <td>-0.07203</td>\n",
       "      <td>-1.15%</td>\n",
       "      <td>0.60619</td>\n",
       "      <td>-0.28%</td>\n",
       "      <td>0.36534</td>\n",
       "      <td>-1.33%</td>\n",
       "      <td>-0.95135</td>\n",
       "      <td>-0.46%</td>\n",
       "      <td>0.70518</td>\n",
       "    </tr>\n",
       "    <tr>\n",
       "      <th>2024-08-09</th>\n",
       "      <td>-1.19317</td>\n",
       "      <td>-13.94987</td>\n",
       "      <td>-0.13540</td>\n",
       "      <td>0.30616</td>\n",
       "      <td>-0.86688</td>\n",
       "      <td>-3.11697</td>\n",
       "      <td>-1.49876</td>\n",
       "      <td>inf</td>\n",
       "      <td>-1.74033</td>\n",
       "      <td>-0.46058</td>\n",
       "      <td>...</td>\n",
       "      <td>3.36%</td>\n",
       "      <td>2.15015</td>\n",
       "      <td>2.10%</td>\n",
       "      <td>0.91917</td>\n",
       "      <td>2.12%</td>\n",
       "      <td>1.83470</td>\n",
       "      <td>2.61%</td>\n",
       "      <td>1.24957</td>\n",
       "      <td>2.02%</td>\n",
       "      <td>1.55638</td>\n",
       "    </tr>\n",
       "    <tr>\n",
       "      <th>2024-08-12</th>\n",
       "      <td>3.75000</td>\n",
       "      <td>-0.30685</td>\n",
       "      <td>-1.22146</td>\n",
       "      <td>-1.13262</td>\n",
       "      <td>-40.96341</td>\n",
       "      <td>-1.58672</td>\n",
       "      <td>11.29353</td>\n",
       "      <td>-1.38750</td>\n",
       "      <td>-5.52985</td>\n",
       "      <td>-4.72308</td>\n",
       "      <td>...</td>\n",
       "      <td>0.71%</td>\n",
       "      <td>4.09018</td>\n",
       "      <td>-0.51%</td>\n",
       "      <td>1.57086</td>\n",
       "      <td>-0.49%</td>\n",
       "      <td>1.62445</td>\n",
       "      <td>-0.08%</td>\n",
       "      <td>2.52258</td>\n",
       "      <td>0.22%</td>\n",
       "      <td>2.24460</td>\n",
       "    </tr>\n",
       "    <tr>\n",
       "      <th>2024-08-13</th>\n",
       "      <td>-1.71682</td>\n",
       "      <td>-1.69837</td>\n",
       "      <td>-1.89828</td>\n",
       "      <td>-0.99652</td>\n",
       "      <td>-0.86237</td>\n",
       "      <td>-0.00207</td>\n",
       "      <td>-1.87090</td>\n",
       "      <td>-0.70968</td>\n",
       "      <td>-1.49423</td>\n",
       "      <td>-1.00000</td>\n",
       "      <td>...</td>\n",
       "      <td>NaN</td>\n",
       "      <td>NaN</td>\n",
       "      <td>NaN</td>\n",
       "      <td>NaN</td>\n",
       "      <td>NaN</td>\n",
       "      <td>NaN</td>\n",
       "      <td>NaN</td>\n",
       "      <td>NaN</td>\n",
       "      <td>NaN</td>\n",
       "      <td>NaN</td>\n",
       "    </tr>\n",
       "  </tbody>\n",
       "</table>\n",
       "<p>5 rows × 114 columns</p>\n",
       "</div>"
      ],
      "text/plain": [
       "            retail_1  foreigner_1  institution_1  financial_1  invtrust_1  \\\n",
       "2024-08-07  -0.96999     -0.97170       -1.07505     -1.78720     0.52199   \n",
       "2024-08-08  48.99184      0.70185       16.94240      0.66804    -1.17620   \n",
       "2024-08-09  -1.19317    -13.94987       -0.13540      0.30616    -0.86688   \n",
       "2024-08-12   3.75000     -0.30685       -1.22146     -1.13262   -40.96341   \n",
       "2024-08-13  -1.71682     -1.69837       -1.89828     -0.99652    -0.86237   \n",
       "\n",
       "            pension_1  privequity_1   bank_1  insurance_1  financeetc_1  ...  \\\n",
       "2024-08-07    1.21294      -0.74565  5.89453     -0.76135      62.11111  ...   \n",
       "2024-08-08   -1.24899      -0.67940 -1.00000     -2.76585      -0.57570  ...   \n",
       "2024-08-09   -3.11697      -1.49876      inf     -1.74033      -0.46058  ...   \n",
       "2024-08-12   -1.58672      11.29353 -1.38750     -5.52985      -4.72308  ...   \n",
       "2024-08-13   -0.00207      -1.87090 -0.70968     -1.49423      -1.00000  ...   \n",
       "\n",
       "            ixk_cr  ixk_cr_2  ixtr_cr  ixtr_cr_2  ixut_cr  ixut_cr_2  nbi_cr  \\\n",
       "2024-08-07   1.11%  -2.74309    1.78%   -0.53887    0.65%   -1.78736   0.38%   \n",
       "2024-08-08  -1.17%  -0.07203   -1.15%    0.60619   -0.28%    0.36534  -1.33%   \n",
       "2024-08-09   3.36%   2.15015    2.10%    0.91917    2.12%    1.83470   2.61%   \n",
       "2024-08-12   0.71%   4.09018   -0.51%    1.57086   -0.49%    1.62445  -0.08%   \n",
       "2024-08-13     NaN       NaN      NaN        NaN      NaN        NaN     NaN   \n",
       "\n",
       "            nbi_cr_2  bkx_cr  bkx_cr_2  \n",
       "2024-08-07  -2.48919   1.17%  -1.52327  \n",
       "2024-08-08  -0.95135  -0.46%   0.70518  \n",
       "2024-08-09   1.24957   2.02%   1.55638  \n",
       "2024-08-12   2.52258   0.22%   2.24460  \n",
       "2024-08-13       NaN     NaN       NaN  \n",
       "\n",
       "[5 rows x 114 columns]"
      ]
     },
     "execution_count": 8,
     "metadata": {},
     "output_type": "execute_result"
    }
   ],
   "source": [
    "df_hyunmotor_combine.tail()"
   ]
  },
  {
   "cell_type": "code",
   "execution_count": 9,
   "id": "aeab3342",
   "metadata": {},
   "outputs": [
    {
     "data": {
      "text/plain": [
       "datetime.date(2022, 1, 7)"
      ]
     },
     "execution_count": 9,
     "metadata": {},
     "output_type": "execute_result"
    }
   ],
   "source": [
    "df_hyunmotor_combine.index[0]"
   ]
  },
  {
   "cell_type": "code",
   "execution_count": 10,
   "id": "587ac2cd",
   "metadata": {},
   "outputs": [],
   "source": [
    "col_inv1 = ['retail_1', 'foreigner_1', 'institution_1', 'financial_1', 'invtrust_1', 'pension_1', 'privequity_1', \n",
    "            'bank_1', 'insurance_1', 'financeetc_1', 'corporateetc_1', 'foreigneretc_1']\n",
    "col_inv2 = ['retail_2', 'foreigner_2', 'institution_2', 'financial_2', 'invtrust_2', 'pension_2',\n",
    "            'privequity_2', 'bank_2', 'insurance_2', 'financeetc_2', 'corporateetc_2', 'foreigneretc_2']"
   ]
  },
  {
   "cell_type": "code",
   "execution_count": 11,
   "id": "76ca8389",
   "metadata": {},
   "outputs": [],
   "source": [
    "col_his1 = ['open_1', 'high_1', 'low_1', 'close_1', 'vol_1']\n",
    "col_his2 = ['open_2', 'high_2', 'low_2', 'close_2', 'vol_2']"
   ]
  },
  {
   "cell_type": "code",
   "execution_count": 12,
   "id": "8a6b4bac",
   "metadata": {},
   "outputs": [],
   "source": [
    "col_common1 = [\"dji_cr\", \"dji_f_cr\", \"dxy_cr\", \"ixic_f_cr\", \"bond_kor_10_cr\", \"bond_kor_2_cr\", \"kosdaq_cr\", \"kospi_cr\", \n",
    "         \"krw_cr\", \"ixic_cr\", \"spx_f_cr\", \"sox_cr\", \"spx_cr\", \"bond_usa_10_cr\", \"bond_usa_2_cr\", \"bond_usa_3m_cr\", \n",
    "         \"vix_cr\", \"wti_cr\", \"spsy_cr\", \"spny_cr\", \"spxhc_cr\", \"splrcd_cr\", \"splrci_cr\", \"splrcu_cr\", \"splrcs_cr\",\n",
    "         \"splrct_cr\", \"splrcl_cr\", \"splrcm_cr\", \"ixbk_cr\", \"ixfn_cr\", \"ixid_cr\", \"ixis_cr\", \"ixk_cr\", \"ixtr_cr\",\n",
    "         \"ixut_cr\", \"nbi_cr\", \"bkx_cr\"]\n",
    "col_common2 = [\"dji_cr_2\", \"dji_f_cr_2\", \"dxy_cr_2\", \"ixic_f_cr_2\", \"bond_kor_10_cr_2\", \"bond_kor_2_cr_2\", \"kosdaq_cr_2\", \"kospi_cr_2\",\n",
    "         \"krw_cr_2\", \"ixic_cr_2\", \"spx_f_cr_2\", \"sox_cr_2\", \"spx_cr_2\", \"bond_usa_10_cr_2\", \"bond_usa_2_cr_2\", \"bond_usa_3m_cr_2\",\n",
    "         \"vix_cr_2\", \"wti_cr_2\", \"spsy_cr_2\", \"spny_cr_2\", \"spxhc_cr_2\", \"splrcd_cr_2\", \"splrci_cr_2\", \"splrcu_cr_2\",\n",
    "         \"splrcs_cr_2\", \"splrct_cr_2\", \"splrcl_cr_2\", \"splrcm_cr_2\", \"ixbk_cr_2\", \"ixfn_cr_2\", \"ixid_cr_2\",\n",
    "         \"ixis_cr_2\", \"ixk_cr_2\", \"ixtr_cr_2\", \"ixut_cr_2\", \"nbi_cr_2\", \"bkx_cr_2\"]"
   ]
  },
  {
   "cell_type": "code",
   "execution_count": 13,
   "id": "9a595935",
   "metadata": {},
   "outputs": [],
   "source": [
    "col_cr = ['weekday', 'cr_00', 'cr_05', 'cr_10', 'cr_15', 'cr_20']"
   ]
  },
  {
   "cell_type": "code",
   "execution_count": 14,
   "id": "75ec6070",
   "metadata": {},
   "outputs": [],
   "source": [
    "col_col = col_inv1 + col_common1 + col_his1 + col_inv2 + col_common2 + col_his2 + col_cr"
   ]
  },
  {
   "cell_type": "code",
   "execution_count": 15,
   "id": "ff6769da",
   "metadata": {},
   "outputs": [],
   "source": [
    "# # write common data only\n",
    "# df_temp = df_common.copy()\n",
    "# df_temp = df_temp[col_common1+col_common2]\n",
    "# pkl_common_directory = './data/common_pkl/'\n",
    "# df_temp.to_pickle(pkl_common_directory + 'df_common.pkl')\n",
    "# df_temp.to_csv(pkl_common_directory + 'df_common.csv')"
   ]
  },
  {
   "cell_type": "code",
   "execution_count": 16,
   "id": "c78c8f82",
   "metadata": {},
   "outputs": [],
   "source": [
    "new_columns = col_col"
   ]
  },
  {
   "cell_type": "code",
   "execution_count": 17,
   "id": "02da1256",
   "metadata": {},
   "outputs": [],
   "source": [
    "# column 순서 변경 : weekday, 'cr_00', 'cr_05', 'cr_10', 'cr_15', 'cr_20' column을 마지막으로 이동 \n",
    "for key, val in code.items():\n",
    "    globals()['df_{}_combine'.format(val[1])] = globals()['df_{}_combine'.format(val[1])][new_columns]"
   ]
  },
  {
   "cell_type": "code",
   "execution_count": 18,
   "id": "d4f1fa06",
   "metadata": {},
   "outputs": [
    {
     "data": {
      "text/plain": [
       "'\\n# drop inf, -inf : replace inf to 1 or -1 . 데이터를 살리고\\n# 변동률이 무한대가 되는 것을 방지하기 위해서, 나중에 발생하는 에러를 방지\\ndf_sec_sel.replace([np.inf, -np.inf], [1, -1], inplace=True)\\n\\n.impute 사용하는 것을 고려할 필요 있음.\\n'"
      ]
     },
     "execution_count": 18,
     "metadata": {},
     "output_type": "execute_result"
    }
   ],
   "source": [
    "'''\n",
    "# drop inf, -inf : replace inf to 1 or -1 . 데이터를 살리고\n",
    "# 변동률이 무한대가 되는 것을 방지하기 위해서, 나중에 발생하는 에러를 방지\n",
    "df_sec_sel.replace([np.inf, -np.inf], [1, -1], inplace=True)\n",
    "\n",
    ".impute 사용하는 것을 고려할 필요 있음.\n",
    "'''"
   ]
  },
  {
   "cell_type": "code",
   "execution_count": 19,
   "id": "7e91c1c5",
   "metadata": {},
   "outputs": [],
   "source": [
    "# drop inf, -inf : replace inf to 1 or -1 . 데이터를 살리고\n",
    "# 변동률이 무한대가 되는 것을 방지하기 위해서, 나중에 발생하는 에러를 방지\n",
    "for key, val in code.items():\n",
    "    globals()['df_{}_combine'.format(val[1])].replace([np.inf, -np.inf], [1, -1], inplace=True)\n",
    "\n",
    "# **** 데이터 전처리 from sklearn.impute import SimpleImputer, SimpleImputer 사용하기로 함."
   ]
  },
  {
   "cell_type": "code",
   "execution_count": 20,
   "id": "3fa3914b",
   "metadata": {},
   "outputs": [
    {
     "data": {
      "text/html": [
       "<div>\n",
       "<style scoped>\n",
       "    .dataframe tbody tr th:only-of-type {\n",
       "        vertical-align: middle;\n",
       "    }\n",
       "\n",
       "    .dataframe tbody tr th {\n",
       "        vertical-align: top;\n",
       "    }\n",
       "\n",
       "    .dataframe thead th {\n",
       "        text-align: right;\n",
       "    }\n",
       "</style>\n",
       "<table border=\"1\" class=\"dataframe\">\n",
       "  <thead>\n",
       "    <tr style=\"text-align: right;\">\n",
       "      <th></th>\n",
       "      <th>retail_1</th>\n",
       "      <th>foreigner_1</th>\n",
       "      <th>institution_1</th>\n",
       "      <th>financial_1</th>\n",
       "      <th>invtrust_1</th>\n",
       "      <th>pension_1</th>\n",
       "      <th>privequity_1</th>\n",
       "      <th>bank_1</th>\n",
       "      <th>insurance_1</th>\n",
       "      <th>financeetc_1</th>\n",
       "      <th>...</th>\n",
       "      <th>high_2</th>\n",
       "      <th>low_2</th>\n",
       "      <th>close_2</th>\n",
       "      <th>vol_2</th>\n",
       "      <th>weekday</th>\n",
       "      <th>cr_00</th>\n",
       "      <th>cr_05</th>\n",
       "      <th>cr_10</th>\n",
       "      <th>cr_15</th>\n",
       "      <th>cr_20</th>\n",
       "    </tr>\n",
       "  </thead>\n",
       "  <tbody>\n",
       "    <tr>\n",
       "      <th>2024-08-07</th>\n",
       "      <td>-0.51293</td>\n",
       "      <td>-0.84868</td>\n",
       "      <td>1.89260</td>\n",
       "      <td>1.35155</td>\n",
       "      <td>0.16207</td>\n",
       "      <td>-0.24502</td>\n",
       "      <td>-1.13375</td>\n",
       "      <td>-2.91686</td>\n",
       "      <td>-11.87983</td>\n",
       "      <td>2.93358</td>\n",
       "      <td>...</td>\n",
       "      <td>-0.07494</td>\n",
       "      <td>-0.09057</td>\n",
       "      <td>-0.08920</td>\n",
       "      <td>0.83313</td>\n",
       "      <td>1</td>\n",
       "      <td>1</td>\n",
       "      <td>1</td>\n",
       "      <td>1</td>\n",
       "      <td>1</td>\n",
       "      <td>1</td>\n",
       "    </tr>\n",
       "    <tr>\n",
       "      <th>2024-08-08</th>\n",
       "      <td>-0.90370</td>\n",
       "      <td>-1.43501</td>\n",
       "      <td>-0.69537</td>\n",
       "      <td>-0.78983</td>\n",
       "      <td>-2.00774</td>\n",
       "      <td>-1.08269</td>\n",
       "      <td>1.71884</td>\n",
       "      <td>-0.80173</td>\n",
       "      <td>-0.85248</td>\n",
       "      <td>-0.76204</td>\n",
       "      <td>...</td>\n",
       "      <td>-0.01170</td>\n",
       "      <td>0.03704</td>\n",
       "      <td>0.04622</td>\n",
       "      <td>-0.40100</td>\n",
       "      <td>2</td>\n",
       "      <td>0</td>\n",
       "      <td>0</td>\n",
       "      <td>0</td>\n",
       "      <td>0</td>\n",
       "      <td>0</td>\n",
       "    </tr>\n",
       "    <tr>\n",
       "      <th>2024-08-09</th>\n",
       "      <td>7.05104</td>\n",
       "      <td>-3.98752</td>\n",
       "      <td>0.77708</td>\n",
       "      <td>1.17740</td>\n",
       "      <td>-1.02548</td>\n",
       "      <td>-0.39903</td>\n",
       "      <td>-1.87150</td>\n",
       "      <td>-4.21875</td>\n",
       "      <td>0.48958</td>\n",
       "      <td>5.65309</td>\n",
       "      <td>...</td>\n",
       "      <td>-0.01859</td>\n",
       "      <td>0.00277</td>\n",
       "      <td>0.01241</td>\n",
       "      <td>-0.39921</td>\n",
       "      <td>3</td>\n",
       "      <td>1</td>\n",
       "      <td>1</td>\n",
       "      <td>1</td>\n",
       "      <td>1</td>\n",
       "      <td>0</td>\n",
       "    </tr>\n",
       "    <tr>\n",
       "      <th>2024-08-12</th>\n",
       "      <td>-1.11460</td>\n",
       "      <td>-1.17262</td>\n",
       "      <td>-0.99389</td>\n",
       "      <td>-0.83886</td>\n",
       "      <td>12.37472</td>\n",
       "      <td>-8.13985</td>\n",
       "      <td>-2.21584</td>\n",
       "      <td>-4.29515</td>\n",
       "      <td>-2.08392</td>\n",
       "      <td>-0.95793</td>\n",
       "      <td>...</td>\n",
       "      <td>-0.00263</td>\n",
       "      <td>0.01923</td>\n",
       "      <td>0.00000</td>\n",
       "      <td>-0.49899</td>\n",
       "      <td>4</td>\n",
       "      <td>1</td>\n",
       "      <td>1</td>\n",
       "      <td>1</td>\n",
       "      <td>0</td>\n",
       "      <td>0</td>\n",
       "    </tr>\n",
       "    <tr>\n",
       "      <th>2024-08-13</th>\n",
       "      <td>-0.30276</td>\n",
       "      <td>-0.14016</td>\n",
       "      <td>-6.00000</td>\n",
       "      <td>-1.22338</td>\n",
       "      <td>-1.12591</td>\n",
       "      <td>-1.34206</td>\n",
       "      <td>-0.64603</td>\n",
       "      <td>-0.37065</td>\n",
       "      <td>-0.09718</td>\n",
       "      <td>-1.12207</td>\n",
       "      <td>...</td>\n",
       "      <td>0.02706</td>\n",
       "      <td>0.03172</td>\n",
       "      <td>0.02861</td>\n",
       "      <td>-0.65539</td>\n",
       "      <td>0</td>\n",
       "      <td>0</td>\n",
       "      <td>0</td>\n",
       "      <td>0</td>\n",
       "      <td>0</td>\n",
       "      <td>0</td>\n",
       "    </tr>\n",
       "  </tbody>\n",
       "</table>\n",
       "<p>5 rows × 114 columns</p>\n",
       "</div>"
      ],
      "text/plain": [
       "            retail_1  foreigner_1  institution_1  financial_1  invtrust_1  \\\n",
       "2024-08-07  -0.51293     -0.84868        1.89260      1.35155     0.16207   \n",
       "2024-08-08  -0.90370     -1.43501       -0.69537     -0.78983    -2.00774   \n",
       "2024-08-09   7.05104     -3.98752        0.77708      1.17740    -1.02548   \n",
       "2024-08-12  -1.11460     -1.17262       -0.99389     -0.83886    12.37472   \n",
       "2024-08-13  -0.30276     -0.14016       -6.00000     -1.22338    -1.12591   \n",
       "\n",
       "            pension_1  privequity_1   bank_1  insurance_1  financeetc_1  ...  \\\n",
       "2024-08-07   -0.24502      -1.13375 -2.91686    -11.87983       2.93358  ...   \n",
       "2024-08-08   -1.08269       1.71884 -0.80173     -0.85248      -0.76204  ...   \n",
       "2024-08-09   -0.39903      -1.87150 -4.21875      0.48958       5.65309  ...   \n",
       "2024-08-12   -8.13985      -2.21584 -4.29515     -2.08392      -0.95793  ...   \n",
       "2024-08-13   -1.34206      -0.64603 -0.37065     -0.09718      -1.12207  ...   \n",
       "\n",
       "             high_2    low_2  close_2    vol_2  weekday  cr_00 cr_05 cr_10  \\\n",
       "2024-08-07 -0.07494 -0.09057 -0.08920  0.83313        1      1     1     1   \n",
       "2024-08-08 -0.01170  0.03704  0.04622 -0.40100        2      0     0     0   \n",
       "2024-08-09 -0.01859  0.00277  0.01241 -0.39921        3      1     1     1   \n",
       "2024-08-12 -0.00263  0.01923  0.00000 -0.49899        4      1     1     1   \n",
       "2024-08-13  0.02706  0.03172  0.02861 -0.65539        0      0     0     0   \n",
       "\n",
       "            cr_15  cr_20  \n",
       "2024-08-07      1      1  \n",
       "2024-08-08      0      0  \n",
       "2024-08-09      1      0  \n",
       "2024-08-12      0      0  \n",
       "2024-08-13      0      0  \n",
       "\n",
       "[5 rows x 114 columns]"
      ]
     },
     "execution_count": 20,
     "metadata": {},
     "output_type": "execute_result"
    }
   ],
   "source": [
    "df_sec_combine.tail()"
   ]
  },
  {
   "cell_type": "code",
   "execution_count": 21,
   "id": "bf7224df",
   "metadata": {},
   "outputs": [],
   "source": [
    "nanlo = locate_nan(df_sec_combine)  # nan 위치 찾기"
   ]
  },
  {
   "cell_type": "code",
   "execution_count": 22,
   "id": "2f63d7f5",
   "metadata": {},
   "outputs": [
    {
     "name": "stdout",
     "output_type": "stream",
     "text": [
      "[[datetime.date(2022, 1, 18) 'dji_cr']\n",
      " [datetime.date(2022, 1, 18) 'dji_f_cr']\n",
      " [datetime.date(2022, 1, 18) 'dxy_cr']\n",
      " ...\n",
      " [datetime.date(2024, 8, 13) 'ixut_cr_2']\n",
      " [datetime.date(2024, 8, 13) 'nbi_cr_2']\n",
      " [datetime.date(2024, 8, 13) 'bkx_cr_2']]\n"
     ]
    }
   ],
   "source": [
    "print(nanlo)"
   ]
  },
  {
   "cell_type": "code",
   "execution_count": 23,
   "id": "21a6d628",
   "metadata": {},
   "outputs": [],
   "source": [
    "# delete rows which include NaN : dji, spx, nasdaq 기타 common 지수중 한개라도 nan인 rows 제거\n",
    "for key, val in code.items():\n",
    "    globals()['df_{}_combine'.format(val[1])].dropna(inplace=True)"
   ]
  },
  {
   "cell_type": "code",
   "execution_count": 24,
   "id": "c6f3061c",
   "metadata": {},
   "outputs": [],
   "source": [
    "# string column을 numeric으로 전환\n",
    "def string_to_num(df):\n",
    "    df.replace('%', '', regex=True, inplace=True)\n",
    "    df = df.apply(pd.to_numeric)\n",
    "    return df\n",
    "\n",
    "for key, val in code.items():\n",
    "    globals()['df_{}_combine'.format(val[1])] = string_to_num(globals()['df_{}_combine'.format(val[1])])"
   ]
  },
  {
   "cell_type": "code",
   "execution_count": 25,
   "id": "7e8d5acf",
   "metadata": {},
   "outputs": [],
   "source": [
    "# pickle로 데이터 저장\n",
    "\n",
    "for key, val in code.items():\n",
    "    globals()[f'df_{val[1]}_combine'].to_pickle(directory_for_predict + f'df_{val[1]}_combine.pkl')\n",
    "    globals()[f'df_{val[1]}_combine'].to_csv(directory_for_predict + f'df_{val[1]}_combine.csv')"
   ]
  },
  {
   "cell_type": "code",
   "execution_count": null,
   "id": "a01825d3",
   "metadata": {},
   "outputs": [],
   "source": []
  },
  {
   "cell_type": "code",
   "execution_count": null,
   "id": "3300e5b2",
   "metadata": {},
   "outputs": [],
   "source": []
  },
  {
   "cell_type": "code",
   "execution_count": null,
   "id": "1ffeab80",
   "metadata": {},
   "outputs": [],
   "source": []
  },
  {
   "cell_type": "code",
   "execution_count": null,
   "id": "a1f7c9d1",
   "metadata": {},
   "outputs": [],
   "source": []
  },
  {
   "cell_type": "code",
   "execution_count": null,
   "id": "bc80b897",
   "metadata": {},
   "outputs": [],
   "source": []
  }
 ],
 "metadata": {
  "kernelspec": {
   "display_name": "Python 3 (ipykernel)",
   "language": "python",
   "name": "python3"
  },
  "language_info": {
   "codemirror_mode": {
    "name": "ipython",
    "version": 3
   },
   "file_extension": ".py",
   "mimetype": "text/x-python",
   "name": "python",
   "nbconvert_exporter": "python",
   "pygments_lexer": "ipython3",
   "version": "3.12.2"
  }
 },
 "nbformat": 4,
 "nbformat_minor": 5
}
