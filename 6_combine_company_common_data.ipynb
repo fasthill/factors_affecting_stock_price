{
 "cells": [
  {
   "cell_type": "markdown",
   "id": "459ff0ca",
   "metadata": {},
   "source": [
    "## combine company data and common data"
   ]
  },
  {
   "cell_type": "code",
   "execution_count": 1,
   "id": "d3b5a935",
   "metadata": {},
   "outputs": [],
   "source": [
    "import datetime, time\n",
    "from datetime import date\n",
    "\n",
    "import pandas as pd\n",
    "import numpy as np\n",
    "import os\n",
    "import sys\n",
    "\n",
    "from sklearn.preprocessing import StandardScaler"
   ]
  },
  {
   "cell_type": "code",
   "execution_count": 2,
   "id": "8ef51f99",
   "metadata": {},
   "outputs": [],
   "source": [
    "module_path = os.path.abspath(os.path.join('.')) \n",
    "sys.path.append(module_path+\"\\\\data\\\\constant\")\n",
    "\n",
    "from constants import COMPANY_CODE"
   ]
  },
  {
   "cell_type": "code",
   "execution_count": 3,
   "id": "9ea60572",
   "metadata": {},
   "outputs": [
    {
     "data": {
      "text/plain": [
       "\" \\n[[datetime.date(2022, 1, 17) 'dji_cr']\\n [datetime.date(2022, 1, 17) 'dji_f_cr']\\n ...\\n [datetime.date(2023, 5, 23) 'kosdaq_cr']\\n [datetime.date(2023, 5, 23) 'kosdaq_cr_2']]\\n\""
      ]
     },
     "execution_count": 3,
     "metadata": {},
     "output_type": "execute_result"
    }
   ],
   "source": [
    "def locate_nan(df):\n",
    "    idx, idy = np.where(pd.isnull(df))\n",
    "    result = np.column_stack([df.index[idx], df.columns[idy]])\n",
    "    return result\n",
    "\n",
    "# return format\n",
    "''' \n",
    "[[datetime.date(2022, 1, 17) 'dji_cr']\n",
    " [datetime.date(2022, 1, 17) 'dji_f_cr']\n",
    " ...\n",
    " [datetime.date(2023, 5, 23) 'kosdaq_cr']\n",
    " [datetime.date(2023, 5, 23) 'kosdaq_cr_2']]\n",
    "'''"
   ]
  },
  {
   "cell_type": "code",
   "execution_count": 4,
   "id": "d6f9e0c8",
   "metadata": {},
   "outputs": [],
   "source": [
    "code = COMPANY_CODE\n",
    "\n",
    "# code = {'005930': ['삼성전자', 'sec'], '005380': ['현대차', 'hyunmotor'],\n",
    "#                  '035420': ['NAVER', 'naver'], '033780': ['KT&G', 'ktng']}\n",
    "# code = {'005930': ['삼성전자', 'sec'], '000660': ['SK하이닉스', 'skhynix']}\n",
    "# code = {'302440': ['SK바이오사이언스', 'skbio']}"
   ]
  },
  {
   "cell_type": "code",
   "execution_count": 5,
   "id": "1ced9635",
   "metadata": {},
   "outputs": [],
   "source": [
    "directory_for_predict = './data/data_for_ml/predict/'\n",
    "pkl_common_directory = './data/common_pkl/'\n",
    "pkl_directory = './data/common_pkl/'"
   ]
  },
  {
   "cell_type": "code",
   "execution_count": 6,
   "id": "a4ac3c16",
   "metadata": {},
   "outputs": [],
   "source": [
    "df_common = pd.read_pickle(directory_for_predict + '0_df_common.pkl')"
   ]
  },
  {
   "cell_type": "code",
   "execution_count": 7,
   "id": "82d5ae58",
   "metadata": {},
   "outputs": [],
   "source": [
    "for key, val in code.items():\n",
    "    df_company = pd.read_pickle(directory_for_predict + f'df_{val[1]}_company.pkl')\n",
    "    df_company = df_company.merge(df_common, how='left', left_index=True, right_index=True)\n",
    "    globals()[f'df_{val[1]}_combine'] = df_company.copy()"
   ]
  },
  {
   "cell_type": "code",
   "execution_count": 8,
   "id": "6c798e31",
   "metadata": {},
   "outputs": [
    {
     "data": {
      "text/html": [
       "<div>\n",
       "<style scoped>\n",
       "    .dataframe tbody tr th:only-of-type {\n",
       "        vertical-align: middle;\n",
       "    }\n",
       "\n",
       "    .dataframe tbody tr th {\n",
       "        vertical-align: top;\n",
       "    }\n",
       "\n",
       "    .dataframe thead th {\n",
       "        text-align: right;\n",
       "    }\n",
       "</style>\n",
       "<table border=\"1\" class=\"dataframe\">\n",
       "  <thead>\n",
       "    <tr style=\"text-align: right;\">\n",
       "      <th></th>\n",
       "      <th>retail_1</th>\n",
       "      <th>foreigner_1</th>\n",
       "      <th>institution_1</th>\n",
       "      <th>financial_1</th>\n",
       "      <th>invtrust_1</th>\n",
       "      <th>pension_1</th>\n",
       "      <th>privequity_1</th>\n",
       "      <th>bank_1</th>\n",
       "      <th>insurance_1</th>\n",
       "      <th>financeetc_1</th>\n",
       "      <th>...</th>\n",
       "      <th>ixk_cr</th>\n",
       "      <th>ixk_cr_2</th>\n",
       "      <th>ixtr_cr</th>\n",
       "      <th>ixtr_cr_2</th>\n",
       "      <th>ixut_cr</th>\n",
       "      <th>ixut_cr_2</th>\n",
       "      <th>nbi_cr</th>\n",
       "      <th>nbi_cr_2</th>\n",
       "      <th>bkx_cr</th>\n",
       "      <th>bkx_cr_2</th>\n",
       "    </tr>\n",
       "  </thead>\n",
       "  <tbody>\n",
       "    <tr>\n",
       "      <th>2024-04-25</th>\n",
       "      <td>0.41841</td>\n",
       "      <td>0.17213</td>\n",
       "      <td>3.73746</td>\n",
       "      <td>-5.85660</td>\n",
       "      <td>-0.73409</td>\n",
       "      <td>2.04234</td>\n",
       "      <td>0.97915</td>\n",
       "      <td>-1.22490</td>\n",
       "      <td>-39.89831</td>\n",
       "      <td>-1.45685</td>\n",
       "      <td>...</td>\n",
       "      <td>0.08%</td>\n",
       "      <td>1.97731</td>\n",
       "      <td>-2.98%</td>\n",
       "      <td>-1.98601</td>\n",
       "      <td>0.08%</td>\n",
       "      <td>0.48883</td>\n",
       "      <td>-0.25%</td>\n",
       "      <td>1.03242</td>\n",
       "      <td>0.39%</td>\n",
       "      <td>1.44984</td>\n",
       "    </tr>\n",
       "    <tr>\n",
       "      <th>2024-04-26</th>\n",
       "      <td>-0.72199</td>\n",
       "      <td>-0.50998</td>\n",
       "      <td>-1.36848</td>\n",
       "      <td>-2.02776</td>\n",
       "      <td>-1.89351</td>\n",
       "      <td>-0.93369</td>\n",
       "      <td>0.55359</td>\n",
       "      <td>6.37500</td>\n",
       "      <td>-0.90632</td>\n",
       "      <td>7.44444</td>\n",
       "      <td>...</td>\n",
       "      <td>-0.73%</td>\n",
       "      <td>-0.64182</td>\n",
       "      <td>0.50%</td>\n",
       "      <td>-2.49432</td>\n",
       "      <td>-1.75%</td>\n",
       "      <td>-1.67288</td>\n",
       "      <td>-1.24%</td>\n",
       "      <td>-1.49621</td>\n",
       "      <td>-1.13%</td>\n",
       "      <td>-0.74642</td>\n",
       "    </tr>\n",
       "    <tr>\n",
       "      <th>2024-04-29</th>\n",
       "      <td>-0.32582</td>\n",
       "      <td>-1.07169</td>\n",
       "      <td>-3.84240</td>\n",
       "      <td>-1.49165</td>\n",
       "      <td>-1.14415</td>\n",
       "      <td>4.59768</td>\n",
       "      <td>2.13615</td>\n",
       "      <td>-0.70218</td>\n",
       "      <td>4.49767</td>\n",
       "      <td>-0.95658</td>\n",
       "      <td>...</td>\n",
       "      <td>2.91%</td>\n",
       "      <td>2.16797</td>\n",
       "      <td>-2.20%</td>\n",
       "      <td>-1.70823</td>\n",
       "      <td>0.13%</td>\n",
       "      <td>-1.62237</td>\n",
       "      <td>0.90%</td>\n",
       "      <td>-0.35669</td>\n",
       "      <td>0.28%</td>\n",
       "      <td>-0.84975</td>\n",
       "    </tr>\n",
       "    <tr>\n",
       "      <th>2024-04-30</th>\n",
       "      <td>0.93335</td>\n",
       "      <td>-13.54837</td>\n",
       "      <td>-0.95192</td>\n",
       "      <td>-0.89609</td>\n",
       "      <td>3.62205</td>\n",
       "      <td>-1.09514</td>\n",
       "      <td>-0.92953</td>\n",
       "      <td>-0.48780</td>\n",
       "      <td>-0.12775</td>\n",
       "      <td>-2.00000</td>\n",
       "      <td>...</td>\n",
       "      <td>-0.29%</td>\n",
       "      <td>2.61547</td>\n",
       "      <td>0.52%</td>\n",
       "      <td>-1.69526</td>\n",
       "      <td>0.43%</td>\n",
       "      <td>0.56096</td>\n",
       "      <td>1.72%</td>\n",
       "      <td>2.63081</td>\n",
       "      <td>-0.11%</td>\n",
       "      <td>0.17580</td>\n",
       "    </tr>\n",
       "    <tr>\n",
       "      <th>2024-05-02</th>\n",
       "      <td>-0.56568</td>\n",
       "      <td>-0.71563</td>\n",
       "      <td>3.21097</td>\n",
       "      <td>4.13092</td>\n",
       "      <td>1.14480</td>\n",
       "      <td>-0.60326</td>\n",
       "      <td>1.51572</td>\n",
       "      <td>-3.71429</td>\n",
       "      <td>1.35790</td>\n",
       "      <td>-1.00000</td>\n",
       "      <td>...</td>\n",
       "      <td>NaN</td>\n",
       "      <td>NaN</td>\n",
       "      <td>NaN</td>\n",
       "      <td>NaN</td>\n",
       "      <td>NaN</td>\n",
       "      <td>NaN</td>\n",
       "      <td>NaN</td>\n",
       "      <td>NaN</td>\n",
       "      <td>NaN</td>\n",
       "      <td>NaN</td>\n",
       "    </tr>\n",
       "  </tbody>\n",
       "</table>\n",
       "<p>5 rows × 114 columns</p>\n",
       "</div>"
      ],
      "text/plain": [
       "            retail_1  foreigner_1  institution_1  financial_1  invtrust_1   \n",
       "2024-04-25   0.41841      0.17213        3.73746     -5.85660    -0.73409  \\\n",
       "2024-04-26  -0.72199     -0.50998       -1.36848     -2.02776    -1.89351   \n",
       "2024-04-29  -0.32582     -1.07169       -3.84240     -1.49165    -1.14415   \n",
       "2024-04-30   0.93335    -13.54837       -0.95192     -0.89609     3.62205   \n",
       "2024-05-02  -0.56568     -0.71563        3.21097      4.13092     1.14480   \n",
       "\n",
       "            pension_1  privequity_1   bank_1  insurance_1  financeetc_1  ...   \n",
       "2024-04-25    2.04234       0.97915 -1.22490    -39.89831      -1.45685  ...  \\\n",
       "2024-04-26   -0.93369       0.55359  6.37500     -0.90632       7.44444  ...   \n",
       "2024-04-29    4.59768       2.13615 -0.70218      4.49767      -0.95658  ...   \n",
       "2024-04-30   -1.09514      -0.92953 -0.48780     -0.12775      -2.00000  ...   \n",
       "2024-05-02   -0.60326       1.51572 -3.71429      1.35790      -1.00000  ...   \n",
       "\n",
       "            ixk_cr  ixk_cr_2  ixtr_cr  ixtr_cr_2  ixut_cr  ixut_cr_2  nbi_cr   \n",
       "2024-04-25   0.08%   1.97731   -2.98%   -1.98601    0.08%    0.48883  -0.25%  \\\n",
       "2024-04-26  -0.73%  -0.64182    0.50%   -2.49432   -1.75%   -1.67288  -1.24%   \n",
       "2024-04-29   2.91%   2.16797   -2.20%   -1.70823    0.13%   -1.62237   0.90%   \n",
       "2024-04-30  -0.29%   2.61547    0.52%   -1.69526    0.43%    0.56096   1.72%   \n",
       "2024-05-02     NaN       NaN      NaN        NaN      NaN        NaN     NaN   \n",
       "\n",
       "            nbi_cr_2  bkx_cr  bkx_cr_2  \n",
       "2024-04-25   1.03242   0.39%   1.44984  \n",
       "2024-04-26  -1.49621  -1.13%  -0.74642  \n",
       "2024-04-29  -0.35669   0.28%  -0.84975  \n",
       "2024-04-30   2.63081  -0.11%   0.17580  \n",
       "2024-05-02       NaN     NaN       NaN  \n",
       "\n",
       "[5 rows x 114 columns]"
      ]
     },
     "execution_count": 8,
     "metadata": {},
     "output_type": "execute_result"
    }
   ],
   "source": [
    "df_hyunmotor_combine.tail()"
   ]
  },
  {
   "cell_type": "code",
   "execution_count": 9,
   "id": "aeab3342",
   "metadata": {},
   "outputs": [
    {
     "data": {
      "text/plain": [
       "datetime.date(2022, 1, 7)"
      ]
     },
     "execution_count": 9,
     "metadata": {},
     "output_type": "execute_result"
    }
   ],
   "source": [
    "df_hyunmotor_combine.index[0]"
   ]
  },
  {
   "cell_type": "code",
   "execution_count": 10,
   "id": "587ac2cd",
   "metadata": {},
   "outputs": [],
   "source": [
    "col_inv1 = ['retail_1', 'foreigner_1', 'institution_1', 'financial_1', 'invtrust_1', 'pension_1', 'privequity_1', \n",
    "            'bank_1', 'insurance_1', 'financeetc_1', 'corporateetc_1', 'foreigneretc_1']\n",
    "col_inv2 = ['retail_2', 'foreigner_2', 'institution_2', 'financial_2', 'invtrust_2', 'pension_2',\n",
    "            'privequity_2', 'bank_2', 'insurance_2', 'financeetc_2', 'corporateetc_2', 'foreigneretc_2']"
   ]
  },
  {
   "cell_type": "code",
   "execution_count": 11,
   "id": "76ca8389",
   "metadata": {},
   "outputs": [],
   "source": [
    "col_his1 = ['open_1', 'high_1', 'low_1', 'close_1', 'vol_1']\n",
    "col_his2 = ['open_2', 'high_2', 'low_2', 'close_2', 'vol_2']"
   ]
  },
  {
   "cell_type": "code",
   "execution_count": 12,
   "id": "8a6b4bac",
   "metadata": {},
   "outputs": [],
   "source": [
    "col_common1 = [\"dji_cr\", \"dji_f_cr\", \"dxy_cr\", \"ixic_f_cr\", \"bond_kor_10_cr\", \"bond_kor_2_cr\", \"kosdaq_cr\", \"kospi_cr\", \n",
    "         \"krw_cr\", \"ixic_cr\", \"spx_f_cr\", \"sox_cr\", \"spx_cr\", \"bond_usa_10_cr\", \"bond_usa_2_cr\", \"bond_usa_3m_cr\", \n",
    "         \"vix_cr\", \"wti_cr\", \"spsy_cr\", \"spny_cr\", \"spxhc_cr\", \"splrcd_cr\", \"splrci_cr\", \"splrcu_cr\", \"splrcs_cr\",\n",
    "         \"splrct_cr\", \"splrcl_cr\", \"splrcm_cr\", \"ixbk_cr\", \"ixfn_cr\", \"ixid_cr\", \"ixis_cr\", \"ixk_cr\", \"ixtr_cr\",\n",
    "         \"ixut_cr\", \"nbi_cr\", \"bkx_cr\"]\n",
    "col_common2 = [\"dji_cr_2\", \"dji_f_cr_2\", \"dxy_cr_2\", \"ixic_f_cr_2\", \"bond_kor_10_cr_2\", \"bond_kor_2_cr_2\", \"kosdaq_cr_2\", \"kospi_cr_2\",\n",
    "         \"krw_cr_2\", \"ixic_cr_2\", \"spx_f_cr_2\", \"sox_cr_2\", \"spx_cr_2\", \"bond_usa_10_cr_2\", \"bond_usa_2_cr_2\", \"bond_usa_3m_cr_2\",\n",
    "         \"vix_cr_2\", \"wti_cr_2\", \"spsy_cr_2\", \"spny_cr_2\", \"spxhc_cr_2\", \"splrcd_cr_2\", \"splrci_cr_2\", \"splrcu_cr_2\",\n",
    "         \"splrcs_cr_2\", \"splrct_cr_2\", \"splrcl_cr_2\", \"splrcm_cr_2\", \"ixbk_cr_2\", \"ixfn_cr_2\", \"ixid_cr_2\",\n",
    "         \"ixis_cr_2\", \"ixk_cr_2\", \"ixtr_cr_2\", \"ixut_cr_2\", \"nbi_cr_2\", \"bkx_cr_2\"]"
   ]
  },
  {
   "cell_type": "code",
   "execution_count": 13,
   "id": "9a595935",
   "metadata": {},
   "outputs": [],
   "source": [
    "col_cr = ['weekday', 'cr_00', 'cr_05', 'cr_10', 'cr_15', 'cr_20']"
   ]
  },
  {
   "cell_type": "code",
   "execution_count": 14,
   "id": "75ec6070",
   "metadata": {},
   "outputs": [],
   "source": [
    "col_col = col_inv1 + col_common1 + col_his1 + col_inv2 + col_common2 + col_his2 + col_cr"
   ]
  },
  {
   "cell_type": "code",
   "execution_count": 15,
   "id": "ff6769da",
   "metadata": {},
   "outputs": [],
   "source": [
    "# # write common data only\n",
    "# df_temp = df_common.copy()\n",
    "# df_temp = df_temp[col_common1+col_common2]\n",
    "# pkl_common_directory = './data/common_pkl/'\n",
    "# df_temp.to_pickle(pkl_common_directory + 'df_common.pkl')\n",
    "# df_temp.to_csv(pkl_common_directory + 'df_common.csv')"
   ]
  },
  {
   "cell_type": "code",
   "execution_count": 16,
   "id": "c78c8f82",
   "metadata": {},
   "outputs": [],
   "source": [
    "new_columns = col_col"
   ]
  },
  {
   "cell_type": "code",
   "execution_count": 17,
   "id": "02da1256",
   "metadata": {},
   "outputs": [],
   "source": [
    "# column 순서 변경 : weekday, 'cr_00', 'cr_05', 'cr_10', 'cr_15', 'cr_20' column을 마지막으로 이동 \n",
    "for key, val in code.items():\n",
    "    globals()['df_{}_combine'.format(val[1])] = globals()['df_{}_combine'.format(val[1])][new_columns]"
   ]
  },
  {
   "cell_type": "code",
   "execution_count": 18,
   "id": "d4f1fa06",
   "metadata": {},
   "outputs": [
    {
     "data": {
      "text/plain": [
       "'\\n# drop inf, -inf : replace inf to 1 or -1 . 데이터를 살리고\\n# 변동률이 무한대가 되는 것을 방지하기 위해서, 나중에 발생하는 에러를 방지\\ndf_sec_sel.replace([np.inf, -np.inf], [1, -1], inplace=True)\\n\\n.impute 사용하는 것을 고려할 필요 있음.\\n'"
      ]
     },
     "execution_count": 18,
     "metadata": {},
     "output_type": "execute_result"
    }
   ],
   "source": [
    "'''\n",
    "# drop inf, -inf : replace inf to 1 or -1 . 데이터를 살리고\n",
    "# 변동률이 무한대가 되는 것을 방지하기 위해서, 나중에 발생하는 에러를 방지\n",
    "df_sec_sel.replace([np.inf, -np.inf], [1, -1], inplace=True)\n",
    "\n",
    ".impute 사용하는 것을 고려할 필요 있음.\n",
    "'''"
   ]
  },
  {
   "cell_type": "code",
   "execution_count": 19,
   "id": "7e91c1c5",
   "metadata": {},
   "outputs": [],
   "source": [
    "# drop inf, -inf : replace inf to 1 or -1 . 데이터를 살리고\n",
    "# 변동률이 무한대가 되는 것을 방지하기 위해서, 나중에 발생하는 에러를 방지\n",
    "for key, val in code.items():\n",
    "    globals()['df_{}_combine'.format(val[1])].replace([np.inf, -np.inf], [1, -1], inplace=True)\n",
    "\n",
    "# **** 데이터 전처리 from sklearn.impute import SimpleImputer, SimpleImputer 사용하기로 함."
   ]
  },
  {
   "cell_type": "code",
   "execution_count": 20,
   "id": "3fa3914b",
   "metadata": {},
   "outputs": [
    {
     "data": {
      "text/html": [
       "<div>\n",
       "<style scoped>\n",
       "    .dataframe tbody tr th:only-of-type {\n",
       "        vertical-align: middle;\n",
       "    }\n",
       "\n",
       "    .dataframe tbody tr th {\n",
       "        vertical-align: top;\n",
       "    }\n",
       "\n",
       "    .dataframe thead th {\n",
       "        text-align: right;\n",
       "    }\n",
       "</style>\n",
       "<table border=\"1\" class=\"dataframe\">\n",
       "  <thead>\n",
       "    <tr style=\"text-align: right;\">\n",
       "      <th></th>\n",
       "      <th>retail_1</th>\n",
       "      <th>foreigner_1</th>\n",
       "      <th>institution_1</th>\n",
       "      <th>financial_1</th>\n",
       "      <th>invtrust_1</th>\n",
       "      <th>pension_1</th>\n",
       "      <th>privequity_1</th>\n",
       "      <th>bank_1</th>\n",
       "      <th>insurance_1</th>\n",
       "      <th>financeetc_1</th>\n",
       "      <th>...</th>\n",
       "      <th>high_2</th>\n",
       "      <th>low_2</th>\n",
       "      <th>close_2</th>\n",
       "      <th>vol_2</th>\n",
       "      <th>weekday</th>\n",
       "      <th>cr_00</th>\n",
       "      <th>cr_05</th>\n",
       "      <th>cr_10</th>\n",
       "      <th>cr_15</th>\n",
       "      <th>cr_20</th>\n",
       "    </tr>\n",
       "  </thead>\n",
       "  <tbody>\n",
       "    <tr>\n",
       "      <th>2024-04-25</th>\n",
       "      <td>-2.19042</td>\n",
       "      <td>-1.86560</td>\n",
       "      <td>6.60630</td>\n",
       "      <td>4.85231</td>\n",
       "      <td>-6.20974</td>\n",
       "      <td>0.65321</td>\n",
       "      <td>-1.41857</td>\n",
       "      <td>2.17248</td>\n",
       "      <td>-0.83725</td>\n",
       "      <td>9.77778</td>\n",
       "      <td>...</td>\n",
       "      <td>0.01677</td>\n",
       "      <td>0.02796</td>\n",
       "      <td>0.03285</td>\n",
       "      <td>-0.27251</td>\n",
       "      <td>2</td>\n",
       "      <td>0</td>\n",
       "      <td>0</td>\n",
       "      <td>0</td>\n",
       "      <td>0</td>\n",
       "      <td>0</td>\n",
       "    </tr>\n",
       "    <tr>\n",
       "      <th>2024-04-26</th>\n",
       "      <td>-2.05453</td>\n",
       "      <td>-1.40004</td>\n",
       "      <td>-4.22474</td>\n",
       "      <td>-5.07547</td>\n",
       "      <td>-2.91680</td>\n",
       "      <td>1.16290</td>\n",
       "      <td>9.83553</td>\n",
       "      <td>-1.02071</td>\n",
       "      <td>6.25435</td>\n",
       "      <td>-1.14536</td>\n",
       "      <td>...</td>\n",
       "      <td>0.00911</td>\n",
       "      <td>0.01060</td>\n",
       "      <td>0.01060</td>\n",
       "      <td>-0.16928</td>\n",
       "      <td>3</td>\n",
       "      <td>1</td>\n",
       "      <td>1</td>\n",
       "      <td>0</td>\n",
       "      <td>0</td>\n",
       "      <td>0</td>\n",
       "    </tr>\n",
       "    <tr>\n",
       "      <th>2024-04-29</th>\n",
       "      <td>-0.83274</td>\n",
       "      <td>-0.74090</td>\n",
       "      <td>-0.86365</td>\n",
       "      <td>-0.86513</td>\n",
       "      <td>-0.59052</td>\n",
       "      <td>0.50790</td>\n",
       "      <td>0.66441</td>\n",
       "      <td>3.09375</td>\n",
       "      <td>-1.67503</td>\n",
       "      <td>-4.51064</td>\n",
       "      <td>...</td>\n",
       "      <td>-0.01142</td>\n",
       "      <td>-0.00907</td>\n",
       "      <td>-0.02417</td>\n",
       "      <td>-0.42454</td>\n",
       "      <td>4</td>\n",
       "      <td>0</td>\n",
       "      <td>0</td>\n",
       "      <td>0</td>\n",
       "      <td>0</td>\n",
       "      <td>0</td>\n",
       "    </tr>\n",
       "    <tr>\n",
       "      <th>2024-04-30</th>\n",
       "      <td>1.99935</td>\n",
       "      <td>4.48926</td>\n",
       "      <td>0.01352</td>\n",
       "      <td>-1.85998</td>\n",
       "      <td>1.75684</td>\n",
       "      <td>-1.62927</td>\n",
       "      <td>-0.52436</td>\n",
       "      <td>-1.21756</td>\n",
       "      <td>-2.07709</td>\n",
       "      <td>-0.45051</td>\n",
       "      <td>...</td>\n",
       "      <td>0.00129</td>\n",
       "      <td>-0.00131</td>\n",
       "      <td>0.00524</td>\n",
       "      <td>-0.05689</td>\n",
       "      <td>0</td>\n",
       "      <td>1</td>\n",
       "      <td>1</td>\n",
       "      <td>1</td>\n",
       "      <td>0</td>\n",
       "      <td>0</td>\n",
       "    </tr>\n",
       "    <tr>\n",
       "      <th>2024-05-02</th>\n",
       "      <td>-1.95945</td>\n",
       "      <td>-1.37004</td>\n",
       "      <td>-4.39654</td>\n",
       "      <td>1.10467</td>\n",
       "      <td>-1.56317</td>\n",
       "      <td>-1.01166</td>\n",
       "      <td>-4.76202</td>\n",
       "      <td>-11.87719</td>\n",
       "      <td>-1.86929</td>\n",
       "      <td>-0.47059</td>\n",
       "      <td>...</td>\n",
       "      <td>0.00770</td>\n",
       "      <td>0.00131</td>\n",
       "      <td>0.01043</td>\n",
       "      <td>0.48466</td>\n",
       "      <td>1</td>\n",
       "      <td>0</td>\n",
       "      <td>0</td>\n",
       "      <td>0</td>\n",
       "      <td>0</td>\n",
       "      <td>0</td>\n",
       "    </tr>\n",
       "  </tbody>\n",
       "</table>\n",
       "<p>5 rows × 114 columns</p>\n",
       "</div>"
      ],
      "text/plain": [
       "            retail_1  foreigner_1  institution_1  financial_1  invtrust_1   \n",
       "2024-04-25  -2.19042     -1.86560        6.60630      4.85231    -6.20974  \\\n",
       "2024-04-26  -2.05453     -1.40004       -4.22474     -5.07547    -2.91680   \n",
       "2024-04-29  -0.83274     -0.74090       -0.86365     -0.86513    -0.59052   \n",
       "2024-04-30   1.99935      4.48926        0.01352     -1.85998     1.75684   \n",
       "2024-05-02  -1.95945     -1.37004       -4.39654      1.10467    -1.56317   \n",
       "\n",
       "            pension_1  privequity_1    bank_1  insurance_1  financeetc_1  ...   \n",
       "2024-04-25    0.65321      -1.41857   2.17248     -0.83725       9.77778  ...  \\\n",
       "2024-04-26    1.16290       9.83553  -1.02071      6.25435      -1.14536  ...   \n",
       "2024-04-29    0.50790       0.66441   3.09375     -1.67503      -4.51064  ...   \n",
       "2024-04-30   -1.62927      -0.52436  -1.21756     -2.07709      -0.45051  ...   \n",
       "2024-05-02   -1.01166      -4.76202 -11.87719     -1.86929      -0.47059  ...   \n",
       "\n",
       "             high_2    low_2  close_2    vol_2  weekday  cr_00 cr_05 cr_10   \n",
       "2024-04-25  0.01677  0.02796  0.03285 -0.27251        2      0     0     0  \\\n",
       "2024-04-26  0.00911  0.01060  0.01060 -0.16928        3      1     1     0   \n",
       "2024-04-29 -0.01142 -0.00907 -0.02417 -0.42454        4      0     0     0   \n",
       "2024-04-30  0.00129 -0.00131  0.00524 -0.05689        0      1     1     1   \n",
       "2024-05-02  0.00770  0.00131  0.01043  0.48466        1      0     0     0   \n",
       "\n",
       "            cr_15  cr_20  \n",
       "2024-04-25      0      0  \n",
       "2024-04-26      0      0  \n",
       "2024-04-29      0      0  \n",
       "2024-04-30      0      0  \n",
       "2024-05-02      0      0  \n",
       "\n",
       "[5 rows x 114 columns]"
      ]
     },
     "execution_count": 20,
     "metadata": {},
     "output_type": "execute_result"
    }
   ],
   "source": [
    "df_sec_combine.tail()"
   ]
  },
  {
   "cell_type": "code",
   "execution_count": 21,
   "id": "bf7224df",
   "metadata": {},
   "outputs": [],
   "source": [
    "nanlo = locate_nan(df_sec_combine)  # nan 위치 찾기"
   ]
  },
  {
   "cell_type": "code",
   "execution_count": 22,
   "id": "2f63d7f5",
   "metadata": {},
   "outputs": [
    {
     "name": "stdout",
     "output_type": "stream",
     "text": [
      "[[datetime.date(2022, 1, 18) 'dji_cr']\n",
      " [datetime.date(2022, 1, 18) 'dji_f_cr']\n",
      " [datetime.date(2022, 1, 18) 'dxy_cr']\n",
      " ...\n",
      " [datetime.date(2024, 5, 2) 'ixut_cr_2']\n",
      " [datetime.date(2024, 5, 2) 'nbi_cr_2']\n",
      " [datetime.date(2024, 5, 2) 'bkx_cr_2']]\n"
     ]
    }
   ],
   "source": [
    "print(nanlo)"
   ]
  },
  {
   "cell_type": "code",
   "execution_count": 23,
   "id": "21a6d628",
   "metadata": {},
   "outputs": [],
   "source": [
    "# delete rows which include NaN : dji, spx, nasdaq 기타 common 지수중 한개라도 nan인 rows 제거\n",
    "for key, val in code.items():\n",
    "    globals()['df_{}_combine'.format(val[1])].dropna(inplace=True)"
   ]
  },
  {
   "cell_type": "code",
   "execution_count": 24,
   "id": "c6f3061c",
   "metadata": {},
   "outputs": [],
   "source": [
    "# string column을 numeric으로 전환\n",
    "def string_to_num(df):\n",
    "    df.replace('%', '', regex=True, inplace=True)\n",
    "    df = df.apply(pd.to_numeric)\n",
    "    return df\n",
    "\n",
    "for key, val in code.items():\n",
    "    globals()['df_{}_combine'.format(val[1])] = string_to_num(globals()['df_{}_combine'.format(val[1])])"
   ]
  },
  {
   "cell_type": "code",
   "execution_count": 25,
   "id": "7e8d5acf",
   "metadata": {},
   "outputs": [],
   "source": [
    "# pickle로 데이터 저장\n",
    "\n",
    "for key, val in code.items():\n",
    "    globals()[f'df_{val[1]}_combine'].to_pickle(directory_for_predict + f'df_{val[1]}_combine.pkl')\n",
    "    globals()[f'df_{val[1]}_combine'].to_csv(directory_for_predict + f'df_{val[1]}_combine.csv')"
   ]
  },
  {
   "cell_type": "code",
   "execution_count": null,
   "id": "a01825d3",
   "metadata": {},
   "outputs": [],
   "source": []
  },
  {
   "cell_type": "code",
   "execution_count": null,
   "id": "3300e5b2",
   "metadata": {},
   "outputs": [],
   "source": []
  },
  {
   "cell_type": "code",
   "execution_count": null,
   "id": "1ffeab80",
   "metadata": {},
   "outputs": [],
   "source": []
  },
  {
   "cell_type": "code",
   "execution_count": null,
   "id": "a1f7c9d1",
   "metadata": {},
   "outputs": [],
   "source": []
  },
  {
   "cell_type": "code",
   "execution_count": null,
   "id": "bc80b897",
   "metadata": {},
   "outputs": [],
   "source": []
  }
 ],
 "metadata": {
  "kernelspec": {
   "display_name": "Python 3 (ipykernel)",
   "language": "python",
   "name": "python3"
  },
  "language_info": {
   "codemirror_mode": {
    "name": "ipython",
    "version": 3
   },
   "file_extension": ".py",
   "mimetype": "text/x-python",
   "name": "python",
   "nbconvert_exporter": "python",
   "pygments_lexer": "ipython3",
   "version": "3.9.1"
  }
 },
 "nbformat": 4,
 "nbformat_minor": 5
}
