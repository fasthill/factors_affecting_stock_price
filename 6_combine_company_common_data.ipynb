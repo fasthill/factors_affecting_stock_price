{
 "cells": [
  {
   "cell_type": "markdown",
   "id": "459ff0ca",
   "metadata": {},
   "source": [
    "## combine company data and common data"
   ]
  },
  {
   "cell_type": "code",
   "execution_count": 1,
   "id": "d3b5a935",
   "metadata": {},
   "outputs": [],
   "source": [
    "import datetime, time\n",
    "from datetime import date\n",
    "\n",
    "import pandas as pd\n",
    "import numpy as np\n",
    "import os\n",
    "import sys\n",
    "\n",
    "from sklearn.preprocessing import StandardScaler"
   ]
  },
  {
   "cell_type": "code",
   "execution_count": 2,
   "id": "8ef51f99",
   "metadata": {},
   "outputs": [],
   "source": [
    "module_path = os.path.abspath(os.path.join('.')) \n",
    "sys.path.append(module_path+\"\\\\data\\\\constant\")\n",
    "\n",
    "from constants import COMPANY_CODE"
   ]
  },
  {
   "cell_type": "code",
   "execution_count": 3,
   "id": "9ea60572",
   "metadata": {},
   "outputs": [
    {
     "data": {
      "text/plain": [
       "\" \\n[[datetime.date(2022, 1, 17) 'dji_cr']\\n [datetime.date(2022, 1, 17) 'dji_f_cr']\\n ...\\n [datetime.date(2023, 5, 23) 'kosdaq_cr']\\n [datetime.date(2023, 5, 23) 'kosdaq_cr_2']]\\n\""
      ]
     },
     "execution_count": 3,
     "metadata": {},
     "output_type": "execute_result"
    }
   ],
   "source": [
    "def locate_nan(df):\n",
    "    idx, idy = np.where(pd.isnull(df))\n",
    "    result = np.column_stack([df.index[idx], df.columns[idy]])\n",
    "    return result\n",
    "\n",
    "# return format\n",
    "''' \n",
    "[[datetime.date(2022, 1, 17) 'dji_cr']\n",
    " [datetime.date(2022, 1, 17) 'dji_f_cr']\n",
    " ...\n",
    " [datetime.date(2023, 5, 23) 'kosdaq_cr']\n",
    " [datetime.date(2023, 5, 23) 'kosdaq_cr_2']]\n",
    "'''"
   ]
  },
  {
   "cell_type": "code",
   "execution_count": 4,
   "id": "d6f9e0c8",
   "metadata": {},
   "outputs": [],
   "source": [
    "code = COMPANY_CODE\n",
    "\n",
    "# code = {'005930': ['삼성전자', 'sec'], '005380': ['현대차', 'hyunmotor'],\n",
    "#                  '035420': ['NAVER', 'naver'], '033780': ['KT&G', 'ktng']}\n",
    "# code = {'005930': ['삼성전자', 'sec'], '000660': ['SK하이닉스', 'skhynix']}\n",
    "# code = {'302440': ['SK바이오사이언스', 'skbio']}"
   ]
  },
  {
   "cell_type": "code",
   "execution_count": 5,
   "id": "1ced9635",
   "metadata": {},
   "outputs": [],
   "source": [
    "directory_for_predict = './data/data_for_ml/predict/'\n",
    "pkl_common_directory = './data/common_pkl/'\n",
    "pkl_directory = './data/common_pkl/'"
   ]
  },
  {
   "cell_type": "code",
   "execution_count": 6,
   "id": "a4ac3c16",
   "metadata": {},
   "outputs": [],
   "source": [
    "df_common = pd.read_pickle(directory_for_predict + '0_df_common.pkl')"
   ]
  },
  {
   "cell_type": "code",
   "execution_count": 7,
   "id": "82d5ae58",
   "metadata": {},
   "outputs": [],
   "source": [
    "for key, val in code.items():\n",
    "    df_company = pd.read_pickle(directory_for_predict + f'df_{val[1]}_company.pkl')\n",
    "    df_company = df_company.merge(df_common, how='left', left_index=True, right_index=True)\n",
    "    globals()[f'df_{val[1]}_combine'] = df_company.copy()"
   ]
  },
  {
   "cell_type": "code",
   "execution_count": 8,
   "id": "6c798e31",
   "metadata": {},
   "outputs": [
    {
     "data": {
      "text/html": [
       "<div>\n",
       "<style scoped>\n",
       "    .dataframe tbody tr th:only-of-type {\n",
       "        vertical-align: middle;\n",
       "    }\n",
       "\n",
       "    .dataframe tbody tr th {\n",
       "        vertical-align: top;\n",
       "    }\n",
       "\n",
       "    .dataframe thead th {\n",
       "        text-align: right;\n",
       "    }\n",
       "</style>\n",
       "<table border=\"1\" class=\"dataframe\">\n",
       "  <thead>\n",
       "    <tr style=\"text-align: right;\">\n",
       "      <th></th>\n",
       "      <th>retail_1</th>\n",
       "      <th>foreigner_1</th>\n",
       "      <th>institution_1</th>\n",
       "      <th>financial_1</th>\n",
       "      <th>invtrust_1</th>\n",
       "      <th>pension_1</th>\n",
       "      <th>privequity_1</th>\n",
       "      <th>bank_1</th>\n",
       "      <th>insurance_1</th>\n",
       "      <th>financeetc_1</th>\n",
       "      <th>...</th>\n",
       "      <th>ixk_cr</th>\n",
       "      <th>ixk_cr_2</th>\n",
       "      <th>ixtr_cr</th>\n",
       "      <th>ixtr_cr_2</th>\n",
       "      <th>ixut_cr</th>\n",
       "      <th>ixut_cr_2</th>\n",
       "      <th>nbi_cr</th>\n",
       "      <th>nbi_cr_2</th>\n",
       "      <th>bkx_cr</th>\n",
       "      <th>bkx_cr_2</th>\n",
       "    </tr>\n",
       "  </thead>\n",
       "  <tbody>\n",
       "    <tr>\n",
       "      <th>2024-04-18</th>\n",
       "      <td>-1.72095</td>\n",
       "      <td>-0.79508</td>\n",
       "      <td>1.86871</td>\n",
       "      <td>0.70885</td>\n",
       "      <td>-1.86647</td>\n",
       "      <td>-0.17693</td>\n",
       "      <td>3.83484</td>\n",
       "      <td>2.02817</td>\n",
       "      <td>-0.97422</td>\n",
       "      <td>-5.61538</td>\n",
       "      <td>...</td>\n",
       "      <td>-1.52%</td>\n",
       "      <td>-1.41087</td>\n",
       "      <td>-1.32%</td>\n",
       "      <td>-1.91718</td>\n",
       "      <td>-0.17%</td>\n",
       "      <td>-0.60547</td>\n",
       "      <td>-0.58%</td>\n",
       "      <td>-1.24607</td>\n",
       "      <td>0.72%</td>\n",
       "      <td>-0.91481</td>\n",
       "    </tr>\n",
       "    <tr>\n",
       "      <th>2024-04-19</th>\n",
       "      <td>-0.30794</td>\n",
       "      <td>-0.64983</td>\n",
       "      <td>-0.41795</td>\n",
       "      <td>-0.48242</td>\n",
       "      <td>-0.81199</td>\n",
       "      <td>0.81316</td>\n",
       "      <td>-0.76804</td>\n",
       "      <td>-0.98605</td>\n",
       "      <td>-12.82692</td>\n",
       "      <td>0.84444</td>\n",
       "      <td>...</td>\n",
       "      <td>-0.56%</td>\n",
       "      <td>-2.07016</td>\n",
       "      <td>-0.53%</td>\n",
       "      <td>-1.84197</td>\n",
       "      <td>0.85%</td>\n",
       "      <td>0.68482</td>\n",
       "      <td>-0.98%</td>\n",
       "      <td>-1.55567</td>\n",
       "      <td>0.72%</td>\n",
       "      <td>1.44658</td>\n",
       "    </tr>\n",
       "    <tr>\n",
       "      <th>2024-04-22</th>\n",
       "      <td>-2.63791</td>\n",
       "      <td>15.38171</td>\n",
       "      <td>0.29757</td>\n",
       "      <td>0.97019</td>\n",
       "      <td>-0.78422</td>\n",
       "      <td>-1.13328</td>\n",
       "      <td>1.89026</td>\n",
       "      <td>-442.33333</td>\n",
       "      <td>0.00163</td>\n",
       "      <td>-0.98795</td>\n",
       "      <td>...</td>\n",
       "      <td>-3.09%</td>\n",
       "      <td>-3.63350</td>\n",
       "      <td>0.24%</td>\n",
       "      <td>-0.29088</td>\n",
       "      <td>0.84%</td>\n",
       "      <td>1.69505</td>\n",
       "      <td>0.20%</td>\n",
       "      <td>-0.78578</td>\n",
       "      <td>1.94%</td>\n",
       "      <td>2.66721</td>\n",
       "    </tr>\n",
       "    <tr>\n",
       "      <th>2024-04-23</th>\n",
       "      <td>3.48793</td>\n",
       "      <td>0.92611</td>\n",
       "      <td>-1.89394</td>\n",
       "      <td>-1.58637</td>\n",
       "      <td>-13.82090</td>\n",
       "      <td>10.76430</td>\n",
       "      <td>-0.73932</td>\n",
       "      <td>-0.79003</td>\n",
       "      <td>-1.90422</td>\n",
       "      <td>3.75000</td>\n",
       "      <td>...</td>\n",
       "      <td>1.36%</td>\n",
       "      <td>-1.77707</td>\n",
       "      <td>0.94%</td>\n",
       "      <td>1.18576</td>\n",
       "      <td>0.16%</td>\n",
       "      <td>0.99792</td>\n",
       "      <td>1.05%</td>\n",
       "      <td>1.24645</td>\n",
       "      <td>2.00%</td>\n",
       "      <td>3.97230</td>\n",
       "    </tr>\n",
       "    <tr>\n",
       "      <th>2024-04-24</th>\n",
       "      <td>-0.30542</td>\n",
       "      <td>-0.20557</td>\n",
       "      <td>-0.74902</td>\n",
       "      <td>-1.27607</td>\n",
       "      <td>1.15832</td>\n",
       "      <td>-0.71288</td>\n",
       "      <td>-2.23960</td>\n",
       "      <td>-0.10432</td>\n",
       "      <td>-0.89408</td>\n",
       "      <td>9.36842</td>\n",
       "      <td>...</td>\n",
       "      <td>NaN</td>\n",
       "      <td>NaN</td>\n",
       "      <td>NaN</td>\n",
       "      <td>NaN</td>\n",
       "      <td>NaN</td>\n",
       "      <td>NaN</td>\n",
       "      <td>NaN</td>\n",
       "      <td>NaN</td>\n",
       "      <td>NaN</td>\n",
       "      <td>NaN</td>\n",
       "    </tr>\n",
       "  </tbody>\n",
       "</table>\n",
       "<p>5 rows × 114 columns</p>\n",
       "</div>"
      ],
      "text/plain": [
       "            retail_1  foreigner_1  institution_1  financial_1  invtrust_1   \n",
       "2024-04-18  -1.72095     -0.79508        1.86871      0.70885    -1.86647  \\\n",
       "2024-04-19  -0.30794     -0.64983       -0.41795     -0.48242    -0.81199   \n",
       "2024-04-22  -2.63791     15.38171        0.29757      0.97019    -0.78422   \n",
       "2024-04-23   3.48793      0.92611       -1.89394     -1.58637   -13.82090   \n",
       "2024-04-24  -0.30542     -0.20557       -0.74902     -1.27607     1.15832   \n",
       "\n",
       "            pension_1  privequity_1     bank_1  insurance_1  financeetc_1   \n",
       "2024-04-18   -0.17693       3.83484    2.02817     -0.97422      -5.61538  \\\n",
       "2024-04-19    0.81316      -0.76804   -0.98605    -12.82692       0.84444   \n",
       "2024-04-22   -1.13328       1.89026 -442.33333      0.00163      -0.98795   \n",
       "2024-04-23   10.76430      -0.73932   -0.79003     -1.90422       3.75000   \n",
       "2024-04-24   -0.71288      -2.23960   -0.10432     -0.89408       9.36842   \n",
       "\n",
       "            ...  ixk_cr  ixk_cr_2  ixtr_cr  ixtr_cr_2  ixut_cr  ixut_cr_2   \n",
       "2024-04-18  ...  -1.52%  -1.41087   -1.32%   -1.91718   -0.17%   -0.60547  \\\n",
       "2024-04-19  ...  -0.56%  -2.07016   -0.53%   -1.84197    0.85%    0.68482   \n",
       "2024-04-22  ...  -3.09%  -3.63350    0.24%   -0.29088    0.84%    1.69505   \n",
       "2024-04-23  ...   1.36%  -1.77707    0.94%    1.18576    0.16%    0.99792   \n",
       "2024-04-24  ...     NaN       NaN      NaN        NaN      NaN        NaN   \n",
       "\n",
       "            nbi_cr  nbi_cr_2  bkx_cr  bkx_cr_2  \n",
       "2024-04-18  -0.58%  -1.24607   0.72%  -0.91481  \n",
       "2024-04-19  -0.98%  -1.55567   0.72%   1.44658  \n",
       "2024-04-22   0.20%  -0.78578   1.94%   2.66721  \n",
       "2024-04-23   1.05%   1.24645   2.00%   3.97230  \n",
       "2024-04-24     NaN       NaN     NaN       NaN  \n",
       "\n",
       "[5 rows x 114 columns]"
      ]
     },
     "execution_count": 8,
     "metadata": {},
     "output_type": "execute_result"
    }
   ],
   "source": [
    "df_hyunmotor_combine.tail()"
   ]
  },
  {
   "cell_type": "code",
   "execution_count": 9,
   "id": "aeab3342",
   "metadata": {},
   "outputs": [
    {
     "data": {
      "text/plain": [
       "datetime.date(2022, 1, 7)"
      ]
     },
     "execution_count": 9,
     "metadata": {},
     "output_type": "execute_result"
    }
   ],
   "source": [
    "df_hyunmotor_combine.index[0]"
   ]
  },
  {
   "cell_type": "code",
   "execution_count": 10,
   "id": "587ac2cd",
   "metadata": {},
   "outputs": [],
   "source": [
    "col_inv1 = ['retail_1', 'foreigner_1', 'institution_1', 'financial_1', 'invtrust_1', 'pension_1', 'privequity_1', \n",
    "            'bank_1', 'insurance_1', 'financeetc_1', 'corporateetc_1', 'foreigneretc_1']\n",
    "col_inv2 = ['retail_2', 'foreigner_2', 'institution_2', 'financial_2', 'invtrust_2', 'pension_2',\n",
    "            'privequity_2', 'bank_2', 'insurance_2', 'financeetc_2', 'corporateetc_2', 'foreigneretc_2']"
   ]
  },
  {
   "cell_type": "code",
   "execution_count": 11,
   "id": "76ca8389",
   "metadata": {},
   "outputs": [],
   "source": [
    "col_his1 = ['open_1', 'high_1', 'low_1', 'close_1', 'vol_1']\n",
    "col_his2 = ['open_2', 'high_2', 'low_2', 'close_2', 'vol_2']"
   ]
  },
  {
   "cell_type": "code",
   "execution_count": 12,
   "id": "8a6b4bac",
   "metadata": {},
   "outputs": [],
   "source": [
    "col_common1 = [\"dji_cr\", \"dji_f_cr\", \"dxy_cr\", \"ixic_f_cr\", \"bond_kor_10_cr\", \"bond_kor_2_cr\", \"kosdaq_cr\", \"kospi_cr\", \n",
    "         \"krw_cr\", \"ixic_cr\", \"spx_f_cr\", \"sox_cr\", \"spx_cr\", \"bond_usa_10_cr\", \"bond_usa_2_cr\", \"bond_usa_3m_cr\", \n",
    "         \"vix_cr\", \"wti_cr\", \"spsy_cr\", \"spny_cr\", \"spxhc_cr\", \"splrcd_cr\", \"splrci_cr\", \"splrcu_cr\", \"splrcs_cr\",\n",
    "         \"splrct_cr\", \"splrcl_cr\", \"splrcm_cr\", \"ixbk_cr\", \"ixfn_cr\", \"ixid_cr\", \"ixis_cr\", \"ixk_cr\", \"ixtr_cr\",\n",
    "         \"ixut_cr\", \"nbi_cr\", \"bkx_cr\"]\n",
    "col_common2 = [\"dji_cr_2\", \"dji_f_cr_2\", \"dxy_cr_2\", \"ixic_f_cr_2\", \"bond_kor_10_cr_2\", \"bond_kor_2_cr_2\", \"kosdaq_cr_2\", \"kospi_cr_2\",\n",
    "         \"krw_cr_2\", \"ixic_cr_2\", \"spx_f_cr_2\", \"sox_cr_2\", \"spx_cr_2\", \"bond_usa_10_cr_2\", \"bond_usa_2_cr_2\", \"bond_usa_3m_cr_2\",\n",
    "         \"vix_cr_2\", \"wti_cr_2\", \"spsy_cr_2\", \"spny_cr_2\", \"spxhc_cr_2\", \"splrcd_cr_2\", \"splrci_cr_2\", \"splrcu_cr_2\",\n",
    "         \"splrcs_cr_2\", \"splrct_cr_2\", \"splrcl_cr_2\", \"splrcm_cr_2\", \"ixbk_cr_2\", \"ixfn_cr_2\", \"ixid_cr_2\",\n",
    "         \"ixis_cr_2\", \"ixk_cr_2\", \"ixtr_cr_2\", \"ixut_cr_2\", \"nbi_cr_2\", \"bkx_cr_2\"]"
   ]
  },
  {
   "cell_type": "code",
   "execution_count": 13,
   "id": "9a595935",
   "metadata": {},
   "outputs": [],
   "source": [
    "col_cr = ['weekday', 'cr_00', 'cr_05', 'cr_10', 'cr_15', 'cr_20']"
   ]
  },
  {
   "cell_type": "code",
   "execution_count": 14,
   "id": "75ec6070",
   "metadata": {},
   "outputs": [],
   "source": [
    "col_col = col_inv1 + col_common1 + col_his1 + col_inv2 + col_common2 + col_his2 + col_cr"
   ]
  },
  {
   "cell_type": "code",
   "execution_count": 15,
   "id": "ff6769da",
   "metadata": {},
   "outputs": [],
   "source": [
    "# # write common data only\n",
    "# df_temp = df_common.copy()\n",
    "# df_temp = df_temp[col_common1+col_common2]\n",
    "# pkl_common_directory = './data/common_pkl/'\n",
    "# df_temp.to_pickle(pkl_common_directory + 'df_common.pkl')\n",
    "# df_temp.to_csv(pkl_common_directory + 'df_common.csv')"
   ]
  },
  {
   "cell_type": "code",
   "execution_count": 16,
   "id": "c78c8f82",
   "metadata": {},
   "outputs": [],
   "source": [
    "new_columns = col_col"
   ]
  },
  {
   "cell_type": "code",
   "execution_count": 17,
   "id": "02da1256",
   "metadata": {},
   "outputs": [],
   "source": [
    "# column 순서 변경 : weekday, 'cr_00', 'cr_05', 'cr_10', 'cr_15', 'cr_20' column을 마지막으로 이동 \n",
    "for key, val in code.items():\n",
    "    globals()['df_{}_combine'.format(val[1])] = globals()['df_{}_combine'.format(val[1])][new_columns]"
   ]
  },
  {
   "cell_type": "code",
   "execution_count": 18,
   "id": "d4f1fa06",
   "metadata": {},
   "outputs": [
    {
     "data": {
      "text/plain": [
       "'\\n# drop inf, -inf : replace inf to 1 or -1 . 데이터를 살리고\\n# 변동률이 무한대가 되는 것을 방지하기 위해서, 나중에 발생하는 에러를 방지\\ndf_sec_sel.replace([np.inf, -np.inf], [1, -1], inplace=True)\\n\\n.impute 사용하는 것을 고려할 필요 있음.\\n'"
      ]
     },
     "execution_count": 18,
     "metadata": {},
     "output_type": "execute_result"
    }
   ],
   "source": [
    "'''\n",
    "# drop inf, -inf : replace inf to 1 or -1 . 데이터를 살리고\n",
    "# 변동률이 무한대가 되는 것을 방지하기 위해서, 나중에 발생하는 에러를 방지\n",
    "df_sec_sel.replace([np.inf, -np.inf], [1, -1], inplace=True)\n",
    "\n",
    ".impute 사용하는 것을 고려할 필요 있음.\n",
    "'''"
   ]
  },
  {
   "cell_type": "code",
   "execution_count": 19,
   "id": "7e91c1c5",
   "metadata": {},
   "outputs": [],
   "source": [
    "# drop inf, -inf : replace inf to 1 or -1 . 데이터를 살리고\n",
    "# 변동률이 무한대가 되는 것을 방지하기 위해서, 나중에 발생하는 에러를 방지\n",
    "for key, val in code.items():\n",
    "    globals()['df_{}_combine'.format(val[1])].replace([np.inf, -np.inf], [1, -1], inplace=True)\n",
    "\n",
    "# **** 데이터 전처리 from sklearn.impute import SimpleImputer, SimpleImputer 사용하기로 함."
   ]
  },
  {
   "cell_type": "code",
   "execution_count": 20,
   "id": "3fa3914b",
   "metadata": {},
   "outputs": [
    {
     "data": {
      "text/html": [
       "<div>\n",
       "<style scoped>\n",
       "    .dataframe tbody tr th:only-of-type {\n",
       "        vertical-align: middle;\n",
       "    }\n",
       "\n",
       "    .dataframe tbody tr th {\n",
       "        vertical-align: top;\n",
       "    }\n",
       "\n",
       "    .dataframe thead th {\n",
       "        text-align: right;\n",
       "    }\n",
       "</style>\n",
       "<table border=\"1\" class=\"dataframe\">\n",
       "  <thead>\n",
       "    <tr style=\"text-align: right;\">\n",
       "      <th></th>\n",
       "      <th>retail_1</th>\n",
       "      <th>foreigner_1</th>\n",
       "      <th>institution_1</th>\n",
       "      <th>financial_1</th>\n",
       "      <th>invtrust_1</th>\n",
       "      <th>pension_1</th>\n",
       "      <th>privequity_1</th>\n",
       "      <th>bank_1</th>\n",
       "      <th>insurance_1</th>\n",
       "      <th>financeetc_1</th>\n",
       "      <th>...</th>\n",
       "      <th>high_2</th>\n",
       "      <th>low_2</th>\n",
       "      <th>close_2</th>\n",
       "      <th>vol_2</th>\n",
       "      <th>weekday</th>\n",
       "      <th>cr_00</th>\n",
       "      <th>cr_05</th>\n",
       "      <th>cr_10</th>\n",
       "      <th>cr_15</th>\n",
       "      <th>cr_20</th>\n",
       "    </tr>\n",
       "  </thead>\n",
       "  <tbody>\n",
       "    <tr>\n",
       "      <th>2024-04-18</th>\n",
       "      <td>8.02807</td>\n",
       "      <td>-2.35519</td>\n",
       "      <td>-0.86108</td>\n",
       "      <td>-0.83991</td>\n",
       "      <td>-0.82523</td>\n",
       "      <td>0.07716</td>\n",
       "      <td>-0.80673</td>\n",
       "      <td>0.57789</td>\n",
       "      <td>-0.44603</td>\n",
       "      <td>9.86496</td>\n",
       "      <td>...</td>\n",
       "      <td>-0.02885</td>\n",
       "      <td>-0.02833</td>\n",
       "      <td>-0.04015</td>\n",
       "      <td>-0.15197</td>\n",
       "      <td>2</td>\n",
       "      <td>1</td>\n",
       "      <td>1</td>\n",
       "      <td>0</td>\n",
       "      <td>0</td>\n",
       "      <td>0</td>\n",
       "    </tr>\n",
       "    <tr>\n",
       "      <th>2024-04-19</th>\n",
       "      <td>-1.20366</td>\n",
       "      <td>-1.52445</td>\n",
       "      <td>2.03236</td>\n",
       "      <td>5.08648</td>\n",
       "      <td>-3.70521</td>\n",
       "      <td>-0.80677</td>\n",
       "      <td>-0.24921</td>\n",
       "      <td>0.47983</td>\n",
       "      <td>-0.55992</td>\n",
       "      <td>-0.89889</td>\n",
       "      <td>...</td>\n",
       "      <td>-0.01476</td>\n",
       "      <td>-0.01385</td>\n",
       "      <td>-0.00500</td>\n",
       "      <td>-0.33113</td>\n",
       "      <td>3</td>\n",
       "      <td>0</td>\n",
       "      <td>0</td>\n",
       "      <td>0</td>\n",
       "      <td>0</td>\n",
       "      <td>0</td>\n",
       "    </tr>\n",
       "    <tr>\n",
       "      <th>2024-04-22</th>\n",
       "      <td>-10.32155</td>\n",
       "      <td>-1.09251</td>\n",
       "      <td>5.59984</td>\n",
       "      <td>4.31204</td>\n",
       "      <td>-1.86961</td>\n",
       "      <td>43.28833</td>\n",
       "      <td>11.39370</td>\n",
       "      <td>-1.94907</td>\n",
       "      <td>-1.88909</td>\n",
       "      <td>2.85382</td>\n",
       "      <td>...</td>\n",
       "      <td>-0.02599</td>\n",
       "      <td>-0.03295</td>\n",
       "      <td>-0.01648</td>\n",
       "      <td>0.38502</td>\n",
       "      <td>4</td>\n",
       "      <td>0</td>\n",
       "      <td>0</td>\n",
       "      <td>0</td>\n",
       "      <td>0</td>\n",
       "      <td>0</td>\n",
       "    </tr>\n",
       "    <tr>\n",
       "      <th>2024-04-23</th>\n",
       "      <td>0.34437</td>\n",
       "      <td>90.40480</td>\n",
       "      <td>-1.66174</td>\n",
       "      <td>-1.80503</td>\n",
       "      <td>-0.05585</td>\n",
       "      <td>-0.78185</td>\n",
       "      <td>-0.57107</td>\n",
       "      <td>-1.77627</td>\n",
       "      <td>-0.11562</td>\n",
       "      <td>0.02500</td>\n",
       "      <td>...</td>\n",
       "      <td>-0.03246</td>\n",
       "      <td>-0.04087</td>\n",
       "      <td>-0.04397</td>\n",
       "      <td>0.42579</td>\n",
       "      <td>0</td>\n",
       "      <td>0</td>\n",
       "      <td>0</td>\n",
       "      <td>0</td>\n",
       "      <td>0</td>\n",
       "      <td>0</td>\n",
       "    </tr>\n",
       "    <tr>\n",
       "      <th>2024-04-24</th>\n",
       "      <td>-0.44671</td>\n",
       "      <td>-0.62635</td>\n",
       "      <td>-0.96425</td>\n",
       "      <td>-0.97069</td>\n",
       "      <td>-0.78924</td>\n",
       "      <td>-0.56596</td>\n",
       "      <td>-1.09590</td>\n",
       "      <td>-0.05161</td>\n",
       "      <td>-3.63188</td>\n",
       "      <td>-0.92431</td>\n",
       "      <td>...</td>\n",
       "      <td>-0.02414</td>\n",
       "      <td>-0.01048</td>\n",
       "      <td>-0.02706</td>\n",
       "      <td>-0.40603</td>\n",
       "      <td>1</td>\n",
       "      <td>0</td>\n",
       "      <td>0</td>\n",
       "      <td>0</td>\n",
       "      <td>0</td>\n",
       "      <td>0</td>\n",
       "    </tr>\n",
       "  </tbody>\n",
       "</table>\n",
       "<p>5 rows × 114 columns</p>\n",
       "</div>"
      ],
      "text/plain": [
       "            retail_1  foreigner_1  institution_1  financial_1  invtrust_1   \n",
       "2024-04-18   8.02807     -2.35519       -0.86108     -0.83991    -0.82523  \\\n",
       "2024-04-19  -1.20366     -1.52445        2.03236      5.08648    -3.70521   \n",
       "2024-04-22 -10.32155     -1.09251        5.59984      4.31204    -1.86961   \n",
       "2024-04-23   0.34437     90.40480       -1.66174     -1.80503    -0.05585   \n",
       "2024-04-24  -0.44671     -0.62635       -0.96425     -0.97069    -0.78924   \n",
       "\n",
       "            pension_1  privequity_1   bank_1  insurance_1  financeetc_1  ...   \n",
       "2024-04-18    0.07716      -0.80673  0.57789     -0.44603       9.86496  ...  \\\n",
       "2024-04-19   -0.80677      -0.24921  0.47983     -0.55992      -0.89889  ...   \n",
       "2024-04-22   43.28833      11.39370 -1.94907     -1.88909       2.85382  ...   \n",
       "2024-04-23   -0.78185      -0.57107 -1.77627     -0.11562       0.02500  ...   \n",
       "2024-04-24   -0.56596      -1.09590 -0.05161     -3.63188      -0.92431  ...   \n",
       "\n",
       "             high_2    low_2  close_2    vol_2  weekday  cr_00 cr_05 cr_10   \n",
       "2024-04-18 -0.02885 -0.02833 -0.04015 -0.15197        2      1     1     0  \\\n",
       "2024-04-19 -0.01476 -0.01385 -0.00500 -0.33113        3      0     0     0   \n",
       "2024-04-22 -0.02599 -0.03295 -0.01648  0.38502        4      0     0     0   \n",
       "2024-04-23 -0.03246 -0.04087 -0.04397  0.42579        0      0     0     0   \n",
       "2024-04-24 -0.02414 -0.01048 -0.02706 -0.40603        1      0     0     0   \n",
       "\n",
       "            cr_15  cr_20  \n",
       "2024-04-18      0      0  \n",
       "2024-04-19      0      0  \n",
       "2024-04-22      0      0  \n",
       "2024-04-23      0      0  \n",
       "2024-04-24      0      0  \n",
       "\n",
       "[5 rows x 114 columns]"
      ]
     },
     "execution_count": 20,
     "metadata": {},
     "output_type": "execute_result"
    }
   ],
   "source": [
    "df_sec_combine.tail()"
   ]
  },
  {
   "cell_type": "code",
   "execution_count": 21,
   "id": "bf7224df",
   "metadata": {},
   "outputs": [],
   "source": [
    "nanlo = locate_nan(df_sec_combine)  # nan 위치 찾기"
   ]
  },
  {
   "cell_type": "code",
   "execution_count": 22,
   "id": "2f63d7f5",
   "metadata": {},
   "outputs": [
    {
     "name": "stdout",
     "output_type": "stream",
     "text": [
      "[[datetime.date(2022, 1, 18) 'dji_cr']\n",
      " [datetime.date(2022, 1, 18) 'dji_f_cr']\n",
      " [datetime.date(2022, 1, 18) 'dxy_cr']\n",
      " ...\n",
      " [datetime.date(2024, 4, 24) 'ixut_cr_2']\n",
      " [datetime.date(2024, 4, 24) 'nbi_cr_2']\n",
      " [datetime.date(2024, 4, 24) 'bkx_cr_2']]\n"
     ]
    }
   ],
   "source": [
    "print(nanlo)"
   ]
  },
  {
   "cell_type": "code",
   "execution_count": 23,
   "id": "21a6d628",
   "metadata": {},
   "outputs": [],
   "source": [
    "# delete rows which include NaN : dji, spx, nasdaq 기타 common 지수중 한개라도 nan인 rows 제거\n",
    "for key, val in code.items():\n",
    "    globals()['df_{}_combine'.format(val[1])].dropna(inplace=True)"
   ]
  },
  {
   "cell_type": "code",
   "execution_count": 24,
   "id": "c6f3061c",
   "metadata": {},
   "outputs": [],
   "source": [
    "# string column을 numeric으로 전환\n",
    "def string_to_num(df):\n",
    "    df.replace('%', '', regex=True, inplace=True)\n",
    "    df = df.apply(pd.to_numeric)\n",
    "    return df\n",
    "\n",
    "for key, val in code.items():\n",
    "    globals()['df_{}_combine'.format(val[1])] = string_to_num(globals()['df_{}_combine'.format(val[1])])"
   ]
  },
  {
   "cell_type": "code",
   "execution_count": 25,
   "id": "7e8d5acf",
   "metadata": {},
   "outputs": [],
   "source": [
    "# pickle로 데이터 저장\n",
    "\n",
    "for key, val in code.items():\n",
    "    globals()[f'df_{val[1]}_combine'].to_pickle(directory_for_predict + f'df_{val[1]}_combine.pkl')\n",
    "    globals()[f'df_{val[1]}_combine'].to_csv(directory_for_predict + f'df_{val[1]}_combine.csv')"
   ]
  },
  {
   "cell_type": "code",
   "execution_count": null,
   "id": "a01825d3",
   "metadata": {},
   "outputs": [],
   "source": []
  },
  {
   "cell_type": "code",
   "execution_count": null,
   "id": "3300e5b2",
   "metadata": {},
   "outputs": [],
   "source": []
  },
  {
   "cell_type": "code",
   "execution_count": null,
   "id": "1ffeab80",
   "metadata": {},
   "outputs": [],
   "source": []
  },
  {
   "cell_type": "code",
   "execution_count": null,
   "id": "a1f7c9d1",
   "metadata": {},
   "outputs": [],
   "source": []
  },
  {
   "cell_type": "code",
   "execution_count": null,
   "id": "bc80b897",
   "metadata": {},
   "outputs": [],
   "source": []
  }
 ],
 "metadata": {
  "kernelspec": {
   "display_name": "Python 3 (ipykernel)",
   "language": "python",
   "name": "python3"
  },
  "language_info": {
   "codemirror_mode": {
    "name": "ipython",
    "version": 3
   },
   "file_extension": ".py",
   "mimetype": "text/x-python",
   "name": "python",
   "nbconvert_exporter": "python",
   "pygments_lexer": "ipython3",
   "version": "3.9.1"
  }
 },
 "nbformat": 4,
 "nbformat_minor": 5
}
