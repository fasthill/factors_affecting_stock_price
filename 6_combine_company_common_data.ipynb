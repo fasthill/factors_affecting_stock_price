{
 "cells": [
  {
   "cell_type": "markdown",
   "id": "459ff0ca",
   "metadata": {},
   "source": [
    "## combine company data and common data"
   ]
  },
  {
   "cell_type": "code",
   "execution_count": 1,
   "id": "d3b5a935",
   "metadata": {},
   "outputs": [],
   "source": [
    "import datetime, time\n",
    "from datetime import date\n",
    "\n",
    "import pandas as pd\n",
    "import numpy as np\n",
    "import os\n",
    "import sys\n",
    "\n",
    "from sklearn.preprocessing import StandardScaler"
   ]
  },
  {
   "cell_type": "code",
   "execution_count": 2,
   "id": "8ef51f99",
   "metadata": {},
   "outputs": [],
   "source": [
    "module_path = os.path.abspath(os.path.join('.')) \n",
    "sys.path.append(module_path+\"\\\\data\\\\constant\")\n",
    "\n",
    "from constants import COMPANY_CODE"
   ]
  },
  {
   "cell_type": "code",
   "execution_count": 3,
   "id": "9ea60572",
   "metadata": {},
   "outputs": [
    {
     "data": {
      "text/plain": [
       "\" \\n[[datetime.date(2022, 1, 17) 'dji_cr']\\n [datetime.date(2022, 1, 17) 'dji_f_cr']\\n ...\\n [datetime.date(2023, 5, 23) 'kosdaq_cr']\\n [datetime.date(2023, 5, 23) 'kosdaq_cr_2']]\\n\""
      ]
     },
     "execution_count": 3,
     "metadata": {},
     "output_type": "execute_result"
    }
   ],
   "source": [
    "def locate_nan(df):\n",
    "    idx, idy = np.where(pd.isnull(df))\n",
    "    result = np.column_stack([df.index[idx], df.columns[idy]])\n",
    "    return result\n",
    "\n",
    "# return format\n",
    "''' \n",
    "[[datetime.date(2022, 1, 17) 'dji_cr']\n",
    " [datetime.date(2022, 1, 17) 'dji_f_cr']\n",
    " ...\n",
    " [datetime.date(2023, 5, 23) 'kosdaq_cr']\n",
    " [datetime.date(2023, 5, 23) 'kosdaq_cr_2']]\n",
    "'''"
   ]
  },
  {
   "cell_type": "code",
   "execution_count": 4,
   "id": "d6f9e0c8",
   "metadata": {},
   "outputs": [],
   "source": [
    "code = COMPANY_CODE\n",
    "\n",
    "# code = {'005930': ['삼성전자', 'sec'], '005380': ['현대차', 'hyunmotor'],\n",
    "#                  '035420': ['NAVER', 'naver'], '033780': ['KT&G', 'ktng']}\n",
    "# code = {'005930': ['삼성전자', 'sec'], '000660': ['SK하이닉스', 'skhynix']}\n",
    "# code = {'302440': ['SK바이오사이언스', 'skbio']}"
   ]
  },
  {
   "cell_type": "code",
   "execution_count": 5,
   "id": "1ced9635",
   "metadata": {},
   "outputs": [],
   "source": [
    "directory_for_predict = './data/data_for_ml/predict/'\n",
    "pkl_common_directory = './data/common_pkl/'\n",
    "pkl_directory = './data/common_pkl/'"
   ]
  },
  {
   "cell_type": "code",
   "execution_count": 6,
   "id": "a4ac3c16",
   "metadata": {},
   "outputs": [],
   "source": [
    "df_common = pd.read_pickle(directory_for_predict + '0_df_common.pkl')"
   ]
  },
  {
   "cell_type": "code",
   "execution_count": 7,
   "id": "82d5ae58",
   "metadata": {},
   "outputs": [],
   "source": [
    "for key, val in code.items():\n",
    "    df_company = pd.read_pickle(directory_for_predict + f'df_{val[1]}_company.pkl')\n",
    "    df_company = df_company.merge(df_common, how='left', left_index=True, right_index=True)\n",
    "    globals()[f'df_{val[1]}_combine'] = df_company.copy()"
   ]
  },
  {
   "cell_type": "code",
   "execution_count": 8,
   "id": "6c798e31",
   "metadata": {},
   "outputs": [
    {
     "data": {
      "text/html": [
       "<div>\n",
       "<style scoped>\n",
       "    .dataframe tbody tr th:only-of-type {\n",
       "        vertical-align: middle;\n",
       "    }\n",
       "\n",
       "    .dataframe tbody tr th {\n",
       "        vertical-align: top;\n",
       "    }\n",
       "\n",
       "    .dataframe thead th {\n",
       "        text-align: right;\n",
       "    }\n",
       "</style>\n",
       "<table border=\"1\" class=\"dataframe\">\n",
       "  <thead>\n",
       "    <tr style=\"text-align: right;\">\n",
       "      <th></th>\n",
       "      <th>retail_1</th>\n",
       "      <th>foreigner_1</th>\n",
       "      <th>institution_1</th>\n",
       "      <th>financial_1</th>\n",
       "      <th>invtrust_1</th>\n",
       "      <th>pension_1</th>\n",
       "      <th>privequity_1</th>\n",
       "      <th>bank_1</th>\n",
       "      <th>insurance_1</th>\n",
       "      <th>financeetc_1</th>\n",
       "      <th>...</th>\n",
       "      <th>ixk_cr</th>\n",
       "      <th>ixk_cr_2</th>\n",
       "      <th>ixtr_cr</th>\n",
       "      <th>ixtr_cr_2</th>\n",
       "      <th>ixut_cr</th>\n",
       "      <th>ixut_cr_2</th>\n",
       "      <th>nbi_cr</th>\n",
       "      <th>nbi_cr_2</th>\n",
       "      <th>bkx_cr</th>\n",
       "      <th>bkx_cr_2</th>\n",
       "    </tr>\n",
       "  </thead>\n",
       "  <tbody>\n",
       "    <tr>\n",
       "      <th>2023-11-01</th>\n",
       "      <td>-0.43236</td>\n",
       "      <td>-0.42401</td>\n",
       "      <td>-0.66492</td>\n",
       "      <td>0.48743</td>\n",
       "      <td>0.92084</td>\n",
       "      <td>-2.05536</td>\n",
       "      <td>-4.64035</td>\n",
       "      <td>-0.58740</td>\n",
       "      <td>-0.59631</td>\n",
       "      <td>-0.15299</td>\n",
       "      <td>...</td>\n",
       "      <td>0.26%</td>\n",
       "      <td>1.52180</td>\n",
       "      <td>-0.03%</td>\n",
       "      <td>1.30082</td>\n",
       "      <td>1.73%</td>\n",
       "      <td>3.10870</td>\n",
       "      <td>0.45%</td>\n",
       "      <td>1.57518</td>\n",
       "      <td>1.12%</td>\n",
       "      <td>3.05397</td>\n",
       "    </tr>\n",
       "    <tr>\n",
       "      <th>2023-11-02</th>\n",
       "      <td>-0.79177</td>\n",
       "      <td>-0.33235</td>\n",
       "      <td>-26.98750</td>\n",
       "      <td>1.60919</td>\n",
       "      <td>-1.04303</td>\n",
       "      <td>-0.20051</td>\n",
       "      <td>-1.30361</td>\n",
       "      <td>-0.99605</td>\n",
       "      <td>-0.04936</td>\n",
       "      <td>-0.89005</td>\n",
       "      <td>...</td>\n",
       "      <td>2.06%</td>\n",
       "      <td>2.32870</td>\n",
       "      <td>0.76%</td>\n",
       "      <td>0.73119</td>\n",
       "      <td>0.47%</td>\n",
       "      <td>2.20782</td>\n",
       "      <td>1.60%</td>\n",
       "      <td>2.05935</td>\n",
       "      <td>0.12%</td>\n",
       "      <td>1.24521</td>\n",
       "    </tr>\n",
       "    <tr>\n",
       "      <th>2023-11-03</th>\n",
       "      <td>-0.70513</td>\n",
       "      <td>-0.02836</td>\n",
       "      <td>0.46717</td>\n",
       "      <td>-0.20899</td>\n",
       "      <td>8.94366</td>\n",
       "      <td>-3.83386</td>\n",
       "      <td>-7.82540</td>\n",
       "      <td>-1.00000</td>\n",
       "      <td>-1.08077</td>\n",
       "      <td>-3.35714</td>\n",
       "      <td>...</td>\n",
       "      <td>1.49%</td>\n",
       "      <td>3.58167</td>\n",
       "      <td>1.30%</td>\n",
       "      <td>2.06848</td>\n",
       "      <td>1.85%</td>\n",
       "      <td>2.32194</td>\n",
       "      <td>1.20%</td>\n",
       "      <td>2.82053</td>\n",
       "      <td>4.46%</td>\n",
       "      <td>4.58728</td>\n",
       "    </tr>\n",
       "    <tr>\n",
       "      <th>2023-11-06</th>\n",
       "      <td>2.81401</td>\n",
       "      <td>-0.41682</td>\n",
       "      <td>-0.77879</td>\n",
       "      <td>-0.63485</td>\n",
       "      <td>-0.36969</td>\n",
       "      <td>-1.24795</td>\n",
       "      <td>-0.77093</td>\n",
       "      <td>inf</td>\n",
       "      <td>-15.52381</td>\n",
       "      <td>-1.17172</td>\n",
       "      <td>...</td>\n",
       "      <td>1.25%</td>\n",
       "      <td>2.76121</td>\n",
       "      <td>1.55%</td>\n",
       "      <td>2.86705</td>\n",
       "      <td>1.32%</td>\n",
       "      <td>3.19738</td>\n",
       "      <td>2.19%</td>\n",
       "      <td>3.40979</td>\n",
       "      <td>3.07%</td>\n",
       "      <td>7.66321</td>\n",
       "    </tr>\n",
       "    <tr>\n",
       "      <th>2023-11-07</th>\n",
       "      <td>-1.11737</td>\n",
       "      <td>-1.13239</td>\n",
       "      <td>-1.31382</td>\n",
       "      <td>1.95795</td>\n",
       "      <td>-3.94157</td>\n",
       "      <td>4.00753</td>\n",
       "      <td>-18.23858</td>\n",
       "      <td>-1.00000</td>\n",
       "      <td>0.98525</td>\n",
       "      <td>1.82353</td>\n",
       "      <td>...</td>\n",
       "      <td>NaN</td>\n",
       "      <td>NaN</td>\n",
       "      <td>NaN</td>\n",
       "      <td>NaN</td>\n",
       "      <td>NaN</td>\n",
       "      <td>NaN</td>\n",
       "      <td>NaN</td>\n",
       "      <td>NaN</td>\n",
       "      <td>NaN</td>\n",
       "      <td>NaN</td>\n",
       "    </tr>\n",
       "  </tbody>\n",
       "</table>\n",
       "<p>5 rows × 114 columns</p>\n",
       "</div>"
      ],
      "text/plain": [
       "            retail_1  foreigner_1  institution_1  financial_1  invtrust_1  \\\n",
       "2023-11-01  -0.43236     -0.42401       -0.66492      0.48743     0.92084   \n",
       "2023-11-02  -0.79177     -0.33235      -26.98750      1.60919    -1.04303   \n",
       "2023-11-03  -0.70513     -0.02836        0.46717     -0.20899     8.94366   \n",
       "2023-11-06   2.81401     -0.41682       -0.77879     -0.63485    -0.36969   \n",
       "2023-11-07  -1.11737     -1.13239       -1.31382      1.95795    -3.94157   \n",
       "\n",
       "            pension_1  privequity_1   bank_1  insurance_1  financeetc_1  ...  \\\n",
       "2023-11-01   -2.05536      -4.64035 -0.58740     -0.59631      -0.15299  ...   \n",
       "2023-11-02   -0.20051      -1.30361 -0.99605     -0.04936      -0.89005  ...   \n",
       "2023-11-03   -3.83386      -7.82540 -1.00000     -1.08077      -3.35714  ...   \n",
       "2023-11-06   -1.24795      -0.77093      inf    -15.52381      -1.17172  ...   \n",
       "2023-11-07    4.00753     -18.23858 -1.00000      0.98525       1.82353  ...   \n",
       "\n",
       "            ixk_cr  ixk_cr_2  ixtr_cr  ixtr_cr_2  ixut_cr  ixut_cr_2  nbi_cr  \\\n",
       "2023-11-01   0.26%   1.52180   -0.03%    1.30082    1.73%    3.10870   0.45%   \n",
       "2023-11-02   2.06%   2.32870    0.76%    0.73119    0.47%    2.20782   1.60%   \n",
       "2023-11-03   1.49%   3.58167    1.30%    2.06848    1.85%    2.32194   1.20%   \n",
       "2023-11-06   1.25%   2.76121    1.55%    2.86705    1.32%    3.19738   2.19%   \n",
       "2023-11-07     NaN       NaN      NaN        NaN      NaN        NaN     NaN   \n",
       "\n",
       "            nbi_cr_2  bkx_cr  bkx_cr_2  \n",
       "2023-11-01   1.57518   1.12%   3.05397  \n",
       "2023-11-02   2.05935   0.12%   1.24521  \n",
       "2023-11-03   2.82053   4.46%   4.58728  \n",
       "2023-11-06   3.40979   3.07%   7.66321  \n",
       "2023-11-07       NaN     NaN       NaN  \n",
       "\n",
       "[5 rows x 114 columns]"
      ]
     },
     "execution_count": 8,
     "metadata": {},
     "output_type": "execute_result"
    }
   ],
   "source": [
    "df_hyunmotor_combine.tail()"
   ]
  },
  {
   "cell_type": "code",
   "execution_count": 9,
   "id": "aeab3342",
   "metadata": {},
   "outputs": [
    {
     "data": {
      "text/plain": [
       "datetime.date(2022, 1, 7)"
      ]
     },
     "execution_count": 9,
     "metadata": {},
     "output_type": "execute_result"
    }
   ],
   "source": [
    "df_hyunmotor_combine.index[0]"
   ]
  },
  {
   "cell_type": "code",
   "execution_count": 10,
   "id": "587ac2cd",
   "metadata": {},
   "outputs": [],
   "source": [
    "col_inv1 = ['retail_1', 'foreigner_1', 'institution_1', 'financial_1', 'invtrust_1', 'pension_1', 'privequity_1', \n",
    "            'bank_1', 'insurance_1', 'financeetc_1', 'corporateetc_1', 'foreigneretc_1']\n",
    "col_inv2 = ['retail_2', 'foreigner_2', 'institution_2', 'financial_2', 'invtrust_2', 'pension_2',\n",
    "            'privequity_2', 'bank_2', 'insurance_2', 'financeetc_2', 'corporateetc_2', 'foreigneretc_2']"
   ]
  },
  {
   "cell_type": "code",
   "execution_count": 11,
   "id": "76ca8389",
   "metadata": {},
   "outputs": [],
   "source": [
    "col_his1 = ['open_1', 'high_1', 'low_1', 'close_1', 'vol_1']\n",
    "col_his2 = ['open_2', 'high_2', 'low_2', 'close_2', 'vol_2']"
   ]
  },
  {
   "cell_type": "code",
   "execution_count": 12,
   "id": "8a6b4bac",
   "metadata": {},
   "outputs": [],
   "source": [
    "col_common1 = [\"dji_cr\", \"dji_f_cr\", \"dxy_cr\", \"ixic_f_cr\", \"bond_kor_10_cr\", \"bond_kor_2_cr\", \"kosdaq_cr\", \"kospi_cr\", \n",
    "         \"krw_cr\", \"ixic_cr\", \"spx_f_cr\", \"sox_cr\", \"spx_cr\", \"bond_usa_10_cr\", \"bond_usa_2_cr\", \"bond_usa_3m_cr\", \n",
    "         \"vix_cr\", \"wti_cr\", \"spsy_cr\", \"spny_cr\", \"spxhc_cr\", \"splrcd_cr\", \"splrci_cr\", \"splrcu_cr\", \"splrcs_cr\",\n",
    "         \"splrct_cr\", \"splrcl_cr\", \"splrcm_cr\", \"ixbk_cr\", \"ixfn_cr\", \"ixid_cr\", \"ixis_cr\", \"ixk_cr\", \"ixtr_cr\",\n",
    "         \"ixut_cr\", \"nbi_cr\", \"bkx_cr\"]\n",
    "col_common2 = [\"dji_cr_2\", \"dji_f_cr_2\", \"dxy_cr_2\", \"ixic_f_cr_2\", \"bond_kor_10_cr_2\", \"bond_kor_2_cr_2\", \"kosdaq_cr_2\", \"kospi_cr_2\",\n",
    "         \"krw_cr_2\", \"ixic_cr_2\", \"spx_f_cr_2\", \"sox_cr_2\", \"spx_cr_2\", \"bond_usa_10_cr_2\", \"bond_usa_2_cr_2\", \"bond_usa_3m_cr_2\",\n",
    "         \"vix_cr_2\", \"wti_cr_2\", \"spsy_cr_2\", \"spny_cr_2\", \"spxhc_cr_2\", \"splrcd_cr_2\", \"splrci_cr_2\", \"splrcu_cr_2\",\n",
    "         \"splrcs_cr_2\", \"splrct_cr_2\", \"splrcl_cr_2\", \"splrcm_cr_2\", \"ixbk_cr_2\", \"ixfn_cr_2\", \"ixid_cr_2\",\n",
    "         \"ixis_cr_2\", \"ixk_cr_2\", \"ixtr_cr_2\", \"ixut_cr_2\", \"nbi_cr_2\", \"bkx_cr_2\"]"
   ]
  },
  {
   "cell_type": "code",
   "execution_count": 13,
   "id": "9a595935",
   "metadata": {},
   "outputs": [],
   "source": [
    "col_cr = ['weekday', 'cr_00', 'cr_05', 'cr_10', 'cr_15', 'cr_20']"
   ]
  },
  {
   "cell_type": "code",
   "execution_count": 14,
   "id": "75ec6070",
   "metadata": {},
   "outputs": [],
   "source": [
    "col_col = col_inv1 + col_common1 + col_his1 + col_inv2 + col_common2 + col_his2 + col_cr"
   ]
  },
  {
   "cell_type": "code",
   "execution_count": 15,
   "id": "ff6769da",
   "metadata": {},
   "outputs": [],
   "source": [
    "# # write common data only\n",
    "# df_temp = df_common.copy()\n",
    "# df_temp = df_temp[col_common1+col_common2]\n",
    "# pkl_common_directory = './data/common_pkl/'\n",
    "# df_temp.to_pickle(pkl_common_directory + 'df_common.pkl')\n",
    "# df_temp.to_csv(pkl_common_directory + 'df_common.csv')"
   ]
  },
  {
   "cell_type": "code",
   "execution_count": 16,
   "id": "c78c8f82",
   "metadata": {},
   "outputs": [],
   "source": [
    "new_columns = col_col"
   ]
  },
  {
   "cell_type": "code",
   "execution_count": 17,
   "id": "02da1256",
   "metadata": {},
   "outputs": [],
   "source": [
    "# column 순서 변경 : weekday, 'cr_00', 'cr_05', 'cr_10', 'cr_15', 'cr_20' column을 마지막으로 이동 \n",
    "for key, val in code.items():\n",
    "    globals()['df_{}_combine'.format(val[1])] = globals()['df_{}_combine'.format(val[1])][new_columns]"
   ]
  },
  {
   "cell_type": "code",
   "execution_count": 18,
   "id": "d4f1fa06",
   "metadata": {},
   "outputs": [
    {
     "data": {
      "text/plain": [
       "'\\n# drop inf, -inf : replace inf to 1 or -1 . 데이터를 살리고\\n# 변동률이 무한대가 되는 것을 방지하기 위해서, 나중에 발생하는 에러를 방지\\ndf_sec_sel.replace([np.inf, -np.inf], [1, -1], inplace=True)\\n\\n.impute 사용하는 것을 고려할 필요 있음.\\n'"
      ]
     },
     "execution_count": 18,
     "metadata": {},
     "output_type": "execute_result"
    }
   ],
   "source": [
    "'''\n",
    "# drop inf, -inf : replace inf to 1 or -1 . 데이터를 살리고\n",
    "# 변동률이 무한대가 되는 것을 방지하기 위해서, 나중에 발생하는 에러를 방지\n",
    "df_sec_sel.replace([np.inf, -np.inf], [1, -1], inplace=True)\n",
    "\n",
    ".impute 사용하는 것을 고려할 필요 있음.\n",
    "'''"
   ]
  },
  {
   "cell_type": "code",
   "execution_count": 19,
   "id": "7e91c1c5",
   "metadata": {},
   "outputs": [],
   "source": [
    "# drop inf, -inf : replace inf to 1 or -1 . 데이터를 살리고\n",
    "# 변동률이 무한대가 되는 것을 방지하기 위해서, 나중에 발생하는 에러를 방지\n",
    "for key, val in code.items():\n",
    "    globals()['df_{}_combine'.format(val[1])].replace([np.inf, -np.inf], [1, -1], inplace=True)\n",
    "\n",
    "# **** 데이터 전처리 from sklearn.impute import SimpleImputer, SimpleImputer 사용하기로 함."
   ]
  },
  {
   "cell_type": "code",
   "execution_count": 20,
   "id": "3fa3914b",
   "metadata": {},
   "outputs": [
    {
     "data": {
      "text/html": [
       "<div>\n",
       "<style scoped>\n",
       "    .dataframe tbody tr th:only-of-type {\n",
       "        vertical-align: middle;\n",
       "    }\n",
       "\n",
       "    .dataframe tbody tr th {\n",
       "        vertical-align: top;\n",
       "    }\n",
       "\n",
       "    .dataframe thead th {\n",
       "        text-align: right;\n",
       "    }\n",
       "</style>\n",
       "<table border=\"1\" class=\"dataframe\">\n",
       "  <thead>\n",
       "    <tr style=\"text-align: right;\">\n",
       "      <th></th>\n",
       "      <th>retail_1</th>\n",
       "      <th>foreigner_1</th>\n",
       "      <th>institution_1</th>\n",
       "      <th>financial_1</th>\n",
       "      <th>invtrust_1</th>\n",
       "      <th>pension_1</th>\n",
       "      <th>privequity_1</th>\n",
       "      <th>bank_1</th>\n",
       "      <th>insurance_1</th>\n",
       "      <th>financeetc_1</th>\n",
       "      <th>...</th>\n",
       "      <th>high_2</th>\n",
       "      <th>low_2</th>\n",
       "      <th>close_2</th>\n",
       "      <th>vol_2</th>\n",
       "      <th>weekday</th>\n",
       "      <th>cr_00</th>\n",
       "      <th>cr_05</th>\n",
       "      <th>cr_10</th>\n",
       "      <th>cr_15</th>\n",
       "      <th>cr_20</th>\n",
       "    </tr>\n",
       "  </thead>\n",
       "  <tbody>\n",
       "    <tr>\n",
       "      <th>2023-11-01</th>\n",
       "      <td>-2.14256</td>\n",
       "      <td>-0.12371</td>\n",
       "      <td>-0.90416</td>\n",
       "      <td>-1.52397</td>\n",
       "      <td>-2.04731</td>\n",
       "      <td>-0.31652</td>\n",
       "      <td>2.47647</td>\n",
       "      <td>-1.56517</td>\n",
       "      <td>-0.92545</td>\n",
       "      <td>-0.86003</td>\n",
       "      <td>...</td>\n",
       "      <td>0.01486</td>\n",
       "      <td>0.00300</td>\n",
       "      <td>-0.00594</td>\n",
       "      <td>0.27827</td>\n",
       "      <td>1</td>\n",
       "      <td>1</td>\n",
       "      <td>1</td>\n",
       "      <td>1</td>\n",
       "      <td>1</td>\n",
       "      <td>1</td>\n",
       "    </tr>\n",
       "    <tr>\n",
       "      <th>2023-11-02</th>\n",
       "      <td>-10.63926</td>\n",
       "      <td>-1.16305</td>\n",
       "      <td>35.13372</td>\n",
       "      <td>-18.34565</td>\n",
       "      <td>-6.01683</td>\n",
       "      <td>0.22256</td>\n",
       "      <td>-0.05452</td>\n",
       "      <td>0.87324</td>\n",
       "      <td>-3.73737</td>\n",
       "      <td>-0.98795</td>\n",
       "      <td>...</td>\n",
       "      <td>0.01622</td>\n",
       "      <td>0.00900</td>\n",
       "      <td>0.01932</td>\n",
       "      <td>0.35860</td>\n",
       "      <td>2</td>\n",
       "      <td>1</td>\n",
       "      <td>1</td>\n",
       "      <td>1</td>\n",
       "      <td>1</td>\n",
       "      <td>0</td>\n",
       "    </tr>\n",
       "    <tr>\n",
       "      <th>2023-11-03</th>\n",
       "      <td>0.37471</td>\n",
       "      <td>46.65146</td>\n",
       "      <td>-0.90139</td>\n",
       "      <td>-0.79477</td>\n",
       "      <td>-0.82018</td>\n",
       "      <td>-0.86504</td>\n",
       "      <td>2.59980</td>\n",
       "      <td>-0.69079</td>\n",
       "      <td>-9.55351</td>\n",
       "      <td>-224.50000</td>\n",
       "      <td>...</td>\n",
       "      <td>0.02489</td>\n",
       "      <td>0.03737</td>\n",
       "      <td>0.04185</td>\n",
       "      <td>0.12845</td>\n",
       "      <td>3</td>\n",
       "      <td>0</td>\n",
       "      <td>0</td>\n",
       "      <td>0</td>\n",
       "      <td>0</td>\n",
       "      <td>0</td>\n",
       "    </tr>\n",
       "    <tr>\n",
       "      <th>2023-11-06</th>\n",
       "      <td>-0.57341</td>\n",
       "      <td>-0.55567</td>\n",
       "      <td>-0.92871</td>\n",
       "      <td>-1.01764</td>\n",
       "      <td>-2.08542</td>\n",
       "      <td>1.61447</td>\n",
       "      <td>-0.89532</td>\n",
       "      <td>-3.65957</td>\n",
       "      <td>-2.46290</td>\n",
       "      <td>-1.56152</td>\n",
       "      <td>...</td>\n",
       "      <td>0.01887</td>\n",
       "      <td>0.03269</td>\n",
       "      <td>0.01458</td>\n",
       "      <td>-0.25067</td>\n",
       "      <td>4</td>\n",
       "      <td>1</td>\n",
       "      <td>1</td>\n",
       "      <td>1</td>\n",
       "      <td>1</td>\n",
       "      <td>0</td>\n",
       "    </tr>\n",
       "    <tr>\n",
       "      <th>2023-11-07</th>\n",
       "      <td>0.62244</td>\n",
       "      <td>-0.59333</td>\n",
       "      <td>92.73774</td>\n",
       "      <td>-324.38914</td>\n",
       "      <td>9.94708</td>\n",
       "      <td>-3.02659</td>\n",
       "      <td>-4.70733</td>\n",
       "      <td>0.95771</td>\n",
       "      <td>1.88027</td>\n",
       "      <td>4.29482</td>\n",
       "      <td>...</td>\n",
       "      <td>0.01286</td>\n",
       "      <td>-0.00144</td>\n",
       "      <td>0.01722</td>\n",
       "      <td>0.35954</td>\n",
       "      <td>0</td>\n",
       "      <td>0</td>\n",
       "      <td>0</td>\n",
       "      <td>0</td>\n",
       "      <td>0</td>\n",
       "      <td>0</td>\n",
       "    </tr>\n",
       "  </tbody>\n",
       "</table>\n",
       "<p>5 rows × 114 columns</p>\n",
       "</div>"
      ],
      "text/plain": [
       "            retail_1  foreigner_1  institution_1  financial_1  invtrust_1  \\\n",
       "2023-11-01  -2.14256     -0.12371       -0.90416     -1.52397    -2.04731   \n",
       "2023-11-02 -10.63926     -1.16305       35.13372    -18.34565    -6.01683   \n",
       "2023-11-03   0.37471     46.65146       -0.90139     -0.79477    -0.82018   \n",
       "2023-11-06  -0.57341     -0.55567       -0.92871     -1.01764    -2.08542   \n",
       "2023-11-07   0.62244     -0.59333       92.73774   -324.38914     9.94708   \n",
       "\n",
       "            pension_1  privequity_1   bank_1  insurance_1  financeetc_1  ...  \\\n",
       "2023-11-01   -0.31652       2.47647 -1.56517     -0.92545      -0.86003  ...   \n",
       "2023-11-02    0.22256      -0.05452  0.87324     -3.73737      -0.98795  ...   \n",
       "2023-11-03   -0.86504       2.59980 -0.69079     -9.55351    -224.50000  ...   \n",
       "2023-11-06    1.61447      -0.89532 -3.65957     -2.46290      -1.56152  ...   \n",
       "2023-11-07   -3.02659      -4.70733  0.95771      1.88027       4.29482  ...   \n",
       "\n",
       "             high_2    low_2  close_2    vol_2  weekday  cr_00 cr_05 cr_10  \\\n",
       "2023-11-01  0.01486  0.00300 -0.00594  0.27827        1      1     1     1   \n",
       "2023-11-02  0.01622  0.00900  0.01932  0.35860        2      1     1     1   \n",
       "2023-11-03  0.02489  0.03737  0.04185  0.12845        3      0     0     0   \n",
       "2023-11-06  0.01887  0.03269  0.01458 -0.25067        4      1     1     1   \n",
       "2023-11-07  0.01286 -0.00144  0.01722  0.35954        0      0     0     0   \n",
       "\n",
       "            cr_15  cr_20  \n",
       "2023-11-01      1      1  \n",
       "2023-11-02      1      0  \n",
       "2023-11-03      0      0  \n",
       "2023-11-06      1      0  \n",
       "2023-11-07      0      0  \n",
       "\n",
       "[5 rows x 114 columns]"
      ]
     },
     "execution_count": 20,
     "metadata": {},
     "output_type": "execute_result"
    }
   ],
   "source": [
    "df_sec_combine.tail()"
   ]
  },
  {
   "cell_type": "code",
   "execution_count": 21,
   "id": "bf7224df",
   "metadata": {},
   "outputs": [],
   "source": [
    "nanlo = locate_nan(df_sec_combine)  # nan 위치 찾기"
   ]
  },
  {
   "cell_type": "code",
   "execution_count": 22,
   "id": "2f63d7f5",
   "metadata": {},
   "outputs": [
    {
     "name": "stdout",
     "output_type": "stream",
     "text": [
      "[[datetime.date(2022, 1, 18) 'dji_cr']\n",
      " [datetime.date(2022, 1, 18) 'dji_f_cr']\n",
      " [datetime.date(2022, 1, 18) 'dxy_cr']\n",
      " ...\n",
      " [datetime.date(2023, 11, 7) 'ixut_cr_2']\n",
      " [datetime.date(2023, 11, 7) 'nbi_cr_2']\n",
      " [datetime.date(2023, 11, 7) 'bkx_cr_2']]\n"
     ]
    }
   ],
   "source": [
    "print(nanlo)"
   ]
  },
  {
   "cell_type": "code",
   "execution_count": 23,
   "id": "21a6d628",
   "metadata": {},
   "outputs": [],
   "source": [
    "# delete rows which include NaN : dji, spx, nasdaq 기타 common 지수중 한개라도 nan인 rows 제거\n",
    "for key, val in code.items():\n",
    "    globals()['df_{}_combine'.format(val[1])].dropna(inplace=True)"
   ]
  },
  {
   "cell_type": "code",
   "execution_count": 24,
   "id": "c6f3061c",
   "metadata": {},
   "outputs": [],
   "source": [
    "# string column을 numeric으로 전환\n",
    "def string_to_num(df):\n",
    "    df.replace('%', '', regex=True, inplace=True)\n",
    "    df = df.apply(pd.to_numeric)\n",
    "    return df\n",
    "\n",
    "for key, val in code.items():\n",
    "    globals()['df_{}_combine'.format(val[1])] = string_to_num(globals()['df_{}_combine'.format(val[1])])"
   ]
  },
  {
   "cell_type": "code",
   "execution_count": 25,
   "id": "7e8d5acf",
   "metadata": {},
   "outputs": [],
   "source": [
    "# pickle로 데이터 저장\n",
    "\n",
    "for key, val in code.items():\n",
    "    globals()[f'df_{val[1]}_combine'].to_pickle(directory_for_predict + f'df_{val[1]}_combine.pkl')\n",
    "    globals()[f'df_{val[1]}_combine'].to_csv(directory_for_predict + f'df_{val[1]}_combine.csv')"
   ]
  },
  {
   "cell_type": "code",
   "execution_count": null,
   "id": "a01825d3",
   "metadata": {},
   "outputs": [],
   "source": []
  },
  {
   "cell_type": "code",
   "execution_count": null,
   "id": "3300e5b2",
   "metadata": {},
   "outputs": [],
   "source": []
  },
  {
   "cell_type": "code",
   "execution_count": null,
   "id": "a1f7c9d1",
   "metadata": {},
   "outputs": [],
   "source": []
  },
  {
   "cell_type": "code",
   "execution_count": null,
   "id": "bc80b897",
   "metadata": {},
   "outputs": [],
   "source": []
  }
 ],
 "metadata": {
  "kernelspec": {
   "display_name": "Python 3 (ipykernel)",
   "language": "python",
   "name": "python3"
  },
  "language_info": {
   "codemirror_mode": {
    "name": "ipython",
    "version": 3
   },
   "file_extension": ".py",
   "mimetype": "text/x-python",
   "name": "python",
   "nbconvert_exporter": "python",
   "pygments_lexer": "ipython3",
   "version": "3.10.7"
  }
 },
 "nbformat": 4,
 "nbformat_minor": 5
}
