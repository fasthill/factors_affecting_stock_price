{
 "cells": [
  {
   "cell_type": "markdown",
   "id": "459ff0ca",
   "metadata": {},
   "source": [
    "## combine company data and common data"
   ]
  },
  {
   "cell_type": "code",
   "execution_count": 1,
   "id": "d3b5a935",
   "metadata": {},
   "outputs": [],
   "source": [
    "import datetime, time\n",
    "from datetime import date\n",
    "\n",
    "import pandas as pd\n",
    "import numpy as np\n",
    "import os\n",
    "import sys\n",
    "\n",
    "from sklearn.preprocessing import StandardScaler"
   ]
  },
  {
   "cell_type": "code",
   "execution_count": 2,
   "id": "8ef51f99",
   "metadata": {},
   "outputs": [],
   "source": [
    "module_path = os.path.abspath(os.path.join('.')) \n",
    "sys.path.append(module_path+\"\\\\data\\\\constant\")\n",
    "\n",
    "from constants import COMPANY_CODE"
   ]
  },
  {
   "cell_type": "code",
   "execution_count": 3,
   "id": "9ea60572",
   "metadata": {},
   "outputs": [
    {
     "data": {
      "text/plain": [
       "\" \\n[[datetime.date(2022, 1, 17) 'dji_cr']\\n [datetime.date(2022, 1, 17) 'dji_f_cr']\\n ...\\n [datetime.date(2023, 5, 23) 'kosdaq_cr']\\n [datetime.date(2023, 5, 23) 'kosdaq_cr_2']]\\n\""
      ]
     },
     "execution_count": 3,
     "metadata": {},
     "output_type": "execute_result"
    }
   ],
   "source": [
    "def locate_nan(df):\n",
    "    idx, idy = np.where(pd.isnull(df))\n",
    "    result = np.column_stack([df.index[idx], df.columns[idy]])\n",
    "    return result\n",
    "\n",
    "# return format\n",
    "''' \n",
    "[[datetime.date(2022, 1, 17) 'dji_cr']\n",
    " [datetime.date(2022, 1, 17) 'dji_f_cr']\n",
    " ...\n",
    " [datetime.date(2023, 5, 23) 'kosdaq_cr']\n",
    " [datetime.date(2023, 5, 23) 'kosdaq_cr_2']]\n",
    "'''"
   ]
  },
  {
   "cell_type": "code",
   "execution_count": 4,
   "id": "d6f9e0c8",
   "metadata": {},
   "outputs": [],
   "source": [
    "code = COMPANY_CODE\n",
    "\n",
    "# code = {'005930': ['삼성전자', 'sec'], '005380': ['현대차', 'hyunmotor'],\n",
    "#                  '035420': ['NAVER', 'naver'], '033780': ['KT&G', 'ktng']}\n",
    "# code = {'005930': ['삼성전자', 'sec'], '000660': ['SK하이닉스', 'skhynix']}\n",
    "# code = {'302440': ['SK바이오사이언스', 'skbio']}"
   ]
  },
  {
   "cell_type": "code",
   "execution_count": 5,
   "id": "1ced9635",
   "metadata": {},
   "outputs": [],
   "source": [
    "directory_for_predict = './data/data_for_ml/predict/'\n",
    "pkl_common_directory = './data/common_pkl/'\n",
    "pkl_directory = './data/common_pkl/'"
   ]
  },
  {
   "cell_type": "code",
   "execution_count": 6,
   "id": "a4ac3c16",
   "metadata": {},
   "outputs": [],
   "source": [
    "df_common = pd.read_pickle(directory_for_predict + '0_df_common.pkl')"
   ]
  },
  {
   "cell_type": "code",
   "execution_count": 7,
   "id": "82d5ae58",
   "metadata": {},
   "outputs": [],
   "source": [
    "for key, val in code.items():\n",
    "    df_company = pd.read_pickle(directory_for_predict + f'df_{val[1]}_company.pkl')\n",
    "    df_company = df_company.merge(df_common, how='left', left_index=True, right_index=True)\n",
    "    globals()[f'df_{val[1]}_combine'] = df_company.copy()"
   ]
  },
  {
   "cell_type": "code",
   "execution_count": 8,
   "id": "6c798e31",
   "metadata": {},
   "outputs": [
    {
     "data": {
      "text/html": [
       "<div>\n",
       "<style scoped>\n",
       "    .dataframe tbody tr th:only-of-type {\n",
       "        vertical-align: middle;\n",
       "    }\n",
       "\n",
       "    .dataframe tbody tr th {\n",
       "        vertical-align: top;\n",
       "    }\n",
       "\n",
       "    .dataframe thead th {\n",
       "        text-align: right;\n",
       "    }\n",
       "</style>\n",
       "<table border=\"1\" class=\"dataframe\">\n",
       "  <thead>\n",
       "    <tr style=\"text-align: right;\">\n",
       "      <th></th>\n",
       "      <th>retail_1</th>\n",
       "      <th>foreigner_1</th>\n",
       "      <th>institution_1</th>\n",
       "      <th>financial_1</th>\n",
       "      <th>invtrust_1</th>\n",
       "      <th>pension_1</th>\n",
       "      <th>privequity_1</th>\n",
       "      <th>bank_1</th>\n",
       "      <th>insurance_1</th>\n",
       "      <th>financeetc_1</th>\n",
       "      <th>...</th>\n",
       "      <th>ixk_cr</th>\n",
       "      <th>ixk_cr_2</th>\n",
       "      <th>ixtr_cr</th>\n",
       "      <th>ixtr_cr_2</th>\n",
       "      <th>ixut_cr</th>\n",
       "      <th>ixut_cr_2</th>\n",
       "      <th>nbi_cr</th>\n",
       "      <th>nbi_cr_2</th>\n",
       "      <th>bkx_cr</th>\n",
       "      <th>bkx_cr_2</th>\n",
       "    </tr>\n",
       "  </thead>\n",
       "  <tbody>\n",
       "    <tr>\n",
       "      <th>2023-09-20</th>\n",
       "      <td>-0.72689</td>\n",
       "      <td>0.13412</td>\n",
       "      <td>1.26419</td>\n",
       "      <td>0.78478</td>\n",
       "      <td>-1.05045</td>\n",
       "      <td>-0.52224</td>\n",
       "      <td>-0.89811</td>\n",
       "      <td>-1.48098</td>\n",
       "      <td>-2.23913</td>\n",
       "      <td>-1.00000</td>\n",
       "      <td>...</td>\n",
       "      <td>-0.12%</td>\n",
       "      <td>0.41604</td>\n",
       "      <td>-0.48%</td>\n",
       "      <td>-0.57874</td>\n",
       "      <td>0.04%</td>\n",
       "      <td>0.29762</td>\n",
       "      <td>0.36%</td>\n",
       "      <td>-0.72111</td>\n",
       "      <td>-0.42%</td>\n",
       "      <td>-1.05697</td>\n",
       "    </tr>\n",
       "    <tr>\n",
       "      <th>2023-09-21</th>\n",
       "      <td>47.80308</td>\n",
       "      <td>4.04570</td>\n",
       "      <td>-3.05840</td>\n",
       "      <td>-1.51329</td>\n",
       "      <td>-240.28205</td>\n",
       "      <td>-0.33968</td>\n",
       "      <td>-6.80247</td>\n",
       "      <td>-0.98305</td>\n",
       "      <td>78.42105</td>\n",
       "      <td>-1.00000</td>\n",
       "      <td>...</td>\n",
       "      <td>-2.07%</td>\n",
       "      <td>-2.18476</td>\n",
       "      <td>-0.06%</td>\n",
       "      <td>-0.54163</td>\n",
       "      <td>-0.53%</td>\n",
       "      <td>-0.48064</td>\n",
       "      <td>-0.70%</td>\n",
       "      <td>-0.34654</td>\n",
       "      <td>-0.85%</td>\n",
       "      <td>-1.25948</td>\n",
       "    </tr>\n",
       "    <tr>\n",
       "      <th>2023-09-22</th>\n",
       "      <td>-1.05039</td>\n",
       "      <td>-0.76784</td>\n",
       "      <td>-1.66421</td>\n",
       "      <td>-5.44470</td>\n",
       "      <td>-0.83980</td>\n",
       "      <td>-3.43429</td>\n",
       "      <td>-0.18298</td>\n",
       "      <td>-250.33333</td>\n",
       "      <td>-0.97239</td>\n",
       "      <td>inf</td>\n",
       "      <td>...</td>\n",
       "      <td>-1.53%</td>\n",
       "      <td>-3.56969</td>\n",
       "      <td>-1.30%</td>\n",
       "      <td>-1.35825</td>\n",
       "      <td>-1.62%</td>\n",
       "      <td>-2.13367</td>\n",
       "      <td>-1.01%</td>\n",
       "      <td>-1.71162</td>\n",
       "      <td>-1.54%</td>\n",
       "      <td>-2.36984</td>\n",
       "    </tr>\n",
       "    <tr>\n",
       "      <th>2023-09-25</th>\n",
       "      <td>-1.84517</td>\n",
       "      <td>-0.80549</td>\n",
       "      <td>-1.02904</td>\n",
       "      <td>-0.94629</td>\n",
       "      <td>-0.71037</td>\n",
       "      <td>-0.63002</td>\n",
       "      <td>0.33854</td>\n",
       "      <td>-1.00468</td>\n",
       "      <td>4.04800</td>\n",
       "      <td>-0.88265</td>\n",
       "      <td>...</td>\n",
       "      <td>0.33%</td>\n",
       "      <td>-1.20296</td>\n",
       "      <td>0.16%</td>\n",
       "      <td>-1.14082</td>\n",
       "      <td>-0.29%</td>\n",
       "      <td>-1.90296</td>\n",
       "      <td>-0.34%</td>\n",
       "      <td>-1.35588</td>\n",
       "      <td>-1.26%</td>\n",
       "      <td>-2.77944</td>\n",
       "    </tr>\n",
       "    <tr>\n",
       "      <th>2023-09-26</th>\n",
       "      <td>4.95226</td>\n",
       "      <td>0.12595</td>\n",
       "      <td>43.41667</td>\n",
       "      <td>-8.83946</td>\n",
       "      <td>6.23095</td>\n",
       "      <td>5.21174</td>\n",
       "      <td>-2.13035</td>\n",
       "      <td>-1.00000</td>\n",
       "      <td>-0.59113</td>\n",
       "      <td>-1.00000</td>\n",
       "      <td>...</td>\n",
       "      <td>NaN</td>\n",
       "      <td>NaN</td>\n",
       "      <td>NaN</td>\n",
       "      <td>NaN</td>\n",
       "      <td>NaN</td>\n",
       "      <td>NaN</td>\n",
       "      <td>NaN</td>\n",
       "      <td>NaN</td>\n",
       "      <td>NaN</td>\n",
       "      <td>NaN</td>\n",
       "    </tr>\n",
       "  </tbody>\n",
       "</table>\n",
       "<p>5 rows × 114 columns</p>\n",
       "</div>"
      ],
      "text/plain": [
       "            retail_1  foreigner_1  institution_1  financial_1  invtrust_1   \n",
       "2023-09-20  -0.72689      0.13412        1.26419      0.78478    -1.05045  \\\n",
       "2023-09-21  47.80308      4.04570       -3.05840     -1.51329  -240.28205   \n",
       "2023-09-22  -1.05039     -0.76784       -1.66421     -5.44470    -0.83980   \n",
       "2023-09-25  -1.84517     -0.80549       -1.02904     -0.94629    -0.71037   \n",
       "2023-09-26   4.95226      0.12595       43.41667     -8.83946     6.23095   \n",
       "\n",
       "            pension_1  privequity_1     bank_1  insurance_1  financeetc_1   \n",
       "2023-09-20   -0.52224      -0.89811   -1.48098     -2.23913      -1.00000  \\\n",
       "2023-09-21   -0.33968      -6.80247   -0.98305     78.42105      -1.00000   \n",
       "2023-09-22   -3.43429      -0.18298 -250.33333     -0.97239           inf   \n",
       "2023-09-25   -0.63002       0.33854   -1.00468      4.04800      -0.88265   \n",
       "2023-09-26    5.21174      -2.13035   -1.00000     -0.59113      -1.00000   \n",
       "\n",
       "            ...  ixk_cr  ixk_cr_2  ixtr_cr  ixtr_cr_2  ixut_cr  ixut_cr_2   \n",
       "2023-09-20  ...  -0.12%   0.41604   -0.48%   -0.57874    0.04%    0.29762  \\\n",
       "2023-09-21  ...  -2.07%  -2.18476   -0.06%   -0.54163   -0.53%   -0.48064   \n",
       "2023-09-22  ...  -1.53%  -3.56969   -1.30%   -1.35825   -1.62%   -2.13367   \n",
       "2023-09-25  ...   0.33%  -1.20296    0.16%   -1.14082   -0.29%   -1.90296   \n",
       "2023-09-26  ...     NaN       NaN      NaN        NaN      NaN        NaN   \n",
       "\n",
       "            nbi_cr  nbi_cr_2  bkx_cr  bkx_cr_2  \n",
       "2023-09-20   0.36%  -0.72111  -0.42%  -1.05697  \n",
       "2023-09-21  -0.70%  -0.34654  -0.85%  -1.25948  \n",
       "2023-09-22  -1.01%  -1.71162  -1.54%  -2.36984  \n",
       "2023-09-25  -0.34%  -1.35588  -1.26%  -2.77944  \n",
       "2023-09-26     NaN       NaN     NaN       NaN  \n",
       "\n",
       "[5 rows x 114 columns]"
      ]
     },
     "execution_count": 8,
     "metadata": {},
     "output_type": "execute_result"
    }
   ],
   "source": [
    "df_hyunmotor_combine.tail()"
   ]
  },
  {
   "cell_type": "code",
   "execution_count": 9,
   "id": "aeab3342",
   "metadata": {},
   "outputs": [
    {
     "data": {
      "text/plain": [
       "datetime.date(2022, 1, 7)"
      ]
     },
     "execution_count": 9,
     "metadata": {},
     "output_type": "execute_result"
    }
   ],
   "source": [
    "df_hyunmotor_combine.index[0]"
   ]
  },
  {
   "cell_type": "code",
   "execution_count": 10,
   "id": "587ac2cd",
   "metadata": {},
   "outputs": [],
   "source": [
    "col_inv1 = ['retail_1', 'foreigner_1', 'institution_1', 'financial_1', 'invtrust_1', 'pension_1', 'privequity_1', \n",
    "            'bank_1', 'insurance_1', 'financeetc_1', 'corporateetc_1', 'foreigneretc_1']\n",
    "col_inv2 = ['retail_2', 'foreigner_2', 'institution_2', 'financial_2', 'invtrust_2', 'pension_2',\n",
    "            'privequity_2', 'bank_2', 'insurance_2', 'financeetc_2', 'corporateetc_2', 'foreigneretc_2']"
   ]
  },
  {
   "cell_type": "code",
   "execution_count": 11,
   "id": "76ca8389",
   "metadata": {},
   "outputs": [],
   "source": [
    "col_his1 = ['open_1', 'high_1', 'low_1', 'close_1', 'vol_1']\n",
    "col_his2 = ['open_2', 'high_2', 'low_2', 'close_2', 'vol_2']"
   ]
  },
  {
   "cell_type": "code",
   "execution_count": 12,
   "id": "8a6b4bac",
   "metadata": {},
   "outputs": [],
   "source": [
    "col_common1 = [\"dji_cr\", \"dji_f_cr\", \"dxy_cr\", \"ixic_f_cr\", \"bond_kor_10_cr\", \"bond_kor_2_cr\", \"kosdaq_cr\", \"kospi_cr\", \n",
    "         \"krw_cr\", \"ixic_cr\", \"spx_f_cr\", \"sox_cr\", \"spx_cr\", \"bond_usa_10_cr\", \"bond_usa_2_cr\", \"bond_usa_3m_cr\", \n",
    "         \"vix_cr\", \"wti_cr\", \"spsy_cr\", \"spny_cr\", \"spxhc_cr\", \"splrcd_cr\", \"splrci_cr\", \"splrcu_cr\", \"splrcs_cr\",\n",
    "         \"splrct_cr\", \"splrcl_cr\", \"splrcm_cr\", \"ixbk_cr\", \"ixfn_cr\", \"ixid_cr\", \"ixis_cr\", \"ixk_cr\", \"ixtr_cr\",\n",
    "         \"ixut_cr\", \"nbi_cr\", \"bkx_cr\"]\n",
    "col_common2 = [\"dji_cr_2\", \"dji_f_cr_2\", \"dxy_cr_2\", \"ixic_f_cr_2\", \"bond_kor_10_cr_2\", \"bond_kor_2_cr_2\", \"kosdaq_cr_2\", \"kospi_cr_2\",\n",
    "         \"krw_cr_2\", \"ixic_cr_2\", \"spx_f_cr_2\", \"sox_cr_2\", \"spx_cr_2\", \"bond_usa_10_cr_2\", \"bond_usa_2_cr_2\", \"bond_usa_3m_cr_2\",\n",
    "         \"vix_cr_2\", \"wti_cr_2\", \"spsy_cr_2\", \"spny_cr_2\", \"spxhc_cr_2\", \"splrcd_cr_2\", \"splrci_cr_2\", \"splrcu_cr_2\",\n",
    "         \"splrcs_cr_2\", \"splrct_cr_2\", \"splrcl_cr_2\", \"splrcm_cr_2\", \"ixbk_cr_2\", \"ixfn_cr_2\", \"ixid_cr_2\",\n",
    "         \"ixis_cr_2\", \"ixk_cr_2\", \"ixtr_cr_2\", \"ixut_cr_2\", \"nbi_cr_2\", \"bkx_cr_2\"]"
   ]
  },
  {
   "cell_type": "code",
   "execution_count": 13,
   "id": "9a595935",
   "metadata": {},
   "outputs": [],
   "source": [
    "col_cr = ['weekday', 'cr_00', 'cr_05', 'cr_10', 'cr_15', 'cr_20']"
   ]
  },
  {
   "cell_type": "code",
   "execution_count": 14,
   "id": "75ec6070",
   "metadata": {},
   "outputs": [],
   "source": [
    "col_col = col_inv1 + col_common1 + col_his1 + col_inv2 + col_common2 + col_his2 + col_cr"
   ]
  },
  {
   "cell_type": "code",
   "execution_count": 15,
   "id": "ff6769da",
   "metadata": {},
   "outputs": [],
   "source": [
    "# # write common data only\n",
    "# df_temp = df_common.copy()\n",
    "# df_temp = df_temp[col_common1+col_common2]\n",
    "# pkl_common_directory = './data/common_pkl/'\n",
    "# df_temp.to_pickle(pkl_common_directory + 'df_common.pkl')\n",
    "# df_temp.to_csv(pkl_common_directory + 'df_common.csv')"
   ]
  },
  {
   "cell_type": "code",
   "execution_count": 16,
   "id": "c78c8f82",
   "metadata": {},
   "outputs": [],
   "source": [
    "new_columns = col_col"
   ]
  },
  {
   "cell_type": "code",
   "execution_count": 17,
   "id": "02da1256",
   "metadata": {},
   "outputs": [],
   "source": [
    "# column 순서 변경 : weekday, 'cr_00', 'cr_05', 'cr_10', 'cr_15', 'cr_20' column을 마지막으로 이동 \n",
    "for key, val in code.items():\n",
    "    globals()['df_{}_combine'.format(val[1])] = globals()['df_{}_combine'.format(val[1])][new_columns]"
   ]
  },
  {
   "cell_type": "code",
   "execution_count": 18,
   "id": "d4f1fa06",
   "metadata": {},
   "outputs": [
    {
     "data": {
      "text/plain": [
       "'\\n# drop inf, -inf : replace inf to 1 or -1 . 데이터를 살리고\\n# 변동률이 무한대가 되는 것을 방지하기 위해서, 나중에 발생하는 에러를 방지\\ndf_sec_sel.replace([np.inf, -np.inf], [1, -1], inplace=True)\\n\\n.impute 사용하는 것을 고려할 필요 있음.\\n'"
      ]
     },
     "execution_count": 18,
     "metadata": {},
     "output_type": "execute_result"
    }
   ],
   "source": [
    "'''\n",
    "# drop inf, -inf : replace inf to 1 or -1 . 데이터를 살리고\n",
    "# 변동률이 무한대가 되는 것을 방지하기 위해서, 나중에 발생하는 에러를 방지\n",
    "df_sec_sel.replace([np.inf, -np.inf], [1, -1], inplace=True)\n",
    "\n",
    ".impute 사용하는 것을 고려할 필요 있음.\n",
    "'''"
   ]
  },
  {
   "cell_type": "code",
   "execution_count": 19,
   "id": "7e91c1c5",
   "metadata": {},
   "outputs": [],
   "source": [
    "# drop inf, -inf : replace inf to 1 or -1 . 데이터를 살리고\n",
    "# 변동률이 무한대가 되는 것을 방지하기 위해서, 나중에 발생하는 에러를 방지\n",
    "for key, val in code.items():\n",
    "    globals()['df_{}_combine'.format(val[1])].replace([np.inf, -np.inf], [1, -1], inplace=True)\n",
    "\n",
    "# **** 데이터 전처리 from sklearn.impute import SimpleImputer, SimpleImputer 사용하기로 함."
   ]
  },
  {
   "cell_type": "code",
   "execution_count": 20,
   "id": "3fa3914b",
   "metadata": {},
   "outputs": [
    {
     "data": {
      "text/html": [
       "<div>\n",
       "<style scoped>\n",
       "    .dataframe tbody tr th:only-of-type {\n",
       "        vertical-align: middle;\n",
       "    }\n",
       "\n",
       "    .dataframe tbody tr th {\n",
       "        vertical-align: top;\n",
       "    }\n",
       "\n",
       "    .dataframe thead th {\n",
       "        text-align: right;\n",
       "    }\n",
       "</style>\n",
       "<table border=\"1\" class=\"dataframe\">\n",
       "  <thead>\n",
       "    <tr style=\"text-align: right;\">\n",
       "      <th></th>\n",
       "      <th>retail_1</th>\n",
       "      <th>foreigner_1</th>\n",
       "      <th>institution_1</th>\n",
       "      <th>financial_1</th>\n",
       "      <th>invtrust_1</th>\n",
       "      <th>pension_1</th>\n",
       "      <th>privequity_1</th>\n",
       "      <th>bank_1</th>\n",
       "      <th>insurance_1</th>\n",
       "      <th>financeetc_1</th>\n",
       "      <th>...</th>\n",
       "      <th>high_2</th>\n",
       "      <th>low_2</th>\n",
       "      <th>close_2</th>\n",
       "      <th>vol_2</th>\n",
       "      <th>weekday</th>\n",
       "      <th>cr_00</th>\n",
       "      <th>cr_05</th>\n",
       "      <th>cr_10</th>\n",
       "      <th>cr_15</th>\n",
       "      <th>cr_20</th>\n",
       "    </tr>\n",
       "  </thead>\n",
       "  <tbody>\n",
       "    <tr>\n",
       "      <th>2023-09-20</th>\n",
       "      <td>-0.13480</td>\n",
       "      <td>-1.39958</td>\n",
       "      <td>2.67377</td>\n",
       "      <td>1.21589</td>\n",
       "      <td>-1.40394</td>\n",
       "      <td>3.51659</td>\n",
       "      <td>24.76444</td>\n",
       "      <td>-0.75501</td>\n",
       "      <td>-2.35423</td>\n",
       "      <td>-1.00087</td>\n",
       "      <td>...</td>\n",
       "      <td>-0.02075</td>\n",
       "      <td>-0.02521</td>\n",
       "      <td>-0.03056</td>\n",
       "      <td>-0.33682</td>\n",
       "      <td>1</td>\n",
       "      <td>0</td>\n",
       "      <td>0</td>\n",
       "      <td>0</td>\n",
       "      <td>0</td>\n",
       "      <td>0</td>\n",
       "    </tr>\n",
       "    <tr>\n",
       "      <th>2023-09-21</th>\n",
       "      <td>-0.53664</td>\n",
       "      <td>-1.73351</td>\n",
       "      <td>-0.80148</td>\n",
       "      <td>-1.57531</td>\n",
       "      <td>4.30289</td>\n",
       "      <td>-0.37349</td>\n",
       "      <td>-0.19842</td>\n",
       "      <td>0.61058</td>\n",
       "      <td>-0.09681</td>\n",
       "      <td>689.00000</td>\n",
       "      <td>...</td>\n",
       "      <td>-0.01953</td>\n",
       "      <td>-0.00997</td>\n",
       "      <td>-0.00855</td>\n",
       "      <td>-0.32216</td>\n",
       "      <td>2</td>\n",
       "      <td>0</td>\n",
       "      <td>0</td>\n",
       "      <td>0</td>\n",
       "      <td>0</td>\n",
       "      <td>0</td>\n",
       "    </tr>\n",
       "    <tr>\n",
       "      <th>2023-09-22</th>\n",
       "      <td>0.24163</td>\n",
       "      <td>-5.62282</td>\n",
       "      <td>5.52070</td>\n",
       "      <td>-5.36423</td>\n",
       "      <td>-0.03930</td>\n",
       "      <td>-0.48493</td>\n",
       "      <td>-0.59525</td>\n",
       "      <td>6.57910</td>\n",
       "      <td>-2.75033</td>\n",
       "      <td>-1.61739</td>\n",
       "      <td>...</td>\n",
       "      <td>-0.01412</td>\n",
       "      <td>-0.01149</td>\n",
       "      <td>-0.01289</td>\n",
       "      <td>-0.08662</td>\n",
       "      <td>3</td>\n",
       "      <td>0</td>\n",
       "      <td>0</td>\n",
       "      <td>0</td>\n",
       "      <td>0</td>\n",
       "      <td>0</td>\n",
       "    </tr>\n",
       "    <tr>\n",
       "      <th>2023-09-25</th>\n",
       "      <td>-0.16043</td>\n",
       "      <td>-1.05423</td>\n",
       "      <td>-0.75015</td>\n",
       "      <td>-0.91169</td>\n",
       "      <td>-0.56074</td>\n",
       "      <td>0.05350</td>\n",
       "      <td>0.20092</td>\n",
       "      <td>-0.70264</td>\n",
       "      <td>-0.66870</td>\n",
       "      <td>-1.25822</td>\n",
       "      <td>...</td>\n",
       "      <td>-0.01991</td>\n",
       "      <td>-0.01727</td>\n",
       "      <td>-0.01149</td>\n",
       "      <td>-0.08969</td>\n",
       "      <td>4</td>\n",
       "      <td>1</td>\n",
       "      <td>1</td>\n",
       "      <td>0</td>\n",
       "      <td>0</td>\n",
       "      <td>0</td>\n",
       "    </tr>\n",
       "    <tr>\n",
       "      <th>2023-09-26</th>\n",
       "      <td>-1.28677</td>\n",
       "      <td>-4.80146</td>\n",
       "      <td>-0.83728</td>\n",
       "      <td>-5.27442</td>\n",
       "      <td>0.04182</td>\n",
       "      <td>1.44803</td>\n",
       "      <td>-0.71345</td>\n",
       "      <td>-1.09404</td>\n",
       "      <td>3.45465</td>\n",
       "      <td>-1.35455</td>\n",
       "      <td>...</td>\n",
       "      <td>-0.00143</td>\n",
       "      <td>-0.00436</td>\n",
       "      <td>0.00726</td>\n",
       "      <td>0.25588</td>\n",
       "      <td>0</td>\n",
       "      <td>0</td>\n",
       "      <td>0</td>\n",
       "      <td>0</td>\n",
       "      <td>0</td>\n",
       "      <td>0</td>\n",
       "    </tr>\n",
       "  </tbody>\n",
       "</table>\n",
       "<p>5 rows × 114 columns</p>\n",
       "</div>"
      ],
      "text/plain": [
       "            retail_1  foreigner_1  institution_1  financial_1  invtrust_1   \n",
       "2023-09-20  -0.13480     -1.39958        2.67377      1.21589    -1.40394  \\\n",
       "2023-09-21  -0.53664     -1.73351       -0.80148     -1.57531     4.30289   \n",
       "2023-09-22   0.24163     -5.62282        5.52070     -5.36423    -0.03930   \n",
       "2023-09-25  -0.16043     -1.05423       -0.75015     -0.91169    -0.56074   \n",
       "2023-09-26  -1.28677     -4.80146       -0.83728     -5.27442     0.04182   \n",
       "\n",
       "            pension_1  privequity_1   bank_1  insurance_1  financeetc_1  ...   \n",
       "2023-09-20    3.51659      24.76444 -0.75501     -2.35423      -1.00087  ...  \\\n",
       "2023-09-21   -0.37349      -0.19842  0.61058     -0.09681     689.00000  ...   \n",
       "2023-09-22   -0.48493      -0.59525  6.57910     -2.75033      -1.61739  ...   \n",
       "2023-09-25    0.05350       0.20092 -0.70264     -0.66870      -1.25822  ...   \n",
       "2023-09-26    1.44803      -0.71345 -1.09404      3.45465      -1.35455  ...   \n",
       "\n",
       "             high_2    low_2  close_2    vol_2  weekday  cr_00 cr_05 cr_10   \n",
       "2023-09-20 -0.02075 -0.02521 -0.03056 -0.33682        1      0     0     0  \\\n",
       "2023-09-21 -0.01953 -0.00997 -0.00855 -0.32216        2      0     0     0   \n",
       "2023-09-22 -0.01412 -0.01149 -0.01289 -0.08662        3      0     0     0   \n",
       "2023-09-25 -0.01991 -0.01727 -0.01149 -0.08969        4      1     1     0   \n",
       "2023-09-26 -0.00143 -0.00436  0.00726  0.25588        0      0     0     0   \n",
       "\n",
       "            cr_15  cr_20  \n",
       "2023-09-20      0      0  \n",
       "2023-09-21      0      0  \n",
       "2023-09-22      0      0  \n",
       "2023-09-25      0      0  \n",
       "2023-09-26      0      0  \n",
       "\n",
       "[5 rows x 114 columns]"
      ]
     },
     "execution_count": 20,
     "metadata": {},
     "output_type": "execute_result"
    }
   ],
   "source": [
    "df_sec_combine.tail()"
   ]
  },
  {
   "cell_type": "code",
   "execution_count": 21,
   "id": "bf7224df",
   "metadata": {},
   "outputs": [],
   "source": [
    "nanlo = locate_nan(df_sec_combine)  # nan 위치 찾기"
   ]
  },
  {
   "cell_type": "code",
   "execution_count": 22,
   "id": "2f63d7f5",
   "metadata": {},
   "outputs": [
    {
     "name": "stdout",
     "output_type": "stream",
     "text": [
      "[[datetime.date(2022, 1, 18) 'dji_cr']\n",
      " [datetime.date(2022, 1, 18) 'dji_f_cr']\n",
      " [datetime.date(2022, 1, 18) 'dxy_cr']\n",
      " ...\n",
      " [datetime.date(2023, 9, 26) 'ixut_cr_2']\n",
      " [datetime.date(2023, 9, 26) 'nbi_cr_2']\n",
      " [datetime.date(2023, 9, 26) 'bkx_cr_2']]\n"
     ]
    }
   ],
   "source": [
    "print(nanlo)"
   ]
  },
  {
   "cell_type": "code",
   "execution_count": 23,
   "id": "21a6d628",
   "metadata": {},
   "outputs": [],
   "source": [
    "# delete rows which include NaN : dji, spx, nasdaq 기타 common 지수중 한개라도 nan인 rows 제거\n",
    "for key, val in code.items():\n",
    "    globals()['df_{}_combine'.format(val[1])].dropna(inplace=True)"
   ]
  },
  {
   "cell_type": "code",
   "execution_count": 24,
   "id": "c6f3061c",
   "metadata": {},
   "outputs": [],
   "source": [
    "# string column을 numeric으로 전환\n",
    "def string_to_num(df):\n",
    "    df.replace('%', '', regex=True, inplace=True)\n",
    "    df = df.apply(pd.to_numeric)\n",
    "    return df\n",
    "\n",
    "for key, val in code.items():\n",
    "    globals()['df_{}_combine'.format(val[1])] = string_to_num(globals()['df_{}_combine'.format(val[1])])"
   ]
  },
  {
   "cell_type": "code",
   "execution_count": 25,
   "id": "7e8d5acf",
   "metadata": {},
   "outputs": [],
   "source": [
    "# pickle로 데이터 저장\n",
    "\n",
    "for key, val in code.items():\n",
    "    globals()[f'df_{val[1]}_combine'].to_pickle(directory_for_predict + f'df_{val[1]}_combine.pkl')\n",
    "    globals()[f'df_{val[1]}_combine'].to_csv(directory_for_predict + f'df_{val[1]}_combine.csv')"
   ]
  },
  {
   "cell_type": "code",
   "execution_count": null,
   "id": "a01825d3",
   "metadata": {},
   "outputs": [],
   "source": []
  },
  {
   "cell_type": "code",
   "execution_count": null,
   "id": "3300e5b2",
   "metadata": {},
   "outputs": [],
   "source": []
  },
  {
   "cell_type": "code",
   "execution_count": null,
   "id": "a1f7c9d1",
   "metadata": {},
   "outputs": [],
   "source": []
  },
  {
   "cell_type": "code",
   "execution_count": null,
   "id": "bc80b897",
   "metadata": {},
   "outputs": [],
   "source": []
  }
 ],
 "metadata": {
  "kernelspec": {
   "display_name": "Python 3 (ipykernel)",
   "language": "python",
   "name": "python3"
  },
  "language_info": {
   "codemirror_mode": {
    "name": "ipython",
    "version": 3
   },
   "file_extension": ".py",
   "mimetype": "text/x-python",
   "name": "python",
   "nbconvert_exporter": "python",
   "pygments_lexer": "ipython3",
   "version": "3.9.1"
  }
 },
 "nbformat": 4,
 "nbformat_minor": 5
}
