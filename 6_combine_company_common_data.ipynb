{
 "cells": [
  {
   "cell_type": "markdown",
   "id": "459ff0ca",
   "metadata": {},
   "source": [
    "## combine company data and common data"
   ]
  },
  {
   "cell_type": "code",
   "execution_count": 1,
   "id": "d3b5a935",
   "metadata": {},
   "outputs": [],
   "source": [
    "import datetime, time\n",
    "from datetime import date\n",
    "\n",
    "import pandas as pd\n",
    "import numpy as np\n",
    "import os\n",
    "import sys\n",
    "\n",
    "from sklearn.preprocessing import StandardScaler"
   ]
  },
  {
   "cell_type": "code",
   "execution_count": 2,
   "id": "8ef51f99",
   "metadata": {},
   "outputs": [],
   "source": [
    "module_path = os.path.abspath(os.path.join('.')) \n",
    "sys.path.append(module_path+\"\\\\data\\\\constant\")\n",
    "\n",
    "from constants import COMPANY_CODE"
   ]
  },
  {
   "cell_type": "code",
   "execution_count": 3,
   "id": "9ea60572",
   "metadata": {},
   "outputs": [
    {
     "data": {
      "text/plain": [
       "\" \\n[[datetime.date(2022, 1, 17) 'dji_cr']\\n [datetime.date(2022, 1, 17) 'dji_f_cr']\\n ...\\n [datetime.date(2023, 5, 23) 'kosdaq_cr']\\n [datetime.date(2023, 5, 23) 'kosdaq_cr_2']]\\n\""
      ]
     },
     "execution_count": 3,
     "metadata": {},
     "output_type": "execute_result"
    }
   ],
   "source": [
    "def locate_nan(df):\n",
    "    idx, idy = np.where(pd.isnull(df))\n",
    "    result = np.column_stack([df.index[idx], df.columns[idy]])\n",
    "    return result\n",
    "\n",
    "# return format\n",
    "''' \n",
    "[[datetime.date(2022, 1, 17) 'dji_cr']\n",
    " [datetime.date(2022, 1, 17) 'dji_f_cr']\n",
    " ...\n",
    " [datetime.date(2023, 5, 23) 'kosdaq_cr']\n",
    " [datetime.date(2023, 5, 23) 'kosdaq_cr_2']]\n",
    "'''"
   ]
  },
  {
   "cell_type": "code",
   "execution_count": 4,
   "id": "d6f9e0c8",
   "metadata": {},
   "outputs": [],
   "source": [
    "code = COMPANY_CODE\n",
    "\n",
    "# code = {'005930': ['삼성전자', 'sec'], '005380': ['현대차', 'hyunmotor'],\n",
    "#                  '035420': ['NAVER', 'naver'], '033780': ['KT&G', 'ktng']}\n",
    "# code = {'005930': ['삼성전자', 'sec'], '000660': ['SK하이닉스', 'skhynix']}\n",
    "# code = {'302440': ['SK바이오사이언스', 'skbio']}"
   ]
  },
  {
   "cell_type": "code",
   "execution_count": 5,
   "id": "1ced9635",
   "metadata": {},
   "outputs": [],
   "source": [
    "directory_for_predict = './data/data_for_ml/predict/'\n",
    "pkl_common_directory = './data/common_pkl/'\n",
    "pkl_directory = './data/common_pkl/'"
   ]
  },
  {
   "cell_type": "code",
   "execution_count": 6,
   "id": "a4ac3c16",
   "metadata": {},
   "outputs": [],
   "source": [
    "df_common = pd.read_pickle(directory_for_predict + '0_df_common.pkl')"
   ]
  },
  {
   "cell_type": "code",
   "execution_count": 7,
   "id": "82d5ae58",
   "metadata": {},
   "outputs": [],
   "source": [
    "for key, val in code.items():\n",
    "    df_company = pd.read_pickle(directory_for_predict + f'df_{val[1]}_company.pkl')\n",
    "    df_company = df_company.merge(df_common, how='left', left_index=True, right_index=True)\n",
    "    globals()[f'df_{val[1]}_combine'] = df_company.copy()"
   ]
  },
  {
   "cell_type": "code",
   "execution_count": 8,
   "id": "6c798e31",
   "metadata": {},
   "outputs": [
    {
     "data": {
      "text/html": [
       "<div>\n",
       "<style scoped>\n",
       "    .dataframe tbody tr th:only-of-type {\n",
       "        vertical-align: middle;\n",
       "    }\n",
       "\n",
       "    .dataframe tbody tr th {\n",
       "        vertical-align: top;\n",
       "    }\n",
       "\n",
       "    .dataframe thead th {\n",
       "        text-align: right;\n",
       "    }\n",
       "</style>\n",
       "<table border=\"1\" class=\"dataframe\">\n",
       "  <thead>\n",
       "    <tr style=\"text-align: right;\">\n",
       "      <th></th>\n",
       "      <th>retail_1</th>\n",
       "      <th>foreigner_1</th>\n",
       "      <th>institution_1</th>\n",
       "      <th>financial_1</th>\n",
       "      <th>invtrust_1</th>\n",
       "      <th>pension_1</th>\n",
       "      <th>privequity_1</th>\n",
       "      <th>bank_1</th>\n",
       "      <th>insurance_1</th>\n",
       "      <th>financeetc_1</th>\n",
       "      <th>...</th>\n",
       "      <th>ixk_cr</th>\n",
       "      <th>ixk_cr_2</th>\n",
       "      <th>ixtr_cr</th>\n",
       "      <th>ixtr_cr_2</th>\n",
       "      <th>ixut_cr</th>\n",
       "      <th>ixut_cr_2</th>\n",
       "      <th>nbi_cr</th>\n",
       "      <th>nbi_cr_2</th>\n",
       "      <th>bkx_cr</th>\n",
       "      <th>bkx_cr_2</th>\n",
       "    </tr>\n",
       "  </thead>\n",
       "  <tbody>\n",
       "    <tr>\n",
       "      <th>2023-09-27</th>\n",
       "      <td>-1.22775</td>\n",
       "      <td>0.15407</td>\n",
       "      <td>-1.45006</td>\n",
       "      <td>-2.29342</td>\n",
       "      <td>-0.68349</td>\n",
       "      <td>-0.36207</td>\n",
       "      <td>-4.00172</td>\n",
       "      <td>inf</td>\n",
       "      <td>-0.96899</td>\n",
       "      <td>-1.00000</td>\n",
       "      <td>...</td>\n",
       "      <td>-1.71%</td>\n",
       "      <td>-1.17084</td>\n",
       "      <td>-1.64%</td>\n",
       "      <td>-0.99694</td>\n",
       "      <td>-1.23%</td>\n",
       "      <td>-1.69905</td>\n",
       "      <td>0.72%</td>\n",
       "      <td>0.41995</td>\n",
       "      <td>-1.62%</td>\n",
       "      <td>-1.12088</td>\n",
       "    </tr>\n",
       "    <tr>\n",
       "      <th>2023-10-04</th>\n",
       "      <td>-2.88186</td>\n",
       "      <td>5.30614</td>\n",
       "      <td>0.62322</td>\n",
       "      <td>-0.19616</td>\n",
       "      <td>-0.37841</td>\n",
       "      <td>-3.77099</td>\n",
       "      <td>-1.38761</td>\n",
       "      <td>-0.13694</td>\n",
       "      <td>114.87500</td>\n",
       "      <td>inf</td>\n",
       "      <td>...</td>\n",
       "      <td>-1.88%</td>\n",
       "      <td>-0.36279</td>\n",
       "      <td>-0.57%</td>\n",
       "      <td>-1.47570</td>\n",
       "      <td>-1.87%</td>\n",
       "      <td>-1.72804</td>\n",
       "      <td>-0.92%</td>\n",
       "      <td>-2.30622</td>\n",
       "      <td>-2.13%</td>\n",
       "      <td>-4.47056</td>\n",
       "    </tr>\n",
       "    <tr>\n",
       "      <th>2023-10-05</th>\n",
       "      <td>0.35537</td>\n",
       "      <td>-0.69503</td>\n",
       "      <td>-1.53289</td>\n",
       "      <td>0.76665</td>\n",
       "      <td>-0.32630</td>\n",
       "      <td>-2.42052</td>\n",
       "      <td>9.38609</td>\n",
       "      <td>-0.60125</td>\n",
       "      <td>-0.18231</td>\n",
       "      <td>-8.00000</td>\n",
       "      <td>...</td>\n",
       "      <td>1.41%</td>\n",
       "      <td>-0.48843</td>\n",
       "      <td>1.06%</td>\n",
       "      <td>0.48036</td>\n",
       "      <td>0.21%</td>\n",
       "      <td>-1.66484</td>\n",
       "      <td>0.47%</td>\n",
       "      <td>-0.45300</td>\n",
       "      <td>0.45%</td>\n",
       "      <td>-1.68804</td>\n",
       "    </tr>\n",
       "    <tr>\n",
       "      <th>2023-10-06</th>\n",
       "      <td>-0.93271</td>\n",
       "      <td>-2.34443</td>\n",
       "      <td>0.32771</td>\n",
       "      <td>-1.25991</td>\n",
       "      <td>2.53976</td>\n",
       "      <td>-0.83835</td>\n",
       "      <td>-0.82923</td>\n",
       "      <td>-1.01047</td>\n",
       "      <td>-0.95383</td>\n",
       "      <td>0.42857</td>\n",
       "      <td>...</td>\n",
       "      <td>0.15%</td>\n",
       "      <td>1.56274</td>\n",
       "      <td>-0.41%</td>\n",
       "      <td>0.64573</td>\n",
       "      <td>-0.68%</td>\n",
       "      <td>-0.46742</td>\n",
       "      <td>1.50%</td>\n",
       "      <td>1.97646</td>\n",
       "      <td>0.52%</td>\n",
       "      <td>0.97606</td>\n",
       "    </tr>\n",
       "    <tr>\n",
       "      <th>2023-10-10</th>\n",
       "      <td>18.27186</td>\n",
       "      <td>-1.01273</td>\n",
       "      <td>0.83638</td>\n",
       "      <td>0.33890</td>\n",
       "      <td>1.22124</td>\n",
       "      <td>3.00071</td>\n",
       "      <td>-0.18515</td>\n",
       "      <td>-2.00000</td>\n",
       "      <td>-25.17143</td>\n",
       "      <td>-1.00000</td>\n",
       "      <td>...</td>\n",
       "      <td>NaN</td>\n",
       "      <td>NaN</td>\n",
       "      <td>NaN</td>\n",
       "      <td>NaN</td>\n",
       "      <td>NaN</td>\n",
       "      <td>NaN</td>\n",
       "      <td>NaN</td>\n",
       "      <td>NaN</td>\n",
       "      <td>NaN</td>\n",
       "      <td>NaN</td>\n",
       "    </tr>\n",
       "  </tbody>\n",
       "</table>\n",
       "<p>5 rows × 114 columns</p>\n",
       "</div>"
      ],
      "text/plain": [
       "            retail_1  foreigner_1  institution_1  financial_1  invtrust_1   \n",
       "2023-09-27  -1.22775      0.15407       -1.45006     -2.29342    -0.68349  \\\n",
       "2023-10-04  -2.88186      5.30614        0.62322     -0.19616    -0.37841   \n",
       "2023-10-05   0.35537     -0.69503       -1.53289      0.76665    -0.32630   \n",
       "2023-10-06  -0.93271     -2.34443        0.32771     -1.25991     2.53976   \n",
       "2023-10-10  18.27186     -1.01273        0.83638      0.33890     1.22124   \n",
       "\n",
       "            pension_1  privequity_1   bank_1  insurance_1  financeetc_1  ...   \n",
       "2023-09-27   -0.36207      -4.00172      inf     -0.96899      -1.00000  ...  \\\n",
       "2023-10-04   -3.77099      -1.38761 -0.13694    114.87500           inf  ...   \n",
       "2023-10-05   -2.42052       9.38609 -0.60125     -0.18231      -8.00000  ...   \n",
       "2023-10-06   -0.83835      -0.82923 -1.01047     -0.95383       0.42857  ...   \n",
       "2023-10-10    3.00071      -0.18515 -2.00000    -25.17143      -1.00000  ...   \n",
       "\n",
       "            ixk_cr  ixk_cr_2  ixtr_cr  ixtr_cr_2  ixut_cr  ixut_cr_2  nbi_cr   \n",
       "2023-09-27  -1.71%  -1.17084   -1.64%   -0.99694   -1.23%   -1.69905   0.72%  \\\n",
       "2023-10-04  -1.88%  -0.36279   -0.57%   -1.47570   -1.87%   -1.72804  -0.92%   \n",
       "2023-10-05   1.41%  -0.48843    1.06%    0.48036    0.21%   -1.66484   0.47%   \n",
       "2023-10-06   0.15%   1.56274   -0.41%    0.64573   -0.68%   -0.46742   1.50%   \n",
       "2023-10-10     NaN       NaN      NaN        NaN      NaN        NaN     NaN   \n",
       "\n",
       "            nbi_cr_2  bkx_cr  bkx_cr_2  \n",
       "2023-09-27   0.41995  -1.62%  -1.12088  \n",
       "2023-10-04  -2.30622  -2.13%  -4.47056  \n",
       "2023-10-05  -0.45300   0.45%  -1.68804  \n",
       "2023-10-06   1.97646   0.52%   0.97606  \n",
       "2023-10-10       NaN     NaN       NaN  \n",
       "\n",
       "[5 rows x 114 columns]"
      ]
     },
     "execution_count": 8,
     "metadata": {},
     "output_type": "execute_result"
    }
   ],
   "source": [
    "df_hyunmotor_combine.tail()"
   ]
  },
  {
   "cell_type": "code",
   "execution_count": 9,
   "id": "aeab3342",
   "metadata": {},
   "outputs": [
    {
     "data": {
      "text/plain": [
       "datetime.date(2022, 1, 7)"
      ]
     },
     "execution_count": 9,
     "metadata": {},
     "output_type": "execute_result"
    }
   ],
   "source": [
    "df_hyunmotor_combine.index[0]"
   ]
  },
  {
   "cell_type": "code",
   "execution_count": 10,
   "id": "587ac2cd",
   "metadata": {},
   "outputs": [],
   "source": [
    "col_inv1 = ['retail_1', 'foreigner_1', 'institution_1', 'financial_1', 'invtrust_1', 'pension_1', 'privequity_1', \n",
    "            'bank_1', 'insurance_1', 'financeetc_1', 'corporateetc_1', 'foreigneretc_1']\n",
    "col_inv2 = ['retail_2', 'foreigner_2', 'institution_2', 'financial_2', 'invtrust_2', 'pension_2',\n",
    "            'privequity_2', 'bank_2', 'insurance_2', 'financeetc_2', 'corporateetc_2', 'foreigneretc_2']"
   ]
  },
  {
   "cell_type": "code",
   "execution_count": 11,
   "id": "76ca8389",
   "metadata": {},
   "outputs": [],
   "source": [
    "col_his1 = ['open_1', 'high_1', 'low_1', 'close_1', 'vol_1']\n",
    "col_his2 = ['open_2', 'high_2', 'low_2', 'close_2', 'vol_2']"
   ]
  },
  {
   "cell_type": "code",
   "execution_count": 12,
   "id": "8a6b4bac",
   "metadata": {},
   "outputs": [],
   "source": [
    "col_common1 = [\"dji_cr\", \"dji_f_cr\", \"dxy_cr\", \"ixic_f_cr\", \"bond_kor_10_cr\", \"bond_kor_2_cr\", \"kosdaq_cr\", \"kospi_cr\", \n",
    "         \"krw_cr\", \"ixic_cr\", \"spx_f_cr\", \"sox_cr\", \"spx_cr\", \"bond_usa_10_cr\", \"bond_usa_2_cr\", \"bond_usa_3m_cr\", \n",
    "         \"vix_cr\", \"wti_cr\", \"spsy_cr\", \"spny_cr\", \"spxhc_cr\", \"splrcd_cr\", \"splrci_cr\", \"splrcu_cr\", \"splrcs_cr\",\n",
    "         \"splrct_cr\", \"splrcl_cr\", \"splrcm_cr\", \"ixbk_cr\", \"ixfn_cr\", \"ixid_cr\", \"ixis_cr\", \"ixk_cr\", \"ixtr_cr\",\n",
    "         \"ixut_cr\", \"nbi_cr\", \"bkx_cr\"]\n",
    "col_common2 = [\"dji_cr_2\", \"dji_f_cr_2\", \"dxy_cr_2\", \"ixic_f_cr_2\", \"bond_kor_10_cr_2\", \"bond_kor_2_cr_2\", \"kosdaq_cr_2\", \"kospi_cr_2\",\n",
    "         \"krw_cr_2\", \"ixic_cr_2\", \"spx_f_cr_2\", \"sox_cr_2\", \"spx_cr_2\", \"bond_usa_10_cr_2\", \"bond_usa_2_cr_2\", \"bond_usa_3m_cr_2\",\n",
    "         \"vix_cr_2\", \"wti_cr_2\", \"spsy_cr_2\", \"spny_cr_2\", \"spxhc_cr_2\", \"splrcd_cr_2\", \"splrci_cr_2\", \"splrcu_cr_2\",\n",
    "         \"splrcs_cr_2\", \"splrct_cr_2\", \"splrcl_cr_2\", \"splrcm_cr_2\", \"ixbk_cr_2\", \"ixfn_cr_2\", \"ixid_cr_2\",\n",
    "         \"ixis_cr_2\", \"ixk_cr_2\", \"ixtr_cr_2\", \"ixut_cr_2\", \"nbi_cr_2\", \"bkx_cr_2\"]"
   ]
  },
  {
   "cell_type": "code",
   "execution_count": 13,
   "id": "9a595935",
   "metadata": {},
   "outputs": [],
   "source": [
    "col_cr = ['weekday', 'cr_00', 'cr_05', 'cr_10', 'cr_15', 'cr_20']"
   ]
  },
  {
   "cell_type": "code",
   "execution_count": 14,
   "id": "75ec6070",
   "metadata": {},
   "outputs": [],
   "source": [
    "col_col = col_inv1 + col_common1 + col_his1 + col_inv2 + col_common2 + col_his2 + col_cr"
   ]
  },
  {
   "cell_type": "code",
   "execution_count": 15,
   "id": "ff6769da",
   "metadata": {},
   "outputs": [],
   "source": [
    "# # write common data only\n",
    "# df_temp = df_common.copy()\n",
    "# df_temp = df_temp[col_common1+col_common2]\n",
    "# pkl_common_directory = './data/common_pkl/'\n",
    "# df_temp.to_pickle(pkl_common_directory + 'df_common.pkl')\n",
    "# df_temp.to_csv(pkl_common_directory + 'df_common.csv')"
   ]
  },
  {
   "cell_type": "code",
   "execution_count": 16,
   "id": "c78c8f82",
   "metadata": {},
   "outputs": [],
   "source": [
    "new_columns = col_col"
   ]
  },
  {
   "cell_type": "code",
   "execution_count": 17,
   "id": "02da1256",
   "metadata": {},
   "outputs": [],
   "source": [
    "# column 순서 변경 : weekday, 'cr_00', 'cr_05', 'cr_10', 'cr_15', 'cr_20' column을 마지막으로 이동 \n",
    "for key, val in code.items():\n",
    "    globals()['df_{}_combine'.format(val[1])] = globals()['df_{}_combine'.format(val[1])][new_columns]"
   ]
  },
  {
   "cell_type": "code",
   "execution_count": 18,
   "id": "d4f1fa06",
   "metadata": {},
   "outputs": [
    {
     "data": {
      "text/plain": [
       "'\\n# drop inf, -inf : replace inf to 1 or -1 . 데이터를 살리고\\n# 변동률이 무한대가 되는 것을 방지하기 위해서, 나중에 발생하는 에러를 방지\\ndf_sec_sel.replace([np.inf, -np.inf], [1, -1], inplace=True)\\n\\n.impute 사용하는 것을 고려할 필요 있음.\\n'"
      ]
     },
     "execution_count": 18,
     "metadata": {},
     "output_type": "execute_result"
    }
   ],
   "source": [
    "'''\n",
    "# drop inf, -inf : replace inf to 1 or -1 . 데이터를 살리고\n",
    "# 변동률이 무한대가 되는 것을 방지하기 위해서, 나중에 발생하는 에러를 방지\n",
    "df_sec_sel.replace([np.inf, -np.inf], [1, -1], inplace=True)\n",
    "\n",
    ".impute 사용하는 것을 고려할 필요 있음.\n",
    "'''"
   ]
  },
  {
   "cell_type": "code",
   "execution_count": 19,
   "id": "7e91c1c5",
   "metadata": {},
   "outputs": [],
   "source": [
    "# drop inf, -inf : replace inf to 1 or -1 . 데이터를 살리고\n",
    "# 변동률이 무한대가 되는 것을 방지하기 위해서, 나중에 발생하는 에러를 방지\n",
    "for key, val in code.items():\n",
    "    globals()['df_{}_combine'.format(val[1])].replace([np.inf, -np.inf], [1, -1], inplace=True)\n",
    "\n",
    "# **** 데이터 전처리 from sklearn.impute import SimpleImputer, SimpleImputer 사용하기로 함."
   ]
  },
  {
   "cell_type": "code",
   "execution_count": 20,
   "id": "3fa3914b",
   "metadata": {},
   "outputs": [
    {
     "data": {
      "text/html": [
       "<div>\n",
       "<style scoped>\n",
       "    .dataframe tbody tr th:only-of-type {\n",
       "        vertical-align: middle;\n",
       "    }\n",
       "\n",
       "    .dataframe tbody tr th {\n",
       "        vertical-align: top;\n",
       "    }\n",
       "\n",
       "    .dataframe thead th {\n",
       "        text-align: right;\n",
       "    }\n",
       "</style>\n",
       "<table border=\"1\" class=\"dataframe\">\n",
       "  <thead>\n",
       "    <tr style=\"text-align: right;\">\n",
       "      <th></th>\n",
       "      <th>retail_1</th>\n",
       "      <th>foreigner_1</th>\n",
       "      <th>institution_1</th>\n",
       "      <th>financial_1</th>\n",
       "      <th>invtrust_1</th>\n",
       "      <th>pension_1</th>\n",
       "      <th>privequity_1</th>\n",
       "      <th>bank_1</th>\n",
       "      <th>insurance_1</th>\n",
       "      <th>financeetc_1</th>\n",
       "      <th>...</th>\n",
       "      <th>high_2</th>\n",
       "      <th>low_2</th>\n",
       "      <th>close_2</th>\n",
       "      <th>vol_2</th>\n",
       "      <th>weekday</th>\n",
       "      <th>cr_00</th>\n",
       "      <th>cr_05</th>\n",
       "      <th>cr_10</th>\n",
       "      <th>cr_15</th>\n",
       "      <th>cr_20</th>\n",
       "    </tr>\n",
       "  </thead>\n",
       "  <tbody>\n",
       "    <tr>\n",
       "      <th>2023-09-27</th>\n",
       "      <td>-9.00734</td>\n",
       "      <td>-0.13279</td>\n",
       "      <td>17.90399</td>\n",
       "      <td>-2.73408</td>\n",
       "      <td>-0.58503</td>\n",
       "      <td>-0.51317</td>\n",
       "      <td>7.07165</td>\n",
       "      <td>4.16901</td>\n",
       "      <td>-0.53729</td>\n",
       "      <td>-36.05128</td>\n",
       "      <td>...</td>\n",
       "      <td>0.01597</td>\n",
       "      <td>0.00146</td>\n",
       "      <td>-0.00291</td>\n",
       "      <td>0.32791</td>\n",
       "      <td>1</td>\n",
       "      <td>0</td>\n",
       "      <td>0</td>\n",
       "      <td>0</td>\n",
       "      <td>0</td>\n",
       "      <td>0</td>\n",
       "    </tr>\n",
       "    <tr>\n",
       "      <th>2023-10-04</th>\n",
       "      <td>-0.82159</td>\n",
       "      <td>1.09852</td>\n",
       "      <td>-0.54194</td>\n",
       "      <td>-0.52625</td>\n",
       "      <td>-3.24766</td>\n",
       "      <td>-0.21541</td>\n",
       "      <td>-0.72788</td>\n",
       "      <td>2.03270</td>\n",
       "      <td>-3.37132</td>\n",
       "      <td>-1.00658</td>\n",
       "      <td>...</td>\n",
       "      <td>-0.00861</td>\n",
       "      <td>-0.00438</td>\n",
       "      <td>-0.01441</td>\n",
       "      <td>0.09600</td>\n",
       "      <td>2</td>\n",
       "      <td>0</td>\n",
       "      <td>0</td>\n",
       "      <td>0</td>\n",
       "      <td>0</td>\n",
       "      <td>0</td>\n",
       "    </tr>\n",
       "    <tr>\n",
       "      <th>2023-10-05</th>\n",
       "      <td>6.53454</td>\n",
       "      <td>-3.19216</td>\n",
       "      <td>0.02615</td>\n",
       "      <td>0.47973</td>\n",
       "      <td>-1.39002</td>\n",
       "      <td>-2.14263</td>\n",
       "      <td>2.65603</td>\n",
       "      <td>3.48967</td>\n",
       "      <td>-1.29606</td>\n",
       "      <td>25.66667</td>\n",
       "      <td>...</td>\n",
       "      <td>-0.03286</td>\n",
       "      <td>-0.02485</td>\n",
       "      <td>-0.01603</td>\n",
       "      <td>0.77740</td>\n",
       "      <td>2</td>\n",
       "      <td>0</td>\n",
       "      <td>0</td>\n",
       "      <td>0</td>\n",
       "      <td>0</td>\n",
       "      <td>0</td>\n",
       "    </tr>\n",
       "    <tr>\n",
       "      <th>2023-10-06</th>\n",
       "      <td>-0.01569</td>\n",
       "      <td>0.86853</td>\n",
       "      <td>-1.28487</td>\n",
       "      <td>-1.66155</td>\n",
       "      <td>2.26066</td>\n",
       "      <td>-1.12669</td>\n",
       "      <td>-0.14414</td>\n",
       "      <td>-0.06024</td>\n",
       "      <td>0.33888</td>\n",
       "      <td>-2.12500</td>\n",
       "      <td>...</td>\n",
       "      <td>-0.02460</td>\n",
       "      <td>-0.02199</td>\n",
       "      <td>-0.02485</td>\n",
       "      <td>0.08208</td>\n",
       "      <td>3</td>\n",
       "      <td>0</td>\n",
       "      <td>0</td>\n",
       "      <td>0</td>\n",
       "      <td>0</td>\n",
       "      <td>0</td>\n",
       "    </tr>\n",
       "    <tr>\n",
       "      <th>2023-10-10</th>\n",
       "      <td>0.10817</td>\n",
       "      <td>0.21967</td>\n",
       "      <td>1.28324</td>\n",
       "      <td>0.05753</td>\n",
       "      <td>-0.66912</td>\n",
       "      <td>0.41980</td>\n",
       "      <td>-1.09761</td>\n",
       "      <td>-0.99787</td>\n",
       "      <td>-0.84506</td>\n",
       "      <td>1.17778</td>\n",
       "      <td>...</td>\n",
       "      <td>-0.00591</td>\n",
       "      <td>-0.01049</td>\n",
       "      <td>-0.02222</td>\n",
       "      <td>-0.38637</td>\n",
       "      <td>4</td>\n",
       "      <td>0</td>\n",
       "      <td>0</td>\n",
       "      <td>0</td>\n",
       "      <td>0</td>\n",
       "      <td>0</td>\n",
       "    </tr>\n",
       "  </tbody>\n",
       "</table>\n",
       "<p>5 rows × 114 columns</p>\n",
       "</div>"
      ],
      "text/plain": [
       "            retail_1  foreigner_1  institution_1  financial_1  invtrust_1   \n",
       "2023-09-27  -9.00734     -0.13279       17.90399     -2.73408    -0.58503  \\\n",
       "2023-10-04  -0.82159      1.09852       -0.54194     -0.52625    -3.24766   \n",
       "2023-10-05   6.53454     -3.19216        0.02615      0.47973    -1.39002   \n",
       "2023-10-06  -0.01569      0.86853       -1.28487     -1.66155     2.26066   \n",
       "2023-10-10   0.10817      0.21967        1.28324      0.05753    -0.66912   \n",
       "\n",
       "            pension_1  privequity_1   bank_1  insurance_1  financeetc_1  ...   \n",
       "2023-09-27   -0.51317       7.07165  4.16901     -0.53729     -36.05128  ...  \\\n",
       "2023-10-04   -0.21541      -0.72788  2.03270     -3.37132      -1.00658  ...   \n",
       "2023-10-05   -2.14263       2.65603  3.48967     -1.29606      25.66667  ...   \n",
       "2023-10-06   -1.12669      -0.14414 -0.06024      0.33888      -2.12500  ...   \n",
       "2023-10-10    0.41980      -1.09761 -0.99787     -0.84506       1.17778  ...   \n",
       "\n",
       "             high_2    low_2  close_2    vol_2  weekday  cr_00 cr_05 cr_10   \n",
       "2023-09-27  0.01597  0.00146 -0.00291  0.32791        1      0     0     0  \\\n",
       "2023-10-04 -0.00861 -0.00438 -0.01441  0.09600        2      0     0     0   \n",
       "2023-10-05 -0.03286 -0.02485 -0.01603  0.77740        2      0     0     0   \n",
       "2023-10-06 -0.02460 -0.02199 -0.02485  0.08208        3      0     0     0   \n",
       "2023-10-10 -0.00591 -0.01049 -0.02222 -0.38637        4      0     0     0   \n",
       "\n",
       "            cr_15  cr_20  \n",
       "2023-09-27      0      0  \n",
       "2023-10-04      0      0  \n",
       "2023-10-05      0      0  \n",
       "2023-10-06      0      0  \n",
       "2023-10-10      0      0  \n",
       "\n",
       "[5 rows x 114 columns]"
      ]
     },
     "execution_count": 20,
     "metadata": {},
     "output_type": "execute_result"
    }
   ],
   "source": [
    "df_sec_combine.tail()"
   ]
  },
  {
   "cell_type": "code",
   "execution_count": 21,
   "id": "bf7224df",
   "metadata": {},
   "outputs": [],
   "source": [
    "nanlo = locate_nan(df_sec_combine)  # nan 위치 찾기"
   ]
  },
  {
   "cell_type": "code",
   "execution_count": 22,
   "id": "2f63d7f5",
   "metadata": {},
   "outputs": [
    {
     "name": "stdout",
     "output_type": "stream",
     "text": [
      "[[datetime.date(2022, 1, 18) 'dji_cr']\n",
      " [datetime.date(2022, 1, 18) 'dji_f_cr']\n",
      " [datetime.date(2022, 1, 18) 'dxy_cr']\n",
      " ...\n",
      " [datetime.date(2023, 10, 10) 'ixut_cr_2']\n",
      " [datetime.date(2023, 10, 10) 'nbi_cr_2']\n",
      " [datetime.date(2023, 10, 10) 'bkx_cr_2']]\n"
     ]
    }
   ],
   "source": [
    "print(nanlo)"
   ]
  },
  {
   "cell_type": "code",
   "execution_count": 23,
   "id": "21a6d628",
   "metadata": {},
   "outputs": [],
   "source": [
    "# delete rows which include NaN : dji, spx, nasdaq 기타 common 지수중 한개라도 nan인 rows 제거\n",
    "for key, val in code.items():\n",
    "    globals()['df_{}_combine'.format(val[1])].dropna(inplace=True)"
   ]
  },
  {
   "cell_type": "code",
   "execution_count": 24,
   "id": "c6f3061c",
   "metadata": {},
   "outputs": [],
   "source": [
    "# string column을 numeric으로 전환\n",
    "def string_to_num(df):\n",
    "    df.replace('%', '', regex=True, inplace=True)\n",
    "    df = df.apply(pd.to_numeric)\n",
    "    return df\n",
    "\n",
    "for key, val in code.items():\n",
    "    globals()['df_{}_combine'.format(val[1])] = string_to_num(globals()['df_{}_combine'.format(val[1])])"
   ]
  },
  {
   "cell_type": "code",
   "execution_count": 25,
   "id": "7e8d5acf",
   "metadata": {},
   "outputs": [],
   "source": [
    "# pickle로 데이터 저장\n",
    "\n",
    "for key, val in code.items():\n",
    "    globals()[f'df_{val[1]}_combine'].to_pickle(directory_for_predict + f'df_{val[1]}_combine.pkl')\n",
    "    globals()[f'df_{val[1]}_combine'].to_csv(directory_for_predict + f'df_{val[1]}_combine.csv')"
   ]
  },
  {
   "cell_type": "code",
   "execution_count": null,
   "id": "a01825d3",
   "metadata": {},
   "outputs": [],
   "source": []
  },
  {
   "cell_type": "code",
   "execution_count": null,
   "id": "3300e5b2",
   "metadata": {},
   "outputs": [],
   "source": []
  },
  {
   "cell_type": "code",
   "execution_count": null,
   "id": "a1f7c9d1",
   "metadata": {},
   "outputs": [],
   "source": []
  },
  {
   "cell_type": "code",
   "execution_count": null,
   "id": "bc80b897",
   "metadata": {},
   "outputs": [],
   "source": []
  }
 ],
 "metadata": {
  "kernelspec": {
   "display_name": "Python 3 (ipykernel)",
   "language": "python",
   "name": "python3"
  },
  "language_info": {
   "codemirror_mode": {
    "name": "ipython",
    "version": 3
   },
   "file_extension": ".py",
   "mimetype": "text/x-python",
   "name": "python",
   "nbconvert_exporter": "python",
   "pygments_lexer": "ipython3",
   "version": "3.9.1"
  }
 },
 "nbformat": 4,
 "nbformat_minor": 5
}
