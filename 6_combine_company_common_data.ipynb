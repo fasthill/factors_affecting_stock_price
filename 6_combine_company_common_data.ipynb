{
 "cells": [
  {
   "cell_type": "markdown",
   "id": "459ff0ca",
   "metadata": {},
   "source": [
    "## combine company data and common data"
   ]
  },
  {
   "cell_type": "code",
   "execution_count": 1,
   "id": "d3b5a935",
   "metadata": {},
   "outputs": [],
   "source": [
    "import datetime, time\n",
    "from datetime import date\n",
    "\n",
    "import pandas as pd\n",
    "import numpy as np\n",
    "import os\n",
    "import sys\n",
    "\n",
    "from sklearn.preprocessing import StandardScaler"
   ]
  },
  {
   "cell_type": "code",
   "execution_count": 2,
   "id": "8ef51f99",
   "metadata": {},
   "outputs": [],
   "source": [
    "module_path = os.path.abspath(os.path.join('.')) \n",
    "sys.path.append(module_path+\"\\\\data\\\\constant\")\n",
    "\n",
    "from constants import COMPANY_CODE"
   ]
  },
  {
   "cell_type": "code",
   "execution_count": 3,
   "id": "9ea60572",
   "metadata": {},
   "outputs": [
    {
     "data": {
      "text/plain": [
       "\" \\n[[datetime.date(2022, 1, 17) 'dji_cr']\\n [datetime.date(2022, 1, 17) 'dji_f_cr']\\n ...\\n [datetime.date(2023, 5, 23) 'kosdaq_cr']\\n [datetime.date(2023, 5, 23) 'kosdaq_cr_2']]\\n\""
      ]
     },
     "execution_count": 3,
     "metadata": {},
     "output_type": "execute_result"
    }
   ],
   "source": [
    "def locate_nan(df):\n",
    "    idx, idy = np.where(pd.isnull(df))\n",
    "    result = np.column_stack([df.index[idx], df.columns[idy]])\n",
    "    return result\n",
    "\n",
    "# return format\n",
    "''' \n",
    "[[datetime.date(2022, 1, 17) 'dji_cr']\n",
    " [datetime.date(2022, 1, 17) 'dji_f_cr']\n",
    " ...\n",
    " [datetime.date(2023, 5, 23) 'kosdaq_cr']\n",
    " [datetime.date(2023, 5, 23) 'kosdaq_cr_2']]\n",
    "'''"
   ]
  },
  {
   "cell_type": "code",
   "execution_count": 4,
   "id": "d6f9e0c8",
   "metadata": {},
   "outputs": [],
   "source": [
    "code = COMPANY_CODE\n",
    "\n",
    "# code = {'005930': ['삼성전자', 'sec'], '005380': ['현대차', 'hyunmotor'],\n",
    "#                  '035420': ['NAVER', 'naver'], '033780': ['KT&G', 'ktng']}\n",
    "# code = {'005930': ['삼성전자', 'sec'], '000660': ['SK하이닉스', 'skhynix']}\n",
    "# code = {'302440': ['SK바이오사이언스', 'skbio']}"
   ]
  },
  {
   "cell_type": "code",
   "execution_count": 5,
   "id": "1ced9635",
   "metadata": {},
   "outputs": [],
   "source": [
    "directory_for_predict = './data/data_for_ml/predict/'\n",
    "pkl_common_directory = './data/common_pkl/'\n",
    "pkl_directory = './data/common_pkl/'"
   ]
  },
  {
   "cell_type": "code",
   "execution_count": 6,
   "id": "a4ac3c16",
   "metadata": {},
   "outputs": [],
   "source": [
    "df_common = pd.read_pickle(directory_for_predict + '0_df_common.pkl')"
   ]
  },
  {
   "cell_type": "code",
   "execution_count": 7,
   "id": "82d5ae58",
   "metadata": {},
   "outputs": [],
   "source": [
    "for key, val in code.items():\n",
    "    df_company = pd.read_pickle(directory_for_predict + f'df_{val[1]}_company.pkl')\n",
    "    df_company = df_company.merge(df_common, how='left', left_index=True, right_index=True)\n",
    "    globals()[f'df_{val[1]}_combine'] = df_company.copy()"
   ]
  },
  {
   "cell_type": "code",
   "execution_count": 8,
   "id": "6c798e31",
   "metadata": {},
   "outputs": [
    {
     "data": {
      "text/html": [
       "<div>\n",
       "<style scoped>\n",
       "    .dataframe tbody tr th:only-of-type {\n",
       "        vertical-align: middle;\n",
       "    }\n",
       "\n",
       "    .dataframe tbody tr th {\n",
       "        vertical-align: top;\n",
       "    }\n",
       "\n",
       "    .dataframe thead th {\n",
       "        text-align: right;\n",
       "    }\n",
       "</style>\n",
       "<table border=\"1\" class=\"dataframe\">\n",
       "  <thead>\n",
       "    <tr style=\"text-align: right;\">\n",
       "      <th></th>\n",
       "      <th>retail_1</th>\n",
       "      <th>foreigner_1</th>\n",
       "      <th>institution_1</th>\n",
       "      <th>financial_1</th>\n",
       "      <th>invtrust_1</th>\n",
       "      <th>pension_1</th>\n",
       "      <th>privequity_1</th>\n",
       "      <th>bank_1</th>\n",
       "      <th>insurance_1</th>\n",
       "      <th>financeetc_1</th>\n",
       "      <th>...</th>\n",
       "      <th>ixk_cr</th>\n",
       "      <th>ixk_cr_2</th>\n",
       "      <th>ixtr_cr</th>\n",
       "      <th>ixtr_cr_2</th>\n",
       "      <th>ixut_cr</th>\n",
       "      <th>ixut_cr_2</th>\n",
       "      <th>nbi_cr</th>\n",
       "      <th>nbi_cr_2</th>\n",
       "      <th>bkx_cr</th>\n",
       "      <th>bkx_cr_2</th>\n",
       "    </tr>\n",
       "  </thead>\n",
       "  <tbody>\n",
       "    <tr>\n",
       "      <th>2024-11-15</th>\n",
       "      <td>-1.40164</td>\n",
       "      <td>-1.09612</td>\n",
       "      <td>0.67371</td>\n",
       "      <td>-1.22979</td>\n",
       "      <td>-2.71651</td>\n",
       "      <td>4.60679</td>\n",
       "      <td>-2.74356</td>\n",
       "      <td>-0.13043</td>\n",
       "      <td>-3.74481</td>\n",
       "      <td>-0.75168</td>\n",
       "      <td>...</td>\n",
       "      <td>-0.06%</td>\n",
       "      <td>-0.68918</td>\n",
       "      <td>-1.06%</td>\n",
       "      <td>-1.00282</td>\n",
       "      <td>-1.59%</td>\n",
       "      <td>-0.99787</td>\n",
       "      <td>-2.36%</td>\n",
       "      <td>-3.13731</td>\n",
       "      <td>-0.30%</td>\n",
       "      <td>-0.35043</td>\n",
       "    </tr>\n",
       "    <tr>\n",
       "      <th>2024-11-18</th>\n",
       "      <td>-0.13217</td>\n",
       "      <td>1.76024</td>\n",
       "      <td>-0.44704</td>\n",
       "      <td>1.05271</td>\n",
       "      <td>0.11581</td>\n",
       "      <td>-0.74985</td>\n",
       "      <td>-1.86675</td>\n",
       "      <td>-0.96667</td>\n",
       "      <td>0.68783</td>\n",
       "      <td>-0.21622</td>\n",
       "      <td>...</td>\n",
       "      <td>-2.62%</td>\n",
       "      <td>-2.67600</td>\n",
       "      <td>-1.62%</td>\n",
       "      <td>-2.66937</td>\n",
       "      <td>-1.19%</td>\n",
       "      <td>-2.75924</td>\n",
       "      <td>-4.45%</td>\n",
       "      <td>-6.70397</td>\n",
       "      <td>0.85%</td>\n",
       "      <td>0.55203</td>\n",
       "    </tr>\n",
       "    <tr>\n",
       "      <th>2024-11-19</th>\n",
       "      <td>4.78090</td>\n",
       "      <td>1.30662</td>\n",
       "      <td>1.76958</td>\n",
       "      <td>-0.32080</td>\n",
       "      <td>5.01760</td>\n",
       "      <td>0.74668</td>\n",
       "      <td>1.79260</td>\n",
       "      <td>-198.50000</td>\n",
       "      <td>-1.50918</td>\n",
       "      <td>-15.55172</td>\n",
       "      <td>...</td>\n",
       "      <td>0.49%</td>\n",
       "      <td>-2.13870</td>\n",
       "      <td>-0.35%</td>\n",
       "      <td>-1.96984</td>\n",
       "      <td>0.23%</td>\n",
       "      <td>-0.96312</td>\n",
       "      <td>-0.30%</td>\n",
       "      <td>-4.73367</td>\n",
       "      <td>-0.07%</td>\n",
       "      <td>0.77816</td>\n",
       "    </tr>\n",
       "    <tr>\n",
       "      <th>2024-11-20</th>\n",
       "      <td>-1.05652</td>\n",
       "      <td>-2.17134</td>\n",
       "      <td>-0.16751</td>\n",
       "      <td>2.02290</td>\n",
       "      <td>-0.98553</td>\n",
       "      <td>2.30405</td>\n",
       "      <td>-0.91781</td>\n",
       "      <td>-0.48608</td>\n",
       "      <td>-1.71680</td>\n",
       "      <td>-1.01303</td>\n",
       "      <td>...</td>\n",
       "      <td>1.40%</td>\n",
       "      <td>1.89402</td>\n",
       "      <td>-0.24%</td>\n",
       "      <td>-0.59572</td>\n",
       "      <td>-0.97%</td>\n",
       "      <td>-0.74390</td>\n",
       "      <td>0.33%</td>\n",
       "      <td>0.02704</td>\n",
       "      <td>-0.86%</td>\n",
       "      <td>-0.93478</td>\n",
       "    </tr>\n",
       "    <tr>\n",
       "      <th>2024-11-21</th>\n",
       "      <td>-5.42153</td>\n",
       "      <td>-1.28633</td>\n",
       "      <td>-0.48122</td>\n",
       "      <td>-0.73877</td>\n",
       "      <td>10.90155</td>\n",
       "      <td>-0.61962</td>\n",
       "      <td>-1.12006</td>\n",
       "      <td>0.98030</td>\n",
       "      <td>0.03436</td>\n",
       "      <td>-1.36364</td>\n",
       "      <td>...</td>\n",
       "      <td>NaN</td>\n",
       "      <td>NaN</td>\n",
       "      <td>NaN</td>\n",
       "      <td>NaN</td>\n",
       "      <td>NaN</td>\n",
       "      <td>NaN</td>\n",
       "      <td>NaN</td>\n",
       "      <td>NaN</td>\n",
       "      <td>NaN</td>\n",
       "      <td>NaN</td>\n",
       "    </tr>\n",
       "  </tbody>\n",
       "</table>\n",
       "<p>5 rows × 114 columns</p>\n",
       "</div>"
      ],
      "text/plain": [
       "            retail_1  foreigner_1  institution_1  financial_1  invtrust_1  \\\n",
       "2024-11-15  -1.40164     -1.09612        0.67371     -1.22979    -2.71651   \n",
       "2024-11-18  -0.13217      1.76024       -0.44704      1.05271     0.11581   \n",
       "2024-11-19   4.78090      1.30662        1.76958     -0.32080     5.01760   \n",
       "2024-11-20  -1.05652     -2.17134       -0.16751      2.02290    -0.98553   \n",
       "2024-11-21  -5.42153     -1.28633       -0.48122     -0.73877    10.90155   \n",
       "\n",
       "            pension_1  privequity_1     bank_1  insurance_1  financeetc_1  \\\n",
       "2024-11-15    4.60679      -2.74356   -0.13043     -3.74481      -0.75168   \n",
       "2024-11-18   -0.74985      -1.86675   -0.96667      0.68783      -0.21622   \n",
       "2024-11-19    0.74668       1.79260 -198.50000     -1.50918     -15.55172   \n",
       "2024-11-20    2.30405      -0.91781   -0.48608     -1.71680      -1.01303   \n",
       "2024-11-21   -0.61962      -1.12006    0.98030      0.03436      -1.36364   \n",
       "\n",
       "            ...  ixk_cr  ixk_cr_2  ixtr_cr  ixtr_cr_2  ixut_cr  ixut_cr_2  \\\n",
       "2024-11-15  ...  -0.06%  -0.68918   -1.06%   -1.00282   -1.59%   -0.99787   \n",
       "2024-11-18  ...  -2.62%  -2.67600   -1.62%   -2.66937   -1.19%   -2.75924   \n",
       "2024-11-19  ...   0.49%  -2.13870   -0.35%   -1.96984    0.23%   -0.96312   \n",
       "2024-11-20  ...   1.40%   1.89402   -0.24%   -0.59572   -0.97%   -0.74390   \n",
       "2024-11-21  ...     NaN       NaN      NaN        NaN      NaN        NaN   \n",
       "\n",
       "            nbi_cr  nbi_cr_2  bkx_cr  bkx_cr_2  \n",
       "2024-11-15  -2.36%  -3.13731  -0.30%  -0.35043  \n",
       "2024-11-18  -4.45%  -6.70397   0.85%   0.55203  \n",
       "2024-11-19  -0.30%  -4.73367  -0.07%   0.77816  \n",
       "2024-11-20   0.33%   0.02704  -0.86%  -0.93478  \n",
       "2024-11-21     NaN       NaN     NaN       NaN  \n",
       "\n",
       "[5 rows x 114 columns]"
      ]
     },
     "execution_count": 8,
     "metadata": {},
     "output_type": "execute_result"
    }
   ],
   "source": [
    "df_hyunmotor_combine.tail()"
   ]
  },
  {
   "cell_type": "code",
   "execution_count": 9,
   "id": "aeab3342",
   "metadata": {},
   "outputs": [
    {
     "data": {
      "text/plain": [
       "datetime.date(2022, 1, 7)"
      ]
     },
     "execution_count": 9,
     "metadata": {},
     "output_type": "execute_result"
    }
   ],
   "source": [
    "df_hyunmotor_combine.index[0]"
   ]
  },
  {
   "cell_type": "code",
   "execution_count": 10,
   "id": "587ac2cd",
   "metadata": {},
   "outputs": [],
   "source": [
    "col_inv1 = ['retail_1', 'foreigner_1', 'institution_1', 'financial_1', 'invtrust_1', 'pension_1', 'privequity_1', \n",
    "            'bank_1', 'insurance_1', 'financeetc_1', 'corporateetc_1', 'foreigneretc_1']\n",
    "col_inv2 = ['retail_2', 'foreigner_2', 'institution_2', 'financial_2', 'invtrust_2', 'pension_2',\n",
    "            'privequity_2', 'bank_2', 'insurance_2', 'financeetc_2', 'corporateetc_2', 'foreigneretc_2']"
   ]
  },
  {
   "cell_type": "code",
   "execution_count": 11,
   "id": "76ca8389",
   "metadata": {},
   "outputs": [],
   "source": [
    "col_his1 = ['open_1', 'high_1', 'low_1', 'close_1', 'vol_1']\n",
    "col_his2 = ['open_2', 'high_2', 'low_2', 'close_2', 'vol_2']"
   ]
  },
  {
   "cell_type": "code",
   "execution_count": 12,
   "id": "8a6b4bac",
   "metadata": {},
   "outputs": [],
   "source": [
    "col_common1 = [\"dji_cr\", \"dji_f_cr\", \"dxy_cr\", \"ixic_f_cr\", \"bond_kor_10_cr\", \"bond_kor_2_cr\", \"kosdaq_cr\", \"kospi_cr\", \n",
    "         \"krw_cr\", \"ixic_cr\", \"spx_f_cr\", \"sox_cr\", \"spx_cr\", \"bond_usa_10_cr\", \"bond_usa_2_cr\", \"bond_usa_3m_cr\", \n",
    "         \"vix_cr\", \"wti_cr\", \"spsy_cr\", \"spny_cr\", \"spxhc_cr\", \"splrcd_cr\", \"splrci_cr\", \"splrcu_cr\", \"splrcs_cr\",\n",
    "         \"splrct_cr\", \"splrcl_cr\", \"splrcm_cr\", \"ixbk_cr\", \"ixfn_cr\", \"ixid_cr\", \"ixis_cr\", \"ixk_cr\", \"ixtr_cr\",\n",
    "         \"ixut_cr\", \"nbi_cr\", \"bkx_cr\"]\n",
    "col_common2 = [\"dji_cr_2\", \"dji_f_cr_2\", \"dxy_cr_2\", \"ixic_f_cr_2\", \"bond_kor_10_cr_2\", \"bond_kor_2_cr_2\", \"kosdaq_cr_2\", \"kospi_cr_2\",\n",
    "         \"krw_cr_2\", \"ixic_cr_2\", \"spx_f_cr_2\", \"sox_cr_2\", \"spx_cr_2\", \"bond_usa_10_cr_2\", \"bond_usa_2_cr_2\", \"bond_usa_3m_cr_2\",\n",
    "         \"vix_cr_2\", \"wti_cr_2\", \"spsy_cr_2\", \"spny_cr_2\", \"spxhc_cr_2\", \"splrcd_cr_2\", \"splrci_cr_2\", \"splrcu_cr_2\",\n",
    "         \"splrcs_cr_2\", \"splrct_cr_2\", \"splrcl_cr_2\", \"splrcm_cr_2\", \"ixbk_cr_2\", \"ixfn_cr_2\", \"ixid_cr_2\",\n",
    "         \"ixis_cr_2\", \"ixk_cr_2\", \"ixtr_cr_2\", \"ixut_cr_2\", \"nbi_cr_2\", \"bkx_cr_2\"]"
   ]
  },
  {
   "cell_type": "code",
   "execution_count": 13,
   "id": "9a595935",
   "metadata": {},
   "outputs": [],
   "source": [
    "col_cr = ['weekday', 'cr_00', 'cr_05', 'cr_10', 'cr_15', 'cr_20']"
   ]
  },
  {
   "cell_type": "code",
   "execution_count": 14,
   "id": "75ec6070",
   "metadata": {},
   "outputs": [],
   "source": [
    "col_col = col_inv1 + col_common1 + col_his1 + col_inv2 + col_common2 + col_his2 + col_cr"
   ]
  },
  {
   "cell_type": "code",
   "execution_count": 15,
   "id": "ff6769da",
   "metadata": {},
   "outputs": [],
   "source": [
    "# # write common data only\n",
    "# df_temp = df_common.copy()\n",
    "# df_temp = df_temp[col_common1+col_common2]\n",
    "# pkl_common_directory = './data/common_pkl/'\n",
    "# df_temp.to_pickle(pkl_common_directory + 'df_common.pkl')\n",
    "# df_temp.to_csv(pkl_common_directory + 'df_common.csv')"
   ]
  },
  {
   "cell_type": "code",
   "execution_count": 16,
   "id": "c78c8f82",
   "metadata": {},
   "outputs": [],
   "source": [
    "new_columns = col_col"
   ]
  },
  {
   "cell_type": "code",
   "execution_count": 17,
   "id": "02da1256",
   "metadata": {},
   "outputs": [],
   "source": [
    "# column 순서 변경 : weekday, 'cr_00', 'cr_05', 'cr_10', 'cr_15', 'cr_20' column을 마지막으로 이동 \n",
    "for key, val in code.items():\n",
    "    globals()['df_{}_combine'.format(val[1])] = globals()['df_{}_combine'.format(val[1])][new_columns]"
   ]
  },
  {
   "cell_type": "code",
   "execution_count": 18,
   "id": "d4f1fa06",
   "metadata": {},
   "outputs": [
    {
     "data": {
      "text/plain": [
       "'\\n# drop inf, -inf : replace inf to 1 or -1 . 데이터를 살리고\\n# 변동률이 무한대가 되는 것을 방지하기 위해서, 나중에 발생하는 에러를 방지\\ndf_sec_sel.replace([np.inf, -np.inf], [1, -1], inplace=True)\\n\\n.impute 사용하는 것을 고려할 필요 있음.\\n'"
      ]
     },
     "execution_count": 18,
     "metadata": {},
     "output_type": "execute_result"
    }
   ],
   "source": [
    "'''\n",
    "# drop inf, -inf : replace inf to 1 or -1 . 데이터를 살리고\n",
    "# 변동률이 무한대가 되는 것을 방지하기 위해서, 나중에 발생하는 에러를 방지\n",
    "df_sec_sel.replace([np.inf, -np.inf], [1, -1], inplace=True)\n",
    "\n",
    ".impute 사용하는 것을 고려할 필요 있음.\n",
    "'''"
   ]
  },
  {
   "cell_type": "code",
   "execution_count": 19,
   "id": "7e91c1c5",
   "metadata": {},
   "outputs": [],
   "source": [
    "# drop inf, -inf : replace inf to 1 or -1 . 데이터를 살리고\n",
    "# 변동률이 무한대가 되는 것을 방지하기 위해서, 나중에 발생하는 에러를 방지\n",
    "for key, val in code.items():\n",
    "    globals()['df_{}_combine'.format(val[1])].replace([np.inf, -np.inf], [1, -1], inplace=True)\n",
    "\n",
    "# **** 데이터 전처리 from sklearn.impute import SimpleImputer, SimpleImputer 사용하기로 함."
   ]
  },
  {
   "cell_type": "code",
   "execution_count": 20,
   "id": "3fa3914b",
   "metadata": {},
   "outputs": [
    {
     "data": {
      "text/html": [
       "<div>\n",
       "<style scoped>\n",
       "    .dataframe tbody tr th:only-of-type {\n",
       "        vertical-align: middle;\n",
       "    }\n",
       "\n",
       "    .dataframe tbody tr th {\n",
       "        vertical-align: top;\n",
       "    }\n",
       "\n",
       "    .dataframe thead th {\n",
       "        text-align: right;\n",
       "    }\n",
       "</style>\n",
       "<table border=\"1\" class=\"dataframe\">\n",
       "  <thead>\n",
       "    <tr style=\"text-align: right;\">\n",
       "      <th></th>\n",
       "      <th>retail_1</th>\n",
       "      <th>foreigner_1</th>\n",
       "      <th>institution_1</th>\n",
       "      <th>financial_1</th>\n",
       "      <th>invtrust_1</th>\n",
       "      <th>pension_1</th>\n",
       "      <th>privequity_1</th>\n",
       "      <th>bank_1</th>\n",
       "      <th>insurance_1</th>\n",
       "      <th>financeetc_1</th>\n",
       "      <th>...</th>\n",
       "      <th>high_2</th>\n",
       "      <th>low_2</th>\n",
       "      <th>close_2</th>\n",
       "      <th>vol_2</th>\n",
       "      <th>weekday</th>\n",
       "      <th>cr_00</th>\n",
       "      <th>cr_05</th>\n",
       "      <th>cr_10</th>\n",
       "      <th>cr_15</th>\n",
       "      <th>cr_20</th>\n",
       "    </tr>\n",
       "  </thead>\n",
       "  <tbody>\n",
       "    <tr>\n",
       "      <th>2024-11-15</th>\n",
       "      <td>-0.43437</td>\n",
       "      <td>-0.35800</td>\n",
       "      <td>0.09388</td>\n",
       "      <td>-0.97625</td>\n",
       "      <td>-0.74011</td>\n",
       "      <td>3.31642</td>\n",
       "      <td>61.67308</td>\n",
       "      <td>3.92847</td>\n",
       "      <td>-96.46341</td>\n",
       "      <td>-0.73141</td>\n",
       "      <td>...</td>\n",
       "      <td>-0.05128</td>\n",
       "      <td>-0.05849</td>\n",
       "      <td>-0.05849</td>\n",
       "      <td>0.27785</td>\n",
       "      <td>3</td>\n",
       "      <td>1</td>\n",
       "      <td>1</td>\n",
       "      <td>1</td>\n",
       "      <td>1</td>\n",
       "      <td>1</td>\n",
       "    </tr>\n",
       "    <tr>\n",
       "      <th>2024-11-18</th>\n",
       "      <td>-1.56264</td>\n",
       "      <td>-1.27162</td>\n",
       "      <td>-0.32041</td>\n",
       "      <td>-40.52635</td>\n",
       "      <td>15.09917</td>\n",
       "      <td>-0.11591</td>\n",
       "      <td>-0.42436</td>\n",
       "      <td>-1.21727</td>\n",
       "      <td>0.48774</td>\n",
       "      <td>-0.60736</td>\n",
       "      <td>...</td>\n",
       "      <td>0.02264</td>\n",
       "      <td>-0.00396</td>\n",
       "      <td>0.05731</td>\n",
       "      <td>-0.10953</td>\n",
       "      <td>4</td>\n",
       "      <td>1</td>\n",
       "      <td>1</td>\n",
       "      <td>1</td>\n",
       "      <td>1</td>\n",
       "      <td>1</td>\n",
       "    </tr>\n",
       "    <tr>\n",
       "      <th>2024-11-19</th>\n",
       "      <td>-1.88739</td>\n",
       "      <td>-2.27847</td>\n",
       "      <td>-1.60284</td>\n",
       "      <td>-0.26713</td>\n",
       "      <td>-1.29115</td>\n",
       "      <td>-0.51468</td>\n",
       "      <td>-2.56130</td>\n",
       "      <td>-0.00818</td>\n",
       "      <td>-1.20917</td>\n",
       "      <td>-0.90082</td>\n",
       "      <td>...</td>\n",
       "      <td>0.11004</td>\n",
       "      <td>0.12024</td>\n",
       "      <td>0.13627</td>\n",
       "      <td>-0.00856</td>\n",
       "      <td>0</td>\n",
       "      <td>0</td>\n",
       "      <td>0</td>\n",
       "      <td>0</td>\n",
       "      <td>0</td>\n",
       "      <td>0</td>\n",
       "    </tr>\n",
       "    <tr>\n",
       "      <th>2024-11-20</th>\n",
       "      <td>-1.05000</td>\n",
       "      <td>-0.22627</td>\n",
       "      <td>-5.12686</td>\n",
       "      <td>-3.39446</td>\n",
       "      <td>0.23188</td>\n",
       "      <td>1.11192</td>\n",
       "      <td>0.33436</td>\n",
       "      <td>-0.89897</td>\n",
       "      <td>0.54146</td>\n",
       "      <td>-2.59633</td>\n",
       "      <td>...</td>\n",
       "      <td>0.06089</td>\n",
       "      <td>0.11133</td>\n",
       "      <td>0.05234</td>\n",
       "      <td>-0.32571</td>\n",
       "      <td>1</td>\n",
       "      <td>0</td>\n",
       "      <td>0</td>\n",
       "      <td>0</td>\n",
       "      <td>0</td>\n",
       "      <td>0</td>\n",
       "    </tr>\n",
       "    <tr>\n",
       "      <th>2024-11-21</th>\n",
       "      <td>-5.75444</td>\n",
       "      <td>-0.45740</td>\n",
       "      <td>-1.11126</td>\n",
       "      <td>-1.14417</td>\n",
       "      <td>-0.76747</td>\n",
       "      <td>-0.94859</td>\n",
       "      <td>-0.89842</td>\n",
       "      <td>-2.57143</td>\n",
       "      <td>-1.13981</td>\n",
       "      <td>-0.73563</td>\n",
       "      <td>...</td>\n",
       "      <td>-0.01739</td>\n",
       "      <td>-0.01968</td>\n",
       "      <td>-0.02469</td>\n",
       "      <td>-0.56618</td>\n",
       "      <td>2</td>\n",
       "      <td>0</td>\n",
       "      <td>0</td>\n",
       "      <td>0</td>\n",
       "      <td>0</td>\n",
       "      <td>0</td>\n",
       "    </tr>\n",
       "  </tbody>\n",
       "</table>\n",
       "<p>5 rows × 114 columns</p>\n",
       "</div>"
      ],
      "text/plain": [
       "            retail_1  foreigner_1  institution_1  financial_1  invtrust_1  \\\n",
       "2024-11-15  -0.43437     -0.35800        0.09388     -0.97625    -0.74011   \n",
       "2024-11-18  -1.56264     -1.27162       -0.32041    -40.52635    15.09917   \n",
       "2024-11-19  -1.88739     -2.27847       -1.60284     -0.26713    -1.29115   \n",
       "2024-11-20  -1.05000     -0.22627       -5.12686     -3.39446     0.23188   \n",
       "2024-11-21  -5.75444     -0.45740       -1.11126     -1.14417    -0.76747   \n",
       "\n",
       "            pension_1  privequity_1   bank_1  insurance_1  financeetc_1  ...  \\\n",
       "2024-11-15    3.31642      61.67308  3.92847    -96.46341      -0.73141  ...   \n",
       "2024-11-18   -0.11591      -0.42436 -1.21727      0.48774      -0.60736  ...   \n",
       "2024-11-19   -0.51468      -2.56130 -0.00818     -1.20917      -0.90082  ...   \n",
       "2024-11-20    1.11192       0.33436 -0.89897      0.54146      -2.59633  ...   \n",
       "2024-11-21   -0.94859      -0.89842 -2.57143     -1.13981      -0.73563  ...   \n",
       "\n",
       "             high_2    low_2  close_2    vol_2  weekday  cr_00 cr_05 cr_10  \\\n",
       "2024-11-15 -0.05128 -0.05849 -0.05849  0.27785        3      1     1     1   \n",
       "2024-11-18  0.02264 -0.00396  0.05731 -0.10953        4      1     1     1   \n",
       "2024-11-19  0.11004  0.12024  0.13627 -0.00856        0      0     0     0   \n",
       "2024-11-20  0.06089  0.11133  0.05234 -0.32571        1      0     0     0   \n",
       "2024-11-21 -0.01739 -0.01968 -0.02469 -0.56618        2      0     0     0   \n",
       "\n",
       "            cr_15  cr_20  \n",
       "2024-11-15      1      1  \n",
       "2024-11-18      1      1  \n",
       "2024-11-19      0      0  \n",
       "2024-11-20      0      0  \n",
       "2024-11-21      0      0  \n",
       "\n",
       "[5 rows x 114 columns]"
      ]
     },
     "execution_count": 20,
     "metadata": {},
     "output_type": "execute_result"
    }
   ],
   "source": [
    "df_sec_combine.tail()"
   ]
  },
  {
   "cell_type": "code",
   "execution_count": 21,
   "id": "bf7224df",
   "metadata": {},
   "outputs": [],
   "source": [
    "nanlo = locate_nan(df_sec_combine)  # nan 위치 찾기"
   ]
  },
  {
   "cell_type": "code",
   "execution_count": 22,
   "id": "2f63d7f5",
   "metadata": {},
   "outputs": [
    {
     "name": "stdout",
     "output_type": "stream",
     "text": [
      "[[datetime.date(2022, 1, 18) 'dji_cr']\n",
      " [datetime.date(2022, 1, 18) 'dji_f_cr']\n",
      " [datetime.date(2022, 1, 18) 'dxy_cr']\n",
      " ...\n",
      " [datetime.date(2024, 11, 21) 'ixut_cr_2']\n",
      " [datetime.date(2024, 11, 21) 'nbi_cr_2']\n",
      " [datetime.date(2024, 11, 21) 'bkx_cr_2']]\n"
     ]
    }
   ],
   "source": [
    "print(nanlo)"
   ]
  },
  {
   "cell_type": "code",
   "execution_count": 23,
   "id": "21a6d628",
   "metadata": {},
   "outputs": [],
   "source": [
    "# delete rows which include NaN : dji, spx, nasdaq 기타 common 지수중 한개라도 nan인 rows 제거\n",
    "for key, val in code.items():\n",
    "    globals()['df_{}_combine'.format(val[1])].dropna(inplace=True)"
   ]
  },
  {
   "cell_type": "code",
   "execution_count": 24,
   "id": "c6f3061c",
   "metadata": {},
   "outputs": [],
   "source": [
    "# string column을 numeric으로 전환\n",
    "def string_to_num(df):\n",
    "    df.replace('%', '', regex=True, inplace=True)\n",
    "    df = df.apply(pd.to_numeric)\n",
    "    return df\n",
    "\n",
    "for key, val in code.items():\n",
    "    globals()['df_{}_combine'.format(val[1])] = string_to_num(globals()['df_{}_combine'.format(val[1])])"
   ]
  },
  {
   "cell_type": "code",
   "execution_count": 25,
   "id": "7e8d5acf",
   "metadata": {},
   "outputs": [],
   "source": [
    "# pickle로 데이터 저장\n",
    "\n",
    "for key, val in code.items():\n",
    "    globals()[f'df_{val[1]}_combine'].to_pickle(directory_for_predict + f'df_{val[1]}_combine.pkl')\n",
    "    globals()[f'df_{val[1]}_combine'].to_csv(directory_for_predict + f'df_{val[1]}_combine.csv')"
   ]
  },
  {
   "cell_type": "code",
   "execution_count": null,
   "id": "a01825d3",
   "metadata": {},
   "outputs": [],
   "source": []
  },
  {
   "cell_type": "code",
   "execution_count": null,
   "id": "3300e5b2",
   "metadata": {},
   "outputs": [],
   "source": []
  },
  {
   "cell_type": "code",
   "execution_count": null,
   "id": "1ffeab80",
   "metadata": {},
   "outputs": [],
   "source": []
  },
  {
   "cell_type": "code",
   "execution_count": null,
   "id": "a1f7c9d1",
   "metadata": {},
   "outputs": [],
   "source": []
  },
  {
   "cell_type": "code",
   "execution_count": null,
   "id": "bc80b897",
   "metadata": {},
   "outputs": [],
   "source": []
  }
 ],
 "metadata": {
  "kernelspec": {
   "display_name": "Python 3 (ipykernel)",
   "language": "python",
   "name": "python3"
  },
  "language_info": {
   "codemirror_mode": {
    "name": "ipython",
    "version": 3
   },
   "file_extension": ".py",
   "mimetype": "text/x-python",
   "name": "python",
   "nbconvert_exporter": "python",
   "pygments_lexer": "ipython3",
   "version": "3.12.2"
  }
 },
 "nbformat": 4,
 "nbformat_minor": 5
}
