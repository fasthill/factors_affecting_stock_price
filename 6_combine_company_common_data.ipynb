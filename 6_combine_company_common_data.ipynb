{
 "cells": [
  {
   "cell_type": "markdown",
   "id": "459ff0ca",
   "metadata": {},
   "source": [
    "## combine company data and common data"
   ]
  },
  {
   "cell_type": "code",
   "execution_count": 1,
   "id": "d3b5a935",
   "metadata": {},
   "outputs": [],
   "source": [
    "import datetime, time\n",
    "from datetime import date\n",
    "\n",
    "import pandas as pd\n",
    "import numpy as np\n",
    "import os\n",
    "import sys\n",
    "\n",
    "from sklearn.preprocessing import StandardScaler"
   ]
  },
  {
   "cell_type": "code",
   "execution_count": 2,
   "id": "8ef51f99",
   "metadata": {},
   "outputs": [],
   "source": [
    "module_path = os.path.abspath(os.path.join('.')) \n",
    "sys.path.append(module_path+\"\\\\data\\\\constant\")\n",
    "\n",
    "from constants import COMPANY_CODE"
   ]
  },
  {
   "cell_type": "code",
   "execution_count": 3,
   "id": "9ea60572",
   "metadata": {},
   "outputs": [
    {
     "data": {
      "text/plain": [
       "\" \\n[[datetime.date(2022, 1, 17) 'dji_cr']\\n [datetime.date(2022, 1, 17) 'dji_f_cr']\\n ...\\n [datetime.date(2023, 5, 23) 'kosdaq_cr']\\n [datetime.date(2023, 5, 23) 'kosdaq_cr_2']]\\n\""
      ]
     },
     "execution_count": 3,
     "metadata": {},
     "output_type": "execute_result"
    }
   ],
   "source": [
    "def locate_nan(df):\n",
    "    idx, idy = np.where(pd.isnull(df))\n",
    "    result = np.column_stack([df.index[idx], df.columns[idy]])\n",
    "    return result\n",
    "\n",
    "# return format\n",
    "''' \n",
    "[[datetime.date(2022, 1, 17) 'dji_cr']\n",
    " [datetime.date(2022, 1, 17) 'dji_f_cr']\n",
    " ...\n",
    " [datetime.date(2023, 5, 23) 'kosdaq_cr']\n",
    " [datetime.date(2023, 5, 23) 'kosdaq_cr_2']]\n",
    "'''"
   ]
  },
  {
   "cell_type": "code",
   "execution_count": 4,
   "id": "d6f9e0c8",
   "metadata": {},
   "outputs": [],
   "source": [
    "code = COMPANY_CODE\n",
    "\n",
    "# code = {'005930': ['삼성전자', 'sec'], '005380': ['현대차', 'hyunmotor'],\n",
    "#                  '035420': ['NAVER', 'naver'], '033780': ['KT&G', 'ktng']}\n",
    "# code = {'005930': ['삼성전자', 'sec'], '000660': ['SK하이닉스', 'skhynix']}\n",
    "# code = {'302440': ['SK바이오사이언스', 'skbio']}"
   ]
  },
  {
   "cell_type": "code",
   "execution_count": 5,
   "id": "1ced9635",
   "metadata": {},
   "outputs": [],
   "source": [
    "directory_for_predict = './data/data_for_ml/predict/'\n",
    "pkl_common_directory = './data/common_pkl/'\n",
    "pkl_directory = './data/common_pkl/'"
   ]
  },
  {
   "cell_type": "code",
   "execution_count": 6,
   "id": "a4ac3c16",
   "metadata": {},
   "outputs": [],
   "source": [
    "df_common = pd.read_pickle(directory_for_predict + '0_df_common.pkl')"
   ]
  },
  {
   "cell_type": "code",
   "execution_count": 7,
   "id": "82d5ae58",
   "metadata": {},
   "outputs": [],
   "source": [
    "for key, val in code.items():\n",
    "    df_company = pd.read_pickle(directory_for_predict + f'df_{val[1]}_company.pkl')\n",
    "    df_company = df_company.merge(df_common, how='left', left_index=True, right_index=True)\n",
    "    globals()[f'df_{val[1]}_combine'] = df_company.copy()"
   ]
  },
  {
   "cell_type": "code",
   "execution_count": 8,
   "id": "6c798e31",
   "metadata": {},
   "outputs": [
    {
     "data": {
      "text/html": [
       "<div>\n",
       "<style scoped>\n",
       "    .dataframe tbody tr th:only-of-type {\n",
       "        vertical-align: middle;\n",
       "    }\n",
       "\n",
       "    .dataframe tbody tr th {\n",
       "        vertical-align: top;\n",
       "    }\n",
       "\n",
       "    .dataframe thead th {\n",
       "        text-align: right;\n",
       "    }\n",
       "</style>\n",
       "<table border=\"1\" class=\"dataframe\">\n",
       "  <thead>\n",
       "    <tr style=\"text-align: right;\">\n",
       "      <th></th>\n",
       "      <th>retail_1</th>\n",
       "      <th>foreigner_1</th>\n",
       "      <th>institution_1</th>\n",
       "      <th>financial_1</th>\n",
       "      <th>invtrust_1</th>\n",
       "      <th>pension_1</th>\n",
       "      <th>privequity_1</th>\n",
       "      <th>bank_1</th>\n",
       "      <th>insurance_1</th>\n",
       "      <th>financeetc_1</th>\n",
       "      <th>...</th>\n",
       "      <th>ixk_cr</th>\n",
       "      <th>ixk_cr_2</th>\n",
       "      <th>ixtr_cr</th>\n",
       "      <th>ixtr_cr_2</th>\n",
       "      <th>ixut_cr</th>\n",
       "      <th>ixut_cr_2</th>\n",
       "      <th>nbi_cr</th>\n",
       "      <th>nbi_cr_2</th>\n",
       "      <th>bkx_cr</th>\n",
       "      <th>bkx_cr_2</th>\n",
       "    </tr>\n",
       "  </thead>\n",
       "  <tbody>\n",
       "    <tr>\n",
       "      <th>2023-08-07</th>\n",
       "      <td>-1.67311</td>\n",
       "      <td>28.49406</td>\n",
       "      <td>-0.21265</td>\n",
       "      <td>-0.13163</td>\n",
       "      <td>-1.54153</td>\n",
       "      <td>0.07370</td>\n",
       "      <td>14.60000</td>\n",
       "      <td>-1.0000</td>\n",
       "      <td>-1.17124</td>\n",
       "      <td>-1.0</td>\n",
       "      <td>...</td>\n",
       "      <td>-1.36%</td>\n",
       "      <td>-1.55851</td>\n",
       "      <td>-1.58%</td>\n",
       "      <td>-1.82905</td>\n",
       "      <td>-0.72%</td>\n",
       "      <td>-0.52043</td>\n",
       "      <td>0.42%</td>\n",
       "      <td>0.13801</td>\n",
       "      <td>-0.19%</td>\n",
       "      <td>0.48011</td>\n",
       "    </tr>\n",
       "    <tr>\n",
       "      <th>2023-08-08</th>\n",
       "      <td>-6.37184</td>\n",
       "      <td>-1.38902</td>\n",
       "      <td>2.50815</td>\n",
       "      <td>-0.24700</td>\n",
       "      <td>-32.16564</td>\n",
       "      <td>1.62925</td>\n",
       "      <td>-45.41026</td>\n",
       "      <td>inf</td>\n",
       "      <td>-6.22642</td>\n",
       "      <td>-1.0</td>\n",
       "      <td>...</td>\n",
       "      <td>0.56%</td>\n",
       "      <td>-0.80551</td>\n",
       "      <td>0.65%</td>\n",
       "      <td>-0.93637</td>\n",
       "      <td>0.99%</td>\n",
       "      <td>0.26090</td>\n",
       "      <td>-0.56%</td>\n",
       "      <td>-0.14185</td>\n",
       "      <td>0.92%</td>\n",
       "      <td>0.72669</td>\n",
       "    </tr>\n",
       "    <tr>\n",
       "      <th>2023-08-09</th>\n",
       "      <td>-1.03427</td>\n",
       "      <td>-3.91847</td>\n",
       "      <td>-0.47298</td>\n",
       "      <td>0.26971</td>\n",
       "      <td>-0.39754</td>\n",
       "      <td>-0.62260</td>\n",
       "      <td>-0.44082</td>\n",
       "      <td>-1.0875</td>\n",
       "      <td>-1.11282</td>\n",
       "      <td>-1.0</td>\n",
       "      <td>...</td>\n",
       "      <td>-0.87%</td>\n",
       "      <td>-0.31479</td>\n",
       "      <td>-0.74%</td>\n",
       "      <td>-0.09697</td>\n",
       "      <td>-0.05%</td>\n",
       "      <td>0.93194</td>\n",
       "      <td>0.66%</td>\n",
       "      <td>0.09605</td>\n",
       "      <td>-1.22%</td>\n",
       "      <td>-0.30717</td>\n",
       "    </tr>\n",
       "    <tr>\n",
       "      <th>2023-08-10</th>\n",
       "      <td>-0.96405</td>\n",
       "      <td>-0.61360</td>\n",
       "      <td>-0.61943</td>\n",
       "      <td>-0.58389</td>\n",
       "      <td>-0.84578</td>\n",
       "      <td>-0.04188</td>\n",
       "      <td>-1.53640</td>\n",
       "      <td>-1.0000</td>\n",
       "      <td>4.29600</td>\n",
       "      <td>-1.0</td>\n",
       "      <td>...</td>\n",
       "      <td>-1.60%</td>\n",
       "      <td>-2.45588</td>\n",
       "      <td>-1.09%</td>\n",
       "      <td>-1.82150</td>\n",
       "      <td>0.03%</td>\n",
       "      <td>-0.01927</td>\n",
       "      <td>0.37%</td>\n",
       "      <td>1.02424</td>\n",
       "      <td>-1.67%</td>\n",
       "      <td>-2.86326</td>\n",
       "    </tr>\n",
       "    <tr>\n",
       "      <th>2023-08-11</th>\n",
       "      <td>-223.00000</td>\n",
       "      <td>-0.37541</td>\n",
       "      <td>1.61544</td>\n",
       "      <td>1.49877</td>\n",
       "      <td>2.63665</td>\n",
       "      <td>0.13313</td>\n",
       "      <td>-5.76420</td>\n",
       "      <td>inf</td>\n",
       "      <td>0.87462</td>\n",
       "      <td>-inf</td>\n",
       "      <td>...</td>\n",
       "      <td>NaN</td>\n",
       "      <td>NaN</td>\n",
       "      <td>NaN</td>\n",
       "      <td>NaN</td>\n",
       "      <td>NaN</td>\n",
       "      <td>NaN</td>\n",
       "      <td>NaN</td>\n",
       "      <td>NaN</td>\n",
       "      <td>NaN</td>\n",
       "      <td>NaN</td>\n",
       "    </tr>\n",
       "  </tbody>\n",
       "</table>\n",
       "<p>5 rows × 114 columns</p>\n",
       "</div>"
      ],
      "text/plain": [
       "             retail_1  foreigner_1  institution_1  financial_1  invtrust_1  \\\n",
       "2023-08-07   -1.67311     28.49406       -0.21265     -0.13163    -1.54153   \n",
       "2023-08-08   -6.37184     -1.38902        2.50815     -0.24700   -32.16564   \n",
       "2023-08-09   -1.03427     -3.91847       -0.47298      0.26971    -0.39754   \n",
       "2023-08-10   -0.96405     -0.61360       -0.61943     -0.58389    -0.84578   \n",
       "2023-08-11 -223.00000     -0.37541        1.61544      1.49877     2.63665   \n",
       "\n",
       "            pension_1  privequity_1  bank_1  insurance_1  financeetc_1  ...  \\\n",
       "2023-08-07    0.07370      14.60000 -1.0000     -1.17124          -1.0  ...   \n",
       "2023-08-08    1.62925     -45.41026     inf     -6.22642          -1.0  ...   \n",
       "2023-08-09   -0.62260      -0.44082 -1.0875     -1.11282          -1.0  ...   \n",
       "2023-08-10   -0.04188      -1.53640 -1.0000      4.29600          -1.0  ...   \n",
       "2023-08-11    0.13313      -5.76420     inf      0.87462          -inf  ...   \n",
       "\n",
       "            ixk_cr  ixk_cr_2  ixtr_cr  ixtr_cr_2  ixut_cr  ixut_cr_2  nbi_cr  \\\n",
       "2023-08-07  -1.36%  -1.55851   -1.58%   -1.82905   -0.72%   -0.52043   0.42%   \n",
       "2023-08-08   0.56%  -0.80551    0.65%   -0.93637    0.99%    0.26090  -0.56%   \n",
       "2023-08-09  -0.87%  -0.31479   -0.74%   -0.09697   -0.05%    0.93194   0.66%   \n",
       "2023-08-10  -1.60%  -2.45588   -1.09%   -1.82150    0.03%   -0.01927   0.37%   \n",
       "2023-08-11     NaN       NaN      NaN        NaN      NaN        NaN     NaN   \n",
       "\n",
       "            nbi_cr_2  bkx_cr  bkx_cr_2  \n",
       "2023-08-07   0.13801  -0.19%   0.48011  \n",
       "2023-08-08  -0.14185   0.92%   0.72669  \n",
       "2023-08-09   0.09605  -1.22%  -0.30717  \n",
       "2023-08-10   1.02424  -1.67%  -2.86326  \n",
       "2023-08-11       NaN     NaN       NaN  \n",
       "\n",
       "[5 rows x 114 columns]"
      ]
     },
     "execution_count": 8,
     "metadata": {},
     "output_type": "execute_result"
    }
   ],
   "source": [
    "df_hyunmotor_combine.tail()"
   ]
  },
  {
   "cell_type": "code",
   "execution_count": 9,
   "id": "aeab3342",
   "metadata": {},
   "outputs": [
    {
     "data": {
      "text/plain": [
       "datetime.date(2022, 1, 7)"
      ]
     },
     "execution_count": 9,
     "metadata": {},
     "output_type": "execute_result"
    }
   ],
   "source": [
    "df_hyunmotor_combine.index[0]"
   ]
  },
  {
   "cell_type": "code",
   "execution_count": 10,
   "id": "587ac2cd",
   "metadata": {},
   "outputs": [],
   "source": [
    "col_inv1 = ['retail_1', 'foreigner_1', 'institution_1', 'financial_1', 'invtrust_1', 'pension_1', 'privequity_1', \n",
    "            'bank_1', 'insurance_1', 'financeetc_1', 'corporateetc_1', 'foreigneretc_1']\n",
    "col_inv2 = ['retail_2', 'foreigner_2', 'institution_2', 'financial_2', 'invtrust_2', 'pension_2',\n",
    "            'privequity_2', 'bank_2', 'insurance_2', 'financeetc_2', 'corporateetc_2', 'foreigneretc_2']"
   ]
  },
  {
   "cell_type": "code",
   "execution_count": 11,
   "id": "76ca8389",
   "metadata": {},
   "outputs": [],
   "source": [
    "col_his1 = ['open_1', 'high_1', 'low_1', 'close_1', 'vol_1']\n",
    "col_his2 = ['open_2', 'high_2', 'low_2', 'close_2', 'vol_2']"
   ]
  },
  {
   "cell_type": "code",
   "execution_count": 12,
   "id": "8a6b4bac",
   "metadata": {},
   "outputs": [],
   "source": [
    "col_common1 = [\"dji_cr\", \"dji_f_cr\", \"dxy_cr\", \"ixic_f_cr\", \"bond_kor_10_cr\", \"bond_kor_2_cr\", \"kosdaq_cr\", \"kospi_cr\", \n",
    "         \"krw_cr\", \"ixic_cr\", \"spx_f_cr\", \"sox_cr\", \"spx_cr\", \"bond_usa_10_cr\", \"bond_usa_2_cr\", \"bond_usa_3m_cr\", \n",
    "         \"vix_cr\", \"wti_cr\", \"spsy_cr\", \"spny_cr\", \"spxhc_cr\", \"splrcd_cr\", \"splrci_cr\", \"splrcu_cr\", \"splrcs_cr\",\n",
    "         \"splrct_cr\", \"splrcl_cr\", \"splrcm_cr\", \"ixbk_cr\", \"ixfn_cr\", \"ixid_cr\", \"ixis_cr\", \"ixk_cr\", \"ixtr_cr\",\n",
    "         \"ixut_cr\", \"nbi_cr\", \"bkx_cr\"]\n",
    "col_common2 = [\"dji_cr_2\", \"dji_f_cr_2\", \"dxy_cr_2\", \"ixic_f_cr_2\", \"bond_kor_10_cr_2\", \"bond_kor_2_cr_2\", \"kosdaq_cr_2\", \"kospi_cr_2\",\n",
    "         \"krw_cr_2\", \"ixic_cr_2\", \"spx_f_cr_2\", \"sox_cr_2\", \"spx_cr_2\", \"bond_usa_10_cr_2\", \"bond_usa_2_cr_2\", \"bond_usa_3m_cr_2\",\n",
    "         \"vix_cr_2\", \"wti_cr_2\", \"spsy_cr_2\", \"spny_cr_2\", \"spxhc_cr_2\", \"splrcd_cr_2\", \"splrci_cr_2\", \"splrcu_cr_2\",\n",
    "         \"splrcs_cr_2\", \"splrct_cr_2\", \"splrcl_cr_2\", \"splrcm_cr_2\", \"ixbk_cr_2\", \"ixfn_cr_2\", \"ixid_cr_2\",\n",
    "         \"ixis_cr_2\", \"ixk_cr_2\", \"ixtr_cr_2\", \"ixut_cr_2\", \"nbi_cr_2\", \"bkx_cr_2\"]"
   ]
  },
  {
   "cell_type": "code",
   "execution_count": 13,
   "id": "9a595935",
   "metadata": {},
   "outputs": [],
   "source": [
    "col_cr = ['weekday', 'cr_00', 'cr_05', 'cr_10', 'cr_15', 'cr_20']"
   ]
  },
  {
   "cell_type": "code",
   "execution_count": 14,
   "id": "75ec6070",
   "metadata": {},
   "outputs": [],
   "source": [
    "col_col = col_inv1 + col_common1 + col_his1 + col_inv2 + col_common2 + col_his2 + col_cr"
   ]
  },
  {
   "cell_type": "code",
   "execution_count": 15,
   "id": "ff6769da",
   "metadata": {},
   "outputs": [],
   "source": [
    "# # write common data only\n",
    "# df_temp = df_common.copy()\n",
    "# df_temp = df_temp[col_common1+col_common2]\n",
    "# pkl_common_directory = './data/common_pkl/'\n",
    "# df_temp.to_pickle(pkl_common_directory + 'df_common.pkl')\n",
    "# df_temp.to_csv(pkl_common_directory + 'df_common.csv')"
   ]
  },
  {
   "cell_type": "code",
   "execution_count": 16,
   "id": "c78c8f82",
   "metadata": {},
   "outputs": [],
   "source": [
    "new_columns = col_col"
   ]
  },
  {
   "cell_type": "code",
   "execution_count": 17,
   "id": "02da1256",
   "metadata": {},
   "outputs": [],
   "source": [
    "# column 순서 변경 : weekday, 'cr_00', 'cr_05', 'cr_10', 'cr_15', 'cr_20' column을 마지막으로 이동 \n",
    "for key, val in code.items():\n",
    "    globals()['df_{}_combine'.format(val[1])] = globals()['df_{}_combine'.format(val[1])][new_columns]"
   ]
  },
  {
   "cell_type": "code",
   "execution_count": 18,
   "id": "d4f1fa06",
   "metadata": {},
   "outputs": [
    {
     "data": {
      "text/plain": [
       "'\\n# drop inf, -inf : replace inf to 1 or -1 . 데이터를 살리고\\n# 변동률이 무한대가 되는 것을 방지하기 위해서, 나중에 발생하는 에러를 방지\\ndf_sec_sel.replace([np.inf, -np.inf], [1, -1], inplace=True)\\n\\n.impute 사용하는 것을 고려할 필요 있음.\\n'"
      ]
     },
     "execution_count": 18,
     "metadata": {},
     "output_type": "execute_result"
    }
   ],
   "source": [
    "'''\n",
    "# drop inf, -inf : replace inf to 1 or -1 . 데이터를 살리고\n",
    "# 변동률이 무한대가 되는 것을 방지하기 위해서, 나중에 발생하는 에러를 방지\n",
    "df_sec_sel.replace([np.inf, -np.inf], [1, -1], inplace=True)\n",
    "\n",
    ".impute 사용하는 것을 고려할 필요 있음.\n",
    "'''"
   ]
  },
  {
   "cell_type": "code",
   "execution_count": 19,
   "id": "7e91c1c5",
   "metadata": {},
   "outputs": [],
   "source": [
    "# drop inf, -inf : replace inf to 1 or -1 . 데이터를 살리고\n",
    "# 변동률이 무한대가 되는 것을 방지하기 위해서, 나중에 발생하는 에러를 방지\n",
    "for key, val in code.items():\n",
    "    globals()['df_{}_combine'.format(val[1])].replace([np.inf, -np.inf], [1, -1], inplace=True)\n",
    "\n",
    "# **** 데이터 전처리 from sklearn.impute import SimpleImputer, SimpleImputer 사용하기로 함."
   ]
  },
  {
   "cell_type": "code",
   "execution_count": 20,
   "id": "3fa3914b",
   "metadata": {},
   "outputs": [
    {
     "data": {
      "text/html": [
       "<div>\n",
       "<style scoped>\n",
       "    .dataframe tbody tr th:only-of-type {\n",
       "        vertical-align: middle;\n",
       "    }\n",
       "\n",
       "    .dataframe tbody tr th {\n",
       "        vertical-align: top;\n",
       "    }\n",
       "\n",
       "    .dataframe thead th {\n",
       "        text-align: right;\n",
       "    }\n",
       "</style>\n",
       "<table border=\"1\" class=\"dataframe\">\n",
       "  <thead>\n",
       "    <tr style=\"text-align: right;\">\n",
       "      <th></th>\n",
       "      <th>retail_1</th>\n",
       "      <th>foreigner_1</th>\n",
       "      <th>institution_1</th>\n",
       "      <th>financial_1</th>\n",
       "      <th>invtrust_1</th>\n",
       "      <th>pension_1</th>\n",
       "      <th>privequity_1</th>\n",
       "      <th>bank_1</th>\n",
       "      <th>insurance_1</th>\n",
       "      <th>financeetc_1</th>\n",
       "      <th>...</th>\n",
       "      <th>high_2</th>\n",
       "      <th>low_2</th>\n",
       "      <th>close_2</th>\n",
       "      <th>vol_2</th>\n",
       "      <th>weekday</th>\n",
       "      <th>cr_00</th>\n",
       "      <th>cr_05</th>\n",
       "      <th>cr_10</th>\n",
       "      <th>cr_15</th>\n",
       "      <th>cr_20</th>\n",
       "    </tr>\n",
       "  </thead>\n",
       "  <tbody>\n",
       "    <tr>\n",
       "      <th>2023-08-07</th>\n",
       "      <td>-0.25391</td>\n",
       "      <td>0.60052</td>\n",
       "      <td>-0.51181</td>\n",
       "      <td>-0.75579</td>\n",
       "      <td>-58.52941</td>\n",
       "      <td>0.36171</td>\n",
       "      <td>-0.78625</td>\n",
       "      <td>-0.26564</td>\n",
       "      <td>5.85619</td>\n",
       "      <td>-0.86805</td>\n",
       "      <td>...</td>\n",
       "      <td>-0.02676</td>\n",
       "      <td>-0.02292</td>\n",
       "      <td>-0.02289</td>\n",
       "      <td>-0.10660</td>\n",
       "      <td>4</td>\n",
       "      <td>1</td>\n",
       "      <td>0</td>\n",
       "      <td>0</td>\n",
       "      <td>0</td>\n",
       "      <td>0</td>\n",
       "    </tr>\n",
       "    <tr>\n",
       "      <th>2023-08-08</th>\n",
       "      <td>-1.08907</td>\n",
       "      <td>-1.98270</td>\n",
       "      <td>-0.18187</td>\n",
       "      <td>0.76839</td>\n",
       "      <td>-0.07198</td>\n",
       "      <td>-0.51251</td>\n",
       "      <td>-7.48611</td>\n",
       "      <td>0.19478</td>\n",
       "      <td>-1.20537</td>\n",
       "      <td>4.14189</td>\n",
       "      <td>...</td>\n",
       "      <td>-0.01425</td>\n",
       "      <td>-0.01314</td>\n",
       "      <td>-0.00436</td>\n",
       "      <td>-0.45395</td>\n",
       "      <td>0</td>\n",
       "      <td>0</td>\n",
       "      <td>0</td>\n",
       "      <td>0</td>\n",
       "      <td>0</td>\n",
       "      <td>0</td>\n",
       "    </tr>\n",
       "    <tr>\n",
       "      <th>2023-08-09</th>\n",
       "      <td>-11.18620</td>\n",
       "      <td>-1.19248</td>\n",
       "      <td>0.99764</td>\n",
       "      <td>0.33479</td>\n",
       "      <td>0.56820</td>\n",
       "      <td>1.67930</td>\n",
       "      <td>-0.79156</td>\n",
       "      <td>1.81951</td>\n",
       "      <td>-3.69992</td>\n",
       "      <td>-1.04249</td>\n",
       "      <td>...</td>\n",
       "      <td>0.00000</td>\n",
       "      <td>-0.01173</td>\n",
       "      <td>-0.01025</td>\n",
       "      <td>0.18645</td>\n",
       "      <td>1</td>\n",
       "      <td>1</td>\n",
       "      <td>1</td>\n",
       "      <td>1</td>\n",
       "      <td>1</td>\n",
       "      <td>0</td>\n",
       "    </tr>\n",
       "    <tr>\n",
       "      <th>2023-08-10</th>\n",
       "      <td>-1.74746</td>\n",
       "      <td>-13.97082</td>\n",
       "      <td>-0.29717</td>\n",
       "      <td>0.13852</td>\n",
       "      <td>-1.56432</td>\n",
       "      <td>-0.76436</td>\n",
       "      <td>-1.56308</td>\n",
       "      <td>-1.03769</td>\n",
       "      <td>-1.27683</td>\n",
       "      <td>-0.69072</td>\n",
       "      <td>...</td>\n",
       "      <td>0.00578</td>\n",
       "      <td>0.00444</td>\n",
       "      <td>0.00584</td>\n",
       "      <td>0.57357</td>\n",
       "      <td>2</td>\n",
       "      <td>0</td>\n",
       "      <td>0</td>\n",
       "      <td>0</td>\n",
       "      <td>0</td>\n",
       "      <td>0</td>\n",
       "    </tr>\n",
       "    <tr>\n",
       "      <th>2023-08-11</th>\n",
       "      <td>-2.00483</td>\n",
       "      <td>-1.32443</td>\n",
       "      <td>-0.52065</td>\n",
       "      <td>-1.03302</td>\n",
       "      <td>-4.32483</td>\n",
       "      <td>1.82529</td>\n",
       "      <td>0.60376</td>\n",
       "      <td>-16.12329</td>\n",
       "      <td>5.91843</td>\n",
       "      <td>-1.23333</td>\n",
       "      <td>...</td>\n",
       "      <td>-0.00868</td>\n",
       "      <td>0.00593</td>\n",
       "      <td>0.00592</td>\n",
       "      <td>-0.30463</td>\n",
       "      <td>3</td>\n",
       "      <td>0</td>\n",
       "      <td>0</td>\n",
       "      <td>0</td>\n",
       "      <td>0</td>\n",
       "      <td>0</td>\n",
       "    </tr>\n",
       "  </tbody>\n",
       "</table>\n",
       "<p>5 rows × 114 columns</p>\n",
       "</div>"
      ],
      "text/plain": [
       "            retail_1  foreigner_1  institution_1  financial_1  invtrust_1  \\\n",
       "2023-08-07  -0.25391      0.60052       -0.51181     -0.75579   -58.52941   \n",
       "2023-08-08  -1.08907     -1.98270       -0.18187      0.76839    -0.07198   \n",
       "2023-08-09 -11.18620     -1.19248        0.99764      0.33479     0.56820   \n",
       "2023-08-10  -1.74746    -13.97082       -0.29717      0.13852    -1.56432   \n",
       "2023-08-11  -2.00483     -1.32443       -0.52065     -1.03302    -4.32483   \n",
       "\n",
       "            pension_1  privequity_1    bank_1  insurance_1  financeetc_1  ...  \\\n",
       "2023-08-07    0.36171      -0.78625  -0.26564      5.85619      -0.86805  ...   \n",
       "2023-08-08   -0.51251      -7.48611   0.19478     -1.20537       4.14189  ...   \n",
       "2023-08-09    1.67930      -0.79156   1.81951     -3.69992      -1.04249  ...   \n",
       "2023-08-10   -0.76436      -1.56308  -1.03769     -1.27683      -0.69072  ...   \n",
       "2023-08-11    1.82529       0.60376 -16.12329      5.91843      -1.23333  ...   \n",
       "\n",
       "             high_2    low_2  close_2    vol_2  weekday  cr_00 cr_05 cr_10  \\\n",
       "2023-08-07 -0.02676 -0.02292 -0.02289 -0.10660        4      1     0     0   \n",
       "2023-08-08 -0.01425 -0.01314 -0.00436 -0.45395        0      0     0     0   \n",
       "2023-08-09  0.00000 -0.01173 -0.01025  0.18645        1      1     1     1   \n",
       "2023-08-10  0.00578  0.00444  0.00584  0.57357        2      0     0     0   \n",
       "2023-08-11 -0.00868  0.00593  0.00592 -0.30463        3      0     0     0   \n",
       "\n",
       "            cr_15  cr_20  \n",
       "2023-08-07      0      0  \n",
       "2023-08-08      0      0  \n",
       "2023-08-09      1      0  \n",
       "2023-08-10      0      0  \n",
       "2023-08-11      0      0  \n",
       "\n",
       "[5 rows x 114 columns]"
      ]
     },
     "execution_count": 20,
     "metadata": {},
     "output_type": "execute_result"
    }
   ],
   "source": [
    "df_sec_combine.tail()"
   ]
  },
  {
   "cell_type": "code",
   "execution_count": 21,
   "id": "bf7224df",
   "metadata": {},
   "outputs": [],
   "source": [
    "nanlo = locate_nan(df_sec_combine)  # nan 위치 찾기"
   ]
  },
  {
   "cell_type": "code",
   "execution_count": 22,
   "id": "2f63d7f5",
   "metadata": {},
   "outputs": [
    {
     "name": "stdout",
     "output_type": "stream",
     "text": [
      "[[datetime.date(2022, 1, 18) 'dji_cr']\n",
      " [datetime.date(2022, 1, 18) 'dji_f_cr']\n",
      " [datetime.date(2022, 1, 18) 'dxy_cr']\n",
      " ...\n",
      " [datetime.date(2023, 8, 11) 'ixut_cr_2']\n",
      " [datetime.date(2023, 8, 11) 'nbi_cr_2']\n",
      " [datetime.date(2023, 8, 11) 'bkx_cr_2']]\n"
     ]
    }
   ],
   "source": [
    "print(nanlo)"
   ]
  },
  {
   "cell_type": "code",
   "execution_count": 23,
   "id": "21a6d628",
   "metadata": {},
   "outputs": [],
   "source": [
    "# delete rows which include NaN : dji, spx, nasdaq 기타 common 지수중 한개라도 nan인 rows 제거\n",
    "for key, val in code.items():\n",
    "    globals()['df_{}_combine'.format(val[1])].dropna(inplace=True)"
   ]
  },
  {
   "cell_type": "code",
   "execution_count": 24,
   "id": "c6f3061c",
   "metadata": {},
   "outputs": [],
   "source": [
    "# string column을 numeric으로 전환\n",
    "def string_to_num(df):\n",
    "    df.replace('%', '', regex=True, inplace=True)\n",
    "    df = df.apply(pd.to_numeric)\n",
    "    return df\n",
    "\n",
    "for key, val in code.items():\n",
    "    globals()['df_{}_combine'.format(val[1])] = string_to_num(globals()['df_{}_combine'.format(val[1])])"
   ]
  },
  {
   "cell_type": "code",
   "execution_count": 25,
   "id": "7e8d5acf",
   "metadata": {},
   "outputs": [],
   "source": [
    "# pickle로 데이터 저장\n",
    "\n",
    "for key, val in code.items():\n",
    "    globals()[f'df_{val[1]}_combine'].to_pickle(directory_for_predict + f'df_{val[1]}_combine.pkl')\n",
    "    globals()[f'df_{val[1]}_combine'].to_csv(directory_for_predict + f'df_{val[1]}_combine.csv')"
   ]
  },
  {
   "cell_type": "code",
   "execution_count": null,
   "id": "a01825d3",
   "metadata": {},
   "outputs": [],
   "source": []
  },
  {
   "cell_type": "code",
   "execution_count": null,
   "id": "a1f7c9d1",
   "metadata": {},
   "outputs": [],
   "source": []
  },
  {
   "cell_type": "code",
   "execution_count": null,
   "id": "bc80b897",
   "metadata": {},
   "outputs": [],
   "source": []
  }
 ],
 "metadata": {
  "kernelspec": {
   "display_name": "Python 3 (ipykernel)",
   "language": "python",
   "name": "python3"
  },
  "language_info": {
   "codemirror_mode": {
    "name": "ipython",
    "version": 3
   },
   "file_extension": ".py",
   "mimetype": "text/x-python",
   "name": "python",
   "nbconvert_exporter": "python",
   "pygments_lexer": "ipython3",
   "version": "3.10.7"
  }
 },
 "nbformat": 4,
 "nbformat_minor": 5
}
