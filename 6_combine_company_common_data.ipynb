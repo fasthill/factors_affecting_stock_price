{
 "cells": [
  {
   "cell_type": "markdown",
   "id": "459ff0ca",
   "metadata": {},
   "source": [
    "## combine company data and common data"
   ]
  },
  {
   "cell_type": "code",
   "execution_count": 1,
   "id": "d3b5a935",
   "metadata": {},
   "outputs": [],
   "source": [
    "import datetime, time\n",
    "from datetime import date\n",
    "\n",
    "import pandas as pd\n",
    "import numpy as np\n",
    "import os\n",
    "import sys\n",
    "\n",
    "from sklearn.preprocessing import StandardScaler"
   ]
  },
  {
   "cell_type": "code",
   "execution_count": 2,
   "id": "8ef51f99",
   "metadata": {},
   "outputs": [],
   "source": [
    "module_path = os.path.abspath(os.path.join('.')) \n",
    "sys.path.append(module_path+\"\\\\data\\\\constant\")\n",
    "\n",
    "from constants import COMPANY_CODE"
   ]
  },
  {
   "cell_type": "code",
   "execution_count": 3,
   "id": "9ea60572",
   "metadata": {},
   "outputs": [
    {
     "data": {
      "text/plain": [
       "\" \\n[[datetime.date(2022, 1, 17) 'dji_cr']\\n [datetime.date(2022, 1, 17) 'dji_f_cr']\\n ...\\n [datetime.date(2023, 5, 23) 'kosdaq_cr']\\n [datetime.date(2023, 5, 23) 'kosdaq_cr_2']]\\n\""
      ]
     },
     "execution_count": 3,
     "metadata": {},
     "output_type": "execute_result"
    }
   ],
   "source": [
    "def locate_nan(df):\n",
    "    idx, idy = np.where(pd.isnull(df))\n",
    "    result = np.column_stack([df.index[idx], df.columns[idy]])\n",
    "    return result\n",
    "\n",
    "# return format\n",
    "''' \n",
    "[[datetime.date(2022, 1, 17) 'dji_cr']\n",
    " [datetime.date(2022, 1, 17) 'dji_f_cr']\n",
    " ...\n",
    " [datetime.date(2023, 5, 23) 'kosdaq_cr']\n",
    " [datetime.date(2023, 5, 23) 'kosdaq_cr_2']]\n",
    "'''"
   ]
  },
  {
   "cell_type": "code",
   "execution_count": 4,
   "id": "d6f9e0c8",
   "metadata": {},
   "outputs": [],
   "source": [
    "code = COMPANY_CODE\n",
    "\n",
    "# code = {'005930': ['삼성전자', 'sec'], '005380': ['현대차', 'hyunmotor'],\n",
    "#                  '035420': ['NAVER', 'naver'], '033780': ['KT&G', 'ktng']}\n",
    "# code = {'005930': ['삼성전자', 'sec'], '000660': ['SK하이닉스', 'skhynix']}\n",
    "# code = {'302440': ['SK바이오사이언스', 'skbio']}"
   ]
  },
  {
   "cell_type": "code",
   "execution_count": 5,
   "id": "1ced9635",
   "metadata": {},
   "outputs": [],
   "source": [
    "directory_for_predict = './data/data_for_ml/predict/'\n",
    "pkl_common_directory = './data/common_pkl/'\n",
    "pkl_directory = './data/common_pkl/'"
   ]
  },
  {
   "cell_type": "code",
   "execution_count": 6,
   "id": "a4ac3c16",
   "metadata": {},
   "outputs": [],
   "source": [
    "df_common = pd.read_pickle(directory_for_predict + '0_df_common.pkl')"
   ]
  },
  {
   "cell_type": "code",
   "execution_count": 7,
   "id": "82d5ae58",
   "metadata": {},
   "outputs": [],
   "source": [
    "for key, val in code.items():\n",
    "    df_company = pd.read_pickle(directory_for_predict + f'df_{val[1]}_company.pkl')\n",
    "    df_company = df_company.merge(df_common, how='left', left_index=True, right_index=True)\n",
    "    globals()[f'df_{val[1]}_combine'] = df_company.copy()"
   ]
  },
  {
   "cell_type": "code",
   "execution_count": 8,
   "id": "6c798e31",
   "metadata": {},
   "outputs": [
    {
     "data": {
      "text/html": [
       "<div>\n",
       "<style scoped>\n",
       "    .dataframe tbody tr th:only-of-type {\n",
       "        vertical-align: middle;\n",
       "    }\n",
       "\n",
       "    .dataframe tbody tr th {\n",
       "        vertical-align: top;\n",
       "    }\n",
       "\n",
       "    .dataframe thead th {\n",
       "        text-align: right;\n",
       "    }\n",
       "</style>\n",
       "<table border=\"1\" class=\"dataframe\">\n",
       "  <thead>\n",
       "    <tr style=\"text-align: right;\">\n",
       "      <th></th>\n",
       "      <th>retail_1</th>\n",
       "      <th>foreigner_1</th>\n",
       "      <th>institution_1</th>\n",
       "      <th>financial_1</th>\n",
       "      <th>invtrust_1</th>\n",
       "      <th>pension_1</th>\n",
       "      <th>privequity_1</th>\n",
       "      <th>bank_1</th>\n",
       "      <th>insurance_1</th>\n",
       "      <th>financeetc_1</th>\n",
       "      <th>...</th>\n",
       "      <th>ixk_cr</th>\n",
       "      <th>ixk_cr_2</th>\n",
       "      <th>ixtr_cr</th>\n",
       "      <th>ixtr_cr_2</th>\n",
       "      <th>ixut_cr</th>\n",
       "      <th>ixut_cr_2</th>\n",
       "      <th>nbi_cr</th>\n",
       "      <th>nbi_cr_2</th>\n",
       "      <th>bkx_cr</th>\n",
       "      <th>bkx_cr_2</th>\n",
       "    </tr>\n",
       "  </thead>\n",
       "  <tbody>\n",
       "    <tr>\n",
       "      <th>2024-07-16</th>\n",
       "      <td>-0.65185</td>\n",
       "      <td>-2.34764</td>\n",
       "      <td>-0.41997</td>\n",
       "      <td>-0.71034</td>\n",
       "      <td>2.74501</td>\n",
       "      <td>-0.67369</td>\n",
       "      <td>-0.43207</td>\n",
       "      <td>-0.22691</td>\n",
       "      <td>-0.29367</td>\n",
       "      <td>-0.98551</td>\n",
       "      <td>...</td>\n",
       "      <td>0.45%</td>\n",
       "      <td>1.00266</td>\n",
       "      <td>1.83%</td>\n",
       "      <td>2.25650</td>\n",
       "      <td>1.21%</td>\n",
       "      <td>2.37151</td>\n",
       "      <td>0.23%</td>\n",
       "      <td>0.93891</td>\n",
       "      <td>1.71%</td>\n",
       "      <td>1.45804</td>\n",
       "    </tr>\n",
       "    <tr>\n",
       "      <th>2024-07-17</th>\n",
       "      <td>-2.30087</td>\n",
       "      <td>0.62413</td>\n",
       "      <td>-1.31114</td>\n",
       "      <td>-2.34496</td>\n",
       "      <td>-0.96209</td>\n",
       "      <td>-0.30786</td>\n",
       "      <td>-1.10149</td>\n",
       "      <td>-0.99317</td>\n",
       "      <td>-1.04033</td>\n",
       "      <td>191.00000</td>\n",
       "      <td>...</td>\n",
       "      <td>-0.55%</td>\n",
       "      <td>-0.09905</td>\n",
       "      <td>3.58%</td>\n",
       "      <td>5.47566</td>\n",
       "      <td>0.95%</td>\n",
       "      <td>2.16358</td>\n",
       "      <td>1.66%</td>\n",
       "      <td>1.90069</td>\n",
       "      <td>3.02%</td>\n",
       "      <td>4.78029</td>\n",
       "    </tr>\n",
       "    <tr>\n",
       "      <th>2024-07-18</th>\n",
       "      <td>-2.20541</td>\n",
       "      <td>-1.75020</td>\n",
       "      <td>-2.93545</td>\n",
       "      <td>-0.47411</td>\n",
       "      <td>15.35363</td>\n",
       "      <td>5.67766</td>\n",
       "      <td>-8.02479</td>\n",
       "      <td>263.50000</td>\n",
       "      <td>-15.22059</td>\n",
       "      <td>-0.57292</td>\n",
       "      <td>...</td>\n",
       "      <td>-3.82%</td>\n",
       "      <td>-4.34703</td>\n",
       "      <td>-1.27%</td>\n",
       "      <td>2.26931</td>\n",
       "      <td>1.28%</td>\n",
       "      <td>2.23960</td>\n",
       "      <td>-1.00%</td>\n",
       "      <td>0.64826</td>\n",
       "      <td>0.61%</td>\n",
       "      <td>3.64244</td>\n",
       "    </tr>\n",
       "    <tr>\n",
       "      <th>2024-07-19</th>\n",
       "      <td>0.66700</td>\n",
       "      <td>-1.49705</td>\n",
       "      <td>2.29240</td>\n",
       "      <td>-5.87073</td>\n",
       "      <td>-0.39768</td>\n",
       "      <td>0.24648</td>\n",
       "      <td>1.72729</td>\n",
       "      <td>0.95652</td>\n",
       "      <td>-0.25233</td>\n",
       "      <td>2.78049</td>\n",
       "      <td>...</td>\n",
       "      <td>-0.31%</td>\n",
       "      <td>-4.11148</td>\n",
       "      <td>-1.07%</td>\n",
       "      <td>-2.32726</td>\n",
       "      <td>-1.13%</td>\n",
       "      <td>0.13282</td>\n",
       "      <td>-1.46%</td>\n",
       "      <td>-2.44352</td>\n",
       "      <td>-1.87%</td>\n",
       "      <td>-1.27216</td>\n",
       "    </tr>\n",
       "    <tr>\n",
       "      <th>2024-07-22</th>\n",
       "      <td>-0.80316</td>\n",
       "      <td>2.25079</td>\n",
       "      <td>-0.48699</td>\n",
       "      <td>-1.01821</td>\n",
       "      <td>-0.27104</td>\n",
       "      <td>0.70232</td>\n",
       "      <td>-0.59969</td>\n",
       "      <td>-0.29662</td>\n",
       "      <td>-0.83126</td>\n",
       "      <td>-2.48387</td>\n",
       "      <td>...</td>\n",
       "      <td>NaN</td>\n",
       "      <td>NaN</td>\n",
       "      <td>NaN</td>\n",
       "      <td>NaN</td>\n",
       "      <td>NaN</td>\n",
       "      <td>NaN</td>\n",
       "      <td>NaN</td>\n",
       "      <td>NaN</td>\n",
       "      <td>NaN</td>\n",
       "      <td>NaN</td>\n",
       "    </tr>\n",
       "  </tbody>\n",
       "</table>\n",
       "<p>5 rows × 114 columns</p>\n",
       "</div>"
      ],
      "text/plain": [
       "            retail_1  foreigner_1  institution_1  financial_1  invtrust_1  \\\n",
       "2024-07-16  -0.65185     -2.34764       -0.41997     -0.71034     2.74501   \n",
       "2024-07-17  -2.30087      0.62413       -1.31114     -2.34496    -0.96209   \n",
       "2024-07-18  -2.20541     -1.75020       -2.93545     -0.47411    15.35363   \n",
       "2024-07-19   0.66700     -1.49705        2.29240     -5.87073    -0.39768   \n",
       "2024-07-22  -0.80316      2.25079       -0.48699     -1.01821    -0.27104   \n",
       "\n",
       "            pension_1  privequity_1     bank_1  insurance_1  financeetc_1  \\\n",
       "2024-07-16   -0.67369      -0.43207   -0.22691     -0.29367      -0.98551   \n",
       "2024-07-17   -0.30786      -1.10149   -0.99317     -1.04033     191.00000   \n",
       "2024-07-18    5.67766      -8.02479  263.50000    -15.22059      -0.57292   \n",
       "2024-07-19    0.24648       1.72729    0.95652     -0.25233       2.78049   \n",
       "2024-07-22    0.70232      -0.59969   -0.29662     -0.83126      -2.48387   \n",
       "\n",
       "            ...  ixk_cr  ixk_cr_2  ixtr_cr  ixtr_cr_2  ixut_cr  ixut_cr_2  \\\n",
       "2024-07-16  ...   0.45%   1.00266    1.83%    2.25650    1.21%    2.37151   \n",
       "2024-07-17  ...  -0.55%  -0.09905    3.58%    5.47566    0.95%    2.16358   \n",
       "2024-07-18  ...  -3.82%  -4.34703   -1.27%    2.26931    1.28%    2.23960   \n",
       "2024-07-19  ...  -0.31%  -4.11148   -1.07%   -2.32726   -1.13%    0.13282   \n",
       "2024-07-22  ...     NaN       NaN      NaN        NaN      NaN        NaN   \n",
       "\n",
       "            nbi_cr  nbi_cr_2  bkx_cr  bkx_cr_2  \n",
       "2024-07-16   0.23%   0.93891   1.71%   1.45804  \n",
       "2024-07-17   1.66%   1.90069   3.02%   4.78029  \n",
       "2024-07-18  -1.00%   0.64826   0.61%   3.64244  \n",
       "2024-07-19  -1.46%  -2.44352  -1.87%  -1.27216  \n",
       "2024-07-22     NaN       NaN     NaN       NaN  \n",
       "\n",
       "[5 rows x 114 columns]"
      ]
     },
     "execution_count": 8,
     "metadata": {},
     "output_type": "execute_result"
    }
   ],
   "source": [
    "df_hyunmotor_combine.tail()"
   ]
  },
  {
   "cell_type": "code",
   "execution_count": 9,
   "id": "aeab3342",
   "metadata": {},
   "outputs": [
    {
     "data": {
      "text/plain": [
       "datetime.date(2022, 1, 7)"
      ]
     },
     "execution_count": 9,
     "metadata": {},
     "output_type": "execute_result"
    }
   ],
   "source": [
    "df_hyunmotor_combine.index[0]"
   ]
  },
  {
   "cell_type": "code",
   "execution_count": 10,
   "id": "587ac2cd",
   "metadata": {},
   "outputs": [],
   "source": [
    "col_inv1 = ['retail_1', 'foreigner_1', 'institution_1', 'financial_1', 'invtrust_1', 'pension_1', 'privequity_1', \n",
    "            'bank_1', 'insurance_1', 'financeetc_1', 'corporateetc_1', 'foreigneretc_1']\n",
    "col_inv2 = ['retail_2', 'foreigner_2', 'institution_2', 'financial_2', 'invtrust_2', 'pension_2',\n",
    "            'privequity_2', 'bank_2', 'insurance_2', 'financeetc_2', 'corporateetc_2', 'foreigneretc_2']"
   ]
  },
  {
   "cell_type": "code",
   "execution_count": 11,
   "id": "76ca8389",
   "metadata": {},
   "outputs": [],
   "source": [
    "col_his1 = ['open_1', 'high_1', 'low_1', 'close_1', 'vol_1']\n",
    "col_his2 = ['open_2', 'high_2', 'low_2', 'close_2', 'vol_2']"
   ]
  },
  {
   "cell_type": "code",
   "execution_count": 12,
   "id": "8a6b4bac",
   "metadata": {},
   "outputs": [],
   "source": [
    "col_common1 = [\"dji_cr\", \"dji_f_cr\", \"dxy_cr\", \"ixic_f_cr\", \"bond_kor_10_cr\", \"bond_kor_2_cr\", \"kosdaq_cr\", \"kospi_cr\", \n",
    "         \"krw_cr\", \"ixic_cr\", \"spx_f_cr\", \"sox_cr\", \"spx_cr\", \"bond_usa_10_cr\", \"bond_usa_2_cr\", \"bond_usa_3m_cr\", \n",
    "         \"vix_cr\", \"wti_cr\", \"spsy_cr\", \"spny_cr\", \"spxhc_cr\", \"splrcd_cr\", \"splrci_cr\", \"splrcu_cr\", \"splrcs_cr\",\n",
    "         \"splrct_cr\", \"splrcl_cr\", \"splrcm_cr\", \"ixbk_cr\", \"ixfn_cr\", \"ixid_cr\", \"ixis_cr\", \"ixk_cr\", \"ixtr_cr\",\n",
    "         \"ixut_cr\", \"nbi_cr\", \"bkx_cr\"]\n",
    "col_common2 = [\"dji_cr_2\", \"dji_f_cr_2\", \"dxy_cr_2\", \"ixic_f_cr_2\", \"bond_kor_10_cr_2\", \"bond_kor_2_cr_2\", \"kosdaq_cr_2\", \"kospi_cr_2\",\n",
    "         \"krw_cr_2\", \"ixic_cr_2\", \"spx_f_cr_2\", \"sox_cr_2\", \"spx_cr_2\", \"bond_usa_10_cr_2\", \"bond_usa_2_cr_2\", \"bond_usa_3m_cr_2\",\n",
    "         \"vix_cr_2\", \"wti_cr_2\", \"spsy_cr_2\", \"spny_cr_2\", \"spxhc_cr_2\", \"splrcd_cr_2\", \"splrci_cr_2\", \"splrcu_cr_2\",\n",
    "         \"splrcs_cr_2\", \"splrct_cr_2\", \"splrcl_cr_2\", \"splrcm_cr_2\", \"ixbk_cr_2\", \"ixfn_cr_2\", \"ixid_cr_2\",\n",
    "         \"ixis_cr_2\", \"ixk_cr_2\", \"ixtr_cr_2\", \"ixut_cr_2\", \"nbi_cr_2\", \"bkx_cr_2\"]"
   ]
  },
  {
   "cell_type": "code",
   "execution_count": 13,
   "id": "9a595935",
   "metadata": {},
   "outputs": [],
   "source": [
    "col_cr = ['weekday', 'cr_00', 'cr_05', 'cr_10', 'cr_15', 'cr_20']"
   ]
  },
  {
   "cell_type": "code",
   "execution_count": 14,
   "id": "75ec6070",
   "metadata": {},
   "outputs": [],
   "source": [
    "col_col = col_inv1 + col_common1 + col_his1 + col_inv2 + col_common2 + col_his2 + col_cr"
   ]
  },
  {
   "cell_type": "code",
   "execution_count": 15,
   "id": "ff6769da",
   "metadata": {},
   "outputs": [],
   "source": [
    "# # write common data only\n",
    "# df_temp = df_common.copy()\n",
    "# df_temp = df_temp[col_common1+col_common2]\n",
    "# pkl_common_directory = './data/common_pkl/'\n",
    "# df_temp.to_pickle(pkl_common_directory + 'df_common.pkl')\n",
    "# df_temp.to_csv(pkl_common_directory + 'df_common.csv')"
   ]
  },
  {
   "cell_type": "code",
   "execution_count": 16,
   "id": "c78c8f82",
   "metadata": {},
   "outputs": [],
   "source": [
    "new_columns = col_col"
   ]
  },
  {
   "cell_type": "code",
   "execution_count": 17,
   "id": "02da1256",
   "metadata": {},
   "outputs": [],
   "source": [
    "# column 순서 변경 : weekday, 'cr_00', 'cr_05', 'cr_10', 'cr_15', 'cr_20' column을 마지막으로 이동 \n",
    "for key, val in code.items():\n",
    "    globals()['df_{}_combine'.format(val[1])] = globals()['df_{}_combine'.format(val[1])][new_columns]"
   ]
  },
  {
   "cell_type": "code",
   "execution_count": 18,
   "id": "d4f1fa06",
   "metadata": {},
   "outputs": [
    {
     "data": {
      "text/plain": [
       "'\\n# drop inf, -inf : replace inf to 1 or -1 . 데이터를 살리고\\n# 변동률이 무한대가 되는 것을 방지하기 위해서, 나중에 발생하는 에러를 방지\\ndf_sec_sel.replace([np.inf, -np.inf], [1, -1], inplace=True)\\n\\n.impute 사용하는 것을 고려할 필요 있음.\\n'"
      ]
     },
     "execution_count": 18,
     "metadata": {},
     "output_type": "execute_result"
    }
   ],
   "source": [
    "'''\n",
    "# drop inf, -inf : replace inf to 1 or -1 . 데이터를 살리고\n",
    "# 변동률이 무한대가 되는 것을 방지하기 위해서, 나중에 발생하는 에러를 방지\n",
    "df_sec_sel.replace([np.inf, -np.inf], [1, -1], inplace=True)\n",
    "\n",
    ".impute 사용하는 것을 고려할 필요 있음.\n",
    "'''"
   ]
  },
  {
   "cell_type": "code",
   "execution_count": 19,
   "id": "7e91c1c5",
   "metadata": {},
   "outputs": [],
   "source": [
    "# drop inf, -inf : replace inf to 1 or -1 . 데이터를 살리고\n",
    "# 변동률이 무한대가 되는 것을 방지하기 위해서, 나중에 발생하는 에러를 방지\n",
    "for key, val in code.items():\n",
    "    globals()['df_{}_combine'.format(val[1])].replace([np.inf, -np.inf], [1, -1], inplace=True)\n",
    "\n",
    "# **** 데이터 전처리 from sklearn.impute import SimpleImputer, SimpleImputer 사용하기로 함."
   ]
  },
  {
   "cell_type": "code",
   "execution_count": 20,
   "id": "3fa3914b",
   "metadata": {},
   "outputs": [
    {
     "data": {
      "text/html": [
       "<div>\n",
       "<style scoped>\n",
       "    .dataframe tbody tr th:only-of-type {\n",
       "        vertical-align: middle;\n",
       "    }\n",
       "\n",
       "    .dataframe tbody tr th {\n",
       "        vertical-align: top;\n",
       "    }\n",
       "\n",
       "    .dataframe thead th {\n",
       "        text-align: right;\n",
       "    }\n",
       "</style>\n",
       "<table border=\"1\" class=\"dataframe\">\n",
       "  <thead>\n",
       "    <tr style=\"text-align: right;\">\n",
       "      <th></th>\n",
       "      <th>retail_1</th>\n",
       "      <th>foreigner_1</th>\n",
       "      <th>institution_1</th>\n",
       "      <th>financial_1</th>\n",
       "      <th>invtrust_1</th>\n",
       "      <th>pension_1</th>\n",
       "      <th>privequity_1</th>\n",
       "      <th>bank_1</th>\n",
       "      <th>insurance_1</th>\n",
       "      <th>financeetc_1</th>\n",
       "      <th>...</th>\n",
       "      <th>high_2</th>\n",
       "      <th>low_2</th>\n",
       "      <th>close_2</th>\n",
       "      <th>vol_2</th>\n",
       "      <th>weekday</th>\n",
       "      <th>cr_00</th>\n",
       "      <th>cr_05</th>\n",
       "      <th>cr_10</th>\n",
       "      <th>cr_15</th>\n",
       "      <th>cr_20</th>\n",
       "    </tr>\n",
       "  </thead>\n",
       "  <tbody>\n",
       "    <tr>\n",
       "      <th>2024-07-16</th>\n",
       "      <td>-1.96527</td>\n",
       "      <td>-0.81066</td>\n",
       "      <td>25.70404</td>\n",
       "      <td>3.07335</td>\n",
       "      <td>-0.53015</td>\n",
       "      <td>0.89057</td>\n",
       "      <td>-0.76665</td>\n",
       "      <td>-2.36577</td>\n",
       "      <td>-0.95319</td>\n",
       "      <td>-1.00156</td>\n",
       "      <td>...</td>\n",
       "      <td>-0.01689</td>\n",
       "      <td>-0.02999</td>\n",
       "      <td>-0.01027</td>\n",
       "      <td>0.02089</td>\n",
       "      <td>0</td>\n",
       "      <td>1</td>\n",
       "      <td>1</td>\n",
       "      <td>1</td>\n",
       "      <td>0</td>\n",
       "      <td>0</td>\n",
       "    </tr>\n",
       "    <tr>\n",
       "      <th>2024-07-17</th>\n",
       "      <td>-0.16645</td>\n",
       "      <td>-4.05418</td>\n",
       "      <td>-0.84171</td>\n",
       "      <td>-0.87034</td>\n",
       "      <td>-1.75844</td>\n",
       "      <td>-0.33317</td>\n",
       "      <td>-3.00552</td>\n",
       "      <td>0.81266</td>\n",
       "      <td>0.49352</td>\n",
       "      <td>93.00000</td>\n",
       "      <td>...</td>\n",
       "      <td>0.02207</td>\n",
       "      <td>0.03092</td>\n",
       "      <td>0.03910</td>\n",
       "      <td>-0.38633</td>\n",
       "      <td>1</td>\n",
       "      <td>0</td>\n",
       "      <td>0</td>\n",
       "      <td>0</td>\n",
       "      <td>0</td>\n",
       "      <td>0</td>\n",
       "    </tr>\n",
       "    <tr>\n",
       "      <th>2024-07-18</th>\n",
       "      <td>-0.86006</td>\n",
       "      <td>-0.79908</td>\n",
       "      <td>-1.48013</td>\n",
       "      <td>0.56152</td>\n",
       "      <td>-0.28227</td>\n",
       "      <td>5.55699</td>\n",
       "      <td>-1.61006</td>\n",
       "      <td>-1.70742</td>\n",
       "      <td>0.20989</td>\n",
       "      <td>1.12340</td>\n",
       "      <td>...</td>\n",
       "      <td>0.00802</td>\n",
       "      <td>0.02735</td>\n",
       "      <td>0.00000</td>\n",
       "      <td>-0.27812</td>\n",
       "      <td>2</td>\n",
       "      <td>1</td>\n",
       "      <td>0</td>\n",
       "      <td>0</td>\n",
       "      <td>0</td>\n",
       "      <td>0</td>\n",
       "    </tr>\n",
       "    <tr>\n",
       "      <th>2024-07-19</th>\n",
       "      <td>0.25351</td>\n",
       "      <td>-3.13723</td>\n",
       "      <td>-6.79977</td>\n",
       "      <td>1.60815</td>\n",
       "      <td>-1.51979</td>\n",
       "      <td>-0.80243</td>\n",
       "      <td>6.13885</td>\n",
       "      <td>0.07613</td>\n",
       "      <td>-0.85376</td>\n",
       "      <td>-4.48497</td>\n",
       "      <td>...</td>\n",
       "      <td>-0.01250</td>\n",
       "      <td>-0.03345</td>\n",
       "      <td>-0.00912</td>\n",
       "      <td>0.52918</td>\n",
       "      <td>3</td>\n",
       "      <td>0</td>\n",
       "      <td>0</td>\n",
       "      <td>0</td>\n",
       "      <td>0</td>\n",
       "      <td>0</td>\n",
       "    </tr>\n",
       "    <tr>\n",
       "      <th>2024-07-22</th>\n",
       "      <td>-10.97975</td>\n",
       "      <td>2.24600</td>\n",
       "      <td>-1.94743</td>\n",
       "      <td>-1.13841</td>\n",
       "      <td>2.07838</td>\n",
       "      <td>3.19454</td>\n",
       "      <td>-0.80247</td>\n",
       "      <td>-0.12428</td>\n",
       "      <td>12.07353</td>\n",
       "      <td>-1.00000</td>\n",
       "      <td>...</td>\n",
       "      <td>-0.02159</td>\n",
       "      <td>-0.02662</td>\n",
       "      <td>-0.02653</td>\n",
       "      <td>0.00584</td>\n",
       "      <td>4</td>\n",
       "      <td>0</td>\n",
       "      <td>0</td>\n",
       "      <td>0</td>\n",
       "      <td>0</td>\n",
       "      <td>0</td>\n",
       "    </tr>\n",
       "  </tbody>\n",
       "</table>\n",
       "<p>5 rows × 114 columns</p>\n",
       "</div>"
      ],
      "text/plain": [
       "            retail_1  foreigner_1  institution_1  financial_1  invtrust_1  \\\n",
       "2024-07-16  -1.96527     -0.81066       25.70404      3.07335    -0.53015   \n",
       "2024-07-17  -0.16645     -4.05418       -0.84171     -0.87034    -1.75844   \n",
       "2024-07-18  -0.86006     -0.79908       -1.48013      0.56152    -0.28227   \n",
       "2024-07-19   0.25351     -3.13723       -6.79977      1.60815    -1.51979   \n",
       "2024-07-22 -10.97975      2.24600       -1.94743     -1.13841     2.07838   \n",
       "\n",
       "            pension_1  privequity_1   bank_1  insurance_1  financeetc_1  ...  \\\n",
       "2024-07-16    0.89057      -0.76665 -2.36577     -0.95319      -1.00156  ...   \n",
       "2024-07-17   -0.33317      -3.00552  0.81266      0.49352      93.00000  ...   \n",
       "2024-07-18    5.55699      -1.61006 -1.70742      0.20989       1.12340  ...   \n",
       "2024-07-19   -0.80243       6.13885  0.07613     -0.85376      -4.48497  ...   \n",
       "2024-07-22    3.19454      -0.80247 -0.12428     12.07353      -1.00000  ...   \n",
       "\n",
       "             high_2    low_2  close_2    vol_2  weekday  cr_00 cr_05 cr_10  \\\n",
       "2024-07-16 -0.01689 -0.02999 -0.01027  0.02089        0      1     1     1   \n",
       "2024-07-17  0.02207  0.03092  0.03910 -0.38633        1      0     0     0   \n",
       "2024-07-18  0.00802  0.02735  0.00000 -0.27812        2      1     0     0   \n",
       "2024-07-19 -0.01250 -0.03345 -0.00912  0.52918        3      0     0     0   \n",
       "2024-07-22 -0.02159 -0.02662 -0.02653  0.00584        4      0     0     0   \n",
       "\n",
       "            cr_15  cr_20  \n",
       "2024-07-16      0      0  \n",
       "2024-07-17      0      0  \n",
       "2024-07-18      0      0  \n",
       "2024-07-19      0      0  \n",
       "2024-07-22      0      0  \n",
       "\n",
       "[5 rows x 114 columns]"
      ]
     },
     "execution_count": 20,
     "metadata": {},
     "output_type": "execute_result"
    }
   ],
   "source": [
    "df_sec_combine.tail()"
   ]
  },
  {
   "cell_type": "code",
   "execution_count": 21,
   "id": "bf7224df",
   "metadata": {},
   "outputs": [],
   "source": [
    "nanlo = locate_nan(df_sec_combine)  # nan 위치 찾기"
   ]
  },
  {
   "cell_type": "code",
   "execution_count": 22,
   "id": "2f63d7f5",
   "metadata": {},
   "outputs": [
    {
     "name": "stdout",
     "output_type": "stream",
     "text": [
      "[[datetime.date(2022, 1, 18) 'dji_cr']\n",
      " [datetime.date(2022, 1, 18) 'dji_f_cr']\n",
      " [datetime.date(2022, 1, 18) 'dxy_cr']\n",
      " ...\n",
      " [datetime.date(2024, 7, 22) 'ixut_cr_2']\n",
      " [datetime.date(2024, 7, 22) 'nbi_cr_2']\n",
      " [datetime.date(2024, 7, 22) 'bkx_cr_2']]\n"
     ]
    }
   ],
   "source": [
    "print(nanlo)"
   ]
  },
  {
   "cell_type": "code",
   "execution_count": 23,
   "id": "21a6d628",
   "metadata": {},
   "outputs": [],
   "source": [
    "# delete rows which include NaN : dji, spx, nasdaq 기타 common 지수중 한개라도 nan인 rows 제거\n",
    "for key, val in code.items():\n",
    "    globals()['df_{}_combine'.format(val[1])].dropna(inplace=True)"
   ]
  },
  {
   "cell_type": "code",
   "execution_count": 24,
   "id": "c6f3061c",
   "metadata": {},
   "outputs": [],
   "source": [
    "# string column을 numeric으로 전환\n",
    "def string_to_num(df):\n",
    "    df.replace('%', '', regex=True, inplace=True)\n",
    "    df = df.apply(pd.to_numeric)\n",
    "    return df\n",
    "\n",
    "for key, val in code.items():\n",
    "    globals()['df_{}_combine'.format(val[1])] = string_to_num(globals()['df_{}_combine'.format(val[1])])"
   ]
  },
  {
   "cell_type": "code",
   "execution_count": 25,
   "id": "7e8d5acf",
   "metadata": {},
   "outputs": [],
   "source": [
    "# pickle로 데이터 저장\n",
    "\n",
    "for key, val in code.items():\n",
    "    globals()[f'df_{val[1]}_combine'].to_pickle(directory_for_predict + f'df_{val[1]}_combine.pkl')\n",
    "    globals()[f'df_{val[1]}_combine'].to_csv(directory_for_predict + f'df_{val[1]}_combine.csv')"
   ]
  },
  {
   "cell_type": "code",
   "execution_count": null,
   "id": "a01825d3",
   "metadata": {},
   "outputs": [],
   "source": []
  },
  {
   "cell_type": "code",
   "execution_count": null,
   "id": "3300e5b2",
   "metadata": {},
   "outputs": [],
   "source": []
  },
  {
   "cell_type": "code",
   "execution_count": null,
   "id": "1ffeab80",
   "metadata": {},
   "outputs": [],
   "source": []
  },
  {
   "cell_type": "code",
   "execution_count": null,
   "id": "a1f7c9d1",
   "metadata": {},
   "outputs": [],
   "source": []
  },
  {
   "cell_type": "code",
   "execution_count": null,
   "id": "bc80b897",
   "metadata": {},
   "outputs": [],
   "source": []
  }
 ],
 "metadata": {
  "kernelspec": {
   "display_name": "Python 3 (ipykernel)",
   "language": "python",
   "name": "python3"
  },
  "language_info": {
   "codemirror_mode": {
    "name": "ipython",
    "version": 3
   },
   "file_extension": ".py",
   "mimetype": "text/x-python",
   "name": "python",
   "nbconvert_exporter": "python",
   "pygments_lexer": "ipython3",
   "version": "3.12.2"
  }
 },
 "nbformat": 4,
 "nbformat_minor": 5
}
