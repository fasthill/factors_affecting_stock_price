{
 "cells": [
  {
   "cell_type": "markdown",
   "id": "459ff0ca",
   "metadata": {},
   "source": [
    "## combine company data and common data"
   ]
  },
  {
   "cell_type": "code",
   "execution_count": 1,
   "id": "d3b5a935",
   "metadata": {},
   "outputs": [],
   "source": [
    "import datetime, time\n",
    "from datetime import date\n",
    "\n",
    "import pandas as pd\n",
    "import numpy as np\n",
    "import os\n",
    "import sys\n",
    "\n",
    "from sklearn.preprocessing import StandardScaler"
   ]
  },
  {
   "cell_type": "code",
   "execution_count": 2,
   "id": "8ef51f99",
   "metadata": {},
   "outputs": [],
   "source": [
    "module_path = os.path.abspath(os.path.join('.')) \n",
    "sys.path.append(module_path+\"\\\\data\\\\constant\")\n",
    "\n",
    "from constants import COMPANY_CODE"
   ]
  },
  {
   "cell_type": "code",
   "execution_count": 3,
   "id": "9ea60572",
   "metadata": {},
   "outputs": [
    {
     "data": {
      "text/plain": [
       "\" \\n[[datetime.date(2022, 1, 17) 'dji_cr']\\n [datetime.date(2022, 1, 17) 'dji_f_cr']\\n ...\\n [datetime.date(2023, 5, 23) 'kosdaq_cr']\\n [datetime.date(2023, 5, 23) 'kosdaq_cr_2']]\\n\""
      ]
     },
     "execution_count": 3,
     "metadata": {},
     "output_type": "execute_result"
    }
   ],
   "source": [
    "def locate_nan(df):\n",
    "    idx, idy = np.where(pd.isnull(df))\n",
    "    result = np.column_stack([df.index[idx], df.columns[idy]])\n",
    "    return result\n",
    "\n",
    "# return format\n",
    "''' \n",
    "[[datetime.date(2022, 1, 17) 'dji_cr']\n",
    " [datetime.date(2022, 1, 17) 'dji_f_cr']\n",
    " ...\n",
    " [datetime.date(2023, 5, 23) 'kosdaq_cr']\n",
    " [datetime.date(2023, 5, 23) 'kosdaq_cr_2']]\n",
    "'''"
   ]
  },
  {
   "cell_type": "code",
   "execution_count": 4,
   "id": "d6f9e0c8",
   "metadata": {},
   "outputs": [],
   "source": [
    "code = COMPANY_CODE\n",
    "\n",
    "# code = {'005930': ['삼성전자', 'sec'], '005380': ['현대차', 'hyunmotor'],\n",
    "#                  '035420': ['NAVER', 'naver'], '033780': ['KT&G', 'ktng']}\n",
    "# code = {'005930': ['삼성전자', 'sec'], '000660': ['SK하이닉스', 'skhynix']}\n",
    "# code = {'302440': ['SK바이오사이언스', 'skbio']}"
   ]
  },
  {
   "cell_type": "code",
   "execution_count": 5,
   "id": "1ced9635",
   "metadata": {},
   "outputs": [],
   "source": [
    "directory_for_predict = './data/data_for_ml/predict/'\n",
    "pkl_common_directory = './data/common_pkl/'\n",
    "pkl_directory = './data/common_pkl/'"
   ]
  },
  {
   "cell_type": "code",
   "execution_count": 6,
   "id": "a4ac3c16",
   "metadata": {},
   "outputs": [],
   "source": [
    "df_common = pd.read_pickle(directory_for_predict + '0_df_common.pkl')"
   ]
  },
  {
   "cell_type": "code",
   "execution_count": 7,
   "id": "82d5ae58",
   "metadata": {},
   "outputs": [],
   "source": [
    "for key, val in code.items():\n",
    "    df_company = pd.read_pickle(directory_for_predict + f'df_{val[1]}_company.pkl')\n",
    "    df_company = df_company.merge(df_common, how='left', left_index=True, right_index=True)\n",
    "    globals()[f'df_{val[1]}_combine'] = df_company.copy()"
   ]
  },
  {
   "cell_type": "code",
   "execution_count": 8,
   "id": "6c798e31",
   "metadata": {},
   "outputs": [
    {
     "data": {
      "text/html": [
       "<div>\n",
       "<style scoped>\n",
       "    .dataframe tbody tr th:only-of-type {\n",
       "        vertical-align: middle;\n",
       "    }\n",
       "\n",
       "    .dataframe tbody tr th {\n",
       "        vertical-align: top;\n",
       "    }\n",
       "\n",
       "    .dataframe thead th {\n",
       "        text-align: right;\n",
       "    }\n",
       "</style>\n",
       "<table border=\"1\" class=\"dataframe\">\n",
       "  <thead>\n",
       "    <tr style=\"text-align: right;\">\n",
       "      <th></th>\n",
       "      <th>retail_1</th>\n",
       "      <th>foreigner_1</th>\n",
       "      <th>institution_1</th>\n",
       "      <th>financial_1</th>\n",
       "      <th>invtrust_1</th>\n",
       "      <th>pension_1</th>\n",
       "      <th>privequity_1</th>\n",
       "      <th>bank_1</th>\n",
       "      <th>insurance_1</th>\n",
       "      <th>financeetc_1</th>\n",
       "      <th>...</th>\n",
       "      <th>ixk_cr</th>\n",
       "      <th>ixk_cr_2</th>\n",
       "      <th>ixtr_cr</th>\n",
       "      <th>ixtr_cr_2</th>\n",
       "      <th>ixut_cr</th>\n",
       "      <th>ixut_cr_2</th>\n",
       "      <th>nbi_cr</th>\n",
       "      <th>nbi_cr_2</th>\n",
       "      <th>bkx_cr</th>\n",
       "      <th>bkx_cr_2</th>\n",
       "    </tr>\n",
       "  </thead>\n",
       "  <tbody>\n",
       "    <tr>\n",
       "      <th>2023-07-18</th>\n",
       "      <td>-1.28854</td>\n",
       "      <td>-1.64805</td>\n",
       "      <td>-0.91057</td>\n",
       "      <td>-1.01323</td>\n",
       "      <td>-0.82032</td>\n",
       "      <td>-10.37404</td>\n",
       "      <td>1.20000</td>\n",
       "      <td>-1.00699</td>\n",
       "      <td>-0.18341</td>\n",
       "      <td>-inf</td>\n",
       "      <td>...</td>\n",
       "      <td>1.15%</td>\n",
       "      <td>0.99991</td>\n",
       "      <td>0.40%</td>\n",
       "      <td>-0.26030</td>\n",
       "      <td>-0.06%</td>\n",
       "      <td>-1.81796</td>\n",
       "      <td>0.68%</td>\n",
       "      <td>0.48917</td>\n",
       "      <td>1.07%</td>\n",
       "      <td>-1.30548</td>\n",
       "    </tr>\n",
       "    <tr>\n",
       "      <th>2023-07-19</th>\n",
       "      <td>-0.20434</td>\n",
       "      <td>-1.59163</td>\n",
       "      <td>-10.68995</td>\n",
       "      <td>25.22564</td>\n",
       "      <td>-3.51705</td>\n",
       "      <td>0.11874</td>\n",
       "      <td>-1.82549</td>\n",
       "      <td>213.00000</td>\n",
       "      <td>1.99323</td>\n",
       "      <td>-1.0</td>\n",
       "      <td>...</td>\n",
       "      <td>0.96%</td>\n",
       "      <td>2.11933</td>\n",
       "      <td>1.98%</td>\n",
       "      <td>2.38607</td>\n",
       "      <td>0.96%</td>\n",
       "      <td>0.90523</td>\n",
       "      <td>0.33%</td>\n",
       "      <td>1.00870</td>\n",
       "      <td>3.03%</td>\n",
       "      <td>4.13223</td>\n",
       "    </tr>\n",
       "    <tr>\n",
       "      <th>2023-07-20</th>\n",
       "      <td>-1.15797</td>\n",
       "      <td>0.61839</td>\n",
       "      <td>-0.39244</td>\n",
       "      <td>-0.41122</td>\n",
       "      <td>7.70316</td>\n",
       "      <td>-0.49344</td>\n",
       "      <td>-0.98598</td>\n",
       "      <td>-1.48598</td>\n",
       "      <td>-0.55505</td>\n",
       "      <td>-inf</td>\n",
       "      <td>...</td>\n",
       "      <td>-0.39%</td>\n",
       "      <td>0.56795</td>\n",
       "      <td>0.78%</td>\n",
       "      <td>2.76976</td>\n",
       "      <td>1.03%</td>\n",
       "      <td>1.99714</td>\n",
       "      <td>0.39%</td>\n",
       "      <td>0.72438</td>\n",
       "      <td>2.61%</td>\n",
       "      <td>5.72390</td>\n",
       "    </tr>\n",
       "    <tr>\n",
       "      <th>2023-07-21</th>\n",
       "      <td>-4.30431</td>\n",
       "      <td>-0.46210</td>\n",
       "      <td>0.06016</td>\n",
       "      <td>0.90219</td>\n",
       "      <td>-0.50720</td>\n",
       "      <td>0.23881</td>\n",
       "      <td>-1.52632</td>\n",
       "      <td>-1.24038</td>\n",
       "      <td>-0.96441</td>\n",
       "      <td>-1.0</td>\n",
       "      <td>...</td>\n",
       "      <td>-2.37%</td>\n",
       "      <td>-2.75205</td>\n",
       "      <td>-0.20%</td>\n",
       "      <td>0.56870</td>\n",
       "      <td>0.75%</td>\n",
       "      <td>1.78678</td>\n",
       "      <td>-0.30%</td>\n",
       "      <td>0.09052</td>\n",
       "      <td>0.69%</td>\n",
       "      <td>3.32633</td>\n",
       "    </tr>\n",
       "    <tr>\n",
       "      <th>2023-07-24</th>\n",
       "      <td>-0.19795</td>\n",
       "      <td>-0.65318</td>\n",
       "      <td>-0.48346</td>\n",
       "      <td>-0.36918</td>\n",
       "      <td>-0.63579</td>\n",
       "      <td>-0.11445</td>\n",
       "      <td>20.70000</td>\n",
       "      <td>0.52000</td>\n",
       "      <td>-28.16667</td>\n",
       "      <td>-1.0</td>\n",
       "      <td>...</td>\n",
       "      <td>NaN</td>\n",
       "      <td>NaN</td>\n",
       "      <td>NaN</td>\n",
       "      <td>NaN</td>\n",
       "      <td>NaN</td>\n",
       "      <td>NaN</td>\n",
       "      <td>NaN</td>\n",
       "      <td>NaN</td>\n",
       "      <td>NaN</td>\n",
       "      <td>NaN</td>\n",
       "    </tr>\n",
       "  </tbody>\n",
       "</table>\n",
       "<p>5 rows × 114 columns</p>\n",
       "</div>"
      ],
      "text/plain": [
       "            retail_1  foreigner_1  institution_1  financial_1  invtrust_1  \\\n",
       "2023-07-18  -1.28854     -1.64805       -0.91057     -1.01323    -0.82032   \n",
       "2023-07-19  -0.20434     -1.59163      -10.68995     25.22564    -3.51705   \n",
       "2023-07-20  -1.15797      0.61839       -0.39244     -0.41122     7.70316   \n",
       "2023-07-21  -4.30431     -0.46210        0.06016      0.90219    -0.50720   \n",
       "2023-07-24  -0.19795     -0.65318       -0.48346     -0.36918    -0.63579   \n",
       "\n",
       "            pension_1  privequity_1     bank_1  insurance_1  financeetc_1  \\\n",
       "2023-07-18  -10.37404       1.20000   -1.00699     -0.18341          -inf   \n",
       "2023-07-19    0.11874      -1.82549  213.00000      1.99323          -1.0   \n",
       "2023-07-20   -0.49344      -0.98598   -1.48598     -0.55505          -inf   \n",
       "2023-07-21    0.23881      -1.52632   -1.24038     -0.96441          -1.0   \n",
       "2023-07-24   -0.11445      20.70000    0.52000    -28.16667          -1.0   \n",
       "\n",
       "            ...  ixk_cr  ixk_cr_2  ixtr_cr  ixtr_cr_2  ixut_cr  ixut_cr_2  \\\n",
       "2023-07-18  ...   1.15%   0.99991    0.40%   -0.26030   -0.06%   -1.81796   \n",
       "2023-07-19  ...   0.96%   2.11933    1.98%    2.38607    0.96%    0.90523   \n",
       "2023-07-20  ...  -0.39%   0.56795    0.78%    2.76976    1.03%    1.99714   \n",
       "2023-07-21  ...  -2.37%  -2.75205   -0.20%    0.56870    0.75%    1.78678   \n",
       "2023-07-24  ...     NaN       NaN      NaN        NaN      NaN        NaN   \n",
       "\n",
       "            nbi_cr  nbi_cr_2  bkx_cr  bkx_cr_2  \n",
       "2023-07-18   0.68%   0.48917   1.07%  -1.30548  \n",
       "2023-07-19   0.33%   1.00870   3.03%   4.13223  \n",
       "2023-07-20   0.39%   0.72438   2.61%   5.72390  \n",
       "2023-07-21  -0.30%   0.09052   0.69%   3.32633  \n",
       "2023-07-24     NaN       NaN     NaN       NaN  \n",
       "\n",
       "[5 rows x 114 columns]"
      ]
     },
     "execution_count": 8,
     "metadata": {},
     "output_type": "execute_result"
    }
   ],
   "source": [
    "df_hyunmotor_combine.tail()"
   ]
  },
  {
   "cell_type": "code",
   "execution_count": 9,
   "id": "aeab3342",
   "metadata": {},
   "outputs": [
    {
     "data": {
      "text/plain": [
       "datetime.date(2022, 1, 7)"
      ]
     },
     "execution_count": 9,
     "metadata": {},
     "output_type": "execute_result"
    }
   ],
   "source": [
    "df_hyunmotor_combine.index[0]"
   ]
  },
  {
   "cell_type": "code",
   "execution_count": 10,
   "id": "587ac2cd",
   "metadata": {},
   "outputs": [],
   "source": [
    "col_inv1 = ['retail_1', 'foreigner_1', 'institution_1', 'financial_1', 'invtrust_1', 'pension_1', 'privequity_1', \n",
    "            'bank_1', 'insurance_1', 'financeetc_1', 'corporateetc_1', 'foreigneretc_1']\n",
    "col_inv2 = ['retail_2', 'foreigner_2', 'institution_2', 'financial_2', 'invtrust_2', 'pension_2',\n",
    "            'privequity_2', 'bank_2', 'insurance_2', 'financeetc_2', 'corporateetc_2', 'foreigneretc_2']"
   ]
  },
  {
   "cell_type": "code",
   "execution_count": 11,
   "id": "76ca8389",
   "metadata": {},
   "outputs": [],
   "source": [
    "col_his1 = ['open_1', 'high_1', 'low_1', 'close_1', 'vol_1']\n",
    "col_his2 = ['open_2', 'high_2', 'low_2', 'close_2', 'vol_2']"
   ]
  },
  {
   "cell_type": "code",
   "execution_count": 12,
   "id": "8a6b4bac",
   "metadata": {},
   "outputs": [],
   "source": [
    "col_common1 = [\"dji_cr\", \"dji_f_cr\", \"dxy_cr\", \"ixic_f_cr\", \"bond_kor_10_cr\", \"bond_kor_2_cr\", \"kosdaq_cr\", \"kospi_cr\", \n",
    "         \"krw_cr\", \"ixic_cr\", \"spx_f_cr\", \"sox_cr\", \"spx_cr\", \"bond_usa_10_cr\", \"bond_usa_2_cr\", \"bond_usa_3m_cr\", \n",
    "         \"vix_cr\", \"wti_cr\", \"spsy_cr\", \"spny_cr\", \"spxhc_cr\", \"splrcd_cr\", \"splrci_cr\", \"splrcu_cr\", \"splrcs_cr\",\n",
    "         \"splrct_cr\", \"splrcl_cr\", \"splrcm_cr\", \"ixbk_cr\", \"ixfn_cr\", \"ixid_cr\", \"ixis_cr\", \"ixk_cr\", \"ixtr_cr\",\n",
    "         \"ixut_cr\", \"nbi_cr\", \"bkx_cr\"]\n",
    "col_common2 = [\"dji_cr_2\", \"dji_f_cr_2\", \"dxy_cr_2\", \"ixic_f_cr_2\", \"bond_kor_10_cr_2\", \"bond_kor_2_cr_2\", \"kosdaq_cr_2\", \"kospi_cr_2\",\n",
    "         \"krw_cr_2\", \"ixic_cr_2\", \"spx_f_cr_2\", \"sox_cr_2\", \"spx_cr_2\", \"bond_usa_10_cr_2\", \"bond_usa_2_cr_2\", \"bond_usa_3m_cr_2\",\n",
    "         \"vix_cr_2\", \"wti_cr_2\", \"spsy_cr_2\", \"spny_cr_2\", \"spxhc_cr_2\", \"splrcd_cr_2\", \"splrci_cr_2\", \"splrcu_cr_2\",\n",
    "         \"splrcs_cr_2\", \"splrct_cr_2\", \"splrcl_cr_2\", \"splrcm_cr_2\", \"ixbk_cr_2\", \"ixfn_cr_2\", \"ixid_cr_2\",\n",
    "         \"ixis_cr_2\", \"ixk_cr_2\", \"ixtr_cr_2\", \"ixut_cr_2\", \"nbi_cr_2\", \"bkx_cr_2\"]"
   ]
  },
  {
   "cell_type": "code",
   "execution_count": 13,
   "id": "9a595935",
   "metadata": {},
   "outputs": [],
   "source": [
    "col_cr = ['weekday', 'cr_00', 'cr_05', 'cr_10', 'cr_15', 'cr_20']"
   ]
  },
  {
   "cell_type": "code",
   "execution_count": 14,
   "id": "75ec6070",
   "metadata": {},
   "outputs": [],
   "source": [
    "col_col = col_inv1 + col_common1 + col_his1 + col_inv2 + col_common2 + col_his2 + col_cr"
   ]
  },
  {
   "cell_type": "code",
   "execution_count": 15,
   "id": "ff6769da",
   "metadata": {},
   "outputs": [],
   "source": [
    "# # write common data only\n",
    "# df_temp = df_common.copy()\n",
    "# df_temp = df_temp[col_common1+col_common2]\n",
    "# pkl_common_directory = './data/common_pkl/'\n",
    "# df_temp.to_pickle(pkl_common_directory + 'df_common.pkl')\n",
    "# df_temp.to_csv(pkl_common_directory + 'df_common.csv')"
   ]
  },
  {
   "cell_type": "code",
   "execution_count": 16,
   "id": "c78c8f82",
   "metadata": {},
   "outputs": [],
   "source": [
    "new_columns = col_col"
   ]
  },
  {
   "cell_type": "code",
   "execution_count": 17,
   "id": "02da1256",
   "metadata": {},
   "outputs": [],
   "source": [
    "# column 순서 변경 : weekday, 'cr_00', 'cr_05', 'cr_10', 'cr_15', 'cr_20' column을 마지막으로 이동 \n",
    "for key, val in code.items():\n",
    "    globals()['df_{}_combine'.format(val[1])] = globals()['df_{}_combine'.format(val[1])][new_columns]"
   ]
  },
  {
   "cell_type": "code",
   "execution_count": 18,
   "id": "d4f1fa06",
   "metadata": {},
   "outputs": [
    {
     "data": {
      "text/plain": [
       "'\\n# drop inf, -inf : replace inf to 1 or -1 . 데이터를 살리고\\n# 변동률이 무한대가 되는 것을 방지하기 위해서, 나중에 발생하는 에러를 방지\\ndf_sec_sel.replace([np.inf, -np.inf], [1, -1], inplace=True)\\n\\n.impute 사용하는 것을 고려할 필요 있음.\\n'"
      ]
     },
     "execution_count": 18,
     "metadata": {},
     "output_type": "execute_result"
    }
   ],
   "source": [
    "'''\n",
    "# drop inf, -inf : replace inf to 1 or -1 . 데이터를 살리고\n",
    "# 변동률이 무한대가 되는 것을 방지하기 위해서, 나중에 발생하는 에러를 방지\n",
    "df_sec_sel.replace([np.inf, -np.inf], [1, -1], inplace=True)\n",
    "\n",
    ".impute 사용하는 것을 고려할 필요 있음.\n",
    "'''"
   ]
  },
  {
   "cell_type": "code",
   "execution_count": 19,
   "id": "7e91c1c5",
   "metadata": {},
   "outputs": [],
   "source": [
    "# drop inf, -inf : replace inf to 1 or -1 . 데이터를 살리고\n",
    "# 변동률이 무한대가 되는 것을 방지하기 위해서, 나중에 발생하는 에러를 방지\n",
    "for key, val in code.items():\n",
    "    globals()['df_{}_combine'.format(val[1])].replace([np.inf, -np.inf], [1, -1], inplace=True)\n",
    "\n",
    "# **** 데이터 전처리 from sklearn.impute import SimpleImputer, SimpleImputer 사용하기로 함."
   ]
  },
  {
   "cell_type": "code",
   "execution_count": 20,
   "id": "3fa3914b",
   "metadata": {},
   "outputs": [
    {
     "data": {
      "text/html": [
       "<div>\n",
       "<style scoped>\n",
       "    .dataframe tbody tr th:only-of-type {\n",
       "        vertical-align: middle;\n",
       "    }\n",
       "\n",
       "    .dataframe tbody tr th {\n",
       "        vertical-align: top;\n",
       "    }\n",
       "\n",
       "    .dataframe thead th {\n",
       "        text-align: right;\n",
       "    }\n",
       "</style>\n",
       "<table border=\"1\" class=\"dataframe\">\n",
       "  <thead>\n",
       "    <tr style=\"text-align: right;\">\n",
       "      <th></th>\n",
       "      <th>retail_1</th>\n",
       "      <th>foreigner_1</th>\n",
       "      <th>institution_1</th>\n",
       "      <th>financial_1</th>\n",
       "      <th>invtrust_1</th>\n",
       "      <th>pension_1</th>\n",
       "      <th>privequity_1</th>\n",
       "      <th>bank_1</th>\n",
       "      <th>insurance_1</th>\n",
       "      <th>financeetc_1</th>\n",
       "      <th>...</th>\n",
       "      <th>high_2</th>\n",
       "      <th>low_2</th>\n",
       "      <th>close_2</th>\n",
       "      <th>vol_2</th>\n",
       "      <th>weekday</th>\n",
       "      <th>cr_00</th>\n",
       "      <th>cr_05</th>\n",
       "      <th>cr_10</th>\n",
       "      <th>cr_15</th>\n",
       "      <th>cr_20</th>\n",
       "    </tr>\n",
       "  </thead>\n",
       "  <tbody>\n",
       "    <tr>\n",
       "      <th>2023-07-18</th>\n",
       "      <td>-0.80923</td>\n",
       "      <td>-0.67951</td>\n",
       "      <td>-0.97470</td>\n",
       "      <td>-1.01280</td>\n",
       "      <td>-1.80300</td>\n",
       "      <td>-3.26408</td>\n",
       "      <td>0.25398</td>\n",
       "      <td>-1.00000</td>\n",
       "      <td>-1.67562</td>\n",
       "      <td>-0.39130</td>\n",
       "      <td>...</td>\n",
       "      <td>0.01240</td>\n",
       "      <td>0.01252</td>\n",
       "      <td>0.01947</td>\n",
       "      <td>-0.30222</td>\n",
       "      <td>0</td>\n",
       "      <td>0</td>\n",
       "      <td>0</td>\n",
       "      <td>0</td>\n",
       "      <td>0</td>\n",
       "      <td>0</td>\n",
       "    </tr>\n",
       "    <tr>\n",
       "      <th>2023-07-19</th>\n",
       "      <td>-1.82791</td>\n",
       "      <td>-1.50782</td>\n",
       "      <td>-7.62306</td>\n",
       "      <td>-2.54396</td>\n",
       "      <td>5.17124</td>\n",
       "      <td>-1.22022</td>\n",
       "      <td>-2.73237</td>\n",
       "      <td>1.00000</td>\n",
       "      <td>-1.15454</td>\n",
       "      <td>-0.94643</td>\n",
       "      <td>...</td>\n",
       "      <td>0.00136</td>\n",
       "      <td>-0.00552</td>\n",
       "      <td>-0.01907</td>\n",
       "      <td>-0.26347</td>\n",
       "      <td>1</td>\n",
       "      <td>0</td>\n",
       "      <td>0</td>\n",
       "      <td>0</td>\n",
       "      <td>0</td>\n",
       "      <td>0</td>\n",
       "    </tr>\n",
       "    <tr>\n",
       "      <th>2023-07-20</th>\n",
       "      <td>-0.48004</td>\n",
       "      <td>-1.59268</td>\n",
       "      <td>0.83734</td>\n",
       "      <td>-6.97938</td>\n",
       "      <td>-0.55888</td>\n",
       "      <td>3.76993</td>\n",
       "      <td>0.46096</td>\n",
       "      <td>-0.68390</td>\n",
       "      <td>-0.87864</td>\n",
       "      <td>-0.33333</td>\n",
       "      <td>...</td>\n",
       "      <td>-0.00952</td>\n",
       "      <td>-0.02060</td>\n",
       "      <td>-0.02183</td>\n",
       "      <td>0.08314</td>\n",
       "      <td>2</td>\n",
       "      <td>0</td>\n",
       "      <td>0</td>\n",
       "      <td>0</td>\n",
       "      <td>0</td>\n",
       "      <td>0</td>\n",
       "    </tr>\n",
       "    <tr>\n",
       "      <th>2023-07-21</th>\n",
       "      <td>0.36585</td>\n",
       "      <td>-1.22120</td>\n",
       "      <td>-0.27391</td>\n",
       "      <td>1.27805</td>\n",
       "      <td>-0.51633</td>\n",
       "      <td>0.48107</td>\n",
       "      <td>-0.80091</td>\n",
       "      <td>3.16049</td>\n",
       "      <td>6.60000</td>\n",
       "      <td>97.62500</td>\n",
       "      <td>...</td>\n",
       "      <td>-0.02721</td>\n",
       "      <td>-0.01667</td>\n",
       "      <td>-0.01389</td>\n",
       "      <td>-0.16799</td>\n",
       "      <td>3</td>\n",
       "      <td>0</td>\n",
       "      <td>0</td>\n",
       "      <td>0</td>\n",
       "      <td>0</td>\n",
       "      <td>0</td>\n",
       "    </tr>\n",
       "    <tr>\n",
       "      <th>2023-07-24</th>\n",
       "      <td>2.66138</td>\n",
       "      <td>36.65515</td>\n",
       "      <td>-1.35003</td>\n",
       "      <td>-1.32020</td>\n",
       "      <td>-1.29721</td>\n",
       "      <td>-0.84305</td>\n",
       "      <td>-0.69712</td>\n",
       "      <td>0.19510</td>\n",
       "      <td>-1.68421</td>\n",
       "      <td>-0.15716</td>\n",
       "      <td>...</td>\n",
       "      <td>-0.03297</td>\n",
       "      <td>-0.02665</td>\n",
       "      <td>-0.01953</td>\n",
       "      <td>0.51691</td>\n",
       "      <td>4</td>\n",
       "      <td>0</td>\n",
       "      <td>0</td>\n",
       "      <td>0</td>\n",
       "      <td>0</td>\n",
       "      <td>0</td>\n",
       "    </tr>\n",
       "  </tbody>\n",
       "</table>\n",
       "<p>5 rows × 114 columns</p>\n",
       "</div>"
      ],
      "text/plain": [
       "            retail_1  foreigner_1  institution_1  financial_1  invtrust_1  \\\n",
       "2023-07-18  -0.80923     -0.67951       -0.97470     -1.01280    -1.80300   \n",
       "2023-07-19  -1.82791     -1.50782       -7.62306     -2.54396     5.17124   \n",
       "2023-07-20  -0.48004     -1.59268        0.83734     -6.97938    -0.55888   \n",
       "2023-07-21   0.36585     -1.22120       -0.27391      1.27805    -0.51633   \n",
       "2023-07-24   2.66138     36.65515       -1.35003     -1.32020    -1.29721   \n",
       "\n",
       "            pension_1  privequity_1   bank_1  insurance_1  financeetc_1  ...  \\\n",
       "2023-07-18   -3.26408       0.25398 -1.00000     -1.67562      -0.39130  ...   \n",
       "2023-07-19   -1.22022      -2.73237  1.00000     -1.15454      -0.94643  ...   \n",
       "2023-07-20    3.76993       0.46096 -0.68390     -0.87864      -0.33333  ...   \n",
       "2023-07-21    0.48107      -0.80091  3.16049      6.60000      97.62500  ...   \n",
       "2023-07-24   -0.84305      -0.69712  0.19510     -1.68421      -0.15716  ...   \n",
       "\n",
       "             high_2    low_2  close_2    vol_2  weekday  cr_00 cr_05 cr_10  \\\n",
       "2023-07-18  0.01240  0.01252  0.01947 -0.30222        0      0     0     0   \n",
       "2023-07-19  0.00136 -0.00552 -0.01907 -0.26347        1      0     0     0   \n",
       "2023-07-20 -0.00952 -0.02060 -0.02183  0.08314        2      0     0     0   \n",
       "2023-07-21 -0.02721 -0.01667 -0.01389 -0.16799        3      0     0     0   \n",
       "2023-07-24 -0.03297 -0.02665 -0.01953  0.51691        4      0     0     0   \n",
       "\n",
       "            cr_15  cr_20  \n",
       "2023-07-18      0      0  \n",
       "2023-07-19      0      0  \n",
       "2023-07-20      0      0  \n",
       "2023-07-21      0      0  \n",
       "2023-07-24      0      0  \n",
       "\n",
       "[5 rows x 114 columns]"
      ]
     },
     "execution_count": 20,
     "metadata": {},
     "output_type": "execute_result"
    }
   ],
   "source": [
    "df_sec_combine.tail()"
   ]
  },
  {
   "cell_type": "code",
   "execution_count": 21,
   "id": "bf7224df",
   "metadata": {},
   "outputs": [],
   "source": [
    "nanlo = locate_nan(df_sec_combine)  # nan 위치 찾기"
   ]
  },
  {
   "cell_type": "code",
   "execution_count": 22,
   "id": "2f63d7f5",
   "metadata": {},
   "outputs": [
    {
     "name": "stdout",
     "output_type": "stream",
     "text": [
      "[[datetime.date(2022, 1, 18) 'dji_cr']\n",
      " [datetime.date(2022, 1, 18) 'dji_f_cr']\n",
      " [datetime.date(2022, 1, 18) 'dxy_cr']\n",
      " ...\n",
      " [datetime.date(2023, 7, 24) 'ixut_cr_2']\n",
      " [datetime.date(2023, 7, 24) 'nbi_cr_2']\n",
      " [datetime.date(2023, 7, 24) 'bkx_cr_2']]\n"
     ]
    }
   ],
   "source": [
    "print(nanlo)"
   ]
  },
  {
   "cell_type": "code",
   "execution_count": 23,
   "id": "21a6d628",
   "metadata": {},
   "outputs": [],
   "source": [
    "# delete rows which include NaN : dji, spx, nasdaq 기타 common 지수중 한개라도 nan인 rows 제거\n",
    "for key, val in code.items():\n",
    "    globals()['df_{}_combine'.format(val[1])].dropna(inplace=True)"
   ]
  },
  {
   "cell_type": "code",
   "execution_count": 24,
   "id": "c6f3061c",
   "metadata": {},
   "outputs": [],
   "source": [
    "# string column을 numeric으로 전환\n",
    "def string_to_num(df):\n",
    "    df.replace('%', '', regex=True, inplace=True)\n",
    "    df = df.apply(pd.to_numeric)\n",
    "    return df\n",
    "\n",
    "for key, val in code.items():\n",
    "    globals()['df_{}_combine'.format(val[1])] = string_to_num(globals()['df_{}_combine'.format(val[1])])"
   ]
  },
  {
   "cell_type": "code",
   "execution_count": 25,
   "id": "7e8d5acf",
   "metadata": {},
   "outputs": [],
   "source": [
    "# pickle로 데이터 저장\n",
    "\n",
    "for key, val in code.items():\n",
    "    globals()[f'df_{val[1]}_combine'].to_pickle(directory_for_predict + f'df_{val[1]}_combine.pkl')\n",
    "    globals()[f'df_{val[1]}_combine'].to_csv(directory_for_predict + f'df_{val[1]}_combine.csv')"
   ]
  },
  {
   "cell_type": "code",
   "execution_count": null,
   "id": "a01825d3",
   "metadata": {},
   "outputs": [],
   "source": []
  },
  {
   "cell_type": "code",
   "execution_count": null,
   "id": "a1f7c9d1",
   "metadata": {},
   "outputs": [],
   "source": []
  },
  {
   "cell_type": "code",
   "execution_count": null,
   "id": "bc80b897",
   "metadata": {},
   "outputs": [],
   "source": []
  }
 ],
 "metadata": {
  "kernelspec": {
   "display_name": "Python 3 (ipykernel)",
   "language": "python",
   "name": "python3"
  },
  "language_info": {
   "codemirror_mode": {
    "name": "ipython",
    "version": 3
   },
   "file_extension": ".py",
   "mimetype": "text/x-python",
   "name": "python",
   "nbconvert_exporter": "python",
   "pygments_lexer": "ipython3",
   "version": "3.10.7"
  }
 },
 "nbformat": 4,
 "nbformat_minor": 5
}
