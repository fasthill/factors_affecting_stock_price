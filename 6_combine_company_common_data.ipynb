{
 "cells": [
  {
   "cell_type": "markdown",
   "id": "459ff0ca",
   "metadata": {},
   "source": [
    "## combine company data and common data"
   ]
  },
  {
   "cell_type": "code",
   "execution_count": 1,
   "id": "d3b5a935",
   "metadata": {},
   "outputs": [],
   "source": [
    "import datetime, time\n",
    "from datetime import date\n",
    "\n",
    "import pandas as pd\n",
    "import numpy as np\n",
    "import os\n",
    "import sys\n",
    "\n",
    "from sklearn.preprocessing import StandardScaler"
   ]
  },
  {
   "cell_type": "code",
   "execution_count": 2,
   "id": "8ef51f99",
   "metadata": {},
   "outputs": [],
   "source": [
    "module_path = os.path.abspath(os.path.join('.')) \n",
    "sys.path.append(module_path+\"\\\\data\\\\constant\")\n",
    "\n",
    "from constants import COMPANY_CODE"
   ]
  },
  {
   "cell_type": "code",
   "execution_count": 3,
   "id": "9ea60572",
   "metadata": {},
   "outputs": [
    {
     "data": {
      "text/plain": [
       "\" \\n[[datetime.date(2022, 1, 17) 'dji_cr']\\n [datetime.date(2022, 1, 17) 'dji_f_cr']\\n ...\\n [datetime.date(2023, 5, 23) 'kosdaq_cr']\\n [datetime.date(2023, 5, 23) 'kosdaq_cr_2']]\\n\""
      ]
     },
     "execution_count": 3,
     "metadata": {},
     "output_type": "execute_result"
    }
   ],
   "source": [
    "def locate_nan(df):\n",
    "    idx, idy = np.where(pd.isnull(df))\n",
    "    result = np.column_stack([df.index[idx], df.columns[idy]])\n",
    "    return result\n",
    "\n",
    "# return format\n",
    "''' \n",
    "[[datetime.date(2022, 1, 17) 'dji_cr']\n",
    " [datetime.date(2022, 1, 17) 'dji_f_cr']\n",
    " ...\n",
    " [datetime.date(2023, 5, 23) 'kosdaq_cr']\n",
    " [datetime.date(2023, 5, 23) 'kosdaq_cr_2']]\n",
    "'''"
   ]
  },
  {
   "cell_type": "code",
   "execution_count": 4,
   "id": "d6f9e0c8",
   "metadata": {},
   "outputs": [],
   "source": [
    "code = COMPANY_CODE\n",
    "\n",
    "# code = {'005930': ['삼성전자', 'sec'], '005380': ['현대차', 'hyunmotor'],\n",
    "#                  '035420': ['NAVER', 'naver'], '033780': ['KT&G', 'ktng']}\n",
    "# code = {'005930': ['삼성전자', 'sec'], '000660': ['SK하이닉스', 'skhynix']}\n",
    "# code = {'302440': ['SK바이오사이언스', 'skbio']}"
   ]
  },
  {
   "cell_type": "code",
   "execution_count": 5,
   "id": "1ced9635",
   "metadata": {},
   "outputs": [],
   "source": [
    "directory_for_predict = './data/data_for_ml/predict/'\n",
    "pkl_common_directory = './data/common_pkl/'\n",
    "pkl_directory = './data/common_pkl/'"
   ]
  },
  {
   "cell_type": "code",
   "execution_count": 6,
   "id": "a4ac3c16",
   "metadata": {},
   "outputs": [],
   "source": [
    "df_common = pd.read_pickle(directory_for_predict + '0_df_common.pkl')"
   ]
  },
  {
   "cell_type": "code",
   "execution_count": 7,
   "id": "82d5ae58",
   "metadata": {},
   "outputs": [],
   "source": [
    "for key, val in code.items():\n",
    "    df_company = pd.read_pickle(directory_for_predict + f'df_{val[1]}_company.pkl')\n",
    "    df_company = df_company.merge(df_common, how='left', left_index=True, right_index=True)\n",
    "    globals()[f'df_{val[1]}_combine'] = df_company.copy()"
   ]
  },
  {
   "cell_type": "code",
   "execution_count": 8,
   "id": "6c798e31",
   "metadata": {},
   "outputs": [
    {
     "data": {
      "text/html": [
       "<div>\n",
       "<style scoped>\n",
       "    .dataframe tbody tr th:only-of-type {\n",
       "        vertical-align: middle;\n",
       "    }\n",
       "\n",
       "    .dataframe tbody tr th {\n",
       "        vertical-align: top;\n",
       "    }\n",
       "\n",
       "    .dataframe thead th {\n",
       "        text-align: right;\n",
       "    }\n",
       "</style>\n",
       "<table border=\"1\" class=\"dataframe\">\n",
       "  <thead>\n",
       "    <tr style=\"text-align: right;\">\n",
       "      <th></th>\n",
       "      <th>retail_1</th>\n",
       "      <th>foreigner_1</th>\n",
       "      <th>institution_1</th>\n",
       "      <th>financial_1</th>\n",
       "      <th>invtrust_1</th>\n",
       "      <th>pension_1</th>\n",
       "      <th>privequity_1</th>\n",
       "      <th>bank_1</th>\n",
       "      <th>insurance_1</th>\n",
       "      <th>financeetc_1</th>\n",
       "      <th>...</th>\n",
       "      <th>ixk_cr</th>\n",
       "      <th>ixk_cr_2</th>\n",
       "      <th>ixtr_cr</th>\n",
       "      <th>ixtr_cr_2</th>\n",
       "      <th>ixut_cr</th>\n",
       "      <th>ixut_cr_2</th>\n",
       "      <th>nbi_cr</th>\n",
       "      <th>nbi_cr_2</th>\n",
       "      <th>bkx_cr</th>\n",
       "      <th>bkx_cr_2</th>\n",
       "    </tr>\n",
       "  </thead>\n",
       "  <tbody>\n",
       "    <tr>\n",
       "      <th>2023-08-21</th>\n",
       "      <td>-3.01424</td>\n",
       "      <td>-2.70749</td>\n",
       "      <td>-0.36723</td>\n",
       "      <td>1.13643</td>\n",
       "      <td>-1.98590</td>\n",
       "      <td>-0.73247</td>\n",
       "      <td>3.17017</td>\n",
       "      <td>-15.03846</td>\n",
       "      <td>-1.19454</td>\n",
       "      <td>-1.0</td>\n",
       "      <td>...</td>\n",
       "      <td>-0.15%</td>\n",
       "      <td>-1.12187</td>\n",
       "      <td>0.84%</td>\n",
       "      <td>-0.50302</td>\n",
       "      <td>-0.28%</td>\n",
       "      <td>0.06714</td>\n",
       "      <td>0.04%</td>\n",
       "      <td>-0.48147</td>\n",
       "      <td>-0.43%</td>\n",
       "      <td>-0.45040</td>\n",
       "    </tr>\n",
       "    <tr>\n",
       "      <th>2023-08-22</th>\n",
       "      <td>-0.56814</td>\n",
       "      <td>-0.44241</td>\n",
       "      <td>-1.91661</td>\n",
       "      <td>-1.02012</td>\n",
       "      <td>-0.95424</td>\n",
       "      <td>-3.24720</td>\n",
       "      <td>-0.69464</td>\n",
       "      <td>-1.00000</td>\n",
       "      <td>-4.65611</td>\n",
       "      <td>-inf</td>\n",
       "      <td>...</td>\n",
       "      <td>2.14%</td>\n",
       "      <td>1.98505</td>\n",
       "      <td>0.11%</td>\n",
       "      <td>0.94311</td>\n",
       "      <td>0.10%</td>\n",
       "      <td>-0.17921</td>\n",
       "      <td>1.53%</td>\n",
       "      <td>1.57627</td>\n",
       "      <td>-0.27%</td>\n",
       "      <td>-0.69402</td>\n",
       "    </tr>\n",
       "    <tr>\n",
       "      <th>2023-08-23</th>\n",
       "      <td>0.29968</td>\n",
       "      <td>-0.06714</td>\n",
       "      <td>-1.44314</td>\n",
       "      <td>-16.04651</td>\n",
       "      <td>2.51042</td>\n",
       "      <td>-0.96477</td>\n",
       "      <td>0.63213</td>\n",
       "      <td>inf</td>\n",
       "      <td>-0.53094</td>\n",
       "      <td>-1.7</td>\n",
       "      <td>...</td>\n",
       "      <td>-0.14%</td>\n",
       "      <td>1.99666</td>\n",
       "      <td>-0.40%</td>\n",
       "      <td>-0.29436</td>\n",
       "      <td>-0.36%</td>\n",
       "      <td>-0.26118</td>\n",
       "      <td>0.05%</td>\n",
       "      <td>1.57931</td>\n",
       "      <td>-2.62%</td>\n",
       "      <td>-2.88579</td>\n",
       "    </tr>\n",
       "    <tr>\n",
       "      <th>2023-08-24</th>\n",
       "      <td>-0.83167</td>\n",
       "      <td>-1.12211</td>\n",
       "      <td>2.67715</td>\n",
       "      <td>0.57419</td>\n",
       "      <td>-3.56677</td>\n",
       "      <td>-32.39623</td>\n",
       "      <td>-0.85005</td>\n",
       "      <td>0.57513</td>\n",
       "      <td>2.50660</td>\n",
       "      <td>-1.0</td>\n",
       "      <td>...</td>\n",
       "      <td>2.12%</td>\n",
       "      <td>1.97390</td>\n",
       "      <td>1.08%</td>\n",
       "      <td>0.67959</td>\n",
       "      <td>0.61%</td>\n",
       "      <td>0.24177</td>\n",
       "      <td>0.44%</td>\n",
       "      <td>0.48409</td>\n",
       "      <td>1.15%</td>\n",
       "      <td>-1.50809</td>\n",
       "    </tr>\n",
       "    <tr>\n",
       "      <th>2023-08-25</th>\n",
       "      <td>-9.75512</td>\n",
       "      <td>-0.81789</td>\n",
       "      <td>-4.89824</td>\n",
       "      <td>-1.87138</td>\n",
       "      <td>1.78844</td>\n",
       "      <td>-1.92308</td>\n",
       "      <td>-26.23926</td>\n",
       "      <td>-3.08882</td>\n",
       "      <td>-1.14974</td>\n",
       "      <td>-1.0</td>\n",
       "      <td>...</td>\n",
       "      <td>NaN</td>\n",
       "      <td>NaN</td>\n",
       "      <td>NaN</td>\n",
       "      <td>NaN</td>\n",
       "      <td>NaN</td>\n",
       "      <td>NaN</td>\n",
       "      <td>NaN</td>\n",
       "      <td>NaN</td>\n",
       "      <td>NaN</td>\n",
       "      <td>NaN</td>\n",
       "    </tr>\n",
       "  </tbody>\n",
       "</table>\n",
       "<p>5 rows × 114 columns</p>\n",
       "</div>"
      ],
      "text/plain": [
       "            retail_1  foreigner_1  institution_1  financial_1  invtrust_1   \n",
       "2023-08-21  -3.01424     -2.70749       -0.36723      1.13643    -1.98590  \\\n",
       "2023-08-22  -0.56814     -0.44241       -1.91661     -1.02012    -0.95424   \n",
       "2023-08-23   0.29968     -0.06714       -1.44314    -16.04651     2.51042   \n",
       "2023-08-24  -0.83167     -1.12211        2.67715      0.57419    -3.56677   \n",
       "2023-08-25  -9.75512     -0.81789       -4.89824     -1.87138     1.78844   \n",
       "\n",
       "            pension_1  privequity_1    bank_1  insurance_1  financeetc_1  ...   \n",
       "2023-08-21   -0.73247       3.17017 -15.03846     -1.19454          -1.0  ...  \\\n",
       "2023-08-22   -3.24720      -0.69464  -1.00000     -4.65611          -inf  ...   \n",
       "2023-08-23   -0.96477       0.63213       inf     -0.53094          -1.7  ...   \n",
       "2023-08-24  -32.39623      -0.85005   0.57513      2.50660          -1.0  ...   \n",
       "2023-08-25   -1.92308     -26.23926  -3.08882     -1.14974          -1.0  ...   \n",
       "\n",
       "            ixk_cr  ixk_cr_2  ixtr_cr  ixtr_cr_2  ixut_cr  ixut_cr_2  nbi_cr   \n",
       "2023-08-21  -0.15%  -1.12187    0.84%   -0.50302   -0.28%    0.06714   0.04%  \\\n",
       "2023-08-22   2.14%   1.98505    0.11%    0.94311    0.10%   -0.17921   1.53%   \n",
       "2023-08-23  -0.14%   1.99666   -0.40%   -0.29436   -0.36%   -0.26118   0.05%   \n",
       "2023-08-24   2.12%   1.97390    1.08%    0.67959    0.61%    0.24177   0.44%   \n",
       "2023-08-25     NaN       NaN      NaN        NaN      NaN        NaN     NaN   \n",
       "\n",
       "            nbi_cr_2  bkx_cr  bkx_cr_2  \n",
       "2023-08-21  -0.48147  -0.43%  -0.45040  \n",
       "2023-08-22   1.57627  -0.27%  -0.69402  \n",
       "2023-08-23   1.57931  -2.62%  -2.88579  \n",
       "2023-08-24   0.48409   1.15%  -1.50809  \n",
       "2023-08-25       NaN     NaN       NaN  \n",
       "\n",
       "[5 rows x 114 columns]"
      ]
     },
     "execution_count": 8,
     "metadata": {},
     "output_type": "execute_result"
    }
   ],
   "source": [
    "df_hyunmotor_combine.tail()"
   ]
  },
  {
   "cell_type": "code",
   "execution_count": 9,
   "id": "aeab3342",
   "metadata": {},
   "outputs": [
    {
     "data": {
      "text/plain": [
       "datetime.date(2022, 1, 7)"
      ]
     },
     "execution_count": 9,
     "metadata": {},
     "output_type": "execute_result"
    }
   ],
   "source": [
    "df_hyunmotor_combine.index[0]"
   ]
  },
  {
   "cell_type": "code",
   "execution_count": 10,
   "id": "587ac2cd",
   "metadata": {},
   "outputs": [],
   "source": [
    "col_inv1 = ['retail_1', 'foreigner_1', 'institution_1', 'financial_1', 'invtrust_1', 'pension_1', 'privequity_1', \n",
    "            'bank_1', 'insurance_1', 'financeetc_1', 'corporateetc_1', 'foreigneretc_1']\n",
    "col_inv2 = ['retail_2', 'foreigner_2', 'institution_2', 'financial_2', 'invtrust_2', 'pension_2',\n",
    "            'privequity_2', 'bank_2', 'insurance_2', 'financeetc_2', 'corporateetc_2', 'foreigneretc_2']"
   ]
  },
  {
   "cell_type": "code",
   "execution_count": 11,
   "id": "76ca8389",
   "metadata": {},
   "outputs": [],
   "source": [
    "col_his1 = ['open_1', 'high_1', 'low_1', 'close_1', 'vol_1']\n",
    "col_his2 = ['open_2', 'high_2', 'low_2', 'close_2', 'vol_2']"
   ]
  },
  {
   "cell_type": "code",
   "execution_count": 12,
   "id": "8a6b4bac",
   "metadata": {},
   "outputs": [],
   "source": [
    "col_common1 = [\"dji_cr\", \"dji_f_cr\", \"dxy_cr\", \"ixic_f_cr\", \"bond_kor_10_cr\", \"bond_kor_2_cr\", \"kosdaq_cr\", \"kospi_cr\", \n",
    "         \"krw_cr\", \"ixic_cr\", \"spx_f_cr\", \"sox_cr\", \"spx_cr\", \"bond_usa_10_cr\", \"bond_usa_2_cr\", \"bond_usa_3m_cr\", \n",
    "         \"vix_cr\", \"wti_cr\", \"spsy_cr\", \"spny_cr\", \"spxhc_cr\", \"splrcd_cr\", \"splrci_cr\", \"splrcu_cr\", \"splrcs_cr\",\n",
    "         \"splrct_cr\", \"splrcl_cr\", \"splrcm_cr\", \"ixbk_cr\", \"ixfn_cr\", \"ixid_cr\", \"ixis_cr\", \"ixk_cr\", \"ixtr_cr\",\n",
    "         \"ixut_cr\", \"nbi_cr\", \"bkx_cr\"]\n",
    "col_common2 = [\"dji_cr_2\", \"dji_f_cr_2\", \"dxy_cr_2\", \"ixic_f_cr_2\", \"bond_kor_10_cr_2\", \"bond_kor_2_cr_2\", \"kosdaq_cr_2\", \"kospi_cr_2\",\n",
    "         \"krw_cr_2\", \"ixic_cr_2\", \"spx_f_cr_2\", \"sox_cr_2\", \"spx_cr_2\", \"bond_usa_10_cr_2\", \"bond_usa_2_cr_2\", \"bond_usa_3m_cr_2\",\n",
    "         \"vix_cr_2\", \"wti_cr_2\", \"spsy_cr_2\", \"spny_cr_2\", \"spxhc_cr_2\", \"splrcd_cr_2\", \"splrci_cr_2\", \"splrcu_cr_2\",\n",
    "         \"splrcs_cr_2\", \"splrct_cr_2\", \"splrcl_cr_2\", \"splrcm_cr_2\", \"ixbk_cr_2\", \"ixfn_cr_2\", \"ixid_cr_2\",\n",
    "         \"ixis_cr_2\", \"ixk_cr_2\", \"ixtr_cr_2\", \"ixut_cr_2\", \"nbi_cr_2\", \"bkx_cr_2\"]"
   ]
  },
  {
   "cell_type": "code",
   "execution_count": 13,
   "id": "9a595935",
   "metadata": {},
   "outputs": [],
   "source": [
    "col_cr = ['weekday', 'cr_00', 'cr_05', 'cr_10', 'cr_15', 'cr_20']"
   ]
  },
  {
   "cell_type": "code",
   "execution_count": 14,
   "id": "75ec6070",
   "metadata": {},
   "outputs": [],
   "source": [
    "col_col = col_inv1 + col_common1 + col_his1 + col_inv2 + col_common2 + col_his2 + col_cr"
   ]
  },
  {
   "cell_type": "code",
   "execution_count": 15,
   "id": "ff6769da",
   "metadata": {},
   "outputs": [],
   "source": [
    "# # write common data only\n",
    "# df_temp = df_common.copy()\n",
    "# df_temp = df_temp[col_common1+col_common2]\n",
    "# pkl_common_directory = './data/common_pkl/'\n",
    "# df_temp.to_pickle(pkl_common_directory + 'df_common.pkl')\n",
    "# df_temp.to_csv(pkl_common_directory + 'df_common.csv')"
   ]
  },
  {
   "cell_type": "code",
   "execution_count": 16,
   "id": "c78c8f82",
   "metadata": {},
   "outputs": [],
   "source": [
    "new_columns = col_col"
   ]
  },
  {
   "cell_type": "code",
   "execution_count": 17,
   "id": "02da1256",
   "metadata": {},
   "outputs": [],
   "source": [
    "# column 순서 변경 : weekday, 'cr_00', 'cr_05', 'cr_10', 'cr_15', 'cr_20' column을 마지막으로 이동 \n",
    "for key, val in code.items():\n",
    "    globals()['df_{}_combine'.format(val[1])] = globals()['df_{}_combine'.format(val[1])][new_columns]"
   ]
  },
  {
   "cell_type": "code",
   "execution_count": 18,
   "id": "d4f1fa06",
   "metadata": {},
   "outputs": [
    {
     "data": {
      "text/plain": [
       "'\\n# drop inf, -inf : replace inf to 1 or -1 . 데이터를 살리고\\n# 변동률이 무한대가 되는 것을 방지하기 위해서, 나중에 발생하는 에러를 방지\\ndf_sec_sel.replace([np.inf, -np.inf], [1, -1], inplace=True)\\n\\n.impute 사용하는 것을 고려할 필요 있음.\\n'"
      ]
     },
     "execution_count": 18,
     "metadata": {},
     "output_type": "execute_result"
    }
   ],
   "source": [
    "'''\n",
    "# drop inf, -inf : replace inf to 1 or -1 . 데이터를 살리고\n",
    "# 변동률이 무한대가 되는 것을 방지하기 위해서, 나중에 발생하는 에러를 방지\n",
    "df_sec_sel.replace([np.inf, -np.inf], [1, -1], inplace=True)\n",
    "\n",
    ".impute 사용하는 것을 고려할 필요 있음.\n",
    "'''"
   ]
  },
  {
   "cell_type": "code",
   "execution_count": 19,
   "id": "7e91c1c5",
   "metadata": {},
   "outputs": [],
   "source": [
    "# drop inf, -inf : replace inf to 1 or -1 . 데이터를 살리고\n",
    "# 변동률이 무한대가 되는 것을 방지하기 위해서, 나중에 발생하는 에러를 방지\n",
    "for key, val in code.items():\n",
    "    globals()['df_{}_combine'.format(val[1])].replace([np.inf, -np.inf], [1, -1], inplace=True)\n",
    "\n",
    "# **** 데이터 전처리 from sklearn.impute import SimpleImputer, SimpleImputer 사용하기로 함."
   ]
  },
  {
   "cell_type": "code",
   "execution_count": 20,
   "id": "3fa3914b",
   "metadata": {},
   "outputs": [
    {
     "data": {
      "text/html": [
       "<div>\n",
       "<style scoped>\n",
       "    .dataframe tbody tr th:only-of-type {\n",
       "        vertical-align: middle;\n",
       "    }\n",
       "\n",
       "    .dataframe tbody tr th {\n",
       "        vertical-align: top;\n",
       "    }\n",
       "\n",
       "    .dataframe thead th {\n",
       "        text-align: right;\n",
       "    }\n",
       "</style>\n",
       "<table border=\"1\" class=\"dataframe\">\n",
       "  <thead>\n",
       "    <tr style=\"text-align: right;\">\n",
       "      <th></th>\n",
       "      <th>retail_1</th>\n",
       "      <th>foreigner_1</th>\n",
       "      <th>institution_1</th>\n",
       "      <th>financial_1</th>\n",
       "      <th>invtrust_1</th>\n",
       "      <th>pension_1</th>\n",
       "      <th>privequity_1</th>\n",
       "      <th>bank_1</th>\n",
       "      <th>insurance_1</th>\n",
       "      <th>financeetc_1</th>\n",
       "      <th>...</th>\n",
       "      <th>high_2</th>\n",
       "      <th>low_2</th>\n",
       "      <th>close_2</th>\n",
       "      <th>vol_2</th>\n",
       "      <th>weekday</th>\n",
       "      <th>cr_00</th>\n",
       "      <th>cr_05</th>\n",
       "      <th>cr_10</th>\n",
       "      <th>cr_15</th>\n",
       "      <th>cr_20</th>\n",
       "    </tr>\n",
       "  </thead>\n",
       "  <tbody>\n",
       "    <tr>\n",
       "      <th>2023-08-21</th>\n",
       "      <td>0.21237</td>\n",
       "      <td>-1.36925</td>\n",
       "      <td>2.05247</td>\n",
       "      <td>0.17076</td>\n",
       "      <td>-0.72352</td>\n",
       "      <td>-0.89358</td>\n",
       "      <td>-1.19196</td>\n",
       "      <td>-1.67864</td>\n",
       "      <td>-1.16463</td>\n",
       "      <td>-1.63511</td>\n",
       "      <td>...</td>\n",
       "      <td>-0.00596</td>\n",
       "      <td>-0.00754</td>\n",
       "      <td>-0.01045</td>\n",
       "      <td>-0.10851</td>\n",
       "      <td>4</td>\n",
       "      <td>1</td>\n",
       "      <td>0</td>\n",
       "      <td>0</td>\n",
       "      <td>0</td>\n",
       "      <td>0</td>\n",
       "    </tr>\n",
       "    <tr>\n",
       "      <th>2023-08-22</th>\n",
       "      <td>-0.91638</td>\n",
       "      <td>-0.07714</td>\n",
       "      <td>-0.75764</td>\n",
       "      <td>-0.70046</td>\n",
       "      <td>-0.10999</td>\n",
       "      <td>6.28644</td>\n",
       "      <td>-1.78798</td>\n",
       "      <td>-0.73222</td>\n",
       "      <td>-2.80513</td>\n",
       "      <td>-1.75361</td>\n",
       "      <td>...</td>\n",
       "      <td>0.00449</td>\n",
       "      <td>0.00455</td>\n",
       "      <td>-0.00150</td>\n",
       "      <td>-0.09821</td>\n",
       "      <td>0</td>\n",
       "      <td>0</td>\n",
       "      <td>0</td>\n",
       "      <td>0</td>\n",
       "      <td>0</td>\n",
       "      <td>0</td>\n",
       "    </tr>\n",
       "    <tr>\n",
       "      <th>2023-08-23</th>\n",
       "      <td>1.69406</td>\n",
       "      <td>-1.69260</td>\n",
       "      <td>-0.70662</td>\n",
       "      <td>0.95698</td>\n",
       "      <td>-0.86676</td>\n",
       "      <td>-5.54850</td>\n",
       "      <td>2.23478</td>\n",
       "      <td>-7.94350</td>\n",
       "      <td>-1.60085</td>\n",
       "      <td>-0.64593</td>\n",
       "      <td>...</td>\n",
       "      <td>0.01499</td>\n",
       "      <td>0.00760</td>\n",
       "      <td>0.00452</td>\n",
       "      <td>-0.10598</td>\n",
       "      <td>1</td>\n",
       "      <td>1</td>\n",
       "      <td>1</td>\n",
       "      <td>0</td>\n",
       "      <td>0</td>\n",
       "      <td>0</td>\n",
       "    </tr>\n",
       "    <tr>\n",
       "      <th>2023-08-24</th>\n",
       "      <td>-3.95572</td>\n",
       "      <td>-6.99423</td>\n",
       "      <td>-0.87548</td>\n",
       "      <td>-1.28695</td>\n",
       "      <td>-22.09250</td>\n",
       "      <td>-1.23141</td>\n",
       "      <td>-0.76301</td>\n",
       "      <td>-0.74451</td>\n",
       "      <td>1.30024</td>\n",
       "      <td>3.27928</td>\n",
       "      <td>...</td>\n",
       "      <td>0.00000</td>\n",
       "      <td>0.00151</td>\n",
       "      <td>0.00751</td>\n",
       "      <td>-0.01756</td>\n",
       "      <td>2</td>\n",
       "      <td>1</td>\n",
       "      <td>1</td>\n",
       "      <td>1</td>\n",
       "      <td>1</td>\n",
       "      <td>0</td>\n",
       "    </tr>\n",
       "    <tr>\n",
       "      <th>2023-08-25</th>\n",
       "      <td>2.58535</td>\n",
       "      <td>0.09909</td>\n",
       "      <td>-174.87020</td>\n",
       "      <td>-1.58093</td>\n",
       "      <td>-2.54652</td>\n",
       "      <td>-18.19138</td>\n",
       "      <td>1.29439</td>\n",
       "      <td>0.95223</td>\n",
       "      <td>-4.45838</td>\n",
       "      <td>0.08737</td>\n",
       "      <td>...</td>\n",
       "      <td>0.01477</td>\n",
       "      <td>0.02413</td>\n",
       "      <td>0.02402</td>\n",
       "      <td>0.42901</td>\n",
       "      <td>3</td>\n",
       "      <td>0</td>\n",
       "      <td>0</td>\n",
       "      <td>0</td>\n",
       "      <td>0</td>\n",
       "      <td>0</td>\n",
       "    </tr>\n",
       "  </tbody>\n",
       "</table>\n",
       "<p>5 rows × 114 columns</p>\n",
       "</div>"
      ],
      "text/plain": [
       "            retail_1  foreigner_1  institution_1  financial_1  invtrust_1   \n",
       "2023-08-21   0.21237     -1.36925        2.05247      0.17076    -0.72352  \\\n",
       "2023-08-22  -0.91638     -0.07714       -0.75764     -0.70046    -0.10999   \n",
       "2023-08-23   1.69406     -1.69260       -0.70662      0.95698    -0.86676   \n",
       "2023-08-24  -3.95572     -6.99423       -0.87548     -1.28695   -22.09250   \n",
       "2023-08-25   2.58535      0.09909     -174.87020     -1.58093    -2.54652   \n",
       "\n",
       "            pension_1  privequity_1   bank_1  insurance_1  financeetc_1  ...   \n",
       "2023-08-21   -0.89358      -1.19196 -1.67864     -1.16463      -1.63511  ...  \\\n",
       "2023-08-22    6.28644      -1.78798 -0.73222     -2.80513      -1.75361  ...   \n",
       "2023-08-23   -5.54850       2.23478 -7.94350     -1.60085      -0.64593  ...   \n",
       "2023-08-24   -1.23141      -0.76301 -0.74451      1.30024       3.27928  ...   \n",
       "2023-08-25  -18.19138       1.29439  0.95223     -4.45838       0.08737  ...   \n",
       "\n",
       "             high_2    low_2  close_2    vol_2  weekday  cr_00 cr_05 cr_10   \n",
       "2023-08-21 -0.00596 -0.00754 -0.01045 -0.10851        4      1     0     0  \\\n",
       "2023-08-22  0.00449  0.00455 -0.00150 -0.09821        0      0     0     0   \n",
       "2023-08-23  0.01499  0.00760  0.00452 -0.10598        1      1     1     0   \n",
       "2023-08-24  0.00000  0.00151  0.00751 -0.01756        2      1     1     1   \n",
       "2023-08-25  0.01477  0.02413  0.02402  0.42901        3      0     0     0   \n",
       "\n",
       "            cr_15  cr_20  \n",
       "2023-08-21      0      0  \n",
       "2023-08-22      0      0  \n",
       "2023-08-23      0      0  \n",
       "2023-08-24      1      0  \n",
       "2023-08-25      0      0  \n",
       "\n",
       "[5 rows x 114 columns]"
      ]
     },
     "execution_count": 20,
     "metadata": {},
     "output_type": "execute_result"
    }
   ],
   "source": [
    "df_sec_combine.tail()"
   ]
  },
  {
   "cell_type": "code",
   "execution_count": 21,
   "id": "bf7224df",
   "metadata": {},
   "outputs": [],
   "source": [
    "nanlo = locate_nan(df_sec_combine)  # nan 위치 찾기"
   ]
  },
  {
   "cell_type": "code",
   "execution_count": 22,
   "id": "2f63d7f5",
   "metadata": {},
   "outputs": [
    {
     "name": "stdout",
     "output_type": "stream",
     "text": [
      "[[datetime.date(2022, 1, 18) 'dji_cr']\n",
      " [datetime.date(2022, 1, 18) 'dji_f_cr']\n",
      " [datetime.date(2022, 1, 18) 'dxy_cr']\n",
      " ...\n",
      " [datetime.date(2023, 8, 25) 'ixut_cr_2']\n",
      " [datetime.date(2023, 8, 25) 'nbi_cr_2']\n",
      " [datetime.date(2023, 8, 25) 'bkx_cr_2']]\n"
     ]
    }
   ],
   "source": [
    "print(nanlo)"
   ]
  },
  {
   "cell_type": "code",
   "execution_count": 23,
   "id": "21a6d628",
   "metadata": {},
   "outputs": [],
   "source": [
    "# delete rows which include NaN : dji, spx, nasdaq 기타 common 지수중 한개라도 nan인 rows 제거\n",
    "for key, val in code.items():\n",
    "    globals()['df_{}_combine'.format(val[1])].dropna(inplace=True)"
   ]
  },
  {
   "cell_type": "code",
   "execution_count": 24,
   "id": "c6f3061c",
   "metadata": {},
   "outputs": [],
   "source": [
    "# string column을 numeric으로 전환\n",
    "def string_to_num(df):\n",
    "    df.replace('%', '', regex=True, inplace=True)\n",
    "    df = df.apply(pd.to_numeric)\n",
    "    return df\n",
    "\n",
    "for key, val in code.items():\n",
    "    globals()['df_{}_combine'.format(val[1])] = string_to_num(globals()['df_{}_combine'.format(val[1])])"
   ]
  },
  {
   "cell_type": "code",
   "execution_count": 25,
   "id": "7e8d5acf",
   "metadata": {},
   "outputs": [],
   "source": [
    "# pickle로 데이터 저장\n",
    "\n",
    "for key, val in code.items():\n",
    "    globals()[f'df_{val[1]}_combine'].to_pickle(directory_for_predict + f'df_{val[1]}_combine.pkl')\n",
    "    globals()[f'df_{val[1]}_combine'].to_csv(directory_for_predict + f'df_{val[1]}_combine.csv')"
   ]
  },
  {
   "cell_type": "code",
   "execution_count": null,
   "id": "a01825d3",
   "metadata": {},
   "outputs": [],
   "source": []
  },
  {
   "cell_type": "code",
   "execution_count": null,
   "id": "a1f7c9d1",
   "metadata": {},
   "outputs": [],
   "source": []
  },
  {
   "cell_type": "code",
   "execution_count": null,
   "id": "bc80b897",
   "metadata": {},
   "outputs": [],
   "source": []
  }
 ],
 "metadata": {
  "kernelspec": {
   "display_name": "Python 3 (ipykernel)",
   "language": "python",
   "name": "python3"
  },
  "language_info": {
   "codemirror_mode": {
    "name": "ipython",
    "version": 3
   },
   "file_extension": ".py",
   "mimetype": "text/x-python",
   "name": "python",
   "nbconvert_exporter": "python",
   "pygments_lexer": "ipython3",
   "version": "3.9.1"
  }
 },
 "nbformat": 4,
 "nbformat_minor": 5
}
