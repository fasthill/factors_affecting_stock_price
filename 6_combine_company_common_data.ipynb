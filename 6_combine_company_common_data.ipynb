{
 "cells": [
  {
   "cell_type": "markdown",
   "id": "459ff0ca",
   "metadata": {},
   "source": [
    "## combine company data and common data"
   ]
  },
  {
   "cell_type": "code",
   "execution_count": 1,
   "id": "d3b5a935",
   "metadata": {},
   "outputs": [],
   "source": [
    "import datetime, time\n",
    "from datetime import date\n",
    "\n",
    "import pandas as pd\n",
    "import numpy as np\n",
    "import os\n",
    "import sys\n",
    "\n",
    "from sklearn.preprocessing import StandardScaler"
   ]
  },
  {
   "cell_type": "code",
   "execution_count": 2,
   "id": "8ef51f99",
   "metadata": {},
   "outputs": [],
   "source": [
    "module_path = os.path.abspath(os.path.join('.')) \n",
    "sys.path.append(module_path+\"\\\\data\\\\constant\")\n",
    "\n",
    "from constants import COMPANY_CODE"
   ]
  },
  {
   "cell_type": "code",
   "execution_count": 3,
   "id": "9ea60572",
   "metadata": {},
   "outputs": [
    {
     "data": {
      "text/plain": [
       "\" \\n[[datetime.date(2022, 1, 17) 'dji_cr']\\n [datetime.date(2022, 1, 17) 'dji_f_cr']\\n ...\\n [datetime.date(2023, 5, 23) 'kosdaq_cr']\\n [datetime.date(2023, 5, 23) 'kosdaq_cr_2']]\\n\""
      ]
     },
     "execution_count": 3,
     "metadata": {},
     "output_type": "execute_result"
    }
   ],
   "source": [
    "def locate_nan(df):\n",
    "    idx, idy = np.where(pd.isnull(df))\n",
    "    result = np.column_stack([df.index[idx], df.columns[idy]])\n",
    "    return result\n",
    "\n",
    "# return format\n",
    "''' \n",
    "[[datetime.date(2022, 1, 17) 'dji_cr']\n",
    " [datetime.date(2022, 1, 17) 'dji_f_cr']\n",
    " ...\n",
    " [datetime.date(2023, 5, 23) 'kosdaq_cr']\n",
    " [datetime.date(2023, 5, 23) 'kosdaq_cr_2']]\n",
    "'''"
   ]
  },
  {
   "cell_type": "code",
   "execution_count": 4,
   "id": "d6f9e0c8",
   "metadata": {},
   "outputs": [],
   "source": [
    "code = COMPANY_CODE\n",
    "\n",
    "# code = {'005930': ['삼성전자', 'sec'], '005380': ['현대차', 'hyunmotor'],\n",
    "#                  '035420': ['NAVER', 'naver'], '033780': ['KT&G', 'ktng']}\n",
    "# code = {'005930': ['삼성전자', 'sec'], '000660': ['SK하이닉스', 'skhynix']}\n",
    "# code = {'302440': ['SK바이오사이언스', 'skbio']}"
   ]
  },
  {
   "cell_type": "code",
   "execution_count": 5,
   "id": "1ced9635",
   "metadata": {},
   "outputs": [],
   "source": [
    "directory_for_predict = './data/data_for_ml/predict/'\n",
    "pkl_common_directory = './data/common_pkl/'\n",
    "pkl_directory = './data/common_pkl/'"
   ]
  },
  {
   "cell_type": "code",
   "execution_count": 6,
   "id": "a4ac3c16",
   "metadata": {},
   "outputs": [],
   "source": [
    "df_common = pd.read_pickle(directory_for_predict + '0_df_common.pkl')"
   ]
  },
  {
   "cell_type": "code",
   "execution_count": 7,
   "id": "82d5ae58",
   "metadata": {},
   "outputs": [],
   "source": [
    "for key, val in code.items():\n",
    "    df_company = pd.read_pickle(directory_for_predict + f'df_{val[1]}_company.pkl')\n",
    "    df_company = df_company.merge(df_common, how='left', left_index=True, right_index=True)\n",
    "    globals()[f'df_{val[1]}_combine'] = df_company.copy()"
   ]
  },
  {
   "cell_type": "code",
   "execution_count": 8,
   "id": "6c798e31",
   "metadata": {},
   "outputs": [
    {
     "data": {
      "text/html": [
       "<div>\n",
       "<style scoped>\n",
       "    .dataframe tbody tr th:only-of-type {\n",
       "        vertical-align: middle;\n",
       "    }\n",
       "\n",
       "    .dataframe tbody tr th {\n",
       "        vertical-align: top;\n",
       "    }\n",
       "\n",
       "    .dataframe thead th {\n",
       "        text-align: right;\n",
       "    }\n",
       "</style>\n",
       "<table border=\"1\" class=\"dataframe\">\n",
       "  <thead>\n",
       "    <tr style=\"text-align: right;\">\n",
       "      <th></th>\n",
       "      <th>retail_1</th>\n",
       "      <th>foreigner_1</th>\n",
       "      <th>institution_1</th>\n",
       "      <th>financial_1</th>\n",
       "      <th>invtrust_1</th>\n",
       "      <th>pension_1</th>\n",
       "      <th>privequity_1</th>\n",
       "      <th>bank_1</th>\n",
       "      <th>insurance_1</th>\n",
       "      <th>financeetc_1</th>\n",
       "      <th>...</th>\n",
       "      <th>ixk_cr</th>\n",
       "      <th>ixk_cr_2</th>\n",
       "      <th>ixtr_cr</th>\n",
       "      <th>ixtr_cr_2</th>\n",
       "      <th>ixut_cr</th>\n",
       "      <th>ixut_cr_2</th>\n",
       "      <th>nbi_cr</th>\n",
       "      <th>nbi_cr_2</th>\n",
       "      <th>bkx_cr</th>\n",
       "      <th>bkx_cr_2</th>\n",
       "    </tr>\n",
       "  </thead>\n",
       "  <tbody>\n",
       "    <tr>\n",
       "      <th>2023-07-25</th>\n",
       "      <td>-1.92800</td>\n",
       "      <td>3.27030</td>\n",
       "      <td>0.01539</td>\n",
       "      <td>-0.18516</td>\n",
       "      <td>-0.62500</td>\n",
       "      <td>-1.08381</td>\n",
       "      <td>-4.44964</td>\n",
       "      <td>-7.26316</td>\n",
       "      <td>-0.69851</td>\n",
       "      <td>-1.00000</td>\n",
       "      <td>...</td>\n",
       "      <td>0.32%</td>\n",
       "      <td>-0.05949</td>\n",
       "      <td>-0.55%</td>\n",
       "      <td>-1.52403</td>\n",
       "      <td>0.69%</td>\n",
       "      <td>0.73732</td>\n",
       "      <td>-1.48%</td>\n",
       "      <td>-0.80430</td>\n",
       "      <td>1.71%</td>\n",
       "      <td>0.72292</td>\n",
       "    </tr>\n",
       "    <tr>\n",
       "      <th>2023-07-26</th>\n",
       "      <td>1.68790</td>\n",
       "      <td>0.19711</td>\n",
       "      <td>-0.82789</td>\n",
       "      <td>-0.71943</td>\n",
       "      <td>3.07514</td>\n",
       "      <td>1.20263</td>\n",
       "      <td>-1.09103</td>\n",
       "      <td>-1.00840</td>\n",
       "      <td>1.10174</td>\n",
       "      <td>-inf</td>\n",
       "      <td>...</td>\n",
       "      <td>1.18%</td>\n",
       "      <td>1.49841</td>\n",
       "      <td>-0.00%</td>\n",
       "      <td>-0.55026</td>\n",
       "      <td>0.12%</td>\n",
       "      <td>0.81019</td>\n",
       "      <td>-0.24%</td>\n",
       "      <td>-1.71786</td>\n",
       "      <td>-1.61%</td>\n",
       "      <td>0.06844</td>\n",
       "    </tr>\n",
       "    <tr>\n",
       "      <th>2023-07-27</th>\n",
       "      <td>-2.46834</td>\n",
       "      <td>-1.93430</td>\n",
       "      <td>1.94073</td>\n",
       "      <td>-2.34867</td>\n",
       "      <td>0.91206</td>\n",
       "      <td>0.03704</td>\n",
       "      <td>-11.25157</td>\n",
       "      <td>-9.00000</td>\n",
       "      <td>-0.55740</td>\n",
       "      <td>-1.88679</td>\n",
       "      <td>...</td>\n",
       "      <td>-0.30%</td>\n",
       "      <td>0.87477</td>\n",
       "      <td>1.13%</td>\n",
       "      <td>1.12845</td>\n",
       "      <td>-0.71%</td>\n",
       "      <td>-0.59378</td>\n",
       "      <td>-0.29%</td>\n",
       "      <td>-0.53245</td>\n",
       "      <td>1.88%</td>\n",
       "      <td>0.23550</td>\n",
       "    </tr>\n",
       "    <tr>\n",
       "      <th>2023-07-28</th>\n",
       "      <td>0.81966</td>\n",
       "      <td>0.87708</td>\n",
       "      <td>0.53199</td>\n",
       "      <td>-0.96544</td>\n",
       "      <td>-0.11672</td>\n",
       "      <td>-5.02765</td>\n",
       "      <td>-0.56585</td>\n",
       "      <td>0.43750</td>\n",
       "      <td>1.64062</td>\n",
       "      <td>-1.41489</td>\n",
       "      <td>...</td>\n",
       "      <td>-0.05%</td>\n",
       "      <td>-0.34874</td>\n",
       "      <td>-1.01%</td>\n",
       "      <td>0.10410</td>\n",
       "      <td>1.10%</td>\n",
       "      <td>0.38247</td>\n",
       "      <td>-0.66%</td>\n",
       "      <td>-0.94804</td>\n",
       "      <td>-1.20%</td>\n",
       "      <td>0.66111</td>\n",
       "    </tr>\n",
       "    <tr>\n",
       "      <th>2023-07-31</th>\n",
       "      <td>-0.94501</td>\n",
       "      <td>-1.09817</td>\n",
       "      <td>-0.18069</td>\n",
       "      <td>-43.48052</td>\n",
       "      <td>-0.91181</td>\n",
       "      <td>-0.32408</td>\n",
       "      <td>-0.05323</td>\n",
       "      <td>3.43478</td>\n",
       "      <td>0.37633</td>\n",
       "      <td>1.43590</td>\n",
       "      <td>...</td>\n",
       "      <td>NaN</td>\n",
       "      <td>NaN</td>\n",
       "      <td>NaN</td>\n",
       "      <td>NaN</td>\n",
       "      <td>NaN</td>\n",
       "      <td>NaN</td>\n",
       "      <td>NaN</td>\n",
       "      <td>NaN</td>\n",
       "      <td>NaN</td>\n",
       "      <td>NaN</td>\n",
       "    </tr>\n",
       "  </tbody>\n",
       "</table>\n",
       "<p>5 rows × 114 columns</p>\n",
       "</div>"
      ],
      "text/plain": [
       "            retail_1  foreigner_1  institution_1  financial_1  invtrust_1  \\\n",
       "2023-07-25  -1.92800      3.27030        0.01539     -0.18516    -0.62500   \n",
       "2023-07-26   1.68790      0.19711       -0.82789     -0.71943     3.07514   \n",
       "2023-07-27  -2.46834     -1.93430        1.94073     -2.34867     0.91206   \n",
       "2023-07-28   0.81966      0.87708        0.53199     -0.96544    -0.11672   \n",
       "2023-07-31  -0.94501     -1.09817       -0.18069    -43.48052    -0.91181   \n",
       "\n",
       "            pension_1  privequity_1   bank_1  insurance_1  financeetc_1  ...  \\\n",
       "2023-07-25   -1.08381      -4.44964 -7.26316     -0.69851      -1.00000  ...   \n",
       "2023-07-26    1.20263      -1.09103 -1.00840      1.10174          -inf  ...   \n",
       "2023-07-27    0.03704     -11.25157 -9.00000     -0.55740      -1.88679  ...   \n",
       "2023-07-28   -5.02765      -0.56585  0.43750      1.64062      -1.41489  ...   \n",
       "2023-07-31   -0.32408      -0.05323  3.43478      0.37633       1.43590  ...   \n",
       "\n",
       "            ixk_cr  ixk_cr_2  ixtr_cr  ixtr_cr_2  ixut_cr  ixut_cr_2  nbi_cr  \\\n",
       "2023-07-25   0.32%  -0.05949   -0.55%   -1.52403    0.69%    0.73732  -1.48%   \n",
       "2023-07-26   1.18%   1.49841   -0.00%   -0.55026    0.12%    0.81019  -0.24%   \n",
       "2023-07-27  -0.30%   0.87477    1.13%    1.12845   -0.71%   -0.59378  -0.29%   \n",
       "2023-07-28  -0.05%  -0.34874   -1.01%    0.10410    1.10%    0.38247  -0.66%   \n",
       "2023-07-31     NaN       NaN      NaN        NaN      NaN        NaN     NaN   \n",
       "\n",
       "            nbi_cr_2  bkx_cr  bkx_cr_2  \n",
       "2023-07-25  -0.80430   1.71%   0.72292  \n",
       "2023-07-26  -1.71786  -1.61%   0.06844  \n",
       "2023-07-27  -0.53245   1.88%   0.23550  \n",
       "2023-07-28  -0.94804  -1.20%   0.66111  \n",
       "2023-07-31       NaN     NaN       NaN  \n",
       "\n",
       "[5 rows x 114 columns]"
      ]
     },
     "execution_count": 8,
     "metadata": {},
     "output_type": "execute_result"
    }
   ],
   "source": [
    "df_hyunmotor_combine.tail()"
   ]
  },
  {
   "cell_type": "code",
   "execution_count": 9,
   "id": "aeab3342",
   "metadata": {},
   "outputs": [
    {
     "data": {
      "text/plain": [
       "datetime.date(2022, 1, 7)"
      ]
     },
     "execution_count": 9,
     "metadata": {},
     "output_type": "execute_result"
    }
   ],
   "source": [
    "df_hyunmotor_combine.index[0]"
   ]
  },
  {
   "cell_type": "code",
   "execution_count": 10,
   "id": "587ac2cd",
   "metadata": {},
   "outputs": [],
   "source": [
    "col_inv1 = ['retail_1', 'foreigner_1', 'institution_1', 'financial_1', 'invtrust_1', 'pension_1', 'privequity_1', \n",
    "            'bank_1', 'insurance_1', 'financeetc_1', 'corporateetc_1', 'foreigneretc_1']\n",
    "col_inv2 = ['retail_2', 'foreigner_2', 'institution_2', 'financial_2', 'invtrust_2', 'pension_2',\n",
    "            'privequity_2', 'bank_2', 'insurance_2', 'financeetc_2', 'corporateetc_2', 'foreigneretc_2']"
   ]
  },
  {
   "cell_type": "code",
   "execution_count": 11,
   "id": "76ca8389",
   "metadata": {},
   "outputs": [],
   "source": [
    "col_his1 = ['open_1', 'high_1', 'low_1', 'close_1', 'vol_1']\n",
    "col_his2 = ['open_2', 'high_2', 'low_2', 'close_2', 'vol_2']"
   ]
  },
  {
   "cell_type": "code",
   "execution_count": 12,
   "id": "8a6b4bac",
   "metadata": {},
   "outputs": [],
   "source": [
    "col_common1 = [\"dji_cr\", \"dji_f_cr\", \"dxy_cr\", \"ixic_f_cr\", \"bond_kor_10_cr\", \"bond_kor_2_cr\", \"kosdaq_cr\", \"kospi_cr\", \n",
    "         \"krw_cr\", \"ixic_cr\", \"spx_f_cr\", \"sox_cr\", \"spx_cr\", \"bond_usa_10_cr\", \"bond_usa_2_cr\", \"bond_usa_3m_cr\", \n",
    "         \"vix_cr\", \"wti_cr\", \"spsy_cr\", \"spny_cr\", \"spxhc_cr\", \"splrcd_cr\", \"splrci_cr\", \"splrcu_cr\", \"splrcs_cr\",\n",
    "         \"splrct_cr\", \"splrcl_cr\", \"splrcm_cr\", \"ixbk_cr\", \"ixfn_cr\", \"ixid_cr\", \"ixis_cr\", \"ixk_cr\", \"ixtr_cr\",\n",
    "         \"ixut_cr\", \"nbi_cr\", \"bkx_cr\"]\n",
    "col_common2 = [\"dji_cr_2\", \"dji_f_cr_2\", \"dxy_cr_2\", \"ixic_f_cr_2\", \"bond_kor_10_cr_2\", \"bond_kor_2_cr_2\", \"kosdaq_cr_2\", \"kospi_cr_2\",\n",
    "         \"krw_cr_2\", \"ixic_cr_2\", \"spx_f_cr_2\", \"sox_cr_2\", \"spx_cr_2\", \"bond_usa_10_cr_2\", \"bond_usa_2_cr_2\", \"bond_usa_3m_cr_2\",\n",
    "         \"vix_cr_2\", \"wti_cr_2\", \"spsy_cr_2\", \"spny_cr_2\", \"spxhc_cr_2\", \"splrcd_cr_2\", \"splrci_cr_2\", \"splrcu_cr_2\",\n",
    "         \"splrcs_cr_2\", \"splrct_cr_2\", \"splrcl_cr_2\", \"splrcm_cr_2\", \"ixbk_cr_2\", \"ixfn_cr_2\", \"ixid_cr_2\",\n",
    "         \"ixis_cr_2\", \"ixk_cr_2\", \"ixtr_cr_2\", \"ixut_cr_2\", \"nbi_cr_2\", \"bkx_cr_2\"]"
   ]
  },
  {
   "cell_type": "code",
   "execution_count": 13,
   "id": "9a595935",
   "metadata": {},
   "outputs": [],
   "source": [
    "col_cr = ['weekday', 'cr_00', 'cr_05', 'cr_10', 'cr_15', 'cr_20']"
   ]
  },
  {
   "cell_type": "code",
   "execution_count": 14,
   "id": "75ec6070",
   "metadata": {},
   "outputs": [],
   "source": [
    "col_col = col_inv1 + col_common1 + col_his1 + col_inv2 + col_common2 + col_his2 + col_cr"
   ]
  },
  {
   "cell_type": "code",
   "execution_count": 15,
   "id": "ff6769da",
   "metadata": {},
   "outputs": [],
   "source": [
    "# # write common data only\n",
    "# df_temp = df_common.copy()\n",
    "# df_temp = df_temp[col_common1+col_common2]\n",
    "# pkl_common_directory = './data/common_pkl/'\n",
    "# df_temp.to_pickle(pkl_common_directory + 'df_common.pkl')\n",
    "# df_temp.to_csv(pkl_common_directory + 'df_common.csv')"
   ]
  },
  {
   "cell_type": "code",
   "execution_count": 16,
   "id": "c78c8f82",
   "metadata": {},
   "outputs": [],
   "source": [
    "new_columns = col_col"
   ]
  },
  {
   "cell_type": "code",
   "execution_count": 17,
   "id": "02da1256",
   "metadata": {},
   "outputs": [],
   "source": [
    "# column 순서 변경 : weekday, 'cr_00', 'cr_05', 'cr_10', 'cr_15', 'cr_20' column을 마지막으로 이동 \n",
    "for key, val in code.items():\n",
    "    globals()['df_{}_combine'.format(val[1])] = globals()['df_{}_combine'.format(val[1])][new_columns]"
   ]
  },
  {
   "cell_type": "code",
   "execution_count": 18,
   "id": "d4f1fa06",
   "metadata": {},
   "outputs": [
    {
     "data": {
      "text/plain": [
       "'\\n# drop inf, -inf : replace inf to 1 or -1 . 데이터를 살리고\\n# 변동률이 무한대가 되는 것을 방지하기 위해서, 나중에 발생하는 에러를 방지\\ndf_sec_sel.replace([np.inf, -np.inf], [1, -1], inplace=True)\\n\\n.impute 사용하는 것을 고려할 필요 있음.\\n'"
      ]
     },
     "execution_count": 18,
     "metadata": {},
     "output_type": "execute_result"
    }
   ],
   "source": [
    "'''\n",
    "# drop inf, -inf : replace inf to 1 or -1 . 데이터를 살리고\n",
    "# 변동률이 무한대가 되는 것을 방지하기 위해서, 나중에 발생하는 에러를 방지\n",
    "df_sec_sel.replace([np.inf, -np.inf], [1, -1], inplace=True)\n",
    "\n",
    ".impute 사용하는 것을 고려할 필요 있음.\n",
    "'''"
   ]
  },
  {
   "cell_type": "code",
   "execution_count": 19,
   "id": "7e91c1c5",
   "metadata": {},
   "outputs": [],
   "source": [
    "# drop inf, -inf : replace inf to 1 or -1 . 데이터를 살리고\n",
    "# 변동률이 무한대가 되는 것을 방지하기 위해서, 나중에 발생하는 에러를 방지\n",
    "for key, val in code.items():\n",
    "    globals()['df_{}_combine'.format(val[1])].replace([np.inf, -np.inf], [1, -1], inplace=True)\n",
    "\n",
    "# **** 데이터 전처리 from sklearn.impute import SimpleImputer, SimpleImputer 사용하기로 함."
   ]
  },
  {
   "cell_type": "code",
   "execution_count": 20,
   "id": "3fa3914b",
   "metadata": {},
   "outputs": [
    {
     "data": {
      "text/html": [
       "<div>\n",
       "<style scoped>\n",
       "    .dataframe tbody tr th:only-of-type {\n",
       "        vertical-align: middle;\n",
       "    }\n",
       "\n",
       "    .dataframe tbody tr th {\n",
       "        vertical-align: top;\n",
       "    }\n",
       "\n",
       "    .dataframe thead th {\n",
       "        text-align: right;\n",
       "    }\n",
       "</style>\n",
       "<table border=\"1\" class=\"dataframe\">\n",
       "  <thead>\n",
       "    <tr style=\"text-align: right;\">\n",
       "      <th></th>\n",
       "      <th>retail_1</th>\n",
       "      <th>foreigner_1</th>\n",
       "      <th>institution_1</th>\n",
       "      <th>financial_1</th>\n",
       "      <th>invtrust_1</th>\n",
       "      <th>pension_1</th>\n",
       "      <th>privequity_1</th>\n",
       "      <th>bank_1</th>\n",
       "      <th>insurance_1</th>\n",
       "      <th>financeetc_1</th>\n",
       "      <th>...</th>\n",
       "      <th>high_2</th>\n",
       "      <th>low_2</th>\n",
       "      <th>close_2</th>\n",
       "      <th>vol_2</th>\n",
       "      <th>weekday</th>\n",
       "      <th>cr_00</th>\n",
       "      <th>cr_05</th>\n",
       "      <th>cr_10</th>\n",
       "      <th>cr_15</th>\n",
       "      <th>cr_20</th>\n",
       "    </tr>\n",
       "  </thead>\n",
       "  <tbody>\n",
       "    <tr>\n",
       "      <th>2023-07-25</th>\n",
       "      <td>-1.62014</td>\n",
       "      <td>-1.74463</td>\n",
       "      <td>-2.80931</td>\n",
       "      <td>-2.57158</td>\n",
       "      <td>4.16830</td>\n",
       "      <td>-7.60716</td>\n",
       "      <td>-3.90526</td>\n",
       "      <td>-1.00869</td>\n",
       "      <td>6.95385</td>\n",
       "      <td>0.04361</td>\n",
       "      <td>...</td>\n",
       "      <td>-0.00839</td>\n",
       "      <td>-0.01271</td>\n",
       "      <td>-0.00845</td>\n",
       "      <td>0.37871</td>\n",
       "      <td>0</td>\n",
       "      <td>0</td>\n",
       "      <td>0</td>\n",
       "      <td>0</td>\n",
       "      <td>0</td>\n",
       "      <td>0</td>\n",
       "    </tr>\n",
       "    <tr>\n",
       "      <th>2023-07-26</th>\n",
       "      <td>-1.02074</td>\n",
       "      <td>-0.69863</td>\n",
       "      <td>0.70306</td>\n",
       "      <td>-0.25381</td>\n",
       "      <td>-6.18725</td>\n",
       "      <td>-0.08864</td>\n",
       "      <td>-1.38024</td>\n",
       "      <td>-60.78571</td>\n",
       "      <td>-0.41586</td>\n",
       "      <td>1.29251</td>\n",
       "      <td>...</td>\n",
       "      <td>0.00142</td>\n",
       "      <td>0.00576</td>\n",
       "      <td>-0.00427</td>\n",
       "      <td>-0.13395</td>\n",
       "      <td>1</td>\n",
       "      <td>0</td>\n",
       "      <td>0</td>\n",
       "      <td>0</td>\n",
       "      <td>0</td>\n",
       "      <td>0</td>\n",
       "    </tr>\n",
       "    <tr>\n",
       "      <th>2023-07-27</th>\n",
       "      <td>11.67804</td>\n",
       "      <td>-2.32694</td>\n",
       "      <td>-2.13240</td>\n",
       "      <td>-3.79076</td>\n",
       "      <td>-0.09364</td>\n",
       "      <td>-1.51316</td>\n",
       "      <td>-3.14933</td>\n",
       "      <td>-0.19474</td>\n",
       "      <td>-8.00828</td>\n",
       "      <td>-1.37146</td>\n",
       "      <td>...</td>\n",
       "      <td>-0.00423</td>\n",
       "      <td>-0.02575</td>\n",
       "      <td>-0.00852</td>\n",
       "      <td>1.23691</td>\n",
       "      <td>2</td>\n",
       "      <td>1</td>\n",
       "      <td>1</td>\n",
       "      <td>1</td>\n",
       "      <td>1</td>\n",
       "      <td>1</td>\n",
       "    </tr>\n",
       "    <tr>\n",
       "      <th>2023-07-28</th>\n",
       "      <td>-7.99330</td>\n",
       "      <td>-1.92512</td>\n",
       "      <td>1.88798</td>\n",
       "      <td>0.70830</td>\n",
       "      <td>-1.67492</td>\n",
       "      <td>-0.17268</td>\n",
       "      <td>7.05550</td>\n",
       "      <td>1.18249</td>\n",
       "      <td>0.38034</td>\n",
       "      <td>-1.04569</td>\n",
       "      <td>...</td>\n",
       "      <td>0.01702</td>\n",
       "      <td>-0.00716</td>\n",
       "      <td>0.02429</td>\n",
       "      <td>0.69481</td>\n",
       "      <td>3</td>\n",
       "      <td>0</td>\n",
       "      <td>0</td>\n",
       "      <td>0</td>\n",
       "      <td>0</td>\n",
       "      <td>0</td>\n",
       "    </tr>\n",
       "    <tr>\n",
       "      <th>2023-07-31</th>\n",
       "      <td>-1.44154</td>\n",
       "      <td>-1.40674</td>\n",
       "      <td>-1.48558</td>\n",
       "      <td>-1.55055</td>\n",
       "      <td>-0.49731</td>\n",
       "      <td>-1.17460</td>\n",
       "      <td>-1.69682</td>\n",
       "      <td>-0.50102</td>\n",
       "      <td>-0.14599</td>\n",
       "      <td>-16.96296</td>\n",
       "      <td>...</td>\n",
       "      <td>0.02550</td>\n",
       "      <td>0.02937</td>\n",
       "      <td>0.01146</td>\n",
       "      <td>-0.35376</td>\n",
       "      <td>4</td>\n",
       "      <td>0</td>\n",
       "      <td>0</td>\n",
       "      <td>0</td>\n",
       "      <td>0</td>\n",
       "      <td>0</td>\n",
       "    </tr>\n",
       "  </tbody>\n",
       "</table>\n",
       "<p>5 rows × 114 columns</p>\n",
       "</div>"
      ],
      "text/plain": [
       "            retail_1  foreigner_1  institution_1  financial_1  invtrust_1  \\\n",
       "2023-07-25  -1.62014     -1.74463       -2.80931     -2.57158     4.16830   \n",
       "2023-07-26  -1.02074     -0.69863        0.70306     -0.25381    -6.18725   \n",
       "2023-07-27  11.67804     -2.32694       -2.13240     -3.79076    -0.09364   \n",
       "2023-07-28  -7.99330     -1.92512        1.88798      0.70830    -1.67492   \n",
       "2023-07-31  -1.44154     -1.40674       -1.48558     -1.55055    -0.49731   \n",
       "\n",
       "            pension_1  privequity_1    bank_1  insurance_1  financeetc_1  ...  \\\n",
       "2023-07-25   -7.60716      -3.90526  -1.00869      6.95385       0.04361  ...   \n",
       "2023-07-26   -0.08864      -1.38024 -60.78571     -0.41586       1.29251  ...   \n",
       "2023-07-27   -1.51316      -3.14933  -0.19474     -8.00828      -1.37146  ...   \n",
       "2023-07-28   -0.17268       7.05550   1.18249      0.38034      -1.04569  ...   \n",
       "2023-07-31   -1.17460      -1.69682  -0.50102     -0.14599     -16.96296  ...   \n",
       "\n",
       "             high_2    low_2  close_2    vol_2  weekday  cr_00 cr_05 cr_10  \\\n",
       "2023-07-25 -0.00839 -0.01271 -0.00845  0.37871        0      0     0     0   \n",
       "2023-07-26  0.00142  0.00576 -0.00427 -0.13395        1      0     0     0   \n",
       "2023-07-27 -0.00423 -0.02575 -0.00852  1.23691        2      1     1     1   \n",
       "2023-07-28  0.01702 -0.00716  0.02429  0.69481        3      0     0     0   \n",
       "2023-07-31  0.02550  0.02937  0.01146 -0.35376        4      0     0     0   \n",
       "\n",
       "            cr_15  cr_20  \n",
       "2023-07-25      0      0  \n",
       "2023-07-26      0      0  \n",
       "2023-07-27      1      1  \n",
       "2023-07-28      0      0  \n",
       "2023-07-31      0      0  \n",
       "\n",
       "[5 rows x 114 columns]"
      ]
     },
     "execution_count": 20,
     "metadata": {},
     "output_type": "execute_result"
    }
   ],
   "source": [
    "df_sec_combine.tail()"
   ]
  },
  {
   "cell_type": "code",
   "execution_count": 21,
   "id": "bf7224df",
   "metadata": {},
   "outputs": [],
   "source": [
    "nanlo = locate_nan(df_sec_combine)  # nan 위치 찾기"
   ]
  },
  {
   "cell_type": "code",
   "execution_count": 22,
   "id": "2f63d7f5",
   "metadata": {},
   "outputs": [
    {
     "name": "stdout",
     "output_type": "stream",
     "text": [
      "[[datetime.date(2022, 1, 18) 'dji_cr']\n",
      " [datetime.date(2022, 1, 18) 'dji_f_cr']\n",
      " [datetime.date(2022, 1, 18) 'dxy_cr']\n",
      " ...\n",
      " [datetime.date(2023, 7, 31) 'ixut_cr_2']\n",
      " [datetime.date(2023, 7, 31) 'nbi_cr_2']\n",
      " [datetime.date(2023, 7, 31) 'bkx_cr_2']]\n"
     ]
    }
   ],
   "source": [
    "print(nanlo)"
   ]
  },
  {
   "cell_type": "code",
   "execution_count": 23,
   "id": "21a6d628",
   "metadata": {},
   "outputs": [],
   "source": [
    "# delete rows which include NaN : dji, spx, nasdaq 기타 common 지수중 한개라도 nan인 rows 제거\n",
    "for key, val in code.items():\n",
    "    globals()['df_{}_combine'.format(val[1])].dropna(inplace=True)"
   ]
  },
  {
   "cell_type": "code",
   "execution_count": 24,
   "id": "c6f3061c",
   "metadata": {},
   "outputs": [],
   "source": [
    "# string column을 numeric으로 전환\n",
    "def string_to_num(df):\n",
    "    df.replace('%', '', regex=True, inplace=True)\n",
    "    df = df.apply(pd.to_numeric)\n",
    "    return df\n",
    "\n",
    "for key, val in code.items():\n",
    "    globals()['df_{}_combine'.format(val[1])] = string_to_num(globals()['df_{}_combine'.format(val[1])])"
   ]
  },
  {
   "cell_type": "code",
   "execution_count": 25,
   "id": "7e8d5acf",
   "metadata": {},
   "outputs": [],
   "source": [
    "# pickle로 데이터 저장\n",
    "\n",
    "for key, val in code.items():\n",
    "    globals()[f'df_{val[1]}_combine'].to_pickle(directory_for_predict + f'df_{val[1]}_combine.pkl')\n",
    "    globals()[f'df_{val[1]}_combine'].to_csv(directory_for_predict + f'df_{val[1]}_combine.csv')"
   ]
  },
  {
   "cell_type": "code",
   "execution_count": null,
   "id": "a01825d3",
   "metadata": {},
   "outputs": [],
   "source": []
  },
  {
   "cell_type": "code",
   "execution_count": null,
   "id": "a1f7c9d1",
   "metadata": {},
   "outputs": [],
   "source": []
  },
  {
   "cell_type": "code",
   "execution_count": null,
   "id": "bc80b897",
   "metadata": {},
   "outputs": [],
   "source": []
  }
 ],
 "metadata": {
  "kernelspec": {
   "display_name": "Python 3 (ipykernel)",
   "language": "python",
   "name": "python3"
  },
  "language_info": {
   "codemirror_mode": {
    "name": "ipython",
    "version": 3
   },
   "file_extension": ".py",
   "mimetype": "text/x-python",
   "name": "python",
   "nbconvert_exporter": "python",
   "pygments_lexer": "ipython3",
   "version": "3.10.7"
  }
 },
 "nbformat": 4,
 "nbformat_minor": 5
}
