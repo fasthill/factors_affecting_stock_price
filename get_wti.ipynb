{
 "cells": [
  {
   "cell_type": "code",
   "execution_count": 1,
   "id": "1cddba06",
   "metadata": {},
   "outputs": [],
   "source": [
    "import requests\n",
    "from bs4 import BeautifulSoup as bs\n",
    "\n",
    "import pandas as pd\n",
    "\n",
    "import datetime\n",
    "from datetime import date"
   ]
  },
  {
   "cell_type": "code",
   "execution_count": 2,
   "id": "bb35c22a",
   "metadata": {},
   "outputs": [
    {
     "data": {
      "text/html": [
       "<div>\n",
       "<style scoped>\n",
       "    .dataframe tbody tr th:only-of-type {\n",
       "        vertical-align: middle;\n",
       "    }\n",
       "\n",
       "    .dataframe tbody tr th {\n",
       "        vertical-align: top;\n",
       "    }\n",
       "\n",
       "    .dataframe thead th {\n",
       "        text-align: right;\n",
       "    }\n",
       "</style>\n",
       "<table border=\"1\" class=\"dataframe\">\n",
       "  <thead>\n",
       "    <tr style=\"text-align: right;\">\n",
       "      <th></th>\n",
       "      <th>date</th>\n",
       "      <th>ixic</th>\n",
       "      <th>ixic_cr</th>\n",
       "      <th>ixic_f</th>\n",
       "      <th>ixic_f_cr</th>\n",
       "      <th>dji</th>\n",
       "      <th>dji_cr</th>\n",
       "      <th>dji_f</th>\n",
       "      <th>dji_f_cr</th>\n",
       "      <th>spx_cr</th>\n",
       "      <th>...</th>\n",
       "      <th>fu_date</th>\n",
       "      <th>op_date</th>\n",
       "      <th>open</th>\n",
       "      <th>high</th>\n",
       "      <th>high_time</th>\n",
       "      <th>low</th>\n",
       "      <th>low_time</th>\n",
       "      <th>close</th>\n",
       "      <th>vol</th>\n",
       "      <th>vol_cr</th>\n",
       "    </tr>\n",
       "  </thead>\n",
       "  <tbody>\n",
       "    <tr>\n",
       "      <th>0</th>\n",
       "      <td>NaN</td>\n",
       "      <td>1</td>\n",
       "      <td>2</td>\n",
       "      <td>3</td>\n",
       "      <td>4</td>\n",
       "      <td>5</td>\n",
       "      <td>NaN</td>\n",
       "      <td>NaN</td>\n",
       "      <td>NaN</td>\n",
       "      <td>NaN</td>\n",
       "      <td>...</td>\n",
       "      <td>NaN</td>\n",
       "      <td>NaN</td>\n",
       "      <td>NaN</td>\n",
       "      <td>NaN</td>\n",
       "      <td>NaN</td>\n",
       "      <td>NaN</td>\n",
       "      <td>NaN</td>\n",
       "      <td>NaN</td>\n",
       "      <td>NaN</td>\n",
       "      <td>NaN</td>\n",
       "    </tr>\n",
       "  </tbody>\n",
       "</table>\n",
       "<p>1 rows × 64 columns</p>\n",
       "</div>"
      ],
      "text/plain": [
       "   date  ixic  ixic_cr  ixic_f  ixic_f_cr  dji  dji_cr  dji_f  dji_f_cr  \\\n",
       "0   NaN     1        2       3          4    5     NaN    NaN       NaN   \n",
       "\n",
       "   spx_cr  ...  fu_date  op_date  open  high  high_time  low  low_time  close  \\\n",
       "0     NaN  ...      NaN      NaN   NaN   NaN        NaN  NaN       NaN    NaN   \n",
       "\n",
       "   vol  vol_cr  \n",
       "0  NaN     NaN  \n",
       "\n",
       "[1 rows x 64 columns]"
      ]
     },
     "execution_count": 2,
     "metadata": {},
     "output_type": "execute_result"
    }
   ],
   "source": [
    "data_url = 'https://raw.githubusercontent.com/fasthill/factors_affecting_stock_price/main/data/data.csv'\n",
    "df = pd.read_csv(data_url)\n",
    "df.head()"
   ]
  },
  {
   "cell_type": "code",
   "execution_count": 3,
   "id": "7b8764bc",
   "metadata": {},
   "outputs": [
    {
     "data": {
      "text/html": [
       "<div>\n",
       "<style scoped>\n",
       "    .dataframe tbody tr th:only-of-type {\n",
       "        vertical-align: middle;\n",
       "    }\n",
       "\n",
       "    .dataframe tbody tr th {\n",
       "        vertical-align: top;\n",
       "    }\n",
       "\n",
       "    .dataframe thead th {\n",
       "        text-align: right;\n",
       "    }\n",
       "</style>\n",
       "<table border=\"1\" class=\"dataframe\">\n",
       "  <thead>\n",
       "    <tr style=\"text-align: right;\">\n",
       "      <th></th>\n",
       "      <th>date</th>\n",
       "      <th>ixic</th>\n",
       "      <th>ixic_cr</th>\n",
       "      <th>ixic_f</th>\n",
       "      <th>ixic_f_cr</th>\n",
       "      <th>dji</th>\n",
       "      <th>dji_cr</th>\n",
       "      <th>dji_f</th>\n",
       "      <th>dji_f_cr</th>\n",
       "      <th>spx_cr</th>\n",
       "      <th>...</th>\n",
       "      <th>fu_date</th>\n",
       "      <th>op_date</th>\n",
       "      <th>open</th>\n",
       "      <th>high</th>\n",
       "      <th>high_time</th>\n",
       "      <th>low</th>\n",
       "      <th>low_time</th>\n",
       "      <th>close</th>\n",
       "      <th>vol</th>\n",
       "      <th>vol_cr</th>\n",
       "    </tr>\n",
       "  </thead>\n",
       "  <tbody>\n",
       "  </tbody>\n",
       "</table>\n",
       "<p>0 rows × 64 columns</p>\n",
       "</div>"
      ],
      "text/plain": [
       "Empty DataFrame\n",
       "Columns: [date, ixic, ixic_cr, ixic_f, ixic_f_cr, dji, dji_cr, dji_f, dji_f_cr, spx_cr, spx_cr.1, spx_f, spx_f_cr, kospi, kospi_cr, kosdaq, kosdaq_cr, wti, dxy, krw, 10_bond, 2_bond, 3_m_bond, vix, vix_cr, f_g_index, sox, pp, pp_cr, pp_con_num, fp, fp_cr, fp_con_num, itp, itp_cr, itp_con_num, penp, penp_cr, penp_con_num, pep, pep_cr, pep_con_num, gold, gold_cr, rc1_pcr, rc2_pcr, rc3_pcr, rc4_pcr, fed_rate, fed_rate_ann, fed_rate-imp, bok_rate, bok_rate_ann, bok_rate-imp, fu_date, op_date, open, high, high_time, low, low_time, close, vol, vol_cr]\n",
       "Index: []\n",
       "\n",
       "[0 rows x 64 columns]"
      ]
     },
     "execution_count": 3,
     "metadata": {},
     "output_type": "execute_result"
    }
   ],
   "source": [
    "df.drop([0], inplace=True) # inplace가 없으면 전체 index를 삭제할 수 없음.\n",
    "df.head()"
   ]
  },
  {
   "cell_type": "code",
   "execution_count": 4,
   "id": "610a243a",
   "metadata": {},
   "outputs": [],
   "source": [
    "url1 = 'https://kr.investing.com/commodities/crude-oil-historical-data'\n",
    "res = requests.get(url1)\n",
    "soup = bs(res.text, 'html.parser')\n",
    "wti = soup.select('#results_box tr')\n",
    "\n",
    "wti_date_value = {}\n",
    "for i, tr in enumerate(wti):\n",
    "    if (i == 0) | (i == len(wti)-1) : continue\n",
    "    tr_value = tr.select('td')\n",
    "    wti_date_value[tr_value[0].text] = tr_value[1].text"
   ]
  },
  {
   "cell_type": "code",
   "execution_count": 7,
   "id": "5488be68",
   "metadata": {},
   "outputs": [],
   "source": [
    "from datetime import date\n",
    "date_list = []\n",
    "for i, (date, val) in enumerate(wti_date_value.items()):\n",
    "    date_split = date.split()\n",
    "    yr = date_split[0]\n",
    "    mon = date_split[1]\n",
    "    day = date_split[2]\n",
    "    yr = int(yr[:-1])\n",
    "    mon = int(mon[:-1])\n",
    "    day = int(day[:-1])\n",
    "    time = datetime.date(yr,mon,day)\n",
    "    date_list.append(time)"
   ]
  },
  {
   "cell_type": "code",
   "execution_count": 6,
   "id": "8a714f46",
   "metadata": {},
   "outputs": [
    {
     "data": {
      "text/plain": [
       "[datetime.date(2022, 6, 14),\n",
       " datetime.date(2022, 6, 13),\n",
       " datetime.date(2022, 6, 12),\n",
       " datetime.date(2022, 6, 10),\n",
       " datetime.date(2022, 6, 9),\n",
       " datetime.date(2022, 6, 8),\n",
       " datetime.date(2022, 6, 7),\n",
       " datetime.date(2022, 6, 6),\n",
       " datetime.date(2022, 6, 3),\n",
       " datetime.date(2022, 6, 2),\n",
       " datetime.date(2022, 6, 1),\n",
       " datetime.date(2022, 5, 31),\n",
       " datetime.date(2022, 5, 30),\n",
       " datetime.date(2022, 5, 29),\n",
       " datetime.date(2022, 5, 27),\n",
       " datetime.date(2022, 5, 26),\n",
       " datetime.date(2022, 5, 25),\n",
       " datetime.date(2022, 5, 24),\n",
       " datetime.date(2022, 5, 23),\n",
       " datetime.date(2022, 5, 20),\n",
       " datetime.date(2022, 5, 19),\n",
       " datetime.date(2022, 5, 18),\n",
       " datetime.date(2022, 5, 17),\n",
       " datetime.date(2022, 5, 16)]"
      ]
     },
     "execution_count": 6,
     "metadata": {},
     "output_type": "execute_result"
    }
   ],
   "source": [
    "date_list"
   ]
  },
  {
   "cell_type": "code",
   "execution_count": null,
   "id": "dcefa654",
   "metadata": {},
   "outputs": [],
   "source": [
    "nas_url = 'https://www.investing.com/indices/nasdaq-composite-chart'\n",
    "res = requests.get(nas_url)\n",
    "soup = bs(res.text, 'html.parser')\n",
    "nas = soup.select('#last_last')[0].text\n",
    "nas = float(nas.replace(\",\", \"\"))\n",
    "nas"
   ]
  },
  {
   "cell_type": "code",
   "execution_count": null,
   "id": "7f671696",
   "metadata": {},
   "outputs": [],
   "source": [
    "dow_url = 'https://www.investing.com/indices/us-30'\n",
    "res = requests.get(dow_url)\n",
    "soup = bs(res.text, 'html.parser')\n",
    "select_path = '#__next > div.desktop\\:relative.desktop\\:bg-background-default > div > div > div.grid.gap-4.tablet\\:gap-6.grid-cols-4.tablet\\:grid-cols-8.desktop\\:grid-cols-12.grid-container--fixed-desktop.general-layout_main__3tg3t > main > div > div.instrument-header_instrument-header__1SRl8.mb-5.bg-background-surface.tablet\\:grid.tablet\\:grid-cols-2 > div:nth-child(2) > div.instrument-price_instrument-price__3uw25.flex.items-end.flex-wrap.font-bold > span'\n",
    "dow = soup.select('span.text-2xl')[0].text\n",
    "dow = float(dow.replace(\",\", \"\"))\n",
    "dow"
   ]
  },
  {
   "cell_type": "code",
   "execution_count": null,
   "id": "82b176b1",
   "metadata": {},
   "outputs": [],
   "source": [
    "snp_url = 'https://www.investing.com/indices/us-spx-500'\n",
    "res = requests.get(snp_url)\n",
    "soup = bs(res.text, 'html.parser')\n",
    "snp = soup.select('span.text-2xl')[0].text\n",
    "snp = float(snp.replace(\",\", \"\"))\n",
    "snp"
   ]
  },
  {
   "cell_type": "markdown",
   "id": "8ed11bf3",
   "metadata": {},
   "source": [
    "삼성전자 투자자별"
   ]
  },
  {
   "cell_type": "code",
   "execution_count": null,
   "id": "16cc40cd",
   "metadata": {},
   "outputs": [],
   "source": [
    "path = 'body > table:nth-child(4) > tbody > tr > td > p:nth-child(6) > table > tbody > tr:nth-child(3) > td:nth-child(2)'"
   ]
  },
  {
   "cell_type": "code",
   "execution_count": null,
   "id": "a481c307",
   "metadata": {},
   "outputs": [],
   "source": [
    "ss_url = 'https://vip.mk.co.kr/newSt/price/trade.php?stCode=005930'\n",
    "res = requests.get(ss_url)\n",
    "soup = bs(res.text, 'html.parser')\n",
    "tables = soup.select('table')"
   ]
  },
  {
   "cell_type": "code",
   "execution_count": null,
   "id": "76885d4a",
   "metadata": {},
   "outputs": [],
   "source": [
    "body > table:nth-child(4) > tbody > tr > td > p:nth-child(6) > table > tbody > tr:nth-child(4) > td:nth-child(1) > font"
   ]
  },
  {
   "cell_type": "code",
   "execution_count": null,
   "id": "d48607cc",
   "metadata": {},
   "outputs": [],
   "source": [
    "res.text"
   ]
  },
  {
   "cell_type": "code",
   "execution_count": null,
   "id": "a13044b4",
   "metadata": {},
   "outputs": [],
   "source": [
    "df = pd.read_html('https://vip.mk.co.kr/newSt/price/trade.php?stCode=005930', header=0)[0]\n",
    "df.head()"
   ]
  },
  {
   "cell_type": "code",
   "execution_count": null,
   "id": "34a2080b",
   "metadata": {},
   "outputs": [],
   "source": [
    "tables[0]"
   ]
  },
  {
   "cell_type": "code",
   "execution_count": null,
   "id": "d334bfd1",
   "metadata": {},
   "outputs": [],
   "source": [
    "ss_url = 'https://vip.mk.co.kr/newSt/price/trade.php?stCode=005930'\n",
    "res = requests.get(ss_url)\n",
    "soup = bs(res.text, 'html.parser')\n",
    "tables = soup.select('tbody')\n",
    "\n",
    "# 현재 페이지에서 table 태그 모두 선택하기\n",
    "# tables = soup.select('table')\n",
    "\n",
    "# 하나의 테이블 태그 선택하기\n",
    "table = tables[0]"
   ]
  },
  {
   "cell_type": "code",
   "execution_count": null,
   "id": "ca8bf934",
   "metadata": {},
   "outputs": [],
   "source": []
  },
  {
   "cell_type": "code",
   "execution_count": null,
   "id": "e870bdc8",
   "metadata": {},
   "outputs": [],
   "source": [
    "tables[0]"
   ]
  },
  {
   "cell_type": "code",
   "execution_count": null,
   "id": "75e3ff0d",
   "metadata": {},
   "outputs": [],
   "source": [
    "\n",
    "\n",
    "# 테이블 html 정보를 문자열로 변경하기\n",
    "table_html = str(table)\n",
    "\n",
    "# 판다스의 read_html 로 테이블 정보 읽기\n",
    "table_df_list = pd.read_html(table_html, header=0, encoding='utf-8')\n",
    "\n",
    "# 데이터프레임 선택하기\n",
    "table_df = table_df_list[0]"
   ]
  },
  {
   "cell_type": "code",
   "execution_count": null,
   "id": "638ae91f",
   "metadata": {},
   "outputs": [],
   "source": [
    "table_df.head()"
   ]
  },
  {
   "cell_type": "code",
   "execution_count": null,
   "id": "6230c463",
   "metadata": {},
   "outputs": [],
   "source": [
    "df = pd.read_html('<table>' + str(table) + '</table>', encoding='euc-kr')[0]"
   ]
  },
  {
   "cell_type": "code",
   "execution_count": null,
   "id": "d87b850e",
   "metadata": {},
   "outputs": [],
   "source": [
    "df.head()"
   ]
  },
  {
   "cell_type": "code",
   "execution_count": null,
   "id": "3c4c533d",
   "metadata": {},
   "outputs": [],
   "source": []
  },
  {
   "cell_type": "code",
   "execution_count": null,
   "id": "88c7ce7d",
   "metadata": {},
   "outputs": [],
   "source": [
    "ss_url = 'https://vip.mk.co.kr/newSt/price/trade.php?stCode=005930'\n",
    "res = requests.get(ss_url)\n",
    "soup = bs(res.text, 'html.parser')\n",
    "tables = soup.select('tbody')\n",
    "\n",
    "# 현재 페이지에서 table 태그 모두 선택하기\n",
    "# tables = soup.select('table')\n",
    "\n",
    "# 하나의 테이블 태그 선택하기\n",
    "table = tables[0]"
   ]
  },
  {
   "cell_type": "code",
   "execution_count": null,
   "id": "cd26df3f",
   "metadata": {},
   "outputs": [],
   "source": [
    "ss_url = 'https://vip.mk.co.kr/newSt/price/trade.php?stCode=005930'"
   ]
  },
  {
   "cell_type": "code",
   "execution_count": null,
   "id": "c305e60d",
   "metadata": {},
   "outputs": [],
   "source": [
    "res = requests.get(ss_url)"
   ]
  },
  {
   "cell_type": "code",
   "execution_count": null,
   "id": "426706d8",
   "metadata": {},
   "outputs": [],
   "source": [
    "print(res.encoding)"
   ]
  },
  {
   "cell_type": "code",
   "execution_count": null,
   "id": "8ea885b4",
   "metadata": {},
   "outputs": [],
   "source": [
    "res.raise_for_status()"
   ]
  },
  {
   "cell_type": "code",
   "execution_count": null,
   "id": "b03f0ade",
   "metadata": {},
   "outputs": [],
   "source": [
    "res.encoding = 'euc-kr'"
   ]
  },
  {
   "cell_type": "code",
   "execution_count": null,
   "id": "95e9fc2f",
   "metadata": {},
   "outputs": [],
   "source": [
    "res.text"
   ]
  },
  {
   "cell_type": "code",
   "execution_count": null,
   "id": "e20889e5",
   "metadata": {},
   "outputs": [],
   "source": [
    "soup = bs(res.text, 'html.parser')"
   ]
  },
  {
   "cell_type": "code",
   "execution_count": null,
   "id": "87827185",
   "metadata": {},
   "outputs": [],
   "source": [
    "print(soup.prettify())"
   ]
  },
  {
   "cell_type": "code",
   "execution_count": null,
   "id": "3831ad3b",
   "metadata": {},
   "outputs": [],
   "source": [
    "tables = soup.select('table.content1')\n",
    "\n",
    "# 현재 페이지에서 table 태그 모두 선택하기\n",
    "# tables = soup.select('table')"
   ]
  },
  {
   "cell_type": "code",
   "execution_count": null,
   "id": "eea3e111",
   "metadata": {},
   "outputs": [],
   "source": [
    "tables"
   ]
  },
  {
   "cell_type": "code",
   "execution_count": null,
   "id": "9d142585",
   "metadata": {},
   "outputs": [],
   "source": [
    "# 하나의 테이블 태그 선택하기\n",
    "table = tables[0]"
   ]
  },
  {
   "cell_type": "code",
   "execution_count": null,
   "id": "ec777532",
   "metadata": {},
   "outputs": [],
   "source": [
    "df = pd.read_html('<table>' + str(table) + '</table>')\n",
    "# df = pd.read_html(str(table))"
   ]
  },
  {
   "cell_type": "code",
   "execution_count": null,
   "id": "bebb1d6a",
   "metadata": {},
   "outputs": [],
   "source": [
    "df"
   ]
  },
  {
   "cell_type": "code",
   "execution_count": null,
   "id": "6963a3f9",
   "metadata": {},
   "outputs": [],
   "source": []
  }
 ],
 "metadata": {
  "kernelspec": {
   "display_name": "Python 3 (ipykernel)",
   "language": "python",
   "name": "python3"
  },
  "language_info": {
   "codemirror_mode": {
    "name": "ipython",
    "version": 3
   },
   "file_extension": ".py",
   "mimetype": "text/x-python",
   "name": "python",
   "nbconvert_exporter": "python",
   "pygments_lexer": "ipython3",
   "version": "3.9.1"
  }
 },
 "nbformat": 4,
 "nbformat_minor": 5
}
