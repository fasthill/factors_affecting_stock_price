{
 "cells": [
  {
   "cell_type": "code",
   "execution_count": null,
   "id": "8a337fce",
   "metadata": {},
   "outputs": [],
   "source": [
    "import pandas as pd\n",
    "import numpy as np\n",
    "\n",
    "import datetime\n",
    "from datetime import date\n",
    "\n",
    "import os\n",
    "import shutil"
   ]
  },
  {
   "cell_type": "code",
   "execution_count": null,
   "id": "ef01f0e5",
   "metadata": {},
   "outputs": [],
   "source": [
    "df_org = pd.read_csv('data/{}'.format('data.csv'))\n",
    "df_org['date'] = df_org['date'].apply(lambda x : datetime.datetime.strptime(x, \"%Y-%m-%d\"))\n",
    "df_org.set_index('date', inplace=True)"
   ]
  },
  {
   "cell_type": "code",
   "execution_count": null,
   "id": "naval-water",
   "metadata": {},
   "outputs": [],
   "source": [
    "df = pd.read_csv('data/currencies/{}'.format('cc1_krw_rate_20220531.csv'))\n",
    "df.columns = ['date', 'krw', 'open', 'high', 'low', 'krw_cr']\n",
    "df['date'] = df['date'].apply(lambda x : datetime.datetime.strptime(x, \"%Y년 %m월 %d일\"))\n",
    "# df의 index를 모두 'date'로 설정\n",
    "df_select = df[['date', 'krw', 'krw_cr']]\n",
    "df_select.set_index('date', inplace=True)\n",
    "\n",
    "df_org.update(df_select) # done krw before 22020531"
   ]
  },
  {
   "cell_type": "code",
   "execution_count": null,
   "id": "tired-quick",
   "metadata": {},
   "outputs": [],
   "source": [
    "df_org.reset_index(inplace=True)\n",
    "df_org.to_csv('data/data.csv', index=False)"
   ]
  }
 ],
 "metadata": {
  "kernelspec": {
   "display_name": "Python 3",
   "language": "python",
   "name": "python3"
  },
  "language_info": {
   "codemirror_mode": {
    "name": "ipython",
    "version": 3
   },
   "file_extension": ".py",
   "mimetype": "text/x-python",
   "name": "python",
   "nbconvert_exporter": "python",
   "pygments_lexer": "ipython3",
   "version": "3.9.1"
  }
 },
 "nbformat": 4,
 "nbformat_minor": 5
}
