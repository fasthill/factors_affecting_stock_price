{
 "cells": [
  {
   "cell_type": "markdown",
   "id": "25b184a9",
   "metadata": {},
   "source": [
    "#### 지표 자동 UPDATE \n",
    "   - 주요 주식시장 지수 : spx, dji, ixix, kospi, kosdaq\n",
    "   - 반도체지수, VIX 지수: sox, vix\n",
    "   - 미국 채권 지수, 한국 채권 지수\n",
    "   - 원화 환율\n",
    "   - 선물 : 미국 3대 지수, wti, 달러지수 선물"
   ]
  },
  {
   "cell_type": "code",
   "execution_count": 1,
   "id": "matched-interview",
   "metadata": {},
   "outputs": [],
   "source": [
    "# from bs4 import BeautifulSoup as bs\n",
    "import requests\n",
    "import datetime, time\n",
    "# from datetime import date\n",
    "\n",
    "import pandas as pd\n",
    "# import numpy as np\n",
    "\n",
    "import os\n",
    "import shutil"
   ]
  },
  {
   "cell_type": "code",
   "execution_count": 2,
   "id": "selective-ireland",
   "metadata": {},
   "outputs": [],
   "source": [
    "headers = {'User-Agent': 'Mozilla/5.0 (Macintosh; Intel Mac OS X 10_11_5) \\\n",
    "           AppleWebKit/537.36 (KHTML, like Gecko) Chrome/50.0.2661.102 Safari/537.36'}"
   ]
  },
  {
   "cell_type": "code",
   "execution_count": 3,
   "id": "f8058508",
   "metadata": {},
   "outputs": [],
   "source": [
    "df_org = pd.read_csv('data/{}'.format('data_common.csv'))\n",
    "df_org['date'] = df_org['date'].apply(lambda x : datetime.datetime.strptime(x, \"%Y-%m-%d\"))\n",
    "df_org.set_index('date', inplace=True)"
   ]
  },
  {
   "cell_type": "markdown",
   "id": "c185509b",
   "metadata": {},
   "source": [
    "1\tdate\n",
    "2\tixic\n",
    "3\tixic_cr\n",
    "4\tixic_f\n",
    "5\tixic_f_cr\n",
    "6\tdji\n",
    "7\tdji_cr\n",
    "8\tdji_f\n",
    "9\tdji_f_cr\n",
    "10\tspx\n",
    "11\tspx_cr\n",
    "12\tspx_f\n",
    "13\tspx_f_cr\n",
    "14\tkospi\n",
    "15\tkospi_cr\n",
    "16\tkosdaq\n",
    "17\tkosdaq_cr\n",
    "18\twti\n",
    "19\twti_cr\n",
    "20\tdxy\n",
    "21\tdxy_cr\n",
    "22\tkrw\n",
    "23\tkrw_cr\n",
    "24\tbond_usa_10\n",
    "25\tbond_usa_10_cr\n",
    "26\tbond_usa_2\n",
    "27\tbond_usa_2_cr\n",
    "28\tbond_usa_3m\n",
    "29\tbond_usa_3m_cr\n",
    "30\tbond_kor_10\n",
    "31\tbond_kor_10_cr\n",
    "32\tbond_kor_2\n",
    "33\tbond_kor_2_cr\n",
    "34\tvix\n",
    "35\tvix_cr\n",
    "36\tf_g_index\n",
    "37\tsox\n",
    "38\tsox_cr\n",
    "39\tcpi\n",
    "40\tcpi_anticipated\n",
    "41\tcpi_previous\n",
    "42\tgold\n",
    "43\tgold_cr\n",
    "44\tfed_rate\n",
    "45\tfed_rate_fore\n",
    "46\tfed_rate_prev\n",
    "47\tfed_rate_ann\n",
    "48\tfed_rate_imp\n",
    "49\tbok_rate\n",
    "50\tbok_rate_fore\n",
    "51\tbok_rate_prev\n",
    "52\tbok_rate_ann\n",
    "53\tbok_rate_imp\n",
    "54\tfu_usa_date\n",
    "55\top_usa_date\n",
    "56\tqw_usa_day\n",
    "57\tfu_kor_date\n",
    "58\top_kor_date\n",
    "59\tdw_kor_day\n"
   ]
  },
  {
   "cell_type": "code",
   "execution_count": null,
   "id": "a2004710",
   "metadata": {},
   "outputs": [],
   "source": [
    "spx_url = 'https://kr.investing.com/indices/us-spx-500-historical-data'\n",
    "dji_url = 'https://kr.investing.com/indices/us-30-historical-data'\n",
    "nas_url = 'https://kr.investing.com/indices/nasdaq-composite-historical-data'\n",
    "kospi_url = 'https://kr.investing.com/indices/kospi-historical-data'\n",
    "kosdaq_url = 'https://kr.investing.com/indices/kosdaq-historical-data'\n",
    "sox_url = 'https://kr.investing.com/indices/phlx-semiconductor-historical-data'\n",
    "# cpi_url = 'https://kr.investing.com/economic-calendar/cpi-733'\n",
    "vix_url = 'https://kr.investing.com/indices/volatility-s-p-500-historical-data'\n",
    "\n",
    "urls_major_index = [spx_url, dji_url, nas_url, kospi_url, kosdaq_url, sox_url, vix_url]\n",
    "\n",
    "\n",
    "spx = ['date', 'spx', 'open', 'high', 'low', 'volume', 'spx_cr']\n",
    "dji = ['date', 'dji', 'open', 'high', 'low', 'volume', 'dji_cr']\n",
    "ixix = ['date', 'ixic', 'open', 'high', 'low', 'volume', 'ixic_cr']\n",
    "kospi = ['date', 'kospi', 'open', 'high', 'low', 'volume', 'kospi_cr']\n",
    "kosdaq = ['date', 'kosdaq', 'open', 'high', 'low', 'volume', 'kosdaq_cr']\n",
    "sox = ['date', 'sox', 'open', 'high', 'low', 'volume', 'sox_cr']\n",
    "# cpi = ['date', 'time', 'cpi', 'cpi_anticipated', 'cpi_previous', 'none']\n",
    "# fng = ['date', 'n1', 'n2', 'n3', 'f_g_index']\n",
    "vix = ['date', 'vix', 'open', 'high', 'low', 'volume', 'vix_cr']\n",
    "\n",
    "col_names_major_index = [spx, dji, ixix, kospi, kosdaq, sox, vix ]\n",
    "\n",
    "spx_s = ['date', 'spx', 'spx_cr']\n",
    "dji_s = ['date', 'dji', 'dji_cr']\n",
    "ixic_s = ['date', 'ixic', 'ixic_cr']\n",
    "kospi_s = ['date', 'kospi', 'kospi_cr']\n",
    "kosdaq_s = ['date', 'kosdaq', 'kosdaq_cr']\n",
    "sox_s = ['date', 'sox', 'sox_cr']\n",
    "# cpi_s = ['date', 'cpi', 'cpi_anticipated', 'cpi_previous']\n",
    "# fng_s = ['date', 'f_g_index']\n",
    "vix_s = ['date', 'vix', 'vix_cr']\n",
    "\n",
    "col_names_s_major_index = [spx_s, dji_s, ixic_s, kospi_s, kosdaq_s, sox_s, vix_s]"
   ]
  },
  {
   "cell_type": "code",
   "execution_count": null,
   "id": "fd7c61ba",
   "metadata": {},
   "outputs": [],
   "source": [
    "us_bond_10yr_url = 'https://kr.investing.com/rates-bonds/u.s.-10-year-bond-yield-historical-data'\n",
    "us_bond_2yr_url = 'https://kr.investing.com/rates-bonds/u.s.-2-year-bond-yield-historical-data'\n",
    "us_bond_3mon_url = 'https://kr.investing.com/rates-bonds/u.s.-3-month-bond-yield-historical-data'\n",
    "kor_bond_10yr_url = 'https://kr.investing.com/rates-bonds/south-korea-10-year-bond-yield-historical-data'\n",
    "kor_bond_2yr_url = 'https://kr.investing.com/rates-bonds/south-korea-2-year-bond-yield-historical-data'\n",
    "\n",
    "urls_bonds = [us_bond_10yr_url, us_bond_2yr_url, us_bond_3mon_url,\n",
    "        kor_bond_10yr_url, kor_bond_2yr_url]\n",
    "\n",
    "# urls = [us_bond_10yr_url]"
   ]
  },
  {
   "cell_type": "code",
   "execution_count": null,
   "id": "f65ce98d",
   "metadata": {},
   "outputs": [],
   "source": [
    "us_10yr = ['date', 'bond_usa_10', 'open', 'high', 'low', 'bond_usa_10_cr']\n",
    "us_2yr = ['date', 'bond_usa_2', 'open', 'high', 'low', 'bond_usa_2_cr']\n",
    "us_3mon = ['date', 'bond_usa_3m', 'open', 'high', 'low', 'bond_usa_3m_cr']\n",
    "kor_10yr = ['date', 'bond_kor_10', 'open', 'high', 'low', 'bond_kor_10_cr']\n",
    "kor_2yr = ['date', 'bond_kor_2', 'open', 'high', 'low','bond_kor_2_cr']\n",
    "\n",
    "col_names_bonds = [us_10yr, us_2yr, us_3mon, kor_10yr, kor_2yr]"
   ]
  },
  {
   "cell_type": "code",
   "execution_count": null,
   "id": "8a337fce",
   "metadata": {},
   "outputs": [],
   "source": [
    "us_10yr_s = ['date', 'bond_usa_10', 'bond_usa_10_cr']\n",
    "us_2yr_s = ['date', 'bond_usa_2', 'bond_usa_2_cr']\n",
    "us_3mon_s = ['date', 'bond_usa_3m', 'bond_usa_3m_cr']\n",
    "kor_10yr_s = ['date', 'bond_kor_10', 'bond_kor_10_cr']\n",
    "kor_2yr_s = ['date', 'bond_kor_2', 'bond_kor_2_cr']\n",
    "\n",
    "col_names_s_bonds = [us_10yr_s, us_2yr_s, us_3mon_s, kor_10yr_s, kor_2yr_s]"
   ]
  },
  {
   "cell_type": "code",
   "execution_count": null,
   "id": "03a9f19a",
   "metadata": {},
   "outputs": [],
   "source": [
    "krw_rate_url = 'https://kr.investing.com/currencies/usd-krw-historical-data'\n",
    "\n",
    "urls_currencies = [krw_rate_url]"
   ]
  },
  {
   "cell_type": "code",
   "execution_count": null,
   "id": "c02ec268",
   "metadata": {},
   "outputs": [],
   "source": [
    "krw_rate = ['date', 'krw', 'open', 'high', 'low', 'krw_cr']\n",
    "\n",
    "col_names_currencies = [krw_rate]"
   ]
  },
  {
   "cell_type": "code",
   "execution_count": null,
   "id": "147243b8",
   "metadata": {},
   "outputs": [],
   "source": [
    "krw_rate_s = ['date', 'krw', 'krw_cr']\n",
    "\n",
    "col_names_s_currencies = [krw_rate_s]"
   ]
  },
  {
   "cell_type": "code",
   "execution_count": null,
   "id": "74aec2da",
   "metadata": {},
   "outputs": [],
   "source": [
    "nas_futures_url = 'https://kr.investing.com/indices/nq-100-futures-historical-data'\n",
    "snp_futures_url = 'https://kr.investing.com/indices/us-spx-500-futures-historical-data'\n",
    "dow_futures_url = 'https://kr.investing.com/indices/us-30-futures-historical-data'\n",
    "wti_futures_url = 'https://kr.investing.com/commodities/crude-oil-historical-data'\n",
    "dollar_index_url = 'https://kr.investing.com/currencies/us-dollar-index-historical-data'\n",
    "\n",
    "urls_future = [snp_futures_url, dow_futures_url,  nas_futures_url, wti_futures_url, dollar_index_url ]\n",
    "\n",
    "snp_future = ['date', 'spx_f', 'open', 'high', 'low', 'volume', 'spx_f_cr']\n",
    "dji_future = ['date', 'dji_f', 'open', 'high', 'low', 'volume', 'dji_f_cr']\n",
    "ixic_future = ['date', 'ixic_f', 'open', 'high', 'low', 'volume', 'ixic_f_cr']\n",
    "wti_future = ['date', 'wti', 'open', 'high', 'low', 'volume', 'wti_cr']\n",
    "dxy_future = ['date', 'dxy', 'open', 'high', 'low', 'volume', 'dxy_cr']\n",
    "\n",
    "col_names_future = [snp_future,dji_future,ixic_future, wti_future, dxy_future]\n",
    "\n",
    "snp_future_s = ['date', 'spx_f', 'spx_f_cr']\n",
    "dji_future_s = ['date', 'dji_f', 'dji_f_cr']\n",
    "ixic_future_s = ['date', 'ixic_f', 'ixic_f_cr']\n",
    "wti_future_s = ['date', 'wti', 'wti_cr']\n",
    "dxy_future_s = ['date', 'dxy', 'dxy_cr']\n",
    "\n",
    "col_names_s_future  = [snp_future_s, dji_future_s, ixic_future_s, wti_future_s, dxy_future_s]\n"
   ]
  },
  {
   "cell_type": "code",
   "execution_count": null,
   "id": "6c2fd5c0",
   "metadata": {},
   "outputs": [],
   "source": [
    "urls = urls_major_index + urls_bonds + urls_currencies + urls_future\n",
    "col_names = col_names_major_index + col_names_bonds + col_names_currencies + col_names_future\n",
    "col_names_s = col_names_s_major_index + col_names_s_bonds + col_names_s_currencies + col_names_s_future"
   ]
  },
  {
   "cell_type": "code",
   "execution_count": null,
   "id": "ef01f0e5",
   "metadata": {},
   "outputs": [],
   "source": [
    "for i, url in enumerate(urls):\n",
    "    res = requests.get(url, headers=headers)\n",
    "    df = pd.read_html(res.text, attrs={\"id\": \"curr_table\"}, flavor=[\"lxml\", \"bs4\"])[0]\n",
    "    print(url)\n",
    "    df.columns = col_names[i]\n",
    "    df['date'] = df['date'].apply(lambda x : datetime.datetime.strptime(x, \"%Y년 %m월 %d일\"))\n",
    "    df_select = df[col_names_s[i]]\n",
    "    df_select.set_index('date', inplace=True)\n",
    "    df_org.update(df_select)"
   ]
  },
  {
   "cell_type": "markdown",
   "id": "hydraulic-driving",
   "metadata": {},
   "source": [
    "#### get append cpi"
   ]
  },
  {
   "cell_type": "code",
   "execution_count": null,
   "id": "welcome-bailey",
   "metadata": {},
   "outputs": [],
   "source": [
    "cpi_url = 'https://kr.investing.com/economic-calendar/cpi-733'"
   ]
  },
  {
   "cell_type": "code",
   "execution_count": null,
   "id": "quick-universe",
   "metadata": {},
   "outputs": [],
   "source": [
    "res = requests.get(cpi_url, headers=headers)\n",
    "df = pd.read_html(res.text, flavor=[\"lxml\", \"bs4\"])[0]\n",
    "df.columns = ['date', 'time', 'cpi', 'cpi_anticipated', 'cpi_previous', 'none']\n",
    "df['time'] = df['time'].apply(lambda x : datetime.datetime.strptime(x, \"%H:%M\").time())\n",
    "df['date'] = df['date'].apply(lambda x : datetime.datetime.strptime(x[:13], \"%Y년 %m월 %d일\"))\n",
    "df_select = df[['date', 'cpi', 'cpi_anticipated', 'cpi_previous']]\n",
    "df_select.set_index('date', inplace=True)\n",
    "df_org.update(df_select)"
   ]
  },
  {
   "cell_type": "markdown",
   "id": "professional-allergy",
   "metadata": {},
   "source": [
    "#### get append fear and greed"
   ]
  },
  {
   "cell_type": "code",
   "execution_count": 4,
   "id": "affiliated-married",
   "metadata": {},
   "outputs": [],
   "source": [
    "import requests, csv, yfinance, pytz, json\n",
    "from datetime import datetime\n",
    "import datetime"
   ]
  },
  {
   "cell_type": "code",
   "execution_count": 5,
   "id": "suburban-simulation",
   "metadata": {},
   "outputs": [],
   "source": [
    "today = datetime.date.today()\n",
    "today_p = today.strftime('%Y%m%d')\n",
    "diff_days = datetime.timedelta(days=30)\n",
    "today = today - diff_days\n",
    "start_date = today.strftime('%Y-%m-%d')"
   ]
  },
  {
   "cell_type": "code",
   "execution_count": 6,
   "id": "nervous-steel",
   "metadata": {},
   "outputs": [],
   "source": [
    "BASE_URL = \"https://production.dataviz.cnn.io/index/fearandgreed/graphdata\"\n",
    "# START_DATE = '2022-01-01'\n",
    "START_DATE = start_date"
   ]
  },
  {
   "cell_type": "code",
   "execution_count": 7,
   "id": "historical-pastor",
   "metadata": {},
   "outputs": [],
   "source": [
    "headers = {'User-Agent': 'Mozilla/5.0 (Macintosh; Intel Mac OS X 10_11_5) \\\n",
    "           AppleWebKit/537.36 (KHTML, like Gecko) Chrome/50.0.2661.102 Safari/537.36'}"
   ]
  },
  {
   "cell_type": "code",
   "execution_count": 8,
   "id": "practical-munich",
   "metadata": {},
   "outputs": [],
   "source": [
    "# url = \"https://production.dataviz.cnn.io/index/fearandgreed/graphdata/2022-01-01\"\n",
    "# r = requests.get(url, headers=headers)"
   ]
  },
  {
   "cell_type": "code",
   "execution_count": 9,
   "id": "governmental-undergraduate",
   "metadata": {},
   "outputs": [],
   "source": [
    "r = requests.get(\"{}/{}\".format(BASE_URL, START_DATE), headers=headers)"
   ]
  },
  {
   "cell_type": "code",
   "execution_count": 10,
   "id": "developmental-folks",
   "metadata": {},
   "outputs": [],
   "source": [
    "data = r.json()"
   ]
  },
  {
   "cell_type": "code",
   "execution_count": 11,
   "id": "mature-louis",
   "metadata": {},
   "outputs": [],
   "source": [
    "fg_data = data['fear_and_greed_historical']['data']"
   ]
  },
  {
   "cell_type": "code",
   "execution_count": 12,
   "id": "white-frequency",
   "metadata": {},
   "outputs": [],
   "source": [
    "fear_greed_values = {}\n",
    "FEAR_GREED_CSV_FILENAME = 'data/indices_major/aa9_fear_greed_' + today_p +'.csv'"
   ]
  },
  {
   "cell_type": "code",
   "execution_count": 13,
   "id": "political-deposit",
   "metadata": {},
   "outputs": [],
   "source": [
    "with open(FEAR_GREED_CSV_FILENAME, 'w', newline='') as csvfile:\n",
    "    writer = csv.writer(csvfile)\n",
    "    writer.writerow(['Date','','','','Fear Greed'])\n",
    "\n",
    "    for data in fg_data:\n",
    "        dt = datetime.datetime.fromtimestamp(data['x'] / 1000, tz=pytz.utc)\n",
    "        fear_greed_values[dt.date()] = int(data['y'])\n",
    "        writer.writerow([dt.date(), \"\", \"\", \"\", int(data['y'])])"
   ]
  },
  {
   "cell_type": "code",
   "execution_count": 14,
   "id": "built-herald",
   "metadata": {},
   "outputs": [],
   "source": [
    "df = pd.read_csv(FEAR_GREED_CSV_FILENAME)\n",
    "df.columns = ['date', 'n1', 'n2', 'n3', 'f_g_index']\n",
    "df['date'] = df['date'].apply(lambda x : datetime.datetime.strptime(x, \"%Y-%m-%d\"))\n",
    "df_select = df[['date', 'f_g_index']]\n",
    "df_select.set_index('date', inplace=True)\n",
    "# df_org.update(df_select)"
   ]
  },
  {
   "cell_type": "code",
   "execution_count": 16,
   "id": "champion-recruitment",
   "metadata": {},
   "outputs": [
    {
     "ename": "ValueError",
     "evalue": "Shape of passed values is (366, 58), indices imply (365, 58)",
     "output_type": "error",
     "traceback": [
      "\u001b[1;31m---------------------------------------------------------------------------\u001b[0m",
      "\u001b[1;31mValueError\u001b[0m                                Traceback (most recent call last)",
      "Input \u001b[1;32mIn [16]\u001b[0m, in \u001b[0;36m<module>\u001b[1;34m\u001b[0m\n\u001b[1;32m----> 1\u001b[0m \u001b[43mdf_org\u001b[49m\u001b[38;5;241;43m.\u001b[39;49m\u001b[43mupdate\u001b[49m\u001b[43m(\u001b[49m\u001b[43mdf_select\u001b[49m\u001b[43m)\u001b[49m\n",
      "File \u001b[1;32mc:\\users\\user\\appdata\\local\\programs\\python\\python39\\lib\\site-packages\\pandas\\core\\frame.py:7487\u001b[0m, in \u001b[0;36mDataFrame.update\u001b[1;34m(self, other, join, overwrite, filter_func, errors)\u001b[0m\n\u001b[0;32m   7484\u001b[0m \u001b[38;5;28;01mif\u001b[39;00m \u001b[38;5;129;01mnot\u001b[39;00m \u001b[38;5;28misinstance\u001b[39m(other, DataFrame):\n\u001b[0;32m   7485\u001b[0m     other \u001b[38;5;241m=\u001b[39m DataFrame(other)\n\u001b[1;32m-> 7487\u001b[0m other \u001b[38;5;241m=\u001b[39m \u001b[43mother\u001b[49m\u001b[38;5;241;43m.\u001b[39;49m\u001b[43mreindex_like\u001b[49m\u001b[43m(\u001b[49m\u001b[38;5;28;43mself\u001b[39;49m\u001b[43m)\u001b[49m\n\u001b[0;32m   7489\u001b[0m \u001b[38;5;28;01mfor\u001b[39;00m col \u001b[38;5;129;01min\u001b[39;00m \u001b[38;5;28mself\u001b[39m\u001b[38;5;241m.\u001b[39mcolumns:\n\u001b[0;32m   7490\u001b[0m     this \u001b[38;5;241m=\u001b[39m \u001b[38;5;28mself\u001b[39m[col]\u001b[38;5;241m.\u001b[39m_values\n",
      "File \u001b[1;32mc:\\users\\user\\appdata\\local\\programs\\python\\python39\\lib\\site-packages\\pandas\\core\\generic.py:4119\u001b[0m, in \u001b[0;36mNDFrame.reindex_like\u001b[1;34m(self, other, method, copy, limit, tolerance)\u001b[0m\n\u001b[0;32m   4018\u001b[0m \u001b[38;5;124;03m\"\"\"\u001b[39;00m\n\u001b[0;32m   4019\u001b[0m \u001b[38;5;124;03mReturn an object with matching indices as other object.\u001b[39;00m\n\u001b[0;32m   4020\u001b[0m \n\u001b[1;32m   (...)\u001b[0m\n\u001b[0;32m   4109\u001b[0m \u001b[38;5;124;03m2014-02-15          35.1              NaN    medium\u001b[39;00m\n\u001b[0;32m   4110\u001b[0m \u001b[38;5;124;03m\"\"\"\u001b[39;00m\n\u001b[0;32m   4111\u001b[0m d \u001b[38;5;241m=\u001b[39m other\u001b[38;5;241m.\u001b[39m_construct_axes_dict(\n\u001b[0;32m   4112\u001b[0m     axes\u001b[38;5;241m=\u001b[39m\u001b[38;5;28mself\u001b[39m\u001b[38;5;241m.\u001b[39m_AXIS_ORDERS,\n\u001b[0;32m   4113\u001b[0m     method\u001b[38;5;241m=\u001b[39mmethod,\n\u001b[1;32m   (...)\u001b[0m\n\u001b[0;32m   4116\u001b[0m     tolerance\u001b[38;5;241m=\u001b[39mtolerance,\n\u001b[0;32m   4117\u001b[0m )\n\u001b[1;32m-> 4119\u001b[0m \u001b[38;5;28;01mreturn\u001b[39;00m \u001b[38;5;28mself\u001b[39m\u001b[38;5;241m.\u001b[39mreindex(\u001b[38;5;241m*\u001b[39m\u001b[38;5;241m*\u001b[39md)\n",
      "File \u001b[1;32mc:\\users\\user\\appdata\\local\\programs\\python\\python39\\lib\\site-packages\\pandas\\util\\_decorators.py:324\u001b[0m, in \u001b[0;36mrewrite_axis_style_signature.<locals>.decorate.<locals>.wrapper\u001b[1;34m(*args, **kwargs)\u001b[0m\n\u001b[0;32m    322\u001b[0m \u001b[38;5;129m@wraps\u001b[39m(func)\n\u001b[0;32m    323\u001b[0m \u001b[38;5;28;01mdef\u001b[39;00m \u001b[38;5;21mwrapper\u001b[39m(\u001b[38;5;241m*\u001b[39margs, \u001b[38;5;241m*\u001b[39m\u001b[38;5;241m*\u001b[39mkwargs) \u001b[38;5;241m-\u001b[39m\u001b[38;5;241m>\u001b[39m Callable[\u001b[38;5;241m.\u001b[39m\u001b[38;5;241m.\u001b[39m\u001b[38;5;241m.\u001b[39m, Any]:\n\u001b[1;32m--> 324\u001b[0m     \u001b[38;5;28;01mreturn\u001b[39;00m func(\u001b[38;5;241m*\u001b[39margs, \u001b[38;5;241m*\u001b[39m\u001b[38;5;241m*\u001b[39mkwargs)\n",
      "File \u001b[1;32mc:\\users\\user\\appdata\\local\\programs\\python\\python39\\lib\\site-packages\\pandas\\core\\frame.py:4772\u001b[0m, in \u001b[0;36mDataFrame.reindex\u001b[1;34m(self, *args, **kwargs)\u001b[0m\n\u001b[0;32m   4770\u001b[0m kwargs\u001b[38;5;241m.\u001b[39mpop(\u001b[38;5;124m\"\u001b[39m\u001b[38;5;124maxis\u001b[39m\u001b[38;5;124m\"\u001b[39m, \u001b[38;5;28;01mNone\u001b[39;00m)\n\u001b[0;32m   4771\u001b[0m kwargs\u001b[38;5;241m.\u001b[39mpop(\u001b[38;5;124m\"\u001b[39m\u001b[38;5;124mlabels\u001b[39m\u001b[38;5;124m\"\u001b[39m, \u001b[38;5;28;01mNone\u001b[39;00m)\n\u001b[1;32m-> 4772\u001b[0m \u001b[38;5;28;01mreturn\u001b[39;00m \u001b[38;5;28msuper\u001b[39m()\u001b[38;5;241m.\u001b[39mreindex(\u001b[38;5;241m*\u001b[39m\u001b[38;5;241m*\u001b[39mkwargs)\n",
      "File \u001b[1;32mc:\\users\\user\\appdata\\local\\programs\\python\\python39\\lib\\site-packages\\pandas\\core\\generic.py:4815\u001b[0m, in \u001b[0;36mNDFrame.reindex\u001b[1;34m(self, *args, **kwargs)\u001b[0m\n\u001b[0;32m   4813\u001b[0m \u001b[38;5;66;03m# check if we are a multi reindex\u001b[39;00m\n\u001b[0;32m   4814\u001b[0m \u001b[38;5;28;01mif\u001b[39;00m \u001b[38;5;28mself\u001b[39m\u001b[38;5;241m.\u001b[39m_needs_reindex_multi(axes, method, level):\n\u001b[1;32m-> 4815\u001b[0m     \u001b[38;5;28;01mreturn\u001b[39;00m \u001b[38;5;28;43mself\u001b[39;49m\u001b[38;5;241;43m.\u001b[39;49m\u001b[43m_reindex_multi\u001b[49m\u001b[43m(\u001b[49m\u001b[43maxes\u001b[49m\u001b[43m,\u001b[49m\u001b[43m \u001b[49m\u001b[43mcopy\u001b[49m\u001b[43m,\u001b[49m\u001b[43m \u001b[49m\u001b[43mfill_value\u001b[49m\u001b[43m)\u001b[49m\n\u001b[0;32m   4817\u001b[0m \u001b[38;5;66;03m# perform the reindex on the axes\u001b[39;00m\n\u001b[0;32m   4818\u001b[0m \u001b[38;5;28;01mreturn\u001b[39;00m \u001b[38;5;28mself\u001b[39m\u001b[38;5;241m.\u001b[39m_reindex_axes(\n\u001b[0;32m   4819\u001b[0m     axes, level, limit, tolerance, method, fill_value, copy\n\u001b[0;32m   4820\u001b[0m )\u001b[38;5;241m.\u001b[39m__finalize__(\u001b[38;5;28mself\u001b[39m, method\u001b[38;5;241m=\u001b[39m\u001b[38;5;124m\"\u001b[39m\u001b[38;5;124mreindex\u001b[39m\u001b[38;5;124m\"\u001b[39m)\n",
      "File \u001b[1;32mc:\\users\\user\\appdata\\local\\programs\\python\\python39\\lib\\site-packages\\pandas\\core\\frame.py:4655\u001b[0m, in \u001b[0;36mDataFrame._reindex_multi\u001b[1;34m(self, axes, copy, fill_value)\u001b[0m\n\u001b[0;32m   4652\u001b[0m     \u001b[38;5;66;03m# error: Argument 2 to \"take_2d_multi\" has incompatible type \"Tuple[Any,\u001b[39;00m\n\u001b[0;32m   4653\u001b[0m     \u001b[38;5;66;03m# Any]\"; expected \"ndarray\"\u001b[39;00m\n\u001b[0;32m   4654\u001b[0m     new_values \u001b[38;5;241m=\u001b[39m take_2d_multi(\u001b[38;5;28mself\u001b[39m\u001b[38;5;241m.\u001b[39mvalues, indexer, fill_value\u001b[38;5;241m=\u001b[39mfill_value)\n\u001b[1;32m-> 4655\u001b[0m     \u001b[38;5;28;01mreturn\u001b[39;00m \u001b[38;5;28;43mself\u001b[39;49m\u001b[38;5;241;43m.\u001b[39;49m\u001b[43m_constructor\u001b[49m\u001b[43m(\u001b[49m\u001b[43mnew_values\u001b[49m\u001b[43m,\u001b[49m\u001b[43m \u001b[49m\u001b[43mindex\u001b[49m\u001b[38;5;241;43m=\u001b[39;49m\u001b[43mnew_index\u001b[49m\u001b[43m,\u001b[49m\u001b[43m \u001b[49m\u001b[43mcolumns\u001b[49m\u001b[38;5;241;43m=\u001b[39;49m\u001b[43mnew_columns\u001b[49m\u001b[43m)\u001b[49m\n\u001b[0;32m   4656\u001b[0m \u001b[38;5;28;01melse\u001b[39;00m:\n\u001b[0;32m   4657\u001b[0m     \u001b[38;5;28;01mreturn\u001b[39;00m \u001b[38;5;28mself\u001b[39m\u001b[38;5;241m.\u001b[39m_reindex_with_indexers(\n\u001b[0;32m   4658\u001b[0m         {\u001b[38;5;241m0\u001b[39m: [new_index, row_indexer], \u001b[38;5;241m1\u001b[39m: [new_columns, col_indexer]},\n\u001b[0;32m   4659\u001b[0m         copy\u001b[38;5;241m=\u001b[39mcopy,\n\u001b[0;32m   4660\u001b[0m         fill_value\u001b[38;5;241m=\u001b[39mfill_value,\n\u001b[0;32m   4661\u001b[0m     )\n",
      "File \u001b[1;32mc:\\users\\user\\appdata\\local\\programs\\python\\python39\\lib\\site-packages\\pandas\\core\\frame.py:672\u001b[0m, in \u001b[0;36mDataFrame.__init__\u001b[1;34m(self, data, index, columns, dtype, copy)\u001b[0m\n\u001b[0;32m    662\u001b[0m         mgr \u001b[38;5;241m=\u001b[39m dict_to_mgr(\n\u001b[0;32m    663\u001b[0m             \u001b[38;5;66;03m# error: Item \"ndarray\" of \"Union[ndarray, Series, Index]\" has no\u001b[39;00m\n\u001b[0;32m    664\u001b[0m             \u001b[38;5;66;03m# attribute \"name\"\u001b[39;00m\n\u001b[1;32m   (...)\u001b[0m\n\u001b[0;32m    669\u001b[0m             typ\u001b[38;5;241m=\u001b[39mmanager,\n\u001b[0;32m    670\u001b[0m         )\n\u001b[0;32m    671\u001b[0m     \u001b[38;5;28;01melse\u001b[39;00m:\n\u001b[1;32m--> 672\u001b[0m         mgr \u001b[38;5;241m=\u001b[39m \u001b[43mndarray_to_mgr\u001b[49m\u001b[43m(\u001b[49m\n\u001b[0;32m    673\u001b[0m \u001b[43m            \u001b[49m\u001b[43mdata\u001b[49m\u001b[43m,\u001b[49m\n\u001b[0;32m    674\u001b[0m \u001b[43m            \u001b[49m\u001b[43mindex\u001b[49m\u001b[43m,\u001b[49m\n\u001b[0;32m    675\u001b[0m \u001b[43m            \u001b[49m\u001b[43mcolumns\u001b[49m\u001b[43m,\u001b[49m\n\u001b[0;32m    676\u001b[0m \u001b[43m            \u001b[49m\u001b[43mdtype\u001b[49m\u001b[38;5;241;43m=\u001b[39;49m\u001b[43mdtype\u001b[49m\u001b[43m,\u001b[49m\n\u001b[0;32m    677\u001b[0m \u001b[43m            \u001b[49m\u001b[43mcopy\u001b[49m\u001b[38;5;241;43m=\u001b[39;49m\u001b[43mcopy\u001b[49m\u001b[43m,\u001b[49m\n\u001b[0;32m    678\u001b[0m \u001b[43m            \u001b[49m\u001b[43mtyp\u001b[49m\u001b[38;5;241;43m=\u001b[39;49m\u001b[43mmanager\u001b[49m\u001b[43m,\u001b[49m\n\u001b[0;32m    679\u001b[0m \u001b[43m        \u001b[49m\u001b[43m)\u001b[49m\n\u001b[0;32m    681\u001b[0m \u001b[38;5;66;03m# For data is list-like, or Iterable (will consume into list)\u001b[39;00m\n\u001b[0;32m    682\u001b[0m \u001b[38;5;28;01melif\u001b[39;00m is_list_like(data):\n",
      "File \u001b[1;32mc:\\users\\user\\appdata\\local\\programs\\python\\python39\\lib\\site-packages\\pandas\\core\\internals\\construction.py:324\u001b[0m, in \u001b[0;36mndarray_to_mgr\u001b[1;34m(values, index, columns, dtype, copy, typ)\u001b[0m\n\u001b[0;32m    319\u001b[0m \u001b[38;5;66;03m# _prep_ndarray ensures that values.ndim == 2 at this point\u001b[39;00m\n\u001b[0;32m    320\u001b[0m index, columns \u001b[38;5;241m=\u001b[39m _get_axes(\n\u001b[0;32m    321\u001b[0m     values\u001b[38;5;241m.\u001b[39mshape[\u001b[38;5;241m0\u001b[39m], values\u001b[38;5;241m.\u001b[39mshape[\u001b[38;5;241m1\u001b[39m], index\u001b[38;5;241m=\u001b[39mindex, columns\u001b[38;5;241m=\u001b[39mcolumns\n\u001b[0;32m    322\u001b[0m )\n\u001b[1;32m--> 324\u001b[0m \u001b[43m_check_values_indices_shape_match\u001b[49m\u001b[43m(\u001b[49m\u001b[43mvalues\u001b[49m\u001b[43m,\u001b[49m\u001b[43m \u001b[49m\u001b[43mindex\u001b[49m\u001b[43m,\u001b[49m\u001b[43m \u001b[49m\u001b[43mcolumns\u001b[49m\u001b[43m)\u001b[49m\n\u001b[0;32m    326\u001b[0m \u001b[38;5;28;01mif\u001b[39;00m typ \u001b[38;5;241m==\u001b[39m \u001b[38;5;124m\"\u001b[39m\u001b[38;5;124marray\u001b[39m\u001b[38;5;124m\"\u001b[39m:\n\u001b[0;32m    328\u001b[0m     \u001b[38;5;28;01mif\u001b[39;00m \u001b[38;5;28missubclass\u001b[39m(values\u001b[38;5;241m.\u001b[39mdtype\u001b[38;5;241m.\u001b[39mtype, \u001b[38;5;28mstr\u001b[39m):\n",
      "File \u001b[1;32mc:\\users\\user\\appdata\\local\\programs\\python\\python39\\lib\\site-packages\\pandas\\core\\internals\\construction.py:393\u001b[0m, in \u001b[0;36m_check_values_indices_shape_match\u001b[1;34m(values, index, columns)\u001b[0m\n\u001b[0;32m    391\u001b[0m passed \u001b[38;5;241m=\u001b[39m values\u001b[38;5;241m.\u001b[39mshape\n\u001b[0;32m    392\u001b[0m implied \u001b[38;5;241m=\u001b[39m (\u001b[38;5;28mlen\u001b[39m(index), \u001b[38;5;28mlen\u001b[39m(columns))\n\u001b[1;32m--> 393\u001b[0m \u001b[38;5;28;01mraise\u001b[39;00m \u001b[38;5;167;01mValueError\u001b[39;00m(\u001b[38;5;124mf\u001b[39m\u001b[38;5;124m\"\u001b[39m\u001b[38;5;124mShape of passed values is \u001b[39m\u001b[38;5;132;01m{\u001b[39;00mpassed\u001b[38;5;132;01m}\u001b[39;00m\u001b[38;5;124m, indices imply \u001b[39m\u001b[38;5;132;01m{\u001b[39;00mimplied\u001b[38;5;132;01m}\u001b[39;00m\u001b[38;5;124m\"\u001b[39m)\n",
      "\u001b[1;31mValueError\u001b[0m: Shape of passed values is (366, 58), indices imply (365, 58)"
     ]
    }
   ],
   "source": [
    "df_org.update(df_select)"
   ]
  },
  {
   "cell_type": "code",
   "execution_count": null,
   "id": "fc27473b",
   "metadata": {},
   "outputs": [],
   "source": [
    "df_org.reset_index(inplace=True)\n",
    "df_org.to_csv('data/data_common.csv', index=False)"
   ]
  },
  {
   "cell_type": "code",
   "execution_count": 15,
   "id": "pacific-ecology",
   "metadata": {},
   "outputs": [
    {
     "data": {
      "text/html": [
       "<div>\n",
       "<style scoped>\n",
       "    .dataframe tbody tr th:only-of-type {\n",
       "        vertical-align: middle;\n",
       "    }\n",
       "\n",
       "    .dataframe tbody tr th {\n",
       "        vertical-align: top;\n",
       "    }\n",
       "\n",
       "    .dataframe thead th {\n",
       "        text-align: right;\n",
       "    }\n",
       "</style>\n",
       "<table border=\"1\" class=\"dataframe\">\n",
       "  <thead>\n",
       "    <tr style=\"text-align: right;\">\n",
       "      <th></th>\n",
       "      <th>f_g_index</th>\n",
       "    </tr>\n",
       "    <tr>\n",
       "      <th>date</th>\n",
       "      <th></th>\n",
       "    </tr>\n",
       "  </thead>\n",
       "  <tbody>\n",
       "    <tr>\n",
       "      <th>2022-06-03</th>\n",
       "      <td>27</td>\n",
       "    </tr>\n",
       "    <tr>\n",
       "      <th>2022-06-04</th>\n",
       "      <td>27</td>\n",
       "    </tr>\n",
       "    <tr>\n",
       "      <th>2022-06-06</th>\n",
       "      <td>29</td>\n",
       "    </tr>\n",
       "    <tr>\n",
       "      <th>2022-06-07</th>\n",
       "      <td>31</td>\n",
       "    </tr>\n",
       "    <tr>\n",
       "      <th>2022-06-08</th>\n",
       "      <td>32</td>\n",
       "    </tr>\n",
       "    <tr>\n",
       "      <th>2022-06-09</th>\n",
       "      <td>31</td>\n",
       "    </tr>\n",
       "    <tr>\n",
       "      <th>2022-06-10</th>\n",
       "      <td>28</td>\n",
       "    </tr>\n",
       "    <tr>\n",
       "      <th>2022-06-11</th>\n",
       "      <td>28</td>\n",
       "    </tr>\n",
       "    <tr>\n",
       "      <th>2022-06-13</th>\n",
       "      <td>17</td>\n",
       "    </tr>\n",
       "    <tr>\n",
       "      <th>2022-06-14</th>\n",
       "      <td>17</td>\n",
       "    </tr>\n",
       "    <tr>\n",
       "      <th>2022-06-15</th>\n",
       "      <td>20</td>\n",
       "    </tr>\n",
       "    <tr>\n",
       "      <th>2022-06-16</th>\n",
       "      <td>13</td>\n",
       "    </tr>\n",
       "    <tr>\n",
       "      <th>2022-06-17</th>\n",
       "      <td>14</td>\n",
       "    </tr>\n",
       "    <tr>\n",
       "      <th>2022-06-18</th>\n",
       "      <td>14</td>\n",
       "    </tr>\n",
       "    <tr>\n",
       "      <th>2022-06-20</th>\n",
       "      <td>14</td>\n",
       "    </tr>\n",
       "    <tr>\n",
       "      <th>2022-06-21</th>\n",
       "      <td>19</td>\n",
       "    </tr>\n",
       "    <tr>\n",
       "      <th>2022-06-22</th>\n",
       "      <td>21</td>\n",
       "    </tr>\n",
       "    <tr>\n",
       "      <th>2022-06-23</th>\n",
       "      <td>22</td>\n",
       "    </tr>\n",
       "    <tr>\n",
       "      <th>2022-06-24</th>\n",
       "      <td>27</td>\n",
       "    </tr>\n",
       "    <tr>\n",
       "      <th>2022-06-25</th>\n",
       "      <td>27</td>\n",
       "    </tr>\n",
       "    <tr>\n",
       "      <th>2022-06-27</th>\n",
       "      <td>28</td>\n",
       "    </tr>\n",
       "    <tr>\n",
       "      <th>2022-06-28</th>\n",
       "      <td>26</td>\n",
       "    </tr>\n",
       "    <tr>\n",
       "      <th>2022-06-29</th>\n",
       "      <td>25</td>\n",
       "    </tr>\n",
       "    <tr>\n",
       "      <th>2022-06-30</th>\n",
       "      <td>22</td>\n",
       "    </tr>\n",
       "    <tr>\n",
       "      <th>2022-07-01</th>\n",
       "      <td>24</td>\n",
       "    </tr>\n",
       "    <tr>\n",
       "      <th>2022-07-02</th>\n",
       "      <td>24</td>\n",
       "    </tr>\n",
       "    <tr>\n",
       "      <th>2022-07-02</th>\n",
       "      <td>24</td>\n",
       "    </tr>\n",
       "  </tbody>\n",
       "</table>\n",
       "</div>"
      ],
      "text/plain": [
       "            f_g_index\n",
       "date                 \n",
       "2022-06-03         27\n",
       "2022-06-04         27\n",
       "2022-06-06         29\n",
       "2022-06-07         31\n",
       "2022-06-08         32\n",
       "2022-06-09         31\n",
       "2022-06-10         28\n",
       "2022-06-11         28\n",
       "2022-06-13         17\n",
       "2022-06-14         17\n",
       "2022-06-15         20\n",
       "2022-06-16         13\n",
       "2022-06-17         14\n",
       "2022-06-18         14\n",
       "2022-06-20         14\n",
       "2022-06-21         19\n",
       "2022-06-22         21\n",
       "2022-06-23         22\n",
       "2022-06-24         27\n",
       "2022-06-25         27\n",
       "2022-06-27         28\n",
       "2022-06-28         26\n",
       "2022-06-29         25\n",
       "2022-06-30         22\n",
       "2022-07-01         24\n",
       "2022-07-02         24\n",
       "2022-07-02         24"
      ]
     },
     "execution_count": 15,
     "metadata": {},
     "output_type": "execute_result"
    }
   ],
   "source": [
    "df_select.tail(100)"
   ]
  },
  {
   "cell_type": "code",
   "execution_count": 18,
   "id": "dutch-passage",
   "metadata": {},
   "outputs": [
    {
     "data": {
      "text/html": [
       "<div>\n",
       "<style scoped>\n",
       "    .dataframe tbody tr th:only-of-type {\n",
       "        vertical-align: middle;\n",
       "    }\n",
       "\n",
       "    .dataframe tbody tr th {\n",
       "        vertical-align: top;\n",
       "    }\n",
       "\n",
       "    .dataframe thead th {\n",
       "        text-align: right;\n",
       "    }\n",
       "</style>\n",
       "<table border=\"1\" class=\"dataframe\">\n",
       "  <thead>\n",
       "    <tr style=\"text-align: right;\">\n",
       "      <th></th>\n",
       "      <th>f_g_index</th>\n",
       "    </tr>\n",
       "    <tr>\n",
       "      <th>date</th>\n",
       "      <th></th>\n",
       "    </tr>\n",
       "  </thead>\n",
       "  <tbody>\n",
       "    <tr>\n",
       "      <th>2022-06-25</th>\n",
       "      <td>NaN</td>\n",
       "    </tr>\n",
       "    <tr>\n",
       "      <th>2022-06-26</th>\n",
       "      <td>NaN</td>\n",
       "    </tr>\n",
       "    <tr>\n",
       "      <th>2022-06-27</th>\n",
       "      <td>NaN</td>\n",
       "    </tr>\n",
       "    <tr>\n",
       "      <th>2022-06-28</th>\n",
       "      <td>NaN</td>\n",
       "    </tr>\n",
       "    <tr>\n",
       "      <th>2022-06-29</th>\n",
       "      <td>NaN</td>\n",
       "    </tr>\n",
       "    <tr>\n",
       "      <th>2022-06-30</th>\n",
       "      <td>NaN</td>\n",
       "    </tr>\n",
       "    <tr>\n",
       "      <th>2022-07-01</th>\n",
       "      <td>NaN</td>\n",
       "    </tr>\n",
       "    <tr>\n",
       "      <th>2022-07-02</th>\n",
       "      <td>NaN</td>\n",
       "    </tr>\n",
       "    <tr>\n",
       "      <th>2022-07-03</th>\n",
       "      <td>NaN</td>\n",
       "    </tr>\n",
       "    <tr>\n",
       "      <th>2022-07-04</th>\n",
       "      <td>NaN</td>\n",
       "    </tr>\n",
       "  </tbody>\n",
       "</table>\n",
       "</div>"
      ],
      "text/plain": [
       "            f_g_index\n",
       "date                 \n",
       "2022-06-25        NaN\n",
       "2022-06-26        NaN\n",
       "2022-06-27        NaN\n",
       "2022-06-28        NaN\n",
       "2022-06-29        NaN\n",
       "2022-06-30        NaN\n",
       "2022-07-01        NaN\n",
       "2022-07-02        NaN\n",
       "2022-07-03        NaN\n",
       "2022-07-04        NaN"
      ]
     },
     "execution_count": 18,
     "metadata": {},
     "output_type": "execute_result"
    }
   ],
   "source": [
    "df_org[['f_g_index']][175:185]"
   ]
  },
  {
   "cell_type": "code",
   "execution_count": null,
   "id": "7122c9ab",
   "metadata": {},
   "outputs": [],
   "source": [
    "df_org.loc[175:185, 'f_g_index']"
   ]
  },
  {
   "cell_type": "code",
   "execution_count": null,
   "id": "01ab8e1d",
   "metadata": {},
   "outputs": [],
   "source": []
  }
 ],
 "metadata": {
  "kernelspec": {
   "display_name": "Python 3 (ipykernel)",
   "language": "python",
   "name": "python3"
  },
  "language_info": {
   "codemirror_mode": {
    "name": "ipython",
    "version": 3
   },
   "file_extension": ".py",
   "mimetype": "text/x-python",
   "name": "python",
   "nbconvert_exporter": "python",
   "pygments_lexer": "ipython3",
   "version": "3.9.1"
  }
 },
 "nbformat": 4,
 "nbformat_minor": 5
}
