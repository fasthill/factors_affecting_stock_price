{
 "cells": [
  {
   "cell_type": "code",
   "execution_count": 1,
   "id": "8a337fce",
   "metadata": {},
   "outputs": [],
   "source": [
    "import pandas as pd\n",
    "import numpy as np\n",
    "\n",
    "import datetime\n",
    "from datetime import date\n",
    "\n",
    "import os\n",
    "import shutil"
   ]
  },
  {
   "cell_type": "code",
   "execution_count": null,
   "id": "5d318c3f",
   "metadata": {},
   "outputs": [],
   "source": [
    "company_name = 'sec'"
   ]
  },
  {
   "cell_type": "code",
   "execution_count": null,
   "id": "af81fb48",
   "metadata": {},
   "outputs": [],
   "source": [
    "# 삼성전자 005930, 현대차 005830, 네이버 035420, KT&G 033780, \n",
    "company_code = {'sec': '005930', 'hyunmotor': '005830', 'naver': '035420', 'ktng': '033780'}"
   ]
  },
  {
   "cell_type": "code",
   "execution_count": null,
   "id": "1948c49c",
   "metadata": {},
   "outputs": [],
   "source": [
    "# for company_name, ticker in company_code.items():\n",
    "#     df_company = pd.read_csv('data/{}{}{}'.format('data_', company_name, '.csv'))\n",
    "#     df_company['date'] = df_company['date'].apply(lambda x : datetime.datetime.strptime(x, \"%Y-%m-%d\"))\n",
    "#     df_company.set_index('date', inplace=True)"
   ]
  },
  {
   "cell_type": "code",
   "execution_count": null,
   "id": "ef01f0e5",
   "metadata": {},
   "outputs": [],
   "source": [
    "df_company = pd.read_csv('data/{}{}{}'.format('data_', company_name, '.csv'))\n",
    "df_company['date'] = df_company['date'].apply(lambda x : datetime.datetime.strptime(x, \"%Y-%m-%d\"))\n",
    "df_company.set_index('date', inplace=True)"
   ]
  },
  {
   "cell_type": "code",
   "execution_count": null,
   "id": "a382435e",
   "metadata": {},
   "outputs": [],
   "source": [
    "df_company.head()"
   ]
  },
  {
   "cell_type": "code",
   "execution_count": null,
   "id": "9c729608",
   "metadata": {},
   "outputs": [],
   "source": [
    "dir_name = 'data/stocks/investor/'"
   ]
  },
  {
   "cell_type": "code",
   "execution_count": null,
   "id": "1b3a22d0",
   "metadata": {},
   "outputs": [],
   "source": [
    "# column_eng = ['date', 'retail', 'foreigner', 'institutional', \n",
    "#                'security', 'investment_trust', 'bank', 'investment_bank', 'insurance', 'pension', 'others']\n",
    "# column_kor = ['날짜', '개인', '외국인계', '기관계', '증권', '투신', '은행', '종금', '보험', '기금', '기타']\n",
    "column_name = ['date', 'pp', 'fp', 'institutional', \n",
    "               'security', 'itp', 'bank', 'investment_bank', 'insurance', 'penp', 'others']"
   ]
  },
  {
   "cell_type": "code",
   "execution_count": null,
   "id": "7550b282",
   "metadata": {},
   "outputs": [],
   "source": [
    "df = pd.read_csv('{}{}'.format(dir_name, '005930_sec_invester_from-20220420.csv'))\n",
    "df.columns = column_name\n",
    "df['date'] = df['date'].apply(lambda x : datetime.datetime.strptime(x, \"%Y/%m/%d\"))\n",
    "df_select = df[['date', 'pp', 'fp', 'itp', 'penp']]\n",
    "df_select.set_index('date', inplace=True)"
   ]
  },
  {
   "cell_type": "code",
   "execution_count": null,
   "id": "3b295d03",
   "metadata": {},
   "outputs": [],
   "source": [
    "df_select.tail()"
   ]
  },
  {
   "cell_type": "code",
   "execution_count": null,
   "id": "ad5644cb",
   "metadata": {},
   "outputs": [],
   "source": [
    "df_company.update(df_select)"
   ]
  },
  {
   "cell_type": "code",
   "execution_count": null,
   "id": "9e7aa068",
   "metadata": {},
   "outputs": [],
   "source": [
    "df_company.reset_index(inplace=True)\n",
    "df_company.to_csv('data/{}{}{}'.format('data_', company_name, '.csv'), index=False)"
   ]
  },
  {
   "cell_type": "code",
   "execution_count": null,
   "id": "06a20a63",
   "metadata": {},
   "outputs": [],
   "source": []
  },
  {
   "cell_type": "code",
   "execution_count": null,
   "id": "fbfc3432",
   "metadata": {},
   "outputs": [],
   "source": [
    "company_name = 'hyunmotor'\n",
    "df_company = pd.read_csv('data/{}{}{}'.format('data_', company_name, '.csv'))\n",
    "df_company['date'] = df_company['date'].apply(lambda x : datetime.datetime.strptime(x, \"%Y-%m-%d\"))\n",
    "df_company.set_index('date', inplace=True)"
   ]
  },
  {
   "cell_type": "code",
   "execution_count": null,
   "id": "3eeae505",
   "metadata": {},
   "outputs": [],
   "source": [
    "dir_name = 'data/stocks/investor/'\n",
    "column_name = ['date', 'pp', 'fp', 'institutional', \n",
    "               'security', 'itp', 'bank', 'investment_bank', 'insurance', 'penp', 'others']\n",
    "df = pd.read_csv('{}{}'.format(dir_name, '005830_hyunmotor_invester_from-20220420.csv'))\n",
    "df.columns = column_name\n",
    "df['date'] = df['date'].apply(lambda x : datetime.datetime.strptime(x, \"%Y/%m/%d\"))\n",
    "df_select = df[['date', 'pp', 'fp', 'itp', 'penp']]\n",
    "df_select.set_index('date', inplace=True)"
   ]
  },
  {
   "cell_type": "code",
   "execution_count": null,
   "id": "72e3b9c8",
   "metadata": {},
   "outputs": [],
   "source": [
    "df_company.update(df_select)\n",
    "df_company.reset_index(inplace=True)\n",
    "df_company.to_csv('data/{}{}{}'.format('data_', company_name, '.csv'), index=False)"
   ]
  },
  {
   "cell_type": "code",
   "execution_count": null,
   "id": "7f549e93",
   "metadata": {},
   "outputs": [],
   "source": []
  },
  {
   "cell_type": "code",
   "execution_count": null,
   "id": "3b42abc1",
   "metadata": {},
   "outputs": [],
   "source": [
    "company_name = 'naver'\n",
    "df_company = pd.read_csv('data/{}{}{}'.format('data_', company_name, '.csv'))\n",
    "df_company['date'] = df_company['date'].apply(lambda x : datetime.datetime.strptime(x, \"%Y-%m-%d\"))\n",
    "df_company.set_index('date', inplace=True)"
   ]
  },
  {
   "cell_type": "code",
   "execution_count": null,
   "id": "fce43e14",
   "metadata": {},
   "outputs": [],
   "source": [
    "dir_name = 'data/stocks/investor/'\n",
    "column_name = ['date', 'pp', 'fp', 'institutional', \n",
    "               'security', 'itp', 'bank', 'investment_bank', 'insurance', 'penp', 'others']\n",
    "df = pd.read_csv('{}{}'.format(dir_name, '035420_naver_invester_from-20220420.csv'))\n",
    "df.columns = column_name\n",
    "df['date'] = df['date'].apply(lambda x : datetime.datetime.strptime(x, \"%Y/%m/%d\"))\n",
    "df_select = df[['date', 'pp', 'fp', 'itp', 'penp']]\n",
    "df_select.set_index('date', inplace=True)"
   ]
  },
  {
   "cell_type": "code",
   "execution_count": null,
   "id": "c8e50b6a",
   "metadata": {},
   "outputs": [],
   "source": [
    "df_company.update(df_select)\n",
    "df_company.reset_index(inplace=True)\n",
    "df_company.to_csv('data/{}{}{}'.format('data_', company_name, '.csv'), index=False)"
   ]
  },
  {
   "cell_type": "code",
   "execution_count": null,
   "id": "51c44122",
   "metadata": {},
   "outputs": [],
   "source": []
  },
  {
   "cell_type": "code",
   "execution_count": null,
   "id": "8bd38e3e",
   "metadata": {},
   "outputs": [],
   "source": [
    "company_name = 'ktng'\n",
    "df_company = pd.read_csv('data/{}{}{}'.format('data_', company_name, '.csv'))\n",
    "df_company['date'] = df_company['date'].apply(lambda x : datetime.datetime.strptime(x, \"%Y-%m-%d\"))\n",
    "df_company.set_index('date', inplace=True)"
   ]
  },
  {
   "cell_type": "code",
   "execution_count": null,
   "id": "dd2206e6",
   "metadata": {},
   "outputs": [],
   "source": [
    "dir_name = 'data/stocks/investor/'\n",
    "column_name = ['date', 'pp', 'fp', 'institutional', \n",
    "               'security', 'itp', 'bank', 'investment_bank', 'insurance', 'penp', 'others']\n",
    "df = pd.read_csv('{}{}'.format(dir_name, '033780_ktng_invester_from-20220420.csv'))\n",
    "df.columns = column_name\n",
    "df['date'] = df['date'].apply(lambda x : datetime.datetime.strptime(x, \"%Y/%m/%d\"))\n",
    "df_select = df[['date', 'pp', 'fp', 'itp', 'penp']]\n",
    "df_select.set_index('date', inplace=True)"
   ]
  },
  {
   "cell_type": "code",
   "execution_count": null,
   "id": "1c5ff3fb",
   "metadata": {},
   "outputs": [],
   "source": [
    "df_company.update(df_select)\n",
    "df_company.reset_index(inplace=True)\n",
    "df_company.to_csv('data/{}{}{}'.format('data_', company_name, '.csv'), index=False)"
   ]
  },
  {
   "cell_type": "markdown",
   "id": "47d2be97",
   "metadata": {},
   "source": [
    "####  추가자료 update"
   ]
  },
  {
   "cell_type": "code",
   "execution_count": 2,
   "id": "e7b38632",
   "metadata": {},
   "outputs": [],
   "source": [
    "file_list = os.listdir('data/stocks/investor')"
   ]
  },
  {
   "cell_type": "code",
   "execution_count": 4,
   "id": "a50a31f6",
   "metadata": {},
   "outputs": [],
   "source": [
    "# 삼성전자 005930, 현대차 005830, 네이버 035420, KT&G 033780, \n",
    "company_code = {'sec': '005930', 'hyunmotor': '005830', 'naver': '035420', 'ktng': '033780'}"
   ]
  },
  {
   "cell_type": "code",
   "execution_count": 5,
   "id": "8b40a54e",
   "metadata": {},
   "outputs": [],
   "source": [
    "dir_name = 'data/stocks/investor/'"
   ]
  },
  {
   "cell_type": "code",
   "execution_count": 6,
   "id": "a7aae26b",
   "metadata": {},
   "outputs": [],
   "source": [
    "def get_key(val):\n",
    "    for key, value in company_code.items():\n",
    "         if val == value:\n",
    "             return key\n",
    " \n",
    "#     return \"key doesn't exist\""
   ]
  },
  {
   "cell_type": "code",
   "execution_count": 12,
   "id": "2cb93823",
   "metadata": {},
   "outputs": [
    {
     "name": "stdout",
     "output_type": "stream",
     "text": [
      "**** hyunmotor\n",
      "005830_hyunmotor_investor_20220621.csv\n",
      "**** hyunmotor\n",
      "005830_hyunmotor_investor_20220623.csv\n",
      "**** hyunmotor\n",
      "005830_hyunmotor_investor_20220624.csv\n",
      "**** sec\n",
      "005930_sec_investor_20220621.csv\n",
      "**** sec\n",
      "005930_sec_investor_20220623.csv\n",
      "**** sec\n",
      "005930_sec_investor_20220624.csv\n",
      "**** ktng\n",
      "033780_ktng_investor_20220621.csv\n",
      "**** ktng\n",
      "033780_ktng_investor_20220623.csv\n",
      "**** ktng\n",
      "033780_ktng_investor_20220624.csv\n",
      "**** naver\n",
      "035420_naver_investor_20220621.csv\n",
      "**** naver\n",
      "035420_naver_investor_20220623.csv\n",
      "**** naver\n",
      "035420_naver_investor_20220624.csv\n"
     ]
    }
   ],
   "source": [
    "dir_name = 'data/stocks/investor/'\n",
    "column_name = ['date', 'pp', 'fp', 'institutional', \n",
    "               'security', 'itp', 'bank', 'investment_bank', 'insurance', 'penp', 'others']\n",
    "\n",
    "for file in file_list:\n",
    "    code = file[:6]\n",
    "    date = file[-12:-4]\n",
    "    company_name = get_key(code)\n",
    "    if not company_name : continue\n",
    "\n",
    "    df_company = pd.read_csv('data/{}{}{}'.format('data_', company_name, '.csv'))\n",
    "    df_company['date'] = df_company['date'].apply(lambda x : datetime.datetime.strptime(x, \"%Y-%m-%d\"))\n",
    "    df_company.set_index('date', inplace=True)\n",
    "    print(\"****\", company_name)\n",
    "    \n",
    "    df = pd.read_csv('{}{}_{}_investor_{}.csv'.format(dir_name, code, company_name, date))\n",
    "    print(file)\n",
    "    df.columns = column_name\n",
    "    df['date'] = df['date'].apply(lambda x : datetime.datetime.strptime(x, \"%Y/%m/%d\"))\n",
    "    df_select = df[['date', 'pp', 'fp', 'itp', 'penp']]\n",
    "    df_select.set_index('date', inplace=True)\n",
    "    \n",
    "    df_company.update(df_select)\n",
    "    df_company.reset_index(inplace=True)\n",
    "    df_company.to_csv('data/{}{}{}'.format('data_', company_name, '.csv'), index=False)"
   ]
  },
  {
   "cell_type": "code",
   "execution_count": 10,
   "id": "4f814b8d",
   "metadata": {},
   "outputs": [
    {
     "data": {
      "text/html": [
       "<div>\n",
       "<style scoped>\n",
       "    .dataframe tbody tr th:only-of-type {\n",
       "        vertical-align: middle;\n",
       "    }\n",
       "\n",
       "    .dataframe tbody tr th {\n",
       "        vertical-align: top;\n",
       "    }\n",
       "\n",
       "    .dataframe thead th {\n",
       "        text-align: right;\n",
       "    }\n",
       "</style>\n",
       "<table border=\"1\" class=\"dataframe\">\n",
       "  <thead>\n",
       "    <tr style=\"text-align: right;\">\n",
       "      <th></th>\n",
       "      <th>date</th>\n",
       "      <th>pp</th>\n",
       "      <th>fp</th>\n",
       "      <th>institutional</th>\n",
       "      <th>security</th>\n",
       "      <th>itp</th>\n",
       "      <th>bank</th>\n",
       "      <th>investment_bank</th>\n",
       "      <th>insurance</th>\n",
       "      <th>penp</th>\n",
       "      <th>others</th>\n",
       "    </tr>\n",
       "  </thead>\n",
       "  <tbody>\n",
       "    <tr>\n",
       "      <th>0</th>\n",
       "      <td>2022/06/21</td>\n",
       "      <td>0</td>\n",
       "      <td>0</td>\n",
       "      <td>0</td>\n",
       "      <td>0</td>\n",
       "      <td>0</td>\n",
       "      <td>0</td>\n",
       "      <td>0</td>\n",
       "      <td>0</td>\n",
       "      <td>0</td>\n",
       "      <td>0</td>\n",
       "    </tr>\n",
       "    <tr>\n",
       "      <th>1</th>\n",
       "      <td>2022/06/20</td>\n",
       "      <td>-7391</td>\n",
       "      <td>-36285</td>\n",
       "      <td>43856</td>\n",
       "      <td>15712</td>\n",
       "      <td>3462</td>\n",
       "      <td>0</td>\n",
       "      <td>0</td>\n",
       "      <td>4223</td>\n",
       "      <td>19437</td>\n",
       "      <td>-180</td>\n",
       "    </tr>\n",
       "    <tr>\n",
       "      <th>2</th>\n",
       "      <td>2022/06/17</td>\n",
       "      <td>4610</td>\n",
       "      <td>5104</td>\n",
       "      <td>-8155</td>\n",
       "      <td>11750</td>\n",
       "      <td>-10489</td>\n",
       "      <td>858</td>\n",
       "      <td>0</td>\n",
       "      <td>-2028</td>\n",
       "      <td>-8279</td>\n",
       "      <td>-1573</td>\n",
       "    </tr>\n",
       "    <tr>\n",
       "      <th>3</th>\n",
       "      <td>2022/06/16</td>\n",
       "      <td>3381</td>\n",
       "      <td>-1233</td>\n",
       "      <td>-2158</td>\n",
       "      <td>-2786</td>\n",
       "      <td>1252</td>\n",
       "      <td>0</td>\n",
       "      <td>-1000</td>\n",
       "      <td>-76</td>\n",
       "      <td>-241</td>\n",
       "      <td>0</td>\n",
       "    </tr>\n",
       "    <tr>\n",
       "      <th>4</th>\n",
       "      <td>2022/06/15</td>\n",
       "      <td>-7424</td>\n",
       "      <td>14677</td>\n",
       "      <td>-7267</td>\n",
       "      <td>5840</td>\n",
       "      <td>2012</td>\n",
       "      <td>-7700</td>\n",
       "      <td>0</td>\n",
       "      <td>957</td>\n",
       "      <td>-3386</td>\n",
       "      <td>0</td>\n",
       "    </tr>\n",
       "  </tbody>\n",
       "</table>\n",
       "</div>"
      ],
      "text/plain": [
       "         date    pp     fp  institutional  security    itp  bank  \\\n",
       "0  2022/06/21     0      0              0         0      0     0   \n",
       "1  2022/06/20 -7391 -36285          43856     15712   3462     0   \n",
       "2  2022/06/17  4610   5104          -8155     11750 -10489   858   \n",
       "3  2022/06/16  3381  -1233          -2158     -2786   1252     0   \n",
       "4  2022/06/15 -7424  14677          -7267      5840   2012 -7700   \n",
       "\n",
       "   investment_bank  insurance   penp  others  \n",
       "0                0          0      0       0  \n",
       "1                0       4223  19437    -180  \n",
       "2                0      -2028  -8279   -1573  \n",
       "3            -1000        -76   -241       0  \n",
       "4                0        957  -3386       0  "
      ]
     },
     "execution_count": 10,
     "metadata": {},
     "output_type": "execute_result"
    }
   ],
   "source": [
    "df.head()"
   ]
  },
  {
   "cell_type": "code",
   "execution_count": 14,
   "id": "38b17fd5",
   "metadata": {},
   "outputs": [
    {
     "ename": "FileNotFoundError",
     "evalue": "[Errno 2] No such file or directory: 'data/stocks/investor/005830_hyunmotor_investor_20220621.csv'",
     "output_type": "error",
     "traceback": [
      "\u001b[1;31m---------------------------------------------------------------------------\u001b[0m",
      "\u001b[1;31mFileNotFoundError\u001b[0m                         Traceback (most recent call last)",
      "\u001b[1;32mc:\\users\\user\\appdata\\local\\programs\\python\\python39\\lib\\shutil.py\u001b[0m in \u001b[0;36mmove\u001b[1;34m(src, dst, copy_function)\u001b[0m\n\u001b[0;32m    805\u001b[0m     \u001b[1;32mtry\u001b[0m\u001b[1;33m:\u001b[0m\u001b[1;33m\u001b[0m\u001b[1;33m\u001b[0m\u001b[0m\n\u001b[1;32m--> 806\u001b[1;33m         \u001b[0mos\u001b[0m\u001b[1;33m.\u001b[0m\u001b[0mrename\u001b[0m\u001b[1;33m(\u001b[0m\u001b[0msrc\u001b[0m\u001b[1;33m,\u001b[0m \u001b[0mreal_dst\u001b[0m\u001b[1;33m)\u001b[0m\u001b[1;33m\u001b[0m\u001b[1;33m\u001b[0m\u001b[0m\n\u001b[0m\u001b[0;32m    807\u001b[0m     \u001b[1;32mexcept\u001b[0m \u001b[0mOSError\u001b[0m\u001b[1;33m:\u001b[0m\u001b[1;33m\u001b[0m\u001b[1;33m\u001b[0m\u001b[0m\n",
      "\u001b[1;31mFileNotFoundError\u001b[0m: [WinError 2] 지정된 파일을 찾을 수 없습니다: 'data/stocks/investor/005830_hyunmotor_investor_20220621.csv' -> 'data/stocks/investor/data_used/005830_hyunmotor_investor_20220621.csv'",
      "\nDuring handling of the above exception, another exception occurred:\n",
      "\u001b[1;31mFileNotFoundError\u001b[0m                         Traceback (most recent call last)",
      "\u001b[1;32m<ipython-input-14-3723875049dd>\u001b[0m in \u001b[0;36m<module>\u001b[1;34m\u001b[0m\n\u001b[0;32m      1\u001b[0m \u001b[1;32mfor\u001b[0m \u001b[0mfile\u001b[0m \u001b[1;32min\u001b[0m \u001b[0mfile_list\u001b[0m\u001b[1;33m:\u001b[0m\u001b[1;33m\u001b[0m\u001b[1;33m\u001b[0m\u001b[0m\n\u001b[1;32m----> 2\u001b[1;33m     \u001b[0mshutil\u001b[0m\u001b[1;33m.\u001b[0m\u001b[0mmove\u001b[0m\u001b[1;33m(\u001b[0m\u001b[0mdir_name\u001b[0m\u001b[1;33m+\u001b[0m\u001b[0mfile\u001b[0m\u001b[1;33m,\u001b[0m \u001b[0mdir_name\u001b[0m\u001b[1;33m+\u001b[0m\u001b[1;34m'data_used/'\u001b[0m\u001b[1;33m+\u001b[0m\u001b[0mfile\u001b[0m\u001b[1;33m)\u001b[0m\u001b[1;33m\u001b[0m\u001b[1;33m\u001b[0m\u001b[0m\n\u001b[0m",
      "\u001b[1;32mc:\\users\\user\\appdata\\local\\programs\\python\\python39\\lib\\shutil.py\u001b[0m in \u001b[0;36mmove\u001b[1;34m(src, dst, copy_function)\u001b[0m\n\u001b[0;32m    818\u001b[0m             \u001b[0mrmtree\u001b[0m\u001b[1;33m(\u001b[0m\u001b[0msrc\u001b[0m\u001b[1;33m)\u001b[0m\u001b[1;33m\u001b[0m\u001b[1;33m\u001b[0m\u001b[0m\n\u001b[0;32m    819\u001b[0m         \u001b[1;32melse\u001b[0m\u001b[1;33m:\u001b[0m\u001b[1;33m\u001b[0m\u001b[1;33m\u001b[0m\u001b[0m\n\u001b[1;32m--> 820\u001b[1;33m             \u001b[0mcopy_function\u001b[0m\u001b[1;33m(\u001b[0m\u001b[0msrc\u001b[0m\u001b[1;33m,\u001b[0m \u001b[0mreal_dst\u001b[0m\u001b[1;33m)\u001b[0m\u001b[1;33m\u001b[0m\u001b[1;33m\u001b[0m\u001b[0m\n\u001b[0m\u001b[0;32m    821\u001b[0m             \u001b[0mos\u001b[0m\u001b[1;33m.\u001b[0m\u001b[0munlink\u001b[0m\u001b[1;33m(\u001b[0m\u001b[0msrc\u001b[0m\u001b[1;33m)\u001b[0m\u001b[1;33m\u001b[0m\u001b[1;33m\u001b[0m\u001b[0m\n\u001b[0;32m    822\u001b[0m     \u001b[1;32mreturn\u001b[0m \u001b[0mreal_dst\u001b[0m\u001b[1;33m\u001b[0m\u001b[1;33m\u001b[0m\u001b[0m\n",
      "\u001b[1;32mc:\\users\\user\\appdata\\local\\programs\\python\\python39\\lib\\shutil.py\u001b[0m in \u001b[0;36mcopy2\u001b[1;34m(src, dst, follow_symlinks)\u001b[0m\n\u001b[0;32m    433\u001b[0m     \u001b[1;32mif\u001b[0m \u001b[0mos\u001b[0m\u001b[1;33m.\u001b[0m\u001b[0mpath\u001b[0m\u001b[1;33m.\u001b[0m\u001b[0misdir\u001b[0m\u001b[1;33m(\u001b[0m\u001b[0mdst\u001b[0m\u001b[1;33m)\u001b[0m\u001b[1;33m:\u001b[0m\u001b[1;33m\u001b[0m\u001b[1;33m\u001b[0m\u001b[0m\n\u001b[0;32m    434\u001b[0m         \u001b[0mdst\u001b[0m \u001b[1;33m=\u001b[0m \u001b[0mos\u001b[0m\u001b[1;33m.\u001b[0m\u001b[0mpath\u001b[0m\u001b[1;33m.\u001b[0m\u001b[0mjoin\u001b[0m\u001b[1;33m(\u001b[0m\u001b[0mdst\u001b[0m\u001b[1;33m,\u001b[0m \u001b[0mos\u001b[0m\u001b[1;33m.\u001b[0m\u001b[0mpath\u001b[0m\u001b[1;33m.\u001b[0m\u001b[0mbasename\u001b[0m\u001b[1;33m(\u001b[0m\u001b[0msrc\u001b[0m\u001b[1;33m)\u001b[0m\u001b[1;33m)\u001b[0m\u001b[1;33m\u001b[0m\u001b[1;33m\u001b[0m\u001b[0m\n\u001b[1;32m--> 435\u001b[1;33m     \u001b[0mcopyfile\u001b[0m\u001b[1;33m(\u001b[0m\u001b[0msrc\u001b[0m\u001b[1;33m,\u001b[0m \u001b[0mdst\u001b[0m\u001b[1;33m,\u001b[0m \u001b[0mfollow_symlinks\u001b[0m\u001b[1;33m=\u001b[0m\u001b[0mfollow_symlinks\u001b[0m\u001b[1;33m)\u001b[0m\u001b[1;33m\u001b[0m\u001b[1;33m\u001b[0m\u001b[0m\n\u001b[0m\u001b[0;32m    436\u001b[0m     \u001b[0mcopystat\u001b[0m\u001b[1;33m(\u001b[0m\u001b[0msrc\u001b[0m\u001b[1;33m,\u001b[0m \u001b[0mdst\u001b[0m\u001b[1;33m,\u001b[0m \u001b[0mfollow_symlinks\u001b[0m\u001b[1;33m=\u001b[0m\u001b[0mfollow_symlinks\u001b[0m\u001b[1;33m)\u001b[0m\u001b[1;33m\u001b[0m\u001b[1;33m\u001b[0m\u001b[0m\n\u001b[0;32m    437\u001b[0m     \u001b[1;32mreturn\u001b[0m \u001b[0mdst\u001b[0m\u001b[1;33m\u001b[0m\u001b[1;33m\u001b[0m\u001b[0m\n",
      "\u001b[1;32mc:\\users\\user\\appdata\\local\\programs\\python\\python39\\lib\\shutil.py\u001b[0m in \u001b[0;36mcopyfile\u001b[1;34m(src, dst, follow_symlinks)\u001b[0m\n\u001b[0;32m    262\u001b[0m         \u001b[0mos\u001b[0m\u001b[1;33m.\u001b[0m\u001b[0msymlink\u001b[0m\u001b[1;33m(\u001b[0m\u001b[0mos\u001b[0m\u001b[1;33m.\u001b[0m\u001b[0mreadlink\u001b[0m\u001b[1;33m(\u001b[0m\u001b[0msrc\u001b[0m\u001b[1;33m)\u001b[0m\u001b[1;33m,\u001b[0m \u001b[0mdst\u001b[0m\u001b[1;33m)\u001b[0m\u001b[1;33m\u001b[0m\u001b[1;33m\u001b[0m\u001b[0m\n\u001b[0;32m    263\u001b[0m     \u001b[1;32melse\u001b[0m\u001b[1;33m:\u001b[0m\u001b[1;33m\u001b[0m\u001b[1;33m\u001b[0m\u001b[0m\n\u001b[1;32m--> 264\u001b[1;33m         \u001b[1;32mwith\u001b[0m \u001b[0mopen\u001b[0m\u001b[1;33m(\u001b[0m\u001b[0msrc\u001b[0m\u001b[1;33m,\u001b[0m \u001b[1;34m'rb'\u001b[0m\u001b[1;33m)\u001b[0m \u001b[1;32mas\u001b[0m \u001b[0mfsrc\u001b[0m\u001b[1;33m,\u001b[0m \u001b[0mopen\u001b[0m\u001b[1;33m(\u001b[0m\u001b[0mdst\u001b[0m\u001b[1;33m,\u001b[0m \u001b[1;34m'wb'\u001b[0m\u001b[1;33m)\u001b[0m \u001b[1;32mas\u001b[0m \u001b[0mfdst\u001b[0m\u001b[1;33m:\u001b[0m\u001b[1;33m\u001b[0m\u001b[1;33m\u001b[0m\u001b[0m\n\u001b[0m\u001b[0;32m    265\u001b[0m             \u001b[1;31m# macOS\u001b[0m\u001b[1;33m\u001b[0m\u001b[1;33m\u001b[0m\u001b[1;33m\u001b[0m\u001b[0m\n\u001b[0;32m    266\u001b[0m             \u001b[1;32mif\u001b[0m \u001b[0m_HAS_FCOPYFILE\u001b[0m\u001b[1;33m:\u001b[0m\u001b[1;33m\u001b[0m\u001b[1;33m\u001b[0m\u001b[0m\n",
      "\u001b[1;31mFileNotFoundError\u001b[0m: [Errno 2] No such file or directory: 'data/stocks/investor/005830_hyunmotor_investor_20220621.csv'"
     ]
    }
   ],
   "source": [
    "for file in file_list:\n",
    "    shutil.move(dir_name+file, dir_name+'data_used/'+file)"
   ]
  },
  {
   "cell_type": "code",
   "execution_count": null,
   "id": "be0a4195",
   "metadata": {},
   "outputs": [],
   "source": []
  }
 ],
 "metadata": {
  "kernelspec": {
   "display_name": "Python 3",
   "language": "python",
   "name": "python3"
  },
  "language_info": {
   "codemirror_mode": {
    "name": "ipython",
    "version": 3
   },
   "file_extension": ".py",
   "mimetype": "text/x-python",
   "name": "python",
   "nbconvert_exporter": "python",
   "pygments_lexer": "ipython3",
   "version": "3.9.1"
  }
 },
 "nbformat": 4,
 "nbformat_minor": 5
}
