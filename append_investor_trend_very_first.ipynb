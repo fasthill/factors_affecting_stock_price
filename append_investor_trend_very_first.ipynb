{
 "cells": [
  {
   "cell_type": "code",
   "execution_count": null,
   "id": "8a337fce",
   "metadata": {},
   "outputs": [],
   "source": [
    "import pandas as pd\n",
    "import numpy as np\n",
    "\n",
    "import datetime\n",
    "from datetime import date\n",
    "\n",
    "import os\n",
    "import shutil"
   ]
  },
  {
   "cell_type": "code",
   "execution_count": null,
   "id": "5d318c3f",
   "metadata": {},
   "outputs": [],
   "source": [
    "company_name = 'sec'"
   ]
  },
  {
   "cell_type": "code",
   "execution_count": null,
   "id": "af81fb48",
   "metadata": {},
   "outputs": [],
   "source": [
    "# 삼성전자 005930, 현대차 005830, 네이버 035420, KT&G 033780, \n",
    "company_code = {'sec': '005930', 'hyunmotor': '005830', 'naver': '035420', 'ktng': '033780'}"
   ]
  },
  {
   "cell_type": "code",
   "execution_count": null,
   "id": "1948c49c",
   "metadata": {},
   "outputs": [],
   "source": [
    "# for company_name, ticker in company_code.items():\n",
    "#     df_company = pd.read_csv('data/{}{}{}'.format('data_', company_name, '.csv'))\n",
    "#     df_company['date'] = df_company['date'].apply(lambda x : datetime.datetime.strptime(x, \"%Y-%m-%d\"))\n",
    "#     df_company.set_index('date', inplace=True)"
   ]
  },
  {
   "cell_type": "code",
   "execution_count": null,
   "id": "ef01f0e5",
   "metadata": {},
   "outputs": [],
   "source": [
    "df_company = pd.read_csv('data/{}{}{}'.format('data_', company_name, '.csv'))\n",
    "df_company['date'] = df_company['date'].apply(lambda x : datetime.datetime.strptime(x, \"%Y-%m-%d\"))\n",
    "df_company.set_index('date', inplace=True)"
   ]
  },
  {
   "cell_type": "code",
   "execution_count": null,
   "id": "a382435e",
   "metadata": {},
   "outputs": [],
   "source": [
    "df_company.head()"
   ]
  },
  {
   "cell_type": "code",
   "execution_count": null,
   "id": "9c729608",
   "metadata": {},
   "outputs": [],
   "source": [
    "dir_name = 'data/stocks/investor/'"
   ]
  },
  {
   "cell_type": "code",
   "execution_count": null,
   "id": "1b3a22d0",
   "metadata": {},
   "outputs": [],
   "source": [
    "# column_eng = ['date', 'retail', 'foreigner', 'institutional', \n",
    "#                'security', 'investment_trust', 'bank', 'investment_bank', 'insurance', 'pension', 'others']\n",
    "# column_kor = ['날짜', '개인', '외국인계', '기관계', '증권', '투신', '은행', '종금', '보험', '기금', '기타']\n",
    "column_name = ['date', 'pp', 'fp', 'institutional', \n",
    "               'security', 'itp', 'bank', 'investment_bank', 'insurance', 'penp', 'others']"
   ]
  },
  {
   "cell_type": "code",
   "execution_count": null,
   "id": "7550b282",
   "metadata": {},
   "outputs": [],
   "source": [
    "df = pd.read_csv('{}{}'.format(dir_name, '005930_sec_invester_from-20220420.csv'))\n",
    "df.columns = column_name\n",
    "df['date'] = df['date'].apply(lambda x : datetime.datetime.strptime(x, \"%Y/%m/%d\"))\n",
    "df_select = df[['date', 'pp', 'fp', 'itp', 'penp']]\n",
    "df_select.set_index('date', inplace=True)"
   ]
  },
  {
   "cell_type": "code",
   "execution_count": null,
   "id": "3b295d03",
   "metadata": {},
   "outputs": [],
   "source": [
    "df_select.tail()"
   ]
  },
  {
   "cell_type": "code",
   "execution_count": null,
   "id": "ad5644cb",
   "metadata": {},
   "outputs": [],
   "source": [
    "df_company.update(df_select)"
   ]
  },
  {
   "cell_type": "code",
   "execution_count": null,
   "id": "9e7aa068",
   "metadata": {},
   "outputs": [],
   "source": [
    "df_company.reset_index(inplace=True)\n",
    "df_company.to_csv('data/{}{}{}'.format('data_', company_name, '.csv'), index=False)"
   ]
  },
  {
   "cell_type": "code",
   "execution_count": null,
   "id": "06a20a63",
   "metadata": {},
   "outputs": [],
   "source": []
  },
  {
   "cell_type": "code",
   "execution_count": null,
   "id": "fbfc3432",
   "metadata": {},
   "outputs": [],
   "source": [
    "company_name = 'hyunmotor'\n",
    "df_company = pd.read_csv('data/{}{}{}'.format('data_', company_name, '.csv'))\n",
    "df_company['date'] = df_company['date'].apply(lambda x : datetime.datetime.strptime(x, \"%Y-%m-%d\"))\n",
    "df_company.set_index('date', inplace=True)"
   ]
  },
  {
   "cell_type": "code",
   "execution_count": null,
   "id": "3eeae505",
   "metadata": {},
   "outputs": [],
   "source": [
    "dir_name = 'data/stocks/investor/'\n",
    "column_name = ['date', 'pp', 'fp', 'institutional', \n",
    "               'security', 'itp', 'bank', 'investment_bank', 'insurance', 'penp', 'others']\n",
    "df = pd.read_csv('{}{}'.format(dir_name, '005830_hyunmotor_invester_from-20220420.csv'))\n",
    "df.columns = column_name\n",
    "df['date'] = df['date'].apply(lambda x : datetime.datetime.strptime(x, \"%Y/%m/%d\"))\n",
    "df_select = df[['date', 'pp', 'fp', 'itp', 'penp']]\n",
    "df_select.set_index('date', inplace=True)"
   ]
  },
  {
   "cell_type": "code",
   "execution_count": null,
   "id": "72e3b9c8",
   "metadata": {},
   "outputs": [],
   "source": [
    "df_company.update(df_select)\n",
    "df_company.reset_index(inplace=True)\n",
    "df_company.to_csv('data/{}{}{}'.format('data_', company_name, '.csv'), index=False)"
   ]
  },
  {
   "cell_type": "code",
   "execution_count": null,
   "id": "7f549e93",
   "metadata": {},
   "outputs": [],
   "source": []
  },
  {
   "cell_type": "code",
   "execution_count": null,
   "id": "3b42abc1",
   "metadata": {},
   "outputs": [],
   "source": [
    "company_name = 'naver'\n",
    "df_company = pd.read_csv('data/{}{}{}'.format('data_', company_name, '.csv'))\n",
    "df_company['date'] = df_company['date'].apply(lambda x : datetime.datetime.strptime(x, \"%Y-%m-%d\"))\n",
    "df_company.set_index('date', inplace=True)"
   ]
  },
  {
   "cell_type": "code",
   "execution_count": null,
   "id": "fce43e14",
   "metadata": {},
   "outputs": [],
   "source": [
    "dir_name = 'data/stocks/investor/'\n",
    "column_name = ['date', 'pp', 'fp', 'institutional', \n",
    "               'security', 'itp', 'bank', 'investment_bank', 'insurance', 'penp', 'others']\n",
    "df = pd.read_csv('{}{}'.format(dir_name, '035420_naver_invester_from-20220420.csv'))\n",
    "df.columns = column_name\n",
    "df['date'] = df['date'].apply(lambda x : datetime.datetime.strptime(x, \"%Y/%m/%d\"))\n",
    "df_select = df[['date', 'pp', 'fp', 'itp', 'penp']]\n",
    "df_select.set_index('date', inplace=True)"
   ]
  },
  {
   "cell_type": "code",
   "execution_count": null,
   "id": "c8e50b6a",
   "metadata": {},
   "outputs": [],
   "source": [
    "df_company.update(df_select)\n",
    "df_company.reset_index(inplace=True)\n",
    "df_company.to_csv('data/{}{}{}'.format('data_', company_name, '.csv'), index=False)"
   ]
  },
  {
   "cell_type": "code",
   "execution_count": null,
   "id": "51c44122",
   "metadata": {},
   "outputs": [],
   "source": []
  },
  {
   "cell_type": "code",
   "execution_count": null,
   "id": "8bd38e3e",
   "metadata": {},
   "outputs": [],
   "source": [
    "company_name = 'ktng'\n",
    "df_company = pd.read_csv('data/{}{}{}'.format('data_', company_name, '.csv'))\n",
    "df_company['date'] = df_company['date'].apply(lambda x : datetime.datetime.strptime(x, \"%Y-%m-%d\"))\n",
    "df_company.set_index('date', inplace=True)"
   ]
  },
  {
   "cell_type": "code",
   "execution_count": null,
   "id": "dd2206e6",
   "metadata": {},
   "outputs": [],
   "source": [
    "dir_name = 'data/stocks/investor/'\n",
    "column_name = ['date', 'pp', 'fp', 'institutional', \n",
    "               'security', 'itp', 'bank', 'investment_bank', 'insurance', 'penp', 'others']\n",
    "df = pd.read_csv('{}{}'.format(dir_name, '033780_ktng_invester_from-20220420.csv'))\n",
    "df.columns = column_name\n",
    "df['date'] = df['date'].apply(lambda x : datetime.datetime.strptime(x, \"%Y/%m/%d\"))\n",
    "df_select = df[['date', 'pp', 'fp', 'itp', 'penp']]\n",
    "df_select.set_index('date', inplace=True)"
   ]
  },
  {
   "cell_type": "code",
   "execution_count": null,
   "id": "1c5ff3fb",
   "metadata": {},
   "outputs": [],
   "source": [
    "df_company.update(df_select)\n",
    "df_company.reset_index(inplace=True)\n",
    "df_company.to_csv('data/{}{}{}'.format('data_', company_name, '.csv'), index=False)"
   ]
  },
  {
   "cell_type": "code",
   "execution_count": null,
   "id": "4cfb5e1a",
   "metadata": {},
   "outputs": [],
   "source": []
  }
 ],
 "metadata": {
  "kernelspec": {
   "display_name": "Python 3",
   "language": "python",
   "name": "python3"
  },
  "language_info": {
   "codemirror_mode": {
    "name": "ipython",
    "version": 3
   },
   "file_extension": ".py",
   "mimetype": "text/x-python",
   "name": "python",
   "nbconvert_exporter": "python",
   "pygments_lexer": "ipython3",
   "version": "3.9.1"
  }
 },
 "nbformat": 4,
 "nbformat_minor": 5
}
