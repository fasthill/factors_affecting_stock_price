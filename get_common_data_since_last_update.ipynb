{
 "cells": [
  {
   "cell_type": "markdown",
   "id": "25b184a9",
   "metadata": {},
   "source": [
    "#### 지표 자동 UPDATE \n",
    "   - 주요 주식시장 지수 : spx, dji, ixix, kospi, kosdaq\n",
    "   - 반도체지수, VIX 지수: sox, vix\n",
    "   - 미국 채권 지수, 한국 채권 지수\n",
    "   - 원화 환율\n",
    "   - 선물 : 미국 3대 지수, wti, 달러지수 선물"
   ]
  },
  {
   "cell_type": "code",
   "execution_count": 1,
   "id": "matched-interview",
   "metadata": {},
   "outputs": [],
   "source": [
    "# from bs4 import BeautifulSoup as bs\n",
    "import requests\n",
    "import datetime, time\n",
    "\n",
    "import pandas as pd\n",
    "import numpy as np\n",
    "\n",
    "import os\n",
    "import shutil"
   ]
  },
  {
   "cell_type": "code",
   "execution_count": 22,
   "id": "6d19bdf6",
   "metadata": {},
   "outputs": [
    {
     "ename": "ImportError",
     "evalue": "attempted relative import with no known parent package",
     "output_type": "error",
     "traceback": [
      "\u001b[1;31m---------------------------------------------------------------------------\u001b[0m",
      "\u001b[1;31mImportError\u001b[0m                               Traceback (most recent call last)",
      "Cell \u001b[1;32mIn [22], line 1\u001b[0m\n\u001b[1;32m----> 1\u001b[0m \u001b[38;5;28;01mfrom\u001b[39;00m \u001b[38;5;21;01m.\u001b[39;00m\u001b[38;5;21;01mutils\u001b[39;00m\u001b[38;5;21;01m.\u001b[39;00m\u001b[38;5;21;01mextra\u001b[39;00m \u001b[38;5;28;01mimport\u001b[39;00m random_user_agent\n",
      "\u001b[1;31mImportError\u001b[0m: attempted relative import with no known parent package"
     ]
    }
   ],
   "source": [
    "from .utils.extra import random_user_agent\n",
    "# https://github.com/alvarobartt/investpy/tree/403-patch/investpy"
   ]
  },
  {
   "cell_type": "code",
   "execution_count": 2,
   "id": "selective-ireland",
   "metadata": {},
   "outputs": [],
   "source": [
    "headers = {'User-Agent': 'Mozilla/5.0 (Macintosh; Intel Mac OS X 10_11_5) \\\n",
    "           AppleWebKit/537.36 (KHTML, like Gecko) Chrome/50.0.2661.102 Safari/537.36'}\n",
    "headers = {'User-Agent': 'Mozilla/5.0 (Windows NT 10.0; Win64; x64) AppleWebKit/537.36 (KHTML, like Gecko) Chrome/96.0.4664.93 Safari/537.36'}\n",
    "from .utils.extra import random_user_agent\n",
    "headers = {\n",
    "    \"User-Agent\": random_user_agent(),\n",
    "    \"X-Requested-With\": \"XMLHttpRequest\",\n",
    "    \"Accept\": \"text/html\",\n",
    "    \"Accept-Encoding\": \"gzip, deflate\",\n",
    "    \"Connection\": \"keep-alive\",\n",
    "}"
   ]
  },
  {
   "cell_type": "code",
   "execution_count": 3,
   "id": "f8058508",
   "metadata": {},
   "outputs": [],
   "source": [
    "df_org = pd.read_csv('data/{}'.format('data_common.csv'))\n",
    "df_org['date'] = df_org['date'].apply(lambda x : datetime.datetime.strptime(x, \"%Y-%m-%d\"))\n",
    "df_org.set_index('date', inplace=True)\n",
    "df_org.replace(np.nan, '', inplace=True) "
   ]
  },
  {
   "cell_type": "markdown",
   "id": "c185509b",
   "metadata": {},
   "source": [
    "1\tdate\n",
    "2\tixic\n",
    "3\tixic_cr\n",
    "4\tixic_f\n",
    "5\tixic_f_cr\n",
    "6\tdji\n",
    "7\tdji_cr\n",
    "8\tdji_f\n",
    "9\tdji_f_cr\n",
    "10\tspx\n",
    "11\tspx_cr\n",
    "12\tspx_f\n",
    "13\tspx_f_cr\n",
    "14\tkospi\n",
    "15\tkospi_cr\n",
    "16\tkosdaq\n",
    "17\tkosdaq_cr\n",
    "18\twti\n",
    "19\twti_cr\n",
    "20\tdxy\n",
    "21\tdxy_cr\n",
    "22\tkrw\n",
    "23\tkrw_cr\n",
    "24\tbond_usa_10\n",
    "25\tbond_usa_10_cr\n",
    "26\tbond_usa_2\n",
    "27\tbond_usa_2_cr\n",
    "28\tbond_usa_3m\n",
    "29\tbond_usa_3m_cr\n",
    "30\tbond_kor_10\n",
    "31\tbond_kor_10_cr\n",
    "32\tbond_kor_2\n",
    "33\tbond_kor_2_cr\n",
    "34\tvix\n",
    "35\tvix_cr\n",
    "36\tf_g_index\n",
    "37\tsox\n",
    "38\tsox_cr\n",
    "39\tcpi\n",
    "40\tcpi_anticipated\n",
    "41\tcpi_previous\n",
    "42\tgold\n",
    "43\tgold_cr\n",
    "44\tfed_rate\n",
    "45\tfed_rate_fore\n",
    "46\tfed_rate_prev\n",
    "47\tfed_rate_ann\n",
    "48\tfed_rate_imp\n",
    "49\tbok_rate\n",
    "50\tbok_rate_fore\n",
    "51\tbok_rate_prev\n",
    "52\tbok_rate_ann\n",
    "53\tbok_rate_imp\n",
    "54\tfu_usa_date\n",
    "55\top_usa_date\n",
    "56\tqw_usa_day\n",
    "57\tfu_kor_date\n",
    "58\top_kor_date\n",
    "59\tdw_kor_day\n"
   ]
  },
  {
   "cell_type": "code",
   "execution_count": 4,
   "id": "a2004710",
   "metadata": {},
   "outputs": [],
   "source": [
    "spx_url = 'https://www.investing.com/indices/us-spx-500-historical-data'\n",
    "dji_url = 'https://www.investing.com/indices/us-30-historical-data'\n",
    "nas_url = 'https://www.investing.com/indices/nasdaq-composite-historical-data'\n",
    "kospi_url = 'https://www.investing.com/indices/kospi-historical-data'\n",
    "kosdaq_url = 'https://www.investing.com/indices/kosdaq-historical-data'\n",
    "sox_url = 'https://www.investing.com/indices/phlx-semiconductor-historical-data'\n",
    "# cpi_url = 'https://www.investing.com/economic-calendar/cpi-733'\n",
    "vix_url = 'https://www.investing.com/indices/volatility-s-p-500-historical-data'\n",
    "\n",
    "urls_major_index = [spx_url, dji_url, nas_url, kospi_url, kosdaq_url, sox_url, vix_url]\n",
    "\n",
    "\n",
    "spx = ['date', 'spx', 'open', 'high', 'low', 'volume', 'spx_cr']\n",
    "dji = ['date', 'dji', 'open', 'high', 'low', 'volume', 'dji_cr']\n",
    "ixix = ['date', 'ixic', 'open', 'high', 'low', 'volume', 'ixic_cr']\n",
    "kospi = ['date', 'kospi', 'open', 'high', 'low', 'volume', 'kospi_cr']\n",
    "kosdaq = ['date', 'kosdaq', 'open', 'high', 'low', 'volume', 'kosdaq_cr']\n",
    "sox = ['date', 'sox', 'open', 'high', 'low', 'volume', 'sox_cr']\n",
    "# cpi = ['date', 'time', 'cpi', 'cpi_anticipated', 'cpi_previous', 'none']\n",
    "# fng = ['date', 'n1', 'n2', 'n3', 'f_g_index']\n",
    "vix = ['date', 'vix', 'open', 'high', 'low', 'volume', 'vix_cr']\n",
    "\n",
    "col_names_major_index = [spx, dji, ixix, kospi, kosdaq, sox, vix ]\n",
    "\n",
    "spx_s = ['date', 'spx', 'spx_cr']\n",
    "dji_s = ['date', 'dji', 'dji_cr']\n",
    "ixic_s = ['date', 'ixic', 'ixic_cr']\n",
    "kospi_s = ['date', 'kospi', 'kospi_cr']\n",
    "kosdaq_s = ['date', 'kosdaq', 'kosdaq_cr']\n",
    "sox_s = ['date', 'sox', 'sox_cr']\n",
    "# cpi_s = ['date', 'cpi', 'cpi_anticipated', 'cpi_previous']\n",
    "# fng_s = ['date', 'f_g_index']\n",
    "vix_s = ['date', 'vix', 'vix_cr']\n",
    "\n",
    "col_names_s_major_index = [spx_s, dji_s, ixic_s, kospi_s, kosdaq_s, sox_s, vix_s]"
   ]
  },
  {
   "cell_type": "code",
   "execution_count": 5,
   "id": "fd7c61ba",
   "metadata": {},
   "outputs": [],
   "source": [
    "us_bond_10yr_url = 'https://www.investing.com/rates-bonds/u.s.-10-year-bond-yield-historical-data'\n",
    "us_bond_2yr_url = 'https://www.investing.com/rates-bonds/u.s.-2-year-bond-yield-historical-data'\n",
    "us_bond_3mon_url = 'https://www.investing.com/rates-bonds/u.s.-3-month-bond-yield-historical-data'\n",
    "kor_bond_10yr_url = 'https://www.investing.com/rates-bonds/south-korea-10-year-bond-yield-historical-data'\n",
    "kor_bond_2yr_url = 'https://www.investing.com/rates-bonds/south-korea-2-year-bond-yield-historical-data'\n",
    "\n",
    "urls_bonds = [us_bond_10yr_url, us_bond_2yr_url, us_bond_3mon_url,\n",
    "        kor_bond_10yr_url, kor_bond_2yr_url]\n",
    "\n",
    "# urls = [us_bond_10yr_url]"
   ]
  },
  {
   "cell_type": "code",
   "execution_count": 6,
   "id": "f65ce98d",
   "metadata": {},
   "outputs": [],
   "source": [
    "us_10yr = ['date', 'bond_usa_10', 'open', 'high', 'low', 'bond_usa_10_cr']\n",
    "us_2yr = ['date', 'bond_usa_2', 'open', 'high', 'low', 'bond_usa_2_cr']\n",
    "us_3mon = ['date', 'bond_usa_3m', 'open', 'high', 'low', 'bond_usa_3m_cr']\n",
    "kor_10yr = ['date', 'bond_kor_10', 'open', 'high', 'low', 'bond_kor_10_cr']\n",
    "kor_2yr = ['date', 'bond_kor_2', 'open', 'high', 'low','bond_kor_2_cr']\n",
    "\n",
    "col_names_bonds = [us_10yr, us_2yr, us_3mon, kor_10yr, kor_2yr]"
   ]
  },
  {
   "cell_type": "code",
   "execution_count": 7,
   "id": "8a337fce",
   "metadata": {},
   "outputs": [],
   "source": [
    "us_10yr_s = ['date', 'bond_usa_10', 'bond_usa_10_cr']\n",
    "us_2yr_s = ['date', 'bond_usa_2', 'bond_usa_2_cr']\n",
    "us_3mon_s = ['date', 'bond_usa_3m', 'bond_usa_3m_cr']\n",
    "kor_10yr_s = ['date', 'bond_kor_10', 'bond_kor_10_cr']\n",
    "kor_2yr_s = ['date', 'bond_kor_2', 'bond_kor_2_cr']\n",
    "\n",
    "col_names_s_bonds = [us_10yr_s, us_2yr_s, us_3mon_s, kor_10yr_s, kor_2yr_s]"
   ]
  },
  {
   "cell_type": "code",
   "execution_count": 8,
   "id": "03a9f19a",
   "metadata": {},
   "outputs": [],
   "source": [
    "krw_rate_url = 'https://www.investing.com/currencies/usd-krw-historical-data'\n",
    "\n",
    "urls_currencies = [krw_rate_url]"
   ]
  },
  {
   "cell_type": "code",
   "execution_count": 9,
   "id": "c02ec268",
   "metadata": {},
   "outputs": [],
   "source": [
    "krw_rate = ['date', 'krw', 'open', 'high', 'low', 'vol', 'krw_cr'] ## 수정\n",
    "\n",
    "col_names_currencies = [krw_rate]"
   ]
  },
  {
   "cell_type": "code",
   "execution_count": 10,
   "id": "147243b8",
   "metadata": {},
   "outputs": [],
   "source": [
    "krw_rate_s = ['date', 'krw', 'krw_cr']\n",
    "\n",
    "col_names_s_currencies = [krw_rate_s]"
   ]
  },
  {
   "cell_type": "code",
   "execution_count": 11,
   "id": "74aec2da",
   "metadata": {},
   "outputs": [],
   "source": [
    "nas_futures_url = 'https://www.investing.com/indices/nq-100-futures-historical-data'\n",
    "snp_futures_url = 'https://www.investing.com/indices/us-spx-500-futures-historical-data'\n",
    "dow_futures_url = 'https://www.investing.com/indices/us-30-futures-historical-data'\n",
    "wti_futures_url = 'https://www.investing.com/commodities/crude-oil-historical-data'\n",
    "dollar_index_url = 'https://www.investing.com/currencies/us-dollar-index-historical-data'\n",
    "\n",
    "urls_future = [snp_futures_url, dow_futures_url,  nas_futures_url, wti_futures_url, dollar_index_url ]\n",
    "\n",
    "snp_future = ['date', 'spx_f', 'open', 'high', 'low', 'volume', 'spx_f_cr']\n",
    "dji_future = ['date', 'dji_f', 'open', 'high', 'low', 'volume', 'dji_f_cr']\n",
    "ixic_future = ['date', 'ixic_f', 'open', 'high', 'low', 'volume', 'ixic_f_cr']\n",
    "wti_future = ['date', 'wti', 'open', 'high', 'low', 'volume', 'wti_cr']\n",
    "dxy_future = ['date', 'dxy', 'open', 'high', 'low', 'volume', 'dxy_cr']\n",
    "\n",
    "col_names_future = [snp_future,dji_future,ixic_future, wti_future, dxy_future]\n",
    "\n",
    "snp_future_s = ['date', 'spx_f', 'spx_f_cr']\n",
    "dji_future_s = ['date', 'dji_f', 'dji_f_cr']\n",
    "ixic_future_s = ['date', 'ixic_f', 'ixic_f_cr']\n",
    "wti_future_s = ['date', 'wti', 'wti_cr']\n",
    "dxy_future_s = ['date', 'dxy', 'dxy_cr']\n",
    "\n",
    "col_names_s_future  = [snp_future_s, dji_future_s, ixic_future_s, wti_future_s, dxy_future_s]\n"
   ]
  },
  {
   "cell_type": "code",
   "execution_count": 12,
   "id": "6c2fd5c0",
   "metadata": {},
   "outputs": [],
   "source": [
    "urls = urls_major_index + urls_bonds + urls_currencies + urls_future\n",
    "col_names = col_names_major_index + col_names_bonds + col_names_currencies + col_names_future\n",
    "col_names_s = col_names_s_major_index + col_names_s_bonds + col_names_s_currencies + col_names_s_future"
   ]
  },
  {
   "cell_type": "code",
   "execution_count": 13,
   "id": "british-circuit",
   "metadata": {},
   "outputs": [],
   "source": [
    "# urls = urls[2:3]\n",
    "# col_names = col_names[2:3]\n",
    "# col_names_s = col_names_s[2:3]"
   ]
  },
  {
   "cell_type": "code",
   "execution_count": 14,
   "id": "constant-street",
   "metadata": {},
   "outputs": [],
   "source": [
    "def make_datetime_series_df(df, start_date, end_date):\n",
    "    # make dataframe with no empty date index with input df.\n",
    "    # start_date =  '2021-01-01' str type.\n",
    "    # df.index = datetime series\n",
    "    # df.columns = ['a', 'b',,,,]\n",
    "    date_range_ts = pd.date_range(start=start_date, end=end_date)\n",
    "    df_date = pd.DataFrame(columns = df.columns)\n",
    "    df_date.insert(0, 'date', date_range_ts)\n",
    "    df_date.replace(np.nan, '', inplace=True) # Nan을 빈 칸으로 대체\n",
    "    df_date.set_index('date', inplace=True)\n",
    "    df_date.update(df)\n",
    "    return df_date"
   ]
  },
  {
   "cell_type": "code",
   "execution_count": 15,
   "id": "63b2491c",
   "metadata": {},
   "outputs": [],
   "source": [
    "# url = 'https://kr.investing.com/indices/us-spx-500-historical-data'\n",
    "# res = requests.get(url, headers=headers)\n",
    "# df = pd.read_html(res.text, attrs={\"data-test\": \"historical-data-table\"}, flavor=[\"lxml\", \"bs4\"])[0]"
   ]
  },
  {
   "cell_type": "code",
   "execution_count": 16,
   "id": "ef01f0e5",
   "metadata": {
    "scrolled": false
   },
   "outputs": [
    {
     "name": "stdout",
     "output_type": "stream",
     "text": [
      "url https://www.investing.com/indices/us-spx-500-historical-data\n"
     ]
    },
    {
     "ename": "ValueError",
     "evalue": "No tables found",
     "output_type": "error",
     "traceback": [
      "\u001b[1;31m---------------------------------------------------------------------------\u001b[0m",
      "\u001b[1;31mValueError\u001b[0m                                Traceback (most recent call last)",
      "Cell \u001b[1;32mIn [16], line 8\u001b[0m\n\u001b[0;32m      7\u001b[0m             res \u001b[38;5;241m=\u001b[39m requests\u001b[38;5;241m.\u001b[39mget(url, headers\u001b[38;5;241m=\u001b[39mheaders)\n\u001b[1;32m----> 8\u001b[0m             df \u001b[38;5;241m=\u001b[39m \u001b[43mpd\u001b[49m\u001b[38;5;241;43m.\u001b[39;49m\u001b[43mread_html\u001b[49m\u001b[43m(\u001b[49m\u001b[43mres\u001b[49m\u001b[38;5;241;43m.\u001b[39;49m\u001b[43mtext\u001b[49m\u001b[43m,\u001b[49m\u001b[43m \u001b[49m\u001b[43mattrs\u001b[49m\u001b[38;5;241;43m=\u001b[39;49m\u001b[43m{\u001b[49m\u001b[38;5;124;43m\"\u001b[39;49m\u001b[38;5;124;43mid\u001b[39;49m\u001b[38;5;124;43m\"\u001b[39;49m\u001b[43m:\u001b[49m\u001b[43m \u001b[49m\u001b[38;5;124;43m\"\u001b[39;49m\u001b[38;5;124;43mcurr_table\u001b[39;49m\u001b[38;5;124;43m\"\u001b[39;49m\u001b[43m}\u001b[49m\u001b[43m,\u001b[49m\u001b[43m \u001b[49m\u001b[43mflavor\u001b[49m\u001b[38;5;241;43m=\u001b[39;49m\u001b[43m[\u001b[49m\u001b[38;5;124;43m\"\u001b[39;49m\u001b[38;5;124;43mlxml\u001b[39;49m\u001b[38;5;124;43m\"\u001b[39;49m\u001b[43m,\u001b[49m\u001b[43m \u001b[49m\u001b[38;5;124;43m\"\u001b[39;49m\u001b[38;5;124;43mbs4\u001b[39;49m\u001b[38;5;124;43m\"\u001b[39;49m\u001b[43m]\u001b[49m\u001b[43m)\u001b[49m[\u001b[38;5;241m0\u001b[39m]\n\u001b[0;32m      9\u001b[0m \u001b[38;5;66;03m#             df = pd.read_html(res.text, attrs={\"data-test\": 'historical-data-table'}, flavor=[\"lxml\", \"bs4\"])[0]\u001b[39;00m\n",
      "File \u001b[1;32m~\\AppData\\Local\\Programs\\Python\\Python310\\lib\\site-packages\\pandas\\util\\_decorators.py:311\u001b[0m, in \u001b[0;36mdeprecate_nonkeyword_arguments.<locals>.decorate.<locals>.wrapper\u001b[1;34m(*args, **kwargs)\u001b[0m\n\u001b[0;32m    306\u001b[0m     warnings\u001b[38;5;241m.\u001b[39mwarn(\n\u001b[0;32m    307\u001b[0m         msg\u001b[38;5;241m.\u001b[39mformat(arguments\u001b[38;5;241m=\u001b[39marguments),\n\u001b[0;32m    308\u001b[0m         \u001b[38;5;167;01mFutureWarning\u001b[39;00m,\n\u001b[0;32m    309\u001b[0m         stacklevel\u001b[38;5;241m=\u001b[39mstacklevel,\n\u001b[0;32m    310\u001b[0m     )\n\u001b[1;32m--> 311\u001b[0m \u001b[38;5;28;01mreturn\u001b[39;00m func(\u001b[38;5;241m*\u001b[39margs, \u001b[38;5;241m*\u001b[39m\u001b[38;5;241m*\u001b[39mkwargs)\n",
      "File \u001b[1;32m~\\AppData\\Local\\Programs\\Python\\Python310\\lib\\site-packages\\pandas\\io\\html.py:1113\u001b[0m, in \u001b[0;36mread_html\u001b[1;34m(io, match, flavor, header, index_col, skiprows, attrs, parse_dates, thousands, encoding, decimal, converters, na_values, keep_default_na, displayed_only)\u001b[0m\n\u001b[0;32m   1111\u001b[0m io \u001b[38;5;241m=\u001b[39m stringify_path(io)\n\u001b[1;32m-> 1113\u001b[0m \u001b[38;5;28;01mreturn\u001b[39;00m \u001b[43m_parse\u001b[49m\u001b[43m(\u001b[49m\n\u001b[0;32m   1114\u001b[0m \u001b[43m    \u001b[49m\u001b[43mflavor\u001b[49m\u001b[38;5;241;43m=\u001b[39;49m\u001b[43mflavor\u001b[49m\u001b[43m,\u001b[49m\n\u001b[0;32m   1115\u001b[0m \u001b[43m    \u001b[49m\u001b[43mio\u001b[49m\u001b[38;5;241;43m=\u001b[39;49m\u001b[43mio\u001b[49m\u001b[43m,\u001b[49m\n\u001b[0;32m   1116\u001b[0m \u001b[43m    \u001b[49m\u001b[43mmatch\u001b[49m\u001b[38;5;241;43m=\u001b[39;49m\u001b[43mmatch\u001b[49m\u001b[43m,\u001b[49m\n\u001b[0;32m   1117\u001b[0m \u001b[43m    \u001b[49m\u001b[43mheader\u001b[49m\u001b[38;5;241;43m=\u001b[39;49m\u001b[43mheader\u001b[49m\u001b[43m,\u001b[49m\n\u001b[0;32m   1118\u001b[0m \u001b[43m    \u001b[49m\u001b[43mindex_col\u001b[49m\u001b[38;5;241;43m=\u001b[39;49m\u001b[43mindex_col\u001b[49m\u001b[43m,\u001b[49m\n\u001b[0;32m   1119\u001b[0m \u001b[43m    \u001b[49m\u001b[43mskiprows\u001b[49m\u001b[38;5;241;43m=\u001b[39;49m\u001b[43mskiprows\u001b[49m\u001b[43m,\u001b[49m\n\u001b[0;32m   1120\u001b[0m \u001b[43m    \u001b[49m\u001b[43mparse_dates\u001b[49m\u001b[38;5;241;43m=\u001b[39;49m\u001b[43mparse_dates\u001b[49m\u001b[43m,\u001b[49m\n\u001b[0;32m   1121\u001b[0m \u001b[43m    \u001b[49m\u001b[43mthousands\u001b[49m\u001b[38;5;241;43m=\u001b[39;49m\u001b[43mthousands\u001b[49m\u001b[43m,\u001b[49m\n\u001b[0;32m   1122\u001b[0m \u001b[43m    \u001b[49m\u001b[43mattrs\u001b[49m\u001b[38;5;241;43m=\u001b[39;49m\u001b[43mattrs\u001b[49m\u001b[43m,\u001b[49m\n\u001b[0;32m   1123\u001b[0m \u001b[43m    \u001b[49m\u001b[43mencoding\u001b[49m\u001b[38;5;241;43m=\u001b[39;49m\u001b[43mencoding\u001b[49m\u001b[43m,\u001b[49m\n\u001b[0;32m   1124\u001b[0m \u001b[43m    \u001b[49m\u001b[43mdecimal\u001b[49m\u001b[38;5;241;43m=\u001b[39;49m\u001b[43mdecimal\u001b[49m\u001b[43m,\u001b[49m\n\u001b[0;32m   1125\u001b[0m \u001b[43m    \u001b[49m\u001b[43mconverters\u001b[49m\u001b[38;5;241;43m=\u001b[39;49m\u001b[43mconverters\u001b[49m\u001b[43m,\u001b[49m\n\u001b[0;32m   1126\u001b[0m \u001b[43m    \u001b[49m\u001b[43mna_values\u001b[49m\u001b[38;5;241;43m=\u001b[39;49m\u001b[43mna_values\u001b[49m\u001b[43m,\u001b[49m\n\u001b[0;32m   1127\u001b[0m \u001b[43m    \u001b[49m\u001b[43mkeep_default_na\u001b[49m\u001b[38;5;241;43m=\u001b[39;49m\u001b[43mkeep_default_na\u001b[49m\u001b[43m,\u001b[49m\n\u001b[0;32m   1128\u001b[0m \u001b[43m    \u001b[49m\u001b[43mdisplayed_only\u001b[49m\u001b[38;5;241;43m=\u001b[39;49m\u001b[43mdisplayed_only\u001b[49m\u001b[43m,\u001b[49m\n\u001b[0;32m   1129\u001b[0m \u001b[43m\u001b[49m\u001b[43m)\u001b[49m\n",
      "File \u001b[1;32m~\\AppData\\Local\\Programs\\Python\\Python310\\lib\\site-packages\\pandas\\io\\html.py:939\u001b[0m, in \u001b[0;36m_parse\u001b[1;34m(flavor, io, match, attrs, encoding, displayed_only, **kwargs)\u001b[0m\n\u001b[0;32m    938\u001b[0m     \u001b[38;5;28;01massert\u001b[39;00m retained \u001b[38;5;129;01mis\u001b[39;00m \u001b[38;5;129;01mnot\u001b[39;00m \u001b[38;5;28;01mNone\u001b[39;00m  \u001b[38;5;66;03m# for mypy\u001b[39;00m\n\u001b[1;32m--> 939\u001b[0m     \u001b[38;5;28;01mraise\u001b[39;00m retained\n\u001b[0;32m    941\u001b[0m ret \u001b[38;5;241m=\u001b[39m []\n",
      "File \u001b[1;32m~\\AppData\\Local\\Programs\\Python\\Python310\\lib\\site-packages\\pandas\\io\\html.py:919\u001b[0m, in \u001b[0;36m_parse\u001b[1;34m(flavor, io, match, attrs, encoding, displayed_only, **kwargs)\u001b[0m\n\u001b[0;32m    918\u001b[0m \u001b[38;5;28;01mtry\u001b[39;00m:\n\u001b[1;32m--> 919\u001b[0m     tables \u001b[38;5;241m=\u001b[39m \u001b[43mp\u001b[49m\u001b[38;5;241;43m.\u001b[39;49m\u001b[43mparse_tables\u001b[49m\u001b[43m(\u001b[49m\u001b[43m)\u001b[49m\n\u001b[0;32m    920\u001b[0m \u001b[38;5;28;01mexcept\u001b[39;00m \u001b[38;5;167;01mValueError\u001b[39;00m \u001b[38;5;28;01mas\u001b[39;00m caught:\n\u001b[0;32m    921\u001b[0m     \u001b[38;5;66;03m# if `io` is an io-like object, check if it's seekable\u001b[39;00m\n\u001b[0;32m    922\u001b[0m     \u001b[38;5;66;03m# and try to rewind it before trying the next parser\u001b[39;00m\n",
      "File \u001b[1;32m~\\AppData\\Local\\Programs\\Python\\Python310\\lib\\site-packages\\pandas\\io\\html.py:239\u001b[0m, in \u001b[0;36m_HtmlFrameParser.parse_tables\u001b[1;34m(self)\u001b[0m\n\u001b[0;32m    232\u001b[0m \u001b[38;5;124;03m\"\"\"\u001b[39;00m\n\u001b[0;32m    233\u001b[0m \u001b[38;5;124;03mParse and return all tables from the DOM.\u001b[39;00m\n\u001b[0;32m    234\u001b[0m \n\u001b[1;32m   (...)\u001b[0m\n\u001b[0;32m    237\u001b[0m \u001b[38;5;124;03mlist of parsed (header, body, footer) tuples from tables.\u001b[39;00m\n\u001b[0;32m    238\u001b[0m \u001b[38;5;124;03m\"\"\"\u001b[39;00m\n\u001b[1;32m--> 239\u001b[0m tables \u001b[38;5;241m=\u001b[39m \u001b[38;5;28;43mself\u001b[39;49m\u001b[38;5;241;43m.\u001b[39;49m\u001b[43m_parse_tables\u001b[49m\u001b[43m(\u001b[49m\u001b[38;5;28;43mself\u001b[39;49m\u001b[38;5;241;43m.\u001b[39;49m\u001b[43m_build_doc\u001b[49m\u001b[43m(\u001b[49m\u001b[43m)\u001b[49m\u001b[43m,\u001b[49m\u001b[43m \u001b[49m\u001b[38;5;28;43mself\u001b[39;49m\u001b[38;5;241;43m.\u001b[39;49m\u001b[43mmatch\u001b[49m\u001b[43m,\u001b[49m\u001b[43m \u001b[49m\u001b[38;5;28;43mself\u001b[39;49m\u001b[38;5;241;43m.\u001b[39;49m\u001b[43mattrs\u001b[49m\u001b[43m)\u001b[49m\n\u001b[0;32m    240\u001b[0m \u001b[38;5;28;01mreturn\u001b[39;00m (\u001b[38;5;28mself\u001b[39m\u001b[38;5;241m.\u001b[39m_parse_thead_tbody_tfoot(table) \u001b[38;5;28;01mfor\u001b[39;00m table \u001b[38;5;129;01min\u001b[39;00m tables)\n",
      "File \u001b[1;32m~\\AppData\\Local\\Programs\\Python\\Python310\\lib\\site-packages\\pandas\\io\\html.py:569\u001b[0m, in \u001b[0;36m_BeautifulSoupHtml5LibFrameParser._parse_tables\u001b[1;34m(self, doc, match, attrs)\u001b[0m\n\u001b[0;32m    568\u001b[0m \u001b[38;5;28;01mif\u001b[39;00m \u001b[38;5;129;01mnot\u001b[39;00m tables:\n\u001b[1;32m--> 569\u001b[0m     \u001b[38;5;28;01mraise\u001b[39;00m \u001b[38;5;167;01mValueError\u001b[39;00m(\u001b[38;5;124m\"\u001b[39m\u001b[38;5;124mNo tables found\u001b[39m\u001b[38;5;124m\"\u001b[39m)\n\u001b[0;32m    571\u001b[0m result \u001b[38;5;241m=\u001b[39m []\n",
      "\u001b[1;31mValueError\u001b[0m: No tables found",
      "\nDuring handling of the above exception, another exception occurred:\n",
      "\u001b[1;31mValueError\u001b[0m                                Traceback (most recent call last)",
      "Cell \u001b[1;32mIn [16], line 13\u001b[0m\n\u001b[0;32m     11\u001b[0m \u001b[38;5;28;01mexcept\u001b[39;00m:\n\u001b[0;32m     12\u001b[0m     res \u001b[38;5;241m=\u001b[39m requests\u001b[38;5;241m.\u001b[39mget(url, headers\u001b[38;5;241m=\u001b[39mheaders)\n\u001b[1;32m---> 13\u001b[0m     df \u001b[38;5;241m=\u001b[39m \u001b[43mpd\u001b[49m\u001b[38;5;241;43m.\u001b[39;49m\u001b[43mread_html\u001b[49m\u001b[43m(\u001b[49m\u001b[43mres\u001b[49m\u001b[38;5;241;43m.\u001b[39;49m\u001b[43mtext\u001b[49m\u001b[43m,\u001b[49m\u001b[43m \u001b[49m\u001b[43mattrs\u001b[49m\u001b[38;5;241;43m=\u001b[39;49m\u001b[43m{\u001b[49m\u001b[38;5;124;43m\"\u001b[39;49m\u001b[38;5;124;43mdata-test\u001b[39;49m\u001b[38;5;124;43m\"\u001b[39;49m\u001b[43m:\u001b[49m\u001b[43m \u001b[49m\u001b[38;5;124;43m\"\u001b[39;49m\u001b[38;5;124;43mhistorical-data-table\u001b[39;49m\u001b[38;5;124;43m\"\u001b[39;49m\u001b[43m}\u001b[49m\u001b[43m,\u001b[49m\u001b[43m \u001b[49m\u001b[43mflavor\u001b[49m\u001b[38;5;241;43m=\u001b[39;49m\u001b[43m[\u001b[49m\u001b[38;5;124;43m\"\u001b[39;49m\u001b[38;5;124;43mlxml\u001b[39;49m\u001b[38;5;124;43m\"\u001b[39;49m\u001b[43m,\u001b[49m\u001b[43m \u001b[49m\u001b[38;5;124;43m\"\u001b[39;49m\u001b[38;5;124;43mbs4\u001b[39;49m\u001b[38;5;124;43m\"\u001b[39;49m\u001b[43m]\u001b[49m\u001b[43m)\u001b[49m[\u001b[38;5;241m0\u001b[39m]\n\u001b[0;32m     14\u001b[0m     \u001b[38;5;28;01mbreak\u001b[39;00m\n\u001b[0;32m     15\u001b[0m \u001b[38;5;28;01mfinally\u001b[39;00m:\n",
      "File \u001b[1;32m~\\AppData\\Local\\Programs\\Python\\Python310\\lib\\site-packages\\pandas\\util\\_decorators.py:311\u001b[0m, in \u001b[0;36mdeprecate_nonkeyword_arguments.<locals>.decorate.<locals>.wrapper\u001b[1;34m(*args, **kwargs)\u001b[0m\n\u001b[0;32m    305\u001b[0m \u001b[38;5;28;01mif\u001b[39;00m \u001b[38;5;28mlen\u001b[39m(args) \u001b[38;5;241m>\u001b[39m num_allow_args:\n\u001b[0;32m    306\u001b[0m     warnings\u001b[38;5;241m.\u001b[39mwarn(\n\u001b[0;32m    307\u001b[0m         msg\u001b[38;5;241m.\u001b[39mformat(arguments\u001b[38;5;241m=\u001b[39marguments),\n\u001b[0;32m    308\u001b[0m         \u001b[38;5;167;01mFutureWarning\u001b[39;00m,\n\u001b[0;32m    309\u001b[0m         stacklevel\u001b[38;5;241m=\u001b[39mstacklevel,\n\u001b[0;32m    310\u001b[0m     )\n\u001b[1;32m--> 311\u001b[0m \u001b[38;5;28;01mreturn\u001b[39;00m func(\u001b[38;5;241m*\u001b[39margs, \u001b[38;5;241m*\u001b[39m\u001b[38;5;241m*\u001b[39mkwargs)\n",
      "File \u001b[1;32m~\\AppData\\Local\\Programs\\Python\\Python310\\lib\\site-packages\\pandas\\io\\html.py:1113\u001b[0m, in \u001b[0;36mread_html\u001b[1;34m(io, match, flavor, header, index_col, skiprows, attrs, parse_dates, thousands, encoding, decimal, converters, na_values, keep_default_na, displayed_only)\u001b[0m\n\u001b[0;32m   1109\u001b[0m validate_header_arg(header)\n\u001b[0;32m   1111\u001b[0m io \u001b[38;5;241m=\u001b[39m stringify_path(io)\n\u001b[1;32m-> 1113\u001b[0m \u001b[38;5;28;01mreturn\u001b[39;00m \u001b[43m_parse\u001b[49m\u001b[43m(\u001b[49m\n\u001b[0;32m   1114\u001b[0m \u001b[43m    \u001b[49m\u001b[43mflavor\u001b[49m\u001b[38;5;241;43m=\u001b[39;49m\u001b[43mflavor\u001b[49m\u001b[43m,\u001b[49m\n\u001b[0;32m   1115\u001b[0m \u001b[43m    \u001b[49m\u001b[43mio\u001b[49m\u001b[38;5;241;43m=\u001b[39;49m\u001b[43mio\u001b[49m\u001b[43m,\u001b[49m\n\u001b[0;32m   1116\u001b[0m \u001b[43m    \u001b[49m\u001b[43mmatch\u001b[49m\u001b[38;5;241;43m=\u001b[39;49m\u001b[43mmatch\u001b[49m\u001b[43m,\u001b[49m\n\u001b[0;32m   1117\u001b[0m \u001b[43m    \u001b[49m\u001b[43mheader\u001b[49m\u001b[38;5;241;43m=\u001b[39;49m\u001b[43mheader\u001b[49m\u001b[43m,\u001b[49m\n\u001b[0;32m   1118\u001b[0m \u001b[43m    \u001b[49m\u001b[43mindex_col\u001b[49m\u001b[38;5;241;43m=\u001b[39;49m\u001b[43mindex_col\u001b[49m\u001b[43m,\u001b[49m\n\u001b[0;32m   1119\u001b[0m \u001b[43m    \u001b[49m\u001b[43mskiprows\u001b[49m\u001b[38;5;241;43m=\u001b[39;49m\u001b[43mskiprows\u001b[49m\u001b[43m,\u001b[49m\n\u001b[0;32m   1120\u001b[0m \u001b[43m    \u001b[49m\u001b[43mparse_dates\u001b[49m\u001b[38;5;241;43m=\u001b[39;49m\u001b[43mparse_dates\u001b[49m\u001b[43m,\u001b[49m\n\u001b[0;32m   1121\u001b[0m \u001b[43m    \u001b[49m\u001b[43mthousands\u001b[49m\u001b[38;5;241;43m=\u001b[39;49m\u001b[43mthousands\u001b[49m\u001b[43m,\u001b[49m\n\u001b[0;32m   1122\u001b[0m \u001b[43m    \u001b[49m\u001b[43mattrs\u001b[49m\u001b[38;5;241;43m=\u001b[39;49m\u001b[43mattrs\u001b[49m\u001b[43m,\u001b[49m\n\u001b[0;32m   1123\u001b[0m \u001b[43m    \u001b[49m\u001b[43mencoding\u001b[49m\u001b[38;5;241;43m=\u001b[39;49m\u001b[43mencoding\u001b[49m\u001b[43m,\u001b[49m\n\u001b[0;32m   1124\u001b[0m \u001b[43m    \u001b[49m\u001b[43mdecimal\u001b[49m\u001b[38;5;241;43m=\u001b[39;49m\u001b[43mdecimal\u001b[49m\u001b[43m,\u001b[49m\n\u001b[0;32m   1125\u001b[0m \u001b[43m    \u001b[49m\u001b[43mconverters\u001b[49m\u001b[38;5;241;43m=\u001b[39;49m\u001b[43mconverters\u001b[49m\u001b[43m,\u001b[49m\n\u001b[0;32m   1126\u001b[0m \u001b[43m    \u001b[49m\u001b[43mna_values\u001b[49m\u001b[38;5;241;43m=\u001b[39;49m\u001b[43mna_values\u001b[49m\u001b[43m,\u001b[49m\n\u001b[0;32m   1127\u001b[0m \u001b[43m    \u001b[49m\u001b[43mkeep_default_na\u001b[49m\u001b[38;5;241;43m=\u001b[39;49m\u001b[43mkeep_default_na\u001b[49m\u001b[43m,\u001b[49m\n\u001b[0;32m   1128\u001b[0m \u001b[43m    \u001b[49m\u001b[43mdisplayed_only\u001b[49m\u001b[38;5;241;43m=\u001b[39;49m\u001b[43mdisplayed_only\u001b[49m\u001b[43m,\u001b[49m\n\u001b[0;32m   1129\u001b[0m \u001b[43m\u001b[49m\u001b[43m)\u001b[49m\n",
      "File \u001b[1;32m~\\AppData\\Local\\Programs\\Python\\Python310\\lib\\site-packages\\pandas\\io\\html.py:939\u001b[0m, in \u001b[0;36m_parse\u001b[1;34m(flavor, io, match, attrs, encoding, displayed_only, **kwargs)\u001b[0m\n\u001b[0;32m    937\u001b[0m \u001b[38;5;28;01melse\u001b[39;00m:\n\u001b[0;32m    938\u001b[0m     \u001b[38;5;28;01massert\u001b[39;00m retained \u001b[38;5;129;01mis\u001b[39;00m \u001b[38;5;129;01mnot\u001b[39;00m \u001b[38;5;28;01mNone\u001b[39;00m  \u001b[38;5;66;03m# for mypy\u001b[39;00m\n\u001b[1;32m--> 939\u001b[0m     \u001b[38;5;28;01mraise\u001b[39;00m retained\n\u001b[0;32m    941\u001b[0m ret \u001b[38;5;241m=\u001b[39m []\n\u001b[0;32m    942\u001b[0m \u001b[38;5;28;01mfor\u001b[39;00m table \u001b[38;5;129;01min\u001b[39;00m tables:\n",
      "File \u001b[1;32m~\\AppData\\Local\\Programs\\Python\\Python310\\lib\\site-packages\\pandas\\io\\html.py:919\u001b[0m, in \u001b[0;36m_parse\u001b[1;34m(flavor, io, match, attrs, encoding, displayed_only, **kwargs)\u001b[0m\n\u001b[0;32m    916\u001b[0m p \u001b[38;5;241m=\u001b[39m parser(io, compiled_match, attrs, encoding, displayed_only)\n\u001b[0;32m    918\u001b[0m \u001b[38;5;28;01mtry\u001b[39;00m:\n\u001b[1;32m--> 919\u001b[0m     tables \u001b[38;5;241m=\u001b[39m \u001b[43mp\u001b[49m\u001b[38;5;241;43m.\u001b[39;49m\u001b[43mparse_tables\u001b[49m\u001b[43m(\u001b[49m\u001b[43m)\u001b[49m\n\u001b[0;32m    920\u001b[0m \u001b[38;5;28;01mexcept\u001b[39;00m \u001b[38;5;167;01mValueError\u001b[39;00m \u001b[38;5;28;01mas\u001b[39;00m caught:\n\u001b[0;32m    921\u001b[0m     \u001b[38;5;66;03m# if `io` is an io-like object, check if it's seekable\u001b[39;00m\n\u001b[0;32m    922\u001b[0m     \u001b[38;5;66;03m# and try to rewind it before trying the next parser\u001b[39;00m\n\u001b[0;32m    923\u001b[0m     \u001b[38;5;28;01mif\u001b[39;00m \u001b[38;5;28mhasattr\u001b[39m(io, \u001b[38;5;124m\"\u001b[39m\u001b[38;5;124mseekable\u001b[39m\u001b[38;5;124m\"\u001b[39m) \u001b[38;5;129;01mand\u001b[39;00m io\u001b[38;5;241m.\u001b[39mseekable():\n",
      "File \u001b[1;32m~\\AppData\\Local\\Programs\\Python\\Python310\\lib\\site-packages\\pandas\\io\\html.py:239\u001b[0m, in \u001b[0;36m_HtmlFrameParser.parse_tables\u001b[1;34m(self)\u001b[0m\n\u001b[0;32m    231\u001b[0m \u001b[38;5;28;01mdef\u001b[39;00m \u001b[38;5;21mparse_tables\u001b[39m(\u001b[38;5;28mself\u001b[39m):\n\u001b[0;32m    232\u001b[0m     \u001b[38;5;124;03m\"\"\"\u001b[39;00m\n\u001b[0;32m    233\u001b[0m \u001b[38;5;124;03m    Parse and return all tables from the DOM.\u001b[39;00m\n\u001b[0;32m    234\u001b[0m \n\u001b[1;32m   (...)\u001b[0m\n\u001b[0;32m    237\u001b[0m \u001b[38;5;124;03m    list of parsed (header, body, footer) tuples from tables.\u001b[39;00m\n\u001b[0;32m    238\u001b[0m \u001b[38;5;124;03m    \"\"\"\u001b[39;00m\n\u001b[1;32m--> 239\u001b[0m     tables \u001b[38;5;241m=\u001b[39m \u001b[38;5;28;43mself\u001b[39;49m\u001b[38;5;241;43m.\u001b[39;49m\u001b[43m_parse_tables\u001b[49m\u001b[43m(\u001b[49m\u001b[38;5;28;43mself\u001b[39;49m\u001b[38;5;241;43m.\u001b[39;49m\u001b[43m_build_doc\u001b[49m\u001b[43m(\u001b[49m\u001b[43m)\u001b[49m\u001b[43m,\u001b[49m\u001b[43m \u001b[49m\u001b[38;5;28;43mself\u001b[39;49m\u001b[38;5;241;43m.\u001b[39;49m\u001b[43mmatch\u001b[49m\u001b[43m,\u001b[49m\u001b[43m \u001b[49m\u001b[38;5;28;43mself\u001b[39;49m\u001b[38;5;241;43m.\u001b[39;49m\u001b[43mattrs\u001b[49m\u001b[43m)\u001b[49m\n\u001b[0;32m    240\u001b[0m     \u001b[38;5;28;01mreturn\u001b[39;00m (\u001b[38;5;28mself\u001b[39m\u001b[38;5;241m.\u001b[39m_parse_thead_tbody_tfoot(table) \u001b[38;5;28;01mfor\u001b[39;00m table \u001b[38;5;129;01min\u001b[39;00m tables)\n",
      "File \u001b[1;32m~\\AppData\\Local\\Programs\\Python\\Python310\\lib\\site-packages\\pandas\\io\\html.py:569\u001b[0m, in \u001b[0;36m_BeautifulSoupHtml5LibFrameParser._parse_tables\u001b[1;34m(self, doc, match, attrs)\u001b[0m\n\u001b[0;32m    566\u001b[0m tables \u001b[38;5;241m=\u001b[39m doc\u001b[38;5;241m.\u001b[39mfind_all(element_name, attrs\u001b[38;5;241m=\u001b[39mattrs)\n\u001b[0;32m    568\u001b[0m \u001b[38;5;28;01mif\u001b[39;00m \u001b[38;5;129;01mnot\u001b[39;00m tables:\n\u001b[1;32m--> 569\u001b[0m     \u001b[38;5;28;01mraise\u001b[39;00m \u001b[38;5;167;01mValueError\u001b[39;00m(\u001b[38;5;124m\"\u001b[39m\u001b[38;5;124mNo tables found\u001b[39m\u001b[38;5;124m\"\u001b[39m)\n\u001b[0;32m    571\u001b[0m result \u001b[38;5;241m=\u001b[39m []\n\u001b[0;32m    572\u001b[0m unique_tables \u001b[38;5;241m=\u001b[39m \u001b[38;5;28mset\u001b[39m()\n",
      "\u001b[1;31mValueError\u001b[0m: No tables found"
     ]
    }
   ],
   "source": [
    "for i, url in enumerate(urls):\n",
    "    print('url', url)\n",
    "    # 시간, 미국, 한국 접속사이트에 따라 attribute 가 변경되서 나타나기 때문에 error  처리를 위해 try 사용\n",
    "    count = 0\n",
    "    while True:\n",
    "        try :\n",
    "            res = requests.get(url, headers=headers)\n",
    "            df = pd.read_html(res.text, attrs={\"id\": \"curr_table\"}, flavor=[\"lxml\", \"bs4\"])[0]\n",
    "#             df = pd.read_html(res.text, attrs={\"data-test\": 'historical-data-table'}, flavor=[\"lxml\", \"bs4\"])[0]\n",
    "            break\n",
    "        except:\n",
    "            res = requests.get(url, headers=headers)\n",
    "            df = pd.read_html(res.text, attrs={\"data-test\": \"historical-data-table\"}, flavor=[\"lxml\", \"bs4\"])[0]\n",
    "            break\n",
    "        finally:\n",
    "            time.sleep(1)\n",
    "            count += 1\n",
    "            if count > 5 :\n",
    "                raise ValueError('The url request is delaying')\n",
    "#                 break\n",
    "                \n",
    "    print(url)\n",
    "    print(i, col_names[i])\n",
    "    df.columns = col_names[i]\n",
    "    \n",
    "    # 시간, 미국, 한국 접속사이트에 따라 attribute 가 변경되서 나타나기 때문에 error  처리를 위해 try 사용\n",
    "    try:\n",
    "        df['date'] = df['date'].apply(lambda x : datetime.datetime.strptime(x, \"%b %d, %Y\"))\n",
    "    except:\n",
    "        df['date'] = df['date'].apply(lambda x : datetime.datetime.strptime(x, \"%m/%d/%Y\"))\n",
    "    \n",
    "    df.sort_values(by=['date'], inplace=True)\n",
    "    df.drop_duplicates(subset=['date'], inplace=True)\n",
    "    df_select = df[col_names_s[i]]\n",
    "    df_select.set_index('date', inplace=True)\n",
    "    \n",
    "    start_date = df_select.index[0]\n",
    "    end_date = df_select.index[-1]\n",
    "    df_select = make_datetime_series_df(df_select, start_date, end_date)\n",
    "\n",
    "    df_org.update(df_select)"
   ]
  },
  {
   "cell_type": "code",
   "execution_count": 17,
   "id": "922345e3",
   "metadata": {},
   "outputs": [
    {
     "name": "stdout",
     "output_type": "stream",
     "text": [
      "<Response [403]>\n"
     ]
    }
   ],
   "source": [
    "print(res)"
   ]
  },
  {
   "cell_type": "markdown",
   "id": "hydraulic-driving",
   "metadata": {},
   "source": [
    "#### get append cpi"
   ]
  },
  {
   "cell_type": "code",
   "execution_count": null,
   "id": "welcome-bailey",
   "metadata": {},
   "outputs": [],
   "source": [
    "cpi_url = 'https://www.investing.com/economic-calendar/cpi-733'"
   ]
  },
  {
   "cell_type": "code",
   "execution_count": null,
   "id": "quick-universe",
   "metadata": {},
   "outputs": [],
   "source": [
    "res = requests.get(cpi_url, headers=headers)\n",
    "df = pd.read_html(res.text, flavor=[\"lxml\", \"bs4\"])[0]\n",
    "df.columns = ['date', 'time', 'cpi', 'cpi_anticipated', 'cpi_previous', 'none']\n",
    "df['time'] = df['time'].apply(lambda x : datetime.datetime.strptime(x, \"%H:%M\").time())\n",
    "df['date'] = df['date'].apply(lambda x : datetime.datetime.strptime(x[:12], \"%b %d, %Y\"))\n",
    "\n",
    "df.sort_values(by=['date'], inplace=True)\n",
    "df.drop_duplicates(subset=['date'], inplace=True)\n",
    "df_select = df[['date', 'cpi', 'cpi_anticipated', 'cpi_previous']]\n",
    "df_select.set_index('date', inplace=True)\n",
    "\n",
    "start_date = df_select.index[0]\n",
    "end_date = df_select.index[-1]\n",
    "df_select = make_datetime_series_df(df_select, start_date, end_date)\n",
    "\n",
    "df_org.update(df_select)"
   ]
  },
  {
   "cell_type": "markdown",
   "id": "professional-allergy",
   "metadata": {},
   "source": [
    "#### get append fear and greed"
   ]
  },
  {
   "cell_type": "code",
   "execution_count": null,
   "id": "affiliated-married",
   "metadata": {},
   "outputs": [],
   "source": [
    "import pytz, json"
   ]
  },
  {
   "cell_type": "code",
   "execution_count": null,
   "id": "suburban-simulation",
   "metadata": {},
   "outputs": [],
   "source": [
    "today = datetime.date.today()\n",
    "today_p = today.strftime('%Y%m%d')\n",
    "diff_days = datetime.timedelta(days=30)\n",
    "today = today - diff_days\n",
    "start_date = today.strftime('%Y-%m-%d')"
   ]
  },
  {
   "cell_type": "code",
   "execution_count": null,
   "id": "nervous-steel",
   "metadata": {},
   "outputs": [],
   "source": [
    "BASE_URL = \"https://production.dataviz.cnn.io/index/fearandgreed/graphdata\"\n",
    "# START_DATE = '2022-01-01'\n",
    "START_DATE = start_date"
   ]
  },
  {
   "cell_type": "code",
   "execution_count": null,
   "id": "7ad6adda",
   "metadata": {},
   "outputs": [],
   "source": [
    "def transform_timezone(x):\n",
    "    dt = datetime.datetime.fromtimestamp(x / 1000, tz=pytz.utc)\n",
    "#     tzone = pytz.timezone('US/Eastern')\n",
    "    tzone = pytz.timezone('Asia/Seoul')\n",
    "    loc_dt = dt.astimezone(tzone)\n",
    "    return loc_dt.date()"
   ]
  },
  {
   "cell_type": "code",
   "execution_count": null,
   "id": "governmental-undergraduate",
   "metadata": {},
   "outputs": [],
   "source": [
    "r = requests.get(\"{}/{}\".format(BASE_URL, START_DATE), headers=headers)\n",
    "data = r.json()\n",
    "fg_data = data['fear_and_greed_historical']['data']"
   ]
  },
  {
   "cell_type": "code",
   "execution_count": null,
   "id": "cb1c6b05",
   "metadata": {},
   "outputs": [],
   "source": [
    "df = pd.DataFrame(fg_data)\n",
    "df.columns = ['date', 'f_g_index', 'rating']\n",
    "# df.head()"
   ]
  },
  {
   "cell_type": "code",
   "execution_count": null,
   "id": "d0de7f8a",
   "metadata": {},
   "outputs": [],
   "source": [
    "df['date'] = df['date'].apply(lambda x: transform_timezone(x))\n",
    "df['f_g_index'] = df['f_g_index'].astype('int')\n",
    "\n",
    "df.sort_values(by=['date'], inplace=True)\n",
    "df.drop_duplicates(subset=['date'], inplace=True) # 중복항목 삭제. 필수 검토해야 함. 중복입력되는 경우 다수 발생\n",
    "\n",
    "df_select = df[['date', 'f_g_index']]\n",
    "df_select.set_index('date', inplace=True)\n",
    "\n",
    "start_date = df_select.index[0]\n",
    "end_date = df_select.index[-1]\n",
    "df_select = make_datetime_series_df(df_select, start_date, end_date)\n",
    "\n",
    "df_org.update(df_select)"
   ]
  },
  {
   "cell_type": "code",
   "execution_count": null,
   "id": "fc27473b",
   "metadata": {},
   "outputs": [],
   "source": [
    "# df_org.reset_index(inplace=True)\n",
    "# df_org.to_csv('data/data_common.csv', index=False)"
   ]
  },
  {
   "cell_type": "markdown",
   "id": "67a7f19a",
   "metadata": {},
   "source": [
    "#### get and append gold price"
   ]
  },
  {
   "cell_type": "code",
   "execution_count": null,
   "id": "66d4bcc2",
   "metadata": {},
   "outputs": [],
   "source": [
    "gold_url = 'https://www.usagold.com/daily-gold-price-history/'"
   ]
  },
  {
   "cell_type": "code",
   "execution_count": null,
   "id": "2b7ebda2",
   "metadata": {},
   "outputs": [],
   "source": [
    "res = requests.get(gold_url, headers=headers)\n",
    "df = pd.read_html(res.text, flavor=[\"lxml\", \"bs4\"])\n",
    "df = df[0].drop(0) # delete empty first row\n",
    "df.columns = ['date', 'gold']\n",
    "df['date'] = df['date'].apply(lambda x : datetime.datetime.strptime(x, \"%d %b %Y\"))\n",
    "df.sort_values(by=['date'], inplace=True)\n",
    "df.drop_duplicates(subset=['date'], inplace=True) "
   ]
  },
  {
   "cell_type": "code",
   "execution_count": null,
   "id": "49c3ae4b",
   "metadata": {},
   "outputs": [],
   "source": [
    "# calculate change_rate\n",
    "df_shift_p1 = df['gold'].shift(1)\n",
    "df['gold_cr'] = (df['gold'] - df_shift_p1)/df_shift_p1\n",
    "df.replace(np.nan, '', inplace=True)\n",
    "# df.head()"
   ]
  },
  {
   "cell_type": "code",
   "execution_count": null,
   "id": "d8747b25",
   "metadata": {},
   "outputs": [],
   "source": [
    "df.set_index('date', inplace=True)\n",
    "\n",
    "start_date = df.index[0]\n",
    "end_date = df.index[-1]\n",
    "df = make_datetime_series_df(df, start_date, end_date)\n",
    "\n",
    "df_org.update(df)"
   ]
  },
  {
   "cell_type": "markdown",
   "id": "c6771fd5",
   "metadata": {},
   "source": [
    "### fed 금리 get append"
   ]
  },
  {
   "cell_type": "code",
   "execution_count": null,
   "id": "b27dd9b7",
   "metadata": {},
   "outputs": [],
   "source": [
    "interest_url = 'https://www.investing.com/economic-calendar/interest-rate-decision-168/'"
   ]
  },
  {
   "cell_type": "code",
   "execution_count": null,
   "id": "47e24196",
   "metadata": {},
   "outputs": [],
   "source": [
    "res = requests.get(interest_url, headers=headers)\n",
    "df = pd.read_html(res.text, flavor=[\"lxml\", \"bs4\"])[0]\n",
    "# df.head()"
   ]
  },
  {
   "cell_type": "code",
   "execution_count": null,
   "id": "a344c3d8",
   "metadata": {},
   "outputs": [],
   "source": [
    "df.columns = ['date', 'time', 'fed_rate', 'fed_rate_fore', 'fed_rate_prev', 'none']"
   ]
  },
  {
   "cell_type": "code",
   "execution_count": null,
   "id": "1b36da94",
   "metadata": {},
   "outputs": [],
   "source": [
    "df['date'] = df['date'].apply(lambda x : datetime.datetime.strptime(x[:12], \"%b %d, %Y\"))\n",
    "df['time'] = df['time'].apply(lambda x : datetime.datetime.strptime(x, \"%H:%M\").time())\n",
    "df.sort_values(by=['date'], inplace=True)\n",
    "df.drop_duplicates(subset=['date'], inplace=True) "
   ]
  },
  {
   "cell_type": "code",
   "execution_count": null,
   "id": "3cd7df60",
   "metadata": {},
   "outputs": [],
   "source": [
    "df_select = df[['date', 'fed_rate', 'fed_rate_fore', 'fed_rate_prev']]\n",
    "df_select.set_index('date', inplace=True)\n",
    "\n",
    "start_date = df_select.index[0]\n",
    "end_date = df_select.index[-1]\n",
    "df_select = make_datetime_series_df(df_select, start_date, end_date)\n",
    "\n",
    "df_org.update(df_select)"
   ]
  },
  {
   "cell_type": "markdown",
   "id": "18ddc5b3",
   "metadata": {},
   "source": [
    "### 한국은행 금리 get append"
   ]
  },
  {
   "cell_type": "code",
   "execution_count": null,
   "id": "827eed7c",
   "metadata": {},
   "outputs": [],
   "source": [
    "kor_url = 'https://www.bok.or.kr/portal/singl/baseRate/list.do?dataSeCd=01&menuNo=200643'"
   ]
  },
  {
   "cell_type": "code",
   "execution_count": null,
   "id": "165dd0c2",
   "metadata": {},
   "outputs": [],
   "source": [
    "res = requests.get(kor_url, headers=headers)\n",
    "df = pd.read_html(res.text, attrs = {'class': 'fixed'}, flavor=[\"lxml\", \"bs4\"])[0]"
   ]
  },
  {
   "cell_type": "code",
   "execution_count": null,
   "id": "75736723",
   "metadata": {},
   "outputs": [],
   "source": [
    "df.columns=  ['release_yr', 'release_date', 'bok_rate']\n",
    "df_date_temp = df['release_yr'].astype('str')+df['release_date']\n",
    "df['date'] = df_date_temp.apply(lambda x : datetime.datetime.strptime(x, \"%Y%m월 %d일\"))\n",
    "df.sort_values(by=['date'], inplace=True)\n",
    "df.drop_duplicates(subset=['date'], inplace=True) "
   ]
  },
  {
   "cell_type": "code",
   "execution_count": null,
   "id": "7dc80447",
   "metadata": {},
   "outputs": [],
   "source": [
    "df_select = df[['date', 'bok_rate']] # leave only valid columns\n",
    "df_select.set_index('date', inplace=True)\n",
    "\n",
    "df_org.update(df_select)"
   ]
  },
  {
   "cell_type": "markdown",
   "id": "2017e548",
   "metadata": {},
   "source": [
    "### make csv file"
   ]
  },
  {
   "cell_type": "code",
   "execution_count": null,
   "id": "57936ad3",
   "metadata": {},
   "outputs": [],
   "source": [
    "df_org.reset_index(inplace=True)\n",
    "df_org.to_csv('data/data_common.csv', index=False)"
   ]
  },
  {
   "cell_type": "code",
   "execution_count": null,
   "id": "09fbc807",
   "metadata": {},
   "outputs": [],
   "source": [
    "df_org.set_index('date').loc['2022-08-01':'2022-08-12', ['ixic', 'dji', 'spx']]"
   ]
  },
  {
   "cell_type": "code",
   "execution_count": null,
   "id": "371fe996",
   "metadata": {},
   "outputs": [],
   "source": []
  }
 ],
 "metadata": {
  "kernelspec": {
   "display_name": "Python 3 (ipykernel)",
   "language": "python",
   "name": "python3"
  },
  "language_info": {
   "codemirror_mode": {
    "name": "ipython",
    "version": 3
   },
   "file_extension": ".py",
   "mimetype": "text/x-python",
   "name": "python",
   "nbconvert_exporter": "python",
   "pygments_lexer": "ipython3",
   "version": "3.10.7"
  }
 },
 "nbformat": 4,
 "nbformat_minor": 5
}
