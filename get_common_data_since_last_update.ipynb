{
 "cells": [
  {
   "cell_type": "markdown",
   "id": "25b184a9",
   "metadata": {},
   "source": [
    "#### 지표 자동 UPDATE \n",
    "   - 주요 주식시장 지수 : spx, dji, ixix, kospi, kosdaq\n",
    "   - 반도체지수, VIX 지수: sox, vix\n",
    "   - 미국 채권 지수, 한국 채권 지수\n",
    "   - 원화 환율\n",
    "   - 선물 : 미국 3대 지수, wti, 달러지수 선물"
   ]
  },
  {
   "cell_type": "code",
   "execution_count": 1,
   "id": "matched-interview",
   "metadata": {},
   "outputs": [],
   "source": [
    "# from bs4 import BeautifulSoup as bs\n",
    "import requests\n",
    "import datetime, time\n",
    "\n",
    "import pandas as pd\n",
    "import numpy as np\n",
    "\n",
    "import os\n",
    "import shutil"
   ]
  },
  {
   "cell_type": "code",
   "execution_count": 2,
   "id": "08943027",
   "metadata": {},
   "outputs": [],
   "source": [
    "# !pip install cfscrape # 403 forbidden, cloudflare error을 해결하기 위한 모듈\n",
    "import cfscrape\n",
    "scraper = cfscrape.create_scraper()\n",
    "# 이후 403 error이 발생한 곳에는 requests 대신 scraper 사용"
   ]
  },
  {
   "cell_type": "code",
   "execution_count": 3,
   "id": "selective-ireland",
   "metadata": {},
   "outputs": [],
   "source": [
    "headers = {'User-Agent': 'Mozilla/6.0 (Macintosh; Intel Mac OS X 10_11_5) \\\n",
    "           AppleWebKit/537.36 (KHTML, like Gecko) Chrome/50.0.2661.102 Safari/537.36'}\n",
    "# headers = {'User-Agent' : 'Mozilla/5.0 (Windows NT 10.0; Win64; x64)AppleWebKit/537.36 \\\n",
    "#           (KHTML, like Gecko) Chrome/73.0.3683.86 Safari/537.36'}\n",
    "# headers = {'User-Agent': 'Mozilla/5.0 (Macintosh; Intel Mac OS X 10_11_5) \\\n",
    "#            AppleWebKit/537.36 (KHTML, like Gecko) Chrome/73.0.3683.86 Safari/537.36'}"
   ]
  },
  {
   "cell_type": "code",
   "execution_count": 4,
   "id": "f8058508",
   "metadata": {},
   "outputs": [],
   "source": [
    "df_org = pd.read_csv('data/{}'.format('data_common.csv'))\n",
    "df_org['date'] = df_org['date'].apply(lambda x : datetime.datetime.strptime(x, \"%Y-%m-%d\"))\n",
    "df_org.set_index('date', inplace=True)\n",
    "df_org.replace(np.nan, '', inplace=True) "
   ]
  },
  {
   "cell_type": "markdown",
   "id": "c185509b",
   "metadata": {},
   "source": [
    "1\tdate\n",
    "2\tixic\n",
    "3\tixic_cr\n",
    "4\tixic_f\n",
    "5\tixic_f_cr\n",
    "6\tdji\n",
    "7\tdji_cr\n",
    "8\tdji_f\n",
    "9\tdji_f_cr\n",
    "10\tspx\n",
    "11\tspx_cr\n",
    "12\tspx_f\n",
    "13\tspx_f_cr\n",
    "14\tkospi\n",
    "15\tkospi_cr\n",
    "16\tkosdaq\n",
    "17\tkosdaq_cr\n",
    "18\twti\n",
    "19\twti_cr\n",
    "20\tdxy\n",
    "21\tdxy_cr\n",
    "22\tkrw\n",
    "23\tkrw_cr\n",
    "24\tbond_usa_10\n",
    "25\tbond_usa_10_cr\n",
    "26\tbond_usa_2\n",
    "27\tbond_usa_2_cr\n",
    "28\tbond_usa_3m\n",
    "29\tbond_usa_3m_cr\n",
    "30\tbond_kor_10\n",
    "31\tbond_kor_10_cr\n",
    "32\tbond_kor_2\n",
    "33\tbond_kor_2_cr\n",
    "34\tvix\n",
    "35\tvix_cr\n",
    "36\tf_g_index\n",
    "37\tsox\n",
    "38\tsox_cr\n",
    "39\tcpi\n",
    "40\tcpi_anticipated\n",
    "41\tcpi_previous\n",
    "42\tgold\n",
    "43\tgold_cr\n",
    "44\tfed_rate\n",
    "45\tfed_rate_fore\n",
    "46\tfed_rate_prev\n",
    "47\tfed_rate_ann\n",
    "48\tfed_rate_imp\n",
    "49\tbok_rate\n",
    "50\tbok_rate_fore\n",
    "51\tbok_rate_prev\n",
    "52\tbok_rate_ann\n",
    "53\tbok_rate_imp\n",
    "54\tfu_usa_date\n",
    "55\top_usa_date\n",
    "56\tqw_usa_day\n",
    "57\tfu_kor_date\n",
    "58\top_kor_date\n",
    "59\tdw_kor_day\n"
   ]
  },
  {
   "cell_type": "code",
   "execution_count": 5,
   "id": "a2004710",
   "metadata": {},
   "outputs": [],
   "source": [
    "spx_url = 'https://www.investing.com/indices/us-spx-500-historical-data'\n",
    "dji_url = 'https://www.investing.com/indices/us-30-historical-data'\n",
    "nas_url = 'https://www.investing.com/indices/nasdaq-composite-historical-data'\n",
    "kospi_url = 'https://www.investing.com/indices/kospi-historical-data'\n",
    "kosdaq_url = 'https://www.investing.com/indices/kosdaq-historical-data'\n",
    "sox_url = 'https://www.investing.com/indices/phlx-semiconductor-historical-data'\n",
    "# cpi_url = 'https://www.investing.com/economic-calendar/cpi-733'\n",
    "vix_url = 'https://www.investing.com/indices/volatility-s-p-500-historical-data'\n",
    "\n",
    "urls_major_index = [spx_url, dji_url, nas_url, kospi_url, kosdaq_url, sox_url, vix_url]\n",
    "\n",
    "\n",
    "spx = ['date', 'spx', 'open', 'high', 'low', 'volume', 'spx_cr']\n",
    "dji = ['date', 'dji', 'open', 'high', 'low', 'volume', 'dji_cr']\n",
    "ixix = ['date', 'ixic', 'open', 'high', 'low', 'volume', 'ixic_cr']\n",
    "kospi = ['date', 'kospi', 'open', 'high', 'low', 'volume', 'kospi_cr']\n",
    "kosdaq = ['date', 'kosdaq', 'open', 'high', 'low', 'volume', 'kosdaq_cr']\n",
    "sox = ['date', 'sox', 'open', 'high', 'low', 'volume', 'sox_cr']\n",
    "# cpi = ['date', 'time', 'cpi', 'cpi_anticipated', 'cpi_previous', 'none']\n",
    "# fng = ['date', 'n1', 'n2', 'n3', 'f_g_index']\n",
    "vix = ['date', 'vix', 'open', 'high', 'low', 'volume', 'vix_cr']\n",
    "\n",
    "col_names_major_index = [spx, dji, ixix, kospi, kosdaq, sox, vix ]\n",
    "\n",
    "spx_s = ['date', 'spx', 'spx_cr']\n",
    "dji_s = ['date', 'dji', 'dji_cr']\n",
    "ixic_s = ['date', 'ixic', 'ixic_cr']\n",
    "kospi_s = ['date', 'kospi', 'kospi_cr']\n",
    "kosdaq_s = ['date', 'kosdaq', 'kosdaq_cr']\n",
    "sox_s = ['date', 'sox', 'sox_cr']\n",
    "# cpi_s = ['date', 'cpi', 'cpi_anticipated', 'cpi_previous']\n",
    "# fng_s = ['date', 'f_g_index']\n",
    "vix_s = ['date', 'vix', 'vix_cr']\n",
    "\n",
    "col_names_s_major_index = [spx_s, dji_s, ixic_s, kospi_s, kosdaq_s, sox_s, vix_s]"
   ]
  },
  {
   "cell_type": "code",
   "execution_count": 6,
   "id": "fd7c61ba",
   "metadata": {},
   "outputs": [],
   "source": [
    "us_bond_10yr_url = 'https://www.investing.com/rates-bonds/u.s.-10-year-bond-yield-historical-data'\n",
    "us_bond_2yr_url = 'https://www.investing.com/rates-bonds/u.s.-2-year-bond-yield-historical-data'\n",
    "us_bond_3mon_url = 'https://www.investing.com/rates-bonds/u.s.-3-month-bond-yield-historical-data'\n",
    "kor_bond_10yr_url = 'https://www.investing.com/rates-bonds/south-korea-10-year-bond-yield-historical-data'\n",
    "kor_bond_2yr_url = 'https://www.investing.com/rates-bonds/south-korea-2-year-bond-yield-historical-data'\n",
    "\n",
    "urls_bonds = [us_bond_10yr_url, us_bond_2yr_url, us_bond_3mon_url,\n",
    "        kor_bond_10yr_url, kor_bond_2yr_url]\n",
    "\n",
    "# urls = [us_bond_10yr_url]"
   ]
  },
  {
   "cell_type": "code",
   "execution_count": 7,
   "id": "f65ce98d",
   "metadata": {},
   "outputs": [],
   "source": [
    "us_10yr = ['date', 'bond_usa_10', 'open', 'high', 'low', 'bond_usa_10_cr']\n",
    "us_2yr = ['date', 'bond_usa_2', 'open', 'high', 'low', 'bond_usa_2_cr']\n",
    "us_3mon = ['date', 'bond_usa_3m', 'open', 'high', 'low', 'bond_usa_3m_cr']\n",
    "kor_10yr = ['date', 'bond_kor_10', 'open', 'high', 'low', 'bond_kor_10_cr']\n",
    "kor_2yr = ['date', 'bond_kor_2', 'open', 'high', 'low','bond_kor_2_cr']\n",
    "\n",
    "col_names_bonds = [us_10yr, us_2yr, us_3mon, kor_10yr, kor_2yr]"
   ]
  },
  {
   "cell_type": "code",
   "execution_count": 8,
   "id": "8a337fce",
   "metadata": {},
   "outputs": [],
   "source": [
    "us_10yr_s = ['date', 'bond_usa_10', 'bond_usa_10_cr']\n",
    "us_2yr_s = ['date', 'bond_usa_2', 'bond_usa_2_cr']\n",
    "us_3mon_s = ['date', 'bond_usa_3m', 'bond_usa_3m_cr']\n",
    "kor_10yr_s = ['date', 'bond_kor_10', 'bond_kor_10_cr']\n",
    "kor_2yr_s = ['date', 'bond_kor_2', 'bond_kor_2_cr']\n",
    "\n",
    "col_names_s_bonds = [us_10yr_s, us_2yr_s, us_3mon_s, kor_10yr_s, kor_2yr_s]"
   ]
  },
  {
   "cell_type": "code",
   "execution_count": 9,
   "id": "03a9f19a",
   "metadata": {},
   "outputs": [],
   "source": [
    "krw_rate_url = 'https://www.investing.com/currencies/usd-krw-historical-data'\n",
    "\n",
    "urls_currencies = [krw_rate_url]"
   ]
  },
  {
   "cell_type": "code",
   "execution_count": 10,
   "id": "c02ec268",
   "metadata": {},
   "outputs": [],
   "source": [
    "krw_rate = ['date', 'krw', 'open', 'high', 'low', 'vol', 'krw_cr'] ## 수정\n",
    "\n",
    "col_names_currencies = [krw_rate]"
   ]
  },
  {
   "cell_type": "code",
   "execution_count": 11,
   "id": "147243b8",
   "metadata": {},
   "outputs": [],
   "source": [
    "krw_rate_s = ['date', 'krw', 'krw_cr']\n",
    "\n",
    "col_names_s_currencies = [krw_rate_s]"
   ]
  },
  {
   "cell_type": "code",
   "execution_count": 12,
   "id": "74aec2da",
   "metadata": {},
   "outputs": [],
   "source": [
    "nas_futures_url = 'https://www.investing.com/indices/nq-100-futures-historical-data'\n",
    "snp_futures_url = 'https://www.investing.com/indices/us-spx-500-futures-historical-data'\n",
    "dow_futures_url = 'https://www.investing.com/indices/us-30-futures-historical-data'\n",
    "wti_futures_url = 'https://www.investing.com/commodities/crude-oil-historical-data'\n",
    "dollar_index_url = 'https://www.investing.com/currencies/us-dollar-index-historical-data'\n",
    "\n",
    "urls_future = [snp_futures_url, dow_futures_url,  nas_futures_url, wti_futures_url, dollar_index_url ]\n",
    "\n",
    "snp_future = ['date', 'spx_f', 'open', 'high', 'low', 'volume', 'spx_f_cr']\n",
    "dji_future = ['date', 'dji_f', 'open', 'high', 'low', 'volume', 'dji_f_cr']\n",
    "ixic_future = ['date', 'ixic_f', 'open', 'high', 'low', 'volume', 'ixic_f_cr']\n",
    "wti_future = ['date', 'wti', 'open', 'high', 'low', 'volume', 'wti_cr']\n",
    "dxy_future = ['date', 'dxy', 'open', 'high', 'low', 'volume', 'dxy_cr']\n",
    "\n",
    "col_names_future = [snp_future,dji_future,ixic_future, wti_future, dxy_future]\n",
    "\n",
    "snp_future_s = ['date', 'spx_f', 'spx_f_cr']\n",
    "dji_future_s = ['date', 'dji_f', 'dji_f_cr']\n",
    "ixic_future_s = ['date', 'ixic_f', 'ixic_f_cr']\n",
    "wti_future_s = ['date', 'wti', 'wti_cr']\n",
    "dxy_future_s = ['date', 'dxy', 'dxy_cr']\n",
    "\n",
    "col_names_s_future  = [snp_future_s, dji_future_s, ixic_future_s, wti_future_s, dxy_future_s]\n"
   ]
  },
  {
   "cell_type": "code",
   "execution_count": 13,
   "id": "6c2fd5c0",
   "metadata": {},
   "outputs": [],
   "source": [
    "urls = urls_major_index + urls_bonds + urls_currencies + urls_future\n",
    "col_names = col_names_major_index + col_names_bonds + col_names_currencies + col_names_future\n",
    "col_names_s = col_names_s_major_index + col_names_s_bonds + col_names_s_currencies + col_names_s_future"
   ]
  },
  {
   "cell_type": "code",
   "execution_count": 14,
   "id": "british-circuit",
   "metadata": {},
   "outputs": [],
   "source": [
    "# urls = urls[2:3]\n",
    "# col_names = col_names[2:3]\n",
    "# col_names_s = col_names_s[2:3]"
   ]
  },
  {
   "cell_type": "code",
   "execution_count": 15,
   "id": "constant-street",
   "metadata": {},
   "outputs": [],
   "source": [
    "def make_datetime_series_df(df, start_date, end_date):\n",
    "    # make dataframe with no empty date index with input df.\n",
    "    # start_date =  '2021-01-01' str type.\n",
    "    # df.index = datetime series\n",
    "    # df.columns = ['a', 'b',,,,]\n",
    "    date_range_ts = pd.date_range(start=start_date, end=end_date)\n",
    "    df_date = pd.DataFrame(columns = df.columns)\n",
    "    df_date.insert(0, 'date', date_range_ts)\n",
    "    df_date.replace(np.nan, '', inplace=True) # Nan을 빈 칸으로 대체\n",
    "    df_date.set_index('date', inplace=True)\n",
    "    df_date.update(df)\n",
    "    return df_date"
   ]
  },
  {
   "cell_type": "code",
   "execution_count": 16,
   "id": "63b2491c",
   "metadata": {},
   "outputs": [],
   "source": [
    "# url = 'https://kr.investing.com/indices/us-spx-500-historical-data'\n",
    "# res = requests.get(url, headers=headers)\n",
    "# df = pd.read_html(res.text, attrs={\"data-test\": \"historical-data-table\"}, flavor=[\"lxml\", \"bs4\"])[0]"
   ]
  },
  {
   "cell_type": "code",
   "execution_count": 17,
   "id": "ef01f0e5",
   "metadata": {},
   "outputs": [
    {
     "name": "stdout",
     "output_type": "stream",
     "text": [
      "url https://www.investing.com/indices/us-spx-500-historical-data\n",
      "start date, end data 2022-12-05 00:00:00 2023-01-03 00:00:00\n",
      "url https://www.investing.com/indices/us-30-historical-data\n",
      "start date, end data 2022-12-05 00:00:00 2023-01-03 00:00:00\n",
      "url https://www.investing.com/indices/nasdaq-composite-historical-data\n",
      "start date, end data 2022-12-05 00:00:00 2023-01-03 00:00:00\n",
      "url https://www.investing.com/indices/kospi-historical-data\n",
      "start date, end data 2022-12-05 00:00:00 2023-01-04 00:00:00\n",
      "url https://www.investing.com/indices/kosdaq-historical-data\n",
      "start date, end data 2022-12-05 00:00:00 2023-01-04 00:00:00\n",
      "url https://www.investing.com/indices/phlx-semiconductor-historical-data\n",
      "start date, end data 2022-12-05 00:00:00 2023-01-03 00:00:00\n",
      "url https://www.investing.com/indices/volatility-s-p-500-historical-data\n",
      "start date, end data 2022-12-05 00:00:00 2023-01-04 00:00:00\n",
      "url https://www.investing.com/rates-bonds/u.s.-10-year-bond-yield-historical-data\n",
      "start date, end data 2022-12-05 00:00:00 2023-01-05 00:00:00\n",
      "url https://www.investing.com/rates-bonds/u.s.-2-year-bond-yield-historical-data\n",
      "start date, end data 2022-12-05 00:00:00 2023-01-05 00:00:00\n",
      "url https://www.investing.com/rates-bonds/u.s.-3-month-bond-yield-historical-data\n",
      "start date, end data 2022-12-05 00:00:00 2023-01-05 00:00:00\n",
      "url https://www.investing.com/rates-bonds/south-korea-10-year-bond-yield-historical-data\n",
      "start date, end data 2022-12-05 00:00:00 2023-01-05 00:00:00\n",
      "url https://www.investing.com/rates-bonds/south-korea-2-year-bond-yield-historical-data\n",
      "start date, end data 2022-12-05 00:00:00 2023-01-05 00:00:00\n",
      "url https://www.investing.com/currencies/usd-krw-historical-data\n",
      "start date, end data 2022-12-05 00:00:00 2023-01-05 00:00:00\n",
      "url https://www.investing.com/indices/us-spx-500-futures-historical-data\n",
      "start date, end data 2022-12-05 00:00:00 2023-01-05 00:00:00\n",
      "url https://www.investing.com/indices/us-30-futures-historical-data\n",
      "start date, end data 2022-12-05 00:00:00 2023-01-05 00:00:00\n",
      "url https://www.investing.com/indices/nq-100-futures-historical-data\n",
      "start date, end data 2022-12-05 00:00:00 2023-01-05 00:00:00\n",
      "url https://www.investing.com/commodities/crude-oil-historical-data\n",
      "start date, end data 2022-12-05 00:00:00 2023-01-05 00:00:00\n",
      "url https://www.investing.com/currencies/us-dollar-index-historical-data\n",
      "start date, end data 2022-12-05 00:00:00 2023-01-05 00:00:00\n"
     ]
    }
   ],
   "source": [
    "for i, url in enumerate(urls):\n",
    "    print('url', url)\n",
    "    # 시간, 미국, 한국 접속사이트에 따라 attribute 가 변경되서 나타나기 때문에 error  처리를 위해 try 사용\n",
    "    count = 0\n",
    "    while True:\n",
    "        try :\n",
    "#             res = requests.get(url, headers=headers)\n",
    "            res = scraper.get(url, headers=headers)\n",
    "            df = pd.read_html(res.text, attrs={\"id\": \"curr_table\"}, flavor=[\"lxml\", \"bs4\"])[0]\n",
    "            break\n",
    "        except:\n",
    "#             res = requests.get(url, headers=headers)\n",
    "            res = scraper.get(url, headers=headers)\n",
    "            df = pd.read_html(res.text, attrs={\"data-test\": \"historical-data-table\"}, flavor=[\"lxml\", \"bs4\"])[0]\n",
    "            break\n",
    "        finally:\n",
    "            time.sleep(1)\n",
    "            count += 1\n",
    "            if count > 5 :\n",
    "                raise ValueError('The url request is delaying')\n",
    "#                 break\n",
    "                \n",
    "#     print(url)\n",
    "#     print(i, col_names[i])\n",
    "    df.columns = col_names[i]\n",
    "    \n",
    "    # 시간, 미국, 한국 접속사이트에 따라 attribute 가 변경되서 나타나기 때문에 error  처리를 위해 try 사용\n",
    "    try:\n",
    "        df['date'] = df['date'].apply(lambda x : datetime.datetime.strptime(x, \"%b %d, %Y\"))\n",
    "    except:\n",
    "        df['date'] = df['date'].apply(lambda x : datetime.datetime.strptime(x, \"%m/%d/%Y\"))\n",
    "    \n",
    "    df.sort_values(by=['date'], inplace=True)\n",
    "    df.drop_duplicates(subset=['date'], inplace=True)\n",
    "    df_select = df[col_names_s[i]]\n",
    "    df_select.set_index('date', inplace=True)\n",
    "    \n",
    "    start_date = df_select.index[0]\n",
    "    end_date = df_select.index[-1]\n",
    "    print(\"start date, end data\", start_date, end_date)\n",
    "    df_select = make_datetime_series_df(df_select, start_date, end_date)\n",
    "\n",
    "    df_org.update(df_select)"
   ]
  },
  {
   "cell_type": "markdown",
   "id": "hydraulic-driving",
   "metadata": {},
   "source": [
    "#### get append cpi"
   ]
  },
  {
   "cell_type": "code",
   "execution_count": 18,
   "id": "welcome-bailey",
   "metadata": {},
   "outputs": [],
   "source": [
    "cpi_url = 'https://www.investing.com/economic-calendar/cpi-733'"
   ]
  },
  {
   "cell_type": "code",
   "execution_count": 19,
   "id": "quick-universe",
   "metadata": {},
   "outputs": [],
   "source": [
    "res = scraper.get(cpi_url, headers=headers)\n",
    "df = pd.read_html(res.text, flavor=[\"lxml\", \"bs4\"])[0]\n",
    "df.columns = ['date', 'time', 'cpi', 'cpi_anticipated', 'cpi_previous', 'none']\n",
    "df['time'] = df['time'].apply(lambda x : datetime.datetime.strptime(x, \"%H:%M\").time())\n",
    "df['date'] = df['date'].apply(lambda x : datetime.datetime.strptime(x[:12], \"%b %d, %Y\"))\n",
    "\n",
    "df.sort_values(by=['date'], inplace=True)\n",
    "df.drop_duplicates(subset=['date'], inplace=True)\n",
    "df_select = df[['date', 'cpi', 'cpi_anticipated', 'cpi_previous']]\n",
    "df_select.set_index('date', inplace=True)\n",
    "\n",
    "start_date = df_select.index[0]\n",
    "end_date = df_select.index[-1]\n",
    "df_select = make_datetime_series_df(df_select, start_date, end_date)\n",
    "\n",
    "df_org.update(df_select)"
   ]
  },
  {
   "cell_type": "markdown",
   "id": "professional-allergy",
   "metadata": {},
   "source": [
    "#### get append fear and greed"
   ]
  },
  {
   "cell_type": "code",
   "execution_count": 20,
   "id": "affiliated-married",
   "metadata": {},
   "outputs": [],
   "source": [
    "import pytz, json"
   ]
  },
  {
   "cell_type": "code",
   "execution_count": 21,
   "id": "suburban-simulation",
   "metadata": {},
   "outputs": [],
   "source": [
    "today = datetime.date.today()\n",
    "today_p = today.strftime('%Y%m%d')\n",
    "diff_days = datetime.timedelta(days=30)\n",
    "today = today - diff_days\n",
    "start_date = today.strftime('%Y-%m-%d')"
   ]
  },
  {
   "cell_type": "code",
   "execution_count": 22,
   "id": "nervous-steel",
   "metadata": {},
   "outputs": [],
   "source": [
    "BASE_URL = \"https://production.dataviz.cnn.io/index/fearandgreed/graphdata\"\n",
    "# START_DATE = '2022-01-01'\n",
    "START_DATE = start_date"
   ]
  },
  {
   "cell_type": "code",
   "execution_count": 23,
   "id": "7ad6adda",
   "metadata": {},
   "outputs": [],
   "source": [
    "def transform_timezone(x):\n",
    "    dt = datetime.datetime.fromtimestamp(x / 1000, tz=pytz.utc)\n",
    "#     tzone = pytz.timezone('US/Eastern')\n",
    "    tzone = pytz.timezone('Asia/Seoul')\n",
    "    loc_dt = dt.astimezone(tzone)\n",
    "    return loc_dt.date()"
   ]
  },
  {
   "cell_type": "code",
   "execution_count": 24,
   "id": "governmental-undergraduate",
   "metadata": {},
   "outputs": [],
   "source": [
    "r = requests.get(\"{}/{}\".format(BASE_URL, START_DATE), headers=headers)\n",
    "data = r.json()\n",
    "fg_data = data['fear_and_greed_historical']['data']"
   ]
  },
  {
   "cell_type": "code",
   "execution_count": 25,
   "id": "cb1c6b05",
   "metadata": {},
   "outputs": [],
   "source": [
    "df = pd.DataFrame(fg_data)\n",
    "df.columns = ['date', 'f_g_index', 'rating']\n",
    "# df.head()"
   ]
  },
  {
   "cell_type": "code",
   "execution_count": 26,
   "id": "d0de7f8a",
   "metadata": {},
   "outputs": [],
   "source": [
    "df['date'] = df['date'].apply(lambda x: transform_timezone(x))\n",
    "df['f_g_index'] = df['f_g_index'].astype('int')\n",
    "\n",
    "df.sort_values(by=['date'], inplace=True)\n",
    "df.drop_duplicates(subset=['date'], inplace=True) # 중복항목 삭제. 필수 검토해야 함. 중복입력되는 경우 다수 발생\n",
    "\n",
    "df_select = df[['date', 'f_g_index']]\n",
    "df_select.set_index('date', inplace=True)\n",
    "\n",
    "start_date = df_select.index[0]\n",
    "end_date = df_select.index[-1]\n",
    "df_select = make_datetime_series_df(df_select, start_date, end_date)\n",
    "\n",
    "df_org.update(df_select)"
   ]
  },
  {
   "cell_type": "code",
   "execution_count": 27,
   "id": "fc27473b",
   "metadata": {},
   "outputs": [],
   "source": [
    "# df_org.reset_index(inplace=True)\n",
    "# df_org.to_csv('data/data_common.csv', index=False)"
   ]
  },
  {
   "cell_type": "markdown",
   "id": "67a7f19a",
   "metadata": {},
   "source": [
    "#### get and append gold price"
   ]
  },
  {
   "cell_type": "code",
   "execution_count": 28,
   "id": "66d4bcc2",
   "metadata": {},
   "outputs": [],
   "source": [
    "gold_url = 'https://www.usagold.com/daily-gold-price-history/'"
   ]
  },
  {
   "cell_type": "code",
   "execution_count": 29,
   "id": "2b7ebda2",
   "metadata": {},
   "outputs": [],
   "source": [
    "res = requests.get(gold_url, headers=headers)\n",
    "df = pd.read_html(res.text, flavor=[\"lxml\", \"bs4\"])\n",
    "df = df[0].drop(0) # delete empty first row\n",
    "df.columns = ['date', 'gold']\n",
    "df['date'] = df['date'].apply(lambda x : datetime.datetime.strptime(x, \"%d %b %Y\"))\n",
    "df.sort_values(by=['date'], inplace=True)\n",
    "df.drop_duplicates(subset=['date'], inplace=True) "
   ]
  },
  {
   "cell_type": "code",
   "execution_count": 30,
   "id": "49c3ae4b",
   "metadata": {},
   "outputs": [],
   "source": [
    "# calculate change_rate\n",
    "df_shift_p1 = df['gold'].shift(1)\n",
    "df['gold_cr'] = (df['gold'] - df_shift_p1)/df_shift_p1\n",
    "df.replace(np.nan, '', inplace=True)\n",
    "# df.head()"
   ]
  },
  {
   "cell_type": "code",
   "execution_count": 31,
   "id": "d8747b25",
   "metadata": {},
   "outputs": [],
   "source": [
    "df.set_index('date', inplace=True)\n",
    "\n",
    "start_date = df.index[0]\n",
    "end_date = df.index[-1]\n",
    "df = make_datetime_series_df(df, start_date, end_date)\n",
    "\n",
    "df_org.update(df)"
   ]
  },
  {
   "cell_type": "markdown",
   "id": "c6771fd5",
   "metadata": {},
   "source": [
    "### fed 금리 get append"
   ]
  },
  {
   "cell_type": "code",
   "execution_count": 32,
   "id": "b27dd9b7",
   "metadata": {},
   "outputs": [],
   "source": [
    "interest_url = 'https://www.investing.com/economic-calendar/interest-rate-decision-168/'"
   ]
  },
  {
   "cell_type": "code",
   "execution_count": 33,
   "id": "47e24196",
   "metadata": {},
   "outputs": [],
   "source": [
    "res = scraper.get(interest_url, headers=headers)\n",
    "df = pd.read_html(res.text, flavor=[\"lxml\", \"bs4\"])[0]\n",
    "# df.head()"
   ]
  },
  {
   "cell_type": "code",
   "execution_count": 34,
   "id": "a344c3d8",
   "metadata": {},
   "outputs": [],
   "source": [
    "df.columns = ['date', 'time', 'fed_rate', 'fed_rate_fore', 'fed_rate_prev', 'none']"
   ]
  },
  {
   "cell_type": "code",
   "execution_count": 35,
   "id": "1b36da94",
   "metadata": {},
   "outputs": [],
   "source": [
    "df['date'] = df['date'].apply(lambda x : datetime.datetime.strptime(x[:12], \"%b %d, %Y\"))\n",
    "df['time'] = df['time'].apply(lambda x : datetime.datetime.strptime(x, \"%H:%M\").time())\n",
    "df.sort_values(by=['date'], inplace=True)\n",
    "df.drop_duplicates(subset=['date'], inplace=True) "
   ]
  },
  {
   "cell_type": "code",
   "execution_count": 36,
   "id": "3cd7df60",
   "metadata": {},
   "outputs": [],
   "source": [
    "df_select = df[['date', 'fed_rate', 'fed_rate_fore', 'fed_rate_prev']]\n",
    "df_select.set_index('date', inplace=True)\n",
    "\n",
    "start_date = df_select.index[0]\n",
    "end_date = df_select.index[-1]\n",
    "df_select = make_datetime_series_df(df_select, start_date, end_date)\n",
    "\n",
    "df_org.update(df_select)"
   ]
  },
  {
   "cell_type": "markdown",
   "id": "18ddc5b3",
   "metadata": {},
   "source": [
    "### 한국은행 금리 get append"
   ]
  },
  {
   "cell_type": "code",
   "execution_count": 37,
   "id": "827eed7c",
   "metadata": {},
   "outputs": [],
   "source": [
    "kor_url = 'https://www.bok.or.kr/portal/singl/baseRate/list.do?dataSeCd=01&menuNo=200643'"
   ]
  },
  {
   "cell_type": "code",
   "execution_count": 38,
   "id": "165dd0c2",
   "metadata": {},
   "outputs": [],
   "source": [
    "res = requests.get(kor_url, headers=headers)\n",
    "df = pd.read_html(res.text, attrs = {'class': 'fixed'}, flavor=[\"lxml\", \"bs4\"])[0]"
   ]
  },
  {
   "cell_type": "code",
   "execution_count": 39,
   "id": "75736723",
   "metadata": {},
   "outputs": [],
   "source": [
    "df.columns=  ['release_yr', 'release_date', 'bok_rate']\n",
    "df_date_temp = df['release_yr'].astype('str')+df['release_date']\n",
    "df['date'] = df_date_temp.apply(lambda x : datetime.datetime.strptime(x, \"%Y%m월 %d일\"))\n",
    "df.sort_values(by=['date'], inplace=True)\n",
    "df.drop_duplicates(subset=['date'], inplace=True) "
   ]
  },
  {
   "cell_type": "code",
   "execution_count": 40,
   "id": "7dc80447",
   "metadata": {},
   "outputs": [],
   "source": [
    "df_select = df[['date', 'bok_rate']] # leave only valid columns\n",
    "df_select.set_index('date', inplace=True)\n",
    "\n",
    "df_org.update(df_select)"
   ]
  },
  {
   "cell_type": "markdown",
   "id": "2017e548",
   "metadata": {},
   "source": [
    "### make csv file"
   ]
  },
  {
   "cell_type": "code",
   "execution_count": 41,
   "id": "57936ad3",
   "metadata": {},
   "outputs": [],
   "source": [
    "df_org.reset_index(inplace=True)\n",
    "df_org.to_csv('data/data_common.csv', index=False)"
   ]
  },
  {
   "cell_type": "code",
   "execution_count": 42,
   "id": "09fbc807",
   "metadata": {},
   "outputs": [
    {
     "data": {
      "text/html": [
       "<div>\n",
       "<style scoped>\n",
       "    .dataframe tbody tr th:only-of-type {\n",
       "        vertical-align: middle;\n",
       "    }\n",
       "\n",
       "    .dataframe tbody tr th {\n",
       "        vertical-align: top;\n",
       "    }\n",
       "\n",
       "    .dataframe thead th {\n",
       "        text-align: right;\n",
       "    }\n",
       "</style>\n",
       "<table border=\"1\" class=\"dataframe\">\n",
       "  <thead>\n",
       "    <tr style=\"text-align: right;\">\n",
       "      <th></th>\n",
       "      <th>ixic</th>\n",
       "      <th>dji</th>\n",
       "      <th>spx</th>\n",
       "    </tr>\n",
       "    <tr>\n",
       "      <th>date</th>\n",
       "      <th></th>\n",
       "      <th></th>\n",
       "      <th></th>\n",
       "    </tr>\n",
       "  </thead>\n",
       "  <tbody>\n",
       "    <tr>\n",
       "      <th>2022-08-01</th>\n",
       "      <td>12368.98</td>\n",
       "      <td>32799.18</td>\n",
       "      <td>4118.63</td>\n",
       "    </tr>\n",
       "    <tr>\n",
       "      <th>2022-08-02</th>\n",
       "      <td>12348.76</td>\n",
       "      <td>32396.76</td>\n",
       "      <td>4091.19</td>\n",
       "    </tr>\n",
       "    <tr>\n",
       "      <th>2022-08-03</th>\n",
       "      <td>12668.16</td>\n",
       "      <td>32812.0</td>\n",
       "      <td>4155.17</td>\n",
       "    </tr>\n",
       "    <tr>\n",
       "      <th>2022-08-04</th>\n",
       "      <td>12720.58</td>\n",
       "      <td>32727.19</td>\n",
       "      <td>4151.94</td>\n",
       "    </tr>\n",
       "    <tr>\n",
       "      <th>2022-08-05</th>\n",
       "      <td>12657.55</td>\n",
       "      <td>32801.51</td>\n",
       "      <td>4145.19</td>\n",
       "    </tr>\n",
       "    <tr>\n",
       "      <th>2022-08-06</th>\n",
       "      <td></td>\n",
       "      <td></td>\n",
       "      <td></td>\n",
       "    </tr>\n",
       "    <tr>\n",
       "      <th>2022-08-07</th>\n",
       "      <td></td>\n",
       "      <td></td>\n",
       "      <td></td>\n",
       "    </tr>\n",
       "    <tr>\n",
       "      <th>2022-08-08</th>\n",
       "      <td>12644.46</td>\n",
       "      <td>32831.92</td>\n",
       "      <td>4140.06</td>\n",
       "    </tr>\n",
       "    <tr>\n",
       "      <th>2022-08-09</th>\n",
       "      <td>12493.93</td>\n",
       "      <td>32776.25</td>\n",
       "      <td>4122.47</td>\n",
       "    </tr>\n",
       "    <tr>\n",
       "      <th>2022-08-10</th>\n",
       "      <td>12854.8</td>\n",
       "      <td>33309.45</td>\n",
       "      <td>4210.24</td>\n",
       "    </tr>\n",
       "    <tr>\n",
       "      <th>2022-08-11</th>\n",
       "      <td>12779.91</td>\n",
       "      <td>33337.13</td>\n",
       "      <td>4207.27</td>\n",
       "    </tr>\n",
       "    <tr>\n",
       "      <th>2022-08-12</th>\n",
       "      <td>13047.19</td>\n",
       "      <td>33761.11</td>\n",
       "      <td>4280.15</td>\n",
       "    </tr>\n",
       "  </tbody>\n",
       "</table>\n",
       "</div>"
      ],
      "text/plain": [
       "                ixic       dji      spx\n",
       "date                                   \n",
       "2022-08-01  12368.98  32799.18  4118.63\n",
       "2022-08-02  12348.76  32396.76  4091.19\n",
       "2022-08-03  12668.16   32812.0  4155.17\n",
       "2022-08-04  12720.58  32727.19  4151.94\n",
       "2022-08-05  12657.55  32801.51  4145.19\n",
       "2022-08-06                             \n",
       "2022-08-07                             \n",
       "2022-08-08  12644.46  32831.92  4140.06\n",
       "2022-08-09  12493.93  32776.25  4122.47\n",
       "2022-08-10   12854.8  33309.45  4210.24\n",
       "2022-08-11  12779.91  33337.13  4207.27\n",
       "2022-08-12  13047.19  33761.11  4280.15"
      ]
     },
     "execution_count": 42,
     "metadata": {},
     "output_type": "execute_result"
    }
   ],
   "source": [
    "df_org.set_index('date').loc['2022-08-01':'2022-08-12', ['ixic', 'dji', 'spx']]"
   ]
  },
  {
   "cell_type": "markdown",
   "id": "a6d1c8a6",
   "metadata": {},
   "source": [
    "## avoid 403 cloudflare"
   ]
  },
  {
   "cell_type": "markdown",
   "id": "c4ebc7d2",
   "metadata": {},
   "source": [
    " I was looking at some of the cookies and saw there were some cookies that were linked to the current time and date, and those could possibly be manipulated to bypass it. "
   ]
  },
  {
   "cell_type": "markdown",
   "id": "2e15892a",
   "metadata": {},
   "source": [
    "https://stackoverflow.com/questions/70369790/python-requests-response-403-forbidden"
   ]
  },
  {
   "cell_type": "markdown",
   "id": "e45004fd",
   "metadata": {},
   "source": [
    "https://www.investing.com/robots.txt\n",
    "cookies = {\n",
    "    \"__cfduid\": \"xd0c0985ed80ffbc4dd29d1612168766\",\n",
    "}"
   ]
  },
  {
   "cell_type": "markdown",
   "id": "4bc43b4b",
   "metadata": {},
   "source": [
    "403. cloudflare error는 아래 사이트 답으로 코드 수정함."
   ]
  },
  {
   "cell_type": "markdown",
   "id": "af23017a",
   "metadata": {},
   "source": [
    "https://qna.programmers.co.kr/questions/9558/python-requests%EB%A1%9C-%EB%8D%B0%EC%9D%B4%ED%84%B0-%EA%B0%80%EC%A0%B8%EC%98%AC-%EB%95%8C-403-forbidden%EC%9D%B4-%EB%82%98%ED%83%80%EB%82%98%EB%8A%94-%EB%AC%B8%EC%A0%9C-%EC%A7%88%EB%AC%B8%EB%93%9C%EB%A6%BD%EB%8B%88%EB%8B%A4"
   ]
  }
 ],
 "metadata": {
  "kernelspec": {
   "display_name": "Python 3",
   "language": "python",
   "name": "python3"
  },
  "language_info": {
   "codemirror_mode": {
    "name": "ipython",
    "version": 3
   },
   "file_extension": ".py",
   "mimetype": "text/x-python",
   "name": "python",
   "nbconvert_exporter": "python",
   "pygments_lexer": "ipython3",
   "version": "3.9.1"
  }
 },
 "nbformat": 4,
 "nbformat_minor": 5
}
